{
 "cells": [
  {
   "cell_type": "code",
   "execution_count": 1,
   "metadata": {},
   "outputs": [
    {
     "name": "stderr",
     "output_type": "stream",
     "text": [
      "Using TensorFlow backend.\n"
     ]
    }
   ],
   "source": [
    "import os\n",
    "import pickle\n",
    "import numpy \n",
    "import pandas as pd\n",
    "#import cv2\n",
    "import matplotlib.pyplot as plt\n",
    "from PIL import Image\n",
    "from pylab import *\n",
    "from matplotlib import pyplot\n",
    "\n",
    "from scipy. ndimage import filters\n",
    "import pandas as pd\n",
    "import os\n",
    "from keras.models import Model, Sequential, save_model, load_model\n",
    "import math\n",
    "from sklearn.metrics import mean_squared_error\n",
    "\n",
    "import random\n",
    "from sklearn.preprocessing import MinMaxScaler\n",
    "import h5py\n",
    "import tensorflow as tf"
   ]
  },
  {
   "cell_type": "code",
   "execution_count": 2,
   "metadata": {},
   "outputs": [],
   "source": [
    "import os \n",
    "import pickle\n",
    "import numpy as np\n",
    "import random\n",
    "\n",
    "def preprocess(data_dirs, data_file,name):\n",
    "    # all_ped_data would be a dictionary with mapping from each ped to their\n",
    "    # trajectories given by matrix 3 x numPoints with each column\n",
    "    # in the order x, y, frameId\n",
    "    # Pedestrians from all datasets are combined\n",
    "    # Dataset pedestrian indices are stored in dataset_indices\n",
    "    all_ped_data={}\n",
    "    dataset_indices=[]\n",
    "    current_ped = 0\n",
    "    # For each dataset\n",
    "    for directory in data_dirs:\n",
    "        # Define the path to its respective csv file\n",
    "        #PETS2009-S2L1-mmundo.csv\n",
    "        #'PETS09-S2L1.txt'\n",
    "        file_path = os.path.join(directory,name )\n",
    "\n",
    "        # Cargar datos desde el archivo csv\n",
    "        # Los datos son una matriz 4x numTrajPoints\n",
    "        \n",
    "        \n",
    "        data = np.genfromtxt(file_path, delimiter=',')\n",
    "       \n",
    "        \n",
    "        # Obtenga el numero de peatones en el conjunto de datos actual\n",
    "        uni=np.unique(data[:,1])    \n",
    "        numPeds=np.size(np.unique(data[:,1]))\n",
    "     \n",
    "        print(\"peatones.............\")\n",
    "        print(numPeds)\n",
    "       \n",
    "        # Para cada peaton en el conjunto de datos\n",
    "        for ped in range(1, numPeds+1):\n",
    "            #Son los datos de la persona ped\n",
    "            traj = data[ data[:, 1] == ped]\n",
    "            #Esta como (x,y,frame_Id)\n",
    "            traj = traj[:, [2,3,0]]\n",
    "            \n",
    "            #Esta como [[x,...],[y,...],[Frame_Id,..]]\n",
    "            traj=[list(traj[:,0]),list(traj[:,1]),list(traj[:,2])]\n",
    "            all_ped_data[current_ped + ped] = np.array(traj)\n",
    "\n",
    "        # Current dataset done\n",
    "        dataset_indices.append(current_ped+numPeds)\n",
    "        current_ped += numPeds\n",
    "\n",
    "    # Los datos completos son una tupla de todos los datos de peatones y los indices de datos del conjunto de datos.\n",
    "    complete_data = (all_ped_data, dataset_indices)\n",
    "    # Almacena los datos completos en el archivo pickle\n",
    "    f = open(data_file, \"wb\")\n",
    "    pickle.dump(complete_data, f, protocol=2)\n",
    "    f.close()\n",
    "    return complete_data"
   ]
  },
  {
   "cell_type": "code",
   "execution_count": 24,
   "metadata": {},
   "outputs": [],
   "source": [
    "def load_preprocessed(data_file,seq_length_obs,batch_size):\n",
    "    \n",
    "    # cargar los datos\n",
    "    f = open(data_file, \"rb\")\n",
    "    raw_data = pickle.load(f)\n",
    "    f.close()\n",
    "\n",
    "    # Obtengo los peatones\n",
    "    all_ped_data =raw_data[0]\n",
    " \n",
    "    #all_ped_data es el vector {[[],[],[]],...,[[],[],[]]} tantos como pedestrian hayan\n",
    "    # No usamos dataset_indices por ahora\n",
    "    # dataset_indices = self.raw_data[1]\n",
    "\n",
    "    # Construimos data con secuencias(o trayectorias) del largo than seq_length_obs\n",
    "    data = []\n",
    "    counter = 0\n",
    "\n",
    "    # para cada peaton en data\n",
    "    for ped in all_ped_data:\n",
    "        \n",
    "        #ped es un numero entero y va de 1 hasta la cantidad total de pedestrian\n",
    "        # Extract his trajectory\n",
    "        traj = all_ped_data[ped]\n",
    "        \n",
    "           \n",
    "        # If the length of the trajectory is greater than seq_length (+2 as we need both source and target data)\n",
    "        #solo se toman las trajectorias de longitud mayor a seq_length+2\n",
    "        if traj.shape[1] >= (seq_length_obs+1):\n",
    "            # TODO: (Improve) Store only the (x,y) coordinates for now\n",
    "               \n",
    "            data.append(traj[[0, 1], :].T)\n",
    "            #print(traj[[0, 1], :].T)\n",
    "            # Number of batches this datapoint is worth\n",
    "            #print(traj.shape[1] )\n",
    "            #print(int(traj.shape[1] / ((seq_length_obs+1))))\n",
    "            counter += int(traj.shape[1] / ((seq_length_obs+1)))\n",
    "        \n",
    "    # Calculate the number of batches (each of batch_size) in the data\n",
    "    #counter tiene la cantidad de bloques de 8 pasos\n",
    "        \n",
    "    num_batches = int(counter /batch_size)\n",
    "    #cada bache tiene batch_size conjuntos donde cada conjunto tiene datos de length+2\n",
    "    return data,num_batches"
   ]
  },
  {
   "cell_type": "code",
   "execution_count": 4,
   "metadata": {},
   "outputs": [
    {
     "name": "stdout",
     "output_type": "stream",
     "text": [
      "peatones.............\n",
      "19\n"
     ]
    }
   ],
   "source": [
    "#data_dirs = ['../data1/pets']\n",
    "#data_dirs = ['../data1/ucy/zara/zara01']\n",
    "#data_dirs = ['../data1/ucy/univ']\n",
    "data_dirs = ['../data1/pets']\n",
    "datasets=[0]\n",
    "\n",
    "used_data_dirs = [data_dirs[x] for x in datasets]\n",
    "#Directorio de datos donde reside el archivo pickle preprocesado\n",
    "data_dir = '../data1'\n",
    "\n",
    "#Defina la ruta del archivo en el que deben almacenarse los datos.\n",
    "data_file = os.path.join(data_dir, \"datos_limpios_pets.cpkl\")\n",
    "\n",
    "name ='pixel_pos_2.csv'\n",
    "# If the file doesn't exist already or if forcePreProcess is true\n",
    "#se usa preprocesscsv para los csv y preprocess para el .txt\n",
    "\n",
    "data = preprocess(used_data_dirs, data_file,name)\n",
    "datos,numero = load_preprocessed(data_file,12,1)#los ultimos dos valores noimportan"
   ]
  },
  {
   "cell_type": "code",
   "execution_count": 5,
   "metadata": {},
   "outputs": [],
   "source": [
    "def secuencia(seq_length_obs,data):  \n",
    "    tamano=int(len(data))\n",
    "    \n",
    "    X,Y=[],[]\n",
    "    for j in range(tamano):\n",
    "        traj = data[j]\n",
    "        lon = traj.shape[0]-seq_length_obs\n",
    "    #lon=data.shape[0]-seq_length_obs-seq_length_pred\n",
    "        for i in range(0,lon):\n",
    "            a =traj[i:(i +seq_length_obs ), :]\n",
    "            X.append(a)\n",
    "            b = traj[i +seq_length_obs,:]\n",
    "            Y.append(b)\n",
    "    return np.array(X),np.array(Y)"
   ]
  },
  {
   "cell_type": "markdown",
   "metadata": {},
   "source": [
    "## Calcular los conjuntos de entrenamiento, test and val de todas las secuencias que se generaron "
   ]
  },
  {
   "cell_type": "code",
   "execution_count": 6,
   "metadata": {},
   "outputs": [
    {
     "name": "stdout",
     "output_type": "stream",
     "text": [
      "('Cantidad total peatones', 19)\n",
      "('Peatones para entrenamiento es ', 15)\n",
      "('Peatones para test es ', 4)\n"
     ]
    }
   ],
   "source": [
    "import random\n",
    "random.seed(0)\n",
    "datos = np.array(datos)\n",
    "\n",
    "\n",
    "array_new = arange(len(datos))\n",
    "random.shuffle(array_new)\n",
    "longitud = len(array_new)\n",
    "train_size = int(longitud * 0.80)\n",
    "test_size = longitud-train_size\n",
    "\n",
    "train = datos[array_new[0:train_size]]\n",
    "test = datos[array_new[train_size:]]\n",
    "\n",
    "print(\"Cantidad total peatones\", len(datos))\n",
    "print(\"Peatones para entrenamiento es \" ,len(train))\n",
    "print(\"Peatones para test es \" ,len(test))\n"
   ]
  },
  {
   "cell_type": "code",
   "execution_count": 7,
   "metadata": {},
   "outputs": [],
   "source": [
    "trainX,trainY = secuencia(8,train)"
   ]
  },
  {
   "cell_type": "code",
   "execution_count": 8,
   "metadata": {},
   "outputs": [],
   "source": [
    "trainX = numpy.reshape(trainX, (trainX.shape[0], trainX.shape[1],trainX.shape[2]))"
   ]
  },
  {
   "cell_type": "code",
   "execution_count": 9,
   "metadata": {},
   "outputs": [
    {
     "name": "stdout",
     "output_type": "stream",
     "text": [
      "(8, 2)\n"
     ]
    },
    {
     "data": {
      "text/plain": [
       "(1888, 8, 2)"
      ]
     },
     "execution_count": 9,
     "metadata": {},
     "output_type": "execute_result"
    }
   ],
   "source": [
    "data_shape = trainX.shape[1:]\n",
    "print(data_shape)\n",
    "\n",
    "import numpy as np\n",
    "np.shape(trainX)"
   ]
  },
  {
   "cell_type": "raw",
   "metadata": {},
   "source": [
    "from keras.layers import Input, Dense, LSTM\n",
    "from keras.models import Model\n",
    "from keras import backend as K\n",
    "\n",
    "def coordenadas_absolutas(unit,input_shape):\n",
    "    X_input = Input(input_shape, name = 'input')\n",
    "    Salida1 = LSTM(unit, return_sequences = True, input_shape = data_shape, name='lstm1')(X_input)\n",
    "    Salida2 = LSTM(unit, input_shape = data_shape, name = 'lstm2')(Salida1)\n",
    "    outputs = Dense(2,name='output')(Salida2)\n",
    "    #print(outputs.get_shape().as_list())\n",
    "    Xmodel = Model(X_input, outputs)\n",
    "    return Xmodel\n",
    "    "
   ]
  },
  {
   "cell_type": "code",
   "execution_count": 10,
   "metadata": {},
   "outputs": [
    {
     "name": "stderr",
     "output_type": "stream",
     "text": [
      "WARNING: Logging before flag parsing goes to stderr.\n",
      "W1120 17:07:49.022947 139633584551680 deprecation_wrapper.py:119] From /home/andrea/anaconda2/lib/python2.7/site-packages/keras/backend/tensorflow_backend.py:74: The name tf.get_default_graph is deprecated. Please use tf.compat.v1.get_default_graph instead.\n",
      "\n",
      "W1120 17:07:49.038259 139633584551680 deprecation_wrapper.py:119] From /home/andrea/anaconda2/lib/python2.7/site-packages/keras/backend/tensorflow_backend.py:517: The name tf.placeholder is deprecated. Please use tf.compat.v1.placeholder instead.\n",
      "\n",
      "W1120 17:07:49.041594 139633584551680 deprecation_wrapper.py:119] From /home/andrea/anaconda2/lib/python2.7/site-packages/keras/backend/tensorflow_backend.py:4138: The name tf.random_uniform is deprecated. Please use tf.random.uniform instead.\n",
      "\n"
     ]
    }
   ],
   "source": [
    "from keras.models import Sequential\n",
    "from keras import optimizers\n",
    "from keras.regularizers import l1, l2, l1_l2\n",
    "from keras.layers import Dense\n",
    "from keras.layers import LSTM\n",
    "from keras.layers import GRU\n",
    "from keras.callbacks import EarlyStopping\n",
    "from keras import initializers\n",
    "from datetime import datetime\n",
    "from keras.utils import plot_model\n",
    "\n",
    "\n",
    "\n",
    "if 'model' in globals(): del model\n",
    "model = None\n",
    "model = Sequential()\n",
    "model.add(LSTM(9, return_sequences=True, input_shape=data_shape, name='lstm1'))\n",
    "model.add(LSTM(9, name='lstm2'))\n",
    "model.add(Dense(2))"
   ]
  },
  {
   "cell_type": "code",
   "execution_count": 11,
   "metadata": {},
   "outputs": [
    {
     "name": "stdout",
     "output_type": "stream",
     "text": [
      "_________________________________________________________________\n",
      "Layer (type)                 Output Shape              Param #   \n",
      "=================================================================\n",
      "lstm1 (LSTM)                 (None, 8, 9)              432       \n",
      "_________________________________________________________________\n",
      "lstm2 (LSTM)                 (None, 9)                 684       \n",
      "_________________________________________________________________\n",
      "dense_1 (Dense)              (None, 2)                 20        \n",
      "=================================================================\n",
      "Total params: 1,136\n",
      "Trainable params: 1,136\n",
      "Non-trainable params: 0\n",
      "_________________________________________________________________\n"
     ]
    }
   ],
   "source": [
    "model.summary()"
   ]
  },
  {
   "cell_type": "code",
   "execution_count": 12,
   "metadata": {},
   "outputs": [
    {
     "name": "stderr",
     "output_type": "stream",
     "text": [
      "W1120 17:07:51.722701 139633584551680 deprecation_wrapper.py:119] From /home/andrea/anaconda2/lib/python2.7/site-packages/keras/optimizers.py:790: The name tf.train.Optimizer is deprecated. Please use tf.compat.v1.train.Optimizer instead.\n",
      "\n",
      "W1120 17:07:51.733896 139633584551680 deprecation_wrapper.py:119] From /home/andrea/anaconda2/lib/python2.7/site-packages/keras/backend/tensorflow_backend.py:1521: The name tf.log is deprecated. Please use tf.math.log instead.\n",
      "\n",
      "W1120 17:07:51.959050 139633584551680 deprecation.py:323] From /home/andrea/anaconda2/lib/python2.7/site-packages/tensorflow/python/ops/math_grad.py:1250: where (from tensorflow.python.ops.array_ops) is deprecated and will be removed in a future version.\n",
      "Instructions for updating:\n",
      "Use tf.where in 2.0, which has the same broadcast rule as np.where\n",
      "W1120 17:07:53.141477 139633584551680 deprecation_wrapper.py:119] From /home/andrea/anaconda2/lib/python2.7/site-packages/keras/backend/tensorflow_backend.py:986: The name tf.assign_add is deprecated. Please use tf.compat.v1.assign_add instead.\n",
      "\n"
     ]
    },
    {
     "name": "stdout",
     "output_type": "stream",
     "text": [
      "Epoch 1/100\n",
      " - 2s - loss: 0.0064 - mean_squared_error: 0.0133\n",
      "Epoch 2/100\n",
      " - 1s - loss: 0.0013 - mean_squared_error: 0.0026\n",
      "Epoch 3/100\n",
      " - 1s - loss: 0.0011 - mean_squared_error: 0.0021\n",
      "Epoch 4/100\n",
      " - 1s - loss: 9.4343e-04 - mean_squared_error: 0.0019\n",
      "Epoch 5/100\n",
      " - 1s - loss: 8.8244e-04 - mean_squared_error: 0.0018\n",
      "Epoch 6/100\n",
      " - 1s - loss: 8.1523e-04 - mean_squared_error: 0.0016\n",
      "Epoch 7/100\n",
      " - 1s - loss: 7.7164e-04 - mean_squared_error: 0.0015\n",
      "Epoch 8/100\n",
      " - 1s - loss: 7.3150e-04 - mean_squared_error: 0.0015\n",
      "Epoch 9/100\n",
      " - 1s - loss: 6.9703e-04 - mean_squared_error: 0.0014\n",
      "Epoch 10/100\n",
      " - 1s - loss: 6.6120e-04 - mean_squared_error: 0.0013\n",
      "Epoch 11/100\n",
      " - 1s - loss: 6.2308e-04 - mean_squared_error: 0.0012\n",
      "Epoch 12/100\n",
      " - 1s - loss: 6.0265e-04 - mean_squared_error: 0.0012\n",
      "Epoch 13/100\n",
      " - 1s - loss: 5.7572e-04 - mean_squared_error: 0.0012\n",
      "Epoch 14/100\n",
      " - 1s - loss: 5.4953e-04 - mean_squared_error: 0.0011\n",
      "Epoch 15/100\n",
      " - 1s - loss: 5.1711e-04 - mean_squared_error: 0.0010\n",
      "Epoch 16/100\n",
      " - 1s - loss: 4.9145e-04 - mean_squared_error: 9.8341e-04\n",
      "Epoch 17/100\n",
      " - 1s - loss: 4.6431e-04 - mean_squared_error: 9.2907e-04\n",
      "Epoch 18/100\n",
      " - 1s - loss: 4.3366e-04 - mean_squared_error: 8.6770e-04\n",
      "Epoch 19/100\n",
      " - 1s - loss: 4.0561e-04 - mean_squared_error: 8.1156e-04\n",
      "Epoch 20/100\n",
      " - 1s - loss: 3.7333e-04 - mean_squared_error: 7.4692e-04\n",
      "Epoch 21/100\n",
      " - 1s - loss: 3.4227e-04 - mean_squared_error: 6.8476e-04\n",
      "Epoch 22/100\n",
      " - 1s - loss: 3.1227e-04 - mean_squared_error: 6.2471e-04\n",
      "Epoch 23/100\n",
      " - 1s - loss: 2.8379e-04 - mean_squared_error: 5.6773e-04\n",
      "Epoch 24/100\n",
      " - 1s - loss: 2.5965e-04 - mean_squared_error: 5.1942e-04\n",
      "Epoch 25/100\n",
      " - 1s - loss: 2.3952e-04 - mean_squared_error: 4.7914e-04\n",
      "Epoch 26/100\n",
      " - 1s - loss: 2.1842e-04 - mean_squared_error: 4.3692e-04\n",
      "Epoch 27/100\n",
      " - 1s - loss: 2.0094e-04 - mean_squared_error: 4.0195e-04\n",
      "Epoch 28/100\n",
      " - 1s - loss: 1.8428e-04 - mean_squared_error: 3.6861e-04\n",
      "Epoch 29/100\n",
      " - 1s - loss: 1.7256e-04 - mean_squared_error: 3.4517e-04\n",
      "Epoch 30/100\n",
      " - 1s - loss: 1.6102e-04 - mean_squared_error: 3.2208e-04\n",
      "Epoch 31/100\n",
      " - 1s - loss: 1.5406e-04 - mean_squared_error: 3.0818e-04\n",
      "Epoch 32/100\n",
      " - 1s - loss: 1.4709e-04 - mean_squared_error: 2.9423e-04\n",
      "Epoch 33/100\n",
      " - 1s - loss: 1.4230e-04 - mean_squared_error: 2.8463e-04\n",
      "Epoch 34/100\n",
      " - 1s - loss: 1.3800e-04 - mean_squared_error: 2.7605e-04\n",
      "Epoch 35/100\n",
      " - 1s - loss: 1.3521e-04 - mean_squared_error: 2.7046e-04\n",
      "Epoch 36/100\n",
      " - 1s - loss: 1.3218e-04 - mean_squared_error: 2.6440e-04\n",
      "Epoch 37/100\n",
      " - 1s - loss: 1.3056e-04 - mean_squared_error: 2.6116e-04\n",
      "Epoch 38/100\n",
      " - 1s - loss: 1.2711e-04 - mean_squared_error: 2.5426e-04\n",
      "Epoch 39/100\n",
      " - 1s - loss: 1.2607e-04 - mean_squared_error: 2.5218e-04\n",
      "Epoch 40/100\n",
      " - 1s - loss: 1.2355e-04 - mean_squared_error: 2.4713e-04\n",
      "Epoch 41/100\n",
      " - 1s - loss: 1.2420e-04 - mean_squared_error: 2.4844e-04\n",
      "Epoch 42/100\n",
      " - 1s - loss: 1.2043e-04 - mean_squared_error: 2.4089e-04\n",
      "Epoch 43/100\n",
      " - 1s - loss: 1.1995e-04 - mean_squared_error: 2.3992e-04\n",
      "Epoch 44/100\n",
      " - 1s - loss: 1.1946e-04 - mean_squared_error: 2.3895e-04\n",
      "Epoch 45/100\n",
      " - 1s - loss: 1.1913e-04 - mean_squared_error: 2.3829e-04\n",
      "Epoch 46/100\n",
      " - 1s - loss: 1.1653e-04 - mean_squared_error: 2.3309e-04\n",
      "Epoch 47/100\n",
      " - 1s - loss: 1.1569e-04 - mean_squared_error: 2.3141e-04\n",
      "Epoch 48/100\n",
      " - 1s - loss: 1.1560e-04 - mean_squared_error: 2.3123e-04\n",
      "Epoch 49/100\n",
      " - 1s - loss: 1.1504e-04 - mean_squared_error: 2.3010e-04\n",
      "Epoch 50/100\n",
      " - 1s - loss: 1.1271e-04 - mean_squared_error: 2.2545e-04\n",
      "Epoch 51/100\n",
      " - 1s - loss: 1.1291e-04 - mean_squared_error: 2.2586e-04\n",
      "Epoch 52/100\n",
      " - 1s - loss: 1.1191e-04 - mean_squared_error: 2.2384e-04\n",
      "Epoch 53/100\n",
      " - 1s - loss: 1.1042e-04 - mean_squared_error: 2.2087e-04\n",
      "Epoch 54/100\n",
      " - 1s - loss: 1.1071e-04 - mean_squared_error: 2.2145e-04\n",
      "Epoch 55/100\n",
      " - 1s - loss: 1.0936e-04 - mean_squared_error: 2.1874e-04\n",
      "Epoch 56/100\n",
      " - 1s - loss: 1.0816e-04 - mean_squared_error: 2.1635e-04\n",
      "Epoch 57/100\n",
      " - 1s - loss: 1.0774e-04 - mean_squared_error: 2.1550e-04\n",
      "Epoch 58/100\n",
      " - 1s - loss: 1.0746e-04 - mean_squared_error: 2.1495e-04\n",
      "Epoch 59/100\n",
      " - 1s - loss: 1.0630e-04 - mean_squared_error: 2.1264e-04\n",
      "Epoch 60/100\n",
      " - 1s - loss: 1.0600e-04 - mean_squared_error: 2.1204e-04\n",
      "Epoch 61/100\n",
      " - 1s - loss: 1.0456e-04 - mean_squared_error: 2.0915e-04\n",
      "Epoch 62/100\n",
      " - 1s - loss: 1.0339e-04 - mean_squared_error: 2.0682e-04\n",
      "Epoch 63/100\n",
      " - 1s - loss: 1.0358e-04 - mean_squared_error: 2.0718e-04\n",
      "Epoch 64/100\n",
      " - 1s - loss: 1.0265e-04 - mean_squared_error: 2.0533e-04\n",
      "Epoch 65/100\n",
      " - 1s - loss: 1.0255e-04 - mean_squared_error: 2.0513e-04\n",
      "Epoch 66/100\n",
      " - 1s - loss: 1.0153e-04 - mean_squared_error: 2.0310e-04\n",
      "Epoch 67/100\n",
      " - 1s - loss: 1.0113e-04 - mean_squared_error: 2.0230e-04\n",
      "Epoch 68/100\n",
      " - 1s - loss: 1.0092e-04 - mean_squared_error: 2.0186e-04\n",
      "Epoch 69/100\n",
      " - 1s - loss: 9.9708e-05 - mean_squared_error: 1.9944e-04\n",
      "Epoch 70/100\n",
      " - 1s - loss: 9.9869e-05 - mean_squared_error: 1.9976e-04\n",
      "Epoch 71/100\n",
      " - 1s - loss: 9.8794e-05 - mean_squared_error: 1.9761e-04\n",
      "Epoch 72/100\n",
      " - 1s - loss: 9.8503e-05 - mean_squared_error: 1.9703e-04\n",
      "Epoch 73/100\n",
      " - 1s - loss: 9.8423e-05 - mean_squared_error: 1.9687e-04\n",
      "Epoch 74/100\n",
      " - 1s - loss: 9.7469e-05 - mean_squared_error: 1.9496e-04\n",
      "Epoch 75/100\n",
      " - 1s - loss: 9.6345e-05 - mean_squared_error: 1.9272e-04\n",
      "Epoch 76/100\n",
      " - 1s - loss: 9.6322e-05 - mean_squared_error: 1.9267e-04\n",
      "Epoch 77/100\n",
      " - 1s - loss: 9.5954e-05 - mean_squared_error: 1.9193e-04\n",
      "Epoch 78/100\n",
      " - 1s - loss: 9.5203e-05 - mean_squared_error: 1.9043e-04\n",
      "Epoch 79/100\n",
      " - 1s - loss: 9.4697e-05 - mean_squared_error: 1.8942e-04\n",
      "Epoch 80/100\n",
      " - 1s - loss: 9.4000e-05 - mean_squared_error: 1.8802e-04\n",
      "Epoch 81/100\n",
      " - 1s - loss: 9.4273e-05 - mean_squared_error: 1.8857e-04\n",
      "Epoch 82/100\n",
      " - 1s - loss: 9.3503e-05 - mean_squared_error: 1.8703e-04\n",
      "Epoch 83/100\n",
      " - 1s - loss: 9.2009e-05 - mean_squared_error: 1.8404e-04\n",
      "Epoch 84/100\n",
      " - 1s - loss: 9.2158e-05 - mean_squared_error: 1.8434e-04\n",
      "Epoch 85/100\n",
      " - 1s - loss: 9.1798e-05 - mean_squared_error: 1.8362e-04\n",
      "Epoch 86/100\n",
      " - 1s - loss: 9.1620e-05 - mean_squared_error: 1.8326e-04\n",
      "Epoch 87/100\n",
      " - 1s - loss: 9.0731e-05 - mean_squared_error: 1.8148e-04\n",
      "Epoch 88/100\n",
      " - 1s - loss: 9.0042e-05 - mean_squared_error: 1.8010e-04\n",
      "Epoch 89/100\n",
      " - 1s - loss: 8.9923e-05 - mean_squared_error: 1.7987e-04\n",
      "Epoch 90/100\n",
      " - 1s - loss: 8.8946e-05 - mean_squared_error: 1.7791e-04\n",
      "Epoch 91/100\n",
      " - 1s - loss: 8.8656e-05 - mean_squared_error: 1.7733e-04\n",
      "Epoch 92/100\n",
      " - 1s - loss: 8.8042e-05 - mean_squared_error: 1.7611e-04\n",
      "Epoch 93/100\n",
      " - 1s - loss: 8.8423e-05 - mean_squared_error: 1.7687e-04\n",
      "Epoch 94/100\n",
      " - 1s - loss: 8.7476e-05 - mean_squared_error: 1.7497e-04\n",
      "Epoch 95/100\n",
      " - 1s - loss: 8.7147e-05 - mean_squared_error: 1.7431e-04\n",
      "Epoch 96/100\n",
      " - 1s - loss: 8.6743e-05 - mean_squared_error: 1.7351e-04\n",
      "Epoch 97/100\n",
      " - 1s - loss: 8.6337e-05 - mean_squared_error: 1.7269e-04\n",
      "Epoch 98/100\n",
      " - 1s - loss: 8.5698e-05 - mean_squared_error: 1.7142e-04\n",
      "Epoch 99/100\n",
      " - 1s - loss: 8.5143e-05 - mean_squared_error: 1.7031e-04\n",
      "Epoch 100/100\n",
      " - 1s - loss: 8.5282e-05 - mean_squared_error: 1.7058e-04\n"
     ]
    }
   ],
   "source": [
    "opt = optimizers.RMSprop(lr = 0.006, decay=1e-2)\n",
    "model.compile(optimizer=opt, loss='logcosh',metrics=['mse'])\n",
    "history= model.fit(trainX, trainY, epochs=100, batch_size=16, verbose=2)"
   ]
  },
  {
   "cell_type": "raw",
   "metadata": {},
   "source": [
    "from keras import optimizers\n",
    "\n",
    "#if 'net1' in globals(): del net1\n",
    "    \n",
    "opt = optimizers.RMSprop(lr = 0.006, decay = 1e-2)\n",
    "model = coordenadas_absolutas(9, data_shape)\n",
    "model.compile(optimizer = opt, loss ='logcosh', metrics=['mse'] )\n",
    "history = model.fit( train_obs, train_pred, epochs=10, batch_size=16 ,verbose=2,validation_data=(vali_obs, vali_pred))\n",
    "plot_model(model, show_shapes=True, to_file='modelo.png')"
   ]
  },
  {
   "cell_type": "code",
   "execution_count": 22,
   "metadata": {},
   "outputs": [
    {
     "data": {
      "text/plain": [
       "['mean_squared_error', 'loss']"
      ]
     },
     "execution_count": 22,
     "metadata": {},
     "output_type": "execute_result"
    }
   ],
   "source": [
    "history_dict= history.history\n",
    "history_dict.keys()"
   ]
  },
  {
   "cell_type": "code",
   "execution_count": 23,
   "metadata": {},
   "outputs": [
    {
     "data": {
      "image/png": "[encoded data removed]",
      "text/plain": [
       "<Figure size 720x360 with 2 Axes>"
      ]
     },
     "metadata": {
      "needs_background": "light"
     },
     "output_type": "display_data"
    }
   ],
   "source": [
    "acc = history.history['mean_squared_error']\n",
    "#val_acc = history.history['val_mean_squared_error']\n",
    "loss = history.history['loss']\n",
    "#val_loss = history.history['val_loss']\n",
    "\n",
    "epochs = range(1, len(loss)+1)\n",
    "\n",
    "# figure\n",
    "plt.figure(figsize=(10,5))\n",
    "plt.subplot(1,2,1)\n",
    "plt.plot(epochs, loss, 'b', label='Training loss')\n",
    "#plt.plot(epochs, val_loss, 'g', label='Validation loss')\n",
    "plt.title('Training loss')\n",
    "plt.xlabel('Epochs')\n",
    "plt.ylabel('Loss')\n",
    "plt.legend()\n",
    "\n",
    "plt.subplot(1,2,2)\n",
    "plt.plot(epochs, acc, 'r', label='Training mse')\n",
    "#plt.plot(epochs, val_acc, 'g', label='Validation mse')\n",
    "plt.title('Training mse')\n",
    "plt.xlabel('Epochs')\n",
    "plt.ylabel('MSE')\n",
    "plt.legend()\n",
    "plt.show()"
   ]
  },
  {
   "cell_type": "code",
   "execution_count": null,
   "metadata": {},
   "outputs": [],
   "source": [
    "#model.save('lstm-xy-ucy-zara-zara01_solo.h5')"
   ]
  },
  {
   "cell_type": "code",
   "execution_count": null,
   "metadata": {},
   "outputs": [],
   "source": [
    "#model.save('lstm-xy-ucy-univ_solo.h5')"
   ]
  },
  {
   "cell_type": "code",
   "execution_count": null,
   "metadata": {},
   "outputs": [],
   "source": [
    "#model.save('lstm-xy-pets_solo.h5')"
   ]
  },
  {
   "cell_type": "code",
   "execution_count": null,
   "metadata": {},
   "outputs": [],
   "source": [
    "#model.save('lstm-xy-pets1_solo.h5')"
   ]
  },
  {
   "cell_type": "code",
   "execution_count": 13,
   "metadata": {},
   "outputs": [],
   "source": [
    "#model.save('lstm-xy-pets_simplificado_solo.h5')"
   ]
  },
  {
   "cell_type": "code",
   "execution_count": 14,
   "metadata": {},
   "outputs": [],
   "source": [
    "modelxy = load_model('lstm-xy-pets_simplificado_solo.h5')"
   ]
  },
  {
   "cell_type": "code",
   "execution_count": 15,
   "metadata": {},
   "outputs": [],
   "source": [
    "def error_promedio(predicted_traj, true_traj, observed_length):\n",
    "    \n",
    "    error = np.zeros(len(true_traj) - observed_length)\n",
    "    # PARA CADA PUNTO EN LA TRAYECTORIA PREDICHA\n",
    "    for i in range(observed_length, len(true_traj)):\n",
    "        # The predicted position\n",
    "        pred_pos = predicted_traj[i]\n",
    "        #The true position\n",
    "        true_pos = true_traj[i]\n",
    "\n",
    "        # The euclidean distance is the error\n",
    "        error[i-observed_length] = np.linalg.norm(true_pos - pred_pos)\n",
    "\n",
    "    # Return the mean error\n",
    "    return np.mean(error)\n"
   ]
  },
  {
   "cell_type": "code",
   "execution_count": 16,
   "metadata": {},
   "outputs": [],
   "source": [
    "def error_desplazamiento_final(predicted_traj, true_traj):\n",
    "    tam = len(predicted_traj)\n",
    "    return np.linalg.norm(predicted_traj[tam-1]-true_traj[tam-1])"
   ]
  },
  {
   "cell_type": "code",
   "execution_count": 17,
   "metadata": {},
   "outputs": [],
   "source": [
    "#esta funcion construye secuencias con solo la parte observada y secuencias completa\n",
    "# es decir secuencia de longitud obs+pred\n",
    "\n",
    "def secuencia_pred(seq_length_obs,data,seq_length_pred):\n",
    "    \n",
    "    tamano = int(len(data))\n",
    "    X,Y_true = [],[]\n",
    "    # se recorre todo los datos de test\n",
    "    for j in range(tamano):\n",
    "        traj = data[j]\n",
    "        \n",
    "        lon = traj.shape[0]-seq_length_obs-seq_length_pred\n",
    "        #lon=data.shape[0]-seq_length_obs-seq_length_pred\n",
    "        for i in range(0,lon+1):\n",
    "            a = traj[i:(i +seq_length_obs ), :]\n",
    "            \n",
    "            X.append(a)\n",
    "            # esta parte tiene tanto la parte observada como \n",
    "            b = traj[i: (i+seq_length_obs+seq_length_pred), :]\n",
    "        \n",
    "            Y_true.append(b)\n",
    "    return np.array(X),np.array(Y_true)"
   ]
  },
  {
   "cell_type": "code",
   "execution_count": 18,
   "metadata": {},
   "outputs": [],
   "source": [
    "# Esta funcion predice posiciones pred normalizados\n",
    "\n",
    "def sample(datos, seq_length_obs, seq_length_pred):\n",
    "    \n",
    "    X,Y_true = secuencia_pred(seq_length_obs,datos,seq_length_pred)\n",
    "    total_error = 0.0\n",
    "    total_final = 0.0\n",
    "    todo=[]\n",
    "    \n",
    "    for i in range(len(X)):\n",
    "        traj_obs = X[i]\n",
    "        traj_pred = X[i]\n",
    "    \n",
    "        #print(Y_true[i])\n",
    "        \n",
    "        for j in range(seq_length_pred):\n",
    "            traj_obsr = numpy.reshape(traj_obs, (1,traj_obs.shape[0],traj_obs.shape[1]) )\n",
    "            #print(traj_obsr)\n",
    "            predict = modelxy.predict(traj_obsr)\n",
    "            next_point = predict\n",
    "            traj_obs = np.concatenate((traj_obs[1:len(traj_obs)],next_point),axis=0)\n",
    "            traj_pred = np.concatenate((traj_pred,next_point),axis=0)\n",
    "            \n",
    "        diff=Y_true[i][seq_length_obs:]-traj_pred[seq_length_obs:]\n",
    "        diff=diff**2\n",
    "        diff=np.sqrt(np.sum(diff,axis=1))\n",
    "        todo.append(diff)\n",
    "    \n",
    "        total_error +=  error_promedio(traj_pred , Y_true[i], seq_length_obs)\n",
    "        total_final += error_desplazamiento_final(traj_pred, Y_true[i])\n",
    "        \n",
    "        \n",
    "    #print(todo)\n",
    "    error_ade_modelo = total_error/len(X)\n",
    "    error_fde_modelo = total_final/len(X)\n",
    "    \n",
    "    ade=[t for o in todo for t in o]\n",
    "    \n",
    "    print('---------Error--------')\n",
    "    print('ADE')\n",
    "    print(np.mean(ade))\n",
    "\n",
    "    print(error_ade_modelo)\n",
    "    print('FDE')\n",
    "    print(error_fde_modelo)\n",
    "        "
   ]
  },
  {
   "cell_type": "code",
   "execution_count": 19,
   "metadata": {},
   "outputs": [],
   "source": [
    "# Esta funcion hace la prediccion en coordenadas pixel\n",
    "def sample_en_pixeles(datos, seq_length_obs, seq_length_pred):\n",
    "    \n",
    "    X,Y_true = secuencia_pred(seq_length_obs,datos,seq_length_pred)\n",
    "    total_error = 0.0\n",
    "    total_final = 0.0\n",
    "    todo = []\n",
    "    \n",
    "    for i in range(len(X)):\n",
    "        traj_obs = X[i]\n",
    "        traj_pred = X[i]\n",
    "    \n",
    "        #print(Y_true[i])\n",
    "        \n",
    "        for j in range(seq_length_pred):\n",
    "            traj_obsr = numpy.reshape(traj_obs, (1,traj_obs.shape[0],traj_obs.shape[1]) )\n",
    "            #print(traj_obsr)\n",
    "            predict = modelxy.predict(traj_obsr)\n",
    "            next_point = predict\n",
    "            traj_obs = np.concatenate((traj_obs[1:len(traj_obs)],next_point),axis=0)\n",
    "            traj_pred = np.concatenate((traj_pred,next_point),axis=0)\n",
    "        \n",
    "        traj_pre =  np.column_stack((768*traj_pred[:,0],576*traj_pred[:,1]))\n",
    "        traj_tr = np.column_stack((768*Y_true[i][:,0],576*Y_true[i][:,1]))\n",
    "          \n",
    "        diff = traj_pre[seq_length_obs:]-traj_tr[seq_length_obs:]\n",
    "        diff = diff**2\n",
    "        diff = np.sqrt(np.sum(diff,axis=1))\n",
    "        todo.append(diff)\n",
    "        \n",
    "        total_error += error_promedio(traj_pre , traj_tr, seq_length_obs)\n",
    "        total_final += error_desplazamiento_final(traj_pre, traj_tr)\n",
    "             \n",
    "    error_modelo = total_error/len(X)\n",
    "    error_fde_modelo = total_final/len(X)\n",
    "    \n",
    "    ade=[t for o in todo for t in o]\n",
    "    \n",
    "    print('---------Error--------')\n",
    "    print('ADE')\n",
    "    print(np.mean(ade))\n",
    "    \n",
    "    print('Error promedio')\n",
    "    print(error_modelo)\n",
    "    print('FDE')\n",
    "    print(error_fde_modelo)     "
   ]
  },
  {
   "cell_type": "code",
   "execution_count": null,
   "metadata": {},
   "outputs": [],
   "source": [
    "sample(test,8,4)"
   ]
  },
  {
   "cell_type": "code",
   "execution_count": 21,
   "metadata": {},
   "outputs": [
    {
     "name": "stdout",
     "output_type": "stream",
     "text": [
      "---------Error--------\n",
      "ADE\n",
      "13.353651041683074\n",
      "Error promedio\n",
      "13.353651041683072\n",
      "FDE\n",
      "19.21655929549364\n"
     ]
    }
   ],
   "source": [
    "sample_en_pixeles(test,8,4)"
   ]
  },
  {
   "cell_type": "code",
   "execution_count": null,
   "metadata": {},
   "outputs": [],
   "source": []
  }
 ],
 "metadata": {
  "kernelspec": {
   "display_name": "Python 2",
   "language": "python",
   "name": "python2"
  },
  "language_info": {
   "codemirror_mode": {
    "name": "ipython",
    "version": 2
   },
   "file_extension": ".py",
   "mimetype": "text/x-python",
   "name": "python",
   "nbconvert_exporter": "python",
   "pygments_lexer": "ipython2",
   "version": "2.7.16"
  }
 },
 "nbformat": 4,
 "nbformat_minor": 2
}
