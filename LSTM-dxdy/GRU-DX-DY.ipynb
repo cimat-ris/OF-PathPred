{
 "cells": [
  {
   "cell_type": "code",
   "execution_count": 1,
   "metadata": {},
   "outputs": [],
   "source": [
    "#EN ESTE PROGRAMA SE EVALUA COMO ES EL ERROR DE LA RED CUANDO LA SALIDA LA \n",
    "#DAMOS COMO DESPLAZAMIENTOS ES DECIR DX, DX, AL PREDECIR POSICIONES FUTURAS EN UNA TRAYECTORIA CON GRU"
   ]
  },
  {
   "cell_type": "code",
   "execution_count": 2,
   "metadata": {},
   "outputs": [
    {
     "name": "stderr",
     "output_type": "stream",
     "text": [
      "Using TensorFlow backend.\n"
     ]
    }
   ],
   "source": [
    "import os\n",
    "import pickle\n",
    "import numpy \n",
    "#import pandas as pd\n",
    "#import cv2\n",
    "import matplotlib.pyplot as plt\n",
    "from PIL import Image\n",
    "from pylab import *\n",
    "from matplotlib import pyplot\n",
    "\n",
    "from scipy. ndimage import filters\n",
    "import pandas as pd\n",
    "import os\n",
    "from keras.models import Model, Sequential, save_model, load_model\n",
    "import math\n",
    "from sklearn.metrics import mean_squared_error\n",
    "\n",
    "import random\n",
    "from sklearn.preprocessing import MinMaxScaler\n",
    "import h5py\n",
    "import tensorflow as tf\n"
   ]
  },
  {
   "cell_type": "markdown",
   "metadata": {},
   "source": [
    "# PROCESAMIENTO DE LOS DATOS"
   ]
  },
  {
   "cell_type": "code",
   "execution_count": 3,
   "metadata": {},
   "outputs": [],
   "source": [
    "import os \n",
    "import pickle\n",
    "import numpy as np\n",
    "import random\n",
    "\n",
    "def preprocess(data_dirs, data_file,name):\n",
    "    # all_ped_data would be a dictionary with mapping from each ped to their\n",
    "    # trajectories given by matrix 3 x numPoints with each column\n",
    "    # in the order x, y, frameId\n",
    "    # Pedestrians from all datasets are combined\n",
    "    # Dataset pedestrian indices are stored in dataset_indices\n",
    "    all_ped_data = {}\n",
    "    dataset_indices = []\n",
    "    current_ped = 0\n",
    "    # For each dataset\n",
    "    for directory in data_dirs:\n",
    "        # Define the path to its respective csv file\n",
    "        file_path = os.path.join(directory,name )\n",
    "\n",
    "        # Cargar datos desde el archivo csv\n",
    "        # Los datos son una matriz 4x numTrajPoints\n",
    "        data = np.genfromtxt(file_path, delimiter=',')\n",
    "       \n",
    "        # Obtenga el numero de peatones en el conjunto de datos actual\n",
    "        #uni = np.unique(data[:,1])    \n",
    "        numPeds = np.size(np.unique(data[:,1]))\n",
    "     \n",
    "        print(\"El numero de peatones en \"+directory+\" es de \"+str(numPeds))\n",
    "       \n",
    "        # Para cada peaton en el conjunto de datos\n",
    "        for ped in range(1, numPeds+1):\n",
    "            #Son los datos de la persona ped\n",
    "            traj = data[ data[:, 1] == ped]\n",
    "            \n",
    "            #Esta como (x,y,frame_Id)\n",
    "            traj = traj[:, [2,3,0]]\n",
    "            \n",
    "            #Esta como [[x,...],[y,...],[Frame_Id,..]]\n",
    "            traj=[list(traj[:,0]),list(traj[:,1]),list(traj[:,2])]\n",
    "            all_ped_data[current_ped + ped] = np.array(traj)\n",
    "\n",
    "        # Current dataset done\n",
    "        dataset_indices.append(current_ped+numPeds)\n",
    "        current_ped += numPeds\n",
    "\n",
    "    # Los datos completos son una tupla de todos los datos de peatones y los indices de datos del conjunto de datos.\n",
    "    complete_data = (all_ped_data, dataset_indices)\n",
    "    # Almacena los datos completos en el archivo pickle\n",
    "    f = open(data_file, \"wb\")\n",
    "    pickle.dump(complete_data, f, protocol=2)\n",
    "    f.close()\n",
    "    return complete_data\n",
    "    "
   ]
  },
  {
   "cell_type": "code",
   "execution_count": 4,
   "metadata": {},
   "outputs": [],
   "source": [
    "def load_preprocessed(data_file,seq_length_obs,batch_size):\n",
    "    \n",
    "    # cargar los datos\n",
    "    f = open(data_file, \"rb\")\n",
    "    raw_data = pickle.load(f)\n",
    "    f.close()\n",
    "\n",
    "    # Obtengo los peatones\n",
    "    all_ped_data =raw_data[0]\n",
    " \n",
    "    #all_ped_data es el vector {[[],[],[]],...,[[],[],[]]} tantos como pedestrian hayan\n",
    "    # No usamos dataset_indices por ahora\n",
    "    # dataset_indices = self.raw_data[1]\n",
    "\n",
    "    # Construimos data con secuencias(o trayectorias) del largo than seq_length_obs\n",
    "    data = []\n",
    "    counter = 0\n",
    "\n",
    "    # para cada peaton en data\n",
    "    for ped in all_ped_data:\n",
    "        \n",
    "        #ped es un numero entero y va de 1 hasta la cantidad total de pedestrian\n",
    "        # Extract his trajectory\n",
    "        traj = all_ped_data[ped]\n",
    "        \n",
    "           \n",
    "        # If the length of the trajectory is greater than seq_length (+2 as we need both source and target data)\n",
    "        #solo se toman las trajectorias de longitud mayor a seq_length+2\n",
    "        if traj.shape[1] >= (seq_length_obs+1):\n",
    "            # TODO: (Improve) Store only the (x,y) coordinates for now\n",
    "               \n",
    "            data.append(traj[[0, 1], :].T)\n",
    "            #print(traj[[0, 1], :].T)\n",
    "            # Number of batches this datapoint is worth\n",
    "            #print(traj.shape[1] )\n",
    "            #print(int(traj.shape[1] / ((seq_length_obs+1))))\n",
    "            counter += int(traj.shape[1] / ((seq_length_obs+1)))\n",
    "        \n",
    "    # Calculate the number of batches (each of batch_size) in the data\n",
    "    #counter tiene la cantidad de bloques de 8 pasos\n",
    "        \n",
    "    num_batches = int(counter /batch_size)\n",
    "    #cada bache tiene batch_size conjuntos donde cada conjunto tiene datos de length+2\n",
    "    return data,num_batches"
   ]
  },
  {
   "cell_type": "markdown",
   "metadata": {},
   "source": [
    "# SE PROCESAN LOS DATOS"
   ]
  },
  {
   "cell_type": "code",
   "execution_count": 5,
   "metadata": {},
   "outputs": [
    {
     "name": "stdout",
     "output_type": "stream",
     "text": [
      "El numero de peatones en ../data1/pets es de 19\n"
     ]
    }
   ],
   "source": [
    "data_dirs = ['../data1/pets']\n",
    "datasets=[0]\n",
    "\n",
    "used_data_dirs = [data_dirs[x] for x in datasets]\n",
    "      \n",
    "# Directorio de datos donde reside el archivo pickle preprocesado\n",
    "data_dir = '../data1'\n",
    "\n",
    "# Defina la ruta del archivo en el que deben almacenarse los datos.\n",
    "data_file = os.path.join(data_dir, \"datos_limpios_solo.cpkl\")\n",
    "\n",
    "name = 'pixel_pos_2.csv'\n",
    "\n",
    "# If the file doesn't exist already or if forcePreProcess is true\n",
    "#se usa preprocesscsv para los csv y preprocess para el .txt\n",
    "\n",
    "#datos tiene todos las trayectorias de todos los peatones \n",
    "data = preprocess(used_data_dirs, data_file,name)\n",
    "datos, numero = load_preprocessed(data_file,12,1)"
   ]
  },
  {
   "cell_type": "code",
   "execution_count": 6,
   "metadata": {},
   "outputs": [],
   "source": [
    "def secuencia(seq_length_obs,data):\n",
    "    \"\"\"\n",
    "    ESTA FUNCION SE ENCARGA DE DIVIDIR LAS SUCESIONES DE LOS PEATONES EN \n",
    "    LA SUCESION OBSERVA DE LONGITUD SEQ_LENGTH_OBS Y EL PREDICHO DE LONGITUD 1.\n",
    "    \"\"\"\n",
    "    tamano = int(len(data))\n",
    "    \n",
    "    X,Y = [],[]\n",
    "    for j in range(tamano):\n",
    "        traj = data[j]\n",
    "        lon = traj.shape[0]-seq_length_obs-1\n",
    "        for i in range(0,lon+1):\n",
    "            a = traj[i:(i +seq_length_obs ), :]\n",
    "            X.append(a)\n",
    "            b = traj[i+seq_length_obs, :]  \n",
    "            Y.append(b-a[len(a)-1,:])\n",
    "    return np.array(X), np.array(Y)"
   ]
  },
  {
   "cell_type": "markdown",
   "metadata": {},
   "source": [
    "# VISUALIZAMOS LOS DATOS"
   ]
  },
  {
   "cell_type": "code",
   "execution_count": 7,
   "metadata": {},
   "outputs": [
    {
     "data": {
      "image/png": "[encoded data removed]",
      "text/plain": [
       "<Figure size 576x432 with 1 Axes>"
      ]
     },
     "metadata": {
      "needs_background": "light"
     },
     "output_type": "display_data"
    }
   ],
   "source": [
    "plt.subplots(nrows=1, ncols=1, figsize=(8, 6))\n",
    "color_names = [\"r\",\"crimson\" ,\"g\", \"b\",\"c\",\"m\",\"y\",\"lightcoral\", \"peachpuff\",\"grey\",\"springgreen\" ,\"fuchsia\",\"violet\",\"teal\",\"seagreen\",\"lime\",\"yellow\",\"coral\",\"aquamarine\",\"hotpink\"]\n",
    "for i in range(len(datos)):\n",
    "    cpu = random.choice(range(17))\n",
    "    pintar=plt.plot(datos[i][:,0],datos[i][:,1],color=color_names[i])\n",
    "plt.title(\" Trayectorias completas de PETS-2009\") \n",
    "plt.xlabel(\"Coordenada x\")   \n",
    "plt.ylabel(\"Coordenada y\") \n",
    "\n",
    "#plt.savefig(\"trayectorias.jpg\")\n",
    "plt.show() "
   ]
  },
  {
   "cell_type": "markdown",
   "metadata": {},
   "source": [
    "# SE DIVIDEN LOS INDICES DEL CONJUNTO DE DATOS PARA HACER VALIDACION CRUZADA CON EL CONJUNTO DE PETS"
   ]
  },
  {
   "cell_type": "code",
   "execution_count": 8,
   "metadata": {},
   "outputs": [
    {
     "name": "stdout",
     "output_type": "stream",
     "text": [
      "[[0, 1, 2, 3], [4, 5, 6, 7], [8, 9, 10, 11], [12, 13, 14, 15], [16, 17, 18]]\n"
     ]
    }
   ],
   "source": [
    "\"\"\"\n",
    "LO QUE SE HACE ES QUE COMO PETS TIENE 19 PEATONES, COMBINACIONES DE LOS ID-PERSON \n",
    "PARA HACER 5 DISTINTOS CONJUNTOS DE ENTRENAMIENTO CON SU RESPECTIVO CONNJUNTO DE PRUEBA\n",
    "\"\"\"\n",
    "\n",
    "longitud=len(datos)\n",
    "ind = range(longitud)\n",
    "\n",
    "lista = []\n",
    "for i in range(0,longitud,4):\n",
    "    lista.append(ind[i:i+4])\n",
    "print(lista)\n",
    "\n",
    "combinacion=[(0,1,2,3,4),(0,1,2,4,3),(0,1,3,4,2),(0,2,3,4,1),(1,2,3,4,0)]\n",
    "\n",
    "def conjunto_datos(combinacion,lista,datos):\n",
    "    conjunto_entrenamiento = []\n",
    "    for i in range(len(combinacion)-1):\n",
    "       # print(i)\n",
    "        for j in lista[combinacion[i]]:\n",
    "        #    print(j)\n",
    "            conjunto_entrenamiento.append(datos[j])\n",
    "    conjunto_prueba=[]\n",
    "    for i in lista[combinacion[4]]:\n",
    "        #print(i)\n",
    "        conjunto_prueba.append(datos[i])\n",
    "    \n",
    "    return conjunto_entrenamiento,conjunto_prueba"
   ]
  },
  {
   "cell_type": "code",
   "execution_count": 61,
   "metadata": {},
   "outputs": [],
   "source": [
    "train1,test1 = conjunto_datos(combinacion[0],lista,datos)\n",
    "train2,test2 = conjunto_datos(combinacion[1],lista,datos)\n",
    "train3,test3 = conjunto_datos(combinacion[2],lista,datos)\n",
    "train4,test4 = conjunto_datos(combinacion[3],lista,datos)\n",
    "train5,test5 = conjunto_datos(combinacion[4],lista,datos)"
   ]
  },
  {
   "cell_type": "markdown",
   "metadata": {},
   "source": [
    "# SE HACE RESHAPE PARA QUE LAS REDES LO ENTIENDAN "
   ]
  },
  {
   "cell_type": "code",
   "execution_count": 62,
   "metadata": {},
   "outputs": [],
   "source": [
    "length_obs = 8\n",
    "trainX,trainY = secuencia(length_obs,train5)\n"
   ]
  },
  {
   "cell_type": "code",
   "execution_count": 63,
   "metadata": {},
   "outputs": [],
   "source": [
    "trainX = numpy.reshape(trainX, (trainX.shape[0], trainX.shape[1],trainX.shape[2]))\n",
    "#valiX = numpy.reshape(valiX, (valiX.shape[0], valiX.shape[1],valiX.shape[2]))"
   ]
  },
  {
   "cell_type": "code",
   "execution_count": 64,
   "metadata": {},
   "outputs": [
    {
     "name": "stdout",
     "output_type": "stream",
     "text": [
      "(8, 2)\n"
     ]
    },
    {
     "data": {
      "text/plain": [
       "(1479, 8, 2)"
      ]
     },
     "execution_count": 64,
     "metadata": {},
     "output_type": "execute_result"
    }
   ],
   "source": [
    "data_shape =trainX.shape[1:]\n",
    "print(data_shape)\n",
    "import numpy as np\n",
    "np.shape(trainX)"
   ]
  },
  {
   "cell_type": "markdown",
   "metadata": {},
   "source": [
    "# MODELO"
   ]
  },
  {
   "cell_type": "code",
   "execution_count": 65,
   "metadata": {},
   "outputs": [],
   "source": [
    "from keras.models import Sequential\n",
    "from keras import optimizers\n",
    "from keras.layers import Dense\n",
    "from keras.layers import GRU\n",
    "from keras.callbacks import EarlyStopping\n",
    "from keras import initializers\n",
    "from datetime import datetime\n",
    "\n",
    "if 'model' in globals(): del model\n",
    "model = None\n",
    "model = Sequential()\n",
    "model.add(GRU(9, return_sequences=True, input_shape=data_shape, name='lstm1'))\n",
    "model.add(GRU(9, name='lstm2'))\n",
    "model.add(Dense(2))"
   ]
  },
  {
   "cell_type": "code",
   "execution_count": 66,
   "metadata": {},
   "outputs": [
    {
     "name": "stdout",
     "output_type": "stream",
     "text": [
      "_________________________________________________________________\n",
      "Layer (type)                 Output Shape              Param #   \n",
      "=================================================================\n",
      "lstm1 (GRU)                  (None, 8, 9)              324       \n",
      "_________________________________________________________________\n",
      "lstm2 (GRU)                  (None, 9)                 513       \n",
      "_________________________________________________________________\n",
      "dense_4 (Dense)              (None, 2)                 20        \n",
      "=================================================================\n",
      "Total params: 857\n",
      "Trainable params: 857\n",
      "Non-trainable params: 0\n",
      "_________________________________________________________________\n"
     ]
    }
   ],
   "source": [
    "model.summary()"
   ]
  },
  {
   "cell_type": "code",
   "execution_count": 67,
   "metadata": {},
   "outputs": [
    {
     "name": "stdout",
     "output_type": "stream",
     "text": [
      "Epoch 1/80\n",
      " - 3s - loss: 6.0113e-04 - mean_squared_error: 0.0012\n",
      "Epoch 2/80\n",
      " - 1s - loss: 1.1335e-04 - mean_squared_error: 2.2673e-04\n",
      "Epoch 3/80\n",
      " - 1s - loss: 6.4537e-05 - mean_squared_error: 1.2908e-04\n",
      "Epoch 4/80\n",
      " - 1s - loss: 4.8114e-05 - mean_squared_error: 9.6235e-05\n",
      "Epoch 5/80\n",
      " - 1s - loss: 3.7551e-05 - mean_squared_error: 7.5111e-05\n",
      "Epoch 6/80\n",
      " - 1s - loss: 3.0522e-05 - mean_squared_error: 6.1050e-05\n",
      "Epoch 7/80\n",
      " - 1s - loss: 2.3433e-05 - mean_squared_error: 4.6875e-05\n",
      "Epoch 8/80\n",
      " - 1s - loss: 1.8183e-05 - mean_squared_error: 3.6370e-05\n",
      "Epoch 9/80\n",
      " - 1s - loss: 1.3987e-05 - mean_squared_error: 2.7974e-05\n",
      "Epoch 10/80\n",
      " - 1s - loss: 1.0840e-05 - mean_squared_error: 2.1686e-05\n",
      "Epoch 11/80\n",
      " - 1s - loss: 9.3956e-06 - mean_squared_error: 1.8794e-05\n",
      "Epoch 12/80\n",
      " - 1s - loss: 8.7418e-06 - mean_squared_error: 1.7486e-05\n",
      "Epoch 13/80\n",
      " - 1s - loss: 7.9604e-06 - mean_squared_error: 1.5924e-05\n",
      "Epoch 14/80\n",
      " - 1s - loss: 7.5057e-06 - mean_squared_error: 1.5014e-05\n",
      "Epoch 15/80\n",
      " - 1s - loss: 7.0323e-06 - mean_squared_error: 1.4069e-05\n",
      "Epoch 16/80\n",
      " - 1s - loss: 6.9658e-06 - mean_squared_error: 1.3934e-05\n",
      "Epoch 17/80\n",
      " - 1s - loss: 6.6686e-06 - mean_squared_error: 1.3341e-05\n",
      "Epoch 18/80\n",
      " - 1s - loss: 6.4267e-06 - mean_squared_error: 1.2855e-05\n",
      "Epoch 19/80\n",
      " - 1s - loss: 6.3051e-06 - mean_squared_error: 1.2613e-05\n",
      "Epoch 20/80\n",
      " - 1s - loss: 5.9233e-06 - mean_squared_error: 1.1849e-05\n",
      "Epoch 21/80\n",
      " - 1s - loss: 5.8486e-06 - mean_squared_error: 1.1701e-05\n",
      "Epoch 22/80\n",
      " - 1s - loss: 5.7575e-06 - mean_squared_error: 1.1516e-05\n",
      "Epoch 23/80\n",
      " - 1s - loss: 5.7082e-06 - mean_squared_error: 1.1415e-05\n",
      "Epoch 24/80\n",
      " - 1s - loss: 5.5199e-06 - mean_squared_error: 1.1043e-05\n",
      "Epoch 25/80\n",
      " - 1s - loss: 5.3929e-06 - mean_squared_error: 1.0787e-05\n",
      "Epoch 26/80\n",
      " - 1s - loss: 5.3929e-06 - mean_squared_error: 1.0791e-05\n",
      "Epoch 27/80\n",
      " - 1s - loss: 5.2785e-06 - mean_squared_error: 1.0560e-05\n",
      "Epoch 28/80\n",
      " - 1s - loss: 5.2637e-06 - mean_squared_error: 1.0530e-05\n",
      "Epoch 29/80\n",
      " - 1s - loss: 5.1583e-06 - mean_squared_error: 1.0319e-05\n",
      "Epoch 30/80\n",
      " - 1s - loss: 5.0567e-06 - mean_squared_error: 1.0117e-05\n",
      "Epoch 31/80\n",
      " - 1s - loss: 5.1064e-06 - mean_squared_error: 1.0217e-05\n",
      "Epoch 32/80\n",
      " - 1s - loss: 4.9596e-06 - mean_squared_error: 9.9227e-06\n",
      "Epoch 33/80\n",
      " - 1s - loss: 4.9048e-06 - mean_squared_error: 9.8121e-06\n",
      "Epoch 34/80\n",
      " - 1s - loss: 4.8864e-06 - mean_squared_error: 9.7766e-06\n",
      "Epoch 35/80\n",
      " - 1s - loss: 4.7970e-06 - mean_squared_error: 9.5977e-06\n",
      "Epoch 36/80\n",
      " - 1s - loss: 4.7811e-06 - mean_squared_error: 9.5660e-06\n",
      "Epoch 37/80\n",
      " - 1s - loss: 4.7087e-06 - mean_squared_error: 9.4206e-06\n",
      "Epoch 38/80\n",
      " - 1s - loss: 4.7048e-06 - mean_squared_error: 9.4122e-06\n",
      "Epoch 39/80\n",
      " - 1s - loss: 4.6779e-06 - mean_squared_error: 9.3593e-06\n",
      "Epoch 40/80\n",
      " - 1s - loss: 4.5783e-06 - mean_squared_error: 9.1638e-06\n",
      "Epoch 41/80\n",
      " - 1s - loss: 4.5845e-06 - mean_squared_error: 9.1712e-06\n",
      "Epoch 42/80\n",
      " - 1s - loss: 4.4426e-06 - mean_squared_error: 8.8892e-06\n",
      "Epoch 43/80\n",
      " - 1s - loss: 4.5469e-06 - mean_squared_error: 9.0950e-06\n",
      "Epoch 44/80\n",
      " - 1s - loss: 4.4823e-06 - mean_squared_error: 8.9653e-06\n",
      "Epoch 45/80\n",
      " - 1s - loss: 4.4180e-06 - mean_squared_error: 8.8395e-06\n",
      "Epoch 46/80\n",
      " - 1s - loss: 4.3380e-06 - mean_squared_error: 8.6795e-06\n",
      "Epoch 47/80\n",
      " - 1s - loss: 4.3326e-06 - mean_squared_error: 8.6717e-06\n",
      "Epoch 48/80\n",
      " - 1s - loss: 4.3137e-06 - mean_squared_error: 8.6340e-06\n",
      "Epoch 49/80\n",
      " - 1s - loss: 4.2722e-06 - mean_squared_error: 8.5446e-06\n",
      "Epoch 50/80\n",
      " - 1s - loss: 4.2759e-06 - mean_squared_error: 8.5543e-06\n",
      "Epoch 51/80\n",
      " - 1s - loss: 4.2472e-06 - mean_squared_error: 8.4963e-06\n",
      "Epoch 52/80\n",
      " - 1s - loss: 4.2110e-06 - mean_squared_error: 8.4269e-06\n",
      "Epoch 53/80\n",
      " - 1s - loss: 4.1649e-06 - mean_squared_error: 8.3303e-06\n",
      "Epoch 54/80\n",
      " - 1s - loss: 4.1437e-06 - mean_squared_error: 8.2914e-06\n",
      "Epoch 55/80\n",
      " - 1s - loss: 4.1372e-06 - mean_squared_error: 8.2777e-06\n",
      "Epoch 56/80\n",
      " - 1s - loss: 4.1479e-06 - mean_squared_error: 8.3004e-06\n",
      "Epoch 57/80\n",
      " - 1s - loss: 4.0583e-06 - mean_squared_error: 8.1202e-06\n",
      "Epoch 58/80\n",
      " - 1s - loss: 4.0966e-06 - mean_squared_error: 8.1967e-06\n",
      "Epoch 59/80\n",
      " - 1s - loss: 4.0386e-06 - mean_squared_error: 8.0803e-06\n",
      "Epoch 60/80\n",
      " - 1s - loss: 4.0288e-06 - mean_squared_error: 8.0616e-06\n",
      "Epoch 61/80\n",
      " - 1s - loss: 3.9600e-06 - mean_squared_error: 7.9217e-06\n",
      "Epoch 62/80\n",
      " - 1s - loss: 3.9880e-06 - mean_squared_error: 7.9794e-06\n",
      "Epoch 63/80\n",
      " - 1s - loss: 3.9702e-06 - mean_squared_error: 7.9452e-06\n",
      "Epoch 64/80\n",
      " - 1s - loss: 3.9024e-06 - mean_squared_error: 7.8048e-06\n",
      "Epoch 65/80\n",
      " - 1s - loss: 3.9432e-06 - mean_squared_error: 7.8875e-06\n",
      "Epoch 66/80\n",
      " - 1s - loss: 3.8849e-06 - mean_squared_error: 7.7733e-06\n",
      "Epoch 67/80\n",
      " - 1s - loss: 3.8685e-06 - mean_squared_error: 7.7406e-06\n",
      "Epoch 68/80\n",
      " - 1s - loss: 3.8632e-06 - mean_squared_error: 7.7292e-06\n",
      "Epoch 69/80\n",
      " - 1s - loss: 3.7907e-06 - mean_squared_error: 7.5863e-06\n",
      "Epoch 70/80\n",
      " - 1s - loss: 3.7969e-06 - mean_squared_error: 7.5959e-06\n",
      "Epoch 71/80\n",
      " - 1s - loss: 3.7909e-06 - mean_squared_error: 7.5840e-06\n",
      "Epoch 72/80\n",
      " - 1s - loss: 3.7595e-06 - mean_squared_error: 7.5221e-06\n",
      "Epoch 73/80\n",
      " - 1s - loss: 3.7545e-06 - mean_squared_error: 7.5129e-06\n",
      "Epoch 74/80\n",
      " - 1s - loss: 3.7712e-06 - mean_squared_error: 7.5480e-06\n",
      "Epoch 75/80\n",
      " - 1s - loss: 3.7393e-06 - mean_squared_error: 7.4817e-06\n",
      "Epoch 76/80\n",
      " - 1s - loss: 3.7171e-06 - mean_squared_error: 7.4358e-06\n",
      "Epoch 77/80\n",
      " - 1s - loss: 3.6928e-06 - mean_squared_error: 7.3871e-06\n",
      "Epoch 78/80\n",
      " - 1s - loss: 3.6641e-06 - mean_squared_error: 7.3314e-06\n",
      "Epoch 79/80\n",
      " - 1s - loss: 3.6320e-06 - mean_squared_error: 7.2651e-06\n",
      "Epoch 80/80\n",
      " - 1s - loss: 3.6387e-06 - mean_squared_error: 7.2794e-06\n",
      "Elapsed time: 51.6562709808 seconds.\n"
     ]
    }
   ],
   "source": [
    "from time import time\n",
    "opt = optimizers.RMSprop(lr = 0.006, decay=1e-2)\n",
    "\n",
    "start_time = time()\n",
    "model.compile( optimizer = opt,loss='logcosh',metrics=['mse'])\n",
    "history1 = model.fit(trainX, trainY, epochs=80, batch_size=15, verbose=2 )\n",
    "elapsed_time = time() - start_time\n",
    "print(\"Elapsed time: %.10f seconds.\" % elapsed_time)"
   ]
  },
  {
   "cell_type": "code",
   "execution_count": 68,
   "metadata": {},
   "outputs": [
    {
     "data": {
      "text/plain": [
       "['mean_squared_error', 'loss']"
      ]
     },
     "execution_count": 68,
     "metadata": {},
     "output_type": "execute_result"
    }
   ],
   "source": [
    "history_dict1 = history1.history\n",
    "history_dict1.keys()"
   ]
  },
  {
   "cell_type": "code",
   "execution_count": 69,
   "metadata": {},
   "outputs": [
    {
     "data": {
      "image/png": "[encoded data removed]",
      "text/plain": [
       "<Figure size 720x360 with 2 Axes>"
      ]
     },
     "metadata": {
      "needs_background": "light"
     },
     "output_type": "display_data"
    }
   ],
   "source": [
    "mse = history1.history['mean_squared_error']\n",
    "loss = history1.history['loss']\n",
    "\n",
    "epochs = range(1, len(mse)+1)\n",
    "\n",
    "# figure\n",
    "plt.figure(figsize=(10,5))\n",
    "plt.subplot(1,2,1)\n",
    "plt.plot(epochs, loss, 'b', label='Training loss')\n",
    "#plt.plot(epochs, val_loss, 'g', label='Validation loss')\n",
    "plt.title('Training and validation loss')\n",
    "plt.xlabel('Epochs')\n",
    "plt.ylabel('Loss')\n",
    "plt.legend()\n",
    "plt.subplot(1,2,2)\n",
    "plt.plot(epochs, mse, 'r', label='Training mse')\n",
    "#plt.plot(epochs, val_mse, 'g', label='Validation mse')\n",
    "plt.title('Training and validation mse')\n",
    "plt.xlabel('Epochs')\n",
    "plt.ylabel('MSE')\n",
    "plt.legend()\n",
    "plt.show()"
   ]
  },
  {
   "cell_type": "markdown",
   "metadata": {},
   "source": [
    "# GUARDAMOS LOS MODELOS"
   ]
  },
  {
   "cell_type": "code",
   "execution_count": 70,
   "metadata": {},
   "outputs": [],
   "source": [
    "model.save('GRU-dxdy0-simplificado-a.h5')"
   ]
  },
  {
   "cell_type": "code",
   "execution_count": null,
   "metadata": {},
   "outputs": [],
   "source": [
    "model.save('GRU-dxdy1-simplificado-a.h5')"
   ]
  },
  {
   "cell_type": "code",
   "execution_count": null,
   "metadata": {},
   "outputs": [],
   "source": [
    "model.save('GRU-dxdy2-simplificado-a.h5')"
   ]
  },
  {
   "cell_type": "code",
   "execution_count": null,
   "metadata": {},
   "outputs": [],
   "source": [
    "model.save('GRU-dxdy3-simplificado-a.h5')"
   ]
  },
  {
   "cell_type": "code",
   "execution_count": 71,
   "metadata": {},
   "outputs": [],
   "source": [
    "model.save('GRU-dxdy4-simplificado-a.h5')"
   ]
  },
  {
   "cell_type": "markdown",
   "metadata": {},
   "source": [
    "# CARGAMOS EL MODELO CON EL QUE VAMOS A PREDECIR"
   ]
  },
  {
   "cell_type": "code",
   "execution_count": 72,
   "metadata": {},
   "outputs": [],
   "source": [
    "modeldxdy = load_model('GRU-dxdy4-simplificado-a.h5')"
   ]
  },
  {
   "cell_type": "markdown",
   "metadata": {},
   "source": [
    "# PREDICCIÓN"
   ]
  },
  {
   "cell_type": "code",
   "execution_count": 73,
   "metadata": {},
   "outputs": [],
   "source": [
    "# AQUI SE ENCUENTRAN LAS FUNCIONES QUE CALCULAN LOS ERRORES ADE Y FDE\n",
    "\n",
    "\n",
    "def error_promedio(predicted_traj, true_traj, seq_length_obs):\n",
    "    \n",
    "    error = np.zeros(len(true_traj) - seq_length_obs)\n",
    "    # PARA CADA PUNTO EN LA TRAYECTORIA PREDICHA\n",
    "    for i in range(seq_length_obs, len(true_traj)):\n",
    "        # The predicted position\n",
    "        pred_pos = predicted_traj[i]\n",
    "        # The true position\n",
    "        true_pos = true_traj[i]\n",
    "\n",
    "        # The euclidean distance is the error\n",
    "        error[i-seq_length_obs] = np.linalg.norm(true_pos - pred_pos)\n",
    "\n",
    "    # Return the mean error\n",
    "    return np.mean(error)\n",
    "\n",
    "def error_desplazamiento_final(predicted_traj, true_traj):\n",
    "    tam = len(predicted_traj)\n",
    "    return np.linalg.norm(predicted_traj[tam-1]-true_traj[tam-1])"
   ]
  },
  {
   "cell_type": "code",
   "execution_count": 74,
   "metadata": {},
   "outputs": [],
   "source": [
    "# AQUI SE TIENE LA FUNCION QUE CREA LAS SECUENCIAS PARA PREDICCIÓN\n",
    "\n",
    "def secuencia_pred(seq_length_obs,data,seq_length_pred):\n",
    "    tamano = int(len(data))\n",
    "    \n",
    "    X,Y_true = [],[]\n",
    "    for j in range(tamano):\n",
    "        traj = data[j]\n",
    "        lon = traj.shape[0]-seq_length_obs-seq_length_pred\n",
    "    #lon=data.shape[0]-seq_length_obs-seq_length_pred\n",
    "        for i in range(0,lon+1):\n",
    "            a = traj[i:(i +seq_length_obs ), :]\n",
    "            \n",
    "            X.append(a)\n",
    "            \n",
    "            b = traj[i: (i+seq_length_obs+seq_length_pred), :]\n",
    "        \n",
    "            Y_true.append(b)\n",
    "    return np.array(X),np.array(Y_true)"
   ]
  },
  {
   "cell_type": "code",
   "execution_count": 75,
   "metadata": {},
   "outputs": [],
   "source": [
    "\"\"\"\n",
    "Esta funcion calcula el error del modelo , al evaluar el conjunto de test\n",
    "y los resultados estan normalizados\n",
    "\"\"\"\n",
    "\n",
    "def sample(datos, seq_length_obs, seq_length_pred):\n",
    "    \n",
    "    X,Y_true = secuencia_pred(seq_length_obs,datos,seq_length_pred)\n",
    "    total_error = 0.0\n",
    "    total_final = 0.0\n",
    "    todo = []\n",
    "    for i in range(len(X)):\n",
    "        traj_obs = X[i]\n",
    "        traj_pred = X[i]\n",
    "    \n",
    "        #print(Y_true[i])\n",
    "        \n",
    "        for j in range(seq_length_pred):\n",
    "            traj_obsr = numpy.reshape(traj_obs, (1,traj_obs.shape[0],traj_obs.shape[1]) )\n",
    "            #print(traj_obsr)\n",
    "            predict = modeldxdy.predict(traj_obsr)\n",
    "            next_point = traj_obs[len(traj_obs)-1]+predict\n",
    "                      \n",
    "            traj_obs = np.concatenate((traj_obs[1:len(traj_obs)],next_point),axis=0)\n",
    "            traj_pred = np.concatenate((traj_pred,next_point),axis=0)\n",
    "            \n",
    "        diff = Y_true[i][seq_length_obs:]-traj_pred[seq_length_obs:]\n",
    "        diff = diff**2\n",
    "        diff = np.sqrt(np.sum(diff,axis=1))\n",
    "        \n",
    "        todo.append(diff)\n",
    "        total_error += error_promedio(traj_pred , Y_true[i], seq_length_obs)\n",
    "        total_final += error_desplazamiento_final(traj_pred, Y_true[i]) \n",
    "        \n",
    "        \n",
    "    error_modelo = total_error/len(X)\n",
    "    error_fde_modelo = total_final/len(X)\n",
    "    ade=[t for o in todo for t in o]\n",
    "    \n",
    "    print('ADE')\n",
    "    print(np.mean(ade))\n",
    "    \n",
    "    print(error_modelo)\n",
    "    print('FDE')\n",
    "    print(error_fde_modelo)"
   ]
  },
  {
   "cell_type": "code",
   "execution_count": 76,
   "metadata": {},
   "outputs": [],
   "source": [
    "\"\"\"\n",
    "Esta funcion calcula el error del modelo , al evaluar el conjunto de test\n",
    "y los resultados estan en marco pixeles\n",
    "\"\"\"\n",
    "def sample_en_pixeles(datos, seq_length_obs, seq_length_pred):\n",
    "    \n",
    "    X,Y_true = secuencia_pred(seq_length_obs,datos,seq_length_pred)\n",
    "    total_error = 0.0\n",
    "    total_final = 0.0\n",
    "    todo = []\n",
    "    \n",
    "    \n",
    "    trayectoria=[]\n",
    "    verdadero=[]\n",
    "    for i in range(len(X)):\n",
    "        traj_obs = X[i]\n",
    "        traj_pred = X[i]\n",
    "    \n",
    "        \n",
    "        for j in range(seq_length_pred):\n",
    "            traj_obsr = numpy.reshape(traj_obs, (1,traj_obs.shape[0],traj_obs.shape[1]) )\n",
    "            #print(traj_obsr)\n",
    "            predict = modeldxdy.predict(traj_obsr)\n",
    "            next_point = traj_obs[len(traj_obs)-1]+predict\n",
    "                      \n",
    "            traj_obs = np.concatenate((traj_obs[1:len(traj_obs)],next_point),axis=0)\n",
    "            traj_pred = np.concatenate((traj_pred,next_point),axis=0)\n",
    "        \n",
    "        #traj_pre = []\n",
    "        #traj_tr = []\n",
    "        #for k in range(len(traj_pred)):\n",
    "        #    traj_pre.append([640* traj_pred[k,0],480*traj_pred[k,1]])\n",
    "        #    traj_tr.append([640* Y_true[i][k,0],480*Y_true[i][k,1]])\n",
    "        \n",
    "        #traj_pre = np.array(traj_pre)\n",
    "        #traj_tr = np.array(traj_tr)\n",
    "        \n",
    "        traj_pre =  np.column_stack((768*traj_pred[:,0],576*traj_pred[:,1]))\n",
    "        traj_tr = np.column_stack((768*Y_true[i][:,0],576*Y_true[i][:,1]))\n",
    "        \n",
    "        trayectoria.append(traj_pre)\n",
    "        verdadero.append(traj_tr)\n",
    "        \n",
    "        # calcular ADE\n",
    "        diff = traj_tr[seq_length_obs:]-traj_pre[seq_length_obs:]\n",
    "        diff = diff**2\n",
    "        diff = np.sqrt(np.sum(diff,axis=1))\n",
    "        todo.append(diff)\n",
    "        \n",
    "        total_error += error_promedio(traj_pre ,traj_tr,seq_length_obs)\n",
    "        total_final += error_desplazamiento_final(traj_pre, traj_tr)\n",
    "        \n",
    "    error_modelo = total_error/len(X)\n",
    "    error_fde_modelo = total_final/len(X)\n",
    "    ade = [t for o in todo for t in o]\n",
    "    \n",
    "    print('ADE')\n",
    "    print(np.mean(ade))\n",
    "    print(error_modelo)\n",
    "    print('FDE')\n",
    "    print(error_fde_modelo)\n",
    "    #return trayectoria, verdadero"
   ]
  },
  {
   "cell_type": "code",
   "execution_count": 77,
   "metadata": {},
   "outputs": [
    {
     "name": "stdout",
     "output_type": "stream",
     "text": [
      "ADE\n",
      "0.014892859184753502\n",
      "0.014892859184753502\n",
      "FDE\n",
      "0.025201735753710687\n"
     ]
    }
   ],
   "source": [
    "sample(test5, 8, 4)"
   ]
  },
  {
   "cell_type": "code",
   "execution_count": 78,
   "metadata": {},
   "outputs": [
    {
     "name": "stdout",
     "output_type": "stream",
     "text": [
      "ADE\n",
      "10.075838012751442\n",
      "10.075838012751442\n",
      "FDE\n",
      "17.1746231866887\n"
     ]
    }
   ],
   "source": [
    "sample_en_pixeles(test5,8,4)"
   ]
  },
  {
   "cell_type": "code",
   "execution_count": null,
   "metadata": {},
   "outputs": [],
   "source": []
  }
 ],
 "metadata": {
  "kernelspec": {
   "display_name": "Python 2",
   "language": "python",
   "name": "python2"
  },
  "language_info": {
   "codemirror_mode": {
    "name": "ipython",
    "version": 2
   },
   "file_extension": ".py",
   "mimetype": "text/x-python",
   "name": "python",
   "nbconvert_exporter": "python",
   "pygments_lexer": "ipython2",
   "version": "2.7.16"
  }
 },
 "nbformat": 4,
 "nbformat_minor": 2
}
