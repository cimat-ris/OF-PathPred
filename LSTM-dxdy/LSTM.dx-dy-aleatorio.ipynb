{
 "cells": [
  {
   "cell_type": "code",
   "execution_count": 1,
   "metadata": {},
   "outputs": [
    {
     "name": "stderr",
     "output_type": "stream",
     "text": [
      "Using TensorFlow backend.\n"
     ]
    }
   ],
   "source": [
    "import os\n",
    "import pickle\n",
    "import numpy \n",
    "import pandas as pd\n",
    "#import cv2\n",
    "import matplotlib.pyplot as plt\n",
    "from PIL import Image\n",
    "from pylab import *\n",
    "from matplotlib import pyplot\n",
    "\n",
    "from scipy. ndimage import filters\n",
    "import pandas as pd\n",
    "import os\n",
    "from keras.models import Model, Sequential, save_model, load_model\n",
    "import math\n",
    "from sklearn.metrics import mean_squared_error\n",
    "\n",
    "import random\n",
    "from sklearn.preprocessing import MinMaxScaler\n",
    "import h5py\n",
    "import tensorflow as tf\n"
   ]
  },
  {
   "cell_type": "code",
   "execution_count": 2,
   "metadata": {},
   "outputs": [],
   "source": [
    "import os \n",
    "import pickle\n",
    "import numpy as np\n",
    "import random\n",
    "\n",
    "def preprocess(data_dirs, data_file,name):\n",
    "    # all_ped_data would be a dictionary with mapping from each ped to their\n",
    "    # trajectories given by matrix 3 x numPoints with each column\n",
    "    # in the order x, y, frameId\n",
    "    # Pedestrians from all datasets are combined\n",
    "    # Dataset pedestrian indices are stored in dataset_indices\n",
    "    all_ped_data = {}\n",
    "    dataset_indices = []\n",
    "    current_ped = 0\n",
    "    # For each dataset\n",
    "    for directory in data_dirs:\n",
    "        # Define the path to its respective csv file\n",
    "        file_path = os.path.join(directory,name )\n",
    "\n",
    "        # Cargar datos desde el archivo csv\n",
    "        # Los datos son una matriz 4x numTrajPoints\n",
    "        data = np.genfromtxt(file_path, delimiter=',')\n",
    "       \n",
    "        # Obtenga el numero de peatones en el conjunto de datos actual\n",
    "        #uni = np.unique(data[:,1])    \n",
    "        numPeds = np.size(np.unique(data[:,1]))\n",
    "     \n",
    "        print(\"peatones.............\")\n",
    "        print(numPeds)\n",
    "       \n",
    "        # Para cada peaton en el conjunto de datos\n",
    "        for ped in range(1, numPeds+1):\n",
    "            #Son los datos de la persona ped\n",
    "            traj = data[ data[:, 1] == ped]\n",
    "            \n",
    "            #Esta como (x,y,frame_Id)\n",
    "            traj = traj[:, [2,3,0]]\n",
    "            \n",
    "            #Esta como [[x,...],[y,...],[Frame_Id,..]]\n",
    "            traj=[list(traj[:,0]),list(traj[:,1]),list(traj[:,2])]\n",
    "            all_ped_data[current_ped + ped] = np.array(traj)\n",
    "\n",
    "        # Current dataset done\n",
    "        dataset_indices.append(current_ped+numPeds)\n",
    "        current_ped += numPeds\n",
    "\n",
    "    # Los datos completos son una tupla de todos los datos de peatones y los indices de datos del conjunto de datos.\n",
    "    complete_data = (all_ped_data, dataset_indices)\n",
    "    # Almacena los datos completos en el archivo pickle\n",
    "    f = open(data_file, \"wb\")\n",
    "    pickle.dump(complete_data, f, protocol=2)\n",
    "    f.close()\n",
    "    return complete_data\n",
    "    "
   ]
  },
  {
   "cell_type": "code",
   "execution_count": 3,
   "metadata": {},
   "outputs": [],
   "source": [
    "def load_preprocessed(data_file,seq_length_obs,batch_size):\n",
    "    \n",
    "    # cargar los datos\n",
    "    f = open(data_file, \"rb\")\n",
    "    raw_data = pickle.load(f)\n",
    "    f.close()\n",
    "\n",
    "    # Obtengo los peatones\n",
    "    all_ped_data =raw_data[0]\n",
    " \n",
    "    #all_ped_data es el vector {[[],[],[]],...,[[],[],[]]} tantos como pedestrian hayan\n",
    "    # No usamos dataset_indices por ahora\n",
    "    # dataset_indices = self.raw_data[1]\n",
    "\n",
    "    # Construimos data con secuencias(o trayectorias) del largo than seq_length_obs\n",
    "    data = []\n",
    "    counter = 0\n",
    "\n",
    "    # para cada peaton en data\n",
    "    for ped in all_ped_data:\n",
    "        \n",
    "        #ped es un numero entero y va de 1 hasta la cantidad total de pedestrian\n",
    "        # Extract his trajectory\n",
    "        traj = all_ped_data[ped]\n",
    "        \n",
    "           \n",
    "        # If the length of the trajectory is greater than seq_length (+2 as we need both source and target data)\n",
    "        #solo se toman las trajectorias de longitud mayor a seq_length+2\n",
    "        if traj.shape[1] >= (seq_length_obs+1):\n",
    "            # TODO: (Improve) Store only the (x,y) coordinates for now\n",
    "               \n",
    "            data.append(traj[[0, 1], :].T)\n",
    "            #print(traj[[0, 1], :].T)\n",
    "            # Number of batches this datapoint is worth\n",
    "            #print(traj.shape[1] )\n",
    "            #print(int(traj.shape[1] / ((seq_length_obs+1))))\n",
    "            counter += int(traj.shape[1] / ((seq_length_obs+1)))\n",
    "        \n",
    "    # Calculate the number of batches (each of batch_size) in the data\n",
    "    #counter tiene la cantidad de bloques de 8 pasos\n",
    "        \n",
    "    num_batches = int(counter /batch_size)\n",
    "    #cada bache tiene batch_size conjuntos donde cada conjunto tiene datos de length+2\n",
    "    return data,num_batches"
   ]
  },
  {
   "cell_type": "code",
   "execution_count": 4,
   "metadata": {},
   "outputs": [
    {
     "name": "stdout",
     "output_type": "stream",
     "text": [
      "peatones.............\n",
      "19\n"
     ]
    }
   ],
   "source": [
    "#data_dirs = ['../data1/ucy/zara/zara01']\n",
    "#data_dirs = ['../data1/ucy/univ']\n",
    "data_dirs = ['../data1/pets']\n",
    "datasets = [0]\n",
    "used_data_dirs = [data_dirs[x] for x in datasets]\n",
    "      \n",
    "# Directorio de datos donde reside el archivo pickle preprocesado\n",
    "data_dir = '../data1'\n",
    "\n",
    "# Defina la ruta del archivo en el que deben almacenarse los datos.\n",
    "data_file = os.path.join(data_dir, \"datos_limpios_.cpkl\")\n",
    "\n",
    "name='pixel_pos_2.csv'\n",
    "# If the file doesn't exist already or if forcePreProcess is true\n",
    "#se usa preprocesscsv para los csv y preprocess para el .txt\n",
    "\n",
    "data = preprocess(used_data_dirs, data_file,name)\n",
    "datos,numero = load_preprocessed(data_file,12,1)#los ultimos dos valores noimportan"
   ]
  },
  {
   "cell_type": "code",
   "execution_count": 5,
   "metadata": {},
   "outputs": [],
   "source": [
    "def secuencia(seq_length_obs,data):\n",
    "    tamano = int(len(data))\n",
    "    \n",
    "    X,Y = [],[]\n",
    "    for j in range(tamano):\n",
    "        traj = data[j]\n",
    "        lon = traj.shape[0]-seq_length_obs-1\n",
    "        for i in range(0,lon+1):\n",
    "            a = traj[i:(i +seq_length_obs ), :]\n",
    "            X.append(a)\n",
    "            b = traj[i+seq_length_obs, :]  \n",
    "            Y.append(b-a[len(a)-1,:])\n",
    "    return np.array(X), np.array(Y)"
   ]
  },
  {
   "cell_type": "code",
   "execution_count": 7,
   "metadata": {},
   "outputs": [
    {
     "name": "stdout",
     "output_type": "stream",
     "text": [
      "('Cantidad total peatones', 19)\n",
      "('Peatones para entrenamiento es ', 15)\n",
      "('Peatones para test es ', 4)\n"
     ]
    }
   ],
   "source": [
    "import random\n",
    "random.seed(0)\n",
    "datos = np.array(datos)\n",
    "\n",
    "\n",
    "array_new = arange(len(datos))\n",
    "random.shuffle(array_new)\n",
    "longitud = len(array_new)\n",
    "train_size = int(longitud * 0.80)\n",
    "test_size = longitud-train_size\n",
    "\n",
    "train = datos[array_new[0:train_size]]\n",
    "test = datos[array_new[train_size:]]\n",
    "\n",
    "print(\"Cantidad total peatones\", len(datos))\n",
    "print(\"Peatones para entrenamiento es \" ,len(train))\n",
    "print(\"Peatones para test es \" ,len(test))\n"
   ]
  },
  {
   "cell_type": "code",
   "execution_count": 8,
   "metadata": {},
   "outputs": [],
   "source": [
    "trainX,trainY = secuencia(8,train)"
   ]
  },
  {
   "cell_type": "code",
   "execution_count": 9,
   "metadata": {},
   "outputs": [],
   "source": [
    "trainX = numpy.reshape(trainX, (trainX.shape[0], trainX.shape[1],trainX.shape[2]))"
   ]
  },
  {
   "cell_type": "code",
   "execution_count": 10,
   "metadata": {},
   "outputs": [
    {
     "name": "stdout",
     "output_type": "stream",
     "text": [
      "(8, 2)\n"
     ]
    },
    {
     "data": {
      "text/plain": [
       "(1888, 8, 2)"
      ]
     },
     "execution_count": 10,
     "metadata": {},
     "output_type": "execute_result"
    }
   ],
   "source": [
    "data_shape = trainX.shape[1:]\n",
    "print(data_shape)\n",
    "\n",
    "import numpy as np\n",
    "np.shape(trainX)"
   ]
  },
  {
   "cell_type": "code",
   "execution_count": 11,
   "metadata": {},
   "outputs": [
    {
     "name": "stderr",
     "output_type": "stream",
     "text": [
      "WARNING: Logging before flag parsing goes to stderr.\n",
      "W1120 17:17:55.734373 139991211140864 deprecation_wrapper.py:119] From /home/andrea/anaconda2/lib/python2.7/site-packages/keras/backend/tensorflow_backend.py:74: The name tf.get_default_graph is deprecated. Please use tf.compat.v1.get_default_graph instead.\n",
      "\n",
      "W1120 17:17:55.768697 139991211140864 deprecation_wrapper.py:119] From /home/andrea/anaconda2/lib/python2.7/site-packages/keras/backend/tensorflow_backend.py:517: The name tf.placeholder is deprecated. Please use tf.compat.v1.placeholder instead.\n",
      "\n",
      "W1120 17:17:55.772187 139991211140864 deprecation_wrapper.py:119] From /home/andrea/anaconda2/lib/python2.7/site-packages/keras/backend/tensorflow_backend.py:4138: The name tf.random_uniform is deprecated. Please use tf.random.uniform instead.\n",
      "\n"
     ]
    }
   ],
   "source": [
    "from keras.models import Sequential\n",
    "from keras import optimizers\n",
    "from keras.layers import Dense\n",
    "from keras.layers import LSTM\n",
    "from keras.callbacks import EarlyStopping\n",
    "from keras import initializers\n",
    "from datetime import datetime\n",
    "\n",
    "if 'model' in globals(): del model\n",
    "model = None\n",
    "model = Sequential()\n",
    "model.add(LSTM(9, return_sequences=True, input_shape=data_shape, name='lstm1'))\n",
    "model.add(LSTM(9, name='lstm2'))\n",
    "model.add(Dense(2))"
   ]
  },
  {
   "cell_type": "code",
   "execution_count": 12,
   "metadata": {},
   "outputs": [
    {
     "name": "stderr",
     "output_type": "stream",
     "text": [
      "W1120 17:17:57.970031 139991211140864 deprecation_wrapper.py:119] From /home/andrea/anaconda2/lib/python2.7/site-packages/keras/optimizers.py:790: The name tf.train.Optimizer is deprecated. Please use tf.compat.v1.train.Optimizer instead.\n",
      "\n",
      "W1120 17:17:57.976077 139991211140864 deprecation_wrapper.py:119] From /home/andrea/anaconda2/lib/python2.7/site-packages/keras/backend/tensorflow_backend.py:1521: The name tf.log is deprecated. Please use tf.math.log instead.\n",
      "\n",
      "W1120 17:17:58.194794 139991211140864 deprecation.py:323] From /home/andrea/anaconda2/lib/python2.7/site-packages/tensorflow/python/ops/math_grad.py:1250: where (from tensorflow.python.ops.array_ops) is deprecated and will be removed in a future version.\n",
      "Instructions for updating:\n",
      "Use tf.where in 2.0, which has the same broadcast rule as np.where\n",
      "W1120 17:17:59.417587 139991211140864 deprecation_wrapper.py:119] From /home/andrea/anaconda2/lib/python2.7/site-packages/keras/backend/tensorflow_backend.py:986: The name tf.assign_add is deprecated. Please use tf.compat.v1.assign_add instead.\n",
      "\n"
     ]
    },
    {
     "name": "stdout",
     "output_type": "stream",
     "text": [
      "Epoch 1/80\n",
      " - 2s - loss: 1.2913e-04 - mean_squared_error: 2.5847e-04\n",
      "Epoch 2/80\n",
      " - 1s - loss: 3.9868e-05 - mean_squared_error: 7.9743e-05\n",
      "Epoch 3/80\n",
      " - 1s - loss: 2.8965e-05 - mean_squared_error: 5.7937e-05\n",
      "Epoch 4/80\n",
      " - 1s - loss: 2.0011e-05 - mean_squared_error: 4.0025e-05\n",
      "Epoch 5/80\n",
      " - 1s - loss: 1.4145e-05 - mean_squared_error: 2.8294e-05\n",
      "Epoch 6/80\n",
      " - 1s - loss: 1.1575e-05 - mean_squared_error: 2.3156e-05\n",
      "Epoch 7/80\n",
      " - 1s - loss: 1.0531e-05 - mean_squared_error: 2.1067e-05\n",
      "Epoch 8/80\n",
      " - 1s - loss: 9.8107e-06 - mean_squared_error: 1.9626e-05\n",
      "Epoch 9/80\n",
      " - 1s - loss: 9.5604e-06 - mean_squared_error: 1.9124e-05\n",
      "Epoch 10/80\n",
      " - 1s - loss: 9.1792e-06 - mean_squared_error: 1.8363e-05\n",
      "Epoch 11/80\n",
      " - 1s - loss: 8.7298e-06 - mean_squared_error: 1.7461e-05\n",
      "Epoch 12/80\n",
      " - 1s - loss: 8.5091e-06 - mean_squared_error: 1.7019e-05\n",
      "Epoch 13/80\n",
      " - 1s - loss: 8.4146e-06 - mean_squared_error: 1.6833e-05\n",
      "Epoch 14/80\n",
      " - 1s - loss: 8.2188e-06 - mean_squared_error: 1.6443e-05\n",
      "Epoch 15/80\n",
      " - 1s - loss: 8.0445e-06 - mean_squared_error: 1.6092e-05\n",
      "Epoch 16/80\n",
      " - 1s - loss: 7.9481e-06 - mean_squared_error: 1.5897e-05\n",
      "Epoch 17/80\n",
      " - 1s - loss: 7.7691e-06 - mean_squared_error: 1.5544e-05\n",
      "Epoch 18/80\n",
      " - 1s - loss: 7.7350e-06 - mean_squared_error: 1.5473e-05\n",
      "Epoch 19/80\n",
      " - 1s - loss: 7.6143e-06 - mean_squared_error: 1.5233e-05\n",
      "Epoch 20/80\n",
      " - 1s - loss: 7.4756e-06 - mean_squared_error: 1.4956e-05\n",
      "Epoch 21/80\n",
      " - 1s - loss: 7.4280e-06 - mean_squared_error: 1.4859e-05\n",
      "Epoch 22/80\n",
      " - 1s - loss: 7.3711e-06 - mean_squared_error: 1.4745e-05\n",
      "Epoch 23/80\n",
      " - 1s - loss: 7.3170e-06 - mean_squared_error: 1.4637e-05\n",
      "Epoch 24/80\n",
      " - 1s - loss: 7.2835e-06 - mean_squared_error: 1.4571e-05\n",
      "Epoch 25/80\n",
      " - 1s - loss: 7.1227e-06 - mean_squared_error: 1.4246e-05\n",
      "Epoch 26/80\n",
      " - 1s - loss: 7.1387e-06 - mean_squared_error: 1.4283e-05\n",
      "Epoch 27/80\n",
      " - 1s - loss: 7.0113e-06 - mean_squared_error: 1.4027e-05\n",
      "Epoch 28/80\n",
      " - 1s - loss: 7.0241e-06 - mean_squared_error: 1.4050e-05\n",
      "Epoch 29/80\n",
      " - 1s - loss: 6.9779e-06 - mean_squared_error: 1.3958e-05\n",
      "Epoch 30/80\n",
      " - 1s - loss: 6.9269e-06 - mean_squared_error: 1.3857e-05\n",
      "Epoch 31/80\n",
      " - 1s - loss: 6.8847e-06 - mean_squared_error: 1.3773e-05\n",
      "Epoch 32/80\n",
      " - 1s - loss: 6.8622e-06 - mean_squared_error: 1.3728e-05\n",
      "Epoch 33/80\n",
      " - 1s - loss: 6.8312e-06 - mean_squared_error: 1.3669e-05\n",
      "Epoch 34/80\n",
      " - 1s - loss: 6.7531e-06 - mean_squared_error: 1.3510e-05\n",
      "Epoch 35/80\n",
      " - 1s - loss: 6.6296e-06 - mean_squared_error: 1.3263e-05\n",
      "Epoch 36/80\n",
      " - 1s - loss: 6.6889e-06 - mean_squared_error: 1.3380e-05\n",
      "Epoch 37/80\n",
      " - 1s - loss: 6.6361e-06 - mean_squared_error: 1.3276e-05\n",
      "Epoch 38/80\n",
      " - 1s - loss: 6.6289e-06 - mean_squared_error: 1.3259e-05\n",
      "Epoch 39/80\n",
      " - 1s - loss: 6.5979e-06 - mean_squared_error: 1.3197e-05\n",
      "Epoch 40/80\n",
      " - 1s - loss: 6.5277e-06 - mean_squared_error: 1.3060e-05\n",
      "Epoch 41/80\n",
      " - 1s - loss: 6.4768e-06 - mean_squared_error: 1.2956e-05\n",
      "Epoch 42/80\n",
      " - 1s - loss: 6.4219e-06 - mean_squared_error: 1.2847e-05\n",
      "Epoch 43/80\n",
      " - 1s - loss: 6.4413e-06 - mean_squared_error: 1.2886e-05\n",
      "Epoch 44/80\n",
      " - 1s - loss: 6.3797e-06 - mean_squared_error: 1.2763e-05\n",
      "Epoch 45/80\n",
      " - 1s - loss: 6.3675e-06 - mean_squared_error: 1.2739e-05\n",
      "Epoch 46/80\n",
      " - 1s - loss: 6.3859e-06 - mean_squared_error: 1.2773e-05\n",
      "Epoch 47/80\n",
      " - 1s - loss: 6.3106e-06 - mean_squared_error: 1.2624e-05\n",
      "Epoch 48/80\n",
      " - 1s - loss: 6.3078e-06 - mean_squared_error: 1.2624e-05\n",
      "Epoch 49/80\n",
      " - 1s - loss: 6.2727e-06 - mean_squared_error: 1.2550e-05\n",
      "Epoch 50/80\n",
      " - 1s - loss: 6.2648e-06 - mean_squared_error: 1.2533e-05\n",
      "Epoch 51/80\n",
      " - 1s - loss: 6.2181e-06 - mean_squared_error: 1.2441e-05\n",
      "Epoch 52/80\n",
      " - 1s - loss: 6.1817e-06 - mean_squared_error: 1.2366e-05\n",
      "Epoch 53/80\n",
      " - 1s - loss: 6.1514e-06 - mean_squared_error: 1.2305e-05\n",
      "Epoch 54/80\n",
      " - 1s - loss: 6.1227e-06 - mean_squared_error: 1.2246e-05\n",
      "Epoch 55/80\n",
      " - 1s - loss: 6.1252e-06 - mean_squared_error: 1.2255e-05\n",
      "Epoch 56/80\n",
      " - 1s - loss: 6.0760e-06 - mean_squared_error: 1.2154e-05\n",
      "Epoch 57/80\n",
      " - 1s - loss: 6.0495e-06 - mean_squared_error: 1.2101e-05\n",
      "Epoch 58/80\n",
      " - 1s - loss: 6.0841e-06 - mean_squared_error: 1.2169e-05\n",
      "Epoch 59/80\n",
      " - 1s - loss: 6.0254e-06 - mean_squared_error: 1.2054e-05\n",
      "Epoch 60/80\n",
      " - 1s - loss: 5.9805e-06 - mean_squared_error: 1.1966e-05\n",
      "Epoch 61/80\n",
      " - 1s - loss: 5.9717e-06 - mean_squared_error: 1.1949e-05\n",
      "Epoch 62/80\n",
      " - 1s - loss: 5.9848e-06 - mean_squared_error: 1.1970e-05\n",
      "Epoch 63/80\n",
      " - 1s - loss: 5.9563e-06 - mean_squared_error: 1.1915e-05\n",
      "Epoch 64/80\n",
      " - 1s - loss: 5.9247e-06 - mean_squared_error: 1.1854e-05\n",
      "Epoch 65/80\n",
      " - 1s - loss: 5.9158e-06 - mean_squared_error: 1.1834e-05\n",
      "Epoch 66/80\n",
      " - 1s - loss: 5.8963e-06 - mean_squared_error: 1.1798e-05\n",
      "Epoch 67/80\n",
      " - 1s - loss: 5.8402e-06 - mean_squared_error: 1.1682e-05\n",
      "Epoch 68/80\n",
      " - 1s - loss: 5.8495e-06 - mean_squared_error: 1.1700e-05\n",
      "Epoch 69/80\n",
      " - 1s - loss: 5.8183e-06 - mean_squared_error: 1.1640e-05\n",
      "Epoch 70/80\n",
      " - 1s - loss: 5.8239e-06 - mean_squared_error: 1.1653e-05\n",
      "Epoch 71/80\n",
      " - 1s - loss: 5.7809e-06 - mean_squared_error: 1.1565e-05\n",
      "Epoch 72/80\n",
      " - 1s - loss: 5.7827e-06 - mean_squared_error: 1.1568e-05\n",
      "Epoch 73/80\n",
      " - 1s - loss: 5.7890e-06 - mean_squared_error: 1.1581e-05\n",
      "Epoch 74/80\n",
      " - 1s - loss: 5.7498e-06 - mean_squared_error: 1.1505e-05\n",
      "Epoch 75/80\n",
      " - 1s - loss: 5.7260e-06 - mean_squared_error: 1.1455e-05\n",
      "Epoch 76/80\n",
      " - 1s - loss: 5.7411e-06 - mean_squared_error: 1.1486e-05\n",
      "Epoch 77/80\n",
      " - 1s - loss: 5.6959e-06 - mean_squared_error: 1.1394e-05\n",
      "Epoch 78/80\n",
      " - 1s - loss: 5.6960e-06 - mean_squared_error: 1.1393e-05\n",
      "Epoch 79/80\n",
      " - 1s - loss: 5.6717e-06 - mean_squared_error: 1.1345e-05\n",
      "Epoch 80/80\n",
      " - 1s - loss: 5.6817e-06 - mean_squared_error: 1.1367e-05\n"
     ]
    }
   ],
   "source": [
    "opt = optimizers.RMSprop(lr = 0.006, decay=1e-2)\n",
    "model.compile( optimizer = opt,loss='logcosh',metrics=['mse'])\n",
    "history1 = model.fit(trainX, trainY, epochs=80, batch_size=15, verbose=2 )\n"
   ]
  },
  {
   "cell_type": "code",
   "execution_count": 13,
   "metadata": {},
   "outputs": [
    {
     "data": {
      "text/plain": [
       "['mean_squared_error', 'loss']"
      ]
     },
     "execution_count": 13,
     "metadata": {},
     "output_type": "execute_result"
    }
   ],
   "source": [
    "history_dict1 = history1.history\n",
    "history_dict1.keys()"
   ]
  },
  {
   "cell_type": "code",
   "execution_count": 14,
   "metadata": {},
   "outputs": [
    {
     "data": {
      "image/png": "[encoded data removed]",
      "text/plain": [
       "<Figure size 720x360 with 2 Axes>"
      ]
     },
     "metadata": {
      "needs_background": "light"
     },
     "output_type": "display_data"
    }
   ],
   "source": [
    "acc = history1.history['mean_squared_error']\n",
    "#val_acc = history.history['val_mean_squared_error']\n",
    "loss = history1.history['loss']\n",
    "#val_loss = history.history['val_loss']\n",
    "\n",
    "epochs = range(1, len(loss)+1)\n",
    "\n",
    "# figure\n",
    "plt.figure(figsize=(10,5))\n",
    "plt.subplot(1,2,1)\n",
    "plt.plot(epochs, loss, 'b', label='Training loss')\n",
    "#plt.plot(epochs, val_loss, 'g', label='Validation loss')\n",
    "plt.title('Training loss')\n",
    "plt.xlabel('Epochs')\n",
    "plt.ylabel('Loss')\n",
    "plt.legend()\n",
    "\n",
    "plt.subplot(1,2,2)\n",
    "plt.plot(epochs, acc, 'r', label='Training mse')\n",
    "#plt.plot(epochs, val_acc, 'g', label='Validation mse')\n",
    "plt.title('Training mse')\n",
    "plt.xlabel('Epochs')\n",
    "plt.ylabel('MSE')\n",
    "plt.legend()\n",
    "plt.show()"
   ]
  },
  {
   "cell_type": "code",
   "execution_count": null,
   "metadata": {},
   "outputs": [],
   "source": [
    "#model.save('lstm-ucy-zara-zara01_solo.h5')"
   ]
  },
  {
   "cell_type": "code",
   "execution_count": null,
   "metadata": {},
   "outputs": [],
   "source": [
    "#model.save('lstm-ucy-univ_solo.h5')"
   ]
  },
  {
   "cell_type": "code",
   "execution_count": null,
   "metadata": {},
   "outputs": [],
   "source": [
    "#model.save('lstm-pets_solo.h5')"
   ]
  },
  {
   "cell_type": "code",
   "execution_count": null,
   "metadata": {},
   "outputs": [],
   "source": [
    "#model.save('lstm-pets1_solo.h5')"
   ]
  },
  {
   "cell_type": "code",
   "execution_count": 15,
   "metadata": {},
   "outputs": [],
   "source": [
    "#model.save('lstm-pets_simplificado_solo.h5')"
   ]
  },
  {
   "cell_type": "code",
   "execution_count": 16,
   "metadata": {},
   "outputs": [],
   "source": [
    "modeldxdy = load_model('lstm-pets_simplificado_solo.h5')# la de 8 pasos observados"
   ]
  },
  {
   "cell_type": "code",
   "execution_count": 17,
   "metadata": {},
   "outputs": [],
   "source": [
    "def error_promedio(predicted_traj, true_traj, seq_length_obs):\n",
    "    \n",
    "    error = np.zeros(len(true_traj) - seq_length_obs)\n",
    "    # PARA CADA PUNTO EN LA TRAYECTORIA PREDICHA\n",
    "    for i in range(seq_length_obs, len(true_traj)):\n",
    "        # The predicted position\n",
    "        pred_pos = predicted_traj[i]\n",
    "        # The true position\n",
    "        true_pos = true_traj[i]\n",
    "\n",
    "        # The euclidean distance is the error\n",
    "        error[i-seq_length_obs] = np.linalg.norm(true_pos - pred_pos)\n",
    "\n",
    "    # Return the mean error\n",
    "    return np.mean(error)\n"
   ]
  },
  {
   "cell_type": "code",
   "execution_count": 18,
   "metadata": {},
   "outputs": [],
   "source": [
    "def error_desplazamiento_final(predicted_traj, true_traj):\n",
    "    tam = len(predicted_traj)\n",
    "    return np.linalg.norm(predicted_traj[tam-1]-true_traj[tam-1])"
   ]
  },
  {
   "cell_type": "code",
   "execution_count": 19,
   "metadata": {},
   "outputs": [],
   "source": [
    "def secuencia_pred(seq_length_obs,data,seq_length_pred):\n",
    "    tamano = int(len(data))\n",
    "    \n",
    "    X,Y_true = [],[]\n",
    "    for j in range(tamano):\n",
    "        traj = data[j]\n",
    "        lon = traj.shape[0]-seq_length_obs-seq_length_pred\n",
    "    #lon=data.shape[0]-seq_length_obs-seq_length_pred\n",
    "        for i in range(0,lon+1):\n",
    "            a = traj[i:(i +seq_length_obs ), :]\n",
    "            \n",
    "            X.append(a)\n",
    "            \n",
    "            b = traj[i: (i+seq_length_obs+seq_length_pred), :]\n",
    "        \n",
    "            Y_true.append(b)\n",
    "    return np.array(X),np.array(Y_true)"
   ]
  },
  {
   "cell_type": "code",
   "execution_count": 20,
   "metadata": {},
   "outputs": [],
   "source": [
    "\"\"\"\n",
    "Esta funcion calcula el error del modelo , al evaluar el conjunto de test\n",
    "y los resultados estan normalizados\n",
    "\"\"\"\n",
    "\n",
    "\n",
    "def sample(datos, seq_length_obs, seq_length_pred):\n",
    "    \n",
    "    X,Y_true = secuencia_pred(seq_length_obs,datos,seq_length_pred)\n",
    "    total_error = 0.0\n",
    "    total_final = 0.0\n",
    "    todo = []\n",
    "    for i in range(len(X)):\n",
    "        traj_obs = X[i]\n",
    "        traj_pred = X[i]\n",
    "    \n",
    "        #print(Y_true[i])\n",
    "        \n",
    "        for j in range(seq_length_pred):\n",
    "            traj_obsr = numpy.reshape(traj_obs, (1,traj_obs.shape[0],traj_obs.shape[1]) )\n",
    "            #print(traj_obsr)\n",
    "            predict = modeldxdy.predict(traj_obsr)\n",
    "            next_point = traj_obs[len(traj_obs)-1]+predict\n",
    "                      \n",
    "            traj_obs = np.concatenate((traj_obs[1:len(traj_obs)],next_point),axis=0)\n",
    "            traj_pred = np.concatenate((traj_pred,next_point),axis=0)\n",
    "            \n",
    "        diff = Y_true[i][seq_length_obs:]-traj_pred[seq_length_obs:]\n",
    "        diff = diff**2\n",
    "        diff = np.sqrt(np.sum(diff,axis=1))\n",
    "        \n",
    "        todo.append(diff)\n",
    "        total_error += error_promedio(traj_pred , Y_true[i], seq_length_obs)\n",
    "        total_final += error_desplazamiento_final(traj_pred, Y_true[i]) \n",
    "        \n",
    "        \n",
    "    error_modelo = total_error/len(X)\n",
    "    error_fde_modelo = total_final/len(X)\n",
    "    ade=[t for o in todo for t in o]\n",
    "    \n",
    "    print('ADE')\n",
    "    print(np.mean(ade))\n",
    "    \n",
    "    print(error_modelo)\n",
    "    print('FDE')\n",
    "    print(error_fde_modelo)\n",
    "        \n",
    "    "
   ]
  },
  {
   "cell_type": "code",
   "execution_count": 21,
   "metadata": {},
   "outputs": [],
   "source": [
    "\"\"\"\n",
    "Esta funcion calcula el error del modelo , al evaluar el conjunto de test\n",
    "y los resultados estan en marco pixeles\n",
    "\"\"\"\n",
    "def sample_en_pixeles(datos, seq_length_obs, seq_length_pred):\n",
    "    \n",
    "    X,Y_true = secuencia_pred(seq_length_obs,datos,seq_length_pred)\n",
    "    total_error = 0.0\n",
    "    total_final = 0.0\n",
    "    todo = []\n",
    "    \n",
    "    \n",
    "    trayectoria=[]\n",
    "    verdadero=[]\n",
    "    for i in range(len(X)):\n",
    "        traj_obs = X[i]\n",
    "        traj_pred = X[i]\n",
    "    \n",
    "        \n",
    "        for j in range(seq_length_pred):\n",
    "            traj_obsr = numpy.reshape(traj_obs, (1,traj_obs.shape[0],traj_obs.shape[1]) )\n",
    "            #print(traj_obsr)\n",
    "            predict = modeldxdy.predict(traj_obsr)\n",
    "            next_point = traj_obs[len(traj_obs)-1]+predict\n",
    "                      \n",
    "            traj_obs = np.concatenate((traj_obs[1:len(traj_obs)],next_point),axis=0)\n",
    "            traj_pred = np.concatenate((traj_pred,next_point),axis=0)\n",
    "        \n",
    "        #traj_pre = []\n",
    "        #traj_tr = []\n",
    "        #for k in range(len(traj_pred)):\n",
    "        #    traj_pre.append([640* traj_pred[k,0],480*traj_pred[k,1]])\n",
    "        #    traj_tr.append([640* Y_true[i][k,0],480*Y_true[i][k,1]])\n",
    "        \n",
    "        #traj_pre = np.array(traj_pre)\n",
    "        #traj_tr = np.array(traj_tr)\n",
    "        \n",
    "        traj_pre =  np.column_stack((768*traj_pred[:,0],576*traj_pred[:,1]))\n",
    "        traj_tr = np.column_stack((768*Y_true[i][:,0],576*Y_true[i][:,1]))\n",
    "        \n",
    "        trayectoria.append(traj_pre)\n",
    "        verdadero.append(traj_tr)\n",
    "        \n",
    "        # calcular ADE\n",
    "        diff = traj_tr[seq_length_obs:]-traj_pre[seq_length_obs:]\n",
    "        diff = diff**2\n",
    "        diff = np.sqrt(np.sum(diff,axis=1))\n",
    "        todo.append(diff)\n",
    "        \n",
    "        total_error += error_promedio(traj_pre ,traj_tr,seq_length_obs)\n",
    "        total_final += error_desplazamiento_final(traj_pre, traj_tr)\n",
    "        \n",
    "    error_modelo = total_error/len(X)\n",
    "    error_fde_modelo = total_final/len(X)\n",
    "    ade = [t for o in todo for t in o]\n",
    "    \n",
    "    print('ADE')\n",
    "    print(np.mean(ade))\n",
    "    print(error_modelo)\n",
    "    print('FDE')\n",
    "    print(error_fde_modelo)\n",
    "    #return trayectoria, verdadero"
   ]
  },
  {
   "cell_type": "code",
   "execution_count": null,
   "metadata": {},
   "outputs": [],
   "source": [
    "sample(test,8,2)"
   ]
  },
  {
   "cell_type": "code",
   "execution_count": 23,
   "metadata": {},
   "outputs": [
    {
     "name": "stdout",
     "output_type": "stream",
     "text": [
      "ADE\n",
      "5.584197255449434\n",
      "5.584197255449432\n",
      "FDE\n",
      "9.27128732767099\n"
     ]
    }
   ],
   "source": [
    "sample_en_pixeles(test,8,4)"
   ]
  },
  {
   "cell_type": "code",
   "execution_count": null,
   "metadata": {},
   "outputs": [],
   "source": []
  }
 ],
 "metadata": {
  "kernelspec": {
   "display_name": "Python 2",
   "language": "python",
   "name": "python2"
  },
  "language_info": {
   "codemirror_mode": {
    "name": "ipython",
    "version": 2
   },
   "file_extension": ".py",
   "mimetype": "text/x-python",
   "name": "python",
   "nbconvert_exporter": "python",
   "pygments_lexer": "ipython2",
   "version": "2.7.16"
  }
 },
 "nbformat": 4,
 "nbformat_minor": 2
}
