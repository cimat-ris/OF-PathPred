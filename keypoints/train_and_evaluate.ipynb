{
 "cells": [
  {
   "cell_type": "code",
   "execution_count": 1,
   "metadata": {},
   "outputs": [
    {
     "name": "stdout",
     "output_type": "stream",
     "text": [
      "Tensorflow version:  1.15.2\n"
     ]
    },
    {
     "data": {
      "text/plain": [
       "''"
      ]
     },
     "execution_count": 1,
     "metadata": {},
     "output_type": "execute_result"
    }
   ],
   "source": [
    "# Imports\n",
    "import sys,os\n",
    "sys.path.append(os.path.join(sys.path[0],'lib'))\n",
    "import numpy as np\n",
    "import warnings\n",
    "warnings.filterwarnings('ignore')\n",
    "import tensorflow as tf \n",
    "print('Tensorflow version: ',tf.__version__)\n",
    "tf.test.gpu_device_name()"
   ]
  },
  {
   "cell_type": "code",
   "execution_count": 2,
   "metadata": {},
   "outputs": [
    {
     "data": {
      "text/plain": [
       "[name: \"/device:CPU:0\"\n",
       " device_type: \"CPU\"\n",
       " memory_limit: 268435456\n",
       " locality {\n",
       " }\n",
       " incarnation: 17373895986524788518,\n",
       " name: \"/device:XLA_CPU:0\"\n",
       " device_type: \"XLA_CPU\"\n",
       " memory_limit: 17179869184\n",
       " locality {\n",
       " }\n",
       " incarnation: 16753501732294942233\n",
       " physical_device_desc: \"device: XLA_CPU device\"]"
      ]
     },
     "execution_count": 2,
     "metadata": {},
     "output_type": "execute_result"
    }
   ],
   "source": [
    "from tensorflow.python.client import device_lib\n",
    "device_lib.list_local_devices()"
   ]
  },
  {
   "cell_type": "code",
   "execution_count": 3,
   "metadata": {},
   "outputs": [],
   "source": [
    "from process_file import process_file_modif\n",
    "from process_file import process_file_modif_varios\n",
    "import batches_data\n",
    "import model\n",
    "import entrenamientoevaluacion\n",
    "from entrenamientoevaluacion import evaluate\n",
    "from interaccion_no_normalizada import compute_opticalflow_batch\n",
    "from interaccion_no_normalizada import compute_opticalflow\n",
    "from interaccion_no_normalizada import plot_flow"
   ]
  },
  {
   "cell_type": "code",
   "execution_count": 4,
   "metadata": {},
   "outputs": [],
   "source": [
    "# File of trajectories coordinates. Coordinates are in world frame\n",
    "hotel_pix_path = '../data1/eth/hotel/mundo/mun_pos.csv'\n",
    "\n",
    "# Parameters\n",
    "class parameters:\n",
    "    def __init__(self):\n",
    "        # Maximum number of persons in a frame\n",
    "        self.person_max = 28 # 8\n",
    "        # Observation length (trajlet size)\n",
    "        self.obs_len    = 8\n",
    "        # Prediction length\n",
    "        self.pred_len   = 12\n",
    "        # Flag to consider social interactions\n",
    "        self.add_social = True\n",
    "        # Number of key points\n",
    "        self.kp_num     = 18\n",
    "        # Key point flag\n",
    "        self.add_kp     = False\n",
    "     "
   ]
  },
  {
   "cell_type": "code",
   "execution_count": 5,
   "metadata": {},
   "outputs": [
    {
     "name": "stdout",
     "output_type": "stream",
     "text": [
      "[INF] Sequence length:  20\n",
      "[INF] Number of considered subsequences:  1168\n",
      "Total number of examples\n",
      "913\n"
     ]
    }
   ],
   "source": [
    "# Load the default parameters\n",
    "arguments = parameters()\n",
    "\n",
    "# Process eth_hotel data\n",
    "data_hotel = process_file_modif(hotel_pix_path, arguments, ',')"
   ]
  },
  {
   "cell_type": "code",
   "execution_count": 6,
   "metadata": {},
   "outputs": [
    {
     "name": "stdout",
     "output_type": "stream",
     "text": [
      "(913, 8, 28, 3)\n",
      "[[[ 3.      0.8152 -2.4076]\n",
      "  [ 4.      2.7128  0.4141]\n",
      "  [ 5.     -1.5855  0.9277]\n",
      "  [ 6.     -1.7212  1.3182]\n",
      "  [ 7.     -2.4166  3.4106]\n",
      "  [ 8.     -1.4476 -0.7558]\n",
      "  [ 0.      0.      0.    ]\n",
      "  [ 0.      0.      0.    ]\n",
      "  [ 0.      0.      0.    ]\n",
      "  [ 0.      0.      0.    ]\n",
      "  [ 0.      0.      0.    ]\n",
      "  [ 0.      0.      0.    ]\n",
      "  [ 0.      0.      0.    ]\n",
      "  [ 0.      0.      0.    ]\n",
      "  [ 0.      0.      0.    ]\n",
      "  [ 0.      0.      0.    ]\n",
      "  [ 0.      0.      0.    ]\n",
      "  [ 0.      0.      0.    ]\n",
      "  [ 0.      0.      0.    ]\n",
      "  [ 0.      0.      0.    ]\n",
      "  [ 0.      0.      0.    ]\n",
      "  [ 0.      0.      0.    ]\n",
      "  [ 0.      0.      0.    ]\n",
      "  [ 0.      0.      0.    ]\n",
      "  [ 0.      0.      0.    ]\n",
      "  [ 0.      0.      0.    ]\n",
      "  [ 0.      0.      0.    ]\n",
      "  [ 0.      0.      0.    ]]\n",
      "\n",
      " [[ 3.      0.4046 -1.9539]\n",
      "  [ 4.      2.6173  0.999 ]\n",
      "  [ 5.     -1.5855  0.9277]\n",
      "  [ 6.     -1.7212  1.3182]\n",
      "  [ 7.     -2.413   3.8022]\n",
      "  [ 8.     -1.4476 -0.7558]\n",
      "  [ 0.      0.      0.    ]\n",
      "  [ 0.      0.      0.    ]\n",
      "  [ 0.      0.      0.    ]\n",
      "  [ 0.      0.      0.    ]\n",
      "  [ 0.      0.      0.    ]\n",
      "  [ 0.      0.      0.    ]\n",
      "  [ 0.      0.      0.    ]\n",
      "  [ 0.      0.      0.    ]\n",
      "  [ 0.      0.      0.    ]\n",
      "  [ 0.      0.      0.    ]\n",
      "  [ 0.      0.      0.    ]\n",
      "  [ 0.      0.      0.    ]\n",
      "  [ 0.      0.      0.    ]\n",
      "  [ 0.      0.      0.    ]\n",
      "  [ 0.      0.      0.    ]\n",
      "  [ 0.      0.      0.    ]\n",
      "  [ 0.      0.      0.    ]\n",
      "  [ 0.      0.      0.    ]\n",
      "  [ 0.      0.      0.    ]\n",
      "  [ 0.      0.      0.    ]\n",
      "  [ 0.      0.      0.    ]\n",
      "  [ 0.      0.      0.    ]]\n",
      "\n",
      " [[ 3.      0.1454 -1.4764]\n",
      "  [ 4.      2.5856  1.7508]\n",
      "  [ 5.     -1.5855  0.9277]\n",
      "  [ 6.     -1.7212  1.3182]\n",
      "  [ 0.      0.      0.    ]\n",
      "  [ 8.     -1.4476 -0.7558]\n",
      "  [ 0.      0.      0.    ]\n",
      "  [ 0.      0.      0.    ]\n",
      "  [ 0.      0.      0.    ]\n",
      "  [ 0.      0.      0.    ]\n",
      "  [ 0.      0.      0.    ]\n",
      "  [ 0.      0.      0.    ]\n",
      "  [ 0.      0.      0.    ]\n",
      "  [ 0.      0.      0.    ]\n",
      "  [ 0.      0.      0.    ]\n",
      "  [ 0.      0.      0.    ]\n",
      "  [ 0.      0.      0.    ]\n",
      "  [ 0.      0.      0.    ]\n",
      "  [ 0.      0.      0.    ]\n",
      "  [ 0.      0.      0.    ]\n",
      "  [ 0.      0.      0.    ]\n",
      "  [ 0.      0.      0.    ]\n",
      "  [ 0.      0.      0.    ]\n",
      "  [ 0.      0.      0.    ]\n",
      "  [ 0.      0.      0.    ]\n",
      "  [ 0.      0.      0.    ]\n",
      "  [ 0.      0.      0.    ]\n",
      "  [ 0.      0.      0.    ]]\n",
      "\n",
      " [[ 3.     -0.1296 -0.9134]\n",
      "  [ 4.      2.5241  2.2917]\n",
      "  [ 5.     -1.5855  0.9277]\n",
      "  [ 6.     -1.7212  1.3182]\n",
      "  [ 0.      0.      0.    ]\n",
      "  [ 8.     -1.4476 -0.7558]\n",
      "  [ 0.      0.      0.    ]\n",
      "  [ 0.      0.      0.    ]\n",
      "  [ 0.      0.      0.    ]\n",
      "  [ 0.      0.      0.    ]\n",
      "  [ 0.      0.      0.    ]\n",
      "  [ 0.      0.      0.    ]\n",
      "  [ 0.      0.      0.    ]\n",
      "  [ 0.      0.      0.    ]\n",
      "  [ 0.      0.      0.    ]\n",
      "  [ 0.      0.      0.    ]\n",
      "  [ 0.      0.      0.    ]\n",
      "  [ 0.      0.      0.    ]\n",
      "  [ 0.      0.      0.    ]\n",
      "  [ 0.      0.      0.    ]\n",
      "  [ 0.      0.      0.    ]\n",
      "  [ 0.      0.      0.    ]\n",
      "  [ 0.      0.      0.    ]\n",
      "  [ 0.      0.      0.    ]\n",
      "  [ 0.      0.      0.    ]\n",
      "  [ 0.      0.      0.    ]\n",
      "  [ 0.      0.      0.    ]\n",
      "  [ 0.      0.      0.    ]]\n",
      "\n",
      " [[ 3.     -0.3663 -0.3329]\n",
      "  [ 0.      0.      0.    ]\n",
      "  [ 5.     -1.5855  0.9277]\n",
      "  [ 6.     -1.7212  1.3182]\n",
      "  [ 0.      0.      0.    ]\n",
      "  [ 8.     -1.4476 -0.7558]\n",
      "  [ 0.      0.      0.    ]\n",
      "  [ 0.      0.      0.    ]\n",
      "  [ 0.      0.      0.    ]\n",
      "  [ 0.      0.      0.    ]\n",
      "  [ 0.      0.      0.    ]\n",
      "  [ 0.      0.      0.    ]\n",
      "  [ 0.      0.      0.    ]\n",
      "  [ 0.      0.      0.    ]\n",
      "  [ 0.      0.      0.    ]\n",
      "  [ 0.      0.      0.    ]\n",
      "  [ 0.      0.      0.    ]\n",
      "  [ 0.      0.      0.    ]\n",
      "  [ 0.      0.      0.    ]\n",
      "  [ 0.      0.      0.    ]\n",
      "  [ 0.      0.      0.    ]\n",
      "  [ 0.      0.      0.    ]\n",
      "  [ 0.      0.      0.    ]\n",
      "  [ 0.      0.      0.    ]\n",
      "  [ 0.      0.      0.    ]\n",
      "  [ 0.      0.      0.    ]\n",
      "  [ 0.      0.      0.    ]\n",
      "  [ 0.      0.      0.    ]]\n",
      "\n",
      " [[ 3.     -0.5655  0.2444]\n",
      "  [ 0.      0.      0.    ]\n",
      "  [ 5.     -1.5855  0.9277]\n",
      "  [ 6.     -1.7212  1.3182]\n",
      "  [ 0.      0.      0.    ]\n",
      "  [ 8.     -1.4476 -0.7558]\n",
      "  [ 0.      0.      0.    ]\n",
      "  [ 0.      0.      0.    ]\n",
      "  [ 0.      0.      0.    ]\n",
      "  [ 0.      0.      0.    ]\n",
      "  [ 0.      0.      0.    ]\n",
      "  [ 0.      0.      0.    ]\n",
      "  [ 0.      0.      0.    ]\n",
      "  [ 0.      0.      0.    ]\n",
      "  [ 0.      0.      0.    ]\n",
      "  [ 0.      0.      0.    ]\n",
      "  [ 0.      0.      0.    ]\n",
      "  [ 0.      0.      0.    ]\n",
      "  [ 0.      0.      0.    ]\n",
      "  [ 0.      0.      0.    ]\n",
      "  [ 0.      0.      0.    ]\n",
      "  [ 0.      0.      0.    ]\n",
      "  [ 0.      0.      0.    ]\n",
      "  [ 0.      0.      0.    ]\n",
      "  [ 0.      0.      0.    ]\n",
      "  [ 0.      0.      0.    ]\n",
      "  [ 0.      0.      0.    ]\n",
      "  [ 0.      0.      0.    ]]\n",
      "\n",
      " [[ 3.     -0.7871  0.7863]\n",
      "  [ 0.      0.      0.    ]\n",
      "  [ 5.     -1.5855  0.9277]\n",
      "  [ 6.     -1.7212  1.3182]\n",
      "  [ 0.      0.      0.    ]\n",
      "  [ 8.     -1.4476 -0.7558]\n",
      "  [ 0.      0.      0.    ]\n",
      "  [ 0.      0.      0.    ]\n",
      "  [ 0.      0.      0.    ]\n",
      "  [ 0.      0.      0.    ]\n",
      "  [ 0.      0.      0.    ]\n",
      "  [ 0.      0.      0.    ]\n",
      "  [ 0.      0.      0.    ]\n",
      "  [ 0.      0.      0.    ]\n",
      "  [ 0.      0.      0.    ]\n",
      "  [ 0.      0.      0.    ]\n",
      "  [ 0.      0.      0.    ]\n",
      "  [ 0.      0.      0.    ]\n",
      "  [ 0.      0.      0.    ]\n",
      "  [ 0.      0.      0.    ]\n",
      "  [ 0.      0.      0.    ]\n",
      "  [ 0.      0.      0.    ]\n",
      "  [ 0.      0.      0.    ]\n",
      "  [ 0.      0.      0.    ]\n",
      "  [ 0.      0.      0.    ]\n",
      "  [ 0.      0.      0.    ]\n",
      "  [ 0.      0.      0.    ]\n",
      "  [ 0.      0.      0.    ]]\n",
      "\n",
      " [[ 3.     -0.9548  1.2604]\n",
      "  [ 0.      0.      0.    ]\n",
      "  [ 5.     -1.5855  0.9277]\n",
      "  [ 6.     -1.7015  1.3152]\n",
      "  [ 0.      0.      0.    ]\n",
      "  [ 8.     -1.4476 -0.7558]\n",
      "  [ 0.      0.      0.    ]\n",
      "  [ 0.      0.      0.    ]\n",
      "  [ 0.      0.      0.    ]\n",
      "  [ 0.      0.      0.    ]\n",
      "  [ 0.      0.      0.    ]\n",
      "  [ 0.      0.      0.    ]\n",
      "  [ 0.      0.      0.    ]\n",
      "  [ 0.      0.      0.    ]\n",
      "  [ 0.      0.      0.    ]\n",
      "  [ 0.      0.      0.    ]\n",
      "  [ 0.      0.      0.    ]\n",
      "  [ 0.      0.      0.    ]\n",
      "  [ 0.      0.      0.    ]\n",
      "  [ 0.      0.      0.    ]\n",
      "  [ 0.      0.      0.    ]\n",
      "  [ 0.      0.      0.    ]\n",
      "  [ 0.      0.      0.    ]\n",
      "  [ 0.      0.      0.    ]\n",
      "  [ 0.      0.      0.    ]\n",
      "  [ 0.      0.      0.    ]\n",
      "  [ 0.      0.      0.    ]\n",
      "  [ 0.      0.      0.    ]]]\n"
     ]
    }
   ],
   "source": [
    "# Should be nSamples x sequenceLength x nPersonsMax x PersonDescriptionSize \n",
    "print(data_hotel['obs_person'].shape) \n",
    "print(data_hotel['obs_person'][0])"
   ]
  },
  {
   "cell_type": "markdown",
   "metadata": {},
   "source": [
    "# Optical flow"
   ]
  },
  {
   "cell_type": "code",
   "execution_count": 7,
   "metadata": {},
   "outputs": [],
   "source": [
    "optical_flow_file = 'of_non_eth_hotel_total_mundo_12.npy'"
   ]
  },
  {
   "cell_type": "code",
   "execution_count": 8,
   "metadata": {},
   "outputs": [],
   "source": [
    "# Compute the optical flow generated by the neighbors\n",
    "optical_flow = compute_opticalflow_batch(data_hotel['obs_person'],data_hotel['key_idx'],data_hotel['obs_traj'],arguments.obs_len)\n",
    "np.save(optical_flow_file,optical_flow)"
   ]
  },
  {
   "cell_type": "markdown",
   "metadata": {},
   "source": [
    "# Load the optical flow"
   ]
  },
  {
   "cell_type": "code",
   "execution_count": 8,
   "metadata": {},
   "outputs": [
    {
     "data": {
      "text/plain": [
       "(913, 8, 64)"
      ]
     },
     "execution_count": 8,
     "metadata": {},
     "output_type": "execute_result"
    }
   ],
   "source": [
    "# Load the optical flow\n",
    "optical_flow = np.load(optical_flow_file)\n",
    "optical_flow.shape"
   ]
  },
  {
   "cell_type": "markdown",
   "metadata": {},
   "source": [
    "# Visualize some examples of optical flow"
   ]
  },
  {
   "cell_type": "code",
   "execution_count": 12,
   "metadata": {},
   "outputs": [
    {
     "data": {
      "image/png": "[encoded data removed]",
      "text/plain": [
       "<Figure size 1080x1080 with 12 Axes>"
      ]
     },
     "metadata": {
      "needs_background": "light"
     },
     "output_type": "display_data"
    }
   ],
   "source": [
    "import random\n",
    "# Select a random sequence\n",
    "idSample = random.sample(range(1,optical_flow.shape[0]), 1)\n",
    "\n",
    "# Trajectory\n",
    "traj_sample   = data_hotel[\"obs_traj\"][idSample][0]\n",
    "traj_neighbors= data_hotel['obs_person'][idSample][0]\n",
    "traj_id       = data_hotel['key_idx'][idSample]\n",
    "# Optical flow\n",
    "optical_flow_sample = compute_opticalflow(traj_neighbors,traj_id,traj_sample)\n",
    "# Plot\n",
    "plot_flow(traj_sample,traj_neighbors,optical_flow_sample)"
   ]
  },
  {
   "cell_type": "markdown",
   "metadata": {},
   "source": [
    "# Optical flow is added to the data"
   ]
  },
  {
   "cell_type": "code",
   "execution_count": 13,
   "metadata": {},
   "outputs": [],
   "source": [
    "data_hotel.update({\"obs_flujo\": optical_flow})"
   ]
  },
  {
   "cell_type": "markdown",
   "metadata": {},
   "source": [
    "# Split the data"
   ]
  },
  {
   "cell_type": "code",
   "execution_count": 14,
   "metadata": {},
   "outputs": [
    {
     "name": "stdout",
     "output_type": "stream",
     "text": [
      "training data: 639\n",
      "test data: 182\n",
      "validation data: 92\n"
     ]
    }
   ],
   "source": [
    "# Seed\n",
    "import random\n",
    "random.seed(0)\n",
    "\n",
    "# Muestreamos aleatoriamente para separar datos de entrenamiento, validacion y prueba\n",
    "training_pc  = 0.7 \n",
    "test_pc      = 0.2\n",
    "\n",
    "# Count how many data we have (sub-sequences of length 8, in pred_traj)\n",
    "ndata      = len(data_hotel[list(data_hotel.keys())[2]])\n",
    "idx        = random.sample(range(ndata), ndata)\n",
    "training   = int(ndata*training_pc)\n",
    "test       = int(ndata*test_pc)\n",
    "validation = int(ndata-training-test)\n",
    "\n",
    "# Indices for training\n",
    "idx_train = idx[0:training]\n",
    "# Indices for testing\n",
    "idx_test  = idx[training:training+test]\n",
    "# Indices for validation\n",
    "idx_val   = idx[training+test:]\n",
    "\n",
    "# Training set\n",
    "training_data = {\n",
    "     \"obs_traj\":      data_hotel[\"obs_traj\"][idx_train],\n",
    "     \"obs_traj_rel\":  data_hotel[\"obs_traj_rel\"][idx_train],\n",
    "     \"pred_traj\":     data_hotel[\"pred_traj\"][idx_train],\n",
    "     \"pred_traj_rel\": data_hotel[\"pred_traj_rel\"][idx_train],\n",
    "     \"key_idx\":       data_hotel[\"key_idx\"][[idx_train]],\n",
    "     \"obs_flujo\" :    data_hotel[\"obs_flujo\"][idx_train],\n",
    "     #\"pred_kp\": data_pets[\"pred_kp\"][idx_train],\n",
    "     #\"obs_person\": data_pets[\"obs_person\"][idx_train],\n",
    "}\n",
    "\n",
    "# Test set\n",
    "test_data = {\n",
    "     \"obs_traj\":     data_hotel[\"obs_traj\"][idx_test],\n",
    "     \"obs_traj_rel\": data_hotel[\"obs_traj_rel\"][idx_test],\n",
    "     \"pred_traj\":    data_hotel[\"pred_traj\"][idx_test],\n",
    "     \"pred_traj_rel\":data_hotel[\"pred_traj_rel\"][idx_test],\n",
    "     \"key_idx\":      data_hotel[\"key_idx\"][[idx_test]],\n",
    "     \"obs_flujo\":    data_hotel[\"obs_flujo\"][idx_test],\n",
    "     #\"pred_kp\": data_pets[\"pred_kp\"][idx_test],\n",
    "     #\"obs_person\": data_pets[\"obs_person\"][idx_test]\n",
    "}\n",
    "\n",
    "# Validation set\n",
    "validation_data ={\n",
    "     \"obs_traj\":     data_hotel[\"obs_traj\"][idx_val],\n",
    "     \"obs_traj_rel\": data_hotel[\"obs_traj_rel\"][idx_val],\n",
    "     \"pred_traj\":    data_hotel[\"pred_traj\"][idx_val],\n",
    "     \"pred_traj_rel\":data_hotel[\"pred_traj_rel\"][idx_val],\n",
    "     \"key_idx\":      data_hotel[\"key_idx\"][[idx_val]],\n",
    "     \"obs_flujo\":    data_hotel[\"obs_flujo\"][idx_val],\n",
    "     #\"pred_kp\": data_pets[\"pred_kp\"][idx_val],\n",
    "     #\"obs_person\": data_pets[\"obs_person\"][idx_val],\n",
    "}\n",
    "\n",
    "\n",
    "print(\"training data: \"+ str(len(training_data[list(training_data.keys())[0]])))\n",
    "print(\"test data: \"+ str(len(test_data[list(test_data.keys())[0]])))\n",
    "print(\"validation data: \"+ str(len(validation_data[list(validation_data.keys())[0]])))\n"
   ]
  },
  {
   "cell_type": "code",
   "execution_count": 15,
   "metadata": {},
   "outputs": [
    {
     "data": {
      "image/png": "[encoded data removed]",
      "text/plain": [
       "<Figure size 720x720 with 1 Axes>"
      ]
     },
     "metadata": {
      "needs_background": "light"
     },
     "output_type": "display_data"
    }
   ],
   "source": [
    "import matplotlib.pyplot as plt\n",
    "\n",
    "# Plot ramdomly a subset of the training data (spatial data only)\n",
    "nSamples = min(20,training)\n",
    "samples  = random.sample(range(1,training), nSamples)\n",
    "plt.subplots(1,1,figsize=(10,10))\n",
    "plt.subplot(1,1,1)\n",
    "plt.axis('equal')\n",
    "# Plot some of the training data\n",
    "for (o,p) in zip(training_data[\"obs_traj\"][samples],training_data[\"pred_traj\"][samples]):\n",
    "    plt.plot(o[:,0],o[:,1],color='red')\n",
    "    plt.plot([o[-1,0],p[0,0]],[o[-1,1],p[0,1]],color='blue')    \n",
    "    plt.plot(p[:,0],p[:,1],color='blue')    "
   ]
  },
  {
   "cell_type": "markdown",
   "metadata": {},
   "source": [
    "# Save the data to be used later"
   ]
  },
  {
   "cell_type": "code",
   "execution_count": 16,
   "metadata": {},
   "outputs": [],
   "source": [
    "import pickle\n",
    "\n",
    "# Training dataset\n",
    "pickle_out = open(\"training_data_non_hotel_12.pickle\",\"wb\")\n",
    "pickle.dump(training, pickle_out, protocol=2)\n",
    "pickle_out.close()\n",
    "\n",
    "# Test dataset\n",
    "pickle_out = open(\"test_data_non_hotel_12.pickle\",\"wb\")\n",
    "pickle.dump(test, pickle_out, protocol=2)\n",
    "pickle_out.close()\n",
    "\n",
    "# Validation dataset\n",
    "pickle_out = open(\"validation_data_non_hotel_12.pickle\",\"wb\")\n",
    "pickle.dump(validation, pickle_out, protocol=2)\n",
    "pickle_out.close()"
   ]
  },
  {
   "cell_type": "markdown",
   "metadata": {},
   "source": [
    "# Model parameters"
   ]
  },
  {
   "cell_type": "code",
   "execution_count": 17,
   "metadata": {},
   "outputs": [],
   "source": [
    "class model_parameters:\n",
    "    def __init__(self, train_num_examples, add_kp = False, add_social = False):\n",
    "        # -----------------\n",
    "        # Observation/prediction lengths \n",
    "        self.obs_len  = 8\n",
    "        self.pred_len = 12\n",
    "        \n",
    "        self.add_kp             = add_kp\n",
    "        self.train_num_examples = train_num_examples\n",
    "        self.add_social         = add_social\n",
    "        # Key points\n",
    "        self.kp_num = 18\n",
    "        self.kp_size = 18\n",
    "        #self.maxNumPed = 8\n",
    "        #self.grid_size = 4\n",
    "        #self.neighborhood_size = 32\n",
    "        #self.dimensions = [768,576]\n",
    "        #self.limites=[-15.88,11.56,-19.09,5.99]\n",
    "        #self.bound=[0.7,0.5]\n",
    "        # ------------------\n",
    "        self.num_epochs = 100\n",
    "        self.batch_size = 20 # batch size\n",
    "        self.validate   = 300\n",
    "        self.P          = 2 # Dimension\n",
    "        self.enc_hidden_size = 64 # el nombre lo dice\n",
    "        self.dec_hidden_size = 64\n",
    "        self.emb_size        = 64\n",
    "        self.keep_prob      = 0.7 # dropout\n",
    "        \n",
    "        self.min_ped = 1\n",
    "        self.seq_len = self.obs_len + self.pred_len\n",
    "        self.reverse_xy = False\n",
    "        \n",
    "        self.activation_func = tf.nn.tanh\n",
    "        self.activation_func1 = tf.nn.relu\n",
    "        self.is_train = True\n",
    "        self.is_test = False\n",
    "        self.multi_decoder = False\n",
    "        self.modelname = 'gphuctl'\n",
    "        \n",
    "        self.init_lr = 0.002 # 0.01\n",
    "        self.learning_rate_decay = 0.85\n",
    "        self.num_epoch_per_decay = 2.0\n",
    "        self.optimizer = 'adam'\n",
    "        self.emb_lr = 1.0\n",
    "        #self.clip_gradient_norm = 10.0\n",
    "        #Para cuando entreno y quiero guardar el mejor modelo\n",
    "        self.load_best = True"
   ]
  },
  {
   "cell_type": "markdown",
   "metadata": {},
   "source": [
    "# Training the model"
   ]
  },
  {
   "cell_type": "code",
   "execution_count": 18,
   "metadata": {},
   "outputs": [
    {
     "name": "stdout",
     "output_type": "stream",
     "text": [
      "WARNING:tensorflow:From lib/model.py:65: LSTMCell.__init__ (from tensorflow.python.ops.rnn_cell_impl) is deprecated and will be removed in a future version.\n",
      "Instructions for updating:\n",
      "This class is equivalent as tf.keras.layers.LSTMCell, and will be replaced by that in Tensorflow 2.0.\n",
      "WARNING:tensorflow:From lib/model.py:108: dynamic_rnn (from tensorflow.python.ops.rnn) is deprecated and will be removed in a future version.\n",
      "Instructions for updating:\n",
      "Please use `keras.layers.RNN(cell)`, which is equivalent to this API\n",
      "WARNING:tensorflow:From /home/jbhayet/opt/repositories/devel/OF-PathPred/.venv/lib/python3.6/site-packages/tensorflow_core/python/ops/rnn_cell_impl.py:958: Layer.add_variable (from tensorflow.python.keras.engine.base_layer) is deprecated and will be removed in a future version.\n",
      "Instructions for updating:\n",
      "Please use `layer.add_weight` method instead.\n",
      "WARNING:tensorflow:From /home/jbhayet/opt/repositories/devel/OF-PathPred/.venv/lib/python3.6/site-packages/tensorflow_core/python/ops/rnn_cell_impl.py:962: calling Zeros.__init__ (from tensorflow.python.ops.init_ops) with dtype is deprecated and will be removed in a future version.\n",
      "Instructions for updating:\n",
      "Call initializer instance with the dtype argument instead of passing it to the constructor\n",
      "WARNING:tensorflow:From /home/jbhayet/opt/repositories/devel/OF-PathPred/.venv/lib/python3.6/site-packages/tensorflow_core/python/ops/rnn.py:244: where (from tensorflow.python.ops.array_ops) is deprecated and will be removed in a future version.\n",
      "Instructions for updating:\n",
      "Use tf.where in 2.0, which has the same broadcast rule as np.where\n"
     ]
    },
    {
     "name": "stderr",
     "output_type": "stream",
     "text": [
      "  0%|          | 0/32 [00:00<?, ?it/s]\n",
      "  0%|          | 0/5 [00:00<?, ?it/s]\u001b[A\n",
      "100%|##########| 5/5 [00:00<00:00, 21.60it/s]\u001b[A\n",
      "100%|██████████| 32/32 [00:02<00:00, 15.48it/s]\n",
      "100%|██████████| 32/32 [00:00<00:00, 52.70it/s]\n",
      "100%|██████████| 32/32 [00:00<00:00, 53.34it/s]\n",
      "100%|██████████| 32/32 [00:00<00:00, 51.58it/s]\n",
      "100%|██████████| 32/32 [00:00<00:00, 51.94it/s]\n",
      "100%|██████████| 32/32 [00:00<00:00, 44.17it/s]\n",
      "100%|██████████| 32/32 [00:00<00:00, 43.94it/s]\n",
      "100%|██████████| 32/32 [00:00<00:00, 43.93it/s]\n",
      "100%|██████████| 32/32 [00:00<00:00, 44.10it/s]\n",
      " 31%|███▏      | 10/32 [00:00<00:00, 44.25it/s]\n",
      "100%|##########| 5/5 [00:00<00:00, 116.33it/s]\n",
      "100%|██████████| 32/32 [00:01<00:00, 28.71it/s]\n",
      "100%|██████████| 32/32 [00:00<00:00, 44.59it/s]\n",
      "100%|██████████| 32/32 [00:00<00:00, 44.47it/s]\n",
      "100%|██████████| 32/32 [00:00<00:00, 44.35it/s]\n",
      "100%|██████████| 32/32 [00:00<00:00, 42.88it/s]\n",
      "100%|██████████| 32/32 [00:00<00:00, 44.76it/s]\n",
      "100%|██████████| 32/32 [00:00<00:00, 43.50it/s]\n",
      "100%|██████████| 32/32 [00:00<00:00, 45.03it/s]\n",
      "100%|██████████| 32/32 [00:00<00:00, 50.48it/s]\n",
      " 66%|██████▌   | 21/32 [00:00<00:00, 49.62it/s]"
     ]
    },
    {
     "name": "stdout",
     "output_type": "stream",
     "text": [
      "WARNING:tensorflow:From /home/jbhayet/opt/repositories/devel/OF-PathPred/.venv/lib/python3.6/site-packages/tensorflow_core/python/training/saver.py:963: remove_checkpoint (from tensorflow.python.training.checkpoint_management) is deprecated and will be removed in a future version.\n",
      "Instructions for updating:\n",
      "Use standard file APIs to delete files with this prefix.\n"
     ]
    },
    {
     "name": "stderr",
     "output_type": "stream",
     "text": [
      "\n",
      "100%|##########| 5/5 [00:00<00:00, 131.75it/s]\n",
      "100%|██████████| 32/32 [00:00<00:00, 33.90it/s]\n",
      "100%|██████████| 32/32 [00:00<00:00, 51.03it/s]\n",
      "100%|██████████| 32/32 [00:00<00:00, 52.86it/s]\n",
      "100%|██████████| 32/32 [00:00<00:00, 53.66it/s]\n",
      "100%|██████████| 32/32 [00:00<00:00, 53.06it/s]\n",
      "100%|██████████| 32/32 [00:00<00:00, 52.58it/s]\n",
      "100%|██████████| 32/32 [00:00<00:00, 52.16it/s]\n",
      "100%|██████████| 32/32 [00:00<00:00, 51.78it/s]\n",
      "100%|██████████| 32/32 [00:00<00:00, 52.50it/s]\n",
      "100%|██████████| 32/32 [00:00<00:00, 49.16it/s]\n",
      "  0%|          | 0/32 [00:00<?, ?it/s]\n",
      "100%|##########| 5/5 [00:00<00:00, 136.80it/s]\n",
      "100%|██████████| 32/32 [00:00<00:00, 34.74it/s]\n",
      "100%|██████████| 32/32 [00:00<00:00, 53.34it/s]\n",
      "100%|██████████| 32/32 [00:00<00:00, 49.51it/s]\n",
      "100%|██████████| 32/32 [00:00<00:00, 49.31it/s]\n",
      "100%|██████████| 32/32 [00:00<00:00, 48.18it/s]\n",
      "100%|██████████| 32/32 [00:00<00:00, 48.89it/s]\n",
      "100%|██████████| 32/32 [00:00<00:00, 51.23it/s]\n",
      "100%|██████████| 32/32 [00:00<00:00, 50.85it/s]\n",
      "100%|██████████| 32/32 [00:00<00:00, 48.87it/s]\n",
      " 34%|███▍      | 11/32 [00:00<00:00, 47.66it/s]\n",
      "100%|##########| 5/5 [00:00<00:00, 137.34it/s]\n",
      "100%|██████████| 32/32 [00:00<00:00, 33.49it/s]\n",
      "100%|██████████| 32/32 [00:00<00:00, 50.34it/s]\n",
      "100%|██████████| 32/32 [00:00<00:00, 51.12it/s]\n",
      "100%|██████████| 32/32 [00:00<00:00, 49.76it/s]\n",
      "100%|██████████| 32/32 [00:00<00:00, 50.29it/s]\n",
      "100%|██████████| 32/32 [00:00<00:00, 49.88it/s]\n",
      "100%|██████████| 32/32 [00:00<00:00, 50.54it/s]\n",
      "100%|██████████| 32/32 [00:00<00:00, 49.50it/s]\n",
      "100%|██████████| 32/32 [00:00<00:00, 50.14it/s]\n",
      " 72%|███████▏  | 23/32 [00:00<00:00, 51.08it/s]\n",
      "100%|##########| 5/5 [00:00<00:00, 141.10it/s]\n",
      "100%|██████████| 32/32 [00:00<00:00, 34.26it/s]\n",
      "100%|██████████| 32/32 [00:00<00:00, 52.22it/s]\n",
      "100%|██████████| 32/32 [00:00<00:00, 50.32it/s]\n",
      "100%|██████████| 32/32 [00:00<00:00, 52.51it/s]\n",
      "100%|██████████| 32/32 [00:00<00:00, 52.87it/s]\n",
      "100%|██████████| 32/32 [00:00<00:00, 52.08it/s]\n",
      "100%|██████████| 32/32 [00:00<00:00, 52.18it/s]\n",
      "100%|██████████| 32/32 [00:00<00:00, 52.10it/s]\n",
      "100%|██████████| 32/32 [00:00<00:00, 52.70it/s]\n",
      "100%|██████████| 32/32 [00:00<00:00, 47.71it/s]\n",
      " 16%|█▌        | 5/32 [00:00<00:00, 45.91it/s]\n",
      "100%|##########| 5/5 [00:00<00:00, 134.84it/s]\n",
      "100%|██████████| 32/32 [00:00<00:00, 38.74it/s]\n",
      "100%|██████████| 32/32 [00:00<00:00, 50.58it/s]\n",
      "100%|██████████| 32/32 [00:00<00:00, 49.76it/s]\n",
      "100%|██████████| 32/32 [00:00<00:00, 50.34it/s]\n",
      "100%|██████████| 32/32 [00:00<00:00, 50.21it/s]\n",
      "100%|██████████| 32/32 [00:00<00:00, 50.47it/s]\n",
      "100%|██████████| 32/32 [00:00<00:00, 51.05it/s]\n",
      "100%|██████████| 32/32 [00:00<00:00, 48.90it/s]\n",
      "100%|██████████| 32/32 [00:00<00:00, 50.72it/s]\n",
      " 53%|█████▎    | 17/32 [00:00<00:00, 49.74it/s]\n",
      "100%|##########| 5/5 [00:00<00:00, 147.89it/s]\n",
      "100%|██████████| 32/32 [00:00<00:00, 40.17it/s]\n",
      "100%|██████████| 32/32 [00:00<00:00, 48.50it/s]\n",
      "100%|██████████| 32/32 [00:00<00:00, 49.62it/s]\n",
      "100%|██████████| 32/32 [00:00<00:00, 49.62it/s]\n",
      "100%|██████████| 32/32 [00:00<00:00, 49.44it/s]\n",
      "100%|██████████| 32/32 [00:00<00:00, 49.95it/s]\n",
      "100%|██████████| 32/32 [00:00<00:00, 50.61it/s]\n",
      "100%|██████████| 32/32 [00:00<00:00, 52.25it/s]\n",
      "100%|██████████| 32/32 [00:00<00:00, 50.31it/s]\n",
      " 94%|█████████▍| 30/32 [00:00<00:00, 48.85it/s]\n",
      "100%|##########| 5/5 [00:00<00:00, 147.58it/s]\n",
      "100%|██████████| 32/32 [00:00<00:00, 32.67it/s]\n",
      "100%|██████████| 32/32 [00:00<00:00, 52.11it/s]\n",
      "100%|██████████| 32/32 [00:00<00:00, 50.90it/s]\n",
      "100%|██████████| 32/32 [00:00<00:00, 51.21it/s]\n",
      "100%|██████████| 32/32 [00:00<00:00, 51.32it/s]\n",
      "100%|██████████| 32/32 [00:00<00:00, 50.37it/s]\n",
      "100%|██████████| 32/32 [00:00<00:00, 50.17it/s]\n",
      "100%|██████████| 32/32 [00:00<00:00, 47.59it/s]\n",
      "100%|██████████| 32/32 [00:00<00:00, 47.37it/s]\n",
      "100%|██████████| 32/32 [00:00<00:00, 46.90it/s]\n",
      " 31%|███▏      | 10/32 [00:00<00:00, 47.07it/s]\n",
      "100%|##########| 5/5 [00:00<00:00, 144.63it/s]\n",
      "100%|██████████| 32/32 [00:00<00:00, 38.74it/s]\n",
      "100%|██████████| 32/32 [00:00<00:00, 47.57it/s]\n",
      "100%|██████████| 32/32 [00:00<00:00, 48.93it/s]\n",
      "100%|██████████| 32/32 [00:00<00:00, 49.73it/s]\n",
      "100%|██████████| 32/32 [00:00<00:00, 47.04it/s]\n",
      "100%|██████████| 32/32 [00:00<00:00, 43.56it/s]\n",
      "100%|██████████| 32/32 [00:00<00:00, 41.35it/s]\n",
      "100%|██████████| 32/32 [00:00<00:00, 42.61it/s]\n",
      "100%|██████████| 32/32 [00:00<00:00, 42.53it/s]\n",
      " 59%|█████▉    | 19/32 [00:00<00:00, 40.56it/s]\n",
      "100%|##########| 5/5 [00:00<00:00, 128.13it/s]\n",
      "100%|██████████| 32/32 [00:00<00:00, 33.59it/s]\n",
      "100%|██████████| 32/32 [00:00<00:00, 40.65it/s]\n",
      "100%|██████████| 32/32 [00:00<00:00, 41.89it/s]\n",
      "100%|██████████| 32/32 [00:00<00:00, 42.79it/s]\n",
      "100%|██████████| 32/32 [00:00<00:00, 42.72it/s]\n",
      "100%|██████████| 32/32 [00:00<00:00, 43.76it/s]\n",
      "100%|██████████| 32/32 [00:00<00:00, 43.69it/s]\n"
     ]
    },
    {
     "name": "stdout",
     "output_type": "stream",
     "text": [
      "best eval on val ade: 0.28625688 at 2400 step y fde es 0.51553386 \n"
     ]
    }
   ],
   "source": [
    "import os \n",
    "from tqdm import tqdm\n",
    "import tensorflow as tf\n",
    "import math\n",
    "import model\n",
    "tf.reset_default_graph()\n",
    "\n",
    "arguments = model_parameters(train_num_examples=len(training_data['obs_traj']),add_kp = False, add_social = True,)\n",
    "model     = model.Model(arguments)\n",
    "\n",
    "train_data = batches_data.Dataset(training_data,arguments)\n",
    "val_data   = batches_data.Dataset(validation_data,arguments)\n",
    "\n",
    "saver     = tf.train.Saver(max_to_keep = 2)\n",
    "bestsaver = tf.train.Saver(max_to_keep = 2)\n",
    "\n",
    "\n",
    "trainer = entrenamientoevaluacion.Trainer(model,arguments)\n",
    "tester  = entrenamientoevaluacion.Tester(model, arguments)\n",
    "\n",
    "# Global variables are initialized\n",
    "init = tf.global_variables_initializer()\n",
    "sess = tf.Session()\n",
    "sess.run(init)\n",
    "\n",
    "increment_global_step_op = tf.assign(model.global_step, model.global_step+1)\n",
    "\n",
    "val_perf  = []\n",
    "loss      = -1\n",
    "best      = {'ade':999999, 'fde':0, 'step':-1}\n",
    "is_start  = True\n",
    "num_steps = int(math.ceil(train_data.num_examples/float(arguments.batch_size)))\n",
    "loss_list = []\n",
    "\n",
    "# Epochs\n",
    "for i in range(arguments.num_epochs):    \n",
    "    # Cycle over batches\n",
    "    for idx, batch in tqdm(train_data.get_batches(arguments.batch_size,num_steps = num_steps),total=num_steps):\n",
    "        \n",
    "        sess.run(increment_global_step_op)\n",
    "        global_step = sess.run(model.global_step)\n",
    "\n",
    "        # Evaluation on validation data\n",
    "        if((global_step%arguments.validate==0) or (arguments.load_best and is_start)):\n",
    "            checkpoint_path_model = os.path.join('sin_KP_NoN_Hotel_social12', 'model.ckpt')\n",
    "            saver.save(sess,checkpoint_path_model , global_step = global_step)\n",
    "            # Evaluation\n",
    "            results, traj_ver, traj_pred, traj_obs = evaluate(val_data, tester,sess,arguments)           \n",
    "            #tqdm.write((\"\\t last loss:%.9f, eval on validation:%s,\"\n",
    "            #        \" (best %s:%s at step %s) \") % (loss,[\"%s: %s\" % (k, results[k]) for k in sorted(results.keys())], metric,best[metric], best[\"step\"]))\n",
    "            if results[\"ade\"]< best['ade']:\n",
    "                best['ade'] = results[\"ade\"]\n",
    "                best['fde'] = results[\"fde\"]\n",
    "                best[\"step\"]= global_step\n",
    "                # Save the best model\n",
    "                checkpoint_path_model_best = os.path.join('sin_KP_NoN_Hotel_social-best12', 'model_best.ckpt')\n",
    "                bestsaver.save(sess,checkpoint_path_model_best,global_step = global_step)\n",
    "                finalperf = results\n",
    "                val_perf.append((loss, results))\n",
    "            is_start = False\n",
    "        loss, train_op = trainer.step(sess, batch)\n",
    "        loss_list.append(loss)\n",
    "    \n",
    "if((global_step % arguments.validate)!=0):\n",
    "  checkpoint_path_model = os.path.join('sin_KP_NoN_Hotel_social12', 'model.ckpt')\n",
    "  saver.save(sess,checkpoint_path_model , global_step = global_step)\n",
    "\n",
    "print(\"best eval on val %s: %s at %s step y fde es %s \" % ('ade', best['ade'], best[\"step\"],best[\"fde\"]))\n",
    "       \n",
    "    "
   ]
  },
  {
   "cell_type": "code",
   "execution_count": 17,
   "metadata": {},
   "outputs": [
    {
     "data": {
      "image/png": "[encoded data removed]",
      "text/plain": [
       "<Figure size 576x576 with 1 Axes>"
      ]
     },
     "metadata": {
      "needs_background": "light"
     },
     "output_type": "display_data"
    }
   ],
   "source": [
    "from matplotlib import pyplot as plt\n",
    "plt.figure(figsize=(8,8))\n",
    "plt.subplot(1,1,1)\n",
    "plt.plot(loss_list)\n",
    "plt.show()"
   ]
  },
  {
   "cell_type": "code",
   "execution_count": 18,
   "metadata": {},
   "outputs": [
    {
     "data": {
      "text/plain": [
       "'sin_KP_NoN_Hotel_social12_F/model.ckpt-3200'"
      ]
     },
     "execution_count": 18,
     "metadata": {},
     "output_type": "execute_result"
    }
   ],
   "source": [
    "# Keep the last model\n",
    "checkpoint_path_model = os.path.join('sin_KP_NoN_Hotel_social12_F', 'model.ckpt')\n",
    "saver.save(sess,checkpoint_path_model , global_step = global_step)"
   ]
  },
  {
   "cell_type": "markdown",
   "metadata": {},
   "source": [
    "# Restore the models"
   ]
  },
  {
   "cell_type": "code",
   "execution_count": 22,
   "metadata": {},
   "outputs": [
    {
     "name": "stdout",
     "output_type": "stream",
     "text": [
      "INFO:tensorflow:Restoring parameters from sin_KP_NoN_Hotel_social12_F/model.ckpt-3200\n"
     ]
    },
    {
     "name": "stderr",
     "output_type": "stream",
     "text": [
      "100%|##########| 10/10 [00:00<00:00, 174.54it/s]"
     ]
    },
    {
     "name": "stdout",
     "output_type": "stream",
     "text": [
      "{'ade': 0.3139303, 'fde': 0.5661036}\n"
     ]
    },
    {
     "name": "stderr",
     "output_type": "stream",
     "text": [
      "\n"
     ]
    }
   ],
   "source": [
    "# Load the last model that was saved\n",
    "path_model = 'sin_KP_NoN_Hotel_social12_F/model.ckpt-3200'\n",
    "saver.restore(sess=sess, save_path=path_model)\n",
    "\n",
    "test_batches_data = batches_data.Dataset(test_data, arguments)\n",
    "results, traj_ver, traj_pred, traj_obs  = evaluate(test_batches_data, tester,sess,arguments)\n",
    "print(results)"
   ]
  },
  {
   "cell_type": "code",
   "execution_count": 23,
   "metadata": {},
   "outputs": [
    {
     "name": "stdout",
     "output_type": "stream",
     "text": [
      "[42, 75, 123, 96, 50, 74, 147, 145, 113, 157, 121, 80, 170, 117, 150, 141, 105, 35, 163, 49]\n"
     ]
    },
    {
     "data": {
      "image/png": "[encoded data removed]",
      "text/plain": [
       "<Figure size 720x720 with 1 Axes>"
      ]
     },
     "metadata": {
      "needs_background": "light"
     },
     "output_type": "display_data"
    }
   ],
   "source": [
    "# Plot ramdomly a subset of the training data (spatial data only)\n",
    "nSamples = min(20,test)\n",
    "samples  = random.sample(range(1,test), nSamples)\n",
    "plt.subplots(1,1,figsize=(10,10))\n",
    "plt.subplot(1,1,1)\n",
    "plt.axis('equal')\n",
    "print(samples)\n",
    "obs = [traj_obs[i] for i in samples] \n",
    "gt  = [traj_ver[i] for i in samples] \n",
    "pred= [traj_pred[i] for i in samples] \n",
    "# Plot some of the testing data and the predicted ones\n",
    "for (g,o,p) in zip(gt,obs,pred):\n",
    "    plt.plot(o[:,0],o[:,1],color='red')\n",
    "    plt.plot([o[-1,0],g[0,0]],[o[-1,1],g[0,1]],color='blue')    \n",
    "    plt.plot(g[:,0],g[:,1],color='blue')    \n",
    "    plt.plot([o[-1,0],p[0,0]],[o[-1,1],p[0,1]],color='green')    \n",
    "    plt.plot(p[:,0],p[:,1],color='green')    "
   ]
  },
  {
   "cell_type": "code",
   "execution_count": 24,
   "metadata": {},
   "outputs": [
    {
     "name": "stdout",
     "output_type": "stream",
     "text": [
      "INFO:tensorflow:Restoring parameters from sin_KP_NoN_Hotel_social12/model.ckpt-3200\n"
     ]
    },
    {
     "name": "stderr",
     "output_type": "stream",
     "text": [
      "100%|##########| 10/10 [00:00<00:00, 154.97it/s]"
     ]
    },
    {
     "name": "stdout",
     "output_type": "stream",
     "text": [
      "{'ade': 0.3139303, 'fde': 0.5661036}\n"
     ]
    },
    {
     "name": "stderr",
     "output_type": "stream",
     "text": [
      "\n"
     ]
    }
   ],
   "source": [
    "# Load the last model that was saved\n",
    "path_model = 'sin_KP_NoN_Hotel_social12/model.ckpt-3200'\n",
    "saver.restore(sess=sess, save_path=path_model)\n",
    "\n",
    "\n",
    "test_batches_data = batches_data.Dataset(test_data, arguments)\n",
    "results, traj_ver, traj_pred, traj_obs  = evaluate(test_batches_data, tester,sess,arguments)\n",
    "print(results)"
   ]
  },
  {
   "cell_type": "code",
   "execution_count": 25,
   "metadata": {},
   "outputs": [
    {
     "name": "stdout",
     "output_type": "stream",
     "text": [
      "INFO:tensorflow:Restoring parameters from sin_KP_NoN_Hotel_social-best12/model_best.ckpt-3000\n"
     ]
    },
    {
     "name": "stderr",
     "output_type": "stream",
     "text": [
      "100%|##########| 10/10 [00:00<00:00, 162.62it/s]"
     ]
    },
    {
     "name": "stdout",
     "output_type": "stream",
     "text": [
      "{'ade': 0.3133161, 'fde': 0.5690862}\n"
     ]
    },
    {
     "name": "stderr",
     "output_type": "stream",
     "text": [
      "\n"
     ]
    }
   ],
   "source": [
    "# Best model\n",
    "path_model = 'sin_KP_NoN_Hotel_social-best12/model_best.ckpt-3000'\n",
    "saver.restore(sess=sess, save_path=path_model)\n",
    "\n",
    "test_batches_data = batches_data.Dataset(test_data, arguments)\n",
    "results, traj_ver, traj_pred, traj_obs  = evaluate(test_batches_data, tester,sess,arguments)\n",
    "print(results)"
   ]
  },
  {
   "cell_type": "code",
   "execution_count": 26,
   "metadata": {},
   "outputs": [
    {
     "name": "stdout",
     "output_type": "stream",
     "text": [
      "[48, 63, 73, 43, 114, 116, 53, 172, 138, 22, 132, 18, 50, 25, 118, 150, 51, 30, 145, 90]\n"
     ]
    },
    {
     "data": {
      "image/png": "[encoded data removed]",
      "text/plain": [
       "<Figure size 720x720 with 1 Axes>"
      ]
     },
     "metadata": {
      "needs_background": "light"
     },
     "output_type": "display_data"
    }
   ],
   "source": [
    "# Plot ramdomly a subset of the training data (spatial data only)\n",
    "nSamples = min(20,test)\n",
    "samples  = random.sample(range(1,test), nSamples)\n",
    "plt.subplots(1,1,figsize=(10,10))\n",
    "plt.subplot(1,1,1)\n",
    "plt.axis('equal')\n",
    "print(samples)\n",
    "obs = [traj_obs[i] for i in samples] \n",
    "gt  = [traj_ver[i] for i in samples] \n",
    "pred= [traj_pred[i] for i in samples] \n",
    "# Plot some of the testing data and the predicted ones\n",
    "for (g,o,p) in zip(gt,obs,pred):\n",
    "    plt.plot(o[:,0],o[:,1],color='red')\n",
    "    plt.plot([o[-1,0],g[0,0]],[o[-1,1],g[0,1]],color='blue')    \n",
    "    plt.plot(g[:,0],g[:,1],color='blue')    \n",
    "    plt.plot([o[-1,0],p[0,0]],[o[-1,1],p[0,1]],color='green')    \n",
    "    plt.plot(p[:,0],p[:,1],color='green')    "
   ]
  },
  {
   "cell_type": "code",
   "execution_count": null,
   "metadata": {},
   "outputs": [],
   "source": []
  }
 ],
 "metadata": {
  "kernelspec": {
   "display_name": "Python 3",
   "language": "python",
   "name": "python3"
  },
  "language_info": {
   "codemirror_mode": {
    "name": "ipython",
    "version": 3
   },
   "file_extension": ".py",
   "mimetype": "text/x-python",
   "name": "python",
   "nbconvert_exporter": "python",
   "pygments_lexer": "ipython3",
   "version": "3.6.9"
  }
 },
 "nbformat": 4,
 "nbformat_minor": 2
}
