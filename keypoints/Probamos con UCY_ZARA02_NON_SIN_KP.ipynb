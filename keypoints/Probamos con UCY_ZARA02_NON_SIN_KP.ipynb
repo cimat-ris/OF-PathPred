{
 "cells": [
  {
   "cell_type": "code",
   "execution_count": 1,
   "metadata": {},
   "outputs": [],
   "source": [
    "import sys\n",
    "#sys.path.append('/home/andrea/Dropbox/CIMAT/TESIS/lstmsss/keypoints/partes')\n",
    "sys.path.append('../keypoints/partes')\n",
    "import numpy as np\n",
    "#from process_file import process_file_modif\n",
    "#from process_file import process_file_modif_varios\n",
    "from process_file import datos_subprocesados_varios\n",
    "import batches_data\n",
    "import model\n",
    "\n",
    "import tensorflow as tf \n",
    "tf.reset_default_graph()\n",
    "\n",
    "import entrenamientoevaluacion\n",
    "from entrenamientoevaluacion import evaluate\n",
    "from interaccion_no_normalizada import batch_vecinos"
   ]
  },
  {
   "cell_type": "code",
   "execution_count": 2,
   "metadata": {},
   "outputs": [],
   "source": [
    "class parameters:\n",
    "    def __init__(self):\n",
    "        self.obs_len = 8\n",
    "        self.pred_len = 12\n",
    "        self.add_social = False\n",
    "        self.kp_num = 18\n",
    "        self.add_kp = False\n",
    "        #self.directory_flujo='/home/andrea/Dropbox/CIMAT/TESIS/lstmsss/keypoints'\n",
    "        self.directory_flujo='../keypoints'"
   ]
  },
  {
   "cell_type": "code",
   "execution_count": 3,
   "metadata": {},
   "outputs": [
    {
     "name": "stdout",
     "output_type": "stream",
     "text": [
      "../data1/eth/univ/mundo/mun_pos.csv\n",
      "339\n",
      "../data1/eth/hotel/mundo/mun_pos.csv\n",
      "913\n",
      "../data1/ucy/zara/zara01/mundo/mun_pos.csv\n",
      "2356\n",
      "../data1/ucy/univ/mundo/mun_pos.csv\n",
      "10039\n",
      "(13647, 8, 64)\n",
      "../data1/ucy/zara/zara02/mundo/mun_pos.csv\n",
      "5910\n",
      "(5910, 8, 64)\n"
     ]
    }
   ],
   "source": [
    "# Cargamos los argumentos\n",
    "arguments = parameters()\n",
    "\n",
    "# List of data directories where raw data resides\n",
    "datasets_entrena_vali = [0,1,2,4]\n",
    "datasets_prueba = [3]\n",
    "\n",
    "data_entrena_vali = datos_subprocesados_varios(datasets_entrena_vali, arguments, ',')\n",
    "data_prueba = datos_subprocesados_varios(datasets_prueba, arguments, ',')\n",
    "#data_ucyuniv = process_file_modif_varios(ucyuniv_pix_path, arguments, ',')"
   ]
  },
  {
   "cell_type": "markdown",
   "metadata": {},
   "source": [
    "# Dividimos los datos"
   ]
  },
  {
   "cell_type": "code",
   "execution_count": 4,
   "metadata": {},
   "outputs": [
    {
     "name": "stdout",
     "output_type": "stream",
     "text": [
      "data_train: 12555\n",
      "data_test: 5910\n",
      "data_val: 1092\n"
     ]
    },
    {
     "name": "stderr",
     "output_type": "stream",
     "text": [
      "/home/andrea/anaconda2/lib/python2.7/site-packages/ipykernel_launcher.py:26: FutureWarning: Using a non-tuple sequence for multidimensional indexing is deprecated; use `arr[tuple(seq)]` instead of `arr[seq]`. In the future this will be interpreted as an array index, `arr[np.array(seq)]`, which will result either in an error or a different result.\n",
      "/home/andrea/anaconda2/lib/python2.7/site-packages/ipykernel_launcher.py:39: FutureWarning: Using a non-tuple sequence for multidimensional indexing is deprecated; use `arr[tuple(seq)]` instead of `arr[seq]`. In the future this will be interpreted as an array index, `arr[np.array(seq)]`, which will result either in an error or a different result.\n"
     ]
    }
   ],
   "source": [
    "#se fija la semilaa\n",
    "import random\n",
    "random.seed(0)\n",
    "\n",
    "# Muestreamos aleatoriamente para separar datos de entrenamiento, validacion y prueba\n",
    "prob = 0.92\n",
    "# La cantidad total de listas de tam 8 \n",
    "ndata = len(data_entrena_vali[list(data_entrena_vali.keys())[2]])\n",
    "idx = random.sample(range(ndata), ndata)\n",
    "long1 = int(ndata*prob)\n",
    "long2 = int(ndata-long1)\n",
    "\n",
    "\n",
    "idx_train = idx[0:long1]\n",
    "idx_val = idx[long1:]\n",
    "\n",
    "\n",
    "# conjunto de entrenamiento\n",
    "data1 = {\n",
    "     \"obs_traj\": data_entrena_vali[\"obs_traj\"][idx_train],\n",
    "     \"obs_traj_rel\": data_entrena_vali[\"obs_traj_rel\"][idx_train],\n",
    "    \n",
    "     \"pred_traj\": data_entrena_vali[\"pred_traj\"][idx_train],\n",
    "     \"pred_traj_rel\": data_entrena_vali[\"pred_traj_rel\"][idx_train],\n",
    "    \n",
    "     \"key_idx\": data_entrena_vali[\"key_idx\"][[idx_train]],\n",
    "     \"obs_flujo\" : data_entrena_vali[\"obs_flujo\"][idx_train],\n",
    "     #\"pred_kp\": data_pets[\"pred_kp\"][idx_train],\n",
    "     #\"obs_person\": data_pets[\"obs_person\"][idx_train],\n",
    "}\n",
    "\n",
    "\n",
    "# conjunto de validacion\n",
    "data3 ={\n",
    "     \"obs_traj\": data_entrena_vali[\"obs_traj\"][idx_val],\n",
    "     \"obs_traj_rel\": data_entrena_vali[\"obs_traj_rel\"][idx_val],\n",
    "     \"pred_traj\": data_entrena_vali[\"pred_traj\"][idx_val],\n",
    "     \"pred_traj_rel\": data_entrena_vali[\"pred_traj_rel\"][idx_val],\n",
    "     \"key_idx\": data_entrena_vali[\"key_idx\"][[idx_val]],\n",
    "     \"obs_flujo\" : data_entrena_vali[\"obs_flujo\"][idx_val],\n",
    "}\n",
    "\n",
    "\n",
    "#if arguments.add_kp:\n",
    "#  print(data3['obs_person_rel'])\n",
    "\n",
    "print(\"data_train: \"+ str(len(data1[list(data1.keys())[0]])))\n",
    "print(\"data_test: \"+ str(len(data_prueba[list(data_prueba .keys())[0]])))\n",
    "print(\"data_val: \"+ str(len(data3[list(data3.keys())[0]])))\n",
    "#print(\"data4: \"+ str(len(data4[list(data4.keys())[0]])))\n"
   ]
  },
  {
   "cell_type": "markdown",
   "metadata": {},
   "source": [
    "# Guardamos los datos divididos"
   ]
  },
  {
   "cell_type": "code",
   "execution_count": 5,
   "metadata": {},
   "outputs": [],
   "source": [
    "import pickle\n",
    "\n",
    "#conjunto de entrenamiento\n",
    "pickle_out = open(\"data1_UCYZARA02_12.pickle\",\"wb\")\n",
    "pickle.dump(data1, pickle_out, protocol=2)\n",
    "pickle_out.close()\n",
    "\n",
    "#conjunto de prueba\n",
    "pickle_out = open(\"data2_UCYZARA02_12.pickle\",\"wb\")\n",
    "pickle.dump(data_prueba, pickle_out, protocol=2)\n",
    "pickle_out.close()\n",
    "\n",
    "#conjunto de validacion\n",
    "pickle_out = open(\"data3_UCYZARA02_12.pickle\",\"wb\")\n",
    "pickle.dump(data3, pickle_out, protocol=2)\n",
    "pickle_out.close()"
   ]
  },
  {
   "cell_type": "markdown",
   "metadata": {},
   "source": [
    "# Parametros para el modelo"
   ]
  },
  {
   "cell_type": "code",
   "execution_count": 6,
   "metadata": {},
   "outputs": [],
   "source": [
    "class parameters1:\n",
    "    def __init__(self, add_kp = None, add_social=None, train_num_examples=None):\n",
    "        # -----------------\n",
    "        # Similar a como se procesaron los datos\n",
    "        self.obs_len = 8\n",
    "        self.pred_len = 12\n",
    "        if add_kp is None:\n",
    "            print('Parameter add kpp missing')\n",
    "            return\n",
    "        if train_num_examples is None:\n",
    "            print('El parametro train_examples fue olvidado')\n",
    "            return\n",
    "        if add_social is None:\n",
    "            print('Parameter add social missing')\n",
    "            return\n",
    "        \n",
    "        self.add_kp = add_kp\n",
    "        self.train_num_examples = train_num_examples\n",
    "        self.add_social = add_social\n",
    "        \n",
    "        self.kp_num = 18\n",
    "        self.kp_size = 18\n",
    "        #self.maxNumPed = 8\n",
    "        #self.grid_size = 4\n",
    "        #self.neighborhood_size = 32\n",
    "        #self.dimensions = [768,576]\n",
    "        #self.limites=[-15.88,11.56,-19.09,5.99]\n",
    "        #self.bound=[0.7,0.5]\n",
    "        # ------------------\n",
    "        self.num_epochs = 100\n",
    "        self.batch_size = 20 # batch size\n",
    "        self.validate = 300\n",
    "        self.P = 2 # dimensión\n",
    "        self.enc_hidden_size = 128 # el nombre lo dice\n",
    "        self.dec_hidden_size = 128\n",
    "        self.emb_size = 64\n",
    "        self.keep_prob = 0.7 # dropout\n",
    "        \n",
    "        self.min_ped = 1\n",
    "        self.seq_len = self.obs_len + self.pred_len\n",
    "        self.reverse_xy = False\n",
    "        \n",
    "        self.activation_func = tf.nn.tanh\n",
    "        self.activation_func1 = tf.nn.relu\n",
    "        self.is_train = True\n",
    "        self.is_test = False\n",
    "        self.multi_decoder = False\n",
    "        self.modelname = 'gphuctl'\n",
    "        \n",
    "        self.init_lr = 0.002 # 0.01\n",
    "        self.learning_rate_decay = 0.85\n",
    "        self.num_epoch_per_decay = 2.0\n",
    "        self.optimizer = 'adam'\n",
    "        self.emb_lr = 1.0\n",
    "        #self.clip_gradient_norm = 10.0\n",
    "        #Para cuando entreno y quiero guardar el mejor modelo\n",
    "        self.load_best = True"
   ]
  },
  {
   "cell_type": "markdown",
   "metadata": {},
   "source": [
    "# Entrenamos el modelo"
   ]
  },
  {
   "cell_type": "code",
   "execution_count": 7,
   "metadata": {},
   "outputs": [
    {
     "name": "stderr",
     "output_type": "stream",
     "text": [
      "WARNING: Logging before flag parsing goes to stderr.\n",
      "W0102 13:12:25.764610 139891789588224 deprecation_wrapper.py:119] From /home/andrea/Dropbox/CIMAT/TESIS/lstmsss/keypoints/partes/model.py:13: The name tf.get_variable is deprecated. Please use tf.compat.v1.get_variable instead.\n",
      "\n",
      "W0102 13:12:25.858925 139891789588224 deprecation_wrapper.py:119] From /home/andrea/Dropbox/CIMAT/TESIS/lstmsss/keypoints/partes/model.py:31: The name tf.placeholder is deprecated. Please use tf.compat.v1.placeholder instead.\n",
      "\n",
      "W0102 13:12:25.872773 139891789588224 deprecation.py:323] From /home/andrea/Dropbox/CIMAT/TESIS/lstmsss/keypoints/partes/model.py:70: __init__ (from tensorflow.python.ops.rnn_cell_impl) is deprecated and will be removed in a future version.\n",
      "Instructions for updating:\n",
      "This class is equivalent as tf.keras.layers.LSTMCell, and will be replaced by that in Tensorflow 2.0.\n",
      "W0102 13:12:25.874577 139891789588224 deprecation_wrapper.py:119] From /home/andrea/Dropbox/CIMAT/TESIS/lstmsss/keypoints/partes/model.py:72: The name tf.nn.rnn_cell.DropoutWrapper is deprecated. Please use tf.compat.v1.nn.rnn_cell.DropoutWrapper instead.\n",
      "\n",
      "W0102 13:12:25.886945 139891789588224 deprecation_wrapper.py:119] From /home/andrea/Dropbox/CIMAT/TESIS/lstmsss/keypoints/partes/model.py:103: The name tf.variable_scope is deprecated. Please use tf.compat.v1.variable_scope instead.\n",
      "\n",
      "W0102 13:12:25.894818 139891789588224 deprecation_wrapper.py:119] From /home/andrea/Dropbox/CIMAT/TESIS/lstmsss/keypoints/partes/model.py:476: The name tf.AUTO_REUSE is deprecated. Please use tf.compat.v1.AUTO_REUSE instead.\n",
      "\n",
      "W0102 13:12:25.922472 139891789588224 deprecation_wrapper.py:119] From /home/andrea/Dropbox/CIMAT/TESIS/lstmsss/keypoints/partes/model.py:495: The name tf.truncated_normal is deprecated. Please use tf.random.truncated_normal instead.\n",
      "\n",
      "W0102 13:12:25.961601 139891789588224 deprecation.py:323] From /home/andrea/Dropbox/CIMAT/TESIS/lstmsss/keypoints/partes/model.py:116: dynamic_rnn (from tensorflow.python.ops.rnn) is deprecated and will be removed in a future version.\n",
      "Instructions for updating:\n",
      "Please use `keras.layers.RNN(cell)`, which is equivalent to this API\n",
      "W0102 13:12:26.109392 139891789588224 deprecation.py:506] From /home/andrea/anaconda2/lib/python2.7/site-packages/tensorflow/python/ops/init_ops.py:1251: calling __init__ (from tensorflow.python.ops.init_ops) with dtype is deprecated and will be removed in a future version.\n",
      "Instructions for updating:\n",
      "Call initializer instance with the dtype argument instead of passing it to the constructor\n",
      "W0102 13:12:26.122370 139891789588224 deprecation.py:506] From /home/andrea/anaconda2/lib/python2.7/site-packages/tensorflow/python/ops/rnn_cell_impl.py:961: calling __init__ (from tensorflow.python.ops.init_ops) with dtype is deprecated and will be removed in a future version.\n",
      "Instructions for updating:\n",
      "Call initializer instance with the dtype argument instead of passing it to the constructor\n",
      "W0102 13:12:26.805977 139891789588224 deprecation.py:323] From /home/andrea/anaconda2/lib/python2.7/site-packages/tensorflow/python/ops/rnn.py:244: where (from tensorflow.python.ops.array_ops) is deprecated and will be removed in a future version.\n",
      "Instructions for updating:\n",
      "Use tf.where in 2.0, which has the same broadcast rule as np.where\n",
      "W0102 13:12:27.000595 139891789588224 deprecation_wrapper.py:119] From /home/andrea/Dropbox/CIMAT/TESIS/lstmsss/keypoints/partes/model.py:554: The name tf.nn.rnn_cell.LSTMStateTuple is deprecated. Please use tf.compat.v1.nn.rnn_cell.LSTMStateTuple instead.\n",
      "\n",
      "W0102 13:12:27.032033 139891789588224 deprecation_wrapper.py:119] From /home/andrea/Dropbox/CIMAT/TESIS/lstmsss/keypoints/partes/model.py:272: The name tf.nn.raw_rnn is deprecated. Please use tf.compat.v1.nn.raw_rnn instead.\n",
      "\n",
      "W0102 13:12:27.420386 139891789588224 deprecation_wrapper.py:119] From /home/andrea/Dropbox/CIMAT/TESIS/lstmsss/keypoints/partes/entrenamientoevaluacion.py:18: The name tf.train.exponential_decay is deprecated. Please use tf.compat.v1.train.exponential_decay instead.\n",
      "\n",
      "W0102 13:12:27.428519 139891789588224 deprecation_wrapper.py:119] From /home/andrea/Dropbox/CIMAT/TESIS/lstmsss/keypoints/partes/entrenamientoevaluacion.py:33: The name tf.train.AdamOptimizer is deprecated. Please use tf.compat.v1.train.AdamOptimizer instead.\n",
      "\n",
      "  0%|          | 0/628 [00:00<?, ?it/s]"
     ]
    },
    {
     "name": "stdout",
     "output_type": "stream",
     "text": [
      "628\n",
      "('Epoca 1.', 'lr:', 0.002)\n",
      "\tsaving model 1...\n"
     ]
    },
    {
     "name": "stderr",
     "output_type": "stream",
     "text": [
      "\n",
      "  0%|          | 0/55 [00:00<?, ?it/s]\u001b[A"
     ]
    },
    {
     "name": "stdout",
     "output_type": "stream",
     "text": [
      "\tdone\n",
      "Evaluating\n"
     ]
    },
    {
     "name": "stderr",
     "output_type": "stream",
     "text": [
      "\n",
      "  2%|1         | 1/55 [00:00<00:16,  3.34it/s]\u001b[A\n",
      " 16%|#6        | 9/55 [00:00<00:09,  4.68it/s]\u001b[A\n",
      " 31%|###       | 17/55 [00:00<00:05,  6.51it/s]\u001b[A\n",
      " 45%|####5     | 25/55 [00:00<00:03,  8.97it/s]\u001b[A\n",
      " 55%|#####4    | 30/55 [00:00<00:02, 11.88it/s]\u001b[A\n",
      " 69%|######9   | 38/55 [00:00<00:01, 15.94it/s]\u001b[A\n",
      " 84%|########3 | 46/55 [00:00<00:00, 20.89it/s]\u001b[A\n",
      " 98%|#########8| 54/55 [00:01<00:00, 26.70it/s]\u001b[A\n",
      "100%|##########| 55/55 [00:01<00:00, 51.33it/s]\u001b[A"
     ]
    },
    {
     "name": "stdout",
     "output_type": "stream",
     "text": [
      "{'ade': 1.7698175, 'fde': 3.2235246}\n",
      "\t last loss:-1.000000000, eval on validation:['ade: 1.7698175', 'fde: 3.2235246'], (best ade:999999 at step -1) \n",
      "\t saving best model...\n",
      "\t done.\n"
     ]
    },
    {
     "name": "stderr",
     "output_type": "stream",
     "text": [
      " 47%|████▋     | 297/628 [00:14<00:12, 25.90it/s]\n",
      "  0%|          | 0/55 [00:00<?, ?it/s]\u001b[A"
     ]
    },
    {
     "name": "stdout",
     "output_type": "stream",
     "text": [
      "\tsaving model 300...\n",
      "\tdone\n",
      "Evaluating\n"
     ]
    },
    {
     "name": "stderr",
     "output_type": "stream",
     "text": [
      "\n",
      "  9%|9         | 5/55 [00:00<00:01, 47.91it/s]\u001b[A\n",
      " 22%|##1       | 12/55 [00:00<00:00, 51.67it/s]\u001b[A\n",
      " 36%|###6      | 20/55 [00:00<00:00, 57.77it/s]\u001b[A\n",
      " 53%|#####2    | 29/55 [00:00<00:00, 63.52it/s]\u001b[A\n",
      " 67%|######7   | 37/55 [00:00<00:00, 66.28it/s]\u001b[A\n",
      " 84%|########3 | 46/55 [00:00<00:00, 71.05it/s]\u001b[A\n",
      "100%|##########| 55/55 [00:00<00:00, 74.44it/s]\u001b[A"
     ]
    },
    {
     "name": "stdout",
     "output_type": "stream",
     "text": [
      "{'ade': 0.63046545, 'fde': 1.3948896}\n",
      "\t last loss:0.001378534, eval on validation:['ade: 0.63046545', 'fde: 1.3948896'], (best ade:1.7698175 at step 1) \n",
      "\t saving best model...\n",
      "\t done.\n"
     ]
    },
    {
     "name": "stderr",
     "output_type": "stream",
     "text": [
      " 95%|█████████▌| 597/628 [00:27<00:01, 26.11it/s]W0102 13:12:56.650155 139891789588224 deprecation.py:323] From /home/andrea/anaconda2/lib/python2.7/site-packages/tensorflow/python/training/saver.py:960: remove_checkpoint (from tensorflow.python.training.checkpoint_management) is deprecated and will be removed in a future version.\n",
      "Instructions for updating:\n",
      "Use standard file APIs to delete files with this prefix.\n",
      "\n",
      "  0%|          | 0/55 [00:00<?, ?it/s]\u001b[A"
     ]
    },
    {
     "name": "stdout",
     "output_type": "stream",
     "text": [
      "\tsaving model 600...\n",
      "\tdone\n",
      "Evaluating\n"
     ]
    },
    {
     "name": "stderr",
     "output_type": "stream",
     "text": [
      "\n",
      " 16%|#6        | 9/55 [00:00<00:00, 87.43it/s]\u001b[A\n",
      " 33%|###2      | 18/55 [00:00<00:00, 87.92it/s]\u001b[A\n",
      " 51%|#####     | 28/55 [00:00<00:00, 88.98it/s]\u001b[A\n",
      " 69%|######9   | 38/55 [00:00<00:00, 90.26it/s]\u001b[A\n",
      " 87%|########7 | 48/55 [00:00<00:00, 90.93it/s]\u001b[A\n",
      "100%|##########| 55/55 [00:00<00:00, 90.31it/s]\u001b[A"
     ]
    },
    {
     "name": "stdout",
     "output_type": "stream",
     "text": [
      "{'ade': 0.62282145, 'fde': 1.3404301}\n",
      "\t last loss:0.000698994, eval on validation:['ade: 0.62282145', 'fde: 1.3404301'], (best ade:0.63046545 at step 300) \n",
      "\t saving best model...\n",
      "\t done.\n"
     ]
    },
    {
     "name": "stderr",
     "output_type": "stream",
     "text": [
      "100%|██████████| 628/628 [00:29<00:00, 21.12it/s]\n",
      "  0%|          | 1/628 [00:00<01:14,  8.41it/s]"
     ]
    },
    {
     "name": "stdout",
     "output_type": "stream",
     "text": [
      "('Epoca 2.', 'lr:', 0.002)\n"
     ]
    },
    {
     "name": "stderr",
     "output_type": "stream",
     "text": [
      " 43%|████▎     | 271/628 [00:10<00:13, 25.93it/s]\n",
      "  0%|          | 0/55 [00:00<?, ?it/s]\u001b[A"
     ]
    },
    {
     "name": "stdout",
     "output_type": "stream",
     "text": [
      "\tsaving model 900...\n",
      "\tdone\n",
      "Evaluating\n"
     ]
    },
    {
     "name": "stderr",
     "output_type": "stream",
     "text": [
      "\n",
      " 16%|#6        | 9/55 [00:00<00:00, 89.80it/s]\u001b[A\n",
      " 31%|###       | 17/55 [00:00<00:00, 86.32it/s]\u001b[A\n",
      " 49%|####9     | 27/55 [00:00<00:00, 87.74it/s]\u001b[A\n",
      " 65%|######5   | 36/55 [00:00<00:00, 87.51it/s]\u001b[A\n",
      " 82%|########1 | 45/55 [00:00<00:00, 88.18it/s]\u001b[A\n",
      " 98%|#########8| 54/55 [00:00<00:00, 88.58it/s]\u001b[A\n",
      "100%|##########| 55/55 [00:00<00:00, 87.06it/s]\u001b[A"
     ]
    },
    {
     "name": "stdout",
     "output_type": "stream",
     "text": [
      "{'ade': 0.568299, 'fde': 1.2135302}\n",
      "\t last loss:0.000724817, eval on validation:['ade: 0.568299', 'fde: 1.2135302'], (best ade:0.62282145 at step 600) \n",
      "\t saving best model...\n",
      "\t done.\n"
     ]
    },
    {
     "name": "stderr",
     "output_type": "stream",
     "text": [
      " 91%|█████████ | 571/628 [00:23<00:02, 25.97it/s]\n",
      "  0%|          | 0/55 [00:00<?, ?it/s]\u001b[A"
     ]
    },
    {
     "name": "stdout",
     "output_type": "stream",
     "text": [
      "\tsaving model 1200...\n",
      "\tdone\n",
      "Evaluating\n"
     ]
    },
    {
     "name": "stderr",
     "output_type": "stream",
     "text": [
      "\n",
      " 18%|#8        | 10/55 [00:00<00:00, 91.03it/s]\u001b[A\n",
      " 36%|###6      | 20/55 [00:00<00:00, 91.12it/s]\u001b[A\n",
      " 55%|#####4    | 30/55 [00:00<00:00, 91.50it/s]\u001b[A\n",
      " 71%|#######   | 39/55 [00:00<00:00, 90.29it/s]\u001b[A\n",
      " 89%|########9 | 49/55 [00:00<00:00, 90.77it/s]\u001b[A\n",
      " 91%|█████████▏| 574/628 [00:23<00:06,  8.36it/s]A"
     ]
    },
    {
     "name": "stdout",
     "output_type": "stream",
     "text": [
      "{'ade': 0.62236816, 'fde': 1.360001}\n",
      "\t last loss:0.000944789, eval on validation:['ade: 0.62236816', 'fde: 1.360001'], (best ade:0.568299 at step 900) \n"
     ]
    },
    {
     "name": "stderr",
     "output_type": "stream",
     "text": [
      "100%|██████████| 628/628 [00:26<00:00, 25.84it/s]\n",
      "  0%|          | 3/628 [00:00<00:24, 25.16it/s]"
     ]
    },
    {
     "name": "stdout",
     "output_type": "stream",
     "text": [
      "('Epoca 3.', 'lr:', 0.0017000001)\n"
     ]
    },
    {
     "name": "stderr",
     "output_type": "stream",
     "text": [
      " 39%|███▊      | 243/628 [00:09<00:14, 25.94it/s]\n",
      "  0%|          | 0/55 [00:00<?, ?it/s]\u001b[A"
     ]
    },
    {
     "name": "stdout",
     "output_type": "stream",
     "text": [
      "\tsaving model 1500...\n",
      "\tdone\n",
      "Evaluating\n"
     ]
    },
    {
     "name": "stderr",
     "output_type": "stream",
     "text": [
      "\n",
      " 16%|#6        | 9/55 [00:00<00:00, 87.42it/s]\u001b[A\n",
      " 31%|###       | 17/55 [00:00<00:00, 84.43it/s]\u001b[A\n",
      " 47%|####7     | 26/55 [00:00<00:00, 85.43it/s]\u001b[A\n",
      " 64%|######3   | 35/55 [00:00<00:00, 86.31it/s]\u001b[A\n",
      " 82%|########1 | 45/55 [00:00<00:00, 87.79it/s]\u001b[A\n",
      " 39%|███▉      | 246/628 [00:10<00:46,  8.23it/s]A"
     ]
    },
    {
     "name": "stdout",
     "output_type": "stream",
     "text": [
      "{'ade': 0.5847915, 'fde': 1.2609411}\n",
      "\t last loss:0.000880026, eval on validation:['ade: 0.5847915', 'fde: 1.2609411'], (best ade:0.568299 at step 900) \n"
     ]
    },
    {
     "name": "stderr",
     "output_type": "stream",
     "text": [
      " 86%|████████▋ | 543/628 [00:21<00:03, 25.49it/s]\n",
      "  0%|          | 0/55 [00:00<?, ?it/s]\u001b[A"
     ]
    },
    {
     "name": "stdout",
     "output_type": "stream",
     "text": [
      "\tsaving model 1800...\n",
      "\tdone\n",
      "Evaluating\n"
     ]
    },
    {
     "name": "stderr",
     "output_type": "stream",
     "text": [
      "\n",
      " 16%|#6        | 9/55 [00:00<00:00, 89.54it/s]\u001b[A\n",
      " 35%|###4      | 19/55 [00:00<00:00, 90.35it/s]\u001b[A\n",
      " 53%|#####2    | 29/55 [00:00<00:00, 90.94it/s]\u001b[A\n",
      " 71%|#######   | 39/55 [00:00<00:00, 91.10it/s]\u001b[A\n",
      " 87%|########7 | 48/55 [00:00<00:00, 89.70it/s]\u001b[A\n",
      " 87%|████████▋ | 546/628 [00:22<00:09,  8.35it/s]A"
     ]
    },
    {
     "name": "stdout",
     "output_type": "stream",
     "text": [
      "{'ade': 0.5839422, 'fde': 1.2643955}\n",
      "\t last loss:0.000676928, eval on validation:['ade: 0.5839422', 'fde: 1.2643955'], (best ade:0.568299 at step 900) \n"
     ]
    },
    {
     "name": "stderr",
     "output_type": "stream",
     "text": [
      "100%|██████████| 628/628 [00:25<00:00, 24.23it/s]\n",
      "  0%|          | 1/628 [00:00<01:18,  7.99it/s]"
     ]
    },
    {
     "name": "stdout",
     "output_type": "stream",
     "text": [
      "('Epoca 4.', 'lr:', 0.0017000001)\n"
     ]
    },
    {
     "name": "stderr",
     "output_type": "stream",
     "text": [
      " 34%|███▍      | 214/628 [00:08<00:15, 26.16it/s]\n",
      "  0%|          | 0/55 [00:00<?, ?it/s]\u001b[A"
     ]
    },
    {
     "name": "stdout",
     "output_type": "stream",
     "text": [
      "\tsaving model 2100...\n",
      "\tdone\n",
      "Evaluating\n"
     ]
    },
    {
     "name": "stderr",
     "output_type": "stream",
     "text": [
      "\n",
      " 16%|#6        | 9/55 [00:00<00:00, 87.67it/s]\u001b[A\n",
      " 35%|###4      | 19/55 [00:00<00:00, 89.08it/s]\u001b[A\n",
      " 53%|#####2    | 29/55 [00:00<00:00, 90.21it/s]\u001b[A\n",
      " 71%|#######   | 39/55 [00:00<00:00, 90.39it/s]\u001b[A\n",
      " 87%|########7 | 48/55 [00:00<00:00, 89.29it/s]\u001b[A\n",
      " 35%|███▌      | 220/628 [00:09<00:38, 10.49it/s]A"
     ]
    },
    {
     "name": "stdout",
     "output_type": "stream",
     "text": [
      "{'ade': 0.6163131, 'fde': 1.3317754}\n",
      "\t last loss:0.000608606, eval on validation:['ade: 0.6163131', 'fde: 1.3317754'], (best ade:0.568299 at step 900) \n"
     ]
    },
    {
     "name": "stderr",
     "output_type": "stream",
     "text": [
      " 82%|████████▏ | 515/628 [00:21<00:04, 25.88it/s]\n",
      "  0%|          | 0/55 [00:00<?, ?it/s]\u001b[A"
     ]
    },
    {
     "name": "stdout",
     "output_type": "stream",
     "text": [
      "\tsaving model 2400...\n",
      "\tdone\n",
      "Evaluating\n"
     ]
    },
    {
     "name": "stderr",
     "output_type": "stream",
     "text": [
      "\n",
      " 16%|#6        | 9/55 [00:00<00:00, 89.86it/s]\u001b[A\n",
      " 33%|###2      | 18/55 [00:00<00:00, 87.46it/s]\u001b[A\n",
      " 49%|####9     | 27/55 [00:00<00:00, 87.57it/s]\u001b[A\n",
      " 67%|######7   | 37/55 [00:00<00:00, 88.73it/s]\u001b[A\n",
      " 85%|########5 | 47/55 [00:00<00:00, 89.72it/s]\u001b[A\n",
      " 82%|████████▏ | 518/628 [00:22<00:13,  8.32it/s]A"
     ]
    },
    {
     "name": "stdout",
     "output_type": "stream",
     "text": [
      "{'ade': 0.5988645, 'fde': 1.2929311}\n",
      "\t last loss:0.000481985, eval on validation:['ade: 0.5988645', 'fde: 1.2929311'], (best ade:0.568299 at step 900) \n"
     ]
    },
    {
     "name": "stderr",
     "output_type": "stream",
     "text": [
      "100%|██████████| 628/628 [00:26<00:00, 23.54it/s]\n",
      "  0%|          | 1/628 [00:00<01:12,  8.70it/s]"
     ]
    },
    {
     "name": "stdout",
     "output_type": "stream",
     "text": [
      "('Epoca 5.', 'lr:', 0.0014450002)\n"
     ]
    },
    {
     "name": "stderr",
     "output_type": "stream",
     "text": [
      " 30%|██▉       | 187/628 [00:07<00:17, 25.57it/s]\n",
      "  0%|          | 0/55 [00:00<?, ?it/s]\u001b[A"
     ]
    },
    {
     "name": "stdout",
     "output_type": "stream",
     "text": [
      "\tsaving model 2700...\n",
      "\tdone\n",
      "Evaluating\n"
     ]
    },
    {
     "name": "stderr",
     "output_type": "stream",
     "text": [
      "\n",
      " 16%|#6        | 9/55 [00:00<00:00, 88.76it/s]\u001b[A\n",
      " 33%|###2      | 18/55 [00:00<00:00, 89.10it/s]\u001b[A\n",
      " 51%|#####     | 28/55 [00:00<00:00, 90.12it/s]\u001b[A\n",
      " 69%|######9   | 38/55 [00:00<00:00, 90.60it/s]\u001b[A\n",
      " 87%|########7 | 48/55 [00:00<00:00, 91.21it/s]\u001b[A\n",
      " 30%|███       | 190/628 [00:08<00:52,  8.34it/s]A"
     ]
    },
    {
     "name": "stdout",
     "output_type": "stream",
     "text": [
      "{'ade': 0.6290087, 'fde': 1.3886098}\n",
      "\t last loss:0.000535573, eval on validation:['ade: 0.6290087', 'fde: 1.3886098'], (best ade:0.568299 at step 900) \n"
     ]
    },
    {
     "name": "stderr",
     "output_type": "stream",
     "text": [
      " 78%|███████▊  | 487/628 [00:19<00:05, 26.10it/s]\n",
      "  0%|          | 0/55 [00:00<?, ?it/s]\u001b[A"
     ]
    },
    {
     "name": "stdout",
     "output_type": "stream",
     "text": [
      "\tsaving model 3000...\n",
      "\tdone\n",
      "Evaluating\n"
     ]
    },
    {
     "name": "stderr",
     "output_type": "stream",
     "text": [
      "\n",
      " 16%|#6        | 9/55 [00:00<00:00, 87.36it/s]\u001b[A\n",
      " 33%|###2      | 18/55 [00:00<00:00, 85.51it/s]\u001b[A\n",
      " 49%|####9     | 27/55 [00:00<00:00, 86.67it/s]\u001b[A\n",
      " 65%|######5   | 36/55 [00:00<00:00, 86.04it/s]\u001b[A\n",
      " 82%|########1 | 45/55 [00:00<00:00, 87.00it/s]\u001b[A\n",
      " 78%|███████▊  | 490/628 [00:20<00:16,  8.26it/s]A"
     ]
    },
    {
     "name": "stdout",
     "output_type": "stream",
     "text": [
      "{'ade': 0.6068286, 'fde': 1.328733}\n",
      "\t last loss:0.000942023, eval on validation:['ade: 0.6068286', 'fde: 1.328733'], (best ade:0.568299 at step 900) \n"
     ]
    },
    {
     "name": "stderr",
     "output_type": "stream",
     "text": [
      "100%|██████████| 628/628 [00:26<00:00, 24.32it/s]\n",
      "  0%|          | 1/628 [00:00<01:11,  8.73it/s]"
     ]
    },
    {
     "name": "stdout",
     "output_type": "stream",
     "text": [
      "('Epoca 6.', 'lr:', 0.0014450002)\n"
     ]
    },
    {
     "name": "stderr",
     "output_type": "stream",
     "text": [
      " 25%|██▌       | 157/628 [00:06<00:18, 25.59it/s]\n",
      "  0%|          | 0/55 [00:00<?, ?it/s]\u001b[A"
     ]
    },
    {
     "name": "stdout",
     "output_type": "stream",
     "text": [
      "\tsaving model 3300...\n",
      "\tdone\n",
      "Evaluating\n"
     ]
    },
    {
     "name": "stderr",
     "output_type": "stream",
     "text": [
      "\n",
      " 16%|#6        | 9/55 [00:00<00:00, 85.88it/s]\u001b[A\n",
      " 31%|###       | 17/55 [00:00<00:00, 84.02it/s]\u001b[A\n",
      " 45%|####5     | 25/55 [00:00<00:00, 81.69it/s]\u001b[A\n",
      " 60%|######    | 33/55 [00:00<00:00, 79.53it/s]\u001b[A\n",
      " 76%|#######6  | 42/55 [00:00<00:00, 80.58it/s]\u001b[A\n",
      " 93%|#########2| 51/55 [00:00<00:00, 81.04it/s]\u001b[A\n",
      " 26%|██▌       | 163/628 [00:07<00:47,  9.72it/s]A"
     ]
    },
    {
     "name": "stdout",
     "output_type": "stream",
     "text": [
      "{'ade': 0.58885866, 'fde': 1.2851791}\n",
      "\t last loss:0.000795066, eval on validation:['ade: 0.58885866', 'fde: 1.2851791'], (best ade:0.568299 at step 900) \n"
     ]
    },
    {
     "name": "stderr",
     "output_type": "stream",
     "text": [
      " 73%|███████▎  | 457/628 [00:19<00:06, 25.82it/s]\n",
      "  0%|          | 0/55 [00:00<?, ?it/s]\u001b[A"
     ]
    },
    {
     "name": "stdout",
     "output_type": "stream",
     "text": [
      "\tsaving model 3600...\n",
      "\tdone\n",
      "Evaluating\n"
     ]
    },
    {
     "name": "stderr",
     "output_type": "stream",
     "text": [
      "\n",
      " 18%|#8        | 10/55 [00:00<00:00, 91.45it/s]\u001b[A\n",
      " 35%|###4      | 19/55 [00:00<00:00, 90.99it/s]\u001b[A\n",
      " 53%|#####2    | 29/55 [00:00<00:00, 90.83it/s]\u001b[A\n",
      " 71%|#######   | 39/55 [00:00<00:00, 91.10it/s]\u001b[A\n",
      " 87%|########7 | 48/55 [00:00<00:00, 89.64it/s]\u001b[A\n",
      " 74%|███████▎  | 463/628 [00:20<00:15, 10.50it/s]A"
     ]
    },
    {
     "name": "stdout",
     "output_type": "stream",
     "text": [
      "{'ade': 0.6802181, 'fde': 1.5321684}\n",
      "\t last loss:0.000561402, eval on validation:['ade: 0.6802181', 'fde: 1.5321684'], (best ade:0.568299 at step 900) \n"
     ]
    },
    {
     "name": "stderr",
     "output_type": "stream",
     "text": [
      "100%|██████████| 628/628 [00:26<00:00, 26.08it/s]\n",
      "  0%|          | 2/628 [00:00<00:36, 17.18it/s]"
     ]
    },
    {
     "name": "stdout",
     "output_type": "stream",
     "text": [
      "('Epoca 7.', 'lr:', 0.0012282502)\n"
     ]
    },
    {
     "name": "stderr",
     "output_type": "stream",
     "text": [
      " 21%|██        | 131/628 [00:05<00:20, 24.34it/s]\n",
      "  0%|          | 0/55 [00:00<?, ?it/s]\u001b[A"
     ]
    },
    {
     "name": "stdout",
     "output_type": "stream",
     "text": [
      "\tsaving model 3900...\n",
      "\tdone\n",
      "Evaluating\n"
     ]
    },
    {
     "name": "stderr",
     "output_type": "stream",
     "text": [
      "\n",
      " 16%|#6        | 9/55 [00:00<00:00, 85.15it/s]\u001b[A\n",
      " 33%|###2      | 18/55 [00:00<00:00, 84.13it/s]\u001b[A\n",
      " 49%|####9     | 27/55 [00:00<00:00, 84.07it/s]\u001b[A\n",
      " 65%|######5   | 36/55 [00:00<00:00, 83.22it/s]\u001b[A\n",
      " 80%|########  | 44/55 [00:00<00:00, 82.23it/s]\u001b[A\n",
      " 96%|#########6| 53/55 [00:00<00:00, 82.63it/s]\u001b[A\n",
      " 21%|██▏       | 134/628 [00:06<01:04,  7.66it/s]A"
     ]
    },
    {
     "name": "stdout",
     "output_type": "stream",
     "text": [
      "{'ade': 0.5760161, 'fde': 1.245705}\n",
      "\t last loss:0.000423049, eval on validation:['ade: 0.5760161', 'fde: 1.245705'], (best ade:0.568299 at step 900) \n"
     ]
    },
    {
     "name": "stderr",
     "output_type": "stream",
     "text": [
      " 69%|██████▊   | 431/628 [00:17<00:07, 26.29it/s]\n",
      "  0%|          | 0/55 [00:00<?, ?it/s]\u001b[A"
     ]
    },
    {
     "name": "stdout",
     "output_type": "stream",
     "text": [
      "\tsaving model 4200...\n",
      "\tdone\n",
      "Evaluating\n"
     ]
    },
    {
     "name": "stderr",
     "output_type": "stream",
     "text": [
      "\n",
      " 16%|#6        | 9/55 [00:00<00:00, 86.34it/s]\u001b[A\n",
      " 33%|###2      | 18/55 [00:00<00:00, 87.23it/s]\u001b[A\n",
      " 51%|#####     | 28/55 [00:00<00:00, 88.98it/s]\u001b[A\n",
      " 69%|######9   | 38/55 [00:00<00:00, 89.74it/s]\u001b[A\n",
      " 85%|########5 | 47/55 [00:00<00:00, 88.88it/s]\u001b[A\n",
      " 69%|██████▉   | 434/628 [00:18<00:22,  8.44it/s]A"
     ]
    },
    {
     "name": "stdout",
     "output_type": "stream",
     "text": [
      "{'ade': 0.58412236, 'fde': 1.2699814}\n",
      "\t last loss:0.000810755, eval on validation:['ade: 0.58412236', 'fde: 1.2699814'], (best ade:0.568299 at step 900) \n"
     ]
    },
    {
     "name": "stderr",
     "output_type": "stream",
     "text": [
      "100%|██████████| 628/628 [00:26<00:00, 23.59it/s]\n",
      "  0%|          | 1/628 [00:00<01:13,  8.57it/s]"
     ]
    },
    {
     "name": "stdout",
     "output_type": "stream",
     "text": [
      "('Epoca 8.', 'lr:', 0.0012282502)\n"
     ]
    },
    {
     "name": "stderr",
     "output_type": "stream",
     "text": [
      " 16%|█▋        | 103/628 [00:04<00:21, 24.54it/s]\n",
      "  0%|          | 0/55 [00:00<?, ?it/s]\u001b[A"
     ]
    },
    {
     "name": "stdout",
     "output_type": "stream",
     "text": [
      "\tsaving model 4500...\n",
      "\tdone\n",
      "Evaluating\n"
     ]
    },
    {
     "name": "stderr",
     "output_type": "stream",
     "text": [
      "\n",
      " 13%|#2        | 7/55 [00:00<00:00, 69.18it/s]\u001b[A\n",
      " 29%|##9       | 16/55 [00:00<00:00, 72.58it/s]\u001b[A\n",
      " 44%|####3     | 24/55 [00:00<00:00, 74.57it/s]\u001b[A\n",
      " 60%|######    | 33/55 [00:00<00:00, 76.98it/s]\u001b[A\n",
      " 76%|#######6  | 42/55 [00:00<00:00, 79.98it/s]\u001b[A\n",
      " 95%|#########4| 52/55 [00:00<00:00, 82.94it/s]\u001b[A\n",
      " 17%|█▋        | 106/628 [00:05<01:06,  7.83it/s]A"
     ]
    },
    {
     "name": "stdout",
     "output_type": "stream",
     "text": [
      "{'ade': 0.60782, 'fde': 1.3329455}\n",
      "\t last loss:0.000795658, eval on validation:['ade: 0.60782', 'fde: 1.3329455'], (best ade:0.568299 at step 900) \n"
     ]
    },
    {
     "name": "stderr",
     "output_type": "stream",
     "text": [
      " 64%|██████▍   | 403/628 [00:16<00:08, 25.66it/s]\n",
      "  0%|          | 0/55 [00:00<?, ?it/s]\u001b[A"
     ]
    },
    {
     "name": "stdout",
     "output_type": "stream",
     "text": [
      "\tsaving model 4800...\n",
      "\tdone\n",
      "Evaluating\n"
     ]
    },
    {
     "name": "stderr",
     "output_type": "stream",
     "text": [
      "\n",
      " 16%|#6        | 9/55 [00:00<00:00, 86.53it/s]\u001b[A\n",
      " 31%|###       | 17/55 [00:00<00:00, 84.14it/s]\u001b[A\n",
      " 47%|####7     | 26/55 [00:00<00:00, 82.83it/s]\u001b[A\n",
      " 62%|######1   | 34/55 [00:00<00:00, 80.48it/s]\u001b[A\n",
      " 78%|#######8  | 43/55 [00:00<00:00, 81.44it/s]\u001b[A\n",
      " 95%|#########4| 52/55 [00:00<00:00, 82.20it/s]\u001b[A\n",
      " 65%|██████▍   | 406/628 [00:17<00:28,  7.75it/s]A"
     ]
    },
    {
     "name": "stdout",
     "output_type": "stream",
     "text": [
      "{'ade': 0.61386716, 'fde': 1.3512081}\n",
      "\t last loss:0.000612836, eval on validation:['ade: 0.61386716', 'fde: 1.3512081'], (best ade:0.568299 at step 900) \n"
     ]
    },
    {
     "name": "stderr",
     "output_type": "stream",
     "text": [
      "100%|██████████| 628/628 [00:26<00:00, 24.46it/s]\n",
      "  0%|          | 1/628 [00:00<01:11,  8.83it/s]"
     ]
    },
    {
     "name": "stdout",
     "output_type": "stream",
     "text": [
      "('Epoca 9.', 'lr:', 0.0010440127)\n"
     ]
    },
    {
     "name": "stderr",
     "output_type": "stream",
     "text": [
      " 12%|█▏        | 74/628 [00:03<00:21, 25.84it/s]\n",
      "  0%|          | 0/55 [00:00<?, ?it/s]\u001b[A"
     ]
    },
    {
     "name": "stdout",
     "output_type": "stream",
     "text": [
      "\tsaving model 5100...\n",
      "\tdone\n",
      "Evaluating\n"
     ]
    },
    {
     "name": "stderr",
     "output_type": "stream",
     "text": [
      "\n",
      " 16%|#6        | 9/55 [00:00<00:00, 89.90it/s]\u001b[A\n",
      " 29%|##9       | 16/55 [00:00<00:00, 81.78it/s]\u001b[A\n",
      " 44%|####3     | 24/55 [00:00<00:00, 81.01it/s]\u001b[A\n",
      " 62%|######1   | 34/55 [00:00<00:00, 83.75it/s]\u001b[A\n",
      " 80%|########  | 44/55 [00:00<00:00, 85.76it/s]\u001b[A\n",
      " 98%|#########8| 54/55 [00:00<00:00, 87.53it/s]\u001b[A\n",
      " 13%|█▎        | 80/628 [00:04<00:53, 10.23it/s][A"
     ]
    },
    {
     "name": "stdout",
     "output_type": "stream",
     "text": [
      "{'ade': 0.5942473, 'fde': 1.2967424}\n",
      "\t last loss:0.000478733, eval on validation:['ade: 0.5942473', 'fde: 1.2967424'], (best ade:0.568299 at step 900) \n"
     ]
    },
    {
     "name": "stderr",
     "output_type": "stream",
     "text": [
      " 60%|█████▉    | 374/628 [00:16<00:10, 24.52it/s]\n",
      "  0%|          | 0/55 [00:00<?, ?it/s]\u001b[A"
     ]
    },
    {
     "name": "stdout",
     "output_type": "stream",
     "text": [
      "\tsaving model 5400...\n",
      "\tdone\n",
      "Evaluating\n"
     ]
    },
    {
     "name": "stderr",
     "output_type": "stream",
     "text": [
      "\n",
      " 16%|#6        | 9/55 [00:00<00:00, 83.71it/s]\u001b[A\n",
      " 33%|###2      | 18/55 [00:00<00:00, 83.08it/s]\u001b[A\n",
      " 49%|####9     | 27/55 [00:00<00:00, 82.77it/s]\u001b[A\n",
      " 62%|######1   | 34/55 [00:00<00:00, 78.40it/s]\u001b[A\n",
      " 76%|#######6  | 42/55 [00:00<00:00, 78.41it/s]\u001b[A\n",
      " 93%|#########2| 51/55 [00:00<00:00, 79.72it/s]\u001b[A\n",
      "100%|##########| 55/55 [00:00<00:00, 79.02it/s]\u001b[A"
     ]
    },
    {
     "name": "stdout",
     "output_type": "stream",
     "text": [
      "{'ade': 0.56548715, 'fde': 1.216891}\n",
      "\t last loss:0.000452715, eval on validation:['ade: 0.56548715', 'fde: 1.216891'], (best ade:0.568299 at step 900) \n",
      "\t saving best model...\n",
      "\t done.\n"
     ]
    },
    {
     "name": "stderr",
     "output_type": "stream",
     "text": [
      "100%|██████████| 628/628 [00:27<00:00, 22.89it/s]\n",
      "  0%|          | 2/628 [00:00<00:39, 15.79it/s]"
     ]
    },
    {
     "name": "stdout",
     "output_type": "stream",
     "text": [
      "('Epoca 10.', 'lr:', 0.0010440127)\n"
     ]
    },
    {
     "name": "stderr",
     "output_type": "stream",
     "text": [
      "  7%|▋         | 47/628 [00:01<00:22, 26.06it/s]\n",
      "  0%|          | 0/55 [00:00<?, ?it/s]\u001b[A"
     ]
    },
    {
     "name": "stdout",
     "output_type": "stream",
     "text": [
      "\tsaving model 5700...\n",
      "\tdone\n",
      "Evaluating\n"
     ]
    },
    {
     "name": "stderr",
     "output_type": "stream",
     "text": [
      "\n",
      " 16%|#6        | 9/55 [00:00<00:00, 86.25it/s]\u001b[A\n",
      " 33%|###2      | 18/55 [00:00<00:00, 84.99it/s]\u001b[A\n",
      " 49%|####9     | 27/55 [00:00<00:00, 85.57it/s]\u001b[A\n",
      " 67%|######7   | 37/55 [00:00<00:00, 87.26it/s]\u001b[A\n",
      " 85%|########5 | 47/55 [00:00<00:00, 88.77it/s]\u001b[A\n",
      "  8%|▊         | 50/628 [00:02<01:09,  8.31it/s][A"
     ]
    },
    {
     "name": "stdout",
     "output_type": "stream",
     "text": [
      "{'ade': 0.6175733, 'fde': 1.3663075}\n",
      "\t last loss:0.000686885, eval on validation:['ade: 0.6175733', 'fde: 1.3663075'], (best ade:0.56548715 at step 5400) \n"
     ]
    },
    {
     "name": "stderr",
     "output_type": "stream",
     "text": [
      " 55%|█████▌    | 347/628 [00:14<00:11, 24.39it/s]\n",
      "  0%|          | 0/55 [00:00<?, ?it/s]\u001b[A"
     ]
    },
    {
     "name": "stdout",
     "output_type": "stream",
     "text": [
      "\tsaving model 6000...\n",
      "\tdone\n",
      "Evaluating\n"
     ]
    },
    {
     "name": "stderr",
     "output_type": "stream",
     "text": [
      "\n",
      " 16%|#6        | 9/55 [00:00<00:00, 89.97it/s]\u001b[A\n",
      " 33%|###2      | 18/55 [00:00<00:00, 88.41it/s]\u001b[A\n",
      " 49%|####9     | 27/55 [00:00<00:00, 88.15it/s]\u001b[A\n",
      " 65%|######5   | 36/55 [00:00<00:00, 86.96it/s]\u001b[A\n",
      " 82%|########1 | 45/55 [00:00<00:00, 87.32it/s]\u001b[A\n",
      " 98%|#########8| 54/55 [00:00<00:00, 88.11it/s]\u001b[A\n",
      " 56%|█████▌    | 350/628 [00:15<00:34,  8.09it/s]A"
     ]
    },
    {
     "name": "stdout",
     "output_type": "stream",
     "text": [
      "{'ade': 0.5888577, 'fde': 1.2734858}\n",
      "\t last loss:0.000458900, eval on validation:['ade: 0.5888577', 'fde: 1.2734858'], (best ade:0.56548715 at step 5400) \n"
     ]
    },
    {
     "name": "stderr",
     "output_type": "stream",
     "text": [
      "100%|██████████| 628/628 [00:26<00:00, 23.50it/s]\n",
      "  0%|          | 1/628 [00:00<01:22,  7.63it/s]"
     ]
    },
    {
     "name": "stdout",
     "output_type": "stream",
     "text": [
      "('Epoca 11.', 'lr:', 0.0008874108)\n"
     ]
    },
    {
     "name": "stderr",
     "output_type": "stream",
     "text": [
      "  3%|▎         | 19/628 [00:00<00:30, 20.14it/s]\n",
      "  0%|          | 0/55 [00:00<?, ?it/s]\u001b[A"
     ]
    },
    {
     "name": "stdout",
     "output_type": "stream",
     "text": [
      "\tsaving model 6300...\n",
      "\tdone\n",
      "Evaluating\n"
     ]
    },
    {
     "name": "stderr",
     "output_type": "stream",
     "text": [
      "\n",
      " 16%|#6        | 9/55 [00:00<00:00, 86.34it/s]\u001b[A\n",
      " 35%|###4      | 19/55 [00:00<00:00, 87.57it/s]\u001b[A\n",
      " 53%|#####2    | 29/55 [00:00<00:00, 89.06it/s]\u001b[A\n",
      " 71%|#######   | 39/55 [00:00<00:00, 90.17it/s]\u001b[A\n",
      " 85%|########5 | 47/55 [00:00<00:00, 86.26it/s]\u001b[A\n",
      "  4%|▎         | 22/628 [00:01<01:17,  7.80it/s][A"
     ]
    },
    {
     "name": "stdout",
     "output_type": "stream",
     "text": [
      "{'ade': 0.5655423, 'fde': 1.2197185}\n",
      "\t last loss:0.000629945, eval on validation:['ade: 0.5655423', 'fde: 1.2197185'], (best ade:0.56548715 at step 5400) \n"
     ]
    },
    {
     "name": "stderr",
     "output_type": "stream",
     "text": [
      " 51%|█████     | 319/628 [00:13<00:12, 24.48it/s]"
     ]
    },
    {
     "name": "stdout",
     "output_type": "stream",
     "text": [
      "\tsaving model 6600...\n"
     ]
    },
    {
     "name": "stderr",
     "output_type": "stream",
     "text": [
      "\n",
      "  0%|          | 0/55 [00:00<?, ?it/s]\u001b[A\n",
      " 13%|#2        | 7/55 [00:00<00:00, 63.05it/s]\u001b[A"
     ]
    },
    {
     "name": "stdout",
     "output_type": "stream",
     "text": [
      "\tdone\n",
      "Evaluating\n"
     ]
    },
    {
     "name": "stderr",
     "output_type": "stream",
     "text": [
      "\n",
      " 27%|##7       | 15/55 [00:00<00:00, 66.07it/s]\u001b[A\n",
      " 42%|####1     | 23/55 [00:00<00:00, 69.54it/s]\u001b[A\n",
      " 58%|#####8    | 32/55 [00:00<00:00, 72.75it/s]\u001b[A\n",
      " 75%|#######4  | 41/55 [00:00<00:00, 75.19it/s]\u001b[A\n",
      " 91%|######### | 50/55 [00:00<00:00, 77.63it/s]\u001b[A\n",
      " 51%|█████▏    | 322/628 [00:14<00:41,  7.44it/s]A"
     ]
    },
    {
     "name": "stdout",
     "output_type": "stream",
     "text": [
      "{'ade': 0.572772, 'fde': 1.2360097}\n",
      "\t last loss:0.000700786, eval on validation:['ade: 0.572772', 'fde: 1.2360097'], (best ade:0.56548715 at step 5400) \n"
     ]
    },
    {
     "name": "stderr",
     "output_type": "stream",
     "text": [
      " 99%|█████████▊| 619/628 [00:26<00:00, 25.75it/s]\n",
      "  0%|          | 0/55 [00:00<?, ?it/s]\u001b[A"
     ]
    },
    {
     "name": "stdout",
     "output_type": "stream",
     "text": [
      "\tsaving model 6900...\n",
      "\tdone\n",
      "Evaluating\n"
     ]
    },
    {
     "name": "stderr",
     "output_type": "stream",
     "text": [
      "\n",
      " 16%|#6        | 9/55 [00:00<00:00, 89.76it/s]\u001b[A\n",
      " 33%|###2      | 18/55 [00:00<00:00, 87.13it/s]\u001b[A\n",
      " 49%|####9     | 27/55 [00:00<00:00, 87.51it/s]\u001b[A\n",
      " 67%|######7   | 37/55 [00:00<00:00, 88.77it/s]\u001b[A\n",
      " 85%|########5 | 47/55 [00:00<00:00, 89.47it/s]\u001b[A\n",
      " 99%|█████████▉| 622/628 [00:27<00:00,  8.32it/s]A"
     ]
    },
    {
     "name": "stdout",
     "output_type": "stream",
     "text": [
      "{'ade': 0.5753244, 'fde': 1.2599885}\n",
      "\t last loss:0.000443536, eval on validation:['ade: 0.5753244', 'fde: 1.2599885'], (best ade:0.56548715 at step 5400) \n"
     ]
    },
    {
     "name": "stderr",
     "output_type": "stream",
     "text": [
      "100%|██████████| 628/628 [00:27<00:00, 12.66it/s]\n",
      "  0%|          | 3/628 [00:00<00:25, 24.39it/s]"
     ]
    },
    {
     "name": "stdout",
     "output_type": "stream",
     "text": [
      "('Epoca 12.', 'lr:', 0.0008874108)\n"
     ]
    },
    {
     "name": "stderr",
     "output_type": "stream",
     "text": [
      " 46%|████▌     | 290/628 [00:14<00:15, 22.47it/s]\n",
      "  0%|          | 0/55 [00:00<?, ?it/s]\u001b[A"
     ]
    },
    {
     "name": "stdout",
     "output_type": "stream",
     "text": [
      "\tsaving model 7200...\n",
      "\tdone\n",
      "Evaluating\n"
     ]
    },
    {
     "name": "stderr",
     "output_type": "stream",
     "text": [
      "\n",
      " 13%|#2        | 7/55 [00:00<00:00, 61.85it/s]\u001b[A\n",
      " 25%|##5       | 14/55 [00:00<00:00, 63.94it/s]\u001b[A\n",
      " 40%|####      | 22/55 [00:00<00:00, 66.15it/s]\u001b[A\n",
      " 56%|#####6    | 31/55 [00:00<00:00, 71.12it/s]\u001b[A\n",
      " 69%|######9   | 38/55 [00:00<00:00, 69.36it/s]\u001b[A\n",
      " 87%|########7 | 48/55 [00:00<00:00, 74.89it/s]\u001b[A\n",
      " 47%|████▋     | 296/628 [00:15<00:35,  9.31it/s]A"
     ]
    },
    {
     "name": "stdout",
     "output_type": "stream",
     "text": [
      "{'ade': 0.62304157, 'fde': 1.3760184}\n",
      "\t last loss:0.000349444, eval on validation:['ade: 0.62304157', 'fde: 1.3760184'], (best ade:0.56548715 at step 5400) \n"
     ]
    },
    {
     "name": "stderr",
     "output_type": "stream",
     "text": [
      " 94%|█████████▍| 590/628 [00:27<00:01, 26.63it/s]\n",
      "  0%|          | 0/55 [00:00<?, ?it/s]\u001b[A"
     ]
    },
    {
     "name": "stdout",
     "output_type": "stream",
     "text": [
      "\tsaving model 7500...\n",
      "\tdone\n",
      "Evaluating\n"
     ]
    },
    {
     "name": "stderr",
     "output_type": "stream",
     "text": [
      "\n",
      " 18%|#8        | 10/55 [00:00<00:00, 91.22it/s]\u001b[A\n",
      " 36%|###6      | 20/55 [00:00<00:00, 91.64it/s]\u001b[A\n",
      " 55%|#####4    | 30/55 [00:00<00:00, 92.07it/s]\u001b[A\n",
      " 73%|#######2  | 40/55 [00:00<00:00, 92.45it/s]\u001b[A\n",
      " 91%|######### | 50/55 [00:00<00:00, 92.60it/s]\u001b[A\n",
      " 95%|█████████▍| 596/628 [00:28<00:02, 10.71it/s]A"
     ]
    },
    {
     "name": "stdout",
     "output_type": "stream",
     "text": [
      "{'ade': 0.58108807, 'fde': 1.2710757}\n",
      "\t last loss:0.000322921, eval on validation:['ade: 0.58108807', 'fde: 1.2710757'], (best ade:0.56548715 at step 5400) \n"
     ]
    },
    {
     "name": "stderr",
     "output_type": "stream",
     "text": [
      "100%|██████████| 628/628 [00:29<00:00, 21.35it/s]\n",
      "  0%|          | 3/628 [00:00<00:28, 21.70it/s]"
     ]
    },
    {
     "name": "stdout",
     "output_type": "stream",
     "text": [
      "('Epoca 13.', 'lr:', 0.0007542992)\n"
     ]
    },
    {
     "name": "stderr",
     "output_type": "stream",
     "text": [
      " 42%|████▏     | 261/628 [00:10<00:14, 24.96it/s]"
     ]
    },
    {
     "name": "stdout",
     "output_type": "stream",
     "text": [
      "\tsaving model 7800...\n"
     ]
    },
    {
     "name": "stderr",
     "output_type": "stream",
     "text": [
      "\n",
      "  0%|          | 0/55 [00:00<?, ?it/s]\u001b[A\n",
      " 11%|#         | 6/55 [00:00<00:00, 49.05it/s]\u001b[A"
     ]
    },
    {
     "name": "stdout",
     "output_type": "stream",
     "text": [
      "\tdone\n",
      "Evaluating\n"
     ]
    },
    {
     "name": "stderr",
     "output_type": "stream",
     "text": [
      "\n",
      " 18%|#8        | 10/55 [00:00<00:01, 43.61it/s]\u001b[A\n",
      " 27%|##7       | 15/55 [00:00<00:00, 45.14it/s]\u001b[A\n",
      " 38%|###8      | 21/55 [00:00<00:00, 48.17it/s]\u001b[A\n",
      " 51%|#####     | 28/55 [00:00<00:00, 51.92it/s]\u001b[A\n",
      " 67%|######7   | 37/55 [00:00<00:00, 58.76it/s]\u001b[A\n",
      " 84%|########3 | 46/55 [00:00<00:00, 64.37it/s]\u001b[A\n",
      " 43%|████▎     | 267/628 [00:11<00:41,  8.64it/s]A"
     ]
    },
    {
     "name": "stdout",
     "output_type": "stream",
     "text": [
      "{'ade': 0.57118446, 'fde': 1.2380723}\n",
      "\t last loss:0.000600787, eval on validation:['ade: 0.57118446', 'fde: 1.2380723'], (best ade:0.56548715 at step 5400) \n"
     ]
    },
    {
     "name": "stderr",
     "output_type": "stream",
     "text": [
      " 89%|████████▉ | 561/628 [00:22<00:02, 26.37it/s]\n",
      "  0%|          | 0/55 [00:00<?, ?it/s]\u001b[A"
     ]
    },
    {
     "name": "stdout",
     "output_type": "stream",
     "text": [
      "\tsaving model 8100...\n",
      "\tdone\n",
      "Evaluating\n"
     ]
    },
    {
     "name": "stderr",
     "output_type": "stream",
     "text": [
      "\n",
      " 18%|#8        | 10/55 [00:00<00:00, 91.97it/s]\u001b[A\n",
      " 35%|###4      | 19/55 [00:00<00:00, 90.71it/s]\u001b[A\n",
      " 51%|#####     | 28/55 [00:00<00:00, 88.68it/s]\u001b[A\n",
      " 67%|######7   | 37/55 [00:00<00:00, 87.78it/s]\u001b[A\n",
      " 84%|########3 | 46/55 [00:00<00:00, 85.63it/s]\u001b[A\n",
      " 98%|#########8| 54/55 [00:00<00:00, 83.42it/s]\u001b[A\n",
      " 90%|█████████ | 567/628 [00:24<00:05, 10.24it/s]A"
     ]
    },
    {
     "name": "stdout",
     "output_type": "stream",
     "text": [
      "{'ade': 0.5895716, 'fde': 1.2803363}\n",
      "\t last loss:0.000501776, eval on validation:['ade: 0.5895716', 'fde: 1.2803363'], (best ade:0.56548715 at step 5400) \n"
     ]
    },
    {
     "name": "stderr",
     "output_type": "stream",
     "text": [
      "100%|██████████| 628/628 [00:26<00:00, 23.64it/s]\n",
      "  0%|          | 1/628 [00:00<01:06,  9.40it/s]"
     ]
    },
    {
     "name": "stdout",
     "output_type": "stream",
     "text": [
      "('Epoca 14.', 'lr:', 0.0007542992)\n"
     ]
    },
    {
     "name": "stderr",
     "output_type": "stream",
     "text": [
      " 37%|███▋      | 235/628 [00:09<00:15, 26.11it/s]\n",
      "  0%|          | 0/55 [00:00<?, ?it/s]\u001b[A"
     ]
    },
    {
     "name": "stdout",
     "output_type": "stream",
     "text": [
      "\tsaving model 8400...\n",
      "\tdone\n",
      "Evaluating\n"
     ]
    },
    {
     "name": "stderr",
     "output_type": "stream",
     "text": [
      "\n",
      " 18%|#8        | 10/55 [00:00<00:00, 93.67it/s]\u001b[A\n",
      " 36%|###6      | 20/55 [00:00<00:00, 93.41it/s]\u001b[A\n",
      " 55%|#####4    | 30/55 [00:00<00:00, 93.31it/s]\u001b[A\n",
      " 73%|#######2  | 40/55 [00:00<00:00, 93.80it/s]\u001b[A\n",
      " 91%|######### | 50/55 [00:00<00:00, 92.99it/s]\u001b[A\n",
      "100%|##########| 55/55 [00:00<00:00, 89.98it/s]\u001b[A"
     ]
    },
    {
     "name": "stdout",
     "output_type": "stream",
     "text": [
      "{'ade': 0.55569524, 'fde': 1.1981894}\n",
      "\t last loss:0.000967907, eval on validation:['ade: 0.55569524', 'fde: 1.1981894'], (best ade:0.56548715 at step 5400) \n",
      "\t saving best model...\n",
      "\t done.\n"
     ]
    },
    {
     "name": "stderr",
     "output_type": "stream",
     "text": [
      " 85%|████████▌ | 535/628 [00:22<00:03, 24.86it/s]\n",
      "  0%|          | 0/55 [00:00<?, ?it/s]"
     ]
    },
    {
     "name": "stdout",
     "output_type": "stream",
     "text": [
      "\tsaving model 8700...\n",
      "\tdone\n",
      "Evaluating\n"
     ]
    },
    {
     "name": "stderr",
     "output_type": "stream",
     "text": [
      "\u001b[A\n",
      " 16%|#6        | 9/55 [00:00<00:00, 86.21it/s]\u001b[A\n",
      " 33%|###2      | 18/55 [00:00<00:00, 86.04it/s]\u001b[A\n",
      " 49%|####9     | 27/55 [00:00<00:00, 84.90it/s]\u001b[A\n",
      " 65%|######5   | 36/55 [00:00<00:00, 84.86it/s]\u001b[A\n",
      " 82%|########1 | 45/55 [00:00<00:00, 84.44it/s]\u001b[A\n",
      " 98%|#########8| 54/55 [00:00<00:00, 84.63it/s]\u001b[A\n",
      " 86%|████████▌ | 538/628 [00:23<00:11,  7.85it/s]A"
     ]
    },
    {
     "name": "stdout",
     "output_type": "stream",
     "text": [
      "{'ade': 0.571092, 'fde': 1.2319334}\n",
      "\t last loss:0.000803348, eval on validation:['ade: 0.571092', 'fde: 1.2319334'], (best ade:0.55569524 at step 8400) \n"
     ]
    },
    {
     "name": "stderr",
     "output_type": "stream",
     "text": [
      "100%|██████████| 628/628 [00:26<00:00, 23.48it/s]\n",
      "  0%|          | 1/628 [00:00<01:12,  8.69it/s]"
     ]
    },
    {
     "name": "stdout",
     "output_type": "stream",
     "text": [
      "('Epoca 15.', 'lr:', 0.0006411543)\n"
     ]
    },
    {
     "name": "stderr",
     "output_type": "stream",
     "text": [
      " 33%|███▎      | 205/628 [00:08<00:15, 26.73it/s]\n",
      "  0%|          | 0/55 [00:00<?, ?it/s]\u001b[A"
     ]
    },
    {
     "name": "stdout",
     "output_type": "stream",
     "text": [
      "\tsaving model 9000...\n",
      "\tdone\n",
      "Evaluating\n"
     ]
    },
    {
     "name": "stderr",
     "output_type": "stream",
     "text": [
      "\n",
      " 16%|#6        | 9/55 [00:00<00:00, 85.85it/s]\u001b[A\n",
      " 33%|###2      | 18/55 [00:00<00:00, 85.46it/s]\u001b[A\n",
      " 51%|#####     | 28/55 [00:00<00:00, 87.44it/s]\u001b[A\n",
      " 69%|######9   | 38/55 [00:00<00:00, 89.42it/s]\u001b[A\n",
      " 87%|########7 | 48/55 [00:00<00:00, 90.24it/s]\u001b[A\n",
      " 34%|███▎      | 211/628 [00:09<00:39, 10.66it/s]A"
     ]
    },
    {
     "name": "stdout",
     "output_type": "stream",
     "text": [
      "{'ade': 0.5851475, 'fde': 1.2712991}\n",
      "\t last loss:0.000642851, eval on validation:['ade: 0.5851475', 'fde: 1.2712991'], (best ade:0.55569524 at step 8400) \n"
     ]
    },
    {
     "name": "stderr",
     "output_type": "stream",
     "text": [
      " 80%|████████  | 505/628 [00:20<00:05, 24.02it/s]\n",
      "  0%|          | 0/55 [00:00<?, ?it/s]\u001b[A"
     ]
    },
    {
     "name": "stdout",
     "output_type": "stream",
     "text": [
      "\tsaving model 9300...\n",
      "\tdone\n",
      "Evaluating\n"
     ]
    },
    {
     "name": "stderr",
     "output_type": "stream",
     "text": [
      "\n",
      " 16%|#6        | 9/55 [00:00<00:00, 87.70it/s]\u001b[A\n",
      " 33%|###2      | 18/55 [00:00<00:00, 86.85it/s]\u001b[A\n",
      " 49%|####9     | 27/55 [00:00<00:00, 86.10it/s]\u001b[A\n",
      " 65%|######5   | 36/55 [00:00<00:00, 86.05it/s]\u001b[A\n",
      " 80%|########  | 44/55 [00:00<00:00, 83.83it/s]\u001b[A\n",
      " 95%|#########4| 52/55 [00:00<00:00, 82.30it/s]\u001b[A\n",
      " 81%|████████▏ | 511/628 [00:21<00:11,  9.86it/s]A"
     ]
    },
    {
     "name": "stdout",
     "output_type": "stream",
     "text": [
      "{'ade': 0.5757394, 'fde': 1.2405357}\n",
      "\t last loss:0.000330353, eval on validation:['ade: 0.5757394', 'fde: 1.2405357'], (best ade:0.55569524 at step 8400) \n"
     ]
    },
    {
     "name": "stderr",
     "output_type": "stream",
     "text": [
      "100%|██████████| 628/628 [00:26<00:00, 26.31it/s]\n",
      "  0%|          | 2/628 [00:00<00:43, 14.48it/s]"
     ]
    },
    {
     "name": "stdout",
     "output_type": "stream",
     "text": [
      "('Epoca 16.', 'lr:', 0.0006411543)\n"
     ]
    },
    {
     "name": "stderr",
     "output_type": "stream",
     "text": [
      " 29%|██▊       | 179/628 [00:07<00:16, 26.62it/s]"
     ]
    },
    {
     "name": "stdout",
     "output_type": "stream",
     "text": [
      "\tsaving model 9600...\n"
     ]
    },
    {
     "name": "stderr",
     "output_type": "stream",
     "text": [
      "\n",
      "  0%|          | 0/55 [00:00<?, ?it/s]\u001b[A\n",
      " 13%|#2        | 7/55 [00:00<00:00, 63.90it/s]\u001b[A"
     ]
    },
    {
     "name": "stdout",
     "output_type": "stream",
     "text": [
      "\tdone\n",
      "Evaluating\n"
     ]
    },
    {
     "name": "stderr",
     "output_type": "stream",
     "text": [
      "\n",
      " 31%|###       | 17/55 [00:00<00:00, 70.18it/s]\u001b[A\n",
      " 49%|####9     | 27/55 [00:00<00:00, 73.51it/s]\u001b[A\n",
      " 65%|######5   | 36/55 [00:00<00:00, 74.06it/s]\u001b[A\n",
      " 82%|########1 | 45/55 [00:00<00:00, 77.37it/s]\u001b[A\n",
      " 29%|██▉       | 182/628 [00:08<00:58,  7.62it/s]A"
     ]
    },
    {
     "name": "stdout",
     "output_type": "stream",
     "text": [
      "{'ade': 0.58744204, 'fde': 1.2746334}\n",
      "\t last loss:0.000722879, eval on validation:['ade: 0.58744204', 'fde: 1.2746334'], (best ade:0.55569524 at step 8400) \n"
     ]
    },
    {
     "name": "stderr",
     "output_type": "stream",
     "text": [
      " 76%|███████▌  | 477/628 [00:22<00:07, 20.90it/s]\n"
     ]
    },
    {
     "name": "stdout",
     "output_type": "stream",
     "text": [
      "\tsaving model 9900...\n",
      "\tdone\n",
      "Evaluating\n"
     ]
    },
    {
     "name": "stderr",
     "output_type": "stream",
     "text": [
      "  0%|          | 0/55 [00:00<?, ?it/s]\u001b[A\n",
      " 16%|#6        | 9/55 [00:00<00:00, 80.89it/s]\u001b[A\n",
      " 31%|###       | 17/55 [00:00<00:00, 78.81it/s]\u001b[A\n",
      " 45%|####5     | 25/55 [00:00<00:00, 79.03it/s]\u001b[A\n",
      " 60%|######    | 33/55 [00:00<00:00, 78.17it/s]\u001b[A\n",
      " 75%|#######4  | 41/55 [00:00<00:00, 76.45it/s]\u001b[A\n",
      " 89%|########9 | 49/55 [00:00<00:00, 75.92it/s]\u001b[A\n",
      "100%|##########| 55/55 [00:00<00:00, 76.40it/s]\u001b[A"
     ]
    },
    {
     "name": "stdout",
     "output_type": "stream",
     "text": [
      "{'ade': 0.5546908, 'fde': 1.1883187}\n",
      "\t last loss:0.000571977, eval on validation:['ade: 0.5546908', 'fde: 1.1883187'], (best ade:0.55569524 at step 8400) \n",
      "\t saving best model...\n",
      "\t done.\n"
     ]
    },
    {
     "name": "stderr",
     "output_type": "stream",
     "text": [
      "100%|██████████| 628/628 [00:30<00:00, 24.52it/s]\n",
      "  0%|          | 1/628 [00:00<01:24,  7.41it/s]"
     ]
    },
    {
     "name": "stdout",
     "output_type": "stream",
     "text": [
      "('Epoca 17.', 'lr:', 0.0005449812)\n"
     ]
    },
    {
     "name": "stderr",
     "output_type": "stream",
     "text": [
      " 24%|██▍       | 150/628 [00:06<00:20, 23.85it/s]"
     ]
    },
    {
     "name": "stdout",
     "output_type": "stream",
     "text": [
      "\tsaving model 10200...\n"
     ]
    },
    {
     "name": "stderr",
     "output_type": "stream",
     "text": [
      "\n",
      "  0%|          | 0/55 [00:00<?, ?it/s]\u001b[A\n",
      " 16%|#6        | 9/55 [00:00<00:00, 84.09it/s]\u001b[A\n",
      " 33%|###2      | 18/55 [00:00<00:00, 85.68it/s]\u001b[A\n",
      " 47%|####7     | 26/55 [00:00<00:00, 82.32it/s]\u001b[A\n",
      " 62%|######1   | 34/55 [00:00<00:00, 81.52it/s]\u001b[A\n",
      " 78%|#######8  | 43/55 [00:00<00:00, 81.08it/s]\u001b[A\n",
      " 95%|#########4| 52/55 [00:00<00:00, 83.27it/s]\u001b[A\n",
      " 24%|██▍       | 153/628 [00:08<01:02,  7.55it/s]A"
     ]
    },
    {
     "name": "stdout",
     "output_type": "stream",
     "text": [
      "\tdone\n",
      "Evaluating\n",
      "{'ade': 0.5817257, 'fde': 1.2730988}\n",
      "\t last loss:0.000515039, eval on validation:['ade: 0.5817257', 'fde: 1.2730988'], (best ade:0.5546908 at step 9900) \n"
     ]
    },
    {
     "name": "stderr",
     "output_type": "stream",
     "text": [
      " 72%|███████▏  | 450/628 [00:23<00:11, 15.27it/s]"
     ]
    },
    {
     "name": "stdout",
     "output_type": "stream",
     "text": [
      "\tsaving model 10500...\n"
     ]
    },
    {
     "name": "stderr",
     "output_type": "stream",
     "text": [
      "\n",
      "  0%|          | 0/55 [00:00<?, ?it/s]\u001b[A\n",
      " 18%|#8        | 10/55 [00:00<00:00, 95.06it/s]\u001b[A"
     ]
    },
    {
     "name": "stdout",
     "output_type": "stream",
     "text": [
      "\tdone\n",
      "Evaluating\n"
     ]
    },
    {
     "name": "stderr",
     "output_type": "stream",
     "text": [
      "\n",
      " 35%|###4      | 19/55 [00:00<00:00, 92.85it/s]\u001b[A\n",
      " 47%|####7     | 26/55 [00:00<00:00, 82.44it/s]\u001b[A\n",
      " 58%|#####8    | 32/55 [00:00<00:00, 73.78it/s]\u001b[A\n",
      " 71%|#######   | 39/55 [00:00<00:00, 70.58it/s]\u001b[A\n",
      " 85%|########5 | 47/55 [00:00<00:00, 71.93it/s]\u001b[A\n",
      "100%|##########| 55/55 [00:00<00:00, 73.27it/s]\u001b[A"
     ]
    },
    {
     "name": "stdout",
     "output_type": "stream",
     "text": [
      "{'ade': 0.5535228, 'fde': 1.1913257}\n",
      "\t last loss:0.000621536, eval on validation:['ade: 0.5535228', 'fde: 1.1913257'], (best ade:0.5546908 at step 9900) \n",
      "\t saving best model...\n"
     ]
    },
    {
     "name": "stderr",
     "output_type": "stream",
     "text": [
      "100%|██████████| 628/628 [00:34<00:00, 18.03it/s]\n",
      "  0%|          | 1/628 [00:00<01:08,  9.13it/s]"
     ]
    },
    {
     "name": "stdout",
     "output_type": "stream",
     "text": [
      "\t done.\n",
      "('Epoca 18.', 'lr:', 0.0005449812)\n"
     ]
    },
    {
     "name": "stderr",
     "output_type": "stream",
     "text": [
      " 19%|█▉        | 121/628 [00:06<00:32, 15.38it/s]\n",
      "  0%|          | 0/55 [00:00<?, ?it/s]\u001b[A"
     ]
    },
    {
     "name": "stdout",
     "output_type": "stream",
     "text": [
      "\tsaving model 10800...\n",
      "\tdone\n",
      "Evaluating\n"
     ]
    },
    {
     "name": "stderr",
     "output_type": "stream",
     "text": [
      "\n",
      " 16%|#6        | 9/55 [00:00<00:00, 82.46it/s]\u001b[A\n",
      " 33%|###2      | 18/55 [00:00<00:00, 83.90it/s]\u001b[A\n",
      " 51%|#####     | 28/55 [00:00<00:00, 86.38it/s]\u001b[A\n",
      " 69%|######9   | 38/55 [00:00<00:00, 88.73it/s]\u001b[A\n",
      " 87%|########7 | 48/55 [00:00<00:00, 90.35it/s]\u001b[A\n",
      " 20%|██        | 127/628 [00:07<00:53,  9.28it/s]A"
     ]
    },
    {
     "name": "stdout",
     "output_type": "stream",
     "text": [
      "{'ade': 0.57324123, 'fde': 1.2465302}\n",
      "\t last loss:0.000535611, eval on validation:['ade: 0.57324123', 'fde: 1.2465302'], (best ade:0.5535228 at step 10500) \n"
     ]
    },
    {
     "name": "stderr",
     "output_type": "stream",
     "text": [
      " 67%|██████▋   | 422/628 [00:21<00:07, 26.30it/s]\n",
      "  0%|          | 0/55 [00:00<?, ?it/s]\u001b[A"
     ]
    },
    {
     "name": "stdout",
     "output_type": "stream",
     "text": [
      "\tsaving model 11100...\n",
      "\tdone\n",
      "Evaluating\n"
     ]
    },
    {
     "name": "stderr",
     "output_type": "stream",
     "text": [
      "\n",
      " 18%|#8        | 10/55 [00:00<00:00, 97.06it/s]\u001b[A\n",
      " 36%|###6      | 20/55 [00:00<00:00, 96.43it/s]\u001b[A\n",
      " 53%|#####2    | 29/55 [00:00<00:00, 93.97it/s]\u001b[A\n",
      " 71%|#######   | 39/55 [00:00<00:00, 93.82it/s]\u001b[A\n",
      " 89%|########9 | 49/55 [00:00<00:00, 92.96it/s]\u001b[A\n",
      " 68%|██████▊   | 425/628 [00:22<00:23,  8.57it/s]A"
     ]
    },
    {
     "name": "stdout",
     "output_type": "stream",
     "text": [
      "{'ade': 0.56903183, 'fde': 1.232308}\n",
      "\t last loss:0.000449542, eval on validation:['ade: 0.56903183', 'fde: 1.232308'], (best ade:0.5535228 at step 10500) \n"
     ]
    },
    {
     "name": "stderr",
     "output_type": "stream",
     "text": [
      "100%|██████████| 628/628 [00:35<00:00, 18.23it/s]\n",
      "  0%|          | 2/628 [00:00<00:32, 19.56it/s]"
     ]
    },
    {
     "name": "stdout",
     "output_type": "stream",
     "text": [
      "('Epoca 19.', 'lr:', 0.00046323403)\n"
     ]
    },
    {
     "name": "stderr",
     "output_type": "stream",
     "text": [
      " 15%|█▌        | 95/628 [00:06<00:34, 15.61it/s]"
     ]
    },
    {
     "name": "stdout",
     "output_type": "stream",
     "text": [
      "\tsaving model 11400...\n"
     ]
    },
    {
     "name": "stderr",
     "output_type": "stream",
     "text": [
      "\n",
      "  0%|          | 0/55 [00:00<?, ?it/s]\u001b[A\n",
      " 13%|#2        | 7/55 [00:00<00:00, 57.46it/s]\u001b[A"
     ]
    },
    {
     "name": "stdout",
     "output_type": "stream",
     "text": [
      "\tdone\n",
      "Evaluating\n"
     ]
    },
    {
     "name": "stderr",
     "output_type": "stream",
     "text": [
      "\n",
      " 25%|##5       | 14/55 [00:00<00:00, 58.80it/s]\u001b[A\n",
      " 38%|###8      | 21/55 [00:00<00:00, 61.28it/s]\u001b[A\n",
      " 49%|####9     | 27/55 [00:00<00:00, 59.49it/s]\u001b[A\n",
      " 62%|######1   | 34/55 [00:00<00:00, 61.91it/s]\u001b[A\n",
      " 76%|#######6  | 42/55 [00:00<00:00, 65.65it/s]\u001b[A\n",
      " 93%|#########2| 51/55 [00:00<00:00, 69.83it/s]\u001b[A\n",
      " 15%|█▌        | 97/628 [00:07<01:55,  4.60it/s][A"
     ]
    },
    {
     "name": "stdout",
     "output_type": "stream",
     "text": [
      "{'ade': 0.56392694, 'fde': 1.2204481}\n",
      "\t last loss:0.000483265, eval on validation:['ade: 0.56392694', 'fde: 1.2204481'], (best ade:0.5535228 at step 10500) \n"
     ]
    },
    {
     "name": "stderr",
     "output_type": "stream",
     "text": [
      " 63%|██████▎   | 395/628 [00:24<00:09, 24.48it/s]"
     ]
    },
    {
     "name": "stdout",
     "output_type": "stream",
     "text": [
      "\tsaving model 11700...\n"
     ]
    },
    {
     "name": "stderr",
     "output_type": "stream",
     "text": [
      "\n",
      "  0%|          | 0/55 [00:00<?, ?it/s]\u001b[A\n",
      " 16%|#6        | 9/55 [00:00<00:00, 87.47it/s]\u001b[A\n",
      " 33%|###2      | 18/55 [00:00<00:00, 85.60it/s]\u001b[A\n",
      " 49%|####9     | 27/55 [00:00<00:00, 85.95it/s]\u001b[A\n",
      " 67%|######7   | 37/55 [00:00<00:00, 87.47it/s]\u001b[A\n",
      " 85%|########5 | 47/55 [00:00<00:00, 89.64it/s]\u001b[A\n",
      " 63%|██████▎   | 398/628 [00:25<00:29,  7.81it/s]A"
     ]
    },
    {
     "name": "stdout",
     "output_type": "stream",
     "text": [
      "\tdone\n",
      "Evaluating\n",
      "{'ade': 0.56600887, 'fde': 1.2290719}\n",
      "\t last loss:0.000352252, eval on validation:['ade: 0.56600887', 'fde: 1.2290719'], (best ade:0.5535228 at step 10500) \n"
     ]
    },
    {
     "name": "stderr",
     "output_type": "stream",
     "text": [
      "100%|██████████| 628/628 [00:35<00:00, 17.70it/s]\n",
      "  0%|          | 3/628 [00:00<00:24, 25.73it/s]"
     ]
    },
    {
     "name": "stdout",
     "output_type": "stream",
     "text": [
      "('Epoca 20.', 'lr:', 0.00046323403)\n"
     ]
    },
    {
     "name": "stderr",
     "output_type": "stream",
     "text": [
      " 11%|█         | 66/628 [00:02<00:21, 26.40it/s]\n",
      "  0%|          | 0/55 [00:00<?, ?it/s]\u001b[A"
     ]
    },
    {
     "name": "stdout",
     "output_type": "stream",
     "text": [
      "\tsaving model 12000...\n",
      "\tdone\n",
      "Evaluating\n"
     ]
    },
    {
     "name": "stderr",
     "output_type": "stream",
     "text": [
      "\n",
      " 18%|#8        | 10/55 [00:00<00:00, 97.71it/s]\u001b[A\n",
      " 36%|###6      | 20/55 [00:00<00:00, 96.77it/s]\u001b[A\n",
      " 55%|#####4    | 30/55 [00:00<00:00, 96.01it/s]\u001b[A\n",
      " 71%|#######   | 39/55 [00:00<00:00, 93.68it/s]\u001b[A\n",
      " 87%|########7 | 48/55 [00:00<00:00, 92.42it/s]\u001b[A\n",
      " 11%|█▏        | 72/628 [00:03<00:52, 10.67it/s][A"
     ]
    },
    {
     "name": "stdout",
     "output_type": "stream",
     "text": [
      "{'ade': 0.55708545, 'fde': 1.2045029}\n",
      "\t last loss:0.000395831, eval on validation:['ade: 0.55708545', 'fde: 1.2045029'], (best ade:0.5535228 at step 10500) \n"
     ]
    },
    {
     "name": "stderr",
     "output_type": "stream",
     "text": [
      " 58%|█████▊    | 366/628 [00:15<00:11, 23.30it/s]\n",
      "  0%|          | 0/55 [00:00<?, ?it/s]\u001b[A"
     ]
    },
    {
     "name": "stdout",
     "output_type": "stream",
     "text": [
      "\tsaving model 12300...\n",
      "\tdone\n",
      "Evaluating\n"
     ]
    },
    {
     "name": "stderr",
     "output_type": "stream",
     "text": [
      "\n",
      " 18%|#8        | 10/55 [00:00<00:00, 94.62it/s]\u001b[A\n",
      " 36%|###6      | 20/55 [00:00<00:00, 94.94it/s]\u001b[A\n",
      " 55%|#####4    | 30/55 [00:00<00:00, 95.41it/s]\u001b[A\n",
      " 73%|#######2  | 40/55 [00:00<00:00, 95.46it/s]\u001b[A\n",
      " 91%|######### | 50/55 [00:00<00:00, 95.52it/s]\u001b[A\n",
      " 59%|█████▉    | 372/628 [00:16<00:24, 10.44it/s]A"
     ]
    },
    {
     "name": "stdout",
     "output_type": "stream",
     "text": [
      "{'ade': 0.5630547, 'fde': 1.2200336}\n",
      "\t last loss:0.000492551, eval on validation:['ade: 0.5630547', 'fde: 1.2200336'], (best ade:0.5535228 at step 10500) \n"
     ]
    },
    {
     "name": "stderr",
     "output_type": "stream",
     "text": [
      "100%|██████████| 628/628 [00:27<00:00, 22.44it/s]\n",
      "  0%|          | 1/628 [00:00<01:08,  9.10it/s]"
     ]
    },
    {
     "name": "stdout",
     "output_type": "stream",
     "text": [
      "('Epoca 21.', 'lr:', 0.00039374892)\n"
     ]
    },
    {
     "name": "stderr",
     "output_type": "stream",
     "text": [
      "  6%|▌         | 37/628 [00:01<00:25, 23.03it/s]"
     ]
    },
    {
     "name": "stdout",
     "output_type": "stream",
     "text": [
      "\tsaving model 12600...\n"
     ]
    },
    {
     "name": "stderr",
     "output_type": "stream",
     "text": [
      "\n",
      "  0%|          | 0/55 [00:00<?, ?it/s]\u001b[A\n",
      "  9%|9         | 5/55 [00:00<00:01, 47.70it/s]\u001b[A"
     ]
    },
    {
     "name": "stdout",
     "output_type": "stream",
     "text": [
      "\tdone\n",
      "Evaluating\n"
     ]
    },
    {
     "name": "stderr",
     "output_type": "stream",
     "text": [
      "\n",
      " 20%|##        | 11/55 [00:00<00:00, 49.88it/s]\u001b[A\n",
      " 33%|###2      | 18/55 [00:00<00:00, 53.63it/s]\u001b[A\n",
      " 47%|####7     | 26/55 [00:00<00:00, 58.80it/s]\u001b[A\n",
      " 60%|######    | 33/55 [00:00<00:00, 60.04it/s]\u001b[A\n",
      " 75%|#######4  | 41/55 [00:00<00:00, 64.33it/s]\u001b[A\n",
      " 87%|########7 | 48/55 [00:00<00:00, 62.18it/s]\u001b[A\n",
      "  7%|▋         | 42/628 [00:02<01:12,  8.07it/s][A"
     ]
    },
    {
     "name": "stdout",
     "output_type": "stream",
     "text": [
      "{'ade': 0.56664556, 'fde': 1.2339303}\n",
      "\t last loss:0.000355657, eval on validation:['ade: 0.56664556', 'fde: 1.2339303'], (best ade:0.5535228 at step 10500) \n"
     ]
    },
    {
     "name": "stderr",
     "output_type": "stream",
     "text": [
      " 54%|█████▍    | 339/628 [00:17<00:13, 21.40it/s]\n",
      "  0%|          | 0/55 [00:00<?, ?it/s]\u001b[A"
     ]
    },
    {
     "name": "stdout",
     "output_type": "stream",
     "text": [
      "\tsaving model 12900...\n",
      "\tdone\n",
      "Evaluating\n"
     ]
    },
    {
     "name": "stderr",
     "output_type": "stream",
     "text": [
      "\n",
      " 16%|#6        | 9/55 [00:00<00:00, 83.99it/s]\u001b[A\n",
      " 29%|##9       | 16/55 [00:00<00:00, 78.45it/s]\u001b[A\n",
      " 44%|####3     | 24/55 [00:00<00:00, 76.90it/s]\u001b[A\n",
      " 53%|#####2    | 29/55 [00:00<00:00, 63.55it/s]\u001b[A\n",
      " 65%|######5   | 36/55 [00:00<00:00, 63.69it/s]\u001b[A\n",
      " 80%|########  | 44/55 [00:00<00:00, 65.16it/s]\u001b[A\n",
      " 91%|######### | 50/55 [00:00<00:00, 60.29it/s]\u001b[A\n",
      " 54%|█████▍    | 342/628 [00:18<00:43,  6.60it/s]A"
     ]
    },
    {
     "name": "stdout",
     "output_type": "stream",
     "text": [
      "{'ade': 0.56688476, 'fde': 1.2289193}\n",
      "\t last loss:0.000239731, eval on validation:['ade: 0.56688476', 'fde: 1.2289193'], (best ade:0.5535228 at step 10500) \n"
     ]
    },
    {
     "name": "stderr",
     "output_type": "stream",
     "text": [
      "100%|██████████| 628/628 [00:33<00:00, 18.82it/s]\n",
      "  0%|          | 1/628 [00:00<01:06,  9.44it/s]"
     ]
    },
    {
     "name": "stdout",
     "output_type": "stream",
     "text": [
      "('Epoca 22.', 'lr:', 0.00039374892)\n"
     ]
    },
    {
     "name": "stderr",
     "output_type": "stream",
     "text": [
      "  2%|▏         | 10/628 [00:00<00:38, 15.88it/s]\n",
      "  0%|          | 0/55 [00:00<?, ?it/s]\u001b[A"
     ]
    },
    {
     "name": "stdout",
     "output_type": "stream",
     "text": [
      "\tsaving model 13200...\n",
      "\tdone\n",
      "Evaluating\n"
     ]
    },
    {
     "name": "stderr",
     "output_type": "stream",
     "text": [
      "\n",
      " 15%|#4        | 8/55 [00:00<00:00, 76.81it/s]\u001b[A\n",
      " 31%|###       | 17/55 [00:00<00:00, 79.12it/s]\u001b[A\n",
      " 47%|####7     | 26/55 [00:00<00:00, 81.11it/s]\u001b[A\n",
      " 64%|######3   | 35/55 [00:00<00:00, 83.01it/s]\u001b[A\n",
      " 80%|########  | 44/55 [00:00<00:00, 84.00it/s]\u001b[A\n",
      " 96%|#########6| 53/55 [00:00<00:00, 84.97it/s]\u001b[A\n",
      "  2%|▏         | 15/628 [00:01<01:26,  7.10it/s][A"
     ]
    },
    {
     "name": "stdout",
     "output_type": "stream",
     "text": [
      "{'ade': 0.5580033, 'fde': 1.2050945}\n",
      "\t last loss:0.000403572, eval on validation:['ade: 0.5580033', 'fde: 1.2050945'], (best ade:0.5535228 at step 10500) \n"
     ]
    },
    {
     "name": "stderr",
     "output_type": "stream",
     "text": [
      " 49%|████▉     | 309/628 [00:16<00:14, 21.43it/s]\n",
      "  0%|          | 0/55 [00:00<?, ?it/s]\u001b[A"
     ]
    },
    {
     "name": "stdout",
     "output_type": "stream",
     "text": [
      "\tsaving model 13500...\n",
      "\tdone\n",
      "Evaluating\n"
     ]
    },
    {
     "name": "stderr",
     "output_type": "stream",
     "text": [
      "\n",
      " 16%|#6        | 9/55 [00:00<00:00, 87.16it/s]\u001b[A\n",
      " 33%|###2      | 18/55 [00:00<00:00, 86.42it/s]\u001b[A\n",
      " 49%|####9     | 27/55 [00:00<00:00, 86.65it/s]\u001b[A\n",
      " 65%|######5   | 36/55 [00:00<00:00, 86.93it/s]\u001b[A\n",
      " 82%|########1 | 45/55 [00:00<00:00, 86.75it/s]\u001b[A\n",
      " 98%|#########8| 54/55 [00:00<00:00, 86.83it/s]\u001b[A\n",
      " 50%|█████     | 315/628 [00:17<00:32,  9.76it/s]A"
     ]
    },
    {
     "name": "stdout",
     "output_type": "stream",
     "text": [
      "{'ade': 0.56116074, 'fde': 1.2149491}\n",
      "\t last loss:0.000632218, eval on validation:['ade: 0.56116074', 'fde: 1.2149491'], (best ade:0.5535228 at step 10500) \n"
     ]
    },
    {
     "name": "stderr",
     "output_type": "stream",
     "text": [
      " 97%|█████████▋| 609/628 [00:31<00:00, 25.10it/s]\n",
      "  0%|          | 0/55 [00:00<?, ?it/s]\u001b[A"
     ]
    },
    {
     "name": "stdout",
     "output_type": "stream",
     "text": [
      "\tsaving model 13800...\n",
      "\tdone\n",
      "Evaluating\n"
     ]
    },
    {
     "name": "stderr",
     "output_type": "stream",
     "text": [
      "\n",
      " 16%|#6        | 9/55 [00:00<00:00, 89.36it/s]\u001b[A\n",
      " 33%|###2      | 18/55 [00:00<00:00, 88.07it/s]\u001b[A\n",
      " 49%|####9     | 27/55 [00:00<00:00, 87.13it/s]\u001b[A\n",
      " 64%|######3   | 35/55 [00:00<00:00, 84.06it/s]\u001b[A\n",
      " 80%|########  | 44/55 [00:00<00:00, 83.54it/s]\u001b[A\n",
      " 95%|#########4| 52/55 [00:00<00:00, 81.90it/s]\u001b[A\n",
      " 98%|█████████▊| 615/628 [00:32<00:01,  9.79it/s]A"
     ]
    },
    {
     "name": "stdout",
     "output_type": "stream",
     "text": [
      "{'ade': 0.5546917, 'fde': 1.1936914}\n",
      "\t last loss:0.000364319, eval on validation:['ade: 0.5546917', 'fde: 1.1936914'], (best ade:0.5535228 at step 10500) \n"
     ]
    },
    {
     "name": "stderr",
     "output_type": "stream",
     "text": [
      "100%|██████████| 628/628 [00:32<00:00, 19.12it/s]\n",
      "  0%|          | 3/628 [00:00<00:26, 23.47it/s]"
     ]
    },
    {
     "name": "stdout",
     "output_type": "stream",
     "text": [
      "('Epoca 23.', 'lr:', 0.0003346866)\n"
     ]
    },
    {
     "name": "stderr",
     "output_type": "stream",
     "text": [
      " 45%|████▍     | 282/628 [00:14<00:15, 22.01it/s]\n",
      "  0%|          | 0/55 [00:00<?, ?it/s]\u001b[A"
     ]
    },
    {
     "name": "stdout",
     "output_type": "stream",
     "text": [
      "\tsaving model 14100...\n",
      "\tdone\n",
      "Evaluating\n"
     ]
    },
    {
     "name": "stderr",
     "output_type": "stream",
     "text": [
      "\n",
      " 16%|#6        | 9/55 [00:00<00:00, 87.28it/s]\u001b[A\n",
      " 33%|###2      | 18/55 [00:00<00:00, 86.88it/s]\u001b[A\n",
      " 47%|####7     | 26/55 [00:00<00:00, 83.65it/s]\u001b[A\n",
      " 64%|######3   | 35/55 [00:00<00:00, 83.60it/s]\u001b[A\n",
      " 76%|#######6  | 42/55 [00:00<00:00, 75.94it/s]\u001b[A\n",
      " 91%|######### | 50/55 [00:00<00:00, 75.30it/s]\u001b[A\n",
      " 46%|████▌     | 288/628 [00:15<00:36,  9.35it/s]A"
     ]
    },
    {
     "name": "stdout",
     "output_type": "stream",
     "text": [
      "{'ade': 0.56116575, 'fde': 1.2105967}\n",
      "\t last loss:0.000278116, eval on validation:['ade: 0.56116575', 'fde: 1.2105967'], (best ade:0.5535228 at step 10500) \n"
     ]
    },
    {
     "name": "stderr",
     "output_type": "stream",
     "text": [
      " 93%|█████████▎| 583/628 [00:29<00:02, 21.52it/s]\n",
      "  0%|          | 0/55 [00:00<?, ?it/s]\u001b[A"
     ]
    },
    {
     "name": "stdout",
     "output_type": "stream",
     "text": [
      "\tsaving model 14400...\n",
      "\tdone\n",
      "Evaluating\n"
     ]
    },
    {
     "name": "stderr",
     "output_type": "stream",
     "text": [
      "\n",
      " 15%|#4        | 8/55 [00:00<00:00, 76.58it/s]\u001b[A\n",
      " 31%|###       | 17/55 [00:00<00:00, 79.03it/s]\u001b[A\n",
      " 47%|####7     | 26/55 [00:00<00:00, 81.38it/s]\u001b[A\n",
      " 64%|######3   | 35/55 [00:00<00:00, 82.88it/s]\u001b[A\n",
      " 80%|########  | 44/55 [00:00<00:00, 83.31it/s]\u001b[A\n",
      " 96%|#########6| 53/55 [00:00<00:00, 84.42it/s]\u001b[A\n",
      " 93%|█████████▎| 586/628 [00:30<00:05,  7.68it/s]A"
     ]
    },
    {
     "name": "stdout",
     "output_type": "stream",
     "text": [
      "{'ade': 0.55723524, 'fde': 1.2083853}\n",
      "\t last loss:0.000389901, eval on validation:['ade: 0.55723524', 'fde: 1.2083853'], (best ade:0.5535228 at step 10500) \n"
     ]
    },
    {
     "name": "stderr",
     "output_type": "stream",
     "text": [
      "100%|██████████| 628/628 [00:32<00:00, 22.27it/s]\n",
      "  0%|          | 1/628 [00:00<01:03,  9.85it/s]"
     ]
    },
    {
     "name": "stdout",
     "output_type": "stream",
     "text": [
      "('Epoca 24.', 'lr:', 0.0003346866)\n"
     ]
    },
    {
     "name": "stderr",
     "output_type": "stream",
     "text": [
      " 40%|████      | 254/628 [00:12<00:14, 26.01it/s]\n",
      "  0%|          | 0/55 [00:00<?, ?it/s]\u001b[A"
     ]
    },
    {
     "name": "stdout",
     "output_type": "stream",
     "text": [
      "\tsaving model 14700...\n",
      "\tdone\n",
      "Evaluating\n"
     ]
    },
    {
     "name": "stderr",
     "output_type": "stream",
     "text": [
      "\n",
      " 18%|#8        | 10/55 [00:00<00:00, 91.67it/s]\u001b[A\n",
      " 36%|###6      | 20/55 [00:00<00:00, 91.81it/s]\u001b[A\n",
      " 53%|#####2    | 29/55 [00:00<00:00, 90.73it/s]\u001b[A\n",
      " 69%|######9   | 38/55 [00:00<00:00, 88.62it/s]\u001b[A\n",
      " 85%|########5 | 47/55 [00:00<00:00, 87.87it/s]\u001b[A\n",
      " 41%|████      | 257/628 [00:13<00:44,  8.31it/s]A"
     ]
    },
    {
     "name": "stdout",
     "output_type": "stream",
     "text": [
      "{'ade': 0.56023675, 'fde': 1.2096044}\n",
      "\t last loss:0.000915491, eval on validation:['ade: 0.56023675', 'fde: 1.2096044'], (best ade:0.5535228 at step 10500) \n"
     ]
    },
    {
     "name": "stderr",
     "output_type": "stream",
     "text": [
      " 88%|████████▊ | 554/628 [00:27<00:03, 20.83it/s]"
     ]
    },
    {
     "name": "stdout",
     "output_type": "stream",
     "text": [
      "\tsaving model 15000...\n"
     ]
    },
    {
     "name": "stderr",
     "output_type": "stream",
     "text": [
      "\n",
      "  0%|          | 0/55 [00:00<?, ?it/s]\u001b[A\n",
      " 15%|#4        | 8/55 [00:00<00:00, 73.50it/s]\u001b[A"
     ]
    },
    {
     "name": "stdout",
     "output_type": "stream",
     "text": [
      "\tdone\n",
      "Evaluating\n"
     ]
    },
    {
     "name": "stderr",
     "output_type": "stream",
     "text": [
      "\n",
      " 29%|##9       | 16/55 [00:00<00:00, 74.79it/s]\u001b[A\n",
      " 45%|####5     | 25/55 [00:00<00:00, 78.25it/s]\u001b[A\n",
      " 62%|######1   | 34/55 [00:00<00:00, 80.14it/s]\u001b[A\n",
      " 75%|#######4  | 41/55 [00:00<00:00, 75.81it/s]\u001b[A\n",
      " 87%|########7 | 48/55 [00:00<00:00, 73.87it/s]\u001b[A\n",
      " 89%|████████▊ | 557/628 [00:28<00:09,  7.23it/s]A"
     ]
    },
    {
     "name": "stdout",
     "output_type": "stream",
     "text": [
      "{'ade': 0.5646972, 'fde': 1.2245808}\n",
      "\t last loss:0.000413665, eval on validation:['ade: 0.5646972', 'fde: 1.2245808'], (best ade:0.5535228 at step 10500) \n"
     ]
    },
    {
     "name": "stderr",
     "output_type": "stream",
     "text": [
      "100%|██████████| 628/628 [00:33<00:00, 18.93it/s]\n",
      "  0%|          | 1/628 [00:00<01:03,  9.81it/s]"
     ]
    },
    {
     "name": "stdout",
     "output_type": "stream",
     "text": [
      "('Epoca 25.', 'lr:', 0.00028448363)\n"
     ]
    },
    {
     "name": "stderr",
     "output_type": "stream",
     "text": [
      " 36%|███▌      | 227/628 [00:12<00:16, 24.02it/s]\n",
      "  0%|          | 0/55 [00:00<?, ?it/s]\u001b[A"
     ]
    },
    {
     "name": "stdout",
     "output_type": "stream",
     "text": [
      "\tsaving model 15300...\n",
      "\tdone\n",
      "Evaluating\n"
     ]
    },
    {
     "name": "stderr",
     "output_type": "stream",
     "text": [
      "\n",
      " 15%|#4        | 8/55 [00:00<00:00, 79.29it/s]\u001b[A\n",
      " 31%|###       | 17/55 [00:00<00:00, 80.79it/s]\u001b[A\n",
      " 45%|####5     | 25/55 [00:00<00:00, 80.10it/s]\u001b[A\n",
      " 62%|######1   | 34/55 [00:00<00:00, 81.26it/s]\u001b[A\n",
      " 78%|#######8  | 43/55 [00:00<00:00, 82.68it/s]\u001b[A\n",
      " 95%|#########4| 52/55 [00:00<00:00, 83.49it/s]\u001b[A\n",
      "100%|##########| 55/55 [00:00<00:00, 82.59it/s]\u001b[A"
     ]
    },
    {
     "name": "stdout",
     "output_type": "stream",
     "text": [
      "{'ade': 0.5518559, 'fde': 1.1922812}\n",
      "\t last loss:0.000293546, eval on validation:['ade: 0.5518559', 'fde: 1.1922812'], (best ade:0.5535228 at step 10500) \n",
      "\t saving best model...\n",
      "\t done.\n"
     ]
    },
    {
     "name": "stderr",
     "output_type": "stream",
     "text": [
      " 84%|████████▍ | 526/628 [00:31<00:08, 12.53it/s]"
     ]
    },
    {
     "name": "stdout",
     "output_type": "stream",
     "text": [
      "\tsaving model 15600...\n"
     ]
    },
    {
     "name": "stderr",
     "output_type": "stream",
     "text": [
      "\n",
      "  0%|          | 0/55 [00:00<?, ?it/s]\u001b[A\n",
      " 13%|#2        | 7/55 [00:00<00:00, 67.94it/s]\u001b[A"
     ]
    },
    {
     "name": "stdout",
     "output_type": "stream",
     "text": [
      "\tdone\n",
      "Evaluating\n"
     ]
    },
    {
     "name": "stderr",
     "output_type": "stream",
     "text": [
      "\n",
      " 27%|##7       | 15/55 [00:00<00:00, 69.51it/s]\u001b[A\n",
      " 42%|####1     | 23/55 [00:00<00:00, 71.09it/s]\u001b[A\n",
      " 58%|#####8    | 32/55 [00:00<00:00, 74.10it/s]\u001b[A\n",
      " 75%|#######4  | 41/55 [00:00<00:00, 77.24it/s]\u001b[A\n",
      " 91%|######### | 50/55 [00:00<00:00, 79.23it/s]\u001b[A\n",
      " 85%|████████▍ | 531/628 [00:32<00:15,  6.35it/s]A"
     ]
    },
    {
     "name": "stdout",
     "output_type": "stream",
     "text": [
      "{'ade': 0.55532783, 'fde': 1.1935269}\n",
      "\t last loss:0.000405812, eval on validation:['ade: 0.55532783', 'fde: 1.1935269'], (best ade:0.5518559 at step 15300) \n"
     ]
    },
    {
     "name": "stderr",
     "output_type": "stream",
     "text": [
      "100%|██████████| 628/628 [00:35<00:00, 17.49it/s]\n",
      "  0%|          | 2/628 [00:00<00:43, 14.47it/s]"
     ]
    },
    {
     "name": "stdout",
     "output_type": "stream",
     "text": [
      "('Epoca 26.', 'lr:', 0.00028448363)\n"
     ]
    },
    {
     "name": "stderr",
     "output_type": "stream",
     "text": [
      " 32%|███▏      | 198/628 [00:09<00:29, 14.66it/s]"
     ]
    },
    {
     "name": "stdout",
     "output_type": "stream",
     "text": [
      "\tsaving model 15900...\n"
     ]
    },
    {
     "name": "stderr",
     "output_type": "stream",
     "text": [
      "\n",
      "  0%|          | 0/55 [00:00<?, ?it/s]\u001b[A\n",
      " 13%|#2        | 7/55 [00:00<00:00, 63.33it/s]\u001b[A"
     ]
    },
    {
     "name": "stdout",
     "output_type": "stream",
     "text": [
      "\tdone\n",
      "Evaluating\n"
     ]
    },
    {
     "name": "stderr",
     "output_type": "stream",
     "text": [
      "\n",
      " 27%|##7       | 15/55 [00:00<00:00, 65.75it/s]\u001b[A\n",
      " 42%|####1     | 23/55 [00:00<00:00, 68.94it/s]\u001b[A\n",
      " 53%|#####2    | 29/55 [00:00<00:00, 62.74it/s]\u001b[A\n",
      " 62%|######1   | 34/55 [00:00<00:00, 44.73it/s]\u001b[A\n",
      " 71%|#######   | 39/55 [00:00<00:00, 41.15it/s]\u001b[A\n",
      " 82%|########1 | 45/55 [00:00<00:00, 44.94it/s]\u001b[A\n",
      " 98%|#########8| 54/55 [00:00<00:00, 52.58it/s]\u001b[A\n",
      "100%|##########| 55/55 [00:00<00:00, 55.13it/s]\u001b[A"
     ]
    },
    {
     "name": "stdout",
     "output_type": "stream",
     "text": [
      "{'ade': 0.55025405, 'fde': 1.1869111}\n",
      "\t last loss:0.000622775, eval on validation:['ade: 0.55025405', 'fde: 1.1869111'], (best ade:0.5518559 at step 15300) \n",
      "\t saving best model...\n"
     ]
    },
    {
     "name": "stderr",
     "output_type": "stream",
     "text": [
      " 79%|███████▉  | 497/628 [00:24<00:06, 20.37it/s]"
     ]
    },
    {
     "name": "stdout",
     "output_type": "stream",
     "text": [
      "\t done.\n",
      "\tsaving model 16200...\n"
     ]
    },
    {
     "name": "stderr",
     "output_type": "stream",
     "text": [
      "\n",
      "  0%|          | 0/55 [00:00<?, ?it/s]\u001b[A\n",
      "  7%|7         | 4/55 [00:00<00:01, 39.86it/s]\u001b[A"
     ]
    },
    {
     "name": "stdout",
     "output_type": "stream",
     "text": [
      "\tdone\n",
      "Evaluating\n"
     ]
    },
    {
     "name": "stderr",
     "output_type": "stream",
     "text": [
      "\n",
      " 15%|#4        | 8/55 [00:00<00:01, 36.10it/s]\u001b[A\n",
      " 20%|##        | 11/55 [00:00<00:01, 32.65it/s]\u001b[A\n",
      " 25%|##5       | 14/55 [00:00<00:01, 31.65it/s]\u001b[A\n",
      " 31%|###       | 17/55 [00:00<00:01, 29.96it/s]\u001b[A\n",
      " 36%|###6      | 20/55 [00:00<00:01, 27.51it/s]\u001b[A\n",
      " 42%|####1     | 23/55 [00:00<00:01, 27.88it/s]\u001b[A\n",
      " 53%|#####2    | 29/55 [00:00<00:00, 32.70it/s]\u001b[A\n",
      " 65%|######5   | 36/55 [00:01<00:00, 38.43it/s]\u001b[A\n",
      " 75%|#######4  | 41/55 [00:01<00:00, 40.84it/s]\u001b[A\n",
      " 87%|########7 | 48/55 [00:01<00:00, 46.07it/s]\u001b[A\n",
      " 80%|███████▉  | 502/628 [00:26<00:21,  5.95it/s]A"
     ]
    },
    {
     "name": "stdout",
     "output_type": "stream",
     "text": [
      "{'ade': 0.55953103, 'fde': 1.2169449}\n",
      "\t last loss:0.000443786, eval on validation:['ade: 0.55953103', 'fde: 1.2169449'], (best ade:0.55025405 at step 15900) \n"
     ]
    },
    {
     "name": "stderr",
     "output_type": "stream",
     "text": [
      "100%|██████████| 628/628 [00:33<00:00, 18.87it/s]\n",
      "  0%|          | 2/628 [00:00<00:40, 15.56it/s]"
     ]
    },
    {
     "name": "stdout",
     "output_type": "stream",
     "text": [
      "('Epoca 27.', 'lr:', 0.0002418111)\n"
     ]
    },
    {
     "name": "stderr",
     "output_type": "stream",
     "text": [
      " 27%|██▋       | 171/628 [00:09<00:41, 10.97it/s]"
     ]
    },
    {
     "name": "stdout",
     "output_type": "stream",
     "text": [
      "\tsaving model 16500...\n"
     ]
    },
    {
     "name": "stderr",
     "output_type": "stream",
     "text": [
      "\n",
      "  0%|          | 0/55 [00:00<?, ?it/s]\u001b[A\n",
      " 16%|#6        | 9/55 [00:00<00:00, 83.25it/s]\u001b[A"
     ]
    },
    {
     "name": "stdout",
     "output_type": "stream",
     "text": [
      "\tdone\n",
      "Evaluating\n"
     ]
    },
    {
     "name": "stderr",
     "output_type": "stream",
     "text": [
      "\n",
      " 31%|###       | 17/55 [00:00<00:00, 82.22it/s]\u001b[A\n",
      " 47%|####7     | 26/55 [00:00<00:00, 82.05it/s]\u001b[A\n",
      " 62%|######1   | 34/55 [00:00<00:00, 81.14it/s]\u001b[A\n",
      " 76%|#######6  | 42/55 [00:00<00:00, 78.81it/s]\u001b[A\n",
      " 93%|#########2| 51/55 [00:00<00:00, 80.36it/s]\u001b[A\n",
      "100%|##########| 55/55 [00:00<00:00, 76.95it/s]\u001b[A"
     ]
    },
    {
     "name": "stdout",
     "output_type": "stream",
     "text": [
      "{'ade': 0.5426995, 'fde': 1.1662133}\n",
      "\t last loss:0.000545220, eval on validation:['ade: 0.5426995', 'fde: 1.1662133'], (best ade:0.55025405 at step 15900) \n",
      "\t saving best model...\n"
     ]
    },
    {
     "name": "stderr",
     "output_type": "stream",
     "text": [
      "\r",
      " 28%|██▊       | 173/628 [00:10<01:55,  3.94it/s]"
     ]
    },
    {
     "name": "stdout",
     "output_type": "stream",
     "text": [
      "\t done.\n"
     ]
    },
    {
     "name": "stderr",
     "output_type": "stream",
     "text": [
      " 75%|███████▌  | 471/628 [00:30<00:17,  8.92it/s]"
     ]
    },
    {
     "name": "stdout",
     "output_type": "stream",
     "text": [
      "\tsaving model 16800...\n"
     ]
    },
    {
     "name": "stderr",
     "output_type": "stream",
     "text": [
      "\n",
      "  0%|          | 0/55 [00:00<?, ?it/s]\u001b[A\n",
      "  7%|7         | 4/55 [00:00<00:01, 31.67it/s]\u001b[A"
     ]
    },
    {
     "name": "stdout",
     "output_type": "stream",
     "text": [
      "\tdone\n",
      "Evaluating\n"
     ]
    },
    {
     "name": "stderr",
     "output_type": "stream",
     "text": [
      "\n",
      " 13%|#2        | 7/55 [00:00<00:01, 28.63it/s]\u001b[A\n",
      " 18%|#8        | 10/55 [00:00<00:01, 28.23it/s]\u001b[A\n",
      " 24%|##3       | 13/55 [00:00<00:01, 26.08it/s]\u001b[A\n",
      " 29%|##9       | 16/55 [00:00<00:01, 25.38it/s]\u001b[A\n",
      " 35%|###4      | 19/55 [00:00<00:01, 23.97it/s]\u001b[A\n",
      " 40%|####      | 22/55 [00:00<00:01, 24.70it/s]\u001b[A\n",
      " 45%|####5     | 25/55 [00:01<00:01, 24.17it/s]\u001b[A\n",
      " 51%|#####     | 28/55 [00:01<00:01, 21.44it/s]\u001b[A\n",
      " 56%|#####6    | 31/55 [00:01<00:01, 22.06it/s]\u001b[A\n",
      " 62%|######1   | 34/55 [00:01<00:00, 23.25it/s]\u001b[A\n",
      " 67%|######7   | 37/55 [00:01<00:00, 24.83it/s]\u001b[A\n",
      " 75%|#######4  | 41/55 [00:01<00:00, 26.56it/s]\u001b[A\n",
      " 80%|########  | 44/55 [00:01<00:00, 26.21it/s]\u001b[A\n",
      " 87%|########7 | 48/55 [00:01<00:00, 28.15it/s]\u001b[A\n",
      " 98%|#########8| 54/55 [00:01<00:00, 33.27it/s]\u001b[A\n",
      " 75%|███████▌  | 474/628 [00:33<01:34,  1.63it/s]A"
     ]
    },
    {
     "name": "stdout",
     "output_type": "stream",
     "text": [
      "{'ade': 0.5516152, 'fde': 1.1913495}\n",
      "\t last loss:0.000634675, eval on validation:['ade: 0.5516152', 'fde: 1.1913495'], (best ade:0.5426995 at step 16500) \n"
     ]
    },
    {
     "name": "stderr",
     "output_type": "stream",
     "text": [
      "100%|██████████| 628/628 [00:41<00:00, 15.18it/s]\n",
      "  0%|          | 2/628 [00:00<00:44, 14.16it/s]"
     ]
    },
    {
     "name": "stdout",
     "output_type": "stream",
     "text": [
      "('Epoca 28.', 'lr:', 0.0002418111)\n"
     ]
    },
    {
     "name": "stderr",
     "output_type": "stream",
     "text": [
      " 23%|██▎       | 143/628 [00:06<00:24, 19.54it/s]\n",
      "  0%|          | 0/55 [00:00<?, ?it/s]\u001b[A"
     ]
    },
    {
     "name": "stdout",
     "output_type": "stream",
     "text": [
      "\tsaving model 17100...\n",
      "\tdone\n",
      "Evaluating\n"
     ]
    },
    {
     "name": "stderr",
     "output_type": "stream",
     "text": [
      "\n",
      " 13%|#2        | 7/55 [00:00<00:00, 62.00it/s]\u001b[A\n",
      " 24%|##3       | 13/55 [00:00<00:00, 61.11it/s]\u001b[A\n",
      " 36%|###6      | 20/55 [00:00<00:00, 63.30it/s]\u001b[A\n",
      " 49%|####9     | 27/55 [00:00<00:00, 64.35it/s]\u001b[A\n",
      " 64%|######3   | 35/55 [00:00<00:00, 68.02it/s]\u001b[A\n",
      " 76%|#######6  | 42/55 [00:00<00:00, 67.30it/s]\u001b[A\n",
      " 89%|########9 | 49/55 [00:00<00:00, 61.23it/s]\u001b[A\n",
      " 23%|██▎       | 146/628 [00:07<01:18,  6.17it/s]A"
     ]
    },
    {
     "name": "stdout",
     "output_type": "stream",
     "text": [
      "{'ade': 0.5492072, 'fde': 1.1827155}\n",
      "\t last loss:0.000471473, eval on validation:['ade: 0.5492072', 'fde: 1.1827155'], (best ade:0.5426995 at step 16500) \n"
     ]
    },
    {
     "name": "stderr",
     "output_type": "stream",
     "text": [
      " 71%|███████   | 443/628 [00:22<00:08, 23.04it/s]"
     ]
    },
    {
     "name": "stdout",
     "output_type": "stream",
     "text": [
      "\tsaving model 17400...\n"
     ]
    },
    {
     "name": "stderr",
     "output_type": "stream",
     "text": [
      "\n",
      "  0%|          | 0/55 [00:00<?, ?it/s]\u001b[A\n",
      " 15%|#4        | 8/55 [00:00<00:00, 77.33it/s]\u001b[A"
     ]
    },
    {
     "name": "stdout",
     "output_type": "stream",
     "text": [
      "\tdone\n",
      "Evaluating\n"
     ]
    },
    {
     "name": "stderr",
     "output_type": "stream",
     "text": [
      "\n",
      " 29%|##9       | 16/55 [00:00<00:00, 76.68it/s]\u001b[A\n",
      " 42%|####1     | 23/55 [00:00<00:00, 74.46it/s]\u001b[A\n",
      " 55%|#####4    | 30/55 [00:00<00:00, 69.25it/s]\u001b[A\n",
      " 67%|######7   | 37/55 [00:00<00:00, 67.52it/s]\u001b[A\n",
      " 78%|#######8  | 43/55 [00:00<00:00, 63.83it/s]\u001b[A\n",
      " 91%|######### | 50/55 [00:00<00:00, 63.38it/s]\u001b[A\n",
      " 71%|███████   | 446/628 [00:23<00:26,  6.81it/s]A"
     ]
    },
    {
     "name": "stdout",
     "output_type": "stream",
     "text": [
      "{'ade': 0.5534954, 'fde': 1.1924537}\n",
      "\t last loss:0.000550353, eval on validation:['ade: 0.5534954', 'fde: 1.1924537'], (best ade:0.5426995 at step 16500) \n"
     ]
    },
    {
     "name": "stderr",
     "output_type": "stream",
     "text": [
      "100%|██████████| 628/628 [00:33<00:00, 18.76it/s]\n",
      "  0%|          | 1/628 [00:00<01:24,  7.45it/s]"
     ]
    },
    {
     "name": "stdout",
     "output_type": "stream",
     "text": [
      "('Epoca 29.', 'lr:', 0.00020553943)\n"
     ]
    },
    {
     "name": "stderr",
     "output_type": "stream",
     "text": [
      " 18%|█▊        | 115/628 [00:06<00:28, 18.09it/s]"
     ]
    },
    {
     "name": "stdout",
     "output_type": "stream",
     "text": [
      "\tsaving model 17700...\n"
     ]
    },
    {
     "name": "stderr",
     "output_type": "stream",
     "text": [
      "\n",
      "  0%|          | 0/55 [00:00<?, ?it/s]\u001b[A\n",
      " 13%|#2        | 7/55 [00:00<00:00, 68.45it/s]\u001b[A\n",
      " 24%|##3       | 13/55 [00:00<00:00, 60.31it/s]\u001b[A\n",
      " 33%|###2      | 18/55 [00:00<00:00, 56.63it/s]\u001b[A\n",
      " 44%|####3     | 24/55 [00:00<00:00, 55.69it/s]\u001b[A\n",
      " 56%|#####6    | 31/55 [00:00<00:00, 57.22it/s]\u001b[A\n",
      " 69%|######9   | 38/55 [00:00<00:00, 60.38it/s]\u001b[A\n",
      " 85%|########5 | 47/55 [00:00<00:00, 66.54it/s]\u001b[A\n",
      " 19%|█▊        | 117/628 [00:07<01:49,  4.65it/s]A"
     ]
    },
    {
     "name": "stdout",
     "output_type": "stream",
     "text": [
      "\tdone\n",
      "Evaluating\n",
      "{'ade': 0.55325174, 'fde': 1.1909732}\n",
      "\t last loss:0.000497044, eval on validation:['ade: 0.55325174', 'fde: 1.1909732'], (best ade:0.5426995 at step 16500) \n"
     ]
    },
    {
     "name": "stderr",
     "output_type": "stream",
     "text": [
      " 66%|██████▌   | 414/628 [00:23<00:11, 18.21it/s]\n",
      "  0%|          | 0/55 [00:00<?, ?it/s]\u001b[A"
     ]
    },
    {
     "name": "stdout",
     "output_type": "stream",
     "text": [
      "\tsaving model 18000...\n",
      "\tdone\n",
      "Evaluating\n"
     ]
    },
    {
     "name": "stderr",
     "output_type": "stream",
     "text": [
      "\n",
      " 11%|#         | 6/55 [00:00<00:00, 56.40it/s]\u001b[A\n",
      " 20%|##        | 11/55 [00:00<00:00, 50.82it/s]\u001b[A\n",
      " 29%|##9       | 16/55 [00:00<00:00, 48.58it/s]\u001b[A\n",
      " 40%|####      | 22/55 [00:00<00:00, 49.61it/s]\u001b[A\n",
      " 53%|#####2    | 29/55 [00:00<00:00, 52.44it/s]\u001b[A\n",
      " 62%|######1   | 34/55 [00:00<00:00, 50.24it/s]\u001b[A\n",
      " 73%|#######2  | 40/55 [00:00<00:00, 51.05it/s]\u001b[A\n",
      " 84%|########3 | 46/55 [00:00<00:00, 51.83it/s]\u001b[A\n",
      " 95%|#########4| 52/55 [00:01<00:00, 52.04it/s]\u001b[A\n",
      " 66%|██████▌   | 416/628 [00:24<00:52,  4.01it/s]A"
     ]
    },
    {
     "name": "stdout",
     "output_type": "stream",
     "text": [
      "{'ade': 0.5434927, 'fde': 1.170707}\n",
      "\t last loss:0.000550818, eval on validation:['ade: 0.5434927', 'fde: 1.170707'], (best ade:0.5426995 at step 16500) \n"
     ]
    },
    {
     "name": "stderr",
     "output_type": "stream",
     "text": [
      "100%|██████████| 628/628 [00:35<00:00, 15.28it/s]\n",
      "  0%|          | 1/628 [00:00<01:11,  8.82it/s]"
     ]
    },
    {
     "name": "stdout",
     "output_type": "stream",
     "text": [
      "('Epoca 30.', 'lr:', 0.00020553943)\n"
     ]
    },
    {
     "name": "stderr",
     "output_type": "stream",
     "text": [
      " 14%|█▍        | 87/628 [00:05<00:45, 11.84it/s]"
     ]
    },
    {
     "name": "stdout",
     "output_type": "stream",
     "text": [
      "\tsaving model 18300...\n"
     ]
    },
    {
     "name": "stderr",
     "output_type": "stream",
     "text": [
      "\n",
      "  0%|          | 0/55 [00:00<?, ?it/s]\u001b[A\n",
      " 15%|#4        | 8/55 [00:00<00:00, 74.84it/s]\u001b[A"
     ]
    },
    {
     "name": "stdout",
     "output_type": "stream",
     "text": [
      "\tdone\n",
      "Evaluating\n"
     ]
    },
    {
     "name": "stderr",
     "output_type": "stream",
     "text": [
      "\n",
      " 29%|##9       | 16/55 [00:00<00:00, 75.41it/s]\u001b[A\n",
      " 42%|####1     | 23/55 [00:00<00:00, 69.62it/s]\u001b[A\n",
      " 53%|#####2    | 29/55 [00:00<00:00, 65.90it/s]\u001b[A\n",
      " 62%|######1   | 34/55 [00:00<00:00, 58.62it/s]\u001b[A\n",
      " 71%|#######   | 39/55 [00:00<00:00, 48.61it/s]\u001b[A\n",
      " 80%|########  | 44/55 [00:00<00:00, 39.95it/s]\u001b[A\n",
      " 87%|########7 | 48/55 [00:01<00:00, 33.09it/s]\u001b[A\n",
      " 95%|#########4| 52/55 [00:01<00:00, 31.08it/s]\u001b[A\n",
      "100%|##########| 55/55 [00:01<00:00, 42.40it/s]\u001b[A"
     ]
    },
    {
     "name": "stdout",
     "output_type": "stream",
     "text": [
      "{'ade': 0.5468535, 'fde': 1.1754421}\n",
      "\t last loss:0.000594665, eval on validation:['ade: 0.5468535', 'fde: 1.1754421'], (best ade:0.5426995 at step 16500) \n"
     ]
    },
    {
     "name": "stderr",
     "output_type": "stream",
     "text": [
      " 62%|██████▏   | 387/628 [00:23<00:23, 10.09it/s]"
     ]
    },
    {
     "name": "stdout",
     "output_type": "stream",
     "text": [
      "\tsaving model 18600...\n"
     ]
    },
    {
     "name": "stderr",
     "output_type": "stream",
     "text": [
      "\n",
      "  0%|          | 0/55 [00:00<?, ?it/s]\u001b[A\n",
      "  9%|9         | 5/55 [00:00<00:01, 36.38it/s]\u001b[A"
     ]
    },
    {
     "name": "stdout",
     "output_type": "stream",
     "text": [
      "\tdone\n",
      "Evaluating\n"
     ]
    },
    {
     "name": "stderr",
     "output_type": "stream",
     "text": [
      "\n",
      " 15%|#4        | 8/55 [00:00<00:01, 31.98it/s]\u001b[A\n",
      " 22%|##1       | 12/55 [00:00<00:01, 32.80it/s]\u001b[A\n",
      " 33%|###2      | 18/55 [00:00<00:00, 37.43it/s]\u001b[A\n",
      " 45%|####5     | 25/55 [00:00<00:00, 42.55it/s]\u001b[A\n",
      " 58%|#####8    | 32/55 [00:00<00:00, 47.16it/s]\u001b[A\n",
      " 71%|#######   | 39/55 [00:00<00:00, 52.18it/s]\u001b[A\n",
      " 85%|########5 | 47/55 [00:00<00:00, 56.94it/s]\u001b[A\n",
      " 62%|██████▏   | 389/628 [00:25<01:08,  3.51it/s]A"
     ]
    },
    {
     "name": "stdout",
     "output_type": "stream",
     "text": [
      "{'ade': 0.55052197, 'fde': 1.1849474}\n",
      "\t last loss:0.000317501, eval on validation:['ade: 0.55052197', 'fde: 1.1849474'], (best ade:0.5426995 at step 16500) \n"
     ]
    },
    {
     "name": "stderr",
     "output_type": "stream",
     "text": [
      "100%|██████████| 628/628 [00:38<00:00, 12.98it/s]\n",
      "  0%|          | 2/628 [00:00<00:49, 12.66it/s]"
     ]
    },
    {
     "name": "stdout",
     "output_type": "stream",
     "text": [
      "('Epoca 31.', 'lr:', 0.00017470852)\n"
     ]
    },
    {
     "name": "stderr",
     "output_type": "stream",
     "text": [
      "  9%|▉         | 59/628 [00:03<00:24, 23.17it/s]\n",
      "  0%|          | 0/55 [00:00<?, ?it/s]\u001b[A"
     ]
    },
    {
     "name": "stdout",
     "output_type": "stream",
     "text": [
      "\tsaving model 18900...\n",
      "\tdone\n",
      "Evaluating\n"
     ]
    },
    {
     "name": "stderr",
     "output_type": "stream",
     "text": [
      "\n",
      " 18%|#8        | 10/55 [00:00<00:00, 97.04it/s]\u001b[A\n",
      " 35%|###4      | 19/55 [00:00<00:00, 91.66it/s]\u001b[A\n",
      " 49%|####9     | 27/55 [00:00<00:00, 87.57it/s]\u001b[A\n",
      " 67%|######7   | 37/55 [00:00<00:00, 88.04it/s]\u001b[A\n",
      " 80%|########  | 44/55 [00:00<00:00, 79.10it/s]\u001b[A\n",
      " 93%|#########2| 51/55 [00:00<00:00, 73.87it/s]\u001b[A\n",
      " 10%|▉         | 62/628 [00:04<01:13,  7.65it/s][A"
     ]
    },
    {
     "name": "stdout",
     "output_type": "stream",
     "text": [
      "{'ade': 0.54514706, 'fde': 1.1738783}\n",
      "\t last loss:0.000386498, eval on validation:['ade: 0.54514706', 'fde: 1.1738783'], (best ade:0.5426995 at step 16500) \n"
     ]
    },
    {
     "name": "stderr",
     "output_type": "stream",
     "text": [
      " 57%|█████▋    | 359/628 [00:15<00:10, 25.23it/s]\n",
      "  0%|          | 0/55 [00:00<?, ?it/s]\u001b[A"
     ]
    },
    {
     "name": "stdout",
     "output_type": "stream",
     "text": [
      "\tsaving model 19200...\n",
      "\tdone\n",
      "Evaluating\n"
     ]
    },
    {
     "name": "stderr",
     "output_type": "stream",
     "text": [
      "\n",
      " 15%|#4        | 8/55 [00:00<00:00, 77.65it/s]\u001b[A\n",
      " 25%|##5       | 14/55 [00:00<00:00, 70.62it/s]\u001b[A\n",
      " 38%|###8      | 21/55 [00:00<00:00, 70.14it/s]\u001b[A\n",
      " 49%|####9     | 27/55 [00:00<00:00, 65.68it/s]\u001b[A\n",
      " 64%|######3   | 35/55 [00:00<00:00, 69.21it/s]\u001b[A\n",
      " 78%|#######8  | 43/55 [00:00<00:00, 72.09it/s]\u001b[A\n",
      " 95%|#########4| 52/55 [00:00<00:00, 76.02it/s]\u001b[A\n",
      " 58%|█████▊    | 362/628 [00:17<00:36,  7.36it/s]A"
     ]
    },
    {
     "name": "stdout",
     "output_type": "stream",
     "text": [
      "{'ade': 0.5467239, 'fde': 1.1773707}\n",
      "\t last loss:0.000442514, eval on validation:['ade: 0.5467239', 'fde: 1.1773707'], (best ade:0.5426995 at step 16500) \n"
     ]
    },
    {
     "name": "stderr",
     "output_type": "stream",
     "text": [
      "100%|██████████| 628/628 [00:27<00:00, 26.79it/s]\n",
      "  0%|          | 2/628 [00:00<00:38, 16.06it/s]"
     ]
    },
    {
     "name": "stdout",
     "output_type": "stream",
     "text": [
      "('Epoca 32.', 'lr:', 0.00017470852)\n"
     ]
    },
    {
     "name": "stderr",
     "output_type": "stream",
     "text": [
      "  5%|▍         | 29/628 [00:01<00:22, 26.24it/s]\n",
      "  0%|          | 0/55 [00:00<?, ?it/s]\u001b[A"
     ]
    },
    {
     "name": "stdout",
     "output_type": "stream",
     "text": [
      "\tsaving model 19500...\n",
      "\tdone\n",
      "Evaluating\n"
     ]
    },
    {
     "name": "stderr",
     "output_type": "stream",
     "text": [
      "\n",
      " 18%|#8        | 10/55 [00:00<00:00, 96.58it/s]\u001b[A\n",
      " 36%|###6      | 20/55 [00:00<00:00, 95.92it/s]\u001b[A\n",
      " 55%|#####4    | 30/55 [00:00<00:00, 95.46it/s]\u001b[A\n",
      " 73%|#######2  | 40/55 [00:00<00:00, 94.39it/s]\u001b[A\n",
      " 91%|######### | 50/55 [00:00<00:00, 94.81it/s]\u001b[A\n",
      "  6%|▌         | 35/628 [00:02<00:54, 10.84it/s][A"
     ]
    },
    {
     "name": "stdout",
     "output_type": "stream",
     "text": [
      "{'ade': 0.5449926, 'fde': 1.172519}\n",
      "\t last loss:0.000345009, eval on validation:['ade: 0.5449926', 'fde: 1.172519'], (best ade:0.5426995 at step 16500) \n"
     ]
    },
    {
     "name": "stderr",
     "output_type": "stream",
     "text": [
      " 53%|█████▎    | 331/628 [00:14<00:11, 25.03it/s]\n",
      "  0%|          | 0/55 [00:00<?, ?it/s]\u001b[A"
     ]
    },
    {
     "name": "stdout",
     "output_type": "stream",
     "text": [
      "\tsaving model 19800...\n",
      "\tdone\n",
      "Evaluating\n"
     ]
    },
    {
     "name": "stderr",
     "output_type": "stream",
     "text": [
      "\n",
      " 16%|#6        | 9/55 [00:00<00:00, 88.78it/s]\u001b[A\n",
      " 29%|##9       | 16/55 [00:00<00:00, 81.95it/s]\u001b[A\n",
      " 44%|####3     | 24/55 [00:00<00:00, 77.38it/s]\u001b[A\n",
      " 56%|#####6    | 31/55 [00:00<00:00, 73.34it/s]\u001b[A\n",
      " 71%|#######   | 39/55 [00:00<00:00, 73.32it/s]\u001b[A\n",
      " 87%|########7 | 48/55 [00:00<00:00, 75.79it/s]\u001b[A\n",
      " 53%|█████▎    | 334/628 [00:15<00:38,  7.63it/s]A"
     ]
    },
    {
     "name": "stdout",
     "output_type": "stream",
     "text": [
      "{'ade': 0.5483164, 'fde': 1.1768651}\n",
      "\t last loss:0.000532769, eval on validation:['ade: 0.5483164', 'fde: 1.1768651'], (best ade:0.5426995 at step 16500) \n"
     ]
    },
    {
     "name": "stderr",
     "output_type": "stream",
     "text": [
      "100%|██████████| 628/628 [00:27<00:00, 20.27it/s]\n",
      "  0%|          | 1/628 [00:00<01:11,  8.72it/s]"
     ]
    },
    {
     "name": "stdout",
     "output_type": "stream",
     "text": [
      "('Epoca 33.', 'lr:', 0.00014850224)\n",
      "\tsaving model 20100...\n"
     ]
    },
    {
     "name": "stderr",
     "output_type": "stream",
     "text": [
      "\n",
      "  0%|          | 0/55 [00:00<?, ?it/s]\u001b[A\n",
      " 16%|#6        | 9/55 [00:00<00:00, 80.34it/s]\u001b[A"
     ]
    },
    {
     "name": "stdout",
     "output_type": "stream",
     "text": [
      "\tdone\n",
      "Evaluating\n"
     ]
    },
    {
     "name": "stderr",
     "output_type": "stream",
     "text": [
      "\n",
      " 31%|###       | 17/55 [00:00<00:00, 79.92it/s]\u001b[A\n",
      " 45%|####5     | 25/55 [00:00<00:00, 79.05it/s]\u001b[A\n",
      " 62%|######1   | 34/55 [00:00<00:00, 79.75it/s]\u001b[A\n",
      " 76%|#######6  | 42/55 [00:00<00:00, 78.81it/s]\u001b[A\n",
      " 89%|########9 | 49/55 [00:00<00:00, 70.20it/s]\u001b[A\n",
      "  1%|          | 4/628 [00:01<02:02,  5.10it/s]\u001b[A"
     ]
    },
    {
     "name": "stdout",
     "output_type": "stream",
     "text": [
      "{'ade': 0.54613745, 'fde': 1.1784029}\n",
      "\t last loss:0.000487829, eval on validation:['ade: 0.54613745', 'fde: 1.1784029'], (best ade:0.5426995 at step 16500) \n"
     ]
    },
    {
     "name": "stderr",
     "output_type": "stream",
     "text": [
      " 48%|████▊     | 302/628 [00:13<00:12, 26.75it/s]\n",
      "  0%|          | 0/55 [00:00<?, ?it/s]\u001b[A"
     ]
    },
    {
     "name": "stdout",
     "output_type": "stream",
     "text": [
      "\tsaving model 20400...\n",
      "\tdone\n",
      "Evaluating\n"
     ]
    },
    {
     "name": "stderr",
     "output_type": "stream",
     "text": [
      "\n",
      " 18%|#8        | 10/55 [00:00<00:00, 97.66it/s]\u001b[A\n",
      " 36%|###6      | 20/55 [00:00<00:00, 96.66it/s]\u001b[A\n",
      " 55%|#####4    | 30/55 [00:00<00:00, 96.02it/s]\u001b[A\n",
      " 73%|#######2  | 40/55 [00:00<00:00, 95.75it/s]\u001b[A\n",
      " 91%|######### | 50/55 [00:00<00:00, 94.94it/s]\u001b[A\n",
      "100%|##########| 55/55 [00:00<00:00, 94.33it/s]\u001b[A"
     ]
    },
    {
     "name": "stdout",
     "output_type": "stream",
     "text": [
      "{'ade': 0.5426533, 'fde': 1.1659452}\n",
      "\t last loss:0.000339157, eval on validation:['ade: 0.5426533', 'fde: 1.1659452'], (best ade:0.5426995 at step 16500) \n",
      "\t saving best model...\n"
     ]
    },
    {
     "name": "stderr",
     "output_type": "stream",
     "text": [
      " 96%|█████████▌| 603/628 [00:30<00:02,  9.78it/s]"
     ]
    },
    {
     "name": "stdout",
     "output_type": "stream",
     "text": [
      "\t done.\n",
      "\tsaving model 20700...\n"
     ]
    },
    {
     "name": "stderr",
     "output_type": "stream",
     "text": [
      "\n",
      "  0%|          | 0/55 [00:00<?, ?it/s]\u001b[A\n",
      "  7%|7         | 4/55 [00:00<00:01, 31.07it/s]\u001b[A"
     ]
    },
    {
     "name": "stdout",
     "output_type": "stream",
     "text": [
      "\tdone\n",
      "Evaluating\n"
     ]
    },
    {
     "name": "stderr",
     "output_type": "stream",
     "text": [
      "\n",
      " 13%|#2        | 7/55 [00:00<00:01, 29.12it/s]\u001b[A\n",
      " 18%|#8        | 10/55 [00:00<00:01, 27.43it/s]\u001b[A\n",
      " 24%|##3       | 13/55 [00:00<00:01, 27.60it/s]\u001b[A\n",
      " 29%|##9       | 16/55 [00:00<00:01, 28.17it/s]\u001b[A\n",
      " 38%|###8      | 21/55 [00:00<00:01, 31.17it/s]\u001b[A\n",
      " 47%|####7     | 26/55 [00:00<00:00, 33.95it/s]\u001b[A\n",
      " 55%|#####4    | 30/55 [00:00<00:00, 34.10it/s]\u001b[A\n",
      " 64%|######3   | 35/55 [00:01<00:00, 35.81it/s]\u001b[A\n",
      " 73%|#######2  | 40/55 [00:01<00:00, 39.11it/s]\u001b[A\n",
      " 82%|########1 | 45/55 [00:01<00:00, 39.30it/s]\u001b[A\n",
      " 91%|######### | 50/55 [00:01<00:00, 40.81it/s]\u001b[A\n",
      " 96%|█████████▋| 605/628 [00:32<00:08,  2.67it/s]A"
     ]
    },
    {
     "name": "stdout",
     "output_type": "stream",
     "text": [
      "{'ade': 0.5447101, 'fde': 1.1762786}\n",
      "\t last loss:0.000311597, eval on validation:['ade: 0.5447101', 'fde: 1.1762786'], (best ade:0.5426533 at step 20400) \n"
     ]
    },
    {
     "name": "stderr",
     "output_type": "stream",
     "text": [
      "100%|██████████| 628/628 [00:34<00:00,  6.60it/s]\n",
      "  0%|          | 1/628 [00:00<01:17,  8.12it/s]"
     ]
    },
    {
     "name": "stdout",
     "output_type": "stream",
     "text": [
      "('Epoca 34.', 'lr:', 0.00014850224)\n"
     ]
    },
    {
     "name": "stderr",
     "output_type": "stream",
     "text": [
      " 43%|████▎     | 273/628 [00:15<00:14, 24.23it/s]"
     ]
    },
    {
     "name": "stdout",
     "output_type": "stream",
     "text": [
      "\tsaving model 21000...\n"
     ]
    },
    {
     "name": "stderr",
     "output_type": "stream",
     "text": [
      "\n",
      "  0%|          | 0/55 [00:00<?, ?it/s]\u001b[A\n",
      " 16%|#6        | 9/55 [00:00<00:00, 89.27it/s]\u001b[A"
     ]
    },
    {
     "name": "stdout",
     "output_type": "stream",
     "text": [
      "\tdone\n",
      "Evaluating\n"
     ]
    },
    {
     "name": "stderr",
     "output_type": "stream",
     "text": [
      "\n",
      " 29%|##9       | 16/55 [00:00<00:00, 81.72it/s]\u001b[A\n",
      " 42%|####1     | 23/55 [00:00<00:00, 76.67it/s]\u001b[A\n",
      " 53%|#####2    | 29/55 [00:00<00:00, 69.32it/s]\u001b[A\n",
      " 69%|######9   | 38/55 [00:00<00:00, 72.58it/s]\u001b[A\n",
      " 85%|########5 | 47/55 [00:00<00:00, 75.39it/s]\u001b[A\n",
      " 44%|████▍     | 279/628 [00:16<00:37,  9.37it/s]A"
     ]
    },
    {
     "name": "stdout",
     "output_type": "stream",
     "text": [
      "{'ade': 0.54644126, 'fde': 1.1812284}\n",
      "\t last loss:0.000652650, eval on validation:['ade: 0.54644126', 'fde: 1.1812284'], (best ade:0.5426533 at step 20400) \n"
     ]
    },
    {
     "name": "stderr",
     "output_type": "stream",
     "text": [
      " 91%|█████████▏| 574/628 [00:34<00:02, 26.86it/s]\n",
      "  0%|          | 0/55 [00:00<?, ?it/s]\u001b[A"
     ]
    },
    {
     "name": "stdout",
     "output_type": "stream",
     "text": [
      "\tsaving model 21300...\n",
      "\tdone\n",
      "Evaluating\n"
     ]
    },
    {
     "name": "stderr",
     "output_type": "stream",
     "text": [
      "\n",
      " 18%|#8        | 10/55 [00:00<00:00, 96.13it/s]\u001b[A\n",
      " 29%|##9       | 16/55 [00:00<00:00, 79.64it/s]\u001b[A\n",
      " 42%|####1     | 23/55 [00:00<00:00, 75.36it/s]\u001b[A\n",
      " 56%|#####6    | 31/55 [00:00<00:00, 74.87it/s]\u001b[A\n",
      " 71%|#######   | 39/55 [00:00<00:00, 75.74it/s]\u001b[A\n",
      " 89%|########9 | 49/55 [00:00<00:00, 79.37it/s]\u001b[A\n",
      " 92%|█████████▏| 580/628 [00:35<00:04,  9.99it/s]A"
     ]
    },
    {
     "name": "stdout",
     "output_type": "stream",
     "text": [
      "{'ade': 0.54869807, 'fde': 1.1865969}\n",
      "\t last loss:0.000446315, eval on validation:['ade: 0.54869807', 'fde: 1.1865969'], (best ade:0.5426533 at step 20400) \n"
     ]
    },
    {
     "name": "stderr",
     "output_type": "stream",
     "text": [
      "100%|██████████| 628/628 [00:37<00:00, 21.55it/s]\n",
      "  0%|          | 2/628 [00:00<00:41, 15.09it/s]"
     ]
    },
    {
     "name": "stdout",
     "output_type": "stream",
     "text": [
      "('Epoca 35.', 'lr:', 0.0001262269)\n"
     ]
    },
    {
     "name": "stderr",
     "output_type": "stream",
     "text": [
      " 39%|███▉      | 245/628 [00:09<00:15, 25.05it/s]\n",
      "  0%|          | 0/55 [00:00<?, ?it/s]\u001b[A"
     ]
    },
    {
     "name": "stdout",
     "output_type": "stream",
     "text": [
      "\tsaving model 21600...\n",
      "\tdone\n",
      "Evaluating\n"
     ]
    },
    {
     "name": "stderr",
     "output_type": "stream",
     "text": [
      "\n",
      " 16%|#6        | 9/55 [00:00<00:00, 87.91it/s]\u001b[A\n",
      " 33%|###2      | 18/55 [00:00<00:00, 87.64it/s]\u001b[A\n",
      " 49%|####9     | 27/55 [00:00<00:00, 84.87it/s]\u001b[A\n",
      " 60%|######    | 33/55 [00:00<00:00, 74.02it/s]\u001b[A\n",
      " 73%|#######2  | 40/55 [00:00<00:00, 71.59it/s]\u001b[A\n",
      " 84%|########3 | 46/55 [00:00<00:00, 64.94it/s]\u001b[A\n",
      " 98%|#########8| 54/55 [00:00<00:00, 67.46it/s]\u001b[A\n",
      "100%|##########| 55/55 [00:00<00:00, 71.57it/s]\u001b[A"
     ]
    },
    {
     "name": "stdout",
     "output_type": "stream",
     "text": [
      "{'ade': 0.53852004, 'fde': 1.1561154}\n",
      "\t last loss:0.000442873, eval on validation:['ade: 0.53852004', 'fde: 1.1561154'], (best ade:0.5426533 at step 20400) \n",
      "\t saving best model...\n"
     ]
    },
    {
     "name": "stderr",
     "output_type": "stream",
     "text": [
      " 87%|████████▋ | 547/628 [00:25<00:03, 23.97it/s]\n",
      "  0%|          | 0/55 [00:00<?, ?it/s]\u001b[A"
     ]
    },
    {
     "name": "stdout",
     "output_type": "stream",
     "text": [
      "\t done.\n",
      "\tsaving model 21900...\n",
      "\tdone\n",
      "Evaluating\n"
     ]
    },
    {
     "name": "stderr",
     "output_type": "stream",
     "text": [
      "\n",
      " 18%|#8        | 10/55 [00:00<00:00, 98.90it/s]\u001b[A\n",
      " 31%|###       | 17/55 [00:00<00:00, 85.40it/s]\u001b[A\n",
      " 44%|####3     | 24/55 [00:00<00:00, 79.74it/s]\u001b[A\n",
      " 55%|#####4    | 30/55 [00:00<00:00, 71.43it/s]\u001b[A\n",
      " 69%|######9   | 38/55 [00:00<00:00, 73.10it/s]\u001b[A\n",
      " 84%|########3 | 46/55 [00:00<00:00, 75.04it/s]\u001b[A\n",
      " 88%|████████▊ | 550/628 [00:26<00:10,  7.62it/s]A"
     ]
    },
    {
     "name": "stdout",
     "output_type": "stream",
     "text": [
      "{'ade': 0.54281664, 'fde': 1.1717875}\n",
      "\t last loss:0.000264886, eval on validation:['ade: 0.54281664', 'fde: 1.1717875'], (best ade:0.53852004 at step 21600) \n"
     ]
    },
    {
     "name": "stderr",
     "output_type": "stream",
     "text": [
      "100%|██████████| 628/628 [00:29<00:00, 24.53it/s]\n",
      "  0%|          | 3/628 [00:00<00:26, 23.54it/s]"
     ]
    },
    {
     "name": "stdout",
     "output_type": "stream",
     "text": [
      "('Epoca 36.', 'lr:', 0.0001262269)\n"
     ]
    },
    {
     "name": "stderr",
     "output_type": "stream",
     "text": [
      " 35%|███▍      | 218/628 [00:08<00:16, 24.63it/s]\n",
      "  0%|          | 0/55 [00:00<?, ?it/s]"
     ]
    },
    {
     "name": "stdout",
     "output_type": "stream",
     "text": [
      "\tsaving model 22200...\n",
      "\tdone\n",
      "Evaluating\n"
     ]
    },
    {
     "name": "stderr",
     "output_type": "stream",
     "text": [
      "\u001b[A\n",
      " 16%|#6        | 9/55 [00:00<00:00, 88.04it/s]\u001b[A\n",
      " 29%|##9       | 16/55 [00:00<00:00, 77.60it/s]\u001b[A\n",
      " 42%|####1     | 23/55 [00:00<00:00, 70.97it/s]\u001b[A\n",
      " 55%|#####4    | 30/55 [00:00<00:00, 70.63it/s]\u001b[A\n",
      " 71%|#######   | 39/55 [00:00<00:00, 74.86it/s]\u001b[A\n",
      " 84%|########3 | 46/55 [00:00<00:00, 73.29it/s]\u001b[A\n",
      " 35%|███▌      | 221/628 [00:09<00:55,  7.37it/s]A"
     ]
    },
    {
     "name": "stdout",
     "output_type": "stream",
     "text": [
      "{'ade': 0.5544701, 'fde': 1.2000545}\n",
      "\t last loss:0.000612670, eval on validation:['ade: 0.5544701', 'fde: 1.2000545'], (best ade:0.53852004 at step 21600) \n"
     ]
    },
    {
     "name": "stderr",
     "output_type": "stream",
     "text": [
      " 82%|████████▏ | 518/628 [00:21<00:04, 26.65it/s]\n",
      "  0%|          | 0/55 [00:00<?, ?it/s]\u001b[A"
     ]
    },
    {
     "name": "stdout",
     "output_type": "stream",
     "text": [
      "\tsaving model 22500...\n",
      "\tdone\n",
      "Evaluating\n"
     ]
    },
    {
     "name": "stderr",
     "output_type": "stream",
     "text": [
      "\n",
      " 18%|#8        | 10/55 [00:00<00:00, 97.21it/s]\u001b[A\n",
      " 36%|###6      | 20/55 [00:00<00:00, 95.40it/s]\u001b[A\n",
      " 55%|#####4    | 30/55 [00:00<00:00, 93.71it/s]\u001b[A\n",
      " 73%|#######2  | 40/55 [00:00<00:00, 93.60it/s]\u001b[A\n",
      " 87%|########7 | 48/55 [00:00<00:00, 82.91it/s]\u001b[A\n",
      " 83%|████████▎ | 521/628 [00:22<00:13,  8.00it/s]A"
     ]
    },
    {
     "name": "stdout",
     "output_type": "stream",
     "text": [
      "{'ade': 0.5452926, 'fde': 1.1755615}\n",
      "\t last loss:0.000345718, eval on validation:['ade: 0.5452926', 'fde: 1.1755615'], (best ade:0.53852004 at step 21600) \n"
     ]
    },
    {
     "name": "stderr",
     "output_type": "stream",
     "text": [
      "100%|██████████| 628/628 [00:26<00:00, 23.29it/s]\n",
      "  0%|          | 1/628 [00:00<01:11,  8.80it/s]"
     ]
    },
    {
     "name": "stdout",
     "output_type": "stream",
     "text": [
      "('Epoca 37.', 'lr:', 0.00010729288)\n"
     ]
    },
    {
     "name": "stderr",
     "output_type": "stream",
     "text": [
      " 30%|███       | 190/628 [00:07<00:17, 25.68it/s]\n",
      "  0%|          | 0/55 [00:00<?, ?it/s]\u001b[A"
     ]
    },
    {
     "name": "stdout",
     "output_type": "stream",
     "text": [
      "\tsaving model 22800...\n",
      "\tdone\n",
      "Evaluating\n"
     ]
    },
    {
     "name": "stderr",
     "output_type": "stream",
     "text": [
      "\n",
      " 18%|#8        | 10/55 [00:00<00:00, 97.56it/s]\u001b[A\n",
      " 36%|###6      | 20/55 [00:00<00:00, 96.19it/s]\u001b[A\n",
      " 55%|#####4    | 30/55 [00:00<00:00, 94.97it/s]\u001b[A\n",
      " 67%|######7   | 37/55 [00:00<00:00, 81.72it/s]\u001b[A\n",
      " 82%|########1 | 45/55 [00:00<00:00, 79.76it/s]\u001b[A\n",
      " 96%|#########6| 53/55 [00:00<00:00, 78.53it/s]\u001b[A\n",
      " 31%|███       | 193/628 [00:08<00:54,  7.99it/s]A"
     ]
    },
    {
     "name": "stdout",
     "output_type": "stream",
     "text": [
      "{'ade': 0.54343754, 'fde': 1.1703869}\n",
      "\t last loss:0.000224950, eval on validation:['ade: 0.54343754', 'fde: 1.1703869'], (best ade:0.53852004 at step 21600) \n"
     ]
    },
    {
     "name": "stderr",
     "output_type": "stream",
     "text": [
      " 78%|███████▊  | 490/628 [00:20<00:05, 25.14it/s]\n",
      "  0%|          | 0/55 [00:00<?, ?it/s]\u001b[A"
     ]
    },
    {
     "name": "stdout",
     "output_type": "stream",
     "text": [
      "\tsaving model 23100...\n",
      "\tdone\n",
      "Evaluating\n"
     ]
    },
    {
     "name": "stderr",
     "output_type": "stream",
     "text": [
      "\n",
      " 16%|#6        | 9/55 [00:00<00:00, 88.23it/s]\u001b[A\n",
      " 33%|###2      | 18/55 [00:00<00:00, 87.13it/s]\u001b[A\n",
      " 45%|####5     | 25/55 [00:00<00:00, 76.76it/s]\u001b[A\n",
      " 58%|#####8    | 32/55 [00:00<00:00, 71.71it/s]\u001b[A\n",
      " 73%|#######2  | 40/55 [00:00<00:00, 72.68it/s]\u001b[A\n",
      " 89%|########9 | 49/55 [00:00<00:00, 75.61it/s]\u001b[A\n",
      "100%|##########| 55/55 [00:00<00:00, 75.96it/s]\u001b[A"
     ]
    },
    {
     "name": "stdout",
     "output_type": "stream",
     "text": [
      "{'ade': 0.53631544, 'fde': 1.1502585}\n",
      "\t last loss:0.000457387, eval on validation:['ade: 0.53631544', 'fde: 1.1502585'], (best ade:0.53852004 at step 21600) \n",
      "\t saving best model...\n",
      "\t done.\n"
     ]
    },
    {
     "name": "stderr",
     "output_type": "stream",
     "text": [
      "100%|██████████| 628/628 [00:26<00:00, 26.90it/s]\n",
      "  0%|          | 3/628 [00:00<00:23, 26.05it/s]"
     ]
    },
    {
     "name": "stdout",
     "output_type": "stream",
     "text": [
      "('Epoca 38.', 'lr:', 0.00010729288)\n"
     ]
    },
    {
     "name": "stderr",
     "output_type": "stream",
     "text": [
      " 26%|██▌       | 162/628 [00:06<00:17, 26.82it/s]\n",
      "  0%|          | 0/55 [00:00<?, ?it/s]\u001b[A"
     ]
    },
    {
     "name": "stdout",
     "output_type": "stream",
     "text": [
      "\tsaving model 23400...\n",
      "\tdone\n",
      "Evaluating\n"
     ]
    },
    {
     "name": "stderr",
     "output_type": "stream",
     "text": [
      "\n",
      " 18%|#8        | 10/55 [00:00<00:00, 96.95it/s]\u001b[A\n",
      " 31%|###       | 17/55 [00:00<00:00, 86.80it/s]\u001b[A\n",
      " 45%|####5     | 25/55 [00:00<00:00, 81.57it/s]\u001b[A\n",
      " 58%|#####8    | 32/55 [00:00<00:00, 76.48it/s]\u001b[A\n",
      " 76%|#######6  | 42/55 [00:00<00:00, 79.93it/s]\u001b[A\n",
      " 93%|#########2| 51/55 [00:00<00:00, 81.31it/s]\u001b[A\n",
      " 27%|██▋       | 168/628 [00:07<00:45, 10.06it/s]A"
     ]
    },
    {
     "name": "stdout",
     "output_type": "stream",
     "text": [
      "{'ade': 0.5420997, 'fde': 1.1670339}\n",
      "\t last loss:0.000775390, eval on validation:['ade: 0.5420997', 'fde: 1.1670339'], (best ade:0.53631544 at step 23100) \n"
     ]
    },
    {
     "name": "stderr",
     "output_type": "stream",
     "text": [
      " 74%|███████▎  | 462/628 [00:19<00:06, 25.16it/s]"
     ]
    },
    {
     "name": "stdout",
     "output_type": "stream",
     "text": [
      "\tsaving model 23700...\n"
     ]
    },
    {
     "name": "stderr",
     "output_type": "stream",
     "text": [
      "\n",
      "  0%|          | 0/55 [00:00<?, ?it/s]\u001b[A\n",
      " 16%|#6        | 9/55 [00:00<00:00, 87.86it/s]\u001b[A"
     ]
    },
    {
     "name": "stdout",
     "output_type": "stream",
     "text": [
      "\tdone\n",
      "Evaluating\n"
     ]
    },
    {
     "name": "stderr",
     "output_type": "stream",
     "text": [
      "\n",
      " 31%|###       | 17/55 [00:00<00:00, 84.06it/s]\u001b[A\n",
      " 44%|####3     | 24/55 [00:00<00:00, 76.42it/s]\u001b[A\n",
      " 55%|#####4    | 30/55 [00:00<00:00, 68.57it/s]\u001b[A\n",
      " 67%|######7   | 37/55 [00:00<00:00, 64.82it/s]\u001b[A\n",
      " 80%|########  | 44/55 [00:00<00:00, 65.78it/s]\u001b[A\n",
      " 96%|#########6| 53/55 [00:00<00:00, 70.67it/s]\u001b[A\n",
      " 74%|███████▍  | 465/628 [00:20<00:22,  7.15it/s]A"
     ]
    },
    {
     "name": "stdout",
     "output_type": "stream",
     "text": [
      "{'ade': 0.5469009, 'fde': 1.1834829}\n",
      "\t last loss:0.000435001, eval on validation:['ade: 0.5469009', 'fde: 1.1834829'], (best ade:0.53631544 at step 23100) \n"
     ]
    },
    {
     "name": "stderr",
     "output_type": "stream",
     "text": [
      "100%|██████████| 628/628 [00:26<00:00, 23.49it/s]\n",
      "  0%|          | 1/628 [00:00<01:09,  9.08it/s]"
     ]
    },
    {
     "name": "stdout",
     "output_type": "stream",
     "text": [
      "('Epoca 39.', 'lr:', 9.119895e-05)\n"
     ]
    },
    {
     "name": "stderr",
     "output_type": "stream",
     "text": [
      " 21%|██        | 133/628 [00:05<00:18, 26.85it/s]\n",
      "  0%|          | 0/55 [00:00<?, ?it/s]\u001b[A"
     ]
    },
    {
     "name": "stdout",
     "output_type": "stream",
     "text": [
      "\tsaving model 24000...\n",
      "\tdone\n",
      "Evaluating\n"
     ]
    },
    {
     "name": "stderr",
     "output_type": "stream",
     "text": [
      "\n",
      " 18%|#8        | 10/55 [00:00<00:00, 89.07it/s]\u001b[A\n",
      " 35%|###4      | 19/55 [00:00<00:00, 88.13it/s]\u001b[A\n",
      " 49%|####9     | 27/55 [00:00<00:00, 84.67it/s]\u001b[A\n",
      " 67%|######7   | 37/55 [00:00<00:00, 87.33it/s]\u001b[A\n",
      " 85%|########5 | 47/55 [00:00<00:00, 88.45it/s]\u001b[A\n",
      " 22%|██▏       | 139/628 [00:06<00:47, 10.27it/s]A"
     ]
    },
    {
     "name": "stdout",
     "output_type": "stream",
     "text": [
      "{'ade': 0.5428106, 'fde': 1.1702085}\n",
      "\t last loss:0.000256140, eval on validation:['ade: 0.5428106', 'fde: 1.1702085'], (best ade:0.53631544 at step 23100) \n"
     ]
    },
    {
     "name": "stderr",
     "output_type": "stream",
     "text": [
      " 69%|██████▉   | 433/628 [00:17<00:07, 25.08it/s]\n",
      "  0%|          | 0/55 [00:00<?, ?it/s]\u001b[A"
     ]
    },
    {
     "name": "stdout",
     "output_type": "stream",
     "text": [
      "\tsaving model 24300...\n",
      "\tdone\n",
      "Evaluating\n"
     ]
    },
    {
     "name": "stderr",
     "output_type": "stream",
     "text": [
      "\n",
      " 18%|#8        | 10/55 [00:00<00:00, 96.95it/s]\u001b[A\n",
      " 33%|###2      | 18/55 [00:00<00:00, 91.12it/s]\u001b[A\n",
      " 47%|####7     | 26/55 [00:00<00:00, 84.60it/s]\u001b[A\n",
      " 58%|#####8    | 32/55 [00:00<00:00, 73.91it/s]\u001b[A\n",
      " 75%|#######4  | 41/55 [00:00<00:00, 77.17it/s]\u001b[A\n",
      " 91%|######### | 50/55 [00:00<00:00, 78.73it/s]\u001b[A\n",
      "100%|##########| 55/55 [00:00<00:00, 79.86it/s]\u001b[A"
     ]
    },
    {
     "name": "stdout",
     "output_type": "stream",
     "text": [
      "{'ade': 0.53389055, 'fde': 1.1448239}\n",
      "\t last loss:0.000421864, eval on validation:['ade: 0.53389055', 'fde: 1.1448239'], (best ade:0.53631544 at step 23100) \n",
      "\t saving best model...\n",
      "\t done.\n"
     ]
    },
    {
     "name": "stderr",
     "output_type": "stream",
     "text": [
      "100%|██████████| 628/628 [00:27<00:00, 22.49it/s]\n",
      "  0%|          | 1/628 [00:00<01:14,  8.36it/s]"
     ]
    },
    {
     "name": "stdout",
     "output_type": "stream",
     "text": [
      "('Epoca 40.', 'lr:', 9.119895e-05)\n"
     ]
    },
    {
     "name": "stderr",
     "output_type": "stream",
     "text": [
      " 17%|█▋        | 107/628 [00:04<00:22, 22.68it/s]"
     ]
    },
    {
     "name": "stdout",
     "output_type": "stream",
     "text": [
      "\tsaving model 24600...\n"
     ]
    },
    {
     "name": "stderr",
     "output_type": "stream",
     "text": [
      "\n",
      "  0%|          | 0/55 [00:00<?, ?it/s]\u001b[A\n",
      " 16%|#6        | 9/55 [00:00<00:00, 81.35it/s]\u001b[A"
     ]
    },
    {
     "name": "stdout",
     "output_type": "stream",
     "text": [
      "\tdone\n",
      "Evaluating\n"
     ]
    },
    {
     "name": "stderr",
     "output_type": "stream",
     "text": [
      "\n",
      " 27%|##7       | 15/55 [00:00<00:00, 69.76it/s]\u001b[A\n",
      " 38%|###8      | 21/55 [00:00<00:00, 64.75it/s]\u001b[A\n",
      " 49%|####9     | 27/55 [00:00<00:00, 62.94it/s]\u001b[A\n",
      " 62%|######1   | 34/55 [00:00<00:00, 62.57it/s]\u001b[A\n",
      " 76%|#######6  | 42/55 [00:00<00:00, 65.40it/s]\u001b[A\n",
      " 91%|######### | 50/55 [00:00<00:00, 68.13it/s]\u001b[A\n",
      " 18%|█▊        | 110/628 [00:06<01:17,  6.68it/s]A"
     ]
    },
    {
     "name": "stdout",
     "output_type": "stream",
     "text": [
      "{'ade': 0.53926665, 'fde': 1.1583835}\n",
      "\t last loss:0.000592872, eval on validation:['ade: 0.53926665', 'fde: 1.1583835'], (best ade:0.53389055 at step 24300) \n"
     ]
    },
    {
     "name": "stderr",
     "output_type": "stream",
     "text": [
      " 65%|██████▍   | 407/628 [00:21<00:10, 20.15it/s]"
     ]
    },
    {
     "name": "stdout",
     "output_type": "stream",
     "text": [
      "\tsaving model 24900...\n",
      "\tdone\n",
      "Evaluating\n"
     ]
    },
    {
     "name": "stderr",
     "output_type": "stream",
     "text": [
      "\n",
      "  0%|          | 0/55 [00:00<?, ?it/s]\u001b[A\n",
      " 11%|#         | 6/55 [00:00<00:00, 51.58it/s]\u001b[A\n",
      " 20%|##        | 11/55 [00:00<00:00, 49.79it/s]\u001b[A\n",
      " 35%|###4      | 19/55 [00:00<00:00, 55.99it/s]\u001b[A\n",
      " 53%|#####2    | 29/55 [00:00<00:00, 63.55it/s]\u001b[A\n",
      " 71%|#######   | 39/55 [00:00<00:00, 70.54it/s]\u001b[A\n",
      " 89%|########9 | 49/55 [00:00<00:00, 75.86it/s]\u001b[A\n",
      " 65%|██████▌   | 410/628 [00:22<00:30,  7.13it/s]A"
     ]
    },
    {
     "name": "stdout",
     "output_type": "stream",
     "text": [
      "{'ade': 0.5420669, 'fde': 1.1659408}\n",
      "\t last loss:0.000291232, eval on validation:['ade: 0.5420669', 'fde: 1.1659408'], (best ade:0.53389055 at step 24300) \n"
     ]
    },
    {
     "name": "stderr",
     "output_type": "stream",
     "text": [
      "100%|██████████| 628/628 [00:33<00:00, 22.69it/s]\n",
      "  0%|          | 1/628 [00:00<01:15,  8.28it/s]"
     ]
    },
    {
     "name": "stdout",
     "output_type": "stream",
     "text": [
      "('Epoca 41.', 'lr:', 7.751911e-05)\n"
     ]
    },
    {
     "name": "stderr",
     "output_type": "stream",
     "text": [
      " 13%|█▎        | 79/628 [00:03<00:37, 14.80it/s]\n",
      "  0%|          | 0/55 [00:00<?, ?it/s]\u001b[A"
     ]
    },
    {
     "name": "stdout",
     "output_type": "stream",
     "text": [
      "\tsaving model 25200...\n",
      "\tdone\n",
      "Evaluating\n"
     ]
    },
    {
     "name": "stderr",
     "output_type": "stream",
     "text": [
      "\n",
      " 18%|#8        | 10/55 [00:00<00:00, 90.93it/s]\u001b[A\n",
      " 27%|##7       | 15/55 [00:00<00:00, 70.68it/s]\u001b[A\n",
      " 40%|####      | 22/55 [00:00<00:00, 66.02it/s]\u001b[A\n",
      " 51%|#####     | 28/55 [00:00<00:00, 63.93it/s]\u001b[A\n",
      " 60%|######    | 33/55 [00:00<00:00, 57.01it/s]\u001b[A\n",
      " 75%|#######4  | 41/55 [00:00<00:00, 61.50it/s]\u001b[A\n",
      " 93%|#########2| 51/55 [00:00<00:00, 68.14it/s]\u001b[A\n",
      " 13%|█▎        | 81/628 [00:04<01:55,  4.72it/s][A"
     ]
    },
    {
     "name": "stdout",
     "output_type": "stream",
     "text": [
      "{'ade': 0.5414055, 'fde': 1.1676669}\n",
      "\t last loss:0.000470457, eval on validation:['ade: 0.5414055', 'fde: 1.1676669'], (best ade:0.53389055 at step 24300) \n"
     ]
    },
    {
     "name": "stderr",
     "output_type": "stream",
     "text": [
      " 60%|██████    | 378/628 [00:19<00:10, 24.82it/s]\n"
     ]
    },
    {
     "name": "stdout",
     "output_type": "stream",
     "text": [
      "\tsaving model 25500...\n",
      "\tdone\n",
      "Evaluating\n"
     ]
    },
    {
     "name": "stderr",
     "output_type": "stream",
     "text": [
      "  0%|          | 0/55 [00:00<?, ?it/s]\u001b[A\n",
      " 11%|#         | 6/55 [00:00<00:00, 58.40it/s]\u001b[A\n",
      " 25%|##5       | 14/55 [00:00<00:00, 63.03it/s]\u001b[A\n",
      " 40%|####      | 22/55 [00:00<00:00, 65.23it/s]\u001b[A\n",
      " 51%|#####     | 28/55 [00:00<00:00, 63.52it/s]\u001b[A\n",
      " 62%|######1   | 34/55 [00:00<00:00, 61.95it/s]\u001b[A\n",
      " 76%|#######6  | 42/55 [00:00<00:00, 65.56it/s]\u001b[A\n",
      " 93%|#########2| 51/55 [00:00<00:00, 71.12it/s]\u001b[A\n",
      " 61%|██████    | 381/628 [00:20<00:34,  7.11it/s]A"
     ]
    },
    {
     "name": "stdout",
     "output_type": "stream",
     "text": [
      "{'ade': 0.5389724, 'fde': 1.1578103}\n",
      "\t last loss:0.000293143, eval on validation:['ade: 0.5389724', 'fde: 1.1578103'], (best ade:0.53389055 at step 24300) \n"
     ]
    },
    {
     "name": "stderr",
     "output_type": "stream",
     "text": [
      "100%|██████████| 628/628 [00:37<00:00, 15.53it/s]\n",
      "  0%|          | 2/628 [00:00<00:32, 19.24it/s]"
     ]
    },
    {
     "name": "stdout",
     "output_type": "stream",
     "text": [
      "('Epoca 42.', 'lr:', 7.751911e-05)\n"
     ]
    },
    {
     "name": "stderr",
     "output_type": "stream",
     "text": [
      "  8%|▊         | 51/628 [00:02<00:29, 19.42it/s]"
     ]
    },
    {
     "name": "stdout",
     "output_type": "stream",
     "text": [
      "\tsaving model 25800...\n"
     ]
    },
    {
     "name": "stderr",
     "output_type": "stream",
     "text": [
      "\n",
      "  0%|          | 0/55 [00:00<?, ?it/s]\u001b[A\n",
      " 15%|#4        | 8/55 [00:00<00:00, 77.90it/s]\u001b[A"
     ]
    },
    {
     "name": "stdout",
     "output_type": "stream",
     "text": [
      "\tdone\n",
      "Evaluating\n"
     ]
    },
    {
     "name": "stderr",
     "output_type": "stream",
     "text": [
      "\n",
      " 29%|##9       | 16/55 [00:00<00:00, 78.11it/s]\u001b[A\n",
      " 40%|####      | 22/55 [00:00<00:00, 69.40it/s]\u001b[A\n",
      " 49%|####9     | 27/55 [00:00<00:00, 59.64it/s]\u001b[A\n",
      " 58%|#####8    | 32/55 [00:00<00:00, 52.77it/s]\u001b[A\n",
      " 67%|######7   | 37/55 [00:00<00:00, 51.69it/s]\u001b[A\n",
      " 80%|########  | 44/55 [00:00<00:00, 55.77it/s]\u001b[A\n",
      " 96%|#########6| 53/55 [00:00<00:00, 61.68it/s]\u001b[A\n",
      "  8%|▊         | 53/628 [00:03<02:04,  4.63it/s][A"
     ]
    },
    {
     "name": "stdout",
     "output_type": "stream",
     "text": [
      "{'ade': 0.53910196, 'fde': 1.1603403}\n",
      "\t last loss:0.000388317, eval on validation:['ade: 0.53910196', 'fde: 1.1603403'], (best ade:0.53389055 at step 24300) \n"
     ]
    },
    {
     "name": "stderr",
     "output_type": "stream",
     "text": [
      " 56%|█████▌    | 350/628 [00:21<00:10, 26.11it/s]\n",
      "  0%|          | 0/55 [00:00<?, ?it/s]\u001b[A"
     ]
    },
    {
     "name": "stdout",
     "output_type": "stream",
     "text": [
      "\tsaving model 26100...\n",
      "\tdone\n",
      "Evaluating\n"
     ]
    },
    {
     "name": "stderr",
     "output_type": "stream",
     "text": [
      "\n",
      " 18%|#8        | 10/55 [00:00<00:00, 96.38it/s]\u001b[A\n",
      " 36%|###6      | 20/55 [00:00<00:00, 95.98it/s]\u001b[A\n",
      " 53%|#####2    | 29/55 [00:00<00:00, 92.83it/s]\u001b[A\n",
      " 65%|######5   | 36/55 [00:00<00:00, 83.57it/s]\u001b[A\n",
      " 78%|#######8  | 43/55 [00:00<00:00, 74.74it/s]\u001b[A\n",
      " 93%|#########2| 51/55 [00:00<00:00, 74.18it/s]\u001b[A\n",
      " 56%|█████▌    | 353/628 [00:22<00:35,  7.77it/s]A"
     ]
    },
    {
     "name": "stdout",
     "output_type": "stream",
     "text": [
      "{'ade': 0.5386867, 'fde': 1.1576858}\n",
      "\t last loss:0.000345591, eval on validation:['ade: 0.5386867', 'fde: 1.1576858'], (best ade:0.53389055 at step 24300) \n"
     ]
    },
    {
     "name": "stderr",
     "output_type": "stream",
     "text": [
      "100%|██████████| 628/628 [00:33<00:00, 18.93it/s]\n",
      "  0%|          | 1/628 [00:00<01:07,  9.25it/s]"
     ]
    },
    {
     "name": "stdout",
     "output_type": "stream",
     "text": [
      "('Epoca 43.', 'lr:', 6.589125e-05)\n"
     ]
    },
    {
     "name": "stderr",
     "output_type": "stream",
     "text": [
      "  4%|▎         | 22/628 [00:00<00:27, 21.92it/s]\n",
      "  0%|          | 0/55 [00:00<?, ?it/s]\u001b[A"
     ]
    },
    {
     "name": "stdout",
     "output_type": "stream",
     "text": [
      "\tsaving model 26400...\n",
      "\tdone\n",
      "Evaluating\n"
     ]
    },
    {
     "name": "stderr",
     "output_type": "stream",
     "text": [
      "\n",
      " 16%|#6        | 9/55 [00:00<00:00, 88.21it/s]\u001b[A\n",
      " 31%|###       | 17/55 [00:00<00:00, 79.90it/s]\u001b[A\n",
      " 44%|####3     | 24/55 [00:00<00:00, 74.29it/s]\u001b[A\n",
      " 53%|#####2    | 29/55 [00:00<00:00, 61.44it/s]\u001b[A\n",
      " 65%|######5   | 36/55 [00:00<00:00, 63.74it/s]\u001b[A\n",
      " 80%|########  | 44/55 [00:00<00:00, 66.34it/s]\u001b[A\n",
      " 95%|#########4| 52/55 [00:00<00:00, 69.68it/s]\u001b[A\n",
      "  4%|▍         | 25/628 [00:02<01:26,  6.94it/s][A"
     ]
    },
    {
     "name": "stdout",
     "output_type": "stream",
     "text": [
      "{'ade': 0.54309505, 'fde': 1.1713202}\n",
      "\t last loss:0.000449015, eval on validation:['ade: 0.54309505', 'fde: 1.1713202'], (best ade:0.53389055 at step 24300) \n"
     ]
    },
    {
     "name": "stderr",
     "output_type": "stream",
     "text": [
      " 51%|█████▏    | 322/628 [00:15<00:21, 14.11it/s]"
     ]
    },
    {
     "name": "stdout",
     "output_type": "stream",
     "text": [
      "\tsaving model 26700...\n"
     ]
    },
    {
     "name": "stderr",
     "output_type": "stream",
     "text": [
      "\n",
      "  0%|          | 0/55 [00:00<?, ?it/s]\u001b[A\n",
      " 11%|#         | 6/55 [00:00<00:00, 56.88it/s]\u001b[A"
     ]
    },
    {
     "name": "stdout",
     "output_type": "stream",
     "text": [
      "\tdone\n",
      "Evaluating\n"
     ]
    },
    {
     "name": "stderr",
     "output_type": "stream",
     "text": [
      "\n",
      " 22%|##1       | 12/55 [00:00<00:00, 55.32it/s]\u001b[A\n",
      " 33%|###2      | 18/55 [00:00<00:00, 54.09it/s]\u001b[A\n",
      " 42%|####1     | 23/55 [00:00<00:00, 52.54it/s]\u001b[A\n",
      " 55%|#####4    | 30/55 [00:00<00:00, 56.56it/s]\u001b[A\n",
      " 69%|######9   | 38/55 [00:00<00:00, 61.52it/s]\u001b[A\n",
      " 84%|########3 | 46/55 [00:00<00:00, 65.48it/s]\u001b[A\n",
      " 96%|#########6| 53/55 [00:00<00:00, 66.30it/s]\u001b[A\n",
      " 52%|█████▏    | 327/628 [00:16<00:54,  5.56it/s]A"
     ]
    },
    {
     "name": "stdout",
     "output_type": "stream",
     "text": [
      "{'ade': 0.5405691, 'fde': 1.1650724}\n",
      "\t last loss:0.000533243, eval on validation:['ade: 0.5405691', 'fde: 1.1650724'], (best ade:0.53389055 at step 24300) \n"
     ]
    },
    {
     "name": "stderr",
     "output_type": "stream",
     "text": [
      " 99%|█████████▉| 621/628 [00:28<00:00, 25.17it/s]\n",
      "  0%|          | 0/55 [00:00<?, ?it/s]\u001b[A"
     ]
    },
    {
     "name": "stdout",
     "output_type": "stream",
     "text": [
      "\tsaving model 27000...\n",
      "\tdone\n",
      "Evaluating\n"
     ]
    },
    {
     "name": "stderr",
     "output_type": "stream",
     "text": [
      "\n",
      " 16%|#6        | 9/55 [00:00<00:00, 85.86it/s]\u001b[A\n",
      " 27%|##7       | 15/55 [00:00<00:00, 72.74it/s]\u001b[A\n",
      " 38%|###8      | 21/55 [00:00<00:00, 67.47it/s]\u001b[A\n",
      " 51%|#####     | 28/55 [00:00<00:00, 66.99it/s]\u001b[A\n",
      " 67%|######7   | 37/55 [00:00<00:00, 71.71it/s]\u001b[A\n",
      " 82%|########1 | 45/55 [00:00<00:00, 72.16it/s]\u001b[A\n",
      " 98%|#########8| 54/55 [00:00<00:00, 75.92it/s]\u001b[A\n",
      "100%|█████████▉| 626/628 [00:29<00:00,  8.55it/s]A"
     ]
    },
    {
     "name": "stdout",
     "output_type": "stream",
     "text": [
      "{'ade': 0.5407548, 'fde': 1.1676965}\n",
      "\t last loss:0.000436797, eval on validation:['ade: 0.5407548', 'fde: 1.1676965'], (best ade:0.53389055 at step 24300) \n"
     ]
    },
    {
     "name": "stderr",
     "output_type": "stream",
     "text": [
      "100%|██████████| 628/628 [00:29<00:00, 10.17it/s]\n",
      "  0%|          | 2/628 [00:00<00:39, 15.69it/s]"
     ]
    },
    {
     "name": "stdout",
     "output_type": "stream",
     "text": [
      "('Epoca 44.', 'lr:', 6.589125e-05)\n"
     ]
    },
    {
     "name": "stderr",
     "output_type": "stream",
     "text": [
      " 47%|████▋     | 293/628 [00:11<00:12, 26.43it/s]\n",
      "  0%|          | 0/55 [00:00<?, ?it/s]\u001b[A"
     ]
    },
    {
     "name": "stdout",
     "output_type": "stream",
     "text": [
      "\tsaving model 27300...\n",
      "\tdone\n",
      "Evaluating\n"
     ]
    },
    {
     "name": "stderr",
     "output_type": "stream",
     "text": [
      "\n",
      " 18%|#8        | 10/55 [00:00<00:00, 97.66it/s]\u001b[A\n",
      " 33%|###2      | 18/55 [00:00<00:00, 89.94it/s]\u001b[A\n",
      " 47%|####7     | 26/55 [00:00<00:00, 85.43it/s]\u001b[A\n",
      " 58%|#####8    | 32/55 [00:00<00:00, 75.40it/s]\u001b[A\n",
      " 75%|#######4  | 41/55 [00:00<00:00, 78.46it/s]\u001b[A\n",
      " 93%|#########2| 51/55 [00:00<00:00, 82.79it/s]\u001b[A\n",
      " 48%|████▊     | 299/628 [00:12<00:32,  9.98it/s]A"
     ]
    },
    {
     "name": "stdout",
     "output_type": "stream",
     "text": [
      "{'ade': 0.5393246, 'fde': 1.1583424}\n",
      "\t last loss:0.000277124, eval on validation:['ade: 0.5393246', 'fde: 1.1583424'], (best ade:0.53389055 at step 24300) \n"
     ]
    },
    {
     "name": "stderr",
     "output_type": "stream",
     "text": [
      " 94%|█████████▍| 593/628 [00:24<00:01, 24.71it/s]\n",
      "  0%|          | 0/55 [00:00<?, ?it/s]\u001b[A"
     ]
    },
    {
     "name": "stdout",
     "output_type": "stream",
     "text": [
      "\tsaving model 27600...\n",
      "\tdone\n",
      "Evaluating\n"
     ]
    },
    {
     "name": "stderr",
     "output_type": "stream",
     "text": [
      "\n",
      " 18%|#8        | 10/55 [00:00<00:00, 90.13it/s]\u001b[A\n",
      " 31%|###       | 17/55 [00:00<00:00, 81.26it/s]\u001b[A\n",
      " 44%|####3     | 24/55 [00:00<00:00, 77.50it/s]\u001b[A\n",
      " 55%|#####4    | 30/55 [00:00<00:00, 70.66it/s]\u001b[A\n",
      " 69%|######9   | 38/55 [00:00<00:00, 71.17it/s]\u001b[A\n",
      " 85%|########5 | 47/55 [00:00<00:00, 75.44it/s]\u001b[A\n",
      " 95%|█████████▌| 599/628 [00:25<00:03,  9.52it/s]A"
     ]
    },
    {
     "name": "stdout",
     "output_type": "stream",
     "text": [
      "{'ade': 0.54287404, 'fde': 1.1716416}\n",
      "\t last loss:0.000518649, eval on validation:['ade: 0.54287404', 'fde: 1.1716416'], (best ade:0.53389055 at step 24300) \n"
     ]
    },
    {
     "name": "stderr",
     "output_type": "stream",
     "text": [
      "100%|██████████| 628/628 [00:26<00:00, 23.48it/s]\n",
      "  0%|          | 1/628 [00:00<01:07,  9.35it/s]"
     ]
    },
    {
     "name": "stdout",
     "output_type": "stream",
     "text": [
      "('Epoca 45.', 'lr:', 5.600756e-05)\n"
     ]
    },
    {
     "name": "stderr",
     "output_type": "stream",
     "text": [
      " 42%|████▏     | 266/628 [00:11<00:18, 19.99it/s]"
     ]
    },
    {
     "name": "stdout",
     "output_type": "stream",
     "text": [
      "\tsaving model 27900...\n"
     ]
    },
    {
     "name": "stderr",
     "output_type": "stream",
     "text": [
      "\n",
      "  0%|          | 0/55 [00:00<?, ?it/s]\u001b[A\n",
      " 16%|#6        | 9/55 [00:00<00:00, 88.34it/s]\u001b[A\n",
      " 33%|###2      | 18/55 [00:00<00:00, 87.73it/s]\u001b[A\n",
      " 47%|####7     | 26/55 [00:00<00:00, 82.96it/s]\u001b[A\n",
      " 60%|######    | 33/55 [00:00<00:00, 77.13it/s]\u001b[A\n",
      " 75%|#######4  | 41/55 [00:00<00:00, 77.09it/s]\u001b[A\n",
      " 91%|######### | 50/55 [00:00<00:00, 79.45it/s]\u001b[A\n",
      " 43%|████▎     | 269/628 [00:12<00:49,  7.19it/s]A"
     ]
    },
    {
     "name": "stdout",
     "output_type": "stream",
     "text": [
      "\tdone\n",
      "Evaluating\n",
      "{'ade': 0.5406798, 'fde': 1.1652595}\n",
      "\t last loss:0.000557465, eval on validation:['ade: 0.5406798', 'fde: 1.1652595'], (best ade:0.53389055 at step 24300) \n"
     ]
    },
    {
     "name": "stderr",
     "output_type": "stream",
     "text": [
      " 90%|█████████ | 566/628 [00:24<00:02, 26.85it/s]\n",
      "  0%|          | 0/55 [00:00<?, ?it/s]\u001b[A"
     ]
    },
    {
     "name": "stdout",
     "output_type": "stream",
     "text": [
      "\tsaving model 28200...\n",
      "\tdone\n",
      "Evaluating\n"
     ]
    },
    {
     "name": "stderr",
     "output_type": "stream",
     "text": [
      "\n",
      " 18%|#8        | 10/55 [00:00<00:00, 96.89it/s]\u001b[A\n",
      " 33%|###2      | 18/55 [00:00<00:00, 90.76it/s]\u001b[A\n",
      " 45%|####5     | 25/55 [00:00<00:00, 83.21it/s]\u001b[A\n",
      " 58%|#####8    | 32/55 [00:00<00:00, 76.04it/s]\u001b[A\n",
      " 75%|#######4  | 41/55 [00:00<00:00, 78.72it/s]\u001b[A\n",
      " 89%|########9 | 49/55 [00:00<00:00, 78.06it/s]\u001b[A\n",
      " 91%|█████████ | 572/628 [00:25<00:05,  9.88it/s]A"
     ]
    },
    {
     "name": "stdout",
     "output_type": "stream",
     "text": [
      "{'ade': 0.5367049, 'fde': 1.152378}\n",
      "\t last loss:0.000415170, eval on validation:['ade: 0.5367049', 'fde: 1.152378'], (best ade:0.53389055 at step 24300) \n"
     ]
    },
    {
     "name": "stderr",
     "output_type": "stream",
     "text": [
      "100%|██████████| 628/628 [00:27<00:00, 22.62it/s]\n",
      "  0%|          | 1/628 [00:00<01:14,  8.43it/s]"
     ]
    },
    {
     "name": "stdout",
     "output_type": "stream",
     "text": [
      "('Epoca 46.', 'lr:', 5.600756e-05)\n"
     ]
    },
    {
     "name": "stderr",
     "output_type": "stream",
     "text": [
      " 38%|███▊      | 238/628 [00:09<00:15, 25.03it/s]\n"
     ]
    },
    {
     "name": "stdout",
     "output_type": "stream",
     "text": [
      "\tsaving model 28500...\n",
      "\tdone\n",
      "Evaluating\n"
     ]
    },
    {
     "name": "stderr",
     "output_type": "stream",
     "text": [
      "  0%|          | 0/55 [00:00<?, ?it/s]\u001b[A\n",
      " 16%|#6        | 9/55 [00:00<00:00, 83.99it/s]\u001b[A\n",
      " 27%|##7       | 15/55 [00:00<00:00, 73.66it/s]\u001b[A\n",
      " 40%|####      | 22/55 [00:00<00:00, 71.39it/s]\u001b[A\n",
      " 51%|#####     | 28/55 [00:00<00:00, 66.44it/s]\u001b[A\n",
      " 67%|######7   | 37/55 [00:00<00:00, 71.40it/s]\u001b[A\n",
      " 82%|########1 | 45/55 [00:00<00:00, 72.57it/s]\u001b[A\n",
      " 95%|#########4| 52/55 [00:00<00:00, 68.86it/s]\u001b[A\n",
      " 38%|███▊      | 241/628 [00:10<00:56,  6.90it/s]A"
     ]
    },
    {
     "name": "stdout",
     "output_type": "stream",
     "text": [
      "{'ade': 0.54244584, 'fde': 1.1700915}\n",
      "\t last loss:0.000477965, eval on validation:['ade: 0.54244584', 'fde: 1.1700915'], (best ade:0.53389055 at step 24300) \n"
     ]
    },
    {
     "name": "stderr",
     "output_type": "stream",
     "text": [
      " 86%|████████▌ | 538/628 [00:23<00:04, 18.33it/s]\n",
      "  0%|          | 0/55 [00:00<?, ?it/s]\u001b[A"
     ]
    },
    {
     "name": "stdout",
     "output_type": "stream",
     "text": [
      "\tsaving model 28800...\n",
      "\tdone\n",
      "Evaluating\n"
     ]
    },
    {
     "name": "stderr",
     "output_type": "stream",
     "text": [
      "\n",
      " 16%|#6        | 9/55 [00:00<00:00, 88.40it/s]\u001b[A\n",
      " 29%|##9       | 16/55 [00:00<00:00, 81.03it/s]\u001b[A\n",
      " 42%|####1     | 23/55 [00:00<00:00, 74.54it/s]\u001b[A\n",
      " 53%|#####2    | 29/55 [00:00<00:00, 67.51it/s]\u001b[A\n",
      " 67%|######7   | 37/55 [00:00<00:00, 69.76it/s]\u001b[A\n",
      " 80%|########  | 44/55 [00:00<00:00, 69.39it/s]\u001b[A\n",
      " 96%|#########6| 53/55 [00:00<00:00, 73.92it/s]\u001b[A\n",
      " 87%|████████▋ | 544/628 [00:24<00:09,  8.70it/s]A"
     ]
    },
    {
     "name": "stdout",
     "output_type": "stream",
     "text": [
      "{'ade': 0.53839374, 'fde': 1.1556436}\n",
      "\t last loss:0.000512953, eval on validation:['ade: 0.53839374', 'fde: 1.1556436'], (best ade:0.53389055 at step 24300) \n"
     ]
    },
    {
     "name": "stderr",
     "output_type": "stream",
     "text": [
      "100%|██████████| 628/628 [00:28<00:00, 20.82it/s]\n",
      "  0%|          | 1/628 [00:00<01:03,  9.88it/s]"
     ]
    },
    {
     "name": "stdout",
     "output_type": "stream",
     "text": [
      "('Epoca 47.', 'lr:', 4.7606427e-05)\n"
     ]
    },
    {
     "name": "stderr",
     "output_type": "stream",
     "text": [
      " 33%|███▎      | 209/628 [00:09<00:16, 25.06it/s]"
     ]
    },
    {
     "name": "stdout",
     "output_type": "stream",
     "text": [
      "\tsaving model 29100...\n",
      "\tdone\n",
      "Evaluating\n"
     ]
    },
    {
     "name": "stderr",
     "output_type": "stream",
     "text": [
      "\n",
      "  0%|          | 0/55 [00:00<?, ?it/s]\u001b[A\n",
      " 13%|#2        | 7/55 [00:00<00:00, 69.27it/s]\u001b[A\n",
      " 24%|##3       | 13/55 [00:00<00:00, 65.63it/s]\u001b[A\n",
      " 36%|###6      | 20/55 [00:00<00:00, 65.74it/s]\u001b[A\n",
      " 47%|####7     | 26/55 [00:00<00:00, 62.72it/s]\u001b[A\n",
      " 64%|######3   | 35/55 [00:00<00:00, 67.72it/s]\u001b[A\n",
      " 78%|#######8  | 43/55 [00:00<00:00, 69.29it/s]\u001b[A\n",
      " 95%|#########4| 52/55 [00:00<00:00, 73.38it/s]\u001b[A\n",
      " 34%|███▍      | 215/628 [00:10<00:45,  9.13it/s]A"
     ]
    },
    {
     "name": "stdout",
     "output_type": "stream",
     "text": [
      "{'ade': 0.54279995, 'fde': 1.170448}\n",
      "\t last loss:0.000373777, eval on validation:['ade: 0.54279995', 'fde: 1.170448'], (best ade:0.53389055 at step 24300) \n"
     ]
    },
    {
     "name": "stderr",
     "output_type": "stream",
     "text": [
      " 81%|████████  | 509/628 [00:21<00:04, 27.04it/s]\n",
      "  0%|          | 0/55 [00:00<?, ?it/s]\u001b[A"
     ]
    },
    {
     "name": "stdout",
     "output_type": "stream",
     "text": [
      "\tsaving model 29400...\n",
      "\tdone\n",
      "Evaluating\n"
     ]
    },
    {
     "name": "stderr",
     "output_type": "stream",
     "text": [
      "\n",
      " 13%|#2        | 7/55 [00:00<00:00, 62.50it/s]\u001b[A\n",
      " 22%|##1       | 12/55 [00:00<00:00, 53.06it/s]\u001b[A\n",
      " 31%|###       | 17/55 [00:00<00:00, 49.68it/s]\u001b[A\n",
      " 40%|####      | 22/55 [00:00<00:00, 46.95it/s]\u001b[A\n",
      " 47%|####7     | 26/55 [00:00<00:00, 44.08it/s]\u001b[A\n",
      " 55%|#####4    | 30/55 [00:00<00:00, 41.45it/s]\u001b[A\n",
      " 65%|######5   | 36/55 [00:00<00:00, 44.12it/s]\u001b[A\n",
      " 76%|#######6  | 42/55 [00:00<00:00, 47.59it/s]\u001b[A\n",
      " 91%|######### | 50/55 [00:01<00:00, 53.78it/s]\u001b[A\n",
      " 82%|████████▏ | 515/628 [00:23<00:14,  7.89it/s]A"
     ]
    },
    {
     "name": "stdout",
     "output_type": "stream",
     "text": [
      "{'ade': 0.5378412, 'fde': 1.1569046}\n",
      "\t last loss:0.000431153, eval on validation:['ade: 0.5378412', 'fde: 1.1569046'], (best ade:0.53389055 at step 24300) \n"
     ]
    },
    {
     "name": "stderr",
     "output_type": "stream",
     "text": [
      "100%|██████████| 628/628 [00:27<00:00, 22.57it/s]\n",
      "  0%|          | 1/628 [00:00<01:04,  9.67it/s]"
     ]
    },
    {
     "name": "stdout",
     "output_type": "stream",
     "text": [
      "('Epoca 48.', 'lr:', 4.7606427e-05)\n"
     ]
    },
    {
     "name": "stderr",
     "output_type": "stream",
     "text": [
      " 29%|██▉       | 181/628 [00:07<00:16, 26.72it/s]\n",
      "  0%|          | 0/55 [00:00<?, ?it/s]\u001b[A"
     ]
    },
    {
     "name": "stdout",
     "output_type": "stream",
     "text": [
      "\tsaving model 29700...\n",
      "\tdone\n",
      "Evaluating\n"
     ]
    },
    {
     "name": "stderr",
     "output_type": "stream",
     "text": [
      "\n",
      " 18%|#8        | 10/55 [00:00<00:00, 94.47it/s]\u001b[A\n",
      " 35%|###4      | 19/55 [00:00<00:00, 92.46it/s]\u001b[A\n",
      " 53%|#####2    | 29/55 [00:00<00:00, 92.79it/s]\u001b[A\n",
      " 71%|#######   | 39/55 [00:00<00:00, 93.56it/s]\u001b[A\n",
      " 85%|########5 | 47/55 [00:00<00:00, 84.80it/s]\u001b[A\n",
      " 30%|██▉       | 187/628 [00:08<00:42, 10.30it/s]A"
     ]
    },
    {
     "name": "stdout",
     "output_type": "stream",
     "text": [
      "{'ade': 0.5385179, 'fde': 1.1566889}\n",
      "\t last loss:0.000636768, eval on validation:['ade: 0.5385179', 'fde: 1.1566889'], (best ade:0.53389055 at step 24300) \n"
     ]
    },
    {
     "name": "stderr",
     "output_type": "stream",
     "text": [
      " 77%|███████▋  | 481/628 [00:19<00:05, 25.24it/s]\n",
      "  0%|          | 0/55 [00:00<?, ?it/s]\u001b[A"
     ]
    },
    {
     "name": "stdout",
     "output_type": "stream",
     "text": [
      "\tsaving model 30000...\n",
      "\tdone\n",
      "Evaluating\n"
     ]
    },
    {
     "name": "stderr",
     "output_type": "stream",
     "text": [
      "\n",
      " 16%|#6        | 9/55 [00:00<00:00, 88.49it/s]\u001b[A\n",
      " 29%|##9       | 16/55 [00:00<00:00, 79.66it/s]\u001b[A\n",
      " 42%|####1     | 23/55 [00:00<00:00, 73.99it/s]\u001b[A\n",
      " 55%|#####4    | 30/55 [00:00<00:00, 71.59it/s]\u001b[A\n",
      " 69%|######9   | 38/55 [00:00<00:00, 73.03it/s]\u001b[A\n",
      " 82%|########1 | 45/55 [00:00<00:00, 71.47it/s]\u001b[A\n",
      " 98%|#########8| 54/55 [00:00<00:00, 75.39it/s]\u001b[A\n",
      " 78%|███████▊  | 487/628 [00:21<00:15,  9.07it/s]A"
     ]
    },
    {
     "name": "stdout",
     "output_type": "stream",
     "text": [
      "{'ade': 0.53521866, 'fde': 1.1486651}\n",
      "\t last loss:0.000279600, eval on validation:['ade: 0.53521866', 'fde: 1.1486651'], (best ade:0.53389055 at step 24300) \n"
     ]
    },
    {
     "name": "stderr",
     "output_type": "stream",
     "text": [
      "100%|██████████| 628/628 [00:26<00:00, 27.00it/s]\n",
      "  0%|          | 1/628 [00:00<01:13,  8.48it/s]"
     ]
    },
    {
     "name": "stdout",
     "output_type": "stream",
     "text": [
      "('Epoca 49.', 'lr:', 4.0465464e-05)\n"
     ]
    },
    {
     "name": "stderr",
     "output_type": "stream",
     "text": [
      " 25%|██▍       | 154/628 [00:06<00:17, 26.51it/s]\n",
      "  0%|          | 0/55 [00:00<?, ?it/s]\u001b[A"
     ]
    },
    {
     "name": "stdout",
     "output_type": "stream",
     "text": [
      "\tsaving model 30300...\n",
      "\tdone\n",
      "Evaluating\n"
     ]
    },
    {
     "name": "stderr",
     "output_type": "stream",
     "text": [
      "\n",
      " 18%|#8        | 10/55 [00:00<00:00, 97.02it/s]\u001b[A\n",
      " 31%|###       | 17/55 [00:00<00:00, 85.14it/s]\u001b[A\n",
      " 44%|####3     | 24/55 [00:00<00:00, 79.65it/s]\u001b[A\n",
      " 58%|#####8    | 32/55 [00:00<00:00, 78.13it/s]\u001b[A\n",
      " 75%|#######4  | 41/55 [00:00<00:00, 80.09it/s]\u001b[A\n",
      " 91%|######### | 50/55 [00:00<00:00, 82.57it/s]\u001b[A\n",
      " 25%|██▌       | 160/628 [00:07<00:46, 10.07it/s]A"
     ]
    },
    {
     "name": "stdout",
     "output_type": "stream",
     "text": [
      "{'ade': 0.534077, 'fde': 1.1471379}\n",
      "\t last loss:0.000391705, eval on validation:['ade: 0.534077', 'fde: 1.1471379'], (best ade:0.53389055 at step 24300) \n"
     ]
    },
    {
     "name": "stderr",
     "output_type": "stream",
     "text": [
      " 72%|███████▏  | 454/628 [00:18<00:06, 25.37it/s]\n",
      "  0%|          | 0/55 [00:00<?, ?it/s]"
     ]
    },
    {
     "name": "stdout",
     "output_type": "stream",
     "text": [
      "\tsaving model 30600...\n",
      "\tdone\n",
      "Evaluating\n"
     ]
    },
    {
     "name": "stderr",
     "output_type": "stream",
     "text": [
      "\u001b[A\n",
      " 15%|#4        | 8/55 [00:00<00:00, 77.34it/s]\u001b[A\n",
      " 27%|##7       | 15/55 [00:00<00:00, 74.49it/s]\u001b[A\n",
      " 40%|####      | 22/55 [00:00<00:00, 71.03it/s]\u001b[A\n",
      " 51%|#####     | 28/55 [00:00<00:00, 65.80it/s]\u001b[A\n",
      " 67%|######7   | 37/55 [00:00<00:00, 69.42it/s]\u001b[A\n",
      " 82%|########1 | 45/55 [00:00<00:00, 72.04it/s]\u001b[A\n",
      " 98%|#########8| 54/55 [00:00<00:00, 75.72it/s]\u001b[A\n",
      " 73%|███████▎  | 457/628 [00:19<00:23,  7.33it/s]A"
     ]
    },
    {
     "name": "stdout",
     "output_type": "stream",
     "text": [
      "{'ade': 0.5417009, 'fde': 1.1668551}\n",
      "\t last loss:0.000334792, eval on validation:['ade: 0.5417009', 'fde: 1.1668551'], (best ade:0.53389055 at step 24300) \n"
     ]
    },
    {
     "name": "stderr",
     "output_type": "stream",
     "text": [
      "100%|██████████| 628/628 [00:27<00:00, 22.57it/s]\n",
      "  0%|          | 2/628 [00:00<00:35, 17.66it/s]"
     ]
    },
    {
     "name": "stdout",
     "output_type": "stream",
     "text": [
      "('Epoca 50.', 'lr:', 4.0465464e-05)\n"
     ]
    },
    {
     "name": "stderr",
     "output_type": "stream",
     "text": [
      " 20%|█▉        | 125/628 [00:04<00:18, 26.91it/s]\n",
      "  0%|          | 0/55 [00:00<?, ?it/s]\u001b[A"
     ]
    },
    {
     "name": "stdout",
     "output_type": "stream",
     "text": [
      "\tsaving model 30900...\n",
      "\tdone\n",
      "Evaluating\n"
     ]
    },
    {
     "name": "stderr",
     "output_type": "stream",
     "text": [
      "\n",
      " 18%|#8        | 10/55 [00:00<00:00, 95.94it/s]\u001b[A\n",
      " 31%|###       | 17/55 [00:00<00:00, 85.27it/s]\u001b[A\n",
      " 45%|####5     | 25/55 [00:00<00:00, 82.33it/s]\u001b[A\n",
      " 60%|######    | 33/55 [00:00<00:00, 79.52it/s]\u001b[A\n",
      " 76%|#######6  | 42/55 [00:00<00:00, 79.83it/s]\u001b[A\n",
      " 95%|#########4| 52/55 [00:00<00:00, 83.35it/s]\u001b[A\n",
      " 21%|██        | 131/628 [00:06<00:48, 10.20it/s]A"
     ]
    },
    {
     "name": "stdout",
     "output_type": "stream",
     "text": [
      "{'ade': 0.5358867, 'fde': 1.1528502}\n",
      "\t last loss:0.000339355, eval on validation:['ade: 0.5358867', 'fde: 1.1528502'], (best ade:0.53389055 at step 24300) \n"
     ]
    },
    {
     "name": "stderr",
     "output_type": "stream",
     "text": [
      " 68%|██████▊   | 425/628 [00:17<00:08, 25.26it/s]\n",
      "  0%|          | 0/55 [00:00<?, ?it/s]\u001b[A"
     ]
    },
    {
     "name": "stdout",
     "output_type": "stream",
     "text": [
      "\tsaving model 31200...\n",
      "\tdone\n",
      "Evaluating\n"
     ]
    },
    {
     "name": "stderr",
     "output_type": "stream",
     "text": [
      "\n",
      " 16%|#6        | 9/55 [00:00<00:00, 86.80it/s]\u001b[A\n",
      " 29%|##9       | 16/55 [00:00<00:00, 77.52it/s]\u001b[A\n",
      " 42%|####1     | 23/55 [00:00<00:00, 73.92it/s]\u001b[A\n",
      " 53%|#####2    | 29/55 [00:00<00:00, 69.02it/s]\u001b[A\n",
      " 65%|######5   | 36/55 [00:00<00:00, 68.16it/s]\u001b[A\n",
      " 78%|#######8  | 43/55 [00:00<00:00, 67.81it/s]\u001b[A\n",
      " 95%|#########4| 52/55 [00:00<00:00, 72.16it/s]\u001b[A\n",
      " 69%|██████▊   | 431/628 [00:18<00:21,  9.18it/s]A"
     ]
    },
    {
     "name": "stdout",
     "output_type": "stream",
     "text": [
      "{'ade': 0.53397554, 'fde': 1.1463807}\n",
      "\t last loss:0.000293582, eval on validation:['ade: 0.53397554', 'fde: 1.1463807'], (best ade:0.53389055 at step 24300) \n"
     ]
    },
    {
     "name": "stderr",
     "output_type": "stream",
     "text": [
      "100%|██████████| 628/628 [00:26<00:00, 23.76it/s]\n",
      "  0%|          | 2/628 [00:00<00:43, 14.54it/s]"
     ]
    },
    {
     "name": "stdout",
     "output_type": "stream",
     "text": [
      "('Epoca 51.', 'lr:', 3.4395645e-05)\n"
     ]
    },
    {
     "name": "stderr",
     "output_type": "stream",
     "text": [
      " 16%|█▌        | 98/628 [00:03<00:19, 26.77it/s]\n",
      "  0%|          | 0/55 [00:00<?, ?it/s]\u001b[A"
     ]
    },
    {
     "name": "stdout",
     "output_type": "stream",
     "text": [
      "\tsaving model 31500...\n",
      "\tdone\n",
      "Evaluating\n"
     ]
    },
    {
     "name": "stderr",
     "output_type": "stream",
     "text": [
      "\n",
      " 18%|#8        | 10/55 [00:00<00:00, 97.01it/s]\u001b[A\n",
      " 33%|###2      | 18/55 [00:00<00:00, 87.44it/s]\u001b[A\n",
      " 47%|####7     | 26/55 [00:00<00:00, 82.32it/s]\u001b[A\n",
      " 60%|######    | 33/55 [00:00<00:00, 77.68it/s]\u001b[A\n",
      " 78%|#######8  | 43/55 [00:00<00:00, 81.83it/s]\u001b[A\n",
      " 96%|#########6| 53/55 [00:00<00:00, 84.61it/s]\u001b[A\n",
      " 17%|█▋        | 104/628 [00:04<00:51, 10.19it/s]A"
     ]
    },
    {
     "name": "stdout",
     "output_type": "stream",
     "text": [
      "{'ade': 0.5397944, 'fde': 1.1640383}\n",
      "\t last loss:0.000820893, eval on validation:['ade: 0.5397944', 'fde: 1.1640383'], (best ade:0.53389055 at step 24300) \n"
     ]
    },
    {
     "name": "stderr",
     "output_type": "stream",
     "text": [
      " 63%|██████▎   | 398/628 [00:16<00:09, 25.23it/s]\n",
      "  0%|          | 0/55 [00:00<?, ?it/s]\u001b[A"
     ]
    },
    {
     "name": "stdout",
     "output_type": "stream",
     "text": [
      "\tsaving model 31800...\n",
      "\tdone\n",
      "Evaluating\n"
     ]
    },
    {
     "name": "stderr",
     "output_type": "stream",
     "text": [
      "\n",
      " 16%|#6        | 9/55 [00:00<00:00, 88.40it/s]\u001b[A\n",
      " 31%|###       | 17/55 [00:00<00:00, 84.79it/s]\u001b[A\n",
      " 42%|####1     | 23/55 [00:00<00:00, 74.72it/s]\u001b[A\n",
      " 55%|#####4    | 30/55 [00:00<00:00, 69.24it/s]\u001b[A\n",
      " 69%|######9   | 38/55 [00:00<00:00, 71.65it/s]\u001b[A\n",
      " 85%|########5 | 47/55 [00:00<00:00, 73.70it/s]\u001b[A\n",
      " 64%|██████▍   | 401/628 [00:17<00:30,  7.43it/s]A"
     ]
    },
    {
     "name": "stdout",
     "output_type": "stream",
     "text": [
      "{'ade': 0.53836626, 'fde': 1.1578145}\n",
      "\t last loss:0.000458831, eval on validation:['ade: 0.53836626', 'fde: 1.1578145'], (best ade:0.53389055 at step 24300) \n"
     ]
    },
    {
     "name": "stderr",
     "output_type": "stream",
     "text": [
      "100%|██████████| 628/628 [00:26<00:00, 23.45it/s]\n",
      "  0%|          | 1/628 [00:00<01:12,  8.63it/s]"
     ]
    },
    {
     "name": "stdout",
     "output_type": "stream",
     "text": [
      "('Epoca 52.', 'lr:', 3.4395645e-05)\n"
     ]
    },
    {
     "name": "stderr",
     "output_type": "stream",
     "text": [
      " 11%|█         | 69/628 [00:03<00:25, 22.16it/s]"
     ]
    },
    {
     "name": "stdout",
     "output_type": "stream",
     "text": [
      "\tsaving model 32100...\n"
     ]
    },
    {
     "name": "stderr",
     "output_type": "stream",
     "text": [
      "\n",
      "  0%|          | 0/55 [00:00<?, ?it/s]\u001b[A\n",
      " 15%|#4        | 8/55 [00:00<00:00, 75.95it/s]\u001b[A"
     ]
    },
    {
     "name": "stdout",
     "output_type": "stream",
     "text": [
      "\tdone\n",
      "Evaluating\n"
     ]
    },
    {
     "name": "stderr",
     "output_type": "stream",
     "text": [
      "\n",
      " 25%|##5       | 14/55 [00:00<00:00, 66.25it/s]\u001b[A\n",
      " 36%|###6      | 20/55 [00:00<00:00, 63.17it/s]\u001b[A\n",
      " 45%|####5     | 25/55 [00:00<00:00, 57.41it/s]\u001b[A\n",
      " 58%|#####8    | 32/55 [00:00<00:00, 60.27it/s]\u001b[A\n",
      " 73%|#######2  | 40/55 [00:00<00:00, 63.74it/s]\u001b[A\n",
      " 87%|########7 | 48/55 [00:00<00:00, 67.13it/s]\u001b[A\n",
      " 12%|█▏        | 75/628 [00:04<01:05,  8.39it/s][A"
     ]
    },
    {
     "name": "stdout",
     "output_type": "stream",
     "text": [
      "{'ade': 0.5352356, 'fde': 1.149562}\n",
      "\t last loss:0.000415417, eval on validation:['ade: 0.5352356', 'fde: 1.149562'], (best ade:0.53389055 at step 24300) \n"
     ]
    },
    {
     "name": "stderr",
     "output_type": "stream",
     "text": [
      " 59%|█████▉    | 370/628 [00:17<00:10, 25.34it/s]\n",
      "  0%|          | 0/55 [00:00<?, ?it/s]\u001b[A"
     ]
    },
    {
     "name": "stdout",
     "output_type": "stream",
     "text": [
      "\tsaving model 32400...\n",
      "\tdone\n",
      "Evaluating\n"
     ]
    },
    {
     "name": "stderr",
     "output_type": "stream",
     "text": [
      "\n",
      " 16%|#6        | 9/55 [00:00<00:00, 87.70it/s]\u001b[A\n",
      " 29%|##9       | 16/55 [00:00<00:00, 80.66it/s]\u001b[A\n",
      " 42%|####1     | 23/55 [00:00<00:00, 74.65it/s]\u001b[A\n",
      " 53%|#####2    | 29/55 [00:00<00:00, 66.93it/s]\u001b[A\n",
      " 69%|######9   | 38/55 [00:00<00:00, 70.97it/s]\u001b[A\n",
      " 84%|########3 | 46/55 [00:00<00:00, 71.93it/s]\u001b[A\n",
      " 98%|#########8| 54/55 [00:00<00:00, 74.04it/s]\u001b[A\n",
      " 60%|█████▉    | 376/628 [00:18<00:27,  9.31it/s]A"
     ]
    },
    {
     "name": "stdout",
     "output_type": "stream",
     "text": [
      "{'ade': 0.53539795, 'fde': 1.1510893}\n",
      "\t last loss:0.000230935, eval on validation:['ade: 0.53539795', 'fde: 1.1510893'], (best ade:0.53389055 at step 24300) \n"
     ]
    },
    {
     "name": "stderr",
     "output_type": "stream",
     "text": [
      "100%|██████████| 628/628 [00:28<00:00, 26.77it/s]\n",
      "  0%|          | 2/628 [00:00<00:41, 15.11it/s]"
     ]
    },
    {
     "name": "stdout",
     "output_type": "stream",
     "text": [
      "('Epoca 53.', 'lr:', 2.92363e-05)\n"
     ]
    },
    {
     "name": "stderr",
     "output_type": "stream",
     "text": [
      "  7%|▋         | 41/628 [00:01<00:21, 26.95it/s]\n",
      "  0%|          | 0/55 [00:00<?, ?it/s]\u001b[A"
     ]
    },
    {
     "name": "stdout",
     "output_type": "stream",
     "text": [
      "\tsaving model 32700...\n",
      "\tdone\n",
      "Evaluating\n"
     ]
    },
    {
     "name": "stderr",
     "output_type": "stream",
     "text": [
      "\n",
      " 18%|#8        | 10/55 [00:00<00:00, 97.79it/s]\u001b[A\n",
      " 31%|###       | 17/55 [00:00<00:00, 85.06it/s]\u001b[A\n",
      " 44%|####3     | 24/55 [00:00<00:00, 78.92it/s]\u001b[A\n",
      " 60%|######    | 33/55 [00:00<00:00, 79.80it/s]\u001b[A\n",
      " 76%|#######6  | 42/55 [00:00<00:00, 80.35it/s]\u001b[A\n",
      " 93%|#########2| 51/55 [00:00<00:00, 82.81it/s]\u001b[A\n",
      "  7%|▋         | 47/628 [00:02<00:57, 10.03it/s][A"
     ]
    },
    {
     "name": "stdout",
     "output_type": "stream",
     "text": [
      "{'ade': 0.5361683, 'fde': 1.1540351}\n",
      "\t last loss:0.000638685, eval on validation:['ade: 0.5361683', 'fde: 1.1540351'], (best ade:0.53389055 at step 24300) \n"
     ]
    },
    {
     "name": "stderr",
     "output_type": "stream",
     "text": [
      " 54%|█████▍    | 341/628 [00:14<00:11, 25.23it/s]"
     ]
    },
    {
     "name": "stdout",
     "output_type": "stream",
     "text": [
      "\tsaving model 33000...\n"
     ]
    },
    {
     "name": "stderr",
     "output_type": "stream",
     "text": [
      "\n",
      "  0%|          | 0/55 [00:00<?, ?it/s]\u001b[A\n",
      " 18%|#8        | 10/55 [00:00<00:00, 92.42it/s]\u001b[A"
     ]
    },
    {
     "name": "stdout",
     "output_type": "stream",
     "text": [
      "\tdone\n",
      "Evaluating\n"
     ]
    },
    {
     "name": "stderr",
     "output_type": "stream",
     "text": [
      "\n",
      " 36%|###6      | 20/55 [00:00<00:00, 92.79it/s]\u001b[A\n",
      " 49%|####9     | 27/55 [00:00<00:00, 83.48it/s]\u001b[A\n",
      " 64%|######3   | 35/55 [00:00<00:00, 80.10it/s]\u001b[A\n",
      " 78%|#######8  | 43/55 [00:00<00:00, 77.87it/s]\u001b[A\n",
      " 95%|#########4| 52/55 [00:00<00:00, 79.35it/s]\u001b[A\n",
      " 55%|█████▌    | 347/628 [00:15<00:28,  9.75it/s]A"
     ]
    },
    {
     "name": "stdout",
     "output_type": "stream",
     "text": [
      "{'ade': 0.5358761, 'fde': 1.1507615}\n",
      "\t last loss:0.000317097, eval on validation:['ade: 0.5358761', 'fde: 1.1507615'], (best ade:0.53389055 at step 24300) \n"
     ]
    },
    {
     "name": "stderr",
     "output_type": "stream",
     "text": [
      "100%|██████████| 628/628 [00:27<00:00, 22.90it/s]\n",
      "  0%|          | 1/628 [00:00<01:07,  9.35it/s]"
     ]
    },
    {
     "name": "stdout",
     "output_type": "stream",
     "text": [
      "('Epoca 54.', 'lr:', 2.92363e-05)\n"
     ]
    },
    {
     "name": "stderr",
     "output_type": "stream",
     "text": [
      "  2%|▏         | 15/628 [00:00<00:33, 18.47it/s]"
     ]
    },
    {
     "name": "stdout",
     "output_type": "stream",
     "text": [
      "\tsaving model 33300...\n"
     ]
    },
    {
     "name": "stderr",
     "output_type": "stream",
     "text": [
      "\n",
      "  0%|          | 0/55 [00:00<?, ?it/s]\u001b[A\n",
      " 15%|#4        | 8/55 [00:00<00:00, 78.45it/s]\u001b[A"
     ]
    },
    {
     "name": "stdout",
     "output_type": "stream",
     "text": [
      "\tdone\n",
      "Evaluating\n"
     ]
    },
    {
     "name": "stderr",
     "output_type": "stream",
     "text": [
      "\n",
      " 29%|##9       | 16/55 [00:00<00:00, 75.76it/s]\u001b[A\n",
      " 44%|####3     | 24/55 [00:00<00:00, 75.32it/s]\u001b[A\n",
      " 55%|#####4    | 30/55 [00:00<00:00, 67.79it/s]\u001b[A\n",
      " 65%|######5   | 36/55 [00:00<00:00, 63.75it/s]\u001b[A\n",
      " 76%|#######6  | 42/55 [00:00<00:00, 61.49it/s]\u001b[A\n",
      " 91%|######### | 50/55 [00:00<00:00, 65.42it/s]\u001b[A\n",
      "  3%|▎         | 17/628 [00:01<02:07,  4.79it/s][A"
     ]
    },
    {
     "name": "stdout",
     "output_type": "stream",
     "text": [
      "{'ade': 0.53466415, 'fde': 1.1482457}\n",
      "\t last loss:0.000177364, eval on validation:['ade: 0.53466415', 'fde: 1.1482457'], (best ade:0.53389055 at step 24300) \n"
     ]
    },
    {
     "name": "stderr",
     "output_type": "stream",
     "text": [
      " 50%|█████     | 314/628 [00:13<00:12, 25.38it/s]\n",
      "  0%|          | 0/55 [00:00<?, ?it/s]\u001b[A"
     ]
    },
    {
     "name": "stdout",
     "output_type": "stream",
     "text": [
      "\tsaving model 33600...\n",
      "\tdone\n",
      "Evaluating\n"
     ]
    },
    {
     "name": "stderr",
     "output_type": "stream",
     "text": [
      "\n",
      " 18%|#8        | 10/55 [00:00<00:00, 90.29it/s]\u001b[A\n",
      " 33%|###2      | 18/55 [00:00<00:00, 86.52it/s]\u001b[A\n",
      " 44%|####3     | 24/55 [00:00<00:00, 75.28it/s]\u001b[A\n",
      " 56%|#####6    | 31/55 [00:00<00:00, 69.57it/s]\u001b[A\n",
      " 71%|#######   | 39/55 [00:00<00:00, 70.35it/s]\u001b[A\n",
      " 87%|########7 | 48/55 [00:00<00:00, 73.58it/s]\u001b[A\n",
      " 51%|█████     | 320/628 [00:14<00:32,  9.43it/s]A"
     ]
    },
    {
     "name": "stdout",
     "output_type": "stream",
     "text": [
      "{'ade': 0.53525305, 'fde': 1.1505592}\n",
      "\t last loss:0.000372630, eval on validation:['ade: 0.53525305', 'fde: 1.1505592'], (best ade:0.53389055 at step 24300) \n"
     ]
    },
    {
     "name": "stderr",
     "output_type": "stream",
     "text": [
      " 98%|█████████▊| 614/628 [00:26<00:00, 26.84it/s]\n",
      "  0%|          | 0/55 [00:00<?, ?it/s]\u001b[A"
     ]
    },
    {
     "name": "stdout",
     "output_type": "stream",
     "text": [
      "\tsaving model 33900...\n",
      "\tdone\n",
      "Evaluating\n"
     ]
    },
    {
     "name": "stderr",
     "output_type": "stream",
     "text": [
      "\n",
      " 18%|#8        | 10/55 [00:00<00:00, 98.14it/s]\u001b[A\n",
      " 36%|###6      | 20/55 [00:00<00:00, 97.14it/s]\u001b[A\n",
      " 55%|#####4    | 30/55 [00:00<00:00, 94.47it/s]\u001b[A\n",
      " 67%|######7   | 37/55 [00:00<00:00, 84.62it/s]\u001b[A\n",
      " 80%|########  | 44/55 [00:00<00:00, 76.90it/s]\u001b[A\n",
      " 96%|#########6| 53/55 [00:00<00:00, 78.61it/s]\u001b[A\n",
      " 98%|█████████▊| 617/628 [00:27<00:01,  7.96it/s]A"
     ]
    },
    {
     "name": "stdout",
     "output_type": "stream",
     "text": [
      "{'ade': 0.5361498, 'fde': 1.1538119}\n",
      "\t last loss:0.000240386, eval on validation:['ade: 0.5361498', 'fde: 1.1538119'], (best ade:0.53389055 at step 24300) \n"
     ]
    },
    {
     "name": "stderr",
     "output_type": "stream",
     "text": [
      "100%|██████████| 628/628 [00:27<00:00, 22.65it/s]\n",
      "  0%|          | 1/628 [00:00<01:12,  8.66it/s]"
     ]
    },
    {
     "name": "stdout",
     "output_type": "stream",
     "text": [
      "('Epoca 55.', 'lr:', 2.4850853e-05)\n"
     ]
    },
    {
     "name": "stderr",
     "output_type": "stream",
     "text": [
      " 46%|████▌     | 286/628 [00:11<00:13, 25.12it/s]\n"
     ]
    },
    {
     "name": "stdout",
     "output_type": "stream",
     "text": [
      "\tsaving model 34200...\n",
      "\tdone\n",
      "Evaluating\n"
     ]
    },
    {
     "name": "stderr",
     "output_type": "stream",
     "text": [
      "  0%|          | 0/55 [00:00<?, ?it/s]\u001b[A\n",
      " 18%|#8        | 10/55 [00:00<00:00, 92.12it/s]\u001b[A\n",
      " 36%|###6      | 20/55 [00:00<00:00, 92.50it/s]\u001b[A\n",
      " 55%|#####4    | 30/55 [00:00<00:00, 93.36it/s]\u001b[A\n",
      " 67%|######7   | 37/55 [00:00<00:00, 82.57it/s]\u001b[A\n",
      " 82%|########1 | 45/55 [00:00<00:00, 78.29it/s]\u001b[A\n",
      " 98%|#########8| 54/55 [00:00<00:00, 80.11it/s]\u001b[A\n",
      " 46%|████▌     | 289/628 [00:12<00:43,  7.76it/s]A"
     ]
    },
    {
     "name": "stdout",
     "output_type": "stream",
     "text": [
      "{'ade': 0.5348437, 'fde': 1.149882}\n",
      "\t last loss:0.000406955, eval on validation:['ade: 0.5348437', 'fde: 1.149882'], (best ade:0.53389055 at step 24300) \n"
     ]
    },
    {
     "name": "stderr",
     "output_type": "stream",
     "text": [
      " 93%|█████████▎| 586/628 [00:23<00:01, 25.77it/s]\n",
      "  0%|          | 0/55 [00:00<?, ?it/s]\u001b[A"
     ]
    },
    {
     "name": "stdout",
     "output_type": "stream",
     "text": [
      "\tsaving model 34500...\n",
      "\tdone\n",
      "Evaluating\n"
     ]
    },
    {
     "name": "stderr",
     "output_type": "stream",
     "text": [
      "\n",
      " 16%|#6        | 9/55 [00:00<00:00, 88.88it/s]\u001b[A\n",
      " 31%|###       | 17/55 [00:00<00:00, 83.38it/s]\u001b[A\n",
      " 42%|####1     | 23/55 [00:00<00:00, 74.13it/s]\u001b[A\n",
      " 53%|#####2    | 29/55 [00:00<00:00, 66.76it/s]\u001b[A\n",
      " 69%|######9   | 38/55 [00:00<00:00, 70.79it/s]\u001b[A\n",
      " 82%|########1 | 45/55 [00:00<00:00, 70.24it/s]\u001b[A\n",
      " 98%|#########8| 54/55 [00:00<00:00, 74.50it/s]\u001b[A\n",
      " 94%|█████████▍| 592/628 [00:25<00:03,  9.39it/s]A"
     ]
    },
    {
     "name": "stdout",
     "output_type": "stream",
     "text": [
      "{'ade': 0.5382562, 'fde': 1.1573172}\n",
      "\t last loss:0.000531052, eval on validation:['ade: 0.5382562', 'fde: 1.1573172'], (best ade:0.53389055 at step 24300) \n"
     ]
    },
    {
     "name": "stderr",
     "output_type": "stream",
     "text": [
      "100%|██████████| 628/628 [00:26<00:00, 24.33it/s]\n",
      "  0%|          | 1/628 [00:00<01:10,  8.90it/s]"
     ]
    },
    {
     "name": "stdout",
     "output_type": "stream",
     "text": [
      "('Epoca 56.', 'lr:', 2.4850853e-05)\n"
     ]
    },
    {
     "name": "stderr",
     "output_type": "stream",
     "text": [
      " 41%|████      | 259/628 [00:10<00:17, 20.89it/s]"
     ]
    },
    {
     "name": "stdout",
     "output_type": "stream",
     "text": [
      "\tsaving model 34800...\n"
     ]
    },
    {
     "name": "stderr",
     "output_type": "stream",
     "text": [
      "\n",
      "  0%|          | 0/55 [00:00<?, ?it/s]\u001b[A\n",
      " 13%|#2        | 7/55 [00:00<00:00, 68.94it/s]\u001b[A"
     ]
    },
    {
     "name": "stdout",
     "output_type": "stream",
     "text": [
      "\tdone\n",
      "Evaluating\n"
     ]
    },
    {
     "name": "stderr",
     "output_type": "stream",
     "text": [
      "\n",
      " 24%|##3       | 13/55 [00:00<00:00, 65.77it/s]\u001b[A\n",
      " 35%|###4      | 19/55 [00:00<00:00, 61.63it/s]\u001b[A\n",
      " 47%|####7     | 26/55 [00:00<00:00, 63.49it/s]\u001b[A\n",
      " 60%|######    | 33/55 [00:00<00:00, 64.79it/s]\u001b[A\n",
      " 71%|#######   | 39/55 [00:00<00:00, 62.86it/s]\u001b[A\n",
      " 84%|########3 | 46/55 [00:00<00:00, 64.14it/s]\u001b[A\n",
      " 96%|#########6| 53/55 [00:00<00:00, 64.80it/s]\u001b[A\n",
      " 42%|████▏     | 262/628 [00:11<00:58,  6.24it/s]A"
     ]
    },
    {
     "name": "stdout",
     "output_type": "stream",
     "text": [
      "{'ade': 0.5374114, 'fde': 1.1561134}\n",
      "\t last loss:0.000361144, eval on validation:['ade: 0.5374114', 'fde: 1.1561134'], (best ade:0.53389055 at step 24300) \n"
     ]
    },
    {
     "name": "stderr",
     "output_type": "stream",
     "text": [
      " 89%|████████▉ | 558/628 [00:24<00:02, 26.93it/s]\n",
      "  0%|          | 0/55 [00:00<?, ?it/s]\u001b[A"
     ]
    },
    {
     "name": "stdout",
     "output_type": "stream",
     "text": [
      "\tsaving model 35100...\n",
      "\tdone\n",
      "Evaluating\n"
     ]
    },
    {
     "name": "stderr",
     "output_type": "stream",
     "text": [
      "\n",
      " 18%|#8        | 10/55 [00:00<00:00, 95.66it/s]\u001b[A\n",
      " 33%|###2      | 18/55 [00:00<00:00, 88.09it/s]\u001b[A\n",
      " 44%|####3     | 24/55 [00:00<00:00, 77.23it/s]\u001b[A\n",
      " 55%|#####4    | 30/55 [00:00<00:00, 70.11it/s]\u001b[A\n",
      " 71%|#######   | 39/55 [00:00<00:00, 73.81it/s]\u001b[A\n",
      " 85%|########5 | 47/55 [00:00<00:00, 73.19it/s]\u001b[A\n",
      " 89%|████████▉ | 561/628 [00:25<00:08,  7.69it/s]A"
     ]
    },
    {
     "name": "stdout",
     "output_type": "stream",
     "text": [
      "{'ade': 0.5414092, 'fde': 1.1673821}\n",
      "\t last loss:0.000447069, eval on validation:['ade: 0.5414092', 'fde: 1.1673821'], (best ade:0.53389055 at step 24300) \n"
     ]
    },
    {
     "name": "stderr",
     "output_type": "stream",
     "text": [
      "100%|██████████| 628/628 [00:28<00:00, 21.99it/s]\n",
      "  0%|          | 1/628 [00:00<01:18,  7.95it/s]"
     ]
    },
    {
     "name": "stdout",
     "output_type": "stream",
     "text": [
      "('Epoca 57.', 'lr:', 2.1123227e-05)\n"
     ]
    },
    {
     "name": "stderr",
     "output_type": "stream",
     "text": [
      " 36%|███▋      | 229/628 [00:09<00:14, 26.80it/s]\n",
      "  0%|          | 0/55 [00:00<?, ?it/s]\u001b[A"
     ]
    },
    {
     "name": "stdout",
     "output_type": "stream",
     "text": [
      "\tsaving model 35400...\n",
      "\tdone\n",
      "Evaluating\n"
     ]
    },
    {
     "name": "stderr",
     "output_type": "stream",
     "text": [
      "\n",
      " 18%|#8        | 10/55 [00:00<00:00, 94.00it/s]\u001b[A\n",
      " 31%|###       | 17/55 [00:00<00:00, 83.40it/s]\u001b[A\n",
      " 44%|####3     | 24/55 [00:00<00:00, 78.80it/s]\u001b[A\n",
      " 56%|#####6    | 31/55 [00:00<00:00, 75.86it/s]\u001b[A\n",
      " 73%|#######2  | 40/55 [00:00<00:00, 77.53it/s]\u001b[A\n",
      " 91%|######### | 50/55 [00:00<00:00, 81.84it/s]\u001b[A\n",
      " 37%|███▋      | 235/628 [00:10<00:38, 10.17it/s]A"
     ]
    },
    {
     "name": "stdout",
     "output_type": "stream",
     "text": [
      "{'ade': 0.53787035, 'fde': 1.1563287}\n",
      "\t last loss:0.000335551, eval on validation:['ade: 0.53787035', 'fde: 1.1563287'], (best ade:0.53389055 at step 24300) \n"
     ]
    },
    {
     "name": "stderr",
     "output_type": "stream",
     "text": [
      " 84%|████████▍ | 530/628 [00:22<00:05, 17.16it/s]"
     ]
    },
    {
     "name": "stdout",
     "output_type": "stream",
     "text": [
      "\tsaving model 35700...\n"
     ]
    },
    {
     "name": "stderr",
     "output_type": "stream",
     "text": [
      "\n",
      "  0%|          | 0/55 [00:00<?, ?it/s]\u001b[A\n",
      " 13%|#2        | 7/55 [00:00<00:00, 65.12it/s]\u001b[A"
     ]
    },
    {
     "name": "stdout",
     "output_type": "stream",
     "text": [
      "\tdone\n",
      "Evaluating\n"
     ]
    },
    {
     "name": "stderr",
     "output_type": "stream",
     "text": [
      "\n",
      " 25%|##5       | 14/55 [00:00<00:00, 64.41it/s]\u001b[A\n",
      " 38%|###8      | 21/55 [00:00<00:00, 63.68it/s]\u001b[A\n",
      " 51%|#####     | 28/55 [00:00<00:00, 64.12it/s]\u001b[A\n",
      " 62%|######1   | 34/55 [00:00<00:00, 58.92it/s]\u001b[A\n",
      " 71%|#######   | 39/55 [00:00<00:00, 51.81it/s]\u001b[A\n",
      " 80%|########  | 44/55 [00:00<00:00, 47.23it/s]\u001b[A\n",
      " 93%|#########2| 51/55 [00:00<00:00, 50.85it/s]\u001b[A\n",
      "100%|##########| 55/55 [00:01<00:00, 54.24it/s]\u001b[A"
     ]
    },
    {
     "name": "stdout",
     "output_type": "stream",
     "text": [
      "{'ade': 0.5337155, 'fde': 1.145292}\n",
      "\t last loss:0.000476836, eval on validation:['ade: 0.5337155', 'fde: 1.145292'], (best ade:0.53389055 at step 24300) \n",
      "\t saving best model...\n"
     ]
    },
    {
     "name": "stderr",
     "output_type": "stream",
     "text": [
      " 85%|████████▌ | 534/628 [00:24<00:20,  4.53it/s]"
     ]
    },
    {
     "name": "stdout",
     "output_type": "stream",
     "text": [
      "\t done.\n"
     ]
    },
    {
     "name": "stderr",
     "output_type": "stream",
     "text": [
      "100%|██████████| 628/628 [00:29<00:00, 17.59it/s]\n",
      "  0%|          | 2/628 [00:00<00:44, 14.10it/s]"
     ]
    },
    {
     "name": "stdout",
     "output_type": "stream",
     "text": [
      "('Epoca 58.', 'lr:', 2.1123227e-05)\n"
     ]
    },
    {
     "name": "stderr",
     "output_type": "stream",
     "text": [
      " 32%|███▏      | 202/628 [00:08<00:17, 24.72it/s]"
     ]
    },
    {
     "name": "stdout",
     "output_type": "stream",
     "text": [
      "\tsaving model 36000...\n"
     ]
    },
    {
     "name": "stderr",
     "output_type": "stream",
     "text": [
      "\n",
      "  0%|          | 0/55 [00:00<?, ?it/s]\u001b[A\n",
      " 16%|#6        | 9/55 [00:00<00:00, 81.93it/s]\u001b[A\n",
      " 31%|###       | 17/55 [00:00<00:00, 77.71it/s]\u001b[A\n",
      " 44%|####3     | 24/55 [00:00<00:00, 71.49it/s]\u001b[A\n",
      " 55%|#####4    | 30/55 [00:00<00:00, 67.23it/s]\u001b[A\n",
      " 71%|#######   | 39/55 [00:00<00:00, 70.53it/s]\u001b[A\n",
      " 85%|########5 | 47/55 [00:00<00:00, 72.97it/s]\u001b[A\n",
      " 33%|███▎      | 205/628 [00:09<00:58,  7.25it/s]A"
     ]
    },
    {
     "name": "stdout",
     "output_type": "stream",
     "text": [
      "\tdone\n",
      "Evaluating\n",
      "{'ade': 0.53380454, 'fde': 1.1463802}\n",
      "\t last loss:0.000562970, eval on validation:['ade: 0.53380454', 'fde: 1.1463802'], (best ade:0.5337155 at step 35700) \n"
     ]
    },
    {
     "name": "stderr",
     "output_type": "stream",
     "text": [
      " 80%|███████▉  | 502/628 [00:21<00:04, 26.94it/s]\n",
      "  0%|          | 0/55 [00:00<?, ?it/s]\u001b[A"
     ]
    },
    {
     "name": "stdout",
     "output_type": "stream",
     "text": [
      "\tsaving model 36300...\n",
      "\tdone\n",
      "Evaluating\n"
     ]
    },
    {
     "name": "stderr",
     "output_type": "stream",
     "text": [
      "\n",
      " 18%|#8        | 10/55 [00:00<00:00, 96.91it/s]\u001b[A\n",
      " 35%|###4      | 19/55 [00:00<00:00, 93.74it/s]\u001b[A\n",
      " 53%|#####2    | 29/55 [00:00<00:00, 93.98it/s]\u001b[A\n",
      " 69%|######9   | 38/55 [00:00<00:00, 91.82it/s]\u001b[A\n",
      " 85%|########5 | 47/55 [00:00<00:00, 90.15it/s]\u001b[A\n",
      " 80%|████████  | 505/628 [00:22<00:15,  8.06it/s]A"
     ]
    },
    {
     "name": "stdout",
     "output_type": "stream",
     "text": [
      "{'ade': 0.5352215, 'fde': 1.1494476}\n",
      "\t last loss:0.000377582, eval on validation:['ade: 0.5352215', 'fde: 1.1494476'], (best ade:0.5337155 at step 35700) \n"
     ]
    },
    {
     "name": "stderr",
     "output_type": "stream",
     "text": [
      "100%|██████████| 628/628 [00:27<00:00, 22.36it/s]\n",
      "  0%|          | 2/628 [00:00<00:36, 17.04it/s]"
     ]
    },
    {
     "name": "stdout",
     "output_type": "stream",
     "text": [
      "('Epoca 59.', 'lr:', 1.7954744e-05)\n"
     ]
    },
    {
     "name": "stderr",
     "output_type": "stream",
     "text": [
      " 28%|██▊       | 173/628 [00:07<00:18, 24.47it/s]"
     ]
    },
    {
     "name": "stdout",
     "output_type": "stream",
     "text": [
      "\tsaving model 36600...\n"
     ]
    },
    {
     "name": "stderr",
     "output_type": "stream",
     "text": [
      "\n",
      "  0%|          | 0/55 [00:00<?, ?it/s]\u001b[A\n",
      " 16%|#6        | 9/55 [00:00<00:00, 82.84it/s]\u001b[A\n",
      " 29%|##9       | 16/55 [00:00<00:00, 73.11it/s]\u001b[A\n",
      " 42%|####1     | 23/55 [00:00<00:00, 68.65it/s]\u001b[A\n",
      " 58%|#####8    | 32/55 [00:00<00:00, 72.23it/s]\u001b[A\n",
      " 73%|#######2  | 40/55 [00:00<00:00, 72.76it/s]\u001b[A\n",
      " 89%|########9 | 49/55 [00:00<00:00, 76.59it/s]\u001b[A\n",
      " 29%|██▊       | 179/628 [00:09<00:48,  9.26it/s]A"
     ]
    },
    {
     "name": "stdout",
     "output_type": "stream",
     "text": [
      "\tdone\n",
      "Evaluating\n",
      "{'ade': 0.5346727, 'fde': 1.148187}\n",
      "\t last loss:0.000371290, eval on validation:['ade: 0.5346727', 'fde: 1.148187'], (best ade:0.5337155 at step 35700) \n"
     ]
    },
    {
     "name": "stderr",
     "output_type": "stream",
     "text": [
      " 75%|███████▌  | 473/628 [00:21<00:05, 26.50it/s]\n",
      "  0%|          | 0/55 [00:00<?, ?it/s]\u001b[A"
     ]
    },
    {
     "name": "stdout",
     "output_type": "stream",
     "text": [
      "\tsaving model 36900...\n",
      "\tdone\n",
      "Evaluating\n"
     ]
    },
    {
     "name": "stderr",
     "output_type": "stream",
     "text": [
      "\n",
      " 18%|#8        | 10/55 [00:00<00:00, 97.89it/s]\u001b[A\n",
      " 36%|###6      | 20/55 [00:00<00:00, 97.13it/s]\u001b[A\n",
      " 51%|#####     | 28/55 [00:00<00:00, 89.77it/s]\u001b[A\n",
      " 65%|######5   | 36/55 [00:00<00:00, 82.18it/s]\u001b[A\n",
      " 78%|#######8  | 43/55 [00:00<00:00, 75.20it/s]\u001b[A\n",
      " 96%|#########6| 53/55 [00:00<00:00, 80.11it/s]\u001b[A\n",
      " 76%|███████▋  | 479/628 [00:22<00:14, 10.12it/s]A"
     ]
    },
    {
     "name": "stdout",
     "output_type": "stream",
     "text": [
      "{'ade': 0.5362964, 'fde': 1.1525959}\n",
      "\t last loss:0.000647154, eval on validation:['ade: 0.5362964', 'fde: 1.1525959'], (best ade:0.5337155 at step 35700) \n"
     ]
    },
    {
     "name": "stderr",
     "output_type": "stream",
     "text": [
      "100%|██████████| 628/628 [00:28<00:00, 21.88it/s]\n",
      "  0%|          | 2/628 [00:00<00:32, 19.06it/s]"
     ]
    },
    {
     "name": "stdout",
     "output_type": "stream",
     "text": [
      "('Epoca 60.', 'lr:', 1.7954744e-05)\n"
     ]
    },
    {
     "name": "stderr",
     "output_type": "stream",
     "text": [
      " 23%|██▎       | 146/628 [00:05<00:19, 25.34it/s]\n"
     ]
    },
    {
     "name": "stdout",
     "output_type": "stream",
     "text": [
      "\tsaving model 37200...\n",
      "\tdone\n",
      "Evaluating\n"
     ]
    },
    {
     "name": "stderr",
     "output_type": "stream",
     "text": [
      "  0%|          | 0/55 [00:00<?, ?it/s]\u001b[A\n",
      " 16%|#6        | 9/55 [00:00<00:00, 89.22it/s]\u001b[A\n",
      " 33%|###2      | 18/55 [00:00<00:00, 88.80it/s]\u001b[A\n",
      " 49%|####9     | 27/55 [00:00<00:00, 88.23it/s]\u001b[A\n",
      " 65%|######5   | 36/55 [00:00<00:00, 88.02it/s]\u001b[A\n",
      " 78%|#######8  | 43/55 [00:00<00:00, 76.51it/s]\u001b[A\n",
      " 91%|######### | 50/55 [00:00<00:00, 72.21it/s]\u001b[A\n",
      " 24%|██▎       | 149/628 [00:06<01:04,  7.43it/s]A"
     ]
    },
    {
     "name": "stdout",
     "output_type": "stream",
     "text": [
      "{'ade': 0.536529, 'fde': 1.1542842}\n",
      "\t last loss:0.000271215, eval on validation:['ade: 0.536529', 'fde: 1.1542842'], (best ade:0.5337155 at step 35700) \n"
     ]
    },
    {
     "name": "stderr",
     "output_type": "stream",
     "text": [
      " 71%|███████   | 446/628 [00:18<00:06, 27.11it/s]\n",
      "  0%|          | 0/55 [00:00<?, ?it/s]\u001b[A"
     ]
    },
    {
     "name": "stdout",
     "output_type": "stream",
     "text": [
      "\tsaving model 37500...\n",
      "\tdone\n",
      "Evaluating\n"
     ]
    },
    {
     "name": "stderr",
     "output_type": "stream",
     "text": [
      "\n",
      " 18%|#8        | 10/55 [00:00<00:00, 94.07it/s]\u001b[A\n",
      " 36%|###6      | 20/55 [00:00<00:00, 94.48it/s]\u001b[A\n",
      " 53%|#####2    | 29/55 [00:00<00:00, 92.44it/s]\u001b[A\n",
      " 71%|#######   | 39/55 [00:00<00:00, 93.33it/s]\u001b[A\n",
      " 89%|########9 | 49/55 [00:00<00:00, 93.59it/s]\u001b[A\n",
      " 72%|███████▏  | 451/628 [00:19<00:17, 10.22it/s]A"
     ]
    },
    {
     "name": "stdout",
     "output_type": "stream",
     "text": [
      "{'ade': 0.5355036, 'fde': 1.1514218}\n",
      "\t last loss:0.000375454, eval on validation:['ade: 0.5355036', 'fde: 1.1514218'], (best ade:0.5337155 at step 35700) \n"
     ]
    },
    {
     "name": "stderr",
     "output_type": "stream",
     "text": [
      "100%|██████████| 628/628 [00:26<00:00, 26.41it/s]\n",
      "  0%|          | 1/628 [00:00<01:05,  9.61it/s]"
     ]
    },
    {
     "name": "stdout",
     "output_type": "stream",
     "text": [
      "('Epoca 61.', 'lr:', 1.5261532e-05)\n"
     ]
    },
    {
     "name": "stderr",
     "output_type": "stream",
     "text": [
      " 19%|█▉        | 118/628 [00:04<00:18, 27.10it/s]\n",
      "  0%|          | 0/55 [00:00<?, ?it/s]\u001b[A"
     ]
    },
    {
     "name": "stdout",
     "output_type": "stream",
     "text": [
      "\tsaving model 37800...\n",
      "\tdone\n",
      "Evaluating\n"
     ]
    },
    {
     "name": "stderr",
     "output_type": "stream",
     "text": [
      "\n",
      " 18%|#8        | 10/55 [00:00<00:00, 92.44it/s]\u001b[A\n",
      " 36%|###6      | 20/55 [00:00<00:00, 93.25it/s]\u001b[A\n",
      " 49%|####9     | 27/55 [00:00<00:00, 84.02it/s]\u001b[A\n",
      " 64%|######3   | 35/55 [00:00<00:00, 80.40it/s]\u001b[A\n",
      " 76%|#######6  | 42/55 [00:00<00:00, 76.53it/s]\u001b[A\n",
      " 93%|#########2| 51/55 [00:00<00:00, 77.97it/s]\u001b[A\n",
      " 20%|█▉        | 124/628 [00:05<00:50,  9.98it/s]A"
     ]
    },
    {
     "name": "stdout",
     "output_type": "stream",
     "text": [
      "{'ade': 0.5352709, 'fde': 1.150762}\n",
      "\t last loss:0.000312420, eval on validation:['ade: 0.5352709', 'fde: 1.150762'], (best ade:0.5337155 at step 35700) \n"
     ]
    },
    {
     "name": "stderr",
     "output_type": "stream",
     "text": [
      " 67%|██████▋   | 418/628 [00:17<00:08, 25.29it/s]\n",
      "  0%|          | 0/55 [00:00<?, ?it/s]\u001b[A"
     ]
    },
    {
     "name": "stdout",
     "output_type": "stream",
     "text": [
      "\tsaving model 38100...\n",
      "\tdone\n",
      "Evaluating\n"
     ]
    },
    {
     "name": "stderr",
     "output_type": "stream",
     "text": [
      "\n",
      " 16%|#6        | 9/55 [00:00<00:00, 82.46it/s]\u001b[A\n",
      " 31%|###       | 17/55 [00:00<00:00, 78.86it/s]\u001b[A\n",
      " 44%|####3     | 24/55 [00:00<00:00, 73.59it/s]\u001b[A\n",
      " 55%|#####4    | 30/55 [00:00<00:00, 66.86it/s]\u001b[A\n",
      " 71%|#######   | 39/55 [00:00<00:00, 71.44it/s]\u001b[A\n",
      " 85%|########5 | 47/55 [00:00<00:00, 71.84it/s]\u001b[A\n",
      " 68%|██████▊   | 424/628 [00:18<00:21,  9.35it/s]A"
     ]
    },
    {
     "name": "stdout",
     "output_type": "stream",
     "text": [
      "{'ade': 0.53529775, 'fde': 1.1508723}\n",
      "\t last loss:0.000339201, eval on validation:['ade: 0.53529775', 'fde: 1.1508723'], (best ade:0.5337155 at step 35700) \n"
     ]
    },
    {
     "name": "stderr",
     "output_type": "stream",
     "text": [
      "100%|██████████| 628/628 [00:27<00:00, 22.93it/s]\n",
      "  0%|          | 2/628 [00:00<00:40, 15.59it/s]"
     ]
    },
    {
     "name": "stdout",
     "output_type": "stream",
     "text": [
      "('Epoca 62.', 'lr:', 1.5261532e-05)\n"
     ]
    },
    {
     "name": "stderr",
     "output_type": "stream",
     "text": [
      " 14%|█▍        | 89/628 [00:03<00:21, 25.16it/s]"
     ]
    },
    {
     "name": "stdout",
     "output_type": "stream",
     "text": [
      "\tsaving model 38400...\n"
     ]
    },
    {
     "name": "stderr",
     "output_type": "stream",
     "text": [
      "\n",
      "  0%|          | 0/55 [00:00<?, ?it/s]\u001b[A\n",
      " 16%|#6        | 9/55 [00:00<00:00, 83.97it/s]\u001b[A"
     ]
    },
    {
     "name": "stdout",
     "output_type": "stream",
     "text": [
      "\tdone\n",
      "Evaluating\n"
     ]
    },
    {
     "name": "stderr",
     "output_type": "stream",
     "text": [
      "\n",
      " 29%|##9       | 16/55 [00:00<00:00, 77.15it/s]\u001b[A\n",
      " 44%|####3     | 24/55 [00:00<00:00, 74.71it/s]\u001b[A\n",
      " 56%|#####6    | 31/55 [00:00<00:00, 72.02it/s]\u001b[A\n",
      " 75%|#######4  | 41/55 [00:00<00:00, 77.74it/s]\u001b[A\n",
      " 91%|######### | 50/55 [00:00<00:00, 80.01it/s]\u001b[A\n",
      " 15%|█▌        | 95/628 [00:04<00:55,  9.67it/s][A"
     ]
    },
    {
     "name": "stdout",
     "output_type": "stream",
     "text": [
      "{'ade': 0.53591484, 'fde': 1.1532494}\n",
      "\t last loss:0.000582175, eval on validation:['ade: 0.53591484', 'fde: 1.1532494'], (best ade:0.5337155 at step 35700) \n"
     ]
    },
    {
     "name": "stderr",
     "output_type": "stream",
     "text": [
      " 62%|██████▏   | 389/628 [00:16<00:08, 26.81it/s]\n",
      "  0%|          | 0/55 [00:00<?, ?it/s]\u001b[A"
     ]
    },
    {
     "name": "stdout",
     "output_type": "stream",
     "text": [
      "\tsaving model 38700...\n",
      "\tdone\n",
      "Evaluating\n"
     ]
    },
    {
     "name": "stderr",
     "output_type": "stream",
     "text": [
      "\n",
      " 16%|#6        | 9/55 [00:00<00:00, 88.87it/s]\u001b[A\n",
      " 33%|###2      | 18/55 [00:00<00:00, 87.72it/s]\u001b[A\n",
      " 45%|####5     | 25/55 [00:00<00:00, 78.31it/s]\u001b[A\n",
      " 58%|#####8    | 32/55 [00:00<00:00, 71.13it/s]\u001b[A\n",
      " 71%|#######   | 39/55 [00:00<00:00, 70.59it/s]\u001b[A\n",
      " 85%|########5 | 47/55 [00:00<00:00, 72.73it/s]\u001b[A\n",
      " 63%|██████▎   | 395/628 [00:17<00:24,  9.56it/s]A"
     ]
    },
    {
     "name": "stdout",
     "output_type": "stream",
     "text": [
      "{'ade': 0.534395, 'fde': 1.1481271}\n",
      "\t last loss:0.000347912, eval on validation:['ade: 0.534395', 'fde: 1.1481271'], (best ade:0.5337155 at step 35700) \n"
     ]
    },
    {
     "name": "stderr",
     "output_type": "stream",
     "text": [
      "100%|██████████| 628/628 [00:26<00:00, 23.50it/s]\n",
      "  0%|          | 1/628 [00:00<01:17,  8.08it/s]"
     ]
    },
    {
     "name": "stdout",
     "output_type": "stream",
     "text": [
      "('Epoca 63.', 'lr:', 1.2972303e-05)\n"
     ]
    },
    {
     "name": "stderr",
     "output_type": "stream",
     "text": [
      " 10%|▉         | 61/628 [00:02<00:26, 21.25it/s]"
     ]
    },
    {
     "name": "stdout",
     "output_type": "stream",
     "text": [
      "\tsaving model 39000...\n"
     ]
    },
    {
     "name": "stderr",
     "output_type": "stream",
     "text": [
      "\n",
      "  0%|          | 0/55 [00:00<?, ?it/s]\u001b[A\n",
      " 11%|#         | 6/55 [00:00<00:00, 57.73it/s]\u001b[A"
     ]
    },
    {
     "name": "stdout",
     "output_type": "stream",
     "text": [
      "\tdone\n",
      "Evaluating\n"
     ]
    },
    {
     "name": "stderr",
     "output_type": "stream",
     "text": [
      "\n",
      " 20%|##        | 11/55 [00:00<00:00, 53.62it/s]\u001b[A\n",
      " 27%|##7       | 15/55 [00:00<00:00, 47.76it/s]\u001b[A\n",
      " 38%|###8      | 21/55 [00:00<00:00, 50.22it/s]\u001b[A\n",
      " 49%|####9     | 27/55 [00:00<00:00, 51.65it/s]\u001b[A\n",
      " 62%|######1   | 34/55 [00:00<00:00, 55.61it/s]\u001b[A\n",
      " 75%|#######4  | 41/55 [00:00<00:00, 59.04it/s]\u001b[A\n",
      " 87%|########7 | 48/55 [00:00<00:00, 61.67it/s]\u001b[A\n",
      " 11%|█         | 66/628 [00:04<01:14,  7.55it/s][A"
     ]
    },
    {
     "name": "stdout",
     "output_type": "stream",
     "text": [
      "{'ade': 0.53551066, 'fde': 1.1517456}\n",
      "\t last loss:0.000433838, eval on validation:['ade: 0.53551066', 'fde: 1.1517456'], (best ade:0.5337155 at step 35700) \n"
     ]
    },
    {
     "name": "stderr",
     "output_type": "stream",
     "text": [
      " 58%|█████▊    | 362/628 [00:16<00:10, 26.46it/s]\n",
      "  0%|          | 0/55 [00:00<?, ?it/s]\u001b[A"
     ]
    },
    {
     "name": "stdout",
     "output_type": "stream",
     "text": [
      "\tsaving model 39300...\n",
      "\tdone\n",
      "Evaluating\n"
     ]
    },
    {
     "name": "stderr",
     "output_type": "stream",
     "text": [
      "\n",
      " 18%|#8        | 10/55 [00:00<00:00, 97.39it/s]\u001b[A\n",
      " 36%|###6      | 20/55 [00:00<00:00, 94.84it/s]\u001b[A\n",
      " 51%|#####     | 28/55 [00:00<00:00, 88.05it/s]\u001b[A\n",
      " 67%|######7   | 37/55 [00:00<00:00, 86.64it/s]\u001b[A\n",
      " 84%|########3 | 46/55 [00:00<00:00, 87.02it/s]\u001b[A\n",
      "100%|##########| 55/55 [00:00<00:00, 85.55it/s]\u001b[A"
     ]
    },
    {
     "name": "stdout",
     "output_type": "stream",
     "text": [
      "{'ade': 0.5328797, 'fde': 1.1433735}\n",
      "\t last loss:0.000273436, eval on validation:['ade: 0.5328797', 'fde: 1.1433735'], (best ade:0.5337155 at step 35700) \n",
      "\t saving best model...\n",
      "\t done.\n"
     ]
    },
    {
     "name": "stderr",
     "output_type": "stream",
     "text": [
      "100%|██████████| 628/628 [00:28<00:00, 22.21it/s]\n",
      "  0%|          | 2/628 [00:00<00:38, 16.23it/s]"
     ]
    },
    {
     "name": "stdout",
     "output_type": "stream",
     "text": [
      "('Epoca 64.', 'lr:', 1.2972303e-05)\n"
     ]
    },
    {
     "name": "stderr",
     "output_type": "stream",
     "text": [
      "  6%|▌         | 35/628 [00:01<00:23, 24.92it/s]\n",
      "  0%|          | 0/55 [00:00<?, ?it/s]\u001b[A"
     ]
    },
    {
     "name": "stdout",
     "output_type": "stream",
     "text": [
      "\tsaving model 39600...\n",
      "\tdone\n",
      "Evaluating\n"
     ]
    },
    {
     "name": "stderr",
     "output_type": "stream",
     "text": [
      "\n",
      " 18%|#8        | 10/55 [00:00<00:00, 96.31it/s]\u001b[A\n",
      " 36%|###6      | 20/55 [00:00<00:00, 95.85it/s]\u001b[A\n",
      " 47%|####7     | 26/55 [00:00<00:00, 79.61it/s]\u001b[A\n",
      " 60%|######    | 33/55 [00:00<00:00, 76.12it/s]\u001b[A\n",
      " 73%|#######2  | 40/55 [00:00<00:00, 73.93it/s]\u001b[A\n",
      " 89%|########9 | 49/55 [00:00<00:00, 78.00it/s]\u001b[A\n",
      "  6%|▌         | 38/628 [00:02<01:15,  7.80it/s][A"
     ]
    },
    {
     "name": "stdout",
     "output_type": "stream",
     "text": [
      "{'ade': 0.5349013, 'fde': 1.1492919}\n",
      "\t last loss:0.000251695, eval on validation:['ade: 0.5349013', 'fde: 1.1492919'], (best ade:0.5328797 at step 39300) \n"
     ]
    },
    {
     "name": "stderr",
     "output_type": "stream",
     "text": [
      " 53%|█████▎    | 335/628 [00:14<00:11, 24.99it/s]\n",
      "  0%|          | 0/55 [00:00<?, ?it/s]\u001b[A"
     ]
    },
    {
     "name": "stdout",
     "output_type": "stream",
     "text": [
      "\tsaving model 39900...\n",
      "\tdone\n",
      "Evaluating\n"
     ]
    },
    {
     "name": "stderr",
     "output_type": "stream",
     "text": [
      "\n",
      " 16%|#6        | 9/55 [00:00<00:00, 89.68it/s]\u001b[A\n",
      " 27%|##7       | 15/55 [00:00<00:00, 76.48it/s]\u001b[A\n",
      " 40%|####      | 22/55 [00:00<00:00, 74.38it/s]\u001b[A\n",
      " 53%|#####2    | 29/55 [00:00<00:00, 71.48it/s]\u001b[A\n",
      " 67%|######7   | 37/55 [00:00<00:00, 72.13it/s]\u001b[A\n",
      " 80%|########  | 44/55 [00:00<00:00, 70.83it/s]\u001b[A\n",
      " 95%|#########4| 52/55 [00:00<00:00, 70.68it/s]\u001b[A\n",
      " 54%|█████▍    | 338/628 [00:15<00:40,  7.22it/s]A"
     ]
    },
    {
     "name": "stdout",
     "output_type": "stream",
     "text": [
      "{'ade': 0.5359072, 'fde': 1.1524436}\n",
      "\t last loss:0.000501094, eval on validation:['ade: 0.5359072', 'fde: 1.1524436'], (best ade:0.5328797 at step 39300) \n"
     ]
    },
    {
     "name": "stderr",
     "output_type": "stream",
     "text": [
      "100%|██████████| 628/628 [00:26<00:00, 23.59it/s]\n",
      "  0%|          | 1/628 [00:00<01:15,  8.33it/s]"
     ]
    },
    {
     "name": "stdout",
     "output_type": "stream",
     "text": [
      "('Epoca 65.', 'lr:', 1.1026457e-05)\n"
     ]
    },
    {
     "name": "stderr",
     "output_type": "stream",
     "text": [
      "  1%|          | 7/628 [00:00<00:49, 12.50it/s]\n",
      "  0%|          | 0/55 [00:00<?, ?it/s]\u001b[A"
     ]
    },
    {
     "name": "stdout",
     "output_type": "stream",
     "text": [
      "\tsaving model 40200...\n",
      "\tdone\n",
      "Evaluating\n"
     ]
    },
    {
     "name": "stderr",
     "output_type": "stream",
     "text": [
      "\n",
      " 18%|#8        | 10/55 [00:00<00:00, 95.72it/s]\u001b[A\n",
      " 35%|###4      | 19/55 [00:00<00:00, 92.75it/s]\u001b[A\n",
      " 47%|####7     | 26/55 [00:00<00:00, 84.22it/s]\u001b[A\n",
      " 60%|######    | 33/55 [00:00<00:00, 77.48it/s]\u001b[A\n",
      " 76%|#######6  | 42/55 [00:00<00:00, 79.83it/s]\u001b[A\n",
      " 95%|#########4| 52/55 [00:00<00:00, 82.59it/s]\u001b[A\n",
      "  2%|▏         | 12/628 [00:01<01:34,  6.55it/s][A"
     ]
    },
    {
     "name": "stdout",
     "output_type": "stream",
     "text": [
      "{'ade': 0.5348169, 'fde': 1.1489154}\n",
      "\t last loss:0.000265818, eval on validation:['ade: 0.5348169', 'fde: 1.1489154'], (best ade:0.5328797 at step 39300) \n"
     ]
    },
    {
     "name": "stderr",
     "output_type": "stream",
     "text": [
      " 49%|████▉     | 307/628 [00:15<00:13, 23.88it/s]\n",
      "  0%|          | 0/55 [00:00<?, ?it/s]\u001b[A"
     ]
    },
    {
     "name": "stdout",
     "output_type": "stream",
     "text": [
      "\tsaving model 40500...\n",
      "\tdone\n",
      "Evaluating\n"
     ]
    },
    {
     "name": "stderr",
     "output_type": "stream",
     "text": [
      "\n",
      " 15%|#4        | 8/55 [00:00<00:00, 79.52it/s]\u001b[A\n",
      " 25%|##5       | 14/55 [00:00<00:00, 68.76it/s]\u001b[A\n",
      " 38%|###8      | 21/55 [00:00<00:00, 68.46it/s]\u001b[A\n",
      " 51%|#####     | 28/55 [00:00<00:00, 68.83it/s]\u001b[A\n",
      " 65%|######5   | 36/55 [00:00<00:00, 70.06it/s]\u001b[A\n",
      " 82%|########1 | 45/55 [00:00<00:00, 74.14it/s]\u001b[A\n",
      " 98%|#########8| 54/55 [00:00<00:00, 77.62it/s]\u001b[A\n",
      " 49%|████▉     | 310/628 [00:16<00:43,  7.29it/s]A"
     ]
    },
    {
     "name": "stdout",
     "output_type": "stream",
     "text": [
      "{'ade': 0.5349112, 'fde': 1.1495517}\n",
      "\t last loss:0.000349256, eval on validation:['ade: 0.5349112', 'fde: 1.1495517'], (best ade:0.5328797 at step 39300) \n"
     ]
    },
    {
     "name": "stderr",
     "output_type": "stream",
     "text": [
      " 97%|█████████▋| 607/628 [00:28<00:00, 26.97it/s]\n",
      "  0%|          | 0/55 [00:00<?, ?it/s]\u001b[A"
     ]
    },
    {
     "name": "stdout",
     "output_type": "stream",
     "text": [
      "\tsaving model 40800...\n",
      "\tdone\n",
      "Evaluating\n"
     ]
    },
    {
     "name": "stderr",
     "output_type": "stream",
     "text": [
      "\n",
      " 18%|#8        | 10/55 [00:00<00:00, 90.77it/s]\u001b[A\n",
      " 29%|##9       | 16/55 [00:00<00:00, 77.58it/s]\u001b[A\n",
      " 42%|####1     | 23/55 [00:00<00:00, 75.02it/s]\u001b[A\n",
      " 56%|#####6    | 31/55 [00:00<00:00, 76.14it/s]\u001b[A\n",
      " 73%|#######2  | 40/55 [00:00<00:00, 78.42it/s]\u001b[A\n",
      " 89%|########9 | 49/55 [00:00<00:00, 81.50it/s]\u001b[A\n",
      " 97%|█████████▋| 610/628 [00:28<00:02,  8.04it/s]A"
     ]
    },
    {
     "name": "stdout",
     "output_type": "stream",
     "text": [
      "{'ade': 0.5339721, 'fde': 1.1467012}\n",
      "\t last loss:0.000309382, eval on validation:['ade: 0.5339721', 'fde: 1.1467012'], (best ade:0.5328797 at step 39300) \n"
     ]
    },
    {
     "name": "stderr",
     "output_type": "stream",
     "text": [
      "100%|██████████| 628/628 [00:29<00:00, 20.55it/s]\n",
      "  0%|          | 3/628 [00:00<00:27, 23.06it/s]"
     ]
    },
    {
     "name": "stdout",
     "output_type": "stream",
     "text": [
      "('Epoca 66.', 'lr:', 1.1026457e-05)\n"
     ]
    },
    {
     "name": "stderr",
     "output_type": "stream",
     "text": [
      " 44%|████▍     | 279/628 [00:10<00:14, 24.48it/s]\n",
      "  0%|          | 0/55 [00:00<?, ?it/s]\u001b[A"
     ]
    },
    {
     "name": "stdout",
     "output_type": "stream",
     "text": [
      "\tsaving model 41100...\n",
      "\tdone\n",
      "Evaluating\n"
     ]
    },
    {
     "name": "stderr",
     "output_type": "stream",
     "text": [
      "\n",
      " 16%|#6        | 9/55 [00:00<00:00, 89.06it/s]\u001b[A\n",
      " 29%|##9       | 16/55 [00:00<00:00, 78.82it/s]\u001b[A\n",
      " 44%|####3     | 24/55 [00:00<00:00, 75.40it/s]\u001b[A\n",
      " 55%|#####4    | 30/55 [00:00<00:00, 69.64it/s]\u001b[A\n",
      " 71%|#######   | 39/55 [00:00<00:00, 72.96it/s]\u001b[A\n",
      " 85%|########5 | 47/55 [00:00<00:00, 74.18it/s]\u001b[A\n",
      " 45%|████▍     | 282/628 [00:12<00:46,  7.37it/s]A"
     ]
    },
    {
     "name": "stdout",
     "output_type": "stream",
     "text": [
      "{'ade': 0.53404653, 'fde': 1.1461352}\n",
      "\t last loss:0.000527331, eval on validation:['ade: 0.53404653', 'fde: 1.1461352'], (best ade:0.5328797 at step 39300) \n"
     ]
    },
    {
     "name": "stderr",
     "output_type": "stream",
     "text": [
      " 92%|█████████▏| 579/628 [00:24<00:02, 20.99it/s]"
     ]
    },
    {
     "name": "stdout",
     "output_type": "stream",
     "text": [
      "\tsaving model 41400...\n"
     ]
    },
    {
     "name": "stderr",
     "output_type": "stream",
     "text": [
      "\n",
      "  0%|          | 0/55 [00:00<?, ?it/s]\u001b[A\n",
      " 13%|#2        | 7/55 [00:00<00:00, 57.81it/s]\u001b[A"
     ]
    },
    {
     "name": "stdout",
     "output_type": "stream",
     "text": [
      "\tdone\n",
      "Evaluating\n"
     ]
    },
    {
     "name": "stderr",
     "output_type": "stream",
     "text": [
      "\n",
      " 22%|##1       | 12/55 [00:00<00:00, 54.36it/s]\u001b[A\n",
      " 31%|###       | 17/55 [00:00<00:00, 50.78it/s]\u001b[A\n",
      " 44%|####3     | 24/55 [00:00<00:00, 54.11it/s]\u001b[A\n",
      " 56%|#####6    | 31/55 [00:00<00:00, 57.93it/s]\u001b[A\n",
      " 69%|######9   | 38/55 [00:00<00:00, 59.36it/s]\u001b[A\n",
      " 82%|########1 | 45/55 [00:00<00:00, 61.26it/s]\u001b[A\n",
      " 96%|#########6| 53/55 [00:00<00:00, 64.74it/s]\u001b[A\n",
      " 93%|█████████▎| 582/628 [00:25<00:07,  6.09it/s]A"
     ]
    },
    {
     "name": "stdout",
     "output_type": "stream",
     "text": [
      "{'ade': 0.537047, 'fde': 1.1552243}\n",
      "\t last loss:0.000357622, eval on validation:['ade: 0.537047', 'fde: 1.1552243'], (best ade:0.5328797 at step 39300) \n"
     ]
    },
    {
     "name": "stderr",
     "output_type": "stream",
     "text": [
      "100%|██████████| 628/628 [00:27<00:00, 22.67it/s]\n",
      "  0%|          | 2/628 [00:00<00:38, 16.46it/s]"
     ]
    },
    {
     "name": "stdout",
     "output_type": "stream",
     "text": [
      "('Epoca 67.', 'lr:', 9.37249e-06)\n"
     ]
    },
    {
     "name": "stderr",
     "output_type": "stream",
     "text": [
      " 40%|███▉      | 251/628 [00:09<00:15, 25.09it/s]"
     ]
    },
    {
     "name": "stdout",
     "output_type": "stream",
     "text": [
      "\tsaving model 41700...\n",
      "\tdone\n",
      "Evaluating\n"
     ]
    },
    {
     "name": "stderr",
     "output_type": "stream",
     "text": [
      "\n",
      "  0%|          | 0/55 [00:00<?, ?it/s]\u001b[A\n",
      " 16%|#6        | 9/55 [00:00<00:00, 89.93it/s]\u001b[A\n",
      " 27%|##7       | 15/55 [00:00<00:00, 76.46it/s]\u001b[A\n",
      " 40%|####      | 22/55 [00:00<00:00, 72.73it/s]\u001b[A\n",
      " 55%|#####4    | 30/55 [00:00<00:00, 73.20it/s]\u001b[A\n",
      " 69%|######9   | 38/55 [00:00<00:00, 73.52it/s]\u001b[A\n",
      " 84%|########3 | 46/55 [00:00<00:00, 75.28it/s]\u001b[A\n",
      " 40%|████      | 254/628 [00:11<00:50,  7.35it/s]A"
     ]
    },
    {
     "name": "stdout",
     "output_type": "stream",
     "text": [
      "{'ade': 0.5365171, 'fde': 1.1538907}\n",
      "\t last loss:0.000451470, eval on validation:['ade: 0.5365171', 'fde: 1.1538907'], (best ade:0.5328797 at step 39300) \n"
     ]
    },
    {
     "name": "stderr",
     "output_type": "stream",
     "text": [
      " 88%|████████▊ | 551/628 [00:22<00:02, 26.99it/s]\n",
      "  0%|          | 0/55 [00:00<?, ?it/s]\u001b[A"
     ]
    },
    {
     "name": "stdout",
     "output_type": "stream",
     "text": [
      "\tsaving model 42000...\n",
      "\tdone\n",
      "Evaluating\n"
     ]
    },
    {
     "name": "stderr",
     "output_type": "stream",
     "text": [
      "\n",
      " 18%|#8        | 10/55 [00:00<00:00, 96.82it/s]\u001b[A\n",
      " 31%|###       | 17/55 [00:00<00:00, 86.55it/s]\u001b[A\n",
      " 45%|####5     | 25/55 [00:00<00:00, 82.61it/s]\u001b[A\n",
      " 58%|#####8    | 32/55 [00:00<00:00, 78.12it/s]\u001b[A\n",
      " 76%|#######6  | 42/55 [00:00<00:00, 81.83it/s]\u001b[A\n",
      " 93%|#########2| 51/55 [00:00<00:00, 82.32it/s]\u001b[A\n",
      " 88%|████████▊ | 554/628 [00:23<00:09,  8.06it/s]A"
     ]
    },
    {
     "name": "stdout",
     "output_type": "stream",
     "text": [
      "{'ade': 0.5367306, 'fde': 1.1549524}\n",
      "\t last loss:0.000264594, eval on validation:['ade: 0.5367306', 'fde: 1.1549524'], (best ade:0.5328797 at step 39300) \n"
     ]
    },
    {
     "name": "stderr",
     "output_type": "stream",
     "text": [
      "100%|██████████| 628/628 [00:26<00:00, 23.52it/s]\n",
      "  0%|          | 2/628 [00:00<00:45, 13.88it/s]"
     ]
    },
    {
     "name": "stdout",
     "output_type": "stream",
     "text": [
      "('Epoca 68.', 'lr:', 9.37249e-06)\n"
     ]
    },
    {
     "name": "stderr",
     "output_type": "stream",
     "text": [
      " 35%|███▌      | 221/628 [00:08<00:16, 25.20it/s]\n",
      "  0%|          | 0/55 [00:00<?, ?it/s]\u001b[A"
     ]
    },
    {
     "name": "stdout",
     "output_type": "stream",
     "text": [
      "\tsaving model 42300...\n",
      "\tdone\n",
      "Evaluating\n"
     ]
    },
    {
     "name": "stderr",
     "output_type": "stream",
     "text": [
      "\n",
      " 16%|#6        | 9/55 [00:00<00:00, 87.33it/s]\u001b[A\n",
      " 31%|###       | 17/55 [00:00<00:00, 82.46it/s]\u001b[A\n",
      " 40%|####      | 22/55 [00:00<00:00, 68.43it/s]\u001b[A\n",
      " 51%|#####     | 28/55 [00:00<00:00, 65.31it/s]\u001b[A\n",
      " 65%|######5   | 36/55 [00:00<00:00, 67.63it/s]\u001b[A\n",
      " 80%|########  | 44/55 [00:00<00:00, 70.06it/s]\u001b[A\n",
      " 96%|#########6| 53/55 [00:00<00:00, 73.58it/s]\u001b[A\n",
      " 36%|███▌      | 227/628 [00:09<00:43,  9.29it/s]A"
     ]
    },
    {
     "name": "stdout",
     "output_type": "stream",
     "text": [
      "{'ade': 0.5353623, 'fde': 1.1511908}\n",
      "\t last loss:0.000319954, eval on validation:['ade: 0.5353623', 'fde: 1.1511908'], (best ade:0.5328797 at step 39300) \n"
     ]
    },
    {
     "name": "stderr",
     "output_type": "stream",
     "text": [
      " 83%|████████▎ | 523/628 [00:22<00:04, 25.13it/s]\n",
      "  0%|          | 0/55 [00:00<?, ?it/s]\u001b[A"
     ]
    },
    {
     "name": "stdout",
     "output_type": "stream",
     "text": [
      "\tsaving model 42600...\n",
      "\tdone\n",
      "Evaluating\n"
     ]
    },
    {
     "name": "stderr",
     "output_type": "stream",
     "text": [
      "\n",
      " 16%|#6        | 9/55 [00:00<00:00, 88.74it/s]\u001b[A\n",
      " 29%|##9       | 16/55 [00:00<00:00, 81.14it/s]\u001b[A\n",
      " 44%|####3     | 24/55 [00:00<00:00, 77.97it/s]\u001b[A\n",
      " 58%|#####8    | 32/55 [00:00<00:00, 76.68it/s]\u001b[A\n",
      " 75%|#######4  | 41/55 [00:00<00:00, 79.10it/s]\u001b[A\n",
      " 91%|######### | 50/55 [00:00<00:00, 81.40it/s]\u001b[A\n",
      " 84%|████████▍ | 526/628 [00:23<00:12,  7.87it/s]A"
     ]
    },
    {
     "name": "stdout",
     "output_type": "stream",
     "text": [
      "{'ade': 0.5353433, 'fde': 1.151088}\n",
      "\t last loss:0.000335445, eval on validation:['ade: 0.5353433', 'fde: 1.151088'], (best ade:0.5328797 at step 39300) \n"
     ]
    },
    {
     "name": "stderr",
     "output_type": "stream",
     "text": [
      "100%|██████████| 628/628 [00:27<00:00, 25.43it/s]\n",
      "  0%|          | 3/628 [00:00<00:25, 24.13it/s]"
     ]
    },
    {
     "name": "stdout",
     "output_type": "stream",
     "text": [
      "('Epoca 69.', 'lr:', 7.966617e-06)\n"
     ]
    },
    {
     "name": "stderr",
     "output_type": "stream",
     "text": [
      " 31%|███       | 195/628 [00:07<00:17, 25.42it/s]\n",
      "  0%|          | 0/55 [00:00<?, ?it/s]\u001b[A"
     ]
    },
    {
     "name": "stdout",
     "output_type": "stream",
     "text": [
      "\tsaving model 42900...\n",
      "\tdone\n",
      "Evaluating\n"
     ]
    },
    {
     "name": "stderr",
     "output_type": "stream",
     "text": [
      "\n",
      " 16%|#6        | 9/55 [00:00<00:00, 89.05it/s]\u001b[A\n",
      " 33%|###2      | 18/55 [00:00<00:00, 88.52it/s]\u001b[A\n",
      " 49%|####9     | 27/55 [00:00<00:00, 86.86it/s]\u001b[A\n",
      " 65%|######5   | 36/55 [00:00<00:00, 86.96it/s]\u001b[A\n",
      " 80%|########  | 44/55 [00:00<00:00, 81.04it/s]\u001b[A\n",
      " 95%|#########4| 52/55 [00:00<00:00, 79.28it/s]\u001b[A\n",
      " 32%|███▏      | 198/628 [00:08<00:55,  7.81it/s]A"
     ]
    },
    {
     "name": "stdout",
     "output_type": "stream",
     "text": [
      "{'ade': 0.53512555, 'fde': 1.1502635}\n",
      "\t last loss:0.000440587, eval on validation:['ade: 0.53512555', 'fde: 1.1502635'], (best ade:0.5328797 at step 39300) \n"
     ]
    },
    {
     "name": "stderr",
     "output_type": "stream",
     "text": [
      " 79%|███████▉  | 495/628 [00:20<00:04, 27.00it/s]\n",
      "  0%|          | 0/55 [00:00<?, ?it/s]\u001b[A"
     ]
    },
    {
     "name": "stdout",
     "output_type": "stream",
     "text": [
      "\tsaving model 43200...\n",
      "\tdone\n",
      "Evaluating\n"
     ]
    },
    {
     "name": "stderr",
     "output_type": "stream",
     "text": [
      "\n",
      " 18%|#8        | 10/55 [00:00<00:00, 90.67it/s]\u001b[A\n",
      " 35%|###4      | 19/55 [00:00<00:00, 90.30it/s]\u001b[A\n",
      " 51%|#####     | 28/55 [00:00<00:00, 87.76it/s]\u001b[A\n",
      " 65%|######5   | 36/55 [00:00<00:00, 82.91it/s]\u001b[A\n",
      " 78%|#######8  | 43/55 [00:00<00:00, 75.89it/s]\u001b[A\n",
      " 96%|#########6| 53/55 [00:00<00:00, 79.95it/s]\u001b[A\n",
      " 79%|███████▉  | 498/628 [00:21<00:16,  8.01it/s]A"
     ]
    },
    {
     "name": "stdout",
     "output_type": "stream",
     "text": [
      "{'ade': 0.5347443, 'fde': 1.1488587}\n",
      "\t last loss:0.000471869, eval on validation:['ade: 0.5347443', 'fde: 1.1488587'], (best ade:0.5328797 at step 39300) \n"
     ]
    },
    {
     "name": "stderr",
     "output_type": "stream",
     "text": [
      "100%|██████████| 628/628 [00:27<00:00, 23.04it/s]\n",
      "  0%|          | 3/628 [00:00<00:24, 25.10it/s]"
     ]
    },
    {
     "name": "stdout",
     "output_type": "stream",
     "text": [
      "('Epoca 70.', 'lr:', 7.966617e-06)\n"
     ]
    },
    {
     "name": "stderr",
     "output_type": "stream",
     "text": [
      " 26%|██▋       | 165/628 [00:06<00:18, 25.33it/s]\n",
      "  0%|          | 0/55 [00:00<?, ?it/s]\u001b[A"
     ]
    },
    {
     "name": "stdout",
     "output_type": "stream",
     "text": [
      "\tsaving model 43500...\n",
      "\tdone\n",
      "Evaluating\n"
     ]
    },
    {
     "name": "stderr",
     "output_type": "stream",
     "text": [
      "\n",
      " 16%|#6        | 9/55 [00:00<00:00, 87.98it/s]\u001b[A\n",
      " 31%|###       | 17/55 [00:00<00:00, 84.96it/s]\u001b[A\n",
      " 42%|####1     | 23/55 [00:00<00:00, 74.87it/s]\u001b[A\n",
      " 55%|#####4    | 30/55 [00:00<00:00, 71.03it/s]\u001b[A\n",
      " 67%|######7   | 37/55 [00:00<00:00, 68.93it/s]\u001b[A\n",
      " 82%|########1 | 45/55 [00:00<00:00, 70.82it/s]\u001b[A\n",
      " 98%|#########8| 54/55 [00:00<00:00, 73.77it/s]\u001b[A\n",
      " 27%|██▋       | 171/628 [00:07<00:48,  9.37it/s]A"
     ]
    },
    {
     "name": "stdout",
     "output_type": "stream",
     "text": [
      "{'ade': 0.5349125, 'fde': 1.1497782}\n",
      "\t last loss:0.000493447, eval on validation:['ade: 0.5349125', 'fde: 1.1497782'], (best ade:0.5328797 at step 39300) \n"
     ]
    },
    {
     "name": "stderr",
     "output_type": "stream",
     "text": [
      " 74%|███████▍  | 465/628 [00:20<00:07, 21.59it/s]"
     ]
    },
    {
     "name": "stdout",
     "output_type": "stream",
     "text": [
      "\tsaving model 43800...\n"
     ]
    },
    {
     "name": "stderr",
     "output_type": "stream",
     "text": [
      "\n",
      "  0%|          | 0/55 [00:00<?, ?it/s]\u001b[A\n",
      " 16%|#6        | 9/55 [00:00<00:00, 81.39it/s]\u001b[A"
     ]
    },
    {
     "name": "stdout",
     "output_type": "stream",
     "text": [
      "\tdone\n",
      "Evaluating\n"
     ]
    },
    {
     "name": "stderr",
     "output_type": "stream",
     "text": [
      "\n",
      " 31%|###       | 17/55 [00:00<00:00, 79.98it/s]\u001b[A\n",
      " 45%|####5     | 25/55 [00:00<00:00, 79.63it/s]\u001b[A\n",
      " 60%|######    | 33/55 [00:00<00:00, 79.01it/s]\u001b[A\n",
      " 75%|#######4  | 41/55 [00:00<00:00, 78.35it/s]\u001b[A\n",
      " 89%|########9 | 49/55 [00:00<00:00, 76.37it/s]\u001b[A\n",
      " 75%|███████▌  | 471/628 [00:21<00:17,  9.04it/s]A"
     ]
    },
    {
     "name": "stdout",
     "output_type": "stream",
     "text": [
      "{'ade': 0.53528285, 'fde': 1.1510254}\n",
      "\t last loss:0.000540104, eval on validation:['ade: 0.53528285', 'fde: 1.1510254'], (best ade:0.5328797 at step 39300) \n"
     ]
    },
    {
     "name": "stderr",
     "output_type": "stream",
     "text": [
      "100%|██████████| 628/628 [00:28<00:00, 24.72it/s]\n",
      "  0%|          | 2/628 [00:00<00:35, 17.69it/s]"
     ]
    },
    {
     "name": "stdout",
     "output_type": "stream",
     "text": [
      "('Epoca 71.', 'lr:', 6.7716246e-06)\n"
     ]
    },
    {
     "name": "stderr",
     "output_type": "stream",
     "text": [
      " 22%|██▏       | 137/628 [00:05<00:19, 24.93it/s]\n"
     ]
    },
    {
     "name": "stdout",
     "output_type": "stream",
     "text": [
      "\tsaving model 44100...\n",
      "\tdone\n",
      "Evaluating\n"
     ]
    },
    {
     "name": "stderr",
     "output_type": "stream",
     "text": [
      "  0%|          | 0/55 [00:00<?, ?it/s]\u001b[A\n",
      " 16%|#6        | 9/55 [00:00<00:00, 88.05it/s]\u001b[A\n",
      " 27%|##7       | 15/55 [00:00<00:00, 76.63it/s]\u001b[A\n",
      " 38%|###8      | 21/55 [00:00<00:00, 69.05it/s]\u001b[A\n",
      " 49%|####9     | 27/55 [00:00<00:00, 63.42it/s]\u001b[A\n",
      " 65%|######5   | 36/55 [00:00<00:00, 68.68it/s]\u001b[A\n",
      " 80%|########  | 44/55 [00:00<00:00, 69.81it/s]\u001b[A\n",
      " 96%|#########6| 53/55 [00:00<00:00, 74.16it/s]\u001b[A\n",
      " 23%|██▎       | 143/628 [00:06<00:52,  9.19it/s]A"
     ]
    },
    {
     "name": "stdout",
     "output_type": "stream",
     "text": [
      "{'ade': 0.5349892, 'fde': 1.1495254}\n",
      "\t last loss:0.000537368, eval on validation:['ade: 0.5349892', 'fde: 1.1495254'], (best ade:0.5328797 at step 39300) \n"
     ]
    },
    {
     "name": "stderr",
     "output_type": "stream",
     "text": [
      " 70%|██████▉   | 437/628 [00:18<00:07, 25.82it/s]\n",
      "  0%|          | 0/55 [00:00<?, ?it/s]\u001b[A"
     ]
    },
    {
     "name": "stdout",
     "output_type": "stream",
     "text": [
      "\tsaving model 44400...\n",
      "\tdone\n",
      "Evaluating\n"
     ]
    },
    {
     "name": "stderr",
     "output_type": "stream",
     "text": [
      "\n",
      " 18%|#8        | 10/55 [00:00<00:00, 97.25it/s]\u001b[A\n",
      " 36%|###6      | 20/55 [00:00<00:00, 97.17it/s]\u001b[A\n",
      " 51%|#####     | 28/55 [00:00<00:00, 87.17it/s]\u001b[A\n",
      " 65%|######5   | 36/55 [00:00<00:00, 82.80it/s]\u001b[A\n",
      " 78%|#######8  | 43/55 [00:00<00:00, 76.62it/s]\u001b[A\n",
      " 93%|#########2| 51/55 [00:00<00:00, 77.22it/s]\u001b[A\n",
      " 71%|███████   | 443/628 [00:19<00:18, 10.02it/s]A"
     ]
    },
    {
     "name": "stdout",
     "output_type": "stream",
     "text": [
      "{'ade': 0.5349213, 'fde': 1.1493719}\n",
      "\t last loss:0.000330836, eval on validation:['ade: 0.5349213', 'fde: 1.1493719'], (best ade:0.5328797 at step 39300) \n"
     ]
    },
    {
     "name": "stderr",
     "output_type": "stream",
     "text": [
      "100%|██████████| 628/628 [00:26<00:00, 23.72it/s]\n",
      "  0%|          | 1/628 [00:00<01:05,  9.56it/s]"
     ]
    },
    {
     "name": "stdout",
     "output_type": "stream",
     "text": [
      "('Epoca 72.', 'lr:', 6.7716246e-06)\n"
     ]
    },
    {
     "name": "stderr",
     "output_type": "stream",
     "text": [
      " 17%|█▋        | 109/628 [00:04<00:20, 25.19it/s]\n",
      "  0%|          | 0/55 [00:00<?, ?it/s]\u001b[A"
     ]
    },
    {
     "name": "stdout",
     "output_type": "stream",
     "text": [
      "\tsaving model 44700...\n",
      "\tdone\n",
      "Evaluating\n"
     ]
    },
    {
     "name": "stderr",
     "output_type": "stream",
     "text": [
      "\n",
      " 16%|#6        | 9/55 [00:00<00:00, 88.89it/s]\u001b[A\n",
      " 33%|###2      | 18/55 [00:00<00:00, 88.40it/s]\u001b[A\n",
      " 49%|####9     | 27/55 [00:00<00:00, 87.88it/s]\u001b[A\n",
      " 65%|######5   | 36/55 [00:00<00:00, 87.69it/s]\u001b[A\n",
      " 82%|########1 | 45/55 [00:00<00:00, 87.74it/s]\u001b[A\n",
      " 98%|#########8| 54/55 [00:00<00:00, 86.21it/s]\u001b[A\n",
      " 18%|█▊        | 115/628 [00:05<00:50, 10.06it/s]A"
     ]
    },
    {
     "name": "stdout",
     "output_type": "stream",
     "text": [
      "{'ade': 0.5351357, 'fde': 1.150119}\n",
      "\t last loss:0.000371401, eval on validation:['ade: 0.5351357', 'fde: 1.150119'], (best ade:0.5328797 at step 39300) \n"
     ]
    },
    {
     "name": "stderr",
     "output_type": "stream",
     "text": [
      " 65%|██████▌   | 409/628 [00:17<00:09, 22.45it/s]"
     ]
    },
    {
     "name": "stdout",
     "output_type": "stream",
     "text": [
      "\tsaving model 45000...\n"
     ]
    },
    {
     "name": "stderr",
     "output_type": "stream",
     "text": [
      "\n",
      "  0%|          | 0/55 [00:00<?, ?it/s]\u001b[A\n",
      " 16%|#6        | 9/55 [00:00<00:00, 77.30it/s]\u001b[A\n",
      " 27%|##7       | 15/55 [00:00<00:00, 67.73it/s]\u001b[A\n",
      " 36%|###6      | 20/55 [00:00<00:00, 61.05it/s]\u001b[A\n",
      " 47%|####7     | 26/55 [00:00<00:00, 60.36it/s]\u001b[A\n",
      " 62%|######1   | 34/55 [00:00<00:00, 64.10it/s]\u001b[A\n",
      " 75%|#######4  | 41/55 [00:00<00:00, 64.78it/s]\u001b[A\n",
      " 89%|########9 | 49/55 [00:00<00:00, 68.13it/s]\u001b[A\n",
      " 66%|██████▌   | 415/628 [00:19<00:25,  8.48it/s]A"
     ]
    },
    {
     "name": "stdout",
     "output_type": "stream",
     "text": [
      "\tdone\n",
      "Evaluating\n",
      "{'ade': 0.535327, 'fde': 1.1506368}\n",
      "\t last loss:0.000300630, eval on validation:['ade: 0.535327', 'fde: 1.1506368'], (best ade:0.5328797 at step 39300) \n"
     ]
    },
    {
     "name": "stderr",
     "output_type": "stream",
     "text": [
      "100%|██████████| 628/628 [00:27<00:00, 26.38it/s]\n",
      "  0%|          | 3/628 [00:00<00:23, 26.85it/s]"
     ]
    },
    {
     "name": "stdout",
     "output_type": "stream",
     "text": [
      "('Epoca 73.', 'lr:', 5.7558805e-06)\n"
     ]
    },
    {
     "name": "stderr",
     "output_type": "stream",
     "text": [
      " 13%|█▎        | 81/628 [00:03<00:21, 25.14it/s]"
     ]
    },
    {
     "name": "stdout",
     "output_type": "stream",
     "text": [
      "\tsaving model 45300...\n"
     ]
    },
    {
     "name": "stderr",
     "output_type": "stream",
     "text": [
      "\n",
      "  0%|          | 0/55 [00:00<?, ?it/s]\u001b[A\n",
      " 16%|#6        | 9/55 [00:00<00:00, 78.63it/s]\u001b[A\n",
      " 29%|##9       | 16/55 [00:00<00:00, 73.23it/s]\u001b[A\n",
      " 40%|####      | 22/55 [00:00<00:00, 66.60it/s]\u001b[A\n",
      " 55%|#####4    | 30/55 [00:00<00:00, 70.00it/s]\u001b[A\n",
      " 69%|######9   | 38/55 [00:00<00:00, 71.56it/s]\u001b[A\n",
      " 85%|########5 | 47/55 [00:00<00:00, 74.57it/s]\u001b[A\n",
      " 14%|█▍        | 87/628 [00:04<00:58,  9.29it/s][A"
     ]
    },
    {
     "name": "stdout",
     "output_type": "stream",
     "text": [
      "\tdone\n",
      "Evaluating\n",
      "{'ade': 0.5352436, 'fde': 1.1505609}\n",
      "\t last loss:0.000240643, eval on validation:['ade: 0.5352436', 'fde: 1.1505609'], (best ade:0.5328797 at step 39300) \n"
     ]
    },
    {
     "name": "stderr",
     "output_type": "stream",
     "text": [
      " 61%|██████    | 381/628 [00:16<00:11, 20.93it/s]"
     ]
    },
    {
     "name": "stdout",
     "output_type": "stream",
     "text": [
      "\tsaving model 45600...\n"
     ]
    },
    {
     "name": "stderr",
     "output_type": "stream",
     "text": [
      "\n",
      "  0%|          | 0/55 [00:00<?, ?it/s]\u001b[A\n",
      " 15%|#4        | 8/55 [00:00<00:00, 72.47it/s]\u001b[A"
     ]
    },
    {
     "name": "stdout",
     "output_type": "stream",
     "text": [
      "\tdone\n",
      "Evaluating\n"
     ]
    },
    {
     "name": "stderr",
     "output_type": "stream",
     "text": [
      "\n",
      " 27%|##7       | 15/55 [00:00<00:00, 71.07it/s]\u001b[A\n",
      " 40%|####      | 22/55 [00:00<00:00, 70.12it/s]\u001b[A\n",
      " 53%|#####2    | 29/55 [00:00<00:00, 69.54it/s]\u001b[A\n",
      " 65%|######5   | 36/55 [00:00<00:00, 69.25it/s]\u001b[A\n",
      " 78%|#######8  | 43/55 [00:00<00:00, 66.81it/s]\u001b[A\n",
      " 93%|#########2| 51/55 [00:00<00:00, 69.51it/s]\u001b[A\n",
      " 62%|██████▏   | 387/628 [00:17<00:28,  8.42it/s]A"
     ]
    },
    {
     "name": "stdout",
     "output_type": "stream",
     "text": [
      "{'ade': 0.53511405, 'fde': 1.1501132}\n",
      "\t last loss:0.000399669, eval on validation:['ade: 0.53511405', 'fde: 1.1501132'], (best ade:0.5328797 at step 39300) \n"
     ]
    },
    {
     "name": "stderr",
     "output_type": "stream",
     "text": [
      "100%|██████████| 628/628 [00:28<00:00, 18.62it/s]\n",
      "  0%|          | 2/628 [00:00<00:31, 19.93it/s]"
     ]
    },
    {
     "name": "stdout",
     "output_type": "stream",
     "text": [
      "('Epoca 74.', 'lr:', 5.7558805e-06)\n"
     ]
    },
    {
     "name": "stderr",
     "output_type": "stream",
     "text": [
      "  8%|▊         | 53/628 [00:02<00:23, 24.31it/s]\n",
      "  0%|          | 0/55 [00:00<?, ?it/s]\u001b[A"
     ]
    },
    {
     "name": "stdout",
     "output_type": "stream",
     "text": [
      "\tsaving model 45900...\n",
      "\tdone\n",
      "Evaluating\n"
     ]
    },
    {
     "name": "stderr",
     "output_type": "stream",
     "text": [
      "\n",
      " 16%|#6        | 9/55 [00:00<00:00, 89.05it/s]\u001b[A\n",
      " 25%|##5       | 14/55 [00:00<00:00, 71.01it/s]\u001b[A\n",
      " 38%|###8      | 21/55 [00:00<00:00, 69.81it/s]\u001b[A\n",
      " 51%|#####     | 28/55 [00:00<00:00, 68.34it/s]\u001b[A\n",
      " 65%|######5   | 36/55 [00:00<00:00, 69.60it/s]\u001b[A\n",
      " 80%|########  | 44/55 [00:00<00:00, 71.55it/s]\u001b[A\n",
      " 95%|#########4| 52/55 [00:00<00:00, 73.81it/s]\u001b[A\n",
      "  9%|▉         | 59/628 [00:03<01:01,  9.18it/s][A"
     ]
    },
    {
     "name": "stdout",
     "output_type": "stream",
     "text": [
      "{'ade': 0.5365858, 'fde': 1.1543959}\n",
      "\t last loss:0.000203485, eval on validation:['ade: 0.5365858', 'fde: 1.1543959'], (best ade:0.5328797 at step 39300) \n"
     ]
    },
    {
     "name": "stderr",
     "output_type": "stream",
     "text": [
      " 56%|█████▌    | 353/628 [00:14<00:10, 26.97it/s]\n",
      "  0%|          | 0/55 [00:00<?, ?it/s]\u001b[A"
     ]
    },
    {
     "name": "stdout",
     "output_type": "stream",
     "text": [
      "\tsaving model 46200...\n",
      "\tdone\n",
      "Evaluating\n"
     ]
    },
    {
     "name": "stderr",
     "output_type": "stream",
     "text": [
      "\n",
      " 18%|#8        | 10/55 [00:00<00:00, 97.35it/s]\u001b[A\n",
      " 31%|###       | 17/55 [00:00<00:00, 85.93it/s]\u001b[A\n",
      " 44%|####3     | 24/55 [00:00<00:00, 79.59it/s]\u001b[A\n",
      " 60%|######    | 33/55 [00:00<00:00, 80.60it/s]\u001b[A\n",
      " 75%|#######4  | 41/55 [00:00<00:00, 79.81it/s]\u001b[A\n",
      " 93%|#########2| 51/55 [00:00<00:00, 83.09it/s]\u001b[A\n",
      " 57%|█████▋    | 359/628 [00:16<00:26, 10.00it/s]A"
     ]
    },
    {
     "name": "stdout",
     "output_type": "stream",
     "text": [
      "{'ade': 0.53373784, 'fde': 1.1465076}\n",
      "\t last loss:0.000442216, eval on validation:['ade: 0.53373784', 'fde: 1.1465076'], (best ade:0.5328797 at step 39300) \n"
     ]
    },
    {
     "name": "stderr",
     "output_type": "stream",
     "text": [
      "100%|██████████| 628/628 [00:26<00:00, 23.50it/s]\n",
      "  0%|          | 2/628 [00:00<00:41, 14.98it/s]"
     ]
    },
    {
     "name": "stdout",
     "output_type": "stream",
     "text": [
      "('Epoca 75.', 'lr:', 4.8924985e-06)\n"
     ]
    },
    {
     "name": "stderr",
     "output_type": "stream",
     "text": [
      "  4%|▍         | 26/628 [00:01<00:24, 24.20it/s]"
     ]
    },
    {
     "name": "stdout",
     "output_type": "stream",
     "text": [
      "\tsaving model 46500...\n"
     ]
    },
    {
     "name": "stderr",
     "output_type": "stream",
     "text": [
      "\n",
      "  0%|          | 0/55 [00:00<?, ?it/s]\u001b[A\n",
      " 16%|#6        | 9/55 [00:00<00:00, 89.13it/s]\u001b[A\n",
      " 33%|###2      | 18/55 [00:00<00:00, 88.58it/s]\u001b[A\n",
      " 49%|####9     | 27/55 [00:00<00:00, 87.95it/s]\u001b[A\n",
      " 65%|######5   | 36/55 [00:00<00:00, 87.96it/s]\u001b[A\n",
      " 82%|########1 | 45/55 [00:00<00:00, 87.72it/s]\u001b[A\n",
      " 98%|#########8| 54/55 [00:00<00:00, 87.65it/s]\u001b[A\n",
      "  5%|▌         | 32/628 [00:02<01:00,  9.92it/s][A"
     ]
    },
    {
     "name": "stdout",
     "output_type": "stream",
     "text": [
      "\tdone\n",
      "Evaluating\n",
      "{'ade': 0.5343158, 'fde': 1.1478233}\n",
      "\t last loss:0.000467586, eval on validation:['ade: 0.5343158', 'fde: 1.1478233'], (best ade:0.5328797 at step 39300) \n"
     ]
    },
    {
     "name": "stderr",
     "output_type": "stream",
     "text": [
      " 52%|█████▏    | 326/628 [00:13<00:11, 26.73it/s]\n",
      "  0%|          | 0/55 [00:00<?, ?it/s]\u001b[A"
     ]
    },
    {
     "name": "stdout",
     "output_type": "stream",
     "text": [
      "\tsaving model 46800...\n",
      "\tdone\n",
      "Evaluating\n"
     ]
    },
    {
     "name": "stderr",
     "output_type": "stream",
     "text": [
      "\n",
      " 18%|#8        | 10/55 [00:00<00:00, 97.15it/s]\u001b[A\n",
      " 33%|###2      | 18/55 [00:00<00:00, 87.67it/s]\u001b[A\n",
      " 45%|####5     | 25/55 [00:00<00:00, 78.53it/s]\u001b[A\n",
      " 58%|#####8    | 32/55 [00:00<00:00, 73.41it/s]\u001b[A\n",
      " 73%|#######2  | 40/55 [00:00<00:00, 72.80it/s]\u001b[A\n",
      " 89%|########9 | 49/55 [00:00<00:00, 76.65it/s]\u001b[A\n",
      " 53%|█████▎    | 332/628 [00:14<00:30,  9.80it/s]A"
     ]
    },
    {
     "name": "stdout",
     "output_type": "stream",
     "text": [
      "{'ade': 0.5353033, 'fde': 1.1512372}\n",
      "\t last loss:0.000369601, eval on validation:['ade: 0.5353033', 'fde: 1.1512372'], (best ade:0.5328797 at step 39300) \n"
     ]
    },
    {
     "name": "stderr",
     "output_type": "stream",
     "text": [
      "100%|█████████▉| 626/628 [00:27<00:00, 25.28it/s]\n",
      "  0%|          | 0/55 [00:00<?, ?it/s]\u001b[A"
     ]
    },
    {
     "name": "stdout",
     "output_type": "stream",
     "text": [
      "\tsaving model 47100...\n",
      "\tdone\n",
      "Evaluating\n"
     ]
    },
    {
     "name": "stderr",
     "output_type": "stream",
     "text": [
      "\n",
      " 16%|#6        | 9/55 [00:00<00:00, 84.81it/s]\u001b[A\n",
      " 31%|###       | 17/55 [00:00<00:00, 82.27it/s]\u001b[A\n",
      " 45%|####5     | 25/55 [00:00<00:00, 81.48it/s]\u001b[A\n",
      " 56%|#####6    | 31/55 [00:00<00:00, 73.44it/s]\u001b[A\n",
      " 71%|#######   | 39/55 [00:00<00:00, 71.44it/s]\u001b[A\n",
      " 85%|########5 | 47/55 [00:00<00:00, 72.88it/s]\u001b[A\n",
      "100%|██████████| 628/628 [00:28<00:00, 21.72it/s]A\n",
      "  0%|          | 1/628 [00:00<01:07,  9.32it/s]"
     ]
    },
    {
     "name": "stdout",
     "output_type": "stream",
     "text": [
      "{'ade': 0.5352573, 'fde': 1.1511056}\n",
      "\t last loss:0.000211238, eval on validation:['ade: 0.5352573', 'fde: 1.1511056'], (best ade:0.5328797 at step 39300) \n",
      "('Epoca 76.', 'lr:', 4.8924985e-06)\n"
     ]
    },
    {
     "name": "stderr",
     "output_type": "stream",
     "text": [
      " 47%|████▋     | 298/628 [00:11<00:12, 26.63it/s]\n",
      "  0%|          | 0/55 [00:00<?, ?it/s]\u001b[A"
     ]
    },
    {
     "name": "stdout",
     "output_type": "stream",
     "text": [
      "\tsaving model 47400...\n",
      "\tdone\n",
      "Evaluating\n"
     ]
    },
    {
     "name": "stderr",
     "output_type": "stream",
     "text": [
      "\n",
      " 18%|#8        | 10/55 [00:00<00:00, 97.61it/s]\u001b[A\n",
      " 36%|###6      | 20/55 [00:00<00:00, 96.73it/s]\u001b[A\n",
      " 55%|#####4    | 30/55 [00:00<00:00, 95.39it/s]\u001b[A\n",
      " 73%|#######2  | 40/55 [00:00<00:00, 94.86it/s]\u001b[A\n",
      " 89%|########9 | 49/55 [00:00<00:00, 91.10it/s]\u001b[A\n",
      " 48%|████▊     | 304/628 [00:12<00:29, 10.84it/s]A"
     ]
    },
    {
     "name": "stdout",
     "output_type": "stream",
     "text": [
      "{'ade': 0.5353063, 'fde': 1.1510003}\n",
      "\t last loss:0.000341690, eval on validation:['ade: 0.5353063', 'fde: 1.1510003'], (best ade:0.5328797 at step 39300) \n"
     ]
    },
    {
     "name": "stderr",
     "output_type": "stream",
     "text": [
      " 95%|█████████▌| 597/628 [00:25<00:01, 23.43it/s]\n",
      "  0%|          | 0/55 [00:00<?, ?it/s]\u001b[A"
     ]
    },
    {
     "name": "stdout",
     "output_type": "stream",
     "text": [
      "\tsaving model 47700...\n",
      "\tdone\n",
      "Evaluating\n"
     ]
    },
    {
     "name": "stderr",
     "output_type": "stream",
     "text": [
      "\n",
      " 16%|#6        | 9/55 [00:00<00:00, 88.10it/s]\u001b[A\n",
      " 29%|##9       | 16/55 [00:00<00:00, 78.73it/s]\u001b[A\n",
      " 42%|####1     | 23/55 [00:00<00:00, 72.34it/s]\u001b[A\n",
      " 53%|#####2    | 29/55 [00:00<00:00, 66.43it/s]\u001b[A\n",
      " 69%|######9   | 38/55 [00:00<00:00, 71.09it/s]\u001b[A\n",
      " 84%|########3 | 46/55 [00:00<00:00, 71.96it/s]\u001b[A\n",
      " 96%|█████████▌| 603/628 [00:26<00:02,  9.21it/s]A"
     ]
    },
    {
     "name": "stdout",
     "output_type": "stream",
     "text": [
      "{'ade': 0.53405136, 'fde': 1.1469519}\n",
      "\t last loss:0.000352976, eval on validation:['ade: 0.53405136', 'fde: 1.1469519'], (best ade:0.5328797 at step 39300) \n"
     ]
    },
    {
     "name": "stderr",
     "output_type": "stream",
     "text": [
      "100%|██████████| 628/628 [00:27<00:00, 22.47it/s]\n",
      "  0%|          | 2/628 [00:00<00:36, 17.05it/s]"
     ]
    },
    {
     "name": "stdout",
     "output_type": "stream",
     "text": [
      "('Epoca 77.', 'lr:', 4.158624e-06)\n"
     ]
    },
    {
     "name": "stderr",
     "output_type": "stream",
     "text": [
      " 43%|████▎     | 270/628 [00:10<00:13, 26.28it/s]\n",
      "  0%|          | 0/55 [00:00<?, ?it/s]"
     ]
    },
    {
     "name": "stdout",
     "output_type": "stream",
     "text": [
      "\tsaving model 48000...\n",
      "\tdone\n",
      "Evaluating\n"
     ]
    },
    {
     "name": "stderr",
     "output_type": "stream",
     "text": [
      "\u001b[A\n",
      " 18%|#8        | 10/55 [00:00<00:00, 96.00it/s]\u001b[A\n",
      " 29%|##9       | 16/55 [00:00<00:00, 80.66it/s]\u001b[A\n",
      " 42%|####1     | 23/55 [00:00<00:00, 76.59it/s]\u001b[A\n",
      " 56%|#####6    | 31/55 [00:00<00:00, 75.00it/s]\u001b[A\n",
      " 71%|#######   | 39/55 [00:00<00:00, 75.18it/s]\u001b[A\n",
      " 87%|########7 | 48/55 [00:00<00:00, 77.13it/s]\u001b[A\n",
      " 44%|████▍     | 276/628 [00:11<00:35,  9.78it/s]A"
     ]
    },
    {
     "name": "stdout",
     "output_type": "stream",
     "text": [
      "{'ade': 0.5355457, 'fde': 1.1513406}\n",
      "\t last loss:0.000451526, eval on validation:['ade: 0.5355457', 'fde: 1.1513406'], (best ade:0.5328797 at step 39300) \n"
     ]
    },
    {
     "name": "stderr",
     "output_type": "stream",
     "text": [
      " 91%|█████████ | 570/628 [00:23<00:02, 25.49it/s]"
     ]
    },
    {
     "name": "stdout",
     "output_type": "stream",
     "text": [
      "\tsaving model 48300...\n",
      "\tdone\n",
      "Evaluating\n"
     ]
    },
    {
     "name": "stderr",
     "output_type": "stream",
     "text": [
      "\n",
      "  0%|          | 0/55 [00:00<?, ?it/s]\u001b[A\n",
      " 16%|#6        | 9/55 [00:00<00:00, 87.59it/s]\u001b[A\n",
      " 29%|##9       | 16/55 [00:00<00:00, 79.61it/s]\u001b[A\n",
      " 42%|####1     | 23/55 [00:00<00:00, 75.03it/s]\u001b[A\n",
      " 53%|#####2    | 29/55 [00:00<00:00, 68.96it/s]\u001b[A\n",
      " 67%|######7   | 37/55 [00:00<00:00, 71.16it/s]\u001b[A\n",
      " 82%|########1 | 45/55 [00:00<00:00, 73.01it/s]\u001b[A\n",
      " 98%|#########8| 54/55 [00:00<00:00, 76.82it/s]\u001b[A\n",
      " 91%|█████████ | 573/628 [00:24<00:07,  7.36it/s]A"
     ]
    },
    {
     "name": "stdout",
     "output_type": "stream",
     "text": [
      "{'ade': 0.5354595, 'fde': 1.1514257}\n",
      "\t last loss:0.000314072, eval on validation:['ade: 0.5354595', 'fde: 1.1514257'], (best ade:0.5328797 at step 39300) \n"
     ]
    },
    {
     "name": "stderr",
     "output_type": "stream",
     "text": [
      "100%|██████████| 628/628 [00:26<00:00, 18.77it/s]\n",
      "  0%|          | 1/628 [00:00<01:02,  9.99it/s]"
     ]
    },
    {
     "name": "stdout",
     "output_type": "stream",
     "text": [
      "('Epoca 78.', 'lr:', 4.158624e-06)\n"
     ]
    },
    {
     "name": "stderr",
     "output_type": "stream",
     "text": [
      " 39%|███▊      | 243/628 [00:11<00:15, 25.38it/s]\n",
      "  0%|          | 0/55 [00:00<?, ?it/s]\u001b[A"
     ]
    },
    {
     "name": "stdout",
     "output_type": "stream",
     "text": [
      "\tsaving model 48600...\n",
      "\tdone\n",
      "Evaluating\n"
     ]
    },
    {
     "name": "stderr",
     "output_type": "stream",
     "text": [
      "\n",
      " 18%|#8        | 10/55 [00:00<00:00, 95.01it/s]\u001b[A\n",
      " 33%|###2      | 18/55 [00:00<00:00, 88.34it/s]\u001b[A\n",
      " 45%|####5     | 25/55 [00:00<00:00, 79.30it/s]\u001b[A\n",
      " 60%|######    | 33/55 [00:00<00:00, 77.40it/s]\u001b[A\n",
      " 75%|#######4  | 41/55 [00:00<00:00, 77.31it/s]\u001b[A\n",
      " 91%|######### | 50/55 [00:00<00:00, 78.76it/s]\u001b[A\n",
      " 39%|███▉      | 246/628 [00:12<00:48,  7.84it/s]A"
     ]
    },
    {
     "name": "stdout",
     "output_type": "stream",
     "text": [
      "{'ade': 0.5353371, 'fde': 1.1511638}\n",
      "\t last loss:0.000224343, eval on validation:['ade: 0.5353371', 'fde: 1.1511638'], (best ade:0.5328797 at step 39300) \n"
     ]
    },
    {
     "name": "stderr",
     "output_type": "stream",
     "text": [
      " 86%|████████▋ | 543/628 [00:24<00:03, 25.17it/s]\n",
      "  0%|          | 0/55 [00:00<?, ?it/s]\u001b[A"
     ]
    },
    {
     "name": "stdout",
     "output_type": "stream",
     "text": [
      "\tsaving model 48900...\n",
      "\tdone\n",
      "Evaluating\n"
     ]
    },
    {
     "name": "stderr",
     "output_type": "stream",
     "text": [
      "\n",
      " 16%|#6        | 9/55 [00:00<00:00, 89.18it/s]\u001b[A\n",
      " 33%|###2      | 18/55 [00:00<00:00, 88.26it/s]\u001b[A\n",
      " 47%|####7     | 26/55 [00:00<00:00, 83.41it/s]\u001b[A\n",
      " 60%|######    | 33/55 [00:00<00:00, 75.66it/s]\u001b[A\n",
      " 73%|#######2  | 40/55 [00:00<00:00, 71.84it/s]\u001b[A\n",
      " 85%|########5 | 47/55 [00:00<00:00, 69.73it/s]\u001b[A\n",
      " 87%|████████▋ | 546/628 [00:25<00:11,  7.33it/s]A"
     ]
    },
    {
     "name": "stdout",
     "output_type": "stream",
     "text": [
      "{'ade': 0.534724, 'fde': 1.1494194}\n",
      "\t last loss:0.000388632, eval on validation:['ade: 0.534724', 'fde: 1.1494194'], (best ade:0.5328797 at step 39300) \n"
     ]
    },
    {
     "name": "stderr",
     "output_type": "stream",
     "text": [
      "100%|██████████| 628/628 [00:28<00:00, 22.09it/s]\n",
      "  0%|          | 1/628 [00:00<01:16,  8.18it/s]"
     ]
    },
    {
     "name": "stdout",
     "output_type": "stream",
     "text": [
      "('Epoca 79.', 'lr:', 3.5348305e-06)\n"
     ]
    },
    {
     "name": "stderr",
     "output_type": "stream",
     "text": [
      " 34%|███▍      | 214/628 [00:08<00:15, 27.10it/s]\n",
      "  0%|          | 0/55 [00:00<?, ?it/s]\u001b[A"
     ]
    },
    {
     "name": "stdout",
     "output_type": "stream",
     "text": [
      "\tsaving model 49200...\n",
      "\tdone\n",
      "Evaluating\n"
     ]
    },
    {
     "name": "stderr",
     "output_type": "stream",
     "text": [
      "\n",
      " 18%|#8        | 10/55 [00:00<00:00, 97.13it/s]\u001b[A\n",
      " 31%|###       | 17/55 [00:00<00:00, 86.37it/s]\u001b[A\n",
      " 45%|####5     | 25/55 [00:00<00:00, 82.10it/s]\u001b[A\n",
      " 58%|#####8    | 32/55 [00:00<00:00, 77.74it/s]\u001b[A\n",
      " 73%|#######2  | 40/55 [00:00<00:00, 77.74it/s]\u001b[A\n",
      " 91%|######### | 50/55 [00:00<00:00, 82.40it/s]\u001b[A\n",
      " 35%|███▌      | 220/628 [00:09<00:39, 10.22it/s]A"
     ]
    },
    {
     "name": "stdout",
     "output_type": "stream",
     "text": [
      "{'ade': 0.5348034, 'fde': 1.1494555}\n",
      "\t last loss:0.000416542, eval on validation:['ade: 0.5348034', 'fde: 1.1494555'], (best ade:0.5328797 at step 39300) \n"
     ]
    },
    {
     "name": "stderr",
     "output_type": "stream",
     "text": [
      " 82%|████████▏ | 513/628 [00:22<00:04, 23.30it/s]\n",
      "  0%|          | 0/55 [00:00<?, ?it/s]\u001b[A"
     ]
    },
    {
     "name": "stdout",
     "output_type": "stream",
     "text": [
      "\tsaving model 49500...\n",
      "\tdone\n",
      "Evaluating\n"
     ]
    },
    {
     "name": "stderr",
     "output_type": "stream",
     "text": [
      "\n",
      " 16%|#6        | 9/55 [00:00<00:00, 89.54it/s]\u001b[A\n",
      " 31%|###       | 17/55 [00:00<00:00, 84.57it/s]\u001b[A\n",
      " 44%|####3     | 24/55 [00:00<00:00, 75.83it/s]\u001b[A\n",
      " 55%|#####4    | 30/55 [00:00<00:00, 67.82it/s]\u001b[A\n",
      " 71%|#######   | 39/55 [00:00<00:00, 71.35it/s]\u001b[A\n",
      " 84%|########3 | 46/55 [00:00<00:00, 70.25it/s]\u001b[A\n",
      " 83%|████████▎ | 519/628 [00:23<00:11,  9.27it/s]A"
     ]
    },
    {
     "name": "stdout",
     "output_type": "stream",
     "text": [
      "{'ade': 0.5340415, 'fde': 1.147137}\n",
      "\t last loss:0.000529389, eval on validation:['ade: 0.5340415', 'fde: 1.147137'], (best ade:0.5328797 at step 39300) \n"
     ]
    },
    {
     "name": "stderr",
     "output_type": "stream",
     "text": [
      "100%|██████████| 628/628 [00:28<00:00, 22.40it/s]\n",
      "  0%|          | 3/628 [00:00<00:27, 22.84it/s]"
     ]
    },
    {
     "name": "stdout",
     "output_type": "stream",
     "text": [
      "('Epoca 80.', 'lr:', 3.5348305e-06)\n"
     ]
    },
    {
     "name": "stderr",
     "output_type": "stream",
     "text": [
      " 30%|██▉       | 186/628 [00:07<00:17, 26.00it/s]\n",
      "  0%|          | 0/55 [00:00<?, ?it/s]\u001b[A"
     ]
    },
    {
     "name": "stdout",
     "output_type": "stream",
     "text": [
      "\tsaving model 49800...\n",
      "\tdone\n",
      "Evaluating\n"
     ]
    },
    {
     "name": "stderr",
     "output_type": "stream",
     "text": [
      "\n",
      " 18%|#8        | 10/55 [00:00<00:00, 96.68it/s]\u001b[A\n",
      " 33%|###2      | 18/55 [00:00<00:00, 87.34it/s]\u001b[A\n",
      " 47%|####7     | 26/55 [00:00<00:00, 83.52it/s]\u001b[A\n",
      " 60%|######    | 33/55 [00:00<00:00, 78.05it/s]\u001b[A\n",
      " 75%|#######4  | 41/55 [00:00<00:00, 78.07it/s]\u001b[A\n",
      " 89%|########9 | 49/55 [00:00<00:00, 78.52it/s]\u001b[A\n",
      " 31%|███       | 192/628 [00:08<00:43, 10.03it/s]A"
     ]
    },
    {
     "name": "stdout",
     "output_type": "stream",
     "text": [
      "{'ade': 0.53475255, 'fde': 1.1493801}\n",
      "\t last loss:0.000404993, eval on validation:['ade: 0.53475255', 'fde: 1.1493801'], (best ade:0.5328797 at step 39300) \n"
     ]
    },
    {
     "name": "stderr",
     "output_type": "stream",
     "text": [
      " 77%|███████▋  | 486/628 [00:21<00:06, 23.12it/s]"
     ]
    },
    {
     "name": "stdout",
     "output_type": "stream",
     "text": [
      "\tsaving model 50100...\n"
     ]
    },
    {
     "name": "stderr",
     "output_type": "stream",
     "text": [
      "\n",
      "  0%|          | 0/55 [00:00<?, ?it/s]\u001b[A\n",
      " 16%|#6        | 9/55 [00:00<00:00, 82.63it/s]\u001b[A"
     ]
    },
    {
     "name": "stdout",
     "output_type": "stream",
     "text": [
      "\tdone\n",
      "Evaluating\n"
     ]
    },
    {
     "name": "stderr",
     "output_type": "stream",
     "text": [
      "\n",
      " 31%|###       | 17/55 [00:00<00:00, 81.12it/s]\u001b[A\n",
      " 45%|####5     | 25/55 [00:00<00:00, 80.13it/s]\u001b[A\n",
      " 60%|######    | 33/55 [00:00<00:00, 79.79it/s]\u001b[A\n",
      " 75%|#######4  | 41/55 [00:00<00:00, 79.59it/s]\u001b[A\n",
      " 89%|########9 | 49/55 [00:00<00:00, 78.52it/s]\u001b[A\n",
      " 78%|███████▊  | 489/628 [00:22<00:19,  7.18it/s]A"
     ]
    },
    {
     "name": "stdout",
     "output_type": "stream",
     "text": [
      "{'ade': 0.5352637, 'fde': 1.1507105}\n",
      "\t last loss:0.000463196, eval on validation:['ade: 0.5352637', 'fde: 1.1507105'], (best ade:0.5328797 at step 39300) \n"
     ]
    },
    {
     "name": "stderr",
     "output_type": "stream",
     "text": [
      "100%|██████████| 628/628 [00:27<00:00, 22.62it/s]\n",
      "  0%|          | 3/628 [00:00<00:23, 26.33it/s]"
     ]
    },
    {
     "name": "stdout",
     "output_type": "stream",
     "text": [
      "('Epoca 81.', 'lr:', 3.004606e-06)\n"
     ]
    },
    {
     "name": "stderr",
     "output_type": "stream",
     "text": [
      " 25%|██▌       | 159/628 [00:06<00:19, 24.34it/s]\n",
      "  0%|          | 0/55 [00:00<?, ?it/s]\u001b[A"
     ]
    },
    {
     "name": "stdout",
     "output_type": "stream",
     "text": [
      "\tsaving model 50400...\n",
      "\tdone\n",
      "Evaluating\n"
     ]
    },
    {
     "name": "stderr",
     "output_type": "stream",
     "text": [
      "\n",
      " 16%|#6        | 9/55 [00:00<00:00, 88.65it/s]\u001b[A\n",
      " 29%|##9       | 16/55 [00:00<00:00, 80.16it/s]\u001b[A\n",
      " 44%|####3     | 24/55 [00:00<00:00, 80.08it/s]\u001b[A\n",
      " 56%|#####6    | 31/55 [00:00<00:00, 75.66it/s]\u001b[A\n",
      " 75%|#######4  | 41/55 [00:00<00:00, 80.01it/s]\u001b[A\n",
      " 89%|########9 | 49/55 [00:00<00:00, 79.53it/s]\u001b[A\n",
      " 26%|██▌       | 162/628 [00:07<01:02,  7.47it/s]A"
     ]
    },
    {
     "name": "stdout",
     "output_type": "stream",
     "text": [
      "{'ade': 0.5347716, 'fde': 1.149257}\n",
      "\t last loss:0.000343254, eval on validation:['ade: 0.5347716', 'fde: 1.149257'], (best ade:0.5328797 at step 39300) \n"
     ]
    },
    {
     "name": "stderr",
     "output_type": "stream",
     "text": [
      " 73%|███████▎  | 459/628 [00:18<00:06, 26.43it/s]\n",
      "  0%|          | 0/55 [00:00<?, ?it/s]\u001b[A"
     ]
    },
    {
     "name": "stdout",
     "output_type": "stream",
     "text": [
      "\tsaving model 50700...\n",
      "\tdone\n",
      "Evaluating\n"
     ]
    },
    {
     "name": "stderr",
     "output_type": "stream",
     "text": [
      "\n",
      " 16%|#6        | 9/55 [00:00<00:00, 81.52it/s]\u001b[A\n",
      " 29%|##9       | 16/55 [00:00<00:00, 77.02it/s]\u001b[A\n",
      " 40%|####      | 22/55 [00:00<00:00, 70.70it/s]\u001b[A\n",
      " 55%|#####4    | 30/55 [00:00<00:00, 70.03it/s]\u001b[A\n",
      " 65%|######5   | 36/55 [00:00<00:00, 66.32it/s]\u001b[A\n",
      " 82%|########1 | 45/55 [00:00<00:00, 70.93it/s]\u001b[A\n",
      " 96%|#########6| 53/55 [00:00<00:00, 72.43it/s]\u001b[A\n",
      " 74%|███████▎  | 462/628 [00:19<00:22,  7.36it/s]A"
     ]
    },
    {
     "name": "stdout",
     "output_type": "stream",
     "text": [
      "{'ade': 0.534555, 'fde': 1.1490086}\n",
      "\t last loss:0.000361026, eval on validation:['ade: 0.534555', 'fde: 1.1490086'], (best ade:0.5328797 at step 39300) \n"
     ]
    },
    {
     "name": "stderr",
     "output_type": "stream",
     "text": [
      "100%|██████████| 628/628 [00:26<00:00, 23.67it/s]\n",
      "  0%|          | 1/628 [00:00<01:11,  8.76it/s]"
     ]
    },
    {
     "name": "stdout",
     "output_type": "stream",
     "text": [
      "('Epoca 82.', 'lr:', 3.004606e-06)\n"
     ]
    },
    {
     "name": "stderr",
     "output_type": "stream",
     "text": [
      " 21%|██        | 130/628 [00:05<00:23, 21.36it/s]"
     ]
    },
    {
     "name": "stdout",
     "output_type": "stream",
     "text": [
      "\tsaving model 51000...\n"
     ]
    },
    {
     "name": "stderr",
     "output_type": "stream",
     "text": [
      "\n",
      "  0%|          | 0/55 [00:00<?, ?it/s]\u001b[A\n",
      " 13%|#2        | 7/55 [00:00<00:00, 67.75it/s]\u001b[A"
     ]
    },
    {
     "name": "stdout",
     "output_type": "stream",
     "text": [
      "\tdone\n",
      "Evaluating\n"
     ]
    },
    {
     "name": "stderr",
     "output_type": "stream",
     "text": [
      "\n",
      " 24%|##3       | 13/55 [00:00<00:00, 62.16it/s]\u001b[A\n",
      " 35%|###4      | 19/55 [00:00<00:00, 61.33it/s]\u001b[A\n",
      " 44%|####3     | 24/55 [00:00<00:00, 53.45it/s]\u001b[A\n",
      " 56%|#####6    | 31/55 [00:00<00:00, 56.21it/s]\u001b[A\n",
      " 67%|######7   | 37/55 [00:00<00:00, 56.62it/s]\u001b[A\n",
      " 80%|########  | 44/55 [00:00<00:00, 59.69it/s]\u001b[A\n",
      " 93%|#########2| 51/55 [00:00<00:00, 61.67it/s]\u001b[A\n",
      " 21%|██        | 133/628 [00:06<01:23,  5.93it/s]A"
     ]
    },
    {
     "name": "stdout",
     "output_type": "stream",
     "text": [
      "{'ade': 0.5340263, 'fde': 1.1469918}\n",
      "\t last loss:0.000286238, eval on validation:['ade: 0.5340263', 'fde: 1.1469918'], (best ade:0.5328797 at step 39300) \n"
     ]
    },
    {
     "name": "stderr",
     "output_type": "stream",
     "text": [
      " 68%|██████▊   | 430/628 [00:19<00:11, 16.74it/s]"
     ]
    },
    {
     "name": "stdout",
     "output_type": "stream",
     "text": [
      "\tsaving model 51300...\n"
     ]
    },
    {
     "name": "stderr",
     "output_type": "stream",
     "text": [
      "\n",
      "  0%|          | 0/55 [00:00<?, ?it/s]\u001b[A\n",
      " 16%|#6        | 9/55 [00:00<00:00, 86.01it/s]\u001b[A"
     ]
    },
    {
     "name": "stdout",
     "output_type": "stream",
     "text": [
      "\tdone\n",
      "Evaluating\n"
     ]
    },
    {
     "name": "stderr",
     "output_type": "stream",
     "text": [
      "\n",
      " 27%|##7       | 15/55 [00:00<00:00, 73.60it/s]\u001b[A\n",
      " 40%|####      | 22/55 [00:00<00:00, 71.44it/s]\u001b[A\n",
      " 55%|#####4    | 30/55 [00:00<00:00, 70.23it/s]\u001b[A\n",
      " 65%|######5   | 36/55 [00:00<00:00, 66.43it/s]\u001b[A\n",
      " 82%|########1 | 45/55 [00:00<00:00, 71.05it/s]\u001b[A\n",
      " 98%|#########8| 54/55 [00:00<00:00, 74.31it/s]\u001b[A\n",
      " 69%|██████▉   | 435/628 [00:20<00:31,  6.14it/s]A"
     ]
    },
    {
     "name": "stdout",
     "output_type": "stream",
     "text": [
      "{'ade': 0.5343775, 'fde': 1.1480007}\n",
      "\t last loss:0.000349936, eval on validation:['ade: 0.5343775', 'fde: 1.1480007'], (best ade:0.5328797 at step 39300) \n"
     ]
    },
    {
     "name": "stderr",
     "output_type": "stream",
     "text": [
      "100%|██████████| 628/628 [00:28<00:00, 22.05it/s]\n",
      "  0%|          | 2/628 [00:00<00:40, 15.58it/s]"
     ]
    },
    {
     "name": "stdout",
     "output_type": "stream",
     "text": [
      "('Epoca 83.', 'lr:', 2.5539152e-06)\n"
     ]
    },
    {
     "name": "stderr",
     "output_type": "stream",
     "text": [
      " 16%|█▌        | 101/628 [00:04<00:19, 26.77it/s]\n",
      "  0%|          | 0/55 [00:00<?, ?it/s]\u001b[A"
     ]
    },
    {
     "name": "stdout",
     "output_type": "stream",
     "text": [
      "\tsaving model 51600...\n",
      "\tdone\n",
      "Evaluating\n"
     ]
    },
    {
     "name": "stderr",
     "output_type": "stream",
     "text": [
      "\n",
      " 18%|#8        | 10/55 [00:00<00:00, 96.24it/s]\u001b[A\n",
      " 36%|###6      | 20/55 [00:00<00:00, 96.30it/s]\u001b[A\n",
      " 51%|#####     | 28/55 [00:00<00:00, 87.16it/s]\u001b[A\n",
      " 64%|######3   | 35/55 [00:00<00:00, 80.68it/s]\u001b[A\n",
      " 76%|#######6  | 42/55 [00:00<00:00, 76.80it/s]\u001b[A\n",
      " 93%|#########2| 51/55 [00:00<00:00, 80.32it/s]\u001b[A\n",
      " 17%|█▋        | 107/628 [00:05<00:53,  9.80it/s]A"
     ]
    },
    {
     "name": "stdout",
     "output_type": "stream",
     "text": [
      "{'ade': 0.53486156, 'fde': 1.1496822}\n",
      "\t last loss:0.000461804, eval on validation:['ade: 0.53486156', 'fde: 1.1496822'], (best ade:0.5328797 at step 39300) \n"
     ]
    },
    {
     "name": "stderr",
     "output_type": "stream",
     "text": [
      " 64%|██████▍   | 401/628 [00:16<00:09, 25.20it/s]\n",
      "  0%|          | 0/55 [00:00<?, ?it/s]\u001b[A"
     ]
    },
    {
     "name": "stdout",
     "output_type": "stream",
     "text": [
      "\tsaving model 51900...\n",
      "\tdone\n",
      "Evaluating\n"
     ]
    },
    {
     "name": "stderr",
     "output_type": "stream",
     "text": [
      "\n",
      " 16%|#6        | 9/55 [00:00<00:00, 86.58it/s]\u001b[A\n",
      " 27%|##7       | 15/55 [00:00<00:00, 73.19it/s]\u001b[A\n",
      " 38%|###8      | 21/55 [00:00<00:00, 68.23it/s]\u001b[A\n",
      " 49%|####9     | 27/55 [00:00<00:00, 64.62it/s]\u001b[A\n",
      " 65%|######5   | 36/55 [00:00<00:00, 69.98it/s]\u001b[A\n",
      " 82%|########1 | 45/55 [00:00<00:00, 74.10it/s]\u001b[A\n",
      " 96%|#########6| 53/55 [00:00<00:00, 75.27it/s]\u001b[A\n",
      " 65%|██████▍   | 407/628 [00:18<00:23,  9.31it/s]A"
     ]
    },
    {
     "name": "stdout",
     "output_type": "stream",
     "text": [
      "{'ade': 0.53501636, 'fde': 1.150163}\n",
      "\t last loss:0.000677790, eval on validation:['ade: 0.53501636', 'fde: 1.150163'], (best ade:0.5328797 at step 39300) \n"
     ]
    },
    {
     "name": "stderr",
     "output_type": "stream",
     "text": [
      "100%|██████████| 628/628 [00:26<00:00, 23.37it/s]\n",
      "  0%|          | 1/628 [00:00<01:14,  8.37it/s]"
     ]
    },
    {
     "name": "stdout",
     "output_type": "stream",
     "text": [
      "('Epoca 84.', 'lr:', 2.5539152e-06)\n"
     ]
    },
    {
     "name": "stderr",
     "output_type": "stream",
     "text": [
      " 12%|█▏        | 73/628 [00:03<00:26, 20.59it/s]"
     ]
    },
    {
     "name": "stdout",
     "output_type": "stream",
     "text": [
      "\tsaving model 52200...\n"
     ]
    },
    {
     "name": "stderr",
     "output_type": "stream",
     "text": [
      "\n",
      "  0%|          | 0/55 [00:00<?, ?it/s]\u001b[A\n",
      " 15%|#4        | 8/55 [00:00<00:00, 68.67it/s]\u001b[A"
     ]
    },
    {
     "name": "stdout",
     "output_type": "stream",
     "text": [
      "\tdone\n",
      "Evaluating\n"
     ]
    },
    {
     "name": "stderr",
     "output_type": "stream",
     "text": [
      "\n",
      " 24%|##3       | 13/55 [00:00<00:00, 59.26it/s]\u001b[A\n",
      " 33%|###2      | 18/55 [00:00<00:00, 54.38it/s]\u001b[A\n",
      " 42%|####1     | 23/55 [00:00<00:00, 52.57it/s]\u001b[A\n",
      " 53%|#####2    | 29/55 [00:00<00:00, 53.60it/s]\u001b[A\n",
      " 64%|######3   | 35/55 [00:00<00:00, 54.91it/s]\u001b[A\n",
      " 76%|#######6  | 42/55 [00:00<00:00, 58.36it/s]\u001b[A\n",
      " 89%|########9 | 49/55 [00:00<00:00, 60.70it/s]\u001b[A\n",
      " 13%|█▎        | 79/628 [00:04<01:12,  7.57it/s][A"
     ]
    },
    {
     "name": "stdout",
     "output_type": "stream",
     "text": [
      "{'ade': 0.53570485, 'fde': 1.1521316}\n",
      "\t last loss:0.000305187, eval on validation:['ade: 0.53570485', 'fde: 1.1521316'], (best ade:0.5328797 at step 39300) \n"
     ]
    },
    {
     "name": "stderr",
     "output_type": "stream",
     "text": [
      " 59%|█████▉    | 373/628 [00:16<00:09, 27.22it/s]\n",
      "  0%|          | 0/55 [00:00<?, ?it/s]\u001b[A"
     ]
    },
    {
     "name": "stdout",
     "output_type": "stream",
     "text": [
      "\tsaving model 52500...\n",
      "\tdone\n",
      "Evaluating\n"
     ]
    },
    {
     "name": "stderr",
     "output_type": "stream",
     "text": [
      "\n",
      " 16%|#6        | 9/55 [00:00<00:00, 87.26it/s]\u001b[A\n",
      " 33%|###2      | 18/55 [00:00<00:00, 86.72it/s]\u001b[A\n",
      " 44%|####3     | 24/55 [00:00<00:00, 72.39it/s]\u001b[A\n",
      " 56%|#####6    | 31/55 [00:00<00:00, 68.78it/s]\u001b[A\n",
      " 69%|######9   | 38/55 [00:00<00:00, 68.11it/s]\u001b[A\n",
      " 85%|########5 | 47/55 [00:00<00:00, 72.78it/s]\u001b[A\n",
      " 98%|#########8| 54/55 [00:00<00:00, 71.51it/s]\u001b[A\n",
      " 60%|██████    | 379/628 [00:18<00:26,  9.49it/s]A"
     ]
    },
    {
     "name": "stdout",
     "output_type": "stream",
     "text": [
      "{'ade': 0.53500897, 'fde': 1.1500323}\n",
      "\t last loss:0.000399381, eval on validation:['ade: 0.53500897', 'fde: 1.1500323'], (best ade:0.5328797 at step 39300) \n"
     ]
    },
    {
     "name": "stderr",
     "output_type": "stream",
     "text": [
      "100%|██████████| 628/628 [00:27<00:00, 25.02it/s]\n",
      "  0%|          | 3/628 [00:00<00:25, 24.38it/s]"
     ]
    },
    {
     "name": "stdout",
     "output_type": "stream",
     "text": [
      "('Epoca 85.', 'lr:', 2.170828e-06)\n"
     ]
    },
    {
     "name": "stderr",
     "output_type": "stream",
     "text": [
      "  7%|▋         | 45/628 [00:01<00:27, 21.40it/s]"
     ]
    },
    {
     "name": "stdout",
     "output_type": "stream",
     "text": [
      "\tsaving model 52800...\n"
     ]
    },
    {
     "name": "stderr",
     "output_type": "stream",
     "text": [
      "\n",
      "  0%|          | 0/55 [00:00<?, ?it/s]\u001b[A\n",
      " 13%|#2        | 7/55 [00:00<00:00, 60.75it/s]\u001b[A"
     ]
    },
    {
     "name": "stdout",
     "output_type": "stream",
     "text": [
      "\tdone\n",
      "Evaluating\n"
     ]
    },
    {
     "name": "stderr",
     "output_type": "stream",
     "text": [
      "\n",
      " 20%|##        | 11/55 [00:00<00:00, 52.15it/s]\u001b[A\n",
      " 29%|##9       | 16/55 [00:00<00:00, 48.74it/s]\u001b[A\n",
      " 40%|####      | 22/55 [00:00<00:00, 49.98it/s]\u001b[A\n",
      " 51%|#####     | 28/55 [00:00<00:00, 52.14it/s]\u001b[A\n",
      " 64%|######3   | 35/55 [00:00<00:00, 55.89it/s]\u001b[A\n",
      " 76%|#######6  | 42/55 [00:00<00:00, 59.29it/s]\u001b[A\n",
      " 89%|########9 | 49/55 [00:00<00:00, 60.82it/s]\u001b[A\n",
      "  8%|▊         | 51/628 [00:03<01:16,  7.53it/s][A"
     ]
    },
    {
     "name": "stdout",
     "output_type": "stream",
     "text": [
      "{'ade': 0.53521657, 'fde': 1.1506988}\n",
      "\t last loss:0.000293692, eval on validation:['ade: 0.53521657', 'fde: 1.1506988'], (best ade:0.5328797 at step 39300) \n"
     ]
    },
    {
     "name": "stderr",
     "output_type": "stream",
     "text": [
      " 55%|█████▌    | 346/628 [00:15<00:10, 26.77it/s]\n",
      "  0%|          | 0/55 [00:00<?, ?it/s]\u001b[A"
     ]
    },
    {
     "name": "stdout",
     "output_type": "stream",
     "text": [
      "\tsaving model 53100...\n",
      "\tdone\n",
      "Evaluating\n"
     ]
    },
    {
     "name": "stderr",
     "output_type": "stream",
     "text": [
      "\n",
      " 18%|#8        | 10/55 [00:00<00:00, 96.23it/s]\u001b[A\n",
      " 33%|###2      | 18/55 [00:00<00:00, 90.56it/s]\u001b[A\n",
      " 47%|####7     | 26/55 [00:00<00:00, 85.34it/s]\u001b[A\n",
      " 58%|#####8    | 32/55 [00:00<00:00, 75.74it/s]\u001b[A\n",
      " 75%|#######4  | 41/55 [00:00<00:00, 78.76it/s]\u001b[A\n",
      " 89%|########9 | 49/55 [00:00<00:00, 78.40it/s]\u001b[A\n",
      " 56%|█████▌    | 352/628 [00:16<00:27, 10.16it/s]A"
     ]
    },
    {
     "name": "stdout",
     "output_type": "stream",
     "text": [
      "{'ade': 0.5351599, 'fde': 1.1503491}\n",
      "\t last loss:0.000454649, eval on validation:['ade: 0.5351599', 'fde: 1.1503491'], (best ade:0.5328797 at step 39300) \n"
     ]
    },
    {
     "name": "stderr",
     "output_type": "stream",
     "text": [
      "100%|██████████| 628/628 [00:27<00:00, 25.07it/s]\n",
      "  0%|          | 3/628 [00:00<00:25, 24.24it/s]"
     ]
    },
    {
     "name": "stdout",
     "output_type": "stream",
     "text": [
      "('Epoca 86.', 'lr:', 2.170828e-06)\n"
     ]
    },
    {
     "name": "stderr",
     "output_type": "stream",
     "text": [
      "  3%|▎         | 17/628 [00:00<00:28, 21.19it/s]\n",
      "  0%|          | 0/55 [00:00<?, ?it/s]\u001b[A"
     ]
    },
    {
     "name": "stdout",
     "output_type": "stream",
     "text": [
      "\tsaving model 53400...\n",
      "\tdone\n",
      "Evaluating\n"
     ]
    },
    {
     "name": "stderr",
     "output_type": "stream",
     "text": [
      "\n",
      " 16%|#6        | 9/55 [00:00<00:00, 88.32it/s]\u001b[A\n",
      " 29%|##9       | 16/55 [00:00<00:00, 79.78it/s]\u001b[A\n",
      " 44%|####3     | 24/55 [00:00<00:00, 79.40it/s]\u001b[A\n",
      " 62%|######1   | 34/55 [00:00<00:00, 83.55it/s]\u001b[A\n",
      " 78%|#######8  | 43/55 [00:00<00:00, 83.80it/s]\u001b[A\n",
      " 95%|#########4| 52/55 [00:00<00:00, 84.53it/s]\u001b[A\n",
      "  4%|▎         | 23/628 [00:01<01:02,  9.63it/s][A"
     ]
    },
    {
     "name": "stdout",
     "output_type": "stream",
     "text": [
      "{'ade': 0.5347428, 'fde': 1.1490248}\n",
      "\t last loss:0.000302900, eval on validation:['ade: 0.5347428', 'fde: 1.1490248'], (best ade:0.5328797 at step 39300) \n"
     ]
    },
    {
     "name": "stderr",
     "output_type": "stream",
     "text": [
      " 50%|█████     | 317/628 [00:13<00:11, 26.70it/s]\n",
      "  0%|          | 0/55 [00:00<?, ?it/s]\u001b[A"
     ]
    },
    {
     "name": "stdout",
     "output_type": "stream",
     "text": [
      "\tsaving model 53700...\n",
      "\tdone\n",
      "Evaluating\n"
     ]
    },
    {
     "name": "stderr",
     "output_type": "stream",
     "text": [
      "\n",
      " 16%|#6        | 9/55 [00:00<00:00, 85.71it/s]\u001b[A\n",
      " 27%|##7       | 15/55 [00:00<00:00, 74.55it/s]\u001b[A\n",
      " 40%|####      | 22/55 [00:00<00:00, 70.78it/s]\u001b[A\n",
      " 51%|#####     | 28/55 [00:00<00:00, 65.74it/s]\u001b[A\n",
      " 67%|######7   | 37/55 [00:00<00:00, 70.33it/s]\u001b[A\n",
      " 82%|########1 | 45/55 [00:00<00:00, 71.77it/s]\u001b[A\n",
      " 98%|#########8| 54/55 [00:00<00:00, 75.80it/s]\u001b[A\n",
      " 51%|█████▏    | 323/628 [00:14<00:32,  9.48it/s]A"
     ]
    },
    {
     "name": "stdout",
     "output_type": "stream",
     "text": [
      "{'ade': 0.53502953, 'fde': 1.1500157}\n",
      "\t last loss:0.000327983, eval on validation:['ade: 0.53502953', 'fde: 1.1500157'], (best ade:0.5328797 at step 39300) \n"
     ]
    },
    {
     "name": "stderr",
     "output_type": "stream",
     "text": [
      " 98%|█████████▊| 617/628 [00:27<00:00, 25.53it/s]\n",
      "  0%|          | 0/55 [00:00<?, ?it/s]\u001b[A"
     ]
    },
    {
     "name": "stdout",
     "output_type": "stream",
     "text": [
      "\tsaving model 54000...\n",
      "\tdone\n",
      "Evaluating\n"
     ]
    },
    {
     "name": "stderr",
     "output_type": "stream",
     "text": [
      "\n",
      " 13%|#2        | 7/55 [00:00<00:00, 59.57it/s]\u001b[A\n",
      " 22%|##1       | 12/55 [00:00<00:00, 55.31it/s]\u001b[A\n",
      " 31%|###       | 17/55 [00:00<00:00, 50.52it/s]\u001b[A\n",
      " 40%|####      | 22/55 [00:00<00:00, 48.53it/s]\u001b[A\n",
      " 51%|#####     | 28/55 [00:00<00:00, 50.11it/s]\u001b[A\n",
      " 60%|######    | 33/55 [00:00<00:00, 46.80it/s]\u001b[A\n",
      " 71%|#######   | 39/55 [00:00<00:00, 47.82it/s]\u001b[A\n",
      " 80%|########  | 44/55 [00:00<00:00, 45.83it/s]\u001b[A\n",
      " 89%|########9 | 49/55 [00:01<00:00, 42.78it/s]\u001b[A\n",
      " 98%|#########8| 54/55 [00:01<00:00, 40.25it/s]\u001b[A\n",
      " 99%|█████████▊| 620/628 [00:28<00:01,  5.37it/s]A"
     ]
    },
    {
     "name": "stdout",
     "output_type": "stream",
     "text": [
      "{'ade': 0.5352814, 'fde': 1.1507576}\n",
      "\t last loss:0.000247734, eval on validation:['ade: 0.5352814', 'fde: 1.1507576'], (best ade:0.5328797 at step 39300) \n"
     ]
    },
    {
     "name": "stderr",
     "output_type": "stream",
     "text": [
      "100%|██████████| 628/628 [00:29<00:00, 21.44it/s]\n",
      "  0%|          | 1/628 [00:00<01:15,  8.31it/s]"
     ]
    },
    {
     "name": "stdout",
     "output_type": "stream",
     "text": [
      "('Epoca 87.', 'lr:', 1.8452038e-06)\n"
     ]
    },
    {
     "name": "stderr",
     "output_type": "stream",
     "text": [
      " 46%|████▌     | 289/628 [00:11<00:12, 27.04it/s]\n",
      "  0%|          | 0/55 [00:00<?, ?it/s]\u001b[A"
     ]
    },
    {
     "name": "stdout",
     "output_type": "stream",
     "text": [
      "\tsaving model 54300...\n",
      "\tdone\n",
      "Evaluating\n"
     ]
    },
    {
     "name": "stderr",
     "output_type": "stream",
     "text": [
      "\n",
      " 18%|#8        | 10/55 [00:00<00:00, 97.63it/s]\u001b[A\n",
      " 36%|###6      | 20/55 [00:00<00:00, 96.98it/s]\u001b[A\n",
      " 55%|#####4    | 30/55 [00:00<00:00, 96.45it/s]\u001b[A\n",
      " 73%|#######2  | 40/55 [00:00<00:00, 95.89it/s]\u001b[A\n",
      " 91%|######### | 50/55 [00:00<00:00, 95.51it/s]\u001b[A\n",
      " 47%|████▋     | 295/628 [00:12<00:31, 10.63it/s]A"
     ]
    },
    {
     "name": "stdout",
     "output_type": "stream",
     "text": [
      "{'ade': 0.53495204, 'fde': 1.1499703}\n",
      "\t last loss:0.000416781, eval on validation:['ade: 0.53495204', 'fde: 1.1499703'], (best ade:0.5328797 at step 39300) \n"
     ]
    },
    {
     "name": "stderr",
     "output_type": "stream",
     "text": [
      " 94%|█████████▍| 589/628 [00:23<00:01, 25.03it/s]\n",
      "  0%|          | 0/55 [00:00<?, ?it/s]\u001b[A"
     ]
    },
    {
     "name": "stdout",
     "output_type": "stream",
     "text": [
      "\tsaving model 54600...\n",
      "\tdone\n",
      "Evaluating\n"
     ]
    },
    {
     "name": "stderr",
     "output_type": "stream",
     "text": [
      "\n",
      " 13%|#2        | 7/55 [00:00<00:00, 69.32it/s]\u001b[A\n",
      " 22%|##1       | 12/55 [00:00<00:00, 59.76it/s]\u001b[A\n",
      " 31%|###       | 17/55 [00:00<00:00, 53.46it/s]\u001b[A\n",
      " 40%|####      | 22/55 [00:00<00:00, 51.46it/s]\u001b[A\n",
      " 53%|#####2    | 29/55 [00:00<00:00, 55.55it/s]\u001b[A\n",
      " 64%|######3   | 35/55 [00:00<00:00, 55.29it/s]\u001b[A\n",
      " 76%|#######6  | 42/55 [00:00<00:00, 58.77it/s]\u001b[A\n",
      " 89%|########9 | 49/55 [00:00<00:00, 61.40it/s]\u001b[A\n",
      " 95%|█████████▍| 595/628 [00:25<00:04,  8.10it/s]A"
     ]
    },
    {
     "name": "stdout",
     "output_type": "stream",
     "text": [
      "{'ade': 0.5343067, 'fde': 1.1478549}\n",
      "\t last loss:0.000616243, eval on validation:['ade: 0.5343067', 'fde: 1.1478549'], (best ade:0.5328797 at step 39300) \n"
     ]
    },
    {
     "name": "stderr",
     "output_type": "stream",
     "text": [
      "100%|██████████| 628/628 [00:26<00:00, 23.26it/s]\n",
      "  0%|          | 2/628 [00:00<00:41, 14.93it/s]"
     ]
    },
    {
     "name": "stdout",
     "output_type": "stream",
     "text": [
      "('Epoca 88.', 'lr:', 1.8452038e-06)\n"
     ]
    },
    {
     "name": "stderr",
     "output_type": "stream",
     "text": [
      " 42%|████▏     | 263/628 [00:12<00:17, 20.81it/s]"
     ]
    },
    {
     "name": "stdout",
     "output_type": "stream",
     "text": [
      "\tsaving model 54900...\n"
     ]
    },
    {
     "name": "stderr",
     "output_type": "stream",
     "text": [
      "\n",
      "  0%|          | 0/55 [00:00<?, ?it/s]\u001b[A\n",
      " 13%|#2        | 7/55 [00:00<00:00, 64.96it/s]\u001b[A"
     ]
    },
    {
     "name": "stdout",
     "output_type": "stream",
     "text": [
      "\tdone\n",
      "Evaluating\n"
     ]
    },
    {
     "name": "stderr",
     "output_type": "stream",
     "text": [
      "\n",
      " 22%|##1       | 12/55 [00:00<00:00, 57.29it/s]\u001b[A\n",
      " 29%|##9       | 16/55 [00:00<00:00, 50.04it/s]\u001b[A\n",
      " 40%|####      | 22/55 [00:00<00:00, 51.22it/s]\u001b[A\n",
      " 51%|#####     | 28/55 [00:00<00:00, 51.48it/s]\u001b[A\n",
      " 64%|######3   | 35/55 [00:00<00:00, 55.45it/s]\u001b[A\n",
      " 76%|#######6  | 42/55 [00:00<00:00, 58.81it/s]\u001b[A\n",
      " 89%|########9 | 49/55 [00:00<00:00, 61.77it/s]\u001b[A\n",
      " 42%|████▏     | 266/628 [00:14<01:00,  5.98it/s]A"
     ]
    },
    {
     "name": "stdout",
     "output_type": "stream",
     "text": [
      "{'ade': 0.5349685, 'fde': 1.1496853}\n",
      "\t last loss:0.000303101, eval on validation:['ade: 0.5349685', 'fde: 1.1496853'], (best ade:0.5328797 at step 39300) \n"
     ]
    },
    {
     "name": "stderr",
     "output_type": "stream",
     "text": [
      " 90%|████████▉ | 563/628 [00:27<00:02, 26.87it/s]\n",
      "  0%|          | 0/55 [00:00<?, ?it/s]\u001b[A"
     ]
    },
    {
     "name": "stdout",
     "output_type": "stream",
     "text": [
      "\tsaving model 55200...\n",
      "\tdone\n",
      "Evaluating\n"
     ]
    },
    {
     "name": "stderr",
     "output_type": "stream",
     "text": [
      "\n",
      " 18%|#8        | 10/55 [00:00<00:00, 94.43it/s]\u001b[A\n",
      " 35%|###4      | 19/55 [00:00<00:00, 90.72it/s]\u001b[A\n",
      " 47%|####7     | 26/55 [00:00<00:00, 81.32it/s]\u001b[A\n",
      " 60%|######    | 33/55 [00:00<00:00, 75.03it/s]\u001b[A\n",
      " 78%|#######8  | 43/55 [00:00<00:00, 79.31it/s]\u001b[A\n",
      " 93%|#########2| 51/55 [00:00<00:00, 78.94it/s]\u001b[A\n",
      " 90%|█████████ | 566/628 [00:27<00:07,  8.03it/s]A"
     ]
    },
    {
     "name": "stdout",
     "output_type": "stream",
     "text": [
      "{'ade': 0.5341362, 'fde': 1.1474243}\n",
      "\t last loss:0.000424216, eval on validation:['ade: 0.5341362', 'fde: 1.1474243'], (best ade:0.5328797 at step 39300) \n"
     ]
    },
    {
     "name": "stderr",
     "output_type": "stream",
     "text": [
      "100%|██████████| 628/628 [00:30<00:00, 20.61it/s]\n",
      "  0%|          | 1/628 [00:00<01:09,  9.03it/s]"
     ]
    },
    {
     "name": "stdout",
     "output_type": "stream",
     "text": [
      "('Epoca 89.', 'lr:', 1.5684233e-06)\n"
     ]
    },
    {
     "name": "stderr",
     "output_type": "stream",
     "text": [
      " 37%|███▋      | 235/628 [00:08<00:14, 26.60it/s]\n",
      "  0%|          | 0/55 [00:00<?, ?it/s]\u001b[A"
     ]
    },
    {
     "name": "stdout",
     "output_type": "stream",
     "text": [
      "\tsaving model 55500...\n",
      "\tdone\n",
      "Evaluating\n"
     ]
    },
    {
     "name": "stderr",
     "output_type": "stream",
     "text": [
      "\n",
      " 18%|#8        | 10/55 [00:00<00:00, 94.49it/s]\u001b[A\n",
      " 36%|###6      | 20/55 [00:00<00:00, 94.96it/s]\u001b[A\n",
      " 55%|#####4    | 30/55 [00:00<00:00, 94.79it/s]\u001b[A\n",
      " 73%|#######2  | 40/55 [00:00<00:00, 94.80it/s]\u001b[A\n",
      " 91%|######### | 50/55 [00:00<00:00, 94.99it/s]\u001b[A\n",
      " 38%|███▊      | 238/628 [00:09<00:44,  8.73it/s]A"
     ]
    },
    {
     "name": "stdout",
     "output_type": "stream",
     "text": [
      "{'ade': 0.5347458, 'fde': 1.1490235}\n",
      "\t last loss:0.000283880, eval on validation:['ade: 0.5347458', 'fde: 1.1490235'], (best ade:0.5328797 at step 39300) \n"
     ]
    },
    {
     "name": "stderr",
     "output_type": "stream",
     "text": [
      " 85%|████████▌ | 534/628 [00:23<00:04, 20.60it/s]"
     ]
    },
    {
     "name": "stdout",
     "output_type": "stream",
     "text": [
      "\tsaving model 55800...\n"
     ]
    },
    {
     "name": "stderr",
     "output_type": "stream",
     "text": [
      "\n",
      "  0%|          | 0/55 [00:00<?, ?it/s]\u001b[A\n",
      " 13%|#2        | 7/55 [00:00<00:00, 62.95it/s]\u001b[A"
     ]
    },
    {
     "name": "stdout",
     "output_type": "stream",
     "text": [
      "\tdone\n",
      "Evaluating\n"
     ]
    },
    {
     "name": "stderr",
     "output_type": "stream",
     "text": [
      "\n",
      " 20%|##        | 11/55 [00:00<00:00, 53.59it/s]\u001b[A\n",
      " 29%|##9       | 16/55 [00:00<00:00, 50.11it/s]\u001b[A\n",
      " 38%|###8      | 21/55 [00:00<00:00, 49.92it/s]\u001b[A\n",
      " 49%|####9     | 27/55 [00:00<00:00, 51.91it/s]\u001b[A\n",
      " 62%|######1   | 34/55 [00:00<00:00, 55.56it/s]\u001b[A\n",
      " 75%|#######4  | 41/55 [00:00<00:00, 58.98it/s]\u001b[A\n",
      " 87%|########7 | 48/55 [00:00<00:00, 61.72it/s]\u001b[A\n",
      " 86%|████████▌ | 537/628 [00:24<00:15,  5.94it/s]A"
     ]
    },
    {
     "name": "stdout",
     "output_type": "stream",
     "text": [
      "{'ade': 0.5345254, 'fde': 1.1486819}\n",
      "\t last loss:0.000369843, eval on validation:['ade: 0.5345254', 'fde: 1.1486819'], (best ade:0.5328797 at step 39300) \n"
     ]
    },
    {
     "name": "stderr",
     "output_type": "stream",
     "text": [
      "100%|██████████| 628/628 [00:29<00:00, 21.49it/s]\n",
      "  0%|          | 1/628 [00:00<01:03,  9.95it/s]"
     ]
    },
    {
     "name": "stdout",
     "output_type": "stream",
     "text": [
      "('Epoca 90.', 'lr:', 1.5684233e-06)\n"
     ]
    },
    {
     "name": "stderr",
     "output_type": "stream",
     "text": [
      " 33%|███▎      | 207/628 [00:10<00:17, 24.27it/s]\n",
      "  0%|          | 0/55 [00:00<?, ?it/s]\u001b[A"
     ]
    },
    {
     "name": "stdout",
     "output_type": "stream",
     "text": [
      "\tsaving model 56100...\n",
      "\tdone\n",
      "Evaluating\n"
     ]
    },
    {
     "name": "stderr",
     "output_type": "stream",
     "text": [
      "\n",
      " 18%|#8        | 10/55 [00:00<00:00, 97.82it/s]\u001b[A\n",
      " 31%|###       | 17/55 [00:00<00:00, 85.96it/s]\u001b[A\n",
      " 44%|####3     | 24/55 [00:00<00:00, 80.07it/s]\u001b[A\n",
      " 58%|#####8    | 32/55 [00:00<00:00, 78.03it/s]\u001b[A\n",
      " 73%|#######2  | 40/55 [00:00<00:00, 78.46it/s]\u001b[A\n",
      " 87%|########7 | 48/55 [00:00<00:00, 78.48it/s]\u001b[A\n",
      " 33%|███▎      | 210/628 [00:11<00:53,  7.79it/s]A"
     ]
    },
    {
     "name": "stdout",
     "output_type": "stream",
     "text": [
      "{'ade': 0.53444195, 'fde': 1.1483232}\n",
      "\t last loss:0.000335564, eval on validation:['ade: 0.53444195', 'fde: 1.1483232'], (best ade:0.5328797 at step 39300) \n"
     ]
    },
    {
     "name": "stderr",
     "output_type": "stream",
     "text": [
      " 81%|████████  | 507/628 [00:22<00:04, 26.73it/s]\n",
      "  0%|          | 0/55 [00:00<?, ?it/s]\u001b[A"
     ]
    },
    {
     "name": "stdout",
     "output_type": "stream",
     "text": [
      "\tsaving model 56400...\n",
      "\tdone\n",
      "Evaluating\n"
     ]
    },
    {
     "name": "stderr",
     "output_type": "stream",
     "text": [
      "\n",
      " 18%|#8        | 10/55 [00:00<00:00, 96.28it/s]\u001b[A\n",
      " 35%|###4      | 19/55 [00:00<00:00, 92.35it/s]\u001b[A\n",
      " 53%|#####2    | 29/55 [00:00<00:00, 92.95it/s]\u001b[A\n",
      " 69%|######9   | 38/55 [00:00<00:00, 90.83it/s]\u001b[A\n",
      " 87%|########7 | 48/55 [00:00<00:00, 91.79it/s]\u001b[A\n",
      " 81%|████████  | 510/628 [00:23<00:13,  8.63it/s]A"
     ]
    },
    {
     "name": "stdout",
     "output_type": "stream",
     "text": [
      "{'ade': 0.5343213, 'fde': 1.147959}\n",
      "\t last loss:0.000557378, eval on validation:['ade: 0.5343213', 'fde: 1.147959'], (best ade:0.5328797 at step 39300) \n"
     ]
    },
    {
     "name": "stderr",
     "output_type": "stream",
     "text": [
      "100%|██████████| 628/628 [00:28<00:00, 22.34it/s]\n",
      "  0%|          | 1/628 [00:00<01:08,  9.17it/s]"
     ]
    },
    {
     "name": "stdout",
     "output_type": "stream",
     "text": [
      "('Epoca 91.', 'lr:', 1.3331598e-06)\n"
     ]
    },
    {
     "name": "stderr",
     "output_type": "stream",
     "text": [
      " 28%|██▊       | 177/628 [00:07<00:18, 24.54it/s]\n",
      "  0%|          | 0/55 [00:00<?, ?it/s]\u001b[A"
     ]
    },
    {
     "name": "stdout",
     "output_type": "stream",
     "text": [
      "\tsaving model 56700...\n",
      "\tdone\n",
      "Evaluating\n"
     ]
    },
    {
     "name": "stderr",
     "output_type": "stream",
     "text": [
      "\n",
      " 16%|#6        | 9/55 [00:00<00:00, 85.69it/s]\u001b[A\n",
      " 27%|##7       | 15/55 [00:00<00:00, 75.18it/s]\u001b[A\n",
      " 40%|####      | 22/55 [00:00<00:00, 71.60it/s]\u001b[A\n",
      " 53%|#####2    | 29/55 [00:00<00:00, 69.25it/s]\u001b[A\n",
      " 65%|######5   | 36/55 [00:00<00:00, 69.46it/s]\u001b[A\n",
      " 80%|########  | 44/55 [00:00<00:00, 72.04it/s]\u001b[A\n",
      " 96%|#########6| 53/55 [00:00<00:00, 75.45it/s]\u001b[A\n",
      " 29%|██▉       | 183/628 [00:09<00:48,  9.23it/s]A"
     ]
    },
    {
     "name": "stdout",
     "output_type": "stream",
     "text": [
      "{'ade': 0.5343629, 'fde': 1.1480485}\n",
      "\t last loss:0.000295351, eval on validation:['ade: 0.5343629', 'fde: 1.1480485'], (best ade:0.5328797 at step 39300) \n"
     ]
    },
    {
     "name": "stderr",
     "output_type": "stream",
     "text": [
      " 76%|███████▌  | 477/628 [00:21<00:05, 25.25it/s]\n",
      "  0%|          | 0/55 [00:00<?, ?it/s]\u001b[A"
     ]
    },
    {
     "name": "stdout",
     "output_type": "stream",
     "text": [
      "\tsaving model 57000...\n",
      "\tdone\n",
      "Evaluating\n"
     ]
    },
    {
     "name": "stderr",
     "output_type": "stream",
     "text": [
      "\n",
      " 16%|#6        | 9/55 [00:00<00:00, 82.07it/s]\u001b[A\n",
      " 29%|##9       | 16/55 [00:00<00:00, 74.55it/s]\u001b[A\n",
      " 40%|####      | 22/55 [00:00<00:00, 66.46it/s]\u001b[A\n",
      " 55%|#####4    | 30/55 [00:00<00:00, 69.54it/s]\u001b[A\n",
      " 69%|######9   | 38/55 [00:00<00:00, 70.41it/s]\u001b[A\n",
      " 85%|########5 | 47/55 [00:00<00:00, 74.79it/s]\u001b[A\n",
      " 77%|███████▋  | 483/628 [00:22<00:15,  9.43it/s]A"
     ]
    },
    {
     "name": "stdout",
     "output_type": "stream",
     "text": [
      "{'ade': 0.53450483, 'fde': 1.148406}\n",
      "\t last loss:0.000256871, eval on validation:['ade: 0.53450483', 'fde: 1.148406'], (best ade:0.5328797 at step 39300) \n"
     ]
    },
    {
     "name": "stderr",
     "output_type": "stream",
     "text": [
      "100%|██████████| 628/628 [00:28<00:00, 22.13it/s]\n",
      "  0%|          | 1/628 [00:00<01:18,  7.98it/s]"
     ]
    },
    {
     "name": "stdout",
     "output_type": "stream",
     "text": [
      "('Epoca 92.', 'lr:', 1.3331598e-06)\n"
     ]
    },
    {
     "name": "stderr",
     "output_type": "stream",
     "text": [
      " 24%|██▍       | 151/628 [00:06<00:19, 24.84it/s]\n",
      "  0%|          | 0/55 [00:00<?, ?it/s]\u001b[A"
     ]
    },
    {
     "name": "stdout",
     "output_type": "stream",
     "text": [
      "\tsaving model 57300...\n",
      "\tdone\n",
      "Evaluating\n"
     ]
    },
    {
     "name": "stderr",
     "output_type": "stream",
     "text": [
      "\n",
      " 16%|#6        | 9/55 [00:00<00:00, 88.38it/s]\u001b[A\n",
      " 33%|###2      | 18/55 [00:00<00:00, 88.00it/s]\u001b[A\n",
      " 49%|####9     | 27/55 [00:00<00:00, 87.59it/s]\u001b[A\n",
      " 65%|######5   | 36/55 [00:00<00:00, 87.50it/s]\u001b[A\n",
      " 82%|########1 | 45/55 [00:00<00:00, 87.05it/s]\u001b[A\n",
      " 96%|#########6| 53/55 [00:00<00:00, 81.55it/s]\u001b[A\n",
      " 25%|██▍       | 154/628 [00:07<01:03,  7.49it/s]A"
     ]
    },
    {
     "name": "stdout",
     "output_type": "stream",
     "text": [
      "{'ade': 0.53415924, 'fde': 1.1473846}\n",
      "\t last loss:0.000409678, eval on validation:['ade: 0.53415924', 'fde: 1.1473846'], (best ade:0.5328797 at step 39300) \n"
     ]
    },
    {
     "name": "stderr",
     "output_type": "stream",
     "text": [
      " 72%|███████▏  | 450/628 [00:19<00:07, 25.02it/s]\n",
      "  0%|          | 0/55 [00:00<?, ?it/s]\u001b[A"
     ]
    },
    {
     "name": "stdout",
     "output_type": "stream",
     "text": [
      "\tsaving model 57600...\n",
      "\tdone\n",
      "Evaluating\n"
     ]
    },
    {
     "name": "stderr",
     "output_type": "stream",
     "text": [
      "\n",
      " 18%|#8        | 10/55 [00:00<00:00, 87.01it/s]\u001b[A\n",
      " 29%|##9       | 16/55 [00:00<00:00, 75.39it/s]\u001b[A\n",
      " 42%|####1     | 23/55 [00:00<00:00, 70.57it/s]\u001b[A\n",
      " 56%|#####6    | 31/55 [00:00<00:00, 71.38it/s]\u001b[A\n",
      " 71%|#######   | 39/55 [00:00<00:00, 71.28it/s]\u001b[A\n",
      " 85%|########5 | 47/55 [00:00<00:00, 72.27it/s]\u001b[A\n",
      " 73%|███████▎  | 456/628 [00:20<00:18,  9.26it/s]A"
     ]
    },
    {
     "name": "stdout",
     "output_type": "stream",
     "text": [
      "{'ade': 0.534427, 'fde': 1.1482886}\n",
      "\t last loss:0.000299167, eval on validation:['ade: 0.534427', 'fde: 1.1482886'], (best ade:0.5328797 at step 39300) \n"
     ]
    },
    {
     "name": "stderr",
     "output_type": "stream",
     "text": [
      "100%|██████████| 628/628 [00:27<00:00, 22.77it/s]\n",
      "  0%|          | 1/628 [00:00<01:04,  9.73it/s]"
     ]
    },
    {
     "name": "stdout",
     "output_type": "stream",
     "text": [
      "('Epoca 93.', 'lr:', 1.1331858e-06)\n"
     ]
    },
    {
     "name": "stderr",
     "output_type": "stream",
     "text": [
      " 19%|█▉        | 121/628 [00:04<00:20, 24.39it/s]\n",
      "  0%|          | 0/55 [00:00<?, ?it/s]\u001b[A"
     ]
    },
    {
     "name": "stdout",
     "output_type": "stream",
     "text": [
      "\tsaving model 57900...\n",
      "\tdone\n",
      "Evaluating\n"
     ]
    },
    {
     "name": "stderr",
     "output_type": "stream",
     "text": [
      "\n",
      " 16%|#6        | 9/55 [00:00<00:00, 87.65it/s]\u001b[A\n",
      " 29%|##9       | 16/55 [00:00<00:00, 81.33it/s]\u001b[A\n",
      " 42%|####1     | 23/55 [00:00<00:00, 73.84it/s]\u001b[A\n",
      " 53%|#####2    | 29/55 [00:00<00:00, 68.26it/s]\u001b[A\n",
      " 65%|######5   | 36/55 [00:00<00:00, 68.20it/s]\u001b[A\n",
      " 80%|########  | 44/55 [00:00<00:00, 70.80it/s]\u001b[A\n",
      " 96%|#########6| 53/55 [00:00<00:00, 74.88it/s]\u001b[A\n",
      " 20%|██        | 127/628 [00:06<00:53,  9.29it/s]A"
     ]
    },
    {
     "name": "stdout",
     "output_type": "stream",
     "text": [
      "{'ade': 0.53434837, 'fde': 1.1479954}\n",
      "\t last loss:0.000365780, eval on validation:['ade: 0.53434837', 'fde: 1.1479954'], (best ade:0.5328797 at step 39300) \n"
     ]
    },
    {
     "name": "stderr",
     "output_type": "stream",
     "text": [
      " 67%|██████▋   | 421/628 [00:18<00:08, 25.45it/s]"
     ]
    },
    {
     "name": "stdout",
     "output_type": "stream",
     "text": [
      "\tsaving model 58200...\n"
     ]
    },
    {
     "name": "stderr",
     "output_type": "stream",
     "text": [
      "\n",
      "  0%|          | 0/55 [00:00<?, ?it/s]\u001b[A\n",
      " 15%|#4        | 8/55 [00:00<00:00, 79.43it/s]\u001b[A"
     ]
    },
    {
     "name": "stdout",
     "output_type": "stream",
     "text": [
      "\tdone\n",
      "Evaluating\n"
     ]
    },
    {
     "name": "stderr",
     "output_type": "stream",
     "text": [
      "\n",
      " 31%|###       | 17/55 [00:00<00:00, 81.11it/s]\u001b[A\n",
      " 45%|####5     | 25/55 [00:00<00:00, 80.74it/s]\u001b[A\n",
      " 62%|######1   | 34/55 [00:00<00:00, 82.33it/s]\u001b[A\n",
      " 78%|#######8  | 43/55 [00:00<00:00, 83.43it/s]\u001b[A\n",
      " 95%|#########4| 52/55 [00:00<00:00, 84.51it/s]\u001b[A\n",
      " 68%|██████▊   | 427/628 [00:19<00:20,  9.94it/s]A"
     ]
    },
    {
     "name": "stdout",
     "output_type": "stream",
     "text": [
      "{'ade': 0.534847, 'fde': 1.1494787}\n",
      "\t last loss:0.000479490, eval on validation:['ade: 0.534847', 'fde: 1.1494787'], (best ade:0.5328797 at step 39300) \n"
     ]
    },
    {
     "name": "stderr",
     "output_type": "stream",
     "text": [
      "100%|██████████| 628/628 [00:27<00:00, 24.58it/s]\n",
      "  0%|          | 1/628 [00:00<01:16,  8.19it/s]"
     ]
    },
    {
     "name": "stdout",
     "output_type": "stream",
     "text": [
      "('Epoca 94.', 'lr:', 1.1331858e-06)\n"
     ]
    },
    {
     "name": "stderr",
     "output_type": "stream",
     "text": [
      " 15%|█▍        | 94/628 [00:03<00:21, 25.28it/s]\n",
      "  0%|          | 0/55 [00:00<?, ?it/s]\u001b[A"
     ]
    },
    {
     "name": "stdout",
     "output_type": "stream",
     "text": [
      "\tsaving model 58500...\n",
      "\tdone\n",
      "Evaluating\n"
     ]
    },
    {
     "name": "stderr",
     "output_type": "stream",
     "text": [
      "\n",
      " 13%|#2        | 7/55 [00:00<00:00, 69.72it/s]\u001b[A\n",
      " 25%|##5       | 14/55 [00:00<00:00, 68.22it/s]\u001b[A\n",
      " 38%|###8      | 21/55 [00:00<00:00, 67.45it/s]\u001b[A\n",
      " 49%|####9     | 27/55 [00:00<00:00, 64.45it/s]\u001b[A\n",
      " 64%|######3   | 35/55 [00:00<00:00, 68.12it/s]\u001b[A\n",
      " 78%|#######8  | 43/55 [00:00<00:00, 69.90it/s]\u001b[A\n",
      " 95%|#########4| 52/55 [00:00<00:00, 74.19it/s]\u001b[A\n",
      " 15%|█▌        | 97/628 [00:04<01:13,  7.21it/s][A"
     ]
    },
    {
     "name": "stdout",
     "output_type": "stream",
     "text": [
      "{'ade': 0.5349322, 'fde': 1.1497816}\n",
      "\t last loss:0.000360894, eval on validation:['ade: 0.5349322', 'fde: 1.1497816'], (best ade:0.5328797 at step 39300) \n"
     ]
    },
    {
     "name": "stderr",
     "output_type": "stream",
     "text": [
      " 63%|██████▎   | 394/628 [00:17<00:09, 24.65it/s]\n",
      "  0%|          | 0/55 [00:00<?, ?it/s]\u001b[A"
     ]
    },
    {
     "name": "stdout",
     "output_type": "stream",
     "text": [
      "\tsaving model 58800...\n",
      "\tdone\n",
      "Evaluating\n"
     ]
    },
    {
     "name": "stderr",
     "output_type": "stream",
     "text": [
      "\n",
      " 16%|#6        | 9/55 [00:00<00:00, 89.48it/s]\u001b[A\n",
      " 33%|###2      | 18/55 [00:00<00:00, 87.50it/s]\u001b[A\n",
      " 44%|####3     | 24/55 [00:00<00:00, 76.90it/s]\u001b[A\n",
      " 56%|#####6    | 31/55 [00:00<00:00, 73.62it/s]\u001b[A\n",
      " 69%|######9   | 38/55 [00:00<00:00, 70.49it/s]\u001b[A\n",
      " 84%|########3 | 46/55 [00:00<00:00, 72.81it/s]\u001b[A\n",
      " 98%|#########8| 54/55 [00:00<00:00, 73.28it/s]\u001b[A\n",
      " 63%|██████▎   | 397/628 [00:18<00:31,  7.31it/s]A"
     ]
    },
    {
     "name": "stdout",
     "output_type": "stream",
     "text": [
      "{'ade': 0.53472865, 'fde': 1.1491572}\n",
      "\t last loss:0.000383048, eval on validation:['ade: 0.53472865', 'fde: 1.1491572'], (best ade:0.5328797 at step 39300) \n"
     ]
    },
    {
     "name": "stderr",
     "output_type": "stream",
     "text": [
      "100%|██████████| 628/628 [00:27<00:00, 25.17it/s]\n",
      "  0%|          | 3/628 [00:00<00:25, 24.68it/s]"
     ]
    },
    {
     "name": "stdout",
     "output_type": "stream",
     "text": [
      "('Epoca 95.', 'lr:', 9.63208e-07)\n"
     ]
    },
    {
     "name": "stderr",
     "output_type": "stream",
     "text": [
      " 11%|█         | 66/628 [00:02<00:22, 24.86it/s]\n",
      "  0%|          | 0/55 [00:00<?, ?it/s]\u001b[A"
     ]
    },
    {
     "name": "stdout",
     "output_type": "stream",
     "text": [
      "\tsaving model 59100...\n",
      "\tdone\n",
      "Evaluating\n"
     ]
    },
    {
     "name": "stderr",
     "output_type": "stream",
     "text": [
      "\n",
      " 16%|#6        | 9/55 [00:00<00:00, 89.72it/s]\u001b[A\n",
      " 33%|###2      | 18/55 [00:00<00:00, 88.74it/s]\u001b[A\n",
      " 49%|####9     | 27/55 [00:00<00:00, 88.32it/s]\u001b[A\n",
      " 65%|######5   | 36/55 [00:00<00:00, 88.07it/s]\u001b[A\n",
      " 80%|########  | 44/55 [00:00<00:00, 85.47it/s]\u001b[A\n",
      " 96%|#########6| 53/55 [00:00<00:00, 85.56it/s]\u001b[A\n",
      " 11%|█▏        | 72/628 [00:03<00:55,  9.96it/s][A"
     ]
    },
    {
     "name": "stdout",
     "output_type": "stream",
     "text": [
      "{'ade': 0.5347876, 'fde': 1.1493576}\n",
      "\t last loss:0.000463696, eval on validation:['ade: 0.5347876', 'fde: 1.1493576'], (best ade:0.5328797 at step 39300) \n"
     ]
    },
    {
     "name": "stderr",
     "output_type": "stream",
     "text": [
      " 58%|█████▊    | 367/628 [00:16<00:12, 20.31it/s]"
     ]
    },
    {
     "name": "stdout",
     "output_type": "stream",
     "text": [
      "\tsaving model 59400...\n"
     ]
    },
    {
     "name": "stderr",
     "output_type": "stream",
     "text": [
      "\n",
      "  0%|          | 0/55 [00:00<?, ?it/s]\u001b[A\n",
      " 16%|#6        | 9/55 [00:00<00:00, 87.44it/s]\u001b[A\n",
      " 27%|##7       | 15/55 [00:00<00:00, 74.51it/s]\u001b[A\n",
      " 40%|####      | 22/55 [00:00<00:00, 73.01it/s]\u001b[A\n",
      " 51%|#####     | 28/55 [00:00<00:00, 68.23it/s]\u001b[A\n",
      " 65%|######5   | 36/55 [00:00<00:00, 71.05it/s]\u001b[A\n",
      " 80%|########  | 44/55 [00:00<00:00, 73.42it/s]\u001b[A\n",
      " 95%|#########4| 52/55 [00:00<00:00, 74.46it/s]\u001b[A\n",
      " 59%|█████▉    | 370/628 [00:17<00:37,  6.90it/s]A"
     ]
    },
    {
     "name": "stdout",
     "output_type": "stream",
     "text": [
      "\tdone\n",
      "Evaluating\n",
      "{'ade': 0.5346946, 'fde': 1.1490667}\n",
      "\t last loss:0.000326031, eval on validation:['ade: 0.5346946', 'fde: 1.1490667'], (best ade:0.5328797 at step 39300) \n"
     ]
    },
    {
     "name": "stderr",
     "output_type": "stream",
     "text": [
      "100%|██████████| 628/628 [00:28<00:00, 25.40it/s]\n",
      "  0%|          | 1/628 [00:00<01:10,  8.90it/s]"
     ]
    },
    {
     "name": "stdout",
     "output_type": "stream",
     "text": [
      "('Epoca 96.', 'lr:', 9.63208e-07)\n"
     ]
    },
    {
     "name": "stderr",
     "output_type": "stream",
     "text": [
      "  6%|▌         | 37/628 [00:01<00:24, 24.49it/s]\n",
      "  0%|          | 0/55 [00:00<?, ?it/s]\u001b[A"
     ]
    },
    {
     "name": "stdout",
     "output_type": "stream",
     "text": [
      "\tsaving model 59700...\n",
      "\tdone\n",
      "Evaluating\n"
     ]
    },
    {
     "name": "stderr",
     "output_type": "stream",
     "text": [
      "\n",
      " 16%|#6        | 9/55 [00:00<00:00, 88.63it/s]\u001b[A\n",
      " 31%|###       | 17/55 [00:00<00:00, 82.25it/s]\u001b[A\n",
      " 44%|####3     | 24/55 [00:00<00:00, 76.55it/s]\u001b[A\n",
      " 55%|#####4    | 30/55 [00:00<00:00, 67.85it/s]\u001b[A\n",
      " 69%|######9   | 38/55 [00:00<00:00, 70.81it/s]\u001b[A\n",
      " 82%|########1 | 45/55 [00:00<00:00, 69.40it/s]\u001b[A\n",
      " 98%|#########8| 54/55 [00:00<00:00, 73.54it/s]\u001b[A\n",
      "  7%|▋         | 43/628 [00:02<01:03,  9.28it/s][A"
     ]
    },
    {
     "name": "stdout",
     "output_type": "stream",
     "text": [
      "{'ade': 0.53456885, 'fde': 1.1487095}\n",
      "\t last loss:0.000289415, eval on validation:['ade: 0.53456885', 'fde: 1.1487095'], (best ade:0.5328797 at step 39300) \n"
     ]
    },
    {
     "name": "stderr",
     "output_type": "stream",
     "text": [
      " 54%|█████▎    | 337/628 [00:14<00:11, 25.44it/s]\n",
      "  0%|          | 0/55 [00:00<?, ?it/s]\u001b[A"
     ]
    },
    {
     "name": "stdout",
     "output_type": "stream",
     "text": [
      "\tsaving model 60000...\n",
      "\tdone\n",
      "Evaluating\n"
     ]
    },
    {
     "name": "stderr",
     "output_type": "stream",
     "text": [
      "\n",
      " 16%|#6        | 9/55 [00:00<00:00, 84.54it/s]\u001b[A\n",
      " 33%|###2      | 18/55 [00:00<00:00, 84.17it/s]\u001b[A\n",
      " 49%|####9     | 27/55 [00:00<00:00, 83.44it/s]\u001b[A\n",
      " 65%|######5   | 36/55 [00:00<00:00, 83.58it/s]\u001b[A\n",
      " 82%|########1 | 45/55 [00:00<00:00, 84.02it/s]\u001b[A\n",
      " 98%|#########8| 54/55 [00:00<00:00, 84.94it/s]\u001b[A\n",
      " 55%|█████▍    | 343/628 [00:15<00:28,  9.99it/s]A"
     ]
    },
    {
     "name": "stdout",
     "output_type": "stream",
     "text": [
      "{'ade': 0.53515595, 'fde': 1.1505188}\n",
      "\t last loss:0.000549559, eval on validation:['ade: 0.53515595', 'fde: 1.1505188'], (best ade:0.5328797 at step 39300) \n"
     ]
    },
    {
     "name": "stderr",
     "output_type": "stream",
     "text": [
      "100%|██████████| 628/628 [00:27<00:00, 22.73it/s]\n",
      "  0%|          | 2/628 [00:00<00:37, 16.69it/s]"
     ]
    },
    {
     "name": "stdout",
     "output_type": "stream",
     "text": [
      "('Epoca 97.', 'lr:', 8.187269e-07)\n"
     ]
    },
    {
     "name": "stderr",
     "output_type": "stream",
     "text": [
      "  2%|▏         | 11/628 [00:00<00:29, 21.11it/s]"
     ]
    },
    {
     "name": "stdout",
     "output_type": "stream",
     "text": [
      "\tsaving model 60300...\n"
     ]
    },
    {
     "name": "stderr",
     "output_type": "stream",
     "text": [
      "\n",
      "  0%|          | 0/55 [00:00<?, ?it/s]\u001b[A\n",
      " 16%|#6        | 9/55 [00:00<00:00, 86.53it/s]\u001b[A\n",
      " 29%|##9       | 16/55 [00:00<00:00, 78.23it/s]\u001b[A\n",
      " 45%|####5     | 25/55 [00:00<00:00, 80.20it/s]\u001b[A\n",
      " 62%|######1   | 34/55 [00:00<00:00, 82.19it/s]\u001b[A\n",
      " 76%|#######6  | 42/55 [00:00<00:00, 80.47it/s]\u001b[A\n",
      " 93%|#########2| 51/55 [00:00<00:00, 82.53it/s]\u001b[A\n",
      "  2%|▏         | 13/628 [00:01<01:51,  5.52it/s][A"
     ]
    },
    {
     "name": "stdout",
     "output_type": "stream",
     "text": [
      "\tdone\n",
      "Evaluating\n",
      "{'ade': 0.5343509, 'fde': 1.1480572}\n",
      "\t last loss:0.000279123, eval on validation:['ade: 0.5343509', 'fde: 1.1480572'], (best ade:0.5328797 at step 39300) \n"
     ]
    },
    {
     "name": "stderr",
     "output_type": "stream",
     "text": [
      " 49%|████▉     | 310/628 [00:13<00:12, 24.86it/s]\n",
      "  0%|          | 0/55 [00:00<?, ?it/s]\u001b[A"
     ]
    },
    {
     "name": "stdout",
     "output_type": "stream",
     "text": [
      "\tsaving model 60600...\n",
      "\tdone\n",
      "Evaluating\n"
     ]
    },
    {
     "name": "stderr",
     "output_type": "stream",
     "text": [
      "\n",
      " 16%|#6        | 9/55 [00:00<00:00, 89.12it/s]\u001b[A\n",
      " 27%|##7       | 15/55 [00:00<00:00, 76.95it/s]\u001b[A\n",
      " 40%|####      | 22/55 [00:00<00:00, 69.63it/s]\u001b[A\n",
      " 55%|#####4    | 30/55 [00:00<00:00, 71.34it/s]\u001b[A\n",
      " 67%|######7   | 37/55 [00:00<00:00, 70.30it/s]\u001b[A\n",
      " 82%|########1 | 45/55 [00:00<00:00, 72.48it/s]\u001b[A\n",
      " 98%|#########8| 54/55 [00:00<00:00, 75.90it/s]\u001b[A\n",
      " 50%|████▉     | 313/628 [00:14<00:43,  7.21it/s]A"
     ]
    },
    {
     "name": "stdout",
     "output_type": "stream",
     "text": [
      "{'ade': 0.5344938, 'fde': 1.1484704}\n",
      "\t last loss:0.000494651, eval on validation:['ade: 0.5344938', 'fde: 1.1484704'], (best ade:0.5328797 at step 39300) \n"
     ]
    },
    {
     "name": "stderr",
     "output_type": "stream",
     "text": [
      " 97%|█████████▋| 610/628 [00:26<00:00, 24.67it/s]\n",
      "  0%|          | 0/55 [00:00<?, ?it/s]\u001b[A"
     ]
    },
    {
     "name": "stdout",
     "output_type": "stream",
     "text": [
      "\tsaving model 60900...\n",
      "\tdone\n",
      "Evaluating\n"
     ]
    },
    {
     "name": "stderr",
     "output_type": "stream",
     "text": [
      "\n",
      " 16%|#6        | 9/55 [00:00<00:00, 88.64it/s]\u001b[A\n",
      " 33%|###2      | 18/55 [00:00<00:00, 87.89it/s]\u001b[A\n",
      " 49%|####9     | 27/55 [00:00<00:00, 87.28it/s]\u001b[A\n",
      " 65%|######5   | 36/55 [00:00<00:00, 87.23it/s]\u001b[A\n",
      " 80%|########  | 44/55 [00:00<00:00, 84.80it/s]\u001b[A\n",
      " 96%|#########6| 53/55 [00:00<00:00, 85.18it/s]\u001b[A\n",
      " 98%|█████████▊| 613/628 [00:27<00:01,  7.87it/s]A"
     ]
    },
    {
     "name": "stdout",
     "output_type": "stream",
     "text": [
      "{'ade': 0.534284, 'fde': 1.1479492}\n",
      "\t last loss:0.000310689, eval on validation:['ade: 0.534284', 'fde: 1.1479492'], (best ade:0.5328797 at step 39300) \n"
     ]
    },
    {
     "name": "stderr",
     "output_type": "stream",
     "text": [
      "100%|██████████| 628/628 [00:28<00:00, 18.50it/s]\n",
      "  0%|          | 1/628 [00:00<01:17,  8.12it/s]"
     ]
    },
    {
     "name": "stdout",
     "output_type": "stream",
     "text": [
      "('Epoca 98.', 'lr:', 8.187269e-07)\n"
     ]
    },
    {
     "name": "stderr",
     "output_type": "stream",
     "text": [
      " 45%|████▌     | 283/628 [00:11<00:13, 25.08it/s]\n",
      "  0%|          | 0/55 [00:00<?, ?it/s]\u001b[A"
     ]
    },
    {
     "name": "stdout",
     "output_type": "stream",
     "text": [
      "\tsaving model 61200...\n",
      "\tdone\n",
      "Evaluating\n"
     ]
    },
    {
     "name": "stderr",
     "output_type": "stream",
     "text": [
      "\n",
      " 16%|#6        | 9/55 [00:00<00:00, 89.66it/s]\u001b[A\n",
      " 29%|##9       | 16/55 [00:00<00:00, 79.40it/s]\u001b[A\n",
      " 42%|####1     | 23/55 [00:00<00:00, 72.63it/s]\u001b[A\n",
      " 55%|#####4    | 30/55 [00:00<00:00, 69.88it/s]\u001b[A\n",
      " 69%|######9   | 38/55 [00:00<00:00, 70.25it/s]\u001b[A\n",
      " 85%|########5 | 47/55 [00:00<00:00, 74.69it/s]\u001b[A\n",
      " 46%|████▌     | 286/628 [00:12<00:46,  7.39it/s]A"
     ]
    },
    {
     "name": "stdout",
     "output_type": "stream",
     "text": [
      "{'ade': 0.5343118, 'fde': 1.1479262}\n",
      "\t last loss:0.000518657, eval on validation:['ade: 0.5343118', 'fde: 1.1479262'], (best ade:0.5328797 at step 39300) \n"
     ]
    },
    {
     "name": "stderr",
     "output_type": "stream",
     "text": [
      " 93%|█████████▎| 583/628 [00:24<00:01, 24.93it/s]\n",
      "  0%|          | 0/55 [00:00<?, ?it/s]\u001b[A"
     ]
    },
    {
     "name": "stdout",
     "output_type": "stream",
     "text": [
      "\tsaving model 61500...\n",
      "\tdone\n",
      "Evaluating\n"
     ]
    },
    {
     "name": "stderr",
     "output_type": "stream",
     "text": [
      "\n",
      " 16%|#6        | 9/55 [00:00<00:00, 82.43it/s]\u001b[A\n",
      " 33%|###2      | 18/55 [00:00<00:00, 83.45it/s]\u001b[A\n",
      " 44%|####3     | 24/55 [00:00<00:00, 72.58it/s]\u001b[A\n",
      " 56%|#####6    | 31/55 [00:00<00:00, 70.46it/s]\u001b[A\n",
      " 67%|######7   | 37/55 [00:00<00:00, 66.80it/s]\u001b[A\n",
      " 84%|########3 | 46/55 [00:00<00:00, 70.40it/s]\u001b[A\n",
      " 98%|#########8| 54/55 [00:00<00:00, 71.17it/s]\u001b[A\n",
      " 93%|█████████▎| 586/628 [00:25<00:05,  7.32it/s]A"
     ]
    },
    {
     "name": "stdout",
     "output_type": "stream",
     "text": [
      "{'ade': 0.5344532, 'fde': 1.148389}\n",
      "\t last loss:0.000350440, eval on validation:['ade: 0.5344532', 'fde: 1.148389'], (best ade:0.5328797 at step 39300) \n"
     ]
    },
    {
     "name": "stderr",
     "output_type": "stream",
     "text": [
      "100%|██████████| 628/628 [00:27<00:00, 24.59it/s]\n",
      "  0%|          | 1/628 [00:00<01:12,  8.66it/s]"
     ]
    },
    {
     "name": "stdout",
     "output_type": "stream",
     "text": [
      "('Epoca 99.', 'lr:', 6.9591783e-07)\n"
     ]
    },
    {
     "name": "stderr",
     "output_type": "stream",
     "text": [
      " 40%|████      | 254/628 [00:10<00:15, 24.71it/s]"
     ]
    },
    {
     "name": "stdout",
     "output_type": "stream",
     "text": [
      "\tsaving model 61800...\n"
     ]
    },
    {
     "name": "stderr",
     "output_type": "stream",
     "text": [
      "\n",
      "  0%|          | 0/55 [00:00<?, ?it/s]\u001b[A\n",
      " 16%|#6        | 9/55 [00:00<00:00, 87.78it/s]\u001b[A\n",
      " 33%|###2      | 18/55 [00:00<00:00, 87.36it/s]\u001b[A\n",
      " 49%|####9     | 27/55 [00:00<00:00, 86.79it/s]\u001b[A\n",
      " 65%|######5   | 36/55 [00:00<00:00, 86.80it/s]\u001b[A\n",
      " 82%|########1 | 45/55 [00:00<00:00, 86.81it/s]\u001b[A\n",
      " 98%|#########8| 54/55 [00:00<00:00, 86.89it/s]\u001b[A\n",
      " 41%|████      | 257/628 [00:11<00:47,  7.89it/s]A"
     ]
    },
    {
     "name": "stdout",
     "output_type": "stream",
     "text": [
      "\tdone\n",
      "Evaluating\n",
      "{'ade': 0.5342836, 'fde': 1.1478744}\n",
      "\t last loss:0.000432278, eval on validation:['ade: 0.5342836', 'fde: 1.1478744'], (best ade:0.5328797 at step 39300) \n"
     ]
    },
    {
     "name": "stderr",
     "output_type": "stream",
     "text": [
      " 88%|████████▊ | 554/628 [00:23<00:04, 15.10it/s]"
     ]
    },
    {
     "name": "stdout",
     "output_type": "stream",
     "text": [
      "\tsaving model 62100...\n"
     ]
    },
    {
     "name": "stderr",
     "output_type": "stream",
     "text": [
      "\n",
      "  0%|          | 0/55 [00:00<?, ?it/s]\u001b[A\n",
      "  9%|9         | 5/55 [00:00<00:01, 41.34it/s]\u001b[A"
     ]
    },
    {
     "name": "stdout",
     "output_type": "stream",
     "text": [
      "\tdone\n",
      "Evaluating\n"
     ]
    },
    {
     "name": "stderr",
     "output_type": "stream",
     "text": [
      "\n",
      " 15%|#4        | 8/55 [00:00<00:01, 37.13it/s]\u001b[A\n",
      " 22%|##1       | 12/55 [00:00<00:01, 37.51it/s]\u001b[A\n",
      " 31%|###       | 17/55 [00:00<00:00, 40.52it/s]\u001b[A\n",
      " 44%|####3     | 24/55 [00:00<00:00, 46.21it/s]\u001b[A\n",
      " 56%|#####6    | 31/55 [00:00<00:00, 50.22it/s]\u001b[A\n",
      " 67%|######7   | 37/55 [00:00<00:00, 52.58it/s]\u001b[A\n",
      " 80%|########  | 44/55 [00:00<00:00, 56.68it/s]\u001b[A\n",
      " 93%|#########2| 51/55 [00:00<00:00, 58.81it/s]\u001b[A\n",
      " 89%|████████▉ | 558/628 [00:25<00:14,  4.69it/s]A"
     ]
    },
    {
     "name": "stdout",
     "output_type": "stream",
     "text": [
      "{'ade': 0.53447133, 'fde': 1.1484082}\n",
      "\t last loss:0.000326831, eval on validation:['ade: 0.53447133', 'fde: 1.1484082'], (best ade:0.5328797 at step 39300) \n"
     ]
    },
    {
     "name": "stderr",
     "output_type": "stream",
     "text": [
      "100%|██████████| 628/628 [00:29<00:00, 20.64it/s]\n",
      "  0%|          | 1/628 [00:00<01:19,  7.86it/s]"
     ]
    },
    {
     "name": "stdout",
     "output_type": "stream",
     "text": [
      "('Epoca 100.', 'lr:', 6.9591783e-07)\n"
     ]
    },
    {
     "name": "stderr",
     "output_type": "stream",
     "text": [
      " 36%|███▌      | 226/628 [00:11<00:19, 21.11it/s]"
     ]
    },
    {
     "name": "stdout",
     "output_type": "stream",
     "text": [
      "\tsaving model 62400...\n"
     ]
    },
    {
     "name": "stderr",
     "output_type": "stream",
     "text": [
      "\n",
      "  0%|          | 0/55 [00:00<?, ?it/s]\u001b[A\n",
      " 13%|#2        | 7/55 [00:00<00:00, 63.25it/s]\u001b[A"
     ]
    },
    {
     "name": "stdout",
     "output_type": "stream",
     "text": [
      "\tdone\n",
      "Evaluating\n"
     ]
    },
    {
     "name": "stderr",
     "output_type": "stream",
     "text": [
      "\n",
      " 22%|##1       | 12/55 [00:00<00:00, 55.74it/s]\u001b[A\n",
      " 31%|###       | 17/55 [00:00<00:00, 53.50it/s]\u001b[A\n",
      " 40%|####      | 22/55 [00:00<00:00, 50.45it/s]\u001b[A\n",
      " 53%|#####2    | 29/55 [00:00<00:00, 54.39it/s]\u001b[A\n",
      " 65%|######5   | 36/55 [00:00<00:00, 56.50it/s]\u001b[A\n",
      " 78%|#######8  | 43/55 [00:00<00:00, 59.54it/s]\u001b[A\n",
      " 89%|########9 | 49/55 [00:00<00:00, 58.87it/s]\u001b[A\n",
      " 36%|███▋      | 229/628 [00:12<01:08,  5.87it/s]A"
     ]
    },
    {
     "name": "stdout",
     "output_type": "stream",
     "text": [
      "{'ade': 0.5345289, 'fde': 1.1485428}\n",
      "\t last loss:0.000348462, eval on validation:['ade: 0.5345289', 'fde: 1.1485428'], (best ade:0.5328797 at step 39300) \n"
     ]
    },
    {
     "name": "stderr",
     "output_type": "stream",
     "text": [
      " 84%|████████▍ | 526/628 [00:24<00:03, 27.08it/s]\n",
      "  0%|          | 0/55 [00:00<?, ?it/s]\u001b[A"
     ]
    },
    {
     "name": "stdout",
     "output_type": "stream",
     "text": [
      "\tsaving model 62700...\n",
      "\tdone\n",
      "Evaluating\n"
     ]
    },
    {
     "name": "stderr",
     "output_type": "stream",
     "text": [
      "\n",
      " 18%|#8        | 10/55 [00:00<00:00, 97.97it/s]\u001b[A\n",
      " 33%|###2      | 18/55 [00:00<00:00, 91.05it/s]\u001b[A\n",
      " 45%|####5     | 25/55 [00:00<00:00, 80.94it/s]\u001b[A\n",
      " 58%|#####8    | 32/55 [00:00<00:00, 75.20it/s]\u001b[A\n",
      " 76%|#######6  | 42/55 [00:00<00:00, 79.64it/s]\u001b[A\n",
      " 93%|#########2| 51/55 [00:00<00:00, 80.52it/s]\u001b[A\n",
      " 85%|████████▍ | 532/628 [00:25<00:09, 10.04it/s]A"
     ]
    },
    {
     "name": "stdout",
     "output_type": "stream",
     "text": [
      "{'ade': 0.53469616, 'fde': 1.1491555}\n",
      "\t last loss:0.000459534, eval on validation:['ade: 0.53469616', 'fde: 1.1491555'], (best ade:0.5328797 at step 39300) \n"
     ]
    },
    {
     "name": "stderr",
     "output_type": "stream",
     "text": [
      "100%|██████████| 628/628 [00:28<00:00, 26.57it/s]\n"
     ]
    },
    {
     "name": "stdout",
     "output_type": "stream",
     "text": [
      "best eval on val ade: 0.5328797 at 39300 step y fde es 1.1433735 \n"
     ]
    }
   ],
   "source": [
    "import os \n",
    "from tqdm import tqdm\n",
    "import tensorflow as tf\n",
    "import math\n",
    "\n",
    "tf.reset_default_graph()\n",
    "\n",
    "arguments = parameters1(add_kp = False, add_social = True,train_num_examples=len(data1['obs_traj']))\n",
    "model = model.Model(arguments)\n",
    "\n",
    "train_data = batches_data.Dataset(data1,arguments)\n",
    "val_data = batches_data.Dataset(data3,arguments)\n",
    "\n",
    "saver = tf.train.Saver(max_to_keep = 2)\n",
    "bestsaver = tf.train.Saver(max_to_keep = 2)\n",
    "\n",
    "\n",
    "trainer = entrenamientoevaluacion.Trainer(model,arguments)\n",
    "tester = entrenamientoevaluacion.Tester(model, arguments)\n",
    "\n",
    "#inicializamos las variables globales\n",
    "init = tf.global_variables_initializer()\n",
    "sess = tf.Session()\n",
    "sess.run(init)\n",
    "\n",
    "increment_global_step_op = tf.assign(model.global_step, model.global_step+1)\n",
    "\n",
    "val_perf = []\n",
    "loss = -1\n",
    "metric = 'ade'\n",
    "\n",
    "best = {metric:999999, 'fde':0, 'step':-1}\n",
    "is_start = True\n",
    "\n",
    "num_steps = int(math.ceil(train_data.num_examples/float(arguments.batch_size)))\n",
    "loss_list = []\n",
    "print(num_steps)\n",
    "\n",
    "for i in range(arguments.num_epochs):\n",
    "    print('Epoca {0}.' .format(i+1), 'lr:', sess.run(trainer.get_lr()))\n",
    "    \n",
    "    #For de batches\n",
    "    for idx, batch in tqdm(train_data.get_batches(arguments.batch_size,num_steps = num_steps),total=num_steps):\n",
    "        \n",
    "        sess.run(increment_global_step_op)\n",
    "        global_step = sess.run(model.global_step)\n",
    "\n",
    "        #Evaluamos el entrenamiento\n",
    "        if((global_step%arguments.validate==0) or (arguments.load_best and is_start)):\n",
    "            tqdm.write(\"\\tsaving model %s...\" % global_step)\n",
    "            checkpoint_path_model = os.path.join('SINKP_NON_UCYZARA02_12', 'model.ckpt')\n",
    "            saver.save(sess,checkpoint_path_model , global_step = global_step)\n",
    "            tqdm.write(\"\\tdone\")\n",
    "            \n",
    "            print('Evaluating')\n",
    "            results = evaluate(val_data, tester,sess,arguments)\n",
    "            print(results)\n",
    "           \n",
    "            tqdm.write((\"\\t last loss:%.9f, eval on validation:%s,\"\n",
    "                    \" (best %s:%s at step %s) \") % (loss,[\"%s: %s\" % (k, results[k]) for k in sorted(results.keys())], metric,best[metric], best[\"step\"]))\n",
    "            if results[\"ade\"]< best[metric]:\n",
    "                best[metric] = results[\"ade\"]\n",
    "                best[\"fde\"] =results[\"fde\"]\n",
    "                best[\"step\"] = global_step\n",
    "                \n",
    "                tqdm.write(\"\\t saving best model...\")\n",
    "                checkpoint_path_model_best = os.path.join('SINKP_NON_UCYZARA02-BEST_12', 'model_best.ckpt')\n",
    "                bestsaver.save(sess,checkpoint_path_model_best,global_step = global_step)\n",
    "                tqdm.write(\"\\t done.\")\n",
    "                finalperf = results\n",
    "                val_perf.append((loss, results))\n",
    "            is_start = False\n",
    "        loss, train_op = trainer.step(sess, batch)\n",
    "        loss_list.append(loss)\n",
    "    \n",
    "if((global_step % arguments.validate)!=0):\n",
    "  checkpoint_path_model = os.path.join('SINKP_NON_UCYZARA02_12', 'model.ckpt')\n",
    "  saver.save(sess,checkpoint_path_model , global_step = global_step)\n",
    "\n",
    "print(\"best eval on val %s: %s at %s step y fde es %s \" % (metric, best[metric], best[\"step\"],best[\"fde\"]))\n"
   ]
  },
  {
   "cell_type": "code",
   "execution_count": 8,
   "metadata": {},
   "outputs": [
    {
     "data": {
      "image/png": "[encoded data removed]",
      "text/plain": [
       "<Figure size 432x288 with 1 Axes>"
      ]
     },
     "metadata": {
      "needs_background": "light"
     },
     "output_type": "display_data"
    }
   ],
   "source": [
    "from matplotlib import pyplot as plt\n",
    "plt.plot(loss_list)\n",
    "plt.show()"
   ]
  },
  {
   "cell_type": "code",
   "execution_count": 9,
   "metadata": {},
   "outputs": [
    {
     "data": {
      "text/plain": [
       "'SINKP_NON_UCYZARA02_12_F/model.ckpt-62800'"
      ]
     },
     "execution_count": 9,
     "metadata": {},
     "output_type": "execute_result"
    }
   ],
   "source": [
    "# Guardamos el ultimo modelo\n",
    "checkpoint_path_model = os.path.join('SINKP_NON_UCYZARA02_12_F', 'model.ckpt')\n",
    "saver.save(sess,checkpoint_path_model , global_step = global_step)"
   ]
  },
  {
   "cell_type": "markdown",
   "metadata": {},
   "source": [
    "# Restauramos los modelos"
   ]
  },
  {
   "cell_type": "code",
   "execution_count": 10,
   "metadata": {},
   "outputs": [
    {
     "name": "stderr",
     "output_type": "stream",
     "text": [
      "W0105 14:11:17.236983 139891789588224 deprecation.py:323] From /home/andrea/anaconda2/lib/python2.7/site-packages/tensorflow/python/training/saver.py:1276: checkpoint_exists (from tensorflow.python.training.checkpoint_management) is deprecated and will be removed in a future version.\n",
      "Instructions for updating:\n",
      "Use standard file APIs to check for files with this prefix.\n",
      "  3%|2         | 8/296 [00:00<00:03, 73.63it/s]"
     ]
    },
    {
     "name": "stdout",
     "output_type": "stream",
     "text": [
      "Evaluating\n"
     ]
    },
    {
     "name": "stderr",
     "output_type": "stream",
     "text": [
      "100%|##########| 296/296 [00:03<00:00, 75.44it/s]\n"
     ]
    },
    {
     "name": "stdout",
     "output_type": "stream",
     "text": [
      "{'ade': 0.3308234, 'fde': 0.72537434}\n"
     ]
    }
   ],
   "source": [
    "#Ultimo Modelo\n",
    "path_model = 'SINKP_NON_UCYZARA02_12_F/model.ckpt-62800'\n",
    "saver.restore(sess=sess, save_path=path_model)\n",
    "\n",
    "\n",
    "test_data = batches_data.Dataset(data_prueba, arguments)\n",
    "print('Evaluating')\n",
    "results = evaluate(test_data, tester,sess,arguments)\n",
    "print(results)"
   ]
  },
  {
   "cell_type": "code",
   "execution_count": 11,
   "metadata": {},
   "outputs": [
    {
     "name": "stderr",
     "output_type": "stream",
     "text": [
      "  2%|1         | 5/296 [00:00<00:05, 48.72it/s]"
     ]
    },
    {
     "name": "stdout",
     "output_type": "stream",
     "text": [
      "Evaluating\n"
     ]
    },
    {
     "name": "stderr",
     "output_type": "stream",
     "text": [
      "100%|##########| 296/296 [00:03<00:00, 87.87it/s]\n"
     ]
    },
    {
     "name": "stdout",
     "output_type": "stream",
     "text": [
      "{'ade': 0.3308234, 'fde': 0.72537434}\n"
     ]
    }
   ],
   "source": [
    "#Modelo12\n",
    "path_model = 'SINKP_NON_UCYZARA02_12/model.ckpt-62800'\n",
    "saver.restore(sess=sess, save_path=path_model)\n",
    "\n",
    "\n",
    "test_data = batches_data.Dataset(data_prueba, arguments)\n",
    "print('Evaluating')\n",
    "results = evaluate(test_data, tester,sess,arguments)\n",
    "print(results)"
   ]
  },
  {
   "cell_type": "code",
   "execution_count": 12,
   "metadata": {},
   "outputs": [
    {
     "name": "stderr",
     "output_type": "stream",
     "text": [
      "  1%|1         | 4/296 [00:00<00:07, 39.94it/s]"
     ]
    },
    {
     "name": "stdout",
     "output_type": "stream",
     "text": [
      "Evaluating\n"
     ]
    },
    {
     "name": "stderr",
     "output_type": "stream",
     "text": [
      "100%|##########| 296/296 [00:04<00:00, 69.99it/s]\n"
     ]
    },
    {
     "name": "stdout",
     "output_type": "stream",
     "text": [
      "{'ade': 0.33092174, 'fde': 0.7262849}\n"
     ]
    }
   ],
   "source": [
    "# Mejor Modelo\n",
    "path_model = 'SINKP_NON_UCYZARA02-BEST_12/model_best.ckpt-39300'\n",
    "saver.restore(sess=sess, save_path=path_model)\n",
    "\n",
    "test_data = batches_data.Dataset(data_prueba, arguments)\n",
    "print('Evaluating')\n",
    "results = evaluate(test_data, tester,sess,arguments)\n",
    "print(results)"
   ]
  },
  {
   "cell_type": "code",
   "execution_count": null,
   "metadata": {},
   "outputs": [],
   "source": []
  }
 ],
 "metadata": {
  "kernelspec": {
   "display_name": "Python 2",
   "language": "python",
   "name": "python2"
  },
  "language_info": {
   "codemirror_mode": {
    "name": "ipython",
    "version": 2
   },
   "file_extension": ".py",
   "mimetype": "text/x-python",
   "name": "python",
   "nbconvert_exporter": "python",
   "pygments_lexer": "ipython2",
   "version": "2.7.16"
  }
 },
 "nbformat": 4,
 "nbformat_minor": 2
}
