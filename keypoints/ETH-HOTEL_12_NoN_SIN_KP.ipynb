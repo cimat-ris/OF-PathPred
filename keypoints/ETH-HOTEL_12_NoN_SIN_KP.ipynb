{
 "cells": [
  {
   "cell_type": "code",
   "execution_count": 1,
   "metadata": {},
   "outputs": [],
   "source": [
    "import sys\n",
    "sys.path.append('/home/andrea/Dropbox/CIMAT/TESIS/lstmsss/keypoints/partes')\n",
    "import numpy as np\n",
    "from process_file import process_file_modif\n",
    "from process_file import process_file_modif_varios\n",
    "import batches_data\n",
    "import model\n",
    "\n",
    "import tensorflow as tf \n",
    "tf.reset_default_graph()\n",
    "\n",
    "import entrenamientoevaluacion\n",
    "from entrenamientoevaluacion import evaluate\n",
    "from interaccion_no_normalizada import batch_vecinos\n"
   ]
  },
  {
   "cell_type": "code",
   "execution_count": 2,
   "metadata": {},
   "outputs": [],
   "source": [
    "#en marco mundo\n",
    "\n",
    "hotel_pix_path = '../data1/eth/hotel/mundo/mun_pos.csv'\n",
    "class parameters:\n",
    "    def __init__(self):\n",
    "        self.person_max = 28 # 8\n",
    "        self.obs_len = 8\n",
    "        self.pred_len = 12\n",
    "        self.add_social = True\n",
    "        self.kp_num = 18\n",
    "        self.add_kp = False\n",
    "     "
   ]
  },
  {
   "cell_type": "code",
   "execution_count": 3,
   "metadata": {},
   "outputs": [
    {
     "name": "stdout",
     "output_type": "stream",
     "text": [
      "El numero total de ejemplos\n",
      "913\n"
     ]
    }
   ],
   "source": [
    "# Cargamos los argumentos\n",
    "arguments = parameters()\n",
    "\n",
    "# Procesamos los datos de eth_hotel\n",
    "data_hotel = process_file_modif(hotel_pix_path, arguments, ',')"
   ]
  },
  {
   "cell_type": "markdown",
   "metadata": {},
   "source": [
    "# Calculamos el flujo optico"
   ]
  },
  {
   "cell_type": "code",
   "execution_count": null,
   "metadata": {},
   "outputs": [],
   "source": [
    "#vector = batch_vecinos(data_hotel['obs_person'],data_hotel['key_idx'],data_hotel['obs_traj'],arguments)\n",
    "#np.save('flujo_bien_non_eth_hotel_total_mundo_12.npy',vector )"
   ]
  },
  {
   "cell_type": "markdown",
   "metadata": {},
   "source": [
    "# Cargamos le flujo"
   ]
  },
  {
   "cell_type": "code",
   "execution_count": 4,
   "metadata": {},
   "outputs": [
    {
     "data": {
      "text/plain": [
       "(913, 8, 64)"
      ]
     },
     "execution_count": 4,
     "metadata": {},
     "output_type": "execute_result"
    }
   ],
   "source": [
    "vector_flujo = 'flujo_bien_non_eth_hotel_total_mundo_12.npy'\n",
    "flujo = np.load(vector_flujo)\n",
    "flujo.shape"
   ]
  },
  {
   "cell_type": "markdown",
   "metadata": {},
   "source": [
    "# Agregamos el flujo al diccionario"
   ]
  },
  {
   "cell_type": "code",
   "execution_count": 5,
   "metadata": {},
   "outputs": [],
   "source": [
    "data_hotel.update({\n",
    "    \"obs_flujo\": flujo,\n",
    "        })"
   ]
  },
  {
   "cell_type": "markdown",
   "metadata": {},
   "source": [
    "# Dividimos los datos"
   ]
  },
  {
   "cell_type": "code",
   "execution_count": 6,
   "metadata": {},
   "outputs": [
    {
     "name": "stdout",
     "output_type": "stream",
     "text": [
      "data_train: 639\n",
      "data_test: 182\n",
      "data_val: 92\n"
     ]
    },
    {
     "name": "stderr",
     "output_type": "stream",
     "text": [
      "/home/andrea/anaconda2/lib/python2.7/site-packages/ipykernel_launcher.py:26: FutureWarning: Using a non-tuple sequence for multidimensional indexing is deprecated; use `arr[tuple(seq)]` instead of `arr[seq]`. In the future this will be interpreted as an array index, `arr[np.array(seq)]`, which will result either in an error or a different result.\n",
      "/home/andrea/anaconda2/lib/python2.7/site-packages/ipykernel_launcher.py:40: FutureWarning: Using a non-tuple sequence for multidimensional indexing is deprecated; use `arr[tuple(seq)]` instead of `arr[seq]`. In the future this will be interpreted as an array index, `arr[np.array(seq)]`, which will result either in an error or a different result.\n",
      "/home/andrea/anaconda2/lib/python2.7/site-packages/ipykernel_launcher.py:52: FutureWarning: Using a non-tuple sequence for multidimensional indexing is deprecated; use `arr[tuple(seq)]` instead of `arr[seq]`. In the future this will be interpreted as an array index, `arr[np.array(seq)]`, which will result either in an error or a different result.\n"
     ]
    }
   ],
   "source": [
    "#se fija la semilaa\n",
    "import random\n",
    "random.seed(0)\n",
    "\n",
    "# Muestreamos aleatoriamente para separar datos de entrenamiento, validacion y prueba\n",
    "prob = 0.7 \n",
    "# La cantidad total de listas de tam 8 \n",
    "ndata = len(data_hotel[list(data_hotel.keys())[2]])\n",
    "idx = random.sample(range(ndata), ndata)\n",
    "long1 = int(ndata*prob)\n",
    "long2 = int(ndata*0.2)\n",
    "long3 = int(ndata-long1-long2)\n",
    "\n",
    "idx_train = idx[0:long1]\n",
    "idx_test = idx[long1:long1+long2]\n",
    "idx_val = idx[long1+long2:]\n",
    "\n",
    "# conjunto de entrenamiento\n",
    "data1 = {\n",
    "     \"obs_traj\": data_hotel[\"obs_traj\"][idx_train],\n",
    "     \"obs_traj_rel\": data_hotel[\"obs_traj_rel\"][idx_train],\n",
    "    \n",
    "     \"pred_traj\": data_hotel[\"pred_traj\"][idx_train],\n",
    "     \"pred_traj_rel\": data_hotel[\"pred_traj_rel\"][idx_train],\n",
    "    \n",
    "     \"key_idx\": data_hotel[\"key_idx\"][[idx_train]],\n",
    "    \n",
    "     \n",
    "     \"obs_flujo\" : data_hotel[\"obs_flujo\"][idx_train],\n",
    "     #\"pred_kp\": data_pets[\"pred_kp\"][idx_train],\n",
    "     #\"obs_person\": data_pets[\"obs_person\"][idx_train],\n",
    "}\n",
    "\n",
    "# Conjunto de prueba\n",
    "data2 = {\n",
    "     \"obs_traj\": data_hotel[\"obs_traj\"][idx_test],\n",
    "     \"obs_traj_rel\": data_hotel[\"obs_traj_rel\"][idx_test],\n",
    "     \"pred_traj\": data_hotel[\"pred_traj\"][idx_test],\n",
    "     \"pred_traj_rel\": data_hotel[\"pred_traj_rel\"][idx_test],\n",
    "     \"key_idx\": data_hotel[\"key_idx\"][[idx_test]],\n",
    "     \"obs_flujo\" : data_hotel[\"obs_flujo\"][idx_test],\n",
    "     #\"pred_kp\": data_pets[\"pred_kp\"][idx_test],\n",
    "     #\"obs_person\": data_pets[\"obs_person\"][idx_test]\n",
    "}\n",
    "\n",
    "# conjunto de validacion\n",
    "data3 ={\n",
    "     \"obs_traj\": data_hotel[\"obs_traj\"][idx_val],\n",
    "     \"obs_traj_rel\": data_hotel[\"obs_traj_rel\"][idx_val],\n",
    "     \"pred_traj\": data_hotel[\"pred_traj\"][idx_val],\n",
    "     \"pred_traj_rel\": data_hotel[\"pred_traj_rel\"][idx_val],\n",
    "     \"key_idx\": data_hotel[\"key_idx\"][[idx_val]],\n",
    "     \"obs_flujo\" : data_hotel[\"obs_flujo\"][idx_val],\n",
    "     #\"pred_kp\": data_pets[\"pred_kp\"][idx_val],\n",
    "     #\"obs_person\": data_pets[\"obs_person\"][idx_val],\n",
    "}\n",
    "\n",
    "\n",
    "#if arguments.add_kp:\n",
    "#  print(data3['obs_person_rel'])\n",
    "\n",
    "print(\"data_train: \"+ str(len(data1[list(data1.keys())[0]])))\n",
    "print(\"data_test: \"+ str(len(data2[list(data2.keys())[0]])))\n",
    "print(\"data_val: \"+ str(len(data3[list(data3.keys())[0]])))\n",
    "#print(\"data4: \"+ str(len(data4[list(data4.keys())[0]])))\n"
   ]
  },
  {
   "cell_type": "markdown",
   "metadata": {},
   "source": [
    "# Guardamos los datos"
   ]
  },
  {
   "cell_type": "code",
   "execution_count": 7,
   "metadata": {},
   "outputs": [],
   "source": [
    "import pickle\n",
    "\n",
    "#conjunto de entrenamiento\n",
    "pickle_out = open(\"data1_non_hotel_12.pickle\",\"wb\")\n",
    "pickle.dump(data1, pickle_out, protocol=2)\n",
    "pickle_out.close()\n",
    "\n",
    "#conjunto de prueba\n",
    "pickle_out = open(\"data2_non_hotel_12.pickle\",\"wb\")\n",
    "pickle.dump(data2, pickle_out, protocol=2)\n",
    "pickle_out.close()\n",
    "\n",
    "#conjunto de validacion\n",
    "pickle_out = open(\"data3_non_hotel_12.pickle\",\"wb\")\n",
    "pickle.dump(data3, pickle_out, protocol=2)\n",
    "pickle_out.close()"
   ]
  },
  {
   "cell_type": "markdown",
   "metadata": {},
   "source": [
    "# Parametros del modelo"
   ]
  },
  {
   "cell_type": "code",
   "execution_count": 9,
   "metadata": {},
   "outputs": [],
   "source": [
    "class parameters1:\n",
    "    def __init__(self, add_kp = None, add_social = None, train_num_examples = None):\n",
    "        # -----------------\n",
    "        # Similar a como se procesaron los datos \n",
    "        self.obs_len = 8\n",
    "        self.pred_len = 12\n",
    "        if add_kp is None:\n",
    "            print('Parameter add kpp missing')\n",
    "            return\n",
    "        if train_num_examples is None:\n",
    "            print('El parametro train_examples fue olvidado')\n",
    "            return\n",
    "        if add_social is None:\n",
    "            print('Parameter add social missing')\n",
    "            return\n",
    "        \n",
    "        self.add_kp = add_kp\n",
    "        self.train_num_examples = train_num_examples\n",
    "        self.add_social = add_social\n",
    "        \n",
    "        self.kp_num = 18\n",
    "        self.kp_size = 18\n",
    "        #self.maxNumPed = 8\n",
    "        #self.grid_size = 4\n",
    "        #self.neighborhood_size = 32\n",
    "        #self.dimensions = [768,576]\n",
    "        #self.limites=[-15.88,11.56,-19.09,5.99]\n",
    "        #self.bound=[0.7,0.5]\n",
    "        # ------------------\n",
    "        self.num_epochs = 100\n",
    "        self.batch_size = 20 # batch size\n",
    "        self.validate = 300\n",
    "        self.P = 2 # dimensión\n",
    "        self.enc_hidden_size = 128 # el nombre lo dice\n",
    "        self.dec_hidden_size = 128\n",
    "        self.emb_size = 64\n",
    "        self.keep_prob = 0.7 # dropout\n",
    "        \n",
    "        self.min_ped = 1\n",
    "        self.seq_len = self.obs_len + self.pred_len\n",
    "        self.reverse_xy = False\n",
    "        \n",
    "        self.activation_func = tf.nn.tanh\n",
    "        self.activation_func1 = tf.nn.relu\n",
    "        self.is_train = True\n",
    "        self.is_test = False\n",
    "        self.multi_decoder = False\n",
    "        self.modelname = 'gphuctl'\n",
    "        \n",
    "        self.init_lr = 0.002 # 0.01\n",
    "        self.learning_rate_decay = 0.85\n",
    "        self.num_epoch_per_decay = 2.0\n",
    "        self.optimizer = 'adam'\n",
    "        self.emb_lr = 1.0\n",
    "        #self.clip_gradient_norm = 10.0\n",
    "        #Para cuando entreno y quiero guardar el mejor modelo\n",
    "        self.load_best = True"
   ]
  },
  {
   "cell_type": "markdown",
   "metadata": {},
   "source": [
    "# Entrenamos el modelo"
   ]
  },
  {
   "cell_type": "code",
   "execution_count": 10,
   "metadata": {},
   "outputs": [
    {
     "name": "stderr",
     "output_type": "stream",
     "text": [
      "WARNING: Logging before flag parsing goes to stderr.\n",
      "W1227 09:32:22.416335 139946036565760 deprecation_wrapper.py:119] From /home/andrea/Dropbox/CIMAT/TESIS/lstmsss/keypoints/partes/model.py:13: The name tf.get_variable is deprecated. Please use tf.compat.v1.get_variable instead.\n",
      "\n",
      "W1227 09:32:22.445230 139946036565760 deprecation_wrapper.py:119] From /home/andrea/Dropbox/CIMAT/TESIS/lstmsss/keypoints/partes/model.py:31: The name tf.placeholder is deprecated. Please use tf.compat.v1.placeholder instead.\n",
      "\n",
      "W1227 09:32:22.464133 139946036565760 deprecation.py:323] From /home/andrea/Dropbox/CIMAT/TESIS/lstmsss/keypoints/partes/model.py:70: __init__ (from tensorflow.python.ops.rnn_cell_impl) is deprecated and will be removed in a future version.\n",
      "Instructions for updating:\n",
      "This class is equivalent as tf.keras.layers.LSTMCell, and will be replaced by that in Tensorflow 2.0.\n",
      "W1227 09:32:22.466873 139946036565760 deprecation_wrapper.py:119] From /home/andrea/Dropbox/CIMAT/TESIS/lstmsss/keypoints/partes/model.py:72: The name tf.nn.rnn_cell.DropoutWrapper is deprecated. Please use tf.compat.v1.nn.rnn_cell.DropoutWrapper instead.\n",
      "\n",
      "W1227 09:32:22.480882 139946036565760 deprecation_wrapper.py:119] From /home/andrea/Dropbox/CIMAT/TESIS/lstmsss/keypoints/partes/model.py:103: The name tf.variable_scope is deprecated. Please use tf.compat.v1.variable_scope instead.\n",
      "\n",
      "W1227 09:32:22.485841 139946036565760 deprecation_wrapper.py:119] From /home/andrea/Dropbox/CIMAT/TESIS/lstmsss/keypoints/partes/model.py:476: The name tf.AUTO_REUSE is deprecated. Please use tf.compat.v1.AUTO_REUSE instead.\n",
      "\n",
      "W1227 09:32:22.499058 139946036565760 deprecation_wrapper.py:119] From /home/andrea/Dropbox/CIMAT/TESIS/lstmsss/keypoints/partes/model.py:495: The name tf.truncated_normal is deprecated. Please use tf.random.truncated_normal instead.\n",
      "\n",
      "W1227 09:32:22.539343 139946036565760 deprecation.py:323] From /home/andrea/Dropbox/CIMAT/TESIS/lstmsss/keypoints/partes/model.py:116: dynamic_rnn (from tensorflow.python.ops.rnn) is deprecated and will be removed in a future version.\n",
      "Instructions for updating:\n",
      "Please use `keras.layers.RNN(cell)`, which is equivalent to this API\n",
      "W1227 09:32:22.640070 139946036565760 deprecation.py:506] From /home/andrea/anaconda2/lib/python2.7/site-packages/tensorflow/python/ops/init_ops.py:1251: calling __init__ (from tensorflow.python.ops.init_ops) with dtype is deprecated and will be removed in a future version.\n",
      "Instructions for updating:\n",
      "Call initializer instance with the dtype argument instead of passing it to the constructor\n",
      "W1227 09:32:22.649506 139946036565760 deprecation.py:506] From /home/andrea/anaconda2/lib/python2.7/site-packages/tensorflow/python/ops/rnn_cell_impl.py:961: calling __init__ (from tensorflow.python.ops.init_ops) with dtype is deprecated and will be removed in a future version.\n",
      "Instructions for updating:\n",
      "Call initializer instance with the dtype argument instead of passing it to the constructor\n",
      "W1227 09:32:23.353764 139946036565760 deprecation.py:323] From /home/andrea/anaconda2/lib/python2.7/site-packages/tensorflow/python/ops/rnn.py:244: where (from tensorflow.python.ops.array_ops) is deprecated and will be removed in a future version.\n",
      "Instructions for updating:\n",
      "Use tf.where in 2.0, which has the same broadcast rule as np.where\n",
      "W1227 09:32:23.614633 139946036565760 deprecation_wrapper.py:119] From /home/andrea/Dropbox/CIMAT/TESIS/lstmsss/keypoints/partes/model.py:554: The name tf.nn.rnn_cell.LSTMStateTuple is deprecated. Please use tf.compat.v1.nn.rnn_cell.LSTMStateTuple instead.\n",
      "\n",
      "W1227 09:32:23.651313 139946036565760 deprecation_wrapper.py:119] From /home/andrea/Dropbox/CIMAT/TESIS/lstmsss/keypoints/partes/model.py:272: The name tf.nn.raw_rnn is deprecated. Please use tf.compat.v1.nn.raw_rnn instead.\n",
      "\n",
      "W1227 09:32:24.078017 139946036565760 deprecation_wrapper.py:119] From /home/andrea/Dropbox/CIMAT/TESIS/lstmsss/keypoints/partes/entrenamientoevaluacion.py:18: The name tf.train.exponential_decay is deprecated. Please use tf.compat.v1.train.exponential_decay instead.\n",
      "\n",
      "W1227 09:32:24.091821 139946036565760 deprecation_wrapper.py:119] From /home/andrea/Dropbox/CIMAT/TESIS/lstmsss/keypoints/partes/entrenamientoevaluacion.py:33: The name tf.train.AdamOptimizer is deprecated. Please use tf.compat.v1.train.AdamOptimizer instead.\n",
      "\n",
      "  0%|          | 0/32 [00:00<?, ?it/s]"
     ]
    },
    {
     "name": "stdout",
     "output_type": "stream",
     "text": [
      "32\n",
      "('Epoca 1.', 'lr:', 0.002)\n",
      "\tsaving model 1...\n"
     ]
    },
    {
     "name": "stderr",
     "output_type": "stream",
     "text": [
      "\n",
      "  0%|          | 0/5 [00:00<?, ?it/s]\u001b[A"
     ]
    },
    {
     "name": "stdout",
     "output_type": "stream",
     "text": [
      "\tdone\n",
      "Evaluating\n"
     ]
    },
    {
     "name": "stderr",
     "output_type": "stream",
     "text": [
      "\n",
      " 20%|##        | 1/5 [00:00<00:01,  3.22it/s]\u001b[A\n",
      "100%|##########| 5/5 [00:00<00:00, 12.64it/s]\u001b[A"
     ]
    },
    {
     "name": "stdout",
     "output_type": "stream",
     "text": [
      "{'ade': 1.3938532, 'fde': 2.5442421}\n",
      "\t last loss:-1.000000000, eval on validation:['ade: 1.3938532', 'fde: 2.5442421'], (best ade:999999 at step -1) \n",
      "\t saving best model...\n",
      "\t done.\n"
     ]
    },
    {
     "name": "stderr",
     "output_type": "stream",
     "text": [
      "100%|██████████| 32/32 [00:03<00:00,  9.03it/s]\n",
      "  6%|▋         | 2/32 [00:00<00:02, 14.25it/s]"
     ]
    },
    {
     "name": "stdout",
     "output_type": "stream",
     "text": [
      "('Epoca 2.', 'lr:', 0.002)\n"
     ]
    },
    {
     "name": "stderr",
     "output_type": "stream",
     "text": [
      "100%|██████████| 32/32 [00:01<00:00, 25.54it/s]\n",
      "  6%|▋         | 2/32 [00:00<00:02, 14.88it/s]"
     ]
    },
    {
     "name": "stdout",
     "output_type": "stream",
     "text": [
      "('Epoca 3.', 'lr:', 0.0017000001)\n"
     ]
    },
    {
     "name": "stderr",
     "output_type": "stream",
     "text": [
      "100%|██████████| 32/32 [00:01<00:00, 25.75it/s]\n",
      "  9%|▉         | 3/32 [00:00<00:01, 22.66it/s]"
     ]
    },
    {
     "name": "stdout",
     "output_type": "stream",
     "text": [
      "('Epoca 4.', 'lr:', 0.0017000001)\n"
     ]
    },
    {
     "name": "stderr",
     "output_type": "stream",
     "text": [
      "100%|██████████| 32/32 [00:01<00:00, 25.99it/s]\n",
      "  9%|▉         | 3/32 [00:00<00:01, 23.19it/s]"
     ]
    },
    {
     "name": "stdout",
     "output_type": "stream",
     "text": [
      "('Epoca 5.', 'lr:', 0.0014450002)\n"
     ]
    },
    {
     "name": "stderr",
     "output_type": "stream",
     "text": [
      "100%|██████████| 32/32 [00:01<00:00, 25.59it/s]\n",
      "  9%|▉         | 3/32 [00:00<00:01, 25.32it/s]"
     ]
    },
    {
     "name": "stdout",
     "output_type": "stream",
     "text": [
      "('Epoca 6.', 'lr:', 0.0014450002)\n"
     ]
    },
    {
     "name": "stderr",
     "output_type": "stream",
     "text": [
      "100%|██████████| 32/32 [00:01<00:00, 25.30it/s]\n",
      "  3%|▎         | 1/32 [00:00<00:03,  9.24it/s]"
     ]
    },
    {
     "name": "stdout",
     "output_type": "stream",
     "text": [
      "('Epoca 7.', 'lr:', 0.0012282502)\n"
     ]
    },
    {
     "name": "stderr",
     "output_type": "stream",
     "text": [
      "100%|██████████| 32/32 [00:01<00:00, 24.34it/s]\n",
      "  9%|▉         | 3/32 [00:00<00:01, 24.93it/s]"
     ]
    },
    {
     "name": "stdout",
     "output_type": "stream",
     "text": [
      "('Epoca 8.', 'lr:', 0.0012282502)\n"
     ]
    },
    {
     "name": "stderr",
     "output_type": "stream",
     "text": [
      "100%|██████████| 32/32 [00:01<00:00, 25.28it/s]\n",
      "  3%|▎         | 1/32 [00:00<00:03,  9.86it/s]"
     ]
    },
    {
     "name": "stdout",
     "output_type": "stream",
     "text": [
      "('Epoca 9.', 'lr:', 0.0010440127)\n"
     ]
    },
    {
     "name": "stderr",
     "output_type": "stream",
     "text": [
      "100%|██████████| 32/32 [00:01<00:00, 23.49it/s]\n",
      "  3%|▎         | 1/32 [00:00<00:03,  9.26it/s]"
     ]
    },
    {
     "name": "stdout",
     "output_type": "stream",
     "text": [
      "('Epoca 10.', 'lr:', 0.0010440127)\n"
     ]
    },
    {
     "name": "stderr",
     "output_type": "stream",
     "text": [
      " 31%|███▏      | 10/32 [00:00<00:01, 15.83it/s]\n",
      "  0%|          | 0/5 [00:00<?, ?it/s]\u001b[A"
     ]
    },
    {
     "name": "stdout",
     "output_type": "stream",
     "text": [
      "\tsaving model 300...\n",
      "\tdone\n",
      "Evaluating\n"
     ]
    },
    {
     "name": "stderr",
     "output_type": "stream",
     "text": [
      "\n",
      "100%|##########| 5/5 [00:00<00:00, 64.91it/s]\u001b[A"
     ]
    },
    {
     "name": "stdout",
     "output_type": "stream",
     "text": [
      "{'ade': 0.34669268, 'fde': 0.6716095}\n",
      "\t last loss:0.000689940, eval on validation:['ade: 0.34669268', 'fde: 0.6716095'], (best ade:1.3938532 at step 1) \n",
      "\t saving best model...\n",
      "\t done.\n"
     ]
    },
    {
     "name": "stderr",
     "output_type": "stream",
     "text": [
      "100%|██████████| 32/32 [00:01<00:00, 17.53it/s]\n",
      "  6%|▋         | 2/32 [00:00<00:01, 19.81it/s]"
     ]
    },
    {
     "name": "stdout",
     "output_type": "stream",
     "text": [
      "('Epoca 11.', 'lr:', 0.0008874108)\n"
     ]
    },
    {
     "name": "stderr",
     "output_type": "stream",
     "text": [
      "100%|██████████| 32/32 [00:01<00:00, 24.60it/s]\n",
      "  3%|▎         | 1/32 [00:00<00:03,  9.08it/s]"
     ]
    },
    {
     "name": "stdout",
     "output_type": "stream",
     "text": [
      "('Epoca 12.', 'lr:', 0.0008874108)\n"
     ]
    },
    {
     "name": "stderr",
     "output_type": "stream",
     "text": [
      "100%|██████████| 32/32 [00:01<00:00, 23.41it/s]\n",
      "  9%|▉         | 3/32 [00:00<00:01, 24.77it/s]"
     ]
    },
    {
     "name": "stdout",
     "output_type": "stream",
     "text": [
      "('Epoca 13.', 'lr:', 0.0007542992)\n"
     ]
    },
    {
     "name": "stderr",
     "output_type": "stream",
     "text": [
      "100%|██████████| 32/32 [00:01<00:00, 25.30it/s]\n",
      "  6%|▋         | 2/32 [00:00<00:01, 15.67it/s]"
     ]
    },
    {
     "name": "stdout",
     "output_type": "stream",
     "text": [
      "('Epoca 14.', 'lr:', 0.0007542992)\n"
     ]
    },
    {
     "name": "stderr",
     "output_type": "stream",
     "text": [
      "100%|██████████| 32/32 [00:01<00:00, 23.44it/s]\n",
      "  6%|▋         | 2/32 [00:00<00:02, 13.69it/s]"
     ]
    },
    {
     "name": "stdout",
     "output_type": "stream",
     "text": [
      "('Epoca 15.', 'lr:', 0.0006411543)\n"
     ]
    },
    {
     "name": "stderr",
     "output_type": "stream",
     "text": [
      "100%|██████████| 32/32 [00:01<00:00, 21.09it/s]\n",
      "  6%|▋         | 2/32 [00:00<00:01, 16.24it/s]"
     ]
    },
    {
     "name": "stdout",
     "output_type": "stream",
     "text": [
      "('Epoca 16.', 'lr:', 0.0006411543)\n"
     ]
    },
    {
     "name": "stderr",
     "output_type": "stream",
     "text": [
      "100%|██████████| 32/32 [00:01<00:00, 25.71it/s]\n",
      "  9%|▉         | 3/32 [00:00<00:01, 26.06it/s]"
     ]
    },
    {
     "name": "stdout",
     "output_type": "stream",
     "text": [
      "('Epoca 17.', 'lr:', 0.0005449812)\n"
     ]
    },
    {
     "name": "stderr",
     "output_type": "stream",
     "text": [
      "100%|██████████| 32/32 [00:01<00:00, 25.23it/s]\n",
      "  3%|▎         | 1/32 [00:00<00:03,  9.38it/s]"
     ]
    },
    {
     "name": "stdout",
     "output_type": "stream",
     "text": [
      "('Epoca 18.', 'lr:', 0.0005449812)\n"
     ]
    },
    {
     "name": "stderr",
     "output_type": "stream",
     "text": [
      "100%|██████████| 32/32 [00:01<00:00, 22.59it/s]\n",
      "  3%|▎         | 1/32 [00:00<00:03,  9.46it/s]"
     ]
    },
    {
     "name": "stdout",
     "output_type": "stream",
     "text": [
      "('Epoca 19.', 'lr:', 0.00046323403)\n"
     ]
    },
    {
     "name": "stderr",
     "output_type": "stream",
     "text": [
      " 69%|██████▉   | 22/32 [00:00<00:00, 22.54it/s]W1227 09:32:54.069694 139946036565760 deprecation.py:323] From /home/andrea/anaconda2/lib/python2.7/site-packages/tensorflow/python/training/saver.py:960: remove_checkpoint (from tensorflow.python.training.checkpoint_management) is deprecated and will be removed in a future version.\n",
      "Instructions for updating:\n",
      "Use standard file APIs to delete files with this prefix.\n",
      "\n",
      "  0%|          | 0/5 [00:00<?, ?it/s]\u001b[A"
     ]
    },
    {
     "name": "stdout",
     "output_type": "stream",
     "text": [
      "\tsaving model 600...\n",
      "\tdone\n",
      "Evaluating\n"
     ]
    },
    {
     "name": "stderr",
     "output_type": "stream",
     "text": [
      "\n",
      "100%|##########| 5/5 [00:00<00:00, 66.72it/s]\u001b[A"
     ]
    },
    {
     "name": "stdout",
     "output_type": "stream",
     "text": [
      "{'ade': 0.3152181, 'fde': 0.5658612}\n",
      "\t last loss:0.000951603, eval on validation:['ade: 0.3152181', 'fde: 0.5658612'], (best ade:0.34669268 at step 300) \n",
      "\t saving best model...\n",
      "\t done.\n"
     ]
    },
    {
     "name": "stderr",
     "output_type": "stream",
     "text": [
      "100%|██████████| 32/32 [00:01<00:00, 18.17it/s]\n",
      "  6%|▋         | 2/32 [00:00<00:01, 19.55it/s]"
     ]
    },
    {
     "name": "stdout",
     "output_type": "stream",
     "text": [
      "('Epoca 20.', 'lr:', 0.00046323403)\n"
     ]
    },
    {
     "name": "stderr",
     "output_type": "stream",
     "text": [
      "100%|██████████| 32/32 [00:01<00:00, 23.43it/s]\n",
      "  6%|▋         | 2/32 [00:00<00:02, 13.98it/s]"
     ]
    },
    {
     "name": "stdout",
     "output_type": "stream",
     "text": [
      "('Epoca 21.', 'lr:', 0.00039374892)\n"
     ]
    },
    {
     "name": "stderr",
     "output_type": "stream",
     "text": [
      "100%|██████████| 32/32 [00:01<00:00, 23.47it/s]\n",
      "  3%|▎         | 1/32 [00:00<00:03,  8.85it/s]"
     ]
    },
    {
     "name": "stdout",
     "output_type": "stream",
     "text": [
      "('Epoca 22.', 'lr:', 0.00039374892)\n"
     ]
    },
    {
     "name": "stderr",
     "output_type": "stream",
     "text": [
      "100%|██████████| 32/32 [00:01<00:00, 24.33it/s]\n",
      "  9%|▉         | 3/32 [00:00<00:01, 25.17it/s]"
     ]
    },
    {
     "name": "stdout",
     "output_type": "stream",
     "text": [
      "('Epoca 23.', 'lr:', 0.0003346866)\n"
     ]
    },
    {
     "name": "stderr",
     "output_type": "stream",
     "text": [
      "100%|██████████| 32/32 [00:01<00:00, 25.30it/s]\n",
      "  6%|▋         | 2/32 [00:00<00:02, 14.55it/s]"
     ]
    },
    {
     "name": "stdout",
     "output_type": "stream",
     "text": [
      "('Epoca 24.', 'lr:', 0.0003346866)\n"
     ]
    },
    {
     "name": "stderr",
     "output_type": "stream",
     "text": [
      "100%|██████████| 32/32 [00:01<00:00, 25.10it/s]\n",
      "  9%|▉         | 3/32 [00:00<00:01, 22.22it/s]"
     ]
    },
    {
     "name": "stdout",
     "output_type": "stream",
     "text": [
      "('Epoca 25.', 'lr:', 0.00028448363)\n"
     ]
    },
    {
     "name": "stderr",
     "output_type": "stream",
     "text": [
      "100%|██████████| 32/32 [00:01<00:00, 25.30it/s]\n",
      "  6%|▋         | 2/32 [00:00<00:01, 17.15it/s]"
     ]
    },
    {
     "name": "stdout",
     "output_type": "stream",
     "text": [
      "('Epoca 26.', 'lr:', 0.00028448363)\n"
     ]
    },
    {
     "name": "stderr",
     "output_type": "stream",
     "text": [
      "100%|██████████| 32/32 [00:01<00:00, 25.82it/s]\n",
      "  9%|▉         | 3/32 [00:00<00:01, 23.83it/s]"
     ]
    },
    {
     "name": "stdout",
     "output_type": "stream",
     "text": [
      "('Epoca 27.', 'lr:', 0.0002418111)\n"
     ]
    },
    {
     "name": "stderr",
     "output_type": "stream",
     "text": [
      "100%|██████████| 32/32 [00:01<00:00, 25.29it/s]\n",
      "  3%|▎         | 1/32 [00:00<00:03,  9.71it/s]"
     ]
    },
    {
     "name": "stdout",
     "output_type": "stream",
     "text": [
      "('Epoca 28.', 'lr:', 0.0002418111)\n"
     ]
    },
    {
     "name": "stderr",
     "output_type": "stream",
     "text": [
      "100%|██████████| 32/32 [00:01<00:00, 24.34it/s]\n",
      "  6%|▋         | 2/32 [00:00<00:02, 14.60it/s]"
     ]
    },
    {
     "name": "stdout",
     "output_type": "stream",
     "text": [
      "('Epoca 29.', 'lr:', 0.00020553943)\n",
      "\tsaving model 900...\n"
     ]
    },
    {
     "name": "stderr",
     "output_type": "stream",
     "text": [
      "\n",
      "  0%|          | 0/5 [00:00<?, ?it/s]\u001b[A\n",
      "100%|##########| 5/5 [00:00<00:00, 75.92it/s]\u001b[A"
     ]
    },
    {
     "name": "stdout",
     "output_type": "stream",
     "text": [
      "\tdone\n",
      "Evaluating\n",
      "{'ade': 0.3082466, 'fde': 0.5444428}\n",
      "\t last loss:0.000504227, eval on validation:['ade: 0.3082466', 'fde: 0.5444428'], (best ade:0.3152181 at step 600) \n",
      "\t saving best model...\n"
     ]
    },
    {
     "name": "stderr",
     "output_type": "stream",
     "text": [
      " 22%|██▏       | 7/32 [00:00<00:02, 10.20it/s]"
     ]
    },
    {
     "name": "stdout",
     "output_type": "stream",
     "text": [
      "\t done.\n"
     ]
    },
    {
     "name": "stderr",
     "output_type": "stream",
     "text": [
      "100%|██████████| 32/32 [00:01<00:00, 17.71it/s]\n",
      "  9%|▉         | 3/32 [00:00<00:01, 25.60it/s]"
     ]
    },
    {
     "name": "stdout",
     "output_type": "stream",
     "text": [
      "('Epoca 30.', 'lr:', 0.00020553943)\n"
     ]
    },
    {
     "name": "stderr",
     "output_type": "stream",
     "text": [
      "100%|██████████| 32/32 [00:01<00:00, 24.31it/s]\n",
      "  9%|▉         | 3/32 [00:00<00:01, 25.38it/s]"
     ]
    },
    {
     "name": "stdout",
     "output_type": "stream",
     "text": [
      "('Epoca 31.', 'lr:', 0.00017470852)\n"
     ]
    },
    {
     "name": "stderr",
     "output_type": "stream",
     "text": [
      "100%|██████████| 32/32 [00:01<00:00, 25.30it/s]\n",
      "  3%|▎         | 1/32 [00:00<00:03,  9.47it/s]"
     ]
    },
    {
     "name": "stdout",
     "output_type": "stream",
     "text": [
      "('Epoca 32.', 'lr:', 0.00014850224)\n"
     ]
    },
    {
     "name": "stderr",
     "output_type": "stream",
     "text": [
      "100%|██████████| 32/32 [00:01<00:00, 24.34it/s]\n",
      "  6%|▋         | 2/32 [00:00<00:02, 14.45it/s]"
     ]
    },
    {
     "name": "stdout",
     "output_type": "stream",
     "text": [
      "('Epoca 33.', 'lr:', 0.00014850224)\n"
     ]
    },
    {
     "name": "stderr",
     "output_type": "stream",
     "text": [
      "100%|██████████| 32/32 [00:01<00:00, 25.80it/s]\n",
      "  3%|▎         | 1/32 [00:00<00:03,  9.87it/s]"
     ]
    },
    {
     "name": "stdout",
     "output_type": "stream",
     "text": [
      "('Epoca 34.', 'lr:', 0.0001262269)\n"
     ]
    },
    {
     "name": "stderr",
     "output_type": "stream",
     "text": [
      "100%|██████████| 32/32 [00:01<00:00, 24.28it/s]\n",
      "  3%|▎         | 1/32 [00:00<00:03,  9.67it/s]"
     ]
    },
    {
     "name": "stdout",
     "output_type": "stream",
     "text": [
      "('Epoca 35.', 'lr:', 0.0001262269)\n"
     ]
    },
    {
     "name": "stderr",
     "output_type": "stream",
     "text": [
      "100%|██████████| 32/32 [00:01<00:00, 24.38it/s]\n",
      "  3%|▎         | 1/32 [00:00<00:03,  9.81it/s]"
     ]
    },
    {
     "name": "stdout",
     "output_type": "stream",
     "text": [
      "('Epoca 36.', 'lr:', 0.00010729288)\n"
     ]
    },
    {
     "name": "stderr",
     "output_type": "stream",
     "text": [
      "100%|██████████| 32/32 [00:01<00:00, 24.28it/s]\n",
      "  6%|▋         | 2/32 [00:00<00:02, 14.38it/s]"
     ]
    },
    {
     "name": "stdout",
     "output_type": "stream",
     "text": [
      "('Epoca 37.', 'lr:', 0.00010729288)\n"
     ]
    },
    {
     "name": "stderr",
     "output_type": "stream",
     "text": [
      "100%|██████████| 32/32 [00:01<00:00, 25.97it/s]\n",
      "  6%|▋         | 2/32 [00:00<00:01, 15.01it/s]"
     ]
    },
    {
     "name": "stdout",
     "output_type": "stream",
     "text": [
      "('Epoca 38.', 'lr:', 9.119895e-05)\n"
     ]
    },
    {
     "name": "stderr",
     "output_type": "stream",
     "text": [
      " 44%|████▍     | 14/32 [00:00<00:00, 22.16it/s]\n",
      "  0%|          | 0/5 [00:00<?, ?it/s]"
     ]
    },
    {
     "name": "stdout",
     "output_type": "stream",
     "text": [
      "\tsaving model 1200...\n",
      "\tdone\n",
      "Evaluating\n"
     ]
    },
    {
     "name": "stderr",
     "output_type": "stream",
     "text": [
      "\u001b[A\n",
      "100%|##########| 5/5 [00:00<00:00, 73.75it/s]\u001b[A"
     ]
    },
    {
     "name": "stdout",
     "output_type": "stream",
     "text": [
      "{'ade': 0.30359584, 'fde': 0.54256433}\n",
      "\t last loss:0.000360218, eval on validation:['ade: 0.30359584', 'fde: 0.54256433'], (best ade:0.3082466 at step 900) \n",
      "\t saving best model...\n",
      "\t done.\n"
     ]
    },
    {
     "name": "stderr",
     "output_type": "stream",
     "text": [
      "100%|██████████| 32/32 [00:01<00:00, 20.41it/s]\n",
      "  3%|▎         | 1/32 [00:00<00:03,  9.83it/s]"
     ]
    },
    {
     "name": "stdout",
     "output_type": "stream",
     "text": [
      "('Epoca 39.', 'lr:', 9.119895e-05)\n"
     ]
    },
    {
     "name": "stderr",
     "output_type": "stream",
     "text": [
      "100%|██████████| 32/32 [00:01<00:00, 22.60it/s]\n",
      "  3%|▎         | 1/32 [00:00<00:03,  9.56it/s]"
     ]
    },
    {
     "name": "stdout",
     "output_type": "stream",
     "text": [
      "('Epoca 40.', 'lr:', 7.751911e-05)\n"
     ]
    },
    {
     "name": "stderr",
     "output_type": "stream",
     "text": [
      "100%|██████████| 32/32 [00:01<00:00, 24.35it/s]\n",
      "  3%|▎         | 1/32 [00:00<00:03,  9.45it/s]"
     ]
    },
    {
     "name": "stdout",
     "output_type": "stream",
     "text": [
      "('Epoca 41.', 'lr:', 7.751911e-05)\n"
     ]
    },
    {
     "name": "stderr",
     "output_type": "stream",
     "text": [
      "100%|██████████| 32/32 [00:01<00:00, 24.36it/s]\n",
      "  3%|▎         | 1/32 [00:00<00:03,  9.37it/s]"
     ]
    },
    {
     "name": "stdout",
     "output_type": "stream",
     "text": [
      "('Epoca 42.', 'lr:', 6.589125e-05)\n"
     ]
    },
    {
     "name": "stderr",
     "output_type": "stream",
     "text": [
      "100%|██████████| 32/32 [00:01<00:00, 24.35it/s]\n",
      "  3%|▎         | 1/32 [00:00<00:03,  9.37it/s]"
     ]
    },
    {
     "name": "stdout",
     "output_type": "stream",
     "text": [
      "('Epoca 43.', 'lr:', 6.589125e-05)\n"
     ]
    },
    {
     "name": "stderr",
     "output_type": "stream",
     "text": [
      "100%|██████████| 32/32 [00:01<00:00, 24.32it/s]\n",
      "  3%|▎         | 1/32 [00:00<00:03,  9.78it/s]"
     ]
    },
    {
     "name": "stdout",
     "output_type": "stream",
     "text": [
      "('Epoca 44.', 'lr:', 5.600756e-05)\n"
     ]
    },
    {
     "name": "stderr",
     "output_type": "stream",
     "text": [
      "100%|██████████| 32/32 [00:01<00:00, 24.32it/s]\n",
      "  6%|▋         | 2/32 [00:00<00:02, 14.87it/s]"
     ]
    },
    {
     "name": "stdout",
     "output_type": "stream",
     "text": [
      "('Epoca 45.', 'lr:', 5.600756e-05)\n"
     ]
    },
    {
     "name": "stderr",
     "output_type": "stream",
     "text": [
      "100%|██████████| 32/32 [00:01<00:00, 25.59it/s]\n",
      "  3%|▎         | 1/32 [00:00<00:03,  9.75it/s]"
     ]
    },
    {
     "name": "stdout",
     "output_type": "stream",
     "text": [
      "('Epoca 46.', 'lr:', 4.7606427e-05)\n"
     ]
    },
    {
     "name": "stderr",
     "output_type": "stream",
     "text": [
      "100%|██████████| 32/32 [00:01<00:00, 24.27it/s]\n",
      "  3%|▎         | 1/32 [00:00<00:03,  9.05it/s]"
     ]
    },
    {
     "name": "stdout",
     "output_type": "stream",
     "text": [
      "('Epoca 47.', 'lr:', 4.7606427e-05)\n"
     ]
    },
    {
     "name": "stderr",
     "output_type": "stream",
     "text": [
      " 78%|███████▊  | 25/32 [00:01<00:00, 23.84it/s]\n",
      "  0%|          | 0/5 [00:00<?, ?it/s]\u001b[A"
     ]
    },
    {
     "name": "stdout",
     "output_type": "stream",
     "text": [
      "\tsaving model 1500...\n",
      "\tdone\n",
      "Evaluating\n"
     ]
    },
    {
     "name": "stderr",
     "output_type": "stream",
     "text": [
      "\n",
      " 97%|█████████▋| 31/32 [00:01<00:00, 17.28it/s]A"
     ]
    },
    {
     "name": "stdout",
     "output_type": "stream",
     "text": [
      "{'ade': 0.30702072, 'fde': 0.55820173}\n",
      "\t last loss:0.000692169, eval on validation:['ade: 0.30702072', 'fde: 0.55820173'], (best ade:0.30359584 at step 1200) \n"
     ]
    },
    {
     "name": "stderr",
     "output_type": "stream",
     "text": [
      "100%|██████████| 32/32 [00:01<00:00, 20.21it/s]\n",
      "  6%|▋         | 2/32 [00:00<00:01, 18.50it/s]"
     ]
    },
    {
     "name": "stdout",
     "output_type": "stream",
     "text": [
      "('Epoca 48.', 'lr:', 4.0465464e-05)\n"
     ]
    },
    {
     "name": "stderr",
     "output_type": "stream",
     "text": [
      "100%|██████████| 32/32 [00:01<00:00, 24.21it/s]\n",
      "  3%|▎         | 1/32 [00:00<00:03,  9.78it/s]"
     ]
    },
    {
     "name": "stdout",
     "output_type": "stream",
     "text": [
      "('Epoca 49.', 'lr:', 4.0465464e-05)\n"
     ]
    },
    {
     "name": "stderr",
     "output_type": "stream",
     "text": [
      "100%|██████████| 32/32 [00:01<00:00, 23.37it/s]\n",
      "  3%|▎         | 1/32 [00:00<00:03,  9.15it/s]"
     ]
    },
    {
     "name": "stdout",
     "output_type": "stream",
     "text": [
      "('Epoca 50.', 'lr:', 3.4395645e-05)\n"
     ]
    },
    {
     "name": "stderr",
     "output_type": "stream",
     "text": [
      "100%|██████████| 32/32 [00:01<00:00, 24.18it/s]\n",
      "  3%|▎         | 1/32 [00:00<00:03,  8.70it/s]"
     ]
    },
    {
     "name": "stdout",
     "output_type": "stream",
     "text": [
      "('Epoca 51.', 'lr:', 3.4395645e-05)\n"
     ]
    },
    {
     "name": "stderr",
     "output_type": "stream",
     "text": [
      "100%|██████████| 32/32 [00:01<00:00, 24.37it/s]\n",
      "  6%|▋         | 2/32 [00:00<00:01, 19.28it/s]"
     ]
    },
    {
     "name": "stdout",
     "output_type": "stream",
     "text": [
      "('Epoca 52.', 'lr:', 2.92363e-05)\n"
     ]
    },
    {
     "name": "stderr",
     "output_type": "stream",
     "text": [
      "100%|██████████| 32/32 [00:01<00:00, 26.35it/s]\n",
      "  6%|▋         | 2/32 [00:00<00:02, 14.37it/s]"
     ]
    },
    {
     "name": "stdout",
     "output_type": "stream",
     "text": [
      "('Epoca 53.', 'lr:', 2.92363e-05)\n"
     ]
    },
    {
     "name": "stderr",
     "output_type": "stream",
     "text": [
      "100%|██████████| 32/32 [00:01<00:00, 25.60it/s]\n",
      "  3%|▎         | 1/32 [00:00<00:03,  9.55it/s]"
     ]
    },
    {
     "name": "stdout",
     "output_type": "stream",
     "text": [
      "('Epoca 54.', 'lr:', 2.4850853e-05)\n"
     ]
    },
    {
     "name": "stderr",
     "output_type": "stream",
     "text": [
      "100%|██████████| 32/32 [00:01<00:00, 24.31it/s]\n",
      "  9%|▉         | 3/32 [00:00<00:01, 25.32it/s]"
     ]
    },
    {
     "name": "stdout",
     "output_type": "stream",
     "text": [
      "('Epoca 55.', 'lr:', 2.4850853e-05)\n"
     ]
    },
    {
     "name": "stderr",
     "output_type": "stream",
     "text": [
      "100%|██████████| 32/32 [00:01<00:00, 25.26it/s]\n",
      "  3%|▎         | 1/32 [00:00<00:03,  8.99it/s]"
     ]
    },
    {
     "name": "stdout",
     "output_type": "stream",
     "text": [
      "('Epoca 56.', 'lr:', 2.1123227e-05)\n"
     ]
    },
    {
     "name": "stderr",
     "output_type": "stream",
     "text": [
      "100%|██████████| 32/32 [00:01<00:00, 24.45it/s]\n",
      "  6%|▋         | 2/32 [00:00<00:01, 15.61it/s]"
     ]
    },
    {
     "name": "stdout",
     "output_type": "stream",
     "text": [
      "('Epoca 57.', 'lr:', 2.1123227e-05)\n"
     ]
    },
    {
     "name": "stderr",
     "output_type": "stream",
     "text": [
      " 16%|█▌        | 5/32 [00:00<00:01, 17.57it/s]\n",
      "  0%|          | 0/5 [00:00<?, ?it/s]\u001b[A"
     ]
    },
    {
     "name": "stdout",
     "output_type": "stream",
     "text": [
      "\tsaving model 1800...\n",
      "\tdone\n",
      "Evaluating\n"
     ]
    },
    {
     "name": "stderr",
     "output_type": "stream",
     "text": [
      "\n",
      "100%|##########| 5/5 [00:00<00:00, 62.37it/s]\u001b[A"
     ]
    },
    {
     "name": "stdout",
     "output_type": "stream",
     "text": [
      "{'ade': 0.295401, 'fde': 0.5265723}\n",
      "\t last loss:0.001028016, eval on validation:['ade: 0.295401', 'fde: 0.5265723'], (best ade:0.30359584 at step 1200) \n",
      "\t saving best model...\n",
      "\t done.\n"
     ]
    },
    {
     "name": "stderr",
     "output_type": "stream",
     "text": [
      "100%|██████████| 32/32 [00:01<00:00, 17.60it/s]\n",
      "  3%|▎         | 1/32 [00:00<00:03,  8.04it/s]"
     ]
    },
    {
     "name": "stdout",
     "output_type": "stream",
     "text": [
      "('Epoca 58.', 'lr:', 1.7954744e-05)\n"
     ]
    },
    {
     "name": "stderr",
     "output_type": "stream",
     "text": [
      "100%|██████████| 32/32 [00:01<00:00, 21.07it/s]\n",
      "  6%|▋         | 2/32 [00:00<00:01, 17.54it/s]"
     ]
    },
    {
     "name": "stdout",
     "output_type": "stream",
     "text": [
      "('Epoca 59.', 'lr:', 1.7954744e-05)\n"
     ]
    },
    {
     "name": "stderr",
     "output_type": "stream",
     "text": [
      "100%|██████████| 32/32 [00:01<00:00, 26.03it/s]\n",
      "  9%|▉         | 3/32 [00:00<00:01, 26.13it/s]"
     ]
    },
    {
     "name": "stdout",
     "output_type": "stream",
     "text": [
      "('Epoca 60.', 'lr:', 1.5261532e-05)\n"
     ]
    },
    {
     "name": "stderr",
     "output_type": "stream",
     "text": [
      "100%|██████████| 32/32 [00:01<00:00, 25.28it/s]\n",
      "  3%|▎         | 1/32 [00:00<00:03,  8.54it/s]"
     ]
    },
    {
     "name": "stdout",
     "output_type": "stream",
     "text": [
      "('Epoca 61.', 'lr:', 1.5261532e-05)\n"
     ]
    },
    {
     "name": "stderr",
     "output_type": "stream",
     "text": [
      "100%|██████████| 32/32 [00:01<00:00, 24.35it/s]\n",
      "  6%|▋         | 2/32 [00:00<00:01, 19.19it/s]"
     ]
    },
    {
     "name": "stdout",
     "output_type": "stream",
     "text": [
      "('Epoca 62.', 'lr:', 1.2972303e-05)\n"
     ]
    },
    {
     "name": "stderr",
     "output_type": "stream",
     "text": [
      "100%|██████████| 32/32 [00:01<00:00, 26.18it/s]\n",
      "  9%|▉         | 3/32 [00:00<00:01, 25.74it/s]"
     ]
    },
    {
     "name": "stdout",
     "output_type": "stream",
     "text": [
      "('Epoca 63.', 'lr:', 1.1026457e-05)\n"
     ]
    },
    {
     "name": "stderr",
     "output_type": "stream",
     "text": [
      "100%|██████████| 32/32 [00:01<00:00, 25.29it/s]\n",
      "  3%|▎         | 1/32 [00:00<00:03,  8.96it/s]"
     ]
    },
    {
     "name": "stdout",
     "output_type": "stream",
     "text": [
      "('Epoca 64.', 'lr:', 1.1026457e-05)\n"
     ]
    },
    {
     "name": "stderr",
     "output_type": "stream",
     "text": [
      "100%|██████████| 32/32 [00:01<00:00, 24.31it/s]\n",
      "  6%|▋         | 2/32 [00:00<00:02, 14.55it/s]"
     ]
    },
    {
     "name": "stdout",
     "output_type": "stream",
     "text": [
      "('Epoca 65.', 'lr:', 9.37249e-06)\n"
     ]
    },
    {
     "name": "stderr",
     "output_type": "stream",
     "text": [
      "100%|██████████| 32/32 [00:01<00:00, 25.86it/s]\n",
      "  3%|▎         | 1/32 [00:00<00:03,  8.93it/s]"
     ]
    },
    {
     "name": "stdout",
     "output_type": "stream",
     "text": [
      "('Epoca 66.', 'lr:', 9.37249e-06)\n"
     ]
    },
    {
     "name": "stderr",
     "output_type": "stream",
     "text": [
      " 59%|█████▉    | 19/32 [00:00<00:00, 21.33it/s]\n",
      "  0%|          | 0/5 [00:00<?, ?it/s]\u001b[A"
     ]
    },
    {
     "name": "stdout",
     "output_type": "stream",
     "text": [
      "\tsaving model 2100...\n",
      "\tdone\n",
      "Evaluating\n"
     ]
    },
    {
     "name": "stderr",
     "output_type": "stream",
     "text": [
      "\n",
      "100%|##########| 5/5 [00:00<00:00, 73.19it/s]\u001b[A"
     ]
    },
    {
     "name": "stdout",
     "output_type": "stream",
     "text": [
      "{'ade': 0.2938244, 'fde': 0.5201756}\n",
      "\t last loss:0.000608612, eval on validation:['ade: 0.2938244', 'fde: 0.5201756'], (best ade:0.295401 at step 1800) \n",
      "\t saving best model...\n",
      "\t done.\n"
     ]
    },
    {
     "name": "stderr",
     "output_type": "stream",
     "text": [
      "100%|██████████| 32/32 [00:01<00:00, 17.70it/s]\n",
      "  9%|▉         | 3/32 [00:00<00:01, 24.07it/s]"
     ]
    },
    {
     "name": "stdout",
     "output_type": "stream",
     "text": [
      "('Epoca 67.', 'lr:', 7.966617e-06)\n"
     ]
    },
    {
     "name": "stderr",
     "output_type": "stream",
     "text": [
      "100%|██████████| 32/32 [00:01<00:00, 21.83it/s]\n",
      "  6%|▋         | 2/32 [00:00<00:01, 17.56it/s]"
     ]
    },
    {
     "name": "stdout",
     "output_type": "stream",
     "text": [
      "('Epoca 68.', 'lr:', 7.966617e-06)\n"
     ]
    },
    {
     "name": "stderr",
     "output_type": "stream",
     "text": [
      "100%|██████████| 32/32 [00:01<00:00, 24.64it/s]\n",
      "  3%|▎         | 1/32 [00:00<00:03,  9.47it/s]"
     ]
    },
    {
     "name": "stdout",
     "output_type": "stream",
     "text": [
      "('Epoca 69.', 'lr:', 6.7716246e-06)\n"
     ]
    },
    {
     "name": "stderr",
     "output_type": "stream",
     "text": [
      "100%|██████████| 32/32 [00:01<00:00, 23.43it/s]\n",
      "  9%|▉         | 3/32 [00:00<00:01, 23.28it/s]"
     ]
    },
    {
     "name": "stdout",
     "output_type": "stream",
     "text": [
      "('Epoca 70.', 'lr:', 6.7716246e-06)\n"
     ]
    },
    {
     "name": "stderr",
     "output_type": "stream",
     "text": [
      "100%|██████████| 32/32 [00:01<00:00, 25.22it/s]\n",
      "  3%|▎         | 1/32 [00:00<00:03,  9.63it/s]"
     ]
    },
    {
     "name": "stdout",
     "output_type": "stream",
     "text": [
      "('Epoca 71.', 'lr:', 5.7558805e-06)\n"
     ]
    },
    {
     "name": "stderr",
     "output_type": "stream",
     "text": [
      "100%|██████████| 32/32 [00:01<00:00, 24.24it/s]\n",
      "  6%|▋         | 2/32 [00:00<00:01, 15.46it/s]"
     ]
    },
    {
     "name": "stdout",
     "output_type": "stream",
     "text": [
      "('Epoca 72.', 'lr:', 5.7558805e-06)\n"
     ]
    },
    {
     "name": "stderr",
     "output_type": "stream",
     "text": [
      "100%|██████████| 32/32 [00:01<00:00, 25.28it/s]\n",
      "  9%|▉         | 3/32 [00:00<00:01, 24.89it/s]"
     ]
    },
    {
     "name": "stdout",
     "output_type": "stream",
     "text": [
      "('Epoca 73.', 'lr:', 4.8924985e-06)\n"
     ]
    },
    {
     "name": "stderr",
     "output_type": "stream",
     "text": [
      "100%|██████████| 32/32 [00:01<00:00, 24.33it/s]\n",
      "  9%|▉         | 3/32 [00:00<00:01, 24.52it/s]"
     ]
    },
    {
     "name": "stdout",
     "output_type": "stream",
     "text": [
      "('Epoca 74.', 'lr:', 4.8924985e-06)\n"
     ]
    },
    {
     "name": "stderr",
     "output_type": "stream",
     "text": [
      "100%|██████████| 32/32 [00:01<00:00, 24.33it/s]\n",
      "  6%|▋         | 2/32 [00:00<00:01, 18.68it/s]"
     ]
    },
    {
     "name": "stdout",
     "output_type": "stream",
     "text": [
      "('Epoca 75.', 'lr:', 4.158624e-06)\n"
     ]
    },
    {
     "name": "stderr",
     "output_type": "stream",
     "text": [
      " 91%|█████████ | 29/32 [00:01<00:00, 24.40it/s]\n",
      "  0%|          | 0/5 [00:00<?, ?it/s]\u001b[A"
     ]
    },
    {
     "name": "stdout",
     "output_type": "stream",
     "text": [
      "\tsaving model 2400...\n",
      "\tdone\n",
      "Evaluating\n"
     ]
    },
    {
     "name": "stderr",
     "output_type": "stream",
     "text": [
      "\n",
      "100%|##########| 5/5 [00:00<00:00, 67.69it/s]\u001b[A"
     ]
    },
    {
     "name": "stdout",
     "output_type": "stream",
     "text": [
      "{'ade': 0.29322854, 'fde': 0.5204826}\n",
      "\t last loss:0.000973728, eval on validation:['ade: 0.29322854', 'fde: 0.5204826'], (best ade:0.2938244 at step 2100) \n",
      "\t saving best model...\n",
      "\t done.\n"
     ]
    },
    {
     "name": "stderr",
     "output_type": "stream",
     "text": [
      "100%|██████████| 32/32 [00:01<00:00, 11.72it/s]\n",
      "  9%|▉         | 3/32 [00:00<00:01, 25.45it/s]"
     ]
    },
    {
     "name": "stdout",
     "output_type": "stream",
     "text": [
      "('Epoca 76.', 'lr:', 4.158624e-06)\n"
     ]
    },
    {
     "name": "stderr",
     "output_type": "stream",
     "text": [
      "100%|██████████| 32/32 [00:01<00:00, 24.30it/s]\n",
      "  6%|▋         | 2/32 [00:00<00:01, 16.58it/s]"
     ]
    },
    {
     "name": "stdout",
     "output_type": "stream",
     "text": [
      "('Epoca 77.', 'lr:', 3.5348305e-06)\n"
     ]
    },
    {
     "name": "stderr",
     "output_type": "stream",
     "text": [
      "100%|██████████| 32/32 [00:01<00:00, 25.77it/s]\n",
      "  6%|▋         | 2/32 [00:00<00:02, 14.55it/s]"
     ]
    },
    {
     "name": "stdout",
     "output_type": "stream",
     "text": [
      "('Epoca 78.', 'lr:', 3.5348305e-06)\n"
     ]
    },
    {
     "name": "stderr",
     "output_type": "stream",
     "text": [
      "100%|██████████| 32/32 [00:01<00:00, 19.78it/s]\n",
      "  3%|▎         | 1/32 [00:00<00:03,  8.46it/s]"
     ]
    },
    {
     "name": "stdout",
     "output_type": "stream",
     "text": [
      "('Epoca 79.', 'lr:', 3.004606e-06)\n"
     ]
    },
    {
     "name": "stderr",
     "output_type": "stream",
     "text": [
      "100%|██████████| 32/32 [00:01<00:00, 22.50it/s]\n",
      "  3%|▎         | 1/32 [00:00<00:03,  9.37it/s]"
     ]
    },
    {
     "name": "stdout",
     "output_type": "stream",
     "text": [
      "('Epoca 80.', 'lr:', 3.004606e-06)\n"
     ]
    },
    {
     "name": "stderr",
     "output_type": "stream",
     "text": [
      "100%|██████████| 32/32 [00:01<00:00, 22.55it/s]\n",
      "  6%|▋         | 2/32 [00:00<00:02, 14.82it/s]"
     ]
    },
    {
     "name": "stdout",
     "output_type": "stream",
     "text": [
      "('Epoca 81.', 'lr:', 2.5539152e-06)\n"
     ]
    },
    {
     "name": "stderr",
     "output_type": "stream",
     "text": [
      "100%|██████████| 32/32 [00:01<00:00, 23.43it/s]\n",
      "  3%|▎         | 1/32 [00:00<00:03,  8.66it/s]"
     ]
    },
    {
     "name": "stdout",
     "output_type": "stream",
     "text": [
      "('Epoca 82.', 'lr:', 2.5539152e-06)\n"
     ]
    },
    {
     "name": "stderr",
     "output_type": "stream",
     "text": [
      "100%|██████████| 32/32 [00:01<00:00, 24.27it/s]\n",
      "  6%|▋         | 2/32 [00:00<00:02, 14.62it/s]"
     ]
    },
    {
     "name": "stdout",
     "output_type": "stream",
     "text": [
      "('Epoca 83.', 'lr:', 2.170828e-06)\n"
     ]
    },
    {
     "name": "stderr",
     "output_type": "stream",
     "text": [
      "100%|██████████| 32/32 [00:01<00:00, 25.87it/s]\n",
      "  3%|▎         | 1/32 [00:00<00:03,  9.26it/s]"
     ]
    },
    {
     "name": "stdout",
     "output_type": "stream",
     "text": [
      "('Epoca 84.', 'lr:', 2.170828e-06)\n"
     ]
    },
    {
     "name": "stderr",
     "output_type": "stream",
     "text": [
      "100%|██████████| 32/32 [00:01<00:00, 23.43it/s]\n",
      "  6%|▋         | 2/32 [00:00<00:01, 17.85it/s]"
     ]
    },
    {
     "name": "stdout",
     "output_type": "stream",
     "text": [
      "('Epoca 85.', 'lr:', 1.8452038e-06)\n"
     ]
    },
    {
     "name": "stderr",
     "output_type": "stream",
     "text": [
      " 34%|███▍      | 11/32 [00:00<00:00, 21.30it/s]\n",
      "  0%|          | 0/5 [00:00<?, ?it/s]\u001b[A"
     ]
    },
    {
     "name": "stdout",
     "output_type": "stream",
     "text": [
      "\tsaving model 2700...\n",
      "\tdone\n",
      "Evaluating\n"
     ]
    },
    {
     "name": "stderr",
     "output_type": "stream",
     "text": [
      "\n",
      " 41%|████      | 13/32 [00:00<00:01, 11.57it/s]A"
     ]
    },
    {
     "name": "stdout",
     "output_type": "stream",
     "text": [
      "{'ade': 0.2935217, 'fde': 0.52117246}\n",
      "\t last loss:0.001001630, eval on validation:['ade: 0.2935217', 'fde: 0.52117246'], (best ade:0.29322854 at step 2400) \n"
     ]
    },
    {
     "name": "stderr",
     "output_type": "stream",
     "text": [
      "100%|██████████| 32/32 [00:01<00:00, 18.20it/s]\n",
      "  3%|▎         | 1/32 [00:00<00:04,  6.78it/s]"
     ]
    },
    {
     "name": "stdout",
     "output_type": "stream",
     "text": [
      "('Epoca 86.', 'lr:', 1.8452038e-06)\n"
     ]
    },
    {
     "name": "stderr",
     "output_type": "stream",
     "text": [
      "100%|██████████| 32/32 [00:01<00:00, 17.58it/s]\n",
      "  6%|▋         | 2/32 [00:00<00:01, 18.50it/s]"
     ]
    },
    {
     "name": "stdout",
     "output_type": "stream",
     "text": [
      "('Epoca 87.', 'lr:', 1.5684233e-06)\n"
     ]
    },
    {
     "name": "stderr",
     "output_type": "stream",
     "text": [
      "100%|██████████| 32/32 [00:01<00:00, 21.50it/s]\n",
      "  6%|▋         | 2/32 [00:00<00:02, 13.56it/s]"
     ]
    },
    {
     "name": "stdout",
     "output_type": "stream",
     "text": [
      "('Epoca 88.', 'lr:', 1.5684233e-06)\n"
     ]
    },
    {
     "name": "stderr",
     "output_type": "stream",
     "text": [
      "100%|██████████| 32/32 [00:02<00:00, 14.40it/s]\n",
      "  3%|▎         | 1/32 [00:00<00:03,  9.95it/s]"
     ]
    },
    {
     "name": "stdout",
     "output_type": "stream",
     "text": [
      "('Epoca 89.', 'lr:', 1.3331598e-06)\n"
     ]
    },
    {
     "name": "stderr",
     "output_type": "stream",
     "text": [
      "100%|██████████| 32/32 [00:02<00:00, 15.82it/s]\n",
      "  9%|▉         | 3/32 [00:00<00:01, 24.70it/s]"
     ]
    },
    {
     "name": "stdout",
     "output_type": "stream",
     "text": [
      "('Epoca 90.', 'lr:', 1.3331598e-06)\n"
     ]
    },
    {
     "name": "stderr",
     "output_type": "stream",
     "text": [
      "100%|██████████| 32/32 [00:01<00:00, 20.44it/s]\n",
      "  3%|▎         | 1/32 [00:00<00:03,  9.82it/s]"
     ]
    },
    {
     "name": "stdout",
     "output_type": "stream",
     "text": [
      "('Epoca 91.', 'lr:', 1.1331858e-06)\n"
     ]
    },
    {
     "name": "stderr",
     "output_type": "stream",
     "text": [
      "100%|██████████| 32/32 [00:01<00:00, 21.07it/s]\n",
      "  3%|▎         | 1/32 [00:00<00:03,  8.42it/s]"
     ]
    },
    {
     "name": "stdout",
     "output_type": "stream",
     "text": [
      "('Epoca 92.', 'lr:', 1.1331858e-06)\n"
     ]
    },
    {
     "name": "stderr",
     "output_type": "stream",
     "text": [
      "100%|██████████| 32/32 [00:01<00:00, 23.46it/s]\n",
      "  6%|▋         | 2/32 [00:00<00:01, 15.72it/s]"
     ]
    },
    {
     "name": "stdout",
     "output_type": "stream",
     "text": [
      "('Epoca 93.', 'lr:', 9.63208e-07)\n"
     ]
    },
    {
     "name": "stderr",
     "output_type": "stream",
     "text": [
      "100%|██████████| 32/32 [00:01<00:00, 21.44it/s]\n",
      "  9%|▉         | 3/32 [00:00<00:01, 23.22it/s]"
     ]
    },
    {
     "name": "stdout",
     "output_type": "stream",
     "text": [
      "('Epoca 94.', 'lr:', 8.187269e-07)\n"
     ]
    },
    {
     "name": "stderr",
     "output_type": "stream",
     "text": [
      " 72%|███████▏  | 23/32 [00:01<00:00, 14.96it/s]"
     ]
    },
    {
     "name": "stdout",
     "output_type": "stream",
     "text": [
      "\tsaving model 3000...\n"
     ]
    },
    {
     "name": "stderr",
     "output_type": "stream",
     "text": [
      "\n",
      "  0%|          | 0/5 [00:00<?, ?it/s]\u001b[A\n",
      " 80%|########  | 4/5 [00:00<00:00, 30.75it/s]\u001b[A"
     ]
    },
    {
     "name": "stdout",
     "output_type": "stream",
     "text": [
      "\tdone\n",
      "Evaluating\n"
     ]
    },
    {
     "name": "stderr",
     "output_type": "stream",
     "text": [
      "\n",
      "100%|##########| 5/5 [00:00<00:00, 11.51it/s]\u001b[A"
     ]
    },
    {
     "name": "stdout",
     "output_type": "stream",
     "text": [
      "{'ade': 0.2926028, 'fde': 0.51918817}\n",
      "\t last loss:0.000570383, eval on validation:['ade: 0.2926028', 'fde: 0.51918817'], (best ade:0.29322854 at step 2400) \n",
      "\t saving best model...\n"
     ]
    },
    {
     "name": "stderr",
     "output_type": "stream",
     "text": [
      "\r",
      " 78%|███████▊  | 25/32 [00:02<00:01,  4.79it/s]"
     ]
    },
    {
     "name": "stdout",
     "output_type": "stream",
     "text": [
      "\t done.\n"
     ]
    },
    {
     "name": "stderr",
     "output_type": "stream",
     "text": [
      "100%|██████████| 32/32 [00:03<00:00, 10.12it/s]\n",
      "  6%|▋         | 2/32 [00:00<00:02, 14.43it/s]"
     ]
    },
    {
     "name": "stdout",
     "output_type": "stream",
     "text": [
      "('Epoca 95.', 'lr:', 8.187269e-07)\n"
     ]
    },
    {
     "name": "stderr",
     "output_type": "stream",
     "text": [
      "100%|██████████| 32/32 [00:02<00:00, 12.88it/s]\n",
      "  6%|▋         | 2/32 [00:00<00:02, 14.62it/s]"
     ]
    },
    {
     "name": "stdout",
     "output_type": "stream",
     "text": [
      "('Epoca 96.', 'lr:', 6.9591783e-07)\n"
     ]
    },
    {
     "name": "stderr",
     "output_type": "stream",
     "text": [
      "100%|██████████| 32/32 [00:02<00:00, 13.20it/s]\n",
      "  3%|▎         | 1/32 [00:00<00:03,  9.16it/s]"
     ]
    },
    {
     "name": "stdout",
     "output_type": "stream",
     "text": [
      "('Epoca 97.', 'lr:', 6.9591783e-07)\n"
     ]
    },
    {
     "name": "stderr",
     "output_type": "stream",
     "text": [
      "100%|██████████| 32/32 [00:02<00:00, 15.23it/s]\n",
      "  3%|▎         | 1/32 [00:00<00:03,  9.83it/s]"
     ]
    },
    {
     "name": "stdout",
     "output_type": "stream",
     "text": [
      "('Epoca 98.', 'lr:', 5.915302e-07)\n"
     ]
    },
    {
     "name": "stderr",
     "output_type": "stream",
     "text": [
      "100%|██████████| 32/32 [00:02<00:00, 14.84it/s]\n",
      "  6%|▋         | 2/32 [00:00<00:02, 14.20it/s]"
     ]
    },
    {
     "name": "stdout",
     "output_type": "stream",
     "text": [
      "('Epoca 99.', 'lr:', 5.915302e-07)\n"
     ]
    },
    {
     "name": "stderr",
     "output_type": "stream",
     "text": [
      "100%|██████████| 32/32 [00:02<00:00, 12.15it/s]\n",
      "  6%|▋         | 2/32 [00:00<00:02, 12.10it/s]"
     ]
    },
    {
     "name": "stdout",
     "output_type": "stream",
     "text": [
      "('Epoca 100.', 'lr:', 5.028007e-07)\n"
     ]
    },
    {
     "name": "stderr",
     "output_type": "stream",
     "text": [
      "100%|██████████| 32/32 [00:02<00:00, 15.07it/s]\n"
     ]
    },
    {
     "name": "stdout",
     "output_type": "stream",
     "text": [
      "best eval on val ade: 0.2926028 at 3000 step y fde es 0.51918817 \n"
     ]
    }
   ],
   "source": [
    "import os \n",
    "from tqdm import tqdm\n",
    "import tensorflow as tf\n",
    "import math\n",
    "\n",
    "tf.reset_default_graph()\n",
    "\n",
    "arguments = parameters1(add_kp = False, add_social = True,train_num_examples=len(data1['obs_traj']))\n",
    "model = model.Model(arguments)\n",
    "\n",
    "train_data = batches_data.Dataset(data1,arguments)\n",
    "val_data = batches_data.Dataset(data3,arguments)\n",
    "\n",
    "saver = tf.train.Saver(max_to_keep = 2)\n",
    "bestsaver = tf.train.Saver(max_to_keep = 2)\n",
    "\n",
    "\n",
    "trainer = entrenamientoevaluacion.Trainer(model,arguments)\n",
    "tester = entrenamientoevaluacion.Tester(model, arguments)\n",
    "\n",
    "#inicializamos las variables globales\n",
    "init = tf.global_variables_initializer()\n",
    "sess = tf.Session()\n",
    "sess.run(init)\n",
    "\n",
    "increment_global_step_op = tf.assign(model.global_step, model.global_step+1)\n",
    "\n",
    "val_perf = []\n",
    "loss = -1\n",
    "metric = 'ade'\n",
    "\n",
    "best = {metric:999999, 'fde':0, 'step':-1}\n",
    "is_start = True\n",
    "\n",
    "num_steps = int(math.ceil(train_data.num_examples/float(arguments.batch_size)))\n",
    "loss_list = []\n",
    "print(num_steps)\n",
    "\n",
    "for i in range(arguments.num_epochs):\n",
    "    print('Epoca {0}.' .format(i+1), 'lr:', sess.run(trainer.get_lr()))\n",
    "    \n",
    "    #For de batches\n",
    "    for idx, batch in tqdm(train_data.get_batches(arguments.batch_size,num_steps = num_steps),total=num_steps):\n",
    "        \n",
    "        sess.run(increment_global_step_op)\n",
    "        global_step = sess.run(model.global_step)\n",
    "\n",
    "        #Evaluamos el entrenamiento\n",
    "        if((global_step%arguments.validate==0) or (arguments.load_best and is_start)):\n",
    "            tqdm.write(\"\\tsaving model %s...\" % global_step)\n",
    "            checkpoint_path_model = os.path.join('sin_KP_NoN_Hotel_social12', 'model.ckpt')\n",
    "            saver.save(sess,checkpoint_path_model , global_step = global_step)\n",
    "            tqdm.write(\"\\tdone\")\n",
    "            \n",
    "            print('Evaluating')\n",
    "            results = evaluate(val_data, tester,sess,arguments)\n",
    "            print(results)\n",
    "           \n",
    "            tqdm.write((\"\\t last loss:%.9f, eval on validation:%s,\"\n",
    "                    \" (best %s:%s at step %s) \") % (loss,[\"%s: %s\" % (k, results[k]) for k in sorted(results.keys())], metric,best[metric], best[\"step\"]))\n",
    "            if results[\"ade\"]< best[metric]:\n",
    "                best[metric] = results[\"ade\"]\n",
    "                best[\"fde\"] =results[\"fde\"]\n",
    "                best[\"step\"] = global_step\n",
    "                \n",
    "                tqdm.write(\"\\t saving best model...\")\n",
    "                checkpoint_path_model_best = os.path.join('sin_KP_NoN_Hotel_social-best12', 'model_best.ckpt')\n",
    "                bestsaver.save(sess,checkpoint_path_model_best,global_step = global_step)\n",
    "                tqdm.write(\"\\t done.\")\n",
    "                finalperf = results\n",
    "                val_perf.append((loss, results))\n",
    "            is_start = False\n",
    "        loss, train_op = trainer.step(sess, batch)\n",
    "        loss_list.append(loss)\n",
    "    \n",
    "if((global_step % arguments.validate)!=0):\n",
    "  checkpoint_path_model = os.path.join('sin_KP_NoN_Hotel_social12', 'model.ckpt')\n",
    "  saver.save(sess,checkpoint_path_model , global_step = global_step)\n",
    "\n",
    "print(\"best eval on val %s: %s at %s step y fde es %s \" % (metric, best[metric], best[\"step\"],best[\"fde\"]))\n",
    "       \n",
    "    "
   ]
  },
  {
   "cell_type": "code",
   "execution_count": 11,
   "metadata": {},
   "outputs": [
    {
     "data": {
      "image/png": "[encoded data removed]",
      "text/plain": [
       "<Figure size 432x288 with 1 Axes>"
      ]
     },
     "metadata": {
      "needs_background": "light"
     },
     "output_type": "display_data"
    }
   ],
   "source": [
    "from matplotlib import pyplot as plt\n",
    "plt.plot(loss_list)\n",
    "plt.show()"
   ]
  },
  {
   "cell_type": "code",
   "execution_count": 12,
   "metadata": {},
   "outputs": [
    {
     "data": {
      "text/plain": [
       "'sin_KP_NoN_Hotel_social12_F/model.ckpt-3200'"
      ]
     },
     "execution_count": 12,
     "metadata": {},
     "output_type": "execute_result"
    }
   ],
   "source": [
    "# Guardamos el ultimo modelo\n",
    "checkpoint_path_model = os.path.join('sin_KP_NoN_Hotel_social12_F', 'model.ckpt')\n",
    "saver.save(sess,checkpoint_path_model , global_step = global_step)"
   ]
  },
  {
   "cell_type": "markdown",
   "metadata": {},
   "source": [
    "# Restauramos los modelos "
   ]
  },
  {
   "cell_type": "code",
   "execution_count": 13,
   "metadata": {},
   "outputs": [
    {
     "name": "stderr",
     "output_type": "stream",
     "text": [
      "W1227 09:39:44.522424 139946036565760 deprecation.py:323] From /home/andrea/anaconda2/lib/python2.7/site-packages/tensorflow/python/training/saver.py:1276: checkpoint_exists (from tensorflow.python.training.checkpoint_management) is deprecated and will be removed in a future version.\n",
      "Instructions for updating:\n",
      "Use standard file APIs to check for files with this prefix.\n",
      "100%|##########| 10/10 [00:00<00:00, 60.65it/s]"
     ]
    },
    {
     "name": "stdout",
     "output_type": "stream",
     "text": [
      "Evaluating\n",
      "{'ade': 0.2804838, 'fde': 0.50400466}\n"
     ]
    },
    {
     "name": "stderr",
     "output_type": "stream",
     "text": [
      "\n"
     ]
    }
   ],
   "source": [
    "#Ultimo Modelo\n",
    "path_model = 'sin_KP_NoN_Hotel_social12_F/model.ckpt-3200'\n",
    "saver.restore(sess=sess, save_path=path_model)\n",
    "\n",
    "\n",
    "test_data = batches_data.Dataset(data2, arguments)\n",
    "print('Evaluating')\n",
    "results = evaluate(test_data, tester,sess,arguments)\n",
    "print(results)"
   ]
  },
  {
   "cell_type": "code",
   "execution_count": 14,
   "metadata": {},
   "outputs": [
    {
     "name": "stderr",
     "output_type": "stream",
     "text": [
      "100%|##########| 10/10 [00:00<00:00, 62.27it/s]"
     ]
    },
    {
     "name": "stdout",
     "output_type": "stream",
     "text": [
      "Evaluating\n",
      "{'ade': 0.2804838, 'fde': 0.50400466}\n"
     ]
    },
    {
     "name": "stderr",
     "output_type": "stream",
     "text": [
      "\n"
     ]
    }
   ],
   "source": [
    "#Modelo12\n",
    "path_model = 'sin_KP_NoN_Hotel_social12/model.ckpt-3200'\n",
    "saver.restore(sess=sess, save_path=path_model)\n",
    "\n",
    "\n",
    "test_data = batches_data.Dataset(data2, arguments)\n",
    "print('Evaluating')\n",
    "results = evaluate(test_data, tester,sess,arguments)\n",
    "print(results)"
   ]
  },
  {
   "cell_type": "code",
   "execution_count": 15,
   "metadata": {},
   "outputs": [
    {
     "name": "stderr",
     "output_type": "stream",
     "text": [
      "100%|##########| 10/10 [00:00<00:00, 60.77it/s]"
     ]
    },
    {
     "name": "stdout",
     "output_type": "stream",
     "text": [
      "Evaluating\n",
      "{'ade': 0.28054473, 'fde': 0.5046748}\n"
     ]
    },
    {
     "name": "stderr",
     "output_type": "stream",
     "text": [
      "\n"
     ]
    }
   ],
   "source": [
    "# Mejor Modelo\n",
    "path_model = 'sin_KP_NoN_Hotel_social-best12/model_best.ckpt-3000'\n",
    "saver.restore(sess=sess, save_path=path_model)\n",
    "\n",
    "test_data = batches_data.Dataset(data2, arguments)\n",
    "print('Evaluating')\n",
    "results = evaluate(test_data, tester,sess,arguments)\n",
    "print(results)"
   ]
  },
  {
   "cell_type": "code",
   "execution_count": null,
   "metadata": {},
   "outputs": [],
   "source": []
  }
 ],
 "metadata": {
  "kernelspec": {
   "display_name": "Python 2",
   "language": "python",
   "name": "python2"
  },
  "language_info": {
   "codemirror_mode": {
    "name": "ipython",
    "version": 2
   },
   "file_extension": ".py",
   "mimetype": "text/x-python",
   "name": "python",
   "nbconvert_exporter": "python",
   "pygments_lexer": "ipython2",
   "version": "2.7.16"
  }
 },
 "nbformat": 4,
 "nbformat_minor": 2
}
