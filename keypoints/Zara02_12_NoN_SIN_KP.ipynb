{
 "cells": [
  {
   "cell_type": "code",
   "execution_count": 1,
   "metadata": {},
   "outputs": [],
   "source": [
    "import sys\n",
    "sys.path.append('/home/andrea/Dropbox/CIMAT/TESIS/lstmsss/keypoints/partes')\n",
    "import numpy as np\n",
    "from process_file import process_file_modif\n",
    "from process_file import process_file_modif_varios\n",
    "import batches_data\n",
    "import model\n",
    "\n",
    "import tensorflow as tf \n",
    "tf.reset_default_graph()\n",
    "\n",
    "import entrenamientoevaluacion\n",
    "from entrenamientoevaluacion import evaluate\n",
    "from interaccion_no_normalizada import batch_vecinos"
   ]
  },
  {
   "cell_type": "code",
   "execution_count": 2,
   "metadata": {},
   "outputs": [],
   "source": [
    "#en marco mundo\n",
    "\n",
    "zara02_pix_path = '../data1/ucy/zara/zara02/mundo/mun_pos.csv'\n",
    "#zara02_pix_path = '../data1/pets/PETS2009-S2L1-M_alreves.csv'\n",
    "class parameters:\n",
    "    def __init__(self):\n",
    "        self.person_max = 26 # 8\n",
    "        self.obs_len = 8\n",
    "        self.pred_len = 12\n",
    "        self.add_social = True\n",
    "        self.kp_num = 18\n",
    "        self.add_kp = False\n",
    "        "
   ]
  },
  {
   "cell_type": "code",
   "execution_count": 3,
   "metadata": {},
   "outputs": [
    {
     "name": "stdout",
     "output_type": "stream",
     "text": [
      "El numero total de ejemplos\n",
      "5910\n"
     ]
    }
   ],
   "source": [
    "## Cargamos los argumentos\n",
    "arguments = parameters()\n",
    "\n",
    "# Procesamos los datos de Zara0X\n",
    "data_zara02 = process_file_modif(zara02_pix_path, arguments, ',')"
   ]
  },
  {
   "cell_type": "code",
   "execution_count": null,
   "metadata": {},
   "outputs": [],
   "source": [
    "data_zara02['obs_traj'][0]"
   ]
  },
  {
   "cell_type": "code",
   "execution_count": null,
   "metadata": {},
   "outputs": [],
   "source": [
    "data_zara02['obs_person'][0]"
   ]
  },
  {
   "cell_type": "markdown",
   "metadata": {},
   "source": [
    "# Se calcula el flujo optico"
   ]
  },
  {
   "cell_type": "code",
   "execution_count": null,
   "metadata": {},
   "outputs": [],
   "source": [
    "#vector = batch_vecinos(data_zara02['obs_person'],data_zara02['key_idx'],data_zara02['obs_traj'],arguments)\n",
    "#np.save('flujo_bien_non_pets_total_mundo_12.npy',vector )"
   ]
  },
  {
   "cell_type": "markdown",
   "metadata": {},
   "source": [
    "# Se carga el flujo optico"
   ]
  },
  {
   "cell_type": "code",
   "execution_count": 4,
   "metadata": {},
   "outputs": [
    {
     "data": {
      "text/plain": [
       "(5910, 8, 64)"
      ]
     },
     "execution_count": 4,
     "metadata": {},
     "output_type": "execute_result"
    }
   ],
   "source": [
    "vector_flujo = 'flujo_bien_non_zara02_total_mundo_12.npy'\n",
    "flujo = np.load(vector_flujo)\n",
    "flujo.shape"
   ]
  },
  {
   "cell_type": "code",
   "execution_count": null,
   "metadata": {},
   "outputs": [],
   "source": [
    "flujo[0][7]"
   ]
  },
  {
   "cell_type": "markdown",
   "metadata": {},
   "source": [
    "# Agregamos el flujo al diccionario"
   ]
  },
  {
   "cell_type": "code",
   "execution_count": 5,
   "metadata": {},
   "outputs": [],
   "source": [
    "data_zara02.update({\n",
    "    \"obs_flujo\": flujo,\n",
    "        })"
   ]
  },
  {
   "cell_type": "markdown",
   "metadata": {},
   "source": [
    "# Division de los conjuntos de entrenamiento, prueba y validacion"
   ]
  },
  {
   "cell_type": "code",
   "execution_count": 6,
   "metadata": {},
   "outputs": [
    {
     "name": "stdout",
     "output_type": "stream",
     "text": [
      "data_train: 4137\n",
      "data_test: 1182\n",
      "data_val: 591\n"
     ]
    },
    {
     "name": "stderr",
     "output_type": "stream",
     "text": [
      "/home/andrea/anaconda2/lib/python2.7/site-packages/ipykernel_launcher.py:26: FutureWarning: Using a non-tuple sequence for multidimensional indexing is deprecated; use `arr[tuple(seq)]` instead of `arr[seq]`. In the future this will be interpreted as an array index, `arr[np.array(seq)]`, which will result either in an error or a different result.\n",
      "/home/andrea/anaconda2/lib/python2.7/site-packages/ipykernel_launcher.py:40: FutureWarning: Using a non-tuple sequence for multidimensional indexing is deprecated; use `arr[tuple(seq)]` instead of `arr[seq]`. In the future this will be interpreted as an array index, `arr[np.array(seq)]`, which will result either in an error or a different result.\n",
      "/home/andrea/anaconda2/lib/python2.7/site-packages/ipykernel_launcher.py:52: FutureWarning: Using a non-tuple sequence for multidimensional indexing is deprecated; use `arr[tuple(seq)]` instead of `arr[seq]`. In the future this will be interpreted as an array index, `arr[np.array(seq)]`, which will result either in an error or a different result.\n"
     ]
    }
   ],
   "source": [
    "#se fija la semilaa\n",
    "import random\n",
    "random.seed(0)\n",
    "\n",
    "# Muestreamos aleatoriamente para separar datos de entrenamiento, validacion y prueba\n",
    "prob = 0.7 \n",
    "# La cantidad total de listas de tam 8 \n",
    "ndata = len(data_zara02[list(data_zara02.keys())[2]])\n",
    "idx = random.sample(range(ndata), ndata)\n",
    "long1 = int(ndata*prob)\n",
    "long2 = int(ndata*0.2)\n",
    "long3 = int(ndata-long1-long2)\n",
    "\n",
    "idx_train = idx[0:long1]\n",
    "idx_test = idx[long1:long1+long2]\n",
    "idx_val = idx[long1+long2:]\n",
    "\n",
    "# conjunto de entrenamiento\n",
    "data1 = {\n",
    "     \"obs_traj\": data_zara02[\"obs_traj\"][idx_train],\n",
    "     \"obs_traj_rel\": data_zara02[\"obs_traj_rel\"][idx_train],\n",
    "    \n",
    "     \"pred_traj\": data_zara02[\"pred_traj\"][idx_train],\n",
    "     \"pred_traj_rel\": data_zara02[\"pred_traj_rel\"][idx_train],\n",
    "    \n",
    "     \"key_idx\": data_zara02[\"key_idx\"][[idx_train]],\n",
    "    \n",
    "     \n",
    "     \"obs_flujo\" : data_zara02[\"obs_flujo\"][idx_train],\n",
    "     #\"pred_kp\": data_pets[\"pred_kp\"][idx_train],\n",
    "     #\"obs_person\": data_pets[\"obs_person\"][idx_train],\n",
    "}\n",
    "\n",
    "# Conjunto de prueba\n",
    "data2 = {\n",
    "     \"obs_traj\": data_zara02[\"obs_traj\"][idx_test],\n",
    "     \"obs_traj_rel\": data_zara02[\"obs_traj_rel\"][idx_test],\n",
    "     \"pred_traj\": data_zara02[\"pred_traj\"][idx_test],\n",
    "     \"pred_traj_rel\": data_zara02[\"pred_traj_rel\"][idx_test],\n",
    "     \"key_idx\": data_zara02[\"key_idx\"][[idx_test]],\n",
    "     \"obs_flujo\" : data_zara02[\"obs_flujo\"][idx_test],\n",
    "     #\"pred_kp\": data_pets[\"pred_kp\"][idx_test],\n",
    "     #\"obs_person\": data_pets[\"obs_person\"][idx_test]\n",
    "}\n",
    "\n",
    "# conjunto de validacion\n",
    "data3 ={\n",
    "     \"obs_traj\": data_zara02[\"obs_traj\"][idx_val],\n",
    "     \"obs_traj_rel\": data_zara02[\"obs_traj_rel\"][idx_val],\n",
    "     \"pred_traj\": data_zara02[\"pred_traj\"][idx_val],\n",
    "     \"pred_traj_rel\": data_zara02[\"pred_traj_rel\"][idx_val],\n",
    "     \"key_idx\": data_zara02[\"key_idx\"][[idx_val]],\n",
    "     \"obs_flujo\" : data_zara02[\"obs_flujo\"][idx_val],\n",
    "     #\"pred_kp\": data_pets[\"pred_kp\"][idx_val],\n",
    "     #\"obs_person\": data_pets[\"obs_person\"][idx_val],\n",
    "}\n",
    "\n",
    "\n",
    "#if arguments.add_kp:\n",
    "#  print(data3['obs_person_rel'])\n",
    "\n",
    "print(\"data_train: \"+ str(len(data1[list(data1.keys())[0]])))\n",
    "print(\"data_test: \"+ str(len(data2[list(data2.keys())[0]])))\n",
    "print(\"data_val: \"+ str(len(data3[list(data3.keys())[0]])))\n",
    "#print(\"data4: \"+ str(len(data4[list(data4.keys())[0]])))\n"
   ]
  },
  {
   "cell_type": "markdown",
   "metadata": {},
   "source": [
    "# Guardamos la division de los datos"
   ]
  },
  {
   "cell_type": "code",
   "execution_count": 7,
   "metadata": {},
   "outputs": [],
   "source": [
    "import pickle\n",
    "\n",
    "#conjunto de entrenamiento\n",
    "pickle_out = open(\"data1_non_zara02_12.pickle\",\"wb\")\n",
    "pickle.dump(data1, pickle_out, protocol=2)\n",
    "pickle_out.close()\n",
    "\n",
    "#conjunto de prueba\n",
    "pickle_out = open(\"data2_non_zara02_12.pickle\",\"wb\")\n",
    "pickle.dump(data2, pickle_out, protocol=2)\n",
    "pickle_out.close()\n",
    "\n",
    "#conjunto de validacion\n",
    "pickle_out = open(\"data3_non_zara02_12.pickle\",\"wb\")\n",
    "pickle.dump(data3, pickle_out, protocol=2)\n",
    "pickle_out.close()"
   ]
  },
  {
   "cell_type": "markdown",
   "metadata": {},
   "source": [
    "# Parametros para el modelo"
   ]
  },
  {
   "cell_type": "code",
   "execution_count": 8,
   "metadata": {},
   "outputs": [],
   "source": [
    "class parameters1:\n",
    "    def __init__(self, add_kp = None, add_social=None, train_num_examples=None):\n",
    "        # -----------------\n",
    "        # Similar a como se procesaron los datos\n",
    "        self.obs_len = 8\n",
    "        self.pred_len = 12\n",
    "        if add_kp is None:\n",
    "            print('Parameter add kpp missing')\n",
    "            return\n",
    "        if train_num_examples is None:\n",
    "            print('El parametro train_examples fue olvidado')\n",
    "            return\n",
    "        if add_social is None:\n",
    "            print('Parameter add social missing')\n",
    "            return\n",
    "        \n",
    "        self.add_kp = add_kp\n",
    "        self.train_num_examples = train_num_examples\n",
    "        self.add_social = add_social\n",
    "        \n",
    "        self.kp_num = 18\n",
    "        self.kp_size = 18\n",
    "        #self.maxNumPed = 8\n",
    "        #self.grid_size = 4\n",
    "        #self.neighborhood_size = 32\n",
    "        #self.dimensions = [768,576]\n",
    "        #self.limites=[-15.88,11.56,-19.09,5.99]\n",
    "        #self.bound=[0.7,0.5]\n",
    "        # ------------------\n",
    "        self.num_epochs = 100\n",
    "        self.batch_size = 20 # batch size\n",
    "        self.validate = 300\n",
    "        self.P = 2 # dimensión\n",
    "        self.enc_hidden_size = 128 # el nombre lo dice\n",
    "        self.dec_hidden_size = 128\n",
    "        self.emb_size = 64\n",
    "        self.keep_prob = 0.7 # dropout\n",
    "        \n",
    "        self.min_ped = 1\n",
    "        self.seq_len = self.obs_len + self.pred_len\n",
    "        self.reverse_xy = False\n",
    "        \n",
    "        self.activation_func = tf.nn.tanh\n",
    "        self.activation_func1 = tf.nn.relu\n",
    "        self.is_train = True\n",
    "        self.is_test = False\n",
    "        self.multi_decoder = False\n",
    "        self.modelname = 'gphuctl'\n",
    "        \n",
    "        self.init_lr = 0.002 # 0.01\n",
    "        self.learning_rate_decay = 0.85\n",
    "        self.num_epoch_per_decay = 2.0\n",
    "        self.optimizer = 'adam'\n",
    "        self.emb_lr = 1.0\n",
    "        #self.clip_gradient_norm = 10.0\n",
    "        #Para cuando entreno y quiero guardar el mejor modelo\n",
    "        self.load_best = True"
   ]
  },
  {
   "cell_type": "markdown",
   "metadata": {},
   "source": [
    "# Se enttrena el modelo "
   ]
  },
  {
   "cell_type": "code",
   "execution_count": 9,
   "metadata": {},
   "outputs": [
    {
     "name": "stderr",
     "output_type": "stream",
     "text": [
      "WARNING: Logging before flag parsing goes to stderr.\n",
      "W1227 08:54:40.307254 140476992071424 deprecation_wrapper.py:119] From /home/andrea/Dropbox/CIMAT/TESIS/lstmsss/keypoints/partes/model.py:13: The name tf.get_variable is deprecated. Please use tf.compat.v1.get_variable instead.\n",
      "\n",
      "W1227 08:54:40.332684 140476992071424 deprecation_wrapper.py:119] From /home/andrea/Dropbox/CIMAT/TESIS/lstmsss/keypoints/partes/model.py:31: The name tf.placeholder is deprecated. Please use tf.compat.v1.placeholder instead.\n",
      "\n",
      "W1227 08:54:40.359986 140476992071424 deprecation.py:323] From /home/andrea/Dropbox/CIMAT/TESIS/lstmsss/keypoints/partes/model.py:70: __init__ (from tensorflow.python.ops.rnn_cell_impl) is deprecated and will be removed in a future version.\n",
      "Instructions for updating:\n",
      "This class is equivalent as tf.keras.layers.LSTMCell, and will be replaced by that in Tensorflow 2.0.\n",
      "W1227 08:54:40.362427 140476992071424 deprecation_wrapper.py:119] From /home/andrea/Dropbox/CIMAT/TESIS/lstmsss/keypoints/partes/model.py:72: The name tf.nn.rnn_cell.DropoutWrapper is deprecated. Please use tf.compat.v1.nn.rnn_cell.DropoutWrapper instead.\n",
      "\n",
      "W1227 08:54:40.373353 140476992071424 deprecation_wrapper.py:119] From /home/andrea/Dropbox/CIMAT/TESIS/lstmsss/keypoints/partes/model.py:103: The name tf.variable_scope is deprecated. Please use tf.compat.v1.variable_scope instead.\n",
      "\n",
      "W1227 08:54:40.379998 140476992071424 deprecation_wrapper.py:119] From /home/andrea/Dropbox/CIMAT/TESIS/lstmsss/keypoints/partes/model.py:476: The name tf.AUTO_REUSE is deprecated. Please use tf.compat.v1.AUTO_REUSE instead.\n",
      "\n",
      "W1227 08:54:40.394738 140476992071424 deprecation_wrapper.py:119] From /home/andrea/Dropbox/CIMAT/TESIS/lstmsss/keypoints/partes/model.py:495: The name tf.truncated_normal is deprecated. Please use tf.random.truncated_normal instead.\n",
      "\n",
      "W1227 08:54:40.436156 140476992071424 deprecation.py:323] From /home/andrea/Dropbox/CIMAT/TESIS/lstmsss/keypoints/partes/model.py:116: dynamic_rnn (from tensorflow.python.ops.rnn) is deprecated and will be removed in a future version.\n",
      "Instructions for updating:\n",
      "Please use `keras.layers.RNN(cell)`, which is equivalent to this API\n",
      "W1227 08:54:40.543848 140476992071424 deprecation.py:506] From /home/andrea/anaconda2/lib/python2.7/site-packages/tensorflow/python/ops/init_ops.py:1251: calling __init__ (from tensorflow.python.ops.init_ops) with dtype is deprecated and will be removed in a future version.\n",
      "Instructions for updating:\n",
      "Call initializer instance with the dtype argument instead of passing it to the constructor\n",
      "W1227 08:54:40.554107 140476992071424 deprecation.py:506] From /home/andrea/anaconda2/lib/python2.7/site-packages/tensorflow/python/ops/rnn_cell_impl.py:961: calling __init__ (from tensorflow.python.ops.init_ops) with dtype is deprecated and will be removed in a future version.\n",
      "Instructions for updating:\n",
      "Call initializer instance with the dtype argument instead of passing it to the constructor\n",
      "W1227 08:54:41.461493 140476992071424 deprecation.py:323] From /home/andrea/anaconda2/lib/python2.7/site-packages/tensorflow/python/ops/rnn.py:244: where (from tensorflow.python.ops.array_ops) is deprecated and will be removed in a future version.\n",
      "Instructions for updating:\n",
      "Use tf.where in 2.0, which has the same broadcast rule as np.where\n",
      "W1227 08:54:41.710129 140476992071424 deprecation_wrapper.py:119] From /home/andrea/Dropbox/CIMAT/TESIS/lstmsss/keypoints/partes/model.py:554: The name tf.nn.rnn_cell.LSTMStateTuple is deprecated. Please use tf.compat.v1.nn.rnn_cell.LSTMStateTuple instead.\n",
      "\n",
      "W1227 08:54:41.749114 140476992071424 deprecation_wrapper.py:119] From /home/andrea/Dropbox/CIMAT/TESIS/lstmsss/keypoints/partes/model.py:272: The name tf.nn.raw_rnn is deprecated. Please use tf.compat.v1.nn.raw_rnn instead.\n",
      "\n",
      "W1227 08:54:42.156120 140476992071424 deprecation_wrapper.py:119] From /home/andrea/Dropbox/CIMAT/TESIS/lstmsss/keypoints/partes/entrenamientoevaluacion.py:18: The name tf.train.exponential_decay is deprecated. Please use tf.compat.v1.train.exponential_decay instead.\n",
      "\n",
      "W1227 08:54:42.163474 140476992071424 deprecation_wrapper.py:119] From /home/andrea/Dropbox/CIMAT/TESIS/lstmsss/keypoints/partes/entrenamientoevaluacion.py:33: The name tf.train.AdamOptimizer is deprecated. Please use tf.compat.v1.train.AdamOptimizer instead.\n",
      "\n",
      "  0%|          | 0/207 [00:00<?, ?it/s]"
     ]
    },
    {
     "name": "stdout",
     "output_type": "stream",
     "text": [
      "207\n",
      "('Epoca 1.', 'lr:', 0.002)\n",
      "\tsaving model 1...\n"
     ]
    },
    {
     "name": "stderr",
     "output_type": "stream",
     "text": [
      "\n",
      "  0%|          | 0/30 [00:00<?, ?it/s]\u001b[A"
     ]
    },
    {
     "name": "stdout",
     "output_type": "stream",
     "text": [
      "\tdone\n",
      "Evaluating\n"
     ]
    },
    {
     "name": "stderr",
     "output_type": "stream",
     "text": [
      "\n",
      "  3%|3         | 1/30 [00:00<00:08,  3.41it/s]\u001b[A\n",
      " 27%|##6       | 8/30 [00:00<00:04,  4.77it/s]\u001b[A\n",
      " 47%|####6     | 14/30 [00:00<00:02,  6.58it/s]\u001b[A\n",
      " 67%|######6   | 20/30 [00:00<00:01,  8.95it/s]\u001b[A\n",
      " 93%|#########3| 28/30 [00:00<00:00, 12.19it/s]\u001b[A\n",
      "100%|##########| 30/30 [00:00<00:00, 39.45it/s]\u001b[A"
     ]
    },
    {
     "name": "stdout",
     "output_type": "stream",
     "text": [
      "{'ade': 1.4505541, 'fde': 2.6356997}\n",
      "\t last loss:-1.000000000, eval on validation:['ade: 1.4505541', 'fde: 2.6356997'], (best ade:999999 at step -1) \n",
      "\t saving best model...\n",
      "\t done.\n"
     ]
    },
    {
     "name": "stderr",
     "output_type": "stream",
     "text": [
      "100%|██████████| 207/207 [00:10<00:00, 19.23it/s]\n",
      "  0%|          | 1/207 [00:00<00:25,  8.12it/s]"
     ]
    },
    {
     "name": "stdout",
     "output_type": "stream",
     "text": [
      "('Epoca 2.', 'lr:', 0.002)\n"
     ]
    },
    {
     "name": "stderr",
     "output_type": "stream",
     "text": [
      " 44%|████▍     | 92/207 [00:03<00:04, 26.22it/s]\n",
      "  0%|          | 0/30 [00:00<?, ?it/s]\u001b[A"
     ]
    },
    {
     "name": "stdout",
     "output_type": "stream",
     "text": [
      "\tsaving model 300...\n",
      "\tdone\n",
      "Evaluating\n"
     ]
    },
    {
     "name": "stderr",
     "output_type": "stream",
     "text": [
      "\n",
      " 17%|#6        | 5/30 [00:00<00:00, 48.62it/s]\u001b[A\n",
      " 43%|####3     | 13/30 [00:00<00:00, 54.12it/s]\u001b[A\n",
      " 70%|#######   | 21/30 [00:00<00:00, 59.33it/s]\u001b[A\n",
      " 93%|#########3| 28/30 [00:00<00:00, 61.81it/s]\u001b[A\n",
      "100%|##########| 30/30 [00:00<00:00, 66.37it/s]\u001b[A"
     ]
    },
    {
     "name": "stdout",
     "output_type": "stream",
     "text": [
      "{'ade': 0.3742625, 'fde': 0.85466766}\n",
      "\t last loss:0.000359396, eval on validation:['ade: 0.3742625', 'fde: 0.85466766'], (best ade:1.4505541 at step 1) \n",
      "\t saving best model...\n",
      "\t done.\n"
     ]
    },
    {
     "name": "stderr",
     "output_type": "stream",
     "text": [
      "100%|██████████| 207/207 [00:09<00:00, 22.69it/s]\n",
      "  0%|          | 1/207 [00:00<00:24,  8.44it/s]"
     ]
    },
    {
     "name": "stdout",
     "output_type": "stream",
     "text": [
      "('Epoca 3.', 'lr:', 0.0017000001)\n"
     ]
    },
    {
     "name": "stderr",
     "output_type": "stream",
     "text": [
      " 89%|████████▉ | 185/207 [00:07<00:00, 26.01it/s]W1227 08:55:11.044651 140476992071424 deprecation.py:323] From /home/andrea/anaconda2/lib/python2.7/site-packages/tensorflow/python/training/saver.py:960: remove_checkpoint (from tensorflow.python.training.checkpoint_management) is deprecated and will be removed in a future version.\n",
      "Instructions for updating:\n",
      "Use standard file APIs to delete files with this prefix.\n",
      "\n"
     ]
    },
    {
     "name": "stdout",
     "output_type": "stream",
     "text": [
      "\tsaving model 600...\n",
      "\tdone\n",
      "Evaluating\n"
     ]
    },
    {
     "name": "stderr",
     "output_type": "stream",
     "text": [
      "  0%|          | 0/30 [00:00<?, ?it/s]\u001b[A\n",
      " 30%|###       | 9/30 [00:00<00:00, 88.11it/s]\u001b[A\n",
      " 60%|######    | 18/30 [00:00<00:00, 87.38it/s]\u001b[A\n",
      " 93%|#########3| 28/30 [00:00<00:00, 88.53it/s]\u001b[A\n",
      "100%|##########| 30/30 [00:00<00:00, 85.94it/s]\u001b[A"
     ]
    },
    {
     "name": "stdout",
     "output_type": "stream",
     "text": [
      "{'ade': 0.32667708, 'fde': 0.73946726}\n",
      "\t last loss:0.000230544, eval on validation:['ade: 0.32667708', 'fde: 0.73946726'], (best ade:0.3742625 at step 300) \n",
      "\t saving best model...\n",
      "\t done.\n"
     ]
    },
    {
     "name": "stderr",
     "output_type": "stream",
     "text": [
      "100%|██████████| 207/207 [00:09<00:00, 22.93it/s]\n",
      "  1%|▏         | 3/207 [00:00<00:08, 24.79it/s]"
     ]
    },
    {
     "name": "stdout",
     "output_type": "stream",
     "text": [
      "('Epoca 4.', 'lr:', 0.0017000001)\n"
     ]
    },
    {
     "name": "stderr",
     "output_type": "stream",
     "text": [
      "100%|██████████| 207/207 [00:08<00:00, 25.61it/s]\n",
      "  0%|          | 1/207 [00:00<00:21,  9.67it/s]"
     ]
    },
    {
     "name": "stdout",
     "output_type": "stream",
     "text": [
      "('Epoca 5.', 'lr:', 0.0014450002)\n"
     ]
    },
    {
     "name": "stderr",
     "output_type": "stream",
     "text": [
      " 34%|███▍      | 70/207 [00:02<00:05, 25.95it/s]\n",
      "  0%|          | 0/30 [00:00<?, ?it/s]\u001b[A"
     ]
    },
    {
     "name": "stdout",
     "output_type": "stream",
     "text": [
      "\tsaving model 900...\n",
      "\tdone\n",
      "Evaluating\n"
     ]
    },
    {
     "name": "stderr",
     "output_type": "stream",
     "text": [
      "\n",
      " 30%|###       | 9/30 [00:00<00:00, 81.95it/s]\u001b[A\n",
      " 60%|######    | 18/30 [00:00<00:00, 83.43it/s]\u001b[A\n",
      " 90%|######### | 27/30 [00:00<00:00, 83.68it/s]\u001b[A\n",
      "100%|##########| 30/30 [00:00<00:00, 83.56it/s]\u001b[A"
     ]
    },
    {
     "name": "stdout",
     "output_type": "stream",
     "text": [
      "{'ade': 0.3127735, 'fde': 0.6896999}\n",
      "\t last loss:0.000363863, eval on validation:['ade: 0.3127735', 'fde: 0.6896999'], (best ade:0.32667708 at step 600) \n",
      "\t saving best model...\n",
      "\t done.\n"
     ]
    },
    {
     "name": "stderr",
     "output_type": "stream",
     "text": [
      "100%|██████████| 207/207 [00:09<00:00, 22.34it/s]\n",
      "  1%|          | 2/207 [00:00<00:10, 18.65it/s]"
     ]
    },
    {
     "name": "stdout",
     "output_type": "stream",
     "text": [
      "('Epoca 6.', 'lr:', 0.0014450002)\n"
     ]
    },
    {
     "name": "stderr",
     "output_type": "stream",
     "text": [
      " 79%|███████▉  | 164/207 [00:06<00:01, 26.43it/s]\n",
      "  0%|          | 0/30 [00:00<?, ?it/s]\u001b[A"
     ]
    },
    {
     "name": "stdout",
     "output_type": "stream",
     "text": [
      "\tsaving model 1200...\n",
      "\tdone\n",
      "Evaluating\n"
     ]
    },
    {
     "name": "stderr",
     "output_type": "stream",
     "text": [
      "\n",
      " 33%|###3      | 10/30 [00:00<00:00, 92.87it/s]\u001b[A\n",
      " 63%|######3   | 19/30 [00:00<00:00, 91.33it/s]\u001b[A\n",
      " 97%|#########6| 29/30 [00:00<00:00, 91.84it/s]\u001b[A\n",
      " 81%|████████  | 167/207 [00:06<00:03, 10.86it/s]A"
     ]
    },
    {
     "name": "stdout",
     "output_type": "stream",
     "text": [
      "{'ade': 0.37673116, 'fde': 0.8619311}\n",
      "\t last loss:0.000333664, eval on validation:['ade: 0.37673116', 'fde: 0.8619311'], (best ade:0.3127735 at step 900) \n"
     ]
    },
    {
     "name": "stderr",
     "output_type": "stream",
     "text": [
      "100%|██████████| 207/207 [00:08<00:00, 24.19it/s]\n",
      "  1%|▏         | 3/207 [00:00<00:07, 25.57it/s]"
     ]
    },
    {
     "name": "stdout",
     "output_type": "stream",
     "text": [
      "('Epoca 7.', 'lr:', 0.0012282502)\n"
     ]
    },
    {
     "name": "stderr",
     "output_type": "stream",
     "text": [
      "100%|██████████| 207/207 [00:08<00:00, 24.95it/s]\n",
      "  0%|          | 1/207 [00:00<00:23,  8.76it/s]"
     ]
    },
    {
     "name": "stdout",
     "output_type": "stream",
     "text": [
      "('Epoca 8.', 'lr:', 0.0012282502)\n"
     ]
    },
    {
     "name": "stderr",
     "output_type": "stream",
     "text": [
      " 24%|██▎       | 49/207 [00:02<00:06, 24.41it/s]"
     ]
    },
    {
     "name": "stdout",
     "output_type": "stream",
     "text": [
      "\tsaving model 1500...\n"
     ]
    },
    {
     "name": "stderr",
     "output_type": "stream",
     "text": [
      "\n",
      "  0%|          | 0/30 [00:00<?, ?it/s]\u001b[A\n",
      " 27%|##6       | 8/30 [00:00<00:00, 78.61it/s]\u001b[A"
     ]
    },
    {
     "name": "stdout",
     "output_type": "stream",
     "text": [
      "\tdone\n",
      "Evaluating\n"
     ]
    },
    {
     "name": "stderr",
     "output_type": "stream",
     "text": [
      "\n",
      " 57%|#####6    | 17/30 [00:00<00:00, 79.52it/s]\u001b[A\n",
      " 87%|########6 | 26/30 [00:00<00:00, 80.53it/s]\u001b[A\n",
      " 25%|██▌       | 52/207 [00:02<00:15, 10.01it/s][A"
     ]
    },
    {
     "name": "stdout",
     "output_type": "stream",
     "text": [
      "{'ade': 0.36069375, 'fde': 0.8108905}\n",
      "\t last loss:0.000406886, eval on validation:['ade: 0.36069375', 'fde: 0.8108905'], (best ade:0.3127735 at step 900) \n"
     ]
    },
    {
     "name": "stderr",
     "output_type": "stream",
     "text": [
      "100%|██████████| 207/207 [00:08<00:00, 23.39it/s]\n",
      "  0%|          | 1/207 [00:00<00:20,  9.89it/s]"
     ]
    },
    {
     "name": "stdout",
     "output_type": "stream",
     "text": [
      "('Epoca 9.', 'lr:', 0.0010440127)\n"
     ]
    },
    {
     "name": "stderr",
     "output_type": "stream",
     "text": [
      " 69%|██████▊   | 142/207 [00:05<00:02, 26.41it/s]\n",
      "  0%|          | 0/30 [00:00<?, ?it/s]\u001b[A"
     ]
    },
    {
     "name": "stdout",
     "output_type": "stream",
     "text": [
      "\tsaving model 1800...\n",
      "\tdone\n",
      "Evaluating\n"
     ]
    },
    {
     "name": "stderr",
     "output_type": "stream",
     "text": [
      "\n",
      " 30%|###       | 9/30 [00:00<00:00, 83.36it/s]\u001b[A\n",
      " 60%|######    | 18/30 [00:00<00:00, 84.86it/s]\u001b[A\n",
      " 93%|#########3| 28/30 [00:00<00:00, 87.24it/s]\u001b[A\n",
      " 70%|███████   | 145/207 [00:06<00:05, 10.84it/s]A"
     ]
    },
    {
     "name": "stdout",
     "output_type": "stream",
     "text": [
      "{'ade': 0.3700126, 'fde': 0.8337453}\n",
      "\t last loss:0.000211782, eval on validation:['ade: 0.3700126', 'fde: 0.8337453'], (best ade:0.3127735 at step 900) \n"
     ]
    },
    {
     "name": "stderr",
     "output_type": "stream",
     "text": [
      "100%|██████████| 207/207 [00:08<00:00, 24.12it/s]\n",
      "  1%|▏         | 3/207 [00:00<00:08, 24.93it/s]"
     ]
    },
    {
     "name": "stdout",
     "output_type": "stream",
     "text": [
      "('Epoca 10.', 'lr:', 0.0010440127)\n"
     ]
    },
    {
     "name": "stderr",
     "output_type": "stream",
     "text": [
      "100%|██████████| 207/207 [00:08<00:00, 26.41it/s]\n",
      "  1%|▏         | 3/207 [00:00<00:07, 26.19it/s]"
     ]
    },
    {
     "name": "stdout",
     "output_type": "stream",
     "text": [
      "('Epoca 11.', 'lr:', 0.0008874108)\n"
     ]
    },
    {
     "name": "stderr",
     "output_type": "stream",
     "text": [
      " 13%|█▎        | 27/207 [00:01<00:06, 26.05it/s]\n",
      "  0%|          | 0/30 [00:00<?, ?it/s]\u001b[A"
     ]
    },
    {
     "name": "stdout",
     "output_type": "stream",
     "text": [
      "\tsaving model 2100...\n",
      "\tdone\n",
      "Evaluating\n"
     ]
    },
    {
     "name": "stderr",
     "output_type": "stream",
     "text": [
      "\n",
      " 30%|###       | 9/30 [00:00<00:00, 85.88it/s]\u001b[A\n",
      " 63%|######3   | 19/30 [00:00<00:00, 87.67it/s]\u001b[A\n",
      " 97%|#########6| 29/30 [00:00<00:00, 88.89it/s]\u001b[A\n",
      " 16%|█▌        | 33/207 [00:01<00:13, 13.12it/s][A"
     ]
    },
    {
     "name": "stdout",
     "output_type": "stream",
     "text": [
      "{'ade': 0.31277722, 'fde': 0.68923366}\n",
      "\t last loss:0.000352373, eval on validation:['ade: 0.31277722', 'fde: 0.68923366'], (best ade:0.3127735 at step 900) \n"
     ]
    },
    {
     "name": "stderr",
     "output_type": "stream",
     "text": [
      "100%|██████████| 207/207 [00:08<00:00, 26.22it/s]\n",
      "  1%|          | 2/207 [00:00<00:10, 19.77it/s]"
     ]
    },
    {
     "name": "stdout",
     "output_type": "stream",
     "text": [
      "('Epoca 12.', 'lr:', 0.0008874108)\n"
     ]
    },
    {
     "name": "stderr",
     "output_type": "stream",
     "text": [
      " 59%|█████▉    | 122/207 [00:04<00:03, 25.98it/s]\n",
      "  0%|          | 0/30 [00:00<?, ?it/s]\u001b[A"
     ]
    },
    {
     "name": "stdout",
     "output_type": "stream",
     "text": [
      "\tsaving model 2400...\n",
      "\tdone\n",
      "Evaluating\n"
     ]
    },
    {
     "name": "stderr",
     "output_type": "stream",
     "text": [
      "\n",
      " 30%|###       | 9/30 [00:00<00:00, 89.64it/s]\u001b[A\n",
      " 63%|######3   | 19/30 [00:00<00:00, 90.47it/s]\u001b[A\n",
      " 97%|#########6| 29/30 [00:00<00:00, 90.85it/s]\u001b[A\n",
      " 60%|██████    | 125/207 [00:05<00:07, 10.72it/s]A"
     ]
    },
    {
     "name": "stdout",
     "output_type": "stream",
     "text": [
      "{'ade': 0.3398425, 'fde': 0.7634688}\n",
      "\t last loss:0.000304042, eval on validation:['ade: 0.3398425', 'fde: 0.7634688'], (best ade:0.3127735 at step 900) \n"
     ]
    },
    {
     "name": "stderr",
     "output_type": "stream",
     "text": [
      "100%|██████████| 207/207 [00:09<00:00, 18.53it/s]\n",
      "  1%|          | 2/207 [00:00<00:11, 18.32it/s]"
     ]
    },
    {
     "name": "stdout",
     "output_type": "stream",
     "text": [
      "('Epoca 13.', 'lr:', 0.0007542992)\n"
     ]
    },
    {
     "name": "stderr",
     "output_type": "stream",
     "text": [
      "100%|██████████| 207/207 [00:09<00:00, 21.94it/s]\n",
      "  1%|▏         | 3/207 [00:00<00:09, 21.12it/s]"
     ]
    },
    {
     "name": "stdout",
     "output_type": "stream",
     "text": [
      "('Epoca 14.', 'lr:', 0.0007542992)\n"
     ]
    },
    {
     "name": "stderr",
     "output_type": "stream",
     "text": [
      "  4%|▍         | 8/207 [00:00<00:09, 20.63it/s]\n",
      "  0%|          | 0/30 [00:00<?, ?it/s]"
     ]
    },
    {
     "name": "stdout",
     "output_type": "stream",
     "text": [
      "\tsaving model 2700...\n",
      "\tdone\n",
      "Evaluating\n"
     ]
    },
    {
     "name": "stderr",
     "output_type": "stream",
     "text": [
      "\u001b[A\n",
      " 27%|##6       | 8/30 [00:00<00:00, 78.89it/s]\u001b[A\n",
      " 60%|######    | 18/30 [00:00<00:00, 82.58it/s]\u001b[A\n",
      " 90%|######### | 27/30 [00:00<00:00, 84.59it/s]\u001b[A\n",
      "  6%|▋         | 13/207 [00:01<00:19,  9.78it/s][A"
     ]
    },
    {
     "name": "stdout",
     "output_type": "stream",
     "text": [
      "{'ade': 0.31953222, 'fde': 0.7035702}\n",
      "\t last loss:0.000323695, eval on validation:['ade: 0.31953222', 'fde: 0.7035702'], (best ade:0.3127735 at step 900) \n"
     ]
    },
    {
     "name": "stderr",
     "output_type": "stream",
     "text": [
      "100%|██████████| 207/207 [00:09<00:00, 25.94it/s]\n",
      "  0%|          | 1/207 [00:00<00:20,  9.95it/s]"
     ]
    },
    {
     "name": "stdout",
     "output_type": "stream",
     "text": [
      "('Epoca 15.', 'lr:', 0.0006411543)\n"
     ]
    },
    {
     "name": "stderr",
     "output_type": "stream",
     "text": [
      " 48%|████▊     | 100/207 [00:03<00:04, 25.16it/s]"
     ]
    },
    {
     "name": "stdout",
     "output_type": "stream",
     "text": [
      "\tsaving model 3000...\n"
     ]
    },
    {
     "name": "stderr",
     "output_type": "stream",
     "text": [
      "\n",
      "  0%|          | 0/30 [00:00<?, ?it/s]\u001b[A\n",
      " 30%|###       | 9/30 [00:00<00:00, 83.48it/s]\u001b[A"
     ]
    },
    {
     "name": "stdout",
     "output_type": "stream",
     "text": [
      "\tdone\n",
      "Evaluating\n"
     ]
    },
    {
     "name": "stderr",
     "output_type": "stream",
     "text": [
      "\n",
      " 57%|#####6    | 17/30 [00:00<00:00, 81.71it/s]\u001b[A\n",
      " 87%|########6 | 26/30 [00:00<00:00, 81.58it/s]\u001b[A\n",
      " 51%|█████     | 105/207 [00:04<00:08, 11.62it/s]A"
     ]
    },
    {
     "name": "stdout",
     "output_type": "stream",
     "text": [
      "{'ade': 0.3370312, 'fde': 0.7566802}\n",
      "\t last loss:0.000302928, eval on validation:['ade: 0.3370312', 'fde: 0.7566802'], (best ade:0.3127735 at step 900) \n"
     ]
    },
    {
     "name": "stderr",
     "output_type": "stream",
     "text": [
      "100%|██████████| 207/207 [00:08<00:00, 26.22it/s]\n",
      "  0%|          | 1/207 [00:00<00:21,  9.70it/s]"
     ]
    },
    {
     "name": "stdout",
     "output_type": "stream",
     "text": [
      "('Epoca 16.', 'lr:', 0.0006411543)\n"
     ]
    },
    {
     "name": "stderr",
     "output_type": "stream",
     "text": [
      " 93%|█████████▎| 193/207 [00:07<00:00, 26.14it/s]\n",
      "  0%|          | 0/30 [00:00<?, ?it/s]\u001b[A"
     ]
    },
    {
     "name": "stdout",
     "output_type": "stream",
     "text": [
      "\tsaving model 3300...\n",
      "\tdone\n",
      "Evaluating\n"
     ]
    },
    {
     "name": "stderr",
     "output_type": "stream",
     "text": [
      "\n",
      " 33%|###3      | 10/30 [00:00<00:00, 91.58it/s]\u001b[A\n",
      " 67%|######6   | 20/30 [00:00<00:00, 91.55it/s]\u001b[A\n",
      " 95%|█████████▍| 196/207 [00:08<00:00, 11.02it/s]A"
     ]
    },
    {
     "name": "stdout",
     "output_type": "stream",
     "text": [
      "{'ade': 0.36071813, 'fde': 0.8269331}\n",
      "\t last loss:0.000358525, eval on validation:['ade: 0.36071813', 'fde: 0.8269331'], (best ade:0.3127735 at step 900) \n"
     ]
    },
    {
     "name": "stderr",
     "output_type": "stream",
     "text": [
      "100%|██████████| 207/207 [00:08<00:00, 23.40it/s]\n",
      "  0%|          | 1/207 [00:00<00:22,  9.00it/s]"
     ]
    },
    {
     "name": "stdout",
     "output_type": "stream",
     "text": [
      "('Epoca 17.', 'lr:', 0.0005449812)\n"
     ]
    },
    {
     "name": "stderr",
     "output_type": "stream",
     "text": [
      "100%|██████████| 207/207 [00:08<00:00, 24.99it/s]\n",
      "  1%|▏         | 3/207 [00:00<00:08, 22.87it/s]"
     ]
    },
    {
     "name": "stdout",
     "output_type": "stream",
     "text": [
      "('Epoca 18.', 'lr:', 0.0005449812)\n"
     ]
    },
    {
     "name": "stderr",
     "output_type": "stream",
     "text": [
      " 38%|███▊      | 78/207 [00:03<00:05, 24.63it/s]"
     ]
    },
    {
     "name": "stdout",
     "output_type": "stream",
     "text": [
      "\tsaving model 3600...\n"
     ]
    },
    {
     "name": "stderr",
     "output_type": "stream",
     "text": [
      "\n",
      "  0%|          | 0/30 [00:00<?, ?it/s]\u001b[A\n",
      " 30%|###       | 9/30 [00:00<00:00, 87.69it/s]\u001b[A"
     ]
    },
    {
     "name": "stdout",
     "output_type": "stream",
     "text": [
      "\tdone\n",
      "Evaluating\n"
     ]
    },
    {
     "name": "stderr",
     "output_type": "stream",
     "text": [
      "\n",
      " 60%|######    | 18/30 [00:00<00:00, 85.59it/s]\u001b[A\n",
      " 90%|######### | 27/30 [00:00<00:00, 84.73it/s]\u001b[A\n",
      " 41%|████      | 84/207 [00:03<00:10, 11.92it/s][A"
     ]
    },
    {
     "name": "stdout",
     "output_type": "stream",
     "text": [
      "{'ade': 0.34689566, 'fde': 0.77648246}\n",
      "\t last loss:0.000380222, eval on validation:['ade: 0.34689566', 'fde: 0.77648246'], (best ade:0.3127735 at step 900) \n"
     ]
    },
    {
     "name": "stderr",
     "output_type": "stream",
     "text": [
      "100%|██████████| 207/207 [00:08<00:00, 23.10it/s]\n",
      "  1%|          | 2/207 [00:00<00:14, 14.59it/s]"
     ]
    },
    {
     "name": "stdout",
     "output_type": "stream",
     "text": [
      "('Epoca 19.', 'lr:', 0.00046323403)\n"
     ]
    },
    {
     "name": "stderr",
     "output_type": "stream",
     "text": [
      " 84%|████████▎ | 173/207 [00:06<00:01, 26.09it/s]"
     ]
    },
    {
     "name": "stdout",
     "output_type": "stream",
     "text": [
      "\tsaving model 3900...\n"
     ]
    },
    {
     "name": "stderr",
     "output_type": "stream",
     "text": [
      "\n",
      "  0%|          | 0/30 [00:00<?, ?it/s]\u001b[A\n",
      " 30%|###       | 9/30 [00:00<00:00, 87.55it/s]\u001b[A"
     ]
    },
    {
     "name": "stdout",
     "output_type": "stream",
     "text": [
      "\tdone\n",
      "Evaluating\n"
     ]
    },
    {
     "name": "stderr",
     "output_type": "stream",
     "text": [
      "\n",
      " 60%|######    | 18/30 [00:00<00:00, 87.84it/s]\u001b[A\n",
      " 93%|#########3| 28/30 [00:00<00:00, 88.75it/s]\u001b[A\n",
      " 85%|████████▌ | 176/207 [00:07<00:02, 10.54it/s]A"
     ]
    },
    {
     "name": "stdout",
     "output_type": "stream",
     "text": [
      "{'ade': 0.3338863, 'fde': 0.74697936}\n",
      "\t last loss:0.000391841, eval on validation:['ade: 0.3338863', 'fde: 0.74697936'], (best ade:0.3127735 at step 900) \n"
     ]
    },
    {
     "name": "stderr",
     "output_type": "stream",
     "text": [
      "100%|██████████| 207/207 [00:08<00:00, 23.98it/s]\n",
      "  0%|          | 1/207 [00:00<00:25,  7.95it/s]"
     ]
    },
    {
     "name": "stdout",
     "output_type": "stream",
     "text": [
      "('Epoca 20.', 'lr:', 0.00046323403)\n"
     ]
    },
    {
     "name": "stderr",
     "output_type": "stream",
     "text": [
      "100%|██████████| 207/207 [00:08<00:00, 25.00it/s]\n",
      "  1%|▏         | 3/207 [00:00<00:08, 22.88it/s]"
     ]
    },
    {
     "name": "stdout",
     "output_type": "stream",
     "text": [
      "('Epoca 21.', 'lr:', 0.00039374892)\n"
     ]
    },
    {
     "name": "stderr",
     "output_type": "stream",
     "text": [
      " 28%|██▊       | 57/207 [00:02<00:05, 26.29it/s]\n",
      "  0%|          | 0/30 [00:00<?, ?it/s]\u001b[A"
     ]
    },
    {
     "name": "stdout",
     "output_type": "stream",
     "text": [
      "\tsaving model 4200...\n",
      "\tdone\n",
      "Evaluating\n"
     ]
    },
    {
     "name": "stderr",
     "output_type": "stream",
     "text": [
      "\n",
      " 27%|##6       | 8/30 [00:00<00:00, 79.92it/s]\u001b[A\n",
      " 60%|######    | 18/30 [00:00<00:00, 83.26it/s]\u001b[A\n",
      " 93%|#########3| 28/30 [00:00<00:00, 85.51it/s]\u001b[A\n",
      "100%|##########| 30/30 [00:00<00:00, 86.78it/s]\u001b[A"
     ]
    },
    {
     "name": "stdout",
     "output_type": "stream",
     "text": [
      "{'ade': 0.30655065, 'fde': 0.67313284}\n",
      "\t last loss:0.000203096, eval on validation:['ade: 0.30655065', 'fde: 0.67313284'], (best ade:0.3127735 at step 900) \n",
      "\t saving best model...\n",
      "\t done.\n"
     ]
    },
    {
     "name": "stderr",
     "output_type": "stream",
     "text": [
      "100%|██████████| 207/207 [00:09<00:00, 22.80it/s]\n",
      "  0%|          | 1/207 [00:00<00:21,  9.42it/s]"
     ]
    },
    {
     "name": "stdout",
     "output_type": "stream",
     "text": [
      "('Epoca 22.', 'lr:', 0.00039374892)\n"
     ]
    },
    {
     "name": "stderr",
     "output_type": "stream",
     "text": [
      " 73%|███████▎  | 151/207 [00:06<00:02, 24.71it/s]"
     ]
    },
    {
     "name": "stdout",
     "output_type": "stream",
     "text": [
      "\tsaving model 4500...\n"
     ]
    },
    {
     "name": "stderr",
     "output_type": "stream",
     "text": [
      "\n",
      "  0%|          | 0/30 [00:00<?, ?it/s]\u001b[A\n",
      " 30%|###       | 9/30 [00:00<00:00, 84.75it/s]\u001b[A"
     ]
    },
    {
     "name": "stdout",
     "output_type": "stream",
     "text": [
      "\tdone\n",
      "Evaluating\n"
     ]
    },
    {
     "name": "stderr",
     "output_type": "stream",
     "text": [
      "\n",
      " 60%|######    | 18/30 [00:00<00:00, 83.61it/s]\u001b[A\n",
      " 90%|######### | 27/30 [00:00<00:00, 83.54it/s]\u001b[A\n",
      "100%|##########| 30/30 [00:00<00:00, 82.08it/s]\u001b[A"
     ]
    },
    {
     "name": "stdout",
     "output_type": "stream",
     "text": [
      "{'ade': 0.30208513, 'fde': 0.6691137}\n",
      "\t last loss:0.000206000, eval on validation:['ade: 0.30208513', 'fde: 0.6691137'], (best ade:0.30655065 at step 4200) \n",
      "\t saving best model...\n",
      "\t done.\n"
     ]
    },
    {
     "name": "stderr",
     "output_type": "stream",
     "text": [
      "100%|██████████| 207/207 [00:09<00:00, 22.68it/s]\n",
      "  0%|          | 1/207 [00:00<00:21,  9.40it/s]"
     ]
    },
    {
     "name": "stdout",
     "output_type": "stream",
     "text": [
      "('Epoca 23.', 'lr:', 0.0003346866)\n"
     ]
    },
    {
     "name": "stderr",
     "output_type": "stream",
     "text": [
      "100%|██████████| 207/207 [00:08<00:00, 25.13it/s]\n",
      "  0%|          | 1/207 [00:00<00:23,  8.65it/s]"
     ]
    },
    {
     "name": "stdout",
     "output_type": "stream",
     "text": [
      "('Epoca 24.', 'lr:', 0.0003346866)\n"
     ]
    },
    {
     "name": "stderr",
     "output_type": "stream",
     "text": [
      " 18%|█▊        | 37/207 [00:01<00:06, 24.47it/s]"
     ]
    },
    {
     "name": "stdout",
     "output_type": "stream",
     "text": [
      "\tsaving model 4800...\n"
     ]
    },
    {
     "name": "stderr",
     "output_type": "stream",
     "text": [
      "\n",
      "  0%|          | 0/30 [00:00<?, ?it/s]\u001b[A\n",
      " 30%|###       | 9/30 [00:00<00:00, 82.47it/s]\u001b[A"
     ]
    },
    {
     "name": "stdout",
     "output_type": "stream",
     "text": [
      "\tdone\n",
      "Evaluating\n"
     ]
    },
    {
     "name": "stderr",
     "output_type": "stream",
     "text": [
      "\n",
      " 60%|######    | 18/30 [00:00<00:00, 82.78it/s]\u001b[A\n",
      " 90%|######### | 27/30 [00:00<00:00, 83.01it/s]\u001b[A\n",
      " 19%|█▉        | 40/207 [00:02<00:16, 10.00it/s][A"
     ]
    },
    {
     "name": "stdout",
     "output_type": "stream",
     "text": [
      "{'ade': 0.33216172, 'fde': 0.7423417}\n",
      "\t last loss:0.000404023, eval on validation:['ade: 0.33216172', 'fde: 0.7423417'], (best ade:0.30208513 at step 4500) \n"
     ]
    },
    {
     "name": "stderr",
     "output_type": "stream",
     "text": [
      "100%|██████████| 207/207 [00:08<00:00, 23.29it/s]\n",
      "  0%|          | 1/207 [00:00<00:22,  9.27it/s]"
     ]
    },
    {
     "name": "stdout",
     "output_type": "stream",
     "text": [
      "('Epoca 25.', 'lr:', 0.00028448363)\n"
     ]
    },
    {
     "name": "stderr",
     "output_type": "stream",
     "text": [
      " 63%|██████▎   | 130/207 [00:05<00:02, 26.28it/s]\n",
      "  0%|          | 0/30 [00:00<?, ?it/s]\u001b[A"
     ]
    },
    {
     "name": "stdout",
     "output_type": "stream",
     "text": [
      "\tsaving model 5100...\n",
      "\tdone\n",
      "Evaluating\n"
     ]
    },
    {
     "name": "stderr",
     "output_type": "stream",
     "text": [
      "\n",
      " 30%|###       | 9/30 [00:00<00:00, 88.10it/s]\u001b[A\n",
      " 63%|######3   | 19/30 [00:00<00:00, 89.78it/s]\u001b[A\n",
      " 93%|#########3| 28/30 [00:00<00:00, 89.81it/s]\u001b[A\n",
      " 64%|██████▍   | 133/207 [00:05<00:06, 10.76it/s]A"
     ]
    },
    {
     "name": "stdout",
     "output_type": "stream",
     "text": [
      "{'ade': 0.32893893, 'fde': 0.73769116}\n",
      "\t last loss:0.000460537, eval on validation:['ade: 0.32893893', 'fde: 0.73769116'], (best ade:0.30208513 at step 4500) \n"
     ]
    },
    {
     "name": "stderr",
     "output_type": "stream",
     "text": [
      "100%|██████████| 207/207 [00:08<00:00, 23.24it/s]\n",
      "  1%|          | 2/207 [00:00<00:13, 15.58it/s]"
     ]
    },
    {
     "name": "stdout",
     "output_type": "stream",
     "text": [
      "('Epoca 26.', 'lr:', 0.00028448363)\n"
     ]
    },
    {
     "name": "stderr",
     "output_type": "stream",
     "text": [
      "100%|██████████| 207/207 [00:08<00:00, 25.29it/s]\n",
      "  1%|▏         | 3/207 [00:00<00:08, 23.77it/s]"
     ]
    },
    {
     "name": "stdout",
     "output_type": "stream",
     "text": [
      "('Epoca 27.', 'lr:', 0.0002418111)\n"
     ]
    },
    {
     "name": "stderr",
     "output_type": "stream",
     "text": [
      "  7%|▋         | 15/207 [00:00<00:07, 24.30it/s]\n",
      "  0%|          | 0/30 [00:00<?, ?it/s]\u001b[A"
     ]
    },
    {
     "name": "stdout",
     "output_type": "stream",
     "text": [
      "\tsaving model 5400...\n",
      "\tdone\n",
      "Evaluating\n"
     ]
    },
    {
     "name": "stderr",
     "output_type": "stream",
     "text": [
      "\n",
      " 30%|###       | 9/30 [00:00<00:00, 84.57it/s]\u001b[A\n",
      " 60%|######    | 18/30 [00:00<00:00, 84.29it/s]\u001b[A\n",
      " 90%|######### | 27/30 [00:00<00:00, 84.27it/s]\u001b[A\n",
      " 10%|█         | 21/207 [00:01<00:15, 12.36it/s][A"
     ]
    },
    {
     "name": "stdout",
     "output_type": "stream",
     "text": [
      "{'ade': 0.30785063, 'fde': 0.67652464}\n",
      "\t last loss:0.000244572, eval on validation:['ade: 0.30785063', 'fde: 0.67652464'], (best ade:0.30208513 at step 4500) \n"
     ]
    },
    {
     "name": "stderr",
     "output_type": "stream",
     "text": [
      "100%|██████████| 207/207 [00:08<00:00, 23.43it/s]\n",
      "  1%|▏         | 3/207 [00:00<00:08, 23.70it/s]"
     ]
    },
    {
     "name": "stdout",
     "output_type": "stream",
     "text": [
      "('Epoca 28.', 'lr:', 0.0002418111)\n"
     ]
    },
    {
     "name": "stderr",
     "output_type": "stream",
     "text": [
      " 52%|█████▏    | 108/207 [00:04<00:04, 23.38it/s]"
     ]
    },
    {
     "name": "stdout",
     "output_type": "stream",
     "text": [
      "\tsaving model 5700...\n"
     ]
    },
    {
     "name": "stderr",
     "output_type": "stream",
     "text": [
      "\n",
      "  0%|          | 0/30 [00:00<?, ?it/s]\u001b[A\n",
      " 33%|###3      | 10/30 [00:00<00:00, 92.13it/s]\u001b[A"
     ]
    },
    {
     "name": "stdout",
     "output_type": "stream",
     "text": [
      "\tdone\n",
      "Evaluating\n"
     ]
    },
    {
     "name": "stderr",
     "output_type": "stream",
     "text": [
      "\n",
      " 63%|######3   | 19/30 [00:00<00:00, 90.99it/s]\u001b[A\n",
      " 93%|#########3| 28/30 [00:00<00:00, 89.23it/s]\u001b[A\n",
      " 55%|█████▌    | 114/207 [00:05<00:07, 11.70it/s]A"
     ]
    },
    {
     "name": "stdout",
     "output_type": "stream",
     "text": [
      "{'ade': 0.30377987, 'fde': 0.6736767}\n",
      "\t last loss:0.000145145, eval on validation:['ade: 0.30377987', 'fde: 0.6736767'], (best ade:0.30208513 at step 4500) \n"
     ]
    },
    {
     "name": "stderr",
     "output_type": "stream",
     "text": [
      "100%|██████████| 207/207 [00:08<00:00, 24.54it/s]\n",
      "  1%|          | 2/207 [00:00<00:10, 19.58it/s]"
     ]
    },
    {
     "name": "stdout",
     "output_type": "stream",
     "text": [
      "('Epoca 29.', 'lr:', 0.00020553943)\n"
     ]
    },
    {
     "name": "stderr",
     "output_type": "stream",
     "text": [
      " 98%|█████████▊| 203/207 [00:07<00:00, 24.56it/s]\n",
      "  0%|          | 0/30 [00:00<?, ?it/s]\u001b[A"
     ]
    },
    {
     "name": "stdout",
     "output_type": "stream",
     "text": [
      "\tsaving model 6000...\n",
      "\tdone\n",
      "Evaluating\n"
     ]
    },
    {
     "name": "stderr",
     "output_type": "stream",
     "text": [
      "\n",
      " 30%|###       | 9/30 [00:00<00:00, 82.07it/s]\u001b[A\n",
      " 60%|######    | 18/30 [00:00<00:00, 82.21it/s]\u001b[A\n",
      " 90%|######### | 27/30 [00:00<00:00, 82.88it/s]\u001b[A\n",
      "100%|██████████| 207/207 [00:08<00:00, 23.60it/s]A\n",
      "  0%|          | 0/207 [00:00<?, ?it/s]"
     ]
    },
    {
     "name": "stdout",
     "output_type": "stream",
     "text": [
      "{'ade': 0.34700054, 'fde': 0.7886869}\n",
      "\t last loss:0.000349972, eval on validation:['ade: 0.34700054', 'fde: 0.7886869'], (best ade:0.30208513 at step 4500) \n",
      "('Epoca 30.', 'lr:', 0.00020553943)\n"
     ]
    },
    {
     "name": "stderr",
     "output_type": "stream",
     "text": [
      "100%|██████████| 207/207 [00:08<00:00, 24.62it/s]\n",
      "  1%|▏         | 3/207 [00:00<00:08, 23.76it/s]"
     ]
    },
    {
     "name": "stdout",
     "output_type": "stream",
     "text": [
      "('Epoca 31.', 'lr:', 0.00017470852)\n"
     ]
    },
    {
     "name": "stderr",
     "output_type": "stream",
     "text": [
      " 42%|████▏     | 87/207 [00:03<00:04, 26.34it/s]\n",
      "  0%|          | 0/30 [00:00<?, ?it/s]\u001b[A"
     ]
    },
    {
     "name": "stdout",
     "output_type": "stream",
     "text": [
      "\tsaving model 6300...\n",
      "\tdone\n",
      "Evaluating\n"
     ]
    },
    {
     "name": "stderr",
     "output_type": "stream",
     "text": [
      "\n",
      " 30%|###       | 9/30 [00:00<00:00, 87.37it/s]\u001b[A\n",
      " 63%|######3   | 19/30 [00:00<00:00, 88.70it/s]\u001b[A\n",
      " 93%|#########3| 28/30 [00:00<00:00, 88.71it/s]\u001b[A\n",
      " 45%|████▍     | 93/207 [00:04<00:08, 13.18it/s][A"
     ]
    },
    {
     "name": "stdout",
     "output_type": "stream",
     "text": [
      "{'ade': 0.3061559, 'fde': 0.67403793}\n",
      "\t last loss:0.000214787, eval on validation:['ade: 0.3061559', 'fde: 0.67403793'], (best ade:0.30208513 at step 4500) \n"
     ]
    },
    {
     "name": "stderr",
     "output_type": "stream",
     "text": [
      "100%|██████████| 207/207 [00:08<00:00, 25.53it/s]\n",
      "  1%|▏         | 3/207 [00:00<00:08, 25.17it/s]"
     ]
    },
    {
     "name": "stdout",
     "output_type": "stream",
     "text": [
      "('Epoca 32.', 'lr:', 0.00017470852)\n"
     ]
    },
    {
     "name": "stderr",
     "output_type": "stream",
     "text": [
      " 87%|████████▋ | 180/207 [00:07<00:01, 23.43it/s]"
     ]
    },
    {
     "name": "stdout",
     "output_type": "stream",
     "text": [
      "\tsaving model 6600...\n"
     ]
    },
    {
     "name": "stderr",
     "output_type": "stream",
     "text": [
      "\n",
      "  0%|          | 0/30 [00:00<?, ?it/s]\u001b[A\n",
      " 30%|###       | 9/30 [00:00<00:00, 81.35it/s]\u001b[A"
     ]
    },
    {
     "name": "stdout",
     "output_type": "stream",
     "text": [
      "\tdone\n",
      "Evaluating\n"
     ]
    },
    {
     "name": "stderr",
     "output_type": "stream",
     "text": [
      "\n",
      " 60%|######    | 18/30 [00:00<00:00, 82.29it/s]\u001b[A\n",
      " 90%|######### | 27/30 [00:00<00:00, 84.00it/s]\u001b[A\n",
      " 90%|████████▉ | 186/207 [00:08<00:01, 12.33it/s]A"
     ]
    },
    {
     "name": "stdout",
     "output_type": "stream",
     "text": [
      "{'ade': 0.3107558, 'fde': 0.687376}\n",
      "\t last loss:0.000353979, eval on validation:['ade: 0.3107558', 'fde: 0.687376'], (best ade:0.30208513 at step 4500) \n"
     ]
    },
    {
     "name": "stderr",
     "output_type": "stream",
     "text": [
      "100%|██████████| 207/207 [00:08<00:00, 23.71it/s]\n",
      "  1%|▏         | 3/207 [00:00<00:08, 25.37it/s]"
     ]
    },
    {
     "name": "stdout",
     "output_type": "stream",
     "text": [
      "('Epoca 33.', 'lr:', 0.00014850224)\n"
     ]
    },
    {
     "name": "stderr",
     "output_type": "stream",
     "text": [
      "100%|██████████| 207/207 [00:07<00:00, 26.24it/s]\n",
      "  1%|▏         | 3/207 [00:00<00:07, 25.66it/s]"
     ]
    },
    {
     "name": "stdout",
     "output_type": "stream",
     "text": [
      "('Epoca 34.', 'lr:', 0.00014850224)\n"
     ]
    },
    {
     "name": "stderr",
     "output_type": "stream",
     "text": [
      " 32%|███▏      | 66/207 [00:02<00:05, 26.22it/s]\n",
      "  0%|          | 0/30 [00:00<?, ?it/s]\u001b[A"
     ]
    },
    {
     "name": "stdout",
     "output_type": "stream",
     "text": [
      "\tsaving model 6900...\n",
      "\tdone\n",
      "Evaluating\n"
     ]
    },
    {
     "name": "stderr",
     "output_type": "stream",
     "text": [
      "\n",
      " 30%|###       | 9/30 [00:00<00:00, 84.27it/s]\u001b[A\n",
      " 60%|######    | 18/30 [00:00<00:00, 83.57it/s]\u001b[A\n",
      " 90%|######### | 27/30 [00:00<00:00, 83.73it/s]\u001b[A\n",
      " 34%|███▍      | 71/207 [00:03<00:11, 11.95it/s][A"
     ]
    },
    {
     "name": "stdout",
     "output_type": "stream",
     "text": [
      "{'ade': 0.30405304, 'fde': 0.6715851}\n",
      "\t last loss:0.000114535, eval on validation:['ade: 0.30405304', 'fde: 0.6715851'], (best ade:0.30208513 at step 4500) \n"
     ]
    },
    {
     "name": "stderr",
     "output_type": "stream",
     "text": [
      "100%|██████████| 207/207 [00:08<00:00, 23.37it/s]\n",
      "  0%|          | 1/207 [00:00<00:20,  9.85it/s]"
     ]
    },
    {
     "name": "stdout",
     "output_type": "stream",
     "text": [
      "('Epoca 35.', 'lr:', 0.0001262269)\n"
     ]
    },
    {
     "name": "stderr",
     "output_type": "stream",
     "text": [
      " 78%|███████▊  | 161/207 [00:08<00:02, 18.83it/s]"
     ]
    },
    {
     "name": "stdout",
     "output_type": "stream",
     "text": [
      "\tsaving model 7200...\n"
     ]
    },
    {
     "name": "stderr",
     "output_type": "stream",
     "text": [
      "\n",
      "  0%|          | 0/30 [00:00<?, ?it/s]\u001b[A\n",
      " 20%|##        | 6/30 [00:00<00:00, 59.22it/s]\u001b[A"
     ]
    },
    {
     "name": "stdout",
     "output_type": "stream",
     "text": [
      "\tdone\n",
      "Evaluating\n"
     ]
    },
    {
     "name": "stderr",
     "output_type": "stream",
     "text": [
      "\n",
      " 40%|####      | 12/30 [00:00<00:00, 58.04it/s]\u001b[A\n",
      " 63%|######3   | 19/30 [00:00<00:00, 59.79it/s]\u001b[A\n",
      " 87%|########6 | 26/30 [00:00<00:00, 61.61it/s]\u001b[A\n",
      "100%|##########| 30/30 [00:00<00:00, 61.34it/s]\u001b[A"
     ]
    },
    {
     "name": "stdout",
     "output_type": "stream",
     "text": [
      "{'ade': 0.29927942, 'fde': 0.66145986}\n",
      "\t last loss:0.000267945, eval on validation:['ade: 0.29927942', 'fde: 0.66145986'], (best ade:0.30208513 at step 4500) \n",
      "\t saving best model...\n"
     ]
    },
    {
     "name": "stderr",
     "output_type": "stream",
     "text": [
      "\r",
      " 79%|███████▊  | 163/207 [00:09<00:08,  5.06it/s]"
     ]
    },
    {
     "name": "stdout",
     "output_type": "stream",
     "text": [
      "\t done.\n"
     ]
    },
    {
     "name": "stderr",
     "output_type": "stream",
     "text": [
      "100%|██████████| 207/207 [00:11<00:00, 17.45it/s]\n",
      "  0%|          | 1/207 [00:00<00:20,  9.94it/s]"
     ]
    },
    {
     "name": "stdout",
     "output_type": "stream",
     "text": [
      "('Epoca 36.', 'lr:', 0.0001262269)\n"
     ]
    },
    {
     "name": "stderr",
     "output_type": "stream",
     "text": [
      "100%|██████████| 207/207 [00:08<00:00, 25.27it/s]\n",
      "  1%|          | 2/207 [00:00<00:13, 14.69it/s]"
     ]
    },
    {
     "name": "stdout",
     "output_type": "stream",
     "text": [
      "('Epoca 37.', 'lr:', 0.00010729288)\n"
     ]
    },
    {
     "name": "stderr",
     "output_type": "stream",
     "text": [
      " 23%|██▎       | 47/207 [00:01<00:05, 26.67it/s]\n",
      "  0%|          | 0/30 [00:00<?, ?it/s]\u001b[A"
     ]
    },
    {
     "name": "stdout",
     "output_type": "stream",
     "text": [
      "\tsaving model 7500...\n",
      "\tdone\n",
      "Evaluating\n"
     ]
    },
    {
     "name": "stderr",
     "output_type": "stream",
     "text": [
      "\n",
      " 27%|##6       | 8/30 [00:00<00:00, 78.35it/s]\u001b[A\n",
      " 53%|#####3    | 16/30 [00:00<00:00, 78.19it/s]\u001b[A\n",
      " 83%|########3 | 25/30 [00:00<00:00, 80.36it/s]\u001b[A\n",
      " 24%|██▍       | 50/207 [00:02<00:15, 10.46it/s][A"
     ]
    },
    {
     "name": "stdout",
     "output_type": "stream",
     "text": [
      "{'ade': 0.3094503, 'fde': 0.6847395}\n",
      "\t last loss:0.000356553, eval on validation:['ade: 0.3094503', 'fde: 0.6847395'], (best ade:0.29927942 at step 7200) \n"
     ]
    },
    {
     "name": "stderr",
     "output_type": "stream",
     "text": [
      "100%|██████████| 207/207 [00:08<00:00, 23.58it/s]\n",
      "  1%|▏         | 3/207 [00:00<00:07, 26.93it/s]"
     ]
    },
    {
     "name": "stdout",
     "output_type": "stream",
     "text": [
      "('Epoca 38.', 'lr:', 0.00010729288)\n"
     ]
    },
    {
     "name": "stderr",
     "output_type": "stream",
     "text": [
      " 67%|██████▋   | 138/207 [00:05<00:02, 25.59it/s]\n",
      "  0%|          | 0/30 [00:00<?, ?it/s]\u001b[A"
     ]
    },
    {
     "name": "stdout",
     "output_type": "stream",
     "text": [
      "\tsaving model 7800...\n",
      "\tdone\n",
      "Evaluating\n"
     ]
    },
    {
     "name": "stderr",
     "output_type": "stream",
     "text": [
      "\n",
      " 30%|###       | 9/30 [00:00<00:00, 86.92it/s]\u001b[A\n",
      " 63%|######3   | 19/30 [00:00<00:00, 88.85it/s]\u001b[A\n",
      " 97%|#########6| 29/30 [00:00<00:00, 89.74it/s]\u001b[A\n",
      " 70%|██████▉   | 144/207 [00:06<00:04, 13.25it/s]A"
     ]
    },
    {
     "name": "stdout",
     "output_type": "stream",
     "text": [
      "{'ade': 0.3126005, 'fde': 0.6940568}\n",
      "\t last loss:0.000285942, eval on validation:['ade: 0.3126005', 'fde: 0.6940568'], (best ade:0.29927942 at step 7200) \n"
     ]
    },
    {
     "name": "stderr",
     "output_type": "stream",
     "text": [
      "100%|██████████| 207/207 [00:08<00:00, 26.30it/s]\n",
      "  1%|▏         | 3/207 [00:00<00:07, 26.33it/s]"
     ]
    },
    {
     "name": "stdout",
     "output_type": "stream",
     "text": [
      "('Epoca 39.', 'lr:', 9.119895e-05)\n"
     ]
    },
    {
     "name": "stderr",
     "output_type": "stream",
     "text": [
      "100%|██████████| 207/207 [00:08<00:00, 26.69it/s]\n",
      "  1%|▏         | 3/207 [00:00<00:07, 26.10it/s]"
     ]
    },
    {
     "name": "stdout",
     "output_type": "stream",
     "text": [
      "('Epoca 40.', 'lr:', 9.119895e-05)\n"
     ]
    },
    {
     "name": "stderr",
     "output_type": "stream",
     "text": [
      " 12%|█▏        | 24/207 [00:00<00:07, 25.06it/s]\n",
      "  0%|          | 0/30 [00:00<?, ?it/s]"
     ]
    },
    {
     "name": "stdout",
     "output_type": "stream",
     "text": [
      "\tsaving model 8100...\n",
      "\tdone\n",
      "Evaluating\n"
     ]
    },
    {
     "name": "stderr",
     "output_type": "stream",
     "text": [
      "\u001b[A\n",
      " 30%|###       | 9/30 [00:00<00:00, 87.29it/s]\u001b[A\n",
      " 60%|######    | 18/30 [00:00<00:00, 86.92it/s]\u001b[A\n",
      " 90%|######### | 27/30 [00:00<00:00, 85.25it/s]\u001b[A\n",
      "100%|##########| 30/30 [00:00<00:00, 83.54it/s]\u001b[A"
     ]
    },
    {
     "name": "stdout",
     "output_type": "stream",
     "text": [
      "{'ade': 0.2954752, 'fde': 0.6500265}\n",
      "\t last loss:0.000364161, eval on validation:['ade: 0.2954752', 'fde: 0.6500265'], (best ade:0.29927942 at step 7200) \n",
      "\t saving best model...\n"
     ]
    },
    {
     "name": "stderr",
     "output_type": "stream",
     "text": [
      " 14%|█▍        | 30/207 [00:02<00:17, 10.33it/s]"
     ]
    },
    {
     "name": "stdout",
     "output_type": "stream",
     "text": [
      "\t done.\n"
     ]
    },
    {
     "name": "stderr",
     "output_type": "stream",
     "text": [
      "100%|██████████| 207/207 [00:08<00:00, 25.16it/s]\n",
      "  1%|▏         | 3/207 [00:00<00:08, 24.64it/s]"
     ]
    },
    {
     "name": "stdout",
     "output_type": "stream",
     "text": [
      "('Epoca 41.', 'lr:', 7.751911e-05)\n"
     ]
    },
    {
     "name": "stderr",
     "output_type": "stream",
     "text": [
      " 57%|█████▋    | 117/207 [00:04<00:03, 26.29it/s]\n",
      "  0%|          | 0/30 [00:00<?, ?it/s]\u001b[A"
     ]
    },
    {
     "name": "stdout",
     "output_type": "stream",
     "text": [
      "\tsaving model 8400...\n",
      "\tdone\n",
      "Evaluating\n"
     ]
    },
    {
     "name": "stderr",
     "output_type": "stream",
     "text": [
      "\n",
      " 33%|###3      | 10/30 [00:00<00:00, 93.13it/s]\u001b[A\n",
      " 67%|######6   | 20/30 [00:00<00:00, 93.02it/s]\u001b[A\n",
      " 59%|█████▉    | 123/207 [00:05<00:06, 13.32it/s]A"
     ]
    },
    {
     "name": "stdout",
     "output_type": "stream",
     "text": [
      "{'ade': 0.31027037, 'fde': 0.68569344}\n",
      "\t last loss:0.000354440, eval on validation:['ade: 0.31027037', 'fde: 0.68569344'], (best ade:0.2954752 at step 8100) \n"
     ]
    },
    {
     "name": "stderr",
     "output_type": "stream",
     "text": [
      "100%|██████████| 207/207 [00:08<00:00, 24.65it/s]\n",
      "  1%|          | 2/207 [00:00<00:13, 14.97it/s]"
     ]
    },
    {
     "name": "stdout",
     "output_type": "stream",
     "text": [
      "('Epoca 42.', 'lr:', 7.751911e-05)\n"
     ]
    },
    {
     "name": "stderr",
     "output_type": "stream",
     "text": [
      "100%|██████████| 207/207 [00:08<00:00, 24.68it/s]\n",
      "  1%|          | 2/207 [00:00<00:13, 14.75it/s]"
     ]
    },
    {
     "name": "stdout",
     "output_type": "stream",
     "text": [
      "('Epoca 43.', 'lr:', 6.589125e-05)\n"
     ]
    },
    {
     "name": "stderr",
     "output_type": "stream",
     "text": [
      "\r",
      "  2%|▏         | 5/207 [00:00<00:12, 16.68it/s]"
     ]
    },
    {
     "name": "stdout",
     "output_type": "stream",
     "text": [
      "\tsaving model 8700...\n"
     ]
    },
    {
     "name": "stderr",
     "output_type": "stream",
     "text": [
      "\n",
      "  0%|          | 0/30 [00:00<?, ?it/s]\u001b[A\n",
      " 30%|###       | 9/30 [00:00<00:00, 83.89it/s]\u001b[A\n",
      " 60%|######    | 18/30 [00:00<00:00, 84.56it/s]\u001b[A\n",
      " 90%|######### | 27/30 [00:00<00:00, 84.45it/s]\u001b[A\n",
      "  3%|▎         | 7/207 [00:00<00:28,  7.12it/s]\u001b[A"
     ]
    },
    {
     "name": "stdout",
     "output_type": "stream",
     "text": [
      "\tdone\n",
      "Evaluating\n",
      "{'ade': 0.29878172, 'fde': 0.6553756}\n",
      "\t last loss:0.000250561, eval on validation:['ade: 0.29878172', 'fde: 0.6553756'], (best ade:0.2954752 at step 8100) \n"
     ]
    },
    {
     "name": "stderr",
     "output_type": "stream",
     "text": [
      "100%|██████████| 207/207 [00:08<00:00, 23.57it/s]\n",
      "  1%|▏         | 3/207 [00:00<00:08, 23.74it/s]"
     ]
    },
    {
     "name": "stdout",
     "output_type": "stream",
     "text": [
      "('Epoca 44.', 'lr:', 6.589125e-05)\n"
     ]
    },
    {
     "name": "stderr",
     "output_type": "stream",
     "text": [
      " 46%|████▋     | 96/207 [00:03<00:04, 26.42it/s]\n",
      "  0%|          | 0/30 [00:00<?, ?it/s]\u001b[A"
     ]
    },
    {
     "name": "stdout",
     "output_type": "stream",
     "text": [
      "\tsaving model 9000...\n",
      "\tdone\n",
      "Evaluating\n"
     ]
    },
    {
     "name": "stderr",
     "output_type": "stream",
     "text": [
      "\n",
      " 30%|###       | 9/30 [00:00<00:00, 86.46it/s]\u001b[A\n",
      " 63%|######3   | 19/30 [00:00<00:00, 88.30it/s]\u001b[A\n",
      " 97%|#########6| 29/30 [00:00<00:00, 89.72it/s]\u001b[A\n",
      " 49%|████▉     | 102/207 [00:04<00:07, 13.33it/s]A"
     ]
    },
    {
     "name": "stdout",
     "output_type": "stream",
     "text": [
      "{'ade': 0.30984133, 'fde': 0.6873306}\n",
      "\t last loss:0.000398603, eval on validation:['ade: 0.30984133', 'fde: 0.6873306'], (best ade:0.2954752 at step 8100) \n"
     ]
    },
    {
     "name": "stderr",
     "output_type": "stream",
     "text": [
      "100%|██████████| 207/207 [00:08<00:00, 24.86it/s]\n",
      "  1%|▏         | 3/207 [00:00<00:08, 25.02it/s]"
     ]
    },
    {
     "name": "stdout",
     "output_type": "stream",
     "text": [
      "('Epoca 45.', 'lr:', 5.600756e-05)\n"
     ]
    },
    {
     "name": "stderr",
     "output_type": "stream",
     "text": [
      " 91%|█████████▏| 189/207 [00:07<00:00, 24.92it/s]"
     ]
    },
    {
     "name": "stdout",
     "output_type": "stream",
     "text": [
      "\tsaving model 9300...\n"
     ]
    },
    {
     "name": "stderr",
     "output_type": "stream",
     "text": [
      "\n",
      "  0%|          | 0/30 [00:00<?, ?it/s]\u001b[A\n",
      " 30%|###       | 9/30 [00:00<00:00, 82.36it/s]\u001b[A"
     ]
    },
    {
     "name": "stdout",
     "output_type": "stream",
     "text": [
      "\tdone\n",
      "Evaluating\n"
     ]
    },
    {
     "name": "stderr",
     "output_type": "stream",
     "text": [
      "\n",
      " 57%|#####6    | 17/30 [00:00<00:00, 80.86it/s]\u001b[A\n",
      " 87%|########6 | 26/30 [00:00<00:00, 82.22it/s]\u001b[A\n",
      "100%|##########| 30/30 [00:00<00:00, 80.71it/s]\u001b[A"
     ]
    },
    {
     "name": "stdout",
     "output_type": "stream",
     "text": [
      "{'ade': 0.29317063, 'fde': 0.6401082}\n",
      "\t last loss:0.000251202, eval on validation:['ade: 0.29317063', 'fde: 0.6401082'], (best ade:0.2954752 at step 8100) \n",
      "\t saving best model...\n",
      "\t done.\n"
     ]
    },
    {
     "name": "stderr",
     "output_type": "stream",
     "text": [
      "100%|██████████| 207/207 [00:08<00:00, 23.15it/s]\n",
      "  0%|          | 1/207 [00:00<00:22,  9.18it/s]"
     ]
    },
    {
     "name": "stdout",
     "output_type": "stream",
     "text": [
      "('Epoca 46.', 'lr:', 5.600756e-05)\n"
     ]
    },
    {
     "name": "stderr",
     "output_type": "stream",
     "text": [
      "100%|██████████| 207/207 [00:08<00:00, 24.38it/s]\n",
      "  0%|          | 1/207 [00:00<00:23,  8.68it/s]"
     ]
    },
    {
     "name": "stdout",
     "output_type": "stream",
     "text": [
      "('Epoca 47.', 'lr:', 4.7606427e-05)\n"
     ]
    },
    {
     "name": "stderr",
     "output_type": "stream",
     "text": [
      " 37%|███▋      | 76/207 [00:02<00:04, 26.70it/s]\n",
      "  0%|          | 0/30 [00:00<?, ?it/s]\u001b[A"
     ]
    },
    {
     "name": "stdout",
     "output_type": "stream",
     "text": [
      "\tsaving model 9600...\n",
      "\tdone\n",
      "Evaluating\n"
     ]
    },
    {
     "name": "stderr",
     "output_type": "stream",
     "text": [
      "\n",
      " 30%|###       | 9/30 [00:00<00:00, 86.87it/s]\u001b[A\n",
      " 57%|#####6    | 17/30 [00:00<00:00, 84.46it/s]\u001b[A\n",
      " 87%|########6 | 26/30 [00:00<00:00, 84.67it/s]\u001b[A\n",
      " 38%|███▊      | 79/207 [00:03<00:11, 10.69it/s][A"
     ]
    },
    {
     "name": "stdout",
     "output_type": "stream",
     "text": [
      "{'ade': 0.29933128, 'fde': 0.6547313}\n",
      "\t last loss:0.000380047, eval on validation:['ade: 0.29933128', 'fde: 0.6547313'], (best ade:0.29317063 at step 9300) \n"
     ]
    },
    {
     "name": "stderr",
     "output_type": "stream",
     "text": [
      "100%|██████████| 207/207 [00:08<00:00, 23.51it/s]\n",
      "  1%|▏         | 3/207 [00:00<00:07, 25.95it/s]"
     ]
    },
    {
     "name": "stdout",
     "output_type": "stream",
     "text": [
      "('Epoca 48.', 'lr:', 4.7606427e-05)\n"
     ]
    },
    {
     "name": "stderr",
     "output_type": "stream",
     "text": [
      " 81%|████████  | 168/207 [00:06<00:01, 25.31it/s]\n",
      "  0%|          | 0/30 [00:00<?, ?it/s]\u001b[A"
     ]
    },
    {
     "name": "stdout",
     "output_type": "stream",
     "text": [
      "\tsaving model 9900...\n",
      "\tdone\n",
      "Evaluating\n"
     ]
    },
    {
     "name": "stderr",
     "output_type": "stream",
     "text": [
      "\n",
      " 30%|###       | 9/30 [00:00<00:00, 87.50it/s]\u001b[A\n",
      " 63%|######3   | 19/30 [00:00<00:00, 89.22it/s]\u001b[A\n",
      " 97%|#########6| 29/30 [00:00<00:00, 90.04it/s]\u001b[A\n",
      " 84%|████████▍ | 174/207 [00:07<00:02, 13.22it/s]A"
     ]
    },
    {
     "name": "stdout",
     "output_type": "stream",
     "text": [
      "{'ade': 0.30987567, 'fde': 0.68902177}\n",
      "\t last loss:0.000538840, eval on validation:['ade: 0.30987567', 'fde: 0.68902177'], (best ade:0.29317063 at step 9300) \n"
     ]
    },
    {
     "name": "stderr",
     "output_type": "stream",
     "text": [
      "100%|██████████| 207/207 [00:08<00:00, 25.97it/s]\n",
      "  1%|▏         | 3/207 [00:00<00:09, 21.80it/s]"
     ]
    },
    {
     "name": "stdout",
     "output_type": "stream",
     "text": [
      "('Epoca 49.', 'lr:', 4.0465464e-05)\n"
     ]
    },
    {
     "name": "stderr",
     "output_type": "stream",
     "text": [
      "100%|██████████| 207/207 [00:08<00:00, 26.68it/s]\n",
      "  0%|          | 1/207 [00:00<00:23,  8.84it/s]"
     ]
    },
    {
     "name": "stdout",
     "output_type": "stream",
     "text": [
      "('Epoca 50.', 'lr:', 4.0465464e-05)\n"
     ]
    },
    {
     "name": "stderr",
     "output_type": "stream",
     "text": [
      " 27%|██▋       | 55/207 [00:02<00:06, 25.31it/s]"
     ]
    },
    {
     "name": "stdout",
     "output_type": "stream",
     "text": [
      "\tsaving model 10200...\n"
     ]
    },
    {
     "name": "stderr",
     "output_type": "stream",
     "text": [
      "\n",
      "  0%|          | 0/30 [00:00<?, ?it/s]\u001b[A\n",
      " 30%|###       | 9/30 [00:00<00:00, 86.22it/s]\u001b[A"
     ]
    },
    {
     "name": "stdout",
     "output_type": "stream",
     "text": [
      "\tdone\n",
      "Evaluating\n"
     ]
    },
    {
     "name": "stderr",
     "output_type": "stream",
     "text": [
      "\n",
      " 60%|######    | 18/30 [00:00<00:00, 85.02it/s]\u001b[A\n",
      " 87%|########6 | 26/30 [00:00<00:00, 82.82it/s]\u001b[A\n",
      " 29%|██▉       | 60/207 [00:03<00:12, 11.76it/s][A"
     ]
    },
    {
     "name": "stdout",
     "output_type": "stream",
     "text": [
      "{'ade': 0.29401913, 'fde': 0.6441267}\n",
      "\t last loss:0.000193757, eval on validation:['ade: 0.29401913', 'fde: 0.6441267'], (best ade:0.29317063 at step 9300) \n"
     ]
    },
    {
     "name": "stderr",
     "output_type": "stream",
     "text": [
      "100%|██████████| 207/207 [00:08<00:00, 26.20it/s]\n",
      "  1%|          | 2/207 [00:00<00:14, 14.50it/s]"
     ]
    },
    {
     "name": "stdout",
     "output_type": "stream",
     "text": [
      "('Epoca 51.', 'lr:', 3.4395645e-05)\n"
     ]
    },
    {
     "name": "stderr",
     "output_type": "stream",
     "text": [
      " 72%|███████▏  | 149/207 [00:05<00:02, 26.16it/s]\n",
      "  0%|          | 0/30 [00:00<?, ?it/s]\u001b[A"
     ]
    },
    {
     "name": "stdout",
     "output_type": "stream",
     "text": [
      "\tsaving model 10500...\n",
      "\tdone\n",
      "Evaluating\n"
     ]
    },
    {
     "name": "stderr",
     "output_type": "stream",
     "text": [
      "\n",
      " 33%|###3      | 10/30 [00:00<00:00, 93.93it/s]\u001b[A\n",
      " 67%|######6   | 20/30 [00:00<00:00, 93.95it/s]\u001b[A\n",
      " 73%|███████▎  | 152/207 [00:06<00:04, 11.18it/s]A"
     ]
    },
    {
     "name": "stdout",
     "output_type": "stream",
     "text": [
      "{'ade': 0.30323878, 'fde': 0.66657466}\n",
      "\t last loss:0.000429267, eval on validation:['ade: 0.30323878', 'fde: 0.66657466'], (best ade:0.29317063 at step 9300) \n"
     ]
    },
    {
     "name": "stderr",
     "output_type": "stream",
     "text": [
      "100%|██████████| 207/207 [00:08<00:00, 23.66it/s]\n",
      "  0%|          | 1/207 [00:00<00:22,  9.08it/s]"
     ]
    },
    {
     "name": "stdout",
     "output_type": "stream",
     "text": [
      "('Epoca 52.', 'lr:', 3.4395645e-05)\n"
     ]
    },
    {
     "name": "stderr",
     "output_type": "stream",
     "text": [
      "100%|██████████| 207/207 [00:07<00:00, 26.25it/s]\n",
      "  1%|          | 2/207 [00:00<00:13, 15.53it/s]"
     ]
    },
    {
     "name": "stdout",
     "output_type": "stream",
     "text": [
      "('Epoca 53.', 'lr:', 2.92363e-05)\n"
     ]
    },
    {
     "name": "stderr",
     "output_type": "stream",
     "text": [
      " 17%|█▋        | 35/207 [00:01<00:07, 24.39it/s]\n",
      "  0%|          | 0/30 [00:00<?, ?it/s]\u001b[A"
     ]
    },
    {
     "name": "stdout",
     "output_type": "stream",
     "text": [
      "\tsaving model 10800...\n",
      "\tdone\n",
      "Evaluating\n"
     ]
    },
    {
     "name": "stderr",
     "output_type": "stream",
     "text": [
      "\n",
      " 30%|###       | 9/30 [00:00<00:00, 82.65it/s]\u001b[A\n",
      " 60%|######    | 18/30 [00:00<00:00, 83.34it/s]\u001b[A\n",
      " 90%|######### | 27/30 [00:00<00:00, 83.71it/s]\u001b[A\n",
      " 18%|█▊        | 38/207 [00:02<00:16, 10.20it/s][A"
     ]
    },
    {
     "name": "stdout",
     "output_type": "stream",
     "text": [
      "{'ade': 0.29801157, 'fde': 0.6567475}\n",
      "\t last loss:0.000336333, eval on validation:['ade: 0.29801157', 'fde: 0.6567475'], (best ade:0.29317063 at step 9300) \n"
     ]
    },
    {
     "name": "stderr",
     "output_type": "stream",
     "text": [
      "100%|██████████| 207/207 [00:08<00:00, 23.53it/s]\n",
      "  1%|          | 2/207 [00:00<00:12, 16.93it/s]"
     ]
    },
    {
     "name": "stdout",
     "output_type": "stream",
     "text": [
      "('Epoca 54.', 'lr:', 2.92363e-05)\n"
     ]
    },
    {
     "name": "stderr",
     "output_type": "stream",
     "text": [
      " 62%|██████▏   | 128/207 [00:05<00:02, 26.79it/s]\n",
      "  0%|          | 0/30 [00:00<?, ?it/s]\u001b[A"
     ]
    },
    {
     "name": "stdout",
     "output_type": "stream",
     "text": [
      "\tsaving model 11100...\n",
      "\tdone\n",
      "Evaluating\n"
     ]
    },
    {
     "name": "stderr",
     "output_type": "stream",
     "text": [
      "\n",
      " 30%|###       | 9/30 [00:00<00:00, 84.49it/s]\u001b[A\n",
      " 60%|######    | 18/30 [00:00<00:00, 84.98it/s]\u001b[A\n",
      " 93%|#########3| 28/30 [00:00<00:00, 87.28it/s]\u001b[A\n",
      " 63%|██████▎   | 131/207 [00:05<00:07, 10.81it/s]A"
     ]
    },
    {
     "name": "stdout",
     "output_type": "stream",
     "text": [
      "{'ade': 0.29573524, 'fde': 0.6460605}\n",
      "\t last loss:0.000096474, eval on validation:['ade: 0.29573524', 'fde: 0.6460605'], (best ade:0.29317063 at step 9300) \n"
     ]
    },
    {
     "name": "stderr",
     "output_type": "stream",
     "text": [
      "100%|██████████| 207/207 [00:08<00:00, 23.56it/s]\n",
      "  1%|          | 2/207 [00:00<00:11, 17.90it/s]"
     ]
    },
    {
     "name": "stdout",
     "output_type": "stream",
     "text": [
      "('Epoca 55.', 'lr:', 2.4850853e-05)\n"
     ]
    },
    {
     "name": "stderr",
     "output_type": "stream",
     "text": [
      "100%|██████████| 207/207 [00:08<00:00, 25.45it/s]\n",
      "  0%|          | 1/207 [00:00<00:21,  9.59it/s]"
     ]
    },
    {
     "name": "stdout",
     "output_type": "stream",
     "text": [
      "('Epoca 56.', 'lr:', 2.4850853e-05)\n"
     ]
    },
    {
     "name": "stderr",
     "output_type": "stream",
     "text": [
      "  6%|▌         | 12/207 [00:00<00:12, 15.97it/s]"
     ]
    },
    {
     "name": "stdout",
     "output_type": "stream",
     "text": [
      "\tsaving model 11400...\n"
     ]
    },
    {
     "name": "stderr",
     "output_type": "stream",
     "text": [
      "\n",
      "  0%|          | 0/30 [00:00<?, ?it/s]\u001b[A\n",
      " 30%|###       | 9/30 [00:00<00:00, 87.18it/s]\u001b[A"
     ]
    },
    {
     "name": "stdout",
     "output_type": "stream",
     "text": [
      "\tdone\n",
      "Evaluating\n"
     ]
    },
    {
     "name": "stderr",
     "output_type": "stream",
     "text": [
      "\n",
      " 60%|######    | 18/30 [00:00<00:00, 85.80it/s]\u001b[A\n",
      " 90%|######### | 27/30 [00:00<00:00, 85.49it/s]\u001b[A\n",
      "  9%|▊         | 18/207 [00:01<00:18, 10.43it/s][A"
     ]
    },
    {
     "name": "stdout",
     "output_type": "stream",
     "text": [
      "{'ade': 0.30478057, 'fde': 0.6743963}\n",
      "\t last loss:0.000309519, eval on validation:['ade: 0.30478057', 'fde: 0.6743963'], (best ade:0.29317063 at step 9300) \n"
     ]
    },
    {
     "name": "stderr",
     "output_type": "stream",
     "text": [
      "100%|██████████| 207/207 [00:08<00:00, 23.15it/s]\n",
      "  1%|▏         | 3/207 [00:00<00:08, 24.19it/s]"
     ]
    },
    {
     "name": "stdout",
     "output_type": "stream",
     "text": [
      "('Epoca 57.', 'lr:', 2.1123227e-05)\n"
     ]
    },
    {
     "name": "stderr",
     "output_type": "stream",
     "text": [
      " 51%|█████     | 105/207 [00:04<00:03, 26.69it/s]\n",
      "  0%|          | 0/30 [00:00<?, ?it/s]\u001b[A"
     ]
    },
    {
     "name": "stdout",
     "output_type": "stream",
     "text": [
      "\tsaving model 11700...\n",
      "\tdone\n",
      "Evaluating\n"
     ]
    },
    {
     "name": "stderr",
     "output_type": "stream",
     "text": [
      "\n",
      " 30%|###       | 9/30 [00:00<00:00, 86.72it/s]\u001b[A\n",
      " 63%|######3   | 19/30 [00:00<00:00, 88.35it/s]\u001b[A\n",
      " 93%|#########3| 28/30 [00:00<00:00, 87.89it/s]\u001b[A\n",
      " 54%|█████▎    | 111/207 [00:04<00:07, 13.32it/s]A"
     ]
    },
    {
     "name": "stdout",
     "output_type": "stream",
     "text": [
      "{'ade': 0.29888907, 'fde': 0.65616363}\n",
      "\t last loss:0.000312482, eval on validation:['ade: 0.29888907', 'fde: 0.65616363'], (best ade:0.29317063 at step 9300) \n"
     ]
    },
    {
     "name": "stderr",
     "output_type": "stream",
     "text": [
      "100%|██████████| 207/207 [00:08<00:00, 24.82it/s]\n",
      "  1%|▏         | 3/207 [00:00<00:08, 24.12it/s]"
     ]
    },
    {
     "name": "stdout",
     "output_type": "stream",
     "text": [
      "('Epoca 58.', 'lr:', 2.1123227e-05)\n"
     ]
    },
    {
     "name": "stderr",
     "output_type": "stream",
     "text": [
      " 96%|█████████▌| 198/207 [00:07<00:00, 25.01it/s]"
     ]
    },
    {
     "name": "stdout",
     "output_type": "stream",
     "text": [
      "\tsaving model 12000...\n"
     ]
    },
    {
     "name": "stderr",
     "output_type": "stream",
     "text": [
      "\n",
      "  0%|          | 0/30 [00:00<?, ?it/s]\u001b[A\n",
      " 30%|###       | 9/30 [00:00<00:00, 88.06it/s]\u001b[A"
     ]
    },
    {
     "name": "stdout",
     "output_type": "stream",
     "text": [
      "\tdone\n",
      "Evaluating\n"
     ]
    },
    {
     "name": "stderr",
     "output_type": "stream",
     "text": [
      "\n",
      " 60%|######    | 18/30 [00:00<00:00, 86.54it/s]\u001b[A\n",
      " 90%|######### | 27/30 [00:00<00:00, 86.04it/s]\u001b[A\n",
      " 99%|█████████▊| 204/207 [00:08<00:00, 12.07it/s]A"
     ]
    },
    {
     "name": "stdout",
     "output_type": "stream",
     "text": [
      "{'ade': 0.30015698, 'fde': 0.6583136}\n",
      "\t last loss:0.000423087, eval on validation:['ade: 0.30015698', 'fde: 0.6583136'], (best ade:0.29317063 at step 9300) \n"
     ]
    },
    {
     "name": "stderr",
     "output_type": "stream",
     "text": [
      "100%|██████████| 207/207 [00:08<00:00, 14.02it/s]\n",
      "  1%|▏         | 3/207 [00:00<00:08, 24.02it/s]"
     ]
    },
    {
     "name": "stdout",
     "output_type": "stream",
     "text": [
      "('Epoca 59.', 'lr:', 1.7954744e-05)\n"
     ]
    },
    {
     "name": "stderr",
     "output_type": "stream",
     "text": [
      "100%|██████████| 207/207 [00:08<00:00, 25.08it/s]\n",
      "  1%|▏         | 3/207 [00:00<00:08, 24.22it/s]"
     ]
    },
    {
     "name": "stdout",
     "output_type": "stream",
     "text": [
      "('Epoca 60.', 'lr:', 1.7954744e-05)\n"
     ]
    },
    {
     "name": "stderr",
     "output_type": "stream",
     "text": [
      " 41%|████      | 84/207 [00:03<00:04, 25.84it/s]\n",
      "  0%|          | 0/30 [00:00<?, ?it/s]\u001b[A"
     ]
    },
    {
     "name": "stdout",
     "output_type": "stream",
     "text": [
      "\tsaving model 12300...\n",
      "\tdone\n",
      "Evaluating\n"
     ]
    },
    {
     "name": "stderr",
     "output_type": "stream",
     "text": [
      "\n",
      " 33%|###3      | 10/30 [00:00<00:00, 92.92it/s]\u001b[A\n",
      " 67%|######6   | 20/30 [00:00<00:00, 92.63it/s]\u001b[A\n",
      " 43%|████▎     | 90/207 [00:04<00:08, 13.32it/s][A"
     ]
    },
    {
     "name": "stdout",
     "output_type": "stream",
     "text": [
      "{'ade': 0.29763836, 'fde': 0.6533791}\n",
      "\t last loss:0.000150201, eval on validation:['ade: 0.29763836', 'fde: 0.6533791'], (best ade:0.29317063 at step 9300) \n"
     ]
    },
    {
     "name": "stderr",
     "output_type": "stream",
     "text": [
      "100%|██████████| 207/207 [00:08<00:00, 26.63it/s]\n",
      "  1%|▏         | 3/207 [00:00<00:08, 25.24it/s]"
     ]
    },
    {
     "name": "stdout",
     "output_type": "stream",
     "text": [
      "('Epoca 61.', 'lr:', 1.5261532e-05)\n"
     ]
    },
    {
     "name": "stderr",
     "output_type": "stream",
     "text": [
      " 86%|████████▌ | 177/207 [00:06<00:01, 24.83it/s]"
     ]
    },
    {
     "name": "stdout",
     "output_type": "stream",
     "text": [
      "\tsaving model 12600...\n"
     ]
    },
    {
     "name": "stderr",
     "output_type": "stream",
     "text": [
      "\n",
      "  0%|          | 0/30 [00:00<?, ?it/s]\u001b[A\n",
      " 30%|###       | 9/30 [00:00<00:00, 83.29it/s]\u001b[A"
     ]
    },
    {
     "name": "stdout",
     "output_type": "stream",
     "text": [
      "\tdone\n",
      "Evaluating\n"
     ]
    },
    {
     "name": "stderr",
     "output_type": "stream",
     "text": [
      "\n",
      " 60%|######    | 18/30 [00:00<00:00, 85.16it/s]\u001b[A\n",
      " 93%|#########3| 28/30 [00:00<00:00, 87.28it/s]\u001b[A\n",
      " 88%|████████▊ | 183/207 [00:07<00:01, 12.34it/s]A"
     ]
    },
    {
     "name": "stdout",
     "output_type": "stream",
     "text": [
      "{'ade': 0.29519922, 'fde': 0.64655644}\n",
      "\t last loss:0.000210618, eval on validation:['ade: 0.29519922', 'fde: 0.64655644'], (best ade:0.29317063 at step 9300) \n"
     ]
    },
    {
     "name": "stderr",
     "output_type": "stream",
     "text": [
      "100%|██████████| 207/207 [00:08<00:00, 24.85it/s]\n",
      "  0%|          | 1/207 [00:00<00:24,  8.35it/s]"
     ]
    },
    {
     "name": "stdout",
     "output_type": "stream",
     "text": [
      "('Epoca 62.', 'lr:', 1.5261532e-05)\n"
     ]
    },
    {
     "name": "stderr",
     "output_type": "stream",
     "text": [
      "100%|██████████| 207/207 [00:08<00:00, 26.67it/s]\n",
      "  0%|          | 1/207 [00:00<00:23,  8.79it/s]"
     ]
    },
    {
     "name": "stdout",
     "output_type": "stream",
     "text": [
      "('Epoca 63.', 'lr:', 1.2972303e-05)\n"
     ]
    },
    {
     "name": "stderr",
     "output_type": "stream",
     "text": [
      " 31%|███       | 64/207 [00:02<00:05, 25.82it/s]"
     ]
    },
    {
     "name": "stdout",
     "output_type": "stream",
     "text": [
      "\tsaving model 12900...\n"
     ]
    },
    {
     "name": "stderr",
     "output_type": "stream",
     "text": [
      "\n",
      "  0%|          | 0/30 [00:00<?, ?it/s]\u001b[A\n",
      " 30%|###       | 9/30 [00:00<00:00, 82.65it/s]\u001b[A"
     ]
    },
    {
     "name": "stdout",
     "output_type": "stream",
     "text": [
      "\tdone\n",
      "Evaluating\n"
     ]
    },
    {
     "name": "stderr",
     "output_type": "stream",
     "text": [
      "\n",
      " 60%|######    | 18/30 [00:00<00:00, 82.88it/s]\u001b[A\n",
      " 90%|######### | 27/30 [00:00<00:00, 83.73it/s]\u001b[A\n",
      " 32%|███▏      | 67/207 [00:03<00:13, 10.23it/s][A"
     ]
    },
    {
     "name": "stdout",
     "output_type": "stream",
     "text": [
      "{'ade': 0.2953538, 'fde': 0.6466329}\n",
      "\t last loss:0.000273965, eval on validation:['ade: 0.2953538', 'fde: 0.6466329'], (best ade:0.29317063 at step 9300) \n"
     ]
    },
    {
     "name": "stderr",
     "output_type": "stream",
     "text": [
      "100%|██████████| 207/207 [00:08<00:00, 23.56it/s]\n",
      "  1%|          | 2/207 [00:00<00:12, 16.87it/s]"
     ]
    },
    {
     "name": "stdout",
     "output_type": "stream",
     "text": [
      "('Epoca 64.', 'lr:', 1.2972303e-05)\n"
     ]
    },
    {
     "name": "stderr",
     "output_type": "stream",
     "text": [
      " 76%|███████▋  | 158/207 [00:06<00:01, 26.59it/s]"
     ]
    },
    {
     "name": "stdout",
     "output_type": "stream",
     "text": [
      "\tsaving model 13200...\n"
     ]
    },
    {
     "name": "stderr",
     "output_type": "stream",
     "text": [
      "\n",
      "  0%|          | 0/30 [00:00<?, ?it/s]\u001b[A\n",
      " 33%|###3      | 10/30 [00:00<00:00, 92.52it/s]\u001b[A"
     ]
    },
    {
     "name": "stdout",
     "output_type": "stream",
     "text": [
      "\tdone\n",
      "Evaluating\n"
     ]
    },
    {
     "name": "stderr",
     "output_type": "stream",
     "text": [
      "\n",
      " 67%|######6   | 20/30 [00:00<00:00, 92.57it/s]\u001b[A\n",
      " 78%|███████▊  | 161/207 [00:06<00:04, 10.92it/s]A"
     ]
    },
    {
     "name": "stdout",
     "output_type": "stream",
     "text": [
      "{'ade': 0.2947994, 'fde': 0.6458258}\n",
      "\t last loss:0.000275242, eval on validation:['ade: 0.2947994', 'fde: 0.6458258'], (best ade:0.29317063 at step 9300) \n"
     ]
    },
    {
     "name": "stderr",
     "output_type": "stream",
     "text": [
      "100%|██████████| 207/207 [00:08<00:00, 23.70it/s]\n",
      "  1%|          | 2/207 [00:00<00:13, 15.19it/s]"
     ]
    },
    {
     "name": "stdout",
     "output_type": "stream",
     "text": [
      "('Epoca 65.', 'lr:', 1.1026457e-05)\n"
     ]
    },
    {
     "name": "stderr",
     "output_type": "stream",
     "text": [
      "100%|██████████| 207/207 [00:08<00:00, 25.46it/s]\n",
      "  0%|          | 1/207 [00:00<00:21,  9.65it/s]"
     ]
    },
    {
     "name": "stdout",
     "output_type": "stream",
     "text": [
      "('Epoca 66.', 'lr:', 1.1026457e-05)\n"
     ]
    },
    {
     "name": "stderr",
     "output_type": "stream",
     "text": [
      " 21%|██        | 43/207 [00:01<00:06, 24.61it/s]\n",
      "  0%|          | 0/30 [00:00<?, ?it/s]"
     ]
    },
    {
     "name": "stdout",
     "output_type": "stream",
     "text": [
      "\tsaving model 13500...\n",
      "\tdone\n",
      "Evaluating\n"
     ]
    },
    {
     "name": "stderr",
     "output_type": "stream",
     "text": [
      "\u001b[A\n",
      " 30%|###       | 9/30 [00:00<00:00, 82.89it/s]\u001b[A\n",
      " 60%|######    | 18/30 [00:00<00:00, 83.44it/s]\u001b[A\n",
      " 90%|######### | 27/30 [00:00<00:00, 83.92it/s]\u001b[A\n",
      " 22%|██▏       | 46/207 [00:02<00:15, 10.21it/s][A"
     ]
    },
    {
     "name": "stdout",
     "output_type": "stream",
     "text": [
      "{'ade': 0.29471588, 'fde': 0.6457565}\n",
      "\t last loss:0.000343087, eval on validation:['ade: 0.29471588', 'fde: 0.6457565'], (best ade:0.29317063 at step 9300) \n"
     ]
    },
    {
     "name": "stderr",
     "output_type": "stream",
     "text": [
      "100%|██████████| 207/207 [00:08<00:00, 23.49it/s]\n",
      "  0%|          | 1/207 [00:00<00:23,  8.64it/s]"
     ]
    },
    {
     "name": "stdout",
     "output_type": "stream",
     "text": [
      "('Epoca 67.', 'lr:', 9.37249e-06)\n"
     ]
    },
    {
     "name": "stderr",
     "output_type": "stream",
     "text": [
      " 66%|██████▌   | 136/207 [00:05<00:02, 26.64it/s]\n",
      "  0%|          | 0/30 [00:00<?, ?it/s]\u001b[A"
     ]
    },
    {
     "name": "stdout",
     "output_type": "stream",
     "text": [
      "\tsaving model 13800...\n",
      "\tdone\n",
      "Evaluating\n"
     ]
    },
    {
     "name": "stderr",
     "output_type": "stream",
     "text": [
      "\n",
      " 30%|###       | 9/30 [00:00<00:00, 87.14it/s]\u001b[A\n",
      " 63%|######3   | 19/30 [00:00<00:00, 88.98it/s]\u001b[A\n",
      " 93%|#########3| 28/30 [00:00<00:00, 89.18it/s]\u001b[A\n",
      " 69%|██████▊   | 142/207 [00:06<00:04, 13.18it/s]A"
     ]
    },
    {
     "name": "stdout",
     "output_type": "stream",
     "text": [
      "{'ade': 0.29677394, 'fde': 0.6502935}\n",
      "\t last loss:0.000237745, eval on validation:['ade: 0.29677394', 'fde: 0.6502935'], (best ade:0.29317063 at step 9300) \n"
     ]
    },
    {
     "name": "stderr",
     "output_type": "stream",
     "text": [
      "100%|██████████| 207/207 [00:08<00:00, 23.50it/s]\n",
      "  1%|▏         | 3/207 [00:00<00:08, 24.21it/s]"
     ]
    },
    {
     "name": "stdout",
     "output_type": "stream",
     "text": [
      "('Epoca 68.', 'lr:', 9.37249e-06)\n"
     ]
    },
    {
     "name": "stderr",
     "output_type": "stream",
     "text": [
      "100%|██████████| 207/207 [00:08<00:00, 24.87it/s]\n",
      "  1%|▏         | 3/207 [00:00<00:08, 22.84it/s]"
     ]
    },
    {
     "name": "stdout",
     "output_type": "stream",
     "text": [
      "('Epoca 69.', 'lr:', 7.966617e-06)\n"
     ]
    },
    {
     "name": "stderr",
     "output_type": "stream",
     "text": [
      " 10%|█         | 21/207 [00:00<00:07, 24.16it/s]\n",
      "  0%|          | 0/30 [00:00<?, ?it/s]"
     ]
    },
    {
     "name": "stdout",
     "output_type": "stream",
     "text": [
      "\tsaving model 14100...\n",
      "\tdone\n",
      "Evaluating\n"
     ]
    },
    {
     "name": "stderr",
     "output_type": "stream",
     "text": [
      "\u001b[A\n",
      " 27%|##6       | 8/30 [00:00<00:00, 75.18it/s]\u001b[A\n",
      " 57%|#####6    | 17/30 [00:00<00:00, 77.94it/s]\u001b[A\n",
      " 87%|########6 | 26/30 [00:00<00:00, 79.94it/s]\u001b[A\n",
      " 13%|█▎        | 27/207 [00:01<00:14, 12.25it/s][A"
     ]
    },
    {
     "name": "stdout",
     "output_type": "stream",
     "text": [
      "{'ade': 0.29725373, 'fde': 0.6521941}\n",
      "\t last loss:0.000308469, eval on validation:['ade: 0.29725373', 'fde: 0.6521941'], (best ade:0.29317063 at step 9300) \n"
     ]
    },
    {
     "name": "stderr",
     "output_type": "stream",
     "text": [
      "100%|██████████| 207/207 [00:08<00:00, 19.86it/s]\n",
      "  1%|          | 2/207 [00:00<00:10, 19.16it/s]"
     ]
    },
    {
     "name": "stdout",
     "output_type": "stream",
     "text": [
      "('Epoca 70.', 'lr:', 7.966617e-06)\n"
     ]
    },
    {
     "name": "stderr",
     "output_type": "stream",
     "text": [
      " 56%|█████▌    | 115/207 [00:04<00:03, 26.48it/s]\n",
      "  0%|          | 0/30 [00:00<?, ?it/s]\u001b[A"
     ]
    },
    {
     "name": "stdout",
     "output_type": "stream",
     "text": [
      "\tsaving model 14400...\n",
      "\tdone\n",
      "Evaluating\n"
     ]
    },
    {
     "name": "stderr",
     "output_type": "stream",
     "text": [
      "\n",
      " 27%|##6       | 8/30 [00:00<00:00, 78.70it/s]\u001b[A\n",
      " 57%|#####6    | 17/30 [00:00<00:00, 80.16it/s]\u001b[A\n",
      " 87%|########6 | 26/30 [00:00<00:00, 82.08it/s]\u001b[A\n",
      " 57%|█████▋    | 118/207 [00:05<00:08, 10.61it/s]A"
     ]
    },
    {
     "name": "stdout",
     "output_type": "stream",
     "text": [
      "{'ade': 0.29513842, 'fde': 0.64638764}\n",
      "\t last loss:0.000393228, eval on validation:['ade: 0.29513842', 'fde: 0.64638764'], (best ade:0.29317063 at step 9300) \n"
     ]
    },
    {
     "name": "stderr",
     "output_type": "stream",
     "text": [
      "100%|██████████| 207/207 [00:08<00:00, 23.44it/s]\n",
      "  1%|          | 2/207 [00:00<00:12, 16.85it/s]"
     ]
    },
    {
     "name": "stdout",
     "output_type": "stream",
     "text": [
      "('Epoca 71.', 'lr:', 6.7716246e-06)\n"
     ]
    },
    {
     "name": "stderr",
     "output_type": "stream",
     "text": [
      "100%|██████████| 207/207 [00:08<00:00, 25.45it/s]\n",
      "  0%|          | 1/207 [00:00<00:21,  9.48it/s]"
     ]
    },
    {
     "name": "stdout",
     "output_type": "stream",
     "text": [
      "('Epoca 72.', 'lr:', 6.7716246e-06)\n",
      "\tsaving model 14700...\n"
     ]
    },
    {
     "name": "stderr",
     "output_type": "stream",
     "text": [
      "\n",
      "  0%|          | 0/30 [00:00<?, ?it/s]\u001b[A\n",
      " 30%|###       | 9/30 [00:00<00:00, 86.11it/s]\u001b[A"
     ]
    },
    {
     "name": "stdout",
     "output_type": "stream",
     "text": [
      "\tdone\n",
      "Evaluating\n"
     ]
    },
    {
     "name": "stderr",
     "output_type": "stream",
     "text": [
      "\n",
      " 60%|######    | 18/30 [00:00<00:00, 84.99it/s]\u001b[A\n",
      " 90%|######### | 27/30 [00:00<00:00, 84.73it/s]\u001b[A\n",
      "  3%|▎         | 6/207 [00:00<00:27,  7.35it/s]\u001b[A"
     ]
    },
    {
     "name": "stdout",
     "output_type": "stream",
     "text": [
      "{'ade': 0.295569, 'fde': 0.6467086}\n",
      "\t last loss:0.000158660, eval on validation:['ade: 0.295569', 'fde: 0.6467086'], (best ade:0.29317063 at step 9300) \n"
     ]
    },
    {
     "name": "stderr",
     "output_type": "stream",
     "text": [
      "100%|██████████| 207/207 [00:08<00:00, 25.03it/s]\n",
      "  1%|          | 2/207 [00:00<00:12, 16.56it/s]"
     ]
    },
    {
     "name": "stdout",
     "output_type": "stream",
     "text": [
      "('Epoca 73.', 'lr:', 5.7558805e-06)\n"
     ]
    },
    {
     "name": "stderr",
     "output_type": "stream",
     "text": [
      " 46%|████▌     | 95/207 [00:03<00:04, 26.36it/s]\n",
      "  0%|          | 0/30 [00:00<?, ?it/s]\u001b[A"
     ]
    },
    {
     "name": "stdout",
     "output_type": "stream",
     "text": [
      "\tsaving model 15000...\n",
      "\tdone\n",
      "Evaluating\n"
     ]
    },
    {
     "name": "stderr",
     "output_type": "stream",
     "text": [
      "\n",
      " 30%|###       | 9/30 [00:00<00:00, 89.08it/s]\u001b[A\n",
      " 60%|######    | 18/30 [00:00<00:00, 88.96it/s]\u001b[A\n",
      " 93%|#########3| 28/30 [00:00<00:00, 90.37it/s]\u001b[A\n",
      " 47%|████▋     | 98/207 [00:04<00:09, 10.99it/s][A"
     ]
    },
    {
     "name": "stdout",
     "output_type": "stream",
     "text": [
      "{'ade': 0.2954283, 'fde': 0.64642006}\n",
      "\t last loss:0.000537170, eval on validation:['ade: 0.2954283', 'fde: 0.64642006'], (best ade:0.29317063 at step 9300) \n"
     ]
    },
    {
     "name": "stderr",
     "output_type": "stream",
     "text": [
      "100%|██████████| 207/207 [00:08<00:00, 23.48it/s]\n",
      "  1%|          | 2/207 [00:00<00:11, 17.85it/s]"
     ]
    },
    {
     "name": "stdout",
     "output_type": "stream",
     "text": [
      "('Epoca 74.', 'lr:', 5.7558805e-06)\n"
     ]
    },
    {
     "name": "stderr",
     "output_type": "stream",
     "text": [
      " 90%|████████▉ | 186/207 [00:07<00:00, 24.69it/s]\n",
      "  0%|          | 0/30 [00:00<?, ?it/s]\u001b[A"
     ]
    },
    {
     "name": "stdout",
     "output_type": "stream",
     "text": [
      "\tsaving model 15300...\n",
      "\tdone\n",
      "Evaluating\n"
     ]
    },
    {
     "name": "stderr",
     "output_type": "stream",
     "text": [
      "\n",
      " 33%|###3      | 10/30 [00:00<00:00, 93.92it/s]\u001b[A\n",
      " 67%|######6   | 20/30 [00:00<00:00, 93.42it/s]\u001b[A\n",
      " 93%|█████████▎| 192/207 [00:08<00:01, 12.93it/s]A"
     ]
    },
    {
     "name": "stdout",
     "output_type": "stream",
     "text": [
      "{'ade': 0.2952795, 'fde': 0.6459841}\n",
      "\t last loss:0.000251472, eval on validation:['ade: 0.2952795', 'fde: 0.6459841'], (best ade:0.29317063 at step 9300) \n"
     ]
    },
    {
     "name": "stderr",
     "output_type": "stream",
     "text": [
      "100%|██████████| 207/207 [00:08<00:00, 22.29it/s]\n",
      "  1%|          | 2/207 [00:00<00:12, 15.94it/s]"
     ]
    },
    {
     "name": "stdout",
     "output_type": "stream",
     "text": [
      "('Epoca 75.', 'lr:', 4.8924985e-06)\n"
     ]
    },
    {
     "name": "stderr",
     "output_type": "stream",
     "text": [
      "100%|██████████| 207/207 [00:08<00:00, 25.27it/s]\n",
      "  0%|          | 1/207 [00:00<00:21,  9.52it/s]"
     ]
    },
    {
     "name": "stdout",
     "output_type": "stream",
     "text": [
      "('Epoca 76.', 'lr:', 4.8924985e-06)\n"
     ]
    },
    {
     "name": "stderr",
     "output_type": "stream",
     "text": [
      " 35%|███▌      | 73/207 [00:02<00:05, 25.69it/s]"
     ]
    },
    {
     "name": "stdout",
     "output_type": "stream",
     "text": [
      "\tsaving model 15600...\n"
     ]
    },
    {
     "name": "stderr",
     "output_type": "stream",
     "text": [
      "\n",
      "  0%|          | 0/30 [00:00<?, ?it/s]\u001b[A\n",
      " 27%|##6       | 8/30 [00:00<00:00, 77.59it/s]\u001b[A"
     ]
    },
    {
     "name": "stdout",
     "output_type": "stream",
     "text": [
      "\tdone\n",
      "Evaluating\n"
     ]
    },
    {
     "name": "stderr",
     "output_type": "stream",
     "text": [
      "\n",
      " 57%|#####6    | 17/30 [00:00<00:00, 79.50it/s]\u001b[A\n",
      " 87%|########6 | 26/30 [00:00<00:00, 81.03it/s]\u001b[A\n",
      " 38%|███▊      | 79/207 [00:03<00:10, 12.34it/s][A"
     ]
    },
    {
     "name": "stdout",
     "output_type": "stream",
     "text": [
      "{'ade': 0.2946256, 'fde': 0.6448191}\n",
      "\t last loss:0.000358264, eval on validation:['ade: 0.2946256', 'fde: 0.6448191'], (best ade:0.29317063 at step 9300) \n"
     ]
    },
    {
     "name": "stderr",
     "output_type": "stream",
     "text": [
      "100%|██████████| 207/207 [00:08<00:00, 23.56it/s]\n",
      "  1%|▏         | 3/207 [00:00<00:07, 25.97it/s]"
     ]
    },
    {
     "name": "stdout",
     "output_type": "stream",
     "text": [
      "('Epoca 77.', 'lr:', 4.158624e-06)\n"
     ]
    },
    {
     "name": "stderr",
     "output_type": "stream",
     "text": [
      " 80%|███████▉  | 165/207 [00:06<00:01, 26.15it/s]\n",
      "  0%|          | 0/30 [00:00<?, ?it/s]\u001b[A"
     ]
    },
    {
     "name": "stdout",
     "output_type": "stream",
     "text": [
      "\tsaving model 15900...\n",
      "\tdone\n",
      "Evaluating\n"
     ]
    },
    {
     "name": "stderr",
     "output_type": "stream",
     "text": [
      "\n",
      " 27%|##6       | 8/30 [00:00<00:00, 79.76it/s]\u001b[A\n",
      " 60%|######    | 18/30 [00:00<00:00, 82.97it/s]\u001b[A\n",
      " 93%|#########3| 28/30 [00:00<00:00, 86.05it/s]\u001b[A\n",
      " 83%|████████▎ | 171/207 [00:07<00:02, 13.26it/s]A"
     ]
    },
    {
     "name": "stdout",
     "output_type": "stream",
     "text": [
      "{'ade': 0.2954743, 'fde': 0.6465995}\n",
      "\t last loss:0.000205306, eval on validation:['ade: 0.2954743', 'fde: 0.6465995'], (best ade:0.29317063 at step 9300) \n"
     ]
    },
    {
     "name": "stderr",
     "output_type": "stream",
     "text": [
      "100%|██████████| 207/207 [00:08<00:00, 24.86it/s]\n",
      "  1%|          | 2/207 [00:00<00:13, 14.78it/s]"
     ]
    },
    {
     "name": "stdout",
     "output_type": "stream",
     "text": [
      "('Epoca 78.', 'lr:', 4.158624e-06)\n"
     ]
    },
    {
     "name": "stderr",
     "output_type": "stream",
     "text": [
      "100%|██████████| 207/207 [00:08<00:00, 25.43it/s]\n",
      "  1%|          | 2/207 [00:00<00:12, 16.77it/s]"
     ]
    },
    {
     "name": "stdout",
     "output_type": "stream",
     "text": [
      "('Epoca 79.', 'lr:', 3.5348305e-06)\n"
     ]
    },
    {
     "name": "stderr",
     "output_type": "stream",
     "text": [
      " 26%|██▌       | 53/207 [00:02<00:06, 25.08it/s]"
     ]
    },
    {
     "name": "stdout",
     "output_type": "stream",
     "text": [
      "\tsaving model 16200...\n"
     ]
    },
    {
     "name": "stderr",
     "output_type": "stream",
     "text": [
      "\n",
      "  0%|          | 0/30 [00:00<?, ?it/s]\u001b[A\n",
      " 30%|###       | 9/30 [00:00<00:00, 84.72it/s]\u001b[A"
     ]
    },
    {
     "name": "stdout",
     "output_type": "stream",
     "text": [
      "\tdone\n",
      "Evaluating\n"
     ]
    },
    {
     "name": "stderr",
     "output_type": "stream",
     "text": [
      "\n",
      " 57%|#####6    | 17/30 [00:00<00:00, 82.71it/s]\u001b[A\n",
      " 87%|########6 | 26/30 [00:00<00:00, 83.01it/s]\u001b[A\n",
      " 27%|██▋       | 56/207 [00:02<00:15,  9.99it/s][A"
     ]
    },
    {
     "name": "stdout",
     "output_type": "stream",
     "text": [
      "{'ade': 0.29425487, 'fde': 0.6439199}\n",
      "\t last loss:0.000262026, eval on validation:['ade: 0.29425487', 'fde: 0.6439199'], (best ade:0.29317063 at step 9300) \n"
     ]
    },
    {
     "name": "stderr",
     "output_type": "stream",
     "text": [
      "100%|██████████| 207/207 [00:08<00:00, 23.61it/s]\n",
      "  1%|▏         | 3/207 [00:00<00:08, 22.68it/s]"
     ]
    },
    {
     "name": "stdout",
     "output_type": "stream",
     "text": [
      "('Epoca 80.', 'lr:', 3.5348305e-06)\n"
     ]
    },
    {
     "name": "stderr",
     "output_type": "stream",
     "text": [
      " 70%|██████▉   | 144/207 [00:05<00:02, 26.74it/s]\n",
      "  0%|          | 0/30 [00:00<?, ?it/s]\u001b[A"
     ]
    },
    {
     "name": "stdout",
     "output_type": "stream",
     "text": [
      "\tsaving model 16500...\n",
      "\tdone\n",
      "Evaluating\n"
     ]
    },
    {
     "name": "stderr",
     "output_type": "stream",
     "text": [
      "\n",
      " 33%|###3      | 10/30 [00:00<00:00, 91.09it/s]\u001b[A\n",
      " 67%|######6   | 20/30 [00:00<00:00, 91.48it/s]\u001b[A\n",
      " 72%|███████▏  | 150/207 [00:06<00:04, 13.36it/s]A"
     ]
    },
    {
     "name": "stdout",
     "output_type": "stream",
     "text": [
      "{'ade': 0.2971387, 'fde': 0.6513398}\n",
      "\t last loss:0.000258485, eval on validation:['ade: 0.2971387', 'fde: 0.6513398'], (best ade:0.29317063 at step 9300) \n"
     ]
    },
    {
     "name": "stderr",
     "output_type": "stream",
     "text": [
      "100%|██████████| 207/207 [00:08<00:00, 24.48it/s]\n",
      "  0%|          | 1/207 [00:00<00:22,  9.33it/s]"
     ]
    },
    {
     "name": "stdout",
     "output_type": "stream",
     "text": [
      "('Epoca 81.', 'lr:', 3.004606e-06)\n"
     ]
    },
    {
     "name": "stderr",
     "output_type": "stream",
     "text": [
      "100%|██████████| 207/207 [00:08<00:00, 25.14it/s]\n",
      "  1%|          | 2/207 [00:00<00:13, 15.12it/s]"
     ]
    },
    {
     "name": "stdout",
     "output_type": "stream",
     "text": [
      "('Epoca 82.', 'lr:', 3.004606e-06)\n"
     ]
    },
    {
     "name": "stderr",
     "output_type": "stream",
     "text": [
      " 15%|█▌        | 32/207 [00:01<00:07, 24.34it/s]\n"
     ]
    },
    {
     "name": "stdout",
     "output_type": "stream",
     "text": [
      "\tsaving model 16800...\n",
      "\tdone\n",
      "Evaluating\n"
     ]
    },
    {
     "name": "stderr",
     "output_type": "stream",
     "text": [
      "  0%|          | 0/30 [00:00<?, ?it/s]\u001b[A\n",
      " 27%|##6       | 8/30 [00:00<00:00, 72.28it/s]\u001b[A\n",
      " 57%|#####6    | 17/30 [00:00<00:00, 75.92it/s]\u001b[A\n",
      " 87%|########6 | 26/30 [00:00<00:00, 77.75it/s]\u001b[A\n",
      " 17%|█▋        | 35/207 [00:02<00:17, 10.04it/s][A"
     ]
    },
    {
     "name": "stdout",
     "output_type": "stream",
     "text": [
      "{'ade': 0.2955575, 'fde': 0.64724684}\n",
      "\t last loss:0.000232734, eval on validation:['ade: 0.2955575', 'fde: 0.64724684'], (best ade:0.29317063 at step 9300) \n"
     ]
    },
    {
     "name": "stderr",
     "output_type": "stream",
     "text": [
      "100%|██████████| 207/207 [00:08<00:00, 23.43it/s]\n",
      "  1%|▏         | 3/207 [00:00<00:08, 24.24it/s]"
     ]
    },
    {
     "name": "stdout",
     "output_type": "stream",
     "text": [
      "('Epoca 83.', 'lr:', 2.5539152e-06)\n"
     ]
    },
    {
     "name": "stderr",
     "output_type": "stream",
     "text": [
      " 59%|█████▉    | 123/207 [00:04<00:03, 26.77it/s]\n",
      "  0%|          | 0/30 [00:00<?, ?it/s]\u001b[A"
     ]
    },
    {
     "name": "stdout",
     "output_type": "stream",
     "text": [
      "\tsaving model 17100...\n",
      "\tdone\n",
      "Evaluating\n"
     ]
    },
    {
     "name": "stderr",
     "output_type": "stream",
     "text": [
      "\n",
      " 33%|###3      | 10/30 [00:00<00:00, 93.45it/s]\u001b[A\n",
      " 67%|######6   | 20/30 [00:00<00:00, 93.64it/s]\u001b[A\n",
      " 62%|██████▏   | 129/207 [00:05<00:05, 13.28it/s]A"
     ]
    },
    {
     "name": "stdout",
     "output_type": "stream",
     "text": [
      "{'ade': 0.2939214, 'fde': 0.6429523}\n",
      "\t last loss:0.000200047, eval on validation:['ade: 0.2939214', 'fde: 0.6429523'], (best ade:0.29317063 at step 9300) \n"
     ]
    },
    {
     "name": "stderr",
     "output_type": "stream",
     "text": [
      "100%|██████████| 207/207 [00:08<00:00, 24.34it/s]\n",
      "  0%|          | 1/207 [00:00<00:23,  8.69it/s]"
     ]
    },
    {
     "name": "stdout",
     "output_type": "stream",
     "text": [
      "('Epoca 84.', 'lr:', 2.5539152e-06)\n"
     ]
    },
    {
     "name": "stderr",
     "output_type": "stream",
     "text": [
      "100%|██████████| 207/207 [00:08<00:00, 25.30it/s]\n",
      "  0%|          | 1/207 [00:00<00:23,  8.83it/s]"
     ]
    },
    {
     "name": "stdout",
     "output_type": "stream",
     "text": [
      "('Epoca 85.', 'lr:', 2.170828e-06)\n"
     ]
    },
    {
     "name": "stderr",
     "output_type": "stream",
     "text": [
      "  5%|▍         | 10/207 [00:00<00:12, 15.22it/s]\n"
     ]
    },
    {
     "name": "stdout",
     "output_type": "stream",
     "text": [
      "\tsaving model 17400...\n",
      "\tdone\n",
      "Evaluating\n"
     ]
    },
    {
     "name": "stderr",
     "output_type": "stream",
     "text": [
      "  0%|          | 0/30 [00:00<?, ?it/s]\u001b[A\n",
      " 30%|###       | 9/30 [00:00<00:00, 84.51it/s]\u001b[A\n",
      " 60%|######    | 18/30 [00:00<00:00, 84.81it/s]\u001b[A\n",
      " 90%|######### | 27/30 [00:00<00:00, 84.10it/s]\u001b[A\n",
      "  7%|▋         | 15/207 [00:01<00:21,  8.78it/s][A"
     ]
    },
    {
     "name": "stdout",
     "output_type": "stream",
     "text": [
      "{'ade': 0.29453275, 'fde': 0.64445215}\n",
      "\t last loss:0.000236479, eval on validation:['ade: 0.29453275', 'fde: 0.64445215'], (best ade:0.29317063 at step 9300) \n"
     ]
    },
    {
     "name": "stderr",
     "output_type": "stream",
     "text": [
      "100%|██████████| 207/207 [00:08<00:00, 24.49it/s]\n",
      "  0%|          | 1/207 [00:00<00:21,  9.47it/s]"
     ]
    },
    {
     "name": "stdout",
     "output_type": "stream",
     "text": [
      "('Epoca 86.', 'lr:', 2.170828e-06)\n"
     ]
    },
    {
     "name": "stderr",
     "output_type": "stream",
     "text": [
      " 50%|████▉     | 103/207 [00:03<00:03, 26.17it/s]\n",
      "  0%|          | 0/30 [00:00<?, ?it/s]\u001b[A"
     ]
    },
    {
     "name": "stdout",
     "output_type": "stream",
     "text": [
      "\tsaving model 17700...\n",
      "\tdone\n",
      "Evaluating\n"
     ]
    },
    {
     "name": "stderr",
     "output_type": "stream",
     "text": [
      "\n",
      " 33%|###3      | 10/30 [00:00<00:00, 93.74it/s]\u001b[A\n",
      " 67%|######6   | 20/30 [00:00<00:00, 93.55it/s]\u001b[A\n",
      " 97%|#########6| 29/30 [00:00<00:00, 92.40it/s]\u001b[A\n",
      " 51%|█████     | 106/207 [00:04<00:09, 10.89it/s]A"
     ]
    },
    {
     "name": "stdout",
     "output_type": "stream",
     "text": [
      "{'ade': 0.29453227, 'fde': 0.64454734}\n",
      "\t last loss:0.000250605, eval on validation:['ade: 0.29453227', 'fde: 0.64454734'], (best ade:0.29317063 at step 9300) \n"
     ]
    },
    {
     "name": "stderr",
     "output_type": "stream",
     "text": [
      "100%|██████████| 207/207 [00:08<00:00, 23.55it/s]\n",
      "  1%|          | 2/207 [00:00<00:11, 18.63it/s]"
     ]
    },
    {
     "name": "stdout",
     "output_type": "stream",
     "text": [
      "('Epoca 87.', 'lr:', 1.8452038e-06)\n"
     ]
    },
    {
     "name": "stderr",
     "output_type": "stream",
     "text": [
      " 95%|█████████▌| 197/207 [00:09<00:00, 18.80it/s]"
     ]
    },
    {
     "name": "stdout",
     "output_type": "stream",
     "text": [
      "\tsaving model 18000...\n"
     ]
    },
    {
     "name": "stderr",
     "output_type": "stream",
     "text": [
      "\n",
      "  0%|          | 0/30 [00:00<?, ?it/s]\u001b[A\n",
      " 27%|##6       | 8/30 [00:00<00:00, 74.01it/s]\u001b[A"
     ]
    },
    {
     "name": "stdout",
     "output_type": "stream",
     "text": [
      "\tdone\n",
      "Evaluating\n"
     ]
    },
    {
     "name": "stderr",
     "output_type": "stream",
     "text": [
      "\n",
      " 50%|#####     | 15/30 [00:00<00:00, 72.15it/s]\u001b[A\n",
      " 73%|#######3  | 22/30 [00:00<00:00, 68.91it/s]\u001b[A\n",
      " 96%|█████████▌| 199/207 [00:10<00:01,  6.61it/s]A"
     ]
    },
    {
     "name": "stdout",
     "output_type": "stream",
     "text": [
      "{'ade': 0.2941403, 'fde': 0.643425}\n",
      "\t last loss:0.000134053, eval on validation:['ade: 0.2941403', 'fde: 0.643425'], (best ade:0.29317063 at step 9300) \n"
     ]
    },
    {
     "name": "stderr",
     "output_type": "stream",
     "text": [
      "100%|██████████| 207/207 [00:10<00:00, 19.68it/s]\n",
      "  1%|          | 2/207 [00:00<00:10, 18.88it/s]"
     ]
    },
    {
     "name": "stdout",
     "output_type": "stream",
     "text": [
      "('Epoca 88.', 'lr:', 1.8452038e-06)\n"
     ]
    },
    {
     "name": "stderr",
     "output_type": "stream",
     "text": [
      "100%|██████████| 207/207 [00:10<00:00, 21.61it/s]\n",
      "  1%|▏         | 3/207 [00:00<00:09, 21.54it/s]"
     ]
    },
    {
     "name": "stdout",
     "output_type": "stream",
     "text": [
      "('Epoca 89.', 'lr:', 1.5684233e-06)\n"
     ]
    },
    {
     "name": "stderr",
     "output_type": "stream",
     "text": [
      " 40%|████      | 83/207 [00:03<00:07, 16.59it/s]"
     ]
    },
    {
     "name": "stdout",
     "output_type": "stream",
     "text": [
      "\tsaving model 18300...\n"
     ]
    },
    {
     "name": "stderr",
     "output_type": "stream",
     "text": [
      "\n",
      "  0%|          | 0/30 [00:00<?, ?it/s]\u001b[A\n",
      " 20%|##        | 6/30 [00:00<00:00, 56.31it/s]\u001b[A"
     ]
    },
    {
     "name": "stdout",
     "output_type": "stream",
     "text": [
      "\tdone\n",
      "Evaluating\n"
     ]
    },
    {
     "name": "stderr",
     "output_type": "stream",
     "text": [
      "\n",
      " 40%|####      | 12/30 [00:00<00:00, 53.37it/s]\u001b[A\n",
      " 60%|######    | 18/30 [00:00<00:00, 54.09it/s]\u001b[A\n",
      " 83%|########3 | 25/30 [00:00<00:00, 56.35it/s]\u001b[A\n",
      " 41%|████      | 85/207 [00:04<00:21,  5.63it/s][A"
     ]
    },
    {
     "name": "stdout",
     "output_type": "stream",
     "text": [
      "{'ade': 0.29495236, 'fde': 0.64541507}\n",
      "\t last loss:0.000160566, eval on validation:['ade: 0.29495236', 'fde: 0.64541507'], (best ade:0.29317063 at step 9300) \n"
     ]
    },
    {
     "name": "stderr",
     "output_type": "stream",
     "text": [
      "100%|██████████| 207/207 [00:10<00:00, 20.17it/s]\n",
      "  0%|          | 1/207 [00:00<00:21,  9.74it/s]"
     ]
    },
    {
     "name": "stdout",
     "output_type": "stream",
     "text": [
      "('Epoca 90.', 'lr:', 1.5684233e-06)\n"
     ]
    },
    {
     "name": "stderr",
     "output_type": "stream",
     "text": [
      " 84%|████████▍ | 174/207 [00:08<00:01, 22.08it/s]"
     ]
    },
    {
     "name": "stdout",
     "output_type": "stream",
     "text": [
      "\tsaving model 18600...\n"
     ]
    },
    {
     "name": "stderr",
     "output_type": "stream",
     "text": [
      "\n",
      "  0%|          | 0/30 [00:00<?, ?it/s]\u001b[A\n",
      " 23%|##3       | 7/30 [00:00<00:00, 64.12it/s]\u001b[A"
     ]
    },
    {
     "name": "stdout",
     "output_type": "stream",
     "text": [
      "\tdone\n",
      "Evaluating\n"
     ]
    },
    {
     "name": "stderr",
     "output_type": "stream",
     "text": [
      "\n",
      " 50%|#####     | 15/30 [00:00<00:00, 67.13it/s]\u001b[A\n",
      " 77%|#######6  | 23/30 [00:00<00:00, 69.89it/s]\u001b[A\n",
      " 87%|████████▋ | 180/207 [00:09<00:02, 11.38it/s]A"
     ]
    },
    {
     "name": "stdout",
     "output_type": "stream",
     "text": [
      "{'ade': 0.29352123, 'fde': 0.64200133}\n",
      "\t last loss:0.000379448, eval on validation:['ade: 0.29352123', 'fde: 0.64200133'], (best ade:0.29317063 at step 9300) \n"
     ]
    },
    {
     "name": "stderr",
     "output_type": "stream",
     "text": [
      "100%|██████████| 207/207 [00:10<00:00, 23.94it/s]\n",
      "  0%|          | 1/207 [00:00<00:26,  7.69it/s]"
     ]
    },
    {
     "name": "stdout",
     "output_type": "stream",
     "text": [
      "('Epoca 91.', 'lr:', 1.3331598e-06)\n"
     ]
    },
    {
     "name": "stderr",
     "output_type": "stream",
     "text": [
      "100%|██████████| 207/207 [00:09<00:00, 22.99it/s]\n",
      "  1%|▏         | 3/207 [00:00<00:09, 21.92it/s]"
     ]
    },
    {
     "name": "stdout",
     "output_type": "stream",
     "text": [
      "('Epoca 92.', 'lr:', 1.3331598e-06)\n"
     ]
    },
    {
     "name": "stderr",
     "output_type": "stream",
     "text": [
      " 29%|██▉       | 60/207 [00:02<00:06, 23.21it/s]"
     ]
    },
    {
     "name": "stdout",
     "output_type": "stream",
     "text": [
      "\tsaving model 18900...\n"
     ]
    },
    {
     "name": "stderr",
     "output_type": "stream",
     "text": [
      "\n",
      "  0%|          | 0/30 [00:00<?, ?it/s]\u001b[A\n",
      " 27%|##6       | 8/30 [00:00<00:00, 74.56it/s]\u001b[A"
     ]
    },
    {
     "name": "stdout",
     "output_type": "stream",
     "text": [
      "\tdone\n",
      "Evaluating\n"
     ]
    },
    {
     "name": "stderr",
     "output_type": "stream",
     "text": [
      "\n",
      " 53%|#####3    | 16/30 [00:00<00:00, 75.90it/s]\u001b[A\n",
      " 80%|########  | 24/30 [00:00<00:00, 75.96it/s]\u001b[A\n",
      " 32%|███▏      | 66/207 [00:03<00:12, 11.20it/s][A"
     ]
    },
    {
     "name": "stdout",
     "output_type": "stream",
     "text": [
      "{'ade': 0.29410052, 'fde': 0.64349335}\n",
      "\t last loss:0.000436817, eval on validation:['ade: 0.29410052', 'fde: 0.64349335'], (best ade:0.29317063 at step 9300) \n"
     ]
    },
    {
     "name": "stderr",
     "output_type": "stream",
     "text": [
      "100%|██████████| 207/207 [00:09<00:00, 21.99it/s]\n",
      "  1%|▏         | 3/207 [00:00<00:09, 22.40it/s]"
     ]
    },
    {
     "name": "stdout",
     "output_type": "stream",
     "text": [
      "('Epoca 93.', 'lr:', 1.1331858e-06)\n"
     ]
    },
    {
     "name": "stderr",
     "output_type": "stream",
     "text": [
      " 74%|███████▍  | 153/207 [00:06<00:02, 25.48it/s]\n",
      "  0%|          | 0/30 [00:00<?, ?it/s]\u001b[A"
     ]
    },
    {
     "name": "stdout",
     "output_type": "stream",
     "text": [
      "\tsaving model 19200...\n",
      "\tdone\n",
      "Evaluating\n"
     ]
    },
    {
     "name": "stderr",
     "output_type": "stream",
     "text": [
      "\n",
      " 27%|##6       | 8/30 [00:00<00:00, 75.25it/s]\u001b[A\n",
      " 57%|#####6    | 17/30 [00:00<00:00, 78.24it/s]\u001b[A\n",
      " 83%|########3 | 25/30 [00:00<00:00, 78.25it/s]\u001b[A\n",
      " 77%|███████▋  | 159/207 [00:07<00:03, 12.27it/s]A"
     ]
    },
    {
     "name": "stdout",
     "output_type": "stream",
     "text": [
      "{'ade': 0.29557467, 'fde': 0.64728725}\n",
      "\t last loss:0.000278713, eval on validation:['ade: 0.29557467', 'fde: 0.64728725'], (best ade:0.29317063 at step 9300) \n"
     ]
    },
    {
     "name": "stderr",
     "output_type": "stream",
     "text": [
      "100%|██████████| 207/207 [00:09<00:00, 22.23it/s]\n",
      "  1%|▏         | 3/207 [00:00<00:08, 23.58it/s]"
     ]
    },
    {
     "name": "stdout",
     "output_type": "stream",
     "text": [
      "('Epoca 94.', 'lr:', 1.1331858e-06)\n"
     ]
    },
    {
     "name": "stderr",
     "output_type": "stream",
     "text": [
      "100%|██████████| 207/207 [00:08<00:00, 25.00it/s]\n",
      "  1%|          | 2/207 [00:00<00:13, 15.71it/s]"
     ]
    },
    {
     "name": "stdout",
     "output_type": "stream",
     "text": [
      "('Epoca 95.', 'lr:', 9.63208e-07)\n"
     ]
    },
    {
     "name": "stderr",
     "output_type": "stream",
     "text": [
      " 20%|█▉        | 41/207 [00:01<00:07, 23.58it/s]"
     ]
    },
    {
     "name": "stdout",
     "output_type": "stream",
     "text": [
      "\tsaving model 19500...\n"
     ]
    },
    {
     "name": "stderr",
     "output_type": "stream",
     "text": [
      "\n",
      "  0%|          | 0/30 [00:00<?, ?it/s]\u001b[A\n",
      " 27%|##6       | 8/30 [00:00<00:00, 76.40it/s]\u001b[A"
     ]
    },
    {
     "name": "stdout",
     "output_type": "stream",
     "text": [
      "\tdone\n",
      "Evaluating\n"
     ]
    },
    {
     "name": "stderr",
     "output_type": "stream",
     "text": [
      "\n",
      " 53%|#####3    | 16/30 [00:00<00:00, 75.52it/s]\u001b[A\n",
      " 80%|########  | 24/30 [00:00<00:00, 76.09it/s]\u001b[A\n",
      " 21%|██▏       | 44/207 [00:02<00:16,  9.62it/s][A"
     ]
    },
    {
     "name": "stdout",
     "output_type": "stream",
     "text": [
      "{'ade': 0.29459435, 'fde': 0.64466065}\n",
      "\t last loss:0.000375567, eval on validation:['ade: 0.29459435', 'fde: 0.64466065'], (best ade:0.29317063 at step 9300) \n"
     ]
    },
    {
     "name": "stderr",
     "output_type": "stream",
     "text": [
      "100%|██████████| 207/207 [00:09<00:00, 22.13it/s]\n",
      "  1%|          | 2/207 [00:00<00:10, 19.67it/s]"
     ]
    },
    {
     "name": "stdout",
     "output_type": "stream",
     "text": [
      "('Epoca 96.', 'lr:', 9.63208e-07)\n"
     ]
    },
    {
     "name": "stderr",
     "output_type": "stream",
     "text": [
      " 65%|██████▍   | 134/207 [00:05<00:03, 24.30it/s]"
     ]
    },
    {
     "name": "stdout",
     "output_type": "stream",
     "text": [
      "\tsaving model 19800...\n"
     ]
    },
    {
     "name": "stderr",
     "output_type": "stream",
     "text": [
      "\n",
      "  0%|          | 0/30 [00:00<?, ?it/s]\u001b[A\n",
      " 20%|##        | 6/30 [00:00<00:00, 56.84it/s]\u001b[A"
     ]
    },
    {
     "name": "stdout",
     "output_type": "stream",
     "text": [
      "\tdone\n",
      "Evaluating\n"
     ]
    },
    {
     "name": "stderr",
     "output_type": "stream",
     "text": [
      "\n",
      " 40%|####      | 12/30 [00:00<00:00, 57.67it/s]\u001b[A\n",
      " 60%|######    | 18/30 [00:00<00:00, 57.41it/s]\u001b[A\n",
      " 83%|########3 | 25/30 [00:00<00:00, 60.30it/s]\u001b[A\n",
      " 66%|██████▌   | 137/207 [00:06<00:08,  8.70it/s]A"
     ]
    },
    {
     "name": "stdout",
     "output_type": "stream",
     "text": [
      "{'ade': 0.29440916, 'fde': 0.64409274}\n",
      "\t last loss:0.000208844, eval on validation:['ade: 0.29440916', 'fde: 0.64409274'], (best ade:0.29317063 at step 9300) \n"
     ]
    },
    {
     "name": "stderr",
     "output_type": "stream",
     "text": [
      "100%|██████████| 207/207 [00:09<00:00, 21.80it/s]\n",
      "  1%|          | 2/207 [00:00<00:14, 13.77it/s]"
     ]
    },
    {
     "name": "stdout",
     "output_type": "stream",
     "text": [
      "('Epoca 97.', 'lr:', 8.187269e-07)\n"
     ]
    },
    {
     "name": "stderr",
     "output_type": "stream",
     "text": [
      "100%|██████████| 207/207 [00:08<00:00, 24.12it/s]\n",
      "  1%|▏         | 3/207 [00:00<00:09, 21.61it/s]"
     ]
    },
    {
     "name": "stdout",
     "output_type": "stream",
     "text": [
      "('Epoca 98.', 'lr:', 8.187269e-07)\n"
     ]
    },
    {
     "name": "stderr",
     "output_type": "stream",
     "text": [
      "  9%|▊         | 18/207 [00:00<00:07, 23.79it/s]"
     ]
    },
    {
     "name": "stdout",
     "output_type": "stream",
     "text": [
      "\tsaving model 20100...\n"
     ]
    },
    {
     "name": "stderr",
     "output_type": "stream",
     "text": [
      "\n",
      "  0%|          | 0/30 [00:00<?, ?it/s]\u001b[A\n",
      " 27%|##6       | 8/30 [00:00<00:00, 79.89it/s]\u001b[A\n",
      " 57%|#####6    | 17/30 [00:00<00:00, 82.51it/s]\u001b[A\n",
      " 87%|########6 | 26/30 [00:00<00:00, 83.22it/s]\u001b[A\n",
      " 12%|█▏        | 24/207 [00:01<00:15, 12.17it/s][A"
     ]
    },
    {
     "name": "stdout",
     "output_type": "stream",
     "text": [
      "\tdone\n",
      "Evaluating\n",
      "{'ade': 0.2949718, 'fde': 0.6456527}\n",
      "\t last loss:0.000466860, eval on validation:['ade: 0.2949718', 'fde: 0.6456527'], (best ade:0.29317063 at step 9300) \n"
     ]
    },
    {
     "name": "stderr",
     "output_type": "stream",
     "text": [
      "100%|██████████| 207/207 [00:09<00:00, 23.73it/s]\n",
      "  0%|          | 1/207 [00:00<00:21,  9.72it/s]"
     ]
    },
    {
     "name": "stdout",
     "output_type": "stream",
     "text": [
      "('Epoca 99.', 'lr:', 6.9591783e-07)\n"
     ]
    },
    {
     "name": "stderr",
     "output_type": "stream",
     "text": [
      " 54%|█████▍    | 112/207 [00:04<00:03, 23.80it/s]"
     ]
    },
    {
     "name": "stdout",
     "output_type": "stream",
     "text": [
      "\tsaving model 20400...\n"
     ]
    },
    {
     "name": "stderr",
     "output_type": "stream",
     "text": [
      "\n",
      "  0%|          | 0/30 [00:00<?, ?it/s]\u001b[A\n",
      " 23%|##3       | 7/30 [00:00<00:00, 67.80it/s]\u001b[A"
     ]
    },
    {
     "name": "stdout",
     "output_type": "stream",
     "text": [
      "\tdone\n",
      "Evaluating\n"
     ]
    },
    {
     "name": "stderr",
     "output_type": "stream",
     "text": [
      "\n",
      " 50%|#####     | 15/30 [00:00<00:00, 70.30it/s]\u001b[A\n",
      " 77%|#######6  | 23/30 [00:00<00:00, 72.19it/s]\u001b[A\n",
      " 56%|█████▌    | 115/207 [00:05<00:09,  9.63it/s]A"
     ]
    },
    {
     "name": "stdout",
     "output_type": "stream",
     "text": [
      "{'ade': 0.29455438, 'fde': 0.6444909}\n",
      "\t last loss:0.000201136, eval on validation:['ade: 0.29455438', 'fde: 0.6444909'], (best ade:0.29317063 at step 9300) \n"
     ]
    },
    {
     "name": "stderr",
     "output_type": "stream",
     "text": [
      "100%|██████████| 207/207 [00:09<00:00, 25.02it/s]\n",
      "  0%|          | 1/207 [00:00<00:23,  8.86it/s]"
     ]
    },
    {
     "name": "stdout",
     "output_type": "stream",
     "text": [
      "('Epoca 100.', 'lr:', 6.9591783e-07)\n"
     ]
    },
    {
     "name": "stderr",
     "output_type": "stream",
     "text": [
      " 99%|█████████▊| 204/207 [00:08<00:00, 22.95it/s]"
     ]
    },
    {
     "name": "stdout",
     "output_type": "stream",
     "text": [
      "\tsaving model 20700...\n"
     ]
    },
    {
     "name": "stderr",
     "output_type": "stream",
     "text": [
      "\n",
      "  0%|          | 0/30 [00:00<?, ?it/s]\u001b[A\n",
      " 23%|##3       | 7/30 [00:00<00:00, 64.50it/s]\u001b[A"
     ]
    },
    {
     "name": "stdout",
     "output_type": "stream",
     "text": [
      "\tdone\n",
      "Evaluating\n"
     ]
    },
    {
     "name": "stderr",
     "output_type": "stream",
     "text": [
      "\n",
      " 53%|#####3    | 16/30 [00:00<00:00, 69.00it/s]\u001b[A\n",
      " 80%|########  | 24/30 [00:00<00:00, 70.83it/s]\u001b[A\n",
      "100%|██████████| 207/207 [00:09<00:00,  9.50it/s]A"
     ]
    },
    {
     "name": "stdout",
     "output_type": "stream",
     "text": [
      "{'ade': 0.29465842, 'fde': 0.6446474}\n",
      "\t last loss:0.000191094, eval on validation:['ade: 0.29465842', 'fde: 0.6446474'], (best ade:0.29317063 at step 9300) \n",
      "best eval on val ade: 0.29317063 at 9300 step y fde es 0.6401082 \n"
     ]
    },
    {
     "name": "stderr",
     "output_type": "stream",
     "text": [
      "\n"
     ]
    }
   ],
   "source": [
    "import os \n",
    "from tqdm import tqdm\n",
    "import tensorflow as tf\n",
    "import math\n",
    "\n",
    "tf.reset_default_graph()\n",
    "\n",
    "arguments = parameters1(add_kp = False, add_social = True,train_num_examples=len(data1['obs_traj']))\n",
    "model = model.Model(arguments)\n",
    "\n",
    "train_data = batches_data.Dataset(data1,arguments)\n",
    "val_data = batches_data.Dataset(data3,arguments)\n",
    "\n",
    "saver = tf.train.Saver(max_to_keep = 2)\n",
    "bestsaver = tf.train.Saver(max_to_keep = 2)\n",
    "\n",
    "\n",
    "trainer = entrenamientoevaluacion.Trainer(model,arguments)\n",
    "tester = entrenamientoevaluacion.Tester(model, arguments)\n",
    "\n",
    "#inicializamos las variables globales\n",
    "init = tf.global_variables_initializer()\n",
    "sess = tf.Session()\n",
    "sess.run(init)\n",
    "\n",
    "increment_global_step_op = tf.assign(model.global_step, model.global_step+1)\n",
    "\n",
    "val_perf = []\n",
    "loss = -1\n",
    "metric = 'ade'\n",
    "\n",
    "best = {metric:999999, 'fde':0, 'step':-1}\n",
    "is_start = True\n",
    "\n",
    "num_steps = int(math.ceil(train_data.num_examples/float(arguments.batch_size)))\n",
    "loss_list = []\n",
    "print(num_steps)\n",
    "\n",
    "for i in range(arguments.num_epochs):\n",
    "    print('Epoca {0}.' .format(i+1), 'lr:', sess.run(trainer.get_lr()))\n",
    "    \n",
    "    #For de batches\n",
    "    for idx, batch in tqdm(train_data.get_batches(arguments.batch_size,num_steps = num_steps),total=num_steps):\n",
    "        \n",
    "        sess.run(increment_global_step_op)\n",
    "        global_step = sess.run(model.global_step)\n",
    "\n",
    "        #Evaluamos el entrenamiento\n",
    "        if((global_step%arguments.validate==0) or (arguments.load_best and is_start)):\n",
    "            tqdm.write(\"\\tsaving model %s...\" % global_step)\n",
    "            checkpoint_path_model = os.path.join('sin_KP_NoN_Zara02_social12', 'model.ckpt')\n",
    "            saver.save(sess,checkpoint_path_model , global_step = global_step)\n",
    "            tqdm.write(\"\\tdone\")\n",
    "            \n",
    "            print('Evaluating')\n",
    "            results = evaluate(val_data, tester,sess,arguments)\n",
    "            print(results)\n",
    "           \n",
    "            tqdm.write((\"\\t last loss:%.9f, eval on validation:%s,\"\n",
    "                    \" (best %s:%s at step %s) \") % (loss,[\"%s: %s\" % (k, results[k]) for k in sorted(results.keys())], metric,best[metric], best[\"step\"]))\n",
    "            if results[\"ade\"]< best[metric]:\n",
    "                best[metric] = results[\"ade\"]\n",
    "                best[\"fde\"] =results[\"fde\"]\n",
    "                best[\"step\"] = global_step\n",
    "                \n",
    "                tqdm.write(\"\\t saving best model...\")\n",
    "                checkpoint_path_model_best = os.path.join('sin_KP_NoN_Zara02_social-best12', 'model_best.ckpt')\n",
    "                bestsaver.save(sess,checkpoint_path_model_best,global_step = global_step)\n",
    "                tqdm.write(\"\\t done.\")\n",
    "                finalperf = results\n",
    "                val_perf.append((loss, results))\n",
    "            is_start = False\n",
    "        loss, train_op = trainer.step(sess, batch)\n",
    "        loss_list.append(loss)\n",
    "    \n",
    "if((global_step % arguments.validate)!=0):\n",
    "  checkpoint_path_model = os.path.join('sin_KP_NoN_Zara02_social12', 'model.ckpt')\n",
    "  saver.save(sess,checkpoint_path_model , global_step = global_step)\n",
    "\n",
    "print(\"best eval on val %s: %s at %s step y fde es %s \" % (metric, best[metric], best[\"step\"],best[\"fde\"]))\n",
    "       \n",
    "    "
   ]
  },
  {
   "cell_type": "code",
   "execution_count": 10,
   "metadata": {},
   "outputs": [
    {
     "data": {
      "image/png": "[encoded data removed]",
      "text/plain": [
       "<Figure size 432x288 with 1 Axes>"
      ]
     },
     "metadata": {
      "needs_background": "light"
     },
     "output_type": "display_data"
    }
   ],
   "source": [
    "from matplotlib import pyplot as plt\n",
    "plt.plot(loss_list)\n",
    "plt.show()"
   ]
  },
  {
   "cell_type": "code",
   "execution_count": 11,
   "metadata": {},
   "outputs": [
    {
     "data": {
      "text/plain": [
       "'sin_KP_NoN_Zara02_social12_F/model.ckpt-20700'"
      ]
     },
     "execution_count": 11,
     "metadata": {},
     "output_type": "execute_result"
    }
   ],
   "source": [
    "# Guardamos el ultimo modelo\n",
    "checkpoint_path_model = os.path.join('sin_KP_NoN_Zara02_social12_F', 'model.ckpt')\n",
    "saver.save(sess,checkpoint_path_model , global_step = global_step)"
   ]
  },
  {
   "cell_type": "markdown",
   "metadata": {},
   "source": [
    "# Restauramos los mosdelos"
   ]
  },
  {
   "cell_type": "code",
   "execution_count": 12,
   "metadata": {},
   "outputs": [
    {
     "name": "stderr",
     "output_type": "stream",
     "text": [
      "W1227 09:10:28.686894 140476992071424 deprecation.py:323] From /home/andrea/anaconda2/lib/python2.7/site-packages/tensorflow/python/training/saver.py:1276: checkpoint_exists (from tensorflow.python.training.checkpoint_management) is deprecated and will be removed in a future version.\n",
      "Instructions for updating:\n",
      "Use standard file APIs to check for files with this prefix.\n",
      " 12%|#1        | 7/60 [00:00<00:00, 66.65it/s]"
     ]
    },
    {
     "name": "stdout",
     "output_type": "stream",
     "text": [
      "Evaluating\n"
     ]
    },
    {
     "name": "stderr",
     "output_type": "stream",
     "text": [
      "100%|##########| 60/60 [00:00<00:00, 67.16it/s]"
     ]
    },
    {
     "name": "stdout",
     "output_type": "stream",
     "text": [
      "{'ade': 0.31308496, 'fde': 0.68860126}\n"
     ]
    },
    {
     "name": "stderr",
     "output_type": "stream",
     "text": [
      "\n"
     ]
    }
   ],
   "source": [
    "#Ultimo Modelo\n",
    "path_model = 'sin_KP_NoN_Zara02_social12_F/model.ckpt-20700'\n",
    "saver.restore(sess=sess, save_path=path_model)\n",
    "\n",
    "\n",
    "test_data = batches_data.Dataset(data2, arguments)\n",
    "print('Evaluating')\n",
    "results = evaluate(test_data, tester,sess,arguments)\n",
    "print(results)"
   ]
  },
  {
   "cell_type": "code",
   "execution_count": 13,
   "metadata": {},
   "outputs": [
    {
     "name": "stderr",
     "output_type": "stream",
     "text": [
      " 12%|#1        | 7/60 [00:00<00:00, 65.03it/s]"
     ]
    },
    {
     "name": "stdout",
     "output_type": "stream",
     "text": [
      "Evaluating\n"
     ]
    },
    {
     "name": "stderr",
     "output_type": "stream",
     "text": [
      "100%|##########| 60/60 [00:00<00:00, 73.61it/s]\n"
     ]
    },
    {
     "name": "stdout",
     "output_type": "stream",
     "text": [
      "{'ade': 0.31308034, 'fde': 0.68859005}\n"
     ]
    }
   ],
   "source": [
    "#Modelo12\n",
    "path_model = 'sin_KP_NoN_Zara02_social12/model.ckpt-20700'\n",
    "saver.restore(sess=sess, save_path=path_model)\n",
    "\n",
    "\n",
    "test_data = batches_data.Dataset(data2, arguments)\n",
    "print('Evaluating')\n",
    "results = evaluate(test_data, tester,sess,arguments)\n",
    "print(results)"
   ]
  },
  {
   "cell_type": "code",
   "execution_count": 14,
   "metadata": {},
   "outputs": [
    {
     "name": "stderr",
     "output_type": "stream",
     "text": [
      " 15%|#5        | 9/60 [00:00<00:00, 82.36it/s]"
     ]
    },
    {
     "name": "stdout",
     "output_type": "stream",
     "text": [
      "Evaluating\n"
     ]
    },
    {
     "name": "stderr",
     "output_type": "stream",
     "text": [
      "100%|##########| 60/60 [00:00<00:00, 83.94it/s]\n"
     ]
    },
    {
     "name": "stdout",
     "output_type": "stream",
     "text": [
      "{'ade': 0.31190845, 'fde': 0.6846172}\n"
     ]
    }
   ],
   "source": [
    "# Mejor Modelo\n",
    "path_model = 'sin_KP_NoN_Zara02_social-best12/model_best.ckpt-9300'\n",
    "saver.restore(sess=sess, save_path=path_model)\n",
    "\n",
    "test_data = batches_data.Dataset(data2, arguments)\n",
    "print('Evaluating')\n",
    "results = evaluate(test_data, tester,sess,arguments)\n",
    "print(results)"
   ]
  },
  {
   "cell_type": "code",
   "execution_count": null,
   "metadata": {},
   "outputs": [],
   "source": []
  }
 ],
 "metadata": {
  "kernelspec": {
   "display_name": "Python 2",
   "language": "python",
   "name": "python2"
  },
  "language_info": {
   "codemirror_mode": {
    "name": "ipython",
    "version": 2
   },
   "file_extension": ".py",
   "mimetype": "text/x-python",
   "name": "python",
   "nbconvert_exporter": "python",
   "pygments_lexer": "ipython2",
   "version": "2.7.16"
  }
 },
 "nbformat": 4,
 "nbformat_minor": 2
}
