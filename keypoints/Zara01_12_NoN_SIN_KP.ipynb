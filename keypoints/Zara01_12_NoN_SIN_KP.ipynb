{
 "cells": [
  {
   "cell_type": "code",
   "execution_count": 1,
   "metadata": {},
   "outputs": [],
   "source": [
    "import sys\n",
    "sys.path.append('/home/andrea/Dropbox/CIMAT/TESIS/lstmsss/keypoints/partes')\n",
    "import numpy as np\n",
    "from process_file import process_file_modif\n",
    "from process_file import process_file_modif_varios\n",
    "import batches_data\n",
    "import model\n",
    "\n",
    "import tensorflow as tf \n",
    "tf.reset_default_graph()\n",
    "\n",
    "import entrenamientoevaluacion\n",
    "from entrenamientoevaluacion import evaluate\n",
    "from interaccion_no_normalizada import batch_vecinos"
   ]
  },
  {
   "cell_type": "code",
   "execution_count": 2,
   "metadata": {},
   "outputs": [],
   "source": [
    "zara01_pix_path = '../data1/ucy/zara/zara01/mundo/mun_pos.csv'\n",
    "class parameters:\n",
    "    def __init__(self):\n",
    "        self.person_max = 22 # 8\n",
    "        self.obs_len = 8\n",
    "        self.pred_len = 12\n",
    "        self.add_social = True\n",
    "        self.kp_num = 18\n",
    "        self.add_kp = False"
   ]
  },
  {
   "cell_type": "code",
   "execution_count": 3,
   "metadata": {},
   "outputs": [
    {
     "name": "stdout",
     "output_type": "stream",
     "text": [
      "El numero total de ejemplos\n",
      "2356\n"
     ]
    }
   ],
   "source": [
    "# Cargamos los argumentos\n",
    "arguments = parameters()\n",
    "\n",
    "# Procesamos los datos de Zara0X\n",
    "data_zara01 = process_file_modif(zara01_pix_path, arguments, ',')"
   ]
  },
  {
   "cell_type": "markdown",
   "metadata": {},
   "source": [
    "# Calculamos el flujo optico"
   ]
  },
  {
   "cell_type": "code",
   "execution_count": 4,
   "metadata": {},
   "outputs": [],
   "source": [
    "#vector = batch_vecinos(data_zara01['obs_person'],data_zara01['key_idx'],data_zara01['obs_traj'],arguments)\n",
    "#np.save('flujo_bien_non_zara01_total_mundo_12.npy',vector )"
   ]
  },
  {
   "cell_type": "markdown",
   "metadata": {},
   "source": [
    "# cargamos el flujo optico\n"
   ]
  },
  {
   "cell_type": "code",
   "execution_count": 6,
   "metadata": {},
   "outputs": [
    {
     "data": {
      "text/plain": [
       "(2356, 8, 64)"
      ]
     },
     "execution_count": 6,
     "metadata": {},
     "output_type": "execute_result"
    }
   ],
   "source": [
    "vector_flujo = 'flujo_bien_non_zara01_total_mundo_12.npy'\n",
    "flujo = np.load(vector_flujo)\n",
    "flujo.shape"
   ]
  },
  {
   "cell_type": "markdown",
   "metadata": {},
   "source": [
    "# Adjuntamos el flujo al diccionario"
   ]
  },
  {
   "cell_type": "code",
   "execution_count": 7,
   "metadata": {},
   "outputs": [],
   "source": [
    "data_zara01.update({\n",
    "    \"obs_flujo\": flujo,\n",
    "        })"
   ]
  },
  {
   "cell_type": "markdown",
   "metadata": {},
   "source": [
    "# Dividimos los datos"
   ]
  },
  {
   "cell_type": "code",
   "execution_count": 8,
   "metadata": {},
   "outputs": [
    {
     "name": "stdout",
     "output_type": "stream",
     "text": [
      "data_train: 1649\n",
      "data_test: 471\n",
      "data_val: 236\n"
     ]
    },
    {
     "name": "stderr",
     "output_type": "stream",
     "text": [
      "/home/andrea/anaconda2/lib/python2.7/site-packages/ipykernel_launcher.py:26: FutureWarning: Using a non-tuple sequence for multidimensional indexing is deprecated; use `arr[tuple(seq)]` instead of `arr[seq]`. In the future this will be interpreted as an array index, `arr[np.array(seq)]`, which will result either in an error or a different result.\n",
      "/home/andrea/anaconda2/lib/python2.7/site-packages/ipykernel_launcher.py:40: FutureWarning: Using a non-tuple sequence for multidimensional indexing is deprecated; use `arr[tuple(seq)]` instead of `arr[seq]`. In the future this will be interpreted as an array index, `arr[np.array(seq)]`, which will result either in an error or a different result.\n",
      "/home/andrea/anaconda2/lib/python2.7/site-packages/ipykernel_launcher.py:52: FutureWarning: Using a non-tuple sequence for multidimensional indexing is deprecated; use `arr[tuple(seq)]` instead of `arr[seq]`. In the future this will be interpreted as an array index, `arr[np.array(seq)]`, which will result either in an error or a different result.\n"
     ]
    }
   ],
   "source": [
    "#se fija la semilaa\n",
    "import random\n",
    "random.seed(0)\n",
    "\n",
    "# Muestreamos aleatoriamente para separar datos de entrenamiento, validacion y prueba\n",
    "prob = 0.7 \n",
    "# La cantidad total de listas de tam 8 \n",
    "ndata = len(data_zara01[list(data_zara01.keys())[2]])\n",
    "idx = random.sample(range(ndata), ndata)\n",
    "long1 = int(ndata*prob)\n",
    "long2 = int(ndata*0.2)\n",
    "long3 = int(ndata-long1-long2)\n",
    "\n",
    "idx_train = idx[0:long1]\n",
    "idx_test = idx[long1:long1+long2]\n",
    "idx_val = idx[long1+long2:]\n",
    "\n",
    "# conjunto de entrenamiento\n",
    "data1 = {\n",
    "     \"obs_traj\": data_zara01[\"obs_traj\"][idx_train],\n",
    "     \"obs_traj_rel\": data_zara01[\"obs_traj_rel\"][idx_train],\n",
    "    \n",
    "     \"pred_traj\": data_zara01[\"pred_traj\"][idx_train],\n",
    "     \"pred_traj_rel\": data_zara01[\"pred_traj_rel\"][idx_train],\n",
    "    \n",
    "     \"key_idx\": data_zara01[\"key_idx\"][[idx_train]],\n",
    "    \n",
    "     \n",
    "     \"obs_flujo\" : data_zara01[\"obs_flujo\"][idx_train],\n",
    "     #\"pred_kp\": data_pets[\"pred_kp\"][idx_train],\n",
    "     #\"obs_person\": data_pets[\"obs_person\"][idx_train],\n",
    "}\n",
    "\n",
    "# Conjunto de prueba\n",
    "data2 = {\n",
    "     \"obs_traj\": data_zara01[\"obs_traj\"][idx_test],\n",
    "     \"obs_traj_rel\": data_zara01[\"obs_traj_rel\"][idx_test],\n",
    "     \"pred_traj\": data_zara01[\"pred_traj\"][idx_test],\n",
    "     \"pred_traj_rel\": data_zara01[\"pred_traj_rel\"][idx_test],\n",
    "     \"key_idx\": data_zara01[\"key_idx\"][[idx_test]],\n",
    "     \"obs_flujo\" : data_zara01[\"obs_flujo\"][idx_test],\n",
    "     #\"pred_kp\": data_pets[\"pred_kp\"][idx_test],\n",
    "     #\"obs_person\": data_pets[\"obs_person\"][idx_test]\n",
    "}\n",
    "\n",
    "# conjunto de validacion\n",
    "data3 ={\n",
    "     \"obs_traj\": data_zara01[\"obs_traj\"][idx_val],\n",
    "     \"obs_traj_rel\": data_zara01[\"obs_traj_rel\"][idx_val],\n",
    "     \"pred_traj\": data_zara01[\"pred_traj\"][idx_val],\n",
    "     \"pred_traj_rel\": data_zara01[\"pred_traj_rel\"][idx_val],\n",
    "     \"key_idx\": data_zara01[\"key_idx\"][[idx_val]],\n",
    "     \"obs_flujo\" : data_zara01[\"obs_flujo\"][idx_val],\n",
    "     #\"pred_kp\": data_pets[\"pred_kp\"][idx_val],\n",
    "     #\"obs_person\": data_pets[\"obs_person\"][idx_val],\n",
    "}\n",
    "\n",
    "\n",
    "#if arguments.add_kp:\n",
    "#  print(data3['obs_person_rel'])\n",
    "\n",
    "print(\"data_train: \"+ str(len(data1[list(data1.keys())[0]])))\n",
    "print(\"data_test: \"+ str(len(data2[list(data2.keys())[0]])))\n",
    "print(\"data_val: \"+ str(len(data3[list(data3.keys())[0]])))\n",
    "#print(\"data4: \"+ str(len(data4[list(data4.keys())[0]])))\n"
   ]
  },
  {
   "cell_type": "markdown",
   "metadata": {},
   "source": [
    "# Guardamos la divison de los datos"
   ]
  },
  {
   "cell_type": "code",
   "execution_count": 9,
   "metadata": {},
   "outputs": [],
   "source": [
    "import pickle\n",
    "\n",
    "#conjunto de entrenamiento\n",
    "pickle_out = open(\"data1_non_zara01_12.pickle\",\"wb\")\n",
    "pickle.dump(data1, pickle_out, protocol=2)\n",
    "pickle_out.close()\n",
    "\n",
    "#conjunto de prueba\n",
    "pickle_out = open(\"data2_non_zara01_12.pickle\",\"wb\")\n",
    "pickle.dump(data2, pickle_out, protocol=2)\n",
    "pickle_out.close()\n",
    "\n",
    "#conjunto de validacion\n",
    "pickle_out = open(\"data3_non_zara01_12.pickle\",\"wb\")\n",
    "pickle.dump(data3, pickle_out, protocol=2)\n",
    "pickle_out.close()"
   ]
  },
  {
   "cell_type": "markdown",
   "metadata": {},
   "source": [
    "# Parametros para entrenar el modelo"
   ]
  },
  {
   "cell_type": "code",
   "execution_count": 13,
   "metadata": {},
   "outputs": [],
   "source": [
    "class parameters1:\n",
    "    def __init__(self, add_kp = None, add_social=None, train_num_examples=None):\n",
    "        # -----------------\n",
    "        # Similar a como se procesaron los datos\n",
    "        self.obs_len = 8\n",
    "        self.pred_len = 12\n",
    "        if add_kp is None:\n",
    "            print('Parameter add kpp missing')\n",
    "            return\n",
    "        if train_num_examples is None:\n",
    "            print('El parametro train_examples fue olvidado')\n",
    "            return\n",
    "        if add_social is None:\n",
    "            print('Parameter add social missing')\n",
    "            return\n",
    "        \n",
    "        self.add_kp = add_kp\n",
    "        self.train_num_examples = train_num_examples\n",
    "        self.add_social = add_social\n",
    "        \n",
    "        self.kp_num = 18\n",
    "        self.kp_size = 18\n",
    "        #self.maxNumPed = 8\n",
    "        #self.grid_size = 4\n",
    "        #self.neighborhood_size = 32\n",
    "        #self.dimensions = [768,576]\n",
    "        #self.limites=[-15.88,11.56,-19.09,5.99]\n",
    "        #self.bound=[0.7,0.5]\n",
    "        # ------------------\n",
    "        self.num_epochs = 100\n",
    "        self.batch_size = 20 # batch size\n",
    "        self.validate = 300\n",
    "        self.P = 2 # dimensión\n",
    "        self.enc_hidden_size = 128 # el nombre lo dice\n",
    "        self.dec_hidden_size = 128\n",
    "        self.emb_size = 64\n",
    "        self.keep_prob = 0.7 # dropout\n",
    "        \n",
    "        self.min_ped = 1\n",
    "        self.seq_len = self.obs_len + self.pred_len\n",
    "        self.reverse_xy = False\n",
    "        \n",
    "        self.activation_func = tf.nn.tanh\n",
    "        self.activation_func1 = tf.nn.relu\n",
    "        self.is_train = True\n",
    "        self.is_test = False\n",
    "        self.multi_decoder = False\n",
    "        self.modelname = 'gphuctl'\n",
    "        \n",
    "        self.init_lr = 0.002 # 0.01\n",
    "        self.learning_rate_decay = 0.85\n",
    "        self.num_epoch_per_decay = 2.0\n",
    "        self.optimizer = 'adam'\n",
    "        self.emb_lr = 1.0\n",
    "        #self.clip_gradient_norm = 10.0\n",
    "        #Para cuando entreno y quiero guardar el mejor modelo\n",
    "        self.load_best = True"
   ]
  },
  {
   "cell_type": "markdown",
   "metadata": {},
   "source": [
    "# Entrenamos el modelo"
   ]
  },
  {
   "cell_type": "code",
   "execution_count": 14,
   "metadata": {},
   "outputs": [
    {
     "name": "stderr",
     "output_type": "stream",
     "text": [
      "WARNING: Logging before flag parsing goes to stderr.\n",
      "W1227 08:08:11.072087 139680819443456 deprecation_wrapper.py:119] From /home/andrea/Dropbox/CIMAT/TESIS/lstmsss/keypoints/partes/model.py:13: The name tf.get_variable is deprecated. Please use tf.compat.v1.get_variable instead.\n",
      "\n",
      "W1227 08:08:11.098932 139680819443456 deprecation_wrapper.py:119] From /home/andrea/Dropbox/CIMAT/TESIS/lstmsss/keypoints/partes/model.py:31: The name tf.placeholder is deprecated. Please use tf.compat.v1.placeholder instead.\n",
      "\n",
      "W1227 08:08:11.122308 139680819443456 deprecation.py:323] From /home/andrea/Dropbox/CIMAT/TESIS/lstmsss/keypoints/partes/model.py:70: __init__ (from tensorflow.python.ops.rnn_cell_impl) is deprecated and will be removed in a future version.\n",
      "Instructions for updating:\n",
      "This class is equivalent as tf.keras.layers.LSTMCell, and will be replaced by that in Tensorflow 2.0.\n",
      "W1227 08:08:11.124120 139680819443456 deprecation_wrapper.py:119] From /home/andrea/Dropbox/CIMAT/TESIS/lstmsss/keypoints/partes/model.py:72: The name tf.nn.rnn_cell.DropoutWrapper is deprecated. Please use tf.compat.v1.nn.rnn_cell.DropoutWrapper instead.\n",
      "\n",
      "W1227 08:08:11.140371 139680819443456 deprecation_wrapper.py:119] From /home/andrea/Dropbox/CIMAT/TESIS/lstmsss/keypoints/partes/model.py:103: The name tf.variable_scope is deprecated. Please use tf.compat.v1.variable_scope instead.\n",
      "\n",
      "W1227 08:08:11.150461 139680819443456 deprecation_wrapper.py:119] From /home/andrea/Dropbox/CIMAT/TESIS/lstmsss/keypoints/partes/model.py:476: The name tf.AUTO_REUSE is deprecated. Please use tf.compat.v1.AUTO_REUSE instead.\n",
      "\n",
      "W1227 08:08:11.167454 139680819443456 deprecation_wrapper.py:119] From /home/andrea/Dropbox/CIMAT/TESIS/lstmsss/keypoints/partes/model.py:495: The name tf.truncated_normal is deprecated. Please use tf.random.truncated_normal instead.\n",
      "\n",
      "W1227 08:08:11.206465 139680819443456 deprecation.py:323] From /home/andrea/Dropbox/CIMAT/TESIS/lstmsss/keypoints/partes/model.py:116: dynamic_rnn (from tensorflow.python.ops.rnn) is deprecated and will be removed in a future version.\n",
      "Instructions for updating:\n",
      "Please use `keras.layers.RNN(cell)`, which is equivalent to this API\n",
      "W1227 08:08:11.310919 139680819443456 deprecation.py:506] From /home/andrea/anaconda2/lib/python2.7/site-packages/tensorflow/python/ops/init_ops.py:1251: calling __init__ (from tensorflow.python.ops.init_ops) with dtype is deprecated and will be removed in a future version.\n",
      "Instructions for updating:\n",
      "Call initializer instance with the dtype argument instead of passing it to the constructor\n",
      "W1227 08:08:11.321286 139680819443456 deprecation.py:506] From /home/andrea/anaconda2/lib/python2.7/site-packages/tensorflow/python/ops/rnn_cell_impl.py:961: calling __init__ (from tensorflow.python.ops.init_ops) with dtype is deprecated and will be removed in a future version.\n",
      "Instructions for updating:\n",
      "Call initializer instance with the dtype argument instead of passing it to the constructor\n",
      "W1227 08:08:12.160227 139680819443456 deprecation.py:323] From /home/andrea/anaconda2/lib/python2.7/site-packages/tensorflow/python/ops/rnn.py:244: where (from tensorflow.python.ops.array_ops) is deprecated and will be removed in a future version.\n",
      "Instructions for updating:\n",
      "Use tf.where in 2.0, which has the same broadcast rule as np.where\n",
      "W1227 08:08:12.371025 139680819443456 deprecation_wrapper.py:119] From /home/andrea/Dropbox/CIMAT/TESIS/lstmsss/keypoints/partes/model.py:554: The name tf.nn.rnn_cell.LSTMStateTuple is deprecated. Please use tf.compat.v1.nn.rnn_cell.LSTMStateTuple instead.\n",
      "\n",
      "W1227 08:08:12.394207 139680819443456 deprecation_wrapper.py:119] From /home/andrea/Dropbox/CIMAT/TESIS/lstmsss/keypoints/partes/model.py:272: The name tf.nn.raw_rnn is deprecated. Please use tf.compat.v1.nn.raw_rnn instead.\n",
      "\n",
      "W1227 08:08:12.788482 139680819443456 deprecation_wrapper.py:119] From /home/andrea/Dropbox/CIMAT/TESIS/lstmsss/keypoints/partes/entrenamientoevaluacion.py:18: The name tf.train.exponential_decay is deprecated. Please use tf.compat.v1.train.exponential_decay instead.\n",
      "\n",
      "W1227 08:08:12.796263 139680819443456 deprecation_wrapper.py:119] From /home/andrea/Dropbox/CIMAT/TESIS/lstmsss/keypoints/partes/entrenamientoevaluacion.py:33: The name tf.train.AdamOptimizer is deprecated. Please use tf.compat.v1.train.AdamOptimizer instead.\n",
      "\n",
      "  0%|          | 0/83 [00:00<?, ?it/s]"
     ]
    },
    {
     "name": "stdout",
     "output_type": "stream",
     "text": [
      "83\n",
      "('Epoca 1.', 'lr:', 0.002)\n",
      "\tsaving model 1...\n"
     ]
    },
    {
     "name": "stderr",
     "output_type": "stream",
     "text": [
      "\n",
      "  0%|          | 0/12 [00:00<?, ?it/s]\u001b[A"
     ]
    },
    {
     "name": "stdout",
     "output_type": "stream",
     "text": [
      "\tdone\n",
      "Evaluating\n"
     ]
    },
    {
     "name": "stderr",
     "output_type": "stream",
     "text": [
      "\n",
      "  8%|8         | 1/12 [00:00<00:03,  3.19it/s]\u001b[A\n",
      " 58%|#####8    | 7/12 [00:00<00:01,  4.46it/s]\u001b[A\n",
      "100%|##########| 12/12 [00:00<00:00, 24.49it/s]\u001b[A"
     ]
    },
    {
     "name": "stdout",
     "output_type": "stream",
     "text": [
      "{'ade': 2.4809835, 'fde': 4.568712}\n",
      "\t last loss:-1.000000000, eval on validation:['ade: 2.4809835', 'fde: 4.568712'], (best ade:999999 at step -1) \n",
      "\t saving best model...\n"
     ]
    },
    {
     "name": "stderr",
     "output_type": "stream",
     "text": [
      "100%|██████████| 83/83 [00:05<00:00, 14.77it/s]\n",
      "  4%|▎         | 3/83 [00:00<00:03, 23.22it/s]"
     ]
    },
    {
     "name": "stdout",
     "output_type": "stream",
     "text": [
      "\t done.\n",
      "('Epoca 2.', 'lr:', 0.002)\n"
     ]
    },
    {
     "name": "stderr",
     "output_type": "stream",
     "text": [
      "100%|██████████| 83/83 [00:03<00:00, 25.39it/s]\n",
      "  1%|          | 1/83 [00:00<00:09,  8.22it/s]"
     ]
    },
    {
     "name": "stdout",
     "output_type": "stream",
     "text": [
      "('Epoca 3.', 'lr:', 0.0017000001)\n"
     ]
    },
    {
     "name": "stderr",
     "output_type": "stream",
     "text": [
      "100%|██████████| 83/83 [00:03<00:00, 26.04it/s]\n",
      "  1%|          | 1/83 [00:00<00:09,  8.50it/s]"
     ]
    },
    {
     "name": "stdout",
     "output_type": "stream",
     "text": [
      "('Epoca 4.', 'lr:', 0.0017000001)\n"
     ]
    },
    {
     "name": "stderr",
     "output_type": "stream",
     "text": [
      " 59%|█████▉    | 49/83 [00:02<00:01, 25.09it/s]"
     ]
    },
    {
     "name": "stdout",
     "output_type": "stream",
     "text": [
      "\tsaving model 300...\n",
      "\tdone\n",
      "Evaluating\n"
     ]
    },
    {
     "name": "stderr",
     "output_type": "stream",
     "text": [
      "\n",
      "  0%|          | 0/12 [00:00<?, ?it/s]\u001b[A\n",
      " 42%|####1     | 5/12 [00:00<00:00, 46.61it/s]\u001b[A\n",
      "100%|##########| 12/12 [00:00<00:00, 62.07it/s]\u001b[A"
     ]
    },
    {
     "name": "stdout",
     "output_type": "stream",
     "text": [
      "{'ade': 0.45314646, 'fde': 0.9947417}\n",
      "\t last loss:0.000471652, eval on validation:['ade: 0.45314646', 'fde: 0.9947417'], (best ade:2.4809835 at step 1) \n",
      "\t saving best model...\n",
      "\t done.\n"
     ]
    },
    {
     "name": "stderr",
     "output_type": "stream",
     "text": [
      "100%|██████████| 83/83 [00:04<00:00, 20.53it/s]\n",
      "  1%|          | 1/83 [00:00<00:10,  7.93it/s]"
     ]
    },
    {
     "name": "stdout",
     "output_type": "stream",
     "text": [
      "('Epoca 5.', 'lr:', 0.0014450002)\n"
     ]
    },
    {
     "name": "stderr",
     "output_type": "stream",
     "text": [
      "100%|██████████| 83/83 [00:03<00:00, 24.99it/s]\n",
      "  1%|          | 1/83 [00:00<00:08,  9.47it/s]"
     ]
    },
    {
     "name": "stdout",
     "output_type": "stream",
     "text": [
      "('Epoca 6.', 'lr:', 0.0014450002)\n"
     ]
    },
    {
     "name": "stderr",
     "output_type": "stream",
     "text": [
      "100%|██████████| 83/83 [00:03<00:00, 25.36it/s]\n",
      "  4%|▎         | 3/83 [00:00<00:03, 25.21it/s]"
     ]
    },
    {
     "name": "stdout",
     "output_type": "stream",
     "text": [
      "('Epoca 7.', 'lr:', 0.0012282502)\n"
     ]
    },
    {
     "name": "stderr",
     "output_type": "stream",
     "text": [
      "100%|██████████| 83/83 [00:03<00:00, 24.27it/s]\n",
      "  1%|          | 1/83 [00:00<00:10,  8.06it/s]"
     ]
    },
    {
     "name": "stdout",
     "output_type": "stream",
     "text": [
      "('Epoca 8.', 'lr:', 0.0012282502)\n"
     ]
    },
    {
     "name": "stderr",
     "output_type": "stream",
     "text": [
      " 19%|█▉        | 16/83 [00:00<00:03, 18.76it/s]W1227 08:08:41.749191 139680819443456 deprecation.py:323] From /home/andrea/anaconda2/lib/python2.7/site-packages/tensorflow/python/training/saver.py:960: remove_checkpoint (from tensorflow.python.training.checkpoint_management) is deprecated and will be removed in a future version.\n",
      "Instructions for updating:\n",
      "Use standard file APIs to delete files with this prefix.\n",
      "\n",
      "  0%|          | 0/12 [00:00<?, ?it/s]\u001b[A"
     ]
    },
    {
     "name": "stdout",
     "output_type": "stream",
     "text": [
      "\tsaving model 600...\n",
      "\tdone\n",
      "Evaluating\n"
     ]
    },
    {
     "name": "stderr",
     "output_type": "stream",
     "text": [
      "\n",
      " 83%|########3 | 10/12 [00:00<00:00, 91.75it/s]\u001b[A\n",
      "100%|##########| 12/12 [00:00<00:00, 87.70it/s]\u001b[A"
     ]
    },
    {
     "name": "stdout",
     "output_type": "stream",
     "text": [
      "{'ade': 0.4094324, 'fde': 0.8966665}\n",
      "\t last loss:0.000504969, eval on validation:['ade: 0.4094324', 'fde: 0.8966665'], (best ade:0.45314646 at step 300) \n",
      "\t saving best model...\n",
      "\t done.\n"
     ]
    },
    {
     "name": "stderr",
     "output_type": "stream",
     "text": [
      "100%|██████████| 83/83 [00:03<00:00, 25.85it/s]\n",
      "  1%|          | 1/83 [00:00<00:08,  9.46it/s]"
     ]
    },
    {
     "name": "stdout",
     "output_type": "stream",
     "text": [
      "('Epoca 9.', 'lr:', 0.0010440127)\n"
     ]
    },
    {
     "name": "stderr",
     "output_type": "stream",
     "text": [
      "100%|██████████| 83/83 [00:03<00:00, 25.34it/s]\n",
      "  4%|▎         | 3/83 [00:00<00:03, 25.96it/s]"
     ]
    },
    {
     "name": "stdout",
     "output_type": "stream",
     "text": [
      "('Epoca 10.', 'lr:', 0.0010440127)\n"
     ]
    },
    {
     "name": "stderr",
     "output_type": "stream",
     "text": [
      "100%|██████████| 83/83 [00:03<00:00, 26.19it/s]\n",
      "  4%|▎         | 3/83 [00:00<00:03, 25.81it/s]"
     ]
    },
    {
     "name": "stdout",
     "output_type": "stream",
     "text": [
      "('Epoca 11.', 'lr:', 0.0008874108)\n"
     ]
    },
    {
     "name": "stderr",
     "output_type": "stream",
     "text": [
      " 83%|████████▎ | 69/83 [00:02<00:00, 26.03it/s]\n",
      "  0%|          | 0/12 [00:00<?, ?it/s]\u001b[A"
     ]
    },
    {
     "name": "stdout",
     "output_type": "stream",
     "text": [
      "\tsaving model 900...\n",
      "\tdone\n",
      "Evaluating\n"
     ]
    },
    {
     "name": "stderr",
     "output_type": "stream",
     "text": [
      "\n",
      " 75%|#######5  | 9/12 [00:00<00:00, 84.66it/s]\u001b[A\n",
      " 87%|████████▋ | 72/83 [00:03<00:00, 13.74it/s]\u001b[A"
     ]
    },
    {
     "name": "stdout",
     "output_type": "stream",
     "text": [
      "{'ade': 0.41533285, 'fde': 0.9174002}\n",
      "\t last loss:0.000490408, eval on validation:['ade: 0.41533285', 'fde: 0.9174002'], (best ade:0.4094324 at step 600) \n"
     ]
    },
    {
     "name": "stderr",
     "output_type": "stream",
     "text": [
      "100%|██████████| 83/83 [00:03<00:00, 22.65it/s]\n",
      "  1%|          | 1/83 [00:00<00:09,  8.36it/s]"
     ]
    },
    {
     "name": "stdout",
     "output_type": "stream",
     "text": [
      "('Epoca 12.', 'lr:', 0.0008874108)\n"
     ]
    },
    {
     "name": "stderr",
     "output_type": "stream",
     "text": [
      "100%|██████████| 83/83 [00:03<00:00, 24.62it/s]\n",
      "  1%|          | 1/83 [00:00<00:09,  8.44it/s]"
     ]
    },
    {
     "name": "stdout",
     "output_type": "stream",
     "text": [
      "('Epoca 13.', 'lr:', 0.0007542992)\n"
     ]
    },
    {
     "name": "stderr",
     "output_type": "stream",
     "text": [
      "100%|██████████| 83/83 [00:03<00:00, 25.38it/s]\n",
      "  1%|          | 1/83 [00:00<00:09,  8.75it/s]"
     ]
    },
    {
     "name": "stdout",
     "output_type": "stream",
     "text": [
      "('Epoca 14.', 'lr:', 0.0007542992)\n"
     ]
    },
    {
     "name": "stderr",
     "output_type": "stream",
     "text": [
      "100%|██████████| 83/83 [00:03<00:00, 25.38it/s]\n",
      "  1%|          | 1/83 [00:00<00:09,  8.60it/s]"
     ]
    },
    {
     "name": "stdout",
     "output_type": "stream",
     "text": [
      "('Epoca 15.', 'lr:', 0.0006411543)\n"
     ]
    },
    {
     "name": "stderr",
     "output_type": "stream",
     "text": [
      " 45%|████▍     | 37/83 [00:01<00:01, 25.67it/s]\n",
      "  0%|          | 0/12 [00:00<?, ?it/s]\u001b[A"
     ]
    },
    {
     "name": "stdout",
     "output_type": "stream",
     "text": [
      "\tsaving model 1200...\n",
      "\tdone\n",
      "Evaluating\n"
     ]
    },
    {
     "name": "stderr",
     "output_type": "stream",
     "text": [
      "\n",
      " 67%|######6   | 8/12 [00:00<00:00, 79.52it/s]\u001b[A\n",
      " 48%|████▊     | 40/83 [00:01<00:03, 13.58it/s]\u001b[A"
     ]
    },
    {
     "name": "stdout",
     "output_type": "stream",
     "text": [
      "{'ade': 0.4132845, 'fde': 0.91293955}\n",
      "\t last loss:0.000487882, eval on validation:['ade: 0.4132845', 'fde: 0.91293955'], (best ade:0.4094324 at step 600) \n"
     ]
    },
    {
     "name": "stderr",
     "output_type": "stream",
     "text": [
      "100%|██████████| 83/83 [00:03<00:00, 22.62it/s]\n",
      "  4%|▎         | 3/83 [00:00<00:03, 23.03it/s]"
     ]
    },
    {
     "name": "stdout",
     "output_type": "stream",
     "text": [
      "('Epoca 16.', 'lr:', 0.0006411543)\n"
     ]
    },
    {
     "name": "stderr",
     "output_type": "stream",
     "text": [
      "100%|██████████| 83/83 [00:03<00:00, 25.79it/s]\n",
      "  1%|          | 1/83 [00:00<00:09,  8.34it/s]"
     ]
    },
    {
     "name": "stdout",
     "output_type": "stream",
     "text": [
      "('Epoca 17.', 'lr:', 0.0005449812)\n"
     ]
    },
    {
     "name": "stderr",
     "output_type": "stream",
     "text": [
      "100%|██████████| 83/83 [00:03<00:00, 25.35it/s]\n",
      "  4%|▎         | 3/83 [00:00<00:03, 25.89it/s]"
     ]
    },
    {
     "name": "stdout",
     "output_type": "stream",
     "text": [
      "('Epoca 18.', 'lr:', 0.0005449812)\n"
     ]
    },
    {
     "name": "stderr",
     "output_type": "stream",
     "text": [
      "100%|██████████| 83/83 [00:03<00:00, 24.97it/s]\n",
      "  4%|▎         | 3/83 [00:00<00:03, 25.66it/s]"
     ]
    },
    {
     "name": "stdout",
     "output_type": "stream",
     "text": [
      "('Epoca 19.', 'lr:', 0.00046323403)\n",
      "\tsaving model 1500...\n"
     ]
    },
    {
     "name": "stderr",
     "output_type": "stream",
     "text": [
      "\n",
      "  0%|          | 0/12 [00:00<?, ?it/s]\u001b[A\n",
      " 75%|#######5  | 9/12 [00:00<00:00, 82.94it/s]\u001b[A\n",
      "  7%|▋         | 6/83 [00:00<00:05, 13.76it/s]]\u001b[A"
     ]
    },
    {
     "name": "stdout",
     "output_type": "stream",
     "text": [
      "\tdone\n",
      "Evaluating\n",
      "{'ade': 0.40988272, 'fde': 0.901295}\n",
      "\t last loss:0.000426216, eval on validation:['ade: 0.40988272', 'fde: 0.901295'], (best ade:0.4094324 at step 600) \n"
     ]
    },
    {
     "name": "stderr",
     "output_type": "stream",
     "text": [
      "100%|██████████| 83/83 [00:03<00:00, 23.03it/s]\n",
      "  4%|▎         | 3/83 [00:00<00:03, 25.46it/s]"
     ]
    },
    {
     "name": "stdout",
     "output_type": "stream",
     "text": [
      "('Epoca 20.', 'lr:', 0.00046323403)\n"
     ]
    },
    {
     "name": "stderr",
     "output_type": "stream",
     "text": [
      "100%|██████████| 83/83 [00:03<00:00, 26.19it/s]\n",
      "  4%|▎         | 3/83 [00:00<00:03, 25.39it/s]"
     ]
    },
    {
     "name": "stdout",
     "output_type": "stream",
     "text": [
      "('Epoca 21.', 'lr:', 0.00039374892)\n"
     ]
    },
    {
     "name": "stderr",
     "output_type": "stream",
     "text": [
      "100%|██████████| 83/83 [00:03<00:00, 25.78it/s]\n",
      "  4%|▎         | 3/83 [00:00<00:03, 24.51it/s]"
     ]
    },
    {
     "name": "stdout",
     "output_type": "stream",
     "text": [
      "('Epoca 22.', 'lr:', 0.00039374892)\n"
     ]
    },
    {
     "name": "stderr",
     "output_type": "stream",
     "text": [
      " 65%|██████▌   | 54/83 [00:02<00:01, 24.78it/s]"
     ]
    },
    {
     "name": "stdout",
     "output_type": "stream",
     "text": [
      "\tsaving model 1800...\n"
     ]
    },
    {
     "name": "stderr",
     "output_type": "stream",
     "text": [
      "\n",
      "  0%|          | 0/12 [00:00<?, ?it/s]\u001b[A\n",
      " 75%|#######5  | 9/12 [00:00<00:00, 81.86it/s]\u001b[A\n",
      "100%|##########| 12/12 [00:00<00:00, 78.82it/s]\u001b[A"
     ]
    },
    {
     "name": "stdout",
     "output_type": "stream",
     "text": [
      "\tdone\n",
      "Evaluating\n",
      "{'ade': 0.41052365, 'fde': 0.8964897}\n",
      "\t last loss:0.000484393, eval on validation:['ade: 0.41052365', 'fde: 0.8964897'], (best ade:0.4094324 at step 600) \n"
     ]
    },
    {
     "name": "stderr",
     "output_type": "stream",
     "text": [
      "100%|██████████| 83/83 [00:03<00:00, 22.31it/s]\n",
      "  4%|▎         | 3/83 [00:00<00:03, 25.97it/s]"
     ]
    },
    {
     "name": "stdout",
     "output_type": "stream",
     "text": [
      "('Epoca 23.', 'lr:', 0.0003346866)\n"
     ]
    },
    {
     "name": "stderr",
     "output_type": "stream",
     "text": [
      "100%|██████████| 83/83 [00:03<00:00, 25.78it/s]\n",
      "  4%|▎         | 3/83 [00:00<00:03, 24.62it/s]"
     ]
    },
    {
     "name": "stdout",
     "output_type": "stream",
     "text": [
      "('Epoca 24.', 'lr:', 0.0003346866)\n"
     ]
    },
    {
     "name": "stderr",
     "output_type": "stream",
     "text": [
      "100%|██████████| 83/83 [00:03<00:00, 24.26it/s]\n",
      "  2%|▏         | 2/83 [00:00<00:05, 15.99it/s]"
     ]
    },
    {
     "name": "stdout",
     "output_type": "stream",
     "text": [
      "('Epoca 25.', 'lr:', 0.00028448363)\n"
     ]
    },
    {
     "name": "stderr",
     "output_type": "stream",
     "text": [
      "100%|██████████| 83/83 [00:03<00:00, 26.50it/s]\n",
      "  4%|▎         | 3/83 [00:00<00:03, 26.20it/s]"
     ]
    },
    {
     "name": "stdout",
     "output_type": "stream",
     "text": [
      "('Epoca 26.', 'lr:', 0.00028448363)\n"
     ]
    },
    {
     "name": "stderr",
     "output_type": "stream",
     "text": [
      " 29%|██▉       | 24/83 [00:00<00:02, 26.10it/s]\n",
      "  0%|          | 0/12 [00:00<?, ?it/s]\u001b[A"
     ]
    },
    {
     "name": "stdout",
     "output_type": "stream",
     "text": [
      "\tsaving model 2100...\n",
      "\tdone\n",
      "Evaluating\n"
     ]
    },
    {
     "name": "stderr",
     "output_type": "stream",
     "text": [
      "\n",
      " 58%|#####8    | 7/12 [00:00<00:00, 68.35it/s]\u001b[A\n",
      "100%|##########| 12/12 [00:00<00:00, 66.87it/s]\u001b[A"
     ]
    },
    {
     "name": "stdout",
     "output_type": "stream",
     "text": [
      "{'ade': 0.39389735, 'fde': 0.8577695}\n",
      "\t last loss:0.000552080, eval on validation:['ade: 0.39389735', 'fde: 0.8577695'], (best ade:0.4094324 at step 600) \n",
      "\t saving best model...\n"
     ]
    },
    {
     "name": "stderr",
     "output_type": "stream",
     "text": [
      "\r",
      " 33%|███▎      | 27/83 [00:01<00:05, 10.24it/s]"
     ]
    },
    {
     "name": "stdout",
     "output_type": "stream",
     "text": [
      "\t done.\n"
     ]
    },
    {
     "name": "stderr",
     "output_type": "stream",
     "text": [
      "100%|██████████| 83/83 [00:04<00:00, 23.69it/s]\n",
      "  4%|▎         | 3/83 [00:00<00:03, 24.12it/s]"
     ]
    },
    {
     "name": "stdout",
     "output_type": "stream",
     "text": [
      "('Epoca 27.', 'lr:', 0.0002418111)\n"
     ]
    },
    {
     "name": "stderr",
     "output_type": "stream",
     "text": [
      "100%|██████████| 83/83 [00:03<00:00, 25.39it/s]\n",
      "  1%|          | 1/83 [00:00<00:08,  9.16it/s]"
     ]
    },
    {
     "name": "stdout",
     "output_type": "stream",
     "text": [
      "('Epoca 28.', 'lr:', 0.0002418111)\n"
     ]
    },
    {
     "name": "stderr",
     "output_type": "stream",
     "text": [
      "100%|██████████| 83/83 [00:03<00:00, 24.61it/s]\n",
      "  1%|          | 1/83 [00:00<00:08,  9.48it/s]"
     ]
    },
    {
     "name": "stdout",
     "output_type": "stream",
     "text": [
      "('Epoca 29.', 'lr:', 0.00020553943)\n"
     ]
    },
    {
     "name": "stderr",
     "output_type": "stream",
     "text": [
      " 88%|████████▊ | 73/83 [00:02<00:00, 25.92it/s]\n",
      "  0%|          | 0/12 [00:00<?, ?it/s]\u001b[A"
     ]
    },
    {
     "name": "stdout",
     "output_type": "stream",
     "text": [
      "\tsaving model 2400...\n",
      "\tdone\n",
      "Evaluating\n"
     ]
    },
    {
     "name": "stderr",
     "output_type": "stream",
     "text": [
      "\n",
      " 75%|#######5  | 9/12 [00:00<00:00, 83.22it/s]\u001b[A\n",
      "100%|##########| 12/12 [00:00<00:00, 81.28it/s]\u001b[A"
     ]
    },
    {
     "name": "stdout",
     "output_type": "stream",
     "text": [
      "{'ade': 0.39068887, 'fde': 0.84397966}\n",
      "\t last loss:0.000500787, eval on validation:['ade: 0.39068887', 'fde: 0.84397966'], (best ade:0.39389735 at step 2100) \n",
      "\t saving best model...\n",
      "\t done.\n"
     ]
    },
    {
     "name": "stderr",
     "output_type": "stream",
     "text": [
      "100%|██████████| 83/83 [00:03<00:00, 20.83it/s]\n",
      "  4%|▎         | 3/83 [00:00<00:03, 23.00it/s]"
     ]
    },
    {
     "name": "stdout",
     "output_type": "stream",
     "text": [
      "('Epoca 30.', 'lr:', 0.00020553943)\n"
     ]
    },
    {
     "name": "stderr",
     "output_type": "stream",
     "text": [
      "100%|██████████| 83/83 [00:03<00:00, 24.64it/s]\n",
      "  4%|▎         | 3/83 [00:00<00:03, 24.15it/s]"
     ]
    },
    {
     "name": "stdout",
     "output_type": "stream",
     "text": [
      "('Epoca 31.', 'lr:', 0.00017470852)\n"
     ]
    },
    {
     "name": "stderr",
     "output_type": "stream",
     "text": [
      "100%|██████████| 83/83 [00:03<00:00, 24.23it/s]\n",
      "  1%|          | 1/83 [00:00<00:08,  9.98it/s]"
     ]
    },
    {
     "name": "stdout",
     "output_type": "stream",
     "text": [
      "('Epoca 32.', 'lr:', 0.00017470852)\n"
     ]
    },
    {
     "name": "stderr",
     "output_type": "stream",
     "text": [
      "100%|██████████| 83/83 [00:03<00:00, 25.76it/s]\n",
      "  4%|▎         | 3/83 [00:00<00:03, 25.28it/s]"
     ]
    },
    {
     "name": "stdout",
     "output_type": "stream",
     "text": [
      "('Epoca 33.', 'lr:', 0.00014850224)\n"
     ]
    },
    {
     "name": "stderr",
     "output_type": "stream",
     "text": [
      " 51%|█████     | 42/83 [00:01<00:01, 24.83it/s]\n"
     ]
    },
    {
     "name": "stdout",
     "output_type": "stream",
     "text": [
      "\tsaving model 2700...\n",
      "\tdone\n",
      "Evaluating\n"
     ]
    },
    {
     "name": "stderr",
     "output_type": "stream",
     "text": [
      "  0%|          | 0/12 [00:00<?, ?it/s]\u001b[A\n",
      " 58%|#####8    | 7/12 [00:00<00:00, 62.96it/s]\u001b[A\n",
      " 54%|█████▍    | 45/83 [00:02<00:03, 12.42it/s]\u001b[A"
     ]
    },
    {
     "name": "stdout",
     "output_type": "stream",
     "text": [
      "{'ade': 0.39428598, 'fde': 0.8525941}\n",
      "\t last loss:0.000631265, eval on validation:['ade: 0.39428598', 'fde: 0.8525941'], (best ade:0.39068887 at step 2400) \n"
     ]
    },
    {
     "name": "stderr",
     "output_type": "stream",
     "text": [
      "100%|██████████| 83/83 [00:03<00:00, 21.93it/s]\n",
      "  4%|▎         | 3/83 [00:00<00:03, 20.43it/s]"
     ]
    },
    {
     "name": "stdout",
     "output_type": "stream",
     "text": [
      "('Epoca 34.', 'lr:', 0.00014850224)\n"
     ]
    },
    {
     "name": "stderr",
     "output_type": "stream",
     "text": [
      "100%|██████████| 83/83 [00:03<00:00, 25.37it/s]\n",
      "  1%|          | 1/83 [00:00<00:08,  9.39it/s]"
     ]
    },
    {
     "name": "stdout",
     "output_type": "stream",
     "text": [
      "('Epoca 35.', 'lr:', 0.0001262269)\n"
     ]
    },
    {
     "name": "stderr",
     "output_type": "stream",
     "text": [
      "100%|██████████| 83/83 [00:03<00:00, 24.63it/s]\n",
      "  2%|▏         | 2/83 [00:00<00:05, 15.80it/s]"
     ]
    },
    {
     "name": "stdout",
     "output_type": "stream",
     "text": [
      "('Epoca 36.', 'lr:', 0.0001262269)\n"
     ]
    },
    {
     "name": "stderr",
     "output_type": "stream",
     "text": [
      "100%|██████████| 83/83 [00:03<00:00, 26.61it/s]\n",
      "  1%|          | 1/83 [00:00<00:09,  8.99it/s]"
     ]
    },
    {
     "name": "stdout",
     "output_type": "stream",
     "text": [
      "('Epoca 37.', 'lr:', 0.00010729288)\n"
     ]
    },
    {
     "name": "stderr",
     "output_type": "stream",
     "text": [
      " 12%|█▏        | 10/83 [00:00<00:04, 15.58it/s]\n",
      "  0%|          | 0/12 [00:00<?, ?it/s]\u001b[A"
     ]
    },
    {
     "name": "stdout",
     "output_type": "stream",
     "text": [
      "\tsaving model 3000...\n",
      "\tdone\n",
      "Evaluating\n"
     ]
    },
    {
     "name": "stderr",
     "output_type": "stream",
     "text": [
      "\n",
      " 75%|#######5  | 9/12 [00:00<00:00, 83.44it/s]\u001b[A\n",
      "100%|##########| 12/12 [00:00<00:00, 80.33it/s]\u001b[A"
     ]
    },
    {
     "name": "stdout",
     "output_type": "stream",
     "text": [
      "{'ade': 0.38874534, 'fde': 0.8396979}\n",
      "\t last loss:0.000390563, eval on validation:['ade: 0.38874534', 'fde: 0.8396979'], (best ade:0.39068887 at step 2400) \n",
      "\t saving best model...\n",
      "\t done.\n"
     ]
    },
    {
     "name": "stderr",
     "output_type": "stream",
     "text": [
      "100%|██████████| 83/83 [00:04<00:00, 19.83it/s]\n",
      "  4%|▎         | 3/83 [00:00<00:03, 23.08it/s]"
     ]
    },
    {
     "name": "stdout",
     "output_type": "stream",
     "text": [
      "('Epoca 38.', 'lr:', 0.00010729288)\n"
     ]
    },
    {
     "name": "stderr",
     "output_type": "stream",
     "text": [
      "100%|██████████| 83/83 [00:03<00:00, 24.64it/s]\n",
      "  4%|▎         | 3/83 [00:00<00:03, 26.05it/s]"
     ]
    },
    {
     "name": "stdout",
     "output_type": "stream",
     "text": [
      "('Epoca 39.', 'lr:', 9.119895e-05)\n"
     ]
    },
    {
     "name": "stderr",
     "output_type": "stream",
     "text": [
      "100%|██████████| 83/83 [00:03<00:00, 26.20it/s]\n",
      "  2%|▏         | 2/83 [00:00<00:05, 15.88it/s]"
     ]
    },
    {
     "name": "stdout",
     "output_type": "stream",
     "text": [
      "('Epoca 40.', 'lr:', 9.119895e-05)\n"
     ]
    },
    {
     "name": "stderr",
     "output_type": "stream",
     "text": [
      " 75%|███████▍  | 62/83 [00:02<00:00, 26.42it/s]\n",
      "  0%|          | 0/12 [00:00<?, ?it/s]\u001b[A"
     ]
    },
    {
     "name": "stdout",
     "output_type": "stream",
     "text": [
      "\tsaving model 3300...\n",
      "\tdone\n",
      "Evaluating\n"
     ]
    },
    {
     "name": "stderr",
     "output_type": "stream",
     "text": [
      "\n",
      " 75%|#######5  | 9/12 [00:00<00:00, 86.55it/s]\u001b[A\n",
      " 78%|███████▊  | 65/83 [00:02<00:01, 13.90it/s]\u001b[A"
     ]
    },
    {
     "name": "stdout",
     "output_type": "stream",
     "text": [
      "{'ade': 0.39013076, 'fde': 0.8448421}\n",
      "\t last loss:0.000417364, eval on validation:['ade: 0.39013076', 'fde: 0.8448421'], (best ade:0.38874534 at step 3000) \n"
     ]
    },
    {
     "name": "stderr",
     "output_type": "stream",
     "text": [
      "100%|██████████| 83/83 [00:03<00:00, 22.48it/s]\n",
      "  4%|▎         | 3/83 [00:00<00:03, 25.92it/s]"
     ]
    },
    {
     "name": "stdout",
     "output_type": "stream",
     "text": [
      "('Epoca 41.', 'lr:', 7.751911e-05)\n"
     ]
    },
    {
     "name": "stderr",
     "output_type": "stream",
     "text": [
      "100%|██████████| 83/83 [00:03<00:00, 25.76it/s]\n",
      "  1%|          | 1/83 [00:00<00:09,  9.04it/s]"
     ]
    },
    {
     "name": "stdout",
     "output_type": "stream",
     "text": [
      "('Epoca 42.', 'lr:', 7.751911e-05)\n"
     ]
    },
    {
     "name": "stderr",
     "output_type": "stream",
     "text": [
      "100%|██████████| 83/83 [00:03<00:00, 23.90it/s]\n",
      "  2%|▏         | 2/83 [00:00<00:05, 16.03it/s]"
     ]
    },
    {
     "name": "stdout",
     "output_type": "stream",
     "text": [
      "('Epoca 43.', 'lr:', 6.589125e-05)\n"
     ]
    },
    {
     "name": "stderr",
     "output_type": "stream",
     "text": [
      "100%|██████████| 83/83 [00:03<00:00, 26.43it/s]\n",
      "  4%|▎         | 3/83 [00:00<00:03, 26.41it/s]"
     ]
    },
    {
     "name": "stdout",
     "output_type": "stream",
     "text": [
      "('Epoca 44.', 'lr:', 6.589125e-05)\n"
     ]
    },
    {
     "name": "stderr",
     "output_type": "stream",
     "text": [
      " 36%|███▌      | 30/83 [00:01<00:01, 26.52it/s]\n",
      "  0%|          | 0/12 [00:00<?, ?it/s]\u001b[A"
     ]
    },
    {
     "name": "stdout",
     "output_type": "stream",
     "text": [
      "\tsaving model 3600...\n",
      "\tdone\n",
      "Evaluating\n"
     ]
    },
    {
     "name": "stderr",
     "output_type": "stream",
     "text": [
      "\n",
      " 67%|######6   | 8/12 [00:00<00:00, 79.65it/s]\u001b[A\n",
      " 40%|███▉      | 33/83 [00:01<00:03, 13.99it/s]\u001b[A"
     ]
    },
    {
     "name": "stdout",
     "output_type": "stream",
     "text": [
      "{'ade': 0.38934407, 'fde': 0.8424653}\n",
      "\t last loss:0.000521322, eval on validation:['ade: 0.38934407', 'fde: 0.8424653'], (best ade:0.38874534 at step 3000) \n"
     ]
    },
    {
     "name": "stderr",
     "output_type": "stream",
     "text": [
      "100%|██████████| 83/83 [00:03<00:00, 22.62it/s]\n",
      "  4%|▎         | 3/83 [00:00<00:03, 24.31it/s]"
     ]
    },
    {
     "name": "stdout",
     "output_type": "stream",
     "text": [
      "('Epoca 45.', 'lr:', 5.600756e-05)\n"
     ]
    },
    {
     "name": "stderr",
     "output_type": "stream",
     "text": [
      "100%|██████████| 83/83 [00:03<00:00, 24.64it/s]\n",
      "  4%|▎         | 3/83 [00:00<00:03, 25.04it/s]"
     ]
    },
    {
     "name": "stdout",
     "output_type": "stream",
     "text": [
      "('Epoca 46.', 'lr:', 5.600756e-05)\n"
     ]
    },
    {
     "name": "stderr",
     "output_type": "stream",
     "text": [
      "100%|██████████| 83/83 [00:03<00:00, 26.20it/s]\n",
      "  4%|▎         | 3/83 [00:00<00:03, 25.73it/s]"
     ]
    },
    {
     "name": "stdout",
     "output_type": "stream",
     "text": [
      "('Epoca 47.', 'lr:', 4.7606427e-05)\n"
     ]
    },
    {
     "name": "stderr",
     "output_type": "stream",
     "text": [
      " 98%|█████████▊| 81/83 [00:03<00:00, 24.59it/s]\n",
      "  0%|          | 0/12 [00:00<?, ?it/s]\u001b[A"
     ]
    },
    {
     "name": "stdout",
     "output_type": "stream",
     "text": [
      "\tsaving model 3900...\n",
      "\tdone\n",
      "Evaluating\n"
     ]
    },
    {
     "name": "stderr",
     "output_type": "stream",
     "text": [
      "\n",
      " 67%|######6   | 8/12 [00:00<00:00, 78.04it/s]\u001b[A\n",
      "100%|██████████| 83/83 [00:03<00:00, 22.17it/s]\u001b[A\n",
      "  0%|          | 0/83 [00:00<?, ?it/s]"
     ]
    },
    {
     "name": "stdout",
     "output_type": "stream",
     "text": [
      "{'ade': 0.3925951, 'fde': 0.85512644}\n",
      "\t last loss:0.000446549, eval on validation:['ade: 0.3925951', 'fde: 0.85512644'], (best ade:0.38874534 at step 3000) \n",
      "('Epoca 48.', 'lr:', 4.7606427e-05)\n"
     ]
    },
    {
     "name": "stderr",
     "output_type": "stream",
     "text": [
      "100%|██████████| 83/83 [00:03<00:00, 25.00it/s]\n",
      "  1%|          | 1/83 [00:00<00:09,  8.38it/s]"
     ]
    },
    {
     "name": "stdout",
     "output_type": "stream",
     "text": [
      "('Epoca 49.', 'lr:', 4.0465464e-05)\n"
     ]
    },
    {
     "name": "stderr",
     "output_type": "stream",
     "text": [
      "100%|██████████| 83/83 [00:03<00:00, 24.17it/s]\n",
      "  1%|          | 1/83 [00:00<00:09,  8.30it/s]"
     ]
    },
    {
     "name": "stdout",
     "output_type": "stream",
     "text": [
      "('Epoca 50.', 'lr:', 4.0465464e-05)\n"
     ]
    },
    {
     "name": "stderr",
     "output_type": "stream",
     "text": [
      "100%|██████████| 83/83 [00:03<00:00, 24.62it/s]\n",
      "  1%|          | 1/83 [00:00<00:08,  9.91it/s]"
     ]
    },
    {
     "name": "stdout",
     "output_type": "stream",
     "text": [
      "('Epoca 51.', 'lr:', 3.4395645e-05)\n"
     ]
    },
    {
     "name": "stderr",
     "output_type": "stream",
     "text": [
      " 59%|█████▉    | 49/83 [00:01<00:01, 26.10it/s]\n",
      "  0%|          | 0/12 [00:00<?, ?it/s]\u001b[A"
     ]
    },
    {
     "name": "stdout",
     "output_type": "stream",
     "text": [
      "\tsaving model 4200...\n",
      "\tdone\n",
      "Evaluating\n"
     ]
    },
    {
     "name": "stderr",
     "output_type": "stream",
     "text": [
      "\n",
      " 67%|######6   | 8/12 [00:00<00:00, 79.33it/s]\u001b[A\n",
      " 63%|██████▎   | 52/83 [00:02<00:02, 13.75it/s]\u001b[A"
     ]
    },
    {
     "name": "stdout",
     "output_type": "stream",
     "text": [
      "{'ade': 0.39217648, 'fde': 0.85199994}\n",
      "\t last loss:0.000443495, eval on validation:['ade: 0.39217648', 'fde: 0.85199994'], (best ade:0.38874534 at step 3000) \n"
     ]
    },
    {
     "name": "stderr",
     "output_type": "stream",
     "text": [
      "100%|██████████| 83/83 [00:03<00:00, 22.34it/s]\n",
      "  4%|▎         | 3/83 [00:00<00:03, 23.98it/s]"
     ]
    },
    {
     "name": "stdout",
     "output_type": "stream",
     "text": [
      "('Epoca 52.', 'lr:', 3.4395645e-05)\n"
     ]
    },
    {
     "name": "stderr",
     "output_type": "stream",
     "text": [
      "100%|██████████| 83/83 [00:03<00:00, 24.26it/s]\n",
      "  2%|▏         | 2/83 [00:00<00:06, 11.64it/s]"
     ]
    },
    {
     "name": "stdout",
     "output_type": "stream",
     "text": [
      "('Epoca 53.', 'lr:', 2.92363e-05)\n"
     ]
    },
    {
     "name": "stderr",
     "output_type": "stream",
     "text": [
      "100%|██████████| 83/83 [00:03<00:00, 24.84it/s]\n",
      "  1%|          | 1/83 [00:00<00:08,  9.47it/s]"
     ]
    },
    {
     "name": "stdout",
     "output_type": "stream",
     "text": [
      "('Epoca 54.', 'lr:', 2.92363e-05)\n"
     ]
    },
    {
     "name": "stderr",
     "output_type": "stream",
     "text": [
      "100%|██████████| 83/83 [00:03<00:00, 23.92it/s]\n",
      "  1%|          | 1/83 [00:00<00:09,  8.84it/s]"
     ]
    },
    {
     "name": "stdout",
     "output_type": "stream",
     "text": [
      "('Epoca 55.', 'lr:', 2.4850853e-05)\n"
     ]
    },
    {
     "name": "stderr",
     "output_type": "stream",
     "text": [
      " 19%|█▉        | 16/83 [00:00<00:03, 19.65it/s]\n",
      "  0%|          | 0/12 [00:00<?, ?it/s]\u001b[A"
     ]
    },
    {
     "name": "stdout",
     "output_type": "stream",
     "text": [
      "\tsaving model 4500...\n",
      "\tdone\n",
      "Evaluating\n"
     ]
    },
    {
     "name": "stderr",
     "output_type": "stream",
     "text": [
      "\n",
      " 67%|######6   | 8/12 [00:00<00:00, 78.22it/s]\u001b[A\n",
      "100%|##########| 12/12 [00:00<00:00, 79.03it/s]\u001b[A"
     ]
    },
    {
     "name": "stdout",
     "output_type": "stream",
     "text": [
      "{'ade': 0.3879286, 'fde': 0.8390877}\n",
      "\t last loss:0.000315008, eval on validation:['ade: 0.3879286', 'fde: 0.8390877'], (best ade:0.38874534 at step 3000) \n",
      "\t saving best model...\n",
      "\t done.\n"
     ]
    },
    {
     "name": "stderr",
     "output_type": "stream",
     "text": [
      "100%|██████████| 83/83 [00:04<00:00, 20.70it/s]\n",
      "  1%|          | 1/83 [00:00<00:08,  9.59it/s]"
     ]
    },
    {
     "name": "stdout",
     "output_type": "stream",
     "text": [
      "('Epoca 56.', 'lr:', 2.4850853e-05)\n"
     ]
    },
    {
     "name": "stderr",
     "output_type": "stream",
     "text": [
      "100%|██████████| 83/83 [00:03<00:00, 24.95it/s]\n",
      "  4%|▎         | 3/83 [00:00<00:03, 25.36it/s]"
     ]
    },
    {
     "name": "stdout",
     "output_type": "stream",
     "text": [
      "('Epoca 57.', 'lr:', 2.1123227e-05)\n"
     ]
    },
    {
     "name": "stderr",
     "output_type": "stream",
     "text": [
      "100%|██████████| 83/83 [00:03<00:00, 25.78it/s]\n",
      "  4%|▎         | 3/83 [00:00<00:03, 25.23it/s]"
     ]
    },
    {
     "name": "stdout",
     "output_type": "stream",
     "text": [
      "('Epoca 58.', 'lr:', 2.1123227e-05)\n"
     ]
    },
    {
     "name": "stderr",
     "output_type": "stream",
     "text": [
      " 80%|███████▉  | 66/83 [00:02<00:00, 24.72it/s]"
     ]
    },
    {
     "name": "stdout",
     "output_type": "stream",
     "text": [
      "\tsaving model 4800...\n"
     ]
    },
    {
     "name": "stderr",
     "output_type": "stream",
     "text": [
      "\n",
      "  0%|          | 0/12 [00:00<?, ?it/s]\u001b[A\n",
      " 67%|######6   | 8/12 [00:00<00:00, 74.00it/s]\u001b[A\n",
      "100%|##########| 12/12 [00:00<00:00, 73.81it/s]\u001b[A"
     ]
    },
    {
     "name": "stdout",
     "output_type": "stream",
     "text": [
      "\tdone\n",
      "Evaluating\n",
      "{'ade': 0.3898182, 'fde': 0.84465814}\n",
      "\t last loss:0.000590599, eval on validation:['ade: 0.3898182', 'fde: 0.84465814'], (best ade:0.3879286 at step 4500) \n"
     ]
    },
    {
     "name": "stderr",
     "output_type": "stream",
     "text": [
      "100%|██████████| 83/83 [00:03<00:00, 22.24it/s]\n",
      "  1%|          | 1/83 [00:00<00:08,  9.15it/s]"
     ]
    },
    {
     "name": "stdout",
     "output_type": "stream",
     "text": [
      "('Epoca 59.', 'lr:', 1.7954744e-05)\n"
     ]
    },
    {
     "name": "stderr",
     "output_type": "stream",
     "text": [
      "100%|██████████| 83/83 [00:03<00:00, 24.24it/s]\n",
      "  1%|          | 1/83 [00:00<00:09,  8.63it/s]"
     ]
    },
    {
     "name": "stdout",
     "output_type": "stream",
     "text": [
      "('Epoca 60.', 'lr:', 1.7954744e-05)\n"
     ]
    },
    {
     "name": "stderr",
     "output_type": "stream",
     "text": [
      "100%|██████████| 83/83 [00:03<00:00, 25.00it/s]\n",
      "  4%|▎         | 3/83 [00:00<00:03, 23.80it/s]"
     ]
    },
    {
     "name": "stdout",
     "output_type": "stream",
     "text": [
      "('Epoca 61.', 'lr:', 1.5261532e-05)\n"
     ]
    },
    {
     "name": "stderr",
     "output_type": "stream",
     "text": [
      "100%|██████████| 83/83 [00:03<00:00, 24.64it/s]\n",
      "  4%|▎         | 3/83 [00:00<00:03, 26.18it/s]"
     ]
    },
    {
     "name": "stdout",
     "output_type": "stream",
     "text": [
      "('Epoca 62.', 'lr:', 1.5261532e-05)\n"
     ]
    },
    {
     "name": "stderr",
     "output_type": "stream",
     "text": [
      " 43%|████▎     | 36/83 [00:01<00:01, 26.37it/s]"
     ]
    },
    {
     "name": "stdout",
     "output_type": "stream",
     "text": [
      "\tsaving model 5100...\n"
     ]
    },
    {
     "name": "stderr",
     "output_type": "stream",
     "text": [
      "\n",
      "  0%|          | 0/12 [00:00<?, ?it/s]\u001b[A\n",
      " 75%|#######5  | 9/12 [00:00<00:00, 86.83it/s]\u001b[A\n",
      "100%|##########| 12/12 [00:00<00:00, 82.00it/s]\u001b[A"
     ]
    },
    {
     "name": "stdout",
     "output_type": "stream",
     "text": [
      "\tdone\n",
      "Evaluating\n",
      "{'ade': 0.3902639, 'fde': 0.8454194}\n",
      "\t last loss:0.000479593, eval on validation:['ade: 0.3902639', 'fde: 0.8454194'], (best ade:0.3879286 at step 4500) \n"
     ]
    },
    {
     "name": "stderr",
     "output_type": "stream",
     "text": [
      "100%|██████████| 83/83 [00:03<00:00, 22.72it/s]\n",
      "  1%|          | 1/83 [00:00<00:09,  8.63it/s]"
     ]
    },
    {
     "name": "stdout",
     "output_type": "stream",
     "text": [
      "('Epoca 63.', 'lr:', 1.2972303e-05)\n"
     ]
    },
    {
     "name": "stderr",
     "output_type": "stream",
     "text": [
      "100%|██████████| 83/83 [00:03<00:00, 23.89it/s]\n",
      "  4%|▎         | 3/83 [00:00<00:03, 23.63it/s]"
     ]
    },
    {
     "name": "stdout",
     "output_type": "stream",
     "text": [
      "('Epoca 64.', 'lr:', 1.2972303e-05)\n"
     ]
    },
    {
     "name": "stderr",
     "output_type": "stream",
     "text": [
      "100%|██████████| 83/83 [00:03<00:00, 25.79it/s]\n",
      "  4%|▎         | 3/83 [00:00<00:03, 25.74it/s]"
     ]
    },
    {
     "name": "stdout",
     "output_type": "stream",
     "text": [
      "('Epoca 65.', 'lr:', 1.1026457e-05)\n"
     ]
    },
    {
     "name": "stderr",
     "output_type": "stream",
     "text": [
      "100%|██████████| 83/83 [00:03<00:00, 25.00it/s]\n",
      "  4%|▎         | 3/83 [00:00<00:03, 23.40it/s]"
     ]
    },
    {
     "name": "stdout",
     "output_type": "stream",
     "text": [
      "('Epoca 66.', 'lr:', 1.1026457e-05)\n",
      "\tsaving model 5400...\n"
     ]
    },
    {
     "name": "stderr",
     "output_type": "stream",
     "text": [
      "\n",
      "  0%|          | 0/12 [00:00<?, ?it/s]\u001b[A\n",
      " 67%|######6   | 8/12 [00:00<00:00, 76.37it/s]\u001b[A\n",
      "100%|##########| 12/12 [00:00<00:00, 75.88it/s]\u001b[A"
     ]
    },
    {
     "name": "stdout",
     "output_type": "stream",
     "text": [
      "\tdone\n",
      "Evaluating\n",
      "{'ade': 0.38812178, 'fde': 0.8411257}\n",
      "\t last loss:0.000356037, eval on validation:['ade: 0.38812178', 'fde: 0.8411257'], (best ade:0.3879286 at step 4500) \n"
     ]
    },
    {
     "name": "stderr",
     "output_type": "stream",
     "text": [
      "100%|██████████| 83/83 [00:03<00:00, 21.99it/s]\n",
      "  4%|▎         | 3/83 [00:00<00:03, 23.93it/s]"
     ]
    },
    {
     "name": "stdout",
     "output_type": "stream",
     "text": [
      "('Epoca 67.', 'lr:', 9.37249e-06)\n"
     ]
    },
    {
     "name": "stderr",
     "output_type": "stream",
     "text": [
      "100%|██████████| 83/83 [00:03<00:00, 25.39it/s]\n",
      "  1%|          | 1/83 [00:00<00:08,  9.84it/s]"
     ]
    },
    {
     "name": "stdout",
     "output_type": "stream",
     "text": [
      "('Epoca 68.', 'lr:', 9.37249e-06)\n"
     ]
    },
    {
     "name": "stderr",
     "output_type": "stream",
     "text": [
      "100%|██████████| 83/83 [00:03<00:00, 24.26it/s]\n",
      "  4%|▎         | 3/83 [00:00<00:03, 25.90it/s]"
     ]
    },
    {
     "name": "stdout",
     "output_type": "stream",
     "text": [
      "('Epoca 69.', 'lr:', 7.966617e-06)\n"
     ]
    },
    {
     "name": "stderr",
     "output_type": "stream",
     "text": [
      " 65%|██████▌   | 54/83 [00:02<00:01, 26.35it/s]\n",
      "  0%|          | 0/12 [00:00<?, ?it/s]\u001b[A"
     ]
    },
    {
     "name": "stdout",
     "output_type": "stream",
     "text": [
      "\tsaving model 5700...\n",
      "\tdone\n",
      "Evaluating\n"
     ]
    },
    {
     "name": "stderr",
     "output_type": "stream",
     "text": [
      "\n",
      " 75%|#######5  | 9/12 [00:00<00:00, 88.39it/s]\u001b[A\n",
      "100%|##########| 12/12 [00:00<00:00, 84.80it/s]\u001b[A"
     ]
    },
    {
     "name": "stdout",
     "output_type": "stream",
     "text": [
      "{'ade': 0.38680443, 'fde': 0.83508545}\n",
      "\t last loss:0.000441802, eval on validation:['ade: 0.38680443', 'fde: 0.83508545'], (best ade:0.3879286 at step 4500) \n",
      "\t saving best model...\n",
      "\t done.\n"
     ]
    },
    {
     "name": "stderr",
     "output_type": "stream",
     "text": [
      "100%|██████████| 83/83 [00:03<00:00, 21.85it/s]\n",
      "  4%|▎         | 3/83 [00:00<00:03, 24.07it/s]"
     ]
    },
    {
     "name": "stdout",
     "output_type": "stream",
     "text": [
      "('Epoca 70.', 'lr:', 7.966617e-06)\n"
     ]
    },
    {
     "name": "stderr",
     "output_type": "stream",
     "text": [
      "100%|██████████| 83/83 [00:03<00:00, 24.68it/s]\n",
      "  4%|▎         | 3/83 [00:00<00:03, 24.28it/s]"
     ]
    },
    {
     "name": "stdout",
     "output_type": "stream",
     "text": [
      "('Epoca 71.', 'lr:', 6.7716246e-06)\n"
     ]
    },
    {
     "name": "stderr",
     "output_type": "stream",
     "text": [
      "100%|██████████| 83/83 [00:03<00:00, 26.19it/s]\n",
      "  4%|▎         | 3/83 [00:00<00:03, 25.47it/s]"
     ]
    },
    {
     "name": "stdout",
     "output_type": "stream",
     "text": [
      "('Epoca 72.', 'lr:', 6.7716246e-06)\n"
     ]
    },
    {
     "name": "stderr",
     "output_type": "stream",
     "text": [
      "100%|██████████| 83/83 [00:03<00:00, 23.57it/s]\n",
      "  4%|▎         | 3/83 [00:00<00:03, 24.29it/s]"
     ]
    },
    {
     "name": "stdout",
     "output_type": "stream",
     "text": [
      "('Epoca 73.', 'lr:', 5.7558805e-06)\n"
     ]
    },
    {
     "name": "stderr",
     "output_type": "stream",
     "text": [
      " 25%|██▌       | 21/83 [00:00<00:02, 24.28it/s]"
     ]
    },
    {
     "name": "stdout",
     "output_type": "stream",
     "text": [
      "\tsaving model 6000...\n"
     ]
    },
    {
     "name": "stderr",
     "output_type": "stream",
     "text": [
      "\n",
      "  0%|          | 0/12 [00:00<?, ?it/s]\u001b[A\n",
      " 75%|#######5  | 9/12 [00:00<00:00, 85.32it/s]\u001b[A\n",
      "100%|##########| 12/12 [00:00<00:00, 79.94it/s]\u001b[A"
     ]
    },
    {
     "name": "stdout",
     "output_type": "stream",
     "text": [
      "\tdone\n",
      "Evaluating\n",
      "{'ade': 0.38903353, 'fde': 0.84285116}\n",
      "\t last loss:0.000411815, eval on validation:['ade: 0.38903353', 'fde: 0.84285116'], (best ade:0.38680443 at step 5700) \n"
     ]
    },
    {
     "name": "stderr",
     "output_type": "stream",
     "text": [
      "100%|██████████| 83/83 [00:03<00:00, 21.83it/s]\n",
      "  4%|▎         | 3/83 [00:00<00:03, 25.80it/s]"
     ]
    },
    {
     "name": "stdout",
     "output_type": "stream",
     "text": [
      "('Epoca 74.', 'lr:', 5.7558805e-06)\n"
     ]
    },
    {
     "name": "stderr",
     "output_type": "stream",
     "text": [
      "100%|██████████| 83/83 [00:03<00:00, 25.00it/s]\n",
      "  4%|▎         | 3/83 [00:00<00:03, 23.71it/s]"
     ]
    },
    {
     "name": "stdout",
     "output_type": "stream",
     "text": [
      "('Epoca 75.', 'lr:', 4.8924985e-06)\n"
     ]
    },
    {
     "name": "stderr",
     "output_type": "stream",
     "text": [
      "100%|██████████| 83/83 [00:03<00:00, 25.01it/s]\n",
      "  4%|▎         | 3/83 [00:00<00:03, 25.77it/s]"
     ]
    },
    {
     "name": "stdout",
     "output_type": "stream",
     "text": [
      "('Epoca 76.', 'lr:', 4.8924985e-06)\n"
     ]
    },
    {
     "name": "stderr",
     "output_type": "stream",
     "text": [
      " 87%|████████▋ | 72/83 [00:02<00:00, 26.62it/s]\n",
      "  0%|          | 0/12 [00:00<?, ?it/s]\u001b[A"
     ]
    },
    {
     "name": "stdout",
     "output_type": "stream",
     "text": [
      "\tsaving model 6300...\n",
      "\tdone\n",
      "Evaluating\n"
     ]
    },
    {
     "name": "stderr",
     "output_type": "stream",
     "text": [
      "\n",
      " 67%|######6   | 8/12 [00:00<00:00, 78.70it/s]\u001b[A\n",
      " 94%|█████████▍| 78/83 [00:03<00:00, 15.93it/s]\u001b[A"
     ]
    },
    {
     "name": "stdout",
     "output_type": "stream",
     "text": [
      "{'ade': 0.38810924, 'fde': 0.83933336}\n",
      "\t last loss:0.000510538, eval on validation:['ade: 0.38810924', 'fde: 0.83933336'], (best ade:0.38680443 at step 5700) \n"
     ]
    },
    {
     "name": "stderr",
     "output_type": "stream",
     "text": [
      "100%|██████████| 83/83 [00:03<00:00, 23.20it/s]\n",
      "  1%|          | 1/83 [00:00<00:08,  9.99it/s]"
     ]
    },
    {
     "name": "stdout",
     "output_type": "stream",
     "text": [
      "('Epoca 77.', 'lr:', 4.158624e-06)\n"
     ]
    },
    {
     "name": "stderr",
     "output_type": "stream",
     "text": [
      "100%|██████████| 83/83 [00:03<00:00, 23.24it/s]\n",
      "  2%|▏         | 2/83 [00:00<00:05, 14.57it/s]"
     ]
    },
    {
     "name": "stdout",
     "output_type": "stream",
     "text": [
      "('Epoca 78.', 'lr:', 4.158624e-06)\n"
     ]
    },
    {
     "name": "stderr",
     "output_type": "stream",
     "text": [
      "100%|██████████| 83/83 [00:03<00:00, 26.45it/s]\n",
      "  4%|▎         | 3/83 [00:00<00:03, 24.92it/s]"
     ]
    },
    {
     "name": "stdout",
     "output_type": "stream",
     "text": [
      "('Epoca 79.', 'lr:', 3.5348305e-06)\n"
     ]
    },
    {
     "name": "stderr",
     "output_type": "stream",
     "text": [
      "100%|██████████| 83/83 [00:03<00:00, 24.64it/s]\n",
      "  4%|▎         | 3/83 [00:00<00:03, 22.83it/s]"
     ]
    },
    {
     "name": "stdout",
     "output_type": "stream",
     "text": [
      "('Epoca 80.', 'lr:', 3.5348305e-06)\n"
     ]
    },
    {
     "name": "stderr",
     "output_type": "stream",
     "text": [
      " 51%|█████     | 42/83 [00:01<00:01, 25.70it/s]\n",
      "  0%|          | 0/12 [00:00<?, ?it/s]\u001b[A"
     ]
    },
    {
     "name": "stdout",
     "output_type": "stream",
     "text": [
      "\tsaving model 6600...\n",
      "\tdone\n",
      "Evaluating\n"
     ]
    },
    {
     "name": "stderr",
     "output_type": "stream",
     "text": [
      "\n",
      " 75%|#######5  | 9/12 [00:00<00:00, 82.81it/s]\u001b[A\n",
      " 54%|█████▍    | 45/83 [00:02<00:02, 13.63it/s]\u001b[A"
     ]
    },
    {
     "name": "stdout",
     "output_type": "stream",
     "text": [
      "{'ade': 0.38683414, 'fde': 0.83706903}\n",
      "\t last loss:0.000356975, eval on validation:['ade: 0.38683414', 'fde: 0.83706903'], (best ade:0.38680443 at step 5700) \n"
     ]
    },
    {
     "name": "stderr",
     "output_type": "stream",
     "text": [
      "100%|██████████| 83/83 [00:03<00:00, 22.53it/s]\n",
      "  4%|▎         | 3/83 [00:00<00:03, 21.77it/s]"
     ]
    },
    {
     "name": "stdout",
     "output_type": "stream",
     "text": [
      "('Epoca 81.', 'lr:', 3.004606e-06)\n"
     ]
    },
    {
     "name": "stderr",
     "output_type": "stream",
     "text": [
      "100%|██████████| 83/83 [00:03<00:00, 25.01it/s]\n",
      "  2%|▏         | 2/83 [00:00<00:05, 14.82it/s]"
     ]
    },
    {
     "name": "stdout",
     "output_type": "stream",
     "text": [
      "('Epoca 82.', 'lr:', 3.004606e-06)\n"
     ]
    },
    {
     "name": "stderr",
     "output_type": "stream",
     "text": [
      "100%|██████████| 83/83 [00:03<00:00, 26.36it/s]\n",
      "  4%|▎         | 3/83 [00:00<00:03, 24.84it/s]"
     ]
    },
    {
     "name": "stdout",
     "output_type": "stream",
     "text": [
      "('Epoca 83.', 'lr:', 2.5539152e-06)\n"
     ]
    },
    {
     "name": "stderr",
     "output_type": "stream",
     "text": [
      "100%|██████████| 83/83 [00:03<00:00, 25.78it/s]\n",
      "  4%|▎         | 3/83 [00:00<00:03, 23.75it/s]"
     ]
    },
    {
     "name": "stdout",
     "output_type": "stream",
     "text": [
      "('Epoca 84.', 'lr:', 2.170828e-06)\n"
     ]
    },
    {
     "name": "stderr",
     "output_type": "stream",
     "text": [
      " 11%|█         | 9/83 [00:00<00:03, 23.86it/s]"
     ]
    },
    {
     "name": "stdout",
     "output_type": "stream",
     "text": [
      "\tsaving model 6900...\n"
     ]
    },
    {
     "name": "stderr",
     "output_type": "stream",
     "text": [
      "\n",
      "  0%|          | 0/12 [00:00<?, ?it/s]\u001b[A\n",
      " 67%|######6   | 8/12 [00:00<00:00, 78.56it/s]\u001b[A\n",
      "100%|##########| 12/12 [00:00<00:00, 76.19it/s]\u001b[A"
     ]
    },
    {
     "name": "stdout",
     "output_type": "stream",
     "text": [
      "\tdone\n",
      "Evaluating\n",
      "{'ade': 0.38642737, 'fde': 0.8353145}\n",
      "\t last loss:0.000361189, eval on validation:['ade: 0.38642737', 'fde: 0.8353145'], (best ade:0.38680443 at step 5700) \n",
      "\t saving best model...\n"
     ]
    },
    {
     "name": "stderr",
     "output_type": "stream",
     "text": [
      " 16%|█▌        | 13/83 [00:01<00:07,  9.54it/s]"
     ]
    },
    {
     "name": "stdout",
     "output_type": "stream",
     "text": [
      "\t done.\n"
     ]
    },
    {
     "name": "stderr",
     "output_type": "stream",
     "text": [
      "100%|██████████| 83/83 [00:04<00:00, 20.16it/s]\n",
      "  4%|▎         | 3/83 [00:00<00:03, 25.59it/s]"
     ]
    },
    {
     "name": "stdout",
     "output_type": "stream",
     "text": [
      "('Epoca 85.', 'lr:', 2.170828e-06)\n"
     ]
    },
    {
     "name": "stderr",
     "output_type": "stream",
     "text": [
      "100%|██████████| 83/83 [00:03<00:00, 25.77it/s]\n",
      "  1%|          | 1/83 [00:00<00:09,  8.57it/s]"
     ]
    },
    {
     "name": "stdout",
     "output_type": "stream",
     "text": [
      "('Epoca 86.', 'lr:', 1.8452038e-06)\n"
     ]
    },
    {
     "name": "stderr",
     "output_type": "stream",
     "text": [
      "100%|██████████| 83/83 [00:03<00:00, 23.91it/s]\n",
      "  1%|          | 1/83 [00:00<00:08,  9.28it/s]"
     ]
    },
    {
     "name": "stdout",
     "output_type": "stream",
     "text": [
      "('Epoca 87.', 'lr:', 1.8452038e-06)\n"
     ]
    },
    {
     "name": "stderr",
     "output_type": "stream",
     "text": [
      " 72%|███████▏  | 60/83 [00:02<00:01, 16.40it/s]"
     ]
    },
    {
     "name": "stdout",
     "output_type": "stream",
     "text": [
      "\tsaving model 7200...\n"
     ]
    },
    {
     "name": "stderr",
     "output_type": "stream",
     "text": [
      "\n",
      "  0%|          | 0/12 [00:00<?, ?it/s]\u001b[A\n",
      " 58%|#####8    | 7/12 [00:00<00:00, 69.87it/s]\u001b[A\n",
      "100%|##########| 12/12 [00:00<00:00, 66.63it/s]\u001b[A"
     ]
    },
    {
     "name": "stdout",
     "output_type": "stream",
     "text": [
      "\tdone\n",
      "Evaluating\n"
     ]
    },
    {
     "name": "stderr",
     "output_type": "stream",
     "text": [
      " 77%|███████▋  | 64/83 [00:03<00:01,  9.80it/s]"
     ]
    },
    {
     "name": "stdout",
     "output_type": "stream",
     "text": [
      "{'ade': 0.38730058, 'fde': 0.8382073}\n",
      "\t last loss:0.000522049, eval on validation:['ade: 0.38730058', 'fde: 0.8382073'], (best ade:0.38642737 at step 6900) \n"
     ]
    },
    {
     "name": "stderr",
     "output_type": "stream",
     "text": [
      "100%|██████████| 83/83 [00:04<00:00, 17.75it/s]\n",
      "  2%|▏         | 2/83 [00:00<00:04, 18.52it/s]"
     ]
    },
    {
     "name": "stdout",
     "output_type": "stream",
     "text": [
      "('Epoca 88.', 'lr:', 1.5684233e-06)\n"
     ]
    },
    {
     "name": "stderr",
     "output_type": "stream",
     "text": [
      "100%|██████████| 83/83 [00:04<00:00, 16.84it/s]\n",
      "  2%|▏         | 2/83 [00:00<00:04, 18.64it/s]"
     ]
    },
    {
     "name": "stdout",
     "output_type": "stream",
     "text": [
      "('Epoca 89.', 'lr:', 1.5684233e-06)\n"
     ]
    },
    {
     "name": "stderr",
     "output_type": "stream",
     "text": [
      "100%|██████████| 83/83 [00:03<00:00, 21.70it/s]\n",
      "  4%|▎         | 3/83 [00:00<00:03, 24.67it/s]"
     ]
    },
    {
     "name": "stdout",
     "output_type": "stream",
     "text": [
      "('Epoca 90.', 'lr:', 1.3331598e-06)\n"
     ]
    },
    {
     "name": "stderr",
     "output_type": "stream",
     "text": [
      "100%|██████████| 83/83 [00:03<00:00, 25.12it/s]\n",
      "  1%|          | 1/83 [00:00<00:09,  8.33it/s]"
     ]
    },
    {
     "name": "stdout",
     "output_type": "stream",
     "text": [
      "('Epoca 91.', 'lr:', 1.3331598e-06)\n"
     ]
    },
    {
     "name": "stderr",
     "output_type": "stream",
     "text": [
      " 33%|███▎      | 27/83 [00:01<00:02, 23.96it/s]\n",
      "  0%|          | 0/12 [00:00<?, ?it/s]\u001b[A"
     ]
    },
    {
     "name": "stdout",
     "output_type": "stream",
     "text": [
      "\tsaving model 7500...\n",
      "\tdone\n",
      "Evaluating\n"
     ]
    },
    {
     "name": "stderr",
     "output_type": "stream",
     "text": [
      "\n",
      " 67%|######6   | 8/12 [00:00<00:00, 79.32it/s]\u001b[A\n",
      " 40%|███▉      | 33/83 [00:01<00:03, 15.65it/s]\u001b[A"
     ]
    },
    {
     "name": "stdout",
     "output_type": "stream",
     "text": [
      "{'ade': 0.38735238, 'fde': 0.8386311}\n",
      "\t last loss:0.000414797, eval on validation:['ade: 0.38735238', 'fde: 0.8386311'], (best ade:0.38642737 at step 6900) \n"
     ]
    },
    {
     "name": "stderr",
     "output_type": "stream",
     "text": [
      "100%|██████████| 83/83 [00:03<00:00, 22.57it/s]\n",
      "  4%|▎         | 3/83 [00:00<00:03, 26.08it/s]"
     ]
    },
    {
     "name": "stdout",
     "output_type": "stream",
     "text": [
      "('Epoca 92.', 'lr:', 1.1331858e-06)\n"
     ]
    },
    {
     "name": "stderr",
     "output_type": "stream",
     "text": [
      "100%|██████████| 83/83 [00:03<00:00, 24.25it/s]\n",
      "  1%|          | 1/83 [00:00<00:08,  9.24it/s]"
     ]
    },
    {
     "name": "stdout",
     "output_type": "stream",
     "text": [
      "('Epoca 93.', 'lr:', 1.1331858e-06)\n"
     ]
    },
    {
     "name": "stderr",
     "output_type": "stream",
     "text": [
      "100%|██████████| 83/83 [00:03<00:00, 25.40it/s]\n",
      "  1%|          | 1/83 [00:00<00:08,  9.26it/s]"
     ]
    },
    {
     "name": "stdout",
     "output_type": "stream",
     "text": [
      "('Epoca 94.', 'lr:', 9.63208e-07)\n"
     ]
    },
    {
     "name": "stderr",
     "output_type": "stream",
     "text": [
      " 95%|█████████▌| 79/83 [00:03<00:00, 25.23it/s]"
     ]
    },
    {
     "name": "stdout",
     "output_type": "stream",
     "text": [
      "\tsaving model 7800...\n"
     ]
    },
    {
     "name": "stderr",
     "output_type": "stream",
     "text": [
      "\n",
      "  0%|          | 0/12 [00:00<?, ?it/s]\u001b[A\n",
      " 75%|#######5  | 9/12 [00:00<00:00, 84.53it/s]\u001b[A\n",
      "100%|##########| 12/12 [00:00<00:00, 80.72it/s]\u001b[A"
     ]
    },
    {
     "name": "stdout",
     "output_type": "stream",
     "text": [
      "\tdone\n",
      "Evaluating\n",
      "{'ade': 0.3866541, 'fde': 0.83642113}\n",
      "\t last loss:0.000389604, eval on validation:['ade: 0.3866541', 'fde: 0.83642113'], (best ade:0.38642737 at step 6900) \n"
     ]
    },
    {
     "name": "stderr",
     "output_type": "stream",
     "text": [
      "100%|██████████| 83/83 [00:03<00:00, 21.85it/s]\n",
      "  4%|▎         | 3/83 [00:00<00:03, 24.80it/s]"
     ]
    },
    {
     "name": "stdout",
     "output_type": "stream",
     "text": [
      "('Epoca 95.', 'lr:', 9.63208e-07)\n"
     ]
    },
    {
     "name": "stderr",
     "output_type": "stream",
     "text": [
      "100%|██████████| 83/83 [00:03<00:00, 24.26it/s]\n",
      "  4%|▎         | 3/83 [00:00<00:03, 25.99it/s]"
     ]
    },
    {
     "name": "stdout",
     "output_type": "stream",
     "text": [
      "('Epoca 96.', 'lr:', 8.187269e-07)\n"
     ]
    },
    {
     "name": "stderr",
     "output_type": "stream",
     "text": [
      "100%|██████████| 83/83 [00:03<00:00, 25.79it/s]\n",
      "  4%|▎         | 3/83 [00:00<00:03, 25.27it/s]"
     ]
    },
    {
     "name": "stdout",
     "output_type": "stream",
     "text": [
      "('Epoca 97.', 'lr:', 8.187269e-07)\n"
     ]
    },
    {
     "name": "stderr",
     "output_type": "stream",
     "text": [
      "100%|██████████| 83/83 [00:03<00:00, 24.64it/s]\n",
      "  4%|▎         | 3/83 [00:00<00:03, 25.93it/s]"
     ]
    },
    {
     "name": "stdout",
     "output_type": "stream",
     "text": [
      "('Epoca 98.', 'lr:', 6.9591783e-07)\n"
     ]
    },
    {
     "name": "stderr",
     "output_type": "stream",
     "text": [
      " 58%|█████▊    | 48/83 [00:01<00:01, 27.04it/s]\n",
      "  0%|          | 0/12 [00:00<?, ?it/s]\u001b[A"
     ]
    },
    {
     "name": "stdout",
     "output_type": "stream",
     "text": [
      "\tsaving model 8100...\n",
      "\tdone\n",
      "Evaluating\n"
     ]
    },
    {
     "name": "stderr",
     "output_type": "stream",
     "text": [
      "\n",
      " 83%|########3 | 10/12 [00:00<00:00, 92.30it/s]\u001b[A\n",
      " 61%|██████▏   | 51/83 [00:02<00:02, 14.25it/s]\u001b[A"
     ]
    },
    {
     "name": "stdout",
     "output_type": "stream",
     "text": [
      "{'ade': 0.38660857, 'fde': 0.8362706}\n",
      "\t last loss:0.000539880, eval on validation:['ade: 0.38660857', 'fde: 0.8362706'], (best ade:0.38642737 at step 6900) \n"
     ]
    },
    {
     "name": "stderr",
     "output_type": "stream",
     "text": [
      "100%|██████████| 83/83 [00:03<00:00, 23.31it/s]\n",
      "  1%|          | 1/83 [00:00<00:08,  9.21it/s]"
     ]
    },
    {
     "name": "stdout",
     "output_type": "stream",
     "text": [
      "('Epoca 99.', 'lr:', 6.9591783e-07)\n"
     ]
    },
    {
     "name": "stderr",
     "output_type": "stream",
     "text": [
      "100%|██████████| 83/83 [00:03<00:00, 25.36it/s]\n",
      "  4%|▎         | 3/83 [00:00<00:03, 24.07it/s]"
     ]
    },
    {
     "name": "stdout",
     "output_type": "stream",
     "text": [
      "('Epoca 100.', 'lr:', 5.915302e-07)\n"
     ]
    },
    {
     "name": "stderr",
     "output_type": "stream",
     "text": [
      "100%|██████████| 83/83 [00:03<00:00, 26.19it/s]\n"
     ]
    },
    {
     "name": "stdout",
     "output_type": "stream",
     "text": [
      "best eval on val ade: 0.38642737 at 6900 step y fde es 0.8353145 \n"
     ]
    }
   ],
   "source": [
    "import os \n",
    "from tqdm import tqdm\n",
    "import tensorflow as tf\n",
    "import math\n",
    "\n",
    "tf.reset_default_graph()\n",
    "\n",
    "arguments = parameters1(add_kp = False, add_social = True,train_num_examples=len(data1['obs_traj']))\n",
    "model = model.Model(arguments)\n",
    "\n",
    "train_data = batches_data.Dataset(data1,arguments)\n",
    "val_data = batches_data.Dataset(data3,arguments)\n",
    "\n",
    "saver = tf.train.Saver(max_to_keep = 2)\n",
    "bestsaver = tf.train.Saver(max_to_keep = 2)\n",
    "\n",
    "\n",
    "trainer = entrenamientoevaluacion.Trainer(model,arguments)\n",
    "tester = entrenamientoevaluacion.Tester(model, arguments)\n",
    "\n",
    "#inicializamos las variables globales\n",
    "init = tf.global_variables_initializer()\n",
    "sess = tf.Session()\n",
    "sess.run(init)\n",
    "\n",
    "increment_global_step_op = tf.assign(model.global_step, model.global_step+1)\n",
    "\n",
    "val_perf = []\n",
    "loss = -1\n",
    "metric = 'ade'\n",
    "\n",
    "best = {metric:999999, 'fde':0, 'step':-1}\n",
    "is_start = True\n",
    "\n",
    "num_steps = int(math.ceil(train_data.num_examples/float(arguments.batch_size)))\n",
    "loss_list = []\n",
    "print(num_steps)\n",
    "\n",
    "for i in range(arguments.num_epochs):\n",
    "    print('Epoca {0}.' .format(i+1), 'lr:', sess.run(trainer.get_lr()))\n",
    "    \n",
    "    #For de batches\n",
    "    for idx, batch in tqdm(train_data.get_batches(arguments.batch_size,num_steps = num_steps),total=num_steps):\n",
    "        \n",
    "        sess.run(increment_global_step_op)\n",
    "        global_step = sess.run(model.global_step)\n",
    "\n",
    "        #Evaluamos el entrenamiento\n",
    "        if((global_step%arguments.validate==0) or (arguments.load_best and is_start)):\n",
    "            tqdm.write(\"\\tsaving model %s...\" % global_step)\n",
    "            checkpoint_path_model = os.path.join('sin_KP_NoN_Zara01_social12', 'model.ckpt')\n",
    "            saver.save(sess,checkpoint_path_model , global_step = global_step)\n",
    "            tqdm.write(\"\\tdone\")\n",
    "            \n",
    "            print('Evaluating')\n",
    "            results = evaluate(val_data, tester,sess,arguments)\n",
    "            print(results)\n",
    "           \n",
    "            tqdm.write((\"\\t last loss:%.9f, eval on validation:%s,\"\n",
    "                    \" (best %s:%s at step %s) \") % (loss,[\"%s: %s\" % (k, results[k]) for k in sorted(results.keys())], metric,best[metric], best[\"step\"]))\n",
    "            if results[\"ade\"]< best[metric]:\n",
    "                best[metric] = results[\"ade\"]\n",
    "                best[\"fde\"] =results[\"fde\"]\n",
    "                best[\"step\"] = global_step\n",
    "                \n",
    "                tqdm.write(\"\\t saving best model...\")\n",
    "                checkpoint_path_model_best = os.path.join('sin_KP_NoN_Zara01_social-best12', 'model_best.ckpt')\n",
    "                bestsaver.save(sess,checkpoint_path_model_best,global_step = global_step)\n",
    "                tqdm.write(\"\\t done.\")\n",
    "                finalperf = results\n",
    "                val_perf.append((loss, results))\n",
    "            is_start = False\n",
    "        loss, train_op = trainer.step(sess, batch)\n",
    "        loss_list.append(loss)\n",
    "    \n",
    "if((global_step % arguments.validate)!=0):\n",
    "  checkpoint_path_model = os.path.join('sin_KP_NoN_Zara01_social12', 'model.ckpt')\n",
    "  saver.save(sess,checkpoint_path_model , global_step = global_step)\n",
    "\n",
    "print(\"best eval on val %s: %s at %s step y fde es %s \" % (metric, best[metric], best[\"step\"],best[\"fde\"]))\n",
    "       \n"
   ]
  },
  {
   "cell_type": "code",
   "execution_count": 15,
   "metadata": {},
   "outputs": [
    {
     "data": {
      "image/png": "[encoded data removed]",
      "text/plain": [
       "<Figure size 432x288 with 1 Axes>"
      ]
     },
     "metadata": {
      "needs_background": "light"
     },
     "output_type": "display_data"
    }
   ],
   "source": [
    "from matplotlib import pyplot as plt\n",
    "plt.plot(loss_list)\n",
    "plt.show()"
   ]
  },
  {
   "cell_type": "code",
   "execution_count": 16,
   "metadata": {},
   "outputs": [
    {
     "data": {
      "text/plain": [
       "'sin_KP_NoN_Zara01_social12_F/model.ckpt-8300'"
      ]
     },
     "execution_count": 16,
     "metadata": {},
     "output_type": "execute_result"
    }
   ],
   "source": [
    "# Guardamos el ultimo modelo\n",
    "checkpoint_path_model = os.path.join('sin_KP_NoN_Zara01_social12_F', 'model.ckpt')\n",
    "saver.save(sess,checkpoint_path_model , global_step = global_step)"
   ]
  },
  {
   "cell_type": "markdown",
   "metadata": {},
   "source": [
    "# Restauramos los modelos"
   ]
  },
  {
   "cell_type": "code",
   "execution_count": 17,
   "metadata": {},
   "outputs": [
    {
     "name": "stderr",
     "output_type": "stream",
     "text": [
      "W1227 08:27:23.855240 139680819443456 deprecation.py:323] From /home/andrea/anaconda2/lib/python2.7/site-packages/tensorflow/python/training/saver.py:1276: checkpoint_exists (from tensorflow.python.training.checkpoint_management) is deprecated and will be removed in a future version.\n",
      "Instructions for updating:\n",
      "Use standard file APIs to check for files with this prefix.\n",
      " 33%|###3      | 8/24 [00:00<00:00, 79.01it/s]"
     ]
    },
    {
     "name": "stdout",
     "output_type": "stream",
     "text": [
      "Evaluating\n"
     ]
    },
    {
     "name": "stderr",
     "output_type": "stream",
     "text": [
      "100%|##########| 24/24 [00:00<00:00, 76.13it/s]"
     ]
    },
    {
     "name": "stdout",
     "output_type": "stream",
     "text": [
      "{'ade': 0.3761161, 'fde': 0.8078269}\n"
     ]
    },
    {
     "name": "stderr",
     "output_type": "stream",
     "text": [
      "\n"
     ]
    }
   ],
   "source": [
    "#Ultimo Modelo\n",
    "path_model = 'sin_KP_NoN_Zara01_social12_F/model.ckpt-8300'\n",
    "saver.restore(sess=sess, save_path=path_model)\n",
    "\n",
    "\n",
    "test_data = batches_data.Dataset(data2, arguments)\n",
    "print('Evaluating')\n",
    "results = evaluate(test_data, tester,sess,arguments)\n",
    "print(results)"
   ]
  },
  {
   "cell_type": "code",
   "execution_count": 19,
   "metadata": {},
   "outputs": [
    {
     "name": "stderr",
     "output_type": "stream",
     "text": [
      " 29%|##9       | 7/24 [00:00<00:00, 64.34it/s]"
     ]
    },
    {
     "name": "stdout",
     "output_type": "stream",
     "text": [
      "Evaluating\n"
     ]
    },
    {
     "name": "stderr",
     "output_type": "stream",
     "text": [
      "100%|##########| 24/24 [00:00<00:00, 66.46it/s]"
     ]
    },
    {
     "name": "stdout",
     "output_type": "stream",
     "text": [
      "{'ade': 0.3761161, 'fde': 0.8078269}\n"
     ]
    },
    {
     "name": "stderr",
     "output_type": "stream",
     "text": [
      "\n"
     ]
    }
   ],
   "source": [
    "#Modelo12\n",
    "path_model = 'sin_KP_NoN_Zara01_social12/model.ckpt-8300'\n",
    "saver.restore(sess=sess, save_path=path_model)\n",
    "\n",
    "\n",
    "test_data = batches_data.Dataset(data2, arguments)\n",
    "print('Evaluating')\n",
    "results = evaluate(test_data, tester,sess,arguments)\n",
    "print(results)"
   ]
  },
  {
   "cell_type": "code",
   "execution_count": 20,
   "metadata": {},
   "outputs": [
    {
     "name": "stderr",
     "output_type": "stream",
     "text": [
      " 29%|##9       | 7/24 [00:00<00:00, 68.23it/s]"
     ]
    },
    {
     "name": "stdout",
     "output_type": "stream",
     "text": [
      "Evaluating\n"
     ]
    },
    {
     "name": "stderr",
     "output_type": "stream",
     "text": [
      "100%|##########| 24/24 [00:00<00:00, 76.60it/s]"
     ]
    },
    {
     "name": "stdout",
     "output_type": "stream",
     "text": [
      "{'ade': 0.37608832, 'fde': 0.8078438}\n"
     ]
    },
    {
     "name": "stderr",
     "output_type": "stream",
     "text": [
      "\n"
     ]
    }
   ],
   "source": [
    "# Mejor Modelo\n",
    "path_model = 'sin_KP_NoN_Zara01_social-best12/model_best.ckpt-6900'\n",
    "saver.restore(sess=sess, save_path=path_model)\n",
    "\n",
    "test_data = batches_data.Dataset(data2, arguments)\n",
    "print('Evaluating')\n",
    "results = evaluate(test_data, tester,sess,arguments)\n",
    "print(results)"
   ]
  },
  {
   "cell_type": "code",
   "execution_count": null,
   "metadata": {},
   "outputs": [],
   "source": []
  }
 ],
 "metadata": {
  "kernelspec": {
   "display_name": "Python 2",
   "language": "python",
   "name": "python2"
  },
  "language_info": {
   "codemirror_mode": {
    "name": "ipython",
    "version": 3
   },
   "file_extension": ".py",
   "mimetype": "text/x-python",
   "name": "python",
   "nbconvert_exporter": "python",
   "pygments_lexer": "ipython3",
   "version": "3.6.9"
  }
 },
 "nbformat": 4,
 "nbformat_minor": 2
}
