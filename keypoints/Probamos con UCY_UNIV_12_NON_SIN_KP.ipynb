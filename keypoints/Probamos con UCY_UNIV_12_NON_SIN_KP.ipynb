{
 "cells": [
  {
   "cell_type": "code",
   "execution_count": null,
   "metadata": {},
   "outputs": [],
   "source": [
    "\"\"\"\n",
    "En este modelo se entrena con los cuatro dataset restantes de UCY/ETH en marco mundo,\n",
    "agregandole el flujo optico\n",
    "\"\"\""
   ]
  },
  {
   "cell_type": "code",
   "execution_count": 1,
   "metadata": {},
   "outputs": [],
   "source": [
    "import sys\n",
    "#sys.path.append('/home/andrea/Dropbox/CIMAT/TESIS/lstmsss/keypoints/partes')\n",
    "sys.path.append('../keypoints/partes')\n",
    "import numpy as np\n",
    "#from process_file import process_file_modif\n",
    "#from process_file import process_file_modif_varios\n",
    "from process_file import datos_subprocesados_varios\n",
    "import batches_data\n",
    "import model\n",
    "\n",
    "import tensorflow as tf \n",
    "tf.reset_default_graph()\n",
    "\n",
    "import entrenamientoevaluacion\n",
    "from entrenamientoevaluacion import evaluate\n",
    "from interaccion_no_normalizada import batch_vecinos"
   ]
  },
  {
   "cell_type": "code",
   "execution_count": 2,
   "metadata": {},
   "outputs": [],
   "source": [
    "class parameters:\n",
    "    def __init__(self):\n",
    "        self.obs_len = 8\n",
    "        self.pred_len = 12\n",
    "        self.add_social = False\n",
    "        self.kp_num = 18\n",
    "        self.add_kp = False\n",
    "        #self.directory_flujo='/home/andrea/Dropbox/CIMAT/TESIS/lstmsss/keypoints'\n",
    "        self.directory_flujo='../keypoints'"
   ]
  },
  {
   "cell_type": "code",
   "execution_count": 3,
   "metadata": {},
   "outputs": [
    {
     "name": "stdout",
     "output_type": "stream",
     "text": [
      "../data1/eth/univ/mundo/mun_pos.csv\n",
      "339\n",
      "../data1/eth/hotel/mundo/mun_pos.csv\n",
      "913\n",
      "../data1/ucy/zara/zara01/mundo/mun_pos.csv\n",
      "2356\n",
      "../data1/ucy/zara/zara02/mundo/mun_pos.csv\n",
      "5910\n",
      "(9518, 8, 64)\n",
      "../data1/ucy/univ/mundo/mun_pos.csv\n",
      "10039\n",
      "(10039, 8, 64)\n"
     ]
    }
   ],
   "source": [
    "# Cargamos los argumentos\n",
    "arguments = parameters()\n",
    "\n",
    "# List of data directories where raw data resides\n",
    "datasets_entrena_vali = [0,1,2,3]\n",
    "datasets_prueba = [4]\n",
    "\n",
    "data_entrena_vali = datos_subprocesados_varios(datasets_entrena_vali, arguments, ',')\n",
    "data_prueba = datos_subprocesados_varios(datasets_prueba, arguments, ',')\n",
    "#data_ucyuniv = process_file_modif_varios(ucyuniv_pix_path, arguments, ',')"
   ]
  },
  {
   "cell_type": "markdown",
   "metadata": {},
   "source": [
    "# Dividimos los datos"
   ]
  },
  {
   "cell_type": "code",
   "execution_count": 4,
   "metadata": {},
   "outputs": [
    {
     "name": "stdout",
     "output_type": "stream",
     "text": [
      "data_train: 8756\n",
      "data_test: 10039\n",
      "data_val: 762\n"
     ]
    },
    {
     "name": "stderr",
     "output_type": "stream",
     "text": [
      "/home/andrea/anaconda2/lib/python2.7/site-packages/ipykernel_launcher.py:26: FutureWarning: Using a non-tuple sequence for multidimensional indexing is deprecated; use `arr[tuple(seq)]` instead of `arr[seq]`. In the future this will be interpreted as an array index, `arr[np.array(seq)]`, which will result either in an error or a different result.\n",
      "/home/andrea/anaconda2/lib/python2.7/site-packages/ipykernel_launcher.py:39: FutureWarning: Using a non-tuple sequence for multidimensional indexing is deprecated; use `arr[tuple(seq)]` instead of `arr[seq]`. In the future this will be interpreted as an array index, `arr[np.array(seq)]`, which will result either in an error or a different result.\n"
     ]
    }
   ],
   "source": [
    "#se fija la semilaa\n",
    "import random\n",
    "random.seed(0)\n",
    "\n",
    "# Muestreamos aleatoriamente para separar datos de entrenamiento, validacion y prueba\n",
    "prob = 0.92\n",
    "# La cantidad total de listas de tam 8 \n",
    "ndata = len(data_entrena_vali[list(data_entrena_vali.keys())[2]])\n",
    "idx = random.sample(range(ndata), ndata)\n",
    "long1 = int(ndata*prob)\n",
    "long2 = int(ndata-long1)\n",
    "\n",
    "\n",
    "idx_train = idx[0:long1]\n",
    "idx_val = idx[long1:]\n",
    "\n",
    "\n",
    "# conjunto de entrenamiento\n",
    "data1 = {\n",
    "     \"obs_traj\": data_entrena_vali[\"obs_traj\"][idx_train],\n",
    "     \"obs_traj_rel\": data_entrena_vali[\"obs_traj_rel\"][idx_train],\n",
    "    \n",
    "     \"pred_traj\": data_entrena_vali[\"pred_traj\"][idx_train],\n",
    "     \"pred_traj_rel\": data_entrena_vali[\"pred_traj_rel\"][idx_train],\n",
    "    \n",
    "     \"key_idx\": data_entrena_vali[\"key_idx\"][[idx_train]],\n",
    "     \"obs_flujo\" : data_entrena_vali[\"obs_flujo\"][idx_train],\n",
    "     #\"pred_kp\": data_pets[\"pred_kp\"][idx_train],\n",
    "     #\"obs_person\": data_pets[\"obs_person\"][idx_train],\n",
    "}\n",
    "\n",
    "\n",
    "# conjunto de validacion\n",
    "data3 ={\n",
    "     \"obs_traj\": data_entrena_vali[\"obs_traj\"][idx_val],\n",
    "     \"obs_traj_rel\": data_entrena_vali[\"obs_traj_rel\"][idx_val],\n",
    "     \"pred_traj\": data_entrena_vali[\"pred_traj\"][idx_val],\n",
    "     \"pred_traj_rel\": data_entrena_vali[\"pred_traj_rel\"][idx_val],\n",
    "     \"key_idx\": data_entrena_vali[\"key_idx\"][[idx_val]],\n",
    "     \"obs_flujo\" : data_entrena_vali[\"obs_flujo\"][idx_val],\n",
    "}\n",
    "\n",
    "\n",
    "#if arguments.add_kp:\n",
    "#  print(data3['obs_person_rel'])\n",
    "\n",
    "print(\"data_train: \"+ str(len(data1[list(data1.keys())[0]])))\n",
    "print(\"data_test: \"+ str(len(data_prueba[list(data_prueba .keys())[0]])))\n",
    "print(\"data_val: \"+ str(len(data3[list(data3.keys())[0]])))\n",
    "#print(\"data4: \"+ str(len(data4[list(data4.keys())[0]])))\n"
   ]
  },
  {
   "cell_type": "markdown",
   "metadata": {},
   "source": [
    "# Guardamos los datos divididos"
   ]
  },
  {
   "cell_type": "code",
   "execution_count": 5,
   "metadata": {},
   "outputs": [],
   "source": [
    "import pickle\n",
    "\n",
    "#conjunto de entrenamiento\n",
    "pickle_out = open(\"data1_UCYUNIV_12.pickle\",\"wb\")\n",
    "pickle.dump(data1, pickle_out, protocol=2)\n",
    "pickle_out.close()\n",
    "\n",
    "#conjunto de prueba\n",
    "pickle_out = open(\"data2_UCYUNIV_12.pickle\",\"wb\")\n",
    "pickle.dump(data_prueba, pickle_out, protocol=2)\n",
    "pickle_out.close()\n",
    "\n",
    "#conjunto de validacion\n",
    "pickle_out = open(\"data3_UCYUNIV_12.pickle\",\"wb\")\n",
    "pickle.dump(data3, pickle_out, protocol=2)\n",
    "pickle_out.close()"
   ]
  },
  {
   "cell_type": "markdown",
   "metadata": {},
   "source": [
    "# Parametros para el modelo "
   ]
  },
  {
   "cell_type": "code",
   "execution_count": 6,
   "metadata": {},
   "outputs": [],
   "source": [
    "class parameters1:\n",
    "    def __init__(self, add_kp = None, add_social=None, train_num_examples=None):\n",
    "        # -----------------\n",
    "        # Similar a como se procesaron los datos\n",
    "        self.obs_len = 8\n",
    "        self.pred_len = 12\n",
    "        if add_kp is None:\n",
    "            print('Parameter add kpp missing')\n",
    "            return\n",
    "        if train_num_examples is None:\n",
    "            print('El parametro train_examples fue olvidado')\n",
    "            return\n",
    "        if add_social is None:\n",
    "            print('Parameter add social missing')\n",
    "            return\n",
    "        \n",
    "        self.add_kp = add_kp\n",
    "        self.train_num_examples = train_num_examples\n",
    "        self.add_social = add_social\n",
    "        \n",
    "        self.kp_num = 18\n",
    "        self.kp_size = 18\n",
    "        #self.maxNumPed = 8\n",
    "        #self.grid_size = 4\n",
    "        #self.neighborhood_size = 32\n",
    "        #self.dimensions = [768,576]\n",
    "        #self.limites=[-15.88,11.56,-19.09,5.99]\n",
    "        #self.bound=[0.7,0.5]\n",
    "        # ------------------\n",
    "        self.num_epochs = 100\n",
    "        self.batch_size = 20 # batch size\n",
    "        self.validate = 300\n",
    "        self.P = 2 # dimensión\n",
    "        self.enc_hidden_size = 128 # el nombre lo dice\n",
    "        self.dec_hidden_size = 128\n",
    "        self.emb_size = 64\n",
    "        self.keep_prob = 0.7 # dropout\n",
    "        \n",
    "        self.min_ped = 1\n",
    "        self.seq_len = self.obs_len + self.pred_len\n",
    "        self.reverse_xy = False\n",
    "        \n",
    "        self.activation_func = tf.nn.tanh\n",
    "        self.activation_func1 = tf.nn.relu\n",
    "        self.is_train = True\n",
    "        self.is_test = False\n",
    "        self.multi_decoder = False\n",
    "        self.modelname = 'gphuctl'\n",
    "        \n",
    "        self.init_lr = 0.002 # 0.01\n",
    "        self.learning_rate_decay = 0.85\n",
    "        self.num_epoch_per_decay = 2.0\n",
    "        self.optimizer = 'adam'\n",
    "        self.emb_lr = 1.0\n",
    "        #self.clip_gradient_norm = 10.0\n",
    "        #Para cuando entreno y quiero guardar el mejor modelo\n",
    "        self.load_best = True"
   ]
  },
  {
   "cell_type": "markdown",
   "metadata": {},
   "source": [
    "# Se entrena el modelo"
   ]
  },
  {
   "cell_type": "code",
   "execution_count": 7,
   "metadata": {},
   "outputs": [
    {
     "name": "stderr",
     "output_type": "stream",
     "text": [
      "WARNING: Logging before flag parsing goes to stderr.\n",
      "W0105 14:18:34.815006 139949982123776 deprecation_wrapper.py:119] From /home/andrea/Dropbox/CIMAT/TESIS/lstmsss/keypoints/partes/model.py:13: The name tf.get_variable is deprecated. Please use tf.compat.v1.get_variable instead.\n",
      "\n",
      "W0105 14:18:34.846173 139949982123776 deprecation_wrapper.py:119] From /home/andrea/Dropbox/CIMAT/TESIS/lstmsss/keypoints/partes/model.py:31: The name tf.placeholder is deprecated. Please use tf.compat.v1.placeholder instead.\n",
      "\n",
      "W0105 14:18:34.860140 139949982123776 deprecation.py:323] From /home/andrea/Dropbox/CIMAT/TESIS/lstmsss/keypoints/partes/model.py:70: __init__ (from tensorflow.python.ops.rnn_cell_impl) is deprecated and will be removed in a future version.\n",
      "Instructions for updating:\n",
      "This class is equivalent as tf.keras.layers.LSTMCell, and will be replaced by that in Tensorflow 2.0.\n",
      "W0105 14:18:34.861871 139949982123776 deprecation_wrapper.py:119] From /home/andrea/Dropbox/CIMAT/TESIS/lstmsss/keypoints/partes/model.py:72: The name tf.nn.rnn_cell.DropoutWrapper is deprecated. Please use tf.compat.v1.nn.rnn_cell.DropoutWrapper instead.\n",
      "\n",
      "W0105 14:18:34.874159 139949982123776 deprecation_wrapper.py:119] From /home/andrea/Dropbox/CIMAT/TESIS/lstmsss/keypoints/partes/model.py:103: The name tf.variable_scope is deprecated. Please use tf.compat.v1.variable_scope instead.\n",
      "\n",
      "W0105 14:18:34.883857 139949982123776 deprecation_wrapper.py:119] From /home/andrea/Dropbox/CIMAT/TESIS/lstmsss/keypoints/partes/model.py:476: The name tf.AUTO_REUSE is deprecated. Please use tf.compat.v1.AUTO_REUSE instead.\n",
      "\n",
      "W0105 14:18:34.908689 139949982123776 deprecation_wrapper.py:119] From /home/andrea/Dropbox/CIMAT/TESIS/lstmsss/keypoints/partes/model.py:495: The name tf.truncated_normal is deprecated. Please use tf.random.truncated_normal instead.\n",
      "\n",
      "W0105 14:18:34.933743 139949982123776 deprecation.py:323] From /home/andrea/Dropbox/CIMAT/TESIS/lstmsss/keypoints/partes/model.py:116: dynamic_rnn (from tensorflow.python.ops.rnn) is deprecated and will be removed in a future version.\n",
      "Instructions for updating:\n",
      "Please use `keras.layers.RNN(cell)`, which is equivalent to this API\n",
      "W0105 14:18:35.035836 139949982123776 deprecation.py:506] From /home/andrea/anaconda2/lib/python2.7/site-packages/tensorflow/python/ops/init_ops.py:1251: calling __init__ (from tensorflow.python.ops.init_ops) with dtype is deprecated and will be removed in a future version.\n",
      "Instructions for updating:\n",
      "Call initializer instance with the dtype argument instead of passing it to the constructor\n",
      "W0105 14:18:35.052509 139949982123776 deprecation.py:506] From /home/andrea/anaconda2/lib/python2.7/site-packages/tensorflow/python/ops/rnn_cell_impl.py:961: calling __init__ (from tensorflow.python.ops.init_ops) with dtype is deprecated and will be removed in a future version.\n",
      "Instructions for updating:\n",
      "Call initializer instance with the dtype argument instead of passing it to the constructor\n",
      "W0105 14:18:35.689882 139949982123776 deprecation.py:323] From /home/andrea/anaconda2/lib/python2.7/site-packages/tensorflow/python/ops/rnn.py:244: where (from tensorflow.python.ops.array_ops) is deprecated and will be removed in a future version.\n",
      "Instructions for updating:\n",
      "Use tf.where in 2.0, which has the same broadcast rule as np.where\n",
      "W0105 14:18:35.874188 139949982123776 deprecation_wrapper.py:119] From /home/andrea/Dropbox/CIMAT/TESIS/lstmsss/keypoints/partes/model.py:554: The name tf.nn.rnn_cell.LSTMStateTuple is deprecated. Please use tf.compat.v1.nn.rnn_cell.LSTMStateTuple instead.\n",
      "\n",
      "W0105 14:18:35.902841 139949982123776 deprecation_wrapper.py:119] From /home/andrea/Dropbox/CIMAT/TESIS/lstmsss/keypoints/partes/model.py:272: The name tf.nn.raw_rnn is deprecated. Please use tf.compat.v1.nn.raw_rnn instead.\n",
      "\n",
      "W0105 14:18:36.262370 139949982123776 deprecation_wrapper.py:119] From /home/andrea/Dropbox/CIMAT/TESIS/lstmsss/keypoints/partes/entrenamientoevaluacion.py:18: The name tf.train.exponential_decay is deprecated. Please use tf.compat.v1.train.exponential_decay instead.\n",
      "\n",
      "W0105 14:18:36.269388 139949982123776 deprecation_wrapper.py:119] From /home/andrea/Dropbox/CIMAT/TESIS/lstmsss/keypoints/partes/entrenamientoevaluacion.py:33: The name tf.train.AdamOptimizer is deprecated. Please use tf.compat.v1.train.AdamOptimizer instead.\n",
      "\n",
      "  0%|          | 0/438 [00:00<?, ?it/s]"
     ]
    },
    {
     "name": "stdout",
     "output_type": "stream",
     "text": [
      "438\n",
      "('Epoca 1.', 'lr:', 0.002)\n",
      "\tsaving model 1...\n"
     ]
    },
    {
     "name": "stderr",
     "output_type": "stream",
     "text": [
      "\n",
      "  0%|          | 0/39 [00:00<?, ?it/s]\u001b[A"
     ]
    },
    {
     "name": "stdout",
     "output_type": "stream",
     "text": [
      "\tdone\n",
      "Evaluating\n"
     ]
    },
    {
     "name": "stderr",
     "output_type": "stream",
     "text": [
      "\n",
      "  3%|2         | 1/39 [00:00<00:12,  2.98it/s]\u001b[A\n",
      " 13%|#2        | 5/39 [00:00<00:08,  4.09it/s]\u001b[A\n",
      " 23%|##3       | 9/39 [00:00<00:05,  5.54it/s]\u001b[A\n",
      " 36%|###5      | 14/39 [00:00<00:03,  7.55it/s]\u001b[A\n",
      " 51%|#####1    | 20/39 [00:00<00:01, 10.22it/s]\u001b[A\n",
      " 72%|#######1  | 28/39 [00:00<00:00, 13.80it/s]\u001b[A\n",
      " 92%|#########2| 36/39 [00:01<00:00, 18.26it/s]\u001b[A\n",
      "100%|##########| 39/39 [00:01<00:00, 36.92it/s]\u001b[A"
     ]
    },
    {
     "name": "stdout",
     "output_type": "stream",
     "text": [
      "{'ade': 1.7483271, 'fde': 3.207749}\n",
      "\t last loss:-1.000000000, eval on validation:['ade: 1.7483271', 'fde: 3.207749'], (best ade:999999 at step -1) \n",
      "\t saving best model...\n",
      "\t done.\n"
     ]
    },
    {
     "name": "stderr",
     "output_type": "stream",
     "text": [
      " 68%|██████▊   | 299/438 [00:14<00:05, 25.83it/s]\n",
      "  0%|          | 0/39 [00:00<?, ?it/s]\u001b[A"
     ]
    },
    {
     "name": "stdout",
     "output_type": "stream",
     "text": [
      "\tsaving model 300...\n",
      "\tdone\n",
      "Evaluating\n"
     ]
    },
    {
     "name": "stderr",
     "output_type": "stream",
     "text": [
      "\n",
      " 15%|#5        | 6/39 [00:00<00:00, 56.78it/s]\u001b[A\n",
      " 33%|###3      | 13/39 [00:00<00:00, 59.09it/s]\u001b[A\n",
      " 54%|#####3    | 21/39 [00:00<00:00, 63.36it/s]\u001b[A\n",
      " 74%|#######4  | 29/39 [00:00<00:00, 66.15it/s]\u001b[A\n",
      " 90%|########9 | 35/39 [00:00<00:00, 61.43it/s]\u001b[A\n",
      "100%|##########| 39/39 [00:00<00:00, 63.50it/s]\u001b[A"
     ]
    },
    {
     "name": "stdout",
     "output_type": "stream",
     "text": [
      "{'ade': 0.4229086, 'fde': 0.90034777}\n",
      "\t last loss:0.000531877, eval on validation:['ade: 0.4229086', 'fde: 0.90034777'], (best ade:1.7483271 at step 1) \n",
      "\t saving best model...\n",
      "\t done.\n"
     ]
    },
    {
     "name": "stderr",
     "output_type": "stream",
     "text": [
      "100%|██████████| 438/438 [00:21<00:00, 20.45it/s]\n",
      "  1%|          | 3/438 [00:00<00:17, 24.61it/s]"
     ]
    },
    {
     "name": "stdout",
     "output_type": "stream",
     "text": [
      "('Epoca 2.', 'lr:', 0.002)\n"
     ]
    },
    {
     "name": "stderr",
     "output_type": "stream",
     "text": [
      " 36%|███▋      | 159/438 [00:06<00:10, 25.39it/s]W0105 14:19:06.094558 139949982123776 deprecation.py:323] From /home/andrea/anaconda2/lib/python2.7/site-packages/tensorflow/python/training/saver.py:960: remove_checkpoint (from tensorflow.python.training.checkpoint_management) is deprecated and will be removed in a future version.\n",
      "Instructions for updating:\n",
      "Use standard file APIs to delete files with this prefix.\n",
      "\n",
      "  0%|          | 0/39 [00:00<?, ?it/s]\u001b[A"
     ]
    },
    {
     "name": "stdout",
     "output_type": "stream",
     "text": [
      "\tsaving model 600...\n",
      "\tdone\n",
      "Evaluating\n"
     ]
    },
    {
     "name": "stderr",
     "output_type": "stream",
     "text": [
      "\n",
      " 23%|##3       | 9/39 [00:00<00:00, 88.27it/s]\u001b[A\n",
      " 46%|####6     | 18/39 [00:00<00:00, 88.48it/s]\u001b[A\n",
      " 72%|#######1  | 28/39 [00:00<00:00, 89.12it/s]\u001b[A\n",
      " 92%|#########2| 36/39 [00:00<00:00, 84.57it/s]\u001b[A\n",
      "100%|##########| 39/39 [00:00<00:00, 82.53it/s]\u001b[A"
     ]
    },
    {
     "name": "stdout",
     "output_type": "stream",
     "text": [
      "{'ade': 0.39866722, 'fde': 0.86969876}\n",
      "\t last loss:0.000658834, eval on validation:['ade: 0.39866722', 'fde: 0.86969876'], (best ade:0.4229086 at step 300) \n",
      "\t saving best model...\n",
      "\t done.\n"
     ]
    },
    {
     "name": "stderr",
     "output_type": "stream",
     "text": [
      "100%|██████████| 438/438 [00:18<00:00, 24.02it/s]\n",
      "  1%|          | 3/438 [00:00<00:18, 23.25it/s]"
     ]
    },
    {
     "name": "stdout",
     "output_type": "stream",
     "text": [
      "('Epoca 3.', 'lr:', 0.0017000001)\n"
     ]
    },
    {
     "name": "stderr",
     "output_type": "stream",
     "text": [
      "  5%|▍         | 21/438 [00:00<00:16, 24.53it/s]\n",
      "  0%|          | 0/39 [00:00<?, ?it/s]\u001b[A"
     ]
    },
    {
     "name": "stdout",
     "output_type": "stream",
     "text": [
      "\tsaving model 900...\n",
      "\tdone\n",
      "Evaluating\n"
     ]
    },
    {
     "name": "stderr",
     "output_type": "stream",
     "text": [
      "\n",
      " 23%|##3       | 9/39 [00:00<00:00, 86.10it/s]\u001b[A\n",
      " 49%|####8     | 19/39 [00:00<00:00, 87.67it/s]\u001b[A\n",
      " 74%|#######4  | 29/39 [00:00<00:00, 88.83it/s]\u001b[A\n",
      " 95%|#########4| 37/39 [00:00<00:00, 84.73it/s]\u001b[A\n",
      "  6%|▌         | 27/438 [00:01<00:36, 11.37it/s][A"
     ]
    },
    {
     "name": "stdout",
     "output_type": "stream",
     "text": [
      "{'ade': 0.4240398, 'fde': 0.931696}\n",
      "\t last loss:0.000650425, eval on validation:['ade: 0.4240398', 'fde: 0.931696'], (best ade:0.39866722 at step 600) \n"
     ]
    },
    {
     "name": "stderr",
     "output_type": "stream",
     "text": [
      " 73%|███████▎  | 321/438 [00:13<00:04, 26.20it/s]\n",
      "  0%|          | 0/39 [00:00<?, ?it/s]\u001b[A"
     ]
    },
    {
     "name": "stdout",
     "output_type": "stream",
     "text": [
      "\tsaving model 1200...\n",
      "\tdone\n",
      "Evaluating\n"
     ]
    },
    {
     "name": "stderr",
     "output_type": "stream",
     "text": [
      "\n",
      " 23%|##3       | 9/39 [00:00<00:00, 86.83it/s]\u001b[A\n",
      " 46%|####6     | 18/39 [00:00<00:00, 87.61it/s]\u001b[A\n",
      " 72%|#######1  | 28/39 [00:00<00:00, 88.79it/s]\u001b[A\n",
      " 92%|#########2| 36/39 [00:00<00:00, 85.56it/s]\u001b[A\n",
      " 75%|███████▍  | 327/438 [00:14<00:09, 11.66it/s]A"
     ]
    },
    {
     "name": "stdout",
     "output_type": "stream",
     "text": [
      "{'ade': 0.39888334, 'fde': 0.86430556}\n",
      "\t last loss:0.000394544, eval on validation:['ade: 0.39888334', 'fde: 0.86430556'], (best ade:0.39866722 at step 600) \n"
     ]
    },
    {
     "name": "stderr",
     "output_type": "stream",
     "text": [
      "100%|██████████| 438/438 [00:18<00:00, 25.51it/s]\n",
      "  0%|          | 2/438 [00:00<00:26, 16.19it/s]"
     ]
    },
    {
     "name": "stdout",
     "output_type": "stream",
     "text": [
      "('Epoca 4.', 'lr:', 0.0017000001)\n"
     ]
    },
    {
     "name": "stderr",
     "output_type": "stream",
     "text": [
      " 42%|████▏     | 185/438 [00:07<00:09, 26.03it/s]\n",
      "  0%|          | 0/39 [00:00<?, ?it/s]\u001b[A"
     ]
    },
    {
     "name": "stdout",
     "output_type": "stream",
     "text": [
      "\tsaving model 1500...\n",
      "\tdone\n",
      "Evaluating\n"
     ]
    },
    {
     "name": "stderr",
     "output_type": "stream",
     "text": [
      "\n",
      " 23%|##3       | 9/39 [00:00<00:00, 88.59it/s]\u001b[A\n",
      " 49%|####8     | 19/39 [00:00<00:00, 89.86it/s]\u001b[A\n",
      " 72%|#######1  | 28/39 [00:00<00:00, 89.09it/s]\u001b[A\n",
      " 95%|#########4| 37/39 [00:00<00:00, 86.87it/s]\u001b[A\n",
      " 43%|████▎     | 188/438 [00:07<00:25,  9.69it/s]A"
     ]
    },
    {
     "name": "stdout",
     "output_type": "stream",
     "text": [
      "{'ade': 0.40010536, 'fde': 0.8585095}\n",
      "\t last loss:0.000557838, eval on validation:['ade: 0.40010536', 'fde: 0.8585095'], (best ade:0.39866722 at step 600) \n"
     ]
    },
    {
     "name": "stderr",
     "output_type": "stream",
     "text": [
      "100%|██████████| 438/438 [00:17<00:00, 24.71it/s]\n",
      "  0%|          | 1/438 [00:00<00:45,  9.64it/s]"
     ]
    },
    {
     "name": "stdout",
     "output_type": "stream",
     "text": [
      "('Epoca 5.', 'lr:', 0.0014450002)\n"
     ]
    },
    {
     "name": "stderr",
     "output_type": "stream",
     "text": [
      " 11%|█         | 46/438 [00:01<00:15, 25.59it/s]\n",
      "  0%|          | 0/39 [00:00<?, ?it/s]\u001b[A"
     ]
    },
    {
     "name": "stdout",
     "output_type": "stream",
     "text": [
      "\tsaving model 1800...\n",
      "\tdone\n",
      "Evaluating\n"
     ]
    },
    {
     "name": "stderr",
     "output_type": "stream",
     "text": [
      "\n",
      " 26%|##5       | 10/39 [00:00<00:00, 91.82it/s]\u001b[A\n",
      " 46%|####6     | 18/39 [00:00<00:00, 84.88it/s]\u001b[A\n",
      " 69%|######9   | 27/39 [00:00<00:00, 84.76it/s]\u001b[A\n",
      " 92%|#########2| 36/39 [00:00<00:00, 85.90it/s]\u001b[A\n",
      " 11%|█         | 49/438 [00:02<00:41,  9.42it/s][A"
     ]
    },
    {
     "name": "stdout",
     "output_type": "stream",
     "text": [
      "{'ade': 0.41573077, 'fde': 0.91903967}\n",
      "\t last loss:0.000277534, eval on validation:['ade: 0.41573077', 'fde: 0.91903967'], (best ade:0.39866722 at step 600) \n"
     ]
    },
    {
     "name": "stderr",
     "output_type": "stream",
     "text": [
      " 79%|███████▉  | 346/438 [00:14<00:03, 25.92it/s]\n",
      "  0%|          | 0/39 [00:00<?, ?it/s]\u001b[A"
     ]
    },
    {
     "name": "stdout",
     "output_type": "stream",
     "text": [
      "\tsaving model 2100...\n",
      "\tdone\n",
      "Evaluating\n"
     ]
    },
    {
     "name": "stderr",
     "output_type": "stream",
     "text": [
      "\n",
      " 23%|##3       | 9/39 [00:00<00:00, 89.16it/s]\u001b[A\n",
      " 49%|####8     | 19/39 [00:00<00:00, 89.62it/s]\u001b[A\n",
      " 74%|#######4  | 29/39 [00:00<00:00, 89.41it/s]\u001b[A\n",
      " 97%|#########7| 38/39 [00:00<00:00, 88.77it/s]\u001b[A\n",
      " 80%|████████  | 352/438 [00:15<00:07, 11.94it/s]A"
     ]
    },
    {
     "name": "stdout",
     "output_type": "stream",
     "text": [
      "{'ade': 0.42649883, 'fde': 0.9426731}\n",
      "\t last loss:0.000610734, eval on validation:['ade: 0.42649883', 'fde: 0.9426731'], (best ade:0.39866722 at step 600) \n"
     ]
    },
    {
     "name": "stderr",
     "output_type": "stream",
     "text": [
      "100%|██████████| 438/438 [00:18<00:00, 23.39it/s]\n",
      "  1%|          | 3/438 [00:00<00:17, 25.05it/s]"
     ]
    },
    {
     "name": "stdout",
     "output_type": "stream",
     "text": [
      "('Epoca 6.', 'lr:', 0.0014450002)\n"
     ]
    },
    {
     "name": "stderr",
     "output_type": "stream",
     "text": [
      " 47%|████▋     | 207/438 [00:08<00:08, 26.37it/s]\n",
      "  0%|          | 0/39 [00:00<?, ?it/s]\u001b[A"
     ]
    },
    {
     "name": "stdout",
     "output_type": "stream",
     "text": [
      "\tsaving model 2400...\n",
      "\tdone\n",
      "Evaluating\n"
     ]
    },
    {
     "name": "stderr",
     "output_type": "stream",
     "text": [
      "\n",
      " 26%|##5       | 10/39 [00:00<00:00, 92.84it/s]\u001b[A\n",
      " 51%|#####1    | 20/39 [00:00<00:00, 92.77it/s]\u001b[A\n",
      " 77%|#######6  | 30/39 [00:00<00:00, 92.85it/s]\u001b[A\n",
      " 48%|████▊     | 212/438 [00:08<00:19, 11.54it/s]A"
     ]
    },
    {
     "name": "stdout",
     "output_type": "stream",
     "text": [
      "{'ade': 0.4346289, 'fde': 0.95856243}\n",
      "\t last loss:0.001059833, eval on validation:['ade: 0.4346289', 'fde: 0.95856243'], (best ade:0.39866722 at step 600) \n"
     ]
    },
    {
     "name": "stderr",
     "output_type": "stream",
     "text": [
      "100%|██████████| 438/438 [00:17<00:00, 24.77it/s]\n",
      "  0%|          | 2/438 [00:00<00:30, 14.46it/s]"
     ]
    },
    {
     "name": "stdout",
     "output_type": "stream",
     "text": [
      "('Epoca 7.', 'lr:', 0.0012282502)\n"
     ]
    },
    {
     "name": "stderr",
     "output_type": "stream",
     "text": [
      " 16%|█▌        | 71/438 [00:02<00:14, 25.80it/s]\n",
      "  0%|          | 0/39 [00:00<?, ?it/s]\u001b[A"
     ]
    },
    {
     "name": "stdout",
     "output_type": "stream",
     "text": [
      "\tsaving model 2700...\n",
      "\tdone\n",
      "Evaluating\n"
     ]
    },
    {
     "name": "stderr",
     "output_type": "stream",
     "text": [
      "\n",
      " 23%|##3       | 9/39 [00:00<00:00, 89.47it/s]\u001b[A\n",
      " 49%|####8     | 19/39 [00:00<00:00, 90.04it/s]\u001b[A\n",
      " 72%|#######1  | 28/39 [00:00<00:00, 89.92it/s]\u001b[A\n",
      " 97%|#########7| 38/39 [00:00<00:00, 90.48it/s]\u001b[A\n",
      " 17%|█▋        | 74/438 [00:03<00:38,  9.42it/s][A"
     ]
    },
    {
     "name": "stdout",
     "output_type": "stream",
     "text": [
      "{'ade': 0.40547898, 'fde': 0.8825017}\n",
      "\t last loss:0.000468399, eval on validation:['ade: 0.40547898', 'fde: 0.8825017'], (best ade:0.39866722 at step 600) \n"
     ]
    },
    {
     "name": "stderr",
     "output_type": "stream",
     "text": [
      " 85%|████████▍ | 371/438 [00:15<00:02, 25.23it/s]\n",
      "  0%|          | 0/39 [00:00<?, ?it/s]\u001b[A"
     ]
    },
    {
     "name": "stdout",
     "output_type": "stream",
     "text": [
      "\tsaving model 3000...\n",
      "\tdone\n",
      "Evaluating\n"
     ]
    },
    {
     "name": "stderr",
     "output_type": "stream",
     "text": [
      "\n",
      " 26%|##5       | 10/39 [00:00<00:00, 92.42it/s]\u001b[A\n",
      " 46%|####6     | 18/39 [00:00<00:00, 85.41it/s]\u001b[A\n",
      " 64%|######4   | 25/39 [00:00<00:00, 79.30it/s]\u001b[A\n",
      " 90%|########9 | 35/39 [00:00<00:00, 82.26it/s]\u001b[A\n",
      " 85%|████████▌ | 374/438 [00:15<00:06,  9.33it/s]A"
     ]
    },
    {
     "name": "stdout",
     "output_type": "stream",
     "text": [
      "{'ade': 0.41242573, 'fde': 0.90623975}\n",
      "\t last loss:0.000605238, eval on validation:['ade: 0.41242573', 'fde: 0.90623975'], (best ade:0.39866722 at step 600) \n"
     ]
    },
    {
     "name": "stderr",
     "output_type": "stream",
     "text": [
      "100%|██████████| 438/438 [00:18<00:00, 23.67it/s]\n",
      "  0%|          | 1/438 [00:00<00:53,  8.17it/s]"
     ]
    },
    {
     "name": "stdout",
     "output_type": "stream",
     "text": [
      "('Epoca 8.', 'lr:', 0.0012282502)\n"
     ]
    },
    {
     "name": "stderr",
     "output_type": "stream",
     "text": [
      " 53%|█████▎    | 233/438 [00:09<00:07, 26.41it/s]\n",
      "  0%|          | 0/39 [00:00<?, ?it/s]\u001b[A"
     ]
    },
    {
     "name": "stdout",
     "output_type": "stream",
     "text": [
      "\tsaving model 3300...\n",
      "\tdone\n",
      "Evaluating\n"
     ]
    },
    {
     "name": "stderr",
     "output_type": "stream",
     "text": [
      "\n",
      " 23%|##3       | 9/39 [00:00<00:00, 82.01it/s]\u001b[A\n",
      " 46%|####6     | 18/39 [00:00<00:00, 84.24it/s]\u001b[A\n",
      " 72%|#######1  | 28/39 [00:00<00:00, 86.80it/s]\u001b[A\n",
      " 95%|#########4| 37/39 [00:00<00:00, 85.04it/s]\u001b[A\n",
      " 54%|█████▍    | 236/438 [00:10<00:21,  9.57it/s]A"
     ]
    },
    {
     "name": "stdout",
     "output_type": "stream",
     "text": [
      "{'ade': 0.41365084, 'fde': 0.91822773}\n",
      "\t last loss:0.000503117, eval on validation:['ade: 0.41365084', 'fde: 0.91822773'], (best ade:0.39866722 at step 600) \n"
     ]
    },
    {
     "name": "stderr",
     "output_type": "stream",
     "text": [
      "100%|██████████| 438/438 [00:18<00:00, 23.39it/s]\n",
      "  1%|          | 3/438 [00:00<00:17, 24.66it/s]"
     ]
    },
    {
     "name": "stdout",
     "output_type": "stream",
     "text": [
      "('Epoca 9.', 'lr:', 0.0010440127)\n"
     ]
    },
    {
     "name": "stderr",
     "output_type": "stream",
     "text": [
      " 21%|██        | 93/438 [00:03<00:13, 25.01it/s]\n",
      "  0%|          | 0/39 [00:00<?, ?it/s]\u001b[A"
     ]
    },
    {
     "name": "stdout",
     "output_type": "stream",
     "text": [
      "\tsaving model 3600...\n",
      "\tdone\n",
      "Evaluating\n"
     ]
    },
    {
     "name": "stderr",
     "output_type": "stream",
     "text": [
      "\n",
      " 23%|##3       | 9/39 [00:00<00:00, 89.12it/s]\u001b[A\n",
      " 49%|####8     | 19/39 [00:00<00:00, 89.97it/s]\u001b[A\n",
      " 72%|#######1  | 28/39 [00:00<00:00, 89.22it/s]\u001b[A\n",
      " 95%|#########4| 37/39 [00:00<00:00, 88.99it/s]\u001b[A\n",
      "100%|##########| 39/39 [00:00<00:00, 88.17it/s]\u001b[A"
     ]
    },
    {
     "name": "stdout",
     "output_type": "stream",
     "text": [
      "{'ade': 0.39178807, 'fde': 0.85612684}\n",
      "\t last loss:0.000296788, eval on validation:['ade: 0.39178807', 'fde: 0.85612684'], (best ade:0.39866722 at step 600) \n",
      "\t saving best model...\n",
      "\t done.\n"
     ]
    },
    {
     "name": "stderr",
     "output_type": "stream",
     "text": [
      " 90%|████████▉ | 393/438 [00:16<00:01, 24.06it/s]\n",
      "  0%|          | 0/39 [00:00<?, ?it/s]\u001b[A"
     ]
    },
    {
     "name": "stdout",
     "output_type": "stream",
     "text": [
      "\tsaving model 3900...\n",
      "\tdone\n",
      "Evaluating\n"
     ]
    },
    {
     "name": "stderr",
     "output_type": "stream",
     "text": [
      "\n",
      " 21%|##        | 8/39 [00:00<00:00, 78.90it/s]\u001b[A\n",
      " 44%|####3     | 17/39 [00:00<00:00, 80.18it/s]\u001b[A\n",
      " 67%|######6   | 26/39 [00:00<00:00, 80.63it/s]\u001b[A\n",
      " 90%|########9 | 35/39 [00:00<00:00, 81.52it/s]\u001b[A\n",
      "100%|##########| 39/39 [00:00<00:00, 80.48it/s]\u001b[A"
     ]
    },
    {
     "name": "stdout",
     "output_type": "stream",
     "text": [
      "{'ade': 0.38165134, 'fde': 0.8348927}\n",
      "\t last loss:0.000417571, eval on validation:['ade: 0.38165134', 'fde: 0.8348927'], (best ade:0.39178807 at step 3600) \n",
      "\t saving best model...\n"
     ]
    },
    {
     "name": "stderr",
     "output_type": "stream",
     "text": [
      " 91%|█████████ | 399/438 [00:17<00:04,  9.48it/s]"
     ]
    },
    {
     "name": "stdout",
     "output_type": "stream",
     "text": [
      "\t done.\n"
     ]
    },
    {
     "name": "stderr",
     "output_type": "stream",
     "text": [
      "100%|██████████| 438/438 [00:19<00:00, 22.76it/s]\n",
      "  0%|          | 2/438 [00:00<00:30, 14.14it/s]"
     ]
    },
    {
     "name": "stdout",
     "output_type": "stream",
     "text": [
      "('Epoca 10.', 'lr:', 0.0010440127)\n"
     ]
    },
    {
     "name": "stderr",
     "output_type": "stream",
     "text": [
      " 59%|█████▊    | 257/438 [00:10<00:06, 26.11it/s]\n",
      "  0%|          | 0/39 [00:00<?, ?it/s]\u001b[A"
     ]
    },
    {
     "name": "stdout",
     "output_type": "stream",
     "text": [
      "\tsaving model 4200...\n",
      "\tdone\n",
      "Evaluating\n"
     ]
    },
    {
     "name": "stderr",
     "output_type": "stream",
     "text": [
      "\n",
      " 23%|##3       | 9/39 [00:00<00:00, 87.83it/s]\u001b[A\n",
      " 46%|####6     | 18/39 [00:00<00:00, 88.39it/s]\u001b[A\n",
      " 72%|#######1  | 28/39 [00:00<00:00, 89.47it/s]\u001b[A\n",
      " 97%|#########7| 38/39 [00:00<00:00, 90.40it/s]\u001b[A\n",
      " 59%|█████▉    | 260/438 [00:11<00:18,  9.88it/s]A"
     ]
    },
    {
     "name": "stdout",
     "output_type": "stream",
     "text": [
      "{'ade': 0.40738082, 'fde': 0.91054267}\n",
      "\t last loss:0.000483154, eval on validation:['ade: 0.40738082', 'fde: 0.91054267'], (best ade:0.38165134 at step 3900) \n"
     ]
    },
    {
     "name": "stderr",
     "output_type": "stream",
     "text": [
      "100%|██████████| 438/438 [00:18<00:00, 24.33it/s]\n",
      "  1%|          | 3/438 [00:00<00:18, 23.43it/s]"
     ]
    },
    {
     "name": "stdout",
     "output_type": "stream",
     "text": [
      "('Epoca 11.', 'lr:', 0.0008874108)\n"
     ]
    },
    {
     "name": "stderr",
     "output_type": "stream",
     "text": [
      " 27%|██▋       | 117/438 [00:04<00:12, 25.95it/s]\n",
      "  0%|          | 0/39 [00:00<?, ?it/s]\u001b[A"
     ]
    },
    {
     "name": "stdout",
     "output_type": "stream",
     "text": [
      "\tsaving model 4500...\n",
      "\tdone\n",
      "Evaluating\n"
     ]
    },
    {
     "name": "stderr",
     "output_type": "stream",
     "text": [
      "\n",
      " 23%|##3       | 9/39 [00:00<00:00, 82.16it/s]\u001b[A\n",
      " 44%|####3     | 17/39 [00:00<00:00, 80.80it/s]\u001b[A\n",
      " 64%|######4   | 25/39 [00:00<00:00, 79.47it/s]\u001b[A\n",
      " 87%|########7 | 34/39 [00:00<00:00, 80.17it/s]\u001b[A\n",
      " 28%|██▊       | 123/438 [00:05<00:27, 11.32it/s]A"
     ]
    },
    {
     "name": "stdout",
     "output_type": "stream",
     "text": [
      "{'ade': 0.39479372, 'fde': 0.8511791}\n",
      "\t last loss:0.000367705, eval on validation:['ade: 0.39479372', 'fde: 0.8511791'], (best ade:0.38165134 at step 3900) \n"
     ]
    },
    {
     "name": "stderr",
     "output_type": "stream",
     "text": [
      " 95%|█████████▌| 417/438 [00:17<00:00, 25.52it/s]\n",
      "  0%|          | 0/39 [00:00<?, ?it/s]\u001b[A"
     ]
    },
    {
     "name": "stdout",
     "output_type": "stream",
     "text": [
      "\tsaving model 4800...\n",
      "\tdone\n",
      "Evaluating\n"
     ]
    },
    {
     "name": "stderr",
     "output_type": "stream",
     "text": [
      "\n",
      " 23%|##3       | 9/39 [00:00<00:00, 88.25it/s]\u001b[A\n",
      " 49%|####8     | 19/39 [00:00<00:00, 89.38it/s]\u001b[A\n",
      " 72%|#######1  | 28/39 [00:00<00:00, 89.07it/s]\u001b[A\n",
      " 90%|########9 | 35/39 [00:00<00:00, 80.01it/s]\u001b[A\n",
      " 97%|█████████▋| 423/438 [00:18<00:01, 11.56it/s]A"
     ]
    },
    {
     "name": "stdout",
     "output_type": "stream",
     "text": [
      "{'ade': 0.39322716, 'fde': 0.8609403}\n",
      "\t last loss:0.000635927, eval on validation:['ade: 0.39322716', 'fde: 0.8609403'], (best ade:0.38165134 at step 3900) \n"
     ]
    },
    {
     "name": "stderr",
     "output_type": "stream",
     "text": [
      "100%|██████████| 438/438 [00:18<00:00, 20.96it/s]\n",
      "  0%|          | 1/438 [00:00<00:49,  8.81it/s]"
     ]
    },
    {
     "name": "stdout",
     "output_type": "stream",
     "text": [
      "('Epoca 12.', 'lr:', 0.0008874108)\n"
     ]
    },
    {
     "name": "stderr",
     "output_type": "stream",
     "text": [
      " 64%|██████▍   | 280/438 [00:11<00:06, 24.36it/s]\n",
      "  0%|          | 0/39 [00:00<?, ?it/s]\u001b[A"
     ]
    },
    {
     "name": "stdout",
     "output_type": "stream",
     "text": [
      "\tsaving model 5100...\n",
      "\tdone\n",
      "Evaluating\n"
     ]
    },
    {
     "name": "stderr",
     "output_type": "stream",
     "text": [
      "\n",
      " 23%|##3       | 9/39 [00:00<00:00, 82.87it/s]\u001b[A\n",
      " 46%|####6     | 18/39 [00:00<00:00, 82.50it/s]\u001b[A\n",
      " 69%|######9   | 27/39 [00:00<00:00, 82.82it/s]\u001b[A\n",
      " 92%|#########2| 36/39 [00:00<00:00, 82.89it/s]\u001b[A\n",
      " 65%|██████▍   | 283/438 [00:12<00:16,  9.16it/s]A"
     ]
    },
    {
     "name": "stdout",
     "output_type": "stream",
     "text": [
      "{'ade': 0.39410454, 'fde': 0.8644193}\n",
      "\t last loss:0.000368050, eval on validation:['ade: 0.39410454', 'fde: 0.8644193'], (best ade:0.38165134 at step 3900) \n"
     ]
    },
    {
     "name": "stderr",
     "output_type": "stream",
     "text": [
      "100%|██████████| 438/438 [00:18<00:00, 24.48it/s]\n",
      "  0%|          | 1/438 [00:00<00:47,  9.25it/s]"
     ]
    },
    {
     "name": "stdout",
     "output_type": "stream",
     "text": [
      "('Epoca 13.', 'lr:', 0.0007542992)\n"
     ]
    },
    {
     "name": "stderr",
     "output_type": "stream",
     "text": [
      " 32%|███▏      | 142/438 [00:05<00:11, 26.25it/s]\n",
      "  0%|          | 0/39 [00:00<?, ?it/s]\u001b[A"
     ]
    },
    {
     "name": "stdout",
     "output_type": "stream",
     "text": [
      "\tsaving model 5400...\n",
      "\tdone\n",
      "Evaluating\n"
     ]
    },
    {
     "name": "stderr",
     "output_type": "stream",
     "text": [
      "\n",
      " 23%|##3       | 9/39 [00:00<00:00, 88.66it/s]\u001b[A\n",
      " 44%|####3     | 17/39 [00:00<00:00, 84.60it/s]\u001b[A\n",
      " 67%|######6   | 26/39 [00:00<00:00, 83.69it/s]\u001b[A\n",
      " 92%|#########2| 36/39 [00:00<00:00, 85.96it/s]\u001b[A\n",
      "100%|##########| 39/39 [00:00<00:00, 83.61it/s]\u001b[A"
     ]
    },
    {
     "name": "stdout",
     "output_type": "stream",
     "text": [
      "{'ade': 0.36792862, 'fde': 0.7914231}\n",
      "\t last loss:0.000231522, eval on validation:['ade: 0.36792862', 'fde: 0.7914231'], (best ade:0.38165134 at step 3900) \n",
      "\t saving best model...\n"
     ]
    },
    {
     "name": "stderr",
     "output_type": "stream",
     "text": [
      "\r",
      " 33%|███▎      | 145/438 [00:06<00:36,  7.97it/s]"
     ]
    },
    {
     "name": "stdout",
     "output_type": "stream",
     "text": [
      "\t done.\n"
     ]
    },
    {
     "name": "stderr",
     "output_type": "stream",
     "text": [
      "100%|██████████| 438/438 [00:18<00:00, 23.51it/s]\n",
      "  0%|          | 2/438 [00:00<00:25, 16.80it/s]"
     ]
    },
    {
     "name": "stdout",
     "output_type": "stream",
     "text": [
      "('Epoca 14.', 'lr:', 0.0007542992)\n"
     ]
    },
    {
     "name": "stderr",
     "output_type": "stream",
     "text": [
      "  1%|          | 5/438 [00:00<00:23, 18.38it/s]\n",
      "  0%|          | 0/39 [00:00<?, ?it/s]"
     ]
    },
    {
     "name": "stdout",
     "output_type": "stream",
     "text": [
      "\tsaving model 5700...\n",
      "\tdone\n",
      "Evaluating\n"
     ]
    },
    {
     "name": "stderr",
     "output_type": "stream",
     "text": [
      "\u001b[A\n",
      " 23%|##3       | 9/39 [00:00<00:00, 85.35it/s]\u001b[A\n",
      " 46%|####6     | 18/39 [00:00<00:00, 84.26it/s]\u001b[A\n",
      " 67%|######6   | 26/39 [00:00<00:00, 78.91it/s]\u001b[A\n",
      " 87%|########7 | 34/39 [00:00<00:00, 78.05it/s]\u001b[A\n",
      "  2%|▏         | 10/438 [00:01<00:51,  8.29it/s][A"
     ]
    },
    {
     "name": "stdout",
     "output_type": "stream",
     "text": [
      "{'ade': 0.39631268, 'fde': 0.85692495}\n",
      "\t last loss:0.000405029, eval on validation:['ade: 0.39631268', 'fde: 0.85692495'], (best ade:0.36792862 at step 5400) \n"
     ]
    },
    {
     "name": "stderr",
     "output_type": "stream",
     "text": [
      " 69%|██████▉   | 304/438 [00:12<00:05, 26.25it/s]\n",
      "  0%|          | 0/39 [00:00<?, ?it/s]\u001b[A"
     ]
    },
    {
     "name": "stdout",
     "output_type": "stream",
     "text": [
      "\tsaving model 6000...\n",
      "\tdone\n",
      "Evaluating\n"
     ]
    },
    {
     "name": "stderr",
     "output_type": "stream",
     "text": [
      "\n",
      " 23%|##3       | 9/39 [00:00<00:00, 89.44it/s]\u001b[A\n",
      " 44%|####3     | 17/39 [00:00<00:00, 84.72it/s]\u001b[A\n",
      " 67%|######6   | 26/39 [00:00<00:00, 83.94it/s]\u001b[A\n",
      " 87%|########7 | 34/39 [00:00<00:00, 80.72it/s]\u001b[A\n",
      " 71%|███████   | 310/438 [00:13<00:11, 11.56it/s]A"
     ]
    },
    {
     "name": "stdout",
     "output_type": "stream",
     "text": [
      "{'ade': 0.4997999, 'fde': 1.1591393}\n",
      "\t last loss:0.000597706, eval on validation:['ade: 0.4997999', 'fde: 1.1591393'], (best ade:0.36792862 at step 5400) \n"
     ]
    },
    {
     "name": "stderr",
     "output_type": "stream",
     "text": [
      "100%|██████████| 438/438 [00:18<00:00, 23.16it/s]\n",
      "  0%|          | 2/438 [00:00<00:28, 15.33it/s]"
     ]
    },
    {
     "name": "stdout",
     "output_type": "stream",
     "text": [
      "('Epoca 15.', 'lr:', 0.0006411543)\n"
     ]
    },
    {
     "name": "stderr",
     "output_type": "stream",
     "text": [
      " 38%|███▊      | 167/438 [00:06<00:11, 24.53it/s]\n",
      "  0%|          | 0/39 [00:00<?, ?it/s]"
     ]
    },
    {
     "name": "stdout",
     "output_type": "stream",
     "text": [
      "\tsaving model 6300...\n",
      "\tdone\n",
      "Evaluating\n"
     ]
    },
    {
     "name": "stderr",
     "output_type": "stream",
     "text": [
      "\u001b[A\n",
      " 23%|##3       | 9/39 [00:00<00:00, 83.79it/s]\u001b[A\n",
      " 38%|###8      | 15/39 [00:00<00:00, 73.51it/s]\u001b[A\n",
      " 62%|######1   | 24/39 [00:00<00:00, 75.88it/s]\u001b[A\n",
      " 82%|########2 | 32/39 [00:00<00:00, 76.63it/s]\u001b[A\n",
      " 39%|███▉      | 170/438 [00:07<00:30,  8.76it/s]A"
     ]
    },
    {
     "name": "stdout",
     "output_type": "stream",
     "text": [
      "{'ade': 0.39027727, 'fde': 0.8630955}\n",
      "\t last loss:0.000530591, eval on validation:['ade: 0.39027727', 'fde: 0.8630955'], (best ade:0.36792862 at step 5400) \n"
     ]
    },
    {
     "name": "stderr",
     "output_type": "stream",
     "text": [
      "100%|██████████| 438/438 [00:18<00:00, 23.77it/s]\n",
      "  1%|          | 3/438 [00:00<00:18, 23.11it/s]"
     ]
    },
    {
     "name": "stdout",
     "output_type": "stream",
     "text": [
      "('Epoca 16.', 'lr:', 0.0006411543)\n"
     ]
    },
    {
     "name": "stderr",
     "output_type": "stream",
     "text": [
      "  6%|▌         | 27/438 [00:01<00:16, 25.12it/s]\n",
      "  0%|          | 0/39 [00:00<?, ?it/s]\u001b[A"
     ]
    },
    {
     "name": "stdout",
     "output_type": "stream",
     "text": [
      "\tsaving model 6600...\n",
      "\tdone\n",
      "Evaluating\n"
     ]
    },
    {
     "name": "stderr",
     "output_type": "stream",
     "text": [
      "\n",
      " 23%|##3       | 9/39 [00:00<00:00, 87.31it/s]\u001b[A\n",
      " 41%|####1     | 16/39 [00:00<00:00, 80.95it/s]\u001b[A\n",
      " 62%|######1   | 24/39 [00:00<00:00, 80.40it/s]\u001b[A\n",
      " 85%|########4 | 33/39 [00:00<00:00, 82.73it/s]\u001b[A\n",
      "  8%|▊         | 33/438 [00:02<00:35, 11.36it/s][A"
     ]
    },
    {
     "name": "stdout",
     "output_type": "stream",
     "text": [
      "{'ade': 0.3688569, 'fde': 0.8069639}\n",
      "\t last loss:0.000401558, eval on validation:['ade: 0.3688569', 'fde: 0.8069639'], (best ade:0.36792862 at step 5400) \n"
     ]
    },
    {
     "name": "stderr",
     "output_type": "stream",
     "text": [
      " 75%|███████▍  | 327/438 [00:13<00:04, 24.55it/s]\n",
      "  0%|          | 0/39 [00:00<?, ?it/s]\u001b[A"
     ]
    },
    {
     "name": "stdout",
     "output_type": "stream",
     "text": [
      "\tsaving model 6900...\n",
      "\tdone\n",
      "Evaluating\n"
     ]
    },
    {
     "name": "stderr",
     "output_type": "stream",
     "text": [
      "\n",
      " 23%|##3       | 9/39 [00:00<00:00, 83.78it/s]\u001b[A\n",
      " 38%|###8      | 15/39 [00:00<00:00, 73.24it/s]\u001b[A\n",
      " 62%|######1   | 24/39 [00:00<00:00, 76.06it/s]\u001b[A\n",
      " 85%|########4 | 33/39 [00:00<00:00, 78.13it/s]\u001b[A\n",
      "100%|##########| 39/39 [00:00<00:00, 74.49it/s]\u001b[A"
     ]
    },
    {
     "name": "stdout",
     "output_type": "stream",
     "text": [
      "{'ade': 0.36655417, 'fde': 0.79121894}\n",
      "\t last loss:0.000359291, eval on validation:['ade: 0.36655417', 'fde: 0.79121894'], (best ade:0.36792862 at step 5400) \n",
      "\t saving best model...\n"
     ]
    },
    {
     "name": "stderr",
     "output_type": "stream",
     "text": [
      "100%|██████████| 438/438 [00:19<00:00, 22.82it/s]\n",
      "  0%|          | 2/438 [00:00<00:24, 17.51it/s]"
     ]
    },
    {
     "name": "stdout",
     "output_type": "stream",
     "text": [
      "\t done.\n",
      "('Epoca 17.', 'lr:', 0.0005449812)\n"
     ]
    },
    {
     "name": "stderr",
     "output_type": "stream",
     "text": [
      " 44%|████▎     | 191/438 [00:09<00:13, 18.47it/s]"
     ]
    },
    {
     "name": "stdout",
     "output_type": "stream",
     "text": [
      "\tsaving model 7200...\n"
     ]
    },
    {
     "name": "stderr",
     "output_type": "stream",
     "text": [
      "\n",
      "  0%|          | 0/39 [00:00<?, ?it/s]\u001b[A\n",
      " 21%|##        | 8/39 [00:00<00:00, 70.06it/s]\u001b[A"
     ]
    },
    {
     "name": "stdout",
     "output_type": "stream",
     "text": [
      "\tdone\n",
      "Evaluating\n"
     ]
    },
    {
     "name": "stderr",
     "output_type": "stream",
     "text": [
      "\n",
      " 38%|###8      | 15/39 [00:00<00:00, 67.35it/s]\u001b[A\n",
      " 56%|#####6    | 22/39 [00:00<00:00, 67.33it/s]\u001b[A\n",
      " 74%|#######4  | 29/39 [00:00<00:00, 66.05it/s]\u001b[A\n",
      " 90%|########9 | 35/39 [00:00<00:00, 63.06it/s]\u001b[A\n",
      " 44%|████▍     | 193/438 [00:10<00:46,  5.25it/s]A"
     ]
    },
    {
     "name": "stdout",
     "output_type": "stream",
     "text": [
      "{'ade': 0.36735377, 'fde': 0.78243834}\n",
      "\t last loss:0.000558344, eval on validation:['ade: 0.36735377', 'fde: 0.78243834'], (best ade:0.36655417 at step 6900) \n"
     ]
    },
    {
     "name": "stderr",
     "output_type": "stream",
     "text": [
      "100%|██████████| 438/438 [00:21<00:00, 20.47it/s]\n",
      "  0%|          | 2/438 [00:00<00:30, 14.41it/s]"
     ]
    },
    {
     "name": "stdout",
     "output_type": "stream",
     "text": [
      "('Epoca 18.', 'lr:', 0.0005449812)\n"
     ]
    },
    {
     "name": "stderr",
     "output_type": "stream",
     "text": [
      " 12%|█▏        | 53/438 [00:02<00:15, 25.01it/s]\n",
      "  0%|          | 0/39 [00:00<?, ?it/s]\u001b[A"
     ]
    },
    {
     "name": "stdout",
     "output_type": "stream",
     "text": [
      "\tsaving model 7500...\n",
      "\tdone\n",
      "Evaluating\n"
     ]
    },
    {
     "name": "stderr",
     "output_type": "stream",
     "text": [
      "\n",
      " 21%|##        | 8/39 [00:00<00:00, 79.92it/s]\u001b[A\n",
      " 38%|###8      | 15/39 [00:00<00:00, 75.06it/s]\u001b[A\n",
      " 59%|#####8    | 23/39 [00:00<00:00, 74.31it/s]\u001b[A\n",
      " 82%|########2 | 32/39 [00:00<00:00, 76.90it/s]\u001b[A\n",
      " 13%|█▎        | 56/438 [00:03<00:42,  8.95it/s][A"
     ]
    },
    {
     "name": "stdout",
     "output_type": "stream",
     "text": [
      "{'ade': 0.43107432, 'fde': 0.9491041}\n",
      "\t last loss:0.000402756, eval on validation:['ade: 0.43107432', 'fde: 0.9491041'], (best ade:0.36655417 at step 6900) \n"
     ]
    },
    {
     "name": "stderr",
     "output_type": "stream",
     "text": [
      " 81%|████████  | 353/438 [00:14<00:03, 26.29it/s]\n",
      "  0%|          | 0/39 [00:00<?, ?it/s]\u001b[A"
     ]
    },
    {
     "name": "stdout",
     "output_type": "stream",
     "text": [
      "\tsaving model 7800...\n",
      "\tdone\n",
      "Evaluating\n"
     ]
    },
    {
     "name": "stderr",
     "output_type": "stream",
     "text": [
      "\n",
      " 26%|##5       | 10/39 [00:00<00:00, 94.79it/s]\u001b[A\n",
      " 51%|#####1    | 20/39 [00:00<00:00, 93.36it/s]\u001b[A\n",
      " 72%|#######1  | 28/39 [00:00<00:00, 84.83it/s]\u001b[A\n",
      " 90%|########9 | 35/39 [00:00<00:00, 79.31it/s]\u001b[A\n",
      " 81%|████████▏ | 356/438 [00:15<00:08,  9.32it/s]A"
     ]
    },
    {
     "name": "stdout",
     "output_type": "stream",
     "text": [
      "{'ade': 0.38871557, 'fde': 0.8481679}\n",
      "\t last loss:0.000589279, eval on validation:['ade: 0.38871557', 'fde: 0.8481679'], (best ade:0.36655417 at step 6900) \n"
     ]
    },
    {
     "name": "stderr",
     "output_type": "stream",
     "text": [
      "100%|██████████| 438/438 [00:18<00:00, 23.13it/s]\n",
      "  0%|          | 1/438 [00:00<00:54,  8.01it/s]"
     ]
    },
    {
     "name": "stdout",
     "output_type": "stream",
     "text": [
      "('Epoca 19.', 'lr:', 0.00046323403)\n"
     ]
    },
    {
     "name": "stderr",
     "output_type": "stream",
     "text": [
      " 49%|████▉     | 214/438 [00:08<00:08, 26.47it/s]\n",
      "  0%|          | 0/39 [00:00<?, ?it/s]\u001b[A"
     ]
    },
    {
     "name": "stdout",
     "output_type": "stream",
     "text": [
      "\tsaving model 8100...\n",
      "\tdone\n",
      "Evaluating\n"
     ]
    },
    {
     "name": "stderr",
     "output_type": "stream",
     "text": [
      "\n",
      " 23%|##3       | 9/39 [00:00<00:00, 88.16it/s]\u001b[A\n",
      " 41%|####1     | 16/39 [00:00<00:00, 81.46it/s]\u001b[A\n",
      " 64%|######4   | 25/39 [00:00<00:00, 82.17it/s]\u001b[A\n",
      " 90%|########9 | 35/39 [00:00<00:00, 85.02it/s]\u001b[A\n",
      " 50%|█████     | 220/438 [00:09<00:18, 11.86it/s]A"
     ]
    },
    {
     "name": "stdout",
     "output_type": "stream",
     "text": [
      "{'ade': 0.412629, 'fde': 0.90117383}\n",
      "\t last loss:0.000247949, eval on validation:['ade: 0.412629', 'fde: 0.90117383'], (best ade:0.36655417 at step 6900) \n"
     ]
    },
    {
     "name": "stderr",
     "output_type": "stream",
     "text": [
      "100%|██████████| 438/438 [00:17<00:00, 25.06it/s]\n",
      "  0%|          | 1/438 [00:00<00:45,  9.66it/s]"
     ]
    },
    {
     "name": "stdout",
     "output_type": "stream",
     "text": [
      "('Epoca 20.', 'lr:', 0.00046323403)\n"
     ]
    },
    {
     "name": "stderr",
     "output_type": "stream",
     "text": [
      " 17%|█▋        | 76/438 [00:02<00:14, 25.18it/s]\n",
      "  0%|          | 0/39 [00:00<?, ?it/s]\u001b[A"
     ]
    },
    {
     "name": "stdout",
     "output_type": "stream",
     "text": [
      "\tsaving model 8400...\n",
      "\tdone\n",
      "Evaluating\n"
     ]
    },
    {
     "name": "stderr",
     "output_type": "stream",
     "text": [
      "\n",
      " 23%|##3       | 9/39 [00:00<00:00, 85.95it/s]\u001b[A\n",
      " 46%|####6     | 18/39 [00:00<00:00, 85.04it/s]\u001b[A\n",
      " 69%|######9   | 27/39 [00:00<00:00, 85.37it/s]\u001b[A\n",
      " 92%|#########2| 36/39 [00:00<00:00, 84.97it/s]\u001b[A\n",
      " 18%|█▊        | 79/438 [00:03<00:38,  9.28it/s][A"
     ]
    },
    {
     "name": "stdout",
     "output_type": "stream",
     "text": [
      "{'ade': 0.38171527, 'fde': 0.82224554}\n",
      "\t last loss:0.000294556, eval on validation:['ade: 0.38171527', 'fde: 0.82224554'], (best ade:0.36655417 at step 6900) \n"
     ]
    },
    {
     "name": "stderr",
     "output_type": "stream",
     "text": [
      " 86%|████████▌ | 375/438 [00:15<00:02, 25.57it/s]\n",
      "  0%|          | 0/39 [00:00<?, ?it/s]\u001b[A"
     ]
    },
    {
     "name": "stdout",
     "output_type": "stream",
     "text": [
      "\tsaving model 8700...\n",
      "\tdone\n",
      "Evaluating\n"
     ]
    },
    {
     "name": "stderr",
     "output_type": "stream",
     "text": [
      "\n",
      " 23%|##3       | 9/39 [00:00<00:00, 84.70it/s]\u001b[A\n",
      " 44%|####3     | 17/39 [00:00<00:00, 80.21it/s]\u001b[A\n",
      " 67%|######6   | 26/39 [00:00<00:00, 81.59it/s]\u001b[A\n",
      " 90%|########9 | 35/39 [00:00<00:00, 83.93it/s]\u001b[A\n",
      "100%|##########| 39/39 [00:00<00:00, 82.14it/s]\u001b[A"
     ]
    },
    {
     "name": "stdout",
     "output_type": "stream",
     "text": [
      "{'ade': 0.3564352, 'fde': 0.76814955}\n",
      "\t last loss:0.000583835, eval on validation:['ade: 0.3564352', 'fde: 0.76814955'], (best ade:0.36655417 at step 6900) \n",
      "\t saving best model...\n",
      "\t done.\n"
     ]
    },
    {
     "name": "stderr",
     "output_type": "stream",
     "text": [
      "100%|██████████| 438/438 [00:19<00:00, 24.87it/s]\n",
      "  0%|          | 1/438 [00:00<00:51,  8.52it/s]"
     ]
    },
    {
     "name": "stdout",
     "output_type": "stream",
     "text": [
      "('Epoca 21.', 'lr:', 0.00039374892)\n"
     ]
    },
    {
     "name": "stderr",
     "output_type": "stream",
     "text": [
      " 54%|█████▍    | 237/438 [00:09<00:08, 25.12it/s]"
     ]
    },
    {
     "name": "stdout",
     "output_type": "stream",
     "text": [
      "\tsaving model 9000...\n"
     ]
    },
    {
     "name": "stderr",
     "output_type": "stream",
     "text": [
      "\n",
      "  0%|          | 0/39 [00:00<?, ?it/s]\u001b[A\n",
      " 23%|##3       | 9/39 [00:00<00:00, 85.09it/s]\u001b[A\n",
      " 38%|###8      | 15/39 [00:00<00:00, 73.78it/s]\u001b[A\n",
      " 62%|######1   | 24/39 [00:00<00:00, 76.47it/s]\u001b[A\n",
      " 85%|########4 | 33/39 [00:00<00:00, 78.69it/s]\u001b[A\n",
      " 55%|█████▌    | 243/438 [00:10<00:17, 10.87it/s]A"
     ]
    },
    {
     "name": "stdout",
     "output_type": "stream",
     "text": [
      "\tdone\n",
      "Evaluating\n",
      "{'ade': 0.36271575, 'fde': 0.7993986}\n",
      "\t last loss:0.000352980, eval on validation:['ade: 0.36271575', 'fde: 0.7993986'], (best ade:0.3564352 at step 8700) \n"
     ]
    },
    {
     "name": "stderr",
     "output_type": "stream",
     "text": [
      "100%|██████████| 438/438 [00:18<00:00, 24.82it/s]\n",
      "  0%|          | 1/438 [00:00<00:51,  8.45it/s]"
     ]
    },
    {
     "name": "stdout",
     "output_type": "stream",
     "text": [
      "('Epoca 22.', 'lr:', 0.00039374892)\n"
     ]
    },
    {
     "name": "stderr",
     "output_type": "stream",
     "text": [
      " 23%|██▎       | 100/438 [00:04<00:13, 24.33it/s]\n",
      "  0%|          | 0/39 [00:00<?, ?it/s]\u001b[A"
     ]
    },
    {
     "name": "stdout",
     "output_type": "stream",
     "text": [
      "\tsaving model 9300...\n",
      "\tdone\n",
      "Evaluating\n"
     ]
    },
    {
     "name": "stderr",
     "output_type": "stream",
     "text": [
      "\n",
      " 23%|##3       | 9/39 [00:00<00:00, 85.42it/s]\u001b[A\n",
      " 41%|####1     | 16/39 [00:00<00:00, 77.34it/s]\u001b[A\n",
      " 64%|######4   | 25/39 [00:00<00:00, 80.22it/s]\u001b[A\n",
      " 90%|########9 | 35/39 [00:00<00:00, 83.91it/s]\u001b[A\n",
      " 24%|██▎       | 103/438 [00:04<00:36,  9.18it/s]A"
     ]
    },
    {
     "name": "stdout",
     "output_type": "stream",
     "text": [
      "{'ade': 0.3820094, 'fde': 0.82797563}\n",
      "\t last loss:0.000564761, eval on validation:['ade: 0.3820094', 'fde: 0.82797563'], (best ade:0.3564352 at step 8700) \n"
     ]
    },
    {
     "name": "stderr",
     "output_type": "stream",
     "text": [
      " 91%|█████████▏| 400/438 [00:16<00:01, 24.82it/s]\n",
      "  0%|          | 0/39 [00:00<?, ?it/s]\u001b[A"
     ]
    },
    {
     "name": "stdout",
     "output_type": "stream",
     "text": [
      "\tsaving model 9600...\n",
      "\tdone\n",
      "Evaluating\n"
     ]
    },
    {
     "name": "stderr",
     "output_type": "stream",
     "text": [
      "\n",
      " 23%|##3       | 9/39 [00:00<00:00, 86.28it/s]\u001b[A\n",
      " 41%|####1     | 16/39 [00:00<00:00, 80.00it/s]\u001b[A\n",
      " 59%|#####8    | 23/39 [00:00<00:00, 74.48it/s]\u001b[A\n",
      " 82%|########2 | 32/39 [00:00<00:00, 78.05it/s]\u001b[A\n",
      " 92%|█████████▏| 403/438 [00:17<00:03,  9.04it/s]A"
     ]
    },
    {
     "name": "stdout",
     "output_type": "stream",
     "text": [
      "{'ade': 0.36565718, 'fde': 0.7991153}\n",
      "\t last loss:0.000303461, eval on validation:['ade: 0.36565718', 'fde: 0.7991153'], (best ade:0.3564352 at step 8700) \n"
     ]
    },
    {
     "name": "stderr",
     "output_type": "stream",
     "text": [
      "100%|██████████| 438/438 [00:19<00:00, 23.03it/s]\n",
      "  0%|          | 2/438 [00:00<00:23, 18.52it/s]"
     ]
    },
    {
     "name": "stdout",
     "output_type": "stream",
     "text": [
      "('Epoca 23.', 'lr:', 0.0003346866)\n"
     ]
    },
    {
     "name": "stderr",
     "output_type": "stream",
     "text": [
      " 60%|██████    | 263/438 [00:10<00:06, 26.14it/s]\n"
     ]
    },
    {
     "name": "stdout",
     "output_type": "stream",
     "text": [
      "\tsaving model 9900...\n",
      "\tdone\n",
      "Evaluating\n"
     ]
    },
    {
     "name": "stderr",
     "output_type": "stream",
     "text": [
      "  0%|          | 0/39 [00:00<?, ?it/s]\u001b[A\n",
      " 23%|##3       | 9/39 [00:00<00:00, 86.53it/s]\u001b[A\n",
      " 46%|####6     | 18/39 [00:00<00:00, 85.52it/s]\u001b[A\n",
      " 69%|######9   | 27/39 [00:00<00:00, 84.45it/s]\u001b[A\n",
      " 85%|########4 | 33/39 [00:00<00:00, 74.41it/s]\u001b[A\n",
      " 61%|██████    | 266/438 [00:11<00:19,  9.00it/s]A"
     ]
    },
    {
     "name": "stdout",
     "output_type": "stream",
     "text": [
      "{'ade': 0.373628, 'fde': 0.8190187}\n",
      "\t last loss:0.000473328, eval on validation:['ade: 0.373628', 'fde: 0.8190187'], (best ade:0.3564352 at step 8700) \n"
     ]
    },
    {
     "name": "stderr",
     "output_type": "stream",
     "text": [
      "100%|██████████| 438/438 [00:18<00:00, 24.24it/s]\n",
      "  0%|          | 1/438 [00:00<00:51,  8.49it/s]"
     ]
    },
    {
     "name": "stdout",
     "output_type": "stream",
     "text": [
      "('Epoca 24.', 'lr:', 0.0003346866)\n"
     ]
    },
    {
     "name": "stderr",
     "output_type": "stream",
     "text": [
      " 28%|██▊       | 124/438 [00:04<00:11, 26.40it/s]\n",
      "  0%|          | 0/39 [00:00<?, ?it/s]\u001b[A"
     ]
    },
    {
     "name": "stdout",
     "output_type": "stream",
     "text": [
      "\tsaving model 10200...\n",
      "\tdone\n",
      "Evaluating\n"
     ]
    },
    {
     "name": "stderr",
     "output_type": "stream",
     "text": [
      "\n",
      " 23%|##3       | 9/39 [00:00<00:00, 89.11it/s]\u001b[A\n",
      " 46%|####6     | 18/39 [00:00<00:00, 88.31it/s]\u001b[A\n",
      " 72%|#######1  | 28/39 [00:00<00:00, 86.90it/s]\u001b[A\n",
      " 90%|########9 | 35/39 [00:00<00:00, 78.28it/s]\u001b[A\n",
      " 30%|██▉       | 130/438 [00:05<00:26, 11.77it/s]A"
     ]
    },
    {
     "name": "stdout",
     "output_type": "stream",
     "text": [
      "{'ade': 0.36219049, 'fde': 0.78974223}\n",
      "\t last loss:0.000445617, eval on validation:['ade: 0.36219049', 'fde: 0.78974223'], (best ade:0.3564352 at step 8700) \n"
     ]
    },
    {
     "name": "stderr",
     "output_type": "stream",
     "text": [
      " 97%|█████████▋| 424/438 [00:17<00:00, 24.95it/s]\n",
      "  0%|          | 0/39 [00:00<?, ?it/s]\u001b[A"
     ]
    },
    {
     "name": "stdout",
     "output_type": "stream",
     "text": [
      "\tsaving model 10500...\n",
      "\tdone\n",
      "Evaluating\n"
     ]
    },
    {
     "name": "stderr",
     "output_type": "stream",
     "text": [
      "\n",
      " 23%|##3       | 9/39 [00:00<00:00, 87.48it/s]\u001b[A\n",
      " 44%|####3     | 17/39 [00:00<00:00, 83.09it/s]\u001b[A\n",
      " 62%|######1   | 24/39 [00:00<00:00, 76.63it/s]\u001b[A\n",
      " 85%|########4 | 33/39 [00:00<00:00, 78.57it/s]\u001b[A\n",
      " 97%|█████████▋| 427/438 [00:18<00:01,  8.89it/s]A"
     ]
    },
    {
     "name": "stdout",
     "output_type": "stream",
     "text": [
      "{'ade': 0.35707104, 'fde': 0.7789233}\n",
      "\t last loss:0.000437991, eval on validation:['ade: 0.35707104', 'fde: 0.7789233'], (best ade:0.3564352 at step 8700) \n"
     ]
    },
    {
     "name": "stderr",
     "output_type": "stream",
     "text": [
      "100%|██████████| 438/438 [00:18<00:00, 23.55it/s]\n",
      "  1%|          | 3/438 [00:00<00:18, 24.13it/s]"
     ]
    },
    {
     "name": "stdout",
     "output_type": "stream",
     "text": [
      "('Epoca 25.', 'lr:', 0.00028448363)\n"
     ]
    },
    {
     "name": "stderr",
     "output_type": "stream",
     "text": [
      " 65%|██████▌   | 285/438 [00:11<00:05, 25.87it/s]\n",
      "  0%|          | 0/39 [00:00<?, ?it/s]\u001b[A"
     ]
    },
    {
     "name": "stdout",
     "output_type": "stream",
     "text": [
      "\tsaving model 10800...\n",
      "\tdone\n",
      "Evaluating\n"
     ]
    },
    {
     "name": "stderr",
     "output_type": "stream",
     "text": [
      "\n",
      " 23%|##3       | 9/39 [00:00<00:00, 84.59it/s]\u001b[A\n",
      " 49%|####8     | 19/39 [00:00<00:00, 85.67it/s]\u001b[A\n",
      " 72%|#######1  | 28/39 [00:00<00:00, 86.87it/s]\u001b[A\n",
      " 97%|#########7| 38/39 [00:00<00:00, 88.70it/s]\u001b[A\n",
      "100%|##########| 39/39 [00:00<00:00, 87.67it/s]\u001b[A"
     ]
    },
    {
     "name": "stdout",
     "output_type": "stream",
     "text": [
      "{'ade': 0.35480177, 'fde': 0.76275474}\n",
      "\t last loss:0.000196909, eval on validation:['ade: 0.35480177', 'fde: 0.76275474'], (best ade:0.3564352 at step 8700) \n",
      "\t saving best model...\n",
      "\t done.\n"
     ]
    },
    {
     "name": "stderr",
     "output_type": "stream",
     "text": [
      "100%|██████████| 438/438 [00:18<00:00, 26.39it/s]\n",
      "  1%|          | 3/438 [00:00<00:17, 25.56it/s]"
     ]
    },
    {
     "name": "stdout",
     "output_type": "stream",
     "text": [
      "('Epoca 26.', 'lr:', 0.00028448363)\n"
     ]
    },
    {
     "name": "stderr",
     "output_type": "stream",
     "text": [
      " 34%|███▎      | 147/438 [00:05<00:11, 24.71it/s]\n",
      "  0%|          | 0/39 [00:00<?, ?it/s]\u001b[A"
     ]
    },
    {
     "name": "stdout",
     "output_type": "stream",
     "text": [
      "\tsaving model 11100...\n",
      "\tdone\n",
      "Evaluating\n"
     ]
    },
    {
     "name": "stderr",
     "output_type": "stream",
     "text": [
      "\n",
      " 23%|##3       | 9/39 [00:00<00:00, 84.46it/s]\u001b[A\n",
      " 38%|###8      | 15/39 [00:00<00:00, 72.59it/s]\u001b[A\n",
      " 59%|#####8    | 23/39 [00:00<00:00, 72.58it/s]\u001b[A\n",
      " 82%|########2 | 32/39 [00:00<00:00, 74.58it/s]\u001b[A\n",
      "100%|##########| 39/39 [00:00<00:00, 73.22it/s]\u001b[A"
     ]
    },
    {
     "name": "stdout",
     "output_type": "stream",
     "text": [
      "{'ade': 0.35444474, 'fde': 0.7634732}\n",
      "\t last loss:0.000427095, eval on validation:['ade: 0.35444474', 'fde: 0.7634732'], (best ade:0.35480177 at step 10800) \n",
      "\t saving best model...\n"
     ]
    },
    {
     "name": "stderr",
     "output_type": "stream",
     "text": [
      " 35%|███▍      | 153/438 [00:06<00:30,  9.34it/s]"
     ]
    },
    {
     "name": "stdout",
     "output_type": "stream",
     "text": [
      "\t done.\n"
     ]
    },
    {
     "name": "stderr",
     "output_type": "stream",
     "text": [
      "100%|██████████| 438/438 [00:18<00:00, 26.43it/s]\n",
      "  0%|          | 2/438 [00:00<00:32, 13.52it/s]"
     ]
    },
    {
     "name": "stdout",
     "output_type": "stream",
     "text": [
      "('Epoca 27.', 'lr:', 0.0002418111)\n"
     ]
    },
    {
     "name": "stderr",
     "output_type": "stream",
     "text": [
      "  3%|▎         | 11/438 [00:00<00:21, 19.79it/s]\n",
      "  0%|          | 0/39 [00:00<?, ?it/s]\u001b[A"
     ]
    },
    {
     "name": "stdout",
     "output_type": "stream",
     "text": [
      "\tsaving model 11400...\n",
      "\tdone\n",
      "Evaluating\n"
     ]
    },
    {
     "name": "stderr",
     "output_type": "stream",
     "text": [
      "\n",
      " 26%|##5       | 10/39 [00:00<00:00, 94.61it/s]\u001b[A\n",
      " 44%|####3     | 17/39 [00:00<00:00, 84.49it/s]\u001b[A\n",
      " 67%|######6   | 26/39 [00:00<00:00, 84.43it/s]\u001b[A\n",
      " 90%|########9 | 35/39 [00:00<00:00, 85.22it/s]\u001b[A\n",
      "100%|##########| 39/39 [00:00<00:00, 83.04it/s]\u001b[A"
     ]
    },
    {
     "name": "stdout",
     "output_type": "stream",
     "text": [
      "{'ade': 0.34533748, 'fde': 0.7392293}\n",
      "\t last loss:0.000378310, eval on validation:['ade: 0.34533748', 'fde: 0.7392293'], (best ade:0.35444474 at step 11100) \n",
      "\t saving best model...\n"
     ]
    },
    {
     "name": "stderr",
     "output_type": "stream",
     "text": [
      "\r",
      "  3%|▎         | 13/438 [00:01<01:15,  5.62it/s]"
     ]
    },
    {
     "name": "stdout",
     "output_type": "stream",
     "text": [
      "\t done.\n"
     ]
    },
    {
     "name": "stderr",
     "output_type": "stream",
     "text": [
      " 71%|███████   | 311/438 [00:13<00:04, 25.73it/s]\n",
      "  0%|          | 0/39 [00:00<?, ?it/s]\u001b[A"
     ]
    },
    {
     "name": "stdout",
     "output_type": "stream",
     "text": [
      "\tsaving model 11700...\n",
      "\tdone\n",
      "Evaluating\n"
     ]
    },
    {
     "name": "stderr",
     "output_type": "stream",
     "text": [
      "\n",
      " 26%|##5       | 10/39 [00:00<00:00, 93.26it/s]\u001b[A\n",
      " 44%|####3     | 17/39 [00:00<00:00, 84.19it/s]\u001b[A\n",
      " 64%|######4   | 25/39 [00:00<00:00, 81.24it/s]\u001b[A\n",
      " 85%|########4 | 33/39 [00:00<00:00, 78.19it/s]\u001b[A\n",
      " 72%|███████▏  | 314/438 [00:14<00:13,  9.19it/s]A"
     ]
    },
    {
     "name": "stdout",
     "output_type": "stream",
     "text": [
      "{'ade': 0.37073696, 'fde': 0.8146353}\n",
      "\t last loss:0.000951675, eval on validation:['ade: 0.37073696', 'fde: 0.8146353'], (best ade:0.34533748 at step 11400) \n"
     ]
    },
    {
     "name": "stderr",
     "output_type": "stream",
     "text": [
      "100%|██████████| 438/438 [00:19<00:00, 22.76it/s]\n",
      "  1%|          | 3/438 [00:00<00:18, 24.05it/s]"
     ]
    },
    {
     "name": "stdout",
     "output_type": "stream",
     "text": [
      "('Epoca 28.', 'lr:', 0.0002418111)\n"
     ]
    },
    {
     "name": "stderr",
     "output_type": "stream",
     "text": [
      " 39%|███▉      | 171/438 [00:06<00:10, 25.04it/s]\n",
      "  0%|          | 0/39 [00:00<?, ?it/s]\u001b[A"
     ]
    },
    {
     "name": "stdout",
     "output_type": "stream",
     "text": [
      "\tsaving model 12000...\n",
      "\tdone\n",
      "Evaluating\n"
     ]
    },
    {
     "name": "stderr",
     "output_type": "stream",
     "text": [
      "\n",
      " 21%|##        | 8/39 [00:00<00:00, 79.71it/s]\u001b[A\n",
      " 44%|####3     | 17/39 [00:00<00:00, 81.12it/s]\u001b[A\n",
      " 67%|######6   | 26/39 [00:00<00:00, 81.79it/s]\u001b[A\n",
      " 87%|########7 | 34/39 [00:00<00:00, 77.91it/s]\u001b[A\n",
      " 40%|████      | 177/438 [00:07<00:23, 11.13it/s]A"
     ]
    },
    {
     "name": "stdout",
     "output_type": "stream",
     "text": [
      "{'ade': 0.35368726, 'fde': 0.7548567}\n",
      "\t last loss:0.000353415, eval on validation:['ade: 0.35368726', 'fde: 0.7548567'], (best ade:0.34533748 at step 11400) \n"
     ]
    },
    {
     "name": "stderr",
     "output_type": "stream",
     "text": [
      "100%|██████████| 438/438 [00:18<00:00, 25.12it/s]\n",
      "  0%|          | 1/438 [00:00<00:52,  8.34it/s]"
     ]
    },
    {
     "name": "stdout",
     "output_type": "stream",
     "text": [
      "('Epoca 29.', 'lr:', 0.00020553943)\n"
     ]
    },
    {
     "name": "stderr",
     "output_type": "stream",
     "text": [
      "  8%|▊         | 34/438 [00:01<00:15, 25.32it/s]\n",
      "  0%|          | 0/39 [00:00<?, ?it/s]\u001b[A"
     ]
    },
    {
     "name": "stdout",
     "output_type": "stream",
     "text": [
      "\tsaving model 12300...\n",
      "\tdone\n",
      "Evaluating\n"
     ]
    },
    {
     "name": "stderr",
     "output_type": "stream",
     "text": [
      "\n",
      " 23%|##3       | 9/39 [00:00<00:00, 88.30it/s]\u001b[A\n",
      " 44%|####3     | 17/39 [00:00<00:00, 82.23it/s]\u001b[A\n",
      " 67%|######6   | 26/39 [00:00<00:00, 83.83it/s]\u001b[A\n",
      " 92%|#########2| 36/39 [00:00<00:00, 86.21it/s]\u001b[A\n",
      "  8%|▊         | 37/438 [00:02<00:42,  9.52it/s][A"
     ]
    },
    {
     "name": "stdout",
     "output_type": "stream",
     "text": [
      "{'ade': 0.35375303, 'fde': 0.75284684}\n",
      "\t last loss:0.000420342, eval on validation:['ade: 0.35375303', 'fde: 0.75284684'], (best ade:0.34533748 at step 11400) \n"
     ]
    },
    {
     "name": "stderr",
     "output_type": "stream",
     "text": [
      " 76%|███████▋  | 334/438 [00:13<00:04, 24.49it/s]\n",
      "  0%|          | 0/39 [00:00<?, ?it/s]\u001b[A"
     ]
    },
    {
     "name": "stdout",
     "output_type": "stream",
     "text": [
      "\tsaving model 12600...\n",
      "\tdone\n",
      "Evaluating\n"
     ]
    },
    {
     "name": "stderr",
     "output_type": "stream",
     "text": [
      "\n",
      " 23%|##3       | 9/39 [00:00<00:00, 87.42it/s]\u001b[A\n",
      " 41%|####1     | 16/39 [00:00<00:00, 79.07it/s]\u001b[A\n",
      " 59%|#####8    | 23/39 [00:00<00:00, 75.20it/s]\u001b[A\n",
      " 79%|#######9  | 31/39 [00:00<00:00, 75.31it/s]\u001b[A\n",
      "100%|##########| 39/39 [00:00<00:00, 76.30it/s]\u001b[A"
     ]
    },
    {
     "name": "stdout",
     "output_type": "stream",
     "text": [
      "{'ade': 0.34523422, 'fde': 0.74016654}\n",
      "\t last loss:0.000325456, eval on validation:['ade: 0.34523422', 'fde: 0.74016654'], (best ade:0.34533748 at step 11400) \n",
      "\t saving best model...\n"
     ]
    },
    {
     "name": "stderr",
     "output_type": "stream",
     "text": [
      "100%|██████████| 438/438 [00:18<00:00, 23.06it/s]\n",
      "  1%|          | 3/438 [00:00<00:16, 25.76it/s]"
     ]
    },
    {
     "name": "stdout",
     "output_type": "stream",
     "text": [
      "\t done.\n",
      "('Epoca 30.', 'lr:', 0.00020553943)\n"
     ]
    },
    {
     "name": "stderr",
     "output_type": "stream",
     "text": [
      " 45%|████▍     | 195/438 [00:07<00:09, 25.39it/s]\n",
      "  0%|          | 0/39 [00:00<?, ?it/s]\u001b[A"
     ]
    },
    {
     "name": "stdout",
     "output_type": "stream",
     "text": [
      "\tsaving model 12900...\n",
      "\tdone\n",
      "Evaluating\n"
     ]
    },
    {
     "name": "stderr",
     "output_type": "stream",
     "text": [
      "\n",
      " 26%|##5       | 10/39 [00:00<00:00, 94.06it/s]\u001b[A\n",
      " 51%|#####1    | 20/39 [00:00<00:00, 93.53it/s]\u001b[A\n",
      " 77%|#######6  | 30/39 [00:00<00:00, 93.36it/s]\u001b[A\n",
      " 46%|████▌     | 201/438 [00:08<00:20, 11.77it/s]A"
     ]
    },
    {
     "name": "stdout",
     "output_type": "stream",
     "text": [
      "{'ade': 0.34994563, 'fde': 0.756758}\n",
      "\t last loss:0.000246887, eval on validation:['ade: 0.34994563', 'fde: 0.756758'], (best ade:0.34523422 at step 12600) \n"
     ]
    },
    {
     "name": "stderr",
     "output_type": "stream",
     "text": [
      "100%|██████████| 438/438 [00:18<00:00, 24.42it/s]\n",
      "  0%|          | 1/438 [00:00<00:46,  9.50it/s]"
     ]
    },
    {
     "name": "stdout",
     "output_type": "stream",
     "text": [
      "('Epoca 31.', 'lr:', 0.00017470852)\n"
     ]
    },
    {
     "name": "stderr",
     "output_type": "stream",
     "text": [
      " 13%|█▎        | 58/438 [00:02<00:15, 24.92it/s]"
     ]
    },
    {
     "name": "stdout",
     "output_type": "stream",
     "text": [
      "\tsaving model 13200...\n"
     ]
    },
    {
     "name": "stderr",
     "output_type": "stream",
     "text": [
      "\n",
      "  0%|          | 0/39 [00:00<?, ?it/s]\u001b[A\n",
      " 23%|##3       | 9/39 [00:00<00:00, 87.70it/s]\u001b[A"
     ]
    },
    {
     "name": "stdout",
     "output_type": "stream",
     "text": [
      "\tdone\n",
      "Evaluating\n"
     ]
    },
    {
     "name": "stderr",
     "output_type": "stream",
     "text": [
      "\n",
      " 46%|####6     | 18/39 [00:00<00:00, 88.19it/s]\u001b[A\n",
      " 72%|#######1  | 28/39 [00:00<00:00, 89.42it/s]\u001b[A\n",
      " 95%|#########4| 37/39 [00:00<00:00, 87.96it/s]\u001b[A\n",
      "100%|##########| 39/39 [00:00<00:00, 85.52it/s]\u001b[A"
     ]
    },
    {
     "name": "stdout",
     "output_type": "stream",
     "text": [
      "{'ade': 0.33963907, 'fde': 0.7256297}\n",
      "\t last loss:0.000390853, eval on validation:['ade: 0.33963907', 'fde: 0.7256297'], (best ade:0.34523422 at step 12600) \n",
      "\t saving best model...\n",
      "\t done.\n"
     ]
    },
    {
     "name": "stderr",
     "output_type": "stream",
     "text": [
      " 82%|████████▏ | 358/438 [00:15<00:03, 25.21it/s]\n",
      "  0%|          | 0/39 [00:00<?, ?it/s]\u001b[A"
     ]
    },
    {
     "name": "stdout",
     "output_type": "stream",
     "text": [
      "\tsaving model 13500...\n",
      "\tdone\n",
      "Evaluating\n"
     ]
    },
    {
     "name": "stderr",
     "output_type": "stream",
     "text": [
      "\n",
      " 23%|##3       | 9/39 [00:00<00:00, 83.19it/s]\u001b[A\n",
      " 44%|####3     | 17/39 [00:00<00:00, 80.98it/s]\u001b[A\n",
      " 62%|######1   | 24/39 [00:00<00:00, 75.43it/s]\u001b[A\n",
      " 82%|########2 | 32/39 [00:00<00:00, 75.11it/s]\u001b[A\n",
      "100%|##########| 39/39 [00:00<00:00, 75.55it/s]\u001b[A"
     ]
    },
    {
     "name": "stdout",
     "output_type": "stream",
     "text": [
      "{'ade': 0.33801126, 'fde': 0.72235554}\n",
      "\t last loss:0.000271772, eval on validation:['ade: 0.33801126', 'fde: 0.72235554'], (best ade:0.33963907 at step 13200) \n",
      "\t saving best model...\n",
      "\t done.\n"
     ]
    },
    {
     "name": "stderr",
     "output_type": "stream",
     "text": [
      "100%|██████████| 438/438 [00:19<00:00, 22.60it/s]\n",
      "  0%|          | 1/438 [00:00<00:44,  9.73it/s]"
     ]
    },
    {
     "name": "stdout",
     "output_type": "stream",
     "text": [
      "('Epoca 32.', 'lr:', 0.00017470852)\n"
     ]
    },
    {
     "name": "stderr",
     "output_type": "stream",
     "text": [
      " 50%|█████     | 220/438 [00:08<00:08, 26.63it/s]\n",
      "  0%|          | 0/39 [00:00<?, ?it/s]\u001b[A"
     ]
    },
    {
     "name": "stdout",
     "output_type": "stream",
     "text": [
      "\tsaving model 13800...\n",
      "\tdone\n",
      "Evaluating\n"
     ]
    },
    {
     "name": "stderr",
     "output_type": "stream",
     "text": [
      "\n",
      " 26%|##5       | 10/39 [00:00<00:00, 93.30it/s]\u001b[A\n",
      " 49%|####8     | 19/39 [00:00<00:00, 90.91it/s]\u001b[A\n",
      " 67%|######6   | 26/39 [00:00<00:00, 81.91it/s]\u001b[A\n",
      " 90%|########9 | 35/39 [00:00<00:00, 82.91it/s]\u001b[A\n",
      " 51%|█████     | 223/438 [00:09<00:22,  9.61it/s]A"
     ]
    },
    {
     "name": "stdout",
     "output_type": "stream",
     "text": [
      "{'ade': 0.34771374, 'fde': 0.7466274}\n",
      "\t last loss:0.000267316, eval on validation:['ade: 0.34771374', 'fde: 0.7466274'], (best ade:0.33801126 at step 13500) \n"
     ]
    },
    {
     "name": "stderr",
     "output_type": "stream",
     "text": [
      "100%|██████████| 438/438 [00:18<00:00, 24.29it/s]\n",
      "  0%|          | 1/438 [00:00<00:49,  8.91it/s]"
     ]
    },
    {
     "name": "stdout",
     "output_type": "stream",
     "text": [
      "('Epoca 33.', 'lr:', 0.00014850224)\n"
     ]
    },
    {
     "name": "stderr",
     "output_type": "stream",
     "text": [
      " 19%|█▊        | 82/438 [00:03<00:14, 24.31it/s]\n",
      "  0%|          | 0/39 [00:00<?, ?it/s]"
     ]
    },
    {
     "name": "stdout",
     "output_type": "stream",
     "text": [
      "\tsaving model 14100...\n",
      "\tdone\n",
      "Evaluating\n"
     ]
    },
    {
     "name": "stderr",
     "output_type": "stream",
     "text": [
      "\u001b[A\n",
      " 23%|##3       | 9/39 [00:00<00:00, 86.24it/s]\u001b[A\n",
      " 46%|####6     | 18/39 [00:00<00:00, 85.95it/s]\u001b[A\n",
      " 69%|######9   | 27/39 [00:00<00:00, 85.06it/s]\u001b[A\n",
      " 87%|########7 | 34/39 [00:00<00:00, 76.12it/s]\u001b[A\n",
      " 19%|█▉        | 85/438 [00:04<00:40,  8.62it/s][A"
     ]
    },
    {
     "name": "stdout",
     "output_type": "stream",
     "text": [
      "{'ade': 0.34699532, 'fde': 0.74492437}\n",
      "\t last loss:0.000472448, eval on validation:['ade: 0.34699532', 'fde: 0.74492437'], (best ade:0.33801126 at step 13500) \n"
     ]
    },
    {
     "name": "stderr",
     "output_type": "stream",
     "text": [
      " 87%|████████▋ | 382/438 [00:15<00:02, 26.60it/s]\n",
      "  0%|          | 0/39 [00:00<?, ?it/s]\u001b[A"
     ]
    },
    {
     "name": "stdout",
     "output_type": "stream",
     "text": [
      "\tsaving model 14400...\n",
      "\tdone\n",
      "Evaluating\n"
     ]
    },
    {
     "name": "stderr",
     "output_type": "stream",
     "text": [
      "\n",
      " 23%|##3       | 9/39 [00:00<00:00, 84.35it/s]\u001b[A\n",
      " 49%|####8     | 19/39 [00:00<00:00, 86.31it/s]\u001b[A\n",
      " 74%|#######4  | 29/39 [00:00<00:00, 88.32it/s]\u001b[A\n",
      " 97%|#########7| 38/39 [00:00<00:00, 88.28it/s]\u001b[A\n",
      " 88%|████████▊ | 385/438 [00:16<00:05,  9.63it/s]A"
     ]
    },
    {
     "name": "stdout",
     "output_type": "stream",
     "text": [
      "{'ade': 0.35640272, 'fde': 0.7670398}\n",
      "\t last loss:0.000653913, eval on validation:['ade: 0.35640272', 'fde: 0.7670398'], (best ade:0.33801126 at step 13500) \n"
     ]
    },
    {
     "name": "stderr",
     "output_type": "stream",
     "text": [
      "100%|██████████| 438/438 [00:19<00:00, 23.02it/s]\n",
      "  0%|          | 1/438 [00:00<00:55,  7.94it/s]"
     ]
    },
    {
     "name": "stdout",
     "output_type": "stream",
     "text": [
      "('Epoca 34.', 'lr:', 0.00014850224)\n"
     ]
    },
    {
     "name": "stderr",
     "output_type": "stream",
     "text": [
      " 56%|█████▌    | 244/438 [00:09<00:07, 24.80it/s]\n",
      "  0%|          | 0/39 [00:00<?, ?it/s]\u001b[A"
     ]
    },
    {
     "name": "stdout",
     "output_type": "stream",
     "text": [
      "\tsaving model 14700...\n",
      "\tdone\n",
      "Evaluating\n"
     ]
    },
    {
     "name": "stderr",
     "output_type": "stream",
     "text": [
      "\n",
      " 21%|##        | 8/39 [00:00<00:00, 77.57it/s]\u001b[A\n",
      " 44%|####3     | 17/39 [00:00<00:00, 78.60it/s]\u001b[A\n",
      " 67%|######6   | 26/39 [00:00<00:00, 80.59it/s]\u001b[A\n",
      " 90%|########9 | 35/39 [00:00<00:00, 82.02it/s]\u001b[A\n",
      " 56%|█████▋    | 247/438 [00:10<00:21,  9.04it/s]A"
     ]
    },
    {
     "name": "stdout",
     "output_type": "stream",
     "text": [
      "{'ade': 0.3407266, 'fde': 0.72916424}\n",
      "\t last loss:0.000433775, eval on validation:['ade: 0.3407266', 'fde: 0.72916424'], (best ade:0.33801126 at step 13500) \n"
     ]
    },
    {
     "name": "stderr",
     "output_type": "stream",
     "text": [
      "100%|██████████| 438/438 [00:18<00:00, 24.08it/s]\n",
      "  0%|          | 1/438 [00:00<00:49,  8.81it/s]"
     ]
    },
    {
     "name": "stdout",
     "output_type": "stream",
     "text": [
      "('Epoca 35.', 'lr:', 0.0001262269)\n"
     ]
    },
    {
     "name": "stderr",
     "output_type": "stream",
     "text": [
      " 24%|██▍       | 106/438 [00:04<00:12, 25.81it/s]"
     ]
    },
    {
     "name": "stdout",
     "output_type": "stream",
     "text": [
      "\tsaving model 15000...\n"
     ]
    },
    {
     "name": "stderr",
     "output_type": "stream",
     "text": [
      "\n",
      "  0%|          | 0/39 [00:00<?, ?it/s]\u001b[A\n",
      " 23%|##3       | 9/39 [00:00<00:00, 85.32it/s]\u001b[A\n",
      " 46%|####6     | 18/39 [00:00<00:00, 85.09it/s]\u001b[A\n",
      " 69%|######9   | 27/39 [00:00<00:00, 83.98it/s]\u001b[A\n",
      " 87%|########7 | 34/39 [00:00<00:00, 77.88it/s]\u001b[A\n",
      " 25%|██▍       | 109/438 [00:05<00:36,  8.90it/s]A"
     ]
    },
    {
     "name": "stdout",
     "output_type": "stream",
     "text": [
      "\tdone\n",
      "Evaluating\n",
      "{'ade': 0.34017316, 'fde': 0.7273367}\n",
      "\t last loss:0.000187859, eval on validation:['ade: 0.34017316', 'fde: 0.7273367'], (best ade:0.33801126 at step 13500) \n"
     ]
    },
    {
     "name": "stderr",
     "output_type": "stream",
     "text": [
      " 93%|█████████▎| 406/438 [00:16<00:01, 26.56it/s]\n",
      "  0%|          | 0/39 [00:00<?, ?it/s]\u001b[A"
     ]
    },
    {
     "name": "stdout",
     "output_type": "stream",
     "text": [
      "\tsaving model 15300...\n",
      "\tdone\n",
      "Evaluating\n"
     ]
    },
    {
     "name": "stderr",
     "output_type": "stream",
     "text": [
      "\n",
      " 26%|##5       | 10/39 [00:00<00:00, 94.92it/s]\u001b[A\n",
      " 51%|#####1    | 20/39 [00:00<00:00, 94.21it/s]\u001b[A\n",
      " 69%|######9   | 27/39 [00:00<00:00, 85.24it/s]\u001b[A\n",
      " 92%|#########2| 36/39 [00:00<00:00, 85.96it/s]\u001b[A\n",
      "100%|##########| 39/39 [00:00<00:00, 85.92it/s]\u001b[A"
     ]
    },
    {
     "name": "stdout",
     "output_type": "stream",
     "text": [
      "{'ade': 0.3359134, 'fde': 0.7176903}\n",
      "\t last loss:0.000301786, eval on validation:['ade: 0.3359134', 'fde: 0.7176903'], (best ade:0.33801126 at step 13500) \n",
      "\t saving best model...\n",
      "\t done.\n"
     ]
    },
    {
     "name": "stderr",
     "output_type": "stream",
     "text": [
      "100%|██████████| 438/438 [00:19<00:00, 22.91it/s]\n",
      "  0%|          | 1/438 [00:00<00:48,  9.09it/s]"
     ]
    },
    {
     "name": "stdout",
     "output_type": "stream",
     "text": [
      "('Epoca 36.', 'lr:', 0.0001262269)\n"
     ]
    },
    {
     "name": "stderr",
     "output_type": "stream",
     "text": [
      " 61%|██████    | 268/438 [00:10<00:06, 25.20it/s]"
     ]
    },
    {
     "name": "stdout",
     "output_type": "stream",
     "text": [
      "\tsaving model 15600...\n"
     ]
    },
    {
     "name": "stderr",
     "output_type": "stream",
     "text": [
      "\n",
      "  0%|          | 0/39 [00:00<?, ?it/s]\u001b[A\n",
      " 23%|##3       | 9/39 [00:00<00:00, 85.06it/s]\u001b[A\n",
      " 46%|####6     | 18/39 [00:00<00:00, 83.36it/s]\u001b[A\n",
      " 64%|######4   | 25/39 [00:00<00:00, 76.83it/s]\u001b[A\n",
      " 87%|########7 | 34/39 [00:00<00:00, 78.83it/s]\u001b[A\n",
      " 62%|██████▏   | 271/438 [00:11<00:18,  8.95it/s]A"
     ]
    },
    {
     "name": "stdout",
     "output_type": "stream",
     "text": [
      "\tdone\n",
      "Evaluating\n",
      "{'ade': 0.3456445, 'fde': 0.7382514}\n",
      "\t last loss:0.000541674, eval on validation:['ade: 0.3456445', 'fde: 0.7382514'], (best ade:0.3359134 at step 15300) \n"
     ]
    },
    {
     "name": "stderr",
     "output_type": "stream",
     "text": [
      "100%|██████████| 438/438 [00:18<00:00, 24.21it/s]\n",
      "  1%|          | 3/438 [00:00<00:19, 21.96it/s]"
     ]
    },
    {
     "name": "stdout",
     "output_type": "stream",
     "text": [
      "('Epoca 37.', 'lr:', 0.00010729288)\n"
     ]
    },
    {
     "name": "stderr",
     "output_type": "stream",
     "text": [
      " 29%|██▉       | 129/438 [00:05<00:11, 26.19it/s]\n",
      "  0%|          | 0/39 [00:00<?, ?it/s]\u001b[A"
     ]
    },
    {
     "name": "stdout",
     "output_type": "stream",
     "text": [
      "\tsaving model 15900...\n",
      "\tdone\n",
      "Evaluating\n"
     ]
    },
    {
     "name": "stderr",
     "output_type": "stream",
     "text": [
      "\n",
      " 26%|##5       | 10/39 [00:00<00:00, 91.78it/s]\u001b[A\n",
      " 49%|####8     | 19/39 [00:00<00:00, 90.49it/s]\u001b[A\n",
      " 72%|#######1  | 28/39 [00:00<00:00, 88.44it/s]\u001b[A\n",
      " 92%|#########2| 36/39 [00:00<00:00, 84.90it/s]\u001b[A\n",
      " 31%|███       | 135/438 [00:06<00:25, 11.78it/s]A"
     ]
    },
    {
     "name": "stdout",
     "output_type": "stream",
     "text": [
      "{'ade': 0.34032685, 'fde': 0.7319246}\n",
      "\t last loss:0.000243457, eval on validation:['ade: 0.34032685', 'fde: 0.7319246'], (best ade:0.3359134 at step 15300) \n"
     ]
    },
    {
     "name": "stderr",
     "output_type": "stream",
     "text": [
      " 98%|█████████▊| 429/438 [00:17<00:00, 24.77it/s]\n"
     ]
    },
    {
     "name": "stdout",
     "output_type": "stream",
     "text": [
      "\tsaving model 16200...\n",
      "\tdone\n",
      "Evaluating\n"
     ]
    },
    {
     "name": "stderr",
     "output_type": "stream",
     "text": [
      "  0%|          | 0/39 [00:00<?, ?it/s]\u001b[A\n",
      " 23%|##3       | 9/39 [00:00<00:00, 87.47it/s]\u001b[A\n",
      " 46%|####6     | 18/39 [00:00<00:00, 86.85it/s]\u001b[A\n",
      " 62%|######1   | 24/39 [00:00<00:00, 76.36it/s]\u001b[A\n",
      " 82%|########2 | 32/39 [00:00<00:00, 75.91it/s]\u001b[A\n",
      " 99%|█████████▉| 435/438 [00:18<00:00, 10.69it/s]A"
     ]
    },
    {
     "name": "stdout",
     "output_type": "stream",
     "text": [
      "{'ade': 0.33808577, 'fde': 0.72019136}\n",
      "\t last loss:0.000340892, eval on validation:['ade: 0.33808577', 'fde: 0.72019136'], (best ade:0.3359134 at step 15300) \n"
     ]
    },
    {
     "name": "stderr",
     "output_type": "stream",
     "text": [
      "100%|██████████| 438/438 [00:18<00:00, 12.67it/s]\n",
      "  0%|          | 1/438 [00:00<00:48,  8.97it/s]"
     ]
    },
    {
     "name": "stdout",
     "output_type": "stream",
     "text": [
      "('Epoca 38.', 'lr:', 0.00010729288)\n"
     ]
    },
    {
     "name": "stderr",
     "output_type": "stream",
     "text": [
      " 67%|██████▋   | 292/438 [00:11<00:05, 26.68it/s]\n",
      "  0%|          | 0/39 [00:00<?, ?it/s]\u001b[A"
     ]
    },
    {
     "name": "stdout",
     "output_type": "stream",
     "text": [
      "\tsaving model 16500...\n",
      "\tdone\n",
      "Evaluating\n"
     ]
    },
    {
     "name": "stderr",
     "output_type": "stream",
     "text": [
      "\n",
      " 23%|##3       | 9/39 [00:00<00:00, 83.66it/s]\u001b[A\n",
      " 41%|####1     | 16/39 [00:00<00:00, 76.88it/s]\u001b[A\n",
      " 67%|######6   | 26/39 [00:00<00:00, 80.94it/s]\u001b[A\n",
      " 92%|#########2| 36/39 [00:00<00:00, 84.47it/s]\u001b[A\n",
      " 67%|██████▋   | 295/438 [00:12<00:15,  9.44it/s]A"
     ]
    },
    {
     "name": "stdout",
     "output_type": "stream",
     "text": [
      "{'ade': 0.3411148, 'fde': 0.7311797}\n",
      "\t last loss:0.000538548, eval on validation:['ade: 0.3411148', 'fde: 0.7311797'], (best ade:0.3359134 at step 15300) \n"
     ]
    },
    {
     "name": "stderr",
     "output_type": "stream",
     "text": [
      "100%|██████████| 438/438 [00:18<00:00, 24.20it/s]\n",
      "  0%|          | 2/438 [00:00<00:27, 15.72it/s]"
     ]
    },
    {
     "name": "stdout",
     "output_type": "stream",
     "text": [
      "('Epoca 39.', 'lr:', 9.119895e-05)\n"
     ]
    },
    {
     "name": "stderr",
     "output_type": "stream",
     "text": [
      " 35%|███▌      | 155/438 [00:06<00:11, 24.72it/s]\n",
      "  0%|          | 0/39 [00:00<?, ?it/s]\u001b[A"
     ]
    },
    {
     "name": "stdout",
     "output_type": "stream",
     "text": [
      "\tsaving model 16800...\n",
      "\tdone\n",
      "Evaluating\n"
     ]
    },
    {
     "name": "stderr",
     "output_type": "stream",
     "text": [
      "\n",
      " 26%|##5       | 10/39 [00:00<00:00, 92.65it/s]\u001b[A\n",
      " 49%|####8     | 19/39 [00:00<00:00, 91.49it/s]\u001b[A\n",
      " 72%|#######1  | 28/39 [00:00<00:00, 89.90it/s]\u001b[A\n",
      " 90%|########9 | 35/39 [00:00<00:00, 80.15it/s]\u001b[A\n",
      " 36%|███▌      | 158/438 [00:06<00:29,  9.42it/s]A"
     ]
    },
    {
     "name": "stdout",
     "output_type": "stream",
     "text": [
      "{'ade': 0.34014338, 'fde': 0.73146456}\n",
      "\t last loss:0.000523707, eval on validation:['ade: 0.34014338', 'fde: 0.73146456'], (best ade:0.3359134 at step 15300) \n"
     ]
    },
    {
     "name": "stderr",
     "output_type": "stream",
     "text": [
      "100%|██████████| 438/438 [00:18<00:00, 24.23it/s]\n",
      "  0%|          | 1/438 [00:00<00:44,  9.81it/s]"
     ]
    },
    {
     "name": "stdout",
     "output_type": "stream",
     "text": [
      "('Epoca 40.', 'lr:', 9.119895e-05)\n"
     ]
    },
    {
     "name": "stderr",
     "output_type": "stream",
     "text": [
      "  4%|▎         | 16/438 [00:00<00:20, 20.29it/s]\n",
      "  0%|          | 0/39 [00:00<?, ?it/s]\u001b[A"
     ]
    },
    {
     "name": "stdout",
     "output_type": "stream",
     "text": [
      "\tsaving model 17100...\n",
      "\tdone\n",
      "Evaluating\n"
     ]
    },
    {
     "name": "stderr",
     "output_type": "stream",
     "text": [
      "\n",
      " 26%|##5       | 10/39 [00:00<00:00, 94.09it/s]\u001b[A\n",
      " 51%|#####1    | 20/39 [00:00<00:00, 93.55it/s]\u001b[A\n",
      " 77%|#######6  | 30/39 [00:00<00:00, 93.58it/s]\u001b[A\n",
      "100%|##########| 39/39 [00:00<00:00, 92.65it/s]\u001b[A"
     ]
    },
    {
     "name": "stdout",
     "output_type": "stream",
     "text": [
      "{'ade': 0.33474743, 'fde': 0.71056247}\n",
      "\t last loss:0.000438426, eval on validation:['ade: 0.33474743', 'fde: 0.71056247'], (best ade:0.3359134 at step 15300) \n",
      "\t saving best model...\n",
      "\t done.\n"
     ]
    },
    {
     "name": "stderr",
     "output_type": "stream",
     "text": [
      " 72%|███████▏  | 316/438 [00:13<00:04, 26.37it/s]\n",
      "  0%|          | 0/39 [00:00<?, ?it/s]\u001b[A"
     ]
    },
    {
     "name": "stdout",
     "output_type": "stream",
     "text": [
      "\tsaving model 17400...\n",
      "\tdone\n",
      "Evaluating\n"
     ]
    },
    {
     "name": "stderr",
     "output_type": "stream",
     "text": [
      "\n",
      " 26%|##5       | 10/39 [00:00<00:00, 93.62it/s]\u001b[A\n",
      " 51%|#####1    | 20/39 [00:00<00:00, 93.74it/s]\u001b[A\n",
      " 77%|#######6  | 30/39 [00:00<00:00, 93.75it/s]\u001b[A\n",
      " 73%|███████▎  | 319/438 [00:14<00:11, 10.02it/s]A"
     ]
    },
    {
     "name": "stdout",
     "output_type": "stream",
     "text": [
      "{'ade': 0.33503723, 'fde': 0.71576345}\n",
      "\t last loss:0.000499471, eval on validation:['ade: 0.33503723', 'fde: 0.71576345'], (best ade:0.33474743 at step 17100) \n"
     ]
    },
    {
     "name": "stderr",
     "output_type": "stream",
     "text": [
      "100%|██████████| 438/438 [00:19<00:00, 23.01it/s]\n",
      "  0%|          | 1/438 [00:00<00:50,  8.59it/s]"
     ]
    },
    {
     "name": "stdout",
     "output_type": "stream",
     "text": [
      "('Epoca 41.', 'lr:', 7.751911e-05)\n"
     ]
    },
    {
     "name": "stderr",
     "output_type": "stream",
     "text": [
      " 41%|████      | 178/438 [00:07<00:10, 24.81it/s]\n",
      "  0%|          | 0/39 [00:00<?, ?it/s]\u001b[A"
     ]
    },
    {
     "name": "stdout",
     "output_type": "stream",
     "text": [
      "\tsaving model 17700...\n",
      "\tdone\n",
      "Evaluating\n"
     ]
    },
    {
     "name": "stderr",
     "output_type": "stream",
     "text": [
      "\n",
      " 23%|##3       | 9/39 [00:00<00:00, 86.17it/s]\u001b[A\n",
      " 38%|###8      | 15/39 [00:00<00:00, 75.45it/s]\u001b[A\n",
      " 59%|#####8    | 23/39 [00:00<00:00, 74.47it/s]\u001b[A\n",
      " 79%|#######9  | 31/39 [00:00<00:00, 75.08it/s]\u001b[A\n",
      " 41%|████▏     | 181/438 [00:07<00:28,  8.88it/s]A"
     ]
    },
    {
     "name": "stdout",
     "output_type": "stream",
     "text": [
      "{'ade': 0.33693212, 'fde': 0.7190649}\n",
      "\t last loss:0.000374083, eval on validation:['ade: 0.33693212', 'fde: 0.7190649'], (best ade:0.33474743 at step 17100) \n"
     ]
    },
    {
     "name": "stderr",
     "output_type": "stream",
     "text": [
      "100%|██████████| 438/438 [00:18<00:00, 23.96it/s]\n",
      "  0%|          | 2/438 [00:00<00:21, 19.96it/s]"
     ]
    },
    {
     "name": "stdout",
     "output_type": "stream",
     "text": [
      "('Epoca 42.', 'lr:', 7.751911e-05)\n"
     ]
    },
    {
     "name": "stderr",
     "output_type": "stream",
     "text": [
      "  9%|▉         | 41/438 [00:01<00:15, 26.17it/s]\n",
      "  0%|          | 0/39 [00:00<?, ?it/s]\u001b[A"
     ]
    },
    {
     "name": "stdout",
     "output_type": "stream",
     "text": [
      "\tsaving model 18000...\n",
      "\tdone\n",
      "Evaluating\n"
     ]
    },
    {
     "name": "stderr",
     "output_type": "stream",
     "text": [
      "\n",
      " 26%|##5       | 10/39 [00:00<00:00, 94.32it/s]\u001b[A\n",
      " 51%|#####1    | 20/39 [00:00<00:00, 93.82it/s]\u001b[A\n",
      " 77%|#######6  | 30/39 [00:00<00:00, 93.38it/s]\u001b[A\n",
      " 10%|█         | 44/438 [00:02<00:39,  9.86it/s][A"
     ]
    },
    {
     "name": "stdout",
     "output_type": "stream",
     "text": [
      "{'ade': 0.35052323, 'fde': 0.7548769}\n",
      "\t last loss:0.000183291, eval on validation:['ade: 0.35052323', 'fde: 0.7548769'], (best ade:0.33474743 at step 17100) \n"
     ]
    },
    {
     "name": "stderr",
     "output_type": "stream",
     "text": [
      " 78%|███████▊  | 340/438 [00:14<00:03, 24.96it/s]"
     ]
    },
    {
     "name": "stdout",
     "output_type": "stream",
     "text": [
      "\tsaving model 18300...\n"
     ]
    },
    {
     "name": "stderr",
     "output_type": "stream",
     "text": [
      "\n",
      "  0%|          | 0/39 [00:00<?, ?it/s]\u001b[A\n",
      " 23%|##3       | 9/39 [00:00<00:00, 78.42it/s]\u001b[A\n",
      " 38%|###8      | 15/39 [00:00<00:00, 71.39it/s]\u001b[A\n",
      " 62%|######1   | 24/39 [00:00<00:00, 74.03it/s]\u001b[A\n",
      " 85%|########4 | 33/39 [00:00<00:00, 76.53it/s]\u001b[A\n",
      " 79%|███████▉  | 346/438 [00:15<00:08, 10.94it/s]A"
     ]
    },
    {
     "name": "stdout",
     "output_type": "stream",
     "text": [
      "\tdone\n",
      "Evaluating\n",
      "{'ade': 0.33904165, 'fde': 0.72277176}\n",
      "\t last loss:0.000489732, eval on validation:['ade: 0.33904165', 'fde: 0.72277176'], (best ade:0.33474743 at step 17100) \n"
     ]
    },
    {
     "name": "stderr",
     "output_type": "stream",
     "text": [
      "100%|██████████| 438/438 [00:18<00:00, 23.43it/s]\n",
      "  0%|          | 2/438 [00:00<00:30, 14.46it/s]"
     ]
    },
    {
     "name": "stdout",
     "output_type": "stream",
     "text": [
      "('Epoca 43.', 'lr:', 6.589125e-05)\n"
     ]
    },
    {
     "name": "stderr",
     "output_type": "stream",
     "text": [
      " 46%|████▋     | 203/438 [00:08<00:08, 26.59it/s]\n",
      "  0%|          | 0/39 [00:00<?, ?it/s]\u001b[A"
     ]
    },
    {
     "name": "stdout",
     "output_type": "stream",
     "text": [
      "\tsaving model 18600...\n",
      "\tdone\n",
      "Evaluating\n"
     ]
    },
    {
     "name": "stderr",
     "output_type": "stream",
     "text": [
      "\n",
      " 26%|##5       | 10/39 [00:00<00:00, 92.29it/s]\u001b[A\n",
      " 51%|#####1    | 20/39 [00:00<00:00, 92.68it/s]\u001b[A\n",
      " 77%|#######6  | 30/39 [00:00<00:00, 92.23it/s]\u001b[A\n",
      " 97%|#########7| 38/39 [00:00<00:00, 87.34it/s]\u001b[A\n",
      " 47%|████▋     | 206/438 [00:08<00:24,  9.57it/s]A"
     ]
    },
    {
     "name": "stdout",
     "output_type": "stream",
     "text": [
      "{'ade': 0.343649, 'fde': 0.7400837}\n",
      "\t last loss:0.000455135, eval on validation:['ade: 0.343649', 'fde: 0.7400837'], (best ade:0.33474743 at step 17100) \n"
     ]
    },
    {
     "name": "stderr",
     "output_type": "stream",
     "text": [
      "100%|██████████| 438/438 [00:17<00:00, 24.50it/s]\n",
      "  1%|          | 3/438 [00:00<00:17, 24.58it/s]"
     ]
    },
    {
     "name": "stdout",
     "output_type": "stream",
     "text": [
      "('Epoca 44.', 'lr:', 6.589125e-05)\n"
     ]
    },
    {
     "name": "stderr",
     "output_type": "stream",
     "text": [
      " 14%|█▍        | 63/438 [00:02<00:14, 25.42it/s]\n",
      "  0%|          | 0/39 [00:00<?, ?it/s]\u001b[A"
     ]
    },
    {
     "name": "stdout",
     "output_type": "stream",
     "text": [
      "\tsaving model 18900...\n",
      "\tdone\n",
      "Evaluating\n"
     ]
    },
    {
     "name": "stderr",
     "output_type": "stream",
     "text": [
      "\n",
      " 26%|##5       | 10/39 [00:00<00:00, 92.24it/s]\u001b[A\n",
      " 51%|#####1    | 20/39 [00:00<00:00, 92.83it/s]\u001b[A\n",
      " 77%|#######6  | 30/39 [00:00<00:00, 92.69it/s]\u001b[A\n",
      " 16%|█▌        | 68/438 [00:03<00:32, 11.50it/s][A"
     ]
    },
    {
     "name": "stdout",
     "output_type": "stream",
     "text": [
      "{'ade': 0.33525667, 'fde': 0.714592}\n",
      "\t last loss:0.000346328, eval on validation:['ade: 0.33525667', 'fde: 0.714592'], (best ade:0.33474743 at step 17100) \n"
     ]
    },
    {
     "name": "stderr",
     "output_type": "stream",
     "text": [
      " 83%|████████▎ | 365/438 [00:15<00:02, 24.79it/s]\n",
      "  0%|          | 0/39 [00:00<?, ?it/s]\u001b[A"
     ]
    },
    {
     "name": "stdout",
     "output_type": "stream",
     "text": [
      "\tsaving model 19200...\n",
      "\tdone\n",
      "Evaluating\n"
     ]
    },
    {
     "name": "stderr",
     "output_type": "stream",
     "text": [
      "\n",
      " 23%|##3       | 9/39 [00:00<00:00, 84.68it/s]\u001b[A\n",
      " 44%|####3     | 17/39 [00:00<00:00, 82.06it/s]\u001b[A\n",
      " 59%|#####8    | 23/39 [00:00<00:00, 73.79it/s]\u001b[A\n",
      " 79%|#######9  | 31/39 [00:00<00:00, 75.03it/s]\u001b[A\n",
      " 97%|#########7| 38/39 [00:00<00:00, 71.10it/s]\u001b[A\n",
      " 84%|████████▍ | 368/438 [00:15<00:08,  8.57it/s]A"
     ]
    },
    {
     "name": "stdout",
     "output_type": "stream",
     "text": [
      "{'ade': 0.33740458, 'fde': 0.7213804}\n",
      "\t last loss:0.000267516, eval on validation:['ade: 0.33740458', 'fde: 0.7213804'], (best ade:0.33474743 at step 17100) \n"
     ]
    },
    {
     "name": "stderr",
     "output_type": "stream",
     "text": [
      "100%|██████████| 438/438 [00:18<00:00, 23.25it/s]\n",
      "  0%|          | 2/438 [00:00<00:28, 15.28it/s]"
     ]
    },
    {
     "name": "stdout",
     "output_type": "stream",
     "text": [
      "('Epoca 45.', 'lr:', 5.600756e-05)\n"
     ]
    },
    {
     "name": "stderr",
     "output_type": "stream",
     "text": [
      " 52%|█████▏    | 227/438 [00:08<00:08, 25.74it/s]\n",
      "  0%|          | 0/39 [00:00<?, ?it/s]\u001b[A"
     ]
    },
    {
     "name": "stdout",
     "output_type": "stream",
     "text": [
      "\tsaving model 19500...\n",
      "\tdone\n",
      "Evaluating\n"
     ]
    },
    {
     "name": "stderr",
     "output_type": "stream",
     "text": [
      "\n",
      " 26%|##5       | 10/39 [00:00<00:00, 93.05it/s]\u001b[A\n",
      " 44%|####3     | 17/39 [00:00<00:00, 83.87it/s]\u001b[A\n",
      " 69%|######9   | 27/39 [00:00<00:00, 85.90it/s]\u001b[A\n",
      " 95%|#########4| 37/39 [00:00<00:00, 87.79it/s]\u001b[A\n",
      " 53%|█████▎    | 230/438 [00:09<00:21,  9.57it/s]A"
     ]
    },
    {
     "name": "stdout",
     "output_type": "stream",
     "text": [
      "{'ade': 0.33803576, 'fde': 0.72517145}\n",
      "\t last loss:0.000313465, eval on validation:['ade: 0.33803576', 'fde: 0.72517145'], (best ade:0.33474743 at step 17100) \n"
     ]
    },
    {
     "name": "stderr",
     "output_type": "stream",
     "text": [
      "100%|██████████| 438/438 [00:17<00:00, 24.36it/s]\n",
      "  1%|          | 3/438 [00:00<00:17, 25.09it/s]"
     ]
    },
    {
     "name": "stdout",
     "output_type": "stream",
     "text": [
      "('Epoca 46.', 'lr:', 5.600756e-05)\n"
     ]
    },
    {
     "name": "stderr",
     "output_type": "stream",
     "text": [
      " 20%|█▉        | 87/438 [00:03<00:14, 24.92it/s]\n",
      "  0%|          | 0/39 [00:00<?, ?it/s]\u001b[A"
     ]
    },
    {
     "name": "stdout",
     "output_type": "stream",
     "text": [
      "\tsaving model 19800...\n",
      "\tdone\n",
      "Evaluating\n"
     ]
    },
    {
     "name": "stderr",
     "output_type": "stream",
     "text": [
      "\n",
      " 23%|##3       | 9/39 [00:00<00:00, 85.53it/s]\u001b[A\n",
      " 38%|###8      | 15/39 [00:00<00:00, 73.90it/s]\u001b[A\n",
      " 56%|#####6    | 22/39 [00:00<00:00, 71.46it/s]\u001b[A\n",
      " 79%|#######9  | 31/39 [00:00<00:00, 74.66it/s]\u001b[A\n",
      "100%|##########| 39/39 [00:00<00:00, 74.48it/s]\u001b[A"
     ]
    },
    {
     "name": "stdout",
     "output_type": "stream",
     "text": [
      "{'ade': 0.33452818, 'fde': 0.71441424}\n",
      "\t last loss:0.000347938, eval on validation:['ade: 0.33452818', 'fde: 0.71441424'], (best ade:0.33474743 at step 17100) \n",
      "\t saving best model...\n"
     ]
    },
    {
     "name": "stderr",
     "output_type": "stream",
     "text": [
      " 88%|████████▊ | 387/438 [00:16<00:01, 26.38it/s]\n",
      "  0%|          | 0/39 [00:00<?, ?it/s]\u001b[A"
     ]
    },
    {
     "name": "stdout",
     "output_type": "stream",
     "text": [
      "\t done.\n",
      "\tsaving model 20100...\n",
      "\tdone\n",
      "Evaluating\n"
     ]
    },
    {
     "name": "stderr",
     "output_type": "stream",
     "text": [
      "\n",
      " 26%|##5       | 10/39 [00:00<00:00, 92.45it/s]\u001b[A\n",
      " 51%|#####1    | 20/39 [00:00<00:00, 92.89it/s]\u001b[A\n",
      " 77%|#######6  | 30/39 [00:00<00:00, 92.82it/s]\u001b[A\n",
      " 89%|████████▉ | 392/438 [00:17<00:04, 11.48it/s]A"
     ]
    },
    {
     "name": "stdout",
     "output_type": "stream",
     "text": [
      "{'ade': 0.33918035, 'fde': 0.724631}\n",
      "\t last loss:0.000374014, eval on validation:['ade: 0.33918035', 'fde: 0.724631'], (best ade:0.33452818 at step 19800) \n"
     ]
    },
    {
     "name": "stderr",
     "output_type": "stream",
     "text": [
      "100%|██████████| 438/438 [00:19<00:00, 22.95it/s]\n",
      "  1%|          | 3/438 [00:00<00:18, 23.73it/s]"
     ]
    },
    {
     "name": "stdout",
     "output_type": "stream",
     "text": [
      "('Epoca 47.', 'lr:', 4.7606427e-05)\n"
     ]
    },
    {
     "name": "stderr",
     "output_type": "stream",
     "text": [
      " 57%|█████▋    | 249/438 [00:09<00:07, 24.39it/s]"
     ]
    },
    {
     "name": "stdout",
     "output_type": "stream",
     "text": [
      "\tsaving model 20400...\n"
     ]
    },
    {
     "name": "stderr",
     "output_type": "stream",
     "text": [
      "\n",
      "  0%|          | 0/39 [00:00<?, ?it/s]\u001b[A\n",
      " 23%|##3       | 9/39 [00:00<00:00, 87.14it/s]\u001b[A\n",
      " 46%|####6     | 18/39 [00:00<00:00, 86.63it/s]\u001b[A\n",
      " 69%|######9   | 27/39 [00:00<00:00, 85.69it/s]\u001b[A\n",
      " 92%|#########2| 36/39 [00:00<00:00, 85.34it/s]\u001b[A\n",
      "100%|##########| 39/39 [00:00<00:00, 83.59it/s]\u001b[A"
     ]
    },
    {
     "name": "stdout",
     "output_type": "stream",
     "text": [
      "\tdone\n",
      "Evaluating\n",
      "{'ade': 0.33095306, 'fde': 0.7041516}\n",
      "\t last loss:0.000162085, eval on validation:['ade: 0.33095306', 'fde: 0.7041516'], (best ade:0.33452818 at step 19800) \n",
      "\t saving best model...\n",
      "\t done.\n"
     ]
    },
    {
     "name": "stderr",
     "output_type": "stream",
     "text": [
      "100%|██████████| 438/438 [00:18<00:00, 24.80it/s]\n",
      "  0%|          | 2/438 [00:00<00:24, 17.77it/s]"
     ]
    },
    {
     "name": "stdout",
     "output_type": "stream",
     "text": [
      "('Epoca 48.', 'lr:', 4.7606427e-05)\n"
     ]
    },
    {
     "name": "stderr",
     "output_type": "stream",
     "text": [
      " 26%|██▌       | 113/438 [00:04<00:13, 23.79it/s]\n",
      "  0%|          | 0/39 [00:00<?, ?it/s]\u001b[A"
     ]
    },
    {
     "name": "stdout",
     "output_type": "stream",
     "text": [
      "\tsaving model 20700...\n",
      "\tdone\n",
      "Evaluating\n"
     ]
    },
    {
     "name": "stderr",
     "output_type": "stream",
     "text": [
      "\n",
      " 23%|##3       | 9/39 [00:00<00:00, 84.52it/s]\u001b[A\n",
      " 44%|####3     | 17/39 [00:00<00:00, 82.72it/s]\u001b[A\n",
      " 67%|######6   | 26/39 [00:00<00:00, 83.39it/s]\u001b[A\n",
      " 87%|########7 | 34/39 [00:00<00:00, 80.93it/s]\u001b[A\n",
      " 26%|██▋       | 116/438 [00:05<00:37,  8.61it/s]A"
     ]
    },
    {
     "name": "stdout",
     "output_type": "stream",
     "text": [
      "{'ade': 0.3339966, 'fde': 0.71389395}\n",
      "\t last loss:0.000250303, eval on validation:['ade: 0.3339966', 'fde: 0.71389395'], (best ade:0.33095306 at step 20400) \n"
     ]
    },
    {
     "name": "stderr",
     "output_type": "stream",
     "text": [
      " 94%|█████████▍| 412/438 [00:17<00:00, 26.68it/s]\n",
      "  0%|          | 0/39 [00:00<?, ?it/s]\u001b[A"
     ]
    },
    {
     "name": "stdout",
     "output_type": "stream",
     "text": [
      "\tsaving model 21000...\n",
      "\tdone\n",
      "Evaluating\n"
     ]
    },
    {
     "name": "stderr",
     "output_type": "stream",
     "text": [
      "\n",
      " 26%|##5       | 10/39 [00:00<00:00, 95.34it/s]\u001b[A\n",
      " 51%|#####1    | 20/39 [00:00<00:00, 94.14it/s]\u001b[A\n",
      " 72%|#######1  | 28/39 [00:00<00:00, 86.39it/s]\u001b[A\n",
      " 97%|#########7| 38/39 [00:00<00:00, 87.73it/s]\u001b[A\n",
      " 95%|█████████▌| 418/438 [00:18<00:01, 12.01it/s]A"
     ]
    },
    {
     "name": "stdout",
     "output_type": "stream",
     "text": [
      "{'ade': 0.33426917, 'fde': 0.71197367}\n",
      "\t last loss:0.000216791, eval on validation:['ade: 0.33426917', 'fde: 0.71197367'], (best ade:0.33095306 at step 20400) \n"
     ]
    },
    {
     "name": "stderr",
     "output_type": "stream",
     "text": [
      "100%|██████████| 438/438 [00:18<00:00, 23.08it/s]\n",
      "  0%|          | 1/438 [00:00<00:46,  9.45it/s]"
     ]
    },
    {
     "name": "stdout",
     "output_type": "stream",
     "text": [
      "('Epoca 49.', 'lr:', 4.0465464e-05)\n"
     ]
    },
    {
     "name": "stderr",
     "output_type": "stream",
     "text": [
      " 63%|██████▎   | 274/438 [00:10<00:06, 24.60it/s]\n",
      "  0%|          | 0/39 [00:00<?, ?it/s]\u001b[A"
     ]
    },
    {
     "name": "stdout",
     "output_type": "stream",
     "text": [
      "\tsaving model 21300...\n",
      "\tdone\n",
      "Evaluating\n"
     ]
    },
    {
     "name": "stderr",
     "output_type": "stream",
     "text": [
      "\n",
      " 23%|##3       | 9/39 [00:00<00:00, 86.07it/s]\u001b[A\n",
      " 46%|####6     | 18/39 [00:00<00:00, 85.12it/s]\u001b[A\n",
      " 67%|######6   | 26/39 [00:00<00:00, 81.20it/s]\u001b[A\n",
      " 90%|########9 | 35/39 [00:00<00:00, 81.78it/s]\u001b[A\n",
      "100%|##########| 39/39 [00:00<00:00, 80.71it/s]\u001b[A"
     ]
    },
    {
     "name": "stdout",
     "output_type": "stream",
     "text": [
      "{'ade': 0.33022186, 'fde': 0.70083994}\n",
      "\t last loss:0.000249017, eval on validation:['ade: 0.33022186', 'fde: 0.70083994'], (best ade:0.33095306 at step 20400) \n",
      "\t saving best model...\n"
     ]
    },
    {
     "name": "stderr",
     "output_type": "stream",
     "text": [
      "\r",
      " 63%|██████▎   | 277/438 [00:11<00:20,  7.70it/s]"
     ]
    },
    {
     "name": "stdout",
     "output_type": "stream",
     "text": [
      "\t done.\n"
     ]
    },
    {
     "name": "stderr",
     "output_type": "stream",
     "text": [
      "100%|██████████| 438/438 [00:18<00:00, 23.82it/s]\n",
      "  0%|          | 1/438 [00:00<00:53,  8.17it/s]"
     ]
    },
    {
     "name": "stdout",
     "output_type": "stream",
     "text": [
      "('Epoca 50.', 'lr:', 4.0465464e-05)\n"
     ]
    },
    {
     "name": "stderr",
     "output_type": "stream",
     "text": [
      " 31%|███       | 136/438 [00:05<00:11, 26.39it/s]\n",
      "  0%|          | 0/39 [00:00<?, ?it/s]\u001b[A"
     ]
    },
    {
     "name": "stdout",
     "output_type": "stream",
     "text": [
      "\tsaving model 21600...\n",
      "\tdone\n",
      "Evaluating\n"
     ]
    },
    {
     "name": "stderr",
     "output_type": "stream",
     "text": [
      "\n",
      " 26%|##5       | 10/39 [00:00<00:00, 95.65it/s]\u001b[A\n",
      " 44%|####3     | 17/39 [00:00<00:00, 83.23it/s]\u001b[A\n",
      " 67%|######6   | 26/39 [00:00<00:00, 84.49it/s]\u001b[A\n",
      " 90%|########9 | 35/39 [00:00<00:00, 83.91it/s]\u001b[A\n",
      " 32%|███▏      | 139/438 [00:06<00:31,  9.40it/s]A"
     ]
    },
    {
     "name": "stdout",
     "output_type": "stream",
     "text": [
      "{'ade': 0.3320985, 'fde': 0.7087915}\n",
      "\t last loss:0.000346926, eval on validation:['ade: 0.3320985', 'fde: 0.7087915'], (best ade:0.33022186 at step 21300) \n"
     ]
    },
    {
     "name": "stderr",
     "output_type": "stream",
     "text": [
      "100%|█████████▉| 436/438 [00:18<00:00, 24.56it/s]\n",
      "  0%|          | 0/39 [00:00<?, ?it/s]"
     ]
    },
    {
     "name": "stdout",
     "output_type": "stream",
     "text": [
      "\tsaving model 21900...\n",
      "\tdone\n",
      "Evaluating\n"
     ]
    },
    {
     "name": "stderr",
     "output_type": "stream",
     "text": [
      "\u001b[A\n",
      " 23%|##3       | 9/39 [00:00<00:00, 86.27it/s]\u001b[A\n",
      " 46%|####6     | 18/39 [00:00<00:00, 86.02it/s]\u001b[A\n",
      " 69%|######9   | 27/39 [00:00<00:00, 85.25it/s]\u001b[A\n",
      " 92%|#########2| 36/39 [00:00<00:00, 84.88it/s]\u001b[A\n",
      "100%|##########| 39/39 [00:00<00:00, 83.50it/s]\u001b[A"
     ]
    },
    {
     "name": "stdout",
     "output_type": "stream",
     "text": [
      "{'ade': 0.33007792, 'fde': 0.7019483}\n",
      "\t last loss:0.000506947, eval on validation:['ade: 0.33007792', 'fde: 0.7019483'], (best ade:0.33022186 at step 21300) \n",
      "\t saving best model...\n",
      "\t done.\n"
     ]
    },
    {
     "name": "stderr",
     "output_type": "stream",
     "text": [
      "100%|██████████| 438/438 [00:19<00:00, 22.93it/s]\n",
      "  1%|          | 3/438 [00:00<00:17, 25.32it/s]"
     ]
    },
    {
     "name": "stdout",
     "output_type": "stream",
     "text": [
      "('Epoca 51.', 'lr:', 3.4395645e-05)\n"
     ]
    },
    {
     "name": "stderr",
     "output_type": "stream",
     "text": [
      " 68%|██████▊   | 297/438 [00:11<00:05, 26.76it/s]\n",
      "  0%|          | 0/39 [00:00<?, ?it/s]\u001b[A"
     ]
    },
    {
     "name": "stdout",
     "output_type": "stream",
     "text": [
      "\tsaving model 22200...\n",
      "\tdone\n",
      "Evaluating\n"
     ]
    },
    {
     "name": "stderr",
     "output_type": "stream",
     "text": [
      "\n",
      " 21%|##        | 8/39 [00:00<00:00, 76.30it/s]\u001b[A\n",
      " 44%|####3     | 17/39 [00:00<00:00, 78.60it/s]\u001b[A\n",
      " 67%|######6   | 26/39 [00:00<00:00, 80.39it/s]\u001b[A\n",
      " 90%|########9 | 35/39 [00:00<00:00, 81.33it/s]\u001b[A\n",
      " 69%|██████▉   | 303/438 [00:12<00:12, 11.20it/s]A"
     ]
    },
    {
     "name": "stdout",
     "output_type": "stream",
     "text": [
      "{'ade': 0.33388814, 'fde': 0.7101909}\n",
      "\t last loss:0.000560200, eval on validation:['ade: 0.33388814', 'fde: 0.7101909'], (best ade:0.33007792 at step 21900) \n"
     ]
    },
    {
     "name": "stderr",
     "output_type": "stream",
     "text": [
      "100%|██████████| 438/438 [00:18<00:00, 25.85it/s]\n",
      "  0%|          | 1/438 [00:00<00:50,  8.63it/s]"
     ]
    },
    {
     "name": "stdout",
     "output_type": "stream",
     "text": [
      "('Epoca 52.', 'lr:', 3.4395645e-05)\n"
     ]
    },
    {
     "name": "stderr",
     "output_type": "stream",
     "text": [
      " 37%|███▋      | 160/438 [00:06<00:10, 26.29it/s]\n",
      "  0%|          | 0/39 [00:00<?, ?it/s]\u001b[A"
     ]
    },
    {
     "name": "stdout",
     "output_type": "stream",
     "text": [
      "\tsaving model 22500...\n",
      "\tdone\n",
      "Evaluating\n"
     ]
    },
    {
     "name": "stderr",
     "output_type": "stream",
     "text": [
      "\n",
      " 26%|##5       | 10/39 [00:00<00:00, 93.67it/s]\u001b[A\n",
      " 46%|####6     | 18/39 [00:00<00:00, 86.81it/s]\u001b[A\n",
      " 64%|######4   | 25/39 [00:00<00:00, 78.87it/s]\u001b[A\n",
      " 90%|########9 | 35/39 [00:00<00:00, 82.12it/s]\u001b[A\n",
      " 38%|███▊      | 166/438 [00:07<00:23, 11.77it/s]A"
     ]
    },
    {
     "name": "stdout",
     "output_type": "stream",
     "text": [
      "{'ade': 0.3357982, 'fde': 0.71958244}\n",
      "\t last loss:0.000729846, eval on validation:['ade: 0.3357982', 'fde: 0.71958244'], (best ade:0.33007792 at step 21900) \n"
     ]
    },
    {
     "name": "stderr",
     "output_type": "stream",
     "text": [
      "100%|██████████| 438/438 [00:18<00:00, 24.23it/s]\n",
      "  0%|          | 1/438 [00:00<00:53,  8.13it/s]"
     ]
    },
    {
     "name": "stdout",
     "output_type": "stream",
     "text": [
      "('Epoca 53.', 'lr:', 2.92363e-05)\n"
     ]
    },
    {
     "name": "stderr",
     "output_type": "stream",
     "text": [
      "  5%|▍         | 21/438 [00:00<00:20, 20.71it/s]\n",
      "  0%|          | 0/39 [00:00<?, ?it/s]\u001b[A"
     ]
    },
    {
     "name": "stdout",
     "output_type": "stream",
     "text": [
      "\tsaving model 22800...\n",
      "\tdone\n",
      "Evaluating\n"
     ]
    },
    {
     "name": "stderr",
     "output_type": "stream",
     "text": [
      "\n",
      " 21%|##        | 8/39 [00:00<00:00, 78.47it/s]\u001b[A\n",
      " 41%|####1     | 16/39 [00:00<00:00, 78.79it/s]\u001b[A\n",
      " 59%|#####8    | 23/39 [00:00<00:00, 74.02it/s]\u001b[A\n",
      " 82%|########2 | 32/39 [00:00<00:00, 76.58it/s]\u001b[A\n",
      "  6%|▌         | 27/438 [00:01<00:40, 10.23it/s][A"
     ]
    },
    {
     "name": "stdout",
     "output_type": "stream",
     "text": [
      "{'ade': 0.33767763, 'fde': 0.72093403}\n",
      "\t last loss:0.000317727, eval on validation:['ade: 0.33767763', 'fde: 0.72093403'], (best ade:0.33007792 at step 21900) \n"
     ]
    },
    {
     "name": "stderr",
     "output_type": "stream",
     "text": [
      " 73%|███████▎  | 321/438 [00:13<00:04, 26.63it/s]\n",
      "  0%|          | 0/39 [00:00<?, ?it/s]\u001b[A"
     ]
    },
    {
     "name": "stdout",
     "output_type": "stream",
     "text": [
      "\tsaving model 23100...\n",
      "\tdone\n",
      "Evaluating\n"
     ]
    },
    {
     "name": "stderr",
     "output_type": "stream",
     "text": [
      "\n",
      " 26%|##5       | 10/39 [00:00<00:00, 94.73it/s]\u001b[A\n",
      " 51%|#####1    | 20/39 [00:00<00:00, 93.95it/s]\u001b[A\n",
      " 77%|#######6  | 30/39 [00:00<00:00, 93.24it/s]\u001b[A\n",
      " 75%|███████▍  | 327/438 [00:14<00:09, 12.32it/s]A"
     ]
    },
    {
     "name": "stdout",
     "output_type": "stream",
     "text": [
      "{'ade': 0.33375442, 'fde': 0.7104057}\n",
      "\t last loss:0.000384073, eval on validation:['ade: 0.33375442', 'fde: 0.7104057'], (best ade:0.33007792 at step 21900) \n"
     ]
    },
    {
     "name": "stderr",
     "output_type": "stream",
     "text": [
      "100%|██████████| 438/438 [00:19<00:00, 23.31it/s]\n",
      "  0%|          | 2/438 [00:00<00:29, 14.86it/s]"
     ]
    },
    {
     "name": "stdout",
     "output_type": "stream",
     "text": [
      "('Epoca 54.', 'lr:', 2.92363e-05)\n"
     ]
    },
    {
     "name": "stderr",
     "output_type": "stream",
     "text": [
      " 42%|████▏     | 185/438 [00:07<00:10, 24.79it/s]\n",
      "  0%|          | 0/39 [00:00<?, ?it/s]"
     ]
    },
    {
     "name": "stdout",
     "output_type": "stream",
     "text": [
      "\tsaving model 23400...\n",
      "\tdone\n",
      "Evaluating\n"
     ]
    },
    {
     "name": "stderr",
     "output_type": "stream",
     "text": [
      "\u001b[A\n",
      " 21%|##        | 8/39 [00:00<00:00, 79.92it/s]\u001b[A\n",
      " 41%|####1     | 16/39 [00:00<00:00, 78.51it/s]\u001b[A\n",
      " 64%|######4   | 25/39 [00:00<00:00, 79.78it/s]\u001b[A\n",
      " 87%|########7 | 34/39 [00:00<00:00, 80.79it/s]\u001b[A\n",
      " 43%|████▎     | 188/438 [00:08<00:27,  9.08it/s]A"
     ]
    },
    {
     "name": "stdout",
     "output_type": "stream",
     "text": [
      "{'ade': 0.33250865, 'fde': 0.7084309}\n",
      "\t last loss:0.000246207, eval on validation:['ade: 0.33250865', 'fde: 0.7084309'], (best ade:0.33007792 at step 21900) \n"
     ]
    },
    {
     "name": "stderr",
     "output_type": "stream",
     "text": [
      "100%|██████████| 438/438 [00:18<00:00, 23.83it/s]\n",
      "  0%|          | 1/438 [00:00<00:47,  9.29it/s]"
     ]
    },
    {
     "name": "stdout",
     "output_type": "stream",
     "text": [
      "('Epoca 55.', 'lr:', 2.4850853e-05)\n"
     ]
    },
    {
     "name": "stderr",
     "output_type": "stream",
     "text": [
      " 11%|█         | 46/438 [00:01<00:15, 26.10it/s]\n",
      "  0%|          | 0/39 [00:00<?, ?it/s]\u001b[A"
     ]
    },
    {
     "name": "stdout",
     "output_type": "stream",
     "text": [
      "\tsaving model 23700...\n",
      "\tdone\n",
      "Evaluating\n"
     ]
    },
    {
     "name": "stderr",
     "output_type": "stream",
     "text": [
      "\n",
      " 26%|##5       | 10/39 [00:00<00:00, 93.99it/s]\u001b[A\n",
      " 49%|####8     | 19/39 [00:00<00:00, 91.04it/s]\u001b[A\n",
      " 69%|######9   | 27/39 [00:00<00:00, 86.78it/s]\u001b[A\n",
      " 92%|#########2| 36/39 [00:00<00:00, 85.92it/s]\u001b[A\n",
      " 11%|█         | 49/438 [00:02<00:41,  9.28it/s][A"
     ]
    },
    {
     "name": "stdout",
     "output_type": "stream",
     "text": [
      "{'ade': 0.33263892, 'fde': 0.7083915}\n",
      "\t last loss:0.000351026, eval on validation:['ade: 0.33263892', 'fde: 0.7083915'], (best ade:0.33007792 at step 21900) \n"
     ]
    },
    {
     "name": "stderr",
     "output_type": "stream",
     "text": [
      " 79%|███████▉  | 346/438 [00:14<00:03, 25.09it/s]\n",
      "  0%|          | 0/39 [00:00<?, ?it/s]\u001b[A"
     ]
    },
    {
     "name": "stdout",
     "output_type": "stream",
     "text": [
      "\tsaving model 24000...\n",
      "\tdone\n",
      "Evaluating\n"
     ]
    },
    {
     "name": "stderr",
     "output_type": "stream",
     "text": [
      "\n",
      " 26%|##5       | 10/39 [00:00<00:00, 93.13it/s]\u001b[A\n",
      " 51%|#####1    | 20/39 [00:00<00:00, 93.21it/s]\u001b[A\n",
      " 74%|#######4  | 29/39 [00:00<00:00, 92.02it/s]\u001b[A\n",
      " 80%|███████▉  | 349/438 [00:15<00:09,  9.53it/s]A"
     ]
    },
    {
     "name": "stdout",
     "output_type": "stream",
     "text": [
      "{'ade': 0.3362108, 'fde': 0.7190298}\n",
      "\t last loss:0.000376758, eval on validation:['ade: 0.3362108', 'fde: 0.7190298'], (best ade:0.33007792 at step 21900) \n"
     ]
    },
    {
     "name": "stderr",
     "output_type": "stream",
     "text": [
      "100%|██████████| 438/438 [00:18<00:00, 23.27it/s]\n",
      "  0%|          | 1/438 [00:00<00:55,  7.83it/s]"
     ]
    },
    {
     "name": "stdout",
     "output_type": "stream",
     "text": [
      "('Epoca 56.', 'lr:', 2.4850853e-05)\n"
     ]
    },
    {
     "name": "stderr",
     "output_type": "stream",
     "text": [
      " 47%|████▋     | 208/438 [00:08<00:09, 25.02it/s]"
     ]
    },
    {
     "name": "stdout",
     "output_type": "stream",
     "text": [
      "\tsaving model 24300...\n"
     ]
    },
    {
     "name": "stderr",
     "output_type": "stream",
     "text": [
      "\n",
      "  0%|          | 0/39 [00:00<?, ?it/s]\u001b[A\n",
      " 23%|##3       | 9/39 [00:00<00:00, 83.32it/s]\u001b[A"
     ]
    },
    {
     "name": "stdout",
     "output_type": "stream",
     "text": [
      "\tdone\n",
      "Evaluating\n"
     ]
    },
    {
     "name": "stderr",
     "output_type": "stream",
     "text": [
      "\n",
      " 38%|###8      | 15/39 [00:00<00:00, 73.98it/s]\u001b[A\n",
      " 59%|#####8    | 23/39 [00:00<00:00, 74.33it/s]\u001b[A\n",
      " 79%|#######9  | 31/39 [00:00<00:00, 75.50it/s]\u001b[A\n",
      " 48%|████▊     | 211/438 [00:09<00:26,  8.69it/s]A"
     ]
    },
    {
     "name": "stdout",
     "output_type": "stream",
     "text": [
      "{'ade': 0.33171722, 'fde': 0.7061851}\n",
      "\t last loss:0.000353210, eval on validation:['ade: 0.33171722', 'fde: 0.7061851'], (best ade:0.33007792 at step 21900) \n"
     ]
    },
    {
     "name": "stderr",
     "output_type": "stream",
     "text": [
      "100%|██████████| 438/438 [00:18<00:00, 23.97it/s]\n",
      "  1%|          | 3/438 [00:00<00:18, 23.50it/s]"
     ]
    },
    {
     "name": "stdout",
     "output_type": "stream",
     "text": [
      "('Epoca 57.', 'lr:', 2.1123227e-05)\n"
     ]
    },
    {
     "name": "stderr",
     "output_type": "stream",
     "text": [
      " 16%|█▌        | 69/438 [00:02<00:13, 26.77it/s]\n",
      "  0%|          | 0/39 [00:00<?, ?it/s]\u001b[A"
     ]
    },
    {
     "name": "stdout",
     "output_type": "stream",
     "text": [
      "\tsaving model 24600...\n",
      "\tdone\n",
      "Evaluating\n"
     ]
    },
    {
     "name": "stderr",
     "output_type": "stream",
     "text": [
      "\n",
      " 26%|##5       | 10/39 [00:00<00:00, 92.91it/s]\u001b[A\n",
      " 49%|####8     | 19/39 [00:00<00:00, 90.27it/s]\u001b[A\n",
      " 64%|######4   | 25/39 [00:00<00:00, 78.18it/s]\u001b[A\n",
      " 87%|########7 | 34/39 [00:00<00:00, 79.59it/s]\u001b[A\n",
      " 17%|█▋        | 75/438 [00:03<00:31, 11.53it/s][A"
     ]
    },
    {
     "name": "stdout",
     "output_type": "stream",
     "text": [
      "{'ade': 0.33716157, 'fde': 0.71941274}\n",
      "\t last loss:0.000331760, eval on validation:['ade: 0.33716157', 'fde: 0.71941274'], (best ade:0.33007792 at step 21900) \n"
     ]
    },
    {
     "name": "stderr",
     "output_type": "stream",
     "text": [
      " 84%|████████▍ | 369/438 [00:15<00:02, 24.12it/s]\n",
      "  0%|          | 0/39 [00:00<?, ?it/s]\u001b[A"
     ]
    },
    {
     "name": "stdout",
     "output_type": "stream",
     "text": [
      "\tsaving model 24900...\n",
      "\tdone\n",
      "Evaluating\n"
     ]
    },
    {
     "name": "stderr",
     "output_type": "stream",
     "text": [
      "\n",
      " 23%|##3       | 9/39 [00:00<00:00, 87.27it/s]\u001b[A\n",
      " 46%|####6     | 18/39 [00:00<00:00, 86.61it/s]\u001b[A\n",
      " 64%|######4   | 25/39 [00:00<00:00, 77.54it/s]\u001b[A\n",
      " 85%|########4 | 33/39 [00:00<00:00, 78.24it/s]\u001b[A\n",
      " 85%|████████▌ | 374/438 [00:16<00:06, 10.55it/s]A"
     ]
    },
    {
     "name": "stdout",
     "output_type": "stream",
     "text": [
      "{'ade': 0.33602536, 'fde': 0.71725166}\n",
      "\t last loss:0.000439074, eval on validation:['ade: 0.33602536', 'fde: 0.71725166'], (best ade:0.33007792 at step 21900) \n"
     ]
    },
    {
     "name": "stderr",
     "output_type": "stream",
     "text": [
      "100%|██████████| 438/438 [00:18<00:00, 23.40it/s]\n",
      "  1%|          | 3/438 [00:00<00:16, 25.71it/s]"
     ]
    },
    {
     "name": "stdout",
     "output_type": "stream",
     "text": [
      "('Epoca 58.', 'lr:', 2.1123227e-05)\n"
     ]
    },
    {
     "name": "stderr",
     "output_type": "stream",
     "text": [
      " 53%|█████▎    | 231/438 [00:09<00:07, 26.69it/s]\n",
      "  0%|          | 0/39 [00:00<?, ?it/s]\u001b[A"
     ]
    },
    {
     "name": "stdout",
     "output_type": "stream",
     "text": [
      "\tsaving model 25200...\n",
      "\tdone\n",
      "Evaluating\n"
     ]
    },
    {
     "name": "stderr",
     "output_type": "stream",
     "text": [
      "\n",
      " 23%|##3       | 9/39 [00:00<00:00, 86.36it/s]\u001b[A\n",
      " 41%|####1     | 16/39 [00:00<00:00, 78.79it/s]\u001b[A\n",
      " 64%|######4   | 25/39 [00:00<00:00, 80.48it/s]\u001b[A\n",
      " 90%|########9 | 35/39 [00:00<00:00, 83.97it/s]\u001b[A\n",
      " 54%|█████▍    | 237/438 [00:10<00:17, 11.62it/s]A"
     ]
    },
    {
     "name": "stdout",
     "output_type": "stream",
     "text": [
      "{'ade': 0.3334968, 'fde': 0.7102269}\n",
      "\t last loss:0.000258840, eval on validation:['ade: 0.3334968', 'fde: 0.7102269'], (best ade:0.33007792 at step 21900) \n"
     ]
    },
    {
     "name": "stderr",
     "output_type": "stream",
     "text": [
      "100%|██████████| 438/438 [00:17<00:00, 26.30it/s]\n",
      "  0%|          | 1/438 [00:00<00:48,  9.01it/s]"
     ]
    },
    {
     "name": "stdout",
     "output_type": "stream",
     "text": [
      "('Epoca 59.', 'lr:', 1.7954744e-05)\n"
     ]
    },
    {
     "name": "stderr",
     "output_type": "stream",
     "text": [
      " 21%|██▏       | 94/438 [00:03<00:13, 24.76it/s]\n",
      "  0%|          | 0/39 [00:00<?, ?it/s]\u001b[A"
     ]
    },
    {
     "name": "stdout",
     "output_type": "stream",
     "text": [
      "\tsaving model 25500...\n",
      "\tdone\n",
      "Evaluating\n"
     ]
    },
    {
     "name": "stderr",
     "output_type": "stream",
     "text": [
      "\n",
      " 23%|##3       | 9/39 [00:00<00:00, 86.49it/s]\u001b[A\n",
      " 41%|####1     | 16/39 [00:00<00:00, 77.74it/s]\u001b[A\n",
      " 62%|######1   | 24/39 [00:00<00:00, 77.79it/s]\u001b[A\n",
      " 82%|########2 | 32/39 [00:00<00:00, 77.05it/s]\u001b[A\n",
      " 23%|██▎       | 100/438 [00:04<00:30, 11.05it/s]A"
     ]
    },
    {
     "name": "stdout",
     "output_type": "stream",
     "text": [
      "{'ade': 0.3329574, 'fde': 0.7114064}\n",
      "\t last loss:0.000304073, eval on validation:['ade: 0.3329574', 'fde: 0.7114064'], (best ade:0.33007792 at step 21900) \n"
     ]
    },
    {
     "name": "stderr",
     "output_type": "stream",
     "text": [
      " 90%|████████▉ | 394/438 [00:16<00:01, 22.21it/s]\n",
      "  0%|          | 0/39 [00:00<?, ?it/s]\u001b[A"
     ]
    },
    {
     "name": "stdout",
     "output_type": "stream",
     "text": [
      "\tsaving model 25800...\n",
      "\tdone\n",
      "Evaluating\n"
     ]
    },
    {
     "name": "stderr",
     "output_type": "stream",
     "text": [
      "\n",
      " 23%|##3       | 9/39 [00:00<00:00, 85.25it/s]\u001b[A\n",
      " 41%|####1     | 16/39 [00:00<00:00, 76.40it/s]\u001b[A\n",
      " 62%|######1   | 24/39 [00:00<00:00, 75.90it/s]\u001b[A\n",
      " 85%|########4 | 33/39 [00:00<00:00, 77.87it/s]\u001b[A\n",
      " 91%|█████████ | 397/438 [00:17<00:04,  8.49it/s]A"
     ]
    },
    {
     "name": "stdout",
     "output_type": "stream",
     "text": [
      "{'ade': 0.3319765, 'fde': 0.707297}\n",
      "\t last loss:0.000552338, eval on validation:['ade: 0.3319765', 'fde: 0.707297'], (best ade:0.33007792 at step 21900) \n"
     ]
    },
    {
     "name": "stderr",
     "output_type": "stream",
     "text": [
      "100%|██████████| 438/438 [00:19<00:00, 22.90it/s]\n",
      "  0%|          | 2/438 [00:00<00:30, 14.27it/s]"
     ]
    },
    {
     "name": "stdout",
     "output_type": "stream",
     "text": [
      "('Epoca 60.', 'lr:', 1.7954744e-05)\n"
     ]
    },
    {
     "name": "stderr",
     "output_type": "stream",
     "text": [
      " 59%|█████▊    | 257/438 [00:10<00:06, 26.43it/s]\n",
      "  0%|          | 0/39 [00:00<?, ?it/s]\u001b[A"
     ]
    },
    {
     "name": "stdout",
     "output_type": "stream",
     "text": [
      "\tsaving model 26100...\n",
      "\tdone\n",
      "Evaluating\n"
     ]
    },
    {
     "name": "stderr",
     "output_type": "stream",
     "text": [
      "\n",
      " 26%|##5       | 10/39 [00:00<00:00, 93.03it/s]\u001b[A\n",
      " 46%|####6     | 18/39 [00:00<00:00, 86.85it/s]\u001b[A\n",
      " 67%|######6   | 26/39 [00:00<00:00, 83.62it/s]\u001b[A\n",
      " 92%|#########2| 36/39 [00:00<00:00, 85.78it/s]\u001b[A\n",
      " 59%|█████▉    | 260/438 [00:11<00:18,  9.47it/s]A"
     ]
    },
    {
     "name": "stdout",
     "output_type": "stream",
     "text": [
      "{'ade': 0.33168322, 'fde': 0.7068438}\n",
      "\t last loss:0.000352210, eval on validation:['ade: 0.33168322', 'fde: 0.7068438'], (best ade:0.33007792 at step 21900) \n"
     ]
    },
    {
     "name": "stderr",
     "output_type": "stream",
     "text": [
      "100%|██████████| 438/438 [00:18<00:00, 24.11it/s]\n",
      "  0%|          | 1/438 [00:00<00:50,  8.58it/s]"
     ]
    },
    {
     "name": "stdout",
     "output_type": "stream",
     "text": [
      "('Epoca 61.', 'lr:', 1.5261532e-05)\n"
     ]
    },
    {
     "name": "stderr",
     "output_type": "stream",
     "text": [
      " 27%|██▋       | 117/438 [00:04<00:12, 24.88it/s]"
     ]
    },
    {
     "name": "stdout",
     "output_type": "stream",
     "text": [
      "\tsaving model 26400...\n"
     ]
    },
    {
     "name": "stderr",
     "output_type": "stream",
     "text": [
      "\n",
      "  0%|          | 0/39 [00:00<?, ?it/s]\u001b[A\n",
      " 21%|##        | 8/39 [00:00<00:00, 78.25it/s]\u001b[A"
     ]
    },
    {
     "name": "stdout",
     "output_type": "stream",
     "text": [
      "\tdone\n",
      "Evaluating\n"
     ]
    },
    {
     "name": "stderr",
     "output_type": "stream",
     "text": [
      "\n",
      " 36%|###5      | 14/39 [00:00<00:00, 71.16it/s]\u001b[A\n",
      " 59%|#####8    | 23/39 [00:00<00:00, 74.21it/s]\u001b[A\n",
      " 82%|########2 | 32/39 [00:00<00:00, 76.37it/s]\u001b[A\n",
      " 28%|██▊       | 123/438 [00:05<00:28, 10.88it/s]A"
     ]
    },
    {
     "name": "stdout",
     "output_type": "stream",
     "text": [
      "{'ade': 0.3320963, 'fde': 0.7077303}\n",
      "\t last loss:0.000898767, eval on validation:['ade: 0.3320963', 'fde: 0.7077303'], (best ade:0.33007792 at step 21900) \n"
     ]
    },
    {
     "name": "stderr",
     "output_type": "stream",
     "text": [
      " 95%|█████████▌| 417/438 [00:17<00:00, 26.28it/s]\n",
      "  0%|          | 0/39 [00:00<?, ?it/s]\u001b[A"
     ]
    },
    {
     "name": "stdout",
     "output_type": "stream",
     "text": [
      "\tsaving model 26700...\n",
      "\tdone\n",
      "Evaluating\n"
     ]
    },
    {
     "name": "stderr",
     "output_type": "stream",
     "text": [
      "\n",
      " 26%|##5       | 10/39 [00:00<00:00, 94.51it/s]\u001b[A\n",
      " 51%|#####1    | 20/39 [00:00<00:00, 94.16it/s]\u001b[A\n",
      " 74%|#######4  | 29/39 [00:00<00:00, 92.41it/s]\u001b[A\n",
      " 97%|#########7| 38/39 [00:00<00:00, 91.11it/s]\u001b[A\n",
      " 97%|█████████▋| 423/438 [00:18<00:01, 11.79it/s]A"
     ]
    },
    {
     "name": "stdout",
     "output_type": "stream",
     "text": [
      "{'ade': 0.33323076, 'fde': 0.71186775}\n",
      "\t last loss:0.000504980, eval on validation:['ade: 0.33323076', 'fde: 0.71186775'], (best ade:0.33007792 at step 21900) \n"
     ]
    },
    {
     "name": "stderr",
     "output_type": "stream",
     "text": [
      "100%|██████████| 438/438 [00:18<00:00, 21.59it/s]\n",
      "  0%|          | 2/438 [00:00<00:27, 15.98it/s]"
     ]
    },
    {
     "name": "stdout",
     "output_type": "stream",
     "text": [
      "('Epoca 62.', 'lr:', 1.5261532e-05)\n"
     ]
    },
    {
     "name": "stderr",
     "output_type": "stream",
     "text": [
      " 64%|██████▍   | 281/438 [00:11<00:07, 21.31it/s]"
     ]
    },
    {
     "name": "stdout",
     "output_type": "stream",
     "text": [
      "\tsaving model 27000...\n"
     ]
    },
    {
     "name": "stderr",
     "output_type": "stream",
     "text": [
      "\n",
      "  0%|          | 0/39 [00:00<?, ?it/s]\u001b[A\n",
      " 23%|##3       | 9/39 [00:00<00:00, 84.61it/s]\u001b[A"
     ]
    },
    {
     "name": "stdout",
     "output_type": "stream",
     "text": [
      "\tdone\n",
      "Evaluating\n"
     ]
    },
    {
     "name": "stderr",
     "output_type": "stream",
     "text": [
      "\n",
      " 38%|###8      | 15/39 [00:00<00:00, 73.75it/s]\u001b[A\n",
      " 49%|####8     | 19/39 [00:00<00:00, 56.94it/s]\u001b[A\n",
      " 59%|#####8    | 23/39 [00:00<00:00, 45.34it/s]\u001b[A\n",
      " 69%|######9   | 27/39 [00:00<00:00, 40.22it/s]\u001b[A\n",
      " 82%|########2 | 32/39 [00:00<00:00, 41.61it/s]\u001b[A\n",
      " 95%|#########4| 37/39 [00:00<00:00, 42.49it/s]\u001b[A\n",
      "100%|##########| 39/39 [00:00<00:00, 45.60it/s]\u001b[A"
     ]
    },
    {
     "name": "stdout",
     "output_type": "stream",
     "text": [
      "{'ade': 0.3307726, 'fde': 0.7041978}\n",
      "\t last loss:0.000292266, eval on validation:['ade: 0.3307726', 'fde: 0.7041978'], (best ade:0.33007792 at step 21900) \n"
     ]
    },
    {
     "name": "stderr",
     "output_type": "stream",
     "text": [
      "100%|██████████| 438/438 [00:23<00:00, 18.42it/s]\n",
      "  0%|          | 2/438 [00:00<00:28, 15.16it/s]"
     ]
    },
    {
     "name": "stdout",
     "output_type": "stream",
     "text": [
      "('Epoca 63.', 'lr:', 1.2972303e-05)\n"
     ]
    },
    {
     "name": "stderr",
     "output_type": "stream",
     "text": [
      " 33%|███▎      | 143/438 [00:06<00:11, 25.65it/s]\n",
      "  0%|          | 0/39 [00:00<?, ?it/s]\u001b[A"
     ]
    },
    {
     "name": "stdout",
     "output_type": "stream",
     "text": [
      "\tsaving model 27300...\n",
      "\tdone\n",
      "Evaluating\n"
     ]
    },
    {
     "name": "stderr",
     "output_type": "stream",
     "text": [
      "\n",
      " 23%|##3       | 9/39 [00:00<00:00, 82.70it/s]\u001b[A\n",
      " 46%|####6     | 18/39 [00:00<00:00, 82.68it/s]\u001b[A\n",
      " 69%|######9   | 27/39 [00:00<00:00, 83.75it/s]\u001b[A\n",
      " 90%|########9 | 35/39 [00:00<00:00, 81.77it/s]\u001b[A\n",
      " 33%|███▎      | 146/438 [00:07<00:31,  9.41it/s]A"
     ]
    },
    {
     "name": "stdout",
     "output_type": "stream",
     "text": [
      "{'ade': 0.33069372, 'fde': 0.7034017}\n",
      "\t last loss:0.000612916, eval on validation:['ade: 0.33069372', 'fde: 0.7034017'], (best ade:0.33007792 at step 21900) \n"
     ]
    },
    {
     "name": "stderr",
     "output_type": "stream",
     "text": [
      "100%|██████████| 438/438 [00:19<00:00, 22.83it/s]\n",
      "  1%|          | 3/438 [00:00<00:19, 22.59it/s]"
     ]
    },
    {
     "name": "stdout",
     "output_type": "stream",
     "text": [
      "('Epoca 64.', 'lr:', 1.2972303e-05)\n"
     ]
    },
    {
     "name": "stderr",
     "output_type": "stream",
     "text": [
      "\n",
      "  0%|          | 0/39 [00:00<?, ?it/s]\u001b[A"
     ]
    },
    {
     "name": "stdout",
     "output_type": "stream",
     "text": [
      "\tsaving model 27600...\n",
      "\tdone\n",
      "Evaluating\n"
     ]
    },
    {
     "name": "stderr",
     "output_type": "stream",
     "text": [
      "\n",
      " 21%|##        | 8/39 [00:00<00:00, 77.34it/s]\u001b[A\n",
      " 41%|####1     | 16/39 [00:00<00:00, 77.66it/s]\u001b[A\n",
      " 64%|######4   | 25/39 [00:00<00:00, 78.72it/s]\u001b[A\n",
      " 85%|########4 | 33/39 [00:00<00:00, 78.30it/s]\u001b[A\n",
      "  2%|▏         | 9/438 [00:01<00:40, 10.65it/s]\u001b[A"
     ]
    },
    {
     "name": "stdout",
     "output_type": "stream",
     "text": [
      "{'ade': 0.33118036, 'fde': 0.7050325}\n",
      "\t last loss:0.000261491, eval on validation:['ade: 0.33118036', 'fde: 0.7050325'], (best ade:0.33007792 at step 21900) \n"
     ]
    },
    {
     "name": "stderr",
     "output_type": "stream",
     "text": [
      " 70%|██████▉   | 305/438 [00:13<00:05, 26.09it/s]\n",
      "  0%|          | 0/39 [00:00<?, ?it/s]\u001b[A"
     ]
    },
    {
     "name": "stdout",
     "output_type": "stream",
     "text": [
      "\tsaving model 27900...\n",
      "\tdone\n",
      "Evaluating\n"
     ]
    },
    {
     "name": "stderr",
     "output_type": "stream",
     "text": [
      "\n",
      " 23%|##3       | 9/39 [00:00<00:00, 84.08it/s]\u001b[A\n",
      " 46%|####6     | 18/39 [00:00<00:00, 85.62it/s]\u001b[A\n",
      " 72%|#######1  | 28/39 [00:00<00:00, 87.46it/s]\u001b[A\n",
      " 97%|#########7| 38/39 [00:00<00:00, 88.52it/s]\u001b[A\n",
      " 70%|███████   | 308/438 [00:13<00:13,  9.38it/s]A"
     ]
    },
    {
     "name": "stdout",
     "output_type": "stream",
     "text": [
      "{'ade': 0.3325313, 'fde': 0.70869195}\n",
      "\t last loss:0.000340579, eval on validation:['ade: 0.3325313', 'fde: 0.70869195'], (best ade:0.33007792 at step 21900) \n"
     ]
    },
    {
     "name": "stderr",
     "output_type": "stream",
     "text": [
      "100%|██████████| 438/438 [00:19<00:00, 22.73it/s]\n",
      "  1%|          | 3/438 [00:00<00:17, 24.83it/s]"
     ]
    },
    {
     "name": "stdout",
     "output_type": "stream",
     "text": [
      "('Epoca 65.', 'lr:', 1.1026457e-05)\n"
     ]
    },
    {
     "name": "stderr",
     "output_type": "stream",
     "text": [
      " 38%|███▊      | 165/438 [00:06<00:11, 24.81it/s]\n",
      "  0%|          | 0/39 [00:00<?, ?it/s]\u001b[A"
     ]
    },
    {
     "name": "stdout",
     "output_type": "stream",
     "text": [
      "\tsaving model 28200...\n",
      "\tdone\n",
      "Evaluating\n"
     ]
    },
    {
     "name": "stderr",
     "output_type": "stream",
     "text": [
      "\n",
      " 23%|##3       | 9/39 [00:00<00:00, 88.39it/s]\u001b[A\n",
      " 46%|####6     | 18/39 [00:00<00:00, 87.39it/s]\u001b[A\n",
      " 67%|######6   | 26/39 [00:00<00:00, 81.14it/s]\u001b[A\n",
      " 85%|########4 | 33/39 [00:00<00:00, 77.28it/s]\u001b[A\n",
      " 39%|███▉      | 171/438 [00:07<00:23, 11.30it/s]A"
     ]
    },
    {
     "name": "stdout",
     "output_type": "stream",
     "text": [
      "{'ade': 0.3311487, 'fde': 0.70572615}\n",
      "\t last loss:0.000207949, eval on validation:['ade: 0.3311487', 'fde: 0.70572615'], (best ade:0.33007792 at step 21900) \n"
     ]
    },
    {
     "name": "stderr",
     "output_type": "stream",
     "text": [
      "100%|██████████| 438/438 [00:18<00:00, 25.44it/s]\n",
      "  0%|          | 2/438 [00:00<00:23, 18.54it/s]"
     ]
    },
    {
     "name": "stdout",
     "output_type": "stream",
     "text": [
      "('Epoca 66.', 'lr:', 1.1026457e-05)\n"
     ]
    },
    {
     "name": "stderr",
     "output_type": "stream",
     "text": [
      "  7%|▋         | 29/438 [00:01<00:17, 24.03it/s]\n",
      "  0%|          | 0/39 [00:00<?, ?it/s]\u001b[A"
     ]
    },
    {
     "name": "stdout",
     "output_type": "stream",
     "text": [
      "\tsaving model 28500...\n",
      "\tdone\n",
      "Evaluating\n"
     ]
    },
    {
     "name": "stderr",
     "output_type": "stream",
     "text": [
      "\n",
      " 23%|##3       | 9/39 [00:00<00:00, 85.31it/s]\u001b[A\n",
      " 44%|####3     | 17/39 [00:00<00:00, 83.31it/s]\u001b[A\n",
      " 64%|######4   | 25/39 [00:00<00:00, 80.27it/s]\u001b[A\n",
      " 82%|########2 | 32/39 [00:00<00:00, 73.76it/s]\u001b[A\n",
      "  7%|▋         | 32/438 [00:02<00:46,  8.72it/s][A"
     ]
    },
    {
     "name": "stdout",
     "output_type": "stream",
     "text": [
      "{'ade': 0.33323327, 'fde': 0.71102434}\n",
      "\t last loss:0.000459342, eval on validation:['ade: 0.33323327', 'fde: 0.71102434'], (best ade:0.33007792 at step 21900) \n"
     ]
    },
    {
     "name": "stderr",
     "output_type": "stream",
     "text": [
      " 75%|███████▌  | 329/438 [00:13<00:04, 26.34it/s]\n",
      "  0%|          | 0/39 [00:00<?, ?it/s]\u001b[A"
     ]
    },
    {
     "name": "stdout",
     "output_type": "stream",
     "text": [
      "\tsaving model 28800...\n",
      "\tdone\n",
      "Evaluating\n"
     ]
    },
    {
     "name": "stderr",
     "output_type": "stream",
     "text": [
      "\n",
      " 26%|##5       | 10/39 [00:00<00:00, 91.72it/s]\u001b[A\n",
      " 51%|#####1    | 20/39 [00:00<00:00, 91.15it/s]\u001b[A\n",
      " 67%|######6   | 26/39 [00:00<00:00, 78.67it/s]\u001b[A\n",
      " 90%|########9 | 35/39 [00:00<00:00, 81.63it/s]\u001b[A\n",
      " 76%|███████▌  | 332/438 [00:14<00:11,  9.47it/s]A"
     ]
    },
    {
     "name": "stdout",
     "output_type": "stream",
     "text": [
      "{'ade': 0.33239672, 'fde': 0.70838493}\n",
      "\t last loss:0.000305955, eval on validation:['ade: 0.33239672', 'fde: 0.70838493'], (best ade:0.33007792 at step 21900) \n"
     ]
    },
    {
     "name": "stderr",
     "output_type": "stream",
     "text": [
      "100%|██████████| 438/438 [00:19<00:00, 22.88it/s]\n",
      "  1%|          | 3/438 [00:00<00:19, 22.89it/s]"
     ]
    },
    {
     "name": "stdout",
     "output_type": "stream",
     "text": [
      "('Epoca 67.', 'lr:', 9.37249e-06)\n"
     ]
    },
    {
     "name": "stderr",
     "output_type": "stream",
     "text": [
      " 43%|████▎     | 189/438 [00:07<00:10, 24.34it/s]\n",
      "  0%|          | 0/39 [00:00<?, ?it/s]\u001b[A"
     ]
    },
    {
     "name": "stdout",
     "output_type": "stream",
     "text": [
      "\tsaving model 29100...\n",
      "\tdone\n",
      "Evaluating\n"
     ]
    },
    {
     "name": "stderr",
     "output_type": "stream",
     "text": [
      "\n",
      " 23%|##3       | 9/39 [00:00<00:00, 81.90it/s]\u001b[A\n",
      " 44%|####3     | 17/39 [00:00<00:00, 81.21it/s]\u001b[A\n",
      " 59%|#####8    | 23/39 [00:00<00:00, 72.10it/s]\u001b[A\n",
      " 79%|#######9  | 31/39 [00:00<00:00, 72.23it/s]\u001b[A\n",
      " 45%|████▍     | 195/438 [00:08<00:22, 10.74it/s]A"
     ]
    },
    {
     "name": "stdout",
     "output_type": "stream",
     "text": [
      "{'ade': 0.33256277, 'fde': 0.7085376}\n",
      "\t last loss:0.000369632, eval on validation:['ade: 0.33256277', 'fde: 0.7085376'], (best ade:0.33007792 at step 21900) \n"
     ]
    },
    {
     "name": "stderr",
     "output_type": "stream",
     "text": [
      "100%|██████████| 438/438 [00:18<00:00, 23.63it/s]\n",
      "  1%|          | 3/438 [00:00<00:17, 24.21it/s]"
     ]
    },
    {
     "name": "stdout",
     "output_type": "stream",
     "text": [
      "('Epoca 68.', 'lr:', 9.37249e-06)\n"
     ]
    },
    {
     "name": "stderr",
     "output_type": "stream",
     "text": [
      " 12%|█▏        | 51/438 [00:01<00:14, 26.14it/s]\n",
      "  0%|          | 0/39 [00:00<?, ?it/s]\u001b[A"
     ]
    },
    {
     "name": "stdout",
     "output_type": "stream",
     "text": [
      "\tsaving model 29400...\n",
      "\tdone\n",
      "Evaluating\n"
     ]
    },
    {
     "name": "stderr",
     "output_type": "stream",
     "text": [
      "\n",
      " 23%|##3       | 9/39 [00:00<00:00, 86.01it/s]\u001b[A\n",
      " 49%|####8     | 19/39 [00:00<00:00, 87.84it/s]\u001b[A\n",
      " 72%|#######1  | 28/39 [00:00<00:00, 87.05it/s]\u001b[A\n",
      " 87%|########7 | 34/39 [00:00<00:00, 76.51it/s]\u001b[A\n",
      "100%|##########| 39/39 [00:00<00:00, 80.07it/s]\u001b[A"
     ]
    },
    {
     "name": "stdout",
     "output_type": "stream",
     "text": [
      "{'ade': 0.32966873, 'fde': 0.7012296}\n",
      "\t last loss:0.000248693, eval on validation:['ade: 0.32966873', 'fde: 0.7012296'], (best ade:0.33007792 at step 21900) \n",
      "\t saving best model...\n",
      "\t done.\n"
     ]
    },
    {
     "name": "stderr",
     "output_type": "stream",
     "text": [
      " 80%|████████  | 351/438 [00:15<00:03, 24.74it/s]\n",
      "  0%|          | 0/39 [00:00<?, ?it/s]\u001b[A"
     ]
    },
    {
     "name": "stdout",
     "output_type": "stream",
     "text": [
      "\tsaving model 29700...\n",
      "\tdone\n",
      "Evaluating\n"
     ]
    },
    {
     "name": "stderr",
     "output_type": "stream",
     "text": [
      "\n",
      " 23%|##3       | 9/39 [00:00<00:00, 87.64it/s]\u001b[A\n",
      " 46%|####6     | 18/39 [00:00<00:00, 88.03it/s]\u001b[A\n",
      " 69%|######9   | 27/39 [00:00<00:00, 88.47it/s]\u001b[A\n",
      " 95%|#########4| 37/39 [00:00<00:00, 89.52it/s]\u001b[A\n",
      " 82%|████████▏ | 357/438 [00:15<00:07, 11.52it/s]A"
     ]
    },
    {
     "name": "stdout",
     "output_type": "stream",
     "text": [
      "{'ade': 0.33029166, 'fde': 0.70238054}\n",
      "\t last loss:0.000572307, eval on validation:['ade: 0.33029166', 'fde: 0.70238054'], (best ade:0.32966873 at step 29400) \n"
     ]
    },
    {
     "name": "stderr",
     "output_type": "stream",
     "text": [
      "100%|██████████| 438/438 [00:19<00:00, 22.82it/s]\n",
      "  1%|          | 3/438 [00:00<00:18, 23.49it/s]"
     ]
    },
    {
     "name": "stdout",
     "output_type": "stream",
     "text": [
      "('Epoca 69.', 'lr:', 7.966617e-06)\n"
     ]
    },
    {
     "name": "stderr",
     "output_type": "stream",
     "text": [
      " 49%|████▊     | 213/438 [00:08<00:09, 24.46it/s]\n"
     ]
    },
    {
     "name": "stdout",
     "output_type": "stream",
     "text": [
      "\tsaving model 30000...\n",
      "\tdone\n",
      "Evaluating\n"
     ]
    },
    {
     "name": "stderr",
     "output_type": "stream",
     "text": [
      "  0%|          | 0/39 [00:00<?, ?it/s]\u001b[A\n",
      " 21%|##        | 8/39 [00:00<00:00, 78.46it/s]\u001b[A\n",
      " 41%|####1     | 16/39 [00:00<00:00, 77.77it/s]\u001b[A\n",
      " 59%|#####8    | 23/39 [00:00<00:00, 74.25it/s]\u001b[A\n",
      " 79%|#######9  | 31/39 [00:00<00:00, 75.87it/s]\u001b[A\n",
      " 50%|█████     | 219/438 [00:09<00:20, 10.60it/s]A"
     ]
    },
    {
     "name": "stdout",
     "output_type": "stream",
     "text": [
      "{'ade': 0.33114257, 'fde': 0.7058962}\n",
      "\t last loss:0.000701476, eval on validation:['ade: 0.33114257', 'fde: 0.7058962'], (best ade:0.32966873 at step 29400) \n"
     ]
    },
    {
     "name": "stderr",
     "output_type": "stream",
     "text": [
      "100%|██████████| 438/438 [00:18<00:00, 24.09it/s]\n",
      "  0%|          | 2/438 [00:00<00:30, 14.40it/s]"
     ]
    },
    {
     "name": "stdout",
     "output_type": "stream",
     "text": [
      "('Epoca 70.', 'lr:', 7.966617e-06)\n"
     ]
    },
    {
     "name": "stderr",
     "output_type": "stream",
     "text": [
      " 18%|█▊        | 77/438 [00:03<00:13, 26.01it/s]\n",
      "  0%|          | 0/39 [00:00<?, ?it/s]\u001b[A"
     ]
    },
    {
     "name": "stdout",
     "output_type": "stream",
     "text": [
      "\tsaving model 30300...\n",
      "\tdone\n",
      "Evaluating\n"
     ]
    },
    {
     "name": "stderr",
     "output_type": "stream",
     "text": [
      "\n",
      " 23%|##3       | 9/39 [00:00<00:00, 88.66it/s]\u001b[A\n",
      " 41%|####1     | 16/39 [00:00<00:00, 79.81it/s]\u001b[A\n",
      " 62%|######1   | 24/39 [00:00<00:00, 79.55it/s]\u001b[A\n",
      " 87%|########7 | 34/39 [00:00<00:00, 82.63it/s]\u001b[A\n",
      " 18%|█▊        | 80/438 [00:03<00:38,  9.23it/s][A"
     ]
    },
    {
     "name": "stdout",
     "output_type": "stream",
     "text": [
      "{'ade': 0.33076346, 'fde': 0.70372885}\n",
      "\t last loss:0.000316913, eval on validation:['ade: 0.33076346', 'fde: 0.70372885'], (best ade:0.32966873 at step 29400) \n"
     ]
    },
    {
     "name": "stderr",
     "output_type": "stream",
     "text": [
      " 86%|████████▌ | 377/438 [00:15<00:02, 24.46it/s]\n",
      "  0%|          | 0/39 [00:00<?, ?it/s]\u001b[A"
     ]
    },
    {
     "name": "stdout",
     "output_type": "stream",
     "text": [
      "\tsaving model 30600...\n",
      "\tdone\n",
      "Evaluating\n"
     ]
    },
    {
     "name": "stderr",
     "output_type": "stream",
     "text": [
      "\n",
      " 23%|##3       | 9/39 [00:00<00:00, 84.96it/s]\u001b[A\n",
      " 44%|####3     | 17/39 [00:00<00:00, 82.78it/s]\u001b[A\n",
      " 64%|######4   | 25/39 [00:00<00:00, 79.65it/s]\u001b[A\n",
      " 87%|########7 | 34/39 [00:00<00:00, 80.70it/s]\u001b[A\n",
      " 87%|████████▋ | 380/438 [00:16<00:06,  9.07it/s]A"
     ]
    },
    {
     "name": "stdout",
     "output_type": "stream",
     "text": [
      "{'ade': 0.33144194, 'fde': 0.7048726}\n",
      "\t last loss:0.000361264, eval on validation:['ade: 0.33144194', 'fde: 0.7048726'], (best ade:0.32966873 at step 29400) \n"
     ]
    },
    {
     "name": "stderr",
     "output_type": "stream",
     "text": [
      "100%|██████████| 438/438 [00:19<00:00, 22.84it/s]\n",
      "  0%|          | 1/438 [00:00<00:50,  8.68it/s]"
     ]
    },
    {
     "name": "stdout",
     "output_type": "stream",
     "text": [
      "('Epoca 71.', 'lr:', 6.7716246e-06)\n"
     ]
    },
    {
     "name": "stderr",
     "output_type": "stream",
     "text": [
      " 54%|█████▍    | 238/438 [00:09<00:07, 26.15it/s]\n",
      "  0%|          | 0/39 [00:00<?, ?it/s]\u001b[A"
     ]
    },
    {
     "name": "stdout",
     "output_type": "stream",
     "text": [
      "\tsaving model 30900...\n",
      "\tdone\n",
      "Evaluating\n"
     ]
    },
    {
     "name": "stderr",
     "output_type": "stream",
     "text": [
      "\n",
      " 23%|##3       | 9/39 [00:00<00:00, 89.65it/s]\u001b[A\n",
      " 41%|####1     | 16/39 [00:00<00:00, 80.44it/s]\u001b[A\n",
      " 62%|######1   | 24/39 [00:00<00:00, 79.68it/s]\u001b[A\n",
      " 85%|########4 | 33/39 [00:00<00:00, 80.23it/s]\u001b[A\n",
      " 55%|█████▌    | 241/438 [00:10<00:21,  9.14it/s]A"
     ]
    },
    {
     "name": "stdout",
     "output_type": "stream",
     "text": [
      "{'ade': 0.33258986, 'fde': 0.70859253}\n",
      "\t last loss:0.000334538, eval on validation:['ade: 0.33258986', 'fde: 0.70859253'], (best ade:0.32966873 at step 29400) \n"
     ]
    },
    {
     "name": "stderr",
     "output_type": "stream",
     "text": [
      "100%|██████████| 438/438 [00:18<00:00, 23.88it/s]\n",
      "  0%|          | 2/438 [00:00<00:27, 15.86it/s]"
     ]
    },
    {
     "name": "stdout",
     "output_type": "stream",
     "text": [
      "('Epoca 72.', 'lr:', 6.7716246e-06)\n"
     ]
    },
    {
     "name": "stderr",
     "output_type": "stream",
     "text": [
      " 23%|██▎       | 101/438 [00:04<00:13, 25.39it/s]\n",
      "  0%|          | 0/39 [00:00<?, ?it/s]\u001b[A"
     ]
    },
    {
     "name": "stdout",
     "output_type": "stream",
     "text": [
      "\tsaving model 31200...\n",
      "\tdone\n",
      "Evaluating\n"
     ]
    },
    {
     "name": "stderr",
     "output_type": "stream",
     "text": [
      "\n",
      " 23%|##3       | 9/39 [00:00<00:00, 89.74it/s]\u001b[A\n",
      " 46%|####6     | 18/39 [00:00<00:00, 88.79it/s]\u001b[A\n",
      " 69%|######9   | 27/39 [00:00<00:00, 89.05it/s]\u001b[A\n",
      " 87%|########7 | 34/39 [00:00<00:00, 80.64it/s]\u001b[A\n",
      " 24%|██▎       | 104/438 [00:04<00:36,  9.26it/s]A"
     ]
    },
    {
     "name": "stdout",
     "output_type": "stream",
     "text": [
      "{'ade': 0.3307548, 'fde': 0.70339555}\n",
      "\t last loss:0.000327342, eval on validation:['ade: 0.3307548', 'fde: 0.70339555'], (best ade:0.32966873 at step 29400) \n"
     ]
    },
    {
     "name": "stderr",
     "output_type": "stream",
     "text": [
      " 92%|█████████▏| 401/438 [00:17<00:01, 23.90it/s]"
     ]
    },
    {
     "name": "stdout",
     "output_type": "stream",
     "text": [
      "\tsaving model 31500...\n"
     ]
    },
    {
     "name": "stderr",
     "output_type": "stream",
     "text": [
      "\n",
      "  0%|          | 0/39 [00:00<?, ?it/s]\u001b[A\n",
      " 23%|##3       | 9/39 [00:00<00:00, 83.95it/s]\u001b[A\n",
      " 46%|####6     | 18/39 [00:00<00:00, 83.30it/s]\u001b[A\n",
      " 69%|######9   | 27/39 [00:00<00:00, 83.01it/s]\u001b[A\n",
      " 92%|#########2| 36/39 [00:00<00:00, 83.03it/s]\u001b[A\n",
      " 92%|█████████▏| 404/438 [00:17<00:03,  8.75it/s]A"
     ]
    },
    {
     "name": "stdout",
     "output_type": "stream",
     "text": [
      "\tdone\n",
      "Evaluating\n",
      "{'ade': 0.3312396, 'fde': 0.7053458}\n",
      "\t last loss:0.000678677, eval on validation:['ade: 0.3312396', 'fde: 0.7053458'], (best ade:0.32966873 at step 29400) \n"
     ]
    },
    {
     "name": "stderr",
     "output_type": "stream",
     "text": [
      "100%|██████████| 438/438 [00:19<00:00, 23.49it/s]\n",
      "  0%|          | 1/438 [00:00<00:45,  9.64it/s]"
     ]
    },
    {
     "name": "stdout",
     "output_type": "stream",
     "text": [
      "('Epoca 73.', 'lr:', 5.7558805e-06)\n"
     ]
    },
    {
     "name": "stderr",
     "output_type": "stream",
     "text": [
      " 60%|█████▉    | 262/438 [00:10<00:06, 25.70it/s]\n",
      "  0%|          | 0/39 [00:00<?, ?it/s]\u001b[A"
     ]
    },
    {
     "name": "stdout",
     "output_type": "stream",
     "text": [
      "\tsaving model 31800...\n",
      "\tdone\n",
      "Evaluating\n"
     ]
    },
    {
     "name": "stderr",
     "output_type": "stream",
     "text": [
      "\n",
      " 23%|##3       | 9/39 [00:00<00:00, 84.75it/s]\u001b[A\n",
      " 38%|###8      | 15/39 [00:00<00:00, 74.20it/s]\u001b[A\n",
      " 62%|######1   | 24/39 [00:00<00:00, 76.90it/s]\u001b[A\n",
      " 85%|########4 | 33/39 [00:00<00:00, 79.96it/s]\u001b[A\n",
      " 61%|██████    | 265/438 [00:11<00:19,  9.10it/s]A"
     ]
    },
    {
     "name": "stdout",
     "output_type": "stream",
     "text": [
      "{'ade': 0.3309915, 'fde': 0.7044962}\n",
      "\t last loss:0.000403383, eval on validation:['ade: 0.3309915', 'fde: 0.7044962'], (best ade:0.32966873 at step 29400) \n"
     ]
    },
    {
     "name": "stderr",
     "output_type": "stream",
     "text": [
      "100%|██████████| 438/438 [00:18<00:00, 23.51it/s]\n",
      "  0%|          | 1/438 [00:00<00:51,  8.41it/s]"
     ]
    },
    {
     "name": "stdout",
     "output_type": "stream",
     "text": [
      "('Epoca 74.', 'lr:', 5.7558805e-06)\n"
     ]
    },
    {
     "name": "stderr",
     "output_type": "stream",
     "text": [
      " 28%|██▊       | 124/438 [00:05<00:12, 24.55it/s]\n",
      "  0%|          | 0/39 [00:00<?, ?it/s]\u001b[A"
     ]
    },
    {
     "name": "stdout",
     "output_type": "stream",
     "text": [
      "\tsaving model 32100...\n",
      "\tdone\n",
      "Evaluating\n"
     ]
    },
    {
     "name": "stderr",
     "output_type": "stream",
     "text": [
      "\n",
      " 23%|##3       | 9/39 [00:00<00:00, 85.88it/s]\u001b[A\n",
      " 44%|####3     | 17/39 [00:00<00:00, 83.63it/s]\u001b[A\n",
      " 64%|######4   | 25/39 [00:00<00:00, 82.33it/s]\u001b[A\n",
      " 85%|########4 | 33/39 [00:00<00:00, 81.40it/s]\u001b[A\n",
      " 29%|██▉       | 127/438 [00:05<00:36,  8.47it/s]A"
     ]
    },
    {
     "name": "stdout",
     "output_type": "stream",
     "text": [
      "{'ade': 0.33160177, 'fde': 0.7063661}\n",
      "\t last loss:0.000333107, eval on validation:['ade: 0.33160177', 'fde: 0.7063661'], (best ade:0.32966873 at step 29400) \n"
     ]
    },
    {
     "name": "stderr",
     "output_type": "stream",
     "text": [
      " 97%|█████████▋| 423/438 [00:19<00:00, 25.55it/s]\n",
      "  0%|          | 0/39 [00:00<?, ?it/s]\u001b[A"
     ]
    },
    {
     "name": "stdout",
     "output_type": "stream",
     "text": [
      "\tsaving model 32400...\n",
      "\tdone\n",
      "Evaluating\n"
     ]
    },
    {
     "name": "stderr",
     "output_type": "stream",
     "text": [
      "\n",
      " 23%|##3       | 9/39 [00:00<00:00, 86.00it/s]\u001b[A\n",
      " 49%|####8     | 19/39 [00:00<00:00, 87.70it/s]\u001b[A\n",
      " 74%|#######4  | 29/39 [00:00<00:00, 88.98it/s]\u001b[A\n",
      " 98%|█████████▊| 429/438 [00:19<00:00, 12.00it/s]A"
     ]
    },
    {
     "name": "stdout",
     "output_type": "stream",
     "text": [
      "{'ade': 0.3314136, 'fde': 0.70602167}\n",
      "\t last loss:0.000453235, eval on validation:['ade: 0.3314136', 'fde: 0.70602167'], (best ade:0.32966873 at step 29400) \n"
     ]
    },
    {
     "name": "stderr",
     "output_type": "stream",
     "text": [
      "100%|██████████| 438/438 [00:20<00:00, 18.40it/s]\n",
      "  1%|          | 3/438 [00:00<00:17, 24.98it/s]"
     ]
    },
    {
     "name": "stdout",
     "output_type": "stream",
     "text": [
      "('Epoca 75.', 'lr:', 4.8924985e-06)\n"
     ]
    },
    {
     "name": "stderr",
     "output_type": "stream",
     "text": [
      " 65%|██████▌   | 285/438 [00:11<00:06, 24.09it/s]\n",
      "  0%|          | 0/39 [00:00<?, ?it/s]\u001b[A"
     ]
    },
    {
     "name": "stdout",
     "output_type": "stream",
     "text": [
      "\tsaving model 32700...\n",
      "\tdone\n",
      "Evaluating\n"
     ]
    },
    {
     "name": "stderr",
     "output_type": "stream",
     "text": [
      "\n",
      " 23%|##3       | 9/39 [00:00<00:00, 84.29it/s]\u001b[A\n",
      " 46%|####6     | 18/39 [00:00<00:00, 84.05it/s]\u001b[A\n",
      " 69%|######9   | 27/39 [00:00<00:00, 83.39it/s]\u001b[A\n",
      " 85%|########4 | 33/39 [00:00<00:00, 71.88it/s]\u001b[A\n",
      " 66%|██████▋   | 291/438 [00:12<00:13, 10.68it/s]A"
     ]
    },
    {
     "name": "stdout",
     "output_type": "stream",
     "text": [
      "{'ade': 0.33047625, 'fde': 0.70367736}\n",
      "\t last loss:0.000211743, eval on validation:['ade: 0.33047625', 'fde: 0.70367736'], (best ade:0.32966873 at step 29400) \n"
     ]
    },
    {
     "name": "stderr",
     "output_type": "stream",
     "text": [
      "100%|██████████| 438/438 [00:18<00:00, 24.62it/s]\n",
      "  0%|          | 2/438 [00:00<00:30, 14.48it/s]"
     ]
    },
    {
     "name": "stdout",
     "output_type": "stream",
     "text": [
      "('Epoca 76.', 'lr:', 4.8924985e-06)\n"
     ]
    },
    {
     "name": "stderr",
     "output_type": "stream",
     "text": [
      " 34%|███▍      | 149/438 [00:06<00:11, 25.88it/s]\n",
      "  0%|          | 0/39 [00:00<?, ?it/s]\u001b[A"
     ]
    },
    {
     "name": "stdout",
     "output_type": "stream",
     "text": [
      "\tsaving model 33000...\n",
      "\tdone\n",
      "Evaluating\n"
     ]
    },
    {
     "name": "stderr",
     "output_type": "stream",
     "text": [
      "\n",
      " 21%|##        | 8/39 [00:00<00:00, 79.73it/s]\u001b[A\n",
      " 41%|####1     | 16/39 [00:00<00:00, 78.42it/s]\u001b[A\n",
      " 59%|#####8    | 23/39 [00:00<00:00, 74.38it/s]\u001b[A\n",
      " 82%|########2 | 32/39 [00:00<00:00, 77.71it/s]\u001b[A\n",
      " 35%|███▍      | 152/438 [00:06<00:31,  9.22it/s]A"
     ]
    },
    {
     "name": "stdout",
     "output_type": "stream",
     "text": [
      "{'ade': 0.33105886, 'fde': 0.7049314}\n",
      "\t last loss:0.000273999, eval on validation:['ade: 0.33105886', 'fde: 0.7049314'], (best ade:0.32966873 at step 29400) \n"
     ]
    },
    {
     "name": "stderr",
     "output_type": "stream",
     "text": [
      "100%|██████████| 438/438 [00:18<00:00, 23.70it/s]\n",
      "  0%|          | 1/438 [00:00<00:49,  8.80it/s]"
     ]
    },
    {
     "name": "stdout",
     "output_type": "stream",
     "text": [
      "('Epoca 77.', 'lr:', 4.158624e-06)\n"
     ]
    },
    {
     "name": "stderr",
     "output_type": "stream",
     "text": [
      "  2%|▏         | 10/438 [00:00<00:28, 15.05it/s]\n",
      "  0%|          | 0/39 [00:00<?, ?it/s]\u001b[A"
     ]
    },
    {
     "name": "stdout",
     "output_type": "stream",
     "text": [
      "\tsaving model 33300...\n",
      "\tdone\n",
      "Evaluating\n"
     ]
    },
    {
     "name": "stderr",
     "output_type": "stream",
     "text": [
      "\n",
      " 23%|##3       | 9/39 [00:00<00:00, 89.69it/s]\u001b[A\n",
      " 49%|####8     | 19/39 [00:00<00:00, 90.15it/s]\u001b[A\n",
      " 67%|######6   | 26/39 [00:00<00:00, 82.97it/s]\u001b[A\n",
      " 90%|########9 | 35/39 [00:00<00:00, 82.59it/s]\u001b[A\n",
      "  3%|▎         | 15/438 [00:01<00:52,  8.07it/s][A"
     ]
    },
    {
     "name": "stdout",
     "output_type": "stream",
     "text": [
      "{'ade': 0.33106694, 'fde': 0.7052675}\n",
      "\t last loss:0.000371314, eval on validation:['ade: 0.33106694', 'fde: 0.7052675'], (best ade:0.32966873 at step 29400) \n"
     ]
    },
    {
     "name": "stderr",
     "output_type": "stream",
     "text": [
      " 71%|███████   | 311/438 [00:13<00:05, 24.87it/s]\n",
      "  0%|          | 0/39 [00:00<?, ?it/s]"
     ]
    },
    {
     "name": "stdout",
     "output_type": "stream",
     "text": [
      "\tsaving model 33600...\n",
      "\tdone\n",
      "Evaluating\n"
     ]
    },
    {
     "name": "stderr",
     "output_type": "stream",
     "text": [
      "\u001b[A\n",
      " 23%|##3       | 9/39 [00:00<00:00, 82.33it/s]\u001b[A\n",
      " 44%|####3     | 17/39 [00:00<00:00, 81.14it/s]\u001b[A\n",
      " 64%|######4   | 25/39 [00:00<00:00, 80.45it/s]\u001b[A\n",
      " 82%|########2 | 32/39 [00:00<00:00, 74.95it/s]\u001b[A\n",
      " 72%|███████▏  | 314/438 [00:13<00:14,  8.71it/s]A"
     ]
    },
    {
     "name": "stdout",
     "output_type": "stream",
     "text": [
      "{'ade': 0.33062857, 'fde': 0.70382124}\n",
      "\t last loss:0.000262673, eval on validation:['ade: 0.33062857', 'fde: 0.70382124'], (best ade:0.32966873 at step 29400) \n"
     ]
    },
    {
     "name": "stderr",
     "output_type": "stream",
     "text": [
      "100%|██████████| 438/438 [00:19<00:00, 23.02it/s]\n",
      "  0%|          | 1/438 [00:00<00:47,  9.21it/s]"
     ]
    },
    {
     "name": "stdout",
     "output_type": "stream",
     "text": [
      "('Epoca 78.', 'lr:', 4.158624e-06)\n"
     ]
    },
    {
     "name": "stderr",
     "output_type": "stream",
     "text": [
      " 39%|███▉      | 172/438 [00:06<00:10, 25.53it/s]\n",
      "  0%|          | 0/39 [00:00<?, ?it/s]\u001b[A"
     ]
    },
    {
     "name": "stdout",
     "output_type": "stream",
     "text": [
      "\tsaving model 33900...\n",
      "\tdone\n",
      "Evaluating\n"
     ]
    },
    {
     "name": "stderr",
     "output_type": "stream",
     "text": [
      "\n",
      " 23%|##3       | 9/39 [00:00<00:00, 84.48it/s]\u001b[A\n",
      " 46%|####6     | 18/39 [00:00<00:00, 85.87it/s]\u001b[A\n",
      " 72%|#######1  | 28/39 [00:00<00:00, 86.50it/s]\u001b[A\n",
      " 95%|#########4| 37/39 [00:00<00:00, 87.44it/s]\u001b[A\n",
      " 40%|███▉      | 175/438 [00:07<00:27,  9.55it/s]A"
     ]
    },
    {
     "name": "stdout",
     "output_type": "stream",
     "text": [
      "{'ade': 0.33024037, 'fde': 0.70242155}\n",
      "\t last loss:0.000326284, eval on validation:['ade: 0.33024037', 'fde: 0.70242155'], (best ade:0.32966873 at step 29400) \n"
     ]
    },
    {
     "name": "stderr",
     "output_type": "stream",
     "text": [
      "100%|██████████| 438/438 [00:18<00:00, 23.63it/s]\n",
      "  0%|          | 1/438 [00:00<00:49,  8.89it/s]"
     ]
    },
    {
     "name": "stdout",
     "output_type": "stream",
     "text": [
      "('Epoca 79.', 'lr:', 3.5348305e-06)\n"
     ]
    },
    {
     "name": "stderr",
     "output_type": "stream",
     "text": [
      "  8%|▊         | 34/438 [00:01<00:20, 20.18it/s]"
     ]
    },
    {
     "name": "stdout",
     "output_type": "stream",
     "text": [
      "\tsaving model 34200...\n"
     ]
    },
    {
     "name": "stderr",
     "output_type": "stream",
     "text": [
      "\n",
      "  0%|          | 0/39 [00:00<?, ?it/s]\u001b[A\n",
      " 18%|#7        | 7/39 [00:00<00:00, 62.42it/s]\u001b[A"
     ]
    },
    {
     "name": "stdout",
     "output_type": "stream",
     "text": [
      "\tdone\n",
      "Evaluating\n"
     ]
    },
    {
     "name": "stderr",
     "output_type": "stream",
     "text": [
      "\n",
      " 28%|##8       | 11/39 [00:00<00:00, 53.11it/s]\u001b[A\n",
      " 41%|####1     | 16/39 [00:00<00:00, 50.21it/s]\u001b[A\n",
      " 56%|#####6    | 22/39 [00:00<00:00, 52.61it/s]\u001b[A\n",
      " 72%|#######1  | 28/39 [00:00<00:00, 54.45it/s]\u001b[A\n",
      " 87%|########7 | 34/39 [00:00<00:00, 55.74it/s]\u001b[A\n",
      "  8%|▊         | 37/438 [00:02<00:59,  6.70it/s][A"
     ]
    },
    {
     "name": "stdout",
     "output_type": "stream",
     "text": [
      "{'ade': 0.33059227, 'fde': 0.70418084}\n",
      "\t last loss:0.000434683, eval on validation:['ade: 0.33059227', 'fde: 0.70418084'], (best ade:0.32966873 at step 29400) \n"
     ]
    },
    {
     "name": "stderr",
     "output_type": "stream",
     "text": [
      " 76%|███████▋  | 335/438 [00:17<00:04, 24.02it/s]"
     ]
    },
    {
     "name": "stdout",
     "output_type": "stream",
     "text": [
      "\tsaving model 34500...\n"
     ]
    },
    {
     "name": "stderr",
     "output_type": "stream",
     "text": [
      "\n",
      "  0%|          | 0/39 [00:00<?, ?it/s]\u001b[A\n",
      " 21%|##        | 8/39 [00:00<00:00, 76.69it/s]\u001b[A"
     ]
    },
    {
     "name": "stdout",
     "output_type": "stream",
     "text": [
      "\tdone\n",
      "Evaluating\n"
     ]
    },
    {
     "name": "stderr",
     "output_type": "stream",
     "text": [
      "\n",
      " 44%|####3     | 17/39 [00:00<00:00, 77.44it/s]\u001b[A\n",
      " 62%|######1   | 24/39 [00:00<00:00, 73.16it/s]\u001b[A\n",
      " 85%|########4 | 33/39 [00:00<00:00, 75.94it/s]\u001b[A\n",
      " 77%|███████▋  | 338/438 [00:18<00:11,  8.78it/s]A"
     ]
    },
    {
     "name": "stdout",
     "output_type": "stream",
     "text": [
      "{'ade': 0.3300123, 'fde': 0.7024681}\n",
      "\t last loss:0.000288811, eval on validation:['ade: 0.3300123', 'fde: 0.7024681'], (best ade:0.32966873 at step 29400) \n"
     ]
    },
    {
     "name": "stderr",
     "output_type": "stream",
     "text": [
      "100%|██████████| 438/438 [00:22<00:00, 19.32it/s]\n",
      "  0%|          | 1/438 [00:00<00:47,  9.15it/s]"
     ]
    },
    {
     "name": "stdout",
     "output_type": "stream",
     "text": [
      "('Epoca 80.', 'lr:', 3.5348305e-06)\n"
     ]
    },
    {
     "name": "stderr",
     "output_type": "stream",
     "text": [
      " 45%|████▍     | 196/438 [00:07<00:09, 26.52it/s]\n",
      "  0%|          | 0/39 [00:00<?, ?it/s]\u001b[A"
     ]
    },
    {
     "name": "stdout",
     "output_type": "stream",
     "text": [
      "\tsaving model 34800...\n",
      "\tdone\n",
      "Evaluating\n"
     ]
    },
    {
     "name": "stderr",
     "output_type": "stream",
     "text": [
      "\n",
      " 23%|##3       | 9/39 [00:00<00:00, 89.98it/s]\u001b[A\n",
      " 46%|####6     | 18/39 [00:00<00:00, 89.00it/s]\u001b[A\n",
      " 64%|######4   | 25/39 [00:00<00:00, 79.30it/s]\u001b[A\n",
      " 87%|########7 | 34/39 [00:00<00:00, 80.53it/s]\u001b[A\n",
      " 45%|████▌     | 199/438 [00:08<00:25,  9.41it/s]A"
     ]
    },
    {
     "name": "stdout",
     "output_type": "stream",
     "text": [
      "{'ade': 0.33018455, 'fde': 0.7029614}\n",
      "\t last loss:0.000248779, eval on validation:['ade: 0.33018455', 'fde: 0.7029614'], (best ade:0.32966873 at step 29400) \n"
     ]
    },
    {
     "name": "stderr",
     "output_type": "stream",
     "text": [
      "100%|██████████| 438/438 [00:18<00:00, 23.96it/s]\n",
      "  0%|          | 1/438 [00:00<00:52,  8.32it/s]"
     ]
    },
    {
     "name": "stdout",
     "output_type": "stream",
     "text": [
      "('Epoca 81.', 'lr:', 3.004606e-06)\n"
     ]
    },
    {
     "name": "stderr",
     "output_type": "stream",
     "text": [
      " 13%|█▎        | 58/438 [00:02<00:15, 25.23it/s]\n",
      "  0%|          | 0/39 [00:00<?, ?it/s]\u001b[A"
     ]
    },
    {
     "name": "stdout",
     "output_type": "stream",
     "text": [
      "\tsaving model 35100...\n",
      "\tdone\n",
      "Evaluating\n"
     ]
    },
    {
     "name": "stderr",
     "output_type": "stream",
     "text": [
      "\n",
      " 26%|##5       | 10/39 [00:00<00:00, 92.40it/s]\u001b[A\n",
      " 51%|#####1    | 20/39 [00:00<00:00, 92.60it/s]\u001b[A\n",
      " 74%|#######4  | 29/39 [00:00<00:00, 91.08it/s]\u001b[A\n",
      " 15%|█▍        | 64/438 [00:03<00:31, 12.02it/s][A"
     ]
    },
    {
     "name": "stdout",
     "output_type": "stream",
     "text": [
      "{'ade': 0.3301453, 'fde': 0.702742}\n",
      "\t last loss:0.000316600, eval on validation:['ade: 0.3301453', 'fde: 0.702742'], (best ade:0.32966873 at step 29400) \n"
     ]
    },
    {
     "name": "stderr",
     "output_type": "stream",
     "text": [
      " 82%|████████▏ | 358/438 [00:14<00:03, 25.16it/s]\n",
      "  0%|          | 0/39 [00:00<?, ?it/s]\u001b[A"
     ]
    },
    {
     "name": "stdout",
     "output_type": "stream",
     "text": [
      "\tsaving model 35400...\n",
      "\tdone\n",
      "Evaluating\n"
     ]
    },
    {
     "name": "stderr",
     "output_type": "stream",
     "text": [
      "\n",
      " 21%|##        | 8/39 [00:00<00:00, 78.96it/s]\u001b[A\n",
      " 44%|####3     | 17/39 [00:00<00:00, 80.61it/s]\u001b[A\n",
      " 67%|######6   | 26/39 [00:00<00:00, 81.99it/s]\u001b[A\n",
      " 85%|########4 | 33/39 [00:00<00:00, 75.41it/s]\u001b[A\n",
      " 82%|████████▏ | 361/438 [00:15<00:08,  8.94it/s]A"
     ]
    },
    {
     "name": "stdout",
     "output_type": "stream",
     "text": [
      "{'ade': 0.33098412, 'fde': 0.7048344}\n",
      "\t last loss:0.000255088, eval on validation:['ade: 0.33098412', 'fde: 0.7048344'], (best ade:0.32966873 at step 29400) \n"
     ]
    },
    {
     "name": "stderr",
     "output_type": "stream",
     "text": [
      "100%|██████████| 438/438 [00:18<00:00, 23.11it/s]\n",
      "  1%|          | 3/438 [00:00<00:16, 25.83it/s]"
     ]
    },
    {
     "name": "stdout",
     "output_type": "stream",
     "text": [
      "('Epoca 82.', 'lr:', 3.004606e-06)\n"
     ]
    },
    {
     "name": "stderr",
     "output_type": "stream",
     "text": [
      " 50%|█████     | 219/438 [00:08<00:08, 24.73it/s]\n",
      "  0%|          | 0/39 [00:00<?, ?it/s]\u001b[A"
     ]
    },
    {
     "name": "stdout",
     "output_type": "stream",
     "text": [
      "\tsaving model 35700...\n",
      "\tdone\n",
      "Evaluating\n"
     ]
    },
    {
     "name": "stderr",
     "output_type": "stream",
     "text": [
      "\n",
      " 23%|##3       | 9/39 [00:00<00:00, 84.47it/s]\u001b[A\n",
      " 46%|####6     | 18/39 [00:00<00:00, 84.05it/s]\u001b[A\n",
      " 64%|######4   | 25/39 [00:00<00:00, 78.73it/s]\u001b[A\n",
      " 87%|########7 | 34/39 [00:00<00:00, 79.99it/s]\u001b[A\n",
      " 51%|█████▏    | 225/438 [00:09<00:18, 11.36it/s]A"
     ]
    },
    {
     "name": "stdout",
     "output_type": "stream",
     "text": [
      "{'ade': 0.33043006, 'fde': 0.7035253}\n",
      "\t last loss:0.000377134, eval on validation:['ade: 0.33043006', 'fde: 0.7035253'], (best ade:0.32966873 at step 29400) \n"
     ]
    },
    {
     "name": "stderr",
     "output_type": "stream",
     "text": [
      "100%|██████████| 438/438 [00:18<00:00, 24.94it/s]\n",
      "  0%|          | 1/438 [00:00<00:56,  7.79it/s]"
     ]
    },
    {
     "name": "stdout",
     "output_type": "stream",
     "text": [
      "('Epoca 83.', 'lr:', 2.5539152e-06)\n"
     ]
    },
    {
     "name": "stderr",
     "output_type": "stream",
     "text": [
      " 19%|█▊        | 82/438 [00:03<00:14, 24.35it/s]\n",
      "  0%|          | 0/39 [00:00<?, ?it/s]\u001b[A"
     ]
    },
    {
     "name": "stdout",
     "output_type": "stream",
     "text": [
      "\tsaving model 36000...\n",
      "\tdone\n",
      "Evaluating\n"
     ]
    },
    {
     "name": "stderr",
     "output_type": "stream",
     "text": [
      "\n",
      " 23%|##3       | 9/39 [00:00<00:00, 82.03it/s]\u001b[A\n",
      " 36%|###5      | 14/39 [00:00<00:00, 68.65it/s]\u001b[A\n",
      " 56%|#####6    | 22/39 [00:00<00:00, 71.14it/s]\u001b[A\n",
      " 77%|#######6  | 30/39 [00:00<00:00, 73.48it/s]\u001b[A\n",
      " 92%|#########2| 36/39 [00:00<00:00, 68.19it/s]\u001b[A\n",
      " 19%|█▉        | 85/438 [00:04<00:41,  8.50it/s][A"
     ]
    },
    {
     "name": "stdout",
     "output_type": "stream",
     "text": [
      "{'ade': 0.33058903, 'fde': 0.70367765}\n",
      "\t last loss:0.000182715, eval on validation:['ade: 0.33058903', 'fde: 0.70367765'], (best ade:0.32966873 at step 29400) \n"
     ]
    },
    {
     "name": "stderr",
     "output_type": "stream",
     "text": [
      " 87%|████████▋ | 382/438 [00:16<00:02, 26.12it/s]\n",
      "  0%|          | 0/39 [00:00<?, ?it/s]\u001b[A"
     ]
    },
    {
     "name": "stdout",
     "output_type": "stream",
     "text": [
      "\tsaving model 36300...\n",
      "\tdone\n",
      "Evaluating\n"
     ]
    },
    {
     "name": "stderr",
     "output_type": "stream",
     "text": [
      "\n",
      " 23%|##3       | 9/39 [00:00<00:00, 88.61it/s]\u001b[A\n",
      " 49%|####8     | 19/39 [00:00<00:00, 89.55it/s]\u001b[A\n",
      " 72%|#######1  | 28/39 [00:00<00:00, 87.40it/s]\u001b[A\n",
      " 92%|#########2| 36/39 [00:00<00:00, 83.90it/s]\u001b[A\n",
      " 89%|████████▊ | 388/438 [00:16<00:04, 11.77it/s]A"
     ]
    },
    {
     "name": "stdout",
     "output_type": "stream",
     "text": [
      "{'ade': 0.33020008, 'fde': 0.7027647}\n",
      "\t last loss:0.000286754, eval on validation:['ade: 0.33020008', 'fde: 0.7027647'], (best ade:0.32966873 at step 29400) \n"
     ]
    },
    {
     "name": "stderr",
     "output_type": "stream",
     "text": [
      "100%|██████████| 438/438 [00:19<00:00, 23.01it/s]\n",
      "  0%|          | 1/438 [00:00<00:48,  8.97it/s]"
     ]
    },
    {
     "name": "stdout",
     "output_type": "stream",
     "text": [
      "('Epoca 84.', 'lr:', 2.5539152e-06)\n"
     ]
    },
    {
     "name": "stderr",
     "output_type": "stream",
     "text": [
      " 55%|█████▌    | 243/438 [00:09<00:07, 24.87it/s]\n",
      "  0%|          | 0/39 [00:00<?, ?it/s]\u001b[A"
     ]
    },
    {
     "name": "stdout",
     "output_type": "stream",
     "text": [
      "\tsaving model 36600...\n",
      "\tdone\n",
      "Evaluating\n"
     ]
    },
    {
     "name": "stderr",
     "output_type": "stream",
     "text": [
      "\n",
      " 21%|##        | 8/39 [00:00<00:00, 74.89it/s]\u001b[A\n",
      " 41%|####1     | 16/39 [00:00<00:00, 76.18it/s]\u001b[A\n",
      " 62%|######1   | 24/39 [00:00<00:00, 75.77it/s]\u001b[A\n",
      " 79%|#######9  | 31/39 [00:00<00:00, 73.93it/s]\u001b[A\n",
      " 57%|█████▋    | 249/438 [00:10<00:17, 10.96it/s]A"
     ]
    },
    {
     "name": "stdout",
     "output_type": "stream",
     "text": [
      "{'ade': 0.33061838, 'fde': 0.70384735}\n",
      "\t last loss:0.000360532, eval on validation:['ade: 0.33061838', 'fde: 0.70384735'], (best ade:0.32966873 at step 29400) \n"
     ]
    },
    {
     "name": "stderr",
     "output_type": "stream",
     "text": [
      "100%|██████████| 438/438 [00:18<00:00, 24.66it/s]\n",
      "  1%|          | 3/438 [00:00<00:16, 26.02it/s]"
     ]
    },
    {
     "name": "stdout",
     "output_type": "stream",
     "text": [
      "('Epoca 85.', 'lr:', 2.170828e-06)\n"
     ]
    },
    {
     "name": "stderr",
     "output_type": "stream",
     "text": [
      " 24%|██▍       | 105/438 [00:04<00:12, 25.84it/s]\n",
      "  0%|          | 0/39 [00:00<?, ?it/s]\u001b[A"
     ]
    },
    {
     "name": "stdout",
     "output_type": "stream",
     "text": [
      "\tsaving model 36900...\n",
      "\tdone\n",
      "Evaluating\n"
     ]
    },
    {
     "name": "stderr",
     "output_type": "stream",
     "text": [
      "\n",
      " 21%|##        | 8/39 [00:00<00:00, 79.27it/s]\u001b[A\n",
      " 44%|####3     | 17/39 [00:00<00:00, 79.24it/s]\u001b[A\n",
      " 62%|######1   | 24/39 [00:00<00:00, 72.88it/s]\u001b[A\n",
      " 82%|########2 | 32/39 [00:00<00:00, 73.04it/s]\u001b[A\n",
      " 25%|██▌       | 111/438 [00:05<00:30, 10.77it/s]A"
     ]
    },
    {
     "name": "stdout",
     "output_type": "stream",
     "text": [
      "{'ade': 0.33038783, 'fde': 0.7033863}\n",
      "\t last loss:0.000217886, eval on validation:['ade: 0.33038783', 'fde: 0.7033863'], (best ade:0.32966873 at step 29400) \n"
     ]
    },
    {
     "name": "stderr",
     "output_type": "stream",
     "text": [
      " 93%|█████████▎| 406/438 [00:18<00:01, 24.98it/s]\n",
      "  0%|          | 0/39 [00:00<?, ?it/s]\u001b[A"
     ]
    },
    {
     "name": "stdout",
     "output_type": "stream",
     "text": [
      "\tsaving model 37200...\n",
      "\tdone\n",
      "Evaluating\n"
     ]
    },
    {
     "name": "stderr",
     "output_type": "stream",
     "text": [
      "\n",
      " 21%|##        | 8/39 [00:00<00:00, 73.07it/s]\u001b[A\n",
      " 33%|###3      | 13/39 [00:00<00:00, 59.89it/s]\u001b[A\n",
      " 49%|####8     | 19/39 [00:00<00:00, 59.73it/s]\u001b[A\n",
      " 72%|#######1  | 28/39 [00:00<00:00, 65.27it/s]\u001b[A\n",
      " 90%|########9 | 35/39 [00:00<00:00, 66.25it/s]\u001b[A\n",
      " 93%|█████████▎| 409/438 [00:19<00:03,  8.33it/s]A"
     ]
    },
    {
     "name": "stdout",
     "output_type": "stream",
     "text": [
      "{'ade': 0.33029386, 'fde': 0.7030402}\n",
      "\t last loss:0.000321527, eval on validation:['ade: 0.33029386', 'fde: 0.7030402'], (best ade:0.32966873 at step 29400) \n"
     ]
    },
    {
     "name": "stderr",
     "output_type": "stream",
     "text": [
      "100%|██████████| 438/438 [00:20<00:00, 19.98it/s]\n",
      "  0%|          | 1/438 [00:00<00:52,  8.31it/s]"
     ]
    },
    {
     "name": "stdout",
     "output_type": "stream",
     "text": [
      "('Epoca 86.', 'lr:', 2.170828e-06)\n"
     ]
    },
    {
     "name": "stderr",
     "output_type": "stream",
     "text": [
      " 61%|██████    | 268/438 [00:10<00:06, 26.31it/s]\n",
      "  0%|          | 0/39 [00:00<?, ?it/s]\u001b[A"
     ]
    },
    {
     "name": "stdout",
     "output_type": "stream",
     "text": [
      "\tsaving model 37500...\n",
      "\tdone\n",
      "Evaluating\n"
     ]
    },
    {
     "name": "stderr",
     "output_type": "stream",
     "text": [
      "\n",
      " 26%|##5       | 10/39 [00:00<00:00, 93.60it/s]\u001b[A\n",
      " 49%|####8     | 19/39 [00:00<00:00, 92.15it/s]\u001b[A\n",
      " 72%|#######1  | 28/39 [00:00<00:00, 89.89it/s]\u001b[A\n",
      " 95%|#########4| 37/39 [00:00<00:00, 87.73it/s]\u001b[A\n",
      " 62%|██████▏   | 271/438 [00:11<00:17,  9.58it/s]A"
     ]
    },
    {
     "name": "stdout",
     "output_type": "stream",
     "text": [
      "{'ade': 0.33064774, 'fde': 0.7040087}\n",
      "\t last loss:0.000491536, eval on validation:['ade: 0.33064774', 'fde: 0.7040087'], (best ade:0.32966873 at step 29400) \n"
     ]
    },
    {
     "name": "stderr",
     "output_type": "stream",
     "text": [
      "100%|██████████| 438/438 [00:18<00:00, 24.10it/s]\n",
      "  0%|          | 1/438 [00:00<00:45,  9.63it/s]"
     ]
    },
    {
     "name": "stdout",
     "output_type": "stream",
     "text": [
      "('Epoca 87.', 'lr:', 1.8452038e-06)\n"
     ]
    },
    {
     "name": "stderr",
     "output_type": "stream",
     "text": [
      " 30%|██▉       | 130/438 [00:05<00:12, 24.83it/s]\n",
      "  0%|          | 0/39 [00:00<?, ?it/s]\u001b[A"
     ]
    },
    {
     "name": "stdout",
     "output_type": "stream",
     "text": [
      "\tsaving model 37800...\n",
      "\tdone\n",
      "Evaluating\n"
     ]
    },
    {
     "name": "stderr",
     "output_type": "stream",
     "text": [
      "\n",
      " 26%|##5       | 10/39 [00:00<00:00, 93.25it/s]\u001b[A\n",
      " 49%|####8     | 19/39 [00:00<00:00, 89.33it/s]\u001b[A\n",
      " 64%|######4   | 25/39 [00:00<00:00, 77.20it/s]\u001b[A\n",
      " 87%|########7 | 34/39 [00:00<00:00, 79.76it/s]\u001b[A\n",
      " 30%|███       | 133/438 [00:06<00:33,  9.10it/s]A"
     ]
    },
    {
     "name": "stdout",
     "output_type": "stream",
     "text": [
      "{'ade': 0.32992887, 'fde': 0.7021153}\n",
      "\t last loss:0.000199821, eval on validation:['ade: 0.32992887', 'fde: 0.7021153'], (best ade:0.32966873 at step 29400) \n"
     ]
    },
    {
     "name": "stderr",
     "output_type": "stream",
     "text": [
      " 98%|█████████▊| 430/438 [00:17<00:00, 24.79it/s]\n",
      "  0%|          | 0/39 [00:00<?, ?it/s]\u001b[A"
     ]
    },
    {
     "name": "stdout",
     "output_type": "stream",
     "text": [
      "\tsaving model 38100...\n",
      "\tdone\n",
      "Evaluating\n"
     ]
    },
    {
     "name": "stderr",
     "output_type": "stream",
     "text": [
      "\n",
      " 23%|##3       | 9/39 [00:00<00:00, 84.36it/s]\u001b[A\n",
      " 41%|####1     | 16/39 [00:00<00:00, 78.12it/s]\u001b[A\n",
      " 59%|#####8    | 23/39 [00:00<00:00, 73.61it/s]\u001b[A\n",
      " 82%|########2 | 32/39 [00:00<00:00, 76.20it/s]\u001b[A\n",
      " 99%|█████████▉| 433/438 [00:18<00:00,  8.81it/s]A"
     ]
    },
    {
     "name": "stdout",
     "output_type": "stream",
     "text": [
      "{'ade': 0.33105603, 'fde': 0.7049652}\n",
      "\t last loss:0.000461700, eval on validation:['ade: 0.33105603', 'fde: 0.7049652'], (best ade:0.32966873 at step 29400) \n"
     ]
    },
    {
     "name": "stderr",
     "output_type": "stream",
     "text": [
      "100%|██████████| 438/438 [00:18<00:00, 23.14it/s]\n",
      "  0%|          | 1/438 [00:00<00:50,  8.59it/s]"
     ]
    },
    {
     "name": "stdout",
     "output_type": "stream",
     "text": [
      "('Epoca 88.', 'lr:', 1.8452038e-06)\n"
     ]
    },
    {
     "name": "stderr",
     "output_type": "stream",
     "text": [
      " 67%|██████▋   | 292/438 [00:11<00:05, 26.51it/s]\n",
      "  0%|          | 0/39 [00:00<?, ?it/s]\u001b[A"
     ]
    },
    {
     "name": "stdout",
     "output_type": "stream",
     "text": [
      "\tsaving model 38400...\n",
      "\tdone\n",
      "Evaluating\n"
     ]
    },
    {
     "name": "stderr",
     "output_type": "stream",
     "text": [
      "\n",
      " 23%|##3       | 9/39 [00:00<00:00, 83.63it/s]\u001b[A\n",
      " 46%|####6     | 18/39 [00:00<00:00, 85.07it/s]\u001b[A\n",
      " 69%|######9   | 27/39 [00:00<00:00, 86.41it/s]\u001b[A\n",
      " 95%|#########4| 37/39 [00:00<00:00, 87.80it/s]\u001b[A\n",
      " 68%|██████▊   | 298/438 [00:12<00:11, 12.04it/s]A"
     ]
    },
    {
     "name": "stdout",
     "output_type": "stream",
     "text": [
      "{'ade': 0.33126384, 'fde': 0.7054735}\n",
      "\t last loss:0.000633142, eval on validation:['ade: 0.33126384', 'fde: 0.7054735'], (best ade:0.32966873 at step 29400) \n"
     ]
    },
    {
     "name": "stderr",
     "output_type": "stream",
     "text": [
      "100%|██████████| 438/438 [00:18<00:00, 23.92it/s]\n",
      "  0%|          | 1/438 [00:00<00:50,  8.62it/s]"
     ]
    },
    {
     "name": "stdout",
     "output_type": "stream",
     "text": [
      "('Epoca 89.', 'lr:', 1.5684233e-06)\n"
     ]
    },
    {
     "name": "stderr",
     "output_type": "stream",
     "text": [
      " 35%|███▌      | 154/438 [00:06<00:11, 24.78it/s]\n",
      "  0%|          | 0/39 [00:00<?, ?it/s]\u001b[A"
     ]
    },
    {
     "name": "stdout",
     "output_type": "stream",
     "text": [
      "\tsaving model 38700...\n",
      "\tdone\n",
      "Evaluating\n"
     ]
    },
    {
     "name": "stderr",
     "output_type": "stream",
     "text": [
      "\n",
      " 21%|##        | 8/39 [00:00<00:00, 77.96it/s]\u001b[A\n",
      " 41%|####1     | 16/39 [00:00<00:00, 78.48it/s]\u001b[A\n",
      " 59%|#####8    | 23/39 [00:00<00:00, 73.32it/s]\u001b[A\n",
      " 79%|#######9  | 31/39 [00:00<00:00, 73.54it/s]\u001b[A\n",
      " 36%|███▌      | 157/438 [00:06<00:31,  8.82it/s]A"
     ]
    },
    {
     "name": "stdout",
     "output_type": "stream",
     "text": [
      "{'ade': 0.33022967, 'fde': 0.70292634}\n",
      "\t last loss:0.000313568, eval on validation:['ade: 0.33022967', 'fde: 0.70292634'], (best ade:0.32966873 at step 29400) \n"
     ]
    },
    {
     "name": "stderr",
     "output_type": "stream",
     "text": [
      "100%|██████████| 438/438 [00:18<00:00, 24.15it/s]\n",
      "  0%|          | 1/438 [00:00<00:45,  9.68it/s]"
     ]
    },
    {
     "name": "stdout",
     "output_type": "stream",
     "text": [
      "('Epoca 90.', 'lr:', 1.5684233e-06)\n"
     ]
    },
    {
     "name": "stderr",
     "output_type": "stream",
     "text": [
      "  4%|▎         | 16/438 [00:00<00:20, 20.19it/s]\n",
      "  0%|          | 0/39 [00:00<?, ?it/s]\u001b[A"
     ]
    },
    {
     "name": "stdout",
     "output_type": "stream",
     "text": [
      "\tsaving model 39000...\n",
      "\tdone\n",
      "Evaluating\n"
     ]
    },
    {
     "name": "stderr",
     "output_type": "stream",
     "text": [
      "\n",
      " 26%|##5       | 10/39 [00:00<00:00, 92.47it/s]\u001b[A\n",
      " 51%|#####1    | 20/39 [00:00<00:00, 92.44it/s]\u001b[A\n",
      " 77%|#######6  | 30/39 [00:00<00:00, 91.01it/s]\u001b[A\n",
      " 92%|#########2| 36/39 [00:00<00:00, 78.18it/s]\u001b[A\n",
      "  4%|▍         | 19/438 [00:01<00:47,  8.85it/s][A"
     ]
    },
    {
     "name": "stdout",
     "output_type": "stream",
     "text": [
      "{'ade': 0.33063945, 'fde': 0.70386136}\n",
      "\t last loss:0.000269394, eval on validation:['ade: 0.33063945', 'fde: 0.70386136'], (best ade:0.32966873 at step 29400) \n"
     ]
    },
    {
     "name": "stderr",
     "output_type": "stream",
     "text": [
      " 72%|███████▏  | 316/438 [00:13<00:04, 24.63it/s]\n",
      "  0%|          | 0/39 [00:00<?, ?it/s]\u001b[A"
     ]
    },
    {
     "name": "stdout",
     "output_type": "stream",
     "text": [
      "\tsaving model 39300...\n",
      "\tdone\n",
      "Evaluating\n"
     ]
    },
    {
     "name": "stderr",
     "output_type": "stream",
     "text": [
      "\n",
      " 23%|##3       | 9/39 [00:00<00:00, 83.12it/s]\u001b[A\n",
      " 41%|####1     | 16/39 [00:00<00:00, 74.80it/s]\u001b[A\n",
      " 64%|######4   | 25/39 [00:00<00:00, 76.91it/s]\u001b[A\n",
      " 87%|########7 | 34/39 [00:00<00:00, 79.47it/s]\u001b[A\n",
      " 74%|███████▎  | 322/438 [00:14<00:10, 11.10it/s]A"
     ]
    },
    {
     "name": "stdout",
     "output_type": "stream",
     "text": [
      "{'ade': 0.3304559, 'fde': 0.70314115}\n",
      "\t last loss:0.000251204, eval on validation:['ade: 0.3304559', 'fde: 0.70314115'], (best ade:0.32966873 at step 29400) \n"
     ]
    },
    {
     "name": "stderr",
     "output_type": "stream",
     "text": [
      "100%|██████████| 438/438 [00:18<00:00, 23.27it/s]\n",
      "  0%|          | 2/438 [00:00<00:25, 16.85it/s]"
     ]
    },
    {
     "name": "stdout",
     "output_type": "stream",
     "text": [
      "('Epoca 91.', 'lr:', 1.3331598e-06)\n"
     ]
    },
    {
     "name": "stderr",
     "output_type": "stream",
     "text": [
      " 41%|████      | 178/438 [00:07<00:09, 26.03it/s]\n",
      "  0%|          | 0/39 [00:00<?, ?it/s]"
     ]
    },
    {
     "name": "stdout",
     "output_type": "stream",
     "text": [
      "\tsaving model 39600...\n",
      "\tdone\n",
      "Evaluating\n"
     ]
    },
    {
     "name": "stderr",
     "output_type": "stream",
     "text": [
      "\u001b[A\n",
      " 23%|##3       | 9/39 [00:00<00:00, 82.15it/s]\u001b[A\n",
      " 41%|####1     | 16/39 [00:00<00:00, 74.55it/s]\u001b[A\n",
      " 59%|#####8    | 23/39 [00:00<00:00, 70.85it/s]\u001b[A\n",
      " 82%|########2 | 32/39 [00:00<00:00, 74.56it/s]\u001b[A\n",
      " 41%|████▏     | 181/438 [00:08<00:29,  8.79it/s]A"
     ]
    },
    {
     "name": "stdout",
     "output_type": "stream",
     "text": [
      "{'ade': 0.33003637, 'fde': 0.7024214}\n",
      "\t last loss:0.000191650, eval on validation:['ade: 0.33003637', 'fde: 0.7024214'], (best ade:0.32966873 at step 29400) \n"
     ]
    },
    {
     "name": "stderr",
     "output_type": "stream",
     "text": [
      "100%|██████████| 438/438 [00:18<00:00, 23.70it/s]\n",
      "  0%|          | 1/438 [00:00<00:54,  8.04it/s]"
     ]
    },
    {
     "name": "stdout",
     "output_type": "stream",
     "text": [
      "('Epoca 92.', 'lr:', 1.3331598e-06)\n"
     ]
    },
    {
     "name": "stderr",
     "output_type": "stream",
     "text": [
      "  9%|▉         | 40/438 [00:01<00:19, 20.66it/s]"
     ]
    },
    {
     "name": "stdout",
     "output_type": "stream",
     "text": [
      "\tsaving model 39900...\n"
     ]
    },
    {
     "name": "stderr",
     "output_type": "stream",
     "text": [
      "\n",
      "  0%|          | 0/39 [00:00<?, ?it/s]\u001b[A\n",
      " 15%|#5        | 6/39 [00:00<00:00, 52.61it/s]\u001b[A"
     ]
    },
    {
     "name": "stdout",
     "output_type": "stream",
     "text": [
      "\tdone\n",
      "Evaluating\n"
     ]
    },
    {
     "name": "stderr",
     "output_type": "stream",
     "text": [
      "\n",
      " 28%|##8       | 11/39 [00:00<00:00, 50.61it/s]\u001b[A\n",
      " 46%|####6     | 18/39 [00:00<00:00, 54.02it/s]\u001b[A\n",
      " 64%|######4   | 25/39 [00:00<00:00, 57.17it/s]\u001b[A\n",
      " 82%|########2 | 32/39 [00:00<00:00, 59.65it/s]\u001b[A\n",
      " 97%|#########7| 38/39 [00:00<00:00, 57.42it/s]\u001b[A\n",
      " 10%|▉         | 43/438 [00:02<00:56,  6.95it/s][A"
     ]
    },
    {
     "name": "stdout",
     "output_type": "stream",
     "text": [
      "{'ade': 0.32996565, 'fde': 0.7021356}\n",
      "\t last loss:0.000508412, eval on validation:['ade: 0.32996565', 'fde: 0.7021356'], (best ade:0.32966873 at step 29400) \n"
     ]
    },
    {
     "name": "stderr",
     "output_type": "stream",
     "text": [
      " 78%|███████▊  | 341/438 [00:15<00:03, 26.08it/s]\n",
      "  0%|          | 0/39 [00:00<?, ?it/s]\u001b[A"
     ]
    },
    {
     "name": "stdout",
     "output_type": "stream",
     "text": [
      "\tsaving model 40200...\n",
      "\tdone\n",
      "Evaluating\n"
     ]
    },
    {
     "name": "stderr",
     "output_type": "stream",
     "text": [
      "\n",
      " 23%|##3       | 9/39 [00:00<00:00, 86.95it/s]\u001b[A\n",
      " 44%|####3     | 17/39 [00:00<00:00, 84.02it/s]\u001b[A\n",
      " 62%|######1   | 24/39 [00:00<00:00, 77.77it/s]\u001b[A\n",
      " 87%|########7 | 34/39 [00:00<00:00, 81.96it/s]\u001b[A\n",
      " 79%|███████▊  | 344/438 [00:16<00:09,  9.51it/s]A"
     ]
    },
    {
     "name": "stdout",
     "output_type": "stream",
     "text": [
      "{'ade': 0.33018816, 'fde': 0.70263803}\n",
      "\t last loss:0.000168293, eval on validation:['ade: 0.33018816', 'fde: 0.70263803'], (best ade:0.32966873 at step 29400) \n"
     ]
    },
    {
     "name": "stderr",
     "output_type": "stream",
     "text": [
      "100%|██████████| 438/438 [00:20<00:00, 21.20it/s]\n",
      "  0%|          | 1/438 [00:00<00:46,  9.47it/s]"
     ]
    },
    {
     "name": "stdout",
     "output_type": "stream",
     "text": [
      "('Epoca 93.', 'lr:', 1.1331858e-06)\n"
     ]
    },
    {
     "name": "stderr",
     "output_type": "stream",
     "text": [
      " 46%|████▌     | 202/438 [00:08<00:09, 24.58it/s]\n",
      "  0%|          | 0/39 [00:00<?, ?it/s]\u001b[A"
     ]
    },
    {
     "name": "stdout",
     "output_type": "stream",
     "text": [
      "\tsaving model 40500...\n",
      "\tdone\n",
      "Evaluating\n"
     ]
    },
    {
     "name": "stderr",
     "output_type": "stream",
     "text": [
      "\n",
      " 26%|##5       | 10/39 [00:00<00:00, 92.77it/s]\u001b[A\n",
      " 49%|####8     | 19/39 [00:00<00:00, 91.23it/s]\u001b[A\n",
      " 72%|#######1  | 28/39 [00:00<00:00, 90.33it/s]\u001b[A\n",
      " 92%|#########2| 36/39 [00:00<00:00, 83.50it/s]\u001b[A\n",
      " 47%|████▋     | 208/438 [00:08<00:20, 11.47it/s]A"
     ]
    },
    {
     "name": "stdout",
     "output_type": "stream",
     "text": [
      "{'ade': 0.33045828, 'fde': 0.7033561}\n",
      "\t last loss:0.000244820, eval on validation:['ade: 0.33045828', 'fde: 0.7033561'], (best ade:0.32966873 at step 29400) \n"
     ]
    },
    {
     "name": "stderr",
     "output_type": "stream",
     "text": [
      "100%|██████████| 438/438 [00:18<00:00, 24.16it/s]\n",
      "  0%|          | 1/438 [00:00<00:50,  8.66it/s]"
     ]
    },
    {
     "name": "stdout",
     "output_type": "stream",
     "text": [
      "('Epoca 94.', 'lr:', 1.1331858e-06)\n"
     ]
    },
    {
     "name": "stderr",
     "output_type": "stream",
     "text": [
      " 15%|█▍        | 64/438 [00:02<00:15, 24.11it/s]\n",
      "  0%|          | 0/39 [00:00<?, ?it/s]\u001b[A"
     ]
    },
    {
     "name": "stdout",
     "output_type": "stream",
     "text": [
      "\tsaving model 40800...\n",
      "\tdone\n",
      "Evaluating\n"
     ]
    },
    {
     "name": "stderr",
     "output_type": "stream",
     "text": [
      "\n",
      " 23%|##3       | 9/39 [00:00<00:00, 84.86it/s]\u001b[A\n",
      " 46%|####6     | 18/39 [00:00<00:00, 85.05it/s]\u001b[A\n",
      " 64%|######4   | 25/39 [00:00<00:00, 79.64it/s]\u001b[A\n",
      " 82%|########2 | 32/39 [00:00<00:00, 75.84it/s]\u001b[A\n",
      " 15%|█▌        | 67/438 [00:03<00:42,  8.83it/s][A"
     ]
    },
    {
     "name": "stdout",
     "output_type": "stream",
     "text": [
      "{'ade': 0.33050525, 'fde': 0.7034109}\n",
      "\t last loss:0.000455062, eval on validation:['ade: 0.33050525', 'fde: 0.7034109'], (best ade:0.32966873 at step 29400) \n"
     ]
    },
    {
     "name": "stderr",
     "output_type": "stream",
     "text": [
      " 83%|████████▎ | 364/438 [00:15<00:02, 26.35it/s]\n",
      "  0%|          | 0/39 [00:00<?, ?it/s]\u001b[A"
     ]
    },
    {
     "name": "stdout",
     "output_type": "stream",
     "text": [
      "\tsaving model 41100...\n",
      "\tdone\n",
      "Evaluating\n"
     ]
    },
    {
     "name": "stderr",
     "output_type": "stream",
     "text": [
      "\n",
      " 26%|##5       | 10/39 [00:00<00:00, 93.60it/s]\u001b[A\n",
      " 49%|####8     | 19/39 [00:00<00:00, 89.72it/s]\u001b[A\n",
      " 69%|######9   | 27/39 [00:00<00:00, 84.82it/s]\u001b[A\n",
      " 92%|#########2| 36/39 [00:00<00:00, 86.23it/s]\u001b[A\n",
      " 84%|████████▍ | 370/438 [00:16<00:05, 11.77it/s]A"
     ]
    },
    {
     "name": "stdout",
     "output_type": "stream",
     "text": [
      "{'ade': 0.32991844, 'fde': 0.7019716}\n",
      "\t last loss:0.000350216, eval on validation:['ade: 0.32991844', 'fde: 0.7019716'], (best ade:0.32966873 at step 29400) \n"
     ]
    },
    {
     "name": "stderr",
     "output_type": "stream",
     "text": [
      "100%|██████████| 438/438 [00:18<00:00, 23.13it/s]\n",
      "  0%|          | 1/438 [00:00<00:47,  9.17it/s]"
     ]
    },
    {
     "name": "stdout",
     "output_type": "stream",
     "text": [
      "('Epoca 95.', 'lr:', 9.63208e-07)\n"
     ]
    },
    {
     "name": "stderr",
     "output_type": "stream",
     "text": [
      " 52%|█████▏    | 226/438 [00:09<00:08, 24.44it/s]"
     ]
    },
    {
     "name": "stdout",
     "output_type": "stream",
     "text": [
      "\tsaving model 41400...\n"
     ]
    },
    {
     "name": "stderr",
     "output_type": "stream",
     "text": [
      "\n",
      "  0%|          | 0/39 [00:00<?, ?it/s]\u001b[A\n",
      " 21%|##        | 8/39 [00:00<00:00, 79.18it/s]\u001b[A"
     ]
    },
    {
     "name": "stdout",
     "output_type": "stream",
     "text": [
      "\tdone\n",
      "Evaluating\n"
     ]
    },
    {
     "name": "stderr",
     "output_type": "stream",
     "text": [
      "\n",
      " 41%|####1     | 16/39 [00:00<00:00, 78.36it/s]\u001b[A\n",
      " 59%|#####8    | 23/39 [00:00<00:00, 73.76it/s]\u001b[A\n",
      " 79%|#######9  | 31/39 [00:00<00:00, 74.46it/s]\u001b[A\n",
      " 52%|█████▏    | 229/438 [00:09<00:23,  8.71it/s]A"
     ]
    },
    {
     "name": "stdout",
     "output_type": "stream",
     "text": [
      "{'ade': 0.3301399, 'fde': 0.70235974}\n",
      "\t last loss:0.000352380, eval on validation:['ade: 0.3301399', 'fde: 0.70235974'], (best ade:0.32966873 at step 29400) \n"
     ]
    },
    {
     "name": "stderr",
     "output_type": "stream",
     "text": [
      "100%|██████████| 438/438 [00:18<00:00, 23.89it/s]\n",
      "  0%|          | 2/438 [00:00<00:30, 14.07it/s]"
     ]
    },
    {
     "name": "stdout",
     "output_type": "stream",
     "text": [
      "('Epoca 96.', 'lr:', 9.63208e-07)\n"
     ]
    },
    {
     "name": "stderr",
     "output_type": "stream",
     "text": [
      " 20%|██        | 89/438 [00:03<00:13, 26.39it/s]\n",
      "  0%|          | 0/39 [00:00<?, ?it/s]\u001b[A"
     ]
    },
    {
     "name": "stdout",
     "output_type": "stream",
     "text": [
      "\tsaving model 41700...\n",
      "\tdone\n",
      "Evaluating\n"
     ]
    },
    {
     "name": "stderr",
     "output_type": "stream",
     "text": [
      "\n",
      " 26%|##5       | 10/39 [00:00<00:00, 92.54it/s]\u001b[A\n",
      " 49%|####8     | 19/39 [00:00<00:00, 90.98it/s]\u001b[A\n",
      " 74%|#######4  | 29/39 [00:00<00:00, 91.16it/s]\u001b[A\n",
      " 97%|#########7| 38/39 [00:00<00:00, 90.38it/s]\u001b[A\n",
      " 21%|██        | 92/438 [00:04<00:35,  9.85it/s][A"
     ]
    },
    {
     "name": "stdout",
     "output_type": "stream",
     "text": [
      "{'ade': 0.33050227, 'fde': 0.7034335}\n",
      "\t last loss:0.000375932, eval on validation:['ade: 0.33050227', 'fde: 0.7034335'], (best ade:0.32966873 at step 29400) \n"
     ]
    },
    {
     "name": "stderr",
     "output_type": "stream",
     "text": [
      " 89%|████████▉ | 389/438 [00:16<00:01, 24.66it/s]\n",
      "  0%|          | 0/39 [00:00<?, ?it/s]\u001b[A"
     ]
    },
    {
     "name": "stdout",
     "output_type": "stream",
     "text": [
      "\tsaving model 42000...\n",
      "\tdone\n",
      "Evaluating\n"
     ]
    },
    {
     "name": "stderr",
     "output_type": "stream",
     "text": [
      "\n",
      " 23%|##3       | 9/39 [00:00<00:00, 84.55it/s]\u001b[A\n",
      " 38%|###8      | 15/39 [00:00<00:00, 74.15it/s]\u001b[A\n",
      " 62%|######1   | 24/39 [00:00<00:00, 76.39it/s]\u001b[A\n",
      " 85%|########4 | 33/39 [00:00<00:00, 78.69it/s]\u001b[A\n",
      " 89%|████████▉ | 392/438 [00:16<00:05,  8.92it/s]A"
     ]
    },
    {
     "name": "stdout",
     "output_type": "stream",
     "text": [
      "{'ade': 0.33038107, 'fde': 0.7029847}\n",
      "\t last loss:0.000405047, eval on validation:['ade: 0.33038107', 'fde: 0.7029847'], (best ade:0.32966873 at step 29400) \n"
     ]
    },
    {
     "name": "stderr",
     "output_type": "stream",
     "text": [
      "100%|██████████| 438/438 [00:18<00:00, 23.35it/s]\n",
      "  1%|          | 3/438 [00:00<00:17, 24.58it/s]"
     ]
    },
    {
     "name": "stdout",
     "output_type": "stream",
     "text": [
      "('Epoca 97.', 'lr:', 8.187269e-07)\n"
     ]
    },
    {
     "name": "stderr",
     "output_type": "stream",
     "text": [
      " 57%|█████▋    | 251/438 [00:09<00:07, 26.45it/s]\n",
      "  0%|          | 0/39 [00:00<?, ?it/s]\u001b[A"
     ]
    },
    {
     "name": "stdout",
     "output_type": "stream",
     "text": [
      "\tsaving model 42300...\n",
      "\tdone\n",
      "Evaluating\n"
     ]
    },
    {
     "name": "stderr",
     "output_type": "stream",
     "text": [
      "\n",
      " 23%|##3       | 9/39 [00:00<00:00, 84.84it/s]\u001b[A\n",
      " 46%|####6     | 18/39 [00:00<00:00, 84.32it/s]\u001b[A\n",
      " 67%|######6   | 26/39 [00:00<00:00, 80.42it/s]\u001b[A\n",
      " 82%|########2 | 32/39 [00:00<00:00, 72.81it/s]\u001b[A\n",
      " 58%|█████▊    | 254/438 [00:10<00:20,  9.10it/s]A"
     ]
    },
    {
     "name": "stdout",
     "output_type": "stream",
     "text": [
      "{'ade': 0.3306435, 'fde': 0.70390326}\n",
      "\t last loss:0.000781293, eval on validation:['ade: 0.3306435', 'fde: 0.70390326'], (best ade:0.32966873 at step 29400) \n"
     ]
    },
    {
     "name": "stderr",
     "output_type": "stream",
     "text": [
      "100%|██████████| 438/438 [00:18<00:00, 23.95it/s]\n",
      "  0%|          | 1/438 [00:00<00:54,  8.09it/s]"
     ]
    },
    {
     "name": "stdout",
     "output_type": "stream",
     "text": [
      "('Epoca 98.', 'lr:', 8.187269e-07)\n"
     ]
    },
    {
     "name": "stderr",
     "output_type": "stream",
     "text": [
      " 26%|██▌       | 112/438 [00:04<00:12, 25.58it/s]\n",
      "  0%|          | 0/39 [00:00<?, ?it/s]\u001b[A"
     ]
    },
    {
     "name": "stdout",
     "output_type": "stream",
     "text": [
      "\tsaving model 42600...\n",
      "\tdone\n",
      "Evaluating\n"
     ]
    },
    {
     "name": "stderr",
     "output_type": "stream",
     "text": [
      "\n",
      " 26%|##5       | 10/39 [00:00<00:00, 91.91it/s]\u001b[A\n",
      " 49%|####8     | 19/39 [00:00<00:00, 89.49it/s]\u001b[A\n",
      " 74%|#######4  | 29/39 [00:00<00:00, 90.37it/s]\u001b[A\n",
      " 27%|██▋       | 118/438 [00:05<00:26, 12.17it/s]A"
     ]
    },
    {
     "name": "stdout",
     "output_type": "stream",
     "text": [
      "{'ade': 0.3305742, 'fde': 0.7037741}\n",
      "\t last loss:0.000345649, eval on validation:['ade: 0.3305742', 'fde: 0.7037741'], (best ade:0.32966873 at step 29400) \n"
     ]
    },
    {
     "name": "stderr",
     "output_type": "stream",
     "text": [
      " 94%|█████████▍| 412/438 [00:17<00:01, 24.66it/s]"
     ]
    },
    {
     "name": "stdout",
     "output_type": "stream",
     "text": [
      "\tsaving model 42900...\n"
     ]
    },
    {
     "name": "stderr",
     "output_type": "stream",
     "text": [
      "\n",
      "  0%|          | 0/39 [00:00<?, ?it/s]\u001b[A\n",
      " 23%|##3       | 9/39 [00:00<00:00, 84.20it/s]\u001b[A"
     ]
    },
    {
     "name": "stdout",
     "output_type": "stream",
     "text": [
      "\tdone\n",
      "Evaluating\n"
     ]
    },
    {
     "name": "stderr",
     "output_type": "stream",
     "text": [
      "\n",
      " 44%|####3     | 17/39 [00:00<00:00, 79.26it/s]\u001b[A\n",
      " 59%|#####8    | 23/39 [00:00<00:00, 70.86it/s]\u001b[A\n",
      " 82%|########2 | 32/39 [00:00<00:00, 74.01it/s]\u001b[A\n",
      " 95%|█████████▍| 415/438 [00:18<00:02,  8.58it/s]A"
     ]
    },
    {
     "name": "stdout",
     "output_type": "stream",
     "text": [
      "{'ade': 0.3306582, 'fde': 0.7039433}\n",
      "\t last loss:0.000284378, eval on validation:['ade: 0.3306582', 'fde: 0.7039433'], (best ade:0.32966873 at step 29400) \n"
     ]
    },
    {
     "name": "stderr",
     "output_type": "stream",
     "text": [
      "100%|██████████| 438/438 [00:19<00:00, 22.58it/s]\n",
      "  0%|          | 2/438 [00:00<00:29, 14.75it/s]"
     ]
    },
    {
     "name": "stdout",
     "output_type": "stream",
     "text": [
      "('Epoca 99.', 'lr:', 6.9591783e-07)\n"
     ]
    },
    {
     "name": "stderr",
     "output_type": "stream",
     "text": [
      " 63%|██████▎   | 275/438 [00:10<00:06, 26.61it/s]\n",
      "  0%|          | 0/39 [00:00<?, ?it/s]\u001b[A"
     ]
    },
    {
     "name": "stdout",
     "output_type": "stream",
     "text": [
      "\tsaving model 43200...\n",
      "\tdone\n",
      "Evaluating\n"
     ]
    },
    {
     "name": "stderr",
     "output_type": "stream",
     "text": [
      "\n",
      " 26%|##5       | 10/39 [00:00<00:00, 94.31it/s]\u001b[A\n",
      " 51%|#####1    | 20/39 [00:00<00:00, 93.89it/s]\u001b[A\n",
      " 74%|#######4  | 29/39 [00:00<00:00, 91.87it/s]\u001b[A\n",
      " 92%|#########2| 36/39 [00:00<00:00, 82.72it/s]\u001b[A\n",
      " 63%|██████▎   | 278/438 [00:11<00:16,  9.66it/s]A"
     ]
    },
    {
     "name": "stdout",
     "output_type": "stream",
     "text": [
      "{'ade': 0.3303688, 'fde': 0.7031001}\n",
      "\t last loss:0.000414714, eval on validation:['ade: 0.3303688', 'fde: 0.7031001'], (best ade:0.32966873 at step 29400) \n"
     ]
    },
    {
     "name": "stderr",
     "output_type": "stream",
     "text": [
      "100%|██████████| 438/438 [00:18<00:00, 24.16it/s]\n",
      "  0%|          | 1/438 [00:00<00:50,  8.73it/s]"
     ]
    },
    {
     "name": "stdout",
     "output_type": "stream",
     "text": [
      "('Epoca 100.', 'lr:', 6.9591783e-07)\n"
     ]
    },
    {
     "name": "stderr",
     "output_type": "stream",
     "text": [
      " 31%|███       | 136/438 [00:05<00:12, 24.81it/s]\n"
     ]
    },
    {
     "name": "stdout",
     "output_type": "stream",
     "text": [
      "\tsaving model 43500...\n",
      "\tdone\n",
      "Evaluating\n"
     ]
    },
    {
     "name": "stderr",
     "output_type": "stream",
     "text": [
      "  0%|          | 0/39 [00:00<?, ?it/s]\u001b[A\n",
      " 23%|##3       | 9/39 [00:00<00:00, 83.97it/s]\u001b[A\n",
      " 46%|####6     | 18/39 [00:00<00:00, 84.20it/s]\u001b[A\n",
      " 62%|######1   | 24/39 [00:00<00:00, 74.67it/s]\u001b[A\n",
      " 82%|########2 | 32/39 [00:00<00:00, 75.81it/s]\u001b[A\n",
      " 32%|███▏      | 142/438 [00:06<00:26, 11.06it/s]A"
     ]
    },
    {
     "name": "stdout",
     "output_type": "stream",
     "text": [
      "{'ade': 0.33054245, 'fde': 0.70346713}\n",
      "\t last loss:0.000431944, eval on validation:['ade: 0.33054245', 'fde: 0.70346713'], (best ade:0.32966873 at step 29400) \n"
     ]
    },
    {
     "name": "stderr",
     "output_type": "stream",
     "text": [
      "100%|█████████▉| 436/438 [00:18<00:00, 26.41it/s]\n",
      "  0%|          | 0/39 [00:00<?, ?it/s]\u001b[A"
     ]
    },
    {
     "name": "stdout",
     "output_type": "stream",
     "text": [
      "\tsaving model 43800...\n",
      "\tdone\n",
      "Evaluating\n"
     ]
    },
    {
     "name": "stderr",
     "output_type": "stream",
     "text": [
      "\n",
      " 26%|##5       | 10/39 [00:00<00:00, 90.48it/s]\u001b[A\n",
      " 49%|####8     | 19/39 [00:00<00:00, 88.15it/s]\u001b[A\n",
      " 69%|######9   | 27/39 [00:00<00:00, 83.69it/s]\u001b[A\n",
      " 85%|########4 | 33/39 [00:00<00:00, 72.32it/s]\u001b[A\n",
      "100%|██████████| 438/438 [00:18<00:00, 23.21it/s]A"
     ]
    },
    {
     "name": "stdout",
     "output_type": "stream",
     "text": [
      "{'ade': 0.33031648, 'fde': 0.7030297}\n",
      "\t last loss:0.000316526, eval on validation:['ade: 0.33031648', 'fde: 0.7030297'], (best ade:0.32966873 at step 29400) \n",
      "best eval on val ade: 0.32966873 at 29400 step y fde es 0.7012296 \n"
     ]
    },
    {
     "name": "stderr",
     "output_type": "stream",
     "text": [
      "\n"
     ]
    }
   ],
   "source": [
    "import os \n",
    "from tqdm import tqdm\n",
    "import tensorflow as tf\n",
    "import math\n",
    "\n",
    "tf.reset_default_graph()\n",
    "\n",
    "arguments = parameters1(add_kp = False, add_social = True,train_num_examples=len(data1['obs_traj']))\n",
    "model = model.Model(arguments)\n",
    "\n",
    "train_data = batches_data.Dataset(data1,arguments)\n",
    "val_data = batches_data.Dataset(data3,arguments)\n",
    "\n",
    "saver = tf.train.Saver(max_to_keep = 2)\n",
    "bestsaver = tf.train.Saver(max_to_keep = 2)\n",
    "\n",
    "\n",
    "trainer = entrenamientoevaluacion.Trainer(model,arguments)\n",
    "tester = entrenamientoevaluacion.Tester(model, arguments)\n",
    "\n",
    "#inicializamos las variables globales\n",
    "init = tf.global_variables_initializer()\n",
    "sess = tf.Session()\n",
    "sess.run(init)\n",
    "\n",
    "increment_global_step_op = tf.assign(model.global_step, model.global_step+1)\n",
    "\n",
    "val_perf = []\n",
    "loss = -1\n",
    "metric = 'ade'\n",
    "\n",
    "best = {metric:999999, 'fde':0, 'step':-1}\n",
    "is_start = True\n",
    "\n",
    "num_steps = int(math.ceil(train_data.num_examples/float(arguments.batch_size)))\n",
    "loss_list = []\n",
    "print(num_steps)\n",
    "\n",
    "for i in range(arguments.num_epochs):\n",
    "    print('Epoca {0}.' .format(i+1), 'lr:', sess.run(trainer.get_lr()))\n",
    "    \n",
    "    #For de batches\n",
    "    for idx, batch in tqdm(train_data.get_batches(arguments.batch_size,num_steps = num_steps),total=num_steps):\n",
    "        \n",
    "        sess.run(increment_global_step_op)\n",
    "        global_step = sess.run(model.global_step)\n",
    "\n",
    "        #Evaluamos el entrenamiento\n",
    "        if((global_step%arguments.validate==0) or (arguments.load_best and is_start)):\n",
    "            tqdm.write(\"\\tsaving model %s...\" % global_step)\n",
    "            checkpoint_path_model = os.path.join('SINKP_NON_UCYUNIV_12', 'model.ckpt')\n",
    "            saver.save(sess,checkpoint_path_model , global_step = global_step)\n",
    "            tqdm.write(\"\\tdone\")\n",
    "            \n",
    "            print('Evaluating')\n",
    "            results = evaluate(val_data, tester,sess,arguments)\n",
    "            print(results)\n",
    "           \n",
    "            tqdm.write((\"\\t last loss:%.9f, eval on validation:%s,\"\n",
    "                    \" (best %s:%s at step %s) \") % (loss,[\"%s: %s\" % (k, results[k]) for k in sorted(results.keys())], metric,best[metric], best[\"step\"]))\n",
    "            if results[\"ade\"]< best[metric]:\n",
    "                best[metric] = results[\"ade\"]\n",
    "                best[\"fde\"] =results[\"fde\"]\n",
    "                best[\"step\"] = global_step\n",
    "                \n",
    "                tqdm.write(\"\\t saving best model...\")\n",
    "                checkpoint_path_model_best = os.path.join('SINKP_NON_UCYUNIV-BEST_12', 'model_best.ckpt')\n",
    "                bestsaver.save(sess,checkpoint_path_model_best,global_step = global_step)\n",
    "                tqdm.write(\"\\t done.\")\n",
    "                finalperf = results\n",
    "                val_perf.append((loss, results))\n",
    "            is_start = False\n",
    "        loss, train_op = trainer.step(sess, batch)\n",
    "        loss_list.append(loss)\n",
    "    \n",
    "if((global_step % arguments.validate)!=0):\n",
    "  checkpoint_path_model = os.path.join('SINKP_NON_UCYUNIV_12', 'model.ckpt')\n",
    "  saver.save(sess,checkpoint_path_model , global_step = global_step)\n",
    "\n",
    "print(\"best eval on val %s: %s at %s step y fde es %s \" % (metric, best[metric], best[\"step\"],best[\"fde\"]))\n"
   ]
  },
  {
   "cell_type": "code",
   "execution_count": 9,
   "metadata": {},
   "outputs": [
    {
     "data": {
      "image/png": "[encoded data removed]",
      "text/plain": [
       "<Figure size 432x288 with 1 Axes>"
      ]
     },
     "metadata": {
      "needs_background": "light"
     },
     "output_type": "display_data"
    }
   ],
   "source": [
    "from matplotlib import pyplot as plt\n",
    "plt.plot(loss_list)\n",
    "plt.show()"
   ]
  },
  {
   "cell_type": "code",
   "execution_count": 8,
   "metadata": {},
   "outputs": [
    {
     "data": {
      "text/plain": [
       "'SINKP_NON_UCYUNIV_12_F/model.ckpt-43800'"
      ]
     },
     "execution_count": 8,
     "metadata": {},
     "output_type": "execute_result"
    }
   ],
   "source": [
    "# Guardamos el ultimo modelo\n",
    "checkpoint_path_model = os.path.join('SINKP_NON_UCYUNIV_12_F', 'model.ckpt')\n",
    "saver.save(sess,checkpoint_path_model , global_step = global_step)"
   ]
  },
  {
   "cell_type": "markdown",
   "metadata": {},
   "source": [
    "# Restauramos los modelos"
   ]
  },
  {
   "cell_type": "code",
   "execution_count": 10,
   "metadata": {},
   "outputs": [
    {
     "name": "stderr",
     "output_type": "stream",
     "text": [
      "W0105 14:56:18.089180 139949982123776 deprecation.py:323] From /home/andrea/anaconda2/lib/python2.7/site-packages/tensorflow/python/training/saver.py:1276: checkpoint_exists (from tensorflow.python.training.checkpoint_management) is deprecated and will be removed in a future version.\n",
      "Instructions for updating:\n",
      "Use standard file APIs to check for files with this prefix.\n",
      "  2%|1         | 9/502 [00:00<00:05, 83.88it/s]"
     ]
    },
    {
     "name": "stdout",
     "output_type": "stream",
     "text": [
      "Evaluating\n"
     ]
    },
    {
     "name": "stderr",
     "output_type": "stream",
     "text": [
      "100%|##########| 502/502 [00:05<00:00, 89.88it/s]\n"
     ]
    },
    {
     "name": "stdout",
     "output_type": "stream",
     "text": [
      "{'ade': 0.6475193, 'fde': 1.404657}\n"
     ]
    }
   ],
   "source": [
    "#Ultimo Modelo\n",
    "path_model = 'SINKP_NON_UCYUNIV_12_F/model.ckpt-43800'\n",
    "saver.restore(sess=sess, save_path=path_model)\n",
    "\n",
    "\n",
    "test_data = batches_data.Dataset(data_prueba, arguments)\n",
    "print('Evaluating')\n",
    "results = evaluate(test_data, tester,sess,arguments)\n",
    "print(results)"
   ]
  },
  {
   "cell_type": "code",
   "execution_count": 12,
   "metadata": {},
   "outputs": [
    {
     "name": "stderr",
     "output_type": "stream",
     "text": [
      "  1%|          | 5/502 [00:00<00:10, 45.41it/s]"
     ]
    },
    {
     "name": "stdout",
     "output_type": "stream",
     "text": [
      "Evaluating\n"
     ]
    },
    {
     "name": "stderr",
     "output_type": "stream",
     "text": [
      "100%|##########| 502/502 [00:06<00:00, 81.18it/s]"
     ]
    },
    {
     "name": "stdout",
     "output_type": "stream",
     "text": [
      "{'ade': 0.6475176, 'fde': 1.4046524}\n"
     ]
    },
    {
     "name": "stderr",
     "output_type": "stream",
     "text": [
      "\n"
     ]
    }
   ],
   "source": [
    "#Modelo12\n",
    "path_model = 'SINKP_NON_UCYUNIV_12/model.ckpt-43800'\n",
    "saver.restore(sess=sess, save_path=path_model)\n",
    "\n",
    "\n",
    "test_data = batches_data.Dataset(data_prueba, arguments)\n",
    "print('Evaluating')\n",
    "results = evaluate(test_data, tester,sess,arguments)\n",
    "print(results)"
   ]
  },
  {
   "cell_type": "code",
   "execution_count": 13,
   "metadata": {},
   "outputs": [
    {
     "name": "stderr",
     "output_type": "stream",
     "text": [
      "  1%|1         | 7/502 [00:00<00:08, 61.49it/s]"
     ]
    },
    {
     "name": "stdout",
     "output_type": "stream",
     "text": [
      "Evaluating\n"
     ]
    },
    {
     "name": "stderr",
     "output_type": "stream",
     "text": [
      "100%|##########| 502/502 [00:05<00:00, 85.36it/s]\n"
     ]
    },
    {
     "name": "stdout",
     "output_type": "stream",
     "text": [
      "{'ade': 0.64713806, 'fde': 1.402884}\n"
     ]
    }
   ],
   "source": [
    "# Mejor Modelo\n",
    "path_model = 'SINKP_NON_UCYUNIV-BEST_12/model_best.ckpt-29400'\n",
    "saver.restore(sess=sess, save_path=path_model)\n",
    "\n",
    "test_data = batches_data.Dataset(data_prueba, arguments)\n",
    "print('Evaluating')\n",
    "results = evaluate(test_data, tester,sess,arguments)\n",
    "print(results)"
   ]
  },
  {
   "cell_type": "code",
   "execution_count": null,
   "metadata": {},
   "outputs": [],
   "source": []
  }
 ],
 "metadata": {
  "kernelspec": {
   "display_name": "Python 2",
   "language": "python",
   "name": "python2"
  },
  "language_info": {
   "codemirror_mode": {
    "name": "ipython",
    "version": 2
   },
   "file_extension": ".py",
   "mimetype": "text/x-python",
   "name": "python",
   "nbconvert_exporter": "python",
   "pygments_lexer": "ipython2",
   "version": "2.7.16"
  }
 },
 "nbformat": 4,
 "nbformat_minor": 2
}
