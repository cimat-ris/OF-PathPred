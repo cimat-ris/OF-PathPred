{
 "cells": [
  {
   "cell_type": "code",
   "execution_count": 1,
   "metadata": {},
   "outputs": [],
   "source": [
    "import sys\n",
    "#sys.path.append('/home/andrea/Dropbox/CIMAT/TESIS/lstmsss/keypoints/partes')\n",
    "sys.path.append('../keypoints/partes')\n",
    "import numpy as np\n",
    "#from process_file import process_file_modif\n",
    "#from process_file import process_file_modif_varios\n",
    "from process_file import datos_subprocesados_varios\n",
    "import batches_data\n",
    "import model\n",
    "\n",
    "import tensorflow as tf \n",
    "tf.reset_default_graph()\n",
    "\n",
    "import entrenamientoevaluacion\n",
    "from entrenamientoevaluacion import evaluate\n",
    "from interaccion_no_normalizada import batch_vecinos"
   ]
  },
  {
   "cell_type": "code",
   "execution_count": 2,
   "metadata": {},
   "outputs": [],
   "source": [
    "class parameters:\n",
    "    def __init__(self):\n",
    "        self.obs_len = 8\n",
    "        self.pred_len = 12\n",
    "        self.add_social = False\n",
    "        self.kp_num = 18\n",
    "        self.add_kp = False\n",
    "        #self.directory_flujo='/home/andrea/Dropbox/CIMAT/TESIS/lstmsss/keypoints'\n",
    "        self.directory_flujo='../keypoints'"
   ]
  },
  {
   "cell_type": "code",
   "execution_count": 3,
   "metadata": {},
   "outputs": [
    {
     "name": "stdout",
     "output_type": "stream",
     "text": [
      "../data1/eth/hotel/mundo/mun_pos.csv\n",
      "913\n",
      "../data1/ucy/zara/zara01/mundo/mun_pos.csv\n",
      "2356\n",
      "../data1/ucy/zara/zara02/mundo/mun_pos.csv\n",
      "5910\n",
      "../data1/ucy/univ/mundo/mun_pos.csv\n",
      "10039\n",
      "(19218, 8, 64)\n",
      "../data1/eth/univ/mundo/mun_pos.csv\n",
      "339\n",
      "(339, 8, 64)\n"
     ]
    }
   ],
   "source": [
    "# Cargamos los argumentos\n",
    "arguments = parameters()\n",
    "\n",
    "# List of data directories where raw data resides\n",
    "datasets_entrena_vali = [1,2,3,4]\n",
    "datasets_prueba = [0]\n",
    "\n",
    "data_entrena_vali = datos_subprocesados_varios(datasets_entrena_vali, arguments, ',')\n",
    "data_prueba = datos_subprocesados_varios(datasets_prueba, arguments, ',')\n",
    "#data_ucyuniv = process_file_modif_varios(ucyuniv_pix_path, arguments, ',')"
   ]
  },
  {
   "cell_type": "markdown",
   "metadata": {},
   "source": [
    "# Dividimos los datos"
   ]
  },
  {
   "cell_type": "code",
   "execution_count": 4,
   "metadata": {},
   "outputs": [
    {
     "name": "stdout",
     "output_type": "stream",
     "text": [
      "data_train: 17680\n",
      "data_test: 339\n",
      "data_val: 1538\n"
     ]
    },
    {
     "name": "stderr",
     "output_type": "stream",
     "text": [
      "/home/andrea/anaconda2/lib/python2.7/site-packages/ipykernel_launcher.py:26: FutureWarning: Using a non-tuple sequence for multidimensional indexing is deprecated; use `arr[tuple(seq)]` instead of `arr[seq]`. In the future this will be interpreted as an array index, `arr[np.array(seq)]`, which will result either in an error or a different result.\n",
      "/home/andrea/anaconda2/lib/python2.7/site-packages/ipykernel_launcher.py:39: FutureWarning: Using a non-tuple sequence for multidimensional indexing is deprecated; use `arr[tuple(seq)]` instead of `arr[seq]`. In the future this will be interpreted as an array index, `arr[np.array(seq)]`, which will result either in an error or a different result.\n"
     ]
    }
   ],
   "source": [
    "#se fija la semilaa\n",
    "import random\n",
    "random.seed(0)\n",
    "\n",
    "# Muestreamos aleatoriamente para separar datos de entrenamiento, validacion y prueba\n",
    "prob = 0.92\n",
    "# La cantidad total de listas de tam 8 \n",
    "ndata = len(data_entrena_vali[list(data_entrena_vali.keys())[2]])\n",
    "idx = random.sample(range(ndata), ndata)\n",
    "long1 = int(ndata*prob)\n",
    "long2 = int(ndata-long1)\n",
    "\n",
    "\n",
    "idx_train = idx[0:long1]\n",
    "idx_val = idx[long1:]\n",
    "\n",
    "\n",
    "# conjunto de entrenamiento\n",
    "data1 = {\n",
    "     \"obs_traj\": data_entrena_vali[\"obs_traj\"][idx_train],\n",
    "     \"obs_traj_rel\": data_entrena_vali[\"obs_traj_rel\"][idx_train],\n",
    "    \n",
    "     \"pred_traj\": data_entrena_vali[\"pred_traj\"][idx_train],\n",
    "     \"pred_traj_rel\": data_entrena_vali[\"pred_traj_rel\"][idx_train],\n",
    "    \n",
    "     \"key_idx\": data_entrena_vali[\"key_idx\"][[idx_train]],\n",
    "     \"obs_flujo\" : data_entrena_vali[\"obs_flujo\"][idx_train],\n",
    "     #\"pred_kp\": data_pets[\"pred_kp\"][idx_train],\n",
    "     #\"obs_person\": data_pets[\"obs_person\"][idx_train],\n",
    "}\n",
    "\n",
    "\n",
    "# conjunto de validacion\n",
    "data3 ={\n",
    "     \"obs_traj\": data_entrena_vali[\"obs_traj\"][idx_val],\n",
    "     \"obs_traj_rel\": data_entrena_vali[\"obs_traj_rel\"][idx_val],\n",
    "     \"pred_traj\": data_entrena_vali[\"pred_traj\"][idx_val],\n",
    "     \"pred_traj_rel\": data_entrena_vali[\"pred_traj_rel\"][idx_val],\n",
    "     \"key_idx\": data_entrena_vali[\"key_idx\"][[idx_val]],\n",
    "     \"obs_flujo\" : data_entrena_vali[\"obs_flujo\"][idx_val],\n",
    "}\n",
    "\n",
    "\n",
    "#if arguments.add_kp:\n",
    "#  print(data3['obs_person_rel'])\n",
    "\n",
    "print(\"data_train: \"+ str(len(data1[list(data1.keys())[0]])))\n",
    "print(\"data_test: \"+ str(len(data_prueba[list(data_prueba .keys())[0]])))\n",
    "print(\"data_val: \"+ str(len(data3[list(data3.keys())[0]])))\n",
    "#print(\"data4: \"+ str(len(data4[list(data4.keys())[0]])))\n"
   ]
  },
  {
   "cell_type": "markdown",
   "metadata": {},
   "source": [
    "# Guardamos la division de los datos"
   ]
  },
  {
   "cell_type": "code",
   "execution_count": 6,
   "metadata": {},
   "outputs": [],
   "source": [
    "import pickle\n",
    "\n",
    "#conjunto de entrenamiento\n",
    "pickle_out = open(\"data1_ETHUNIV_12.pickle\",\"wb\")\n",
    "pickle.dump(data1, pickle_out, protocol=2)\n",
    "pickle_out.close()\n",
    "\n",
    "#conjunto de prueba\n",
    "pickle_out = open(\"data2_ETHUNIV_12.pickle\",\"wb\")\n",
    "pickle.dump(data_prueba, pickle_out, protocol=2)\n",
    "pickle_out.close()\n",
    "\n",
    "#conjunto de validacion\n",
    "pickle_out = open(\"data3_ETHUNIV_12.pickle\",\"wb\")\n",
    "pickle.dump(data3, pickle_out, protocol=2)\n",
    "pickle_out.close()"
   ]
  },
  {
   "cell_type": "markdown",
   "metadata": {},
   "source": [
    "# Parametros para entrenar el modelo"
   ]
  },
  {
   "cell_type": "code",
   "execution_count": 7,
   "metadata": {},
   "outputs": [],
   "source": [
    "class parameters1:\n",
    "    def __init__(self, add_kp = None, add_social=None, train_num_examples=None):\n",
    "        # -----------------\n",
    "        # Similar a como se procesaron los datos\n",
    "        self.obs_len = 8\n",
    "        self.pred_len = 12\n",
    "        if add_kp is None:\n",
    "            print('Parameter add kpp missing')\n",
    "            return\n",
    "        if train_num_examples is None:\n",
    "            print('El parametro train_examples fue olvidado')\n",
    "            return\n",
    "        if add_social is None:\n",
    "            print('Parameter add social missing')\n",
    "            return\n",
    "        \n",
    "        self.add_kp = add_kp\n",
    "        self.train_num_examples = train_num_examples\n",
    "        self.add_social = add_social\n",
    "        \n",
    "        self.kp_num = 18\n",
    "        self.kp_size = 18\n",
    "        #self.maxNumPed = 8\n",
    "        #self.grid_size = 4\n",
    "        #self.neighborhood_size = 32\n",
    "        #self.dimensions = [768,576]\n",
    "        #self.limites=[-15.88,11.56,-19.09,5.99]\n",
    "        #self.bound=[0.7,0.5]\n",
    "        # ------------------\n",
    "        self.num_epochs = 100\n",
    "        self.batch_size = 20 # batch size\n",
    "        self.validate = 300\n",
    "        self.P = 2 # dimensión\n",
    "        self.enc_hidden_size = 128 # el nombre lo dice\n",
    "        self.dec_hidden_size = 128\n",
    "        self.emb_size = 64\n",
    "        self.keep_prob = 0.7 # dropout\n",
    "        \n",
    "        self.min_ped = 1\n",
    "        self.seq_len = self.obs_len + self.pred_len\n",
    "        self.reverse_xy = False\n",
    "        \n",
    "        self.activation_func = tf.nn.tanh\n",
    "        self.activation_func1 = tf.nn.relu\n",
    "        self.is_train = True\n",
    "        self.is_test = False\n",
    "        self.multi_decoder = False\n",
    "        self.modelname = 'gphuctl'\n",
    "        \n",
    "        self.init_lr = 0.002 # 0.01\n",
    "        self.learning_rate_decay = 0.85\n",
    "        self.num_epoch_per_decay = 2.0\n",
    "        self.optimizer = 'adam'\n",
    "        self.emb_lr = 1.0\n",
    "        #self.clip_gradient_norm = 10.0\n",
    "        #Para cuando entreno y quiero guardar el mejor modelo\n",
    "        self.load_best = True"
   ]
  },
  {
   "cell_type": "markdown",
   "metadata": {},
   "source": [
    "# Entrenamos el modelo"
   ]
  },
  {
   "cell_type": "code",
   "execution_count": 8,
   "metadata": {},
   "outputs": [
    {
     "name": "stderr",
     "output_type": "stream",
     "text": [
      "WARNING: Logging before flag parsing goes to stderr.\n",
      "W0102 09:49:11.542941 140686521648896 deprecation_wrapper.py:119] From /home/andrea/Dropbox/CIMAT/TESIS/lstmsss/keypoints/partes/model.py:13: The name tf.get_variable is deprecated. Please use tf.compat.v1.get_variable instead.\n",
      "\n",
      "W0102 09:49:11.559890 140686521648896 deprecation_wrapper.py:119] From /home/andrea/Dropbox/CIMAT/TESIS/lstmsss/keypoints/partes/model.py:31: The name tf.placeholder is deprecated. Please use tf.compat.v1.placeholder instead.\n",
      "\n",
      "W0102 09:49:11.583153 140686521648896 deprecation.py:323] From /home/andrea/Dropbox/CIMAT/TESIS/lstmsss/keypoints/partes/model.py:70: __init__ (from tensorflow.python.ops.rnn_cell_impl) is deprecated and will be removed in a future version.\n",
      "Instructions for updating:\n",
      "This class is equivalent as tf.keras.layers.LSTMCell, and will be replaced by that in Tensorflow 2.0.\n",
      "W0102 09:49:11.585311 140686521648896 deprecation_wrapper.py:119] From /home/andrea/Dropbox/CIMAT/TESIS/lstmsss/keypoints/partes/model.py:72: The name tf.nn.rnn_cell.DropoutWrapper is deprecated. Please use tf.compat.v1.nn.rnn_cell.DropoutWrapper instead.\n",
      "\n",
      "W0102 09:49:11.593225 140686521648896 deprecation_wrapper.py:119] From /home/andrea/Dropbox/CIMAT/TESIS/lstmsss/keypoints/partes/model.py:103: The name tf.variable_scope is deprecated. Please use tf.compat.v1.variable_scope instead.\n",
      "\n",
      "W0102 09:49:11.597361 140686521648896 deprecation_wrapper.py:119] From /home/andrea/Dropbox/CIMAT/TESIS/lstmsss/keypoints/partes/model.py:476: The name tf.AUTO_REUSE is deprecated. Please use tf.compat.v1.AUTO_REUSE instead.\n",
      "\n",
      "W0102 09:49:11.623420 140686521648896 deprecation_wrapper.py:119] From /home/andrea/Dropbox/CIMAT/TESIS/lstmsss/keypoints/partes/model.py:495: The name tf.truncated_normal is deprecated. Please use tf.random.truncated_normal instead.\n",
      "\n",
      "W0102 09:49:11.665815 140686521648896 deprecation.py:323] From /home/andrea/Dropbox/CIMAT/TESIS/lstmsss/keypoints/partes/model.py:116: dynamic_rnn (from tensorflow.python.ops.rnn) is deprecated and will be removed in a future version.\n",
      "Instructions for updating:\n",
      "Please use `keras.layers.RNN(cell)`, which is equivalent to this API\n",
      "W0102 09:49:11.844749 140686521648896 deprecation.py:506] From /home/andrea/anaconda2/lib/python2.7/site-packages/tensorflow/python/ops/init_ops.py:1251: calling __init__ (from tensorflow.python.ops.init_ops) with dtype is deprecated and will be removed in a future version.\n",
      "Instructions for updating:\n",
      "Call initializer instance with the dtype argument instead of passing it to the constructor\n",
      "W0102 09:49:11.855066 140686521648896 deprecation.py:506] From /home/andrea/anaconda2/lib/python2.7/site-packages/tensorflow/python/ops/rnn_cell_impl.py:961: calling __init__ (from tensorflow.python.ops.init_ops) with dtype is deprecated and will be removed in a future version.\n",
      "Instructions for updating:\n",
      "Call initializer instance with the dtype argument instead of passing it to the constructor\n",
      "W0102 09:49:12.532851 140686521648896 deprecation.py:323] From /home/andrea/anaconda2/lib/python2.7/site-packages/tensorflow/python/ops/rnn.py:244: where (from tensorflow.python.ops.array_ops) is deprecated and will be removed in a future version.\n",
      "Instructions for updating:\n",
      "Use tf.where in 2.0, which has the same broadcast rule as np.where\n",
      "W0102 09:49:12.794162 140686521648896 deprecation_wrapper.py:119] From /home/andrea/Dropbox/CIMAT/TESIS/lstmsss/keypoints/partes/model.py:554: The name tf.nn.rnn_cell.LSTMStateTuple is deprecated. Please use tf.compat.v1.nn.rnn_cell.LSTMStateTuple instead.\n",
      "\n",
      "W0102 09:49:12.830476 140686521648896 deprecation_wrapper.py:119] From /home/andrea/Dropbox/CIMAT/TESIS/lstmsss/keypoints/partes/model.py:272: The name tf.nn.raw_rnn is deprecated. Please use tf.compat.v1.nn.raw_rnn instead.\n",
      "\n",
      "W0102 09:49:13.318957 140686521648896 deprecation_wrapper.py:119] From /home/andrea/Dropbox/CIMAT/TESIS/lstmsss/keypoints/partes/entrenamientoevaluacion.py:18: The name tf.train.exponential_decay is deprecated. Please use tf.compat.v1.train.exponential_decay instead.\n",
      "\n",
      "W0102 09:49:13.327450 140686521648896 deprecation_wrapper.py:119] From /home/andrea/Dropbox/CIMAT/TESIS/lstmsss/keypoints/partes/entrenamientoevaluacion.py:33: The name tf.train.AdamOptimizer is deprecated. Please use tf.compat.v1.train.AdamOptimizer instead.\n",
      "\n",
      "  0%|          | 0/884 [00:00<?, ?it/s]"
     ]
    },
    {
     "name": "stdout",
     "output_type": "stream",
     "text": [
      "884\n",
      "('Epoca 1.', 'lr:', 0.002)\n",
      "\tsaving model 1...\n"
     ]
    },
    {
     "name": "stderr",
     "output_type": "stream",
     "text": [
      "\n",
      "  0%|          | 0/77 [00:00<?, ?it/s]\u001b[A"
     ]
    },
    {
     "name": "stdout",
     "output_type": "stream",
     "text": [
      "\tdone\n",
      "Evaluating\n"
     ]
    },
    {
     "name": "stderr",
     "output_type": "stream",
     "text": [
      "\n",
      "  1%|1         | 1/77 [00:00<00:23,  3.24it/s]\u001b[A\n",
      " 12%|#1        | 9/77 [00:00<00:14,  4.55it/s]\u001b[A\n",
      " 19%|#9        | 15/77 [00:00<00:09,  6.29it/s]\u001b[A\n",
      " 30%|##9       | 23/77 [00:00<00:06,  8.67it/s]\u001b[A\n",
      " 40%|####      | 31/77 [00:00<00:03, 11.81it/s]\u001b[A\n",
      " 49%|####9     | 38/77 [00:00<00:02, 15.73it/s]\u001b[A\n",
      " 58%|#####8    | 45/77 [00:00<00:01, 20.37it/s]\u001b[A\n",
      " 69%|######8   | 53/77 [00:01<00:00, 26.11it/s]\u001b[A\n",
      " 79%|#######9  | 61/77 [00:01<00:00, 32.60it/s]\u001b[A\n",
      " 88%|########8 | 68/77 [00:01<00:00, 38.44it/s]\u001b[A\n",
      " 99%|#########8| 76/77 [00:01<00:00, 44.97it/s]\u001b[A\n",
      "100%|##########| 77/77 [00:01<00:00, 55.61it/s]\u001b[A"
     ]
    },
    {
     "name": "stdout",
     "output_type": "stream",
     "text": [
      "{'ade': 1.6696161, 'fde': 3.0567772}\n",
      "\t last loss:-1.000000000, eval on validation:['ade: 1.6696161', 'fde: 3.0567772'], (best ade:999999 at step -1) \n",
      "\t saving best model...\n",
      "\t done.\n"
     ]
    },
    {
     "name": "stderr",
     "output_type": "stream",
     "text": [
      " 34%|███▎      | 298/884 [00:14<00:22, 26.16it/s]\n",
      "  0%|          | 0/77 [00:00<?, ?it/s]\u001b[A"
     ]
    },
    {
     "name": "stdout",
     "output_type": "stream",
     "text": [
      "\tsaving model 300...\n",
      "\tdone\n",
      "Evaluating\n"
     ]
    },
    {
     "name": "stderr",
     "output_type": "stream",
     "text": [
      "\n",
      "  9%|9         | 7/77 [00:00<00:01, 64.14it/s]\u001b[A\n",
      " 19%|#9        | 15/77 [00:00<00:00, 66.58it/s]\u001b[A\n",
      " 30%|##9       | 23/77 [00:00<00:00, 69.98it/s]\u001b[A\n",
      " 42%|####1     | 32/77 [00:00<00:00, 74.79it/s]\u001b[A\n",
      " 53%|#####3    | 41/77 [00:00<00:00, 78.40it/s]\u001b[A\n",
      " 65%|######4   | 50/77 [00:00<00:00, 80.92it/s]\u001b[A\n",
      " 77%|#######6  | 59/77 [00:00<00:00, 83.10it/s]\u001b[A\n",
      " 88%|########8 | 68/77 [00:00<00:00, 84.99it/s]\u001b[A\n",
      "100%|##########| 77/77 [00:00<00:00, 84.23it/s]\u001b[A"
     ]
    },
    {
     "name": "stdout",
     "output_type": "stream",
     "text": [
      "{'ade': 0.48579118, 'fde': 1.0569777}\n",
      "\t last loss:0.000806828, eval on validation:['ade: 0.48579118', 'fde: 1.0569777'], (best ade:1.6696161 at step 1) \n",
      "\t saving best model...\n",
      "\t done.\n"
     ]
    },
    {
     "name": "stderr",
     "output_type": "stream",
     "text": [
      " 68%|██████▊   | 598/884 [00:27<00:11, 25.87it/s]W0102 09:49:42.892008 140686521648896 deprecation.py:323] From /home/andrea/anaconda2/lib/python2.7/site-packages/tensorflow/python/training/saver.py:960: remove_checkpoint (from tensorflow.python.training.checkpoint_management) is deprecated and will be removed in a future version.\n",
      "Instructions for updating:\n",
      "Use standard file APIs to delete files with this prefix.\n",
      "\n",
      "  0%|          | 0/77 [00:00<?, ?it/s]\u001b[A"
     ]
    },
    {
     "name": "stdout",
     "output_type": "stream",
     "text": [
      "\tsaving model 600...\n",
      "\tdone\n",
      "Evaluating\n"
     ]
    },
    {
     "name": "stderr",
     "output_type": "stream",
     "text": [
      "\n",
      " 12%|#1        | 9/77 [00:00<00:00, 85.96it/s]\u001b[A\n",
      " 23%|##3       | 18/77 [00:00<00:00, 86.19it/s]\u001b[A\n",
      " 36%|###6      | 28/77 [00:00<00:00, 87.65it/s]\u001b[A\n",
      " 48%|####8     | 37/77 [00:00<00:00, 87.28it/s]\u001b[A\n",
      " 61%|######1   | 47/77 [00:00<00:00, 88.51it/s]\u001b[A\n",
      " 73%|#######2  | 56/77 [00:00<00:00, 88.75it/s]\u001b[A\n",
      " 86%|########5 | 66/77 [00:00<00:00, 89.71it/s]\u001b[A\n",
      " 97%|#########7| 75/77 [00:00<00:00, 89.75it/s]\u001b[A\n",
      " 68%|██████▊   | 601/884 [00:28<00:41,  6.76it/s]A"
     ]
    },
    {
     "name": "stdout",
     "output_type": "stream",
     "text": [
      "{'ade': 0.5066943, 'fde': 1.1048833}\n",
      "\t last loss:0.000610547, eval on validation:['ade: 0.5066943', 'fde: 1.1048833'], (best ade:0.48579118 at step 300) \n"
     ]
    },
    {
     "name": "stderr",
     "output_type": "stream",
     "text": [
      "100%|██████████| 884/884 [00:39<00:00, 22.28it/s]\n",
      "  0%|          | 1/884 [00:00<01:43,  8.56it/s]"
     ]
    },
    {
     "name": "stdout",
     "output_type": "stream",
     "text": [
      "('Epoca 2.', 'lr:', 0.002)\n"
     ]
    },
    {
     "name": "stderr",
     "output_type": "stream",
     "text": [
      "  1%|▏         | 13/884 [00:00<00:50, 17.29it/s]\n",
      "  0%|          | 0/77 [00:00<?, ?it/s]\u001b[A"
     ]
    },
    {
     "name": "stdout",
     "output_type": "stream",
     "text": [
      "\tsaving model 900...\n",
      "\tdone\n",
      "Evaluating\n"
     ]
    },
    {
     "name": "stderr",
     "output_type": "stream",
     "text": [
      "\n",
      " 12%|#1        | 9/77 [00:00<00:00, 89.61it/s]\u001b[A\n",
      " 25%|##4       | 19/77 [00:00<00:00, 90.55it/s]\u001b[A\n",
      " 35%|###5      | 27/77 [00:00<00:00, 86.36it/s]\u001b[A\n",
      " 47%|####6     | 36/77 [00:00<00:00, 86.56it/s]\u001b[A\n",
      " 60%|#####9    | 46/77 [00:00<00:00, 87.86it/s]\u001b[A\n",
      " 73%|#######2  | 56/77 [00:00<00:00, 89.25it/s]\u001b[A\n",
      " 86%|########5 | 66/77 [00:00<00:00, 90.12it/s]\u001b[A\n",
      " 99%|#########8| 76/77 [00:00<00:00, 90.47it/s]\u001b[A\n",
      "  2%|▏         | 19/884 [00:01<01:45,  8.18it/s][A"
     ]
    },
    {
     "name": "stdout",
     "output_type": "stream",
     "text": [
      "{'ade': 0.5054731, 'fde': 1.101157}\n",
      "\t last loss:0.000586671, eval on validation:['ade: 0.5054731', 'fde: 1.101157'], (best ade:0.48579118 at step 300) \n"
     ]
    },
    {
     "name": "stderr",
     "output_type": "stream",
     "text": [
      " 35%|███▌      | 313/884 [00:13<00:21, 26.26it/s]\n",
      "  0%|          | 0/77 [00:00<?, ?it/s]\u001b[A"
     ]
    },
    {
     "name": "stdout",
     "output_type": "stream",
     "text": [
      "\tsaving model 1200...\n",
      "\tdone\n",
      "Evaluating\n"
     ]
    },
    {
     "name": "stderr",
     "output_type": "stream",
     "text": [
      "\n",
      " 12%|#1        | 9/77 [00:00<00:00, 87.98it/s]\u001b[A\n",
      " 25%|##4       | 19/77 [00:00<00:00, 89.00it/s]\u001b[A\n",
      " 38%|###7      | 29/77 [00:00<00:00, 90.04it/s]\u001b[A\n",
      " 51%|#####     | 39/77 [00:00<00:00, 90.63it/s]\u001b[A\n",
      " 64%|######3   | 49/77 [00:00<00:00, 90.97it/s]\u001b[A\n",
      " 77%|#######6  | 59/77 [00:00<00:00, 91.21it/s]\u001b[A\n",
      " 88%|########8 | 68/77 [00:00<00:00, 89.99it/s]\u001b[A\n",
      " 36%|███▌      | 319/884 [00:14<01:03,  8.93it/s]A"
     ]
    },
    {
     "name": "stdout",
     "output_type": "stream",
     "text": [
      "{'ade': 0.5322996, 'fde': 1.1653365}\n",
      "\t last loss:0.000689792, eval on validation:['ade: 0.5322996', 'fde: 1.1653365'], (best ade:0.48579118 at step 300) \n"
     ]
    },
    {
     "name": "stderr",
     "output_type": "stream",
     "text": [
      " 69%|██████▉   | 613/884 [00:26<00:11, 24.55it/s]\n",
      "  0%|          | 0/77 [00:00<?, ?it/s]\u001b[A"
     ]
    },
    {
     "name": "stdout",
     "output_type": "stream",
     "text": [
      "\tsaving model 1500...\n",
      "\tdone\n",
      "Evaluating\n"
     ]
    },
    {
     "name": "stderr",
     "output_type": "stream",
     "text": [
      "\n",
      " 12%|#1        | 9/77 [00:00<00:00, 83.39it/s]\u001b[A\n",
      " 23%|##3       | 18/77 [00:00<00:00, 83.78it/s]\u001b[A\n",
      " 35%|###5      | 27/77 [00:00<00:00, 83.45it/s]\u001b[A\n",
      " 47%|####6     | 36/77 [00:00<00:00, 83.75it/s]\u001b[A\n",
      " 58%|#####8    | 45/77 [00:00<00:00, 83.43it/s]\u001b[A\n",
      " 69%|######8   | 53/77 [00:00<00:00, 80.62it/s]\u001b[A\n",
      " 81%|########  | 62/77 [00:00<00:00, 81.61it/s]\u001b[A\n",
      " 92%|#########2| 71/77 [00:00<00:00, 82.45it/s]\u001b[A\n",
      " 70%|███████   | 619/884 [00:27<00:32,  8.25it/s]A"
     ]
    },
    {
     "name": "stdout",
     "output_type": "stream",
     "text": [
      "{'ade': 0.60867876, 'fde': 1.394625}\n",
      "\t last loss:0.000707436, eval on validation:['ade: 0.60867876', 'fde: 1.394625'], (best ade:0.48579118 at step 300) \n"
     ]
    },
    {
     "name": "stderr",
     "output_type": "stream",
     "text": [
      "100%|██████████| 884/884 [00:38<00:00, 22.86it/s]\n",
      "  0%|          | 1/884 [00:00<01:49,  8.04it/s]"
     ]
    },
    {
     "name": "stdout",
     "output_type": "stream",
     "text": [
      "('Epoca 3.', 'lr:', 0.0017000001)\n"
     ]
    },
    {
     "name": "stderr",
     "output_type": "stream",
     "text": [
      "  4%|▎         | 31/884 [00:01<00:36, 23.27it/s]"
     ]
    },
    {
     "name": "stdout",
     "output_type": "stream",
     "text": [
      "\tsaving model 1800...\n"
     ]
    },
    {
     "name": "stderr",
     "output_type": "stream",
     "text": [
      "\n",
      "  0%|          | 0/77 [00:00<?, ?it/s]\u001b[A\n",
      " 12%|#1        | 9/77 [00:00<00:00, 82.21it/s]\u001b[A"
     ]
    },
    {
     "name": "stdout",
     "output_type": "stream",
     "text": [
      "\tdone\n",
      "Evaluating\n"
     ]
    },
    {
     "name": "stderr",
     "output_type": "stream",
     "text": [
      "\n",
      " 23%|##3       | 18/77 [00:00<00:00, 82.05it/s]\u001b[A\n",
      " 35%|###5      | 27/77 [00:00<00:00, 82.12it/s]\u001b[A\n",
      " 47%|####6     | 36/77 [00:00<00:00, 82.55it/s]\u001b[A\n",
      " 58%|#####8    | 45/77 [00:00<00:00, 83.00it/s]\u001b[A\n",
      " 70%|#######   | 54/77 [00:00<00:00, 82.67it/s]\u001b[A\n",
      " 82%|########1 | 63/77 [00:00<00:00, 83.33it/s]\u001b[A\n",
      " 94%|#########3| 72/77 [00:00<00:00, 83.13it/s]\u001b[A\n",
      "  4%|▍         | 34/884 [00:02<02:14,  6.30it/s][A"
     ]
    },
    {
     "name": "stdout",
     "output_type": "stream",
     "text": [
      "{'ade': 0.51651615, 'fde': 1.1279811}\n",
      "\t last loss:0.000317692, eval on validation:['ade: 0.51651615', 'fde: 1.1279811'], (best ade:0.48579118 at step 300) \n"
     ]
    },
    {
     "name": "stderr",
     "output_type": "stream",
     "text": [
      " 37%|███▋      | 331/884 [00:14<00:22, 24.75it/s]"
     ]
    },
    {
     "name": "stdout",
     "output_type": "stream",
     "text": [
      "\tsaving model 2100...\n"
     ]
    },
    {
     "name": "stderr",
     "output_type": "stream",
     "text": [
      "\n",
      "  0%|          | 0/77 [00:00<?, ?it/s]\u001b[A\n",
      " 12%|#1        | 9/77 [00:00<00:00, 84.08it/s]\u001b[A\n",
      " 23%|##3       | 18/77 [00:00<00:00, 83.80it/s]\u001b[A\n",
      " 35%|###5      | 27/77 [00:00<00:00, 83.51it/s]\u001b[A\n",
      " 47%|####6     | 36/77 [00:00<00:00, 83.40it/s]\u001b[A\n",
      " 58%|#####8    | 45/77 [00:00<00:00, 82.25it/s]\u001b[A\n",
      " 68%|######7   | 52/77 [00:00<00:00, 74.00it/s]\u001b[A\n",
      " 79%|#######9  | 61/77 [00:00<00:00, 76.18it/s]\u001b[A\n",
      " 91%|######### | 70/77 [00:00<00:00, 78.18it/s]\u001b[A\n",
      " 38%|███▊      | 334/884 [00:16<01:27,  6.28it/s]A"
     ]
    },
    {
     "name": "stdout",
     "output_type": "stream",
     "text": [
      "\tdone\n",
      "Evaluating\n",
      "{'ade': 0.59339064, 'fde': 1.3430009}\n",
      "\t last loss:0.000768154, eval on validation:['ade: 0.59339064', 'fde: 1.3430009'], (best ade:0.48579118 at step 300) \n"
     ]
    },
    {
     "name": "stderr",
     "output_type": "stream",
     "text": [
      " 71%|███████▏  | 631/884 [00:28<00:10, 24.77it/s]\n"
     ]
    },
    {
     "name": "stdout",
     "output_type": "stream",
     "text": [
      "\tsaving model 2400...\n",
      "\tdone\n",
      "Evaluating\n"
     ]
    },
    {
     "name": "stderr",
     "output_type": "stream",
     "text": [
      "  0%|          | 0/77 [00:00<?, ?it/s]\u001b[A\n",
      " 12%|#1        | 9/77 [00:00<00:00, 82.99it/s]\u001b[A\n",
      " 22%|##2       | 17/77 [00:00<00:00, 80.19it/s]\u001b[A\n",
      " 34%|###3      | 26/77 [00:00<00:00, 81.04it/s]\u001b[A\n",
      " 45%|####5     | 35/77 [00:00<00:00, 81.73it/s]\u001b[A\n",
      " 56%|#####5    | 43/77 [00:00<00:00, 80.48it/s]\u001b[A\n",
      " 68%|######7   | 52/77 [00:00<00:00, 81.46it/s]\u001b[A\n",
      " 79%|#######9  | 61/77 [00:00<00:00, 81.41it/s]\u001b[A\n",
      " 91%|######### | 70/77 [00:00<00:00, 82.14it/s]\u001b[A\n",
      " 72%|███████▏  | 634/884 [00:29<00:39,  6.37it/s]A"
     ]
    },
    {
     "name": "stdout",
     "output_type": "stream",
     "text": [
      "{'ade': 0.5472664, 'fde': 1.212549}\n",
      "\t last loss:0.000617550, eval on validation:['ade: 0.5472664', 'fde: 1.212549'], (best ade:0.48579118 at step 300) \n"
     ]
    },
    {
     "name": "stderr",
     "output_type": "stream",
     "text": [
      "100%|██████████| 884/884 [00:39<00:00, 24.68it/s]\n",
      "  0%|          | 2/884 [00:00<00:59, 14.78it/s]"
     ]
    },
    {
     "name": "stdout",
     "output_type": "stream",
     "text": [
      "('Epoca 4.', 'lr:', 0.0017000001)\n"
     ]
    },
    {
     "name": "stderr",
     "output_type": "stream",
     "text": [
      "  5%|▌         | 47/884 [00:01<00:34, 24.61it/s]\n"
     ]
    },
    {
     "name": "stdout",
     "output_type": "stream",
     "text": [
      "\tsaving model 2700...\n",
      "\tdone\n",
      "Evaluating\n"
     ]
    },
    {
     "name": "stderr",
     "output_type": "stream",
     "text": [
      "  0%|          | 0/77 [00:00<?, ?it/s]\u001b[A\n",
      " 12%|#1        | 9/77 [00:00<00:00, 83.17it/s]\u001b[A\n",
      " 23%|##3       | 18/77 [00:00<00:00, 83.22it/s]\u001b[A\n",
      " 35%|###5      | 27/77 [00:00<00:00, 83.77it/s]\u001b[A\n",
      " 47%|####6     | 36/77 [00:00<00:00, 83.74it/s]\u001b[A\n",
      " 57%|#####7    | 44/77 [00:00<00:00, 80.22it/s]\u001b[A\n",
      " 69%|######8   | 53/77 [00:00<00:00, 81.07it/s]\u001b[A\n",
      " 81%|########  | 62/77 [00:00<00:00, 81.09it/s]\u001b[A\n",
      " 92%|#########2| 71/77 [00:00<00:00, 81.75it/s]\u001b[A\n",
      "  6%|▌         | 50/884 [00:03<02:10,  6.40it/s][A"
     ]
    },
    {
     "name": "stdout",
     "output_type": "stream",
     "text": [
      "{'ade': 0.49924737, 'fde': 1.1024112}\n",
      "\t last loss:0.000398219, eval on validation:['ade: 0.49924737', 'fde: 1.1024112'], (best ade:0.48579118 at step 300) \n"
     ]
    },
    {
     "name": "stderr",
     "output_type": "stream",
     "text": [
      " 39%|███▉      | 347/884 [00:15<00:21, 24.51it/s]\n"
     ]
    },
    {
     "name": "stdout",
     "output_type": "stream",
     "text": [
      "\tsaving model 3000...\n",
      "\tdone\n",
      "Evaluating\n"
     ]
    },
    {
     "name": "stderr",
     "output_type": "stream",
     "text": [
      "  0%|          | 0/77 [00:00<?, ?it/s]\u001b[A\n",
      " 12%|#1        | 9/77 [00:00<00:00, 83.92it/s]\u001b[A\n",
      " 22%|##2       | 17/77 [00:00<00:00, 80.73it/s]\u001b[A\n",
      " 34%|###3      | 26/77 [00:00<00:00, 81.05it/s]\u001b[A\n",
      " 45%|####5     | 35/77 [00:00<00:00, 81.11it/s]\u001b[A\n",
      " 57%|#####7    | 44/77 [00:00<00:00, 81.76it/s]\u001b[A\n",
      " 69%|######8   | 53/77 [00:00<00:00, 81.91it/s]\u001b[A\n",
      " 81%|########  | 62/77 [00:00<00:00, 82.32it/s]\u001b[A\n",
      " 92%|#########2| 71/77 [00:00<00:00, 82.32it/s]\u001b[A\n",
      " 40%|███▉      | 350/884 [00:16<01:23,  6.36it/s]A"
     ]
    },
    {
     "name": "stdout",
     "output_type": "stream",
     "text": [
      "{'ade': 0.56679463, 'fde': 1.2885103}\n",
      "\t last loss:0.000606211, eval on validation:['ade: 0.56679463', 'fde: 1.2885103'], (best ade:0.48579118 at step 300) \n"
     ]
    },
    {
     "name": "stderr",
     "output_type": "stream",
     "text": [
      " 73%|███████▎  | 647/884 [00:28<00:09, 24.43it/s]\n"
     ]
    },
    {
     "name": "stdout",
     "output_type": "stream",
     "text": [
      "\tsaving model 3300...\n",
      "\tdone\n",
      "Evaluating\n"
     ]
    },
    {
     "name": "stderr",
     "output_type": "stream",
     "text": [
      "  0%|          | 0/77 [00:00<?, ?it/s]\u001b[A\n",
      " 12%|#1        | 9/77 [00:00<00:00, 84.71it/s]\u001b[A\n",
      " 23%|##3       | 18/77 [00:00<00:00, 84.57it/s]\u001b[A\n",
      " 35%|###5      | 27/77 [00:00<00:00, 84.60it/s]\u001b[A\n",
      " 45%|####5     | 35/77 [00:00<00:00, 83.15it/s]\u001b[A\n",
      " 57%|#####7    | 44/77 [00:00<00:00, 82.89it/s]\u001b[A\n",
      " 69%|######8   | 53/77 [00:00<00:00, 82.94it/s]\u001b[A\n",
      " 81%|########  | 62/77 [00:00<00:00, 82.67it/s]\u001b[A\n",
      " 91%|######### | 70/77 [00:00<00:00, 80.18it/s]\u001b[A\n",
      " 74%|███████▎  | 650/884 [00:30<00:36,  6.38it/s]A"
     ]
    },
    {
     "name": "stdout",
     "output_type": "stream",
     "text": [
      "{'ade': 0.5103599, 'fde': 1.1402415}\n",
      "\t last loss:0.000482720, eval on validation:['ade: 0.5103599', 'fde: 1.1402415'], (best ade:0.48579118 at step 300) \n"
     ]
    },
    {
     "name": "stderr",
     "output_type": "stream",
     "text": [
      "100%|██████████| 884/884 [00:39<00:00, 24.57it/s]\n",
      "  0%|          | 2/884 [00:00<00:57, 15.43it/s]"
     ]
    },
    {
     "name": "stdout",
     "output_type": "stream",
     "text": [
      "('Epoca 5.', 'lr:', 0.0014450002)\n"
     ]
    },
    {
     "name": "stderr",
     "output_type": "stream",
     "text": [
      "  7%|▋         | 62/884 [00:02<00:33, 24.64it/s]\n",
      "  0%|          | 0/77 [00:00<?, ?it/s]\u001b[A"
     ]
    },
    {
     "name": "stdout",
     "output_type": "stream",
     "text": [
      "\tsaving model 3600...\n",
      "\tdone\n",
      "Evaluating\n"
     ]
    },
    {
     "name": "stderr",
     "output_type": "stream",
     "text": [
      "\n",
      " 12%|#1        | 9/77 [00:00<00:00, 82.25it/s]\u001b[A\n",
      " 23%|##3       | 18/77 [00:00<00:00, 82.88it/s]\u001b[A\n",
      " 35%|###5      | 27/77 [00:00<00:00, 82.91it/s]\u001b[A\n",
      " 45%|####5     | 35/77 [00:00<00:00, 80.75it/s]\u001b[A\n",
      " 56%|#####5    | 43/77 [00:00<00:00, 80.44it/s]\u001b[A\n",
      " 68%|######7   | 52/77 [00:00<00:00, 81.57it/s]\u001b[A\n",
      " 79%|#######9  | 61/77 [00:00<00:00, 82.17it/s]\u001b[A\n",
      " 91%|######### | 70/77 [00:00<00:00, 82.15it/s]\u001b[A\n",
      "  7%|▋         | 65/884 [00:03<02:07,  6.43it/s][A"
     ]
    },
    {
     "name": "stdout",
     "output_type": "stream",
     "text": [
      "{'ade': 0.51480937, 'fde': 1.1416329}\n",
      "\t last loss:0.000707213, eval on validation:['ade: 0.51480937', 'fde: 1.1416329'], (best ade:0.48579118 at step 300) \n"
     ]
    },
    {
     "name": "stderr",
     "output_type": "stream",
     "text": [
      " 41%|████      | 362/884 [00:15<00:21, 24.68it/s]\n",
      "  0%|          | 0/77 [00:00<?, ?it/s]\u001b[A"
     ]
    },
    {
     "name": "stdout",
     "output_type": "stream",
     "text": [
      "\tsaving model 3900...\n",
      "\tdone\n",
      "Evaluating\n"
     ]
    },
    {
     "name": "stderr",
     "output_type": "stream",
     "text": [
      "\n",
      " 12%|#1        | 9/77 [00:00<00:00, 84.91it/s]\u001b[A\n",
      " 23%|##3       | 18/77 [00:00<00:00, 84.39it/s]\u001b[A\n",
      " 35%|###5      | 27/77 [00:00<00:00, 84.42it/s]\u001b[A\n",
      " 47%|####6     | 36/77 [00:00<00:00, 84.15it/s]\u001b[A\n",
      " 58%|#####8    | 45/77 [00:00<00:00, 84.01it/s]\u001b[A\n",
      " 70%|#######   | 54/77 [00:00<00:00, 83.71it/s]\u001b[A\n",
      " 82%|########1 | 63/77 [00:00<00:00, 83.71it/s]\u001b[A\n",
      " 94%|#########3| 72/77 [00:00<00:00, 83.78it/s]\u001b[A\n",
      " 41%|████▏     | 365/884 [00:17<01:20,  6.42it/s]A"
     ]
    },
    {
     "name": "stdout",
     "output_type": "stream",
     "text": [
      "{'ade': 0.49225014, 'fde': 1.086638}\n",
      "\t last loss:0.000429070, eval on validation:['ade: 0.49225014', 'fde: 1.086638'], (best ade:0.48579118 at step 300) \n"
     ]
    },
    {
     "name": "stderr",
     "output_type": "stream",
     "text": [
      " 75%|███████▍  | 662/884 [00:29<00:09, 24.58it/s]\n",
      "  0%|          | 0/77 [00:00<?, ?it/s]\u001b[A"
     ]
    },
    {
     "name": "stdout",
     "output_type": "stream",
     "text": [
      "\tsaving model 4200...\n",
      "\tdone\n",
      "Evaluating\n"
     ]
    },
    {
     "name": "stderr",
     "output_type": "stream",
     "text": [
      "\n",
      " 12%|#1        | 9/77 [00:00<00:00, 83.38it/s]\u001b[A\n",
      " 22%|##2       | 17/77 [00:00<00:00, 81.97it/s]\u001b[A\n",
      " 34%|###3      | 26/77 [00:00<00:00, 81.61it/s]\u001b[A\n",
      " 42%|####1     | 32/77 [00:00<00:00, 69.01it/s]\u001b[A\n",
      " 51%|#####     | 39/77 [00:00<00:00, 66.54it/s]\u001b[A\n",
      " 58%|#####8    | 45/77 [00:00<00:00, 61.14it/s]\u001b[A\n",
      " 69%|######8   | 53/77 [00:00<00:00, 65.48it/s]\u001b[A\n",
      " 81%|########  | 62/77 [00:00<00:00, 69.94it/s]\u001b[A\n",
      " 92%|#########2| 71/77 [00:00<00:00, 73.48it/s]\u001b[A\n",
      " 75%|███████▌  | 665/884 [00:30<00:36,  5.95it/s]A"
     ]
    },
    {
     "name": "stdout",
     "output_type": "stream",
     "text": [
      "{'ade': 0.5180951, 'fde': 1.145458}\n",
      "\t last loss:0.000342019, eval on validation:['ade: 0.5180951', 'fde: 1.145458'], (best ade:0.48579118 at step 300) \n"
     ]
    },
    {
     "name": "stderr",
     "output_type": "stream",
     "text": [
      "100%|██████████| 884/884 [00:39<00:00, 24.81it/s]\n",
      "  0%|          | 3/884 [00:00<00:37, 23.49it/s]"
     ]
    },
    {
     "name": "stdout",
     "output_type": "stream",
     "text": [
      "('Epoca 6.', 'lr:', 0.0014450002)\n"
     ]
    },
    {
     "name": "stderr",
     "output_type": "stream",
     "text": [
      "  9%|▉         | 78/884 [00:03<00:32, 24.52it/s]\n",
      "  0%|          | 0/77 [00:00<?, ?it/s]\u001b[A"
     ]
    },
    {
     "name": "stdout",
     "output_type": "stream",
     "text": [
      "\tsaving model 4500...\n",
      "\tdone\n",
      "Evaluating\n"
     ]
    },
    {
     "name": "stderr",
     "output_type": "stream",
     "text": [
      "\n",
      " 12%|#1        | 9/77 [00:00<00:00, 81.01it/s]\u001b[A\n",
      " 19%|#9        | 15/77 [00:00<00:00, 72.51it/s]\u001b[A\n",
      " 31%|###1      | 24/77 [00:00<00:00, 74.99it/s]\u001b[A\n",
      " 43%|####2     | 33/77 [00:00<00:00, 77.46it/s]\u001b[A\n",
      " 55%|#####4    | 42/77 [00:00<00:00, 78.77it/s]\u001b[A\n",
      " 66%|######6   | 51/77 [00:00<00:00, 80.19it/s]\u001b[A\n",
      " 78%|#######7  | 60/77 [00:00<00:00, 81.17it/s]\u001b[A\n",
      " 90%|########9 | 69/77 [00:00<00:00, 81.29it/s]\u001b[A\n",
      "  9%|▉         | 81/884 [00:04<02:06,  6.33it/s][A"
     ]
    },
    {
     "name": "stdout",
     "output_type": "stream",
     "text": [
      "{'ade': 0.53983283, 'fde': 1.217859}\n",
      "\t last loss:0.000408222, eval on validation:['ade: 0.53983283', 'fde: 1.217859'], (best ade:0.48579118 at step 300) \n"
     ]
    },
    {
     "name": "stderr",
     "output_type": "stream",
     "text": [
      " 43%|████▎     | 378/884 [00:16<00:20, 24.40it/s]\n",
      "  0%|          | 0/77 [00:00<?, ?it/s]\u001b[A"
     ]
    },
    {
     "name": "stdout",
     "output_type": "stream",
     "text": [
      "\tsaving model 4800...\n",
      "\tdone\n",
      "Evaluating\n"
     ]
    },
    {
     "name": "stderr",
     "output_type": "stream",
     "text": [
      "\n",
      " 12%|#1        | 9/77 [00:00<00:00, 86.15it/s]\u001b[A\n",
      " 23%|##3       | 18/77 [00:00<00:00, 84.86it/s]\u001b[A\n",
      " 35%|###5      | 27/77 [00:00<00:00, 84.83it/s]\u001b[A\n",
      " 47%|####6     | 36/77 [00:00<00:00, 84.21it/s]\u001b[A\n",
      " 58%|#####8    | 45/77 [00:00<00:00, 83.95it/s]\u001b[A\n",
      " 70%|#######   | 54/77 [00:00<00:00, 82.98it/s]\u001b[A\n",
      " 81%|########  | 62/77 [00:00<00:00, 80.71it/s]\u001b[A\n",
      " 91%|######### | 70/77 [00:00<00:00, 80.47it/s]\u001b[A\n",
      " 43%|████▎     | 381/884 [00:17<01:18,  6.39it/s]A"
     ]
    },
    {
     "name": "stdout",
     "output_type": "stream",
     "text": [
      "{'ade': 0.5278189, 'fde': 1.1841002}\n",
      "\t last loss:0.000592461, eval on validation:['ade: 0.5278189', 'fde: 1.1841002'], (best ade:0.48579118 at step 300) \n"
     ]
    },
    {
     "name": "stderr",
     "output_type": "stream",
     "text": [
      " 77%|███████▋  | 678/884 [00:29<00:08, 23.96it/s]\n",
      "  0%|          | 0/77 [00:00<?, ?it/s]\u001b[A"
     ]
    },
    {
     "name": "stdout",
     "output_type": "stream",
     "text": [
      "\tsaving model 5100...\n",
      "\tdone\n",
      "Evaluating\n"
     ]
    },
    {
     "name": "stderr",
     "output_type": "stream",
     "text": [
      "\n",
      " 12%|#1        | 9/77 [00:00<00:00, 84.31it/s]\u001b[A\n",
      " 23%|##3       | 18/77 [00:00<00:00, 83.45it/s]\u001b[A\n",
      " 35%|###5      | 27/77 [00:00<00:00, 83.14it/s]\u001b[A\n",
      " 45%|####5     | 35/77 [00:00<00:00, 81.07it/s]\u001b[A\n",
      " 57%|#####7    | 44/77 [00:00<00:00, 81.71it/s]\u001b[A\n",
      " 69%|######8   | 53/77 [00:00<00:00, 82.54it/s]\u001b[A\n",
      " 81%|########  | 62/77 [00:00<00:00, 82.56it/s]\u001b[A\n",
      " 92%|#########2| 71/77 [00:00<00:00, 82.72it/s]\u001b[A\n",
      " 77%|███████▋  | 681/884 [00:31<00:31,  6.39it/s]A"
     ]
    },
    {
     "name": "stdout",
     "output_type": "stream",
     "text": [
      "{'ade': 0.50260425, 'fde': 1.1031796}\n",
      "\t last loss:0.000397502, eval on validation:['ade: 0.50260425', 'fde: 1.1031796'], (best ade:0.48579118 at step 300) \n"
     ]
    },
    {
     "name": "stderr",
     "output_type": "stream",
     "text": [
      "100%|██████████| 884/884 [00:39<00:00, 24.48it/s]\n",
      "  0%|          | 1/884 [00:00<01:39,  8.90it/s]"
     ]
    },
    {
     "name": "stdout",
     "output_type": "stream",
     "text": [
      "('Epoca 7.', 'lr:', 0.0012282502)\n"
     ]
    },
    {
     "name": "stderr",
     "output_type": "stream",
     "text": [
      " 11%|█         | 94/884 [00:03<00:32, 24.63it/s]\n",
      "  0%|          | 0/77 [00:00<?, ?it/s]"
     ]
    },
    {
     "name": "stdout",
     "output_type": "stream",
     "text": [
      "\tsaving model 5400...\n",
      "\tdone\n",
      "Evaluating\n"
     ]
    },
    {
     "name": "stderr",
     "output_type": "stream",
     "text": [
      "\u001b[A\n",
      " 12%|#1        | 9/77 [00:00<00:00, 84.53it/s]\u001b[A\n",
      " 23%|##3       | 18/77 [00:00<00:00, 84.37it/s]\u001b[A\n",
      " 35%|###5      | 27/77 [00:00<00:00, 83.67it/s]\u001b[A\n",
      " 47%|####6     | 36/77 [00:00<00:00, 83.52it/s]\u001b[A\n",
      " 58%|#####8    | 45/77 [00:00<00:00, 83.54it/s]\u001b[A\n",
      " 69%|######8   | 53/77 [00:00<00:00, 80.63it/s]\u001b[A\n",
      " 81%|########  | 62/77 [00:00<00:00, 80.85it/s]\u001b[A\n",
      " 92%|#########2| 71/77 [00:00<00:00, 81.58it/s]\u001b[A\n",
      " 11%|█         | 97/884 [00:05<02:02,  6.41it/s][A"
     ]
    },
    {
     "name": "stdout",
     "output_type": "stream",
     "text": [
      "{'ade': 0.5207275, 'fde': 1.1498692}\n",
      "\t last loss:0.000260093, eval on validation:['ade: 0.5207275', 'fde: 1.1498692'], (best ade:0.48579118 at step 300) \n"
     ]
    },
    {
     "name": "stderr",
     "output_type": "stream",
     "text": [
      " 45%|████▍     | 394/884 [00:17<00:19, 24.52it/s]\n",
      "  0%|          | 0/77 [00:00<?, ?it/s]\u001b[A"
     ]
    },
    {
     "name": "stdout",
     "output_type": "stream",
     "text": [
      "\tsaving model 5700...\n",
      "\tdone\n",
      "Evaluating\n"
     ]
    },
    {
     "name": "stderr",
     "output_type": "stream",
     "text": [
      "\n",
      " 12%|#1        | 9/77 [00:00<00:00, 84.04it/s]\u001b[A\n",
      " 23%|##3       | 18/77 [00:00<00:00, 83.78it/s]\u001b[A\n",
      " 34%|###3      | 26/77 [00:00<00:00, 80.73it/s]\u001b[A\n",
      " 44%|####4     | 34/77 [00:00<00:00, 80.45it/s]\u001b[A\n",
      " 56%|#####5    | 43/77 [00:00<00:00, 81.10it/s]\u001b[A\n",
      " 68%|######7   | 52/77 [00:00<00:00, 81.65it/s]\u001b[A\n",
      " 79%|#######9  | 61/77 [00:00<00:00, 82.54it/s]\u001b[A\n",
      " 91%|######### | 70/77 [00:00<00:00, 82.35it/s]\u001b[A\n",
      " 45%|████▍     | 397/884 [00:18<01:16,  6.39it/s]A"
     ]
    },
    {
     "name": "stdout",
     "output_type": "stream",
     "text": [
      "{'ade': 0.4972658, 'fde': 1.0962486}\n",
      "\t last loss:0.000447781, eval on validation:['ade: 0.4972658', 'fde: 1.0962486'], (best ade:0.48579118 at step 300) \n"
     ]
    },
    {
     "name": "stderr",
     "output_type": "stream",
     "text": [
      " 79%|███████▊  | 694/884 [00:30<00:07, 24.73it/s]\n",
      "  0%|          | 0/77 [00:00<?, ?it/s]\u001b[A"
     ]
    },
    {
     "name": "stdout",
     "output_type": "stream",
     "text": [
      "\tsaving model 6000...\n",
      "\tdone\n",
      "Evaluating\n"
     ]
    },
    {
     "name": "stderr",
     "output_type": "stream",
     "text": [
      "\n",
      " 12%|#1        | 9/77 [00:00<00:00, 82.30it/s]\u001b[A\n",
      " 22%|##2       | 17/77 [00:00<00:00, 81.37it/s]\u001b[A\n",
      " 34%|###3      | 26/77 [00:00<00:00, 81.64it/s]\u001b[A\n",
      " 45%|####5     | 35/77 [00:00<00:00, 82.13it/s]\u001b[A\n",
      " 57%|#####7    | 44/77 [00:00<00:00, 82.51it/s]\u001b[A\n",
      " 69%|######8   | 53/77 [00:00<00:00, 82.93it/s]\u001b[A\n",
      " 81%|########  | 62/77 [00:00<00:00, 82.66it/s]\u001b[A\n",
      " 92%|#########2| 71/77 [00:00<00:00, 82.73it/s]\u001b[A\n",
      " 79%|███████▉  | 697/884 [00:31<00:29,  6.39it/s]A"
     ]
    },
    {
     "name": "stdout",
     "output_type": "stream",
     "text": [
      "{'ade': 0.5244619, 'fde': 1.1776965}\n",
      "\t last loss:0.000498720, eval on validation:['ade: 0.5244619', 'fde: 1.1776965'], (best ade:0.48579118 at step 300) \n"
     ]
    },
    {
     "name": "stderr",
     "output_type": "stream",
     "text": [
      "100%|██████████| 884/884 [00:39<00:00, 22.40it/s]\n",
      "  0%|          | 2/884 [00:00<01:00, 14.66it/s]"
     ]
    },
    {
     "name": "stdout",
     "output_type": "stream",
     "text": [
      "('Epoca 8.', 'lr:', 0.0012282502)\n"
     ]
    },
    {
     "name": "stderr",
     "output_type": "stream",
     "text": [
      " 12%|█▏        | 110/884 [00:04<00:31, 24.69it/s]\n",
      "  0%|          | 0/77 [00:00<?, ?it/s]\u001b[A"
     ]
    },
    {
     "name": "stdout",
     "output_type": "stream",
     "text": [
      "\tsaving model 6300...\n",
      "\tdone\n",
      "Evaluating\n"
     ]
    },
    {
     "name": "stderr",
     "output_type": "stream",
     "text": [
      "\n",
      " 12%|#1        | 9/77 [00:00<00:00, 85.98it/s]\u001b[A\n",
      " 23%|##3       | 18/77 [00:00<00:00, 84.63it/s]\u001b[A\n",
      " 35%|###5      | 27/77 [00:00<00:00, 84.76it/s]\u001b[A\n",
      " 47%|####6     | 36/77 [00:00<00:00, 84.51it/s]\u001b[A\n",
      " 57%|#####7    | 44/77 [00:00<00:00, 82.06it/s]\u001b[A\n",
      " 68%|######7   | 52/77 [00:00<00:00, 81.37it/s]\u001b[A\n",
      " 79%|#######9  | 61/77 [00:00<00:00, 81.87it/s]\u001b[A\n",
      " 90%|########9 | 69/77 [00:00<00:00, 81.02it/s]\u001b[A\n",
      " 13%|█▎        | 113/884 [00:05<02:00,  6.42it/s]A"
     ]
    },
    {
     "name": "stdout",
     "output_type": "stream",
     "text": [
      "{'ade': 0.5546899, 'fde': 1.2531127}\n",
      "\t last loss:0.000316215, eval on validation:['ade: 0.5546899', 'fde: 1.2531127'], (best ade:0.48579118 at step 300) \n"
     ]
    },
    {
     "name": "stderr",
     "output_type": "stream",
     "text": [
      " 46%|████▋     | 410/884 [00:17<00:19, 24.62it/s]\n",
      "  0%|          | 0/77 [00:00<?, ?it/s]\u001b[A"
     ]
    },
    {
     "name": "stdout",
     "output_type": "stream",
     "text": [
      "\tsaving model 6600...\n",
      "\tdone\n",
      "Evaluating\n"
     ]
    },
    {
     "name": "stderr",
     "output_type": "stream",
     "text": [
      "\n",
      " 12%|#1        | 9/77 [00:00<00:00, 82.64it/s]\u001b[A\n",
      " 22%|##2       | 17/77 [00:00<00:00, 81.73it/s]\u001b[A\n",
      " 32%|###2      | 25/77 [00:00<00:00, 80.02it/s]\u001b[A\n",
      " 44%|####4     | 34/77 [00:00<00:00, 80.64it/s]\u001b[A\n",
      " 56%|#####5    | 43/77 [00:00<00:00, 81.61it/s]\u001b[A\n",
      " 68%|######7   | 52/77 [00:00<00:00, 82.28it/s]\u001b[A\n",
      " 79%|#######9  | 61/77 [00:00<00:00, 82.03it/s]\u001b[A\n",
      " 91%|######### | 70/77 [00:00<00:00, 82.67it/s]\u001b[A\n",
      " 47%|████▋     | 413/884 [00:19<01:13,  6.41it/s]A"
     ]
    },
    {
     "name": "stdout",
     "output_type": "stream",
     "text": [
      "{'ade': 0.5464676, 'fde': 1.2292017}\n",
      "\t last loss:0.000744436, eval on validation:['ade: 0.5464676', 'fde: 1.2292017'], (best ade:0.48579118 at step 300) \n"
     ]
    },
    {
     "name": "stderr",
     "output_type": "stream",
     "text": [
      " 80%|████████  | 711/884 [00:34<00:07, 23.59it/s]"
     ]
    },
    {
     "name": "stdout",
     "output_type": "stream",
     "text": [
      "\tsaving model 6900...\n"
     ]
    },
    {
     "name": "stderr",
     "output_type": "stream",
     "text": [
      "\n",
      "  0%|          | 0/77 [00:00<?, ?it/s]\u001b[A\n",
      "  8%|7         | 6/77 [00:00<00:01, 59.92it/s]\u001b[A"
     ]
    },
    {
     "name": "stdout",
     "output_type": "stream",
     "text": [
      "\tdone\n",
      "Evaluating\n"
     ]
    },
    {
     "name": "stderr",
     "output_type": "stream",
     "text": [
      "\n",
      " 17%|#6        | 13/77 [00:00<00:01, 61.51it/s]\u001b[A\n",
      " 26%|##5       | 20/77 [00:00<00:00, 61.84it/s]\u001b[A\n",
      " 35%|###5      | 27/77 [00:00<00:00, 63.13it/s]\u001b[A\n",
      " 44%|####4     | 34/77 [00:00<00:00, 64.59it/s]\u001b[A\n",
      " 52%|#####1    | 40/77 [00:00<00:00, 57.18it/s]\u001b[A\n",
      " 61%|######1   | 47/77 [00:00<00:00, 58.96it/s]\u001b[A\n",
      " 71%|#######1  | 55/77 [00:00<00:00, 63.02it/s]\u001b[A\n",
      " 83%|########3 | 64/77 [00:00<00:00, 67.95it/s]\u001b[A\n",
      " 95%|#########4| 73/77 [00:01<00:00, 72.49it/s]\u001b[A\n",
      " 81%|████████  | 714/884 [00:35<00:30,  5.56it/s]A"
     ]
    },
    {
     "name": "stdout",
     "output_type": "stream",
     "text": [
      "{'ade': 0.5076602, 'fde': 1.1316621}\n",
      "\t last loss:0.000406894, eval on validation:['ade: 0.5076602', 'fde: 1.1316621'], (best ade:0.48579118 at step 300) \n"
     ]
    },
    {
     "name": "stderr",
     "output_type": "stream",
     "text": [
      "100%|██████████| 884/884 [00:44<00:00, 20.04it/s]\n",
      "  0%|          | 1/884 [00:00<01:45,  8.38it/s]"
     ]
    },
    {
     "name": "stdout",
     "output_type": "stream",
     "text": [
      "('Epoca 9.', 'lr:', 0.0010440127)\n"
     ]
    },
    {
     "name": "stderr",
     "output_type": "stream",
     "text": [
      " 14%|█▍        | 127/884 [00:05<00:30, 24.47it/s]"
     ]
    },
    {
     "name": "stdout",
     "output_type": "stream",
     "text": [
      "\tsaving model 7200...\n",
      "\tdone\n",
      "Evaluating\n"
     ]
    },
    {
     "name": "stderr",
     "output_type": "stream",
     "text": [
      "\n",
      "  0%|          | 0/77 [00:00<?, ?it/s]\u001b[A\n",
      " 12%|#1        | 9/77 [00:00<00:00, 85.11it/s]\u001b[A\n",
      " 21%|##        | 16/77 [00:00<00:00, 77.56it/s]\u001b[A\n",
      " 32%|###2      | 25/77 [00:00<00:00, 78.79it/s]\u001b[A\n",
      " 44%|####4     | 34/77 [00:00<00:00, 79.76it/s]\u001b[A\n",
      " 53%|#####3    | 41/77 [00:00<00:00, 75.56it/s]\u001b[A\n",
      " 65%|######4   | 50/77 [00:00<00:00, 78.28it/s]\u001b[A\n",
      " 74%|#######4  | 57/77 [00:00<00:00, 69.11it/s]\u001b[A\n",
      " 83%|########3 | 64/77 [00:00<00:00, 62.33it/s]\u001b[A\n",
      " 92%|#########2| 71/77 [00:01<00:00, 61.43it/s]\u001b[A\n",
      " 15%|█▍        | 130/884 [00:06<02:12,  5.68it/s]A"
     ]
    },
    {
     "name": "stdout",
     "output_type": "stream",
     "text": [
      "{'ade': 0.53755987, 'fde': 1.2040622}\n",
      "\t last loss:0.000567062, eval on validation:['ade: 0.53755987', 'fde: 1.2040622'], (best ade:0.48579118 at step 300) \n"
     ]
    },
    {
     "name": "stderr",
     "output_type": "stream",
     "text": [
      " 48%|████▊     | 426/884 [00:18<00:18, 25.03it/s]"
     ]
    },
    {
     "name": "stdout",
     "output_type": "stream",
     "text": [
      "\tsaving model 7500...\n"
     ]
    },
    {
     "name": "stderr",
     "output_type": "stream",
     "text": [
      "\n",
      "  0%|          | 0/77 [00:00<?, ?it/s]\u001b[A\n",
      " 10%|#         | 8/77 [00:00<00:00, 75.74it/s]\u001b[A"
     ]
    },
    {
     "name": "stdout",
     "output_type": "stream",
     "text": [
      "\tdone\n",
      "Evaluating\n"
     ]
    },
    {
     "name": "stderr",
     "output_type": "stream",
     "text": [
      "\n",
      " 18%|#8        | 14/77 [00:00<00:00, 68.65it/s]\u001b[A\n",
      " 26%|##5       | 20/77 [00:00<00:00, 64.10it/s]\u001b[A\n",
      " 36%|###6      | 28/77 [00:00<00:00, 68.02it/s]\u001b[A\n",
      " 45%|####5     | 35/77 [00:00<00:00, 67.61it/s]\u001b[A\n",
      " 57%|#####7    | 44/77 [00:00<00:00, 71.47it/s]\u001b[A\n",
      " 69%|######8   | 53/77 [00:00<00:00, 75.03it/s]\u001b[A\n",
      " 81%|########  | 62/77 [00:00<00:00, 77.82it/s]\u001b[A\n",
      " 92%|#########2| 71/77 [00:00<00:00, 79.07it/s]\u001b[A\n",
      "100%|##########| 77/77 [00:01<00:00, 74.05it/s]\u001b[A"
     ]
    },
    {
     "name": "stdout",
     "output_type": "stream",
     "text": [
      "{'ade': 0.4795495, 'fde': 1.0556648}\n",
      "\t last loss:0.000921417, eval on validation:['ade: 0.4795495', 'fde: 1.0556648'], (best ade:0.48579118 at step 300) \n",
      "\t saving best model...\n"
     ]
    },
    {
     "name": "stderr",
     "output_type": "stream",
     "text": [
      " 82%|████████▏ | 726/884 [00:33<00:06, 23.56it/s]\n",
      "  0%|          | 0/77 [00:00<?, ?it/s]\u001b[A"
     ]
    },
    {
     "name": "stdout",
     "output_type": "stream",
     "text": [
      "\t done.\n",
      "\tsaving model 7800...\n",
      "\tdone\n",
      "Evaluating\n"
     ]
    },
    {
     "name": "stderr",
     "output_type": "stream",
     "text": [
      "\n",
      " 12%|#1        | 9/77 [00:00<00:00, 83.09it/s]\u001b[A\n",
      " 19%|#9        | 15/77 [00:00<00:00, 72.67it/s]\u001b[A\n",
      " 29%|##8       | 22/77 [00:00<00:00, 70.86it/s]\u001b[A\n",
      " 38%|###7      | 29/77 [00:00<00:00, 69.57it/s]\u001b[A\n",
      " 49%|####9     | 38/77 [00:00<00:00, 73.50it/s]\u001b[A\n",
      " 60%|#####9    | 46/77 [00:00<00:00, 74.88it/s]\u001b[A\n",
      " 69%|######8   | 53/77 [00:00<00:00, 71.12it/s]\u001b[A\n",
      " 81%|########  | 62/77 [00:00<00:00, 74.86it/s]\u001b[A\n",
      " 92%|#########2| 71/77 [00:00<00:00, 77.56it/s]\u001b[A\n",
      " 83%|████████▎ | 732/884 [00:34<00:19,  7.83it/s]A"
     ]
    },
    {
     "name": "stdout",
     "output_type": "stream",
     "text": [
      "{'ade': 0.49240375, 'fde': 1.0760456}\n",
      "\t last loss:0.000504760, eval on validation:['ade: 0.49240375', 'fde: 1.0760456'], (best ade:0.4795495 at step 7500) \n"
     ]
    },
    {
     "name": "stderr",
     "output_type": "stream",
     "text": [
      "100%|██████████| 884/884 [00:41<00:00, 21.47it/s]\n",
      "  0%|          | 2/884 [00:00<00:44, 19.90it/s]"
     ]
    },
    {
     "name": "stdout",
     "output_type": "stream",
     "text": [
      "('Epoca 10.', 'lr:', 0.0010440127)\n"
     ]
    },
    {
     "name": "stderr",
     "output_type": "stream",
     "text": [
      " 16%|█▌        | 143/884 [00:05<00:29, 24.70it/s]"
     ]
    },
    {
     "name": "stdout",
     "output_type": "stream",
     "text": [
      "\tsaving model 8100...\n"
     ]
    },
    {
     "name": "stderr",
     "output_type": "stream",
     "text": [
      "\n",
      "  0%|          | 0/77 [00:00<?, ?it/s]\u001b[A\n",
      " 10%|#         | 8/77 [00:00<00:00, 77.59it/s]\u001b[A"
     ]
    },
    {
     "name": "stdout",
     "output_type": "stream",
     "text": [
      "\tdone\n",
      "Evaluating\n"
     ]
    },
    {
     "name": "stderr",
     "output_type": "stream",
     "text": [
      "\n",
      " 22%|##2       | 17/77 [00:00<00:00, 78.99it/s]\u001b[A\n",
      " 34%|###3      | 26/77 [00:00<00:00, 80.72it/s]\u001b[A\n",
      " 45%|####5     | 35/77 [00:00<00:00, 81.73it/s]\u001b[A\n",
      " 55%|#####4    | 42/77 [00:00<00:00, 76.24it/s]\u001b[A\n",
      " 64%|######3   | 49/77 [00:00<00:00, 71.87it/s]\u001b[A\n",
      " 73%|#######2  | 56/77 [00:00<00:00, 67.51it/s]\u001b[A\n",
      " 84%|########4 | 65/77 [00:00<00:00, 71.74it/s]\u001b[A\n",
      " 96%|#########6| 74/77 [00:00<00:00, 74.47it/s]\u001b[A\n",
      " 17%|█▋        | 146/884 [00:07<02:03,  6.00it/s]A"
     ]
    },
    {
     "name": "stdout",
     "output_type": "stream",
     "text": [
      "{'ade': 0.50854075, 'fde': 1.134306}\n",
      "\t last loss:0.000285491, eval on validation:['ade: 0.50854075', 'fde: 1.134306'], (best ade:0.4795495 at step 7500) \n"
     ]
    },
    {
     "name": "stderr",
     "output_type": "stream",
     "text": [
      " 50%|█████     | 443/884 [00:19<00:17, 24.62it/s]\n",
      "  0%|          | 0/77 [00:00<?, ?it/s]\u001b[A"
     ]
    },
    {
     "name": "stdout",
     "output_type": "stream",
     "text": [
      "\tsaving model 8400...\n",
      "\tdone\n",
      "Evaluating\n"
     ]
    },
    {
     "name": "stderr",
     "output_type": "stream",
     "text": [
      "\n",
      " 10%|#         | 8/77 [00:00<00:00, 79.85it/s]\u001b[A\n",
      " 22%|##2       | 17/77 [00:00<00:00, 81.10it/s]\u001b[A\n",
      " 32%|###2      | 25/77 [00:00<00:00, 80.09it/s]\u001b[A\n",
      " 40%|####      | 31/77 [00:00<00:00, 72.76it/s]\u001b[A\n",
      " 48%|####8     | 37/77 [00:00<00:00, 64.98it/s]\u001b[A\n",
      " 57%|#####7    | 44/77 [00:00<00:00, 64.93it/s]\u001b[A\n",
      " 69%|######8   | 53/77 [00:00<00:00, 69.33it/s]\u001b[A\n",
      " 79%|#######9  | 61/77 [00:00<00:00, 71.89it/s]\u001b[A\n",
      " 90%|########9 | 69/77 [00:00<00:00, 72.74it/s]\u001b[A\n",
      "100%|##########| 77/77 [00:01<00:00, 73.99it/s]\u001b[A"
     ]
    },
    {
     "name": "stdout",
     "output_type": "stream",
     "text": [
      "{'ade': 0.47670674, 'fde': 1.0362352}\n",
      "\t last loss:0.000304431, eval on validation:['ade: 0.47670674', 'fde: 1.0362352'], (best ade:0.4795495 at step 7500) \n",
      "\t saving best model...\n"
     ]
    },
    {
     "name": "stderr",
     "output_type": "stream",
     "text": [
      " 84%|████████▍ | 743/884 [00:33<00:05, 24.67it/s]\n",
      "  0%|          | 0/77 [00:00<?, ?it/s]\u001b[A"
     ]
    },
    {
     "name": "stdout",
     "output_type": "stream",
     "text": [
      "\t done.\n",
      "\tsaving model 8700...\n",
      "\tdone\n",
      "Evaluating\n"
     ]
    },
    {
     "name": "stderr",
     "output_type": "stream",
     "text": [
      "\n",
      " 12%|#1        | 9/77 [00:00<00:00, 84.73it/s]\u001b[A\n",
      " 23%|##3       | 18/77 [00:00<00:00, 84.80it/s]\u001b[A\n",
      " 35%|###5      | 27/77 [00:00<00:00, 84.87it/s]\u001b[A\n",
      " 47%|####6     | 36/77 [00:00<00:00, 85.30it/s]\u001b[A\n",
      " 56%|#####5    | 43/77 [00:00<00:00, 79.67it/s]\u001b[A\n",
      " 65%|######4   | 50/77 [00:00<00:00, 73.03it/s]\u001b[A\n",
      " 74%|#######4  | 57/77 [00:00<00:00, 68.00it/s]\u001b[A\n",
      " 84%|########4 | 65/77 [00:00<00:00, 69.24it/s]\u001b[A\n",
      " 95%|#########4| 73/77 [00:00<00:00, 71.57it/s]\u001b[A\n",
      " 84%|████████▍ | 746/884 [00:34<00:22,  6.10it/s]A"
     ]
    },
    {
     "name": "stdout",
     "output_type": "stream",
     "text": [
      "{'ade': 0.4912022, 'fde': 1.0798023}\n",
      "\t last loss:0.000385159, eval on validation:['ade: 0.4912022', 'fde: 1.0798023'], (best ade:0.47670674 at step 8400) \n"
     ]
    },
    {
     "name": "stderr",
     "output_type": "stream",
     "text": [
      "100%|██████████| 884/884 [00:40<00:00, 24.05it/s]\n",
      "  0%|          | 1/884 [00:00<01:35,  9.29it/s]"
     ]
    },
    {
     "name": "stdout",
     "output_type": "stream",
     "text": [
      "('Epoca 11.', 'lr:', 0.0008874108)\n"
     ]
    },
    {
     "name": "stderr",
     "output_type": "stream",
     "text": [
      " 18%|█▊        | 157/884 [00:06<00:28, 25.10it/s]\n",
      "  0%|          | 0/77 [00:00<?, ?it/s]"
     ]
    },
    {
     "name": "stdout",
     "output_type": "stream",
     "text": [
      "\tsaving model 9000...\n",
      "\tdone\n",
      "Evaluating\n"
     ]
    },
    {
     "name": "stderr",
     "output_type": "stream",
     "text": [
      "\u001b[A\n",
      " 10%|#         | 8/77 [00:00<00:00, 78.88it/s]\u001b[A\n",
      " 22%|##2       | 17/77 [00:00<00:00, 80.05it/s]\u001b[A\n",
      " 30%|##9       | 23/77 [00:00<00:00, 70.64it/s]\u001b[A\n",
      " 40%|####      | 31/77 [00:00<00:00, 70.90it/s]\u001b[A\n",
      " 49%|####9     | 38/77 [00:00<00:00, 69.04it/s]\u001b[A\n",
      " 61%|######1   | 47/77 [00:00<00:00, 73.29it/s]\u001b[A\n",
      " 71%|#######1  | 55/77 [00:00<00:00, 73.38it/s]\u001b[A\n",
      " 83%|########3 | 64/77 [00:00<00:00, 76.38it/s]\u001b[A\n",
      " 94%|#########3| 72/77 [00:00<00:00, 76.38it/s]\u001b[A\n",
      " 18%|█▊        | 163/884 [00:07<01:31,  7.84it/s]A"
     ]
    },
    {
     "name": "stdout",
     "output_type": "stream",
     "text": [
      "{'ade': 0.49413756, 'fde': 1.0916158}\n",
      "\t last loss:0.000476759, eval on validation:['ade: 0.49413756', 'fde: 1.0916158'], (best ade:0.47670674 at step 8400) \n"
     ]
    },
    {
     "name": "stderr",
     "output_type": "stream",
     "text": [
      " 52%|█████▏    | 457/884 [00:20<00:17, 24.20it/s]\n",
      "  0%|          | 0/77 [00:00<?, ?it/s]\u001b[A"
     ]
    },
    {
     "name": "stdout",
     "output_type": "stream",
     "text": [
      "\tsaving model 9300...\n",
      "\tdone\n",
      "Evaluating\n"
     ]
    },
    {
     "name": "stderr",
     "output_type": "stream",
     "text": [
      "\n",
      " 12%|#1        | 9/77 [00:00<00:00, 85.44it/s]\u001b[A\n",
      " 23%|##3       | 18/77 [00:00<00:00, 85.43it/s]\u001b[A\n",
      " 35%|###5      | 27/77 [00:00<00:00, 85.29it/s]\u001b[A\n",
      " 45%|####5     | 35/77 [00:00<00:00, 83.16it/s]\u001b[A\n",
      " 55%|#####4    | 42/77 [00:00<00:00, 77.66it/s]\u001b[A\n",
      " 64%|######3   | 49/77 [00:00<00:00, 70.05it/s]\u001b[A\n",
      " 74%|#######4  | 57/77 [00:00<00:00, 69.82it/s]\u001b[A\n",
      " 83%|########3 | 64/77 [00:00<00:00, 69.28it/s]\u001b[A\n",
      " 94%|#########3| 72/77 [00:00<00:00, 71.24it/s]\u001b[A\n",
      "100%|##########| 77/77 [00:01<00:00, 74.14it/s]\u001b[A"
     ]
    },
    {
     "name": "stdout",
     "output_type": "stream",
     "text": [
      "{'ade': 0.47451827, 'fde': 1.0434364}\n",
      "\t last loss:0.000528533, eval on validation:['ade: 0.47451827', 'fde: 1.0434364'], (best ade:0.47670674 at step 8400) \n",
      "\t saving best model...\n"
     ]
    },
    {
     "name": "stderr",
     "output_type": "stream",
     "text": [
      " 52%|█████▏    | 463/884 [00:21<01:00,  6.96it/s]"
     ]
    },
    {
     "name": "stdout",
     "output_type": "stream",
     "text": [
      "\t done.\n"
     ]
    },
    {
     "name": "stderr",
     "output_type": "stream",
     "text": [
      " 86%|████████▌ | 758/884 [00:33<00:05, 24.85it/s]\n",
      "  0%|          | 0/77 [00:00<?, ?it/s]"
     ]
    },
    {
     "name": "stdout",
     "output_type": "stream",
     "text": [
      "\tsaving model 9600...\n",
      "\tdone\n",
      "Evaluating\n"
     ]
    },
    {
     "name": "stderr",
     "output_type": "stream",
     "text": [
      "\u001b[A\n",
      " 12%|#1        | 9/77 [00:00<00:00, 84.04it/s]\u001b[A\n",
      " 23%|##3       | 18/77 [00:00<00:00, 84.26it/s]\u001b[A\n",
      " 34%|###3      | 26/77 [00:00<00:00, 79.12it/s]\u001b[A\n",
      " 43%|####2     | 33/77 [00:00<00:00, 72.16it/s]\u001b[A\n",
      " 51%|#####     | 39/77 [00:00<00:00, 63.32it/s]\u001b[A\n",
      " 62%|######2   | 48/77 [00:00<00:00, 68.12it/s]\u001b[A\n",
      " 71%|#######1  | 55/77 [00:00<00:00, 68.28it/s]\u001b[A\n",
      " 83%|########3 | 64/77 [00:00<00:00, 72.36it/s]\u001b[A\n",
      " 95%|#########4| 73/77 [00:00<00:00, 75.91it/s]\u001b[A\n",
      " 86%|████████▋ | 764/884 [00:35<00:15,  7.82it/s]A"
     ]
    },
    {
     "name": "stdout",
     "output_type": "stream",
     "text": [
      "{'ade': 0.49864605, 'fde': 1.1000322}\n",
      "\t last loss:0.000677336, eval on validation:['ade: 0.49864605', 'fde: 1.1000322'], (best ade:0.47451827 at step 9300) \n"
     ]
    },
    {
     "name": "stderr",
     "output_type": "stream",
     "text": [
      "100%|██████████| 884/884 [00:40<00:00, 24.99it/s]\n",
      "  0%|          | 3/884 [00:00<00:36, 24.19it/s]"
     ]
    },
    {
     "name": "stdout",
     "output_type": "stream",
     "text": [
      "('Epoca 12.', 'lr:', 0.0008874108)\n"
     ]
    },
    {
     "name": "stderr",
     "output_type": "stream",
     "text": [
      " 20%|█▉        | 173/884 [00:07<00:28, 25.06it/s]\n",
      "  0%|          | 0/77 [00:00<?, ?it/s]"
     ]
    },
    {
     "name": "stdout",
     "output_type": "stream",
     "text": [
      "\tsaving model 9900...\n",
      "\tdone\n",
      "Evaluating\n"
     ]
    },
    {
     "name": "stderr",
     "output_type": "stream",
     "text": [
      "\u001b[A\n",
      " 12%|#1        | 9/77 [00:00<00:00, 82.51it/s]\u001b[A\n",
      " 19%|#9        | 15/77 [00:00<00:00, 73.20it/s]\u001b[A\n",
      " 29%|##8       | 22/77 [00:00<00:00, 70.57it/s]\u001b[A\n",
      " 38%|###7      | 29/77 [00:00<00:00, 68.73it/s]\u001b[A\n",
      " 47%|####6     | 36/77 [00:00<00:00, 68.99it/s]\u001b[A\n",
      " 58%|#####8    | 45/77 [00:00<00:00, 73.29it/s]\u001b[A\n",
      " 70%|#######   | 54/77 [00:00<00:00, 76.42it/s]\u001b[A\n",
      " 81%|########  | 62/77 [00:00<00:00, 77.37it/s]\u001b[A\n",
      " 91%|######### | 70/77 [00:00<00:00, 75.25it/s]\u001b[A\n",
      " 20%|██        | 179/884 [00:08<01:30,  7.81it/s]A"
     ]
    },
    {
     "name": "stdout",
     "output_type": "stream",
     "text": [
      "{'ade': 0.5698056, 'fde': 1.2939136}\n",
      "\t last loss:0.000340286, eval on validation:['ade: 0.5698056', 'fde: 1.2939136'], (best ade:0.47451827 at step 9300) \n"
     ]
    },
    {
     "name": "stderr",
     "output_type": "stream",
     "text": [
      " 54%|█████▎    | 473/884 [00:20<00:16, 24.62it/s]\n",
      "  0%|          | 0/77 [00:00<?, ?it/s]\u001b[A"
     ]
    },
    {
     "name": "stdout",
     "output_type": "stream",
     "text": [
      "\tsaving model 10200...\n",
      "\tdone\n",
      "Evaluating\n"
     ]
    },
    {
     "name": "stderr",
     "output_type": "stream",
     "text": [
      "\n",
      " 12%|#1        | 9/77 [00:00<00:00, 85.61it/s]\u001b[A\n",
      " 23%|##3       | 18/77 [00:00<00:00, 85.42it/s]\u001b[A\n",
      " 35%|###5      | 27/77 [00:00<00:00, 84.74it/s]\u001b[A\n",
      " 45%|####5     | 35/77 [00:00<00:00, 83.11it/s]\u001b[A\n",
      " 55%|#####4    | 42/77 [00:00<00:00, 71.46it/s]\u001b[A\n",
      " 64%|######3   | 49/77 [00:00<00:00, 68.37it/s]\u001b[A\n",
      " 74%|#######4  | 57/77 [00:00<00:00, 70.48it/s]\u001b[A\n",
      " 86%|########5 | 66/77 [00:00<00:00, 74.22it/s]\u001b[A\n",
      " 97%|#########7| 75/77 [00:00<00:00, 77.13it/s]\u001b[A\n",
      " 54%|█████▍    | 479/884 [00:22<00:51,  7.88it/s]A"
     ]
    },
    {
     "name": "stdout",
     "output_type": "stream",
     "text": [
      "{'ade': 0.48217508, 'fde': 1.0665255}\n",
      "\t last loss:0.000442375, eval on validation:['ade: 0.48217508', 'fde: 1.0665255'], (best ade:0.47451827 at step 9300) \n"
     ]
    },
    {
     "name": "stderr",
     "output_type": "stream",
     "text": [
      " 87%|████████▋ | 773/884 [00:34<00:04, 24.34it/s]\n",
      "  0%|          | 0/77 [00:00<?, ?it/s]\u001b[A"
     ]
    },
    {
     "name": "stdout",
     "output_type": "stream",
     "text": [
      "\tsaving model 10500...\n",
      "\tdone\n",
      "Evaluating\n"
     ]
    },
    {
     "name": "stderr",
     "output_type": "stream",
     "text": [
      "\n",
      " 12%|#1        | 9/77 [00:00<00:00, 85.64it/s]\u001b[A\n",
      " 23%|##3       | 18/77 [00:00<00:00, 85.32it/s]\u001b[A\n",
      " 35%|###5      | 27/77 [00:00<00:00, 84.37it/s]\u001b[A\n",
      " 47%|####6     | 36/77 [00:00<00:00, 83.19it/s]\u001b[A\n",
      " 57%|#####7    | 44/77 [00:00<00:00, 81.73it/s]\u001b[A\n",
      " 66%|######6   | 51/77 [00:00<00:00, 74.03it/s]\u001b[A\n",
      " 75%|#######5  | 58/77 [00:00<00:00, 70.01it/s]\u001b[A\n",
      " 84%|########4 | 65/77 [00:00<00:00, 67.65it/s]\u001b[A\n",
      " 96%|#########6| 74/77 [00:00<00:00, 71.87it/s]\u001b[A\n",
      " 88%|████████▊ | 779/884 [00:36<00:13,  7.79it/s]A"
     ]
    },
    {
     "name": "stdout",
     "output_type": "stream",
     "text": [
      "{'ade': 0.5098707, 'fde': 1.1433071}\n",
      "\t last loss:0.000401025, eval on validation:['ade: 0.5098707', 'fde: 1.1433071'], (best ade:0.47451827 at step 9300) \n"
     ]
    },
    {
     "name": "stderr",
     "output_type": "stream",
     "text": [
      "100%|██████████| 884/884 [00:40<00:00, 24.27it/s]\n",
      "  0%|          | 1/884 [00:00<01:39,  8.85it/s]"
     ]
    },
    {
     "name": "stdout",
     "output_type": "stream",
     "text": [
      "('Epoca 13.', 'lr:', 0.0007542992)\n"
     ]
    },
    {
     "name": "stderr",
     "output_type": "stream",
     "text": [
      " 21%|██▏       | 189/884 [00:07<00:27, 24.99it/s]\n",
      "  0%|          | 0/77 [00:00<?, ?it/s]\u001b[A"
     ]
    },
    {
     "name": "stdout",
     "output_type": "stream",
     "text": [
      "\tsaving model 10800...\n",
      "\tdone\n",
      "Evaluating\n"
     ]
    },
    {
     "name": "stderr",
     "output_type": "stream",
     "text": [
      "\n",
      " 12%|#1        | 9/77 [00:00<00:00, 86.44it/s]\u001b[A\n",
      " 19%|#9        | 15/77 [00:00<00:00, 74.16it/s]\u001b[A\n",
      " 29%|##8       | 22/77 [00:00<00:00, 72.04it/s]\u001b[A\n",
      " 38%|###7      | 29/77 [00:00<00:00, 70.43it/s]\u001b[A\n",
      " 48%|####8     | 37/77 [00:00<00:00, 71.05it/s]\u001b[A\n",
      " 60%|#####9    | 46/77 [00:00<00:00, 74.49it/s]\u001b[A\n",
      " 70%|#######   | 54/77 [00:00<00:00, 74.99it/s]\u001b[A\n",
      " 81%|########  | 62/77 [00:00<00:00, 75.15it/s]\u001b[A\n",
      " 92%|#########2| 71/77 [00:00<00:00, 77.74it/s]\u001b[A\n",
      " 22%|██▏       | 195/884 [00:09<01:27,  7.83it/s]A"
     ]
    },
    {
     "name": "stdout",
     "output_type": "stream",
     "text": [
      "{'ade': 0.51548696, 'fde': 1.154768}\n",
      "\t last loss:0.000257564, eval on validation:['ade: 0.51548696', 'fde: 1.154768'], (best ade:0.47451827 at step 9300) \n"
     ]
    },
    {
     "name": "stderr",
     "output_type": "stream",
     "text": [
      " 55%|█████▌    | 489/884 [00:21<00:15, 24.92it/s]\n",
      "  0%|          | 0/77 [00:00<?, ?it/s]\u001b[A"
     ]
    },
    {
     "name": "stdout",
     "output_type": "stream",
     "text": [
      "\tsaving model 11100...\n",
      "\tdone\n",
      "Evaluating\n"
     ]
    },
    {
     "name": "stderr",
     "output_type": "stream",
     "text": [
      "\n",
      " 12%|#1        | 9/77 [00:00<00:00, 85.91it/s]\u001b[A\n",
      " 19%|#9        | 15/77 [00:00<00:00, 74.71it/s]\u001b[A\n",
      " 27%|##7       | 21/77 [00:00<00:00, 67.43it/s]\u001b[A\n",
      " 35%|###5      | 27/77 [00:00<00:00, 64.06it/s]\u001b[A\n",
      " 47%|####6     | 36/77 [00:00<00:00, 69.07it/s]\u001b[A\n",
      " 58%|#####8    | 45/77 [00:00<00:00, 72.96it/s]\u001b[A\n",
      " 69%|######8   | 53/77 [00:00<00:00, 74.24it/s]\u001b[A\n",
      " 79%|#######9  | 61/77 [00:00<00:00, 75.02it/s]\u001b[A\n",
      " 91%|######### | 70/77 [00:00<00:00, 77.56it/s]\u001b[A\n",
      " 56%|█████▌    | 494/884 [00:22<00:51,  7.53it/s]A"
     ]
    },
    {
     "name": "stdout",
     "output_type": "stream",
     "text": [
      "{'ade': 0.5041048, 'fde': 1.1247473}\n",
      "\t last loss:0.000514684, eval on validation:['ade: 0.5041048', 'fde: 1.1247473'], (best ade:0.47451827 at step 9300) \n"
     ]
    },
    {
     "name": "stderr",
     "output_type": "stream",
     "text": [
      " 89%|████████▉ | 790/884 [00:34<00:03, 24.15it/s]\n",
      "  0%|          | 0/77 [00:00<?, ?it/s]\u001b[A"
     ]
    },
    {
     "name": "stdout",
     "output_type": "stream",
     "text": [
      "\tsaving model 11400...\n",
      "\tdone\n",
      "Evaluating\n"
     ]
    },
    {
     "name": "stderr",
     "output_type": "stream",
     "text": [
      "\n",
      " 12%|#1        | 9/77 [00:00<00:00, 87.60it/s]\u001b[A\n",
      " 19%|#9        | 15/77 [00:00<00:00, 74.48it/s]\u001b[A\n",
      " 29%|##8       | 22/77 [00:00<00:00, 71.23it/s]\u001b[A\n",
      " 38%|###7      | 29/77 [00:00<00:00, 69.53it/s]\u001b[A\n",
      " 47%|####6     | 36/77 [00:00<00:00, 68.57it/s]\u001b[A\n",
      " 57%|#####7    | 44/77 [00:00<00:00, 70.76it/s]\u001b[A\n",
      " 68%|######7   | 52/77 [00:00<00:00, 71.92it/s]\u001b[A\n",
      " 79%|#######9  | 61/77 [00:00<00:00, 74.99it/s]\u001b[A\n",
      " 91%|######### | 70/77 [00:00<00:00, 77.74it/s]\u001b[A\n",
      " 90%|█████████ | 796/884 [00:36<00:11,  7.76it/s]A"
     ]
    },
    {
     "name": "stdout",
     "output_type": "stream",
     "text": [
      "{'ade': 0.5028168, 'fde': 1.1306446}\n",
      "\t last loss:0.000545434, eval on validation:['ade: 0.5028168', 'fde: 1.1306446'], (best ade:0.47451827 at step 9300) \n"
     ]
    },
    {
     "name": "stderr",
     "output_type": "stream",
     "text": [
      "100%|██████████| 884/884 [00:40<00:00, 22.01it/s]\n",
      "  0%|          | 1/884 [00:00<01:35,  9.24it/s]"
     ]
    },
    {
     "name": "stdout",
     "output_type": "stream",
     "text": [
      "('Epoca 14.', 'lr:', 0.0007542992)\n"
     ]
    },
    {
     "name": "stderr",
     "output_type": "stream",
     "text": [
      " 23%|██▎       | 205/884 [00:08<00:27, 25.02it/s]"
     ]
    },
    {
     "name": "stdout",
     "output_type": "stream",
     "text": [
      "\tsaving model 11700...\n"
     ]
    },
    {
     "name": "stderr",
     "output_type": "stream",
     "text": [
      "\n",
      "  0%|          | 0/77 [00:00<?, ?it/s]\u001b[A\n",
      " 10%|#         | 8/77 [00:00<00:00, 75.10it/s]\u001b[A"
     ]
    },
    {
     "name": "stdout",
     "output_type": "stream",
     "text": [
      "\tdone\n",
      "Evaluating\n"
     ]
    },
    {
     "name": "stderr",
     "output_type": "stream",
     "text": [
      "\n",
      " 19%|#9        | 15/77 [00:00<00:00, 70.09it/s]\u001b[A\n",
      " 29%|##8       | 22/77 [00:00<00:00, 67.23it/s]\u001b[A\n",
      " 36%|###6      | 28/77 [00:00<00:00, 64.78it/s]\u001b[A\n",
      " 48%|####8     | 37/77 [00:00<00:00, 69.82it/s]\u001b[A\n",
      " 58%|#####8    | 45/77 [00:00<00:00, 71.00it/s]\u001b[A\n",
      " 70%|#######   | 54/77 [00:00<00:00, 74.44it/s]\u001b[A\n",
      " 82%|########1 | 63/77 [00:00<00:00, 77.11it/s]\u001b[A\n",
      " 94%|#########3| 72/77 [00:00<00:00, 79.09it/s]\u001b[A\n",
      "100%|##########| 77/77 [00:01<00:00, 73.86it/s]\u001b[A"
     ]
    },
    {
     "name": "stdout",
     "output_type": "stream",
     "text": [
      "{'ade': 0.47366706, 'fde': 1.037637}\n",
      "\t last loss:0.000477013, eval on validation:['ade: 0.47366706', 'fde: 1.037637'], (best ade:0.47451827 at step 9300) \n",
      "\t saving best model...\n",
      "\t done.\n"
     ]
    },
    {
     "name": "stderr",
     "output_type": "stream",
     "text": [
      " 57%|█████▋    | 507/884 [00:22<00:15, 24.82it/s]\n"
     ]
    },
    {
     "name": "stdout",
     "output_type": "stream",
     "text": [
      "\tsaving model 12000...\n",
      "\tdone\n",
      "Evaluating\n"
     ]
    },
    {
     "name": "stderr",
     "output_type": "stream",
     "text": [
      "  0%|          | 0/77 [00:00<?, ?it/s]\u001b[A\n",
      " 12%|#1        | 9/77 [00:00<00:00, 84.08it/s]\u001b[A\n",
      " 22%|##2       | 17/77 [00:00<00:00, 82.44it/s]\u001b[A\n",
      " 32%|###2      | 25/77 [00:00<00:00, 81.10it/s]\u001b[A\n",
      " 44%|####4     | 34/77 [00:00<00:00, 82.03it/s]\u001b[A\n",
      " 55%|#####4    | 42/77 [00:00<00:00, 80.89it/s]\u001b[A\n",
      " 64%|######3   | 49/77 [00:00<00:00, 72.81it/s]\u001b[A\n",
      " 73%|#######2  | 56/77 [00:00<00:00, 65.49it/s]\u001b[A\n",
      " 84%|########4 | 65/77 [00:00<00:00, 70.33it/s]\u001b[A\n",
      " 96%|#########6| 74/77 [00:00<00:00, 74.11it/s]\u001b[A\n",
      " 58%|█████▊    | 510/884 [00:23<01:01,  6.04it/s]A"
     ]
    },
    {
     "name": "stdout",
     "output_type": "stream",
     "text": [
      "{'ade': 0.4876864, 'fde': 1.0719988}\n",
      "\t last loss:0.000338052, eval on validation:['ade: 0.4876864', 'fde: 1.0719988'], (best ade:0.47366706 at step 11700) \n"
     ]
    },
    {
     "name": "stderr",
     "output_type": "stream",
     "text": [
      " 91%|█████████ | 805/884 [00:35<00:03, 25.02it/s]\n",
      "  0%|          | 0/77 [00:00<?, ?it/s]"
     ]
    },
    {
     "name": "stdout",
     "output_type": "stream",
     "text": [
      "\tsaving model 12300...\n",
      "\tdone\n",
      "Evaluating\n"
     ]
    },
    {
     "name": "stderr",
     "output_type": "stream",
     "text": [
      "\u001b[A\n",
      " 12%|#1        | 9/77 [00:00<00:00, 86.63it/s]\u001b[A\n",
      " 19%|#9        | 15/77 [00:00<00:00, 73.98it/s]\u001b[A\n",
      " 29%|##8       | 22/77 [00:00<00:00, 71.82it/s]\u001b[A\n",
      " 36%|###6      | 28/77 [00:00<00:00, 65.73it/s]\u001b[A\n",
      " 45%|####5     | 35/77 [00:00<00:00, 66.27it/s]\u001b[A\n",
      " 56%|#####5    | 43/77 [00:00<00:00, 68.87it/s]\u001b[A\n",
      " 68%|######7   | 52/77 [00:00<00:00, 72.89it/s]\u001b[A\n",
      " 79%|#######9  | 61/77 [00:00<00:00, 75.38it/s]\u001b[A\n",
      " 91%|######### | 70/77 [00:00<00:00, 77.19it/s]\u001b[A\n",
      "100%|##########| 77/77 [00:01<00:00, 73.57it/s]\u001b[A"
     ]
    },
    {
     "name": "stdout",
     "output_type": "stream",
     "text": [
      "{'ade': 0.46725863, 'fde': 1.0165045}\n",
      "\t last loss:0.000444798, eval on validation:['ade: 0.46725863', 'fde: 1.0165045'], (best ade:0.47366706 at step 11700) \n",
      "\t saving best model...\n",
      "\t done."
     ]
    },
    {
     "name": "stderr",
     "output_type": "stream",
     "text": [
      " 92%|█████████▏| 811/884 [00:37<00:10,  7.01it/s]"
     ]
    },
    {
     "name": "stdout",
     "output_type": "stream",
     "text": [
      "\n"
     ]
    },
    {
     "name": "stderr",
     "output_type": "stream",
     "text": [
      "100%|██████████| 884/884 [00:40<00:00, 21.69it/s]\n",
      "  0%|          | 1/884 [00:00<01:41,  8.66it/s]"
     ]
    },
    {
     "name": "stdout",
     "output_type": "stream",
     "text": [
      "('Epoca 15.', 'lr:', 0.0006411543)\n"
     ]
    },
    {
     "name": "stderr",
     "output_type": "stream",
     "text": [
      " 25%|██▌       | 221/884 [00:09<00:26, 24.76it/s]\n",
      "  0%|          | 0/77 [00:00<?, ?it/s]\u001b[A"
     ]
    },
    {
     "name": "stdout",
     "output_type": "stream",
     "text": [
      "\tsaving model 12600...\n",
      "\tdone\n",
      "Evaluating\n"
     ]
    },
    {
     "name": "stderr",
     "output_type": "stream",
     "text": [
      "\n",
      " 12%|#1        | 9/77 [00:00<00:00, 85.15it/s]\u001b[A\n",
      " 21%|##        | 16/77 [00:00<00:00, 76.94it/s]\u001b[A\n",
      " 30%|##9       | 23/77 [00:00<00:00, 69.87it/s]\u001b[A\n",
      " 40%|####      | 31/77 [00:00<00:00, 70.74it/s]\u001b[A\n",
      " 51%|#####     | 39/77 [00:00<00:00, 72.83it/s]\u001b[A\n",
      " 62%|######2   | 48/77 [00:00<00:00, 76.39it/s]\u001b[A\n",
      " 74%|#######4  | 57/77 [00:00<00:00, 79.06it/s]\u001b[A\n",
      " 84%|########4 | 65/77 [00:00<00:00, 76.74it/s]\u001b[A\n",
      " 96%|#########6| 74/77 [00:00<00:00, 79.32it/s]\u001b[A\n",
      " 26%|██▌       | 227/884 [00:10<01:22,  7.93it/s]A"
     ]
    },
    {
     "name": "stdout",
     "output_type": "stream",
     "text": [
      "{'ade': 0.49477917, 'fde': 1.0996888}\n",
      "\t last loss:0.000404570, eval on validation:['ade: 0.49477917', 'fde: 1.0996888'], (best ade:0.46725863 at step 12300) \n"
     ]
    },
    {
     "name": "stderr",
     "output_type": "stream",
     "text": [
      " 59%|█████▉    | 521/884 [00:22<00:14, 25.08it/s]"
     ]
    },
    {
     "name": "stdout",
     "output_type": "stream",
     "text": [
      "\tsaving model 12900...\n",
      "\tdone"
     ]
    },
    {
     "name": "stderr",
     "output_type": "stream",
     "text": [
      "\n",
      "  0%|          | 0/77 [00:00<?, ?it/s]\u001b[A\n",
      " 10%|#         | 8/77 [00:00<00:00, 69.90it/s]\u001b[A"
     ]
    },
    {
     "name": "stdout",
     "output_type": "stream",
     "text": [
      "\n",
      "Evaluating\n"
     ]
    },
    {
     "name": "stderr",
     "output_type": "stream",
     "text": [
      "\n",
      " 18%|#8        | 14/77 [00:00<00:00, 65.96it/s]\u001b[A\n",
      " 26%|##5       | 20/77 [00:00<00:00, 63.71it/s]\u001b[A\n",
      " 36%|###6      | 28/77 [00:00<00:00, 67.07it/s]\u001b[A\n",
      " 48%|####8     | 37/77 [00:00<00:00, 71.35it/s]\u001b[A\n",
      " 58%|#####8    | 45/77 [00:00<00:00, 73.46it/s]\u001b[A\n",
      " 69%|######8   | 53/77 [00:00<00:00, 73.05it/s]\u001b[A\n",
      " 81%|########  | 62/77 [00:00<00:00, 76.07it/s]\u001b[A\n",
      " 91%|######### | 70/77 [00:00<00:00, 75.25it/s]\u001b[A\n",
      " 60%|█████▉    | 527/884 [00:24<00:46,  7.74it/s]A"
     ]
    },
    {
     "name": "stdout",
     "output_type": "stream",
     "text": [
      "{'ade': 0.4715719, 'fde': 1.0338172}\n",
      "\t last loss:0.000445963, eval on validation:['ade: 0.4715719', 'fde: 1.0338172'], (best ade:0.46725863 at step 12300) \n"
     ]
    },
    {
     "name": "stderr",
     "output_type": "stream",
     "text": [
      " 93%|█████████▎| 821/884 [00:36<00:02, 25.11it/s]\n"
     ]
    },
    {
     "name": "stdout",
     "output_type": "stream",
     "text": [
      "\tsaving model 13200...\n",
      "\tdone\n",
      "Evaluating\n"
     ]
    },
    {
     "name": "stderr",
     "output_type": "stream",
     "text": [
      "  0%|          | 0/77 [00:00<?, ?it/s]\u001b[A\n",
      " 12%|#1        | 9/77 [00:00<00:00, 86.40it/s]\u001b[A\n",
      " 22%|##2       | 17/77 [00:00<00:00, 84.04it/s]\u001b[A\n",
      " 31%|###1      | 24/77 [00:00<00:00, 77.13it/s]\u001b[A\n",
      " 43%|####2     | 33/77 [00:00<00:00, 79.11it/s]\u001b[A\n",
      " 55%|#####4    | 42/77 [00:00<00:00, 80.87it/s]\u001b[A\n",
      " 66%|######6   | 51/77 [00:00<00:00, 81.85it/s]\u001b[A\n",
      " 78%|#######7  | 60/77 [00:00<00:00, 82.52it/s]\u001b[A\n",
      " 88%|########8 | 68/77 [00:00<00:00, 80.68it/s]\u001b[A\n",
      " 94%|█████████▎| 827/884 [00:38<00:07,  8.06it/s]A"
     ]
    },
    {
     "name": "stdout",
     "output_type": "stream",
     "text": [
      "{'ade': 0.49547288, 'fde': 1.103682}\n",
      "\t last loss:0.000383058, eval on validation:['ade: 0.49547288', 'fde: 1.103682'], (best ade:0.46725863 at step 12300) \n"
     ]
    },
    {
     "name": "stderr",
     "output_type": "stream",
     "text": [
      "100%|██████████| 884/884 [00:40<00:00, 22.43it/s]\n",
      "  0%|          | 1/884 [00:00<01:37,  9.07it/s]"
     ]
    },
    {
     "name": "stdout",
     "output_type": "stream",
     "text": [
      "('Epoca 16.', 'lr:', 0.0006411543)\n"
     ]
    },
    {
     "name": "stderr",
     "output_type": "stream",
     "text": [
      " 27%|██▋       | 237/884 [00:09<00:25, 25.03it/s]\n",
      "  0%|          | 0/77 [00:00<?, ?it/s]\u001b[A"
     ]
    },
    {
     "name": "stdout",
     "output_type": "stream",
     "text": [
      "\tsaving model 13500...\n",
      "\tdone\n",
      "Evaluating\n"
     ]
    },
    {
     "name": "stderr",
     "output_type": "stream",
     "text": [
      "\n",
      " 12%|#1        | 9/77 [00:00<00:00, 87.78it/s]\u001b[A\n",
      " 23%|##3       | 18/77 [00:00<00:00, 87.23it/s]\u001b[A\n",
      " 31%|###1      | 24/77 [00:00<00:00, 72.63it/s]\u001b[A\n",
      " 40%|####      | 31/77 [00:00<00:00, 67.56it/s]\u001b[A\n",
      " 49%|####9     | 38/77 [00:00<00:00, 66.73it/s]\u001b[A\n",
      " 61%|######1   | 47/77 [00:00<00:00, 71.21it/s]\u001b[A\n",
      " 70%|#######   | 54/77 [00:00<00:00, 70.27it/s]\u001b[A\n",
      " 82%|########1 | 63/77 [00:00<00:00, 73.88it/s]\u001b[A\n",
      " 94%|#########3| 72/77 [00:00<00:00, 76.77it/s]\u001b[A\n",
      " 27%|██▋       | 243/884 [00:11<01:21,  7.90it/s]A"
     ]
    },
    {
     "name": "stdout",
     "output_type": "stream",
     "text": [
      "{'ade': 0.47606078, 'fde': 1.0422249}\n",
      "\t last loss:0.000311377, eval on validation:['ade: 0.47606078', 'fde: 1.0422249'], (best ade:0.46725863 at step 12300) \n"
     ]
    },
    {
     "name": "stderr",
     "output_type": "stream",
     "text": [
      " 61%|██████    | 537/884 [00:23<00:13, 25.26it/s]"
     ]
    },
    {
     "name": "stdout",
     "output_type": "stream",
     "text": [
      "\tsaving model 13800...\n"
     ]
    },
    {
     "name": "stderr",
     "output_type": "stream",
     "text": [
      "\n",
      "  0%|          | 0/77 [00:00<?, ?it/s]\u001b[A\n",
      " 12%|#1        | 9/77 [00:00<00:00, 88.50it/s]\u001b[A"
     ]
    },
    {
     "name": "stdout",
     "output_type": "stream",
     "text": [
      "\tdone\n",
      "Evaluating\n"
     ]
    },
    {
     "name": "stderr",
     "output_type": "stream",
     "text": [
      "\n",
      " 22%|##2       | 17/77 [00:00<00:00, 82.18it/s]\u001b[A\n",
      " 31%|###1      | 24/77 [00:00<00:00, 74.68it/s]\u001b[A\n",
      " 39%|###8      | 30/77 [00:00<00:00, 68.20it/s]\u001b[A\n",
      " 51%|#####     | 39/77 [00:00<00:00, 72.80it/s]\u001b[A\n",
      " 62%|######2   | 48/77 [00:00<00:00, 75.66it/s]\u001b[A\n",
      " 73%|#######2  | 56/77 [00:00<00:00, 75.11it/s]\u001b[A\n",
      " 83%|########3 | 64/77 [00:00<00:00, 74.54it/s]\u001b[A\n",
      " 94%|#########3| 72/77 [00:00<00:00, 75.45it/s]\u001b[A\n",
      " 61%|██████▏   | 543/884 [00:24<00:43,  7.80it/s]A"
     ]
    },
    {
     "name": "stdout",
     "output_type": "stream",
     "text": [
      "{'ade': 0.48270902, 'fde': 1.065875}\n",
      "\t last loss:0.000291055, eval on validation:['ade: 0.48270902', 'fde: 1.065875'], (best ade:0.46725863 at step 12300) \n"
     ]
    },
    {
     "name": "stderr",
     "output_type": "stream",
     "text": [
      " 95%|█████████▍| 837/884 [00:36<00:01, 25.03it/s]\n",
      "  0%|          | 0/77 [00:00<?, ?it/s]\u001b[A"
     ]
    },
    {
     "name": "stdout",
     "output_type": "stream",
     "text": [
      "\tsaving model 14100...\n",
      "\tdone\n",
      "Evaluating\n"
     ]
    },
    {
     "name": "stderr",
     "output_type": "stream",
     "text": [
      "\n",
      " 12%|#1        | 9/77 [00:00<00:00, 86.58it/s]\u001b[A\n",
      " 22%|##2       | 17/77 [00:00<00:00, 83.60it/s]\u001b[A\n",
      " 34%|###3      | 26/77 [00:00<00:00, 83.49it/s]\u001b[A\n",
      " 44%|####4     | 34/77 [00:00<00:00, 82.25it/s]\u001b[A\n",
      " 56%|#####5    | 43/77 [00:00<00:00, 83.21it/s]\u001b[A\n",
      " 68%|######7   | 52/77 [00:00<00:00, 83.75it/s]\u001b[A\n",
      " 79%|#######9  | 61/77 [00:00<00:00, 83.97it/s]\u001b[A\n",
      " 91%|######### | 70/77 [00:00<00:00, 84.20it/s]\u001b[A\n",
      " 95%|█████████▌| 842/884 [00:38<00:05,  7.79it/s]A"
     ]
    },
    {
     "name": "stdout",
     "output_type": "stream",
     "text": [
      "{'ade': 0.5011225, 'fde': 1.114006}\n",
      "\t last loss:0.000264067, eval on validation:['ade: 0.5011225', 'fde: 1.114006'], (best ade:0.46725863 at step 12300) \n"
     ]
    },
    {
     "name": "stderr",
     "output_type": "stream",
     "text": [
      "100%|██████████| 884/884 [00:39<00:00, 22.12it/s]\n",
      "  0%|          | 1/884 [00:00<01:30,  9.73it/s]"
     ]
    },
    {
     "name": "stdout",
     "output_type": "stream",
     "text": [
      "('Epoca 17.', 'lr:', 0.0005449812)\n"
     ]
    },
    {
     "name": "stderr",
     "output_type": "stream",
     "text": [
      " 29%|██▉       | 255/884 [00:10<00:25, 24.69it/s]\n",
      "  0%|          | 0/77 [00:00<?, ?it/s]\u001b[A"
     ]
    },
    {
     "name": "stdout",
     "output_type": "stream",
     "text": [
      "\tsaving model 14400...\n",
      "\tdone\n",
      "Evaluating\n"
     ]
    },
    {
     "name": "stderr",
     "output_type": "stream",
     "text": [
      "\n",
      " 12%|#1        | 9/77 [00:00<00:00, 84.24it/s]\u001b[A\n",
      " 19%|#9        | 15/77 [00:00<00:00, 73.51it/s]\u001b[A\n",
      " 29%|##8       | 22/77 [00:00<00:00, 68.68it/s]\u001b[A\n",
      " 39%|###8      | 30/77 [00:00<00:00, 70.82it/s]\u001b[A\n",
      " 48%|####8     | 37/77 [00:00<00:00, 69.80it/s]\u001b[A\n",
      " 57%|#####7    | 44/77 [00:00<00:00, 67.75it/s]\u001b[A\n",
      " 66%|######6   | 51/77 [00:00<00:00, 68.07it/s]\u001b[A\n",
      " 78%|#######7  | 60/77 [00:00<00:00, 71.74it/s]\u001b[A\n",
      " 90%|########9 | 69/77 [00:00<00:00, 75.25it/s]\u001b[A\n",
      " 29%|██▉       | 258/884 [00:11<01:44,  5.98it/s]A"
     ]
    },
    {
     "name": "stdout",
     "output_type": "stream",
     "text": [
      "{'ade': 0.49474096, 'fde': 1.0977566}\n",
      "\t last loss:0.000353915, eval on validation:['ade: 0.49474096', 'fde: 1.0977566'], (best ade:0.46725863 at step 12300) \n"
     ]
    },
    {
     "name": "stderr",
     "output_type": "stream",
     "text": [
      " 63%|██████▎   | 555/884 [00:24<00:16, 20.43it/s]"
     ]
    },
    {
     "name": "stdout",
     "output_type": "stream",
     "text": [
      "\tsaving model 14700...\n"
     ]
    },
    {
     "name": "stderr",
     "output_type": "stream",
     "text": [
      "\n",
      "  0%|          | 0/77 [00:00<?, ?it/s]\u001b[A\n",
      " 10%|#         | 8/77 [00:00<00:00, 73.93it/s]\u001b[A"
     ]
    },
    {
     "name": "stdout",
     "output_type": "stream",
     "text": [
      "\tdone\n",
      "Evaluating\n"
     ]
    },
    {
     "name": "stderr",
     "output_type": "stream",
     "text": [
      "\n",
      " 18%|#8        | 14/77 [00:00<00:00, 67.82it/s]\u001b[A\n",
      " 26%|##5       | 20/77 [00:00<00:00, 64.35it/s]\u001b[A\n",
      " 36%|###6      | 28/77 [00:00<00:00, 67.66it/s]\u001b[A\n",
      " 48%|####8     | 37/77 [00:00<00:00, 72.06it/s]\u001b[A\n",
      " 60%|#####9    | 46/77 [00:00<00:00, 75.20it/s]\u001b[A\n",
      " 71%|#######1  | 55/77 [00:00<00:00, 78.03it/s]\u001b[A\n",
      " 82%|########1 | 63/77 [00:00<00:00, 75.51it/s]\u001b[A\n",
      " 92%|#########2| 71/77 [00:00<00:00, 76.21it/s]\u001b[A\n",
      " 63%|██████▎   | 558/884 [00:25<00:56,  5.76it/s]A"
     ]
    },
    {
     "name": "stdout",
     "output_type": "stream",
     "text": [
      "{'ade': 0.46852946, 'fde': 1.0243797}\n",
      "\t last loss:0.000471559, eval on validation:['ade: 0.46852946', 'fde: 1.0243797'], (best ade:0.46725863 at step 12300) \n"
     ]
    },
    {
     "name": "stderr",
     "output_type": "stream",
     "text": [
      " 97%|█████████▋| 855/884 [00:37<00:01, 22.82it/s]"
     ]
    },
    {
     "name": "stdout",
     "output_type": "stream",
     "text": [
      "\tsaving model 15000...\n"
     ]
    },
    {
     "name": "stderr",
     "output_type": "stream",
     "text": [
      "\n",
      "  0%|          | 0/77 [00:00<?, ?it/s]\u001b[A\n",
      " 10%|#         | 8/77 [00:00<00:00, 78.30it/s]\u001b[A"
     ]
    },
    {
     "name": "stdout",
     "output_type": "stream",
     "text": [
      "\tdone\n",
      "Evaluating\n"
     ]
    },
    {
     "name": "stderr",
     "output_type": "stream",
     "text": [
      "\n",
      " 18%|#8        | 14/77 [00:00<00:00, 70.13it/s]\u001b[A\n",
      " 26%|##5       | 20/77 [00:00<00:00, 66.06it/s]\u001b[A\n",
      " 35%|###5      | 27/77 [00:00<00:00, 65.51it/s]\u001b[A\n",
      " 44%|####4     | 34/77 [00:00<00:00, 65.93it/s]\u001b[A\n",
      " 55%|#####4    | 42/77 [00:00<00:00, 68.78it/s]\u001b[A\n",
      " 65%|######4   | 50/77 [00:00<00:00, 71.13it/s]\u001b[A\n",
      " 74%|#######4  | 57/77 [00:00<00:00, 66.43it/s]\u001b[A\n",
      " 86%|########5 | 66/77 [00:00<00:00, 70.46it/s]\u001b[A\n",
      " 97%|#########7| 75/77 [00:01<00:00, 74.37it/s]\u001b[A\n",
      " 97%|█████████▋| 858/884 [00:39<00:04,  5.69it/s]A"
     ]
    },
    {
     "name": "stdout",
     "output_type": "stream",
     "text": [
      "{'ade': 0.47035125, 'fde': 1.03038}\n",
      "\t last loss:0.000509454, eval on validation:['ade: 0.47035125', 'fde: 1.03038'], (best ade:0.46725863 at step 12300) \n"
     ]
    },
    {
     "name": "stderr",
     "output_type": "stream",
     "text": [
      "100%|██████████| 884/884 [00:40<00:00, 21.96it/s]\n",
      "  0%|          | 1/884 [00:00<01:35,  9.25it/s]"
     ]
    },
    {
     "name": "stdout",
     "output_type": "stream",
     "text": [
      "('Epoca 18.', 'lr:', 0.0005449812)\n"
     ]
    },
    {
     "name": "stderr",
     "output_type": "stream",
     "text": [
      " 30%|███       | 269/884 [00:11<00:24, 24.76it/s]\n",
      "  0%|          | 0/77 [00:00<?, ?it/s]\u001b[A"
     ]
    },
    {
     "name": "stdout",
     "output_type": "stream",
     "text": [
      "\tsaving model 15300...\n",
      "\tdone\n",
      "Evaluating\n"
     ]
    },
    {
     "name": "stderr",
     "output_type": "stream",
     "text": [
      "\n",
      " 12%|#1        | 9/77 [00:00<00:00, 85.33it/s]\u001b[A\n",
      " 23%|##3       | 18/77 [00:00<00:00, 85.48it/s]\u001b[A\n",
      " 35%|###5      | 27/77 [00:00<00:00, 84.67it/s]\u001b[A\n",
      " 43%|####2     | 33/77 [00:00<00:00, 74.47it/s]\u001b[A\n",
      " 52%|#####1    | 40/77 [00:00<00:00, 69.17it/s]\u001b[A\n",
      " 61%|######1   | 47/77 [00:00<00:00, 68.60it/s]\u001b[A\n",
      " 71%|#######1  | 55/77 [00:00<00:00, 70.09it/s]\u001b[A\n",
      " 83%|########3 | 64/77 [00:00<00:00, 73.15it/s]\u001b[A\n",
      " 92%|#########2| 71/77 [00:00<00:00, 71.27it/s]\u001b[A\n",
      " 31%|███       | 275/884 [00:12<01:17,  7.81it/s]A"
     ]
    },
    {
     "name": "stdout",
     "output_type": "stream",
     "text": [
      "{'ade': 0.47123978, 'fde': 1.0267316}\n",
      "\t last loss:0.000285133, eval on validation:['ade: 0.47123978', 'fde: 1.0267316'], (best ade:0.46725863 at step 12300) \n"
     ]
    },
    {
     "name": "stderr",
     "output_type": "stream",
     "text": [
      " 64%|██████▍   | 569/884 [00:24<00:12, 25.04it/s]\n",
      "  0%|          | 0/77 [00:00<?, ?it/s]\u001b[A"
     ]
    },
    {
     "name": "stdout",
     "output_type": "stream",
     "text": [
      "\tsaving model 15600...\n",
      "\tdone\n",
      "Evaluating\n"
     ]
    },
    {
     "name": "stderr",
     "output_type": "stream",
     "text": [
      "\n",
      " 12%|#1        | 9/77 [00:00<00:00, 84.95it/s]\u001b[A\n",
      " 19%|#9        | 15/77 [00:00<00:00, 72.71it/s]\u001b[A\n",
      " 31%|###1      | 24/77 [00:00<00:00, 75.15it/s]\u001b[A\n",
      " 42%|####1     | 32/77 [00:00<00:00, 75.77it/s]\u001b[A\n",
      " 52%|#####1    | 40/77 [00:00<00:00, 76.38it/s]\u001b[A\n",
      " 64%|######3   | 49/77 [00:00<00:00, 77.99it/s]\u001b[A\n",
      " 75%|#######5  | 58/77 [00:00<00:00, 80.12it/s]\u001b[A\n",
      " 87%|########7 | 67/77 [00:00<00:00, 81.70it/s]\u001b[A\n",
      " 97%|#########7| 75/77 [00:01<00:00, 66.91it/s]\u001b[A\n",
      " 65%|██████▍   | 572/884 [00:25<00:53,  5.84it/s]A"
     ]
    },
    {
     "name": "stdout",
     "output_type": "stream",
     "text": [
      "{'ade': 0.47304717, 'fde': 1.0397456}\n",
      "\t last loss:0.000439178, eval on validation:['ade: 0.47304717', 'fde: 1.0397456'], (best ade:0.46725863 at step 12300) \n"
     ]
    },
    {
     "name": "stderr",
     "output_type": "stream",
     "text": [
      " 99%|█████████▊| 871/884 [00:38<00:00, 25.00it/s]\n",
      "  0%|          | 0/77 [00:00<?, ?it/s]\u001b[A"
     ]
    },
    {
     "name": "stdout",
     "output_type": "stream",
     "text": [
      "\tsaving model 15900...\n",
      "\tdone\n",
      "Evaluating\n"
     ]
    },
    {
     "name": "stderr",
     "output_type": "stream",
     "text": [
      "\n",
      " 12%|#1        | 9/77 [00:00<00:00, 88.21it/s]\u001b[A\n",
      " 21%|##        | 16/77 [00:00<00:00, 78.09it/s]\u001b[A\n",
      " 29%|##8       | 22/77 [00:00<00:00, 70.85it/s]\u001b[A\n",
      " 36%|###6      | 28/77 [00:00<00:00, 66.88it/s]\u001b[A\n",
      " 47%|####6     | 36/77 [00:00<00:00, 69.69it/s]\u001b[A\n",
      " 56%|#####5    | 43/77 [00:00<00:00, 68.89it/s]\u001b[A\n",
      " 68%|######7   | 52/77 [00:00<00:00, 72.97it/s]\u001b[A\n",
      " 79%|#######9  | 61/77 [00:00<00:00, 76.59it/s]\u001b[A\n",
      " 91%|######### | 70/77 [00:00<00:00, 79.15it/s]\u001b[A\n",
      " 99%|█████████▉| 874/884 [00:39<00:01,  6.09it/s]A"
     ]
    },
    {
     "name": "stdout",
     "output_type": "stream",
     "text": [
      "{'ade': 0.4684514, 'fde': 1.0282342}\n",
      "\t last loss:0.000400133, eval on validation:['ade: 0.4684514', 'fde: 1.0282342'], (best ade:0.46725863 at step 12300) \n"
     ]
    },
    {
     "name": "stderr",
     "output_type": "stream",
     "text": [
      "100%|██████████| 884/884 [00:40<00:00, 21.93it/s]\n",
      "  0%|          | 2/884 [00:00<00:45, 19.29it/s]"
     ]
    },
    {
     "name": "stdout",
     "output_type": "stream",
     "text": [
      "('Epoca 19.', 'lr:', 0.00046323403)\n"
     ]
    },
    {
     "name": "stderr",
     "output_type": "stream",
     "text": [
      " 32%|███▏      | 287/884 [00:11<00:24, 24.67it/s]"
     ]
    },
    {
     "name": "stdout",
     "output_type": "stream",
     "text": [
      "\tsaving model 16200...\n"
     ]
    },
    {
     "name": "stderr",
     "output_type": "stream",
     "text": [
      "\n",
      "  0%|          | 0/77 [00:00<?, ?it/s]\u001b[A\n",
      " 12%|#1        | 9/77 [00:00<00:00, 84.19it/s]\u001b[A\n",
      " 23%|##3       | 18/77 [00:00<00:00, 84.44it/s]\u001b[A\n",
      " 35%|###5      | 27/77 [00:00<00:00, 84.50it/s]\u001b[A\n",
      " 47%|####6     | 36/77 [00:00<00:00, 84.19it/s]\u001b[A\n",
      " 57%|#####7    | 44/77 [00:00<00:00, 81.79it/s]\u001b[A\n",
      " 66%|######6   | 51/77 [00:00<00:00, 73.69it/s]\u001b[A\n",
      " 75%|#######5  | 58/77 [00:00<00:00, 67.21it/s]\u001b[A\n",
      " 86%|########5 | 66/77 [00:00<00:00, 68.96it/s]\u001b[A\n",
      " 96%|#########6| 74/77 [00:00<00:00, 70.64it/s]\u001b[A\n",
      " 33%|███▎      | 290/884 [00:13<01:38,  6.06it/s]A"
     ]
    },
    {
     "name": "stdout",
     "output_type": "stream",
     "text": [
      "\tdone\n",
      "Evaluating\n",
      "{'ade': 0.4787013, 'fde': 1.0583644}\n",
      "\t last loss:0.000369946, eval on validation:['ade: 0.4787013', 'fde: 1.0583644'], (best ade:0.46725863 at step 12300) \n"
     ]
    },
    {
     "name": "stderr",
     "output_type": "stream",
     "text": [
      " 66%|██████▋   | 587/884 [00:25<00:12, 24.67it/s]\n",
      "  0%|          | 0/77 [00:00<?, ?it/s]\u001b[A"
     ]
    },
    {
     "name": "stdout",
     "output_type": "stream",
     "text": [
      "\tsaving model 16500...\n",
      "\tdone\n",
      "Evaluating\n"
     ]
    },
    {
     "name": "stderr",
     "output_type": "stream",
     "text": [
      "\n",
      " 12%|#1        | 9/77 [00:00<00:00, 83.22it/s]\u001b[A\n",
      " 19%|#9        | 15/77 [00:00<00:00, 70.94it/s]\u001b[A\n",
      " 29%|##8       | 22/77 [00:00<00:00, 67.94it/s]\u001b[A\n",
      " 36%|###6      | 28/77 [00:00<00:00, 65.01it/s]\u001b[A\n",
      " 48%|####8     | 37/77 [00:00<00:00, 69.63it/s]\u001b[A\n",
      " 60%|#####9    | 46/77 [00:00<00:00, 73.84it/s]\u001b[A\n",
      " 70%|#######   | 54/77 [00:00<00:00, 75.58it/s]\u001b[A\n",
      " 81%|########  | 62/77 [00:00<00:00, 74.79it/s]\u001b[A\n",
      " 92%|#########2| 71/77 [00:00<00:00, 77.49it/s]\u001b[A\n",
      "100%|##########| 77/77 [00:01<00:00, 73.83it/s]\u001b[A"
     ]
    },
    {
     "name": "stdout",
     "output_type": "stream",
     "text": [
      "{'ade': 0.4630198, 'fde': 1.0084163}\n",
      "\t last loss:0.000340784, eval on validation:['ade: 0.4630198', 'fde: 1.0084163'], (best ade:0.46725863 at step 12300) \n",
      "\t saving best model...\n"
     ]
    },
    {
     "name": "stderr",
     "output_type": "stream",
     "text": [
      "\r",
      " 67%|██████▋   | 590/884 [00:26<00:55,  5.30it/s]"
     ]
    },
    {
     "name": "stdout",
     "output_type": "stream",
     "text": [
      "\t done.\n"
     ]
    },
    {
     "name": "stderr",
     "output_type": "stream",
     "text": [
      "100%|██████████| 884/884 [00:39<00:00, 22.59it/s]\n",
      "  0%|          | 2/884 [00:00<00:53, 16.36it/s]"
     ]
    },
    {
     "name": "stdout",
     "output_type": "stream",
     "text": [
      "('Epoca 20.', 'lr:', 0.00046323403)\n",
      "\tsaving model 16800...\n"
     ]
    },
    {
     "name": "stderr",
     "output_type": "stream",
     "text": [
      "\n",
      "  0%|          | 0/77 [00:00<?, ?it/s]\u001b[A\n",
      " 12%|#1        | 9/77 [00:00<00:00, 86.89it/s]\u001b[A"
     ]
    },
    {
     "name": "stdout",
     "output_type": "stream",
     "text": [
      "\tdone\n",
      "Evaluating\n"
     ]
    },
    {
     "name": "stderr",
     "output_type": "stream",
     "text": [
      "\n",
      " 19%|#9        | 15/77 [00:00<00:00, 74.19it/s]\u001b[A\n",
      " 27%|##7       | 21/77 [00:00<00:00, 69.12it/s]\u001b[A\n",
      " 35%|###5      | 27/77 [00:00<00:00, 63.56it/s]\u001b[A\n",
      " 45%|####5     | 35/77 [00:00<00:00, 67.72it/s]\u001b[A\n",
      " 56%|#####5    | 43/77 [00:00<00:00, 69.07it/s]\u001b[A\n",
      " 68%|######7   | 52/77 [00:00<00:00, 73.33it/s]\u001b[A\n",
      " 79%|#######9  | 61/77 [00:00<00:00, 76.48it/s]\u001b[A\n",
      " 91%|######### | 70/77 [00:00<00:00, 78.93it/s]\u001b[A\n",
      "  1%|          | 7/884 [00:01<02:40,  5.46it/s]\u001b[A"
     ]
    },
    {
     "name": "stdout",
     "output_type": "stream",
     "text": [
      "{'ade': 0.4754991, 'fde': 1.0457686}\n",
      "\t last loss:0.000370707, eval on validation:['ade: 0.4754991', 'fde: 1.0457686'], (best ade:0.4630198 at step 16500) \n"
     ]
    },
    {
     "name": "stderr",
     "output_type": "stream",
     "text": [
      " 34%|███▍      | 301/884 [00:13<00:23, 24.53it/s]"
     ]
    },
    {
     "name": "stdout",
     "output_type": "stream",
     "text": [
      "\tsaving model 17100...\n"
     ]
    },
    {
     "name": "stderr",
     "output_type": "stream",
     "text": [
      "\n",
      "  0%|          | 0/77 [00:00<?, ?it/s]\u001b[A\n",
      " 12%|#1        | 9/77 [00:00<00:00, 85.92it/s]\u001b[A"
     ]
    },
    {
     "name": "stdout",
     "output_type": "stream",
     "text": [
      "\tdone\n",
      "Evaluating\n"
     ]
    },
    {
     "name": "stderr",
     "output_type": "stream",
     "text": [
      "\n",
      " 21%|##        | 16/77 [00:00<00:00, 76.12it/s]\u001b[A\n",
      " 32%|###2      | 25/77 [00:00<00:00, 78.39it/s]\u001b[A\n",
      " 44%|####4     | 34/77 [00:00<00:00, 80.16it/s]\u001b[A\n",
      " 55%|#####4    | 42/77 [00:00<00:00, 78.30it/s]\u001b[A\n",
      " 65%|######4   | 50/77 [00:00<00:00, 78.65it/s]\u001b[A\n",
      " 75%|#######5  | 58/77 [00:00<00:00, 78.91it/s]\u001b[A\n",
      " 87%|########7 | 67/77 [00:00<00:00, 78.74it/s]\u001b[A\n",
      " 99%|#########8| 76/77 [00:00<00:00, 79.92it/s]\u001b[A\n",
      " 35%|███▍      | 307/884 [00:15<01:12,  8.01it/s]A"
     ]
    },
    {
     "name": "stdout",
     "output_type": "stream",
     "text": [
      "{'ade': 0.47292003, 'fde': 1.0415014}\n",
      "\t last loss:0.000289954, eval on validation:['ade: 0.47292003', 'fde: 1.0415014'], (best ade:0.4630198 at step 16500) \n"
     ]
    },
    {
     "name": "stderr",
     "output_type": "stream",
     "text": [
      " 68%|██████▊   | 601/884 [00:27<00:11, 24.94it/s]\n",
      "  0%|          | 0/77 [00:00<?, ?it/s]\u001b[A"
     ]
    },
    {
     "name": "stdout",
     "output_type": "stream",
     "text": [
      "\tsaving model 17400...\n",
      "\tdone\n",
      "Evaluating\n"
     ]
    },
    {
     "name": "stderr",
     "output_type": "stream",
     "text": [
      "\n",
      " 12%|#1        | 9/77 [00:00<00:00, 82.24it/s]\u001b[A\n",
      " 22%|##2       | 17/77 [00:00<00:00, 80.47it/s]\u001b[A\n",
      " 34%|###3      | 26/77 [00:00<00:00, 81.73it/s]\u001b[A\n",
      " 45%|####5     | 35/77 [00:00<00:00, 83.05it/s]\u001b[A\n",
      " 57%|#####7    | 44/77 [00:00<00:00, 83.40it/s]\u001b[A\n",
      " 69%|######8   | 53/77 [00:00<00:00, 83.85it/s]\u001b[A\n",
      " 81%|########  | 62/77 [00:00<00:00, 82.30it/s]\u001b[A\n",
      " 91%|######### | 70/77 [00:00<00:00, 74.20it/s]\u001b[A\n",
      " 69%|██████▊   | 606/884 [00:28<00:37,  7.44it/s]A"
     ]
    },
    {
     "name": "stdout",
     "output_type": "stream",
     "text": [
      "{'ade': 0.4694456, 'fde': 1.0314543}\n",
      "\t last loss:0.000439688, eval on validation:['ade: 0.4694456', 'fde: 1.0314543'], (best ade:0.4630198 at step 16500) \n"
     ]
    },
    {
     "name": "stderr",
     "output_type": "stream",
     "text": [
      "100%|██████████| 884/884 [00:40<00:00, 21.98it/s]\n",
      "  0%|          | 2/884 [00:00<00:45, 19.39it/s]"
     ]
    },
    {
     "name": "stdout",
     "output_type": "stream",
     "text": [
      "('Epoca 21.', 'lr:', 0.00039374892)\n"
     ]
    },
    {
     "name": "stderr",
     "output_type": "stream",
     "text": [
      "  2%|▏         | 18/884 [00:00<00:40, 21.22it/s]\n",
      "  0%|          | 0/77 [00:00<?, ?it/s]\u001b[A"
     ]
    },
    {
     "name": "stdout",
     "output_type": "stream",
     "text": [
      "\tsaving model 17700...\n",
      "\tdone\n",
      "Evaluating\n"
     ]
    },
    {
     "name": "stderr",
     "output_type": "stream",
     "text": [
      "\n",
      " 10%|#         | 8/77 [00:00<00:00, 79.92it/s]\u001b[A\n",
      " 19%|#9        | 15/77 [00:00<00:00, 74.90it/s]\u001b[A\n",
      " 27%|##7       | 21/77 [00:00<00:00, 68.69it/s]\u001b[A\n",
      " 35%|###5      | 27/77 [00:00<00:00, 63.09it/s]\u001b[A\n",
      " 45%|####5     | 35/77 [00:00<00:00, 66.34it/s]\u001b[A\n",
      " 55%|#####4    | 42/77 [00:00<00:00, 66.23it/s]\u001b[A\n",
      " 66%|######6   | 51/77 [00:00<00:00, 70.79it/s]\u001b[A\n",
      " 78%|#######7  | 60/77 [00:00<00:00, 74.23it/s]\u001b[A\n",
      " 90%|########9 | 69/77 [00:00<00:00, 77.37it/s]\u001b[A\n",
      "  3%|▎         | 23/884 [00:02<02:31,  5.69it/s][A"
     ]
    },
    {
     "name": "stdout",
     "output_type": "stream",
     "text": [
      "{'ade': 0.4735729, 'fde': 1.0352151}\n",
      "\t last loss:0.000343522, eval on validation:['ade: 0.4735729', 'fde: 1.0352151'], (best ade:0.4630198 at step 16500) \n"
     ]
    },
    {
     "name": "stderr",
     "output_type": "stream",
     "text": [
      " 36%|███▌      | 317/884 [00:14<00:22, 25.21it/s]"
     ]
    },
    {
     "name": "stdout",
     "output_type": "stream",
     "text": [
      "\tsaving model 18000...\n"
     ]
    },
    {
     "name": "stderr",
     "output_type": "stream",
     "text": [
      "\n",
      "  0%|          | 0/77 [00:00<?, ?it/s]\u001b[A\n",
      " 12%|#1        | 9/77 [00:00<00:00, 85.63it/s]\u001b[A\n",
      " 23%|##3       | 18/77 [00:00<00:00, 85.34it/s]\u001b[A\n",
      " 34%|###3      | 26/77 [00:00<00:00, 81.28it/s]\u001b[A\n",
      " 44%|####4     | 34/77 [00:00<00:00, 79.03it/s]\u001b[A\n",
      " 56%|#####5    | 43/77 [00:00<00:00, 80.70it/s]\u001b[A\n",
      " 68%|######7   | 52/77 [00:00<00:00, 82.19it/s]\u001b[A\n",
      " 79%|#######9  | 61/77 [00:00<00:00, 81.58it/s]\u001b[A\n",
      " 91%|######### | 70/77 [00:00<00:00, 82.29it/s]\u001b[A\n",
      " 37%|███▋      | 323/884 [00:15<01:09,  8.03it/s]A"
     ]
    },
    {
     "name": "stdout",
     "output_type": "stream",
     "text": [
      "\tdone\n",
      "Evaluating\n",
      "{'ade': 0.47528264, 'fde': 1.0508182}\n",
      "\t last loss:0.000383087, eval on validation:['ade: 0.47528264', 'fde: 1.0508182'], (best ade:0.4630198 at step 16500) \n"
     ]
    },
    {
     "name": "stderr",
     "output_type": "stream",
     "text": [
      " 70%|███████   | 619/884 [00:28<00:11, 23.62it/s]"
     ]
    },
    {
     "name": "stdout",
     "output_type": "stream",
     "text": [
      "\tsaving model 18300...\n"
     ]
    },
    {
     "name": "stderr",
     "output_type": "stream",
     "text": [
      "\n",
      "  0%|          | 0/77 [00:00<?, ?it/s]\u001b[A\n",
      " 10%|#         | 8/77 [00:00<00:00, 74.95it/s]\u001b[A\n",
      " 21%|##        | 16/77 [00:00<00:00, 75.72it/s]\u001b[A\n",
      " 30%|##9       | 23/77 [00:00<00:00, 70.81it/s]\u001b[A\n",
      " 39%|###8      | 30/77 [00:00<00:00, 68.50it/s]\u001b[A\n",
      " 47%|####6     | 36/77 [00:00<00:00, 64.54it/s]\u001b[A\n",
      " 57%|#####7    | 44/77 [00:00<00:00, 67.47it/s]\u001b[A\n",
      " 68%|######7   | 52/77 [00:00<00:00, 70.65it/s]\u001b[A\n",
      " 78%|#######7  | 60/77 [00:00<00:00, 72.79it/s]\u001b[A\n",
      " 90%|########9 | 69/77 [00:00<00:00, 75.21it/s]\u001b[A\n",
      " 70%|███████   | 622/884 [00:29<00:45,  5.81it/s]A"
     ]
    },
    {
     "name": "stdout",
     "output_type": "stream",
     "text": [
      "\tdone\n",
      "Evaluating\n",
      "{'ade': 0.47518164, 'fde': 1.0395974}\n",
      "\t last loss:0.000431119, eval on validation:['ade: 0.47518164', 'fde: 1.0395974'], (best ade:0.4630198 at step 16500) \n"
     ]
    },
    {
     "name": "stderr",
     "output_type": "stream",
     "text": [
      "100%|██████████| 884/884 [00:40<00:00, 21.88it/s]\n",
      "  0%|          | 1/884 [00:00<01:56,  7.59it/s]"
     ]
    },
    {
     "name": "stdout",
     "output_type": "stream",
     "text": [
      "('Epoca 22.', 'lr:', 0.00039374892)\n"
     ]
    },
    {
     "name": "stderr",
     "output_type": "stream",
     "text": [
      "  4%|▍         | 34/884 [00:01<00:35, 23.95it/s]\n",
      "  0%|          | 0/77 [00:00<?, ?it/s]"
     ]
    },
    {
     "name": "stdout",
     "output_type": "stream",
     "text": [
      "\tsaving model 18600...\n",
      "\tdone\n",
      "Evaluating\n"
     ]
    },
    {
     "name": "stderr",
     "output_type": "stream",
     "text": [
      "\u001b[A\n",
      " 12%|#1        | 9/77 [00:00<00:00, 87.89it/s]\u001b[A\n",
      " 22%|##2       | 17/77 [00:00<00:00, 84.19it/s]\u001b[A\n",
      " 31%|###1      | 24/77 [00:00<00:00, 77.65it/s]\u001b[A\n",
      " 39%|###8      | 30/77 [00:00<00:00, 71.04it/s]\u001b[A\n",
      " 48%|####8     | 37/77 [00:00<00:00, 68.06it/s]\u001b[A\n",
      " 56%|#####5    | 43/77 [00:00<00:00, 64.34it/s]\u001b[A\n",
      " 65%|######4   | 50/77 [00:00<00:00, 65.20it/s]\u001b[A\n",
      " 77%|#######6  | 59/77 [00:00<00:00, 70.09it/s]\u001b[A\n",
      " 88%|########8 | 68/77 [00:00<00:00, 73.77it/s]\u001b[A\n",
      " 99%|#########8| 76/77 [00:01<00:00, 75.45it/s]\u001b[A\n",
      "100%|##########| 77/77 [00:01<00:00, 72.06it/s]\u001b[A"
     ]
    },
    {
     "name": "stdout",
     "output_type": "stream",
     "text": [
      "{'ade': 0.46027613, 'fde': 1.0051395}\n",
      "\t last loss:0.000330434, eval on validation:['ade: 0.46027613', 'fde: 1.0051395'], (best ade:0.4630198 at step 16500) \n",
      "\t saving best model...\n"
     ]
    },
    {
     "name": "stderr",
     "output_type": "stream",
     "text": [
      "\r",
      "  4%|▍         | 37/884 [00:03<02:41,  5.25it/s]"
     ]
    },
    {
     "name": "stdout",
     "output_type": "stream",
     "text": [
      "\t done.\n"
     ]
    },
    {
     "name": "stderr",
     "output_type": "stream",
     "text": [
      " 38%|███▊      | 334/884 [00:15<00:22, 24.91it/s]\n",
      "  0%|          | 0/77 [00:00<?, ?it/s]\u001b[A"
     ]
    },
    {
     "name": "stdout",
     "output_type": "stream",
     "text": [
      "\tsaving model 18900...\n",
      "\tdone\n",
      "Evaluating\n"
     ]
    },
    {
     "name": "stderr",
     "output_type": "stream",
     "text": [
      "\n",
      " 12%|#1        | 9/77 [00:00<00:00, 86.68it/s]\u001b[A\n",
      " 21%|##        | 16/77 [00:00<00:00, 78.61it/s]\u001b[A\n",
      " 30%|##9       | 23/77 [00:00<00:00, 72.68it/s]\u001b[A\n",
      " 38%|###7      | 29/77 [00:00<00:00, 66.37it/s]\u001b[A\n",
      " 49%|####9     | 38/77 [00:00<00:00, 70.23it/s]\u001b[A\n",
      " 57%|#####7    | 44/77 [00:00<00:00, 64.93it/s]\u001b[A\n",
      " 68%|######7   | 52/77 [00:00<00:00, 67.47it/s]\u001b[A\n",
      " 78%|#######7  | 60/77 [00:00<00:00, 70.40it/s]\u001b[A\n",
      " 88%|########8 | 68/77 [00:00<00:00, 72.72it/s]\u001b[A\n",
      " 38%|███▊      | 340/884 [00:16<01:10,  7.72it/s]A"
     ]
    },
    {
     "name": "stdout",
     "output_type": "stream",
     "text": [
      "{'ade': 0.46313667, 'fde': 1.0059277}\n",
      "\t last loss:0.000468010, eval on validation:['ade: 0.46313667', 'fde: 1.0059277'], (best ade:0.46027613 at step 18600) \n"
     ]
    },
    {
     "name": "stderr",
     "output_type": "stream",
     "text": [
      " 72%|███████▏  | 634/884 [00:29<00:10, 23.03it/s]"
     ]
    },
    {
     "name": "stdout",
     "output_type": "stream",
     "text": [
      "\tsaving model 19200...\n"
     ]
    },
    {
     "name": "stderr",
     "output_type": "stream",
     "text": [
      "\n",
      "  0%|          | 0/77 [00:00<?, ?it/s]\u001b[A\n",
      "  9%|9         | 7/77 [00:00<00:01, 68.56it/s]\u001b[A\n",
      " 18%|#8        | 14/77 [00:00<00:00, 67.45it/s]\u001b[A\n",
      " 30%|##9       | 23/77 [00:00<00:00, 71.00it/s]\u001b[A\n",
      " 42%|####1     | 32/77 [00:00<00:00, 74.64it/s]\u001b[A\n",
      " 49%|####9     | 38/77 [00:00<00:00, 64.52it/s]\u001b[A\n",
      " 57%|#####7    | 44/77 [00:00<00:00, 60.06it/s]\u001b[A\n",
      " 65%|######4   | 50/77 [00:00<00:00, 57.79it/s]\u001b[A\n",
      " 75%|#######5  | 58/77 [00:00<00:00, 62.27it/s]\u001b[A\n",
      " 84%|########4 | 65/77 [00:00<00:00, 62.10it/s]\u001b[A\n",
      " 95%|#########4| 73/77 [00:01<00:00, 66.28it/s]\u001b[A\n",
      " 72%|███████▏  | 639/884 [00:30<00:35,  6.96it/s]A"
     ]
    },
    {
     "name": "stdout",
     "output_type": "stream",
     "text": [
      "\tdone\n",
      "Evaluating\n",
      "{'ade': 0.46934327, 'fde': 1.0341505}\n",
      "\t last loss:0.000374410, eval on validation:['ade: 0.46934327', 'fde: 1.0341505'], (best ade:0.46027613 at step 18600) \n"
     ]
    },
    {
     "name": "stderr",
     "output_type": "stream",
     "text": [
      "100%|██████████| 884/884 [00:44<00:00, 20.08it/s]\n",
      "  0%|          | 1/884 [00:00<01:39,  8.87it/s]"
     ]
    },
    {
     "name": "stdout",
     "output_type": "stream",
     "text": [
      "('Epoca 23.', 'lr:', 0.0003346866)\n"
     ]
    },
    {
     "name": "stderr",
     "output_type": "stream",
     "text": [
      "  6%|▌         | 50/884 [00:02<00:42, 19.83it/s]"
     ]
    },
    {
     "name": "stdout",
     "output_type": "stream",
     "text": [
      "\tsaving model 19500...\n"
     ]
    },
    {
     "name": "stderr",
     "output_type": "stream",
     "text": [
      "\n",
      "  0%|          | 0/77 [00:00<?, ?it/s]\u001b[A\n",
      "  9%|9         | 7/77 [00:00<00:01, 65.32it/s]\u001b[A"
     ]
    },
    {
     "name": "stdout",
     "output_type": "stream",
     "text": [
      "\tdone\n",
      "Evaluating\n"
     ]
    },
    {
     "name": "stderr",
     "output_type": "stream",
     "text": [
      "\n",
      " 16%|#5        | 12/77 [00:00<00:01, 56.30it/s]\u001b[A\n",
      " 19%|#9        | 15/77 [00:00<00:01, 44.29it/s]\u001b[A\n",
      " 26%|##5       | 20/77 [00:00<00:01, 44.84it/s]\u001b[A\n",
      " 31%|###1      | 24/77 [00:00<00:01, 42.88it/s]\u001b[A\n",
      " 38%|###7      | 29/77 [00:00<00:01, 43.05it/s]\u001b[A\n",
      " 45%|####5     | 35/77 [00:00<00:00, 44.32it/s]\u001b[A\n",
      " 55%|#####4    | 42/77 [00:00<00:00, 49.10it/s]\u001b[A\n",
      " 61%|######1   | 47/77 [00:00<00:00, 48.88it/s]\u001b[A\n",
      " 69%|######8   | 53/77 [00:01<00:00, 51.59it/s]\u001b[A\n",
      " 78%|#######7  | 60/77 [00:01<00:00, 55.96it/s]\u001b[A\n",
      " 87%|########7 | 67/77 [00:01<00:00, 59.23it/s]\u001b[A\n",
      " 96%|#########6| 74/77 [00:01<00:00, 61.69it/s]\u001b[A\n",
      "  6%|▌         | 53/884 [00:04<03:09,  4.38it/s][A"
     ]
    },
    {
     "name": "stdout",
     "output_type": "stream",
     "text": [
      "{'ade': 0.47272134, 'fde': 1.035356}\n",
      "\t last loss:0.000325393, eval on validation:['ade: 0.47272134', 'fde: 1.035356'], (best ade:0.46027613 at step 18600) \n"
     ]
    },
    {
     "name": "stderr",
     "output_type": "stream",
     "text": [
      " 39%|███▉      | 349/884 [00:16<00:22, 24.29it/s]"
     ]
    },
    {
     "name": "stdout",
     "output_type": "stream",
     "text": [
      "\tsaving model 19800...\n"
     ]
    },
    {
     "name": "stderr",
     "output_type": "stream",
     "text": [
      "\n",
      "  0%|          | 0/77 [00:00<?, ?it/s]\u001b[A\n",
      " 10%|#         | 8/77 [00:00<00:00, 78.87it/s]\u001b[A"
     ]
    },
    {
     "name": "stdout",
     "output_type": "stream",
     "text": [
      "\tdone\n",
      "Evaluating\n"
     ]
    },
    {
     "name": "stderr",
     "output_type": "stream",
     "text": [
      "\n",
      " 21%|##        | 16/77 [00:00<00:00, 78.82it/s]\u001b[A\n",
      " 32%|###2      | 25/77 [00:00<00:00, 79.92it/s]\u001b[A\n",
      " 43%|####2     | 33/77 [00:00<00:00, 79.02it/s]\u001b[A\n",
      " 55%|#####4    | 42/77 [00:00<00:00, 80.30it/s]\u001b[A\n",
      " 65%|######4   | 50/77 [00:00<00:00, 79.28it/s]\u001b[A\n",
      " 75%|#######5  | 58/77 [00:00<00:00, 77.29it/s]\u001b[A\n",
      " 86%|########5 | 66/77 [00:00<00:00, 71.26it/s]\u001b[A\n",
      " 95%|#########4| 73/77 [00:01<00:00, 63.22it/s]\u001b[A\n",
      " 40%|████      | 355/884 [00:18<01:09,  7.59it/s]A"
     ]
    },
    {
     "name": "stdout",
     "output_type": "stream",
     "text": [
      "{'ade': 0.46575534, 'fde': 1.0189962}\n",
      "\t last loss:0.000441955, eval on validation:['ade: 0.46575534', 'fde: 1.0189962'], (best ade:0.46027613 at step 18600) \n"
     ]
    },
    {
     "name": "stderr",
     "output_type": "stream",
     "text": [
      " 74%|███████▎  | 651/884 [00:31<00:09, 24.67it/s]"
     ]
    },
    {
     "name": "stdout",
     "output_type": "stream",
     "text": [
      "\tsaving model 20100...\n"
     ]
    },
    {
     "name": "stderr",
     "output_type": "stream",
     "text": [
      "\n",
      "  0%|          | 0/77 [00:00<?, ?it/s]\u001b[A\n",
      " 12%|#1        | 9/77 [00:00<00:00, 84.73it/s]\u001b[A"
     ]
    },
    {
     "name": "stdout",
     "output_type": "stream",
     "text": [
      "\tdone\n",
      "Evaluating\n"
     ]
    },
    {
     "name": "stderr",
     "output_type": "stream",
     "text": [
      "\n",
      " 22%|##2       | 17/77 [00:00<00:00, 82.10it/s]\u001b[A\n",
      " 32%|###2      | 25/77 [00:00<00:00, 79.54it/s]\u001b[A\n",
      " 42%|####1     | 32/77 [00:00<00:00, 74.66it/s]\u001b[A\n",
      " 52%|#####1    | 40/77 [00:00<00:00, 75.69it/s]\u001b[A\n",
      " 64%|######3   | 49/77 [00:00<00:00, 77.37it/s]\u001b[A\n",
      " 74%|#######4  | 57/77 [00:00<00:00, 77.49it/s]\u001b[A\n",
      " 84%|########4 | 65/77 [00:00<00:00, 74.24it/s]\u001b[A\n",
      " 95%|#########4| 73/77 [00:00<00:00, 74.22it/s]\u001b[A\n",
      "100%|##########| 77/77 [00:01<00:00, 75.33it/s]\u001b[A"
     ]
    },
    {
     "name": "stdout",
     "output_type": "stream",
     "text": [
      "{'ade': 0.45599473, 'fde': 0.9929628}\n",
      "\t last loss:0.000483562, eval on validation:['ade: 0.45599473', 'fde: 0.9929628'], (best ade:0.46027613 at step 18600) \n",
      "\t saving best model...\n"
     ]
    },
    {
     "name": "stderr",
     "output_type": "stream",
     "text": [
      "100%|██████████| 884/884 [00:42<00:00, 20.82it/s]\n",
      "  0%|          | 1/884 [00:00<01:47,  8.25it/s]"
     ]
    },
    {
     "name": "stdout",
     "output_type": "stream",
     "text": [
      "\t done.\n",
      "('Epoca 24.', 'lr:', 0.0003346866)\n"
     ]
    },
    {
     "name": "stderr",
     "output_type": "stream",
     "text": [
      "  8%|▊         | 67/884 [00:02<00:33, 24.44it/s]\n",
      "  0%|          | 0/77 [00:00<?, ?it/s]\u001b[A"
     ]
    },
    {
     "name": "stdout",
     "output_type": "stream",
     "text": [
      "\tsaving model 20400...\n",
      "\tdone\n",
      "Evaluating\n"
     ]
    },
    {
     "name": "stderr",
     "output_type": "stream",
     "text": [
      "\n",
      " 12%|#1        | 9/77 [00:00<00:00, 82.91it/s]\u001b[A\n",
      " 23%|##3       | 18/77 [00:00<00:00, 83.01it/s]\u001b[A\n",
      " 35%|###5      | 27/77 [00:00<00:00, 83.05it/s]\u001b[A\n",
      " 47%|####6     | 36/77 [00:00<00:00, 82.87it/s]\u001b[A\n",
      " 56%|#####5    | 43/77 [00:00<00:00, 75.44it/s]\u001b[A\n",
      " 65%|######4   | 50/77 [00:00<00:00, 68.90it/s]\u001b[A\n",
      " 74%|#######4  | 57/77 [00:00<00:00, 66.74it/s]\u001b[A\n",
      " 84%|########4 | 65/77 [00:00<00:00, 67.73it/s]\u001b[A\n",
      " 95%|#########4| 73/77 [00:00<00:00, 70.77it/s]\u001b[A\n",
      "  8%|▊         | 70/884 [00:04<02:15,  5.99it/s][A"
     ]
    },
    {
     "name": "stdout",
     "output_type": "stream",
     "text": [
      "{'ade': 0.4713605, 'fde': 1.0351232}\n",
      "\t last loss:0.000249364, eval on validation:['ade: 0.4713605', 'fde: 1.0351232'], (best ade:0.45599473 at step 20100) \n"
     ]
    },
    {
     "name": "stderr",
     "output_type": "stream",
     "text": [
      " 42%|████▏     | 367/884 [00:16<00:21, 24.57it/s]\n",
      "  0%|          | 0/77 [00:00<?, ?it/s]"
     ]
    },
    {
     "name": "stdout",
     "output_type": "stream",
     "text": [
      "\tsaving model 20700...\n",
      "\tdone\n",
      "Evaluating\n"
     ]
    },
    {
     "name": "stderr",
     "output_type": "stream",
     "text": [
      "\u001b[A\n",
      " 12%|#1        | 9/77 [00:00<00:00, 81.63it/s]\u001b[A\n",
      " 19%|#9        | 15/77 [00:00<00:00, 70.81it/s]\u001b[A\n",
      " 27%|##7       | 21/77 [00:00<00:00, 65.59it/s]\u001b[A\n",
      " 36%|###6      | 28/77 [00:00<00:00, 66.47it/s]\u001b[A\n",
      " 45%|####5     | 35/77 [00:00<00:00, 66.71it/s]\u001b[A\n",
      " 56%|#####5    | 43/77 [00:00<00:00, 70.14it/s]\u001b[A\n",
      " 68%|######7   | 52/77 [00:00<00:00, 73.41it/s]\u001b[A\n",
      " 78%|#######7  | 60/77 [00:00<00:00, 74.76it/s]\u001b[A\n",
      " 88%|########8 | 68/77 [00:00<00:00, 75.54it/s]\u001b[A\n",
      " 99%|#########8| 76/77 [00:01<00:00, 76.32it/s]\u001b[A\n",
      " 42%|████▏     | 370/884 [00:17<01:27,  5.89it/s]A"
     ]
    },
    {
     "name": "stdout",
     "output_type": "stream",
     "text": [
      "{'ade': 0.47760013, 'fde': 1.0494088}\n",
      "\t last loss:0.000458067, eval on validation:['ade: 0.47760013', 'fde: 1.0494088'], (best ade:0.45599473 at step 20100) \n"
     ]
    },
    {
     "name": "stderr",
     "output_type": "stream",
     "text": [
      " 75%|███████▌  | 667/884 [00:30<00:08, 24.62it/s]"
     ]
    },
    {
     "name": "stdout",
     "output_type": "stream",
     "text": [
      "\tsaving model 21000...\n"
     ]
    },
    {
     "name": "stderr",
     "output_type": "stream",
     "text": [
      "\n",
      "  0%|          | 0/77 [00:00<?, ?it/s]\u001b[A\n",
      " 12%|#1        | 9/77 [00:00<00:00, 84.81it/s]\u001b[A\n",
      " 23%|##3       | 18/77 [00:00<00:00, 84.06it/s]\u001b[A\n",
      " 35%|###5      | 27/77 [00:00<00:00, 82.66it/s]\u001b[A\n",
      " 43%|####2     | 33/77 [00:00<00:00, 74.17it/s]\u001b[A\n",
      " 55%|#####4    | 42/77 [00:00<00:00, 76.45it/s]\u001b[A\n",
      " 66%|######6   | 51/77 [00:00<00:00, 78.53it/s]\u001b[A\n",
      " 78%|#######7  | 60/77 [00:00<00:00, 79.55it/s]\u001b[A\n",
      " 88%|########8 | 68/77 [00:00<00:00, 77.92it/s]\u001b[A\n",
      " 76%|███████▌  | 670/884 [00:31<00:34,  6.21it/s]A"
     ]
    },
    {
     "name": "stdout",
     "output_type": "stream",
     "text": [
      "\tdone\n",
      "Evaluating\n",
      "{'ade': 0.4674451, 'fde': 1.0285262}\n",
      "\t last loss:0.000680143, eval on validation:['ade: 0.4674451', 'fde: 1.0285262'], (best ade:0.45599473 at step 20100) \n"
     ]
    },
    {
     "name": "stderr",
     "output_type": "stream",
     "text": [
      "100%|██████████| 884/884 [00:40<00:00, 21.61it/s]\n",
      "  0%|          | 1/884 [00:00<01:53,  7.79it/s]"
     ]
    },
    {
     "name": "stdout",
     "output_type": "stream",
     "text": [
      "('Epoca 25.', 'lr:', 0.00028448363)\n"
     ]
    },
    {
     "name": "stderr",
     "output_type": "stream",
     "text": [
      "  9%|▉         | 82/884 [00:03<00:30, 26.23it/s]\n",
      "  0%|          | 0/77 [00:00<?, ?it/s]\u001b[A"
     ]
    },
    {
     "name": "stdout",
     "output_type": "stream",
     "text": [
      "\tsaving model 21300...\n",
      "\tdone\n",
      "Evaluating\n"
     ]
    },
    {
     "name": "stderr",
     "output_type": "stream",
     "text": [
      "\n",
      " 12%|#1        | 9/77 [00:00<00:00, 87.86it/s]\u001b[A\n",
      " 21%|##        | 16/77 [00:00<00:00, 78.81it/s]\u001b[A\n",
      " 30%|##9       | 23/77 [00:00<00:00, 74.47it/s]\u001b[A\n",
      " 38%|###7      | 29/77 [00:00<00:00, 67.41it/s]\u001b[A\n",
      " 49%|####9     | 38/77 [00:00<00:00, 72.79it/s]\u001b[A\n",
      " 60%|#####9    | 46/77 [00:00<00:00, 74.78it/s]\u001b[A\n",
      " 71%|#######1  | 55/77 [00:00<00:00, 77.94it/s]\u001b[A\n",
      " 83%|########3 | 64/77 [00:00<00:00, 80.83it/s]\u001b[A\n",
      " 95%|#########4| 73/77 [00:00<00:00, 82.29it/s]\u001b[A\n",
      " 10%|▉         | 88/884 [00:04<01:36,  8.24it/s][A"
     ]
    },
    {
     "name": "stdout",
     "output_type": "stream",
     "text": [
      "{'ade': 0.45726958, 'fde': 0.9994317}\n",
      "\t last loss:0.000175009, eval on validation:['ade: 0.45726958', 'fde: 0.9994317'], (best ade:0.45599473 at step 20100) \n"
     ]
    },
    {
     "name": "stderr",
     "output_type": "stream",
     "text": [
      " 43%|████▎     | 382/884 [00:16<00:19, 25.96it/s]\n",
      "  0%|          | 0/77 [00:00<?, ?it/s]\u001b[A"
     ]
    },
    {
     "name": "stdout",
     "output_type": "stream",
     "text": [
      "\tsaving model 21600...\n",
      "\tdone\n",
      "Evaluating\n"
     ]
    },
    {
     "name": "stderr",
     "output_type": "stream",
     "text": [
      "\n",
      " 13%|#2        | 10/77 [00:00<00:00, 92.37it/s]\u001b[A\n",
      " 26%|##5       | 20/77 [00:00<00:00, 92.04it/s]\u001b[A\n",
      " 39%|###8      | 30/77 [00:00<00:00, 91.90it/s]\u001b[A\n",
      " 51%|#####     | 39/77 [00:00<00:00, 90.59it/s]\u001b[A\n",
      " 62%|######2   | 48/77 [00:00<00:00, 87.88it/s]\u001b[A\n",
      " 75%|#######5  | 58/77 [00:00<00:00, 89.13it/s]\u001b[A\n",
      " 87%|########7 | 67/77 [00:00<00:00, 89.19it/s]\u001b[A\n",
      " 44%|████▍     | 388/884 [00:17<00:55,  8.87it/s]A"
     ]
    },
    {
     "name": "stdout",
     "output_type": "stream",
     "text": [
      "{'ade': 0.4830871, 'fde': 1.073313}\n",
      "\t last loss:0.000455449, eval on validation:['ade: 0.4830871', 'fde: 1.073313'], (best ade:0.45599473 at step 20100) \n"
     ]
    },
    {
     "name": "stderr",
     "output_type": "stream",
     "text": [
      " 77%|███████▋  | 682/884 [00:29<00:08, 24.82it/s]\n"
     ]
    },
    {
     "name": "stdout",
     "output_type": "stream",
     "text": [
      "\tsaving model 21900...\n",
      "\tdone\n",
      "Evaluating\n"
     ]
    },
    {
     "name": "stderr",
     "output_type": "stream",
     "text": [
      "  0%|          | 0/77 [00:00<?, ?it/s]\u001b[A\n",
      " 12%|#1        | 9/77 [00:00<00:00, 83.17it/s]\u001b[A\n",
      " 22%|##2       | 17/77 [00:00<00:00, 82.03it/s]\u001b[A\n",
      " 32%|###2      | 25/77 [00:00<00:00, 81.32it/s]\u001b[A\n",
      " 42%|####1     | 32/77 [00:00<00:00, 75.45it/s]\u001b[A\n",
      " 51%|#####     | 39/77 [00:00<00:00, 72.30it/s]\u001b[A\n",
      " 62%|######2   | 48/77 [00:00<00:00, 75.25it/s]\u001b[A\n",
      " 74%|#######4  | 57/77 [00:00<00:00, 78.03it/s]\u001b[A\n",
      " 84%|########4 | 65/77 [00:00<00:00, 76.46it/s]\u001b[A\n",
      " 96%|#########6| 74/77 [00:00<00:00, 78.45it/s]\u001b[A\n",
      " 77%|███████▋  | 685/884 [00:30<00:32,  6.16it/s]A"
     ]
    },
    {
     "name": "stdout",
     "output_type": "stream",
     "text": [
      "{'ade': 0.46691316, 'fde': 1.0119542}\n",
      "\t last loss:0.000244799, eval on validation:['ade: 0.46691316', 'fde: 1.0119542'], (best ade:0.45599473 at step 20100) \n"
     ]
    },
    {
     "name": "stderr",
     "output_type": "stream",
     "text": [
      "100%|██████████| 884/884 [00:38<00:00, 22.97it/s]\n",
      "  0%|          | 1/884 [00:00<01:29,  9.89it/s]"
     ]
    },
    {
     "name": "stdout",
     "output_type": "stream",
     "text": [
      "('Epoca 26.', 'lr:', 0.00028448363)\n"
     ]
    },
    {
     "name": "stderr",
     "output_type": "stream",
     "text": [
      " 11%|█         | 97/884 [00:03<00:29, 26.30it/s]\n",
      "  0%|          | 0/77 [00:00<?, ?it/s]\u001b[A"
     ]
    },
    {
     "name": "stdout",
     "output_type": "stream",
     "text": [
      "\tsaving model 22200...\n",
      "\tdone\n",
      "Evaluating\n"
     ]
    },
    {
     "name": "stderr",
     "output_type": "stream",
     "text": [
      "\n",
      " 12%|#1        | 9/77 [00:00<00:00, 87.37it/s]\u001b[A\n",
      " 23%|##3       | 18/77 [00:00<00:00, 86.66it/s]\u001b[A\n",
      " 35%|###5      | 27/77 [00:00<00:00, 87.21it/s]\u001b[A\n",
      " 44%|####4     | 34/77 [00:00<00:00, 77.73it/s]\u001b[A\n",
      " 53%|#####3    | 41/77 [00:00<00:00, 74.15it/s]\u001b[A\n",
      " 62%|######2   | 48/77 [00:00<00:00, 72.29it/s]\u001b[A\n",
      " 75%|#######5  | 58/77 [00:00<00:00, 77.08it/s]\u001b[A\n",
      " 87%|########7 | 67/77 [00:00<00:00, 77.78it/s]\u001b[A\n",
      " 99%|#########8| 76/77 [00:00<00:00, 80.99it/s]\u001b[A\n",
      " 12%|█▏        | 103/884 [00:05<01:34,  8.24it/s]A"
     ]
    },
    {
     "name": "stdout",
     "output_type": "stream",
     "text": [
      "{'ade': 0.45932657, 'fde': 1.0077399}\n",
      "\t last loss:0.000387506, eval on validation:['ade: 0.45932657', 'fde: 1.0077399'], (best ade:0.45599473 at step 20100) \n"
     ]
    },
    {
     "name": "stderr",
     "output_type": "stream",
     "text": [
      " 45%|████▍     | 397/884 [00:17<00:19, 25.14it/s]\n",
      "  0%|          | 0/77 [00:00<?, ?it/s]\u001b[A"
     ]
    },
    {
     "name": "stdout",
     "output_type": "stream",
     "text": [
      "\tsaving model 22500...\n",
      "\tdone\n",
      "Evaluating\n"
     ]
    },
    {
     "name": "stderr",
     "output_type": "stream",
     "text": [
      "\n",
      " 12%|#1        | 9/77 [00:00<00:00, 88.52it/s]\u001b[A\n",
      " 23%|##3       | 18/77 [00:00<00:00, 87.12it/s]\u001b[A\n",
      " 35%|###5      | 27/77 [00:00<00:00, 87.04it/s]\u001b[A\n",
      " 48%|####8     | 37/77 [00:00<00:00, 88.29it/s]\u001b[A\n",
      " 61%|######1   | 47/77 [00:00<00:00, 89.44it/s]\u001b[A\n",
      " 74%|#######4  | 57/77 [00:00<00:00, 90.63it/s]\u001b[A\n",
      " 86%|########5 | 66/77 [00:00<00:00, 81.14it/s]\u001b[A\n",
      " 96%|#########6| 74/77 [00:00<00:00, 77.09it/s]\u001b[A\n",
      " 46%|████▌     | 403/884 [00:19<00:57,  8.37it/s]A"
     ]
    },
    {
     "name": "stdout",
     "output_type": "stream",
     "text": [
      "{'ade': 0.46350178, 'fde': 1.0178844}\n",
      "\t last loss:0.000419750, eval on validation:['ade: 0.46350178', 'fde: 1.0178844'], (best ade:0.45599473 at step 20100) \n"
     ]
    },
    {
     "name": "stderr",
     "output_type": "stream",
     "text": [
      " 79%|███████▉  | 697/884 [00:31<00:07, 24.68it/s]\n",
      "  0%|          | 0/77 [00:00<?, ?it/s]\u001b[A"
     ]
    },
    {
     "name": "stdout",
     "output_type": "stream",
     "text": [
      "\tsaving model 22800...\n",
      "\tdone\n",
      "Evaluating\n"
     ]
    },
    {
     "name": "stderr",
     "output_type": "stream",
     "text": [
      "\n",
      " 10%|#         | 8/77 [00:00<00:00, 74.58it/s]\u001b[A\n",
      " 22%|##2       | 17/77 [00:00<00:00, 76.94it/s]\u001b[A\n",
      " 30%|##9       | 23/77 [00:00<00:00, 68.29it/s]\u001b[A\n",
      " 39%|###8      | 30/77 [00:00<00:00, 66.12it/s]\u001b[A\n",
      " 47%|####6     | 36/77 [00:00<00:00, 63.07it/s]\u001b[A\n",
      " 58%|#####8    | 45/77 [00:00<00:00, 68.23it/s]\u001b[A\n",
      " 69%|######8   | 53/77 [00:00<00:00, 69.39it/s]\u001b[A\n",
      " 79%|#######9  | 61/77 [00:00<00:00, 71.10it/s]\u001b[A\n",
      " 91%|######### | 70/77 [00:00<00:00, 74.21it/s]\u001b[A\n",
      " 80%|███████▉  | 703/884 [00:32<00:23,  7.65it/s]A"
     ]
    },
    {
     "name": "stdout",
     "output_type": "stream",
     "text": [
      "{'ade': 0.45862913, 'fde': 1.0067607}\n",
      "\t last loss:0.000636296, eval on validation:['ade: 0.45862913', 'fde: 1.0067607'], (best ade:0.45599473 at step 20100) \n"
     ]
    },
    {
     "name": "stderr",
     "output_type": "stream",
     "text": [
      "100%|██████████| 884/884 [00:39<00:00, 22.15it/s]\n",
      "  0%|          | 1/884 [00:00<01:48,  8.13it/s]"
     ]
    },
    {
     "name": "stdout",
     "output_type": "stream",
     "text": [
      "('Epoca 27.', 'lr:', 0.0002418111)\n"
     ]
    },
    {
     "name": "stderr",
     "output_type": "stream",
     "text": [
      " 13%|█▎        | 115/884 [00:04<00:29, 26.15it/s]\n",
      "  0%|          | 0/77 [00:00<?, ?it/s]\u001b[A"
     ]
    },
    {
     "name": "stdout",
     "output_type": "stream",
     "text": [
      "\tsaving model 23100...\n",
      "\tdone\n",
      "Evaluating\n"
     ]
    },
    {
     "name": "stderr",
     "output_type": "stream",
     "text": [
      "\n",
      " 12%|#1        | 9/77 [00:00<00:00, 89.00it/s]\u001b[A\n",
      " 23%|##3       | 18/77 [00:00<00:00, 89.28it/s]\u001b[A\n",
      " 36%|###6      | 28/77 [00:00<00:00, 90.10it/s]\u001b[A\n",
      " 45%|####5     | 35/77 [00:00<00:00, 79.22it/s]\u001b[A\n",
      " 55%|#####4    | 42/77 [00:00<00:00, 75.27it/s]\u001b[A\n",
      " 64%|######3   | 49/77 [00:00<00:00, 70.84it/s]\u001b[A\n",
      " 75%|#######5  | 58/77 [00:00<00:00, 75.22it/s]\u001b[A\n",
      " 87%|########7 | 67/77 [00:00<00:00, 78.68it/s]\u001b[A\n",
      " 13%|█▎        | 118/884 [00:05<01:57,  6.55it/s]A"
     ]
    },
    {
     "name": "stdout",
     "output_type": "stream",
     "text": [
      "{'ade': 0.45814046, 'fde': 1.0040041}\n",
      "\t last loss:0.000322305, eval on validation:['ade: 0.45814046', 'fde: 1.0040041'], (best ade:0.45599473 at step 20100) \n"
     ]
    },
    {
     "name": "stderr",
     "output_type": "stream",
     "text": [
      " 47%|████▋     | 414/884 [00:17<00:19, 24.41it/s]\n",
      "  0%|          | 0/77 [00:00<?, ?it/s]\u001b[A"
     ]
    },
    {
     "name": "stdout",
     "output_type": "stream",
     "text": [
      "\tsaving model 23400...\n",
      "\tdone\n",
      "Evaluating\n"
     ]
    },
    {
     "name": "stderr",
     "output_type": "stream",
     "text": [
      "\n",
      " 12%|#1        | 9/77 [00:00<00:00, 87.96it/s]\u001b[A\n",
      " 21%|##        | 16/77 [00:00<00:00, 78.46it/s]\u001b[A\n",
      " 30%|##9       | 23/77 [00:00<00:00, 72.01it/s]\u001b[A\n",
      " 40%|####      | 31/77 [00:00<00:00, 72.71it/s]\u001b[A\n",
      " 51%|#####     | 39/77 [00:00<00:00, 73.18it/s]\u001b[A\n",
      " 62%|######2   | 48/77 [00:00<00:00, 77.46it/s]\u001b[A\n",
      " 74%|#######4  | 57/77 [00:00<00:00, 80.54it/s]\u001b[A\n",
      " 86%|########5 | 66/77 [00:00<00:00, 82.71it/s]\u001b[A\n",
      " 99%|#########8| 76/77 [00:00<00:00, 84.98it/s]\u001b[A\n",
      " 48%|████▊     | 420/884 [00:19<00:56,  8.21it/s]A"
     ]
    },
    {
     "name": "stdout",
     "output_type": "stream",
     "text": [
      "{'ade': 0.46081886, 'fde': 1.0170958}\n",
      "\t last loss:0.000241980, eval on validation:['ade: 0.46081886', 'fde: 1.0170958'], (best ade:0.45599473 at step 20100) \n"
     ]
    },
    {
     "name": "stderr",
     "output_type": "stream",
     "text": [
      " 81%|████████  | 715/884 [00:31<00:06, 24.71it/s]\n",
      "  0%|          | 0/77 [00:00<?, ?it/s]"
     ]
    },
    {
     "name": "stdout",
     "output_type": "stream",
     "text": [
      "\tsaving model 23700...\n",
      "\tdone\n",
      "Evaluating\n"
     ]
    },
    {
     "name": "stderr",
     "output_type": "stream",
     "text": [
      "\u001b[A\n",
      " 12%|#1        | 9/77 [00:00<00:00, 83.12it/s]\u001b[A\n",
      " 21%|##        | 16/77 [00:00<00:00, 77.09it/s]\u001b[A\n",
      " 29%|##8       | 22/77 [00:00<00:00, 69.56it/s]\u001b[A\n",
      " 36%|###6      | 28/77 [00:00<00:00, 64.60it/s]\u001b[A\n",
      " 47%|####6     | 36/77 [00:00<00:00, 68.35it/s]\u001b[A\n",
      " 58%|#####8    | 45/77 [00:00<00:00, 71.74it/s]\u001b[A\n",
      " 69%|######8   | 53/77 [00:00<00:00, 72.69it/s]\u001b[A\n",
      " 79%|#######9  | 61/77 [00:00<00:00, 74.66it/s]\u001b[A\n",
      " 90%|########9 | 69/77 [00:00<00:00, 71.89it/s]\u001b[A\n",
      " 81%|████████  | 718/884 [00:32<00:28,  5.92it/s]A"
     ]
    },
    {
     "name": "stdout",
     "output_type": "stream",
     "text": [
      "{'ade': 0.46387503, 'fde': 1.0191649}\n",
      "\t last loss:0.000260096, eval on validation:['ade: 0.46387503', 'fde: 1.0191649'], (best ade:0.45599473 at step 20100) \n"
     ]
    },
    {
     "name": "stderr",
     "output_type": "stream",
     "text": [
      "100%|██████████| 884/884 [00:39<00:00, 22.31it/s]\n",
      "  0%|          | 1/884 [00:00<01:40,  8.82it/s]"
     ]
    },
    {
     "name": "stdout",
     "output_type": "stream",
     "text": [
      "('Epoca 28.', 'lr:', 0.0002418111)\n"
     ]
    },
    {
     "name": "stderr",
     "output_type": "stream",
     "text": [
      " 15%|█▍        | 130/884 [00:05<00:28, 26.35it/s]\n",
      "  0%|          | 0/77 [00:00<?, ?it/s]\u001b[A"
     ]
    },
    {
     "name": "stdout",
     "output_type": "stream",
     "text": [
      "\tsaving model 24000...\n",
      "\tdone\n",
      "Evaluating\n"
     ]
    },
    {
     "name": "stderr",
     "output_type": "stream",
     "text": [
      "\n",
      " 13%|#2        | 10/77 [00:00<00:00, 90.35it/s]\u001b[A\n",
      " 25%|##4       | 19/77 [00:00<00:00, 89.56it/s]\u001b[A\n",
      " 36%|###6      | 28/77 [00:00<00:00, 88.06it/s]\u001b[A\n",
      " 44%|####4     | 34/77 [00:00<00:00, 76.78it/s]\u001b[A\n",
      " 53%|#####3    | 41/77 [00:00<00:00, 74.48it/s]\u001b[A\n",
      " 65%|######4   | 50/77 [00:00<00:00, 77.87it/s]\u001b[A\n",
      " 77%|#######6  | 59/77 [00:00<00:00, 80.87it/s]\u001b[A\n",
      " 90%|########9 | 69/77 [00:00<00:00, 83.57it/s]\u001b[A\n",
      "100%|##########| 77/77 [00:00<00:00, 82.44it/s]\u001b[A"
     ]
    },
    {
     "name": "stdout",
     "output_type": "stream",
     "text": [
      "{'ade': 0.45484895, 'fde': 0.99090284}\n",
      "\t last loss:0.000638103, eval on validation:['ade: 0.45484895', 'fde: 0.99090284'], (best ade:0.45599473 at step 20100) \n",
      "\t saving best model...\n"
     ]
    },
    {
     "name": "stderr",
     "output_type": "stream",
     "text": [
      "\r",
      " 15%|█▌        | 133/884 [00:06<02:10,  5.76it/s]"
     ]
    },
    {
     "name": "stdout",
     "output_type": "stream",
     "text": [
      "\t done.\n"
     ]
    },
    {
     "name": "stderr",
     "output_type": "stream",
     "text": [
      " 49%|████▊     | 430/884 [00:18<00:17, 25.51it/s]\n",
      "  0%|          | 0/77 [00:00<?, ?it/s]\u001b[A"
     ]
    },
    {
     "name": "stdout",
     "output_type": "stream",
     "text": [
      "\tsaving model 24300...\n",
      "\tdone\n",
      "Evaluating\n"
     ]
    },
    {
     "name": "stderr",
     "output_type": "stream",
     "text": [
      "\n",
      " 12%|#1        | 9/77 [00:00<00:00, 86.92it/s]\u001b[A\n",
      " 25%|##4       | 19/77 [00:00<00:00, 88.47it/s]\u001b[A\n",
      " 36%|###6      | 28/77 [00:00<00:00, 88.15it/s]\u001b[A\n",
      " 45%|####5     | 35/77 [00:00<00:00, 79.29it/s]\u001b[A\n",
      " 55%|#####4    | 42/77 [00:00<00:00, 74.43it/s]\u001b[A\n",
      " 64%|######3   | 49/77 [00:00<00:00, 72.99it/s]\u001b[A\n",
      " 75%|#######5  | 58/77 [00:00<00:00, 75.42it/s]\u001b[A\n",
      " 87%|########7 | 67/77 [00:00<00:00, 77.36it/s]\u001b[A\n",
      " 49%|████▉     | 436/884 [00:20<00:53,  8.34it/s]A"
     ]
    },
    {
     "name": "stdout",
     "output_type": "stream",
     "text": [
      "{'ade': 0.45865932, 'fde': 1.0050422}\n",
      "\t last loss:0.000404488, eval on validation:['ade: 0.45865932', 'fde: 1.0050422'], (best ade:0.45484895 at step 24000) \n"
     ]
    },
    {
     "name": "stderr",
     "output_type": "stream",
     "text": [
      " 83%|████████▎ | 730/884 [00:31<00:06, 24.66it/s]\n",
      "  0%|          | 0/77 [00:00<?, ?it/s]\u001b[A"
     ]
    },
    {
     "name": "stdout",
     "output_type": "stream",
     "text": [
      "\tsaving model 24600...\n",
      "\tdone\n",
      "Evaluating\n"
     ]
    },
    {
     "name": "stderr",
     "output_type": "stream",
     "text": [
      "\n",
      " 12%|#1        | 9/77 [00:00<00:00, 85.30it/s]\u001b[A\n",
      " 23%|##3       | 18/77 [00:00<00:00, 84.57it/s]\u001b[A\n",
      " 35%|###5      | 27/77 [00:00<00:00, 83.41it/s]\u001b[A\n",
      " 43%|####2     | 33/77 [00:00<00:00, 73.83it/s]\u001b[A\n",
      " 51%|#####     | 39/77 [00:00<00:00, 66.63it/s]\u001b[A\n",
      " 58%|#####8    | 45/77 [00:00<00:00, 63.99it/s]\u001b[A\n",
      " 69%|######8   | 53/77 [00:00<00:00, 67.78it/s]\u001b[A\n",
      " 78%|#######7  | 60/77 [00:00<00:00, 68.30it/s]\u001b[A\n",
      " 90%|########9 | 69/77 [00:00<00:00, 71.67it/s]\u001b[A\n",
      "100%|##########| 77/77 [00:01<00:00, 73.09it/s]\u001b[A"
     ]
    },
    {
     "name": "stdout",
     "output_type": "stream",
     "text": [
      "{'ade': 0.45240363, 'fde': 0.985408}\n",
      "\t last loss:0.000305242, eval on validation:['ade: 0.45240363', 'fde: 0.985408'], (best ade:0.45484895 at step 24000) \n",
      "\t saving best model...\n"
     ]
    },
    {
     "name": "stderr",
     "output_type": "stream",
     "text": [
      "100%|██████████| 884/884 [00:39<00:00, 24.75it/s]\n",
      "  0%|          | 2/884 [00:00<00:45, 19.22it/s]"
     ]
    },
    {
     "name": "stdout",
     "output_type": "stream",
     "text": [
      "\t done.\n",
      "('Epoca 29.', 'lr:', 0.00020553943)\n"
     ]
    },
    {
     "name": "stderr",
     "output_type": "stream",
     "text": [
      " 17%|█▋        | 146/884 [00:05<00:28, 26.23it/s]\n",
      "  0%|          | 0/77 [00:00<?, ?it/s]\u001b[A"
     ]
    },
    {
     "name": "stdout",
     "output_type": "stream",
     "text": [
      "\tsaving model 24900...\n",
      "\tdone\n",
      "Evaluating\n"
     ]
    },
    {
     "name": "stderr",
     "output_type": "stream",
     "text": [
      "\n",
      " 12%|#1        | 9/77 [00:00<00:00, 87.34it/s]\u001b[A\n",
      " 23%|##3       | 18/77 [00:00<00:00, 87.58it/s]\u001b[A\n",
      " 35%|###5      | 27/77 [00:00<00:00, 88.00it/s]\u001b[A\n",
      " 47%|####6     | 36/77 [00:00<00:00, 87.18it/s]\u001b[A\n",
      " 56%|#####5    | 43/77 [00:00<00:00, 78.51it/s]\u001b[A\n",
      " 65%|######4   | 50/77 [00:00<00:00, 75.55it/s]\u001b[A\n",
      " 74%|#######4  | 57/77 [00:00<00:00, 71.35it/s]\u001b[A\n",
      " 84%|########4 | 65/77 [00:00<00:00, 71.53it/s]\u001b[A\n",
      " 95%|#########4| 73/77 [00:00<00:00, 73.44it/s]\u001b[A\n",
      " 17%|█▋        | 149/884 [00:07<01:58,  6.20it/s]A"
     ]
    },
    {
     "name": "stdout",
     "output_type": "stream",
     "text": [
      "{'ade': 0.45404235, 'fde': 0.9929567}\n",
      "\t last loss:0.000340016, eval on validation:['ade: 0.45404235', 'fde: 0.9929567'], (best ade:0.45240363 at step 24600) \n"
     ]
    },
    {
     "name": "stderr",
     "output_type": "stream",
     "text": [
      " 50%|█████     | 446/884 [00:20<00:17, 24.37it/s]\n",
      "  0%|          | 0/77 [00:00<?, ?it/s]\u001b[A"
     ]
    },
    {
     "name": "stdout",
     "output_type": "stream",
     "text": [
      "\tsaving model 25200...\n",
      "\tdone\n",
      "Evaluating\n"
     ]
    },
    {
     "name": "stderr",
     "output_type": "stream",
     "text": [
      "\n",
      " 12%|#1        | 9/77 [00:00<00:00, 84.59it/s]\u001b[A\n",
      " 22%|##2       | 17/77 [00:00<00:00, 79.91it/s]\u001b[A\n",
      " 30%|##9       | 23/77 [00:00<00:00, 72.06it/s]\u001b[A\n",
      " 36%|###6      | 28/77 [00:00<00:00, 63.30it/s]\u001b[A\n",
      " 47%|####6     | 36/77 [00:00<00:00, 65.26it/s]\u001b[A\n",
      " 56%|#####5    | 43/77 [00:00<00:00, 66.56it/s]\u001b[A\n",
      " 68%|######7   | 52/77 [00:00<00:00, 70.86it/s]\u001b[A\n",
      " 79%|#######9  | 61/77 [00:00<00:00, 73.78it/s]\u001b[A\n",
      " 91%|######### | 70/77 [00:00<00:00, 76.09it/s]\u001b[A\n",
      " 51%|█████     | 449/884 [00:21<01:12,  5.97it/s]A"
     ]
    },
    {
     "name": "stdout",
     "output_type": "stream",
     "text": [
      "{'ade': 0.45547703, 'fde': 0.9953943}\n",
      "\t last loss:0.000234304, eval on validation:['ade: 0.45547703', 'fde: 0.9953943'], (best ade:0.45240363 at step 24600) \n"
     ]
    },
    {
     "name": "stderr",
     "output_type": "stream",
     "text": [
      " 84%|████████▍ | 746/884 [00:33<00:05, 26.12it/s]\n",
      "  0%|          | 0/77 [00:00<?, ?it/s]\u001b[A"
     ]
    },
    {
     "name": "stdout",
     "output_type": "stream",
     "text": [
      "\tsaving model 25500...\n",
      "\tdone\n",
      "Evaluating\n"
     ]
    },
    {
     "name": "stderr",
     "output_type": "stream",
     "text": [
      "\n",
      " 12%|#1        | 9/77 [00:00<00:00, 87.68it/s]\u001b[A\n",
      " 23%|##3       | 18/77 [00:00<00:00, 86.31it/s]\u001b[A\n",
      " 35%|###5      | 27/77 [00:00<00:00, 87.34it/s]\u001b[A\n",
      " 48%|####8     | 37/77 [00:00<00:00, 88.65it/s]\u001b[A\n",
      " 60%|#####9    | 46/77 [00:00<00:00, 88.99it/s]\u001b[A\n",
      " 73%|#######2  | 56/77 [00:00<00:00, 90.15it/s]\u001b[A\n",
      " 83%|########3 | 64/77 [00:00<00:00, 80.73it/s]\u001b[A\n",
      " 94%|#########3| 72/77 [00:00<00:00, 73.61it/s]\u001b[A\n",
      " 85%|████████▍ | 749/884 [00:34<00:20,  6.47it/s]A"
     ]
    },
    {
     "name": "stdout",
     "output_type": "stream",
     "text": [
      "{'ade': 0.46353716, 'fde': 1.0156038}\n",
      "\t last loss:0.000447567, eval on validation:['ade: 0.46353716', 'fde: 1.0156038'], (best ade:0.45240363 at step 24600) \n"
     ]
    },
    {
     "name": "stderr",
     "output_type": "stream",
     "text": [
      "100%|██████████| 884/884 [00:40<00:00, 21.77it/s]\n",
      "  0%|          | 2/884 [00:00<00:45, 19.21it/s]"
     ]
    },
    {
     "name": "stdout",
     "output_type": "stream",
     "text": [
      "('Epoca 30.', 'lr:', 0.00020553943)\n"
     ]
    },
    {
     "name": "stderr",
     "output_type": "stream",
     "text": [
      " 18%|█▊        | 161/884 [00:06<00:28, 24.95it/s]\n",
      "  0%|          | 0/77 [00:00<?, ?it/s]\u001b[A"
     ]
    },
    {
     "name": "stdout",
     "output_type": "stream",
     "text": [
      "\tsaving model 25800...\n",
      "\tdone\n",
      "Evaluating\n"
     ]
    },
    {
     "name": "stderr",
     "output_type": "stream",
     "text": [
      "\n",
      " 12%|#1        | 9/77 [00:00<00:00, 88.58it/s]\u001b[A\n",
      " 23%|##3       | 18/77 [00:00<00:00, 85.20it/s]\u001b[A\n",
      " 34%|###3      | 26/77 [00:00<00:00, 79.82it/s]\u001b[A\n",
      " 43%|####2     | 33/77 [00:00<00:00, 74.85it/s]\u001b[A\n",
      " 56%|#####5    | 43/77 [00:00<00:00, 79.40it/s]\u001b[A\n",
      " 66%|######6   | 51/77 [00:00<00:00, 77.18it/s]\u001b[A\n",
      " 78%|#######7  | 60/77 [00:00<00:00, 79.39it/s]\u001b[A\n",
      " 90%|########9 | 69/77 [00:00<00:00, 82.29it/s]\u001b[A\n",
      " 19%|█▉        | 167/884 [00:07<01:25,  8.36it/s]A"
     ]
    },
    {
     "name": "stdout",
     "output_type": "stream",
     "text": [
      "{'ade': 0.45494848, 'fde': 0.99015015}\n",
      "\t last loss:0.000427484, eval on validation:['ade: 0.45494848', 'fde: 0.99015015'], (best ade:0.45240363 at step 24600) \n"
     ]
    },
    {
     "name": "stderr",
     "output_type": "stream",
     "text": [
      " 52%|█████▏    | 461/884 [00:19<00:17, 24.62it/s]"
     ]
    },
    {
     "name": "stdout",
     "output_type": "stream",
     "text": [
      "\tsaving model 26100...\n"
     ]
    },
    {
     "name": "stderr",
     "output_type": "stream",
     "text": [
      "\n",
      "  0%|          | 0/77 [00:00<?, ?it/s]\u001b[A\n",
      "  8%|7         | 6/77 [00:00<00:01, 58.30it/s]\u001b[A"
     ]
    },
    {
     "name": "stdout",
     "output_type": "stream",
     "text": [
      "\tdone\n",
      "Evaluating\n"
     ]
    },
    {
     "name": "stderr",
     "output_type": "stream",
     "text": [
      "\n",
      " 14%|#4        | 11/77 [00:00<00:01, 53.98it/s]\u001b[A\n",
      " 21%|##        | 16/77 [00:00<00:01, 52.49it/s]\u001b[A\n",
      " 26%|##5       | 20/77 [00:00<00:01, 45.86it/s]\u001b[A\n",
      " 31%|###1      | 24/77 [00:00<00:01, 39.29it/s]\u001b[A\n",
      " 38%|###7      | 29/77 [00:00<00:01, 41.36it/s]\u001b[A\n",
      " 47%|####6     | 36/77 [00:00<00:00, 46.71it/s]\u001b[A\n",
      " 56%|#####5    | 43/77 [00:00<00:00, 50.64it/s]\u001b[A\n",
      " 66%|######6   | 51/77 [00:00<00:00, 55.76it/s]\u001b[A\n",
      " 75%|#######5  | 58/77 [00:01<00:00, 58.65it/s]\u001b[A\n",
      " 87%|########7 | 67/77 [00:01<00:00, 64.46it/s]\u001b[A\n",
      " 97%|#########7| 75/77 [00:01<00:00, 68.27it/s]\u001b[A\n",
      "100%|##########| 77/77 [00:01<00:00, 57.48it/s]\u001b[A"
     ]
    },
    {
     "name": "stdout",
     "output_type": "stream",
     "text": [
      "{'ade': 0.4513415, 'fde': 0.99064136}\n",
      "\t last loss:0.000233220, eval on validation:['ade: 0.4513415', 'fde: 0.99064136'], (best ade:0.45240363 at step 24600) \n",
      "\t saving best model...\n"
     ]
    },
    {
     "name": "stderr",
     "output_type": "stream",
     "text": [
      " 53%|█████▎    | 467/884 [00:21<01:10,  5.94it/s]"
     ]
    },
    {
     "name": "stdout",
     "output_type": "stream",
     "text": [
      "\t done.\n"
     ]
    },
    {
     "name": "stderr",
     "output_type": "stream",
     "text": [
      " 86%|████████▋ | 763/884 [00:37<00:06, 19.35it/s]"
     ]
    },
    {
     "name": "stdout",
     "output_type": "stream",
     "text": [
      "\tsaving model 26400...\n"
     ]
    },
    {
     "name": "stderr",
     "output_type": "stream",
     "text": [
      "\n",
      "  0%|          | 0/77 [00:00<?, ?it/s]\u001b[A\n",
      " 12%|#1        | 9/77 [00:00<00:00, 84.92it/s]\u001b[A"
     ]
    },
    {
     "name": "stdout",
     "output_type": "stream",
     "text": [
      "\tdone\n",
      "Evaluating\n"
     ]
    },
    {
     "name": "stderr",
     "output_type": "stream",
     "text": [
      "\n",
      " 23%|##3       | 18/77 [00:00<00:00, 83.52it/s]\u001b[A\n",
      " 34%|###3      | 26/77 [00:00<00:00, 80.64it/s]\u001b[A\n",
      " 43%|####2     | 33/77 [00:00<00:00, 74.43it/s]\u001b[A\n",
      " 51%|#####     | 39/77 [00:00<00:00, 64.47it/s]\u001b[A\n",
      " 62%|######2   | 48/77 [00:00<00:00, 69.49it/s]\u001b[A\n",
      " 75%|#######5  | 58/77 [00:00<00:00, 74.88it/s]\u001b[A\n",
      " 87%|########7 | 67/77 [00:00<00:00, 78.69it/s]\u001b[A\n",
      " 99%|#########8| 76/77 [00:00<00:00, 80.15it/s]\u001b[A\n",
      " 87%|████████▋ | 766/884 [00:38<00:20,  5.79it/s]A"
     ]
    },
    {
     "name": "stdout",
     "output_type": "stream",
     "text": [
      "{'ade': 0.46146876, 'fde': 1.0133134}\n",
      "\t last loss:0.000358918, eval on validation:['ade: 0.46146876', 'fde: 1.0133134'], (best ade:0.4513415 at step 26100) \n"
     ]
    },
    {
     "name": "stderr",
     "output_type": "stream",
     "text": [
      "100%|██████████| 884/884 [00:43<00:00, 20.36it/s]\n",
      "  0%|          | 1/884 [00:00<01:51,  7.91it/s]"
     ]
    },
    {
     "name": "stdout",
     "output_type": "stream",
     "text": [
      "('Epoca 31.', 'lr:', 0.00017470852)\n"
     ]
    },
    {
     "name": "stderr",
     "output_type": "stream",
     "text": [
      " 20%|██        | 178/884 [00:07<00:27, 25.59it/s]"
     ]
    },
    {
     "name": "stdout",
     "output_type": "stream",
     "text": [
      "\tsaving model 26700...\n"
     ]
    },
    {
     "name": "stderr",
     "output_type": "stream",
     "text": [
      "\n",
      "  0%|          | 0/77 [00:00<?, ?it/s]\u001b[A\n",
      " 12%|#1        | 9/77 [00:00<00:00, 84.83it/s]\u001b[A\n",
      " 23%|##3       | 18/77 [00:00<00:00, 84.55it/s]\u001b[A\n",
      " 35%|###5      | 27/77 [00:00<00:00, 83.96it/s]\u001b[A\n",
      " 45%|####5     | 35/77 [00:00<00:00, 82.52it/s]\u001b[A\n",
      " 55%|#####4    | 42/77 [00:00<00:00, 78.09it/s]\u001b[A\n",
      " 64%|######3   | 49/77 [00:00<00:00, 73.83it/s]\u001b[A\n",
      " 75%|#######5  | 58/77 [00:00<00:00, 76.16it/s]\u001b[A\n",
      " 86%|########5 | 66/77 [00:00<00:00, 75.41it/s]\u001b[A\n",
      " 97%|#########7| 75/77 [00:00<00:00, 77.73it/s]\u001b[A\n",
      " 20%|██        | 181/884 [00:08<01:53,  6.22it/s]A"
     ]
    },
    {
     "name": "stdout",
     "output_type": "stream",
     "text": [
      "\tdone\n",
      "Evaluating\n",
      "{'ade': 0.45397308, 'fde': 0.99016374}\n",
      "\t last loss:0.000246801, eval on validation:['ade: 0.45397308', 'fde: 0.99016374'], (best ade:0.4513415 at step 26100) \n"
     ]
    },
    {
     "name": "stderr",
     "output_type": "stream",
     "text": [
      " 54%|█████▍    | 478/884 [00:20<00:15, 26.23it/s]\n",
      "  0%|          | 0/77 [00:00<?, ?it/s]\u001b[A"
     ]
    },
    {
     "name": "stdout",
     "output_type": "stream",
     "text": [
      "\tsaving model 27000...\n",
      "\tdone\n",
      "Evaluating\n"
     ]
    },
    {
     "name": "stderr",
     "output_type": "stream",
     "text": [
      "\n",
      " 13%|#2        | 10/77 [00:00<00:00, 93.40it/s]\u001b[A\n",
      " 25%|##4       | 19/77 [00:00<00:00, 89.90it/s]\u001b[A\n",
      " 34%|###3      | 26/77 [00:00<00:00, 81.10it/s]\u001b[A\n",
      " 47%|####6     | 36/77 [00:00<00:00, 84.49it/s]\u001b[A\n",
      " 60%|#####9    | 46/77 [00:00<00:00, 86.38it/s]\u001b[A\n",
      " 71%|#######1  | 55/77 [00:00<00:00, 86.53it/s]\u001b[A\n",
      " 84%|########4 | 65/77 [00:00<00:00, 88.32it/s]\u001b[A\n",
      " 97%|#########7| 75/77 [00:00<00:00, 89.23it/s]\u001b[A\n",
      " 55%|█████▍    | 484/884 [00:21<00:45,  8.70it/s]A"
     ]
    },
    {
     "name": "stdout",
     "output_type": "stream",
     "text": [
      "{'ade': 0.45225838, 'fde': 0.98959005}\n",
      "\t last loss:0.000305834, eval on validation:['ade: 0.45225838', 'fde: 0.98959005'], (best ade:0.4513415 at step 26100) \n"
     ]
    },
    {
     "name": "stderr",
     "output_type": "stream",
     "text": [
      " 88%|████████▊ | 778/884 [00:33<00:04, 24.89it/s]\n",
      "  0%|          | 0/77 [00:00<?, ?it/s]\u001b[A"
     ]
    },
    {
     "name": "stdout",
     "output_type": "stream",
     "text": [
      "\tsaving model 27300...\n",
      "\tdone\n",
      "Evaluating\n"
     ]
    },
    {
     "name": "stderr",
     "output_type": "stream",
     "text": [
      "\n",
      " 12%|#1        | 9/77 [00:00<00:00, 85.43it/s]\u001b[A\n",
      " 22%|##2       | 17/77 [00:00<00:00, 82.48it/s]\u001b[A\n",
      " 34%|###3      | 26/77 [00:00<00:00, 82.98it/s]\u001b[A\n",
      " 42%|####1     | 32/77 [00:00<00:00, 71.51it/s]\u001b[A\n",
      " 51%|#####     | 39/77 [00:00<00:00, 66.94it/s]\u001b[A\n",
      " 60%|#####9    | 46/77 [00:00<00:00, 66.39it/s]\u001b[A\n",
      " 71%|#######1  | 55/77 [00:00<00:00, 70.56it/s]\u001b[A\n",
      " 81%|########  | 62/77 [00:00<00:00, 69.60it/s]\u001b[A\n",
      " 92%|#########2| 71/77 [00:00<00:00, 73.84it/s]\u001b[A\n",
      " 88%|████████▊ | 781/884 [00:34<00:17,  6.01it/s]A"
     ]
    },
    {
     "name": "stdout",
     "output_type": "stream",
     "text": [
      "{'ade': 0.45221496, 'fde': 0.9887188}\n",
      "\t last loss:0.000517910, eval on validation:['ade: 0.45221496', 'fde: 0.9887188'], (best ade:0.4513415 at step 26100) \n"
     ]
    },
    {
     "name": "stderr",
     "output_type": "stream",
     "text": [
      "100%|██████████| 884/884 [00:38<00:00, 22.88it/s]\n",
      "  0%|          | 1/884 [00:00<01:42,  8.64it/s]"
     ]
    },
    {
     "name": "stdout",
     "output_type": "stream",
     "text": [
      "('Epoca 32.', 'lr:', 0.00017470852)\n"
     ]
    },
    {
     "name": "stderr",
     "output_type": "stream",
     "text": [
      " 22%|██▏       | 193/884 [00:07<00:25, 26.60it/s]\n",
      "  0%|          | 0/77 [00:00<?, ?it/s]\u001b[A"
     ]
    },
    {
     "name": "stdout",
     "output_type": "stream",
     "text": [
      "\tsaving model 27600...\n",
      "\tdone\n",
      "Evaluating\n"
     ]
    },
    {
     "name": "stderr",
     "output_type": "stream",
     "text": [
      "\n",
      " 13%|#2        | 10/77 [00:00<00:00, 90.18it/s]\u001b[A\n",
      " 22%|##2       | 17/77 [00:00<00:00, 82.78it/s]\u001b[A\n",
      " 32%|###2      | 25/77 [00:00<00:00, 78.13it/s]\u001b[A\n",
      " 39%|###8      | 30/77 [00:00<00:00, 64.32it/s]\u001b[A\n",
      " 48%|####8     | 37/77 [00:00<00:00, 65.20it/s]\u001b[A\n",
      " 57%|#####7    | 44/77 [00:00<00:00, 65.68it/s]\u001b[A\n",
      " 69%|######8   | 53/77 [00:00<00:00, 69.86it/s]\u001b[A\n",
      " 81%|########  | 62/77 [00:00<00:00, 74.05it/s]\u001b[A\n",
      " 92%|#########2| 71/77 [00:00<00:00, 76.63it/s]\u001b[A\n",
      "100%|##########| 77/77 [00:01<00:00, 73.05it/s]\u001b[A"
     ]
    },
    {
     "name": "stdout",
     "output_type": "stream",
     "text": [
      "{'ade': 0.44815108, 'fde': 0.97552985}\n",
      "\t last loss:0.000279949, eval on validation:['ade: 0.44815108', 'fde: 0.97552985'], (best ade:0.4513415 at step 26100) \n",
      "\t saving best model...\n"
     ]
    },
    {
     "name": "stderr",
     "output_type": "stream",
     "text": [
      " 56%|█████▌    | 493/884 [00:22<00:15, 25.09it/s]\n",
      "  0%|          | 0/77 [00:00<?, ?it/s]\u001b[A"
     ]
    },
    {
     "name": "stdout",
     "output_type": "stream",
     "text": [
      "\t done.\n",
      "\tsaving model 27900...\n",
      "\tdone\n",
      "Evaluating\n"
     ]
    },
    {
     "name": "stderr",
     "output_type": "stream",
     "text": [
      "\n",
      " 12%|#1        | 9/77 [00:00<00:00, 86.23it/s]\u001b[A\n",
      " 22%|##2       | 17/77 [00:00<00:00, 81.71it/s]\u001b[A\n",
      " 30%|##9       | 23/77 [00:00<00:00, 73.09it/s]\u001b[A\n",
      " 38%|###7      | 29/77 [00:00<00:00, 67.14it/s]\u001b[A\n",
      " 48%|####8     | 37/77 [00:00<00:00, 69.97it/s]\u001b[A\n",
      " 57%|#####7    | 44/77 [00:00<00:00, 67.37it/s]\u001b[A\n",
      " 69%|######8   | 53/77 [00:00<00:00, 71.61it/s]\u001b[A\n",
      " 81%|########  | 62/77 [00:00<00:00, 75.22it/s]\u001b[A\n",
      " 92%|#########2| 71/77 [00:00<00:00, 78.21it/s]\u001b[A\n",
      " 56%|█████▋    | 499/884 [00:24<00:48,  7.90it/s]A"
     ]
    },
    {
     "name": "stdout",
     "output_type": "stream",
     "text": [
      "{'ade': 0.4646215, 'fde': 1.0210209}\n",
      "\t last loss:0.000212865, eval on validation:['ade: 0.4646215', 'fde: 1.0210209'], (best ade:0.44815108 at step 27600) \n"
     ]
    },
    {
     "name": "stderr",
     "output_type": "stream",
     "text": [
      " 90%|████████▉ | 793/884 [00:35<00:03, 24.21it/s]\n",
      "  0%|          | 0/77 [00:00<?, ?it/s]\u001b[A"
     ]
    },
    {
     "name": "stdout",
     "output_type": "stream",
     "text": [
      "\tsaving model 28200...\n",
      "\tdone\n",
      "Evaluating\n"
     ]
    },
    {
     "name": "stderr",
     "output_type": "stream",
     "text": [
      "\n",
      " 12%|#1        | 9/77 [00:00<00:00, 83.74it/s]\u001b[A\n",
      " 21%|##        | 16/77 [00:00<00:00, 76.46it/s]\u001b[A\n",
      " 32%|###2      | 25/77 [00:00<00:00, 79.75it/s]\u001b[A\n",
      " 44%|####4     | 34/77 [00:00<00:00, 80.97it/s]\u001b[A\n",
      " 55%|#####4    | 42/77 [00:00<00:00, 78.89it/s]\u001b[A\n",
      " 65%|######4   | 50/77 [00:00<00:00, 78.40it/s]\u001b[A\n",
      " 77%|#######6  | 59/77 [00:00<00:00, 80.24it/s]\u001b[A\n",
      " 88%|########8 | 68/77 [00:00<00:00, 81.02it/s]\u001b[A\n",
      " 90%|█████████ | 799/884 [00:37<00:10,  8.20it/s]A"
     ]
    },
    {
     "name": "stdout",
     "output_type": "stream",
     "text": [
      "{'ade': 0.4512995, 'fde': 0.98799014}\n",
      "\t last loss:0.000508762, eval on validation:['ade: 0.4512995', 'fde: 0.98799014'], (best ade:0.44815108 at step 27600) \n"
     ]
    },
    {
     "name": "stderr",
     "output_type": "stream",
     "text": [
      "100%|██████████| 884/884 [00:40<00:00, 21.79it/s]\n",
      "  0%|          | 3/884 [00:00<00:34, 25.62it/s]"
     ]
    },
    {
     "name": "stdout",
     "output_type": "stream",
     "text": [
      "('Epoca 33.', 'lr:', 0.00014850224)\n"
     ]
    },
    {
     "name": "stderr",
     "output_type": "stream",
     "text": [
      " 24%|██▍       | 210/884 [00:08<00:25, 26.14it/s]\n",
      "  0%|          | 0/77 [00:00<?, ?it/s]\u001b[A"
     ]
    },
    {
     "name": "stdout",
     "output_type": "stream",
     "text": [
      "\tsaving model 28500...\n",
      "\tdone\n",
      "Evaluating\n"
     ]
    },
    {
     "name": "stderr",
     "output_type": "stream",
     "text": [
      "\n",
      " 13%|#2        | 10/77 [00:00<00:00, 94.65it/s]\u001b[A\n",
      " 23%|##3       | 18/77 [00:00<00:00, 87.33it/s]\u001b[A\n",
      " 34%|###3      | 26/77 [00:00<00:00, 81.12it/s]\u001b[A\n",
      " 42%|####1     | 32/77 [00:00<00:00, 73.15it/s]\u001b[A\n",
      " 53%|#####3    | 41/77 [00:00<00:00, 76.22it/s]\u001b[A\n",
      " 65%|######4   | 50/77 [00:00<00:00, 79.45it/s]\u001b[A\n",
      " 78%|#######7  | 60/77 [00:00<00:00, 83.28it/s]\u001b[A\n",
      " 90%|########9 | 69/77 [00:00<00:00, 83.51it/s]\u001b[A\n",
      " 24%|██▍       | 216/884 [00:09<01:19,  8.42it/s]A"
     ]
    },
    {
     "name": "stdout",
     "output_type": "stream",
     "text": [
      "{'ade': 0.4531984, 'fde': 0.99348867}\n",
      "\t last loss:0.000214311, eval on validation:['ade: 0.4531984', 'fde: 0.99348867'], (best ade:0.44815108 at step 27600) \n"
     ]
    },
    {
     "name": "stderr",
     "output_type": "stream",
     "text": [
      " 58%|█████▊    | 509/884 [00:21<00:15, 24.84it/s]\n",
      "  0%|          | 0/77 [00:00<?, ?it/s]\u001b[A"
     ]
    },
    {
     "name": "stdout",
     "output_type": "stream",
     "text": [
      "\tsaving model 28800...\n",
      "\tdone\n",
      "Evaluating\n"
     ]
    },
    {
     "name": "stderr",
     "output_type": "stream",
     "text": [
      "\n",
      " 12%|#1        | 9/77 [00:00<00:00, 84.03it/s]\u001b[A\n",
      " 21%|##        | 16/77 [00:00<00:00, 76.00it/s]\u001b[A\n",
      " 30%|##9       | 23/77 [00:00<00:00, 73.40it/s]\u001b[A\n",
      " 38%|###7      | 29/77 [00:00<00:00, 66.77it/s]\u001b[A\n",
      " 48%|####8     | 37/77 [00:00<00:00, 69.68it/s]\u001b[A\n",
      " 58%|#####8    | 45/77 [00:00<00:00, 70.66it/s]\u001b[A\n",
      " 70%|#######   | 54/77 [00:00<00:00, 74.34it/s]\u001b[A\n",
      " 81%|########  | 62/77 [00:00<00:00, 74.88it/s]\u001b[A\n",
      " 92%|#########2| 71/77 [00:00<00:00, 76.70it/s]\u001b[A\n",
      " 58%|█████▊    | 515/884 [00:23<00:47,  7.82it/s]A"
     ]
    },
    {
     "name": "stdout",
     "output_type": "stream",
     "text": [
      "{'ade': 0.45484737, 'fde': 1.0002476}\n",
      "\t last loss:0.000312264, eval on validation:['ade: 0.45484737', 'fde: 1.0002476'], (best ade:0.44815108 at step 27600) \n"
     ]
    },
    {
     "name": "stderr",
     "output_type": "stream",
     "text": [
      " 92%|█████████▏| 809/884 [00:34<00:03, 23.01it/s]\n",
      "  0%|          | 0/77 [00:00<?, ?it/s]\u001b[A"
     ]
    },
    {
     "name": "stdout",
     "output_type": "stream",
     "text": [
      "\tsaving model 29100...\n",
      "\tdone\n",
      "Evaluating\n"
     ]
    },
    {
     "name": "stderr",
     "output_type": "stream",
     "text": [
      "\n",
      " 10%|#         | 8/77 [00:00<00:00, 71.82it/s]\u001b[A\n",
      " 19%|#9        | 15/77 [00:00<00:00, 71.13it/s]\u001b[A\n",
      " 30%|##9       | 23/77 [00:00<00:00, 71.77it/s]\u001b[A\n",
      " 39%|###8      | 30/77 [00:00<00:00, 71.13it/s]\u001b[A\n",
      " 47%|####6     | 36/77 [00:00<00:00, 67.33it/s]\u001b[A\n",
      " 57%|#####7    | 44/77 [00:00<00:00, 69.34it/s]\u001b[A\n",
      " 68%|######7   | 52/77 [00:00<00:00, 71.58it/s]\u001b[A\n",
      " 79%|#######9  | 61/77 [00:00<00:00, 74.73it/s]\u001b[A\n",
      " 90%|########9 | 69/77 [00:00<00:00, 75.36it/s]\u001b[A\n",
      " 92%|█████████▏| 815/884 [00:36<00:09,  7.58it/s]A"
     ]
    },
    {
     "name": "stdout",
     "output_type": "stream",
     "text": [
      "{'ade': 0.45368573, 'fde': 0.99255633}\n",
      "\t last loss:0.000317323, eval on validation:['ade: 0.45368573', 'fde: 0.99255633'], (best ade:0.44815108 at step 27600) \n"
     ]
    },
    {
     "name": "stderr",
     "output_type": "stream",
     "text": [
      "100%|██████████| 884/884 [00:39<00:00, 24.19it/s]\n",
      "  0%|          | 1/884 [00:00<01:48,  8.14it/s]"
     ]
    },
    {
     "name": "stdout",
     "output_type": "stream",
     "text": [
      "('Epoca 34.', 'lr:', 0.00014850224)\n"
     ]
    },
    {
     "name": "stderr",
     "output_type": "stream",
     "text": [
      " 26%|██▌       | 226/884 [00:09<00:31, 21.10it/s]"
     ]
    },
    {
     "name": "stdout",
     "output_type": "stream",
     "text": [
      "\tsaving model 29400...\n"
     ]
    },
    {
     "name": "stderr",
     "output_type": "stream",
     "text": [
      "\n",
      "  0%|          | 0/77 [00:00<?, ?it/s]\u001b[A\n",
      "  9%|9         | 7/77 [00:00<00:01, 62.85it/s]\u001b[A"
     ]
    },
    {
     "name": "stdout",
     "output_type": "stream",
     "text": [
      "\tdone\n",
      "Evaluating\n"
     ]
    },
    {
     "name": "stderr",
     "output_type": "stream",
     "text": [
      "\n",
      " 17%|#6        | 13/77 [00:00<00:01, 59.80it/s]\u001b[A\n",
      " 23%|##3       | 18/77 [00:00<00:01, 53.38it/s]\u001b[A\n",
      " 30%|##9       | 23/77 [00:00<00:01, 49.69it/s]\u001b[A\n",
      " 38%|###7      | 29/77 [00:00<00:00, 51.76it/s]\u001b[A\n",
      " 45%|####5     | 35/77 [00:00<00:00, 51.08it/s]\u001b[A\n",
      " 55%|#####4    | 42/77 [00:00<00:00, 54.68it/s]\u001b[A\n",
      " 64%|######3   | 49/77 [00:00<00:00, 57.57it/s]\u001b[A\n",
      " 73%|#######2  | 56/77 [00:01<00:00, 59.02it/s]\u001b[A\n",
      " 81%|########  | 62/77 [00:01<00:00, 58.36it/s]\u001b[A\n",
      " 90%|########9 | 69/77 [00:01<00:00, 60.64it/s]\u001b[A\n",
      " 99%|#########8| 76/77 [00:01<00:00, 62.39it/s]\u001b[A\n",
      " 26%|██▌       | 229/884 [00:10<02:17,  4.77it/s]A"
     ]
    },
    {
     "name": "stdout",
     "output_type": "stream",
     "text": [
      "{'ade': 0.45393044, 'fde': 0.9945768}\n",
      "\t last loss:0.000361333, eval on validation:['ade: 0.45393044', 'fde: 0.9945768'], (best ade:0.44815108 at step 27600) \n"
     ]
    },
    {
     "name": "stderr",
     "output_type": "stream",
     "text": [
      " 60%|█████▉    | 526/884 [00:23<00:13, 26.65it/s]\n",
      "  0%|          | 0/77 [00:00<?, ?it/s]\u001b[A"
     ]
    },
    {
     "name": "stdout",
     "output_type": "stream",
     "text": [
      "\tsaving model 29700...\n",
      "\tdone\n",
      "Evaluating\n"
     ]
    },
    {
     "name": "stderr",
     "output_type": "stream",
     "text": [
      "\n",
      " 13%|#2        | 10/77 [00:00<00:00, 94.26it/s]\u001b[A\n",
      " 25%|##4       | 19/77 [00:00<00:00, 90.68it/s]\u001b[A\n",
      " 35%|###5      | 27/77 [00:00<00:00, 84.34it/s]\u001b[A\n",
      " 48%|####8     | 37/77 [00:00<00:00, 86.80it/s]\u001b[A\n",
      " 60%|#####9    | 46/77 [00:00<00:00, 86.36it/s]\u001b[A\n",
      " 73%|#######2  | 56/77 [00:00<00:00, 88.30it/s]\u001b[A\n",
      " 86%|########5 | 66/77 [00:00<00:00, 89.60it/s]\u001b[A\n",
      " 99%|#########8| 76/77 [00:00<00:00, 90.95it/s]\u001b[A\n",
      " 60%|█████▉    | 529/884 [00:24<00:52,  6.76it/s]A"
     ]
    },
    {
     "name": "stdout",
     "output_type": "stream",
     "text": [
      "{'ade': 0.45431507, 'fde': 0.9921314}\n",
      "\t last loss:0.000240907, eval on validation:['ade: 0.45431507', 'fde: 0.9921314'], (best ade:0.44815108 at step 27600) \n"
     ]
    },
    {
     "name": "stderr",
     "output_type": "stream",
     "text": [
      " 93%|█████████▎| 826/884 [00:36<00:02, 24.74it/s]\n",
      "  0%|          | 0/77 [00:00<?, ?it/s]\u001b[A"
     ]
    },
    {
     "name": "stdout",
     "output_type": "stream",
     "text": [
      "\tsaving model 30000...\n",
      "\tdone\n",
      "Evaluating\n"
     ]
    },
    {
     "name": "stderr",
     "output_type": "stream",
     "text": [
      "\n",
      " 13%|#2        | 10/77 [00:00<00:00, 95.64it/s]\u001b[A\n",
      " 22%|##2       | 17/77 [00:00<00:00, 83.19it/s]\u001b[A\n",
      " 32%|###2      | 25/77 [00:00<00:00, 78.31it/s]\u001b[A\n",
      " 42%|####1     | 32/77 [00:00<00:00, 74.35it/s]\u001b[A\n",
      " 53%|#####3    | 41/77 [00:00<00:00, 76.98it/s]\u001b[A\n",
      " 66%|######6   | 51/77 [00:00<00:00, 80.79it/s]\u001b[A\n",
      " 78%|#######7  | 60/77 [00:00<00:00, 82.64it/s]\u001b[A\n",
      " 90%|########9 | 69/77 [00:00<00:00, 83.25it/s]\u001b[A\n",
      " 94%|█████████▍| 832/884 [00:37<00:06,  8.36it/s]A"
     ]
    },
    {
     "name": "stdout",
     "output_type": "stream",
     "text": [
      "{'ade': 0.44825432, 'fde': 0.9843412}\n",
      "\t last loss:0.000336884, eval on validation:['ade: 0.44825432', 'fde: 0.9843412'], (best ade:0.44815108 at step 27600) \n"
     ]
    },
    {
     "name": "stderr",
     "output_type": "stream",
     "text": [
      "100%|██████████| 884/884 [00:39<00:00, 22.11it/s]\n",
      "  0%|          | 1/884 [00:00<01:29,  9.92it/s]"
     ]
    },
    {
     "name": "stdout",
     "output_type": "stream",
     "text": [
      "('Epoca 35.', 'lr:', 0.0001262269)\n"
     ]
    },
    {
     "name": "stderr",
     "output_type": "stream",
     "text": [
      " 27%|██▋       | 241/884 [00:09<00:26, 24.48it/s]\n",
      "  0%|          | 0/77 [00:00<?, ?it/s]"
     ]
    },
    {
     "name": "stdout",
     "output_type": "stream",
     "text": [
      "\tsaving model 30300...\n",
      "\tdone\n",
      "Evaluating\n"
     ]
    },
    {
     "name": "stderr",
     "output_type": "stream",
     "text": [
      "\u001b[A\n",
      " 12%|#1        | 9/77 [00:00<00:00, 85.46it/s]\u001b[A\n",
      " 23%|##3       | 18/77 [00:00<00:00, 85.08it/s]\u001b[A\n",
      " 35%|###5      | 27/77 [00:00<00:00, 84.84it/s]\u001b[A\n",
      " 43%|####2     | 33/77 [00:00<00:00, 71.65it/s]\u001b[A\n",
      " 51%|#####     | 39/77 [00:00<00:00, 66.25it/s]\u001b[A\n",
      " 60%|#####9    | 46/77 [00:00<00:00, 66.47it/s]\u001b[A\n",
      " 71%|#######1  | 55/77 [00:00<00:00, 70.50it/s]\u001b[A\n",
      " 81%|########  | 62/77 [00:00<00:00, 68.76it/s]\u001b[A\n",
      " 92%|#########2| 71/77 [00:00<00:00, 72.80it/s]\u001b[A\n",
      " 28%|██▊       | 247/884 [00:11<01:21,  7.77it/s]A"
     ]
    },
    {
     "name": "stdout",
     "output_type": "stream",
     "text": [
      "{'ade': 0.44879788, 'fde': 0.9810826}\n",
      "\t last loss:0.000376682, eval on validation:['ade: 0.44879788', 'fde: 0.9810826'], (best ade:0.44815108 at step 27600) \n"
     ]
    },
    {
     "name": "stderr",
     "output_type": "stream",
     "text": [
      " 61%|██████▏   | 542/884 [00:24<00:13, 24.73it/s]\n"
     ]
    },
    {
     "name": "stdout",
     "output_type": "stream",
     "text": [
      "\tsaving model 30600...\n",
      "\tdone\n",
      "Evaluating\n"
     ]
    },
    {
     "name": "stderr",
     "output_type": "stream",
     "text": [
      "  0%|          | 0/77 [00:00<?, ?it/s]\u001b[A\n",
      " 12%|#1        | 9/77 [00:00<00:00, 88.41it/s]\u001b[A\n",
      " 21%|##        | 16/77 [00:00<00:00, 81.37it/s]\u001b[A\n",
      " 30%|##9       | 23/77 [00:00<00:00, 76.66it/s]\u001b[A\n",
      " 39%|###8      | 30/77 [00:00<00:00, 72.32it/s]\u001b[A\n",
      " 49%|####9     | 38/77 [00:00<00:00, 74.05it/s]\u001b[A\n",
      " 61%|######1   | 47/77 [00:00<00:00, 76.96it/s]\u001b[A\n",
      " 73%|#######2  | 56/77 [00:00<00:00, 79.74it/s]\u001b[A\n",
      " 84%|########4 | 65/77 [00:00<00:00, 82.36it/s]\u001b[A\n",
      " 96%|#########6| 74/77 [00:00<00:00, 83.02it/s]\u001b[A\n",
      " 62%|██████▏   | 548/884 [00:25<00:41,  8.11it/s]A"
     ]
    },
    {
     "name": "stdout",
     "output_type": "stream",
     "text": [
      "{'ade': 0.44815204, 'fde': 0.9822302}\n",
      "\t last loss:0.000145375, eval on validation:['ade: 0.44815204', 'fde: 0.9822302'], (best ade:0.44815108 at step 27600) \n"
     ]
    },
    {
     "name": "stderr",
     "output_type": "stream",
     "text": [
      " 95%|█████████▌| 842/884 [00:37<00:01, 22.11it/s]\n",
      "  0%|          | 0/77 [00:00<?, ?it/s]\u001b[A"
     ]
    },
    {
     "name": "stdout",
     "output_type": "stream",
     "text": [
      "\tsaving model 30900...\n",
      "\tdone\n",
      "Evaluating\n"
     ]
    },
    {
     "name": "stderr",
     "output_type": "stream",
     "text": [
      "\n",
      " 12%|#1        | 9/77 [00:00<00:00, 83.75it/s]\u001b[A\n",
      " 19%|#9        | 15/77 [00:00<00:00, 72.38it/s]\u001b[A\n",
      " 29%|##8       | 22/77 [00:00<00:00, 69.10it/s]\u001b[A\n",
      " 38%|###7      | 29/77 [00:00<00:00, 69.27it/s]\u001b[A\n",
      " 45%|####5     | 35/77 [00:00<00:00, 65.48it/s]\u001b[A\n",
      " 57%|#####7    | 44/77 [00:00<00:00, 69.01it/s]\u001b[A\n",
      " 69%|######8   | 53/77 [00:00<00:00, 73.04it/s]\u001b[A\n",
      " 81%|########  | 62/77 [00:00<00:00, 76.12it/s]\u001b[A\n",
      " 92%|#########2| 71/77 [00:00<00:00, 78.09it/s]\u001b[A\n",
      " 96%|█████████▌| 845/884 [00:39<00:06,  5.93it/s]A"
     ]
    },
    {
     "name": "stdout",
     "output_type": "stream",
     "text": [
      "{'ade': 0.45212373, 'fde': 0.99435407}\n",
      "\t last loss:0.000365830, eval on validation:['ade: 0.45212373', 'fde: 0.99435407'], (best ade:0.44815108 at step 27600) \n"
     ]
    },
    {
     "name": "stderr",
     "output_type": "stream",
     "text": [
      "100%|██████████| 884/884 [00:40<00:00, 20.67it/s]\n",
      "  0%|          | 1/884 [00:00<01:32,  9.53it/s]"
     ]
    },
    {
     "name": "stdout",
     "output_type": "stream",
     "text": [
      "('Epoca 36.', 'lr:', 0.0001262269)\n"
     ]
    },
    {
     "name": "stderr",
     "output_type": "stream",
     "text": [
      " 29%|██▉       | 259/884 [00:10<00:23, 26.60it/s]\n",
      "  0%|          | 0/77 [00:00<?, ?it/s]\u001b[A"
     ]
    },
    {
     "name": "stdout",
     "output_type": "stream",
     "text": [
      "\tsaving model 31200...\n",
      "\tdone\n",
      "Evaluating\n"
     ]
    },
    {
     "name": "stderr",
     "output_type": "stream",
     "text": [
      "\n",
      " 13%|#2        | 10/77 [00:00<00:00, 92.33it/s]\u001b[A\n",
      " 23%|##3       | 18/77 [00:00<00:00, 87.69it/s]\u001b[A\n",
      " 34%|###3      | 26/77 [00:00<00:00, 83.37it/s]\u001b[A\n",
      " 44%|####4     | 34/77 [00:00<00:00, 81.41it/s]\u001b[A\n",
      " 57%|#####7    | 44/77 [00:00<00:00, 84.48it/s]\u001b[A\n",
      " 69%|######8   | 53/77 [00:00<00:00, 84.15it/s]\u001b[A\n",
      " 81%|########  | 62/77 [00:00<00:00, 83.37it/s]\u001b[A\n",
      " 92%|#########2| 71/77 [00:00<00:00, 84.18it/s]\u001b[A\n",
      " 30%|██▉       | 262/884 [00:11<01:33,  6.65it/s]A"
     ]
    },
    {
     "name": "stdout",
     "output_type": "stream",
     "text": [
      "{'ade': 0.44970804, 'fde': 0.98102325}\n",
      "\t last loss:0.000233606, eval on validation:['ade: 0.44970804', 'fde: 0.98102325'], (best ade:0.44815108 at step 27600) \n"
     ]
    },
    {
     "name": "stderr",
     "output_type": "stream",
     "text": [
      " 63%|██████▎   | 557/884 [00:23<00:14, 23.20it/s]"
     ]
    },
    {
     "name": "stdout",
     "output_type": "stream",
     "text": [
      "\tsaving model 31500...\n"
     ]
    },
    {
     "name": "stderr",
     "output_type": "stream",
     "text": [
      "\n",
      "  0%|          | 0/77 [00:00<?, ?it/s]\u001b[A\n",
      "  9%|9         | 7/77 [00:00<00:01, 68.33it/s]\u001b[A"
     ]
    },
    {
     "name": "stdout",
     "output_type": "stream",
     "text": [
      "\tdone\n",
      "Evaluating\n"
     ]
    },
    {
     "name": "stderr",
     "output_type": "stream",
     "text": [
      "\n",
      " 16%|#5        | 12/77 [00:00<00:01, 61.27it/s]\u001b[A\n",
      " 22%|##2       | 17/77 [00:00<00:01, 56.71it/s]\u001b[A\n",
      " 29%|##8       | 22/77 [00:00<00:01, 51.30it/s]\u001b[A\n",
      " 35%|###5      | 27/77 [00:00<00:01, 49.87it/s]\u001b[A\n",
      " 44%|####4     | 34/77 [00:00<00:00, 53.94it/s]\u001b[A\n",
      " 52%|#####1    | 40/77 [00:00<00:00, 54.70it/s]\u001b[A\n",
      " 61%|######1   | 47/77 [00:00<00:00, 57.55it/s]\u001b[A\n",
      " 69%|######8   | 53/77 [00:00<00:00, 57.47it/s]\u001b[A\n",
      " 78%|#######7  | 60/77 [00:01<00:00, 60.11it/s]\u001b[A\n",
      " 87%|########7 | 67/77 [00:01<00:00, 61.94it/s]\u001b[A\n",
      " 96%|#########6| 74/77 [00:01<00:00, 63.09it/s]\u001b[A\n",
      " 64%|██████▎   | 562/884 [00:25<00:51,  6.28it/s]A"
     ]
    },
    {
     "name": "stdout",
     "output_type": "stream",
     "text": [
      "{'ade': 0.4505515, 'fde': 0.98709613}\n",
      "\t last loss:0.000271119, eval on validation:['ade: 0.4505515', 'fde: 0.98709613'], (best ade:0.44815108 at step 27600) \n"
     ]
    },
    {
     "name": "stderr",
     "output_type": "stream",
     "text": [
      " 97%|█████████▋| 857/884 [00:38<00:01, 26.12it/s]\n",
      "  0%|          | 0/77 [00:00<?, ?it/s]\u001b[A"
     ]
    },
    {
     "name": "stdout",
     "output_type": "stream",
     "text": [
      "\tsaving model 31800...\n",
      "\tdone\n",
      "Evaluating\n"
     ]
    },
    {
     "name": "stderr",
     "output_type": "stream",
     "text": [
      "\n",
      " 12%|#1        | 9/77 [00:00<00:00, 87.67it/s]\u001b[A\n",
      " 21%|##        | 16/77 [00:00<00:00, 78.88it/s]\u001b[A\n",
      " 30%|##9       | 23/77 [00:00<00:00, 75.34it/s]\u001b[A\n",
      " 40%|####      | 31/77 [00:00<00:00, 75.63it/s]\u001b[A\n",
      " 53%|#####3    | 41/77 [00:00<00:00, 78.53it/s]\u001b[A\n",
      " 65%|######4   | 50/77 [00:00<00:00, 79.60it/s]\u001b[A\n",
      " 78%|#######7  | 60/77 [00:00<00:00, 83.33it/s]\u001b[A\n",
      " 90%|########9 | 69/77 [00:00<00:00, 84.83it/s]\u001b[A\n",
      " 98%|█████████▊| 863/884 [00:39<00:02,  8.38it/s]A"
     ]
    },
    {
     "name": "stdout",
     "output_type": "stream",
     "text": [
      "{'ade': 0.4515554, 'fde': 0.9885973}\n",
      "\t last loss:0.000348263, eval on validation:['ade: 0.4515554', 'fde: 0.9885973'], (best ade:0.44815108 at step 27600) \n"
     ]
    },
    {
     "name": "stderr",
     "output_type": "stream",
     "text": [
      "100%|██████████| 884/884 [00:40<00:00, 21.33it/s]\n",
      "  0%|          | 2/884 [00:00<00:49, 17.99it/s]"
     ]
    },
    {
     "name": "stdout",
     "output_type": "stream",
     "text": [
      "('Epoca 37.', 'lr:', 0.00010729288)\n"
     ]
    },
    {
     "name": "stderr",
     "output_type": "stream",
     "text": [
      " 31%|███       | 274/884 [00:13<00:23, 25.65it/s]\n",
      "  0%|          | 0/77 [00:00<?, ?it/s]\u001b[A"
     ]
    },
    {
     "name": "stdout",
     "output_type": "stream",
     "text": [
      "\tsaving model 32100...\n",
      "\tdone\n",
      "Evaluating\n"
     ]
    },
    {
     "name": "stderr",
     "output_type": "stream",
     "text": [
      "\n",
      " 12%|#1        | 9/77 [00:00<00:00, 85.69it/s]\u001b[A\n",
      " 19%|#9        | 15/77 [00:00<00:00, 75.45it/s]\u001b[A\n",
      " 29%|##8       | 22/77 [00:00<00:00, 71.30it/s]\u001b[A\n",
      " 35%|###5      | 27/77 [00:00<00:00, 63.03it/s]\u001b[A\n",
      " 45%|####5     | 35/77 [00:00<00:00, 66.40it/s]\u001b[A\n",
      " 56%|#####5    | 43/77 [00:00<00:00, 69.10it/s]\u001b[A\n",
      " 68%|######7   | 52/77 [00:00<00:00, 74.15it/s]\u001b[A\n",
      " 79%|#######9  | 61/77 [00:00<00:00, 77.94it/s]\u001b[A\n",
      " 91%|######### | 70/77 [00:00<00:00, 80.35it/s]\u001b[A\n",
      " 32%|███▏      | 280/884 [00:14<01:15,  8.01it/s]A"
     ]
    },
    {
     "name": "stdout",
     "output_type": "stream",
     "text": [
      "{'ade': 0.4496796, 'fde': 0.98387206}\n",
      "\t last loss:0.000140593, eval on validation:['ade: 0.4496796', 'fde: 0.98387206'], (best ade:0.44815108 at step 27600) \n"
     ]
    },
    {
     "name": "stderr",
     "output_type": "stream",
     "text": [
      " 65%|██████▍   | 574/884 [00:26<00:12, 24.43it/s]"
     ]
    },
    {
     "name": "stdout",
     "output_type": "stream",
     "text": [
      "\tsaving model 32400...\n"
     ]
    },
    {
     "name": "stderr",
     "output_type": "stream",
     "text": [
      "\n",
      "  0%|          | 0/77 [00:00<?, ?it/s]\u001b[A\n",
      " 10%|#         | 8/77 [00:00<00:00, 78.01it/s]\u001b[A\n",
      " 21%|##        | 16/77 [00:00<00:00, 75.54it/s]\u001b[A\n",
      " 30%|##9       | 23/77 [00:00<00:00, 72.79it/s]\u001b[A\n",
      " 39%|###8      | 30/77 [00:00<00:00, 70.12it/s]\u001b[A\n",
      " 49%|####9     | 38/77 [00:00<00:00, 71.64it/s]\u001b[A\n",
      " 60%|#####9    | 46/77 [00:00<00:00, 73.34it/s]\u001b[A\n",
      " 71%|#######1  | 55/77 [00:00<00:00, 77.55it/s]\u001b[A\n",
      " 83%|########3 | 64/77 [00:00<00:00, 79.92it/s]\u001b[A\n",
      " 94%|#########3| 72/77 [00:00<00:00, 79.58it/s]\u001b[A\n",
      " 66%|██████▌   | 580/884 [00:28<00:38,  7.92it/s]A"
     ]
    },
    {
     "name": "stdout",
     "output_type": "stream",
     "text": [
      "\tdone\n",
      "Evaluating\n",
      "{'ade': 0.4485468, 'fde': 0.9765223}\n",
      "\t last loss:0.000238902, eval on validation:['ade: 0.4485468', 'fde: 0.9765223'], (best ade:0.44815108 at step 27600) \n"
     ]
    },
    {
     "name": "stderr",
     "output_type": "stream",
     "text": [
      " 99%|█████████▉| 874/884 [00:41<00:00, 22.45it/s]"
     ]
    },
    {
     "name": "stdout",
     "output_type": "stream",
     "text": [
      "\tsaving model 32700...\n"
     ]
    },
    {
     "name": "stderr",
     "output_type": "stream",
     "text": [
      "\n",
      "  0%|          | 0/77 [00:00<?, ?it/s]\u001b[A\n",
      " 10%|#         | 8/77 [00:00<00:00, 75.92it/s]\u001b[A"
     ]
    },
    {
     "name": "stdout",
     "output_type": "stream",
     "text": [
      "\tdone\n",
      "Evaluating\n"
     ]
    },
    {
     "name": "stderr",
     "output_type": "stream",
     "text": [
      "\n",
      " 18%|#8        | 14/77 [00:00<00:00, 68.66it/s]\u001b[A\n",
      " 25%|##4       | 19/77 [00:00<00:00, 61.35it/s]\u001b[A\n",
      " 31%|###1      | 24/77 [00:00<00:00, 55.41it/s]\u001b[A\n",
      " 40%|####      | 31/77 [00:00<00:00, 58.03it/s]\u001b[A\n",
      " 49%|####9     | 38/77 [00:00<00:00, 59.09it/s]\u001b[A\n",
      " 58%|#####8    | 45/77 [00:00<00:00, 61.17it/s]\u001b[A\n",
      " 69%|######8   | 53/77 [00:00<00:00, 64.57it/s]\u001b[A\n",
      " 79%|#######9  | 61/77 [00:00<00:00, 67.31it/s]\u001b[A\n",
      " 90%|########9 | 69/77 [00:01<00:00, 69.25it/s]\u001b[A\n",
      "100%|##########| 77/77 [00:01<00:00, 70.66it/s]\u001b[A"
     ]
    },
    {
     "name": "stdout",
     "output_type": "stream",
     "text": [
      "{'ade': 0.4480036, 'fde': 0.97692984}\n",
      "\t last loss:0.000199572, eval on validation:['ade: 0.4480036', 'fde: 0.97692984'], (best ade:0.44815108 at step 27600) \n",
      "\t saving best model...\n"
     ]
    },
    {
     "name": "stderr",
     "output_type": "stream",
     "text": [
      "\r",
      " 99%|█████████▉| 877/884 [00:42<00:01,  4.73it/s]"
     ]
    },
    {
     "name": "stdout",
     "output_type": "stream",
     "text": [
      "\t done.\n"
     ]
    },
    {
     "name": "stderr",
     "output_type": "stream",
     "text": [
      "100%|██████████| 884/884 [00:43<00:00,  9.21it/s]\n",
      "  0%|          | 1/884 [00:00<01:43,  8.50it/s]"
     ]
    },
    {
     "name": "stdout",
     "output_type": "stream",
     "text": [
      "('Epoca 38.', 'lr:', 0.00010729288)\n"
     ]
    },
    {
     "name": "stderr",
     "output_type": "stream",
     "text": [
      " 33%|███▎      | 289/884 [00:12<00:24, 24.73it/s]\n",
      "  0%|          | 0/77 [00:00<?, ?it/s]\u001b[A"
     ]
    },
    {
     "name": "stdout",
     "output_type": "stream",
     "text": [
      "\tsaving model 33000...\n",
      "\tdone\n",
      "Evaluating\n"
     ]
    },
    {
     "name": "stderr",
     "output_type": "stream",
     "text": [
      "\n",
      " 12%|#1        | 9/77 [00:00<00:00, 82.33it/s]\u001b[A\n",
      " 21%|##        | 16/77 [00:00<00:00, 74.45it/s]\u001b[A\n",
      " 30%|##9       | 23/77 [00:00<00:00, 69.68it/s]\u001b[A\n",
      " 38%|###7      | 29/77 [00:00<00:00, 64.69it/s]\u001b[A\n",
      " 49%|####9     | 38/77 [00:00<00:00, 69.14it/s]\u001b[A\n",
      " 60%|#####9    | 46/77 [00:00<00:00, 71.70it/s]\u001b[A\n",
      " 69%|######8   | 53/77 [00:00<00:00, 69.77it/s]\u001b[A\n",
      " 79%|#######9  | 61/77 [00:00<00:00, 72.52it/s]\u001b[A\n",
      " 92%|#########2| 71/77 [00:00<00:00, 77.42it/s]\u001b[A\n",
      "100%|##########| 77/77 [00:01<00:00, 73.41it/s]\u001b[A"
     ]
    },
    {
     "name": "stdout",
     "output_type": "stream",
     "text": [
      "{'ade': 0.44211254, 'fde': 0.9612438}\n",
      "\t last loss:0.000481454, eval on validation:['ade: 0.44211254', 'fde: 0.9612438'], (best ade:0.4480036 at step 32700) \n",
      "\t saving best model...\n"
     ]
    },
    {
     "name": "stderr",
     "output_type": "stream",
     "text": [
      " 33%|███▎      | 295/884 [00:13<01:23,  7.03it/s]"
     ]
    },
    {
     "name": "stdout",
     "output_type": "stream",
     "text": [
      "\t done.\n"
     ]
    },
    {
     "name": "stderr",
     "output_type": "stream",
     "text": [
      " 67%|██████▋   | 589/884 [00:25<00:12, 24.48it/s]\n",
      "  0%|          | 0/77 [00:00<?, ?it/s]\u001b[A"
     ]
    },
    {
     "name": "stdout",
     "output_type": "stream",
     "text": [
      "\tsaving model 33300...\n",
      "\tdone\n",
      "Evaluating\n"
     ]
    },
    {
     "name": "stderr",
     "output_type": "stream",
     "text": [
      "\n",
      " 12%|#1        | 9/77 [00:00<00:00, 85.18it/s]\u001b[A\n",
      " 21%|##        | 16/77 [00:00<00:00, 78.72it/s]\u001b[A\n",
      " 30%|##9       | 23/77 [00:00<00:00, 71.82it/s]\u001b[A\n",
      " 38%|###7      | 29/77 [00:00<00:00, 66.33it/s]\u001b[A\n",
      " 48%|####8     | 37/77 [00:00<00:00, 69.02it/s]\u001b[A\n",
      " 57%|#####7    | 44/77 [00:00<00:00, 68.24it/s]\u001b[A\n",
      " 68%|######7   | 52/77 [00:00<00:00, 70.85it/s]\u001b[A\n",
      " 79%|#######9  | 61/77 [00:00<00:00, 74.26it/s]\u001b[A\n",
      " 90%|########9 | 69/77 [00:00<00:00, 73.64it/s]\u001b[A\n",
      " 67%|██████▋   | 595/884 [00:27<00:38,  7.49it/s]A"
     ]
    },
    {
     "name": "stdout",
     "output_type": "stream",
     "text": [
      "{'ade': 0.45177472, 'fde': 0.987069}\n",
      "\t last loss:0.000340357, eval on validation:['ade: 0.45177472', 'fde: 0.987069'], (best ade:0.44211254 at step 33000) \n"
     ]
    },
    {
     "name": "stderr",
     "output_type": "stream",
     "text": [
      "100%|██████████| 884/884 [00:38<00:00, 22.67it/s]\n",
      "  0%|          | 2/884 [00:00<00:55, 15.85it/s]"
     ]
    },
    {
     "name": "stdout",
     "output_type": "stream",
     "text": [
      "('Epoca 39.', 'lr:', 9.119895e-05)\n"
     ]
    },
    {
     "name": "stderr",
     "output_type": "stream",
     "text": [
      "  1%|          | 5/884 [00:00<00:49, 17.80it/s]\n",
      "  0%|          | 0/77 [00:00<?, ?it/s]\u001b[A"
     ]
    },
    {
     "name": "stdout",
     "output_type": "stream",
     "text": [
      "\tsaving model 33600...\n",
      "\tdone\n",
      "Evaluating\n"
     ]
    },
    {
     "name": "stderr",
     "output_type": "stream",
     "text": [
      "\n",
      " 12%|#1        | 9/77 [00:00<00:00, 85.75it/s]\u001b[A\n",
      " 21%|##        | 16/77 [00:00<00:00, 80.10it/s]\u001b[A\n",
      " 30%|##9       | 23/77 [00:00<00:00, 75.07it/s]\u001b[A\n",
      " 38%|###7      | 29/77 [00:00<00:00, 69.67it/s]\u001b[A\n",
      " 49%|####9     | 38/77 [00:00<00:00, 72.60it/s]\u001b[A\n",
      " 61%|######1   | 47/77 [00:00<00:00, 75.31it/s]\u001b[A\n",
      " 73%|#######2  | 56/77 [00:00<00:00, 78.92it/s]\u001b[A\n",
      " 86%|########5 | 66/77 [00:00<00:00, 82.23it/s]\u001b[A\n",
      " 97%|#########7| 75/77 [00:00<00:00, 83.97it/s]\u001b[A\n",
      "  1%|          | 11/884 [00:01<01:53,  7.70it/s][A"
     ]
    },
    {
     "name": "stdout",
     "output_type": "stream",
     "text": [
      "{'ade': 0.4547597, 'fde': 0.99874485}\n",
      "\t last loss:0.000365543, eval on validation:['ade: 0.4547597', 'fde: 0.99874485'], (best ade:0.44211254 at step 33000) \n"
     ]
    },
    {
     "name": "stderr",
     "output_type": "stream",
     "text": [
      " 35%|███▍      | 307/884 [00:15<00:35, 16.20it/s]"
     ]
    },
    {
     "name": "stdout",
     "output_type": "stream",
     "text": [
      "\tsaving model 33900...\n"
     ]
    },
    {
     "name": "stderr",
     "output_type": "stream",
     "text": [
      "\n",
      "  0%|          | 0/77 [00:00<?, ?it/s]\u001b[A\n",
      " 10%|#         | 8/77 [00:00<00:00, 78.39it/s]\u001b[A\n",
      " 18%|#8        | 14/77 [00:00<00:00, 70.99it/s]\u001b[A\n",
      " 26%|##5       | 20/77 [00:00<00:00, 66.95it/s]\u001b[A\n",
      " 34%|###3      | 26/77 [00:00<00:00, 63.41it/s]\u001b[A\n",
      " 44%|####4     | 34/77 [00:00<00:00, 67.37it/s]\u001b[A\n",
      " 53%|#####3    | 41/77 [00:00<00:00, 67.13it/s]\u001b[A\n",
      " 65%|######4   | 50/77 [00:00<00:00, 71.34it/s]\u001b[A\n",
      " 75%|#######5  | 58/77 [00:00<00:00, 73.67it/s]\u001b[A\n",
      " 87%|########7 | 67/77 [00:00<00:00, 76.17it/s]\u001b[A\n",
      " 99%|#########8| 76/77 [00:01<00:00, 78.01it/s]\u001b[A\n",
      " 35%|███▍      | 309/884 [00:16<02:24,  3.98it/s]A"
     ]
    },
    {
     "name": "stdout",
     "output_type": "stream",
     "text": [
      "\tdone\n",
      "Evaluating\n",
      "{'ade': 0.44694096, 'fde': 0.9769813}\n",
      "\t last loss:0.000467063, eval on validation:['ade: 0.44694096', 'fde: 0.9769813'], (best ade:0.44211254 at step 33000) \n"
     ]
    },
    {
     "name": "stderr",
     "output_type": "stream",
     "text": [
      " 68%|██████▊   | 605/884 [00:28<00:10, 26.31it/s]\n",
      "  0%|          | 0/77 [00:00<?, ?it/s]\u001b[A"
     ]
    },
    {
     "name": "stdout",
     "output_type": "stream",
     "text": [
      "\tsaving model 34200...\n",
      "\tdone\n",
      "Evaluating\n"
     ]
    },
    {
     "name": "stderr",
     "output_type": "stream",
     "text": [
      "\n",
      " 12%|#1        | 9/77 [00:00<00:00, 89.22it/s]\u001b[A\n",
      " 22%|##2       | 17/77 [00:00<00:00, 85.67it/s]\u001b[A\n",
      " 31%|###1      | 24/77 [00:00<00:00, 78.36it/s]\u001b[A\n",
      " 39%|###8      | 30/77 [00:00<00:00, 70.54it/s]\u001b[A\n",
      " 49%|####9     | 38/77 [00:00<00:00, 72.90it/s]\u001b[A\n",
      " 60%|#####9    | 46/77 [00:00<00:00, 74.43it/s]\u001b[A\n",
      " 69%|######8   | 53/77 [00:00<00:00, 71.55it/s]\u001b[A\n",
      " 82%|########1 | 63/77 [00:00<00:00, 76.17it/s]\u001b[A\n",
      " 94%|#########3| 72/77 [00:00<00:00, 77.73it/s]\u001b[A\n",
      " 69%|██████▉   | 611/884 [00:30<00:33,  8.16it/s]A"
     ]
    },
    {
     "name": "stdout",
     "output_type": "stream",
     "text": [
      "{'ade': 0.44301978, 'fde': 0.96798885}\n",
      "\t last loss:0.000369173, eval on validation:['ade: 0.44301978', 'fde: 0.96798885'], (best ade:0.44211254 at step 33000) \n"
     ]
    },
    {
     "name": "stderr",
     "output_type": "stream",
     "text": [
      "100%|██████████| 884/884 [00:41<00:00, 24.47it/s]\n",
      "  0%|          | 1/884 [00:00<01:35,  9.28it/s]"
     ]
    },
    {
     "name": "stdout",
     "output_type": "stream",
     "text": [
      "('Epoca 40.', 'lr:', 9.119895e-05)\n"
     ]
    },
    {
     "name": "stderr",
     "output_type": "stream",
     "text": [
      "  2%|▏         | 22/884 [00:00<00:39, 21.67it/s]\n",
      "  0%|          | 0/77 [00:00<?, ?it/s]"
     ]
    },
    {
     "name": "stdout",
     "output_type": "stream",
     "text": [
      "\tsaving model 34500...\n",
      "\tdone\n",
      "Evaluating\n"
     ]
    },
    {
     "name": "stderr",
     "output_type": "stream",
     "text": [
      "\u001b[A\n",
      " 12%|#1        | 9/77 [00:00<00:00, 80.85it/s]\u001b[A\n",
      " 19%|#9        | 15/77 [00:00<00:00, 72.63it/s]\u001b[A\n",
      " 29%|##8       | 22/77 [00:00<00:00, 68.91it/s]\u001b[A\n",
      " 38%|###7      | 29/77 [00:00<00:00, 68.41it/s]\u001b[A\n",
      " 48%|####8     | 37/77 [00:00<00:00, 70.53it/s]\u001b[A\n",
      " 61%|######1   | 47/77 [00:00<00:00, 75.68it/s]\u001b[A\n",
      " 73%|#######2  | 56/77 [00:00<00:00, 79.18it/s]\u001b[A\n",
      " 86%|########5 | 66/77 [00:00<00:00, 82.39it/s]\u001b[A\n",
      " 99%|#########8| 76/77 [00:00<00:00, 85.02it/s]\u001b[A\n",
      "  3%|▎         | 28/884 [00:02<01:48,  7.90it/s][A"
     ]
    },
    {
     "name": "stdout",
     "output_type": "stream",
     "text": [
      "{'ade': 0.45147052, 'fde': 0.9940368}\n",
      "\t last loss:0.000267476, eval on validation:['ade: 0.45147052', 'fde: 0.9940368'], (best ade:0.44211254 at step 33000) \n"
     ]
    },
    {
     "name": "stderr",
     "output_type": "stream",
     "text": [
      " 36%|███▋      | 322/884 [00:14<00:22, 24.82it/s]\n",
      "  0%|          | 0/77 [00:00<?, ?it/s]\u001b[A"
     ]
    },
    {
     "name": "stdout",
     "output_type": "stream",
     "text": [
      "\tsaving model 34800...\n",
      "\tdone\n",
      "Evaluating\n"
     ]
    },
    {
     "name": "stderr",
     "output_type": "stream",
     "text": [
      "\n",
      " 10%|#         | 8/77 [00:00<00:00, 73.17it/s]\u001b[A\n",
      " 17%|#6        | 13/77 [00:00<00:01, 63.24it/s]\u001b[A\n",
      " 25%|##4       | 19/77 [00:00<00:00, 60.94it/s]\u001b[A\n",
      " 31%|###1      | 24/77 [00:00<00:00, 56.92it/s]\u001b[A\n",
      " 42%|####1     | 32/77 [00:00<00:00, 61.22it/s]\u001b[A\n",
      " 51%|#####     | 39/77 [00:00<00:00, 63.53it/s]\u001b[A\n",
      " 62%|######2   | 48/77 [00:00<00:00, 68.18it/s]\u001b[A\n",
      " 74%|#######4  | 57/77 [00:00<00:00, 71.84it/s]\u001b[A\n",
      " 86%|########5 | 66/77 [00:00<00:00, 75.13it/s]\u001b[A\n",
      " 96%|#########6| 74/77 [00:01<00:00, 76.48it/s]\u001b[A\n",
      " 37%|███▋      | 325/884 [00:15<01:36,  5.79it/s]A"
     ]
    },
    {
     "name": "stdout",
     "output_type": "stream",
     "text": [
      "{'ade': 0.4477883, 'fde': 0.9813046}\n",
      "\t last loss:0.000417356, eval on validation:['ade: 0.4477883', 'fde: 0.9813046'], (best ade:0.44211254 at step 33000) \n"
     ]
    },
    {
     "name": "stderr",
     "output_type": "stream",
     "text": [
      " 70%|███████   | 622/884 [00:28<00:10, 24.08it/s]\n",
      "  0%|          | 0/77 [00:00<?, ?it/s]\u001b[A"
     ]
    },
    {
     "name": "stdout",
     "output_type": "stream",
     "text": [
      "\tsaving model 35100...\n",
      "\tdone\n",
      "Evaluating\n"
     ]
    },
    {
     "name": "stderr",
     "output_type": "stream",
     "text": [
      "\n",
      " 10%|#         | 8/77 [00:00<00:00, 75.17it/s]\u001b[A\n",
      " 18%|#8        | 14/77 [00:00<00:00, 66.85it/s]\u001b[A\n",
      " 27%|##7       | 21/77 [00:00<00:00, 67.43it/s]\u001b[A\n",
      " 35%|###5      | 27/77 [00:00<00:00, 64.05it/s]\u001b[A\n",
      " 47%|####6     | 36/77 [00:00<00:00, 69.21it/s]\u001b[A\n",
      " 56%|#####5    | 43/77 [00:00<00:00, 68.77it/s]\u001b[A\n",
      " 68%|######7   | 52/77 [00:00<00:00, 74.01it/s]\u001b[A\n",
      " 81%|########  | 62/77 [00:00<00:00, 78.25it/s]\u001b[A\n",
      " 92%|#########2| 71/77 [00:00<00:00, 80.82it/s]\u001b[A\n",
      " 71%|███████   | 628/884 [00:30<00:32,  7.91it/s]A"
     ]
    },
    {
     "name": "stdout",
     "output_type": "stream",
     "text": [
      "{'ade': 0.44726875, 'fde': 0.9760752}\n",
      "\t last loss:0.000314162, eval on validation:['ade: 0.44726875', 'fde: 0.9760752'], (best ade:0.44211254 at step 33000) \n"
     ]
    },
    {
     "name": "stderr",
     "output_type": "stream",
     "text": [
      "100%|██████████| 884/884 [00:40<00:00, 21.79it/s]\n",
      "  0%|          | 1/884 [00:00<01:56,  7.59it/s]"
     ]
    },
    {
     "name": "stdout",
     "output_type": "stream",
     "text": [
      "('Epoca 41.', 'lr:', 7.751911e-05)\n"
     ]
    },
    {
     "name": "stderr",
     "output_type": "stream",
     "text": [
      "  4%|▍         | 37/884 [00:01<00:35, 24.12it/s]\n",
      "  0%|          | 0/77 [00:00<?, ?it/s]\u001b[A"
     ]
    },
    {
     "name": "stdout",
     "output_type": "stream",
     "text": [
      "\tsaving model 35400...\n",
      "\tdone\n",
      "Evaluating\n"
     ]
    },
    {
     "name": "stderr",
     "output_type": "stream",
     "text": [
      "\n",
      " 10%|#         | 8/77 [00:00<00:00, 79.57it/s]\u001b[A\n",
      " 18%|#8        | 14/77 [00:00<00:00, 71.34it/s]\u001b[A\n",
      " 26%|##5       | 20/77 [00:00<00:00, 64.62it/s]\u001b[A\n",
      " 35%|###5      | 27/77 [00:00<00:00, 65.43it/s]\u001b[A\n",
      " 44%|####4     | 34/77 [00:00<00:00, 65.83it/s]\u001b[A\n",
      " 56%|#####5    | 43/77 [00:00<00:00, 69.77it/s]\u001b[A\n",
      " 68%|######7   | 52/77 [00:00<00:00, 73.57it/s]\u001b[A\n",
      " 79%|#######9  | 61/77 [00:00<00:00, 75.77it/s]\u001b[A\n",
      " 91%|######### | 70/77 [00:00<00:00, 78.01it/s]\u001b[A\n",
      "  5%|▍         | 43/884 [00:03<01:49,  7.67it/s][A"
     ]
    },
    {
     "name": "stdout",
     "output_type": "stream",
     "text": [
      "{'ade': 0.44576624, 'fde': 0.97515416}\n",
      "\t last loss:0.000211510, eval on validation:['ade: 0.44576624', 'fde: 0.97515416'], (best ade:0.44211254 at step 33000) \n"
     ]
    },
    {
     "name": "stderr",
     "output_type": "stream",
     "text": [
      " 38%|███▊      | 337/884 [00:15<00:26, 20.60it/s]"
     ]
    },
    {
     "name": "stdout",
     "output_type": "stream",
     "text": [
      "\tsaving model 35700...\n"
     ]
    },
    {
     "name": "stderr",
     "output_type": "stream",
     "text": [
      "\n",
      "  0%|          | 0/77 [00:00<?, ?it/s]\u001b[A\n",
      "  9%|9         | 7/77 [00:00<00:01, 64.09it/s]\u001b[A"
     ]
    },
    {
     "name": "stdout",
     "output_type": "stream",
     "text": [
      "\tdone\n",
      "Evaluating\n"
     ]
    },
    {
     "name": "stderr",
     "output_type": "stream",
     "text": [
      "\n",
      " 16%|#5        | 12/77 [00:00<00:01, 58.37it/s]\u001b[A\n",
      " 21%|##        | 16/77 [00:00<00:01, 49.86it/s]\u001b[A\n",
      " 26%|##5       | 20/77 [00:00<00:01, 45.52it/s]\u001b[A\n",
      " 34%|###3      | 26/77 [00:00<00:01, 47.85it/s]\u001b[A\n",
      " 42%|####1     | 32/77 [00:00<00:00, 49.65it/s]\u001b[A\n",
      " 51%|#####     | 39/77 [00:00<00:00, 53.29it/s]\u001b[A\n",
      " 60%|#####9    | 46/77 [00:00<00:00, 56.56it/s]\u001b[A\n",
      " 69%|######8   | 53/77 [00:00<00:00, 58.51it/s]\u001b[A\n",
      " 77%|#######6  | 59/77 [00:01<00:00, 58.16it/s]\u001b[A\n",
      " 84%|########4 | 65/77 [00:01<00:00, 57.42it/s]\u001b[A\n",
      " 94%|#########3| 72/77 [00:01<00:00, 60.09it/s]\u001b[A\n",
      " 39%|███▉      | 343/884 [00:17<01:26,  6.26it/s]A"
     ]
    },
    {
     "name": "stdout",
     "output_type": "stream",
     "text": [
      "{'ade': 0.4447014, 'fde': 0.9693041}\n",
      "\t last loss:0.000248422, eval on validation:['ade: 0.4447014', 'fde: 0.9693041'], (best ade:0.44211254 at step 33000) \n"
     ]
    },
    {
     "name": "stderr",
     "output_type": "stream",
     "text": [
      " 72%|███████▏  | 637/884 [00:29<00:09, 24.81it/s]\n",
      "  0%|          | 0/77 [00:00<?, ?it/s]\u001b[A"
     ]
    },
    {
     "name": "stdout",
     "output_type": "stream",
     "text": [
      "\tsaving model 36000...\n",
      "\tdone\n",
      "Evaluating\n"
     ]
    },
    {
     "name": "stderr",
     "output_type": "stream",
     "text": [
      "\n",
      " 10%|#         | 8/77 [00:00<00:00, 76.42it/s]\u001b[A\n",
      " 18%|#8        | 14/77 [00:00<00:00, 68.26it/s]\u001b[A\n",
      " 27%|##7       | 21/77 [00:00<00:00, 66.10it/s]\u001b[A\n",
      " 35%|###5      | 27/77 [00:00<00:00, 62.18it/s]\u001b[A\n",
      " 45%|####5     | 35/77 [00:00<00:00, 66.04it/s]\u001b[A\n",
      " 56%|#####5    | 43/77 [00:00<00:00, 68.66it/s]\u001b[A\n",
      " 68%|######7   | 52/77 [00:00<00:00, 72.52it/s]\u001b[A\n",
      " 79%|#######9  | 61/77 [00:00<00:00, 75.03it/s]\u001b[A\n",
      " 90%|########9 | 69/77 [00:00<00:00, 75.63it/s]\u001b[A\n",
      " 73%|███████▎  | 643/884 [00:31<00:31,  7.62it/s]A"
     ]
    },
    {
     "name": "stdout",
     "output_type": "stream",
     "text": [
      "{'ade': 0.44571003, 'fde': 0.97446144}\n",
      "\t last loss:0.000376072, eval on validation:['ade: 0.44571003', 'fde: 0.97446144'], (best ade:0.44211254 at step 33000) \n"
     ]
    },
    {
     "name": "stderr",
     "output_type": "stream",
     "text": [
      "100%|██████████| 884/884 [00:41<00:00, 21.54it/s]\n",
      "  0%|          | 1/884 [00:00<01:39,  8.91it/s]"
     ]
    },
    {
     "name": "stdout",
     "output_type": "stream",
     "text": [
      "('Epoca 42.', 'lr:', 7.751911e-05)\n"
     ]
    },
    {
     "name": "stderr",
     "output_type": "stream",
     "text": [
      "  6%|▌         | 55/884 [00:02<00:31, 26.07it/s]\n",
      "  0%|          | 0/77 [00:00<?, ?it/s]\u001b[A"
     ]
    },
    {
     "name": "stdout",
     "output_type": "stream",
     "text": [
      "\tsaving model 36300...\n",
      "\tdone\n",
      "Evaluating\n"
     ]
    },
    {
     "name": "stderr",
     "output_type": "stream",
     "text": [
      "\n",
      " 12%|#1        | 9/77 [00:00<00:00, 85.53it/s]\u001b[A\n",
      " 21%|##        | 16/77 [00:00<00:00, 78.76it/s]\u001b[A\n",
      " 31%|###1      | 24/77 [00:00<00:00, 76.46it/s]\u001b[A\n",
      " 40%|####      | 31/77 [00:00<00:00, 73.73it/s]\u001b[A\n",
      " 51%|#####     | 39/77 [00:00<00:00, 74.76it/s]\u001b[A\n",
      " 62%|######2   | 48/77 [00:00<00:00, 76.52it/s]\u001b[A\n",
      " 74%|#######4  | 57/77 [00:00<00:00, 78.97it/s]\u001b[A\n",
      " 86%|########5 | 66/77 [00:00<00:00, 81.98it/s]\u001b[A\n",
      " 99%|#########8| 76/77 [00:00<00:00, 84.78it/s]\u001b[A\n",
      "  7%|▋         | 58/884 [00:03<02:07,  6.46it/s][A"
     ]
    },
    {
     "name": "stdout",
     "output_type": "stream",
     "text": [
      "{'ade': 0.45146704, 'fde': 0.98812497}\n",
      "\t last loss:0.000297924, eval on validation:['ade: 0.45146704', 'fde: 0.98812497'], (best ade:0.44211254 at step 33000) \n"
     ]
    },
    {
     "name": "stderr",
     "output_type": "stream",
     "text": [
      " 40%|███▉      | 353/884 [00:15<00:21, 24.43it/s]\n",
      "  0%|          | 0/77 [00:00<?, ?it/s]\u001b[A"
     ]
    },
    {
     "name": "stdout",
     "output_type": "stream",
     "text": [
      "\tsaving model 36600...\n",
      "\tdone\n",
      "Evaluating\n"
     ]
    },
    {
     "name": "stderr",
     "output_type": "stream",
     "text": [
      "\n",
      " 12%|#1        | 9/77 [00:00<00:00, 86.80it/s]\u001b[A\n",
      " 19%|#9        | 15/77 [00:00<00:00, 76.26it/s]\u001b[A\n",
      " 29%|##8       | 22/77 [00:00<00:00, 74.14it/s]\u001b[A\n",
      " 38%|###7      | 29/77 [00:00<00:00, 71.55it/s]\u001b[A\n",
      " 49%|####9     | 38/77 [00:00<00:00, 73.90it/s]\u001b[A\n",
      " 60%|#####9    | 46/77 [00:00<00:00, 73.60it/s]\u001b[A\n",
      " 70%|#######   | 54/77 [00:00<00:00, 75.14it/s]\u001b[A\n",
      " 82%|########1 | 63/77 [00:00<00:00, 78.05it/s]\u001b[A\n",
      " 95%|#########4| 73/77 [00:00<00:00, 81.56it/s]\u001b[A\n",
      " 41%|████      | 359/884 [00:17<01:04,  8.08it/s]A"
     ]
    },
    {
     "name": "stdout",
     "output_type": "stream",
     "text": [
      "{'ade': 0.4440918, 'fde': 0.9704293}\n",
      "\t last loss:0.000279698, eval on validation:['ade: 0.4440918', 'fde: 0.9704293'], (best ade:0.44211254 at step 33000) \n"
     ]
    },
    {
     "name": "stderr",
     "output_type": "stream",
     "text": [
      " 74%|███████▍  | 653/884 [00:30<00:10, 22.80it/s]"
     ]
    },
    {
     "name": "stdout",
     "output_type": "stream",
     "text": [
      "\tsaving model 36900...\n"
     ]
    },
    {
     "name": "stderr",
     "output_type": "stream",
     "text": [
      "\n",
      "  0%|          | 0/77 [00:00<?, ?it/s]\u001b[A\n",
      " 10%|#         | 8/77 [00:00<00:00, 74.69it/s]\u001b[A"
     ]
    },
    {
     "name": "stdout",
     "output_type": "stream",
     "text": [
      "\tdone\n",
      "Evaluating\n"
     ]
    },
    {
     "name": "stderr",
     "output_type": "stream",
     "text": [
      "\n",
      " 17%|#6        | 13/77 [00:00<00:00, 64.67it/s]\u001b[A\n",
      " 23%|##3       | 18/77 [00:00<00:01, 57.92it/s]\u001b[A\n",
      " 31%|###1      | 24/77 [00:00<00:00, 56.58it/s]\u001b[A\n",
      " 40%|####      | 31/77 [00:00<00:00, 59.15it/s]\u001b[A\n",
      " 51%|#####     | 39/77 [00:00<00:00, 62.70it/s]\u001b[A\n",
      " 61%|######1   | 47/77 [00:00<00:00, 65.27it/s]\u001b[A\n",
      " 71%|#######1  | 55/77 [00:00<00:00, 67.95it/s]\u001b[A\n",
      " 81%|########  | 62/77 [00:00<00:00, 65.21it/s]\u001b[A\n",
      " 91%|######### | 70/77 [00:01<00:00, 67.59it/s]\u001b[A\n",
      " 75%|███████▍  | 659/884 [00:31<00:32,  6.96it/s]A"
     ]
    },
    {
     "name": "stdout",
     "output_type": "stream",
     "text": [
      "{'ade': 0.449961, 'fde': 0.9861209}\n",
      "\t last loss:0.000244802, eval on validation:['ade: 0.449961', 'fde: 0.9861209'], (best ade:0.44211254 at step 33000) \n"
     ]
    },
    {
     "name": "stderr",
     "output_type": "stream",
     "text": [
      "100%|██████████| 884/884 [00:41<00:00, 21.48it/s]\n",
      "  0%|          | 1/884 [00:00<01:45,  8.37it/s]"
     ]
    },
    {
     "name": "stdout",
     "output_type": "stream",
     "text": [
      "('Epoca 43.', 'lr:', 6.589125e-05)\n"
     ]
    },
    {
     "name": "stderr",
     "output_type": "stream",
     "text": [
      "  8%|▊         | 70/884 [00:03<00:34, 23.67it/s]\n",
      "  0%|          | 0/77 [00:00<?, ?it/s]\u001b[A"
     ]
    },
    {
     "name": "stdout",
     "output_type": "stream",
     "text": [
      "\tsaving model 37200...\n",
      "\tdone\n",
      "Evaluating\n"
     ]
    },
    {
     "name": "stderr",
     "output_type": "stream",
     "text": [
      "\n",
      " 12%|#1        | 9/77 [00:00<00:00, 87.25it/s]\u001b[A\n",
      " 25%|##4       | 19/77 [00:00<00:00, 88.36it/s]\u001b[A\n",
      " 34%|###3      | 26/77 [00:00<00:00, 78.73it/s]\u001b[A\n",
      " 43%|####2     | 33/77 [00:00<00:00, 73.67it/s]\u001b[A\n",
      " 52%|#####1    | 40/77 [00:00<00:00, 70.73it/s]\u001b[A\n",
      " 64%|######3   | 49/77 [00:00<00:00, 74.57it/s]\u001b[A\n",
      " 74%|#######4  | 57/77 [00:00<00:00, 75.46it/s]\u001b[A\n",
      " 87%|########7 | 67/77 [00:00<00:00, 79.56it/s]\u001b[A\n",
      " 99%|#########8| 76/77 [00:00<00:00, 81.92it/s]\u001b[A\n",
      "  9%|▊         | 76/884 [00:04<01:39,  8.12it/s][A"
     ]
    },
    {
     "name": "stdout",
     "output_type": "stream",
     "text": [
      "{'ade': 0.44454315, 'fde': 0.97115123}\n",
      "\t last loss:0.000512367, eval on validation:['ade: 0.44454315', 'fde: 0.97115123'], (best ade:0.44211254 at step 33000) \n"
     ]
    },
    {
     "name": "stderr",
     "output_type": "stream",
     "text": [
      " 42%|████▏     | 370/884 [00:17<00:22, 22.36it/s]"
     ]
    },
    {
     "name": "stdout",
     "output_type": "stream",
     "text": [
      "\tsaving model 37500...\n"
     ]
    },
    {
     "name": "stderr",
     "output_type": "stream",
     "text": [
      "\n",
      "  0%|          | 0/77 [00:00<?, ?it/s]\u001b[A\n",
      " 10%|#         | 8/77 [00:00<00:00, 73.43it/s]\u001b[A\n",
      " 18%|#8        | 14/77 [00:00<00:00, 66.68it/s]\u001b[A\n",
      " 26%|##5       | 20/77 [00:00<00:00, 62.39it/s]\u001b[A\n",
      " 32%|###2      | 25/77 [00:00<00:00, 56.55it/s]\u001b[A\n",
      " 42%|####1     | 32/77 [00:00<00:00, 57.85it/s]\u001b[A\n",
      " 51%|#####     | 39/77 [00:00<00:00, 60.53it/s]\u001b[A\n",
      " 61%|######1   | 47/77 [00:00<00:00, 64.26it/s]\u001b[A\n",
      " 71%|#######1  | 55/77 [00:00<00:00, 66.75it/s]\u001b[A\n",
      " 82%|########1 | 63/77 [00:00<00:00, 69.02it/s]\u001b[A\n",
      " 92%|#########2| 71/77 [00:01<00:00, 70.66it/s]\u001b[A\n",
      " 42%|████▏     | 375/884 [00:18<01:13,  6.93it/s]A"
     ]
    },
    {
     "name": "stdout",
     "output_type": "stream",
     "text": [
      "\tdone\n",
      "Evaluating\n",
      "{'ade': 0.44577533, 'fde': 0.97417635}\n",
      "\t last loss:0.000302409, eval on validation:['ade: 0.44577533', 'fde: 0.97417635'], (best ade:0.44211254 at step 33000) \n"
     ]
    },
    {
     "name": "stderr",
     "output_type": "stream",
     "text": [
      " 76%|███████▌  | 669/884 [00:30<00:08, 24.65it/s]\n",
      "  0%|          | 0/77 [00:00<?, ?it/s]\u001b[A"
     ]
    },
    {
     "name": "stdout",
     "output_type": "stream",
     "text": [
      "\tsaving model 37800...\n",
      "\tdone\n",
      "Evaluating\n"
     ]
    },
    {
     "name": "stderr",
     "output_type": "stream",
     "text": [
      "\n",
      " 12%|#1        | 9/77 [00:00<00:00, 88.61it/s]\u001b[A\n",
      " 21%|##        | 16/77 [00:00<00:00, 79.12it/s]\u001b[A\n",
      " 32%|###2      | 25/77 [00:00<00:00, 81.87it/s]\u001b[A\n",
      " 44%|####4     | 34/77 [00:00<00:00, 83.54it/s]\u001b[A\n",
      " 56%|#####5    | 43/77 [00:00<00:00, 82.96it/s]\u001b[A\n",
      " 68%|######7   | 52/77 [00:00<00:00, 83.80it/s]\u001b[A\n",
      " 79%|#######9  | 61/77 [00:00<00:00, 85.39it/s]\u001b[A\n",
      " 91%|######### | 70/77 [00:00<00:00, 84.91it/s]\u001b[A\n",
      " 76%|███████▋  | 675/884 [00:32<00:24,  8.46it/s]A"
     ]
    },
    {
     "name": "stdout",
     "output_type": "stream",
     "text": [
      "{'ade': 0.44718537, 'fde': 0.9794171}\n",
      "\t last loss:0.000478429, eval on validation:['ade: 0.44718537', 'fde: 0.9794171'], (best ade:0.44211254 at step 33000) \n"
     ]
    },
    {
     "name": "stderr",
     "output_type": "stream",
     "text": [
      "100%|██████████| 884/884 [00:41<00:00, 21.50it/s]\n",
      "  0%|          | 1/884 [00:00<01:39,  8.91it/s]"
     ]
    },
    {
     "name": "stdout",
     "output_type": "stream",
     "text": [
      "('Epoca 44.', 'lr:', 6.589125e-05)\n"
     ]
    },
    {
     "name": "stderr",
     "output_type": "stream",
     "text": [
      " 10%|▉         | 87/884 [00:04<00:34, 22.79it/s]"
     ]
    },
    {
     "name": "stdout",
     "output_type": "stream",
     "text": [
      "\tsaving model 38100...\n"
     ]
    },
    {
     "name": "stderr",
     "output_type": "stream",
     "text": [
      "\n",
      "  0%|          | 0/77 [00:00<?, ?it/s]\u001b[A\n",
      " 10%|#         | 8/77 [00:00<00:00, 77.86it/s]\u001b[A"
     ]
    },
    {
     "name": "stdout",
     "output_type": "stream",
     "text": [
      "\tdone\n",
      "Evaluating\n"
     ]
    },
    {
     "name": "stderr",
     "output_type": "stream",
     "text": [
      "\n",
      " 21%|##        | 16/77 [00:00<00:00, 75.08it/s]\u001b[A\n",
      " 27%|##7       | 21/77 [00:00<00:00, 64.46it/s]\u001b[A\n",
      " 35%|###5      | 27/77 [00:00<00:00, 60.05it/s]\u001b[A\n",
      " 42%|####1     | 32/77 [00:00<00:00, 53.91it/s]\u001b[A\n",
      " 51%|#####     | 39/77 [00:00<00:00, 57.74it/s]\u001b[A\n",
      " 58%|#####8    | 45/77 [00:00<00:00, 57.69it/s]\u001b[A\n",
      " 69%|######8   | 53/77 [00:00<00:00, 62.03it/s]\u001b[A\n",
      " 79%|#######9  | 61/77 [00:00<00:00, 64.90it/s]\u001b[A\n",
      " 88%|########8 | 68/77 [00:01<00:00, 66.28it/s]\u001b[A\n",
      " 97%|#########7| 75/77 [00:01<00:00, 65.66it/s]\u001b[A\n",
      " 10%|█         | 90/884 [00:05<02:37,  5.05it/s][A"
     ]
    },
    {
     "name": "stdout",
     "output_type": "stream",
     "text": [
      "{'ade': 0.44768506, 'fde': 0.98077434}\n",
      "\t last loss:0.000341774, eval on validation:['ade: 0.44768506', 'fde: 0.98077434'], (best ade:0.44211254 at step 33000) \n"
     ]
    },
    {
     "name": "stderr",
     "output_type": "stream",
     "text": [
      " 44%|████▍     | 387/884 [00:17<00:20, 24.53it/s]\n",
      "  0%|          | 0/77 [00:00<?, ?it/s]\u001b[A"
     ]
    },
    {
     "name": "stdout",
     "output_type": "stream",
     "text": [
      "\tsaving model 38400...\n",
      "\tdone\n",
      "Evaluating\n"
     ]
    },
    {
     "name": "stderr",
     "output_type": "stream",
     "text": [
      "\n",
      " 12%|#1        | 9/77 [00:00<00:00, 88.14it/s]\u001b[A\n",
      " 21%|##        | 16/77 [00:00<00:00, 78.57it/s]\u001b[A\n",
      " 31%|###1      | 24/77 [00:00<00:00, 75.35it/s]\u001b[A\n",
      " 42%|####1     | 32/77 [00:00<00:00, 75.36it/s]\u001b[A\n",
      " 51%|#####     | 39/77 [00:00<00:00, 73.32it/s]\u001b[A\n",
      " 62%|######2   | 48/77 [00:00<00:00, 76.95it/s]\u001b[A\n",
      " 74%|#######4  | 57/77 [00:00<00:00, 79.32it/s]\u001b[A\n",
      " 86%|########5 | 66/77 [00:00<00:00, 82.03it/s]\u001b[A\n",
      " 99%|#########8| 76/77 [00:00<00:00, 84.52it/s]\u001b[A\n",
      " 44%|████▍     | 390/884 [00:19<01:18,  6.32it/s]A"
     ]
    },
    {
     "name": "stdout",
     "output_type": "stream",
     "text": [
      "{'ade': 0.4440787, 'fde': 0.9684395}\n",
      "\t last loss:0.000276421, eval on validation:['ade: 0.4440787', 'fde: 0.9684395'], (best ade:0.44211254 at step 33000) \n"
     ]
    },
    {
     "name": "stderr",
     "output_type": "stream",
     "text": [
      " 77%|███████▋  | 685/884 [00:34<00:09, 20.62it/s]\n",
      "  0%|          | 0/77 [00:00<?, ?it/s]\u001b[A"
     ]
    },
    {
     "name": "stdout",
     "output_type": "stream",
     "text": [
      "\tsaving model 38700...\n",
      "\tdone\n",
      "Evaluating\n"
     ]
    },
    {
     "name": "stderr",
     "output_type": "stream",
     "text": [
      "\n",
      " 12%|#1        | 9/77 [00:00<00:00, 85.08it/s]\u001b[A\n",
      " 23%|##3       | 18/77 [00:00<00:00, 84.81it/s]\u001b[A\n",
      " 32%|###2      | 25/77 [00:00<00:00, 77.97it/s]\u001b[A\n",
      " 42%|####1     | 32/77 [00:00<00:00, 72.50it/s]\u001b[A\n",
      " 53%|#####3    | 41/77 [00:00<00:00, 75.57it/s]\u001b[A\n",
      " 64%|######3   | 49/77 [00:00<00:00, 76.14it/s]\u001b[A\n",
      " 77%|#######6  | 59/77 [00:00<00:00, 80.59it/s]\u001b[A\n",
      " 88%|########8 | 68/77 [00:00<00:00, 82.91it/s]\u001b[A\n",
      " 78%|███████▊  | 691/884 [00:35<00:23,  8.13it/s]A"
     ]
    },
    {
     "name": "stdout",
     "output_type": "stream",
     "text": [
      "{'ade': 0.44518277, 'fde': 0.9746273}\n",
      "\t last loss:0.000347112, eval on validation:['ade: 0.44518277', 'fde: 0.9746273'], (best ade:0.44211254 at step 33000) \n"
     ]
    },
    {
     "name": "stderr",
     "output_type": "stream",
     "text": [
      "100%|██████████| 884/884 [00:43<00:00, 20.28it/s]\n",
      "  0%|          | 1/884 [00:00<01:39,  8.89it/s]"
     ]
    },
    {
     "name": "stdout",
     "output_type": "stream",
     "text": [
      "('Epoca 45.', 'lr:', 5.600756e-05)\n"
     ]
    },
    {
     "name": "stderr",
     "output_type": "stream",
     "text": [
      " 12%|█▏        | 103/884 [00:04<00:31, 24.85it/s]\n",
      "  0%|          | 0/77 [00:00<?, ?it/s]\u001b[A"
     ]
    },
    {
     "name": "stdout",
     "output_type": "stream",
     "text": [
      "\tsaving model 39000...\n",
      "\tdone\n",
      "Evaluating\n"
     ]
    },
    {
     "name": "stderr",
     "output_type": "stream",
     "text": [
      "\n",
      " 12%|#1        | 9/77 [00:00<00:00, 82.74it/s]\u001b[A\n",
      " 21%|##        | 16/77 [00:00<00:00, 75.52it/s]\u001b[A\n",
      " 29%|##8       | 22/77 [00:00<00:00, 69.58it/s]\u001b[A\n",
      " 38%|###7      | 29/77 [00:00<00:00, 68.69it/s]\u001b[A\n",
      " 47%|####6     | 36/77 [00:00<00:00, 68.47it/s]\u001b[A\n",
      " 58%|#####8    | 45/77 [00:00<00:00, 72.86it/s]\u001b[A\n",
      " 70%|#######   | 54/77 [00:00<00:00, 75.56it/s]\u001b[A\n",
      " 82%|########1 | 63/77 [00:00<00:00, 77.47it/s]\u001b[A\n",
      " 92%|#########2| 71/77 [00:00<00:00, 77.34it/s]\u001b[A\n",
      "100%|##########| 77/77 [00:01<00:00, 71.79it/s]\u001b[A"
     ]
    },
    {
     "name": "stdout",
     "output_type": "stream",
     "text": [
      "{'ade': 0.44334602, 'fde': 0.97054356}\n",
      "\t last loss:0.000273285, eval on validation:['ade: 0.44334602', 'fde: 0.97054356'], (best ade:0.44211254 at step 33000) \n"
     ]
    },
    {
     "name": "stderr",
     "output_type": "stream",
     "text": [
      " 45%|████▌     | 401/884 [00:19<00:18, 26.33it/s]\n",
      "  0%|          | 0/77 [00:00<?, ?it/s]\u001b[A"
     ]
    },
    {
     "name": "stdout",
     "output_type": "stream",
     "text": [
      "\tsaving model 39300...\n",
      "\tdone\n",
      "Evaluating\n"
     ]
    },
    {
     "name": "stderr",
     "output_type": "stream",
     "text": [
      "\n",
      " 12%|#1        | 9/77 [00:00<00:00, 89.47it/s]\u001b[A\n",
      " 19%|#9        | 15/77 [00:00<00:00, 75.94it/s]\u001b[A\n",
      " 29%|##8       | 22/77 [00:00<00:00, 71.90it/s]\u001b[A\n",
      " 40%|####      | 31/77 [00:00<00:00, 74.82it/s]\u001b[A\n",
      " 51%|#####     | 39/77 [00:00<00:00, 75.22it/s]\u001b[A\n",
      " 64%|######3   | 49/77 [00:00<00:00, 79.63it/s]\u001b[A\n",
      " 75%|#######5  | 58/77 [00:00<00:00, 81.89it/s]\u001b[A\n",
      " 87%|########7 | 67/77 [00:00<00:00, 83.74it/s]\u001b[A\n",
      " 99%|#########8| 76/77 [00:00<00:00, 83.30it/s]\u001b[A\n",
      "100%|##########| 77/77 [00:00<00:00, 79.18it/s]\u001b[A"
     ]
    },
    {
     "name": "stdout",
     "output_type": "stream",
     "text": [
      "{'ade': 0.4398978, 'fde': 0.9588055}\n",
      "\t last loss:0.000257696, eval on validation:['ade: 0.4398978', 'fde: 0.9588055'], (best ade:0.44211254 at step 33000) \n",
      "\t saving best model...\n",
      "\t done.\n"
     ]
    },
    {
     "name": "stderr",
     "output_type": "stream",
     "text": [
      " 79%|███████▉  | 701/884 [00:32<00:07, 24.88it/s]\n"
     ]
    },
    {
     "name": "stdout",
     "output_type": "stream",
     "text": [
      "\tsaving model 39600...\n",
      "\tdone\n",
      "Evaluating\n"
     ]
    },
    {
     "name": "stderr",
     "output_type": "stream",
     "text": [
      "  0%|          | 0/77 [00:00<?, ?it/s]\u001b[A\n",
      " 12%|#1        | 9/77 [00:00<00:00, 88.27it/s]\u001b[A\n",
      " 21%|##        | 16/77 [00:00<00:00, 77.96it/s]\u001b[A\n",
      " 30%|##9       | 23/77 [00:00<00:00, 74.18it/s]\u001b[A\n",
      " 38%|###7      | 29/77 [00:00<00:00, 68.14it/s]\u001b[A\n",
      " 49%|####9     | 38/77 [00:00<00:00, 71.21it/s]\u001b[A\n",
      " 60%|#####9    | 46/77 [00:00<00:00, 72.00it/s]\u001b[A\n",
      " 71%|#######1  | 55/77 [00:00<00:00, 75.58it/s]\u001b[A\n",
      " 83%|########3 | 64/77 [00:00<00:00, 76.77it/s]\u001b[A\n",
      " 95%|#########4| 73/77 [00:00<00:00, 78.49it/s]\u001b[A\n",
      " 80%|███████▉  | 707/884 [00:33<00:22,  7.81it/s]A"
     ]
    },
    {
     "name": "stdout",
     "output_type": "stream",
     "text": [
      "{'ade': 0.44699386, 'fde': 0.978396}\n",
      "\t last loss:0.000247175, eval on validation:['ade: 0.44699386', 'fde: 0.978396'], (best ade:0.4398978 at step 39300) \n"
     ]
    },
    {
     "name": "stderr",
     "output_type": "stream",
     "text": [
      "100%|██████████| 884/884 [00:41<00:00, 22.83it/s]\n",
      "  0%|          | 1/884 [00:00<01:42,  8.65it/s]"
     ]
    },
    {
     "name": "stdout",
     "output_type": "stream",
     "text": [
      "('Epoca 46.', 'lr:', 5.600756e-05)\n"
     ]
    },
    {
     "name": "stderr",
     "output_type": "stream",
     "text": [
      " 13%|█▎        | 118/884 [00:05<00:36, 21.09it/s]"
     ]
    },
    {
     "name": "stdout",
     "output_type": "stream",
     "text": [
      "\tsaving model 39900...\n"
     ]
    },
    {
     "name": "stderr",
     "output_type": "stream",
     "text": [
      "\n",
      "  0%|          | 0/77 [00:00<?, ?it/s]\u001b[A\n",
      "  8%|7         | 6/77 [00:00<00:01, 59.42it/s]\u001b[A"
     ]
    },
    {
     "name": "stdout",
     "output_type": "stream",
     "text": [
      "\tdone\n",
      "Evaluating\n"
     ]
    },
    {
     "name": "stderr",
     "output_type": "stream",
     "text": [
      "\n",
      " 14%|#4        | 11/77 [00:00<00:01, 56.14it/s]\u001b[A\n",
      " 21%|##        | 16/77 [00:00<00:01, 53.20it/s]\u001b[A\n",
      " 29%|##8       | 22/77 [00:00<00:01, 53.84it/s]\u001b[A\n",
      " 39%|###8      | 30/77 [00:00<00:00, 58.66it/s]\u001b[A\n",
      " 48%|####8     | 37/77 [00:00<00:00, 59.39it/s]\u001b[A\n",
      " 57%|#####7    | 44/77 [00:00<00:00, 62.05it/s]\u001b[A\n",
      " 68%|######7   | 52/77 [00:00<00:00, 65.57it/s]\u001b[A\n",
      " 78%|#######7  | 60/77 [00:00<00:00, 67.69it/s]\u001b[A\n",
      " 88%|########8 | 68/77 [00:01<00:00, 69.77it/s]\u001b[A\n",
      " 99%|#########8| 76/77 [00:01<00:00, 70.66it/s]\u001b[A\n",
      " 14%|█▎        | 121/884 [00:07<02:27,  5.17it/s]A"
     ]
    },
    {
     "name": "stdout",
     "output_type": "stream",
     "text": [
      "{'ade': 0.44725123, 'fde': 0.979644}\n",
      "\t last loss:0.000187458, eval on validation:['ade: 0.44725123', 'fde: 0.979644'], (best ade:0.4398978 at step 39300) \n"
     ]
    },
    {
     "name": "stderr",
     "output_type": "stream",
     "text": [
      " 47%|████▋     | 418/884 [00:19<00:19, 24.48it/s]"
     ]
    },
    {
     "name": "stdout",
     "output_type": "stream",
     "text": [
      "\tsaving model 40200...\n"
     ]
    },
    {
     "name": "stderr",
     "output_type": "stream",
     "text": [
      "\n",
      "  0%|          | 0/77 [00:00<?, ?it/s]\u001b[A\n",
      " 12%|#1        | 9/77 [00:00<00:00, 83.43it/s]\u001b[A"
     ]
    },
    {
     "name": "stdout",
     "output_type": "stream",
     "text": [
      "\tdone\n",
      "Evaluating\n"
     ]
    },
    {
     "name": "stderr",
     "output_type": "stream",
     "text": [
      "\n",
      " 18%|#8        | 14/77 [00:00<00:00, 69.37it/s]\u001b[A\n",
      " 27%|##7       | 21/77 [00:00<00:00, 66.93it/s]\u001b[A\n",
      " 36%|###6      | 28/77 [00:00<00:00, 66.63it/s]\u001b[A\n",
      " 47%|####6     | 36/77 [00:00<00:00, 69.17it/s]\u001b[A\n",
      " 56%|#####5    | 43/77 [00:00<00:00, 67.30it/s]\u001b[A\n",
      " 68%|######7   | 52/77 [00:00<00:00, 71.02it/s]\u001b[A\n",
      " 79%|#######9  | 61/77 [00:00<00:00, 74.10it/s]\u001b[A\n",
      " 90%|########9 | 69/77 [00:00<00:00, 74.86it/s]\u001b[A\n",
      " 48%|████▊     | 421/884 [00:20<01:18,  5.91it/s]A"
     ]
    },
    {
     "name": "stdout",
     "output_type": "stream",
     "text": [
      "{'ade': 0.442185, 'fde': 0.96540314}\n",
      "\t last loss:0.000323409, eval on validation:['ade: 0.442185', 'fde: 0.96540314'], (best ade:0.4398978 at step 39300) \n"
     ]
    },
    {
     "name": "stderr",
     "output_type": "stream",
     "text": [
      " 81%|████████  | 718/884 [00:33<00:08, 20.74it/s]"
     ]
    },
    {
     "name": "stdout",
     "output_type": "stream",
     "text": [
      "\tsaving model 40500...\n"
     ]
    },
    {
     "name": "stderr",
     "output_type": "stream",
     "text": [
      "\n",
      "  0%|          | 0/77 [00:00<?, ?it/s]\u001b[A\n",
      " 10%|#         | 8/77 [00:00<00:00, 70.10it/s]\u001b[A"
     ]
    },
    {
     "name": "stdout",
     "output_type": "stream",
     "text": [
      "\tdone\n",
      "Evaluating\n"
     ]
    },
    {
     "name": "stderr",
     "output_type": "stream",
     "text": [
      "\n",
      " 17%|#6        | 13/77 [00:00<00:01, 61.57it/s]\u001b[A\n",
      " 23%|##3       | 18/77 [00:00<00:01, 57.06it/s]\u001b[A\n",
      " 31%|###1      | 24/77 [00:00<00:00, 57.54it/s]\u001b[A\n",
      " 40%|####      | 31/77 [00:00<00:00, 58.52it/s]\u001b[A\n",
      " 49%|####9     | 38/77 [00:00<00:00, 61.31it/s]\u001b[A\n",
      " 60%|#####9    | 46/77 [00:00<00:00, 64.95it/s]\u001b[A\n",
      " 70%|#######   | 54/77 [00:00<00:00, 68.05it/s]\u001b[A\n",
      " 79%|#######9  | 61/77 [00:00<00:00, 68.15it/s]\u001b[A\n",
      " 90%|########9 | 69/77 [00:01<00:00, 70.33it/s]\u001b[A\n",
      " 82%|████████▏ | 721/884 [00:34<00:30,  5.33it/s]A"
     ]
    },
    {
     "name": "stdout",
     "output_type": "stream",
     "text": [
      "{'ade': 0.44756094, 'fde': 0.97972745}\n",
      "\t last loss:0.000474871, eval on validation:['ade: 0.44756094', 'fde: 0.97972745'], (best ade:0.4398978 at step 39300) \n"
     ]
    },
    {
     "name": "stderr",
     "output_type": "stream",
     "text": [
      "100%|██████████| 884/884 [00:41<00:00, 21.09it/s]\n",
      "  0%|          | 2/884 [00:00<00:48, 18.36it/s]"
     ]
    },
    {
     "name": "stdout",
     "output_type": "stream",
     "text": [
      "('Epoca 47.', 'lr:', 4.7606427e-05)\n"
     ]
    },
    {
     "name": "stderr",
     "output_type": "stream",
     "text": [
      " 15%|█▌        | 135/884 [00:05<00:29, 25.20it/s]\n",
      "  0%|          | 0/77 [00:00<?, ?it/s]\u001b[A"
     ]
    },
    {
     "name": "stdout",
     "output_type": "stream",
     "text": [
      "\tsaving model 40800...\n",
      "\tdone\n",
      "Evaluating\n"
     ]
    },
    {
     "name": "stderr",
     "output_type": "stream",
     "text": [
      "\n",
      " 10%|#         | 8/77 [00:00<00:00, 73.96it/s]\u001b[A\n",
      " 18%|#8        | 14/77 [00:00<00:00, 66.77it/s]\u001b[A\n",
      " 27%|##7       | 21/77 [00:00<00:00, 65.71it/s]\u001b[A\n",
      " 36%|###6      | 28/77 [00:00<00:00, 65.04it/s]\u001b[A\n",
      " 47%|####6     | 36/77 [00:00<00:00, 67.97it/s]\u001b[A\n",
      " 57%|#####7    | 44/77 [00:00<00:00, 71.01it/s]\u001b[A\n",
      " 68%|######7   | 52/77 [00:00<00:00, 71.65it/s]\u001b[A\n",
      " 78%|#######7  | 60/77 [00:00<00:00, 73.44it/s]\u001b[A\n",
      " 90%|########9 | 69/77 [00:00<00:00, 76.16it/s]\u001b[A\n",
      " 16%|█▌        | 138/884 [00:06<02:05,  5.96it/s]A"
     ]
    },
    {
     "name": "stdout",
     "output_type": "stream",
     "text": [
      "{'ade': 0.45017272, 'fde': 0.9872183}\n",
      "\t last loss:0.000327346, eval on validation:['ade: 0.45017272', 'fde: 0.9872183'], (best ade:0.4398978 at step 39300) \n"
     ]
    },
    {
     "name": "stderr",
     "output_type": "stream",
     "text": [
      " 49%|████▉     | 435/884 [00:18<00:18, 24.71it/s]\n",
      "  0%|          | 0/77 [00:00<?, ?it/s]\u001b[A"
     ]
    },
    {
     "name": "stdout",
     "output_type": "stream",
     "text": [
      "\tsaving model 41100...\n",
      "\tdone\n",
      "Evaluating\n"
     ]
    },
    {
     "name": "stderr",
     "output_type": "stream",
     "text": [
      "\n",
      " 13%|#2        | 10/77 [00:00<00:00, 92.51it/s]\u001b[A\n",
      " 21%|##        | 16/77 [00:00<00:00, 78.22it/s]\u001b[A\n",
      " 31%|###1      | 24/77 [00:00<00:00, 77.13it/s]\u001b[A\n",
      " 42%|####1     | 32/77 [00:00<00:00, 76.46it/s]\u001b[A\n",
      " 52%|#####1    | 40/77 [00:00<00:00, 75.31it/s]\u001b[A\n",
      " 64%|######3   | 49/77 [00:00<00:00, 78.29it/s]\u001b[A\n",
      " 77%|#######6  | 59/77 [00:00<00:00, 81.84it/s]\u001b[A\n",
      " 90%|########9 | 69/77 [00:00<00:00, 84.83it/s]\u001b[A\n",
      " 50%|████▉     | 438/884 [00:19<01:09,  6.45it/s]A"
     ]
    },
    {
     "name": "stdout",
     "output_type": "stream",
     "text": [
      "{'ade': 0.44195506, 'fde': 0.9651546}\n",
      "\t last loss:0.000346826, eval on validation:['ade: 0.44195506', 'fde: 0.9651546'], (best ade:0.4398978 at step 39300) \n"
     ]
    },
    {
     "name": "stderr",
     "output_type": "stream",
     "text": [
      " 83%|████████▎ | 735/884 [00:31<00:06, 23.90it/s]"
     ]
    },
    {
     "name": "stdout",
     "output_type": "stream",
     "text": [
      "\tsaving model 41400...\n"
     ]
    },
    {
     "name": "stderr",
     "output_type": "stream",
     "text": [
      "\n",
      "  0%|          | 0/77 [00:00<?, ?it/s]\u001b[A\n",
      "  9%|9         | 7/77 [00:00<00:01, 60.12it/s]\u001b[A"
     ]
    },
    {
     "name": "stdout",
     "output_type": "stream",
     "text": [
      "\tdone\n",
      "Evaluating\n"
     ]
    },
    {
     "name": "stderr",
     "output_type": "stream",
     "text": [
      "\n",
      " 16%|#5        | 12/77 [00:00<00:01, 53.04it/s]\u001b[A\n",
      " 21%|##        | 16/77 [00:00<00:01, 48.32it/s]\u001b[A\n",
      " 26%|##5       | 20/77 [00:00<00:01, 45.30it/s]\u001b[A\n",
      " 32%|###2      | 25/77 [00:00<00:01, 46.02it/s]\u001b[A\n",
      " 40%|####      | 31/77 [00:00<00:00, 48.79it/s]\u001b[A\n",
      " 49%|####9     | 38/77 [00:00<00:00, 52.61it/s]\u001b[A\n",
      " 58%|#####8    | 45/77 [00:00<00:00, 56.01it/s]\u001b[A\n",
      " 68%|######7   | 52/77 [00:00<00:00, 58.55it/s]\u001b[A\n",
      " 77%|#######6  | 59/77 [00:01<00:00, 60.89it/s]\u001b[A\n",
      " 86%|########5 | 66/77 [00:01<00:00, 60.93it/s]\u001b[A\n",
      " 95%|#########4| 73/77 [00:01<00:00, 62.07it/s]\u001b[A\n",
      " 83%|████████▎ | 738/884 [00:33<00:30,  4.82it/s]A"
     ]
    },
    {
     "name": "stdout",
     "output_type": "stream",
     "text": [
      "{'ade': 0.44662252, 'fde': 0.9763233}\n",
      "\t last loss:0.000446849, eval on validation:['ade: 0.44662252', 'fde: 0.9763233'], (best ade:0.4398978 at step 39300) \n"
     ]
    },
    {
     "name": "stderr",
     "output_type": "stream",
     "text": [
      "100%|██████████| 884/884 [00:40<00:00, 21.96it/s]\n",
      "  0%|          | 1/884 [00:00<01:38,  8.93it/s]"
     ]
    },
    {
     "name": "stdout",
     "output_type": "stream",
     "text": [
      "('Epoca 48.', 'lr:', 4.7606427e-05)\n"
     ]
    },
    {
     "name": "stderr",
     "output_type": "stream",
     "text": [
      " 17%|█▋        | 150/884 [00:06<00:27, 26.24it/s]\n",
      "  0%|          | 0/77 [00:00<?, ?it/s]\u001b[A"
     ]
    },
    {
     "name": "stdout",
     "output_type": "stream",
     "text": [
      "\tsaving model 41700...\n",
      "\tdone\n",
      "Evaluating\n"
     ]
    },
    {
     "name": "stderr",
     "output_type": "stream",
     "text": [
      "\n",
      " 13%|#2        | 10/77 [00:00<00:00, 91.12it/s]\u001b[A\n",
      " 22%|##2       | 17/77 [00:00<00:00, 80.69it/s]\u001b[A\n",
      " 31%|###1      | 24/77 [00:00<00:00, 74.04it/s]\u001b[A\n",
      " 42%|####1     | 32/77 [00:00<00:00, 74.37it/s]\u001b[A\n",
      " 52%|#####1    | 40/77 [00:00<00:00, 75.42it/s]\u001b[A\n",
      " 64%|######3   | 49/77 [00:00<00:00, 77.51it/s]\u001b[A\n",
      " 75%|#######5  | 58/77 [00:00<00:00, 79.33it/s]\u001b[A\n",
      " 86%|########5 | 66/77 [00:00<00:00, 79.37it/s]\u001b[A\n",
      " 97%|#########7| 75/77 [00:00<00:00, 80.75it/s]\u001b[A\n",
      " 17%|█▋        | 153/884 [00:07<01:55,  6.33it/s]A"
     ]
    },
    {
     "name": "stdout",
     "output_type": "stream",
     "text": [
      "{'ade': 0.4465878, 'fde': 0.9751202}\n",
      "\t last loss:0.000412442, eval on validation:['ade: 0.4465878', 'fde: 0.9751202'], (best ade:0.4398978 at step 39300) \n"
     ]
    },
    {
     "name": "stderr",
     "output_type": "stream",
     "text": [
      " 51%|█████     | 450/884 [00:19<00:16, 25.94it/s]\n",
      "  0%|          | 0/77 [00:00<?, ?it/s]\u001b[A"
     ]
    },
    {
     "name": "stdout",
     "output_type": "stream",
     "text": [
      "\tsaving model 42000...\n",
      "\tdone\n",
      "Evaluating\n"
     ]
    },
    {
     "name": "stderr",
     "output_type": "stream",
     "text": [
      "\n",
      " 12%|#1        | 9/77 [00:00<00:00, 84.33it/s]\u001b[A\n",
      " 21%|##        | 16/77 [00:00<00:00, 78.05it/s]\u001b[A\n",
      " 30%|##9       | 23/77 [00:00<00:00, 75.31it/s]\u001b[A\n",
      " 38%|###7      | 29/77 [00:00<00:00, 68.76it/s]\u001b[A\n",
      " 51%|#####     | 39/77 [00:00<00:00, 74.74it/s]\u001b[A\n",
      " 61%|######1   | 47/77 [00:00<00:00, 75.96it/s]\u001b[A\n",
      " 73%|#######2  | 56/77 [00:00<00:00, 79.09it/s]\u001b[A\n",
      " 86%|########5 | 66/77 [00:00<00:00, 82.32it/s]\u001b[A\n",
      " 97%|#########7| 75/77 [00:00<00:00, 84.46it/s]\u001b[A\n",
      " 51%|█████▏    | 455/884 [00:21<00:53,  8.07it/s]A"
     ]
    },
    {
     "name": "stdout",
     "output_type": "stream",
     "text": [
      "{'ade': 0.44823822, 'fde': 0.97954524}\n",
      "\t last loss:0.000294562, eval on validation:['ade: 0.44823822', 'fde: 0.97954524'], (best ade:0.4398978 at step 39300) \n"
     ]
    },
    {
     "name": "stderr",
     "output_type": "stream",
     "text": [
      " 85%|████████▍ | 749/884 [00:33<00:05, 23.02it/s]"
     ]
    },
    {
     "name": "stdout",
     "output_type": "stream",
     "text": [
      "\tsaving model 42300...\n"
     ]
    },
    {
     "name": "stderr",
     "output_type": "stream",
     "text": [
      "\n",
      "  0%|          | 0/77 [00:00<?, ?it/s]\u001b[A\n",
      "  6%|6         | 5/77 [00:00<00:01, 49.37it/s]\u001b[A"
     ]
    },
    {
     "name": "stdout",
     "output_type": "stream",
     "text": [
      "\tdone\n",
      "Evaluating\n"
     ]
    },
    {
     "name": "stderr",
     "output_type": "stream",
     "text": [
      "\n",
      " 14%|#4        | 11/77 [00:00<00:01, 51.05it/s]\u001b[A\n",
      " 22%|##2       | 17/77 [00:00<00:01, 53.09it/s]\u001b[A\n",
      " 32%|###2      | 25/77 [00:00<00:00, 57.51it/s]\u001b[A\n",
      " 43%|####2     | 33/77 [00:00<00:00, 61.86it/s]\u001b[A\n",
      " 52%|#####1    | 40/77 [00:00<00:00, 63.15it/s]\u001b[A\n",
      " 62%|######2   | 48/77 [00:00<00:00, 65.87it/s]\u001b[A\n",
      " 71%|#######1  | 55/77 [00:00<00:00, 66.65it/s]\u001b[A\n",
      " 82%|########1 | 63/77 [00:00<00:00, 69.07it/s]\u001b[A\n",
      " 92%|#########2| 71/77 [00:01<00:00, 70.36it/s]\u001b[A\n",
      " 85%|████████▌ | 755/884 [00:35<00:18,  7.06it/s]A"
     ]
    },
    {
     "name": "stdout",
     "output_type": "stream",
     "text": [
      "{'ade': 0.44337028, 'fde': 0.96685433}\n",
      "\t last loss:0.000279661, eval on validation:['ade: 0.44337028', 'fde: 0.96685433'], (best ade:0.4398978 at step 39300) \n"
     ]
    },
    {
     "name": "stderr",
     "output_type": "stream",
     "text": [
      "100%|██████████| 884/884 [00:40<00:00, 26.59it/s]\n",
      "  0%|          | 3/884 [00:00<00:35, 24.79it/s]"
     ]
    },
    {
     "name": "stdout",
     "output_type": "stream",
     "text": [
      "('Epoca 49.', 'lr:', 4.0465464e-05)\n"
     ]
    },
    {
     "name": "stderr",
     "output_type": "stream",
     "text": [
      " 19%|█▊        | 165/884 [00:06<00:29, 24.53it/s]"
     ]
    },
    {
     "name": "stdout",
     "output_type": "stream",
     "text": [
      "\tsaving model 42600...\n"
     ]
    },
    {
     "name": "stderr",
     "output_type": "stream",
     "text": [
      "\n",
      "  0%|          | 0/77 [00:00<?, ?it/s]\u001b[A\n",
      "  8%|7         | 6/77 [00:00<00:01, 57.18it/s]\u001b[A"
     ]
    },
    {
     "name": "stdout",
     "output_type": "stream",
     "text": [
      "\tdone\n",
      "Evaluating\n"
     ]
    },
    {
     "name": "stderr",
     "output_type": "stream",
     "text": [
      "\n",
      " 14%|#4        | 11/77 [00:00<00:01, 51.43it/s]\u001b[A\n",
      " 19%|#9        | 15/77 [00:00<00:01, 46.99it/s]\u001b[A\n",
      " 27%|##7       | 21/77 [00:00<00:01, 48.44it/s]\u001b[A\n",
      " 35%|###5      | 27/77 [00:00<00:00, 50.97it/s]\u001b[A\n",
      " 44%|####4     | 34/77 [00:00<00:00, 53.60it/s]\u001b[A\n",
      " 53%|#####3    | 41/77 [00:00<00:00, 56.62it/s]\u001b[A\n",
      " 62%|######2   | 48/77 [00:00<00:00, 58.16it/s]\u001b[A\n",
      " 71%|#######1  | 55/77 [00:00<00:00, 60.09it/s]\u001b[A\n",
      " 81%|########  | 62/77 [00:01<00:00, 61.55it/s]\u001b[A\n",
      " 90%|########9 | 69/77 [00:01<00:00, 62.50it/s]\u001b[A\n",
      " 99%|#########8| 76/77 [00:01<00:00, 61.70it/s]\u001b[A\n",
      " 19%|█▉        | 168/884 [00:08<02:24,  4.96it/s]A"
     ]
    },
    {
     "name": "stdout",
     "output_type": "stream",
     "text": [
      "{'ade': 0.44065896, 'fde': 0.95967185}\n",
      "\t last loss:0.000289404, eval on validation:['ade: 0.44065896', 'fde: 0.95967185'], (best ade:0.4398978 at step 39300) \n"
     ]
    },
    {
     "name": "stderr",
     "output_type": "stream",
     "text": [
      " 53%|█████▎    | 467/884 [00:21<00:15, 26.54it/s]\n",
      "  0%|          | 0/77 [00:00<?, ?it/s]\u001b[A"
     ]
    },
    {
     "name": "stdout",
     "output_type": "stream",
     "text": [
      "\tsaving model 42900...\n",
      "\tdone\n",
      "Evaluating\n"
     ]
    },
    {
     "name": "stderr",
     "output_type": "stream",
     "text": [
      "\n",
      " 13%|#2        | 10/77 [00:00<00:00, 93.10it/s]\u001b[A\n",
      " 21%|##        | 16/77 [00:00<00:00, 78.25it/s]\u001b[A\n",
      " 31%|###1      | 24/77 [00:00<00:00, 74.63it/s]\u001b[A\n",
      " 42%|####1     | 32/77 [00:00<00:00, 75.98it/s]\u001b[A\n",
      " 52%|#####1    | 40/77 [00:00<00:00, 75.98it/s]\u001b[A\n",
      " 64%|######3   | 49/77 [00:00<00:00, 79.68it/s]\u001b[A\n",
      " 77%|#######6  | 59/77 [00:00<00:00, 82.73it/s]\u001b[A\n",
      " 90%|########9 | 69/77 [00:00<00:00, 85.08it/s]\u001b[A\n",
      " 53%|█████▎    | 470/884 [00:22<01:03,  6.53it/s]A"
     ]
    },
    {
     "name": "stdout",
     "output_type": "stream",
     "text": [
      "{'ade': 0.4406499, 'fde': 0.96140814}\n",
      "\t last loss:0.000352862, eval on validation:['ade: 0.4406499', 'fde: 0.96140814'], (best ade:0.4398978 at step 39300) \n"
     ]
    },
    {
     "name": "stderr",
     "output_type": "stream",
     "text": [
      " 87%|████████▋ | 767/884 [00:34<00:04, 24.89it/s]\n",
      "  0%|          | 0/77 [00:00<?, ?it/s]\u001b[A"
     ]
    },
    {
     "name": "stdout",
     "output_type": "stream",
     "text": [
      "\tsaving model 43200...\n",
      "\tdone\n",
      "Evaluating\n"
     ]
    },
    {
     "name": "stderr",
     "output_type": "stream",
     "text": [
      "\n",
      " 10%|#         | 8/77 [00:00<00:00, 78.27it/s]\u001b[A\n",
      " 18%|#8        | 14/77 [00:00<00:00, 70.00it/s]\u001b[A\n",
      " 27%|##7       | 21/77 [00:00<00:00, 69.32it/s]\u001b[A\n",
      " 38%|###7      | 29/77 [00:00<00:00, 70.58it/s]\u001b[A\n",
      " 49%|####9     | 38/77 [00:00<00:00, 74.90it/s]\u001b[A\n",
      " 61%|######1   | 47/77 [00:00<00:00, 77.02it/s]\u001b[A\n",
      " 73%|#######2  | 56/77 [00:00<00:00, 80.42it/s]\u001b[A\n",
      " 84%|########4 | 65/77 [00:00<00:00, 81.31it/s]\u001b[A\n",
      " 97%|#########7| 75/77 [00:00<00:00, 84.14it/s]\u001b[A\n",
      " 87%|████████▋ | 770/884 [00:35<00:18,  6.28it/s]A"
     ]
    },
    {
     "name": "stdout",
     "output_type": "stream",
     "text": [
      "{'ade': 0.4456866, 'fde': 0.9749913}\n",
      "\t last loss:0.000250121, eval on validation:['ade: 0.4456866', 'fde: 0.9749913'], (best ade:0.4398978 at step 39300) \n"
     ]
    },
    {
     "name": "stderr",
     "output_type": "stream",
     "text": [
      "100%|██████████| 884/884 [00:40<00:00, 24.39it/s]\n",
      "  0%|          | 1/884 [00:00<01:45,  8.33it/s]"
     ]
    },
    {
     "name": "stdout",
     "output_type": "stream",
     "text": [
      "('Epoca 50.', 'lr:', 4.0465464e-05)\n"
     ]
    },
    {
     "name": "stderr",
     "output_type": "stream",
     "text": [
      " 20%|██        | 181/884 [00:08<00:30, 22.91it/s]"
     ]
    },
    {
     "name": "stdout",
     "output_type": "stream",
     "text": [
      "\tsaving model 43500...\n"
     ]
    },
    {
     "name": "stderr",
     "output_type": "stream",
     "text": [
      "\n",
      "  0%|          | 0/77 [00:00<?, ?it/s]\u001b[A\n",
      " 10%|#         | 8/77 [00:00<00:00, 75.79it/s]\u001b[A\n",
      " 18%|#8        | 14/77 [00:00<00:00, 68.60it/s]\u001b[A\n",
      " 25%|##4       | 19/77 [00:00<00:00, 60.40it/s]\u001b[A\n",
      " 31%|###1      | 24/77 [00:00<00:00, 56.53it/s]\u001b[A\n",
      " 39%|###8      | 30/77 [00:00<00:00, 55.84it/s]\u001b[A\n",
      " 47%|####6     | 36/77 [00:00<00:00, 56.37it/s]\u001b[A\n",
      " 57%|#####7    | 44/77 [00:00<00:00, 61.23it/s]\u001b[A\n",
      " 68%|######7   | 52/77 [00:00<00:00, 65.12it/s]\u001b[A\n",
      " 78%|#######7  | 60/77 [00:00<00:00, 67.79it/s]\u001b[A\n",
      " 88%|########8 | 68/77 [00:01<00:00, 70.19it/s]\u001b[A\n",
      " 99%|#########8| 76/77 [00:01<00:00, 70.94it/s]\u001b[A\n",
      " 21%|██        | 187/884 [00:10<01:40,  6.97it/s]A"
     ]
    },
    {
     "name": "stdout",
     "output_type": "stream",
     "text": [
      "\tdone\n",
      "Evaluating\n",
      "{'ade': 0.44270533, 'fde': 0.96723723}\n",
      "\t last loss:0.000522411, eval on validation:['ade: 0.44270533', 'fde: 0.96723723'], (best ade:0.4398978 at step 39300) \n"
     ]
    },
    {
     "name": "stderr",
     "output_type": "stream",
     "text": [
      " 54%|█████▍    | 481/884 [00:21<00:16, 24.08it/s]\n",
      "  0%|          | 0/77 [00:00<?, ?it/s]\u001b[A"
     ]
    },
    {
     "name": "stdout",
     "output_type": "stream",
     "text": [
      "\tsaving model 43800...\n",
      "\tdone\n",
      "Evaluating\n"
     ]
    },
    {
     "name": "stderr",
     "output_type": "stream",
     "text": [
      "\n",
      " 12%|#1        | 9/77 [00:00<00:00, 85.91it/s]\u001b[A\n",
      " 19%|#9        | 15/77 [00:00<00:00, 73.86it/s]\u001b[A\n",
      " 29%|##8       | 22/77 [00:00<00:00, 71.38it/s]\u001b[A\n",
      " 38%|###7      | 29/77 [00:00<00:00, 70.36it/s]\u001b[A\n",
      " 49%|####9     | 38/77 [00:00<00:00, 73.51it/s]\u001b[A\n",
      " 61%|######1   | 47/77 [00:00<00:00, 77.69it/s]\u001b[A\n",
      " 73%|#######2  | 56/77 [00:00<00:00, 79.35it/s]\u001b[A\n",
      " 86%|########5 | 66/77 [00:00<00:00, 82.58it/s]\u001b[A\n",
      " 99%|#########8| 76/77 [00:00<00:00, 85.01it/s]\u001b[A\n",
      " 55%|█████▌    | 487/884 [00:23<00:49,  8.07it/s]A"
     ]
    },
    {
     "name": "stdout",
     "output_type": "stream",
     "text": [
      "{'ade': 0.44132888, 'fde': 0.96195674}\n",
      "\t last loss:0.000390796, eval on validation:['ade: 0.44132888', 'fde: 0.96195674'], (best ade:0.4398978 at step 39300) \n"
     ]
    },
    {
     "name": "stderr",
     "output_type": "stream",
     "text": [
      " 88%|████████▊ | 781/884 [00:36<00:04, 22.34it/s]"
     ]
    },
    {
     "name": "stdout",
     "output_type": "stream",
     "text": [
      "\tsaving model 44100...\n"
     ]
    },
    {
     "name": "stderr",
     "output_type": "stream",
     "text": [
      "\n",
      "  0%|          | 0/77 [00:00<?, ?it/s]\u001b[A\n",
      " 10%|#         | 8/77 [00:00<00:00, 70.36it/s]\u001b[A"
     ]
    },
    {
     "name": "stdout",
     "output_type": "stream",
     "text": [
      "\tdone\n",
      "Evaluating\n"
     ]
    },
    {
     "name": "stderr",
     "output_type": "stream",
     "text": [
      "\n",
      " 18%|#8        | 14/77 [00:00<00:00, 63.88it/s]\u001b[A\n",
      " 26%|##5       | 20/77 [00:00<00:00, 59.58it/s]\u001b[A\n",
      " 34%|###3      | 26/77 [00:00<00:00, 59.10it/s]\u001b[A\n",
      " 43%|####2     | 33/77 [00:00<00:00, 60.94it/s]\u001b[A\n",
      " 52%|#####1    | 40/77 [00:00<00:00, 62.26it/s]\u001b[A\n",
      " 62%|######2   | 48/77 [00:00<00:00, 65.65it/s]\u001b[A\n",
      " 71%|#######1  | 55/77 [00:00<00:00, 66.40it/s]\u001b[A\n",
      " 82%|########1 | 63/77 [00:00<00:00, 68.20it/s]\u001b[A\n",
      " 92%|#########2| 71/77 [00:01<00:00, 70.33it/s]\u001b[A\n",
      " 89%|████████▉ | 787/884 [00:37<00:13,  7.01it/s]A"
     ]
    },
    {
     "name": "stdout",
     "output_type": "stream",
     "text": [
      "{'ade': 0.44204542, 'fde': 0.96344906}\n",
      "\t last loss:0.000268065, eval on validation:['ade: 0.44204542', 'fde: 0.96344906'], (best ade:0.4398978 at step 39300) \n"
     ]
    },
    {
     "name": "stderr",
     "output_type": "stream",
     "text": [
      "100%|██████████| 884/884 [00:42<00:00, 20.82it/s]\n",
      "  0%|          | 3/884 [00:00<00:36, 24.19it/s]"
     ]
    },
    {
     "name": "stdout",
     "output_type": "stream",
     "text": [
      "('Epoca 51.', 'lr:', 3.4395645e-05)\n"
     ]
    },
    {
     "name": "stderr",
     "output_type": "stream",
     "text": [
      " 22%|██▏       | 198/884 [00:07<00:27, 24.51it/s]\n",
      "  0%|          | 0/77 [00:00<?, ?it/s]\u001b[A"
     ]
    },
    {
     "name": "stdout",
     "output_type": "stream",
     "text": [
      "\tsaving model 44400...\n",
      "\tdone\n",
      "Evaluating\n"
     ]
    },
    {
     "name": "stderr",
     "output_type": "stream",
     "text": [
      "\n",
      " 13%|#2        | 10/77 [00:00<00:00, 91.37it/s]\u001b[A\n",
      " 22%|##2       | 17/77 [00:00<00:00, 80.88it/s]\u001b[A\n",
      " 31%|###1      | 24/77 [00:00<00:00, 76.18it/s]\u001b[A\n",
      " 40%|####      | 31/77 [00:00<00:00, 72.98it/s]\u001b[A\n",
      " 51%|#####     | 39/77 [00:00<00:00, 73.37it/s]\u001b[A\n",
      " 64%|######3   | 49/77 [00:00<00:00, 78.03it/s]\u001b[A\n",
      " 75%|#######5  | 58/77 [00:00<00:00, 80.08it/s]\u001b[A\n",
      " 88%|########8 | 68/77 [00:00<00:00, 83.60it/s]\u001b[A\n",
      " 23%|██▎       | 204/884 [00:09<01:22,  8.28it/s]A"
     ]
    },
    {
     "name": "stdout",
     "output_type": "stream",
     "text": [
      "{'ade': 0.443831, 'fde': 0.9713078}\n",
      "\t last loss:0.000434695, eval on validation:['ade: 0.443831', 'fde: 0.9713078'], (best ade:0.4398978 at step 39300) \n"
     ]
    },
    {
     "name": "stderr",
     "output_type": "stream",
     "text": [
      " 56%|█████▋    | 498/884 [00:21<00:17, 22.69it/s]"
     ]
    },
    {
     "name": "stdout",
     "output_type": "stream",
     "text": [
      "\tsaving model 44700...\n"
     ]
    },
    {
     "name": "stderr",
     "output_type": "stream",
     "text": [
      "\n",
      "  0%|          | 0/77 [00:00<?, ?it/s]\u001b[A\n",
      " 10%|#         | 8/77 [00:00<00:00, 75.96it/s]\u001b[A"
     ]
    },
    {
     "name": "stdout",
     "output_type": "stream",
     "text": [
      "\tdone\n",
      "Evaluating\n"
     ]
    },
    {
     "name": "stderr",
     "output_type": "stream",
     "text": [
      "\n",
      " 18%|#8        | 14/77 [00:00<00:00, 66.10it/s]\u001b[A\n",
      " 25%|##4       | 19/77 [00:00<00:01, 57.76it/s]\u001b[A\n",
      " 32%|###2      | 25/77 [00:00<00:00, 58.17it/s]\u001b[A\n",
      " 42%|####1     | 32/77 [00:00<00:00, 59.13it/s]\u001b[A\n",
      " 52%|#####1    | 40/77 [00:00<00:00, 62.44it/s]\u001b[A\n",
      " 62%|######2   | 48/77 [00:00<00:00, 65.50it/s]\u001b[A\n",
      " 73%|#######2  | 56/77 [00:00<00:00, 68.35it/s]\u001b[A\n",
      " 83%|########3 | 64/77 [00:00<00:00, 70.31it/s]\u001b[A\n",
      " 94%|#########3| 72/77 [00:01<00:00, 72.09it/s]\u001b[A\n",
      " 57%|█████▋    | 501/884 [00:23<01:10,  5.46it/s]A"
     ]
    },
    {
     "name": "stdout",
     "output_type": "stream",
     "text": [
      "{'ade': 0.4420139, 'fde': 0.9652839}\n",
      "\t last loss:0.000330440, eval on validation:['ade: 0.4420139', 'fde: 0.9652839'], (best ade:0.4398978 at step 39300) \n"
     ]
    },
    {
     "name": "stderr",
     "output_type": "stream",
     "text": [
      " 90%|█████████ | 798/884 [00:35<00:03, 25.02it/s]\n",
      "  0%|          | 0/77 [00:00<?, ?it/s]"
     ]
    },
    {
     "name": "stdout",
     "output_type": "stream",
     "text": [
      "\tsaving model 45000...\n",
      "\tdone\n",
      "Evaluating\n"
     ]
    },
    {
     "name": "stderr",
     "output_type": "stream",
     "text": [
      "\u001b[A\n",
      " 10%|#         | 8/77 [00:00<00:00, 78.34it/s]\u001b[A\n",
      " 18%|#8        | 14/77 [00:00<00:00, 70.98it/s]\u001b[A\n",
      " 27%|##7       | 21/77 [00:00<00:00, 68.37it/s]\u001b[A\n",
      " 35%|###5      | 27/77 [00:00<00:00, 65.27it/s]\u001b[A\n",
      " 47%|####6     | 36/77 [00:00<00:00, 70.88it/s]\u001b[A\n",
      " 58%|#####8    | 45/77 [00:00<00:00, 73.58it/s]\u001b[A\n",
      " 70%|#######   | 54/77 [00:00<00:00, 77.59it/s]\u001b[A\n",
      " 82%|########1 | 63/77 [00:00<00:00, 79.55it/s]\u001b[A\n",
      " 94%|#########3| 72/77 [00:00<00:00, 82.31it/s]\u001b[A\n",
      " 91%|█████████ | 804/884 [00:36<00:09,  8.03it/s]A"
     ]
    },
    {
     "name": "stdout",
     "output_type": "stream",
     "text": [
      "{'ade': 0.44370675, 'fde': 0.97077066}\n",
      "\t last loss:0.000391173, eval on validation:['ade: 0.44370675', 'fde: 0.97077066'], (best ade:0.4398978 at step 39300) \n"
     ]
    },
    {
     "name": "stderr",
     "output_type": "stream",
     "text": [
      "100%|██████████| 884/884 [00:40<00:00, 22.09it/s]\n",
      "  0%|          | 3/884 [00:00<00:40, 21.70it/s]"
     ]
    },
    {
     "name": "stdout",
     "output_type": "stream",
     "text": [
      "('Epoca 52.', 'lr:', 3.4395645e-05)\n"
     ]
    },
    {
     "name": "stderr",
     "output_type": "stream",
     "text": [
      " 24%|██▍       | 213/884 [00:09<00:29, 22.93it/s]"
     ]
    },
    {
     "name": "stdout",
     "output_type": "stream",
     "text": [
      "\tsaving model 45300...\n"
     ]
    },
    {
     "name": "stderr",
     "output_type": "stream",
     "text": [
      "\n",
      "  0%|          | 0/77 [00:00<?, ?it/s]\u001b[A\n",
      " 10%|#         | 8/77 [00:00<00:00, 75.70it/s]\u001b[A"
     ]
    },
    {
     "name": "stdout",
     "output_type": "stream",
     "text": [
      "\tdone\n",
      "Evaluating\n"
     ]
    },
    {
     "name": "stderr",
     "output_type": "stream",
     "text": [
      "\n",
      " 21%|##        | 16/77 [00:00<00:00, 75.26it/s]\u001b[A\n",
      " 31%|###1      | 24/77 [00:00<00:00, 74.55it/s]\u001b[A\n",
      " 42%|####1     | 32/77 [00:00<00:00, 74.15it/s]\u001b[A\n",
      " 52%|#####1    | 40/77 [00:00<00:00, 74.82it/s]\u001b[A\n",
      " 61%|######1   | 47/77 [00:00<00:00, 71.36it/s]\u001b[A\n",
      " 70%|#######   | 54/77 [00:00<00:00, 64.41it/s]\u001b[A\n",
      " 78%|#######7  | 60/77 [00:00<00:00, 59.67it/s]\u001b[A\n",
      " 87%|########7 | 67/77 [00:01<00:00, 60.68it/s]\u001b[A\n",
      " 96%|#########6| 74/77 [00:01<00:00, 61.98it/s]\u001b[A\n",
      " 25%|██▍       | 219/884 [00:11<01:34,  7.04it/s]A"
     ]
    },
    {
     "name": "stdout",
     "output_type": "stream",
     "text": [
      "{'ade': 0.44123748, 'fde': 0.9611203}\n",
      "\t last loss:0.000309621, eval on validation:['ade: 0.44123748', 'fde: 0.9611203'], (best ade:0.4398978 at step 39300) \n"
     ]
    },
    {
     "name": "stderr",
     "output_type": "stream",
     "text": [
      " 58%|█████▊    | 513/884 [00:22<00:14, 24.74it/s]\n"
     ]
    },
    {
     "name": "stdout",
     "output_type": "stream",
     "text": [
      "\tsaving model 45600...\n",
      "\tdone\n",
      "Evaluating\n"
     ]
    },
    {
     "name": "stderr",
     "output_type": "stream",
     "text": [
      "  0%|          | 0/77 [00:00<?, ?it/s]\u001b[A\n",
      " 12%|#1        | 9/77 [00:00<00:00, 83.60it/s]\u001b[A\n",
      " 21%|##        | 16/77 [00:00<00:00, 74.38it/s]\u001b[A\n",
      " 29%|##8       | 22/77 [00:00<00:00, 65.61it/s]\u001b[A\n",
      " 39%|###8      | 30/77 [00:00<00:00, 67.25it/s]\u001b[A\n",
      " 49%|####9     | 38/77 [00:00<00:00, 68.70it/s]\u001b[A\n",
      " 61%|######1   | 47/77 [00:00<00:00, 72.92it/s]\u001b[A\n",
      " 73%|#######2  | 56/77 [00:00<00:00, 75.59it/s]\u001b[A\n",
      " 84%|########4 | 65/77 [00:00<00:00, 78.19it/s]\u001b[A\n",
      " 97%|#########7| 75/77 [00:00<00:00, 81.72it/s]\u001b[A\n",
      " 59%|█████▊    | 519/884 [00:24<00:46,  7.92it/s]A"
     ]
    },
    {
     "name": "stdout",
     "output_type": "stream",
     "text": [
      "{'ade': 0.4432302, 'fde': 0.9698556}\n",
      "\t last loss:0.000221446, eval on validation:['ade: 0.4432302', 'fde: 0.9698556'], (best ade:0.4398978 at step 39300) \n"
     ]
    },
    {
     "name": "stderr",
     "output_type": "stream",
     "text": [
      " 92%|█████████▏| 813/884 [00:36<00:02, 25.21it/s]\n",
      "  0%|          | 0/77 [00:00<?, ?it/s]\u001b[A"
     ]
    },
    {
     "name": "stdout",
     "output_type": "stream",
     "text": [
      "\tsaving model 45900...\n",
      "\tdone\n",
      "Evaluating\n"
     ]
    },
    {
     "name": "stderr",
     "output_type": "stream",
     "text": [
      "\n",
      " 12%|#1        | 9/77 [00:00<00:00, 83.81it/s]\u001b[A\n",
      " 19%|#9        | 15/77 [00:00<00:00, 74.47it/s]\u001b[A\n",
      " 27%|##7       | 21/77 [00:00<00:00, 69.08it/s]\u001b[A\n",
      " 34%|###3      | 26/77 [00:00<00:00, 61.71it/s]\u001b[A\n",
      " 42%|####1     | 32/77 [00:00<00:00, 59.38it/s]\u001b[A\n",
      " 52%|#####1    | 40/77 [00:00<00:00, 63.36it/s]\u001b[A\n",
      " 62%|######2   | 48/77 [00:00<00:00, 67.28it/s]\u001b[A\n",
      " 74%|#######4  | 57/77 [00:00<00:00, 71.15it/s]\u001b[A\n",
      " 86%|########5 | 66/77 [00:00<00:00, 74.43it/s]\u001b[A\n",
      " 96%|#########6| 74/77 [00:01<00:00, 75.65it/s]\u001b[A\n",
      " 93%|█████████▎| 819/884 [00:37<00:08,  7.65it/s]A"
     ]
    },
    {
     "name": "stdout",
     "output_type": "stream",
     "text": [
      "{'ade': 0.44410524, 'fde': 0.9700552}\n",
      "\t last loss:0.000424467, eval on validation:['ade: 0.44410524', 'fde: 0.9700552'], (best ade:0.4398978 at step 39300) \n"
     ]
    },
    {
     "name": "stderr",
     "output_type": "stream",
     "text": [
      "100%|██████████| 884/884 [00:40<00:00, 21.85it/s]\n",
      "  0%|          | 1/884 [00:00<01:52,  7.85it/s]"
     ]
    },
    {
     "name": "stdout",
     "output_type": "stream",
     "text": [
      "('Epoca 53.', 'lr:', 2.92363e-05)\n"
     ]
    },
    {
     "name": "stderr",
     "output_type": "stream",
     "text": [
      " 26%|██▌       | 229/884 [00:10<00:26, 24.45it/s]\n",
      "  0%|          | 0/77 [00:00<?, ?it/s]\u001b[A"
     ]
    },
    {
     "name": "stdout",
     "output_type": "stream",
     "text": [
      "\tsaving model 46200...\n",
      "\tdone\n",
      "Evaluating\n"
     ]
    },
    {
     "name": "stderr",
     "output_type": "stream",
     "text": [
      "\n",
      " 12%|#1        | 9/77 [00:00<00:00, 85.02it/s]\u001b[A\n",
      " 19%|#9        | 15/77 [00:00<00:00, 73.46it/s]\u001b[A\n",
      " 27%|##7       | 21/77 [00:00<00:00, 67.41it/s]\u001b[A\n",
      " 35%|###5      | 27/77 [00:00<00:00, 64.62it/s]\u001b[A\n",
      " 45%|####5     | 35/77 [00:00<00:00, 67.65it/s]\u001b[A\n",
      " 55%|#####4    | 42/77 [00:00<00:00, 68.25it/s]\u001b[A\n",
      " 66%|######6   | 51/77 [00:00<00:00, 72.27it/s]\u001b[A\n",
      " 78%|#######7  | 60/77 [00:00<00:00, 75.75it/s]\u001b[A\n",
      " 90%|########9 | 69/77 [00:00<00:00, 77.89it/s]\u001b[A\n",
      " 27%|██▋       | 235/884 [00:11<01:23,  7.80it/s]A"
     ]
    },
    {
     "name": "stdout",
     "output_type": "stream",
     "text": [
      "{'ade': 0.44346154, 'fde': 0.9695281}\n",
      "\t last loss:0.000394803, eval on validation:['ade: 0.44346154', 'fde: 0.9695281'], (best ade:0.4398978 at step 39300) \n"
     ]
    },
    {
     "name": "stderr",
     "output_type": "stream",
     "text": [
      " 60%|█████▉    | 529/884 [00:23<00:13, 26.18it/s]\n",
      "  0%|          | 0/77 [00:00<?, ?it/s]\u001b[A"
     ]
    },
    {
     "name": "stdout",
     "output_type": "stream",
     "text": [
      "\tsaving model 46500...\n",
      "\tdone\n",
      "Evaluating\n"
     ]
    },
    {
     "name": "stderr",
     "output_type": "stream",
     "text": [
      "\n",
      " 13%|#2        | 10/77 [00:00<00:00, 91.79it/s]\u001b[A\n",
      " 21%|##        | 16/77 [00:00<00:00, 76.85it/s]\u001b[A\n",
      " 30%|##9       | 23/77 [00:00<00:00, 72.16it/s]\u001b[A\n",
      " 39%|###8      | 30/77 [00:00<00:00, 69.96it/s]\u001b[A\n",
      " 48%|####8     | 37/77 [00:00<00:00, 68.37it/s]\u001b[A\n",
      " 58%|#####8    | 45/77 [00:00<00:00, 71.33it/s]\u001b[A\n",
      " 70%|#######   | 54/77 [00:00<00:00, 74.01it/s]\u001b[A\n",
      " 82%|########1 | 63/77 [00:00<00:00, 77.00it/s]\u001b[A\n",
      " 94%|#########3| 72/77 [00:00<00:00, 78.70it/s]\u001b[A\n",
      " 61%|██████    | 535/884 [00:24<00:43,  8.05it/s]A"
     ]
    },
    {
     "name": "stdout",
     "output_type": "stream",
     "text": [
      "{'ade': 0.4410001, 'fde': 0.96234864}\n",
      "\t last loss:0.000359000, eval on validation:['ade: 0.4410001', 'fde: 0.96234864'], (best ade:0.4398978 at step 39300) \n"
     ]
    },
    {
     "name": "stderr",
     "output_type": "stream",
     "text": [
      " 94%|█████████▍| 829/884 [00:37<00:02, 25.05it/s]"
     ]
    },
    {
     "name": "stdout",
     "output_type": "stream",
     "text": [
      "\tsaving model 46800...\n"
     ]
    },
    {
     "name": "stderr",
     "output_type": "stream",
     "text": [
      "\n",
      "  0%|          | 0/77 [00:00<?, ?it/s]\u001b[A\n",
      "  8%|7         | 6/77 [00:00<00:01, 49.57it/s]\u001b[A"
     ]
    },
    {
     "name": "stdout",
     "output_type": "stream",
     "text": [
      "\tdone\n",
      "Evaluating\n"
     ]
    },
    {
     "name": "stderr",
     "output_type": "stream",
     "text": [
      "\n",
      " 14%|#4        | 11/77 [00:00<00:01, 48.21it/s]\u001b[A\n",
      " 19%|#9        | 15/77 [00:00<00:01, 43.74it/s]\u001b[A\n",
      " 26%|##5       | 20/77 [00:00<00:01, 45.35it/s]\u001b[A\n",
      " 31%|###1      | 24/77 [00:00<00:01, 43.25it/s]\u001b[A\n",
      " 36%|###6      | 28/77 [00:00<00:01, 40.46it/s]\u001b[A\n",
      " 42%|####1     | 32/77 [00:00<00:01, 39.45it/s]\u001b[A\n",
      " 48%|####8     | 37/77 [00:00<00:00, 41.49it/s]\u001b[A\n",
      " 60%|#####9    | 46/77 [00:00<00:00, 48.60it/s]\u001b[A\n",
      " 70%|#######   | 54/77 [00:01<00:00, 54.81it/s]\u001b[A\n",
      " 82%|########1 | 63/77 [00:01<00:00, 61.33it/s]\u001b[A\n",
      " 94%|#########3| 72/77 [00:01<00:00, 66.77it/s]\u001b[A\n",
      " 94%|█████████▍| 835/884 [00:39<00:07,  6.43it/s]A"
     ]
    },
    {
     "name": "stdout",
     "output_type": "stream",
     "text": [
      "{'ade': 0.4424696, 'fde': 0.9658979}\n",
      "\t last loss:0.000258767, eval on validation:['ade: 0.4424696', 'fde: 0.9658979'], (best ade:0.4398978 at step 39300) \n"
     ]
    },
    {
     "name": "stderr",
     "output_type": "stream",
     "text": [
      "100%|██████████| 884/884 [00:41<00:00, 21.19it/s]\n",
      "  0%|          | 1/884 [00:00<01:47,  8.21it/s]"
     ]
    },
    {
     "name": "stdout",
     "output_type": "stream",
     "text": [
      "('Epoca 54.', 'lr:', 2.92363e-05)\n"
     ]
    },
    {
     "name": "stderr",
     "output_type": "stream",
     "text": [
      " 28%|██▊       | 246/884 [00:09<00:24, 26.05it/s]\n",
      "  0%|          | 0/77 [00:00<?, ?it/s]\u001b[A"
     ]
    },
    {
     "name": "stdout",
     "output_type": "stream",
     "text": [
      "\tsaving model 47100...\n",
      "\tdone\n",
      "Evaluating\n"
     ]
    },
    {
     "name": "stderr",
     "output_type": "stream",
     "text": [
      "\n",
      " 12%|#1        | 9/77 [00:00<00:00, 85.60it/s]\u001b[A\n",
      " 21%|##        | 16/77 [00:00<00:00, 76.99it/s]\u001b[A\n",
      " 29%|##8       | 22/77 [00:00<00:00, 69.56it/s]\u001b[A\n",
      " 36%|###6      | 28/77 [00:00<00:00, 66.00it/s]\u001b[A\n",
      " 47%|####6     | 36/77 [00:00<00:00, 69.25it/s]\u001b[A\n",
      " 56%|#####5    | 43/77 [00:00<00:00, 68.87it/s]\u001b[A\n",
      " 68%|######7   | 52/77 [00:00<00:00, 72.95it/s]\u001b[A\n",
      " 79%|#######9  | 61/77 [00:00<00:00, 76.22it/s]\u001b[A\n",
      " 91%|######### | 70/77 [00:00<00:00, 78.42it/s]\u001b[A\n",
      " 28%|██▊       | 249/884 [00:11<01:43,  6.15it/s]A"
     ]
    },
    {
     "name": "stdout",
     "output_type": "stream",
     "text": [
      "{'ade': 0.44687173, 'fde': 0.9772786}\n",
      "\t last loss:0.000311841, eval on validation:['ade: 0.44687173', 'fde: 0.9772786'], (best ade:0.4398978 at step 39300) \n"
     ]
    },
    {
     "name": "stderr",
     "output_type": "stream",
     "text": [
      " 62%|██████▏   | 546/884 [00:23<00:16, 21.08it/s]"
     ]
    },
    {
     "name": "stdout",
     "output_type": "stream",
     "text": [
      "\tsaving model 47400...\n"
     ]
    },
    {
     "name": "stderr",
     "output_type": "stream",
     "text": [
      "\n",
      "  0%|          | 0/77 [00:00<?, ?it/s]\u001b[A\n",
      "  9%|9         | 7/77 [00:00<00:01, 67.28it/s]\u001b[A"
     ]
    },
    {
     "name": "stdout",
     "output_type": "stream",
     "text": [
      "\tdone\n",
      "Evaluating\n"
     ]
    },
    {
     "name": "stderr",
     "output_type": "stream",
     "text": [
      "\n",
      " 16%|#5        | 12/77 [00:00<00:01, 58.91it/s]\u001b[A\n",
      " 21%|##        | 16/77 [00:00<00:01, 51.29it/s]\u001b[A\n",
      " 27%|##7       | 21/77 [00:00<00:01, 48.42it/s]\u001b[A\n",
      " 35%|###5      | 27/77 [00:00<00:00, 50.53it/s]\u001b[A\n",
      " 42%|####1     | 32/77 [00:00<00:00, 50.01it/s]\u001b[A\n",
      " 49%|####9     | 38/77 [00:00<00:00, 51.78it/s]\u001b[A\n",
      " 58%|#####8    | 45/77 [00:00<00:00, 55.57it/s]\u001b[A\n",
      " 68%|######7   | 52/77 [00:00<00:00, 57.05it/s]\u001b[A\n",
      " 77%|#######6  | 59/77 [00:01<00:00, 59.24it/s]\u001b[A\n",
      " 86%|########5 | 66/77 [00:01<00:00, 61.24it/s]\u001b[A\n",
      " 95%|#########4| 73/77 [00:01<00:00, 63.03it/s]\u001b[A\n",
      " 62%|██████▏   | 551/884 [00:25<00:54,  6.07it/s]A"
     ]
    },
    {
     "name": "stdout",
     "output_type": "stream",
     "text": [
      "{'ade': 0.44216043, 'fde': 0.9649809}\n",
      "\t last loss:0.000385301, eval on validation:['ade: 0.44216043', 'fde: 0.9649809'], (best ade:0.4398978 at step 39300) \n"
     ]
    },
    {
     "name": "stderr",
     "output_type": "stream",
     "text": [
      " 96%|█████████▌| 847/884 [00:37<00:01, 26.08it/s]\n",
      "  0%|          | 0/77 [00:00<?, ?it/s]\u001b[A"
     ]
    },
    {
     "name": "stdout",
     "output_type": "stream",
     "text": [
      "\tsaving model 47700...\n",
      "\tdone\n",
      "Evaluating\n"
     ]
    },
    {
     "name": "stderr",
     "output_type": "stream",
     "text": [
      "\n",
      " 12%|#1        | 9/77 [00:00<00:00, 89.06it/s]\u001b[A\n",
      " 22%|##2       | 17/77 [00:00<00:00, 83.45it/s]\u001b[A\n",
      " 31%|###1      | 24/77 [00:00<00:00, 78.67it/s]\u001b[A\n",
      " 39%|###8      | 30/77 [00:00<00:00, 69.39it/s]\u001b[A\n",
      " 48%|####8     | 37/77 [00:00<00:00, 69.45it/s]\u001b[A\n",
      " 60%|#####9    | 46/77 [00:00<00:00, 72.93it/s]\u001b[A\n",
      " 70%|#######   | 54/77 [00:00<00:00, 74.62it/s]\u001b[A\n",
      " 82%|########1 | 63/77 [00:00<00:00, 77.71it/s]\u001b[A\n",
      " 94%|#########3| 72/77 [00:00<00:00, 79.38it/s]\u001b[A\n",
      " 96%|█████████▌| 850/884 [00:38<00:05,  6.27it/s]A"
     ]
    },
    {
     "name": "stdout",
     "output_type": "stream",
     "text": [
      "{'ade': 0.44144994, 'fde': 0.96303535}\n",
      "\t last loss:0.000395632, eval on validation:['ade: 0.44144994', 'fde: 0.96303535'], (best ade:0.4398978 at step 39300) \n"
     ]
    },
    {
     "name": "stderr",
     "output_type": "stream",
     "text": [
      "100%|██████████| 884/884 [00:40<00:00, 21.87it/s]\n",
      "  0%|          | 1/884 [00:00<01:33,  9.41it/s]"
     ]
    },
    {
     "name": "stdout",
     "output_type": "stream",
     "text": [
      "('Epoca 55.', 'lr:', 2.4850853e-05)\n"
     ]
    },
    {
     "name": "stderr",
     "output_type": "stream",
     "text": [
      " 30%|██▉       | 262/884 [00:10<00:23, 26.26it/s]\n",
      "  0%|          | 0/77 [00:00<?, ?it/s]\u001b[A"
     ]
    },
    {
     "name": "stdout",
     "output_type": "stream",
     "text": [
      "\tsaving model 48000...\n",
      "\tdone\n",
      "Evaluating\n"
     ]
    },
    {
     "name": "stderr",
     "output_type": "stream",
     "text": [
      "\n",
      " 12%|#1        | 9/77 [00:00<00:00, 83.40it/s]\u001b[A\n",
      " 21%|##        | 16/77 [00:00<00:00, 75.64it/s]\u001b[A\n",
      " 30%|##9       | 23/77 [00:00<00:00, 71.22it/s]\u001b[A\n",
      " 39%|###8      | 30/77 [00:00<00:00, 70.64it/s]\u001b[A\n",
      " 52%|#####1    | 40/77 [00:00<00:00, 75.27it/s]\u001b[A\n",
      " 64%|######3   | 49/77 [00:00<00:00, 78.20it/s]\u001b[A\n",
      " 75%|#######5  | 58/77 [00:00<00:00, 81.38it/s]\u001b[A\n",
      " 87%|########7 | 67/77 [00:00<00:00, 83.22it/s]\u001b[A\n",
      " 99%|#########8| 76/77 [00:00<00:00, 85.08it/s]\u001b[A\n",
      " 30%|██▉       | 265/884 [00:11<01:36,  6.41it/s]A"
     ]
    },
    {
     "name": "stdout",
     "output_type": "stream",
     "text": [
      "{'ade': 0.44109282, 'fde': 0.96188104}\n",
      "\t last loss:0.000398398, eval on validation:['ade: 0.44109282', 'fde: 0.96188104'], (best ade:0.4398978 at step 39300) \n"
     ]
    },
    {
     "name": "stderr",
     "output_type": "stream",
     "text": [
      " 64%|██████▎   | 562/884 [00:24<00:13, 23.03it/s]"
     ]
    },
    {
     "name": "stdout",
     "output_type": "stream",
     "text": [
      "\tsaving model 48300...\n"
     ]
    },
    {
     "name": "stderr",
     "output_type": "stream",
     "text": [
      "\n",
      "  0%|          | 0/77 [00:00<?, ?it/s]\u001b[A\n",
      "  9%|9         | 7/77 [00:00<00:01, 65.46it/s]\u001b[A"
     ]
    },
    {
     "name": "stdout",
     "output_type": "stream",
     "text": [
      "\tdone\n",
      "Evaluating\n"
     ]
    },
    {
     "name": "stderr",
     "output_type": "stream",
     "text": [
      "\n",
      " 17%|#6        | 13/77 [00:00<00:01, 61.59it/s]\u001b[A\n",
      " 23%|##3       | 18/77 [00:00<00:01, 55.36it/s]\u001b[A\n",
      " 34%|###3      | 26/77 [00:00<00:00, 59.65it/s]\u001b[A\n",
      " 44%|####4     | 34/77 [00:00<00:00, 63.58it/s]\u001b[A\n",
      " 52%|#####1    | 40/77 [00:00<00:00, 61.94it/s]\u001b[A\n",
      " 62%|######2   | 48/77 [00:00<00:00, 65.58it/s]\u001b[A\n",
      " 73%|#######2  | 56/77 [00:00<00:00, 68.83it/s]\u001b[A\n",
      " 84%|########4 | 65/77 [00:00<00:00, 72.71it/s]\u001b[A\n",
      " 95%|#########4| 73/77 [00:01<00:00, 74.06it/s]\u001b[A\n",
      " 64%|██████▍   | 565/884 [00:26<00:57,  5.60it/s]A"
     ]
    },
    {
     "name": "stdout",
     "output_type": "stream",
     "text": [
      "{'ade': 0.44013247, 'fde': 0.96015817}\n",
      "\t last loss:0.000270614, eval on validation:['ade: 0.44013247', 'fde: 0.96015817'], (best ade:0.4398978 at step 39300) \n"
     ]
    },
    {
     "name": "stderr",
     "output_type": "stream",
     "text": [
      " 97%|█████████▋| 861/884 [00:38<00:01, 21.46it/s]"
     ]
    },
    {
     "name": "stdout",
     "output_type": "stream",
     "text": [
      "\tsaving model 48600...\n"
     ]
    },
    {
     "name": "stderr",
     "output_type": "stream",
     "text": [
      "\n",
      "  0%|          | 0/77 [00:00<?, ?it/s]\u001b[A\n",
      "  9%|9         | 7/77 [00:00<00:01, 59.97it/s]\u001b[A"
     ]
    },
    {
     "name": "stdout",
     "output_type": "stream",
     "text": [
      "\tdone\n",
      "Evaluating\n"
     ]
    },
    {
     "name": "stderr",
     "output_type": "stream",
     "text": [
      "\n",
      " 16%|#5        | 12/77 [00:00<00:01, 52.71it/s]\u001b[A\n",
      " 22%|##2       | 17/77 [00:00<00:01, 49.50it/s]\u001b[A\n",
      " 30%|##9       | 23/77 [00:00<00:01, 50.93it/s]\u001b[A\n",
      " 38%|###7      | 29/77 [00:00<00:00, 51.77it/s]\u001b[A\n",
      " 47%|####6     | 36/77 [00:00<00:00, 55.15it/s]\u001b[A\n",
      " 56%|#####5    | 43/77 [00:00<00:00, 57.77it/s]\u001b[A\n",
      " 65%|######4   | 50/77 [00:00<00:00, 59.77it/s]\u001b[A\n",
      " 73%|#######2  | 56/77 [00:01<00:00, 58.71it/s]\u001b[A\n",
      " 82%|########1 | 63/77 [00:01<00:00, 59.33it/s]\u001b[A\n",
      " 91%|######### | 70/77 [00:01<00:00, 61.42it/s]\u001b[A\n",
      " 98%|█████████▊| 867/884 [00:40<00:02,  6.26it/s]A"
     ]
    },
    {
     "name": "stdout",
     "output_type": "stream",
     "text": [
      "{'ade': 0.4448386, 'fde': 0.9729634}\n",
      "\t last loss:0.000393419, eval on validation:['ade: 0.4448386', 'fde: 0.9729634'], (best ade:0.4398978 at step 39300) \n"
     ]
    },
    {
     "name": "stderr",
     "output_type": "stream",
     "text": [
      "100%|██████████| 884/884 [00:41<00:00, 21.37it/s]\n",
      "  0%|          | 2/884 [00:00<00:48, 18.16it/s]"
     ]
    },
    {
     "name": "stdout",
     "output_type": "stream",
     "text": [
      "('Epoca 56.', 'lr:', 2.4850853e-05)\n"
     ]
    },
    {
     "name": "stderr",
     "output_type": "stream",
     "text": [
      " 31%|███▏      | 277/884 [00:11<00:23, 26.14it/s]\n",
      "  0%|          | 0/77 [00:00<?, ?it/s]\u001b[A"
     ]
    },
    {
     "name": "stdout",
     "output_type": "stream",
     "text": [
      "\tsaving model 48900...\n",
      "\tdone\n",
      "Evaluating\n"
     ]
    },
    {
     "name": "stderr",
     "output_type": "stream",
     "text": [
      "\n",
      " 13%|#2        | 10/77 [00:00<00:00, 93.37it/s]\u001b[A\n",
      " 23%|##3       | 18/77 [00:00<00:00, 85.79it/s]\u001b[A\n",
      " 34%|###3      | 26/77 [00:00<00:00, 80.98it/s]\u001b[A\n",
      " 44%|####4     | 34/77 [00:00<00:00, 78.81it/s]\u001b[A\n",
      " 56%|#####5    | 43/77 [00:00<00:00, 78.35it/s]\u001b[A\n",
      " 66%|######6   | 51/77 [00:00<00:00, 77.14it/s]\u001b[A\n",
      " 78%|#######7  | 60/77 [00:00<00:00, 77.64it/s]\u001b[A\n",
      " 90%|########9 | 69/77 [00:00<00:00, 78.93it/s]\u001b[A\n",
      " 32%|███▏      | 283/884 [00:13<01:12,  8.26it/s]A"
     ]
    },
    {
     "name": "stdout",
     "output_type": "stream",
     "text": [
      "{'ade': 0.4410279, 'fde': 0.96281284}\n",
      "\t last loss:0.000243695, eval on validation:['ade: 0.4410279', 'fde: 0.96281284'], (best ade:0.4398978 at step 39300) \n"
     ]
    },
    {
     "name": "stderr",
     "output_type": "stream",
     "text": [
      " 65%|██████▌   | 577/884 [00:24<00:14, 21.91it/s]"
     ]
    },
    {
     "name": "stdout",
     "output_type": "stream",
     "text": [
      "\tsaving model 49200...\n"
     ]
    },
    {
     "name": "stderr",
     "output_type": "stream",
     "text": [
      "\n",
      "  0%|          | 0/77 [00:00<?, ?it/s]\u001b[A\n",
      "  9%|9         | 7/77 [00:00<00:01, 66.79it/s]\u001b[A"
     ]
    },
    {
     "name": "stdout",
     "output_type": "stream",
     "text": [
      "\tdone\n",
      "Evaluating\n"
     ]
    },
    {
     "name": "stderr",
     "output_type": "stream",
     "text": [
      "\n",
      " 18%|#8        | 14/77 [00:00<00:00, 64.69it/s]\u001b[A\n",
      " 25%|##4       | 19/77 [00:00<00:01, 57.40it/s]\u001b[A\n",
      " 31%|###1      | 24/77 [00:00<00:01, 52.55it/s]\u001b[A\n",
      " 38%|###7      | 29/77 [00:00<00:00, 50.60it/s]\u001b[A\n",
      " 45%|####5     | 35/77 [00:00<00:00, 51.29it/s]\u001b[A\n",
      " 55%|#####4    | 42/77 [00:00<00:00, 54.08it/s]\u001b[A\n",
      " 64%|######3   | 49/77 [00:00<00:00, 57.41it/s]\u001b[A\n",
      " 73%|#######2  | 56/77 [00:00<00:00, 59.45it/s]\u001b[A\n",
      " 82%|########1 | 63/77 [00:01<00:00, 60.45it/s]\u001b[A\n",
      " 91%|######### | 70/77 [00:01<00:00, 61.37it/s]\u001b[A\n",
      " 66%|██████▌   | 580/884 [00:26<01:03,  4.79it/s]A"
     ]
    },
    {
     "name": "stdout",
     "output_type": "stream",
     "text": [
      "{'ade': 0.44749668, 'fde': 0.97899103}\n",
      "\t last loss:0.000256976, eval on validation:['ade: 0.44749668', 'fde: 0.97899103'], (best ade:0.4398978 at step 39300) \n"
     ]
    },
    {
     "name": "stderr",
     "output_type": "stream",
     "text": [
      " 99%|█████████▉| 877/884 [00:40<00:00, 26.52it/s]\n",
      "  0%|          | 0/77 [00:00<?, ?it/s]\u001b[A"
     ]
    },
    {
     "name": "stdout",
     "output_type": "stream",
     "text": [
      "\tsaving model 49500...\n",
      "\tdone\n",
      "Evaluating\n"
     ]
    },
    {
     "name": "stderr",
     "output_type": "stream",
     "text": [
      "\n",
      " 13%|#2        | 10/77 [00:00<00:00, 92.36it/s]\u001b[A\n",
      " 22%|##2       | 17/77 [00:00<00:00, 81.93it/s]\u001b[A\n",
      " 30%|##9       | 23/77 [00:00<00:00, 73.53it/s]\u001b[A\n",
      " 36%|###6      | 28/77 [00:00<00:00, 64.20it/s]\u001b[A\n",
      " 48%|####8     | 37/77 [00:00<00:00, 69.11it/s]\u001b[A\n",
      " 57%|#####7    | 44/77 [00:00<00:00, 67.92it/s]\u001b[A\n",
      " 69%|######8   | 53/77 [00:00<00:00, 72.24it/s]\u001b[A\n",
      " 81%|########  | 62/77 [00:00<00:00, 75.62it/s]\u001b[A\n",
      " 92%|#########2| 71/77 [00:00<00:00, 78.18it/s]\u001b[A\n",
      "100%|█████████▉| 883/884 [00:41<00:00,  8.02it/s]A"
     ]
    },
    {
     "name": "stdout",
     "output_type": "stream",
     "text": [
      "{'ade': 0.44167635, 'fde': 0.9636513}\n",
      "\t last loss:0.000350570, eval on validation:['ade: 0.44167635', 'fde: 0.9636513'], (best ade:0.4398978 at step 39300) \n"
     ]
    },
    {
     "name": "stderr",
     "output_type": "stream",
     "text": [
      "100%|██████████| 884/884 [00:41<00:00, 21.24it/s]\n",
      "  0%|          | 2/884 [00:00<00:54, 16.27it/s]"
     ]
    },
    {
     "name": "stdout",
     "output_type": "stream",
     "text": [
      "('Epoca 57.', 'lr:', 2.1123227e-05)\n"
     ]
    },
    {
     "name": "stderr",
     "output_type": "stream",
     "text": [
      " 33%|███▎      | 293/884 [00:11<00:22, 26.52it/s]\n",
      "  0%|          | 0/77 [00:00<?, ?it/s]\u001b[A"
     ]
    },
    {
     "name": "stdout",
     "output_type": "stream",
     "text": [
      "\tsaving model 49800...\n",
      "\tdone\n",
      "Evaluating\n"
     ]
    },
    {
     "name": "stderr",
     "output_type": "stream",
     "text": [
      "\n",
      " 12%|#1        | 9/77 [00:00<00:00, 83.36it/s]\u001b[A\n",
      " 23%|##3       | 18/77 [00:00<00:00, 83.59it/s]\u001b[A\n",
      " 34%|###3      | 26/77 [00:00<00:00, 80.02it/s]\u001b[A\n",
      " 42%|####1     | 32/77 [00:00<00:00, 71.56it/s]\u001b[A\n",
      " 55%|#####4    | 42/77 [00:00<00:00, 76.50it/s]\u001b[A\n",
      " 65%|######4   | 50/77 [00:00<00:00, 76.42it/s]\u001b[A\n",
      " 78%|#######7  | 60/77 [00:00<00:00, 80.32it/s]\u001b[A\n",
      " 91%|######### | 70/77 [00:00<00:00, 83.37it/s]\u001b[A\n",
      " 34%|███▍      | 299/884 [00:13<01:09,  8.40it/s]A"
     ]
    },
    {
     "name": "stdout",
     "output_type": "stream",
     "text": [
      "{'ade': 0.4426997, 'fde': 0.96764135}\n",
      "\t last loss:0.000227199, eval on validation:['ade: 0.4426997', 'fde: 0.96764135'], (best ade:0.4398978 at step 39300) \n"
     ]
    },
    {
     "name": "stderr",
     "output_type": "stream",
     "text": [
      " 67%|██████▋   | 593/884 [00:26<00:13, 20.79it/s]"
     ]
    },
    {
     "name": "stdout",
     "output_type": "stream",
     "text": [
      "\tsaving model 50100...\n"
     ]
    },
    {
     "name": "stderr",
     "output_type": "stream",
     "text": [
      "\n",
      "  0%|          | 0/77 [00:00<?, ?it/s]\u001b[A\n",
      " 10%|#         | 8/77 [00:00<00:00, 76.72it/s]\u001b[A"
     ]
    },
    {
     "name": "stdout",
     "output_type": "stream",
     "text": [
      "\tdone\n",
      "Evaluating\n"
     ]
    },
    {
     "name": "stderr",
     "output_type": "stream",
     "text": [
      "\n",
      " 18%|#8        | 14/77 [00:00<00:00, 66.92it/s]\u001b[A\n",
      " 25%|##4       | 19/77 [00:00<00:00, 58.96it/s]\u001b[A\n",
      " 34%|###3      | 26/77 [00:00<00:00, 60.24it/s]\u001b[A\n",
      " 44%|####4     | 34/77 [00:00<00:00, 63.47it/s]\u001b[A\n",
      " 53%|#####3    | 41/77 [00:00<00:00, 64.26it/s]\u001b[A\n",
      " 61%|######1   | 47/77 [00:00<00:00, 59.80it/s]\u001b[A\n",
      " 73%|#######2  | 56/77 [00:00<00:00, 65.25it/s]\u001b[A\n",
      " 84%|########4 | 65/77 [00:00<00:00, 70.19it/s]\u001b[A\n",
      " 96%|#########6| 74/77 [00:01<00:00, 73.80it/s]\u001b[A\n",
      " 68%|██████▊   | 599/884 [00:27<00:40,  7.10it/s]A"
     ]
    },
    {
     "name": "stdout",
     "output_type": "stream",
     "text": [
      "{'ade': 0.44104856, 'fde': 0.9634548}\n",
      "\t last loss:0.000152741, eval on validation:['ade: 0.44104856', 'fde: 0.9634548'], (best ade:0.4398978 at step 39300) \n"
     ]
    },
    {
     "name": "stderr",
     "output_type": "stream",
     "text": [
      "100%|██████████| 884/884 [00:39<00:00, 24.66it/s]\n",
      "  0%|          | 3/884 [00:00<00:34, 25.30it/s]"
     ]
    },
    {
     "name": "stdout",
     "output_type": "stream",
     "text": [
      "('Epoca 58.', 'lr:', 2.1123227e-05)\n"
     ]
    },
    {
     "name": "stderr",
     "output_type": "stream",
     "text": [
      "  1%|          | 9/884 [00:00<00:33, 25.80it/s]\n",
      "  0%|          | 0/77 [00:00<?, ?it/s]\u001b[A"
     ]
    },
    {
     "name": "stdout",
     "output_type": "stream",
     "text": [
      "\tsaving model 50400...\n",
      "\tdone\n",
      "Evaluating\n"
     ]
    },
    {
     "name": "stderr",
     "output_type": "stream",
     "text": [
      "\n",
      " 13%|#2        | 10/77 [00:00<00:00, 92.56it/s]\u001b[A\n",
      " 25%|##4       | 19/77 [00:00<00:00, 90.85it/s]\u001b[A\n",
      " 32%|###2      | 25/77 [00:00<00:00, 77.31it/s]\u001b[A\n",
      " 44%|####4     | 34/77 [00:00<00:00, 79.21it/s]\u001b[A\n",
      " 56%|#####5    | 43/77 [00:00<00:00, 81.68it/s]\u001b[A\n",
      " 66%|######6   | 51/77 [00:00<00:00, 80.67it/s]\u001b[A\n",
      " 78%|#######7  | 60/77 [00:00<00:00, 82.44it/s]\u001b[A\n",
      " 91%|######### | 70/77 [00:00<00:00, 84.65it/s]\u001b[A\n",
      "  2%|▏         | 15/884 [00:01<01:41,  8.53it/s][A"
     ]
    },
    {
     "name": "stdout",
     "output_type": "stream",
     "text": [
      "{'ade': 0.4432978, 'fde': 0.969255}\n",
      "\t last loss:0.000320525, eval on validation:['ade: 0.4432978', 'fde: 0.969255'], (best ade:0.4398978 at step 39300) \n"
     ]
    },
    {
     "name": "stderr",
     "output_type": "stream",
     "text": [
      " 35%|███▌      | 311/884 [00:14<00:24, 22.99it/s]"
     ]
    },
    {
     "name": "stdout",
     "output_type": "stream",
     "text": [
      "\tsaving model 50700...\n"
     ]
    },
    {
     "name": "stderr",
     "output_type": "stream",
     "text": [
      "\n",
      "  0%|          | 0/77 [00:00<?, ?it/s]\u001b[A\n",
      "  9%|9         | 7/77 [00:00<00:01, 69.46it/s]\u001b[A"
     ]
    },
    {
     "name": "stdout",
     "output_type": "stream",
     "text": [
      "\tdone\n",
      "Evaluating\n"
     ]
    },
    {
     "name": "stderr",
     "output_type": "stream",
     "text": [
      "\n",
      " 16%|#5        | 12/77 [00:00<00:01, 59.02it/s]\u001b[A\n",
      " 23%|##3       | 18/77 [00:00<00:01, 58.24it/s]\u001b[A\n",
      " 31%|###1      | 24/77 [00:00<00:00, 56.75it/s]\u001b[A\n",
      " 40%|####      | 31/77 [00:00<00:00, 58.66it/s]\u001b[A\n",
      " 51%|#####     | 39/77 [00:00<00:00, 62.91it/s]\u001b[A\n",
      " 61%|######1   | 47/77 [00:00<00:00, 66.13it/s]\u001b[A\n",
      " 71%|#######1  | 55/77 [00:00<00:00, 68.45it/s]\u001b[A\n",
      " 82%|########1 | 63/77 [00:00<00:00, 69.51it/s]\u001b[A\n",
      " 91%|######### | 70/77 [00:01<00:00, 68.44it/s]\u001b[A\n",
      " 36%|███▌      | 314/884 [00:16<01:45,  5.42it/s]A"
     ]
    },
    {
     "name": "stdout",
     "output_type": "stream",
     "text": [
      "{'ade': 0.44230193, 'fde': 0.9658997}\n",
      "\t last loss:0.000321206, eval on validation:['ade: 0.44230193', 'fde: 0.9658997'], (best ade:0.4398978 at step 39300) \n"
     ]
    },
    {
     "name": "stderr",
     "output_type": "stream",
     "text": [
      " 69%|██████▉   | 611/884 [00:28<00:11, 24.64it/s]\n",
      "  0%|          | 0/77 [00:00<?, ?it/s]\u001b[A"
     ]
    },
    {
     "name": "stdout",
     "output_type": "stream",
     "text": [
      "\tsaving model 51000...\n",
      "\tdone\n",
      "Evaluating\n"
     ]
    },
    {
     "name": "stderr",
     "output_type": "stream",
     "text": [
      "\n",
      " 13%|#2        | 10/77 [00:00<00:00, 92.25it/s]\u001b[A\n",
      " 25%|##4       | 19/77 [00:00<00:00, 91.06it/s]\u001b[A\n",
      " 38%|###7      | 29/77 [00:00<00:00, 91.75it/s]\u001b[A\n",
      " 47%|####6     | 36/77 [00:00<00:00, 81.59it/s]\u001b[A\n",
      " 56%|#####5    | 43/77 [00:00<00:00, 77.34it/s]\u001b[A\n",
      " 65%|######4   | 50/77 [00:00<00:00, 74.45it/s]\u001b[A\n",
      " 77%|#######6  | 59/77 [00:00<00:00, 77.01it/s]\u001b[A\n",
      " 88%|########8 | 68/77 [00:00<00:00, 78.89it/s]\u001b[A\n",
      " 99%|#########8| 76/77 [00:00<00:00, 77.87it/s]\u001b[A\n",
      " 69%|██████▉   | 614/884 [00:29<00:42,  6.41it/s]A"
     ]
    },
    {
     "name": "stdout",
     "output_type": "stream",
     "text": [
      "{'ade': 0.44091806, 'fde': 0.9625929}\n",
      "\t last loss:0.000322472, eval on validation:['ade: 0.44091806', 'fde: 0.9625929'], (best ade:0.4398978 at step 39300) \n"
     ]
    },
    {
     "name": "stderr",
     "output_type": "stream",
     "text": [
      "100%|██████████| 884/884 [00:40<00:00, 26.04it/s]\n",
      "  0%|          | 3/884 [00:00<00:36, 23.87it/s]"
     ]
    },
    {
     "name": "stdout",
     "output_type": "stream",
     "text": [
      "('Epoca 59.', 'lr:', 1.7954744e-05)\n"
     ]
    },
    {
     "name": "stderr",
     "output_type": "stream",
     "text": [
      "  3%|▎         | 27/884 [00:01<00:34, 24.55it/s]\n",
      "  0%|          | 0/77 [00:00<?, ?it/s]\u001b[A"
     ]
    },
    {
     "name": "stdout",
     "output_type": "stream",
     "text": [
      "\tsaving model 51300...\n",
      "\tdone\n",
      "Evaluating\n"
     ]
    },
    {
     "name": "stderr",
     "output_type": "stream",
     "text": [
      "\n",
      " 12%|#1        | 9/77 [00:00<00:00, 83.95it/s]\u001b[A\n",
      " 19%|#9        | 15/77 [00:00<00:00, 74.50it/s]\u001b[A\n",
      " 29%|##8       | 22/77 [00:00<00:00, 71.80it/s]\u001b[A\n",
      " 36%|###6      | 28/77 [00:00<00:00, 65.59it/s]\u001b[A\n",
      " 47%|####6     | 36/77 [00:00<00:00, 67.01it/s]\u001b[A\n",
      " 57%|#####7    | 44/77 [00:00<00:00, 68.63it/s]\u001b[A\n",
      " 69%|######8   | 53/77 [00:00<00:00, 72.96it/s]\u001b[A\n",
      " 81%|########  | 62/77 [00:00<00:00, 75.67it/s]\u001b[A\n",
      " 92%|#########2| 71/77 [00:00<00:00, 78.21it/s]\u001b[A\n",
      "  3%|▎         | 30/884 [00:02<02:21,  6.01it/s][A"
     ]
    },
    {
     "name": "stdout",
     "output_type": "stream",
     "text": [
      "{'ade': 0.44465017, 'fde': 0.97322184}\n",
      "\t last loss:0.000256599, eval on validation:['ade: 0.44465017', 'fde: 0.97322184'], (best ade:0.4398978 at step 39300) \n"
     ]
    },
    {
     "name": "stderr",
     "output_type": "stream",
     "text": [
      " 37%|███▋      | 326/884 [00:15<00:22, 24.98it/s]\n",
      "  0%|          | 0/77 [00:00<?, ?it/s]"
     ]
    },
    {
     "name": "stdout",
     "output_type": "stream",
     "text": [
      "\tsaving model 51600...\n",
      "\tdone\n",
      "Evaluating\n"
     ]
    },
    {
     "name": "stderr",
     "output_type": "stream",
     "text": [
      "\u001b[A\n",
      " 12%|#1        | 9/77 [00:00<00:00, 83.60it/s]\u001b[A\n",
      " 21%|##        | 16/77 [00:00<00:00, 77.30it/s]\u001b[A\n",
      " 31%|###1      | 24/77 [00:00<00:00, 74.35it/s]\u001b[A\n",
      " 43%|####2     | 33/77 [00:00<00:00, 76.56it/s]\u001b[A\n",
      " 53%|#####3    | 41/77 [00:00<00:00, 76.90it/s]\u001b[A\n",
      " 66%|######6   | 51/77 [00:00<00:00, 80.71it/s]\u001b[A\n",
      " 78%|#######7  | 60/77 [00:00<00:00, 80.69it/s]\u001b[A\n",
      " 88%|########8 | 68/77 [00:00<00:00, 79.46it/s]\u001b[A\n",
      " 38%|███▊      | 332/884 [00:17<01:07,  8.14it/s]A"
     ]
    },
    {
     "name": "stdout",
     "output_type": "stream",
     "text": [
      "{'ade': 0.4416887, 'fde': 0.9655057}\n",
      "\t last loss:0.000227112, eval on validation:['ade: 0.4416887', 'fde: 0.9655057'], (best ade:0.4398978 at step 39300) \n"
     ]
    },
    {
     "name": "stderr",
     "output_type": "stream",
     "text": [
      " 71%|███████   | 626/884 [00:28<00:10, 25.14it/s]"
     ]
    },
    {
     "name": "stdout",
     "output_type": "stream",
     "text": [
      "\tsaving model 51900...\n"
     ]
    },
    {
     "name": "stderr",
     "output_type": "stream",
     "text": [
      "\n",
      "  0%|          | 0/77 [00:00<?, ?it/s]\u001b[A\n",
      " 10%|#         | 8/77 [00:00<00:00, 72.64it/s]\u001b[A\n",
      " 18%|#8        | 14/77 [00:00<00:00, 66.93it/s]\u001b[A\n",
      " 26%|##5       | 20/77 [00:00<00:00, 64.13it/s]\u001b[A\n",
      " 36%|###6      | 28/77 [00:00<00:00, 66.53it/s]\u001b[A\n",
      " 47%|####6     | 36/77 [00:00<00:00, 68.05it/s]\u001b[A\n",
      " 57%|#####7    | 44/77 [00:00<00:00, 71.15it/s]\u001b[A\n",
      " 69%|######8   | 53/77 [00:00<00:00, 74.78it/s]\u001b[A\n",
      " 81%|########  | 62/77 [00:00<00:00, 76.76it/s]\u001b[A\n",
      " 91%|######### | 70/77 [00:00<00:00, 76.13it/s]\u001b[A\n",
      " 71%|███████▏  | 632/884 [00:30<00:32,  7.74it/s]A"
     ]
    },
    {
     "name": "stdout",
     "output_type": "stream",
     "text": [
      "\tdone\n",
      "Evaluating\n",
      "{'ade': 0.4408028, 'fde': 0.9635422}\n",
      "\t last loss:0.000355007, eval on validation:['ade: 0.4408028', 'fde: 0.9635422'], (best ade:0.4398978 at step 39300) \n"
     ]
    },
    {
     "name": "stderr",
     "output_type": "stream",
     "text": [
      "100%|██████████| 884/884 [00:42<00:00, 20.91it/s]\n",
      "  0%|          | 2/884 [00:00<00:54, 16.07it/s]"
     ]
    },
    {
     "name": "stdout",
     "output_type": "stream",
     "text": [
      "('Epoca 60.', 'lr:', 1.7954744e-05)\n"
     ]
    },
    {
     "name": "stderr",
     "output_type": "stream",
     "text": [
      "  5%|▍         | 41/884 [00:01<00:34, 24.22it/s]\n",
      "  0%|          | 0/77 [00:00<?, ?it/s]\u001b[A"
     ]
    },
    {
     "name": "stdout",
     "output_type": "stream",
     "text": [
      "\tsaving model 52200...\n",
      "\tdone\n",
      "Evaluating\n"
     ]
    },
    {
     "name": "stderr",
     "output_type": "stream",
     "text": [
      "\n",
      " 12%|#1        | 9/77 [00:00<00:00, 89.88it/s]\u001b[A\n",
      " 23%|##3       | 18/77 [00:00<00:00, 89.91it/s]\u001b[A\n",
      " 34%|###3      | 26/77 [00:00<00:00, 84.12it/s]\u001b[A\n",
      " 43%|####2     | 33/77 [00:00<00:00, 78.11it/s]\u001b[A\n",
      " 51%|#####     | 39/77 [00:00<00:00, 71.52it/s]\u001b[A\n",
      " 61%|######1   | 47/77 [00:00<00:00, 72.95it/s]\u001b[A\n",
      " 71%|#######1  | 55/77 [00:00<00:00, 73.71it/s]\u001b[A\n",
      " 84%|########4 | 65/77 [00:00<00:00, 78.54it/s]\u001b[A\n",
      " 97%|#########7| 75/77 [00:00<00:00, 82.28it/s]\u001b[A\n",
      "  5%|▌         | 47/884 [00:03<01:41,  8.24it/s][A"
     ]
    },
    {
     "name": "stdout",
     "output_type": "stream",
     "text": [
      "{'ade': 0.44163597, 'fde': 0.96381724}\n",
      "\t last loss:0.000286140, eval on validation:['ade: 0.44163597', 'fde: 0.96381724'], (best ade:0.4398978 at step 39300) \n"
     ]
    },
    {
     "name": "stderr",
     "output_type": "stream",
     "text": [
      " 39%|███▊      | 341/884 [00:14<00:22, 24.62it/s]\n",
      "  0%|          | 0/77 [00:00<?, ?it/s]\u001b[A"
     ]
    },
    {
     "name": "stdout",
     "output_type": "stream",
     "text": [
      "\tsaving model 52500...\n",
      "\tdone\n",
      "Evaluating\n"
     ]
    },
    {
     "name": "stderr",
     "output_type": "stream",
     "text": [
      "\n",
      " 12%|#1        | 9/77 [00:00<00:00, 84.37it/s]\u001b[A\n",
      " 23%|##3       | 18/77 [00:00<00:00, 84.35it/s]\u001b[A\n",
      " 31%|###1      | 24/77 [00:00<00:00, 74.26it/s]\u001b[A\n",
      " 39%|###8      | 30/77 [00:00<00:00, 67.63it/s]\u001b[A\n",
      " 47%|####6     | 36/77 [00:00<00:00, 63.93it/s]\u001b[A\n",
      " 57%|#####7    | 44/77 [00:00<00:00, 66.31it/s]\u001b[A\n",
      " 68%|######7   | 52/77 [00:00<00:00, 69.57it/s]\u001b[A\n",
      " 78%|#######7  | 60/77 [00:00<00:00, 70.61it/s]\u001b[A\n",
      " 90%|########9 | 69/77 [00:00<00:00, 73.84it/s]\u001b[A\n",
      " 39%|███▉      | 347/884 [00:16<01:09,  7.70it/s]A"
     ]
    },
    {
     "name": "stdout",
     "output_type": "stream",
     "text": [
      "{'ade': 0.44292352, 'fde': 0.96785384}\n",
      "\t last loss:0.000229070, eval on validation:['ade: 0.44292352', 'fde: 0.96785384'], (best ade:0.4398978 at step 39300) \n"
     ]
    },
    {
     "name": "stderr",
     "output_type": "stream",
     "text": [
      " 73%|███████▎  | 641/884 [00:28<00:11, 20.83it/s]"
     ]
    },
    {
     "name": "stdout",
     "output_type": "stream",
     "text": [
      "\tsaving model 52800...\n"
     ]
    },
    {
     "name": "stderr",
     "output_type": "stream",
     "text": [
      "\n",
      "  0%|          | 0/77 [00:00<?, ?it/s]\u001b[A\n",
      "  9%|9         | 7/77 [00:00<00:01, 67.92it/s]\u001b[A"
     ]
    },
    {
     "name": "stdout",
     "output_type": "stream",
     "text": [
      "\tdone\n",
      "Evaluating\n"
     ]
    },
    {
     "name": "stderr",
     "output_type": "stream",
     "text": [
      "\n",
      " 16%|#5        | 12/77 [00:00<00:01, 57.54it/s]\u001b[A\n",
      " 25%|##4       | 19/77 [00:00<00:00, 59.06it/s]\u001b[A\n",
      " 34%|###3      | 26/77 [00:00<00:00, 61.11it/s]\u001b[A\n",
      " 42%|####1     | 32/77 [00:00<00:00, 60.46it/s]\u001b[A\n",
      " 49%|####9     | 38/77 [00:00<00:00, 59.16it/s]\u001b[A\n",
      " 57%|#####7    | 44/77 [00:00<00:00, 59.20it/s]\u001b[A\n",
      " 66%|######6   | 51/77 [00:00<00:00, 61.34it/s]\u001b[A\n",
      " 75%|#######5  | 58/77 [00:00<00:00, 63.48it/s]\u001b[A\n",
      " 86%|########5 | 66/77 [00:01<00:00, 66.97it/s]\u001b[A\n",
      " 96%|#########6| 74/77 [00:01<00:00, 69.18it/s]\u001b[A\n",
      " 73%|███████▎  | 647/884 [00:30<00:35,  6.63it/s]A"
     ]
    },
    {
     "name": "stdout",
     "output_type": "stream",
     "text": [
      "{'ade': 0.4427273, 'fde': 0.9667303}\n",
      "\t last loss:0.000334122, eval on validation:['ade: 0.4427273', 'fde: 0.9667303'], (best ade:0.4398978 at step 39300) \n"
     ]
    },
    {
     "name": "stderr",
     "output_type": "stream",
     "text": [
      "100%|██████████| 884/884 [00:40<00:00, 21.98it/s]\n",
      "  0%|          | 1/884 [00:00<01:45,  8.34it/s]"
     ]
    },
    {
     "name": "stdout",
     "output_type": "stream",
     "text": [
      "('Epoca 61.', 'lr:', 1.5261532e-05)\n"
     ]
    },
    {
     "name": "stderr",
     "output_type": "stream",
     "text": [
      "  7%|▋         | 58/884 [00:02<00:33, 24.93it/s]\n",
      "  0%|          | 0/77 [00:00<?, ?it/s]\u001b[A"
     ]
    },
    {
     "name": "stdout",
     "output_type": "stream",
     "text": [
      "\tsaving model 53100...\n",
      "\tdone\n",
      "Evaluating\n"
     ]
    },
    {
     "name": "stderr",
     "output_type": "stream",
     "text": [
      "\n",
      " 12%|#1        | 9/77 [00:00<00:00, 86.43it/s]\u001b[A\n",
      " 23%|##3       | 18/77 [00:00<00:00, 85.83it/s]\u001b[A\n",
      " 32%|###2      | 25/77 [00:00<00:00, 77.35it/s]\u001b[A\n",
      " 42%|####1     | 32/77 [00:00<00:00, 73.21it/s]\u001b[A\n",
      " 51%|#####     | 39/77 [00:00<00:00, 71.13it/s]\u001b[A\n",
      " 62%|######2   | 48/77 [00:00<00:00, 73.91it/s]\u001b[A\n",
      " 71%|#######1  | 55/77 [00:00<00:00, 70.04it/s]\u001b[A\n",
      " 82%|########1 | 63/77 [00:00<00:00, 71.08it/s]\u001b[A\n",
      " 94%|#########3| 72/77 [00:00<00:00, 74.52it/s]\u001b[A\n",
      "  7%|▋         | 64/884 [00:03<01:44,  7.85it/s][A"
     ]
    },
    {
     "name": "stdout",
     "output_type": "stream",
     "text": [
      "{'ade': 0.4418619, 'fde': 0.96478564}\n",
      "\t last loss:0.000312594, eval on validation:['ade: 0.4418619', 'fde: 0.96478564'], (best ade:0.4398978 at step 39300) \n"
     ]
    },
    {
     "name": "stderr",
     "output_type": "stream",
     "text": [
      " 40%|████      | 358/884 [00:16<00:25, 20.84it/s]"
     ]
    },
    {
     "name": "stdout",
     "output_type": "stream",
     "text": [
      "\tsaving model 53400...\n"
     ]
    },
    {
     "name": "stderr",
     "output_type": "stream",
     "text": [
      "\n",
      "  0%|          | 0/77 [00:00<?, ?it/s]\u001b[A\n",
      "  9%|9         | 7/77 [00:00<00:01, 61.96it/s]\u001b[A"
     ]
    },
    {
     "name": "stdout",
     "output_type": "stream",
     "text": [
      "\tdone\n",
      "Evaluating\n"
     ]
    },
    {
     "name": "stderr",
     "output_type": "stream",
     "text": [
      "\n",
      " 16%|#5        | 12/77 [00:00<00:01, 54.05it/s]\u001b[A\n",
      " 22%|##2       | 17/77 [00:00<00:01, 50.66it/s]\u001b[A\n",
      " 30%|##9       | 23/77 [00:00<00:01, 51.69it/s]\u001b[A\n",
      " 38%|###7      | 29/77 [00:00<00:00, 52.00it/s]\u001b[A\n",
      " 47%|####6     | 36/77 [00:00<00:00, 55.53it/s]\u001b[A\n",
      " 56%|#####5    | 43/77 [00:00<00:00, 58.04it/s]\u001b[A\n",
      " 65%|######4   | 50/77 [00:00<00:00, 59.84it/s]\u001b[A\n",
      " 73%|#######2  | 56/77 [00:00<00:00, 59.76it/s]\u001b[A\n",
      " 82%|########1 | 63/77 [00:01<00:00, 60.81it/s]\u001b[A\n",
      " 91%|######### | 70/77 [00:01<00:00, 62.32it/s]\u001b[A\n",
      " 41%|████      | 361/884 [00:17<01:47,  4.87it/s]A"
     ]
    },
    {
     "name": "stdout",
     "output_type": "stream",
     "text": [
      "{'ade': 0.44300672, 'fde': 0.9683849}\n",
      "\t last loss:0.000285300, eval on validation:['ade: 0.44300672', 'fde: 0.9683849'], (best ade:0.4398978 at step 39300) \n"
     ]
    },
    {
     "name": "stderr",
     "output_type": "stream",
     "text": [
      " 74%|███████▍  | 658/884 [00:30<00:08, 25.18it/s]"
     ]
    },
    {
     "name": "stdout",
     "output_type": "stream",
     "text": [
      "\tsaving model 53700...\n"
     ]
    },
    {
     "name": "stderr",
     "output_type": "stream",
     "text": [
      "\n",
      "  0%|          | 0/77 [00:00<?, ?it/s]\u001b[A\n",
      " 10%|#         | 8/77 [00:00<00:00, 73.90it/s]\u001b[A\n",
      " 18%|#8        | 14/77 [00:00<00:00, 66.93it/s]\u001b[A\n",
      " 27%|##7       | 21/77 [00:00<00:00, 65.35it/s]\u001b[A\n",
      " 38%|###7      | 29/77 [00:00<00:00, 67.96it/s]\u001b[A\n",
      " 47%|####6     | 36/77 [00:00<00:00, 68.47it/s]\u001b[A\n",
      " 58%|#####8    | 45/77 [00:00<00:00, 72.70it/s]\u001b[A\n",
      " 70%|#######   | 54/77 [00:00<00:00, 75.65it/s]\u001b[A\n",
      " 82%|########1 | 63/77 [00:00<00:00, 77.45it/s]\u001b[A\n",
      " 92%|#########2| 71/77 [00:00<00:00, 78.01it/s]\u001b[A\n",
      " 75%|███████▍  | 661/884 [00:31<00:37,  5.99it/s]A"
     ]
    },
    {
     "name": "stdout",
     "output_type": "stream",
     "text": [
      "\tdone\n",
      "Evaluating\n",
      "{'ade': 0.44212085, 'fde': 0.9651667}\n",
      "\t last loss:0.000251396, eval on validation:['ade: 0.44212085', 'fde: 0.9651667'], (best ade:0.4398978 at step 39300) \n"
     ]
    },
    {
     "name": "stderr",
     "output_type": "stream",
     "text": [
      "100%|██████████| 884/884 [00:40<00:00, 21.85it/s]\n",
      "  0%|          | 1/884 [00:00<01:40,  8.76it/s]"
     ]
    },
    {
     "name": "stdout",
     "output_type": "stream",
     "text": [
      "('Epoca 62.', 'lr:', 1.5261532e-05)\n"
     ]
    },
    {
     "name": "stderr",
     "output_type": "stream",
     "text": [
      "  8%|▊         | 75/884 [00:03<00:40, 19.91it/s]"
     ]
    },
    {
     "name": "stdout",
     "output_type": "stream",
     "text": [
      "\tsaving model 54000...\n"
     ]
    },
    {
     "name": "stderr",
     "output_type": "stream",
     "text": [
      "\n",
      "  0%|          | 0/77 [00:00<?, ?it/s]\u001b[A\n",
      "  9%|9         | 7/77 [00:00<00:01, 62.79it/s]\u001b[A"
     ]
    },
    {
     "name": "stdout",
     "output_type": "stream",
     "text": [
      "\tdone\n",
      "Evaluating\n"
     ]
    },
    {
     "name": "stderr",
     "output_type": "stream",
     "text": [
      "\n",
      " 14%|#4        | 11/77 [00:00<00:01, 51.57it/s]\u001b[A\n",
      " 21%|##        | 16/77 [00:00<00:01, 48.06it/s]\u001b[A\n",
      " 26%|##5       | 20/77 [00:00<00:01, 45.22it/s]\u001b[A\n",
      " 35%|###5      | 27/77 [00:00<00:01, 49.20it/s]\u001b[A\n",
      " 42%|####1     | 32/77 [00:00<00:00, 48.83it/s]\u001b[A\n",
      " 51%|#####     | 39/77 [00:00<00:00, 52.86it/s]\u001b[A\n",
      " 60%|#####9    | 46/77 [00:00<00:00, 56.40it/s]\u001b[A\n",
      " 68%|######7   | 52/77 [00:00<00:00, 57.04it/s]\u001b[A\n",
      " 77%|#######6  | 59/77 [00:01<00:00, 59.16it/s]\u001b[A\n",
      " 84%|########4 | 65/77 [00:01<00:00, 58.77it/s]\u001b[A\n",
      " 94%|#########3| 72/77 [00:01<00:00, 60.84it/s]\u001b[A\n",
      "100%|##########| 77/77 [00:01<00:00, 56.20it/s]\u001b[A"
     ]
    },
    {
     "name": "stdout",
     "output_type": "stream",
     "text": [
      "{'ade': 0.43980515, 'fde': 0.95944124}\n",
      "\t last loss:0.000285551, eval on validation:['ade: 0.43980515', 'fde: 0.95944124'], (best ade:0.4398978 at step 39300) \n",
      "\t saving best model...\n"
     ]
    },
    {
     "name": "stderr",
     "output_type": "stream",
     "text": [
      "\r",
      "  9%|▊         | 77/884 [00:05<04:24,  3.05it/s]"
     ]
    },
    {
     "name": "stdout",
     "output_type": "stream",
     "text": [
      "\t done.\n"
     ]
    },
    {
     "name": "stderr",
     "output_type": "stream",
     "text": [
      " 42%|████▏     | 374/884 [00:17<00:20, 25.35it/s]"
     ]
    },
    {
     "name": "stdout",
     "output_type": "stream",
     "text": [
      "\tsaving model 54300...\n"
     ]
    },
    {
     "name": "stderr",
     "output_type": "stream",
     "text": [
      "\n",
      "  0%|          | 0/77 [00:00<?, ?it/s]\u001b[A\n",
      " 12%|#1        | 9/77 [00:00<00:00, 84.25it/s]\u001b[A"
     ]
    },
    {
     "name": "stdout",
     "output_type": "stream",
     "text": [
      "\tdone\n",
      "Evaluating\n"
     ]
    },
    {
     "name": "stderr",
     "output_type": "stream",
     "text": [
      "\n",
      " 19%|#9        | 15/77 [00:00<00:00, 75.05it/s]\u001b[A\n",
      " 29%|##8       | 22/77 [00:00<00:00, 69.42it/s]\u001b[A\n",
      " 35%|###5      | 27/77 [00:00<00:00, 62.04it/s]\u001b[A\n",
      " 47%|####6     | 36/77 [00:00<00:00, 66.96it/s]\u001b[A\n",
      " 56%|#####5    | 43/77 [00:00<00:00, 67.84it/s]\u001b[A\n",
      " 68%|######7   | 52/77 [00:00<00:00, 71.67it/s]\u001b[A\n",
      " 78%|#######7  | 60/77 [00:00<00:00, 71.95it/s]\u001b[A\n",
      " 88%|########8 | 68/77 [00:00<00:00, 73.35it/s]\u001b[A\n",
      " 43%|████▎     | 377/884 [00:19<01:25,  5.92it/s]A"
     ]
    },
    {
     "name": "stdout",
     "output_type": "stream",
     "text": [
      "{'ade': 0.44176582, 'fde': 0.96504647}\n",
      "\t last loss:0.000252654, eval on validation:['ade: 0.44176582', 'fde: 0.96504647'], (best ade:0.43980515 at step 54000) \n"
     ]
    },
    {
     "name": "stderr",
     "output_type": "stream",
     "text": [
      " 76%|███████▌  | 674/884 [00:31<00:11, 18.58it/s]"
     ]
    },
    {
     "name": "stdout",
     "output_type": "stream",
     "text": [
      "\tsaving model 54600...\n"
     ]
    },
    {
     "name": "stderr",
     "output_type": "stream",
     "text": [
      "\n",
      "  0%|          | 0/77 [00:00<?, ?it/s]\u001b[A\n",
      "  8%|7         | 6/77 [00:00<00:01, 47.09it/s]\u001b[A"
     ]
    },
    {
     "name": "stdout",
     "output_type": "stream",
     "text": [
      "\tdone\n",
      "Evaluating\n"
     ]
    },
    {
     "name": "stderr",
     "output_type": "stream",
     "text": [
      "\n",
      " 13%|#2        | 10/77 [00:00<00:01, 44.37it/s]\u001b[A\n",
      " 19%|#9        | 15/77 [00:00<00:01, 45.15it/s]\u001b[A\n",
      " 29%|##8       | 22/77 [00:00<00:01, 49.80it/s]\u001b[A\n",
      " 40%|####      | 31/77 [00:00<00:00, 56.80it/s]\u001b[A\n",
      " 52%|#####1    | 40/77 [00:00<00:00, 62.91it/s]\u001b[A\n",
      " 64%|######3   | 49/77 [00:00<00:00, 67.66it/s]\u001b[A\n",
      " 77%|#######6  | 59/77 [00:00<00:00, 73.35it/s]\u001b[A\n",
      " 90%|########9 | 69/77 [00:00<00:00, 78.09it/s]\u001b[A\n",
      " 77%|███████▋  | 679/884 [00:32<00:38,  5.30it/s]A"
     ]
    },
    {
     "name": "stdout",
     "output_type": "stream",
     "text": [
      "{'ade': 0.44030064, 'fde': 0.9608405}\n",
      "\t last loss:0.000293621, eval on validation:['ade: 0.44030064', 'fde: 0.9608405'], (best ade:0.43980515 at step 54000) \n"
     ]
    },
    {
     "name": "stderr",
     "output_type": "stream",
     "text": [
      "100%|██████████| 884/884 [00:42<00:00, 21.02it/s]\n",
      "  0%|          | 1/884 [00:00<01:32,  9.59it/s]"
     ]
    },
    {
     "name": "stdout",
     "output_type": "stream",
     "text": [
      "('Epoca 63.', 'lr:', 1.2972303e-05)\n"
     ]
    },
    {
     "name": "stderr",
     "output_type": "stream",
     "text": [
      " 10%|█         | 90/884 [00:03<00:33, 23.93it/s]\n"
     ]
    },
    {
     "name": "stdout",
     "output_type": "stream",
     "text": [
      "\tsaving model 54900...\n",
      "\tdone\n",
      "Evaluating\n"
     ]
    },
    {
     "name": "stderr",
     "output_type": "stream",
     "text": [
      "  0%|          | 0/77 [00:00<?, ?it/s]\u001b[A\n",
      " 12%|#1        | 9/77 [00:00<00:00, 83.39it/s]\u001b[A\n",
      " 19%|#9        | 15/77 [00:00<00:00, 72.33it/s]\u001b[A\n",
      " 30%|##9       | 23/77 [00:00<00:00, 71.95it/s]\u001b[A\n",
      " 38%|###7      | 29/77 [00:00<00:00, 67.81it/s]\u001b[A\n",
      " 47%|####6     | 36/77 [00:00<00:00, 67.73it/s]\u001b[A\n",
      " 57%|#####7    | 44/77 [00:00<00:00, 68.47it/s]\u001b[A\n",
      " 69%|######8   | 53/77 [00:00<00:00, 72.35it/s]\u001b[A\n",
      " 81%|########  | 62/77 [00:00<00:00, 75.23it/s]\u001b[A\n",
      " 91%|######### | 70/77 [00:00<00:00, 76.20it/s]\u001b[A\n",
      " 11%|█         | 93/884 [00:05<02:13,  5.95it/s][A"
     ]
    },
    {
     "name": "stdout",
     "output_type": "stream",
     "text": [
      "{'ade': 0.4403071, 'fde': 0.9609222}\n",
      "\t last loss:0.000123273, eval on validation:['ade: 0.4403071', 'fde: 0.9609222'], (best ade:0.43980515 at step 54000) \n"
     ]
    },
    {
     "name": "stderr",
     "output_type": "stream",
     "text": [
      " 44%|████▍     | 390/884 [00:17<00:18, 26.55it/s]\n",
      "  0%|          | 0/77 [00:00<?, ?it/s]\u001b[A"
     ]
    },
    {
     "name": "stdout",
     "output_type": "stream",
     "text": [
      "\tsaving model 55200...\n",
      "\tdone\n",
      "Evaluating\n"
     ]
    },
    {
     "name": "stderr",
     "output_type": "stream",
     "text": [
      "\n",
      " 13%|#2        | 10/77 [00:00<00:00, 92.08it/s]\u001b[A\n",
      " 22%|##2       | 17/77 [00:00<00:00, 81.06it/s]\u001b[A\n",
      " 31%|###1      | 24/77 [00:00<00:00, 74.80it/s]\u001b[A\n",
      " 40%|####      | 31/77 [00:00<00:00, 73.22it/s]\u001b[A\n",
      " 49%|####9     | 38/77 [00:00<00:00, 70.58it/s]\u001b[A\n",
      " 62%|######2   | 48/77 [00:00<00:00, 75.83it/s]\u001b[A\n",
      " 74%|#######4  | 57/77 [00:00<00:00, 79.32it/s]\u001b[A\n",
      " 87%|########7 | 67/77 [00:00<00:00, 82.82it/s]\u001b[A\n",
      " 45%|████▍     | 396/884 [00:18<00:58,  8.39it/s]A"
     ]
    },
    {
     "name": "stdout",
     "output_type": "stream",
     "text": [
      "{'ade': 0.443135, 'fde': 0.9680381}\n",
      "\t last loss:0.000570739, eval on validation:['ade: 0.443135', 'fde: 0.9680381'], (best ade:0.43980515 at step 54000) \n"
     ]
    },
    {
     "name": "stderr",
     "output_type": "stream",
     "text": [
      " 78%|███████▊  | 689/884 [00:31<00:08, 24.00it/s]"
     ]
    },
    {
     "name": "stdout",
     "output_type": "stream",
     "text": [
      "\tsaving model 55500...\n"
     ]
    },
    {
     "name": "stderr",
     "output_type": "stream",
     "text": [
      "\n",
      "  0%|          | 0/77 [00:00<?, ?it/s]\u001b[A\n",
      " 12%|#1        | 9/77 [00:00<00:00, 86.27it/s]\u001b[A"
     ]
    },
    {
     "name": "stdout",
     "output_type": "stream",
     "text": [
      "\tdone\n",
      "Evaluating\n"
     ]
    },
    {
     "name": "stderr",
     "output_type": "stream",
     "text": [
      "\n",
      " 22%|##2       | 17/77 [00:00<00:00, 81.74it/s]\u001b[A\n",
      " 30%|##9       | 23/77 [00:00<00:00, 71.45it/s]\u001b[A\n",
      " 38%|###7      | 29/77 [00:00<00:00, 67.19it/s]\u001b[A\n",
      " 47%|####6     | 36/77 [00:00<00:00, 66.70it/s]\u001b[A\n",
      " 56%|#####5    | 43/77 [00:00<00:00, 67.49it/s]\u001b[A\n",
      " 68%|######7   | 52/77 [00:00<00:00, 71.70it/s]\u001b[A\n",
      " 78%|#######7  | 60/77 [00:00<00:00, 73.71it/s]\u001b[A\n",
      " 88%|########8 | 68/77 [00:00<00:00, 73.35it/s]\u001b[A\n",
      " 99%|#########8| 76/77 [00:01<00:00, 74.20it/s]\u001b[A\n",
      " 79%|███████▊  | 695/884 [00:33<00:24,  7.56it/s]A"
     ]
    },
    {
     "name": "stdout",
     "output_type": "stream",
     "text": [
      "{'ade': 0.44099292, 'fde': 0.9630084}\n",
      "\t last loss:0.000310725, eval on validation:['ade: 0.44099292', 'fde: 0.9630084'], (best ade:0.43980515 at step 54000) \n"
     ]
    },
    {
     "name": "stderr",
     "output_type": "stream",
     "text": [
      "100%|██████████| 884/884 [00:40<00:00, 25.04it/s]\n",
      "  0%|          | 2/884 [00:00<00:58, 14.99it/s]"
     ]
    },
    {
     "name": "stdout",
     "output_type": "stream",
     "text": [
      "('Epoca 64.', 'lr:', 1.2972303e-05)\n"
     ]
    },
    {
     "name": "stderr",
     "output_type": "stream",
     "text": [
      " 12%|█▏        | 107/884 [00:04<00:29, 26.49it/s]\n",
      "  0%|          | 0/77 [00:00<?, ?it/s]\u001b[A"
     ]
    },
    {
     "name": "stdout",
     "output_type": "stream",
     "text": [
      "\tsaving model 55800...\n",
      "\tdone\n",
      "Evaluating\n"
     ]
    },
    {
     "name": "stderr",
     "output_type": "stream",
     "text": [
      "\n",
      " 13%|#2        | 10/77 [00:00<00:00, 93.37it/s]\u001b[A\n",
      " 22%|##2       | 17/77 [00:00<00:00, 82.18it/s]\u001b[A\n",
      " 32%|###2      | 25/77 [00:00<00:00, 79.04it/s]\u001b[A\n",
      " 42%|####1     | 32/77 [00:00<00:00, 75.51it/s]\u001b[A\n",
      " 52%|#####1    | 40/77 [00:00<00:00, 76.65it/s]\u001b[A\n",
      " 64%|######3   | 49/77 [00:00<00:00, 77.76it/s]\u001b[A\n",
      " 77%|#######6  | 59/77 [00:00<00:00, 81.54it/s]\u001b[A\n",
      " 88%|########8 | 68/77 [00:00<00:00, 82.84it/s]\u001b[A\n",
      " 12%|█▏        | 110/884 [00:05<01:58,  6.54it/s]A"
     ]
    },
    {
     "name": "stdout",
     "output_type": "stream",
     "text": [
      "{'ade': 0.4418349, 'fde': 0.9642677}\n",
      "\t last loss:0.000236778, eval on validation:['ade: 0.4418349', 'fde: 0.9642677'], (best ade:0.43980515 at step 54000) \n"
     ]
    },
    {
     "name": "stderr",
     "output_type": "stream",
     "text": [
      " 46%|████▌     | 407/884 [00:18<00:20, 22.88it/s]\n",
      "  0%|          | 0/77 [00:00<?, ?it/s]\u001b[A"
     ]
    },
    {
     "name": "stdout",
     "output_type": "stream",
     "text": [
      "\tsaving model 56100...\n",
      "\tdone\n",
      "Evaluating\n"
     ]
    },
    {
     "name": "stderr",
     "output_type": "stream",
     "text": [
      "\n",
      " 12%|#1        | 9/77 [00:00<00:00, 83.05it/s]\u001b[A\n",
      " 21%|##        | 16/77 [00:00<00:00, 75.51it/s]\u001b[A\n",
      " 29%|##8       | 22/77 [00:00<00:00, 66.07it/s]\u001b[A\n",
      " 35%|###5      | 27/77 [00:00<00:00, 59.92it/s]\u001b[A\n",
      " 43%|####2     | 33/77 [00:00<00:00, 56.74it/s]\u001b[A\n",
      " 52%|#####1    | 40/77 [00:00<00:00, 59.31it/s]\u001b[A\n",
      " 61%|######1   | 47/77 [00:00<00:00, 62.16it/s]\u001b[A\n",
      " 73%|#######2  | 56/77 [00:00<00:00, 66.95it/s]\u001b[A\n",
      " 84%|########4 | 65/77 [00:00<00:00, 70.94it/s]\u001b[A\n",
      " 96%|#########6| 74/77 [00:01<00:00, 73.69it/s]\u001b[A\n",
      " 46%|████▋     | 410/884 [00:20<01:25,  5.57it/s]A"
     ]
    },
    {
     "name": "stdout",
     "output_type": "stream",
     "text": [
      "{'ade': 0.44076183, 'fde': 0.9624665}\n",
      "\t last loss:0.000484287, eval on validation:['ade: 0.44076183', 'fde: 0.9624665'], (best ade:0.43980515 at step 54000) \n"
     ]
    },
    {
     "name": "stderr",
     "output_type": "stream",
     "text": [
      " 80%|███████▉  | 707/884 [00:32<00:06, 26.68it/s]\n",
      "  0%|          | 0/77 [00:00<?, ?it/s]\u001b[A"
     ]
    },
    {
     "name": "stdout",
     "output_type": "stream",
     "text": [
      "\tsaving model 56400...\n",
      "\tdone\n",
      "Evaluating\n"
     ]
    },
    {
     "name": "stderr",
     "output_type": "stream",
     "text": [
      "\n",
      " 13%|#2        | 10/77 [00:00<00:00, 92.82it/s]\u001b[A\n",
      " 25%|##4       | 19/77 [00:00<00:00, 91.65it/s]\u001b[A\n",
      " 32%|###2      | 25/77 [00:00<00:00, 78.30it/s]\u001b[A\n",
      " 43%|####2     | 33/77 [00:00<00:00, 75.87it/s]\u001b[A\n",
      " 55%|#####4    | 42/77 [00:00<00:00, 77.69it/s]\u001b[A\n",
      " 66%|######6   | 51/77 [00:00<00:00, 80.27it/s]\u001b[A\n",
      " 78%|#######7  | 60/77 [00:00<00:00, 80.88it/s]\u001b[A\n",
      " 88%|########8 | 68/77 [00:00<00:00, 80.45it/s]\u001b[A\n",
      " 80%|████████  | 710/884 [00:33<00:26,  6.56it/s]A"
     ]
    },
    {
     "name": "stdout",
     "output_type": "stream",
     "text": [
      "{'ade': 0.4446524, 'fde': 0.9717517}\n",
      "\t last loss:0.000409616, eval on validation:['ade: 0.4446524', 'fde: 0.9717517'], (best ade:0.43980515 at step 54000) \n"
     ]
    },
    {
     "name": "stderr",
     "output_type": "stream",
     "text": [
      "100%|██████████| 884/884 [00:40<00:00, 21.66it/s]\n",
      "  0%|          | 2/884 [00:00<00:57, 15.33it/s]"
     ]
    },
    {
     "name": "stdout",
     "output_type": "stream",
     "text": [
      "('Epoca 65.', 'lr:', 1.1026457e-05)\n"
     ]
    },
    {
     "name": "stderr",
     "output_type": "stream",
     "text": [
      " 14%|█▍        | 123/884 [00:05<00:33, 22.60it/s]"
     ]
    },
    {
     "name": "stdout",
     "output_type": "stream",
     "text": [
      "\tsaving model 56700...\n"
     ]
    },
    {
     "name": "stderr",
     "output_type": "stream",
     "text": [
      "\n",
      "  0%|          | 0/77 [00:00<?, ?it/s]\u001b[A\n",
      " 12%|#1        | 9/77 [00:00<00:00, 84.56it/s]\u001b[A"
     ]
    },
    {
     "name": "stdout",
     "output_type": "stream",
     "text": [
      "\tdone\n",
      "Evaluating\n"
     ]
    },
    {
     "name": "stderr",
     "output_type": "stream",
     "text": [
      "\n",
      " 19%|#9        | 15/77 [00:00<00:00, 71.80it/s]\u001b[A\n",
      " 27%|##7       | 21/77 [00:00<00:00, 67.31it/s]\u001b[A\n",
      " 34%|###3      | 26/77 [00:00<00:00, 59.98it/s]\u001b[A\n",
      " 45%|####5     | 35/77 [00:00<00:00, 65.22it/s]\u001b[A\n",
      " 55%|#####4    | 42/77 [00:00<00:00, 66.42it/s]\u001b[A\n",
      " 66%|######6   | 51/77 [00:00<00:00, 70.90it/s]\u001b[A\n",
      " 77%|#######6  | 59/77 [00:00<00:00, 72.94it/s]\u001b[A\n",
      " 88%|########8 | 68/77 [00:00<00:00, 75.42it/s]\u001b[A\n",
      " 14%|█▍        | 126/884 [00:07<02:10,  5.79it/s]A"
     ]
    },
    {
     "name": "stdout",
     "output_type": "stream",
     "text": [
      "{'ade': 0.44127163, 'fde': 0.96339}\n",
      "\t last loss:0.000332427, eval on validation:['ade: 0.44127163', 'fde: 0.96339'], (best ade:0.43980515 at step 54000) \n"
     ]
    },
    {
     "name": "stderr",
     "output_type": "stream",
     "text": [
      " 48%|████▊     | 422/884 [00:19<00:17, 26.53it/s]\n",
      "  0%|          | 0/77 [00:00<?, ?it/s]\u001b[A"
     ]
    },
    {
     "name": "stdout",
     "output_type": "stream",
     "text": [
      "\tsaving model 57000...\n",
      "\tdone\n",
      "Evaluating\n"
     ]
    },
    {
     "name": "stderr",
     "output_type": "stream",
     "text": [
      "\n",
      " 10%|#         | 8/77 [00:00<00:00, 79.12it/s]\u001b[A\n",
      " 19%|#9        | 15/77 [00:00<00:00, 75.52it/s]\u001b[A\n",
      " 29%|##8       | 22/77 [00:00<00:00, 72.56it/s]\u001b[A\n",
      " 38%|###7      | 29/77 [00:00<00:00, 69.84it/s]\u001b[A\n",
      " 49%|####9     | 38/77 [00:00<00:00, 72.55it/s]\u001b[A\n",
      " 62%|######2   | 48/77 [00:00<00:00, 77.74it/s]\u001b[A\n",
      " 75%|#######5  | 58/77 [00:00<00:00, 81.61it/s]\u001b[A\n",
      " 88%|########8 | 68/77 [00:00<00:00, 84.79it/s]\u001b[A\n",
      " 48%|████▊     | 425/884 [00:20<01:10,  6.49it/s]A"
     ]
    },
    {
     "name": "stdout",
     "output_type": "stream",
     "text": [
      "{'ade': 0.44057003, 'fde': 0.9623635}\n",
      "\t last loss:0.000496563, eval on validation:['ade: 0.44057003', 'fde: 0.9623635'], (best ade:0.43980515 at step 54000) \n"
     ]
    },
    {
     "name": "stderr",
     "output_type": "stream",
     "text": [
      " 82%|████████▏ | 722/884 [00:34<00:06, 23.77it/s]"
     ]
    },
    {
     "name": "stdout",
     "output_type": "stream",
     "text": [
      "\tsaving model 57300...\n"
     ]
    },
    {
     "name": "stderr",
     "output_type": "stream",
     "text": [
      "\n",
      "  0%|          | 0/77 [00:00<?, ?it/s]\u001b[A\n",
      " 12%|#1        | 9/77 [00:00<00:00, 84.55it/s]\u001b[A\n",
      " 19%|#9        | 15/77 [00:00<00:00, 73.38it/s]\u001b[A\n",
      " 29%|##8       | 22/77 [00:00<00:00, 69.34it/s]\u001b[A\n",
      " 38%|###7      | 29/77 [00:00<00:00, 68.37it/s]\u001b[A\n",
      " 48%|####8     | 37/77 [00:00<00:00, 69.63it/s]\u001b[A\n",
      " 60%|#####9    | 46/77 [00:00<00:00, 73.05it/s]\u001b[A\n",
      " 71%|#######1  | 55/77 [00:00<00:00, 76.35it/s]\u001b[A\n",
      " 82%|########1 | 63/77 [00:00<00:00, 76.80it/s]\u001b[A\n",
      " 92%|#########2| 71/77 [00:00<00:00, 74.87it/s]\u001b[A\n",
      " 82%|████████▏ | 725/884 [00:35<00:26,  5.94it/s]A"
     ]
    },
    {
     "name": "stdout",
     "output_type": "stream",
     "text": [
      "\tdone\n",
      "Evaluating\n",
      "{'ade': 0.4422715, 'fde': 0.9669689}\n",
      "\t last loss:0.000287715, eval on validation:['ade: 0.4422715', 'fde: 0.9669689'], (best ade:0.43980515 at step 54000) \n"
     ]
    },
    {
     "name": "stderr",
     "output_type": "stream",
     "text": [
      "100%|██████████| 884/884 [00:41<00:00, 26.42it/s]\n",
      "  0%|          | 3/884 [00:00<00:34, 25.84it/s]"
     ]
    },
    {
     "name": "stdout",
     "output_type": "stream",
     "text": [
      "('Epoca 66.', 'lr:', 1.1026457e-05)\n"
     ]
    },
    {
     "name": "stderr",
     "output_type": "stream",
     "text": [
      " 16%|█▌        | 138/884 [00:05<00:29, 25.07it/s]\n",
      "  0%|          | 0/77 [00:00<?, ?it/s]\u001b[A"
     ]
    },
    {
     "name": "stdout",
     "output_type": "stream",
     "text": [
      "\tsaving model 57600...\n",
      "\tdone\n",
      "Evaluating\n"
     ]
    },
    {
     "name": "stderr",
     "output_type": "stream",
     "text": [
      "\n",
      " 13%|#2        | 10/77 [00:00<00:00, 93.03it/s]\u001b[A\n",
      " 26%|##5       | 20/77 [00:00<00:00, 92.48it/s]\u001b[A\n",
      " 36%|###6      | 28/77 [00:00<00:00, 84.78it/s]\u001b[A\n",
      " 45%|####5     | 35/77 [00:00<00:00, 78.01it/s]\u001b[A\n",
      " 56%|#####5    | 43/77 [00:00<00:00, 76.67it/s]\u001b[A\n",
      " 66%|######6   | 51/77 [00:00<00:00, 77.13it/s]\u001b[A\n",
      " 77%|#######6  | 59/77 [00:00<00:00, 76.73it/s]\u001b[A\n",
      " 88%|########8 | 68/77 [00:00<00:00, 79.89it/s]\u001b[A\n",
      " 16%|█▋        | 144/884 [00:06<01:28,  8.38it/s]A"
     ]
    },
    {
     "name": "stdout",
     "output_type": "stream",
     "text": [
      "{'ade': 0.44404006, 'fde': 0.97022897}\n",
      "\t last loss:0.000288899, eval on validation:['ade: 0.44404006', 'fde: 0.97022897'], (best ade:0.43980515 at step 54000) \n"
     ]
    },
    {
     "name": "stderr",
     "output_type": "stream",
     "text": [
      " 50%|████▉     | 438/884 [00:18<00:18, 24.13it/s]"
     ]
    },
    {
     "name": "stdout",
     "output_type": "stream",
     "text": [
      "\tsaving model 57900...\n"
     ]
    },
    {
     "name": "stderr",
     "output_type": "stream",
     "text": [
      "\n",
      "  0%|          | 0/77 [00:00<?, ?it/s]\u001b[A\n",
      " 12%|#1        | 9/77 [00:00<00:00, 85.53it/s]\u001b[A"
     ]
    },
    {
     "name": "stdout",
     "output_type": "stream",
     "text": [
      "\tdone\n",
      "Evaluating\n"
     ]
    },
    {
     "name": "stderr",
     "output_type": "stream",
     "text": [
      "\n",
      " 23%|##3       | 18/77 [00:00<00:00, 84.81it/s]\u001b[A\n",
      " 35%|###5      | 27/77 [00:00<00:00, 84.54it/s]\u001b[A\n",
      " 43%|####2     | 33/77 [00:00<00:00, 71.41it/s]\u001b[A\n",
      " 51%|#####     | 39/77 [00:00<00:00, 65.40it/s]\u001b[A\n",
      " 58%|#####8    | 45/77 [00:00<00:00, 63.63it/s]\u001b[A\n",
      " 68%|######7   | 52/77 [00:00<00:00, 64.91it/s]\u001b[A\n",
      " 79%|#######9  | 61/77 [00:00<00:00, 69.90it/s]\u001b[A\n",
      " 91%|######### | 70/77 [00:00<00:00, 73.31it/s]\u001b[A\n",
      " 50%|████▉     | 441/884 [00:20<01:14,  5.94it/s]A"
     ]
    },
    {
     "name": "stdout",
     "output_type": "stream",
     "text": [
      "{'ade': 0.4449405, 'fde': 0.97391015}\n",
      "\t last loss:0.000405859, eval on validation:['ade: 0.4449405', 'fde: 0.97391015'], (best ade:0.43980515 at step 54000) \n"
     ]
    },
    {
     "name": "stderr",
     "output_type": "stream",
     "text": [
      " 83%|████████▎ | 737/884 [00:33<00:05, 26.67it/s]\n",
      "  0%|          | 0/77 [00:00<?, ?it/s]\u001b[A"
     ]
    },
    {
     "name": "stdout",
     "output_type": "stream",
     "text": [
      "\tsaving model 58200...\n",
      "\tdone\n",
      "Evaluating\n"
     ]
    },
    {
     "name": "stderr",
     "output_type": "stream",
     "text": [
      "\n",
      " 12%|#1        | 9/77 [00:00<00:00, 88.83it/s]\u001b[A\n",
      " 21%|##        | 16/77 [00:00<00:00, 81.23it/s]\u001b[A\n",
      " 31%|###1      | 24/77 [00:00<00:00, 79.10it/s]\u001b[A\n",
      " 40%|####      | 31/77 [00:00<00:00, 76.07it/s]\u001b[A\n",
      " 51%|#####     | 39/77 [00:00<00:00, 76.07it/s]\u001b[A\n",
      " 62%|######2   | 48/77 [00:00<00:00, 79.53it/s]\u001b[A\n",
      " 75%|#######5  | 58/77 [00:00<00:00, 83.21it/s]\u001b[A\n",
      " 88%|########8 | 68/77 [00:00<00:00, 85.59it/s]\u001b[A\n",
      " 84%|████████▍ | 743/884 [00:34<00:16,  8.44it/s]A"
     ]
    },
    {
     "name": "stdout",
     "output_type": "stream",
     "text": [
      "{'ade': 0.4425435, 'fde': 0.967455}\n",
      "\t last loss:0.000338007, eval on validation:['ade: 0.4425435', 'fde: 0.967455'], (best ade:0.43980515 at step 54000) \n"
     ]
    },
    {
     "name": "stderr",
     "output_type": "stream",
     "text": [
      "100%|██████████| 884/884 [00:40<00:00, 25.60it/s]\n",
      "  0%|          | 3/884 [00:00<00:37, 23.36it/s]"
     ]
    },
    {
     "name": "stdout",
     "output_type": "stream",
     "text": [
      "('Epoca 67.', 'lr:', 9.37249e-06)\n"
     ]
    },
    {
     "name": "stderr",
     "output_type": "stream",
     "text": [
      " 17%|█▋        | 153/884 [00:05<00:29, 24.72it/s]\n",
      "  0%|          | 0/77 [00:00<?, ?it/s]\u001b[A"
     ]
    },
    {
     "name": "stdout",
     "output_type": "stream",
     "text": [
      "\tsaving model 58500...\n",
      "\tdone\n",
      "Evaluating\n"
     ]
    },
    {
     "name": "stderr",
     "output_type": "stream",
     "text": [
      "\n",
      " 12%|#1        | 9/77 [00:00<00:00, 83.90it/s]\u001b[A\n",
      " 22%|##2       | 17/77 [00:00<00:00, 81.96it/s]\u001b[A\n",
      " 30%|##9       | 23/77 [00:00<00:00, 72.85it/s]\u001b[A\n",
      " 39%|###8      | 30/77 [00:00<00:00, 70.74it/s]\u001b[A\n",
      " 47%|####6     | 36/77 [00:00<00:00, 66.21it/s]\u001b[A\n",
      " 58%|#####8    | 45/77 [00:00<00:00, 70.81it/s]\u001b[A\n",
      " 68%|######7   | 52/77 [00:00<00:00, 69.66it/s]\u001b[A\n",
      " 78%|#######7  | 60/77 [00:00<00:00, 71.85it/s]\u001b[A\n",
      " 88%|########8 | 68/77 [00:00<00:00, 73.38it/s]\u001b[A\n",
      " 18%|█▊        | 159/884 [00:07<01:33,  7.73it/s]A"
     ]
    },
    {
     "name": "stdout",
     "output_type": "stream",
     "text": [
      "{'ade': 0.4430072, 'fde': 0.9692799}\n",
      "\t last loss:0.000440104, eval on validation:['ade: 0.4430072', 'fde: 0.9692799'], (best ade:0.43980515 at step 54000) \n"
     ]
    },
    {
     "name": "stderr",
     "output_type": "stream",
     "text": [
      " 51%|█████▏    | 454/884 [00:20<00:16, 26.09it/s]\n",
      "  0%|          | 0/77 [00:00<?, ?it/s]\u001b[A"
     ]
    },
    {
     "name": "stdout",
     "output_type": "stream",
     "text": [
      "\tsaving model 58800...\n",
      "\tdone\n",
      "Evaluating\n"
     ]
    },
    {
     "name": "stderr",
     "output_type": "stream",
     "text": [
      "\n",
      " 13%|#2        | 10/77 [00:00<00:00, 91.54it/s]\u001b[A\n",
      " 22%|##2       | 17/77 [00:00<00:00, 80.57it/s]\u001b[A\n",
      " 31%|###1      | 24/77 [00:00<00:00, 73.64it/s]\u001b[A\n",
      " 40%|####      | 31/77 [00:00<00:00, 71.56it/s]\u001b[A\n",
      " 53%|#####3    | 41/77 [00:00<00:00, 76.74it/s]\u001b[A\n",
      " 62%|######2   | 48/77 [00:00<00:00, 64.78it/s]\u001b[A\n",
      " 71%|#######1  | 55/77 [00:00<00:00, 65.71it/s]\u001b[A\n",
      " 81%|########  | 62/77 [00:00<00:00, 66.32it/s]\u001b[A\n",
      " 91%|######### | 70/77 [00:01<00:00, 69.61it/s]\u001b[A\n",
      " 52%|█████▏    | 457/884 [00:22<01:10,  6.03it/s]A"
     ]
    },
    {
     "name": "stdout",
     "output_type": "stream",
     "text": [
      "{'ade': 0.44155273, 'fde': 0.96484727}\n",
      "\t last loss:0.000475990, eval on validation:['ade: 0.44155273', 'fde: 0.96484727'], (best ade:0.43980515 at step 54000) \n"
     ]
    },
    {
     "name": "stderr",
     "output_type": "stream",
     "text": [
      " 85%|████████▌ | 754/884 [00:35<00:05, 23.10it/s]"
     ]
    },
    {
     "name": "stdout",
     "output_type": "stream",
     "text": [
      "\tsaving model 59100...\n"
     ]
    },
    {
     "name": "stderr",
     "output_type": "stream",
     "text": [
      "\n",
      "  0%|          | 0/77 [00:00<?, ?it/s]\u001b[A\n",
      " 10%|#         | 8/77 [00:00<00:00, 77.27it/s]\u001b[A"
     ]
    },
    {
     "name": "stdout",
     "output_type": "stream",
     "text": [
      "\tdone\n",
      "Evaluating\n"
     ]
    },
    {
     "name": "stderr",
     "output_type": "stream",
     "text": [
      "\n",
      " 19%|#9        | 15/77 [00:00<00:00, 74.27it/s]\u001b[A\n",
      " 27%|##7       | 21/77 [00:00<00:00, 66.15it/s]\u001b[A\n",
      " 34%|###3      | 26/77 [00:00<00:00, 59.03it/s]\u001b[A\n",
      " 43%|####2     | 33/77 [00:00<00:00, 61.45it/s]\u001b[A\n",
      " 53%|#####3    | 41/77 [00:00<00:00, 65.02it/s]\u001b[A\n",
      " 62%|######2   | 48/77 [00:00<00:00, 65.07it/s]\u001b[A\n",
      " 73%|#######2  | 56/77 [00:00<00:00, 66.60it/s]\u001b[A\n",
      " 84%|########4 | 65/77 [00:00<00:00, 70.65it/s]\u001b[A\n",
      " 96%|#########6| 74/77 [00:01<00:00, 74.36it/s]\u001b[A\n",
      " 86%|████████▌ | 757/884 [00:36<00:22,  5.61it/s]A"
     ]
    },
    {
     "name": "stdout",
     "output_type": "stream",
     "text": [
      "{'ade': 0.44112572, 'fde': 0.9636556}\n",
      "\t last loss:0.000744090, eval on validation:['ade: 0.44112572', 'fde: 0.9636556'], (best ade:0.43980515 at step 54000) \n"
     ]
    },
    {
     "name": "stderr",
     "output_type": "stream",
     "text": [
      "100%|██████████| 884/884 [00:41<00:00, 21.14it/s]\n",
      "  0%|          | 1/884 [00:00<01:42,  8.59it/s]"
     ]
    },
    {
     "name": "stdout",
     "output_type": "stream",
     "text": [
      "('Epoca 68.', 'lr:', 9.37249e-06)\n"
     ]
    },
    {
     "name": "stderr",
     "output_type": "stream",
     "text": [
      " 19%|█▉        | 169/884 [00:06<00:26, 26.60it/s]\n",
      "  0%|          | 0/77 [00:00<?, ?it/s]\u001b[A"
     ]
    },
    {
     "name": "stdout",
     "output_type": "stream",
     "text": [
      "\tsaving model 59400...\n",
      "\tdone\n",
      "Evaluating\n"
     ]
    },
    {
     "name": "stderr",
     "output_type": "stream",
     "text": [
      "\n",
      " 12%|#1        | 9/77 [00:00<00:00, 89.55it/s]\u001b[A\n",
      " 23%|##3       | 18/77 [00:00<00:00, 88.04it/s]\u001b[A\n",
      " 32%|###2      | 25/77 [00:00<00:00, 78.23it/s]\u001b[A\n",
      " 42%|####1     | 32/77 [00:00<00:00, 73.23it/s]\u001b[A\n",
      " 53%|#####3    | 41/77 [00:00<00:00, 75.89it/s]\u001b[A\n",
      " 66%|######6   | 51/77 [00:00<00:00, 80.34it/s]\u001b[A\n",
      " 77%|#######6  | 59/77 [00:00<00:00, 78.12it/s]\u001b[A\n",
      " 90%|########9 | 69/77 [00:00<00:00, 81.72it/s]\u001b[A\n",
      " 20%|█▉        | 175/884 [00:08<01:23,  8.47it/s]A"
     ]
    },
    {
     "name": "stdout",
     "output_type": "stream",
     "text": [
      "{'ade': 0.44388452, 'fde': 0.9708547}\n",
      "\t last loss:0.000266313, eval on validation:['ade: 0.44388452', 'fde: 0.9708547'], (best ade:0.43980515 at step 54000) \n"
     ]
    },
    {
     "name": "stderr",
     "output_type": "stream",
     "text": [
      " 53%|█████▎    | 471/884 [00:21<00:17, 23.23it/s]"
     ]
    },
    {
     "name": "stdout",
     "output_type": "stream",
     "text": [
      "\tsaving model 59700...\n"
     ]
    },
    {
     "name": "stderr",
     "output_type": "stream",
     "text": [
      "\n",
      "  0%|          | 0/77 [00:00<?, ?it/s]\u001b[A\n",
      "  9%|9         | 7/77 [00:00<00:01, 64.21it/s]\u001b[A"
     ]
    },
    {
     "name": "stdout",
     "output_type": "stream",
     "text": [
      "\tdone\n",
      "Evaluating\n"
     ]
    },
    {
     "name": "stderr",
     "output_type": "stream",
     "text": [
      "\n",
      " 16%|#5        | 12/77 [00:00<00:01, 58.52it/s]\u001b[A\n",
      " 22%|##2       | 17/77 [00:00<00:01, 54.67it/s]\u001b[A\n",
      " 31%|###1      | 24/77 [00:00<00:00, 57.87it/s]\u001b[A\n",
      " 40%|####      | 31/77 [00:00<00:00, 60.11it/s]\u001b[A\n",
      " 49%|####9     | 38/77 [00:00<00:00, 61.71it/s]\u001b[A\n",
      " 60%|#####9    | 46/77 [00:00<00:00, 64.91it/s]\u001b[A\n",
      " 70%|#######   | 54/77 [00:00<00:00, 68.50it/s]\u001b[A\n",
      " 81%|########  | 62/77 [00:00<00:00, 69.83it/s]\u001b[A\n",
      " 91%|######### | 70/77 [00:01<00:00, 71.94it/s]\u001b[A\n",
      " 54%|█████▎    | 474/884 [00:22<01:14,  5.54it/s]A"
     ]
    },
    {
     "name": "stdout",
     "output_type": "stream",
     "text": [
      "{'ade': 0.44411212, 'fde': 0.9707733}\n",
      "\t last loss:0.000136440, eval on validation:['ade: 0.44411212', 'fde: 0.9707733'], (best ade:0.43980515 at step 54000) \n"
     ]
    },
    {
     "name": "stderr",
     "output_type": "stream",
     "text": [
      " 87%|████████▋ | 770/884 [00:35<00:04, 26.53it/s]\n",
      "  0%|          | 0/77 [00:00<?, ?it/s]\u001b[A"
     ]
    },
    {
     "name": "stdout",
     "output_type": "stream",
     "text": [
      "\tsaving model 60000...\n",
      "\tdone\n",
      "Evaluating\n"
     ]
    },
    {
     "name": "stderr",
     "output_type": "stream",
     "text": [
      "\n",
      " 12%|#1        | 9/77 [00:00<00:00, 87.03it/s]\u001b[A\n",
      " 23%|##3       | 18/77 [00:00<00:00, 85.88it/s]\u001b[A\n",
      " 32%|###2      | 25/77 [00:00<00:00, 80.04it/s]\u001b[A\n",
      " 40%|####      | 31/77 [00:00<00:00, 69.79it/s]\u001b[A\n",
      " 53%|#####3    | 41/77 [00:00<00:00, 75.44it/s]\u001b[A\n",
      " 65%|######4   | 50/77 [00:00<00:00, 77.60it/s]\u001b[A\n",
      " 77%|#######6  | 59/77 [00:00<00:00, 80.30it/s]\u001b[A\n",
      " 90%|########9 | 69/77 [00:00<00:00, 83.21it/s]\u001b[A\n",
      " 88%|████████▊ | 776/884 [00:36<00:12,  8.38it/s]A"
     ]
    },
    {
     "name": "stdout",
     "output_type": "stream",
     "text": [
      "{'ade': 0.44248194, 'fde': 0.9675779}\n",
      "\t last loss:0.000290232, eval on validation:['ade: 0.44248194', 'fde: 0.9675779'], (best ade:0.43980515 at step 54000) \n"
     ]
    },
    {
     "name": "stderr",
     "output_type": "stream",
     "text": [
      "100%|██████████| 884/884 [00:40<00:00, 24.98it/s]\n",
      "  0%|          | 1/884 [00:00<01:34,  9.39it/s]"
     ]
    },
    {
     "name": "stdout",
     "output_type": "stream",
     "text": [
      "('Epoca 69.', 'lr:', 7.966617e-06)\n"
     ]
    },
    {
     "name": "stderr",
     "output_type": "stream",
     "text": [
      " 21%|██        | 187/884 [00:08<00:30, 22.76it/s]"
     ]
    },
    {
     "name": "stdout",
     "output_type": "stream",
     "text": [
      "\tsaving model 60300...\n"
     ]
    },
    {
     "name": "stderr",
     "output_type": "stream",
     "text": [
      "\n",
      "  0%|          | 0/77 [00:00<?, ?it/s]\u001b[A\n",
      " 10%|#         | 8/77 [00:00<00:00, 74.59it/s]\u001b[A"
     ]
    },
    {
     "name": "stdout",
     "output_type": "stream",
     "text": [
      "\tdone\n",
      "Evaluating\n"
     ]
    },
    {
     "name": "stderr",
     "output_type": "stream",
     "text": [
      "\n",
      " 18%|#8        | 14/77 [00:00<00:00, 65.38it/s]\u001b[A\n",
      " 26%|##5       | 20/77 [00:00<00:00, 60.70it/s]\u001b[A\n",
      " 32%|###2      | 25/77 [00:00<00:00, 56.26it/s]\u001b[A\n",
      " 43%|####2     | 33/77 [00:00<00:00, 59.76it/s]\u001b[A\n",
      " 52%|#####1    | 40/77 [00:00<00:00, 62.16it/s]\u001b[A\n",
      " 64%|######3   | 49/77 [00:00<00:00, 67.31it/s]\u001b[A\n",
      " 74%|#######4  | 57/77 [00:00<00:00, 70.61it/s]\u001b[A\n",
      " 86%|########5 | 66/77 [00:00<00:00, 74.13it/s]\u001b[A\n",
      " 97%|#########7| 75/77 [00:01<00:00, 76.40it/s]\u001b[A\n",
      " 21%|██▏       | 190/884 [00:10<02:03,  5.62it/s]A"
     ]
    },
    {
     "name": "stdout",
     "output_type": "stream",
     "text": [
      "{'ade': 0.4425392, 'fde': 0.96735317}\n",
      "\t last loss:0.000168457, eval on validation:['ade: 0.4425392', 'fde: 0.96735317'], (best ade:0.43980515 at step 54000) \n"
     ]
    },
    {
     "name": "stderr",
     "output_type": "stream",
     "text": [
      " 55%|█████▌    | 487/884 [00:22<00:15, 26.28it/s]\n",
      "  0%|          | 0/77 [00:00<?, ?it/s]\u001b[A"
     ]
    },
    {
     "name": "stdout",
     "output_type": "stream",
     "text": [
      "\tsaving model 60600...\n",
      "\tdone\n",
      "Evaluating\n"
     ]
    },
    {
     "name": "stderr",
     "output_type": "stream",
     "text": [
      "\n",
      " 12%|#1        | 9/77 [00:00<00:00, 85.99it/s]\u001b[A\n",
      " 19%|#9        | 15/77 [00:00<00:00, 75.69it/s]\u001b[A\n",
      " 29%|##8       | 22/77 [00:00<00:00, 73.72it/s]\u001b[A\n",
      " 38%|###7      | 29/77 [00:00<00:00, 70.72it/s]\u001b[A\n",
      " 51%|#####     | 39/77 [00:00<00:00, 76.23it/s]\u001b[A\n",
      " 61%|######1   | 47/77 [00:00<00:00, 77.00it/s]\u001b[A\n",
      " 74%|#######4  | 57/77 [00:00<00:00, 81.17it/s]\u001b[A\n",
      " 86%|########5 | 66/77 [00:00<00:00, 82.92it/s]\u001b[A\n",
      " 97%|#########7| 75/77 [00:00<00:00, 83.41it/s]\u001b[A\n",
      " 55%|█████▌    | 490/884 [00:23<01:00,  6.47it/s]A"
     ]
    },
    {
     "name": "stdout",
     "output_type": "stream",
     "text": [
      "{'ade': 0.44199598, 'fde': 0.96615356}\n",
      "\t last loss:0.000368972, eval on validation:['ade: 0.44199598', 'fde: 0.96615356'], (best ade:0.43980515 at step 54000) \n"
     ]
    },
    {
     "name": "stderr",
     "output_type": "stream",
     "text": [
      " 89%|████████▉ | 787/884 [00:36<00:04, 22.71it/s]"
     ]
    },
    {
     "name": "stdout",
     "output_type": "stream",
     "text": [
      "\tsaving model 60900...\n"
     ]
    },
    {
     "name": "stderr",
     "output_type": "stream",
     "text": [
      "\n",
      "  0%|          | 0/77 [00:00<?, ?it/s]\u001b[A\n",
      " 10%|#         | 8/77 [00:00<00:00, 75.38it/s]\u001b[A"
     ]
    },
    {
     "name": "stdout",
     "output_type": "stream",
     "text": [
      "\tdone\n",
      "Evaluating\n"
     ]
    },
    {
     "name": "stderr",
     "output_type": "stream",
     "text": [
      "\n",
      " 19%|#9        | 15/77 [00:00<00:00, 73.01it/s]\u001b[A\n",
      " 27%|##7       | 21/77 [00:00<00:00, 65.75it/s]\u001b[A\n",
      " 35%|###5      | 27/77 [00:00<00:00, 60.73it/s]\u001b[A\n",
      " 44%|####4     | 34/77 [00:00<00:00, 62.52it/s]\u001b[A\n",
      " 55%|#####4    | 42/77 [00:00<00:00, 65.39it/s]\u001b[A\n",
      " 62%|######2   | 48/77 [00:00<00:00, 62.40it/s]\u001b[A\n",
      " 71%|#######1  | 55/77 [00:00<00:00, 63.04it/s]\u001b[A\n",
      " 82%|########1 | 63/77 [00:00<00:00, 66.76it/s]\u001b[A\n",
      " 94%|#########3| 72/77 [00:01<00:00, 71.14it/s]\u001b[A\n",
      " 89%|████████▉ | 790/884 [00:37<00:17,  5.52it/s]A"
     ]
    },
    {
     "name": "stdout",
     "output_type": "stream",
     "text": [
      "{'ade': 0.44317177, 'fde': 0.9699527}\n",
      "\t last loss:0.000378213, eval on validation:['ade: 0.44317177', 'fde: 0.9699527'], (best ade:0.43980515 at step 54000) \n"
     ]
    },
    {
     "name": "stderr",
     "output_type": "stream",
     "text": [
      "100%|██████████| 884/884 [00:41<00:00, 21.16it/s]\n",
      "  0%|          | 1/884 [00:00<01:55,  7.68it/s]"
     ]
    },
    {
     "name": "stdout",
     "output_type": "stream",
     "text": [
      "('Epoca 70.', 'lr:', 7.966617e-06)\n"
     ]
    },
    {
     "name": "stderr",
     "output_type": "stream",
     "text": [
      " 23%|██▎       | 202/884 [00:08<00:27, 25.25it/s]\n",
      "  0%|          | 0/77 [00:00<?, ?it/s]\u001b[A"
     ]
    },
    {
     "name": "stdout",
     "output_type": "stream",
     "text": [
      "\tsaving model 61200...\n",
      "\tdone\n",
      "Evaluating\n"
     ]
    },
    {
     "name": "stderr",
     "output_type": "stream",
     "text": [
      "\n",
      " 13%|#2        | 10/77 [00:00<00:00, 92.93it/s]\u001b[A\n",
      " 23%|##3       | 18/77 [00:00<00:00, 87.79it/s]\u001b[A\n",
      " 32%|###2      | 25/77 [00:00<00:00, 77.36it/s]\u001b[A\n",
      " 40%|####      | 31/77 [00:00<00:00, 68.94it/s]\u001b[A\n",
      " 52%|#####1    | 40/77 [00:00<00:00, 73.19it/s]\u001b[A\n",
      " 65%|######4   | 50/77 [00:00<00:00, 78.18it/s]\u001b[A\n",
      " 78%|#######7  | 60/77 [00:00<00:00, 81.29it/s]\u001b[A\n",
      " 88%|########8 | 68/77 [00:00<00:00, 80.25it/s]\u001b[A\n",
      " 23%|██▎       | 205/884 [00:09<01:45,  6.46it/s]A"
     ]
    },
    {
     "name": "stdout",
     "output_type": "stream",
     "text": [
      "{'ade': 0.44232446, 'fde': 0.9666329}\n",
      "\t last loss:0.000303417, eval on validation:['ade: 0.44232446', 'fde: 0.9666329'], (best ade:0.43980515 at step 54000) \n"
     ]
    },
    {
     "name": "stderr",
     "output_type": "stream",
     "text": [
      " 57%|█████▋    | 501/884 [00:22<00:15, 24.47it/s]\n",
      "  0%|          | 0/77 [00:00<?, ?it/s]\u001b[A"
     ]
    },
    {
     "name": "stdout",
     "output_type": "stream",
     "text": [
      "\tsaving model 61500...\n",
      "\tdone\n",
      "Evaluating\n"
     ]
    },
    {
     "name": "stderr",
     "output_type": "stream",
     "text": [
      "\n",
      " 12%|#1        | 9/77 [00:00<00:00, 82.50it/s]\u001b[A\n",
      " 21%|##        | 16/77 [00:00<00:00, 76.15it/s]\u001b[A\n",
      " 30%|##9       | 23/77 [00:00<00:00, 73.10it/s]\u001b[A\n",
      " 40%|####      | 31/77 [00:00<00:00, 74.21it/s]\u001b[A\n",
      " 52%|#####1    | 40/77 [00:00<00:00, 76.56it/s]\u001b[A\n",
      " 62%|######2   | 48/77 [00:00<00:00, 75.29it/s]\u001b[A\n",
      " 74%|#######4  | 57/77 [00:00<00:00, 77.68it/s]\u001b[A\n",
      " 86%|########5 | 66/77 [00:00<00:00, 79.39it/s]\u001b[A\n",
      " 97%|#########7| 75/77 [00:00<00:00, 80.15it/s]\u001b[A\n",
      " 57%|█████▋    | 507/884 [00:23<00:47,  7.95it/s]A"
     ]
    },
    {
     "name": "stdout",
     "output_type": "stream",
     "text": [
      "{'ade': 0.4433062, 'fde': 0.9697023}\n",
      "\t last loss:0.000399616, eval on validation:['ade: 0.4433062', 'fde: 0.9697023'], (best ade:0.43980515 at step 54000) \n"
     ]
    },
    {
     "name": "stderr",
     "output_type": "stream",
     "text": [
      " 91%|█████████ | 803/884 [00:36<00:03, 25.27it/s]\n",
      "  0%|          | 0/77 [00:00<?, ?it/s]\u001b[A"
     ]
    },
    {
     "name": "stdout",
     "output_type": "stream",
     "text": [
      "\tsaving model 61800...\n",
      "\tdone\n",
      "Evaluating\n"
     ]
    },
    {
     "name": "stderr",
     "output_type": "stream",
     "text": [
      "\n",
      " 13%|#2        | 10/77 [00:00<00:00, 92.76it/s]\u001b[A\n",
      " 26%|##5       | 20/77 [00:00<00:00, 92.70it/s]\u001b[A\n",
      " 35%|###5      | 27/77 [00:00<00:00, 82.86it/s]\u001b[A\n",
      " 44%|####4     | 34/77 [00:00<00:00, 78.11it/s]\u001b[A\n",
      " 53%|#####3    | 41/77 [00:00<00:00, 74.83it/s]\u001b[A\n",
      " 64%|######3   | 49/77 [00:00<00:00, 75.90it/s]\u001b[A\n",
      " 75%|#######5  | 58/77 [00:00<00:00, 77.81it/s]\u001b[A\n",
      " 88%|########8 | 68/77 [00:00<00:00, 81.62it/s]\u001b[A\n",
      " 91%|█████████ | 806/884 [00:37<00:12,  6.46it/s]A"
     ]
    },
    {
     "name": "stdout",
     "output_type": "stream",
     "text": [
      "{'ade': 0.44050956, 'fde': 0.96191055}\n",
      "\t last loss:0.000350711, eval on validation:['ade: 0.44050956', 'fde: 0.96191055'], (best ade:0.43980515 at step 54000) \n"
     ]
    },
    {
     "name": "stderr",
     "output_type": "stream",
     "text": [
      "100%|██████████| 884/884 [00:41<00:00, 24.28it/s]\n",
      "  0%|          | 3/884 [00:00<00:36, 23.85it/s]"
     ]
    },
    {
     "name": "stdout",
     "output_type": "stream",
     "text": [
      "('Epoca 71.', 'lr:', 6.7716246e-06)\n"
     ]
    },
    {
     "name": "stderr",
     "output_type": "stream",
     "text": [
      " 25%|██▍       | 219/884 [00:09<00:29, 22.88it/s]"
     ]
    },
    {
     "name": "stdout",
     "output_type": "stream",
     "text": [
      "\tsaving model 62100...\n"
     ]
    },
    {
     "name": "stderr",
     "output_type": "stream",
     "text": [
      "\n",
      "  0%|          | 0/77 [00:00<?, ?it/s]\u001b[A\n",
      " 10%|#         | 8/77 [00:00<00:00, 71.95it/s]\u001b[A"
     ]
    },
    {
     "name": "stdout",
     "output_type": "stream",
     "text": [
      "\tdone\n",
      "Evaluating\n"
     ]
    },
    {
     "name": "stderr",
     "output_type": "stream",
     "text": [
      "\n",
      " 17%|#6        | 13/77 [00:00<00:01, 63.20it/s]\u001b[A\n",
      " 23%|##3       | 18/77 [00:00<00:01, 56.23it/s]\u001b[A\n",
      " 31%|###1      | 24/77 [00:00<00:00, 57.25it/s]\u001b[A\n",
      " 42%|####1     | 32/77 [00:00<00:00, 61.14it/s]\u001b[A\n",
      " 49%|####9     | 38/77 [00:00<00:00, 60.33it/s]\u001b[A\n",
      " 61%|######1   | 47/77 [00:00<00:00, 65.81it/s]\u001b[A\n",
      " 73%|#######2  | 56/77 [00:00<00:00, 70.26it/s]\u001b[A\n",
      " 84%|########4 | 65/77 [00:00<00:00, 73.85it/s]\u001b[A\n",
      " 96%|#########6| 74/77 [00:01<00:00, 76.49it/s]\u001b[A\n",
      " 25%|██▌       | 222/884 [00:11<01:57,  5.65it/s]A"
     ]
    },
    {
     "name": "stdout",
     "output_type": "stream",
     "text": [
      "{'ade': 0.44071934, 'fde': 0.9628149}\n",
      "\t last loss:0.000277579, eval on validation:['ade: 0.44071934', 'fde: 0.9628149'], (best ade:0.43980515 at step 54000) \n"
     ]
    },
    {
     "name": "stderr",
     "output_type": "stream",
     "text": [
      " 59%|█████▊    | 518/884 [00:23<00:14, 25.69it/s]\n",
      "  0%|          | 0/77 [00:00<?, ?it/s]\u001b[A"
     ]
    },
    {
     "name": "stdout",
     "output_type": "stream",
     "text": [
      "\tsaving model 62400...\n",
      "\tdone\n",
      "Evaluating\n"
     ]
    },
    {
     "name": "stderr",
     "output_type": "stream",
     "text": [
      "\n",
      " 13%|#2        | 10/77 [00:00<00:00, 91.38it/s]\u001b[A\n",
      " 21%|##        | 16/77 [00:00<00:00, 78.15it/s]\u001b[A\n",
      " 30%|##9       | 23/77 [00:00<00:00, 71.15it/s]\u001b[A\n",
      " 39%|###8      | 30/77 [00:00<00:00, 69.74it/s]\u001b[A\n",
      " 49%|####9     | 38/77 [00:00<00:00, 71.61it/s]\u001b[A\n",
      " 61%|######1   | 47/77 [00:00<00:00, 74.94it/s]\u001b[A\n",
      " 74%|#######4  | 57/77 [00:00<00:00, 79.52it/s]\u001b[A\n",
      " 87%|########7 | 67/77 [00:00<00:00, 82.94it/s]\u001b[A\n",
      " 99%|#########8| 76/77 [00:00<00:00, 83.80it/s]\u001b[A\n",
      " 59%|█████▉    | 524/884 [00:25<00:43,  8.22it/s]A"
     ]
    },
    {
     "name": "stdout",
     "output_type": "stream",
     "text": [
      "{'ade': 0.44171727, 'fde': 0.9640591}\n",
      "\t last loss:0.000267363, eval on validation:['ade: 0.44171727', 'fde: 0.9640591'], (best ade:0.43980515 at step 54000) \n"
     ]
    },
    {
     "name": "stderr",
     "output_type": "stream",
     "text": [
      " 92%|█████████▏| 817/884 [00:38<00:03, 22.23it/s]"
     ]
    },
    {
     "name": "stdout",
     "output_type": "stream",
     "text": [
      "\tsaving model 62700...\n"
     ]
    },
    {
     "name": "stderr",
     "output_type": "stream",
     "text": [
      "\n",
      "  0%|          | 0/77 [00:00<?, ?it/s]\u001b[A\n",
      " 10%|#         | 8/77 [00:00<00:00, 74.98it/s]\u001b[A"
     ]
    },
    {
     "name": "stdout",
     "output_type": "stream",
     "text": [
      "\tdone\n",
      "Evaluating\n"
     ]
    },
    {
     "name": "stderr",
     "output_type": "stream",
     "text": [
      "\n",
      " 18%|#8        | 14/77 [00:00<00:00, 65.74it/s]\u001b[A\n",
      " 26%|##5       | 20/77 [00:00<00:00, 63.49it/s]\u001b[A\n",
      " 34%|###3      | 26/77 [00:00<00:00, 61.82it/s]\u001b[A\n",
      " 45%|####5     | 35/77 [00:00<00:00, 67.07it/s]\u001b[A\n",
      " 55%|#####4    | 42/77 [00:00<00:00, 66.71it/s]\u001b[A\n",
      " 66%|######6   | 51/77 [00:00<00:00, 70.80it/s]\u001b[A\n",
      " 78%|#######7  | 60/77 [00:00<00:00, 74.20it/s]\u001b[A\n",
      " 88%|########8 | 68/77 [00:00<00:00, 73.61it/s]\u001b[A\n",
      " 93%|█████████▎| 823/884 [00:39<00:08,  7.41it/s]A"
     ]
    },
    {
     "name": "stdout",
     "output_type": "stream",
     "text": [
      "{'ade': 0.44095737, 'fde': 0.9628573}\n",
      "\t last loss:0.000301068, eval on validation:['ade: 0.44095737', 'fde: 0.9628573'], (best ade:0.43980515 at step 54000) \n"
     ]
    },
    {
     "name": "stderr",
     "output_type": "stream",
     "text": [
      "100%|██████████| 884/884 [00:42<00:00, 20.83it/s]\n",
      "  0%|          | 2/884 [00:00<00:45, 19.31it/s]"
     ]
    },
    {
     "name": "stdout",
     "output_type": "stream",
     "text": [
      "('Epoca 72.', 'lr:', 6.7716246e-06)\n"
     ]
    },
    {
     "name": "stderr",
     "output_type": "stream",
     "text": [
      " 26%|██▋       | 233/884 [00:09<00:25, 25.38it/s]\n",
      "  0%|          | 0/77 [00:00<?, ?it/s]\u001b[A"
     ]
    },
    {
     "name": "stdout",
     "output_type": "stream",
     "text": [
      "\tsaving model 63000...\n",
      "\tdone\n",
      "Evaluating\n"
     ]
    },
    {
     "name": "stderr",
     "output_type": "stream",
     "text": [
      "\n",
      " 12%|#1        | 9/77 [00:00<00:00, 88.66it/s]\u001b[A\n",
      " 21%|##        | 16/77 [00:00<00:00, 79.97it/s]\u001b[A\n",
      " 30%|##9       | 23/77 [00:00<00:00, 75.37it/s]\u001b[A\n",
      " 40%|####      | 31/77 [00:00<00:00, 74.59it/s]\u001b[A\n",
      " 52%|#####1    | 40/77 [00:00<00:00, 78.44it/s]\u001b[A\n",
      " 61%|######1   | 47/77 [00:00<00:00, 74.21it/s]\u001b[A\n",
      " 74%|#######4  | 57/77 [00:00<00:00, 78.91it/s]\u001b[A\n",
      " 86%|########5 | 66/77 [00:00<00:00, 80.02it/s]\u001b[A\n",
      " 97%|#########7| 75/77 [00:00<00:00, 82.69it/s]\u001b[A\n",
      " 27%|██▋       | 239/884 [00:10<01:18,  8.17it/s]A"
     ]
    },
    {
     "name": "stdout",
     "output_type": "stream",
     "text": [
      "{'ade': 0.44131407, 'fde': 0.9641539}\n",
      "\t last loss:0.000265805, eval on validation:['ade: 0.44131407', 'fde: 0.9641539'], (best ade:0.43980515 at step 54000) \n"
     ]
    },
    {
     "name": "stderr",
     "output_type": "stream",
     "text": [
      " 60%|██████    | 533/884 [00:23<00:15, 22.93it/s]"
     ]
    },
    {
     "name": "stdout",
     "output_type": "stream",
     "text": [
      "\tsaving model 63300...\n"
     ]
    },
    {
     "name": "stderr",
     "output_type": "stream",
     "text": [
      "\n",
      "  0%|          | 0/77 [00:00<?, ?it/s]\u001b[A\n",
      " 10%|#         | 8/77 [00:00<00:00, 75.80it/s]\u001b[A\n",
      " 17%|#6        | 13/77 [00:00<00:01, 63.45it/s]\u001b[A\n",
      " 23%|##3       | 18/77 [00:00<00:01, 57.64it/s]\u001b[A\n",
      " 31%|###1      | 24/77 [00:00<00:00, 56.49it/s]\u001b[A\n",
      " 42%|####1     | 32/77 [00:00<00:00, 61.69it/s]\u001b[A\n",
      " 51%|#####     | 39/77 [00:00<00:00, 63.74it/s]\u001b[A\n",
      " 62%|######2   | 48/77 [00:00<00:00, 68.58it/s]\u001b[A\n",
      " 74%|#######4  | 57/77 [00:00<00:00, 72.48it/s]\u001b[A\n",
      " 86%|########5 | 66/77 [00:00<00:00, 75.53it/s]\u001b[A\n",
      " 97%|#########7| 75/77 [00:01<00:00, 78.03it/s]\u001b[A\n",
      " 61%|██████    | 539/884 [00:25<00:46,  7.36it/s]A"
     ]
    },
    {
     "name": "stdout",
     "output_type": "stream",
     "text": [
      "\tdone\n",
      "Evaluating\n",
      "{'ade': 0.44080892, 'fde': 0.9617877}\n",
      "\t last loss:0.000412558, eval on validation:['ade: 0.44080892', 'fde: 0.9617877'], (best ade:0.43980515 at step 54000) \n"
     ]
    },
    {
     "name": "stderr",
     "output_type": "stream",
     "text": [
      " 94%|█████████▍| 833/884 [00:36<00:02, 21.24it/s]"
     ]
    },
    {
     "name": "stdout",
     "output_type": "stream",
     "text": [
      "\tsaving model 63600...\n"
     ]
    },
    {
     "name": "stderr",
     "output_type": "stream",
     "text": [
      "\n",
      "  0%|          | 0/77 [00:00<?, ?it/s]\u001b[A\n",
      "  8%|7         | 6/77 [00:00<00:01, 58.10it/s]\u001b[A"
     ]
    },
    {
     "name": "stdout",
     "output_type": "stream",
     "text": [
      "\tdone\n",
      "Evaluating\n"
     ]
    },
    {
     "name": "stderr",
     "output_type": "stream",
     "text": [
      "\n",
      " 14%|#4        | 11/77 [00:00<00:01, 52.65it/s]\u001b[A\n",
      " 21%|##        | 16/77 [00:00<00:01, 49.04it/s]\u001b[A\n",
      " 29%|##8       | 22/77 [00:00<00:01, 51.44it/s]\u001b[A\n",
      " 36%|###6      | 28/77 [00:00<00:00, 52.11it/s]\u001b[A\n",
      " 45%|####5     | 35/77 [00:00<00:00, 55.23it/s]\u001b[A\n",
      " 55%|#####4    | 42/77 [00:00<00:00, 57.16it/s]\u001b[A\n",
      " 64%|######3   | 49/77 [00:00<00:00, 58.52it/s]\u001b[A\n",
      " 73%|#######2  | 56/77 [00:00<00:00, 59.94it/s]\u001b[A\n",
      " 82%|########1 | 63/77 [00:01<00:00, 60.93it/s]\u001b[A\n",
      " 91%|######### | 70/77 [00:01<00:00, 62.34it/s]\u001b[A\n",
      " 95%|█████████▍| 839/884 [00:38<00:07,  6.27it/s]A"
     ]
    },
    {
     "name": "stdout",
     "output_type": "stream",
     "text": [
      "{'ade': 0.44134602, 'fde': 0.9641834}\n",
      "\t last loss:0.000300696, eval on validation:['ade: 0.44134602', 'fde: 0.9641834'], (best ade:0.43980515 at step 54000) \n"
     ]
    },
    {
     "name": "stderr",
     "output_type": "stream",
     "text": [
      "100%|██████████| 884/884 [00:41<00:00, 21.44it/s]\n",
      "  0%|          | 2/884 [00:00<01:05, 13.41it/s]"
     ]
    },
    {
     "name": "stdout",
     "output_type": "stream",
     "text": [
      "('Epoca 73.', 'lr:', 5.7558805e-06)\n"
     ]
    },
    {
     "name": "stderr",
     "output_type": "stream",
     "text": [
      " 28%|██▊       | 251/884 [00:10<00:24, 26.23it/s]\n",
      "  0%|          | 0/77 [00:00<?, ?it/s]\u001b[A"
     ]
    },
    {
     "name": "stdout",
     "output_type": "stream",
     "text": [
      "\tsaving model 63900...\n",
      "\tdone\n",
      "Evaluating\n"
     ]
    },
    {
     "name": "stderr",
     "output_type": "stream",
     "text": [
      "\n",
      " 13%|#2        | 10/77 [00:00<00:00, 92.66it/s]\u001b[A\n",
      " 26%|##5       | 20/77 [00:00<00:00, 92.43it/s]\u001b[A\n",
      " 35%|###5      | 27/77 [00:00<00:00, 84.16it/s]\u001b[A\n",
      " 45%|####5     | 35/77 [00:00<00:00, 79.94it/s]\u001b[A\n",
      " 55%|#####4    | 42/77 [00:00<00:00, 73.96it/s]\u001b[A\n",
      " 66%|######6   | 51/77 [00:00<00:00, 76.98it/s]\u001b[A\n",
      " 78%|#######7  | 60/77 [00:00<00:00, 78.90it/s]\u001b[A\n",
      " 90%|########9 | 69/77 [00:00<00:00, 79.96it/s]\u001b[A\n",
      " 29%|██▊       | 254/884 [00:11<01:38,  6.41it/s]A"
     ]
    },
    {
     "name": "stdout",
     "output_type": "stream",
     "text": [
      "{'ade': 0.4425149, 'fde': 0.9666221}\n",
      "\t last loss:0.000410779, eval on validation:['ade: 0.4425149', 'fde: 0.9666221'], (best ade:0.43980515 at step 54000) \n"
     ]
    },
    {
     "name": "stderr",
     "output_type": "stream",
     "text": [
      " 62%|██████▏   | 551/884 [00:23<00:15, 21.64it/s]"
     ]
    },
    {
     "name": "stdout",
     "output_type": "stream",
     "text": [
      "\tsaving model 64200...\n"
     ]
    },
    {
     "name": "stderr",
     "output_type": "stream",
     "text": [
      "\n",
      "  0%|          | 0/77 [00:00<?, ?it/s]\u001b[A\n",
      "  9%|9         | 7/77 [00:00<00:01, 64.59it/s]\u001b[A"
     ]
    },
    {
     "name": "stdout",
     "output_type": "stream",
     "text": [
      "\tdone\n",
      "Evaluating\n"
     ]
    },
    {
     "name": "stderr",
     "output_type": "stream",
     "text": [
      "\n",
      " 16%|#5        | 12/77 [00:00<00:01, 56.15it/s]\u001b[A\n",
      " 22%|##2       | 17/77 [00:00<00:01, 51.55it/s]\u001b[A\n",
      " 29%|##8       | 22/77 [00:00<00:01, 49.62it/s]\u001b[A\n",
      " 36%|###6      | 28/77 [00:00<00:00, 51.24it/s]\u001b[A\n",
      " 45%|####5     | 35/77 [00:00<00:00, 54.59it/s]\u001b[A\n",
      " 55%|#####4    | 42/77 [00:00<00:00, 56.73it/s]\u001b[A\n",
      " 62%|######2   | 48/77 [00:00<00:00, 57.50it/s]\u001b[A\n",
      " 71%|#######1  | 55/77 [00:01<00:00, 57.65it/s]\u001b[A\n",
      " 81%|########  | 62/77 [00:01<00:00, 59.51it/s]\u001b[A\n",
      " 90%|########9 | 69/77 [00:01<00:00, 61.35it/s]\u001b[A\n",
      " 99%|#########8| 76/77 [00:01<00:00, 62.63it/s]\u001b[A\n",
      " 63%|██████▎   | 554/884 [00:25<01:09,  4.76it/s]A"
     ]
    },
    {
     "name": "stdout",
     "output_type": "stream",
     "text": [
      "{'ade': 0.44123155, 'fde': 0.9636371}\n",
      "\t last loss:0.000406770, eval on validation:['ade: 0.44123155', 'fde: 0.9636371'], (best ade:0.43980515 at step 54000) \n"
     ]
    },
    {
     "name": "stderr",
     "output_type": "stream",
     "text": [
      " 96%|█████████▌| 849/884 [00:38<00:01, 26.58it/s]\n",
      "  0%|          | 0/77 [00:00<?, ?it/s]\u001b[A"
     ]
    },
    {
     "name": "stdout",
     "output_type": "stream",
     "text": [
      "\tsaving model 64500...\n",
      "\tdone\n",
      "Evaluating\n"
     ]
    },
    {
     "name": "stderr",
     "output_type": "stream",
     "text": [
      "\n",
      " 13%|#2        | 10/77 [00:00<00:00, 93.34it/s]\u001b[A\n",
      " 21%|##        | 16/77 [00:00<00:00, 79.67it/s]\u001b[A\n",
      " 30%|##9       | 23/77 [00:00<00:00, 75.89it/s]\u001b[A\n",
      " 39%|###8      | 30/77 [00:00<00:00, 73.28it/s]\u001b[A\n",
      " 49%|####9     | 38/77 [00:00<00:00, 73.71it/s]\u001b[A\n",
      " 62%|######2   | 48/77 [00:00<00:00, 77.51it/s]\u001b[A\n",
      " 74%|#######4  | 57/77 [00:00<00:00, 80.82it/s]\u001b[A\n",
      " 86%|########5 | 66/77 [00:00<00:00, 82.12it/s]\u001b[A\n",
      " 97%|#########7| 75/77 [00:00<00:00, 82.14it/s]\u001b[A\n",
      " 97%|█████████▋| 855/884 [00:39<00:03,  8.24it/s]A"
     ]
    },
    {
     "name": "stdout",
     "output_type": "stream",
     "text": [
      "{'ade': 0.4404611, 'fde': 0.96124214}\n",
      "\t last loss:0.000558954, eval on validation:['ade: 0.4404611', 'fde: 0.96124214'], (best ade:0.43980515 at step 54000) \n"
     ]
    },
    {
     "name": "stderr",
     "output_type": "stream",
     "text": [
      "100%|██████████| 884/884 [00:40<00:00, 21.69it/s]\n",
      "  0%|          | 2/884 [00:00<00:54, 16.09it/s]"
     ]
    },
    {
     "name": "stdout",
     "output_type": "stream",
     "text": [
      "('Epoca 74.', 'lr:', 5.7558805e-06)\n"
     ]
    },
    {
     "name": "stderr",
     "output_type": "stream",
     "text": [
      " 30%|██▉       | 265/884 [00:10<00:23, 25.81it/s]\n",
      "  0%|          | 0/77 [00:00<?, ?it/s]\u001b[A"
     ]
    },
    {
     "name": "stdout",
     "output_type": "stream",
     "text": [
      "\tsaving model 64800...\n",
      "\tdone\n",
      "Evaluating\n"
     ]
    },
    {
     "name": "stderr",
     "output_type": "stream",
     "text": [
      "\n",
      " 12%|#1        | 9/77 [00:00<00:00, 82.92it/s]\u001b[A\n",
      " 23%|##3       | 18/77 [00:00<00:00, 82.53it/s]\u001b[A\n",
      " 32%|###2      | 25/77 [00:00<00:00, 75.40it/s]\u001b[A\n",
      " 40%|####      | 31/77 [00:00<00:00, 69.35it/s]\u001b[A\n",
      " 52%|#####1    | 40/77 [00:00<00:00, 74.03it/s]\u001b[A\n",
      " 64%|######3   | 49/77 [00:00<00:00, 76.01it/s]\u001b[A\n",
      " 77%|#######6  | 59/77 [00:00<00:00, 80.29it/s]\u001b[A\n",
      " 90%|########9 | 69/77 [00:00<00:00, 83.34it/s]\u001b[A\n",
      " 31%|███       | 271/884 [00:12<01:13,  8.36it/s]A"
     ]
    },
    {
     "name": "stdout",
     "output_type": "stream",
     "text": [
      "{'ade': 0.44193196, 'fde': 0.9656446}\n",
      "\t last loss:0.000171830, eval on validation:['ade: 0.44193196', 'fde: 0.9656446'], (best ade:0.43980515 at step 54000) \n"
     ]
    },
    {
     "name": "stderr",
     "output_type": "stream",
     "text": [
      " 64%|██████▍   | 565/884 [00:25<00:13, 22.88it/s]"
     ]
    },
    {
     "name": "stdout",
     "output_type": "stream",
     "text": [
      "\tsaving model 65100...\n"
     ]
    },
    {
     "name": "stderr",
     "output_type": "stream",
     "text": [
      "\n",
      "  0%|          | 0/77 [00:00<?, ?it/s]\u001b[A\n",
      " 10%|#         | 8/77 [00:00<00:00, 71.17it/s]\u001b[A"
     ]
    },
    {
     "name": "stdout",
     "output_type": "stream",
     "text": [
      "\tdone\n",
      "Evaluating\n"
     ]
    },
    {
     "name": "stderr",
     "output_type": "stream",
     "text": [
      "\n",
      " 18%|#8        | 14/77 [00:00<00:00, 63.96it/s]\u001b[A\n",
      " 25%|##4       | 19/77 [00:00<00:00, 58.50it/s]\u001b[A\n",
      " 31%|###1      | 24/77 [00:00<00:00, 54.81it/s]\u001b[A\n",
      " 42%|####1     | 32/77 [00:00<00:00, 60.14it/s]\u001b[A\n",
      " 51%|#####     | 39/77 [00:00<00:00, 62.35it/s]\u001b[A\n",
      " 62%|######2   | 48/77 [00:00<00:00, 67.56it/s]\u001b[A\n",
      " 74%|#######4  | 57/77 [00:00<00:00, 71.82it/s]\u001b[A\n",
      " 86%|########5 | 66/77 [00:00<00:00, 75.14it/s]\u001b[A\n",
      " 97%|#########7| 75/77 [00:01<00:00, 76.15it/s]\u001b[A\n",
      " 65%|██████▍   | 571/884 [00:27<00:42,  7.32it/s]A"
     ]
    },
    {
     "name": "stdout",
     "output_type": "stream",
     "text": [
      "{'ade': 0.4417502, 'fde': 0.9650528}\n",
      "\t last loss:0.000627733, eval on validation:['ade: 0.4417502', 'fde: 0.9650528'], (best ade:0.43980515 at step 54000) \n"
     ]
    },
    {
     "name": "stderr",
     "output_type": "stream",
     "text": [
      " 98%|█████████▊| 865/884 [00:38<00:00, 26.23it/s]\n",
      "  0%|          | 0/77 [00:00<?, ?it/s]\u001b[A"
     ]
    },
    {
     "name": "stdout",
     "output_type": "stream",
     "text": [
      "\tsaving model 65400...\n",
      "\tdone\n",
      "Evaluating\n"
     ]
    },
    {
     "name": "stderr",
     "output_type": "stream",
     "text": [
      "\n",
      " 10%|#         | 8/77 [00:00<00:00, 79.49it/s]\u001b[A\n",
      " 19%|#9        | 15/77 [00:00<00:00, 73.49it/s]\u001b[A\n",
      " 29%|##8       | 22/77 [00:00<00:00, 71.37it/s]\u001b[A\n",
      " 39%|###8      | 30/77 [00:00<00:00, 72.34it/s]\u001b[A\n",
      " 51%|#####     | 39/77 [00:00<00:00, 76.85it/s]\u001b[A\n",
      " 61%|######1   | 47/77 [00:00<00:00, 76.03it/s]\u001b[A\n",
      " 73%|#######2  | 56/77 [00:00<00:00, 79.51it/s]\u001b[A\n",
      " 84%|########4 | 65/77 [00:00<00:00, 81.50it/s]\u001b[A\n",
      " 96%|#########6| 74/77 [00:00<00:00, 83.08it/s]\u001b[A\n",
      " 99%|█████████▊| 871/884 [00:40<00:01,  8.21it/s]A"
     ]
    },
    {
     "name": "stdout",
     "output_type": "stream",
     "text": [
      "{'ade': 0.44144425, 'fde': 0.9638885}\n",
      "\t last loss:0.000276996, eval on validation:['ade: 0.44144425', 'fde: 0.9638885'], (best ade:0.43980515 at step 54000) \n"
     ]
    },
    {
     "name": "stderr",
     "output_type": "stream",
     "text": [
      "100%|██████████| 884/884 [00:40<00:00, 21.61it/s]\n",
      "  0%|          | 1/884 [00:00<01:28,  9.99it/s]"
     ]
    },
    {
     "name": "stdout",
     "output_type": "stream",
     "text": [
      "('Epoca 75.', 'lr:', 4.8924985e-06)\n"
     ]
    },
    {
     "name": "stderr",
     "output_type": "stream",
     "text": [
      " 32%|███▏      | 282/884 [00:12<00:26, 22.44it/s]"
     ]
    },
    {
     "name": "stdout",
     "output_type": "stream",
     "text": [
      "\tsaving model 65700...\n"
     ]
    },
    {
     "name": "stderr",
     "output_type": "stream",
     "text": [
      "\n",
      "  0%|          | 0/77 [00:00<?, ?it/s]\u001b[A\n",
      " 10%|#         | 8/77 [00:00<00:00, 74.78it/s]\u001b[A"
     ]
    },
    {
     "name": "stdout",
     "output_type": "stream",
     "text": [
      "\tdone\n",
      "Evaluating\n"
     ]
    },
    {
     "name": "stderr",
     "output_type": "stream",
     "text": [
      "\n",
      " 17%|#6        | 13/77 [00:00<00:01, 63.15it/s]\u001b[A\n",
      " 23%|##3       | 18/77 [00:00<00:01, 56.28it/s]\u001b[A\n",
      " 31%|###1      | 24/77 [00:00<00:00, 56.73it/s]\u001b[A\n",
      " 39%|###8      | 30/77 [00:00<00:00, 57.48it/s]\u001b[A\n",
      " 48%|####8     | 37/77 [00:00<00:00, 60.00it/s]\u001b[A\n",
      " 58%|#####8    | 45/77 [00:00<00:00, 63.84it/s]\u001b[A\n",
      " 69%|######8   | 53/77 [00:00<00:00, 67.05it/s]\u001b[A\n",
      " 81%|########  | 62/77 [00:00<00:00, 71.07it/s]\u001b[A\n",
      " 92%|#########2| 71/77 [00:01<00:00, 74.55it/s]\u001b[A\n",
      " 32%|███▏      | 285/884 [00:14<01:47,  5.56it/s]A"
     ]
    },
    {
     "name": "stdout",
     "output_type": "stream",
     "text": [
      "{'ade': 0.44317824, 'fde': 0.96941155}\n",
      "\t last loss:0.000384341, eval on validation:['ade: 0.44317824', 'fde: 0.96941155'], (best ade:0.43980515 at step 54000) \n"
     ]
    },
    {
     "name": "stderr",
     "output_type": "stream",
     "text": [
      " 66%|██████▌   | 582/884 [00:26<00:14, 21.43it/s]"
     ]
    },
    {
     "name": "stdout",
     "output_type": "stream",
     "text": [
      "\tsaving model 66000...\n"
     ]
    },
    {
     "name": "stderr",
     "output_type": "stream",
     "text": [
      "\n",
      "  0%|          | 0/77 [00:00<?, ?it/s]\u001b[A\n",
      "  9%|9         | 7/77 [00:00<00:01, 62.68it/s]\u001b[A"
     ]
    },
    {
     "name": "stdout",
     "output_type": "stream",
     "text": [
      "\tdone\n",
      "Evaluating\n"
     ]
    },
    {
     "name": "stderr",
     "output_type": "stream",
     "text": [
      "\n",
      " 16%|#5        | 12/77 [00:00<00:01, 56.33it/s]\u001b[A\n",
      " 22%|##2       | 17/77 [00:00<00:01, 52.60it/s]\u001b[A\n",
      " 29%|##8       | 22/77 [00:00<00:01, 49.71it/s]\u001b[A\n",
      " 38%|###7      | 29/77 [00:00<00:00, 53.56it/s]\u001b[A\n",
      " 45%|####5     | 35/77 [00:00<00:00, 53.99it/s]\u001b[A\n",
      " 53%|#####3    | 41/77 [00:00<00:00, 55.32it/s]\u001b[A\n",
      " 62%|######2   | 48/77 [00:00<00:00, 57.92it/s]\u001b[A\n",
      " 71%|#######1  | 55/77 [00:00<00:00, 59.63it/s]\u001b[A\n",
      " 79%|#######9  | 61/77 [00:01<00:00, 58.99it/s]\u001b[A\n",
      " 88%|########8 | 68/77 [00:01<00:00, 60.76it/s]\u001b[A\n",
      " 97%|#########7| 75/77 [00:01<00:00, 61.71it/s]\u001b[A\n",
      " 66%|██████▌   | 585/884 [00:27<01:02,  4.81it/s]A"
     ]
    },
    {
     "name": "stdout",
     "output_type": "stream",
     "text": [
      "{'ade': 0.4408449, 'fde': 0.9628877}\n",
      "\t last loss:0.000247500, eval on validation:['ade: 0.4408449', 'fde: 0.9628877'], (best ade:0.43980515 at step 54000) \n"
     ]
    },
    {
     "name": "stderr",
     "output_type": "stream",
     "text": [
      "100%|█████████▉| 881/884 [00:40<00:00, 26.10it/s]\n",
      "  0%|          | 0/77 [00:00<?, ?it/s]\u001b[A"
     ]
    },
    {
     "name": "stdout",
     "output_type": "stream",
     "text": [
      "\tsaving model 66300...\n",
      "\tdone\n",
      "Evaluating\n"
     ]
    },
    {
     "name": "stderr",
     "output_type": "stream",
     "text": [
      "\n",
      " 13%|#2        | 10/77 [00:00<00:00, 91.92it/s]\u001b[A\n",
      " 22%|##2       | 17/77 [00:00<00:00, 81.41it/s]\u001b[A\n",
      " 31%|###1      | 24/77 [00:00<00:00, 75.71it/s]\u001b[A\n",
      " 40%|####      | 31/77 [00:00<00:00, 71.64it/s]\u001b[A\n",
      " 51%|#####     | 39/77 [00:00<00:00, 72.83it/s]\u001b[A\n",
      " 62%|######2   | 48/77 [00:00<00:00, 76.07it/s]\u001b[A\n",
      " 74%|#######4  | 57/77 [00:00<00:00, 79.46it/s]\u001b[A\n",
      " 87%|########7 | 67/77 [00:00<00:00, 82.47it/s]\u001b[A\n",
      " 99%|#########8| 76/77 [00:00<00:00, 82.84it/s]\u001b[A\n",
      "100%|██████████| 884/884 [00:41<00:00,  6.41it/s]A\n",
      "  0%|          | 2/884 [00:00<00:49, 17.82it/s]"
     ]
    },
    {
     "name": "stdout",
     "output_type": "stream",
     "text": [
      "{'ade': 0.4414689, 'fde': 0.96438676}\n",
      "\t last loss:0.000240166, eval on validation:['ade: 0.4414689', 'fde: 0.96438676'], (best ade:0.43980515 at step 54000) \n",
      "('Epoca 76.', 'lr:', 4.8924985e-06)\n"
     ]
    },
    {
     "name": "stderr",
     "output_type": "stream",
     "text": [
      " 34%|███▍      | 299/884 [00:12<00:27, 21.66it/s]"
     ]
    },
    {
     "name": "stdout",
     "output_type": "stream",
     "text": [
      "\tsaving model 66600...\n"
     ]
    },
    {
     "name": "stderr",
     "output_type": "stream",
     "text": [
      "\n",
      "  0%|          | 0/77 [00:00<?, ?it/s]\u001b[A\n",
      "  8%|7         | 6/77 [00:00<00:01, 54.39it/s]\u001b[A"
     ]
    },
    {
     "name": "stdout",
     "output_type": "stream",
     "text": [
      "\tdone\n",
      "Evaluating\n"
     ]
    },
    {
     "name": "stderr",
     "output_type": "stream",
     "text": [
      "\n",
      " 14%|#4        | 11/77 [00:00<00:01, 50.16it/s]\u001b[A\n",
      " 22%|##2       | 17/77 [00:00<00:01, 50.48it/s]\u001b[A\n",
      " 29%|##8       | 22/77 [00:00<00:01, 48.78it/s]\u001b[A\n",
      " 38%|###7      | 29/77 [00:00<00:00, 52.20it/s]\u001b[A\n",
      " 47%|####6     | 36/77 [00:00<00:00, 54.92it/s]\u001b[A\n",
      " 55%|#####4    | 42/77 [00:00<00:00, 56.16it/s]\u001b[A\n",
      " 62%|######2   | 48/77 [00:00<00:00, 57.03it/s]\u001b[A\n",
      " 71%|#######1  | 55/77 [00:00<00:00, 59.29it/s]\u001b[A\n",
      " 79%|#######9  | 61/77 [00:01<00:00, 59.42it/s]\u001b[A\n",
      " 88%|########8 | 68/77 [00:01<00:00, 61.11it/s]\u001b[A\n",
      " 97%|#########7| 75/77 [00:01<00:00, 62.14it/s]\u001b[A\n",
      " 34%|███▍      | 302/884 [00:14<02:01,  4.77it/s]A"
     ]
    },
    {
     "name": "stdout",
     "output_type": "stream",
     "text": [
      "{'ade': 0.44215965, 'fde': 0.9657909}\n",
      "\t last loss:0.000236897, eval on validation:['ade: 0.44215965', 'fde: 0.9657909'], (best ade:0.43980515 at step 54000) \n"
     ]
    },
    {
     "name": "stderr",
     "output_type": "stream",
     "text": [
      " 68%|██████▊   | 599/884 [00:26<00:10, 26.22it/s]\n",
      "  0%|          | 0/77 [00:00<?, ?it/s]\u001b[A"
     ]
    },
    {
     "name": "stdout",
     "output_type": "stream",
     "text": [
      "\tsaving model 66900...\n",
      "\tdone\n",
      "Evaluating\n"
     ]
    },
    {
     "name": "stderr",
     "output_type": "stream",
     "text": [
      "\n",
      " 12%|#1        | 9/77 [00:00<00:00, 88.56it/s]\u001b[A\n",
      " 25%|##4       | 19/77 [00:00<00:00, 89.87it/s]\u001b[A\n",
      " 34%|###3      | 26/77 [00:00<00:00, 78.19it/s]\u001b[A\n",
      " 43%|####2     | 33/77 [00:00<00:00, 75.27it/s]\u001b[A\n",
      " 52%|#####1    | 40/77 [00:00<00:00, 73.49it/s]\u001b[A\n",
      " 64%|######3   | 49/77 [00:00<00:00, 74.95it/s]\u001b[A\n",
      " 74%|#######4  | 57/77 [00:00<00:00, 75.73it/s]\u001b[A\n",
      " 87%|########7 | 67/77 [00:00<00:00, 79.99it/s]\u001b[A\n",
      " 99%|#########8| 76/77 [00:00<00:00, 82.54it/s]\u001b[A\n",
      " 68%|██████▊   | 602/884 [00:28<00:44,  6.39it/s]A"
     ]
    },
    {
     "name": "stdout",
     "output_type": "stream",
     "text": [
      "{'ade': 0.44112596, 'fde': 0.9636473}\n",
      "\t last loss:0.000267489, eval on validation:['ade: 0.44112596', 'fde: 0.9636473'], (best ade:0.43980515 at step 54000) \n"
     ]
    },
    {
     "name": "stderr",
     "output_type": "stream",
     "text": [
      "100%|██████████| 884/884 [00:40<00:00, 24.53it/s]\n",
      "  0%|          | 2/884 [00:00<00:59, 14.71it/s]"
     ]
    },
    {
     "name": "stdout",
     "output_type": "stream",
     "text": [
      "('Epoca 77.', 'lr:', 4.158624e-06)\n"
     ]
    },
    {
     "name": "stderr",
     "output_type": "stream",
     "text": [
      "  2%|▏         | 14/884 [00:00<00:41, 20.96it/s]\n"
     ]
    },
    {
     "name": "stdout",
     "output_type": "stream",
     "text": [
      "\tsaving model 67200...\n",
      "\tdone\n",
      "Evaluating\n"
     ]
    },
    {
     "name": "stderr",
     "output_type": "stream",
     "text": [
      "  0%|          | 0/77 [00:00<?, ?it/s]\u001b[A\n",
      " 12%|#1        | 9/77 [00:00<00:00, 84.73it/s]\u001b[A\n",
      " 22%|##2       | 17/77 [00:00<00:00, 82.04it/s]\u001b[A\n",
      " 30%|##9       | 23/77 [00:00<00:00, 73.33it/s]\u001b[A\n",
      " 38%|###7      | 29/77 [00:00<00:00, 66.73it/s]\u001b[A\n",
      " 48%|####8     | 37/77 [00:00<00:00, 69.24it/s]\u001b[A\n",
      " 57%|#####7    | 44/77 [00:00<00:00, 67.89it/s]\u001b[A\n",
      " 68%|######7   | 52/77 [00:00<00:00, 70.30it/s]\u001b[A\n",
      " 78%|#######7  | 60/77 [00:00<00:00, 72.52it/s]\u001b[A\n",
      " 90%|########9 | 69/77 [00:00<00:00, 75.28it/s]\u001b[A\n",
      "100%|##########| 77/77 [00:01<00:00, 75.29it/s]\u001b[A"
     ]
    },
    {
     "name": "stdout",
     "output_type": "stream",
     "text": [
      "{'ade': 0.43956468, 'fde': 0.9591931}\n",
      "\t last loss:0.000207355, eval on validation:['ade: 0.43956468', 'fde: 0.9591931'], (best ade:0.43980515 at step 54000) \n",
      "\t saving best model...\n"
     ]
    },
    {
     "name": "stderr",
     "output_type": "stream",
     "text": [
      " 35%|███▌      | 313/884 [00:14<00:22, 25.84it/s]\n",
      "  0%|          | 0/77 [00:00<?, ?it/s]\u001b[A"
     ]
    },
    {
     "name": "stdout",
     "output_type": "stream",
     "text": [
      "\t done.\n",
      "\tsaving model 67500...\n",
      "\tdone\n",
      "Evaluating\n"
     ]
    },
    {
     "name": "stderr",
     "output_type": "stream",
     "text": [
      "\n",
      " 13%|#2        | 10/77 [00:00<00:00, 91.85it/s]\u001b[A\n",
      " 22%|##2       | 17/77 [00:00<00:00, 82.16it/s]\u001b[A\n",
      " 30%|##9       | 23/77 [00:00<00:00, 73.60it/s]\u001b[A\n",
      " 38%|###7      | 29/77 [00:00<00:00, 67.32it/s]\u001b[A\n",
      " 48%|####8     | 37/77 [00:00<00:00, 70.04it/s]\u001b[A\n",
      " 57%|#####7    | 44/77 [00:00<00:00, 69.33it/s]\u001b[A\n",
      " 68%|######7   | 52/77 [00:00<00:00, 71.92it/s]\u001b[A\n",
      " 79%|#######9  | 61/77 [00:00<00:00, 72.98it/s]\u001b[A\n",
      " 90%|########9 | 69/77 [00:00<00:00, 74.65it/s]\u001b[A\n",
      " 36%|███▌      | 319/884 [00:16<01:11,  7.90it/s]A"
     ]
    },
    {
     "name": "stdout",
     "output_type": "stream",
     "text": [
      "{'ade': 0.4409007, 'fde': 0.9634479}\n",
      "\t last loss:0.000179651, eval on validation:['ade: 0.4409007', 'fde: 0.9634479'], (best ade:0.43956468 at step 67200) \n"
     ]
    },
    {
     "name": "stderr",
     "output_type": "stream",
     "text": [
      " 69%|██████▉   | 613/884 [00:28<00:12, 21.16it/s]"
     ]
    },
    {
     "name": "stdout",
     "output_type": "stream",
     "text": [
      "\tsaving model 67800...\n"
     ]
    },
    {
     "name": "stderr",
     "output_type": "stream",
     "text": [
      "\n",
      "  0%|          | 0/77 [00:00<?, ?it/s]\u001b[A\n",
      "  8%|7         | 6/77 [00:00<00:01, 59.18it/s]\u001b[A"
     ]
    },
    {
     "name": "stdout",
     "output_type": "stream",
     "text": [
      "\tdone\n",
      "Evaluating\n"
     ]
    },
    {
     "name": "stderr",
     "output_type": "stream",
     "text": [
      "\n",
      " 14%|#4        | 11/77 [00:00<00:01, 53.79it/s]\u001b[A\n",
      " 19%|#9        | 15/77 [00:00<00:01, 47.26it/s]\u001b[A\n",
      " 26%|##5       | 20/77 [00:00<00:01, 46.49it/s]\u001b[A\n",
      " 34%|###3      | 26/77 [00:00<00:01, 48.35it/s]\u001b[A\n",
      " 43%|####2     | 33/77 [00:00<00:00, 52.47it/s]\u001b[A\n",
      " 52%|#####1    | 40/77 [00:00<00:00, 56.12it/s]\u001b[A\n",
      " 61%|######1   | 47/77 [00:00<00:00, 58.57it/s]\u001b[A\n",
      " 70%|#######   | 54/77 [00:00<00:00, 59.96it/s]\u001b[A\n",
      " 79%|#######9  | 61/77 [00:01<00:00, 61.22it/s]\u001b[A\n",
      " 88%|########8 | 68/77 [00:01<00:00, 61.86it/s]\u001b[A\n",
      " 97%|#########7| 75/77 [00:01<00:00, 60.15it/s]\u001b[A\n",
      " 70%|██████▉   | 618/884 [00:30<00:43,  6.16it/s]A"
     ]
    },
    {
     "name": "stdout",
     "output_type": "stream",
     "text": [
      "{'ade': 0.44230133, 'fde': 0.9663357}\n",
      "\t last loss:0.000328212, eval on validation:['ade: 0.44230133', 'fde: 0.9663357'], (best ade:0.43956468 at step 67200) \n"
     ]
    },
    {
     "name": "stderr",
     "output_type": "stream",
     "text": [
      "100%|██████████| 884/884 [00:41<00:00, 21.11it/s]\n",
      "  0%|          | 2/884 [00:00<00:56, 15.54it/s]"
     ]
    },
    {
     "name": "stdout",
     "output_type": "stream",
     "text": [
      "('Epoca 78.', 'lr:', 4.158624e-06)\n"
     ]
    },
    {
     "name": "stderr",
     "output_type": "stream",
     "text": [
      "  3%|▎         | 29/884 [00:01<00:33, 25.23it/s]\n",
      "  0%|          | 0/77 [00:00<?, ?it/s]\u001b[A"
     ]
    },
    {
     "name": "stdout",
     "output_type": "stream",
     "text": [
      "\tsaving model 68100...\n",
      "\tdone\n",
      "Evaluating\n"
     ]
    },
    {
     "name": "stderr",
     "output_type": "stream",
     "text": [
      "\n",
      " 10%|#         | 8/77 [00:00<00:00, 78.31it/s]\u001b[A\n",
      " 22%|##2       | 17/77 [00:00<00:00, 78.59it/s]\u001b[A\n",
      " 29%|##8       | 22/77 [00:00<00:00, 65.97it/s]\u001b[A\n",
      " 36%|###6      | 28/77 [00:00<00:00, 63.04it/s]\u001b[A\n",
      " 45%|####5     | 35/77 [00:00<00:00, 63.13it/s]\u001b[A\n",
      " 55%|#####4    | 42/77 [00:00<00:00, 63.42it/s]\u001b[A\n",
      " 66%|######6   | 51/77 [00:00<00:00, 68.30it/s]\u001b[A\n",
      " 77%|#######6  | 59/77 [00:00<00:00, 71.29it/s]\u001b[A\n",
      " 88%|########8 | 68/77 [00:00<00:00, 74.87it/s]\u001b[A\n",
      "  4%|▍         | 35/884 [00:02<01:49,  7.72it/s][A"
     ]
    },
    {
     "name": "stdout",
     "output_type": "stream",
     "text": [
      "{'ade': 0.44206643, 'fde': 0.9659884}\n",
      "\t last loss:0.000265174, eval on validation:['ade: 0.44206643', 'fde: 0.9659884'], (best ade:0.43956468 at step 67200) \n"
     ]
    },
    {
     "name": "stderr",
     "output_type": "stream",
     "text": [
      " 37%|███▋      | 329/884 [00:14<00:26, 20.72it/s]"
     ]
    },
    {
     "name": "stdout",
     "output_type": "stream",
     "text": [
      "\tsaving model 68400...\n"
     ]
    },
    {
     "name": "stderr",
     "output_type": "stream",
     "text": [
      "\n",
      "  0%|          | 0/77 [00:00<?, ?it/s]\u001b[A\n",
      "  8%|7         | 6/77 [00:00<00:01, 56.38it/s]\u001b[A"
     ]
    },
    {
     "name": "stdout",
     "output_type": "stream",
     "text": [
      "\tdone\n",
      "Evaluating\n"
     ]
    },
    {
     "name": "stderr",
     "output_type": "stream",
     "text": [
      "\n",
      " 14%|#4        | 11/77 [00:00<00:01, 51.50it/s]\u001b[A\n",
      " 19%|#9        | 15/77 [00:00<00:01, 47.19it/s]\u001b[A\n",
      " 29%|##8       | 22/77 [00:00<00:01, 50.88it/s]\u001b[A\n",
      " 36%|###6      | 28/77 [00:00<00:00, 52.27it/s]\u001b[A\n",
      " 44%|####4     | 34/77 [00:00<00:00, 53.99it/s]\u001b[A\n",
      " 53%|#####3    | 41/77 [00:00<00:00, 56.53it/s]\u001b[A\n",
      " 62%|######2   | 48/77 [00:00<00:00, 57.44it/s]\u001b[A\n",
      " 71%|#######1  | 55/77 [00:00<00:00, 59.41it/s]\u001b[A\n",
      " 81%|########  | 62/77 [00:01<00:00, 61.08it/s]\u001b[A\n",
      " 90%|########9 | 69/77 [00:01<00:00, 62.18it/s]\u001b[A\n",
      " 99%|#########8| 76/77 [00:01<00:00, 63.68it/s]\u001b[A\n",
      " 38%|███▊      | 334/884 [00:16<01:28,  6.20it/s]A"
     ]
    },
    {
     "name": "stdout",
     "output_type": "stream",
     "text": [
      "{'ade': 0.44137752, 'fde': 0.9643279}\n",
      "\t last loss:0.000301374, eval on validation:['ade: 0.44137752', 'fde: 0.9643279'], (best ade:0.43956468 at step 67200) \n"
     ]
    },
    {
     "name": "stderr",
     "output_type": "stream",
     "text": [
      " 71%|███████▏  | 630/884 [00:29<00:09, 25.76it/s]\n",
      "  0%|          | 0/77 [00:00<?, ?it/s]\u001b[A"
     ]
    },
    {
     "name": "stdout",
     "output_type": "stream",
     "text": [
      "\tsaving model 68700...\n",
      "\tdone\n",
      "Evaluating\n"
     ]
    },
    {
     "name": "stderr",
     "output_type": "stream",
     "text": [
      "\n",
      " 13%|#2        | 10/77 [00:00<00:00, 93.07it/s]\u001b[A\n",
      " 22%|##2       | 17/77 [00:00<00:00, 82.58it/s]\u001b[A\n",
      " 31%|###1      | 24/77 [00:00<00:00, 75.56it/s]\u001b[A\n",
      " 39%|###8      | 30/77 [00:00<00:00, 70.03it/s]\u001b[A\n",
      " 49%|####9     | 38/77 [00:00<00:00, 72.02it/s]\u001b[A\n",
      " 57%|#####7    | 44/77 [00:00<00:00, 67.76it/s]\u001b[A\n",
      " 68%|######7   | 52/77 [00:00<00:00, 69.98it/s]\u001b[A\n",
      " 78%|#######7  | 60/77 [00:00<00:00, 72.12it/s]\u001b[A\n",
      " 90%|########9 | 69/77 [00:00<00:00, 75.29it/s]\u001b[A\n",
      " 72%|███████▏  | 633/884 [00:30<00:41,  6.10it/s]A"
     ]
    },
    {
     "name": "stdout",
     "output_type": "stream",
     "text": [
      "{'ade': 0.4419259, 'fde': 0.965829}\n",
      "\t last loss:0.000217274, eval on validation:['ade: 0.4419259', 'fde: 0.965829'], (best ade:0.43956468 at step 67200) \n"
     ]
    },
    {
     "name": "stderr",
     "output_type": "stream",
     "text": [
      "100%|██████████| 884/884 [00:41<00:00, 21.19it/s]\n",
      "  0%|          | 1/884 [00:00<01:43,  8.54it/s]"
     ]
    },
    {
     "name": "stdout",
     "output_type": "stream",
     "text": [
      "('Epoca 79.', 'lr:', 3.5348305e-06)\n"
     ]
    },
    {
     "name": "stderr",
     "output_type": "stream",
     "text": [
      "  5%|▌         | 46/884 [00:01<00:34, 24.14it/s]\n",
      "  0%|          | 0/77 [00:00<?, ?it/s]\u001b[A"
     ]
    },
    {
     "name": "stdout",
     "output_type": "stream",
     "text": [
      "\tsaving model 69000...\n",
      "\tdone\n",
      "Evaluating\n"
     ]
    },
    {
     "name": "stderr",
     "output_type": "stream",
     "text": [
      "\n",
      " 10%|#         | 8/77 [00:00<00:00, 76.87it/s]\u001b[A\n",
      " 22%|##2       | 17/77 [00:00<00:00, 77.45it/s]\u001b[A\n",
      " 30%|##9       | 23/77 [00:00<00:00, 70.54it/s]\u001b[A\n",
      " 38%|###7      | 29/77 [00:00<00:00, 66.74it/s]\u001b[A\n",
      " 47%|####6     | 36/77 [00:00<00:00, 66.69it/s]\u001b[A\n",
      " 58%|#####8    | 45/77 [00:00<00:00, 70.73it/s]\u001b[A\n",
      " 70%|#######   | 54/77 [00:00<00:00, 73.38it/s]\u001b[A\n",
      " 79%|#######9  | 61/77 [00:00<00:00, 71.45it/s]\u001b[A\n",
      " 91%|######### | 70/77 [00:00<00:00, 74.38it/s]\u001b[A\n",
      "  6%|▌         | 49/884 [00:03<02:20,  5.93it/s][A"
     ]
    },
    {
     "name": "stdout",
     "output_type": "stream",
     "text": [
      "{'ade': 0.44212276, 'fde': 0.9657279}\n",
      "\t last loss:0.000277595, eval on validation:['ade: 0.44212276', 'fde: 0.9657279'], (best ade:0.43956468 at step 67200) \n"
     ]
    },
    {
     "name": "stderr",
     "output_type": "stream",
     "text": [
      " 39%|███▉      | 346/884 [00:16<00:24, 21.89it/s]"
     ]
    },
    {
     "name": "stdout",
     "output_type": "stream",
     "text": [
      "\tsaving model 69300...\n"
     ]
    },
    {
     "name": "stderr",
     "output_type": "stream",
     "text": [
      "\n",
      "  0%|          | 0/77 [00:00<?, ?it/s]\u001b[A\n",
      " 10%|#         | 8/77 [00:00<00:00, 75.12it/s]\u001b[A\n",
      " 21%|##        | 16/77 [00:00<00:00, 73.47it/s]\u001b[A\n",
      " 29%|##8       | 22/77 [00:00<00:00, 66.41it/s]\u001b[A\n",
      " 36%|###6      | 28/77 [00:00<00:00, 61.25it/s]\u001b[A\n",
      " 44%|####4     | 34/77 [00:00<00:00, 60.86it/s]\u001b[A\n",
      " 52%|#####1    | 40/77 [00:00<00:00, 59.25it/s]\u001b[A\n",
      " 62%|######2   | 48/77 [00:00<00:00, 63.25it/s]\u001b[A\n",
      " 71%|#######1  | 55/77 [00:00<00:00, 64.43it/s]\u001b[A\n",
      " 82%|########1 | 63/77 [00:00<00:00, 66.98it/s]\u001b[A\n",
      " 92%|#########2| 71/77 [00:01<00:00, 68.82it/s]\u001b[A\n",
      " 39%|███▉      | 349/884 [00:17<01:38,  5.41it/s]A"
     ]
    },
    {
     "name": "stdout",
     "output_type": "stream",
     "text": [
      "\tdone\n",
      "Evaluating\n",
      "{'ade': 0.44160134, 'fde': 0.96439564}\n",
      "\t last loss:0.000345457, eval on validation:['ade: 0.44160134', 'fde: 0.96439564'], (best ade:0.43956468 at step 67200) \n"
     ]
    },
    {
     "name": "stderr",
     "output_type": "stream",
     "text": [
      " 73%|███████▎  | 647/884 [00:29<00:09, 24.88it/s]"
     ]
    },
    {
     "name": "stdout",
     "output_type": "stream",
     "text": [
      "\tsaving model 69600...\n"
     ]
    },
    {
     "name": "stderr",
     "output_type": "stream",
     "text": [
      "\n",
      "  0%|          | 0/77 [00:00<?, ?it/s]\u001b[A\n",
      " 12%|#1        | 9/77 [00:00<00:00, 81.85it/s]\u001b[A"
     ]
    },
    {
     "name": "stdout",
     "output_type": "stream",
     "text": [
      "\tdone\n",
      "Evaluating\n"
     ]
    },
    {
     "name": "stderr",
     "output_type": "stream",
     "text": [
      "\n",
      " 19%|#9        | 15/77 [00:00<00:00, 70.09it/s]\u001b[A\n",
      " 27%|##7       | 21/77 [00:00<00:00, 64.07it/s]\u001b[A\n",
      " 38%|###7      | 29/77 [00:00<00:00, 67.03it/s]\u001b[A\n",
      " 47%|####6     | 36/77 [00:00<00:00, 67.62it/s]\u001b[A\n",
      " 58%|#####8    | 45/77 [00:00<00:00, 71.92it/s]\u001b[A\n",
      " 70%|#######   | 54/77 [00:00<00:00, 75.35it/s]\u001b[A\n",
      " 81%|########  | 62/77 [00:00<00:00, 76.14it/s]\u001b[A\n",
      " 92%|#########2| 71/77 [00:00<00:00, 78.23it/s]\u001b[A\n",
      " 74%|███████▎  | 650/884 [00:31<00:39,  5.93it/s]A"
     ]
    },
    {
     "name": "stdout",
     "output_type": "stream",
     "text": [
      "{'ade': 0.44134435, 'fde': 0.9639626}\n",
      "\t last loss:0.000231303, eval on validation:['ade: 0.44134435', 'fde: 0.9639626'], (best ade:0.43956468 at step 67200) \n"
     ]
    },
    {
     "name": "stderr",
     "output_type": "stream",
     "text": [
      "100%|██████████| 884/884 [00:40<00:00, 21.74it/s]\n",
      "  0%|          | 2/884 [00:00<00:55, 15.90it/s]"
     ]
    },
    {
     "name": "stdout",
     "output_type": "stream",
     "text": [
      "('Epoca 80.', 'lr:', 3.5348305e-06)\n"
     ]
    },
    {
     "name": "stderr",
     "output_type": "stream",
     "text": [
      "  7%|▋         | 62/884 [00:02<00:31, 26.24it/s]\n",
      "  0%|          | 0/77 [00:00<?, ?it/s]\u001b[A"
     ]
    },
    {
     "name": "stdout",
     "output_type": "stream",
     "text": [
      "\tsaving model 69900...\n",
      "\tdone\n",
      "Evaluating\n"
     ]
    },
    {
     "name": "stderr",
     "output_type": "stream",
     "text": [
      "\n",
      " 12%|#1        | 9/77 [00:00<00:00, 86.53it/s]\u001b[A\n",
      " 19%|#9        | 15/77 [00:00<00:00, 75.58it/s]\u001b[A\n",
      " 30%|##9       | 23/77 [00:00<00:00, 75.26it/s]\u001b[A\n",
      " 39%|###8      | 30/77 [00:00<00:00, 71.81it/s]\u001b[A\n",
      " 51%|#####     | 39/77 [00:00<00:00, 76.24it/s]\u001b[A\n",
      " 61%|######1   | 47/77 [00:00<00:00, 74.71it/s]\u001b[A\n",
      " 73%|#######2  | 56/77 [00:00<00:00, 77.36it/s]\u001b[A\n",
      " 83%|########3 | 64/77 [00:00<00:00, 77.83it/s]\u001b[A\n",
      " 94%|#########3| 72/77 [00:00<00:00, 78.33it/s]\u001b[A\n",
      "  7%|▋         | 65/884 [00:03<02:11,  6.23it/s][A"
     ]
    },
    {
     "name": "stdout",
     "output_type": "stream",
     "text": [
      "{'ade': 0.44251546, 'fde': 0.96733177}\n",
      "\t last loss:0.000219865, eval on validation:['ade: 0.44251546', 'fde: 0.96733177'], (best ade:0.43956468 at step 67200) \n"
     ]
    },
    {
     "name": "stderr",
     "output_type": "stream",
     "text": [
      " 41%|████      | 361/884 [00:17<00:21, 24.71it/s]\n",
      "  0%|          | 0/77 [00:00<?, ?it/s]\u001b[A"
     ]
    },
    {
     "name": "stdout",
     "output_type": "stream",
     "text": [
      "\tsaving model 70200...\n",
      "\tdone\n",
      "Evaluating\n"
     ]
    },
    {
     "name": "stderr",
     "output_type": "stream",
     "text": [
      "\n",
      " 12%|#1        | 9/77 [00:00<00:00, 83.36it/s]\u001b[A\n",
      " 19%|#9        | 15/77 [00:00<00:00, 73.32it/s]\u001b[A\n",
      " 27%|##7       | 21/77 [00:00<00:00, 65.58it/s]\u001b[A\n",
      " 36%|###6      | 28/77 [00:00<00:00, 65.03it/s]\u001b[A\n",
      " 45%|####5     | 35/77 [00:00<00:00, 65.85it/s]\u001b[A\n",
      " 56%|#####5    | 43/77 [00:00<00:00, 68.12it/s]\u001b[A\n",
      " 68%|######7   | 52/77 [00:00<00:00, 71.80it/s]\u001b[A\n",
      " 79%|#######9  | 61/77 [00:00<00:00, 75.29it/s]\u001b[A\n",
      " 91%|######### | 70/77 [00:00<00:00, 77.52it/s]\u001b[A\n",
      " 42%|████▏     | 367/884 [00:19<01:06,  7.75it/s]A"
     ]
    },
    {
     "name": "stdout",
     "output_type": "stream",
     "text": [
      "{'ade': 0.44227195, 'fde': 0.9661676}\n",
      "\t last loss:0.000421369, eval on validation:['ade: 0.44227195', 'fde: 0.9661676'], (best ade:0.43956468 at step 67200) \n"
     ]
    },
    {
     "name": "stderr",
     "output_type": "stream",
     "text": [
      " 75%|███████▍  | 661/884 [00:31<00:09, 22.45it/s]"
     ]
    },
    {
     "name": "stdout",
     "output_type": "stream",
     "text": [
      "\tsaving model 70500...\n"
     ]
    },
    {
     "name": "stderr",
     "output_type": "stream",
     "text": [
      "\n",
      "  0%|          | 0/77 [00:00<?, ?it/s]\u001b[A\n",
      " 10%|#         | 8/77 [00:00<00:00, 72.63it/s]\u001b[A\n",
      " 17%|#6        | 13/77 [00:00<00:01, 62.98it/s]\u001b[A\n",
      " 25%|##4       | 19/77 [00:00<00:00, 59.61it/s]\u001b[A\n",
      " 31%|###1      | 24/77 [00:00<00:00, 54.93it/s]\u001b[A\n",
      " 40%|####      | 31/77 [00:00<00:00, 58.24it/s]\u001b[A\n",
      " 49%|####9     | 38/77 [00:00<00:00, 59.44it/s]\u001b[A\n",
      " 60%|#####9    | 46/77 [00:00<00:00, 63.26it/s]\u001b[A\n",
      " 70%|#######   | 54/77 [00:00<00:00, 66.04it/s]\u001b[A\n",
      " 79%|#######9  | 61/77 [00:00<00:00, 66.80it/s]\u001b[A\n",
      " 90%|########9 | 69/77 [00:01<00:00, 69.14it/s]\u001b[A\n",
      " 99%|#########8| 76/77 [00:01<00:00, 69.01it/s]\u001b[A\n",
      " 75%|███████▌  | 667/884 [00:33<00:31,  6.87it/s]A"
     ]
    },
    {
     "name": "stdout",
     "output_type": "stream",
     "text": [
      "\tdone\n",
      "Evaluating\n",
      "{'ade': 0.44118577, 'fde': 0.9639607}\n",
      "\t last loss:0.000230041, eval on validation:['ade: 0.44118577', 'fde: 0.9639607'], (best ade:0.43956468 at step 67200) \n"
     ]
    },
    {
     "name": "stderr",
     "output_type": "stream",
     "text": [
      "100%|██████████| 884/884 [00:42<00:00, 20.79it/s]\n",
      "  0%|          | 1/884 [00:00<02:04,  7.09it/s]"
     ]
    },
    {
     "name": "stdout",
     "output_type": "stream",
     "text": [
      "('Epoca 81.', 'lr:', 3.004606e-06)\n"
     ]
    },
    {
     "name": "stderr",
     "output_type": "stream",
     "text": [
      "  9%|▉         | 79/884 [00:03<00:33, 24.39it/s]\n",
      "  0%|          | 0/77 [00:00<?, ?it/s]"
     ]
    },
    {
     "name": "stdout",
     "output_type": "stream",
     "text": [
      "\tsaving model 70800...\n",
      "\tdone\n",
      "Evaluating\n"
     ]
    },
    {
     "name": "stderr",
     "output_type": "stream",
     "text": [
      "\u001b[A\n",
      " 12%|#1        | 9/77 [00:00<00:00, 83.23it/s]\u001b[A\n",
      " 19%|#9        | 15/77 [00:00<00:00, 69.86it/s]\u001b[A\n",
      " 27%|##7       | 21/77 [00:00<00:00, 65.84it/s]\u001b[A\n",
      " 36%|###6      | 28/77 [00:00<00:00, 64.60it/s]\u001b[A\n",
      " 48%|####8     | 37/77 [00:00<00:00, 69.49it/s]\u001b[A\n",
      " 57%|#####7    | 44/77 [00:00<00:00, 68.21it/s]\u001b[A\n",
      " 69%|######8   | 53/77 [00:00<00:00, 72.08it/s]\u001b[A\n",
      " 81%|########  | 62/77 [00:00<00:00, 75.33it/s]\u001b[A\n",
      " 92%|#########2| 71/77 [00:00<00:00, 76.34it/s]\u001b[A\n",
      "  9%|▉         | 82/884 [00:04<02:14,  5.94it/s][A"
     ]
    },
    {
     "name": "stdout",
     "output_type": "stream",
     "text": [
      "{'ade': 0.44204628, 'fde': 0.96643287}\n",
      "\t last loss:0.000271465, eval on validation:['ade: 0.44204628', 'fde: 0.96643287'], (best ade:0.43956468 at step 67200) \n"
     ]
    },
    {
     "name": "stderr",
     "output_type": "stream",
     "text": [
      " 43%|████▎     | 379/884 [00:16<00:18, 26.67it/s]\n",
      "  0%|          | 0/77 [00:00<?, ?it/s]\u001b[A"
     ]
    },
    {
     "name": "stdout",
     "output_type": "stream",
     "text": [
      "\tsaving model 71100...\n",
      "\tdone\n",
      "Evaluating\n"
     ]
    },
    {
     "name": "stderr",
     "output_type": "stream",
     "text": [
      "\n",
      " 12%|#1        | 9/77 [00:00<00:00, 88.04it/s]\u001b[A\n",
      " 22%|##2       | 17/77 [00:00<00:00, 85.04it/s]\u001b[A\n",
      " 30%|##9       | 23/77 [00:00<00:00, 73.49it/s]\u001b[A\n",
      " 38%|###7      | 29/77 [00:00<00:00, 68.62it/s]\u001b[A\n",
      " 45%|####5     | 35/77 [00:00<00:00, 63.20it/s]\u001b[A\n",
      " 57%|#####7    | 44/77 [00:00<00:00, 67.23it/s]\u001b[A\n",
      " 69%|######8   | 53/77 [00:00<00:00, 70.96it/s]\u001b[A\n",
      " 81%|########  | 62/77 [00:00<00:00, 74.68it/s]\u001b[A\n",
      " 91%|######### | 70/77 [00:00<00:00, 75.91it/s]\u001b[A\n",
      " 43%|████▎     | 382/884 [00:17<01:21,  6.14it/s]A"
     ]
    },
    {
     "name": "stdout",
     "output_type": "stream",
     "text": [
      "{'ade': 0.44144028, 'fde': 0.964657}\n",
      "\t last loss:0.000381129, eval on validation:['ade: 0.44144028', 'fde: 0.964657'], (best ade:0.43956468 at step 67200) \n"
     ]
    },
    {
     "name": "stderr",
     "output_type": "stream",
     "text": [
      " 77%|███████▋  | 679/884 [00:29<00:09, 20.76it/s]"
     ]
    },
    {
     "name": "stdout",
     "output_type": "stream",
     "text": [
      "\tsaving model 71400...\n"
     ]
    },
    {
     "name": "stderr",
     "output_type": "stream",
     "text": [
      "\n",
      "  0%|          | 0/77 [00:00<?, ?it/s]\u001b[A\n",
      "  8%|7         | 6/77 [00:00<00:01, 59.57it/s]\u001b[A"
     ]
    },
    {
     "name": "stdout",
     "output_type": "stream",
     "text": [
      "\tdone\n",
      "Evaluating\n"
     ]
    },
    {
     "name": "stderr",
     "output_type": "stream",
     "text": [
      "\n",
      " 14%|#4        | 11/77 [00:00<00:01, 54.51it/s]\u001b[A\n",
      " 21%|##        | 16/77 [00:00<00:01, 49.80it/s]\u001b[A\n",
      " 29%|##8       | 22/77 [00:00<00:01, 52.14it/s]\u001b[A\n",
      " 38%|###7      | 29/77 [00:00<00:00, 55.30it/s]\u001b[A\n",
      " 45%|####5     | 35/77 [00:00<00:00, 56.36it/s]\u001b[A\n",
      " 53%|#####3    | 41/77 [00:00<00:00, 55.44it/s]\u001b[A\n",
      " 62%|######2   | 48/77 [00:00<00:00, 57.72it/s]\u001b[A\n",
      " 70%|#######   | 54/77 [00:00<00:00, 57.54it/s]\u001b[A\n",
      " 79%|#######9  | 61/77 [00:01<00:00, 58.88it/s]\u001b[A\n",
      " 88%|########8 | 68/77 [00:01<00:00, 60.35it/s]\u001b[A\n",
      " 97%|#########7| 75/77 [00:01<00:00, 61.10it/s]\u001b[A\n",
      " 77%|███████▋  | 682/884 [00:31<00:42,  4.77it/s]A"
     ]
    },
    {
     "name": "stdout",
     "output_type": "stream",
     "text": [
      "{'ade': 0.4419055, 'fde': 0.9658076}\n",
      "\t last loss:0.000256405, eval on validation:['ade: 0.4419055', 'fde: 0.9658076'], (best ade:0.43956468 at step 67200) \n"
     ]
    },
    {
     "name": "stderr",
     "output_type": "stream",
     "text": [
      "100%|██████████| 884/884 [00:40<00:00, 21.79it/s]\n",
      "  0%|          | 2/884 [00:00<00:54, 16.06it/s]"
     ]
    },
    {
     "name": "stdout",
     "output_type": "stream",
     "text": [
      "('Epoca 82.', 'lr:', 3.004606e-06)\n"
     ]
    },
    {
     "name": "stderr",
     "output_type": "stream",
     "text": [
      " 11%|█         | 94/884 [00:03<00:29, 26.39it/s]\n",
      "  0%|          | 0/77 [00:00<?, ?it/s]\u001b[A"
     ]
    },
    {
     "name": "stdout",
     "output_type": "stream",
     "text": [
      "\tsaving model 71700...\n",
      "\tdone\n",
      "Evaluating\n"
     ]
    },
    {
     "name": "stderr",
     "output_type": "stream",
     "text": [
      "\n",
      " 12%|#1        | 9/77 [00:00<00:00, 89.92it/s]\u001b[A\n",
      " 21%|##        | 16/77 [00:00<00:00, 80.30it/s]\u001b[A\n",
      " 31%|###1      | 24/77 [00:00<00:00, 78.46it/s]\u001b[A\n",
      " 42%|####1     | 32/77 [00:00<00:00, 78.03it/s]\u001b[A\n",
      " 52%|#####1    | 40/77 [00:00<00:00, 77.96it/s]\u001b[A\n",
      " 61%|######1   | 47/77 [00:00<00:00, 75.38it/s]\u001b[A\n",
      " 73%|#######2  | 56/77 [00:00<00:00, 77.75it/s]\u001b[A\n",
      " 84%|########4 | 65/77 [00:00<00:00, 79.93it/s]\u001b[A\n",
      " 95%|#########4| 73/77 [00:00<00:00, 79.69it/s]\u001b[A\n",
      " 11%|█         | 97/884 [00:05<02:03,  6.37it/s][A"
     ]
    },
    {
     "name": "stdout",
     "output_type": "stream",
     "text": [
      "{'ade': 0.4425757, 'fde': 0.96759677}\n",
      "\t last loss:0.000411544, eval on validation:['ade: 0.4425757', 'fde: 0.96759677'], (best ade:0.43956468 at step 67200) \n"
     ]
    },
    {
     "name": "stderr",
     "output_type": "stream",
     "text": [
      " 45%|████▍     | 394/884 [00:18<00:21, 23.10it/s]\n",
      "  0%|          | 0/77 [00:00<?, ?it/s]\u001b[A"
     ]
    },
    {
     "name": "stdout",
     "output_type": "stream",
     "text": [
      "\tsaving model 72000...\n",
      "\tdone\n",
      "Evaluating\n"
     ]
    },
    {
     "name": "stderr",
     "output_type": "stream",
     "text": [
      "\n",
      " 12%|#1        | 9/77 [00:00<00:00, 82.25it/s]\u001b[A\n",
      " 23%|##3       | 18/77 [00:00<00:00, 82.08it/s]\u001b[A\n",
      " 31%|###1      | 24/77 [00:00<00:00, 72.84it/s]\u001b[A\n",
      " 42%|####1     | 32/77 [00:00<00:00, 74.25it/s]\u001b[A\n",
      " 53%|#####3    | 41/77 [00:00<00:00, 75.44it/s]\u001b[A\n",
      " 65%|######4   | 50/77 [00:00<00:00, 77.51it/s]\u001b[A\n",
      " 75%|#######5  | 58/77 [00:00<00:00, 76.16it/s]\u001b[A\n",
      " 86%|########5 | 66/77 [00:00<00:00, 72.89it/s]\u001b[A\n",
      " 96%|#########6| 74/77 [00:00<00:00, 73.61it/s]\u001b[A\n",
      " 45%|████▍     | 397/884 [00:19<01:21,  5.98it/s]A"
     ]
    },
    {
     "name": "stdout",
     "output_type": "stream",
     "text": [
      "{'ade': 0.44177237, 'fde': 0.9659023}\n",
      "\t last loss:0.000255139, eval on validation:['ade: 0.44177237', 'fde: 0.9659023'], (best ade:0.43956468 at step 67200) \n"
     ]
    },
    {
     "name": "stderr",
     "output_type": "stream",
     "text": [
      " 79%|███████▊  | 694/884 [00:31<00:07, 26.37it/s]\n",
      "  0%|          | 0/77 [00:00<?, ?it/s]\u001b[A"
     ]
    },
    {
     "name": "stdout",
     "output_type": "stream",
     "text": [
      "\tsaving model 72300...\n",
      "\tdone\n",
      "Evaluating\n"
     ]
    },
    {
     "name": "stderr",
     "output_type": "stream",
     "text": [
      "\n",
      " 13%|#2        | 10/77 [00:00<00:00, 91.87it/s]\u001b[A\n",
      " 22%|##2       | 17/77 [00:00<00:00, 81.73it/s]\u001b[A\n",
      " 32%|###2      | 25/77 [00:00<00:00, 78.01it/s]\u001b[A\n",
      " 42%|####1     | 32/77 [00:00<00:00, 75.18it/s]\u001b[A\n",
      " 53%|#####3    | 41/77 [00:00<00:00, 77.63it/s]\u001b[A\n",
      " 64%|######3   | 49/77 [00:00<00:00, 77.63it/s]\u001b[A\n",
      " 75%|#######5  | 58/77 [00:00<00:00, 78.75it/s]\u001b[A\n",
      " 87%|########7 | 67/77 [00:00<00:00, 79.48it/s]\u001b[A\n",
      " 97%|#########7| 75/77 [00:00<00:00, 77.88it/s]\u001b[A\n",
      " 79%|███████▉  | 697/884 [00:32<00:29,  6.29it/s]A"
     ]
    },
    {
     "name": "stdout",
     "output_type": "stream",
     "text": [
      "{'ade': 0.44179845, 'fde': 0.96540487}\n",
      "\t last loss:0.000312443, eval on validation:['ade: 0.44179845', 'fde: 0.96540487'], (best ade:0.43956468 at step 67200) \n"
     ]
    },
    {
     "name": "stderr",
     "output_type": "stream",
     "text": [
      "100%|██████████| 884/884 [00:40<00:00, 21.95it/s]\n",
      "  0%|          | 2/884 [00:00<00:57, 15.47it/s]"
     ]
    },
    {
     "name": "stdout",
     "output_type": "stream",
     "text": [
      "('Epoca 83.', 'lr:', 2.5539152e-06)\n"
     ]
    },
    {
     "name": "stderr",
     "output_type": "stream",
     "text": [
      " 12%|█▏        | 110/884 [00:04<00:42, 18.38it/s]"
     ]
    },
    {
     "name": "stdout",
     "output_type": "stream",
     "text": [
      "\tsaving model 72600...\n"
     ]
    },
    {
     "name": "stderr",
     "output_type": "stream",
     "text": [
      "\n",
      "  0%|          | 0/77 [00:00<?, ?it/s]\u001b[A\n",
      "  6%|6         | 5/77 [00:00<00:01, 46.27it/s]\u001b[A"
     ]
    },
    {
     "name": "stdout",
     "output_type": "stream",
     "text": [
      "\tdone\n",
      "Evaluating\n"
     ]
    },
    {
     "name": "stderr",
     "output_type": "stream",
     "text": [
      "\n",
      " 13%|#2        | 10/77 [00:00<00:01, 45.78it/s]\u001b[A\n",
      " 22%|##2       | 17/77 [00:00<00:01, 49.88it/s]\u001b[A\n",
      " 30%|##9       | 23/77 [00:00<00:01, 52.20it/s]\u001b[A\n",
      " 40%|####      | 31/77 [00:00<00:00, 57.03it/s]\u001b[A\n",
      " 49%|####9     | 38/77 [00:00<00:00, 59.76it/s]\u001b[A\n",
      " 58%|#####8    | 45/77 [00:00<00:00, 61.84it/s]\u001b[A\n",
      " 69%|######8   | 53/77 [00:00<00:00, 66.28it/s]\u001b[A\n",
      " 78%|#######7  | 60/77 [00:00<00:00, 67.32it/s]\u001b[A\n",
      " 87%|########7 | 67/77 [00:01<00:00, 64.12it/s]\u001b[A\n",
      " 97%|#########7| 75/77 [00:01<00:00, 66.32it/s]\u001b[A\n",
      " 13%|█▎        | 115/884 [00:06<02:37,  4.87it/s]A"
     ]
    },
    {
     "name": "stdout",
     "output_type": "stream",
     "text": [
      "{'ade': 0.4411097, 'fde': 0.9636508}\n",
      "\t last loss:0.000387105, eval on validation:['ade: 0.4411097', 'fde: 0.9636508'], (best ade:0.43956468 at step 67200) \n"
     ]
    },
    {
     "name": "stderr",
     "output_type": "stream",
     "text": [
      " 46%|████▋     | 409/884 [00:19<00:23, 20.60it/s]"
     ]
    },
    {
     "name": "stdout",
     "output_type": "stream",
     "text": [
      "\tsaving model 72900...\n"
     ]
    },
    {
     "name": "stderr",
     "output_type": "stream",
     "text": [
      "\n",
      "  0%|          | 0/77 [00:00<?, ?it/s]\u001b[A\n",
      "  8%|7         | 6/77 [00:00<00:01, 59.96it/s]\u001b[A"
     ]
    },
    {
     "name": "stdout",
     "output_type": "stream",
     "text": [
      "\tdone\n",
      "Evaluating\n"
     ]
    },
    {
     "name": "stderr",
     "output_type": "stream",
     "text": [
      "\n",
      " 16%|#5        | 12/77 [00:00<00:01, 55.91it/s]\u001b[A\n",
      " 23%|##3       | 18/77 [00:00<00:01, 55.85it/s]\u001b[A\n",
      " 32%|###2      | 25/77 [00:00<00:00, 57.07it/s]\u001b[A\n",
      " 40%|####      | 31/77 [00:00<00:00, 57.81it/s]\u001b[A\n",
      " 49%|####9     | 38/77 [00:00<00:00, 59.32it/s]\u001b[A\n",
      " 58%|#####8    | 45/77 [00:00<00:00, 61.22it/s]\u001b[A\n",
      " 68%|######7   | 52/77 [00:00<00:00, 62.73it/s]\u001b[A\n",
      " 77%|#######6  | 59/77 [00:00<00:00, 63.88it/s]\u001b[A\n",
      " 86%|########5 | 66/77 [00:01<00:00, 63.16it/s]\u001b[A\n",
      " 95%|#########4| 73/77 [00:01<00:00, 63.18it/s]\u001b[A\n",
      " 47%|████▋     | 414/884 [00:21<01:13,  6.36it/s]A"
     ]
    },
    {
     "name": "stdout",
     "output_type": "stream",
     "text": [
      "{'ade': 0.44179624, 'fde': 0.9653887}\n",
      "\t last loss:0.000252234, eval on validation:['ade: 0.44179624', 'fde: 0.9653887'], (best ade:0.43956468 at step 67200) \n"
     ]
    },
    {
     "name": "stderr",
     "output_type": "stream",
     "text": [
      " 80%|████████  | 711/884 [00:36<00:08, 20.54it/s]"
     ]
    },
    {
     "name": "stdout",
     "output_type": "stream",
     "text": [
      "\tsaving model 73200...\n"
     ]
    },
    {
     "name": "stderr",
     "output_type": "stream",
     "text": [
      "\n",
      "  0%|          | 0/77 [00:00<?, ?it/s]\u001b[A\n",
      "  6%|6         | 5/77 [00:00<00:01, 46.16it/s]\u001b[A"
     ]
    },
    {
     "name": "stdout",
     "output_type": "stream",
     "text": [
      "\tdone\n",
      "Evaluating\n"
     ]
    },
    {
     "name": "stderr",
     "output_type": "stream",
     "text": [
      "\n",
      " 12%|#1        | 9/77 [00:00<00:01, 43.80it/s]\u001b[A\n",
      " 18%|#8        | 14/77 [00:00<00:01, 44.25it/s]\u001b[A\n",
      " 25%|##4       | 19/77 [00:00<00:01, 43.26it/s]\u001b[A\n",
      " 32%|###2      | 25/77 [00:00<00:01, 45.88it/s]\u001b[A\n",
      " 42%|####1     | 32/77 [00:00<00:00, 49.89it/s]\u001b[A\n",
      " 51%|#####     | 39/77 [00:00<00:00, 53.58it/s]\u001b[A\n",
      " 60%|#####9    | 46/77 [00:00<00:00, 56.27it/s]\u001b[A\n",
      " 69%|######8   | 53/77 [00:00<00:00, 58.35it/s]\u001b[A\n",
      " 77%|#######6  | 59/77 [00:01<00:00, 57.57it/s]\u001b[A\n",
      " 86%|########5 | 66/77 [00:01<00:00, 59.47it/s]\u001b[A\n",
      " 95%|#########4| 73/77 [00:01<00:00, 61.07it/s]\u001b[A\n",
      " 81%|████████  | 714/884 [00:37<00:36,  4.65it/s]A"
     ]
    },
    {
     "name": "stdout",
     "output_type": "stream",
     "text": [
      "{'ade': 0.4424624, 'fde': 0.9670728}\n",
      "\t last loss:0.000432409, eval on validation:['ade: 0.4424624', 'fde: 0.9670728'], (best ade:0.43956468 at step 67200) \n"
     ]
    },
    {
     "name": "stderr",
     "output_type": "stream",
     "text": [
      "100%|██████████| 884/884 [00:45<00:00, 19.25it/s]\n",
      "  0%|          | 1/884 [00:00<01:38,  8.97it/s]"
     ]
    },
    {
     "name": "stdout",
     "output_type": "stream",
     "text": [
      "('Epoca 84.', 'lr:', 2.5539152e-06)\n"
     ]
    },
    {
     "name": "stderr",
     "output_type": "stream",
     "text": [
      " 14%|█▍        | 127/884 [00:04<00:28, 26.55it/s]\n",
      "  0%|          | 0/77 [00:00<?, ?it/s]\u001b[A"
     ]
    },
    {
     "name": "stdout",
     "output_type": "stream",
     "text": [
      "\tsaving model 73500...\n",
      "\tdone\n",
      "Evaluating\n"
     ]
    },
    {
     "name": "stderr",
     "output_type": "stream",
     "text": [
      "\n",
      " 13%|#2        | 10/77 [00:00<00:00, 91.81it/s]\u001b[A\n",
      " 26%|##5       | 20/77 [00:00<00:00, 91.75it/s]\u001b[A\n",
      " 36%|###6      | 28/77 [00:00<00:00, 84.09it/s]\u001b[A\n",
      " 47%|####6     | 36/77 [00:00<00:00, 78.48it/s]\u001b[A\n",
      " 55%|#####4    | 42/77 [00:00<00:00, 70.58it/s]\u001b[A\n",
      " 66%|######6   | 51/77 [00:00<00:00, 74.26it/s]\u001b[A\n",
      " 77%|#######6  | 59/77 [00:00<00:00, 75.72it/s]\u001b[A\n",
      " 88%|########8 | 68/77 [00:00<00:00, 78.10it/s]\u001b[A\n",
      " 15%|█▍        | 130/884 [00:06<01:56,  6.45it/s]A"
     ]
    },
    {
     "name": "stdout",
     "output_type": "stream",
     "text": [
      "{'ade': 0.4423992, 'fde': 0.9670894}\n",
      "\t last loss:0.000203550, eval on validation:['ade: 0.4423992', 'fde: 0.9670894'], (best ade:0.43956468 at step 67200) \n"
     ]
    },
    {
     "name": "stderr",
     "output_type": "stream",
     "text": [
      " 48%|████▊     | 427/884 [00:17<00:17, 26.28it/s]\n",
      "  0%|          | 0/77 [00:00<?, ?it/s]\u001b[A"
     ]
    },
    {
     "name": "stdout",
     "output_type": "stream",
     "text": [
      "\tsaving model 73800...\n",
      "\tdone\n",
      "Evaluating\n"
     ]
    },
    {
     "name": "stderr",
     "output_type": "stream",
     "text": [
      "\n",
      " 12%|#1        | 9/77 [00:00<00:00, 87.91it/s]\u001b[A\n",
      " 23%|##3       | 18/77 [00:00<00:00, 88.14it/s]\u001b[A\n",
      " 32%|###2      | 25/77 [00:00<00:00, 79.89it/s]\u001b[A\n",
      " 42%|####1     | 32/77 [00:00<00:00, 73.58it/s]\u001b[A\n",
      " 49%|####9     | 38/77 [00:00<00:00, 68.70it/s]\u001b[A\n",
      " 61%|######1   | 47/77 [00:00<00:00, 72.23it/s]\u001b[A\n",
      " 70%|#######   | 54/77 [00:00<00:00, 70.95it/s]\u001b[A\n",
      " 82%|########1 | 63/77 [00:00<00:00, 74.15it/s]\u001b[A\n",
      " 94%|#########3| 72/77 [00:00<00:00, 76.82it/s]\u001b[A\n",
      " 49%|████▊     | 430/884 [00:19<01:13,  6.21it/s]A"
     ]
    },
    {
     "name": "stdout",
     "output_type": "stream",
     "text": [
      "{'ade': 0.44223657, 'fde': 0.9663091}\n",
      "\t last loss:0.000216856, eval on validation:['ade: 0.44223657', 'fde: 0.9663091'], (best ade:0.43956468 at step 67200) \n"
     ]
    },
    {
     "name": "stderr",
     "output_type": "stream",
     "text": [
      " 82%|████████▏ | 726/884 [00:33<00:07, 20.27it/s]"
     ]
    },
    {
     "name": "stdout",
     "output_type": "stream",
     "text": [
      "\tsaving model 74100...\n"
     ]
    },
    {
     "name": "stderr",
     "output_type": "stream",
     "text": [
      "\n",
      "  0%|          | 0/77 [00:00<?, ?it/s]\u001b[A\n",
      "  8%|7         | 6/77 [00:00<00:01, 59.62it/s]\u001b[A"
     ]
    },
    {
     "name": "stdout",
     "output_type": "stream",
     "text": [
      "\tdone\n",
      "Evaluating\n"
     ]
    },
    {
     "name": "stderr",
     "output_type": "stream",
     "text": [
      "\n",
      " 17%|#6        | 13/77 [00:00<00:01, 60.73it/s]\u001b[A\n",
      " 25%|##4       | 19/77 [00:00<00:00, 58.93it/s]\u001b[A\n",
      " 31%|###1      | 24/77 [00:00<00:01, 52.78it/s]\u001b[A\n",
      " 38%|###7      | 29/77 [00:00<00:00, 49.57it/s]\u001b[A\n",
      " 45%|####5     | 35/77 [00:00<00:00, 51.62it/s]\u001b[A\n",
      " 52%|#####1    | 40/77 [00:00<00:00, 50.91it/s]\u001b[A\n",
      " 61%|######1   | 47/77 [00:00<00:00, 53.81it/s]\u001b[A\n",
      " 70%|#######   | 54/77 [00:00<00:00, 56.80it/s]\u001b[A\n",
      " 78%|#######7  | 60/77 [00:01<00:00, 47.87it/s]\u001b[A\n",
      " 84%|########4 | 65/77 [00:01<00:00, 47.73it/s]\u001b[A\n",
      " 92%|#########2| 71/77 [00:01<00:00, 48.77it/s]\u001b[A\n",
      " 99%|#########8| 76/77 [00:01<00:00, 47.51it/s]\u001b[A\n",
      " 82%|████████▏ | 729/884 [00:34<00:35,  4.39it/s]A"
     ]
    },
    {
     "name": "stdout",
     "output_type": "stream",
     "text": [
      "{'ade': 0.44081408, 'fde': 0.9628447}\n",
      "\t last loss:0.000218431, eval on validation:['ade: 0.44081408', 'fde: 0.9628447'], (best ade:0.43956468 at step 67200) \n"
     ]
    },
    {
     "name": "stderr",
     "output_type": "stream",
     "text": [
      "100%|██████████| 884/884 [00:42<00:00, 20.67it/s]\n",
      "  0%|          | 2/884 [00:00<00:57, 15.34it/s]"
     ]
    },
    {
     "name": "stdout",
     "output_type": "stream",
     "text": [
      "('Epoca 85.', 'lr:', 2.170828e-06)\n"
     ]
    },
    {
     "name": "stderr",
     "output_type": "stream",
     "text": [
      " 16%|█▌        | 141/884 [00:06<00:35, 20.77it/s]"
     ]
    },
    {
     "name": "stdout",
     "output_type": "stream",
     "text": [
      "\tsaving model 74400...\n"
     ]
    },
    {
     "name": "stderr",
     "output_type": "stream",
     "text": [
      "\n",
      "  0%|          | 0/77 [00:00<?, ?it/s]\u001b[A\n",
      "  9%|9         | 7/77 [00:00<00:01, 67.46it/s]\u001b[A"
     ]
    },
    {
     "name": "stdout",
     "output_type": "stream",
     "text": [
      "\tdone\n",
      "Evaluating\n"
     ]
    },
    {
     "name": "stderr",
     "output_type": "stream",
     "text": [
      "\n",
      " 16%|#5        | 12/77 [00:00<00:01, 60.92it/s]\u001b[A\n",
      " 21%|##        | 16/77 [00:00<00:01, 52.57it/s]\u001b[A\n",
      " 29%|##8       | 22/77 [00:00<00:01, 53.55it/s]\u001b[A\n",
      " 40%|####      | 31/77 [00:00<00:00, 60.54it/s]\u001b[A\n",
      " 51%|#####     | 39/77 [00:00<00:00, 64.65it/s]\u001b[A\n",
      " 64%|######3   | 49/77 [00:00<00:00, 71.05it/s]\u001b[A\n",
      " 77%|#######6  | 59/77 [00:00<00:00, 76.11it/s]\u001b[A\n",
      " 87%|########7 | 67/77 [00:00<00:00, 76.13it/s]\u001b[A\n",
      " 97%|#########7| 75/77 [00:01<00:00, 72.06it/s]\u001b[A\n",
      " 17%|█▋        | 147/884 [00:08<01:43,  7.15it/s]A"
     ]
    },
    {
     "name": "stdout",
     "output_type": "stream",
     "text": [
      "{'ade': 0.44098815, 'fde': 0.96318907}\n",
      "\t last loss:0.000272535, eval on validation:['ade: 0.44098815', 'fde: 0.96318907'], (best ade:0.43956468 at step 67200) \n"
     ]
    },
    {
     "name": "stderr",
     "output_type": "stream",
     "text": [
      " 50%|████▉     | 441/884 [00:19<00:16, 26.52it/s]\n",
      "  0%|          | 0/77 [00:00<?, ?it/s]\u001b[A"
     ]
    },
    {
     "name": "stdout",
     "output_type": "stream",
     "text": [
      "\tsaving model 74700...\n",
      "\tdone\n",
      "Evaluating\n"
     ]
    },
    {
     "name": "stderr",
     "output_type": "stream",
     "text": [
      "\n",
      " 13%|#2        | 10/77 [00:00<00:00, 91.88it/s]\u001b[A\n",
      " 25%|##4       | 19/77 [00:00<00:00, 89.80it/s]\u001b[A\n",
      " 34%|###3      | 26/77 [00:00<00:00, 79.36it/s]\u001b[A\n",
      " 43%|####2     | 33/77 [00:00<00:00, 73.88it/s]\u001b[A\n",
      " 53%|#####3    | 41/77 [00:00<00:00, 74.33it/s]\u001b[A\n",
      " 65%|######4   | 50/77 [00:00<00:00, 76.01it/s]\u001b[A\n",
      " 78%|#######7  | 60/77 [00:00<00:00, 80.13it/s]\u001b[A\n",
      " 91%|######### | 70/77 [00:00<00:00, 83.54it/s]\u001b[A\n",
      " 51%|█████     | 447/884 [00:21<00:52,  8.36it/s]A"
     ]
    },
    {
     "name": "stdout",
     "output_type": "stream",
     "text": [
      "{'ade': 0.44040072, 'fde': 0.9614712}\n",
      "\t last loss:0.000229512, eval on validation:['ade: 0.44040072', 'fde: 0.9614712'], (best ade:0.43956468 at step 67200) \n"
     ]
    },
    {
     "name": "stderr",
     "output_type": "stream",
     "text": [
      " 84%|████████▍ | 741/884 [00:33<00:06, 20.54it/s]"
     ]
    },
    {
     "name": "stdout",
     "output_type": "stream",
     "text": [
      "\tsaving model 75000...\n"
     ]
    },
    {
     "name": "stderr",
     "output_type": "stream",
     "text": [
      "\n",
      "  0%|          | 0/77 [00:00<?, ?it/s]\u001b[A\n",
      "  6%|6         | 5/77 [00:00<00:01, 45.87it/s]\u001b[A"
     ]
    },
    {
     "name": "stdout",
     "output_type": "stream",
     "text": [
      "\tdone\n",
      "Evaluating\n"
     ]
    },
    {
     "name": "stderr",
     "output_type": "stream",
     "text": [
      "\n",
      " 14%|#4        | 11/77 [00:00<00:01, 48.94it/s]\u001b[A\n",
      " 21%|##        | 16/77 [00:00<00:01, 47.40it/s]\u001b[A\n",
      " 27%|##7       | 21/77 [00:00<00:01, 47.08it/s]\u001b[A\n",
      " 32%|###2      | 25/77 [00:00<00:01, 44.18it/s]\u001b[A\n",
      " 40%|####      | 31/77 [00:00<00:00, 46.69it/s]\u001b[A\n",
      " 48%|####8     | 37/77 [00:00<00:00, 49.97it/s]\u001b[A\n",
      " 57%|#####7    | 44/77 [00:00<00:00, 53.65it/s]\u001b[A\n",
      " 66%|######6   | 51/77 [00:00<00:00, 56.07it/s]\u001b[A\n",
      " 74%|#######4  | 57/77 [00:01<00:00, 55.75it/s]\u001b[A\n",
      " 83%|########3 | 64/77 [00:01<00:00, 58.04it/s]\u001b[A\n",
      " 91%|######### | 70/77 [00:01<00:00, 58.18it/s]\u001b[A\n",
      " 99%|#########8| 76/77 [00:01<00:00, 51.97it/s]\u001b[A\n",
      " 84%|████████▍ | 744/884 [00:35<00:31,  4.39it/s]A"
     ]
    },
    {
     "name": "stdout",
     "output_type": "stream",
     "text": [
      "{'ade': 0.44194415, 'fde': 0.9654974}\n",
      "\t last loss:0.000312137, eval on validation:['ade: 0.44194415', 'fde: 0.9654974'], (best ade:0.43956468 at step 67200) \n"
     ]
    },
    {
     "name": "stderr",
     "output_type": "stream",
     "text": [
      "100%|██████████| 884/884 [00:42<00:00, 20.57it/s]\n",
      "  0%|          | 2/884 [00:00<00:48, 18.08it/s]"
     ]
    },
    {
     "name": "stdout",
     "output_type": "stream",
     "text": [
      "('Epoca 86.', 'lr:', 2.170828e-06)\n"
     ]
    },
    {
     "name": "stderr",
     "output_type": "stream",
     "text": [
      " 18%|█▊        | 159/884 [00:07<00:35, 20.62it/s]"
     ]
    },
    {
     "name": "stdout",
     "output_type": "stream",
     "text": [
      "\tsaving model 75300...\n"
     ]
    },
    {
     "name": "stderr",
     "output_type": "stream",
     "text": [
      "\n",
      "  0%|          | 0/77 [00:00<?, ?it/s]\u001b[A\n",
      "  8%|7         | 6/77 [00:00<00:01, 59.68it/s]\u001b[A"
     ]
    },
    {
     "name": "stdout",
     "output_type": "stream",
     "text": [
      "\tdone\n",
      "Evaluating\n"
     ]
    },
    {
     "name": "stderr",
     "output_type": "stream",
     "text": [
      "\n",
      " 13%|#2        | 10/77 [00:00<00:01, 50.22it/s]\u001b[A\n",
      " 19%|#9        | 15/77 [00:00<00:01, 46.88it/s]\u001b[A\n",
      " 27%|##7       | 21/77 [00:00<00:01, 49.08it/s]\u001b[A\n",
      " 35%|###5      | 27/77 [00:00<00:00, 51.76it/s]\u001b[A\n",
      " 43%|####2     | 33/77 [00:00<00:00, 52.66it/s]\u001b[A\n",
      " 51%|#####     | 39/77 [00:00<00:00, 51.52it/s]\u001b[A\n",
      " 60%|#####9    | 46/77 [00:00<00:00, 55.29it/s]\u001b[A\n",
      " 69%|######8   | 53/77 [00:00<00:00, 57.91it/s]\u001b[A\n",
      " 78%|#######7  | 60/77 [00:01<00:00, 60.39it/s]\u001b[A\n",
      " 86%|########5 | 66/77 [00:01<00:00, 60.08it/s]\u001b[A\n",
      " 95%|#########4| 73/77 [00:01<00:00, 60.63it/s]\u001b[A\n",
      " 18%|█▊        | 162/884 [00:09<02:33,  4.70it/s]A"
     ]
    },
    {
     "name": "stdout",
     "output_type": "stream",
     "text": [
      "{'ade': 0.44091624, 'fde': 0.9629831}\n",
      "\t last loss:0.000295679, eval on validation:['ade: 0.44091624', 'fde: 0.9629831'], (best ade:0.43956468 at step 67200) \n"
     ]
    },
    {
     "name": "stderr",
     "output_type": "stream",
     "text": [
      " 52%|█████▏    | 458/884 [00:23<00:16, 26.08it/s]\n",
      "  0%|          | 0/77 [00:00<?, ?it/s]\u001b[A"
     ]
    },
    {
     "name": "stdout",
     "output_type": "stream",
     "text": [
      "\tsaving model 75600...\n",
      "\tdone\n",
      "Evaluating\n"
     ]
    },
    {
     "name": "stderr",
     "output_type": "stream",
     "text": [
      "\n",
      " 12%|#1        | 9/77 [00:00<00:00, 88.91it/s]\u001b[A\n",
      " 22%|##2       | 17/77 [00:00<00:00, 85.92it/s]\u001b[A\n",
      " 32%|###2      | 25/77 [00:00<00:00, 81.57it/s]\u001b[A\n",
      " 40%|####      | 31/77 [00:00<00:00, 71.54it/s]\u001b[A\n",
      " 52%|#####1    | 40/77 [00:00<00:00, 74.39it/s]\u001b[A\n",
      " 62%|######2   | 48/77 [00:00<00:00, 75.28it/s]\u001b[A\n",
      " 75%|#######5  | 58/77 [00:00<00:00, 79.78it/s]\u001b[A\n",
      " 87%|########7 | 67/77 [00:00<00:00, 82.47it/s]\u001b[A\n",
      " 97%|#########7| 75/77 [00:00<00:00, 81.39it/s]\u001b[A\n",
      " 52%|█████▏    | 464/884 [00:24<00:50,  8.26it/s]A"
     ]
    },
    {
     "name": "stdout",
     "output_type": "stream",
     "text": [
      "{'ade': 0.441271, 'fde': 0.96390307}\n",
      "\t last loss:0.000381887, eval on validation:['ade: 0.441271', 'fde: 0.96390307'], (best ade:0.43956468 at step 67200) \n"
     ]
    },
    {
     "name": "stderr",
     "output_type": "stream",
     "text": [
      " 86%|████████▌ | 758/884 [00:36<00:04, 26.23it/s]\n",
      "  0%|          | 0/77 [00:00<?, ?it/s]\u001b[A"
     ]
    },
    {
     "name": "stdout",
     "output_type": "stream",
     "text": [
      "\tsaving model 75900...\n",
      "\tdone\n",
      "Evaluating\n"
     ]
    },
    {
     "name": "stderr",
     "output_type": "stream",
     "text": [
      "\n",
      " 10%|#         | 8/77 [00:00<00:00, 79.31it/s]\u001b[A\n",
      " 18%|#8        | 14/77 [00:00<00:00, 71.52it/s]\u001b[A\n",
      " 29%|##8       | 22/77 [00:00<00:00, 71.95it/s]\u001b[A\n",
      " 38%|###7      | 29/77 [00:00<00:00, 69.48it/s]\u001b[A\n",
      " 49%|####9     | 38/77 [00:00<00:00, 73.45it/s]\u001b[A\n",
      " 58%|#####8    | 45/77 [00:00<00:00, 72.12it/s]\u001b[A\n",
      " 71%|#######1  | 55/77 [00:00<00:00, 77.21it/s]\u001b[A\n",
      " 84%|########4 | 65/77 [00:00<00:00, 81.39it/s]\u001b[A\n",
      " 96%|#########6| 74/77 [00:00<00:00, 83.68it/s]\u001b[A\n",
      " 86%|████████▋ | 764/884 [00:37<00:14,  8.21it/s]A"
     ]
    },
    {
     "name": "stdout",
     "output_type": "stream",
     "text": [
      "{'ade': 0.44228184, 'fde': 0.9667691}\n",
      "\t last loss:0.000195576, eval on validation:['ade: 0.44228184', 'fde: 0.9667691'], (best ade:0.43956468 at step 67200) \n"
     ]
    },
    {
     "name": "stderr",
     "output_type": "stream",
     "text": [
      "100%|██████████| 884/884 [00:42<00:00, 24.58it/s]\n",
      "  0%|          | 3/884 [00:00<00:39, 22.54it/s]"
     ]
    },
    {
     "name": "stdout",
     "output_type": "stream",
     "text": [
      "('Epoca 87.', 'lr:', 1.8452038e-06)\n"
     ]
    },
    {
     "name": "stderr",
     "output_type": "stream",
     "text": [
      " 20%|█▉        | 174/884 [00:07<00:29, 24.35it/s]\n",
      "  0%|          | 0/77 [00:00<?, ?it/s]\u001b[A"
     ]
    },
    {
     "name": "stdout",
     "output_type": "stream",
     "text": [
      "\tsaving model 76200...\n",
      "\tdone\n",
      "Evaluating\n"
     ]
    },
    {
     "name": "stderr",
     "output_type": "stream",
     "text": [
      "\n",
      " 12%|#1        | 9/77 [00:00<00:00, 84.78it/s]\u001b[A\n",
      " 22%|##2       | 17/77 [00:00<00:00, 83.13it/s]\u001b[A\n",
      " 32%|###2      | 25/77 [00:00<00:00, 80.88it/s]\u001b[A\n",
      " 40%|####      | 31/77 [00:00<00:00, 72.70it/s]\u001b[A\n",
      " 49%|####9     | 38/77 [00:00<00:00, 69.95it/s]\u001b[A\n",
      " 57%|#####7    | 44/77 [00:00<00:00, 66.22it/s]\u001b[A\n",
      " 68%|######7   | 52/77 [00:00<00:00, 68.24it/s]\u001b[A\n",
      " 77%|#######6  | 59/77 [00:00<00:00, 67.09it/s]\u001b[A\n",
      " 88%|########8 | 68/77 [00:00<00:00, 71.12it/s]\u001b[A\n",
      " 20%|██        | 177/884 [00:08<01:58,  5.96it/s]A"
     ]
    },
    {
     "name": "stdout",
     "output_type": "stream",
     "text": [
      "{'ade': 0.44178712, 'fde': 0.9651144}\n",
      "\t last loss:0.000373186, eval on validation:['ade: 0.44178712', 'fde: 0.9651144'], (best ade:0.43956468 at step 67200) \n"
     ]
    },
    {
     "name": "stderr",
     "output_type": "stream",
     "text": [
      " 54%|█████▎    | 475/884 [00:22<00:20, 20.34it/s]"
     ]
    },
    {
     "name": "stdout",
     "output_type": "stream",
     "text": [
      "\tsaving model 76500...\n"
     ]
    },
    {
     "name": "stderr",
     "output_type": "stream",
     "text": [
      "\n",
      "  0%|          | 0/77 [00:00<?, ?it/s]\u001b[A\n",
      "  9%|9         | 7/77 [00:00<00:01, 68.06it/s]\u001b[A"
     ]
    },
    {
     "name": "stdout",
     "output_type": "stream",
     "text": [
      "\tdone\n",
      "Evaluating\n"
     ]
    },
    {
     "name": "stderr",
     "output_type": "stream",
     "text": [
      "\n",
      " 18%|#8        | 14/77 [00:00<00:00, 66.55it/s]\u001b[A\n",
      " 27%|##7       | 21/77 [00:00<00:00, 65.89it/s]\u001b[A\n",
      " 36%|###6      | 28/77 [00:00<00:00, 64.84it/s]\u001b[A\n",
      " 45%|####5     | 35/77 [00:00<00:00, 65.23it/s]\u001b[A\n",
      " 55%|#####4    | 42/77 [00:00<00:00, 64.95it/s]\u001b[A\n",
      " 64%|######3   | 49/77 [00:00<00:00, 65.16it/s]\u001b[A\n",
      " 71%|#######1  | 55/77 [00:00<00:00, 62.24it/s]\u001b[A\n",
      " 79%|#######9  | 61/77 [00:00<00:00, 58.78it/s]\u001b[A\n",
      " 88%|########8 | 68/77 [00:01<00:00, 60.77it/s]\u001b[A\n",
      " 97%|#########7| 75/77 [00:01<00:00, 62.21it/s]\u001b[A\n",
      " 54%|█████▍    | 478/884 [00:24<01:20,  5.03it/s]A"
     ]
    },
    {
     "name": "stdout",
     "output_type": "stream",
     "text": [
      "{'ade': 0.44198576, 'fde': 0.9655651}\n",
      "\t last loss:0.000217609, eval on validation:['ade: 0.44198576', 'fde: 0.9655651'], (best ade:0.43956468 at step 67200) \n"
     ]
    },
    {
     "name": "stderr",
     "output_type": "stream",
     "text": [
      " 88%|████████▊ | 774/884 [00:39<00:04, 25.78it/s]\n",
      "  0%|          | 0/77 [00:00<?, ?it/s]\u001b[A"
     ]
    },
    {
     "name": "stdout",
     "output_type": "stream",
     "text": [
      "\tsaving model 76800...\n",
      "\tdone\n",
      "Evaluating\n"
     ]
    },
    {
     "name": "stderr",
     "output_type": "stream",
     "text": [
      "\n",
      " 13%|#2        | 10/77 [00:00<00:00, 91.93it/s]\u001b[A\n",
      " 21%|##        | 16/77 [00:00<00:00, 77.54it/s]\u001b[A\n",
      " 30%|##9       | 23/77 [00:00<00:00, 71.95it/s]\u001b[A\n",
      " 40%|####      | 31/77 [00:00<00:00, 73.22it/s]\u001b[A\n",
      " 52%|#####1    | 40/77 [00:00<00:00, 77.29it/s]\u001b[A\n",
      " 62%|######2   | 48/77 [00:00<00:00, 76.85it/s]\u001b[A\n",
      " 74%|#######4  | 57/77 [00:00<00:00, 80.13it/s]\u001b[A\n",
      " 87%|########7 | 67/77 [00:00<00:00, 83.59it/s]\u001b[A\n",
      " 88%|████████▊ | 780/884 [00:40<00:12,  8.36it/s]A"
     ]
    },
    {
     "name": "stdout",
     "output_type": "stream",
     "text": [
      "{'ade': 0.441447, 'fde': 0.9644191}\n",
      "\t last loss:0.000372560, eval on validation:['ade: 0.441447', 'fde: 0.9644191'], (best ade:0.43956468 at step 67200) \n"
     ]
    },
    {
     "name": "stderr",
     "output_type": "stream",
     "text": [
      "100%|██████████| 884/884 [00:44<00:00, 19.77it/s]\n",
      "  0%|          | 1/884 [00:00<01:55,  7.65it/s]"
     ]
    },
    {
     "name": "stdout",
     "output_type": "stream",
     "text": [
      "('Epoca 88.', 'lr:', 1.8452038e-06)\n"
     ]
    },
    {
     "name": "stderr",
     "output_type": "stream",
     "text": [
      " 21%|██▏       | 190/884 [00:07<00:26, 26.01it/s]\n",
      "  0%|          | 0/77 [00:00<?, ?it/s]\u001b[A"
     ]
    },
    {
     "name": "stdout",
     "output_type": "stream",
     "text": [
      "\tsaving model 77100...\n",
      "\tdone\n",
      "Evaluating\n"
     ]
    },
    {
     "name": "stderr",
     "output_type": "stream",
     "text": [
      "\n",
      " 12%|#1        | 9/77 [00:00<00:00, 87.84it/s]\u001b[A\n",
      " 23%|##3       | 18/77 [00:00<00:00, 87.17it/s]\u001b[A\n",
      " 36%|###6      | 28/77 [00:00<00:00, 89.10it/s]\u001b[A\n",
      " 48%|####8     | 37/77 [00:00<00:00, 89.12it/s]\u001b[A\n",
      " 60%|#####9    | 46/77 [00:00<00:00, 89.13it/s]\u001b[A\n",
      " 71%|#######1  | 55/77 [00:00<00:00, 89.36it/s]\u001b[A\n",
      " 83%|########3 | 64/77 [00:00<00:00, 87.67it/s]\u001b[A\n",
      " 96%|#########6| 74/77 [00:00<00:00, 88.99it/s]\u001b[A\n",
      " 22%|██▏       | 195/884 [00:08<01:21,  8.42it/s]A"
     ]
    },
    {
     "name": "stdout",
     "output_type": "stream",
     "text": [
      "{'ade': 0.44047228, 'fde': 0.96182483}\n",
      "\t last loss:0.000288470, eval on validation:['ade: 0.44047228', 'fde: 0.96182483'], (best ade:0.43956468 at step 67200) \n"
     ]
    },
    {
     "name": "stderr",
     "output_type": "stream",
     "text": [
      " 56%|█████▌    | 491/884 [00:20<00:15, 24.65it/s]"
     ]
    },
    {
     "name": "stdout",
     "output_type": "stream",
     "text": [
      "\tsaving model 77400...\n"
     ]
    },
    {
     "name": "stderr",
     "output_type": "stream",
     "text": [
      "\n",
      "  0%|          | 0/77 [00:00<?, ?it/s]\u001b[A\n",
      " 12%|#1        | 9/77 [00:00<00:00, 87.43it/s]\u001b[A\n",
      " 19%|#9        | 15/77 [00:00<00:00, 76.66it/s]\u001b[A\n",
      " 29%|##8       | 22/77 [00:00<00:00, 71.32it/s]\u001b[A\n",
      " 36%|###6      | 28/77 [00:00<00:00, 64.01it/s]\u001b[A\n",
      " 48%|####8     | 37/77 [00:00<00:00, 68.51it/s]\u001b[A\n",
      " 57%|#####7    | 44/77 [00:00<00:00, 67.46it/s]\u001b[A\n",
      " 69%|######8   | 53/77 [00:00<00:00, 71.87it/s]\u001b[A\n",
      " 81%|########  | 62/77 [00:00<00:00, 75.20it/s]\u001b[A\n",
      " 91%|######### | 70/77 [00:00<00:00, 75.66it/s]\u001b[A\n",
      " 56%|█████▌    | 494/884 [00:22<01:05,  5.93it/s]A"
     ]
    },
    {
     "name": "stdout",
     "output_type": "stream",
     "text": [
      "\tdone\n",
      "Evaluating\n",
      "{'ade': 0.44143888, 'fde': 0.964125}\n",
      "\t last loss:0.000243708, eval on validation:['ade: 0.44143888', 'fde: 0.964125'], (best ade:0.43956468 at step 67200) \n"
     ]
    },
    {
     "name": "stderr",
     "output_type": "stream",
     "text": [
      " 89%|████████▉ | 790/884 [00:37<00:04, 20.47it/s]"
     ]
    },
    {
     "name": "stdout",
     "output_type": "stream",
     "text": [
      "\tsaving model 77700...\n"
     ]
    },
    {
     "name": "stderr",
     "output_type": "stream",
     "text": [
      "\n",
      "  0%|          | 0/77 [00:00<?, ?it/s]\u001b[A\n",
      "  9%|9         | 7/77 [00:00<00:01, 67.24it/s]\u001b[A"
     ]
    },
    {
     "name": "stdout",
     "output_type": "stream",
     "text": [
      "\tdone\n",
      "Evaluating\n"
     ]
    },
    {
     "name": "stderr",
     "output_type": "stream",
     "text": [
      "\n",
      " 18%|#8        | 14/77 [00:00<00:00, 64.84it/s]\u001b[A\n",
      " 25%|##4       | 19/77 [00:00<00:01, 57.54it/s]\u001b[A\n",
      " 32%|###2      | 25/77 [00:00<00:00, 57.65it/s]\u001b[A\n",
      " 42%|####1     | 32/77 [00:00<00:00, 59.91it/s]\u001b[A\n",
      " 49%|####9     | 38/77 [00:00<00:00, 58.22it/s]\u001b[A\n",
      " 58%|#####8    | 45/77 [00:00<00:00, 60.35it/s]\u001b[A\n",
      " 68%|######7   | 52/77 [00:00<00:00, 62.02it/s]\u001b[A\n",
      " 75%|#######5  | 58/77 [00:00<00:00, 60.50it/s]\u001b[A\n",
      " 84%|########4 | 65/77 [00:01<00:00, 61.82it/s]\u001b[A\n",
      " 94%|#########3| 72/77 [00:01<00:00, 63.44it/s]\u001b[A\n",
      " 90%|████████▉ | 793/884 [00:38<00:18,  4.92it/s]A"
     ]
    },
    {
     "name": "stdout",
     "output_type": "stream",
     "text": [
      "{'ade': 0.4417324, 'fde': 0.96567076}\n",
      "\t last loss:0.000375625, eval on validation:['ade: 0.4417324', 'fde: 0.96567076'], (best ade:0.43956468 at step 67200) \n"
     ]
    },
    {
     "name": "stderr",
     "output_type": "stream",
     "text": [
      "100%|██████████| 884/884 [00:43<00:00, 20.06it/s]\n",
      "  0%|          | 2/884 [00:00<00:48, 18.27it/s]"
     ]
    },
    {
     "name": "stdout",
     "output_type": "stream",
     "text": [
      "('Epoca 89.', 'lr:', 1.5684233e-06)\n"
     ]
    },
    {
     "name": "stderr",
     "output_type": "stream",
     "text": [
      " 23%|██▎       | 206/884 [00:10<00:33, 20.45it/s]"
     ]
    },
    {
     "name": "stdout",
     "output_type": "stream",
     "text": [
      "\tsaving model 78000...\n"
     ]
    },
    {
     "name": "stderr",
     "output_type": "stream",
     "text": [
      "\n",
      "  0%|          | 0/77 [00:00<?, ?it/s]\u001b[A\n",
      " 12%|#1        | 9/77 [00:00<00:00, 86.21it/s]\u001b[A"
     ]
    },
    {
     "name": "stdout",
     "output_type": "stream",
     "text": [
      "\tdone\n",
      "Evaluating\n"
     ]
    },
    {
     "name": "stderr",
     "output_type": "stream",
     "text": [
      "\n",
      " 22%|##2       | 17/77 [00:00<00:00, 83.14it/s]\u001b[A\n",
      " 31%|###1      | 24/77 [00:00<00:00, 76.25it/s]\u001b[A\n",
      " 40%|####      | 31/77 [00:00<00:00, 71.48it/s]\u001b[A\n",
      " 52%|#####1    | 40/77 [00:00<00:00, 75.60it/s]\u001b[A\n",
      " 62%|######2   | 48/77 [00:00<00:00, 75.41it/s]\u001b[A\n",
      " 74%|#######4  | 57/77 [00:00<00:00, 78.76it/s]\u001b[A\n",
      " 86%|########5 | 66/77 [00:00<00:00, 81.67it/s]\u001b[A\n",
      " 97%|#########7| 75/77 [00:00<00:00, 82.19it/s]\u001b[A\n",
      " 24%|██▍       | 212/884 [00:11<01:27,  7.70it/s]A"
     ]
    },
    {
     "name": "stdout",
     "output_type": "stream",
     "text": [
      "{'ade': 0.44194496, 'fde': 0.96547014}\n",
      "\t last loss:0.000163279, eval on validation:['ade: 0.44194496', 'fde: 0.96547014'], (best ade:0.43956468 at step 67200) \n"
     ]
    },
    {
     "name": "stderr",
     "output_type": "stream",
     "text": [
      " 57%|█████▋    | 506/884 [00:22<00:14, 26.25it/s]\n",
      "  0%|          | 0/77 [00:00<?, ?it/s]\u001b[A"
     ]
    },
    {
     "name": "stdout",
     "output_type": "stream",
     "text": [
      "\tsaving model 78300...\n",
      "\tdone\n",
      "Evaluating\n"
     ]
    },
    {
     "name": "stderr",
     "output_type": "stream",
     "text": [
      "\n",
      " 13%|#2        | 10/77 [00:00<00:00, 91.91it/s]\u001b[A\n",
      " 25%|##4       | 19/77 [00:00<00:00, 91.19it/s]\u001b[A\n",
      " 36%|###6      | 28/77 [00:00<00:00, 88.44it/s]\u001b[A\n",
      " 49%|####9     | 38/77 [00:00<00:00, 89.66it/s]\u001b[A\n",
      " 60%|#####9    | 46/77 [00:00<00:00, 85.84it/s]\u001b[A\n",
      " 70%|#######   | 54/77 [00:00<00:00, 80.50it/s]\u001b[A\n",
      " 81%|########  | 62/77 [00:00<00:00, 72.08it/s]\u001b[A\n",
      " 91%|######### | 70/77 [00:00<00:00, 73.68it/s]\u001b[A\n",
      " 58%|█████▊    | 512/884 [00:24<00:44,  8.40it/s]A"
     ]
    },
    {
     "name": "stdout",
     "output_type": "stream",
     "text": [
      "{'ade': 0.44139645, 'fde': 0.96437836}\n",
      "\t last loss:0.000238890, eval on validation:['ade: 0.44139645', 'fde: 0.96437836'], (best ade:0.43956468 at step 67200) \n"
     ]
    },
    {
     "name": "stderr",
     "output_type": "stream",
     "text": [
      " 91%|█████████ | 806/884 [00:36<00:03, 20.92it/s]"
     ]
    },
    {
     "name": "stdout",
     "output_type": "stream",
     "text": [
      "\tsaving model 78600...\n"
     ]
    },
    {
     "name": "stderr",
     "output_type": "stream",
     "text": [
      "\n",
      "  0%|          | 0/77 [00:00<?, ?it/s]\u001b[A\n",
      "  9%|9         | 7/77 [00:00<00:01, 63.30it/s]\u001b[A"
     ]
    },
    {
     "name": "stdout",
     "output_type": "stream",
     "text": [
      "\tdone\n",
      "Evaluating\n"
     ]
    },
    {
     "name": "stderr",
     "output_type": "stream",
     "text": [
      "\n",
      " 16%|#5        | 12/77 [00:00<00:01, 56.43it/s]\u001b[A\n",
      " 21%|##        | 16/77 [00:00<00:01, 49.34it/s]\u001b[A\n",
      " 27%|##7       | 21/77 [00:00<00:01, 48.03it/s]\u001b[A\n",
      " 36%|###6      | 28/77 [00:00<00:00, 52.06it/s]\u001b[A\n",
      " 45%|####5     | 35/77 [00:00<00:00, 55.50it/s]\u001b[A\n",
      " 55%|#####4    | 42/77 [00:00<00:00, 57.96it/s]\u001b[A\n",
      " 64%|######3   | 49/77 [00:00<00:00, 59.13it/s]\u001b[A\n",
      " 73%|#######2  | 56/77 [00:00<00:00, 60.49it/s]\u001b[A\n",
      " 82%|########1 | 63/77 [00:01<00:00, 62.15it/s]\u001b[A\n",
      " 91%|######### | 70/77 [00:01<00:00, 62.57it/s]\u001b[A\n",
      " 92%|█████████▏| 809/884 [00:38<00:15,  4.77it/s]A"
     ]
    },
    {
     "name": "stdout",
     "output_type": "stream",
     "text": [
      "{'ade': 0.44132194, 'fde': 0.9640582}\n",
      "\t last loss:0.000277833, eval on validation:['ade: 0.44132194', 'fde: 0.9640582'], (best ade:0.43956468 at step 67200) \n"
     ]
    },
    {
     "name": "stderr",
     "output_type": "stream",
     "text": [
      "100%|██████████| 884/884 [00:42<00:00, 20.99it/s]\n",
      "  0%|          | 1/884 [00:00<01:36,  9.13it/s]"
     ]
    },
    {
     "name": "stdout",
     "output_type": "stream",
     "text": [
      "('Epoca 90.', 'lr:', 1.5684233e-06)\n"
     ]
    },
    {
     "name": "stderr",
     "output_type": "stream",
     "text": [
      " 25%|██▌       | 223/884 [00:10<00:32, 20.42it/s]"
     ]
    },
    {
     "name": "stdout",
     "output_type": "stream",
     "text": [
      "\tsaving model 78900...\n"
     ]
    },
    {
     "name": "stderr",
     "output_type": "stream",
     "text": [
      "\n",
      "  0%|          | 0/77 [00:00<?, ?it/s]\u001b[A\n",
      "  8%|7         | 6/77 [00:00<00:01, 54.32it/s]\u001b[A"
     ]
    },
    {
     "name": "stdout",
     "output_type": "stream",
     "text": [
      "\tdone\n",
      "Evaluating\n"
     ]
    },
    {
     "name": "stderr",
     "output_type": "stream",
     "text": [
      "\n",
      " 13%|#2        | 10/77 [00:00<00:01, 48.07it/s]\u001b[A\n",
      " 19%|#9        | 15/77 [00:00<00:01, 46.57it/s]\u001b[A\n",
      " 27%|##7       | 21/77 [00:00<00:01, 49.14it/s]\u001b[A\n",
      " 34%|###3      | 26/77 [00:00<00:01, 49.30it/s]\u001b[A\n",
      " 42%|####1     | 32/77 [00:00<00:00, 51.51it/s]\u001b[A\n",
      " 51%|#####     | 39/77 [00:00<00:00, 54.58it/s]\u001b[A\n",
      " 60%|#####9    | 46/77 [00:00<00:00, 57.68it/s]\u001b[A\n",
      " 69%|######8   | 53/77 [00:00<00:00, 58.74it/s]\u001b[A\n",
      " 81%|########  | 62/77 [00:01<00:00, 64.75it/s]\u001b[A\n",
      " 92%|#########2| 71/77 [00:01<00:00, 70.47it/s]\u001b[A\n",
      " 26%|██▌       | 226/884 [00:12<02:09,  5.09it/s]A"
     ]
    },
    {
     "name": "stdout",
     "output_type": "stream",
     "text": [
      "{'ade': 0.44248605, 'fde': 0.9669572}\n",
      "\t last loss:0.000352558, eval on validation:['ade: 0.44248605', 'fde: 0.9669572'], (best ade:0.43956468 at step 67200) \n"
     ]
    },
    {
     "name": "stderr",
     "output_type": "stream",
     "text": [
      " 59%|█████▉    | 523/884 [00:24<00:13, 26.45it/s]\n",
      "  0%|          | 0/77 [00:00<?, ?it/s]\u001b[A"
     ]
    },
    {
     "name": "stdout",
     "output_type": "stream",
     "text": [
      "\tsaving model 79200...\n",
      "\tdone\n",
      "Evaluating\n"
     ]
    },
    {
     "name": "stderr",
     "output_type": "stream",
     "text": [
      "\n",
      " 12%|#1        | 9/77 [00:00<00:00, 89.95it/s]\u001b[A\n",
      " 21%|##        | 16/77 [00:00<00:00, 81.73it/s]\u001b[A\n",
      " 31%|###1      | 24/77 [00:00<00:00, 79.82it/s]\u001b[A\n",
      " 39%|###8      | 30/77 [00:00<00:00, 72.52it/s]\u001b[A\n",
      " 49%|####9     | 38/77 [00:00<00:00, 74.06it/s]\u001b[A\n",
      " 60%|#####9    | 46/77 [00:00<00:00, 74.49it/s]\u001b[A\n",
      " 73%|#######2  | 56/77 [00:00<00:00, 79.03it/s]\u001b[A\n",
      " 86%|########5 | 66/77 [00:00<00:00, 82.48it/s]\u001b[A\n",
      " 97%|#########7| 75/77 [00:00<00:00, 82.63it/s]\u001b[A\n",
      " 60%|█████▉    | 526/884 [00:25<00:55,  6.45it/s]A"
     ]
    },
    {
     "name": "stdout",
     "output_type": "stream",
     "text": [
      "{'ade': 0.4409956, 'fde': 0.96295214}\n",
      "\t last loss:0.000375949, eval on validation:['ade: 0.4409956', 'fde: 0.96295214'], (best ade:0.43956468 at step 67200) \n"
     ]
    },
    {
     "name": "stderr",
     "output_type": "stream",
     "text": [
      " 93%|█████████▎| 823/884 [00:37<00:02, 20.57it/s]"
     ]
    },
    {
     "name": "stdout",
     "output_type": "stream",
     "text": [
      "\tsaving model 79500...\n"
     ]
    },
    {
     "name": "stderr",
     "output_type": "stream",
     "text": [
      "\n",
      "  0%|          | 0/77 [00:00<?, ?it/s]\u001b[A\n",
      "  9%|9         | 7/77 [00:00<00:01, 63.21it/s]\u001b[A"
     ]
    },
    {
     "name": "stdout",
     "output_type": "stream",
     "text": [
      "\tdone\n",
      "Evaluating\n"
     ]
    },
    {
     "name": "stderr",
     "output_type": "stream",
     "text": [
      "\n",
      " 16%|#5        | 12/77 [00:00<00:01, 54.27it/s]\u001b[A\n",
      " 22%|##2       | 17/77 [00:00<00:01, 49.63it/s]\u001b[A\n",
      " 29%|##8       | 22/77 [00:00<00:01, 47.95it/s]\u001b[A\n",
      " 36%|###6      | 28/77 [00:00<00:00, 49.56it/s]\u001b[A\n",
      " 45%|####5     | 35/77 [00:00<00:00, 53.31it/s]\u001b[A\n",
      " 55%|#####4    | 42/77 [00:00<00:00, 56.40it/s]\u001b[A\n",
      " 64%|######3   | 49/77 [00:00<00:00, 58.21it/s]\u001b[A\n",
      " 73%|#######2  | 56/77 [00:01<00:00, 59.40it/s]\u001b[A\n",
      " 81%|########  | 62/77 [00:01<00:00, 58.64it/s]\u001b[A\n",
      " 90%|########9 | 69/77 [00:01<00:00, 60.29it/s]\u001b[A\n",
      " 99%|#########8| 76/77 [00:01<00:00, 60.70it/s]\u001b[A\n",
      " 93%|█████████▎| 826/884 [00:39<00:12,  4.70it/s]A"
     ]
    },
    {
     "name": "stdout",
     "output_type": "stream",
     "text": [
      "{'ade': 0.44150305, 'fde': 0.96484226}\n",
      "\t last loss:0.000349995, eval on validation:['ade: 0.44150305', 'fde: 0.96484226'], (best ade:0.43956468 at step 67200) \n"
     ]
    },
    {
     "name": "stderr",
     "output_type": "stream",
     "text": [
      "100%|██████████| 884/884 [00:42<00:00, 20.87it/s]\n",
      "  0%|          | 2/884 [00:00<00:48, 18.03it/s]"
     ]
    },
    {
     "name": "stdout",
     "output_type": "stream",
     "text": [
      "('Epoca 91.', 'lr:', 1.3331598e-06)\n"
     ]
    },
    {
     "name": "stderr",
     "output_type": "stream",
     "text": [
      " 27%|██▋       | 239/884 [00:11<00:31, 20.80it/s]"
     ]
    },
    {
     "name": "stdout",
     "output_type": "stream",
     "text": [
      "\tsaving model 79800...\n"
     ]
    },
    {
     "name": "stderr",
     "output_type": "stream",
     "text": [
      "\n",
      "  0%|          | 0/77 [00:00<?, ?it/s]\u001b[A\n",
      "  8%|7         | 6/77 [00:00<00:01, 57.69it/s]\u001b[A"
     ]
    },
    {
     "name": "stdout",
     "output_type": "stream",
     "text": [
      "\tdone\n",
      "Evaluating\n"
     ]
    },
    {
     "name": "stderr",
     "output_type": "stream",
     "text": [
      "\n",
      " 14%|#4        | 11/77 [00:00<00:01, 52.26it/s]\u001b[A\n",
      " 21%|##        | 16/77 [00:00<00:01, 48.36it/s]\u001b[A\n",
      " 27%|##7       | 21/77 [00:00<00:01, 48.70it/s]\u001b[A\n",
      " 35%|###5      | 27/77 [00:00<00:01, 49.36it/s]\u001b[A\n",
      " 43%|####2     | 33/77 [00:00<00:00, 51.47it/s]\u001b[A\n",
      " 52%|#####1    | 40/77 [00:00<00:00, 55.07it/s]\u001b[A\n",
      " 61%|######1   | 47/77 [00:00<00:00, 57.50it/s]\u001b[A\n",
      " 70%|#######   | 54/77 [00:00<00:00, 59.43it/s]\u001b[A\n",
      " 78%|#######7  | 60/77 [00:01<00:00, 59.26it/s]\u001b[A\n",
      " 87%|########7 | 67/77 [00:01<00:00, 60.03it/s]\u001b[A\n",
      " 96%|#########6| 74/77 [00:01<00:00, 61.27it/s]\u001b[A\n",
      " 27%|██▋       | 242/884 [00:13<02:16,  4.72it/s]A"
     ]
    },
    {
     "name": "stdout",
     "output_type": "stream",
     "text": [
      "{'ade': 0.44114476, 'fde': 0.9639098}\n",
      "\t last loss:0.000257359, eval on validation:['ade: 0.44114476', 'fde: 0.9639098'], (best ade:0.43956468 at step 67200) \n"
     ]
    },
    {
     "name": "stderr",
     "output_type": "stream",
     "text": [
      " 61%|██████    | 539/884 [00:27<00:13, 25.93it/s]\n",
      "  0%|          | 0/77 [00:00<?, ?it/s]\u001b[A"
     ]
    },
    {
     "name": "stdout",
     "output_type": "stream",
     "text": [
      "\tsaving model 80100...\n",
      "\tdone\n",
      "Evaluating\n"
     ]
    },
    {
     "name": "stderr",
     "output_type": "stream",
     "text": [
      "\n",
      " 12%|#1        | 9/77 [00:00<00:00, 88.04it/s]\u001b[A\n",
      " 21%|##        | 16/77 [00:00<00:00, 79.58it/s]\u001b[A\n",
      " 30%|##9       | 23/77 [00:00<00:00, 73.95it/s]\u001b[A\n",
      " 39%|###8      | 30/77 [00:00<00:00, 70.75it/s]\u001b[A\n",
      " 49%|####9     | 38/77 [00:00<00:00, 71.04it/s]\u001b[A\n",
      " 61%|######1   | 47/77 [00:00<00:00, 75.65it/s]\u001b[A\n",
      " 73%|#######2  | 56/77 [00:00<00:00, 78.91it/s]\u001b[A\n",
      " 86%|########5 | 66/77 [00:00<00:00, 82.18it/s]\u001b[A\n",
      " 97%|#########7| 75/77 [00:00<00:00, 82.21it/s]\u001b[A\n",
      " 61%|██████▏   | 542/884 [00:29<00:53,  6.34it/s]A"
     ]
    },
    {
     "name": "stdout",
     "output_type": "stream",
     "text": [
      "{'ade': 0.4410496, 'fde': 0.9636959}\n",
      "\t last loss:0.000293173, eval on validation:['ade: 0.4410496', 'fde: 0.9636959'], (best ade:0.43956468 at step 67200) \n"
     ]
    },
    {
     "name": "stderr",
     "output_type": "stream",
     "text": [
      " 95%|█████████▍| 839/884 [00:40<00:01, 26.13it/s]\n",
      "  0%|          | 0/77 [00:00<?, ?it/s]\u001b[A"
     ]
    },
    {
     "name": "stdout",
     "output_type": "stream",
     "text": [
      "\tsaving model 80400...\n",
      "\tdone\n",
      "Evaluating\n"
     ]
    },
    {
     "name": "stderr",
     "output_type": "stream",
     "text": [
      "\n",
      " 12%|#1        | 9/77 [00:00<00:00, 89.49it/s]\u001b[A\n",
      " 23%|##3       | 18/77 [00:00<00:00, 87.88it/s]\u001b[A\n",
      " 34%|###3      | 26/77 [00:00<00:00, 83.59it/s]\u001b[A\n",
      " 43%|####2     | 33/77 [00:00<00:00, 78.83it/s]\u001b[A\n",
      " 52%|#####1    | 40/77 [00:00<00:00, 73.38it/s]\u001b[A\n",
      " 64%|######3   | 49/77 [00:00<00:00, 75.65it/s]\u001b[A\n",
      " 74%|#######4  | 57/77 [00:00<00:00, 76.38it/s]\u001b[A\n",
      " 86%|########5 | 66/77 [00:00<00:00, 78.33it/s]\u001b[A\n",
      " 97%|#########7| 75/77 [00:00<00:00, 81.17it/s]\u001b[A\n",
      " 95%|█████████▌| 842/884 [00:41<00:06,  6.41it/s]A"
     ]
    },
    {
     "name": "stdout",
     "output_type": "stream",
     "text": [
      "{'ade': 0.44116622, 'fde': 0.96372795}\n",
      "\t last loss:0.000278644, eval on validation:['ade: 0.44116622', 'fde: 0.96372795'], (best ade:0.43956468 at step 67200) \n"
     ]
    },
    {
     "name": "stderr",
     "output_type": "stream",
     "text": [
      "100%|██████████| 884/884 [00:43<00:00, 21.26it/s]\n",
      "  0%|          | 2/884 [00:00<00:58, 15.16it/s]"
     ]
    },
    {
     "name": "stdout",
     "output_type": "stream",
     "text": [
      "('Epoca 92.', 'lr:', 1.3331598e-06)\n"
     ]
    },
    {
     "name": "stderr",
     "output_type": "stream",
     "text": [
      " 29%|██▉       | 255/884 [00:12<00:31, 20.17it/s]"
     ]
    },
    {
     "name": "stdout",
     "output_type": "stream",
     "text": [
      "\tsaving model 80700...\n"
     ]
    },
    {
     "name": "stderr",
     "output_type": "stream",
     "text": [
      "\n",
      "  0%|          | 0/77 [00:00<?, ?it/s]\u001b[A\n",
      "  9%|9         | 7/77 [00:00<00:01, 66.05it/s]\u001b[A"
     ]
    },
    {
     "name": "stdout",
     "output_type": "stream",
     "text": [
      "\tdone\n",
      "Evaluating\n"
     ]
    },
    {
     "name": "stderr",
     "output_type": "stream",
     "text": [
      "\n",
      " 16%|#5        | 12/77 [00:00<00:01, 56.65it/s]\u001b[A\n",
      " 23%|##3       | 18/77 [00:00<00:01, 57.01it/s]\u001b[A\n",
      " 31%|###1      | 24/77 [00:00<00:00, 56.76it/s]\u001b[A\n",
      " 40%|####      | 31/77 [00:00<00:00, 59.22it/s]\u001b[A\n",
      " 48%|####8     | 37/77 [00:00<00:00, 57.32it/s]\u001b[A\n",
      " 57%|#####7    | 44/77 [00:00<00:00, 58.76it/s]\u001b[A\n",
      " 66%|######6   | 51/77 [00:00<00:00, 60.64it/s]\u001b[A\n",
      " 75%|#######5  | 58/77 [00:00<00:00, 62.11it/s]\u001b[A\n",
      " 84%|########4 | 65/77 [00:01<00:00, 63.41it/s]\u001b[A\n",
      " 94%|#########3| 72/77 [00:01<00:00, 63.68it/s]\u001b[A\n",
      " 29%|██▉       | 258/884 [00:13<02:07,  4.89it/s]A"
     ]
    },
    {
     "name": "stdout",
     "output_type": "stream",
     "text": [
      "{'ade': 0.44117868, 'fde': 0.96391606}\n",
      "\t last loss:0.000301029, eval on validation:['ade: 0.44117868', 'fde: 0.96391606'], (best ade:0.43956468 at step 67200) \n"
     ]
    },
    {
     "name": "stderr",
     "output_type": "stream",
     "text": [
      " 63%|██████▎   | 554/884 [00:28<00:15, 20.63it/s]"
     ]
    },
    {
     "name": "stdout",
     "output_type": "stream",
     "text": [
      "\tsaving model 81000...\n"
     ]
    },
    {
     "name": "stderr",
     "output_type": "stream",
     "text": [
      "\n",
      "  0%|          | 0/77 [00:00<?, ?it/s]\u001b[A\n",
      "  8%|7         | 6/77 [00:00<00:01, 55.19it/s]\u001b[A"
     ]
    },
    {
     "name": "stdout",
     "output_type": "stream",
     "text": [
      "\tdone\n",
      "Evaluating\n"
     ]
    },
    {
     "name": "stderr",
     "output_type": "stream",
     "text": [
      "\n",
      " 14%|#4        | 11/77 [00:00<00:01, 50.64it/s]\u001b[A\n",
      " 21%|##        | 16/77 [00:00<00:01, 47.96it/s]\u001b[A\n",
      " 27%|##7       | 21/77 [00:00<00:01, 47.83it/s]\u001b[A\n",
      " 35%|###5      | 27/77 [00:00<00:01, 49.21it/s]\u001b[A\n",
      " 44%|####4     | 34/77 [00:00<00:00, 53.19it/s]\u001b[A\n",
      " 53%|#####3    | 41/77 [00:00<00:00, 56.13it/s]\u001b[A\n",
      " 61%|######1   | 47/77 [00:00<00:00, 56.92it/s]\u001b[A\n",
      " 70%|#######   | 54/77 [00:00<00:00, 58.98it/s]\u001b[A\n",
      " 78%|#######7  | 60/77 [00:01<00:00, 58.36it/s]\u001b[A\n",
      " 87%|########7 | 67/77 [00:01<00:00, 60.10it/s]\u001b[A\n",
      " 96%|#########6| 74/77 [00:01<00:00, 61.81it/s]\u001b[A\n",
      " 63%|██████▎   | 557/884 [00:30<01:09,  4.71it/s]A"
     ]
    },
    {
     "name": "stdout",
     "output_type": "stream",
     "text": [
      "{'ade': 0.44116062, 'fde': 0.96400744}\n",
      "\t last loss:0.000215627, eval on validation:['ade: 0.44116062', 'fde: 0.96400744'], (best ade:0.43956468 at step 67200) \n"
     ]
    },
    {
     "name": "stderr",
     "output_type": "stream",
     "text": [
      " 96%|█████████▋| 853/884 [00:41<00:01, 26.53it/s]\n",
      "  0%|          | 0/77 [00:00<?, ?it/s]\u001b[A"
     ]
    },
    {
     "name": "stdout",
     "output_type": "stream",
     "text": [
      "\tsaving model 81300...\n",
      "\tdone\n",
      "Evaluating\n"
     ]
    },
    {
     "name": "stderr",
     "output_type": "stream",
     "text": [
      "\n",
      " 12%|#1        | 9/77 [00:00<00:00, 86.58it/s]\u001b[A\n",
      " 22%|##2       | 17/77 [00:00<00:00, 83.36it/s]\u001b[A\n",
      " 31%|###1      | 24/77 [00:00<00:00, 77.82it/s]\u001b[A\n",
      " 39%|###8      | 30/77 [00:00<00:00, 70.51it/s]\u001b[A\n",
      " 51%|#####     | 39/77 [00:00<00:00, 74.60it/s]\u001b[A\n",
      " 61%|######1   | 47/77 [00:00<00:00, 75.32it/s]\u001b[A\n",
      " 73%|#######2  | 56/77 [00:00<00:00, 77.79it/s]\u001b[A\n",
      " 83%|########3 | 64/77 [00:00<00:00, 78.25it/s]\u001b[A\n",
      " 96%|#########6| 74/77 [00:00<00:00, 81.77it/s]\u001b[A\n",
      " 97%|█████████▋| 859/884 [00:43<00:03,  8.30it/s]A"
     ]
    },
    {
     "name": "stdout",
     "output_type": "stream",
     "text": [
      "{'ade': 0.44185778, 'fde': 0.96556795}\n",
      "\t last loss:0.000344528, eval on validation:['ade: 0.44185778', 'fde: 0.96556795'], (best ade:0.43956468 at step 67200) \n"
     ]
    },
    {
     "name": "stderr",
     "output_type": "stream",
     "text": [
      "100%|██████████| 884/884 [00:44<00:00, 19.99it/s]\n",
      "  0%|          | 1/884 [00:00<01:54,  7.69it/s]"
     ]
    },
    {
     "name": "stdout",
     "output_type": "stream",
     "text": [
      "('Epoca 93.', 'lr:', 1.1331858e-06)\n"
     ]
    },
    {
     "name": "stderr",
     "output_type": "stream",
     "text": [
      " 30%|███       | 269/884 [00:11<00:31, 19.61it/s]"
     ]
    },
    {
     "name": "stdout",
     "output_type": "stream",
     "text": [
      "\tsaving model 81600...\n"
     ]
    },
    {
     "name": "stderr",
     "output_type": "stream",
     "text": [
      "\n",
      "  0%|          | 0/77 [00:00<?, ?it/s]\u001b[A\n",
      "  9%|9         | 7/77 [00:00<00:01, 58.13it/s]\u001b[A"
     ]
    },
    {
     "name": "stdout",
     "output_type": "stream",
     "text": [
      "\tdone\n",
      "Evaluating\n"
     ]
    },
    {
     "name": "stderr",
     "output_type": "stream",
     "text": [
      "\n",
      " 14%|#4        | 11/77 [00:00<00:01, 51.13it/s]\u001b[A\n",
      " 19%|#9        | 15/77 [00:00<00:01, 46.32it/s]\u001b[A\n",
      " 26%|##5       | 20/77 [00:00<00:01, 45.74it/s]\u001b[A\n",
      " 35%|###5      | 27/77 [00:00<00:01, 49.36it/s]\u001b[A\n",
      " 43%|####2     | 33/77 [00:00<00:00, 50.66it/s]\u001b[A\n",
      " 52%|#####1    | 40/77 [00:00<00:00, 54.51it/s]\u001b[A\n",
      " 61%|######1   | 47/77 [00:00<00:00, 57.40it/s]\u001b[A\n",
      " 70%|#######   | 54/77 [00:00<00:00, 59.37it/s]\u001b[A\n",
      " 79%|#######9  | 61/77 [00:01<00:00, 60.71it/s]\u001b[A\n",
      " 88%|########8 | 68/77 [00:01<00:00, 60.29it/s]\u001b[A\n",
      " 97%|#########7| 75/77 [00:01<00:00, 61.06it/s]\u001b[A\n",
      " 31%|███       | 274/884 [00:12<01:41,  6.04it/s]A"
     ]
    },
    {
     "name": "stdout",
     "output_type": "stream",
     "text": [
      "{'ade': 0.44096825, 'fde': 0.96323776}\n",
      "\t last loss:0.000395286, eval on validation:['ade: 0.44096825', 'fde: 0.96323776'], (best ade:0.43956468 at step 67200) \n"
     ]
    },
    {
     "name": "stderr",
     "output_type": "stream",
     "text": [
      " 64%|██████▍   | 570/884 [00:27<00:15, 20.21it/s]"
     ]
    },
    {
     "name": "stdout",
     "output_type": "stream",
     "text": [
      "\tsaving model 81900...\n"
     ]
    },
    {
     "name": "stderr",
     "output_type": "stream",
     "text": [
      "\n",
      "  0%|          | 0/77 [00:00<?, ?it/s]\u001b[A\n",
      "  9%|9         | 7/77 [00:00<00:01, 67.18it/s]\u001b[A"
     ]
    },
    {
     "name": "stdout",
     "output_type": "stream",
     "text": [
      "\tdone\n",
      "Evaluating\n"
     ]
    },
    {
     "name": "stderr",
     "output_type": "stream",
     "text": [
      "\n",
      " 16%|#5        | 12/77 [00:00<00:01, 58.41it/s]\u001b[A\n",
      " 22%|##2       | 17/77 [00:00<00:01, 52.22it/s]\u001b[A\n",
      " 29%|##8       | 22/77 [00:00<00:01, 49.22it/s]\u001b[A\n",
      " 38%|###7      | 29/77 [00:00<00:00, 52.19it/s]\u001b[A\n",
      " 45%|####5     | 35/77 [00:00<00:00, 52.65it/s]\u001b[A\n",
      " 55%|#####4    | 42/77 [00:00<00:00, 55.72it/s]\u001b[A\n",
      " 64%|######3   | 49/77 [00:00<00:00, 58.42it/s]\u001b[A\n",
      " 71%|#######1  | 55/77 [00:00<00:00, 58.66it/s]\u001b[A\n",
      " 79%|#######9  | 61/77 [00:01<00:00, 58.10it/s]\u001b[A\n",
      " 88%|########8 | 68/77 [00:01<00:00, 60.32it/s]\u001b[A\n",
      " 97%|#########7| 75/77 [00:01<00:00, 61.96it/s]\u001b[A\n",
      " 65%|██████▍   | 573/884 [00:29<01:06,  4.71it/s]A"
     ]
    },
    {
     "name": "stdout",
     "output_type": "stream",
     "text": [
      "{'ade': 0.44120103, 'fde': 0.9638175}\n",
      "\t last loss:0.000400637, eval on validation:['ade: 0.44120103', 'fde: 0.9638175'], (best ade:0.43956468 at step 67200) \n"
     ]
    },
    {
     "name": "stderr",
     "output_type": "stream",
     "text": [
      " 98%|█████████▊| 869/884 [00:42<00:00, 26.79it/s]\n",
      "  0%|          | 0/77 [00:00<?, ?it/s]\u001b[A"
     ]
    },
    {
     "name": "stdout",
     "output_type": "stream",
     "text": [
      "\tsaving model 82200...\n",
      "\tdone\n",
      "Evaluating\n"
     ]
    },
    {
     "name": "stderr",
     "output_type": "stream",
     "text": [
      "\n",
      " 13%|#2        | 10/77 [00:00<00:00, 92.98it/s]\u001b[A\n",
      " 21%|##        | 16/77 [00:00<00:00, 79.54it/s]\u001b[A\n",
      " 30%|##9       | 23/77 [00:00<00:00, 74.70it/s]\u001b[A\n",
      " 39%|###8      | 30/77 [00:00<00:00, 71.95it/s]\u001b[A\n",
      " 48%|####8     | 37/77 [00:00<00:00, 69.83it/s]\u001b[A\n",
      " 60%|#####9    | 46/77 [00:00<00:00, 74.83it/s]\u001b[A\n",
      " 73%|#######2  | 56/77 [00:00<00:00, 79.48it/s]\u001b[A\n",
      " 84%|########4 | 65/77 [00:00<00:00, 80.55it/s]\u001b[A\n",
      " 97%|#########7| 75/77 [00:00<00:00, 83.64it/s]\u001b[A\n",
      " 99%|█████████▉| 875/884 [00:44<00:01,  8.23it/s]A"
     ]
    },
    {
     "name": "stdout",
     "output_type": "stream",
     "text": [
      "{'ade': 0.4413797, 'fde': 0.9642761}\n",
      "\t last loss:0.000430369, eval on validation:['ade: 0.4413797', 'fde: 0.9642761'], (best ade:0.43956468 at step 67200) \n"
     ]
    },
    {
     "name": "stderr",
     "output_type": "stream",
     "text": [
      "100%|██████████| 884/884 [00:44<00:00, 14.71it/s]\n",
      "  0%|          | 1/884 [00:00<01:43,  8.52it/s]"
     ]
    },
    {
     "name": "stdout",
     "output_type": "stream",
     "text": [
      "('Epoca 94.', 'lr:', 1.1331858e-06)\n"
     ]
    },
    {
     "name": "stderr",
     "output_type": "stream",
     "text": [
      " 32%|███▏      | 285/884 [00:11<00:23, 25.86it/s]\n",
      "  0%|          | 0/77 [00:00<?, ?it/s]\u001b[A"
     ]
    },
    {
     "name": "stdout",
     "output_type": "stream",
     "text": [
      "\tsaving model 82500...\n",
      "\tdone\n",
      "Evaluating\n"
     ]
    },
    {
     "name": "stderr",
     "output_type": "stream",
     "text": [
      "\n",
      " 12%|#1        | 9/77 [00:00<00:00, 82.09it/s]\u001b[A\n",
      " 22%|##2       | 17/77 [00:00<00:00, 79.88it/s]\u001b[A\n",
      " 31%|###1      | 24/77 [00:00<00:00, 76.18it/s]\u001b[A\n",
      " 40%|####      | 31/77 [00:00<00:00, 72.40it/s]\u001b[A\n",
      " 52%|#####1    | 40/77 [00:00<00:00, 76.91it/s]\u001b[A\n",
      " 62%|######2   | 48/77 [00:00<00:00, 76.85it/s]\u001b[A\n",
      " 74%|#######4  | 57/77 [00:00<00:00, 79.59it/s]\u001b[A\n",
      " 86%|########5 | 66/77 [00:00<00:00, 82.37it/s]\u001b[A\n",
      " 99%|#########8| 76/77 [00:00<00:00, 85.25it/s]\u001b[A\n",
      " 33%|███▎      | 291/884 [00:13<01:11,  8.34it/s]A"
     ]
    },
    {
     "name": "stdout",
     "output_type": "stream",
     "text": [
      "{'ade': 0.44152647, 'fde': 0.96471596}\n",
      "\t last loss:0.000250412, eval on validation:['ade: 0.44152647', 'fde: 0.96471596'], (best ade:0.43956468 at step 67200) \n"
     ]
    },
    {
     "name": "stderr",
     "output_type": "stream",
     "text": [
      " 66%|██████▌   | 585/884 [00:25<00:12, 24.38it/s]\n",
      "  0%|          | 0/77 [00:00<?, ?it/s]\u001b[A"
     ]
    },
    {
     "name": "stdout",
     "output_type": "stream",
     "text": [
      "\tsaving model 82800...\n",
      "\tdone\n",
      "Evaluating\n"
     ]
    },
    {
     "name": "stderr",
     "output_type": "stream",
     "text": [
      "\n",
      " 12%|#1        | 9/77 [00:00<00:00, 84.51it/s]\u001b[A\n",
      " 21%|##        | 16/77 [00:00<00:00, 78.76it/s]\u001b[A\n",
      " 30%|##9       | 23/77 [00:00<00:00, 73.95it/s]\u001b[A\n",
      " 38%|###7      | 29/77 [00:00<00:00, 66.93it/s]\u001b[A\n",
      " 48%|####8     | 37/77 [00:00<00:00, 67.95it/s]\u001b[A\n",
      " 57%|#####7    | 44/77 [00:00<00:00, 67.96it/s]\u001b[A\n",
      " 69%|######8   | 53/77 [00:00<00:00, 71.70it/s]\u001b[A\n",
      " 81%|########  | 62/77 [00:00<00:00, 75.11it/s]\u001b[A\n",
      " 92%|#########2| 71/77 [00:00<00:00, 77.61it/s]\u001b[A\n",
      " 67%|██████▋   | 591/884 [00:26<00:38,  7.70it/s]A"
     ]
    },
    {
     "name": "stdout",
     "output_type": "stream",
     "text": [
      "{'ade': 0.44122005, 'fde': 0.9641419}\n",
      "\t last loss:0.000325500, eval on validation:['ade: 0.44122005', 'fde: 0.9641419'], (best ade:0.43956468 at step 67200) \n"
     ]
    },
    {
     "name": "stderr",
     "output_type": "stream",
     "text": [
      "100%|██████████| 884/884 [00:39<00:00, 22.42it/s]\n",
      "  0%|          | 1/884 [00:00<01:37,  9.05it/s]"
     ]
    },
    {
     "name": "stdout",
     "output_type": "stream",
     "text": [
      "('Epoca 95.', 'lr:', 9.63208e-07)\n"
     ]
    },
    {
     "name": "stderr",
     "output_type": "stream",
     "text": [
      "\r",
      "  0%|          | 3/884 [00:00<01:22, 10.69it/s]"
     ]
    },
    {
     "name": "stdout",
     "output_type": "stream",
     "text": [
      "\tsaving model 83100...\n"
     ]
    },
    {
     "name": "stderr",
     "output_type": "stream",
     "text": [
      "\n",
      "  0%|          | 0/77 [00:00<?, ?it/s]\u001b[A\n",
      "  9%|9         | 7/77 [00:00<00:01, 68.10it/s]\u001b[A"
     ]
    },
    {
     "name": "stdout",
     "output_type": "stream",
     "text": [
      "\tdone\n",
      "Evaluating\n"
     ]
    },
    {
     "name": "stderr",
     "output_type": "stream",
     "text": [
      "\n",
      " 16%|#5        | 12/77 [00:00<00:01, 59.29it/s]\u001b[A\n",
      " 21%|##        | 16/77 [00:00<00:01, 50.31it/s]\u001b[A\n",
      " 27%|##7       | 21/77 [00:00<00:01, 48.12it/s]\u001b[A\n",
      " 35%|###5      | 27/77 [00:00<00:00, 51.01it/s]\u001b[A\n",
      " 43%|####2     | 33/77 [00:00<00:00, 52.74it/s]\u001b[A\n",
      " 52%|#####1    | 40/77 [00:00<00:00, 56.19it/s]\u001b[A\n",
      " 61%|######1   | 47/77 [00:00<00:00, 58.35it/s]\u001b[A\n",
      " 69%|######8   | 53/77 [00:00<00:00, 58.75it/s]\u001b[A\n",
      " 77%|#######6  | 59/77 [00:01<00:00, 54.99it/s]\u001b[A\n",
      " 84%|########4 | 65/77 [00:01<00:00, 55.95it/s]\u001b[A\n",
      " 92%|#########2| 71/77 [00:01<00:00, 57.03it/s]\u001b[A\n",
      "  1%|          | 7/884 [00:02<06:08,  2.38it/s]\u001b[A"
     ]
    },
    {
     "name": "stdout",
     "output_type": "stream",
     "text": [
      "{'ade': 0.44142738, 'fde': 0.964631}\n",
      "\t last loss:0.000197893, eval on validation:['ade: 0.44142738', 'fde: 0.964631'], (best ade:0.43956468 at step 67200) \n"
     ]
    },
    {
     "name": "stderr",
     "output_type": "stream",
     "text": [
      " 34%|███▍      | 302/884 [00:16<00:28, 20.56it/s]"
     ]
    },
    {
     "name": "stdout",
     "output_type": "stream",
     "text": [
      "\tsaving model 83400...\n"
     ]
    },
    {
     "name": "stderr",
     "output_type": "stream",
     "text": [
      "\n",
      "  0%|          | 0/77 [00:00<?, ?it/s]\u001b[A\n",
      "  8%|7         | 6/77 [00:00<00:01, 52.12it/s]\u001b[A"
     ]
    },
    {
     "name": "stdout",
     "output_type": "stream",
     "text": [
      "\tdone\n",
      "Evaluating\n"
     ]
    },
    {
     "name": "stderr",
     "output_type": "stream",
     "text": [
      "\n",
      " 14%|#4        | 11/77 [00:00<00:01, 48.19it/s]\u001b[A\n",
      " 21%|##        | 16/77 [00:00<00:01, 46.59it/s]\u001b[A\n",
      " 30%|##9       | 23/77 [00:00<00:01, 49.84it/s]\u001b[A\n",
      " 36%|###6      | 28/77 [00:00<00:01, 48.76it/s]\u001b[A\n",
      " 45%|####5     | 35/77 [00:00<00:00, 52.24it/s]\u001b[A\n",
      " 55%|#####4    | 42/77 [00:00<00:00, 55.48it/s]\u001b[A\n",
      " 62%|######2   | 48/77 [00:00<00:00, 56.49it/s]\u001b[A\n",
      " 71%|#######1  | 55/77 [00:01<00:00, 59.32it/s]\u001b[A\n",
      " 81%|########  | 62/77 [00:01<00:00, 60.73it/s]\u001b[A\n",
      " 90%|########9 | 69/77 [00:01<00:00, 61.34it/s]\u001b[A\n",
      " 99%|#########8| 76/77 [00:01<00:00, 61.75it/s]\u001b[A\n",
      " 35%|███▍      | 305/884 [00:18<02:02,  4.74it/s]A"
     ]
    },
    {
     "name": "stdout",
     "output_type": "stream",
     "text": [
      "{'ade': 0.44124576, 'fde': 0.9642482}\n",
      "\t last loss:0.000243744, eval on validation:['ade: 0.44124576', 'fde: 0.9642482'], (best ade:0.43956468 at step 67200) \n"
     ]
    },
    {
     "name": "stderr",
     "output_type": "stream",
     "text": [
      " 68%|██████▊   | 603/884 [00:30<00:10, 26.00it/s]\n",
      "  0%|          | 0/77 [00:00<?, ?it/s]\u001b[A"
     ]
    },
    {
     "name": "stdout",
     "output_type": "stream",
     "text": [
      "\tsaving model 83700...\n",
      "\tdone\n",
      "Evaluating\n"
     ]
    },
    {
     "name": "stderr",
     "output_type": "stream",
     "text": [
      "\n",
      " 13%|#2        | 10/77 [00:00<00:00, 91.64it/s]\u001b[A\n",
      " 23%|##3       | 18/77 [00:00<00:00, 84.16it/s]\u001b[A\n",
      " 34%|###3      | 26/77 [00:00<00:00, 79.88it/s]\u001b[A\n",
      " 42%|####1     | 32/77 [00:00<00:00, 72.36it/s]\u001b[A\n",
      " 52%|#####1    | 40/77 [00:00<00:00, 73.80it/s]\u001b[A\n",
      " 62%|######2   | 48/77 [00:00<00:00, 74.26it/s]\u001b[A\n",
      " 74%|#######4  | 57/77 [00:00<00:00, 77.92it/s]\u001b[A\n",
      " 86%|########5 | 66/77 [00:00<00:00, 79.73it/s]\u001b[A\n",
      " 99%|#########8| 76/77 [00:00<00:00, 82.90it/s]\u001b[A\n",
      " 69%|██████▊   | 606/884 [00:32<00:43,  6.42it/s]A"
     ]
    },
    {
     "name": "stdout",
     "output_type": "stream",
     "text": [
      "{'ade': 0.44178307, 'fde': 0.9651348}\n",
      "\t last loss:0.000309193, eval on validation:['ade: 0.44178307', 'fde: 0.9651348'], (best ade:0.43956468 at step 67200) \n"
     ]
    },
    {
     "name": "stderr",
     "output_type": "stream",
     "text": [
      "100%|██████████| 884/884 [00:43<00:00, 20.53it/s]\n",
      "  0%|          | 1/884 [00:00<01:51,  7.95it/s]"
     ]
    },
    {
     "name": "stdout",
     "output_type": "stream",
     "text": [
      "('Epoca 96.', 'lr:', 9.63208e-07)\n"
     ]
    },
    {
     "name": "stderr",
     "output_type": "stream",
     "text": [
      "  2%|▏         | 19/884 [00:00<00:44, 19.57it/s]\n"
     ]
    },
    {
     "name": "stdout",
     "output_type": "stream",
     "text": [
      "\tsaving model 84000...\n",
      "\tdone\n",
      "Evaluating\n"
     ]
    },
    {
     "name": "stderr",
     "output_type": "stream",
     "text": [
      "  0%|          | 0/77 [00:00<?, ?it/s]\u001b[A\n",
      " 12%|#1        | 9/77 [00:00<00:00, 84.21it/s]\u001b[A\n",
      " 19%|#9        | 15/77 [00:00<00:00, 73.02it/s]\u001b[A\n",
      " 29%|##8       | 22/77 [00:00<00:00, 69.34it/s]\u001b[A\n",
      " 36%|###6      | 28/77 [00:00<00:00, 63.68it/s]\u001b[A\n",
      " 48%|####8     | 37/77 [00:00<00:00, 68.25it/s]\u001b[A\n",
      " 57%|#####7    | 44/77 [00:00<00:00, 67.12it/s]\u001b[A\n",
      " 69%|######8   | 53/77 [00:00<00:00, 71.34it/s]\u001b[A\n",
      " 81%|########  | 62/77 [00:00<00:00, 74.69it/s]\u001b[A\n",
      " 91%|######### | 70/77 [00:00<00:00, 76.02it/s]\u001b[A\n",
      "  2%|▏         | 22/884 [00:02<02:31,  5.69it/s][A"
     ]
    },
    {
     "name": "stdout",
     "output_type": "stream",
     "text": [
      "{'ade': 0.44154534, 'fde': 0.9647485}\n",
      "\t last loss:0.000361724, eval on validation:['ade: 0.44154534', 'fde: 0.9647485'], (best ade:0.43956468 at step 67200) \n"
     ]
    },
    {
     "name": "stderr",
     "output_type": "stream",
     "text": [
      " 36%|███▌      | 318/884 [00:16<00:28, 19.92it/s]"
     ]
    },
    {
     "name": "stdout",
     "output_type": "stream",
     "text": [
      "\tsaving model 84300...\n"
     ]
    },
    {
     "name": "stderr",
     "output_type": "stream",
     "text": [
      "\n",
      "  0%|          | 0/77 [00:00<?, ?it/s]\u001b[A\n",
      "  8%|7         | 6/77 [00:00<00:01, 53.85it/s]\u001b[A"
     ]
    },
    {
     "name": "stdout",
     "output_type": "stream",
     "text": [
      "\tdone\n",
      "Evaluating\n"
     ]
    },
    {
     "name": "stderr",
     "output_type": "stream",
     "text": [
      "\n",
      " 14%|#4        | 11/77 [00:00<00:01, 48.17it/s]\u001b[A\n",
      " 19%|#9        | 15/77 [00:00<00:01, 44.45it/s]\u001b[A\n",
      " 27%|##7       | 21/77 [00:00<00:01, 47.02it/s]\u001b[A\n",
      " 35%|###5      | 27/77 [00:00<00:01, 48.93it/s]\u001b[A\n",
      " 44%|####4     | 34/77 [00:00<00:00, 52.80it/s]\u001b[A\n",
      " 53%|#####3    | 41/77 [00:00<00:00, 56.04it/s]\u001b[A\n",
      " 62%|######2   | 48/77 [00:00<00:00, 57.65it/s]\u001b[A\n",
      " 71%|#######1  | 55/77 [00:01<00:00, 60.10it/s]\u001b[A\n",
      " 81%|########  | 62/77 [00:01<00:00, 60.80it/s]\u001b[A\n",
      " 90%|########9 | 69/77 [00:01<00:00, 61.50it/s]\u001b[A\n",
      " 99%|#########8| 76/77 [00:01<00:00, 61.29it/s]\u001b[A\n",
      " 36%|███▋      | 321/884 [00:18<02:00,  4.68it/s]A"
     ]
    },
    {
     "name": "stdout",
     "output_type": "stream",
     "text": [
      "{'ade': 0.44164303, 'fde': 0.96487564}\n",
      "\t last loss:0.000301075, eval on validation:['ade: 0.44164303', 'fde: 0.96487564'], (best ade:0.43956468 at step 67200) \n"
     ]
    },
    {
     "name": "stderr",
     "output_type": "stream",
     "text": [
      " 70%|██████▉   | 618/884 [00:32<00:10, 25.96it/s]\n",
      "  0%|          | 0/77 [00:00<?, ?it/s]\u001b[A"
     ]
    },
    {
     "name": "stdout",
     "output_type": "stream",
     "text": [
      "\tsaving model 84600...\n",
      "\tdone\n",
      "Evaluating\n"
     ]
    },
    {
     "name": "stderr",
     "output_type": "stream",
     "text": [
      "\n",
      " 10%|#         | 8/77 [00:00<00:00, 73.47it/s]\u001b[A\n",
      " 19%|#9        | 15/77 [00:00<00:00, 69.94it/s]\u001b[A\n",
      " 31%|###1      | 24/77 [00:00<00:00, 74.10it/s]\u001b[A\n",
      " 43%|####2     | 33/77 [00:00<00:00, 77.02it/s]\u001b[A\n",
      " 53%|#####3    | 41/77 [00:00<00:00, 76.76it/s]\u001b[A\n",
      " 65%|######4   | 50/77 [00:00<00:00, 78.64it/s]\u001b[A\n",
      " 78%|#######7  | 60/77 [00:00<00:00, 82.63it/s]\u001b[A\n",
      " 90%|########9 | 69/77 [00:00<00:00, 84.56it/s]\u001b[A\n",
      " 70%|███████   | 621/884 [00:33<00:40,  6.53it/s]A"
     ]
    },
    {
     "name": "stdout",
     "output_type": "stream",
     "text": [
      "{'ade': 0.44172746, 'fde': 0.9651117}\n",
      "\t last loss:0.000168983, eval on validation:['ade: 0.44172746', 'fde: 0.9651117'], (best ade:0.43956468 at step 67200) \n"
     ]
    },
    {
     "name": "stderr",
     "output_type": "stream",
     "text": [
      "100%|██████████| 884/884 [00:44<00:00, 19.99it/s]\n",
      "  0%|          | 1/884 [00:00<01:45,  8.37it/s]"
     ]
    },
    {
     "name": "stdout",
     "output_type": "stream",
     "text": [
      "('Epoca 97.', 'lr:', 8.187269e-07)\n"
     ]
    },
    {
     "name": "stderr",
     "output_type": "stream",
     "text": [
      "  4%|▍         | 34/884 [00:01<00:34, 24.82it/s]\n",
      "  0%|          | 0/77 [00:00<?, ?it/s]\u001b[A"
     ]
    },
    {
     "name": "stdout",
     "output_type": "stream",
     "text": [
      "\tsaving model 84900...\n",
      "\tdone\n",
      "Evaluating\n"
     ]
    },
    {
     "name": "stderr",
     "output_type": "stream",
     "text": [
      "\n",
      " 12%|#1        | 9/77 [00:00<00:00, 89.52it/s]\u001b[A\n",
      " 22%|##2       | 17/77 [00:00<00:00, 82.94it/s]\u001b[A\n",
      " 32%|###2      | 25/77 [00:00<00:00, 79.22it/s]\u001b[A\n",
      " 42%|####1     | 32/77 [00:00<00:00, 74.13it/s]\u001b[A\n",
      " 52%|#####1    | 40/77 [00:00<00:00, 73.82it/s]\u001b[A\n",
      " 64%|######3   | 49/77 [00:00<00:00, 76.21it/s]\u001b[A\n",
      " 75%|#######5  | 58/77 [00:00<00:00, 79.65it/s]\u001b[A\n",
      " 87%|########7 | 67/77 [00:00<00:00, 81.00it/s]\u001b[A\n",
      "  5%|▍         | 40/884 [00:02<01:42,  8.26it/s][A"
     ]
    },
    {
     "name": "stdout",
     "output_type": "stream",
     "text": [
      "{'ade': 0.44148824, 'fde': 0.9645403}\n",
      "\t last loss:0.000237067, eval on validation:['ade: 0.44148824', 'fde: 0.9645403'], (best ade:0.43956468 at step 67200) \n"
     ]
    },
    {
     "name": "stderr",
     "output_type": "stream",
     "text": [
      " 38%|███▊      | 334/884 [00:16<00:27, 20.36it/s]"
     ]
    },
    {
     "name": "stdout",
     "output_type": "stream",
     "text": [
      "\tsaving model 85200...\n"
     ]
    },
    {
     "name": "stderr",
     "output_type": "stream",
     "text": [
      "\n",
      "  0%|          | 0/77 [00:00<?, ?it/s]\u001b[A\n",
      "  8%|7         | 6/77 [00:00<00:01, 53.14it/s]\u001b[A"
     ]
    },
    {
     "name": "stdout",
     "output_type": "stream",
     "text": [
      "\tdone\n",
      "Evaluating\n"
     ]
    },
    {
     "name": "stderr",
     "output_type": "stream",
     "text": [
      "\n",
      " 14%|#4        | 11/77 [00:00<00:01, 49.90it/s]\u001b[A\n",
      " 19%|#9        | 15/77 [00:00<00:01, 46.36it/s]\u001b[A\n",
      " 26%|##5       | 20/77 [00:00<00:01, 46.32it/s]\u001b[A\n",
      " 32%|###2      | 25/77 [00:00<00:01, 46.43it/s]\u001b[A\n",
      " 42%|####1     | 32/77 [00:00<00:00, 50.67it/s]\u001b[A\n",
      " 51%|#####     | 39/77 [00:00<00:00, 54.48it/s]\u001b[A\n",
      " 60%|#####9    | 46/77 [00:00<00:00, 56.61it/s]\u001b[A\n",
      " 69%|######8   | 53/77 [00:00<00:00, 58.63it/s]\u001b[A\n",
      " 78%|#######7  | 60/77 [00:01<00:00, 60.28it/s]\u001b[A\n",
      " 87%|########7 | 67/77 [00:01<00:00, 61.62it/s]\u001b[A\n",
      " 96%|#########6| 74/77 [00:01<00:00, 60.53it/s]\u001b[A\n",
      " 38%|███▊      | 337/884 [00:18<01:56,  4.71it/s]A"
     ]
    },
    {
     "name": "stdout",
     "output_type": "stream",
     "text": [
      "{'ade': 0.44128746, 'fde': 0.9639685}\n",
      "\t last loss:0.000164926, eval on validation:['ade: 0.44128746', 'fde: 0.9639685'], (best ade:0.43956468 at step 67200) \n"
     ]
    },
    {
     "name": "stderr",
     "output_type": "stream",
     "text": [
      " 72%|███████▏  | 634/884 [00:33<00:12, 20.33it/s]"
     ]
    },
    {
     "name": "stdout",
     "output_type": "stream",
     "text": [
      "\tsaving model 85500...\n"
     ]
    },
    {
     "name": "stderr",
     "output_type": "stream",
     "text": [
      "\n",
      "  0%|          | 0/77 [00:00<?, ?it/s]\u001b[A\n",
      "  8%|7         | 6/77 [00:00<00:01, 53.50it/s]\u001b[A"
     ]
    },
    {
     "name": "stdout",
     "output_type": "stream",
     "text": [
      "\tdone\n",
      "Evaluating\n"
     ]
    },
    {
     "name": "stderr",
     "output_type": "stream",
     "text": [
      "\n",
      " 14%|#4        | 11/77 [00:00<00:01, 49.40it/s]\u001b[A\n",
      " 19%|#9        | 15/77 [00:00<00:01, 45.65it/s]\u001b[A\n",
      " 27%|##7       | 21/77 [00:00<00:01, 49.05it/s]\u001b[A\n",
      " 36%|###6      | 28/77 [00:00<00:00, 52.86it/s]\u001b[A\n",
      " 45%|####5     | 35/77 [00:00<00:00, 54.04it/s]\u001b[A\n",
      " 53%|#####3    | 41/77 [00:00<00:00, 54.96it/s]\u001b[A\n",
      " 62%|######2   | 48/77 [00:00<00:00, 56.96it/s]\u001b[A\n",
      " 71%|#######1  | 55/77 [00:00<00:00, 59.40it/s]\u001b[A\n",
      " 81%|########  | 62/77 [00:01<00:00, 60.72it/s]\u001b[A\n",
      " 90%|########9 | 69/77 [00:01<00:00, 61.94it/s]\u001b[A\n",
      " 99%|#########8| 76/77 [00:01<00:00, 61.71it/s]\u001b[A\n",
      " 72%|███████▏  | 637/884 [00:35<00:52,  4.74it/s]A"
     ]
    },
    {
     "name": "stdout",
     "output_type": "stream",
     "text": [
      "{'ade': 0.4415243, 'fde': 0.96465826}\n",
      "\t last loss:0.000260832, eval on validation:['ade: 0.4415243', 'fde: 0.96465826'], (best ade:0.43956468 at step 67200) \n"
     ]
    },
    {
     "name": "stderr",
     "output_type": "stream",
     "text": [
      "100%|██████████| 884/884 [00:44<00:00, 19.77it/s]\n",
      "  0%|          | 2/884 [00:00<00:53, 16.41it/s]"
     ]
    },
    {
     "name": "stdout",
     "output_type": "stream",
     "text": [
      "('Epoca 98.', 'lr:', 8.187269e-07)\n"
     ]
    },
    {
     "name": "stderr",
     "output_type": "stream",
     "text": [
      "  6%|▌         | 50/884 [00:01<00:31, 26.15it/s]\n",
      "  0%|          | 0/77 [00:00<?, ?it/s]\u001b[A"
     ]
    },
    {
     "name": "stdout",
     "output_type": "stream",
     "text": [
      "\tsaving model 85800...\n",
      "\tdone\n",
      "Evaluating\n"
     ]
    },
    {
     "name": "stderr",
     "output_type": "stream",
     "text": [
      "\n",
      " 13%|#2        | 10/77 [00:00<00:00, 90.16it/s]\u001b[A\n",
      " 22%|##2       | 17/77 [00:00<00:00, 81.60it/s]\u001b[A\n",
      " 30%|##9       | 23/77 [00:00<00:00, 72.74it/s]\u001b[A\n",
      " 38%|###7      | 29/77 [00:00<00:00, 68.24it/s]\u001b[A\n",
      " 47%|####6     | 36/77 [00:00<00:00, 67.70it/s]\u001b[A\n",
      " 56%|#####5    | 43/77 [00:00<00:00, 67.33it/s]\u001b[A\n",
      " 69%|######8   | 53/77 [00:00<00:00, 73.02it/s]\u001b[A\n",
      " 81%|########  | 62/77 [00:00<00:00, 77.17it/s]\u001b[A\n",
      " 92%|#########2| 71/77 [00:00<00:00, 79.58it/s]\u001b[A\n",
      "  6%|▋         | 56/884 [00:03<01:41,  8.13it/s][A"
     ]
    },
    {
     "name": "stdout",
     "output_type": "stream",
     "text": [
      "{'ade': 0.44145194, 'fde': 0.9646609}\n",
      "\t last loss:0.000230636, eval on validation:['ade: 0.44145194', 'fde: 0.9646609'], (best ade:0.43956468 at step 67200) \n"
     ]
    },
    {
     "name": "stderr",
     "output_type": "stream",
     "text": [
      " 40%|███▉      | 350/884 [00:14<00:21, 24.58it/s]\n",
      "  0%|          | 0/77 [00:00<?, ?it/s]\u001b[A"
     ]
    },
    {
     "name": "stdout",
     "output_type": "stream",
     "text": [
      "\tsaving model 86100...\n",
      "\tdone\n",
      "Evaluating\n"
     ]
    },
    {
     "name": "stderr",
     "output_type": "stream",
     "text": [
      "\n",
      " 10%|#         | 8/77 [00:00<00:00, 79.14it/s]\u001b[A\n",
      " 19%|#9        | 15/77 [00:00<00:00, 76.14it/s]\u001b[A\n",
      " 29%|##8       | 22/77 [00:00<00:00, 72.36it/s]\u001b[A\n",
      " 39%|###8      | 30/77 [00:00<00:00, 74.40it/s]\u001b[A\n",
      " 49%|####9     | 38/77 [00:00<00:00, 75.89it/s]\u001b[A\n",
      " 60%|#####9    | 46/77 [00:00<00:00, 75.52it/s]\u001b[A\n",
      " 71%|#######1  | 55/77 [00:00<00:00, 77.62it/s]\u001b[A\n",
      " 83%|########3 | 64/77 [00:00<00:00, 79.10it/s]\u001b[A\n",
      " 95%|#########4| 73/77 [00:00<00:00, 80.25it/s]\u001b[A\n",
      " 40%|███▉      | 353/884 [00:16<01:25,  6.21it/s]A"
     ]
    },
    {
     "name": "stdout",
     "output_type": "stream",
     "text": [
      "{'ade': 0.440491, 'fde': 0.9620349}\n",
      "\t last loss:0.000265308, eval on validation:['ade: 0.440491', 'fde: 0.9620349'], (best ade:0.43956468 at step 67200) \n"
     ]
    },
    {
     "name": "stderr",
     "output_type": "stream",
     "text": [
      " 74%|███████▎  | 650/884 [00:28<00:09, 24.43it/s]\n",
      "  0%|          | 0/77 [00:00<?, ?it/s]\u001b[A"
     ]
    },
    {
     "name": "stdout",
     "output_type": "stream",
     "text": [
      "\tsaving model 86400...\n",
      "\tdone\n",
      "Evaluating\n"
     ]
    },
    {
     "name": "stderr",
     "output_type": "stream",
     "text": [
      "\n",
      " 12%|#1        | 9/77 [00:00<00:00, 82.74it/s]\u001b[A\n",
      " 19%|#9        | 15/77 [00:00<00:00, 72.36it/s]\u001b[A\n",
      " 25%|##4       | 19/77 [00:00<00:01, 57.26it/s]\u001b[A\n",
      " 30%|##9       | 23/77 [00:00<00:01, 48.82it/s]\u001b[A\n",
      " 38%|###7      | 29/77 [00:00<00:00, 49.86it/s]\u001b[A\n",
      " 44%|####4     | 34/77 [00:00<00:00, 46.17it/s]\u001b[A\n",
      " 55%|#####4    | 42/77 [00:00<00:00, 52.14it/s]\u001b[A\n",
      " 65%|######4   | 50/77 [00:00<00:00, 57.58it/s]\u001b[A\n",
      " 77%|#######6  | 59/77 [00:00<00:00, 63.67it/s]\u001b[A\n",
      " 88%|########8 | 68/77 [00:01<00:00, 68.67it/s]\u001b[A\n",
      " 74%|███████▍  | 653/884 [00:30<00:42,  5.45it/s]A"
     ]
    },
    {
     "name": "stdout",
     "output_type": "stream",
     "text": [
      "{'ade': 0.44147483, 'fde': 0.9646582}\n",
      "\t last loss:0.000412553, eval on validation:['ade: 0.44147483', 'fde: 0.9646582'], (best ade:0.43956468 at step 67200) \n"
     ]
    },
    {
     "name": "stderr",
     "output_type": "stream",
     "text": [
      "100%|██████████| 884/884 [00:39<00:00, 23.91it/s]\n",
      "  0%|          | 3/884 [00:00<00:38, 22.84it/s]"
     ]
    },
    {
     "name": "stdout",
     "output_type": "stream",
     "text": [
      "('Epoca 99.', 'lr:', 6.9591783e-07)\n"
     ]
    },
    {
     "name": "stderr",
     "output_type": "stream",
     "text": [
      "  7%|▋         | 66/884 [00:02<00:36, 22.60it/s]\n",
      "  0%|          | 0/77 [00:00<?, ?it/s]\u001b[A"
     ]
    },
    {
     "name": "stdout",
     "output_type": "stream",
     "text": [
      "\tsaving model 86700...\n",
      "\tdone\n",
      "Evaluating\n"
     ]
    },
    {
     "name": "stderr",
     "output_type": "stream",
     "text": [
      "\n",
      " 12%|#1        | 9/77 [00:00<00:00, 81.48it/s]\u001b[A\n",
      " 19%|#9        | 15/77 [00:00<00:00, 72.75it/s]\u001b[A\n",
      " 31%|###1      | 24/77 [00:00<00:00, 75.25it/s]\u001b[A\n",
      " 43%|####2     | 33/77 [00:00<00:00, 77.83it/s]\u001b[A\n",
      " 55%|#####4    | 42/77 [00:00<00:00, 79.13it/s]\u001b[A\n",
      " 64%|######3   | 49/77 [00:00<00:00, 75.63it/s]\u001b[A\n",
      " 74%|#######4  | 57/77 [00:00<00:00, 76.78it/s]\u001b[A\n",
      " 86%|########5 | 66/77 [00:00<00:00, 78.61it/s]\u001b[A\n",
      " 96%|#########6| 74/77 [00:00<00:00, 78.63it/s]\u001b[A\n",
      "  8%|▊         | 69/884 [00:04<02:13,  6.10it/s][A"
     ]
    },
    {
     "name": "stdout",
     "output_type": "stream",
     "text": [
      "{'ade': 0.44130006, 'fde': 0.96418405}\n",
      "\t last loss:0.000371998, eval on validation:['ade: 0.44130006', 'fde: 0.96418405'], (best ade:0.43956468 at step 67200) \n"
     ]
    },
    {
     "name": "stderr",
     "output_type": "stream",
     "text": [
      " 41%|████▏     | 366/884 [00:16<00:21, 24.66it/s]"
     ]
    },
    {
     "name": "stdout",
     "output_type": "stream",
     "text": [
      "\tsaving model 87000...\n"
     ]
    },
    {
     "name": "stderr",
     "output_type": "stream",
     "text": [
      "\n",
      "  0%|          | 0/77 [00:00<?, ?it/s]\u001b[A\n",
      " 12%|#1        | 9/77 [00:00<00:00, 83.34it/s]\u001b[A"
     ]
    },
    {
     "name": "stdout",
     "output_type": "stream",
     "text": [
      "\tdone\n",
      "Evaluating\n"
     ]
    },
    {
     "name": "stderr",
     "output_type": "stream",
     "text": [
      "\n",
      " 22%|##2       | 17/77 [00:00<00:00, 81.19it/s]\u001b[A\n",
      " 32%|###2      | 25/77 [00:00<00:00, 80.18it/s]\u001b[A\n",
      " 44%|####4     | 34/77 [00:00<00:00, 80.98it/s]\u001b[A\n",
      " 55%|#####4    | 42/77 [00:00<00:00, 80.52it/s]\u001b[A\n",
      " 66%|######6   | 51/77 [00:00<00:00, 81.12it/s]\u001b[A\n",
      " 77%|#######6  | 59/77 [00:00<00:00, 75.53it/s]\u001b[A\n",
      " 87%|########7 | 67/77 [00:00<00:00, 75.24it/s]\u001b[A\n",
      " 99%|#########8| 76/77 [00:00<00:00, 77.42it/s]\u001b[A\n",
      " 42%|████▏     | 369/884 [00:17<01:25,  6.04it/s]A"
     ]
    },
    {
     "name": "stdout",
     "output_type": "stream",
     "text": [
      "{'ade': 0.44141492, 'fde': 0.96435404}\n",
      "\t last loss:0.000318758, eval on validation:['ade: 0.44141492', 'fde: 0.96435404'], (best ade:0.43956468 at step 67200) \n"
     ]
    },
    {
     "name": "stderr",
     "output_type": "stream",
     "text": [
      " 75%|███████▌  | 666/884 [00:30<00:08, 24.30it/s]\n",
      "  0%|          | 0/77 [00:00<?, ?it/s]\u001b[A"
     ]
    },
    {
     "name": "stdout",
     "output_type": "stream",
     "text": [
      "\tsaving model 87300...\n",
      "\tdone\n",
      "Evaluating\n"
     ]
    },
    {
     "name": "stderr",
     "output_type": "stream",
     "text": [
      "\n",
      " 12%|#1        | 9/77 [00:00<00:00, 83.40it/s]\u001b[A\n",
      " 22%|##2       | 17/77 [00:00<00:00, 81.25it/s]\u001b[A\n",
      " 31%|###1      | 24/77 [00:00<00:00, 76.56it/s]\u001b[A\n",
      " 39%|###8      | 30/77 [00:00<00:00, 68.28it/s]\u001b[A\n",
      " 47%|####6     | 36/77 [00:00<00:00, 61.84it/s]\u001b[A\n",
      " 57%|#####7    | 44/77 [00:00<00:00, 65.77it/s]\u001b[A\n",
      " 66%|######6   | 51/77 [00:00<00:00, 66.59it/s]\u001b[A\n",
      " 78%|#######7  | 60/77 [00:00<00:00, 70.88it/s]\u001b[A\n",
      " 90%|########9 | 69/77 [00:00<00:00, 74.04it/s]\u001b[A\n",
      " 76%|███████▌  | 669/884 [00:31<00:36,  5.91it/s]A"
     ]
    },
    {
     "name": "stdout",
     "output_type": "stream",
     "text": [
      "{'ade': 0.4411985, 'fde': 0.9638239}\n",
      "\t last loss:0.000208172, eval on validation:['ade: 0.4411985', 'fde: 0.9638239'], (best ade:0.43956468 at step 67200) \n"
     ]
    },
    {
     "name": "stderr",
     "output_type": "stream",
     "text": [
      "100%|██████████| 884/884 [00:41<00:00, 24.27it/s]\n",
      "  0%|          | 3/884 [00:00<00:39, 22.34it/s]"
     ]
    },
    {
     "name": "stdout",
     "output_type": "stream",
     "text": [
      "('Epoca 100.', 'lr:', 6.9591783e-07)\n"
     ]
    },
    {
     "name": "stderr",
     "output_type": "stream",
     "text": [
      "  9%|▉         | 81/884 [00:03<00:38, 20.67it/s]"
     ]
    },
    {
     "name": "stdout",
     "output_type": "stream",
     "text": [
      "\tsaving model 87600...\n"
     ]
    },
    {
     "name": "stderr",
     "output_type": "stream",
     "text": [
      "\n",
      "  0%|          | 0/77 [00:00<?, ?it/s]\u001b[A\n",
      "  9%|9         | 7/77 [00:00<00:01, 66.05it/s]\u001b[A"
     ]
    },
    {
     "name": "stdout",
     "output_type": "stream",
     "text": [
      "\tdone\n",
      "Evaluating\n"
     ]
    },
    {
     "name": "stderr",
     "output_type": "stream",
     "text": [
      "\n",
      " 17%|#6        | 13/77 [00:00<00:01, 61.38it/s]\u001b[A\n",
      " 23%|##3       | 18/77 [00:00<00:01, 54.90it/s]\u001b[A\n",
      " 29%|##8       | 22/77 [00:00<00:01, 48.47it/s]\u001b[A\n",
      " 38%|###7      | 29/77 [00:00<00:00, 51.66it/s]\u001b[A\n",
      " 44%|####4     | 34/77 [00:00<00:00, 50.60it/s]\u001b[A\n",
      " 53%|#####3    | 41/77 [00:00<00:00, 53.17it/s]\u001b[A\n",
      " 62%|######2   | 48/77 [00:00<00:00, 55.39it/s]\u001b[A\n",
      " 70%|#######   | 54/77 [00:01<00:00, 54.73it/s]\u001b[A\n",
      " 79%|#######9  | 61/77 [00:01<00:00, 57.61it/s]\u001b[A\n",
      " 88%|########8 | 68/77 [00:01<00:00, 59.39it/s]\u001b[A\n",
      " 97%|#########7| 75/77 [00:01<00:00, 61.26it/s]\u001b[A\n",
      " 10%|▉         | 84/884 [00:05<02:49,  4.71it/s][A"
     ]
    },
    {
     "name": "stdout",
     "output_type": "stream",
     "text": [
      "{'ade': 0.44079474, 'fde': 0.96272546}\n",
      "\t last loss:0.000265149, eval on validation:['ade: 0.44079474', 'fde: 0.96272546'], (best ade:0.43956468 at step 67200) \n"
     ]
    },
    {
     "name": "stderr",
     "output_type": "stream",
     "text": [
      " 43%|████▎     | 382/884 [00:20<00:24, 20.54it/s]"
     ]
    },
    {
     "name": "stdout",
     "output_type": "stream",
     "text": [
      "\tsaving model 87900...\n"
     ]
    },
    {
     "name": "stderr",
     "output_type": "stream",
     "text": [
      "\n",
      "  0%|          | 0/77 [00:00<?, ?it/s]\u001b[A\n",
      "  9%|9         | 7/77 [00:00<00:01, 63.34it/s]\u001b[A"
     ]
    },
    {
     "name": "stdout",
     "output_type": "stream",
     "text": [
      "\tdone\n",
      "Evaluating\n"
     ]
    },
    {
     "name": "stderr",
     "output_type": "stream",
     "text": [
      "\n",
      " 16%|#5        | 12/77 [00:00<00:01, 56.65it/s]\u001b[A\n",
      " 22%|##2       | 17/77 [00:00<00:01, 52.48it/s]\u001b[A\n",
      " 27%|##7       | 21/77 [00:00<00:01, 47.08it/s]\u001b[A\n",
      " 35%|###5      | 27/77 [00:00<00:01, 49.12it/s]\u001b[A\n",
      " 43%|####2     | 33/77 [00:00<00:00, 50.29it/s]\u001b[A\n",
      " 52%|#####1    | 40/77 [00:00<00:00, 54.03it/s]\u001b[A\n",
      " 60%|#####9    | 46/77 [00:00<00:00, 55.44it/s]\u001b[A\n",
      " 69%|######8   | 53/77 [00:00<00:00, 58.50it/s]\u001b[A\n",
      " 78%|#######7  | 60/77 [00:01<00:00, 59.49it/s]\u001b[A\n",
      " 86%|########5 | 66/77 [00:01<00:00, 59.51it/s]\u001b[A\n",
      " 95%|#########4| 73/77 [00:01<00:00, 60.42it/s]\u001b[A\n",
      " 44%|████▎     | 385/884 [00:22<01:46,  4.70it/s]A"
     ]
    },
    {
     "name": "stdout",
     "output_type": "stream",
     "text": [
      "{'ade': 0.4411459, 'fde': 0.9636396}\n",
      "\t last loss:0.000213651, eval on validation:['ade: 0.4411459', 'fde: 0.9636396'], (best ade:0.43956468 at step 67200) \n"
     ]
    },
    {
     "name": "stderr",
     "output_type": "stream",
     "text": [
      " 77%|███████▋  | 683/884 [00:34<00:07, 26.68it/s]\n",
      "  0%|          | 0/77 [00:00<?, ?it/s]\u001b[A"
     ]
    },
    {
     "name": "stdout",
     "output_type": "stream",
     "text": [
      "\tsaving model 88200...\n",
      "\tdone\n",
      "Evaluating\n"
     ]
    },
    {
     "name": "stderr",
     "output_type": "stream",
     "text": [
      "\n",
      " 12%|#1        | 9/77 [00:00<00:00, 89.20it/s]\u001b[A\n",
      " 22%|##2       | 17/77 [00:00<00:00, 83.63it/s]\u001b[A\n",
      " 34%|###3      | 26/77 [00:00<00:00, 83.79it/s]\u001b[A\n",
      " 45%|####5     | 35/77 [00:00<00:00, 85.16it/s]\u001b[A\n",
      " 57%|#####7    | 44/77 [00:00<00:00, 86.20it/s]\u001b[A\n",
      " 68%|######7   | 52/77 [00:00<00:00, 83.87it/s]\u001b[A\n",
      " 78%|#######7  | 60/77 [00:00<00:00, 82.33it/s]\u001b[A\n",
      " 90%|########9 | 69/77 [00:00<00:00, 84.19it/s]\u001b[A\n",
      " 78%|███████▊  | 686/884 [00:35<00:29,  6.66it/s]A"
     ]
    },
    {
     "name": "stdout",
     "output_type": "stream",
     "text": [
      "{'ade': 0.4408274, 'fde': 0.96292555}\n",
      "\t last loss:0.000211219, eval on validation:['ade: 0.4408274', 'fde: 0.96292555'], (best ade:0.43956468 at step 67200) \n"
     ]
    },
    {
     "name": "stderr",
     "output_type": "stream",
     "text": [
      "100%|██████████| 884/884 [00:43<00:00, 25.86it/s]\n"
     ]
    },
    {
     "name": "stdout",
     "output_type": "stream",
     "text": [
      "best eval on val ade: 0.43956468 at 67200 step y fde es 0.9591931 \n"
     ]
    }
   ],
   "source": [
    "import os \n",
    "from tqdm import tqdm\n",
    "import tensorflow as tf\n",
    "import math\n",
    "\n",
    "tf.reset_default_graph()\n",
    "\n",
    "arguments = parameters1(add_kp = False, add_social = True,train_num_examples=len(data1['obs_traj']))\n",
    "model = model.Model(arguments)\n",
    "\n",
    "train_data = batches_data.Dataset(data1,arguments)\n",
    "val_data = batches_data.Dataset(data3,arguments)\n",
    "\n",
    "saver = tf.train.Saver(max_to_keep = 2)\n",
    "bestsaver = tf.train.Saver(max_to_keep = 2)\n",
    "\n",
    "\n",
    "trainer = entrenamientoevaluacion.Trainer(model,arguments)\n",
    "tester = entrenamientoevaluacion.Tester(model, arguments)\n",
    "\n",
    "#inicializamos las variables globales\n",
    "init = tf.global_variables_initializer()\n",
    "sess = tf.Session()\n",
    "sess.run(init)\n",
    "\n",
    "increment_global_step_op = tf.assign(model.global_step, model.global_step+1)\n",
    "\n",
    "val_perf = []\n",
    "loss = -1\n",
    "metric = 'ade'\n",
    "\n",
    "best = {metric:999999, 'fde':0, 'step':-1}\n",
    "is_start = True\n",
    "\n",
    "num_steps = int(math.ceil(train_data.num_examples/float(arguments.batch_size)))\n",
    "loss_list = []\n",
    "print(num_steps)\n",
    "\n",
    "for i in range(arguments.num_epochs):\n",
    "    print('Epoca {0}.' .format(i+1), 'lr:', sess.run(trainer.get_lr()))\n",
    "    \n",
    "    #For de batches\n",
    "    for idx, batch in tqdm(train_data.get_batches(arguments.batch_size,num_steps = num_steps),total=num_steps):\n",
    "        \n",
    "        sess.run(increment_global_step_op)\n",
    "        global_step = sess.run(model.global_step)\n",
    "\n",
    "        #Evaluamos el entrenamiento\n",
    "        if((global_step%arguments.validate==0) or (arguments.load_best and is_start)):\n",
    "            tqdm.write(\"\\tsaving model %s...\" % global_step)\n",
    "            checkpoint_path_model = os.path.join('SINKP_NON_ETHUNIV_12', 'model.ckpt')\n",
    "            saver.save(sess,checkpoint_path_model , global_step = global_step)\n",
    "            tqdm.write(\"\\tdone\")\n",
    "            \n",
    "            print('Evaluating')\n",
    "            results = evaluate(val_data, tester,sess,arguments)\n",
    "            print(results)\n",
    "           \n",
    "            tqdm.write((\"\\t last loss:%.9f, eval on validation:%s,\"\n",
    "                    \" (best %s:%s at step %s) \") % (loss,[\"%s: %s\" % (k, results[k]) for k in sorted(results.keys())], metric,best[metric], best[\"step\"]))\n",
    "            if results[\"ade\"]< best[metric]:\n",
    "                best[metric] = results[\"ade\"]\n",
    "                best[\"fde\"] =results[\"fde\"]\n",
    "                best[\"step\"] = global_step\n",
    "                \n",
    "                tqdm.write(\"\\t saving best model...\")\n",
    "                checkpoint_path_model_best = os.path.join('SINKP_NON_ETHUNIV-BEST_12', 'model_best.ckpt')\n",
    "                bestsaver.save(sess,checkpoint_path_model_best,global_step = global_step)\n",
    "                tqdm.write(\"\\t done.\")\n",
    "                finalperf = results\n",
    "                val_perf.append((loss, results))\n",
    "            is_start = False\n",
    "        loss, train_op = trainer.step(sess, batch)\n",
    "        loss_list.append(loss)\n",
    "    \n",
    "if((global_step % arguments.validate)!=0):\n",
    "  checkpoint_path_model = os.path.join('SINKP_NON_ETHUNIV_12', 'model.ckpt')\n",
    "  saver.save(sess,checkpoint_path_model , global_step = global_step)\n",
    "\n",
    "print(\"best eval on val %s: %s at %s step y fde es %s \" % (metric, best[metric], best[\"step\"],best[\"fde\"]))\n"
   ]
  },
  {
   "cell_type": "code",
   "execution_count": 9,
   "metadata": {},
   "outputs": [
    {
     "data": {
      "image/png": "[encoded data removed]",
      "text/plain": [
       "<Figure size 432x288 with 1 Axes>"
      ]
     },
     "metadata": {
      "needs_background": "light"
     },
     "output_type": "display_data"
    }
   ],
   "source": [
    "from matplotlib import pyplot as plt\n",
    "plt.plot(loss_list)\n",
    "plt.show()"
   ]
  },
  {
   "cell_type": "code",
   "execution_count": 10,
   "metadata": {},
   "outputs": [
    {
     "data": {
      "text/plain": [
       "'SINKP_NON_ETHUNIV_12_F/model.ckpt-88400'"
      ]
     },
     "execution_count": 10,
     "metadata": {},
     "output_type": "execute_result"
    }
   ],
   "source": [
    "# Guardamos el ultimo modelo\n",
    "checkpoint_path_model = os.path.join('SINKP_NON_ETHUNIV_12_F', 'model.ckpt')\n",
    "saver.save(sess,checkpoint_path_model , global_step = global_step)"
   ]
  },
  {
   "cell_type": "markdown",
   "metadata": {},
   "source": [
    "# Restauramos los modelos"
   ]
  },
  {
   "cell_type": "code",
   "execution_count": 11,
   "metadata": {},
   "outputs": [
    {
     "name": "stderr",
     "output_type": "stream",
     "text": [
      "W0102 11:16:51.765767 140686521648896 deprecation.py:323] From /home/andrea/anaconda2/lib/python2.7/site-packages/tensorflow/python/training/saver.py:1276: checkpoint_exists (from tensorflow.python.training.checkpoint_management) is deprecated and will be removed in a future version.\n",
      "Instructions for updating:\n",
      "Use standard file APIs to check for files with this prefix.\n",
      " 53%|#####2    | 9/17 [00:00<00:00, 86.35it/s]"
     ]
    },
    {
     "name": "stdout",
     "output_type": "stream",
     "text": [
      "Evaluating\n"
     ]
    },
    {
     "name": "stderr",
     "output_type": "stream",
     "text": [
      "\r",
      "100%|##########| 17/17 [00:00<00:00, 83.71it/s]"
     ]
    },
    {
     "name": "stdout",
     "output_type": "stream",
     "text": [
      "{'ade': 1.0788816, 'fde': 2.2212102}\n"
     ]
    },
    {
     "name": "stderr",
     "output_type": "stream",
     "text": [
      "\n"
     ]
    }
   ],
   "source": [
    "#Ultimo Modelo\n",
    "path_model = 'SINKP_NON_ETHUNIV_12_F/model.ckpt-88400'\n",
    "saver.restore(sess=sess, save_path=path_model)\n",
    "\n",
    "\n",
    "test_data = batches_data.Dataset(data_prueba, arguments)\n",
    "print('Evaluating')\n",
    "results = evaluate(test_data, tester,sess,arguments)\n",
    "print(results)"
   ]
  },
  {
   "cell_type": "code",
   "execution_count": 13,
   "metadata": {},
   "outputs": [
    {
     "name": "stderr",
     "output_type": "stream",
     "text": [
      " 24%|##3       | 4/17 [00:00<00:00, 39.69it/s]"
     ]
    },
    {
     "name": "stdout",
     "output_type": "stream",
     "text": [
      "Evaluating\n"
     ]
    },
    {
     "name": "stderr",
     "output_type": "stream",
     "text": [
      "100%|##########| 17/17 [00:00<00:00, 46.32it/s]"
     ]
    },
    {
     "name": "stdout",
     "output_type": "stream",
     "text": [
      "{'ade': 1.0788816, 'fde': 2.2212102}\n"
     ]
    },
    {
     "name": "stderr",
     "output_type": "stream",
     "text": [
      "\n"
     ]
    }
   ],
   "source": [
    "#Modelo12\n",
    "path_model = 'SINKP_NON_ETHUNIV_12/model.ckpt-88400'\n",
    "saver.restore(sess=sess, save_path=path_model)\n",
    "\n",
    "\n",
    "test_data = batches_data.Dataset(data_prueba, arguments)\n",
    "print('Evaluating')\n",
    "results = evaluate(test_data, tester,sess,arguments)\n",
    "print(results)"
   ]
  },
  {
   "cell_type": "code",
   "execution_count": 14,
   "metadata": {},
   "outputs": [
    {
     "name": "stderr",
     "output_type": "stream",
     "text": [
      " 35%|###5      | 6/17 [00:00<00:00, 54.92it/s]"
     ]
    },
    {
     "name": "stdout",
     "output_type": "stream",
     "text": [
      "Evaluating\n"
     ]
    },
    {
     "name": "stderr",
     "output_type": "stream",
     "text": [
      "100%|##########| 17/17 [00:00<00:00, 63.97it/s]"
     ]
    },
    {
     "name": "stdout",
     "output_type": "stream",
     "text": [
      "{'ade': 1.0783424, 'fde': 2.2203975}\n"
     ]
    },
    {
     "name": "stderr",
     "output_type": "stream",
     "text": [
      "\n"
     ]
    }
   ],
   "source": [
    "# Mejor Modelo\n",
    "path_model = 'SINKP_NON_ETHUNIV-BEST_12/model_best.ckpt-67200'\n",
    "saver.restore(sess=sess, save_path=path_model)\n",
    "\n",
    "test_data = batches_data.Dataset(data_prueba, arguments)\n",
    "print('Evaluating')\n",
    "results = evaluate(test_data, tester,sess,arguments)\n",
    "print(results)"
   ]
  },
  {
   "cell_type": "code",
   "execution_count": null,
   "metadata": {},
   "outputs": [],
   "source": []
  }
 ],
 "metadata": {
  "kernelspec": {
   "display_name": "Python 2",
   "language": "python",
   "name": "python2"
  },
  "language_info": {
   "codemirror_mode": {
    "name": "ipython",
    "version": 2
   },
   "file_extension": ".py",
   "mimetype": "text/x-python",
   "name": "python",
   "nbconvert_exporter": "python",
   "pygments_lexer": "ipython2",
   "version": "2.7.16"
  }
 },
 "nbformat": 4,
 "nbformat_minor": 2
}
