{
 "cells": [
  {
   "cell_type": "code",
   "execution_count": 1,
   "metadata": {},
   "outputs": [],
   "source": [
    "import sys\n",
    "#sys.path.append('/home/andrea/Dropbox/CIMAT/TESIS/lstmsss/keypoints/partes')\n",
    "sys.path.append('../keypoints/partes')\n",
    "import numpy as np\n",
    "#from process_file import process_file_modif\n",
    "#from process_file import process_file_modif_varios\n",
    "from process_file import datos_subprocesados_varios\n",
    "import batches_data\n",
    "import model\n",
    "\n",
    "import tensorflow as tf \n",
    "tf.reset_default_graph()\n",
    "\n",
    "import entrenamientoevaluacion\n",
    "from entrenamientoevaluacion import evaluate\n",
    "from interaccion_no_normalizada import batch_vecinos"
   ]
  },
  {
   "cell_type": "code",
   "execution_count": 2,
   "metadata": {},
   "outputs": [],
   "source": [
    "class parameters:\n",
    "    def __init__(self):\n",
    "        self.obs_len = 8\n",
    "        self.pred_len = 12\n",
    "        self.add_social = False\n",
    "        self.kp_num = 18\n",
    "        self.add_kp = False\n",
    "        #self.directory_flujo='/home/andrea/Dropbox/CIMAT/TESIS/lstmsss/keypoints'\n",
    "        self.directory_flujo='../keypoints'"
   ]
  },
  {
   "cell_type": "code",
   "execution_count": 3,
   "metadata": {},
   "outputs": [
    {
     "name": "stdout",
     "output_type": "stream",
     "text": [
      "../data1/eth/univ/mundo/mun_pos.csv\n",
      "339\n",
      "../data1/eth/hotel/mundo/mun_pos.csv\n",
      "913\n",
      "../data1/ucy/zara/zara02/mundo/mun_pos.csv\n",
      "5910\n",
      "../data1/ucy/univ/mundo/mun_pos.csv\n",
      "10039\n",
      "(17201, 8, 64)\n",
      "../data1/ucy/zara/zara01/mundo/mun_pos.csv\n",
      "2356\n",
      "(2356, 8, 64)\n"
     ]
    }
   ],
   "source": [
    "# Cargamos los argumentos\n",
    "arguments = parameters()\n",
    "\n",
    "# List of data directories where raw data resides\n",
    "datasets_entrena_vali = [0,1,3,4]\n",
    "datasets_prueba = [2]\n",
    "\n",
    "data_entrena_vali = datos_subprocesados_varios(datasets_entrena_vali, arguments, ',')\n",
    "data_prueba = datos_subprocesados_varios(datasets_prueba, arguments, ',')\n",
    "#data_ucyuniv = process_file_modif_varios(ucyuniv_pix_path, arguments, ',')"
   ]
  },
  {
   "cell_type": "markdown",
   "metadata": {},
   "source": [
    "# Dividimos los datos"
   ]
  },
  {
   "cell_type": "code",
   "execution_count": 7,
   "metadata": {},
   "outputs": [
    {
     "name": "stdout",
     "output_type": "stream",
     "text": [
      "data_train: 15824\n",
      "data_test: 2356\n",
      "data_val: 1377\n"
     ]
    },
    {
     "name": "stderr",
     "output_type": "stream",
     "text": [
      "/home/andrea/anaconda2/lib/python2.7/site-packages/ipykernel_launcher.py:26: FutureWarning: Using a non-tuple sequence for multidimensional indexing is deprecated; use `arr[tuple(seq)]` instead of `arr[seq]`. In the future this will be interpreted as an array index, `arr[np.array(seq)]`, which will result either in an error or a different result.\n",
      "/home/andrea/anaconda2/lib/python2.7/site-packages/ipykernel_launcher.py:39: FutureWarning: Using a non-tuple sequence for multidimensional indexing is deprecated; use `arr[tuple(seq)]` instead of `arr[seq]`. In the future this will be interpreted as an array index, `arr[np.array(seq)]`, which will result either in an error or a different result.\n"
     ]
    }
   ],
   "source": [
    "#se fija la semilaa\n",
    "import random\n",
    "random.seed(0)\n",
    "\n",
    "# Muestreamos aleatoriamente para separar datos de entrenamiento, validacion y prueba\n",
    "prob = 0.92\n",
    "# La cantidad total de listas de tam 8 \n",
    "ndata = len(data_entrena_vali[list(data_entrena_vali.keys())[2]])\n",
    "idx = random.sample(range(ndata), ndata)\n",
    "long1 = int(ndata*prob)\n",
    "long2 = int(ndata-long1)\n",
    "\n",
    "\n",
    "idx_train = idx[0:long1]\n",
    "idx_val = idx[long1:]\n",
    "\n",
    "\n",
    "# conjunto de entrenamiento\n",
    "data1 = {\n",
    "     \"obs_traj\": data_entrena_vali[\"obs_traj\"][idx_train],\n",
    "     \"obs_traj_rel\": data_entrena_vali[\"obs_traj_rel\"][idx_train],\n",
    "    \n",
    "     \"pred_traj\": data_entrena_vali[\"pred_traj\"][idx_train],\n",
    "     \"pred_traj_rel\": data_entrena_vali[\"pred_traj_rel\"][idx_train],\n",
    "    \n",
    "     \"key_idx\": data_entrena_vali[\"key_idx\"][[idx_train]],\n",
    "     \"obs_flujo\" : data_entrena_vali[\"obs_flujo\"][idx_train],\n",
    "     #\"pred_kp\": data_pets[\"pred_kp\"][idx_train],\n",
    "     #\"obs_person\": data_pets[\"obs_person\"][idx_train],\n",
    "}\n",
    "\n",
    "\n",
    "# conjunto de validacion\n",
    "data3 ={\n",
    "     \"obs_traj\": data_entrena_vali[\"obs_traj\"][idx_val],\n",
    "     \"obs_traj_rel\": data_entrena_vali[\"obs_traj_rel\"][idx_val],\n",
    "     \"pred_traj\": data_entrena_vali[\"pred_traj\"][idx_val],\n",
    "     \"pred_traj_rel\": data_entrena_vali[\"pred_traj_rel\"][idx_val],\n",
    "     \"key_idx\": data_entrena_vali[\"key_idx\"][[idx_val]],\n",
    "     \"obs_flujo\" : data_entrena_vali[\"obs_flujo\"][idx_val],\n",
    "}\n",
    "\n",
    "\n",
    "#if arguments.add_kp:\n",
    "#  print(data3['obs_person_rel'])\n",
    "\n",
    "print(\"data_train: \"+ str(len(data1[list(data1.keys())[0]])))\n",
    "print(\"data_test: \"+ str(len(data_prueba[list(data_prueba .keys())[0]])))\n",
    "print(\"data_val: \"+ str(len(data3[list(data3.keys())[0]])))\n",
    "#print(\"data4: \"+ str(len(data4[list(data4.keys())[0]])))\n"
   ]
  },
  {
   "cell_type": "markdown",
   "metadata": {},
   "source": [
    "# Guardamos la division de los datos"
   ]
  },
  {
   "cell_type": "code",
   "execution_count": 8,
   "metadata": {},
   "outputs": [],
   "source": [
    "import pickle\n",
    "\n",
    "#conjunto de entrenamiento\n",
    "pickle_out = open(\"data1_UCYZARA01_12.pickle\",\"wb\")\n",
    "pickle.dump(data1, pickle_out, protocol=2)\n",
    "pickle_out.close()\n",
    "\n",
    "#conjunto de prueba\n",
    "pickle_out = open(\"data2_UCYZARA01_12.pickle\",\"wb\")\n",
    "pickle.dump(data_prueba, pickle_out, protocol=2)\n",
    "pickle_out.close()\n",
    "\n",
    "#conjunto de validacion\n",
    "pickle_out = open(\"data3_UCYZARA01_12.pickle\",\"wb\")\n",
    "pickle.dump(data3, pickle_out, protocol=2)\n",
    "pickle_out.close()"
   ]
  },
  {
   "cell_type": "markdown",
   "metadata": {},
   "source": [
    "# Parametros para entrenar el modelo"
   ]
  },
  {
   "cell_type": "code",
   "execution_count": 9,
   "metadata": {},
   "outputs": [],
   "source": [
    "class parameters1:\n",
    "    def __init__(self, add_kp = None, add_social=None, train_num_examples=None):\n",
    "        # -----------------\n",
    "        # Similar a como se procesaron los datos\n",
    "        self.obs_len = 8\n",
    "        self.pred_len = 12\n",
    "        if add_kp is None:\n",
    "            print('Parameter add kpp missing')\n",
    "            return\n",
    "        if train_num_examples is None:\n",
    "            print('El parametro train_examples fue olvidado')\n",
    "            return\n",
    "        if add_social is None:\n",
    "            print('Parameter add social missing')\n",
    "            return\n",
    "        \n",
    "        self.add_kp = add_kp\n",
    "        self.train_num_examples = train_num_examples\n",
    "        self.add_social = add_social\n",
    "        \n",
    "        self.kp_num = 18\n",
    "        self.kp_size = 18\n",
    "        #self.maxNumPed = 8\n",
    "        #self.grid_size = 4\n",
    "        #self.neighborhood_size = 32\n",
    "        #self.dimensions = [768,576]\n",
    "        #self.limites=[-15.88,11.56,-19.09,5.99]\n",
    "        #self.bound=[0.7,0.5]\n",
    "        # ------------------\n",
    "        self.num_epochs = 100\n",
    "        self.batch_size = 20 # batch size\n",
    "        self.validate = 300\n",
    "        self.P = 2 # dimensión\n",
    "        self.enc_hidden_size = 128 # el nombre lo dice\n",
    "        self.dec_hidden_size = 128\n",
    "        self.emb_size = 64\n",
    "        self.keep_prob = 0.7 # dropout\n",
    "        \n",
    "        self.min_ped = 1\n",
    "        self.seq_len = self.obs_len + self.pred_len\n",
    "        self.reverse_xy = False\n",
    "        \n",
    "        self.activation_func = tf.nn.tanh\n",
    "        self.activation_func1 = tf.nn.relu\n",
    "        self.is_train = True\n",
    "        self.is_test = False\n",
    "        self.multi_decoder = False\n",
    "        self.modelname = 'gphuctl'\n",
    "        \n",
    "        self.init_lr = 0.001 # 0.01\n",
    "        self.learning_rate_decay = 0.85\n",
    "        self.num_epoch_per_decay = 2.0\n",
    "        self.optimizer = 'adam'\n",
    "        self.emb_lr = 1.0\n",
    "        #self.clip_gradient_norm = 10.0\n",
    "        #Para cuando entreno y quiero guardar el mejor modelo\n",
    "        self.load_best = True"
   ]
  },
  {
   "cell_type": "markdown",
   "metadata": {},
   "source": [
    "# Entrenamos el modelo"
   ]
  },
  {
   "cell_type": "code",
   "execution_count": 10,
   "metadata": {},
   "outputs": [
    {
     "name": "stderr",
     "output_type": "stream",
     "text": [
      "WARNING: Logging before flag parsing goes to stderr.\n",
      "W0102 11:26:02.908129 139831356811008 deprecation_wrapper.py:119] From /home/andrea/Dropbox/CIMAT/TESIS/lstmsss/keypoints/partes/model.py:13: The name tf.get_variable is deprecated. Please use tf.compat.v1.get_variable instead.\n",
      "\n",
      "W0102 11:26:02.938031 139831356811008 deprecation_wrapper.py:119] From /home/andrea/Dropbox/CIMAT/TESIS/lstmsss/keypoints/partes/model.py:31: The name tf.placeholder is deprecated. Please use tf.compat.v1.placeholder instead.\n",
      "\n",
      "W0102 11:26:02.956227 139831356811008 deprecation.py:323] From /home/andrea/Dropbox/CIMAT/TESIS/lstmsss/keypoints/partes/model.py:70: __init__ (from tensorflow.python.ops.rnn_cell_impl) is deprecated and will be removed in a future version.\n",
      "Instructions for updating:\n",
      "This class is equivalent as tf.keras.layers.LSTMCell, and will be replaced by that in Tensorflow 2.0.\n",
      "W0102 11:26:02.958884 139831356811008 deprecation_wrapper.py:119] From /home/andrea/Dropbox/CIMAT/TESIS/lstmsss/keypoints/partes/model.py:72: The name tf.nn.rnn_cell.DropoutWrapper is deprecated. Please use tf.compat.v1.nn.rnn_cell.DropoutWrapper instead.\n",
      "\n",
      "W0102 11:26:02.971055 139831356811008 deprecation_wrapper.py:119] From /home/andrea/Dropbox/CIMAT/TESIS/lstmsss/keypoints/partes/model.py:103: The name tf.variable_scope is deprecated. Please use tf.compat.v1.variable_scope instead.\n",
      "\n",
      "W0102 11:26:02.979520 139831356811008 deprecation_wrapper.py:119] From /home/andrea/Dropbox/CIMAT/TESIS/lstmsss/keypoints/partes/model.py:476: The name tf.AUTO_REUSE is deprecated. Please use tf.compat.v1.AUTO_REUSE instead.\n",
      "\n",
      "W0102 11:26:03.006611 139831356811008 deprecation_wrapper.py:119] From /home/andrea/Dropbox/CIMAT/TESIS/lstmsss/keypoints/partes/model.py:495: The name tf.truncated_normal is deprecated. Please use tf.random.truncated_normal instead.\n",
      "\n",
      "W0102 11:26:03.042860 139831356811008 deprecation.py:323] From /home/andrea/Dropbox/CIMAT/TESIS/lstmsss/keypoints/partes/model.py:116: dynamic_rnn (from tensorflow.python.ops.rnn) is deprecated and will be removed in a future version.\n",
      "Instructions for updating:\n",
      "Please use `keras.layers.RNN(cell)`, which is equivalent to this API\n",
      "W0102 11:26:03.152019 139831356811008 deprecation.py:506] From /home/andrea/anaconda2/lib/python2.7/site-packages/tensorflow/python/ops/init_ops.py:1251: calling __init__ (from tensorflow.python.ops.init_ops) with dtype is deprecated and will be removed in a future version.\n",
      "Instructions for updating:\n",
      "Call initializer instance with the dtype argument instead of passing it to the constructor\n",
      "W0102 11:26:03.162694 139831356811008 deprecation.py:506] From /home/andrea/anaconda2/lib/python2.7/site-packages/tensorflow/python/ops/rnn_cell_impl.py:961: calling __init__ (from tensorflow.python.ops.init_ops) with dtype is deprecated and will be removed in a future version.\n",
      "Instructions for updating:\n",
      "Call initializer instance with the dtype argument instead of passing it to the constructor\n",
      "W0102 11:26:03.786773 139831356811008 deprecation.py:323] From /home/andrea/anaconda2/lib/python2.7/site-packages/tensorflow/python/ops/rnn.py:244: where (from tensorflow.python.ops.array_ops) is deprecated and will be removed in a future version.\n",
      "Instructions for updating:\n",
      "Use tf.where in 2.0, which has the same broadcast rule as np.where\n",
      "W0102 11:26:03.974976 139831356811008 deprecation_wrapper.py:119] From /home/andrea/Dropbox/CIMAT/TESIS/lstmsss/keypoints/partes/model.py:554: The name tf.nn.rnn_cell.LSTMStateTuple is deprecated. Please use tf.compat.v1.nn.rnn_cell.LSTMStateTuple instead.\n",
      "\n",
      "W0102 11:26:04.009243 139831356811008 deprecation_wrapper.py:119] From /home/andrea/Dropbox/CIMAT/TESIS/lstmsss/keypoints/partes/model.py:272: The name tf.nn.raw_rnn is deprecated. Please use tf.compat.v1.nn.raw_rnn instead.\n",
      "\n",
      "W0102 11:26:04.353729 139831356811008 deprecation_wrapper.py:119] From /home/andrea/Dropbox/CIMAT/TESIS/lstmsss/keypoints/partes/entrenamientoevaluacion.py:18: The name tf.train.exponential_decay is deprecated. Please use tf.compat.v1.train.exponential_decay instead.\n",
      "\n",
      "W0102 11:26:04.361731 139831356811008 deprecation_wrapper.py:119] From /home/andrea/Dropbox/CIMAT/TESIS/lstmsss/keypoints/partes/entrenamientoevaluacion.py:33: The name tf.train.AdamOptimizer is deprecated. Please use tf.compat.v1.train.AdamOptimizer instead.\n",
      "\n",
      "  0%|          | 0/792 [00:00<?, ?it/s]"
     ]
    },
    {
     "name": "stdout",
     "output_type": "stream",
     "text": [
      "792\n",
      "('Epoca 1.', 'lr:', 0.002)\n",
      "\tsaving model 1...\n"
     ]
    },
    {
     "name": "stderr",
     "output_type": "stream",
     "text": [
      "\n",
      "  0%|          | 0/69 [00:00<?, ?it/s]\u001b[A"
     ]
    },
    {
     "name": "stdout",
     "output_type": "stream",
     "text": [
      "\tdone\n",
      "Evaluating\n"
     ]
    },
    {
     "name": "stderr",
     "output_type": "stream",
     "text": [
      "\n",
      "  1%|1         | 1/69 [00:00<00:23,  2.92it/s]\u001b[A\n",
      "  7%|7         | 5/69 [00:00<00:15,  4.04it/s]\u001b[A\n",
      " 14%|#4        | 10/69 [00:00<00:10,  5.57it/s]\u001b[A\n",
      " 22%|##1       | 15/69 [00:00<00:07,  7.54it/s]\u001b[A\n",
      " 33%|###3      | 23/69 [00:00<00:04, 10.34it/s]\u001b[A\n",
      " 41%|####      | 28/69 [00:00<00:03, 13.53it/s]\u001b[A\n",
      " 48%|####7     | 33/69 [00:00<00:02, 17.15it/s]\u001b[A\n",
      " 55%|#####5    | 38/69 [00:01<00:01, 21.02it/s]\u001b[A\n",
      " 62%|######2   | 43/69 [00:01<00:01, 25.00it/s]\u001b[A\n",
      " 70%|######9   | 48/69 [00:01<00:00, 29.32it/s]\u001b[A\n",
      " 77%|#######6  | 53/69 [00:01<00:00, 32.88it/s]\u001b[A\n",
      " 87%|########6 | 60/69 [00:01<00:00, 38.90it/s]\u001b[A\n",
      " 97%|#########7| 67/69 [00:01<00:00, 44.57it/s]\u001b[A\n",
      "100%|##########| 69/69 [00:01<00:00, 41.03it/s]\u001b[A"
     ]
    },
    {
     "name": "stdout",
     "output_type": "stream",
     "text": [
      "{'ade': 1.552503, 'fde': 2.8127651}\n",
      "\t last loss:-1.000000000, eval on validation:['ade: 1.552503', 'fde: 2.8127651'], (best ade:999999 at step -1) \n",
      "\t saving best model...\n",
      "\t done.\n"
     ]
    },
    {
     "name": "stderr",
     "output_type": "stream",
     "text": [
      " 38%|███▊      | 299/792 [00:15<00:18, 26.32it/s]\n",
      "  0%|          | 0/69 [00:00<?, ?it/s]\u001b[A"
     ]
    },
    {
     "name": "stdout",
     "output_type": "stream",
     "text": [
      "\tsaving model 300...\n",
      "\tdone\n",
      "Evaluating\n"
     ]
    },
    {
     "name": "stderr",
     "output_type": "stream",
     "text": [
      "\n",
      " 12%|#1        | 8/69 [00:00<00:00, 73.56it/s]\u001b[A\n",
      " 23%|##3       | 16/69 [00:00<00:00, 73.75it/s]\u001b[A\n",
      " 36%|###6      | 25/69 [00:00<00:00, 77.62it/s]\u001b[A\n",
      " 48%|####7     | 33/69 [00:00<00:00, 75.77it/s]\u001b[A\n",
      " 58%|#####7    | 40/69 [00:00<00:00, 72.74it/s]\u001b[A\n",
      " 70%|######9   | 48/69 [00:00<00:00, 71.43it/s]\u001b[A\n",
      " 81%|########1 | 56/69 [00:00<00:00, 73.74it/s]\u001b[A\n",
      " 94%|#########4| 65/69 [00:00<00:00, 75.86it/s]\u001b[A\n",
      "100%|##########| 69/69 [00:00<00:00, 73.08it/s]\u001b[A"
     ]
    },
    {
     "name": "stdout",
     "output_type": "stream",
     "text": [
      "{'ade': 0.5363264, 'fde': 1.1737027}\n",
      "\t last loss:0.000719435, eval on validation:['ade: 0.5363264', 'fde: 1.1737027'], (best ade:1.552503 at step 1) \n",
      "\t saving best model...\n",
      "\t done.\n"
     ]
    },
    {
     "name": "stderr",
     "output_type": "stream",
     "text": [
      " 76%|███████▌  | 598/792 [00:28<00:07, 25.90it/s]W0102 11:26:34.703392 139831356811008 deprecation.py:323] From /home/andrea/anaconda2/lib/python2.7/site-packages/tensorflow/python/training/saver.py:960: remove_checkpoint (from tensorflow.python.training.checkpoint_management) is deprecated and will be removed in a future version.\n",
      "Instructions for updating:\n",
      "Use standard file APIs to delete files with this prefix.\n",
      "\n",
      "  0%|          | 0/69 [00:00<?, ?it/s]\u001b[A"
     ]
    },
    {
     "name": "stdout",
     "output_type": "stream",
     "text": [
      "\tsaving model 600...\n",
      "\tdone\n",
      "Evaluating\n"
     ]
    },
    {
     "name": "stderr",
     "output_type": "stream",
     "text": [
      "\n",
      " 13%|#3        | 9/69 [00:00<00:00, 81.98it/s]\u001b[A\n",
      " 23%|##3       | 16/69 [00:00<00:00, 74.62it/s]\u001b[A\n",
      " 33%|###3      | 23/69 [00:00<00:00, 72.08it/s]\u001b[A\n",
      " 42%|####2     | 29/69 [00:00<00:00, 67.37it/s]\u001b[A\n",
      " 55%|#####5    | 38/69 [00:00<00:00, 70.13it/s]\u001b[A\n",
      " 68%|######8   | 47/69 [00:00<00:00, 75.10it/s]\u001b[A\n",
      " 83%|########2 | 57/69 [00:00<00:00, 79.05it/s]\u001b[A\n",
      " 96%|#########5| 66/69 [00:00<00:00, 80.96it/s]\u001b[A\n",
      " 76%|███████▌  | 601/792 [00:29<00:28,  6.71it/s]A"
     ]
    },
    {
     "name": "stdout",
     "output_type": "stream",
     "text": [
      "{'ade': 0.5892745, 'fde': 1.3145453}\n",
      "\t last loss:0.000581733, eval on validation:['ade: 0.5892745', 'fde: 1.3145453'], (best ade:0.5363264 at step 300) \n"
     ]
    },
    {
     "name": "stderr",
     "output_type": "stream",
     "text": [
      "100%|██████████| 792/792 [00:37<00:00, 20.96it/s]\n",
      "  0%|          | 1/792 [00:00<01:46,  7.40it/s]"
     ]
    },
    {
     "name": "stdout",
     "output_type": "stream",
     "text": [
      "('Epoca 2.', 'lr:', 0.002)\n"
     ]
    },
    {
     "name": "stderr",
     "output_type": "stream",
     "text": [
      " 13%|█▎        | 106/792 [00:04<00:26, 25.61it/s]\n",
      "  0%|          | 0/69 [00:00<?, ?it/s]\u001b[A"
     ]
    },
    {
     "name": "stdout",
     "output_type": "stream",
     "text": [
      "\tsaving model 900...\n",
      "\tdone\n",
      "Evaluating\n"
     ]
    },
    {
     "name": "stderr",
     "output_type": "stream",
     "text": [
      "\n",
      " 14%|#4        | 10/69 [00:00<00:00, 91.32it/s]\u001b[A\n",
      " 26%|##6       | 18/69 [00:00<00:00, 84.14it/s]\u001b[A\n",
      " 36%|###6      | 25/69 [00:00<00:00, 76.98it/s]\u001b[A\n",
      " 46%|####6     | 32/69 [00:00<00:00, 73.10it/s]\u001b[A\n",
      " 59%|#####9    | 41/69 [00:00<00:00, 77.34it/s]\u001b[A\n",
      " 71%|#######1  | 49/69 [00:00<00:00, 76.94it/s]\u001b[A\n",
      " 84%|########4 | 58/69 [00:00<00:00, 78.29it/s]\u001b[A\n",
      " 97%|#########7| 67/69 [00:00<00:00, 81.10it/s]\u001b[A\n",
      "100%|##########| 69/69 [00:00<00:00, 78.05it/s]\u001b[A"
     ]
    },
    {
     "name": "stdout",
     "output_type": "stream",
     "text": [
      "{'ade': 0.5125759, 'fde': 1.1083512}\n",
      "\t last loss:0.000655281, eval on validation:['ade: 0.5125759', 'fde: 1.1083512'], (best ade:0.5363264 at step 300) \n",
      "\t saving best model...\n"
     ]
    },
    {
     "name": "stderr",
     "output_type": "stream",
     "text": [
      " 51%|█████▏    | 406/792 [00:17<00:14, 25.75it/s]\n",
      "  0%|          | 0/69 [00:00<?, ?it/s]\u001b[A"
     ]
    },
    {
     "name": "stdout",
     "output_type": "stream",
     "text": [
      "\t done.\n",
      "\tsaving model 1200...\n",
      "\tdone\n",
      "Evaluating\n"
     ]
    },
    {
     "name": "stderr",
     "output_type": "stream",
     "text": [
      "\n",
      " 14%|#4        | 10/69 [00:00<00:00, 91.40it/s]\u001b[A\n",
      " 25%|##4       | 17/69 [00:00<00:00, 80.27it/s]\u001b[A\n",
      " 35%|###4      | 24/69 [00:00<00:00, 75.09it/s]\u001b[A\n",
      " 46%|####6     | 32/69 [00:00<00:00, 75.92it/s]\u001b[A\n",
      " 58%|#####7    | 40/69 [00:00<00:00, 74.85it/s]\u001b[A\n",
      " 71%|#######1  | 49/69 [00:00<00:00, 77.61it/s]\u001b[A\n",
      " 84%|########4 | 58/69 [00:00<00:00, 79.13it/s]\u001b[A\n",
      " 99%|#########8| 68/69 [00:00<00:00, 82.55it/s]\u001b[A\n",
      " 52%|█████▏    | 412/792 [00:18<00:43,  8.73it/s]A"
     ]
    },
    {
     "name": "stdout",
     "output_type": "stream",
     "text": [
      "{'ade': 0.5436599, 'fde': 1.1887723}\n",
      "\t last loss:0.000559559, eval on validation:['ade: 0.5436599', 'fde: 1.1887723'], (best ade:0.5125759 at step 900) \n"
     ]
    },
    {
     "name": "stderr",
     "output_type": "stream",
     "text": [
      " 89%|████████▉ | 706/792 [00:29<00:03, 26.09it/s]\n",
      "  0%|          | 0/69 [00:00<?, ?it/s]\u001b[A"
     ]
    },
    {
     "name": "stdout",
     "output_type": "stream",
     "text": [
      "\tsaving model 1500...\n",
      "\tdone\n",
      "Evaluating\n"
     ]
    },
    {
     "name": "stderr",
     "output_type": "stream",
     "text": [
      "\n",
      " 14%|#4        | 10/69 [00:00<00:00, 92.05it/s]\u001b[A\n",
      " 28%|##7       | 19/69 [00:00<00:00, 91.07it/s]\u001b[A\n",
      " 39%|###9      | 27/69 [00:00<00:00, 85.20it/s]\u001b[A\n",
      " 52%|#####2    | 36/69 [00:00<00:00, 84.26it/s]\u001b[A\n",
      " 65%|######5   | 45/69 [00:00<00:00, 85.75it/s]\u001b[A\n",
      " 78%|#######8  | 54/69 [00:00<00:00, 86.13it/s]\u001b[A\n",
      " 90%|########9 | 62/69 [00:00<00:00, 83.51it/s]\u001b[A\n",
      " 90%|████████▉ | 709/792 [00:31<00:11,  7.12it/s]A"
     ]
    },
    {
     "name": "stdout",
     "output_type": "stream",
     "text": [
      "{'ade': 0.51295877, 'fde': 1.1050907}\n",
      "\t last loss:0.000601996, eval on validation:['ade: 0.51295877', 'fde: 1.1050907'], (best ade:0.5125759 at step 900) \n"
     ]
    },
    {
     "name": "stderr",
     "output_type": "stream",
     "text": [
      "100%|██████████| 792/792 [00:34<00:00, 22.88it/s]\n",
      "  0%|          | 2/792 [00:00<00:45, 17.44it/s]"
     ]
    },
    {
     "name": "stdout",
     "output_type": "stream",
     "text": [
      "('Epoca 3.', 'lr:', 0.0017000001)\n"
     ]
    },
    {
     "name": "stderr",
     "output_type": "stream",
     "text": [
      " 27%|██▋       | 215/792 [00:08<00:23, 24.14it/s]\n",
      "  0%|          | 0/69 [00:00<?, ?it/s]\u001b[A"
     ]
    },
    {
     "name": "stdout",
     "output_type": "stream",
     "text": [
      "\tsaving model 1800...\n",
      "\tdone\n",
      "Evaluating\n"
     ]
    },
    {
     "name": "stderr",
     "output_type": "stream",
     "text": [
      "\n",
      " 13%|#3        | 9/69 [00:00<00:00, 85.62it/s]\u001b[A\n",
      " 25%|##4       | 17/69 [00:00<00:00, 82.47it/s]\u001b[A\n",
      " 35%|###4      | 24/69 [00:00<00:00, 76.82it/s]\u001b[A\n",
      " 43%|####3     | 30/69 [00:00<00:00, 68.93it/s]\u001b[A\n",
      " 57%|#####6    | 39/69 [00:00<00:00, 72.64it/s]\u001b[A\n",
      " 68%|######8   | 47/69 [00:00<00:00, 73.52it/s]\u001b[A\n",
      " 81%|########1 | 56/69 [00:00<00:00, 77.09it/s]\u001b[A\n",
      " 94%|#########4| 65/69 [00:00<00:00, 80.16it/s]\u001b[A\n",
      " 28%|██▊       | 218/792 [00:09<01:27,  6.58it/s]A"
     ]
    },
    {
     "name": "stdout",
     "output_type": "stream",
     "text": [
      "{'ade': 0.56997323, 'fde': 1.2788625}\n",
      "\t last loss:0.000374383, eval on validation:['ade: 0.56997323', 'fde: 1.2788625'], (best ade:0.5125759 at step 900) \n"
     ]
    },
    {
     "name": "stderr",
     "output_type": "stream",
     "text": [
      " 65%|██████▍   | 514/792 [00:21<00:11, 24.57it/s]\n",
      "  0%|          | 0/69 [00:00<?, ?it/s]\u001b[A"
     ]
    },
    {
     "name": "stdout",
     "output_type": "stream",
     "text": [
      "\tsaving model 2100...\n",
      "\tdone\n",
      "Evaluating\n"
     ]
    },
    {
     "name": "stderr",
     "output_type": "stream",
     "text": [
      "\n",
      " 13%|#3        | 9/69 [00:00<00:00, 80.41it/s]\u001b[A\n",
      " 22%|##1       | 15/69 [00:00<00:00, 71.08it/s]\u001b[A\n",
      " 30%|###       | 21/69 [00:00<00:00, 67.24it/s]\u001b[A\n",
      " 41%|####      | 28/69 [00:00<00:00, 66.87it/s]\u001b[A\n",
      " 51%|#####     | 35/69 [00:00<00:00, 67.47it/s]\u001b[A\n",
      " 64%|######3   | 44/69 [00:00<00:00, 71.79it/s]\u001b[A\n",
      " 75%|#######5  | 52/69 [00:00<00:00, 72.98it/s]\u001b[A\n",
      " 87%|########6 | 60/69 [00:00<00:00, 74.87it/s]\u001b[A\n",
      " 99%|#########8| 68/69 [00:00<00:00, 75.71it/s]\u001b[A\n",
      " 65%|██████▌   | 517/792 [00:22<00:43,  6.30it/s]A"
     ]
    },
    {
     "name": "stdout",
     "output_type": "stream",
     "text": [
      "{'ade': 0.5325975, 'fde': 1.1745514}\n",
      "\t last loss:0.000586863, eval on validation:['ade: 0.5325975', 'fde: 1.1745514'], (best ade:0.5125759 at step 900) \n"
     ]
    },
    {
     "name": "stderr",
     "output_type": "stream",
     "text": [
      "100%|██████████| 792/792 [00:33<00:00, 23.35it/s]\n",
      "  0%|          | 3/792 [00:00<00:32, 24.11it/s]"
     ]
    },
    {
     "name": "stdout",
     "output_type": "stream",
     "text": [
      "('Epoca 4.', 'lr:', 0.0017000001)\n"
     ]
    },
    {
     "name": "stderr",
     "output_type": "stream",
     "text": [
      "  3%|▎         | 21/792 [00:00<00:29, 25.82it/s]\n",
      "  0%|          | 0/69 [00:00<?, ?it/s]\u001b[A"
     ]
    },
    {
     "name": "stdout",
     "output_type": "stream",
     "text": [
      "\tsaving model 2400...\n",
      "\tdone\n",
      "Evaluating\n"
     ]
    },
    {
     "name": "stderr",
     "output_type": "stream",
     "text": [
      "\n",
      " 13%|#3        | 9/69 [00:00<00:00, 89.46it/s]\u001b[A\n",
      " 26%|##6       | 18/69 [00:00<00:00, 86.41it/s]\u001b[A\n",
      " 36%|###6      | 25/69 [00:00<00:00, 79.50it/s]\u001b[A\n",
      " 46%|####6     | 32/69 [00:00<00:00, 72.92it/s]\u001b[A\n",
      " 58%|#####7    | 40/69 [00:00<00:00, 74.58it/s]\u001b[A\n",
      " 70%|######9   | 48/69 [00:00<00:00, 74.77it/s]\u001b[A\n",
      " 84%|########4 | 58/69 [00:00<00:00, 79.26it/s]\u001b[A\n",
      " 99%|#########8| 68/69 [00:00<00:00, 82.71it/s]\u001b[A\n",
      "  3%|▎         | 27/792 [00:02<01:27,  8.78it/s][A"
     ]
    },
    {
     "name": "stdout",
     "output_type": "stream",
     "text": [
      "{'ade': 0.5903055, 'fde': 1.3135505}\n",
      "\t last loss:0.000773226, eval on validation:['ade: 0.5903055', 'fde: 1.3135505'], (best ade:0.5125759 at step 900) \n"
     ]
    },
    {
     "name": "stderr",
     "output_type": "stream",
     "text": [
      " 41%|████      | 321/792 [00:13<00:19, 24.62it/s]\n"
     ]
    },
    {
     "name": "stdout",
     "output_type": "stream",
     "text": [
      "\tsaving model 2700...\n",
      "\tdone\n",
      "Evaluating\n"
     ]
    },
    {
     "name": "stderr",
     "output_type": "stream",
     "text": [
      "  0%|          | 0/69 [00:00<?, ?it/s]\u001b[A\n",
      " 13%|#3        | 9/69 [00:00<00:00, 82.67it/s]\u001b[A\n",
      " 26%|##6       | 18/69 [00:00<00:00, 83.11it/s]\u001b[A\n",
      " 36%|###6      | 25/69 [00:00<00:00, 74.53it/s]\u001b[A\n",
      " 45%|####4     | 31/69 [00:00<00:00, 66.54it/s]\u001b[A\n",
      " 54%|#####3    | 37/69 [00:00<00:00, 63.98it/s]\u001b[A\n",
      " 67%|######6   | 46/69 [00:00<00:00, 68.92it/s]\u001b[A\n",
      " 77%|#######6  | 53/69 [00:00<00:00, 68.47it/s]\u001b[A\n",
      " 90%|########9 | 62/69 [00:00<00:00, 72.20it/s]\u001b[A\n",
      " 41%|████▏     | 327/792 [00:15<00:56,  8.18it/s]A"
     ]
    },
    {
     "name": "stdout",
     "output_type": "stream",
     "text": [
      "{'ade': 0.5290397, 'fde': 1.1598231}\n",
      "\t last loss:0.000590845, eval on validation:['ade: 0.5290397', 'fde: 1.1598231'], (best ade:0.5125759 at step 900) \n"
     ]
    },
    {
     "name": "stderr",
     "output_type": "stream",
     "text": [
      " 78%|███████▊  | 621/792 [00:27<00:06, 26.60it/s]\n",
      "  0%|          | 0/69 [00:00<?, ?it/s]"
     ]
    },
    {
     "name": "stdout",
     "output_type": "stream",
     "text": [
      "\tsaving model 3000...\n",
      "\tdone\n",
      "Evaluating\n"
     ]
    },
    {
     "name": "stderr",
     "output_type": "stream",
     "text": [
      "\u001b[A\n",
      " 13%|#3        | 9/69 [00:00<00:00, 83.39it/s]\u001b[A\n",
      " 23%|##3       | 16/69 [00:00<00:00, 76.61it/s]\u001b[A\n",
      " 32%|###1      | 22/69 [00:00<00:00, 69.08it/s]\u001b[A\n",
      " 41%|####      | 28/69 [00:00<00:00, 64.88it/s]\u001b[A\n",
      " 51%|#####     | 35/69 [00:00<00:00, 66.05it/s]\u001b[A\n",
      " 62%|######2   | 43/69 [00:00<00:00, 68.03it/s]\u001b[A\n",
      " 74%|#######3  | 51/69 [00:00<00:00, 71.08it/s]\u001b[A\n",
      " 87%|########6 | 60/69 [00:00<00:00, 74.22it/s]\u001b[A\n",
      " 79%|███████▉  | 627/792 [00:28<00:20,  8.21it/s]A"
     ]
    },
    {
     "name": "stdout",
     "output_type": "stream",
     "text": [
      "{'ade': 0.5752419, 'fde': 1.276684}\n",
      "\t last loss:0.000439015, eval on validation:['ade: 0.5752419', 'fde: 1.276684'], (best ade:0.5125759 at step 900) \n"
     ]
    },
    {
     "name": "stderr",
     "output_type": "stream",
     "text": [
      "100%|██████████| 792/792 [00:35<00:00, 22.42it/s]\n",
      "  0%|          | 1/792 [00:00<01:30,  8.76it/s]"
     ]
    },
    {
     "name": "stdout",
     "output_type": "stream",
     "text": [
      "('Epoca 5.', 'lr:', 0.0014450002)\n"
     ]
    },
    {
     "name": "stderr",
     "output_type": "stream",
     "text": [
      " 16%|█▋        | 130/792 [00:05<00:25, 25.62it/s]\n",
      "  0%|          | 0/69 [00:00<?, ?it/s]\u001b[A"
     ]
    },
    {
     "name": "stdout",
     "output_type": "stream",
     "text": [
      "\tsaving model 3300...\n",
      "\tdone\n",
      "Evaluating\n"
     ]
    },
    {
     "name": "stderr",
     "output_type": "stream",
     "text": [
      "\n",
      " 13%|#3        | 9/69 [00:00<00:00, 87.21it/s]\u001b[A\n",
      " 25%|##4       | 17/69 [00:00<00:00, 81.02it/s]\u001b[A\n",
      " 36%|###6      | 25/69 [00:00<00:00, 77.35it/s]\u001b[A\n",
      " 46%|####6     | 32/69 [00:00<00:00, 74.20it/s]\u001b[A\n",
      " 59%|#####9    | 41/69 [00:00<00:00, 77.53it/s]\u001b[A\n",
      " 71%|#######1  | 49/69 [00:00<00:00, 76.51it/s]\u001b[A\n",
      " 84%|########4 | 58/69 [00:00<00:00, 78.22it/s]\u001b[A\n",
      " 99%|#########8| 68/69 [00:00<00:00, 81.76it/s]\u001b[A\n",
      " 17%|█▋        | 136/792 [00:06<01:15,  8.74it/s]A"
     ]
    },
    {
     "name": "stdout",
     "output_type": "stream",
     "text": [
      "{'ade': 0.5444433, 'fde': 1.2112404}\n",
      "\t last loss:0.000387915, eval on validation:['ade: 0.5444433', 'fde: 1.2112404'], (best ade:0.5125759 at step 900) \n"
     ]
    },
    {
     "name": "stderr",
     "output_type": "stream",
     "text": [
      " 54%|█████▍    | 430/792 [00:18<00:14, 24.46it/s]\n"
     ]
    },
    {
     "name": "stdout",
     "output_type": "stream",
     "text": [
      "\tsaving model 3600...\n",
      "\tdone\n",
      "Evaluating\n"
     ]
    },
    {
     "name": "stderr",
     "output_type": "stream",
     "text": [
      "  0%|          | 0/69 [00:00<?, ?it/s]\u001b[A\n",
      " 13%|#3        | 9/69 [00:00<00:00, 74.67it/s]\u001b[A\n",
      " 22%|##1       | 15/69 [00:00<00:00, 67.66it/s]\u001b[A\n",
      " 30%|###       | 21/69 [00:00<00:00, 64.71it/s]\u001b[A\n",
      " 41%|####      | 28/69 [00:00<00:00, 64.45it/s]\u001b[A\n",
      " 51%|#####     | 35/69 [00:00<00:00, 64.95it/s]\u001b[A\n",
      " 64%|######3   | 44/69 [00:00<00:00, 69.42it/s]\u001b[A\n",
      " 77%|#######6  | 53/69 [00:00<00:00, 73.77it/s]\u001b[A\n",
      " 90%|########9 | 62/69 [00:00<00:00, 76.88it/s]\u001b[A\n",
      " 55%|█████▍    | 433/792 [00:20<00:56,  6.38it/s]A"
     ]
    },
    {
     "name": "stdout",
     "output_type": "stream",
     "text": [
      "{'ade': 0.5899871, 'fde': 1.3085278}\n",
      "\t last loss:0.000510852, eval on validation:['ade: 0.5899871', 'fde: 1.3085278'], (best ade:0.5125759 at step 900) \n"
     ]
    },
    {
     "name": "stderr",
     "output_type": "stream",
     "text": [
      " 92%|█████████▏| 730/792 [00:31<00:02, 26.05it/s]\n",
      "  0%|          | 0/69 [00:00<?, ?it/s]\u001b[A"
     ]
    },
    {
     "name": "stdout",
     "output_type": "stream",
     "text": [
      "\tsaving model 3900...\n",
      "\tdone\n",
      "Evaluating\n"
     ]
    },
    {
     "name": "stderr",
     "output_type": "stream",
     "text": [
      "\n",
      " 12%|#1        | 8/69 [00:00<00:00, 77.93it/s]\u001b[A\n",
      " 22%|##1       | 15/69 [00:00<00:00, 71.68it/s]\u001b[A\n",
      " 32%|###1      | 22/69 [00:00<00:00, 68.29it/s]\u001b[A\n",
      " 41%|####      | 28/69 [00:00<00:00, 63.91it/s]\u001b[A\n",
      " 52%|#####2    | 36/69 [00:00<00:00, 66.89it/s]\u001b[A\n",
      " 62%|######2   | 43/69 [00:00<00:00, 67.67it/s]\u001b[A\n",
      " 75%|#######5  | 52/69 [00:00<00:00, 71.54it/s]\u001b[A\n",
      " 88%|########8 | 61/69 [00:00<00:00, 74.28it/s]\u001b[A\n",
      " 93%|█████████▎| 733/792 [00:33<00:09,  6.36it/s]A"
     ]
    },
    {
     "name": "stdout",
     "output_type": "stream",
     "text": [
      "{'ade': 0.5163972, 'fde': 1.1160588}\n",
      "\t last loss:0.000477850, eval on validation:['ade: 0.5163972', 'fde: 1.1160588'], (best ade:0.5125759 at step 900) \n"
     ]
    },
    {
     "name": "stderr",
     "output_type": "stream",
     "text": [
      "100%|██████████| 792/792 [00:35<00:00, 22.12it/s]\n",
      "  0%|          | 2/792 [00:00<00:53, 14.90it/s]"
     ]
    },
    {
     "name": "stdout",
     "output_type": "stream",
     "text": [
      "('Epoca 6.', 'lr:', 0.0014450002)\n"
     ]
    },
    {
     "name": "stderr",
     "output_type": "stream",
     "text": [
      " 30%|███       | 239/792 [00:09<00:21, 26.05it/s]\n",
      "  0%|          | 0/69 [00:00<?, ?it/s]\u001b[A"
     ]
    },
    {
     "name": "stdout",
     "output_type": "stream",
     "text": [
      "\tsaving model 4200...\n",
      "\tdone\n",
      "Evaluating\n"
     ]
    },
    {
     "name": "stderr",
     "output_type": "stream",
     "text": [
      "\n",
      " 14%|#4        | 10/69 [00:00<00:00, 91.30it/s]\u001b[A\n",
      " 26%|##6       | 18/69 [00:00<00:00, 86.34it/s]\u001b[A\n",
      " 36%|###6      | 25/69 [00:00<00:00, 78.03it/s]\u001b[A\n",
      " 46%|####6     | 32/69 [00:00<00:00, 74.32it/s]\u001b[A\n",
      " 58%|#####7    | 40/69 [00:00<00:00, 75.37it/s]\u001b[A\n",
      " 70%|######9   | 48/69 [00:00<00:00, 76.20it/s]\u001b[A\n",
      " 84%|########4 | 58/69 [00:00<00:00, 80.44it/s]\u001b[A\n",
      " 97%|#########7| 67/69 [00:00<00:00, 81.38it/s]\u001b[A\n",
      " 31%|███       | 242/792 [00:10<01:20,  6.86it/s]A"
     ]
    },
    {
     "name": "stdout",
     "output_type": "stream",
     "text": [
      "{'ade': 0.57527024, 'fde': 1.2792205}\n",
      "\t last loss:0.000687226, eval on validation:['ade: 0.57527024', 'fde: 1.2792205'], (best ade:0.5125759 at step 900) \n"
     ]
    },
    {
     "name": "stderr",
     "output_type": "stream",
     "text": [
      " 68%|██████▊   | 539/792 [00:22<00:10, 24.56it/s]"
     ]
    },
    {
     "name": "stdout",
     "output_type": "stream",
     "text": [
      "\tsaving model 4500...\n"
     ]
    },
    {
     "name": "stderr",
     "output_type": "stream",
     "text": [
      "\n",
      "  0%|          | 0/69 [00:00<?, ?it/s]\u001b[A\n",
      " 13%|#3        | 9/69 [00:00<00:00, 83.75it/s]\u001b[A"
     ]
    },
    {
     "name": "stdout",
     "output_type": "stream",
     "text": [
      "\tdone\n",
      "Evaluating\n"
     ]
    },
    {
     "name": "stderr",
     "output_type": "stream",
     "text": [
      "\n",
      " 23%|##3       | 16/69 [00:00<00:00, 76.15it/s]\u001b[A\n",
      " 35%|###4      | 24/69 [00:00<00:00, 75.21it/s]\u001b[A\n",
      " 48%|####7     | 33/69 [00:00<00:00, 76.86it/s]\u001b[A\n",
      " 61%|######    | 42/69 [00:00<00:00, 78.76it/s]\u001b[A\n",
      " 74%|#######3  | 51/69 [00:00<00:00, 79.63it/s]\u001b[A\n",
      " 86%|########5 | 59/69 [00:00<00:00, 78.83it/s]\u001b[A\n",
      " 97%|#########7| 67/69 [00:00<00:00, 76.69it/s]\u001b[A\n",
      " 68%|██████▊   | 542/792 [00:23<00:38,  6.52it/s]A"
     ]
    },
    {
     "name": "stdout",
     "output_type": "stream",
     "text": [
      "{'ade': 0.6281626, 'fde': 1.4344308}\n",
      "\t last loss:0.000682554, eval on validation:['ade: 0.6281626', 'fde: 1.4344308'], (best ade:0.5125759 at step 900) \n"
     ]
    },
    {
     "name": "stderr",
     "output_type": "stream",
     "text": [
      "100%|██████████| 792/792 [00:33<00:00, 23.35it/s]\n",
      "  0%|          | 2/792 [00:00<00:49, 16.01it/s]"
     ]
    },
    {
     "name": "stdout",
     "output_type": "stream",
     "text": [
      "('Epoca 7.', 'lr:', 0.0012282502)\n"
     ]
    },
    {
     "name": "stderr",
     "output_type": "stream",
     "text": [
      "  6%|▌         | 47/792 [00:01<00:28, 26.06it/s]\n",
      "  0%|          | 0/69 [00:00<?, ?it/s]\u001b[A"
     ]
    },
    {
     "name": "stdout",
     "output_type": "stream",
     "text": [
      "\tsaving model 4800...\n",
      "\tdone\n",
      "Evaluating\n"
     ]
    },
    {
     "name": "stderr",
     "output_type": "stream",
     "text": [
      "\n",
      " 13%|#3        | 9/69 [00:00<00:00, 89.95it/s]\u001b[A\n",
      " 23%|##3       | 16/69 [00:00<00:00, 81.59it/s]\u001b[A\n",
      " 33%|###3      | 23/69 [00:00<00:00, 74.20it/s]\u001b[A\n",
      " 42%|####2     | 29/69 [00:00<00:00, 68.74it/s]\u001b[A\n",
      " 54%|#####3    | 37/69 [00:00<00:00, 71.19it/s]\u001b[A\n",
      " 64%|######3   | 44/69 [00:00<00:00, 68.82it/s]\u001b[A\n",
      " 75%|#######5  | 52/69 [00:00<00:00, 71.53it/s]\u001b[A\n",
      " 87%|########6 | 60/69 [00:00<00:00, 73.71it/s]\u001b[A\n",
      "  6%|▋         | 50/792 [00:03<01:53,  6.52it/s][A"
     ]
    },
    {
     "name": "stdout",
     "output_type": "stream",
     "text": [
      "{'ade': 0.5630943, 'fde': 1.2429398}\n",
      "\t last loss:0.000448600, eval on validation:['ade: 0.5630943', 'fde: 1.2429398'], (best ade:0.5125759 at step 900) \n"
     ]
    },
    {
     "name": "stderr",
     "output_type": "stream",
     "text": [
      " 44%|████▍     | 347/792 [00:15<00:17, 25.85it/s]\n",
      "  0%|          | 0/69 [00:00<?, ?it/s]\u001b[A"
     ]
    },
    {
     "name": "stdout",
     "output_type": "stream",
     "text": [
      "\tsaving model 5100...\n",
      "\tdone\n",
      "Evaluating\n"
     ]
    },
    {
     "name": "stderr",
     "output_type": "stream",
     "text": [
      "\n",
      " 13%|#3        | 9/69 [00:00<00:00, 84.77it/s]\u001b[A\n",
      " 22%|##1       | 15/69 [00:00<00:00, 74.98it/s]\u001b[A\n",
      " 33%|###3      | 23/69 [00:00<00:00, 74.94it/s]\u001b[A\n",
      " 42%|####2     | 29/69 [00:00<00:00, 69.26it/s]\u001b[A\n",
      " 54%|#####3    | 37/69 [00:00<00:00, 71.60it/s]\u001b[A\n",
      " 65%|######5   | 45/69 [00:00<00:00, 73.67it/s]\u001b[A\n",
      " 78%|#######8  | 54/69 [00:00<00:00, 77.78it/s]\u001b[A\n",
      " 91%|#########1| 63/69 [00:00<00:00, 81.08it/s]\u001b[A\n",
      " 44%|████▍     | 350/792 [00:16<01:05,  6.79it/s]A"
     ]
    },
    {
     "name": "stdout",
     "output_type": "stream",
     "text": [
      "{'ade': 0.52309793, 'fde': 1.1453285}\n",
      "\t last loss:0.000515142, eval on validation:['ade: 0.52309793', 'fde: 1.1453285'], (best ade:0.5125759 at step 900) \n"
     ]
    },
    {
     "name": "stderr",
     "output_type": "stream",
     "text": [
      " 82%|████████▏ | 647/792 [00:28<00:05, 24.66it/s]"
     ]
    },
    {
     "name": "stdout",
     "output_type": "stream",
     "text": [
      "\tsaving model 5400...\n"
     ]
    },
    {
     "name": "stderr",
     "output_type": "stream",
     "text": [
      "\n",
      "  0%|          | 0/69 [00:00<?, ?it/s]\u001b[A\n",
      " 13%|#3        | 9/69 [00:00<00:00, 87.26it/s]\u001b[A"
     ]
    },
    {
     "name": "stdout",
     "output_type": "stream",
     "text": [
      "\tdone\n",
      "Evaluating\n"
     ]
    },
    {
     "name": "stderr",
     "output_type": "stream",
     "text": [
      "\n",
      " 23%|##3       | 16/69 [00:00<00:00, 80.86it/s]\u001b[A\n",
      " 30%|###       | 21/69 [00:00<00:00, 67.36it/s]\u001b[A\n",
      " 39%|###9      | 27/69 [00:00<00:00, 64.51it/s]\u001b[A\n",
      " 49%|####9     | 34/69 [00:00<00:00, 65.16it/s]\u001b[A\n",
      " 61%|######    | 42/69 [00:00<00:00, 66.90it/s]\u001b[A\n",
      " 72%|#######2  | 50/69 [00:00<00:00, 69.70it/s]\u001b[A\n",
      " 86%|########5 | 59/69 [00:00<00:00, 72.94it/s]\u001b[A\n",
      " 97%|#########7| 67/69 [00:00<00:00, 74.17it/s]\u001b[A\n",
      " 82%|████████▏ | 650/792 [00:29<00:22,  6.23it/s]A"
     ]
    },
    {
     "name": "stdout",
     "output_type": "stream",
     "text": [
      "{'ade': 0.58120424, 'fde': 1.3169386}\n",
      "\t last loss:0.000405700, eval on validation:['ade: 0.58120424', 'fde: 1.3169386'], (best ade:0.5125759 at step 900) \n"
     ]
    },
    {
     "name": "stderr",
     "output_type": "stream",
     "text": [
      "100%|██████████| 792/792 [00:35<00:00, 22.49it/s]\n",
      "  0%|          | 1/792 [00:00<01:32,  8.51it/s]"
     ]
    },
    {
     "name": "stdout",
     "output_type": "stream",
     "text": [
      "('Epoca 8.', 'lr:', 0.0012282502)\n"
     ]
    },
    {
     "name": "stderr",
     "output_type": "stream",
     "text": [
      " 19%|█▉        | 154/792 [00:06<00:24, 26.13it/s]\n",
      "  0%|          | 0/69 [00:00<?, ?it/s]\u001b[A"
     ]
    },
    {
     "name": "stdout",
     "output_type": "stream",
     "text": [
      "\tsaving model 5700...\n",
      "\tdone\n",
      "Evaluating\n"
     ]
    },
    {
     "name": "stderr",
     "output_type": "stream",
     "text": [
      "\n",
      " 10%|#         | 7/69 [00:00<00:00, 65.71it/s]\u001b[A\n",
      " 19%|#8        | 13/69 [00:00<00:00, 62.38it/s]\u001b[A\n",
      " 30%|###       | 21/69 [00:00<00:00, 64.57it/s]\u001b[A\n",
      " 41%|####      | 28/69 [00:00<00:00, 64.96it/s]\u001b[A\n",
      " 52%|#####2    | 36/69 [00:00<00:00, 68.12it/s]\u001b[A\n",
      " 65%|######5   | 45/69 [00:00<00:00, 72.93it/s]\u001b[A\n",
      " 78%|#######8  | 54/69 [00:00<00:00, 76.21it/s]\u001b[A\n",
      " 90%|########9 | 62/69 [00:00<00:00, 76.86it/s]\u001b[A\n",
      " 20%|█▉        | 157/792 [00:07<01:37,  6.49it/s]A"
     ]
    },
    {
     "name": "stdout",
     "output_type": "stream",
     "text": [
      "{'ade': 0.5348469, 'fde': 1.1803745}\n",
      "\t last loss:0.000403755, eval on validation:['ade: 0.5348469', 'fde: 1.1803745'], (best ade:0.5125759 at step 900) \n"
     ]
    },
    {
     "name": "stderr",
     "output_type": "stream",
     "text": [
      " 57%|█████▋    | 453/792 [00:20<00:13, 24.80it/s]\n",
      "  0%|          | 0/69 [00:00<?, ?it/s]\u001b[A"
     ]
    },
    {
     "name": "stdout",
     "output_type": "stream",
     "text": [
      "\tsaving model 6000...\n",
      "\tdone\n",
      "Evaluating\n"
     ]
    },
    {
     "name": "stderr",
     "output_type": "stream",
     "text": [
      "\n",
      " 13%|#3        | 9/69 [00:00<00:00, 82.00it/s]\u001b[A\n",
      " 23%|##3       | 16/69 [00:00<00:00, 77.80it/s]\u001b[A\n",
      " 32%|###1      | 22/69 [00:00<00:00, 68.93it/s]\u001b[A\n",
      " 41%|####      | 28/69 [00:00<00:00, 65.15it/s]\u001b[A\n",
      " 51%|#####     | 35/69 [00:00<00:00, 65.58it/s]\u001b[A\n",
      " 61%|######    | 42/69 [00:00<00:00, 66.51it/s]\u001b[A\n",
      " 74%|#######3  | 51/69 [00:00<00:00, 70.85it/s]\u001b[A\n",
      " 87%|########6 | 60/69 [00:00<00:00, 74.11it/s]\u001b[A\n",
      " 99%|#########8| 68/69 [00:00<00:00, 75.23it/s]\u001b[A\n",
      " 58%|█████▊    | 459/792 [00:22<00:41,  8.08it/s]A"
     ]
    },
    {
     "name": "stdout",
     "output_type": "stream",
     "text": [
      "{'ade': 0.5151577, 'fde': 1.1122762}\n",
      "\t last loss:0.000393522, eval on validation:['ade: 0.5151577', 'fde: 1.1122762'], (best ade:0.5125759 at step 900) \n"
     ]
    },
    {
     "name": "stderr",
     "output_type": "stream",
     "text": [
      " 95%|█████████▌| 755/792 [00:34<00:01, 25.90it/s]\n",
      "  0%|          | 0/69 [00:00<?, ?it/s]\u001b[A"
     ]
    },
    {
     "name": "stdout",
     "output_type": "stream",
     "text": [
      "\tsaving model 6300...\n",
      "\tdone\n",
      "Evaluating\n"
     ]
    },
    {
     "name": "stderr",
     "output_type": "stream",
     "text": [
      "\n",
      " 14%|#4        | 10/69 [00:00<00:00, 92.77it/s]\u001b[A\n",
      " 25%|##4       | 17/69 [00:00<00:00, 81.79it/s]\u001b[A\n",
      " 39%|###9      | 27/69 [00:00<00:00, 84.54it/s]\u001b[A\n",
      " 52%|#####2    | 36/69 [00:00<00:00, 85.30it/s]\u001b[A\n",
      " 64%|######3   | 44/69 [00:00<00:00, 82.70it/s]\u001b[A\n",
      " 77%|#######6  | 53/69 [00:00<00:00, 83.13it/s]\u001b[A\n",
      " 88%|########8 | 61/69 [00:00<00:00, 80.30it/s]\u001b[A\n",
      " 96%|█████████▌| 758/792 [00:35<00:04,  6.92it/s]A"
     ]
    },
    {
     "name": "stdout",
     "output_type": "stream",
     "text": [
      "{'ade': 0.5299345, 'fde': 1.1561688}\n",
      "\t last loss:0.000330637, eval on validation:['ade: 0.5299345', 'fde: 1.1561688'], (best ade:0.5125759 at step 900) \n"
     ]
    },
    {
     "name": "stderr",
     "output_type": "stream",
     "text": [
      "100%|██████████| 792/792 [00:37<00:00, 21.36it/s]\n",
      "  0%|          | 1/792 [00:00<01:24,  9.40it/s]"
     ]
    },
    {
     "name": "stdout",
     "output_type": "stream",
     "text": [
      "('Epoca 9.', 'lr:', 0.0010440127)\n"
     ]
    },
    {
     "name": "stderr",
     "output_type": "stream",
     "text": [
      " 33%|███▎      | 263/792 [00:10<00:20, 25.76it/s]\n",
      "  0%|          | 0/69 [00:00<?, ?it/s]\u001b[A"
     ]
    },
    {
     "name": "stdout",
     "output_type": "stream",
     "text": [
      "\tsaving model 6600...\n",
      "\tdone\n",
      "Evaluating\n"
     ]
    },
    {
     "name": "stderr",
     "output_type": "stream",
     "text": [
      "\n",
      " 13%|#3        | 9/69 [00:00<00:00, 89.77it/s]\u001b[A\n",
      " 28%|##7       | 19/69 [00:00<00:00, 89.18it/s]\u001b[A\n",
      " 38%|###7      | 26/69 [00:00<00:00, 82.01it/s]\u001b[A\n",
      " 51%|#####     | 35/69 [00:00<00:00, 82.49it/s]\u001b[A\n",
      " 64%|######3   | 44/69 [00:00<00:00, 83.21it/s]\u001b[A\n",
      " 78%|#######8  | 54/69 [00:00<00:00, 85.42it/s]\u001b[A\n",
      " 90%|########9 | 62/69 [00:00<00:00, 83.07it/s]\u001b[A\n",
      " 34%|███▎      | 266/792 [00:11<01:13,  7.11it/s]A"
     ]
    },
    {
     "name": "stdout",
     "output_type": "stream",
     "text": [
      "{'ade': 0.5248138, 'fde': 1.146094}\n",
      "\t last loss:0.000305876, eval on validation:['ade: 0.5248138', 'fde: 1.146094'], (best ade:0.5125759 at step 900) \n"
     ]
    },
    {
     "name": "stderr",
     "output_type": "stream",
     "text": [
      " 71%|███████   | 563/792 [00:27<00:11, 20.68it/s]\n",
      "  0%|          | 0/69 [00:00<?, ?it/s]\u001b[A"
     ]
    },
    {
     "name": "stdout",
     "output_type": "stream",
     "text": [
      "\tsaving model 6900...\n",
      "\tdone\n",
      "Evaluating\n"
     ]
    },
    {
     "name": "stderr",
     "output_type": "stream",
     "text": [
      "\n",
      "  9%|8         | 6/69 [00:00<00:01, 55.13it/s]\u001b[A\n",
      " 19%|#8        | 13/69 [00:00<00:00, 57.58it/s]\u001b[A\n",
      " 26%|##6       | 18/69 [00:00<00:00, 54.21it/s]\u001b[A\n",
      " 36%|###6      | 25/69 [00:00<00:00, 56.80it/s]\u001b[A\n",
      " 51%|#####     | 35/69 [00:00<00:00, 64.20it/s]\u001b[A\n",
      " 62%|######2   | 43/69 [00:00<00:00, 67.17it/s]\u001b[A\n",
      " 77%|#######6  | 53/69 [00:00<00:00, 73.35it/s]\u001b[A\n",
      " 90%|########9 | 62/69 [00:00<00:00, 77.50it/s]\u001b[A\n",
      " 71%|███████▏  | 566/792 [00:28<00:36,  6.23it/s]A"
     ]
    },
    {
     "name": "stdout",
     "output_type": "stream",
     "text": [
      "{'ade': 0.55474937, 'fde': 1.2457453}\n",
      "\t last loss:0.000593498, eval on validation:['ade: 0.55474937', 'fde: 1.2457453'], (best ade:0.5125759 at step 900) \n"
     ]
    },
    {
     "name": "stderr",
     "output_type": "stream",
     "text": [
      "100%|██████████| 792/792 [00:37<00:00, 21.24it/s]\n",
      "  0%|          | 1/792 [00:00<01:22,  9.55it/s]"
     ]
    },
    {
     "name": "stdout",
     "output_type": "stream",
     "text": [
      "('Epoca 10.', 'lr:', 0.0010440127)\n"
     ]
    },
    {
     "name": "stderr",
     "output_type": "stream",
     "text": [
      "  9%|▉         | 70/792 [00:02<00:28, 25.14it/s]\n",
      "  0%|          | 0/69 [00:00<?, ?it/s]\u001b[A"
     ]
    },
    {
     "name": "stdout",
     "output_type": "stream",
     "text": [
      "\tsaving model 7200...\n",
      "\tdone\n",
      "Evaluating\n"
     ]
    },
    {
     "name": "stderr",
     "output_type": "stream",
     "text": [
      "\n",
      " 13%|#3        | 9/69 [00:00<00:00, 86.25it/s]\u001b[A\n",
      " 25%|##4       | 17/69 [00:00<00:00, 79.98it/s]\u001b[A\n",
      " 33%|###3      | 23/69 [00:00<00:00, 71.65it/s]\u001b[A\n",
      " 42%|####2     | 29/69 [00:00<00:00, 66.66it/s]\u001b[A\n",
      " 54%|#####3    | 37/69 [00:00<00:00, 69.73it/s]\u001b[A\n",
      " 65%|######5   | 45/69 [00:00<00:00, 72.30it/s]\u001b[A\n",
      " 77%|#######6  | 53/69 [00:00<00:00, 73.49it/s]\u001b[A\n",
      " 90%|########9 | 62/69 [00:00<00:00, 76.67it/s]\u001b[A\n",
      "  9%|▉         | 73/792 [00:04<01:51,  6.43it/s][A"
     ]
    },
    {
     "name": "stdout",
     "output_type": "stream",
     "text": [
      "{'ade': 0.5464542, 'fde': 1.227231}\n",
      "\t last loss:0.000643990, eval on validation:['ade: 0.5464542', 'fde: 1.227231'], (best ade:0.5125759 at step 900) \n"
     ]
    },
    {
     "name": "stderr",
     "output_type": "stream",
     "text": [
      " 47%|████▋     | 370/792 [00:15<00:15, 26.94it/s]\n",
      "  0%|          | 0/69 [00:00<?, ?it/s]\u001b[A"
     ]
    },
    {
     "name": "stdout",
     "output_type": "stream",
     "text": [
      "\tsaving model 7500...\n",
      "\tdone\n",
      "Evaluating\n"
     ]
    },
    {
     "name": "stderr",
     "output_type": "stream",
     "text": [
      "\n",
      " 13%|#3        | 9/69 [00:00<00:00, 86.57it/s]\u001b[A\n",
      " 23%|##3       | 16/69 [00:00<00:00, 78.00it/s]\u001b[A\n",
      " 33%|###3      | 23/69 [00:00<00:00, 74.98it/s]\u001b[A\n",
      " 45%|####4     | 31/69 [00:00<00:00, 75.49it/s]\u001b[A\n",
      " 58%|#####7    | 40/69 [00:00<00:00, 77.57it/s]\u001b[A\n",
      " 71%|#######1  | 49/69 [00:00<00:00, 80.65it/s]\u001b[A\n",
      " 86%|########5 | 59/69 [00:00<00:00, 84.40it/s]\u001b[A\n",
      " 99%|#########8| 68/69 [00:00<00:00, 85.08it/s]\u001b[A\n",
      " 47%|████▋     | 373/792 [00:16<01:00,  6.92it/s]A"
     ]
    },
    {
     "name": "stdout",
     "output_type": "stream",
     "text": [
      "{'ade': 0.57229376, 'fde': 1.2754066}\n",
      "\t last loss:0.000536485, eval on validation:['ade: 0.57229376', 'fde: 1.2754066'], (best ade:0.5125759 at step 900) \n"
     ]
    },
    {
     "name": "stderr",
     "output_type": "stream",
     "text": [
      " 85%|████████▍ | 670/792 [00:28<00:04, 25.04it/s]\n",
      "  0%|          | 0/69 [00:00<?, ?it/s]\u001b[A"
     ]
    },
    {
     "name": "stdout",
     "output_type": "stream",
     "text": [
      "\tsaving model 7800...\n",
      "\tdone\n",
      "Evaluating\n"
     ]
    },
    {
     "name": "stderr",
     "output_type": "stream",
     "text": [
      "\n",
      " 13%|#3        | 9/69 [00:00<00:00, 82.07it/s]\u001b[A\n",
      " 23%|##3       | 16/69 [00:00<00:00, 76.57it/s]\u001b[A\n",
      " 33%|###3      | 23/69 [00:00<00:00, 72.86it/s]\u001b[A\n",
      " 45%|####4     | 31/69 [00:00<00:00, 74.86it/s]\u001b[A\n",
      " 57%|#####6    | 39/69 [00:00<00:00, 75.69it/s]\u001b[A\n",
      " 71%|#######1  | 49/69 [00:00<00:00, 80.25it/s]\u001b[A\n",
      " 86%|########5 | 59/69 [00:00<00:00, 84.21it/s]\u001b[A\n",
      " 85%|████████▌ | 676/792 [00:29<00:13,  8.87it/s]A"
     ]
    },
    {
     "name": "stdout",
     "output_type": "stream",
     "text": [
      "{'ade': 0.5325783, 'fde': 1.1660048}\n",
      "\t last loss:0.000536452, eval on validation:['ade: 0.5325783', 'fde: 1.1660048'], (best ade:0.5125759 at step 900) \n"
     ]
    },
    {
     "name": "stderr",
     "output_type": "stream",
     "text": [
      "100%|██████████| 792/792 [00:34<00:00, 22.91it/s]\n",
      "  0%|          | 3/792 [00:00<00:33, 23.36it/s]"
     ]
    },
    {
     "name": "stdout",
     "output_type": "stream",
     "text": [
      "('Epoca 11.', 'lr:', 0.0008874108)\n"
     ]
    },
    {
     "name": "stderr",
     "output_type": "stream",
     "text": [
      " 22%|██▏       | 177/792 [00:06<00:24, 25.35it/s]\n",
      "  0%|          | 0/69 [00:00<?, ?it/s]\u001b[A"
     ]
    },
    {
     "name": "stdout",
     "output_type": "stream",
     "text": [
      "\tsaving model 8100...\n",
      "\tdone\n",
      "Evaluating\n"
     ]
    },
    {
     "name": "stderr",
     "output_type": "stream",
     "text": [
      "\n",
      " 13%|#3        | 9/69 [00:00<00:00, 84.02it/s]\u001b[A\n",
      " 26%|##6       | 18/69 [00:00<00:00, 84.20it/s]\u001b[A\n",
      " 38%|###7      | 26/69 [00:00<00:00, 81.60it/s]\u001b[A\n",
      " 51%|#####     | 35/69 [00:00<00:00, 82.47it/s]\u001b[A\n",
      " 62%|######2   | 43/69 [00:00<00:00, 81.49it/s]\u001b[A\n",
      " 75%|#######5  | 52/69 [00:00<00:00, 83.01it/s]\u001b[A\n",
      " 88%|########8 | 61/69 [00:00<00:00, 83.35it/s]\u001b[A\n",
      "100%|##########| 69/69 [00:00<00:00, 82.85it/s]\u001b[A"
     ]
    },
    {
     "name": "stdout",
     "output_type": "stream",
     "text": [
      "{'ade': 0.50087357, 'fde': 1.0923029}\n",
      "\t last loss:0.000717163, eval on validation:['ade: 0.50087357', 'fde: 1.0923029'], (best ade:0.5125759 at step 900) \n",
      "\t saving best model...\n",
      "\t done.\n"
     ]
    },
    {
     "name": "stderr",
     "output_type": "stream",
     "text": [
      " 60%|██████    | 478/792 [00:21<00:15, 19.91it/s]"
     ]
    },
    {
     "name": "stdout",
     "output_type": "stream",
     "text": [
      "\tsaving model 8400...\n"
     ]
    },
    {
     "name": "stderr",
     "output_type": "stream",
     "text": [
      "\n",
      "  0%|          | 0/69 [00:00<?, ?it/s]\u001b[A\n",
      "  6%|5         | 4/69 [00:00<00:01, 34.61it/s]\u001b[A"
     ]
    },
    {
     "name": "stdout",
     "output_type": "stream",
     "text": [
      "\tdone\n",
      "Evaluating\n"
     ]
    },
    {
     "name": "stderr",
     "output_type": "stream",
     "text": [
      "\n",
      " 10%|#         | 7/69 [00:00<00:01, 32.71it/s]\u001b[A\n",
      " 14%|#4        | 10/69 [00:00<00:01, 30.70it/s]\u001b[A\n",
      " 19%|#8        | 13/69 [00:00<00:01, 29.35it/s]\u001b[A\n",
      " 29%|##8       | 20/69 [00:00<00:01, 35.00it/s]\u001b[A\n",
      " 39%|###9      | 27/69 [00:00<00:01, 40.87it/s]\u001b[A\n",
      " 48%|####7     | 33/69 [00:00<00:00, 45.04it/s]\u001b[A\n",
      " 57%|#####6    | 39/69 [00:00<00:00, 48.47it/s]\u001b[A\n",
      " 67%|######6   | 46/69 [00:00<00:00, 52.55it/s]\u001b[A\n",
      " 75%|#######5  | 52/69 [00:01<00:00, 53.19it/s]\u001b[A\n",
      " 87%|########6 | 60/69 [00:01<00:00, 58.27it/s]\u001b[A\n",
      " 97%|#########7| 67/69 [00:01<00:00, 61.07it/s]\u001b[A\n",
      " 61%|██████    | 483/792 [00:22<01:08,  4.52it/s]A"
     ]
    },
    {
     "name": "stdout",
     "output_type": "stream",
     "text": [
      "{'ade': 0.53531957, 'fde': 1.1814245}\n",
      "\t last loss:0.000350138, eval on validation:['ade: 0.53531957', 'fde: 1.1814245'], (best ade:0.50087357 at step 8100) \n"
     ]
    },
    {
     "name": "stderr",
     "output_type": "stream",
     "text": [
      " 98%|█████████▊| 777/792 [00:34<00:00, 25.50it/s]\n",
      "  0%|          | 0/69 [00:00<?, ?it/s]\u001b[A"
     ]
    },
    {
     "name": "stdout",
     "output_type": "stream",
     "text": [
      "\tsaving model 8700...\n",
      "\tdone\n",
      "Evaluating\n"
     ]
    },
    {
     "name": "stderr",
     "output_type": "stream",
     "text": [
      "\n",
      " 13%|#3        | 9/69 [00:00<00:00, 83.47it/s]\u001b[A\n",
      " 22%|##1       | 15/69 [00:00<00:00, 73.70it/s]\u001b[A\n",
      " 32%|###1      | 22/69 [00:00<00:00, 68.19it/s]\u001b[A\n",
      " 43%|####3     | 30/69 [00:00<00:00, 69.82it/s]\u001b[A\n",
      " 54%|#####3    | 37/69 [00:00<00:00, 68.68it/s]\u001b[A\n",
      " 67%|######6   | 46/69 [00:00<00:00, 72.63it/s]\u001b[A\n",
      " 80%|#######9  | 55/69 [00:00<00:00, 76.05it/s]\u001b[A\n",
      " 93%|#########2| 64/69 [00:00<00:00, 78.71it/s]\u001b[A\n",
      " 99%|█████████▉| 783/792 [00:36<00:01,  8.36it/s]A"
     ]
    },
    {
     "name": "stdout",
     "output_type": "stream",
     "text": [
      "{'ade': 0.5012129, 'fde': 1.0906936}\n",
      "\t last loss:0.000521927, eval on validation:['ade: 0.5012129', 'fde: 1.0906936'], (best ade:0.50087357 at step 8100) \n"
     ]
    },
    {
     "name": "stderr",
     "output_type": "stream",
     "text": [
      "100%|██████████| 792/792 [00:36<00:00, 14.46it/s]\n",
      "  0%|          | 3/792 [00:00<00:35, 22.33it/s]"
     ]
    },
    {
     "name": "stdout",
     "output_type": "stream",
     "text": [
      "('Epoca 12.', 'lr:', 0.0008874108)\n"
     ]
    },
    {
     "name": "stderr",
     "output_type": "stream",
     "text": [
      " 36%|███▌      | 285/792 [00:11<00:20, 24.41it/s]\n",
      "  0%|          | 0/69 [00:00<?, ?it/s]\u001b[A"
     ]
    },
    {
     "name": "stdout",
     "output_type": "stream",
     "text": [
      "\tsaving model 9000...\n",
      "\tdone\n",
      "Evaluating\n"
     ]
    },
    {
     "name": "stderr",
     "output_type": "stream",
     "text": [
      "\n",
      " 13%|#3        | 9/69 [00:00<00:00, 88.49it/s]\u001b[A\n",
      " 25%|##4       | 17/69 [00:00<00:00, 82.31it/s]\u001b[A\n",
      " 36%|###6      | 25/69 [00:00<00:00, 78.08it/s]\u001b[A\n",
      " 46%|####6     | 32/69 [00:00<00:00, 75.22it/s]\u001b[A\n",
      " 61%|######    | 42/69 [00:00<00:00, 79.96it/s]\u001b[A\n",
      " 74%|#######3  | 51/69 [00:00<00:00, 81.04it/s]\u001b[A\n",
      " 87%|########6 | 60/69 [00:00<00:00, 83.20it/s]\u001b[A\n",
      " 37%|███▋      | 291/792 [00:12<00:57,  8.77it/s]A"
     ]
    },
    {
     "name": "stdout",
     "output_type": "stream",
     "text": [
      "{'ade': 0.53390753, 'fde': 1.1741022}\n",
      "\t last loss:0.000503317, eval on validation:['ade: 0.53390753', 'fde: 1.1741022'], (best ade:0.50087357 at step 8100) \n"
     ]
    },
    {
     "name": "stderr",
     "output_type": "stream",
     "text": [
      " 74%|███████▍  | 585/792 [00:24<00:08, 24.81it/s]"
     ]
    },
    {
     "name": "stdout",
     "output_type": "stream",
     "text": [
      "\tsaving model 9300...\n"
     ]
    },
    {
     "name": "stderr",
     "output_type": "stream",
     "text": [
      "\n",
      "  0%|          | 0/69 [00:00<?, ?it/s]\u001b[A\n",
      " 12%|#1        | 8/69 [00:00<00:00, 79.34it/s]\u001b[A"
     ]
    },
    {
     "name": "stdout",
     "output_type": "stream",
     "text": [
      "\tdone\n",
      "Evaluating\n"
     ]
    },
    {
     "name": "stderr",
     "output_type": "stream",
     "text": [
      "\n",
      " 23%|##3       | 16/69 [00:00<00:00, 78.38it/s]\u001b[A\n",
      " 33%|###3      | 23/69 [00:00<00:00, 73.36it/s]\u001b[A\n",
      " 46%|####6     | 32/69 [00:00<00:00, 76.25it/s]\u001b[A\n",
      " 59%|#####9    | 41/69 [00:00<00:00, 78.14it/s]\u001b[A\n",
      " 71%|#######1  | 49/69 [00:00<00:00, 77.29it/s]\u001b[A\n",
      " 84%|########4 | 58/69 [00:00<00:00, 78.96it/s]\u001b[A\n",
      " 97%|#########7| 67/69 [00:00<00:00, 80.38it/s]\u001b[A\n",
      " 75%|███████▍  | 591/792 [00:25<00:23,  8.47it/s]A"
     ]
    },
    {
     "name": "stdout",
     "output_type": "stream",
     "text": [
      "{'ade': 0.5286736, 'fde': 1.164574}\n",
      "\t last loss:0.000690485, eval on validation:['ade: 0.5286736', 'fde: 1.164574'], (best ade:0.50087357 at step 8100) \n"
     ]
    },
    {
     "name": "stderr",
     "output_type": "stream",
     "text": [
      "100%|██████████| 792/792 [00:33<00:00, 24.51it/s]\n",
      "  0%|          | 2/792 [00:00<00:42, 18.51it/s]"
     ]
    },
    {
     "name": "stdout",
     "output_type": "stream",
     "text": [
      "('Epoca 13.', 'lr:', 0.0007542992)\n"
     ]
    },
    {
     "name": "stderr",
     "output_type": "stream",
     "text": [
      " 12%|█▏        | 95/792 [00:03<00:25, 27.04it/s]\n",
      "  0%|          | 0/69 [00:00<?, ?it/s]\u001b[A"
     ]
    },
    {
     "name": "stdout",
     "output_type": "stream",
     "text": [
      "\tsaving model 9600...\n",
      "\tdone\n",
      "Evaluating\n"
     ]
    },
    {
     "name": "stderr",
     "output_type": "stream",
     "text": [
      "\n",
      " 14%|#4        | 10/69 [00:00<00:00, 89.64it/s]\u001b[A\n",
      " 25%|##4       | 17/69 [00:00<00:00, 81.48it/s]\u001b[A\n",
      " 33%|###3      | 23/69 [00:00<00:00, 72.88it/s]\u001b[A\n",
      " 42%|####2     | 29/69 [00:00<00:00, 67.84it/s]\u001b[A\n",
      " 54%|#####3    | 37/69 [00:00<00:00, 70.98it/s]\u001b[A\n",
      " 65%|######5   | 45/69 [00:00<00:00, 71.57it/s]\u001b[A\n",
      " 78%|#######8  | 54/69 [00:00<00:00, 74.83it/s]\u001b[A\n",
      " 91%|#########1| 63/69 [00:00<00:00, 77.53it/s]\u001b[A\n",
      "100%|##########| 69/69 [00:00<00:00, 74.84it/s]\u001b[A"
     ]
    },
    {
     "name": "stdout",
     "output_type": "stream",
     "text": [
      "{'ade': 0.48787457, 'fde': 1.0554123}\n",
      "\t last loss:0.000722375, eval on validation:['ade: 0.48787457', 'fde: 1.0554123'], (best ade:0.50087357 at step 8100) \n",
      "\t saving best model...\n",
      "\t done.\n"
     ]
    },
    {
     "name": "stderr",
     "output_type": "stream",
     "text": [
      " 50%|████▉     | 395/792 [00:16<00:14, 26.53it/s]\n",
      "  0%|          | 0/69 [00:00<?, ?it/s]\u001b[A"
     ]
    },
    {
     "name": "stdout",
     "output_type": "stream",
     "text": [
      "\tsaving model 9900...\n",
      "\tdone\n",
      "Evaluating\n"
     ]
    },
    {
     "name": "stderr",
     "output_type": "stream",
     "text": [
      "\n",
      " 14%|#4        | 10/69 [00:00<00:00, 93.69it/s]\u001b[A\n",
      " 26%|##6       | 18/69 [00:00<00:00, 86.60it/s]\u001b[A\n",
      " 38%|###7      | 26/69 [00:00<00:00, 81.67it/s]\u001b[A\n",
      " 48%|####7     | 33/69 [00:00<00:00, 77.62it/s]\u001b[A\n",
      " 61%|######    | 42/69 [00:00<00:00, 80.37it/s]\u001b[A\n",
      " 74%|#######3  | 51/69 [00:00<00:00, 81.84it/s]\u001b[A\n",
      " 88%|########8 | 61/69 [00:00<00:00, 85.18it/s]\u001b[A\n",
      " 50%|█████     | 398/792 [00:18<00:55,  7.10it/s]A"
     ]
    },
    {
     "name": "stdout",
     "output_type": "stream",
     "text": [
      "{'ade': 0.5058247, 'fde': 1.1017357}\n",
      "\t last loss:0.000496668, eval on validation:['ade: 0.5058247', 'fde: 1.1017357'], (best ade:0.48787457 at step 9600) \n"
     ]
    },
    {
     "name": "stderr",
     "output_type": "stream",
     "text": [
      " 88%|████████▊ | 695/792 [00:30<00:04, 23.23it/s]"
     ]
    },
    {
     "name": "stdout",
     "output_type": "stream",
     "text": [
      "\tsaving model 10200...\n"
     ]
    },
    {
     "name": "stderr",
     "output_type": "stream",
     "text": [
      "\n",
      "  0%|          | 0/69 [00:00<?, ?it/s]\u001b[A\n",
      " 12%|#1        | 8/69 [00:00<00:00, 79.69it/s]\u001b[A"
     ]
    },
    {
     "name": "stdout",
     "output_type": "stream",
     "text": [
      "\tdone\n",
      "Evaluating\n"
     ]
    },
    {
     "name": "stderr",
     "output_type": "stream",
     "text": [
      "\n",
      " 22%|##1       | 15/69 [00:00<00:00, 73.03it/s]\u001b[A\n",
      " 32%|###1      | 22/69 [00:00<00:00, 71.27it/s]\u001b[A\n",
      " 43%|####3     | 30/69 [00:00<00:00, 72.38it/s]\u001b[A\n",
      " 55%|#####5    | 38/69 [00:00<00:00, 73.11it/s]\u001b[A\n",
      " 65%|######5   | 45/69 [00:00<00:00, 71.22it/s]\u001b[A\n",
      " 77%|#######6  | 53/69 [00:00<00:00, 73.00it/s]\u001b[A\n",
      " 87%|########6 | 60/69 [00:00<00:00, 71.89it/s]\u001b[A\n",
      " 99%|#########8| 68/69 [00:00<00:00, 71.73it/s]\u001b[A\n",
      " 88%|████████▊ | 698/792 [00:32<00:15,  6.09it/s]A"
     ]
    },
    {
     "name": "stdout",
     "output_type": "stream",
     "text": [
      "{'ade': 0.51138824, 'fde': 1.1162416}\n",
      "\t last loss:0.000320615, eval on validation:['ade: 0.51138824', 'fde: 1.1162416'], (best ade:0.48787457 at step 9600) \n"
     ]
    },
    {
     "name": "stderr",
     "output_type": "stream",
     "text": [
      "100%|██████████| 792/792 [00:36<00:00, 21.89it/s]\n",
      "  0%|          | 3/792 [00:00<00:30, 25.53it/s]"
     ]
    },
    {
     "name": "stdout",
     "output_type": "stream",
     "text": [
      "('Epoca 14.', 'lr:', 0.0007542992)\n"
     ]
    },
    {
     "name": "stderr",
     "output_type": "stream",
     "text": [
      " 25%|██▌       | 201/792 [00:07<00:23, 24.63it/s]\n",
      "  0%|          | 0/69 [00:00<?, ?it/s]\u001b[A"
     ]
    },
    {
     "name": "stdout",
     "output_type": "stream",
     "text": [
      "\tsaving model 10500...\n",
      "\tdone\n",
      "Evaluating\n"
     ]
    },
    {
     "name": "stderr",
     "output_type": "stream",
     "text": [
      "\n",
      " 14%|#4        | 10/69 [00:00<00:00, 93.14it/s]\u001b[A\n",
      " 26%|##6       | 18/69 [00:00<00:00, 84.10it/s]\u001b[A\n",
      " 36%|###6      | 25/69 [00:00<00:00, 76.57it/s]\u001b[A\n",
      " 48%|####7     | 33/69 [00:00<00:00, 76.85it/s]\u001b[A\n",
      " 61%|######    | 42/69 [00:00<00:00, 80.09it/s]\u001b[A\n",
      " 72%|#######2  | 50/69 [00:00<00:00, 77.65it/s]\u001b[A\n",
      " 87%|########6 | 60/69 [00:00<00:00, 81.31it/s]\u001b[A\n",
      " 26%|██▌       | 207/792 [00:09<01:06,  8.74it/s]A"
     ]
    },
    {
     "name": "stdout",
     "output_type": "stream",
     "text": [
      "{'ade': 0.50743234, 'fde': 1.092672}\n",
      "\t last loss:0.000458225, eval on validation:['ade: 0.50743234', 'fde: 1.092672'], (best ade:0.48787457 at step 9600) \n"
     ]
    },
    {
     "name": "stderr",
     "output_type": "stream",
     "text": [
      " 63%|██████▎   | 501/792 [00:20<00:11, 25.36it/s]\n",
      "  0%|          | 0/69 [00:00<?, ?it/s]\u001b[A"
     ]
    },
    {
     "name": "stdout",
     "output_type": "stream",
     "text": [
      "\tsaving model 10800...\n",
      "\tdone\n",
      "Evaluating\n"
     ]
    },
    {
     "name": "stderr",
     "output_type": "stream",
     "text": [
      "\n",
      " 13%|#3        | 9/69 [00:00<00:00, 85.12it/s]\u001b[A\n",
      " 22%|##1       | 15/69 [00:00<00:00, 74.20it/s]\u001b[A\n",
      " 32%|###1      | 22/69 [00:00<00:00, 70.36it/s]\u001b[A\n",
      " 43%|####3     | 30/69 [00:00<00:00, 71.34it/s]\u001b[A\n",
      " 54%|#####3    | 37/69 [00:00<00:00, 69.90it/s]\u001b[A\n",
      " 67%|######6   | 46/69 [00:00<00:00, 73.64it/s]\u001b[A\n",
      " 80%|#######9  | 55/69 [00:00<00:00, 76.71it/s]\u001b[A\n",
      " 91%|#########1| 63/69 [00:00<00:00, 77.06it/s]\u001b[A\n",
      " 64%|██████▍   | 507/792 [00:22<00:34,  8.37it/s]A"
     ]
    },
    {
     "name": "stdout",
     "output_type": "stream",
     "text": [
      "{'ade': 0.48800215, 'fde': 1.0531694}\n",
      "\t last loss:0.000408856, eval on validation:['ade: 0.48800215', 'fde: 1.0531694'], (best ade:0.48787457 at step 9600) \n"
     ]
    },
    {
     "name": "stderr",
     "output_type": "stream",
     "text": [
      "100%|██████████| 792/792 [00:33<00:00, 26.73it/s]\n",
      "  0%|          | 1/792 [00:00<01:28,  8.90it/s]"
     ]
    },
    {
     "name": "stdout",
     "output_type": "stream",
     "text": [
      "('Epoca 15.', 'lr:', 0.0006411543)\n"
     ]
    },
    {
     "name": "stderr",
     "output_type": "stream",
     "text": [
      "  1%|▏         | 10/792 [00:00<00:50, 15.42it/s]\n",
      "  0%|          | 0/69 [00:00<?, ?it/s]\u001b[A"
     ]
    },
    {
     "name": "stdout",
     "output_type": "stream",
     "text": [
      "\tsaving model 11100...\n",
      "\tdone\n",
      "Evaluating\n"
     ]
    },
    {
     "name": "stderr",
     "output_type": "stream",
     "text": [
      "\n",
      " 13%|#3        | 9/69 [00:00<00:00, 82.08it/s]\u001b[A\n",
      " 20%|##        | 14/69 [00:00<00:00, 66.03it/s]\u001b[A\n",
      " 28%|##7       | 19/69 [00:00<00:00, 57.57it/s]\u001b[A\n",
      " 33%|###3      | 23/69 [00:00<00:00, 50.63it/s]\u001b[A\n",
      " 43%|####3     | 30/69 [00:00<00:00, 54.83it/s]\u001b[A\n",
      " 55%|#####5    | 38/69 [00:00<00:00, 60.31it/s]\u001b[A\n",
      " 68%|######8   | 47/69 [00:00<00:00, 65.79it/s]\u001b[A\n",
      " 83%|########2 | 57/69 [00:00<00:00, 72.37it/s]\u001b[A\n",
      " 97%|#########7| 67/69 [00:00<00:00, 76.81it/s]\u001b[A\n",
      "100%|##########| 69/69 [00:00<00:00, 69.41it/s]\u001b[A"
     ]
    },
    {
     "name": "stdout",
     "output_type": "stream",
     "text": [
      "{'ade': 0.48504674, 'fde': 1.0417306}\n",
      "\t last loss:0.000427998, eval on validation:['ade: 0.48504674', 'fde: 1.0417306'], (best ade:0.48787457 at step 9600) \n",
      "\t saving best model...\n",
      "\t done.\n"
     ]
    },
    {
     "name": "stderr",
     "output_type": "stream",
     "text": [
      " 39%|███▉      | 309/792 [00:13<00:19, 24.98it/s]\n",
      "  0%|          | 0/69 [00:00<?, ?it/s]\u001b[A"
     ]
    },
    {
     "name": "stdout",
     "output_type": "stream",
     "text": [
      "\tsaving model 11400...\n",
      "\tdone\n",
      "Evaluating\n"
     ]
    },
    {
     "name": "stderr",
     "output_type": "stream",
     "text": [
      "\n",
      " 13%|#3        | 9/69 [00:00<00:00, 85.56it/s]\u001b[A\n",
      " 23%|##3       | 16/69 [00:00<00:00, 76.61it/s]\u001b[A\n",
      " 32%|###1      | 22/69 [00:00<00:00, 69.60it/s]\u001b[A\n",
      " 41%|####      | 28/69 [00:00<00:00, 63.46it/s]\u001b[A\n",
      " 51%|#####     | 35/69 [00:00<00:00, 64.04it/s]\u001b[A\n",
      " 59%|#####9    | 41/69 [00:00<00:00, 61.43it/s]\u001b[A\n",
      " 70%|######9   | 48/69 [00:00<00:00, 63.02it/s]\u001b[A\n",
      " 78%|#######8  | 54/69 [00:00<00:00, 61.90it/s]\u001b[A\n",
      " 88%|########8 | 61/69 [00:00<00:00, 63.19it/s]\u001b[A\n",
      " 99%|#########8| 68/69 [00:01<00:00, 63.68it/s]\u001b[A\n",
      " 40%|███▉      | 314/792 [00:15<01:05,  7.34it/s]A"
     ]
    },
    {
     "name": "stdout",
     "output_type": "stream",
     "text": [
      "{'ade': 0.5002584, 'fde': 1.088207}\n",
      "\t last loss:0.000343821, eval on validation:['ade: 0.5002584', 'fde: 1.088207'], (best ade:0.48504674 at step 11100) \n"
     ]
    },
    {
     "name": "stderr",
     "output_type": "stream",
     "text": [
      " 77%|███████▋  | 611/792 [00:28<00:06, 26.64it/s]\n",
      "  0%|          | 0/69 [00:00<?, ?it/s]\u001b[A"
     ]
    },
    {
     "name": "stdout",
     "output_type": "stream",
     "text": [
      "\tsaving model 11700...\n",
      "\tdone\n",
      "Evaluating\n"
     ]
    },
    {
     "name": "stderr",
     "output_type": "stream",
     "text": [
      "\n",
      " 14%|#4        | 10/69 [00:00<00:00, 95.34it/s]\u001b[A\n",
      " 26%|##6       | 18/69 [00:00<00:00, 88.07it/s]\u001b[A\n",
      " 38%|###7      | 26/69 [00:00<00:00, 85.16it/s]\u001b[A\n",
      " 52%|#####2    | 36/69 [00:00<00:00, 87.53it/s]\u001b[A\n",
      " 67%|######6   | 46/69 [00:00<00:00, 87.67it/s]\u001b[A\n",
      " 78%|#######8  | 54/69 [00:00<00:00, 84.31it/s]\u001b[A\n",
      " 91%|#########1| 63/69 [00:00<00:00, 84.81it/s]\u001b[A\n",
      " 78%|███████▊  | 614/792 [00:29<00:24,  7.28it/s]A"
     ]
    },
    {
     "name": "stdout",
     "output_type": "stream",
     "text": [
      "{'ade': 0.5255869, 'fde': 1.135811}\n",
      "\t last loss:0.000815875, eval on validation:['ade: 0.5255869', 'fde: 1.135811'], (best ade:0.48504674 at step 11100) \n"
     ]
    },
    {
     "name": "stderr",
     "output_type": "stream",
     "text": [
      "100%|██████████| 792/792 [00:36<00:00, 21.48it/s]\n",
      "  0%|          | 2/792 [00:00<00:53, 14.89it/s]"
     ]
    },
    {
     "name": "stdout",
     "output_type": "stream",
     "text": [
      "('Epoca 16.', 'lr:', 0.0006411543)\n"
     ]
    },
    {
     "name": "stderr",
     "output_type": "stream",
     "text": [
      " 15%|█▌        | 119/792 [00:04<00:27, 24.64it/s]\n",
      "  0%|          | 0/69 [00:00<?, ?it/s]\u001b[A"
     ]
    },
    {
     "name": "stdout",
     "output_type": "stream",
     "text": [
      "\tsaving model 12000...\n",
      "\tdone\n",
      "Evaluating\n"
     ]
    },
    {
     "name": "stderr",
     "output_type": "stream",
     "text": [
      "\n",
      " 13%|#3        | 9/69 [00:00<00:00, 86.50it/s]\u001b[A\n",
      " 25%|##4       | 17/69 [00:00<00:00, 82.25it/s]\u001b[A\n",
      " 35%|###4      | 24/69 [00:00<00:00, 73.79it/s]\u001b[A\n",
      " 43%|####3     | 30/69 [00:00<00:00, 66.71it/s]\u001b[A\n",
      " 55%|#####5    | 38/69 [00:00<00:00, 69.60it/s]\u001b[A\n",
      " 64%|######3   | 44/69 [00:00<00:00, 66.07it/s]\u001b[A\n",
      " 77%|#######6  | 53/69 [00:00<00:00, 70.80it/s]\u001b[A\n",
      " 91%|#########1| 63/69 [00:00<00:00, 76.20it/s]\u001b[A\n",
      " 15%|█▌        | 122/792 [00:06<01:42,  6.53it/s]A"
     ]
    },
    {
     "name": "stdout",
     "output_type": "stream",
     "text": [
      "{'ade': 0.51254, 'fde': 1.1156474}\n",
      "\t last loss:0.000248624, eval on validation:['ade: 0.51254', 'fde: 1.1156474'], (best ade:0.48504674 at step 11100) \n"
     ]
    },
    {
     "name": "stderr",
     "output_type": "stream",
     "text": [
      " 53%|█████▎    | 419/792 [00:18<00:16, 22.29it/s]"
     ]
    },
    {
     "name": "stdout",
     "output_type": "stream",
     "text": [
      "\tsaving model 12300...\n"
     ]
    },
    {
     "name": "stderr",
     "output_type": "stream",
     "text": [
      "\n",
      "  0%|          | 0/69 [00:00<?, ?it/s]\u001b[A\n",
      " 12%|#1        | 8/69 [00:00<00:00, 77.16it/s]\u001b[A"
     ]
    },
    {
     "name": "stdout",
     "output_type": "stream",
     "text": [
      "\tdone\n",
      "Evaluating\n"
     ]
    },
    {
     "name": "stderr",
     "output_type": "stream",
     "text": [
      "\n",
      " 20%|##        | 14/69 [00:00<00:00, 66.12it/s]\u001b[A\n",
      " 30%|###       | 21/69 [00:00<00:00, 64.50it/s]\u001b[A\n",
      " 39%|###9      | 27/69 [00:00<00:00, 62.06it/s]\u001b[A\n",
      " 51%|#####     | 35/69 [00:00<00:00, 64.42it/s]\u001b[A\n",
      " 61%|######    | 42/69 [00:00<00:00, 64.47it/s]\u001b[A\n",
      " 72%|#######2  | 50/69 [00:00<00:00, 66.49it/s]\u001b[A\n",
      " 84%|########4 | 58/69 [00:00<00:00, 67.70it/s]\u001b[A\n",
      " 96%|#########5| 66/69 [00:00<00:00, 70.35it/s]\u001b[A\n",
      " 53%|█████▎    | 422/792 [00:20<01:03,  5.83it/s]A"
     ]
    },
    {
     "name": "stdout",
     "output_type": "stream",
     "text": [
      "{'ade': 0.51703066, 'fde': 1.1304336}\n",
      "\t last loss:0.000471921, eval on validation:['ade: 0.51703066', 'fde: 1.1304336'], (best ade:0.48504674 at step 11100) \n"
     ]
    },
    {
     "name": "stderr",
     "output_type": "stream",
     "text": [
      " 91%|█████████ | 718/792 [00:31<00:02, 25.05it/s]\n",
      "  0%|          | 0/69 [00:00<?, ?it/s]\u001b[A"
     ]
    },
    {
     "name": "stdout",
     "output_type": "stream",
     "text": [
      "\tsaving model 12600...\n",
      "\tdone\n",
      "Evaluating\n"
     ]
    },
    {
     "name": "stderr",
     "output_type": "stream",
     "text": [
      "\n",
      " 13%|#3        | 9/69 [00:00<00:00, 84.18it/s]\u001b[A\n",
      " 23%|##3       | 16/69 [00:00<00:00, 76.40it/s]\u001b[A\n",
      " 32%|###1      | 22/69 [00:00<00:00, 68.99it/s]\u001b[A\n",
      " 41%|####      | 28/69 [00:00<00:00, 64.51it/s]\u001b[A\n",
      " 52%|#####2    | 36/69 [00:00<00:00, 66.00it/s]\u001b[A\n",
      " 65%|######5   | 45/69 [00:00<00:00, 70.51it/s]\u001b[A\n",
      " 78%|#######8  | 54/69 [00:00<00:00, 74.35it/s]\u001b[A\n",
      " 91%|#########1| 63/69 [00:00<00:00, 77.06it/s]\u001b[A\n",
      " 91%|█████████▏| 724/792 [00:33<00:08,  8.30it/s]A"
     ]
    },
    {
     "name": "stdout",
     "output_type": "stream",
     "text": [
      "{'ade': 0.49257618, 'fde': 1.0654446}\n",
      "\t last loss:0.000218395, eval on validation:['ade: 0.49257618', 'fde: 1.0654446'], (best ade:0.48504674 at step 11100) \n"
     ]
    },
    {
     "name": "stderr",
     "output_type": "stream",
     "text": [
      "100%|██████████| 792/792 [00:36<00:00, 21.95it/s]\n",
      "  0%|          | 1/792 [00:00<01:22,  9.64it/s]"
     ]
    },
    {
     "name": "stdout",
     "output_type": "stream",
     "text": [
      "('Epoca 17.', 'lr:', 0.0005449812)\n"
     ]
    },
    {
     "name": "stderr",
     "output_type": "stream",
     "text": [
      " 29%|██▊       | 226/792 [00:08<00:21, 26.84it/s]\n",
      "  0%|          | 0/69 [00:00<?, ?it/s]\u001b[A"
     ]
    },
    {
     "name": "stdout",
     "output_type": "stream",
     "text": [
      "\tsaving model 12900...\n",
      "\tdone\n",
      "Evaluating\n"
     ]
    },
    {
     "name": "stderr",
     "output_type": "stream",
     "text": [
      "\n",
      " 13%|#3        | 9/69 [00:00<00:00, 86.95it/s]\u001b[A\n",
      " 25%|##4       | 17/69 [00:00<00:00, 83.29it/s]\u001b[A\n",
      " 35%|###4      | 24/69 [00:00<00:00, 75.67it/s]\u001b[A\n",
      " 45%|####4     | 31/69 [00:00<00:00, 69.95it/s]\u001b[A\n",
      " 58%|#####7    | 40/69 [00:00<00:00, 73.41it/s]\u001b[A\n",
      " 71%|#######1  | 49/69 [00:00<00:00, 77.60it/s]\u001b[A\n",
      " 81%|########1 | 56/69 [00:00<00:00, 75.14it/s]\u001b[A\n",
      " 94%|#########4| 65/69 [00:00<00:00, 77.53it/s]\u001b[A\n",
      " 29%|██▉       | 229/792 [00:10<01:22,  6.79it/s]A"
     ]
    },
    {
     "name": "stdout",
     "output_type": "stream",
     "text": [
      "{'ade': 0.49907485, 'fde': 1.0807003}\n",
      "\t last loss:0.000274589, eval on validation:['ade: 0.49907485', 'fde: 1.0807003'], (best ade:0.48504674 at step 11100) \n"
     ]
    },
    {
     "name": "stderr",
     "output_type": "stream",
     "text": [
      " 66%|██████▋   | 526/792 [00:23<00:10, 25.15it/s]\n",
      "  0%|          | 0/69 [00:00<?, ?it/s]\u001b[A"
     ]
    },
    {
     "name": "stdout",
     "output_type": "stream",
     "text": [
      "\tsaving model 13200...\n",
      "\tdone\n",
      "Evaluating\n"
     ]
    },
    {
     "name": "stderr",
     "output_type": "stream",
     "text": [
      "\n",
      " 12%|#1        | 8/69 [00:00<00:00, 76.54it/s]\u001b[A\n",
      " 23%|##3       | 16/69 [00:00<00:00, 73.19it/s]\u001b[A\n",
      " 33%|###3      | 23/69 [00:00<00:00, 69.34it/s]\u001b[A\n",
      " 42%|####2     | 29/69 [00:00<00:00, 64.23it/s]\u001b[A\n",
      " 52%|#####2    | 36/69 [00:00<00:00, 65.52it/s]\u001b[A\n",
      " 65%|######5   | 45/69 [00:00<00:00, 70.37it/s]\u001b[A\n",
      " 78%|#######8  | 54/69 [00:00<00:00, 73.82it/s]\u001b[A\n",
      " 91%|#########1| 63/69 [00:00<00:00, 76.05it/s]\u001b[A\n",
      " 67%|██████▋   | 529/792 [00:24<00:41,  6.35it/s]A"
     ]
    },
    {
     "name": "stdout",
     "output_type": "stream",
     "text": [
      "{'ade': 0.51462835, 'fde': 1.130742}\n",
      "\t last loss:0.000533920, eval on validation:['ade: 0.51462835', 'fde: 1.130742'], (best ade:0.48504674 at step 11100) \n"
     ]
    },
    {
     "name": "stderr",
     "output_type": "stream",
     "text": [
      "100%|██████████| 792/792 [00:34<00:00, 22.71it/s]\n",
      "  0%|          | 1/792 [00:00<01:22,  9.56it/s]"
     ]
    },
    {
     "name": "stdout",
     "output_type": "stream",
     "text": [
      "('Epoca 18.', 'lr:', 0.0005449812)\n"
     ]
    },
    {
     "name": "stderr",
     "output_type": "stream",
     "text": [
      "  4%|▍         | 34/792 [00:01<00:29, 25.85it/s]\n",
      "  0%|          | 0/69 [00:00<?, ?it/s]\u001b[A"
     ]
    },
    {
     "name": "stdout",
     "output_type": "stream",
     "text": [
      "\tsaving model 13500...\n",
      "\tdone\n",
      "Evaluating\n"
     ]
    },
    {
     "name": "stderr",
     "output_type": "stream",
     "text": [
      "\n",
      " 13%|#3        | 9/69 [00:00<00:00, 85.82it/s]\u001b[A\n",
      " 25%|##4       | 17/69 [00:00<00:00, 82.57it/s]\u001b[A\n",
      " 35%|###4      | 24/69 [00:00<00:00, 77.04it/s]\u001b[A\n",
      " 45%|####4     | 31/69 [00:00<00:00, 74.50it/s]\u001b[A\n",
      " 58%|#####7    | 40/69 [00:00<00:00, 77.13it/s]\u001b[A\n",
      " 72%|#######2  | 50/69 [00:00<00:00, 80.63it/s]\u001b[A\n",
      " 86%|########5 | 59/69 [00:00<00:00, 81.70it/s]\u001b[A\n",
      "  5%|▍         | 37/792 [00:02<01:49,  6.91it/s][A"
     ]
    },
    {
     "name": "stdout",
     "output_type": "stream",
     "text": [
      "{'ade': 0.4930411, 'fde': 1.0693765}\n",
      "\t last loss:0.000546779, eval on validation:['ade: 0.4930411', 'fde: 1.0693765'], (best ade:0.48504674 at step 11100) \n"
     ]
    },
    {
     "name": "stderr",
     "output_type": "stream",
     "text": [
      " 42%|████▏     | 334/792 [00:15<00:20, 22.61it/s]"
     ]
    },
    {
     "name": "stdout",
     "output_type": "stream",
     "text": [
      "\tsaving model 13800...\n"
     ]
    },
    {
     "name": "stderr",
     "output_type": "stream",
     "text": [
      "\n",
      "  0%|          | 0/69 [00:00<?, ?it/s]\u001b[A\n",
      " 10%|#         | 7/69 [00:00<00:01, 60.00it/s]\u001b[A"
     ]
    },
    {
     "name": "stdout",
     "output_type": "stream",
     "text": [
      "\tdone\n",
      "Evaluating\n"
     ]
    },
    {
     "name": "stderr",
     "output_type": "stream",
     "text": [
      "\n",
      " 17%|#7        | 12/69 [00:00<00:01, 54.72it/s]\u001b[A\n",
      " 28%|##7       | 19/69 [00:00<00:00, 57.50it/s]\u001b[A\n",
      " 38%|###7      | 26/69 [00:00<00:00, 60.36it/s]\u001b[A\n",
      " 46%|####6     | 32/69 [00:00<00:00, 59.92it/s]\u001b[A\n",
      " 57%|#####6    | 39/69 [00:00<00:00, 61.56it/s]\u001b[A\n",
      " 67%|######6   | 46/69 [00:00<00:00, 62.41it/s]\u001b[A\n",
      " 77%|#######6  | 53/69 [00:00<00:00, 63.34it/s]\u001b[A\n",
      " 87%|########6 | 60/69 [00:00<00:00, 64.53it/s]\u001b[A\n",
      " 97%|#########7| 67/69 [00:01<00:00, 62.90it/s]\u001b[A\n",
      " 43%|████▎     | 337/792 [00:16<01:23,  5.46it/s]A"
     ]
    },
    {
     "name": "stdout",
     "output_type": "stream",
     "text": [
      "{'ade': 0.50404245, 'fde': 1.0958811}\n",
      "\t last loss:0.000296214, eval on validation:['ade: 0.50404245', 'fde: 1.0958811'], (best ade:0.48504674 at step 11100) \n"
     ]
    },
    {
     "name": "stderr",
     "output_type": "stream",
     "text": [
      " 80%|████████  | 634/792 [00:29<00:09, 17.45it/s]\n",
      "  0%|          | 0/69 [00:00<?, ?it/s]"
     ]
    },
    {
     "name": "stdout",
     "output_type": "stream",
     "text": [
      "\tsaving model 14100...\n",
      "\tdone\n",
      "Evaluating\n"
     ]
    },
    {
     "name": "stderr",
     "output_type": "stream",
     "text": [
      "\u001b[A\n",
      " 12%|#1        | 8/69 [00:00<00:00, 73.19it/s]\u001b[A\n",
      " 23%|##3       | 16/69 [00:00<00:00, 74.20it/s]\u001b[A\n",
      " 35%|###4      | 24/69 [00:00<00:00, 73.32it/s]\u001b[A\n",
      " 43%|####3     | 30/69 [00:00<00:00, 67.21it/s]\u001b[A\n",
      " 58%|#####7    | 40/69 [00:00<00:00, 73.29it/s]\u001b[A\n",
      " 70%|######9   | 48/69 [00:00<00:00, 73.60it/s]\u001b[A\n",
      " 81%|########1 | 56/69 [00:00<00:00, 75.40it/s]\u001b[A\n",
      " 96%|#########5| 66/69 [00:00<00:00, 80.04it/s]\u001b[A\n",
      " 81%|████████  | 639/792 [00:30<00:25,  6.04it/s]A"
     ]
    },
    {
     "name": "stdout",
     "output_type": "stream",
     "text": [
      "{'ade': 0.48654485, 'fde': 1.0536101}\n",
      "\t last loss:0.000310263, eval on validation:['ade: 0.48654485', 'fde: 1.0536101'], (best ade:0.48504674 at step 11100) \n"
     ]
    },
    {
     "name": "stderr",
     "output_type": "stream",
     "text": [
      "100%|██████████| 792/792 [00:37<00:00, 26.66it/s]\n",
      "  0%|          | 3/792 [00:00<00:34, 22.57it/s]"
     ]
    },
    {
     "name": "stdout",
     "output_type": "stream",
     "text": [
      "('Epoca 19.', 'lr:', 0.00046323403)\n"
     ]
    },
    {
     "name": "stderr",
     "output_type": "stream",
     "text": [
      " 18%|█▊        | 141/792 [00:05<00:26, 24.51it/s]\n",
      "  0%|          | 0/69 [00:00<?, ?it/s]\u001b[A"
     ]
    },
    {
     "name": "stdout",
     "output_type": "stream",
     "text": [
      "\tsaving model 14400...\n",
      "\tdone\n",
      "Evaluating\n"
     ]
    },
    {
     "name": "stderr",
     "output_type": "stream",
     "text": [
      "\n",
      " 14%|#4        | 10/69 [00:00<00:00, 93.01it/s]\u001b[A\n",
      " 29%|##8       | 20/69 [00:00<00:00, 92.57it/s]\u001b[A\n",
      " 41%|####      | 28/69 [00:00<00:00, 85.63it/s]\u001b[A\n",
      " 51%|#####     | 35/69 [00:00<00:00, 78.80it/s]\u001b[A\n",
      " 59%|#####9    | 41/69 [00:00<00:00, 71.16it/s]\u001b[A\n",
      " 72%|#######2  | 50/69 [00:00<00:00, 75.49it/s]\u001b[A\n",
      " 86%|########5 | 59/69 [00:00<00:00, 77.46it/s]\u001b[A\n",
      " 99%|#########8| 68/69 [00:00<00:00, 80.62it/s]\u001b[A\n",
      " 19%|█▊        | 147/792 [00:06<01:13,  8.80it/s]A"
     ]
    },
    {
     "name": "stdout",
     "output_type": "stream",
     "text": [
      "{'ade': 0.4872606, 'fde': 1.0548643}\n",
      "\t last loss:0.000285097, eval on validation:['ade: 0.4872606', 'fde: 1.0548643'], (best ade:0.48504674 at step 11100) \n"
     ]
    },
    {
     "name": "stderr",
     "output_type": "stream",
     "text": [
      " 56%|█████▌    | 441/792 [00:19<00:15, 22.82it/s]"
     ]
    },
    {
     "name": "stdout",
     "output_type": "stream",
     "text": [
      "\tsaving model 14700...\n"
     ]
    },
    {
     "name": "stderr",
     "output_type": "stream",
     "text": [
      "\n",
      "  0%|          | 0/69 [00:00<?, ?it/s]\u001b[A\n",
      " 12%|#1        | 8/69 [00:00<00:00, 71.88it/s]\u001b[A"
     ]
    },
    {
     "name": "stdout",
     "output_type": "stream",
     "text": [
      "\tdone\n",
      "Evaluating\n"
     ]
    },
    {
     "name": "stderr",
     "output_type": "stream",
     "text": [
      "\n",
      " 20%|##        | 14/69 [00:00<00:00, 65.76it/s]\u001b[A\n",
      " 29%|##8       | 20/69 [00:00<00:00, 61.81it/s]\u001b[A\n",
      " 39%|###9      | 27/69 [00:00<00:00, 63.44it/s]\u001b[A\n",
      " 49%|####9     | 34/69 [00:00<00:00, 65.16it/s]\u001b[A\n",
      " 58%|#####7    | 40/69 [00:00<00:00, 61.51it/s]\u001b[A\n",
      " 70%|######9   | 48/69 [00:00<00:00, 65.04it/s]\u001b[A\n",
      " 81%|########1 | 56/69 [00:00<00:00, 68.16it/s]\u001b[A\n",
      " 93%|#########2| 64/69 [00:00<00:00, 69.81it/s]\u001b[A\n",
      " 56%|█████▋    | 447/792 [00:20<00:45,  7.61it/s]A"
     ]
    },
    {
     "name": "stdout",
     "output_type": "stream",
     "text": [
      "{'ade': 0.49536374, 'fde': 1.0722271}\n",
      "\t last loss:0.000324922, eval on validation:['ade: 0.49536374', 'fde: 1.0722271'], (best ade:0.48504674 at step 11100) \n"
     ]
    },
    {
     "name": "stderr",
     "output_type": "stream",
     "text": [
      " 94%|█████████▎| 741/792 [00:32<00:02, 24.44it/s]\n"
     ]
    },
    {
     "name": "stdout",
     "output_type": "stream",
     "text": [
      "\tsaving model 15000...\n",
      "\tdone\n",
      "Evaluating\n"
     ]
    },
    {
     "name": "stderr",
     "output_type": "stream",
     "text": [
      "  0%|          | 0/69 [00:00<?, ?it/s]\u001b[A\n",
      " 13%|#3        | 9/69 [00:00<00:00, 89.79it/s]\u001b[A\n",
      " 25%|##4       | 17/69 [00:00<00:00, 83.43it/s]\u001b[A\n",
      " 32%|###1      | 22/69 [00:00<00:00, 69.44it/s]\u001b[A\n",
      " 42%|####2     | 29/69 [00:00<00:00, 65.33it/s]\u001b[A\n",
      " 52%|#####2    | 36/69 [00:00<00:00, 65.93it/s]\u001b[A\n",
      " 65%|######5   | 45/69 [00:00<00:00, 70.29it/s]\u001b[A\n",
      " 77%|#######6  | 53/69 [00:00<00:00, 71.95it/s]\u001b[A\n",
      " 91%|#########1| 63/69 [00:00<00:00, 77.49it/s]\u001b[A\n",
      " 94%|█████████▍| 747/792 [00:34<00:05,  8.33it/s]A"
     ]
    },
    {
     "name": "stdout",
     "output_type": "stream",
     "text": [
      "{'ade': 0.50182074, 'fde': 1.0922813}\n",
      "\t last loss:0.000428497, eval on validation:['ade: 0.50182074', 'fde: 1.0922813'], (best ade:0.48504674 at step 11100) \n"
     ]
    },
    {
     "name": "stderr",
     "output_type": "stream",
     "text": [
      "100%|██████████| 792/792 [00:35<00:00, 24.52it/s]\n",
      "  0%|          | 2/792 [00:00<00:45, 17.33it/s]"
     ]
    },
    {
     "name": "stdout",
     "output_type": "stream",
     "text": [
      "('Epoca 20.', 'lr:', 0.00046323403)\n"
     ]
    },
    {
     "name": "stderr",
     "output_type": "stream",
     "text": [
      " 32%|███▏      | 251/792 [00:09<00:20, 26.72it/s]\n",
      "  0%|          | 0/69 [00:00<?, ?it/s]\u001b[A"
     ]
    },
    {
     "name": "stdout",
     "output_type": "stream",
     "text": [
      "\tsaving model 15300...\n",
      "\tdone\n",
      "Evaluating\n"
     ]
    },
    {
     "name": "stderr",
     "output_type": "stream",
     "text": [
      "\n",
      " 13%|#3        | 9/69 [00:00<00:00, 81.71it/s]\u001b[A\n",
      " 22%|##1       | 15/69 [00:00<00:00, 73.07it/s]\u001b[A\n",
      " 32%|###1      | 22/69 [00:00<00:00, 71.94it/s]\u001b[A\n",
      " 41%|####      | 28/69 [00:00<00:00, 64.59it/s]\u001b[A\n",
      " 52%|#####2    | 36/69 [00:00<00:00, 67.18it/s]\u001b[A\n",
      " 65%|######5   | 45/69 [00:00<00:00, 71.79it/s]\u001b[A\n",
      " 78%|#######8  | 54/69 [00:00<00:00, 75.24it/s]\u001b[A\n",
      " 91%|#########1| 63/69 [00:00<00:00, 76.67it/s]\u001b[A\n",
      " 32%|███▏      | 254/792 [00:11<01:21,  6.58it/s]A"
     ]
    },
    {
     "name": "stdout",
     "output_type": "stream",
     "text": [
      "{'ade': 0.49664503, 'fde': 1.0863795}\n",
      "\t last loss:0.000525921, eval on validation:['ade: 0.49664503', 'fde: 1.0863795'], (best ade:0.48504674 at step 11100) \n"
     ]
    },
    {
     "name": "stderr",
     "output_type": "stream",
     "text": [
      " 70%|██████▉   | 551/792 [00:22<00:08, 26.83it/s]\n",
      "  0%|          | 0/69 [00:00<?, ?it/s]\u001b[A"
     ]
    },
    {
     "name": "stdout",
     "output_type": "stream",
     "text": [
      "\tsaving model 15600...\n",
      "\tdone\n",
      "Evaluating\n"
     ]
    },
    {
     "name": "stderr",
     "output_type": "stream",
     "text": [
      "\n",
      " 14%|#4        | 10/69 [00:00<00:00, 94.28it/s]\u001b[A\n",
      " 25%|##4       | 17/69 [00:00<00:00, 83.97it/s]\u001b[A\n",
      " 36%|###6      | 25/69 [00:00<00:00, 81.80it/s]\u001b[A\n",
      " 45%|####4     | 31/69 [00:00<00:00, 71.19it/s]\u001b[A\n",
      " 58%|#####7    | 40/69 [00:00<00:00, 73.69it/s]\u001b[A\n",
      " 72%|#######2  | 50/69 [00:00<00:00, 78.33it/s]\u001b[A\n",
      " 87%|########6 | 60/69 [00:00<00:00, 82.55it/s]\u001b[A\n",
      " 70%|██████▉   | 554/792 [00:23<00:33,  7.07it/s]A"
     ]
    },
    {
     "name": "stdout",
     "output_type": "stream",
     "text": [
      "{'ade': 0.49399015, 'fde': 1.0676804}\n",
      "\t last loss:0.000498679, eval on validation:['ade: 0.49399015', 'fde: 1.0676804'], (best ade:0.48504674 at step 11100) \n"
     ]
    },
    {
     "name": "stderr",
     "output_type": "stream",
     "text": [
      "100%|██████████| 792/792 [00:34<00:00, 23.09it/s]\n",
      "  0%|          | 1/792 [00:00<01:37,  8.14it/s]"
     ]
    },
    {
     "name": "stdout",
     "output_type": "stream",
     "text": [
      "('Epoca 21.', 'lr:', 0.00039374892)\n"
     ]
    },
    {
     "name": "stderr",
     "output_type": "stream",
     "text": [
      "  7%|▋         | 58/792 [00:02<00:32, 22.63it/s]"
     ]
    },
    {
     "name": "stdout",
     "output_type": "stream",
     "text": [
      "\tsaving model 15900...\n"
     ]
    },
    {
     "name": "stderr",
     "output_type": "stream",
     "text": [
      "\n",
      "  0%|          | 0/69 [00:00<?, ?it/s]\u001b[A\n",
      " 12%|#1        | 8/69 [00:00<00:00, 70.41it/s]\u001b[A"
     ]
    },
    {
     "name": "stdout",
     "output_type": "stream",
     "text": [
      "\tdone\n",
      "Evaluating\n"
     ]
    },
    {
     "name": "stderr",
     "output_type": "stream",
     "text": [
      "\n",
      " 19%|#8        | 13/69 [00:00<00:00, 60.57it/s]\u001b[A\n",
      " 25%|##4       | 17/69 [00:00<00:00, 52.03it/s]\u001b[A\n",
      " 35%|###4      | 24/69 [00:00<00:00, 55.24it/s]\u001b[A\n",
      " 45%|####4     | 31/69 [00:00<00:00, 57.23it/s]\u001b[A\n",
      " 57%|#####6    | 39/69 [00:00<00:00, 61.83it/s]\u001b[A\n",
      " 68%|######8   | 47/69 [00:00<00:00, 65.77it/s]\u001b[A\n",
      " 80%|#######9  | 55/69 [00:00<00:00, 67.92it/s]\u001b[A\n",
      " 93%|#########2| 64/69 [00:00<00:00, 72.05it/s]\u001b[A\n",
      "  8%|▊         | 61/792 [00:03<02:03,  5.91it/s][A"
     ]
    },
    {
     "name": "stdout",
     "output_type": "stream",
     "text": [
      "{'ade': 0.4986953, 'fde': 1.0803123}\n",
      "\t last loss:0.000596735, eval on validation:['ade: 0.4986953', 'fde: 1.0803123'], (best ade:0.48504674 at step 11100) \n"
     ]
    },
    {
     "name": "stderr",
     "output_type": "stream",
     "text": [
      " 45%|████▌     | 358/792 [00:15<00:16, 25.74it/s]\n",
      "  0%|          | 0/69 [00:00<?, ?it/s]\u001b[A"
     ]
    },
    {
     "name": "stdout",
     "output_type": "stream",
     "text": [
      "\tsaving model 16200...\n",
      "\tdone\n",
      "Evaluating\n"
     ]
    },
    {
     "name": "stderr",
     "output_type": "stream",
     "text": [
      "\n",
      " 14%|#4        | 10/69 [00:00<00:00, 92.70it/s]\u001b[A\n",
      " 25%|##4       | 17/69 [00:00<00:00, 81.42it/s]\u001b[A\n",
      " 35%|###4      | 24/69 [00:00<00:00, 74.41it/s]\u001b[A\n",
      " 48%|####7     | 33/69 [00:00<00:00, 78.07it/s]\u001b[A\n",
      " 59%|#####9    | 41/69 [00:00<00:00, 76.76it/s]\u001b[A\n",
      " 74%|#######3  | 51/69 [00:00<00:00, 80.86it/s]\u001b[A\n",
      " 88%|########8 | 61/69 [00:00<00:00, 83.94it/s]\u001b[A\n",
      " 46%|████▌     | 361/792 [00:17<01:02,  6.94it/s]A"
     ]
    },
    {
     "name": "stdout",
     "output_type": "stream",
     "text": [
      "{'ade': 0.48794088, 'fde': 1.0550411}\n",
      "\t last loss:0.000539738, eval on validation:['ade: 0.48794088', 'fde: 1.0550411'], (best ade:0.48504674 at step 11100) \n"
     ]
    },
    {
     "name": "stderr",
     "output_type": "stream",
     "text": [
      " 83%|████████▎ | 658/792 [00:28<00:05, 25.32it/s]\n"
     ]
    },
    {
     "name": "stdout",
     "output_type": "stream",
     "text": [
      "\tsaving model 16500...\n",
      "\tdone\n",
      "Evaluating\n"
     ]
    },
    {
     "name": "stderr",
     "output_type": "stream",
     "text": [
      "  0%|          | 0/69 [00:00<?, ?it/s]\u001b[A\n",
      " 12%|#1        | 8/69 [00:00<00:00, 78.47it/s]\u001b[A\n",
      " 20%|##        | 14/69 [00:00<00:00, 68.99it/s]\u001b[A\n",
      " 32%|###1      | 22/69 [00:00<00:00, 69.18it/s]\u001b[A\n",
      " 42%|####2     | 29/69 [00:00<00:00, 67.90it/s]\u001b[A\n",
      " 55%|#####5    | 38/69 [00:00<00:00, 71.44it/s]\u001b[A\n",
      " 68%|######8   | 47/69 [00:00<00:00, 74.38it/s]\u001b[A\n",
      " 81%|########1 | 56/69 [00:00<00:00, 77.44it/s]\u001b[A\n",
      " 94%|#########4| 65/69 [00:00<00:00, 78.80it/s]\u001b[A\n",
      "100%|##########| 69/69 [00:00<00:00, 74.62it/s]\u001b[A"
     ]
    },
    {
     "name": "stdout",
     "output_type": "stream",
     "text": [
      "{'ade': 0.48382506, 'fde': 1.0450649}\n",
      "\t last loss:0.000284730, eval on validation:['ade: 0.48382506', 'fde: 1.0450649'], (best ade:0.48504674 at step 11100) \n",
      "\t saving best model...\n"
     ]
    },
    {
     "name": "stderr",
     "output_type": "stream",
     "text": [
      " 84%|████████▍ | 664/792 [00:30<00:17,  7.36it/s]"
     ]
    },
    {
     "name": "stdout",
     "output_type": "stream",
     "text": [
      "\t done.\n"
     ]
    },
    {
     "name": "stderr",
     "output_type": "stream",
     "text": [
      "100%|██████████| 792/792 [00:36<00:00, 22.98it/s]\n",
      "  0%|          | 3/792 [00:00<00:37, 21.26it/s]"
     ]
    },
    {
     "name": "stdout",
     "output_type": "stream",
     "text": [
      "('Epoca 22.', 'lr:', 0.00039374892)\n"
     ]
    },
    {
     "name": "stderr",
     "output_type": "stream",
     "text": [
      " 21%|██        | 166/792 [00:07<00:24, 25.46it/s]\n",
      "  0%|          | 0/69 [00:00<?, ?it/s]\u001b[A"
     ]
    },
    {
     "name": "stdout",
     "output_type": "stream",
     "text": [
      "\tsaving model 16800...\n",
      "\tdone\n",
      "Evaluating\n"
     ]
    },
    {
     "name": "stderr",
     "output_type": "stream",
     "text": [
      "\n",
      " 14%|#4        | 10/69 [00:00<00:00, 91.73it/s]\u001b[A\n",
      " 29%|##8       | 20/69 [00:00<00:00, 91.85it/s]\u001b[A\n",
      " 43%|####3     | 30/69 [00:00<00:00, 92.69it/s]\u001b[A\n",
      " 58%|#####7    | 40/69 [00:00<00:00, 93.11it/s]\u001b[A\n",
      " 71%|#######1  | 49/69 [00:00<00:00, 88.82it/s]\u001b[A\n",
      " 83%|########2 | 57/69 [00:00<00:00, 79.91it/s]\u001b[A\n",
      " 94%|#########4| 65/69 [00:00<00:00, 77.51it/s]\u001b[A\n",
      " 21%|██▏       | 169/792 [00:08<01:29,  6.98it/s]A"
     ]
    },
    {
     "name": "stdout",
     "output_type": "stream",
     "text": [
      "{'ade': 0.48585477, 'fde': 1.0475177}\n",
      "\t last loss:0.000348570, eval on validation:['ade: 0.48585477', 'fde: 1.0475177'], (best ade:0.48382506 at step 16500) \n"
     ]
    },
    {
     "name": "stderr",
     "output_type": "stream",
     "text": [
      " 59%|█████▉    | 466/792 [00:20<00:12, 25.42it/s]\n",
      "  0%|          | 0/69 [00:00<?, ?it/s]\u001b[A"
     ]
    },
    {
     "name": "stdout",
     "output_type": "stream",
     "text": [
      "\tsaving model 17100...\n",
      "\tdone\n",
      "Evaluating\n"
     ]
    },
    {
     "name": "stderr",
     "output_type": "stream",
     "text": [
      "\n",
      " 12%|#1        | 8/69 [00:00<00:00, 74.19it/s]\u001b[A\n",
      " 22%|##1       | 15/69 [00:00<00:00, 71.85it/s]\u001b[A\n",
      " 32%|###1      | 22/69 [00:00<00:00, 69.21it/s]\u001b[A\n",
      " 41%|####      | 28/69 [00:00<00:00, 65.03it/s]\u001b[A\n",
      " 54%|#####3    | 37/69 [00:00<00:00, 69.02it/s]\u001b[A\n",
      " 65%|######5   | 45/69 [00:00<00:00, 70.52it/s]\u001b[A\n",
      " 78%|#######8  | 54/69 [00:00<00:00, 74.53it/s]\u001b[A\n",
      " 91%|#########1| 63/69 [00:00<00:00, 76.67it/s]\u001b[A\n",
      " 59%|█████▉    | 469/792 [00:21<00:49,  6.48it/s]A"
     ]
    },
    {
     "name": "stdout",
     "output_type": "stream",
     "text": [
      "{'ade': 0.5062139, 'fde': 1.101102}\n",
      "\t last loss:0.000362127, eval on validation:['ade: 0.5062139', 'fde: 1.101102'], (best ade:0.48382506 at step 16500) \n"
     ]
    },
    {
     "name": "stderr",
     "output_type": "stream",
     "text": [
      " 97%|█████████▋| 766/792 [00:34<00:01, 24.37it/s]\n",
      "  0%|          | 0/69 [00:00<?, ?it/s]\u001b[A"
     ]
    },
    {
     "name": "stdout",
     "output_type": "stream",
     "text": [
      "\tsaving model 17400...\n",
      "\tdone\n",
      "Evaluating\n"
     ]
    },
    {
     "name": "stderr",
     "output_type": "stream",
     "text": [
      "\n",
      " 13%|#3        | 9/69 [00:00<00:00, 85.10it/s]\u001b[A\n",
      " 22%|##1       | 15/69 [00:00<00:00, 72.77it/s]\u001b[A\n",
      " 32%|###1      | 22/69 [00:00<00:00, 70.23it/s]\u001b[A\n",
      " 42%|####2     | 29/69 [00:00<00:00, 70.00it/s]\u001b[A\n",
      " 54%|#####3    | 37/69 [00:00<00:00, 72.55it/s]\u001b[A\n",
      " 67%|######6   | 46/69 [00:00<00:00, 75.82it/s]\u001b[A\n",
      " 80%|#######9  | 55/69 [00:00<00:00, 77.43it/s]\u001b[A\n",
      " 93%|#########2| 64/69 [00:00<00:00, 80.61it/s]\u001b[A\n",
      " 97%|█████████▋| 772/792 [00:35<00:02,  8.54it/s]A"
     ]
    },
    {
     "name": "stdout",
     "output_type": "stream",
     "text": [
      "{'ade': 0.48583135, 'fde': 1.0479226}\n",
      "\t last loss:0.000451080, eval on validation:['ade: 0.48583135', 'fde: 1.0479226'], (best ade:0.48382506 at step 16500) \n"
     ]
    },
    {
     "name": "stderr",
     "output_type": "stream",
     "text": [
      "100%|██████████| 792/792 [00:36<00:00, 21.60it/s]\n",
      "  0%|          | 3/792 [00:00<00:32, 24.18it/s]"
     ]
    },
    {
     "name": "stdout",
     "output_type": "stream",
     "text": [
      "('Epoca 23.', 'lr:', 0.0003346866)\n"
     ]
    },
    {
     "name": "stderr",
     "output_type": "stream",
     "text": [
      " 34%|███▍      | 273/792 [00:10<00:19, 26.36it/s]\n",
      "  0%|          | 0/69 [00:00<?, ?it/s]"
     ]
    },
    {
     "name": "stdout",
     "output_type": "stream",
     "text": [
      "\tsaving model 17700...\n",
      "\tdone\n",
      "Evaluating\n"
     ]
    },
    {
     "name": "stderr",
     "output_type": "stream",
     "text": [
      "\u001b[A\n",
      " 13%|#3        | 9/69 [00:00<00:00, 82.84it/s]\u001b[A\n",
      " 22%|##1       | 15/69 [00:00<00:00, 73.08it/s]\u001b[A\n",
      " 32%|###1      | 22/69 [00:00<00:00, 71.59it/s]\u001b[A\n",
      " 41%|####      | 28/69 [00:00<00:00, 67.34it/s]\u001b[A\n",
      " 52%|#####2    | 36/69 [00:00<00:00, 69.10it/s]\u001b[A\n",
      " 65%|######5   | 45/69 [00:00<00:00, 72.56it/s]\u001b[A\n",
      " 78%|#######8  | 54/69 [00:00<00:00, 75.94it/s]\u001b[A\n",
      " 90%|########9 | 62/69 [00:00<00:00, 76.92it/s]\u001b[A\n",
      "100%|##########| 69/69 [00:00<00:00, 73.25it/s]\u001b[A"
     ]
    },
    {
     "name": "stdout",
     "output_type": "stream",
     "text": [
      "{'ade': 0.47909042, 'fde': 1.0345789}\n",
      "\t last loss:0.000343436, eval on validation:['ade: 0.47909042', 'fde: 1.0345789'], (best ade:0.48382506 at step 16500) \n",
      "\t saving best model...\n",
      "\t done.\n"
     ]
    },
    {
     "name": "stderr",
     "output_type": "stream",
     "text": [
      " 72%|███████▏  | 573/792 [00:24<00:10, 21.12it/s]"
     ]
    },
    {
     "name": "stdout",
     "output_type": "stream",
     "text": [
      "\tsaving model 18000...\n"
     ]
    },
    {
     "name": "stderr",
     "output_type": "stream",
     "text": [
      "\n",
      "  0%|          | 0/69 [00:00<?, ?it/s]\u001b[A\n",
      "  9%|8         | 6/69 [00:00<00:01, 59.56it/s]\u001b[A"
     ]
    },
    {
     "name": "stdout",
     "output_type": "stream",
     "text": [
      "\tdone\n",
      "Evaluating\n"
     ]
    },
    {
     "name": "stderr",
     "output_type": "stream",
     "text": [
      "\n",
      " 17%|#7        | 12/69 [00:00<00:00, 57.56it/s]\u001b[A\n",
      " 25%|##4       | 17/69 [00:00<00:00, 53.90it/s]\u001b[A\n",
      " 32%|###1      | 22/69 [00:00<00:00, 49.80it/s]\u001b[A\n",
      " 41%|####      | 28/69 [00:00<00:00, 51.07it/s]\u001b[A\n",
      " 49%|####9     | 34/69 [00:00<00:00, 52.06it/s]\u001b[A\n",
      " 59%|#####9    | 41/69 [00:00<00:00, 55.53it/s]\u001b[A\n",
      " 70%|######9   | 48/69 [00:00<00:00, 58.06it/s]\u001b[A\n",
      " 78%|#######8  | 54/69 [00:00<00:00, 58.34it/s]\u001b[A\n",
      " 88%|########8 | 61/69 [00:01<00:00, 59.33it/s]\u001b[A\n",
      " 99%|#########8| 68/69 [00:01<00:00, 60.02it/s]\u001b[A\n",
      " 73%|███████▎  | 578/792 [00:26<00:32,  6.55it/s]A"
     ]
    },
    {
     "name": "stdout",
     "output_type": "stream",
     "text": [
      "{'ade': 0.48185864, 'fde': 1.0417622}\n",
      "\t last loss:0.000773958, eval on validation:['ade: 0.48185864', 'fde: 1.0417622'], (best ade:0.47909042 at step 17700) \n"
     ]
    },
    {
     "name": "stderr",
     "output_type": "stream",
     "text": [
      "100%|██████████| 792/792 [00:35<00:00, 22.48it/s]\n",
      "  0%|          | 1/792 [00:00<01:34,  8.40it/s]"
     ]
    },
    {
     "name": "stdout",
     "output_type": "stream",
     "text": [
      "('Epoca 24.', 'lr:', 0.0003346866)\n"
     ]
    },
    {
     "name": "stderr",
     "output_type": "stream",
     "text": [
      " 10%|█         | 82/792 [00:03<00:26, 26.97it/s]\n",
      "  0%|          | 0/69 [00:00<?, ?it/s]\u001b[A"
     ]
    },
    {
     "name": "stdout",
     "output_type": "stream",
     "text": [
      "\tsaving model 18300...\n",
      "\tdone\n",
      "Evaluating\n"
     ]
    },
    {
     "name": "stderr",
     "output_type": "stream",
     "text": [
      "\n",
      " 13%|#3        | 9/69 [00:00<00:00, 86.83it/s]\u001b[A\n",
      " 23%|##3       | 16/69 [00:00<00:00, 78.24it/s]\u001b[A\n",
      " 32%|###1      | 22/69 [00:00<00:00, 69.92it/s]\u001b[A\n",
      " 41%|####      | 28/69 [00:00<00:00, 66.50it/s]\u001b[A\n",
      " 54%|#####3    | 37/69 [00:00<00:00, 71.25it/s]\u001b[A\n",
      " 64%|######3   | 44/69 [00:00<00:00, 70.22it/s]\u001b[A\n",
      " 77%|#######6  | 53/69 [00:00<00:00, 73.75it/s]\u001b[A\n",
      " 90%|########9 | 62/69 [00:00<00:00, 76.85it/s]\u001b[A\n",
      " 11%|█         | 88/792 [00:04<01:22,  8.54it/s][A"
     ]
    },
    {
     "name": "stdout",
     "output_type": "stream",
     "text": [
      "{'ade': 0.49920487, 'fde': 1.087313}\n",
      "\t last loss:0.000497268, eval on validation:['ade: 0.49920487', 'fde: 1.087313'], (best ade:0.47909042 at step 17700) \n"
     ]
    },
    {
     "name": "stderr",
     "output_type": "stream",
     "text": [
      " 48%|████▊     | 382/792 [00:16<00:15, 26.57it/s]\n",
      "  0%|          | 0/69 [00:00<?, ?it/s]\u001b[A"
     ]
    },
    {
     "name": "stdout",
     "output_type": "stream",
     "text": [
      "\tsaving model 18600...\n",
      "\tdone\n",
      "Evaluating\n"
     ]
    },
    {
     "name": "stderr",
     "output_type": "stream",
     "text": [
      "\n",
      " 14%|#4        | 10/69 [00:00<00:00, 92.82it/s]\u001b[A\n",
      " 23%|##3       | 16/69 [00:00<00:00, 77.31it/s]\u001b[A\n",
      " 33%|###3      | 23/69 [00:00<00:00, 74.15it/s]\u001b[A\n",
      " 43%|####3     | 30/69 [00:00<00:00, 71.60it/s]\u001b[A\n",
      " 58%|#####7    | 40/69 [00:00<00:00, 76.77it/s]\u001b[A\n",
      " 70%|######9   | 48/69 [00:00<00:00, 76.78it/s]\u001b[A\n",
      " 83%|########2 | 57/69 [00:00<00:00, 79.86it/s]\u001b[A\n",
      " 97%|#########7| 67/69 [00:00<00:00, 83.48it/s]\u001b[A\n",
      " 49%|████▉     | 388/792 [00:17<00:45,  8.88it/s]A"
     ]
    },
    {
     "name": "stdout",
     "output_type": "stream",
     "text": [
      "{'ade': 0.48305136, 'fde': 1.0441737}\n",
      "\t last loss:0.000254577, eval on validation:['ade: 0.48305136', 'fde: 1.0441737'], (best ade:0.47909042 at step 17700) \n"
     ]
    },
    {
     "name": "stderr",
     "output_type": "stream",
     "text": [
      " 86%|████████▌ | 682/792 [00:30<00:04, 23.26it/s]"
     ]
    },
    {
     "name": "stdout",
     "output_type": "stream",
     "text": [
      "\tsaving model 18900...\n"
     ]
    },
    {
     "name": "stderr",
     "output_type": "stream",
     "text": [
      "\n",
      "  0%|          | 0/69 [00:00<?, ?it/s]\u001b[A\n",
      " 12%|#1        | 8/69 [00:00<00:00, 69.70it/s]\u001b[A\n",
      " 20%|##        | 14/69 [00:00<00:00, 64.33it/s]\u001b[A\n",
      " 29%|##8       | 20/69 [00:00<00:00, 61.69it/s]\u001b[A\n",
      " 38%|###7      | 26/69 [00:00<00:00, 59.18it/s]\u001b[A\n",
      " 48%|####7     | 33/69 [00:00<00:00, 62.03it/s]\u001b[A\n",
      " 58%|#####7    | 40/69 [00:00<00:00, 63.92it/s]\u001b[A\n",
      " 70%|######9   | 48/69 [00:00<00:00, 67.12it/s]\u001b[A\n",
      " 81%|########1 | 56/69 [00:00<00:00, 69.65it/s]\u001b[A\n",
      " 94%|#########4| 65/69 [00:00<00:00, 72.84it/s]\u001b[A\n",
      "100%|##########| 69/69 [00:01<00:00, 67.25it/s]\u001b[A"
     ]
    },
    {
     "name": "stdout",
     "output_type": "stream",
     "text": [
      "\tdone\n",
      "Evaluating\n",
      "{'ade': 0.47448713, 'fde': 1.018522}\n",
      "\t last loss:0.000344615, eval on validation:['ade: 0.47448713', 'fde: 1.018522'], (best ade:0.47909042 at step 17700) \n",
      "\t saving best model...\n"
     ]
    },
    {
     "name": "stderr",
     "output_type": "stream",
     "text": [
      "\r",
      " 86%|████████▋ | 685/792 [00:31<00:20,  5.24it/s]"
     ]
    },
    {
     "name": "stdout",
     "output_type": "stream",
     "text": [
      "\t done.\n"
     ]
    },
    {
     "name": "stderr",
     "output_type": "stream",
     "text": [
      "100%|██████████| 792/792 [00:36<00:00, 25.80it/s]\n",
      "  0%|          | 1/792 [00:00<01:35,  8.25it/s]"
     ]
    },
    {
     "name": "stdout",
     "output_type": "stream",
     "text": [
      "('Epoca 25.', 'lr:', 0.00028448363)\n"
     ]
    },
    {
     "name": "stderr",
     "output_type": "stream",
     "text": [
      " 24%|██▍       | 190/792 [00:07<00:22, 26.64it/s]\n",
      "  0%|          | 0/69 [00:00<?, ?it/s]\u001b[A"
     ]
    },
    {
     "name": "stdout",
     "output_type": "stream",
     "text": [
      "\tsaving model 19200...\n",
      "\tdone\n",
      "Evaluating\n"
     ]
    },
    {
     "name": "stderr",
     "output_type": "stream",
     "text": [
      "\n",
      " 13%|#3        | 9/69 [00:00<00:00, 88.13it/s]\u001b[A\n",
      " 25%|##4       | 17/69 [00:00<00:00, 83.11it/s]\u001b[A\n",
      " 35%|###4      | 24/69 [00:00<00:00, 75.76it/s]\u001b[A\n",
      " 43%|####3     | 30/69 [00:00<00:00, 69.82it/s]\u001b[A\n",
      " 58%|#####7    | 40/69 [00:00<00:00, 75.33it/s]\u001b[A\n",
      " 72%|#######2  | 50/69 [00:00<00:00, 79.98it/s]\u001b[A\n",
      " 84%|########4 | 58/69 [00:00<00:00, 79.87it/s]\u001b[A\n",
      " 99%|#########8| 68/69 [00:00<00:00, 83.33it/s]\u001b[A\n",
      "100%|##########| 69/69 [00:00<00:00, 79.64it/s]\u001b[A"
     ]
    },
    {
     "name": "stdout",
     "output_type": "stream",
     "text": [
      "{'ade': 0.47344318, 'fde': 1.0214306}\n",
      "\t last loss:0.000208113, eval on validation:['ade: 0.47344318', 'fde: 1.0214306'], (best ade:0.47448713 at step 18900) \n",
      "\t saving best model...\n",
      "\t done.\n"
     ]
    },
    {
     "name": "stderr",
     "output_type": "stream",
     "text": [
      " 62%|██████▏   | 490/792 [00:22<00:13, 23.10it/s]"
     ]
    },
    {
     "name": "stdout",
     "output_type": "stream",
     "text": [
      "\tsaving model 19500...\n"
     ]
    },
    {
     "name": "stderr",
     "output_type": "stream",
     "text": [
      "\n",
      "  0%|          | 0/69 [00:00<?, ?it/s]\u001b[A\n",
      " 12%|#1        | 8/69 [00:00<00:00, 75.78it/s]\u001b[A\n",
      " 20%|##        | 14/69 [00:00<00:00, 70.18it/s]\u001b[A\n",
      " 30%|###       | 21/69 [00:00<00:00, 67.92it/s]\u001b[A\n",
      " 39%|###9      | 27/69 [00:00<00:00, 62.35it/s]\u001b[A\n",
      " 51%|#####     | 35/69 [00:00<00:00, 65.08it/s]\u001b[A\n",
      " 62%|######2   | 43/69 [00:00<00:00, 67.73it/s]\u001b[A\n",
      " 75%|#######5  | 52/69 [00:00<00:00, 72.21it/s]\u001b[A\n",
      " 88%|########8 | 61/69 [00:00<00:00, 75.88it/s]\u001b[A\n",
      " 62%|██████▏   | 493/792 [00:23<00:48,  6.21it/s]A"
     ]
    },
    {
     "name": "stdout",
     "output_type": "stream",
     "text": [
      "\tdone\n",
      "Evaluating\n",
      "{'ade': 0.47950235, 'fde': 1.037082}\n",
      "\t last loss:0.000395683, eval on validation:['ade: 0.47950235', 'fde: 1.037082'], (best ade:0.47344318 at step 19200) \n"
     ]
    },
    {
     "name": "stderr",
     "output_type": "stream",
     "text": [
      "100%|█████████▉| 790/792 [00:35<00:00, 26.51it/s]\n",
      "  0%|          | 0/69 [00:00<?, ?it/s]\u001b[A"
     ]
    },
    {
     "name": "stdout",
     "output_type": "stream",
     "text": [
      "\tsaving model 19800...\n",
      "\tdone\n",
      "Evaluating\n"
     ]
    },
    {
     "name": "stderr",
     "output_type": "stream",
     "text": [
      "\n",
      " 14%|#4        | 10/69 [00:00<00:00, 93.24it/s]\u001b[A\n",
      " 25%|##4       | 17/69 [00:00<00:00, 80.77it/s]\u001b[A\n",
      " 33%|###3      | 23/69 [00:00<00:00, 71.59it/s]\u001b[A\n",
      " 43%|####3     | 30/69 [00:00<00:00, 70.75it/s]\u001b[A\n",
      " 58%|#####7    | 40/69 [00:00<00:00, 76.23it/s]\u001b[A\n",
      " 70%|######9   | 48/69 [00:00<00:00, 76.00it/s]\u001b[A\n",
      " 84%|########4 | 58/69 [00:00<00:00, 80.37it/s]\u001b[A\n",
      " 99%|#########8| 68/69 [00:00<00:00, 83.79it/s]\u001b[A\n",
      "100%|██████████| 792/792 [00:36<00:00, 21.48it/s]A\n",
      "  0%|          | 1/792 [00:00<01:35,  8.28it/s]"
     ]
    },
    {
     "name": "stdout",
     "output_type": "stream",
     "text": [
      "{'ade': 0.4749055, 'fde': 1.0220672}\n",
      "\t last loss:0.000836577, eval on validation:['ade: 0.4749055', 'fde: 1.0220672'], (best ade:0.47344318 at step 19200) \n",
      "('Epoca 26.', 'lr:', 0.00028448363)\n"
     ]
    },
    {
     "name": "stderr",
     "output_type": "stream",
     "text": [
      " 38%|███▊      | 298/792 [00:11<00:20, 23.83it/s]\n",
      "  0%|          | 0/69 [00:00<?, ?it/s]\u001b[A"
     ]
    },
    {
     "name": "stdout",
     "output_type": "stream",
     "text": [
      "\tsaving model 20100...\n",
      "\tdone\n",
      "Evaluating\n"
     ]
    },
    {
     "name": "stderr",
     "output_type": "stream",
     "text": [
      "\n",
      " 13%|#3        | 9/69 [00:00<00:00, 87.39it/s]\u001b[A\n",
      " 22%|##1       | 15/69 [00:00<00:00, 75.49it/s]\u001b[A\n",
      " 30%|###       | 21/69 [00:00<00:00, 68.98it/s]\u001b[A\n",
      " 39%|###9      | 27/69 [00:00<00:00, 63.83it/s]\u001b[A\n",
      " 52%|#####2    | 36/69 [00:00<00:00, 68.92it/s]\u001b[A\n",
      " 64%|######3   | 44/69 [00:00<00:00, 70.84it/s]\u001b[A\n",
      " 75%|#######5  | 52/69 [00:00<00:00, 72.61it/s]\u001b[A\n",
      " 88%|########8 | 61/69 [00:00<00:00, 76.03it/s]\u001b[A\n",
      " 38%|███▊      | 301/792 [00:13<01:16,  6.39it/s]A"
     ]
    },
    {
     "name": "stdout",
     "output_type": "stream",
     "text": [
      "{'ade': 0.47397995, 'fde': 1.0215012}\n",
      "\t last loss:0.000507934, eval on validation:['ade: 0.47397995', 'fde: 1.0215012'], (best ade:0.47344318 at step 19200) \n"
     ]
    },
    {
     "name": "stderr",
     "output_type": "stream",
     "text": [
      " 76%|███████▌  | 599/792 [00:26<00:07, 24.77it/s]\n",
      "  0%|          | 0/69 [00:00<?, ?it/s]\u001b[A"
     ]
    },
    {
     "name": "stdout",
     "output_type": "stream",
     "text": [
      "\tsaving model 20400...\n",
      "\tdone\n",
      "Evaluating\n"
     ]
    },
    {
     "name": "stderr",
     "output_type": "stream",
     "text": [
      "\n",
      " 14%|#4        | 10/69 [00:00<00:00, 93.09it/s]\u001b[A\n",
      " 28%|##7       | 19/69 [00:00<00:00, 89.08it/s]\u001b[A\n",
      " 38%|###7      | 26/69 [00:00<00:00, 81.53it/s]\u001b[A\n",
      " 48%|####7     | 33/69 [00:00<00:00, 74.41it/s]\u001b[A\n",
      " 61%|######    | 42/69 [00:00<00:00, 77.59it/s]\u001b[A\n",
      " 72%|#######2  | 50/69 [00:00<00:00, 78.28it/s]\u001b[A\n",
      " 86%|########5 | 59/69 [00:00<00:00, 80.64it/s]\u001b[A\n",
      " 99%|#########8| 68/69 [00:00<00:00, 82.04it/s]\u001b[A\n",
      " 76%|███████▌  | 602/792 [00:27<00:27,  6.85it/s]A"
     ]
    },
    {
     "name": "stdout",
     "output_type": "stream",
     "text": [
      "{'ade': 0.4779481, 'fde': 1.028658}\n",
      "\t last loss:0.000489335, eval on validation:['ade: 0.4779481', 'fde: 1.028658'], (best ade:0.47344318 at step 19200) \n"
     ]
    },
    {
     "name": "stderr",
     "output_type": "stream",
     "text": [
      "100%|██████████| 792/792 [00:35<00:00, 22.58it/s]\n",
      "  0%|          | 1/792 [00:00<01:20,  9.83it/s]"
     ]
    },
    {
     "name": "stdout",
     "output_type": "stream",
     "text": [
      "('Epoca 27.', 'lr:', 0.0002418111)\n"
     ]
    },
    {
     "name": "stderr",
     "output_type": "stream",
     "text": [
      " 13%|█▎        | 106/792 [00:04<00:27, 24.97it/s]"
     ]
    },
    {
     "name": "stdout",
     "output_type": "stream",
     "text": [
      "\tsaving model 20700...\n"
     ]
    },
    {
     "name": "stderr",
     "output_type": "stream",
     "text": [
      "\n",
      "  0%|          | 0/69 [00:00<?, ?it/s]\u001b[A\n",
      " 13%|#3        | 9/69 [00:00<00:00, 84.60it/s]\u001b[A"
     ]
    },
    {
     "name": "stdout",
     "output_type": "stream",
     "text": [
      "\tdone\n",
      "Evaluating\n"
     ]
    },
    {
     "name": "stderr",
     "output_type": "stream",
     "text": [
      "\n",
      " 23%|##3       | 16/69 [00:00<00:00, 77.81it/s]\u001b[A\n",
      " 35%|###4      | 24/69 [00:00<00:00, 77.45it/s]\u001b[A\n",
      " 48%|####7     | 33/69 [00:00<00:00, 79.26it/s]\u001b[A\n",
      " 61%|######    | 42/69 [00:00<00:00, 80.77it/s]\u001b[A\n",
      " 74%|#######3  | 51/69 [00:00<00:00, 81.44it/s]\u001b[A\n",
      " 86%|########5 | 59/69 [00:00<00:00, 77.49it/s]\u001b[A\n",
      " 97%|#########7| 67/69 [00:00<00:00, 77.11it/s]\u001b[A\n",
      " 14%|█▍        | 109/792 [00:05<01:43,  6.58it/s]A"
     ]
    },
    {
     "name": "stdout",
     "output_type": "stream",
     "text": [
      "{'ade': 0.4917581, 'fde': 1.0671268}\n",
      "\t last loss:0.000399643, eval on validation:['ade: 0.4917581', 'fde: 1.0671268'], (best ade:0.47344318 at step 19200) \n"
     ]
    },
    {
     "name": "stderr",
     "output_type": "stream",
     "text": [
      " 51%|█████▏    | 406/792 [00:17<00:14, 26.89it/s]\n",
      "  0%|          | 0/69 [00:00<?, ?it/s]\u001b[A"
     ]
    },
    {
     "name": "stdout",
     "output_type": "stream",
     "text": [
      "\tsaving model 21000...\n",
      "\tdone\n",
      "Evaluating\n"
     ]
    },
    {
     "name": "stderr",
     "output_type": "stream",
     "text": [
      "\n",
      " 14%|#4        | 10/69 [00:00<00:00, 96.26it/s]\u001b[A\n",
      " 25%|##4       | 17/69 [00:00<00:00, 84.67it/s]\u001b[A\n",
      " 36%|###6      | 25/69 [00:00<00:00, 79.65it/s]\u001b[A\n",
      " 48%|####7     | 33/69 [00:00<00:00, 78.76it/s]\u001b[A\n",
      " 59%|#####9    | 41/69 [00:00<00:00, 77.84it/s]\u001b[A\n",
      " 74%|#######3  | 51/69 [00:00<00:00, 81.60it/s]\u001b[A\n",
      " 88%|########8 | 61/69 [00:00<00:00, 84.73it/s]\u001b[A\n",
      " 52%|█████▏    | 412/792 [00:18<00:42,  8.94it/s]A"
     ]
    },
    {
     "name": "stdout",
     "output_type": "stream",
     "text": [
      "{'ade': 0.48655716, 'fde': 1.0603658}\n",
      "\t last loss:0.000385324, eval on validation:['ade: 0.48655716', 'fde: 1.0603658'], (best ade:0.47344318 at step 19200) \n"
     ]
    },
    {
     "name": "stderr",
     "output_type": "stream",
     "text": [
      " 89%|████████▉ | 705/792 [00:31<00:03, 22.69it/s]\n",
      "  0%|          | 0/69 [00:00<?, ?it/s]"
     ]
    },
    {
     "name": "stdout",
     "output_type": "stream",
     "text": [
      "\tsaving model 21300...\n",
      "\tdone\n",
      "Evaluating\n"
     ]
    },
    {
     "name": "stderr",
     "output_type": "stream",
     "text": [
      "\u001b[A\n",
      " 13%|#3        | 9/69 [00:00<00:00, 81.64it/s]\u001b[A\n",
      " 25%|##4       | 17/69 [00:00<00:00, 80.70it/s]\u001b[A\n",
      " 33%|###3      | 23/69 [00:00<00:00, 72.62it/s]\u001b[A\n",
      " 43%|####3     | 30/69 [00:00<00:00, 70.65it/s]\u001b[A\n",
      " 52%|#####2    | 36/69 [00:00<00:00, 66.34it/s]\u001b[A\n",
      " 64%|######3   | 44/69 [00:00<00:00, 67.51it/s]\u001b[A\n",
      " 75%|#######5  | 52/69 [00:00<00:00, 69.75it/s]\u001b[A\n",
      " 88%|########8 | 61/69 [00:00<00:00, 73.21it/s]\u001b[A\n",
      " 90%|████████▉ | 711/792 [00:32<00:10,  8.08it/s]A"
     ]
    },
    {
     "name": "stdout",
     "output_type": "stream",
     "text": [
      "{'ade': 0.48572323, 'fde': 1.0528599}\n",
      "\t last loss:0.000335275, eval on validation:['ade: 0.48572323', 'fde: 1.0528599'], (best ade:0.47344318 at step 19200) \n"
     ]
    },
    {
     "name": "stderr",
     "output_type": "stream",
     "text": [
      "100%|██████████| 792/792 [00:36<00:00, 26.16it/s]\n",
      "  0%|          | 2/792 [00:00<00:47, 16.72it/s]"
     ]
    },
    {
     "name": "stdout",
     "output_type": "stream",
     "text": [
      "('Epoca 28.', 'lr:', 0.0002418111)\n"
     ]
    },
    {
     "name": "stderr",
     "output_type": "stream",
     "text": [
      " 27%|██▋       | 215/792 [00:08<00:21, 26.90it/s]\n",
      "  0%|          | 0/69 [00:00<?, ?it/s]\u001b[A"
     ]
    },
    {
     "name": "stdout",
     "output_type": "stream",
     "text": [
      "\tsaving model 21600...\n",
      "\tdone\n",
      "Evaluating\n"
     ]
    },
    {
     "name": "stderr",
     "output_type": "stream",
     "text": [
      "\n",
      " 13%|#3        | 9/69 [00:00<00:00, 86.66it/s]\u001b[A\n",
      " 23%|##3       | 16/69 [00:00<00:00, 78.72it/s]\u001b[A\n",
      " 36%|###6      | 25/69 [00:00<00:00, 80.99it/s]\u001b[A\n",
      " 51%|#####     | 35/69 [00:00<00:00, 84.32it/s]\u001b[A\n",
      " 65%|######5   | 45/69 [00:00<00:00, 87.08it/s]\u001b[A\n",
      " 78%|#######8  | 54/69 [00:00<00:00, 85.85it/s]\u001b[A\n",
      " 93%|#########2| 64/69 [00:00<00:00, 88.41it/s]\u001b[A\n",
      " 28%|██▊       | 218/792 [00:09<01:19,  7.25it/s]A"
     ]
    },
    {
     "name": "stdout",
     "output_type": "stream",
     "text": [
      "{'ade': 0.4811363, 'fde': 1.0398597}\n",
      "\t last loss:0.000860675, eval on validation:['ade: 0.4811363', 'fde: 1.0398597'], (best ade:0.47344318 at step 19200) \n"
     ]
    },
    {
     "name": "stderr",
     "output_type": "stream",
     "text": [
      " 65%|██████▍   | 514/792 [00:22<00:11, 23.42it/s]"
     ]
    },
    {
     "name": "stdout",
     "output_type": "stream",
     "text": [
      "\tsaving model 21900...\n"
     ]
    },
    {
     "name": "stderr",
     "output_type": "stream",
     "text": [
      "\n",
      "  0%|          | 0/69 [00:00<?, ?it/s]\u001b[A\n",
      " 13%|#3        | 9/69 [00:00<00:00, 77.77it/s]\u001b[A\n",
      " 22%|##1       | 15/69 [00:00<00:00, 71.26it/s]\u001b[A\n",
      " 32%|###1      | 22/69 [00:00<00:00, 67.64it/s]\u001b[A\n",
      " 42%|####2     | 29/69 [00:00<00:00, 68.13it/s]\u001b[A\n",
      " 54%|#####3    | 37/69 [00:00<00:00, 70.06it/s]\u001b[A\n",
      " 67%|######6   | 46/69 [00:00<00:00, 73.17it/s]\u001b[A\n",
      " 80%|#######9  | 55/69 [00:00<00:00, 76.80it/s]\u001b[A\n",
      " 91%|#########1| 63/69 [00:00<00:00, 77.61it/s]\u001b[A\n",
      " 65%|██████▌   | 517/792 [00:24<00:44,  6.22it/s]A"
     ]
    },
    {
     "name": "stdout",
     "output_type": "stream",
     "text": [
      "\tdone\n",
      "Evaluating\n",
      "{'ade': 0.47695392, 'fde': 1.0337555}\n",
      "\t last loss:0.000518121, eval on validation:['ade: 0.47695392', 'fde: 1.0337555'], (best ade:0.47344318 at step 19200) \n"
     ]
    },
    {
     "name": "stderr",
     "output_type": "stream",
     "text": [
      "100%|██████████| 792/792 [00:35<00:00, 22.11it/s]\n",
      "  0%|          | 1/792 [00:00<01:19,  9.96it/s]"
     ]
    },
    {
     "name": "stdout",
     "output_type": "stream",
     "text": [
      "('Epoca 29.', 'lr:', 0.00020553943)\n"
     ]
    },
    {
     "name": "stderr",
     "output_type": "stream",
     "text": [
      "  3%|▎         | 22/792 [00:01<00:39, 19.36it/s]"
     ]
    },
    {
     "name": "stdout",
     "output_type": "stream",
     "text": [
      "\tsaving model 22200...\n"
     ]
    },
    {
     "name": "stderr",
     "output_type": "stream",
     "text": [
      "\n",
      "  0%|          | 0/69 [00:00<?, ?it/s]\u001b[A\n",
      "  9%|8         | 6/69 [00:00<00:01, 54.62it/s]\u001b[A"
     ]
    },
    {
     "name": "stdout",
     "output_type": "stream",
     "text": [
      "\tdone\n",
      "Evaluating\n"
     ]
    },
    {
     "name": "stderr",
     "output_type": "stream",
     "text": [
      "\n",
      " 14%|#4        | 10/69 [00:00<00:01, 48.97it/s]\u001b[A\n",
      " 20%|##        | 14/69 [00:00<00:01, 45.58it/s]\u001b[A\n",
      " 30%|###       | 21/69 [00:00<00:00, 49.74it/s]\u001b[A\n",
      " 39%|###9      | 27/69 [00:00<00:00, 50.43it/s]\u001b[A\n",
      " 49%|####9     | 34/69 [00:00<00:00, 54.39it/s]\u001b[A\n",
      " 59%|#####9    | 41/69 [00:00<00:00, 56.96it/s]\u001b[A\n",
      " 68%|######8   | 47/69 [00:00<00:00, 57.68it/s]\u001b[A\n",
      " 78%|#######8  | 54/69 [00:00<00:00, 60.14it/s]\u001b[A\n",
      " 88%|########8 | 61/69 [00:01<00:00, 62.14it/s]\u001b[A\n",
      " 99%|#########8| 68/69 [00:01<00:00, 63.74it/s]\u001b[A\n",
      "  3%|▎         | 27/792 [00:02<02:35,  4.91it/s][A"
     ]
    },
    {
     "name": "stdout",
     "output_type": "stream",
     "text": [
      "{'ade': 0.48474225, 'fde': 1.0544518}\n",
      "\t last loss:0.000543735, eval on validation:['ade: 0.48474225', 'fde: 1.0544518'], (best ade:0.47344318 at step 19200) \n"
     ]
    },
    {
     "name": "stderr",
     "output_type": "stream",
     "text": [
      " 41%|████      | 323/792 [00:14<00:17, 26.85it/s]\n",
      "  0%|          | 0/69 [00:00<?, ?it/s]\u001b[A"
     ]
    },
    {
     "name": "stdout",
     "output_type": "stream",
     "text": [
      "\tsaving model 22500...\n",
      "\tdone\n",
      "Evaluating\n"
     ]
    },
    {
     "name": "stderr",
     "output_type": "stream",
     "text": [
      "\n",
      " 13%|#3        | 9/69 [00:00<00:00, 88.64it/s]\u001b[A\n",
      " 22%|##1       | 15/69 [00:00<00:00, 77.34it/s]\u001b[A\n",
      " 32%|###1      | 22/69 [00:00<00:00, 72.99it/s]\u001b[A\n",
      " 41%|####      | 28/69 [00:00<00:00, 66.22it/s]\u001b[A\n",
      " 54%|#####3    | 37/69 [00:00<00:00, 70.50it/s]\u001b[A\n",
      " 65%|######5   | 45/69 [00:00<00:00, 71.81it/s]\u001b[A\n",
      " 78%|#######8  | 54/69 [00:00<00:00, 75.45it/s]\u001b[A\n",
      " 91%|#########1| 63/69 [00:00<00:00, 76.18it/s]\u001b[A\n",
      " 41%|████      | 326/792 [00:16<01:10,  6.57it/s]A"
     ]
    },
    {
     "name": "stdout",
     "output_type": "stream",
     "text": [
      "{'ade': 0.4842831, 'fde': 1.0439242}\n",
      "\t last loss:0.000320335, eval on validation:['ade: 0.4842831', 'fde: 1.0439242'], (best ade:0.47344318 at step 19200) \n"
     ]
    },
    {
     "name": "stderr",
     "output_type": "stream",
     "text": [
      " 79%|███████▊  | 623/792 [00:28<00:06, 26.63it/s]\n",
      "  0%|          | 0/69 [00:00<?, ?it/s]\u001b[A"
     ]
    },
    {
     "name": "stdout",
     "output_type": "stream",
     "text": [
      "\tsaving model 22800...\n",
      "\tdone\n",
      "Evaluating\n"
     ]
    },
    {
     "name": "stderr",
     "output_type": "stream",
     "text": [
      "\n",
      " 13%|#3        | 9/69 [00:00<00:00, 89.81it/s]\u001b[A\n",
      " 23%|##3       | 16/69 [00:00<00:00, 82.31it/s]\u001b[A\n",
      " 35%|###4      | 24/69 [00:00<00:00, 79.24it/s]\u001b[A\n",
      " 45%|####4     | 31/69 [00:00<00:00, 74.25it/s]\u001b[A\n",
      " 58%|#####7    | 40/69 [00:00<00:00, 78.34it/s]\u001b[A\n",
      " 71%|#######1  | 49/69 [00:00<00:00, 79.65it/s]\u001b[A\n",
      " 84%|########4 | 58/69 [00:00<00:00, 82.27it/s]\u001b[A\n",
      " 99%|#########8| 68/69 [00:00<00:00, 85.42it/s]\u001b[A\n",
      "100%|##########| 69/69 [00:00<00:00, 79.49it/s]\u001b[A"
     ]
    },
    {
     "name": "stdout",
     "output_type": "stream",
     "text": [
      "{'ade': 0.46598542, 'fde': 1.0008962}\n",
      "\t last loss:0.000312947, eval on validation:['ade: 0.46598542', 'fde: 1.0008962'], (best ade:0.47344318 at step 19200) \n",
      "\t saving best model...\n",
      "\t done.\n"
     ]
    },
    {
     "name": "stderr",
     "output_type": "stream",
     "text": [
      "100%|██████████| 792/792 [00:36<00:00, 21.83it/s]\n",
      "  0%|          | 1/792 [00:00<01:36,  8.23it/s]"
     ]
    },
    {
     "name": "stdout",
     "output_type": "stream",
     "text": [
      "('Epoca 30.', 'lr:', 0.00020553943)\n"
     ]
    },
    {
     "name": "stderr",
     "output_type": "stream",
     "text": [
      " 16%|█▋        | 130/792 [00:05<00:26, 24.67it/s]\n",
      "  0%|          | 0/69 [00:00<?, ?it/s]\u001b[A"
     ]
    },
    {
     "name": "stdout",
     "output_type": "stream",
     "text": [
      "\tsaving model 23100...\n",
      "\tdone\n",
      "Evaluating\n"
     ]
    },
    {
     "name": "stderr",
     "output_type": "stream",
     "text": [
      "\n",
      " 13%|#3        | 9/69 [00:00<00:00, 87.81it/s]\u001b[A\n",
      " 25%|##4       | 17/69 [00:00<00:00, 82.52it/s]\u001b[A\n",
      " 33%|###3      | 23/69 [00:00<00:00, 73.06it/s]\u001b[A\n",
      " 42%|####2     | 29/69 [00:00<00:00, 67.16it/s]\u001b[A\n",
      " 54%|#####3    | 37/69 [00:00<00:00, 68.85it/s]\u001b[A\n",
      " 65%|######5   | 45/69 [00:00<00:00, 70.20it/s]\u001b[A\n",
      " 77%|#######6  | 53/69 [00:00<00:00, 72.35it/s]\u001b[A\n",
      " 90%|########9 | 62/69 [00:00<00:00, 75.44it/s]\u001b[A\n",
      " 17%|█▋        | 136/792 [00:06<01:18,  8.33it/s]A"
     ]
    },
    {
     "name": "stdout",
     "output_type": "stream",
     "text": [
      "{'ade': 0.47309393, 'fde': 1.0204551}\n",
      "\t last loss:0.000589655, eval on validation:['ade: 0.47309393', 'fde: 1.0204551'], (best ade:0.46598542 at step 22800) \n"
     ]
    },
    {
     "name": "stderr",
     "output_type": "stream",
     "text": [
      " 54%|█████▍    | 429/792 [00:19<00:13, 26.25it/s]\n",
      "  0%|          | 0/69 [00:00<?, ?it/s]\u001b[A"
     ]
    },
    {
     "name": "stdout",
     "output_type": "stream",
     "text": [
      "\tsaving model 23400...\n",
      "\tdone\n",
      "Evaluating\n"
     ]
    },
    {
     "name": "stderr",
     "output_type": "stream",
     "text": [
      "\n",
      " 14%|#4        | 10/69 [00:00<00:00, 89.66it/s]\u001b[A\n",
      " 25%|##4       | 17/69 [00:00<00:00, 80.98it/s]\u001b[A\n",
      " 35%|###4      | 24/69 [00:00<00:00, 76.25it/s]\u001b[A\n",
      " 46%|####6     | 32/69 [00:00<00:00, 75.28it/s]\u001b[A\n",
      " 58%|#####7    | 40/69 [00:00<00:00, 75.36it/s]\u001b[A\n",
      " 72%|#######2  | 50/69 [00:00<00:00, 80.01it/s]\u001b[A\n",
      " 87%|########6 | 60/69 [00:00<00:00, 83.38it/s]\u001b[A\n",
      " 55%|█████▍    | 435/792 [00:20<00:39,  9.03it/s]A"
     ]
    },
    {
     "name": "stdout",
     "output_type": "stream",
     "text": [
      "{'ade': 0.48740977, 'fde': 1.0506552}\n",
      "\t last loss:0.000481873, eval on validation:['ade: 0.48740977', 'fde: 1.0506552'], (best ade:0.46598542 at step 22800) \n"
     ]
    },
    {
     "name": "stderr",
     "output_type": "stream",
     "text": [
      " 92%|█████████▏| 729/792 [00:32<00:02, 24.87it/s]\n",
      "  0%|          | 0/69 [00:00<?, ?it/s]"
     ]
    },
    {
     "name": "stdout",
     "output_type": "stream",
     "text": [
      "\tsaving model 23700...\n",
      "\tdone\n",
      "Evaluating\n"
     ]
    },
    {
     "name": "stderr",
     "output_type": "stream",
     "text": [
      "\u001b[A\n",
      " 13%|#3        | 9/69 [00:00<00:00, 87.18it/s]\u001b[A\n",
      " 22%|##1       | 15/69 [00:00<00:00, 74.67it/s]\u001b[A\n",
      " 33%|###3      | 23/69 [00:00<00:00, 75.38it/s]\u001b[A\n",
      " 46%|####6     | 32/69 [00:00<00:00, 78.24it/s]\u001b[A\n",
      " 57%|#####6    | 39/69 [00:00<00:00, 74.03it/s]\u001b[A\n",
      " 70%|######9   | 48/69 [00:00<00:00, 76.83it/s]\u001b[A\n",
      " 83%|########2 | 57/69 [00:00<00:00, 79.22it/s]\u001b[A\n",
      " 96%|#########5| 66/69 [00:00<00:00, 81.16it/s]\u001b[A\n",
      " 93%|█████████▎| 735/792 [00:33<00:06,  8.56it/s]A"
     ]
    },
    {
     "name": "stdout",
     "output_type": "stream",
     "text": [
      "{'ade': 0.4671805, 'fde': 1.0044382}\n",
      "\t last loss:0.000468658, eval on validation:['ade: 0.4671805', 'fde: 1.0044382'], (best ade:0.46598542 at step 22800) \n"
     ]
    },
    {
     "name": "stderr",
     "output_type": "stream",
     "text": [
      "100%|██████████| 792/792 [00:36<00:00, 25.41it/s]\n",
      "  0%|          | 3/792 [00:00<00:35, 22.21it/s]"
     ]
    },
    {
     "name": "stdout",
     "output_type": "stream",
     "text": [
      "('Epoca 31.', 'lr:', 0.00017470852)\n"
     ]
    },
    {
     "name": "stderr",
     "output_type": "stream",
     "text": [
      " 30%|██▉       | 237/792 [00:09<00:26, 20.99it/s]"
     ]
    },
    {
     "name": "stdout",
     "output_type": "stream",
     "text": [
      "\tsaving model 24000...\n"
     ]
    },
    {
     "name": "stderr",
     "output_type": "stream",
     "text": [
      "\n",
      "  0%|          | 0/69 [00:00<?, ?it/s]\u001b[A\n",
      " 10%|#         | 7/69 [00:00<00:01, 60.03it/s]\u001b[A"
     ]
    },
    {
     "name": "stdout",
     "output_type": "stream",
     "text": [
      "\tdone\n",
      "Evaluating\n"
     ]
    },
    {
     "name": "stderr",
     "output_type": "stream",
     "text": [
      "\n",
      " 17%|#7        | 12/69 [00:00<00:01, 55.07it/s]\u001b[A\n",
      " 23%|##3       | 16/69 [00:00<00:01, 49.39it/s]\u001b[A\n",
      " 32%|###1      | 22/69 [00:00<00:00, 51.50it/s]\u001b[A\n",
      " 39%|###9      | 27/69 [00:00<00:00, 51.04it/s]\u001b[A\n",
      " 49%|####9     | 34/69 [00:00<00:00, 53.99it/s]\u001b[A\n",
      " 59%|#####9    | 41/69 [00:00<00:00, 56.78it/s]\u001b[A\n",
      " 70%|######9   | 48/69 [00:00<00:00, 58.20it/s]\u001b[A\n",
      " 80%|#######9  | 55/69 [00:00<00:00, 60.48it/s]\u001b[A\n",
      " 91%|#########1| 63/69 [00:01<00:00, 64.65it/s]\u001b[A\n",
      "100%|##########| 69/69 [00:01<00:00, 59.79it/s]\u001b[A"
     ]
    },
    {
     "name": "stdout",
     "output_type": "stream",
     "text": [
      "{'ade': 0.46564856, 'fde': 1.0014169}\n",
      "\t last loss:0.000348772, eval on validation:['ade: 0.46564856', 'fde: 1.0014169'], (best ade:0.46598542 at step 22800) \n",
      "\t saving best model...\n"
     ]
    },
    {
     "name": "stderr",
     "output_type": "stream",
     "text": [
      " 31%|███       | 243/792 [00:11<01:30,  6.09it/s]"
     ]
    },
    {
     "name": "stdout",
     "output_type": "stream",
     "text": [
      "\t done.\n"
     ]
    },
    {
     "name": "stderr",
     "output_type": "stream",
     "text": [
      " 68%|██████▊   | 538/792 [00:23<00:10, 24.59it/s]\n",
      "  0%|          | 0/69 [00:00<?, ?it/s]\u001b[A"
     ]
    },
    {
     "name": "stdout",
     "output_type": "stream",
     "text": [
      "\tsaving model 24300...\n",
      "\tdone\n",
      "Evaluating\n"
     ]
    },
    {
     "name": "stderr",
     "output_type": "stream",
     "text": [
      "\n",
      " 12%|#1        | 8/69 [00:00<00:00, 76.89it/s]\u001b[A\n",
      " 19%|#8        | 13/69 [00:00<00:00, 62.98it/s]\u001b[A\n",
      " 26%|##6       | 18/69 [00:00<00:00, 55.83it/s]\u001b[A\n",
      " 32%|###1      | 22/69 [00:00<00:00, 48.23it/s]\u001b[A\n",
      " 39%|###9      | 27/69 [00:00<00:00, 47.01it/s]\u001b[A\n",
      " 49%|####9     | 34/69 [00:00<00:00, 50.89it/s]\u001b[A\n",
      " 62%|######2   | 43/69 [00:00<00:00, 57.92it/s]\u001b[A\n",
      " 74%|#######3  | 51/69 [00:00<00:00, 63.08it/s]\u001b[A\n",
      " 87%|########6 | 60/69 [00:00<00:00, 68.22it/s]\u001b[A\n",
      " 69%|██████▊   | 544/792 [00:25<00:32,  7.64it/s]A"
     ]
    },
    {
     "name": "stdout",
     "output_type": "stream",
     "text": [
      "{'ade': 0.4761077, 'fde': 1.0204699}\n",
      "\t last loss:0.000364751, eval on validation:['ade: 0.4761077', 'fde: 1.0204699'], (best ade:0.46564856 at step 24000) \n"
     ]
    },
    {
     "name": "stderr",
     "output_type": "stream",
     "text": [
      "100%|██████████| 792/792 [00:35<00:00, 22.38it/s]\n",
      "  0%|          | 2/792 [00:00<00:42, 18.51it/s]"
     ]
    },
    {
     "name": "stdout",
     "output_type": "stream",
     "text": [
      "('Epoca 32.', 'lr:', 0.00017470852)\n"
     ]
    },
    {
     "name": "stderr",
     "output_type": "stream",
     "text": [
      "  6%|▌         | 46/792 [00:02<00:35, 21.09it/s]"
     ]
    },
    {
     "name": "stdout",
     "output_type": "stream",
     "text": [
      "\tsaving model 24600...\n"
     ]
    },
    {
     "name": "stderr",
     "output_type": "stream",
     "text": [
      "\n",
      "  0%|          | 0/69 [00:00<?, ?it/s]\u001b[A\n",
      " 10%|#         | 7/69 [00:00<00:00, 64.90it/s]\u001b[A"
     ]
    },
    {
     "name": "stdout",
     "output_type": "stream",
     "text": [
      "\tdone\n",
      "Evaluating\n"
     ]
    },
    {
     "name": "stderr",
     "output_type": "stream",
     "text": [
      "\n",
      " 17%|#7        | 12/69 [00:00<00:01, 56.79it/s]\u001b[A\n",
      " 25%|##4       | 17/69 [00:00<00:00, 52.57it/s]\u001b[A\n",
      " 30%|###       | 21/69 [00:00<00:01, 47.67it/s]\u001b[A\n",
      " 41%|####      | 28/69 [00:00<00:00, 52.27it/s]\u001b[A\n",
      " 49%|####9     | 34/69 [00:00<00:00, 52.93it/s]\u001b[A\n",
      " 59%|#####9    | 41/69 [00:00<00:00, 56.81it/s]\u001b[A\n",
      " 70%|######9   | 48/69 [00:00<00:00, 59.38it/s]\u001b[A\n",
      " 78%|#######8  | 54/69 [00:00<00:00, 58.65it/s]\u001b[A\n",
      " 88%|########8 | 61/69 [00:01<00:00, 60.93it/s]\u001b[A\n",
      " 99%|#########8| 68/69 [00:01<00:00, 60.72it/s]\u001b[A\n",
      "  6%|▌         | 49/792 [00:03<02:25,  5.09it/s][A"
     ]
    },
    {
     "name": "stdout",
     "output_type": "stream",
     "text": [
      "{'ade': 0.46670485, 'fde': 0.9960786}\n",
      "\t last loss:0.000382376, eval on validation:['ade: 0.46670485', 'fde: 0.9960786'], (best ade:0.46564856 at step 24000) \n"
     ]
    },
    {
     "name": "stderr",
     "output_type": "stream",
     "text": [
      " 44%|████▎     | 346/792 [00:16<00:17, 24.78it/s]"
     ]
    },
    {
     "name": "stdout",
     "output_type": "stream",
     "text": [
      "\tsaving model 24900...\n"
     ]
    },
    {
     "name": "stderr",
     "output_type": "stream",
     "text": [
      "\n",
      "  0%|          | 0/69 [00:00<?, ?it/s]\u001b[A\n",
      " 13%|#3        | 9/69 [00:00<00:00, 79.87it/s]\u001b[A"
     ]
    },
    {
     "name": "stdout",
     "output_type": "stream",
     "text": [
      "\tdone\n",
      "Evaluating\n"
     ]
    },
    {
     "name": "stderr",
     "output_type": "stream",
     "text": [
      "\n",
      " 22%|##1       | 15/69 [00:00<00:00, 71.29it/s]\u001b[A\n",
      " 30%|###       | 21/69 [00:00<00:00, 64.97it/s]\u001b[A\n",
      " 42%|####2     | 29/69 [00:00<00:00, 67.74it/s]\u001b[A\n",
      " 52%|#####2    | 36/69 [00:00<00:00, 67.99it/s]\u001b[A\n",
      " 65%|######5   | 45/69 [00:00<00:00, 71.94it/s]\u001b[A\n",
      " 77%|#######6  | 53/69 [00:00<00:00, 73.88it/s]\u001b[A\n",
      " 90%|########9 | 62/69 [00:00<00:00, 76.91it/s]\u001b[A\n",
      " 44%|████▍     | 352/792 [00:17<00:53,  8.19it/s]A"
     ]
    },
    {
     "name": "stdout",
     "output_type": "stream",
     "text": [
      "{'ade': 0.47290328, 'fde': 1.0169274}\n",
      "\t last loss:0.000373517, eval on validation:['ade: 0.47290328', 'fde: 1.0169274'], (best ade:0.46564856 at step 24000) \n"
     ]
    },
    {
     "name": "stderr",
     "output_type": "stream",
     "text": [
      " 82%|████████▏ | 646/792 [00:29<00:06, 20.92it/s]"
     ]
    },
    {
     "name": "stdout",
     "output_type": "stream",
     "text": [
      "\tsaving model 25200...\n"
     ]
    },
    {
     "name": "stderr",
     "output_type": "stream",
     "text": [
      "\n",
      "  0%|          | 0/69 [00:00<?, ?it/s]\u001b[A\n",
      " 12%|#1        | 8/69 [00:00<00:00, 69.68it/s]\u001b[A"
     ]
    },
    {
     "name": "stdout",
     "output_type": "stream",
     "text": [
      "\tdone\n",
      "Evaluating\n"
     ]
    },
    {
     "name": "stderr",
     "output_type": "stream",
     "text": [
      "\n",
      " 19%|#8        | 13/69 [00:00<00:00, 57.03it/s]\u001b[A\n",
      " 26%|##6       | 18/69 [00:00<00:01, 50.81it/s]\u001b[A\n",
      " 33%|###3      | 23/69 [00:00<00:00, 49.51it/s]\u001b[A\n",
      " 42%|####2     | 29/69 [00:00<00:00, 51.20it/s]\u001b[A\n",
      " 52%|#####2    | 36/69 [00:00<00:00, 54.25it/s]\u001b[A\n",
      " 62%|######2   | 43/69 [00:00<00:00, 57.57it/s]\u001b[A\n",
      " 72%|#######2  | 50/69 [00:00<00:00, 59.88it/s]\u001b[A\n",
      " 83%|########2 | 57/69 [00:01<00:00, 61.95it/s]\u001b[A\n",
      " 93%|#########2| 64/69 [00:01<00:00, 63.60it/s]\u001b[A\n",
      " 82%|████████▏ | 649/792 [00:31<00:27,  5.17it/s]A"
     ]
    },
    {
     "name": "stdout",
     "output_type": "stream",
     "text": [
      "{'ade': 0.472523, 'fde': 1.0173577}\n",
      "\t last loss:0.000339128, eval on validation:['ade: 0.472523', 'fde: 1.0173577'], (best ade:0.46564856 at step 24000) \n"
     ]
    },
    {
     "name": "stderr",
     "output_type": "stream",
     "text": [
      "100%|██████████| 792/792 [00:37<00:00, 20.95it/s]\n",
      "  0%|          | 1/792 [00:00<01:32,  8.52it/s]"
     ]
    },
    {
     "name": "stdout",
     "output_type": "stream",
     "text": [
      "('Epoca 33.', 'lr:', 0.00014850224)\n"
     ]
    },
    {
     "name": "stderr",
     "output_type": "stream",
     "text": [
      " 19%|█▉        | 154/792 [00:06<00:24, 26.24it/s]\n",
      "  0%|          | 0/69 [00:00<?, ?it/s]\u001b[A"
     ]
    },
    {
     "name": "stdout",
     "output_type": "stream",
     "text": [
      "\tsaving model 25500...\n",
      "\tdone\n",
      "Evaluating\n"
     ]
    },
    {
     "name": "stderr",
     "output_type": "stream",
     "text": [
      "\n",
      " 13%|#3        | 9/69 [00:00<00:00, 86.74it/s]\u001b[A\n",
      " 22%|##1       | 15/69 [00:00<00:00, 75.63it/s]\u001b[A\n",
      " 30%|###       | 21/69 [00:00<00:00, 68.69it/s]\u001b[A\n",
      " 41%|####      | 28/69 [00:00<00:00, 67.95it/s]\u001b[A\n",
      " 52%|#####2    | 36/69 [00:00<00:00, 70.81it/s]\u001b[A\n",
      " 64%|######3   | 44/69 [00:00<00:00, 71.64it/s]\u001b[A\n",
      " 75%|#######5  | 52/69 [00:00<00:00, 73.62it/s]\u001b[A\n",
      " 88%|########8 | 61/69 [00:00<00:00, 76.83it/s]\u001b[A\n",
      " 20%|██        | 160/792 [00:07<01:15,  8.42it/s]A"
     ]
    },
    {
     "name": "stdout",
     "output_type": "stream",
     "text": [
      "{'ade': 0.46728435, 'fde': 1.0068424}\n",
      "\t last loss:0.000505999, eval on validation:['ade: 0.46728435', 'fde: 1.0068424'], (best ade:0.46564856 at step 24000) \n"
     ]
    },
    {
     "name": "stderr",
     "output_type": "stream",
     "text": [
      " 57%|█████▋    | 454/792 [00:19<00:12, 26.71it/s]\n",
      "  0%|          | 0/69 [00:00<?, ?it/s]\u001b[A"
     ]
    },
    {
     "name": "stdout",
     "output_type": "stream",
     "text": [
      "\tsaving model 25800...\n",
      "\tdone\n",
      "Evaluating\n"
     ]
    },
    {
     "name": "stderr",
     "output_type": "stream",
     "text": [
      "\n",
      " 14%|#4        | 10/69 [00:00<00:00, 95.31it/s]\u001b[A\n",
      " 25%|##4       | 17/69 [00:00<00:00, 85.60it/s]\u001b[A\n",
      " 35%|###4      | 24/69 [00:00<00:00, 77.83it/s]\u001b[A\n",
      " 45%|####4     | 31/69 [00:00<00:00, 74.00it/s]\u001b[A\n",
      " 57%|#####6    | 39/69 [00:00<00:00, 74.74it/s]\u001b[A\n",
      " 70%|######9   | 48/69 [00:00<00:00, 78.16it/s]\u001b[A\n",
      " 84%|########4 | 58/69 [00:00<00:00, 81.66it/s]\u001b[A\n",
      " 99%|#########8| 68/69 [00:00<00:00, 84.72it/s]\u001b[A\n",
      " 58%|█████▊    | 460/792 [00:20<00:37,  8.97it/s]A"
     ]
    },
    {
     "name": "stdout",
     "output_type": "stream",
     "text": [
      "{'ade': 0.47747037, 'fde': 1.0314318}\n",
      "\t last loss:0.000405882, eval on validation:['ade: 0.47747037', 'fde: 1.0314318'], (best ade:0.46564856 at step 24000) \n"
     ]
    },
    {
     "name": "stderr",
     "output_type": "stream",
     "text": [
      " 95%|█████████▌| 754/792 [00:31<00:01, 24.92it/s]\n",
      "  0%|          | 0/69 [00:00<?, ?it/s]\u001b[A"
     ]
    },
    {
     "name": "stdout",
     "output_type": "stream",
     "text": [
      "\tsaving model 26100...\n",
      "\tdone\n",
      "Evaluating\n"
     ]
    },
    {
     "name": "stderr",
     "output_type": "stream",
     "text": [
      "\n",
      " 13%|#3        | 9/69 [00:00<00:00, 86.91it/s]\u001b[A\n",
      " 23%|##3       | 16/69 [00:00<00:00, 77.90it/s]\u001b[A\n",
      " 33%|###3      | 23/69 [00:00<00:00, 74.01it/s]\u001b[A\n",
      " 42%|####2     | 29/69 [00:00<00:00, 68.07it/s]\u001b[A\n",
      " 52%|#####2    | 36/69 [00:00<00:00, 67.96it/s]\u001b[A\n",
      " 64%|######3   | 44/69 [00:00<00:00, 69.86it/s]\u001b[A\n",
      " 74%|#######3  | 51/69 [00:00<00:00, 68.61it/s]\u001b[A\n",
      " 86%|########5 | 59/69 [00:00<00:00, 70.53it/s]\u001b[A\n",
      " 99%|#########8| 68/69 [00:00<00:00, 74.34it/s]\u001b[A\n",
      " 96%|█████████▌| 757/792 [00:33<00:05,  6.32it/s]A"
     ]
    },
    {
     "name": "stdout",
     "output_type": "stream",
     "text": [
      "{'ade': 0.46609142, 'fde': 1.0002394}\n",
      "\t last loss:0.000320499, eval on validation:['ade: 0.46609142', 'fde: 1.0002394'], (best ade:0.46564856 at step 24000) \n"
     ]
    },
    {
     "name": "stderr",
     "output_type": "stream",
     "text": [
      "100%|██████████| 792/792 [00:34<00:00, 22.80it/s]\n",
      "  0%|          | 1/792 [00:00<01:50,  7.17it/s]"
     ]
    },
    {
     "name": "stdout",
     "output_type": "stream",
     "text": [
      "('Epoca 34.', 'lr:', 0.00014850224)\n"
     ]
    },
    {
     "name": "stderr",
     "output_type": "stream",
     "text": [
      " 33%|███▎      | 263/792 [00:11<00:25, 20.90it/s]"
     ]
    },
    {
     "name": "stdout",
     "output_type": "stream",
     "text": [
      "\tsaving model 26400...\n"
     ]
    },
    {
     "name": "stderr",
     "output_type": "stream",
     "text": [
      "\n",
      "  0%|          | 0/69 [00:00<?, ?it/s]\u001b[A\n",
      " 12%|#1        | 8/69 [00:00<00:00, 74.24it/s]\u001b[A"
     ]
    },
    {
     "name": "stdout",
     "output_type": "stream",
     "text": [
      "\tdone\n",
      "Evaluating\n"
     ]
    },
    {
     "name": "stderr",
     "output_type": "stream",
     "text": [
      "\n",
      " 19%|#8        | 13/69 [00:00<00:00, 64.07it/s]\u001b[A\n",
      " 26%|##6       | 18/69 [00:00<00:00, 58.53it/s]\u001b[A\n",
      " 36%|###6      | 25/69 [00:00<00:00, 59.64it/s]\u001b[A\n",
      " 45%|####4     | 31/69 [00:00<00:00, 57.70it/s]\u001b[A\n",
      " 57%|#####6    | 39/69 [00:00<00:00, 62.16it/s]\u001b[A\n",
      " 67%|######6   | 46/69 [00:00<00:00, 64.20it/s]\u001b[A\n",
      " 78%|#######8  | 54/69 [00:00<00:00, 67.13it/s]\u001b[A\n",
      " 90%|########9 | 62/69 [00:00<00:00, 69.62it/s]\u001b[A\n",
      " 34%|███▎      | 266/792 [00:12<01:33,  5.62it/s]A"
     ]
    },
    {
     "name": "stdout",
     "output_type": "stream",
     "text": [
      "{'ade': 0.47905242, 'fde': 1.0374211}\n",
      "\t last loss:0.000422390, eval on validation:['ade: 0.47905242', 'fde: 1.0374211'], (best ade:0.46564856 at step 24000) \n"
     ]
    },
    {
     "name": "stderr",
     "output_type": "stream",
     "text": [
      " 71%|███████   | 563/792 [00:24<00:09, 25.12it/s]\n",
      "  0%|          | 0/69 [00:00<?, ?it/s]"
     ]
    },
    {
     "name": "stdout",
     "output_type": "stream",
     "text": [
      "\tsaving model 26700...\n",
      "\tdone\n",
      "Evaluating\n"
     ]
    },
    {
     "name": "stderr",
     "output_type": "stream",
     "text": [
      "\u001b[A\n",
      " 13%|#3        | 9/69 [00:00<00:00, 81.27it/s]\u001b[A\n",
      " 22%|##1       | 15/69 [00:00<00:00, 72.97it/s]\u001b[A\n",
      " 33%|###3      | 23/69 [00:00<00:00, 74.33it/s]\u001b[A\n",
      " 46%|####6     | 32/69 [00:00<00:00, 77.31it/s]\u001b[A\n",
      " 59%|#####9    | 41/69 [00:00<00:00, 77.91it/s]\u001b[A\n",
      " 71%|#######1  | 49/69 [00:00<00:00, 77.40it/s]\u001b[A\n",
      " 84%|########4 | 58/69 [00:00<00:00, 79.35it/s]\u001b[A\n",
      " 97%|#########7| 67/69 [00:00<00:00, 81.13it/s]\u001b[A\n",
      " 71%|███████▏  | 566/792 [00:25<00:33,  6.65it/s]A"
     ]
    },
    {
     "name": "stdout",
     "output_type": "stream",
     "text": [
      "{'ade': 0.4771037, 'fde': 1.0325431}\n",
      "\t last loss:0.000343801, eval on validation:['ade: 0.4771037', 'fde: 1.0325431'], (best ade:0.46564856 at step 24000) \n"
     ]
    },
    {
     "name": "stderr",
     "output_type": "stream",
     "text": [
      "100%|██████████| 792/792 [00:34<00:00, 22.65it/s]\n",
      "  0%|          | 1/792 [00:00<01:33,  8.42it/s]"
     ]
    },
    {
     "name": "stdout",
     "output_type": "stream",
     "text": [
      "('Epoca 35.', 'lr:', 0.0001262269)\n"
     ]
    },
    {
     "name": "stderr",
     "output_type": "stream",
     "text": [
      "  9%|▉         | 70/792 [00:03<00:34, 20.79it/s]"
     ]
    },
    {
     "name": "stdout",
     "output_type": "stream",
     "text": [
      "\tsaving model 27000...\n"
     ]
    },
    {
     "name": "stderr",
     "output_type": "stream",
     "text": [
      "\n",
      "  0%|          | 0/69 [00:00<?, ?it/s]\u001b[A\n",
      "  9%|8         | 6/69 [00:00<00:01, 57.23it/s]\u001b[A"
     ]
    },
    {
     "name": "stdout",
     "output_type": "stream",
     "text": [
      "\tdone\n",
      "Evaluating\n"
     ]
    },
    {
     "name": "stderr",
     "output_type": "stream",
     "text": [
      "\n",
      " 16%|#5        | 11/69 [00:00<00:01, 51.41it/s]\u001b[A\n",
      " 23%|##3       | 16/69 [00:00<00:01, 48.64it/s]\u001b[A\n",
      " 30%|###       | 21/69 [00:00<00:00, 48.52it/s]\u001b[A\n",
      " 39%|###9      | 27/69 [00:00<00:00, 50.53it/s]\u001b[A\n",
      " 48%|####7     | 33/69 [00:00<00:00, 52.98it/s]\u001b[A\n",
      " 59%|#####9    | 41/69 [00:00<00:00, 57.77it/s]\u001b[A\n",
      " 71%|#######1  | 49/69 [00:00<00:00, 62.39it/s]\u001b[A\n",
      " 83%|########2 | 57/69 [00:00<00:00, 65.93it/s]\u001b[A\n",
      " 94%|#########4| 65/69 [00:01<00:00, 67.04it/s]\u001b[A\n",
      "  9%|▉         | 73/792 [00:05<02:14,  5.35it/s][A"
     ]
    },
    {
     "name": "stdout",
     "output_type": "stream",
     "text": [
      "{'ade': 0.47131908, 'fde': 1.0161123}\n",
      "\t last loss:0.000384538, eval on validation:['ade: 0.47131908', 'fde: 1.0161123'], (best ade:0.46564856 at step 24000) \n"
     ]
    },
    {
     "name": "stderr",
     "output_type": "stream",
     "text": [
      " 47%|████▋     | 370/792 [00:17<00:20, 20.66it/s]"
     ]
    },
    {
     "name": "stdout",
     "output_type": "stream",
     "text": [
      "\tsaving model 27300...\n"
     ]
    },
    {
     "name": "stderr",
     "output_type": "stream",
     "text": [
      "\n",
      "  0%|          | 0/69 [00:00<?, ?it/s]\u001b[A\n",
      "  9%|8         | 6/69 [00:00<00:01, 50.41it/s]\u001b[A"
     ]
    },
    {
     "name": "stdout",
     "output_type": "stream",
     "text": [
      "\tdone\n",
      "Evaluating\n"
     ]
    },
    {
     "name": "stderr",
     "output_type": "stream",
     "text": [
      "\n",
      " 17%|#7        | 12/69 [00:00<00:01, 51.71it/s]\u001b[A\n",
      " 26%|##6       | 18/69 [00:00<00:00, 53.05it/s]\u001b[A\n",
      " 36%|###6      | 25/69 [00:00<00:00, 56.91it/s]\u001b[A\n",
      " 45%|####4     | 31/69 [00:00<00:00, 55.96it/s]\u001b[A\n",
      " 57%|#####6    | 39/69 [00:00<00:00, 60.76it/s]\u001b[A\n",
      " 70%|######9   | 48/69 [00:00<00:00, 66.48it/s]\u001b[A\n",
      " 83%|########2 | 57/69 [00:00<00:00, 70.88it/s]\u001b[A\n",
      " 96%|#########5| 66/69 [00:00<00:00, 74.22it/s]\u001b[A\n",
      "100%|##########| 69/69 [00:01<00:00, 67.88it/s]\u001b[A"
     ]
    },
    {
     "name": "stdout",
     "output_type": "stream",
     "text": [
      "{'ade': 0.46519217, 'fde': 0.9991461}\n",
      "\t last loss:0.000614746, eval on validation:['ade: 0.46519217', 'fde: 0.9991461'], (best ade:0.46564856 at step 24000) \n",
      "\t saving best model...\n"
     ]
    },
    {
     "name": "stderr",
     "output_type": "stream",
     "text": [
      "\r",
      " 47%|████▋     | 373/792 [00:18<01:24,  4.96it/s]"
     ]
    },
    {
     "name": "stdout",
     "output_type": "stream",
     "text": [
      "\t done.\n"
     ]
    },
    {
     "name": "stderr",
     "output_type": "stream",
     "text": [
      " 85%|████████▍ | 671/792 [00:30<00:04, 26.64it/s]\n",
      "  0%|          | 0/69 [00:00<?, ?it/s]\u001b[A"
     ]
    },
    {
     "name": "stdout",
     "output_type": "stream",
     "text": [
      "\tsaving model 27600...\n",
      "\tdone\n",
      "Evaluating\n"
     ]
    },
    {
     "name": "stderr",
     "output_type": "stream",
     "text": [
      "\n",
      " 13%|#3        | 9/69 [00:00<00:00, 86.18it/s]\u001b[A\n",
      " 26%|##6       | 18/69 [00:00<00:00, 85.34it/s]\u001b[A\n",
      " 38%|###7      | 26/69 [00:00<00:00, 81.14it/s]\u001b[A\n",
      " 48%|####7     | 33/69 [00:00<00:00, 74.47it/s]\u001b[A\n",
      " 62%|######2   | 43/69 [00:00<00:00, 79.22it/s]\u001b[A\n",
      " 74%|#######3  | 51/69 [00:00<00:00, 77.93it/s]\u001b[A\n",
      " 88%|########8 | 61/69 [00:00<00:00, 80.73it/s]\u001b[A\n",
      " 85%|████████▌ | 674/792 [00:32<00:17,  6.85it/s]A"
     ]
    },
    {
     "name": "stdout",
     "output_type": "stream",
     "text": [
      "{'ade': 0.46646306, 'fde': 1.0032222}\n",
      "\t last loss:0.000240476, eval on validation:['ade: 0.46646306', 'fde: 1.0032222'], (best ade:0.46519217 at step 27300) \n"
     ]
    },
    {
     "name": "stderr",
     "output_type": "stream",
     "text": [
      "100%|██████████| 792/792 [00:37<00:00, 21.40it/s]\n",
      "  0%|          | 2/792 [00:00<00:42, 18.80it/s]"
     ]
    },
    {
     "name": "stdout",
     "output_type": "stream",
     "text": [
      "('Epoca 36.', 'lr:', 0.0001262269)\n"
     ]
    },
    {
     "name": "stderr",
     "output_type": "stream",
     "text": [
      " 22%|██▏       | 177/792 [00:08<00:25, 24.36it/s]\n",
      "  0%|          | 0/69 [00:00<?, ?it/s]\u001b[A"
     ]
    },
    {
     "name": "stdout",
     "output_type": "stream",
     "text": [
      "\tsaving model 27900...\n",
      "\tdone\n",
      "Evaluating\n"
     ]
    },
    {
     "name": "stderr",
     "output_type": "stream",
     "text": [
      "\n",
      " 13%|#3        | 9/69 [00:00<00:00, 85.26it/s]\u001b[A\n",
      " 26%|##6       | 18/69 [00:00<00:00, 83.53it/s]\u001b[A\n",
      " 35%|###4      | 24/69 [00:00<00:00, 74.12it/s]\u001b[A\n",
      " 43%|####3     | 30/69 [00:00<00:00, 67.31it/s]\u001b[A\n",
      " 55%|#####5    | 38/69 [00:00<00:00, 69.29it/s]\u001b[A\n",
      " 65%|######5   | 45/69 [00:00<00:00, 69.10it/s]\u001b[A\n",
      " 78%|#######8  | 54/69 [00:00<00:00, 73.25it/s]\u001b[A\n",
      " 90%|########9 | 62/69 [00:00<00:00, 74.92it/s]\u001b[A\n",
      " 23%|██▎       | 183/792 [00:09<01:13,  8.33it/s]A"
     ]
    },
    {
     "name": "stdout",
     "output_type": "stream",
     "text": [
      "{'ade': 0.4675543, 'fde': 1.0061476}\n",
      "\t last loss:0.000417887, eval on validation:['ade: 0.4675543', 'fde: 1.0061476'], (best ade:0.46519217 at step 27300) \n"
     ]
    },
    {
     "name": "stderr",
     "output_type": "stream",
     "text": [
      " 60%|██████    | 477/792 [00:21<00:12, 25.50it/s]\n",
      "  0%|          | 0/69 [00:00<?, ?it/s]\u001b[A"
     ]
    },
    {
     "name": "stdout",
     "output_type": "stream",
     "text": [
      "\tsaving model 28200...\n",
      "\tdone\n",
      "Evaluating\n"
     ]
    },
    {
     "name": "stderr",
     "output_type": "stream",
     "text": [
      "\n",
      " 14%|#4        | 10/69 [00:00<00:00, 93.37it/s]\u001b[A\n",
      " 25%|##4       | 17/69 [00:00<00:00, 83.05it/s]\u001b[A\n",
      " 36%|###6      | 25/69 [00:00<00:00, 80.19it/s]\u001b[A\n",
      " 48%|####7     | 33/69 [00:00<00:00, 77.90it/s]\u001b[A\n",
      " 58%|#####7    | 40/69 [00:00<00:00, 73.42it/s]\u001b[A\n",
      " 72%|#######2  | 50/69 [00:00<00:00, 78.37it/s]\u001b[A\n",
      " 86%|########5 | 59/69 [00:00<00:00, 81.09it/s]\u001b[A\n",
      " 61%|██████    | 483/792 [00:22<00:34,  8.98it/s]A"
     ]
    },
    {
     "name": "stdout",
     "output_type": "stream",
     "text": [
      "{'ade': 0.47305596, 'fde': 1.0178846}\n",
      "\t last loss:0.000383500, eval on validation:['ade: 0.47305596', 'fde: 1.0178846'], (best ade:0.46519217 at step 27300) \n"
     ]
    },
    {
     "name": "stderr",
     "output_type": "stream",
     "text": [
      " 98%|█████████▊| 778/792 [00:35<00:00, 23.04it/s]"
     ]
    },
    {
     "name": "stdout",
     "output_type": "stream",
     "text": [
      "\tsaving model 28500...\n"
     ]
    },
    {
     "name": "stderr",
     "output_type": "stream",
     "text": [
      "\n",
      "  0%|          | 0/69 [00:00<?, ?it/s]\u001b[A\n",
      " 12%|#1        | 8/69 [00:00<00:00, 78.07it/s]\u001b[A\n",
      " 25%|##4       | 17/69 [00:00<00:00, 78.94it/s]\u001b[A\n",
      " 33%|###3      | 23/69 [00:00<00:00, 71.97it/s]\u001b[A\n",
      " 42%|####2     | 29/69 [00:00<00:00, 66.88it/s]\u001b[A\n",
      " 52%|#####2    | 36/69 [00:00<00:00, 66.03it/s]\u001b[A\n",
      " 64%|######3   | 44/69 [00:00<00:00, 67.59it/s]\u001b[A\n",
      " 75%|#######5  | 52/69 [00:00<00:00, 69.70it/s]\u001b[A\n",
      " 88%|########8 | 61/69 [00:00<00:00, 73.90it/s]\u001b[A\n",
      "100%|##########| 69/69 [00:00<00:00, 72.67it/s]\u001b[A"
     ]
    },
    {
     "name": "stdout",
     "output_type": "stream",
     "text": [
      "\tdone\n",
      "Evaluating\n",
      "{'ade': 0.4647998, 'fde': 0.99894136}\n",
      "\t last loss:0.000472797, eval on validation:['ade: 0.4647998', 'fde: 0.99894136'], (best ade:0.46519217 at step 27300) \n",
      "\t saving best model...\n"
     ]
    },
    {
     "name": "stderr",
     "output_type": "stream",
     "text": [
      "100%|██████████| 792/792 [00:37<00:00, 12.75it/s]\n",
      "  0%|          | 2/792 [00:00<00:40, 19.29it/s]"
     ]
    },
    {
     "name": "stdout",
     "output_type": "stream",
     "text": [
      "\t done.\n",
      "('Epoca 37.', 'lr:', 0.00010729288)\n"
     ]
    },
    {
     "name": "stderr",
     "output_type": "stream",
     "text": [
      " 36%|███▌      | 287/792 [00:11<00:18, 26.97it/s]\n",
      "  0%|          | 0/69 [00:00<?, ?it/s]\u001b[A"
     ]
    },
    {
     "name": "stdout",
     "output_type": "stream",
     "text": [
      "\tsaving model 28800...\n",
      "\tdone\n",
      "Evaluating\n"
     ]
    },
    {
     "name": "stderr",
     "output_type": "stream",
     "text": [
      "\n",
      " 14%|#4        | 10/69 [00:00<00:00, 92.30it/s]\u001b[A\n",
      " 26%|##6       | 18/69 [00:00<00:00, 84.15it/s]\u001b[A\n",
      " 36%|###6      | 25/69 [00:00<00:00, 78.08it/s]\u001b[A\n",
      " 46%|####6     | 32/69 [00:00<00:00, 74.32it/s]\u001b[A\n",
      " 59%|#####9    | 41/69 [00:00<00:00, 75.99it/s]\u001b[A\n",
      " 72%|#######2  | 50/69 [00:00<00:00, 78.47it/s]\u001b[A\n",
      " 87%|########6 | 60/69 [00:00<00:00, 82.36it/s]\u001b[A\n",
      "100%|##########| 69/69 [00:00<00:00, 83.92it/s]\u001b[A"
     ]
    },
    {
     "name": "stdout",
     "output_type": "stream",
     "text": [
      "{'ade': 0.45996422, 'fde': 0.98267406}\n",
      "\t last loss:0.000335277, eval on validation:['ade: 0.45996422', 'fde: 0.98267406'], (best ade:0.4647998 at step 28500) \n",
      "\t saving best model...\n",
      "\t done.\n"
     ]
    },
    {
     "name": "stderr",
     "output_type": "stream",
     "text": [
      " 74%|███████▍  | 587/792 [00:25<00:08, 22.97it/s]"
     ]
    },
    {
     "name": "stdout",
     "output_type": "stream",
     "text": [
      "\tsaving model 29100...\n"
     ]
    },
    {
     "name": "stderr",
     "output_type": "stream",
     "text": [
      "\n",
      "  0%|          | 0/69 [00:00<?, ?it/s]\u001b[A\n",
      " 12%|#1        | 8/69 [00:00<00:00, 77.46it/s]\u001b[A\n",
      " 20%|##        | 14/69 [00:00<00:00, 69.01it/s]\u001b[A\n",
      " 29%|##8       | 20/69 [00:00<00:00, 62.71it/s]\u001b[A\n",
      " 39%|###9      | 27/69 [00:00<00:00, 64.09it/s]\u001b[A\n",
      " 49%|####9     | 34/69 [00:00<00:00, 65.68it/s]\u001b[A\n",
      " 59%|#####9    | 41/69 [00:00<00:00, 66.58it/s]\u001b[A\n",
      " 72%|#######2  | 50/69 [00:00<00:00, 70.80it/s]\u001b[A\n",
      " 83%|########2 | 57/69 [00:00<00:00, 68.62it/s]\u001b[A\n",
      " 94%|#########4| 65/69 [00:00<00:00, 71.60it/s]\u001b[A\n",
      " 74%|███████▍  | 590/792 [00:27<00:33,  6.02it/s]A"
     ]
    },
    {
     "name": "stdout",
     "output_type": "stream",
     "text": [
      "\tdone\n",
      "Evaluating\n",
      "{'ade': 0.47110015, 'fde': 1.0136889}\n",
      "\t last loss:0.000364902, eval on validation:['ade: 0.47110015', 'fde: 1.0136889'], (best ade:0.45996422 at step 28800) \n"
     ]
    },
    {
     "name": "stderr",
     "output_type": "stream",
     "text": [
      "100%|██████████| 792/792 [00:35<00:00, 22.51it/s]\n",
      "  0%|          | 3/792 [00:00<00:33, 23.53it/s]"
     ]
    },
    {
     "name": "stdout",
     "output_type": "stream",
     "text": [
      "('Epoca 38.', 'lr:', 0.00010729288)\n"
     ]
    },
    {
     "name": "stderr",
     "output_type": "stream",
     "text": [
      " 12%|█▏        | 93/792 [00:03<00:27, 25.84it/s]\n",
      "  0%|          | 0/69 [00:00<?, ?it/s]\u001b[A"
     ]
    },
    {
     "name": "stdout",
     "output_type": "stream",
     "text": [
      "\tsaving model 29400...\n",
      "\tdone\n",
      "Evaluating\n"
     ]
    },
    {
     "name": "stderr",
     "output_type": "stream",
     "text": [
      "\n",
      " 14%|#4        | 10/69 [00:00<00:00, 91.11it/s]\u001b[A\n",
      " 25%|##4       | 17/69 [00:00<00:00, 81.95it/s]\u001b[A\n",
      " 39%|###9      | 27/69 [00:00<00:00, 84.74it/s]\u001b[A\n",
      " 51%|#####     | 35/69 [00:00<00:00, 81.25it/s]\u001b[A\n",
      " 61%|######    | 42/69 [00:00<00:00, 75.79it/s]\u001b[A\n",
      " 71%|#######1  | 49/69 [00:00<00:00, 73.75it/s]\u001b[A\n",
      " 86%|########5 | 59/69 [00:00<00:00, 78.88it/s]\u001b[A\n",
      " 12%|█▎        | 99/792 [00:05<01:17,  8.90it/s][A"
     ]
    },
    {
     "name": "stdout",
     "output_type": "stream",
     "text": [
      "{'ade': 0.47251275, 'fde': 1.0201627}\n",
      "\t last loss:0.000445279, eval on validation:['ade: 0.47251275', 'fde: 1.0201627'], (best ade:0.45996422 at step 28800) \n"
     ]
    },
    {
     "name": "stderr",
     "output_type": "stream",
     "text": [
      " 50%|████▉     | 393/792 [00:17<00:17, 22.89it/s]"
     ]
    },
    {
     "name": "stdout",
     "output_type": "stream",
     "text": [
      "\tsaving model 29700...\n"
     ]
    },
    {
     "name": "stderr",
     "output_type": "stream",
     "text": [
      "\n",
      "  0%|          | 0/69 [00:00<?, ?it/s]\u001b[A\n",
      " 10%|#         | 7/69 [00:00<00:00, 65.62it/s]\u001b[A"
     ]
    },
    {
     "name": "stdout",
     "output_type": "stream",
     "text": [
      "\tdone\n",
      "Evaluating\n"
     ]
    },
    {
     "name": "stderr",
     "output_type": "stream",
     "text": [
      "\n",
      " 17%|#7        | 12/69 [00:00<00:00, 59.28it/s]\u001b[A\n",
      " 25%|##4       | 17/69 [00:00<00:00, 55.70it/s]\u001b[A\n",
      " 33%|###3      | 23/69 [00:00<00:00, 55.43it/s]\u001b[A\n",
      " 43%|####3     | 30/69 [00:00<00:00, 57.61it/s]\u001b[A\n",
      " 54%|#####3    | 37/69 [00:00<00:00, 60.64it/s]\u001b[A\n",
      " 65%|######5   | 45/69 [00:00<00:00, 64.95it/s]\u001b[A\n",
      " 77%|#######6  | 53/69 [00:00<00:00, 67.50it/s]\u001b[A\n",
      " 88%|########8 | 61/69 [00:00<00:00, 69.54it/s]\u001b[A\n",
      " 50%|█████     | 399/792 [00:19<00:52,  7.52it/s]A"
     ]
    },
    {
     "name": "stdout",
     "output_type": "stream",
     "text": [
      "{'ade': 0.47493273, 'fde': 1.0288808}\n",
      "\t last loss:0.000439479, eval on validation:['ade: 0.47493273', 'fde: 1.0288808'], (best ade:0.45996422 at step 28800) \n"
     ]
    },
    {
     "name": "stderr",
     "output_type": "stream",
     "text": [
      " 88%|████████▊ | 693/792 [00:31<00:03, 25.71it/s]\n",
      "  0%|          | 0/69 [00:00<?, ?it/s]\u001b[A"
     ]
    },
    {
     "name": "stdout",
     "output_type": "stream",
     "text": [
      "\tsaving model 30000...\n",
      "\tdone\n",
      "Evaluating\n"
     ]
    },
    {
     "name": "stderr",
     "output_type": "stream",
     "text": [
      "\n",
      " 14%|#4        | 10/69 [00:00<00:00, 94.33it/s]\u001b[A\n",
      " 28%|##7       | 19/69 [00:00<00:00, 90.06it/s]\u001b[A\n",
      " 38%|###7      | 26/69 [00:00<00:00, 81.38it/s]\u001b[A\n",
      " 46%|####6     | 32/69 [00:00<00:00, 69.83it/s]\u001b[A\n",
      " 61%|######    | 42/69 [00:00<00:00, 75.61it/s]\u001b[A\n",
      " 72%|#######2  | 50/69 [00:00<00:00, 74.73it/s]\u001b[A\n",
      " 87%|########6 | 60/69 [00:00<00:00, 79.23it/s]\u001b[A\n",
      " 88%|████████▊ | 699/792 [00:33<00:10,  8.95it/s]A"
     ]
    },
    {
     "name": "stdout",
     "output_type": "stream",
     "text": [
      "{'ade': 0.4613857, 'fde': 0.98790413}\n",
      "\t last loss:0.000384554, eval on validation:['ade: 0.4613857', 'fde: 0.98790413'], (best ade:0.45996422 at step 28800) \n"
     ]
    },
    {
     "name": "stderr",
     "output_type": "stream",
     "text": [
      "100%|██████████| 792/792 [00:36<00:00, 24.52it/s]\n",
      "  0%|          | 1/792 [00:00<01:27,  8.99it/s]"
     ]
    },
    {
     "name": "stdout",
     "output_type": "stream",
     "text": [
      "('Epoca 39.', 'lr:', 9.119895e-05)\n"
     ]
    },
    {
     "name": "stderr",
     "output_type": "stream",
     "text": [
      " 26%|██▌       | 202/792 [00:07<00:23, 24.99it/s]\n",
      "  0%|          | 0/69 [00:00<?, ?it/s]\u001b[A"
     ]
    },
    {
     "name": "stdout",
     "output_type": "stream",
     "text": [
      "\tsaving model 30300...\n",
      "\tdone\n",
      "Evaluating\n"
     ]
    },
    {
     "name": "stderr",
     "output_type": "stream",
     "text": [
      "\n",
      " 13%|#3        | 9/69 [00:00<00:00, 87.71it/s]\u001b[A\n",
      " 22%|##1       | 15/69 [00:00<00:00, 75.68it/s]\u001b[A\n",
      " 32%|###1      | 22/69 [00:00<00:00, 71.84it/s]\u001b[A\n",
      " 41%|####      | 28/69 [00:00<00:00, 66.79it/s]\u001b[A\n",
      " 54%|#####3    | 37/69 [00:00<00:00, 71.37it/s]\u001b[A\n",
      " 65%|######5   | 45/69 [00:00<00:00, 71.64it/s]\u001b[A\n",
      " 75%|#######5  | 52/69 [00:00<00:00, 71.00it/s]\u001b[A\n",
      " 88%|########8 | 61/69 [00:00<00:00, 74.29it/s]\u001b[A\n",
      " 26%|██▋       | 208/792 [00:09<01:10,  8.28it/s]A"
     ]
    },
    {
     "name": "stdout",
     "output_type": "stream",
     "text": [
      "{'ade': 0.47147548, 'fde': 1.0182245}\n",
      "\t last loss:0.000482124, eval on validation:['ade: 0.47147548', 'fde: 1.0182245'], (best ade:0.45996422 at step 28800) \n"
     ]
    },
    {
     "name": "stderr",
     "output_type": "stream",
     "text": [
      " 64%|██████▎   | 503/792 [00:22<00:11, 24.15it/s]\n",
      "  0%|          | 0/69 [00:00<?, ?it/s]"
     ]
    },
    {
     "name": "stdout",
     "output_type": "stream",
     "text": [
      "\tsaving model 30600...\n",
      "\tdone\n",
      "Evaluating\n"
     ]
    },
    {
     "name": "stderr",
     "output_type": "stream",
     "text": [
      "\u001b[A\n",
      " 13%|#3        | 9/69 [00:00<00:00, 89.08it/s]\u001b[A\n",
      " 23%|##3       | 16/69 [00:00<00:00, 81.41it/s]\u001b[A\n",
      " 32%|###1      | 22/69 [00:00<00:00, 71.02it/s]\u001b[A\n",
      " 42%|####2     | 29/69 [00:00<00:00, 69.22it/s]\u001b[A\n",
      " 52%|#####2    | 36/69 [00:00<00:00, 67.77it/s]\u001b[A\n",
      " 65%|######5   | 45/69 [00:00<00:00, 72.24it/s]\u001b[A\n",
      " 78%|#######8  | 54/69 [00:00<00:00, 76.68it/s]\u001b[A\n",
      " 93%|#########2| 64/69 [00:00<00:00, 81.27it/s]\u001b[A\n",
      " 64%|██████▍   | 506/792 [00:23<00:43,  6.56it/s]A"
     ]
    },
    {
     "name": "stdout",
     "output_type": "stream",
     "text": [
      "{'ade': 0.46676195, 'fde': 1.0022963}\n",
      "\t last loss:0.000515478, eval on validation:['ade: 0.46676195', 'fde: 1.0022963'], (best ade:0.45996422 at step 28800) \n"
     ]
    },
    {
     "name": "stderr",
     "output_type": "stream",
     "text": [
      "100%|██████████| 792/792 [00:34<00:00, 22.68it/s]\n",
      "  0%|          | 1/792 [00:00<01:38,  8.06it/s]"
     ]
    },
    {
     "name": "stdout",
     "output_type": "stream",
     "text": [
      "('Epoca 40.', 'lr:', 9.119895e-05)\n"
     ]
    },
    {
     "name": "stderr",
     "output_type": "stream",
     "text": [
      "  1%|▏         | 10/792 [00:00<00:54, 14.46it/s]\n"
     ]
    },
    {
     "name": "stdout",
     "output_type": "stream",
     "text": [
      "\tsaving model 30900...\n",
      "\tdone\n",
      "Evaluating\n"
     ]
    },
    {
     "name": "stderr",
     "output_type": "stream",
     "text": [
      "  0%|          | 0/69 [00:00<?, ?it/s]\u001b[A\n",
      " 13%|#3        | 9/69 [00:00<00:00, 84.79it/s]\u001b[A\n",
      " 20%|##        | 14/69 [00:00<00:00, 70.11it/s]\u001b[A\n",
      " 30%|###       | 21/69 [00:00<00:00, 66.51it/s]\u001b[A\n",
      " 41%|####      | 28/69 [00:00<00:00, 66.69it/s]\u001b[A\n",
      " 51%|#####     | 35/69 [00:00<00:00, 67.47it/s]\u001b[A\n",
      " 64%|######3   | 44/69 [00:00<00:00, 71.37it/s]\u001b[A\n",
      " 77%|#######6  | 53/69 [00:00<00:00, 74.91it/s]\u001b[A\n",
      " 90%|########9 | 62/69 [00:00<00:00, 77.32it/s]\u001b[A\n",
      "  2%|▏         | 15/792 [00:01<02:17,  5.67it/s][A"
     ]
    },
    {
     "name": "stdout",
     "output_type": "stream",
     "text": [
      "{'ade': 0.47276315, 'fde': 1.0162348}\n",
      "\t last loss:0.000280398, eval on validation:['ade: 0.47276315', 'fde: 1.0162348'], (best ade:0.45996422 at step 28800) \n"
     ]
    },
    {
     "name": "stderr",
     "output_type": "stream",
     "text": [
      " 39%|███▉      | 309/792 [00:13<00:18, 26.72it/s]\n",
      "  0%|          | 0/69 [00:00<?, ?it/s]\u001b[A"
     ]
    },
    {
     "name": "stdout",
     "output_type": "stream",
     "text": [
      "\tsaving model 31200...\n",
      "\tdone\n",
      "Evaluating\n"
     ]
    },
    {
     "name": "stderr",
     "output_type": "stream",
     "text": [
      "\n",
      " 14%|#4        | 10/69 [00:00<00:00, 93.75it/s]\u001b[A\n",
      " 25%|##4       | 17/69 [00:00<00:00, 82.18it/s]\u001b[A\n",
      " 38%|###7      | 26/69 [00:00<00:00, 83.90it/s]\u001b[A\n",
      " 52%|#####2    | 36/69 [00:00<00:00, 86.38it/s]\u001b[A\n",
      " 65%|######5   | 45/69 [00:00<00:00, 86.87it/s]\u001b[A\n",
      " 77%|#######6  | 53/69 [00:00<00:00, 84.63it/s]\u001b[A\n",
      " 91%|#########1| 63/69 [00:00<00:00, 86.93it/s]\u001b[A\n",
      " 40%|███▉      | 315/792 [00:14<00:51,  9.21it/s]A"
     ]
    },
    {
     "name": "stdout",
     "output_type": "stream",
     "text": [
      "{'ade': 0.46074528, 'fde': 0.9862959}\n",
      "\t last loss:0.000314180, eval on validation:['ade: 0.46074528', 'fde: 0.9862959'], (best ade:0.45996422 at step 28800) \n"
     ]
    },
    {
     "name": "stderr",
     "output_type": "stream",
     "text": [
      " 77%|███████▋  | 611/792 [00:27<00:07, 23.40it/s]\n",
      "  0%|          | 0/69 [00:00<?, ?it/s]\u001b[A"
     ]
    },
    {
     "name": "stdout",
     "output_type": "stream",
     "text": [
      "\tsaving model 31500...\n",
      "\tdone\n",
      "Evaluating\n"
     ]
    },
    {
     "name": "stderr",
     "output_type": "stream",
     "text": [
      "\n",
      " 13%|#3        | 9/69 [00:00<00:00, 86.03it/s]\u001b[A\n",
      " 22%|##1       | 15/69 [00:00<00:00, 75.13it/s]\u001b[A\n",
      " 32%|###1      | 22/69 [00:00<00:00, 69.59it/s]\u001b[A\n",
      " 42%|####2     | 29/69 [00:00<00:00, 69.52it/s]\u001b[A\n",
      " 55%|#####5    | 38/69 [00:00<00:00, 73.70it/s]\u001b[A\n",
      " 65%|######5   | 45/69 [00:00<00:00, 70.13it/s]\u001b[A\n",
      " 78%|#######8  | 54/69 [00:00<00:00, 74.19it/s]\u001b[A\n",
      " 91%|#########1| 63/69 [00:00<00:00, 77.12it/s]\u001b[A\n",
      " 78%|███████▊  | 614/792 [00:29<00:27,  6.40it/s]A"
     ]
    },
    {
     "name": "stdout",
     "output_type": "stream",
     "text": [
      "{'ade': 0.46826893, 'fde': 1.0085757}\n",
      "\t last loss:0.000423046, eval on validation:['ade: 0.46826893', 'fde: 1.0085757'], (best ade:0.45996422 at step 28800) \n"
     ]
    },
    {
     "name": "stderr",
     "output_type": "stream",
     "text": [
      "100%|██████████| 792/792 [00:36<00:00, 21.89it/s]\n",
      "  0%|          | 1/792 [00:00<01:25,  9.25it/s]"
     ]
    },
    {
     "name": "stdout",
     "output_type": "stream",
     "text": [
      "('Epoca 41.', 'lr:', 7.751911e-05)\n"
     ]
    },
    {
     "name": "stderr",
     "output_type": "stream",
     "text": [
      " 15%|█▍        | 118/792 [00:04<00:25, 26.58it/s]\n",
      "  0%|          | 0/69 [00:00<?, ?it/s]\u001b[A"
     ]
    },
    {
     "name": "stdout",
     "output_type": "stream",
     "text": [
      "\tsaving model 31800...\n",
      "\tdone\n",
      "Evaluating\n"
     ]
    },
    {
     "name": "stderr",
     "output_type": "stream",
     "text": [
      "\n",
      " 14%|#4        | 10/69 [00:00<00:00, 94.17it/s]\u001b[A\n",
      " 25%|##4       | 17/69 [00:00<00:00, 83.83it/s]\u001b[A\n",
      " 35%|###4      | 24/69 [00:00<00:00, 76.61it/s]\u001b[A\n",
      " 46%|####6     | 32/69 [00:00<00:00, 77.12it/s]\u001b[A\n",
      " 58%|#####7    | 40/69 [00:00<00:00, 76.51it/s]\u001b[A\n",
      " 71%|#######1  | 49/69 [00:00<00:00, 78.74it/s]\u001b[A\n",
      " 86%|########5 | 59/69 [00:00<00:00, 82.64it/s]\u001b[A\n",
      " 99%|#########8| 68/69 [00:00<00:00, 83.56it/s]\u001b[A\n",
      "100%|##########| 69/69 [00:00<00:00, 79.68it/s]\u001b[A"
     ]
    },
    {
     "name": "stdout",
     "output_type": "stream",
     "text": [
      "{'ade': 0.45994887, 'fde': 0.9852308}\n",
      "\t last loss:0.000194928, eval on validation:['ade: 0.45994887', 'fde: 0.9852308'], (best ade:0.45996422 at step 28800) \n",
      "\t saving best model...\n",
      "\t done.\n"
     ]
    },
    {
     "name": "stderr",
     "output_type": "stream",
     "text": [
      " 53%|█████▎    | 418/792 [00:19<00:16, 23.06it/s]"
     ]
    },
    {
     "name": "stdout",
     "output_type": "stream",
     "text": [
      "\tsaving model 32100...\n"
     ]
    },
    {
     "name": "stderr",
     "output_type": "stream",
     "text": [
      "\n",
      "  0%|          | 0/69 [00:00<?, ?it/s]\u001b[A\n",
      " 12%|#1        | 8/69 [00:00<00:00, 78.81it/s]\u001b[A\n",
      " 20%|##        | 14/69 [00:00<00:00, 70.33it/s]\u001b[A\n",
      " 29%|##8       | 20/69 [00:00<00:00, 65.83it/s]\u001b[A\n",
      " 41%|####      | 28/69 [00:00<00:00, 68.20it/s]\u001b[A\n",
      " 52%|#####2    | 36/69 [00:00<00:00, 69.85it/s]\u001b[A\n",
      " 65%|######5   | 45/69 [00:00<00:00, 73.70it/s]\u001b[A\n",
      " 78%|#######8  | 54/69 [00:00<00:00, 77.05it/s]\u001b[A\n",
      " 91%|#########1| 63/69 [00:00<00:00, 79.47it/s]\u001b[A\n",
      " 54%|█████▎    | 424/792 [00:20<00:45,  8.08it/s]A"
     ]
    },
    {
     "name": "stdout",
     "output_type": "stream",
     "text": [
      "\tdone\n",
      "Evaluating\n",
      "{'ade': 0.4634937, 'fde': 0.99501425}\n",
      "\t last loss:0.000382771, eval on validation:['ade: 0.4634937', 'fde: 0.99501425'], (best ade:0.45994887 at step 31800) \n"
     ]
    },
    {
     "name": "stderr",
     "output_type": "stream",
     "text": [
      " 91%|█████████ | 718/792 [00:32<00:03, 20.89it/s]"
     ]
    },
    {
     "name": "stdout",
     "output_type": "stream",
     "text": [
      "\tsaving model 32400...\n"
     ]
    },
    {
     "name": "stderr",
     "output_type": "stream",
     "text": [
      "\n",
      "  0%|          | 0/69 [00:00<?, ?it/s]\u001b[A\n",
      " 10%|#         | 7/69 [00:00<00:00, 63.36it/s]\u001b[A"
     ]
    },
    {
     "name": "stdout",
     "output_type": "stream",
     "text": [
      "\tdone\n",
      "Evaluating\n"
     ]
    },
    {
     "name": "stderr",
     "output_type": "stream",
     "text": [
      "\n",
      " 17%|#7        | 12/69 [00:00<00:01, 56.51it/s]\u001b[A\n",
      " 23%|##3       | 16/69 [00:00<00:01, 50.15it/s]\u001b[A\n",
      " 32%|###1      | 22/69 [00:00<00:00, 51.33it/s]\u001b[A\n",
      " 39%|###9      | 27/69 [00:00<00:00, 50.35it/s]\u001b[A\n",
      " 49%|####9     | 34/69 [00:00<00:00, 54.33it/s]\u001b[A\n",
      " 59%|#####9    | 41/69 [00:00<00:00, 56.20it/s]\u001b[A\n",
      " 68%|######8   | 47/69 [00:00<00:00, 54.93it/s]\u001b[A\n",
      " 78%|#######8  | 54/69 [00:00<00:00, 57.33it/s]\u001b[A\n",
      " 88%|########8 | 61/69 [00:01<00:00, 59.97it/s]\u001b[A\n",
      " 99%|#########8| 68/69 [00:01<00:00, 61.60it/s]\u001b[A\n",
      " 91%|█████████ | 721/792 [00:34<00:13,  5.11it/s]A"
     ]
    },
    {
     "name": "stdout",
     "output_type": "stream",
     "text": [
      "{'ade': 0.4607217, 'fde': 0.98789155}\n",
      "\t last loss:0.000245525, eval on validation:['ade: 0.4607217', 'fde: 0.98789155'], (best ade:0.45994887 at step 31800) \n"
     ]
    },
    {
     "name": "stderr",
     "output_type": "stream",
     "text": [
      "100%|██████████| 792/792 [00:37<00:00, 22.62it/s]\n",
      "  0%|          | 2/792 [00:00<00:41, 19.21it/s]"
     ]
    },
    {
     "name": "stdout",
     "output_type": "stream",
     "text": [
      "('Epoca 42.', 'lr:', 7.751911e-05)\n"
     ]
    },
    {
     "name": "stderr",
     "output_type": "stream",
     "text": [
      " 28%|██▊       | 225/792 [00:09<00:21, 26.42it/s]\n",
      "  0%|          | 0/69 [00:00<?, ?it/s]\u001b[A"
     ]
    },
    {
     "name": "stdout",
     "output_type": "stream",
     "text": [
      "\tsaving model 32700...\n",
      "\tdone\n",
      "Evaluating\n"
     ]
    },
    {
     "name": "stderr",
     "output_type": "stream",
     "text": [
      "\n",
      " 12%|#1        | 8/69 [00:00<00:00, 74.56it/s]\u001b[A\n",
      " 23%|##3       | 16/69 [00:00<00:00, 74.73it/s]\u001b[A\n",
      " 33%|###3      | 23/69 [00:00<00:00, 72.80it/s]\u001b[A\n",
      " 46%|####6     | 32/69 [00:00<00:00, 75.89it/s]\u001b[A\n",
      " 59%|#####9    | 41/69 [00:00<00:00, 78.71it/s]\u001b[A\n",
      " 71%|#######1  | 49/69 [00:00<00:00, 76.94it/s]\u001b[A\n",
      " 84%|########4 | 58/69 [00:00<00:00, 78.89it/s]\u001b[A\n",
      " 96%|#########5| 66/69 [00:00<00:00, 77.52it/s]\u001b[A\n",
      " 29%|██▉       | 231/792 [00:11<01:05,  8.62it/s]A"
     ]
    },
    {
     "name": "stdout",
     "output_type": "stream",
     "text": [
      "{'ade': 0.46781144, 'fde': 1.0072272}\n",
      "\t last loss:0.000429603, eval on validation:['ade: 0.46781144', 'fde: 1.0072272'], (best ade:0.45994887 at step 31800) \n"
     ]
    },
    {
     "name": "stderr",
     "output_type": "stream",
     "text": [
      " 66%|██████▋   | 525/792 [00:22<00:10, 26.67it/s]\n",
      "  0%|          | 0/69 [00:00<?, ?it/s]\u001b[A"
     ]
    },
    {
     "name": "stdout",
     "output_type": "stream",
     "text": [
      "\tsaving model 33000...\n",
      "\tdone\n",
      "Evaluating\n"
     ]
    },
    {
     "name": "stderr",
     "output_type": "stream",
     "text": [
      "\n",
      " 13%|#3        | 9/69 [00:00<00:00, 85.85it/s]\u001b[A\n",
      " 26%|##6       | 18/69 [00:00<00:00, 85.94it/s]\u001b[A\n",
      " 38%|###7      | 26/69 [00:00<00:00, 82.13it/s]\u001b[A\n",
      " 52%|#####2    | 36/69 [00:00<00:00, 84.85it/s]\u001b[A\n",
      " 67%|######6   | 46/69 [00:00<00:00, 87.49it/s]\u001b[A\n",
      " 78%|#######8  | 54/69 [00:00<00:00, 84.58it/s]\u001b[A\n",
      " 93%|#########2| 64/69 [00:00<00:00, 87.13it/s]\u001b[A\n",
      " 67%|██████▋   | 531/792 [00:23<00:28,  9.21it/s]A"
     ]
    },
    {
     "name": "stdout",
     "output_type": "stream",
     "text": [
      "{'ade': 0.4712671, 'fde': 1.0160218}\n",
      "\t last loss:0.000284228, eval on validation:['ade: 0.4712671', 'fde: 1.0160218'], (best ade:0.45994887 at step 31800) \n"
     ]
    },
    {
     "name": "stderr",
     "output_type": "stream",
     "text": [
      "100%|██████████| 792/792 [00:35<00:00, 22.32it/s]\n",
      "  0%|          | 1/792 [00:00<01:39,  7.96it/s]"
     ]
    },
    {
     "name": "stdout",
     "output_type": "stream",
     "text": [
      "('Epoca 43.', 'lr:', 6.589125e-05)\n"
     ]
    },
    {
     "name": "stderr",
     "output_type": "stream",
     "text": [
      "  4%|▍         | 34/792 [00:01<00:34, 22.04it/s]"
     ]
    },
    {
     "name": "stdout",
     "output_type": "stream",
     "text": [
      "\tsaving model 33300...\n"
     ]
    },
    {
     "name": "stderr",
     "output_type": "stream",
     "text": [
      "\n",
      "  0%|          | 0/69 [00:00<?, ?it/s]\u001b[A\n",
      " 12%|#1        | 8/69 [00:00<00:00, 69.47it/s]\u001b[A"
     ]
    },
    {
     "name": "stdout",
     "output_type": "stream",
     "text": [
      "\tdone\n",
      "Evaluating\n"
     ]
    },
    {
     "name": "stderr",
     "output_type": "stream",
     "text": [
      "\n",
      " 19%|#8        | 13/69 [00:00<00:00, 60.94it/s]\u001b[A\n",
      " 28%|##7       | 19/69 [00:00<00:00, 58.81it/s]\u001b[A\n",
      " 38%|###7      | 26/69 [00:00<00:00, 60.41it/s]\u001b[A\n",
      " 48%|####7     | 33/69 [00:00<00:00, 61.84it/s]\u001b[A\n",
      " 58%|#####7    | 40/69 [00:00<00:00, 62.20it/s]\u001b[A\n",
      " 68%|######8   | 47/69 [00:00<00:00, 63.07it/s]\u001b[A\n",
      " 80%|#######9  | 55/69 [00:00<00:00, 66.83it/s]\u001b[A\n",
      " 91%|#########1| 63/69 [00:00<00:00, 69.64it/s]\u001b[A\n",
      "  5%|▌         | 40/792 [00:03<01:39,  7.53it/s][A"
     ]
    },
    {
     "name": "stdout",
     "output_type": "stream",
     "text": [
      "{'ade': 0.4628018, 'fde': 0.99291354}\n",
      "\t last loss:0.000272073, eval on validation:['ade: 0.4628018', 'fde: 0.99291354'], (best ade:0.45994887 at step 31800) \n"
     ]
    },
    {
     "name": "stderr",
     "output_type": "stream",
     "text": [
      " 42%|████▏     | 334/792 [00:14<00:18, 25.37it/s]\n",
      "  0%|          | 0/69 [00:00<?, ?it/s]\u001b[A"
     ]
    },
    {
     "name": "stdout",
     "output_type": "stream",
     "text": [
      "\tsaving model 33600...\n",
      "\tdone\n",
      "Evaluating\n"
     ]
    },
    {
     "name": "stderr",
     "output_type": "stream",
     "text": [
      "\n",
      " 14%|#4        | 10/69 [00:00<00:00, 94.24it/s]\u001b[A\n",
      " 29%|##8       | 20/69 [00:00<00:00, 93.93it/s]\u001b[A\n",
      " 42%|####2     | 29/69 [00:00<00:00, 89.75it/s]\u001b[A\n",
      " 52%|#####2    | 36/69 [00:00<00:00, 80.50it/s]\u001b[A\n",
      " 61%|######    | 42/69 [00:00<00:00, 71.80it/s]\u001b[A\n",
      " 74%|#######3  | 51/69 [00:00<00:00, 74.72it/s]\u001b[A\n",
      " 86%|########5 | 59/69 [00:00<00:00, 75.42it/s]\u001b[A\n",
      " 99%|#########8| 68/69 [00:00<00:00, 78.94it/s]\u001b[A\n",
      " 43%|████▎     | 340/792 [00:16<00:51,  8.85it/s]A"
     ]
    },
    {
     "name": "stdout",
     "output_type": "stream",
     "text": [
      "{'ade': 0.4624388, 'fde': 0.9912186}\n",
      "\t last loss:0.000508641, eval on validation:['ade: 0.4624388', 'fde: 0.9912186'], (best ade:0.45994887 at step 31800) \n"
     ]
    },
    {
     "name": "stderr",
     "output_type": "stream",
     "text": [
      " 80%|████████  | 634/792 [00:27<00:06, 25.12it/s]\n",
      "  0%|          | 0/69 [00:00<?, ?it/s]\u001b[A"
     ]
    },
    {
     "name": "stdout",
     "output_type": "stream",
     "text": [
      "\tsaving model 33900...\n",
      "\tdone\n",
      "Evaluating\n"
     ]
    },
    {
     "name": "stderr",
     "output_type": "stream",
     "text": [
      "\n",
      " 13%|#3        | 9/69 [00:00<00:00, 81.73it/s]\u001b[A\n",
      " 25%|##4       | 17/69 [00:00<00:00, 77.31it/s]\u001b[A\n",
      " 35%|###4      | 24/69 [00:00<00:00, 72.33it/s]\u001b[A\n",
      " 42%|####2     | 29/69 [00:00<00:00, 63.50it/s]\u001b[A\n",
      " 54%|#####3    | 37/69 [00:00<00:00, 65.22it/s]\u001b[A\n",
      " 65%|######5   | 45/69 [00:00<00:00, 68.10it/s]\u001b[A\n",
      " 78%|#######8  | 54/69 [00:00<00:00, 71.49it/s]\u001b[A\n",
      " 91%|#########1| 63/69 [00:00<00:00, 74.81it/s]\u001b[A\n",
      "100%|##########| 69/69 [00:00<00:00, 72.26it/s]\u001b[A"
     ]
    },
    {
     "name": "stdout",
     "output_type": "stream",
     "text": [
      "{'ade': 0.45724764, 'fde': 0.9764104}\n",
      "\t last loss:0.000331017, eval on validation:['ade: 0.45724764', 'fde: 0.9764104'], (best ade:0.45994887 at step 31800) \n",
      "\t saving best model...\n",
      "\t done.\n"
     ]
    },
    {
     "name": "stderr",
     "output_type": "stream",
     "text": [
      "100%|██████████| 792/792 [00:36<00:00, 21.88it/s]\n",
      "  0%|          | 1/792 [00:00<01:39,  7.92it/s]"
     ]
    },
    {
     "name": "stdout",
     "output_type": "stream",
     "text": [
      "('Epoca 44.', 'lr:', 6.589125e-05)\n"
     ]
    },
    {
     "name": "stderr",
     "output_type": "stream",
     "text": [
      " 18%|█▊        | 141/792 [00:05<00:26, 24.40it/s]\n",
      "  0%|          | 0/69 [00:00<?, ?it/s]\u001b[A"
     ]
    },
    {
     "name": "stdout",
     "output_type": "stream",
     "text": [
      "\tsaving model 34200...\n",
      "\tdone\n",
      "Evaluating\n"
     ]
    },
    {
     "name": "stderr",
     "output_type": "stream",
     "text": [
      "\n",
      " 14%|#4        | 10/69 [00:00<00:00, 92.79it/s]\u001b[A\n",
      " 25%|##4       | 17/69 [00:00<00:00, 81.64it/s]\u001b[A\n",
      " 36%|###6      | 25/69 [00:00<00:00, 78.49it/s]\u001b[A\n",
      " 48%|####7     | 33/69 [00:00<00:00, 77.61it/s]\u001b[A\n",
      " 59%|#####9    | 41/69 [00:00<00:00, 78.12it/s]\u001b[A\n",
      " 72%|#######2  | 50/69 [00:00<00:00, 80.43it/s]\u001b[A\n",
      " 87%|########6 | 60/69 [00:00<00:00, 84.00it/s]\u001b[A\n",
      " 19%|█▊        | 147/792 [00:07<01:13,  8.72it/s]A"
     ]
    },
    {
     "name": "stdout",
     "output_type": "stream",
     "text": [
      "{'ade': 0.46165985, 'fde': 0.99149513}\n",
      "\t last loss:0.000542667, eval on validation:['ade: 0.46165985', 'fde: 0.99149513'], (best ade:0.45724764 at step 33900) \n"
     ]
    },
    {
     "name": "stderr",
     "output_type": "stream",
     "text": [
      " 56%|█████▌    | 441/792 [00:19<00:15, 22.88it/s]"
     ]
    },
    {
     "name": "stdout",
     "output_type": "stream",
     "text": [
      "\tsaving model 34500...\n"
     ]
    },
    {
     "name": "stderr",
     "output_type": "stream",
     "text": [
      "\n",
      "  0%|          | 0/69 [00:00<?, ?it/s]\u001b[A\n",
      " 10%|#         | 7/69 [00:00<00:00, 66.08it/s]\u001b[A"
     ]
    },
    {
     "name": "stdout",
     "output_type": "stream",
     "text": [
      "\tdone\n",
      "Evaluating\n"
     ]
    },
    {
     "name": "stderr",
     "output_type": "stream",
     "text": [
      "\n",
      " 19%|#8        | 13/69 [00:00<00:00, 61.78it/s]\u001b[A\n",
      " 26%|##6       | 18/69 [00:00<00:00, 56.59it/s]\u001b[A\n",
      " 36%|###6      | 25/69 [00:00<00:00, 59.76it/s]\u001b[A\n",
      " 46%|####6     | 32/69 [00:00<00:00, 62.48it/s]\u001b[A\n",
      " 57%|#####6    | 39/69 [00:00<00:00, 62.47it/s]\u001b[A\n",
      " 67%|######6   | 46/69 [00:00<00:00, 63.73it/s]\u001b[A\n",
      " 78%|#######8  | 54/69 [00:00<00:00, 67.10it/s]\u001b[A\n",
      " 90%|########9 | 62/69 [00:00<00:00, 69.45it/s]\u001b[A\n",
      " 56%|█████▋    | 447/792 [00:21<00:46,  7.50it/s]A"
     ]
    },
    {
     "name": "stdout",
     "output_type": "stream",
     "text": [
      "{'ade': 0.46413052, 'fde': 0.99949336}\n",
      "\t last loss:0.000261165, eval on validation:['ade: 0.46413052', 'fde: 0.99949336'], (best ade:0.45724764 at step 33900) \n"
     ]
    },
    {
     "name": "stderr",
     "output_type": "stream",
     "text": [
      " 94%|█████████▎| 741/792 [00:33<00:02, 24.52it/s]\n",
      "  0%|          | 0/69 [00:00<?, ?it/s]\u001b[A"
     ]
    },
    {
     "name": "stdout",
     "output_type": "stream",
     "text": [
      "\tsaving model 34800...\n",
      "\tdone\n",
      "Evaluating\n"
     ]
    },
    {
     "name": "stderr",
     "output_type": "stream",
     "text": [
      "\n",
      " 13%|#3        | 9/69 [00:00<00:00, 86.15it/s]\u001b[A\n",
      " 25%|##4       | 17/69 [00:00<00:00, 83.98it/s]\u001b[A\n",
      " 32%|###1      | 22/69 [00:00<00:00, 69.21it/s]\u001b[A\n",
      " 42%|####2     | 29/69 [00:00<00:00, 66.60it/s]\u001b[A\n",
      " 52%|#####2    | 36/69 [00:00<00:00, 65.28it/s]\u001b[A\n",
      " 65%|######5   | 45/69 [00:00<00:00, 70.15it/s]\u001b[A\n",
      " 80%|#######9  | 55/69 [00:00<00:00, 75.82it/s]\u001b[A\n",
      " 91%|#########1| 63/69 [00:00<00:00, 66.05it/s]\u001b[A\n",
      " 94%|█████████▍| 746/792 [00:34<00:05,  7.73it/s]A"
     ]
    },
    {
     "name": "stdout",
     "output_type": "stream",
     "text": [
      "{'ade': 0.4608788, 'fde': 0.98745805}\n",
      "\t last loss:0.000458214, eval on validation:['ade: 0.4608788', 'fde: 0.98745805'], (best ade:0.45724764 at step 33900) \n"
     ]
    },
    {
     "name": "stderr",
     "output_type": "stream",
     "text": [
      "100%|██████████| 792/792 [00:36<00:00, 23.04it/s]\n",
      "  0%|          | 1/792 [00:00<01:32,  8.56it/s]"
     ]
    },
    {
     "name": "stdout",
     "output_type": "stream",
     "text": [
      "('Epoca 45.', 'lr:', 5.600756e-05)\n"
     ]
    },
    {
     "name": "stderr",
     "output_type": "stream",
     "text": [
      " 32%|███▏      | 250/792 [00:09<00:21, 25.56it/s]"
     ]
    },
    {
     "name": "stdout",
     "output_type": "stream",
     "text": [
      "\tsaving model 35100...\n"
     ]
    },
    {
     "name": "stderr",
     "output_type": "stream",
     "text": [
      "\n",
      "  0%|          | 0/69 [00:00<?, ?it/s]\u001b[A\n",
      " 13%|#3        | 9/69 [00:00<00:00, 82.36it/s]\u001b[A"
     ]
    },
    {
     "name": "stdout",
     "output_type": "stream",
     "text": [
      "\tdone\n",
      "Evaluating\n"
     ]
    },
    {
     "name": "stderr",
     "output_type": "stream",
     "text": [
      "\n",
      " 23%|##3       | 16/69 [00:00<00:00, 74.57it/s]\u001b[A\n",
      " 33%|###3      | 23/69 [00:00<00:00, 72.52it/s]\u001b[A\n",
      " 42%|####2     | 29/69 [00:00<00:00, 65.75it/s]\u001b[A\n",
      " 55%|#####5    | 38/69 [00:00<00:00, 70.43it/s]\u001b[A\n",
      " 65%|######5   | 45/69 [00:00<00:00, 69.76it/s]\u001b[A\n",
      " 78%|#######8  | 54/69 [00:00<00:00, 73.66it/s]\u001b[A\n",
      " 91%|#########1| 63/69 [00:00<00:00, 75.54it/s]\u001b[A\n",
      " 32%|███▏      | 253/792 [00:11<01:23,  6.42it/s]A"
     ]
    },
    {
     "name": "stdout",
     "output_type": "stream",
     "text": [
      "{'ade': 0.46346354, 'fde': 0.9947497}\n",
      "\t last loss:0.000460037, eval on validation:['ade: 0.46346354', 'fde: 0.9947497'], (best ade:0.45724764 at step 33900) \n"
     ]
    },
    {
     "name": "stderr",
     "output_type": "stream",
     "text": [
      " 69%|██████▉   | 550/792 [00:24<00:09, 24.97it/s]\n",
      "  0%|          | 0/69 [00:00<?, ?it/s]\u001b[A"
     ]
    },
    {
     "name": "stdout",
     "output_type": "stream",
     "text": [
      "\tsaving model 35400...\n",
      "\tdone\n",
      "Evaluating\n"
     ]
    },
    {
     "name": "stderr",
     "output_type": "stream",
     "text": [
      "\n",
      " 13%|#3        | 9/69 [00:00<00:00, 85.05it/s]\u001b[A\n",
      " 23%|##3       | 16/69 [00:00<00:00, 78.75it/s]\u001b[A\n",
      " 33%|###3      | 23/69 [00:00<00:00, 73.31it/s]\u001b[A\n",
      " 42%|####2     | 29/69 [00:00<00:00, 66.04it/s]\u001b[A\n",
      " 55%|#####5    | 38/69 [00:00<00:00, 71.29it/s]\u001b[A\n",
      " 70%|######9   | 48/69 [00:00<00:00, 76.71it/s]\u001b[A\n",
      " 84%|########4 | 58/69 [00:00<00:00, 80.62it/s]\u001b[A\n",
      " 99%|#########8| 68/69 [00:00<00:00, 84.30it/s]\u001b[A\n",
      " 70%|███████   | 555/792 [00:26<00:28,  8.38it/s]A"
     ]
    },
    {
     "name": "stdout",
     "output_type": "stream",
     "text": [
      "{'ade': 0.46288988, 'fde': 0.9940589}\n",
      "\t last loss:0.000330440, eval on validation:['ade: 0.46288988', 'fde: 0.9940589'], (best ade:0.45724764 at step 33900) \n"
     ]
    },
    {
     "name": "stderr",
     "output_type": "stream",
     "text": [
      "100%|██████████| 792/792 [00:35<00:00, 26.14it/s]\n",
      "  0%|          | 1/792 [00:00<01:35,  8.30it/s]"
     ]
    },
    {
     "name": "stdout",
     "output_type": "stream",
     "text": [
      "('Epoca 46.', 'lr:', 5.600756e-05)\n"
     ]
    },
    {
     "name": "stderr",
     "output_type": "stream",
     "text": [
      "  7%|▋         | 58/792 [00:02<00:28, 25.84it/s]\n",
      "  0%|          | 0/69 [00:00<?, ?it/s]\u001b[A"
     ]
    },
    {
     "name": "stdout",
     "output_type": "stream",
     "text": [
      "\tsaving model 35700...\n",
      "\tdone\n",
      "Evaluating\n"
     ]
    },
    {
     "name": "stderr",
     "output_type": "stream",
     "text": [
      "\n",
      " 13%|#3        | 9/69 [00:00<00:00, 81.79it/s]\u001b[A\n",
      " 22%|##1       | 15/69 [00:00<00:00, 73.09it/s]\u001b[A\n",
      " 32%|###1      | 22/69 [00:00<00:00, 69.95it/s]\u001b[A\n",
      " 42%|####2     | 29/69 [00:00<00:00, 67.96it/s]\u001b[A\n",
      " 52%|#####2    | 36/69 [00:00<00:00, 66.96it/s]\u001b[A\n",
      " 65%|######5   | 45/69 [00:00<00:00, 71.50it/s]\u001b[A\n",
      " 78%|#######8  | 54/69 [00:00<00:00, 75.11it/s]\u001b[A\n",
      " 91%|#########1| 63/69 [00:00<00:00, 77.90it/s]\u001b[A\n",
      "  8%|▊         | 61/792 [00:03<01:52,  6.47it/s][A"
     ]
    },
    {
     "name": "stdout",
     "output_type": "stream",
     "text": [
      "{'ade': 0.46183237, 'fde': 0.9927364}\n",
      "\t last loss:0.000363749, eval on validation:['ade: 0.46183237', 'fde: 0.9927364'], (best ade:0.45724764 at step 33900) \n"
     ]
    },
    {
     "name": "stderr",
     "output_type": "stream",
     "text": [
      " 45%|████▌     | 358/792 [00:15<00:16, 26.38it/s]\n",
      "  0%|          | 0/69 [00:00<?, ?it/s]\u001b[A"
     ]
    },
    {
     "name": "stdout",
     "output_type": "stream",
     "text": [
      "\tsaving model 36000...\n",
      "\tdone\n",
      "Evaluating\n"
     ]
    },
    {
     "name": "stderr",
     "output_type": "stream",
     "text": [
      "\n",
      " 13%|#3        | 9/69 [00:00<00:00, 88.45it/s]\u001b[A\n",
      " 23%|##3       | 16/69 [00:00<00:00, 79.30it/s]\u001b[A\n",
      " 32%|###1      | 22/69 [00:00<00:00, 70.82it/s]\u001b[A\n",
      " 41%|####      | 28/69 [00:00<00:00, 66.49it/s]\u001b[A\n",
      " 52%|#####2    | 36/69 [00:00<00:00, 69.82it/s]\u001b[A\n",
      " 65%|######5   | 45/69 [00:00<00:00, 73.31it/s]\u001b[A\n",
      " 80%|#######9  | 55/69 [00:00<00:00, 78.40it/s]\u001b[A\n",
      " 94%|#########4| 65/69 [00:00<00:00, 82.53it/s]\u001b[A\n",
      " 46%|████▌     | 364/792 [00:16<00:49,  8.69it/s]A"
     ]
    },
    {
     "name": "stdout",
     "output_type": "stream",
     "text": [
      "{'ade': 0.46233135, 'fde': 0.9928053}\n",
      "\t last loss:0.000406203, eval on validation:['ade: 0.46233135', 'fde: 0.9928053'], (best ade:0.45724764 at step 33900) \n"
     ]
    },
    {
     "name": "stderr",
     "output_type": "stream",
     "text": [
      " 83%|████████▎ | 658/792 [00:29<00:05, 22.85it/s]"
     ]
    },
    {
     "name": "stdout",
     "output_type": "stream",
     "text": [
      "\tsaving model 36300...\n"
     ]
    },
    {
     "name": "stderr",
     "output_type": "stream",
     "text": [
      "\n",
      "  0%|          | 0/69 [00:00<?, ?it/s]\u001b[A\n",
      " 12%|#1        | 8/69 [00:00<00:00, 72.82it/s]\u001b[A"
     ]
    },
    {
     "name": "stdout",
     "output_type": "stream",
     "text": [
      "\tdone\n",
      "Evaluating\n"
     ]
    },
    {
     "name": "stderr",
     "output_type": "stream",
     "text": [
      "\n",
      " 22%|##1       | 15/69 [00:00<00:00, 71.86it/s]\u001b[A\n",
      " 30%|###       | 21/69 [00:00<00:00, 66.26it/s]\u001b[A\n",
      " 41%|####      | 28/69 [00:00<00:00, 66.61it/s]\u001b[A\n",
      " 49%|####9     | 34/69 [00:00<00:00, 63.87it/s]\u001b[A\n",
      " 61%|######    | 42/69 [00:00<00:00, 67.32it/s]\u001b[A\n",
      " 71%|#######1  | 49/69 [00:00<00:00, 67.09it/s]\u001b[A\n",
      " 84%|########4 | 58/69 [00:00<00:00, 71.22it/s]\u001b[A\n",
      " 97%|#########7| 67/69 [00:00<00:00, 74.55it/s]\u001b[A\n",
      " 83%|████████▎ | 661/792 [00:30<00:21,  6.08it/s]A"
     ]
    },
    {
     "name": "stdout",
     "output_type": "stream",
     "text": [
      "{'ade': 0.46779773, 'fde': 1.0092466}\n",
      "\t last loss:0.000232795, eval on validation:['ade: 0.46779773', 'fde: 1.0092466'], (best ade:0.45724764 at step 33900) \n"
     ]
    },
    {
     "name": "stderr",
     "output_type": "stream",
     "text": [
      "100%|██████████| 792/792 [00:36<00:00, 21.89it/s]\n",
      "  0%|          | 1/792 [00:00<01:26,  9.18it/s]"
     ]
    },
    {
     "name": "stdout",
     "output_type": "stream",
     "text": [
      "('Epoca 47.', 'lr:', 4.7606427e-05)\n"
     ]
    },
    {
     "name": "stderr",
     "output_type": "stream",
     "text": [
      " 21%|██        | 166/792 [00:06<00:23, 26.31it/s]\n",
      "  0%|          | 0/69 [00:00<?, ?it/s]\u001b[A"
     ]
    },
    {
     "name": "stdout",
     "output_type": "stream",
     "text": [
      "\tsaving model 36600...\n",
      "\tdone\n",
      "Evaluating\n"
     ]
    },
    {
     "name": "stderr",
     "output_type": "stream",
     "text": [
      "\n",
      " 14%|#4        | 10/69 [00:00<00:00, 93.48it/s]\u001b[A\n",
      " 26%|##6       | 18/69 [00:00<00:00, 84.92it/s]\u001b[A\n",
      " 38%|###7      | 26/69 [00:00<00:00, 80.62it/s]\u001b[A\n",
      " 48%|####7     | 33/69 [00:00<00:00, 76.11it/s]\u001b[A\n",
      " 59%|#####9    | 41/69 [00:00<00:00, 76.55it/s]\u001b[A\n",
      " 72%|#######2  | 50/69 [00:00<00:00, 78.45it/s]\u001b[A\n",
      " 87%|########6 | 60/69 [00:00<00:00, 82.27it/s]\u001b[A\n",
      " 22%|██▏       | 172/792 [00:07<01:10,  8.81it/s]A"
     ]
    },
    {
     "name": "stdout",
     "output_type": "stream",
     "text": [
      "{'ade': 0.46167988, 'fde': 0.9909643}\n",
      "\t last loss:0.000546511, eval on validation:['ade: 0.46167988', 'fde: 0.9909643'], (best ade:0.45724764 at step 33900) \n"
     ]
    },
    {
     "name": "stderr",
     "output_type": "stream",
     "text": [
      " 59%|█████▉    | 466/792 [00:20<00:14, 22.92it/s]"
     ]
    },
    {
     "name": "stdout",
     "output_type": "stream",
     "text": [
      "\tsaving model 36900...\n"
     ]
    },
    {
     "name": "stderr",
     "output_type": "stream",
     "text": [
      "\n",
      "  0%|          | 0/69 [00:00<?, ?it/s]\u001b[A\n",
      " 12%|#1        | 8/69 [00:00<00:00, 76.03it/s]\u001b[A\n",
      " 20%|##        | 14/69 [00:00<00:00, 67.34it/s]\u001b[A\n",
      " 30%|###       | 21/69 [00:00<00:00, 64.47it/s]\u001b[A\n",
      " 39%|###9      | 27/69 [00:00<00:00, 62.14it/s]\u001b[A\n",
      " 49%|####9     | 34/69 [00:00<00:00, 61.79it/s]\u001b[A\n",
      " 61%|######    | 42/69 [00:00<00:00, 65.29it/s]\u001b[A\n",
      " 72%|#######2  | 50/69 [00:00<00:00, 68.45it/s]\u001b[A\n",
      " 84%|########4 | 58/69 [00:00<00:00, 69.50it/s]\u001b[A\n",
      " 96%|#########5| 66/69 [00:00<00:00, 70.85it/s]\u001b[A\n",
      " 60%|█████▉    | 472/792 [00:22<00:41,  7.65it/s]A"
     ]
    },
    {
     "name": "stdout",
     "output_type": "stream",
     "text": [
      "\tdone\n",
      "Evaluating\n",
      "{'ade': 0.45828408, 'fde': 0.9795569}\n",
      "\t last loss:0.000329186, eval on validation:['ade: 0.45828408', 'fde: 0.9795569'], (best ade:0.45724764 at step 33900) \n"
     ]
    },
    {
     "name": "stderr",
     "output_type": "stream",
     "text": [
      " 97%|█████████▋| 766/792 [00:33<00:01, 24.54it/s]\n",
      "  0%|          | 0/69 [00:00<?, ?it/s]\u001b[A"
     ]
    },
    {
     "name": "stdout",
     "output_type": "stream",
     "text": [
      "\tsaving model 37200...\n",
      "\tdone\n",
      "Evaluating\n"
     ]
    },
    {
     "name": "stderr",
     "output_type": "stream",
     "text": [
      "\n",
      " 12%|#1        | 8/69 [00:00<00:00, 78.98it/s]\u001b[A\n",
      " 20%|##        | 14/69 [00:00<00:00, 71.58it/s]\u001b[A\n",
      " 30%|###       | 21/69 [00:00<00:00, 67.35it/s]\u001b[A\n",
      " 39%|###9      | 27/69 [00:00<00:00, 64.74it/s]\u001b[A\n",
      " 54%|#####3    | 37/69 [00:00<00:00, 70.92it/s]\u001b[A\n",
      " 65%|######5   | 45/69 [00:00<00:00, 72.18it/s]\u001b[A\n",
      " 80%|#######9  | 55/69 [00:00<00:00, 76.99it/s]\u001b[A\n",
      " 94%|#########4| 65/69 [00:00<00:00, 80.95it/s]\u001b[A\n",
      " 97%|█████████▋| 772/792 [00:35<00:02,  8.53it/s]A"
     ]
    },
    {
     "name": "stdout",
     "output_type": "stream",
     "text": [
      "{'ade': 0.46400625, 'fde': 0.9969212}\n",
      "\t last loss:0.000545188, eval on validation:['ade: 0.46400625', 'fde: 0.9969212'], (best ade:0.45724764 at step 33900) \n"
     ]
    },
    {
     "name": "stderr",
     "output_type": "stream",
     "text": [
      "100%|██████████| 792/792 [00:36<00:00, 21.98it/s]\n",
      "  0%|          | 1/792 [00:00<01:38,  8.07it/s]"
     ]
    },
    {
     "name": "stdout",
     "output_type": "stream",
     "text": [
      "('Epoca 48.', 'lr:', 4.7606427e-05)\n"
     ]
    },
    {
     "name": "stderr",
     "output_type": "stream",
     "text": [
      " 35%|███▍      | 274/792 [00:11<00:21, 24.49it/s]\n",
      "  0%|          | 0/69 [00:00<?, ?it/s]\u001b[A"
     ]
    },
    {
     "name": "stdout",
     "output_type": "stream",
     "text": [
      "\tsaving model 37500...\n",
      "\tdone\n",
      "Evaluating\n"
     ]
    },
    {
     "name": "stderr",
     "output_type": "stream",
     "text": [
      "\n",
      " 13%|#3        | 9/69 [00:00<00:00, 81.60it/s]\u001b[A\n",
      " 22%|##1       | 15/69 [00:00<00:00, 71.01it/s]\u001b[A\n",
      " 32%|###1      | 22/69 [00:00<00:00, 67.73it/s]\u001b[A\n",
      " 41%|####      | 28/69 [00:00<00:00, 65.08it/s]\u001b[A\n",
      " 49%|####9     | 34/69 [00:00<00:00, 63.00it/s]\u001b[A\n",
      " 61%|######    | 42/69 [00:00<00:00, 66.90it/s]\u001b[A\n",
      " 74%|#######3  | 51/69 [00:00<00:00, 71.52it/s]\u001b[A\n",
      " 87%|########6 | 60/69 [00:00<00:00, 74.34it/s]\u001b[A\n",
      " 35%|███▍      | 277/792 [00:12<01:21,  6.29it/s]A"
     ]
    },
    {
     "name": "stdout",
     "output_type": "stream",
     "text": [
      "{'ade': 0.46310818, 'fde': 0.9945071}\n",
      "\t last loss:0.000491524, eval on validation:['ade: 0.46310818', 'fde: 0.9945071'], (best ade:0.45724764 at step 33900) \n"
     ]
    },
    {
     "name": "stderr",
     "output_type": "stream",
     "text": [
      " 72%|███████▏  | 574/792 [00:25<00:08, 24.73it/s]"
     ]
    },
    {
     "name": "stdout",
     "output_type": "stream",
     "text": [
      "\tsaving model 37800...\n"
     ]
    },
    {
     "name": "stderr",
     "output_type": "stream",
     "text": [
      "\n",
      "  0%|          | 0/69 [00:00<?, ?it/s]\u001b[A\n",
      "  7%|7         | 5/69 [00:00<00:01, 48.06it/s]\u001b[A\n",
      " 14%|#4        | 10/69 [00:00<00:01, 46.70it/s]\u001b[A\n",
      " 22%|##1       | 15/69 [00:00<00:01, 46.61it/s]\u001b[A\n",
      " 28%|##7       | 19/69 [00:00<00:01, 43.87it/s]\u001b[A\n",
      " 33%|###3      | 23/69 [00:00<00:01, 40.54it/s]\u001b[A\n",
      " 42%|####2     | 29/69 [00:00<00:00, 44.35it/s]\u001b[A\n",
      " 55%|#####5    | 38/69 [00:00<00:00, 52.25it/s]\u001b[A\n",
      " 70%|######9   | 48/69 [00:00<00:00, 60.30it/s]\u001b[A\n",
      " 84%|########4 | 58/69 [00:00<00:00, 67.30it/s]\u001b[A\n",
      " 97%|#########7| 67/69 [00:01<00:00, 71.78it/s]\u001b[A\n",
      " 73%|███████▎  | 580/792 [00:27<00:28,  7.45it/s]A"
     ]
    },
    {
     "name": "stdout",
     "output_type": "stream",
     "text": [
      "\tdone\n",
      "Evaluating\n",
      "{'ade': 0.46107367, 'fde': 0.9900153}\n",
      "\t last loss:0.000659223, eval on validation:['ade: 0.46107367', 'fde: 0.9900153'], (best ade:0.45724764 at step 33900) \n"
     ]
    },
    {
     "name": "stderr",
     "output_type": "stream",
     "text": [
      "100%|██████████| 792/792 [00:36<00:00, 19.53it/s]\n",
      "  0%|          | 1/792 [00:00<01:30,  8.78it/s]"
     ]
    },
    {
     "name": "stdout",
     "output_type": "stream",
     "text": [
      "('Epoca 49.', 'lr:', 4.0465464e-05)\n"
     ]
    },
    {
     "name": "stderr",
     "output_type": "stream",
     "text": [
      " 10%|█         | 81/792 [00:03<00:30, 23.00it/s]"
     ]
    },
    {
     "name": "stdout",
     "output_type": "stream",
     "text": [
      "\tsaving model 38100...\n"
     ]
    },
    {
     "name": "stderr",
     "output_type": "stream",
     "text": [
      "\n",
      "  0%|          | 0/69 [00:00<?, ?it/s]\u001b[A\n",
      " 12%|#1        | 8/69 [00:00<00:00, 70.23it/s]\u001b[A"
     ]
    },
    {
     "name": "stdout",
     "output_type": "stream",
     "text": [
      "\tdone\n",
      "Evaluating\n"
     ]
    },
    {
     "name": "stderr",
     "output_type": "stream",
     "text": [
      "\n",
      " 19%|#8        | 13/69 [00:00<00:00, 60.86it/s]\u001b[A\n",
      " 28%|##7       | 19/69 [00:00<00:00, 57.89it/s]\u001b[A\n",
      " 36%|###6      | 25/69 [00:00<00:00, 57.39it/s]\u001b[A\n",
      " 46%|####6     | 32/69 [00:00<00:00, 59.60it/s]\u001b[A\n",
      " 57%|#####6    | 39/69 [00:00<00:00, 62.18it/s]\u001b[A\n",
      " 68%|######8   | 47/69 [00:00<00:00, 65.95it/s]\u001b[A\n",
      " 80%|#######9  | 55/69 [00:00<00:00, 68.93it/s]\u001b[A\n",
      " 90%|########9 | 62/69 [00:00<00:00, 68.92it/s]\u001b[A\n",
      " 11%|█         | 87/792 [00:05<01:34,  7.46it/s][A"
     ]
    },
    {
     "name": "stdout",
     "output_type": "stream",
     "text": [
      "{'ade': 0.4576234, 'fde': 0.9781745}\n",
      "\t last loss:0.000259396, eval on validation:['ade: 0.4576234', 'fde: 0.9781745'], (best ade:0.45724764 at step 33900) \n"
     ]
    },
    {
     "name": "stderr",
     "output_type": "stream",
     "text": [
      " 48%|████▊     | 381/792 [00:17<00:16, 25.01it/s]"
     ]
    },
    {
     "name": "stdout",
     "output_type": "stream",
     "text": [
      "\tsaving model 38400...\n"
     ]
    },
    {
     "name": "stderr",
     "output_type": "stream",
     "text": [
      "\n",
      "  0%|          | 0/69 [00:00<?, ?it/s]\u001b[A\n",
      " 13%|#3        | 9/69 [00:00<00:00, 83.13it/s]\u001b[A"
     ]
    },
    {
     "name": "stdout",
     "output_type": "stream",
     "text": [
      "\tdone\n",
      "Evaluating\n"
     ]
    },
    {
     "name": "stderr",
     "output_type": "stream",
     "text": [
      "\n",
      " 22%|##1       | 15/69 [00:00<00:00, 71.93it/s]\u001b[A\n",
      " 30%|###       | 21/69 [00:00<00:00, 64.99it/s]\u001b[A\n",
      " 42%|####2     | 29/69 [00:00<00:00, 67.78it/s]\u001b[A\n",
      " 52%|#####2    | 36/69 [00:00<00:00, 67.45it/s]\u001b[A\n",
      " 65%|######5   | 45/69 [00:00<00:00, 72.23it/s]\u001b[A\n",
      " 80%|#######9  | 55/69 [00:00<00:00, 77.70it/s]\u001b[A\n",
      " 93%|#########2| 64/69 [00:00<00:00, 80.30it/s]\u001b[A\n",
      " 49%|████▉     | 387/792 [00:18<00:48,  8.42it/s]A"
     ]
    },
    {
     "name": "stdout",
     "output_type": "stream",
     "text": [
      "{'ade': 0.45838943, 'fde': 0.9815143}\n",
      "\t last loss:0.000400046, eval on validation:['ade: 0.45838943', 'fde: 0.9815143'], (best ade:0.45724764 at step 33900) \n"
     ]
    },
    {
     "name": "stderr",
     "output_type": "stream",
     "text": [
      " 86%|████████▌ | 681/792 [00:31<00:04, 22.60it/s]"
     ]
    },
    {
     "name": "stdout",
     "output_type": "stream",
     "text": [
      "\tsaving model 38700...\n"
     ]
    },
    {
     "name": "stderr",
     "output_type": "stream",
     "text": [
      "\n",
      "  0%|          | 0/69 [00:00<?, ?it/s]\u001b[A\n",
      " 12%|#1        | 8/69 [00:00<00:00, 76.41it/s]\u001b[A\n",
      " 23%|##3       | 16/69 [00:00<00:00, 75.87it/s]\u001b[A\n",
      " 33%|###3      | 23/69 [00:00<00:00, 72.75it/s]\u001b[A\n",
      " 45%|####4     | 31/69 [00:00<00:00, 73.56it/s]\u001b[A\n",
      " 57%|#####6    | 39/69 [00:00<00:00, 74.17it/s]\u001b[A\n",
      " 68%|######8   | 47/69 [00:00<00:00, 74.52it/s]\u001b[A\n",
      " 78%|#######8  | 54/69 [00:00<00:00, 72.95it/s]\u001b[A\n",
      " 88%|########8 | 61/69 [00:00<00:00, 71.75it/s]\u001b[A\n",
      " 99%|#########8| 68/69 [00:00<00:00, 64.55it/s]\u001b[A\n",
      " 87%|████████▋ | 687/792 [00:32<00:13,  7.66it/s]A"
     ]
    },
    {
     "name": "stdout",
     "output_type": "stream",
     "text": [
      "\tdone\n",
      "Evaluating\n",
      "{'ade': 0.458665, 'fde': 0.981487}\n",
      "\t last loss:0.000303416, eval on validation:['ade: 0.458665', 'fde: 0.981487'], (best ade:0.45724764 at step 33900) \n"
     ]
    },
    {
     "name": "stderr",
     "output_type": "stream",
     "text": [
      "100%|██████████| 792/792 [00:37<00:00, 21.25it/s]\n",
      "  0%|          | 1/792 [00:00<01:26,  9.09it/s]"
     ]
    },
    {
     "name": "stdout",
     "output_type": "stream",
     "text": [
      "('Epoca 50.', 'lr:', 4.0465464e-05)\n"
     ]
    },
    {
     "name": "stderr",
     "output_type": "stream",
     "text": [
      " 24%|██▍       | 190/792 [00:07<00:24, 24.96it/s]\n",
      "  0%|          | 0/69 [00:00<?, ?it/s]"
     ]
    },
    {
     "name": "stdout",
     "output_type": "stream",
     "text": [
      "\tsaving model 39000...\n",
      "\tdone\n",
      "Evaluating\n"
     ]
    },
    {
     "name": "stderr",
     "output_type": "stream",
     "text": [
      "\u001b[A\n",
      " 13%|#3        | 9/69 [00:00<00:00, 86.13it/s]\u001b[A\n",
      " 22%|##1       | 15/69 [00:00<00:00, 72.89it/s]\u001b[A\n",
      " 30%|###       | 21/69 [00:00<00:00, 66.43it/s]\u001b[A\n",
      " 42%|####2     | 29/69 [00:00<00:00, 67.99it/s]\u001b[A\n",
      " 55%|#####5    | 38/69 [00:00<00:00, 72.25it/s]\u001b[A\n",
      " 65%|######5   | 45/69 [00:00<00:00, 68.82it/s]\u001b[A\n",
      " 78%|#######8  | 54/69 [00:00<00:00, 73.08it/s]\u001b[A\n",
      " 91%|#########1| 63/69 [00:00<00:00, 75.87it/s]\u001b[A\n",
      " 25%|██▍       | 196/792 [00:08<01:11,  8.30it/s]A"
     ]
    },
    {
     "name": "stdout",
     "output_type": "stream",
     "text": [
      "{'ade': 0.4626398, 'fde': 0.9944928}\n",
      "\t last loss:0.000392901, eval on validation:['ade: 0.4626398', 'fde: 0.9944928'], (best ade:0.45724764 at step 33900) \n"
     ]
    },
    {
     "name": "stderr",
     "output_type": "stream",
     "text": [
      " 62%|██████▏   | 490/792 [00:21<00:13, 22.38it/s]"
     ]
    },
    {
     "name": "stdout",
     "output_type": "stream",
     "text": [
      "\tsaving model 39300...\n"
     ]
    },
    {
     "name": "stderr",
     "output_type": "stream",
     "text": [
      "\n",
      "  0%|          | 0/69 [00:00<?, ?it/s]\u001b[A\n",
      " 12%|#1        | 8/69 [00:00<00:00, 76.32it/s]\u001b[A\n",
      " 19%|#8        | 13/69 [00:00<00:00, 65.30it/s]\u001b[A\n",
      " 28%|##7       | 19/69 [00:00<00:00, 62.40it/s]\u001b[A\n",
      " 35%|###4      | 24/69 [00:00<00:00, 57.41it/s]\u001b[A\n",
      " 45%|####4     | 31/69 [00:00<00:00, 58.50it/s]\u001b[A\n",
      " 57%|#####6    | 39/69 [00:00<00:00, 62.22it/s]\u001b[A\n",
      " 68%|######8   | 47/69 [00:00<00:00, 65.51it/s]\u001b[A\n",
      " 78%|#######8  | 54/69 [00:00<00:00, 66.71it/s]\u001b[A\n",
      " 90%|########9 | 62/69 [00:00<00:00, 69.01it/s]\u001b[A\n",
      " 62%|██████▏   | 493/792 [00:22<00:51,  5.81it/s]A"
     ]
    },
    {
     "name": "stdout",
     "output_type": "stream",
     "text": [
      "\tdone\n",
      "Evaluating\n",
      "{'ade': 0.4599928, 'fde': 0.9870477}\n",
      "\t last loss:0.000642006, eval on validation:['ade: 0.4599928', 'fde: 0.9870477'], (best ade:0.45724764 at step 33900) \n"
     ]
    },
    {
     "name": "stderr",
     "output_type": "stream",
     "text": [
      "100%|█████████▉| 790/792 [00:34<00:00, 24.81it/s]"
     ]
    },
    {
     "name": "stdout",
     "output_type": "stream",
     "text": [
      "\tsaving model 39600...\n"
     ]
    },
    {
     "name": "stderr",
     "output_type": "stream",
     "text": [
      "\n",
      "  0%|          | 0/69 [00:00<?, ?it/s]\u001b[A\n",
      " 13%|#3        | 9/69 [00:00<00:00, 78.12it/s]\u001b[A"
     ]
    },
    {
     "name": "stdout",
     "output_type": "stream",
     "text": [
      "\tdone\n",
      "Evaluating\n"
     ]
    },
    {
     "name": "stderr",
     "output_type": "stream",
     "text": [
      "\n",
      " 22%|##1       | 15/69 [00:00<00:00, 71.04it/s]\u001b[A\n",
      " 33%|###3      | 23/69 [00:00<00:00, 72.74it/s]\u001b[A\n",
      " 46%|####6     | 32/69 [00:00<00:00, 75.37it/s]\u001b[A\n",
      " 58%|#####7    | 40/69 [00:00<00:00, 75.11it/s]\u001b[A\n",
      " 71%|#######1  | 49/69 [00:00<00:00, 77.36it/s]\u001b[A\n",
      " 84%|########4 | 58/69 [00:00<00:00, 79.67it/s]\u001b[A\n",
      " 97%|#########7| 67/69 [00:00<00:00, 81.25it/s]\u001b[A\n",
      "100%|██████████| 792/792 [00:36<00:00, 21.98it/s]A\n",
      "  0%|          | 0/792 [00:00<?, ?it/s]"
     ]
    },
    {
     "name": "stdout",
     "output_type": "stream",
     "text": [
      "{'ade': 0.4633054, 'fde': 0.9967327}\n",
      "\t last loss:0.000252976, eval on validation:['ade: 0.4633054', 'fde: 0.9967327'], (best ade:0.45724764 at step 33900) \n",
      "('Epoca 51.', 'lr:', 3.4395645e-05)\n"
     ]
    },
    {
     "name": "stderr",
     "output_type": "stream",
     "text": [
      " 38%|███▊      | 298/792 [00:11<00:19, 25.29it/s]\n",
      "  0%|          | 0/69 [00:00<?, ?it/s]\u001b[A"
     ]
    },
    {
     "name": "stdout",
     "output_type": "stream",
     "text": [
      "\tsaving model 39900...\n",
      "\tdone\n",
      "Evaluating\n"
     ]
    },
    {
     "name": "stderr",
     "output_type": "stream",
     "text": [
      "\n",
      " 14%|#4        | 10/69 [00:00<00:00, 92.85it/s]\u001b[A\n",
      " 29%|##8       | 20/69 [00:00<00:00, 92.99it/s]\u001b[A\n",
      " 41%|####      | 28/69 [00:00<00:00, 88.62it/s]\u001b[A\n",
      " 51%|#####     | 35/69 [00:00<00:00, 78.75it/s]\u001b[A\n",
      " 62%|######2   | 43/69 [00:00<00:00, 78.99it/s]\u001b[A\n",
      " 72%|#######2  | 50/69 [00:00<00:00, 74.31it/s]\u001b[A\n",
      " 86%|########5 | 59/69 [00:00<00:00, 75.91it/s]\u001b[A\n",
      " 97%|#########7| 67/69 [00:00<00:00, 76.58it/s]\u001b[A\n",
      " 38%|███▊      | 301/792 [00:13<01:12,  6.77it/s]A"
     ]
    },
    {
     "name": "stdout",
     "output_type": "stream",
     "text": [
      "{'ade': 0.4601492, 'fde': 0.988548}\n",
      "\t last loss:0.000376699, eval on validation:['ade: 0.4601492', 'fde: 0.988548'], (best ade:0.45724764 at step 33900) \n"
     ]
    },
    {
     "name": "stderr",
     "output_type": "stream",
     "text": [
      " 76%|███████▌  | 598/792 [00:26<00:07, 24.73it/s]\n",
      "  0%|          | 0/69 [00:00<?, ?it/s]\u001b[A"
     ]
    },
    {
     "name": "stdout",
     "output_type": "stream",
     "text": [
      "\tsaving model 40200...\n",
      "\tdone\n",
      "Evaluating\n"
     ]
    },
    {
     "name": "stderr",
     "output_type": "stream",
     "text": [
      "\n",
      " 13%|#3        | 9/69 [00:00<00:00, 85.36it/s]\u001b[A\n",
      " 26%|##6       | 18/69 [00:00<00:00, 84.09it/s]\u001b[A\n",
      " 35%|###4      | 24/69 [00:00<00:00, 73.25it/s]\u001b[A\n",
      " 43%|####3     | 30/69 [00:00<00:00, 67.72it/s]\u001b[A\n",
      " 52%|#####2    | 36/69 [00:00<00:00, 65.00it/s]\u001b[A\n",
      " 65%|######5   | 45/69 [00:00<00:00, 69.09it/s]\u001b[A\n",
      " 77%|#######6  | 53/69 [00:00<00:00, 70.16it/s]\u001b[A\n",
      " 90%|########9 | 62/69 [00:00<00:00, 73.97it/s]\u001b[A\n",
      " 76%|███████▋  | 604/792 [00:27<00:22,  8.24it/s]A"
     ]
    },
    {
     "name": "stdout",
     "output_type": "stream",
     "text": [
      "{'ade': 0.45968124, 'fde': 0.9865768}\n",
      "\t last loss:0.000359197, eval on validation:['ade: 0.45968124', 'fde: 0.9865768'], (best ade:0.45724764 at step 33900) \n"
     ]
    },
    {
     "name": "stderr",
     "output_type": "stream",
     "text": [
      "100%|██████████| 792/792 [00:35<00:00, 22.42it/s]\n",
      "  0%|          | 3/792 [00:00<00:34, 23.07it/s]"
     ]
    },
    {
     "name": "stdout",
     "output_type": "stream",
     "text": [
      "('Epoca 52.', 'lr:', 3.4395645e-05)\n"
     ]
    },
    {
     "name": "stderr",
     "output_type": "stream",
     "text": [
      " 13%|█▎        | 105/792 [00:05<00:33, 20.79it/s]"
     ]
    },
    {
     "name": "stdout",
     "output_type": "stream",
     "text": [
      "\tsaving model 40500...\n"
     ]
    },
    {
     "name": "stderr",
     "output_type": "stream",
     "text": [
      "\n",
      "  0%|          | 0/69 [00:00<?, ?it/s]\u001b[A\n",
      " 10%|#         | 7/69 [00:00<00:00, 64.45it/s]\u001b[A\n",
      " 19%|#8        | 13/69 [00:00<00:00, 59.80it/s]\u001b[A\n",
      " 26%|##6       | 18/69 [00:00<00:00, 55.86it/s]\u001b[A\n",
      " 36%|###6      | 25/69 [00:00<00:00, 58.65it/s]\u001b[A\n",
      " 46%|####6     | 32/69 [00:00<00:00, 60.67it/s]\u001b[A\n",
      " 57%|#####6    | 39/69 [00:00<00:00, 62.07it/s]\u001b[A\n",
      " 68%|######8   | 47/69 [00:00<00:00, 65.83it/s]\u001b[A\n",
      " 80%|#######9  | 55/69 [00:00<00:00, 67.88it/s]\u001b[A\n",
      " 91%|#########1| 63/69 [00:00<00:00, 70.19it/s]\u001b[A\n",
      "100%|##########| 69/69 [00:01<00:00, 65.82it/s]\u001b[A"
     ]
    },
    {
     "name": "stdout",
     "output_type": "stream",
     "text": [
      "\tdone\n",
      "Evaluating\n",
      "{'ade': 0.45716918, 'fde': 0.977135}\n",
      "\t last loss:0.000269680, eval on validation:['ade: 0.45716918', 'fde: 0.977135'], (best ade:0.45724764 at step 33900) \n",
      "\t saving best model...\n"
     ]
    },
    {
     "name": "stderr",
     "output_type": "stream",
     "text": [
      " 14%|█▍        | 111/792 [00:07<01:44,  6.51it/s]"
     ]
    },
    {
     "name": "stdout",
     "output_type": "stream",
     "text": [
      "\t done.\n"
     ]
    },
    {
     "name": "stderr",
     "output_type": "stream",
     "text": [
      " 51%|█████     | 405/792 [00:19<00:15, 25.13it/s]\n",
      "  0%|          | 0/69 [00:00<?, ?it/s]\u001b[A"
     ]
    },
    {
     "name": "stdout",
     "output_type": "stream",
     "text": [
      "\tsaving model 40800...\n",
      "\tdone\n",
      "Evaluating\n"
     ]
    },
    {
     "name": "stderr",
     "output_type": "stream",
     "text": [
      "\n",
      " 13%|#3        | 9/69 [00:00<00:00, 79.91it/s]\u001b[A\n",
      " 22%|##1       | 15/69 [00:00<00:00, 71.28it/s]\u001b[A\n",
      " 30%|###       | 21/69 [00:00<00:00, 65.33it/s]\u001b[A\n",
      " 41%|####      | 28/69 [00:00<00:00, 66.21it/s]\u001b[A\n",
      " 51%|#####     | 35/69 [00:00<00:00, 67.29it/s]\u001b[A\n",
      " 64%|######3   | 44/69 [00:00<00:00, 71.67it/s]\u001b[A\n",
      " 77%|#######6  | 53/69 [00:00<00:00, 75.21it/s]\u001b[A\n",
      " 88%|########8 | 61/69 [00:00<00:00, 76.16it/s]\u001b[A\n",
      " 52%|█████▏    | 411/792 [00:20<00:46,  8.26it/s]A"
     ]
    },
    {
     "name": "stdout",
     "output_type": "stream",
     "text": [
      "{'ade': 0.45846748, 'fde': 0.9816223}\n",
      "\t last loss:0.000287664, eval on validation:['ade: 0.45846748', 'fde: 0.9816223'], (best ade:0.45716918 at step 40500) \n"
     ]
    },
    {
     "name": "stderr",
     "output_type": "stream",
     "text": [
      " 89%|████████▉ | 705/792 [00:32<00:03, 26.74it/s]\n",
      "  0%|          | 0/69 [00:00<?, ?it/s]\u001b[A"
     ]
    },
    {
     "name": "stdout",
     "output_type": "stream",
     "text": [
      "\tsaving model 41100...\n",
      "\tdone\n",
      "Evaluating\n"
     ]
    },
    {
     "name": "stderr",
     "output_type": "stream",
     "text": [
      "\n",
      " 13%|#3        | 9/69 [00:00<00:00, 83.98it/s]\u001b[A\n",
      " 22%|##1       | 15/69 [00:00<00:00, 73.88it/s]\u001b[A\n",
      " 32%|###1      | 22/69 [00:00<00:00, 70.92it/s]\u001b[A\n",
      " 46%|####6     | 32/69 [00:00<00:00, 76.30it/s]\u001b[A\n",
      " 61%|######    | 42/69 [00:00<00:00, 80.54it/s]\u001b[A\n",
      " 72%|#######2  | 50/69 [00:00<00:00, 79.92it/s]\u001b[A\n",
      " 87%|########6 | 60/69 [00:00<00:00, 83.12it/s]\u001b[A\n",
      " 90%|████████▉ | 711/792 [00:33<00:09,  8.94it/s]A"
     ]
    },
    {
     "name": "stdout",
     "output_type": "stream",
     "text": [
      "{'ade': 0.45856902, 'fde': 0.98261094}\n",
      "\t last loss:0.000402527, eval on validation:['ade: 0.45856902', 'fde: 0.98261094'], (best ade:0.45716918 at step 40500) \n"
     ]
    },
    {
     "name": "stderr",
     "output_type": "stream",
     "text": [
      "100%|██████████| 792/792 [00:37<00:00, 24.39it/s]\n",
      "  0%|          | 2/792 [00:00<00:47, 16.55it/s]"
     ]
    },
    {
     "name": "stdout",
     "output_type": "stream",
     "text": [
      "('Epoca 53.', 'lr:', 2.92363e-05)\n"
     ]
    },
    {
     "name": "stderr",
     "output_type": "stream",
     "text": [
      " 27%|██▋       | 214/792 [00:09<00:23, 24.55it/s]"
     ]
    },
    {
     "name": "stdout",
     "output_type": "stream",
     "text": [
      "\tsaving model 41400...\n"
     ]
    },
    {
     "name": "stderr",
     "output_type": "stream",
     "text": [
      "\n",
      "  0%|          | 0/69 [00:00<?, ?it/s]\u001b[A\n",
      " 13%|#3        | 9/69 [00:00<00:00, 79.70it/s]\u001b[A\n",
      " 22%|##1       | 15/69 [00:00<00:00, 70.30it/s]\u001b[A\n",
      " 32%|###1      | 22/69 [00:00<00:00, 66.49it/s]\u001b[A\n",
      " 42%|####2     | 29/69 [00:00<00:00, 66.60it/s]\u001b[A\n",
      " 54%|#####3    | 37/69 [00:00<00:00, 68.61it/s]\u001b[A\n",
      " 67%|######6   | 46/69 [00:00<00:00, 72.48it/s]\u001b[A\n",
      " 80%|#######9  | 55/69 [00:00<00:00, 75.43it/s]\u001b[A\n",
      " 91%|#########1| 63/69 [00:00<00:00, 74.60it/s]\u001b[A\n",
      " 27%|██▋       | 217/792 [00:11<01:30,  6.33it/s]A"
     ]
    },
    {
     "name": "stdout",
     "output_type": "stream",
     "text": [
      "\tdone\n",
      "Evaluating\n",
      "{'ade': 0.4605995, 'fde': 0.9891218}\n",
      "\t last loss:0.000346042, eval on validation:['ade: 0.4605995', 'fde: 0.9891218'], (best ade:0.45716918 at step 40500) \n"
     ]
    },
    {
     "name": "stderr",
     "output_type": "stream",
     "text": [
      " 65%|██████▍   | 514/792 [00:23<00:13, 20.60it/s]"
     ]
    },
    {
     "name": "stdout",
     "output_type": "stream",
     "text": [
      "\tsaving model 41700...\n"
     ]
    },
    {
     "name": "stderr",
     "output_type": "stream",
     "text": [
      "\n",
      "  0%|          | 0/69 [00:00<?, ?it/s]\u001b[A\n",
      "  9%|8         | 6/69 [00:00<00:01, 52.32it/s]\u001b[A"
     ]
    },
    {
     "name": "stdout",
     "output_type": "stream",
     "text": [
      "\tdone\n",
      "Evaluating\n"
     ]
    },
    {
     "name": "stderr",
     "output_type": "stream",
     "text": [
      "\n",
      " 16%|#5        | 11/69 [00:00<00:01, 50.05it/s]\u001b[A\n",
      " 22%|##1       | 15/69 [00:00<00:01, 45.88it/s]\u001b[A\n",
      " 30%|###       | 21/69 [00:00<00:00, 48.92it/s]\u001b[A\n",
      " 39%|###9      | 27/69 [00:00<00:00, 50.50it/s]\u001b[A\n",
      " 48%|####7     | 33/69 [00:00<00:00, 52.92it/s]\u001b[A\n",
      " 58%|#####7    | 40/69 [00:00<00:00, 56.71it/s]\u001b[A\n",
      " 70%|######9   | 48/69 [00:00<00:00, 60.59it/s]\u001b[A\n",
      " 81%|########1 | 56/69 [00:00<00:00, 64.59it/s]\u001b[A\n",
      " 91%|#########1| 63/69 [00:01<00:00, 64.50it/s]\u001b[A\n",
      " 65%|██████▌   | 517/792 [00:25<00:51,  5.30it/s]A"
     ]
    },
    {
     "name": "stdout",
     "output_type": "stream",
     "text": [
      "{'ade': 0.4619709, 'fde': 0.99426657}\n",
      "\t last loss:0.000335259, eval on validation:['ade: 0.4619709', 'fde: 0.99426657'], (best ade:0.45716918 at step 40500) \n"
     ]
    },
    {
     "name": "stderr",
     "output_type": "stream",
     "text": [
      "100%|██████████| 792/792 [00:36<00:00, 26.91it/s]\n",
      "  0%|          | 2/792 [00:00<00:52, 15.09it/s]"
     ]
    },
    {
     "name": "stdout",
     "output_type": "stream",
     "text": [
      "('Epoca 54.', 'lr:', 2.92363e-05)\n"
     ]
    },
    {
     "name": "stderr",
     "output_type": "stream",
     "text": [
      "  3%|▎         | 23/792 [00:00<00:32, 23.73it/s]"
     ]
    },
    {
     "name": "stdout",
     "output_type": "stream",
     "text": [
      "\tsaving model 42000...\n"
     ]
    },
    {
     "name": "stderr",
     "output_type": "stream",
     "text": [
      "\n",
      "  0%|          | 0/69 [00:00<?, ?it/s]\u001b[A\n",
      " 13%|#3        | 9/69 [00:00<00:00, 89.05it/s]\u001b[A"
     ]
    },
    {
     "name": "stdout",
     "output_type": "stream",
     "text": [
      "\tdone\n",
      "Evaluating\n"
     ]
    },
    {
     "name": "stderr",
     "output_type": "stream",
     "text": [
      "\n",
      " 22%|##1       | 15/69 [00:00<00:00, 74.98it/s]\u001b[A\n",
      " 32%|###1      | 22/69 [00:00<00:00, 68.77it/s]\u001b[A\n",
      " 42%|####2     | 29/69 [00:00<00:00, 67.92it/s]\u001b[A\n",
      " 52%|#####2    | 36/69 [00:00<00:00, 67.79it/s]\u001b[A\n",
      " 65%|######5   | 45/69 [00:00<00:00, 71.68it/s]\u001b[A\n",
      " 78%|#######8  | 54/69 [00:00<00:00, 75.11it/s]\u001b[A\n",
      " 91%|#########1| 63/69 [00:00<00:00, 77.57it/s]\u001b[A\n",
      "  3%|▎         | 26/792 [00:02<02:00,  6.33it/s][A"
     ]
    },
    {
     "name": "stdout",
     "output_type": "stream",
     "text": [
      "{'ade': 0.46401438, 'fde': 0.997996}\n",
      "\t last loss:0.000395152, eval on validation:['ade: 0.46401438', 'fde: 0.997996'], (best ade:0.45716918 at step 40500) \n"
     ]
    },
    {
     "name": "stderr",
     "output_type": "stream",
     "text": [
      " 41%|████      | 323/792 [00:14<00:17, 26.29it/s]\n",
      "  0%|          | 0/69 [00:00<?, ?it/s]\u001b[A"
     ]
    },
    {
     "name": "stdout",
     "output_type": "stream",
     "text": [
      "\tsaving model 42300...\n",
      "\tdone\n",
      "Evaluating\n"
     ]
    },
    {
     "name": "stderr",
     "output_type": "stream",
     "text": [
      "\n",
      " 13%|#3        | 9/69 [00:00<00:00, 89.24it/s]\u001b[A\n",
      " 26%|##6       | 18/69 [00:00<00:00, 89.46it/s]\u001b[A\n",
      " 36%|###6      | 25/69 [00:00<00:00, 78.95it/s]\u001b[A\n",
      " 46%|####6     | 32/69 [00:00<00:00, 72.70it/s]\u001b[A\n",
      " 61%|######    | 42/69 [00:00<00:00, 77.79it/s]\u001b[A\n",
      " 72%|#######2  | 50/69 [00:00<00:00, 77.21it/s]\u001b[A\n",
      " 87%|########6 | 60/69 [00:00<00:00, 81.65it/s]\u001b[A\n",
      " 41%|████      | 326/792 [00:15<01:06,  7.03it/s]A"
     ]
    },
    {
     "name": "stdout",
     "output_type": "stream",
     "text": [
      "{'ade': 0.4594379, 'fde': 0.9849714}\n",
      "\t last loss:0.000346100, eval on validation:['ade: 0.4594379', 'fde: 0.9849714'], (best ade:0.45716918 at step 40500) \n"
     ]
    },
    {
     "name": "stderr",
     "output_type": "stream",
     "text": [
      " 79%|███████▊  | 623/792 [00:28<00:07, 22.93it/s]\n",
      "  0%|          | 0/69 [00:00<?, ?it/s]\u001b[A"
     ]
    },
    {
     "name": "stdout",
     "output_type": "stream",
     "text": [
      "\tsaving model 42600...\n",
      "\tdone\n",
      "Evaluating\n"
     ]
    },
    {
     "name": "stderr",
     "output_type": "stream",
     "text": [
      "\n",
      " 12%|#1        | 8/69 [00:00<00:00, 76.39it/s]\u001b[A\n",
      " 20%|##        | 14/69 [00:00<00:00, 68.08it/s]\u001b[A\n",
      " 29%|##8       | 20/69 [00:00<00:00, 63.75it/s]\u001b[A\n",
      " 39%|###9      | 27/69 [00:00<00:00, 63.64it/s]\u001b[A\n",
      " 49%|####9     | 34/69 [00:00<00:00, 64.89it/s]\u001b[A\n",
      " 61%|######    | 42/69 [00:00<00:00, 67.67it/s]\u001b[A\n",
      " 74%|#######3  | 51/69 [00:00<00:00, 71.76it/s]\u001b[A\n",
      " 86%|########5 | 59/69 [00:00<00:00, 73.95it/s]\u001b[A\n",
      " 99%|#########8| 68/69 [00:00<00:00, 76.55it/s]\u001b[A\n",
      " 79%|███████▉  | 626/792 [00:29<00:26,  6.15it/s]A"
     ]
    },
    {
     "name": "stdout",
     "output_type": "stream",
     "text": [
      "{'ade': 0.46129584, 'fde': 0.9908844}\n",
      "\t last loss:0.000472028, eval on validation:['ade: 0.46129584', 'fde: 0.9908844'], (best ade:0.45716918 at step 40500) \n"
     ]
    },
    {
     "name": "stderr",
     "output_type": "stream",
     "text": [
      "100%|██████████| 792/792 [00:36<00:00, 21.77it/s]\n",
      "  0%|          | 1/792 [00:00<01:36,  8.24it/s]"
     ]
    },
    {
     "name": "stdout",
     "output_type": "stream",
     "text": [
      "('Epoca 55.', 'lr:', 2.4850853e-05)\n"
     ]
    },
    {
     "name": "stderr",
     "output_type": "stream",
     "text": [
      " 16%|█▋        | 130/792 [00:05<00:31, 21.17it/s]"
     ]
    },
    {
     "name": "stdout",
     "output_type": "stream",
     "text": [
      "\tsaving model 42900...\n"
     ]
    },
    {
     "name": "stderr",
     "output_type": "stream",
     "text": [
      "\n",
      "  0%|          | 0/69 [00:00<?, ?it/s]\u001b[A\n",
      " 10%|#         | 7/69 [00:00<00:00, 65.44it/s]\u001b[A"
     ]
    },
    {
     "name": "stdout",
     "output_type": "stream",
     "text": [
      "\tdone\n",
      "Evaluating\n"
     ]
    },
    {
     "name": "stderr",
     "output_type": "stream",
     "text": [
      "\n",
      " 19%|#8        | 13/69 [00:00<00:00, 60.27it/s]\u001b[A\n",
      " 25%|##4       | 17/69 [00:00<00:01, 51.08it/s]\u001b[A\n",
      " 30%|###       | 21/69 [00:00<00:01, 46.88it/s]\u001b[A\n",
      " 41%|####      | 28/69 [00:00<00:00, 50.52it/s]\u001b[A\n",
      " 48%|####7     | 33/69 [00:00<00:00, 49.92it/s]\u001b[A\n",
      " 58%|#####7    | 40/69 [00:00<00:00, 53.95it/s]\u001b[A\n",
      " 68%|######8   | 47/69 [00:00<00:00, 56.39it/s]\u001b[A\n",
      " 78%|#######8  | 54/69 [00:00<00:00, 59.33it/s]\u001b[A\n",
      " 88%|########8 | 61/69 [00:01<00:00, 60.55it/s]\u001b[A\n",
      " 99%|#########8| 68/69 [00:01<00:00, 62.25it/s]\u001b[A\n",
      " 17%|█▋        | 133/792 [00:07<02:08,  5.12it/s]A"
     ]
    },
    {
     "name": "stdout",
     "output_type": "stream",
     "text": [
      "{'ade': 0.45762745, 'fde': 0.9807556}\n",
      "\t last loss:0.000478225, eval on validation:['ade: 0.45762745', 'fde: 0.9807556'], (best ade:0.45716918 at step 40500) \n"
     ]
    },
    {
     "name": "stderr",
     "output_type": "stream",
     "text": [
      " 54%|█████▍    | 431/792 [00:20<00:14, 25.50it/s]\n",
      "  0%|          | 0/69 [00:00<?, ?it/s]\u001b[A"
     ]
    },
    {
     "name": "stdout",
     "output_type": "stream",
     "text": [
      "\tsaving model 43200...\n",
      "\tdone\n",
      "Evaluating\n"
     ]
    },
    {
     "name": "stderr",
     "output_type": "stream",
     "text": [
      "\n",
      " 13%|#3        | 9/69 [00:00<00:00, 86.72it/s]\u001b[A\n",
      " 22%|##1       | 15/69 [00:00<00:00, 73.37it/s]\u001b[A\n",
      " 30%|###       | 21/69 [00:00<00:00, 66.94it/s]\u001b[A\n",
      " 41%|####      | 28/69 [00:00<00:00, 67.73it/s]\u001b[A\n",
      " 51%|#####     | 35/69 [00:00<00:00, 67.40it/s]\u001b[A\n",
      " 64%|######3   | 44/69 [00:00<00:00, 71.70it/s]\u001b[A\n",
      " 75%|#######5  | 52/69 [00:00<00:00, 73.14it/s]\u001b[A\n",
      " 88%|########8 | 61/69 [00:00<00:00, 75.82it/s]\u001b[A\n",
      " 55%|█████▍    | 434/792 [00:21<00:55,  6.45it/s]A"
     ]
    },
    {
     "name": "stdout",
     "output_type": "stream",
     "text": [
      "{'ade': 0.45739248, 'fde': 0.9801171}\n",
      "\t last loss:0.000401158, eval on validation:['ade: 0.45739248', 'fde: 0.9801171'], (best ade:0.45716918 at step 40500) \n"
     ]
    },
    {
     "name": "stderr",
     "output_type": "stream",
     "text": [
      " 92%|█████████▏| 731/792 [00:33<00:02, 26.07it/s]\n",
      "  0%|          | 0/69 [00:00<?, ?it/s]\u001b[A"
     ]
    },
    {
     "name": "stdout",
     "output_type": "stream",
     "text": [
      "\tsaving model 43500...\n",
      "\tdone\n",
      "Evaluating\n"
     ]
    },
    {
     "name": "stderr",
     "output_type": "stream",
     "text": [
      "\n",
      " 14%|#4        | 10/69 [00:00<00:00, 92.18it/s]\u001b[A\n",
      " 28%|##7       | 19/69 [00:00<00:00, 89.18it/s]\u001b[A\n",
      " 41%|####      | 28/69 [00:00<00:00, 88.92it/s]\u001b[A\n",
      " 51%|#####     | 35/69 [00:00<00:00, 80.40it/s]\u001b[A\n",
      " 61%|######    | 42/69 [00:00<00:00, 75.52it/s]\u001b[A\n",
      " 74%|#######3  | 51/69 [00:00<00:00, 77.57it/s]\u001b[A\n",
      " 86%|########5 | 59/69 [00:00<00:00, 76.44it/s]\u001b[A\n",
      " 93%|█████████▎| 734/792 [00:34<00:08,  7.00it/s]A"
     ]
    },
    {
     "name": "stdout",
     "output_type": "stream",
     "text": [
      "{'ade': 0.46087715, 'fde': 0.99011356}\n",
      "\t last loss:0.000287671, eval on validation:['ade: 0.46087715', 'fde: 0.99011356'], (best ade:0.45716918 at step 40500) \n"
     ]
    },
    {
     "name": "stderr",
     "output_type": "stream",
     "text": [
      "100%|██████████| 792/792 [00:36<00:00, 21.46it/s]\n",
      "  0%|          | 2/792 [00:00<00:43, 17.99it/s]"
     ]
    },
    {
     "name": "stdout",
     "output_type": "stream",
     "text": [
      "('Epoca 56.', 'lr:', 2.4850853e-05)\n"
     ]
    },
    {
     "name": "stderr",
     "output_type": "stream",
     "text": [
      " 30%|███       | 238/792 [00:10<00:24, 22.96it/s]"
     ]
    },
    {
     "name": "stdout",
     "output_type": "stream",
     "text": [
      "\tsaving model 43800...\n"
     ]
    },
    {
     "name": "stderr",
     "output_type": "stream",
     "text": [
      "\n",
      "  0%|          | 0/69 [00:00<?, ?it/s]\u001b[A\n",
      " 10%|#         | 7/69 [00:00<00:00, 69.69it/s]\u001b[A"
     ]
    },
    {
     "name": "stdout",
     "output_type": "stream",
     "text": [
      "\tdone\n",
      "Evaluating\n"
     ]
    },
    {
     "name": "stderr",
     "output_type": "stream",
     "text": [
      "\n",
      " 19%|#8        | 13/69 [00:00<00:00, 63.95it/s]\u001b[A\n",
      " 28%|##7       | 19/69 [00:00<00:00, 59.55it/s]\u001b[A\n",
      " 38%|###7      | 26/69 [00:00<00:00, 62.34it/s]\u001b[A\n",
      " 49%|####9     | 34/69 [00:00<00:00, 65.31it/s]\u001b[A\n",
      " 61%|######    | 42/69 [00:00<00:00, 69.00it/s]\u001b[A\n",
      " 74%|#######3  | 51/69 [00:00<00:00, 73.05it/s]\u001b[A\n",
      " 86%|########5 | 59/69 [00:00<00:00, 74.48it/s]\u001b[A\n",
      " 99%|#########8| 68/69 [00:00<00:00, 77.53it/s]\u001b[A\n",
      "100%|##########| 69/69 [00:00<00:00, 70.91it/s]\u001b[A"
     ]
    },
    {
     "name": "stdout",
     "output_type": "stream",
     "text": [
      "{'ade': 0.4571398, 'fde': 0.97884876}\n",
      "\t last loss:0.000508162, eval on validation:['ade: 0.4571398', 'fde: 0.97884876'], (best ade:0.45716918 at step 40500) \n",
      "\t saving best model...\n",
      "\t done.\n"
     ]
    },
    {
     "name": "stderr",
     "output_type": "stream",
     "text": [
      " 68%|██████▊   | 539/792 [00:24<00:11, 21.13it/s]"
     ]
    },
    {
     "name": "stdout",
     "output_type": "stream",
     "text": [
      "\tsaving model 44100...\n"
     ]
    },
    {
     "name": "stderr",
     "output_type": "stream",
     "text": [
      "\n",
      "  0%|          | 0/69 [00:00<?, ?it/s]\u001b[A\n",
      " 10%|#         | 7/69 [00:00<00:00, 63.65it/s]\u001b[A"
     ]
    },
    {
     "name": "stdout",
     "output_type": "stream",
     "text": [
      "\tdone\n",
      "Evaluating\n"
     ]
    },
    {
     "name": "stderr",
     "output_type": "stream",
     "text": [
      "\n",
      " 17%|#7        | 12/69 [00:00<00:01, 54.89it/s]\u001b[A\n",
      " 23%|##3       | 16/69 [00:00<00:01, 49.17it/s]\u001b[A\n",
      " 30%|###       | 21/69 [00:00<00:01, 47.90it/s]\u001b[A\n",
      " 39%|###9      | 27/69 [00:00<00:00, 48.95it/s]\u001b[A\n",
      " 48%|####7     | 33/69 [00:00<00:00, 51.07it/s]\u001b[A\n",
      " 58%|#####7    | 40/69 [00:00<00:00, 55.00it/s]\u001b[A\n",
      " 68%|######8   | 47/69 [00:00<00:00, 58.29it/s]\u001b[A\n",
      " 78%|#######8  | 54/69 [00:00<00:00, 60.70it/s]\u001b[A\n",
      " 87%|########6 | 60/69 [00:01<00:00, 60.42it/s]\u001b[A\n",
      " 97%|#########7| 67/69 [00:01<00:00, 61.30it/s]\u001b[A\n",
      " 68%|██████▊   | 542/792 [00:26<00:48,  5.11it/s]A"
     ]
    },
    {
     "name": "stdout",
     "output_type": "stream",
     "text": [
      "{'ade': 0.45971397, 'fde': 0.9856645}\n",
      "\t last loss:0.000412049, eval on validation:['ade: 0.45971397', 'fde: 0.9856645'], (best ade:0.4571398 at step 43800) \n"
     ]
    },
    {
     "name": "stderr",
     "output_type": "stream",
     "text": [
      "100%|██████████| 792/792 [00:36<00:00, 21.51it/s]\n",
      "  0%|          | 3/792 [00:00<00:31, 25.01it/s]"
     ]
    },
    {
     "name": "stdout",
     "output_type": "stream",
     "text": [
      "('Epoca 57.', 'lr:', 2.1123227e-05)\n"
     ]
    },
    {
     "name": "stderr",
     "output_type": "stream",
     "text": [
      "  6%|▌         | 45/792 [00:01<00:28, 26.57it/s]\n",
      "  0%|          | 0/69 [00:00<?, ?it/s]\u001b[A"
     ]
    },
    {
     "name": "stdout",
     "output_type": "stream",
     "text": [
      "\tsaving model 44400...\n",
      "\tdone\n",
      "Evaluating\n"
     ]
    },
    {
     "name": "stderr",
     "output_type": "stream",
     "text": [
      "\n",
      " 13%|#3        | 9/69 [00:00<00:00, 88.23it/s]\u001b[A\n",
      " 25%|##4       | 17/69 [00:00<00:00, 84.41it/s]\u001b[A\n",
      " 35%|###4      | 24/69 [00:00<00:00, 79.02it/s]\u001b[A\n",
      " 43%|####3     | 30/69 [00:00<00:00, 70.99it/s]\u001b[A\n",
      " 55%|#####5    | 38/69 [00:00<00:00, 70.53it/s]\u001b[A\n",
      " 67%|######6   | 46/69 [00:00<00:00, 71.15it/s]\u001b[A\n",
      " 80%|#######9  | 55/69 [00:00<00:00, 74.05it/s]\u001b[A\n",
      " 93%|#########2| 64/69 [00:00<00:00, 76.48it/s]\u001b[A\n",
      "  6%|▋         | 51/792 [00:03<01:27,  8.48it/s][A"
     ]
    },
    {
     "name": "stdout",
     "output_type": "stream",
     "text": [
      "{'ade': 0.4603813, 'fde': 0.9878794}\n",
      "\t last loss:0.000305972, eval on validation:['ade: 0.4603813', 'fde: 0.9878794'], (best ade:0.4571398 at step 43800) \n"
     ]
    },
    {
     "name": "stderr",
     "output_type": "stream",
     "text": [
      " 44%|████▎     | 345/792 [00:14<00:20, 21.72it/s]"
     ]
    },
    {
     "name": "stdout",
     "output_type": "stream",
     "text": [
      "\tsaving model 44700...\n"
     ]
    },
    {
     "name": "stderr",
     "output_type": "stream",
     "text": [
      "\n",
      "  0%|          | 0/69 [00:00<?, ?it/s]\u001b[A\n",
      " 10%|#         | 7/69 [00:00<00:00, 68.33it/s]\u001b[A"
     ]
    },
    {
     "name": "stdout",
     "output_type": "stream",
     "text": [
      "\tdone\n",
      "Evaluating\n"
     ]
    },
    {
     "name": "stderr",
     "output_type": "stream",
     "text": [
      "\n",
      " 19%|#8        | 13/69 [00:00<00:00, 61.87it/s]\u001b[A\n",
      " 25%|##4       | 17/69 [00:00<00:00, 52.28it/s]\u001b[A\n",
      " 32%|###1      | 22/69 [00:00<00:00, 48.66it/s]\u001b[A\n",
      " 42%|####2     | 29/69 [00:00<00:00, 52.74it/s]\u001b[A\n",
      " 51%|#####     | 35/69 [00:00<00:00, 54.26it/s]\u001b[A\n",
      " 59%|#####9    | 41/69 [00:00<00:00, 55.39it/s]\u001b[A\n",
      " 70%|######9   | 48/69 [00:00<00:00, 58.22it/s]\u001b[A\n",
      " 80%|#######9  | 55/69 [00:00<00:00, 60.74it/s]\u001b[A\n",
      " 90%|########9 | 62/69 [00:01<00:00, 61.79it/s]\u001b[A\n",
      " 44%|████▍     | 348/792 [00:16<01:25,  5.16it/s]A"
     ]
    },
    {
     "name": "stdout",
     "output_type": "stream",
     "text": [
      "{'ade': 0.4623433, 'fde': 0.9934506}\n",
      "\t last loss:0.000310079, eval on validation:['ade: 0.4623433', 'fde: 0.9934506'], (best ade:0.4571398 at step 43800) \n"
     ]
    },
    {
     "name": "stderr",
     "output_type": "stream",
     "text": [
      " 81%|████████▏ | 645/792 [00:30<00:07, 20.84it/s]"
     ]
    },
    {
     "name": "stdout",
     "output_type": "stream",
     "text": [
      "\tsaving model 45000...\n"
     ]
    },
    {
     "name": "stderr",
     "output_type": "stream",
     "text": [
      "\n",
      "  0%|          | 0/69 [00:00<?, ?it/s]\u001b[A\n",
      " 13%|#3        | 9/69 [00:00<00:00, 85.39it/s]\u001b[A"
     ]
    },
    {
     "name": "stdout",
     "output_type": "stream",
     "text": [
      "\tdone\n",
      "Evaluating\n"
     ]
    },
    {
     "name": "stderr",
     "output_type": "stream",
     "text": [
      "\n",
      " 23%|##3       | 16/69 [00:00<00:00, 74.15it/s]\u001b[A\n",
      " 32%|###1      | 22/69 [00:00<00:00, 66.88it/s]\u001b[A\n",
      " 41%|####      | 28/69 [00:00<00:00, 62.27it/s]\u001b[A\n",
      " 49%|####9     | 34/69 [00:00<00:00, 59.55it/s]\u001b[A\n",
      " 57%|#####6    | 39/69 [00:00<00:00, 47.47it/s]\u001b[A\n",
      " 64%|######3   | 44/69 [00:00<00:00, 44.23it/s]\u001b[A\n",
      " 71%|#######1  | 49/69 [00:00<00:00, 42.43it/s]\u001b[A\n",
      " 78%|#######8  | 54/69 [00:01<00:00, 41.62it/s]\u001b[A\n",
      " 86%|########5 | 59/69 [00:01<00:00, 41.99it/s]\u001b[A\n",
      " 93%|#########2| 64/69 [00:01<00:00, 40.72it/s]\u001b[A\n",
      " 82%|████████▏ | 648/792 [00:32<00:32,  4.48it/s]A"
     ]
    },
    {
     "name": "stdout",
     "output_type": "stream",
     "text": [
      "{'ade': 0.45903152, 'fde': 0.983288}\n",
      "\t last loss:0.000270783, eval on validation:['ade: 0.45903152', 'fde: 0.983288'], (best ade:0.4571398 at step 43800) \n"
     ]
    },
    {
     "name": "stderr",
     "output_type": "stream",
     "text": [
      "100%|██████████| 792/792 [00:40<00:00, 19.40it/s]\n",
      "  0%|          | 1/792 [00:00<01:44,  7.60it/s]"
     ]
    },
    {
     "name": "stdout",
     "output_type": "stream",
     "text": [
      "('Epoca 58.', 'lr:', 2.1123227e-05)\n"
     ]
    },
    {
     "name": "stderr",
     "output_type": "stream",
     "text": [
      " 19%|█▉        | 154/792 [00:06<00:24, 25.74it/s]\n",
      "  0%|          | 0/69 [00:00<?, ?it/s]\u001b[A"
     ]
    },
    {
     "name": "stdout",
     "output_type": "stream",
     "text": [
      "\tsaving model 45300...\n",
      "\tdone\n",
      "Evaluating\n"
     ]
    },
    {
     "name": "stderr",
     "output_type": "stream",
     "text": [
      "\n",
      " 13%|#3        | 9/69 [00:00<00:00, 89.13it/s]\u001b[A\n",
      " 22%|##1       | 15/69 [00:00<00:00, 77.71it/s]\u001b[A\n",
      " 33%|###3      | 23/69 [00:00<00:00, 75.53it/s]\u001b[A\n",
      " 43%|####3     | 30/69 [00:00<00:00, 73.12it/s]\u001b[A\n",
      " 57%|#####6    | 39/69 [00:00<00:00, 76.24it/s]\u001b[A\n",
      " 68%|######8   | 47/69 [00:00<00:00, 77.03it/s]\u001b[A\n",
      " 81%|########1 | 56/69 [00:00<00:00, 79.22it/s]\u001b[A\n",
      " 93%|#########2| 64/69 [00:00<00:00, 76.30it/s]\u001b[A\n",
      " 20%|██        | 160/792 [00:08<01:13,  8.59it/s]A"
     ]
    },
    {
     "name": "stdout",
     "output_type": "stream",
     "text": [
      "{'ade': 0.45885044, 'fde': 0.9838408}\n",
      "\t last loss:0.000473548, eval on validation:['ade: 0.45885044', 'fde: 0.9838408'], (best ade:0.4571398 at step 43800) \n"
     ]
    },
    {
     "name": "stderr",
     "output_type": "stream",
     "text": [
      " 57%|█████▋    | 454/792 [00:20<00:14, 23.46it/s]\n",
      "  0%|          | 0/69 [00:00<?, ?it/s]\u001b[A"
     ]
    },
    {
     "name": "stdout",
     "output_type": "stream",
     "text": [
      "\tsaving model 45600...\n",
      "\tdone\n",
      "Evaluating\n"
     ]
    },
    {
     "name": "stderr",
     "output_type": "stream",
     "text": [
      "\n",
      " 12%|#1        | 8/69 [00:00<00:00, 79.98it/s]\u001b[A\n",
      " 23%|##3       | 16/69 [00:00<00:00, 78.50it/s]\u001b[A\n",
      " 32%|###1      | 22/69 [00:00<00:00, 70.70it/s]\u001b[A\n",
      " 43%|####3     | 30/69 [00:00<00:00, 72.26it/s]\u001b[A\n",
      " 55%|#####5    | 38/69 [00:00<00:00, 73.57it/s]\u001b[A\n",
      " 67%|######6   | 46/69 [00:00<00:00, 75.38it/s]\u001b[A\n",
      " 78%|#######8  | 54/69 [00:00<00:00, 74.84it/s]\u001b[A\n",
      " 93%|#########2| 64/69 [00:00<00:00, 79.05it/s]\u001b[A\n",
      " 58%|█████▊    | 460/792 [00:22<00:39,  8.43it/s]A"
     ]
    },
    {
     "name": "stdout",
     "output_type": "stream",
     "text": [
      "{'ade': 0.4605034, 'fde': 0.9900543}\n",
      "\t last loss:0.000424470, eval on validation:['ade: 0.4605034', 'fde: 0.9900543'], (best ade:0.4571398 at step 43800) \n"
     ]
    },
    {
     "name": "stderr",
     "output_type": "stream",
     "text": [
      " 95%|█████████▌| 754/792 [00:34<00:01, 22.45it/s]"
     ]
    },
    {
     "name": "stdout",
     "output_type": "stream",
     "text": [
      "\tsaving model 45900...\n"
     ]
    },
    {
     "name": "stderr",
     "output_type": "stream",
     "text": [
      "\n",
      "  0%|          | 0/69 [00:00<?, ?it/s]\u001b[A\n",
      " 12%|#1        | 8/69 [00:00<00:00, 75.65it/s]\u001b[A"
     ]
    },
    {
     "name": "stdout",
     "output_type": "stream",
     "text": [
      "\tdone\n",
      "Evaluating\n"
     ]
    },
    {
     "name": "stderr",
     "output_type": "stream",
     "text": [
      "\n",
      " 23%|##3       | 16/69 [00:00<00:00, 72.84it/s]\u001b[A\n",
      " 30%|###       | 21/69 [00:00<00:00, 61.62it/s]\u001b[A\n",
      " 39%|###9      | 27/69 [00:00<00:00, 58.04it/s]\u001b[A\n",
      " 48%|####7     | 33/69 [00:00<00:00, 57.25it/s]\u001b[A\n",
      " 57%|#####6    | 39/69 [00:00<00:00, 56.79it/s]\u001b[A\n",
      " 68%|######8   | 47/69 [00:00<00:00, 61.42it/s]\u001b[A\n",
      " 80%|#######9  | 55/69 [00:00<00:00, 64.49it/s]\u001b[A\n",
      " 91%|#########1| 63/69 [00:00<00:00, 67.43it/s]\u001b[A\n",
      " 96%|█████████▌| 757/792 [00:36<00:06,  5.73it/s]A"
     ]
    },
    {
     "name": "stdout",
     "output_type": "stream",
     "text": [
      "{'ade': 0.4606099, 'fde': 0.988668}\n",
      "\t last loss:0.000974176, eval on validation:['ade: 0.4606099', 'fde: 0.988668'], (best ade:0.4571398 at step 43800) \n"
     ]
    },
    {
     "name": "stderr",
     "output_type": "stream",
     "text": [
      "100%|██████████| 792/792 [00:38<00:00, 20.84it/s]\n",
      "  0%|          | 2/792 [00:00<00:52, 15.15it/s]"
     ]
    },
    {
     "name": "stdout",
     "output_type": "stream",
     "text": [
      "('Epoca 59.', 'lr:', 1.7954744e-05)\n"
     ]
    },
    {
     "name": "stderr",
     "output_type": "stream",
     "text": [
      " 33%|███▎      | 261/792 [00:10<00:24, 21.74it/s]\n",
      "  0%|          | 0/69 [00:00<?, ?it/s]\u001b[A"
     ]
    },
    {
     "name": "stdout",
     "output_type": "stream",
     "text": [
      "\tsaving model 46200...\n",
      "\tdone\n",
      "Evaluating\n"
     ]
    },
    {
     "name": "stderr",
     "output_type": "stream",
     "text": [
      "\n",
      " 13%|#3        | 9/69 [00:00<00:00, 82.94it/s]\u001b[A\n",
      " 23%|##3       | 16/69 [00:00<00:00, 75.28it/s]\u001b[A\n",
      " 32%|###1      | 22/69 [00:00<00:00, 69.07it/s]\u001b[A\n",
      " 39%|###9      | 27/69 [00:00<00:00, 59.98it/s]\u001b[A\n",
      " 51%|#####     | 35/69 [00:00<00:00, 64.51it/s]\u001b[A\n",
      " 62%|######2   | 43/69 [00:00<00:00, 67.93it/s]\u001b[A\n",
      " 72%|#######2  | 50/69 [00:00<00:00, 66.69it/s]\u001b[A\n",
      " 83%|########2 | 57/69 [00:00<00:00, 65.88it/s]\u001b[A\n",
      " 93%|#########2| 64/69 [00:00<00:00, 64.45it/s]\u001b[A\n",
      " 34%|███▎      | 267/792 [00:12<01:11,  7.38it/s]A"
     ]
    },
    {
     "name": "stdout",
     "output_type": "stream",
     "text": [
      "{'ade': 0.45910144, 'fde': 0.9845304}\n",
      "\t last loss:0.000295191, eval on validation:['ade: 0.45910144', 'fde: 0.9845304'], (best ade:0.4571398 at step 43800) \n"
     ]
    },
    {
     "name": "stderr",
     "output_type": "stream",
     "text": [
      " 71%|███████   | 562/792 [00:25<00:08, 26.31it/s]\n",
      "  0%|          | 0/69 [00:00<?, ?it/s]\u001b[A"
     ]
    },
    {
     "name": "stdout",
     "output_type": "stream",
     "text": [
      "\tsaving model 46500...\n",
      "\tdone\n",
      "Evaluating\n"
     ]
    },
    {
     "name": "stderr",
     "output_type": "stream",
     "text": [
      "\n",
      " 13%|#3        | 9/69 [00:00<00:00, 88.99it/s]\u001b[A\n",
      " 23%|##3       | 16/69 [00:00<00:00, 80.95it/s]\u001b[A\n",
      " 33%|###3      | 23/69 [00:00<00:00, 76.90it/s]\u001b[A\n",
      " 43%|####3     | 30/69 [00:00<00:00, 72.09it/s]\u001b[A\n",
      " 57%|#####6    | 39/69 [00:00<00:00, 75.37it/s]\u001b[A\n",
      " 68%|######8   | 47/69 [00:00<00:00, 76.19it/s]\u001b[A\n",
      " 83%|########2 | 57/69 [00:00<00:00, 80.14it/s]\u001b[A\n",
      " 96%|#########5| 66/69 [00:00<00:00, 82.40it/s]\u001b[A\n",
      " 71%|███████▏  | 565/792 [00:26<00:33,  6.82it/s]A"
     ]
    },
    {
     "name": "stdout",
     "output_type": "stream",
     "text": [
      "{'ade': 0.46097666, 'fde': 0.99033934}\n",
      "\t last loss:0.000452033, eval on validation:['ade: 0.46097666', 'fde: 0.99033934'], (best ade:0.4571398 at step 43800) \n"
     ]
    },
    {
     "name": "stderr",
     "output_type": "stream",
     "text": [
      "100%|██████████| 792/792 [00:35<00:00, 22.20it/s]\n",
      "  0%|          | 2/792 [00:00<00:48, 16.25it/s]"
     ]
    },
    {
     "name": "stdout",
     "output_type": "stream",
     "text": [
      "('Epoca 60.', 'lr:', 1.7954744e-05)\n"
     ]
    },
    {
     "name": "stderr",
     "output_type": "stream",
     "text": [
      "  9%|▉         | 71/792 [00:02<00:29, 24.48it/s]"
     ]
    },
    {
     "name": "stdout",
     "output_type": "stream",
     "text": [
      "\tsaving model 46800...\n"
     ]
    },
    {
     "name": "stderr",
     "output_type": "stream",
     "text": [
      "\n",
      "  0%|          | 0/69 [00:00<?, ?it/s]\u001b[A\n",
      " 13%|#3        | 9/69 [00:00<00:00, 85.38it/s]\u001b[A\n",
      " 25%|##4       | 17/69 [00:00<00:00, 80.32it/s]\u001b[A\n",
      " 35%|###4      | 24/69 [00:00<00:00, 74.00it/s]\u001b[A\n",
      " 43%|####3     | 30/69 [00:00<00:00, 66.33it/s]\u001b[A\n",
      " 55%|#####5    | 38/69 [00:00<00:00, 69.38it/s]\u001b[A\n",
      " 67%|######6   | 46/69 [00:00<00:00, 70.77it/s]\u001b[A\n",
      " 77%|#######6  | 53/69 [00:00<00:00, 69.36it/s]\u001b[A\n",
      " 88%|########8 | 61/69 [00:00<00:00, 71.15it/s]\u001b[A\n",
      "  9%|▉         | 74/792 [00:04<01:57,  6.11it/s][A"
     ]
    },
    {
     "name": "stdout",
     "output_type": "stream",
     "text": [
      "\tdone\n",
      "Evaluating\n",
      "{'ade': 0.4586973, 'fde': 0.9845132}\n",
      "\t last loss:0.000366533, eval on validation:['ade: 0.4586973', 'fde: 0.9845132'], (best ade:0.4571398 at step 43800) \n"
     ]
    },
    {
     "name": "stderr",
     "output_type": "stream",
     "text": [
      " 47%|████▋     | 369/792 [00:17<00:16, 26.01it/s]\n",
      "  0%|          | 0/69 [00:00<?, ?it/s]\u001b[A"
     ]
    },
    {
     "name": "stdout",
     "output_type": "stream",
     "text": [
      "\tsaving model 47100...\n",
      "\tdone\n",
      "Evaluating\n"
     ]
    },
    {
     "name": "stderr",
     "output_type": "stream",
     "text": [
      "\n",
      " 13%|#3        | 9/69 [00:00<00:00, 85.89it/s]\u001b[A\n",
      " 23%|##3       | 16/69 [00:00<00:00, 76.44it/s]\u001b[A\n",
      " 35%|###4      | 24/69 [00:00<00:00, 74.98it/s]\u001b[A\n",
      " 43%|####3     | 30/69 [00:00<00:00, 69.72it/s]\u001b[A\n",
      " 57%|#####6    | 39/69 [00:00<00:00, 74.41it/s]\u001b[A\n",
      " 68%|######8   | 47/69 [00:00<00:00, 74.57it/s]\u001b[A\n",
      " 81%|########1 | 56/69 [00:00<00:00, 78.24it/s]\u001b[A\n",
      " 94%|#########4| 65/69 [00:00<00:00, 80.05it/s]\u001b[A\n",
      " 47%|████▋     | 375/792 [00:18<00:48,  8.60it/s]A"
     ]
    },
    {
     "name": "stdout",
     "output_type": "stream",
     "text": [
      "{'ade': 0.4603115, 'fde': 0.9890424}\n",
      "\t last loss:0.000253674, eval on validation:['ade: 0.4603115', 'fde: 0.9890424'], (best ade:0.4571398 at step 43800) \n"
     ]
    },
    {
     "name": "stderr",
     "output_type": "stream",
     "text": [
      " 84%|████████▍ | 669/792 [00:31<00:05, 22.62it/s]"
     ]
    },
    {
     "name": "stdout",
     "output_type": "stream",
     "text": [
      "\tsaving model 47400...\n"
     ]
    },
    {
     "name": "stderr",
     "output_type": "stream",
     "text": [
      "\n",
      "  0%|          | 0/69 [00:00<?, ?it/s]\u001b[A\n",
      " 12%|#1        | 8/69 [00:00<00:00, 79.52it/s]\u001b[A"
     ]
    },
    {
     "name": "stdout",
     "output_type": "stream",
     "text": [
      "\tdone\n",
      "Evaluating\n"
     ]
    },
    {
     "name": "stderr",
     "output_type": "stream",
     "text": [
      "\n",
      " 20%|##        | 14/69 [00:00<00:00, 70.44it/s]\u001b[A\n",
      " 30%|###       | 21/69 [00:00<00:00, 66.29it/s]\u001b[A\n",
      " 42%|####2     | 29/69 [00:00<00:00, 68.61it/s]\u001b[A\n",
      " 52%|#####2    | 36/69 [00:00<00:00, 67.72it/s]\u001b[A\n",
      " 64%|######3   | 44/69 [00:00<00:00, 70.76it/s]\u001b[A\n",
      " 77%|#######6  | 53/69 [00:00<00:00, 74.16it/s]\u001b[A\n",
      " 88%|########8 | 61/69 [00:00<00:00, 74.58it/s]\u001b[A\n",
      "100%|##########| 69/69 [00:00<00:00, 72.01it/s]\u001b[A"
     ]
    },
    {
     "name": "stdout",
     "output_type": "stream",
     "text": [
      "{'ade': 0.4561901, 'fde': 0.9770417}\n",
      "\t last loss:0.000273154, eval on validation:['ade: 0.4561901', 'fde: 0.9770417'], (best ade:0.4571398 at step 43800) \n",
      "\t saving best model...\n"
     ]
    },
    {
     "name": "stderr",
     "output_type": "stream",
     "text": [
      " 85%|████████▌ | 675/792 [00:33<00:16,  6.99it/s]"
     ]
    },
    {
     "name": "stdout",
     "output_type": "stream",
     "text": [
      "\t done.\n"
     ]
    },
    {
     "name": "stderr",
     "output_type": "stream",
     "text": [
      "100%|██████████| 792/792 [00:38<00:00, 20.55it/s]\n",
      "  0%|          | 1/792 [00:00<01:32,  8.54it/s]"
     ]
    },
    {
     "name": "stdout",
     "output_type": "stream",
     "text": [
      "('Epoca 61.', 'lr:', 1.5261532e-05)\n"
     ]
    },
    {
     "name": "stderr",
     "output_type": "stream",
     "text": [
      " 22%|██▏       | 178/792 [00:07<00:23, 25.87it/s]\n",
      "  0%|          | 0/69 [00:00<?, ?it/s]\u001b[A"
     ]
    },
    {
     "name": "stdout",
     "output_type": "stream",
     "text": [
      "\tsaving model 47700...\n",
      "\tdone\n",
      "Evaluating\n"
     ]
    },
    {
     "name": "stderr",
     "output_type": "stream",
     "text": [
      "\n",
      " 13%|#3        | 9/69 [00:00<00:00, 84.26it/s]\u001b[A\n",
      " 26%|##6       | 18/69 [00:00<00:00, 85.88it/s]\u001b[A\n",
      " 41%|####      | 28/69 [00:00<00:00, 87.50it/s]\u001b[A\n",
      " 51%|#####     | 35/69 [00:00<00:00, 78.05it/s]\u001b[A\n",
      " 62%|######2   | 43/69 [00:00<00:00, 75.16it/s]\u001b[A\n",
      " 74%|#######3  | 51/69 [00:00<00:00, 74.62it/s]\u001b[A\n",
      " 84%|########4 | 58/69 [00:00<00:00, 67.89it/s]\u001b[A\n",
      " 94%|#########4| 65/69 [00:00<00:00, 63.59it/s]\u001b[A\n",
      " 23%|██▎       | 181/792 [00:08<01:36,  6.32it/s]A"
     ]
    },
    {
     "name": "stdout",
     "output_type": "stream",
     "text": [
      "{'ade': 0.46069962, 'fde': 0.98962694}\n",
      "\t last loss:0.000294858, eval on validation:['ade: 0.46069962', 'fde: 0.98962694'], (best ade:0.4561901 at step 47400) \n"
     ]
    },
    {
     "name": "stderr",
     "output_type": "stream",
     "text": [
      " 60%|██████    | 478/792 [00:20<00:12, 24.63it/s]\n",
      "  0%|          | 0/69 [00:00<?, ?it/s]\u001b[A"
     ]
    },
    {
     "name": "stdout",
     "output_type": "stream",
     "text": [
      "\tsaving model 48000...\n",
      "\tdone\n",
      "Evaluating\n"
     ]
    },
    {
     "name": "stderr",
     "output_type": "stream",
     "text": [
      "\n",
      " 13%|#3        | 9/69 [00:00<00:00, 83.87it/s]\u001b[A\n",
      " 23%|##3       | 16/69 [00:00<00:00, 76.79it/s]\u001b[A\n",
      " 32%|###1      | 22/69 [00:00<00:00, 70.37it/s]\u001b[A\n",
      " 39%|###9      | 27/69 [00:00<00:00, 62.16it/s]\u001b[A\n",
      " 51%|#####     | 35/69 [00:00<00:00, 66.29it/s]\u001b[A\n",
      " 62%|######2   | 43/69 [00:00<00:00, 69.06it/s]\u001b[A\n",
      " 74%|#######3  | 51/69 [00:00<00:00, 71.76it/s]\u001b[A\n",
      " 84%|########4 | 58/69 [00:00<00:00, 66.50it/s]\u001b[A\n",
      " 94%|#########4| 65/69 [00:00<00:00, 66.31it/s]\u001b[A\n",
      " 61%|██████    | 483/792 [00:22<00:40,  7.60it/s]A"
     ]
    },
    {
     "name": "stdout",
     "output_type": "stream",
     "text": [
      "{'ade': 0.45816037, 'fde': 0.9819437}\n",
      "\t last loss:0.000194234, eval on validation:['ade: 0.45816037', 'fde: 0.9819437'], (best ade:0.4561901 at step 47400) \n"
     ]
    },
    {
     "name": "stderr",
     "output_type": "stream",
     "text": [
      " 98%|█████████▊| 779/792 [00:35<00:00, 26.13it/s]\n",
      "  0%|          | 0/69 [00:00<?, ?it/s]\u001b[A"
     ]
    },
    {
     "name": "stdout",
     "output_type": "stream",
     "text": [
      "\tsaving model 48300...\n",
      "\tdone\n",
      "Evaluating\n"
     ]
    },
    {
     "name": "stderr",
     "output_type": "stream",
     "text": [
      "\n",
      " 14%|#4        | 10/69 [00:00<00:00, 89.51it/s]\u001b[A\n",
      " 26%|##6       | 18/69 [00:00<00:00, 85.10it/s]\u001b[A\n",
      " 38%|###7      | 26/69 [00:00<00:00, 80.55it/s]\u001b[A\n",
      " 46%|####6     | 32/69 [00:00<00:00, 71.75it/s]\u001b[A\n",
      " 59%|#####9    | 41/69 [00:00<00:00, 74.60it/s]\u001b[A\n",
      " 71%|#######1  | 49/69 [00:00<00:00, 74.12it/s]\u001b[A\n",
      " 84%|########4 | 58/69 [00:00<00:00, 78.21it/s]\u001b[A\n",
      " 99%|#########8| 68/69 [00:00<00:00, 81.90it/s]\u001b[A\n",
      " 99%|█████████▊| 782/792 [00:37<00:01,  6.85it/s]A"
     ]
    },
    {
     "name": "stdout",
     "output_type": "stream",
     "text": [
      "{'ade': 0.4585141, 'fde': 0.98256445}\n",
      "\t last loss:0.000433856, eval on validation:['ade: 0.4585141', 'fde: 0.98256445'], (best ade:0.4561901 at step 47400) \n"
     ]
    },
    {
     "name": "stderr",
     "output_type": "stream",
     "text": [
      "100%|██████████| 792/792 [00:37<00:00, 21.08it/s]\n",
      "  0%|          | 1/792 [00:00<01:36,  8.18it/s]"
     ]
    },
    {
     "name": "stdout",
     "output_type": "stream",
     "text": [
      "('Epoca 62.', 'lr:', 1.5261532e-05)\n"
     ]
    },
    {
     "name": "stderr",
     "output_type": "stream",
     "text": [
      " 36%|███▌      | 286/792 [00:11<00:20, 24.38it/s]\n",
      "  0%|          | 0/69 [00:00<?, ?it/s]\u001b[A"
     ]
    },
    {
     "name": "stdout",
     "output_type": "stream",
     "text": [
      "\tsaving model 48600...\n",
      "\tdone\n",
      "Evaluating\n"
     ]
    },
    {
     "name": "stderr",
     "output_type": "stream",
     "text": [
      "\n",
      " 13%|#3        | 9/69 [00:00<00:00, 85.28it/s]\u001b[A\n",
      " 26%|##6       | 18/69 [00:00<00:00, 83.92it/s]\u001b[A\n",
      " 35%|###4      | 24/69 [00:00<00:00, 70.21it/s]\u001b[A\n",
      " 45%|####4     | 31/69 [00:00<00:00, 67.95it/s]\u001b[A\n",
      " 54%|#####3    | 37/69 [00:00<00:00, 62.52it/s]\u001b[A\n",
      " 62%|######2   | 43/69 [00:00<00:00, 59.19it/s]\u001b[A\n",
      " 72%|#######2  | 50/69 [00:00<00:00, 60.95it/s]\u001b[A\n",
      " 83%|########2 | 57/69 [00:00<00:00, 62.85it/s]\u001b[A\n",
      " 93%|#########2| 64/69 [00:01<00:00, 61.63it/s]\u001b[A\n",
      " 36%|███▋      | 289/792 [00:12<01:26,  5.80it/s]A"
     ]
    },
    {
     "name": "stdout",
     "output_type": "stream",
     "text": [
      "{'ade': 0.45965567, 'fde': 0.98725706}\n",
      "\t last loss:0.000281647, eval on validation:['ade: 0.45965567', 'fde: 0.98725706'], (best ade:0.4561901 at step 47400) \n"
     ]
    },
    {
     "name": "stderr",
     "output_type": "stream",
     "text": [
      " 74%|███████▍  | 585/792 [00:27<00:10, 20.61it/s]"
     ]
    },
    {
     "name": "stdout",
     "output_type": "stream",
     "text": [
      "\tsaving model 48900...\n"
     ]
    },
    {
     "name": "stderr",
     "output_type": "stream",
     "text": [
      "\n",
      "  0%|          | 0/69 [00:00<?, ?it/s]\u001b[A\n",
      "  9%|8         | 6/69 [00:00<00:01, 57.39it/s]\u001b[A"
     ]
    },
    {
     "name": "stdout",
     "output_type": "stream",
     "text": [
      "\tdone\n",
      "Evaluating\n"
     ]
    },
    {
     "name": "stderr",
     "output_type": "stream",
     "text": [
      "\n",
      " 16%|#5        | 11/69 [00:00<00:01, 52.26it/s]\u001b[A\n",
      " 22%|##1       | 15/69 [00:00<00:01, 45.40it/s]\u001b[A\n",
      " 30%|###       | 21/69 [00:00<00:00, 48.22it/s]\u001b[A\n",
      " 41%|####      | 28/69 [00:00<00:00, 52.37it/s]\u001b[A\n",
      " 49%|####9     | 34/69 [00:00<00:00, 52.69it/s]\u001b[A\n",
      " 59%|#####9    | 41/69 [00:00<00:00, 55.62it/s]\u001b[A\n",
      " 70%|######9   | 48/69 [00:00<00:00, 57.37it/s]\u001b[A\n",
      " 80%|#######9  | 55/69 [00:00<00:00, 59.41it/s]\u001b[A\n",
      " 90%|########9 | 62/69 [00:01<00:00, 60.72it/s]\u001b[A\n",
      " 75%|███████▍  | 591/792 [00:29<00:30,  6.57it/s]A"
     ]
    },
    {
     "name": "stdout",
     "output_type": "stream",
     "text": [
      "{'ade': 0.4569367, 'fde': 0.9789231}\n",
      "\t last loss:0.000211201, eval on validation:['ade: 0.4569367', 'fde: 0.9789231'], (best ade:0.4561901 at step 47400) \n"
     ]
    },
    {
     "name": "stderr",
     "output_type": "stream",
     "text": [
      "100%|██████████| 792/792 [00:39<00:00, 20.01it/s]\n",
      "  0%|          | 2/792 [00:00<00:56, 13.98it/s]"
     ]
    },
    {
     "name": "stdout",
     "output_type": "stream",
     "text": [
      "('Epoca 63.', 'lr:', 1.2972303e-05)\n"
     ]
    },
    {
     "name": "stderr",
     "output_type": "stream",
     "text": [
      " 12%|█▏        | 95/792 [00:04<00:34, 20.20it/s]"
     ]
    },
    {
     "name": "stdout",
     "output_type": "stream",
     "text": [
      "\tsaving model 49200...\n"
     ]
    },
    {
     "name": "stderr",
     "output_type": "stream",
     "text": [
      "\n",
      "  0%|          | 0/69 [00:00<?, ?it/s]\u001b[A\n",
      " 10%|#         | 7/69 [00:00<00:00, 66.13it/s]\u001b[A"
     ]
    },
    {
     "name": "stdout",
     "output_type": "stream",
     "text": [
      "\tdone\n",
      "Evaluating\n"
     ]
    },
    {
     "name": "stderr",
     "output_type": "stream",
     "text": [
      "\n",
      " 17%|#7        | 12/69 [00:00<00:01, 55.74it/s]\u001b[A\n",
      " 25%|##4       | 17/69 [00:00<00:01, 50.53it/s]\u001b[A\n",
      " 32%|###1      | 22/69 [00:00<00:00, 48.69it/s]\u001b[A\n",
      " 42%|####2     | 29/69 [00:00<00:00, 52.22it/s]\u001b[A\n",
      " 49%|####9     | 34/69 [00:00<00:00, 51.23it/s]\u001b[A\n",
      " 59%|#####9    | 41/69 [00:00<00:00, 54.58it/s]\u001b[A\n",
      " 70%|######9   | 48/69 [00:00<00:00, 57.38it/s]\u001b[A\n",
      " 80%|#######9  | 55/69 [00:00<00:00, 59.56it/s]\u001b[A\n",
      " 90%|########9 | 62/69 [00:01<00:00, 60.52it/s]\u001b[A\n",
      " 99%|#########8| 68/69 [00:01<00:00, 60.09it/s]\u001b[A\n",
      " 12%|█▏        | 98/792 [00:06<02:20,  4.93it/s][A"
     ]
    },
    {
     "name": "stdout",
     "output_type": "stream",
     "text": [
      "{'ade': 0.45964563, 'fde': 0.9862983}\n",
      "\t last loss:0.000245212, eval on validation:['ade: 0.45964563', 'fde: 0.9862983'], (best ade:0.4561901 at step 47400) \n"
     ]
    },
    {
     "name": "stderr",
     "output_type": "stream",
     "text": [
      " 50%|████▉     | 394/792 [00:18<00:15, 25.74it/s]\n",
      "  0%|          | 0/69 [00:00<?, ?it/s]\u001b[A"
     ]
    },
    {
     "name": "stdout",
     "output_type": "stream",
     "text": [
      "\tsaving model 49500...\n",
      "\tdone\n",
      "Evaluating\n"
     ]
    },
    {
     "name": "stderr",
     "output_type": "stream",
     "text": [
      "\n",
      " 14%|#4        | 10/69 [00:00<00:00, 91.58it/s]\u001b[A\n",
      " 23%|##3       | 16/69 [00:00<00:00, 76.93it/s]\u001b[A\n",
      " 33%|###3      | 23/69 [00:00<00:00, 72.51it/s]\u001b[A\n",
      " 45%|####4     | 31/69 [00:00<00:00, 73.34it/s]\u001b[A\n",
      " 58%|#####7    | 40/69 [00:00<00:00, 75.84it/s]\u001b[A\n",
      " 70%|######9   | 48/69 [00:00<00:00, 74.83it/s]\u001b[A\n",
      " 83%|########2 | 57/69 [00:00<00:00, 78.73it/s]\u001b[A\n",
      " 96%|#########5| 66/69 [00:00<00:00, 81.75it/s]\u001b[A\n",
      " 51%|█████     | 400/792 [00:19<00:45,  8.64it/s]A"
     ]
    },
    {
     "name": "stdout",
     "output_type": "stream",
     "text": [
      "{'ade': 0.4600394, 'fde': 0.9878881}\n",
      "\t last loss:0.000323540, eval on validation:['ade: 0.4600394', 'fde: 0.9878881'], (best ade:0.4561901 at step 47400) \n"
     ]
    },
    {
     "name": "stderr",
     "output_type": "stream",
     "text": [
      " 88%|████████▊ | 693/792 [00:31<00:04, 24.52it/s]\n",
      "  0%|          | 0/69 [00:00<?, ?it/s]"
     ]
    },
    {
     "name": "stdout",
     "output_type": "stream",
     "text": [
      "\tsaving model 49800...\n",
      "\tdone\n",
      "Evaluating\n"
     ]
    },
    {
     "name": "stderr",
     "output_type": "stream",
     "text": [
      "\u001b[A\n",
      " 13%|#3        | 9/69 [00:00<00:00, 82.63it/s]\u001b[A\n",
      " 23%|##3       | 16/69 [00:00<00:00, 75.79it/s]\u001b[A\n",
      " 35%|###4      | 24/69 [00:00<00:00, 75.86it/s]\u001b[A\n",
      " 46%|####6     | 32/69 [00:00<00:00, 75.59it/s]\u001b[A\n",
      " 59%|#####9    | 41/69 [00:00<00:00, 77.44it/s]\u001b[A\n",
      " 71%|#######1  | 49/69 [00:00<00:00, 77.00it/s]\u001b[A\n",
      " 83%|########2 | 57/69 [00:00<00:00, 77.68it/s]\u001b[A\n",
      " 94%|#########4| 65/69 [00:00<00:00, 74.18it/s]\u001b[A\n",
      " 88%|████████▊ | 698/792 [00:33<00:11,  7.96it/s]A"
     ]
    },
    {
     "name": "stdout",
     "output_type": "stream",
     "text": [
      "{'ade': 0.45900014, 'fde': 0.9845596}\n",
      "\t last loss:0.000349122, eval on validation:['ade: 0.45900014', 'fde: 0.9845596'], (best ade:0.4561901 at step 47400) \n"
     ]
    },
    {
     "name": "stderr",
     "output_type": "stream",
     "text": [
      "100%|██████████| 792/792 [00:37<00:00, 22.36it/s]\n",
      "  0%|          | 2/792 [00:00<00:53, 14.64it/s]"
     ]
    },
    {
     "name": "stdout",
     "output_type": "stream",
     "text": [
      "('Epoca 64.', 'lr:', 1.2972303e-05)\n"
     ]
    },
    {
     "name": "stderr",
     "output_type": "stream",
     "text": [
      " 26%|██▌       | 203/792 [00:08<00:23, 25.33it/s]\n",
      "  0%|          | 0/69 [00:00<?, ?it/s]\u001b[A"
     ]
    },
    {
     "name": "stdout",
     "output_type": "stream",
     "text": [
      "\tsaving model 50100...\n",
      "\tdone\n",
      "Evaluating\n"
     ]
    },
    {
     "name": "stderr",
     "output_type": "stream",
     "text": [
      "\n",
      " 14%|#4        | 10/69 [00:00<00:00, 91.86it/s]\u001b[A\n",
      " 25%|##4       | 17/69 [00:00<00:00, 81.82it/s]\u001b[A\n",
      " 35%|###4      | 24/69 [00:00<00:00, 76.33it/s]\u001b[A\n",
      " 45%|####4     | 31/69 [00:00<00:00, 73.36it/s]\u001b[A\n",
      " 58%|#####7    | 40/69 [00:00<00:00, 75.33it/s]\u001b[A\n",
      " 71%|#######1  | 49/69 [00:00<00:00, 78.02it/s]\u001b[A\n",
      " 86%|########5 | 59/69 [00:00<00:00, 81.60it/s]\u001b[A\n",
      " 99%|#########8| 68/69 [00:00<00:00, 82.40it/s]\u001b[A\n",
      " 26%|██▌       | 206/792 [00:09<01:26,  6.79it/s]A"
     ]
    },
    {
     "name": "stdout",
     "output_type": "stream",
     "text": [
      "{'ade': 0.4608989, 'fde': 0.9910108}\n",
      "\t last loss:0.000278950, eval on validation:['ade: 0.4608989', 'fde: 0.9910108'], (best ade:0.4561901 at step 47400) \n"
     ]
    },
    {
     "name": "stderr",
     "output_type": "stream",
     "text": [
      " 64%|██████▎   | 503/792 [00:22<00:14, 20.42it/s]"
     ]
    },
    {
     "name": "stdout",
     "output_type": "stream",
     "text": [
      "\tsaving model 50400...\n"
     ]
    },
    {
     "name": "stderr",
     "output_type": "stream",
     "text": [
      "\n",
      "  0%|          | 0/69 [00:00<?, ?it/s]\u001b[A\n",
      " 12%|#1        | 8/69 [00:00<00:00, 72.36it/s]\u001b[A"
     ]
    },
    {
     "name": "stdout",
     "output_type": "stream",
     "text": [
      "\tdone\n",
      "Evaluating\n"
     ]
    },
    {
     "name": "stderr",
     "output_type": "stream",
     "text": [
      "\n",
      " 19%|#8        | 13/69 [00:00<00:00, 63.60it/s]\u001b[A\n",
      " 26%|##6       | 18/69 [00:00<00:00, 57.43it/s]\u001b[A\n",
      " 33%|###3      | 23/69 [00:00<00:00, 54.70it/s]\u001b[A\n",
      " 43%|####3     | 30/69 [00:00<00:00, 56.90it/s]\u001b[A\n",
      " 52%|#####2    | 36/69 [00:00<00:00, 57.61it/s]\u001b[A\n",
      " 64%|######3   | 44/69 [00:00<00:00, 61.60it/s]\u001b[A\n",
      " 75%|#######5  | 52/69 [00:00<00:00, 64.93it/s]\u001b[A\n",
      " 87%|########6 | 60/69 [00:00<00:00, 67.54it/s]\u001b[A\n",
      " 99%|#########8| 68/69 [00:01<00:00, 69.33it/s]\u001b[A\n",
      " 64%|██████▍   | 506/792 [00:24<00:52,  5.49it/s]A"
     ]
    },
    {
     "name": "stdout",
     "output_type": "stream",
     "text": [
      "{'ade': 0.45812228, 'fde': 0.98315316}\n",
      "\t last loss:0.000344238, eval on validation:['ade: 0.45812228', 'fde: 0.98315316'], (best ade:0.4561901 at step 47400) \n"
     ]
    },
    {
     "name": "stderr",
     "output_type": "stream",
     "text": [
      "100%|██████████| 792/792 [00:36<00:00, 21.42it/s]\n",
      "  0%|          | 2/792 [00:00<00:51, 15.28it/s]"
     ]
    },
    {
     "name": "stdout",
     "output_type": "stream",
     "text": [
      "('Epoca 65.', 'lr:', 1.1026457e-05)\n"
     ]
    },
    {
     "name": "stderr",
     "output_type": "stream",
     "text": [
      "  1%|▏         | 11/792 [00:00<00:38, 20.23it/s]"
     ]
    },
    {
     "name": "stdout",
     "output_type": "stream",
     "text": [
      "\tsaving model 50700...\n"
     ]
    },
    {
     "name": "stderr",
     "output_type": "stream",
     "text": [
      "\n",
      "  0%|          | 0/69 [00:00<?, ?it/s]\u001b[A\n",
      " 13%|#3        | 9/69 [00:00<00:00, 81.98it/s]\u001b[A"
     ]
    },
    {
     "name": "stdout",
     "output_type": "stream",
     "text": [
      "\tdone\n",
      "Evaluating\n"
     ]
    },
    {
     "name": "stderr",
     "output_type": "stream",
     "text": [
      "\n",
      " 23%|##3       | 16/69 [00:00<00:00, 77.46it/s]\u001b[A\n",
      " 32%|###1      | 22/69 [00:00<00:00, 70.31it/s]\u001b[A\n",
      " 41%|####      | 28/69 [00:00<00:00, 66.58it/s]\u001b[A\n",
      " 52%|#####2    | 36/69 [00:00<00:00, 68.40it/s]\u001b[A\n",
      " 62%|######2   | 43/69 [00:00<00:00, 66.68it/s]\u001b[A\n",
      " 75%|#######5  | 52/69 [00:00<00:00, 70.68it/s]\u001b[A\n",
      " 88%|########8 | 61/69 [00:00<00:00, 73.61it/s]\u001b[A\n",
      "  2%|▏         | 13/792 [00:01<02:55,  4.45it/s][A"
     ]
    },
    {
     "name": "stdout",
     "output_type": "stream",
     "text": [
      "{'ade': 0.4594685, 'fde': 0.98566246}\n",
      "\t last loss:0.000453207, eval on validation:['ade: 0.4594685', 'fde: 0.98566246'], (best ade:0.4561901 at step 47400) \n"
     ]
    },
    {
     "name": "stderr",
     "output_type": "stream",
     "text": [
      " 39%|███▉      | 310/792 [00:15<00:20, 23.82it/s]\n",
      "  0%|          | 0/69 [00:00<?, ?it/s]\u001b[A"
     ]
    },
    {
     "name": "stdout",
     "output_type": "stream",
     "text": [
      "\tsaving model 51000...\n",
      "\tdone\n",
      "Evaluating\n"
     ]
    },
    {
     "name": "stderr",
     "output_type": "stream",
     "text": [
      "\n",
      " 12%|#1        | 8/69 [00:00<00:00, 78.98it/s]\u001b[A\n",
      " 22%|##1       | 15/69 [00:00<00:00, 74.62it/s]\u001b[A\n",
      " 30%|###       | 21/69 [00:00<00:00, 68.79it/s]\u001b[A\n",
      " 39%|###9      | 27/69 [00:00<00:00, 62.66it/s]\u001b[A\n",
      " 51%|#####     | 35/69 [00:00<00:00, 66.67it/s]\u001b[A\n",
      " 61%|######    | 42/69 [00:00<00:00, 66.03it/s]\u001b[A\n",
      " 74%|#######3  | 51/69 [00:00<00:00, 70.45it/s]\u001b[A\n",
      " 87%|########6 | 60/69 [00:00<00:00, 73.25it/s]\u001b[A\n",
      " 40%|███▉      | 313/792 [00:16<01:16,  6.28it/s]A"
     ]
    },
    {
     "name": "stdout",
     "output_type": "stream",
     "text": [
      "{'ade': 0.4607495, 'fde': 0.9894398}\n",
      "\t last loss:0.000361081, eval on validation:['ade: 0.4607495', 'fde: 0.9894398'], (best ade:0.4561901 at step 47400) \n"
     ]
    },
    {
     "name": "stderr",
     "output_type": "stream",
     "text": [
      " 77%|███████▋  | 610/792 [00:28<00:07, 24.61it/s]\n",
      "  0%|          | 0/69 [00:00<?, ?it/s]\u001b[A"
     ]
    },
    {
     "name": "stdout",
     "output_type": "stream",
     "text": [
      "\tsaving model 51300...\n",
      "\tdone\n",
      "Evaluating\n"
     ]
    },
    {
     "name": "stderr",
     "output_type": "stream",
     "text": [
      "\n",
      " 13%|#3        | 9/69 [00:00<00:00, 83.10it/s]\u001b[A\n",
      " 22%|##1       | 15/69 [00:00<00:00, 72.01it/s]\u001b[A\n",
      " 32%|###1      | 22/69 [00:00<00:00, 68.87it/s]\u001b[A\n",
      " 43%|####3     | 30/69 [00:00<00:00, 70.00it/s]\u001b[A\n",
      " 54%|#####3    | 37/69 [00:00<00:00, 68.86it/s]\u001b[A\n",
      " 65%|######5   | 45/69 [00:00<00:00, 71.28it/s]\u001b[A\n",
      " 78%|#######8  | 54/69 [00:00<00:00, 74.54it/s]\u001b[A\n",
      " 91%|#########1| 63/69 [00:00<00:00, 77.03it/s]\u001b[A\n",
      " 77%|███████▋  | 613/792 [00:29<00:28,  6.35it/s]A"
     ]
    },
    {
     "name": "stdout",
     "output_type": "stream",
     "text": [
      "{'ade': 0.45830467, 'fde': 0.9835591}\n",
      "\t last loss:0.000451494, eval on validation:['ade: 0.45830467', 'fde: 0.9835591'], (best ade:0.4561901 at step 47400) \n"
     ]
    },
    {
     "name": "stderr",
     "output_type": "stream",
     "text": [
      "100%|██████████| 792/792 [00:41<00:00, 19.24it/s]\n",
      "  0%|          | 1/792 [00:00<01:25,  9.23it/s]"
     ]
    },
    {
     "name": "stdout",
     "output_type": "stream",
     "text": [
      "('Epoca 66.', 'lr:', 1.1026457e-05)\n"
     ]
    },
    {
     "name": "stderr",
     "output_type": "stream",
     "text": [
      " 15%|█▍        | 118/792 [00:04<00:26, 25.31it/s]"
     ]
    },
    {
     "name": "stdout",
     "output_type": "stream",
     "text": [
      "\tsaving model 51600...\n",
      "\tdone\n"
     ]
    },
    {
     "name": "stderr",
     "output_type": "stream",
     "text": [
      "\n",
      "  0%|          | 0/69 [00:00<?, ?it/s]\u001b[A\n",
      " 13%|#3        | 9/69 [00:00<00:00, 83.65it/s]\u001b[A"
     ]
    },
    {
     "name": "stdout",
     "output_type": "stream",
     "text": [
      "Evaluating\n"
     ]
    },
    {
     "name": "stderr",
     "output_type": "stream",
     "text": [
      "\n",
      " 22%|##1       | 15/69 [00:00<00:00, 70.59it/s]\u001b[A\n",
      " 30%|###       | 21/69 [00:00<00:00, 66.84it/s]\u001b[A\n",
      " 39%|###9      | 27/69 [00:00<00:00, 63.80it/s]\u001b[A\n",
      " 49%|####9     | 34/69 [00:00<00:00, 64.51it/s]\u001b[A\n",
      " 62%|######2   | 43/69 [00:00<00:00, 69.27it/s]\u001b[A\n",
      " 74%|#######3  | 51/69 [00:00<00:00, 70.90it/s]\u001b[A\n",
      " 87%|########6 | 60/69 [00:00<00:00, 74.44it/s]\u001b[A\n",
      " 15%|█▌        | 121/792 [00:06<01:46,  6.29it/s]A"
     ]
    },
    {
     "name": "stdout",
     "output_type": "stream",
     "text": [
      "{'ade': 0.46054333, 'fde': 0.98726046}\n",
      "\t last loss:0.000432275, eval on validation:['ade: 0.46054333', 'fde: 0.98726046'], (best ade:0.4561901 at step 47400) \n"
     ]
    },
    {
     "name": "stderr",
     "output_type": "stream",
     "text": [
      " 53%|█████▎    | 418/792 [00:19<00:16, 23.07it/s]"
     ]
    },
    {
     "name": "stdout",
     "output_type": "stream",
     "text": [
      "\tsaving model 51900...\n"
     ]
    },
    {
     "name": "stderr",
     "output_type": "stream",
     "text": [
      "\n",
      "  0%|          | 0/69 [00:00<?, ?it/s]\u001b[A\n",
      " 12%|#1        | 8/69 [00:00<00:00, 74.59it/s]\u001b[A\n",
      " 22%|##1       | 15/69 [00:00<00:00, 72.17it/s]\u001b[A\n",
      " 29%|##8       | 20/69 [00:00<00:00, 62.76it/s]\u001b[A\n",
      " 38%|###7      | 26/69 [00:00<00:00, 58.50it/s]\u001b[A\n",
      " 48%|####7     | 33/69 [00:00<00:00, 61.51it/s]\u001b[A\n",
      " 57%|#####6    | 39/69 [00:00<00:00, 60.55it/s]\u001b[A\n",
      " 68%|######8   | 47/69 [00:00<00:00, 63.66it/s]\u001b[A\n",
      " 80%|#######9  | 55/69 [00:00<00:00, 66.79it/s]\u001b[A\n",
      " 90%|########9 | 62/69 [00:00<00:00, 67.08it/s]\u001b[A\n",
      " 53%|█████▎    | 421/792 [00:20<01:03,  5.82it/s]A"
     ]
    },
    {
     "name": "stdout",
     "output_type": "stream",
     "text": [
      "\tdone\n",
      "Evaluating\n",
      "{'ade': 0.45944628, 'fde': 0.9864366}\n",
      "\t last loss:0.000169080, eval on validation:['ade: 0.45944628', 'fde: 0.9864366'], (best ade:0.4561901 at step 47400) \n"
     ]
    },
    {
     "name": "stderr",
     "output_type": "stream",
     "text": [
      " 91%|█████████ | 718/792 [00:32<00:02, 24.95it/s]\n",
      "  0%|          | 0/69 [00:00<?, ?it/s]"
     ]
    },
    {
     "name": "stdout",
     "output_type": "stream",
     "text": [
      "\tsaving model 52200...\n",
      "\tdone\n",
      "Evaluating\n"
     ]
    },
    {
     "name": "stderr",
     "output_type": "stream",
     "text": [
      "\u001b[A\n",
      " 13%|#3        | 9/69 [00:00<00:00, 82.68it/s]\u001b[A\n",
      " 22%|##1       | 15/69 [00:00<00:00, 72.72it/s]\u001b[A\n",
      " 30%|###       | 21/69 [00:00<00:00, 66.62it/s]\u001b[A\n",
      " 41%|####      | 28/69 [00:00<00:00, 67.47it/s]\u001b[A\n",
      " 51%|#####     | 35/69 [00:00<00:00, 66.97it/s]\u001b[A\n",
      " 62%|######2   | 43/69 [00:00<00:00, 69.22it/s]\u001b[A\n",
      " 75%|#######5  | 52/69 [00:00<00:00, 72.99it/s]\u001b[A\n",
      " 88%|########8 | 61/69 [00:00<00:00, 75.72it/s]\u001b[A\n",
      " 91%|█████████▏| 724/792 [00:34<00:08,  8.20it/s]A"
     ]
    },
    {
     "name": "stdout",
     "output_type": "stream",
     "text": [
      "{'ade': 0.45662677, 'fde': 0.9784509}\n",
      "\t last loss:0.000307871, eval on validation:['ade: 0.45662677', 'fde: 0.9784509'], (best ade:0.4561901 at step 47400) \n"
     ]
    },
    {
     "name": "stderr",
     "output_type": "stream",
     "text": [
      "100%|██████████| 792/792 [00:37<00:00, 21.40it/s]\n",
      "  0%|          | 1/792 [00:00<01:41,  7.76it/s]"
     ]
    },
    {
     "name": "stdout",
     "output_type": "stream",
     "text": [
      "('Epoca 67.', 'lr:', 9.37249e-06)\n"
     ]
    },
    {
     "name": "stderr",
     "output_type": "stream",
     "text": [
      " 29%|██▊       | 226/792 [00:09<00:23, 24.60it/s]\n",
      "  0%|          | 0/69 [00:00<?, ?it/s]\u001b[A"
     ]
    },
    {
     "name": "stdout",
     "output_type": "stream",
     "text": [
      "\tsaving model 52500...\n",
      "\tdone\n",
      "Evaluating\n"
     ]
    },
    {
     "name": "stderr",
     "output_type": "stream",
     "text": [
      "\n",
      " 13%|#3        | 9/69 [00:00<00:00, 83.07it/s]\u001b[A\n",
      " 22%|##1       | 15/69 [00:00<00:00, 70.89it/s]\u001b[A\n",
      " 32%|###1      | 22/69 [00:00<00:00, 68.21it/s]\u001b[A\n",
      " 42%|####2     | 29/69 [00:00<00:00, 67.32it/s]\u001b[A\n",
      " 52%|#####2    | 36/69 [00:00<00:00, 65.76it/s]\u001b[A\n",
      " 65%|######5   | 45/69 [00:00<00:00, 70.19it/s]\u001b[A\n",
      " 78%|#######8  | 54/69 [00:00<00:00, 74.23it/s]\u001b[A\n",
      " 91%|#########1| 63/69 [00:00<00:00, 76.91it/s]\u001b[A\n",
      " 29%|██▉       | 229/792 [00:10<01:28,  6.38it/s]A"
     ]
    },
    {
     "name": "stdout",
     "output_type": "stream",
     "text": [
      "{'ade': 0.45766822, 'fde': 0.98127264}\n",
      "\t last loss:0.000209632, eval on validation:['ade: 0.45766822', 'fde: 0.98127264'], (best ade:0.4561901 at step 47400) \n"
     ]
    },
    {
     "name": "stderr",
     "output_type": "stream",
     "text": [
      " 66%|██████▋   | 526/792 [00:24<00:10, 25.56it/s]\n",
      "  0%|          | 0/69 [00:00<?, ?it/s]\u001b[A"
     ]
    },
    {
     "name": "stdout",
     "output_type": "stream",
     "text": [
      "\tsaving model 52800...\n",
      "\tdone\n",
      "Evaluating\n"
     ]
    },
    {
     "name": "stderr",
     "output_type": "stream",
     "text": [
      "\n",
      " 13%|#3        | 9/69 [00:00<00:00, 82.85it/s]\u001b[A\n",
      " 23%|##3       | 16/69 [00:00<00:00, 77.89it/s]\u001b[A\n",
      " 33%|###3      | 23/69 [00:00<00:00, 72.85it/s]\u001b[A\n",
      " 42%|####2     | 29/69 [00:00<00:00, 68.43it/s]\u001b[A\n",
      " 55%|#####5    | 38/69 [00:00<00:00, 73.23it/s]\u001b[A\n",
      " 68%|######8   | 47/69 [00:00<00:00, 75.87it/s]\u001b[A\n",
      " 83%|########2 | 57/69 [00:00<00:00, 79.69it/s]\u001b[A\n",
      " 97%|#########7| 67/69 [00:00<00:00, 83.33it/s]\u001b[A\n",
      " 67%|██████▋   | 532/792 [00:25<00:29,  8.73it/s]A"
     ]
    },
    {
     "name": "stdout",
     "output_type": "stream",
     "text": [
      "{'ade': 0.4582462, 'fde': 0.98287064}\n",
      "\t last loss:0.000271125, eval on validation:['ade: 0.4582462', 'fde: 0.98287064'], (best ade:0.4561901 at step 47400) \n"
     ]
    },
    {
     "name": "stderr",
     "output_type": "stream",
     "text": [
      "100%|██████████| 792/792 [00:37<00:00, 21.33it/s]\n",
      "  0%|          | 1/792 [00:00<01:33,  8.45it/s]"
     ]
    },
    {
     "name": "stdout",
     "output_type": "stream",
     "text": [
      "('Epoca 68.', 'lr:', 9.37249e-06)\n"
     ]
    },
    {
     "name": "stderr",
     "output_type": "stream",
     "text": [
      "  4%|▍         | 33/792 [00:01<00:39, 19.31it/s]"
     ]
    },
    {
     "name": "stdout",
     "output_type": "stream",
     "text": [
      "\tsaving model 53100...\n"
     ]
    },
    {
     "name": "stderr",
     "output_type": "stream",
     "text": [
      "\n",
      "  0%|          | 0/69 [00:00<?, ?it/s]\u001b[A\n",
      " 10%|#         | 7/69 [00:00<00:00, 62.64it/s]\u001b[A"
     ]
    },
    {
     "name": "stdout",
     "output_type": "stream",
     "text": [
      "\tdone\n",
      "Evaluating\n"
     ]
    },
    {
     "name": "stderr",
     "output_type": "stream",
     "text": [
      "\n",
      " 17%|#7        | 12/69 [00:00<00:01, 54.01it/s]\u001b[A\n",
      " 25%|##4       | 17/69 [00:00<00:01, 50.12it/s]\u001b[A\n",
      " 32%|###1      | 22/69 [00:00<00:00, 49.19it/s]\u001b[A\n",
      " 42%|####2     | 29/69 [00:00<00:00, 53.03it/s]\u001b[A\n",
      " 49%|####9     | 34/69 [00:00<00:00, 51.09it/s]\u001b[A\n",
      " 59%|#####9    | 41/69 [00:00<00:00, 54.83it/s]\u001b[A\n",
      " 70%|######9   | 48/69 [00:00<00:00, 57.78it/s]\u001b[A\n",
      " 80%|#######9  | 55/69 [00:00<00:00, 60.92it/s]\u001b[A\n",
      " 91%|#########1| 63/69 [00:01<00:00, 64.42it/s]\u001b[A\n",
      "  5%|▍         | 39/792 [00:03<01:52,  6.71it/s][A"
     ]
    },
    {
     "name": "stdout",
     "output_type": "stream",
     "text": [
      "{'ade': 0.45835295, 'fde': 0.9841422}\n",
      "\t last loss:0.000319350, eval on validation:['ade: 0.45835295', 'fde: 0.9841422'], (best ade:0.4561901 at step 47400) \n"
     ]
    },
    {
     "name": "stderr",
     "output_type": "stream",
     "text": [
      " 42%|████▏     | 333/792 [00:15<00:18, 24.78it/s]\n"
     ]
    },
    {
     "name": "stdout",
     "output_type": "stream",
     "text": [
      "\tsaving model 53400...\n",
      "\tdone\n",
      "Evaluating\n"
     ]
    },
    {
     "name": "stderr",
     "output_type": "stream",
     "text": [
      "  0%|          | 0/69 [00:00<?, ?it/s]\u001b[A\n",
      " 13%|#3        | 9/69 [00:00<00:00, 86.89it/s]\u001b[A\n",
      " 23%|##3       | 16/69 [00:00<00:00, 79.06it/s]\u001b[A\n",
      " 32%|###1      | 22/69 [00:00<00:00, 71.94it/s]\u001b[A\n",
      " 41%|####      | 28/69 [00:00<00:00, 66.49it/s]\u001b[A\n",
      " 54%|#####3    | 37/69 [00:00<00:00, 71.07it/s]\u001b[A\n",
      " 64%|######3   | 44/69 [00:00<00:00, 69.25it/s]\u001b[A\n",
      " 74%|#######3  | 51/69 [00:00<00:00, 67.82it/s]\u001b[A\n",
      " 87%|########6 | 60/69 [00:00<00:00, 72.07it/s]\u001b[A\n",
      " 99%|#########8| 68/69 [00:00<00:00, 73.58it/s]\u001b[A\n",
      " 43%|████▎     | 339/792 [00:16<00:55,  8.10it/s]A"
     ]
    },
    {
     "name": "stdout",
     "output_type": "stream",
     "text": [
      "{'ade': 0.45769575, 'fde': 0.98162246}\n",
      "\t last loss:0.000218663, eval on validation:['ade: 0.45769575', 'fde: 0.98162246'], (best ade:0.4561901 at step 47400) \n"
     ]
    },
    {
     "name": "stderr",
     "output_type": "stream",
     "text": [
      " 80%|███████▉  | 633/792 [00:29<00:07, 21.61it/s]"
     ]
    },
    {
     "name": "stdout",
     "output_type": "stream",
     "text": [
      "\tsaving model 53700...\n"
     ]
    },
    {
     "name": "stderr",
     "output_type": "stream",
     "text": [
      "\n",
      "  0%|          | 0/69 [00:00<?, ?it/s]\u001b[A\n",
      " 12%|#1        | 8/69 [00:00<00:00, 75.56it/s]\u001b[A\n",
      " 20%|##        | 14/69 [00:00<00:00, 66.14it/s]\u001b[A\n",
      " 28%|##7       | 19/69 [00:00<00:00, 59.28it/s]\u001b[A\n",
      " 36%|###6      | 25/69 [00:00<00:00, 58.07it/s]\u001b[A\n",
      " 45%|####4     | 31/69 [00:00<00:00, 58.41it/s]\u001b[A\n",
      " 57%|#####6    | 39/69 [00:00<00:00, 61.72it/s]\u001b[A\n",
      " 68%|######8   | 47/69 [00:00<00:00, 65.58it/s]\u001b[A\n",
      " 80%|#######9  | 55/69 [00:00<00:00, 68.37it/s]\u001b[A\n",
      " 91%|#########1| 63/69 [00:00<00:00, 71.13it/s]\u001b[A\n",
      " 81%|████████  | 639/792 [00:31<00:20,  7.52it/s]A"
     ]
    },
    {
     "name": "stdout",
     "output_type": "stream",
     "text": [
      "\tdone\n",
      "Evaluating\n",
      "{'ade': 0.45783907, 'fde': 0.9820194}\n",
      "\t last loss:0.000363408, eval on validation:['ade: 0.45783907', 'fde: 0.9820194'], (best ade:0.4561901 at step 47400) \n"
     ]
    },
    {
     "name": "stderr",
     "output_type": "stream",
     "text": [
      "100%|██████████| 792/792 [00:37<00:00, 26.04it/s]\n",
      "  0%|          | 3/792 [00:00<00:31, 24.84it/s]"
     ]
    },
    {
     "name": "stdout",
     "output_type": "stream",
     "text": [
      "('Epoca 69.', 'lr:', 7.966617e-06)\n"
     ]
    },
    {
     "name": "stderr",
     "output_type": "stream",
     "text": [
      " 18%|█▊        | 141/792 [00:05<00:26, 24.90it/s]\n"
     ]
    },
    {
     "name": "stdout",
     "output_type": "stream",
     "text": [
      "\tsaving model 54000...\n",
      "\tdone\n",
      "Evaluating\n"
     ]
    },
    {
     "name": "stderr",
     "output_type": "stream",
     "text": [
      "  0%|          | 0/69 [00:00<?, ?it/s]\u001b[A\n",
      " 13%|#3        | 9/69 [00:00<00:00, 85.43it/s]\u001b[A\n",
      " 23%|##3       | 16/69 [00:00<00:00, 76.53it/s]\u001b[A\n",
      " 33%|###3      | 23/69 [00:00<00:00, 72.68it/s]\u001b[A\n",
      " 42%|####2     | 29/69 [00:00<00:00, 67.88it/s]\u001b[A\n",
      " 55%|#####5    | 38/69 [00:00<00:00, 71.93it/s]\u001b[A\n",
      " 65%|######5   | 45/69 [00:00<00:00, 71.11it/s]\u001b[A\n",
      " 78%|#######8  | 54/69 [00:00<00:00, 74.61it/s]\u001b[A\n",
      " 91%|#########1| 63/69 [00:00<00:00, 77.06it/s]\u001b[A\n",
      " 19%|█▊        | 147/792 [00:07<01:17,  8.28it/s]A"
     ]
    },
    {
     "name": "stdout",
     "output_type": "stream",
     "text": [
      "{'ade': 0.4589676, 'fde': 0.9846986}\n",
      "\t last loss:0.000464586, eval on validation:['ade: 0.4589676', 'fde: 0.9846986'], (best ade:0.4561901 at step 47400) \n"
     ]
    },
    {
     "name": "stderr",
     "output_type": "stream",
     "text": [
      " 56%|█████▌    | 441/792 [00:18<00:14, 24.69it/s]"
     ]
    },
    {
     "name": "stdout",
     "output_type": "stream",
     "text": [
      "\tsaving model 54300...\n"
     ]
    },
    {
     "name": "stderr",
     "output_type": "stream",
     "text": [
      "\n",
      "  0%|          | 0/69 [00:00<?, ?it/s]\u001b[A\n",
      " 13%|#3        | 9/69 [00:00<00:00, 82.82it/s]\u001b[A\n",
      " 22%|##1       | 15/69 [00:00<00:00, 72.08it/s]\u001b[A\n",
      " 32%|###1      | 22/69 [00:00<00:00, 68.17it/s]\u001b[A\n",
      " 42%|####2     | 29/69 [00:00<00:00, 68.25it/s]\u001b[A\n",
      " 55%|#####5    | 38/69 [00:00<00:00, 72.44it/s]\u001b[A\n",
      " 65%|######5   | 45/69 [00:00<00:00, 71.14it/s]\u001b[A\n",
      " 77%|#######6  | 53/69 [00:00<00:00, 72.77it/s]\u001b[A\n",
      " 90%|########9 | 62/69 [00:00<00:00, 75.33it/s]\u001b[A\n",
      " 56%|█████▋    | 447/792 [00:20<00:42,  8.18it/s]A"
     ]
    },
    {
     "name": "stdout",
     "output_type": "stream",
     "text": [
      "\tdone\n",
      "Evaluating\n",
      "{'ade': 0.458133, 'fde': 0.98262185}\n",
      "\t last loss:0.000957943, eval on validation:['ade: 0.458133', 'fde: 0.98262185'], (best ade:0.4561901 at step 47400) \n"
     ]
    },
    {
     "name": "stderr",
     "output_type": "stream",
     "text": [
      " 94%|█████████▎| 742/792 [00:33<00:02, 24.79it/s]\n",
      "  0%|          | 0/69 [00:00<?, ?it/s]\u001b[A"
     ]
    },
    {
     "name": "stdout",
     "output_type": "stream",
     "text": [
      "\tsaving model 54600...\n",
      "\tdone\n",
      "Evaluating\n"
     ]
    },
    {
     "name": "stderr",
     "output_type": "stream",
     "text": [
      "\n",
      " 13%|#3        | 9/69 [00:00<00:00, 86.47it/s]\u001b[A\n",
      " 25%|##4       | 17/69 [00:00<00:00, 81.76it/s]\u001b[A\n",
      " 35%|###4      | 24/69 [00:00<00:00, 77.49it/s]\u001b[A\n",
      " 45%|####4     | 31/69 [00:00<00:00, 73.87it/s]\u001b[A\n",
      " 59%|#####9    | 41/69 [00:00<00:00, 78.70it/s]\u001b[A\n",
      " 70%|######9   | 48/69 [00:00<00:00, 75.12it/s]\u001b[A\n",
      " 84%|########4 | 58/69 [00:00<00:00, 79.57it/s]\u001b[A\n",
      " 99%|#########8| 68/69 [00:00<00:00, 83.23it/s]\u001b[A\n",
      " 94%|█████████▍| 748/792 [00:34<00:05,  8.70it/s]A"
     ]
    },
    {
     "name": "stdout",
     "output_type": "stream",
     "text": [
      "{'ade': 0.45817962, 'fde': 0.98334473}\n",
      "\t last loss:0.000283455, eval on validation:['ade: 0.45817962', 'fde: 0.98334473'], (best ade:0.4561901 at step 47400) \n"
     ]
    },
    {
     "name": "stderr",
     "output_type": "stream",
     "text": [
      "100%|██████████| 792/792 [00:36<00:00, 21.79it/s]\n",
      "  0%|          | 3/792 [00:00<00:30, 25.50it/s]"
     ]
    },
    {
     "name": "stdout",
     "output_type": "stream",
     "text": [
      "('Epoca 70.', 'lr:', 7.966617e-06)\n"
     ]
    },
    {
     "name": "stderr",
     "output_type": "stream",
     "text": [
      " 31%|███▏      | 249/792 [00:10<00:25, 21.16it/s]"
     ]
    },
    {
     "name": "stdout",
     "output_type": "stream",
     "text": [
      "\tsaving model 54900...\n"
     ]
    },
    {
     "name": "stderr",
     "output_type": "stream",
     "text": [
      "\n",
      "  0%|          | 0/69 [00:00<?, ?it/s]\u001b[A\n",
      "  9%|8         | 6/69 [00:00<00:01, 59.89it/s]\u001b[A"
     ]
    },
    {
     "name": "stdout",
     "output_type": "stream",
     "text": [
      "\tdone\n",
      "Evaluating\n"
     ]
    },
    {
     "name": "stderr",
     "output_type": "stream",
     "text": [
      "\n",
      " 16%|#5        | 11/69 [00:00<00:01, 54.57it/s]\u001b[A\n",
      " 26%|##6       | 18/69 [00:00<00:00, 56.82it/s]\u001b[A\n",
      " 36%|###6      | 25/69 [00:00<00:00, 58.75it/s]\u001b[A\n",
      " 45%|####4     | 31/69 [00:00<00:00, 56.88it/s]\u001b[A\n",
      " 55%|#####5    | 38/69 [00:00<00:00, 58.91it/s]\u001b[A\n",
      " 65%|######5   | 45/69 [00:00<00:00, 60.26it/s]\u001b[A\n",
      " 75%|#######5  | 52/69 [00:00<00:00, 62.09it/s]\u001b[A\n",
      " 86%|########5 | 59/69 [00:00<00:00, 62.16it/s]\u001b[A\n",
      " 96%|#########5| 66/69 [00:01<00:00, 61.21it/s]\u001b[A\n",
      " 32%|███▏      | 252/792 [00:11<01:42,  5.25it/s]A"
     ]
    },
    {
     "name": "stdout",
     "output_type": "stream",
     "text": [
      "{'ade': 0.45826945, 'fde': 0.9840462}\n",
      "\t last loss:0.000294043, eval on validation:['ade: 0.45826945', 'fde: 0.9840462'], (best ade:0.4561901 at step 47400) \n"
     ]
    },
    {
     "name": "stderr",
     "output_type": "stream",
     "text": [
      " 69%|██████▉   | 549/792 [00:24<00:09, 26.93it/s]\n",
      "  0%|          | 0/69 [00:00<?, ?it/s]\u001b[A"
     ]
    },
    {
     "name": "stdout",
     "output_type": "stream",
     "text": [
      "\tsaving model 55200...\n",
      "\tdone\n",
      "Evaluating\n"
     ]
    },
    {
     "name": "stderr",
     "output_type": "stream",
     "text": [
      "\n",
      " 14%|#4        | 10/69 [00:00<00:00, 89.76it/s]\u001b[A\n",
      " 23%|##3       | 16/69 [00:00<00:00, 75.49it/s]\u001b[A\n",
      " 33%|###3      | 23/69 [00:00<00:00, 72.16it/s]\u001b[A\n",
      " 43%|####3     | 30/69 [00:00<00:00, 71.27it/s]\u001b[A\n",
      " 58%|#####7    | 40/69 [00:00<00:00, 76.66it/s]\u001b[A\n",
      " 72%|#######2  | 50/69 [00:00<00:00, 80.08it/s]\u001b[A\n",
      " 84%|########4 | 58/69 [00:00<00:00, 78.98it/s]\u001b[A\n",
      " 97%|#########7| 67/69 [00:00<00:00, 79.97it/s]\u001b[A\n",
      " 70%|███████   | 555/792 [00:25<00:27,  8.64it/s]A"
     ]
    },
    {
     "name": "stdout",
     "output_type": "stream",
     "text": [
      "{'ade': 0.45780936, 'fde': 0.98215574}\n",
      "\t last loss:0.000428223, eval on validation:['ade: 0.45780936', 'fde: 0.98215574'], (best ade:0.4561901 at step 47400) \n"
     ]
    },
    {
     "name": "stderr",
     "output_type": "stream",
     "text": [
      "100%|██████████| 792/792 [00:36<00:00, 20.96it/s]\n",
      "  0%|          | 1/792 [00:00<01:34,  8.39it/s]"
     ]
    },
    {
     "name": "stdout",
     "output_type": "stream",
     "text": [
      "('Epoca 71.', 'lr:', 6.7716246e-06)\n"
     ]
    },
    {
     "name": "stderr",
     "output_type": "stream",
     "text": [
      "  7%|▋         | 57/792 [00:02<00:32, 22.71it/s]"
     ]
    },
    {
     "name": "stdout",
     "output_type": "stream",
     "text": [
      "\tsaving model 55500...\n"
     ]
    },
    {
     "name": "stderr",
     "output_type": "stream",
     "text": [
      "\n",
      "  0%|          | 0/69 [00:00<?, ?it/s]\u001b[A\n",
      " 12%|#1        | 8/69 [00:00<00:00, 74.72it/s]\u001b[A\n",
      " 20%|##        | 14/69 [00:00<00:00, 66.21it/s]\u001b[A\n",
      " 29%|##8       | 20/69 [00:00<00:00, 62.16it/s]\u001b[A\n",
      " 38%|###7      | 26/69 [00:00<00:00, 59.62it/s]\u001b[A\n",
      " 46%|####6     | 32/69 [00:00<00:00, 58.61it/s]\u001b[A\n",
      " 55%|#####5    | 38/69 [00:00<00:00, 58.79it/s]\u001b[A\n",
      " 65%|######5   | 45/69 [00:00<00:00, 61.52it/s]\u001b[A\n",
      " 77%|#######6  | 53/69 [00:00<00:00, 64.84it/s]\u001b[A\n",
      " 87%|########6 | 60/69 [00:00<00:00, 65.65it/s]\u001b[A\n",
      " 99%|#########8| 68/69 [00:01<00:00, 68.32it/s]\u001b[A\n",
      "  8%|▊         | 63/792 [00:04<01:39,  7.29it/s][A"
     ]
    },
    {
     "name": "stdout",
     "output_type": "stream",
     "text": [
      "\tdone\n",
      "Evaluating\n",
      "{'ade': 0.45852497, 'fde': 0.9842596}\n",
      "\t last loss:0.000351348, eval on validation:['ade: 0.45852497', 'fde: 0.9842596'], (best ade:0.4561901 at step 47400) \n"
     ]
    },
    {
     "name": "stderr",
     "output_type": "stream",
     "text": [
      " 45%|████▌     | 359/792 [00:17<00:17, 24.93it/s]"
     ]
    },
    {
     "name": "stdout",
     "output_type": "stream",
     "text": [
      "\tsaving model 55800...\n"
     ]
    },
    {
     "name": "stderr",
     "output_type": "stream",
     "text": [
      "\n",
      "  0%|          | 0/69 [00:00<?, ?it/s]\u001b[A\n",
      " 13%|#3        | 9/69 [00:00<00:00, 81.50it/s]\u001b[A"
     ]
    },
    {
     "name": "stdout",
     "output_type": "stream",
     "text": [
      "\tdone\n",
      "Evaluating\n"
     ]
    },
    {
     "name": "stderr",
     "output_type": "stream",
     "text": [
      "\n",
      " 22%|##1       | 15/69 [00:00<00:00, 70.48it/s]\u001b[A\n",
      " 30%|###       | 21/69 [00:00<00:00, 64.80it/s]\u001b[A\n",
      " 41%|####      | 28/69 [00:00<00:00, 65.32it/s]\u001b[A\n",
      " 51%|#####     | 35/69 [00:00<00:00, 65.58it/s]\u001b[A\n",
      " 64%|######3   | 44/69 [00:00<00:00, 70.18it/s]\u001b[A\n",
      " 77%|#######6  | 53/69 [00:00<00:00, 73.72it/s]\u001b[A\n",
      " 90%|########9 | 62/69 [00:00<00:00, 76.78it/s]\u001b[A\n",
      " 46%|████▌     | 362/792 [00:18<01:07,  6.33it/s]A"
     ]
    },
    {
     "name": "stdout",
     "output_type": "stream",
     "text": [
      "{'ade': 0.457549, 'fde': 0.9809625}\n",
      "\t last loss:0.000302593, eval on validation:['ade: 0.457549', 'fde: 0.9809625'], (best ade:0.4561901 at step 47400) \n"
     ]
    },
    {
     "name": "stderr",
     "output_type": "stream",
     "text": [
      " 83%|████████▎ | 658/792 [00:31<00:05, 24.92it/s]\n"
     ]
    },
    {
     "name": "stdout",
     "output_type": "stream",
     "text": [
      "\tsaving model 56100...\n",
      "\tdone\n",
      "Evaluating\n"
     ]
    },
    {
     "name": "stderr",
     "output_type": "stream",
     "text": [
      "  0%|          | 0/69 [00:00<?, ?it/s]\u001b[A\n",
      " 13%|#3        | 9/69 [00:00<00:00, 84.49it/s]\u001b[A\n",
      " 22%|##1       | 15/69 [00:00<00:00, 73.38it/s]\u001b[A\n",
      " 32%|###1      | 22/69 [00:00<00:00, 69.64it/s]\u001b[A\n",
      " 42%|####2     | 29/69 [00:00<00:00, 67.79it/s]\u001b[A\n",
      " 54%|#####3    | 37/69 [00:00<00:00, 70.29it/s]\u001b[A\n",
      " 65%|######5   | 45/69 [00:00<00:00, 71.99it/s]\u001b[A\n",
      " 77%|#######6  | 53/69 [00:00<00:00, 74.03it/s]\u001b[A\n",
      " 90%|########9 | 62/69 [00:00<00:00, 76.11it/s]\u001b[A\n",
      " 84%|████████▍ | 664/792 [00:32<00:15,  8.20it/s]A"
     ]
    },
    {
     "name": "stdout",
     "output_type": "stream",
     "text": [
      "{'ade': 0.45877793, 'fde': 0.9841827}\n",
      "\t last loss:0.000375269, eval on validation:['ade: 0.45877793', 'fde: 0.9841827'], (best ade:0.4561901 at step 47400) \n"
     ]
    },
    {
     "name": "stderr",
     "output_type": "stream",
     "text": [
      "100%|██████████| 792/792 [00:37<00:00, 20.85it/s]\n",
      "  0%|          | 3/792 [00:00<00:32, 24.07it/s]"
     ]
    },
    {
     "name": "stdout",
     "output_type": "stream",
     "text": [
      "('Epoca 72.', 'lr:', 6.7716246e-06)\n"
     ]
    },
    {
     "name": "stderr",
     "output_type": "stream",
     "text": [
      " 21%|██        | 165/792 [00:06<00:25, 24.36it/s]\n",
      "  0%|          | 0/69 [00:00<?, ?it/s]\u001b[A"
     ]
    },
    {
     "name": "stdout",
     "output_type": "stream",
     "text": [
      "\tsaving model 56400...\n",
      "\tdone\n",
      "Evaluating\n"
     ]
    },
    {
     "name": "stderr",
     "output_type": "stream",
     "text": [
      "\n",
      " 12%|#1        | 8/69 [00:00<00:00, 79.37it/s]\u001b[A\n",
      " 25%|##4       | 17/69 [00:00<00:00, 81.03it/s]\u001b[A\n",
      " 33%|###3      | 23/69 [00:00<00:00, 72.67it/s]\u001b[A\n",
      " 41%|####      | 28/69 [00:00<00:00, 59.67it/s]\u001b[A\n",
      " 48%|####7     | 33/69 [00:00<00:00, 51.55it/s]\u001b[A\n",
      " 55%|#####5    | 38/69 [00:00<00:00, 48.47it/s]\u001b[A\n",
      " 65%|######5   | 45/69 [00:00<00:00, 52.31it/s]\u001b[A\n",
      " 74%|#######3  | 51/69 [00:00<00:00, 53.07it/s]\u001b[A\n",
      " 84%|########4 | 58/69 [00:01<00:00, 56.09it/s]\u001b[A\n",
      " 94%|#########4| 65/69 [00:01<00:00, 58.21it/s]\u001b[A\n",
      " 21%|██▏       | 170/792 [00:08<01:28,  7.03it/s]A"
     ]
    },
    {
     "name": "stdout",
     "output_type": "stream",
     "text": [
      "{'ade': 0.4597019, 'fde': 0.9865497}\n",
      "\t last loss:0.000305067, eval on validation:['ade: 0.4597019', 'fde: 0.9865497'], (best ade:0.4561901 at step 47400) \n"
     ]
    },
    {
     "name": "stderr",
     "output_type": "stream",
     "text": [
      " 59%|█████▉    | 467/792 [00:21<00:12, 26.73it/s]\n",
      "  0%|          | 0/69 [00:00<?, ?it/s]\u001b[A"
     ]
    },
    {
     "name": "stdout",
     "output_type": "stream",
     "text": [
      "\tsaving model 56700...\n",
      "\tdone\n",
      "Evaluating\n"
     ]
    },
    {
     "name": "stderr",
     "output_type": "stream",
     "text": [
      "\n",
      " 13%|#3        | 9/69 [00:00<00:00, 81.76it/s]\u001b[A\n",
      " 25%|##4       | 17/69 [00:00<00:00, 81.22it/s]\u001b[A\n",
      " 33%|###3      | 23/69 [00:00<00:00, 73.31it/s]\u001b[A\n",
      " 43%|####3     | 30/69 [00:00<00:00, 71.60it/s]\u001b[A\n",
      " 55%|#####5    | 38/69 [00:00<00:00, 73.26it/s]\u001b[A\n",
      " 68%|######8   | 47/69 [00:00<00:00, 76.14it/s]\u001b[A\n",
      " 83%|########2 | 57/69 [00:00<00:00, 80.08it/s]\u001b[A\n",
      " 97%|#########7| 67/69 [00:00<00:00, 83.92it/s]\u001b[A\n",
      " 59%|█████▉    | 470/792 [00:22<00:46,  6.95it/s]A"
     ]
    },
    {
     "name": "stdout",
     "output_type": "stream",
     "text": [
      "{'ade': 0.4584836, 'fde': 0.9834812}\n",
      "\t last loss:0.000458826, eval on validation:['ade: 0.4584836', 'fde: 0.9834812'], (best ade:0.4561901 at step 47400) \n"
     ]
    },
    {
     "name": "stderr",
     "output_type": "stream",
     "text": [
      " 97%|█████████▋| 767/792 [00:35<00:01, 20.73it/s]"
     ]
    },
    {
     "name": "stdout",
     "output_type": "stream",
     "text": [
      "\tsaving model 57000...\n"
     ]
    },
    {
     "name": "stderr",
     "output_type": "stream",
     "text": [
      "\n",
      "  0%|          | 0/69 [00:00<?, ?it/s]\u001b[A\n",
      " 10%|#         | 7/69 [00:00<00:00, 69.73it/s]\u001b[A"
     ]
    },
    {
     "name": "stdout",
     "output_type": "stream",
     "text": [
      "\tdone\n",
      "Evaluating\n"
     ]
    },
    {
     "name": "stderr",
     "output_type": "stream",
     "text": [
      "\n",
      " 19%|#8        | 13/69 [00:00<00:00, 64.92it/s]\u001b[A\n",
      " 26%|##6       | 18/69 [00:00<00:00, 58.39it/s]\u001b[A\n",
      " 33%|###3      | 23/69 [00:00<00:00, 55.15it/s]\u001b[A\n",
      " 43%|####3     | 30/69 [00:00<00:00, 57.92it/s]\u001b[A\n",
      " 54%|#####3    | 37/69 [00:00<00:00, 59.64it/s]\u001b[A\n",
      " 65%|######5   | 45/69 [00:00<00:00, 63.20it/s]\u001b[A\n",
      " 77%|#######6  | 53/69 [00:00<00:00, 66.74it/s]\u001b[A\n",
      " 88%|########8 | 61/69 [00:00<00:00, 69.18it/s]\u001b[A\n",
      " 99%|#########8| 68/69 [00:01<00:00, 68.62it/s]\u001b[A\n",
      " 97%|█████████▋| 770/792 [00:36<00:03,  5.52it/s]A"
     ]
    },
    {
     "name": "stdout",
     "output_type": "stream",
     "text": [
      "{'ade': 0.45711333, 'fde': 0.9802731}\n",
      "\t last loss:0.000226911, eval on validation:['ade: 0.45711333', 'fde: 0.9802731'], (best ade:0.4561901 at step 47400) \n"
     ]
    },
    {
     "name": "stderr",
     "output_type": "stream",
     "text": [
      "100%|██████████| 792/792 [00:37<00:00, 21.03it/s]\n",
      "  0%|          | 2/792 [00:00<00:41, 18.86it/s]"
     ]
    },
    {
     "name": "stdout",
     "output_type": "stream",
     "text": [
      "('Epoca 73.', 'lr:', 5.7558805e-06)\n"
     ]
    },
    {
     "name": "stderr",
     "output_type": "stream",
     "text": [
      " 35%|███▍      | 275/792 [00:11<00:20, 24.74it/s]\n",
      "  0%|          | 0/69 [00:00<?, ?it/s]\u001b[A"
     ]
    },
    {
     "name": "stdout",
     "output_type": "stream",
     "text": [
      "\tsaving model 57300...\n",
      "\tdone\n",
      "Evaluating\n"
     ]
    },
    {
     "name": "stderr",
     "output_type": "stream",
     "text": [
      "\n",
      " 13%|#3        | 9/69 [00:00<00:00, 85.34it/s]\u001b[A\n",
      " 23%|##3       | 16/69 [00:00<00:00, 76.51it/s]\u001b[A\n",
      " 33%|###3      | 23/69 [00:00<00:00, 71.52it/s]\u001b[A\n",
      " 42%|####2     | 29/69 [00:00<00:00, 65.25it/s]\u001b[A\n",
      " 54%|#####3    | 37/69 [00:00<00:00, 67.17it/s]\u001b[A\n",
      " 65%|######5   | 45/69 [00:00<00:00, 69.37it/s]\u001b[A\n",
      " 78%|#######8  | 54/69 [00:00<00:00, 73.60it/s]\u001b[A\n",
      " 91%|#########1| 63/69 [00:00<00:00, 76.60it/s]\u001b[A\n",
      " 35%|███▌      | 278/792 [00:12<01:20,  6.41it/s]A"
     ]
    },
    {
     "name": "stdout",
     "output_type": "stream",
     "text": [
      "{'ade': 0.4585669, 'fde': 0.9839373}\n",
      "\t last loss:0.000227734, eval on validation:['ade: 0.4585669', 'fde: 0.9839373'], (best ade:0.4561901 at step 47400) \n"
     ]
    },
    {
     "name": "stderr",
     "output_type": "stream",
     "text": [
      " 73%|███████▎  | 575/792 [00:25<00:09, 22.77it/s]"
     ]
    },
    {
     "name": "stdout",
     "output_type": "stream",
     "text": [
      "\tsaving model 57600...\n"
     ]
    },
    {
     "name": "stderr",
     "output_type": "stream",
     "text": [
      "\n",
      "  0%|          | 0/69 [00:00<?, ?it/s]\u001b[A\n",
      " 13%|#3        | 9/69 [00:00<00:00, 86.12it/s]\u001b[A\n",
      " 25%|##4       | 17/69 [00:00<00:00, 84.07it/s]\u001b[A\n",
      " 36%|###6      | 25/69 [00:00<00:00, 82.57it/s]\u001b[A\n",
      " 45%|####4     | 31/69 [00:00<00:00, 73.34it/s]\u001b[A\n",
      " 54%|#####3    | 37/69 [00:00<00:00, 67.49it/s]\u001b[A\n",
      " 65%|######5   | 45/69 [00:00<00:00, 69.20it/s]\u001b[A\n",
      " 75%|#######5  | 52/69 [00:00<00:00, 67.07it/s]\u001b[A\n",
      " 88%|########8 | 61/69 [00:00<00:00, 71.34it/s]\u001b[A\n",
      " 73%|███████▎  | 578/792 [00:26<00:34,  6.21it/s]A"
     ]
    },
    {
     "name": "stdout",
     "output_type": "stream",
     "text": [
      "\tdone\n",
      "Evaluating\n",
      "{'ade': 0.45795202, 'fde': 0.9820269}\n",
      "\t last loss:0.000227075, eval on validation:['ade: 0.45795202', 'fde: 0.9820269'], (best ade:0.4561901 at step 47400) \n"
     ]
    },
    {
     "name": "stderr",
     "output_type": "stream",
     "text": [
      "100%|██████████| 792/792 [00:35<00:00, 22.33it/s]\n",
      "  0%|          | 3/792 [00:00<00:33, 23.86it/s]"
     ]
    },
    {
     "name": "stdout",
     "output_type": "stream",
     "text": [
      "('Epoca 74.', 'lr:', 5.7558805e-06)\n"
     ]
    },
    {
     "name": "stderr",
     "output_type": "stream",
     "text": [
      " 10%|█         | 81/792 [00:03<00:28, 24.91it/s]\n",
      "  0%|          | 0/69 [00:00<?, ?it/s]\u001b[A"
     ]
    },
    {
     "name": "stdout",
     "output_type": "stream",
     "text": [
      "\tsaving model 57900...\n",
      "\tdone\n",
      "Evaluating\n"
     ]
    },
    {
     "name": "stderr",
     "output_type": "stream",
     "text": [
      "\n",
      " 13%|#3        | 9/69 [00:00<00:00, 85.78it/s]\u001b[A\n",
      " 22%|##1       | 15/69 [00:00<00:00, 74.10it/s]\u001b[A\n",
      " 32%|###1      | 22/69 [00:00<00:00, 69.51it/s]\u001b[A\n",
      " 41%|####      | 28/69 [00:00<00:00, 66.12it/s]\u001b[A\n",
      " 52%|#####2    | 36/69 [00:00<00:00, 67.21it/s]\u001b[A\n",
      " 64%|######3   | 44/69 [00:00<00:00, 68.73it/s]\u001b[A\n",
      " 77%|#######6  | 53/69 [00:00<00:00, 72.28it/s]\u001b[A\n",
      " 88%|########8 | 61/69 [00:00<00:00, 74.25it/s]\u001b[A\n",
      " 11%|█         | 87/792 [00:04<01:26,  8.17it/s][A"
     ]
    },
    {
     "name": "stdout",
     "output_type": "stream",
     "text": [
      "{'ade': 0.45794252, 'fde': 0.9818557}\n",
      "\t last loss:0.000324661, eval on validation:['ade: 0.45794252', 'fde: 0.9818557'], (best ade:0.4561901 at step 47400) \n"
     ]
    },
    {
     "name": "stderr",
     "output_type": "stream",
     "text": [
      " 48%|████▊     | 381/792 [00:18<00:16, 24.41it/s]\n",
      "  0%|          | 0/69 [00:00<?, ?it/s]\u001b[A"
     ]
    },
    {
     "name": "stdout",
     "output_type": "stream",
     "text": [
      "\tsaving model 58200...\n",
      "\tdone\n",
      "Evaluating\n"
     ]
    },
    {
     "name": "stderr",
     "output_type": "stream",
     "text": [
      "\n",
      " 14%|#4        | 10/69 [00:00<00:00, 91.80it/s]\u001b[A\n",
      " 23%|##3       | 16/69 [00:00<00:00, 78.98it/s]\u001b[A\n",
      " 33%|###3      | 23/69 [00:00<00:00, 71.83it/s]\u001b[A\n",
      " 43%|####3     | 30/69 [00:00<00:00, 69.16it/s]\u001b[A\n",
      " 57%|#####6    | 39/69 [00:00<00:00, 73.17it/s]\u001b[A\n",
      " 68%|######8   | 47/69 [00:00<00:00, 73.26it/s]\u001b[A\n",
      " 83%|########2 | 57/69 [00:00<00:00, 78.42it/s]\u001b[A\n",
      " 97%|#########7| 67/69 [00:00<00:00, 82.06it/s]\u001b[A\n",
      " 49%|████▉     | 387/792 [00:19<00:46,  8.62it/s]A"
     ]
    },
    {
     "name": "stdout",
     "output_type": "stream",
     "text": [
      "{'ade': 0.4580654, 'fde': 0.9823498}\n",
      "\t last loss:0.000368154, eval on validation:['ade: 0.4580654', 'fde: 0.9823498'], (best ade:0.4561901 at step 47400) \n"
     ]
    },
    {
     "name": "stderr",
     "output_type": "stream",
     "text": [
      " 86%|████████▌ | 681/792 [00:32<00:05, 20.93it/s]"
     ]
    },
    {
     "name": "stdout",
     "output_type": "stream",
     "text": [
      "\tsaving model 58500...\n"
     ]
    },
    {
     "name": "stderr",
     "output_type": "stream",
     "text": [
      "\n",
      "  0%|          | 0/69 [00:00<?, ?it/s]\u001b[A\n",
      "  9%|8         | 6/69 [00:00<00:01, 58.79it/s]\u001b[A"
     ]
    },
    {
     "name": "stdout",
     "output_type": "stream",
     "text": [
      "\tdone\n",
      "Evaluating\n"
     ]
    },
    {
     "name": "stderr",
     "output_type": "stream",
     "text": [
      "\n",
      " 16%|#5        | 11/69 [00:00<00:01, 53.94it/s]\u001b[A\n",
      " 23%|##3       | 16/69 [00:00<00:01, 49.85it/s]\u001b[A\n",
      " 32%|###1      | 22/69 [00:00<00:00, 51.85it/s]\u001b[A\n",
      " 39%|###9      | 27/69 [00:00<00:00, 49.97it/s]\u001b[A\n",
      " 49%|####9     | 34/69 [00:00<00:00, 53.65it/s]\u001b[A\n",
      " 59%|#####9    | 41/69 [00:00<00:00, 56.89it/s]\u001b[A\n",
      " 68%|######8   | 47/69 [00:00<00:00, 57.32it/s]\u001b[A\n",
      " 78%|#######8  | 54/69 [00:00<00:00, 59.99it/s]\u001b[A\n",
      " 88%|########8 | 61/69 [00:01<00:00, 60.84it/s]\u001b[A\n",
      " 99%|#########8| 68/69 [00:01<00:00, 62.69it/s]\u001b[A\n",
      " 87%|████████▋ | 687/792 [00:33<00:16,  6.56it/s]A"
     ]
    },
    {
     "name": "stdout",
     "output_type": "stream",
     "text": [
      "{'ade': 0.45772797, 'fde': 0.98141825}\n",
      "\t last loss:0.000409745, eval on validation:['ade: 0.45772797', 'fde: 0.98141825'], (best ade:0.4561901 at step 47400) \n"
     ]
    },
    {
     "name": "stderr",
     "output_type": "stream",
     "text": [
      "100%|██████████| 792/792 [00:38<00:00, 20.42it/s]\n",
      "  0%|          | 1/792 [00:00<01:41,  7.79it/s]"
     ]
    },
    {
     "name": "stdout",
     "output_type": "stream",
     "text": [
      "('Epoca 75.', 'lr:', 4.8924985e-06)\n"
     ]
    },
    {
     "name": "stderr",
     "output_type": "stream",
     "text": [
      " 24%|██▍       | 190/792 [00:07<00:22, 26.55it/s]\n",
      "  0%|          | 0/69 [00:00<?, ?it/s]\u001b[A"
     ]
    },
    {
     "name": "stdout",
     "output_type": "stream",
     "text": [
      "\tsaving model 58800...\n",
      "\tdone\n",
      "Evaluating\n"
     ]
    },
    {
     "name": "stderr",
     "output_type": "stream",
     "text": [
      "\n",
      " 13%|#3        | 9/69 [00:00<00:00, 81.39it/s]\u001b[A\n",
      " 22%|##1       | 15/69 [00:00<00:00, 73.15it/s]\u001b[A\n",
      " 32%|###1      | 22/69 [00:00<00:00, 70.44it/s]\u001b[A\n",
      " 42%|####2     | 29/69 [00:00<00:00, 68.70it/s]\u001b[A\n",
      " 52%|#####2    | 36/69 [00:00<00:00, 68.22it/s]\u001b[A\n",
      " 65%|######5   | 45/69 [00:00<00:00, 71.86it/s]\u001b[A\n",
      " 78%|#######8  | 54/69 [00:00<00:00, 74.53it/s]\u001b[A\n",
      " 90%|########9 | 62/69 [00:00<00:00, 75.17it/s]\u001b[A\n",
      " 25%|██▍       | 196/792 [00:08<01:11,  8.35it/s]A"
     ]
    },
    {
     "name": "stdout",
     "output_type": "stream",
     "text": [
      "{'ade': 0.45744792, 'fde': 0.9809818}\n",
      "\t last loss:0.000458282, eval on validation:['ade: 0.45744792', 'fde: 0.9809818'], (best ade:0.4561901 at step 47400) \n"
     ]
    },
    {
     "name": "stderr",
     "output_type": "stream",
     "text": [
      " 62%|██████▏   | 490/792 [00:21<00:13, 22.85it/s]"
     ]
    },
    {
     "name": "stdout",
     "output_type": "stream",
     "text": [
      "\tsaving model 59100...\n"
     ]
    },
    {
     "name": "stderr",
     "output_type": "stream",
     "text": [
      "\n",
      "  0%|          | 0/69 [00:00<?, ?it/s]\u001b[A\n",
      " 12%|#1        | 8/69 [00:00<00:00, 73.78it/s]\u001b[A"
     ]
    },
    {
     "name": "stdout",
     "output_type": "stream",
     "text": [
      "\tdone\n",
      "Evaluating\n"
     ]
    },
    {
     "name": "stderr",
     "output_type": "stream",
     "text": [
      "\n",
      " 22%|##1       | 15/69 [00:00<00:00, 69.06it/s]\u001b[A\n",
      " 30%|###       | 21/69 [00:00<00:00, 63.37it/s]\u001b[A\n",
      " 38%|###7      | 26/69 [00:00<00:00, 55.62it/s]\u001b[A\n",
      " 48%|####7     | 33/69 [00:00<00:00, 56.88it/s]\u001b[A\n",
      " 58%|#####7    | 40/69 [00:00<00:00, 60.13it/s]\u001b[A\n",
      " 70%|######9   | 48/69 [00:00<00:00, 63.90it/s]\u001b[A\n",
      " 80%|#######9  | 55/69 [00:00<00:00, 64.98it/s]\u001b[A\n",
      " 91%|#########1| 63/69 [00:00<00:00, 67.89it/s]\u001b[A\n",
      " 62%|██████▏   | 493/792 [00:23<00:52,  5.73it/s]A"
     ]
    },
    {
     "name": "stdout",
     "output_type": "stream",
     "text": [
      "{'ade': 0.45750156, 'fde': 0.98120767}\n",
      "\t last loss:0.000333403, eval on validation:['ade: 0.45750156', 'fde: 0.98120767'], (best ade:0.4561901 at step 47400) \n"
     ]
    },
    {
     "name": "stderr",
     "output_type": "stream",
     "text": [
      "100%|█████████▉| 790/792 [00:35<00:00, 24.80it/s]\n",
      "  0%|          | 0/69 [00:00<?, ?it/s]\u001b[A"
     ]
    },
    {
     "name": "stdout",
     "output_type": "stream",
     "text": [
      "\tsaving model 59400...\n",
      "\tdone\n",
      "Evaluating\n"
     ]
    },
    {
     "name": "stderr",
     "output_type": "stream",
     "text": [
      "\n",
      " 12%|#1        | 8/69 [00:00<00:00, 77.80it/s]\u001b[A\n",
      " 20%|##        | 14/69 [00:00<00:00, 68.36it/s]\u001b[A\n",
      " 29%|##8       | 20/69 [00:00<00:00, 64.24it/s]\u001b[A\n",
      " 39%|###9      | 27/69 [00:00<00:00, 64.67it/s]\u001b[A\n",
      " 49%|####9     | 34/69 [00:00<00:00, 64.86it/s]\u001b[A\n",
      " 62%|######2   | 43/69 [00:00<00:00, 69.53it/s]\u001b[A\n",
      " 74%|#######3  | 51/69 [00:00<00:00, 72.34it/s]\u001b[A\n",
      " 87%|########6 | 60/69 [00:00<00:00, 75.55it/s]\u001b[A\n",
      "100%|██████████| 792/792 [00:36<00:00, 21.66it/s]A\n",
      "  0%|          | 3/792 [00:00<00:33, 23.38it/s]"
     ]
    },
    {
     "name": "stdout",
     "output_type": "stream",
     "text": [
      "{'ade': 0.45679623, 'fde': 0.97873867}\n",
      "\t last loss:0.000459357, eval on validation:['ade: 0.45679623', 'fde: 0.97873867'], (best ade:0.4561901 at step 47400) \n",
      "('Epoca 76.', 'lr:', 4.8924985e-06)\n"
     ]
    },
    {
     "name": "stderr",
     "output_type": "stream",
     "text": [
      " 38%|███▊      | 297/792 [00:13<00:19, 24.99it/s]\n",
      "  0%|          | 0/69 [00:00<?, ?it/s]\u001b[A"
     ]
    },
    {
     "name": "stdout",
     "output_type": "stream",
     "text": [
      "\tsaving model 59700...\n",
      "\tdone\n",
      "Evaluating\n"
     ]
    },
    {
     "name": "stderr",
     "output_type": "stream",
     "text": [
      "\n",
      " 13%|#3        | 9/69 [00:00<00:00, 85.23it/s]\u001b[A\n",
      " 22%|##1       | 15/69 [00:00<00:00, 73.66it/s]\u001b[A\n",
      " 32%|###1      | 22/69 [00:00<00:00, 72.01it/s]\u001b[A\n",
      " 41%|####      | 28/69 [00:00<00:00, 66.54it/s]\u001b[A\n",
      " 54%|#####3    | 37/69 [00:00<00:00, 70.24it/s]\u001b[A\n",
      " 64%|######3   | 44/69 [00:00<00:00, 68.71it/s]\u001b[A\n",
      " 77%|#######6  | 53/69 [00:00<00:00, 71.98it/s]\u001b[A\n",
      " 88%|########8 | 61/69 [00:00<00:00, 73.50it/s]\u001b[A\n",
      " 38%|███▊      | 303/792 [00:14<00:59,  8.20it/s]A"
     ]
    },
    {
     "name": "stdout",
     "output_type": "stream",
     "text": [
      "{'ade': 0.4587478, 'fde': 0.98436075}\n",
      "\t last loss:0.000430108, eval on validation:['ade: 0.4587478', 'fde: 0.98436075'], (best ade:0.4561901 at step 47400) \n"
     ]
    },
    {
     "name": "stderr",
     "output_type": "stream",
     "text": [
      " 75%|███████▌  | 597/792 [00:26<00:07, 24.66it/s]\n"
     ]
    },
    {
     "name": "stdout",
     "output_type": "stream",
     "text": [
      "\tsaving model 60000...\n",
      "\tdone\n",
      "Evaluating\n"
     ]
    },
    {
     "name": "stderr",
     "output_type": "stream",
     "text": [
      "  0%|          | 0/69 [00:00<?, ?it/s]\u001b[A\n",
      " 13%|#3        | 9/69 [00:00<00:00, 82.48it/s]\u001b[A\n",
      " 22%|##1       | 15/69 [00:00<00:00, 71.05it/s]\u001b[A\n",
      " 32%|###1      | 22/69 [00:00<00:00, 68.32it/s]\u001b[A\n",
      " 41%|####      | 28/69 [00:00<00:00, 65.01it/s]\u001b[A\n",
      " 51%|#####     | 35/69 [00:00<00:00, 66.11it/s]\u001b[A\n",
      " 61%|######    | 42/69 [00:00<00:00, 65.04it/s]\u001b[A\n",
      " 71%|#######1  | 49/69 [00:00<00:00, 65.49it/s]\u001b[A\n",
      " 81%|########1 | 56/69 [00:00<00:00, 66.06it/s]\u001b[A\n",
      " 91%|#########1| 63/69 [00:00<00:00, 65.60it/s]\u001b[A\n",
      " 76%|███████▌  | 603/792 [00:27<00:25,  7.51it/s]A"
     ]
    },
    {
     "name": "stdout",
     "output_type": "stream",
     "text": [
      "{'ade': 0.45856002, 'fde': 0.9835393}\n",
      "\t last loss:0.000249330, eval on validation:['ade: 0.45856002', 'fde: 0.9835393'], (best ade:0.4561901 at step 47400) \n"
     ]
    },
    {
     "name": "stderr",
     "output_type": "stream",
     "text": [
      "100%|██████████| 792/792 [00:36<00:00, 22.66it/s]\n",
      "  0%|          | 1/792 [00:00<01:34,  8.37it/s]"
     ]
    },
    {
     "name": "stdout",
     "output_type": "stream",
     "text": [
      "('Epoca 77.', 'lr:', 4.158624e-06)\n"
     ]
    },
    {
     "name": "stderr",
     "output_type": "stream",
     "text": [
      " 13%|█▎        | 106/792 [00:04<00:25, 26.60it/s]\n",
      "  0%|          | 0/69 [00:00<?, ?it/s]\u001b[A"
     ]
    },
    {
     "name": "stdout",
     "output_type": "stream",
     "text": [
      "\tsaving model 60300...\n",
      "\tdone\n",
      "Evaluating\n"
     ]
    },
    {
     "name": "stderr",
     "output_type": "stream",
     "text": [
      "\n",
      " 14%|#4        | 10/69 [00:00<00:00, 91.17it/s]\u001b[A\n",
      " 26%|##6       | 18/69 [00:00<00:00, 84.44it/s]\u001b[A\n",
      " 38%|###7      | 26/69 [00:00<00:00, 78.80it/s]\u001b[A\n",
      " 46%|####6     | 32/69 [00:00<00:00, 71.54it/s]\u001b[A\n",
      " 59%|#####9    | 41/69 [00:00<00:00, 75.40it/s]\u001b[A\n",
      " 71%|#######1  | 49/69 [00:00<00:00, 76.64it/s]\u001b[A\n",
      " 86%|########5 | 59/69 [00:00<00:00, 80.51it/s]\u001b[A\n",
      " 99%|#########8| 68/69 [00:00<00:00, 81.92it/s]\u001b[A\n",
      " 14%|█▍        | 109/792 [00:05<01:40,  6.81it/s]A"
     ]
    },
    {
     "name": "stdout",
     "output_type": "stream",
     "text": [
      "{'ade': 0.458718, 'fde': 0.98401827}\n",
      "\t last loss:0.000241353, eval on validation:['ade: 0.458718', 'fde: 0.98401827'], (best ade:0.4561901 at step 47400) \n"
     ]
    },
    {
     "name": "stderr",
     "output_type": "stream",
     "text": [
      " 51%|█████▏    | 406/792 [00:18<00:18, 20.90it/s]"
     ]
    },
    {
     "name": "stdout",
     "output_type": "stream",
     "text": [
      "\tsaving model 60600...\n"
     ]
    },
    {
     "name": "stderr",
     "output_type": "stream",
     "text": [
      "\n",
      "  0%|          | 0/69 [00:00<?, ?it/s]\u001b[A\n",
      " 12%|#1        | 8/69 [00:00<00:00, 72.36it/s]\u001b[A"
     ]
    },
    {
     "name": "stdout",
     "output_type": "stream",
     "text": [
      "\tdone\n",
      "Evaluating\n"
     ]
    },
    {
     "name": "stderr",
     "output_type": "stream",
     "text": [
      "\n",
      " 20%|##        | 14/69 [00:00<00:00, 65.55it/s]\u001b[A\n",
      " 32%|###1      | 22/69 [00:00<00:00, 68.02it/s]\u001b[A\n",
      " 43%|####3     | 30/69 [00:00<00:00, 69.25it/s]\u001b[A\n",
      " 54%|#####3    | 37/69 [00:00<00:00, 67.80it/s]\u001b[A\n",
      " 65%|######5   | 45/69 [00:00<00:00, 69.28it/s]\u001b[A\n",
      " 75%|#######5  | 52/69 [00:00<00:00, 68.64it/s]\u001b[A\n",
      " 86%|########5 | 59/69 [00:00<00:00, 68.70it/s]\u001b[A\n",
      " 97%|#########7| 67/69 [00:00<00:00, 70.79it/s]\u001b[A\n",
      " 52%|█████▏    | 409/792 [00:19<01:06,  5.78it/s]A"
     ]
    },
    {
     "name": "stdout",
     "output_type": "stream",
     "text": [
      "{'ade': 0.45736867, 'fde': 0.98067397}\n",
      "\t last loss:0.000290012, eval on validation:['ade: 0.45736867', 'fde: 0.98067397'], (best ade:0.4561901 at step 47400) \n"
     ]
    },
    {
     "name": "stderr",
     "output_type": "stream",
     "text": [
      " 89%|████████▉ | 705/792 [00:32<00:03, 25.04it/s]\n",
      "  0%|          | 0/69 [00:00<?, ?it/s]\u001b[A"
     ]
    },
    {
     "name": "stdout",
     "output_type": "stream",
     "text": [
      "\tsaving model 60900...\n",
      "\tdone\n",
      "Evaluating\n"
     ]
    },
    {
     "name": "stderr",
     "output_type": "stream",
     "text": [
      "\n",
      " 13%|#3        | 9/69 [00:00<00:00, 82.71it/s]\u001b[A\n",
      " 22%|##1       | 15/69 [00:00<00:00, 71.25it/s]\u001b[A\n",
      " 32%|###1      | 22/69 [00:00<00:00, 67.74it/s]\u001b[A\n",
      " 42%|####2     | 29/69 [00:00<00:00, 68.21it/s]\u001b[A\n",
      " 54%|#####3    | 37/69 [00:00<00:00, 69.04it/s]\u001b[A\n",
      " 67%|######6   | 46/69 [00:00<00:00, 73.33it/s]\u001b[A\n",
      " 80%|#######9  | 55/69 [00:00<00:00, 76.11it/s]\u001b[A\n",
      " 93%|#########2| 64/69 [00:00<00:00, 77.60it/s]\u001b[A\n",
      " 90%|████████▉ | 711/792 [00:34<00:09,  8.26it/s]A"
     ]
    },
    {
     "name": "stdout",
     "output_type": "stream",
     "text": [
      "{'ade': 0.45799953, 'fde': 0.9825652}\n",
      "\t last loss:0.000161033, eval on validation:['ade: 0.45799953', 'fde: 0.9825652'], (best ade:0.4561901 at step 47400) \n"
     ]
    },
    {
     "name": "stderr",
     "output_type": "stream",
     "text": [
      "100%|██████████| 792/792 [00:37<00:00, 24.21it/s]\n",
      "  0%|          | 1/792 [00:00<01:36,  8.18it/s]"
     ]
    },
    {
     "name": "stdout",
     "output_type": "stream",
     "text": [
      "('Epoca 78.', 'lr:', 4.158624e-06)\n"
     ]
    },
    {
     "name": "stderr",
     "output_type": "stream",
     "text": [
      " 27%|██▋       | 214/792 [00:08<00:23, 25.03it/s]"
     ]
    },
    {
     "name": "stdout",
     "output_type": "stream",
     "text": [
      "\tsaving model 61200...\n"
     ]
    },
    {
     "name": "stderr",
     "output_type": "stream",
     "text": [
      "\n",
      "  0%|          | 0/69 [00:00<?, ?it/s]\u001b[A\n",
      " 14%|#4        | 10/69 [00:00<00:00, 82.75it/s]\u001b[A"
     ]
    },
    {
     "name": "stdout",
     "output_type": "stream",
     "text": [
      "\tdone\n",
      "Evaluating\n"
     ]
    },
    {
     "name": "stderr",
     "output_type": "stream",
     "text": [
      "\n",
      " 25%|##4       | 17/69 [00:00<00:00, 75.40it/s]\u001b[A\n",
      " 35%|###4      | 24/69 [00:00<00:00, 71.79it/s]\u001b[A\n",
      " 48%|####7     | 33/69 [00:00<00:00, 75.00it/s]\u001b[A\n",
      " 61%|######    | 42/69 [00:00<00:00, 76.70it/s]\u001b[A\n",
      " 74%|#######3  | 51/69 [00:00<00:00, 79.78it/s]\u001b[A\n",
      " 87%|########6 | 60/69 [00:00<00:00, 81.75it/s]\u001b[A\n",
      " 99%|#########8| 68/69 [00:00<00:00, 81.16it/s]\u001b[A\n",
      " 28%|██▊       | 220/792 [00:09<01:06,  8.58it/s]A"
     ]
    },
    {
     "name": "stdout",
     "output_type": "stream",
     "text": [
      "{'ade': 0.45803928, 'fde': 0.9828931}\n",
      "\t last loss:0.000451973, eval on validation:['ade: 0.45803928', 'fde: 0.9828931'], (best ade:0.4561901 at step 47400) \n"
     ]
    },
    {
     "name": "stderr",
     "output_type": "stream",
     "text": [
      " 65%|██████▍   | 514/792 [00:22<00:13, 20.79it/s]"
     ]
    },
    {
     "name": "stdout",
     "output_type": "stream",
     "text": [
      "\tsaving model 61500...\n"
     ]
    },
    {
     "name": "stderr",
     "output_type": "stream",
     "text": [
      "\n",
      "  0%|          | 0/69 [00:00<?, ?it/s]\u001b[A\n",
      "  9%|8         | 6/69 [00:00<00:01, 59.33it/s]\u001b[A"
     ]
    },
    {
     "name": "stdout",
     "output_type": "stream",
     "text": [
      "\tdone\n",
      "Evaluating\n"
     ]
    },
    {
     "name": "stderr",
     "output_type": "stream",
     "text": [
      "\n",
      " 16%|#5        | 11/69 [00:00<00:01, 54.59it/s]\u001b[A\n",
      " 22%|##1       | 15/69 [00:00<00:01, 46.62it/s]\u001b[A\n",
      " 30%|###       | 21/69 [00:00<00:00, 48.91it/s]\u001b[A\n",
      " 39%|###9      | 27/69 [00:00<00:00, 50.08it/s]\u001b[A\n",
      " 49%|####9     | 34/69 [00:00<00:00, 54.13it/s]\u001b[A\n",
      " 59%|#####9    | 41/69 [00:00<00:00, 56.97it/s]\u001b[A\n",
      " 70%|######9   | 48/69 [00:00<00:00, 59.67it/s]\u001b[A\n",
      " 80%|#######9  | 55/69 [00:00<00:00, 60.71it/s]\u001b[A\n",
      " 90%|########9 | 62/69 [00:01<00:00, 62.13it/s]\u001b[A\n",
      " 65%|██████▌   | 517/792 [00:23<00:54,  5.08it/s]A"
     ]
    },
    {
     "name": "stdout",
     "output_type": "stream",
     "text": [
      "{'ade': 0.45814142, 'fde': 0.9826171}\n",
      "\t last loss:0.000552087, eval on validation:['ade: 0.45814142', 'fde: 0.9826171'], (best ade:0.4561901 at step 47400) \n"
     ]
    },
    {
     "name": "stderr",
     "output_type": "stream",
     "text": [
      "100%|██████████| 792/792 [00:35<00:00, 25.27it/s]\n",
      "  0%|          | 1/792 [00:00<01:25,  9.25it/s]"
     ]
    },
    {
     "name": "stdout",
     "output_type": "stream",
     "text": [
      "('Epoca 79.', 'lr:', 3.5348305e-06)\n"
     ]
    },
    {
     "name": "stderr",
     "output_type": "stream",
     "text": [
      "  3%|▎         | 22/792 [00:00<00:35, 21.75it/s]"
     ]
    },
    {
     "name": "stdout",
     "output_type": "stream",
     "text": [
      "\tsaving model 61800...\n"
     ]
    },
    {
     "name": "stderr",
     "output_type": "stream",
     "text": [
      "\n",
      "  0%|          | 0/69 [00:00<?, ?it/s]\u001b[A\n",
      " 13%|#3        | 9/69 [00:00<00:00, 85.00it/s]\u001b[A"
     ]
    },
    {
     "name": "stdout",
     "output_type": "stream",
     "text": [
      "\tdone\n",
      "Evaluating\n"
     ]
    },
    {
     "name": "stderr",
     "output_type": "stream",
     "text": [
      "\n",
      " 23%|##3       | 16/69 [00:00<00:00, 76.24it/s]\u001b[A\n",
      " 33%|###3      | 23/69 [00:00<00:00, 71.57it/s]\u001b[A\n",
      " 43%|####3     | 30/69 [00:00<00:00, 69.35it/s]\u001b[A\n",
      " 57%|#####6    | 39/69 [00:00<00:00, 74.23it/s]\u001b[A\n",
      " 70%|######9   | 48/69 [00:00<00:00, 76.48it/s]\u001b[A\n",
      " 84%|########4 | 58/69 [00:00<00:00, 81.11it/s]\u001b[A\n",
      " 97%|#########7| 67/69 [00:00<00:00, 80.90it/s]\u001b[A\n",
      "  4%|▎         | 28/792 [00:02<01:32,  8.28it/s][A"
     ]
    },
    {
     "name": "stdout",
     "output_type": "stream",
     "text": [
      "{'ade': 0.458436, 'fde': 0.9832973}\n",
      "\t last loss:0.000255651, eval on validation:['ade: 0.458436', 'fde: 0.9832973'], (best ade:0.4561901 at step 47400) \n"
     ]
    },
    {
     "name": "stderr",
     "output_type": "stream",
     "text": [
      " 41%|████      | 322/792 [00:14<00:22, 21.01it/s]"
     ]
    },
    {
     "name": "stdout",
     "output_type": "stream",
     "text": [
      "\tsaving model 62100...\n"
     ]
    },
    {
     "name": "stderr",
     "output_type": "stream",
     "text": [
      "\n",
      "  0%|          | 0/69 [00:00<?, ?it/s]\u001b[A\n",
      " 10%|#         | 7/69 [00:00<00:00, 63.77it/s]\u001b[A"
     ]
    },
    {
     "name": "stdout",
     "output_type": "stream",
     "text": [
      "\tdone\n",
      "Evaluating\n"
     ]
    },
    {
     "name": "stderr",
     "output_type": "stream",
     "text": [
      "\n",
      " 17%|#7        | 12/69 [00:00<00:01, 54.09it/s]\u001b[A\n",
      " 25%|##4       | 17/69 [00:00<00:01, 51.87it/s]\u001b[A\n",
      " 30%|###       | 21/69 [00:00<00:01, 47.48it/s]\u001b[A\n",
      " 39%|###9      | 27/69 [00:00<00:00, 49.06it/s]\u001b[A\n",
      " 48%|####7     | 33/69 [00:00<00:00, 51.32it/s]\u001b[A\n",
      " 58%|#####7    | 40/69 [00:00<00:00, 54.98it/s]\u001b[A\n",
      " 68%|######8   | 47/69 [00:00<00:00, 58.16it/s]\u001b[A\n",
      " 78%|#######8  | 54/69 [00:00<00:00, 60.62it/s]\u001b[A\n",
      " 88%|########8 | 61/69 [00:01<00:00, 62.16it/s]\u001b[A\n",
      " 99%|#########8| 68/69 [00:01<00:00, 61.98it/s]\u001b[A\n",
      " 41%|████      | 325/792 [00:15<01:31,  5.11it/s]A"
     ]
    },
    {
     "name": "stdout",
     "output_type": "stream",
     "text": [
      "{'ade': 0.45829135, 'fde': 0.98288614}\n",
      "\t last loss:0.000343002, eval on validation:['ade: 0.45829135', 'fde: 0.98288614'], (best ade:0.4561901 at step 47400) \n"
     ]
    },
    {
     "name": "stderr",
     "output_type": "stream",
     "text": [
      " 79%|███████▊  | 622/792 [00:28<00:06, 26.50it/s]\n",
      "  0%|          | 0/69 [00:00<?, ?it/s]\u001b[A"
     ]
    },
    {
     "name": "stdout",
     "output_type": "stream",
     "text": [
      "\tsaving model 62400...\n",
      "\tdone\n",
      "Evaluating\n"
     ]
    },
    {
     "name": "stderr",
     "output_type": "stream",
     "text": [
      "\n",
      " 14%|#4        | 10/69 [00:00<00:00, 91.38it/s]\u001b[A\n",
      " 25%|##4       | 17/69 [00:00<00:00, 83.61it/s]\u001b[A\n",
      " 35%|###4      | 24/69 [00:00<00:00, 77.69it/s]\u001b[A\n",
      " 43%|####3     | 30/69 [00:00<00:00, 70.97it/s]\u001b[A\n",
      " 55%|#####5    | 38/69 [00:00<00:00, 73.39it/s]\u001b[A\n",
      " 67%|######6   | 46/69 [00:00<00:00, 74.40it/s]\u001b[A\n",
      " 80%|#######9  | 55/69 [00:00<00:00, 78.17it/s]\u001b[A\n",
      " 93%|#########2| 64/69 [00:00<00:00, 79.68it/s]\u001b[A\n",
      " 79%|███████▉  | 625/792 [00:29<00:24,  6.76it/s]A"
     ]
    },
    {
     "name": "stdout",
     "output_type": "stream",
     "text": [
      "{'ade': 0.4585935, 'fde': 0.98372704}\n",
      "\t last loss:0.000243619, eval on validation:['ade: 0.4585935', 'fde: 0.98372704'], (best ade:0.4561901 at step 47400) \n"
     ]
    },
    {
     "name": "stderr",
     "output_type": "stream",
     "text": [
      "100%|██████████| 792/792 [00:36<00:00, 21.60it/s]\n",
      "  0%|          | 3/792 [00:00<00:34, 23.05it/s]"
     ]
    },
    {
     "name": "stdout",
     "output_type": "stream",
     "text": [
      "('Epoca 80.', 'lr:', 3.5348305e-06)\n"
     ]
    },
    {
     "name": "stderr",
     "output_type": "stream",
     "text": [
      " 16%|█▋        | 129/792 [00:05<00:28, 22.92it/s]"
     ]
    },
    {
     "name": "stdout",
     "output_type": "stream",
     "text": [
      "\tsaving model 62700...\n"
     ]
    },
    {
     "name": "stderr",
     "output_type": "stream",
     "text": [
      "\n",
      "  0%|          | 0/69 [00:00<?, ?it/s]\u001b[A\n",
      " 12%|#1        | 8/69 [00:00<00:00, 73.10it/s]\u001b[A\n",
      " 19%|#8        | 13/69 [00:00<00:00, 61.92it/s]\u001b[A\n",
      " 28%|##7       | 19/69 [00:00<00:00, 59.79it/s]\u001b[A\n",
      " 35%|###4      | 24/69 [00:00<00:00, 56.14it/s]\u001b[A\n",
      " 43%|####3     | 30/69 [00:00<00:00, 57.09it/s]\u001b[A\n",
      " 51%|#####     | 35/69 [00:00<00:00, 53.15it/s]\u001b[A\n",
      " 59%|#####9    | 41/69 [00:00<00:00, 54.68it/s]\u001b[A\n",
      " 71%|#######1  | 49/69 [00:00<00:00, 58.95it/s]\u001b[A\n",
      " 83%|########2 | 57/69 [00:00<00:00, 63.10it/s]\u001b[A\n",
      " 94%|#########4| 65/69 [00:01<00:00, 66.05it/s]\u001b[A\n",
      " 17%|█▋        | 135/792 [00:07<01:32,  7.11it/s]A"
     ]
    },
    {
     "name": "stdout",
     "output_type": "stream",
     "text": [
      "\tdone\n",
      "Evaluating\n",
      "{'ade': 0.45735112, 'fde': 0.9804351}\n",
      "\t last loss:0.000374621, eval on validation:['ade: 0.45735112', 'fde: 0.9804351'], (best ade:0.4561901 at step 47400) \n"
     ]
    },
    {
     "name": "stderr",
     "output_type": "stream",
     "text": [
      " 54%|█████▍    | 431/792 [00:19<00:15, 22.60it/s]"
     ]
    },
    {
     "name": "stdout",
     "output_type": "stream",
     "text": [
      "\tsaving model 63000...\n"
     ]
    },
    {
     "name": "stderr",
     "output_type": "stream",
     "text": [
      "\n",
      "  0%|          | 0/69 [00:00<?, ?it/s]\u001b[A\n",
      " 10%|#         | 7/69 [00:00<00:00, 68.65it/s]\u001b[A"
     ]
    },
    {
     "name": "stdout",
     "output_type": "stream",
     "text": [
      "\tdone\n",
      "Evaluating\n"
     ]
    },
    {
     "name": "stderr",
     "output_type": "stream",
     "text": [
      "\n",
      " 19%|#8        | 13/69 [00:00<00:00, 62.39it/s]\u001b[A\n",
      " 25%|##4       | 17/69 [00:00<00:01, 51.64it/s]\u001b[A\n",
      " 35%|###4      | 24/69 [00:00<00:00, 55.83it/s]\u001b[A\n",
      " 48%|####7     | 33/69 [00:00<00:00, 62.04it/s]\u001b[A\n",
      " 61%|######    | 42/69 [00:00<00:00, 66.60it/s]\u001b[A\n",
      " 71%|#######1  | 49/69 [00:00<00:00, 53.24it/s]\u001b[A\n",
      " 80%|#######9  | 55/69 [00:01<00:00, 46.47it/s]\u001b[A\n",
      " 87%|########6 | 60/69 [00:01<00:00, 43.21it/s]\u001b[A\n",
      " 94%|#########4| 65/69 [00:01<00:00, 41.11it/s]\u001b[A\n",
      "100%|##########| 69/69 [00:01<00:00, 49.81it/s]\u001b[A"
     ]
    },
    {
     "name": "stdout",
     "output_type": "stream",
     "text": [
      "{'ade': 0.45862293, 'fde': 0.9844498}\n",
      "\t last loss:0.000489377, eval on validation:['ade: 0.45862293', 'fde: 0.9844498'], (best ade:0.4561901 at step 47400) \n"
     ]
    },
    {
     "name": "stderr",
     "output_type": "stream",
     "text": [
      " 92%|█████████▏| 731/792 [00:38<00:02, 25.22it/s]\n",
      "  0%|          | 0/69 [00:00<?, ?it/s]\u001b[A"
     ]
    },
    {
     "name": "stdout",
     "output_type": "stream",
     "text": [
      "\tsaving model 63300...\n",
      "\tdone\n",
      "Evaluating\n"
     ]
    },
    {
     "name": "stderr",
     "output_type": "stream",
     "text": [
      "\n",
      " 13%|#3        | 9/69 [00:00<00:00, 83.10it/s]\u001b[A\n",
      " 23%|##3       | 16/69 [00:00<00:00, 74.98it/s]\u001b[A\n",
      " 33%|###3      | 23/69 [00:00<00:00, 72.36it/s]\u001b[A\n",
      " 42%|####2     | 29/69 [00:00<00:00, 66.29it/s]\u001b[A\n",
      " 52%|#####2    | 36/69 [00:00<00:00, 66.70it/s]\u001b[A\n",
      " 62%|######2   | 43/69 [00:00<00:00, 67.60it/s]\u001b[A\n",
      " 75%|#######5  | 52/69 [00:00<00:00, 71.89it/s]\u001b[A\n",
      " 88%|########8 | 61/69 [00:00<00:00, 75.62it/s]\u001b[A\n",
      " 93%|█████████▎| 734/792 [00:39<00:09,  6.42it/s]A"
     ]
    },
    {
     "name": "stdout",
     "output_type": "stream",
     "text": [
      "{'ade': 0.4589426, 'fde': 0.98481774}\n",
      "\t last loss:0.000221493, eval on validation:['ade: 0.4589426', 'fde: 0.98481774'], (best ade:0.4561901 at step 47400) \n"
     ]
    },
    {
     "name": "stderr",
     "output_type": "stream",
     "text": [
      "100%|██████████| 792/792 [00:42<00:00, 18.58it/s]\n",
      "  0%|          | 2/792 [00:00<00:50, 15.62it/s]"
     ]
    },
    {
     "name": "stdout",
     "output_type": "stream",
     "text": [
      "('Epoca 81.', 'lr:', 3.004606e-06)\n"
     ]
    },
    {
     "name": "stderr",
     "output_type": "stream",
     "text": [
      " 30%|███       | 239/792 [00:10<00:25, 21.63it/s]"
     ]
    },
    {
     "name": "stdout",
     "output_type": "stream",
     "text": [
      "\tsaving model 63600...\n"
     ]
    },
    {
     "name": "stderr",
     "output_type": "stream",
     "text": [
      "\n",
      "  0%|          | 0/69 [00:00<?, ?it/s]\u001b[A\n",
      " 12%|#1        | 8/69 [00:00<00:00, 74.26it/s]\u001b[A"
     ]
    },
    {
     "name": "stdout",
     "output_type": "stream",
     "text": [
      "\tdone\n",
      "Evaluating\n"
     ]
    },
    {
     "name": "stderr",
     "output_type": "stream",
     "text": [
      "\n",
      " 19%|#8        | 13/69 [00:00<00:00, 61.00it/s]\u001b[A\n",
      " 26%|##6       | 18/69 [00:00<00:00, 56.39it/s]\u001b[A\n",
      " 33%|###3      | 23/69 [00:00<00:00, 54.07it/s]\u001b[A\n",
      " 42%|####2     | 29/69 [00:00<00:00, 55.02it/s]\u001b[A\n",
      " 52%|#####2    | 36/69 [00:00<00:00, 57.30it/s]\u001b[A\n",
      " 64%|######3   | 44/69 [00:00<00:00, 61.43it/s]\u001b[A\n",
      " 74%|#######3  | 51/69 [00:00<00:00, 62.43it/s]\u001b[A\n",
      " 84%|########4 | 58/69 [00:00<00:00, 64.44it/s]\u001b[A\n",
      " 96%|#########5| 66/69 [00:01<00:00, 66.84it/s]\u001b[A\n",
      " 31%|███       | 242/792 [00:12<01:40,  5.48it/s]A"
     ]
    },
    {
     "name": "stdout",
     "output_type": "stream",
     "text": [
      "{'ade': 0.4579269, 'fde': 0.9823971}\n",
      "\t last loss:0.000338435, eval on validation:['ade: 0.4579269', 'fde: 0.9823971'], (best ade:0.4561901 at step 47400) \n"
     ]
    },
    {
     "name": "stderr",
     "output_type": "stream",
     "text": [
      " 68%|██████▊   | 537/792 [00:24<00:10, 23.68it/s]"
     ]
    },
    {
     "name": "stdout",
     "output_type": "stream",
     "text": [
      "\tsaving model 63900...\n"
     ]
    },
    {
     "name": "stderr",
     "output_type": "stream",
     "text": [
      "\n",
      "  0%|          | 0/69 [00:00<?, ?it/s]\u001b[A\n",
      " 12%|#1        | 8/69 [00:00<00:00, 78.49it/s]\u001b[A\n",
      " 22%|##1       | 15/69 [00:00<00:00, 72.54it/s]\u001b[A\n",
      " 33%|###3      | 23/69 [00:00<00:00, 74.12it/s]\u001b[A\n",
      " 46%|####6     | 32/69 [00:00<00:00, 76.10it/s]\u001b[A\n",
      " 58%|#####7    | 40/69 [00:00<00:00, 75.04it/s]\u001b[A\n",
      " 70%|######9   | 48/69 [00:00<00:00, 75.81it/s]\u001b[A\n",
      " 81%|########1 | 56/69 [00:00<00:00, 76.32it/s]\u001b[A\n",
      " 93%|#########2| 64/69 [00:00<00:00, 75.90it/s]\u001b[A\n",
      "100%|##########| 69/69 [00:00<00:00, 74.87it/s]\u001b[A"
     ]
    },
    {
     "name": "stdout",
     "output_type": "stream",
     "text": [
      "\tdone\n",
      "Evaluating\n",
      "{'ade': 0.45612139, 'fde': 0.97692084}\n",
      "\t last loss:0.000269866, eval on validation:['ade: 0.45612139', 'fde: 0.97692084'], (best ade:0.4561901 at step 47400) \n",
      "\t saving best model...\n"
     ]
    },
    {
     "name": "stderr",
     "output_type": "stream",
     "text": [
      "100%|██████████| 792/792 [00:37<00:00, 21.02it/s]\n",
      "  0%|          | 1/792 [00:00<01:34,  8.39it/s]"
     ]
    },
    {
     "name": "stdout",
     "output_type": "stream",
     "text": [
      "\t done.\n",
      "('Epoca 82.', 'lr:', 3.004606e-06)\n"
     ]
    },
    {
     "name": "stderr",
     "output_type": "stream",
     "text": [
      "  6%|▌         | 46/792 [00:01<00:30, 24.32it/s]"
     ]
    },
    {
     "name": "stdout",
     "output_type": "stream",
     "text": [
      "\tsaving model 64200...\n"
     ]
    },
    {
     "name": "stderr",
     "output_type": "stream",
     "text": [
      "\n",
      "  0%|          | 0/69 [00:00<?, ?it/s]\u001b[A\n",
      " 13%|#3        | 9/69 [00:00<00:00, 81.96it/s]\u001b[A\n",
      " 22%|##1       | 15/69 [00:00<00:00, 72.92it/s]\u001b[A\n",
      " 32%|###1      | 22/69 [00:00<00:00, 70.05it/s]\u001b[A\n",
      " 41%|####      | 28/69 [00:00<00:00, 65.05it/s]\u001b[A\n",
      " 52%|#####2    | 36/69 [00:00<00:00, 67.24it/s]\u001b[A\n",
      " 64%|######3   | 44/69 [00:00<00:00, 68.76it/s]\u001b[A\n",
      " 75%|#######5  | 52/69 [00:00<00:00, 71.44it/s]\u001b[A\n",
      " 88%|########8 | 61/69 [00:00<00:00, 74.23it/s]\u001b[A\n",
      "  6%|▌         | 49/792 [00:03<01:59,  6.23it/s][A"
     ]
    },
    {
     "name": "stdout",
     "output_type": "stream",
     "text": [
      "\tdone\n",
      "Evaluating\n",
      "{'ade': 0.4586081, 'fde': 0.9840305}\n",
      "\t last loss:0.000252879, eval on validation:['ade: 0.4586081', 'fde: 0.9840305'], (best ade:0.45612139 at step 63900) \n"
     ]
    },
    {
     "name": "stderr",
     "output_type": "stream",
     "text": [
      " 44%|████▎     | 346/792 [00:15<00:18, 24.69it/s]"
     ]
    },
    {
     "name": "stdout",
     "output_type": "stream",
     "text": [
      "\tsaving model 64500...\n"
     ]
    },
    {
     "name": "stderr",
     "output_type": "stream",
     "text": [
      "\n",
      "  0%|          | 0/69 [00:00<?, ?it/s]\u001b[A\n",
      " 13%|#3        | 9/69 [00:00<00:00, 78.16it/s]\u001b[A\n",
      " 22%|##1       | 15/69 [00:00<00:00, 69.06it/s]\u001b[A\n",
      " 30%|###       | 21/69 [00:00<00:00, 63.90it/s]\u001b[A\n",
      " 41%|####      | 28/69 [00:00<00:00, 64.39it/s]\u001b[A\n",
      " 51%|#####     | 35/69 [00:00<00:00, 63.40it/s]\u001b[A\n",
      " 64%|######3   | 44/69 [00:00<00:00, 68.21it/s]\u001b[A\n",
      " 77%|#######6  | 53/69 [00:00<00:00, 72.29it/s]\u001b[A\n",
      " 90%|########9 | 62/69 [00:00<00:00, 75.15it/s]\u001b[A\n",
      " 44%|████▍     | 351/792 [00:16<00:56,  7.80it/s]A"
     ]
    },
    {
     "name": "stdout",
     "output_type": "stream",
     "text": [
      "\tdone\n",
      "Evaluating\n",
      "{'ade': 0.45714006, 'fde': 0.980067}\n",
      "\t last loss:0.000302790, eval on validation:['ade: 0.45714006', 'fde: 0.980067'], (best ade:0.45612139 at step 63900) \n"
     ]
    },
    {
     "name": "stderr",
     "output_type": "stream",
     "text": [
      " 82%|████████▏ | 646/792 [00:30<00:05, 24.54it/s]\n",
      "  0%|          | 0/69 [00:00<?, ?it/s]"
     ]
    },
    {
     "name": "stdout",
     "output_type": "stream",
     "text": [
      "\tsaving model 64800...\n",
      "\tdone\n",
      "Evaluating\n"
     ]
    },
    {
     "name": "stderr",
     "output_type": "stream",
     "text": [
      "\u001b[A\n",
      " 12%|#1        | 8/69 [00:00<00:00, 79.64it/s]\u001b[A\n",
      " 23%|##3       | 16/69 [00:00<00:00, 76.90it/s]\u001b[A\n",
      " 33%|###3      | 23/69 [00:00<00:00, 73.75it/s]\u001b[A\n",
      " 46%|####6     | 32/69 [00:00<00:00, 76.46it/s]\u001b[A\n",
      " 58%|#####7    | 40/69 [00:00<00:00, 76.89it/s]\u001b[A\n",
      " 68%|######8   | 47/69 [00:00<00:00, 73.90it/s]\u001b[A\n",
      " 81%|########1 | 56/69 [00:00<00:00, 76.30it/s]\u001b[A\n",
      " 93%|#########2| 64/69 [00:00<00:00, 76.30it/s]\u001b[A\n",
      " 82%|████████▏ | 649/792 [00:31<00:22,  6.40it/s]A"
     ]
    },
    {
     "name": "stdout",
     "output_type": "stream",
     "text": [
      "{'ade': 0.4577406, 'fde': 0.9818155}\n",
      "\t last loss:0.000350620, eval on validation:['ade: 0.4577406', 'fde: 0.9818155'], (best ade:0.45612139 at step 63900) \n"
     ]
    },
    {
     "name": "stderr",
     "output_type": "stream",
     "text": [
      "100%|██████████| 792/792 [00:37<00:00, 21.37it/s]\n",
      "  0%|          | 2/792 [00:00<00:43, 18.11it/s]"
     ]
    },
    {
     "name": "stdout",
     "output_type": "stream",
     "text": [
      "('Epoca 83.', 'lr:', 2.5539152e-06)\n"
     ]
    },
    {
     "name": "stderr",
     "output_type": "stream",
     "text": [
      " 20%|█▉        | 155/792 [00:06<00:30, 20.56it/s]"
     ]
    },
    {
     "name": "stdout",
     "output_type": "stream",
     "text": [
      "\tsaving model 65100...\n"
     ]
    },
    {
     "name": "stderr",
     "output_type": "stream",
     "text": [
      "\n",
      "  0%|          | 0/69 [00:00<?, ?it/s]\u001b[A\n",
      " 10%|#         | 7/69 [00:00<00:01, 60.96it/s]\u001b[A"
     ]
    },
    {
     "name": "stdout",
     "output_type": "stream",
     "text": [
      "\tdone\n",
      "Evaluating\n"
     ]
    },
    {
     "name": "stderr",
     "output_type": "stream",
     "text": [
      "\n",
      " 17%|#7        | 12/69 [00:00<00:01, 54.38it/s]\u001b[A\n",
      " 23%|##3       | 16/69 [00:00<00:01, 46.42it/s]\u001b[A\n",
      " 32%|###1      | 22/69 [00:00<00:00, 48.24it/s]\u001b[A\n",
      " 42%|####2     | 29/69 [00:00<00:00, 52.80it/s]\u001b[A\n",
      " 51%|#####     | 35/69 [00:00<00:00, 53.73it/s]\u001b[A\n",
      " 62%|######2   | 43/69 [00:00<00:00, 58.63it/s]\u001b[A\n",
      " 72%|#######2  | 50/69 [00:00<00:00, 60.66it/s]\u001b[A\n",
      " 84%|########4 | 58/69 [00:00<00:00, 64.07it/s]\u001b[A\n",
      " 96%|#########5| 66/69 [00:01<00:00, 66.53it/s]\u001b[A\n",
      " 20%|█▉        | 158/792 [00:08<02:00,  5.27it/s]A"
     ]
    },
    {
     "name": "stdout",
     "output_type": "stream",
     "text": [
      "{'ade': 0.45747405, 'fde': 0.98113185}\n",
      "\t last loss:0.000236430, eval on validation:['ade: 0.45747405', 'fde: 0.98113185'], (best ade:0.45612139 at step 63900) \n"
     ]
    },
    {
     "name": "stderr",
     "output_type": "stream",
     "text": [
      " 57%|█████▋    | 455/792 [00:21<00:16, 20.12it/s]"
     ]
    },
    {
     "name": "stdout",
     "output_type": "stream",
     "text": [
      "\tsaving model 65400...\n"
     ]
    },
    {
     "name": "stderr",
     "output_type": "stream",
     "text": [
      "\n",
      "  0%|          | 0/69 [00:00<?, ?it/s]\u001b[A\n",
      " 12%|#1        | 8/69 [00:00<00:00, 79.30it/s]\u001b[A"
     ]
    },
    {
     "name": "stdout",
     "output_type": "stream",
     "text": [
      "\tdone\n",
      "Evaluating\n"
     ]
    },
    {
     "name": "stderr",
     "output_type": "stream",
     "text": [
      "\n",
      " 22%|##1       | 15/69 [00:00<00:00, 72.20it/s]\u001b[A\n",
      " 32%|###1      | 22/69 [00:00<00:00, 69.80it/s]\u001b[A\n",
      " 41%|####      | 28/69 [00:00<00:00, 65.19it/s]\u001b[A\n",
      " 52%|#####2    | 36/69 [00:00<00:00, 68.05it/s]\u001b[A\n",
      " 62%|######2   | 43/69 [00:00<00:00, 66.87it/s]\u001b[A\n",
      " 75%|#######5  | 52/69 [00:00<00:00, 71.05it/s]\u001b[A\n",
      " 87%|########6 | 60/69 [00:00<00:00, 72.42it/s]\u001b[A\n",
      " 99%|#########8| 68/69 [00:00<00:00, 74.51it/s]\u001b[A\n",
      " 58%|█████▊    | 458/792 [00:22<00:56,  5.93it/s]A"
     ]
    },
    {
     "name": "stdout",
     "output_type": "stream",
     "text": [
      "{'ade': 0.4568893, 'fde': 0.97945476}\n",
      "\t last loss:0.000414798, eval on validation:['ade: 0.4568893', 'fde: 0.97945476'], (best ade:0.45612139 at step 63900) \n"
     ]
    },
    {
     "name": "stderr",
     "output_type": "stream",
     "text": [
      " 95%|█████████▌| 755/792 [00:35<00:01, 22.79it/s]"
     ]
    },
    {
     "name": "stdout",
     "output_type": "stream",
     "text": [
      "\tsaving model 65700...\n"
     ]
    },
    {
     "name": "stderr",
     "output_type": "stream",
     "text": [
      "\n",
      "  0%|          | 0/69 [00:00<?, ?it/s]\u001b[A\n",
      " 13%|#3        | 9/69 [00:00<00:00, 82.62it/s]\u001b[A"
     ]
    },
    {
     "name": "stdout",
     "output_type": "stream",
     "text": [
      "\tdone\n",
      "Evaluating\n"
     ]
    },
    {
     "name": "stderr",
     "output_type": "stream",
     "text": [
      "\n",
      " 25%|##4       | 17/69 [00:00<00:00, 77.75it/s]\u001b[A\n",
      " 32%|###1      | 22/69 [00:00<00:00, 66.17it/s]\u001b[A\n",
      " 39%|###9      | 27/69 [00:00<00:00, 58.16it/s]\u001b[A\n",
      " 48%|####7     | 33/69 [00:00<00:00, 55.29it/s]\u001b[A\n",
      " 55%|#####5    | 38/69 [00:00<00:00, 47.18it/s]\u001b[A\n",
      " 62%|######2   | 43/69 [00:00<00:00, 46.16it/s]\u001b[A\n",
      " 72%|#######2  | 50/69 [00:00<00:00, 51.06it/s]\u001b[A\n",
      " 81%|########1 | 56/69 [00:01<00:00, 53.26it/s]\u001b[A\n",
      " 91%|#########1| 63/69 [00:01<00:00, 57.05it/s]\u001b[A\n",
      "100%|##########| 69/69 [00:01<00:00, 56.95it/s]\u001b[A"
     ]
    },
    {
     "name": "stdout",
     "output_type": "stream",
     "text": [
      "{'ade': 0.45791733, 'fde': 0.9821382}\n",
      "\t last loss:0.000332742, eval on validation:['ade: 0.45791733', 'fde: 0.9821382'], (best ade:0.45612139 at step 63900) \n"
     ]
    },
    {
     "name": "stderr",
     "output_type": "stream",
     "text": [
      "100%|██████████| 792/792 [00:38<00:00, 20.38it/s]\n",
      "  0%|          | 1/792 [00:00<01:22,  9.56it/s]"
     ]
    },
    {
     "name": "stdout",
     "output_type": "stream",
     "text": [
      "('Epoca 84.', 'lr:', 2.5539152e-06)\n"
     ]
    },
    {
     "name": "stderr",
     "output_type": "stream",
     "text": [
      " 33%|███▎      | 262/792 [00:10<00:21, 24.48it/s]\n",
      "  0%|          | 0/69 [00:00<?, ?it/s]"
     ]
    },
    {
     "name": "stdout",
     "output_type": "stream",
     "text": [
      "\tsaving model 66000...\n",
      "\tdone\n",
      "Evaluating\n"
     ]
    },
    {
     "name": "stderr",
     "output_type": "stream",
     "text": [
      "\u001b[A\n",
      " 13%|#3        | 9/69 [00:00<00:00, 78.76it/s]\u001b[A\n",
      " 23%|##3       | 16/69 [00:00<00:00, 72.84it/s]\u001b[A\n",
      " 32%|###1      | 22/69 [00:00<00:00, 67.04it/s]\u001b[A\n",
      " 41%|####      | 28/69 [00:00<00:00, 63.18it/s]\u001b[A\n",
      " 54%|#####3    | 37/69 [00:00<00:00, 68.10it/s]\u001b[A\n",
      " 65%|######5   | 45/69 [00:00<00:00, 70.50it/s]\u001b[A\n",
      " 77%|#######6  | 53/69 [00:00<00:00, 71.74it/s]\u001b[A\n",
      " 88%|########8 | 61/69 [00:00<00:00, 73.61it/s]\u001b[A\n",
      " 33%|███▎      | 265/792 [00:12<01:24,  6.27it/s]A"
     ]
    },
    {
     "name": "stdout",
     "output_type": "stream",
     "text": [
      "{'ade': 0.45812723, 'fde': 0.9823575}\n",
      "\t last loss:0.000322576, eval on validation:['ade: 0.45812723', 'fde: 0.9823575'], (best ade:0.45612139 at step 63900) \n"
     ]
    },
    {
     "name": "stderr",
     "output_type": "stream",
     "text": [
      " 71%|███████   | 563/792 [00:25<00:08, 25.82it/s]\n",
      "  0%|          | 0/69 [00:00<?, ?it/s]\u001b[A"
     ]
    },
    {
     "name": "stdout",
     "output_type": "stream",
     "text": [
      "\tsaving model 66300...\n",
      "\tdone\n",
      "Evaluating\n"
     ]
    },
    {
     "name": "stderr",
     "output_type": "stream",
     "text": [
      "\n",
      " 13%|#3        | 9/69 [00:00<00:00, 84.27it/s]\u001b[A\n",
      " 25%|##4       | 17/69 [00:00<00:00, 80.14it/s]\u001b[A\n",
      " 35%|###4      | 24/69 [00:00<00:00, 75.17it/s]\u001b[A\n",
      " 45%|####4     | 31/69 [00:00<00:00, 71.58it/s]\u001b[A\n",
      " 58%|#####7    | 40/69 [00:00<00:00, 76.10it/s]\u001b[A\n",
      " 68%|######8   | 47/69 [00:00<00:00, 72.54it/s]\u001b[A\n",
      " 83%|########2 | 57/69 [00:00<00:00, 77.30it/s]\u001b[A\n",
      " 97%|#########7| 67/69 [00:00<00:00, 81.16it/s]\u001b[A\n",
      " 71%|███████▏  | 566/792 [00:26<00:33,  6.79it/s]A"
     ]
    },
    {
     "name": "stdout",
     "output_type": "stream",
     "text": [
      "{'ade': 0.4571112, 'fde': 0.97964215}\n",
      "\t last loss:0.000270297, eval on validation:['ade: 0.4571112', 'fde: 0.97964215'], (best ade:0.45612139 at step 63900) \n"
     ]
    },
    {
     "name": "stderr",
     "output_type": "stream",
     "text": [
      "100%|██████████| 792/792 [00:36<00:00, 21.98it/s]\n",
      "  0%|          | 3/792 [00:00<00:34, 23.11it/s]"
     ]
    },
    {
     "name": "stdout",
     "output_type": "stream",
     "text": [
      "('Epoca 85.', 'lr:', 2.170828e-06)\n"
     ]
    },
    {
     "name": "stderr",
     "output_type": "stream",
     "text": [
      "  9%|▉         | 70/792 [00:03<00:35, 20.13it/s]"
     ]
    },
    {
     "name": "stdout",
     "output_type": "stream",
     "text": [
      "\tsaving model 66600...\n"
     ]
    },
    {
     "name": "stderr",
     "output_type": "stream",
     "text": [
      "\n",
      "  0%|          | 0/69 [00:00<?, ?it/s]\u001b[A\n",
      " 10%|#         | 7/69 [00:00<00:01, 61.58it/s]\u001b[A"
     ]
    },
    {
     "name": "stdout",
     "output_type": "stream",
     "text": [
      "\tdone\n",
      "Evaluating\n"
     ]
    },
    {
     "name": "stderr",
     "output_type": "stream",
     "text": [
      "\n",
      " 16%|#5        | 11/69 [00:00<00:01, 52.99it/s]\u001b[A\n",
      " 22%|##1       | 15/69 [00:00<00:01, 48.06it/s]\u001b[A\n",
      " 28%|##7       | 19/69 [00:00<00:01, 43.48it/s]\u001b[A\n",
      " 36%|###6      | 25/69 [00:00<00:00, 46.64it/s]\u001b[A\n",
      " 43%|####3     | 30/69 [00:00<00:00, 46.59it/s]\u001b[A\n",
      " 54%|#####3    | 37/69 [00:00<00:00, 50.72it/s]\u001b[A\n",
      " 64%|######3   | 44/69 [00:00<00:00, 54.30it/s]\u001b[A\n",
      " 74%|#######3  | 51/69 [00:00<00:00, 56.44it/s]\u001b[A\n",
      " 84%|########4 | 58/69 [00:01<00:00, 58.65it/s]\u001b[A\n",
      " 94%|#########4| 65/69 [00:01<00:00, 59.90it/s]\u001b[A\n",
      "  9%|▉         | 73/792 [00:04<02:25,  4.95it/s][A"
     ]
    },
    {
     "name": "stdout",
     "output_type": "stream",
     "text": [
      "{'ade': 0.45753908, 'fde': 0.9812767}\n",
      "\t last loss:0.000325105, eval on validation:['ade: 0.45753908', 'fde: 0.9812767'], (best ade:0.45612139 at step 63900) \n"
     ]
    },
    {
     "name": "stderr",
     "output_type": "stream",
     "text": [
      " 47%|████▋     | 369/792 [00:17<00:16, 25.05it/s]\n"
     ]
    },
    {
     "name": "stdout",
     "output_type": "stream",
     "text": [
      "\tsaving model 66900...\n",
      "\tdone\n",
      "Evaluating\n"
     ]
    },
    {
     "name": "stderr",
     "output_type": "stream",
     "text": [
      "  0%|          | 0/69 [00:00<?, ?it/s]\u001b[A\n",
      " 12%|#1        | 8/69 [00:00<00:00, 79.14it/s]\u001b[A\n",
      " 20%|##        | 14/69 [00:00<00:00, 70.32it/s]\u001b[A\n",
      " 29%|##8       | 20/69 [00:00<00:00, 63.60it/s]\u001b[A\n",
      " 39%|###9      | 27/69 [00:00<00:00, 63.56it/s]\u001b[A\n",
      " 51%|#####     | 35/69 [00:00<00:00, 66.27it/s]\u001b[A\n",
      " 62%|######2   | 43/69 [00:00<00:00, 68.45it/s]\u001b[A\n",
      " 75%|#######5  | 52/69 [00:00<00:00, 72.19it/s]\u001b[A\n",
      " 87%|########6 | 60/69 [00:00<00:00, 73.15it/s]\u001b[A\n",
      " 47%|████▋     | 375/792 [00:18<00:51,  8.07it/s]A"
     ]
    },
    {
     "name": "stdout",
     "output_type": "stream",
     "text": [
      "{'ade': 0.4579488, 'fde': 0.982076}\n",
      "\t last loss:0.000472047, eval on validation:['ade: 0.4579488', 'fde: 0.982076'], (best ade:0.45612139 at step 63900) \n"
     ]
    },
    {
     "name": "stderr",
     "output_type": "stream",
     "text": [
      " 84%|████████▍ | 669/792 [00:31<00:05, 22.42it/s]"
     ]
    },
    {
     "name": "stdout",
     "output_type": "stream",
     "text": [
      "\tsaving model 67200...\n"
     ]
    },
    {
     "name": "stderr",
     "output_type": "stream",
     "text": [
      "\n",
      "  0%|          | 0/69 [00:00<?, ?it/s]\u001b[A\n",
      " 10%|#         | 7/69 [00:00<00:00, 63.03it/s]\u001b[A"
     ]
    },
    {
     "name": "stdout",
     "output_type": "stream",
     "text": [
      "\tdone\n",
      "Evaluating\n"
     ]
    },
    {
     "name": "stderr",
     "output_type": "stream",
     "text": [
      "\n",
      " 19%|#8        | 13/69 [00:00<00:00, 59.57it/s]\u001b[A\n",
      " 26%|##6       | 18/69 [00:00<00:00, 55.89it/s]\u001b[A\n",
      " 33%|###3      | 23/69 [00:00<00:00, 53.04it/s]\u001b[A\n",
      " 43%|####3     | 30/69 [00:00<00:00, 55.76it/s]\u001b[A\n",
      " 52%|#####2    | 36/69 [00:00<00:00, 56.43it/s]\u001b[A\n",
      " 64%|######3   | 44/69 [00:00<00:00, 60.49it/s]\u001b[A\n",
      " 77%|#######6  | 53/69 [00:00<00:00, 65.98it/s]\u001b[A\n",
      " 88%|########8 | 61/69 [00:00<00:00, 69.12it/s]\u001b[A\n",
      " 85%|████████▌ | 675/792 [00:33<00:15,  7.44it/s]A"
     ]
    },
    {
     "name": "stdout",
     "output_type": "stream",
     "text": [
      "{'ade': 0.4572729, 'fde': 0.9804957}\n",
      "\t last loss:0.000255342, eval on validation:['ade: 0.4572729', 'fde: 0.9804957'], (best ade:0.45612139 at step 63900) \n"
     ]
    },
    {
     "name": "stderr",
     "output_type": "stream",
     "text": [
      "100%|██████████| 792/792 [00:38<00:00, 25.57it/s]\n",
      "  0%|          | 1/792 [00:00<01:26,  9.11it/s]"
     ]
    },
    {
     "name": "stdout",
     "output_type": "stream",
     "text": [
      "('Epoca 86.', 'lr:', 2.170828e-06)\n"
     ]
    },
    {
     "name": "stderr",
     "output_type": "stream",
     "text": [
      " 22%|██▏       | 178/792 [00:07<00:25, 24.46it/s]"
     ]
    },
    {
     "name": "stdout",
     "output_type": "stream",
     "text": [
      "\tsaving model 67500...\n"
     ]
    },
    {
     "name": "stderr",
     "output_type": "stream",
     "text": [
      "\n",
      "  0%|          | 0/69 [00:00<?, ?it/s]\u001b[A\n",
      " 12%|#1        | 8/69 [00:00<00:00, 79.74it/s]\u001b[A\n",
      " 25%|##4       | 17/69 [00:00<00:00, 80.49it/s]\u001b[A\n",
      " 35%|###4      | 24/69 [00:00<00:00, 74.08it/s]\u001b[A\n",
      " 45%|####4     | 31/69 [00:00<00:00, 70.93it/s]\u001b[A\n",
      " 54%|#####3    | 37/69 [00:00<00:00, 64.82it/s]\u001b[A\n",
      " 65%|######5   | 45/69 [00:00<00:00, 67.50it/s]\u001b[A\n",
      " 75%|#######5  | 52/69 [00:00<00:00, 67.70it/s]\u001b[A\n",
      " 88%|########8 | 61/69 [00:00<00:00, 71.62it/s]\u001b[A\n",
      " 23%|██▎       | 181/792 [00:08<01:38,  6.23it/s]A"
     ]
    },
    {
     "name": "stdout",
     "output_type": "stream",
     "text": [
      "\tdone\n",
      "Evaluating\n",
      "{'ade': 0.45761693, 'fde': 0.98132676}\n",
      "\t last loss:0.001045123, eval on validation:['ade: 0.45761693', 'fde: 0.98132676'], (best ade:0.45612139 at step 63900) \n"
     ]
    },
    {
     "name": "stderr",
     "output_type": "stream",
     "text": [
      " 60%|██████    | 479/792 [00:22<00:12, 24.34it/s]\n",
      "  0%|          | 0/69 [00:00<?, ?it/s]"
     ]
    },
    {
     "name": "stdout",
     "output_type": "stream",
     "text": [
      "\tsaving model 67800...\n",
      "\tdone\n",
      "Evaluating\n"
     ]
    },
    {
     "name": "stderr",
     "output_type": "stream",
     "text": [
      "\u001b[A\n",
      " 12%|#1        | 8/69 [00:00<00:00, 79.19it/s]\u001b[A\n",
      " 20%|##        | 14/69 [00:00<00:00, 72.17it/s]\u001b[A\n",
      " 30%|###       | 21/69 [00:00<00:00, 68.69it/s]\u001b[A\n",
      " 39%|###9      | 27/69 [00:00<00:00, 65.30it/s]\u001b[A\n",
      " 54%|#####3    | 37/69 [00:00<00:00, 71.60it/s]\u001b[A\n",
      " 67%|######6   | 46/69 [00:00<00:00, 73.99it/s]\u001b[A\n",
      " 78%|#######8  | 54/69 [00:00<00:00, 75.64it/s]\u001b[A\n",
      " 93%|#########2| 64/69 [00:00<00:00, 79.65it/s]\u001b[A\n",
      " 61%|██████    | 482/792 [00:23<00:47,  6.54it/s]A"
     ]
    },
    {
     "name": "stdout",
     "output_type": "stream",
     "text": [
      "{'ade': 0.45724037, 'fde': 0.98048145}\n",
      "\t last loss:0.000330113, eval on validation:['ade: 0.45724037', 'fde: 0.98048145'], (best ade:0.45612139 at step 63900) \n"
     ]
    },
    {
     "name": "stderr",
     "output_type": "stream",
     "text": [
      " 98%|█████████▊| 779/792 [00:35<00:00, 20.81it/s]"
     ]
    },
    {
     "name": "stdout",
     "output_type": "stream",
     "text": [
      "\tsaving model 68100...\n"
     ]
    },
    {
     "name": "stderr",
     "output_type": "stream",
     "text": [
      "\n",
      "  0%|          | 0/69 [00:00<?, ?it/s]\u001b[A\n",
      "  9%|8         | 6/69 [00:00<00:01, 55.12it/s]\u001b[A"
     ]
    },
    {
     "name": "stdout",
     "output_type": "stream",
     "text": [
      "\tdone\n",
      "Evaluating\n"
     ]
    },
    {
     "name": "stderr",
     "output_type": "stream",
     "text": [
      "\n",
      " 16%|#5        | 11/69 [00:00<00:01, 51.61it/s]\u001b[A\n",
      " 23%|##3       | 16/69 [00:00<00:01, 48.83it/s]\u001b[A\n",
      " 30%|###       | 21/69 [00:00<00:00, 48.64it/s]\u001b[A\n",
      " 39%|###9      | 27/69 [00:00<00:00, 50.31it/s]\u001b[A\n",
      " 49%|####9     | 34/69 [00:00<00:00, 53.93it/s]\u001b[A\n",
      " 58%|#####7    | 40/69 [00:00<00:00, 55.50it/s]\u001b[A\n",
      " 67%|######6   | 46/69 [00:00<00:00, 56.21it/s]\u001b[A\n",
      " 77%|#######6  | 53/69 [00:00<00:00, 58.00it/s]\u001b[A\n",
      " 87%|########6 | 60/69 [00:01<00:00, 60.37it/s]\u001b[A\n",
      " 97%|#########7| 67/69 [00:01<00:00, 62.00it/s]\u001b[A\n",
      " 99%|█████████▊| 782/792 [00:37<00:01,  5.02it/s]A"
     ]
    },
    {
     "name": "stdout",
     "output_type": "stream",
     "text": [
      "{'ade': 0.458177, 'fde': 0.9830291}\n",
      "\t last loss:0.000324011, eval on validation:['ade: 0.458177', 'fde: 0.9830291'], (best ade:0.45612139 at step 63900) \n"
     ]
    },
    {
     "name": "stderr",
     "output_type": "stream",
     "text": [
      "100%|██████████| 792/792 [00:38<00:00, 13.04it/s]\n",
      "  0%|          | 2/792 [00:00<00:43, 18.24it/s]"
     ]
    },
    {
     "name": "stdout",
     "output_type": "stream",
     "text": [
      "('Epoca 87.', 'lr:', 1.8452038e-06)\n"
     ]
    },
    {
     "name": "stderr",
     "output_type": "stream",
     "text": [
      " 36%|███▌      | 285/792 [00:12<00:19, 25.59it/s]\n",
      "  0%|          | 0/69 [00:00<?, ?it/s]"
     ]
    },
    {
     "name": "stdout",
     "output_type": "stream",
     "text": [
      "\tsaving model 68400...\n",
      "\tdone\n",
      "Evaluating\n"
     ]
    },
    {
     "name": "stderr",
     "output_type": "stream",
     "text": [
      "\u001b[A\n",
      " 13%|#3        | 9/69 [00:00<00:00, 78.42it/s]\u001b[A\n",
      " 22%|##1       | 15/69 [00:00<00:00, 71.03it/s]\u001b[A\n",
      " 30%|###       | 21/69 [00:00<00:00, 64.51it/s]\u001b[A\n",
      " 41%|####      | 28/69 [00:00<00:00, 65.60it/s]\u001b[A\n",
      " 54%|#####3    | 37/69 [00:00<00:00, 69.97it/s]\u001b[A\n",
      " 64%|######3   | 44/69 [00:00<00:00, 68.65it/s]\u001b[A\n",
      " 75%|#######5  | 52/69 [00:00<00:00, 71.19it/s]\u001b[A\n",
      " 87%|########6 | 60/69 [00:00<00:00, 72.87it/s]\u001b[A\n",
      " 37%|███▋      | 291/792 [00:14<01:01,  8.08it/s]A"
     ]
    },
    {
     "name": "stdout",
     "output_type": "stream",
     "text": [
      "{'ade': 0.45714957, 'fde': 0.9799947}\n",
      "\t last loss:0.000309196, eval on validation:['ade: 0.45714957', 'fde: 0.9799947'], (best ade:0.45612139 at step 63900) \n"
     ]
    },
    {
     "name": "stderr",
     "output_type": "stream",
     "text": [
      " 74%|███████▍  | 585/792 [00:27<00:09, 22.76it/s]"
     ]
    },
    {
     "name": "stdout",
     "output_type": "stream",
     "text": [
      "\tsaving model 68700...\n"
     ]
    },
    {
     "name": "stderr",
     "output_type": "stream",
     "text": [
      "\n",
      "  0%|          | 0/69 [00:00<?, ?it/s]\u001b[A\n",
      " 10%|#         | 7/69 [00:00<00:00, 66.48it/s]\u001b[A\n",
      " 17%|#7        | 12/69 [00:00<00:00, 60.44it/s]\u001b[A\n",
      " 25%|##4       | 17/69 [00:00<00:00, 56.12it/s]\u001b[A\n",
      " 32%|###1      | 22/69 [00:00<00:00, 54.11it/s]\u001b[A\n",
      " 42%|####2     | 29/69 [00:00<00:00, 56.94it/s]\u001b[A\n",
      " 52%|#####2    | 36/69 [00:00<00:00, 58.76it/s]\u001b[A\n",
      " 64%|######3   | 44/69 [00:00<00:00, 62.53it/s]\u001b[A\n",
      " 75%|#######5  | 52/69 [00:00<00:00, 65.32it/s]\u001b[A\n",
      " 87%|########6 | 60/69 [00:00<00:00, 67.83it/s]\u001b[A\n",
      " 99%|#########8| 68/69 [00:01<00:00, 69.60it/s]\u001b[A\n",
      " 75%|███████▍  | 591/792 [00:28<00:27,  7.35it/s]A"
     ]
    },
    {
     "name": "stdout",
     "output_type": "stream",
     "text": [
      "\tdone\n",
      "Evaluating\n",
      "{'ade': 0.45731708, 'fde': 0.98037016}\n",
      "\t last loss:0.000682788, eval on validation:['ade: 0.45731708', 'fde: 0.98037016'], (best ade:0.45612139 at step 63900) \n"
     ]
    },
    {
     "name": "stderr",
     "output_type": "stream",
     "text": [
      "100%|██████████| 792/792 [00:37<00:00, 24.70it/s]\n",
      "  0%|          | 2/792 [00:00<00:46, 16.83it/s]"
     ]
    },
    {
     "name": "stdout",
     "output_type": "stream",
     "text": [
      "('Epoca 88.', 'lr:', 1.8452038e-06)\n"
     ]
    },
    {
     "name": "stderr",
     "output_type": "stream",
     "text": [
      " 12%|█▏        | 95/792 [00:04<00:28, 24.15it/s]\n",
      "  0%|          | 0/69 [00:00<?, ?it/s]"
     ]
    },
    {
     "name": "stdout",
     "output_type": "stream",
     "text": [
      "\tsaving model 69000...\n",
      "\tdone\n",
      "Evaluating\n"
     ]
    },
    {
     "name": "stderr",
     "output_type": "stream",
     "text": [
      "\u001b[A\n",
      " 13%|#3        | 9/69 [00:00<00:00, 82.85it/s]\u001b[A\n",
      " 23%|##3       | 16/69 [00:00<00:00, 74.57it/s]\u001b[A\n",
      " 32%|###1      | 22/69 [00:00<00:00, 68.85it/s]\u001b[A\n",
      " 41%|####      | 28/69 [00:00<00:00, 65.27it/s]\u001b[A\n",
      " 54%|#####3    | 37/69 [00:00<00:00, 68.86it/s]\u001b[A\n",
      " 62%|######2   | 43/69 [00:00<00:00, 65.11it/s]\u001b[A\n",
      " 75%|#######5  | 52/69 [00:00<00:00, 69.69it/s]\u001b[A\n",
      " 87%|########6 | 60/69 [00:00<00:00, 72.44it/s]\u001b[A\n",
      " 12%|█▏        | 98/792 [00:05<01:50,  6.28it/s][A"
     ]
    },
    {
     "name": "stdout",
     "output_type": "stream",
     "text": [
      "{'ade': 0.45761657, 'fde': 0.9814504}\n",
      "\t last loss:0.000269524, eval on validation:['ade: 0.45761657', 'fde: 0.9814504'], (best ade:0.45612139 at step 63900) \n"
     ]
    },
    {
     "name": "stderr",
     "output_type": "stream",
     "text": [
      " 50%|████▉     | 394/792 [00:18<00:16, 24.58it/s]\n",
      "  0%|          | 0/69 [00:00<?, ?it/s]\u001b[A"
     ]
    },
    {
     "name": "stdout",
     "output_type": "stream",
     "text": [
      "\tsaving model 69300...\n",
      "\tdone\n",
      "Evaluating\n"
     ]
    },
    {
     "name": "stderr",
     "output_type": "stream",
     "text": [
      "\n",
      " 12%|#1        | 8/69 [00:00<00:00, 75.20it/s]\u001b[A\n",
      " 20%|##        | 14/69 [00:00<00:00, 67.74it/s]\u001b[A\n",
      " 29%|##8       | 20/69 [00:00<00:00, 63.39it/s]\u001b[A\n",
      " 39%|###9      | 27/69 [00:00<00:00, 64.42it/s]\u001b[A\n",
      " 49%|####9     | 34/69 [00:00<00:00, 65.00it/s]\u001b[A\n",
      " 61%|######    | 42/69 [00:00<00:00, 67.88it/s]\u001b[A\n",
      " 74%|#######3  | 51/69 [00:00<00:00, 71.83it/s]\u001b[A\n",
      " 87%|########6 | 60/69 [00:00<00:00, 74.96it/s]\u001b[A\n",
      " 51%|█████     | 400/792 [00:19<00:47,  8.20it/s]A"
     ]
    },
    {
     "name": "stdout",
     "output_type": "stream",
     "text": [
      "{'ade': 0.4575865, 'fde': 0.981396}\n",
      "\t last loss:0.000335383, eval on validation:['ade: 0.4575865', 'fde: 0.981396'], (best ade:0.45612139 at step 63900) \n"
     ]
    },
    {
     "name": "stderr",
     "output_type": "stream",
     "text": [
      " 88%|████████▊ | 695/792 [00:33<00:05, 18.47it/s]"
     ]
    },
    {
     "name": "stdout",
     "output_type": "stream",
     "text": [
      "\tsaving model 69600...\n"
     ]
    },
    {
     "name": "stderr",
     "output_type": "stream",
     "text": [
      "\n",
      "  0%|          | 0/69 [00:00<?, ?it/s]\u001b[A\n",
      " 10%|#         | 7/69 [00:00<00:00, 62.29it/s]\u001b[A\n",
      " 17%|#7        | 12/69 [00:00<00:00, 57.11it/s]\u001b[A\n",
      " 23%|##3       | 16/69 [00:00<00:01, 49.35it/s]\u001b[A\n",
      " 29%|##8       | 20/69 [00:00<00:01, 45.25it/s]\u001b[A\n",
      " 38%|###7      | 26/69 [00:00<00:00, 48.14it/s]\u001b[A\n",
      " 45%|####4     | 31/69 [00:00<00:00, 47.65it/s]\u001b[A\n",
      " 55%|#####5    | 38/69 [00:00<00:00, 51.77it/s]\u001b[A\n",
      " 65%|######5   | 45/69 [00:00<00:00, 54.65it/s]\u001b[A\n",
      " 74%|#######3  | 51/69 [00:00<00:00, 56.09it/s]\u001b[A\n",
      " 84%|########4 | 58/69 [00:01<00:00, 58.86it/s]\u001b[A\n",
      " 94%|#########4| 65/69 [00:01<00:00, 61.11it/s]\u001b[A\n",
      " 88%|████████▊ | 697/792 [00:34<00:26,  3.59it/s]A"
     ]
    },
    {
     "name": "stdout",
     "output_type": "stream",
     "text": [
      "\tdone\n",
      "Evaluating\n",
      "{'ade': 0.457205, 'fde': 0.9801013}\n",
      "\t last loss:0.000365478, eval on validation:['ade: 0.457205', 'fde: 0.9801013'], (best ade:0.45612139 at step 63900) \n"
     ]
    },
    {
     "name": "stderr",
     "output_type": "stream",
     "text": [
      "100%|██████████| 792/792 [00:40<00:00, 19.69it/s]\n",
      "  0%|          | 1/792 [00:00<01:34,  8.36it/s]"
     ]
    },
    {
     "name": "stdout",
     "output_type": "stream",
     "text": [
      "('Epoca 89.', 'lr:', 1.5684233e-06)\n"
     ]
    },
    {
     "name": "stderr",
     "output_type": "stream",
     "text": [
      " 26%|██▌       | 203/792 [00:09<00:29, 20.30it/s]"
     ]
    },
    {
     "name": "stdout",
     "output_type": "stream",
     "text": [
      "\tsaving model 69900...\n"
     ]
    },
    {
     "name": "stderr",
     "output_type": "stream",
     "text": [
      "\n",
      "  0%|          | 0/69 [00:00<?, ?it/s]\u001b[A\n",
      " 12%|#1        | 8/69 [00:00<00:00, 77.47it/s]\u001b[A"
     ]
    },
    {
     "name": "stdout",
     "output_type": "stream",
     "text": [
      "\tdone\n",
      "Evaluating\n"
     ]
    },
    {
     "name": "stderr",
     "output_type": "stream",
     "text": [
      "\n",
      " 23%|##3       | 16/69 [00:00<00:00, 76.38it/s]\u001b[A\n",
      " 35%|###4      | 24/69 [00:00<00:00, 75.46it/s]\u001b[A\n",
      " 45%|####4     | 31/69 [00:00<00:00, 73.19it/s]\u001b[A\n",
      " 54%|#####3    | 37/69 [00:00<00:00, 65.91it/s]\u001b[A\n",
      " 62%|######2   | 43/69 [00:00<00:00, 60.55it/s]\u001b[A\n",
      " 71%|#######1  | 49/69 [00:00<00:00, 56.66it/s]\u001b[A\n",
      " 81%|########1 | 56/69 [00:00<00:00, 58.42it/s]\u001b[A\n",
      " 91%|#########1| 63/69 [00:00<00:00, 60.64it/s]\u001b[A\n",
      " 26%|██▌       | 206/792 [00:11<01:45,  5.55it/s]A"
     ]
    },
    {
     "name": "stdout",
     "output_type": "stream",
     "text": [
      "{'ade': 0.4578273, 'fde': 0.9818681}\n",
      "\t last loss:0.000425884, eval on validation:['ade: 0.4578273', 'fde: 0.9818681'], (best ade:0.45612139 at step 63900) \n"
     ]
    },
    {
     "name": "stderr",
     "output_type": "stream",
     "text": [
      " 64%|██████▎   | 503/792 [00:23<00:11, 24.18it/s]\n",
      "  0%|          | 0/69 [00:00<?, ?it/s]"
     ]
    },
    {
     "name": "stdout",
     "output_type": "stream",
     "text": [
      "\tsaving model 70200...\n",
      "\tdone\n",
      "Evaluating\n"
     ]
    },
    {
     "name": "stderr",
     "output_type": "stream",
     "text": [
      "\u001b[A\n",
      " 13%|#3        | 9/69 [00:00<00:00, 84.82it/s]\u001b[A\n",
      " 22%|##1       | 15/69 [00:00<00:00, 74.55it/s]\u001b[A\n",
      " 35%|###4      | 24/69 [00:00<00:00, 76.96it/s]\u001b[A\n",
      " 46%|####6     | 32/69 [00:00<00:00, 77.74it/s]\u001b[A\n",
      " 58%|#####7    | 40/69 [00:00<00:00, 76.74it/s]\u001b[A\n",
      " 70%|######9   | 48/69 [00:00<00:00, 76.75it/s]\u001b[A\n",
      " 83%|########2 | 57/69 [00:00<00:00, 78.25it/s]\u001b[A\n",
      " 94%|#########4| 65/69 [00:00<00:00, 78.23it/s]\u001b[A\n",
      " 64%|██████▍   | 506/792 [00:24<00:43,  6.59it/s]A"
     ]
    },
    {
     "name": "stdout",
     "output_type": "stream",
     "text": [
      "{'ade': 0.45734203, 'fde': 0.9805399}\n",
      "\t last loss:0.000317830, eval on validation:['ade: 0.45734203', 'fde: 0.9805399'], (best ade:0.45612139 at step 63900) \n"
     ]
    },
    {
     "name": "stderr",
     "output_type": "stream",
     "text": [
      "100%|██████████| 792/792 [00:36<00:00, 21.72it/s]\n",
      "  0%|          | 3/792 [00:00<00:34, 23.12it/s]"
     ]
    },
    {
     "name": "stdout",
     "output_type": "stream",
     "text": [
      "('Epoca 90.', 'lr:', 1.5684233e-06)\n"
     ]
    },
    {
     "name": "stderr",
     "output_type": "stream",
     "text": [
      "  1%|          | 9/792 [00:00<00:32, 23.90it/s]\n",
      "  0%|          | 0/69 [00:00<?, ?it/s]\u001b[A"
     ]
    },
    {
     "name": "stdout",
     "output_type": "stream",
     "text": [
      "\tsaving model 70500...\n",
      "\tdone\n",
      "Evaluating\n"
     ]
    },
    {
     "name": "stderr",
     "output_type": "stream",
     "text": [
      "\n",
      " 13%|#3        | 9/69 [00:00<00:00, 80.76it/s]\u001b[A\n",
      " 26%|##6       | 18/69 [00:00<00:00, 80.51it/s]\u001b[A\n",
      " 35%|###4      | 24/69 [00:00<00:00, 70.10it/s]\u001b[A\n",
      " 43%|####3     | 30/69 [00:00<00:00, 65.11it/s]\u001b[A\n",
      " 54%|#####3    | 37/69 [00:00<00:00, 65.78it/s]\u001b[A\n",
      " 65%|######5   | 45/69 [00:00<00:00, 67.10it/s]\u001b[A\n",
      " 77%|#######6  | 53/69 [00:00<00:00, 69.95it/s]\u001b[A\n",
      " 88%|########8 | 61/69 [00:00<00:00, 71.99it/s]\u001b[A\n",
      "  2%|▏         | 15/792 [00:01<01:36,  8.06it/s][A"
     ]
    },
    {
     "name": "stdout",
     "output_type": "stream",
     "text": [
      "{'ade': 0.45763892, 'fde': 0.98158777}\n",
      "\t last loss:0.000387642, eval on validation:['ade: 0.45763892', 'fde: 0.98158777'], (best ade:0.45612139 at step 63900) \n"
     ]
    },
    {
     "name": "stderr",
     "output_type": "stream",
     "text": [
      " 39%|███▉      | 310/792 [00:16<00:24, 19.93it/s]"
     ]
    },
    {
     "name": "stdout",
     "output_type": "stream",
     "text": [
      "\tsaving model 70800...\n"
     ]
    },
    {
     "name": "stderr",
     "output_type": "stream",
     "text": [
      "\n",
      "  0%|          | 0/69 [00:00<?, ?it/s]\u001b[A\n",
      "  9%|8         | 6/69 [00:00<00:01, 59.70it/s]\u001b[A"
     ]
    },
    {
     "name": "stdout",
     "output_type": "stream",
     "text": [
      "\tdone\n",
      "Evaluating\n"
     ]
    },
    {
     "name": "stderr",
     "output_type": "stream",
     "text": [
      "\n",
      " 16%|#5        | 11/69 [00:00<00:01, 53.87it/s]\u001b[A\n",
      " 22%|##1       | 15/69 [00:00<00:01, 47.32it/s]\u001b[A\n",
      " 28%|##7       | 19/69 [00:00<00:01, 44.00it/s]\u001b[A\n",
      " 36%|###6      | 25/69 [00:00<00:00, 46.87it/s]\u001b[A\n",
      " 43%|####3     | 30/69 [00:00<00:00, 47.39it/s]\u001b[A\n",
      " 54%|#####3    | 37/69 [00:00<00:00, 51.72it/s]\u001b[A\n",
      " 64%|######3   | 44/69 [00:00<00:00, 54.82it/s]\u001b[A\n",
      " 74%|#######3  | 51/69 [00:00<00:00, 57.42it/s]\u001b[A\n",
      " 84%|########4 | 58/69 [00:01<00:00, 59.03it/s]\u001b[A\n",
      " 94%|#########4| 65/69 [00:01<00:00, 60.98it/s]\u001b[A\n",
      " 40%|███▉      | 313/792 [00:18<01:37,  4.91it/s]A"
     ]
    },
    {
     "name": "stdout",
     "output_type": "stream",
     "text": [
      "{'ade': 0.4575115, 'fde': 0.9813}\n",
      "\t last loss:0.000309242, eval on validation:['ade: 0.4575115', 'fde: 0.9813'], (best ade:0.45612139 at step 63900) \n"
     ]
    },
    {
     "name": "stderr",
     "output_type": "stream",
     "text": [
      " 77%|███████▋  | 609/792 [00:32<00:08, 21.00it/s]"
     ]
    },
    {
     "name": "stdout",
     "output_type": "stream",
     "text": [
      "\tsaving model 71100...\n"
     ]
    },
    {
     "name": "stderr",
     "output_type": "stream",
     "text": [
      "\n",
      "  0%|          | 0/69 [00:00<?, ?it/s]\u001b[A\n",
      "  9%|8         | 6/69 [00:00<00:01, 57.56it/s]\u001b[A"
     ]
    },
    {
     "name": "stdout",
     "output_type": "stream",
     "text": [
      "\tdone\n",
      "Evaluating\n"
     ]
    },
    {
     "name": "stderr",
     "output_type": "stream",
     "text": [
      "\n",
      " 16%|#5        | 11/69 [00:00<00:01, 51.33it/s]\u001b[A\n",
      " 22%|##1       | 15/69 [00:00<00:01, 46.80it/s]\u001b[A\n",
      " 33%|###3      | 23/69 [00:00<00:00, 52.86it/s]\u001b[A\n",
      " 45%|####4     | 31/69 [00:00<00:00, 58.22it/s]\u001b[A\n",
      " 58%|#####7    | 40/69 [00:00<00:00, 64.41it/s]\u001b[A\n",
      " 71%|#######1  | 49/69 [00:00<00:00, 69.41it/s]\u001b[A\n",
      " 86%|########5 | 59/69 [00:00<00:00, 75.00it/s]\u001b[A\n",
      " 99%|#########8| 68/69 [00:00<00:00, 77.03it/s]\u001b[A\n",
      " 78%|███████▊  | 615/792 [00:34<00:23,  7.54it/s]A"
     ]
    },
    {
     "name": "stdout",
     "output_type": "stream",
     "text": [
      "{'ade': 0.45769006, 'fde': 0.98156667}\n",
      "\t last loss:0.000410157, eval on validation:['ade: 0.45769006', 'fde: 0.98156667'], (best ade:0.45612139 at step 63900) \n"
     ]
    },
    {
     "name": "stderr",
     "output_type": "stream",
     "text": [
      "100%|██████████| 792/792 [00:41<00:00, 25.96it/s]\n",
      "  0%|          | 1/792 [00:00<01:38,  8.03it/s]"
     ]
    },
    {
     "name": "stdout",
     "output_type": "stream",
     "text": [
      "('Epoca 91.', 'lr:', 1.3331598e-06)\n"
     ]
    },
    {
     "name": "stderr",
     "output_type": "stream",
     "text": [
      " 15%|█▍        | 118/792 [00:04<00:25, 26.16it/s]\n",
      "  0%|          | 0/69 [00:00<?, ?it/s]\u001b[A"
     ]
    },
    {
     "name": "stdout",
     "output_type": "stream",
     "text": [
      "\tsaving model 71400...\n",
      "\tdone\n",
      "Evaluating\n"
     ]
    },
    {
     "name": "stderr",
     "output_type": "stream",
     "text": [
      "\n",
      " 14%|#4        | 10/69 [00:00<00:00, 93.76it/s]\u001b[A\n",
      " 26%|##6       | 18/69 [00:00<00:00, 86.68it/s]\u001b[A\n",
      " 36%|###6      | 25/69 [00:00<00:00, 80.61it/s]\u001b[A\n",
      " 46%|####6     | 32/69 [00:00<00:00, 75.04it/s]\u001b[A\n",
      " 59%|#####9    | 41/69 [00:00<00:00, 77.34it/s]\u001b[A\n",
      " 71%|#######1  | 49/69 [00:00<00:00, 76.28it/s]\u001b[A\n",
      " 84%|########4 | 58/69 [00:00<00:00, 78.63it/s]\u001b[A\n",
      " 99%|#########8| 68/69 [00:00<00:00, 82.35it/s]\u001b[A\n",
      " 16%|█▌        | 124/792 [00:05<01:16,  8.76it/s]A"
     ]
    },
    {
     "name": "stdout",
     "output_type": "stream",
     "text": [
      "{'ade': 0.45805213, 'fde': 0.9824676}\n",
      "\t last loss:0.000377383, eval on validation:['ade: 0.45805213', 'fde: 0.9824676'], (best ade:0.45612139 at step 63900) \n"
     ]
    },
    {
     "name": "stderr",
     "output_type": "stream",
     "text": [
      " 53%|█████▎    | 418/792 [00:17<00:13, 26.78it/s]\n",
      "  0%|          | 0/69 [00:00<?, ?it/s]\u001b[A"
     ]
    },
    {
     "name": "stdout",
     "output_type": "stream",
     "text": [
      "\tsaving model 71700...\n",
      "\tdone\n",
      "Evaluating\n"
     ]
    },
    {
     "name": "stderr",
     "output_type": "stream",
     "text": [
      "\n",
      " 14%|#4        | 10/69 [00:00<00:00, 92.71it/s]\u001b[A\n",
      " 25%|##4       | 17/69 [00:00<00:00, 81.85it/s]\u001b[A\n",
      " 35%|###4      | 24/69 [00:00<00:00, 76.97it/s]\u001b[A\n",
      " 43%|####3     | 30/69 [00:00<00:00, 70.33it/s]\u001b[A\n",
      " 57%|#####6    | 39/69 [00:00<00:00, 72.52it/s]\u001b[A\n",
      " 70%|######9   | 48/69 [00:00<00:00, 76.34it/s]\u001b[A\n",
      " 84%|########4 | 58/69 [00:00<00:00, 80.85it/s]\u001b[A\n",
      " 99%|#########8| 68/69 [00:00<00:00, 83.85it/s]\u001b[A\n",
      " 54%|█████▎    | 424/792 [00:18<00:41,  8.84it/s]A"
     ]
    },
    {
     "name": "stdout",
     "output_type": "stream",
     "text": [
      "{'ade': 0.458004, 'fde': 0.9823068}\n",
      "\t last loss:0.000460337, eval on validation:['ade: 0.458004', 'fde: 0.9823068'], (best ade:0.45612139 at step 63900) \n"
     ]
    },
    {
     "name": "stderr",
     "output_type": "stream",
     "text": [
      " 91%|█████████ | 718/792 [00:31<00:03, 20.46it/s]"
     ]
    },
    {
     "name": "stdout",
     "output_type": "stream",
     "text": [
      "\tsaving model 72000...\n"
     ]
    },
    {
     "name": "stderr",
     "output_type": "stream",
     "text": [
      "\n",
      "  0%|          | 0/69 [00:00<?, ?it/s]\u001b[A\n",
      " 10%|#         | 7/69 [00:00<00:00, 69.08it/s]\u001b[A"
     ]
    },
    {
     "name": "stdout",
     "output_type": "stream",
     "text": [
      "\tdone\n",
      "Evaluating\n"
     ]
    },
    {
     "name": "stderr",
     "output_type": "stream",
     "text": [
      "\n",
      " 20%|##        | 14/69 [00:00<00:00, 67.45it/s]\u001b[A\n",
      " 26%|##6       | 18/69 [00:00<00:00, 54.17it/s]\u001b[A\n",
      " 33%|###3      | 23/69 [00:00<00:00, 51.71it/s]\u001b[A\n",
      " 41%|####      | 28/69 [00:00<00:00, 50.01it/s]\u001b[A\n",
      " 49%|####9     | 34/69 [00:00<00:00, 51.78it/s]\u001b[A\n",
      " 58%|#####7    | 40/69 [00:00<00:00, 52.40it/s]\u001b[A\n",
      " 67%|######6   | 46/69 [00:00<00:00, 54.15it/s]\u001b[A\n",
      " 77%|#######6  | 53/69 [00:00<00:00, 57.10it/s]\u001b[A\n",
      " 87%|########6 | 60/69 [00:01<00:00, 58.59it/s]\u001b[A\n",
      " 97%|#########7| 67/69 [00:01<00:00, 60.72it/s]\u001b[A\n",
      " 91%|█████████▏| 723/792 [00:33<00:10,  6.49it/s]A"
     ]
    },
    {
     "name": "stdout",
     "output_type": "stream",
     "text": [
      "{'ade': 0.4575828, 'fde': 0.9812182}\n",
      "\t last loss:0.000399721, eval on validation:['ade: 0.4575828', 'fde: 0.9812182'], (best ade:0.45612139 at step 63900) \n"
     ]
    },
    {
     "name": "stderr",
     "output_type": "stream",
     "text": [
      "100%|██████████| 792/792 [00:37<00:00, 21.38it/s]\n",
      "  0%|          | 2/792 [00:00<00:41, 18.91it/s]"
     ]
    },
    {
     "name": "stdout",
     "output_type": "stream",
     "text": [
      "('Epoca 92.', 'lr:', 1.3331598e-06)\n"
     ]
    },
    {
     "name": "stderr",
     "output_type": "stream",
     "text": [
      " 29%|██▊       | 227/792 [00:10<00:27, 20.84it/s]"
     ]
    },
    {
     "name": "stdout",
     "output_type": "stream",
     "text": [
      "\tsaving model 72300...\n"
     ]
    },
    {
     "name": "stderr",
     "output_type": "stream",
     "text": [
      "\n",
      "  0%|          | 0/69 [00:00<?, ?it/s]\u001b[A\n",
      "  9%|8         | 6/69 [00:00<00:01, 57.92it/s]\u001b[A"
     ]
    },
    {
     "name": "stdout",
     "output_type": "stream",
     "text": [
      "\tdone\n",
      "Evaluating\n"
     ]
    },
    {
     "name": "stderr",
     "output_type": "stream",
     "text": [
      "\n",
      " 19%|#8        | 13/69 [00:00<00:00, 59.86it/s]\u001b[A\n",
      " 28%|##7       | 19/69 [00:00<00:00, 57.35it/s]\u001b[A\n",
      " 41%|####      | 28/69 [00:00<00:00, 63.88it/s]\u001b[A\n",
      " 52%|#####2    | 36/69 [00:00<00:00, 66.68it/s]\u001b[A\n",
      " 65%|######5   | 45/69 [00:00<00:00, 71.15it/s]\u001b[A\n",
      " 80%|#######9  | 55/69 [00:00<00:00, 76.30it/s]\u001b[A\n",
      " 94%|#########4| 65/69 [00:00<00:00, 80.74it/s]\u001b[A\n",
      " 29%|██▉       | 230/792 [00:12<01:30,  6.19it/s]A"
     ]
    },
    {
     "name": "stdout",
     "output_type": "stream",
     "text": [
      "{'ade': 0.4578242, 'fde': 0.9820735}\n",
      "\t last loss:0.000303273, eval on validation:['ade: 0.4578242', 'fde: 0.9820735'], (best ade:0.45612139 at step 63900) \n"
     ]
    },
    {
     "name": "stderr",
     "output_type": "stream",
     "text": [
      " 67%|██████▋   | 527/792 [00:23<00:10, 26.45it/s]\n",
      "  0%|          | 0/69 [00:00<?, ?it/s]\u001b[A"
     ]
    },
    {
     "name": "stdout",
     "output_type": "stream",
     "text": [
      "\tsaving model 72600...\n",
      "\tdone\n",
      "Evaluating\n"
     ]
    },
    {
     "name": "stderr",
     "output_type": "stream",
     "text": [
      "\n",
      " 13%|#3        | 9/69 [00:00<00:00, 88.76it/s]\u001b[A\n",
      " 23%|##3       | 16/69 [00:00<00:00, 80.64it/s]\u001b[A\n",
      " 33%|###3      | 23/69 [00:00<00:00, 76.29it/s]\u001b[A\n",
      " 43%|####3     | 30/69 [00:00<00:00, 73.03it/s]\u001b[A\n",
      " 57%|#####6    | 39/69 [00:00<00:00, 75.51it/s]\u001b[A\n",
      " 68%|######8   | 47/69 [00:00<00:00, 75.49it/s]\u001b[A\n",
      " 83%|########2 | 57/69 [00:00<00:00, 80.24it/s]\u001b[A\n",
      " 96%|#########5| 66/69 [00:00<00:00, 81.78it/s]\u001b[A\n",
      " 67%|██████▋   | 530/792 [00:24<00:38,  6.84it/s]A"
     ]
    },
    {
     "name": "stdout",
     "output_type": "stream",
     "text": [
      "{'ade': 0.457709, 'fde': 0.9816143}\n",
      "\t last loss:0.000290778, eval on validation:['ade: 0.457709', 'fde: 0.9816143'], (best ade:0.45612139 at step 63900) \n"
     ]
    },
    {
     "name": "stderr",
     "output_type": "stream",
     "text": [
      "100%|██████████| 792/792 [00:35<00:00, 22.39it/s]\n",
      "  0%|          | 2/792 [00:00<00:51, 15.20it/s]"
     ]
    },
    {
     "name": "stdout",
     "output_type": "stream",
     "text": [
      "('Epoca 93.', 'lr:', 1.1331858e-06)\n"
     ]
    },
    {
     "name": "stderr",
     "output_type": "stream",
     "text": [
      "  4%|▍         | 35/792 [00:01<00:29, 25.86it/s]\n",
      "  0%|          | 0/69 [00:00<?, ?it/s]\u001b[A"
     ]
    },
    {
     "name": "stdout",
     "output_type": "stream",
     "text": [
      "\tsaving model 72900...\n",
      "\tdone\n",
      "Evaluating\n"
     ]
    },
    {
     "name": "stderr",
     "output_type": "stream",
     "text": [
      "\n",
      " 14%|#4        | 10/69 [00:00<00:00, 92.19it/s]\u001b[A\n",
      " 26%|##6       | 18/69 [00:00<00:00, 84.43it/s]\u001b[A\n",
      " 33%|###3      | 23/69 [00:00<00:00, 63.67it/s]\u001b[A\n",
      " 41%|####      | 28/69 [00:00<00:00, 53.96it/s]\u001b[A\n",
      " 49%|####9     | 34/69 [00:00<00:00, 55.45it/s]\u001b[A\n",
      " 57%|#####6    | 39/69 [00:00<00:00, 52.96it/s]\u001b[A\n",
      " 70%|######9   | 48/69 [00:00<00:00, 60.07it/s]\u001b[A\n",
      " 83%|########2 | 57/69 [00:00<00:00, 65.63it/s]\u001b[A\n",
      " 97%|#########7| 67/69 [00:00<00:00, 72.01it/s]\u001b[A\n",
      "  5%|▍         | 38/792 [00:02<02:01,  6.23it/s][A"
     ]
    },
    {
     "name": "stdout",
     "output_type": "stream",
     "text": [
      "{'ade': 0.45729703, 'fde': 0.9804597}\n",
      "\t last loss:0.000299051, eval on validation:['ade: 0.45729703', 'fde: 0.9804597'], (best ade:0.45612139 at step 63900) \n"
     ]
    },
    {
     "name": "stderr",
     "output_type": "stream",
     "text": [
      " 42%|████▏     | 335/792 [00:15<00:19, 23.08it/s]"
     ]
    },
    {
     "name": "stdout",
     "output_type": "stream",
     "text": [
      "\tsaving model 73200...\n"
     ]
    },
    {
     "name": "stderr",
     "output_type": "stream",
     "text": [
      "\n",
      "  0%|          | 0/69 [00:00<?, ?it/s]\u001b[A\n",
      " 12%|#1        | 8/69 [00:00<00:00, 79.88it/s]\u001b[A"
     ]
    },
    {
     "name": "stdout",
     "output_type": "stream",
     "text": [
      "\tdone\n",
      "Evaluating\n"
     ]
    },
    {
     "name": "stderr",
     "output_type": "stream",
     "text": [
      "\n",
      " 22%|##1       | 15/69 [00:00<00:00, 75.29it/s]\u001b[A\n",
      " 30%|###       | 21/69 [00:00<00:00, 69.13it/s]\u001b[A\n",
      " 39%|###9      | 27/69 [00:00<00:00, 64.62it/s]\u001b[A\n",
      " 51%|#####     | 35/69 [00:00<00:00, 68.05it/s]\u001b[A\n",
      " 61%|######    | 42/69 [00:00<00:00, 67.68it/s]\u001b[A\n",
      " 74%|#######3  | 51/69 [00:00<00:00, 71.80it/s]\u001b[A\n",
      " 87%|########6 | 60/69 [00:00<00:00, 74.79it/s]\u001b[A\n",
      " 43%|████▎     | 338/792 [00:17<01:13,  6.20it/s]A"
     ]
    },
    {
     "name": "stdout",
     "output_type": "stream",
     "text": [
      "{'ade': 0.4573791, 'fde': 0.98075813}\n",
      "\t last loss:0.000397273, eval on validation:['ade: 0.4573791', 'fde: 0.98075813'], (best ade:0.45612139 at step 63900) \n"
     ]
    },
    {
     "name": "stderr",
     "output_type": "stream",
     "text": [
      " 80%|████████  | 635/792 [00:29<00:05, 26.31it/s]\n",
      "  0%|          | 0/69 [00:00<?, ?it/s]\u001b[A"
     ]
    },
    {
     "name": "stdout",
     "output_type": "stream",
     "text": [
      "\tsaving model 73500...\n",
      "\tdone\n",
      "Evaluating\n"
     ]
    },
    {
     "name": "stderr",
     "output_type": "stream",
     "text": [
      "\n",
      " 14%|#4        | 10/69 [00:00<00:00, 92.33it/s]\u001b[A\n",
      " 25%|##4       | 17/69 [00:00<00:00, 79.56it/s]\u001b[A\n",
      " 33%|###3      | 23/69 [00:00<00:00, 72.25it/s]\u001b[A\n",
      " 43%|####3     | 30/69 [00:00<00:00, 70.80it/s]\u001b[A\n",
      " 57%|#####6    | 39/69 [00:00<00:00, 75.01it/s]\u001b[A\n",
      " 68%|######8   | 47/69 [00:00<00:00, 75.72it/s]\u001b[A\n",
      " 83%|########2 | 57/69 [00:00<00:00, 80.30it/s]\u001b[A\n",
      " 97%|#########7| 67/69 [00:00<00:00, 83.91it/s]\u001b[A\n",
      " 81%|████████  | 638/792 [00:30<00:22,  6.87it/s]A"
     ]
    },
    {
     "name": "stdout",
     "output_type": "stream",
     "text": [
      "{'ade': 0.45747337, 'fde': 0.98088}\n",
      "\t last loss:0.000242043, eval on validation:['ade: 0.45747337', 'fde: 0.98088'], (best ade:0.45612139 at step 63900) \n"
     ]
    },
    {
     "name": "stderr",
     "output_type": "stream",
     "text": [
      "100%|██████████| 792/792 [00:37<00:00, 21.13it/s]\n",
      "  0%|          | 2/792 [00:00<00:44, 17.88it/s]"
     ]
    },
    {
     "name": "stdout",
     "output_type": "stream",
     "text": [
      "('Epoca 94.', 'lr:', 1.1331858e-06)\n"
     ]
    },
    {
     "name": "stderr",
     "output_type": "stream",
     "text": [
      " 18%|█▊        | 143/792 [00:06<00:28, 23.16it/s]"
     ]
    },
    {
     "name": "stdout",
     "output_type": "stream",
     "text": [
      "\tsaving model 73800...\n"
     ]
    },
    {
     "name": "stderr",
     "output_type": "stream",
     "text": [
      "\n",
      "  0%|          | 0/69 [00:00<?, ?it/s]\u001b[A\n",
      " 13%|#3        | 9/69 [00:00<00:00, 85.25it/s]\u001b[A\n",
      " 22%|##1       | 15/69 [00:00<00:00, 74.10it/s]\u001b[A\n",
      " 30%|###       | 21/69 [00:00<00:00, 68.15it/s]\u001b[A\n",
      " 41%|####      | 28/69 [00:00<00:00, 67.15it/s]\u001b[A\n",
      " 52%|#####2    | 36/69 [00:00<00:00, 68.38it/s]\u001b[A\n",
      " 65%|######5   | 45/69 [00:00<00:00, 71.86it/s]\u001b[A\n",
      " 78%|#######8  | 54/69 [00:00<00:00, 75.12it/s]\u001b[A\n",
      " 90%|########9 | 62/69 [00:00<00:00, 76.42it/s]\u001b[A\n",
      " 18%|█▊        | 146/792 [00:07<01:42,  6.30it/s]A"
     ]
    },
    {
     "name": "stdout",
     "output_type": "stream",
     "text": [
      "\tdone\n",
      "Evaluating\n",
      "{'ade': 0.45773396, 'fde': 0.98166585}\n",
      "\t last loss:0.000258580, eval on validation:['ade: 0.45773396', 'fde: 0.98166585'], (best ade:0.45612139 at step 63900) \n"
     ]
    },
    {
     "name": "stderr",
     "output_type": "stream",
     "text": [
      " 56%|█████▌    | 443/792 [00:19<00:13, 25.93it/s]\n",
      "  0%|          | 0/69 [00:00<?, ?it/s]\u001b[A"
     ]
    },
    {
     "name": "stdout",
     "output_type": "stream",
     "text": [
      "\tsaving model 74100...\n",
      "\tdone\n",
      "Evaluating\n"
     ]
    },
    {
     "name": "stderr",
     "output_type": "stream",
     "text": [
      "\n",
      " 12%|#1        | 8/69 [00:00<00:00, 78.82it/s]\u001b[A\n",
      " 23%|##3       | 16/69 [00:00<00:00, 76.51it/s]\u001b[A\n",
      " 36%|###6      | 25/69 [00:00<00:00, 79.38it/s]\u001b[A\n",
      " 51%|#####     | 35/69 [00:00<00:00, 82.67it/s]\u001b[A\n",
      " 64%|######3   | 44/69 [00:00<00:00, 83.19it/s]\u001b[A\n",
      " 75%|#######5  | 52/69 [00:00<00:00, 81.81it/s]\u001b[A\n",
      " 88%|########8 | 61/69 [00:00<00:00, 83.86it/s]\u001b[A\n",
      " 56%|█████▋    | 446/792 [00:20<00:48,  7.14it/s]A"
     ]
    },
    {
     "name": "stdout",
     "output_type": "stream",
     "text": [
      "{'ade': 0.45733792, 'fde': 0.9805817}\n",
      "\t last loss:0.000407688, eval on validation:['ade: 0.45733792', 'fde: 0.9805817'], (best ade:0.45612139 at step 63900) \n"
     ]
    },
    {
     "name": "stderr",
     "output_type": "stream",
     "text": [
      " 94%|█████████▍| 743/792 [00:32<00:02, 24.41it/s]\n",
      "  0%|          | 0/69 [00:00<?, ?it/s]\u001b[A"
     ]
    },
    {
     "name": "stdout",
     "output_type": "stream",
     "text": [
      "\tsaving model 74400...\n",
      "\tdone\n",
      "Evaluating\n"
     ]
    },
    {
     "name": "stderr",
     "output_type": "stream",
     "text": [
      "\n",
      " 12%|#1        | 8/69 [00:00<00:00, 77.76it/s]\u001b[A\n",
      " 25%|##4       | 17/69 [00:00<00:00, 79.34it/s]\u001b[A\n",
      " 36%|###6      | 25/69 [00:00<00:00, 76.88it/s]\u001b[A\n",
      " 46%|####6     | 32/69 [00:00<00:00, 73.90it/s]\u001b[A\n",
      " 59%|#####9    | 41/69 [00:00<00:00, 76.11it/s]\u001b[A\n",
      " 72%|#######2  | 50/69 [00:00<00:00, 77.00it/s]\u001b[A\n",
      " 83%|########2 | 57/69 [00:00<00:00, 73.64it/s]\u001b[A\n",
      " 96%|#########5| 66/69 [00:00<00:00, 76.58it/s]\u001b[A\n",
      " 94%|█████████▍| 746/792 [00:33<00:06,  6.58it/s]A"
     ]
    },
    {
     "name": "stdout",
     "output_type": "stream",
     "text": [
      "{'ade': 0.45689967, 'fde': 0.9792953}\n",
      "\t last loss:0.000498610, eval on validation:['ade: 0.45689967', 'fde: 0.9792953'], (best ade:0.45612139 at step 63900) \n"
     ]
    },
    {
     "name": "stderr",
     "output_type": "stream",
     "text": [
      "100%|██████████| 792/792 [00:35<00:00, 22.08it/s]\n",
      "  0%|          | 3/792 [00:00<00:34, 22.86it/s]"
     ]
    },
    {
     "name": "stdout",
     "output_type": "stream",
     "text": [
      "('Epoca 95.', 'lr:', 9.63208e-07)\n"
     ]
    },
    {
     "name": "stderr",
     "output_type": "stream",
     "text": [
      " 31%|███▏      | 249/792 [00:09<00:20, 26.63it/s]\n",
      "  0%|          | 0/69 [00:00<?, ?it/s]\u001b[A"
     ]
    },
    {
     "name": "stdout",
     "output_type": "stream",
     "text": [
      "\tsaving model 74700...\n",
      "\tdone\n",
      "Evaluating\n"
     ]
    },
    {
     "name": "stderr",
     "output_type": "stream",
     "text": [
      "\n",
      " 13%|#3        | 9/69 [00:00<00:00, 84.65it/s]\u001b[A\n",
      " 23%|##3       | 16/69 [00:00<00:00, 77.73it/s]\u001b[A\n",
      " 33%|###3      | 23/69 [00:00<00:00, 73.88it/s]\u001b[A\n",
      " 45%|####4     | 31/69 [00:00<00:00, 74.12it/s]\u001b[A\n",
      " 57%|#####6    | 39/69 [00:00<00:00, 75.06it/s]\u001b[A\n",
      " 70%|######9   | 48/69 [00:00<00:00, 78.82it/s]\u001b[A\n",
      " 83%|########2 | 57/69 [00:00<00:00, 81.06it/s]\u001b[A\n",
      " 96%|#########5| 66/69 [00:00<00:00, 81.87it/s]\u001b[A\n",
      " 32%|███▏      | 255/792 [00:11<01:01,  8.75it/s]A"
     ]
    },
    {
     "name": "stdout",
     "output_type": "stream",
     "text": [
      "{'ade': 0.45747113, 'fde': 0.98097885}\n",
      "\t last loss:0.000502432, eval on validation:['ade: 0.45747113', 'fde: 0.98097885'], (best ade:0.45612139 at step 63900) \n"
     ]
    },
    {
     "name": "stderr",
     "output_type": "stream",
     "text": [
      " 69%|██████▉   | 549/792 [00:24<00:09, 24.81it/s]\n",
      "  0%|          | 0/69 [00:00<?, ?it/s]\u001b[A"
     ]
    },
    {
     "name": "stdout",
     "output_type": "stream",
     "text": [
      "\tsaving model 75000...\n",
      "\tdone\n",
      "Evaluating\n"
     ]
    },
    {
     "name": "stderr",
     "output_type": "stream",
     "text": [
      "\n",
      " 13%|#3        | 9/69 [00:00<00:00, 86.29it/s]\u001b[A\n",
      " 22%|##1       | 15/69 [00:00<00:00, 74.86it/s]\u001b[A\n",
      " 30%|###       | 21/69 [00:00<00:00, 69.56it/s]\u001b[A\n",
      " 39%|###9      | 27/69 [00:00<00:00, 66.11it/s]\u001b[A\n",
      " 51%|#####     | 35/69 [00:00<00:00, 67.28it/s]\u001b[A\n",
      " 62%|######2   | 43/69 [00:00<00:00, 69.73it/s]\u001b[A\n",
      " 74%|#######3  | 51/69 [00:00<00:00, 72.24it/s]\u001b[A\n",
      " 86%|########5 | 59/69 [00:00<00:00, 73.46it/s]\u001b[A\n",
      " 99%|#########8| 68/69 [00:00<00:00, 76.50it/s]\u001b[A\n",
      " 70%|███████   | 555/792 [00:25<00:29,  8.14it/s]A"
     ]
    },
    {
     "name": "stdout",
     "output_type": "stream",
     "text": [
      "{'ade': 0.4575736, 'fde': 0.9811634}\n",
      "\t last loss:0.000297981, eval on validation:['ade: 0.4575736', 'fde: 0.9811634'], (best ade:0.45612139 at step 63900) \n"
     ]
    },
    {
     "name": "stderr",
     "output_type": "stream",
     "text": [
      "100%|██████████| 792/792 [00:35<00:00, 25.07it/s]\n",
      "  0%|          | 1/792 [00:00<01:33,  8.44it/s]"
     ]
    },
    {
     "name": "stdout",
     "output_type": "stream",
     "text": [
      "('Epoca 96.', 'lr:', 9.63208e-07)\n"
     ]
    },
    {
     "name": "stderr",
     "output_type": "stream",
     "text": [
      "  7%|▋         | 58/792 [00:02<00:27, 26.33it/s]\n",
      "  0%|          | 0/69 [00:00<?, ?it/s]\u001b[A"
     ]
    },
    {
     "name": "stdout",
     "output_type": "stream",
     "text": [
      "\tsaving model 75300...\n",
      "\tdone\n",
      "Evaluating\n"
     ]
    },
    {
     "name": "stderr",
     "output_type": "stream",
     "text": [
      "\n",
      " 14%|#4        | 10/69 [00:00<00:00, 92.75it/s]\u001b[A\n",
      " 26%|##6       | 18/69 [00:00<00:00, 88.39it/s]\u001b[A\n",
      " 36%|###6      | 25/69 [00:00<00:00, 78.96it/s]\u001b[A\n",
      " 45%|####4     | 31/69 [00:00<00:00, 71.11it/s]\u001b[A\n",
      " 58%|#####7    | 40/69 [00:00<00:00, 74.95it/s]\u001b[A\n",
      " 68%|######8   | 47/69 [00:00<00:00, 72.25it/s]\u001b[A\n",
      " 83%|########2 | 57/69 [00:00<00:00, 77.09it/s]\u001b[A\n",
      " 97%|#########7| 67/69 [00:00<00:00, 81.17it/s]\u001b[A\n",
      "  8%|▊         | 64/792 [00:03<01:22,  8.81it/s][A"
     ]
    },
    {
     "name": "stdout",
     "output_type": "stream",
     "text": [
      "{'ade': 0.45786065, 'fde': 0.9819316}\n",
      "\t last loss:0.000382600, eval on validation:['ade: 0.45786065', 'fde: 0.9819316'], (best ade:0.45612139 at step 63900) \n"
     ]
    },
    {
     "name": "stderr",
     "output_type": "stream",
     "text": [
      " 45%|████▌     | 358/792 [00:15<00:17, 24.74it/s]"
     ]
    },
    {
     "name": "stdout",
     "output_type": "stream",
     "text": [
      "\tsaving model 75600...\n"
     ]
    },
    {
     "name": "stderr",
     "output_type": "stream",
     "text": [
      "\n",
      "  0%|          | 0/69 [00:00<?, ?it/s]\u001b[A\n",
      " 10%|#         | 7/69 [00:00<00:00, 67.99it/s]\u001b[A"
     ]
    },
    {
     "name": "stdout",
     "output_type": "stream",
     "text": [
      "\tdone\n",
      "Evaluating\n"
     ]
    },
    {
     "name": "stderr",
     "output_type": "stream",
     "text": [
      "\n",
      " 19%|#8        | 13/69 [00:00<00:00, 63.48it/s]\u001b[A\n",
      " 25%|##4       | 17/69 [00:00<00:00, 53.60it/s]\u001b[A\n",
      " 30%|###       | 21/69 [00:00<00:01, 47.56it/s]\u001b[A\n",
      " 38%|###7      | 26/69 [00:00<00:00, 45.78it/s]\u001b[A\n",
      " 46%|####6     | 32/69 [00:00<00:00, 48.39it/s]\u001b[A\n",
      " 55%|#####5    | 38/69 [00:00<00:00, 50.24it/s]\u001b[A\n",
      " 64%|######3   | 44/69 [00:00<00:00, 52.81it/s]\u001b[A\n",
      " 74%|#######3  | 51/69 [00:00<00:00, 55.70it/s]\u001b[A\n",
      " 83%|########2 | 57/69 [00:01<00:00, 56.62it/s]\u001b[A\n",
      " 93%|#########2| 64/69 [00:01<00:00, 58.76it/s]\u001b[A\n",
      " 46%|████▌     | 361/792 [00:17<01:22,  5.24it/s]A"
     ]
    },
    {
     "name": "stdout",
     "output_type": "stream",
     "text": [
      "{'ade': 0.45822927, 'fde': 0.9829816}\n",
      "\t last loss:0.000316095, eval on validation:['ade: 0.45822927', 'fde: 0.9829816'], (best ade:0.45612139 at step 63900) \n"
     ]
    },
    {
     "name": "stderr",
     "output_type": "stream",
     "text": [
      " 83%|████████▎ | 659/792 [00:30<00:09, 14.71it/s]\n",
      "  0%|          | 0/69 [00:00<?, ?it/s]"
     ]
    },
    {
     "name": "stdout",
     "output_type": "stream",
     "text": [
      "\tsaving model 75900...\n",
      "\tdone\n",
      "Evaluating\n"
     ]
    },
    {
     "name": "stderr",
     "output_type": "stream",
     "text": [
      "\u001b[A\n",
      " 10%|#         | 7/69 [00:00<00:00, 69.86it/s]\u001b[A\n",
      " 19%|#8        | 13/69 [00:00<00:00, 65.41it/s]\u001b[A\n",
      " 29%|##8       | 20/69 [00:00<00:00, 66.69it/s]\u001b[A\n",
      " 39%|###9      | 27/69 [00:00<00:00, 67.01it/s]\u001b[A\n",
      " 51%|#####     | 35/69 [00:00<00:00, 69.50it/s]\u001b[A\n",
      " 64%|######3   | 44/69 [00:00<00:00, 74.25it/s]\u001b[A\n",
      " 77%|#######6  | 53/69 [00:00<00:00, 78.03it/s]\u001b[A\n",
      " 90%|########9 | 62/69 [00:00<00:00, 79.56it/s]\u001b[A\n",
      " 83%|████████▎ | 661/792 [00:31<00:29,  4.38it/s]A"
     ]
    },
    {
     "name": "stdout",
     "output_type": "stream",
     "text": [
      "{'ade': 0.45796764, 'fde': 0.9822341}\n",
      "\t last loss:0.000341183, eval on validation:['ade: 0.45796764', 'fde: 0.9822341'], (best ade:0.45612139 at step 63900) \n"
     ]
    },
    {
     "name": "stderr",
     "output_type": "stream",
     "text": [
      "100%|██████████| 792/792 [00:37<00:00, 20.38it/s]\n",
      "  0%|          | 2/792 [00:00<00:47, 16.55it/s]"
     ]
    },
    {
     "name": "stdout",
     "output_type": "stream",
     "text": [
      "('Epoca 97.', 'lr:', 8.187269e-07)\n"
     ]
    },
    {
     "name": "stderr",
     "output_type": "stream",
     "text": [
      " 21%|██        | 166/792 [00:07<00:25, 24.82it/s]\n",
      "  0%|          | 0/69 [00:00<?, ?it/s]\u001b[A"
     ]
    },
    {
     "name": "stdout",
     "output_type": "stream",
     "text": [
      "\tsaving model 76200...\n",
      "\tdone\n",
      "Evaluating\n"
     ]
    },
    {
     "name": "stderr",
     "output_type": "stream",
     "text": [
      "\n",
      " 13%|#3        | 9/69 [00:00<00:00, 79.29it/s]\u001b[A\n",
      " 22%|##1       | 15/69 [00:00<00:00, 72.29it/s]\u001b[A\n",
      " 30%|###       | 21/69 [00:00<00:00, 64.35it/s]\u001b[A\n",
      " 42%|####2     | 29/69 [00:00<00:00, 67.85it/s]\u001b[A\n",
      " 54%|#####3    | 37/69 [00:00<00:00, 70.07it/s]\u001b[A\n",
      " 64%|######3   | 44/69 [00:00<00:00, 68.90it/s]\u001b[A\n",
      " 75%|#######5  | 52/69 [00:00<00:00, 71.84it/s]\u001b[A\n",
      " 88%|########8 | 61/69 [00:00<00:00, 74.78it/s]\u001b[A\n",
      " 21%|██▏       | 169/792 [00:08<01:37,  6.37it/s]A"
     ]
    },
    {
     "name": "stdout",
     "output_type": "stream",
     "text": [
      "{'ade': 0.4579941, 'fde': 0.9823921}\n",
      "\t last loss:0.000357994, eval on validation:['ade: 0.4579941', 'fde: 0.9823921'], (best ade:0.45612139 at step 63900) \n"
     ]
    },
    {
     "name": "stderr",
     "output_type": "stream",
     "text": [
      " 59%|█████▉    | 466/792 [00:20<00:12, 26.43it/s]\n",
      "  0%|          | 0/69 [00:00<?, ?it/s]\u001b[A"
     ]
    },
    {
     "name": "stdout",
     "output_type": "stream",
     "text": [
      "\tsaving model 76500...\n",
      "\tdone\n",
      "Evaluating\n"
     ]
    },
    {
     "name": "stderr",
     "output_type": "stream",
     "text": [
      "\n",
      " 14%|#4        | 10/69 [00:00<00:00, 92.24it/s]\u001b[A\n",
      " 25%|##4       | 17/69 [00:00<00:00, 81.51it/s]\u001b[A\n",
      " 36%|###6      | 25/69 [00:00<00:00, 78.03it/s]\u001b[A\n",
      " 48%|####7     | 33/69 [00:00<00:00, 76.67it/s]\u001b[A\n",
      " 59%|#####9    | 41/69 [00:00<00:00, 74.92it/s]\u001b[A\n",
      " 72%|#######2  | 50/69 [00:00<00:00, 78.46it/s]\u001b[A\n",
      " 87%|########6 | 60/69 [00:00<00:00, 81.82it/s]\u001b[A\n",
      " 60%|█████▉    | 472/792 [00:21<00:35,  8.95it/s]A"
     ]
    },
    {
     "name": "stdout",
     "output_type": "stream",
     "text": [
      "{'ade': 0.45809913, 'fde': 0.9826058}\n",
      "\t last loss:0.000316086, eval on validation:['ade: 0.45809913', 'fde: 0.9826058'], (best ade:0.45612139 at step 63900) \n"
     ]
    },
    {
     "name": "stderr",
     "output_type": "stream",
     "text": [
      " 97%|█████████▋| 766/792 [00:35<00:01, 23.19it/s]\n",
      "  0%|          | 0/69 [00:00<?, ?it/s]\u001b[A"
     ]
    },
    {
     "name": "stdout",
     "output_type": "stream",
     "text": [
      "\tsaving model 76800...\n",
      "\tdone\n",
      "Evaluating\n"
     ]
    },
    {
     "name": "stderr",
     "output_type": "stream",
     "text": [
      "\n",
      " 12%|#1        | 8/69 [00:00<00:00, 75.17it/s]\u001b[A\n",
      " 20%|##        | 14/69 [00:00<00:00, 68.87it/s]\u001b[A\n",
      " 30%|###       | 21/69 [00:00<00:00, 68.73it/s]\u001b[A\n",
      " 39%|###9      | 27/69 [00:00<00:00, 64.90it/s]\u001b[A\n",
      " 51%|#####     | 35/69 [00:00<00:00, 67.46it/s]\u001b[A\n",
      " 61%|######    | 42/69 [00:00<00:00, 68.12it/s]\u001b[A\n",
      " 72%|#######2  | 50/69 [00:00<00:00, 70.32it/s]\u001b[A\n",
      " 86%|########5 | 59/69 [00:00<00:00, 73.97it/s]\u001b[A\n",
      " 99%|#########8| 68/69 [00:00<00:00, 77.04it/s]\u001b[A\n",
      " 97%|█████████▋| 769/792 [00:36<00:03,  6.23it/s]A"
     ]
    },
    {
     "name": "stdout",
     "output_type": "stream",
     "text": [
      "{'ade': 0.4575174, 'fde': 0.981012}\n",
      "\t last loss:0.000456293, eval on validation:['ade: 0.4575174', 'fde: 0.981012'], (best ade:0.45612139 at step 63900) \n"
     ]
    },
    {
     "name": "stderr",
     "output_type": "stream",
     "text": [
      "100%|██████████| 792/792 [00:37<00:00, 21.21it/s]\n",
      "  0%|          | 2/792 [00:00<00:42, 18.65it/s]"
     ]
    },
    {
     "name": "stdout",
     "output_type": "stream",
     "text": [
      "('Epoca 98.', 'lr:', 8.187269e-07)\n"
     ]
    },
    {
     "name": "stderr",
     "output_type": "stream",
     "text": [
      " 35%|███▍      | 274/792 [00:10<00:19, 26.14it/s]\n",
      "  0%|          | 0/69 [00:00<?, ?it/s]\u001b[A"
     ]
    },
    {
     "name": "stdout",
     "output_type": "stream",
     "text": [
      "\tsaving model 77100...\n",
      "\tdone\n",
      "Evaluating\n"
     ]
    },
    {
     "name": "stderr",
     "output_type": "stream",
     "text": [
      "\n",
      " 14%|#4        | 10/69 [00:00<00:00, 91.99it/s]\u001b[A\n",
      " 25%|##4       | 17/69 [00:00<00:00, 82.02it/s]\u001b[A\n",
      " 35%|###4      | 24/69 [00:00<00:00, 75.97it/s]\u001b[A\n",
      " 46%|####6     | 32/69 [00:00<00:00, 75.51it/s]\u001b[A\n",
      " 58%|#####7    | 40/69 [00:00<00:00, 76.37it/s]\u001b[A\n",
      " 70%|######9   | 48/69 [00:00<00:00, 77.21it/s]\u001b[A\n",
      " 84%|########4 | 58/69 [00:00<00:00, 81.19it/s]\u001b[A\n",
      " 99%|#########8| 68/69 [00:00<00:00, 84.04it/s]\u001b[A\n",
      " 35%|███▍      | 277/792 [00:12<01:15,  6.83it/s]A"
     ]
    },
    {
     "name": "stdout",
     "output_type": "stream",
     "text": [
      "{'ade': 0.45752072, 'fde': 0.98095435}\n",
      "\t last loss:0.000531229, eval on validation:['ade: 0.45752072', 'fde: 0.98095435'], (best ade:0.45612139 at step 63900) \n"
     ]
    },
    {
     "name": "stderr",
     "output_type": "stream",
     "text": [
      " 72%|███████▏  | 574/792 [00:23<00:08, 24.77it/s]\n",
      "  0%|          | 0/69 [00:00<?, ?it/s]\u001b[A"
     ]
    },
    {
     "name": "stdout",
     "output_type": "stream",
     "text": [
      "\tsaving model 77400...\n",
      "\tdone\n",
      "Evaluating\n"
     ]
    },
    {
     "name": "stderr",
     "output_type": "stream",
     "text": [
      "\n",
      " 13%|#3        | 9/69 [00:00<00:00, 84.88it/s]\u001b[A\n",
      " 22%|##1       | 15/69 [00:00<00:00, 72.25it/s]\u001b[A\n",
      " 30%|###       | 21/69 [00:00<00:00, 66.92it/s]\u001b[A\n",
      " 41%|####      | 28/69 [00:00<00:00, 66.68it/s]\u001b[A\n",
      " 51%|#####     | 35/69 [00:00<00:00, 67.58it/s]\u001b[A\n",
      " 62%|######2   | 43/69 [00:00<00:00, 69.25it/s]\u001b[A\n",
      " 75%|#######5  | 52/69 [00:00<00:00, 72.99it/s]\u001b[A\n",
      " 86%|########5 | 59/69 [00:00<00:00, 70.53it/s]\u001b[A\n",
      " 96%|#########5| 66/69 [00:00<00:00, 68.28it/s]\u001b[A\n",
      " 73%|███████▎  | 577/792 [00:25<00:35,  6.06it/s]A"
     ]
    },
    {
     "name": "stdout",
     "output_type": "stream",
     "text": [
      "{'ade': 0.457026, 'fde': 0.9793709}\n",
      "\t last loss:0.000532332, eval on validation:['ade: 0.457026', 'fde: 0.9793709'], (best ade:0.45612139 at step 63900) \n"
     ]
    },
    {
     "name": "stderr",
     "output_type": "stream",
     "text": [
      "100%|██████████| 792/792 [00:35<00:00, 22.58it/s]\n",
      "  0%|          | 2/792 [00:00<00:51, 15.22it/s]"
     ]
    },
    {
     "name": "stdout",
     "output_type": "stream",
     "text": [
      "('Epoca 99.', 'lr:', 6.9591783e-07)\n"
     ]
    },
    {
     "name": "stderr",
     "output_type": "stream",
     "text": [
      " 10%|█         | 83/792 [00:03<00:27, 26.19it/s]\n",
      "  0%|          | 0/69 [00:00<?, ?it/s]\u001b[A"
     ]
    },
    {
     "name": "stdout",
     "output_type": "stream",
     "text": [
      "\tsaving model 77700...\n",
      "\tdone\n",
      "Evaluating\n"
     ]
    },
    {
     "name": "stderr",
     "output_type": "stream",
     "text": [
      "\n",
      " 13%|#3        | 9/69 [00:00<00:00, 83.90it/s]\u001b[A\n",
      " 23%|##3       | 16/69 [00:00<00:00, 79.04it/s]\u001b[A\n",
      " 33%|###3      | 23/69 [00:00<00:00, 73.43it/s]\u001b[A\n",
      " 42%|####2     | 29/69 [00:00<00:00, 67.46it/s]\u001b[A\n",
      " 55%|#####5    | 38/69 [00:00<00:00, 72.39it/s]\u001b[A\n",
      " 70%|######9   | 48/69 [00:00<00:00, 77.43it/s]\u001b[A\n",
      " 81%|########1 | 56/69 [00:00<00:00, 77.73it/s]\u001b[A\n",
      " 94%|#########4| 65/69 [00:00<00:00, 80.23it/s]\u001b[A\n",
      " 11%|█         | 86/792 [00:04<01:44,  6.77it/s][A"
     ]
    },
    {
     "name": "stdout",
     "output_type": "stream",
     "text": [
      "{'ade': 0.45749712, 'fde': 0.98093045}\n",
      "\t last loss:0.000316549, eval on validation:['ade: 0.45749712', 'fde: 0.98093045'], (best ade:0.45612139 at step 63900) \n"
     ]
    },
    {
     "name": "stderr",
     "output_type": "stream",
     "text": [
      " 48%|████▊     | 383/792 [00:16<00:16, 24.99it/s]"
     ]
    },
    {
     "name": "stdout",
     "output_type": "stream",
     "text": [
      "\tsaving model 78000...\n"
     ]
    },
    {
     "name": "stderr",
     "output_type": "stream",
     "text": [
      "\n",
      "  0%|          | 0/69 [00:00<?, ?it/s]\u001b[A\n",
      " 13%|#3        | 9/69 [00:00<00:00, 83.19it/s]\u001b[A"
     ]
    },
    {
     "name": "stdout",
     "output_type": "stream",
     "text": [
      "\tdone\n",
      "Evaluating\n"
     ]
    },
    {
     "name": "stderr",
     "output_type": "stream",
     "text": [
      "\n",
      " 22%|##1       | 15/69 [00:00<00:00, 73.90it/s]\u001b[A\n",
      " 30%|###       | 21/69 [00:00<00:00, 67.13it/s]\u001b[A\n",
      " 39%|###9      | 27/69 [00:00<00:00, 62.57it/s]\u001b[A\n",
      " 52%|#####2    | 36/69 [00:00<00:00, 67.29it/s]\u001b[A\n",
      " 62%|######2   | 43/69 [00:00<00:00, 67.67it/s]\u001b[A\n",
      " 74%|#######3  | 51/69 [00:00<00:00, 70.83it/s]\u001b[A\n",
      " 86%|########5 | 59/69 [00:00<00:00, 71.63it/s]\u001b[A\n",
      " 99%|#########8| 68/69 [00:00<00:00, 75.27it/s]\u001b[A\n",
      " 49%|████▊     | 386/792 [00:17<01:04,  6.26it/s]A"
     ]
    },
    {
     "name": "stdout",
     "output_type": "stream",
     "text": [
      "{'ade': 0.4576215, 'fde': 0.98125154}\n",
      "\t last loss:0.000172301, eval on validation:['ade: 0.4576215', 'fde: 0.98125154'], (best ade:0.45612139 at step 63900) \n"
     ]
    },
    {
     "name": "stderr",
     "output_type": "stream",
     "text": [
      " 86%|████████▌ | 683/792 [00:30<00:04, 22.46it/s]"
     ]
    },
    {
     "name": "stdout",
     "output_type": "stream",
     "text": [
      "\tsaving model 78300...\n"
     ]
    },
    {
     "name": "stderr",
     "output_type": "stream",
     "text": [
      "\n",
      "  0%|          | 0/69 [00:00<?, ?it/s]\u001b[A\n",
      " 12%|#1        | 8/69 [00:00<00:00, 74.95it/s]\u001b[A"
     ]
    },
    {
     "name": "stdout",
     "output_type": "stream",
     "text": [
      "\tdone\n",
      "Evaluating\n"
     ]
    },
    {
     "name": "stderr",
     "output_type": "stream",
     "text": [
      "\n",
      " 22%|##1       | 15/69 [00:00<00:00, 68.74it/s]\u001b[A\n",
      " 30%|###       | 21/69 [00:00<00:00, 64.92it/s]\u001b[A\n",
      " 39%|###9      | 27/69 [00:00<00:00, 60.24it/s]\u001b[A\n",
      " 51%|#####     | 35/69 [00:00<00:00, 63.84it/s]\u001b[A\n",
      " 61%|######    | 42/69 [00:00<00:00, 64.62it/s]\u001b[A\n",
      " 72%|#######2  | 50/69 [00:00<00:00, 66.89it/s]\u001b[A\n",
      " 84%|########4 | 58/69 [00:00<00:00, 69.37it/s]\u001b[A\n",
      " 94%|#########4| 65/69 [00:00<00:00, 68.05it/s]\u001b[A\n",
      " 87%|████████▋ | 686/792 [00:32<00:18,  5.72it/s]A"
     ]
    },
    {
     "name": "stdout",
     "output_type": "stream",
     "text": [
      "{'ade': 0.45750716, 'fde': 0.98098487}\n",
      "\t last loss:0.000373679, eval on validation:['ade: 0.45750716', 'fde: 0.98098487'], (best ade:0.45612139 at step 63900) \n"
     ]
    },
    {
     "name": "stderr",
     "output_type": "stream",
     "text": [
      "100%|██████████| 792/792 [00:36<00:00, 21.55it/s]\n",
      "  0%|          | 2/792 [00:00<00:46, 16.84it/s]"
     ]
    },
    {
     "name": "stdout",
     "output_type": "stream",
     "text": [
      "('Epoca 100.', 'lr:', 6.9591783e-07)\n"
     ]
    },
    {
     "name": "stderr",
     "output_type": "stream",
     "text": [
      " 24%|██▍       | 189/792 [00:08<00:26, 22.86it/s]\n",
      "  0%|          | 0/69 [00:00<?, ?it/s]\u001b[A"
     ]
    },
    {
     "name": "stdout",
     "output_type": "stream",
     "text": [
      "\tsaving model 78600...\n",
      "\tdone\n",
      "Evaluating\n"
     ]
    },
    {
     "name": "stderr",
     "output_type": "stream",
     "text": [
      "\n",
      " 13%|#3        | 9/69 [00:00<00:00, 81.65it/s]\u001b[A\n",
      " 25%|##4       | 17/69 [00:00<00:00, 79.39it/s]\u001b[A\n",
      " 38%|###7      | 26/69 [00:00<00:00, 80.87it/s]\u001b[A\n",
      " 51%|#####     | 35/69 [00:00<00:00, 82.12it/s]\u001b[A\n",
      " 64%|######3   | 44/69 [00:00<00:00, 82.46it/s]\u001b[A\n",
      " 75%|#######5  | 52/69 [00:00<00:00, 81.17it/s]\u001b[A\n",
      " 88%|########8 | 61/69 [00:00<00:00, 83.30it/s]\u001b[A\n",
      " 25%|██▍       | 195/792 [00:09<01:07,  8.81it/s]A"
     ]
    },
    {
     "name": "stdout",
     "output_type": "stream",
     "text": [
      "{'ade': 0.45776746, 'fde': 0.981814}\n",
      "\t last loss:0.000268534, eval on validation:['ade: 0.45776746', 'fde: 0.981814'], (best ade:0.45612139 at step 63900) \n"
     ]
    },
    {
     "name": "stderr",
     "output_type": "stream",
     "text": [
      " 62%|██████▏   | 489/792 [00:22<00:13, 22.65it/s]"
     ]
    },
    {
     "name": "stdout",
     "output_type": "stream",
     "text": [
      "\tsaving model 78900...\n"
     ]
    },
    {
     "name": "stderr",
     "output_type": "stream",
     "text": [
      "\n",
      "  0%|          | 0/69 [00:00<?, ?it/s]\u001b[A\n",
      " 12%|#1        | 8/69 [00:00<00:00, 72.98it/s]\u001b[A\n",
      " 20%|##        | 14/69 [00:00<00:00, 65.45it/s]\u001b[A\n",
      " 29%|##8       | 20/69 [00:00<00:00, 61.10it/s]\u001b[A\n",
      " 36%|###6      | 25/69 [00:00<00:00, 55.83it/s]\u001b[A\n",
      " 46%|####6     | 32/69 [00:00<00:00, 59.30it/s]\u001b[A\n",
      " 57%|#####6    | 39/69 [00:00<00:00, 60.74it/s]\u001b[A\n",
      " 67%|######6   | 46/69 [00:00<00:00, 61.65it/s]\u001b[A\n",
      " 78%|#######8  | 54/69 [00:00<00:00, 64.70it/s]\u001b[A\n",
      " 90%|########9 | 62/69 [00:00<00:00, 67.34it/s]\u001b[A\n",
      " 62%|██████▏   | 494/792 [00:23<00:41,  7.22it/s]A"
     ]
    },
    {
     "name": "stdout",
     "output_type": "stream",
     "text": [
      "\tdone\n",
      "Evaluating\n",
      "{'ade': 0.45740196, 'fde': 0.98074764}\n",
      "\t last loss:0.000353428, eval on validation:['ade: 0.45740196', 'fde: 0.98074764'], (best ade:0.45612139 at step 63900) \n"
     ]
    },
    {
     "name": "stderr",
     "output_type": "stream",
     "text": [
      "100%|█████████▉| 791/792 [00:36<00:00, 24.48it/s]\n",
      "  0%|          | 0/69 [00:00<?, ?it/s]\u001b[A"
     ]
    },
    {
     "name": "stdout",
     "output_type": "stream",
     "text": [
      "\tsaving model 79200...\n",
      "\tdone\n",
      "Evaluating\n"
     ]
    },
    {
     "name": "stderr",
     "output_type": "stream",
     "text": [
      "\n",
      " 12%|#1        | 8/69 [00:00<00:00, 77.98it/s]\u001b[A\n",
      " 20%|##        | 14/69 [00:00<00:00, 71.11it/s]\u001b[A\n",
      " 29%|##8       | 20/69 [00:00<00:00, 67.10it/s]\u001b[A\n",
      " 38%|###7      | 26/69 [00:00<00:00, 64.03it/s]\u001b[A\n",
      " 49%|####9     | 34/69 [00:00<00:00, 66.11it/s]\u001b[A\n",
      " 59%|#####9    | 41/69 [00:00<00:00, 67.21it/s]\u001b[A\n",
      " 72%|#######2  | 50/69 [00:00<00:00, 71.96it/s]\u001b[A\n",
      " 86%|########5 | 59/69 [00:00<00:00, 74.95it/s]\u001b[A\n",
      " 99%|#########8| 68/69 [00:00<00:00, 77.19it/s]\u001b[A\n",
      "100%|██████████| 792/792 [00:37<00:00, 21.25it/s]A"
     ]
    },
    {
     "name": "stdout",
     "output_type": "stream",
     "text": [
      "{'ade': 0.4572932, 'fde': 0.9802883}\n",
      "\t last loss:0.000220933, eval on validation:['ade: 0.4572932', 'fde: 0.9802883'], (best ade:0.45612139 at step 63900) \n",
      "best eval on val ade: 0.45612139 at 63900 step y fde es 0.97692084 \n"
     ]
    },
    {
     "name": "stderr",
     "output_type": "stream",
     "text": [
      "\n"
     ]
    }
   ],
   "source": [
    "import os \n",
    "from tqdm import tqdm\n",
    "import tensorflow as tf\n",
    "import math\n",
    "\n",
    "tf.reset_default_graph()\n",
    "\n",
    "arguments = parameters1(add_kp = False, add_social = True,train_num_examples=len(data1['obs_traj']))\n",
    "model = model.Model(arguments)\n",
    "\n",
    "train_data = batches_data.Dataset(data1,arguments)\n",
    "val_data = batches_data.Dataset(data3,arguments)\n",
    "\n",
    "saver = tf.train.Saver(max_to_keep = 2)\n",
    "bestsaver = tf.train.Saver(max_to_keep = 2)\n",
    "\n",
    "\n",
    "trainer = entrenamientoevaluacion.Trainer(model,arguments)\n",
    "tester = entrenamientoevaluacion.Tester(model, arguments)\n",
    "\n",
    "#inicializamos las variables globales\n",
    "init = tf.global_variables_initializer()\n",
    "sess = tf.Session()\n",
    "sess.run(init)\n",
    "\n",
    "increment_global_step_op = tf.assign(model.global_step, model.global_step+1)\n",
    "\n",
    "val_perf = []\n",
    "loss = -1\n",
    "metric = 'ade'\n",
    "\n",
    "best = {metric:999999, 'fde':0, 'step':-1}\n",
    "is_start = True\n",
    "\n",
    "num_steps = int(math.ceil(train_data.num_examples/float(arguments.batch_size)))\n",
    "loss_list = []\n",
    "print(num_steps)\n",
    "\n",
    "for i in range(arguments.num_epochs):\n",
    "    print('Epoca {0}.' .format(i+1), 'lr:', sess.run(trainer.get_lr()))\n",
    "    \n",
    "    #For de batches\n",
    "    for idx, batch in tqdm(train_data.get_batches(arguments.batch_size,num_steps = num_steps),total=num_steps):\n",
    "        \n",
    "        sess.run(increment_global_step_op)\n",
    "        global_step = sess.run(model.global_step)\n",
    "\n",
    "        #Evaluamos el entrenamiento\n",
    "        if((global_step%arguments.validate==0) or (arguments.load_best and is_start)):\n",
    "            tqdm.write(\"\\tsaving model %s...\" % global_step)\n",
    "            checkpoint_path_model = os.path.join('SINKP_NON_UCYZARA01_12', 'model.ckpt')\n",
    "            saver.save(sess,checkpoint_path_model , global_step = global_step)\n",
    "            tqdm.write(\"\\tdone\")\n",
    "            \n",
    "            print('Evaluating')\n",
    "            results = evaluate(val_data, tester,sess,arguments)\n",
    "            print(results)\n",
    "           \n",
    "            tqdm.write((\"\\t last loss:%.9f, eval on validation:%s,\"\n",
    "                    \" (best %s:%s at step %s) \") % (loss,[\"%s: %s\" % (k, results[k]) for k in sorted(results.keys())], metric,best[metric], best[\"step\"]))\n",
    "            if results[\"ade\"]< best[metric]:\n",
    "                best[metric] = results[\"ade\"]\n",
    "                best[\"fde\"] =results[\"fde\"]\n",
    "                best[\"step\"] = global_step\n",
    "                \n",
    "                tqdm.write(\"\\t saving best model...\")\n",
    "                checkpoint_path_model_best = os.path.join('SINKP_NON_UCYZARA01-BEST_12', 'model_best.ckpt')\n",
    "                bestsaver.save(sess,checkpoint_path_model_best,global_step = global_step)\n",
    "                tqdm.write(\"\\t done.\")\n",
    "                finalperf = results\n",
    "                val_perf.append((loss, results))\n",
    "            is_start = False\n",
    "        loss, train_op = trainer.step(sess, batch)\n",
    "        loss_list.append(loss)\n",
    "    \n",
    "if((global_step % arguments.validate)!=0):\n",
    "  checkpoint_path_model = os.path.join('SINKP_NON_UCYZARA01_12', 'model.ckpt')\n",
    "  saver.save(sess,checkpoint_path_model , global_step = global_step)\n",
    "\n",
    "print(\"best eval on val %s: %s at %s step y fde es %s \" % (metric, best[metric], best[\"step\"],best[\"fde\"]))\n"
   ]
  },
  {
   "cell_type": "code",
   "execution_count": 11,
   "metadata": {},
   "outputs": [
    {
     "data": {
      "image/png": "[encoded data removed]",
      "text/plain": [
       "<Figure size 432x288 with 1 Axes>"
      ]
     },
     "metadata": {
      "needs_background": "light"
     },
     "output_type": "display_data"
    }
   ],
   "source": [
    "from matplotlib import pyplot as plt\n",
    "plt.plot(loss_list)\n",
    "plt.show()"
   ]
  },
  {
   "cell_type": "code",
   "execution_count": 12,
   "metadata": {},
   "outputs": [
    {
     "data": {
      "text/plain": [
       "'SINKP_NON_UCYZARA01_12_F/model.ckpt-79200'"
      ]
     },
     "execution_count": 12,
     "metadata": {},
     "output_type": "execute_result"
    }
   ],
   "source": [
    "# Guardamos el ultimo modelo\n",
    "checkpoint_path_model = os.path.join('SINKP_NON_UCYZARA01_12_F', 'model.ckpt')\n",
    "saver.save(sess,checkpoint_path_model , global_step = global_step)"
   ]
  },
  {
   "cell_type": "markdown",
   "metadata": {},
   "source": [
    "# Restauramos los modelos"
   ]
  },
  {
   "cell_type": "code",
   "execution_count": 14,
   "metadata": {},
   "outputs": [
    {
     "name": "stderr",
     "output_type": "stream",
     "text": [
      "  8%|7         | 9/118 [00:00<00:01, 86.56it/s]"
     ]
    },
    {
     "name": "stdout",
     "output_type": "stream",
     "text": [
      "Evaluating\n"
     ]
    },
    {
     "name": "stderr",
     "output_type": "stream",
     "text": [
      "100%|##########| 118/118 [00:01<00:00, 89.59it/s]"
     ]
    },
    {
     "name": "stdout",
     "output_type": "stream",
     "text": [
      "{'ade': 0.4171511, 'fde': 0.9080485}\n"
     ]
    },
    {
     "name": "stderr",
     "output_type": "stream",
     "text": [
      "\n"
     ]
    }
   ],
   "source": [
    "#Ultimo Modelo\n",
    "path_model = 'SINKP_NON_UCYZARA01_12_F/model.ckpt-79200'\n",
    "saver.restore(sess=sess, save_path=path_model)\n",
    "\n",
    "\n",
    "test_data = batches_data.Dataset(data_prueba, arguments)\n",
    "print('Evaluating')\n",
    "results = evaluate(test_data, tester,sess,arguments)\n",
    "print(results)"
   ]
  },
  {
   "cell_type": "code",
   "execution_count": 15,
   "metadata": {},
   "outputs": [
    {
     "name": "stderr",
     "output_type": "stream",
     "text": [
      "  4%|4         | 5/118 [00:00<00:02, 48.42it/s]"
     ]
    },
    {
     "name": "stdout",
     "output_type": "stream",
     "text": [
      "Evaluating\n"
     ]
    },
    {
     "name": "stderr",
     "output_type": "stream",
     "text": [
      "100%|##########| 118/118 [00:01<00:00, 80.37it/s]\n"
     ]
    },
    {
     "name": "stdout",
     "output_type": "stream",
     "text": [
      "{'ade': 0.41715416, 'fde': 0.90805495}\n"
     ]
    }
   ],
   "source": [
    "#Modelo12\n",
    "path_model = 'SINKP_NON_UCYZARA01_12/model.ckpt-79200'\n",
    "saver.restore(sess=sess, save_path=path_model)\n",
    "\n",
    "\n",
    "test_data = batches_data.Dataset(data_prueba, arguments)\n",
    "print('Evaluating')\n",
    "results = evaluate(test_data, tester,sess,arguments)\n",
    "print(results)"
   ]
  },
  {
   "cell_type": "code",
   "execution_count": 16,
   "metadata": {},
   "outputs": [
    {
     "name": "stderr",
     "output_type": "stream",
     "text": [
      "  5%|5         | 6/118 [00:00<00:01, 56.57it/s]"
     ]
    },
    {
     "name": "stdout",
     "output_type": "stream",
     "text": [
      "Evaluating\n"
     ]
    },
    {
     "name": "stderr",
     "output_type": "stream",
     "text": [
      "100%|##########| 118/118 [00:01<00:00, 80.28it/s]"
     ]
    },
    {
     "name": "stdout",
     "output_type": "stream",
     "text": [
      "{'ade': 0.41687816, 'fde': 0.9066303}\n"
     ]
    },
    {
     "name": "stderr",
     "output_type": "stream",
     "text": [
      "\n"
     ]
    }
   ],
   "source": [
    "# Mejor Modelo\n",
    "path_model = 'SINKP_NON_UCYZARA01-BEST_12/model_best.ckpt-63900'\n",
    "saver.restore(sess=sess, save_path=path_model)\n",
    "\n",
    "test_data = batches_data.Dataset(data_prueba, arguments)\n",
    "print('Evaluating')\n",
    "results = evaluate(test_data, tester,sess,arguments)\n",
    "print(results)"
   ]
  },
  {
   "cell_type": "code",
   "execution_count": null,
   "metadata": {},
   "outputs": [],
   "source": []
  }
 ],
 "metadata": {
  "kernelspec": {
   "display_name": "Python 2",
   "language": "python",
   "name": "python2"
  },
  "language_info": {
   "codemirror_mode": {
    "name": "ipython",
    "version": 2
   },
   "file_extension": ".py",
   "mimetype": "text/x-python",
   "name": "python",
   "nbconvert_exporter": "python",
   "pygments_lexer": "ipython2",
   "version": "2.7.16"
  }
 },
 "nbformat": 4,
 "nbformat_minor": 2
}
