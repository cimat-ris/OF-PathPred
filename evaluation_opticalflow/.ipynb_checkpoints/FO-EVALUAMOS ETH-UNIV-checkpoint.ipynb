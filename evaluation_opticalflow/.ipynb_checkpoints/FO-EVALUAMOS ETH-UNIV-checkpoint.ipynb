{
 "cells": [
  {
   "cell_type": "code",
   "execution_count": 1,
   "metadata": {},
   "outputs": [],
   "source": [
    "import sys\n",
    "sys.path.append('/home/andrea/Documentos/OF-PathPred/evaluation_opticalflow/lib')\n",
    "import numpy as np\n",
    "#from process_file import process_file_modif\n",
    "#from process_file import process_file_modif_varios\n",
    "#from process_file import datos_subprocesados_varios\n",
    "from interseccion_process_file import process_file_modif_varios_inter\n",
    "from interseccion_process_file import process_file_modif_inter\n",
    "from interaction_optical_flow import OpticalFlowSimulator\n",
    "\n",
    "import batches_data\n",
    "import model\n",
    "\n",
    "import tensorflow as tf \n",
    "tf.reset_default_graph()\n",
    "\n",
    "import entrenamientoevaluacion\n",
    "from entrenamientoevaluacion import evaluate"
   ]
  },
  {
   "cell_type": "code",
   "execution_count": 2,
   "metadata": {},
   "outputs": [],
   "source": [
    "# parametros para preprocesar los datos\n",
    "# en marco mundo\n",
    "class parameters:\n",
    "    def __init__(self):\n",
    "        #el numero de personas maximasdel conjunto de test\n",
    "        self.person_max = 5\n",
    "        #el indice del conjunto de test\n",
    "        self.ind_test = 0\n",
    "        self.obs_len = 8\n",
    "        self.pred_len = 12\n",
    "        self.add_social = True\n",
    "        self.kp_num = 18\n",
    "        self.add_kp = False\n",
    "        #self.directory_flujo='../evaluation_opticalflow/flujos'\n",
    "arguments = parameters()"
   ]
  },
  {
   "cell_type": "code",
   "execution_count": 3,
   "metadata": {},
   "outputs": [
    {
     "name": "stdout",
     "output_type": "stream",
     "text": [
      "../data1/eth-hotel/mundo/mun_pos.csv\n",
      "('The numbers of examples is: ', 913)\n",
      "../data1/ucy-zara01/mundo/mun_pos.csv\n",
      "('The numbers of examples is: ', 2356)\n",
      "../data1/ucy-zara02/mundo/mun_pos.csv\n",
      "('The numbers of examples is: ', 5910)\n",
      "../data1/ucy-univ/mundo/mun_pos.csv\n",
      "('The numbers of examples is: ', 10039)\n",
      "\n",
      "\n",
      "\n",
      "('[INF] Sequence length: ', 20)\n",
      "../data1/eth-univ/mundo/mun_pos.csv\n",
      "('El numero total de ejemplos es: ', 339)\n"
     ]
    }
   ],
   "source": [
    "# Cargamos los argumentos\n",
    "data_dirs = ['../data1/eth-univ', '../data1/eth-hotel',\n",
    "             '../data1/ucy-zara01', '../data1/ucy-zara02',\n",
    "             '../data1/ucy-univ']\n",
    "\n",
    "#list_max_person = [42,28,22,26,68]\n",
    "list_max_person_inter = [5,8,14,14,40]\n",
    "data_train_and_val = process_file_modif_varios_inter(data_dirs, list_max_person_inter, arguments, ',')\n",
    "print(\"\\n\\n\")\n",
    "dir_test = data_dirs[arguments.ind_test]\n",
    "data_test = process_file_modif_inter(dir_test, arguments,',')\n",
    "\n",
    "fo = OpticalFlowSimulator()\n",
    "flujo_test, vis_neigh_test = fo.compute_opticalflow_batch(data_test['obs_person'], data_test['key_idx'], data_test['obs_traj'],arguments.obs_len)\n",
    "data_test.update({\n",
    "    \"obs_flujo\": flujo_test,\n",
    "})"
   ]
  },
  {
   "cell_type": "markdown",
   "metadata": {},
   "source": [
    "# We divide the data"
   ]
  },
  {
   "cell_type": "code",
   "execution_count": 4,
   "metadata": {},
   "outputs": [
    {
     "name": "stdout",
     "output_type": "stream",
     "text": [
      "data_train: 17680\n",
      "data_test: 339\n",
      "data_val: 1538\n"
     ]
    }
   ],
   "source": [
    "#se fija la semilaa\n",
    "import random\n",
    "random.seed(0)\n",
    "\n",
    "# Muestreamos aleatoriamente para separar datos de entrenamiento, validacion y prueba\n",
    "\n",
    "\n",
    "# porcentaje para el conjunto de train\n",
    "prob      = 0.92\n",
    "# La cantidad total de listas de tam 8 del conjunto train and test\n",
    "ndata     = len(data_train_and_val[list(data_train_and_val.keys())[2]])\n",
    "idx       = random.sample(range(ndata), ndata)\n",
    "long1     = int(ndata*prob)\n",
    "long2     = int(ndata-long1)\n",
    "\n",
    "idx_train = idx[0:long1]\n",
    "idx_val   = idx[long1:]\n",
    "\n",
    "\n",
    "# conjunto de entrenamiento\n",
    "data1 = {\n",
    "     \"obs_traj\": data_train_and_val[\"obs_traj\"][idx_train],\n",
    "     \"obs_traj_rel\": data_train_and_val[\"obs_traj_rel\"][idx_train],\n",
    "    \n",
    "     \"pred_traj\": data_train_and_val[\"pred_traj\"][idx_train],\n",
    "     \"pred_traj_rel\": data_train_and_val[\"pred_traj_rel\"][idx_train],\n",
    "    \n",
    "     #\"key_idx\": data_entrena_vali[\"key_idx\"][[idx_train]],\n",
    "     \"obs_flujo\" : data_train_and_val[\"obs_flujo\"][idx_train],\n",
    "     #\"pred_kp\": data_pets[\"pred_kp\"][idx_train],\n",
    "     #\"obs_person\": data_pets[\"obs_person\"][idx_train],\n",
    "}\n",
    "\n",
    "\n",
    "# conjunto de validacion\n",
    "data3 ={\n",
    "     \"obs_traj\": data_train_and_val[\"obs_traj\"][idx_val],\n",
    "     \"obs_traj_rel\": data_train_and_val[\"obs_traj_rel\"][idx_val],\n",
    "     \"pred_traj\": data_train_and_val[\"pred_traj\"][idx_val],\n",
    "     \"pred_traj_rel\": data_train_and_val[\"pred_traj_rel\"][idx_val],\n",
    "     #\"key_idx\": data_entrena_vali[\"key_idx\"][[idx_val]],\n",
    "     \"obs_flujo\" : data_train_and_val[\"obs_flujo\"][idx_val],\n",
    "}\n",
    "\n",
    "\n",
    "#if arguments.add_kp:\n",
    "#  print(data3['obs_person_rel'])\n",
    "\n",
    "print(\"data_train: \"+ str(len(data1[list(data1.keys())[0]])))\n",
    "print(\"data_test: \"+ str(len(data_test[list(data_test.keys())[0]])))\n",
    "print(\"data_val: \"+ str(len(data3[list(data3.keys())[0]])))\n"
   ]
  },
  {
   "cell_type": "markdown",
   "metadata": {},
   "source": [
    "# We keep the division of the data"
   ]
  },
  {
   "cell_type": "code",
   "execution_count": 5,
   "metadata": {},
   "outputs": [],
   "source": [
    "import pickle\n",
    "\n",
    "#conjunto de entrenamiento\n",
    "pickle_out = open(\"data1_FO_ETH-UNIV_12.pickle\",\"wb\")\n",
    "pickle.dump(data1, pickle_out, protocol=2)\n",
    "pickle_out.close()\n",
    "\n",
    "#conjunto de prueba\n",
    "pickle_out = open(\"data2_FO_ETH-UNIV_12.pickle\",\"wb\")\n",
    "pickle.dump(data_test, pickle_out, protocol=2)\n",
    "pickle_out.close()\n",
    "\n",
    "#conjunto de validacion\n",
    "pickle_out = open(\"data3_FO_ETH-UNIV_12.pickle\",\"wb\")\n",
    "pickle.dump(data3, pickle_out, protocol=2)\n",
    "pickle_out.close()"
   ]
  },
  {
   "cell_type": "markdown",
   "metadata": {},
   "source": [
    "# Model parameters"
   ]
  },
  {
   "cell_type": "code",
   "execution_count": 6,
   "metadata": {},
   "outputs": [],
   "source": [
    "class parameters1:\n",
    "    def __init__(self, add_kp = None, add_social=None, train_num_examples=None):\n",
    "        # -----------------\n",
    "        # Similar a como se procesaron los datos\n",
    "        self.obs_len = 8\n",
    "        self.pred_len = 12\n",
    "        if add_kp is None:\n",
    "            print('Parameter add kpp missing')\n",
    "            return\n",
    "        if train_num_examples is None:\n",
    "            print('El parametro train_examples fue olvidado')\n",
    "            return\n",
    "        if add_social is None:\n",
    "            print('Parameter add social missing')\n",
    "            return\n",
    "        \n",
    "        self.add_kp = add_kp\n",
    "        self.train_num_examples = train_num_examples\n",
    "        self.add_social = add_social\n",
    "        \n",
    "        self.kp_num = 18\n",
    "        self.kp_size = 18\n",
    "        \n",
    "        self.num_epochs = 100\n",
    "        self.batch_size = 20 # batch size\n",
    "        self.validate = 300\n",
    "        self.P = 2 # dimensión\n",
    "        self.enc_hidden_size = 128 # el nombre lo dice\n",
    "        self.dec_hidden_size = 128\n",
    "        self.emb_size = 64\n",
    "        self.keep_prob = 0.7 # dropout\n",
    "        \n",
    "        self.min_ped = 1\n",
    "        self.seq_len = self.obs_len + self.pred_len\n",
    "        self.reverse_xy = False\n",
    "        \n",
    "        self.activation_func = tf.nn.tanh\n",
    "        self.activation_func1 = tf.nn.relu\n",
    "        self.is_train = True\n",
    "        self.is_test = False\n",
    "        self.multi_decoder = False\n",
    "        self.modelname = 'gphuctl'\n",
    "        \n",
    "        self.init_lr = 0.002 # 0.01\n",
    "        self.learning_rate_decay = 0.85\n",
    "        self.num_epoch_per_decay = 2.0\n",
    "        self.optimizer = 'adam'\n",
    "        self.emb_lr = 1.0\n",
    "        #self.clip_gradient_norm = 10.0\n",
    "        #Para cuando entreno y quiero guardar el mejor modelo\n",
    "        self.load_best = True"
   ]
  },
  {
   "cell_type": "markdown",
   "metadata": {},
   "source": [
    "# Model training"
   ]
  },
  {
   "cell_type": "code",
   "execution_count": 7,
   "metadata": {},
   "outputs": [
    {
     "name": "stderr",
     "output_type": "stream",
     "text": [
      "WARNING: Logging before flag parsing goes to stderr.\n",
      "W0523 19:06:27.570837 139846180058880 deprecation.py:323] From /home/andrea/Documentos/OF-PathPred/evaluation_opticalflow/lib/model.py:60: __init__ (from tensorflow.python.ops.rnn_cell_impl) is deprecated and will be removed in a future version.\n",
      "Instructions for updating:\n",
      "This class is equivalent as tf.keras.layers.LSTMCell, and will be replaced by that in Tensorflow 2.0.\n",
      "W0523 19:06:27.612574 139846180058880 deprecation.py:323] From /home/andrea/Documentos/OF-PathPred/evaluation_opticalflow/lib/model.py:102: dynamic_rnn (from tensorflow.python.ops.rnn) is deprecated and will be removed in a future version.\n",
      "Instructions for updating:\n",
      "Please use `keras.layers.RNN(cell)`, which is equivalent to this API\n",
      "W0523 19:06:27.718785 139846180058880 deprecation.py:506] From /home/andrea/anaconda2/lib/python2.7/site-packages/tensorflow/python/ops/init_ops.py:1251: calling __init__ (from tensorflow.python.ops.init_ops) with dtype is deprecated and will be removed in a future version.\n",
      "Instructions for updating:\n",
      "Call initializer instance with the dtype argument instead of passing it to the constructor\n",
      "W0523 19:06:27.728763 139846180058880 deprecation.py:506] From /home/andrea/anaconda2/lib/python2.7/site-packages/tensorflow/python/ops/rnn_cell_impl.py:961: calling __init__ (from tensorflow.python.ops.init_ops) with dtype is deprecated and will be removed in a future version.\n",
      "Instructions for updating:\n",
      "Call initializer instance with the dtype argument instead of passing it to the constructor\n",
      "W0523 19:06:28.391978 139846180058880 deprecation.py:323] From /home/andrea/anaconda2/lib/python2.7/site-packages/tensorflow/python/ops/rnn.py:244: where (from tensorflow.python.ops.array_ops) is deprecated and will be removed in a future version.\n",
      "Instructions for updating:\n",
      "Use tf.where in 2.0, which has the same broadcast rule as np.where\n",
      "  0%|          | 0/884 [00:00<?, ?it/s]"
     ]
    },
    {
     "name": "stdout",
     "output_type": "stream",
     "text": [
      "884\n",
      "('Epoca 1.', 'lr:', 0.002)\n",
      "\tsaving model 1...\n"
     ]
    },
    {
     "name": "stderr",
     "output_type": "stream",
     "text": [
      "\n",
      "  0%|          | 0/77 [00:00<?, ?it/s]\u001b[A"
     ]
    },
    {
     "name": "stdout",
     "output_type": "stream",
     "text": [
      "\tdone\n",
      "Evaluating\n"
     ]
    },
    {
     "name": "stderr",
     "output_type": "stream",
     "text": [
      "\n",
      "  1%|1         | 1/77 [00:00<00:29,  2.60it/s]\u001b[A\n",
      "  5%|5         | 4/77 [00:00<00:20,  3.54it/s]\u001b[A\n",
      "  9%|9         | 7/77 [00:00<00:14,  4.82it/s]\u001b[A\n",
      " 13%|#2        | 10/77 [00:00<00:10,  6.44it/s]\u001b[A\n",
      " 18%|#8        | 14/77 [00:00<00:07,  8.61it/s]\u001b[A\n",
      " 26%|##5       | 20/77 [00:00<00:04, 11.56it/s]\u001b[A\n",
      " 31%|###1      | 24/77 [00:01<00:03, 14.68it/s]\u001b[A\n",
      " 36%|###6      | 28/77 [00:01<00:02, 17.18it/s]\u001b[A\n",
      " 42%|####1     | 32/77 [00:01<00:02, 18.84it/s]\u001b[A\n",
      " 47%|####6     | 36/77 [00:01<00:02, 20.38it/s]\u001b[A\n",
      " 52%|#####1    | 40/77 [00:01<00:01, 22.84it/s]\u001b[A\n",
      " 57%|#####7    | 44/77 [00:01<00:01, 25.66it/s]\u001b[A\n",
      " 65%|######4   | 50/77 [00:01<00:00, 30.68it/s]\u001b[A\n",
      " 73%|#######2  | 56/77 [00:01<00:00, 35.94it/s]\u001b[A\n",
      " 83%|########3 | 64/77 [00:02<00:00, 42.82it/s]\u001b[A\n",
      " 94%|#########3| 72/77 [00:02<00:00, 49.05it/s]\u001b[A\n",
      "100%|##########| 77/77 [00:02<00:00, 34.83it/s]\u001b[A"
     ]
    },
    {
     "name": "stdout",
     "output_type": "stream",
     "text": [
      "{'ade': 1.6251359, 'fde': 2.9807131}\n",
      "\t last loss:-1.000000000, eval on validation:['ade: 1.6251359', 'fde: 2.9807131'], (best ade:999999 at step -1) \n",
      "\t saving best model...\n",
      "\t done.\n"
     ]
    },
    {
     "name": "stderr",
     "output_type": "stream",
     "text": [
      " 34%|███▍      | 299/884 [00:16<00:22, 25.72it/s]\n",
      "  0%|          | 0/77 [00:00<?, ?it/s]\u001b[A"
     ]
    },
    {
     "name": "stdout",
     "output_type": "stream",
     "text": [
      "\tsaving model 300...\n",
      "\tdone\n",
      "Evaluating\n"
     ]
    },
    {
     "name": "stderr",
     "output_type": "stream",
     "text": [
      "\n",
      " 12%|#1        | 9/77 [00:00<00:00, 86.16it/s]\u001b[A\n",
      " 23%|##3       | 18/77 [00:00<00:00, 85.32it/s]\u001b[A\n",
      " 35%|###5      | 27/77 [00:00<00:00, 86.31it/s]\u001b[A\n",
      " 47%|####6     | 36/77 [00:00<00:00, 87.19it/s]\u001b[A\n",
      " 57%|#####7    | 44/77 [00:00<00:00, 83.11it/s]\u001b[A\n",
      " 68%|######7   | 52/77 [00:00<00:00, 78.61it/s]\u001b[A\n",
      " 77%|#######6  | 59/77 [00:00<00:00, 63.94it/s]\u001b[A\n",
      " 87%|########7 | 67/77 [00:00<00:00, 66.71it/s]\u001b[A\n",
      " 99%|#########8| 76/77 [00:01<00:00, 71.41it/s]\u001b[A\n",
      "100%|##########| 77/77 [00:01<00:00, 75.14it/s]\u001b[A"
     ]
    },
    {
     "name": "stdout",
     "output_type": "stream",
     "text": [
      "{'ade': 0.544574, 'fde': 1.2083352}\n",
      "\t last loss:0.000808252, eval on validation:['ade: 0.544574', 'fde: 1.2083352'], (best ade:1.6251359 at step 1) \n",
      "\t saving best model...\n",
      "\t done.\n"
     ]
    },
    {
     "name": "stderr",
     "output_type": "stream",
     "text": [
      " 68%|██████▊   | 599/884 [00:30<00:11, 23.76it/s]W0523 19:07:01.193208 139846180058880 deprecation.py:323] From /home/andrea/anaconda2/lib/python2.7/site-packages/tensorflow/python/training/saver.py:960: remove_checkpoint (from tensorflow.python.training.checkpoint_management) is deprecated and will be removed in a future version.\n",
      "Instructions for updating:\n",
      "Use standard file APIs to delete files with this prefix.\n",
      "\n",
      "  0%|          | 0/77 [00:00<?, ?it/s]\u001b[A"
     ]
    },
    {
     "name": "stdout",
     "output_type": "stream",
     "text": [
      "\tsaving model 600...\n",
      "\tdone\n",
      "Evaluating\n"
     ]
    },
    {
     "name": "stderr",
     "output_type": "stream",
     "text": [
      "\n",
      "  9%|9         | 7/77 [00:00<00:01, 68.24it/s]\u001b[A\n",
      " 19%|#9        | 15/77 [00:00<00:00, 69.50it/s]\u001b[A\n",
      " 31%|###1      | 24/77 [00:00<00:00, 73.54it/s]\u001b[A\n",
      " 42%|####1     | 32/77 [00:00<00:00, 75.08it/s]\u001b[A\n",
      " 53%|#####3    | 41/77 [00:00<00:00, 77.22it/s]\u001b[A\n",
      " 65%|######4   | 50/77 [00:00<00:00, 78.59it/s]\u001b[A\n",
      " 77%|#######6  | 59/77 [00:00<00:00, 81.15it/s]\u001b[A\n",
      " 87%|########7 | 67/77 [00:00<00:00, 78.06it/s]\u001b[A\n",
      " 97%|#########7| 75/77 [00:00<00:00, 78.48it/s]\u001b[A\n",
      "100%|##########| 77/77 [00:00<00:00, 78.47it/s]\u001b[A"
     ]
    },
    {
     "name": "stdout",
     "output_type": "stream",
     "text": [
      "{'ade': 0.49309167, 'fde': 1.0798123}\n",
      "\t last loss:0.000609448, eval on validation:['ade: 0.49309167', 'fde: 1.0798123'], (best ade:0.544574 at step 300) \n",
      "\t saving best model...\n",
      "\t done.\n"
     ]
    },
    {
     "name": "stderr",
     "output_type": "stream",
     "text": [
      "100%|██████████| 884/884 [00:44<00:00, 22.60it/s]\n",
      "  0%|          | 1/884 [00:00<01:33,  9.48it/s]"
     ]
    },
    {
     "name": "stdout",
     "output_type": "stream",
     "text": [
      "('Epoca 2.', 'lr:', 0.002)\n"
     ]
    },
    {
     "name": "stderr",
     "output_type": "stream",
     "text": [
      "  1%|▏         | 13/884 [00:00<00:48, 18.05it/s]\n",
      "  0%|          | 0/77 [00:00<?, ?it/s]\u001b[A"
     ]
    },
    {
     "name": "stdout",
     "output_type": "stream",
     "text": [
      "\tsaving model 900...\n",
      "\tdone\n",
      "Evaluating\n"
     ]
    },
    {
     "name": "stderr",
     "output_type": "stream",
     "text": [
      "\n",
      " 12%|#1        | 9/77 [00:00<00:00, 84.95it/s]\u001b[A\n",
      " 23%|##3       | 18/77 [00:00<00:00, 85.66it/s]\u001b[A\n",
      " 35%|###5      | 27/77 [00:00<00:00, 86.55it/s]\u001b[A\n",
      " 47%|####6     | 36/77 [00:00<00:00, 86.76it/s]\u001b[A\n",
      " 58%|#####8    | 45/77 [00:00<00:00, 87.52it/s]\u001b[A\n",
      " 69%|######8   | 53/77 [00:00<00:00, 84.22it/s]\u001b[A\n",
      " 79%|#######9  | 61/77 [00:00<00:00, 82.12it/s]\u001b[A\n",
      " 90%|########9 | 69/77 [00:00<00:00, 76.91it/s]\u001b[A\n",
      "  2%|▏         | 19/884 [00:01<01:51,  7.75it/s][A"
     ]
    },
    {
     "name": "stdout",
     "output_type": "stream",
     "text": [
      "{'ade': 0.5072675, 'fde': 1.1129087}\n",
      "\t last loss:0.000567695, eval on validation:['ade: 0.5072675', 'fde: 1.1129087'], (best ade:0.49309167 at step 600) \n"
     ]
    },
    {
     "name": "stderr",
     "output_type": "stream",
     "text": [
      " 36%|███▌      | 315/884 [00:14<00:23, 24.27it/s]\n",
      "  0%|          | 0/77 [00:00<?, ?it/s]\u001b[A"
     ]
    },
    {
     "name": "stdout",
     "output_type": "stream",
     "text": [
      "\tsaving model 1200...\n",
      "\tdone\n",
      "Evaluating\n"
     ]
    },
    {
     "name": "stderr",
     "output_type": "stream",
     "text": [
      "\n",
      "  9%|9         | 7/77 [00:00<00:01, 64.80it/s]\u001b[A\n",
      " 19%|#9        | 15/77 [00:00<00:00, 67.57it/s]\u001b[A\n",
      " 30%|##9       | 23/77 [00:00<00:00, 70.69it/s]\u001b[A\n",
      " 40%|####      | 31/77 [00:00<00:00, 72.32it/s]\u001b[A\n",
      " 52%|#####1    | 40/77 [00:00<00:00, 74.64it/s]\u001b[A\n",
      " 64%|######3   | 49/77 [00:00<00:00, 77.44it/s]\u001b[A\n",
      " 74%|#######4  | 57/77 [00:00<00:00, 76.19it/s]\u001b[A\n",
      " 84%|########4 | 65/77 [00:00<00:00, 73.90it/s]\u001b[A\n",
      " 96%|#########6| 74/77 [00:00<00:00, 77.24it/s]\u001b[A\n",
      " 36%|███▌      | 318/884 [00:15<01:32,  6.15it/s]A"
     ]
    },
    {
     "name": "stdout",
     "output_type": "stream",
     "text": [
      "{'ade': 0.5383717, 'fde': 1.1754352}\n",
      "\t last loss:0.000573243, eval on validation:['ade: 0.5383717', 'fde: 1.1754352'], (best ade:0.49309167 at step 600) \n"
     ]
    },
    {
     "name": "stderr",
     "output_type": "stream",
     "text": [
      " 69%|██████▉   | 614/884 [00:28<00:10, 24.98it/s]\n",
      "  0%|          | 0/77 [00:00<?, ?it/s]\u001b[A"
     ]
    },
    {
     "name": "stdout",
     "output_type": "stream",
     "text": [
      "\tsaving model 1500...\n",
      "\tdone\n",
      "Evaluating\n"
     ]
    },
    {
     "name": "stderr",
     "output_type": "stream",
     "text": [
      "\n",
      " 12%|#1        | 9/77 [00:00<00:00, 84.83it/s]\u001b[A\n",
      " 23%|##3       | 18/77 [00:00<00:00, 84.38it/s]\u001b[A\n",
      " 35%|###5      | 27/77 [00:00<00:00, 84.25it/s]\u001b[A\n",
      " 47%|####6     | 36/77 [00:00<00:00, 83.92it/s]\u001b[A\n",
      " 56%|#####5    | 43/77 [00:00<00:00, 70.00it/s]\u001b[A\n",
      " 64%|######3   | 49/77 [00:00<00:00, 55.80it/s]\u001b[A\n",
      " 73%|#######2  | 56/77 [00:00<00:00, 58.36it/s]\u001b[A\n",
      " 82%|########1 | 63/77 [00:00<00:00, 59.24it/s]\u001b[A\n",
      " 92%|#########2| 71/77 [00:01<00:00, 62.45it/s]\u001b[A\n",
      " 70%|██████▉   | 617/884 [00:29<00:46,  5.71it/s]A"
     ]
    },
    {
     "name": "stdout",
     "output_type": "stream",
     "text": [
      "{'ade': 0.5582364, 'fde': 1.244847}\n",
      "\t last loss:0.000695639, eval on validation:['ade: 0.5582364', 'fde: 1.244847'], (best ade:0.49309167 at step 600) \n"
     ]
    },
    {
     "name": "stderr",
     "output_type": "stream",
     "text": [
      "100%|██████████| 884/884 [00:41<00:00, 25.67it/s]\n",
      "  0%|          | 3/884 [00:00<00:36, 24.12it/s]"
     ]
    },
    {
     "name": "stdout",
     "output_type": "stream",
     "text": [
      "('Epoca 3.', 'lr:', 0.0017000001)\n"
     ]
    },
    {
     "name": "stderr",
     "output_type": "stream",
     "text": [
      "  3%|▎         | 30/884 [00:01<00:46, 18.53it/s]\n",
      "  0%|          | 0/77 [00:00<?, ?it/s]\u001b[A"
     ]
    },
    {
     "name": "stdout",
     "output_type": "stream",
     "text": [
      "\tsaving model 1800...\n",
      "\tdone\n",
      "Evaluating\n"
     ]
    },
    {
     "name": "stderr",
     "output_type": "stream",
     "text": [
      "\n",
      " 10%|#         | 8/77 [00:00<00:00, 75.03it/s]\u001b[A\n",
      " 22%|##2       | 17/77 [00:00<00:00, 76.79it/s]\u001b[A\n",
      " 34%|###3      | 26/77 [00:00<00:00, 78.62it/s]\u001b[A\n",
      " 43%|####2     | 33/77 [00:00<00:00, 74.55it/s]\u001b[A\n",
      " 53%|#####3    | 41/77 [00:00<00:00, 74.22it/s]\u001b[A\n",
      " 64%|######3   | 49/77 [00:00<00:00, 74.62it/s]\u001b[A\n",
      " 74%|#######4  | 57/77 [00:00<00:00, 73.45it/s]\u001b[A\n",
      " 83%|########3 | 64/77 [00:00<00:00, 65.21it/s]\u001b[A\n",
      " 92%|#########2| 71/77 [00:01<00:00, 64.35it/s]\u001b[A\n",
      "  4%|▍         | 35/884 [00:02<02:36,  5.44it/s][A"
     ]
    },
    {
     "name": "stdout",
     "output_type": "stream",
     "text": [
      "{'ade': 0.53310674, 'fde': 1.1804533}\n",
      "\t last loss:0.000330222, eval on validation:['ade: 0.53310674', 'fde: 1.1804533'], (best ade:0.49309167 at step 600) \n"
     ]
    },
    {
     "name": "stderr",
     "output_type": "stream",
     "text": [
      " 37%|███▋      | 329/884 [00:14<00:21, 25.34it/s]\n",
      "  0%|          | 0/77 [00:00<?, ?it/s]\u001b[A"
     ]
    },
    {
     "name": "stdout",
     "output_type": "stream",
     "text": [
      "\tsaving model 2100...\n",
      "\tdone\n",
      "Evaluating\n"
     ]
    },
    {
     "name": "stderr",
     "output_type": "stream",
     "text": [
      "\n",
      " 12%|#1        | 9/77 [00:00<00:00, 86.18it/s]\u001b[A\n",
      " 25%|##4       | 19/77 [00:00<00:00, 87.89it/s]\u001b[A\n",
      " 38%|###7      | 29/77 [00:00<00:00, 89.20it/s]\u001b[A\n",
      " 48%|####8     | 37/77 [00:00<00:00, 85.45it/s]\u001b[A\n",
      " 61%|######1   | 47/77 [00:00<00:00, 87.76it/s]\u001b[A\n",
      " 74%|#######4  | 57/77 [00:00<00:00, 89.13it/s]\u001b[A\n",
      " 87%|########7 | 67/77 [00:00<00:00, 90.26it/s]\u001b[A\n",
      " 38%|███▊      | 335/884 [00:16<01:00,  9.06it/s]A"
     ]
    },
    {
     "name": "stdout",
     "output_type": "stream",
     "text": [
      "{'ade': 0.5457435, 'fde': 1.2279942}\n",
      "\t last loss:0.000628149, eval on validation:['ade: 0.5457435', 'fde: 1.2279942'], (best ade:0.49309167 at step 600) \n"
     ]
    },
    {
     "name": "stderr",
     "output_type": "stream",
     "text": [
      " 71%|███████   | 629/884 [00:29<00:10, 24.98it/s]\n",
      "  0%|          | 0/77 [00:00<?, ?it/s]\u001b[A"
     ]
    },
    {
     "name": "stdout",
     "output_type": "stream",
     "text": [
      "\tsaving model 2400...\n",
      "\tdone\n",
      "Evaluating\n"
     ]
    },
    {
     "name": "stderr",
     "output_type": "stream",
     "text": [
      "\n",
      " 10%|#         | 8/77 [00:00<00:00, 72.64it/s]\u001b[A\n",
      " 22%|##2       | 17/77 [00:00<00:00, 76.37it/s]\u001b[A\n",
      " 34%|###3      | 26/77 [00:00<00:00, 79.29it/s]\u001b[A\n",
      " 45%|####5     | 35/77 [00:00<00:00, 81.94it/s]\u001b[A\n",
      " 57%|#####7    | 44/77 [00:00<00:00, 83.40it/s]\u001b[A\n",
      " 69%|######8   | 53/77 [00:00<00:00, 84.75it/s]\u001b[A\n",
      " 82%|########1 | 63/77 [00:00<00:00, 87.35it/s]\u001b[A\n",
      " 95%|#########4| 73/77 [00:00<00:00, 89.48it/s]\u001b[A\n",
      " 72%|███████▏  | 635/884 [00:30<00:28,  8.78it/s]A"
     ]
    },
    {
     "name": "stdout",
     "output_type": "stream",
     "text": [
      "{'ade': 0.56598514, 'fde': 1.2540534}\n",
      "\t last loss:0.000617604, eval on validation:['ade: 0.56598514', 'fde: 1.2540534'], (best ade:0.49309167 at step 600) \n"
     ]
    },
    {
     "name": "stderr",
     "output_type": "stream",
     "text": [
      "100%|██████████| 884/884 [00:40<00:00, 27.22it/s]\n",
      "  0%|          | 3/884 [00:00<00:39, 22.40it/s]"
     ]
    },
    {
     "name": "stdout",
     "output_type": "stream",
     "text": [
      "('Epoca 4.', 'lr:', 0.0017000001)\n"
     ]
    },
    {
     "name": "stderr",
     "output_type": "stream",
     "text": [
      "  5%|▌         | 47/884 [00:01<00:33, 24.98it/s]\n",
      "  0%|          | 0/77 [00:00<?, ?it/s]\u001b[A"
     ]
    },
    {
     "name": "stdout",
     "output_type": "stream",
     "text": [
      "\tsaving model 2700...\n",
      "\tdone\n",
      "Evaluating\n"
     ]
    },
    {
     "name": "stderr",
     "output_type": "stream",
     "text": [
      "\n",
      " 12%|#1        | 9/77 [00:00<00:00, 88.90it/s]\u001b[A\n",
      " 23%|##3       | 18/77 [00:00<00:00, 88.88it/s]\u001b[A\n",
      " 35%|###5      | 27/77 [00:00<00:00, 88.73it/s]\u001b[A\n",
      " 47%|####6     | 36/77 [00:00<00:00, 88.20it/s]\u001b[A\n",
      " 57%|#####7    | 44/77 [00:00<00:00, 83.55it/s]\u001b[A\n",
      " 69%|######8   | 53/77 [00:00<00:00, 84.83it/s]\u001b[A\n",
      " 81%|########  | 62/77 [00:00<00:00, 86.01it/s]\u001b[A\n",
      " 92%|#########2| 71/77 [00:00<00:00, 86.52it/s]\u001b[A\n",
      "  6%|▌         | 50/884 [00:03<02:03,  6.78it/s][A"
     ]
    },
    {
     "name": "stdout",
     "output_type": "stream",
     "text": [
      "{'ade': 0.5449335, 'fde': 1.2249315}\n",
      "\t last loss:0.000429558, eval on validation:['ade: 0.5449335', 'fde: 1.2249315'], (best ade:0.49309167 at step 600) \n"
     ]
    },
    {
     "name": "stderr",
     "output_type": "stream",
     "text": [
      " 39%|███▉      | 347/884 [00:14<00:20, 26.04it/s]\n",
      "  0%|          | 0/77 [00:00<?, ?it/s]\u001b[A"
     ]
    },
    {
     "name": "stdout",
     "output_type": "stream",
     "text": [
      "\tsaving model 3000...\n",
      "\tdone\n",
      "Evaluating\n"
     ]
    },
    {
     "name": "stderr",
     "output_type": "stream",
     "text": [
      "\n",
      " 12%|#1        | 9/77 [00:00<00:00, 86.00it/s]\u001b[A\n",
      " 23%|##3       | 18/77 [00:00<00:00, 84.90it/s]\u001b[A\n",
      " 35%|###5      | 27/77 [00:00<00:00, 85.01it/s]\u001b[A\n",
      " 47%|####6     | 36/77 [00:00<00:00, 85.37it/s]\u001b[A\n",
      " 58%|#####8    | 45/77 [00:00<00:00, 85.41it/s]\u001b[A\n",
      " 70%|#######   | 54/77 [00:00<00:00, 85.27it/s]\u001b[A\n",
      " 82%|########1 | 63/77 [00:00<00:00, 85.06it/s]\u001b[A\n",
      " 92%|#########2| 71/77 [00:00<00:00, 81.06it/s]\u001b[A\n",
      " 40%|███▉      | 350/884 [00:15<01:20,  6.61it/s]A"
     ]
    },
    {
     "name": "stdout",
     "output_type": "stream",
     "text": [
      "{'ade': 0.49815375, 'fde': 1.098276}\n",
      "\t last loss:0.000612856, eval on validation:['ade: 0.49815375', 'fde: 1.098276'], (best ade:0.49309167 at step 600) \n"
     ]
    },
    {
     "name": "stderr",
     "output_type": "stream",
     "text": [
      " 73%|███████▎  | 647/884 [00:27<00:09, 24.75it/s]\n",
      "  0%|          | 0/77 [00:00<?, ?it/s]\u001b[A"
     ]
    },
    {
     "name": "stdout",
     "output_type": "stream",
     "text": [
      "\tsaving model 3300...\n",
      "\tdone\n",
      "Evaluating\n"
     ]
    },
    {
     "name": "stderr",
     "output_type": "stream",
     "text": [
      "\n",
      " 13%|#2        | 10/77 [00:00<00:00, 92.38it/s]\u001b[A\n",
      " 25%|##4       | 19/77 [00:00<00:00, 90.60it/s]\u001b[A\n",
      " 36%|###6      | 28/77 [00:00<00:00, 89.85it/s]\u001b[A\n",
      " 48%|####8     | 37/77 [00:00<00:00, 89.71it/s]\u001b[A\n",
      " 60%|#####9    | 46/77 [00:00<00:00, 89.26it/s]\u001b[A\n",
      " 70%|#######   | 54/77 [00:00<00:00, 83.88it/s]\u001b[A\n",
      " 82%|########1 | 63/77 [00:00<00:00, 85.12it/s]\u001b[A\n",
      " 94%|#########3| 72/77 [00:00<00:00, 86.38it/s]\u001b[A\n",
      "100%|##########| 77/77 [00:00<00:00, 86.16it/s]\u001b[A"
     ]
    },
    {
     "name": "stdout",
     "output_type": "stream",
     "text": [
      "{'ade': 0.48927093, 'fde': 1.065883}\n",
      "\t last loss:0.000450989, eval on validation:['ade: 0.48927093', 'fde: 1.065883'], (best ade:0.49309167 at step 600) \n",
      "\t saving best model...\n",
      "\t done.\n"
     ]
    },
    {
     "name": "stderr",
     "output_type": "stream",
     "text": [
      "100%|██████████| 884/884 [00:38<00:00, 27.00it/s]\n",
      "  0%|          | 1/884 [00:00<01:39,  8.85it/s]"
     ]
    },
    {
     "name": "stdout",
     "output_type": "stream",
     "text": [
      "('Epoca 5.', 'lr:', 0.0014450002)\n"
     ]
    },
    {
     "name": "stderr",
     "output_type": "stream",
     "text": [
      "  7%|▋         | 61/884 [00:02<00:31, 26.40it/s]\n",
      "  0%|          | 0/77 [00:00<?, ?it/s]\u001b[A"
     ]
    },
    {
     "name": "stdout",
     "output_type": "stream",
     "text": [
      "\tsaving model 3600...\n",
      "\tdone\n",
      "Evaluating\n"
     ]
    },
    {
     "name": "stderr",
     "output_type": "stream",
     "text": [
      "\n",
      " 14%|#4        | 11/77 [00:00<00:00, 100.62it/s]\u001b[A\n",
      " 27%|##7       | 21/77 [00:00<00:00, 99.49it/s] \u001b[A\n",
      " 40%|####      | 31/77 [00:00<00:00, 98.89it/s]\u001b[A\n",
      " 52%|#####1    | 40/77 [00:00<00:00, 95.59it/s]\u001b[A\n",
      " 64%|######3   | 49/77 [00:00<00:00, 93.34it/s]\u001b[A\n",
      " 75%|#######5  | 58/77 [00:00<00:00, 92.07it/s]\u001b[A\n",
      " 87%|########7 | 67/77 [00:00<00:00, 88.34it/s]\u001b[A\n",
      " 99%|#########8| 76/77 [00:00<00:00, 85.82it/s]\u001b[A\n",
      "  8%|▊         | 67/884 [00:03<01:30,  9.03it/s][A"
     ]
    },
    {
     "name": "stdout",
     "output_type": "stream",
     "text": [
      "{'ade': 0.50727683, 'fde': 1.1261187}\n",
      "\t last loss:0.000852630, eval on validation:['ade: 0.50727683', 'fde: 1.1261187'], (best ade:0.48927093 at step 3300) \n"
     ]
    },
    {
     "name": "stderr",
     "output_type": "stream",
     "text": [
      " 41%|████      | 361/884 [00:15<00:19, 26.58it/s]\n",
      "  0%|          | 0/77 [00:00<?, ?it/s]\u001b[A"
     ]
    },
    {
     "name": "stdout",
     "output_type": "stream",
     "text": [
      "\tsaving model 3900...\n",
      "\tdone\n",
      "Evaluating\n"
     ]
    },
    {
     "name": "stderr",
     "output_type": "stream",
     "text": [
      "\n",
      " 13%|#2        | 10/77 [00:00<00:00, 91.28it/s]\u001b[A\n",
      " 23%|##3       | 18/77 [00:00<00:00, 85.59it/s]\u001b[A\n",
      " 36%|###6      | 28/77 [00:00<00:00, 88.75it/s]\u001b[A\n",
      " 49%|####9     | 38/77 [00:00<00:00, 91.25it/s]\u001b[A\n",
      " 62%|######2   | 48/77 [00:00<00:00, 93.21it/s]\u001b[A\n",
      " 75%|#######5  | 58/77 [00:00<00:00, 94.28it/s]\u001b[A\n",
      " 88%|########8 | 68/77 [00:00<00:00, 94.62it/s]\u001b[A\n",
      " 42%|████▏     | 367/884 [00:16<00:56,  9.16it/s]A"
     ]
    },
    {
     "name": "stdout",
     "output_type": "stream",
     "text": [
      "{'ade': 0.59803784, 'fde': 1.4024286}\n",
      "\t last loss:0.000448655, eval on validation:['ade: 0.59803784', 'fde: 1.4024286'], (best ade:0.48927093 at step 3300) \n"
     ]
    },
    {
     "name": "stderr",
     "output_type": "stream",
     "text": [
      " 75%|███████▍  | 661/884 [00:28<00:08, 25.38it/s]\n",
      "  0%|          | 0/77 [00:00<?, ?it/s]\u001b[A"
     ]
    },
    {
     "name": "stdout",
     "output_type": "stream",
     "text": [
      "\tsaving model 4200...\n",
      "\tdone\n",
      "Evaluating\n"
     ]
    },
    {
     "name": "stderr",
     "output_type": "stream",
     "text": [
      "\n",
      " 12%|#1        | 9/77 [00:00<00:00, 86.73it/s]\u001b[A\n",
      " 23%|##3       | 18/77 [00:00<00:00, 87.11it/s]\u001b[A\n",
      " 35%|###5      | 27/77 [00:00<00:00, 87.47it/s]\u001b[A\n",
      " 47%|####6     | 36/77 [00:00<00:00, 87.41it/s]\u001b[A\n",
      " 58%|#####8    | 45/77 [00:00<00:00, 87.86it/s]\u001b[A\n",
      " 70%|#######   | 54/77 [00:00<00:00, 88.40it/s]\u001b[A\n",
      " 82%|########1 | 63/77 [00:00<00:00, 87.92it/s]\u001b[A\n",
      " 94%|#########3| 72/77 [00:00<00:00, 88.47it/s]\u001b[A\n",
      " 75%|███████▌  | 666/884 [00:29<00:26,  8.34it/s]A"
     ]
    },
    {
     "name": "stdout",
     "output_type": "stream",
     "text": [
      "{'ade': 0.52615744, 'fde': 1.1644201}\n",
      "\t last loss:0.000436659, eval on validation:['ade: 0.52615744', 'fde: 1.1644201'], (best ade:0.48927093 at step 3300) \n"
     ]
    },
    {
     "name": "stderr",
     "output_type": "stream",
     "text": [
      "100%|██████████| 884/884 [00:41<00:00, 18.66it/s]\n",
      "  0%|          | 3/884 [00:00<00:39, 22.15it/s]"
     ]
    },
    {
     "name": "stdout",
     "output_type": "stream",
     "text": [
      "('Epoca 6.', 'lr:', 0.0014450002)\n"
     ]
    },
    {
     "name": "stderr",
     "output_type": "stream",
     "text": [
      "  9%|▉         | 79/884 [00:03<00:29, 27.06it/s]\n",
      "  0%|          | 0/77 [00:00<?, ?it/s]\u001b[A"
     ]
    },
    {
     "name": "stdout",
     "output_type": "stream",
     "text": [
      "\tsaving model 4500...\n",
      "\tdone\n",
      "Evaluating\n"
     ]
    },
    {
     "name": "stderr",
     "output_type": "stream",
     "text": [
      "\n",
      " 13%|#2        | 10/77 [00:00<00:00, 90.47it/s]\u001b[A\n",
      " 25%|##4       | 19/77 [00:00<00:00, 87.16it/s]\u001b[A\n",
      " 35%|###5      | 27/77 [00:00<00:00, 83.61it/s]\u001b[A\n",
      " 47%|####6     | 36/77 [00:00<00:00, 83.29it/s]\u001b[A\n",
      " 58%|#####8    | 45/77 [00:00<00:00, 84.30it/s]\u001b[A\n",
      " 71%|#######1  | 55/77 [00:00<00:00, 86.54it/s]\u001b[A\n",
      " 84%|########4 | 65/77 [00:00<00:00, 88.16it/s]\u001b[A\n",
      " 96%|#########6| 74/77 [00:00<00:00, 88.05it/s]\u001b[A\n",
      "  9%|▉         | 82/884 [00:04<01:55,  6.93it/s][A"
     ]
    },
    {
     "name": "stdout",
     "output_type": "stream",
     "text": [
      "{'ade': 0.50773877, 'fde': 1.130784}\n",
      "\t last loss:0.000318582, eval on validation:['ade: 0.50773877', 'fde: 1.130784'], (best ade:0.48927093 at step 3300) \n"
     ]
    },
    {
     "name": "stderr",
     "output_type": "stream",
     "text": [
      " 43%|████▎     | 379/884 [00:16<00:21, 23.82it/s]\n",
      "  0%|          | 0/77 [00:00<?, ?it/s]\u001b[A"
     ]
    },
    {
     "name": "stdout",
     "output_type": "stream",
     "text": [
      "\tsaving model 4800...\n",
      "\tdone\n",
      "Evaluating\n"
     ]
    },
    {
     "name": "stderr",
     "output_type": "stream",
     "text": [
      "\n",
      " 12%|#1        | 9/77 [00:00<00:00, 89.19it/s]\u001b[A\n",
      " 25%|##4       | 19/77 [00:00<00:00, 89.44it/s]\u001b[A\n",
      " 36%|###6      | 28/77 [00:00<00:00, 89.19it/s]\u001b[A\n",
      " 48%|####8     | 37/77 [00:00<00:00, 89.18it/s]\u001b[A\n",
      " 61%|######1   | 47/77 [00:00<00:00, 89.93it/s]\u001b[A\n",
      " 74%|#######4  | 57/77 [00:00<00:00, 90.46it/s]\u001b[A\n",
      " 86%|########5 | 66/77 [00:00<00:00, 88.89it/s]\u001b[A\n",
      " 97%|#########7| 75/77 [00:00<00:00, 84.61it/s]\u001b[A\n",
      " 43%|████▎     | 382/884 [00:17<01:14,  6.70it/s]A"
     ]
    },
    {
     "name": "stdout",
     "output_type": "stream",
     "text": [
      "{'ade': 0.50755006, 'fde': 1.1239283}\n",
      "\t last loss:0.000664512, eval on validation:['ade: 0.50755006', 'fde: 1.1239283'], (best ade:0.48927093 at step 3300) \n"
     ]
    },
    {
     "name": "stderr",
     "output_type": "stream",
     "text": [
      " 77%|███████▋  | 679/884 [00:30<00:08, 23.10it/s]\n",
      "  0%|          | 0/77 [00:00<?, ?it/s]\u001b[A"
     ]
    },
    {
     "name": "stdout",
     "output_type": "stream",
     "text": [
      "\tsaving model 5100...\n",
      "\tdone\n",
      "Evaluating\n"
     ]
    },
    {
     "name": "stderr",
     "output_type": "stream",
     "text": [
      "\n",
      " 10%|#         | 8/77 [00:00<00:00, 78.96it/s]\u001b[A\n",
      " 21%|##        | 16/77 [00:00<00:00, 79.04it/s]\u001b[A\n",
      " 30%|##9       | 23/77 [00:00<00:00, 75.61it/s]\u001b[A\n",
      " 40%|####      | 31/77 [00:00<00:00, 76.45it/s]\u001b[A\n",
      " 51%|#####     | 39/77 [00:00<00:00, 75.74it/s]\u001b[A\n",
      " 62%|######2   | 48/77 [00:00<00:00, 77.26it/s]\u001b[A\n",
      " 73%|#######2  | 56/77 [00:00<00:00, 77.23it/s]\u001b[A\n",
      " 83%|########3 | 64/77 [00:00<00:00, 77.98it/s]\u001b[A\n",
      " 95%|#########4| 73/77 [00:00<00:00, 78.81it/s]\u001b[A\n",
      " 77%|███████▋  | 682/884 [00:31<00:32,  6.12it/s]A"
     ]
    },
    {
     "name": "stdout",
     "output_type": "stream",
     "text": [
      "{'ade': 0.4991388, 'fde': 1.0843298}\n",
      "\t last loss:0.000599467, eval on validation:['ade: 0.4991388', 'fde: 1.0843298'], (best ade:0.48927093 at step 3300) \n"
     ]
    },
    {
     "name": "stderr",
     "output_type": "stream",
     "text": [
      "100%|██████████| 884/884 [00:39<00:00, 22.24it/s]\n",
      "  0%|          | 3/884 [00:00<00:35, 24.99it/s]"
     ]
    },
    {
     "name": "stdout",
     "output_type": "stream",
     "text": [
      "('Epoca 7.', 'lr:', 0.0012282502)\n"
     ]
    },
    {
     "name": "stderr",
     "output_type": "stream",
     "text": [
      " 11%|█         | 93/884 [00:03<00:38, 20.31it/s]\n",
      "  0%|          | 0/77 [00:00<?, ?it/s]\u001b[A"
     ]
    },
    {
     "name": "stdout",
     "output_type": "stream",
     "text": [
      "\tsaving model 5400...\n",
      "\tdone\n",
      "Evaluating\n"
     ]
    },
    {
     "name": "stderr",
     "output_type": "stream",
     "text": [
      "\n",
      " 12%|#1        | 9/77 [00:00<00:00, 89.80it/s]\u001b[A\n",
      " 21%|##        | 16/77 [00:00<00:00, 82.63it/s]\u001b[A\n",
      " 31%|###1      | 24/77 [00:00<00:00, 80.19it/s]\u001b[A\n",
      " 43%|####2     | 33/77 [00:00<00:00, 81.82it/s]\u001b[A\n",
      " 55%|#####4    | 42/77 [00:00<00:00, 82.40it/s]\u001b[A\n",
      " 65%|######4   | 50/77 [00:00<00:00, 80.27it/s]\u001b[A\n",
      " 75%|#######5  | 58/77 [00:00<00:00, 79.47it/s]\u001b[A\n",
      " 87%|########7 | 67/77 [00:00<00:00, 80.05it/s]\u001b[A\n",
      " 97%|#########7| 75/77 [00:00<00:00, 77.83it/s]\u001b[A\n",
      " 11%|█         | 99/884 [00:05<01:40,  7.77it/s][A"
     ]
    },
    {
     "name": "stdout",
     "output_type": "stream",
     "text": [
      "{'ade': 0.5228882, 'fde': 1.1626215}\n",
      "\t last loss:0.000265766, eval on validation:['ade: 0.5228882', 'fde: 1.1626215'], (best ade:0.48927093 at step 3300) \n"
     ]
    },
    {
     "name": "stderr",
     "output_type": "stream",
     "text": [
      " 44%|████▍     | 393/884 [00:17<00:22, 22.32it/s]\n",
      "  0%|          | 0/77 [00:00<?, ?it/s]\u001b[A"
     ]
    },
    {
     "name": "stdout",
     "output_type": "stream",
     "text": [
      "\tsaving model 5700...\n",
      "\tdone\n",
      "Evaluating\n"
     ]
    },
    {
     "name": "stderr",
     "output_type": "stream",
     "text": [
      "\n",
      " 14%|#4        | 11/77 [00:00<00:00, 100.72it/s]\u001b[A\n",
      " 27%|##7       | 21/77 [00:00<00:00, 98.66it/s] \u001b[A\n",
      " 39%|###8      | 30/77 [00:00<00:00, 93.78it/s]\u001b[A\n",
      " 51%|#####     | 39/77 [00:00<00:00, 90.76it/s]\u001b[A\n",
      " 61%|######1   | 47/77 [00:00<00:00, 85.51it/s]\u001b[A\n",
      " 71%|#######1  | 55/77 [00:00<00:00, 82.39it/s]\u001b[A\n",
      " 83%|########3 | 64/77 [00:00<00:00, 83.61it/s]\u001b[A\n",
      " 95%|#########4| 73/77 [00:00<00:00, 84.48it/s]\u001b[A\n",
      " 45%|████▌     | 399/884 [00:18<00:56,  8.54it/s]A"
     ]
    },
    {
     "name": "stdout",
     "output_type": "stream",
     "text": [
      "{'ade': 0.51453537, 'fde': 1.1418363}\n",
      "\t last loss:0.000411689, eval on validation:['ade: 0.51453537', 'fde: 1.1418363'], (best ade:0.48927093 at step 3300) \n"
     ]
    },
    {
     "name": "stderr",
     "output_type": "stream",
     "text": [
      " 79%|███████▊  | 695/884 [00:30<00:08, 23.20it/s]\n",
      "  0%|          | 0/77 [00:00<?, ?it/s]\u001b[A"
     ]
    },
    {
     "name": "stdout",
     "output_type": "stream",
     "text": [
      "\tsaving model 6000...\n",
      "\tdone\n",
      "Evaluating\n"
     ]
    },
    {
     "name": "stderr",
     "output_type": "stream",
     "text": [
      "\n",
      " 10%|#         | 8/77 [00:00<00:00, 79.68it/s]\u001b[A\n",
      " 22%|##2       | 17/77 [00:00<00:00, 80.79it/s]\u001b[A\n",
      " 34%|###3      | 26/77 [00:00<00:00, 81.19it/s]\u001b[A\n",
      " 45%|####5     | 35/77 [00:00<00:00, 81.91it/s]\u001b[A\n",
      " 57%|#####7    | 44/77 [00:00<00:00, 82.59it/s]\u001b[A\n",
      " 70%|#######   | 54/77 [00:00<00:00, 85.51it/s]\u001b[A\n",
      " 83%|########3 | 64/77 [00:00<00:00, 87.64it/s]\u001b[A\n",
      " 95%|#########4| 73/77 [00:00<00:00, 87.44it/s]\u001b[A\n",
      " 79%|███████▉  | 698/884 [00:32<00:28,  6.56it/s]A"
     ]
    },
    {
     "name": "stdout",
     "output_type": "stream",
     "text": [
      "{'ade': 0.5342704, 'fde': 1.2070813}\n",
      "\t last loss:0.000653351, eval on validation:['ade: 0.5342704', 'fde: 1.2070813'], (best ade:0.48927093 at step 3300) \n"
     ]
    },
    {
     "name": "stderr",
     "output_type": "stream",
     "text": [
      "100%|██████████| 884/884 [00:39<00:00, 25.08it/s]\n",
      "  0%|          | 3/884 [00:00<00:33, 26.18it/s]"
     ]
    },
    {
     "name": "stdout",
     "output_type": "stream",
     "text": [
      "('Epoca 8.', 'lr:', 0.0012282502)\n"
     ]
    },
    {
     "name": "stderr",
     "output_type": "stream",
     "text": [
      " 13%|█▎        | 111/884 [00:04<00:32, 23.78it/s]\n",
      "  0%|          | 0/77 [00:00<?, ?it/s]\u001b[A"
     ]
    },
    {
     "name": "stdout",
     "output_type": "stream",
     "text": [
      "\tsaving model 6300...\n",
      "\tdone\n",
      "Evaluating\n"
     ]
    },
    {
     "name": "stderr",
     "output_type": "stream",
     "text": [
      "\n",
      " 12%|#1        | 9/77 [00:00<00:00, 86.94it/s]\u001b[A\n",
      " 23%|##3       | 18/77 [00:00<00:00, 85.64it/s]\u001b[A\n",
      " 35%|###5      | 27/77 [00:00<00:00, 85.19it/s]\u001b[A\n",
      " 47%|####6     | 36/77 [00:00<00:00, 86.09it/s]\u001b[A\n",
      " 57%|#####7    | 44/77 [00:00<00:00, 82.87it/s]\u001b[A\n",
      " 69%|######8   | 53/77 [00:00<00:00, 83.76it/s]\u001b[A\n",
      " 81%|########  | 62/77 [00:00<00:00, 84.29it/s]\u001b[A\n",
      " 92%|#########2| 71/77 [00:00<00:00, 85.67it/s]\u001b[A\n",
      "100%|##########| 77/77 [00:00<00:00, 83.32it/s]\u001b[A"
     ]
    },
    {
     "name": "stdout",
     "output_type": "stream",
     "text": [
      "{'ade': 0.52688634, 'fde': 1.1661953}\n",
      "\t last loss:0.000328310, eval on validation:['ade: 0.52688634', 'fde: 1.1661953'], (best ade:0.48927093 at step 3300) \n"
     ]
    },
    {
     "name": "stderr",
     "output_type": "stream",
     "text": [
      " 46%|████▋     | 409/884 [00:20<00:22, 20.80it/s]\n",
      "  0%|          | 0/77 [00:00<?, ?it/s]\u001b[A"
     ]
    },
    {
     "name": "stdout",
     "output_type": "stream",
     "text": [
      "\tsaving model 6600...\n",
      "\tdone\n",
      "Evaluating\n"
     ]
    },
    {
     "name": "stderr",
     "output_type": "stream",
     "text": [
      "\n",
      " 12%|#1        | 9/77 [00:00<00:00, 82.58it/s]\u001b[A\n",
      " 22%|##2       | 17/77 [00:00<00:00, 80.74it/s]\u001b[A\n",
      " 34%|###3      | 26/77 [00:00<00:00, 80.93it/s]\u001b[A\n",
      " 45%|####5     | 35/77 [00:00<00:00, 81.06it/s]\u001b[A\n",
      " 55%|#####4    | 42/77 [00:00<00:00, 76.33it/s]\u001b[A\n",
      " 65%|######4   | 50/77 [00:00<00:00, 76.53it/s]\u001b[A\n",
      " 75%|#######5  | 58/77 [00:00<00:00, 76.89it/s]\u001b[A\n",
      " 87%|########7 | 67/77 [00:00<00:00, 77.94it/s]\u001b[A\n",
      " 97%|#########7| 75/77 [00:00<00:00, 78.22it/s]\u001b[A\n",
      " 47%|████▋     | 415/884 [00:21<01:00,  7.79it/s]A"
     ]
    },
    {
     "name": "stdout",
     "output_type": "stream",
     "text": [
      "{'ade': 0.55124, 'fde': 1.2383568}\n",
      "\t last loss:0.000600929, eval on validation:['ade: 0.55124', 'fde: 1.2383568'], (best ade:0.48927093 at step 3300) \n"
     ]
    },
    {
     "name": "stderr",
     "output_type": "stream",
     "text": [
      " 80%|████████  | 710/884 [00:34<00:07, 22.44it/s]\n",
      "  0%|          | 0/77 [00:00<?, ?it/s]\u001b[A"
     ]
    },
    {
     "name": "stdout",
     "output_type": "stream",
     "text": [
      "\tsaving model 6900...\n",
      "\tdone\n",
      "Evaluating\n"
     ]
    },
    {
     "name": "stderr",
     "output_type": "stream",
     "text": [
      "\n",
      " 13%|#2        | 10/77 [00:00<00:00, 98.11it/s]\u001b[A\n",
      " 26%|##5       | 20/77 [00:00<00:00, 97.12it/s]\u001b[A\n",
      " 39%|###8      | 30/77 [00:00<00:00, 96.76it/s]\u001b[A\n",
      " 52%|#####1    | 40/77 [00:00<00:00, 96.64it/s]\u001b[A\n",
      " 65%|######4   | 50/77 [00:00<00:00, 96.78it/s]\u001b[A\n",
      " 78%|#######7  | 60/77 [00:00<00:00, 96.33it/s]\u001b[A\n",
      " 91%|######### | 70/77 [00:00<00:00, 96.69it/s]\u001b[A\n",
      " 81%|████████  | 716/884 [00:35<00:18,  9.05it/s]A"
     ]
    },
    {
     "name": "stdout",
     "output_type": "stream",
     "text": [
      "{'ade': 0.5383284, 'fde': 1.224979}\n",
      "\t last loss:0.000544712, eval on validation:['ade: 0.5383284', 'fde: 1.224979'], (best ade:0.48927093 at step 3300) \n"
     ]
    },
    {
     "name": "stderr",
     "output_type": "stream",
     "text": [
      "100%|██████████| 884/884 [00:44<00:00, 19.92it/s]\n",
      "  0%|          | 3/884 [00:00<00:37, 23.53it/s]"
     ]
    },
    {
     "name": "stdout",
     "output_type": "stream",
     "text": [
      "('Epoca 9.', 'lr:', 0.0010440127)\n"
     ]
    },
    {
     "name": "stderr",
     "output_type": "stream",
     "text": [
      " 14%|█▍        | 126/884 [00:05<00:38, 19.91it/s]"
     ]
    },
    {
     "name": "stdout",
     "output_type": "stream",
     "text": [
      "\tsaving model 7200...\n"
     ]
    },
    {
     "name": "stderr",
     "output_type": "stream",
     "text": [
      "\n",
      "  0%|          | 0/77 [00:00<?, ?it/s]\u001b[A\n",
      "  8%|7         | 6/77 [00:00<00:01, 53.25it/s]\u001b[A\n",
      " 12%|#1        | 9/77 [00:00<00:01, 41.61it/s]\u001b[A\n",
      " 21%|##        | 16/77 [00:00<00:01, 46.96it/s]\u001b[A\n",
      " 27%|##7       | 21/77 [00:00<00:01, 46.35it/s]\u001b[A\n",
      " 36%|###6      | 28/77 [00:00<00:00, 50.37it/s]\u001b[A\n",
      " 45%|####5     | 35/77 [00:00<00:00, 54.40it/s]\u001b[A\n",
      " 55%|#####4    | 42/77 [00:00<00:00, 58.01it/s]\u001b[A\n",
      " 64%|######3   | 49/77 [00:00<00:00, 60.87it/s]\u001b[A\n",
      " 73%|#######2  | 56/77 [00:00<00:00, 63.04it/s]\u001b[A\n",
      " 82%|########1 | 63/77 [00:01<00:00, 64.51it/s]\u001b[A\n",
      " 91%|######### | 70/77 [00:01<00:00, 62.86it/s]\u001b[A\n",
      " 15%|█▍        | 129/884 [00:07<02:31,  4.97it/s]A"
     ]
    },
    {
     "name": "stdout",
     "output_type": "stream",
     "text": [
      "\tdone\n",
      "Evaluating\n",
      "{'ade': 0.51878, 'fde': 1.1648413}\n",
      "\t last loss:0.000540215, eval on validation:['ade: 0.51878', 'fde: 1.1648413'], (best ade:0.48927093 at step 3300) \n"
     ]
    },
    {
     "name": "stderr",
     "output_type": "stream",
     "text": [
      " 48%|████▊     | 426/884 [00:20<00:17, 26.45it/s]\n",
      "  0%|          | 0/77 [00:00<?, ?it/s]\u001b[A"
     ]
    },
    {
     "name": "stdout",
     "output_type": "stream",
     "text": [
      "\tsaving model 7500...\n",
      "\tdone\n",
      "Evaluating\n"
     ]
    },
    {
     "name": "stderr",
     "output_type": "stream",
     "text": [
      "\n",
      " 10%|#         | 8/77 [00:00<00:00, 76.18it/s]\u001b[A\n",
      " 19%|#9        | 15/77 [00:00<00:00, 72.55it/s]\u001b[A\n",
      " 31%|###1      | 24/77 [00:00<00:00, 76.05it/s]\u001b[A\n",
      " 44%|####4     | 34/77 [00:00<00:00, 80.15it/s]\u001b[A\n",
      " 57%|#####7    | 44/77 [00:00<00:00, 83.37it/s]\u001b[A\n",
      " 69%|######8   | 53/77 [00:00<00:00, 83.04it/s]\u001b[A\n",
      " 81%|########  | 62/77 [00:00<00:00, 82.47it/s]\u001b[A\n",
      " 92%|#########2| 71/77 [00:00<00:00, 82.60it/s]\u001b[A\n",
      " 49%|████▉     | 431/884 [00:21<00:55,  8.23it/s]A"
     ]
    },
    {
     "name": "stdout",
     "output_type": "stream",
     "text": [
      "{'ade': 0.49335894, 'fde': 1.0896944}\n",
      "\t last loss:0.000903534, eval on validation:['ade: 0.49335894', 'fde: 1.0896944'], (best ade:0.48927093 at step 3300) \n"
     ]
    },
    {
     "name": "stderr",
     "output_type": "stream",
     "text": [
      " 82%|████████▏ | 727/884 [00:36<00:10, 15.53it/s]"
     ]
    },
    {
     "name": "stdout",
     "output_type": "stream",
     "text": [
      "\tsaving model 7800...\n"
     ]
    },
    {
     "name": "stderr",
     "output_type": "stream",
     "text": [
      "\n",
      "  0%|          | 0/77 [00:00<?, ?it/s]\u001b[A\n",
      " 13%|#2        | 10/77 [00:00<00:00, 96.18it/s]\u001b[A"
     ]
    },
    {
     "name": "stdout",
     "output_type": "stream",
     "text": [
      "\tdone\n",
      "Evaluating\n"
     ]
    },
    {
     "name": "stderr",
     "output_type": "stream",
     "text": [
      "\n",
      " 19%|#9        | 15/77 [00:00<00:00, 67.81it/s]\u001b[A\n",
      " 26%|##5       | 20/77 [00:00<00:00, 57.48it/s]\u001b[A\n",
      " 35%|###5      | 27/77 [00:00<00:00, 60.27it/s]\u001b[A\n",
      " 48%|####8     | 37/77 [00:00<00:00, 67.67it/s]\u001b[A\n",
      " 60%|#####9    | 46/77 [00:00<00:00, 72.40it/s]\u001b[A\n",
      " 73%|#######2  | 56/77 [00:00<00:00, 77.46it/s]\u001b[A\n",
      " 83%|########3 | 64/77 [00:00<00:00, 71.17it/s]\u001b[A\n",
      " 94%|#########3| 72/77 [00:01<00:00, 66.12it/s]\u001b[A\n",
      " 82%|████████▏ | 729/884 [00:38<00:41,  3.72it/s]A"
     ]
    },
    {
     "name": "stdout",
     "output_type": "stream",
     "text": [
      "{'ade': 0.5137164, 'fde': 1.1429343}\n",
      "\t last loss:0.000526551, eval on validation:['ade: 0.5137164', 'fde: 1.1429343'], (best ade:0.48927093 at step 3300) \n"
     ]
    },
    {
     "name": "stderr",
     "output_type": "stream",
     "text": [
      "100%|██████████| 884/884 [00:44<00:00, 19.70it/s]\n",
      "  0%|          | 1/884 [00:00<01:43,  8.56it/s]"
     ]
    },
    {
     "name": "stdout",
     "output_type": "stream",
     "text": [
      "('Epoca 10.', 'lr:', 0.0010440127)\n"
     ]
    },
    {
     "name": "stderr",
     "output_type": "stream",
     "text": [
      " 16%|█▌        | 141/884 [00:05<00:33, 21.88it/s]"
     ]
    },
    {
     "name": "stdout",
     "output_type": "stream",
     "text": [
      "\tsaving model 8100...\n"
     ]
    },
    {
     "name": "stderr",
     "output_type": "stream",
     "text": [
      "\n",
      "  0%|          | 0/77 [00:00<?, ?it/s]\u001b[A\n",
      "  9%|9         | 7/77 [00:00<00:01, 60.89it/s]\u001b[A"
     ]
    },
    {
     "name": "stdout",
     "output_type": "stream",
     "text": [
      "\tdone\n",
      "Evaluating\n"
     ]
    },
    {
     "name": "stderr",
     "output_type": "stream",
     "text": [
      "\n",
      " 18%|#8        | 14/77 [00:00<00:00, 63.13it/s]\u001b[A\n",
      " 27%|##7       | 21/77 [00:00<00:00, 64.85it/s]\u001b[A\n",
      " 36%|###6      | 28/77 [00:00<00:00, 66.27it/s]\u001b[A\n",
      " 45%|####5     | 35/77 [00:00<00:00, 67.17it/s]\u001b[A\n",
      " 56%|#####5    | 43/77 [00:00<00:00, 68.30it/s]\u001b[A\n",
      " 66%|######6   | 51/77 [00:00<00:00, 69.05it/s]\u001b[A\n",
      " 77%|#######6  | 59/77 [00:00<00:00, 69.73it/s]\u001b[A\n",
      " 87%|########7 | 67/77 [00:00<00:00, 70.20it/s]\u001b[A\n",
      " 96%|#########6| 74/77 [00:01<00:00, 66.13it/s]\u001b[A\n",
      " 17%|█▋        | 147/884 [00:07<01:44,  7.03it/s]A"
     ]
    },
    {
     "name": "stdout",
     "output_type": "stream",
     "text": [
      "{'ade': 0.49061492, 'fde': 1.0848379}\n",
      "\t last loss:0.000289763, eval on validation:['ade: 0.49061492', 'fde: 1.0848379'], (best ade:0.48927093 at step 3300) \n"
     ]
    },
    {
     "name": "stderr",
     "output_type": "stream",
     "text": [
      " 50%|█████     | 443/884 [00:19<00:16, 27.45it/s]\n",
      "  0%|          | 0/77 [00:00<?, ?it/s]\u001b[A"
     ]
    },
    {
     "name": "stdout",
     "output_type": "stream",
     "text": [
      "\tsaving model 8400...\n",
      "\tdone\n",
      "Evaluating\n"
     ]
    },
    {
     "name": "stderr",
     "output_type": "stream",
     "text": [
      "\n",
      " 13%|#2        | 10/77 [00:00<00:00, 99.63it/s]\u001b[A\n",
      " 26%|##5       | 20/77 [00:00<00:00, 98.94it/s]\u001b[A\n",
      " 39%|###8      | 30/77 [00:00<00:00, 98.05it/s]\u001b[A\n",
      " 51%|#####     | 39/77 [00:00<00:00, 92.97it/s]\u001b[A\n",
      " 64%|######3   | 49/77 [00:00<00:00, 92.37it/s]\u001b[A\n",
      " 77%|#######6  | 59/77 [00:00<00:00, 93.35it/s]\u001b[A\n",
      " 90%|########9 | 69/77 [00:00<00:00, 94.42it/s]\u001b[A\n",
      " 50%|█████     | 446/884 [00:20<00:59,  7.39it/s]A"
     ]
    },
    {
     "name": "stdout",
     "output_type": "stream",
     "text": [
      "{'ade': 0.5116263, 'fde': 1.1475246}\n",
      "\t last loss:0.000320659, eval on validation:['ade: 0.5116263', 'fde: 1.1475246'], (best ade:0.48927093 at step 3300) \n"
     ]
    },
    {
     "name": "stderr",
     "output_type": "stream",
     "text": [
      " 84%|████████▍ | 741/884 [00:36<00:05, 25.69it/s]\n",
      "  0%|          | 0/77 [00:00<?, ?it/s]\u001b[A"
     ]
    },
    {
     "name": "stdout",
     "output_type": "stream",
     "text": [
      "\tsaving model 8700...\n",
      "\tdone\n",
      "Evaluating\n"
     ]
    },
    {
     "name": "stderr",
     "output_type": "stream",
     "text": [
      "\n",
      " 13%|#2        | 10/77 [00:00<00:00, 93.26it/s]\u001b[A\n",
      " 26%|##5       | 20/77 [00:00<00:00, 93.58it/s]\u001b[A\n",
      " 38%|###7      | 29/77 [00:00<00:00, 92.27it/s]\u001b[A\n",
      " 48%|####8     | 37/77 [00:00<00:00, 86.80it/s]\u001b[A\n",
      " 60%|#####9    | 46/77 [00:00<00:00, 84.74it/s]\u001b[A\n",
      " 70%|#######   | 54/77 [00:00<00:00, 81.61it/s]\u001b[A\n",
      " 81%|########  | 62/77 [00:00<00:00, 79.59it/s]\u001b[A\n",
      " 91%|######### | 70/77 [00:00<00:00, 76.74it/s]\u001b[A\n",
      "100%|##########| 77/77 [00:00<00:00, 80.85it/s]\u001b[A"
     ]
    },
    {
     "name": "stdout",
     "output_type": "stream",
     "text": [
      "{'ade': 0.4785589, 'fde': 1.045839}\n",
      "\t last loss:0.000397551, eval on validation:['ade: 0.4785589', 'fde: 1.045839'], (best ade:0.48927093 at step 3300) \n",
      "\t saving best model...\n",
      "\t done.\n"
     ]
    },
    {
     "name": "stderr",
     "output_type": "stream",
     "text": [
      "100%|██████████| 884/884 [00:44<00:00, 20.06it/s]\n",
      "  0%|          | 1/884 [00:00<02:01,  7.24it/s]"
     ]
    },
    {
     "name": "stdout",
     "output_type": "stream",
     "text": [
      "('Epoca 11.', 'lr:', 0.0008874108)\n"
     ]
    },
    {
     "name": "stderr",
     "output_type": "stream",
     "text": [
      " 18%|█▊        | 159/884 [00:07<00:28, 25.18it/s]\n",
      "  0%|          | 0/77 [00:00<?, ?it/s]\u001b[A"
     ]
    },
    {
     "name": "stdout",
     "output_type": "stream",
     "text": [
      "\tsaving model 9000...\n",
      "\tdone\n",
      "Evaluating\n"
     ]
    },
    {
     "name": "stderr",
     "output_type": "stream",
     "text": [
      "\n",
      " 13%|#2        | 10/77 [00:00<00:00, 90.41it/s]\u001b[A\n",
      " 25%|##4       | 19/77 [00:00<00:00, 88.89it/s]\u001b[A\n",
      " 36%|###6      | 28/77 [00:00<00:00, 87.80it/s]\u001b[A\n",
      " 48%|####8     | 37/77 [00:00<00:00, 86.93it/s]\u001b[A\n",
      " 60%|#####9    | 46/77 [00:00<00:00, 86.68it/s]\u001b[A\n",
      " 70%|#######   | 54/77 [00:00<00:00, 81.39it/s]\u001b[A\n",
      " 82%|########1 | 63/77 [00:00<00:00, 81.84it/s]\u001b[A\n",
      " 94%|#########3| 72/77 [00:00<00:00, 81.99it/s]\u001b[A\n",
      " 18%|█▊        | 162/884 [00:08<01:48,  6.64it/s]A"
     ]
    },
    {
     "name": "stdout",
     "output_type": "stream",
     "text": [
      "{'ade': 0.5140409, 'fde': 1.1415002}\n",
      "\t last loss:0.000520861, eval on validation:['ade: 0.5140409', 'fde: 1.1415002'], (best ade:0.4785589 at step 8700) \n"
     ]
    },
    {
     "name": "stderr",
     "output_type": "stream",
     "text": [
      " 52%|█████▏    | 458/884 [00:21<00:19, 21.77it/s]\n",
      "  0%|          | 0/77 [00:00<?, ?it/s]\u001b[A"
     ]
    },
    {
     "name": "stdout",
     "output_type": "stream",
     "text": [
      "\tsaving model 9300...\n",
      "\tdone\n",
      "Evaluating\n"
     ]
    },
    {
     "name": "stderr",
     "output_type": "stream",
     "text": [
      "\n",
      " 12%|#1        | 9/77 [00:00<00:00, 89.86it/s]\u001b[A\n",
      " 23%|##3       | 18/77 [00:00<00:00, 89.19it/s]\u001b[A\n",
      " 35%|###5      | 27/77 [00:00<00:00, 88.94it/s]\u001b[A\n",
      " 45%|####5     | 35/77 [00:00<00:00, 85.38it/s]\u001b[A\n",
      " 55%|#####4    | 42/77 [00:00<00:00, 78.11it/s]\u001b[A\n",
      " 64%|######3   | 49/77 [00:00<00:00, 73.77it/s]\u001b[A\n",
      " 74%|#######4  | 57/77 [00:00<00:00, 74.19it/s]\u001b[A\n",
      " 84%|########4 | 65/77 [00:00<00:00, 74.16it/s]\u001b[A\n",
      " 95%|#########4| 73/77 [00:00<00:00, 75.22it/s]\u001b[A\n",
      " 52%|█████▏    | 461/884 [00:22<01:09,  6.07it/s]A"
     ]
    },
    {
     "name": "stdout",
     "output_type": "stream",
     "text": [
      "{'ade': 0.47899675, 'fde': 1.0521517}\n",
      "\t last loss:0.000480737, eval on validation:['ade: 0.47899675', 'fde: 1.0521517'], (best ade:0.4785589 at step 8700) \n"
     ]
    },
    {
     "name": "stderr",
     "output_type": "stream",
     "text": [
      " 86%|████████▌ | 759/884 [00:37<00:06, 20.27it/s]"
     ]
    },
    {
     "name": "stdout",
     "output_type": "stream",
     "text": [
      "\tsaving model 9600...\n"
     ]
    },
    {
     "name": "stderr",
     "output_type": "stream",
     "text": [
      "\n",
      "  0%|          | 0/77 [00:00<?, ?it/s]\u001b[A\n",
      " 13%|#2        | 10/77 [00:00<00:00, 95.30it/s]\u001b[A"
     ]
    },
    {
     "name": "stdout",
     "output_type": "stream",
     "text": [
      "\tdone\n",
      "Evaluating\n"
     ]
    },
    {
     "name": "stderr",
     "output_type": "stream",
     "text": [
      "\n",
      " 26%|##5       | 20/77 [00:00<00:00, 94.51it/s]\u001b[A\n",
      " 39%|###8      | 30/77 [00:00<00:00, 95.29it/s]\u001b[A\n",
      " 52%|#####1    | 40/77 [00:00<00:00, 90.74it/s]\u001b[A\n",
      " 65%|######4   | 50/77 [00:00<00:00, 92.02it/s]\u001b[A\n",
      " 78%|#######7  | 60/77 [00:00<00:00, 92.24it/s]\u001b[A\n",
      " 91%|######### | 70/77 [00:00<00:00, 92.50it/s]\u001b[A\n",
      " 86%|████████▌ | 762/884 [00:38<00:18,  6.47it/s]A"
     ]
    },
    {
     "name": "stdout",
     "output_type": "stream",
     "text": [
      "{'ade': 0.52097845, 'fde': 1.154811}\n",
      "\t last loss:0.000502317, eval on validation:['ade: 0.52097845', 'fde: 1.154811'], (best ade:0.4785589 at step 8700) \n"
     ]
    },
    {
     "name": "stderr",
     "output_type": "stream",
     "text": [
      "100%|██████████| 884/884 [00:43<00:00, 20.43it/s]\n",
      "  0%|          | 2/884 [00:00<01:02, 14.06it/s]"
     ]
    },
    {
     "name": "stdout",
     "output_type": "stream",
     "text": [
      "('Epoca 12.', 'lr:', 0.0008874108)\n"
     ]
    },
    {
     "name": "stderr",
     "output_type": "stream",
     "text": [
      " 20%|█▉        | 173/884 [00:07<00:29, 24.46it/s]\n",
      "  0%|          | 0/77 [00:00<?, ?it/s]\u001b[A"
     ]
    },
    {
     "name": "stdout",
     "output_type": "stream",
     "text": [
      "\tsaving model 9900...\n",
      "\tdone\n",
      "Evaluating\n"
     ]
    },
    {
     "name": "stderr",
     "output_type": "stream",
     "text": [
      "\n",
      " 12%|#1        | 9/77 [00:00<00:00, 88.84it/s]\u001b[A\n",
      " 22%|##2       | 17/77 [00:00<00:00, 83.18it/s]\u001b[A\n",
      " 32%|###2      | 25/77 [00:00<00:00, 82.16it/s]\u001b[A\n",
      " 43%|####2     | 33/77 [00:00<00:00, 80.01it/s]\u001b[A\n",
      " 53%|#####3    | 41/77 [00:00<00:00, 78.83it/s]\u001b[A\n",
      " 64%|######3   | 49/77 [00:00<00:00, 78.05it/s]\u001b[A\n",
      " 73%|#######2  | 56/77 [00:00<00:00, 70.69it/s]\u001b[A\n",
      " 82%|########1 | 63/77 [00:00<00:00, 62.09it/s]\u001b[A\n",
      " 90%|########9 | 69/77 [00:01<00:00, 57.12it/s]\u001b[A\n",
      " 97%|#########7| 75/77 [00:01<00:00, 54.37it/s]\u001b[A\n",
      " 20%|██        | 178/884 [00:09<01:40,  7.05it/s]A"
     ]
    },
    {
     "name": "stdout",
     "output_type": "stream",
     "text": [
      "{'ade': 0.50871354, 'fde': 1.123967}\n",
      "\t last loss:0.000334533, eval on validation:['ade: 0.50871354', 'fde: 1.123967'], (best ade:0.4785589 at step 8700) \n"
     ]
    },
    {
     "name": "stderr",
     "output_type": "stream",
     "text": [
      " 54%|█████▎    | 475/884 [00:22<00:20, 19.58it/s]\n",
      "  0%|          | 0/77 [00:00<?, ?it/s]\u001b[A"
     ]
    },
    {
     "name": "stdout",
     "output_type": "stream",
     "text": [
      "\tsaving model 10200...\n",
      "\tdone\n",
      "Evaluating\n"
     ]
    },
    {
     "name": "stderr",
     "output_type": "stream",
     "text": [
      "\n",
      " 12%|#1        | 9/77 [00:00<00:00, 85.24it/s]\u001b[A\n",
      " 23%|##3       | 18/77 [00:00<00:00, 84.91it/s]\u001b[A\n",
      " 34%|###3      | 26/77 [00:00<00:00, 82.40it/s]\u001b[A\n",
      " 44%|####4     | 34/77 [00:00<00:00, 81.04it/s]\u001b[A\n",
      " 56%|#####5    | 43/77 [00:00<00:00, 81.59it/s]\u001b[A\n",
      " 68%|######7   | 52/77 [00:00<00:00, 82.40it/s]\u001b[A\n",
      " 79%|#######9  | 61/77 [00:00<00:00, 82.63it/s]\u001b[A\n",
      " 91%|######### | 70/77 [00:00<00:00, 82.81it/s]\u001b[A\n",
      " 54%|█████▍    | 477/884 [00:23<01:28,  4.59it/s]A"
     ]
    },
    {
     "name": "stdout",
     "output_type": "stream",
     "text": [
      "{'ade': 0.4833785, 'fde': 1.0598384}\n",
      "\t last loss:0.000428779, eval on validation:['ade: 0.4833785', 'fde: 1.0598384'], (best ade:0.4785589 at step 8700) \n"
     ]
    },
    {
     "name": "stderr",
     "output_type": "stream",
     "text": [
      " 88%|████████▊ | 774/884 [00:37<00:05, 21.52it/s]\n",
      "  0%|          | 0/77 [00:00<?, ?it/s]\u001b[A"
     ]
    },
    {
     "name": "stdout",
     "output_type": "stream",
     "text": [
      "\tsaving model 10500...\n",
      "\tdone\n",
      "Evaluating\n"
     ]
    },
    {
     "name": "stderr",
     "output_type": "stream",
     "text": [
      "\n",
      " 12%|#1        | 9/77 [00:00<00:00, 86.34it/s]\u001b[A\n",
      " 22%|##2       | 17/77 [00:00<00:00, 84.01it/s]\u001b[A\n",
      " 35%|###5      | 27/77 [00:00<00:00, 86.46it/s]\u001b[A\n",
      " 48%|####8     | 37/77 [00:00<00:00, 88.82it/s]\u001b[A\n",
      " 61%|######1   | 47/77 [00:00<00:00, 90.38it/s]\u001b[A\n",
      " 74%|#######4  | 57/77 [00:00<00:00, 91.74it/s]\u001b[A\n",
      " 87%|########7 | 67/77 [00:00<00:00, 92.03it/s]\u001b[A\n",
      "100%|##########| 77/77 [00:00<00:00, 92.65it/s]\u001b[A"
     ]
    },
    {
     "name": "stdout",
     "output_type": "stream",
     "text": [
      "{'ade': 0.47226936, 'fde': 1.0378575}\n",
      "\t last loss:0.000237386, eval on validation:['ade: 0.47226936', 'fde: 1.0378575'], (best ade:0.4785589 at step 8700) \n",
      "\t saving best model...\n",
      "\t done.\n"
     ]
    },
    {
     "name": "stderr",
     "output_type": "stream",
     "text": [
      "100%|██████████| 884/884 [00:43<00:00, 20.50it/s]\n",
      "  0%|          | 3/884 [00:00<00:35, 24.66it/s]"
     ]
    },
    {
     "name": "stdout",
     "output_type": "stream",
     "text": [
      "('Epoca 13.', 'lr:', 0.0007542992)\n"
     ]
    },
    {
     "name": "stderr",
     "output_type": "stream",
     "text": [
      " 22%|██▏       | 191/884 [00:09<00:33, 20.51it/s]\n"
     ]
    },
    {
     "name": "stdout",
     "output_type": "stream",
     "text": [
      "\tsaving model 10800...\n",
      "\tdone\n",
      "Evaluating\n"
     ]
    },
    {
     "name": "stderr",
     "output_type": "stream",
     "text": [
      "  0%|          | 0/77 [00:00<?, ?it/s]\u001b[A\n",
      "  9%|9         | 7/77 [00:00<00:01, 67.84it/s]\u001b[A\n",
      " 18%|#8        | 14/77 [00:00<00:00, 67.70it/s]\u001b[A\n",
      " 29%|##8       | 22/77 [00:00<00:00, 68.77it/s]\u001b[A\n",
      " 38%|###7      | 29/77 [00:00<00:00, 65.91it/s]\u001b[A\n",
      " 47%|####6     | 36/77 [00:00<00:00, 65.20it/s]\u001b[A\n",
      " 56%|#####5    | 43/77 [00:00<00:00, 65.65it/s]\u001b[A\n",
      " 65%|######4   | 50/77 [00:00<00:00, 66.78it/s]\u001b[A\n",
      " 75%|#######5  | 58/77 [00:00<00:00, 69.48it/s]\u001b[A\n",
      " 86%|########5 | 66/77 [00:00<00:00, 71.06it/s]\u001b[A\n",
      " 96%|#########6| 74/77 [00:01<00:00, 72.34it/s]\u001b[A\n",
      " 22%|██▏       | 194/884 [00:10<02:04,  5.55it/s]A"
     ]
    },
    {
     "name": "stdout",
     "output_type": "stream",
     "text": [
      "{'ade': 0.5003363, 'fde': 1.1095613}\n",
      "\t last loss:0.000270451, eval on validation:['ade: 0.5003363', 'fde: 1.1095613'], (best ade:0.47226936 at step 10500) \n"
     ]
    },
    {
     "name": "stderr",
     "output_type": "stream",
     "text": [
      " 56%|█████▌    | 491/884 [00:23<00:18, 20.93it/s]"
     ]
    },
    {
     "name": "stdout",
     "output_type": "stream",
     "text": [
      "\tsaving model 11100...\n"
     ]
    },
    {
     "name": "stderr",
     "output_type": "stream",
     "text": [
      "\n",
      "  0%|          | 0/77 [00:00<?, ?it/s]\u001b[A\n",
      " 10%|#         | 8/77 [00:00<00:00, 72.47it/s]\u001b[A\n",
      " 19%|#9        | 15/77 [00:00<00:00, 71.63it/s]\u001b[A\n",
      " 27%|##7       | 21/77 [00:00<00:00, 65.56it/s]\u001b[A\n",
      " 35%|###5      | 27/77 [00:00<00:00, 63.17it/s]\u001b[A\n",
      " 43%|####2     | 33/77 [00:00<00:00, 61.84it/s]\u001b[A\n",
      " 52%|#####1    | 40/77 [00:00<00:00, 61.85it/s]\u001b[A\n",
      " 60%|#####9    | 46/77 [00:00<00:00, 60.34it/s]\u001b[A\n",
      " 68%|######7   | 52/77 [00:00<00:00, 60.07it/s]\u001b[A\n",
      " 75%|#######5  | 58/77 [00:00<00:00, 59.36it/s]\u001b[A\n",
      " 83%|########3 | 64/77 [00:01<00:00, 58.90it/s]\u001b[A\n",
      " 91%|######### | 70/77 [00:01<00:00, 59.08it/s]\u001b[A\n",
      " 56%|█████▌    | 494/884 [00:24<01:19,  4.93it/s]A"
     ]
    },
    {
     "name": "stdout",
     "output_type": "stream",
     "text": [
      "\tdone\n",
      "Evaluating\n",
      "{'ade': 0.5072027, 'fde': 1.1250241}\n",
      "\t last loss:0.000589609, eval on validation:['ade: 0.5072027', 'fde: 1.1250241'], (best ade:0.47226936 at step 10500) \n"
     ]
    },
    {
     "name": "stderr",
     "output_type": "stream",
     "text": [
      " 89%|████████▉ | 789/884 [00:37<00:03, 25.32it/s]\n",
      "  0%|          | 0/77 [00:00<?, ?it/s]\u001b[A"
     ]
    },
    {
     "name": "stdout",
     "output_type": "stream",
     "text": [
      "\tsaving model 11400...\n",
      "\tdone\n",
      "Evaluating\n"
     ]
    },
    {
     "name": "stderr",
     "output_type": "stream",
     "text": [
      "\n",
      " 13%|#2        | 10/77 [00:00<00:00, 95.09it/s]\u001b[A\n",
      " 26%|##5       | 20/77 [00:00<00:00, 95.67it/s]\u001b[A\n",
      " 39%|###8      | 30/77 [00:00<00:00, 96.01it/s]\u001b[A\n",
      " 52%|#####1    | 40/77 [00:00<00:00, 96.37it/s]\u001b[A\n",
      " 65%|######4   | 50/77 [00:00<00:00, 95.98it/s]\u001b[A\n",
      " 78%|#######7  | 60/77 [00:00<00:00, 96.40it/s]\u001b[A\n",
      " 90%|########9 | 69/77 [00:00<00:00, 91.67it/s]\u001b[A\n",
      " 90%|████████▉ | 795/884 [00:39<00:09,  8.97it/s]A"
     ]
    },
    {
     "name": "stdout",
     "output_type": "stream",
     "text": [
      "{'ade': 0.50307703, 'fde': 1.1273841}\n",
      "\t last loss:0.000585722, eval on validation:['ade: 0.50307703', 'fde: 1.1273841'], (best ade:0.47226936 at step 10500) \n"
     ]
    },
    {
     "name": "stderr",
     "output_type": "stream",
     "text": [
      "100%|██████████| 884/884 [00:42<00:00, 20.65it/s]\n",
      "  0%|          | 3/884 [00:00<00:36, 24.01it/s]"
     ]
    },
    {
     "name": "stdout",
     "output_type": "stream",
     "text": [
      "('Epoca 14.', 'lr:', 0.0007542992)\n"
     ]
    },
    {
     "name": "stderr",
     "output_type": "stream",
     "text": [
      " 23%|██▎       | 207/884 [00:08<00:27, 24.37it/s]\n",
      "  0%|          | 0/77 [00:00<?, ?it/s]\u001b[A"
     ]
    },
    {
     "name": "stdout",
     "output_type": "stream",
     "text": [
      "\tsaving model 11700...\n",
      "\tdone\n",
      "Evaluating\n"
     ]
    },
    {
     "name": "stderr",
     "output_type": "stream",
     "text": [
      "\n",
      " 13%|#2        | 10/77 [00:00<00:00, 91.63it/s]\u001b[A\n",
      " 25%|##4       | 19/77 [00:00<00:00, 89.80it/s]\u001b[A\n",
      " 36%|###6      | 28/77 [00:00<00:00, 89.41it/s]\u001b[A\n",
      " 48%|####8     | 37/77 [00:00<00:00, 88.42it/s]\u001b[A\n",
      " 58%|#####8    | 45/77 [00:00<00:00, 84.46it/s]\u001b[A\n",
      " 70%|#######   | 54/77 [00:00<00:00, 86.04it/s]\u001b[A\n",
      " 83%|########3 | 64/77 [00:00<00:00, 87.98it/s]\u001b[A\n",
      " 96%|#########6| 74/77 [00:00<00:00, 90.11it/s]\u001b[A\n",
      " 24%|██▍       | 210/884 [00:09<01:37,  6.89it/s]A"
     ]
    },
    {
     "name": "stdout",
     "output_type": "stream",
     "text": [
      "{'ade': 0.48951814, 'fde': 1.0779018}\n",
      "\t last loss:0.000433527, eval on validation:['ade: 0.48951814', 'fde: 1.0779018'], (best ade:0.47226936 at step 10500) \n"
     ]
    },
    {
     "name": "stderr",
     "output_type": "stream",
     "text": [
      " 57%|█████▋    | 507/884 [00:21<00:16, 23.24it/s]"
     ]
    },
    {
     "name": "stdout",
     "output_type": "stream",
     "text": [
      "\tsaving model 12000...\n",
      "\tdone\n",
      "Evaluating\n"
     ]
    },
    {
     "name": "stderr",
     "output_type": "stream",
     "text": [
      "\n",
      "  0%|          | 0/77 [00:00<?, ?it/s]\u001b[A\n",
      " 10%|#         | 8/77 [00:00<00:00, 79.32it/s]\u001b[A\n",
      " 21%|##        | 16/77 [00:00<00:00, 79.21it/s]\u001b[A\n",
      " 31%|###1      | 24/77 [00:00<00:00, 79.19it/s]\u001b[A\n",
      " 42%|####1     | 32/77 [00:00<00:00, 78.88it/s]\u001b[A\n",
      " 52%|#####1    | 40/77 [00:00<00:00, 78.95it/s]\u001b[A\n",
      " 62%|######2   | 48/77 [00:00<00:00, 78.79it/s]\u001b[A\n",
      " 74%|#######4  | 57/77 [00:00<00:00, 79.34it/s]\u001b[A\n",
      " 84%|########4 | 65/77 [00:00<00:00, 79.52it/s]\u001b[A\n",
      " 95%|#########4| 73/77 [00:00<00:00, 75.52it/s]\u001b[A\n",
      " 58%|█████▊    | 510/884 [00:23<01:01,  6.07it/s]A"
     ]
    },
    {
     "name": "stdout",
     "output_type": "stream",
     "text": [
      "{'ade': 0.48627585, 'fde': 1.0728562}\n",
      "\t last loss:0.000282569, eval on validation:['ade: 0.48627585', 'fde: 1.0728562'], (best ade:0.47226936 at step 10500) \n"
     ]
    },
    {
     "name": "stderr",
     "output_type": "stream",
     "text": [
      " 91%|█████████ | 806/884 [00:36<00:03, 20.67it/s]\n",
      "  0%|          | 0/77 [00:00<?, ?it/s]\u001b[A"
     ]
    },
    {
     "name": "stdout",
     "output_type": "stream",
     "text": [
      "\tsaving model 12300...\n",
      "\tdone\n",
      "Evaluating\n"
     ]
    },
    {
     "name": "stderr",
     "output_type": "stream",
     "text": [
      "\n",
      " 10%|#         | 8/77 [00:00<00:00, 79.96it/s]\u001b[A\n",
      " 21%|##        | 16/77 [00:00<00:00, 79.20it/s]\u001b[A\n",
      " 31%|###1      | 24/77 [00:00<00:00, 78.90it/s]\u001b[A\n",
      " 43%|####2     | 33/77 [00:00<00:00, 79.37it/s]\u001b[A\n",
      " 53%|#####3    | 41/77 [00:00<00:00, 78.61it/s]\u001b[A\n",
      " 62%|######2   | 48/77 [00:00<00:00, 73.84it/s]\u001b[A\n",
      " 73%|#######2  | 56/77 [00:00<00:00, 74.95it/s]\u001b[A\n",
      " 83%|########3 | 64/77 [00:00<00:00, 75.80it/s]\u001b[A\n",
      " 94%|#########3| 72/77 [00:00<00:00, 76.50it/s]\u001b[A\n",
      " 92%|█████████▏| 809/884 [00:37<00:12,  5.90it/s]A"
     ]
    },
    {
     "name": "stdout",
     "output_type": "stream",
     "text": [
      "{'ade': 0.484709, 'fde': 1.0639668}\n",
      "\t last loss:0.000307390, eval on validation:['ade: 0.484709', 'fde: 1.0639668'], (best ade:0.47226936 at step 10500) \n"
     ]
    },
    {
     "name": "stderr",
     "output_type": "stream",
     "text": [
      "100%|██████████| 884/884 [00:40<00:00, 21.61it/s]\n",
      "  0%|          | 1/884 [00:00<01:29,  9.86it/s]"
     ]
    },
    {
     "name": "stdout",
     "output_type": "stream",
     "text": [
      "('Epoca 15.', 'lr:', 0.0006411543)\n"
     ]
    },
    {
     "name": "stderr",
     "output_type": "stream",
     "text": [
      " 25%|██▌       | 223/884 [00:08<00:25, 25.77it/s]\n",
      "  0%|          | 0/77 [00:00<?, ?it/s]\u001b[A"
     ]
    },
    {
     "name": "stdout",
     "output_type": "stream",
     "text": [
      "\tsaving model 12600...\n",
      "\tdone\n",
      "Evaluating\n"
     ]
    },
    {
     "name": "stderr",
     "output_type": "stream",
     "text": [
      "\n",
      " 13%|#2        | 10/77 [00:00<00:00, 91.62it/s]\u001b[A\n",
      " 25%|##4       | 19/77 [00:00<00:00, 88.78it/s]\u001b[A\n",
      " 36%|###6      | 28/77 [00:00<00:00, 86.50it/s]\u001b[A\n",
      " 48%|####8     | 37/77 [00:00<00:00, 86.32it/s]\u001b[A\n",
      " 60%|#####9    | 46/77 [00:00<00:00, 86.99it/s]\u001b[A\n",
      " 71%|#######1  | 55/77 [00:00<00:00, 86.60it/s]\u001b[A\n",
      " 83%|########3 | 64/77 [00:00<00:00, 87.24it/s]\u001b[A\n",
      " 95%|#########4| 73/77 [00:00<00:00, 87.57it/s]\u001b[A\n",
      " 26%|██▌       | 226/884 [00:09<01:36,  6.79it/s]A"
     ]
    },
    {
     "name": "stdout",
     "output_type": "stream",
     "text": [
      "{'ade': 0.49761918, 'fde': 1.096301}\n",
      "\t last loss:0.000329495, eval on validation:['ade: 0.49761918', 'fde: 1.096301'], (best ade:0.47226936 at step 10500) \n"
     ]
    },
    {
     "name": "stderr",
     "output_type": "stream",
     "text": [
      " 59%|█████▉    | 521/884 [00:22<00:14, 25.72it/s]\n",
      "  0%|          | 0/77 [00:00<?, ?it/s]\u001b[A"
     ]
    },
    {
     "name": "stdout",
     "output_type": "stream",
     "text": [
      "\tsaving model 12900...\n",
      "\tdone\n",
      "Evaluating\n"
     ]
    },
    {
     "name": "stderr",
     "output_type": "stream",
     "text": [
      "\n",
      "  6%|6         | 5/77 [00:00<00:01, 42.49it/s]\u001b[A\n",
      " 13%|#2        | 10/77 [00:00<00:01, 44.35it/s]\u001b[A\n",
      " 23%|##3       | 18/77 [00:00<00:01, 49.90it/s]\u001b[A\n",
      " 32%|###2      | 25/77 [00:00<00:00, 53.91it/s]\u001b[A\n",
      " 44%|####4     | 34/77 [00:00<00:00, 59.77it/s]\u001b[A\n",
      " 55%|#####4    | 42/77 [00:00<00:00, 64.35it/s]\u001b[A\n",
      " 66%|######6   | 51/77 [00:00<00:00, 69.32it/s]\u001b[A\n",
      " 78%|#######7  | 60/77 [00:00<00:00, 73.38it/s]\u001b[A\n",
      " 88%|########8 | 68/77 [00:00<00:00, 74.66it/s]\u001b[A\n",
      " 60%|█████▉    | 527/884 [00:24<00:45,  7.82it/s]A"
     ]
    },
    {
     "name": "stdout",
     "output_type": "stream",
     "text": [
      "{'ade': 0.4809212, 'fde': 1.055812}\n",
      "\t last loss:0.000447368, eval on validation:['ade: 0.4809212', 'fde: 1.055812'], (best ade:0.47226936 at step 10500) \n"
     ]
    },
    {
     "name": "stderr",
     "output_type": "stream",
     "text": [
      " 93%|█████████▎| 822/884 [00:36<00:02, 23.98it/s]\n",
      "  0%|          | 0/77 [00:00<?, ?it/s]\u001b[A"
     ]
    },
    {
     "name": "stdout",
     "output_type": "stream",
     "text": [
      "\tsaving model 13200...\n",
      "\tdone\n",
      "Evaluating\n"
     ]
    },
    {
     "name": "stderr",
     "output_type": "stream",
     "text": [
      "\n",
      "  9%|9         | 7/77 [00:00<00:01, 65.70it/s]\u001b[A\n",
      " 19%|#9        | 15/77 [00:00<00:00, 67.77it/s]\u001b[A\n",
      " 30%|##9       | 23/77 [00:00<00:00, 69.58it/s]\u001b[A\n",
      " 40%|####      | 31/77 [00:00<00:00, 71.92it/s]\u001b[A\n",
      " 52%|#####1    | 40/77 [00:00<00:00, 74.46it/s]\u001b[A\n",
      " 64%|######3   | 49/77 [00:00<00:00, 77.64it/s]\u001b[A\n",
      " 75%|#######5  | 58/77 [00:00<00:00, 79.40it/s]\u001b[A\n",
      " 87%|########7 | 67/77 [00:00<00:00, 80.92it/s]\u001b[A\n",
      " 99%|#########8| 76/77 [00:00<00:00, 81.73it/s]\u001b[A\n",
      " 93%|█████████▎| 825/884 [00:38<00:09,  6.19it/s]A"
     ]
    },
    {
     "name": "stdout",
     "output_type": "stream",
     "text": [
      "{'ade': 0.5042777, 'fde': 1.1190383}\n",
      "\t last loss:0.000398650, eval on validation:['ade: 0.5042777', 'fde: 1.1190383'], (best ade:0.47226936 at step 10500) \n"
     ]
    },
    {
     "name": "stderr",
     "output_type": "stream",
     "text": [
      "100%|██████████| 884/884 [00:40<00:00, 21.71it/s]\n",
      "  0%|          | 1/884 [00:00<01:57,  7.51it/s]"
     ]
    },
    {
     "name": "stdout",
     "output_type": "stream",
     "text": [
      "('Epoca 16.', 'lr:', 0.0006411543)\n"
     ]
    },
    {
     "name": "stderr",
     "output_type": "stream",
     "text": [
      " 27%|██▋       | 239/884 [00:10<00:30, 21.27it/s]"
     ]
    },
    {
     "name": "stdout",
     "output_type": "stream",
     "text": [
      "\tsaving model 13500...\n"
     ]
    },
    {
     "name": "stderr",
     "output_type": "stream",
     "text": [
      "\n",
      "  0%|          | 0/77 [00:00<?, ?it/s]\u001b[A\n",
      "  9%|9         | 7/77 [00:00<00:01, 69.44it/s]\u001b[A"
     ]
    },
    {
     "name": "stdout",
     "output_type": "stream",
     "text": [
      "\tdone\n",
      "Evaluating\n"
     ]
    },
    {
     "name": "stderr",
     "output_type": "stream",
     "text": [
      "\n",
      " 19%|#9        | 15/77 [00:00<00:00, 70.57it/s]\u001b[A\n",
      " 30%|##9       | 23/77 [00:00<00:00, 72.95it/s]\u001b[A\n",
      " 40%|####      | 31/77 [00:00<00:00, 74.46it/s]\u001b[A\n",
      " 51%|#####     | 39/77 [00:00<00:00, 75.89it/s]\u001b[A\n",
      " 61%|######1   | 47/77 [00:00<00:00, 76.46it/s]\u001b[A\n",
      " 71%|#######1  | 55/77 [00:00<00:00, 76.63it/s]\u001b[A\n",
      " 83%|########3 | 64/77 [00:00<00:00, 77.88it/s]\u001b[A\n",
      " 94%|#########3| 72/77 [00:00<00:00, 77.37it/s]\u001b[A\n",
      " 27%|██▋       | 242/884 [00:11<01:50,  5.80it/s]A"
     ]
    },
    {
     "name": "stdout",
     "output_type": "stream",
     "text": [
      "{'ade': 0.48025647, 'fde': 1.0481346}\n",
      "\t last loss:0.000322625, eval on validation:['ade: 0.48025647', 'fde: 1.0481346'], (best ade:0.47226936 at step 10500) \n"
     ]
    },
    {
     "name": "stderr",
     "output_type": "stream",
     "text": [
      " 61%|██████    | 537/884 [00:26<00:13, 25.01it/s]\n",
      "  0%|          | 0/77 [00:00<?, ?it/s]\u001b[A"
     ]
    },
    {
     "name": "stdout",
     "output_type": "stream",
     "text": [
      "\tsaving model 13800...\n",
      "\tdone\n",
      "Evaluating\n"
     ]
    },
    {
     "name": "stderr",
     "output_type": "stream",
     "text": [
      "\n",
      " 12%|#1        | 9/77 [00:00<00:00, 85.48it/s]\u001b[A\n",
      " 23%|##3       | 18/77 [00:00<00:00, 84.23it/s]\u001b[A\n",
      " 35%|###5      | 27/77 [00:00<00:00, 83.05it/s]\u001b[A\n",
      " 45%|####5     | 35/77 [00:00<00:00, 79.48it/s]\u001b[A\n",
      " 55%|#####4    | 42/77 [00:00<00:00, 74.82it/s]\u001b[A\n",
      " 64%|######3   | 49/77 [00:00<00:00, 69.93it/s]\u001b[A\n",
      " 73%|#######2  | 56/77 [00:00<00:00, 66.08it/s]\u001b[A\n",
      " 82%|########1 | 63/77 [00:00<00:00, 63.25it/s]\u001b[A\n",
      " 90%|########9 | 69/77 [00:01<00:00, 61.02it/s]\u001b[A\n",
      " 97%|#########7| 75/77 [00:01<00:00, 58.96it/s]\u001b[A\n",
      " 61%|██████    | 540/884 [00:27<01:01,  5.55it/s]A"
     ]
    },
    {
     "name": "stdout",
     "output_type": "stream",
     "text": [
      "{'ade': 0.47882822, 'fde': 1.0506468}\n",
      "\t last loss:0.000361902, eval on validation:['ade: 0.47882822', 'fde: 1.0506468'], (best ade:0.47226936 at step 10500) \n"
     ]
    },
    {
     "name": "stderr",
     "output_type": "stream",
     "text": [
      " 95%|█████████▍| 839/884 [00:41<00:01, 23.97it/s]\n",
      "  0%|          | 0/77 [00:00<?, ?it/s]\u001b[A"
     ]
    },
    {
     "name": "stdout",
     "output_type": "stream",
     "text": [
      "\tsaving model 14100...\n",
      "\tdone\n",
      "Evaluating\n"
     ]
    },
    {
     "name": "stderr",
     "output_type": "stream",
     "text": [
      "\n",
      " 12%|#1        | 9/77 [00:00<00:00, 83.32it/s]\u001b[A\n",
      " 22%|##2       | 17/77 [00:00<00:00, 81.95it/s]\u001b[A\n",
      " 34%|###3      | 26/77 [00:00<00:00, 82.53it/s]\u001b[A\n",
      " 45%|####5     | 35/77 [00:00<00:00, 82.69it/s]\u001b[A\n",
      " 57%|#####7    | 44/77 [00:00<00:00, 84.31it/s]\u001b[A\n",
      " 69%|######8   | 53/77 [00:00<00:00, 85.70it/s]\u001b[A\n",
      " 82%|########1 | 63/77 [00:00<00:00, 87.68it/s]\u001b[A\n",
      " 94%|#########3| 72/77 [00:00<00:00, 87.82it/s]\u001b[A\n",
      " 95%|█████████▌| 842/884 [00:42<00:06,  6.67it/s]A"
     ]
    },
    {
     "name": "stdout",
     "output_type": "stream",
     "text": [
      "{'ade': 0.50253785, 'fde': 1.1223608}\n",
      "\t last loss:0.000232222, eval on validation:['ade: 0.50253785', 'fde: 1.1223608'], (best ade:0.47226936 at step 10500) \n"
     ]
    },
    {
     "name": "stderr",
     "output_type": "stream",
     "text": [
      "100%|██████████| 884/884 [00:44<00:00, 17.90it/s]\n",
      "  0%|          | 2/884 [00:00<01:03, 13.85it/s]"
     ]
    },
    {
     "name": "stdout",
     "output_type": "stream",
     "text": [
      "('Epoca 17.', 'lr:', 0.0005449812)\n"
     ]
    },
    {
     "name": "stderr",
     "output_type": "stream",
     "text": [
      " 29%|██▊       | 253/884 [00:11<00:25, 24.75it/s]\n",
      "  0%|          | 0/77 [00:00<?, ?it/s]\u001b[A"
     ]
    },
    {
     "name": "stdout",
     "output_type": "stream",
     "text": [
      "\tsaving model 14400...\n",
      "\tdone\n",
      "Evaluating\n"
     ]
    },
    {
     "name": "stderr",
     "output_type": "stream",
     "text": [
      "\n",
      " 13%|#2        | 10/77 [00:00<00:00, 99.87it/s]\u001b[A\n",
      " 26%|##5       | 20/77 [00:00<00:00, 98.90it/s]\u001b[A\n",
      " 39%|###8      | 30/77 [00:00<00:00, 97.23it/s]\u001b[A\n",
      " 52%|#####1    | 40/77 [00:00<00:00, 96.81it/s]\u001b[A\n",
      " 62%|######2   | 48/77 [00:00<00:00, 82.99it/s]\u001b[A\n",
      " 71%|#######1  | 55/77 [00:00<00:00, 72.95it/s]\u001b[A\n",
      " 82%|########1 | 63/77 [00:00<00:00, 73.17it/s]\u001b[A\n",
      " 95%|#########4| 73/77 [00:00<00:00, 78.72it/s]\u001b[A\n",
      " 29%|██▉       | 259/884 [00:12<01:12,  8.64it/s]A"
     ]
    },
    {
     "name": "stdout",
     "output_type": "stream",
     "text": [
      "{'ade': 0.5008569, 'fde': 1.1069194}\n",
      "\t last loss:0.000351300, eval on validation:['ade: 0.5008569', 'fde: 1.1069194'], (best ade:0.47226936 at step 10500) \n"
     ]
    },
    {
     "name": "stderr",
     "output_type": "stream",
     "text": [
      " 63%|██████▎   | 553/884 [00:24<00:13, 23.78it/s]\n",
      "  0%|          | 0/77 [00:00<?, ?it/s]\u001b[A"
     ]
    },
    {
     "name": "stdout",
     "output_type": "stream",
     "text": [
      "\tsaving model 14700...\n",
      "\tdone\n",
      "Evaluating\n"
     ]
    },
    {
     "name": "stderr",
     "output_type": "stream",
     "text": [
      "\n",
      " 10%|#         | 8/77 [00:00<00:00, 79.87it/s]\u001b[A\n",
      " 18%|#8        | 14/77 [00:00<00:00, 68.23it/s]\u001b[A\n",
      " 25%|##4       | 19/77 [00:00<00:00, 60.39it/s]\u001b[A\n",
      " 34%|###3      | 26/77 [00:00<00:00, 62.91it/s]\u001b[A\n",
      " 43%|####2     | 33/77 [00:00<00:00, 64.79it/s]\u001b[A\n",
      " 52%|#####1    | 40/77 [00:00<00:00, 65.96it/s]\u001b[A\n",
      " 61%|######1   | 47/77 [00:00<00:00, 66.33it/s]\u001b[A\n",
      " 70%|#######   | 54/77 [00:00<00:00, 65.09it/s]\u001b[A\n",
      " 79%|#######9  | 61/77 [00:00<00:00, 66.37it/s]\u001b[A\n",
      " 90%|########9 | 69/77 [00:01<00:00, 68.87it/s]\u001b[A\n",
      " 63%|██████▎   | 559/884 [00:26<00:44,  7.30it/s]A"
     ]
    },
    {
     "name": "stdout",
     "output_type": "stream",
     "text": [
      "{'ade': 0.4795795, 'fde': 1.0584699}\n",
      "\t last loss:0.000493074, eval on validation:['ade: 0.4795795', 'fde: 1.0584699'], (best ade:0.47226936 at step 10500) \n"
     ]
    },
    {
     "name": "stderr",
     "output_type": "stream",
     "text": [
      " 96%|█████████▋| 853/884 [00:38<00:01, 23.77it/s]"
     ]
    },
    {
     "name": "stdout",
     "output_type": "stream",
     "text": [
      "\tsaving model 15000...\n"
     ]
    },
    {
     "name": "stderr",
     "output_type": "stream",
     "text": [
      "\n",
      "  0%|          | 0/77 [00:00<?, ?it/s]\u001b[A\n",
      " 10%|#         | 8/77 [00:00<00:00, 73.28it/s]\u001b[A\n",
      " 19%|#9        | 15/77 [00:00<00:00, 72.14it/s]\u001b[A\n",
      " 29%|##8       | 22/77 [00:00<00:00, 69.22it/s]\u001b[A\n",
      " 38%|###7      | 29/77 [00:00<00:00, 67.55it/s]\u001b[A\n",
      " 47%|####6     | 36/77 [00:00<00:00, 67.28it/s]\u001b[A\n",
      " 57%|#####7    | 44/77 [00:00<00:00, 68.33it/s]\u001b[A\n",
      " 68%|######7   | 52/77 [00:00<00:00, 69.07it/s]\u001b[A\n",
      " 78%|#######7  | 60/77 [00:00<00:00, 69.58it/s]\u001b[A\n",
      " 88%|########8 | 68/77 [00:00<00:00, 70.31it/s]\u001b[A\n",
      " 97%|#########7| 75/77 [00:01<00:00, 69.16it/s]\u001b[A\n",
      " 97%|█████████▋| 858/884 [00:39<00:03,  7.14it/s]A"
     ]
    },
    {
     "name": "stdout",
     "output_type": "stream",
     "text": [
      "\tdone\n",
      "Evaluating\n",
      "{'ade': 0.47637296, 'fde': 1.0456821}\n",
      "\t last loss:0.000486735, eval on validation:['ade: 0.47637296', 'fde: 1.0456821'], (best ade:0.47226936 at step 10500) \n"
     ]
    },
    {
     "name": "stderr",
     "output_type": "stream",
     "text": [
      "100%|██████████| 884/884 [00:41<00:00, 12.64it/s]\n",
      "  0%|          | 2/884 [00:00<01:14, 11.77it/s]"
     ]
    },
    {
     "name": "stdout",
     "output_type": "stream",
     "text": [
      "('Epoca 18.', 'lr:', 0.0005449812)\n"
     ]
    },
    {
     "name": "stderr",
     "output_type": "stream",
     "text": [
      " 30%|███       | 269/884 [00:12<00:23, 25.66it/s]\n",
      "  0%|          | 0/77 [00:00<?, ?it/s]\u001b[A"
     ]
    },
    {
     "name": "stdout",
     "output_type": "stream",
     "text": [
      "\tsaving model 15300...\n",
      "\tdone\n",
      "Evaluating\n"
     ]
    },
    {
     "name": "stderr",
     "output_type": "stream",
     "text": [
      "\n",
      " 12%|#1        | 9/77 [00:00<00:00, 89.93it/s]\u001b[A\n",
      " 23%|##3       | 18/77 [00:00<00:00, 89.80it/s]\u001b[A\n",
      " 35%|###5      | 27/77 [00:00<00:00, 89.78it/s]\u001b[A\n",
      " 47%|####6     | 36/77 [00:00<00:00, 88.93it/s]\u001b[A\n",
      " 58%|#####8    | 45/77 [00:00<00:00, 87.20it/s]\u001b[A\n",
      " 69%|######8   | 53/77 [00:00<00:00, 84.09it/s]\u001b[A\n",
      " 79%|#######9  | 61/77 [00:00<00:00, 79.30it/s]\u001b[A\n",
      " 90%|########9 | 69/77 [00:00<00:00, 77.23it/s]\u001b[A\n",
      " 31%|███       | 275/884 [00:13<01:12,  8.38it/s]A"
     ]
    },
    {
     "name": "stdout",
     "output_type": "stream",
     "text": [
      "{'ade': 0.4787768, 'fde': 1.0502969}\n",
      "\t last loss:0.000344624, eval on validation:['ade: 0.4787768', 'fde: 1.0502969'], (best ade:0.47226936 at step 10500) \n"
     ]
    },
    {
     "name": "stderr",
     "output_type": "stream",
     "text": [
      " 64%|██████▍   | 569/884 [00:26<00:11, 27.68it/s]\n",
      "  0%|          | 0/77 [00:00<?, ?it/s]\u001b[A"
     ]
    },
    {
     "name": "stdout",
     "output_type": "stream",
     "text": [
      "\tsaving model 15600...\n",
      "\tdone\n",
      "Evaluating\n"
     ]
    },
    {
     "name": "stderr",
     "output_type": "stream",
     "text": [
      "\n",
      " 12%|#1        | 9/77 [00:00<00:00, 86.45it/s]\u001b[A\n",
      " 25%|##4       | 19/77 [00:00<00:00, 89.18it/s]\u001b[A\n",
      " 38%|###7      | 29/77 [00:00<00:00, 90.64it/s]\u001b[A\n",
      " 51%|#####     | 39/77 [00:00<00:00, 92.58it/s]\u001b[A\n",
      " 64%|######3   | 49/77 [00:00<00:00, 93.50it/s]\u001b[A\n",
      " 77%|#######6  | 59/77 [00:00<00:00, 94.76it/s]\u001b[A\n",
      " 90%|########9 | 69/77 [00:00<00:00, 95.33it/s]\u001b[A\n",
      " 65%|██████▌   | 575/884 [00:27<00:32,  9.50it/s]A"
     ]
    },
    {
     "name": "stdout",
     "output_type": "stream",
     "text": [
      "{'ade': 0.47618988, 'fde': 1.0508112}\n",
      "\t last loss:0.000443022, eval on validation:['ade: 0.47618988', 'fde: 1.0508112'], (best ade:0.47226936 at step 10500) \n"
     ]
    },
    {
     "name": "stderr",
     "output_type": "stream",
     "text": [
      " 98%|█████████▊| 870/884 [00:40<00:00, 23.46it/s]\n",
      "  0%|          | 0/77 [00:00<?, ?it/s]\u001b[A"
     ]
    },
    {
     "name": "stdout",
     "output_type": "stream",
     "text": [
      "\tsaving model 15900...\n",
      "\tdone\n",
      "Evaluating\n"
     ]
    },
    {
     "name": "stderr",
     "output_type": "stream",
     "text": [
      "\n",
      "  8%|7         | 6/77 [00:00<00:01, 58.44it/s]\u001b[A\n",
      " 16%|#5        | 12/77 [00:00<00:01, 55.62it/s]\u001b[A\n",
      " 23%|##3       | 18/77 [00:00<00:01, 56.18it/s]\u001b[A\n",
      " 34%|###3      | 26/77 [00:00<00:00, 61.27it/s]\u001b[A\n",
      " 44%|####4     | 34/77 [00:00<00:00, 65.59it/s]\u001b[A\n",
      " 56%|#####5    | 43/77 [00:00<00:00, 70.78it/s]\u001b[A\n",
      " 68%|######7   | 52/77 [00:00<00:00, 75.10it/s]\u001b[A\n",
      " 79%|#######9  | 61/77 [00:00<00:00, 78.62it/s]\u001b[A\n",
      " 91%|######### | 70/77 [00:00<00:00, 81.44it/s]\u001b[A\n",
      " 99%|█████████▉| 873/884 [00:42<00:01,  6.11it/s]A"
     ]
    },
    {
     "name": "stdout",
     "output_type": "stream",
     "text": [
      "{'ade': 0.48433733, 'fde': 1.0683284}\n",
      "\t last loss:0.000281591, eval on validation:['ade: 0.48433733', 'fde: 1.0683284'], (best ade:0.47226936 at step 10500) \n"
     ]
    },
    {
     "name": "stderr",
     "output_type": "stream",
     "text": [
      "100%|██████████| 884/884 [00:42<00:00, 20.67it/s]\n",
      "  0%|          | 1/884 [00:00<01:36,  9.19it/s]"
     ]
    },
    {
     "name": "stdout",
     "output_type": "stream",
     "text": [
      "('Epoca 19.', 'lr:', 0.00046323403)\n"
     ]
    },
    {
     "name": "stderr",
     "output_type": "stream",
     "text": [
      " 32%|███▏      | 286/884 [00:13<00:25, 23.19it/s]\n",
      "  0%|          | 0/77 [00:00<?, ?it/s]\u001b[A"
     ]
    },
    {
     "name": "stdout",
     "output_type": "stream",
     "text": [
      "\tsaving model 16200...\n",
      "\tdone\n",
      "Evaluating\n"
     ]
    },
    {
     "name": "stderr",
     "output_type": "stream",
     "text": [
      "\n",
      " 12%|#1        | 9/77 [00:00<00:00, 83.15it/s]\u001b[A\n",
      " 23%|##3       | 18/77 [00:00<00:00, 83.32it/s]\u001b[A\n",
      " 34%|###3      | 26/77 [00:00<00:00, 81.13it/s]\u001b[A\n",
      " 45%|####5     | 35/77 [00:00<00:00, 81.35it/s]\u001b[A\n",
      " 56%|#####5    | 43/77 [00:00<00:00, 80.01it/s]\u001b[A\n",
      " 66%|######6   | 51/77 [00:00<00:00, 79.51it/s]\u001b[A\n",
      " 75%|#######5  | 58/77 [00:00<00:00, 74.46it/s]\u001b[A\n",
      " 86%|########5 | 66/77 [00:00<00:00, 75.30it/s]\u001b[A\n",
      " 96%|#########6| 74/77 [00:00<00:00, 67.65it/s]\u001b[A\n",
      "100%|##########| 77/77 [00:01<00:00, 72.73it/s]\u001b[A"
     ]
    },
    {
     "name": "stdout",
     "output_type": "stream",
     "text": [
      "{'ade': 0.46877086, 'fde': 1.0288314}\n",
      "\t last loss:0.000344757, eval on validation:['ade: 0.46877086', 'fde: 1.0288314'], (best ade:0.47226936 at step 10500) \n",
      "\t saving best model...\n",
      "\t done.\n"
     ]
    },
    {
     "name": "stderr",
     "output_type": "stream",
     "text": [
      " 66%|██████▌   | 585/884 [00:28<00:14, 20.80it/s]"
     ]
    },
    {
     "name": "stdout",
     "output_type": "stream",
     "text": [
      "\tsaving model 16500...\n"
     ]
    },
    {
     "name": "stderr",
     "output_type": "stream",
     "text": [
      "\n",
      "  0%|          | 0/77 [00:00<?, ?it/s]\u001b[A\n",
      "  9%|9         | 7/77 [00:00<00:01, 64.81it/s]\u001b[A"
     ]
    },
    {
     "name": "stdout",
     "output_type": "stream",
     "text": [
      "\tdone\n",
      "Evaluating\n"
     ]
    },
    {
     "name": "stderr",
     "output_type": "stream",
     "text": [
      "\n",
      " 18%|#8        | 14/77 [00:00<00:00, 64.61it/s]\u001b[A\n",
      " 27%|##7       | 21/77 [00:00<00:00, 64.47it/s]\u001b[A\n",
      " 36%|###6      | 28/77 [00:00<00:00, 64.36it/s]\u001b[A\n",
      " 45%|####5     | 35/77 [00:00<00:00, 65.43it/s]\u001b[A\n",
      " 55%|#####4    | 42/77 [00:00<00:00, 64.23it/s]\u001b[A\n",
      " 62%|######2   | 48/77 [00:00<00:00, 61.33it/s]\u001b[A\n",
      " 70%|#######   | 54/77 [00:00<00:00, 57.06it/s]\u001b[A\n",
      " 79%|#######9  | 61/77 [00:00<00:00, 58.72it/s]\u001b[A\n",
      " 87%|########7 | 67/77 [00:01<00:00, 58.45it/s]\u001b[A\n",
      " 96%|#########6| 74/77 [00:01<00:00, 61.38it/s]\u001b[A\n",
      " 67%|██████▋   | 590/884 [00:30<00:45,  6.50it/s]A"
     ]
    },
    {
     "name": "stdout",
     "output_type": "stream",
     "text": [
      "{'ade': 0.49022484, 'fde': 1.0803416}\n",
      "\t last loss:0.000214224, eval on validation:['ade: 0.49022484', 'fde: 1.0803416'], (best ade:0.46877086 at step 16200) \n"
     ]
    },
    {
     "name": "stderr",
     "output_type": "stream",
     "text": [
      "100%|██████████| 884/884 [00:48<00:00,  9.99it/s]\n",
      "  0%|          | 1/884 [00:00<02:38,  5.56it/s]"
     ]
    },
    {
     "name": "stdout",
     "output_type": "stream",
     "text": [
      "('Epoca 20.', 'lr:', 0.00046323403)\n"
     ]
    },
    {
     "name": "stderr",
     "output_type": "stream",
     "text": [
      "  0%|          | 3/884 [00:00<02:34,  5.70it/s]"
     ]
    },
    {
     "name": "stdout",
     "output_type": "stream",
     "text": [
      "\tsaving model 16800...\n"
     ]
    },
    {
     "name": "stderr",
     "output_type": "stream",
     "text": [
      "\n",
      "  0%|          | 0/77 [00:00<?, ?it/s]\u001b[A\n",
      "  3%|2         | 2/77 [00:00<00:04, 17.52it/s]\u001b[A"
     ]
    },
    {
     "name": "stdout",
     "output_type": "stream",
     "text": [
      "\tdone\n",
      "Evaluating\n"
     ]
    },
    {
     "name": "stderr",
     "output_type": "stream",
     "text": [
      "\n",
      "  6%|6         | 5/77 [00:00<00:03, 19.22it/s]\u001b[A\n",
      " 12%|#1        | 9/77 [00:00<00:03, 20.72it/s]\u001b[A\n",
      " 16%|#5        | 12/77 [00:00<00:02, 21.90it/s]\u001b[A\n",
      " 19%|#9        | 15/77 [00:00<00:02, 22.98it/s]\u001b[A\n",
      " 25%|##4       | 19/77 [00:00<00:02, 25.81it/s]\u001b[A\n",
      " 30%|##9       | 23/77 [00:00<00:01, 27.91it/s]\u001b[A\n",
      " 36%|###6      | 28/77 [00:00<00:01, 31.93it/s]\u001b[A\n",
      " 43%|####2     | 33/77 [00:01<00:01, 34.75it/s]\u001b[A\n",
      " 48%|####8     | 37/77 [00:01<00:01, 34.21it/s]\u001b[A\n",
      " 53%|#####3    | 41/77 [00:01<00:01, 34.48it/s]\u001b[A\n",
      " 58%|#####8    | 45/77 [00:01<00:00, 34.91it/s]\u001b[A\n",
      " 66%|######6   | 51/77 [00:01<00:00, 38.98it/s]\u001b[A\n",
      " 73%|#######2  | 56/77 [00:01<00:00, 40.49it/s]\u001b[A\n",
      " 81%|########  | 62/77 [00:01<00:00, 44.42it/s]\u001b[A\n",
      " 90%|########9 | 69/77 [00:01<00:00, 48.34it/s]\u001b[A\n",
      " 97%|#########7| 75/77 [00:01<00:00, 50.65it/s]\u001b[A\n",
      "  1%|          | 6/884 [00:03<09:23,  1.56it/s]\u001b[A"
     ]
    },
    {
     "name": "stdout",
     "output_type": "stream",
     "text": [
      "{'ade': 0.48181248, 'fde': 1.0679668}\n",
      "\t last loss:0.000347582, eval on validation:['ade: 0.48181248', 'fde: 1.0679668'], (best ade:0.46877086 at step 16200) \n"
     ]
    },
    {
     "name": "stderr",
     "output_type": "stream",
     "text": [
      " 34%|███▍      | 301/884 [00:19<00:33, 17.52it/s]\n",
      "  0%|          | 0/77 [00:00<?, ?it/s]\u001b[A"
     ]
    },
    {
     "name": "stdout",
     "output_type": "stream",
     "text": [
      "\tsaving model 17100...\n",
      "\tdone\n",
      "Evaluating\n"
     ]
    },
    {
     "name": "stderr",
     "output_type": "stream",
     "text": [
      "\n",
      " 12%|#1        | 9/77 [00:00<00:00, 82.15it/s]\u001b[A\n",
      " 22%|##2       | 17/77 [00:00<00:00, 80.37it/s]\u001b[A\n",
      " 31%|###1      | 24/77 [00:00<00:00, 73.46it/s]\u001b[A\n",
      " 40%|####      | 31/77 [00:00<00:00, 70.12it/s]\u001b[A\n",
      " 49%|####9     | 38/77 [00:00<00:00, 69.98it/s]\u001b[A\n",
      " 60%|#####9    | 46/77 [00:00<00:00, 72.25it/s]\u001b[A\n",
      " 70%|#######   | 54/77 [00:00<00:00, 72.32it/s]\u001b[A\n",
      " 83%|########3 | 64/77 [00:00<00:00, 78.03it/s]\u001b[A\n",
      " 95%|#########4| 73/77 [00:00<00:00, 80.81it/s]\u001b[A\n",
      " 35%|███▍      | 307/884 [00:21<01:16,  7.50it/s]A"
     ]
    },
    {
     "name": "stdout",
     "output_type": "stream",
     "text": [
      "{'ade': 0.48134363, 'fde': 1.0621632}\n",
      "\t last loss:0.000300805, eval on validation:['ade: 0.48134363', 'fde: 1.0621632'], (best ade:0.46877086 at step 16200) \n"
     ]
    },
    {
     "name": "stderr",
     "output_type": "stream",
     "text": [
      " 68%|██████▊   | 603/884 [00:35<00:11, 24.30it/s]\n",
      "  0%|          | 0/77 [00:00<?, ?it/s]\u001b[A"
     ]
    },
    {
     "name": "stdout",
     "output_type": "stream",
     "text": [
      "\tsaving model 17400...\n",
      "\tdone\n",
      "Evaluating\n"
     ]
    },
    {
     "name": "stderr",
     "output_type": "stream",
     "text": [
      "\n",
      " 12%|#1        | 9/77 [00:00<00:00, 87.75it/s]\u001b[A\n",
      " 23%|##3       | 18/77 [00:00<00:00, 86.28it/s]\u001b[A\n",
      " 35%|###5      | 27/77 [00:00<00:00, 85.51it/s]\u001b[A\n",
      " 47%|####6     | 36/77 [00:00<00:00, 85.42it/s]\u001b[A\n",
      " 58%|#####8    | 45/77 [00:00<00:00, 85.46it/s]\u001b[A\n",
      " 69%|######8   | 53/77 [00:00<00:00, 82.76it/s]\u001b[A\n",
      " 79%|#######9  | 61/77 [00:00<00:00, 81.01it/s]\u001b[A\n",
      " 91%|######### | 70/77 [00:00<00:00, 82.60it/s]\u001b[A\n",
      " 69%|██████▊   | 606/884 [00:37<00:42,  6.57it/s]A"
     ]
    },
    {
     "name": "stdout",
     "output_type": "stream",
     "text": [
      "{'ade': 0.4753141, 'fde': 1.0430485}\n",
      "\t last loss:0.000451556, eval on validation:['ade: 0.4753141', 'fde: 1.0430485'], (best ade:0.46877086 at step 16200) \n"
     ]
    },
    {
     "name": "stderr",
     "output_type": "stream",
     "text": [
      "100%|██████████| 884/884 [00:49<00:00, 17.71it/s]\n",
      "  0%|          | 2/884 [00:00<00:44, 19.70it/s]"
     ]
    },
    {
     "name": "stdout",
     "output_type": "stream",
     "text": [
      "('Epoca 21.', 'lr:', 0.00039374892)\n"
     ]
    },
    {
     "name": "stderr",
     "output_type": "stream",
     "text": [
      "  2%|▏         | 19/884 [00:00<00:47, 18.08it/s]"
     ]
    },
    {
     "name": "stdout",
     "output_type": "stream",
     "text": [
      "\tsaving model 17700...\n"
     ]
    },
    {
     "name": "stderr",
     "output_type": "stream",
     "text": [
      "\n",
      "  0%|          | 0/77 [00:00<?, ?it/s]\u001b[A\n",
      " 12%|#1        | 9/77 [00:00<00:00, 86.19it/s]\u001b[A\n",
      " 23%|##3       | 18/77 [00:00<00:00, 85.96it/s]\u001b[A\n",
      " 35%|###5      | 27/77 [00:00<00:00, 86.50it/s]\u001b[A\n",
      " 47%|####6     | 36/77 [00:00<00:00, 86.65it/s]\u001b[A\n",
      " 57%|#####7    | 44/77 [00:00<00:00, 84.38it/s]\u001b[A\n",
      " 69%|######8   | 53/77 [00:00<00:00, 83.61it/s]\u001b[A\n",
      " 79%|#######9  | 61/77 [00:00<00:00, 73.98it/s]\u001b[A\n",
      " 88%|########8 | 68/77 [00:00<00:00, 69.72it/s]\u001b[A\n",
      " 97%|#########7| 75/77 [00:01<00:00, 64.26it/s]\u001b[A\n",
      "  2%|▏         | 21/884 [00:02<03:40,  3.91it/s][A"
     ]
    },
    {
     "name": "stdout",
     "output_type": "stream",
     "text": [
      "\tdone\n",
      "Evaluating\n",
      "{'ade': 0.48121408, 'fde': 1.0634551}\n",
      "\t last loss:0.000376644, eval on validation:['ade: 0.48121408', 'fde: 1.0634551'], (best ade:0.46877086 at step 16200) \n"
     ]
    },
    {
     "name": "stderr",
     "output_type": "stream",
     "text": [
      " 36%|███▌      | 319/884 [00:18<00:20, 26.96it/s]\n",
      "  0%|          | 0/77 [00:00<?, ?it/s]\u001b[A"
     ]
    },
    {
     "name": "stdout",
     "output_type": "stream",
     "text": [
      "\tsaving model 18000...\n",
      "\tdone\n",
      "Evaluating\n"
     ]
    },
    {
     "name": "stderr",
     "output_type": "stream",
     "text": [
      "\n",
      " 13%|#2        | 10/77 [00:00<00:00, 95.30it/s]\u001b[A\n",
      " 23%|##3       | 18/77 [00:00<00:00, 89.34it/s]\u001b[A\n",
      " 36%|###6      | 28/77 [00:00<00:00, 89.82it/s]\u001b[A\n",
      " 49%|####9     | 38/77 [00:00<00:00, 90.58it/s]\u001b[A\n",
      " 62%|######2   | 48/77 [00:00<00:00, 91.68it/s]\u001b[A\n",
      " 75%|#######5  | 58/77 [00:00<00:00, 92.41it/s]\u001b[A\n",
      " 88%|########8 | 68/77 [00:00<00:00, 92.89it/s]\u001b[A\n",
      " 36%|███▋      | 322/884 [00:19<01:17,  7.24it/s]A"
     ]
    },
    {
     "name": "stdout",
     "output_type": "stream",
     "text": [
      "{'ade': 0.484108, 'fde': 1.0672501}\n",
      "\t last loss:0.000355552, eval on validation:['ade: 0.484108', 'fde: 1.0672501'], (best ade:0.46877086 at step 16200) \n"
     ]
    },
    {
     "name": "stderr",
     "output_type": "stream",
     "text": [
      " 70%|██████▉   | 618/884 [00:37<00:18, 14.15it/s]"
     ]
    },
    {
     "name": "stdout",
     "output_type": "stream",
     "text": [
      "\tsaving model 18300...\n"
     ]
    },
    {
     "name": "stderr",
     "output_type": "stream",
     "text": [
      "\n",
      "  0%|          | 0/77 [00:00<?, ?it/s]\u001b[A\n",
      "  4%|3         | 3/77 [00:00<00:02, 29.15it/s]\u001b[A"
     ]
    },
    {
     "name": "stdout",
     "output_type": "stream",
     "text": [
      "\tdone\n",
      "Evaluating\n"
     ]
    },
    {
     "name": "stderr",
     "output_type": "stream",
     "text": [
      "\n",
      "  8%|7         | 6/77 [00:00<00:02, 27.41it/s]\u001b[A\n",
      " 13%|#2        | 10/77 [00:00<00:02, 28.48it/s]\u001b[A\n",
      " 16%|#5        | 12/77 [00:00<00:02, 25.19it/s]\u001b[A\n",
      " 21%|##        | 16/77 [00:00<00:02, 26.63it/s]\u001b[A\n",
      " 26%|##5       | 20/77 [00:00<00:01, 28.93it/s]\u001b[A\n",
      " 31%|###1      | 24/77 [00:00<00:01, 30.45it/s]\u001b[A\n",
      " 35%|###5      | 27/77 [00:00<00:01, 28.88it/s]\u001b[A\n",
      " 40%|####      | 31/77 [00:01<00:01, 30.48it/s]\u001b[A\n",
      " 45%|####5     | 35/77 [00:01<00:01, 31.24it/s]\u001b[A\n",
      " 51%|#####     | 39/77 [00:01<00:01, 31.51it/s]\u001b[A\n",
      " 60%|#####9    | 46/77 [00:01<00:00, 37.52it/s]\u001b[A\n",
      " 70%|#######   | 54/77 [00:01<00:00, 44.05it/s]\u001b[A\n",
      " 78%|#######7  | 60/77 [00:01<00:00, 47.62it/s]\u001b[A\n",
      " 87%|########7 | 67/77 [00:01<00:00, 52.13it/s]\u001b[A\n",
      " 96%|#########6| 74/77 [00:01<00:00, 55.20it/s]\u001b[A\n",
      " 70%|███████   | 622/884 [00:39<01:16,  3.44it/s]A"
     ]
    },
    {
     "name": "stdout",
     "output_type": "stream",
     "text": [
      "{'ade': 0.47098738, 'fde': 1.0348766}\n",
      "\t last loss:0.000350327, eval on validation:['ade: 0.47098738', 'fde: 1.0348766'], (best ade:0.46877086 at step 16200) \n"
     ]
    },
    {
     "name": "stderr",
     "output_type": "stream",
     "text": [
      "100%|██████████| 884/884 [00:51<00:00, 17.04it/s]\n",
      "  0%|          | 3/884 [00:00<00:37, 23.64it/s]"
     ]
    },
    {
     "name": "stdout",
     "output_type": "stream",
     "text": [
      "('Epoca 22.', 'lr:', 0.00039374892)\n"
     ]
    },
    {
     "name": "stderr",
     "output_type": "stream",
     "text": [
      "  4%|▍         | 35/884 [00:01<00:52, 16.15it/s]\n",
      "  0%|          | 0/77 [00:00<?, ?it/s]\u001b[A"
     ]
    },
    {
     "name": "stdout",
     "output_type": "stream",
     "text": [
      "\tsaving model 18600...\n",
      "\tdone\n",
      "Evaluating\n"
     ]
    },
    {
     "name": "stderr",
     "output_type": "stream",
     "text": [
      "\n",
      " 13%|#2        | 10/77 [00:00<00:00, 91.92it/s]\u001b[A\n",
      " 25%|##4       | 19/77 [00:00<00:00, 90.33it/s]\u001b[A\n",
      " 36%|###6      | 28/77 [00:00<00:00, 89.37it/s]\u001b[A\n",
      " 48%|####8     | 37/77 [00:00<00:00, 89.44it/s]\u001b[A\n",
      " 61%|######1   | 47/77 [00:00<00:00, 90.20it/s]\u001b[A\n",
      " 71%|#######1  | 55/77 [00:00<00:00, 80.85it/s]\u001b[A\n",
      " 82%|########1 | 63/77 [00:00<00:00, 70.86it/s]\u001b[A\n",
      " 91%|######### | 70/77 [00:00<00:00, 61.33it/s]\u001b[A\n",
      "100%|##########| 77/77 [00:01<00:00, 74.37it/s]\u001b[A"
     ]
    },
    {
     "name": "stdout",
     "output_type": "stream",
     "text": [
      "{'ade': 0.46214893, 'fde': 1.0054262}\n",
      "\t last loss:0.000324377, eval on validation:['ade: 0.46214893', 'fde: 1.0054262'], (best ade:0.46877086 at step 16200) \n",
      "\t saving best model...\n",
      "\t done.\n"
     ]
    },
    {
     "name": "stderr",
     "output_type": "stream",
     "text": [
      " 38%|███▊      | 335/884 [00:21<00:30, 17.89it/s]\n",
      "  0%|          | 0/77 [00:00<?, ?it/s]\u001b[A"
     ]
    },
    {
     "name": "stdout",
     "output_type": "stream",
     "text": [
      "\tsaving model 18900...\n",
      "\tdone\n",
      "Evaluating\n"
     ]
    },
    {
     "name": "stderr",
     "output_type": "stream",
     "text": [
      "\n",
      " 10%|#         | 8/77 [00:00<00:00, 77.81it/s]\u001b[A\n",
      " 19%|#9        | 15/77 [00:00<00:00, 72.49it/s]\u001b[A\n",
      " 29%|##8       | 22/77 [00:00<00:00, 71.50it/s]\u001b[A\n",
      " 39%|###8      | 30/77 [00:00<00:00, 72.39it/s]\u001b[A\n",
      " 48%|####8     | 37/77 [00:00<00:00, 71.64it/s]\u001b[A\n",
      " 58%|#####8    | 45/77 [00:00<00:00, 72.29it/s]\u001b[A\n",
      " 69%|######8   | 53/77 [00:00<00:00, 71.25it/s]\u001b[A\n",
      " 78%|#######7  | 60/77 [00:00<00:00, 68.46it/s]\u001b[A\n",
      " 87%|########7 | 67/77 [00:00<00:00, 67.44it/s]\u001b[A\n",
      " 97%|#########7| 75/77 [00:01<00:00, 69.35it/s]\u001b[A\n",
      " 38%|███▊      | 337/884 [00:23<02:15,  4.02it/s]A"
     ]
    },
    {
     "name": "stdout",
     "output_type": "stream",
     "text": [
      "{'ade': 0.48603487, 'fde': 1.0670625}\n",
      "\t last loss:0.000415455, eval on validation:['ade: 0.48603487', 'fde: 1.0670625'], (best ade:0.46214893 at step 18600) \n"
     ]
    },
    {
     "name": "stderr",
     "output_type": "stream",
     "text": [
      " 72%|███████▏  | 635/884 [00:38<00:09, 25.04it/s]\n",
      "  0%|          | 0/77 [00:00<?, ?it/s]\u001b[A"
     ]
    },
    {
     "name": "stdout",
     "output_type": "stream",
     "text": [
      "\tsaving model 19200...\n",
      "\tdone\n",
      "Evaluating\n"
     ]
    },
    {
     "name": "stderr",
     "output_type": "stream",
     "text": [
      "\n",
      " 12%|#1        | 9/77 [00:00<00:00, 85.21it/s]\u001b[A\n",
      " 23%|##3       | 18/77 [00:00<00:00, 84.44it/s]\u001b[A\n",
      " 32%|###2      | 25/77 [00:00<00:00, 79.00it/s]\u001b[A\n",
      " 40%|####      | 31/77 [00:00<00:00, 70.39it/s]\u001b[A\n",
      " 49%|####9     | 38/77 [00:00<00:00, 68.38it/s]\u001b[A\n",
      " 60%|#####9    | 46/77 [00:00<00:00, 69.50it/s]\u001b[A\n",
      " 71%|#######1  | 55/77 [00:00<00:00, 73.25it/s]\u001b[A\n",
      " 83%|########3 | 64/77 [00:00<00:00, 76.95it/s]\u001b[A\n",
      " 94%|#########3| 72/77 [00:00<00:00, 75.92it/s]\u001b[A\n",
      " 72%|███████▏  | 638/884 [00:40<00:41,  5.93it/s]A"
     ]
    },
    {
     "name": "stdout",
     "output_type": "stream",
     "text": [
      "{'ade': 0.484392, 'fde': 1.0729665}\n",
      "\t last loss:0.000418152, eval on validation:['ade: 0.484392', 'fde: 1.0729665'], (best ade:0.46214893 at step 18600) \n"
     ]
    },
    {
     "name": "stderr",
     "output_type": "stream",
     "text": [
      "100%|██████████| 884/884 [00:55<00:00, 18.88it/s]\n",
      "  0%|          | 1/884 [00:00<01:32,  9.52it/s]"
     ]
    },
    {
     "name": "stdout",
     "output_type": "stream",
     "text": [
      "('Epoca 23.', 'lr:', 0.0003346866)\n"
     ]
    },
    {
     "name": "stderr",
     "output_type": "stream",
     "text": [
      "  6%|▌         | 50/884 [00:02<00:49, 16.85it/s]\n",
      "  0%|          | 0/77 [00:00<?, ?it/s]\u001b[A"
     ]
    },
    {
     "name": "stdout",
     "output_type": "stream",
     "text": [
      "\tsaving model 19500...\n",
      "\tdone\n",
      "Evaluating\n"
     ]
    },
    {
     "name": "stderr",
     "output_type": "stream",
     "text": [
      "\n",
      " 12%|#1        | 9/77 [00:00<00:00, 87.05it/s]\u001b[A\n",
      " 23%|##3       | 18/77 [00:00<00:00, 86.23it/s]\u001b[A\n",
      " 34%|###3      | 26/77 [00:00<00:00, 83.92it/s]\u001b[A\n",
      " 44%|####4     | 34/77 [00:00<00:00, 81.02it/s]\u001b[A\n",
      " 56%|#####5    | 43/77 [00:00<00:00, 81.04it/s]\u001b[A\n",
      " 68%|######7   | 52/77 [00:00<00:00, 82.28it/s]\u001b[A\n",
      " 79%|#######9  | 61/77 [00:00<00:00, 83.23it/s]\u001b[A\n",
      " 91%|######### | 70/77 [00:00<00:00, 84.07it/s]\u001b[A\n",
      "  6%|▌         | 55/884 [00:04<02:19,  5.94it/s][A"
     ]
    },
    {
     "name": "stdout",
     "output_type": "stream",
     "text": [
      "{'ade': 0.4881329, 'fde': 1.074171}\n",
      "\t last loss:0.000354899, eval on validation:['ade: 0.4881329', 'fde: 1.074171'], (best ade:0.46214893 at step 18600) \n"
     ]
    },
    {
     "name": "stderr",
     "output_type": "stream",
     "text": [
      " 40%|███▉      | 351/884 [00:16<00:26, 20.30it/s]"
     ]
    },
    {
     "name": "stdout",
     "output_type": "stream",
     "text": [
      "\tsaving model 19800...\n"
     ]
    },
    {
     "name": "stderr",
     "output_type": "stream",
     "text": [
      "\n",
      "  0%|          | 0/77 [00:00<?, ?it/s]\u001b[A\n",
      " 10%|#         | 8/77 [00:00<00:00, 72.33it/s]\u001b[A"
     ]
    },
    {
     "name": "stdout",
     "output_type": "stream",
     "text": [
      "\tdone\n",
      "Evaluating\n"
     ]
    },
    {
     "name": "stderr",
     "output_type": "stream",
     "text": [
      "\n",
      " 21%|##        | 16/77 [00:00<00:00, 72.03it/s]\u001b[A\n",
      " 31%|###1      | 24/77 [00:00<00:00, 74.02it/s]\u001b[A\n",
      " 42%|####1     | 32/77 [00:00<00:00, 75.60it/s]\u001b[A\n",
      " 52%|#####1    | 40/77 [00:00<00:00, 76.84it/s]\u001b[A\n",
      " 62%|######2   | 48/77 [00:00<00:00, 76.44it/s]\u001b[A\n",
      " 71%|#######1  | 55/77 [00:00<00:00, 73.66it/s]\u001b[A\n",
      " 82%|########1 | 63/77 [00:00<00:00, 74.48it/s]\u001b[A\n",
      " 92%|#########2| 71/77 [00:00<00:00, 75.23it/s]\u001b[A\n",
      " 40%|████      | 354/884 [00:17<01:31,  5.79it/s]A"
     ]
    },
    {
     "name": "stdout",
     "output_type": "stream",
     "text": [
      "{'ade': 0.47749817, 'fde': 1.0469825}\n",
      "\t last loss:0.000408338, eval on validation:['ade: 0.47749817', 'fde: 1.0469825'], (best ade:0.46214893 at step 18600) \n"
     ]
    },
    {
     "name": "stderr",
     "output_type": "stream",
     "text": [
      " 74%|███████▎  | 651/884 [00:29<00:09, 24.86it/s]\n",
      "  0%|          | 0/77 [00:00<?, ?it/s]\u001b[A"
     ]
    },
    {
     "name": "stdout",
     "output_type": "stream",
     "text": [
      "\tsaving model 20100...\n",
      "\tdone\n",
      "Evaluating\n"
     ]
    },
    {
     "name": "stderr",
     "output_type": "stream",
     "text": [
      "\n",
      " 12%|#1        | 9/77 [00:00<00:00, 89.05it/s]\u001b[A\n",
      " 23%|##3       | 18/77 [00:00<00:00, 88.48it/s]\u001b[A\n",
      " 35%|###5      | 27/77 [00:00<00:00, 88.58it/s]\u001b[A\n",
      " 47%|####6     | 36/77 [00:00<00:00, 88.41it/s]\u001b[A\n",
      " 57%|#####7    | 44/77 [00:00<00:00, 83.22it/s]\u001b[A\n",
      " 69%|######8   | 53/77 [00:00<00:00, 83.76it/s]\u001b[A\n",
      " 81%|########  | 62/77 [00:00<00:00, 84.45it/s]\u001b[A\n",
      " 92%|#########2| 71/77 [00:00<00:00, 85.39it/s]\u001b[A\n",
      " 74%|███████▍  | 654/884 [00:30<00:34,  6.72it/s]A"
     ]
    },
    {
     "name": "stdout",
     "output_type": "stream",
     "text": [
      "{'ade': 0.46533749, 'fde': 1.0161967}\n",
      "\t last loss:0.000460236, eval on validation:['ade: 0.46533749', 'fde: 1.0161967'], (best ade:0.46214893 at step 18600) \n"
     ]
    },
    {
     "name": "stderr",
     "output_type": "stream",
     "text": [
      "100%|██████████| 884/884 [00:41<00:00, 21.50it/s]\n",
      "  0%|          | 3/884 [00:00<00:35, 24.69it/s]"
     ]
    },
    {
     "name": "stdout",
     "output_type": "stream",
     "text": [
      "('Epoca 24.', 'lr:', 0.0003346866)\n"
     ]
    },
    {
     "name": "stderr",
     "output_type": "stream",
     "text": [
      "  8%|▊         | 67/884 [00:02<00:32, 25.14it/s]\n",
      "  0%|          | 0/77 [00:00<?, ?it/s]\u001b[A"
     ]
    },
    {
     "name": "stdout",
     "output_type": "stream",
     "text": [
      "\tsaving model 20400...\n",
      "\tdone\n",
      "Evaluating\n"
     ]
    },
    {
     "name": "stderr",
     "output_type": "stream",
     "text": [
      "\n",
      " 12%|#1        | 9/77 [00:00<00:00, 79.32it/s]\u001b[A\n",
      " 23%|##3       | 18/77 [00:00<00:00, 80.91it/s]\u001b[A\n",
      " 35%|###5      | 27/77 [00:00<00:00, 82.13it/s]\u001b[A\n",
      " 47%|####6     | 36/77 [00:00<00:00, 83.81it/s]\u001b[A\n",
      " 58%|#####8    | 45/77 [00:00<00:00, 85.15it/s]\u001b[A\n",
      " 70%|#######   | 54/77 [00:00<00:00, 86.16it/s]\u001b[A\n",
      " 83%|########3 | 64/77 [00:00<00:00, 88.21it/s]\u001b[A\n",
      " 96%|#########6| 74/77 [00:00<00:00, 90.54it/s]\u001b[A\n",
      "  8%|▊         | 70/884 [00:04<01:58,  6.88it/s][A"
     ]
    },
    {
     "name": "stdout",
     "output_type": "stream",
     "text": [
      "{'ade': 0.46762767, 'fde': 1.0271779}\n",
      "\t last loss:0.000294736, eval on validation:['ade: 0.46762767', 'fde: 1.0271779'], (best ade:0.46214893 at step 18600) \n"
     ]
    },
    {
     "name": "stderr",
     "output_type": "stream",
     "text": [
      " 41%|████▏     | 366/884 [00:19<00:21, 24.26it/s]\n",
      "  0%|          | 0/77 [00:00<?, ?it/s]\u001b[A"
     ]
    },
    {
     "name": "stdout",
     "output_type": "stream",
     "text": [
      "\tsaving model 20700...\n",
      "\tdone\n",
      "Evaluating\n"
     ]
    },
    {
     "name": "stderr",
     "output_type": "stream",
     "text": [
      "\n",
      " 12%|#1        | 9/77 [00:00<00:00, 88.99it/s]\u001b[A\n",
      " 23%|##3       | 18/77 [00:00<00:00, 87.07it/s]\u001b[A\n",
      " 35%|###5      | 27/77 [00:00<00:00, 87.50it/s]\u001b[A\n",
      " 47%|####6     | 36/77 [00:00<00:00, 87.32it/s]\u001b[A\n",
      " 58%|#####8    | 45/77 [00:00<00:00, 87.02it/s]\u001b[A\n",
      " 71%|#######1  | 55/77 [00:00<00:00, 89.65it/s]\u001b[A\n",
      " 84%|########4 | 65/77 [00:00<00:00, 91.24it/s]\u001b[A\n",
      " 97%|#########7| 75/77 [00:00<00:00, 92.80it/s]\u001b[A\n",
      " 42%|████▏     | 372/884 [00:20<00:58,  8.75it/s]A"
     ]
    },
    {
     "name": "stdout",
     "output_type": "stream",
     "text": [
      "{'ade': 0.46347964, 'fde': 1.0142012}\n",
      "\t last loss:0.000405237, eval on validation:['ade: 0.46347964', 'fde: 1.0142012'], (best ade:0.46214893 at step 18600) \n"
     ]
    },
    {
     "name": "stderr",
     "output_type": "stream",
     "text": [
      " 75%|███████▌  | 666/884 [00:32<00:09, 22.36it/s]\n",
      "  0%|          | 0/77 [00:00<?, ?it/s]\u001b[A"
     ]
    },
    {
     "name": "stdout",
     "output_type": "stream",
     "text": [
      "\tsaving model 21000...\n",
      "\tdone\n",
      "Evaluating\n"
     ]
    },
    {
     "name": "stderr",
     "output_type": "stream",
     "text": [
      "\n",
      " 12%|#1        | 9/77 [00:00<00:00, 81.79it/s]\u001b[A\n",
      " 22%|##2       | 17/77 [00:00<00:00, 81.05it/s]\u001b[A\n",
      " 32%|###2      | 25/77 [00:00<00:00, 80.28it/s]\u001b[A\n",
      " 42%|####1     | 32/77 [00:00<00:00, 75.42it/s]\u001b[A\n",
      " 52%|#####1    | 40/77 [00:00<00:00, 75.29it/s]\u001b[A\n",
      " 62%|######2   | 48/77 [00:00<00:00, 75.91it/s]\u001b[A\n",
      " 73%|#######2  | 56/77 [00:00<00:00, 76.93it/s]\u001b[A\n",
      " 83%|########3 | 64/77 [00:00<00:00, 77.75it/s]\u001b[A\n",
      " 94%|#########3| 72/77 [00:00<00:00, 78.01it/s]\u001b[A\n",
      " 76%|███████▌  | 669/884 [00:34<00:35,  6.09it/s]A"
     ]
    },
    {
     "name": "stdout",
     "output_type": "stream",
     "text": [
      "{'ade': 0.4644501, 'fde': 1.0155771}\n",
      "\t last loss:0.000645750, eval on validation:['ade: 0.4644501', 'fde: 1.0155771'], (best ade:0.46214893 at step 18600) \n"
     ]
    },
    {
     "name": "stderr",
     "output_type": "stream",
     "text": [
      "100%|██████████| 884/884 [00:43<00:00, 20.10it/s]\n",
      "  0%|          | 1/884 [00:00<01:41,  8.67it/s]"
     ]
    },
    {
     "name": "stdout",
     "output_type": "stream",
     "text": [
      "('Epoca 25.', 'lr:', 0.00028448363)\n"
     ]
    },
    {
     "name": "stderr",
     "output_type": "stream",
     "text": [
      "  9%|▉         | 82/884 [00:03<00:33, 24.13it/s]\n",
      "  0%|          | 0/77 [00:00<?, ?it/s]\u001b[A"
     ]
    },
    {
     "name": "stdout",
     "output_type": "stream",
     "text": [
      "\tsaving model 21300...\n",
      "\tdone\n",
      "Evaluating\n"
     ]
    },
    {
     "name": "stderr",
     "output_type": "stream",
     "text": [
      "\n",
      " 13%|#2        | 10/77 [00:00<00:00, 91.23it/s]\u001b[A\n",
      " 25%|##4       | 19/77 [00:00<00:00, 90.44it/s]\u001b[A\n",
      " 36%|###6      | 28/77 [00:00<00:00, 89.34it/s]\u001b[A\n",
      " 49%|####9     | 38/77 [00:00<00:00, 90.69it/s]\u001b[A\n",
      " 62%|######2   | 48/77 [00:00<00:00, 92.06it/s]\u001b[A\n",
      " 75%|#######5  | 58/77 [00:00<00:00, 93.18it/s]\u001b[A\n",
      " 87%|########7 | 67/77 [00:00<00:00, 90.58it/s]\u001b[A\n",
      " 10%|▉         | 88/884 [00:04<01:29,  8.93it/s][A"
     ]
    },
    {
     "name": "stdout",
     "output_type": "stream",
     "text": [
      "{'ade': 0.49679136, 'fde': 1.0999143}\n",
      "\t last loss:0.000186028, eval on validation:['ade: 0.49679136', 'fde: 1.0999143'], (best ade:0.46214893 at step 18600) \n"
     ]
    },
    {
     "name": "stderr",
     "output_type": "stream",
     "text": [
      " 43%|████▎     | 382/884 [00:16<00:21, 23.04it/s]\n",
      "  0%|          | 0/77 [00:00<?, ?it/s]\u001b[A"
     ]
    },
    {
     "name": "stdout",
     "output_type": "stream",
     "text": [
      "\tsaving model 21600...\n",
      "\tdone\n",
      "Evaluating\n"
     ]
    },
    {
     "name": "stderr",
     "output_type": "stream",
     "text": [
      "\n",
      " 12%|#1        | 9/77 [00:00<00:00, 81.42it/s]\u001b[A\n",
      " 21%|##        | 16/77 [00:00<00:00, 75.58it/s]\u001b[A\n",
      " 31%|###1      | 24/77 [00:00<00:00, 76.10it/s]\u001b[A\n",
      " 42%|####1     | 32/77 [00:00<00:00, 76.48it/s]\u001b[A\n",
      " 52%|#####1    | 40/77 [00:00<00:00, 76.76it/s]\u001b[A\n",
      " 62%|######2   | 48/77 [00:00<00:00, 77.37it/s]\u001b[A\n",
      " 73%|#######2  | 56/77 [00:00<00:00, 77.80it/s]\u001b[A\n",
      " 83%|########3 | 64/77 [00:00<00:00, 78.11it/s]\u001b[A\n",
      " 94%|#########3| 72/77 [00:00<00:00, 78.04it/s]\u001b[A\n",
      " 44%|████▎     | 385/884 [00:18<01:21,  6.09it/s]A"
     ]
    },
    {
     "name": "stdout",
     "output_type": "stream",
     "text": [
      "{'ade': 0.4687098, 'fde': 1.0278523}\n",
      "\t last loss:0.000447209, eval on validation:['ade: 0.4687098', 'fde: 1.0278523'], (best ade:0.46214893 at step 18600) \n"
     ]
    },
    {
     "name": "stderr",
     "output_type": "stream",
     "text": [
      " 77%|███████▋  | 683/884 [00:30<00:08, 24.12it/s]\n",
      "  0%|          | 0/77 [00:00<?, ?it/s]\u001b[A"
     ]
    },
    {
     "name": "stdout",
     "output_type": "stream",
     "text": [
      "\tsaving model 21900...\n",
      "\tdone\n",
      "Evaluating\n"
     ]
    },
    {
     "name": "stderr",
     "output_type": "stream",
     "text": [
      "\n",
      " 10%|#         | 8/77 [00:00<00:00, 76.65it/s]\u001b[A\n",
      " 22%|##2       | 17/77 [00:00<00:00, 78.64it/s]\u001b[A\n",
      " 34%|###3      | 26/77 [00:00<00:00, 81.02it/s]\u001b[A\n",
      " 45%|####5     | 35/77 [00:00<00:00, 82.54it/s]\u001b[A\n",
      " 57%|#####7    | 44/77 [00:00<00:00, 84.26it/s]\u001b[A\n",
      " 69%|######8   | 53/77 [00:00<00:00, 85.39it/s]\u001b[A\n",
      " 81%|########  | 62/77 [00:00<00:00, 86.06it/s]\u001b[A\n",
      " 92%|#########2| 71/77 [00:00<00:00, 86.78it/s]\u001b[A\n",
      " 78%|███████▊  | 686/884 [00:31<00:29,  6.72it/s]A"
     ]
    },
    {
     "name": "stdout",
     "output_type": "stream",
     "text": [
      "{'ade': 0.46615958, 'fde': 1.0132097}\n",
      "\t last loss:0.000230412, eval on validation:['ade: 0.46615958', 'fde: 1.0132097'], (best ade:0.46214893 at step 18600) \n"
     ]
    },
    {
     "name": "stderr",
     "output_type": "stream",
     "text": [
      "100%|██████████| 884/884 [00:41<00:00, 24.91it/s]\n",
      "  0%|          | 1/884 [00:00<01:30,  9.80it/s]"
     ]
    },
    {
     "name": "stdout",
     "output_type": "stream",
     "text": [
      "('Epoca 26.', 'lr:', 0.00028448363)\n"
     ]
    },
    {
     "name": "stderr",
     "output_type": "stream",
     "text": [
      " 11%|█         | 99/884 [00:04<00:42, 18.36it/s]\n",
      "  0%|          | 0/77 [00:00<?, ?it/s]\u001b[A"
     ]
    },
    {
     "name": "stdout",
     "output_type": "stream",
     "text": [
      "\tsaving model 22200...\n",
      "\tdone\n",
      "Evaluating\n"
     ]
    },
    {
     "name": "stderr",
     "output_type": "stream",
     "text": [
      "\n",
      " 12%|#1        | 9/77 [00:00<00:00, 89.67it/s]\u001b[A\n",
      " 25%|##4       | 19/77 [00:00<00:00, 90.42it/s]\u001b[A\n",
      " 38%|###7      | 29/77 [00:00<00:00, 90.73it/s]\u001b[A\n",
      " 47%|####6     | 36/77 [00:00<00:00, 78.33it/s]\u001b[A\n",
      " 55%|#####4    | 42/77 [00:00<00:00, 66.22it/s]\u001b[A\n",
      " 62%|######2   | 48/77 [00:00<00:00, 59.30it/s]\u001b[A\n",
      " 70%|#######   | 54/77 [00:00<00:00, 58.21it/s]\u001b[A\n",
      " 78%|#######7  | 60/77 [00:00<00:00, 54.11it/s]\u001b[A\n",
      " 86%|########5 | 66/77 [00:01<00:00, 48.40it/s]\u001b[A\n",
      " 92%|#########2| 71/77 [00:01<00:00, 48.12it/s]\u001b[A\n",
      "100%|##########| 77/77 [00:01<00:00, 60.76it/s]\u001b[A"
     ]
    },
    {
     "name": "stdout",
     "output_type": "stream",
     "text": [
      "{'ade': 0.4607066, 'fde': 1.0059234}\n",
      "\t last loss:0.000310635, eval on validation:['ade: 0.4607066', 'fde: 1.0059234'], (best ade:0.46214893 at step 18600) \n",
      "\t saving best model...\n",
      "\t done.\n"
     ]
    },
    {
     "name": "stderr",
     "output_type": "stream",
     "text": [
      " 45%|████▌     | 399/884 [00:19<00:19, 24.27it/s]\n",
      "  0%|          | 0/77 [00:00<?, ?it/s]\u001b[A"
     ]
    },
    {
     "name": "stdout",
     "output_type": "stream",
     "text": [
      "\tsaving model 22500...\n",
      "\tdone\n",
      "Evaluating\n"
     ]
    },
    {
     "name": "stderr",
     "output_type": "stream",
     "text": [
      "\n",
      " 13%|#2        | 10/77 [00:00<00:00, 95.26it/s]\u001b[A\n",
      " 26%|##5       | 20/77 [00:00<00:00, 94.42it/s]\u001b[A\n",
      " 39%|###8      | 30/77 [00:00<00:00, 94.35it/s]\u001b[A\n",
      " 51%|#####     | 39/77 [00:00<00:00, 91.55it/s]\u001b[A\n",
      " 60%|#####9    | 46/77 [00:00<00:00, 83.45it/s]\u001b[A\n",
      " 69%|######8   | 53/77 [00:00<00:00, 72.87it/s]\u001b[A\n",
      " 78%|#######7  | 60/77 [00:00<00:00, 65.91it/s]\u001b[A\n",
      " 87%|########7 | 67/77 [00:00<00:00, 66.68it/s]\u001b[A\n",
      " 45%|████▌     | 402/884 [00:20<01:17,  6.22it/s]A"
     ]
    },
    {
     "name": "stdout",
     "output_type": "stream",
     "text": [
      "{'ade': 0.46772963, 'fde': 1.020995}\n",
      "\t last loss:0.000334161, eval on validation:['ade: 0.46772963', 'fde: 1.020995'], (best ade:0.4607066 at step 22200) \n"
     ]
    },
    {
     "name": "stderr",
     "output_type": "stream",
     "text": [
      " 79%|███████▉  | 699/884 [00:34<00:07, 24.13it/s]\n",
      "  0%|          | 0/77 [00:00<?, ?it/s]\u001b[A"
     ]
    },
    {
     "name": "stdout",
     "output_type": "stream",
     "text": [
      "\tsaving model 22800...\n",
      "\tdone\n",
      "Evaluating\n"
     ]
    },
    {
     "name": "stderr",
     "output_type": "stream",
     "text": [
      "\n",
      " 12%|#1        | 9/77 [00:00<00:00, 84.51it/s]\u001b[A\n",
      " 23%|##3       | 18/77 [00:00<00:00, 84.82it/s]\u001b[A\n",
      " 35%|###5      | 27/77 [00:00<00:00, 85.68it/s]\u001b[A\n",
      " 47%|####6     | 36/77 [00:00<00:00, 85.51it/s]\u001b[A\n",
      " 58%|#####8    | 45/77 [00:00<00:00, 85.83it/s]\u001b[A\n",
      " 70%|#######   | 54/77 [00:00<00:00, 85.86it/s]\u001b[A\n",
      " 82%|########1 | 63/77 [00:00<00:00, 85.98it/s]\u001b[A\n",
      " 94%|#########3| 72/77 [00:00<00:00, 86.17it/s]\u001b[A\n",
      " 79%|███████▉  | 702/884 [00:35<00:27,  6.58it/s]A"
     ]
    },
    {
     "name": "stdout",
     "output_type": "stream",
     "text": [
      "{'ade': 0.46385407, 'fde': 1.0177226}\n",
      "\t last loss:0.000623758, eval on validation:['ade: 0.46385407', 'fde: 1.0177226'], (best ade:0.4607066 at step 22200) \n"
     ]
    },
    {
     "name": "stderr",
     "output_type": "stream",
     "text": [
      "100%|██████████| 884/884 [00:42<00:00, 20.84it/s]\n",
      "  0%|          | 2/884 [00:00<00:46, 18.83it/s]"
     ]
    },
    {
     "name": "stdout",
     "output_type": "stream",
     "text": [
      "('Epoca 27.', 'lr:', 0.0002418111)\n"
     ]
    },
    {
     "name": "stderr",
     "output_type": "stream",
     "text": [
      " 13%|█▎        | 113/884 [00:04<00:35, 21.45it/s]"
     ]
    },
    {
     "name": "stdout",
     "output_type": "stream",
     "text": [
      "\tsaving model 23100...\n"
     ]
    },
    {
     "name": "stderr",
     "output_type": "stream",
     "text": [
      "\n",
      "  0%|          | 0/77 [00:00<?, ?it/s]\u001b[A\n",
      " 10%|#         | 8/77 [00:00<00:00, 73.29it/s]\u001b[A"
     ]
    },
    {
     "name": "stdout",
     "output_type": "stream",
     "text": [
      "\tdone\n",
      "Evaluating\n"
     ]
    },
    {
     "name": "stderr",
     "output_type": "stream",
     "text": [
      "\n",
      " 19%|#9        | 15/77 [00:00<00:00, 71.68it/s]\u001b[A\n",
      " 29%|##8       | 22/77 [00:00<00:00, 70.86it/s]\u001b[A\n",
      " 38%|###7      | 29/77 [00:00<00:00, 67.24it/s]\u001b[A\n",
      " 47%|####6     | 36/77 [00:00<00:00, 65.62it/s]\u001b[A\n",
      " 56%|#####5    | 43/77 [00:00<00:00, 66.72it/s]\u001b[A\n",
      " 65%|######4   | 50/77 [00:00<00:00, 67.46it/s]\u001b[A\n",
      " 74%|#######4  | 57/77 [00:00<00:00, 67.79it/s]\u001b[A\n",
      " 83%|########3 | 64/77 [00:00<00:00, 65.29it/s]\u001b[A\n",
      " 92%|#########2| 71/77 [00:01<00:00, 65.45it/s]\u001b[A\n",
      " 13%|█▎        | 119/884 [00:06<01:51,  6.84it/s]A"
     ]
    },
    {
     "name": "stdout",
     "output_type": "stream",
     "text": [
      "{'ade': 0.46456277, 'fde': 1.0144578}\n",
      "\t last loss:0.000251428, eval on validation:['ade: 0.46456277', 'fde: 1.0144578'], (best ade:0.4607066 at step 22200) \n"
     ]
    },
    {
     "name": "stderr",
     "output_type": "stream",
     "text": [
      " 47%|████▋     | 415/884 [00:19<00:17, 26.48it/s]\n",
      "  0%|          | 0/77 [00:00<?, ?it/s]\u001b[A"
     ]
    },
    {
     "name": "stdout",
     "output_type": "stream",
     "text": [
      "\tsaving model 23400...\n",
      "\tdone\n",
      "Evaluating\n"
     ]
    },
    {
     "name": "stderr",
     "output_type": "stream",
     "text": [
      "\n",
      " 13%|#2        | 10/77 [00:00<00:00, 97.87it/s]\u001b[A\n",
      " 26%|##5       | 20/77 [00:00<00:00, 97.17it/s]\u001b[A\n",
      " 39%|###8      | 30/77 [00:00<00:00, 96.09it/s]\u001b[A\n",
      " 52%|#####1    | 40/77 [00:00<00:00, 96.07it/s]\u001b[A\n",
      " 64%|######3   | 49/77 [00:00<00:00, 93.07it/s]\u001b[A\n",
      " 75%|#######5  | 58/77 [00:00<00:00, 91.20it/s]\u001b[A\n",
      " 86%|########5 | 66/77 [00:00<00:00, 86.12it/s]\u001b[A\n",
      " 97%|#########7| 75/77 [00:00<00:00, 85.74it/s]\u001b[A\n",
      " 47%|████▋     | 418/884 [00:20<01:06,  7.06it/s]A"
     ]
    },
    {
     "name": "stdout",
     "output_type": "stream",
     "text": [
      "{'ade': 0.46912998, 'fde': 1.0282049}\n",
      "\t last loss:0.000239719, eval on validation:['ade: 0.46912998', 'fde: 1.0282049'], (best ade:0.4607066 at step 22200) \n"
     ]
    },
    {
     "name": "stderr",
     "output_type": "stream",
     "text": [
      " 81%|████████  | 715/884 [00:32<00:09, 18.38it/s]"
     ]
    },
    {
     "name": "stdout",
     "output_type": "stream",
     "text": [
      "\tsaving model 23700...\n"
     ]
    },
    {
     "name": "stderr",
     "output_type": "stream",
     "text": [
      "\n",
      "  0%|          | 0/77 [00:00<?, ?it/s]\u001b[A\n",
      " 10%|#         | 8/77 [00:00<00:00, 71.20it/s]\u001b[A"
     ]
    },
    {
     "name": "stdout",
     "output_type": "stream",
     "text": [
      "\tdone\n",
      "Evaluating\n"
     ]
    },
    {
     "name": "stderr",
     "output_type": "stream",
     "text": [
      "\n",
      " 19%|#9        | 15/77 [00:00<00:00, 67.14it/s]\u001b[A\n",
      " 29%|##8       | 22/77 [00:00<00:00, 67.75it/s]\u001b[A\n",
      " 38%|###7      | 29/77 [00:00<00:00, 67.31it/s]\u001b[A\n",
      " 47%|####6     | 36/77 [00:00<00:00, 66.10it/s]\u001b[A\n",
      " 56%|#####5    | 43/77 [00:00<00:00, 65.80it/s]\u001b[A\n",
      " 65%|######4   | 50/77 [00:00<00:00, 66.22it/s]\u001b[A\n",
      " 74%|#######4  | 57/77 [00:00<00:00, 67.04it/s]\u001b[A\n",
      " 83%|########3 | 64/77 [00:00<00:00, 66.68it/s]\u001b[A\n",
      " 92%|#########2| 71/77 [00:01<00:00, 67.14it/s]\u001b[A\n",
      " 81%|████████  | 717/884 [00:33<00:43,  3.80it/s]A"
     ]
    },
    {
     "name": "stdout",
     "output_type": "stream",
     "text": [
      "{'ade': 0.46421847, 'fde': 1.0172901}\n",
      "\t last loss:0.000209725, eval on validation:['ade: 0.46421847', 'fde: 1.0172901'], (best ade:0.4607066 at step 22200) \n"
     ]
    },
    {
     "name": "stderr",
     "output_type": "stream",
     "text": [
      "100%|██████████| 884/884 [00:41<00:00, 24.77it/s]\n",
      "  0%|          | 3/884 [00:00<00:36, 24.31it/s]"
     ]
    },
    {
     "name": "stdout",
     "output_type": "stream",
     "text": [
      "('Epoca 28.', 'lr:', 0.0002418111)\n"
     ]
    },
    {
     "name": "stderr",
     "output_type": "stream",
     "text": [
      " 15%|█▍        | 129/884 [00:04<00:28, 26.38it/s]\n",
      "  0%|          | 0/77 [00:00<?, ?it/s]\u001b[A"
     ]
    },
    {
     "name": "stdout",
     "output_type": "stream",
     "text": [
      "\tsaving model 24000...\n",
      "\tdone\n",
      "Evaluating\n"
     ]
    },
    {
     "name": "stderr",
     "output_type": "stream",
     "text": [
      "\n",
      " 13%|#2        | 10/77 [00:00<00:00, 96.48it/s]\u001b[A\n",
      " 26%|##5       | 20/77 [00:00<00:00, 96.07it/s]\u001b[A\n",
      " 39%|###8      | 30/77 [00:00<00:00, 96.24it/s]\u001b[A\n",
      " 52%|#####1    | 40/77 [00:00<00:00, 96.26it/s]\u001b[A\n",
      " 64%|######3   | 49/77 [00:00<00:00, 92.18it/s]\u001b[A\n",
      " 77%|#######6  | 59/77 [00:00<00:00, 92.81it/s]\u001b[A\n",
      " 90%|########9 | 69/77 [00:00<00:00, 93.03it/s]\u001b[A\n",
      " 15%|█▌        | 135/884 [00:06<01:20,  9.35it/s]A"
     ]
    },
    {
     "name": "stdout",
     "output_type": "stream",
     "text": [
      "{'ade': 0.466166, 'fde': 1.0192791}\n",
      "\t last loss:0.000584738, eval on validation:['ade: 0.466166', 'fde: 1.0192791'], (best ade:0.4607066 at step 22200) \n"
     ]
    },
    {
     "name": "stderr",
     "output_type": "stream",
     "text": [
      " 49%|████▊     | 429/884 [00:17<00:17, 25.72it/s]\n",
      "  0%|          | 0/77 [00:00<?, ?it/s]\u001b[A"
     ]
    },
    {
     "name": "stdout",
     "output_type": "stream",
     "text": [
      "\tsaving model 24300...\n",
      "\tdone\n",
      "Evaluating\n"
     ]
    },
    {
     "name": "stderr",
     "output_type": "stream",
     "text": [
      "\n",
      " 12%|#1        | 9/77 [00:00<00:00, 87.71it/s]\u001b[A\n",
      " 23%|##3       | 18/77 [00:00<00:00, 87.78it/s]\u001b[A\n",
      " 35%|###5      | 27/77 [00:00<00:00, 87.60it/s]\u001b[A\n",
      " 47%|####6     | 36/77 [00:00<00:00, 87.71it/s]\u001b[A\n",
      " 58%|#####8    | 45/77 [00:00<00:00, 87.62it/s]\u001b[A\n",
      " 71%|#######1  | 55/77 [00:00<00:00, 88.99it/s]\u001b[A\n",
      " 84%|########4 | 65/77 [00:00<00:00, 89.86it/s]\u001b[A\n",
      " 96%|#########6| 74/77 [00:00<00:00, 87.82it/s]\u001b[A\n",
      " 49%|████▉     | 432/884 [00:19<01:13,  6.13it/s]A"
     ]
    },
    {
     "name": "stdout",
     "output_type": "stream",
     "text": [
      "{'ade': 0.45855492, 'fde': 1.0041885}\n",
      "\t last loss:0.000393033, eval on validation:['ade: 0.45855492', 'fde: 1.0041885'], (best ade:0.4607066 at step 22200) \n",
      "\t saving best model...\n",
      "\t done.\n"
     ]
    },
    {
     "name": "stderr",
     "output_type": "stream",
     "text": [
      " 83%|████████▎ | 731/884 [00:31<00:06, 23.34it/s]\n",
      "  0%|          | 0/77 [00:00<?, ?it/s]"
     ]
    },
    {
     "name": "stdout",
     "output_type": "stream",
     "text": [
      "\tsaving model 24600...\n",
      "\tdone\n",
      "Evaluating\n"
     ]
    },
    {
     "name": "stderr",
     "output_type": "stream",
     "text": [
      "\u001b[A\n",
      " 10%|#         | 8/77 [00:00<00:00, 78.57it/s]\u001b[A\n",
      " 21%|##        | 16/77 [00:00<00:00, 78.56it/s]\u001b[A\n",
      " 31%|###1      | 24/77 [00:00<00:00, 78.83it/s]\u001b[A\n",
      " 42%|####1     | 32/77 [00:00<00:00, 78.51it/s]\u001b[A\n",
      " 52%|#####1    | 40/77 [00:00<00:00, 78.64it/s]\u001b[A\n",
      " 62%|######2   | 48/77 [00:00<00:00, 78.59it/s]\u001b[A\n",
      " 73%|#######2  | 56/77 [00:00<00:00, 78.75it/s]\u001b[A\n",
      " 83%|########3 | 64/77 [00:00<00:00, 78.56it/s]\u001b[A\n",
      " 94%|#########3| 72/77 [00:00<00:00, 74.92it/s]\u001b[A\n",
      " 83%|████████▎ | 734/884 [00:32<00:24,  6.08it/s]A"
     ]
    },
    {
     "name": "stdout",
     "output_type": "stream",
     "text": [
      "{'ade': 0.4822145, 'fde': 1.0600358}\n",
      "\t last loss:0.000252450, eval on validation:['ade: 0.4822145', 'fde: 1.0600358'], (best ade:0.45855492 at step 24300) \n"
     ]
    },
    {
     "name": "stderr",
     "output_type": "stream",
     "text": [
      "100%|██████████| 884/884 [00:39<00:00, 26.66it/s]\n",
      "  0%|          | 1/884 [00:00<01:48,  8.14it/s]"
     ]
    },
    {
     "name": "stdout",
     "output_type": "stream",
     "text": [
      "('Epoca 29.', 'lr:', 0.00020553943)\n"
     ]
    },
    {
     "name": "stderr",
     "output_type": "stream",
     "text": [
      " 16%|█▋        | 145/884 [00:05<00:30, 24.33it/s]\n",
      "  0%|          | 0/77 [00:00<?, ?it/s]\u001b[A"
     ]
    },
    {
     "name": "stdout",
     "output_type": "stream",
     "text": [
      "\tsaving model 24900...\n",
      "\tdone\n",
      "Evaluating\n"
     ]
    },
    {
     "name": "stderr",
     "output_type": "stream",
     "text": [
      "\n",
      " 13%|#2        | 10/77 [00:00<00:00, 90.27it/s]\u001b[A\n",
      " 25%|##4       | 19/77 [00:00<00:00, 89.16it/s]\u001b[A\n",
      " 36%|###6      | 28/77 [00:00<00:00, 88.63it/s]\u001b[A\n",
      " 48%|####8     | 37/77 [00:00<00:00, 87.69it/s]\u001b[A\n",
      " 58%|#####8    | 45/77 [00:00<00:00, 83.62it/s]\u001b[A\n",
      " 70%|#######   | 54/77 [00:00<00:00, 84.18it/s]\u001b[A\n",
      " 82%|########1 | 63/77 [00:00<00:00, 84.29it/s]\u001b[A\n",
      " 94%|#########3| 72/77 [00:00<00:00, 85.32it/s]\u001b[A\n",
      " 17%|█▋        | 151/884 [00:07<01:25,  8.56it/s]A"
     ]
    },
    {
     "name": "stdout",
     "output_type": "stream",
     "text": [
      "{'ade': 0.46121475, 'fde': 1.0116817}\n",
      "\t last loss:0.000290649, eval on validation:['ade: 0.46121475', 'fde: 1.0116817'], (best ade:0.45855492 at step 24300) \n"
     ]
    },
    {
     "name": "stderr",
     "output_type": "stream",
     "text": [
      " 50%|█████     | 445/884 [00:19<00:20, 21.05it/s]\n",
      "  0%|          | 0/77 [00:00<?, ?it/s]"
     ]
    },
    {
     "name": "stdout",
     "output_type": "stream",
     "text": [
      "\tsaving model 25200...\n",
      "\tdone\n",
      "Evaluating\n"
     ]
    },
    {
     "name": "stderr",
     "output_type": "stream",
     "text": [
      "\u001b[A\n",
      "  9%|9         | 7/77 [00:00<00:01, 67.47it/s]\u001b[A\n",
      " 19%|#9        | 15/77 [00:00<00:00, 70.15it/s]\u001b[A\n",
      " 30%|##9       | 23/77 [00:00<00:00, 72.73it/s]\u001b[A\n",
      " 40%|####      | 31/77 [00:00<00:00, 74.30it/s]\u001b[A\n",
      " 51%|#####     | 39/77 [00:00<00:00, 75.30it/s]\u001b[A\n",
      " 61%|######1   | 47/77 [00:00<00:00, 76.25it/s]\u001b[A\n",
      " 71%|#######1  | 55/77 [00:00<00:00, 77.08it/s]\u001b[A\n",
      " 82%|########1 | 63/77 [00:00<00:00, 77.67it/s]\u001b[A\n",
      " 92%|#########2| 71/77 [00:00<00:00, 77.76it/s]\u001b[A\n",
      "100%|##########| 77/77 [00:01<00:00, 76.21it/s]\u001b[A"
     ]
    },
    {
     "name": "stdout",
     "output_type": "stream",
     "text": [
      "{'ade': 0.4564997, 'fde': 0.9975064}\n",
      "\t last loss:0.000311020, eval on validation:['ade: 0.4564997', 'fde: 0.9975064'], (best ade:0.45855492 at step 24300) \n",
      "\t saving best model...\n",
      "\t done.\n"
     ]
    },
    {
     "name": "stderr",
     "output_type": "stream",
     "text": [
      " 84%|████████▍ | 745/884 [00:32<00:05, 24.37it/s]\n",
      "  0%|          | 0/77 [00:00<?, ?it/s]\u001b[A"
     ]
    },
    {
     "name": "stdout",
     "output_type": "stream",
     "text": [
      "\tsaving model 25500...\n",
      "\tdone\n",
      "Evaluating\n"
     ]
    },
    {
     "name": "stderr",
     "output_type": "stream",
     "text": [
      "\n",
      " 12%|#1        | 9/77 [00:00<00:00, 88.03it/s]\u001b[A\n",
      " 23%|##3       | 18/77 [00:00<00:00, 87.30it/s]\u001b[A\n",
      " 35%|###5      | 27/77 [00:00<00:00, 87.33it/s]\u001b[A\n",
      " 47%|####6     | 36/77 [00:00<00:00, 87.35it/s]\u001b[A\n",
      " 58%|#####8    | 45/77 [00:00<00:00, 87.25it/s]\u001b[A\n",
      " 70%|#######   | 54/77 [00:00<00:00, 85.18it/s]\u001b[A\n",
      " 81%|########  | 62/77 [00:00<00:00, 82.51it/s]\u001b[A\n",
      " 92%|#########2| 71/77 [00:00<00:00, 83.56it/s]\u001b[A\n",
      " 85%|████████▍ | 751/884 [00:34<00:15,  8.51it/s]A"
     ]
    },
    {
     "name": "stdout",
     "output_type": "stream",
     "text": [
      "{'ade': 0.46113974, 'fde': 1.0054967}\n",
      "\t last loss:0.000419810, eval on validation:['ade: 0.46113974', 'fde: 1.0054967'], (best ade:0.4564997 at step 25200) \n"
     ]
    },
    {
     "name": "stderr",
     "output_type": "stream",
     "text": [
      "100%|██████████| 884/884 [00:39<00:00, 22.52it/s]\n",
      "  0%|          | 1/884 [00:00<01:45,  8.34it/s]"
     ]
    },
    {
     "name": "stdout",
     "output_type": "stream",
     "text": [
      "('Epoca 30.', 'lr:', 0.00020553943)\n"
     ]
    },
    {
     "name": "stderr",
     "output_type": "stream",
     "text": [
      " 18%|█▊        | 163/884 [00:07<00:34, 21.07it/s]"
     ]
    },
    {
     "name": "stdout",
     "output_type": "stream",
     "text": [
      "\tsaving model 25800...\n"
     ]
    },
    {
     "name": "stderr",
     "output_type": "stream",
     "text": [
      "\n",
      "  0%|          | 0/77 [00:00<?, ?it/s]\u001b[A\n",
      "  8%|7         | 6/77 [00:00<00:01, 57.92it/s]\u001b[A\n",
      " 17%|#6        | 13/77 [00:00<00:01, 60.62it/s]\u001b[A\n",
      " 26%|##5       | 20/77 [00:00<00:00, 62.42it/s]\u001b[A\n",
      " 35%|###5      | 27/77 [00:00<00:00, 64.17it/s]\u001b[A\n",
      " 44%|####4     | 34/77 [00:00<00:00, 65.26it/s]\u001b[A\n",
      " 53%|#####3    | 41/77 [00:00<00:00, 66.12it/s]\u001b[A\n",
      " 62%|######2   | 48/77 [00:00<00:00, 67.00it/s]\u001b[A\n",
      " 71%|#######1  | 55/77 [00:00<00:00, 67.84it/s]\u001b[A\n",
      " 81%|########  | 62/77 [00:00<00:00, 66.03it/s]\u001b[A\n",
      " 90%|########9 | 69/77 [00:01<00:00, 65.88it/s]\u001b[A\n",
      " 19%|█▉        | 166/884 [00:08<02:14,  5.35it/s]A"
     ]
    },
    {
     "name": "stdout",
     "output_type": "stream",
     "text": [
      "\tdone\n",
      "Evaluating\n",
      "{'ade': 0.47354624, 'fde': 1.0364479}\n",
      "\t last loss:0.000449150, eval on validation:['ade: 0.47354624', 'fde: 1.0364479'], (best ade:0.4564997 at step 25200) \n"
     ]
    },
    {
     "name": "stderr",
     "output_type": "stream",
     "text": [
      " 52%|█████▏    | 461/884 [00:20<00:16, 25.37it/s]\n",
      "  0%|          | 0/77 [00:00<?, ?it/s]\u001b[A"
     ]
    },
    {
     "name": "stdout",
     "output_type": "stream",
     "text": [
      "\tsaving model 26100...\n",
      "\tdone\n",
      "Evaluating\n"
     ]
    },
    {
     "name": "stderr",
     "output_type": "stream",
     "text": [
      "\n",
      " 12%|#1        | 9/77 [00:00<00:00, 86.40it/s]\u001b[A\n",
      " 23%|##3       | 18/77 [00:00<00:00, 86.68it/s]\u001b[A\n",
      " 35%|###5      | 27/77 [00:00<00:00, 86.58it/s]\u001b[A\n",
      " 45%|####5     | 35/77 [00:00<00:00, 83.07it/s]\u001b[A\n",
      " 57%|#####7    | 44/77 [00:00<00:00, 83.27it/s]\u001b[A\n",
      " 69%|######8   | 53/77 [00:00<00:00, 83.75it/s]\u001b[A\n",
      " 81%|########  | 62/77 [00:00<00:00, 84.65it/s]\u001b[A\n",
      " 92%|#########2| 71/77 [00:00<00:00, 85.69it/s]\u001b[A\n",
      " 53%|█████▎    | 467/884 [00:22<00:48,  8.61it/s]A"
     ]
    },
    {
     "name": "stdout",
     "output_type": "stream",
     "text": [
      "{'ade': 0.46248552, 'fde': 1.0073239}\n",
      "\t last loss:0.000256713, eval on validation:['ade: 0.46248552', 'fde: 1.0073239'], (best ade:0.4564997 at step 25200) \n"
     ]
    },
    {
     "name": "stderr",
     "output_type": "stream",
     "text": [
      " 86%|████████▌ | 761/884 [00:33<00:04, 25.91it/s]\n",
      "  0%|          | 0/77 [00:00<?, ?it/s]\u001b[A"
     ]
    },
    {
     "name": "stdout",
     "output_type": "stream",
     "text": [
      "\tsaving model 26400...\n",
      "\tdone\n",
      "Evaluating\n"
     ]
    },
    {
     "name": "stderr",
     "output_type": "stream",
     "text": [
      "\n",
      " 13%|#2        | 10/77 [00:00<00:00, 98.44it/s]\u001b[A\n",
      " 26%|##5       | 20/77 [00:00<00:00, 97.61it/s]\u001b[A\n",
      " 39%|###8      | 30/77 [00:00<00:00, 95.96it/s]\u001b[A\n",
      " 52%|#####1    | 40/77 [00:00<00:00, 95.69it/s]\u001b[A\n",
      " 64%|######3   | 49/77 [00:00<00:00, 91.58it/s]\u001b[A\n",
      " 75%|#######5  | 58/77 [00:00<00:00, 90.73it/s]\u001b[A\n",
      " 88%|########8 | 68/77 [00:00<00:00, 91.52it/s]\u001b[A\n",
      " 87%|████████▋ | 767/884 [00:34<00:12,  9.30it/s]A"
     ]
    },
    {
     "name": "stdout",
     "output_type": "stream",
     "text": [
      "{'ade': 0.47114325, 'fde': 1.0361528}\n",
      "\t last loss:0.000328275, eval on validation:['ade: 0.47114325', 'fde: 1.0361528'], (best ade:0.4564997 at step 25200) \n"
     ]
    },
    {
     "name": "stderr",
     "output_type": "stream",
     "text": [
      "100%|██████████| 884/884 [00:39<00:00, 24.15it/s]\n",
      "  0%|          | 1/884 [00:00<01:37,  9.02it/s]"
     ]
    },
    {
     "name": "stdout",
     "output_type": "stream",
     "text": [
      "('Epoca 31.', 'lr:', 0.00017470852)\n"
     ]
    },
    {
     "name": "stderr",
     "output_type": "stream",
     "text": [
      " 20%|██        | 178/884 [00:08<00:31, 22.65it/s]\n",
      "  0%|          | 0/77 [00:00<?, ?it/s]\u001b[A"
     ]
    },
    {
     "name": "stdout",
     "output_type": "stream",
     "text": [
      "\tsaving model 26700...\n",
      "\tdone\n",
      "Evaluating\n"
     ]
    },
    {
     "name": "stderr",
     "output_type": "stream",
     "text": [
      "\n",
      " 12%|#1        | 9/77 [00:00<00:00, 80.82it/s]\u001b[A\n",
      " 21%|##        | 16/77 [00:00<00:00, 76.89it/s]\u001b[A\n",
      " 31%|###1      | 24/77 [00:00<00:00, 77.12it/s]\u001b[A\n",
      " 43%|####2     | 33/77 [00:00<00:00, 77.69it/s]\u001b[A\n",
      " 53%|#####3    | 41/77 [00:00<00:00, 77.00it/s]\u001b[A\n",
      " 65%|######4   | 50/77 [00:00<00:00, 79.71it/s]\u001b[A\n",
      " 77%|#######6  | 59/77 [00:00<00:00, 80.85it/s]\u001b[A\n",
      " 88%|########8 | 68/77 [00:00<00:00, 82.74it/s]\u001b[A\n",
      " 21%|██        | 184/884 [00:09<01:26,  8.09it/s]A"
     ]
    },
    {
     "name": "stdout",
     "output_type": "stream",
     "text": [
      "{'ade': 0.46791556, 'fde': 1.0223907}\n",
      "\t last loss:0.000193702, eval on validation:['ade: 0.46791556', 'fde: 1.0223907'], (best ade:0.4564997 at step 25200) \n"
     ]
    },
    {
     "name": "stderr",
     "output_type": "stream",
     "text": [
      " 54%|█████▍    | 478/884 [00:21<00:15, 25.62it/s]\n",
      "  0%|          | 0/77 [00:00<?, ?it/s]\u001b[A"
     ]
    },
    {
     "name": "stdout",
     "output_type": "stream",
     "text": [
      "\tsaving model 27000...\n",
      "\tdone\n",
      "Evaluating\n"
     ]
    },
    {
     "name": "stderr",
     "output_type": "stream",
     "text": [
      "\n",
      " 13%|#2        | 10/77 [00:00<00:00, 96.92it/s]\u001b[A\n",
      " 26%|##5       | 20/77 [00:00<00:00, 96.48it/s]\u001b[A\n",
      " 39%|###8      | 30/77 [00:00<00:00, 95.96it/s]\u001b[A\n",
      " 52%|#####1    | 40/77 [00:00<00:00, 96.05it/s]\u001b[A\n",
      " 65%|######4   | 50/77 [00:00<00:00, 95.63it/s]\u001b[A\n",
      " 75%|#######5  | 58/77 [00:00<00:00, 84.73it/s]\u001b[A\n",
      " 87%|########7 | 67/77 [00:00<00:00, 85.29it/s]\u001b[A\n",
      " 55%|█████▍    | 484/884 [00:22<00:43,  9.12it/s]A"
     ]
    },
    {
     "name": "stdout",
     "output_type": "stream",
     "text": [
      "{'ade': 0.46836394, 'fde': 1.035264}\n",
      "\t last loss:0.000326421, eval on validation:['ade: 0.46836394', 'fde: 1.035264'], (best ade:0.4564997 at step 25200) \n"
     ]
    },
    {
     "name": "stderr",
     "output_type": "stream",
     "text": [
      " 88%|████████▊ | 778/884 [00:34<00:04, 24.28it/s]\n",
      "  0%|          | 0/77 [00:00<?, ?it/s]\u001b[A"
     ]
    },
    {
     "name": "stdout",
     "output_type": "stream",
     "text": [
      "\tsaving model 27300...\n",
      "\tdone\n",
      "Evaluating\n"
     ]
    },
    {
     "name": "stderr",
     "output_type": "stream",
     "text": [
      "\n",
      " 12%|#1        | 9/77 [00:00<00:00, 89.57it/s]\u001b[A\n",
      " 23%|##3       | 18/77 [00:00<00:00, 88.74it/s]\u001b[A\n",
      " 35%|###5      | 27/77 [00:00<00:00, 87.77it/s]\u001b[A\n",
      " 47%|####6     | 36/77 [00:00<00:00, 87.82it/s]\u001b[A\n",
      " 58%|#####8    | 45/77 [00:00<00:00, 87.76it/s]\u001b[A\n",
      " 70%|#######   | 54/77 [00:00<00:00, 87.61it/s]\u001b[A\n",
      " 81%|########  | 62/77 [00:00<00:00, 83.42it/s]\u001b[A\n",
      " 92%|#########2| 71/77 [00:00<00:00, 83.80it/s]\u001b[A\n",
      " 89%|████████▊ | 784/884 [00:35<00:11,  8.56it/s]A"
     ]
    },
    {
     "name": "stdout",
     "output_type": "stream",
     "text": [
      "{'ade': 0.4571486, 'fde': 1.0003401}\n",
      "\t last loss:0.000464066, eval on validation:['ade: 0.4571486', 'fde: 1.0003401'], (best ade:0.4564997 at step 25200) \n"
     ]
    },
    {
     "name": "stderr",
     "output_type": "stream",
     "text": [
      "100%|██████████| 884/884 [00:39<00:00, 22.17it/s]\n",
      "  0%|          | 1/884 [00:00<01:55,  7.62it/s]"
     ]
    },
    {
     "name": "stdout",
     "output_type": "stream",
     "text": [
      "('Epoca 32.', 'lr:', 0.00017470852)\n"
     ]
    },
    {
     "name": "stderr",
     "output_type": "stream",
     "text": [
      " 22%|██▏       | 195/884 [00:08<00:27, 24.69it/s]\n",
      "  0%|          | 0/77 [00:00<?, ?it/s]\u001b[A"
     ]
    },
    {
     "name": "stdout",
     "output_type": "stream",
     "text": [
      "\tsaving model 27600...\n",
      "\tdone\n",
      "Evaluating\n"
     ]
    },
    {
     "name": "stderr",
     "output_type": "stream",
     "text": [
      "\n",
      " 12%|#1        | 9/77 [00:00<00:00, 88.90it/s]\u001b[A\n",
      " 23%|##3       | 18/77 [00:00<00:00, 87.38it/s]\u001b[A\n",
      " 35%|###5      | 27/77 [00:00<00:00, 85.75it/s]\u001b[A\n",
      " 45%|####5     | 35/77 [00:00<00:00, 83.55it/s]\u001b[A\n",
      " 55%|#####4    | 42/77 [00:00<00:00, 61.05it/s]\u001b[A\n",
      " 62%|######2   | 48/77 [00:00<00:00, 55.59it/s]\u001b[A\n",
      " 70%|#######   | 54/77 [00:00<00:00, 49.35it/s]\u001b[A\n",
      " 77%|#######6  | 59/77 [00:01<00:00, 45.33it/s]\u001b[A\n",
      " 83%|########3 | 64/77 [00:01<00:00, 42.62it/s]\u001b[A\n",
      " 95%|#########4| 73/77 [00:01<00:00, 50.35it/s]\u001b[A\n",
      " 22%|██▏       | 198/884 [00:09<02:09,  5.29it/s]A"
     ]
    },
    {
     "name": "stdout",
     "output_type": "stream",
     "text": [
      "{'ade': 0.46525678, 'fde': 1.0174066}\n",
      "\t last loss:0.000255082, eval on validation:['ade: 0.46525678', 'fde: 1.0174066'], (best ade:0.4564997 at step 25200) \n"
     ]
    },
    {
     "name": "stderr",
     "output_type": "stream",
     "text": [
      " 56%|█████▌    | 495/884 [00:21<00:15, 25.60it/s]\n",
      "  0%|          | 0/77 [00:00<?, ?it/s]\u001b[A"
     ]
    },
    {
     "name": "stdout",
     "output_type": "stream",
     "text": [
      "\tsaving model 27900...\n",
      "\tdone\n",
      "Evaluating\n"
     ]
    },
    {
     "name": "stderr",
     "output_type": "stream",
     "text": [
      "\n",
      " 12%|#1        | 9/77 [00:00<00:00, 86.53it/s]\u001b[A\n",
      " 23%|##3       | 18/77 [00:00<00:00, 86.48it/s]\u001b[A\n",
      " 35%|###5      | 27/77 [00:00<00:00, 86.48it/s]\u001b[A\n",
      " 47%|####6     | 36/77 [00:00<00:00, 86.54it/s]\u001b[A\n",
      " 57%|#####7    | 44/77 [00:00<00:00, 83.28it/s]\u001b[A\n",
      " 69%|######8   | 53/77 [00:00<00:00, 83.70it/s]\u001b[A\n",
      " 81%|########  | 62/77 [00:00<00:00, 84.40it/s]\u001b[A\n",
      " 92%|#########2| 71/77 [00:00<00:00, 85.33it/s]\u001b[A\n",
      " 56%|█████▋    | 498/884 [00:22<00:57,  6.74it/s]A"
     ]
    },
    {
     "name": "stdout",
     "output_type": "stream",
     "text": [
      "{'ade': 0.47611442, 'fde': 1.0451515}\n",
      "\t last loss:0.000228048, eval on validation:['ade: 0.47611442', 'fde: 1.0451515'], (best ade:0.4564997 at step 25200) \n"
     ]
    },
    {
     "name": "stderr",
     "output_type": "stream",
     "text": [
      " 90%|████████▉ | 795/884 [00:35<00:03, 25.37it/s]\n",
      "  0%|          | 0/77 [00:00<?, ?it/s]\u001b[A"
     ]
    },
    {
     "name": "stdout",
     "output_type": "stream",
     "text": [
      "\tsaving model 28200...\n",
      "\tdone\n",
      "Evaluating\n"
     ]
    },
    {
     "name": "stderr",
     "output_type": "stream",
     "text": [
      "\n",
      " 12%|#1        | 9/77 [00:00<00:00, 87.31it/s]\u001b[A\n",
      " 23%|##3       | 18/77 [00:00<00:00, 87.13it/s]\u001b[A\n",
      " 35%|###5      | 27/77 [00:00<00:00, 87.21it/s]\u001b[A\n",
      " 47%|####6     | 36/77 [00:00<00:00, 86.74it/s]\u001b[A\n",
      " 58%|#####8    | 45/77 [00:00<00:00, 86.36it/s]\u001b[A\n",
      " 70%|#######   | 54/77 [00:00<00:00, 86.49it/s]\u001b[A\n",
      " 82%|########1 | 63/77 [00:00<00:00, 86.99it/s]\u001b[A\n",
      " 94%|#########3| 72/77 [00:00<00:00, 87.30it/s]\u001b[A\n",
      " 90%|█████████ | 798/884 [00:36<00:12,  6.80it/s]A"
     ]
    },
    {
     "name": "stdout",
     "output_type": "stream",
     "text": [
      "{'ade': 0.45871744, 'fde': 1.0027237}\n",
      "\t last loss:0.000465539, eval on validation:['ade: 0.45871744', 'fde: 1.0027237'], (best ade:0.4564997 at step 25200) \n"
     ]
    },
    {
     "name": "stderr",
     "output_type": "stream",
     "text": [
      "100%|██████████| 884/884 [00:40<00:00, 21.93it/s]\n",
      "  0%|          | 2/884 [00:00<00:59, 14.71it/s]"
     ]
    },
    {
     "name": "stdout",
     "output_type": "stream",
     "text": [
      "('Epoca 33.', 'lr:', 0.00014850224)\n"
     ]
    },
    {
     "name": "stderr",
     "output_type": "stream",
     "text": [
      " 24%|██▎       | 209/884 [00:08<00:24, 27.19it/s]\n",
      "  0%|          | 0/77 [00:00<?, ?it/s]\u001b[A"
     ]
    },
    {
     "name": "stdout",
     "output_type": "stream",
     "text": [
      "\tsaving model 28500...\n",
      "\tdone\n",
      "Evaluating\n"
     ]
    },
    {
     "name": "stderr",
     "output_type": "stream",
     "text": [
      "\n",
      " 12%|#1        | 9/77 [00:00<00:00, 87.32it/s]\u001b[A\n",
      " 23%|##3       | 18/77 [00:00<00:00, 87.22it/s]\u001b[A\n",
      " 35%|###5      | 27/77 [00:00<00:00, 87.10it/s]\u001b[A\n",
      " 47%|####6     | 36/77 [00:00<00:00, 87.06it/s]\u001b[A\n",
      " 58%|#####8    | 45/77 [00:00<00:00, 87.19it/s]\u001b[A\n",
      " 70%|#######   | 54/77 [00:00<00:00, 86.88it/s]\u001b[A\n",
      " 82%|########1 | 63/77 [00:00<00:00, 87.17it/s]\u001b[A\n",
      " 94%|#########3| 72/77 [00:00<00:00, 87.42it/s]\u001b[A\n",
      " 24%|██▍       | 215/884 [00:09<01:15,  8.89it/s]A"
     ]
    },
    {
     "name": "stdout",
     "output_type": "stream",
     "text": [
      "{'ade': 0.46967465, 'fde': 1.0331848}\n",
      "\t last loss:0.000267504, eval on validation:['ade: 0.46967465', 'fde: 1.0331848'], (best ade:0.4564997 at step 25200) \n"
     ]
    },
    {
     "name": "stderr",
     "output_type": "stream",
     "text": [
      " 58%|█████▊    | 509/884 [00:21<00:17, 20.84it/s]"
     ]
    },
    {
     "name": "stdout",
     "output_type": "stream",
     "text": [
      "\tsaving model 28800...\n"
     ]
    },
    {
     "name": "stderr",
     "output_type": "stream",
     "text": [
      "\n",
      "  0%|          | 0/77 [00:00<?, ?it/s]\u001b[A\n",
      " 10%|#         | 8/77 [00:00<00:00, 71.99it/s]\u001b[A\n",
      " 19%|#9        | 15/77 [00:00<00:00, 71.27it/s]\u001b[A\n",
      " 29%|##8       | 22/77 [00:00<00:00, 70.78it/s]\u001b[A\n",
      " 38%|###7      | 29/77 [00:00<00:00, 70.51it/s]\u001b[A\n",
      " 48%|####8     | 37/77 [00:00<00:00, 70.57it/s]\u001b[A\n",
      " 56%|#####5    | 43/77 [00:00<00:00, 66.72it/s]\u001b[A\n",
      " 65%|######4   | 50/77 [00:00<00:00, 66.86it/s]\u001b[A\n",
      " 74%|#######4  | 57/77 [00:00<00:00, 67.26it/s]\u001b[A\n",
      " 83%|########3 | 64/77 [00:00<00:00, 67.57it/s]\u001b[A\n",
      " 92%|#########2| 71/77 [00:01<00:00, 68.04it/s]\u001b[A\n",
      " 58%|█████▊    | 515/884 [00:23<00:52,  7.01it/s]A"
     ]
    },
    {
     "name": "stdout",
     "output_type": "stream",
     "text": [
      "\tdone\n",
      "Evaluating\n",
      "{'ade': 0.45857817, 'fde': 1.0041527}\n",
      "\t last loss:0.000307123, eval on validation:['ade: 0.45857817', 'fde: 1.0041527'], (best ade:0.4564997 at step 25200) \n"
     ]
    },
    {
     "name": "stderr",
     "output_type": "stream",
     "text": [
      " 92%|█████████▏| 811/884 [00:35<00:02, 26.20it/s]\n",
      "  0%|          | 0/77 [00:00<?, ?it/s]\u001b[A"
     ]
    },
    {
     "name": "stdout",
     "output_type": "stream",
     "text": [
      "\tsaving model 29100...\n",
      "\tdone\n",
      "Evaluating\n"
     ]
    },
    {
     "name": "stderr",
     "output_type": "stream",
     "text": [
      "\n",
      " 13%|#2        | 10/77 [00:00<00:00, 98.63it/s]\u001b[A\n",
      " 26%|##5       | 20/77 [00:00<00:00, 97.05it/s]\u001b[A\n",
      " 39%|###8      | 30/77 [00:00<00:00, 96.78it/s]\u001b[A\n",
      " 52%|#####1    | 40/77 [00:00<00:00, 96.37it/s]\u001b[A\n",
      " 65%|######4   | 50/77 [00:00<00:00, 95.99it/s]\u001b[A\n",
      " 78%|#######7  | 60/77 [00:00<00:00, 95.77it/s]\u001b[A\n",
      " 91%|######### | 70/77 [00:00<00:00, 95.95it/s]\u001b[A\n",
      " 92%|█████████▏| 814/884 [00:36<00:09,  7.24it/s]A"
     ]
    },
    {
     "name": "stdout",
     "output_type": "stream",
     "text": [
      "{'ade': 0.46432844, 'fde': 1.0190505}\n",
      "\t last loss:0.000265068, eval on validation:['ade: 0.46432844', 'fde: 1.0190505'], (best ade:0.4564997 at step 25200) \n"
     ]
    },
    {
     "name": "stderr",
     "output_type": "stream",
     "text": [
      "100%|██████████| 884/884 [00:39<00:00, 22.22it/s]\n",
      "  0%|          | 1/884 [00:00<01:35,  9.28it/s]"
     ]
    },
    {
     "name": "stdout",
     "output_type": "stream",
     "text": [
      "('Epoca 34.', 'lr:', 0.00014850224)\n"
     ]
    },
    {
     "name": "stderr",
     "output_type": "stream",
     "text": [
      " 26%|██▌       | 226/884 [00:08<00:25, 25.57it/s]"
     ]
    },
    {
     "name": "stdout",
     "output_type": "stream",
     "text": [
      "\tsaving model 29400...\n"
     ]
    },
    {
     "name": "stderr",
     "output_type": "stream",
     "text": [
      "\n",
      "  0%|          | 0/77 [00:00<?, ?it/s]\u001b[A\n",
      " 10%|#         | 8/77 [00:00<00:00, 70.59it/s]\u001b[A"
     ]
    },
    {
     "name": "stdout",
     "output_type": "stream",
     "text": [
      "\tdone\n",
      "Evaluating\n"
     ]
    },
    {
     "name": "stderr",
     "output_type": "stream",
     "text": [
      "\n",
      " 19%|#9        | 15/77 [00:00<00:00, 70.15it/s]\u001b[A\n",
      " 29%|##8       | 22/77 [00:00<00:00, 69.74it/s]\u001b[A\n",
      " 39%|###8      | 30/77 [00:00<00:00, 70.02it/s]\u001b[A\n",
      " 48%|####8     | 37/77 [00:00<00:00, 69.40it/s]\u001b[A\n",
      " 57%|#####7    | 44/77 [00:00<00:00, 69.42it/s]\u001b[A\n",
      " 68%|######7   | 52/77 [00:00<00:00, 69.90it/s]\u001b[A\n",
      " 77%|#######6  | 59/77 [00:00<00:00, 67.60it/s]\u001b[A\n",
      " 86%|########5 | 66/77 [00:00<00:00, 66.80it/s]\u001b[A\n",
      " 95%|#########4| 73/77 [00:01<00:00, 66.74it/s]\u001b[A\n",
      " 26%|██▌       | 229/884 [00:10<01:55,  5.66it/s]A"
     ]
    },
    {
     "name": "stdout",
     "output_type": "stream",
     "text": [
      "{'ade': 0.4571746, 'fde': 1.0016233}\n",
      "\t last loss:0.000307960, eval on validation:['ade: 0.4571746', 'fde: 1.0016233'], (best ade:0.4564997 at step 25200) \n"
     ]
    },
    {
     "name": "stderr",
     "output_type": "stream",
     "text": [
      " 60%|█████▉    | 526/884 [00:22<00:13, 26.97it/s]\n",
      "  0%|          | 0/77 [00:00<?, ?it/s]\u001b[A"
     ]
    },
    {
     "name": "stdout",
     "output_type": "stream",
     "text": [
      "\tsaving model 29700...\n",
      "\tdone\n",
      "Evaluating\n"
     ]
    },
    {
     "name": "stderr",
     "output_type": "stream",
     "text": [
      "\n",
      " 13%|#2        | 10/77 [00:00<00:00, 95.87it/s]\u001b[A\n",
      " 26%|##5       | 20/77 [00:00<00:00, 95.66it/s]\u001b[A\n",
      " 39%|###8      | 30/77 [00:00<00:00, 95.55it/s]\u001b[A\n",
      " 52%|#####1    | 40/77 [00:00<00:00, 95.71it/s]\u001b[A\n",
      " 65%|######4   | 50/77 [00:00<00:00, 95.59it/s]\u001b[A\n",
      " 78%|#######7  | 60/77 [00:00<00:00, 95.53it/s]\u001b[A\n",
      " 91%|######### | 70/77 [00:00<00:00, 95.78it/s]\u001b[A\n",
      " 60%|█████▉    | 529/884 [00:24<00:48,  7.37it/s]A"
     ]
    },
    {
     "name": "stdout",
     "output_type": "stream",
     "text": [
      "{'ade': 0.4634844, 'fde': 1.0135216}\n",
      "\t last loss:0.000281879, eval on validation:['ade: 0.4634844', 'fde: 1.0135216'], (best ade:0.4564997 at step 25200) \n"
     ]
    },
    {
     "name": "stderr",
     "output_type": "stream",
     "text": [
      " 93%|█████████▎| 826/884 [00:36<00:02, 23.13it/s]\n",
      "  0%|          | 0/77 [00:00<?, ?it/s]"
     ]
    },
    {
     "name": "stdout",
     "output_type": "stream",
     "text": [
      "\tsaving model 30000...\n",
      "\tdone\n",
      "Evaluating\n"
     ]
    },
    {
     "name": "stderr",
     "output_type": "stream",
     "text": [
      "\u001b[A\n",
      " 10%|#         | 8/77 [00:00<00:00, 75.57it/s]\u001b[A\n",
      " 22%|##2       | 17/77 [00:00<00:00, 78.17it/s]\u001b[A\n",
      " 34%|###3      | 26/77 [00:00<00:00, 80.60it/s]\u001b[A\n",
      " 45%|####5     | 35/77 [00:00<00:00, 82.75it/s]\u001b[A\n",
      " 57%|#####7    | 44/77 [00:00<00:00, 84.48it/s]\u001b[A\n",
      " 69%|######8   | 53/77 [00:00<00:00, 85.56it/s]\u001b[A\n",
      " 81%|########  | 62/77 [00:00<00:00, 85.74it/s]\u001b[A\n",
      " 92%|#########2| 71/77 [00:00<00:00, 86.06it/s]\u001b[A\n",
      " 94%|█████████▍| 829/884 [00:38<00:08,  6.48it/s]A"
     ]
    },
    {
     "name": "stdout",
     "output_type": "stream",
     "text": [
      "{'ade': 0.46497232, 'fde': 1.0260365}\n",
      "\t last loss:0.000367808, eval on validation:['ade: 0.46497232', 'fde: 1.0260365'], (best ade:0.4564997 at step 25200) \n"
     ]
    },
    {
     "name": "stderr",
     "output_type": "stream",
     "text": [
      "100%|██████████| 884/884 [00:40<00:00, 21.96it/s]\n",
      "  0%|          | 1/884 [00:00<01:31,  9.64it/s]"
     ]
    },
    {
     "name": "stdout",
     "output_type": "stream",
     "text": [
      "('Epoca 35.', 'lr:', 0.0001262269)\n"
     ]
    },
    {
     "name": "stderr",
     "output_type": "stream",
     "text": [
      " 27%|██▋       | 241/884 [00:09<00:24, 26.79it/s]\n",
      "  0%|          | 0/77 [00:00<?, ?it/s]\u001b[A"
     ]
    },
    {
     "name": "stdout",
     "output_type": "stream",
     "text": [
      "\tsaving model 30300...\n",
      "\tdone\n",
      "Evaluating\n"
     ]
    },
    {
     "name": "stderr",
     "output_type": "stream",
     "text": [
      "\n",
      " 13%|#2        | 10/77 [00:00<00:00, 97.10it/s]\u001b[A\n",
      " 25%|##4       | 19/77 [00:00<00:00, 93.02it/s]\u001b[A\n",
      " 38%|###7      | 29/77 [00:00<00:00, 93.54it/s]\u001b[A\n",
      " 51%|#####     | 39/77 [00:00<00:00, 93.83it/s]\u001b[A\n",
      " 64%|######3   | 49/77 [00:00<00:00, 94.46it/s]\u001b[A\n",
      " 77%|#######6  | 59/77 [00:00<00:00, 94.97it/s]\u001b[A\n",
      " 90%|########9 | 69/77 [00:00<00:00, 95.01it/s]\u001b[A\n",
      " 28%|██▊       | 247/884 [00:10<01:07,  9.41it/s]A"
     ]
    },
    {
     "name": "stdout",
     "output_type": "stream",
     "text": [
      "{'ade': 0.46740437, 'fde': 1.0253649}\n",
      "\t last loss:0.000398236, eval on validation:['ade: 0.46740437', 'fde: 1.0253649'], (best ade:0.4564997 at step 25200) \n"
     ]
    },
    {
     "name": "stderr",
     "output_type": "stream",
     "text": [
      " 61%|██████    | 541/884 [00:23<00:15, 22.79it/s]"
     ]
    },
    {
     "name": "stdout",
     "output_type": "stream",
     "text": [
      "\tsaving model 30600...\n"
     ]
    },
    {
     "name": "stderr",
     "output_type": "stream",
     "text": [
      "\n",
      "  0%|          | 0/77 [00:00<?, ?it/s]\u001b[A\n",
      " 12%|#1        | 9/77 [00:00<00:00, 81.79it/s]\u001b[A"
     ]
    },
    {
     "name": "stdout",
     "output_type": "stream",
     "text": [
      "\tdone\n",
      "Evaluating\n"
     ]
    },
    {
     "name": "stderr",
     "output_type": "stream",
     "text": [
      "\n",
      " 22%|##2       | 17/77 [00:00<00:00, 79.98it/s]\u001b[A\n",
      " 32%|###2      | 25/77 [00:00<00:00, 78.99it/s]\u001b[A\n",
      " 43%|####2     | 33/77 [00:00<00:00, 78.11it/s]\u001b[A\n",
      " 52%|#####1    | 40/77 [00:00<00:00, 74.75it/s]\u001b[A\n",
      " 62%|######2   | 48/77 [00:00<00:00, 75.42it/s]\u001b[A\n",
      " 73%|#######2  | 56/77 [00:00<00:00, 76.16it/s]\u001b[A\n",
      " 83%|########3 | 64/77 [00:00<00:00, 76.66it/s]\u001b[A\n",
      " 94%|#########3| 72/77 [00:00<00:00, 77.37it/s]\u001b[A\n",
      "100%|##########| 77/77 [00:01<00:00, 76.66it/s]\u001b[A"
     ]
    },
    {
     "name": "stdout",
     "output_type": "stream",
     "text": [
      "{'ade': 0.45611754, 'fde': 0.995581}\n",
      "\t last loss:0.000148846, eval on validation:['ade: 0.45611754', 'fde: 0.995581'], (best ade:0.4564997 at step 25200) \n",
      "\t saving best model...\n",
      "\t done.\n"
     ]
    },
    {
     "name": "stderr",
     "output_type": "stream",
     "text": [
      " 95%|█████████▌| 841/884 [00:36<00:01, 24.99it/s]\n",
      "  0%|          | 0/77 [00:00<?, ?it/s]\u001b[A"
     ]
    },
    {
     "name": "stdout",
     "output_type": "stream",
     "text": [
      "\tsaving model 30900...\n",
      "\tdone\n",
      "Evaluating\n"
     ]
    },
    {
     "name": "stderr",
     "output_type": "stream",
     "text": [
      "\n",
      " 12%|#1        | 9/77 [00:00<00:00, 89.64it/s]\u001b[A\n",
      " 23%|##3       | 18/77 [00:00<00:00, 88.77it/s]\u001b[A\n",
      " 35%|###5      | 27/77 [00:00<00:00, 88.11it/s]\u001b[A\n",
      " 45%|####5     | 35/77 [00:00<00:00, 83.64it/s]\u001b[A\n",
      " 57%|#####7    | 44/77 [00:00<00:00, 84.81it/s]\u001b[A\n",
      " 70%|#######   | 54/77 [00:00<00:00, 87.61it/s]\u001b[A\n",
      " 83%|########3 | 64/77 [00:00<00:00, 90.22it/s]\u001b[A\n",
      " 96%|#########6| 74/77 [00:00<00:00, 92.06it/s]\u001b[A\n",
      " 96%|█████████▌| 847/884 [00:37<00:04,  8.92it/s]A"
     ]
    },
    {
     "name": "stdout",
     "output_type": "stream",
     "text": [
      "{'ade': 0.4585118, 'fde': 1.005361}\n",
      "\t last loss:0.000287317, eval on validation:['ade: 0.4585118', 'fde: 1.005361'], (best ade:0.45611754 at step 30600) \n"
     ]
    },
    {
     "name": "stderr",
     "output_type": "stream",
     "text": [
      "100%|██████████| 884/884 [00:38<00:00, 22.73it/s]\n",
      "  0%|          | 2/884 [00:00<00:58, 14.95it/s]"
     ]
    },
    {
     "name": "stdout",
     "output_type": "stream",
     "text": [
      "('Epoca 36.', 'lr:', 0.0001262269)\n"
     ]
    },
    {
     "name": "stderr",
     "output_type": "stream",
     "text": [
      " 29%|██▉       | 257/884 [00:10<00:27, 22.50it/s]\n",
      "  0%|          | 0/77 [00:00<?, ?it/s]\u001b[A"
     ]
    },
    {
     "name": "stdout",
     "output_type": "stream",
     "text": [
      "\tsaving model 31200...\n",
      "\tdone\n",
      "Evaluating\n"
     ]
    },
    {
     "name": "stderr",
     "output_type": "stream",
     "text": [
      "\n",
      " 12%|#1        | 9/77 [00:00<00:00, 81.52it/s]\u001b[A\n",
      " 22%|##2       | 17/77 [00:00<00:00, 80.94it/s]\u001b[A\n",
      " 32%|###2      | 25/77 [00:00<00:00, 80.03it/s]\u001b[A\n",
      " 40%|####      | 31/77 [00:00<00:00, 69.38it/s]\u001b[A\n",
      " 51%|#####     | 39/77 [00:00<00:00, 71.73it/s]\u001b[A\n",
      " 61%|######1   | 47/77 [00:00<00:00, 72.66it/s]\u001b[A\n",
      " 70%|#######   | 54/77 [00:00<00:00, 71.37it/s]\u001b[A\n",
      " 81%|########  | 62/77 [00:00<00:00, 73.03it/s]\u001b[A\n",
      " 91%|######### | 70/77 [00:00<00:00, 74.27it/s]\u001b[A\n",
      " 30%|██▉       | 263/884 [00:12<01:21,  7.66it/s]A"
     ]
    },
    {
     "name": "stdout",
     "output_type": "stream",
     "text": [
      "{'ade': 0.4715802, 'fde': 1.0341451}\n",
      "\t last loss:0.000251610, eval on validation:['ade: 0.4715802', 'fde: 1.0341451'], (best ade:0.45611754 at step 30600) \n"
     ]
    },
    {
     "name": "stderr",
     "output_type": "stream",
     "text": [
      " 63%|██████▎   | 558/884 [00:24<00:13, 25.07it/s]\n",
      "  0%|          | 0/77 [00:00<?, ?it/s]\u001b[A"
     ]
    },
    {
     "name": "stdout",
     "output_type": "stream",
     "text": [
      "\tsaving model 31500...\n",
      "\tdone\n",
      "Evaluating\n"
     ]
    },
    {
     "name": "stderr",
     "output_type": "stream",
     "text": [
      "\n",
      " 12%|#1        | 9/77 [00:00<00:00, 89.64it/s]\u001b[A\n",
      " 23%|##3       | 18/77 [00:00<00:00, 88.35it/s]\u001b[A\n",
      " 35%|###5      | 27/77 [00:00<00:00, 87.64it/s]\u001b[A\n",
      " 45%|####5     | 35/77 [00:00<00:00, 84.29it/s]\u001b[A\n",
      " 57%|#####7    | 44/77 [00:00<00:00, 84.54it/s]\u001b[A\n",
      " 69%|######8   | 53/77 [00:00<00:00, 84.51it/s]\u001b[A\n",
      " 81%|########  | 62/77 [00:00<00:00, 85.27it/s]\u001b[A\n",
      " 92%|#########2| 71/77 [00:00<00:00, 85.74it/s]\u001b[A\n",
      " 64%|██████▍   | 564/884 [00:25<00:37,  8.61it/s]A"
     ]
    },
    {
     "name": "stdout",
     "output_type": "stream",
     "text": [
      "{'ade': 0.46330494, 'fde': 1.0193068}\n",
      "\t last loss:0.000226371, eval on validation:['ade: 0.46330494', 'fde: 1.0193068'], (best ade:0.45611754 at step 30600) \n"
     ]
    },
    {
     "name": "stderr",
     "output_type": "stream",
     "text": [
      " 97%|█████████▋| 857/884 [00:37<00:01, 20.96it/s]"
     ]
    },
    {
     "name": "stdout",
     "output_type": "stream",
     "text": [
      "\tsaving model 31800...\n"
     ]
    },
    {
     "name": "stderr",
     "output_type": "stream",
     "text": [
      "\n",
      "  0%|          | 0/77 [00:00<?, ?it/s]\u001b[A\n",
      " 12%|#1        | 9/77 [00:00<00:00, 81.56it/s]\u001b[A"
     ]
    },
    {
     "name": "stdout",
     "output_type": "stream",
     "text": [
      "\tdone\n",
      "Evaluating\n"
     ]
    },
    {
     "name": "stderr",
     "output_type": "stream",
     "text": [
      "\n",
      " 22%|##2       | 17/77 [00:00<00:00, 80.16it/s]\u001b[A\n",
      " 32%|###2      | 25/77 [00:00<00:00, 79.71it/s]\u001b[A\n",
      " 43%|####2     | 33/77 [00:00<00:00, 79.20it/s]\u001b[A\n",
      " 55%|#####4    | 42/77 [00:00<00:00, 78.89it/s]\u001b[A\n",
      " 65%|######4   | 50/77 [00:00<00:00, 78.23it/s]\u001b[A\n",
      " 74%|#######4  | 57/77 [00:00<00:00, 74.90it/s]\u001b[A\n",
      " 84%|########4 | 65/77 [00:00<00:00, 75.54it/s]\u001b[A\n",
      " 95%|#########4| 73/77 [00:00<00:00, 76.23it/s]\u001b[A\n",
      " 98%|█████████▊| 863/884 [00:39<00:02,  7.57it/s]A"
     ]
    },
    {
     "name": "stdout",
     "output_type": "stream",
     "text": [
      "{'ade': 0.46229604, 'fde': 1.0119277}\n",
      "\t last loss:0.000281289, eval on validation:['ade: 0.46229604', 'fde: 1.0119277'], (best ade:0.45611754 at step 30600) \n"
     ]
    },
    {
     "name": "stderr",
     "output_type": "stream",
     "text": [
      "100%|██████████| 884/884 [00:40<00:00, 19.66it/s]\n",
      "  0%|          | 1/884 [00:00<01:29,  9.86it/s]"
     ]
    },
    {
     "name": "stdout",
     "output_type": "stream",
     "text": [
      "('Epoca 37.', 'lr:', 0.00010729288)\n"
     ]
    },
    {
     "name": "stderr",
     "output_type": "stream",
     "text": [
      " 31%|███       | 274/884 [00:10<00:24, 25.12it/s]\n",
      "  0%|          | 0/77 [00:00<?, ?it/s]\u001b[A"
     ]
    },
    {
     "name": "stdout",
     "output_type": "stream",
     "text": [
      "\tsaving model 32100...\n",
      "\tdone\n",
      "Evaluating\n"
     ]
    },
    {
     "name": "stderr",
     "output_type": "stream",
     "text": [
      "\n",
      " 13%|#2        | 10/77 [00:00<00:00, 90.36it/s]\u001b[A\n",
      " 25%|##4       | 19/77 [00:00<00:00, 89.43it/s]\u001b[A\n",
      " 36%|###6      | 28/77 [00:00<00:00, 88.90it/s]\u001b[A\n",
      " 48%|####8     | 37/77 [00:00<00:00, 87.69it/s]\u001b[A\n",
      " 60%|#####9    | 46/77 [00:00<00:00, 84.92it/s]\u001b[A\n",
      " 69%|######8   | 53/77 [00:00<00:00, 76.22it/s]\u001b[A\n",
      " 81%|########  | 62/77 [00:00<00:00, 78.48it/s]\u001b[A\n",
      " 92%|#########2| 71/77 [00:00<00:00, 81.03it/s]\u001b[A\n",
      " 32%|███▏      | 280/884 [00:12<01:11,  8.46it/s]A"
     ]
    },
    {
     "name": "stdout",
     "output_type": "stream",
     "text": [
      "{'ade': 0.45684722, 'fde': 0.9980797}\n",
      "\t last loss:0.000217064, eval on validation:['ade: 0.45684722', 'fde: 0.9980797'], (best ade:0.45611754 at step 30600) \n"
     ]
    },
    {
     "name": "stderr",
     "output_type": "stream",
     "text": [
      " 65%|██████▍   | 574/884 [00:24<00:14, 20.90it/s]"
     ]
    },
    {
     "name": "stdout",
     "output_type": "stream",
     "text": [
      "\tsaving model 32400...\n"
     ]
    },
    {
     "name": "stderr",
     "output_type": "stream",
     "text": [
      "\n",
      "  0%|          | 0/77 [00:00<?, ?it/s]\u001b[A\n",
      " 10%|#         | 8/77 [00:00<00:00, 73.22it/s]\u001b[A"
     ]
    },
    {
     "name": "stdout",
     "output_type": "stream",
     "text": [
      "\tdone\n",
      "Evaluating\n"
     ]
    },
    {
     "name": "stderr",
     "output_type": "stream",
     "text": [
      "\n",
      " 19%|#9        | 15/77 [00:00<00:00, 70.90it/s]\u001b[A\n",
      " 27%|##7       | 21/77 [00:00<00:00, 65.65it/s]\u001b[A\n",
      " 36%|###6      | 28/77 [00:00<00:00, 66.35it/s]\u001b[A\n",
      " 45%|####5     | 35/77 [00:00<00:00, 67.15it/s]\u001b[A\n",
      " 55%|#####4    | 42/77 [00:00<00:00, 67.67it/s]\u001b[A\n",
      " 64%|######3   | 49/77 [00:00<00:00, 67.90it/s]\u001b[A\n",
      " 74%|#######4  | 57/77 [00:00<00:00, 68.62it/s]\u001b[A\n",
      " 83%|########3 | 64/77 [00:00<00:00, 68.77it/s]\u001b[A\n",
      " 94%|#########3| 72/77 [00:01<00:00, 69.40it/s]\u001b[A\n",
      " 65%|██████▌   | 577/884 [00:25<00:56,  5.44it/s]A"
     ]
    },
    {
     "name": "stdout",
     "output_type": "stream",
     "text": [
      "{'ade': 0.45900306, 'fde': 1.0009056}\n",
      "\t last loss:0.000190677, eval on validation:['ade: 0.45900306', 'fde: 1.0009056'], (best ade:0.45611754 at step 30600) \n"
     ]
    },
    {
     "name": "stderr",
     "output_type": "stream",
     "text": [
      " 99%|█████████▉| 873/884 [00:37<00:00, 27.15it/s]\n",
      "  0%|          | 0/77 [00:00<?, ?it/s]\u001b[A"
     ]
    },
    {
     "name": "stdout",
     "output_type": "stream",
     "text": [
      "\tsaving model 32700...\n",
      "\tdone\n",
      "Evaluating\n"
     ]
    },
    {
     "name": "stderr",
     "output_type": "stream",
     "text": [
      "\n",
      " 13%|#2        | 10/77 [00:00<00:00, 91.12it/s]\u001b[A\n",
      " 25%|##4       | 19/77 [00:00<00:00, 89.27it/s]\u001b[A\n",
      " 36%|###6      | 28/77 [00:00<00:00, 88.33it/s]\u001b[A\n",
      " 48%|####8     | 37/77 [00:00<00:00, 87.59it/s]\u001b[A\n",
      " 60%|#####9    | 46/77 [00:00<00:00, 87.53it/s]\u001b[A\n",
      " 71%|#######1  | 55/77 [00:00<00:00, 86.74it/s]\u001b[A\n",
      " 83%|########3 | 64/77 [00:00<00:00, 86.69it/s]\u001b[A\n",
      " 94%|#########3| 72/77 [00:00<00:00, 82.74it/s]\u001b[A\n",
      " 99%|█████████▉| 879/884 [00:38<00:00,  8.75it/s]A"
     ]
    },
    {
     "name": "stdout",
     "output_type": "stream",
     "text": [
      "{'ade': 0.4654693, 'fde': 1.0206616}\n",
      "\t last loss:0.000206418, eval on validation:['ade: 0.4654693', 'fde: 1.0206616'], (best ade:0.45611754 at step 30600) \n"
     ]
    },
    {
     "name": "stderr",
     "output_type": "stream",
     "text": [
      "100%|██████████| 884/884 [00:39<00:00, 22.59it/s]\n",
      "  0%|          | 1/884 [00:00<01:45,  8.40it/s]"
     ]
    },
    {
     "name": "stdout",
     "output_type": "stream",
     "text": [
      "('Epoca 38.', 'lr:', 0.00010729288)\n"
     ]
    },
    {
     "name": "stderr",
     "output_type": "stream",
     "text": [
      " 33%|███▎      | 289/884 [00:11<00:27, 21.59it/s]"
     ]
    },
    {
     "name": "stdout",
     "output_type": "stream",
     "text": [
      "\tsaving model 33000...\n"
     ]
    },
    {
     "name": "stderr",
     "output_type": "stream",
     "text": [
      "\n",
      "  0%|          | 0/77 [00:00<?, ?it/s]\u001b[A\n",
      "  9%|9         | 7/77 [00:00<00:01, 69.60it/s]\u001b[A\n",
      " 18%|#8        | 14/77 [00:00<00:00, 69.35it/s]\u001b[A\n",
      " 27%|##7       | 21/77 [00:00<00:00, 69.30it/s]\u001b[A\n",
      " 36%|###6      | 28/77 [00:00<00:00, 69.50it/s]\u001b[A\n",
      " 45%|####5     | 35/77 [00:00<00:00, 69.56it/s]\u001b[A\n",
      " 55%|#####4    | 42/77 [00:00<00:00, 69.27it/s]\u001b[A\n",
      " 64%|######3   | 49/77 [00:00<00:00, 65.88it/s]\u001b[A\n",
      " 73%|#######2  | 56/77 [00:00<00:00, 66.32it/s]\u001b[A\n",
      " 82%|########1 | 63/77 [00:00<00:00, 67.04it/s]\u001b[A\n",
      " 91%|######### | 70/77 [00:01<00:00, 67.75it/s]\u001b[A\n",
      " 33%|███▎      | 295/884 [00:13<01:24,  7.00it/s]A"
     ]
    },
    {
     "name": "stdout",
     "output_type": "stream",
     "text": [
      "\tdone\n",
      "Evaluating\n",
      "{'ade': 0.46323153, 'fde': 1.0169213}\n",
      "\t last loss:0.000369820, eval on validation:['ade: 0.46323153', 'fde: 1.0169213'], (best ade:0.45611754 at step 30600) \n"
     ]
    },
    {
     "name": "stderr",
     "output_type": "stream",
     "text": [
      " 67%|██████▋   | 591/884 [00:25<00:10, 26.91it/s]\n",
      "  0%|          | 0/77 [00:00<?, ?it/s]\u001b[A"
     ]
    },
    {
     "name": "stdout",
     "output_type": "stream",
     "text": [
      "\tsaving model 33300...\n",
      "\tdone\n",
      "Evaluating\n"
     ]
    },
    {
     "name": "stderr",
     "output_type": "stream",
     "text": [
      "\n",
      " 13%|#2        | 10/77 [00:00<00:00, 96.42it/s]\u001b[A\n",
      " 26%|##5       | 20/77 [00:00<00:00, 96.08it/s]\u001b[A\n",
      " 39%|###8      | 30/77 [00:00<00:00, 95.78it/s]\u001b[A\n",
      " 52%|#####1    | 40/77 [00:00<00:00, 95.82it/s]\u001b[A\n",
      " 65%|######4   | 50/77 [00:00<00:00, 95.69it/s]\u001b[A\n",
      " 78%|#######7  | 60/77 [00:00<00:00, 95.72it/s]\u001b[A\n",
      " 91%|######### | 70/77 [00:00<00:00, 95.82it/s]\u001b[A\n",
      " 67%|██████▋   | 594/884 [00:26<00:40,  7.25it/s]A"
     ]
    },
    {
     "name": "stdout",
     "output_type": "stream",
     "text": [
      "{'ade': 0.47462812, 'fde': 1.041229}\n",
      "\t last loss:0.000213618, eval on validation:['ade: 0.47462812', 'fde: 1.041229'], (best ade:0.45611754 at step 30600) \n"
     ]
    },
    {
     "name": "stderr",
     "output_type": "stream",
     "text": [
      "100%|██████████| 884/884 [00:37<00:00, 23.37it/s]\n",
      "  0%|          | 2/884 [00:00<00:50, 17.48it/s]"
     ]
    },
    {
     "name": "stdout",
     "output_type": "stream",
     "text": [
      "('Epoca 39.', 'lr:', 9.119895e-05)\n"
     ]
    },
    {
     "name": "stderr",
     "output_type": "stream",
     "text": [
      "  1%|          | 5/884 [00:00<00:45, 19.20it/s]\n",
      "  0%|          | 0/77 [00:00<?, ?it/s]\u001b[A"
     ]
    },
    {
     "name": "stdout",
     "output_type": "stream",
     "text": [
      "\tsaving model 33600...\n",
      "\tdone\n",
      "Evaluating\n"
     ]
    },
    {
     "name": "stderr",
     "output_type": "stream",
     "text": [
      "\n",
      " 12%|#1        | 9/77 [00:00<00:00, 89.20it/s]\u001b[A\n",
      " 23%|##3       | 18/77 [00:00<00:00, 85.82it/s]\u001b[A\n",
      " 31%|###1      | 24/77 [00:00<00:00, 75.42it/s]\u001b[A\n",
      " 43%|####2     | 33/77 [00:00<00:00, 77.56it/s]\u001b[A\n",
      " 55%|#####4    | 42/77 [00:00<00:00, 80.87it/s]\u001b[A\n",
      " 68%|######7   | 52/77 [00:00<00:00, 85.07it/s]\u001b[A\n",
      " 81%|########  | 62/77 [00:00<00:00, 88.18it/s]\u001b[A\n",
      " 94%|#########3| 72/77 [00:00<00:00, 90.54it/s]\u001b[A\n",
      "  1%|          | 11/884 [00:01<01:44,  8.34it/s][A"
     ]
    },
    {
     "name": "stdout",
     "output_type": "stream",
     "text": [
      "{'ade': 0.46188226, 'fde': 1.0113813}\n",
      "\t last loss:0.000367403, eval on validation:['ade: 0.46188226', 'fde: 1.0113813'], (best ade:0.45611754 at step 30600) \n"
     ]
    },
    {
     "name": "stderr",
     "output_type": "stream",
     "text": [
      " 35%|███▍      | 305/884 [00:13<00:25, 22.55it/s]\n",
      "  0%|          | 0/77 [00:00<?, ?it/s]\u001b[A"
     ]
    },
    {
     "name": "stdout",
     "output_type": "stream",
     "text": [
      "\tsaving model 33900...\n",
      "\tdone\n",
      "Evaluating\n"
     ]
    },
    {
     "name": "stderr",
     "output_type": "stream",
     "text": [
      "\n",
      " 12%|#1        | 9/77 [00:00<00:00, 82.94it/s]\u001b[A\n",
      " 22%|##2       | 17/77 [00:00<00:00, 81.83it/s]\u001b[A\n",
      " 32%|###2      | 25/77 [00:00<00:00, 81.20it/s]\u001b[A\n",
      " 43%|####2     | 33/77 [00:00<00:00, 80.45it/s]\u001b[A\n",
      " 53%|#####3    | 41/77 [00:00<00:00, 80.10it/s]\u001b[A\n",
      " 64%|######3   | 49/77 [00:00<00:00, 79.26it/s]\u001b[A\n",
      " 73%|#######2  | 56/77 [00:00<00:00, 74.97it/s]\u001b[A\n",
      " 83%|########3 | 64/77 [00:00<00:00, 76.07it/s]\u001b[A\n",
      " 94%|#########3| 72/77 [00:00<00:00, 76.34it/s]\u001b[A\n",
      " 35%|███▌      | 311/884 [00:15<01:13,  7.84it/s]A"
     ]
    },
    {
     "name": "stdout",
     "output_type": "stream",
     "text": [
      "{'ade': 0.45695844, 'fde': 1.0014889}\n",
      "\t last loss:0.000441784, eval on validation:['ade: 0.45695844', 'fde: 1.0014889'], (best ade:0.45611754 at step 30600) \n"
     ]
    },
    {
     "name": "stderr",
     "output_type": "stream",
     "text": [
      " 69%|██████▊   | 607/884 [00:27<00:11, 25.11it/s]\n",
      "  0%|          | 0/77 [00:00<?, ?it/s]\u001b[A"
     ]
    },
    {
     "name": "stdout",
     "output_type": "stream",
     "text": [
      "\tsaving model 34200...\n",
      "\tdone\n",
      "Evaluating\n"
     ]
    },
    {
     "name": "stderr",
     "output_type": "stream",
     "text": [
      "\n",
      " 13%|#2        | 10/77 [00:00<00:00, 90.95it/s]\u001b[A\n",
      " 25%|##4       | 19/77 [00:00<00:00, 89.82it/s]\u001b[A\n",
      " 36%|###6      | 28/77 [00:00<00:00, 89.27it/s]\u001b[A\n",
      " 47%|####6     | 36/77 [00:00<00:00, 84.66it/s]\u001b[A\n",
      " 58%|#####8    | 45/77 [00:00<00:00, 84.80it/s]\u001b[A\n",
      " 70%|#######   | 54/77 [00:00<00:00, 85.58it/s]\u001b[A\n",
      " 82%|########1 | 63/77 [00:00<00:00, 85.99it/s]\u001b[A\n",
      " 94%|#########3| 72/77 [00:00<00:00, 86.28it/s]\u001b[A\n",
      " 69%|██████▉   | 610/884 [00:28<00:40,  6.76it/s]A"
     ]
    },
    {
     "name": "stdout",
     "output_type": "stream",
     "text": [
      "{'ade': 0.45744365, 'fde': 0.99993426}\n",
      "\t last loss:0.000282949, eval on validation:['ade: 0.45744365', 'fde: 0.99993426'], (best ade:0.45611754 at step 30600) \n"
     ]
    },
    {
     "name": "stderr",
     "output_type": "stream",
     "text": [
      "100%|██████████| 884/884 [00:40<00:00, 21.87it/s]\n",
      "  0%|          | 2/884 [00:00<01:01, 14.30it/s]"
     ]
    },
    {
     "name": "stdout",
     "output_type": "stream",
     "text": [
      "('Epoca 40.', 'lr:', 9.119895e-05)\n"
     ]
    },
    {
     "name": "stderr",
     "output_type": "stream",
     "text": [
      "  3%|▎         | 23/884 [00:00<00:34, 24.72it/s]\n",
      "  0%|          | 0/77 [00:00<?, ?it/s]\u001b[A"
     ]
    },
    {
     "name": "stdout",
     "output_type": "stream",
     "text": [
      "\tsaving model 34500...\n",
      "\tdone\n",
      "Evaluating\n"
     ]
    },
    {
     "name": "stderr",
     "output_type": "stream",
     "text": [
      "\n",
      " 13%|#2        | 10/77 [00:00<00:00, 97.92it/s]\u001b[A\n",
      " 25%|##4       | 19/77 [00:00<00:00, 93.52it/s]\u001b[A\n",
      " 38%|###7      | 29/77 [00:00<00:00, 93.67it/s]\u001b[A\n",
      " 51%|#####     | 39/77 [00:00<00:00, 93.90it/s]\u001b[A\n",
      " 64%|######3   | 49/77 [00:00<00:00, 94.77it/s]\u001b[A\n",
      " 77%|#######6  | 59/77 [00:00<00:00, 95.35it/s]\u001b[A\n",
      " 90%|########9 | 69/77 [00:00<00:00, 95.08it/s]\u001b[A\n",
      "100%|##########| 77/77 [00:00<00:00, 94.05it/s]\u001b[A"
     ]
    },
    {
     "name": "stdout",
     "output_type": "stream",
     "text": [
      "{'ade': 0.45289505, 'fde': 0.98870444}\n",
      "\t last loss:0.000250677, eval on validation:['ade: 0.45289505', 'fde: 0.98870444'], (best ade:0.45611754 at step 30600) \n",
      "\t saving best model...\n",
      "\t done.\n"
     ]
    },
    {
     "name": "stderr",
     "output_type": "stream",
     "text": [
      " 36%|███▋      | 321/884 [00:15<00:22, 24.72it/s]\n",
      "  0%|          | 0/77 [00:00<?, ?it/s]\u001b[A"
     ]
    },
    {
     "name": "stdout",
     "output_type": "stream",
     "text": [
      "\tsaving model 34800...\n",
      "\tdone\n",
      "Evaluating\n"
     ]
    },
    {
     "name": "stderr",
     "output_type": "stream",
     "text": [
      "\n",
      " 12%|#1        | 9/77 [00:00<00:00, 88.32it/s]\u001b[A\n",
      " 23%|##3       | 18/77 [00:00<00:00, 88.11it/s]\u001b[A\n",
      " 35%|###5      | 27/77 [00:00<00:00, 87.82it/s]\u001b[A\n",
      " 47%|####6     | 36/77 [00:00<00:00, 87.77it/s]\u001b[A\n",
      " 58%|#####8    | 45/77 [00:00<00:00, 87.56it/s]\u001b[A\n",
      " 70%|#######   | 54/77 [00:00<00:00, 87.72it/s]\u001b[A\n",
      " 82%|########1 | 63/77 [00:00<00:00, 87.93it/s]\u001b[A\n",
      " 94%|#########3| 72/77 [00:00<00:00, 88.13it/s]\u001b[A\n",
      " 37%|███▋      | 327/884 [00:16<01:05,  8.48it/s]A"
     ]
    },
    {
     "name": "stdout",
     "output_type": "stream",
     "text": [
      "{'ade': 0.45520878, 'fde': 0.99676365}\n",
      "\t last loss:0.000373605, eval on validation:['ade: 0.45520878', 'fde: 0.99676365'], (best ade:0.45289505 at step 34500) \n"
     ]
    },
    {
     "name": "stderr",
     "output_type": "stream",
     "text": [
      " 70%|███████   | 623/884 [00:29<00:12, 21.71it/s]\n",
      "  0%|          | 0/77 [00:00<?, ?it/s]\u001b[A"
     ]
    },
    {
     "name": "stdout",
     "output_type": "stream",
     "text": [
      "\tsaving model 35100...\n",
      "\tdone\n",
      "Evaluating\n"
     ]
    },
    {
     "name": "stderr",
     "output_type": "stream",
     "text": [
      "\n",
      " 12%|#1        | 9/77 [00:00<00:00, 80.48it/s]\u001b[A\n",
      " 22%|##2       | 17/77 [00:00<00:00, 80.02it/s]\u001b[A\n",
      " 32%|###2      | 25/77 [00:00<00:00, 79.88it/s]\u001b[A\n",
      " 43%|####2     | 33/77 [00:00<00:00, 79.71it/s]\u001b[A\n",
      " 53%|#####3    | 41/77 [00:00<00:00, 78.77it/s]\u001b[A\n",
      " 64%|######3   | 49/77 [00:00<00:00, 78.51it/s]\u001b[A\n",
      " 73%|#######2  | 56/77 [00:00<00:00, 74.36it/s]\u001b[A\n",
      " 83%|########3 | 64/77 [00:00<00:00, 74.68it/s]\u001b[A\n",
      " 94%|#########3| 72/77 [00:00<00:00, 75.79it/s]\u001b[A\n",
      " 71%|███████   | 626/884 [00:30<00:42,  6.03it/s]A"
     ]
    },
    {
     "name": "stdout",
     "output_type": "stream",
     "text": [
      "{'ade': 0.46569893, 'fde': 1.0220339}\n",
      "\t last loss:0.000238954, eval on validation:['ade: 0.46569893', 'fde: 1.0220339'], (best ade:0.45289505 at step 34500) \n"
     ]
    },
    {
     "name": "stderr",
     "output_type": "stream",
     "text": [
      "100%|██████████| 884/884 [00:41<00:00, 21.11it/s]\n",
      "  0%|          | 2/884 [00:00<00:58, 15.18it/s]"
     ]
    },
    {
     "name": "stdout",
     "output_type": "stream",
     "text": [
      "('Epoca 41.', 'lr:', 7.751911e-05)\n"
     ]
    },
    {
     "name": "stderr",
     "output_type": "stream",
     "text": [
      "  4%|▍         | 37/884 [00:01<00:35, 23.84it/s]\n",
      "  0%|          | 0/77 [00:00<?, ?it/s]\u001b[A"
     ]
    },
    {
     "name": "stdout",
     "output_type": "stream",
     "text": [
      "\tsaving model 35400...\n",
      "\tdone\n",
      "Evaluating\n"
     ]
    },
    {
     "name": "stderr",
     "output_type": "stream",
     "text": [
      "\n",
      " 12%|#1        | 9/77 [00:00<00:00, 86.67it/s]\u001b[A\n",
      " 23%|##3       | 18/77 [00:00<00:00, 86.28it/s]\u001b[A\n",
      " 35%|###5      | 27/77 [00:00<00:00, 85.90it/s]\u001b[A\n",
      " 47%|####6     | 36/77 [00:00<00:00, 85.12it/s]\u001b[A\n",
      " 58%|#####8    | 45/77 [00:00<00:00, 85.15it/s]\u001b[A\n",
      " 69%|######8   | 53/77 [00:00<00:00, 80.92it/s]\u001b[A\n",
      " 81%|########  | 62/77 [00:00<00:00, 81.35it/s]\u001b[A\n",
      " 92%|#########2| 71/77 [00:00<00:00, 82.42it/s]\u001b[A\n",
      "  5%|▍         | 43/884 [00:02<01:42,  8.24it/s][A"
     ]
    },
    {
     "name": "stdout",
     "output_type": "stream",
     "text": [
      "{'ade': 0.4583296, 'fde': 1.0047199}\n",
      "\t last loss:0.000241194, eval on validation:['ade: 0.4583296', 'fde: 1.0047199'], (best ade:0.45289505 at step 34500) \n"
     ]
    },
    {
     "name": "stderr",
     "output_type": "stream",
     "text": [
      " 38%|███▊      | 338/884 [00:18<00:41, 13.18it/s]"
     ]
    },
    {
     "name": "stdout",
     "output_type": "stream",
     "text": [
      "\tsaving model 35700...\n"
     ]
    },
    {
     "name": "stderr",
     "output_type": "stream",
     "text": [
      "\n",
      "  0%|          | 0/77 [00:00<?, ?it/s]\u001b[A\n",
      " 12%|#1        | 9/77 [00:00<00:00, 88.17it/s]\u001b[A"
     ]
    },
    {
     "name": "stdout",
     "output_type": "stream",
     "text": [
      "\tdone\n",
      "Evaluating\n"
     ]
    },
    {
     "name": "stderr",
     "output_type": "stream",
     "text": [
      "\n",
      " 23%|##3       | 18/77 [00:00<00:00, 87.09it/s]\u001b[A\n",
      " 34%|###3      | 26/77 [00:00<00:00, 84.16it/s]\u001b[A\n",
      " 44%|####4     | 34/77 [00:00<00:00, 81.73it/s]\u001b[A\n",
      " 53%|#####3    | 41/77 [00:00<00:00, 77.37it/s]\u001b[A\n",
      " 65%|######4   | 50/77 [00:00<00:00, 79.15it/s]\u001b[A\n",
      " 77%|#######6  | 59/77 [00:00<00:00, 80.97it/s]\u001b[A\n",
      " 88%|########8 | 68/77 [00:00<00:00, 82.99it/s]\u001b[A\n",
      " 39%|███▉      | 343/884 [00:20<01:42,  5.28it/s]A"
     ]
    },
    {
     "name": "stdout",
     "output_type": "stream",
     "text": [
      "{'ade': 0.45653036, 'fde': 0.99805605}\n",
      "\t last loss:0.000229081, eval on validation:['ade: 0.45653036', 'fde: 0.99805605'], (best ade:0.45289505 at step 34500) \n"
     ]
    },
    {
     "name": "stderr",
     "output_type": "stream",
     "text": [
      " 72%|███████▏  | 639/884 [00:34<00:10, 24.00it/s]\n",
      "  0%|          | 0/77 [00:00<?, ?it/s]\u001b[A"
     ]
    },
    {
     "name": "stdout",
     "output_type": "stream",
     "text": [
      "\tsaving model 36000...\n",
      "\tdone\n",
      "Evaluating\n"
     ]
    },
    {
     "name": "stderr",
     "output_type": "stream",
     "text": [
      "\n",
      " 13%|#2        | 10/77 [00:00<00:00, 91.91it/s]\u001b[A\n",
      " 23%|##3       | 18/77 [00:00<00:00, 87.59it/s]\u001b[A\n",
      " 36%|###6      | 28/77 [00:00<00:00, 89.07it/s]\u001b[A\n",
      " 49%|####9     | 38/77 [00:00<00:00, 89.53it/s]\u001b[A\n",
      " 61%|######1   | 47/77 [00:00<00:00, 88.31it/s]\u001b[A\n",
      " 73%|#######2  | 56/77 [00:00<00:00, 87.05it/s]\u001b[A\n",
      " 84%|########4 | 65/77 [00:00<00:00, 85.96it/s]\u001b[A\n",
      " 95%|#########4| 73/77 [00:00<00:00, 84.06it/s]\u001b[A\n",
      " 73%|███████▎  | 642/884 [00:35<00:37,  6.50it/s]A"
     ]
    },
    {
     "name": "stdout",
     "output_type": "stream",
     "text": [
      "{'ade': 0.45894492, 'fde': 1.0054184}\n",
      "\t last loss:0.000378868, eval on validation:['ade: 0.45894492', 'fde: 1.0054184'], (best ade:0.45289505 at step 34500) \n"
     ]
    },
    {
     "name": "stderr",
     "output_type": "stream",
     "text": [
      "100%|██████████| 884/884 [00:47<00:00, 18.64it/s]\n",
      "  0%|          | 1/884 [00:00<01:48,  8.13it/s]"
     ]
    },
    {
     "name": "stdout",
     "output_type": "stream",
     "text": [
      "('Epoca 42.', 'lr:', 7.751911e-05)\n"
     ]
    },
    {
     "name": "stderr",
     "output_type": "stream",
     "text": [
      "  6%|▌         | 55/884 [00:02<00:35, 23.24it/s]\n",
      "  0%|          | 0/77 [00:00<?, ?it/s]\u001b[A"
     ]
    },
    {
     "name": "stdout",
     "output_type": "stream",
     "text": [
      "\tsaving model 36300...\n",
      "\tdone\n",
      "Evaluating\n"
     ]
    },
    {
     "name": "stderr",
     "output_type": "stream",
     "text": [
      "\n",
      " 12%|#1        | 9/77 [00:00<00:00, 86.74it/s]\u001b[A\n",
      " 23%|##3       | 18/77 [00:00<00:00, 87.17it/s]\u001b[A\n",
      " 35%|###5      | 27/77 [00:00<00:00, 87.43it/s]\u001b[A\n",
      " 47%|####6     | 36/77 [00:00<00:00, 87.78it/s]\u001b[A\n",
      " 58%|#####8    | 45/77 [00:00<00:00, 87.60it/s]\u001b[A\n",
      " 69%|######8   | 53/77 [00:00<00:00, 83.86it/s]\u001b[A\n",
      " 81%|########  | 62/77 [00:00<00:00, 84.52it/s]\u001b[A\n",
      " 92%|#########2| 71/77 [00:00<00:00, 85.21it/s]\u001b[A\n",
      "  7%|▋         | 58/884 [00:03<02:04,  6.64it/s][A"
     ]
    },
    {
     "name": "stdout",
     "output_type": "stream",
     "text": [
      "{'ade': 0.45943764, 'fde': 1.0048018}\n",
      "\t last loss:0.000319829, eval on validation:['ade: 0.45943764', 'fde: 1.0048018'], (best ade:0.45289505 at step 34500) \n"
     ]
    },
    {
     "name": "stderr",
     "output_type": "stream",
     "text": [
      " 40%|████      | 354/884 [00:17<00:22, 23.36it/s]\n",
      "  0%|          | 0/77 [00:00<?, ?it/s]\u001b[A"
     ]
    },
    {
     "name": "stdout",
     "output_type": "stream",
     "text": [
      "\tsaving model 36600...\n",
      "\tdone\n",
      "Evaluating\n"
     ]
    },
    {
     "name": "stderr",
     "output_type": "stream",
     "text": [
      "\n",
      " 12%|#1        | 9/77 [00:00<00:00, 82.23it/s]\u001b[A\n",
      " 22%|##2       | 17/77 [00:00<00:00, 78.24it/s]\u001b[A\n",
      " 32%|###2      | 25/77 [00:00<00:00, 77.73it/s]\u001b[A\n",
      " 43%|####2     | 33/77 [00:00<00:00, 77.30it/s]\u001b[A\n",
      " 53%|#####3    | 41/77 [00:00<00:00, 77.54it/s]\u001b[A\n",
      " 64%|######3   | 49/77 [00:00<00:00, 77.86it/s]\u001b[A\n",
      " 74%|#######4  | 57/77 [00:00<00:00, 78.28it/s]\u001b[A\n",
      " 84%|########4 | 65/77 [00:00<00:00, 78.53it/s]\u001b[A\n",
      " 95%|#########4| 73/77 [00:00<00:00, 78.46it/s]\u001b[A\n",
      " 40%|████      | 357/884 [00:18<01:25,  6.15it/s]A"
     ]
    },
    {
     "name": "stdout",
     "output_type": "stream",
     "text": [
      "{'ade': 0.45488456, 'fde': 0.99487543}\n",
      "\t last loss:0.000215814, eval on validation:['ade: 0.45488456', 'fde: 0.99487543'], (best ade:0.45289505 at step 34500) \n"
     ]
    },
    {
     "name": "stderr",
     "output_type": "stream",
     "text": [
      " 74%|███████▍  | 654/884 [00:32<00:08, 26.43it/s]\n",
      "  0%|          | 0/77 [00:00<?, ?it/s]\u001b[A"
     ]
    },
    {
     "name": "stdout",
     "output_type": "stream",
     "text": [
      "\tsaving model 36900...\n",
      "\tdone\n",
      "Evaluating\n"
     ]
    },
    {
     "name": "stderr",
     "output_type": "stream",
     "text": [
      "\n",
      " 13%|#2        | 10/77 [00:00<00:00, 97.94it/s]\u001b[A\n",
      " 26%|##5       | 20/77 [00:00<00:00, 97.12it/s]\u001b[A\n",
      " 39%|###8      | 30/77 [00:00<00:00, 96.85it/s]\u001b[A\n",
      " 52%|#####1    | 40/77 [00:00<00:00, 96.23it/s]\u001b[A\n",
      " 64%|######3   | 49/77 [00:00<00:00, 91.88it/s]\u001b[A\n",
      " 77%|#######6  | 59/77 [00:00<00:00, 92.39it/s]\u001b[A\n",
      " 90%|########9 | 69/77 [00:00<00:00, 92.94it/s]\u001b[A\n",
      " 75%|███████▍  | 660/884 [00:33<00:23,  9.35it/s]A"
     ]
    },
    {
     "name": "stdout",
     "output_type": "stream",
     "text": [
      "{'ade': 0.4690638, 'fde': 1.0328112}\n",
      "\t last loss:0.000201949, eval on validation:['ade: 0.4690638', 'fde: 1.0328112'], (best ade:0.45289505 at step 34500) \n"
     ]
    },
    {
     "name": "stderr",
     "output_type": "stream",
     "text": [
      "100%|██████████| 884/884 [00:43<00:00, 20.43it/s]\n",
      "  0%|          | 1/884 [00:00<01:40,  8.80it/s]"
     ]
    },
    {
     "name": "stdout",
     "output_type": "stream",
     "text": [
      "('Epoca 43.', 'lr:', 6.589125e-05)\n"
     ]
    },
    {
     "name": "stderr",
     "output_type": "stream",
     "text": [
      "  8%|▊         | 70/884 [00:03<00:35, 23.02it/s]\n",
      "  0%|          | 0/77 [00:00<?, ?it/s]\u001b[A"
     ]
    },
    {
     "name": "stdout",
     "output_type": "stream",
     "text": [
      "\tsaving model 37200...\n",
      "\tdone\n",
      "Evaluating\n"
     ]
    },
    {
     "name": "stderr",
     "output_type": "stream",
     "text": [
      "\n",
      " 12%|#1        | 9/77 [00:00<00:00, 81.69it/s]\u001b[A\n",
      " 22%|##2       | 17/77 [00:00<00:00, 80.90it/s]\u001b[A\n",
      " 32%|###2      | 25/77 [00:00<00:00, 80.26it/s]\u001b[A\n",
      " 43%|####2     | 33/77 [00:00<00:00, 79.29it/s]\u001b[A\n",
      " 52%|#####1    | 40/77 [00:00<00:00, 75.39it/s]\u001b[A\n",
      " 62%|######2   | 48/77 [00:00<00:00, 75.92it/s]\u001b[A\n",
      " 73%|#######2  | 56/77 [00:00<00:00, 76.44it/s]\u001b[A\n",
      " 83%|########3 | 64/77 [00:00<00:00, 76.99it/s]\u001b[A\n",
      " 94%|#########3| 72/77 [00:00<00:00, 77.49it/s]\u001b[A\n",
      "  9%|▊         | 76/884 [00:04<01:41,  7.94it/s][A"
     ]
    },
    {
     "name": "stdout",
     "output_type": "stream",
     "text": [
      "{'ade': 0.46142572, 'fde': 1.0112629}\n",
      "\t last loss:0.000455896, eval on validation:['ade: 0.46142572', 'fde: 1.0112629'], (best ade:0.45289505 at step 34500) \n"
     ]
    },
    {
     "name": "stderr",
     "output_type": "stream",
     "text": [
      " 42%|████▏     | 370/884 [00:17<00:33, 15.17it/s]"
     ]
    },
    {
     "name": "stdout",
     "output_type": "stream",
     "text": [
      "\tsaving model 37500...\n"
     ]
    },
    {
     "name": "stderr",
     "output_type": "stream",
     "text": [
      "\n",
      "  0%|          | 0/77 [00:00<?, ?it/s]\u001b[A\n",
      "  6%|6         | 5/77 [00:00<00:01, 48.81it/s]\u001b[A"
     ]
    },
    {
     "name": "stdout",
     "output_type": "stream",
     "text": [
      "\tdone\n",
      "Evaluating\n"
     ]
    },
    {
     "name": "stderr",
     "output_type": "stream",
     "text": [
      "\n",
      " 13%|#2        | 10/77 [00:00<00:01, 48.69it/s]\u001b[A\n",
      " 19%|#9        | 15/77 [00:00<00:01, 47.03it/s]\u001b[A\n",
      " 25%|##4       | 19/77 [00:00<00:01, 43.49it/s]\u001b[A\n",
      " 31%|###1      | 24/77 [00:00<00:01, 43.33it/s]\u001b[A\n",
      " 36%|###6      | 28/77 [00:00<00:01, 42.15it/s]\u001b[A\n",
      " 43%|####2     | 33/77 [00:00<00:01, 42.52it/s]\u001b[A\n",
      " 49%|####9     | 38/77 [00:00<00:00, 43.19it/s]\u001b[A\n",
      " 56%|#####5    | 43/77 [00:00<00:00, 44.52it/s]\u001b[A\n",
      " 62%|######2   | 48/77 [00:01<00:00, 43.94it/s]\u001b[A\n",
      " 69%|######8   | 53/77 [00:01<00:00, 45.37it/s]\u001b[A\n",
      " 78%|#######7  | 60/77 [00:01<00:00, 50.32it/s]\u001b[A\n",
      " 87%|########7 | 67/77 [00:01<00:00, 53.71it/s]\u001b[A\n",
      " 97%|#########7| 75/77 [00:01<00:00, 58.42it/s]\u001b[A\n",
      " 42%|████▏     | 375/884 [00:19<02:05,  4.07it/s]A"
     ]
    },
    {
     "name": "stdout",
     "output_type": "stream",
     "text": [
      "{'ade': 0.45757166, 'fde': 1.00119}\n",
      "\t last loss:0.000314374, eval on validation:['ade: 0.45757166', 'fde: 1.00119'], (best ade:0.45289505 at step 34500) \n"
     ]
    },
    {
     "name": "stderr",
     "output_type": "stream",
     "text": [
      " 76%|███████▌  | 669/884 [00:32<00:08, 25.05it/s]\n",
      "  0%|          | 0/77 [00:00<?, ?it/s]\u001b[A"
     ]
    },
    {
     "name": "stdout",
     "output_type": "stream",
     "text": [
      "\tsaving model 37800...\n",
      "\tdone\n",
      "Evaluating\n"
     ]
    },
    {
     "name": "stderr",
     "output_type": "stream",
     "text": [
      "\n",
      "  9%|9         | 7/77 [00:00<00:01, 68.75it/s]\u001b[A\n",
      " 18%|#8        | 14/77 [00:00<00:00, 69.05it/s]\u001b[A\n",
      " 27%|##7       | 21/77 [00:00<00:00, 69.19it/s]\u001b[A\n",
      " 36%|###6      | 28/77 [00:00<00:00, 67.47it/s]\u001b[A\n",
      " 45%|####5     | 35/77 [00:00<00:00, 66.86it/s]\u001b[A\n",
      " 55%|#####4    | 42/77 [00:00<00:00, 66.85it/s]\u001b[A\n",
      " 64%|######3   | 49/77 [00:00<00:00, 67.47it/s]\u001b[A\n",
      " 74%|#######4  | 57/77 [00:00<00:00, 68.60it/s]\u001b[A\n",
      " 83%|########3 | 64/77 [00:00<00:00, 68.82it/s]\u001b[A\n",
      " 92%|#########2| 71/77 [00:01<00:00, 68.58it/s]\u001b[A\n",
      " 76%|███████▋  | 675/884 [00:33<00:28,  7.38it/s]A"
     ]
    },
    {
     "name": "stdout",
     "output_type": "stream",
     "text": [
      "{'ade': 0.4569643, 'fde': 1.0015996}\n",
      "\t last loss:0.000501730, eval on validation:['ade: 0.4569643', 'fde: 1.0015996'], (best ade:0.45289505 at step 34500) \n"
     ]
    },
    {
     "name": "stderr",
     "output_type": "stream",
     "text": [
      "100%|██████████| 884/884 [00:44<00:00, 23.87it/s]\n",
      "  0%|          | 1/884 [00:00<01:30,  9.71it/s]"
     ]
    },
    {
     "name": "stdout",
     "output_type": "stream",
     "text": [
      "('Epoca 44.', 'lr:', 6.589125e-05)\n"
     ]
    },
    {
     "name": "stderr",
     "output_type": "stream",
     "text": [
      " 10%|▉         | 85/884 [00:03<00:39, 20.25it/s]\n",
      "  0%|          | 0/77 [00:00<?, ?it/s]\u001b[A"
     ]
    },
    {
     "name": "stdout",
     "output_type": "stream",
     "text": [
      "\tsaving model 38100...\n",
      "\tdone\n",
      "Evaluating\n"
     ]
    },
    {
     "name": "stderr",
     "output_type": "stream",
     "text": [
      "\n",
      " 13%|#2        | 10/77 [00:00<00:00, 92.13it/s]\u001b[A\n",
      " 26%|##5       | 20/77 [00:00<00:00, 92.59it/s]\u001b[A\n",
      " 39%|###8      | 30/77 [00:00<00:00, 92.68it/s]\u001b[A\n",
      " 51%|#####     | 39/77 [00:00<00:00, 89.48it/s]\u001b[A\n",
      " 60%|#####9    | 46/77 [00:00<00:00, 67.64it/s]\u001b[A\n",
      " 69%|######8   | 53/77 [00:00<00:00, 57.84it/s]\u001b[A\n",
      " 77%|#######6  | 59/77 [00:00<00:00, 48.94it/s]\u001b[A\n",
      " 83%|########3 | 64/77 [00:01<00:00, 47.93it/s]\u001b[A\n",
      " 94%|#########3| 72/77 [00:01<00:00, 54.41it/s]\u001b[A\n",
      " 10%|█         | 91/884 [00:05<01:57,  6.74it/s][A"
     ]
    },
    {
     "name": "stdout",
     "output_type": "stream",
     "text": [
      "{'ade': 0.46008497, 'fde': 1.0099036}\n",
      "\t last loss:0.000336057, eval on validation:['ade: 0.46008497', 'fde: 1.0099036'], (best ade:0.45289505 at step 34500) \n"
     ]
    },
    {
     "name": "stderr",
     "output_type": "stream",
     "text": [
      " 44%|████▎     | 385/884 [00:22<00:18, 26.61it/s]\n",
      "  0%|          | 0/77 [00:00<?, ?it/s]\u001b[A"
     ]
    },
    {
     "name": "stdout",
     "output_type": "stream",
     "text": [
      "\tsaving model 38400...\n",
      "\tdone\n",
      "Evaluating\n"
     ]
    },
    {
     "name": "stderr",
     "output_type": "stream",
     "text": [
      "\n",
      " 12%|#1        | 9/77 [00:00<00:00, 85.19it/s]\u001b[A\n",
      " 23%|##3       | 18/77 [00:00<00:00, 86.47it/s]\u001b[A\n",
      " 36%|###6      | 28/77 [00:00<00:00, 88.11it/s]\u001b[A\n",
      " 49%|####9     | 38/77 [00:00<00:00, 88.82it/s]\u001b[A\n",
      " 58%|#####8    | 45/77 [00:00<00:00, 75.30it/s]\u001b[A\n",
      " 68%|######7   | 52/77 [00:00<00:00, 63.47it/s]\u001b[A\n",
      " 75%|#######5  | 58/77 [00:00<00:00, 57.39it/s]\u001b[A\n",
      " 86%|########5 | 66/77 [00:00<00:00, 61.43it/s]\u001b[A\n",
      " 99%|#########8| 76/77 [00:01<00:00, 68.38it/s]\u001b[A\n",
      " 44%|████▍     | 391/884 [00:23<01:01,  7.98it/s]A"
     ]
    },
    {
     "name": "stdout",
     "output_type": "stream",
     "text": [
      "{'ade': 0.45669767, 'fde': 1.0007213}\n",
      "\t last loss:0.000288161, eval on validation:['ade: 0.45669767', 'fde: 1.0007213'], (best ade:0.45289505 at step 34500) \n"
     ]
    },
    {
     "name": "stderr",
     "output_type": "stream",
     "text": [
      " 78%|███████▊  | 687/884 [00:38<00:09, 21.83it/s]\n",
      "  0%|          | 0/77 [00:00<?, ?it/s]\u001b[A"
     ]
    },
    {
     "name": "stdout",
     "output_type": "stream",
     "text": [
      "\tsaving model 38700...\n",
      "\tdone\n",
      "Evaluating\n"
     ]
    },
    {
     "name": "stderr",
     "output_type": "stream",
     "text": [
      "\n",
      " 13%|#2        | 10/77 [00:00<00:00, 88.47it/s]\u001b[A\n",
      " 25%|##4       | 19/77 [00:00<00:00, 87.32it/s]\u001b[A\n",
      " 36%|###6      | 28/77 [00:00<00:00, 87.51it/s]\u001b[A\n",
      " 47%|####6     | 36/77 [00:00<00:00, 82.84it/s]\u001b[A\n",
      " 57%|#####7    | 44/77 [00:00<00:00, 80.44it/s]\u001b[A\n",
      " 66%|######6   | 51/77 [00:00<00:00, 72.14it/s]\u001b[A\n",
      " 75%|#######5  | 58/77 [00:00<00:00, 70.57it/s]\u001b[A\n",
      " 84%|########4 | 65/77 [00:00<00:00, 65.92it/s]\u001b[A\n",
      " 94%|#########3| 72/77 [00:01<00:00, 58.88it/s]\u001b[A\n",
      " 78%|███████▊  | 690/884 [00:39<00:34,  5.57it/s]A"
     ]
    },
    {
     "name": "stdout",
     "output_type": "stream",
     "text": [
      "{'ade': 0.45628622, 'fde': 0.99876755}\n",
      "\t last loss:0.000272700, eval on validation:['ade: 0.45628622', 'fde: 0.99876755'], (best ade:0.45289505 at step 34500) \n"
     ]
    },
    {
     "name": "stderr",
     "output_type": "stream",
     "text": [
      "100%|██████████| 884/884 [00:49<00:00, 22.37it/s]\n",
      "  0%|          | 1/884 [00:00<01:36,  9.13it/s]"
     ]
    },
    {
     "name": "stdout",
     "output_type": "stream",
     "text": [
      "('Epoca 45.', 'lr:', 5.600756e-05)\n"
     ]
    },
    {
     "name": "stderr",
     "output_type": "stream",
     "text": [
      " 12%|█▏        | 103/884 [00:04<00:31, 24.89it/s]\n",
      "  0%|          | 0/77 [00:00<?, ?it/s]\u001b[A"
     ]
    },
    {
     "name": "stdout",
     "output_type": "stream",
     "text": [
      "\tsaving model 39000...\n",
      "\tdone\n",
      "Evaluating\n"
     ]
    },
    {
     "name": "stderr",
     "output_type": "stream",
     "text": [
      "\n",
      " 12%|#1        | 9/77 [00:00<00:00, 81.40it/s]\u001b[A\n",
      " 23%|##3       | 18/77 [00:00<00:00, 82.67it/s]\u001b[A\n",
      " 35%|###5      | 27/77 [00:00<00:00, 83.73it/s]\u001b[A\n",
      " 47%|####6     | 36/77 [00:00<00:00, 84.71it/s]\u001b[A\n",
      " 58%|#####8    | 45/77 [00:00<00:00, 85.18it/s]\u001b[A\n",
      " 70%|#######   | 54/77 [00:00<00:00, 85.88it/s]\u001b[A\n",
      " 82%|########1 | 63/77 [00:00<00:00, 86.70it/s]\u001b[A\n",
      " 94%|#########3| 72/77 [00:00<00:00, 87.14it/s]\u001b[A\n",
      " 12%|█▏        | 106/884 [00:05<01:56,  6.66it/s]A"
     ]
    },
    {
     "name": "stdout",
     "output_type": "stream",
     "text": [
      "{'ade': 0.45651165, 'fde': 0.9996287}\n",
      "\t last loss:0.000342010, eval on validation:['ade: 0.45651165', 'fde: 0.9996287'], (best ade:0.45289505 at step 34500) \n"
     ]
    },
    {
     "name": "stderr",
     "output_type": "stream",
     "text": [
      " 46%|████▌     | 403/884 [00:19<00:20, 23.56it/s]\n",
      "  0%|          | 0/77 [00:00<?, ?it/s]\u001b[A"
     ]
    },
    {
     "name": "stdout",
     "output_type": "stream",
     "text": [
      "\tsaving model 39300...\n",
      "\tdone\n",
      "Evaluating\n"
     ]
    },
    {
     "name": "stderr",
     "output_type": "stream",
     "text": [
      "\n",
      " 12%|#1        | 9/77 [00:00<00:00, 87.75it/s]\u001b[A\n",
      " 23%|##3       | 18/77 [00:00<00:00, 87.18it/s]\u001b[A\n",
      " 35%|###5      | 27/77 [00:00<00:00, 86.36it/s]\u001b[A\n",
      " 44%|####4     | 34/77 [00:00<00:00, 79.46it/s]\u001b[A\n",
      " 56%|#####5    | 43/77 [00:00<00:00, 80.34it/s]\u001b[A\n",
      " 68%|######7   | 52/77 [00:00<00:00, 81.44it/s]\u001b[A\n",
      " 79%|#######9  | 61/77 [00:00<00:00, 82.04it/s]\u001b[A\n",
      " 91%|######### | 70/77 [00:00<00:00, 83.20it/s]\u001b[A\n",
      " 46%|████▌     | 406/884 [00:20<01:13,  6.53it/s]A"
     ]
    },
    {
     "name": "stdout",
     "output_type": "stream",
     "text": [
      "{'ade': 0.4543541, 'fde': 0.9909147}\n",
      "\t last loss:0.000216576, eval on validation:['ade: 0.4543541', 'fde: 0.9909147'], (best ade:0.45289505 at step 34500) \n"
     ]
    },
    {
     "name": "stderr",
     "output_type": "stream",
     "text": [
      " 79%|███████▉  | 701/884 [00:35<00:09, 19.17it/s]\n",
      "  0%|          | 0/77 [00:00<?, ?it/s]\u001b[A"
     ]
    },
    {
     "name": "stdout",
     "output_type": "stream",
     "text": [
      "\tsaving model 39600...\n",
      "\tdone\n",
      "Evaluating\n"
     ]
    },
    {
     "name": "stderr",
     "output_type": "stream",
     "text": [
      "\n",
      " 13%|#2        | 10/77 [00:00<00:00, 94.32it/s]\u001b[A\n",
      " 22%|##2       | 17/77 [00:00<00:00, 83.15it/s]\u001b[A\n",
      " 31%|###1      | 24/77 [00:00<00:00, 74.86it/s]\u001b[A\n",
      " 40%|####      | 31/77 [00:00<00:00, 72.44it/s]\u001b[A\n",
      " 48%|####8     | 37/77 [00:00<00:00, 67.53it/s]\u001b[A\n",
      " 56%|#####5    | 43/77 [00:00<00:00, 62.87it/s]\u001b[A\n",
      " 64%|######3   | 49/77 [00:00<00:00, 59.63it/s]\u001b[A\n",
      " 71%|#######1  | 55/77 [00:00<00:00, 58.78it/s]\u001b[A\n",
      " 81%|########  | 62/77 [00:00<00:00, 60.40it/s]\u001b[A\n",
      " 90%|########9 | 69/77 [00:01<00:00, 61.32it/s]\u001b[A\n",
      " 99%|#########8| 76/77 [00:01<00:00, 63.03it/s]\u001b[A\n",
      " 80%|███████▉  | 707/884 [00:37<00:25,  6.81it/s]A"
     ]
    },
    {
     "name": "stdout",
     "output_type": "stream",
     "text": [
      "{'ade': 0.45767874, 'fde': 1.0030953}\n",
      "\t last loss:0.000236965, eval on validation:['ade: 0.45767874', 'fde: 1.0030953'], (best ade:0.45289505 at step 34500) \n"
     ]
    },
    {
     "name": "stderr",
     "output_type": "stream",
     "text": [
      "100%|██████████| 884/884 [00:45<00:00, 19.29it/s]\n",
      "  0%|          | 3/884 [00:00<00:37, 23.51it/s]"
     ]
    },
    {
     "name": "stdout",
     "output_type": "stream",
     "text": [
      "('Epoca 46.', 'lr:', 5.600756e-05)\n"
     ]
    },
    {
     "name": "stderr",
     "output_type": "stream",
     "text": [
      " 13%|█▎        | 118/884 [00:06<00:58, 13.05it/s]"
     ]
    },
    {
     "name": "stdout",
     "output_type": "stream",
     "text": [
      "\tsaving model 39900...\n"
     ]
    },
    {
     "name": "stderr",
     "output_type": "stream",
     "text": [
      "\n",
      "  0%|          | 0/77 [00:00<?, ?it/s]\u001b[A\n",
      "  5%|5         | 4/77 [00:00<00:01, 37.57it/s]\u001b[A"
     ]
    },
    {
     "name": "stdout",
     "output_type": "stream",
     "text": [
      "\tdone\n",
      "Evaluating\n"
     ]
    },
    {
     "name": "stderr",
     "output_type": "stream",
     "text": [
      "\n",
      " 10%|#         | 8/77 [00:00<00:01, 37.86it/s]\u001b[A\n",
      " 17%|#6        | 13/77 [00:00<00:01, 40.36it/s]\u001b[A\n",
      " 23%|##3       | 18/77 [00:00<00:01, 41.63it/s]\u001b[A\n",
      " 30%|##9       | 23/77 [00:00<00:01, 43.19it/s]\u001b[A\n",
      " 36%|###6      | 28/77 [00:00<00:01, 44.87it/s]\u001b[A\n",
      " 44%|####4     | 34/77 [00:00<00:00, 46.95it/s]\u001b[A\n",
      " 52%|#####1    | 40/77 [00:00<00:00, 47.92it/s]\u001b[A\n",
      " 60%|#####9    | 46/77 [00:00<00:00, 48.95it/s]\u001b[A\n",
      " 66%|######6   | 51/77 [00:01<00:00, 42.85it/s]\u001b[A\n",
      " 73%|#######2  | 56/77 [00:01<00:00, 43.03it/s]\u001b[A\n",
      " 79%|#######9  | 61/77 [00:01<00:00, 44.62it/s]\u001b[A\n",
      " 86%|########5 | 66/77 [00:01<00:00, 45.31it/s]\u001b[A\n",
      " 92%|#########2| 71/77 [00:01<00:00, 46.42it/s]\u001b[A\n",
      " 99%|#########8| 76/77 [00:01<00:00, 47.34it/s]\u001b[A\n",
      " 14%|█▍        | 122/884 [00:08<03:34,  3.56it/s]A"
     ]
    },
    {
     "name": "stdout",
     "output_type": "stream",
     "text": [
      "{'ade': 0.45594525, 'fde': 0.99639505}\n",
      "\t last loss:0.000147650, eval on validation:['ade: 0.45594525', 'fde: 0.99639505'], (best ade:0.45289505 at step 34500) \n"
     ]
    },
    {
     "name": "stderr",
     "output_type": "stream",
     "text": [
      " 47%|████▋     | 418/884 [00:25<00:18, 24.85it/s]\n",
      "  0%|          | 0/77 [00:00<?, ?it/s]\u001b[A"
     ]
    },
    {
     "name": "stdout",
     "output_type": "stream",
     "text": [
      "\tsaving model 40200...\n",
      "\tdone\n",
      "Evaluating\n"
     ]
    },
    {
     "name": "stderr",
     "output_type": "stream",
     "text": [
      "\n",
      " 13%|#2        | 10/77 [00:00<00:00, 95.91it/s]\u001b[A\n",
      " 25%|##4       | 19/77 [00:00<00:00, 91.68it/s]\u001b[A\n",
      " 38%|###7      | 29/77 [00:00<00:00, 92.19it/s]\u001b[A\n",
      " 51%|#####     | 39/77 [00:00<00:00, 92.78it/s]\u001b[A\n",
      " 64%|######3   | 49/77 [00:00<00:00, 92.54it/s]\u001b[A\n",
      " 77%|#######6  | 59/77 [00:00<00:00, 93.23it/s]\u001b[A\n",
      " 90%|########9 | 69/77 [00:00<00:00, 93.63it/s]\u001b[A\n",
      " 48%|████▊     | 424/884 [00:26<00:50,  9.17it/s]A"
     ]
    },
    {
     "name": "stdout",
     "output_type": "stream",
     "text": [
      "{'ade': 0.46175677, 'fde': 1.01089}\n",
      "\t last loss:0.000287991, eval on validation:['ade: 0.46175677', 'fde: 1.01089'], (best ade:0.45289505 at step 34500) \n"
     ]
    },
    {
     "name": "stderr",
     "output_type": "stream",
     "text": [
      " 81%|████████  | 718/884 [00:41<00:10, 15.47it/s]"
     ]
    },
    {
     "name": "stdout",
     "output_type": "stream",
     "text": [
      "\tsaving model 40500...\n"
     ]
    },
    {
     "name": "stderr",
     "output_type": "stream",
     "text": [
      "\n",
      "  0%|          | 0/77 [00:00<?, ?it/s]\u001b[A\n",
      " 13%|#2        | 10/77 [00:00<00:00, 91.56it/s]\u001b[A"
     ]
    },
    {
     "name": "stdout",
     "output_type": "stream",
     "text": [
      "\tdone\n",
      "Evaluating\n"
     ]
    },
    {
     "name": "stderr",
     "output_type": "stream",
     "text": [
      "\n",
      " 26%|##5       | 20/77 [00:00<00:00, 91.19it/s]\u001b[A\n",
      " 36%|###6      | 28/77 [00:00<00:00, 87.37it/s]\u001b[A\n",
      " 48%|####8     | 37/77 [00:00<00:00, 87.12it/s]\u001b[A\n",
      " 61%|######1   | 47/77 [00:00<00:00, 88.38it/s]\u001b[A\n",
      " 74%|#######4  | 57/77 [00:00<00:00, 89.40it/s]\u001b[A\n",
      " 87%|########7 | 67/77 [00:00<00:00, 89.99it/s]\u001b[A\n",
      " 82%|████████▏ | 723/884 [00:42<00:27,  5.81it/s]A"
     ]
    },
    {
     "name": "stdout",
     "output_type": "stream",
     "text": [
      "{'ade': 0.45543978, 'fde': 0.9973257}\n",
      "\t last loss:0.000481284, eval on validation:['ade: 0.45543978', 'fde: 0.9973257'], (best ade:0.45289505 at step 34500) \n"
     ]
    },
    {
     "name": "stderr",
     "output_type": "stream",
     "text": [
      "100%|██████████| 884/884 [00:49<00:00, 22.53it/s]\n",
      "  0%|          | 2/884 [00:00<00:55, 15.78it/s]"
     ]
    },
    {
     "name": "stdout",
     "output_type": "stream",
     "text": [
      "('Epoca 47.', 'lr:', 4.7606427e-05)\n"
     ]
    },
    {
     "name": "stderr",
     "output_type": "stream",
     "text": [
      " 15%|█▌        | 134/884 [00:07<00:37, 20.26it/s]"
     ]
    },
    {
     "name": "stdout",
     "output_type": "stream",
     "text": [
      "\tsaving model 40800...\n"
     ]
    },
    {
     "name": "stderr",
     "output_type": "stream",
     "text": [
      "\n",
      "  0%|          | 0/77 [00:00<?, ?it/s]\u001b[A\n",
      " 10%|#         | 8/77 [00:00<00:00, 76.72it/s]\u001b[A\n",
      " 21%|##        | 16/77 [00:00<00:00, 76.14it/s]\u001b[A\n",
      " 31%|###1      | 24/77 [00:00<00:00, 75.57it/s]\u001b[A\n",
      " 42%|####1     | 32/77 [00:00<00:00, 76.45it/s]\u001b[A\n",
      " 53%|#####3    | 41/77 [00:00<00:00, 78.51it/s]\u001b[A\n",
      " 64%|######3   | 49/77 [00:00<00:00, 77.03it/s]\u001b[A\n",
      " 75%|#######5  | 58/77 [00:00<00:00, 78.70it/s]\u001b[A\n",
      " 87%|########7 | 67/77 [00:00<00:00, 79.61it/s]\u001b[A\n",
      " 99%|#########8| 76/77 [00:00<00:00, 80.94it/s]\u001b[A\n",
      " 15%|█▌        | 137/884 [00:08<02:04,  5.98it/s]A"
     ]
    },
    {
     "name": "stdout",
     "output_type": "stream",
     "text": [
      "\tdone\n",
      "Evaluating\n",
      "{'ade': 0.46486273, 'fde': 1.0158204}\n",
      "\t last loss:0.000281594, eval on validation:['ade: 0.46486273', 'fde: 1.0158204'], (best ade:0.45289505 at step 34500) \n"
     ]
    },
    {
     "name": "stderr",
     "output_type": "stream",
     "text": [
      " 49%|████▉     | 434/884 [00:25<00:24, 18.57it/s]\n",
      "  0%|          | 0/77 [00:00<?, ?it/s]"
     ]
    },
    {
     "name": "stdout",
     "output_type": "stream",
     "text": [
      "\tsaving model 41100...\n",
      "\tdone\n",
      "Evaluating\n"
     ]
    },
    {
     "name": "stderr",
     "output_type": "stream",
     "text": [
      "\u001b[A\n",
      " 10%|#         | 8/77 [00:00<00:00, 76.67it/s]\u001b[A\n",
      " 21%|##        | 16/77 [00:00<00:00, 76.37it/s]\u001b[A\n",
      " 30%|##9       | 23/77 [00:00<00:00, 74.12it/s]\u001b[A\n",
      " 39%|###8      | 30/77 [00:00<00:00, 70.26it/s]\u001b[A\n",
      " 48%|####8     | 37/77 [00:00<00:00, 69.96it/s]\u001b[A\n",
      " 58%|#####8    | 45/77 [00:00<00:00, 71.51it/s]\u001b[A\n",
      " 69%|######8   | 53/77 [00:00<00:00, 72.65it/s]\u001b[A\n",
      " 79%|#######9  | 61/77 [00:00<00:00, 72.35it/s]\u001b[A\n",
      " 88%|########8 | 68/77 [00:00<00:00, 71.04it/s]\u001b[A\n",
      " 99%|#########8| 76/77 [00:01<00:00, 72.03it/s]\u001b[A\n",
      " 50%|████▉     | 439/884 [00:27<01:03,  7.05it/s]A"
     ]
    },
    {
     "name": "stdout",
     "output_type": "stream",
     "text": [
      "{'ade': 0.45562917, 'fde': 0.9966114}\n",
      "\t last loss:0.000273862, eval on validation:['ade: 0.45562917', 'fde: 0.9966114'], (best ade:0.45289505 at step 34500) \n"
     ]
    },
    {
     "name": "stderr",
     "output_type": "stream",
     "text": [
      " 83%|████████▎ | 733/884 [00:43<00:08, 17.04it/s]\n",
      "  0%|          | 0/77 [00:00<?, ?it/s]\u001b[A"
     ]
    },
    {
     "name": "stdout",
     "output_type": "stream",
     "text": [
      "\tsaving model 41400...\n",
      "\tdone\n",
      "Evaluating\n"
     ]
    },
    {
     "name": "stderr",
     "output_type": "stream",
     "text": [
      "\n",
      " 13%|#2        | 10/77 [00:00<00:00, 93.65it/s]\u001b[A\n",
      " 19%|#9        | 15/77 [00:00<00:00, 73.52it/s]\u001b[A\n",
      " 25%|##4       | 19/77 [00:00<00:01, 55.91it/s]\u001b[A\n",
      " 30%|##9       | 23/77 [00:00<00:01, 49.26it/s]\u001b[A\n",
      " 36%|###6      | 28/77 [00:00<00:01, 47.44it/s]\u001b[A\n",
      " 48%|####8     | 37/77 [00:00<00:00, 55.00it/s]\u001b[A\n",
      " 61%|######1   | 47/77 [00:00<00:00, 62.57it/s]\u001b[A\n",
      " 73%|#######2  | 56/77 [00:00<00:00, 68.40it/s]\u001b[A\n",
      " 86%|########5 | 66/77 [00:00<00:00, 74.25it/s]\u001b[A\n",
      " 99%|#########8| 76/77 [00:01<00:00, 78.56it/s]\u001b[A\n",
      " 84%|████████▎ | 739/884 [00:44<00:20,  7.24it/s]A"
     ]
    },
    {
     "name": "stdout",
     "output_type": "stream",
     "text": [
      "{'ade': 0.46010953, 'fde': 1.0077466}\n",
      "\t last loss:0.000471873, eval on validation:['ade: 0.46010953', 'fde: 1.0077466'], (best ade:0.45289505 at step 34500) \n"
     ]
    },
    {
     "name": "stderr",
     "output_type": "stream",
     "text": [
      "100%|██████████| 884/884 [00:50<00:00, 17.41it/s]\n",
      "  0%|          | 1/884 [00:00<01:34,  9.30it/s]"
     ]
    },
    {
     "name": "stdout",
     "output_type": "stream",
     "text": [
      "('Epoca 48.', 'lr:', 4.7606427e-05)\n"
     ]
    },
    {
     "name": "stderr",
     "output_type": "stream",
     "text": [
      " 17%|█▋        | 150/884 [00:07<00:50, 14.64it/s]\n",
      "  0%|          | 0/77 [00:00<?, ?it/s]\u001b[A"
     ]
    },
    {
     "name": "stdout",
     "output_type": "stream",
     "text": [
      "\tsaving model 41700...\n",
      "\tdone\n",
      "Evaluating\n"
     ]
    },
    {
     "name": "stderr",
     "output_type": "stream",
     "text": [
      "\n",
      " 13%|#2        | 10/77 [00:00<00:00, 94.32it/s]\u001b[A\n",
      " 25%|##4       | 19/77 [00:00<00:00, 92.87it/s]\u001b[A\n",
      " 38%|###7      | 29/77 [00:00<00:00, 93.17it/s]\u001b[A\n",
      " 51%|#####     | 39/77 [00:00<00:00, 92.46it/s]\u001b[A\n",
      " 61%|######1   | 47/77 [00:00<00:00, 87.06it/s]\u001b[A\n",
      " 73%|#######2  | 56/77 [00:00<00:00, 87.83it/s]\u001b[A\n",
      " 86%|########5 | 66/77 [00:00<00:00, 89.08it/s]\u001b[A\n",
      " 99%|#########8| 76/77 [00:00<00:00, 89.89it/s]\u001b[A\n",
      " 17%|█▋        | 154/884 [00:08<02:05,  5.82it/s]A"
     ]
    },
    {
     "name": "stdout",
     "output_type": "stream",
     "text": [
      "{'ade': 0.45638672, 'fde': 0.99748534}\n",
      "\t last loss:0.000318237, eval on validation:['ade: 0.45638672', 'fde: 0.99748534'], (best ade:0.45289505 at step 34500) \n"
     ]
    },
    {
     "name": "stderr",
     "output_type": "stream",
     "text": [
      " 51%|█████     | 450/884 [00:22<00:18, 23.11it/s]\n",
      "  0%|          | 0/77 [00:00<?, ?it/s]\u001b[A"
     ]
    },
    {
     "name": "stdout",
     "output_type": "stream",
     "text": [
      "\tsaving model 42000...\n",
      "\tdone\n",
      "Evaluating\n"
     ]
    },
    {
     "name": "stderr",
     "output_type": "stream",
     "text": [
      "\n",
      " 12%|#1        | 9/77 [00:00<00:00, 89.42it/s]\u001b[A\n",
      " 23%|##3       | 18/77 [00:00<00:00, 88.81it/s]\u001b[A\n",
      " 32%|###2      | 25/77 [00:00<00:00, 81.18it/s]\u001b[A\n",
      " 44%|####4     | 34/77 [00:00<00:00, 81.47it/s]\u001b[A\n",
      " 53%|#####3    | 41/77 [00:00<00:00, 77.11it/s]\u001b[A\n",
      " 64%|######3   | 49/77 [00:00<00:00, 77.77it/s]\u001b[A\n",
      " 75%|#######5  | 58/77 [00:00<00:00, 78.99it/s]\u001b[A\n",
      " 87%|########7 | 67/77 [00:00<00:00, 79.93it/s]\u001b[A\n",
      " 97%|#########7| 75/77 [00:00<00:00, 68.91it/s]\u001b[A\n",
      " 51%|█████     | 453/884 [00:23<01:15,  5.68it/s]A"
     ]
    },
    {
     "name": "stdout",
     "output_type": "stream",
     "text": [
      "{'ade': 0.45422935, 'fde': 0.9941397}\n",
      "\t last loss:0.000210801, eval on validation:['ade: 0.45422935', 'fde: 0.9941397'], (best ade:0.45289505 at step 34500) \n"
     ]
    },
    {
     "name": "stderr",
     "output_type": "stream",
     "text": [
      " 85%|████████▍ | 750/884 [00:39<00:05, 24.43it/s]\n",
      "  0%|          | 0/77 [00:00<?, ?it/s]\u001b[A"
     ]
    },
    {
     "name": "stdout",
     "output_type": "stream",
     "text": [
      "\tsaving model 42300...\n",
      "\tdone\n",
      "Evaluating\n"
     ]
    },
    {
     "name": "stderr",
     "output_type": "stream",
     "text": [
      "\n",
      " 12%|#1        | 9/77 [00:00<00:00, 86.86it/s]\u001b[A\n",
      " 23%|##3       | 18/77 [00:00<00:00, 86.51it/s]\u001b[A\n",
      " 34%|###3      | 26/77 [00:00<00:00, 83.55it/s]\u001b[A\n",
      " 44%|####4     | 34/77 [00:00<00:00, 82.02it/s]\u001b[A\n",
      " 56%|#####5    | 43/77 [00:00<00:00, 82.90it/s]\u001b[A\n",
      " 66%|######6   | 51/77 [00:00<00:00, 80.58it/s]\u001b[A\n",
      " 77%|#######6  | 59/77 [00:00<00:00, 73.62it/s]\u001b[A\n",
      " 86%|########5 | 66/77 [00:00<00:00, 72.19it/s]\u001b[A\n",
      " 97%|#########7| 75/77 [00:00<00:00, 76.18it/s]\u001b[A\n",
      " 85%|████████▌ | 755/884 [00:40<00:16,  7.83it/s]A"
     ]
    },
    {
     "name": "stdout",
     "output_type": "stream",
     "text": [
      "{'ade': 0.45769277, 'fde': 1.0015161}\n",
      "\t last loss:0.000208151, eval on validation:['ade: 0.45769277', 'fde: 1.0015161'], (best ade:0.45289505 at step 34500) \n"
     ]
    },
    {
     "name": "stderr",
     "output_type": "stream",
     "text": [
      "100%|██████████| 884/884 [00:47<00:00, 18.60it/s]\n",
      "  0%|          | 1/884 [00:00<01:30,  9.78it/s]"
     ]
    },
    {
     "name": "stdout",
     "output_type": "stream",
     "text": [
      "('Epoca 49.', 'lr:', 4.0465464e-05)\n"
     ]
    },
    {
     "name": "stderr",
     "output_type": "stream",
     "text": [
      " 19%|█▉        | 167/884 [00:09<00:36, 19.48it/s]\n",
      "  0%|          | 0/77 [00:00<?, ?it/s]\u001b[A"
     ]
    },
    {
     "name": "stdout",
     "output_type": "stream",
     "text": [
      "\tsaving model 42600...\n",
      "\tdone\n",
      "Evaluating\n"
     ]
    },
    {
     "name": "stderr",
     "output_type": "stream",
     "text": [
      "\n",
      " 10%|#         | 8/77 [00:00<00:00, 78.96it/s]\u001b[A\n",
      " 21%|##        | 16/77 [00:00<00:00, 77.59it/s]\u001b[A\n",
      " 31%|###1      | 24/77 [00:00<00:00, 77.55it/s]\u001b[A\n",
      " 42%|####1     | 32/77 [00:00<00:00, 76.80it/s]\u001b[A\n",
      " 51%|#####     | 39/77 [00:00<00:00, 73.33it/s]\u001b[A\n",
      " 60%|#####9    | 46/77 [00:00<00:00, 65.56it/s]\u001b[A\n",
      " 68%|######7   | 52/77 [00:00<00:00, 56.37it/s]\u001b[A\n",
      " 79%|#######9  | 61/77 [00:00<00:00, 62.55it/s]\u001b[A\n",
      " 91%|######### | 70/77 [00:01<00:00, 67.64it/s]\u001b[A\n",
      " 19%|█▉        | 169/884 [00:10<02:54,  4.10it/s]A"
     ]
    },
    {
     "name": "stdout",
     "output_type": "stream",
     "text": [
      "{'ade': 0.45462155, 'fde': 0.9928665}\n",
      "\t last loss:0.000298581, eval on validation:['ade: 0.45462155', 'fde: 0.9928665'], (best ade:0.45289505 at step 34500) \n"
     ]
    },
    {
     "name": "stderr",
     "output_type": "stream",
     "text": [
      " 53%|█████▎    | 467/884 [00:26<00:25, 16.55it/s]\n",
      "  0%|          | 0/77 [00:00<?, ?it/s]\u001b[A"
     ]
    },
    {
     "name": "stdout",
     "output_type": "stream",
     "text": [
      "\tsaving model 42900...\n",
      "\tdone\n",
      "Evaluating\n"
     ]
    },
    {
     "name": "stderr",
     "output_type": "stream",
     "text": [
      "\n",
      " 10%|#         | 8/77 [00:00<00:00, 70.55it/s]\u001b[A\n",
      " 19%|#9        | 15/77 [00:00<00:00, 69.09it/s]\u001b[A\n",
      " 29%|##8       | 22/77 [00:00<00:00, 69.25it/s]\u001b[A\n",
      " 38%|###7      | 29/77 [00:00<00:00, 68.01it/s]\u001b[A\n",
      " 45%|####5     | 35/77 [00:00<00:00, 62.95it/s]\u001b[A\n",
      " 53%|#####3    | 41/77 [00:00<00:00, 49.70it/s]\u001b[A\n",
      " 61%|######1   | 47/77 [00:00<00:00, 49.97it/s]\u001b[A\n",
      " 70%|#######   | 54/77 [00:00<00:00, 52.87it/s]\u001b[A\n",
      " 81%|########  | 62/77 [00:01<00:00, 57.71it/s]\u001b[A\n",
      " 88%|########8 | 68/77 [00:01<00:00, 56.86it/s]\u001b[A\n",
      " 96%|#########6| 74/77 [00:01<00:00, 57.52it/s]\u001b[A\n",
      " 53%|█████▎    | 469/884 [00:28<02:02,  3.38it/s]A"
     ]
    },
    {
     "name": "stdout",
     "output_type": "stream",
     "text": [
      "{'ade': 0.4591884, 'fde': 1.0081055}\n",
      "\t last loss:0.000322490, eval on validation:['ade: 0.4591884', 'fde: 1.0081055'], (best ade:0.45289505 at step 34500) \n"
     ]
    },
    {
     "name": "stderr",
     "output_type": "stream",
     "text": [
      " 87%|████████▋ | 765/884 [00:46<00:05, 23.20it/s]\n",
      "  0%|          | 0/77 [00:00<?, ?it/s]\u001b[A"
     ]
    },
    {
     "name": "stdout",
     "output_type": "stream",
     "text": [
      "\tsaving model 43200...\n",
      "\tdone\n",
      "Evaluating\n"
     ]
    },
    {
     "name": "stderr",
     "output_type": "stream",
     "text": [
      "\n",
      " 12%|#1        | 9/77 [00:00<00:00, 85.60it/s]\u001b[A\n",
      " 23%|##3       | 18/77 [00:00<00:00, 84.83it/s]\u001b[A\n",
      " 32%|###2      | 25/77 [00:00<00:00, 79.65it/s]\u001b[A\n",
      " 43%|####2     | 33/77 [00:00<00:00, 78.90it/s]\u001b[A\n",
      " 55%|#####4    | 42/77 [00:00<00:00, 79.80it/s]\u001b[A\n",
      " 64%|######3   | 49/77 [00:00<00:00, 75.41it/s]\u001b[A\n",
      " 73%|#######2  | 56/77 [00:00<00:00, 53.54it/s]\u001b[A\n",
      " 81%|########  | 62/77 [00:01<00:00, 44.91it/s]\u001b[A\n",
      " 91%|######### | 70/77 [00:01<00:00, 51.01it/s]\u001b[A\n",
      " 87%|████████▋ | 771/884 [00:48<00:16,  6.82it/s]A"
     ]
    },
    {
     "name": "stdout",
     "output_type": "stream",
     "text": [
      "{'ade': 0.45483506, 'fde': 0.9936449}\n",
      "\t last loss:0.000249063, eval on validation:['ade: 0.45483506', 'fde: 0.9936449'], (best ade:0.45289505 at step 34500) \n"
     ]
    },
    {
     "name": "stderr",
     "output_type": "stream",
     "text": [
      "100%|██████████| 884/884 [00:56<00:00, 11.86it/s]\n",
      "  0%|          | 2/884 [00:00<00:53, 16.37it/s]"
     ]
    },
    {
     "name": "stdout",
     "output_type": "stream",
     "text": [
      "('Epoca 50.', 'lr:', 4.0465464e-05)\n"
     ]
    },
    {
     "name": "stderr",
     "output_type": "stream",
     "text": [
      " 21%|██        | 182/884 [00:10<00:39, 17.96it/s]"
     ]
    },
    {
     "name": "stdout",
     "output_type": "stream",
     "text": [
      "\tsaving model 43500...\n"
     ]
    },
    {
     "name": "stderr",
     "output_type": "stream",
     "text": [
      "\n",
      "  0%|          | 0/77 [00:00<?, ?it/s]\u001b[A\n",
      "  6%|6         | 5/77 [00:00<00:01, 48.12it/s]\u001b[A"
     ]
    },
    {
     "name": "stdout",
     "output_type": "stream",
     "text": [
      "\tdone\n",
      "Evaluating\n"
     ]
    },
    {
     "name": "stderr",
     "output_type": "stream",
     "text": [
      "\n",
      " 13%|#2        | 10/77 [00:00<00:01, 47.80it/s]\u001b[A\n",
      " 19%|#9        | 15/77 [00:00<00:01, 47.51it/s]\u001b[A\n",
      " 26%|##5       | 20/77 [00:00<00:01, 47.88it/s]\u001b[A\n",
      " 32%|###2      | 25/77 [00:00<00:01, 47.93it/s]\u001b[A\n",
      " 39%|###8      | 30/77 [00:00<00:01, 46.91it/s]\u001b[A\n",
      " 45%|####5     | 35/77 [00:00<00:00, 45.96it/s]\u001b[A\n",
      " 52%|#####1    | 40/77 [00:00<00:00, 46.08it/s]\u001b[A\n",
      " 60%|#####9    | 46/77 [00:00<00:00, 47.03it/s]\u001b[A\n",
      " 66%|######6   | 51/77 [00:01<00:00, 47.47it/s]\u001b[A\n",
      " 73%|#######2  | 56/77 [00:01<00:00, 42.56it/s]\u001b[A\n",
      " 79%|#######9  | 61/77 [00:01<00:00, 39.52it/s]\u001b[A\n",
      " 84%|########4 | 65/77 [00:01<00:00, 37.61it/s]\u001b[A\n",
      " 90%|########9 | 69/77 [00:01<00:00, 38.11it/s]\u001b[A\n",
      " 97%|#########7| 75/77 [00:01<00:00, 42.04it/s]\u001b[A\n",
      " 21%|██        | 184/884 [00:12<04:10,  2.79it/s]A"
     ]
    },
    {
     "name": "stdout",
     "output_type": "stream",
     "text": [
      "{'ade': 0.45879215, 'fde': 1.0093632}\n",
      "\t last loss:0.000540453, eval on validation:['ade: 0.45879215', 'fde: 1.0093632'], (best ade:0.45289505 at step 34500) \n"
     ]
    },
    {
     "name": "stderr",
     "output_type": "stream",
     "text": [
      " 55%|█████▍    | 482/884 [00:27<00:19, 20.92it/s]"
     ]
    },
    {
     "name": "stdout",
     "output_type": "stream",
     "text": [
      "\tsaving model 43800...\n"
     ]
    },
    {
     "name": "stderr",
     "output_type": "stream",
     "text": [
      "\n",
      "  0%|          | 0/77 [00:00<?, ?it/s]\u001b[A\n",
      " 10%|#         | 8/77 [00:00<00:00, 72.02it/s]\u001b[A"
     ]
    },
    {
     "name": "stdout",
     "output_type": "stream",
     "text": [
      "\tdone\n",
      "Evaluating\n"
     ]
    },
    {
     "name": "stderr",
     "output_type": "stream",
     "text": [
      "\n",
      " 18%|#8        | 14/77 [00:00<00:00, 67.63it/s]\u001b[A\n",
      " 29%|##8       | 22/77 [00:00<00:00, 69.04it/s]\u001b[A\n",
      " 40%|####      | 31/77 [00:00<00:00, 72.32it/s]\u001b[A\n",
      " 52%|#####1    | 40/77 [00:00<00:00, 75.26it/s]\u001b[A\n",
      " 64%|######3   | 49/77 [00:00<00:00, 76.45it/s]\u001b[A\n",
      " 74%|#######4  | 57/77 [00:00<00:00, 75.95it/s]\u001b[A\n",
      " 86%|########5 | 66/77 [00:00<00:00, 77.49it/s]\u001b[A\n",
      " 97%|#########7| 75/77 [00:00<00:00, 79.27it/s]\u001b[A\n",
      "100%|##########| 77/77 [00:01<00:00, 76.22it/s]\u001b[A"
     ]
    },
    {
     "name": "stdout",
     "output_type": "stream",
     "text": [
      "{'ade': 0.4523981, 'fde': 0.98788613}\n",
      "\t last loss:0.000359017, eval on validation:['ade: 0.4523981', 'fde: 0.98788613'], (best ade:0.45289505 at step 34500) \n",
      "\t saving best model...\n"
     ]
    },
    {
     "name": "stderr",
     "output_type": "stream",
     "text": [
      "\r",
      " 55%|█████▍    | 485/884 [00:28<01:21,  4.91it/s]"
     ]
    },
    {
     "name": "stdout",
     "output_type": "stream",
     "text": [
      "\t done.\n"
     ]
    },
    {
     "name": "stderr",
     "output_type": "stream",
     "text": [
      " 88%|████████▊ | 781/884 [00:45<00:04, 21.94it/s]\n",
      "  0%|          | 0/77 [00:00<?, ?it/s]\u001b[A"
     ]
    },
    {
     "name": "stdout",
     "output_type": "stream",
     "text": [
      "\tsaving model 44100...\n",
      "\tdone\n",
      "Evaluating\n"
     ]
    },
    {
     "name": "stderr",
     "output_type": "stream",
     "text": [
      "\n",
      " 12%|#1        | 9/77 [00:00<00:00, 87.32it/s]\u001b[A\n",
      " 23%|##3       | 18/77 [00:00<00:00, 85.62it/s]\u001b[A\n",
      " 35%|###5      | 27/77 [00:00<00:00, 85.04it/s]\u001b[A\n",
      " 47%|####6     | 36/77 [00:00<00:00, 84.53it/s]\u001b[A\n",
      " 57%|#####7    | 44/77 [00:00<00:00, 83.11it/s]\u001b[A\n",
      " 69%|######8   | 53/77 [00:00<00:00, 83.96it/s]\u001b[A\n",
      " 81%|########  | 62/77 [00:00<00:00, 83.27it/s]\u001b[A\n",
      " 91%|######### | 70/77 [00:00<00:00, 77.02it/s]\u001b[A\n",
      " 89%|████████▉ | 786/884 [00:46<00:12,  7.74it/s]A"
     ]
    },
    {
     "name": "stdout",
     "output_type": "stream",
     "text": [
      "{'ade': 0.45610756, 'fde': 0.99853706}\n",
      "\t last loss:0.000184115, eval on validation:['ade: 0.45610756', 'fde: 0.99853706'], (best ade:0.4523981 at step 43800) \n"
     ]
    },
    {
     "name": "stderr",
     "output_type": "stream",
     "text": [
      "100%|██████████| 884/884 [00:52<00:00, 16.72it/s]\n",
      "  0%|          | 1/884 [00:00<01:50,  8.02it/s]"
     ]
    },
    {
     "name": "stdout",
     "output_type": "stream",
     "text": [
      "('Epoca 51.', 'lr:', 3.4395645e-05)\n"
     ]
    },
    {
     "name": "stderr",
     "output_type": "stream",
     "text": [
      " 22%|██▏       | 198/884 [00:11<00:36, 18.99it/s]"
     ]
    },
    {
     "name": "stdout",
     "output_type": "stream",
     "text": [
      "\tsaving model 44400...\n"
     ]
    },
    {
     "name": "stderr",
     "output_type": "stream",
     "text": [
      "\n",
      "  0%|          | 0/77 [00:00<?, ?it/s]\u001b[A\n",
      " 10%|#         | 8/77 [00:00<00:00, 75.80it/s]\u001b[A"
     ]
    },
    {
     "name": "stdout",
     "output_type": "stream",
     "text": [
      "\tdone\n",
      "Evaluating\n"
     ]
    },
    {
     "name": "stderr",
     "output_type": "stream",
     "text": [
      "\n",
      " 21%|##        | 16/77 [00:00<00:00, 75.28it/s]\u001b[A\n",
      " 31%|###1      | 24/77 [00:00<00:00, 74.88it/s]\u001b[A\n",
      " 42%|####1     | 32/77 [00:00<00:00, 75.38it/s]\u001b[A\n",
      " 52%|#####1    | 40/77 [00:00<00:00, 74.36it/s]\u001b[A\n",
      " 61%|######1   | 47/77 [00:00<00:00, 54.03it/s]\u001b[A\n",
      " 69%|######8   | 53/77 [00:00<00:00, 45.27it/s]\u001b[A\n",
      " 77%|#######6  | 59/77 [00:01<00:00, 48.26it/s]\u001b[A\n",
      " 87%|########7 | 67/77 [00:01<00:00, 53.61it/s]\u001b[A\n",
      " 97%|#########7| 75/77 [00:01<00:00, 58.66it/s]\u001b[A\n",
      " 23%|██▎       | 203/884 [00:13<02:22,  4.77it/s]A"
     ]
    },
    {
     "name": "stdout",
     "output_type": "stream",
     "text": [
      "{'ade': 0.45411584, 'fde': 0.993819}\n",
      "\t last loss:0.000430006, eval on validation:['ade: 0.45411584', 'fde: 0.993819'], (best ade:0.4523981 at step 43800) \n"
     ]
    },
    {
     "name": "stderr",
     "output_type": "stream",
     "text": [
      " 56%|█████▋    | 499/884 [00:28<00:19, 19.72it/s]\n",
      "  0%|          | 0/77 [00:00<?, ?it/s]\u001b[A"
     ]
    },
    {
     "name": "stdout",
     "output_type": "stream",
     "text": [
      "\tsaving model 44700...\n",
      "\tdone\n",
      "Evaluating\n"
     ]
    },
    {
     "name": "stderr",
     "output_type": "stream",
     "text": [
      "\n",
      " 12%|#1        | 9/77 [00:00<00:00, 89.23it/s]\u001b[A\n",
      " 23%|##3       | 18/77 [00:00<00:00, 88.28it/s]\u001b[A\n",
      " 34%|###3      | 26/77 [00:00<00:00, 83.05it/s]\u001b[A\n",
      " 42%|####1     | 32/77 [00:00<00:00, 65.79it/s]\u001b[A\n",
      " 49%|####9     | 38/77 [00:00<00:00, 53.53it/s]\u001b[A\n",
      " 56%|#####5    | 43/77 [00:00<00:00, 44.60it/s]\u001b[A\n",
      " 62%|######2   | 48/77 [00:00<00:00, 40.01it/s]\u001b[A\n",
      " 68%|######7   | 52/77 [00:01<00:00, 35.38it/s]\u001b[A\n",
      " 73%|#######2  | 56/77 [00:01<00:00, 34.79it/s]\u001b[A\n",
      " 81%|########  | 62/77 [00:01<00:00, 38.95it/s]\u001b[A\n",
      " 91%|######### | 70/77 [00:01<00:00, 45.78it/s]\u001b[A\n",
      " 57%|█████▋    | 502/884 [00:29<01:23,  4.57it/s]A"
     ]
    },
    {
     "name": "stdout",
     "output_type": "stream",
     "text": [
      "{'ade': 0.45488256, 'fde': 0.9956566}\n",
      "\t last loss:0.000277422, eval on validation:['ade: 0.45488256', 'fde: 0.9956566'], (best ade:0.4523981 at step 43800) \n"
     ]
    },
    {
     "name": "stderr",
     "output_type": "stream",
     "text": [
      " 90%|█████████ | 798/884 [00:49<00:06, 13.70it/s]"
     ]
    },
    {
     "name": "stdout",
     "output_type": "stream",
     "text": [
      "\tsaving model 45000...\n"
     ]
    },
    {
     "name": "stderr",
     "output_type": "stream",
     "text": [
      "\n",
      "  0%|          | 0/77 [00:00<?, ?it/s]\u001b[A\n",
      "  9%|9         | 7/77 [00:00<00:01, 64.49it/s]\u001b[A"
     ]
    },
    {
     "name": "stdout",
     "output_type": "stream",
     "text": [
      "\tdone\n",
      "Evaluating\n"
     ]
    },
    {
     "name": "stderr",
     "output_type": "stream",
     "text": [
      "\n",
      " 14%|#4        | 11/77 [00:00<00:01, 51.51it/s]\u001b[A\n",
      " 18%|#8        | 14/77 [00:00<00:01, 37.75it/s]\u001b[A\n",
      " 22%|##2       | 17/77 [00:00<00:01, 34.39it/s]\u001b[A\n",
      " 27%|##7       | 21/77 [00:00<00:01, 33.87it/s]\u001b[A\n",
      " 31%|###1      | 24/77 [00:00<00:01, 30.57it/s]\u001b[A\n",
      " 35%|###5      | 27/77 [00:00<00:01, 27.76it/s]\u001b[A\n",
      " 39%|###8      | 30/77 [00:00<00:01, 26.76it/s]\u001b[A\n",
      " 43%|####2     | 33/77 [00:01<00:01, 26.76it/s]\u001b[A\n",
      " 47%|####6     | 36/77 [00:01<00:01, 24.75it/s]\u001b[A\n",
      " 51%|#####     | 39/77 [00:01<00:01, 25.91it/s]\u001b[A\n",
      " 55%|#####4    | 42/77 [00:01<00:01, 24.91it/s]\u001b[A\n",
      " 58%|#####8    | 45/77 [00:01<00:01, 24.47it/s]\u001b[A\n",
      " 62%|######2   | 48/77 [00:01<00:01, 24.03it/s]\u001b[A\n",
      " 66%|######6   | 51/77 [00:01<00:01, 22.12it/s]\u001b[A\n",
      " 71%|#######1  | 55/77 [00:01<00:00, 24.10it/s]\u001b[A\n",
      " 75%|#######5  | 58/77 [00:02<00:00, 24.60it/s]\u001b[A\n",
      " 79%|#######9  | 61/77 [00:02<00:00, 26.00it/s]\u001b[A\n",
      " 83%|########3 | 64/77 [00:02<00:00, 26.43it/s]\u001b[A\n",
      " 90%|########9 | 69/77 [00:02<00:00, 30.27it/s]\u001b[A\n",
      " 91%|█████████ | 803/884 [00:52<00:29,  2.76it/s]A"
     ]
    },
    {
     "name": "stdout",
     "output_type": "stream",
     "text": [
      "{'ade': 0.45524004, 'fde': 0.9966644}\n",
      "\t last loss:0.000331043, eval on validation:['ade: 0.45524004', 'fde: 0.9966644'], (best ade:0.4523981 at step 43800) \n"
     ]
    },
    {
     "name": "stderr",
     "output_type": "stream",
     "text": [
      "100%|██████████| 884/884 [00:56<00:00, 15.65it/s]\n",
      "  0%|          | 2/884 [00:00<00:56, 15.56it/s]"
     ]
    },
    {
     "name": "stdout",
     "output_type": "stream",
     "text": [
      "('Epoca 52.', 'lr:', 3.4395645e-05)\n"
     ]
    },
    {
     "name": "stderr",
     "output_type": "stream",
     "text": [
      " 24%|██▍       | 213/884 [00:10<00:43, 15.60it/s]\n"
     ]
    },
    {
     "name": "stdout",
     "output_type": "stream",
     "text": [
      "\tsaving model 45300...\n",
      "\tdone\n",
      "Evaluating\n"
     ]
    },
    {
     "name": "stderr",
     "output_type": "stream",
     "text": [
      "  0%|          | 0/77 [00:00<?, ?it/s]\u001b[A\n",
      " 10%|#         | 8/77 [00:00<00:00, 69.90it/s]\u001b[A\n",
      " 21%|##        | 16/77 [00:00<00:00, 71.63it/s]\u001b[A\n",
      " 32%|###2      | 25/77 [00:00<00:00, 75.43it/s]\u001b[A\n",
      " 44%|####4     | 34/77 [00:00<00:00, 78.87it/s]\u001b[A\n",
      " 56%|#####5    | 43/77 [00:00<00:00, 80.33it/s]\u001b[A\n",
      " 66%|######6   | 51/77 [00:00<00:00, 78.07it/s]\u001b[A\n",
      " 77%|#######6  | 59/77 [00:00<00:00, 61.46it/s]\u001b[A\n",
      " 86%|########5 | 66/77 [00:01<00:00, 49.62it/s]\u001b[A\n",
      " 94%|#########3| 72/77 [00:01<00:00, 41.38it/s]\u001b[A\n",
      " 25%|██▍       | 219/884 [00:12<01:47,  6.19it/s]A"
     ]
    },
    {
     "name": "stdout",
     "output_type": "stream",
     "text": [
      "{'ade': 0.454756, 'fde': 0.9953185}\n",
      "\t last loss:0.000279560, eval on validation:['ade: 0.454756', 'fde: 0.9953185'], (best ade:0.4523981 at step 43800) \n"
     ]
    },
    {
     "name": "stderr",
     "output_type": "stream",
     "text": [
      " 58%|█████▊    | 515/884 [00:32<00:37,  9.75it/s]"
     ]
    },
    {
     "name": "stdout",
     "output_type": "stream",
     "text": [
      "\tsaving model 45600...\n"
     ]
    },
    {
     "name": "stderr",
     "output_type": "stream",
     "text": [
      "\n",
      "  0%|          | 0/77 [00:00<?, ?it/s]\u001b[A\n",
      "  8%|7         | 6/77 [00:00<00:01, 55.52it/s]\u001b[A"
     ]
    },
    {
     "name": "stdout",
     "output_type": "stream",
     "text": [
      "\tdone\n",
      "Evaluating\n"
     ]
    },
    {
     "name": "stderr",
     "output_type": "stream",
     "text": [
      "\n",
      " 13%|#2        | 10/77 [00:00<00:01, 48.80it/s]\u001b[A\n",
      " 21%|##        | 16/77 [00:00<00:01, 48.77it/s]\u001b[A\n",
      " 29%|##8       | 22/77 [00:00<00:01, 50.98it/s]\u001b[A\n",
      " 38%|###7      | 29/77 [00:00<00:00, 53.92it/s]\u001b[A\n",
      " 44%|####4     | 34/77 [00:00<00:00, 50.79it/s]\u001b[A\n",
      " 51%|#####     | 39/77 [00:00<00:00, 49.38it/s]\u001b[A\n",
      " 58%|#####8    | 45/77 [00:00<00:00, 51.08it/s]\u001b[A\n",
      " 69%|######8   | 53/77 [00:00<00:00, 55.46it/s]\u001b[A\n",
      " 78%|#######7  | 60/77 [00:01<00:00, 58.03it/s]\u001b[A\n",
      " 86%|########5 | 66/77 [00:01<00:00, 54.46it/s]\u001b[A\n",
      " 94%|#########3| 72/77 [00:01<00:00, 52.89it/s]\u001b[A\n",
      " 58%|█████▊    | 517/884 [00:34<02:04,  2.95it/s]A"
     ]
    },
    {
     "name": "stdout",
     "output_type": "stream",
     "text": [
      "{'ade': 0.4542009, 'fde': 0.9927677}\n",
      "\t last loss:0.000179076, eval on validation:['ade: 0.4542009', 'fde: 0.9927677'], (best ade:0.4523981 at step 43800) \n"
     ]
    },
    {
     "name": "stderr",
     "output_type": "stream",
     "text": [
      " 92%|█████████▏| 814/884 [00:47<00:03, 20.47it/s]"
     ]
    },
    {
     "name": "stdout",
     "output_type": "stream",
     "text": [
      "\tsaving model 45900...\n"
     ]
    },
    {
     "name": "stderr",
     "output_type": "stream",
     "text": [
      "\n",
      "  0%|          | 0/77 [00:00<?, ?it/s]\u001b[A\n",
      "  9%|9         | 7/77 [00:00<00:01, 69.64it/s]\u001b[A"
     ]
    },
    {
     "name": "stdout",
     "output_type": "stream",
     "text": [
      "\tdone\n",
      "Evaluating\n"
     ]
    },
    {
     "name": "stderr",
     "output_type": "stream",
     "text": [
      "\n",
      " 18%|#8        | 14/77 [00:00<00:00, 68.65it/s]\u001b[A\n",
      " 27%|##7       | 21/77 [00:00<00:00, 67.86it/s]\u001b[A\n",
      " 35%|###5      | 27/77 [00:00<00:00, 64.23it/s]\u001b[A\n",
      " 44%|####4     | 34/77 [00:00<00:00, 64.92it/s]\u001b[A\n",
      " 53%|#####3    | 41/77 [00:00<00:00, 64.89it/s]\u001b[A\n",
      " 62%|######2   | 48/77 [00:00<00:00, 65.66it/s]\u001b[A\n",
      " 71%|#######1  | 55/77 [00:00<00:00, 65.01it/s]\u001b[A\n",
      " 81%|########  | 62/77 [00:00<00:00, 65.50it/s]\u001b[A\n",
      " 90%|########9 | 69/77 [00:01<00:00, 64.67it/s]\u001b[A\n",
      " 99%|#########8| 76/77 [00:01<00:00, 64.97it/s]\u001b[A\n",
      " 92%|█████████▏| 817/884 [00:49<00:12,  5.23it/s]A"
     ]
    },
    {
     "name": "stdout",
     "output_type": "stream",
     "text": [
      "{'ade': 0.45447782, 'fde': 0.9936956}\n",
      "\t last loss:0.000365116, eval on validation:['ade: 0.45447782', 'fde: 0.9936956'], (best ade:0.4523981 at step 43800) \n"
     ]
    },
    {
     "name": "stderr",
     "output_type": "stream",
     "text": [
      "100%|██████████| 884/884 [00:52<00:00, 21.88it/s]\n",
      "  0%|          | 1/884 [00:00<01:32,  9.51it/s]"
     ]
    },
    {
     "name": "stdout",
     "output_type": "stream",
     "text": [
      "('Epoca 53.', 'lr:', 2.92363e-05)\n"
     ]
    },
    {
     "name": "stderr",
     "output_type": "stream",
     "text": [
      " 26%|██▌       | 229/884 [00:09<00:25, 25.32it/s]\n",
      "  0%|          | 0/77 [00:00<?, ?it/s]\u001b[A"
     ]
    },
    {
     "name": "stdout",
     "output_type": "stream",
     "text": [
      "\tsaving model 46200...\n",
      "\tdone\n",
      "Evaluating\n"
     ]
    },
    {
     "name": "stderr",
     "output_type": "stream",
     "text": [
      "\n",
      " 12%|#1        | 9/77 [00:00<00:00, 87.46it/s]\u001b[A\n",
      " 23%|##3       | 18/77 [00:00<00:00, 86.23it/s]\u001b[A\n",
      " 32%|###2      | 25/77 [00:00<00:00, 80.12it/s]\u001b[A\n",
      " 44%|####4     | 34/77 [00:00<00:00, 81.07it/s]\u001b[A\n",
      " 56%|#####5    | 43/77 [00:00<00:00, 81.25it/s]\u001b[A\n",
      " 68%|######7   | 52/77 [00:00<00:00, 82.05it/s]\u001b[A\n",
      " 79%|#######9  | 61/77 [00:00<00:00, 83.14it/s]\u001b[A\n",
      " 91%|######### | 70/77 [00:00<00:00, 83.63it/s]\u001b[A\n",
      " 27%|██▋       | 235/884 [00:10<01:17,  8.42it/s]A"
     ]
    },
    {
     "name": "stdout",
     "output_type": "stream",
     "text": [
      "{'ade': 0.45733958, 'fde': 1.0036596}\n",
      "\t last loss:0.000357905, eval on validation:['ade: 0.45733958', 'fde: 1.0036596'], (best ade:0.4523981 at step 43800) \n"
     ]
    },
    {
     "name": "stderr",
     "output_type": "stream",
     "text": [
      " 60%|█████▉    | 530/884 [00:23<00:13, 25.78it/s]\n",
      "  0%|          | 0/77 [00:00<?, ?it/s]\u001b[A"
     ]
    },
    {
     "name": "stdout",
     "output_type": "stream",
     "text": [
      "\tsaving model 46500...\n",
      "\tdone\n",
      "Evaluating\n"
     ]
    },
    {
     "name": "stderr",
     "output_type": "stream",
     "text": [
      "\n",
      " 13%|#2        | 10/77 [00:00<00:00, 93.01it/s]\u001b[A\n",
      " 23%|##3       | 18/77 [00:00<00:00, 88.44it/s]\u001b[A\n",
      " 35%|###5      | 27/77 [00:00<00:00, 88.47it/s]\u001b[A\n",
      " 45%|####5     | 35/77 [00:00<00:00, 84.84it/s]\u001b[A\n",
      " 55%|#####4    | 42/77 [00:00<00:00, 62.62it/s]\u001b[A\n",
      " 62%|######2   | 48/77 [00:00<00:00, 51.25it/s]\u001b[A\n",
      " 74%|#######4  | 57/77 [00:00<00:00, 58.16it/s]\u001b[A\n",
      " 87%|########7 | 67/77 [00:00<00:00, 65.38it/s]\u001b[A\n",
      " 97%|#########7| 75/77 [00:01<00:00, 68.10it/s]\u001b[A\n",
      "100%|##########| 77/77 [00:01<00:00, 67.18it/s]\u001b[A"
     ]
    },
    {
     "name": "stdout",
     "output_type": "stream",
     "text": [
      "{'ade': 0.4580103, 'fde': 1.004319}\n",
      "\t last loss:0.000350121, eval on validation:['ade: 0.4580103', 'fde: 1.004319'], (best ade:0.4523981 at step 43800) \n"
     ]
    },
    {
     "name": "stderr",
     "output_type": "stream",
     "text": [
      " 94%|█████████▍| 830/884 [00:44<00:03, 16.39it/s]\n",
      "  0%|          | 0/77 [00:00<?, ?it/s]\u001b[A"
     ]
    },
    {
     "name": "stdout",
     "output_type": "stream",
     "text": [
      "\tsaving model 46800...\n",
      "\tdone\n",
      "Evaluating\n"
     ]
    },
    {
     "name": "stderr",
     "output_type": "stream",
     "text": [
      "\n",
      "  9%|9         | 7/77 [00:00<00:01, 68.16it/s]\u001b[A\n",
      " 18%|#8        | 14/77 [00:00<00:00, 68.50it/s]\u001b[A\n",
      " 27%|##7       | 21/77 [00:00<00:00, 66.42it/s]\u001b[A\n",
      " 35%|###5      | 27/77 [00:00<00:00, 62.82it/s]\u001b[A\n",
      " 42%|####1     | 32/77 [00:00<00:00, 57.69it/s]\u001b[A\n",
      " 49%|####9     | 38/77 [00:00<00:00, 56.43it/s]\u001b[A\n",
      " 56%|#####5    | 43/77 [00:00<00:00, 45.68it/s]\u001b[A\n",
      " 62%|######2   | 48/77 [00:00<00:00, 44.22it/s]\u001b[A\n",
      " 69%|######8   | 53/77 [00:01<00:00, 39.66it/s]\u001b[A\n",
      " 74%|#######4  | 57/77 [00:01<00:00, 35.66it/s]\u001b[A\n",
      " 79%|#######9  | 61/77 [00:01<00:00, 34.67it/s]\u001b[A\n",
      " 90%|########9 | 69/77 [00:01<00:00, 41.48it/s]\u001b[A\n",
      " 99%|#########8| 76/77 [00:01<00:00, 46.22it/s]\u001b[A\n",
      " 94%|█████████▍| 835/884 [00:46<00:11,  4.17it/s]A"
     ]
    },
    {
     "name": "stdout",
     "output_type": "stream",
     "text": [
      "{'ade': 0.45495272, 'fde': 0.9954857}\n",
      "\t last loss:0.000256151, eval on validation:['ade: 0.45495272', 'fde: 0.9954857'], (best ade:0.4523981 at step 43800) \n"
     ]
    },
    {
     "name": "stderr",
     "output_type": "stream",
     "text": [
      "100%|██████████| 884/884 [00:48<00:00, 18.17it/s]\n",
      "  0%|          | 2/884 [00:00<00:57, 15.29it/s]"
     ]
    },
    {
     "name": "stdout",
     "output_type": "stream",
     "text": [
      "('Epoca 54.', 'lr:', 2.92363e-05)\n"
     ]
    },
    {
     "name": "stderr",
     "output_type": "stream",
     "text": [
      " 28%|██▊       | 246/884 [00:16<00:32, 19.49it/s]\n",
      "  0%|          | 0/77 [00:00<?, ?it/s]\u001b[A"
     ]
    },
    {
     "name": "stdout",
     "output_type": "stream",
     "text": [
      "\tsaving model 47100...\n",
      "\tdone\n",
      "Evaluating\n"
     ]
    },
    {
     "name": "stderr",
     "output_type": "stream",
     "text": [
      "\n",
      " 13%|#2        | 10/77 [00:00<00:00, 90.77it/s]\u001b[A\n",
      " 25%|##4       | 19/77 [00:00<00:00, 88.82it/s]\u001b[A\n",
      " 36%|###6      | 28/77 [00:00<00:00, 87.87it/s]\u001b[A\n",
      " 48%|####8     | 37/77 [00:00<00:00, 87.42it/s]\u001b[A\n",
      " 60%|#####9    | 46/77 [00:00<00:00, 86.84it/s]\u001b[A\n",
      " 71%|#######1  | 55/77 [00:00<00:00, 86.25it/s]\u001b[A\n",
      " 83%|########3 | 64/77 [00:00<00:00, 86.64it/s]\u001b[A\n",
      " 95%|#########4| 73/77 [00:00<00:00, 84.54it/s]\u001b[A\n",
      " 28%|██▊       | 249/884 [00:17<01:40,  6.33it/s]A"
     ]
    },
    {
     "name": "stdout",
     "output_type": "stream",
     "text": [
      "{'ade': 0.45506808, 'fde': 0.9950789}\n",
      "\t last loss:0.000241122, eval on validation:['ade: 0.45506808', 'fde: 0.9950789'], (best ade:0.4523981 at step 43800) \n"
     ]
    },
    {
     "name": "stderr",
     "output_type": "stream",
     "text": [
      " 62%|██████▏   | 546/884 [00:31<00:16, 21.11it/s]"
     ]
    },
    {
     "name": "stdout",
     "output_type": "stream",
     "text": [
      "\tsaving model 47400...\n"
     ]
    },
    {
     "name": "stderr",
     "output_type": "stream",
     "text": [
      "\n",
      "  0%|          | 0/77 [00:00<?, ?it/s]\u001b[A\n",
      " 12%|#1        | 9/77 [00:00<00:00, 83.57it/s]\u001b[A"
     ]
    },
    {
     "name": "stdout",
     "output_type": "stream",
     "text": [
      "\tdone\n",
      "Evaluating\n"
     ]
    },
    {
     "name": "stderr",
     "output_type": "stream",
     "text": [
      "\n",
      " 23%|##3       | 18/77 [00:00<00:00, 83.17it/s]\u001b[A\n",
      " 35%|###5      | 27/77 [00:00<00:00, 83.43it/s]\u001b[A\n",
      " 47%|####6     | 36/77 [00:00<00:00, 83.63it/s]\u001b[A\n",
      " 58%|#####8    | 45/77 [00:00<00:00, 83.69it/s]\u001b[A\n",
      " 70%|#######   | 54/77 [00:00<00:00, 83.10it/s]\u001b[A\n",
      " 81%|########  | 62/77 [00:00<00:00, 74.77it/s]\u001b[A\n",
      " 91%|######### | 70/77 [00:00<00:00, 74.22it/s]\u001b[A\n",
      " 62%|██████▏   | 552/884 [00:32<00:44,  7.41it/s]A"
     ]
    },
    {
     "name": "stdout",
     "output_type": "stream",
     "text": [
      "{'ade': 0.45497358, 'fde': 0.99473447}\n",
      "\t last loss:0.000344900, eval on validation:['ade: 0.45497358', 'fde: 0.99473447'], (best ade:0.4523981 at step 43800) \n"
     ]
    },
    {
     "name": "stderr",
     "output_type": "stream",
     "text": [
      " 96%|█████████▌| 846/884 [00:46<00:01, 22.07it/s]\n",
      "  0%|          | 0/77 [00:00<?, ?it/s]\u001b[A"
     ]
    },
    {
     "name": "stdout",
     "output_type": "stream",
     "text": [
      "\tsaving model 47700...\n",
      "\tdone\n",
      "Evaluating\n"
     ]
    },
    {
     "name": "stderr",
     "output_type": "stream",
     "text": [
      "\n",
      "  9%|9         | 7/77 [00:00<00:01, 64.55it/s]\u001b[A\n",
      " 18%|#8        | 14/77 [00:00<00:00, 65.53it/s]\u001b[A\n",
      " 23%|##3       | 18/77 [00:00<00:01, 53.92it/s]\u001b[A\n",
      " 29%|##8       | 22/77 [00:00<00:01, 42.57it/s]\u001b[A\n",
      " 34%|###3      | 26/77 [00:00<00:01, 39.77it/s]\u001b[A\n",
      " 42%|####1     | 32/77 [00:00<00:01, 43.57it/s]\u001b[A\n",
      " 52%|#####1    | 40/77 [00:00<00:00, 49.94it/s]\u001b[A\n",
      " 61%|######1   | 47/77 [00:00<00:00, 52.82it/s]\u001b[A\n",
      " 69%|######8   | 53/77 [00:01<00:00, 51.88it/s]\u001b[A\n",
      " 77%|#######6  | 59/77 [00:01<00:00, 46.81it/s]\u001b[A\n",
      " 83%|########3 | 64/77 [00:01<00:00, 47.05it/s]\u001b[A\n",
      " 91%|######### | 70/77 [00:01<00:00, 48.53it/s]\u001b[A\n",
      " 99%|#########8| 76/77 [00:01<00:00, 48.96it/s]\u001b[A\n",
      " 96%|█████████▌| 849/884 [00:48<00:08,  4.30it/s]A"
     ]
    },
    {
     "name": "stdout",
     "output_type": "stream",
     "text": [
      "{'ade': 0.4530376, 'fde': 0.99139524}\n",
      "\t last loss:0.000348199, eval on validation:['ade: 0.4530376', 'fde: 0.99139524'], (best ade:0.4523981 at step 43800) \n"
     ]
    },
    {
     "name": "stderr",
     "output_type": "stream",
     "text": [
      "100%|██████████| 884/884 [00:51<00:00, 17.26it/s]\n",
      "  0%|          | 1/884 [00:00<01:32,  9.52it/s]"
     ]
    },
    {
     "name": "stdout",
     "output_type": "stream",
     "text": [
      "('Epoca 55.', 'lr:', 2.4850853e-05)\n"
     ]
    },
    {
     "name": "stderr",
     "output_type": "stream",
     "text": [
      " 30%|██▉       | 262/884 [00:13<00:26, 23.78it/s]\n",
      "  0%|          | 0/77 [00:00<?, ?it/s]\u001b[A"
     ]
    },
    {
     "name": "stdout",
     "output_type": "stream",
     "text": [
      "\tsaving model 48000...\n",
      "\tdone\n",
      "Evaluating\n"
     ]
    },
    {
     "name": "stderr",
     "output_type": "stream",
     "text": [
      "\n",
      " 12%|#1        | 9/77 [00:00<00:00, 85.39it/s]\u001b[A\n",
      " 23%|##3       | 18/77 [00:00<00:00, 84.89it/s]\u001b[A\n",
      " 35%|###5      | 27/77 [00:00<00:00, 84.50it/s]\u001b[A\n",
      " 47%|####6     | 36/77 [00:00<00:00, 84.14it/s]\u001b[A\n",
      " 58%|#####8    | 45/77 [00:00<00:00, 83.63it/s]\u001b[A\n",
      " 70%|#######   | 54/77 [00:00<00:00, 83.26it/s]\u001b[A\n",
      " 82%|########1 | 63/77 [00:00<00:00, 82.05it/s]\u001b[A\n",
      " 92%|#########2| 71/77 [00:01<00:00, 54.57it/s]\u001b[A\n",
      " 30%|██▉       | 265/884 [00:15<01:48,  5.70it/s]A"
     ]
    },
    {
     "name": "stdout",
     "output_type": "stream",
     "text": [
      "{'ade': 0.45752493, 'fde': 1.0013673}\n",
      "\t last loss:0.000307736, eval on validation:['ade: 0.45752493', 'fde: 1.0013673'], (best ade:0.4523981 at step 43800) \n"
     ]
    },
    {
     "name": "stderr",
     "output_type": "stream",
     "text": [
      " 64%|██████▎   | 563/884 [00:32<00:17, 18.70it/s]"
     ]
    },
    {
     "name": "stdout",
     "output_type": "stream",
     "text": [
      "\tsaving model 48300...\n"
     ]
    },
    {
     "name": "stderr",
     "output_type": "stream",
     "text": [
      "\n",
      "  0%|          | 0/77 [00:00<?, ?it/s]\u001b[A\n",
      " 10%|#         | 8/77 [00:00<00:00, 77.74it/s]\u001b[A"
     ]
    },
    {
     "name": "stdout",
     "output_type": "stream",
     "text": [
      "\tdone\n",
      "Evaluating\n"
     ]
    },
    {
     "name": "stderr",
     "output_type": "stream",
     "text": [
      "\n",
      " 19%|#9        | 15/77 [00:00<00:00, 74.62it/s]\u001b[A\n",
      " 31%|###1      | 24/77 [00:00<00:00, 76.05it/s]\u001b[A\n",
      " 38%|###7      | 29/77 [00:00<00:00, 55.71it/s]\u001b[A\n",
      " 44%|####4     | 34/77 [00:00<00:00, 44.75it/s]\u001b[A\n",
      " 51%|#####     | 39/77 [00:00<00:01, 37.96it/s]\u001b[A\n",
      " 56%|#####5    | 43/77 [00:00<00:01, 32.18it/s]\u001b[A\n",
      " 61%|######1   | 47/77 [00:01<00:00, 30.97it/s]\u001b[A\n",
      " 66%|######6   | 51/77 [00:01<00:00, 31.55it/s]\u001b[A\n",
      " 71%|#######1  | 55/77 [00:01<00:00, 32.83it/s]\u001b[A\n",
      " 78%|#######7  | 60/77 [00:01<00:00, 36.57it/s]\u001b[A\n",
      " 86%|########5 | 66/77 [00:01<00:00, 39.12it/s]\u001b[A\n",
      " 92%|#########2| 71/77 [00:01<00:00, 35.84it/s]\u001b[A\n",
      " 97%|#########7| 75/77 [00:01<00:00, 33.81it/s]\u001b[A\n",
      " 64%|██████▍   | 565/884 [00:35<02:04,  2.55it/s]A"
     ]
    },
    {
     "name": "stdout",
     "output_type": "stream",
     "text": [
      "{'ade': 0.45264462, 'fde': 0.989742}\n",
      "\t last loss:0.000209522, eval on validation:['ade: 0.45264462', 'fde: 0.989742'], (best ade:0.4523981 at step 43800) \n"
     ]
    },
    {
     "name": "stderr",
     "output_type": "stream",
     "text": [
      " 98%|█████████▊| 862/884 [00:51<00:00, 22.71it/s]"
     ]
    },
    {
     "name": "stdout",
     "output_type": "stream",
     "text": [
      "\tsaving model 48600...\n"
     ]
    },
    {
     "name": "stderr",
     "output_type": "stream",
     "text": [
      "\n",
      "  0%|          | 0/77 [00:00<?, ?it/s]\u001b[A\n",
      " 10%|#         | 8/77 [00:00<00:00, 73.83it/s]\u001b[A"
     ]
    },
    {
     "name": "stdout",
     "output_type": "stream",
     "text": [
      "\tdone\n",
      "Evaluating\n"
     ]
    },
    {
     "name": "stderr",
     "output_type": "stream",
     "text": [
      "\n",
      " 18%|#8        | 14/77 [00:00<00:00, 64.30it/s]\u001b[A\n",
      " 26%|##5       | 20/77 [00:00<00:00, 61.04it/s]\u001b[A\n",
      " 35%|###5      | 27/77 [00:00<00:00, 62.09it/s]\u001b[A\n",
      " 43%|####2     | 33/77 [00:00<00:00, 60.17it/s]\u001b[A\n",
      " 52%|#####1    | 40/77 [00:00<00:00, 60.31it/s]\u001b[A\n",
      " 60%|#####9    | 46/77 [00:00<00:00, 59.12it/s]\u001b[A\n",
      " 69%|######8   | 53/77 [00:00<00:00, 60.58it/s]\u001b[A\n",
      " 77%|#######6  | 59/77 [00:00<00:00, 59.38it/s]\u001b[A\n",
      " 86%|########5 | 66/77 [00:01<00:00, 61.99it/s]\u001b[A\n",
      " 96%|#########6| 74/77 [00:01<00:00, 64.69it/s]\u001b[A\n",
      " 98%|█████████▊| 865/884 [00:52<00:03,  5.18it/s]A"
     ]
    },
    {
     "name": "stdout",
     "output_type": "stream",
     "text": [
      "{'ade': 0.4573044, 'fde': 1.0002459}\n",
      "\t last loss:0.000394555, eval on validation:['ade: 0.4573044', 'fde: 1.0002459'], (best ade:0.4523981 at step 43800) \n"
     ]
    },
    {
     "name": "stderr",
     "output_type": "stream",
     "text": [
      "100%|██████████| 884/884 [00:53<00:00, 15.77it/s]\n",
      "  0%|          | 2/884 [00:00<00:45, 19.52it/s]"
     ]
    },
    {
     "name": "stdout",
     "output_type": "stream",
     "text": [
      "('Epoca 56.', 'lr:', 2.4850853e-05)\n"
     ]
    },
    {
     "name": "stderr",
     "output_type": "stream",
     "text": [
      " 31%|███▏      | 277/884 [00:13<00:29, 20.25it/s]"
     ]
    },
    {
     "name": "stdout",
     "output_type": "stream",
     "text": [
      "\tsaving model 48900...\n"
     ]
    },
    {
     "name": "stderr",
     "output_type": "stream",
     "text": [
      "\n",
      "  0%|          | 0/77 [00:00<?, ?it/s]\u001b[A\n",
      "  9%|9         | 7/77 [00:00<00:01, 64.52it/s]\u001b[A"
     ]
    },
    {
     "name": "stdout",
     "output_type": "stream",
     "text": [
      "\tdone\n",
      "Evaluating\n"
     ]
    },
    {
     "name": "stderr",
     "output_type": "stream",
     "text": [
      "\n",
      " 18%|#8        | 14/77 [00:00<00:00, 64.13it/s]\u001b[A\n",
      " 26%|##5       | 20/77 [00:00<00:00, 60.62it/s]\u001b[A\n",
      " 35%|###5      | 27/77 [00:00<00:00, 61.42it/s]\u001b[A\n",
      " 44%|####4     | 34/77 [00:00<00:00, 62.27it/s]\u001b[A\n",
      " 53%|#####3    | 41/77 [00:00<00:00, 63.57it/s]\u001b[A\n",
      " 62%|######2   | 48/77 [00:00<00:00, 64.26it/s]\u001b[A\n",
      " 71%|#######1  | 55/77 [00:00<00:00, 64.50it/s]\u001b[A\n",
      " 81%|########  | 62/77 [00:00<00:00, 65.00it/s]\u001b[A\n",
      " 90%|########9 | 69/77 [00:01<00:00, 64.85it/s]\u001b[A\n",
      " 99%|#########8| 76/77 [00:01<00:00, 65.12it/s]\u001b[A\n",
      " 32%|███▏      | 282/884 [00:15<01:32,  6.54it/s]A"
     ]
    },
    {
     "name": "stdout",
     "output_type": "stream",
     "text": [
      "{'ade': 0.45530024, 'fde': 0.996028}\n",
      "\t last loss:0.000265990, eval on validation:['ade: 0.45530024', 'fde: 0.996028'], (best ade:0.4523981 at step 43800) \n"
     ]
    },
    {
     "name": "stderr",
     "output_type": "stream",
     "text": [
      " 65%|██████▌   | 578/884 [00:27<00:11, 25.60it/s]\n",
      "  0%|          | 0/77 [00:00<?, ?it/s]\u001b[A"
     ]
    },
    {
     "name": "stdout",
     "output_type": "stream",
     "text": [
      "\tsaving model 49200...\n",
      "\tdone\n",
      "Evaluating\n"
     ]
    },
    {
     "name": "stderr",
     "output_type": "stream",
     "text": [
      "\n",
      "  9%|9         | 7/77 [00:00<00:01, 66.79it/s]\u001b[A\n",
      " 18%|#8        | 14/77 [00:00<00:00, 67.16it/s]\u001b[A\n",
      " 29%|##8       | 22/77 [00:00<00:00, 68.21it/s]\u001b[A\n",
      " 38%|###7      | 29/77 [00:00<00:00, 68.14it/s]\u001b[A\n",
      " 47%|####6     | 36/77 [00:00<00:00, 67.52it/s]\u001b[A\n",
      " 56%|#####5    | 43/77 [00:00<00:00, 67.57it/s]\u001b[A\n",
      " 66%|######6   | 51/77 [00:00<00:00, 68.69it/s]\u001b[A\n",
      " 75%|#######5  | 58/77 [00:00<00:00, 68.52it/s]\u001b[A\n",
      " 86%|########5 | 66/77 [00:00<00:00, 69.71it/s]\u001b[A\n",
      " 96%|#########6| 74/77 [00:01<00:00, 70.06it/s]\u001b[A\n",
      " 66%|██████▌   | 581/884 [00:29<00:54,  5.60it/s]A"
     ]
    },
    {
     "name": "stdout",
     "output_type": "stream",
     "text": [
      "{'ade': 0.4600772, 'fde': 1.0087924}\n",
      "\t last loss:0.000202673, eval on validation:['ade: 0.4600772', 'fde: 1.0087924'], (best ade:0.4523981 at step 43800) \n"
     ]
    },
    {
     "name": "stderr",
     "output_type": "stream",
     "text": [
      " 99%|█████████▉| 879/884 [00:42<00:00, 24.12it/s]\n",
      "  0%|          | 0/77 [00:00<?, ?it/s]\u001b[A"
     ]
    },
    {
     "name": "stdout",
     "output_type": "stream",
     "text": [
      "\tsaving model 49500...\n",
      "\tdone\n",
      "Evaluating\n"
     ]
    },
    {
     "name": "stderr",
     "output_type": "stream",
     "text": [
      "\n",
      " 12%|#1        | 9/77 [00:00<00:00, 84.06it/s]\u001b[A\n",
      " 23%|##3       | 18/77 [00:00<00:00, 83.44it/s]\u001b[A\n",
      " 35%|###5      | 27/77 [00:00<00:00, 83.88it/s]\u001b[A\n",
      " 45%|####5     | 35/77 [00:00<00:00, 82.19it/s]\u001b[A\n",
      " 57%|#####7    | 44/77 [00:00<00:00, 82.72it/s]\u001b[A\n",
      " 69%|######8   | 53/77 [00:00<00:00, 83.22it/s]\u001b[A\n",
      " 79%|#######9  | 61/77 [00:00<00:00, 78.13it/s]\u001b[A\n",
      " 90%|########9 | 69/77 [00:00<00:00, 77.32it/s]\u001b[A\n",
      "100%|█████████▉| 882/884 [00:43<00:00,  6.39it/s]A"
     ]
    },
    {
     "name": "stdout",
     "output_type": "stream",
     "text": [
      "{'ade': 0.45736766, 'fde': 1.0002521}\n",
      "\t last loss:0.000341945, eval on validation:['ade: 0.45736766', 'fde: 1.0002521'], (best ade:0.4523981 at step 43800) \n"
     ]
    },
    {
     "name": "stderr",
     "output_type": "stream",
     "text": [
      "100%|██████████| 884/884 [00:43<00:00, 20.21it/s]\n",
      "  0%|          | 2/884 [00:00<00:50, 17.48it/s]"
     ]
    },
    {
     "name": "stdout",
     "output_type": "stream",
     "text": [
      "('Epoca 57.', 'lr:', 2.1123227e-05)\n"
     ]
    },
    {
     "name": "stderr",
     "output_type": "stream",
     "text": [
      " 33%|███▎      | 293/884 [00:12<00:27, 21.71it/s]\n",
      "  0%|          | 0/77 [00:00<?, ?it/s]\u001b[A"
     ]
    },
    {
     "name": "stdout",
     "output_type": "stream",
     "text": [
      "\tsaving model 49800...\n",
      "\tdone\n",
      "Evaluating\n"
     ]
    },
    {
     "name": "stderr",
     "output_type": "stream",
     "text": [
      "\n",
      " 10%|#         | 8/77 [00:00<00:00, 72.43it/s]\u001b[A\n",
      " 21%|##        | 16/77 [00:00<00:00, 72.71it/s]\u001b[A\n",
      " 31%|###1      | 24/77 [00:00<00:00, 73.95it/s]\u001b[A\n",
      " 42%|####1     | 32/77 [00:00<00:00, 74.26it/s]\u001b[A\n",
      " 51%|#####     | 39/77 [00:00<00:00, 71.83it/s]\u001b[A\n",
      " 58%|#####8    | 45/77 [00:00<00:00, 66.58it/s]\u001b[A\n",
      " 68%|######7   | 52/77 [00:00<00:00, 66.63it/s]\u001b[A\n",
      " 78%|#######7  | 60/77 [00:00<00:00, 69.20it/s]\u001b[A\n",
      " 88%|########8 | 68/77 [00:00<00:00, 70.67it/s]\u001b[A\n",
      " 99%|#########8| 76/77 [00:01<00:00, 72.12it/s]\u001b[A\n",
      " 34%|███▍      | 299/884 [00:14<01:19,  7.39it/s]A"
     ]
    },
    {
     "name": "stdout",
     "output_type": "stream",
     "text": [
      "{'ade': 0.45833313, 'fde': 1.002921}\n",
      "\t last loss:0.000210512, eval on validation:['ade: 0.45833313', 'fde: 1.002921'], (best ade:0.4523981 at step 43800) \n"
     ]
    },
    {
     "name": "stderr",
     "output_type": "stream",
     "text": [
      " 67%|██████▋   | 593/884 [00:26<00:11, 24.55it/s]\n",
      "  0%|          | 0/77 [00:00<?, ?it/s]\u001b[A"
     ]
    },
    {
     "name": "stdout",
     "output_type": "stream",
     "text": [
      "\tsaving model 50100...\n",
      "\tdone\n",
      "Evaluating\n"
     ]
    },
    {
     "name": "stderr",
     "output_type": "stream",
     "text": [
      "\n",
      "  9%|9         | 7/77 [00:00<00:01, 67.50it/s]\u001b[A\n",
      " 21%|##        | 16/77 [00:00<00:00, 70.83it/s]\u001b[A\n",
      " 32%|###2      | 25/77 [00:00<00:00, 74.28it/s]\u001b[A\n",
      " 44%|####4     | 34/77 [00:00<00:00, 77.18it/s]\u001b[A\n",
      " 55%|#####4    | 42/77 [00:00<00:00, 77.84it/s]\u001b[A\n",
      " 66%|######6   | 51/77 [00:00<00:00, 79.66it/s]\u001b[A\n",
      " 78%|#######7  | 60/77 [00:00<00:00, 81.43it/s]\u001b[A\n",
      " 90%|########9 | 69/77 [00:00<00:00, 82.23it/s]\u001b[A\n",
      " 68%|██████▊   | 599/884 [00:27<00:34,  8.19it/s]A"
     ]
    },
    {
     "name": "stdout",
     "output_type": "stream",
     "text": [
      "{'ade': 0.45875806, 'fde': 1.006722}\n",
      "\t last loss:0.000148792, eval on validation:['ade: 0.45875806', 'fde: 1.006722'], (best ade:0.4523981 at step 43800) \n"
     ]
    },
    {
     "name": "stderr",
     "output_type": "stream",
     "text": [
      "100%|██████████| 884/884 [00:40<00:00, 21.93it/s]\n",
      "  0%|          | 3/884 [00:00<00:35, 24.49it/s]"
     ]
    },
    {
     "name": "stdout",
     "output_type": "stream",
     "text": [
      "('Epoca 58.', 'lr:', 2.1123227e-05)\n"
     ]
    },
    {
     "name": "stderr",
     "output_type": "stream",
     "text": [
      "  1%|          | 9/884 [00:00<00:35, 24.44it/s]\n",
      "  0%|          | 0/77 [00:00<?, ?it/s]\u001b[A"
     ]
    },
    {
     "name": "stdout",
     "output_type": "stream",
     "text": [
      "\tsaving model 50400...\n",
      "\tdone\n",
      "Evaluating\n"
     ]
    },
    {
     "name": "stderr",
     "output_type": "stream",
     "text": [
      "\n",
      " 12%|#1        | 9/77 [00:00<00:00, 86.14it/s]\u001b[A\n",
      " 25%|##4       | 19/77 [00:00<00:00, 87.68it/s]\u001b[A\n",
      " 38%|###7      | 29/77 [00:00<00:00, 88.86it/s]\u001b[A\n",
      " 51%|#####     | 39/77 [00:00<00:00, 90.27it/s]\u001b[A\n",
      " 64%|######3   | 49/77 [00:00<00:00, 91.25it/s]\u001b[A\n",
      " 74%|#######4  | 57/77 [00:00<00:00, 87.07it/s]\u001b[A\n",
      " 86%|########5 | 66/77 [00:00<00:00, 87.05it/s]\u001b[A\n",
      " 97%|#########7| 75/77 [00:00<00:00, 86.76it/s]\u001b[A\n",
      "  2%|▏         | 15/884 [00:01<01:38,  8.85it/s][A"
     ]
    },
    {
     "name": "stdout",
     "output_type": "stream",
     "text": [
      "{'ade': 0.45891553, 'fde': 1.0051718}\n",
      "\t last loss:0.000294660, eval on validation:['ade: 0.45891553', 'fde: 1.0051718'], (best ade:0.4523981 at step 43800) \n"
     ]
    },
    {
     "name": "stderr",
     "output_type": "stream",
     "text": [
      " 35%|███▍      | 309/884 [00:14<00:26, 22.09it/s]\n",
      "  0%|          | 0/77 [00:00<?, ?it/s]\u001b[A"
     ]
    },
    {
     "name": "stdout",
     "output_type": "stream",
     "text": [
      "\tsaving model 50700...\n",
      "\tdone\n",
      "Evaluating\n"
     ]
    },
    {
     "name": "stderr",
     "output_type": "stream",
     "text": [
      "\n",
      " 10%|#         | 8/77 [00:00<00:00, 72.76it/s]\u001b[A\n",
      " 21%|##        | 16/77 [00:00<00:00, 72.92it/s]\u001b[A\n",
      " 31%|###1      | 24/77 [00:00<00:00, 73.32it/s]\u001b[A\n",
      " 39%|###8      | 30/77 [00:00<00:00, 68.08it/s]\u001b[A\n",
      " 49%|####9     | 38/77 [00:00<00:00, 69.17it/s]\u001b[A\n",
      " 60%|#####9    | 46/77 [00:00<00:00, 70.52it/s]\u001b[A\n",
      " 70%|#######   | 54/77 [00:00<00:00, 71.18it/s]\u001b[A\n",
      " 81%|########  | 62/77 [00:00<00:00, 72.44it/s]\u001b[A\n",
      " 92%|#########2| 71/77 [00:00<00:00, 75.76it/s]\u001b[A\n",
      " 36%|███▌      | 315/884 [00:16<01:14,  7.60it/s]A"
     ]
    },
    {
     "name": "stdout",
     "output_type": "stream",
     "text": [
      "{'ade': 0.45469806, 'fde': 0.9942107}\n",
      "\t last loss:0.000323387, eval on validation:['ade: 0.45469806', 'fde: 0.9942107'], (best ade:0.4523981 at step 43800) \n"
     ]
    },
    {
     "name": "stderr",
     "output_type": "stream",
     "text": [
      " 69%|██████▉   | 609/884 [00:27<00:12, 22.49it/s]"
     ]
    },
    {
     "name": "stdout",
     "output_type": "stream",
     "text": [
      "\tsaving model 51000...\n"
     ]
    },
    {
     "name": "stderr",
     "output_type": "stream",
     "text": [
      "\n",
      "  0%|          | 0/77 [00:00<?, ?it/s]\u001b[A\n",
      "  9%|9         | 7/77 [00:00<00:01, 61.56it/s]\u001b[A"
     ]
    },
    {
     "name": "stdout",
     "output_type": "stream",
     "text": [
      "\tdone\n",
      "Evaluating\n"
     ]
    },
    {
     "name": "stderr",
     "output_type": "stream",
     "text": [
      "\n",
      " 18%|#8        | 14/77 [00:00<00:01, 61.67it/s]\u001b[A\n",
      " 26%|##5       | 20/77 [00:00<00:00, 60.64it/s]\u001b[A\n",
      " 35%|###5      | 27/77 [00:00<00:00, 62.43it/s]\u001b[A\n",
      " 44%|####4     | 34/77 [00:00<00:00, 63.77it/s]\u001b[A\n",
      " 53%|#####3    | 41/77 [00:00<00:00, 64.47it/s]\u001b[A\n",
      " 62%|######2   | 48/77 [00:00<00:00, 64.71it/s]\u001b[A\n",
      " 71%|#######1  | 55/77 [00:00<00:00, 65.95it/s]\u001b[A\n",
      " 81%|########  | 62/77 [00:00<00:00, 62.85it/s]\u001b[A\n",
      " 90%|########9 | 69/77 [00:01<00:00, 62.50it/s]\u001b[A\n",
      " 99%|#########8| 76/77 [00:01<00:00, 62.17it/s]\u001b[A\n",
      " 70%|██████▉   | 615/884 [00:29<00:40,  6.69it/s]A"
     ]
    },
    {
     "name": "stdout",
     "output_type": "stream",
     "text": [
      "{'ade': 0.45359835, 'fde': 0.9938812}\n",
      "\t last loss:0.000365425, eval on validation:['ade: 0.45359835', 'fde: 0.9938812'], (best ade:0.4523981 at step 43800) \n"
     ]
    },
    {
     "name": "stderr",
     "output_type": "stream",
     "text": [
      "100%|██████████| 884/884 [00:41<00:00, 21.37it/s]\n",
      "  0%|          | 1/884 [00:00<01:44,  8.42it/s]"
     ]
    },
    {
     "name": "stdout",
     "output_type": "stream",
     "text": [
      "('Epoca 59.', 'lr:', 1.7954744e-05)\n"
     ]
    },
    {
     "name": "stderr",
     "output_type": "stream",
     "text": [
      "  3%|▎         | 25/884 [00:01<00:37, 22.71it/s]\n",
      "  0%|          | 0/77 [00:00<?, ?it/s]\u001b[A"
     ]
    },
    {
     "name": "stdout",
     "output_type": "stream",
     "text": [
      "\tsaving model 51300...\n",
      "\tdone\n",
      "Evaluating\n"
     ]
    },
    {
     "name": "stderr",
     "output_type": "stream",
     "text": [
      "\n",
      " 12%|#1        | 9/77 [00:00<00:00, 84.83it/s]\u001b[A\n",
      " 25%|##4       | 19/77 [00:00<00:00, 87.17it/s]\u001b[A\n",
      " 38%|###7      | 29/77 [00:00<00:00, 88.80it/s]\u001b[A\n",
      " 51%|#####     | 39/77 [00:00<00:00, 89.88it/s]\u001b[A\n",
      " 62%|######2   | 48/77 [00:00<00:00, 89.15it/s]\u001b[A\n",
      " 73%|#######2  | 56/77 [00:00<00:00, 85.63it/s]\u001b[A\n",
      " 84%|########4 | 65/77 [00:00<00:00, 86.29it/s]\u001b[A\n",
      " 96%|#########6| 74/77 [00:00<00:00, 86.97it/s]\u001b[A\n",
      "  4%|▎         | 31/884 [00:02<01:38,  8.67it/s][A"
     ]
    },
    {
     "name": "stdout",
     "output_type": "stream",
     "text": [
      "{'ade': 0.45556885, 'fde': 0.9980309}\n",
      "\t last loss:0.000231196, eval on validation:['ade: 0.45556885', 'fde: 0.9980309'], (best ade:0.4523981 at step 43800) \n"
     ]
    },
    {
     "name": "stderr",
     "output_type": "stream",
     "text": [
      " 37%|███▋      | 325/884 [00:15<00:23, 23.66it/s]\n",
      "  0%|          | 0/77 [00:00<?, ?it/s]\u001b[A"
     ]
    },
    {
     "name": "stdout",
     "output_type": "stream",
     "text": [
      "\tsaving model 51600...\n",
      "\tdone\n",
      "Evaluating\n"
     ]
    },
    {
     "name": "stderr",
     "output_type": "stream",
     "text": [
      "\n",
      " 10%|#         | 8/77 [00:00<00:00, 79.55it/s]\u001b[A\n",
      " 21%|##        | 16/77 [00:00<00:00, 78.29it/s]\u001b[A\n",
      " 31%|###1      | 24/77 [00:00<00:00, 76.94it/s]\u001b[A\n",
      " 42%|####1     | 32/77 [00:00<00:00, 77.73it/s]\u001b[A\n",
      " 53%|#####3    | 41/77 [00:00<00:00, 78.83it/s]\u001b[A\n",
      " 64%|######3   | 49/77 [00:00<00:00, 78.79it/s]\u001b[A\n",
      " 74%|#######4  | 57/77 [00:00<00:00, 79.14it/s]\u001b[A\n",
      " 86%|########5 | 66/77 [00:00<00:00, 80.36it/s]\u001b[A\n",
      " 97%|#########7| 75/77 [00:00<00:00, 81.89it/s]\u001b[A\n",
      " 37%|███▋      | 331/884 [00:16<01:07,  8.15it/s]A"
     ]
    },
    {
     "name": "stdout",
     "output_type": "stream",
     "text": [
      "{'ade': 0.4539176, 'fde': 0.99385697}\n",
      "\t last loss:0.000276796, eval on validation:['ade: 0.4539176', 'fde: 0.99385697'], (best ade:0.4523981 at step 43800) \n"
     ]
    },
    {
     "name": "stderr",
     "output_type": "stream",
     "text": [
      " 71%|███████   | 625/884 [00:29<00:12, 20.68it/s]"
     ]
    },
    {
     "name": "stdout",
     "output_type": "stream",
     "text": [
      "\tsaving model 51900...\n"
     ]
    },
    {
     "name": "stderr",
     "output_type": "stream",
     "text": [
      "\n",
      "  0%|          | 0/77 [00:00<?, ?it/s]\u001b[A\n",
      "  9%|9         | 7/77 [00:00<00:01, 66.09it/s]\u001b[A"
     ]
    },
    {
     "name": "stdout",
     "output_type": "stream",
     "text": [
      "\tdone\n",
      "Evaluating\n"
     ]
    },
    {
     "name": "stderr",
     "output_type": "stream",
     "text": [
      "\n",
      " 16%|#5        | 12/77 [00:00<00:01, 59.52it/s]\u001b[A\n",
      " 23%|##3       | 18/77 [00:00<00:01, 58.73it/s]\u001b[A\n",
      " 32%|###2      | 25/77 [00:00<00:00, 60.11it/s]\u001b[A\n",
      " 42%|####1     | 32/77 [00:00<00:00, 61.22it/s]\u001b[A\n",
      " 51%|#####     | 39/77 [00:00<00:00, 62.73it/s]\u001b[A\n",
      " 61%|######1   | 47/77 [00:00<00:00, 66.36it/s]\u001b[A\n",
      " 71%|#######1  | 55/77 [00:00<00:00, 68.40it/s]\u001b[A\n",
      " 82%|########1 | 63/77 [00:00<00:00, 70.39it/s]\u001b[A\n",
      " 92%|#########2| 71/77 [00:01<00:00, 72.15it/s]\u001b[A\n",
      " 71%|███████▏  | 630/884 [00:31<00:37,  6.74it/s]A"
     ]
    },
    {
     "name": "stdout",
     "output_type": "stream",
     "text": [
      "{'ade': 0.45496583, 'fde': 0.99652475}\n",
      "\t last loss:0.000297328, eval on validation:['ade: 0.45496583', 'fde: 0.99652475'], (best ade:0.4523981 at step 43800) \n"
     ]
    },
    {
     "name": "stderr",
     "output_type": "stream",
     "text": [
      "100%|██████████| 884/884 [00:41<00:00, 21.19it/s]\n",
      "  0%|          | 3/884 [00:00<00:35, 24.89it/s]"
     ]
    },
    {
     "name": "stdout",
     "output_type": "stream",
     "text": [
      "('Epoca 60.', 'lr:', 1.7954744e-05)\n"
     ]
    },
    {
     "name": "stderr",
     "output_type": "stream",
     "text": [
      "  5%|▍         | 42/884 [00:01<00:34, 24.46it/s]\n",
      "  0%|          | 0/77 [00:00<?, ?it/s]\u001b[A"
     ]
    },
    {
     "name": "stdout",
     "output_type": "stream",
     "text": [
      "\tsaving model 52200...\n",
      "\tdone\n",
      "Evaluating\n"
     ]
    },
    {
     "name": "stderr",
     "output_type": "stream",
     "text": [
      "\n",
      " 12%|#1        | 9/77 [00:00<00:00, 84.00it/s]\u001b[A\n",
      " 22%|##2       | 17/77 [00:00<00:00, 82.34it/s]\u001b[A\n",
      " 31%|###1      | 24/77 [00:00<00:00, 77.52it/s]\u001b[A\n",
      " 42%|####1     | 32/77 [00:00<00:00, 78.01it/s]\u001b[A\n",
      " 53%|#####3    | 41/77 [00:00<00:00, 79.69it/s]\u001b[A\n",
      " 65%|######4   | 50/77 [00:00<00:00, 81.08it/s]\u001b[A\n",
      " 77%|#######6  | 59/77 [00:00<00:00, 81.95it/s]\u001b[A\n",
      " 88%|########8 | 68/77 [00:00<00:00, 82.90it/s]\u001b[A\n",
      " 99%|#########8| 76/77 [00:00<00:00, 81.58it/s]\u001b[A\n",
      "  5%|▌         | 45/884 [00:02<02:11,  6.38it/s][A"
     ]
    },
    {
     "name": "stdout",
     "output_type": "stream",
     "text": [
      "{'ade': 0.45437846, 'fde': 0.995134}\n",
      "\t last loss:0.000239169, eval on validation:['ade: 0.45437846', 'fde: 0.995134'], (best ade:0.4523981 at step 43800) \n"
     ]
    },
    {
     "name": "stderr",
     "output_type": "stream",
     "text": [
      " 39%|███▊      | 341/884 [00:15<00:26, 20.21it/s]"
     ]
    },
    {
     "name": "stdout",
     "output_type": "stream",
     "text": [
      "\tsaving model 52500...\n"
     ]
    },
    {
     "name": "stderr",
     "output_type": "stream",
     "text": [
      "\n",
      "  0%|          | 0/77 [00:00<?, ?it/s]\u001b[A\n",
      "  9%|9         | 7/77 [00:00<00:01, 66.25it/s]\u001b[A"
     ]
    },
    {
     "name": "stdout",
     "output_type": "stream",
     "text": [
      "\tdone\n",
      "Evaluating\n"
     ]
    },
    {
     "name": "stderr",
     "output_type": "stream",
     "text": [
      "\n",
      " 18%|#8        | 14/77 [00:00<00:00, 65.92it/s]\u001b[A\n",
      " 27%|##7       | 21/77 [00:00<00:00, 65.77it/s]\u001b[A\n",
      " 36%|###6      | 28/77 [00:00<00:00, 66.09it/s]\u001b[A\n",
      " 45%|####5     | 35/77 [00:00<00:00, 65.62it/s]\u001b[A\n",
      " 53%|#####3    | 41/77 [00:00<00:00, 63.18it/s]\u001b[A\n",
      " 62%|######2   | 48/77 [00:00<00:00, 63.73it/s]\u001b[A\n",
      " 71%|#######1  | 55/77 [00:00<00:00, 63.96it/s]\u001b[A\n",
      " 81%|########  | 62/77 [00:00<00:00, 64.75it/s]\u001b[A\n",
      " 90%|########9 | 69/77 [00:01<00:00, 64.36it/s]\u001b[A\n",
      " 39%|███▉      | 347/884 [00:17<01:18,  6.87it/s]A"
     ]
    },
    {
     "name": "stdout",
     "output_type": "stream",
     "text": [
      "{'ade': 0.45430633, 'fde': 0.9939073}\n",
      "\t last loss:0.000172714, eval on validation:['ade: 0.45430633', 'fde: 0.9939073'], (best ade:0.4523981 at step 43800) \n"
     ]
    },
    {
     "name": "stderr",
     "output_type": "stream",
     "text": [
      " 73%|███████▎  | 643/884 [00:29<00:09, 24.62it/s]\n",
      "  0%|          | 0/77 [00:00<?, ?it/s]\u001b[A"
     ]
    },
    {
     "name": "stdout",
     "output_type": "stream",
     "text": [
      "\tsaving model 52800...\n",
      "\tdone\n",
      "Evaluating\n"
     ]
    },
    {
     "name": "stderr",
     "output_type": "stream",
     "text": [
      "\n",
      " 12%|#1        | 9/77 [00:00<00:00, 83.54it/s]\u001b[A\n",
      " 22%|##2       | 17/77 [00:00<00:00, 81.89it/s]\u001b[A\n",
      " 34%|###3      | 26/77 [00:00<00:00, 82.80it/s]\u001b[A\n",
      " 45%|####5     | 35/77 [00:00<00:00, 83.39it/s]\u001b[A\n",
      " 56%|#####5    | 43/77 [00:00<00:00, 82.21it/s]\u001b[A\n",
      " 68%|######7   | 52/77 [00:00<00:00, 82.29it/s]\u001b[A\n",
      " 79%|#######9  | 61/77 [00:00<00:00, 83.01it/s]\u001b[A\n",
      " 90%|########9 | 69/77 [00:00<00:00, 79.26it/s]\u001b[A\n",
      " 73%|███████▎  | 646/884 [00:30<00:36,  6.43it/s]A"
     ]
    },
    {
     "name": "stdout",
     "output_type": "stream",
     "text": [
      "{'ade': 0.4562209, 'fde': 0.99863553}\n",
      "\t last loss:0.000316025, eval on validation:['ade: 0.4562209', 'fde: 0.99863553'], (best ade:0.4523981 at step 43800) \n"
     ]
    },
    {
     "name": "stderr",
     "output_type": "stream",
     "text": [
      "100%|██████████| 884/884 [00:41<00:00, 21.40it/s]\n",
      "  0%|          | 1/884 [00:00<01:53,  7.78it/s]"
     ]
    },
    {
     "name": "stdout",
     "output_type": "stream",
     "text": [
      "('Epoca 61.', 'lr:', 1.5261532e-05)\n"
     ]
    },
    {
     "name": "stderr",
     "output_type": "stream",
     "text": [
      "  7%|▋         | 58/884 [00:02<00:33, 24.33it/s]\n",
      "  0%|          | 0/77 [00:00<?, ?it/s]\u001b[A"
     ]
    },
    {
     "name": "stdout",
     "output_type": "stream",
     "text": [
      "\tsaving model 53100...\n",
      "\tdone\n",
      "Evaluating\n"
     ]
    },
    {
     "name": "stderr",
     "output_type": "stream",
     "text": [
      "\n",
      " 12%|#1        | 9/77 [00:00<00:00, 82.62it/s]\u001b[A\n",
      " 22%|##2       | 17/77 [00:00<00:00, 79.29it/s]\u001b[A\n",
      " 32%|###2      | 25/77 [00:00<00:00, 78.95it/s]\u001b[A\n",
      " 44%|####4     | 34/77 [00:00<00:00, 79.57it/s]\u001b[A\n",
      " 56%|#####5    | 43/77 [00:00<00:00, 80.53it/s]\u001b[A\n",
      " 68%|######7   | 52/77 [00:00<00:00, 80.96it/s]\u001b[A\n",
      " 79%|#######9  | 61/77 [00:00<00:00, 82.56it/s]\u001b[A\n",
      " 92%|#########2| 71/77 [00:00<00:00, 85.33it/s]\u001b[A\n",
      "  7%|▋         | 64/884 [00:03<01:37,  8.45it/s][A"
     ]
    },
    {
     "name": "stdout",
     "output_type": "stream",
     "text": [
      "{'ade': 0.45425326, 'fde': 0.99421364}\n",
      "\t last loss:0.000328834, eval on validation:['ade: 0.45425326', 'fde: 0.99421364'], (best ade:0.4523981 at step 43800) \n"
     ]
    },
    {
     "name": "stderr",
     "output_type": "stream",
     "text": [
      " 40%|████      | 358/884 [00:16<00:23, 22.33it/s]\n",
      "  0%|          | 0/77 [00:00<?, ?it/s]\u001b[A"
     ]
    },
    {
     "name": "stdout",
     "output_type": "stream",
     "text": [
      "\tsaving model 53400...\n",
      "\tdone\n",
      "Evaluating\n"
     ]
    },
    {
     "name": "stderr",
     "output_type": "stream",
     "text": [
      "\n",
      " 10%|#         | 8/77 [00:00<00:00, 72.61it/s]\u001b[A\n",
      " 18%|#8        | 14/77 [00:00<00:00, 67.03it/s]\u001b[A\n",
      " 29%|##8       | 22/77 [00:00<00:00, 68.99it/s]\u001b[A\n",
      " 39%|###8      | 30/77 [00:00<00:00, 70.29it/s]\u001b[A\n",
      " 49%|####9     | 38/77 [00:00<00:00, 71.75it/s]\u001b[A\n",
      " 60%|#####9    | 46/77 [00:00<00:00, 72.84it/s]\u001b[A\n",
      " 70%|#######   | 54/77 [00:00<00:00, 72.97it/s]\u001b[A\n",
      " 81%|########  | 62/77 [00:00<00:00, 73.84it/s]\u001b[A\n",
      " 91%|######### | 70/77 [00:00<00:00, 74.63it/s]\u001b[A\n",
      " 41%|████      | 363/884 [00:17<01:11,  7.33it/s]A"
     ]
    },
    {
     "name": "stdout",
     "output_type": "stream",
     "text": [
      "{'ade': 0.45733228, 'fde': 1.0008522}\n",
      "\t last loss:0.000269807, eval on validation:['ade: 0.45733228', 'fde: 1.0008522'], (best ade:0.4523981 at step 43800) \n"
     ]
    },
    {
     "name": "stderr",
     "output_type": "stream",
     "text": [
      " 75%|███████▍  | 659/884 [00:30<00:10, 22.41it/s]\n",
      "  0%|          | 0/77 [00:00<?, ?it/s]\u001b[A"
     ]
    },
    {
     "name": "stdout",
     "output_type": "stream",
     "text": [
      "\tsaving model 53700...\n",
      "\tdone\n",
      "Evaluating\n"
     ]
    },
    {
     "name": "stderr",
     "output_type": "stream",
     "text": [
      "\n",
      " 12%|#1        | 9/77 [00:00<00:00, 82.08it/s]\u001b[A\n",
      " 23%|##3       | 18/77 [00:00<00:00, 82.96it/s]\u001b[A\n",
      " 35%|###5      | 27/77 [00:00<00:00, 83.45it/s]\u001b[A\n",
      " 47%|####6     | 36/77 [00:00<00:00, 83.03it/s]\u001b[A\n",
      " 58%|#####8    | 45/77 [00:00<00:00, 83.70it/s]\u001b[A\n",
      " 69%|######8   | 53/77 [00:00<00:00, 82.07it/s]\u001b[A\n",
      " 79%|#######9  | 61/77 [00:00<00:00, 78.49it/s]\u001b[A\n",
      " 91%|######### | 70/77 [00:00<00:00, 79.24it/s]\u001b[A\n",
      " 75%|███████▍  | 662/884 [00:31<00:35,  6.34it/s]A"
     ]
    },
    {
     "name": "stdout",
     "output_type": "stream",
     "text": [
      "{'ade': 0.45876077, 'fde': 1.0050313}\n",
      "\t last loss:0.000276271, eval on validation:['ade: 0.45876077', 'fde: 1.0050313'], (best ade:0.4523981 at step 43800) \n"
     ]
    },
    {
     "name": "stderr",
     "output_type": "stream",
     "text": [
      "100%|██████████| 884/884 [00:40<00:00, 20.72it/s]\n",
      "  0%|          | 1/884 [00:00<01:34,  9.39it/s]"
     ]
    },
    {
     "name": "stdout",
     "output_type": "stream",
     "text": [
      "('Epoca 62.', 'lr:', 1.5261532e-05)\n"
     ]
    },
    {
     "name": "stderr",
     "output_type": "stream",
     "text": [
      "  8%|▊         | 73/884 [00:03<00:37, 21.40it/s]\n",
      "  0%|          | 0/77 [00:00<?, ?it/s]\u001b[A"
     ]
    },
    {
     "name": "stdout",
     "output_type": "stream",
     "text": [
      "\tsaving model 54000...\n",
      "\tdone\n",
      "Evaluating\n"
     ]
    },
    {
     "name": "stderr",
     "output_type": "stream",
     "text": [
      "\n",
      "  9%|9         | 7/77 [00:00<00:01, 66.93it/s]\u001b[A\n",
      " 19%|#9        | 15/77 [00:00<00:00, 69.22it/s]\u001b[A\n",
      " 30%|##9       | 23/77 [00:00<00:00, 70.55it/s]\u001b[A\n",
      " 40%|####      | 31/77 [00:00<00:00, 72.19it/s]\u001b[A\n",
      " 51%|#####     | 39/77 [00:00<00:00, 72.67it/s]\u001b[A\n",
      " 61%|######1   | 47/77 [00:00<00:00, 73.43it/s]\u001b[A\n",
      " 70%|#######   | 54/77 [00:00<00:00, 70.49it/s]\u001b[A\n",
      " 81%|########  | 62/77 [00:00<00:00, 71.47it/s]\u001b[A\n",
      " 91%|######### | 70/77 [00:00<00:00, 72.21it/s]\u001b[A\n",
      "  9%|▉         | 79/884 [00:05<01:48,  7.44it/s][A"
     ]
    },
    {
     "name": "stdout",
     "output_type": "stream",
     "text": [
      "{'ade': 0.45365864, 'fde': 0.9919402}\n",
      "\t last loss:0.000233283, eval on validation:['ade: 0.45365864', 'fde: 0.9919402'], (best ade:0.4523981 at step 43800) \n"
     ]
    },
    {
     "name": "stderr",
     "output_type": "stream",
     "text": [
      " 42%|████▏     | 373/884 [00:17<00:20, 24.93it/s]\n",
      "  0%|          | 0/77 [00:00<?, ?it/s]\u001b[A"
     ]
    },
    {
     "name": "stdout",
     "output_type": "stream",
     "text": [
      "\tsaving model 54300...\n",
      "\tdone\n",
      "Evaluating\n"
     ]
    },
    {
     "name": "stderr",
     "output_type": "stream",
     "text": [
      "\n",
      " 10%|#         | 8/77 [00:00<00:00, 78.16it/s]\u001b[A\n",
      " 19%|#9        | 15/77 [00:00<00:00, 73.77it/s]\u001b[A\n",
      " 30%|##9       | 23/77 [00:00<00:00, 74.79it/s]\u001b[A\n",
      " 42%|####1     | 32/77 [00:00<00:00, 77.24it/s]\u001b[A\n",
      " 53%|#####3    | 41/77 [00:00<00:00, 78.95it/s]\u001b[A\n",
      " 64%|######3   | 49/77 [00:00<00:00, 79.07it/s]\u001b[A\n",
      " 75%|#######5  | 58/77 [00:00<00:00, 80.58it/s]\u001b[A\n",
      " 87%|########7 | 67/77 [00:00<00:00, 81.50it/s]\u001b[A\n",
      " 97%|#########7| 75/77 [00:00<00:00, 80.81it/s]\u001b[A\n",
      " 43%|████▎     | 379/884 [00:18<01:02,  8.09it/s]A"
     ]
    },
    {
     "name": "stdout",
     "output_type": "stream",
     "text": [
      "{'ade': 0.4557447, 'fde': 0.9975818}\n",
      "\t last loss:0.000236226, eval on validation:['ade: 0.4557447', 'fde: 0.9975818'], (best ade:0.4523981 at step 43800) \n"
     ]
    },
    {
     "name": "stderr",
     "output_type": "stream",
     "text": [
      " 76%|███████▋  | 675/884 [00:32<00:08, 25.69it/s]\n",
      "  0%|          | 0/77 [00:00<?, ?it/s]\u001b[A"
     ]
    },
    {
     "name": "stdout",
     "output_type": "stream",
     "text": [
      "\tsaving model 54600...\n",
      "\tdone\n",
      "Evaluating\n"
     ]
    },
    {
     "name": "stderr",
     "output_type": "stream",
     "text": [
      "\n",
      " 13%|#2        | 10/77 [00:00<00:00, 91.76it/s]\u001b[A\n",
      " 26%|##5       | 20/77 [00:00<00:00, 92.16it/s]\u001b[A\n",
      " 38%|###7      | 29/77 [00:00<00:00, 89.70it/s]\u001b[A\n",
      " 49%|####9     | 38/77 [00:00<00:00, 87.88it/s]\u001b[A\n",
      " 61%|######1   | 47/77 [00:00<00:00, 88.39it/s]\u001b[A\n",
      " 74%|#######4  | 57/77 [00:00<00:00, 90.03it/s]\u001b[A\n",
      " 87%|########7 | 67/77 [00:00<00:00, 91.23it/s]\u001b[A\n",
      " 77%|███████▋  | 678/884 [00:33<00:29,  7.06it/s]A"
     ]
    },
    {
     "name": "stdout",
     "output_type": "stream",
     "text": [
      "{'ade': 0.4570743, 'fde': 1.0002666}\n",
      "\t last loss:0.000232712, eval on validation:['ade: 0.4570743', 'fde: 1.0002666'], (best ade:0.4523981 at step 43800) \n"
     ]
    },
    {
     "name": "stderr",
     "output_type": "stream",
     "text": [
      "100%|██████████| 884/884 [00:42<00:00, 20.94it/s]\n",
      "  0%|          | 1/884 [00:00<01:40,  8.78it/s]"
     ]
    },
    {
     "name": "stdout",
     "output_type": "stream",
     "text": [
      "('Epoca 63.', 'lr:', 1.2972303e-05)\n"
     ]
    },
    {
     "name": "stderr",
     "output_type": "stream",
     "text": [
      " 10%|█         | 91/884 [00:04<00:34, 22.66it/s]\n",
      "  0%|          | 0/77 [00:00<?, ?it/s]\u001b[A"
     ]
    },
    {
     "name": "stdout",
     "output_type": "stream",
     "text": [
      "\tsaving model 54900...\n",
      "\tdone\n",
      "Evaluating\n"
     ]
    },
    {
     "name": "stderr",
     "output_type": "stream",
     "text": [
      "\n",
      " 10%|#         | 8/77 [00:00<00:00, 76.80it/s]\u001b[A\n",
      " 21%|##        | 16/77 [00:00<00:00, 76.20it/s]\u001b[A\n",
      " 31%|###1      | 24/77 [00:00<00:00, 76.16it/s]\u001b[A\n",
      " 42%|####1     | 32/77 [00:00<00:00, 75.05it/s]\u001b[A\n",
      " 52%|#####1    | 40/77 [00:00<00:00, 74.88it/s]\u001b[A\n",
      " 62%|######2   | 48/77 [00:00<00:00, 74.94it/s]\u001b[A\n",
      " 74%|#######4  | 57/77 [00:00<00:00, 77.29it/s]\u001b[A\n",
      " 86%|########5 | 66/77 [00:00<00:00, 79.42it/s]\u001b[A\n",
      " 96%|#########6| 74/77 [00:00<00:00, 78.12it/s]\u001b[A\n",
      " 11%|█         | 94/884 [00:05<02:10,  6.04it/s][A"
     ]
    },
    {
     "name": "stdout",
     "output_type": "stream",
     "text": [
      "{'ade': 0.45531037, 'fde': 0.99714524}\n",
      "\t last loss:0.000125800, eval on validation:['ade: 0.45531037', 'fde: 0.99714524'], (best ade:0.4523981 at step 43800) \n"
     ]
    },
    {
     "name": "stderr",
     "output_type": "stream",
     "text": [
      " 44%|████▍     | 391/884 [00:17<00:26, 18.59it/s]\n",
      "  0%|          | 0/77 [00:00<?, ?it/s]\u001b[A"
     ]
    },
    {
     "name": "stdout",
     "output_type": "stream",
     "text": [
      "\tsaving model 55200...\n",
      "\tdone\n",
      "Evaluating\n"
     ]
    },
    {
     "name": "stderr",
     "output_type": "stream",
     "text": [
      "\n",
      "  9%|9         | 7/77 [00:00<00:01, 66.43it/s]\u001b[A\n",
      " 18%|#8        | 14/77 [00:00<00:00, 66.88it/s]\u001b[A\n",
      " 26%|##5       | 20/77 [00:00<00:00, 62.19it/s]\u001b[A\n",
      " 34%|###3      | 26/77 [00:00<00:00, 61.13it/s]\u001b[A\n",
      " 43%|####2     | 33/77 [00:00<00:00, 62.38it/s]\u001b[A\n",
      " 52%|#####1    | 40/77 [00:00<00:00, 63.96it/s]\u001b[A\n",
      " 61%|######1   | 47/77 [00:00<00:00, 64.53it/s]\u001b[A\n",
      " 70%|#######   | 54/77 [00:00<00:00, 65.27it/s]\u001b[A\n",
      " 81%|########  | 62/77 [00:00<00:00, 66.82it/s]\u001b[A\n",
      " 90%|########9 | 69/77 [00:01<00:00, 67.30it/s]\u001b[A\n",
      " 99%|#########8| 76/77 [00:01<00:00, 67.53it/s]\u001b[A\n",
      " 44%|████▍     | 393/884 [00:19<02:10,  3.76it/s]A"
     ]
    },
    {
     "name": "stdout",
     "output_type": "stream",
     "text": [
      "{'ade': 0.4568881, 'fde': 0.9983286}\n",
      "\t last loss:0.000458044, eval on validation:['ade: 0.4568881', 'fde: 0.9983286'], (best ade:0.4523981 at step 43800) \n"
     ]
    },
    {
     "name": "stderr",
     "output_type": "stream",
     "text": [
      " 78%|███████▊  | 690/884 [00:34<00:09, 20.59it/s]"
     ]
    },
    {
     "name": "stdout",
     "output_type": "stream",
     "text": [
      "\tsaving model 55500...\n"
     ]
    },
    {
     "name": "stderr",
     "output_type": "stream",
     "text": [
      "\n",
      "  0%|          | 0/77 [00:00<?, ?it/s]\u001b[A\n",
      "  9%|9         | 7/77 [00:00<00:01, 65.63it/s]\u001b[A"
     ]
    },
    {
     "name": "stdout",
     "output_type": "stream",
     "text": [
      "\tdone\n",
      "Evaluating\n"
     ]
    },
    {
     "name": "stderr",
     "output_type": "stream",
     "text": [
      "\n",
      " 18%|#8        | 14/77 [00:00<00:00, 65.46it/s]\u001b[A\n",
      " 27%|##7       | 21/77 [00:00<00:00, 65.77it/s]\u001b[A\n",
      " 36%|###6      | 28/77 [00:00<00:00, 64.97it/s]\u001b[A\n",
      " 45%|####5     | 35/77 [00:00<00:00, 65.17it/s]\u001b[A\n",
      " 55%|#####4    | 42/77 [00:00<00:00, 65.41it/s]\u001b[A\n",
      " 64%|######3   | 49/77 [00:00<00:00, 64.72it/s]\u001b[A\n",
      " 71%|#######1  | 55/77 [00:00<00:00, 62.31it/s]\u001b[A\n",
      " 81%|########  | 62/77 [00:00<00:00, 63.29it/s]\u001b[A\n",
      " 90%|########9 | 69/77 [00:01<00:00, 63.00it/s]\u001b[A\n",
      " 99%|#########8| 76/77 [00:01<00:00, 63.03it/s]\u001b[A\n",
      " 78%|███████▊  | 693/884 [00:35<00:37,  5.12it/s]A"
     ]
    },
    {
     "name": "stdout",
     "output_type": "stream",
     "text": [
      "{'ade': 0.45514226, 'fde': 0.99606055}\n",
      "\t last loss:0.000310942, eval on validation:['ade: 0.45514226', 'fde: 0.99606055'], (best ade:0.4523981 at step 43800) \n"
     ]
    },
    {
     "name": "stderr",
     "output_type": "stream",
     "text": [
      "100%|██████████| 884/884 [00:44<00:00, 19.97it/s]\n",
      "  0%|          | 1/884 [00:00<01:47,  8.19it/s]"
     ]
    },
    {
     "name": "stdout",
     "output_type": "stream",
     "text": [
      "('Epoca 64.', 'lr:', 1.2972303e-05)\n"
     ]
    },
    {
     "name": "stderr",
     "output_type": "stream",
     "text": [
      " 12%|█▏        | 106/884 [00:04<00:30, 25.13it/s]\n",
      "  0%|          | 0/77 [00:00<?, ?it/s]\u001b[A"
     ]
    },
    {
     "name": "stdout",
     "output_type": "stream",
     "text": [
      "\tsaving model 55800...\n",
      "\tdone\n",
      "Evaluating\n"
     ]
    },
    {
     "name": "stderr",
     "output_type": "stream",
     "text": [
      "\n",
      " 12%|#1        | 9/77 [00:00<00:00, 88.99it/s]\u001b[A\n",
      " 25%|##4       | 19/77 [00:00<00:00, 89.94it/s]\u001b[A\n",
      " 38%|###7      | 29/77 [00:00<00:00, 90.64it/s]\u001b[A\n",
      " 51%|#####     | 39/77 [00:00<00:00, 91.83it/s]\u001b[A\n",
      " 61%|######1   | 47/77 [00:00<00:00, 87.75it/s]\u001b[A\n",
      " 71%|#######1  | 55/77 [00:00<00:00, 85.24it/s]\u001b[A\n",
      " 82%|########1 | 63/77 [00:00<00:00, 82.65it/s]\u001b[A\n",
      " 92%|#########2| 71/77 [00:00<00:00, 80.03it/s]\u001b[A\n",
      " 12%|█▏        | 109/884 [00:05<01:56,  6.63it/s]A"
     ]
    },
    {
     "name": "stdout",
     "output_type": "stream",
     "text": [
      "{'ade': 0.45662403, 'fde': 0.9995438}\n",
      "\t last loss:0.000187470, eval on validation:['ade: 0.45662403', 'fde: 0.9995438'], (best ade:0.4523981 at step 43800) \n"
     ]
    },
    {
     "name": "stderr",
     "output_type": "stream",
     "text": [
      " 46%|████▌     | 406/884 [00:18<00:19, 24.51it/s]\n",
      "  0%|          | 0/77 [00:00<?, ?it/s]\u001b[A"
     ]
    },
    {
     "name": "stdout",
     "output_type": "stream",
     "text": [
      "\tsaving model 56100...\n",
      "\tdone\n",
      "Evaluating\n"
     ]
    },
    {
     "name": "stderr",
     "output_type": "stream",
     "text": [
      "\n",
      " 12%|#1        | 9/77 [00:00<00:00, 83.31it/s]\u001b[A\n",
      " 23%|##3       | 18/77 [00:00<00:00, 84.12it/s]\u001b[A\n",
      " 34%|###3      | 26/77 [00:00<00:00, 81.74it/s]\u001b[A\n",
      " 45%|####5     | 35/77 [00:00<00:00, 81.71it/s]\u001b[A\n",
      " 56%|#####5    | 43/77 [00:00<00:00, 79.86it/s]\u001b[A\n",
      " 66%|######6   | 51/77 [00:00<00:00, 79.78it/s]\u001b[A\n",
      " 78%|#######7  | 60/77 [00:00<00:00, 81.36it/s]\u001b[A\n",
      " 90%|########9 | 69/77 [00:00<00:00, 82.20it/s]\u001b[A\n",
      " 46%|████▋     | 409/884 [00:19<01:13,  6.49it/s]A"
     ]
    },
    {
     "name": "stdout",
     "output_type": "stream",
     "text": [
      "{'ade': 0.45356175, 'fde': 0.99233323}\n",
      "\t last loss:0.000418714, eval on validation:['ade: 0.45356175', 'fde: 0.99233323'], (best ade:0.4523981 at step 43800) \n"
     ]
    },
    {
     "name": "stderr",
     "output_type": "stream",
     "text": [
      " 80%|███████▉  | 706/884 [00:32<00:08, 19.97it/s]"
     ]
    },
    {
     "name": "stdout",
     "output_type": "stream",
     "text": [
      "\tsaving model 56400...\n"
     ]
    },
    {
     "name": "stderr",
     "output_type": "stream",
     "text": [
      "\n",
      "  0%|          | 0/77 [00:00<?, ?it/s]\u001b[A\n",
      "  9%|9         | 7/77 [00:00<00:01, 64.14it/s]\u001b[A\n",
      " 18%|#8        | 14/77 [00:00<00:00, 64.72it/s]\u001b[A\n",
      " 27%|##7       | 21/77 [00:00<00:00, 65.55it/s]\u001b[A\n",
      " 36%|###6      | 28/77 [00:00<00:00, 65.77it/s]\u001b[A\n",
      " 47%|####6     | 36/77 [00:00<00:00, 67.22it/s]\u001b[A\n",
      " 57%|#####7    | 44/77 [00:00<00:00, 70.07it/s]\u001b[A\n",
      " 66%|######6   | 51/77 [00:00<00:00, 66.61it/s]\u001b[A\n",
      " 77%|#######6  | 59/77 [00:00<00:00, 68.86it/s]\u001b[A\n",
      " 87%|########7 | 67/77 [00:00<00:00, 70.80it/s]\u001b[A\n",
      " 97%|#########7| 75/77 [00:01<00:00, 72.87it/s]\u001b[A\n",
      " 80%|████████  | 709/884 [00:33<00:32,  5.46it/s]A"
     ]
    },
    {
     "name": "stdout",
     "output_type": "stream",
     "text": [
      "\tdone\n",
      "Evaluating\n",
      "{'ade': 0.4576644, 'fde': 1.0032362}\n",
      "\t last loss:0.000326502, eval on validation:['ade: 0.4576644', 'fde: 1.0032362'], (best ade:0.4523981 at step 43800) \n"
     ]
    },
    {
     "name": "stderr",
     "output_type": "stream",
     "text": [
      "100%|██████████| 884/884 [00:41<00:00, 21.50it/s]\n",
      "  0%|          | 1/884 [00:00<01:46,  8.26it/s]"
     ]
    },
    {
     "name": "stdout",
     "output_type": "stream",
     "text": [
      "('Epoca 65.', 'lr:', 1.1026457e-05)\n"
     ]
    },
    {
     "name": "stderr",
     "output_type": "stream",
     "text": [
      " 14%|█▎        | 121/884 [00:04<00:30, 24.99it/s]\n",
      "  0%|          | 0/77 [00:00<?, ?it/s]\u001b[A"
     ]
    },
    {
     "name": "stdout",
     "output_type": "stream",
     "text": [
      "\tsaving model 56700...\n",
      "\tdone\n",
      "Evaluating\n"
     ]
    },
    {
     "name": "stderr",
     "output_type": "stream",
     "text": [
      "\n",
      " 10%|#         | 8/77 [00:00<00:00, 76.38it/s]\u001b[A\n",
      " 22%|##2       | 17/77 [00:00<00:00, 78.35it/s]\u001b[A\n",
      " 34%|###3      | 26/77 [00:00<00:00, 80.35it/s]\u001b[A\n",
      " 45%|####5     | 35/77 [00:00<00:00, 81.78it/s]\u001b[A\n",
      " 57%|#####7    | 44/77 [00:00<00:00, 82.19it/s]\u001b[A\n",
      " 69%|######8   | 53/77 [00:00<00:00, 83.01it/s]\u001b[A\n",
      " 81%|########  | 62/77 [00:00<00:00, 81.98it/s]\u001b[A\n",
      " 92%|#########2| 71/77 [00:00<00:00, 82.99it/s]\u001b[A\n",
      " 14%|█▍        | 127/884 [00:06<01:31,  8.27it/s]A"
     ]
    },
    {
     "name": "stdout",
     "output_type": "stream",
     "text": [
      "{'ade': 0.4574001, 'fde': 1.0016775}\n",
      "\t last loss:0.000337813, eval on validation:['ade: 0.4574001', 'fde: 1.0016775'], (best ade:0.4523981 at step 43800) \n"
     ]
    },
    {
     "name": "stderr",
     "output_type": "stream",
     "text": [
      " 48%|████▊     | 423/884 [00:19<00:18, 24.78it/s]\n",
      "  0%|          | 0/77 [00:00<?, ?it/s]\u001b[A"
     ]
    },
    {
     "name": "stdout",
     "output_type": "stream",
     "text": [
      "\tsaving model 57000...\n",
      "\tdone\n",
      "Evaluating\n"
     ]
    },
    {
     "name": "stderr",
     "output_type": "stream",
     "text": [
      "\n",
      " 12%|#1        | 9/77 [00:00<00:00, 88.28it/s]\u001b[A\n",
      " 22%|##2       | 17/77 [00:00<00:00, 84.63it/s]\u001b[A\n",
      " 35%|###5      | 27/77 [00:00<00:00, 86.66it/s]\u001b[A\n",
      " 47%|####6     | 36/77 [00:00<00:00, 87.46it/s]\u001b[A\n",
      " 60%|#####9    | 46/77 [00:00<00:00, 89.05it/s]\u001b[A\n",
      " 73%|#######2  | 56/77 [00:00<00:00, 90.62it/s]\u001b[A\n",
      " 86%|########5 | 66/77 [00:00<00:00, 91.22it/s]\u001b[A\n",
      " 99%|#########8| 76/77 [00:00<00:00, 91.21it/s]\u001b[A\n",
      " 48%|████▊     | 426/884 [00:20<01:06,  6.86it/s]A"
     ]
    },
    {
     "name": "stdout",
     "output_type": "stream",
     "text": [
      "{'ade': 0.45700192, 'fde': 1.0008612}\n",
      "\t last loss:0.000526055, eval on validation:['ade: 0.45700192', 'fde: 1.0008612'], (best ade:0.4523981 at step 43800) \n"
     ]
    },
    {
     "name": "stderr",
     "output_type": "stream",
     "text": [
      " 82%|████████▏ | 723/884 [00:32<00:06, 25.05it/s]\n",
      "  0%|          | 0/77 [00:00<?, ?it/s]\u001b[A"
     ]
    },
    {
     "name": "stdout",
     "output_type": "stream",
     "text": [
      "\tsaving model 57300...\n",
      "\tdone\n",
      "Evaluating\n"
     ]
    },
    {
     "name": "stderr",
     "output_type": "stream",
     "text": [
      "\n",
      " 12%|#1        | 9/77 [00:00<00:00, 84.09it/s]\u001b[A\n",
      " 22%|##2       | 17/77 [00:00<00:00, 81.12it/s]\u001b[A\n",
      " 34%|###3      | 26/77 [00:00<00:00, 81.31it/s]\u001b[A\n",
      " 44%|####4     | 34/77 [00:00<00:00, 80.78it/s]\u001b[A\n",
      " 56%|#####5    | 43/77 [00:00<00:00, 81.42it/s]\u001b[A\n",
      " 68%|######7   | 52/77 [00:00<00:00, 82.97it/s]\u001b[A\n",
      " 79%|#######9  | 61/77 [00:00<00:00, 83.65it/s]\u001b[A\n",
      " 90%|########9 | 69/77 [00:00<00:00, 82.42it/s]\u001b[A\n",
      " 82%|████████▏ | 726/884 [00:33<00:24,  6.47it/s]A"
     ]
    },
    {
     "name": "stdout",
     "output_type": "stream",
     "text": [
      "{'ade': 0.45420793, 'fde': 0.99369085}\n",
      "\t last loss:0.000311794, eval on validation:['ade: 0.45420793', 'fde: 0.99369085'], (best ade:0.4523981 at step 43800) \n"
     ]
    },
    {
     "name": "stderr",
     "output_type": "stream",
     "text": [
      "100%|██████████| 884/884 [00:41<00:00, 21.42it/s]\n",
      "  0%|          | 1/884 [00:00<01:38,  8.95it/s]"
     ]
    },
    {
     "name": "stdout",
     "output_type": "stream",
     "text": [
      "('Epoca 66.', 'lr:', 1.1026457e-05)\n"
     ]
    },
    {
     "name": "stderr",
     "output_type": "stream",
     "text": [
      " 15%|█▌        | 137/884 [00:05<00:31, 23.98it/s]\n",
      "  0%|          | 0/77 [00:00<?, ?it/s]\u001b[A"
     ]
    },
    {
     "name": "stdout",
     "output_type": "stream",
     "text": [
      "\tsaving model 57600...\n",
      "\tdone\n",
      "Evaluating\n"
     ]
    },
    {
     "name": "stderr",
     "output_type": "stream",
     "text": [
      "\n",
      " 12%|#1        | 9/77 [00:00<00:00, 83.60it/s]\u001b[A\n",
      " 23%|##3       | 18/77 [00:00<00:00, 84.48it/s]\u001b[A\n",
      " 34%|###3      | 26/77 [00:00<00:00, 83.03it/s]\u001b[A\n",
      " 45%|####5     | 35/77 [00:00<00:00, 83.30it/s]\u001b[A\n",
      " 56%|#####5    | 43/77 [00:00<00:00, 81.62it/s]\u001b[A\n",
      " 69%|######8   | 53/77 [00:00<00:00, 85.02it/s]\u001b[A\n",
      " 81%|########  | 62/77 [00:00<00:00, 84.94it/s]\u001b[A\n",
      " 94%|#########3| 72/77 [00:00<00:00, 86.78it/s]\u001b[A\n",
      " 16%|█▌        | 143/884 [00:07<01:26,  8.57it/s]A"
     ]
    },
    {
     "name": "stdout",
     "output_type": "stream",
     "text": [
      "{'ade': 0.45950997, 'fde': 1.0063965}\n",
      "\t last loss:0.000296802, eval on validation:['ade: 0.45950997', 'fde: 1.0063965'], (best ade:0.4523981 at step 43800) \n"
     ]
    },
    {
     "name": "stderr",
     "output_type": "stream",
     "text": [
      " 49%|████▉     | 437/884 [00:18<00:17, 25.83it/s]\n",
      "  0%|          | 0/77 [00:00<?, ?it/s]\u001b[A"
     ]
    },
    {
     "name": "stdout",
     "output_type": "stream",
     "text": [
      "\tsaving model 57900...\n",
      "\tdone\n",
      "Evaluating\n"
     ]
    },
    {
     "name": "stderr",
     "output_type": "stream",
     "text": [
      "\n",
      " 12%|#1        | 9/77 [00:00<00:00, 84.17it/s]\u001b[A\n",
      " 23%|##3       | 18/77 [00:00<00:00, 84.20it/s]\u001b[A\n",
      " 35%|###5      | 27/77 [00:00<00:00, 84.51it/s]\u001b[A\n",
      " 47%|####6     | 36/77 [00:00<00:00, 84.72it/s]\u001b[A\n",
      " 58%|#####8    | 45/77 [00:00<00:00, 84.24it/s]\u001b[A\n",
      " 69%|######8   | 53/77 [00:00<00:00, 82.71it/s]\u001b[A\n",
      " 81%|########  | 62/77 [00:00<00:00, 84.02it/s]\u001b[A\n",
      " 92%|#########2| 71/77 [00:00<00:00, 82.56it/s]\u001b[A\n",
      " 50%|█████     | 443/884 [00:20<00:52,  8.43it/s]A"
     ]
    },
    {
     "name": "stdout",
     "output_type": "stream",
     "text": [
      "{'ade': 0.4582454, 'fde': 1.0036223}\n",
      "\t last loss:0.000321597, eval on validation:['ade: 0.4582454', 'fde: 1.0036223'], (best ade:0.4523981 at step 43800) \n"
     ]
    },
    {
     "name": "stderr",
     "output_type": "stream",
     "text": [
      " 83%|████████▎ | 737/884 [00:33<00:06, 24.35it/s]\n",
      "  0%|          | 0/77 [00:00<?, ?it/s]\u001b[A"
     ]
    },
    {
     "name": "stdout",
     "output_type": "stream",
     "text": [
      "\tsaving model 58200...\n",
      "\tdone\n",
      "Evaluating\n"
     ]
    },
    {
     "name": "stderr",
     "output_type": "stream",
     "text": [
      "\n",
      " 12%|#1        | 9/77 [00:00<00:00, 84.78it/s]\u001b[A\n",
      " 23%|##3       | 18/77 [00:00<00:00, 84.71it/s]\u001b[A\n",
      " 34%|###3      | 26/77 [00:00<00:00, 82.65it/s]\u001b[A\n",
      " 45%|####5     | 35/77 [00:00<00:00, 83.45it/s]\u001b[A\n",
      " 56%|#####5    | 43/77 [00:00<00:00, 80.43it/s]\u001b[A\n",
      " 68%|######7   | 52/77 [00:00<00:00, 80.75it/s]\u001b[A\n",
      " 79%|#######9  | 61/77 [00:00<00:00, 81.61it/s]\u001b[A\n",
      " 91%|######### | 70/77 [00:00<00:00, 82.51it/s]\u001b[A\n",
      " 84%|████████▍ | 743/884 [00:34<00:16,  8.40it/s]A"
     ]
    },
    {
     "name": "stdout",
     "output_type": "stream",
     "text": [
      "{'ade': 0.45658314, 'fde': 0.99959403}\n",
      "\t last loss:0.000412259, eval on validation:['ade: 0.45658314', 'fde: 0.99959403'], (best ade:0.4523981 at step 43800) \n"
     ]
    },
    {
     "name": "stderr",
     "output_type": "stream",
     "text": [
      "100%|██████████| 884/884 [00:40<00:00, 24.20it/s]\n",
      "  0%|          | 3/884 [00:00<00:38, 23.12it/s]"
     ]
    },
    {
     "name": "stdout",
     "output_type": "stream",
     "text": [
      "('Epoca 67.', 'lr:', 9.37249e-06)\n"
     ]
    },
    {
     "name": "stderr",
     "output_type": "stream",
     "text": [
      " 17%|█▋        | 153/884 [00:06<00:28, 25.68it/s]\n",
      "  0%|          | 0/77 [00:00<?, ?it/s]\u001b[A"
     ]
    },
    {
     "name": "stdout",
     "output_type": "stream",
     "text": [
      "\tsaving model 58500...\n",
      "\tdone\n",
      "Evaluating\n"
     ]
    },
    {
     "name": "stderr",
     "output_type": "stream",
     "text": [
      "\n",
      " 13%|#2        | 10/77 [00:00<00:00, 91.96it/s]\u001b[A\n",
      " 26%|##5       | 20/77 [00:00<00:00, 93.01it/s]\u001b[A\n",
      " 38%|###7      | 29/77 [00:00<00:00, 90.20it/s]\u001b[A\n",
      " 51%|#####     | 39/77 [00:00<00:00, 90.38it/s]\u001b[A\n",
      " 62%|######2   | 48/77 [00:00<00:00, 88.29it/s]\u001b[A\n",
      " 73%|#######2  | 56/77 [00:00<00:00, 82.48it/s]\u001b[A\n",
      " 84%|########4 | 65/77 [00:00<00:00, 82.66it/s]\u001b[A\n",
      " 96%|#########6| 74/77 [00:00<00:00, 83.60it/s]\u001b[A\n",
      " 18%|█▊        | 159/884 [00:07<01:23,  8.71it/s]A"
     ]
    },
    {
     "name": "stdout",
     "output_type": "stream",
     "text": [
      "{'ade': 0.45349762, 'fde': 0.9921162}\n",
      "\t last loss:0.000455934, eval on validation:['ade: 0.45349762', 'fde: 0.9921162'], (best ade:0.4523981 at step 43800) \n"
     ]
    },
    {
     "name": "stderr",
     "output_type": "stream",
     "text": [
      " 51%|█████     | 453/884 [00:20<00:17, 24.98it/s]\n",
      "  0%|          | 0/77 [00:00<?, ?it/s]\u001b[A"
     ]
    },
    {
     "name": "stdout",
     "output_type": "stream",
     "text": [
      "\tsaving model 58800...\n",
      "\tdone\n",
      "Evaluating\n"
     ]
    },
    {
     "name": "stderr",
     "output_type": "stream",
     "text": [
      "\n",
      " 12%|#1        | 9/77 [00:00<00:00, 81.73it/s]\u001b[A\n",
      " 22%|##2       | 17/77 [00:00<00:00, 81.19it/s]\u001b[A\n",
      " 32%|###2      | 25/77 [00:00<00:00, 78.49it/s]\u001b[A\n",
      " 44%|####4     | 34/77 [00:00<00:00, 80.18it/s]\u001b[A\n",
      " 56%|#####5    | 43/77 [00:00<00:00, 80.59it/s]\u001b[A\n",
      " 68%|######7   | 52/77 [00:00<00:00, 81.78it/s]\u001b[A\n",
      " 79%|#######9  | 61/77 [00:00<00:00, 82.26it/s]\u001b[A\n",
      " 91%|######### | 70/77 [00:00<00:00, 83.51it/s]\u001b[A\n",
      " 52%|█████▏    | 459/884 [00:21<00:50,  8.34it/s]A"
     ]
    },
    {
     "name": "stdout",
     "output_type": "stream",
     "text": [
      "{'ade': 0.45621955, 'fde': 0.9982666}\n",
      "\t last loss:0.000498765, eval on validation:['ade: 0.45621955', 'fde: 0.9982666'], (best ade:0.4523981 at step 43800) \n"
     ]
    },
    {
     "name": "stderr",
     "output_type": "stream",
     "text": [
      " 85%|████████▌ | 753/884 [00:34<00:06, 20.18it/s]"
     ]
    },
    {
     "name": "stdout",
     "output_type": "stream",
     "text": [
      "\tsaving model 59100...\n"
     ]
    },
    {
     "name": "stderr",
     "output_type": "stream",
     "text": [
      "\n",
      "  0%|          | 0/77 [00:00<?, ?it/s]\u001b[A\n",
      "  9%|9         | 7/77 [00:00<00:01, 66.08it/s]\u001b[A\n",
      " 18%|#8        | 14/77 [00:00<00:00, 66.07it/s]\u001b[A\n",
      " 27%|##7       | 21/77 [00:00<00:00, 65.33it/s]\u001b[A\n",
      " 38%|###7      | 29/77 [00:00<00:00, 67.22it/s]\u001b[A\n",
      " 47%|####6     | 36/77 [00:00<00:00, 66.43it/s]\u001b[A\n",
      " 57%|#####7    | 44/77 [00:00<00:00, 67.87it/s]\u001b[A\n",
      " 68%|######7   | 52/77 [00:00<00:00, 70.28it/s]\u001b[A\n",
      " 78%|#######7  | 60/77 [00:00<00:00, 71.66it/s]\u001b[A\n",
      " 88%|########8 | 68/77 [00:00<00:00, 73.08it/s]\u001b[A\n",
      " 99%|#########8| 76/77 [00:01<00:00, 74.25it/s]\u001b[A\n",
      " 86%|████████▌ | 759/884 [00:35<00:17,  7.11it/s]A"
     ]
    },
    {
     "name": "stdout",
     "output_type": "stream",
     "text": [
      "\tdone\n",
      "Evaluating\n",
      "{'ade': 0.45363006, 'fde': 0.9923726}\n",
      "\t last loss:0.000614249, eval on validation:['ade: 0.45363006', 'fde: 0.9923726'], (best ade:0.4523981 at step 43800) \n"
     ]
    },
    {
     "name": "stderr",
     "output_type": "stream",
     "text": [
      "100%|██████████| 884/884 [00:41<00:00, 21.53it/s]\n",
      "  0%|          | 2/884 [00:00<01:01, 14.45it/s]"
     ]
    },
    {
     "name": "stdout",
     "output_type": "stream",
     "text": [
      "('Epoca 68.', 'lr:', 9.37249e-06)\n"
     ]
    },
    {
     "name": "stderr",
     "output_type": "stream",
     "text": [
      " 19%|█▉        | 170/884 [00:06<00:28, 24.74it/s]\n",
      "  0%|          | 0/77 [00:00<?, ?it/s]\u001b[A"
     ]
    },
    {
     "name": "stdout",
     "output_type": "stream",
     "text": [
      "\tsaving model 59400...\n",
      "\tdone\n",
      "Evaluating\n"
     ]
    },
    {
     "name": "stderr",
     "output_type": "stream",
     "text": [
      "\n",
      " 12%|#1        | 9/77 [00:00<00:00, 83.80it/s]\u001b[A\n",
      " 23%|##3       | 18/77 [00:00<00:00, 83.75it/s]\u001b[A\n",
      " 35%|###5      | 27/77 [00:00<00:00, 84.72it/s]\u001b[A\n",
      " 47%|####6     | 36/77 [00:00<00:00, 85.49it/s]\u001b[A\n",
      " 58%|#####8    | 45/77 [00:00<00:00, 85.71it/s]\u001b[A\n",
      " 69%|######8   | 53/77 [00:00<00:00, 83.35it/s]\u001b[A\n",
      " 81%|########  | 62/77 [00:00<00:00, 84.38it/s]\u001b[A\n",
      " 92%|#########2| 71/77 [00:00<00:00, 84.77it/s]\u001b[A\n",
      " 20%|█▉        | 176/884 [00:08<01:24,  8.39it/s]A"
     ]
    },
    {
     "name": "stdout",
     "output_type": "stream",
     "text": [
      "{'ade': 0.45707732, 'fde': 1.0006074}\n",
      "\t last loss:0.000284351, eval on validation:['ade: 0.45707732', 'fde: 1.0006074'], (best ade:0.4523981 at step 43800) \n"
     ]
    },
    {
     "name": "stderr",
     "output_type": "stream",
     "text": [
      " 53%|█████▎    | 470/884 [00:21<00:16, 24.69it/s]\n",
      "  0%|          | 0/77 [00:00<?, ?it/s]\u001b[A"
     ]
    },
    {
     "name": "stdout",
     "output_type": "stream",
     "text": [
      "\tsaving model 59700...\n",
      "\tdone\n",
      "Evaluating\n"
     ]
    },
    {
     "name": "stderr",
     "output_type": "stream",
     "text": [
      "\n",
      " 12%|#1        | 9/77 [00:00<00:00, 86.59it/s]\u001b[A\n",
      " 23%|##3       | 18/77 [00:00<00:00, 85.88it/s]\u001b[A\n",
      " 36%|###6      | 28/77 [00:00<00:00, 87.85it/s]\u001b[A\n",
      " 48%|####8     | 37/77 [00:00<00:00, 88.26it/s]\u001b[A\n",
      " 61%|######1   | 47/77 [00:00<00:00, 89.23it/s]\u001b[A\n",
      " 74%|#######4  | 57/77 [00:00<00:00, 90.90it/s]\u001b[A\n",
      " 87%|########7 | 67/77 [00:00<00:00, 91.52it/s]\u001b[A\n",
      " 99%|#########8| 76/77 [00:00<00:00, 90.56it/s]\u001b[A\n",
      " 54%|█████▍    | 476/884 [00:22<00:46,  8.83it/s]A"
     ]
    },
    {
     "name": "stdout",
     "output_type": "stream",
     "text": [
      "{'ade': 0.45614225, 'fde': 0.99856704}\n",
      "\t last loss:0.000128024, eval on validation:['ade: 0.45614225', 'fde: 0.99856704'], (best ade:0.4523981 at step 43800) \n"
     ]
    },
    {
     "name": "stderr",
     "output_type": "stream",
     "text": [
      " 87%|████████▋ | 769/884 [00:35<00:04, 23.13it/s]\n",
      "  0%|          | 0/77 [00:00<?, ?it/s]\u001b[A"
     ]
    },
    {
     "name": "stdout",
     "output_type": "stream",
     "text": [
      "\tsaving model 60000...\n",
      "\tdone\n",
      "Evaluating\n"
     ]
    },
    {
     "name": "stderr",
     "output_type": "stream",
     "text": [
      "\n",
      " 10%|#         | 8/77 [00:00<00:00, 77.28it/s]\u001b[A\n",
      " 19%|#9        | 15/77 [00:00<00:00, 73.66it/s]\u001b[A\n",
      " 30%|##9       | 23/77 [00:00<00:00, 73.19it/s]\u001b[A\n",
      " 40%|####      | 31/77 [00:00<00:00, 74.21it/s]\u001b[A\n",
      " 51%|#####     | 39/77 [00:00<00:00, 74.35it/s]\u001b[A\n",
      " 61%|######1   | 47/77 [00:00<00:00, 75.27it/s]\u001b[A\n",
      " 71%|#######1  | 55/77 [00:00<00:00, 75.92it/s]\u001b[A\n",
      " 82%|########1 | 63/77 [00:00<00:00, 75.00it/s]\u001b[A\n",
      " 92%|#########2| 71/77 [00:00<00:00, 75.14it/s]\u001b[A\n",
      " 88%|████████▊ | 775/884 [00:36<00:14,  7.56it/s]A"
     ]
    },
    {
     "name": "stdout",
     "output_type": "stream",
     "text": [
      "{'ade': 0.4553806, 'fde': 0.99726665}\n",
      "\t last loss:0.000292002, eval on validation:['ade: 0.4553806', 'fde: 0.99726665'], (best ade:0.4523981 at step 43800) \n"
     ]
    },
    {
     "name": "stderr",
     "output_type": "stream",
     "text": [
      "100%|██████████| 884/884 [00:41<00:00, 21.32it/s]\n",
      "  0%|          | 3/884 [00:00<00:40, 21.70it/s]"
     ]
    },
    {
     "name": "stdout",
     "output_type": "stream",
     "text": [
      "('Epoca 69.', 'lr:', 7.966617e-06)\n"
     ]
    },
    {
     "name": "stderr",
     "output_type": "stream",
     "text": [
      " 21%|██        | 186/884 [00:07<00:27, 25.01it/s]\n",
      "  0%|          | 0/77 [00:00<?, ?it/s]\u001b[A"
     ]
    },
    {
     "name": "stdout",
     "output_type": "stream",
     "text": [
      "\tsaving model 60300...\n",
      "\tdone\n",
      "Evaluating\n"
     ]
    },
    {
     "name": "stderr",
     "output_type": "stream",
     "text": [
      "\n",
      " 12%|#1        | 9/77 [00:00<00:00, 85.21it/s]\u001b[A\n",
      " 23%|##3       | 18/77 [00:00<00:00, 85.63it/s]\u001b[A\n",
      " 35%|###5      | 27/77 [00:00<00:00, 85.38it/s]\u001b[A\n",
      " 47%|####6     | 36/77 [00:00<00:00, 85.18it/s]\u001b[A\n",
      " 57%|#####7    | 44/77 [00:00<00:00, 82.86it/s]\u001b[A\n",
      " 69%|######8   | 53/77 [00:00<00:00, 82.21it/s]\u001b[A\n",
      " 81%|########  | 62/77 [00:00<00:00, 83.19it/s]\u001b[A\n",
      " 91%|######### | 70/77 [00:00<00:00, 80.98it/s]\u001b[A\n",
      " 22%|██▏       | 192/884 [00:08<01:22,  8.39it/s]A"
     ]
    },
    {
     "name": "stdout",
     "output_type": "stream",
     "text": [
      "{'ade': 0.45468456, 'fde': 0.99505407}\n",
      "\t last loss:0.000142810, eval on validation:['ade: 0.45468456', 'fde: 0.99505407'], (best ade:0.4523981 at step 43800) \n"
     ]
    },
    {
     "name": "stderr",
     "output_type": "stream",
     "text": [
      " 55%|█████▍    | 486/884 [00:21<00:17, 22.38it/s]"
     ]
    },
    {
     "name": "stdout",
     "output_type": "stream",
     "text": [
      "\tsaving model 60600...\n"
     ]
    },
    {
     "name": "stderr",
     "output_type": "stream",
     "text": [
      "\n",
      "  0%|          | 0/77 [00:00<?, ?it/s]\u001b[A\n",
      " 10%|#         | 8/77 [00:00<00:00, 74.12it/s]\u001b[A"
     ]
    },
    {
     "name": "stdout",
     "output_type": "stream",
     "text": [
      "\tdone\n",
      "Evaluating\n"
     ]
    },
    {
     "name": "stderr",
     "output_type": "stream",
     "text": [
      "\n",
      " 19%|#9        | 15/77 [00:00<00:00, 72.38it/s]\u001b[A\n",
      " 30%|##9       | 23/77 [00:00<00:00, 72.50it/s]\u001b[A\n",
      " 40%|####      | 31/77 [00:00<00:00, 73.37it/s]\u001b[A\n",
      " 51%|#####     | 39/77 [00:00<00:00, 73.94it/s]\u001b[A\n",
      " 61%|######1   | 47/77 [00:00<00:00, 73.43it/s]\u001b[A\n",
      " 71%|#######1  | 55/77 [00:00<00:00, 73.57it/s]\u001b[A\n",
      " 82%|########1 | 63/77 [00:00<00:00, 74.28it/s]\u001b[A\n",
      " 92%|#########2| 71/77 [00:00<00:00, 73.65it/s]\u001b[A\n",
      " 55%|█████▌    | 489/884 [00:22<01:08,  5.73it/s]A"
     ]
    },
    {
     "name": "stdout",
     "output_type": "stream",
     "text": [
      "{'ade': 0.45414585, 'fde': 0.9936973}\n",
      "\t last loss:0.000337553, eval on validation:['ade: 0.45414585', 'fde: 0.9936973'], (best ade:0.4523981 at step 43800) \n"
     ]
    },
    {
     "name": "stderr",
     "output_type": "stream",
     "text": [
      " 89%|████████▉ | 785/884 [00:34<00:04, 24.00it/s]\n",
      "  0%|          | 0/77 [00:00<?, ?it/s]\u001b[A"
     ]
    },
    {
     "name": "stdout",
     "output_type": "stream",
     "text": [
      "\tsaving model 60900...\n",
      "\tdone\n",
      "Evaluating\n"
     ]
    },
    {
     "name": "stderr",
     "output_type": "stream",
     "text": [
      "\n",
      " 10%|#         | 8/77 [00:00<00:00, 78.50it/s]\u001b[A\n",
      " 21%|##        | 16/77 [00:00<00:00, 78.82it/s]\u001b[A\n",
      " 32%|###2      | 25/77 [00:00<00:00, 80.75it/s]\u001b[A\n",
      " 44%|####4     | 34/77 [00:00<00:00, 81.43it/s]\u001b[A\n",
      " 56%|#####5    | 43/77 [00:00<00:00, 81.44it/s]\u001b[A\n",
      " 66%|######6   | 51/77 [00:00<00:00, 79.15it/s]\u001b[A\n",
      " 78%|#######7  | 60/77 [00:00<00:00, 79.49it/s]\u001b[A\n",
      " 90%|########9 | 69/77 [00:00<00:00, 81.00it/s]\u001b[A\n",
      " 89%|████████▉ | 791/884 [00:36<00:11,  8.30it/s]A"
     ]
    },
    {
     "name": "stdout",
     "output_type": "stream",
     "text": [
      "{'ade': 0.4534638, 'fde': 0.99251163}\n",
      "\t last loss:0.000317891, eval on validation:['ade: 0.4534638', 'fde: 0.99251163'], (best ade:0.4523981 at step 43800) \n"
     ]
    },
    {
     "name": "stderr",
     "output_type": "stream",
     "text": [
      "100%|██████████| 884/884 [00:39<00:00, 25.76it/s]\n",
      "  0%|          | 1/884 [00:00<01:45,  8.33it/s]"
     ]
    },
    {
     "name": "stdout",
     "output_type": "stream",
     "text": [
      "('Epoca 70.', 'lr:', 7.966617e-06)\n"
     ]
    },
    {
     "name": "stderr",
     "output_type": "stream",
     "text": [
      " 23%|██▎       | 202/884 [00:08<00:32, 21.30it/s]\n",
      "  0%|          | 0/77 [00:00<?, ?it/s]\u001b[A"
     ]
    },
    {
     "name": "stdout",
     "output_type": "stream",
     "text": [
      "\tsaving model 61200...\n",
      "\tdone\n",
      "Evaluating\n"
     ]
    },
    {
     "name": "stderr",
     "output_type": "stream",
     "text": [
      "\n",
      " 10%|#         | 8/77 [00:00<00:00, 75.33it/s]\u001b[A\n",
      " 19%|#9        | 15/77 [00:00<00:00, 73.64it/s]\u001b[A\n",
      " 30%|##9       | 23/77 [00:00<00:00, 74.30it/s]\u001b[A\n",
      " 40%|####      | 31/77 [00:00<00:00, 74.31it/s]\u001b[A\n",
      " 51%|#####     | 39/77 [00:00<00:00, 75.11it/s]\u001b[A\n",
      " 60%|#####9    | 46/77 [00:00<00:00, 71.83it/s]\u001b[A\n",
      " 70%|#######   | 54/77 [00:00<00:00, 73.24it/s]\u001b[A\n",
      " 81%|########  | 62/77 [00:00<00:00, 74.06it/s]\u001b[A\n",
      " 91%|######### | 70/77 [00:00<00:00, 74.85it/s]\u001b[A\n",
      " 23%|██▎       | 205/884 [00:10<01:55,  5.86it/s]A"
     ]
    },
    {
     "name": "stdout",
     "output_type": "stream",
     "text": [
      "{'ade': 0.45669842, 'fde': 1.0006375}\n",
      "\t last loss:0.000317039, eval on validation:['ade: 0.45669842', 'fde: 1.0006375'], (best ade:0.4523981 at step 43800) \n"
     ]
    },
    {
     "name": "stderr",
     "output_type": "stream",
     "text": [
      " 57%|█████▋    | 502/884 [00:22<00:15, 24.57it/s]\n",
      "  0%|          | 0/77 [00:00<?, ?it/s]\u001b[A"
     ]
    },
    {
     "name": "stdout",
     "output_type": "stream",
     "text": [
      "\tsaving model 61500...\n",
      "\tdone\n",
      "Evaluating\n"
     ]
    },
    {
     "name": "stderr",
     "output_type": "stream",
     "text": [
      "\n",
      " 12%|#1        | 9/77 [00:00<00:00, 82.65it/s]\u001b[A\n",
      " 22%|##2       | 17/77 [00:00<00:00, 79.45it/s]\u001b[A\n",
      " 34%|###3      | 26/77 [00:00<00:00, 80.88it/s]\u001b[A\n",
      " 45%|####5     | 35/77 [00:00<00:00, 81.56it/s]\u001b[A\n",
      " 57%|#####7    | 44/77 [00:00<00:00, 82.11it/s]\u001b[A\n",
      " 69%|######8   | 53/77 [00:00<00:00, 82.73it/s]\u001b[A\n",
      " 79%|#######9  | 61/77 [00:00<00:00, 81.51it/s]\u001b[A\n",
      " 91%|######### | 70/77 [00:00<00:00, 82.38it/s]\u001b[A\n",
      " 57%|█████▋    | 505/884 [00:23<00:58,  6.47it/s]A"
     ]
    },
    {
     "name": "stdout",
     "output_type": "stream",
     "text": [
      "{'ade': 0.45571545, 'fde': 0.9977788}\n",
      "\t last loss:0.000396106, eval on validation:['ade: 0.45571545', 'fde: 0.9977788'], (best ade:0.4523981 at step 43800) \n"
     ]
    },
    {
     "name": "stderr",
     "output_type": "stream",
     "text": [
      " 91%|█████████ | 801/884 [00:36<00:04, 20.43it/s]"
     ]
    },
    {
     "name": "stdout",
     "output_type": "stream",
     "text": [
      "\tsaving model 61800...\n"
     ]
    },
    {
     "name": "stderr",
     "output_type": "stream",
     "text": [
      "\n",
      "  0%|          | 0/77 [00:00<?, ?it/s]\u001b[A\n",
      "  9%|9         | 7/77 [00:00<00:01, 66.09it/s]\u001b[A"
     ]
    },
    {
     "name": "stdout",
     "output_type": "stream",
     "text": [
      "\tdone\n",
      "Evaluating\n"
     ]
    },
    {
     "name": "stderr",
     "output_type": "stream",
     "text": [
      "\n",
      " 18%|#8        | 14/77 [00:00<00:00, 66.17it/s]\u001b[A\n",
      " 27%|##7       | 21/77 [00:00<00:00, 65.30it/s]\u001b[A\n",
      " 35%|###5      | 27/77 [00:00<00:00, 62.64it/s]\u001b[A\n",
      " 45%|####5     | 35/77 [00:00<00:00, 65.59it/s]\u001b[A\n",
      " 56%|#####5    | 43/77 [00:00<00:00, 67.89it/s]\u001b[A\n",
      " 66%|######6   | 51/77 [00:00<00:00, 69.90it/s]\u001b[A\n",
      " 77%|#######6  | 59/77 [00:00<00:00, 71.90it/s]\u001b[A\n",
      " 87%|########7 | 67/77 [00:00<00:00, 73.47it/s]\u001b[A\n",
      " 97%|#########7| 75/77 [00:01<00:00, 72.31it/s]\u001b[A\n",
      " 91%|█████████▏| 807/884 [00:37<00:10,  7.11it/s]A"
     ]
    },
    {
     "name": "stdout",
     "output_type": "stream",
     "text": [
      "{'ade': 0.45538852, 'fde': 0.9969765}\n",
      "\t last loss:0.000392332, eval on validation:['ade: 0.45538852', 'fde: 0.9969765'], (best ade:0.4523981 at step 43800) \n"
     ]
    },
    {
     "name": "stderr",
     "output_type": "stream",
     "text": [
      "100%|██████████| 884/884 [00:41<00:00, 23.44it/s]\n",
      "  0%|          | 1/884 [00:00<01:52,  7.87it/s]"
     ]
    },
    {
     "name": "stdout",
     "output_type": "stream",
     "text": [
      "('Epoca 71.', 'lr:', 6.7716246e-06)\n"
     ]
    },
    {
     "name": "stderr",
     "output_type": "stream",
     "text": [
      " 25%|██▍       | 217/884 [00:09<00:28, 23.06it/s]\n",
      "  0%|          | 0/77 [00:00<?, ?it/s]\u001b[A"
     ]
    },
    {
     "name": "stdout",
     "output_type": "stream",
     "text": [
      "\tsaving model 62100...\n",
      "\tdone\n",
      "Evaluating\n"
     ]
    },
    {
     "name": "stderr",
     "output_type": "stream",
     "text": [
      "\n",
      " 12%|#1        | 9/77 [00:00<00:00, 83.77it/s]\u001b[A\n",
      " 23%|##3       | 18/77 [00:00<00:00, 84.40it/s]\u001b[A\n",
      " 34%|###3      | 26/77 [00:00<00:00, 82.99it/s]\u001b[A\n",
      " 44%|####4     | 34/77 [00:00<00:00, 80.20it/s]\u001b[A\n",
      " 56%|#####5    | 43/77 [00:00<00:00, 80.88it/s]\u001b[A\n",
      " 68%|######7   | 52/77 [00:00<00:00, 82.15it/s]\u001b[A\n",
      " 78%|#######7  | 60/77 [00:00<00:00, 79.70it/s]\u001b[A\n",
      " 90%|########9 | 69/77 [00:00<00:00, 80.21it/s]\u001b[A\n",
      " 25%|██▌       | 223/884 [00:10<01:20,  8.18it/s]A"
     ]
    },
    {
     "name": "stdout",
     "output_type": "stream",
     "text": [
      "{'ade': 0.45483467, 'fde': 0.9961904}\n",
      "\t last loss:0.000288574, eval on validation:['ade: 0.45483467', 'fde: 0.9961904'], (best ade:0.4523981 at step 43800) \n"
     ]
    },
    {
     "name": "stderr",
     "output_type": "stream",
     "text": [
      " 58%|█████▊    | 517/884 [00:23<00:14, 24.60it/s]\n",
      "  0%|          | 0/77 [00:00<?, ?it/s]\u001b[A"
     ]
    },
    {
     "name": "stdout",
     "output_type": "stream",
     "text": [
      "\tsaving model 62400...\n",
      "\tdone\n",
      "Evaluating\n"
     ]
    },
    {
     "name": "stderr",
     "output_type": "stream",
     "text": [
      "\n",
      "  8%|7         | 6/77 [00:00<00:01, 54.78it/s]\u001b[A\n",
      " 17%|#6        | 13/77 [00:00<00:01, 57.07it/s]\u001b[A\n",
      " 26%|##5       | 20/77 [00:00<00:00, 60.37it/s]\u001b[A\n",
      " 38%|###7      | 29/77 [00:00<00:00, 66.01it/s]\u001b[A\n",
      " 51%|#####     | 39/77 [00:00<00:00, 71.32it/s]\u001b[A\n",
      " 62%|######2   | 48/77 [00:00<00:00, 75.76it/s]\u001b[A\n",
      " 75%|#######5  | 58/77 [00:00<00:00, 80.30it/s]\u001b[A\n",
      " 88%|########8 | 68/77 [00:00<00:00, 84.16it/s]\u001b[A\n",
      " 59%|█████▉    | 522/884 [00:24<00:45,  7.97it/s]A"
     ]
    },
    {
     "name": "stdout",
     "output_type": "stream",
     "text": [
      "{'ade': 0.45732766, 'fde': 1.0008752}\n",
      "\t last loss:0.000230169, eval on validation:['ade: 0.45732766', 'fde: 1.0008752'], (best ade:0.4523981 at step 43800) \n"
     ]
    },
    {
     "name": "stderr",
     "output_type": "stream",
     "text": [
      " 93%|█████████▎| 819/884 [00:37<00:02, 23.05it/s]"
     ]
    },
    {
     "name": "stdout",
     "output_type": "stream",
     "text": [
      "\tsaving model 62700...\n"
     ]
    },
    {
     "name": "stderr",
     "output_type": "stream",
     "text": [
      "\n",
      "  0%|          | 0/77 [00:00<?, ?it/s]\u001b[A\n",
      " 10%|#         | 8/77 [00:00<00:00, 74.46it/s]\u001b[A"
     ]
    },
    {
     "name": "stdout",
     "output_type": "stream",
     "text": [
      "\tdone\n",
      "Evaluating\n"
     ]
    },
    {
     "name": "stderr",
     "output_type": "stream",
     "text": [
      "\n",
      " 19%|#9        | 15/77 [00:00<00:00, 72.99it/s]\u001b[A\n",
      " 30%|##9       | 23/77 [00:00<00:00, 73.44it/s]\u001b[A\n",
      " 40%|####      | 31/77 [00:00<00:00, 74.10it/s]\u001b[A\n",
      " 49%|####9     | 38/77 [00:00<00:00, 72.06it/s]\u001b[A\n",
      " 60%|#####9    | 46/77 [00:00<00:00, 72.68it/s]\u001b[A\n",
      " 70%|#######   | 54/77 [00:00<00:00, 73.31it/s]\u001b[A\n",
      " 81%|########  | 62/77 [00:00<00:00, 73.60it/s]\u001b[A\n",
      " 90%|########9 | 69/77 [00:00<00:00, 72.38it/s]\u001b[A\n",
      " 93%|█████████▎| 822/884 [00:38<00:10,  5.83it/s]A"
     ]
    },
    {
     "name": "stdout",
     "output_type": "stream",
     "text": [
      "{'ade': 0.45497644, 'fde': 0.996159}\n",
      "\t last loss:0.000287812, eval on validation:['ade: 0.45497644', 'fde: 0.996159'], (best ade:0.4523981 at step 43800) \n"
     ]
    },
    {
     "name": "stderr",
     "output_type": "stream",
     "text": [
      "100%|██████████| 884/884 [00:41<00:00, 21.27it/s]\n",
      "  0%|          | 1/884 [00:00<02:02,  7.23it/s]"
     ]
    },
    {
     "name": "stdout",
     "output_type": "stream",
     "text": [
      "('Epoca 72.', 'lr:', 6.7716246e-06)\n"
     ]
    },
    {
     "name": "stderr",
     "output_type": "stream",
     "text": [
      " 26%|██▋       | 234/884 [00:09<00:26, 24.61it/s]\n",
      "  0%|          | 0/77 [00:00<?, ?it/s]\u001b[A"
     ]
    },
    {
     "name": "stdout",
     "output_type": "stream",
     "text": [
      "\tsaving model 63000...\n",
      "\tdone\n",
      "Evaluating\n"
     ]
    },
    {
     "name": "stderr",
     "output_type": "stream",
     "text": [
      "\n",
      " 12%|#1        | 9/77 [00:00<00:00, 81.92it/s]\u001b[A\n",
      " 23%|##3       | 18/77 [00:00<00:00, 83.17it/s]\u001b[A\n",
      " 35%|###5      | 27/77 [00:00<00:00, 84.09it/s]\u001b[A\n",
      " 45%|####5     | 35/77 [00:00<00:00, 82.78it/s]\u001b[A\n",
      " 55%|#####4    | 42/77 [00:00<00:00, 76.76it/s]\u001b[A\n",
      " 66%|######6   | 51/77 [00:00<00:00, 79.60it/s]\u001b[A\n",
      " 79%|#######9  | 61/77 [00:00<00:00, 83.24it/s]\u001b[A\n",
      " 92%|#########2| 71/77 [00:00<00:00, 85.70it/s]\u001b[A\n",
      " 27%|██▋       | 240/884 [00:10<01:15,  8.50it/s]A"
     ]
    },
    {
     "name": "stdout",
     "output_type": "stream",
     "text": [
      "{'ade': 0.4553383, 'fde': 0.99639535}\n",
      "\t last loss:0.000243485, eval on validation:['ade: 0.4553383', 'fde: 0.99639535'], (best ade:0.4523981 at step 43800) \n"
     ]
    },
    {
     "name": "stderr",
     "output_type": "stream",
     "text": [
      " 60%|██████    | 534/884 [00:23<00:15, 22.04it/s]\n",
      "  0%|          | 0/77 [00:00<?, ?it/s]\u001b[A"
     ]
    },
    {
     "name": "stdout",
     "output_type": "stream",
     "text": [
      "\tsaving model 63300...\n",
      "\tdone\n",
      "Evaluating\n"
     ]
    },
    {
     "name": "stderr",
     "output_type": "stream",
     "text": [
      "\n",
      "  9%|9         | 7/77 [00:00<00:01, 69.42it/s]\u001b[A\n",
      " 19%|#9        | 15/77 [00:00<00:00, 71.71it/s]\u001b[A\n",
      " 30%|##9       | 23/77 [00:00<00:00, 72.87it/s]\u001b[A\n",
      " 40%|####      | 31/77 [00:00<00:00, 73.33it/s]\u001b[A\n",
      " 51%|#####     | 39/77 [00:00<00:00, 74.29it/s]\u001b[A\n",
      " 60%|#####9    | 46/77 [00:00<00:00, 71.63it/s]\u001b[A\n",
      " 70%|#######   | 54/77 [00:00<00:00, 71.79it/s]\u001b[A\n",
      " 81%|########  | 62/77 [00:00<00:00, 72.99it/s]\u001b[A\n",
      " 91%|######### | 70/77 [00:00<00:00, 73.54it/s]\u001b[A\n",
      " 61%|██████    | 537/884 [00:24<00:59,  5.88it/s]A"
     ]
    },
    {
     "name": "stdout",
     "output_type": "stream",
     "text": [
      "{'ade': 0.4551342, 'fde': 0.9961452}\n",
      "\t last loss:0.000293927, eval on validation:['ade: 0.4551342', 'fde: 0.9961452'], (best ade:0.4523981 at step 43800) \n"
     ]
    },
    {
     "name": "stderr",
     "output_type": "stream",
     "text": [
      " 94%|█████████▍| 834/884 [00:36<00:02, 24.82it/s]\n",
      "  0%|          | 0/77 [00:00<?, ?it/s]\u001b[A"
     ]
    },
    {
     "name": "stdout",
     "output_type": "stream",
     "text": [
      "\tsaving model 63600...\n",
      "\tdone\n",
      "Evaluating\n"
     ]
    },
    {
     "name": "stderr",
     "output_type": "stream",
     "text": [
      "\n",
      " 12%|#1        | 9/77 [00:00<00:00, 82.07it/s]\u001b[A\n",
      " 22%|##2       | 17/77 [00:00<00:00, 81.14it/s]\u001b[A\n",
      " 34%|###3      | 26/77 [00:00<00:00, 81.74it/s]\u001b[A\n",
      " 45%|####5     | 35/77 [00:00<00:00, 82.91it/s]\u001b[A\n",
      " 56%|#####5    | 43/77 [00:00<00:00, 81.26it/s]\u001b[A\n",
      " 68%|######7   | 52/77 [00:00<00:00, 81.71it/s]\u001b[A\n",
      " 79%|#######9  | 61/77 [00:00<00:00, 82.63it/s]\u001b[A\n",
      " 91%|######### | 70/77 [00:00<00:00, 83.32it/s]\u001b[A\n",
      " 95%|█████████▍| 837/884 [00:38<00:07,  6.44it/s]A"
     ]
    },
    {
     "name": "stdout",
     "output_type": "stream",
     "text": [
      "{'ade': 0.45684943, 'fde': 1.0006921}\n",
      "\t last loss:0.000247009, eval on validation:['ade: 0.45684943', 'fde: 1.0006921'], (best ade:0.4523981 at step 43800) \n"
     ]
    },
    {
     "name": "stderr",
     "output_type": "stream",
     "text": [
      "100%|██████████| 884/884 [00:40<00:00, 22.07it/s]\n",
      "  0%|          | 1/884 [00:00<01:35,  9.21it/s]"
     ]
    },
    {
     "name": "stdout",
     "output_type": "stream",
     "text": [
      "('Epoca 73.', 'lr:', 5.7558805e-06)\n"
     ]
    },
    {
     "name": "stderr",
     "output_type": "stream",
     "text": [
      " 28%|██▊       | 250/884 [00:10<00:28, 22.54it/s]"
     ]
    },
    {
     "name": "stdout",
     "output_type": "stream",
     "text": [
      "\tsaving model 63900...\n"
     ]
    },
    {
     "name": "stderr",
     "output_type": "stream",
     "text": [
      "\n",
      "  0%|          | 0/77 [00:00<?, ?it/s]\u001b[A\n",
      " 10%|#         | 8/77 [00:00<00:00, 73.54it/s]\u001b[A"
     ]
    },
    {
     "name": "stdout",
     "output_type": "stream",
     "text": [
      "\tdone\n",
      "Evaluating\n"
     ]
    },
    {
     "name": "stderr",
     "output_type": "stream",
     "text": [
      "\n",
      " 19%|#9        | 15/77 [00:00<00:00, 71.95it/s]\u001b[A\n",
      " 30%|##9       | 23/77 [00:00<00:00, 72.89it/s]\u001b[A\n",
      " 40%|####      | 31/77 [00:00<00:00, 73.78it/s]\u001b[A\n",
      " 51%|#####     | 39/77 [00:00<00:00, 72.87it/s]\u001b[A\n",
      " 61%|######1   | 47/77 [00:00<00:00, 73.82it/s]\u001b[A\n",
      " 71%|#######1  | 55/77 [00:00<00:00, 74.64it/s]\u001b[A\n",
      " 82%|########1 | 63/77 [00:00<00:00, 75.41it/s]\u001b[A\n",
      " 92%|#########2| 71/77 [00:00<00:00, 75.04it/s]\u001b[A\n",
      " 29%|██▊       | 253/884 [00:12<01:49,  5.78it/s]A"
     ]
    },
    {
     "name": "stdout",
     "output_type": "stream",
     "text": [
      "{'ade': 0.45631704, 'fde': 0.99840534}\n",
      "\t last loss:0.000397106, eval on validation:['ade: 0.45631704', 'fde: 0.99840534'], (best ade:0.4523981 at step 43800) \n"
     ]
    },
    {
     "name": "stderr",
     "output_type": "stream",
     "text": [
      " 62%|██████▏   | 550/884 [00:24<00:14, 22.83it/s]\n",
      "  0%|          | 0/77 [00:00<?, ?it/s]\u001b[A"
     ]
    },
    {
     "name": "stdout",
     "output_type": "stream",
     "text": [
      "\tsaving model 64200...\n",
      "\tdone\n",
      "Evaluating\n"
     ]
    },
    {
     "name": "stderr",
     "output_type": "stream",
     "text": [
      "\n",
      " 10%|#         | 8/77 [00:00<00:00, 72.88it/s]\u001b[A\n",
      " 21%|##        | 16/77 [00:00<00:00, 74.63it/s]\u001b[A\n",
      " 32%|###2      | 25/77 [00:00<00:00, 76.67it/s]\u001b[A\n",
      " 44%|####4     | 34/77 [00:00<00:00, 79.06it/s]\u001b[A\n",
      " 55%|#####4    | 42/77 [00:00<00:00, 79.18it/s]\u001b[A\n",
      " 64%|######3   | 49/77 [00:00<00:00, 75.39it/s]\u001b[A\n",
      " 75%|#######5  | 58/77 [00:00<00:00, 77.11it/s]\u001b[A\n",
      " 87%|########7 | 67/77 [00:00<00:00, 79.23it/s]\u001b[A\n",
      " 99%|#########8| 76/77 [00:00<00:00, 81.09it/s]\u001b[A\n",
      " 63%|██████▎   | 553/884 [00:25<00:52,  6.26it/s]A"
     ]
    },
    {
     "name": "stdout",
     "output_type": "stream",
     "text": [
      "{'ade': 0.4540562, 'fde': 0.9934393}\n",
      "\t last loss:0.000417725, eval on validation:['ade: 0.4540562', 'fde: 0.9934393'], (best ade:0.4523981 at step 43800) \n"
     ]
    },
    {
     "name": "stderr",
     "output_type": "stream",
     "text": [
      " 96%|█████████▌| 850/884 [00:38<00:01, 25.75it/s]\n",
      "  0%|          | 0/77 [00:00<?, ?it/s]\u001b[A"
     ]
    },
    {
     "name": "stdout",
     "output_type": "stream",
     "text": [
      "\tsaving model 64500...\n",
      "\tdone\n",
      "Evaluating\n"
     ]
    },
    {
     "name": "stderr",
     "output_type": "stream",
     "text": [
      "\n",
      " 13%|#2        | 10/77 [00:00<00:00, 93.42it/s]\u001b[A\n",
      " 26%|##5       | 20/77 [00:00<00:00, 93.71it/s]\u001b[A\n",
      " 39%|###8      | 30/77 [00:00<00:00, 93.16it/s]\u001b[A\n",
      " 52%|#####1    | 40/77 [00:00<00:00, 93.05it/s]\u001b[A\n",
      " 65%|######4   | 50/77 [00:00<00:00, 92.54it/s]\u001b[A\n",
      " 77%|#######6  | 59/77 [00:00<00:00, 90.33it/s]\u001b[A\n",
      " 90%|########9 | 69/77 [00:00<00:00, 91.09it/s]\u001b[A\n",
      " 97%|█████████▋| 856/884 [00:39<00:03,  9.10it/s]A"
     ]
    },
    {
     "name": "stdout",
     "output_type": "stream",
     "text": [
      "{'ade': 0.45577964, 'fde': 0.9976786}\n",
      "\t last loss:0.000516120, eval on validation:['ade: 0.45577964', 'fde: 0.9976786'], (best ade:0.4523981 at step 43800) \n"
     ]
    },
    {
     "name": "stderr",
     "output_type": "stream",
     "text": [
      "100%|██████████| 884/884 [00:40<00:00, 21.66it/s]\n",
      "  0%|          | 1/884 [00:00<01:44,  8.44it/s]"
     ]
    },
    {
     "name": "stdout",
     "output_type": "stream",
     "text": [
      "('Epoca 74.', 'lr:', 5.7558805e-06)\n"
     ]
    },
    {
     "name": "stderr",
     "output_type": "stream",
     "text": [
      " 30%|███       | 267/884 [00:12<00:27, 22.54it/s]\n",
      "  0%|          | 0/77 [00:00<?, ?it/s]\u001b[A"
     ]
    },
    {
     "name": "stdout",
     "output_type": "stream",
     "text": [
      "\tsaving model 64800...\n",
      "\tdone\n",
      "Evaluating\n"
     ]
    },
    {
     "name": "stderr",
     "output_type": "stream",
     "text": [
      "\n",
      "  8%|7         | 6/77 [00:00<00:01, 58.70it/s]\u001b[A\n",
      " 18%|#8        | 14/77 [00:00<00:01, 62.73it/s]\u001b[A\n",
      " 29%|##8       | 22/77 [00:00<00:00, 66.52it/s]\u001b[A\n",
      " 39%|###8      | 30/77 [00:00<00:00, 68.93it/s]\u001b[A\n",
      " 48%|####8     | 37/77 [00:00<00:00, 68.62it/s]\u001b[A\n",
      " 58%|#####8    | 45/77 [00:00<00:00, 70.17it/s]\u001b[A\n",
      " 69%|######8   | 53/77 [00:00<00:00, 72.06it/s]\u001b[A\n",
      " 79%|#######9  | 61/77 [00:00<00:00, 72.93it/s]\u001b[A\n",
      " 90%|########9 | 69/77 [00:00<00:00, 73.48it/s]\u001b[A\n",
      " 31%|███       | 270/884 [00:13<01:45,  5.81it/s]A"
     ]
    },
    {
     "name": "stdout",
     "output_type": "stream",
     "text": [
      "{'ade': 0.4550675, 'fde': 0.996382}\n",
      "\t last loss:0.000156372, eval on validation:['ade: 0.4550675', 'fde: 0.996382'], (best ade:0.4523981 at step 43800) \n"
     ]
    },
    {
     "name": "stderr",
     "output_type": "stream",
     "text": [
      " 64%|██████▍   | 567/884 [00:25<00:13, 23.55it/s]"
     ]
    },
    {
     "name": "stdout",
     "output_type": "stream",
     "text": [
      "\tsaving model 65100...\n"
     ]
    },
    {
     "name": "stderr",
     "output_type": "stream",
     "text": [
      "\n",
      "  0%|          | 0/77 [00:00<?, ?it/s]\u001b[A\n",
      "  9%|9         | 7/77 [00:00<00:01, 67.54it/s]\u001b[A\n",
      " 18%|#8        | 14/77 [00:00<00:00, 67.51it/s]\u001b[A\n",
      " 27%|##7       | 21/77 [00:00<00:00, 66.54it/s]\u001b[A\n",
      " 36%|###6      | 28/77 [00:00<00:00, 66.82it/s]\u001b[A\n",
      " 44%|####4     | 34/77 [00:00<00:00, 63.27it/s]\u001b[A\n",
      " 53%|#####3    | 41/77 [00:00<00:00, 63.23it/s]\u001b[A\n",
      " 62%|######2   | 48/77 [00:00<00:00, 64.23it/s]\u001b[A\n",
      " 71%|#######1  | 55/77 [00:00<00:00, 64.69it/s]\u001b[A\n",
      " 81%|########  | 62/77 [00:00<00:00, 63.78it/s]\u001b[A\n",
      " 90%|########9 | 69/77 [00:01<00:00, 64.94it/s]\u001b[A\n",
      " 99%|#########8| 76/77 [00:01<00:00, 65.78it/s]\u001b[A\n",
      " 64%|██████▍   | 570/884 [00:27<00:58,  5.34it/s]A"
     ]
    },
    {
     "name": "stdout",
     "output_type": "stream",
     "text": [
      "\tdone\n",
      "Evaluating\n",
      "{'ade': 0.4543801, 'fde': 0.9937163}\n",
      "\t last loss:0.000766180, eval on validation:['ade: 0.4543801', 'fde: 0.9937163'], (best ade:0.4523981 at step 43800) \n"
     ]
    },
    {
     "name": "stderr",
     "output_type": "stream",
     "text": [
      " 98%|█████████▊| 866/884 [00:39<00:00, 26.01it/s]\n",
      "  0%|          | 0/77 [00:00<?, ?it/s]\u001b[A"
     ]
    },
    {
     "name": "stdout",
     "output_type": "stream",
     "text": [
      "\tsaving model 65400...\n",
      "\tdone\n",
      "Evaluating\n"
     ]
    },
    {
     "name": "stderr",
     "output_type": "stream",
     "text": [
      "\n",
      " 13%|#2        | 10/77 [00:00<00:00, 92.92it/s]\u001b[A\n",
      " 25%|##4       | 19/77 [00:00<00:00, 91.91it/s]\u001b[A\n",
      " 35%|###5      | 27/77 [00:00<00:00, 87.89it/s]\u001b[A\n",
      " 47%|####6     | 36/77 [00:00<00:00, 87.58it/s]\u001b[A\n",
      " 60%|#####9    | 46/77 [00:00<00:00, 88.72it/s]\u001b[A\n",
      " 73%|#######2  | 56/77 [00:00<00:00, 89.40it/s]\u001b[A\n",
      " 84%|########4 | 65/77 [00:00<00:00, 88.51it/s]\u001b[A\n",
      " 97%|#########7| 75/77 [00:00<00:00, 89.50it/s]\u001b[A\n",
      " 99%|█████████▊| 872/884 [00:41<00:01,  8.97it/s]A"
     ]
    },
    {
     "name": "stdout",
     "output_type": "stream",
     "text": [
      "{'ade': 0.45418432, 'fde': 0.99368495}\n",
      "\t last loss:0.000285638, eval on validation:['ade: 0.45418432', 'fde: 0.99368495'], (best ade:0.4523981 at step 43800) \n"
     ]
    },
    {
     "name": "stderr",
     "output_type": "stream",
     "text": [
      "100%|██████████| 884/884 [00:41<00:00, 17.72it/s]\n",
      "  0%|          | 3/884 [00:00<00:40, 21.79it/s]"
     ]
    },
    {
     "name": "stdout",
     "output_type": "stream",
     "text": [
      "('Epoca 75.', 'lr:', 4.8924985e-06)\n"
     ]
    },
    {
     "name": "stderr",
     "output_type": "stream",
     "text": [
      " 32%|███▏      | 282/884 [00:11<00:25, 23.70it/s]\n",
      "  0%|          | 0/77 [00:00<?, ?it/s]\u001b[A"
     ]
    },
    {
     "name": "stdout",
     "output_type": "stream",
     "text": [
      "\tsaving model 65700...\n",
      "\tdone\n",
      "Evaluating\n"
     ]
    },
    {
     "name": "stderr",
     "output_type": "stream",
     "text": [
      "\n",
      " 12%|#1        | 9/77 [00:00<00:00, 86.46it/s]\u001b[A\n",
      " 23%|##3       | 18/77 [00:00<00:00, 85.93it/s]\u001b[A\n",
      " 34%|###3      | 26/77 [00:00<00:00, 81.97it/s]\u001b[A\n",
      " 45%|####5     | 35/77 [00:00<00:00, 81.48it/s]\u001b[A\n",
      " 56%|#####5    | 43/77 [00:00<00:00, 78.50it/s]\u001b[A\n",
      " 65%|######4   | 50/77 [00:00<00:00, 73.11it/s]\u001b[A\n",
      " 74%|#######4  | 57/77 [00:00<00:00, 71.19it/s]\u001b[A\n",
      " 83%|########3 | 64/77 [00:00<00:00, 70.04it/s]\u001b[A\n",
      " 92%|#########2| 71/77 [00:00<00:00, 69.04it/s]\u001b[A\n",
      " 32%|███▏      | 285/884 [00:12<01:40,  5.95it/s]A"
     ]
    },
    {
     "name": "stdout",
     "output_type": "stream",
     "text": [
      "{'ade': 0.45779637, 'fde': 1.0028788}\n",
      "\t last loss:0.000417519, eval on validation:['ade: 0.45779637', 'fde: 1.0028788'], (best ade:0.4523981 at step 43800) \n"
     ]
    },
    {
     "name": "stderr",
     "output_type": "stream",
     "text": [
      " 66%|██████▌   | 582/884 [00:25<00:11, 26.58it/s]\n",
      "  0%|          | 0/77 [00:00<?, ?it/s]\u001b[A"
     ]
    },
    {
     "name": "stdout",
     "output_type": "stream",
     "text": [
      "\tsaving model 66000...\n",
      "\tdone\n",
      "Evaluating\n"
     ]
    },
    {
     "name": "stderr",
     "output_type": "stream",
     "text": [
      "\n",
      " 12%|#1        | 9/77 [00:00<00:00, 87.98it/s]\u001b[A\n",
      " 25%|##4       | 19/77 [00:00<00:00, 88.95it/s]\u001b[A\n",
      " 36%|###6      | 28/77 [00:00<00:00, 88.95it/s]\u001b[A\n",
      " 48%|####8     | 37/77 [00:00<00:00, 87.52it/s]\u001b[A\n",
      " 61%|######1   | 47/77 [00:00<00:00, 88.67it/s]\u001b[A\n",
      " 74%|#######4  | 57/77 [00:00<00:00, 89.90it/s]\u001b[A\n",
      " 87%|########7 | 67/77 [00:00<00:00, 91.41it/s]\u001b[A\n",
      " 66%|██████▌   | 585/884 [00:26<00:42,  7.11it/s]A"
     ]
    },
    {
     "name": "stdout",
     "output_type": "stream",
     "text": [
      "{'ade': 0.45660955, 'fde': 0.99995244}\n",
      "\t last loss:0.000297644, eval on validation:['ade: 0.45660955', 'fde: 0.99995244'], (best ade:0.4523981 at step 43800) \n"
     ]
    },
    {
     "name": "stderr",
     "output_type": "stream",
     "text": [
      "100%|█████████▉| 882/884 [00:39<00:00, 23.16it/s]"
     ]
    },
    {
     "name": "stdout",
     "output_type": "stream",
     "text": [
      "\tsaving model 66300...\n"
     ]
    },
    {
     "name": "stderr",
     "output_type": "stream",
     "text": [
      "\n",
      "  0%|          | 0/77 [00:00<?, ?it/s]\u001b[A\n",
      " 10%|#         | 8/77 [00:00<00:00, 75.93it/s]\u001b[A\n",
      " 21%|##        | 16/77 [00:00<00:00, 76.58it/s]\u001b[A\n",
      " 32%|###2      | 25/77 [00:00<00:00, 78.48it/s]\u001b[A\n",
      " 44%|####4     | 34/77 [00:00<00:00, 80.16it/s]\u001b[A\n",
      " 56%|#####5    | 43/77 [00:00<00:00, 80.90it/s]\u001b[A\n",
      " 68%|######7   | 52/77 [00:00<00:00, 82.68it/s]\u001b[A\n",
      " 79%|#######9  | 61/77 [00:00<00:00, 83.68it/s]\u001b[A\n",
      " 90%|########9 | 69/77 [00:00<00:00, 80.08it/s]\u001b[A\n",
      "100%|██████████| 884/884 [00:40<00:00, 21.58it/s]A\n",
      "  0%|          | 0/884 [00:00<?, ?it/s]"
     ]
    },
    {
     "name": "stdout",
     "output_type": "stream",
     "text": [
      "\tdone\n",
      "Evaluating\n",
      "{'ade': 0.45569497, 'fde': 0.9976429}\n",
      "\t last loss:0.000249359, eval on validation:['ade: 0.45569497', 'fde: 0.9976429'], (best ade:0.4523981 at step 43800) \n",
      "('Epoca 76.', 'lr:', 4.8924985e-06)\n"
     ]
    },
    {
     "name": "stderr",
     "output_type": "stream",
     "text": [
      " 34%|███▎      | 298/884 [00:11<00:22, 25.57it/s]\n",
      "  0%|          | 0/77 [00:00<?, ?it/s]\u001b[A"
     ]
    },
    {
     "name": "stdout",
     "output_type": "stream",
     "text": [
      "\tsaving model 66600...\n",
      "\tdone\n",
      "Evaluating\n"
     ]
    },
    {
     "name": "stderr",
     "output_type": "stream",
     "text": [
      "\n",
      " 12%|#1        | 9/77 [00:00<00:00, 89.44it/s]\u001b[A\n",
      " 25%|##4       | 19/77 [00:00<00:00, 89.97it/s]\u001b[A\n",
      " 38%|###7      | 29/77 [00:00<00:00, 91.25it/s]\u001b[A\n",
      " 51%|#####     | 39/77 [00:00<00:00, 92.28it/s]\u001b[A\n",
      " 64%|######3   | 49/77 [00:00<00:00, 92.17it/s]\u001b[A\n",
      " 74%|#######4  | 57/77 [00:00<00:00, 87.32it/s]\u001b[A\n",
      " 87%|########7 | 67/77 [00:00<00:00, 88.80it/s]\u001b[A\n",
      " 99%|#########8| 76/77 [00:00<00:00, 89.13it/s]\u001b[A\n",
      " 34%|███▍      | 304/884 [00:13<01:05,  8.91it/s]A"
     ]
    },
    {
     "name": "stdout",
     "output_type": "stream",
     "text": [
      "{'ade': 0.45498654, 'fde': 0.9949594}\n",
      "\t last loss:0.000233462, eval on validation:['ade: 0.45498654', 'fde: 0.9949594'], (best ade:0.4523981 at step 43800) \n"
     ]
    },
    {
     "name": "stderr",
     "output_type": "stream",
     "text": [
      " 68%|██████▊   | 598/884 [00:26<00:12, 22.42it/s]\n",
      "  0%|          | 0/77 [00:00<?, ?it/s]\u001b[A"
     ]
    },
    {
     "name": "stdout",
     "output_type": "stream",
     "text": [
      "\tsaving model 66900...\n",
      "\tdone\n",
      "Evaluating\n"
     ]
    },
    {
     "name": "stderr",
     "output_type": "stream",
     "text": [
      "\n",
      " 10%|#         | 8/77 [00:00<00:00, 74.02it/s]\u001b[A\n",
      " 21%|##        | 16/77 [00:00<00:00, 74.05it/s]\u001b[A\n",
      " 31%|###1      | 24/77 [00:00<00:00, 74.53it/s]\u001b[A\n",
      " 42%|####1     | 32/77 [00:00<00:00, 75.20it/s]\u001b[A\n",
      " 51%|#####     | 39/77 [00:00<00:00, 72.03it/s]\u001b[A\n",
      " 61%|######1   | 47/77 [00:00<00:00, 71.65it/s]\u001b[A\n",
      " 71%|#######1  | 55/77 [00:00<00:00, 72.43it/s]\u001b[A\n",
      " 82%|########1 | 63/77 [00:00<00:00, 73.15it/s]\u001b[A\n",
      " 94%|#########3| 72/77 [00:00<00:00, 76.01it/s]\u001b[A\n",
      " 68%|██████▊   | 604/884 [00:27<00:36,  7.72it/s]A"
     ]
    },
    {
     "name": "stdout",
     "output_type": "stream",
     "text": [
      "{'ade': 0.45628428, 'fde': 0.99884486}\n",
      "\t last loss:0.000287157, eval on validation:['ade: 0.45628428', 'fde: 0.99884486'], (best ade:0.4523981 at step 43800) \n"
     ]
    },
    {
     "name": "stderr",
     "output_type": "stream",
     "text": [
      "100%|██████████| 884/884 [00:38<00:00, 22.79it/s]\n",
      "  0%|          | 1/884 [00:00<01:39,  8.89it/s]"
     ]
    },
    {
     "name": "stdout",
     "output_type": "stream",
     "text": [
      "('Epoca 77.', 'lr:', 4.158624e-06)\n"
     ]
    },
    {
     "name": "stderr",
     "output_type": "stream",
     "text": [
      "  1%|▏         | 13/884 [00:00<00:49, 17.58it/s]\n",
      "  0%|          | 0/77 [00:00<?, ?it/s]\u001b[A"
     ]
    },
    {
     "name": "stdout",
     "output_type": "stream",
     "text": [
      "\tsaving model 67200...\n",
      "\tdone\n",
      "Evaluating\n"
     ]
    },
    {
     "name": "stderr",
     "output_type": "stream",
     "text": [
      "\n",
      " 13%|#2        | 10/77 [00:00<00:00, 92.23it/s]\u001b[A\n",
      " 25%|##4       | 19/77 [00:00<00:00, 89.32it/s]\u001b[A\n",
      " 36%|###6      | 28/77 [00:00<00:00, 89.07it/s]\u001b[A\n",
      " 48%|####8     | 37/77 [00:00<00:00, 89.15it/s]\u001b[A\n",
      " 61%|######1   | 47/77 [00:00<00:00, 88.61it/s]\u001b[A\n",
      " 74%|#######4  | 57/77 [00:00<00:00, 89.73it/s]\u001b[A\n",
      " 87%|########7 | 67/77 [00:00<00:00, 91.13it/s]\u001b[A\n",
      "  2%|▏         | 19/884 [00:01<01:42,  8.41it/s][A"
     ]
    },
    {
     "name": "stdout",
     "output_type": "stream",
     "text": [
      "{'ade': 0.4538111, 'fde': 0.9929901}\n",
      "\t last loss:0.000163242, eval on validation:['ade: 0.4538111', 'fde: 0.9929901'], (best ade:0.4523981 at step 43800) \n"
     ]
    },
    {
     "name": "stderr",
     "output_type": "stream",
     "text": [
      " 35%|███▌      | 313/884 [00:13<00:23, 24.60it/s]\n",
      "  0%|          | 0/77 [00:00<?, ?it/s]\u001b[A"
     ]
    },
    {
     "name": "stdout",
     "output_type": "stream",
     "text": [
      "\tsaving model 67500...\n",
      "\tdone\n",
      "Evaluating\n"
     ]
    },
    {
     "name": "stderr",
     "output_type": "stream",
     "text": [
      "\n",
      " 10%|#         | 8/77 [00:00<00:00, 77.73it/s]\u001b[A\n",
      " 22%|##2       | 17/77 [00:00<00:00, 79.61it/s]\u001b[A\n",
      " 32%|###2      | 25/77 [00:00<00:00, 78.93it/s]\u001b[A\n",
      " 44%|####4     | 34/77 [00:00<00:00, 80.25it/s]\u001b[A\n",
      " 56%|#####5    | 43/77 [00:00<00:00, 81.06it/s]\u001b[A\n",
      " 68%|######7   | 52/77 [00:00<00:00, 82.32it/s]\u001b[A\n",
      " 79%|#######9  | 61/77 [00:00<00:00, 82.96it/s]\u001b[A\n",
      " 91%|######### | 70/77 [00:00<00:00, 83.72it/s]\u001b[A\n",
      " 36%|███▌      | 319/884 [00:15<01:08,  8.23it/s]A"
     ]
    },
    {
     "name": "stdout",
     "output_type": "stream",
     "text": [
      "{'ade': 0.45455253, 'fde': 0.99422616}\n",
      "\t last loss:0.000131148, eval on validation:['ade: 0.45455253', 'fde: 0.99422616'], (best ade:0.4523981 at step 43800) \n"
     ]
    },
    {
     "name": "stderr",
     "output_type": "stream",
     "text": [
      " 69%|██████▉   | 613/884 [00:28<00:11, 24.15it/s]\n",
      "  0%|          | 0/77 [00:00<?, ?it/s]\u001b[A"
     ]
    },
    {
     "name": "stdout",
     "output_type": "stream",
     "text": [
      "\tsaving model 67800...\n",
      "\tdone\n",
      "Evaluating\n"
     ]
    },
    {
     "name": "stderr",
     "output_type": "stream",
     "text": [
      "\n",
      " 12%|#1        | 9/77 [00:00<00:00, 89.07it/s]\u001b[A\n",
      " 25%|##4       | 19/77 [00:00<00:00, 90.32it/s]\u001b[A\n",
      " 38%|###7      | 29/77 [00:00<00:00, 91.74it/s]\u001b[A\n",
      " 49%|####9     | 38/77 [00:00<00:00, 91.00it/s]\u001b[A\n",
      " 60%|#####9    | 46/77 [00:00<00:00, 87.39it/s]\u001b[A\n",
      " 71%|#######1  | 55/77 [00:00<00:00, 87.98it/s]\u001b[A\n",
      " 83%|########3 | 64/77 [00:00<00:00, 87.98it/s]\u001b[A\n",
      " 95%|#########4| 73/77 [00:00<00:00, 87.79it/s]\u001b[A\n",
      " 70%|███████   | 619/884 [00:29<00:29,  8.84it/s]A"
     ]
    },
    {
     "name": "stdout",
     "output_type": "stream",
     "text": [
      "{'ade': 0.45675424, 'fde': 1.0004839}\n",
      "\t last loss:0.000249540, eval on validation:['ade: 0.45675424', 'fde: 1.0004839'], (best ade:0.4523981 at step 43800) \n"
     ]
    },
    {
     "name": "stderr",
     "output_type": "stream",
     "text": [
      "100%|██████████| 884/884 [00:40<00:00, 21.58it/s]\n",
      "  0%|          | 1/884 [00:00<02:07,  6.94it/s]"
     ]
    },
    {
     "name": "stdout",
     "output_type": "stream",
     "text": [
      "('Epoca 78.', 'lr:', 4.158624e-06)\n"
     ]
    },
    {
     "name": "stderr",
     "output_type": "stream",
     "text": [
      "  4%|▎         | 31/884 [00:01<00:40, 21.02it/s]\n",
      "  0%|          | 0/77 [00:00<?, ?it/s]\u001b[A"
     ]
    },
    {
     "name": "stdout",
     "output_type": "stream",
     "text": [
      "\tsaving model 68100...\n",
      "\tdone\n",
      "Evaluating\n"
     ]
    },
    {
     "name": "stderr",
     "output_type": "stream",
     "text": [
      "\n",
      " 10%|#         | 8/77 [00:00<00:00, 78.24it/s]\u001b[A\n",
      " 21%|##        | 16/77 [00:00<00:00, 77.44it/s]\u001b[A\n",
      " 31%|###1      | 24/77 [00:00<00:00, 76.70it/s]\u001b[A\n",
      " 42%|####1     | 32/77 [00:00<00:00, 74.68it/s]\u001b[A\n",
      " 51%|#####     | 39/77 [00:00<00:00, 72.88it/s]\u001b[A\n",
      " 61%|######1   | 47/77 [00:00<00:00, 72.82it/s]\u001b[A\n",
      " 70%|#######   | 54/77 [00:00<00:00, 71.16it/s]\u001b[A\n",
      " 81%|########  | 62/77 [00:00<00:00, 72.11it/s]\u001b[A\n",
      " 91%|######### | 70/77 [00:00<00:00, 73.41it/s]\u001b[A\n",
      "  4%|▍         | 34/884 [00:02<02:26,  5.81it/s][A"
     ]
    },
    {
     "name": "stdout",
     "output_type": "stream",
     "text": [
      "{'ade': 0.45478207, 'fde': 0.99478996}\n",
      "\t last loss:0.000218014, eval on validation:['ade: 0.45478207', 'fde: 0.99478996'], (best ade:0.4523981 at step 43800) \n"
     ]
    },
    {
     "name": "stderr",
     "output_type": "stream",
     "text": [
      " 37%|███▋      | 331/884 [00:14<00:22, 24.87it/s]\n",
      "  0%|          | 0/77 [00:00<?, ?it/s]\u001b[A"
     ]
    },
    {
     "name": "stdout",
     "output_type": "stream",
     "text": [
      "\tsaving model 68400...\n",
      "\tdone\n",
      "Evaluating\n"
     ]
    },
    {
     "name": "stderr",
     "output_type": "stream",
     "text": [
      "\n",
      " 12%|#1        | 9/77 [00:00<00:00, 84.54it/s]\u001b[A\n",
      " 21%|##        | 16/77 [00:00<00:00, 78.53it/s]\u001b[A\n",
      " 31%|###1      | 24/77 [00:00<00:00, 77.85it/s]\u001b[A\n",
      " 42%|####1     | 32/77 [00:00<00:00, 77.05it/s]\u001b[A\n",
      " 53%|#####3    | 41/77 [00:00<00:00, 78.37it/s]\u001b[A\n",
      " 66%|######6   | 51/77 [00:00<00:00, 82.16it/s]\u001b[A\n",
      " 79%|#######9  | 61/77 [00:00<00:00, 85.65it/s]\u001b[A\n",
      " 92%|#########2| 71/77 [00:00<00:00, 87.92it/s]\u001b[A\n",
      " 38%|███▊      | 334/884 [00:16<01:22,  6.66it/s]A"
     ]
    },
    {
     "name": "stdout",
     "output_type": "stream",
     "text": [
      "{'ade': 0.45639154, 'fde': 0.9988068}\n",
      "\t last loss:0.000311780, eval on validation:['ade: 0.45639154', 'fde: 0.9988068'], (best ade:0.4523981 at step 43800) \n"
     ]
    },
    {
     "name": "stderr",
     "output_type": "stream",
     "text": [
      " 71%|███████▏  | 631/884 [00:28<00:11, 22.81it/s]\n",
      "  0%|          | 0/77 [00:00<?, ?it/s]"
     ]
    },
    {
     "name": "stdout",
     "output_type": "stream",
     "text": [
      "\tsaving model 68700...\n",
      "\tdone\n",
      "Evaluating\n"
     ]
    },
    {
     "name": "stderr",
     "output_type": "stream",
     "text": [
      "\u001b[A\n",
      " 10%|#         | 8/77 [00:00<00:00, 76.11it/s]\u001b[A\n",
      " 19%|#9        | 15/77 [00:00<00:00, 72.63it/s]\u001b[A\n",
      " 30%|##9       | 23/77 [00:00<00:00, 72.64it/s]\u001b[A\n",
      " 40%|####      | 31/77 [00:00<00:00, 71.99it/s]\u001b[A\n",
      " 51%|#####     | 39/77 [00:00<00:00, 73.36it/s]\u001b[A\n",
      " 61%|######1   | 47/77 [00:00<00:00, 74.15it/s]\u001b[A\n",
      " 71%|#######1  | 55/77 [00:00<00:00, 74.65it/s]\u001b[A\n",
      " 82%|########1 | 63/77 [00:00<00:00, 74.51it/s]\u001b[A\n",
      " 92%|#########2| 71/77 [00:00<00:00, 75.46it/s]\u001b[A\n",
      " 72%|███████▏  | 634/884 [00:30<00:42,  5.85it/s]A"
     ]
    },
    {
     "name": "stdout",
     "output_type": "stream",
     "text": [
      "{'ade': 0.4576841, 'fde': 1.0032437}\n",
      "\t last loss:0.000159744, eval on validation:['ade: 0.4576841', 'fde: 1.0032437'], (best ade:0.4523981 at step 43800) \n"
     ]
    },
    {
     "name": "stderr",
     "output_type": "stream",
     "text": [
      "100%|██████████| 884/884 [00:40<00:00, 21.95it/s]\n",
      "  0%|          | 2/884 [00:00<00:44, 19.67it/s]"
     ]
    },
    {
     "name": "stdout",
     "output_type": "stream",
     "text": [
      "('Epoca 79.', 'lr:', 3.5348305e-06)\n"
     ]
    },
    {
     "name": "stderr",
     "output_type": "stream",
     "text": [
      "  5%|▌         | 47/884 [00:01<00:34, 24.30it/s]\n",
      "  0%|          | 0/77 [00:00<?, ?it/s]\u001b[A"
     ]
    },
    {
     "name": "stdout",
     "output_type": "stream",
     "text": [
      "\tsaving model 69000...\n",
      "\tdone\n",
      "Evaluating\n"
     ]
    },
    {
     "name": "stderr",
     "output_type": "stream",
     "text": [
      "\n",
      " 12%|#1        | 9/77 [00:00<00:00, 83.52it/s]\u001b[A\n",
      " 23%|##3       | 18/77 [00:00<00:00, 83.39it/s]\u001b[A\n",
      " 35%|###5      | 27/77 [00:00<00:00, 84.06it/s]\u001b[A\n",
      " 47%|####6     | 36/77 [00:00<00:00, 84.40it/s]\u001b[A\n",
      " 58%|#####8    | 45/77 [00:00<00:00, 84.18it/s]\u001b[A\n",
      " 70%|#######   | 54/77 [00:00<00:00, 84.35it/s]\u001b[A\n",
      " 81%|########  | 62/77 [00:00<00:00, 82.39it/s]\u001b[A\n",
      " 91%|######### | 70/77 [00:00<00:00, 80.80it/s]\u001b[A\n",
      "  6%|▌         | 50/884 [00:03<02:09,  6.42it/s][A"
     ]
    },
    {
     "name": "stdout",
     "output_type": "stream",
     "text": [
      "{'ade': 0.45469436, 'fde': 0.99474716}\n",
      "\t last loss:0.000232657, eval on validation:['ade: 0.45469436', 'fde: 0.99474716'], (best ade:0.4523981 at step 43800) \n"
     ]
    },
    {
     "name": "stderr",
     "output_type": "stream",
     "text": [
      " 39%|███▉      | 346/884 [00:16<00:21, 24.77it/s]\n",
      "  0%|          | 0/77 [00:00<?, ?it/s]\u001b[A"
     ]
    },
    {
     "name": "stdout",
     "output_type": "stream",
     "text": [
      "\tsaving model 69300...\n",
      "\tdone\n",
      "Evaluating\n"
     ]
    },
    {
     "name": "stderr",
     "output_type": "stream",
     "text": [
      "\n",
      " 12%|#1        | 9/77 [00:00<00:00, 87.81it/s]\u001b[A\n",
      " 25%|##4       | 19/77 [00:00<00:00, 89.76it/s]\u001b[A\n",
      " 38%|###7      | 29/77 [00:00<00:00, 91.17it/s]\u001b[A\n",
      " 49%|####9     | 38/77 [00:00<00:00, 88.20it/s]\u001b[A\n",
      " 61%|######1   | 47/77 [00:00<00:00, 88.48it/s]\u001b[A\n",
      " 74%|#######4  | 57/77 [00:00<00:00, 87.49it/s]\u001b[A\n",
      " 86%|########5 | 66/77 [00:00<00:00, 87.10it/s]\u001b[A\n",
      " 99%|#########8| 76/77 [00:00<00:00, 88.60it/s]\u001b[A\n",
      " 40%|███▉      | 352/884 [00:17<00:59,  8.91it/s]A"
     ]
    },
    {
     "name": "stdout",
     "output_type": "stream",
     "text": [
      "{'ade': 0.45520088, 'fde': 0.99591786}\n",
      "\t last loss:0.000365650, eval on validation:['ade: 0.45520088', 'fde: 0.99591786'], (best ade:0.4523981 at step 43800) \n"
     ]
    },
    {
     "name": "stderr",
     "output_type": "stream",
     "text": [
      " 73%|███████▎  | 646/884 [00:30<00:10, 22.56it/s]\n",
      "  0%|          | 0/77 [00:00<?, ?it/s]\u001b[A"
     ]
    },
    {
     "name": "stdout",
     "output_type": "stream",
     "text": [
      "\tsaving model 69600...\n",
      "\tdone\n",
      "Evaluating\n"
     ]
    },
    {
     "name": "stderr",
     "output_type": "stream",
     "text": [
      "\n",
      " 10%|#         | 8/77 [00:00<00:00, 75.72it/s]\u001b[A\n",
      " 21%|##        | 16/77 [00:00<00:00, 74.99it/s]\u001b[A\n",
      " 31%|###1      | 24/77 [00:00<00:00, 73.61it/s]\u001b[A\n",
      " 42%|####1     | 32/77 [00:00<00:00, 73.01it/s]\u001b[A\n",
      " 51%|#####     | 39/77 [00:00<00:00, 71.68it/s]\u001b[A\n",
      " 61%|######1   | 47/77 [00:00<00:00, 72.83it/s]\u001b[A\n",
      " 71%|#######1  | 55/77 [00:00<00:00, 74.17it/s]\u001b[A\n",
      " 83%|########3 | 64/77 [00:00<00:00, 76.65it/s]\u001b[A\n",
      " 95%|#########4| 73/77 [00:00<00:00, 78.20it/s]\u001b[A\n",
      " 74%|███████▍  | 652/884 [00:31<00:29,  7.77it/s]A"
     ]
    },
    {
     "name": "stdout",
     "output_type": "stream",
     "text": [
      "{'ade': 0.45430654, 'fde': 0.99391043}\n",
      "\t last loss:0.000213666, eval on validation:['ade: 0.45430654', 'fde: 0.99391043'], (best ade:0.4523981 at step 43800) \n"
     ]
    },
    {
     "name": "stderr",
     "output_type": "stream",
     "text": [
      "100%|██████████| 884/884 [00:41<00:00, 21.50it/s]\n",
      "  0%|          | 1/884 [00:00<01:30,  9.79it/s]"
     ]
    },
    {
     "name": "stdout",
     "output_type": "stream",
     "text": [
      "('Epoca 80.', 'lr:', 3.5348305e-06)\n"
     ]
    },
    {
     "name": "stderr",
     "output_type": "stream",
     "text": [
      "  7%|▋         | 63/884 [00:03<00:40, 20.09it/s]"
     ]
    },
    {
     "name": "stdout",
     "output_type": "stream",
     "text": [
      "\tsaving model 69900...\n"
     ]
    },
    {
     "name": "stderr",
     "output_type": "stream",
     "text": [
      "\n",
      "  0%|          | 0/77 [00:00<?, ?it/s]\u001b[A\n",
      "  9%|9         | 7/77 [00:00<00:01, 68.72it/s]\u001b[A"
     ]
    },
    {
     "name": "stdout",
     "output_type": "stream",
     "text": [
      "\tdone\n",
      "Evaluating\n"
     ]
    },
    {
     "name": "stderr",
     "output_type": "stream",
     "text": [
      "\n",
      " 18%|#8        | 14/77 [00:00<00:00, 67.04it/s]\u001b[A\n",
      " 27%|##7       | 21/77 [00:00<00:00, 66.92it/s]\u001b[A\n",
      " 36%|###6      | 28/77 [00:00<00:00, 65.53it/s]\u001b[A\n",
      " 44%|####4     | 34/77 [00:00<00:00, 62.84it/s]\u001b[A\n",
      " 52%|#####1    | 40/77 [00:00<00:00, 58.61it/s]\u001b[A\n",
      " 61%|######1   | 47/77 [00:00<00:00, 60.45it/s]\u001b[A\n",
      " 70%|#######   | 54/77 [00:00<00:00, 61.93it/s]\u001b[A\n",
      " 79%|#######9  | 61/77 [00:00<00:00, 62.87it/s]\u001b[A\n",
      " 88%|########8 | 68/77 [00:01<00:00, 64.50it/s]\u001b[A\n",
      " 97%|#########7| 75/77 [00:01<00:00, 65.50it/s]\u001b[A\n",
      "  7%|▋         | 66/884 [00:04<02:38,  5.15it/s][A"
     ]
    },
    {
     "name": "stdout",
     "output_type": "stream",
     "text": [
      "{'ade': 0.45496887, 'fde': 0.995634}\n",
      "\t last loss:0.000197267, eval on validation:['ade: 0.45496887', 'fde: 0.995634'], (best ade:0.4523981 at step 43800) \n"
     ]
    },
    {
     "name": "stderr",
     "output_type": "stream",
     "text": [
      " 41%|████      | 361/884 [00:17<00:20, 25.53it/s]\n",
      "  0%|          | 0/77 [00:00<?, ?it/s]\u001b[A"
     ]
    },
    {
     "name": "stdout",
     "output_type": "stream",
     "text": [
      "\tsaving model 70200...\n",
      "\tdone\n",
      "Evaluating\n"
     ]
    },
    {
     "name": "stderr",
     "output_type": "stream",
     "text": [
      "\n",
      " 13%|#2        | 10/77 [00:00<00:00, 92.23it/s]\u001b[A\n",
      " 26%|##5       | 20/77 [00:00<00:00, 92.76it/s]\u001b[A\n",
      " 38%|###7      | 29/77 [00:00<00:00, 86.12it/s]\u001b[A\n",
      " 45%|####5     | 35/77 [00:00<00:00, 70.80it/s]\u001b[A\n",
      " 53%|#####3    | 41/77 [00:00<00:00, 66.16it/s]\u001b[A\n",
      " 62%|######2   | 48/77 [00:00<00:00, 66.93it/s]\u001b[A\n",
      " 75%|#######5  | 58/77 [00:00<00:00, 72.88it/s]\u001b[A\n",
      " 87%|########7 | 67/77 [00:00<00:00, 76.09it/s]\u001b[A\n",
      " 99%|#########8| 76/77 [00:00<00:00, 78.74it/s]\u001b[A\n",
      " 42%|████▏     | 367/884 [00:18<01:02,  8.24it/s]A"
     ]
    },
    {
     "name": "stdout",
     "output_type": "stream",
     "text": [
      "{'ade': 0.45522338, 'fde': 0.9960641}\n",
      "\t last loss:0.000386284, eval on validation:['ade: 0.45522338', 'fde: 0.9960641'], (best ade:0.4523981 at step 43800) \n"
     ]
    },
    {
     "name": "stderr",
     "output_type": "stream",
     "text": [
      " 75%|███████▍  | 661/884 [00:30<00:09, 22.85it/s]"
     ]
    },
    {
     "name": "stdout",
     "output_type": "stream",
     "text": [
      "\tsaving model 70500...\n"
     ]
    },
    {
     "name": "stderr",
     "output_type": "stream",
     "text": [
      "\n",
      "  0%|          | 0/77 [00:00<?, ?it/s]\u001b[A\n",
      "  8%|7         | 6/77 [00:00<00:01, 54.54it/s]\u001b[A"
     ]
    },
    {
     "name": "stdout",
     "output_type": "stream",
     "text": [
      "\tdone\n",
      "Evaluating\n"
     ]
    },
    {
     "name": "stderr",
     "output_type": "stream",
     "text": [
      "\n",
      " 16%|#5        | 12/77 [00:00<00:01, 54.28it/s]\u001b[A\n",
      " 25%|##4       | 19/77 [00:00<00:01, 57.59it/s]\u001b[A\n",
      " 34%|###3      | 26/77 [00:00<00:00, 59.74it/s]\u001b[A\n",
      " 43%|####2     | 33/77 [00:00<00:00, 61.84it/s]\u001b[A\n",
      " 52%|#####1    | 40/77 [00:00<00:00, 63.45it/s]\u001b[A\n",
      " 61%|######1   | 47/77 [00:00<00:00, 64.36it/s]\u001b[A\n",
      " 70%|#######   | 54/77 [00:00<00:00, 64.71it/s]\u001b[A\n",
      " 79%|#######9  | 61/77 [00:00<00:00, 65.35it/s]\u001b[A\n",
      " 88%|########8 | 68/77 [00:01<00:00, 63.97it/s]\u001b[A\n",
      " 97%|#########7| 75/77 [00:01<00:00, 64.04it/s]\u001b[A\n",
      " 75%|███████▌  | 667/884 [00:32<00:32,  6.75it/s]A"
     ]
    },
    {
     "name": "stdout",
     "output_type": "stream",
     "text": [
      "{'ade': 0.45558757, 'fde': 0.9970858}\n",
      "\t last loss:0.000230534, eval on validation:['ade: 0.45558757', 'fde: 0.9970858'], (best ade:0.4523981 at step 43800) \n"
     ]
    },
    {
     "name": "stderr",
     "output_type": "stream",
     "text": [
      "100%|██████████| 884/884 [00:41<00:00, 21.14it/s]\n",
      "  0%|          | 1/884 [00:00<01:49,  8.04it/s]"
     ]
    },
    {
     "name": "stdout",
     "output_type": "stream",
     "text": [
      "('Epoca 81.', 'lr:', 3.004606e-06)\n"
     ]
    },
    {
     "name": "stderr",
     "output_type": "stream",
     "text": [
      "  9%|▉         | 79/884 [00:03<00:31, 25.78it/s]\n",
      "  0%|          | 0/77 [00:00<?, ?it/s]\u001b[A"
     ]
    },
    {
     "name": "stdout",
     "output_type": "stream",
     "text": [
      "\tsaving model 70800...\n",
      "\tdone\n",
      "Evaluating\n"
     ]
    },
    {
     "name": "stderr",
     "output_type": "stream",
     "text": [
      "\n",
      " 13%|#2        | 10/77 [00:00<00:00, 93.67it/s]\u001b[A\n",
      " 26%|##5       | 20/77 [00:00<00:00, 93.87it/s]\u001b[A\n",
      " 39%|###8      | 30/77 [00:00<00:00, 93.47it/s]\u001b[A\n",
      " 52%|#####1    | 40/77 [00:00<00:00, 93.00it/s]\u001b[A\n",
      " 65%|######4   | 50/77 [00:00<00:00, 93.17it/s]\u001b[A\n",
      " 77%|#######6  | 59/77 [00:00<00:00, 91.90it/s]\u001b[A\n",
      " 88%|########8 | 68/77 [00:00<00:00, 88.97it/s]\u001b[A\n",
      "  9%|▉         | 82/884 [00:04<01:53,  7.05it/s][A"
     ]
    },
    {
     "name": "stdout",
     "output_type": "stream",
     "text": [
      "{'ade': 0.45589072, 'fde': 0.99784565}\n",
      "\t last loss:0.000303714, eval on validation:['ade: 0.45589072', 'fde: 0.99784565'], (best ade:0.4523981 at step 43800) \n"
     ]
    },
    {
     "name": "stderr",
     "output_type": "stream",
     "text": [
      " 43%|████▎     | 377/884 [00:17<00:21, 23.81it/s]\n",
      "  0%|          | 0/77 [00:00<?, ?it/s]\u001b[A"
     ]
    },
    {
     "name": "stdout",
     "output_type": "stream",
     "text": [
      "\tsaving model 71100...\n",
      "\tdone\n",
      "Evaluating\n"
     ]
    },
    {
     "name": "stderr",
     "output_type": "stream",
     "text": [
      "\n",
      " 12%|#1        | 9/77 [00:00<00:00, 84.38it/s]\u001b[A\n",
      " 23%|##3       | 18/77 [00:00<00:00, 85.10it/s]\u001b[A\n",
      " 35%|###5      | 27/77 [00:00<00:00, 84.08it/s]\u001b[A\n",
      " 45%|####5     | 35/77 [00:00<00:00, 81.21it/s]\u001b[A\n",
      " 56%|#####5    | 43/77 [00:00<00:00, 78.97it/s]\u001b[A\n",
      " 66%|######6   | 51/77 [00:00<00:00, 79.26it/s]\u001b[A\n",
      " 78%|#######7  | 60/77 [00:00<00:00, 81.05it/s]\u001b[A\n",
      " 90%|########9 | 69/77 [00:00<00:00, 82.23it/s]\u001b[A\n",
      " 43%|████▎     | 383/884 [00:18<01:00,  8.32it/s]A"
     ]
    },
    {
     "name": "stdout",
     "output_type": "stream",
     "text": [
      "{'ade': 0.45645735, 'fde': 0.9998844}\n",
      "\t last loss:0.000329672, eval on validation:['ade: 0.45645735', 'fde: 0.9998844'], (best ade:0.4523981 at step 43800) \n"
     ]
    },
    {
     "name": "stderr",
     "output_type": "stream",
     "text": [
      " 77%|███████▋  | 677/884 [00:30<00:09, 20.80it/s]"
     ]
    },
    {
     "name": "stdout",
     "output_type": "stream",
     "text": [
      "\tsaving model 71400...\n"
     ]
    },
    {
     "name": "stderr",
     "output_type": "stream",
     "text": [
      "\n",
      "  0%|          | 0/77 [00:00<?, ?it/s]\u001b[A\n",
      "  9%|9         | 7/77 [00:00<00:01, 64.74it/s]\u001b[A"
     ]
    },
    {
     "name": "stdout",
     "output_type": "stream",
     "text": [
      "\tdone\n",
      "Evaluating\n"
     ]
    },
    {
     "name": "stderr",
     "output_type": "stream",
     "text": [
      "\n",
      " 18%|#8        | 14/77 [00:00<00:00, 64.61it/s]\u001b[A\n",
      " 27%|##7       | 21/77 [00:00<00:00, 65.11it/s]\u001b[A\n",
      " 36%|###6      | 28/77 [00:00<00:00, 65.96it/s]\u001b[A\n",
      " 45%|####5     | 35/77 [00:00<00:00, 65.11it/s]\u001b[A\n",
      " 55%|#####4    | 42/77 [00:00<00:00, 65.92it/s]\u001b[A\n",
      " 64%|######3   | 49/77 [00:00<00:00, 66.01it/s]\u001b[A\n",
      " 73%|#######2  | 56/77 [00:00<00:00, 65.26it/s]\u001b[A\n",
      " 82%|########1 | 63/77 [00:00<00:00, 61.86it/s]\u001b[A\n",
      " 91%|######### | 70/77 [00:01<00:00, 62.10it/s]\u001b[A\n",
      " 77%|███████▋  | 683/884 [00:32<00:30,  6.66it/s]A"
     ]
    },
    {
     "name": "stdout",
     "output_type": "stream",
     "text": [
      "{'ade': 0.45642835, 'fde': 0.9995835}\n",
      "\t last loss:0.000229306, eval on validation:['ade: 0.45642835', 'fde: 0.9995835'], (best ade:0.4523981 at step 43800) \n"
     ]
    },
    {
     "name": "stderr",
     "output_type": "stream",
     "text": [
      "100%|██████████| 884/884 [00:41<00:00, 25.52it/s]\n",
      "  0%|          | 3/884 [00:00<00:39, 22.10it/s]"
     ]
    },
    {
     "name": "stdout",
     "output_type": "stream",
     "text": [
      "('Epoca 82.', 'lr:', 3.004606e-06)\n"
     ]
    },
    {
     "name": "stderr",
     "output_type": "stream",
     "text": [
      " 11%|█         | 93/884 [00:03<00:30, 25.77it/s]\n",
      "  0%|          | 0/77 [00:00<?, ?it/s]\u001b[A"
     ]
    },
    {
     "name": "stdout",
     "output_type": "stream",
     "text": [
      "\tsaving model 71700...\n",
      "\tdone\n",
      "Evaluating\n"
     ]
    },
    {
     "name": "stderr",
     "output_type": "stream",
     "text": [
      "\n",
      "  9%|9         | 7/77 [00:00<00:01, 68.66it/s]\u001b[A\n",
      " 19%|#9        | 15/77 [00:00<00:00, 70.57it/s]\u001b[A\n",
      " 30%|##9       | 23/77 [00:00<00:00, 73.01it/s]\u001b[A\n",
      " 42%|####1     | 32/77 [00:00<00:00, 75.69it/s]\u001b[A\n",
      " 53%|#####3    | 41/77 [00:00<00:00, 77.90it/s]\u001b[A\n",
      " 65%|######4   | 50/77 [00:00<00:00, 79.34it/s]\u001b[A\n",
      " 77%|#######6  | 59/77 [00:00<00:00, 80.78it/s]\u001b[A\n",
      " 88%|########8 | 68/77 [00:00<00:00, 82.18it/s]\u001b[A\n",
      " 11%|█         | 99/884 [00:04<01:34,  8.30it/s][A"
     ]
    },
    {
     "name": "stdout",
     "output_type": "stream",
     "text": [
      "{'ade': 0.45515633, 'fde': 0.995852}\n",
      "\t last loss:0.000477941, eval on validation:['ade: 0.45515633', 'fde: 0.995852'], (best ade:0.4523981 at step 43800) \n"
     ]
    },
    {
     "name": "stderr",
     "output_type": "stream",
     "text": [
      " 44%|████▍     | 393/884 [00:17<00:24, 20.13it/s]"
     ]
    },
    {
     "name": "stdout",
     "output_type": "stream",
     "text": [
      "\tsaving model 72000...\n"
     ]
    },
    {
     "name": "stderr",
     "output_type": "stream",
     "text": [
      "\n",
      "  0%|          | 0/77 [00:00<?, ?it/s]\u001b[A\n",
      "  9%|9         | 7/77 [00:00<00:01, 67.28it/s]\u001b[A"
     ]
    },
    {
     "name": "stdout",
     "output_type": "stream",
     "text": [
      "\tdone\n",
      "Evaluating\n"
     ]
    },
    {
     "name": "stderr",
     "output_type": "stream",
     "text": [
      "\n",
      " 18%|#8        | 14/77 [00:00<00:00, 66.83it/s]\u001b[A\n",
      " 27%|##7       | 21/77 [00:00<00:00, 66.69it/s]\u001b[A\n",
      " 36%|###6      | 28/77 [00:00<00:00, 66.98it/s]\u001b[A\n",
      " 45%|####5     | 35/77 [00:00<00:00, 66.86it/s]\u001b[A\n",
      " 53%|#####3    | 41/77 [00:00<00:00, 62.56it/s]\u001b[A\n",
      " 61%|######1   | 47/77 [00:00<00:00, 61.76it/s]\u001b[A\n",
      " 70%|#######   | 54/77 [00:00<00:00, 63.01it/s]\u001b[A\n",
      " 79%|#######9  | 61/77 [00:00<00:00, 63.43it/s]\u001b[A\n",
      " 88%|########8 | 68/77 [00:01<00:00, 64.09it/s]\u001b[A\n",
      " 97%|#########7| 75/77 [00:01<00:00, 64.24it/s]\u001b[A\n",
      " 45%|████▌     | 399/884 [00:18<01:12,  6.66it/s]A"
     ]
    },
    {
     "name": "stdout",
     "output_type": "stream",
     "text": [
      "{'ade': 0.4542564, 'fde': 0.9942441}\n",
      "\t last loss:0.000239619, eval on validation:['ade: 0.4542564', 'fde: 0.9942441'], (best ade:0.4523981 at step 43800) \n"
     ]
    },
    {
     "name": "stderr",
     "output_type": "stream",
     "text": [
      " 78%|███████▊  | 693/884 [00:31<00:07, 25.77it/s]\n",
      "  0%|          | 0/77 [00:00<?, ?it/s]\u001b[A"
     ]
    },
    {
     "name": "stdout",
     "output_type": "stream",
     "text": [
      "\tsaving model 72300...\n",
      "\tdone\n",
      "Evaluating\n"
     ]
    },
    {
     "name": "stderr",
     "output_type": "stream",
     "text": [
      "\n",
      " 13%|#2        | 10/77 [00:00<00:00, 91.47it/s]\u001b[A\n",
      " 25%|##4       | 19/77 [00:00<00:00, 90.80it/s]\u001b[A\n",
      " 36%|###6      | 28/77 [00:00<00:00, 88.88it/s]\u001b[A\n",
      " 48%|####8     | 37/77 [00:00<00:00, 87.54it/s]\u001b[A\n",
      " 60%|#####9    | 46/77 [00:00<00:00, 86.45it/s]\u001b[A\n",
      " 71%|#######1  | 55/77 [00:00<00:00, 85.71it/s]\u001b[A\n",
      " 82%|########1 | 63/77 [00:00<00:00, 81.72it/s]\u001b[A\n",
      " 92%|#########2| 71/77 [00:00<00:00, 78.80it/s]\u001b[A\n",
      " 79%|███████▉  | 699/884 [00:32<00:21,  8.48it/s]A"
     ]
    },
    {
     "name": "stdout",
     "output_type": "stream",
     "text": [
      "{'ade': 0.45436084, 'fde': 0.99389046}\n",
      "\t last loss:0.000318725, eval on validation:['ade: 0.45436084', 'fde: 0.99389046'], (best ade:0.4523981 at step 43800) \n"
     ]
    },
    {
     "name": "stderr",
     "output_type": "stream",
     "text": [
      "100%|██████████| 884/884 [00:41<00:00, 21.45it/s]\n",
      "  0%|          | 1/884 [00:00<02:02,  7.21it/s]"
     ]
    },
    {
     "name": "stdout",
     "output_type": "stream",
     "text": [
      "('Epoca 83.', 'lr:', 2.5539152e-06)\n"
     ]
    },
    {
     "name": "stderr",
     "output_type": "stream",
     "text": [
      " 12%|█▏        | 110/884 [00:04<00:32, 23.52it/s]\n",
      "  0%|          | 0/77 [00:00<?, ?it/s]\u001b[A"
     ]
    },
    {
     "name": "stdout",
     "output_type": "stream",
     "text": [
      "\tsaving model 72600...\n",
      "\tdone\n",
      "Evaluating\n"
     ]
    },
    {
     "name": "stderr",
     "output_type": "stream",
     "text": [
      "\n",
      " 12%|#1        | 9/77 [00:00<00:00, 83.35it/s]\u001b[A\n",
      " 23%|##3       | 18/77 [00:00<00:00, 83.44it/s]\u001b[A\n",
      " 35%|###5      | 27/77 [00:00<00:00, 83.88it/s]\u001b[A\n",
      " 47%|####6     | 36/77 [00:00<00:00, 84.58it/s]\u001b[A\n",
      " 58%|#####8    | 45/77 [00:00<00:00, 84.20it/s]\u001b[A\n",
      " 70%|#######   | 54/77 [00:00<00:00, 84.80it/s]\u001b[A\n",
      " 81%|########  | 62/77 [00:00<00:00, 81.26it/s]\u001b[A\n",
      " 91%|######### | 70/77 [00:00<00:00, 79.53it/s]\u001b[A\n",
      " 13%|█▎        | 116/884 [00:06<01:32,  8.28it/s]A"
     ]
    },
    {
     "name": "stdout",
     "output_type": "stream",
     "text": [
      "{'ade': 0.4568207, 'fde': 1.0004741}\n",
      "\t last loss:0.000303227, eval on validation:['ade: 0.4568207', 'fde: 1.0004741'], (best ade:0.4523981 at step 43800) \n"
     ]
    },
    {
     "name": "stderr",
     "output_type": "stream",
     "text": [
      " 46%|████▋     | 410/884 [00:17<00:18, 25.33it/s]\n",
      "  0%|          | 0/77 [00:00<?, ?it/s]\u001b[A"
     ]
    },
    {
     "name": "stdout",
     "output_type": "stream",
     "text": [
      "\tsaving model 72900...\n",
      "\tdone\n",
      "Evaluating\n"
     ]
    },
    {
     "name": "stderr",
     "output_type": "stream",
     "text": [
      "\n",
      " 13%|#2        | 10/77 [00:00<00:00, 91.74it/s]\u001b[A\n",
      " 26%|##5       | 20/77 [00:00<00:00, 92.10it/s]\u001b[A\n",
      " 38%|###7      | 29/77 [00:00<00:00, 89.63it/s]\u001b[A\n",
      " 49%|####9     | 38/77 [00:00<00:00, 87.94it/s]\u001b[A\n",
      " 61%|######1   | 47/77 [00:00<00:00, 87.24it/s]\u001b[A\n",
      " 71%|#######1  | 55/77 [00:00<00:00, 83.57it/s]\u001b[A\n",
      " 82%|########1 | 63/77 [00:00<00:00, 81.98it/s]\u001b[A\n",
      " 94%|#########3| 72/77 [00:00<00:00, 82.64it/s]\u001b[A\n",
      " 47%|████▋     | 413/884 [00:19<01:10,  6.73it/s]A"
     ]
    },
    {
     "name": "stdout",
     "output_type": "stream",
     "text": [
      "{'ade': 0.4568537, 'fde': 0.99992913}\n",
      "\t last loss:0.000249649, eval on validation:['ade: 0.4568537', 'fde: 0.99992913'], (best ade:0.4523981 at step 43800) \n"
     ]
    },
    {
     "name": "stderr",
     "output_type": "stream",
     "text": [
      " 80%|████████  | 710/884 [00:32<00:07, 23.80it/s]\n",
      "  0%|          | 0/77 [00:00<?, ?it/s]\u001b[A"
     ]
    },
    {
     "name": "stdout",
     "output_type": "stream",
     "text": [
      "\tsaving model 73200...\n",
      "\tdone\n",
      "Evaluating\n"
     ]
    },
    {
     "name": "stderr",
     "output_type": "stream",
     "text": [
      "\n",
      " 12%|#1        | 9/77 [00:00<00:00, 84.45it/s]\u001b[A\n",
      " 23%|##3       | 18/77 [00:00<00:00, 83.57it/s]\u001b[A\n",
      " 32%|###2      | 25/77 [00:00<00:00, 78.32it/s]\u001b[A\n",
      " 43%|####2     | 33/77 [00:00<00:00, 78.73it/s]\u001b[A\n",
      " 55%|#####4    | 42/77 [00:00<00:00, 79.97it/s]\u001b[A\n",
      " 66%|######6   | 51/77 [00:00<00:00, 81.44it/s]\u001b[A\n",
      " 78%|#######7  | 60/77 [00:00<00:00, 82.88it/s]\u001b[A\n",
      " 90%|########9 | 69/77 [00:00<00:00, 83.06it/s]\u001b[A\n",
      " 81%|████████  | 716/884 [00:33<00:20,  8.33it/s]A"
     ]
    },
    {
     "name": "stdout",
     "output_type": "stream",
     "text": [
      "{'ade': 0.45586252, 'fde': 0.99782467}\n",
      "\t last loss:0.000432738, eval on validation:['ade: 0.45586252', 'fde: 0.99782467'], (best ade:0.4523981 at step 43800) \n"
     ]
    },
    {
     "name": "stderr",
     "output_type": "stream",
     "text": [
      "100%|██████████| 884/884 [00:40<00:00, 21.90it/s]\n",
      "  0%|          | 1/884 [00:00<01:46,  8.30it/s]"
     ]
    },
    {
     "name": "stdout",
     "output_type": "stream",
     "text": [
      "('Epoca 84.', 'lr:', 2.5539152e-06)\n"
     ]
    },
    {
     "name": "stderr",
     "output_type": "stream",
     "text": [
      " 14%|█▍        | 126/884 [00:05<00:28, 26.44it/s]\n",
      "  0%|          | 0/77 [00:00<?, ?it/s]\u001b[A"
     ]
    },
    {
     "name": "stdout",
     "output_type": "stream",
     "text": [
      "\tsaving model 73500...\n",
      "\tdone\n",
      "Evaluating\n"
     ]
    },
    {
     "name": "stderr",
     "output_type": "stream",
     "text": [
      "\n",
      " 13%|#2        | 10/77 [00:00<00:00, 92.45it/s]\u001b[A\n",
      " 23%|##3       | 18/77 [00:00<00:00, 86.62it/s]\u001b[A\n",
      " 35%|###5      | 27/77 [00:00<00:00, 87.50it/s]\u001b[A\n",
      " 47%|####6     | 36/77 [00:00<00:00, 87.71it/s]\u001b[A\n",
      " 60%|#####9    | 46/77 [00:00<00:00, 89.38it/s]\u001b[A\n",
      " 73%|#######2  | 56/77 [00:00<00:00, 90.41it/s]\u001b[A\n",
      " 86%|########5 | 66/77 [00:00<00:00, 91.09it/s]\u001b[A\n",
      " 99%|#########8| 76/77 [00:00<00:00, 90.96it/s]\u001b[A\n",
      " 15%|█▍        | 129/884 [00:06<01:47,  7.00it/s]A"
     ]
    },
    {
     "name": "stdout",
     "output_type": "stream",
     "text": [
      "{'ade': 0.4563876, 'fde': 0.9994768}\n",
      "\t last loss:0.000215231, eval on validation:['ade: 0.4563876', 'fde: 0.9994768'], (best ade:0.4523981 at step 43800) \n"
     ]
    },
    {
     "name": "stderr",
     "output_type": "stream",
     "text": [
      " 48%|████▊     | 426/884 [00:18<00:19, 23.67it/s]"
     ]
    },
    {
     "name": "stdout",
     "output_type": "stream",
     "text": [
      "\tsaving model 73800...\n"
     ]
    },
    {
     "name": "stderr",
     "output_type": "stream",
     "text": [
      "\n",
      "  0%|          | 0/77 [00:00<?, ?it/s]\u001b[A\n",
      "  9%|9         | 7/77 [00:00<00:01, 68.48it/s]\u001b[A"
     ]
    },
    {
     "name": "stdout",
     "output_type": "stream",
     "text": [
      "\tdone\n",
      "Evaluating\n"
     ]
    },
    {
     "name": "stderr",
     "output_type": "stream",
     "text": [
      "\n",
      " 18%|#8        | 14/77 [00:00<00:00, 67.19it/s]\u001b[A\n",
      " 27%|##7       | 21/77 [00:00<00:00, 66.37it/s]\u001b[A\n",
      " 36%|###6      | 28/77 [00:00<00:00, 66.35it/s]\u001b[A\n",
      " 45%|####5     | 35/77 [00:00<00:00, 66.32it/s]\u001b[A\n",
      " 55%|#####4    | 42/77 [00:00<00:00, 65.91it/s]\u001b[A\n",
      " 64%|######3   | 49/77 [00:00<00:00, 66.06it/s]\u001b[A\n",
      " 73%|#######2  | 56/77 [00:00<00:00, 66.37it/s]\u001b[A\n",
      " 82%|########1 | 63/77 [00:00<00:00, 61.18it/s]\u001b[A\n",
      " 91%|######### | 70/77 [00:01<00:00, 61.75it/s]\u001b[A\n",
      " 49%|████▊     | 429/884 [00:19<01:26,  5.27it/s]A"
     ]
    },
    {
     "name": "stdout",
     "output_type": "stream",
     "text": [
      "{'ade': 0.45529422, 'fde': 0.9961155}\n",
      "\t last loss:0.000212195, eval on validation:['ade: 0.45529422', 'fde: 0.9961155'], (best ade:0.4523981 at step 43800) \n"
     ]
    },
    {
     "name": "stderr",
     "output_type": "stream",
     "text": [
      " 82%|████████▏ | 726/884 [00:32<00:06, 24.54it/s]\n",
      "  0%|          | 0/77 [00:00<?, ?it/s]\u001b[A"
     ]
    },
    {
     "name": "stdout",
     "output_type": "stream",
     "text": [
      "\tsaving model 74100...\n",
      "\tdone\n",
      "Evaluating\n"
     ]
    },
    {
     "name": "stderr",
     "output_type": "stream",
     "text": [
      "\n",
      " 13%|#2        | 10/77 [00:00<00:00, 94.60it/s]\u001b[A\n",
      " 26%|##5       | 20/77 [00:00<00:00, 93.86it/s]\u001b[A\n",
      " 39%|###8      | 30/77 [00:00<00:00, 93.15it/s]\u001b[A\n",
      " 52%|#####1    | 40/77 [00:00<00:00, 93.16it/s]\u001b[A\n",
      " 64%|######3   | 49/77 [00:00<00:00, 92.11it/s]\u001b[A\n",
      " 77%|#######6  | 59/77 [00:00<00:00, 93.00it/s]\u001b[A\n",
      " 88%|########8 | 68/77 [00:00<00:00, 85.63it/s]\u001b[A\n",
      " 83%|████████▎ | 732/884 [00:33<00:17,  8.93it/s]A"
     ]
    },
    {
     "name": "stdout",
     "output_type": "stream",
     "text": [
      "{'ade': 0.45558208, 'fde': 0.9974516}\n",
      "\t last loss:0.000239245, eval on validation:['ade: 0.45558208', 'fde: 0.9974516'], (best ade:0.4523981 at step 43800) \n"
     ]
    },
    {
     "name": "stderr",
     "output_type": "stream",
     "text": [
      "100%|██████████| 884/884 [00:40<00:00, 20.76it/s]\n",
      "  0%|          | 2/884 [00:00<01:04, 13.61it/s]"
     ]
    },
    {
     "name": "stdout",
     "output_type": "stream",
     "text": [
      "('Epoca 85.', 'lr:', 2.170828e-06)\n"
     ]
    },
    {
     "name": "stderr",
     "output_type": "stream",
     "text": [
      " 16%|█▌        | 141/884 [00:06<00:30, 24.27it/s]\n",
      "  0%|          | 0/77 [00:00<?, ?it/s]\u001b[A"
     ]
    },
    {
     "name": "stdout",
     "output_type": "stream",
     "text": [
      "\tsaving model 74400...\n",
      "\tdone\n",
      "Evaluating\n"
     ]
    },
    {
     "name": "stderr",
     "output_type": "stream",
     "text": [
      "\n",
      " 12%|#1        | 9/77 [00:00<00:00, 83.37it/s]\u001b[A\n",
      " 23%|##3       | 18/77 [00:00<00:00, 84.35it/s]\u001b[A\n",
      " 35%|###5      | 27/77 [00:00<00:00, 84.12it/s]\u001b[A\n",
      " 44%|####4     | 34/77 [00:00<00:00, 77.26it/s]\u001b[A\n",
      " 55%|#####4    | 42/77 [00:00<00:00, 77.28it/s]\u001b[A\n",
      " 66%|######6   | 51/77 [00:00<00:00, 79.01it/s]\u001b[A\n",
      " 78%|#######7  | 60/77 [00:00<00:00, 80.86it/s]\u001b[A\n",
      " 90%|########9 | 69/77 [00:00<00:00, 81.54it/s]\u001b[A\n",
      " 17%|█▋        | 147/884 [00:07<01:28,  8.35it/s]A"
     ]
    },
    {
     "name": "stdout",
     "output_type": "stream",
     "text": [
      "{'ade': 0.45609188, 'fde': 0.99892724}\n",
      "\t last loss:0.000236345, eval on validation:['ade: 0.45609188', 'fde: 0.99892724'], (best ade:0.4523981 at step 43800) \n"
     ]
    },
    {
     "name": "stderr",
     "output_type": "stream",
     "text": [
      " 50%|████▉     | 441/884 [00:19<00:21, 20.93it/s]"
     ]
    },
    {
     "name": "stdout",
     "output_type": "stream",
     "text": [
      "\tsaving model 74700...\n"
     ]
    },
    {
     "name": "stderr",
     "output_type": "stream",
     "text": [
      "\n",
      "  0%|          | 0/77 [00:00<?, ?it/s]\u001b[A\n",
      "  9%|9         | 7/77 [00:00<00:01, 63.41it/s]\u001b[A"
     ]
    },
    {
     "name": "stdout",
     "output_type": "stream",
     "text": [
      "\tdone\n",
      "Evaluating\n"
     ]
    },
    {
     "name": "stderr",
     "output_type": "stream",
     "text": [
      "\n",
      " 18%|#8        | 14/77 [00:00<00:00, 63.72it/s]\u001b[A\n",
      " 27%|##7       | 21/77 [00:00<00:00, 64.53it/s]\u001b[A\n",
      " 36%|###6      | 28/77 [00:00<00:00, 64.73it/s]\u001b[A\n",
      " 45%|####5     | 35/77 [00:00<00:00, 65.09it/s]\u001b[A\n",
      " 55%|#####4    | 42/77 [00:00<00:00, 65.47it/s]\u001b[A\n",
      " 64%|######3   | 49/77 [00:00<00:00, 65.42it/s]\u001b[A\n",
      " 73%|#######2  | 56/77 [00:00<00:00, 62.35it/s]\u001b[A\n",
      " 82%|########1 | 63/77 [00:00<00:00, 62.76it/s]\u001b[A\n",
      " 91%|######### | 70/77 [00:01<00:00, 64.16it/s]\u001b[A\n",
      " 51%|█████     | 447/884 [00:21<01:05,  6.71it/s]A"
     ]
    },
    {
     "name": "stdout",
     "output_type": "stream",
     "text": [
      "{'ade': 0.4557486, 'fde': 0.9972819}\n",
      "\t last loss:0.000225253, eval on validation:['ade: 0.4557486', 'fde: 0.9972819'], (best ade:0.4523981 at step 43800) \n"
     ]
    },
    {
     "name": "stderr",
     "output_type": "stream",
     "text": [
      " 84%|████████▍ | 743/884 [00:33<00:05, 25.97it/s]\n",
      "  0%|          | 0/77 [00:00<?, ?it/s]\u001b[A"
     ]
    },
    {
     "name": "stdout",
     "output_type": "stream",
     "text": [
      "\tsaving model 75000...\n",
      "\tdone\n",
      "Evaluating\n"
     ]
    },
    {
     "name": "stderr",
     "output_type": "stream",
     "text": [
      "\n",
      "  9%|9         | 7/77 [00:00<00:01, 63.51it/s]\u001b[A\n",
      " 19%|#9        | 15/77 [00:00<00:00, 66.89it/s]\u001b[A\n",
      " 30%|##9       | 23/77 [00:00<00:00, 70.14it/s]\u001b[A\n",
      " 42%|####1     | 32/77 [00:00<00:00, 73.58it/s]\u001b[A\n",
      " 53%|#####3    | 41/77 [00:00<00:00, 76.58it/s]\u001b[A\n",
      " 65%|######4   | 50/77 [00:00<00:00, 78.89it/s]\u001b[A\n",
      " 77%|#######6  | 59/77 [00:00<00:00, 80.13it/s]\u001b[A\n",
      " 88%|########8 | 68/77 [00:00<00:00, 80.70it/s]\u001b[A\n",
      " 84%|████████▍ | 746/884 [00:35<00:21,  6.35it/s]A"
     ]
    },
    {
     "name": "stdout",
     "output_type": "stream",
     "text": [
      "{'ade': 0.45587134, 'fde': 0.9979991}\n",
      "\t last loss:0.000369580, eval on validation:['ade: 0.45587134', 'fde: 0.9979991'], (best ade:0.4523981 at step 43800) \n"
     ]
    },
    {
     "name": "stderr",
     "output_type": "stream",
     "text": [
      "100%|██████████| 884/884 [00:40<00:00, 26.54it/s]\n",
      "  0%|          | 3/884 [00:00<00:39, 22.55it/s]"
     ]
    },
    {
     "name": "stdout",
     "output_type": "stream",
     "text": [
      "('Epoca 86.', 'lr:', 2.170828e-06)\n"
     ]
    },
    {
     "name": "stderr",
     "output_type": "stream",
     "text": [
      " 18%|█▊        | 159/884 [00:06<00:35, 20.63it/s]"
     ]
    },
    {
     "name": "stdout",
     "output_type": "stream",
     "text": [
      "\tsaving model 75300...\n"
     ]
    },
    {
     "name": "stderr",
     "output_type": "stream",
     "text": [
      "\n",
      "  0%|          | 0/77 [00:00<?, ?it/s]\u001b[A\n",
      "  8%|7         | 6/77 [00:00<00:01, 59.16it/s]\u001b[A"
     ]
    },
    {
     "name": "stdout",
     "output_type": "stream",
     "text": [
      "\tdone\n",
      "Evaluating\n"
     ]
    },
    {
     "name": "stderr",
     "output_type": "stream",
     "text": [
      "\n",
      " 16%|#5        | 12/77 [00:00<00:01, 57.05it/s]\u001b[A\n",
      " 25%|##4       | 19/77 [00:00<00:00, 59.33it/s]\u001b[A\n",
      " 34%|###3      | 26/77 [00:00<00:00, 60.89it/s]\u001b[A\n",
      " 43%|####2     | 33/77 [00:00<00:00, 62.82it/s]\u001b[A\n",
      " 52%|#####1    | 40/77 [00:00<00:00, 63.14it/s]\u001b[A\n",
      " 61%|######1   | 47/77 [00:00<00:00, 63.72it/s]\u001b[A\n",
      " 70%|#######   | 54/77 [00:00<00:00, 65.01it/s]\u001b[A\n",
      " 79%|#######9  | 61/77 [00:00<00:00, 66.10it/s]\u001b[A\n",
      " 88%|########8 | 68/77 [00:01<00:00, 64.83it/s]\u001b[A\n",
      " 97%|#########7| 75/77 [00:01<00:00, 61.91it/s]\u001b[A\n",
      " 18%|█▊        | 162/884 [00:08<02:22,  5.07it/s]A"
     ]
    },
    {
     "name": "stdout",
     "output_type": "stream",
     "text": [
      "{'ade': 0.45410994, 'fde': 0.9934767}\n",
      "\t last loss:0.000291517, eval on validation:['ade: 0.45410994', 'fde: 0.9934767'], (best ade:0.4523981 at step 43800) \n"
     ]
    },
    {
     "name": "stderr",
     "output_type": "stream",
     "text": [
      " 52%|█████▏    | 459/884 [00:20<00:16, 26.34it/s]\n",
      "  0%|          | 0/77 [00:00<?, ?it/s]\u001b[A"
     ]
    },
    {
     "name": "stdout",
     "output_type": "stream",
     "text": [
      "\tsaving model 75600...\n",
      "\tdone\n",
      "Evaluating\n"
     ]
    },
    {
     "name": "stderr",
     "output_type": "stream",
     "text": [
      "\n",
      " 10%|#         | 8/77 [00:00<00:00, 78.67it/s]\u001b[A\n",
      " 21%|##        | 16/77 [00:00<00:00, 78.05it/s]\u001b[A\n",
      " 32%|###2      | 25/77 [00:00<00:00, 79.07it/s]\u001b[A\n",
      " 44%|####4     | 34/77 [00:00<00:00, 80.40it/s]\u001b[A\n",
      " 56%|#####5    | 43/77 [00:00<00:00, 81.62it/s]\u001b[A\n",
      " 68%|######7   | 52/77 [00:00<00:00, 82.87it/s]\u001b[A\n",
      " 79%|#######9  | 61/77 [00:00<00:00, 83.68it/s]\u001b[A\n",
      " 91%|######### | 70/77 [00:00<00:00, 83.64it/s]\u001b[A\n",
      " 52%|█████▏    | 462/884 [00:22<01:03,  6.69it/s]A"
     ]
    },
    {
     "name": "stdout",
     "output_type": "stream",
     "text": [
      "{'ade': 0.45466948, 'fde': 0.99531347}\n",
      "\t last loss:0.000305963, eval on validation:['ade: 0.45466948', 'fde: 0.99531347'], (best ade:0.4523981 at step 43800) \n"
     ]
    },
    {
     "name": "stderr",
     "output_type": "stream",
     "text": [
      " 86%|████████▌ | 758/884 [00:35<00:05, 23.47it/s]\n",
      "  0%|          | 0/77 [00:00<?, ?it/s]\u001b[A"
     ]
    },
    {
     "name": "stdout",
     "output_type": "stream",
     "text": [
      "\tsaving model 75900...\n",
      "\tdone\n",
      "Evaluating\n"
     ]
    },
    {
     "name": "stderr",
     "output_type": "stream",
     "text": [
      "\n",
      " 12%|#1        | 9/77 [00:00<00:00, 86.14it/s]\u001b[A\n",
      " 23%|##3       | 18/77 [00:00<00:00, 85.83it/s]\u001b[A\n",
      " 35%|###5      | 27/77 [00:00<00:00, 85.52it/s]\u001b[A\n",
      " 47%|####6     | 36/77 [00:00<00:00, 85.14it/s]\u001b[A\n",
      " 58%|#####8    | 45/77 [00:00<00:00, 83.93it/s]\u001b[A\n",
      " 70%|#######   | 54/77 [00:00<00:00, 82.77it/s]\u001b[A\n",
      " 81%|########  | 62/77 [00:00<00:00, 81.89it/s]\u001b[A\n",
      " 91%|######### | 70/77 [00:00<00:00, 78.33it/s]\u001b[A\n",
      " 86%|████████▋ | 764/884 [00:36<00:14,  8.18it/s]A"
     ]
    },
    {
     "name": "stdout",
     "output_type": "stream",
     "text": [
      "{'ade': 0.45621318, 'fde': 0.99933964}\n",
      "\t last loss:0.000191785, eval on validation:['ade: 0.45621318', 'fde: 0.99933964'], (best ade:0.4523981 at step 43800) \n"
     ]
    },
    {
     "name": "stderr",
     "output_type": "stream",
     "text": [
      "100%|██████████| 884/884 [00:41<00:00, 23.62it/s]\n",
      "  0%|          | 2/884 [00:00<00:46, 18.92it/s]"
     ]
    },
    {
     "name": "stdout",
     "output_type": "stream",
     "text": [
      "('Epoca 87.', 'lr:', 1.8452038e-06)\n"
     ]
    },
    {
     "name": "stderr",
     "output_type": "stream",
     "text": [
      " 20%|█▉        | 175/884 [00:07<00:33, 21.03it/s]"
     ]
    },
    {
     "name": "stdout",
     "output_type": "stream",
     "text": [
      "\tsaving model 76200...\n"
     ]
    },
    {
     "name": "stderr",
     "output_type": "stream",
     "text": [
      "\n",
      "  0%|          | 0/77 [00:00<?, ?it/s]\u001b[A\n",
      " 10%|#         | 8/77 [00:00<00:00, 75.60it/s]\u001b[A"
     ]
    },
    {
     "name": "stdout",
     "output_type": "stream",
     "text": [
      "\tdone\n",
      "Evaluating\n"
     ]
    },
    {
     "name": "stderr",
     "output_type": "stream",
     "text": [
      "\n",
      " 21%|##        | 16/77 [00:00<00:00, 74.16it/s]\u001b[A\n",
      " 31%|###1      | 24/77 [00:00<00:00, 74.59it/s]\u001b[A\n",
      " 42%|####1     | 32/77 [00:00<00:00, 75.08it/s]\u001b[A\n",
      " 52%|#####1    | 40/77 [00:00<00:00, 74.84it/s]\u001b[A\n",
      " 62%|######2   | 48/77 [00:00<00:00, 75.57it/s]\u001b[A\n",
      " 73%|#######2  | 56/77 [00:00<00:00, 74.96it/s]\u001b[A\n",
      " 82%|########1 | 63/77 [00:00<00:00, 72.55it/s]\u001b[A\n",
      " 91%|######### | 70/77 [00:00<00:00, 71.68it/s]\u001b[A\n",
      " 20%|██        | 178/884 [00:09<02:02,  5.78it/s]A"
     ]
    },
    {
     "name": "stdout",
     "output_type": "stream",
     "text": [
      "{'ade': 0.4555102, 'fde': 0.9969634}\n",
      "\t last loss:0.000476801, eval on validation:['ade: 0.4555102', 'fde: 0.9969634'], (best ade:0.4523981 at step 43800) \n"
     ]
    },
    {
     "name": "stderr",
     "output_type": "stream",
     "text": [
      " 54%|█████▎    | 475/884 [00:21<00:16, 24.57it/s]\n",
      "  0%|          | 0/77 [00:00<?, ?it/s]\u001b[A"
     ]
    },
    {
     "name": "stdout",
     "output_type": "stream",
     "text": [
      "\tsaving model 76500...\n",
      "\tdone\n",
      "Evaluating\n"
     ]
    },
    {
     "name": "stderr",
     "output_type": "stream",
     "text": [
      "\n",
      " 12%|#1        | 9/77 [00:00<00:00, 82.16it/s]\u001b[A\n",
      " 23%|##3       | 18/77 [00:00<00:00, 82.62it/s]\u001b[A\n",
      " 34%|###3      | 26/77 [00:00<00:00, 79.85it/s]\u001b[A\n",
      " 44%|####4     | 34/77 [00:00<00:00, 78.14it/s]\u001b[A\n",
      " 55%|#####4    | 42/77 [00:00<00:00, 78.43it/s]\u001b[A\n",
      " 66%|######6   | 51/77 [00:00<00:00, 79.65it/s]\u001b[A\n",
      " 78%|#######7  | 60/77 [00:00<00:00, 81.11it/s]\u001b[A\n",
      " 90%|########9 | 69/77 [00:00<00:00, 81.73it/s]\u001b[A\n",
      " 54%|█████▍    | 478/884 [00:22<01:02,  6.46it/s]A"
     ]
    },
    {
     "name": "stdout",
     "output_type": "stream",
     "text": [
      "{'ade': 0.4552556, 'fde': 0.99634296}\n",
      "\t last loss:0.000190926, eval on validation:['ade: 0.4552556', 'fde: 0.99634296'], (best ade:0.4523981 at step 43800) \n"
     ]
    },
    {
     "name": "stderr",
     "output_type": "stream",
     "text": [
      " 88%|████████▊ | 774/884 [00:35<00:05, 19.70it/s]"
     ]
    },
    {
     "name": "stdout",
     "output_type": "stream",
     "text": [
      "\tsaving model 76800...\n"
     ]
    },
    {
     "name": "stderr",
     "output_type": "stream",
     "text": [
      "\n",
      "  0%|          | 0/77 [00:00<?, ?it/s]\u001b[A\n",
      "  9%|9         | 7/77 [00:00<00:01, 66.58it/s]\u001b[A\n",
      " 18%|#8        | 14/77 [00:00<00:00, 66.75it/s]\u001b[A\n",
      " 27%|##7       | 21/77 [00:00<00:00, 65.83it/s]\u001b[A\n",
      " 36%|###6      | 28/77 [00:00<00:00, 66.00it/s]\u001b[A\n",
      " 45%|####5     | 35/77 [00:00<00:00, 66.15it/s]\u001b[A\n",
      " 55%|#####4    | 42/77 [00:00<00:00, 65.99it/s]\u001b[A\n",
      " 65%|######4   | 50/77 [00:00<00:00, 67.46it/s]\u001b[A\n",
      " 75%|#######5  | 58/77 [00:00<00:00, 70.11it/s]\u001b[A\n",
      " 86%|########5 | 66/77 [00:00<00:00, 72.05it/s]\u001b[A\n",
      " 96%|#########6| 74/77 [00:01<00:00, 73.71it/s]\u001b[A\n",
      " 88%|████████▊ | 779/884 [00:36<00:19,  5.29it/s]A"
     ]
    },
    {
     "name": "stdout",
     "output_type": "stream",
     "text": [
      "\tdone\n",
      "Evaluating\n",
      "{'ade': 0.45563588, 'fde': 0.9977377}\n",
      "\t last loss:0.000339603, eval on validation:['ade: 0.45563588', 'fde: 0.9977377'], (best ade:0.4523981 at step 43800) \n"
     ]
    },
    {
     "name": "stderr",
     "output_type": "stream",
     "text": [
      "100%|██████████| 884/884 [00:41<00:00, 21.42it/s]\n",
      "  0%|          | 1/884 [00:00<01:48,  8.15it/s]"
     ]
    },
    {
     "name": "stdout",
     "output_type": "stream",
     "text": [
      "('Epoca 88.', 'lr:', 1.8452038e-06)\n"
     ]
    },
    {
     "name": "stderr",
     "output_type": "stream",
     "text": [
      " 21%|██▏       | 189/884 [00:07<00:28, 24.46it/s]\n",
      "  0%|          | 0/77 [00:00<?, ?it/s]\u001b[A"
     ]
    },
    {
     "name": "stdout",
     "output_type": "stream",
     "text": [
      "\tsaving model 77100...\n",
      "\tdone\n",
      "Evaluating\n"
     ]
    },
    {
     "name": "stderr",
     "output_type": "stream",
     "text": [
      "\n",
      " 10%|#         | 8/77 [00:00<00:00, 77.01it/s]\u001b[A\n",
      " 22%|##2       | 17/77 [00:00<00:00, 79.01it/s]\u001b[A\n",
      " 34%|###3      | 26/77 [00:00<00:00, 81.08it/s]\u001b[A\n",
      " 45%|####5     | 35/77 [00:00<00:00, 82.63it/s]\u001b[A\n",
      " 57%|#####7    | 44/77 [00:00<00:00, 83.21it/s]\u001b[A\n",
      " 69%|######8   | 53/77 [00:00<00:00, 82.97it/s]\u001b[A\n",
      " 79%|#######9  | 61/77 [00:00<00:00, 81.37it/s]\u001b[A\n",
      " 91%|######### | 70/77 [00:00<00:00, 81.80it/s]\u001b[A\n",
      " 22%|██▏       | 195/884 [00:08<01:23,  8.23it/s]A"
     ]
    },
    {
     "name": "stdout",
     "output_type": "stream",
     "text": [
      "{'ade': 0.45559058, 'fde': 0.99733096}\n",
      "\t last loss:0.000230059, eval on validation:['ade: 0.45559058', 'fde: 0.99733096'], (best ade:0.4523981 at step 43800) \n"
     ]
    },
    {
     "name": "stderr",
     "output_type": "stream",
     "text": [
      " 56%|█████▌    | 491/884 [00:21<00:18, 20.70it/s]"
     ]
    },
    {
     "name": "stdout",
     "output_type": "stream",
     "text": [
      "\tsaving model 77400...\n"
     ]
    },
    {
     "name": "stderr",
     "output_type": "stream",
     "text": [
      "\n",
      "  0%|          | 0/77 [00:00<?, ?it/s]\u001b[A\n",
      "  9%|9         | 7/77 [00:00<00:01, 64.94it/s]\u001b[A"
     ]
    },
    {
     "name": "stdout",
     "output_type": "stream",
     "text": [
      "\tdone\n",
      "Evaluating\n"
     ]
    },
    {
     "name": "stderr",
     "output_type": "stream",
     "text": [
      "\n",
      " 17%|#6        | 13/77 [00:00<00:01, 62.87it/s]\u001b[A\n",
      " 25%|##4       | 19/77 [00:00<00:00, 59.79it/s]\u001b[A\n",
      " 32%|###2      | 25/77 [00:00<00:00, 59.66it/s]\u001b[A\n",
      " 42%|####1     | 32/77 [00:00<00:00, 61.31it/s]\u001b[A\n",
      " 51%|#####     | 39/77 [00:00<00:00, 63.16it/s]\u001b[A\n",
      " 60%|#####9    | 46/77 [00:00<00:00, 64.04it/s]\u001b[A\n",
      " 69%|######8   | 53/77 [00:00<00:00, 64.28it/s]\u001b[A\n",
      " 78%|#######7  | 60/77 [00:00<00:00, 64.98it/s]\u001b[A\n",
      " 87%|########7 | 67/77 [00:01<00:00, 64.29it/s]\u001b[A\n",
      " 97%|#########7| 75/77 [00:01<00:00, 66.98it/s]\u001b[A\n",
      " 56%|█████▌    | 494/884 [00:22<01:14,  5.21it/s]A"
     ]
    },
    {
     "name": "stdout",
     "output_type": "stream",
     "text": [
      "{'ade': 0.45503637, 'fde': 0.9955258}\n",
      "\t last loss:0.000239934, eval on validation:['ade: 0.45503637', 'fde: 0.9955258'], (best ade:0.4523981 at step 43800) \n"
     ]
    },
    {
     "name": "stderr",
     "output_type": "stream",
     "text": [
      " 89%|████████▉ | 791/884 [00:35<00:03, 24.92it/s]\n",
      "  0%|          | 0/77 [00:00<?, ?it/s]\u001b[A"
     ]
    },
    {
     "name": "stdout",
     "output_type": "stream",
     "text": [
      "\tsaving model 77700...\n",
      "\tdone\n",
      "Evaluating\n"
     ]
    },
    {
     "name": "stderr",
     "output_type": "stream",
     "text": [
      "\n",
      " 12%|#1        | 9/77 [00:00<00:00, 79.19it/s]\u001b[A\n",
      " 22%|##2       | 17/77 [00:00<00:00, 77.25it/s]\u001b[A\n",
      " 34%|###3      | 26/77 [00:00<00:00, 78.40it/s]\u001b[A\n",
      " 45%|####5     | 35/77 [00:00<00:00, 80.10it/s]\u001b[A\n",
      " 57%|#####7    | 44/77 [00:00<00:00, 81.09it/s]\u001b[A\n",
      " 68%|######7   | 52/77 [00:00<00:00, 79.45it/s]\u001b[A\n",
      " 79%|#######9  | 61/77 [00:00<00:00, 81.49it/s]\u001b[A\n",
      " 91%|######### | 70/77 [00:00<00:00, 81.60it/s]\u001b[A\n",
      " 90%|████████▉ | 794/884 [00:36<00:14,  6.37it/s]A"
     ]
    },
    {
     "name": "stdout",
     "output_type": "stream",
     "text": [
      "{'ade': 0.45596585, 'fde': 0.99869126}\n",
      "\t last loss:0.000314627, eval on validation:['ade: 0.45596585', 'fde: 0.99869126'], (best ade:0.4523981 at step 43800) \n"
     ]
    },
    {
     "name": "stderr",
     "output_type": "stream",
     "text": [
      "100%|██████████| 884/884 [00:40<00:00, 21.69it/s]\n",
      "  0%|          | 2/884 [00:00<00:50, 17.58it/s]"
     ]
    },
    {
     "name": "stdout",
     "output_type": "stream",
     "text": [
      "('Epoca 89.', 'lr:', 1.5684233e-06)\n"
     ]
    },
    {
     "name": "stderr",
     "output_type": "stream",
     "text": [
      " 23%|██▎       | 207/884 [00:09<00:32, 20.83it/s]"
     ]
    },
    {
     "name": "stdout",
     "output_type": "stream",
     "text": [
      "\tsaving model 78000...\n"
     ]
    },
    {
     "name": "stderr",
     "output_type": "stream",
     "text": [
      "\n",
      "  0%|          | 0/77 [00:00<?, ?it/s]\u001b[A\n",
      " 12%|#1        | 9/77 [00:00<00:00, 82.13it/s]\u001b[A"
     ]
    },
    {
     "name": "stdout",
     "output_type": "stream",
     "text": [
      "\tdone\n",
      "Evaluating\n"
     ]
    },
    {
     "name": "stderr",
     "output_type": "stream",
     "text": [
      "\n",
      " 22%|##2       | 17/77 [00:00<00:00, 80.36it/s]\u001b[A\n",
      " 32%|###2      | 25/77 [00:00<00:00, 78.45it/s]\u001b[A\n",
      " 44%|####4     | 34/77 [00:00<00:00, 80.50it/s]\u001b[A\n",
      " 55%|#####4    | 42/77 [00:00<00:00, 79.36it/s]\u001b[A\n",
      " 66%|######6   | 51/77 [00:00<00:00, 81.66it/s]\u001b[A\n",
      " 79%|#######9  | 61/77 [00:00<00:00, 84.64it/s]\u001b[A\n",
      " 92%|#########2| 71/77 [00:00<00:00, 86.47it/s]\u001b[A\n",
      " 24%|██▍       | 210/884 [00:10<01:46,  6.31it/s]A"
     ]
    },
    {
     "name": "stdout",
     "output_type": "stream",
     "text": [
      "{'ade': 0.45579302, 'fde': 0.9975021}\n",
      "\t last loss:0.000163887, eval on validation:['ade: 0.45579302', 'fde: 0.9975021'], (best ade:0.4523981 at step 43800) \n"
     ]
    },
    {
     "name": "stderr",
     "output_type": "stream",
     "text": [
      " 57%|█████▋    | 507/884 [00:22<00:15, 24.52it/s]\n",
      "  0%|          | 0/77 [00:00<?, ?it/s]\u001b[A"
     ]
    },
    {
     "name": "stdout",
     "output_type": "stream",
     "text": [
      "\tsaving model 78300...\n",
      "\tdone\n",
      "Evaluating\n"
     ]
    },
    {
     "name": "stderr",
     "output_type": "stream",
     "text": [
      "\n",
      " 12%|#1        | 9/77 [00:00<00:00, 81.95it/s]\u001b[A\n",
      " 23%|##3       | 18/77 [00:00<00:00, 82.54it/s]\u001b[A\n",
      " 35%|###5      | 27/77 [00:00<00:00, 83.08it/s]\u001b[A\n",
      " 45%|####5     | 35/77 [00:00<00:00, 80.28it/s]\u001b[A\n",
      " 57%|#####7    | 44/77 [00:00<00:00, 81.50it/s]\u001b[A\n",
      " 66%|######6   | 51/77 [00:00<00:00, 76.50it/s]\u001b[A\n",
      " 78%|#######7  | 60/77 [00:00<00:00, 78.15it/s]\u001b[A\n",
      " 90%|########9 | 69/77 [00:00<00:00, 79.57it/s]\u001b[A\n",
      " 58%|█████▊    | 510/884 [00:23<00:58,  6.45it/s]A"
     ]
    },
    {
     "name": "stdout",
     "output_type": "stream",
     "text": [
      "{'ade': 0.45624232, 'fde': 0.99918693}\n",
      "\t last loss:0.000358892, eval on validation:['ade: 0.45624232', 'fde: 0.99918693'], (best ade:0.4523981 at step 43800) \n"
     ]
    },
    {
     "name": "stderr",
     "output_type": "stream",
     "text": [
      " 91%|█████████ | 806/884 [00:36<00:03, 24.82it/s]\n",
      "  0%|          | 0/77 [00:00<?, ?it/s]\u001b[A"
     ]
    },
    {
     "name": "stdout",
     "output_type": "stream",
     "text": [
      "\tsaving model 78600...\n",
      "\tdone\n",
      "Evaluating\n"
     ]
    },
    {
     "name": "stderr",
     "output_type": "stream",
     "text": [
      "\n",
      " 10%|#         | 8/77 [00:00<00:00, 79.87it/s]\u001b[A\n",
      " 21%|##        | 16/77 [00:00<00:00, 77.65it/s]\u001b[A\n",
      " 31%|###1      | 24/77 [00:00<00:00, 77.70it/s]\u001b[A\n",
      " 43%|####2     | 33/77 [00:00<00:00, 79.08it/s]\u001b[A\n",
      " 55%|#####4    | 42/77 [00:00<00:00, 81.00it/s]\u001b[A\n",
      " 66%|######6   | 51/77 [00:00<00:00, 82.54it/s]\u001b[A\n",
      " 78%|#######7  | 60/77 [00:00<00:00, 83.12it/s]\u001b[A\n",
      " 90%|########9 | 69/77 [00:00<00:00, 83.24it/s]\u001b[A\n",
      " 92%|█████████▏| 809/884 [00:37<00:11,  6.43it/s]A"
     ]
    },
    {
     "name": "stdout",
     "output_type": "stream",
     "text": [
      "{'ade': 0.45521924, 'fde': 0.9962352}\n",
      "\t last loss:0.000203428, eval on validation:['ade: 0.45521924', 'fde: 0.9962352'], (best ade:0.4523981 at step 43800) \n"
     ]
    },
    {
     "name": "stderr",
     "output_type": "stream",
     "text": [
      "100%|██████████| 884/884 [00:40<00:00, 25.92it/s]\n",
      "  0%|          | 1/884 [00:00<01:45,  8.33it/s]"
     ]
    },
    {
     "name": "stdout",
     "output_type": "stream",
     "text": [
      "('Epoca 90.', 'lr:', 1.5684233e-06)\n"
     ]
    },
    {
     "name": "stderr",
     "output_type": "stream",
     "text": [
      " 25%|██▌       | 221/884 [00:09<00:30, 21.98it/s]\n",
      "  0%|          | 0/77 [00:00<?, ?it/s]"
     ]
    },
    {
     "name": "stdout",
     "output_type": "stream",
     "text": [
      "\tsaving model 78900...\n",
      "\tdone\n",
      "Evaluating\n"
     ]
    },
    {
     "name": "stderr",
     "output_type": "stream",
     "text": [
      "\u001b[A\n",
      " 10%|#         | 8/77 [00:00<00:00, 72.33it/s]\u001b[A\n",
      " 21%|##        | 16/77 [00:00<00:00, 72.20it/s]\u001b[A\n",
      " 31%|###1      | 24/77 [00:00<00:00, 73.39it/s]\u001b[A\n",
      " 42%|####1     | 32/77 [00:00<00:00, 74.07it/s]\u001b[A\n",
      " 51%|#####     | 39/77 [00:00<00:00, 72.62it/s]\u001b[A\n",
      " 61%|######1   | 47/77 [00:00<00:00, 74.05it/s]\u001b[A\n",
      " 71%|#######1  | 55/77 [00:00<00:00, 73.60it/s]\u001b[A\n",
      " 82%|########1 | 63/77 [00:00<00:00, 73.73it/s]\u001b[A\n",
      " 92%|#########2| 71/77 [00:00<00:00, 74.25it/s]\u001b[A\n",
      " 26%|██▌       | 227/884 [00:11<01:29,  7.38it/s]A"
     ]
    },
    {
     "name": "stdout",
     "output_type": "stream",
     "text": [
      "{'ade': 0.4558592, 'fde': 0.9979694}\n",
      "\t last loss:0.000272718, eval on validation:['ade: 0.4558592', 'fde: 0.9979694'], (best ade:0.4523981 at step 43800) \n"
     ]
    },
    {
     "name": "stderr",
     "output_type": "stream",
     "text": [
      " 59%|█████▉    | 521/884 [00:23<00:15, 23.99it/s]\n",
      "  0%|          | 0/77 [00:00<?, ?it/s]\u001b[A"
     ]
    },
    {
     "name": "stdout",
     "output_type": "stream",
     "text": [
      "\tsaving model 79200...\n",
      "\tdone\n",
      "Evaluating\n"
     ]
    },
    {
     "name": "stderr",
     "output_type": "stream",
     "text": [
      "\n",
      " 10%|#         | 8/77 [00:00<00:00, 79.69it/s]\u001b[A\n",
      " 22%|##2       | 17/77 [00:00<00:00, 81.53it/s]\u001b[A\n",
      " 34%|###3      | 26/77 [00:00<00:00, 81.22it/s]\u001b[A\n",
      " 45%|####5     | 35/77 [00:00<00:00, 81.53it/s]\u001b[A\n",
      " 56%|#####5    | 43/77 [00:00<00:00, 80.53it/s]\u001b[A\n",
      " 65%|######4   | 50/77 [00:00<00:00, 76.40it/s]\u001b[A\n",
      " 77%|#######6  | 59/77 [00:00<00:00, 78.31it/s]\u001b[A\n",
      " 88%|########8 | 68/77 [00:00<00:00, 79.57it/s]\u001b[A\n",
      " 60%|█████▉    | 527/884 [00:24<00:43,  8.28it/s]A"
     ]
    },
    {
     "name": "stdout",
     "output_type": "stream",
     "text": [
      "{'ade': 0.45535967, 'fde': 0.9963162}\n",
      "\t last loss:0.000320600, eval on validation:['ade: 0.45535967', 'fde: 0.9963162'], (best ade:0.4523981 at step 43800) \n"
     ]
    },
    {
     "name": "stderr",
     "output_type": "stream",
     "text": [
      " 93%|█████████▎| 822/884 [00:37<00:02, 26.02it/s]\n",
      "  0%|          | 0/77 [00:00<?, ?it/s]\u001b[A"
     ]
    },
    {
     "name": "stdout",
     "output_type": "stream",
     "text": [
      "\tsaving model 79500...\n",
      "\tdone\n",
      "Evaluating\n"
     ]
    },
    {
     "name": "stderr",
     "output_type": "stream",
     "text": [
      "\n",
      " 12%|#1        | 9/77 [00:00<00:00, 86.54it/s]\u001b[A\n",
      " 23%|##3       | 18/77 [00:00<00:00, 87.35it/s]\u001b[A\n",
      " 35%|###5      | 27/77 [00:00<00:00, 86.40it/s]\u001b[A\n",
      " 48%|####8     | 37/77 [00:00<00:00, 88.01it/s]\u001b[A\n",
      " 60%|#####9    | 46/77 [00:00<00:00, 88.55it/s]\u001b[A\n",
      " 73%|#######2  | 56/77 [00:00<00:00, 90.22it/s]\u001b[A\n",
      " 86%|########5 | 66/77 [00:00<00:00, 90.62it/s]\u001b[A\n",
      " 99%|#########8| 76/77 [00:00<00:00, 91.41it/s]\u001b[A\n",
      " 94%|█████████▎| 828/884 [00:39<00:06,  8.92it/s]A"
     ]
    },
    {
     "name": "stdout",
     "output_type": "stream",
     "text": [
      "{'ade': 0.4553111, 'fde': 0.99684393}\n",
      "\t last loss:0.000342108, eval on validation:['ade: 0.4553111', 'fde: 0.99684393'], (best ade:0.4523981 at step 43800) \n"
     ]
    },
    {
     "name": "stderr",
     "output_type": "stream",
     "text": [
      "100%|██████████| 884/884 [00:41<00:00, 21.43it/s]\n",
      "  0%|          | 1/884 [00:00<01:33,  9.45it/s]"
     ]
    },
    {
     "name": "stdout",
     "output_type": "stream",
     "text": [
      "('Epoca 91.', 'lr:', 1.3331598e-06)\n"
     ]
    },
    {
     "name": "stderr",
     "output_type": "stream",
     "text": [
      " 27%|██▋       | 238/884 [00:09<00:26, 24.77it/s]\n",
      "  0%|          | 0/77 [00:00<?, ?it/s]\u001b[A"
     ]
    },
    {
     "name": "stdout",
     "output_type": "stream",
     "text": [
      "\tsaving model 79800...\n",
      "\tdone\n",
      "Evaluating\n"
     ]
    },
    {
     "name": "stderr",
     "output_type": "stream",
     "text": [
      "\n",
      " 12%|#1        | 9/77 [00:00<00:00, 85.33it/s]\u001b[A\n",
      " 22%|##2       | 17/77 [00:00<00:00, 80.54it/s]\u001b[A\n",
      " 32%|###2      | 25/77 [00:00<00:00, 79.41it/s]\u001b[A\n",
      " 44%|####4     | 34/77 [00:00<00:00, 80.68it/s]\u001b[A\n",
      " 56%|#####5    | 43/77 [00:00<00:00, 81.50it/s]\u001b[A\n",
      " 68%|######7   | 52/77 [00:00<00:00, 82.12it/s]\u001b[A\n",
      " 79%|#######9  | 61/77 [00:00<00:00, 83.28it/s]\u001b[A\n",
      " 90%|########9 | 69/77 [00:00<00:00, 80.94it/s]\u001b[A\n",
      " 27%|██▋       | 241/884 [00:10<01:39,  6.45it/s]A"
     ]
    },
    {
     "name": "stdout",
     "output_type": "stream",
     "text": [
      "{'ade': 0.45540673, 'fde': 0.9970054}\n",
      "\t last loss:0.000205998, eval on validation:['ade: 0.45540673', 'fde: 0.9970054'], (best ade:0.4523981 at step 43800) \n"
     ]
    },
    {
     "name": "stderr",
     "output_type": "stream",
     "text": [
      " 61%|██████    | 538/884 [00:24<00:14, 23.78it/s]\n",
      "  0%|          | 0/77 [00:00<?, ?it/s]\u001b[A"
     ]
    },
    {
     "name": "stdout",
     "output_type": "stream",
     "text": [
      "\tsaving model 80100...\n",
      "\tdone\n",
      "Evaluating\n"
     ]
    },
    {
     "name": "stderr",
     "output_type": "stream",
     "text": [
      "\n",
      " 12%|#1        | 9/77 [00:00<00:00, 82.30it/s]\u001b[A\n",
      " 23%|##3       | 18/77 [00:00<00:00, 83.86it/s]\u001b[A\n",
      " 36%|###6      | 28/77 [00:00<00:00, 85.90it/s]\u001b[A\n",
      " 49%|####9     | 38/77 [00:00<00:00, 88.36it/s]\u001b[A\n",
      " 61%|######1   | 47/77 [00:00<00:00, 86.37it/s]\u001b[A\n",
      " 74%|#######4  | 57/77 [00:00<00:00, 88.00it/s]\u001b[A\n",
      " 86%|########5 | 66/77 [00:00<00:00, 86.87it/s]\u001b[A\n",
      " 97%|#########7| 75/77 [00:00<00:00, 85.75it/s]\u001b[A\n",
      " 62%|██████▏   | 544/884 [00:25<00:39,  8.66it/s]A"
     ]
    },
    {
     "name": "stdout",
     "output_type": "stream",
     "text": [
      "{'ade': 0.45446292, 'fde': 0.9945214}\n",
      "\t last loss:0.000246361, eval on validation:['ade: 0.45446292', 'fde: 0.9945214'], (best ade:0.4523981 at step 43800) \n"
     ]
    },
    {
     "name": "stderr",
     "output_type": "stream",
     "text": [
      " 95%|█████████▍| 839/884 [00:38<00:01, 22.88it/s]\n",
      "  0%|          | 0/77 [00:00<?, ?it/s]\u001b[A"
     ]
    },
    {
     "name": "stdout",
     "output_type": "stream",
     "text": [
      "\tsaving model 80400...\n",
      "\tdone\n",
      "Evaluating\n"
     ]
    },
    {
     "name": "stderr",
     "output_type": "stream",
     "text": [
      "\n",
      " 10%|#         | 8/77 [00:00<00:00, 75.60it/s]\u001b[A\n",
      " 21%|##        | 16/77 [00:00<00:00, 75.18it/s]\u001b[A\n",
      " 29%|##8       | 22/77 [00:00<00:00, 68.80it/s]\u001b[A\n",
      " 39%|###8      | 30/77 [00:00<00:00, 70.70it/s]\u001b[A\n",
      " 49%|####9     | 38/77 [00:00<00:00, 71.37it/s]\u001b[A\n",
      " 60%|#####9    | 46/77 [00:00<00:00, 72.69it/s]\u001b[A\n",
      " 70%|#######   | 54/77 [00:00<00:00, 73.98it/s]\u001b[A\n",
      " 81%|########  | 62/77 [00:00<00:00, 74.43it/s]\u001b[A\n",
      " 91%|######### | 70/77 [00:00<00:00, 74.18it/s]\u001b[A\n",
      " 95%|█████████▌| 842/884 [00:39<00:07,  5.88it/s]A"
     ]
    },
    {
     "name": "stdout",
     "output_type": "stream",
     "text": [
      "{'ade': 0.45504755, 'fde': 0.99565}\n",
      "\t last loss:0.000240270, eval on validation:['ade: 0.45504755', 'fde: 0.99565'], (best ade:0.4523981 at step 43800) \n"
     ]
    },
    {
     "name": "stderr",
     "output_type": "stream",
     "text": [
      "100%|██████████| 884/884 [00:41<00:00, 21.19it/s]\n",
      "  0%|          | 1/884 [00:00<01:41,  8.72it/s]"
     ]
    },
    {
     "name": "stdout",
     "output_type": "stream",
     "text": [
      "('Epoca 92.', 'lr:', 1.3331598e-06)\n"
     ]
    },
    {
     "name": "stderr",
     "output_type": "stream",
     "text": [
      " 29%|██▊       | 253/884 [00:10<00:27, 22.96it/s]\n",
      "  0%|          | 0/77 [00:00<?, ?it/s]\u001b[A"
     ]
    },
    {
     "name": "stdout",
     "output_type": "stream",
     "text": [
      "\tsaving model 80700...\n",
      "\tdone\n",
      "Evaluating\n"
     ]
    },
    {
     "name": "stderr",
     "output_type": "stream",
     "text": [
      "\n",
      " 12%|#1        | 9/77 [00:00<00:00, 88.97it/s]\u001b[A\n",
      " 25%|##4       | 19/77 [00:00<00:00, 90.24it/s]\u001b[A\n",
      " 36%|###6      | 28/77 [00:00<00:00, 89.18it/s]\u001b[A\n",
      " 48%|####8     | 37/77 [00:00<00:00, 89.14it/s]\u001b[A\n",
      " 60%|#####9    | 46/77 [00:00<00:00, 89.16it/s]\u001b[A\n",
      " 73%|#######2  | 56/77 [00:00<00:00, 89.82it/s]\u001b[A\n",
      " 83%|########3 | 64/77 [00:00<00:00, 86.06it/s]\u001b[A\n",
      " 96%|#########6| 74/77 [00:00<00:00, 87.84it/s]\u001b[A\n",
      " 29%|██▉       | 259/884 [00:11<01:11,  8.69it/s]A"
     ]
    },
    {
     "name": "stdout",
     "output_type": "stream",
     "text": [
      "{'ade': 0.4551257, 'fde': 0.9960298}\n",
      "\t last loss:0.000269728, eval on validation:['ade: 0.4551257', 'fde: 0.9960298'], (best ade:0.4523981 at step 43800) \n"
     ]
    },
    {
     "name": "stderr",
     "output_type": "stream",
     "text": [
      " 63%|██████▎   | 553/884 [00:24<00:15, 21.88it/s]\n",
      "  0%|          | 0/77 [00:00<?, ?it/s]\u001b[A"
     ]
    },
    {
     "name": "stdout",
     "output_type": "stream",
     "text": [
      "\tsaving model 81000...\n",
      "\tdone\n",
      "Evaluating\n"
     ]
    },
    {
     "name": "stderr",
     "output_type": "stream",
     "text": [
      "\n",
      " 10%|#         | 8/77 [00:00<00:00, 72.97it/s]\u001b[A\n",
      " 21%|##        | 16/77 [00:00<00:00, 74.09it/s]\u001b[A\n",
      " 31%|###1      | 24/77 [00:00<00:00, 73.56it/s]\u001b[A\n",
      " 42%|####1     | 32/77 [00:00<00:00, 73.18it/s]\u001b[A\n",
      " 52%|#####1    | 40/77 [00:00<00:00, 74.07it/s]\u001b[A\n",
      " 62%|######2   | 48/77 [00:00<00:00, 71.77it/s]\u001b[A\n",
      " 71%|#######1  | 55/77 [00:00<00:00, 70.58it/s]\u001b[A\n",
      " 82%|########1 | 63/77 [00:00<00:00, 71.17it/s]\u001b[A\n",
      " 92%|#########2| 71/77 [00:00<00:00, 72.68it/s]\u001b[A\n",
      " 63%|██████▎   | 559/884 [00:25<00:43,  7.47it/s]A"
     ]
    },
    {
     "name": "stdout",
     "output_type": "stream",
     "text": [
      "{'ade': 0.4560631, 'fde': 0.9983597}\n",
      "\t last loss:0.000271311, eval on validation:['ade: 0.4560631', 'fde: 0.9983597'], (best ade:0.4523981 at step 43800) \n"
     ]
    },
    {
     "name": "stderr",
     "output_type": "stream",
     "text": [
      " 97%|█████████▋| 855/884 [00:37<00:01, 24.82it/s]\n",
      "  0%|          | 0/77 [00:00<?, ?it/s]\u001b[A"
     ]
    },
    {
     "name": "stdout",
     "output_type": "stream",
     "text": [
      "\tsaving model 81300...\n",
      "\tdone\n",
      "Evaluating\n"
     ]
    },
    {
     "name": "stderr",
     "output_type": "stream",
     "text": [
      "\n",
      " 12%|#1        | 9/77 [00:00<00:00, 83.88it/s]\u001b[A\n",
      " 23%|##3       | 18/77 [00:00<00:00, 83.60it/s]\u001b[A\n",
      " 34%|###3      | 26/77 [00:00<00:00, 79.96it/s]\u001b[A\n",
      " 44%|####4     | 34/77 [00:00<00:00, 78.16it/s]\u001b[A\n",
      " 53%|#####3    | 41/77 [00:00<00:00, 73.57it/s]\u001b[A\n",
      " 62%|######2   | 48/77 [00:00<00:00, 71.60it/s]\u001b[A\n",
      " 71%|#######1  | 55/77 [00:00<00:00, 70.15it/s]\u001b[A\n",
      " 81%|########  | 62/77 [00:00<00:00, 69.10it/s]\u001b[A\n",
      " 90%|########9 | 69/77 [00:00<00:00, 66.34it/s]\u001b[A\n",
      " 99%|#########8| 76/77 [00:01<00:00, 66.12it/s]\u001b[A\n",
      " 97%|█████████▋| 858/884 [00:39<00:04,  5.79it/s]A"
     ]
    },
    {
     "name": "stdout",
     "output_type": "stream",
     "text": [
      "{'ade': 0.45566547, 'fde': 0.99715585}\n",
      "\t last loss:0.000251235, eval on validation:['ade: 0.45566547', 'fde: 0.99715585'], (best ade:0.4523981 at step 43800) \n"
     ]
    },
    {
     "name": "stderr",
     "output_type": "stream",
     "text": [
      "100%|██████████| 884/884 [00:40<00:00, 21.79it/s]\n",
      "  0%|          | 2/884 [00:00<00:52, 16.92it/s]"
     ]
    },
    {
     "name": "stdout",
     "output_type": "stream",
     "text": [
      "('Epoca 93.', 'lr:', 1.1331858e-06)\n"
     ]
    },
    {
     "name": "stderr",
     "output_type": "stream",
     "text": [
      " 30%|███       | 269/884 [00:11<00:23, 26.32it/s]\n",
      "  0%|          | 0/77 [00:00<?, ?it/s]\u001b[A"
     ]
    },
    {
     "name": "stdout",
     "output_type": "stream",
     "text": [
      "\tsaving model 81600...\n",
      "\tdone\n",
      "Evaluating\n"
     ]
    },
    {
     "name": "stderr",
     "output_type": "stream",
     "text": [
      "\n",
      " 12%|#1        | 9/77 [00:00<00:00, 83.19it/s]\u001b[A\n",
      " 25%|##4       | 19/77 [00:00<00:00, 85.86it/s]\u001b[A\n",
      " 38%|###7      | 29/77 [00:00<00:00, 87.96it/s]\u001b[A\n",
      " 51%|#####     | 39/77 [00:00<00:00, 89.92it/s]\u001b[A\n",
      " 64%|######3   | 49/77 [00:00<00:00, 90.22it/s]\u001b[A\n",
      " 75%|#######5  | 58/77 [00:00<00:00, 89.28it/s]\u001b[A\n",
      " 88%|########8 | 68/77 [00:00<00:00, 90.38it/s]\u001b[A\n",
      " 31%|███       | 275/884 [00:12<01:07,  9.01it/s]A"
     ]
    },
    {
     "name": "stdout",
     "output_type": "stream",
     "text": [
      "{'ade': 0.4560435, 'fde': 0.9985749}\n",
      "\t last loss:0.000386163, eval on validation:['ade: 0.4560435', 'fde: 0.9985749'], (best ade:0.4523981 at step 43800) \n"
     ]
    },
    {
     "name": "stderr",
     "output_type": "stream",
     "text": [
      " 64%|██████▍   | 569/884 [00:24<00:12, 24.67it/s]\n",
      "  0%|          | 0/77 [00:00<?, ?it/s]\u001b[A"
     ]
    },
    {
     "name": "stdout",
     "output_type": "stream",
     "text": [
      "\tsaving model 81900...\n",
      "\tdone\n",
      "Evaluating\n"
     ]
    },
    {
     "name": "stderr",
     "output_type": "stream",
     "text": [
      "\n",
      " 12%|#1        | 9/77 [00:00<00:00, 82.63it/s]\u001b[A\n",
      " 23%|##3       | 18/77 [00:00<00:00, 83.12it/s]\u001b[A\n",
      " 35%|###5      | 27/77 [00:00<00:00, 83.20it/s]\u001b[A\n",
      " 47%|####6     | 36/77 [00:00<00:00, 84.03it/s]\u001b[A\n",
      " 57%|#####7    | 44/77 [00:00<00:00, 81.96it/s]\u001b[A\n",
      " 69%|######8   | 53/77 [00:00<00:00, 82.94it/s]\u001b[A\n",
      " 81%|########  | 62/77 [00:00<00:00, 83.19it/s]\u001b[A\n",
      " 92%|#########2| 71/77 [00:00<00:00, 82.55it/s]\u001b[A\n",
      " 65%|██████▌   | 575/884 [00:26<00:38,  8.09it/s]A"
     ]
    },
    {
     "name": "stdout",
     "output_type": "stream",
     "text": [
      "{'ade': 0.45519653, 'fde': 0.99627274}\n",
      "\t last loss:0.000387145, eval on validation:['ade: 0.45519653', 'fde: 0.99627274'], (best ade:0.4523981 at step 43800) \n"
     ]
    },
    {
     "name": "stderr",
     "output_type": "stream",
     "text": [
      " 98%|█████████▊| 869/884 [00:38<00:00, 25.68it/s]\n",
      "  0%|          | 0/77 [00:00<?, ?it/s]\u001b[A"
     ]
    },
    {
     "name": "stdout",
     "output_type": "stream",
     "text": [
      "\tsaving model 82200...\n",
      "\tdone\n",
      "Evaluating\n"
     ]
    },
    {
     "name": "stderr",
     "output_type": "stream",
     "text": [
      "\n",
      " 12%|#1        | 9/77 [00:00<00:00, 88.66it/s]\u001b[A\n",
      " 23%|##3       | 18/77 [00:00<00:00, 87.22it/s]\u001b[A\n",
      " 35%|###5      | 27/77 [00:00<00:00, 87.91it/s]\u001b[A\n",
      " 48%|####8     | 37/77 [00:00<00:00, 88.87it/s]\u001b[A\n",
      " 61%|######1   | 47/77 [00:00<00:00, 90.42it/s]\u001b[A\n",
      " 71%|#######1  | 55/77 [00:00<00:00, 86.18it/s]\u001b[A\n",
      " 83%|########3 | 64/77 [00:00<00:00, 86.61it/s]\u001b[A\n",
      " 96%|#########6| 74/77 [00:00<00:00, 88.25it/s]\u001b[A\n",
      " 99%|█████████▉| 875/884 [00:40<00:01,  8.92it/s]A"
     ]
    },
    {
     "name": "stdout",
     "output_type": "stream",
     "text": [
      "{'ade': 0.45525485, 'fde': 0.99631786}\n",
      "\t last loss:0.000413242, eval on validation:['ade: 0.45525485', 'fde: 0.99631786'], (best ade:0.4523981 at step 43800) \n"
     ]
    },
    {
     "name": "stderr",
     "output_type": "stream",
     "text": [
      "100%|██████████| 884/884 [00:40<00:00, 15.64it/s]\n",
      "  0%|          | 3/884 [00:00<00:35, 25.14it/s]"
     ]
    },
    {
     "name": "stdout",
     "output_type": "stream",
     "text": [
      "('Epoca 94.', 'lr:', 1.1331858e-06)\n"
     ]
    },
    {
     "name": "stderr",
     "output_type": "stream",
     "text": [
      " 32%|███▏      | 285/884 [00:11<00:25, 23.89it/s]\n",
      "  0%|          | 0/77 [00:00<?, ?it/s]\u001b[A"
     ]
    },
    {
     "name": "stdout",
     "output_type": "stream",
     "text": [
      "\tsaving model 82500...\n",
      "\tdone\n",
      "Evaluating\n"
     ]
    },
    {
     "name": "stderr",
     "output_type": "stream",
     "text": [
      "\n",
      " 12%|#1        | 9/77 [00:00<00:00, 82.89it/s]\u001b[A\n",
      " 22%|##2       | 17/77 [00:00<00:00, 81.77it/s]\u001b[A\n",
      " 34%|###3      | 26/77 [00:00<00:00, 82.37it/s]\u001b[A\n",
      " 45%|####5     | 35/77 [00:00<00:00, 83.16it/s]\u001b[A\n",
      " 57%|#####7    | 44/77 [00:00<00:00, 82.70it/s]\u001b[A\n",
      " 68%|######7   | 52/77 [00:00<00:00, 80.02it/s]\u001b[A\n",
      " 79%|#######9  | 61/77 [00:00<00:00, 80.81it/s]\u001b[A\n",
      " 91%|######### | 70/77 [00:00<00:00, 81.98it/s]\u001b[A\n",
      " 33%|███▎      | 291/884 [00:12<01:11,  8.33it/s]A"
     ]
    },
    {
     "name": "stdout",
     "output_type": "stream",
     "text": [
      "{'ade': 0.4555227, 'fde': 0.99709505}\n",
      "\t last loss:0.000242993, eval on validation:['ade: 0.4555227', 'fde: 0.99709505'], (best ade:0.4523981 at step 43800) \n"
     ]
    },
    {
     "name": "stderr",
     "output_type": "stream",
     "text": [
      " 66%|██████▌   | 585/884 [00:25<00:11, 25.31it/s]\n",
      "  0%|          | 0/77 [00:00<?, ?it/s]\u001b[A"
     ]
    },
    {
     "name": "stdout",
     "output_type": "stream",
     "text": [
      "\tsaving model 82800...\n",
      "\tdone\n",
      "Evaluating\n"
     ]
    },
    {
     "name": "stderr",
     "output_type": "stream",
     "text": [
      "\n",
      " 12%|#1        | 9/77 [00:00<00:00, 89.20it/s]\u001b[A\n",
      " 23%|##3       | 18/77 [00:00<00:00, 89.30it/s]\u001b[A\n",
      " 31%|###1      | 24/77 [00:00<00:00, 77.48it/s]\u001b[A\n",
      " 42%|####1     | 32/77 [00:00<00:00, 75.35it/s]\u001b[A\n",
      " 52%|#####1    | 40/77 [00:00<00:00, 74.74it/s]\u001b[A\n",
      " 62%|######2   | 48/77 [00:00<00:00, 75.80it/s]\u001b[A\n",
      " 73%|#######2  | 56/77 [00:00<00:00, 76.64it/s]\u001b[A\n",
      " 83%|########3 | 64/77 [00:00<00:00, 74.72it/s]\u001b[A\n",
      " 94%|#########3| 72/77 [00:00<00:00, 75.61it/s]\u001b[A\n",
      " 67%|██████▋   | 591/884 [00:27<00:36,  7.96it/s]A"
     ]
    },
    {
     "name": "stdout",
     "output_type": "stream",
     "text": [
      "{'ade': 0.4550084, 'fde': 0.99586946}\n",
      "\t last loss:0.000296659, eval on validation:['ade: 0.4550084', 'fde: 0.99586946'], (best ade:0.4523981 at step 43800) \n"
     ]
    },
    {
     "name": "stderr",
     "output_type": "stream",
     "text": [
      "100%|██████████| 884/884 [00:39<00:00, 23.74it/s]\n",
      "  0%|          | 1/884 [00:00<01:46,  8.27it/s]"
     ]
    },
    {
     "name": "stdout",
     "output_type": "stream",
     "text": [
      "('Epoca 95.', 'lr:', 9.63208e-07)\n"
     ]
    },
    {
     "name": "stderr",
     "output_type": "stream",
     "text": [
      "\n",
      "  0%|          | 0/77 [00:00<?, ?it/s]\u001b[A"
     ]
    },
    {
     "name": "stdout",
     "output_type": "stream",
     "text": [
      "\tsaving model 83100...\n",
      "\tdone\n",
      "Evaluating\n"
     ]
    },
    {
     "name": "stderr",
     "output_type": "stream",
     "text": [
      "\n",
      " 12%|#1        | 9/77 [00:00<00:00, 85.59it/s]\u001b[A\n",
      " 23%|##3       | 18/77 [00:00<00:00, 85.04it/s]\u001b[A\n",
      " 35%|###5      | 27/77 [00:00<00:00, 85.58it/s]\u001b[A\n",
      " 45%|####5     | 35/77 [00:00<00:00, 82.10it/s]\u001b[A\n",
      " 56%|#####5    | 43/77 [00:00<00:00, 79.21it/s]\u001b[A\n",
      " 68%|######7   | 52/77 [00:00<00:00, 80.37it/s]\u001b[A\n",
      " 78%|#######7  | 60/77 [00:00<00:00, 79.88it/s]\u001b[A\n",
      " 90%|########9 | 69/77 [00:00<00:00, 80.82it/s]\u001b[A\n",
      "  1%|          | 7/884 [00:01<02:21,  6.22it/s]\u001b[A"
     ]
    },
    {
     "name": "stdout",
     "output_type": "stream",
     "text": [
      "{'ade': 0.45498976, 'fde': 0.99551255}\n",
      "\t last loss:0.000217514, eval on validation:['ade: 0.45498976', 'fde: 0.99551255'], (best ade:0.4523981 at step 43800) \n"
     ]
    },
    {
     "name": "stderr",
     "output_type": "stream",
     "text": [
      " 34%|███▍      | 302/884 [00:14<00:22, 26.25it/s]\n",
      "  0%|          | 0/77 [00:00<?, ?it/s]\u001b[A"
     ]
    },
    {
     "name": "stdout",
     "output_type": "stream",
     "text": [
      "\tsaving model 83400...\n",
      "\tdone\n",
      "Evaluating\n"
     ]
    },
    {
     "name": "stderr",
     "output_type": "stream",
     "text": [
      "\n",
      " 12%|#1        | 9/77 [00:00<00:00, 87.69it/s]\u001b[A\n",
      " 25%|##4       | 19/77 [00:00<00:00, 89.37it/s]\u001b[A\n",
      " 38%|###7      | 29/77 [00:00<00:00, 90.25it/s]\u001b[A\n",
      " 51%|#####     | 39/77 [00:00<00:00, 90.98it/s]\u001b[A\n",
      " 62%|######2   | 48/77 [00:00<00:00, 88.95it/s]\u001b[A\n",
      " 75%|#######5  | 58/77 [00:00<00:00, 90.14it/s]\u001b[A\n",
      " 88%|########8 | 68/77 [00:00<00:00, 90.43it/s]\u001b[A\n",
      " 35%|███▍      | 305/884 [00:15<01:21,  7.08it/s]A"
     ]
    },
    {
     "name": "stdout",
     "output_type": "stream",
     "text": [
      "{'ade': 0.45480886, 'fde': 0.99545807}\n",
      "\t last loss:0.000203267, eval on validation:['ade: 0.45480886', 'fde: 0.99545807'], (best ade:0.4523981 at step 43800) \n"
     ]
    },
    {
     "name": "stderr",
     "output_type": "stream",
     "text": [
      " 68%|██████▊   | 601/884 [00:28<00:12, 22.92it/s]\n",
      "  0%|          | 0/77 [00:00<?, ?it/s]"
     ]
    },
    {
     "name": "stdout",
     "output_type": "stream",
     "text": [
      "\tsaving model 83700...\n",
      "\tdone\n",
      "Evaluating\n"
     ]
    },
    {
     "name": "stderr",
     "output_type": "stream",
     "text": [
      "\u001b[A\n",
      " 10%|#         | 8/77 [00:00<00:00, 73.10it/s]\u001b[A\n",
      " 21%|##        | 16/77 [00:00<00:00, 74.05it/s]\u001b[A\n",
      " 31%|###1      | 24/77 [00:00<00:00, 74.87it/s]\u001b[A\n",
      " 42%|####1     | 32/77 [00:00<00:00, 74.24it/s]\u001b[A\n",
      " 52%|#####1    | 40/77 [00:00<00:00, 74.41it/s]\u001b[A\n",
      " 62%|######2   | 48/77 [00:00<00:00, 75.09it/s]\u001b[A\n",
      " 73%|#######2  | 56/77 [00:00<00:00, 75.57it/s]\u001b[A\n",
      " 83%|########3 | 64/77 [00:00<00:00, 74.23it/s]\u001b[A\n",
      " 94%|#########3| 72/77 [00:00<00:00, 72.44it/s]\u001b[A\n",
      " 69%|██████▊   | 607/884 [00:30<00:36,  7.63it/s]A"
     ]
    },
    {
     "name": "stdout",
     "output_type": "stream",
     "text": [
      "{'ade': 0.45607564, 'fde': 0.9982932}\n",
      "\t last loss:0.000264148, eval on validation:['ade: 0.45607564', 'fde: 0.9982932'], (best ade:0.4523981 at step 43800) \n"
     ]
    },
    {
     "name": "stderr",
     "output_type": "stream",
     "text": [
      "100%|██████████| 884/884 [00:41<00:00, 21.40it/s]\n",
      "  0%|          | 2/884 [00:00<00:55, 16.01it/s]"
     ]
    },
    {
     "name": "stdout",
     "output_type": "stream",
     "text": [
      "('Epoca 96.', 'lr:', 9.63208e-07)\n"
     ]
    },
    {
     "name": "stderr",
     "output_type": "stream",
     "text": [
      "  2%|▏         | 17/884 [00:00<00:39, 22.13it/s]\n",
      "  0%|          | 0/77 [00:00<?, ?it/s]\u001b[A"
     ]
    },
    {
     "name": "stdout",
     "output_type": "stream",
     "text": [
      "\tsaving model 84000...\n",
      "\tdone\n",
      "Evaluating\n"
     ]
    },
    {
     "name": "stderr",
     "output_type": "stream",
     "text": [
      "\n",
      " 12%|#1        | 9/77 [00:00<00:00, 83.27it/s]\u001b[A\n",
      " 25%|##4       | 19/77 [00:00<00:00, 85.92it/s]\u001b[A\n",
      " 38%|###7      | 29/77 [00:00<00:00, 87.65it/s]\u001b[A\n",
      " 51%|#####     | 39/77 [00:00<00:00, 89.33it/s]\u001b[A\n",
      " 62%|######2   | 48/77 [00:00<00:00, 87.52it/s]\u001b[A\n",
      " 74%|#######4  | 57/77 [00:00<00:00, 85.98it/s]\u001b[A\n",
      " 86%|########5 | 66/77 [00:00<00:00, 86.54it/s]\u001b[A\n",
      " 99%|#########8| 76/77 [00:00<00:00, 88.20it/s]\u001b[A\n",
      "  3%|▎         | 23/884 [00:02<01:39,  8.66it/s][A"
     ]
    },
    {
     "name": "stdout",
     "output_type": "stream",
     "text": [
      "{'ade': 0.45535058, 'fde': 0.9969053}\n",
      "\t last loss:0.000315093, eval on validation:['ade: 0.45535058', 'fde: 0.9969053'], (best ade:0.4523981 at step 43800) \n"
     ]
    },
    {
     "name": "stderr",
     "output_type": "stream",
     "text": [
      " 36%|███▌      | 317/884 [00:14<00:25, 22.27it/s]\n",
      "  0%|          | 0/77 [00:00<?, ?it/s]\u001b[A"
     ]
    },
    {
     "name": "stdout",
     "output_type": "stream",
     "text": [
      "\tsaving model 84300...\n",
      "\tdone\n",
      "Evaluating\n"
     ]
    },
    {
     "name": "stderr",
     "output_type": "stream",
     "text": [
      "\n",
      "  9%|9         | 7/77 [00:00<00:01, 65.84it/s]\u001b[A\n",
      " 19%|#9        | 15/77 [00:00<00:00, 68.79it/s]\u001b[A\n",
      " 30%|##9       | 23/77 [00:00<00:00, 70.33it/s]\u001b[A\n",
      " 40%|####      | 31/77 [00:00<00:00, 71.91it/s]\u001b[A\n",
      " 51%|#####     | 39/77 [00:00<00:00, 72.05it/s]\u001b[A\n",
      " 60%|#####9    | 46/77 [00:00<00:00, 70.18it/s]\u001b[A\n",
      " 70%|#######   | 54/77 [00:00<00:00, 71.32it/s]\u001b[A\n",
      " 81%|########  | 62/77 [00:00<00:00, 73.27it/s]\u001b[A\n",
      " 91%|######### | 70/77 [00:00<00:00, 74.39it/s]\u001b[A\n",
      " 37%|███▋      | 323/884 [00:16<01:14,  7.56it/s]A"
     ]
    },
    {
     "name": "stdout",
     "output_type": "stream",
     "text": [
      "{'ade': 0.4552927, 'fde': 0.99663204}\n",
      "\t last loss:0.000254221, eval on validation:['ade: 0.4552927', 'fde: 0.99663204'], (best ade:0.4523981 at step 43800) \n"
     ]
    },
    {
     "name": "stderr",
     "output_type": "stream",
     "text": [
      " 70%|██████▉   | 617/884 [00:28<00:10, 24.33it/s]\n",
      "  0%|          | 0/77 [00:00<?, ?it/s]\u001b[A"
     ]
    },
    {
     "name": "stdout",
     "output_type": "stream",
     "text": [
      "\tsaving model 84600...\n",
      "\tdone\n",
      "Evaluating\n"
     ]
    },
    {
     "name": "stderr",
     "output_type": "stream",
     "text": [
      "\n",
      " 10%|#         | 8/77 [00:00<00:00, 79.04it/s]\u001b[A\n",
      " 21%|##        | 16/77 [00:00<00:00, 76.42it/s]\u001b[A\n",
      " 31%|###1      | 24/77 [00:00<00:00, 77.33it/s]\u001b[A\n",
      " 43%|####2     | 33/77 [00:00<00:00, 78.78it/s]\u001b[A\n",
      " 55%|#####4    | 42/77 [00:00<00:00, 81.33it/s]\u001b[A\n",
      " 66%|######6   | 51/77 [00:00<00:00, 82.93it/s]\u001b[A\n",
      " 78%|#######7  | 60/77 [00:00<00:00, 83.78it/s]\u001b[A\n",
      " 91%|######### | 70/77 [00:00<00:00, 86.25it/s]\u001b[A\n",
      " 70%|███████   | 623/884 [00:29<00:30,  8.47it/s]A"
     ]
    },
    {
     "name": "stdout",
     "output_type": "stream",
     "text": [
      "{'ade': 0.45584187, 'fde': 0.9978374}\n",
      "\t last loss:0.000174017, eval on validation:['ade: 0.45584187', 'fde: 0.9978374'], (best ade:0.4523981 at step 43800) \n"
     ]
    },
    {
     "name": "stderr",
     "output_type": "stream",
     "text": [
      "100%|██████████| 884/884 [00:40<00:00, 20.35it/s]\n",
      "  0%|          | 2/884 [00:00<00:50, 17.58it/s]"
     ]
    },
    {
     "name": "stdout",
     "output_type": "stream",
     "text": [
      "('Epoca 97.', 'lr:', 8.187269e-07)\n"
     ]
    },
    {
     "name": "stderr",
     "output_type": "stream",
     "text": [
      "  4%|▍         | 34/884 [00:01<00:37, 22.46it/s]\n",
      "  0%|          | 0/77 [00:00<?, ?it/s]\u001b[A"
     ]
    },
    {
     "name": "stdout",
     "output_type": "stream",
     "text": [
      "\tsaving model 84900...\n",
      "\tdone\n",
      "Evaluating\n"
     ]
    },
    {
     "name": "stderr",
     "output_type": "stream",
     "text": [
      "\n",
      " 10%|#         | 8/77 [00:00<00:00, 73.55it/s]\u001b[A\n",
      " 19%|#9        | 15/77 [00:00<00:00, 69.92it/s]\u001b[A\n",
      " 30%|##9       | 23/77 [00:00<00:00, 70.88it/s]\u001b[A\n",
      " 40%|####      | 31/77 [00:00<00:00, 72.33it/s]\u001b[A\n",
      " 51%|#####     | 39/77 [00:00<00:00, 74.11it/s]\u001b[A\n",
      " 61%|######1   | 47/77 [00:00<00:00, 74.09it/s]\u001b[A\n",
      " 71%|#######1  | 55/77 [00:00<00:00, 74.18it/s]\u001b[A\n",
      " 82%|########1 | 63/77 [00:00<00:00, 74.94it/s]\u001b[A\n",
      " 92%|#########2| 71/77 [00:00<00:00, 74.45it/s]\u001b[A\n",
      "  4%|▍         | 37/884 [00:02<02:24,  5.86it/s][A"
     ]
    },
    {
     "name": "stdout",
     "output_type": "stream",
     "text": [
      "{'ade': 0.45551085, 'fde': 0.9973549}\n",
      "\t last loss:0.000178656, eval on validation:['ade: 0.45551085', 'fde: 0.9973549'], (best ade:0.4523981 at step 43800) \n"
     ]
    },
    {
     "name": "stderr",
     "output_type": "stream",
     "text": [
      " 38%|███▊      | 334/884 [00:14<00:22, 24.22it/s]\n",
      "  0%|          | 0/77 [00:00<?, ?it/s]\u001b[A"
     ]
    },
    {
     "name": "stdout",
     "output_type": "stream",
     "text": [
      "\tsaving model 85200...\n",
      "\tdone\n",
      "Evaluating\n"
     ]
    },
    {
     "name": "stderr",
     "output_type": "stream",
     "text": [
      "\n",
      " 12%|#1        | 9/77 [00:00<00:00, 85.41it/s]\u001b[A\n",
      " 22%|##2       | 17/77 [00:00<00:00, 83.45it/s]\u001b[A\n",
      " 34%|###3      | 26/77 [00:00<00:00, 83.75it/s]\u001b[A\n",
      " 44%|####4     | 34/77 [00:00<00:00, 82.53it/s]\u001b[A\n",
      " 56%|#####5    | 43/77 [00:00<00:00, 82.73it/s]\u001b[A\n",
      " 68%|######7   | 52/77 [00:00<00:00, 83.40it/s]\u001b[A\n",
      " 79%|#######9  | 61/77 [00:00<00:00, 82.57it/s]\u001b[A\n",
      " 90%|########9 | 69/77 [00:00<00:00, 79.65it/s]\u001b[A\n",
      " 38%|███▊      | 340/884 [00:16<01:05,  8.32it/s]A"
     ]
    },
    {
     "name": "stdout",
     "output_type": "stream",
     "text": [
      "{'ade': 0.45534027, 'fde': 0.99662447}\n",
      "\t last loss:0.000163680, eval on validation:['ade: 0.45534027', 'fde: 0.99662447'], (best ade:0.4523981 at step 43800) \n"
     ]
    },
    {
     "name": "stderr",
     "output_type": "stream",
     "text": [
      " 72%|███████▏  | 633/884 [00:29<00:11, 22.02it/s]\n",
      "  0%|          | 0/77 [00:00<?, ?it/s]\u001b[A"
     ]
    },
    {
     "name": "stdout",
     "output_type": "stream",
     "text": [
      "\tsaving model 85500...\n",
      "\tdone\n",
      "Evaluating\n"
     ]
    },
    {
     "name": "stderr",
     "output_type": "stream",
     "text": [
      "\n",
      " 10%|#         | 8/77 [00:00<00:00, 72.40it/s]\u001b[A\n",
      " 19%|#9        | 15/77 [00:00<00:00, 71.61it/s]\u001b[A\n",
      " 29%|##8       | 22/77 [00:00<00:00, 69.52it/s]\u001b[A\n",
      " 39%|###8      | 30/77 [00:00<00:00, 69.71it/s]\u001b[A\n",
      " 48%|####8     | 37/77 [00:00<00:00, 68.12it/s]\u001b[A\n",
      " 58%|#####8    | 45/77 [00:00<00:00, 69.87it/s]\u001b[A\n",
      " 69%|######8   | 53/77 [00:00<00:00, 70.82it/s]\u001b[A\n",
      " 79%|#######9  | 61/77 [00:00<00:00, 72.72it/s]\u001b[A\n",
      " 90%|########9 | 69/77 [00:00<00:00, 73.10it/s]\u001b[A\n",
      " 72%|███████▏  | 639/884 [00:30<00:32,  7.43it/s]A"
     ]
    },
    {
     "name": "stdout",
     "output_type": "stream",
     "text": [
      "{'ade': 0.455502, 'fde': 0.99705213}\n",
      "\t last loss:0.000265799, eval on validation:['ade: 0.455502', 'fde: 0.99705213'], (best ade:0.4523981 at step 43800) \n"
     ]
    },
    {
     "name": "stderr",
     "output_type": "stream",
     "text": [
      "100%|██████████| 884/884 [00:40<00:00, 25.32it/s]\n",
      "  0%|          | 1/884 [00:00<01:38,  8.93it/s]"
     ]
    },
    {
     "name": "stdout",
     "output_type": "stream",
     "text": [
      "('Epoca 98.', 'lr:', 8.187269e-07)\n"
     ]
    },
    {
     "name": "stderr",
     "output_type": "stream",
     "text": [
      "  6%|▌         | 51/884 [00:02<00:35, 23.48it/s]\n",
      "  0%|          | 0/77 [00:00<?, ?it/s]\u001b[A"
     ]
    },
    {
     "name": "stdout",
     "output_type": "stream",
     "text": [
      "\tsaving model 85800...\n",
      "\tdone\n",
      "Evaluating\n"
     ]
    },
    {
     "name": "stderr",
     "output_type": "stream",
     "text": [
      "\n",
      " 10%|#         | 8/77 [00:00<00:00, 76.25it/s]\u001b[A\n",
      " 22%|##2       | 17/77 [00:00<00:00, 78.52it/s]\u001b[A\n",
      " 34%|###3      | 26/77 [00:00<00:00, 80.46it/s]\u001b[A\n",
      " 45%|####5     | 35/77 [00:00<00:00, 81.52it/s]\u001b[A\n",
      " 57%|#####7    | 44/77 [00:00<00:00, 82.21it/s]\u001b[A\n",
      " 68%|######7   | 52/77 [00:00<00:00, 80.33it/s]\u001b[A\n",
      " 79%|#######9  | 61/77 [00:00<00:00, 81.29it/s]\u001b[A\n",
      " 90%|########9 | 69/77 [00:00<00:00, 80.90it/s]\u001b[A\n",
      "  6%|▌         | 54/884 [00:03<02:10,  6.34it/s][A"
     ]
    },
    {
     "name": "stdout",
     "output_type": "stream",
     "text": [
      "{'ade': 0.45553324, 'fde': 0.99722356}\n",
      "\t last loss:0.000223820, eval on validation:['ade: 0.45553324', 'fde: 0.99722356'], (best ade:0.4523981 at step 43800) \n"
     ]
    },
    {
     "name": "stderr",
     "output_type": "stream",
     "text": [
      " 40%|███▉      | 350/884 [00:16<00:20, 25.85it/s]\n",
      "  0%|          | 0/77 [00:00<?, ?it/s]\u001b[A"
     ]
    },
    {
     "name": "stdout",
     "output_type": "stream",
     "text": [
      "\tsaving model 86100...\n",
      "\tdone\n",
      "Evaluating\n"
     ]
    },
    {
     "name": "stderr",
     "output_type": "stream",
     "text": [
      "\n",
      " 13%|#2        | 10/77 [00:00<00:00, 92.24it/s]\u001b[A\n",
      " 26%|##5       | 20/77 [00:00<00:00, 92.57it/s]\u001b[A\n",
      " 36%|###6      | 28/77 [00:00<00:00, 85.37it/s]\u001b[A\n",
      " 45%|####5     | 35/77 [00:00<00:00, 79.90it/s]\u001b[A\n",
      " 57%|#####7    | 44/77 [00:00<00:00, 82.27it/s]\u001b[A\n",
      " 70%|#######   | 54/77 [00:00<00:00, 85.49it/s]\u001b[A\n",
      " 82%|########1 | 63/77 [00:00<00:00, 84.40it/s]\u001b[A\n",
      " 95%|#########4| 73/77 [00:00<00:00, 86.82it/s]\u001b[A\n",
      " 40%|████      | 356/884 [00:17<01:00,  8.79it/s]A"
     ]
    },
    {
     "name": "stdout",
     "output_type": "stream",
     "text": [
      "{'ade': 0.45478895, 'fde': 0.99541926}\n",
      "\t last loss:0.000230066, eval on validation:['ade: 0.45478895', 'fde: 0.99541926'], (best ade:0.4523981 at step 43800) \n"
     ]
    },
    {
     "name": "stderr",
     "output_type": "stream",
     "text": [
      " 74%|███████▎  | 650/884 [00:29<00:09, 24.13it/s]\n",
      "  0%|          | 0/77 [00:00<?, ?it/s]\u001b[A"
     ]
    },
    {
     "name": "stdout",
     "output_type": "stream",
     "text": [
      "\tsaving model 86400...\n",
      "\tdone\n",
      "Evaluating\n"
     ]
    },
    {
     "name": "stderr",
     "output_type": "stream",
     "text": [
      "\n",
      " 12%|#1        | 9/77 [00:00<00:00, 85.17it/s]\u001b[A\n",
      " 23%|##3       | 18/77 [00:00<00:00, 84.72it/s]\u001b[A\n",
      " 34%|###3      | 26/77 [00:00<00:00, 82.05it/s]\u001b[A\n",
      " 44%|####4     | 34/77 [00:00<00:00, 80.53it/s]\u001b[A\n",
      " 56%|#####5    | 43/77 [00:00<00:00, 81.00it/s]\u001b[A\n",
      " 68%|######7   | 52/77 [00:00<00:00, 81.58it/s]\u001b[A\n",
      " 78%|#######7  | 60/77 [00:00<00:00, 80.22it/s]\u001b[A\n",
      " 90%|########9 | 69/77 [00:00<00:00, 81.63it/s]\u001b[A\n",
      " 74%|███████▍  | 653/884 [00:30<00:36,  6.40it/s]A"
     ]
    },
    {
     "name": "stdout",
     "output_type": "stream",
     "text": [
      "{'ade': 0.45578107, 'fde': 0.99782467}\n",
      "\t last loss:0.000345700, eval on validation:['ade: 0.45578107', 'fde: 0.99782467'], (best ade:0.4523981 at step 43800) \n"
     ]
    },
    {
     "name": "stderr",
     "output_type": "stream",
     "text": [
      "100%|██████████| 884/884 [00:41<00:00, 21.32it/s]\n",
      "  0%|          | 2/884 [00:00<00:58, 15.15it/s]"
     ]
    },
    {
     "name": "stdout",
     "output_type": "stream",
     "text": [
      "('Epoca 99.', 'lr:', 6.9591783e-07)\n"
     ]
    },
    {
     "name": "stderr",
     "output_type": "stream",
     "text": [
      "  7%|▋         | 65/884 [00:02<00:31, 26.23it/s]\n",
      "  0%|          | 0/77 [00:00<?, ?it/s]\u001b[A"
     ]
    },
    {
     "name": "stdout",
     "output_type": "stream",
     "text": [
      "\tsaving model 86700...\n",
      "\tdone\n",
      "Evaluating\n"
     ]
    },
    {
     "name": "stderr",
     "output_type": "stream",
     "text": [
      "\n",
      " 12%|#1        | 9/77 [00:00<00:00, 86.55it/s]\u001b[A\n",
      " 23%|##3       | 18/77 [00:00<00:00, 86.27it/s]\u001b[A\n",
      " 35%|###5      | 27/77 [00:00<00:00, 87.20it/s]\u001b[A\n",
      " 48%|####8     | 37/77 [00:00<00:00, 88.48it/s]\u001b[A\n",
      " 61%|######1   | 47/77 [00:00<00:00, 89.85it/s]\u001b[A\n",
      " 74%|#######4  | 57/77 [00:00<00:00, 90.60it/s]\u001b[A\n",
      " 87%|########7 | 67/77 [00:00<00:00, 90.97it/s]\u001b[A\n",
      " 99%|#########8| 76/77 [00:00<00:00, 88.01it/s]\u001b[A\n",
      "  8%|▊         | 71/884 [00:03<01:31,  8.88it/s][A"
     ]
    },
    {
     "name": "stdout",
     "output_type": "stream",
     "text": [
      "{'ade': 0.4560287, 'fde': 0.9984071}\n",
      "\t last loss:0.000331133, eval on validation:['ade: 0.4560287', 'fde: 0.9984071'], (best ade:0.4523981 at step 43800) \n"
     ]
    },
    {
     "name": "stderr",
     "output_type": "stream",
     "text": [
      " 41%|████▏     | 365/884 [00:15<00:20, 24.80it/s]\n",
      "  0%|          | 0/77 [00:00<?, ?it/s]\u001b[A"
     ]
    },
    {
     "name": "stdout",
     "output_type": "stream",
     "text": [
      "\tsaving model 87000...\n",
      "\tdone\n",
      "Evaluating\n"
     ]
    },
    {
     "name": "stderr",
     "output_type": "stream",
     "text": [
      "\n",
      " 12%|#1        | 9/77 [00:00<00:00, 81.58it/s]\u001b[A\n",
      " 22%|##2       | 17/77 [00:00<00:00, 79.96it/s]\u001b[A\n",
      " 34%|###3      | 26/77 [00:00<00:00, 81.80it/s]\u001b[A\n",
      " 45%|####5     | 35/77 [00:00<00:00, 83.12it/s]\u001b[A\n",
      " 57%|#####7    | 44/77 [00:00<00:00, 83.66it/s]\u001b[A\n",
      " 69%|######8   | 53/77 [00:00<00:00, 83.63it/s]\u001b[A\n",
      " 81%|########  | 62/77 [00:00<00:00, 83.95it/s]\u001b[A\n",
      " 91%|######### | 70/77 [00:00<00:00, 78.93it/s]\u001b[A\n",
      " 42%|████▏     | 371/884 [00:17<01:02,  8.23it/s]A"
     ]
    },
    {
     "name": "stdout",
     "output_type": "stream",
     "text": [
      "{'ade': 0.4562145, 'fde': 0.99867487}\n",
      "\t last loss:0.000328489, eval on validation:['ade: 0.4562145', 'fde: 0.99867487'], (best ade:0.4523981 at step 43800) \n"
     ]
    },
    {
     "name": "stderr",
     "output_type": "stream",
     "text": [
      " 75%|███████▌  | 665/884 [00:30<00:09, 24.00it/s]\n",
      "  0%|          | 0/77 [00:00<?, ?it/s]\u001b[A"
     ]
    },
    {
     "name": "stdout",
     "output_type": "stream",
     "text": [
      "\tsaving model 87300...\n",
      "\tdone\n",
      "Evaluating\n"
     ]
    },
    {
     "name": "stderr",
     "output_type": "stream",
     "text": [
      "\n",
      " 13%|#2        | 10/77 [00:00<00:00, 91.80it/s]\u001b[A\n",
      " 26%|##5       | 20/77 [00:00<00:00, 92.56it/s]\u001b[A\n",
      " 39%|###8      | 30/77 [00:00<00:00, 92.35it/s]\u001b[A\n",
      " 49%|####9     | 38/77 [00:00<00:00, 87.39it/s]\u001b[A\n",
      " 61%|######1   | 47/77 [00:00<00:00, 86.31it/s]\u001b[A\n",
      " 74%|#######4  | 57/77 [00:00<00:00, 88.15it/s]\u001b[A\n",
      " 86%|########5 | 66/77 [00:00<00:00, 86.53it/s]\u001b[A\n",
      " 99%|#########8| 76/77 [00:00<00:00, 88.71it/s]\u001b[A\n",
      " 76%|███████▌  | 671/884 [00:31<00:24,  8.85it/s]A"
     ]
    },
    {
     "name": "stdout",
     "output_type": "stream",
     "text": [
      "{'ade': 0.45583066, 'fde': 0.9976613}\n",
      "\t last loss:0.000186392, eval on validation:['ade: 0.45583066', 'fde: 0.9976613'], (best ade:0.4523981 at step 43800) \n"
     ]
    },
    {
     "name": "stderr",
     "output_type": "stream",
     "text": [
      "100%|██████████| 884/884 [00:39<00:00, 25.69it/s]\n",
      "  0%|          | 2/884 [00:00<00:54, 16.15it/s]"
     ]
    },
    {
     "name": "stdout",
     "output_type": "stream",
     "text": [
      "('Epoca 100.', 'lr:', 6.9591783e-07)\n"
     ]
    },
    {
     "name": "stderr",
     "output_type": "stream",
     "text": [
      "  9%|▉         | 83/884 [00:03<00:32, 24.38it/s]\n",
      "  0%|          | 0/77 [00:00<?, ?it/s]\u001b[A"
     ]
    },
    {
     "name": "stdout",
     "output_type": "stream",
     "text": [
      "\tsaving model 87600...\n",
      "\tdone\n",
      "Evaluating\n"
     ]
    },
    {
     "name": "stderr",
     "output_type": "stream",
     "text": [
      "\n",
      " 10%|#         | 8/77 [00:00<00:00, 78.35it/s]\u001b[A\n",
      " 22%|##2       | 17/77 [00:00<00:00, 80.49it/s]\u001b[A\n",
      " 32%|###2      | 25/77 [00:00<00:00, 78.79it/s]\u001b[A\n",
      " 44%|####4     | 34/77 [00:00<00:00, 79.60it/s]\u001b[A\n",
      " 56%|#####5    | 43/77 [00:00<00:00, 80.74it/s]\u001b[A\n",
      " 66%|######6   | 51/77 [00:00<00:00, 80.01it/s]\u001b[A\n",
      " 78%|#######7  | 60/77 [00:00<00:00, 81.26it/s]\u001b[A\n",
      " 90%|########9 | 69/77 [00:00<00:00, 82.32it/s]\u001b[A\n",
      " 10%|▉         | 86/884 [00:04<02:03,  6.48it/s][A"
     ]
    },
    {
     "name": "stdout",
     "output_type": "stream",
     "text": [
      "{'ade': 0.45552853, 'fde': 0.9969117}\n",
      "\t last loss:0.000251479, eval on validation:['ade: 0.45552853', 'fde: 0.9969117'], (best ade:0.4523981 at step 43800) \n"
     ]
    },
    {
     "name": "stderr",
     "output_type": "stream",
     "text": [
      " 43%|████▎     | 383/884 [00:17<00:20, 25.05it/s]\n",
      "  0%|          | 0/77 [00:00<?, ?it/s]\u001b[A"
     ]
    },
    {
     "name": "stdout",
     "output_type": "stream",
     "text": [
      "\tsaving model 87900...\n",
      "\tdone\n",
      "Evaluating\n"
     ]
    },
    {
     "name": "stderr",
     "output_type": "stream",
     "text": [
      "\n",
      " 12%|#1        | 9/77 [00:00<00:00, 84.15it/s]\u001b[A\n",
      " 22%|##2       | 17/77 [00:00<00:00, 82.63it/s]\u001b[A\n",
      " 34%|###3      | 26/77 [00:00<00:00, 82.38it/s]\u001b[A\n",
      " 45%|####5     | 35/77 [00:00<00:00, 83.77it/s]\u001b[A\n",
      " 58%|#####8    | 45/77 [00:00<00:00, 86.31it/s]\u001b[A\n",
      " 71%|#######1  | 55/77 [00:00<00:00, 88.76it/s]\u001b[A\n",
      " 84%|########4 | 65/77 [00:00<00:00, 90.14it/s]\u001b[A\n",
      " 97%|#########7| 75/77 [00:00<00:00, 91.01it/s]\u001b[A\n",
      " 44%|████▎     | 386/884 [00:18<01:15,  6.58it/s]A"
     ]
    },
    {
     "name": "stdout",
     "output_type": "stream",
     "text": [
      "{'ade': 0.45585796, 'fde': 0.997934}\n",
      "\t last loss:0.000164353, eval on validation:['ade: 0.45585796', 'fde: 0.997934'], (best ade:0.4523981 at step 43800) \n"
     ]
    },
    {
     "name": "stderr",
     "output_type": "stream",
     "text": [
      " 77%|███████▋  | 681/884 [00:32<00:09, 22.50it/s]\n",
      "  0%|          | 0/77 [00:00<?, ?it/s]\u001b[A"
     ]
    },
    {
     "name": "stdout",
     "output_type": "stream",
     "text": [
      "\tsaving model 88200...\n",
      "\tdone\n",
      "Evaluating\n"
     ]
    },
    {
     "name": "stderr",
     "output_type": "stream",
     "text": [
      "\n",
      " 10%|#         | 8/77 [00:00<00:00, 72.33it/s]\u001b[A\n",
      " 19%|#9        | 15/77 [00:00<00:00, 71.61it/s]\u001b[A\n",
      " 30%|##9       | 23/77 [00:00<00:00, 72.59it/s]\u001b[A\n",
      " 40%|####      | 31/77 [00:00<00:00, 73.71it/s]\u001b[A\n",
      " 49%|####9     | 38/77 [00:00<00:00, 70.36it/s]\u001b[A\n",
      " 60%|#####9    | 46/77 [00:00<00:00, 71.39it/s]\u001b[A\n",
      " 70%|#######   | 54/77 [00:00<00:00, 71.66it/s]\u001b[A\n",
      " 79%|#######9  | 61/77 [00:00<00:00, 70.25it/s]\u001b[A\n",
      " 90%|########9 | 69/77 [00:00<00:00, 72.24it/s]\u001b[A\n",
      " 78%|███████▊  | 687/884 [00:33<00:26,  7.47it/s]A"
     ]
    },
    {
     "name": "stdout",
     "output_type": "stream",
     "text": [
      "{'ade': 0.4551939, 'fde': 0.99609375}\n",
      "\t last loss:0.000222037, eval on validation:['ade: 0.4551939', 'fde: 0.99609375'], (best ade:0.4523981 at step 43800) \n"
     ]
    },
    {
     "name": "stderr",
     "output_type": "stream",
     "text": [
      "100%|██████████| 884/884 [00:41<00:00, 26.47it/s]\n"
     ]
    },
    {
     "name": "stdout",
     "output_type": "stream",
     "text": [
      "best eval on val ade: 0.4523981 at 43800 step y fde es 0.98788613 \n"
     ]
    }
   ],
   "source": [
    "import os \n",
    "from tqdm import tqdm\n",
    "import tensorflow as tf\n",
    "import math\n",
    "\n",
    "tf.reset_default_graph()\n",
    "\n",
    "arguments = parameters1(add_kp = False, add_social = True, train_num_examples=len(data1['obs_traj']))\n",
    "model = model.Model(arguments)\n",
    "\n",
    "train_data = batches_data.Dataset(data1,arguments)\n",
    "val_data = batches_data.Dataset(data3,arguments)\n",
    "\n",
    "saver = tf.train.Saver(max_to_keep = 2)\n",
    "bestsaver = tf.train.Saver(max_to_keep = 2)\n",
    "\n",
    "\n",
    "trainer = entrenamientoevaluacion.Trainer(model,arguments)\n",
    "tester = entrenamientoevaluacion.Tester(model, arguments)\n",
    "\n",
    "#inicializamos las variables globales\n",
    "init = tf.global_variables_initializer()\n",
    "sess = tf.Session()\n",
    "sess.run(init)\n",
    "\n",
    "increment_global_step_op = tf.assign(model.global_step, model.global_step+1)\n",
    "\n",
    "val_perf = []\n",
    "loss = -1\n",
    "\n",
    "metric = 'ade'\n",
    "best = {metric:999999, 'fde':0, 'step':-1}\n",
    "is_start = True\n",
    "\n",
    "num_steps = int(math.ceil(train_data.num_examples/float(arguments.batch_size)))\n",
    "loss_list = []\n",
    "loss_epochs = []\n",
    "print(num_steps)\n",
    "\n",
    "for i in range(arguments.num_epochs):\n",
    "    print('Epoca {0}.' .format(i+1), 'lr:', sess.run(trainer.get_lr()))\n",
    "    \n",
    "    #For de batches\n",
    "    for idx, batch in tqdm(train_data.get_batches(arguments.batch_size,num_steps = num_steps),total=num_steps):\n",
    "        \n",
    "        sess.run(increment_global_step_op)\n",
    "        global_step = sess.run(model.global_step)\n",
    "\n",
    "        #Evaluamos el entrenamiento\n",
    "        if((global_step%arguments.validate==0) or (arguments.load_best and is_start)):\n",
    "            #guardamos el modelo\n",
    "            tqdm.write(\"\\tsaving model %s...\" % global_step)\n",
    "            checkpoint_path_model = os.path.join('FO_ETH-UNIV_NON_12', 'model.ckpt')\n",
    "            saver.save(sess,checkpoint_path_model , global_step = global_step)\n",
    "            tqdm.write(\"\\tdone\")\n",
    "            \n",
    "            print('Evaluating')\n",
    "            results = evaluate(val_data, tester,sess,arguments)\n",
    "            print(results)\n",
    "           \n",
    "            tqdm.write((\"\\t last loss:%.9f, eval on validation:%s,\"\n",
    "                    \" (best %s:%s at step %s) \") % (loss,[\"%s: %s\" % (k, results[k]) for k in sorted(results.keys())], metric,best[metric], best[\"step\"]))\n",
    "            if results[\"ade\"]< best[metric]:\n",
    "                best[metric] = results[\"ade\"]\n",
    "                best[\"fde\"]  = results[\"fde\"]\n",
    "                best[\"step\"] = global_step\n",
    "                \n",
    "                tqdm.write(\"\\t saving best model...\")\n",
    "                checkpoint_path_model_best = os.path.join('FO_ETH-UNIV_NON-BEST_12', 'model_best.ckpt')\n",
    "                bestsaver.save(sess,checkpoint_path_model_best,global_step = global_step)\n",
    "                tqdm.write(\"\\t done.\")\n",
    "                finalperf = results\n",
    "                val_perf.append((loss, results))\n",
    "            is_start = False\n",
    "        loss, train_op = trainer.step(sess, batch)\n",
    "        loss_list.append(loss)\n",
    "    loss_epochs.append(loss)\n",
    "if((global_step % arguments.validate)!=0):\n",
    "  checkpoint_path_model = os.path.join('FO_ETH-UNIV_NON_12', 'model.ckpt')\n",
    "  saver.save(sess,checkpoint_path_model , global_step = global_step)\n",
    "\n",
    "print(\"best eval on val %s: %s at %s step y fde es %s \" % (metric, best[metric], best[\"step\"],best[\"fde\"]))\n"
   ]
  },
  {
   "cell_type": "code",
   "execution_count": 8,
   "metadata": {},
   "outputs": [
    {
     "name": "stderr",
     "output_type": "stream",
     "text": [
      "/home/andrea/anaconda2/lib/python2.7/site-packages/numpy/core/fromnumeric.py:3118: RuntimeWarning: Mean of empty slice.\n",
      "  out=out, **kwargs)\n",
      "/home/andrea/anaconda2/lib/python2.7/site-packages/numpy/core/_methods.py:85: RuntimeWarning: invalid value encountered in double_scalars\n",
      "  ret = ret.dtype.type(ret / rcount)\n"
     ]
    },
    {
     "data": {
      "image/png": "[encoded data removed]",
      "text/plain": [
       "<Figure size 432x288 with 1 Axes>"
      ]
     },
     "metadata": {
      "needs_background": "light"
     },
     "output_type": "display_data"
    }
   ],
   "source": [
    "from matplotlib import pyplot as plt\n",
    "learning =[]\n",
    "for i in range(arguments.num_epochs):\n",
    "    a = (len(loss_list)/arguments.num_epochs)*(i-1)\n",
    "    b = (len(loss_list)/arguments.num_epochs)*(i)\n",
    "    learning.append(np.mean(loss_list[a:b]))\n",
    "\n",
    "plt.plot(learning)\n",
    "plt.xlabel(\"Epochs\")\n",
    "plt.ylabel(\"Loss\")\n",
    "plt.show()\n"
   ]
  },
  {
   "cell_type": "markdown",
   "metadata": {},
   "source": [
    "# Load model"
   ]
  },
  {
   "cell_type": "code",
   "execution_count": 10,
   "metadata": {},
   "outputs": [
    {
     "name": "stderr",
     "output_type": "stream",
     "text": [
      " 41%|####1     | 7/17 [00:00<00:00, 69.08it/s]"
     ]
    },
    {
     "name": "stdout",
     "output_type": "stream",
     "text": [
      "Evaluating\n"
     ]
    },
    {
     "name": "stderr",
     "output_type": "stream",
     "text": [
      "100%|##########| 17/17 [00:00<00:00, 64.07it/s]"
     ]
    },
    {
     "name": "stdout",
     "output_type": "stream",
     "text": [
      "{'ade': 1.1071589, 'fde': 2.2788758}\n"
     ]
    },
    {
     "name": "stderr",
     "output_type": "stream",
     "text": [
      "\n"
     ]
    }
   ],
   "source": [
    "#Modelo12\n",
    "path_model = 'FO_ETH-UNIV_NON_12/model.ckpt-88400'\n",
    "saver.restore(sess=sess, save_path=path_model)\n",
    "\n",
    "\n",
    "test_data = batches_data.Dataset(data_test, arguments)\n",
    "print('Evaluating')\n",
    "results = evaluate(test_data, tester,sess,arguments)\n",
    "print(results)"
   ]
  },
  {
   "cell_type": "code",
   "execution_count": null,
   "metadata": {},
   "outputs": [],
   "source": [
    "# Mejor Modelo\n",
    "path_model = 'FO_ETH-UNIV_NON-BEST_12/model_best.ckpt-43800'\n",
    "saver.restore(sess=sess, save_path=path_model)\n",
    "\n",
    "test_data = batches_data.Dataset(data_test, arguments)\n",
    "print('Evaluating')\n",
    "results = evaluate(test_data, tester,sess,arguments)\n",
    "print(results)"
   ]
  }
 ],
 "metadata": {
  "kernelspec": {
   "display_name": "Python 2",
   "language": "python",
   "name": "python2"
  },
  "language_info": {
   "codemirror_mode": {
    "name": "ipython",
    "version": 2
   },
   "file_extension": ".py",
   "mimetype": "text/x-python",
   "name": "python",
   "nbconvert_exporter": "python",
   "pygments_lexer": "ipython2",
   "version": "2.7.16"
  }
 },
 "nbformat": 4,
 "nbformat_minor": 2
}
