{
 "cells": [
  {
   "cell_type": "code",
   "execution_count": 1,
   "metadata": {},
   "outputs": [],
   "source": [
    "import sys\n",
    "sys.path.append('/home/andrea/Documentos/OF-PathPred/evaluation_opticalflow/lib')\n",
    "import numpy as np\n",
    "#from process_file import process_file_modif\n",
    "#from process_file import process_file_modif_varios\n",
    "#from process_file import datos_subprocesados_varios\n",
    "from interseccion_process_file import process_file_modif_varios_inter\n",
    "from interseccion_process_file import process_file_modif_inter\n",
    "from interaction_optical_flow import OpticalFlowSimulator\n",
    "\n",
    "import batches_data\n",
    "import model\n",
    "\n",
    "import tensorflow as tf \n",
    "tf.reset_default_graph()\n",
    "\n",
    "import entrenamientoevaluacion\n",
    "from entrenamientoevaluacion import evaluate"
   ]
  },
  {
   "cell_type": "code",
   "execution_count": 2,
   "metadata": {},
   "outputs": [],
   "source": [
    "# parametros para preprocesar los datos\n",
    "# en marco mundo\n",
    "class parameters:\n",
    "    def __init__(self):\n",
    "        #el numero de personas maximasdel conjunto de test\n",
    "        self.person_max = 14\n",
    "        #el indice del conjunto de test\n",
    "        self.ind_test = 3\n",
    "        self.obs_len = 8\n",
    "        self.pred_len = 12\n",
    "        self.add_social = True\n",
    "        self.kp_num = 18\n",
    "        self.add_kp = False\n",
    "        #self.directory_flujo='../evaluation_opticalflow/flujos'\n",
    "arguments = parameters()"
   ]
  },
  {
   "cell_type": "code",
   "execution_count": 3,
   "metadata": {},
   "outputs": [
    {
     "name": "stdout",
     "output_type": "stream",
     "text": [
      "../data1/eth-univ/mundo/mun_pos.csv\n",
      "('The numbers of examples is: ', 339)\n",
      "../data1/eth-hotel/mundo/mun_pos.csv\n",
      "('The numbers of examples is: ', 913)\n",
      "../data1/ucy-zara01/mundo/mun_pos.csv\n",
      "('The numbers of examples is: ', 2356)\n",
      "../data1/ucy-univ/mundo/mun_pos.csv\n",
      "('The numbers of examples is: ', 10039)\n",
      "\n",
      "\n",
      "\n",
      "('[INF] Sequence length: ', 20)\n",
      "../data1/ucy-zara02/mundo/mun_pos.csv\n",
      "('El numero total de ejemplos es: ', 5910)\n"
     ]
    }
   ],
   "source": [
    "# Cargamos los argumentos\n",
    "data_dirs = ['../data1/eth-univ', '../data1/eth-hotel',\n",
    "             '../data1/ucy-zara01', '../data1/ucy-zara02',\n",
    "             '../data1/ucy-univ']\n",
    "\n",
    "#list_max_person = [42,28,22,26,68]\n",
    "list_max_person_inter = [5,8,14,14,40]\n",
    "data_train_and_val = process_file_modif_varios_inter(data_dirs, list_max_person_inter, arguments, ',')\n",
    "print(\"\\n\\n\")\n",
    "dir_test = data_dirs[arguments.ind_test]\n",
    "data_test = process_file_modif_inter(dir_test, arguments,',')\n",
    "\n",
    "fo = OpticalFlowSimulator()\n",
    "flujo_test, vis_neigh_test = fo.compute_opticalflow_batch(data_test['obs_person'], data_test['key_idx'], data_test['obs_traj'],arguments.obs_len)\n",
    "data_test.update({\n",
    "    \"obs_flujo\": flujo_test,\n",
    "})"
   ]
  },
  {
   "cell_type": "markdown",
   "metadata": {},
   "source": [
    "# We divide the data"
   ]
  },
  {
   "cell_type": "code",
   "execution_count": 4,
   "metadata": {},
   "outputs": [
    {
     "name": "stdout",
     "output_type": "stream",
     "text": [
      "data_train: 12555\n",
      "data_test: 5910\n",
      "data_val: 1092\n"
     ]
    }
   ],
   "source": [
    "#se fija la semilaa\n",
    "import random\n",
    "random.seed(0)\n",
    "\n",
    "# Muestreamos aleatoriamente para separar datos de entrenamiento, validacion y prueba\n",
    "\n",
    "\n",
    "# porcentaje para el conjunto de train\n",
    "prob      = 0.92\n",
    "# La cantidad total de listas de tam 8 del conjunto train and test\n",
    "ndata     = len(data_train_and_val[list(data_train_and_val.keys())[2]])\n",
    "idx       = random.sample(range(ndata), ndata)\n",
    "long1     = int(ndata*prob)\n",
    "long2     = int(ndata-long1)\n",
    "\n",
    "idx_train = idx[0:long1]\n",
    "idx_val   = idx[long1:]\n",
    "\n",
    "\n",
    "# conjunto de entrenamiento\n",
    "data1 = {\n",
    "     \"obs_traj\": data_train_and_val[\"obs_traj\"][idx_train],\n",
    "     \"obs_traj_rel\": data_train_and_val[\"obs_traj_rel\"][idx_train],\n",
    "    \n",
    "     \"pred_traj\": data_train_and_val[\"pred_traj\"][idx_train],\n",
    "     \"pred_traj_rel\": data_train_and_val[\"pred_traj_rel\"][idx_train],\n",
    "    \n",
    "     #\"key_idx\": data_entrena_vali[\"key_idx\"][[idx_train]],\n",
    "     \"obs_flujo\" : data_train_and_val[\"obs_flujo\"][idx_train],\n",
    "     #\"pred_kp\": data_pets[\"pred_kp\"][idx_train],\n",
    "     #\"obs_person\": data_pets[\"obs_person\"][idx_train],\n",
    "}\n",
    "\n",
    "\n",
    "# conjunto de validacion\n",
    "data3 ={\n",
    "     \"obs_traj\": data_train_and_val[\"obs_traj\"][idx_val],\n",
    "     \"obs_traj_rel\": data_train_and_val[\"obs_traj_rel\"][idx_val],\n",
    "     \"pred_traj\": data_train_and_val[\"pred_traj\"][idx_val],\n",
    "     \"pred_traj_rel\": data_train_and_val[\"pred_traj_rel\"][idx_val],\n",
    "     #\"key_idx\": data_entrena_vali[\"key_idx\"][[idx_val]],\n",
    "     \"obs_flujo\" : data_train_and_val[\"obs_flujo\"][idx_val],\n",
    "}\n",
    "\n",
    "\n",
    "#if arguments.add_kp:\n",
    "#  print(data3['obs_person_rel'])\n",
    "\n",
    "print(\"data_train: \"+ str(len(data1[list(data1.keys())[0]])))\n",
    "print(\"data_test: \"+ str(len(data_test[list(data_test.keys())[0]])))\n",
    "print(\"data_val: \"+ str(len(data3[list(data3.keys())[0]])))\n"
   ]
  },
  {
   "cell_type": "markdown",
   "metadata": {},
   "source": [
    "# We keep the division of the data"
   ]
  },
  {
   "cell_type": "code",
   "execution_count": 5,
   "metadata": {},
   "outputs": [],
   "source": [
    "import pickle\n",
    "\n",
    "#conjunto de entrenamiento\n",
    "pickle_out = open(\"data1_FO_UCY-ZARA02_12.pickle\",\"wb\")\n",
    "pickle.dump(data1, pickle_out, protocol=2)\n",
    "pickle_out.close()\n",
    "\n",
    "#conjunto de prueba\n",
    "pickle_out = open(\"data2_FO_UCY-ZARA02_12.pickle\",\"wb\")\n",
    "pickle.dump(data_test, pickle_out, protocol=2)\n",
    "pickle_out.close()\n",
    "\n",
    "#conjunto de validacion\n",
    "pickle_out = open(\"data3_FO_UCY-ZARA02_12.pickle\",\"wb\")\n",
    "pickle.dump(data3, pickle_out, protocol=2)\n",
    "pickle_out.close()"
   ]
  },
  {
   "cell_type": "markdown",
   "metadata": {},
   "source": [
    "# Model parameters"
   ]
  },
  {
   "cell_type": "code",
   "execution_count": 6,
   "metadata": {},
   "outputs": [],
   "source": [
    "class parameters1:\n",
    "    def __init__(self, add_kp = None, add_social=None, train_num_examples=None):\n",
    "        # -----------------\n",
    "        # Similar a como se procesaron los datos\n",
    "        self.obs_len = 8\n",
    "        self.pred_len = 12\n",
    "        if add_kp is None:\n",
    "            print('Parameter add kpp missing')\n",
    "            return\n",
    "        if train_num_examples is None:\n",
    "            print('El parametro train_examples fue olvidado')\n",
    "            return\n",
    "        if add_social is None:\n",
    "            print('Parameter add social missing')\n",
    "            return\n",
    "        \n",
    "        self.add_kp = add_kp\n",
    "        self.train_num_examples = train_num_examples\n",
    "        self.add_social = add_social\n",
    "        \n",
    "        self.kp_num = 18\n",
    "        self.kp_size = 18\n",
    "        \n",
    "        self.num_epochs = 100\n",
    "        self.batch_size = 20 # batch size\n",
    "        self.validate = 300\n",
    "        self.P = 2 # dimensión\n",
    "        self.enc_hidden_size = 128 # el nombre lo dice\n",
    "        self.dec_hidden_size = 128\n",
    "        self.emb_size = 64\n",
    "        self.keep_prob = 0.7 # dropout\n",
    "        \n",
    "        self.min_ped = 1\n",
    "        self.seq_len = self.obs_len + self.pred_len\n",
    "        self.reverse_xy = False\n",
    "        \n",
    "        self.activation_func = tf.nn.tanh\n",
    "        self.activation_func1 = tf.nn.relu\n",
    "        self.is_train = True\n",
    "        self.is_test = False\n",
    "        self.multi_decoder = False\n",
    "        self.modelname = 'gphuctl'\n",
    "        \n",
    "        self.init_lr = 0.002 # 0.01\n",
    "        self.learning_rate_decay = 0.85\n",
    "        self.num_epoch_per_decay = 2.0\n",
    "        self.optimizer = 'adam'\n",
    "        self.emb_lr = 1.0\n",
    "        #self.clip_gradient_norm = 10.0\n",
    "        #Para cuando entreno y quiero guardar el mejor modelo\n",
    "        self.load_best = True"
   ]
  },
  {
   "cell_type": "markdown",
   "metadata": {},
   "source": [
    "# Training model"
   ]
  },
  {
   "cell_type": "code",
   "execution_count": 7,
   "metadata": {},
   "outputs": [
    {
     "name": "stderr",
     "output_type": "stream",
     "text": [
      "WARNING: Logging before flag parsing goes to stderr.\n",
      "W0523 14:33:12.999574 140089081988864 deprecation.py:323] From /home/andrea/Documentos/OF-PathPred/evaluation_opticalflow/lib/model.py:60: __init__ (from tensorflow.python.ops.rnn_cell_impl) is deprecated and will be removed in a future version.\n",
      "Instructions for updating:\n",
      "This class is equivalent as tf.keras.layers.LSTMCell, and will be replaced by that in Tensorflow 2.0.\n",
      "W0523 14:33:13.034123 140089081988864 deprecation.py:323] From /home/andrea/Documentos/OF-PathPred/evaluation_opticalflow/lib/model.py:102: dynamic_rnn (from tensorflow.python.ops.rnn) is deprecated and will be removed in a future version.\n",
      "Instructions for updating:\n",
      "Please use `keras.layers.RNN(cell)`, which is equivalent to this API\n",
      "W0523 14:33:13.134542 140089081988864 deprecation.py:506] From /home/andrea/anaconda2/lib/python2.7/site-packages/tensorflow/python/ops/init_ops.py:1251: calling __init__ (from tensorflow.python.ops.init_ops) with dtype is deprecated and will be removed in a future version.\n",
      "Instructions for updating:\n",
      "Call initializer instance with the dtype argument instead of passing it to the constructor\n",
      "W0523 14:33:13.143935 140089081988864 deprecation.py:506] From /home/andrea/anaconda2/lib/python2.7/site-packages/tensorflow/python/ops/rnn_cell_impl.py:961: calling __init__ (from tensorflow.python.ops.init_ops) with dtype is deprecated and will be removed in a future version.\n",
      "Instructions for updating:\n",
      "Call initializer instance with the dtype argument instead of passing it to the constructor\n",
      "W0523 14:33:13.797853 140089081988864 deprecation.py:323] From /home/andrea/anaconda2/lib/python2.7/site-packages/tensorflow/python/ops/rnn.py:244: where (from tensorflow.python.ops.array_ops) is deprecated and will be removed in a future version.\n",
      "Instructions for updating:\n",
      "Use tf.where in 2.0, which has the same broadcast rule as np.where\n",
      "  0%|          | 0/628 [00:00<?, ?it/s]"
     ]
    },
    {
     "name": "stdout",
     "output_type": "stream",
     "text": [
      "628\n",
      "('Epoca 1.', 'lr:', 0.002)\n",
      "\tsaving model 1...\n"
     ]
    },
    {
     "name": "stderr",
     "output_type": "stream",
     "text": [
      "\n",
      "  0%|          | 0/55 [00:00<?, ?it/s]\u001b[A"
     ]
    },
    {
     "name": "stdout",
     "output_type": "stream",
     "text": [
      "\tdone\n",
      "Evaluating\n"
     ]
    },
    {
     "name": "stderr",
     "output_type": "stream",
     "text": [
      "\n",
      "  2%|1         | 1/55 [00:00<00:17,  3.17it/s]\u001b[A\n",
      " 16%|#6        | 9/55 [00:00<00:10,  4.45it/s]\u001b[A\n",
      " 31%|###       | 17/55 [00:00<00:06,  6.21it/s]\u001b[A\n",
      " 45%|####5     | 25/55 [00:00<00:03,  8.58it/s]\u001b[A\n",
      " 58%|#####8    | 32/55 [00:00<00:01, 11.65it/s]\u001b[A\n",
      " 73%|#######2  | 40/55 [00:00<00:00, 15.57it/s]\u001b[A\n",
      " 87%|########7 | 48/55 [00:00<00:00, 20.51it/s]\u001b[A\n",
      "100%|##########| 55/55 [00:01<00:00, 53.31it/s]\u001b[A"
     ]
    },
    {
     "name": "stdout",
     "output_type": "stream",
     "text": [
      "{'ade': 1.7908303, 'fde': 3.269341}\n",
      "\t last loss:-1.000000000, eval on validation:['ade: 1.7908303', 'fde: 3.269341'], (best ade:999999 at step -1) \n",
      "\t saving best model...\n",
      "\t done.\n"
     ]
    },
    {
     "name": "stderr",
     "output_type": "stream",
     "text": [
      " 47%|████▋     | 298/628 [00:14<00:13, 25.02it/s]"
     ]
    },
    {
     "name": "stdout",
     "output_type": "stream",
     "text": [
      "\tsaving model 300...\n"
     ]
    },
    {
     "name": "stderr",
     "output_type": "stream",
     "text": [
      "\n",
      "  0%|          | 0/55 [00:00<?, ?it/s]\u001b[A\n",
      "  5%|5         | 3/55 [00:00<00:02, 25.09it/s]\u001b[A"
     ]
    },
    {
     "name": "stdout",
     "output_type": "stream",
     "text": [
      "\tdone\n",
      "Evaluating\n"
     ]
    },
    {
     "name": "stderr",
     "output_type": "stream",
     "text": [
      "\n",
      " 11%|#         | 6/55 [00:00<00:01, 26.01it/s]\u001b[A\n",
      " 16%|#6        | 9/55 [00:00<00:01, 26.82it/s]\u001b[A\n",
      " 24%|##3       | 13/55 [00:00<00:01, 28.95it/s]\u001b[A\n",
      " 33%|###2      | 18/55 [00:00<00:01, 32.39it/s]\u001b[A\n",
      " 38%|###8      | 21/55 [00:00<00:01, 31.30it/s]\u001b[A\n",
      " 51%|#####     | 28/55 [00:00<00:00, 37.23it/s]\u001b[A\n",
      " 65%|######5   | 36/55 [00:00<00:00, 44.29it/s]\u001b[A\n",
      " 82%|########1 | 45/55 [00:00<00:00, 51.38it/s]\u001b[A\n",
      " 96%|#########6| 53/55 [00:01<00:00, 56.62it/s]\u001b[A\n",
      "100%|##########| 55/55 [00:01<00:00, 49.24it/s]\u001b[A"
     ]
    },
    {
     "name": "stdout",
     "output_type": "stream",
     "text": [
      "{'ade': 0.58847255, 'fde': 1.260673}\n",
      "\t last loss:0.001189706, eval on validation:['ade: 0.58847255', 'fde: 1.260673'], (best ade:1.7908303 at step 1) \n",
      "\t saving best model...\n"
     ]
    },
    {
     "name": "stderr",
     "output_type": "stream",
     "text": [
      "\r",
      " 48%|████▊     | 301/628 [00:16<01:06,  4.94it/s]"
     ]
    },
    {
     "name": "stdout",
     "output_type": "stream",
     "text": [
      "\t done.\n"
     ]
    },
    {
     "name": "stderr",
     "output_type": "stream",
     "text": [
      " 95%|█████████▌| 598/628 [00:28<00:01, 25.68it/s]W0523 14:33:44.578249 140089081988864 deprecation.py:323] From /home/andrea/anaconda2/lib/python2.7/site-packages/tensorflow/python/training/saver.py:960: remove_checkpoint (from tensorflow.python.training.checkpoint_management) is deprecated and will be removed in a future version.\n",
      "Instructions for updating:\n",
      "Use standard file APIs to delete files with this prefix.\n",
      "\n",
      "  0%|          | 0/55 [00:00<?, ?it/s]\u001b[A"
     ]
    },
    {
     "name": "stdout",
     "output_type": "stream",
     "text": [
      "\tsaving model 600...\n",
      "\tdone\n",
      "Evaluating\n"
     ]
    },
    {
     "name": "stderr",
     "output_type": "stream",
     "text": [
      "\n",
      " 13%|#2        | 7/55 [00:00<00:00, 65.99it/s]\u001b[A\n",
      " 27%|##7       | 15/55 [00:00<00:00, 69.50it/s]\u001b[A\n",
      " 44%|####3     | 24/55 [00:00<00:00, 73.06it/s]\u001b[A\n",
      " 58%|#####8    | 32/55 [00:00<00:00, 74.10it/s]\u001b[A\n",
      " 75%|#######4  | 41/55 [00:00<00:00, 76.81it/s]\u001b[A\n",
      " 87%|########7 | 48/55 [00:00<00:00, 69.94it/s]\u001b[A\n",
      "100%|##########| 55/55 [00:00<00:00, 68.54it/s]\u001b[A"
     ]
    },
    {
     "name": "stdout",
     "output_type": "stream",
     "text": [
      "{'ade': 0.5878359, 'fde': 1.272099}\n",
      "\t last loss:0.000679253, eval on validation:['ade: 0.5878359', 'fde: 1.272099'], (best ade:0.58847255 at step 300) \n",
      "\t saving best model...\n",
      "\t done.\n"
     ]
    },
    {
     "name": "stderr",
     "output_type": "stream",
     "text": [
      "100%|██████████| 628/628 [00:30<00:00, 20.28it/s]\n",
      "  0%|          | 2/628 [00:00<00:42, 14.82it/s]"
     ]
    },
    {
     "name": "stdout",
     "output_type": "stream",
     "text": [
      "('Epoca 2.', 'lr:', 0.002)\n"
     ]
    },
    {
     "name": "stderr",
     "output_type": "stream",
     "text": [
      " 43%|████▎     | 269/628 [00:10<00:13, 26.64it/s]\n",
      "  0%|          | 0/55 [00:00<?, ?it/s]\u001b[A"
     ]
    },
    {
     "name": "stdout",
     "output_type": "stream",
     "text": [
      "\tsaving model 900...\n",
      "\tdone\n",
      "Evaluating\n"
     ]
    },
    {
     "name": "stderr",
     "output_type": "stream",
     "text": [
      "\n",
      " 11%|#         | 6/55 [00:00<00:00, 55.03it/s]\u001b[A\n",
      " 24%|##3       | 13/55 [00:00<00:00, 57.11it/s]\u001b[A\n",
      " 36%|###6      | 20/55 [00:00<00:00, 58.87it/s]\u001b[A\n",
      " 53%|#####2    | 29/55 [00:00<00:00, 64.95it/s]\u001b[A\n",
      " 71%|#######   | 39/55 [00:00<00:00, 71.13it/s]\u001b[A\n",
      " 89%|########9 | 49/55 [00:00<00:00, 76.69it/s]\u001b[A\n",
      " 44%|████▍     | 275/628 [00:11<00:36,  9.69it/s]A"
     ]
    },
    {
     "name": "stdout",
     "output_type": "stream",
     "text": [
      "{'ade': 0.6120996, 'fde': 1.3256539}\n",
      "\t last loss:0.000772720, eval on validation:['ade: 0.6120996', 'fde: 1.3256539'], (best ade:0.5878359 at step 600) \n"
     ]
    },
    {
     "name": "stderr",
     "output_type": "stream",
     "text": [
      " 91%|█████████ | 569/628 [00:23<00:02, 24.80it/s]\n",
      "  0%|          | 0/55 [00:00<?, ?it/s]\u001b[A"
     ]
    },
    {
     "name": "stdout",
     "output_type": "stream",
     "text": [
      "\tsaving model 1200...\n",
      "\tdone\n",
      "Evaluating\n"
     ]
    },
    {
     "name": "stderr",
     "output_type": "stream",
     "text": [
      "\n",
      " 15%|#4        | 8/55 [00:00<00:00, 74.93it/s]\u001b[A\n",
      " 29%|##9       | 16/55 [00:00<00:00, 74.22it/s]\u001b[A\n",
      " 45%|####5     | 25/55 [00:00<00:00, 77.01it/s]\u001b[A\n",
      " 62%|######1   | 34/55 [00:00<00:00, 78.71it/s]\u001b[A\n",
      " 78%|#######8  | 43/55 [00:00<00:00, 80.48it/s]\u001b[A\n",
      " 95%|#########4| 52/55 [00:00<00:00, 80.79it/s]\u001b[A\n",
      " 92%|█████████▏| 575/628 [00:24<00:05,  9.84it/s]A"
     ]
    },
    {
     "name": "stdout",
     "output_type": "stream",
     "text": [
      "{'ade': 0.6058252, 'fde': 1.3300664}\n",
      "\t last loss:0.000864533, eval on validation:['ade: 0.6058252', 'fde: 1.3300664'], (best ade:0.5878359 at step 600) \n"
     ]
    },
    {
     "name": "stderr",
     "output_type": "stream",
     "text": [
      "100%|██████████| 628/628 [00:26<00:00, 23.82it/s]\n",
      "  0%|          | 1/628 [00:00<01:25,  7.33it/s]"
     ]
    },
    {
     "name": "stdout",
     "output_type": "stream",
     "text": [
      "('Epoca 3.', 'lr:', 0.0017000001)\n"
     ]
    },
    {
     "name": "stderr",
     "output_type": "stream",
     "text": [
      " 38%|███▊      | 241/628 [00:09<00:14, 25.89it/s]\n",
      "  0%|          | 0/55 [00:00<?, ?it/s]\u001b[A"
     ]
    },
    {
     "name": "stdout",
     "output_type": "stream",
     "text": [
      "\tsaving model 1500...\n",
      "\tdone\n",
      "Evaluating\n"
     ]
    },
    {
     "name": "stderr",
     "output_type": "stream",
     "text": [
      "\n",
      " 16%|#6        | 9/55 [00:00<00:00, 88.05it/s]\u001b[A\n",
      " 35%|###4      | 19/55 [00:00<00:00, 89.38it/s]\u001b[A\n",
      " 49%|####9     | 27/55 [00:00<00:00, 84.32it/s]\u001b[A\n",
      " 67%|######7   | 37/55 [00:00<00:00, 86.97it/s]\u001b[A\n",
      " 85%|########5 | 47/55 [00:00<00:00, 88.73it/s]\u001b[A\n",
      " 39%|███▉      | 247/628 [00:10<00:35, 10.64it/s]A"
     ]
    },
    {
     "name": "stdout",
     "output_type": "stream",
     "text": [
      "{'ade': 0.6132476, 'fde': 1.3520157}\n",
      "\t last loss:0.000886639, eval on validation:['ade: 0.6132476', 'fde: 1.3520157'], (best ade:0.5878359 at step 600) \n"
     ]
    },
    {
     "name": "stderr",
     "output_type": "stream",
     "text": [
      " 86%|████████▌ | 541/628 [00:22<00:03, 23.12it/s]\n",
      "  0%|          | 0/55 [00:00<?, ?it/s]\u001b[A"
     ]
    },
    {
     "name": "stdout",
     "output_type": "stream",
     "text": [
      "\tsaving model 1800...\n",
      "\tdone\n",
      "Evaluating\n"
     ]
    },
    {
     "name": "stderr",
     "output_type": "stream",
     "text": [
      "\n",
      " 15%|#4        | 8/55 [00:00<00:00, 78.83it/s]\u001b[A\n",
      " 31%|###       | 17/55 [00:00<00:00, 80.18it/s]\u001b[A\n",
      " 47%|####7     | 26/55 [00:00<00:00, 80.69it/s]\u001b[A\n",
      " 64%|######3   | 35/55 [00:00<00:00, 83.22it/s]\u001b[A\n",
      " 80%|########  | 44/55 [00:00<00:00, 83.86it/s]\u001b[A\n",
      " 96%|#########6| 53/55 [00:00<00:00, 83.74it/s]\u001b[A\n",
      " 87%|████████▋ | 547/628 [00:23<00:08,  9.97it/s]A"
     ]
    },
    {
     "name": "stdout",
     "output_type": "stream",
     "text": [
      "{'ade': 0.6276421, 'fde': 1.3630189}\n",
      "\t last loss:0.000949754, eval on validation:['ade: 0.6276421', 'fde: 1.3630189'], (best ade:0.5878359 at step 600) \n"
     ]
    },
    {
     "name": "stderr",
     "output_type": "stream",
     "text": [
      "100%|██████████| 628/628 [00:26<00:00, 26.30it/s]\n",
      "  0%|          | 1/628 [00:00<01:08,  9.14it/s]"
     ]
    },
    {
     "name": "stdout",
     "output_type": "stream",
     "text": [
      "('Epoca 4.', 'lr:', 0.0017000001)\n"
     ]
    },
    {
     "name": "stderr",
     "output_type": "stream",
     "text": [
      " 34%|███▍      | 214/628 [00:08<00:15, 25.93it/s]\n",
      "  0%|          | 0/55 [00:00<?, ?it/s]\u001b[A"
     ]
    },
    {
     "name": "stdout",
     "output_type": "stream",
     "text": [
      "\tsaving model 2100...\n",
      "\tdone\n",
      "Evaluating\n"
     ]
    },
    {
     "name": "stderr",
     "output_type": "stream",
     "text": [
      "\n",
      " 15%|#4        | 8/55 [00:00<00:00, 79.50it/s]\u001b[A\n",
      " 31%|###       | 17/55 [00:00<00:00, 80.51it/s]\u001b[A\n",
      " 47%|####7     | 26/55 [00:00<00:00, 81.59it/s]\u001b[A\n",
      " 64%|######3   | 35/55 [00:00<00:00, 82.63it/s]\u001b[A\n",
      " 80%|########  | 44/55 [00:00<00:00, 82.99it/s]\u001b[A\n",
      " 96%|#########6| 53/55 [00:00<00:00, 83.54it/s]\u001b[A\n",
      " 35%|███▍      | 217/628 [00:09<00:51,  7.94it/s]A"
     ]
    },
    {
     "name": "stdout",
     "output_type": "stream",
     "text": [
      "{'ade': 0.6020116, 'fde': 1.2904528}\n",
      "\t last loss:0.000565584, eval on validation:['ade: 0.6020116', 'fde: 1.2904528'], (best ade:0.5878359 at step 600) \n"
     ]
    },
    {
     "name": "stderr",
     "output_type": "stream",
     "text": [
      " 82%|████████▏ | 514/628 [00:21<00:04, 26.43it/s]\n",
      "  0%|          | 0/55 [00:00<?, ?it/s]\u001b[A"
     ]
    },
    {
     "name": "stdout",
     "output_type": "stream",
     "text": [
      "\tsaving model 2400...\n",
      "\tdone\n",
      "Evaluating\n"
     ]
    },
    {
     "name": "stderr",
     "output_type": "stream",
     "text": [
      "\n",
      " 16%|#6        | 9/55 [00:00<00:00, 84.17it/s]\u001b[A\n",
      " 35%|###4      | 19/55 [00:00<00:00, 86.58it/s]\u001b[A\n",
      " 53%|#####2    | 29/55 [00:00<00:00, 87.95it/s]\u001b[A\n",
      " 71%|#######   | 39/55 [00:00<00:00, 89.23it/s]\u001b[A\n",
      " 87%|########7 | 48/55 [00:00<00:00, 89.24it/s]\u001b[A\n",
      " 83%|████████▎ | 520/628 [00:22<00:10, 10.66it/s]A"
     ]
    },
    {
     "name": "stdout",
     "output_type": "stream",
     "text": [
      "{'ade': 0.61299956, 'fde': 1.3326133}\n",
      "\t last loss:0.000578446, eval on validation:['ade: 0.61299956', 'fde: 1.3326133'], (best ade:0.5878359 at step 600) \n"
     ]
    },
    {
     "name": "stderr",
     "output_type": "stream",
     "text": [
      "100%|██████████| 628/628 [00:26<00:00, 24.28it/s]\n",
      "  0%|          | 3/628 [00:00<00:26, 23.28it/s]"
     ]
    },
    {
     "name": "stdout",
     "output_type": "stream",
     "text": [
      "('Epoca 5.', 'lr:', 0.0014450002)\n"
     ]
    },
    {
     "name": "stderr",
     "output_type": "stream",
     "text": [
      " 30%|██▉       | 186/628 [00:07<00:17, 24.85it/s]\n",
      "  0%|          | 0/55 [00:00<?, ?it/s]\u001b[A"
     ]
    },
    {
     "name": "stdout",
     "output_type": "stream",
     "text": [
      "\tsaving model 2700...\n",
      "\tdone\n",
      "Evaluating\n"
     ]
    },
    {
     "name": "stderr",
     "output_type": "stream",
     "text": [
      "\n",
      " 15%|#4        | 8/55 [00:00<00:00, 76.56it/s]\u001b[A\n",
      " 31%|###       | 17/55 [00:00<00:00, 78.60it/s]\u001b[A\n",
      " 44%|####3     | 24/55 [00:00<00:00, 74.11it/s]\u001b[A\n",
      " 60%|######    | 33/55 [00:00<00:00, 76.89it/s]\u001b[A\n",
      " 76%|#######6  | 42/55 [00:00<00:00, 78.98it/s]\u001b[A\n",
      " 91%|######### | 50/55 [00:00<00:00, 79.02it/s]\u001b[A\n",
      " 30%|███       | 189/628 [00:08<00:57,  7.70it/s]A"
     ]
    },
    {
     "name": "stdout",
     "output_type": "stream",
     "text": [
      "{'ade': 0.6013415, 'fde': 1.302114}\n",
      "\t last loss:0.000589948, eval on validation:['ade: 0.6013415', 'fde: 1.302114'], (best ade:0.5878359 at step 600) \n"
     ]
    },
    {
     "name": "stderr",
     "output_type": "stream",
     "text": [
      " 77%|███████▋  | 486/628 [00:20<00:05, 26.21it/s]\n",
      "  0%|          | 0/55 [00:00<?, ?it/s]\u001b[A"
     ]
    },
    {
     "name": "stdout",
     "output_type": "stream",
     "text": [
      "\tsaving model 3000...\n",
      "\tdone\n",
      "Evaluating\n"
     ]
    },
    {
     "name": "stderr",
     "output_type": "stream",
     "text": [
      "\n",
      " 16%|#6        | 9/55 [00:00<00:00, 89.14it/s]\u001b[A\n",
      " 35%|###4      | 19/55 [00:00<00:00, 89.92it/s]\u001b[A\n",
      " 51%|#####     | 28/55 [00:00<00:00, 89.64it/s]\u001b[A\n",
      " 67%|######7   | 37/55 [00:00<00:00, 89.35it/s]\u001b[A\n",
      " 85%|########5 | 47/55 [00:00<00:00, 90.42it/s]\u001b[A\n",
      " 78%|███████▊  | 492/628 [00:21<00:12, 10.68it/s]A"
     ]
    },
    {
     "name": "stdout",
     "output_type": "stream",
     "text": [
      "{'ade': 0.60709643, 'fde': 1.3198916}\n",
      "\t last loss:0.000919061, eval on validation:['ade: 0.60709643', 'fde: 1.3198916'], (best ade:0.5878359 at step 600) \n"
     ]
    },
    {
     "name": "stderr",
     "output_type": "stream",
     "text": [
      "100%|██████████| 628/628 [00:26<00:00, 23.61it/s]\n",
      "  0%|          | 1/628 [00:00<01:11,  8.72it/s]"
     ]
    },
    {
     "name": "stdout",
     "output_type": "stream",
     "text": [
      "('Epoca 6.', 'lr:', 0.0014450002)\n"
     ]
    },
    {
     "name": "stderr",
     "output_type": "stream",
     "text": [
      " 25%|██▌       | 157/628 [00:06<00:19, 23.93it/s]\n",
      "  0%|          | 0/55 [00:00<?, ?it/s]\u001b[A"
     ]
    },
    {
     "name": "stdout",
     "output_type": "stream",
     "text": [
      "\tsaving model 3300...\n",
      "\tdone\n",
      "Evaluating\n"
     ]
    },
    {
     "name": "stderr",
     "output_type": "stream",
     "text": [
      "\n",
      " 15%|#4        | 8/55 [00:00<00:00, 78.21it/s]\u001b[A\n",
      " 31%|###       | 17/55 [00:00<00:00, 79.96it/s]\u001b[A\n",
      " 47%|####7     | 26/55 [00:00<00:00, 80.59it/s]\u001b[A\n",
      " 64%|######3   | 35/55 [00:00<00:00, 81.99it/s]\u001b[A\n",
      " 78%|#######8  | 43/55 [00:00<00:00, 81.00it/s]\u001b[A\n",
      " 95%|#########4| 52/55 [00:00<00:00, 81.56it/s]\u001b[A\n",
      " 26%|██▌       | 163/628 [00:07<00:47,  9.87it/s]A"
     ]
    },
    {
     "name": "stdout",
     "output_type": "stream",
     "text": [
      "{'ade': 0.5933486, 'fde': 1.2890835}\n",
      "\t last loss:0.000796742, eval on validation:['ade: 0.5933486', 'fde: 1.2890835'], (best ade:0.5878359 at step 600) \n"
     ]
    },
    {
     "name": "stderr",
     "output_type": "stream",
     "text": [
      " 73%|███████▎  | 457/628 [00:18<00:06, 26.35it/s]\n",
      "  0%|          | 0/55 [00:00<?, ?it/s]\u001b[A"
     ]
    },
    {
     "name": "stdout",
     "output_type": "stream",
     "text": [
      "\tsaving model 3600...\n",
      "\tdone\n",
      "Evaluating\n"
     ]
    },
    {
     "name": "stderr",
     "output_type": "stream",
     "text": [
      "\n",
      " 16%|#6        | 9/55 [00:00<00:00, 82.90it/s]\u001b[A\n",
      " 29%|##9       | 16/55 [00:00<00:00, 76.83it/s]\u001b[A\n",
      " 45%|####5     | 25/55 [00:00<00:00, 78.94it/s]\u001b[A\n",
      " 62%|######1   | 34/55 [00:00<00:00, 80.22it/s]\u001b[A\n",
      " 78%|#######8  | 43/55 [00:00<00:00, 80.86it/s]\u001b[A\n",
      " 95%|#########4| 52/55 [00:00<00:00, 81.24it/s]\u001b[A\n",
      "100%|##########| 55/55 [00:00<00:00, 79.47it/s]\u001b[A"
     ]
    },
    {
     "name": "stdout",
     "output_type": "stream",
     "text": [
      "{'ade': 0.5835593, 'fde': 1.268501}\n",
      "\t last loss:0.000564242, eval on validation:['ade: 0.5835593', 'fde: 1.268501'], (best ade:0.5878359 at step 600) \n",
      "\t saving best model...\n",
      "\t done.\n"
     ]
    },
    {
     "name": "stderr",
     "output_type": "stream",
     "text": [
      "100%|██████████| 628/628 [00:26<00:00, 26.35it/s]\n",
      "  0%|          | 2/628 [00:00<00:41, 14.98it/s]"
     ]
    },
    {
     "name": "stdout",
     "output_type": "stream",
     "text": [
      "('Epoca 7.', 'lr:', 0.0012282502)\n"
     ]
    },
    {
     "name": "stderr",
     "output_type": "stream",
     "text": [
      " 21%|██        | 131/628 [00:05<00:18, 26.58it/s]\n",
      "  0%|          | 0/55 [00:00<?, ?it/s]\u001b[A"
     ]
    },
    {
     "name": "stdout",
     "output_type": "stream",
     "text": [
      "\tsaving model 3900...\n",
      "\tdone\n",
      "Evaluating\n"
     ]
    },
    {
     "name": "stderr",
     "output_type": "stream",
     "text": [
      "\n",
      " 16%|#6        | 9/55 [00:00<00:00, 86.92it/s]\u001b[A\n",
      " 33%|###2      | 18/55 [00:00<00:00, 87.36it/s]\u001b[A\n",
      " 49%|####9     | 27/55 [00:00<00:00, 87.64it/s]\u001b[A\n",
      " 67%|######7   | 37/55 [00:00<00:00, 89.54it/s]\u001b[A\n",
      " 85%|########5 | 47/55 [00:00<00:00, 90.68it/s]\u001b[A\n",
      " 21%|██▏       | 134/628 [00:06<00:57,  8.56it/s]A"
     ]
    },
    {
     "name": "stdout",
     "output_type": "stream",
     "text": [
      "{'ade': 0.5837987, 'fde': 1.2606014}\n",
      "\t last loss:0.000460669, eval on validation:['ade: 0.5837987', 'fde: 1.2606014'], (best ade:0.5835593 at step 3600) \n"
     ]
    },
    {
     "name": "stderr",
     "output_type": "stream",
     "text": [
      " 69%|██████▊   | 431/628 [00:17<00:07, 24.80it/s]\n",
      "  0%|          | 0/55 [00:00<?, ?it/s]\u001b[A"
     ]
    },
    {
     "name": "stdout",
     "output_type": "stream",
     "text": [
      "\tsaving model 4200...\n",
      "\tdone\n",
      "Evaluating\n"
     ]
    },
    {
     "name": "stderr",
     "output_type": "stream",
     "text": [
      "\n",
      " 16%|#6        | 9/55 [00:00<00:00, 82.59it/s]\u001b[A\n",
      " 33%|###2      | 18/55 [00:00<00:00, 82.88it/s]\u001b[A\n",
      " 49%|####9     | 27/55 [00:00<00:00, 83.51it/s]\u001b[A\n",
      " 64%|######3   | 35/55 [00:00<00:00, 80.29it/s]\u001b[A\n",
      " 80%|########  | 44/55 [00:00<00:00, 81.75it/s]\u001b[A\n",
      " 95%|#########4| 52/55 [00:00<00:00, 81.06it/s]\u001b[A\n",
      " 69%|██████▉   | 434/628 [00:18<00:24,  7.82it/s]A"
     ]
    },
    {
     "name": "stdout",
     "output_type": "stream",
     "text": [
      "{'ade': 0.58458734, 'fde': 1.2721645}\n",
      "\t last loss:0.000686259, eval on validation:['ade: 0.58458734', 'fde: 1.2721645'], (best ade:0.5835593 at step 3600) \n"
     ]
    },
    {
     "name": "stderr",
     "output_type": "stream",
     "text": [
      "100%|██████████| 628/628 [00:26<00:00, 26.17it/s]\n",
      "  0%|          | 3/628 [00:00<00:24, 25.67it/s]"
     ]
    },
    {
     "name": "stdout",
     "output_type": "stream",
     "text": [
      "('Epoca 8.', 'lr:', 0.0012282502)\n"
     ]
    },
    {
     "name": "stderr",
     "output_type": "stream",
     "text": [
      " 16%|█▌        | 102/628 [00:03<00:21, 24.87it/s]\n",
      "  0%|          | 0/55 [00:00<?, ?it/s]\u001b[A"
     ]
    },
    {
     "name": "stdout",
     "output_type": "stream",
     "text": [
      "\tsaving model 4500...\n",
      "\tdone\n",
      "Evaluating\n"
     ]
    },
    {
     "name": "stderr",
     "output_type": "stream",
     "text": [
      "\n",
      " 16%|#6        | 9/55 [00:00<00:00, 87.92it/s]\u001b[A\n",
      " 35%|###4      | 19/55 [00:00<00:00, 89.52it/s]\u001b[A\n",
      " 51%|#####     | 28/55 [00:00<00:00, 89.35it/s]\u001b[A\n",
      " 67%|######7   | 37/55 [00:00<00:00, 89.44it/s]\u001b[A\n",
      " 84%|########3 | 46/55 [00:00<00:00, 89.43it/s]\u001b[A\n",
      " 17%|█▋        | 108/628 [00:04<00:49, 10.59it/s]A"
     ]
    },
    {
     "name": "stdout",
     "output_type": "stream",
     "text": [
      "{'ade': 0.631487, 'fde': 1.4013122}\n",
      "\t last loss:0.000922531, eval on validation:['ade: 0.631487', 'fde: 1.4013122'], (best ade:0.5835593 at step 3600) \n"
     ]
    },
    {
     "name": "stderr",
     "output_type": "stream",
     "text": [
      " 64%|██████▍   | 402/628 [00:17<00:10, 20.78it/s]"
     ]
    },
    {
     "name": "stdout",
     "output_type": "stream",
     "text": [
      "\tsaving model 4800...\n"
     ]
    },
    {
     "name": "stderr",
     "output_type": "stream",
     "text": [
      "\n",
      "  0%|          | 0/55 [00:00<?, ?it/s]\u001b[A\n",
      " 13%|#2        | 7/55 [00:00<00:00, 61.81it/s]\u001b[A\n",
      " 27%|##7       | 15/55 [00:00<00:00, 64.84it/s]\u001b[A\n",
      " 42%|####1     | 23/55 [00:00<00:00, 67.79it/s]\u001b[A\n",
      " 56%|#####6    | 31/55 [00:00<00:00, 69.52it/s]\u001b[A\n",
      " 71%|#######   | 39/55 [00:00<00:00, 71.44it/s]\u001b[A\n",
      " 85%|########5 | 47/55 [00:00<00:00, 72.62it/s]\u001b[A\n",
      " 64%|██████▍   | 405/628 [00:18<00:32,  6.91it/s]A"
     ]
    },
    {
     "name": "stdout",
     "output_type": "stream",
     "text": [
      "\tdone\n",
      "Evaluating\n",
      "{'ade': 0.5894117, 'fde': 1.2858875}\n",
      "\t last loss:0.000553122, eval on validation:['ade: 0.5894117', 'fde: 1.2858875'], (best ade:0.5835593 at step 3600) \n"
     ]
    },
    {
     "name": "stderr",
     "output_type": "stream",
     "text": [
      "100%|██████████| 628/628 [00:27<00:00, 22.61it/s]\n",
      "  0%|          | 1/628 [00:00<01:19,  7.87it/s]"
     ]
    },
    {
     "name": "stdout",
     "output_type": "stream",
     "text": [
      "('Epoca 9.', 'lr:', 0.0010440127)\n"
     ]
    },
    {
     "name": "stderr",
     "output_type": "stream",
     "text": [
      " 12%|█▏        | 73/628 [00:02<00:23, 24.06it/s]\n",
      "  0%|          | 0/55 [00:00<?, ?it/s]\u001b[A"
     ]
    },
    {
     "name": "stdout",
     "output_type": "stream",
     "text": [
      "\tsaving model 5100...\n",
      "\tdone\n",
      "Evaluating\n"
     ]
    },
    {
     "name": "stderr",
     "output_type": "stream",
     "text": [
      "\n",
      " 15%|#4        | 8/55 [00:00<00:00, 78.06it/s]\u001b[A\n",
      " 31%|###       | 17/55 [00:00<00:00, 80.20it/s]\u001b[A\n",
      " 47%|####7     | 26/55 [00:00<00:00, 80.83it/s]\u001b[A\n",
      " 62%|######1   | 34/55 [00:00<00:00, 80.15it/s]\u001b[A\n",
      " 78%|#######8  | 43/55 [00:00<00:00, 80.79it/s]\u001b[A\n",
      " 93%|#########2| 51/55 [00:00<00:00, 79.65it/s]\u001b[A\n",
      " 13%|█▎        | 79/628 [00:04<00:56,  9.71it/s][A"
     ]
    },
    {
     "name": "stdout",
     "output_type": "stream",
     "text": [
      "{'ade': 0.5858738, 'fde': 1.2715883}\n",
      "\t last loss:0.000563950, eval on validation:['ade: 0.5858738', 'fde: 1.2715883'], (best ade:0.5835593 at step 3600) \n"
     ]
    },
    {
     "name": "stderr",
     "output_type": "stream",
     "text": [
      " 59%|█████▉    | 373/628 [00:15<00:10, 24.98it/s]\n",
      "  0%|          | 0/55 [00:00<?, ?it/s]\u001b[A"
     ]
    },
    {
     "name": "stdout",
     "output_type": "stream",
     "text": [
      "\tsaving model 5400...\n",
      "\tdone\n",
      "Evaluating\n"
     ]
    },
    {
     "name": "stderr",
     "output_type": "stream",
     "text": [
      "\n",
      " 15%|#4        | 8/55 [00:00<00:00, 77.97it/s]\u001b[A\n",
      " 31%|###       | 17/55 [00:00<00:00, 79.90it/s]\u001b[A\n",
      " 47%|####7     | 26/55 [00:00<00:00, 81.28it/s]\u001b[A\n",
      " 64%|######3   | 35/55 [00:00<00:00, 82.25it/s]\u001b[A\n",
      " 80%|########  | 44/55 [00:00<00:00, 82.79it/s]\u001b[A\n",
      " 96%|#########6| 53/55 [00:00<00:00, 82.72it/s]\u001b[A\n",
      "100%|##########| 55/55 [00:00<00:00, 82.28it/s]\u001b[A"
     ]
    },
    {
     "name": "stdout",
     "output_type": "stream",
     "text": [
      "{'ade': 0.5760625, 'fde': 1.2495894}\n",
      "\t last loss:0.000438329, eval on validation:['ade: 0.5760625', 'fde: 1.2495894'], (best ade:0.5835593 at step 3600) \n",
      "\t saving best model...\n",
      "\t done.\n"
     ]
    },
    {
     "name": "stderr",
     "output_type": "stream",
     "text": [
      "100%|██████████| 628/628 [00:27<00:00, 24.08it/s]\n",
      "  0%|          | 3/628 [00:00<00:27, 23.08it/s]"
     ]
    },
    {
     "name": "stdout",
     "output_type": "stream",
     "text": [
      "('Epoca 10.', 'lr:', 0.0010440127)\n"
     ]
    },
    {
     "name": "stderr",
     "output_type": "stream",
     "text": [
      "  7%|▋         | 45/628 [00:01<00:23, 24.72it/s]\n",
      "  0%|          | 0/55 [00:00<?, ?it/s]\u001b[A"
     ]
    },
    {
     "name": "stdout",
     "output_type": "stream",
     "text": [
      "\tsaving model 5700...\n",
      "\tdone\n",
      "Evaluating\n"
     ]
    },
    {
     "name": "stderr",
     "output_type": "stream",
     "text": [
      "\n",
      " 15%|#4        | 8/55 [00:00<00:00, 78.21it/s]\u001b[A\n",
      " 31%|###       | 17/55 [00:00<00:00, 79.93it/s]\u001b[A\n",
      " 45%|####5     | 25/55 [00:00<00:00, 79.88it/s]\u001b[A\n",
      " 62%|######1   | 34/55 [00:00<00:00, 80.25it/s]\u001b[A\n",
      " 78%|#######8  | 43/55 [00:00<00:00, 81.53it/s]\u001b[A\n",
      " 95%|#########4| 52/55 [00:00<00:00, 82.17it/s]\u001b[A\n",
      "  8%|▊         | 51/628 [00:02<00:59,  9.70it/s][A"
     ]
    },
    {
     "name": "stdout",
     "output_type": "stream",
     "text": [
      "{'ade': 0.59201753, 'fde': 1.2909864}\n",
      "\t last loss:0.000671453, eval on validation:['ade: 0.59201753', 'fde: 1.2909864'], (best ade:0.5760625 at step 5400) \n"
     ]
    },
    {
     "name": "stderr",
     "output_type": "stream",
     "text": [
      " 55%|█████▍    | 345/628 [00:14<00:10, 26.26it/s]\n",
      "  0%|          | 0/55 [00:00<?, ?it/s]\u001b[A"
     ]
    },
    {
     "name": "stdout",
     "output_type": "stream",
     "text": [
      "\tsaving model 6000...\n",
      "\tdone\n",
      "Evaluating\n"
     ]
    },
    {
     "name": "stderr",
     "output_type": "stream",
     "text": [
      "\n",
      " 15%|#4        | 8/55 [00:00<00:00, 76.76it/s]\u001b[A\n",
      " 29%|##9       | 16/55 [00:00<00:00, 76.16it/s]\u001b[A\n",
      " 45%|####5     | 25/55 [00:00<00:00, 78.54it/s]\u001b[A\n",
      " 60%|######    | 33/55 [00:00<00:00, 78.89it/s]\u001b[A\n",
      " 76%|#######6  | 42/55 [00:00<00:00, 79.76it/s]\u001b[A\n",
      " 93%|#########2| 51/55 [00:00<00:00, 81.30it/s]\u001b[A\n",
      " 56%|█████▌    | 351/628 [00:15<00:27, 10.04it/s]A"
     ]
    },
    {
     "name": "stdout",
     "output_type": "stream",
     "text": [
      "{'ade': 0.59404457, 'fde': 1.2823565}\n",
      "\t last loss:0.000547964, eval on validation:['ade: 0.59404457', 'fde: 1.2823565'], (best ade:0.5760625 at step 5400) \n"
     ]
    },
    {
     "name": "stderr",
     "output_type": "stream",
     "text": [
      "100%|██████████| 628/628 [00:27<00:00, 22.69it/s]\n",
      "  0%|          | 2/628 [00:00<00:42, 14.89it/s]"
     ]
    },
    {
     "name": "stdout",
     "output_type": "stream",
     "text": [
      "('Epoca 11.', 'lr:', 0.0008874108)\n"
     ]
    },
    {
     "name": "stderr",
     "output_type": "stream",
     "text": [
      "  3%|▎         | 19/628 [00:00<00:28, 21.39it/s]\n",
      "  0%|          | 0/55 [00:00<?, ?it/s]"
     ]
    },
    {
     "name": "stdout",
     "output_type": "stream",
     "text": [
      "\tsaving model 6300...\n",
      "\tdone\n",
      "Evaluating\n"
     ]
    },
    {
     "name": "stderr",
     "output_type": "stream",
     "text": [
      "\u001b[A\n",
      " 15%|#4        | 8/55 [00:00<00:00, 72.11it/s]\u001b[A\n",
      " 25%|##5       | 14/55 [00:00<00:00, 65.38it/s]\u001b[A\n",
      " 38%|###8      | 21/55 [00:00<00:00, 66.01it/s]\u001b[A\n",
      " 53%|#####2    | 29/55 [00:00<00:00, 68.10it/s]\u001b[A\n",
      " 67%|######7   | 37/55 [00:00<00:00, 70.50it/s]\u001b[A\n",
      " 82%|########1 | 45/55 [00:00<00:00, 71.03it/s]\u001b[A\n",
      " 96%|#########6| 53/55 [00:00<00:00, 72.71it/s]\u001b[A\n",
      "  4%|▎         | 22/628 [00:02<01:28,  6.85it/s][A"
     ]
    },
    {
     "name": "stdout",
     "output_type": "stream",
     "text": [
      "{'ade': 0.58253753, 'fde': 1.2719412}\n",
      "\t last loss:0.000720370, eval on validation:['ade: 0.58253753', 'fde: 1.2719412'], (best ade:0.5760625 at step 5400) \n"
     ]
    },
    {
     "name": "stderr",
     "output_type": "stream",
     "text": [
      " 51%|█████     | 318/628 [00:14<00:12, 24.82it/s]\n",
      "  0%|          | 0/55 [00:00<?, ?it/s]\u001b[A"
     ]
    },
    {
     "name": "stdout",
     "output_type": "stream",
     "text": [
      "\tsaving model 6600...\n",
      "\tdone\n",
      "Evaluating\n"
     ]
    },
    {
     "name": "stderr",
     "output_type": "stream",
     "text": [
      "\n",
      " 15%|#4        | 8/55 [00:00<00:00, 79.13it/s]\u001b[A\n",
      " 31%|###       | 17/55 [00:00<00:00, 80.73it/s]\u001b[A\n",
      " 47%|####7     | 26/55 [00:00<00:00, 82.04it/s]\u001b[A\n",
      " 64%|######3   | 35/55 [00:00<00:00, 82.73it/s]\u001b[A\n",
      " 80%|########  | 44/55 [00:00<00:00, 83.47it/s]\u001b[A\n",
      " 96%|#########6| 53/55 [00:00<00:00, 82.62it/s]\u001b[A\n",
      "100%|##########| 55/55 [00:00<00:00, 82.34it/s]\u001b[A"
     ]
    },
    {
     "name": "stdout",
     "output_type": "stream",
     "text": [
      "{'ade': 0.56710494, 'fde': 1.2224854}\n",
      "\t last loss:0.000856509, eval on validation:['ade: 0.56710494', 'fde: 1.2224854'], (best ade:0.5760625 at step 5400) \n",
      "\t saving best model...\n",
      "\t done.\n"
     ]
    },
    {
     "name": "stderr",
     "output_type": "stream",
     "text": [
      " 98%|█████████▊| 618/628 [00:27<00:00, 24.84it/s]\n",
      "  0%|          | 0/55 [00:00<?, ?it/s]\u001b[A"
     ]
    },
    {
     "name": "stdout",
     "output_type": "stream",
     "text": [
      "\tsaving model 6900...\n",
      "\tdone\n",
      "Evaluating\n"
     ]
    },
    {
     "name": "stderr",
     "output_type": "stream",
     "text": [
      "\n",
      " 16%|#6        | 9/55 [00:00<00:00, 88.44it/s]\u001b[A\n",
      " 35%|###4      | 19/55 [00:00<00:00, 89.78it/s]\u001b[A\n",
      " 51%|#####     | 28/55 [00:00<00:00, 89.26it/s]\u001b[A\n",
      " 69%|######9   | 38/55 [00:00<00:00, 90.61it/s]\u001b[A\n",
      " 87%|########7 | 48/55 [00:00<00:00, 91.85it/s]\u001b[A\n",
      " 99%|█████████▉| 624/628 [00:28<00:00, 10.56it/s]A"
     ]
    },
    {
     "name": "stdout",
     "output_type": "stream",
     "text": [
      "{'ade': 0.5774483, 'fde': 1.2484859}\n",
      "\t last loss:0.000353271, eval on validation:['ade: 0.5774483', 'fde: 1.2484859'], (best ade:0.56710494 at step 6600) \n"
     ]
    },
    {
     "name": "stderr",
     "output_type": "stream",
     "text": [
      "100%|██████████| 628/628 [00:28<00:00, 22.15it/s]\n",
      "  0%|          | 1/628 [00:00<01:16,  8.17it/s]"
     ]
    },
    {
     "name": "stdout",
     "output_type": "stream",
     "text": [
      "('Epoca 12.', 'lr:', 0.0008874108)\n"
     ]
    },
    {
     "name": "stderr",
     "output_type": "stream",
     "text": [
      " 46%|████▌     | 289/628 [00:13<00:14, 24.02it/s]\n",
      "  0%|          | 0/55 [00:00<?, ?it/s]\u001b[A"
     ]
    },
    {
     "name": "stdout",
     "output_type": "stream",
     "text": [
      "\tsaving model 7200...\n",
      "\tdone\n",
      "Evaluating\n"
     ]
    },
    {
     "name": "stderr",
     "output_type": "stream",
     "text": [
      "\n",
      " 15%|#4        | 8/55 [00:00<00:00, 75.54it/s]\u001b[A\n",
      " 31%|###       | 17/55 [00:00<00:00, 77.79it/s]\u001b[A\n",
      " 47%|####7     | 26/55 [00:00<00:00, 79.25it/s]\u001b[A\n",
      " 62%|######1   | 34/55 [00:00<00:00, 79.33it/s]\u001b[A\n",
      " 78%|#######8  | 43/55 [00:00<00:00, 80.57it/s]\u001b[A\n",
      " 91%|######### | 50/55 [00:00<00:00, 76.93it/s]\u001b[A\n",
      " 47%|████▋     | 295/628 [00:14<00:34,  9.64it/s]A"
     ]
    },
    {
     "name": "stdout",
     "output_type": "stream",
     "text": [
      "{'ade': 0.58152664, 'fde': 1.2565413}\n",
      "\t last loss:0.000364274, eval on validation:['ade: 0.58152664', 'fde: 1.2565413'], (best ade:0.56710494 at step 6600) \n"
     ]
    },
    {
     "name": "stderr",
     "output_type": "stream",
     "text": [
      " 94%|█████████▍| 591/628 [00:27<00:02, 13.62it/s]"
     ]
    },
    {
     "name": "stdout",
     "output_type": "stream",
     "text": [
      "\tsaving model 7500...\n"
     ]
    },
    {
     "name": "stderr",
     "output_type": "stream",
     "text": [
      "\n",
      "  0%|          | 0/55 [00:00<?, ?it/s]\u001b[A\n",
      "  9%|9         | 5/55 [00:00<00:01, 47.43it/s]\u001b[A"
     ]
    },
    {
     "name": "stdout",
     "output_type": "stream",
     "text": [
      "\tdone\n",
      "Evaluating\n"
     ]
    },
    {
     "name": "stderr",
     "output_type": "stream",
     "text": [
      "\n",
      " 18%|#8        | 10/55 [00:00<00:00, 45.21it/s]\u001b[A\n",
      " 27%|##7       | 15/55 [00:00<00:00, 43.81it/s]\u001b[A\n",
      " 36%|###6      | 20/55 [00:00<00:00, 44.72it/s]\u001b[A\n",
      " 49%|####9     | 27/55 [00:00<00:00, 49.67it/s]\u001b[A\n",
      " 64%|######3   | 35/55 [00:00<00:00, 55.79it/s]\u001b[A\n",
      " 76%|#######6  | 42/55 [00:00<00:00, 57.72it/s]\u001b[A\n",
      " 89%|########9 | 49/55 [00:00<00:00, 59.20it/s]\u001b[A\n",
      " 94%|█████████▍| 593/628 [00:29<00:08,  3.91it/s]A"
     ]
    },
    {
     "name": "stdout",
     "output_type": "stream",
     "text": [
      "{'ade': 0.6081043, 'fde': 1.3290797}\n",
      "\t last loss:0.000305689, eval on validation:['ade: 0.6081043', 'fde: 1.3290797'], (best ade:0.56710494 at step 6600) \n"
     ]
    },
    {
     "name": "stderr",
     "output_type": "stream",
     "text": [
      "100%|██████████| 628/628 [00:30<00:00, 20.35it/s]\n",
      "  0%|          | 1/628 [00:00<01:27,  7.15it/s]"
     ]
    },
    {
     "name": "stdout",
     "output_type": "stream",
     "text": [
      "('Epoca 13.', 'lr:', 0.0007542992)\n"
     ]
    },
    {
     "name": "stderr",
     "output_type": "stream",
     "text": [
      " 42%|████▏     | 262/628 [00:10<00:14, 24.82it/s]\n",
      "  0%|          | 0/55 [00:00<?, ?it/s]\u001b[A"
     ]
    },
    {
     "name": "stdout",
     "output_type": "stream",
     "text": [
      "\tsaving model 7800...\n",
      "\tdone\n",
      "Evaluating\n"
     ]
    },
    {
     "name": "stderr",
     "output_type": "stream",
     "text": [
      "\n",
      " 15%|#4        | 8/55 [00:00<00:00, 77.27it/s]\u001b[A\n",
      " 31%|###       | 17/55 [00:00<00:00, 79.50it/s]\u001b[A\n",
      " 45%|####5     | 25/55 [00:00<00:00, 79.41it/s]\u001b[A\n",
      " 60%|######    | 33/55 [00:00<00:00, 79.57it/s]\u001b[A\n",
      " 75%|#######4  | 41/55 [00:00<00:00, 78.68it/s]\u001b[A\n",
      " 91%|######### | 50/55 [00:00<00:00, 79.59it/s]\u001b[A\n",
      " 42%|████▏     | 265/628 [00:11<00:46,  7.77it/s]A"
     ]
    },
    {
     "name": "stdout",
     "output_type": "stream",
     "text": [
      "{'ade': 0.5969168, 'fde': 1.3031849}\n",
      "\t last loss:0.000688689, eval on validation:['ade: 0.5969168', 'fde: 1.3031849'], (best ade:0.56710494 at step 6600) \n"
     ]
    },
    {
     "name": "stderr",
     "output_type": "stream",
     "text": [
      " 90%|████████▉ | 563/628 [00:25<00:02, 22.76it/s]\n",
      "  0%|          | 0/55 [00:00<?, ?it/s]\u001b[A"
     ]
    },
    {
     "name": "stdout",
     "output_type": "stream",
     "text": [
      "\tsaving model 8100...\n",
      "\tdone\n",
      "Evaluating\n"
     ]
    },
    {
     "name": "stderr",
     "output_type": "stream",
     "text": [
      "\n",
      " 13%|#2        | 7/55 [00:00<00:00, 62.93it/s]\u001b[A\n",
      " 24%|##3       | 13/55 [00:00<00:00, 61.82it/s]\u001b[A\n",
      " 38%|###8      | 21/55 [00:00<00:00, 65.92it/s]\u001b[A\n",
      " 51%|#####     | 28/55 [00:00<00:00, 65.02it/s]\u001b[A\n",
      " 64%|######3   | 35/55 [00:00<00:00, 63.95it/s]\u001b[A\n",
      " 76%|#######6  | 42/55 [00:00<00:00, 63.20it/s]\u001b[A\n",
      " 87%|########7 | 48/55 [00:00<00:00, 60.96it/s]\u001b[A\n",
      " 90%|█████████ | 566/628 [00:26<00:09,  6.64it/s]A"
     ]
    },
    {
     "name": "stdout",
     "output_type": "stream",
     "text": [
      "{'ade': 0.60067695, 'fde': 1.3063645}\n",
      "\t last loss:0.000423144, eval on validation:['ade: 0.60067695', 'fde: 1.3063645'], (best ade:0.56710494 at step 6600) \n"
     ]
    },
    {
     "name": "stderr",
     "output_type": "stream",
     "text": [
      "100%|██████████| 628/628 [00:29<00:00, 21.49it/s]\n",
      "  0%|          | 2/628 [00:00<00:42, 14.60it/s]"
     ]
    },
    {
     "name": "stdout",
     "output_type": "stream",
     "text": [
      "('Epoca 14.', 'lr:', 0.0007542992)\n"
     ]
    },
    {
     "name": "stderr",
     "output_type": "stream",
     "text": [
      " 37%|███▋      | 234/628 [00:09<00:18, 20.96it/s]\n",
      "  0%|          | 0/55 [00:00<?, ?it/s]\u001b[A"
     ]
    },
    {
     "name": "stdout",
     "output_type": "stream",
     "text": [
      "\tsaving model 8400...\n",
      "\tdone\n",
      "Evaluating\n"
     ]
    },
    {
     "name": "stderr",
     "output_type": "stream",
     "text": [
      "\n",
      " 11%|#         | 6/55 [00:00<00:00, 55.44it/s]\u001b[A\n",
      " 22%|##1       | 12/55 [00:00<00:00, 55.73it/s]\u001b[A\n",
      " 31%|###       | 17/55 [00:00<00:00, 53.52it/s]\u001b[A\n",
      " 40%|####      | 22/55 [00:00<00:00, 49.16it/s]\u001b[A\n",
      " 49%|####9     | 27/55 [00:00<00:00, 48.30it/s]\u001b[A\n",
      " 58%|#####8    | 32/55 [00:00<00:00, 46.23it/s]\u001b[A\n",
      " 67%|######7   | 37/55 [00:00<00:00, 36.26it/s]\u001b[A\n",
      " 75%|#######4  | 41/55 [00:00<00:00, 34.81it/s]\u001b[A\n",
      " 82%|########1 | 45/55 [00:01<00:00, 36.08it/s]\u001b[A\n",
      " 91%|######### | 50/55 [00:01<00:00, 38.07it/s]\u001b[A\n",
      " 38%|███▊      | 237/628 [00:11<01:20,  4.87it/s]A"
     ]
    },
    {
     "name": "stdout",
     "output_type": "stream",
     "text": [
      "{'ade': 0.5687497, 'fde': 1.2312164}\n",
      "\t last loss:0.000914076, eval on validation:['ade: 0.5687497', 'fde: 1.2312164'], (best ade:0.56710494 at step 6600) \n"
     ]
    },
    {
     "name": "stderr",
     "output_type": "stream",
     "text": [
      " 85%|████████▍ | 533/628 [00:25<00:03, 26.38it/s]\n",
      "  0%|          | 0/55 [00:00<?, ?it/s]\u001b[A"
     ]
    },
    {
     "name": "stdout",
     "output_type": "stream",
     "text": [
      "\tsaving model 8700...\n",
      "\tdone\n",
      "Evaluating\n"
     ]
    },
    {
     "name": "stderr",
     "output_type": "stream",
     "text": [
      "\n",
      " 13%|#2        | 7/55 [00:00<00:00, 67.83it/s]\u001b[A\n",
      " 29%|##9       | 16/55 [00:00<00:00, 72.96it/s]\u001b[A\n",
      " 47%|####7     | 26/55 [00:00<00:00, 77.80it/s]\u001b[A\n",
      " 64%|######3   | 35/55 [00:00<00:00, 80.84it/s]\u001b[A\n",
      " 82%|########1 | 45/55 [00:00<00:00, 83.65it/s]\u001b[A\n",
      " 98%|#########8| 54/55 [00:00<00:00, 85.09it/s]\u001b[A\n",
      " 86%|████████▌ | 539/628 [00:26<00:08, 10.39it/s]A"
     ]
    },
    {
     "name": "stdout",
     "output_type": "stream",
     "text": [
      "{'ade': 0.5831984, 'fde': 1.2729161}\n",
      "\t last loss:0.000728068, eval on validation:['ade: 0.5831984', 'fde: 1.2729161'], (best ade:0.56710494 at step 6600) \n"
     ]
    },
    {
     "name": "stderr",
     "output_type": "stream",
     "text": [
      "100%|██████████| 628/628 [00:30<00:00, 20.72it/s]\n",
      "  0%|          | 1/628 [00:00<01:19,  7.89it/s]"
     ]
    },
    {
     "name": "stdout",
     "output_type": "stream",
     "text": [
      "('Epoca 15.', 'lr:', 0.0006411543)\n"
     ]
    },
    {
     "name": "stderr",
     "output_type": "stream",
     "text": [
      " 33%|███▎      | 207/628 [00:09<00:18, 22.66it/s]\n",
      "  0%|          | 0/55 [00:00<?, ?it/s]"
     ]
    },
    {
     "name": "stdout",
     "output_type": "stream",
     "text": [
      "\tsaving model 9000...\n",
      "\tdone\n",
      "Evaluating\n"
     ]
    },
    {
     "name": "stderr",
     "output_type": "stream",
     "text": [
      "\u001b[A\n",
      " 13%|#2        | 7/55 [00:00<00:00, 68.32it/s]\u001b[A\n",
      " 27%|##7       | 15/55 [00:00<00:00, 69.28it/s]\u001b[A\n",
      " 42%|####1     | 23/55 [00:00<00:00, 71.07it/s]\u001b[A\n",
      " 56%|#####6    | 31/55 [00:00<00:00, 72.05it/s]\u001b[A\n",
      " 67%|######7   | 37/55 [00:00<00:00, 66.12it/s]\u001b[A\n",
      " 78%|#######8  | 43/55 [00:00<00:00, 57.61it/s]\u001b[A\n",
      " 89%|########9 | 49/55 [00:00<00:00, 56.13it/s]\u001b[A\n",
      " 33%|███▎      | 210/628 [00:10<01:04,  6.43it/s]A"
     ]
    },
    {
     "name": "stdout",
     "output_type": "stream",
     "text": [
      "{'ade': 0.58250403, 'fde': 1.2724556}\n",
      "\t last loss:0.000772426, eval on validation:['ade: 0.58250403', 'fde: 1.2724556'], (best ade:0.56710494 at step 6600) \n"
     ]
    },
    {
     "name": "stderr",
     "output_type": "stream",
     "text": [
      " 81%|████████  | 506/628 [00:22<00:05, 22.33it/s]\n",
      "  0%|          | 0/55 [00:00<?, ?it/s]\u001b[A"
     ]
    },
    {
     "name": "stdout",
     "output_type": "stream",
     "text": [
      "\tsaving model 9300...\n",
      "\tdone\n",
      "Evaluating\n"
     ]
    },
    {
     "name": "stderr",
     "output_type": "stream",
     "text": [
      "\n",
      " 11%|#         | 6/55 [00:00<00:00, 50.72it/s]\u001b[A\n",
      " 20%|##        | 11/55 [00:00<00:00, 50.31it/s]\u001b[A\n",
      " 31%|###       | 17/55 [00:00<00:00, 51.39it/s]\u001b[A\n",
      " 42%|####1     | 23/55 [00:00<00:00, 53.58it/s]\u001b[A\n",
      " 53%|#####2    | 29/55 [00:00<00:00, 53.82it/s]\u001b[A\n",
      " 62%|######1   | 34/55 [00:00<00:00, 49.86it/s]\u001b[A\n",
      " 73%|#######2  | 40/55 [00:00<00:00, 51.36it/s]\u001b[A\n",
      " 84%|########3 | 46/55 [00:00<00:00, 52.62it/s]\u001b[A\n",
      " 96%|#########6| 53/55 [00:00<00:00, 55.83it/s]\u001b[A\n",
      "100%|##########| 55/55 [00:01<00:00, 54.02it/s]\u001b[A"
     ]
    },
    {
     "name": "stdout",
     "output_type": "stream",
     "text": [
      "{'ade': 0.5658097, 'fde': 1.2176373}\n",
      "\t last loss:0.000345475, eval on validation:['ade: 0.5658097', 'fde: 1.2176373'], (best ade:0.56710494 at step 6600) \n",
      "\t saving best model...\n",
      "\t done.\n"
     ]
    },
    {
     "name": "stderr",
     "output_type": "stream",
     "text": [
      "100%|██████████| 628/628 [00:28<00:00, 21.67it/s]\n",
      "  0%|          | 3/628 [00:00<00:27, 22.67it/s]"
     ]
    },
    {
     "name": "stdout",
     "output_type": "stream",
     "text": [
      "('Epoca 16.', 'lr:', 0.0006411543)\n"
     ]
    },
    {
     "name": "stderr",
     "output_type": "stream",
     "text": [
      " 29%|██▊       | 179/628 [00:07<00:18, 24.94it/s]\n",
      "  0%|          | 0/55 [00:00<?, ?it/s]\u001b[A"
     ]
    },
    {
     "name": "stdout",
     "output_type": "stream",
     "text": [
      "\tsaving model 9600...\n",
      "\tdone\n",
      "Evaluating\n"
     ]
    },
    {
     "name": "stderr",
     "output_type": "stream",
     "text": [
      "\n",
      " 13%|#2        | 7/55 [00:00<00:00, 63.37it/s]\u001b[A\n",
      " 24%|##3       | 13/55 [00:00<00:00, 61.88it/s]\u001b[A\n",
      " 36%|###6      | 20/55 [00:00<00:00, 62.40it/s]\u001b[A\n",
      " 49%|####9     | 27/55 [00:00<00:00, 62.58it/s]\u001b[A\n",
      " 62%|######1   | 34/55 [00:00<00:00, 63.77it/s]\u001b[A\n",
      " 75%|#######4  | 41/55 [00:00<00:00, 64.35it/s]\u001b[A\n",
      " 87%|########7 | 48/55 [00:00<00:00, 63.63it/s]\u001b[A\n",
      " 29%|██▉       | 182/628 [00:08<01:06,  6.69it/s]A"
     ]
    },
    {
     "name": "stdout",
     "output_type": "stream",
     "text": [
      "{'ade': 0.582364, 'fde': 1.260087}\n",
      "\t last loss:0.000817564, eval on validation:['ade: 0.582364', 'fde: 1.260087'], (best ade:0.5658097 at step 9300) \n"
     ]
    },
    {
     "name": "stderr",
     "output_type": "stream",
     "text": [
      " 76%|███████▌  | 477/628 [00:21<00:05, 26.51it/s]\n",
      "  0%|          | 0/55 [00:00<?, ?it/s]\u001b[A"
     ]
    },
    {
     "name": "stdout",
     "output_type": "stream",
     "text": [
      "\tsaving model 9900...\n",
      "\tdone\n",
      "Evaluating\n"
     ]
    },
    {
     "name": "stderr",
     "output_type": "stream",
     "text": [
      "\n",
      " 15%|#4        | 8/55 [00:00<00:00, 72.57it/s]\u001b[A\n",
      " 31%|###       | 17/55 [00:00<00:00, 76.24it/s]\u001b[A\n",
      " 47%|####7     | 26/55 [00:00<00:00, 79.71it/s]\u001b[A\n",
      " 65%|######5   | 36/55 [00:00<00:00, 83.27it/s]\u001b[A\n",
      " 84%|########3 | 46/55 [00:00<00:00, 85.52it/s]\u001b[A\n",
      " 77%|███████▋  | 483/628 [00:22<00:13, 10.67it/s]A"
     ]
    },
    {
     "name": "stdout",
     "output_type": "stream",
     "text": [
      "{'ade': 0.5690435, 'fde': 1.2278867}\n",
      "\t last loss:0.000505462, eval on validation:['ade: 0.5690435', 'fde: 1.2278867'], (best ade:0.5658097 at step 9300) \n"
     ]
    },
    {
     "name": "stderr",
     "output_type": "stream",
     "text": [
      "100%|██████████| 628/628 [00:28<00:00, 22.25it/s]\n",
      "  0%|          | 1/628 [00:00<01:10,  8.92it/s]"
     ]
    },
    {
     "name": "stdout",
     "output_type": "stream",
     "text": [
      "('Epoca 17.', 'lr:', 0.0005449812)\n"
     ]
    },
    {
     "name": "stderr",
     "output_type": "stream",
     "text": [
      " 24%|██▍       | 151/628 [00:06<00:18, 26.24it/s]\n",
      "  0%|          | 0/55 [00:00<?, ?it/s]\u001b[A"
     ]
    },
    {
     "name": "stdout",
     "output_type": "stream",
     "text": [
      "\tsaving model 10200...\n",
      "\tdone\n",
      "Evaluating\n"
     ]
    },
    {
     "name": "stderr",
     "output_type": "stream",
     "text": [
      "\n",
      " 16%|#6        | 9/55 [00:00<00:00, 88.52it/s]\u001b[A\n",
      " 29%|##9       | 16/55 [00:00<00:00, 78.99it/s]\u001b[A\n",
      " 44%|####3     | 24/55 [00:00<00:00, 79.02it/s]\u001b[A\n",
      " 62%|######1   | 34/55 [00:00<00:00, 82.64it/s]\u001b[A\n",
      " 78%|#######8  | 43/55 [00:00<00:00, 84.15it/s]\u001b[A\n",
      " 95%|#########4| 52/55 [00:00<00:00, 84.73it/s]\u001b[A\n",
      " 25%|██▍       | 154/628 [00:07<00:59,  7.93it/s]A"
     ]
    },
    {
     "name": "stdout",
     "output_type": "stream",
     "text": [
      "{'ade': 0.57642037, 'fde': 1.2575262}\n",
      "\t last loss:0.000572492, eval on validation:['ade: 0.57642037', 'fde: 1.2575262'], (best ade:0.5658097 at step 9300) \n"
     ]
    },
    {
     "name": "stderr",
     "output_type": "stream",
     "text": [
      " 72%|███████▏  | 450/628 [00:19<00:08, 21.96it/s]\n",
      "  0%|          | 0/55 [00:00<?, ?it/s]\u001b[A"
     ]
    },
    {
     "name": "stdout",
     "output_type": "stream",
     "text": [
      "\tsaving model 10500...\n",
      "\tdone\n",
      "Evaluating\n"
     ]
    },
    {
     "name": "stderr",
     "output_type": "stream",
     "text": [
      "\n",
      " 13%|#2        | 7/55 [00:00<00:00, 69.96it/s]\u001b[A\n",
      " 27%|##7       | 15/55 [00:00<00:00, 71.66it/s]\u001b[A\n",
      " 40%|####      | 22/55 [00:00<00:00, 69.44it/s]\u001b[A\n",
      " 55%|#####4    | 30/55 [00:00<00:00, 71.01it/s]\u001b[A\n",
      " 69%|######9   | 38/55 [00:00<00:00, 72.16it/s]\u001b[A\n",
      " 84%|########3 | 46/55 [00:00<00:00, 72.46it/s]\u001b[A\n",
      " 98%|#########8| 54/55 [00:00<00:00, 73.81it/s]\u001b[A\n",
      "100%|##########| 55/55 [00:00<00:00, 72.17it/s]\u001b[A"
     ]
    },
    {
     "name": "stdout",
     "output_type": "stream",
     "text": [
      "{'ade': 0.5585938, 'fde': 1.1992215}\n",
      "\t last loss:0.000662677, eval on validation:['ade: 0.5585938', 'fde: 1.1992215'], (best ade:0.5658097 at step 9300) \n",
      "\t saving best model...\n",
      "\t done.\n"
     ]
    },
    {
     "name": "stderr",
     "output_type": "stream",
     "text": [
      "100%|██████████| 628/628 [00:28<00:00, 22.02it/s]\n",
      "  0%|          | 1/628 [00:00<01:13,  8.54it/s]"
     ]
    },
    {
     "name": "stdout",
     "output_type": "stream",
     "text": [
      "('Epoca 18.', 'lr:', 0.0005449812)\n"
     ]
    },
    {
     "name": "stderr",
     "output_type": "stream",
     "text": [
      " 19%|█▉        | 121/628 [00:04<00:20, 25.07it/s]\n",
      "  0%|          | 0/55 [00:00<?, ?it/s]\u001b[A"
     ]
    },
    {
     "name": "stdout",
     "output_type": "stream",
     "text": [
      "\tsaving model 10800...\n",
      "\tdone\n",
      "Evaluating\n"
     ]
    },
    {
     "name": "stderr",
     "output_type": "stream",
     "text": [
      "\n",
      " 15%|#4        | 8/55 [00:00<00:00, 76.88it/s]\u001b[A\n",
      " 31%|###       | 17/55 [00:00<00:00, 79.34it/s]\u001b[A\n",
      " 47%|####7     | 26/55 [00:00<00:00, 81.10it/s]\u001b[A\n",
      " 64%|######3   | 35/55 [00:00<00:00, 81.99it/s]\u001b[A\n",
      " 80%|########  | 44/55 [00:00<00:00, 82.06it/s]\u001b[A\n",
      " 96%|#########6| 53/55 [00:00<00:00, 83.10it/s]\u001b[A\n",
      " 20%|██        | 127/628 [00:05<00:51,  9.65it/s]A"
     ]
    },
    {
     "name": "stdout",
     "output_type": "stream",
     "text": [
      "{'ade': 0.58405274, 'fde': 1.2814877}\n",
      "\t last loss:0.000410660, eval on validation:['ade: 0.58405274', 'fde: 1.2814877'], (best ade:0.5585938 at step 10500) \n"
     ]
    },
    {
     "name": "stderr",
     "output_type": "stream",
     "text": [
      " 67%|██████▋   | 421/628 [00:17<00:08, 24.63it/s]\n",
      "  0%|          | 0/55 [00:00<?, ?it/s]\u001b[A"
     ]
    },
    {
     "name": "stdout",
     "output_type": "stream",
     "text": [
      "\tsaving model 11100...\n",
      "\tdone\n",
      "Evaluating\n"
     ]
    },
    {
     "name": "stderr",
     "output_type": "stream",
     "text": [
      "\n",
      " 15%|#4        | 8/55 [00:00<00:00, 77.01it/s]\u001b[A\n",
      " 31%|###       | 17/55 [00:00<00:00, 78.78it/s]\u001b[A\n",
      " 47%|####7     | 26/55 [00:00<00:00, 79.79it/s]\u001b[A\n",
      " 64%|######3   | 35/55 [00:00<00:00, 81.30it/s]\u001b[A\n",
      " 78%|#######8  | 43/55 [00:00<00:00, 80.87it/s]\u001b[A\n",
      " 95%|#########4| 52/55 [00:00<00:00, 81.24it/s]\u001b[A\n",
      " 68%|██████▊   | 427/628 [00:18<00:20,  9.78it/s]A"
     ]
    },
    {
     "name": "stdout",
     "output_type": "stream",
     "text": [
      "{'ade': 0.5703123, 'fde': 1.2292912}\n",
      "\t last loss:0.000439946, eval on validation:['ade: 0.5703123', 'fde: 1.2292912'], (best ade:0.5585938 at step 10500) \n"
     ]
    },
    {
     "name": "stderr",
     "output_type": "stream",
     "text": [
      "100%|██████████| 628/628 [00:27<00:00, 22.68it/s]\n",
      "  0%|          | 2/628 [00:00<00:44, 14.02it/s]"
     ]
    },
    {
     "name": "stdout",
     "output_type": "stream",
     "text": [
      "('Epoca 19.', 'lr:', 0.00046323403)\n"
     ]
    },
    {
     "name": "stderr",
     "output_type": "stream",
     "text": [
      " 15%|█▍        | 94/628 [00:04<00:22, 24.01it/s]\n",
      "  0%|          | 0/55 [00:00<?, ?it/s]\u001b[A"
     ]
    },
    {
     "name": "stdout",
     "output_type": "stream",
     "text": [
      "\tsaving model 11400...\n",
      "\tdone\n",
      "Evaluating\n"
     ]
    },
    {
     "name": "stderr",
     "output_type": "stream",
     "text": [
      "\n",
      " 15%|#4        | 8/55 [00:00<00:00, 78.29it/s]\u001b[A\n",
      " 31%|###       | 17/55 [00:00<00:00, 79.85it/s]\u001b[A\n",
      " 47%|####7     | 26/55 [00:00<00:00, 81.24it/s]\u001b[A\n",
      " 64%|######3   | 35/55 [00:00<00:00, 82.08it/s]\u001b[A\n",
      " 80%|########  | 44/55 [00:00<00:00, 83.25it/s]\u001b[A\n",
      " 96%|#########6| 53/55 [00:00<00:00, 83.51it/s]\u001b[A\n",
      " 15%|█▌        | 97/628 [00:05<01:07,  7.81it/s][A"
     ]
    },
    {
     "name": "stdout",
     "output_type": "stream",
     "text": [
      "{'ade': 0.59475994, 'fde': 1.3044178}\n",
      "\t last loss:0.000469237, eval on validation:['ade: 0.59475994', 'fde: 1.3044178'], (best ade:0.5585938 at step 10500) \n"
     ]
    },
    {
     "name": "stderr",
     "output_type": "stream",
     "text": [
      " 63%|██████▎   | 395/628 [00:17<00:09, 24.13it/s]\n",
      "  0%|          | 0/55 [00:00<?, ?it/s]\u001b[A"
     ]
    },
    {
     "name": "stdout",
     "output_type": "stream",
     "text": [
      "\tsaving model 11700...\n",
      "\tdone\n",
      "Evaluating\n"
     ]
    },
    {
     "name": "stderr",
     "output_type": "stream",
     "text": [
      "\n",
      " 13%|#2        | 7/55 [00:00<00:00, 64.41it/s]\u001b[A\n",
      " 29%|##9       | 16/55 [00:00<00:00, 68.84it/s]\u001b[A\n",
      " 45%|####5     | 25/55 [00:00<00:00, 71.84it/s]\u001b[A\n",
      " 60%|######    | 33/55 [00:00<00:00, 73.70it/s]\u001b[A\n",
      " 76%|#######6  | 42/55 [00:00<00:00, 76.20it/s]\u001b[A\n",
      " 93%|#########2| 51/55 [00:00<00:00, 77.93it/s]\u001b[A\n",
      " 63%|██████▎   | 398/628 [00:18<00:30,  7.62it/s]A"
     ]
    },
    {
     "name": "stdout",
     "output_type": "stream",
     "text": [
      "{'ade': 0.5822713, 'fde': 1.2741721}\n",
      "\t last loss:0.000358287, eval on validation:['ade: 0.5822713', 'fde: 1.2741721'], (best ade:0.5585938 at step 10500) \n"
     ]
    },
    {
     "name": "stderr",
     "output_type": "stream",
     "text": [
      "100%|██████████| 628/628 [00:29<00:00, 24.26it/s]\n",
      "  0%|          | 2/628 [00:00<00:33, 18.86it/s]"
     ]
    },
    {
     "name": "stdout",
     "output_type": "stream",
     "text": [
      "('Epoca 20.', 'lr:', 0.00046323403)\n"
     ]
    },
    {
     "name": "stderr",
     "output_type": "stream",
     "text": [
      " 10%|█         | 65/628 [00:02<00:21, 26.00it/s]\n",
      "  0%|          | 0/55 [00:00<?, ?it/s]\u001b[A"
     ]
    },
    {
     "name": "stdout",
     "output_type": "stream",
     "text": [
      "\tsaving model 12000...\n",
      "\tdone\n",
      "Evaluating\n"
     ]
    },
    {
     "name": "stderr",
     "output_type": "stream",
     "text": [
      "\n",
      " 15%|#4        | 8/55 [00:00<00:00, 74.73it/s]\u001b[A\n",
      " 31%|###       | 17/55 [00:00<00:00, 78.43it/s]\u001b[A\n",
      " 49%|####9     | 27/55 [00:00<00:00, 82.24it/s]\u001b[A\n",
      " 67%|######7   | 37/55 [00:00<00:00, 85.01it/s]\u001b[A\n",
      " 85%|########5 | 47/55 [00:00<00:00, 87.08it/s]\u001b[A\n",
      " 11%|█▏        | 71/628 [00:03<00:52, 10.58it/s][A"
     ]
    },
    {
     "name": "stdout",
     "output_type": "stream",
     "text": [
      "{'ade': 0.57470506, 'fde': 1.2472532}\n",
      "\t last loss:0.000415478, eval on validation:['ade: 0.57470506', 'fde: 1.2472532'], (best ade:0.5585938 at step 10500) \n"
     ]
    },
    {
     "name": "stderr",
     "output_type": "stream",
     "text": [
      " 58%|█████▊    | 365/628 [00:15<00:13, 19.89it/s]"
     ]
    },
    {
     "name": "stdout",
     "output_type": "stream",
     "text": [
      "\tsaving model 12300...\n"
     ]
    },
    {
     "name": "stderr",
     "output_type": "stream",
     "text": [
      "\n",
      "  0%|          | 0/55 [00:00<?, ?it/s]\u001b[A\n",
      " 13%|#2        | 7/55 [00:00<00:00, 64.97it/s]\u001b[A"
     ]
    },
    {
     "name": "stdout",
     "output_type": "stream",
     "text": [
      "\tdone\n",
      "Evaluating\n"
     ]
    },
    {
     "name": "stderr",
     "output_type": "stream",
     "text": [
      "\n",
      " 25%|##5       | 14/55 [00:00<00:00, 64.41it/s]\u001b[A\n",
      " 38%|###8      | 21/55 [00:00<00:00, 63.77it/s]\u001b[A\n",
      " 51%|#####     | 28/55 [00:00<00:00, 64.80it/s]\u001b[A\n",
      " 64%|######3   | 35/55 [00:00<00:00, 65.28it/s]\u001b[A\n",
      " 75%|#######4  | 41/55 [00:00<00:00, 63.00it/s]\u001b[A\n",
      " 85%|########5 | 47/55 [00:00<00:00, 57.47it/s]\u001b[A\n",
      " 98%|#########8| 54/55 [00:00<00:00, 59.38it/s]\u001b[A\n",
      " 59%|█████▉    | 370/628 [00:17<00:33,  7.69it/s]A"
     ]
    },
    {
     "name": "stdout",
     "output_type": "stream",
     "text": [
      "{'ade': 0.56777054, 'fde': 1.2317424}\n",
      "\t last loss:0.000519949, eval on validation:['ade: 0.56777054', 'fde: 1.2317424'], (best ade:0.5585938 at step 10500) \n"
     ]
    },
    {
     "name": "stderr",
     "output_type": "stream",
     "text": [
      "100%|██████████| 628/628 [00:28<00:00, 25.95it/s]\n",
      "  0%|          | 2/628 [00:00<00:39, 15.89it/s]"
     ]
    },
    {
     "name": "stdout",
     "output_type": "stream",
     "text": [
      "('Epoca 21.', 'lr:', 0.00039374892)\n"
     ]
    },
    {
     "name": "stderr",
     "output_type": "stream",
     "text": [
      "  6%|▌         | 38/628 [00:01<00:22, 26.16it/s]\n",
      "  0%|          | 0/55 [00:00<?, ?it/s]\u001b[A"
     ]
    },
    {
     "name": "stdout",
     "output_type": "stream",
     "text": [
      "\tsaving model 12600...\n",
      "\tdone\n",
      "Evaluating\n"
     ]
    },
    {
     "name": "stderr",
     "output_type": "stream",
     "text": [
      "\n",
      " 16%|#6        | 9/55 [00:00<00:00, 84.97it/s]\u001b[A\n",
      " 33%|###2      | 18/55 [00:00<00:00, 85.78it/s]\u001b[A\n",
      " 49%|####9     | 27/55 [00:00<00:00, 84.50it/s]\u001b[A\n",
      " 65%|######5   | 36/55 [00:00<00:00, 84.91it/s]\u001b[A\n",
      " 82%|########1 | 45/55 [00:00<00:00, 84.35it/s]\u001b[A\n",
      " 98%|#########8| 54/55 [00:00<00:00, 84.81it/s]\u001b[A\n",
      "  7%|▋         | 41/628 [00:02<01:12,  8.14it/s][A"
     ]
    },
    {
     "name": "stdout",
     "output_type": "stream",
     "text": [
      "{'ade': 0.5701758, 'fde': 1.2353742}\n",
      "\t last loss:0.000374079, eval on validation:['ade: 0.5701758', 'fde: 1.2353742'], (best ade:0.5585938 at step 10500) \n"
     ]
    },
    {
     "name": "stderr",
     "output_type": "stream",
     "text": [
      " 54%|█████▍    | 338/628 [00:14<00:11, 24.45it/s]\n",
      "  0%|          | 0/55 [00:00<?, ?it/s]\u001b[A"
     ]
    },
    {
     "name": "stdout",
     "output_type": "stream",
     "text": [
      "\tsaving model 12900...\n",
      "\tdone\n",
      "Evaluating\n"
     ]
    },
    {
     "name": "stderr",
     "output_type": "stream",
     "text": [
      "\n",
      " 13%|#2        | 7/55 [00:00<00:00, 65.49it/s]\u001b[A\n",
      " 29%|##9       | 16/55 [00:00<00:00, 69.79it/s]\u001b[A\n",
      " 45%|####5     | 25/55 [00:00<00:00, 72.96it/s]\u001b[A\n",
      " 62%|######1   | 34/55 [00:00<00:00, 76.41it/s]\u001b[A\n",
      " 78%|#######8  | 43/55 [00:00<00:00, 78.78it/s]\u001b[A\n",
      " 95%|#########4| 52/55 [00:00<00:00, 80.46it/s]\u001b[A\n",
      " 54%|█████▍    | 341/628 [00:15<00:37,  7.61it/s]A"
     ]
    },
    {
     "name": "stdout",
     "output_type": "stream",
     "text": [
      "{'ade': 0.58107543, 'fde': 1.2656385}\n",
      "\t last loss:0.000230762, eval on validation:['ade: 0.58107543', 'fde: 1.2656385'], (best ade:0.5585938 at step 10500) \n"
     ]
    },
    {
     "name": "stderr",
     "output_type": "stream",
     "text": [
      "100%|██████████| 628/628 [00:28<00:00, 22.25it/s]\n",
      "  0%|          | 1/628 [00:00<01:13,  8.53it/s]"
     ]
    },
    {
     "name": "stdout",
     "output_type": "stream",
     "text": [
      "('Epoca 22.', 'lr:', 0.00039374892)\n"
     ]
    },
    {
     "name": "stderr",
     "output_type": "stream",
     "text": [
      "  2%|▏         | 10/628 [00:00<00:41, 14.87it/s]\n",
      "  0%|          | 0/55 [00:00<?, ?it/s]\u001b[A"
     ]
    },
    {
     "name": "stdout",
     "output_type": "stream",
     "text": [
      "\tsaving model 13200...\n",
      "\tdone\n",
      "Evaluating\n"
     ]
    },
    {
     "name": "stderr",
     "output_type": "stream",
     "text": [
      "\n",
      " 15%|#4        | 8/55 [00:00<00:00, 77.32it/s]\u001b[A\n",
      " 31%|###       | 17/55 [00:00<00:00, 79.53it/s]\u001b[A\n",
      " 47%|####7     | 26/55 [00:00<00:00, 80.50it/s]\u001b[A\n",
      " 64%|######3   | 35/55 [00:00<00:00, 81.60it/s]\u001b[A\n",
      " 78%|#######8  | 43/55 [00:00<00:00, 80.99it/s]\u001b[A\n",
      " 93%|#########2| 51/55 [00:00<00:00, 80.28it/s]\u001b[A\n",
      "  2%|▏         | 15/628 [00:01<01:31,  6.73it/s][A"
     ]
    },
    {
     "name": "stdout",
     "output_type": "stream",
     "text": [
      "{'ade': 0.5701009, 'fde': 1.2347155}\n",
      "\t last loss:0.000410125, eval on validation:['ade: 0.5701009', 'fde: 1.2347155'], (best ade:0.5585938 at step 10500) \n"
     ]
    },
    {
     "name": "stderr",
     "output_type": "stream",
     "text": [
      " 49%|████▉     | 309/628 [00:13<00:12, 24.95it/s]\n",
      "  0%|          | 0/55 [00:00<?, ?it/s]\u001b[A"
     ]
    },
    {
     "name": "stdout",
     "output_type": "stream",
     "text": [
      "\tsaving model 13500...\n",
      "\tdone\n",
      "Evaluating\n"
     ]
    },
    {
     "name": "stderr",
     "output_type": "stream",
     "text": [
      "\n",
      " 15%|#4        | 8/55 [00:00<00:00, 79.33it/s]\u001b[A\n",
      " 31%|###       | 17/55 [00:00<00:00, 81.42it/s]\u001b[A\n",
      " 49%|####9     | 27/55 [00:00<00:00, 84.75it/s]\u001b[A\n",
      " 67%|######7   | 37/55 [00:00<00:00, 87.32it/s]\u001b[A\n",
      " 85%|########5 | 47/55 [00:00<00:00, 88.84it/s]\u001b[A\n",
      " 50%|█████     | 315/628 [00:14<00:30, 10.35it/s]A"
     ]
    },
    {
     "name": "stdout",
     "output_type": "stream",
     "text": [
      "{'ade': 0.56046027, 'fde': 1.2099509}\n",
      "\t last loss:0.000647868, eval on validation:['ade: 0.56046027', 'fde: 1.2099509'], (best ade:0.5585938 at step 10500) \n"
     ]
    },
    {
     "name": "stderr",
     "output_type": "stream",
     "text": [
      " 97%|█████████▋| 611/628 [00:26<00:00, 20.30it/s]"
     ]
    },
    {
     "name": "stdout",
     "output_type": "stream",
     "text": [
      "\tsaving model 13800...\n"
     ]
    },
    {
     "name": "stderr",
     "output_type": "stream",
     "text": [
      "\n",
      "  0%|          | 0/55 [00:00<?, ?it/s]\u001b[A\n",
      " 13%|#2        | 7/55 [00:00<00:00, 65.19it/s]\u001b[A"
     ]
    },
    {
     "name": "stdout",
     "output_type": "stream",
     "text": [
      "\tdone\n",
      "Evaluating\n"
     ]
    },
    {
     "name": "stderr",
     "output_type": "stream",
     "text": [
      "\n",
      " 25%|##5       | 14/55 [00:00<00:00, 64.44it/s]\u001b[A\n",
      " 38%|###8      | 21/55 [00:00<00:00, 65.15it/s]\u001b[A\n",
      " 51%|#####     | 28/55 [00:00<00:00, 65.88it/s]\u001b[A\n",
      " 64%|######3   | 35/55 [00:00<00:00, 66.16it/s]\u001b[A\n",
      " 76%|#######6  | 42/55 [00:00<00:00, 65.61it/s]\u001b[A\n",
      " 87%|########7 | 48/55 [00:00<00:00, 61.99it/s]\u001b[A\n",
      " 98%|█████████▊| 614/628 [00:27<00:02,  6.30it/s]A"
     ]
    },
    {
     "name": "stdout",
     "output_type": "stream",
     "text": [
      "{'ade': 0.56397724, 'fde': 1.2203157}\n",
      "\t last loss:0.000324095, eval on validation:['ade: 0.56397724', 'fde: 1.2203157'], (best ade:0.5585938 at step 10500) \n"
     ]
    },
    {
     "name": "stderr",
     "output_type": "stream",
     "text": [
      "100%|██████████| 628/628 [00:28<00:00, 21.93it/s]\n",
      "  0%|          | 1/628 [00:00<01:22,  7.59it/s]"
     ]
    },
    {
     "name": "stdout",
     "output_type": "stream",
     "text": [
      "('Epoca 23.', 'lr:', 0.0003346866)\n"
     ]
    },
    {
     "name": "stderr",
     "output_type": "stream",
     "text": [
      " 45%|████▌     | 283/628 [00:12<00:14, 23.99it/s]\n",
      "  0%|          | 0/55 [00:00<?, ?it/s]\u001b[A"
     ]
    },
    {
     "name": "stdout",
     "output_type": "stream",
     "text": [
      "\tsaving model 14100...\n",
      "\tdone\n",
      "Evaluating\n"
     ]
    },
    {
     "name": "stderr",
     "output_type": "stream",
     "text": [
      "\n",
      " 16%|#6        | 9/55 [00:00<00:00, 82.81it/s]\u001b[A\n",
      " 33%|###2      | 18/55 [00:00<00:00, 83.30it/s]\u001b[A\n",
      " 49%|####9     | 27/55 [00:00<00:00, 84.00it/s]\u001b[A\n",
      " 65%|######5   | 36/55 [00:00<00:00, 83.65it/s]\u001b[A\n",
      " 82%|########1 | 45/55 [00:00<00:00, 83.81it/s]\u001b[A\n",
      " 95%|#########4| 52/55 [00:00<00:00, 77.73it/s]\u001b[A\n",
      " 46%|████▌     | 286/628 [00:13<00:44,  7.71it/s]A"
     ]
    },
    {
     "name": "stdout",
     "output_type": "stream",
     "text": [
      "{'ade': 0.5604627, 'fde': 1.2094556}\n",
      "\t last loss:0.000258811, eval on validation:['ade: 0.5604627', 'fde: 1.2094556'], (best ade:0.5585938 at step 10500) \n"
     ]
    },
    {
     "name": "stderr",
     "output_type": "stream",
     "text": [
      " 93%|█████████▎| 583/628 [00:25<00:01, 24.26it/s]\n",
      "  0%|          | 0/55 [00:00<?, ?it/s]"
     ]
    },
    {
     "name": "stdout",
     "output_type": "stream",
     "text": [
      "\tsaving model 14400...\n",
      "\tdone\n",
      "Evaluating\n"
     ]
    },
    {
     "name": "stderr",
     "output_type": "stream",
     "text": [
      "\u001b[A\n",
      " 13%|#2        | 7/55 [00:00<00:00, 65.47it/s]\u001b[A\n",
      " 25%|##5       | 14/55 [00:00<00:00, 65.83it/s]\u001b[A\n",
      " 38%|###8      | 21/55 [00:00<00:00, 65.63it/s]\u001b[A\n",
      " 51%|#####     | 28/55 [00:00<00:00, 65.68it/s]\u001b[A\n",
      " 64%|######3   | 35/55 [00:00<00:00, 65.04it/s]\u001b[A\n",
      " 75%|#######4  | 41/55 [00:00<00:00, 61.09it/s]\u001b[A\n",
      " 87%|########7 | 48/55 [00:00<00:00, 62.28it/s]\u001b[A\n",
      "100%|##########| 55/55 [00:00<00:00, 63.37it/s]\u001b[A"
     ]
    },
    {
     "name": "stdout",
     "output_type": "stream",
     "text": [
      "{'ade': 0.55309594, 'fde': 1.1893407}\n",
      "\t last loss:0.000419353, eval on validation:['ade: 0.55309594', 'fde: 1.1893407'], (best ade:0.5585938 at step 10500) \n",
      "\t saving best model...\n"
     ]
    },
    {
     "name": "stderr",
     "output_type": "stream",
     "text": [
      "100%|██████████| 628/628 [00:28<00:00, 20.72it/s]\n",
      "  0%|          | 2/628 [00:00<00:43, 14.35it/s]"
     ]
    },
    {
     "name": "stdout",
     "output_type": "stream",
     "text": [
      "\t done.\n",
      "('Epoca 24.', 'lr:', 0.0003346866)\n"
     ]
    },
    {
     "name": "stderr",
     "output_type": "stream",
     "text": [
      " 41%|████      | 255/628 [00:10<00:14, 26.34it/s]\n",
      "  0%|          | 0/55 [00:00<?, ?it/s]\u001b[A"
     ]
    },
    {
     "name": "stdout",
     "output_type": "stream",
     "text": [
      "\tsaving model 14700...\n",
      "\tdone\n",
      "Evaluating\n"
     ]
    },
    {
     "name": "stderr",
     "output_type": "stream",
     "text": [
      "\n",
      " 18%|#8        | 10/55 [00:00<00:00, 92.41it/s]\u001b[A\n",
      " 35%|###4      | 19/55 [00:00<00:00, 90.83it/s]\u001b[A\n",
      " 53%|#####2    | 29/55 [00:00<00:00, 90.69it/s]\u001b[A\n",
      " 69%|######9   | 38/55 [00:00<00:00, 87.96it/s]\u001b[A\n",
      " 85%|########5 | 47/55 [00:00<00:00, 88.21it/s]\u001b[A\n",
      " 41%|████      | 258/628 [00:11<00:43,  8.52it/s]A"
     ]
    },
    {
     "name": "stdout",
     "output_type": "stream",
     "text": [
      "{'ade': 0.5678637, 'fde': 1.2323499}\n",
      "\t last loss:0.001025884, eval on validation:['ade: 0.5678637', 'fde: 1.2323499'], (best ade:0.55309594 at step 14400) \n"
     ]
    },
    {
     "name": "stderr",
     "output_type": "stream",
     "text": [
      " 88%|████████▊ | 554/628 [00:24<00:03, 20.68it/s]"
     ]
    },
    {
     "name": "stdout",
     "output_type": "stream",
     "text": [
      "\tsaving model 15000...\n"
     ]
    },
    {
     "name": "stderr",
     "output_type": "stream",
     "text": [
      "\n",
      "  0%|          | 0/55 [00:00<?, ?it/s]\u001b[A\n",
      " 13%|#2        | 7/55 [00:00<00:00, 65.85it/s]\u001b[A"
     ]
    },
    {
     "name": "stdout",
     "output_type": "stream",
     "text": [
      "\tdone\n",
      "Evaluating\n"
     ]
    },
    {
     "name": "stderr",
     "output_type": "stream",
     "text": [
      "\n",
      " 27%|##7       | 15/55 [00:00<00:00, 67.68it/s]\u001b[A\n",
      " 42%|####1     | 23/55 [00:00<00:00, 69.79it/s]\u001b[A\n",
      " 56%|#####6    | 31/55 [00:00<00:00, 71.57it/s]\u001b[A\n",
      " 71%|#######   | 39/55 [00:00<00:00, 71.91it/s]\u001b[A\n",
      " 85%|########5 | 47/55 [00:00<00:00, 72.64it/s]\u001b[A\n",
      " 98%|#########8| 54/55 [00:00<00:00, 69.83it/s]\u001b[A\n",
      " 89%|████████▊ | 557/628 [00:25<00:10,  6.61it/s]A"
     ]
    },
    {
     "name": "stdout",
     "output_type": "stream",
     "text": [
      "{'ade': 0.56939363, 'fde': 1.2430532}\n",
      "\t last loss:0.000389247, eval on validation:['ade: 0.56939363', 'fde: 1.2430532'], (best ade:0.55309594 at step 14400) \n"
     ]
    },
    {
     "name": "stderr",
     "output_type": "stream",
     "text": [
      "100%|██████████| 628/628 [00:28<00:00, 21.94it/s]\n",
      "  0%|          | 1/628 [00:00<01:14,  8.38it/s]"
     ]
    },
    {
     "name": "stdout",
     "output_type": "stream",
     "text": [
      "('Epoca 25.', 'lr:', 0.00028448363)\n"
     ]
    },
    {
     "name": "stderr",
     "output_type": "stream",
     "text": [
      " 36%|███▌      | 226/628 [00:09<00:16, 24.58it/s]\n",
      "  0%|          | 0/55 [00:00<?, ?it/s]\u001b[A"
     ]
    },
    {
     "name": "stdout",
     "output_type": "stream",
     "text": [
      "\tsaving model 15300...\n",
      "\tdone\n",
      "Evaluating\n"
     ]
    },
    {
     "name": "stderr",
     "output_type": "stream",
     "text": [
      "\n",
      " 16%|#6        | 9/55 [00:00<00:00, 83.31it/s]\u001b[A\n",
      " 33%|###2      | 18/55 [00:00<00:00, 83.34it/s]\u001b[A\n",
      " 47%|####7     | 26/55 [00:00<00:00, 82.27it/s]\u001b[A\n",
      " 62%|######1   | 34/55 [00:00<00:00, 78.84it/s]\u001b[A\n",
      " 78%|#######8  | 43/55 [00:00<00:00, 80.14it/s]\u001b[A\n",
      " 93%|#########2| 51/55 [00:00<00:00, 79.27it/s]\u001b[A\n",
      " 36%|███▋      | 229/628 [00:10<00:51,  7.75it/s]A"
     ]
    },
    {
     "name": "stdout",
     "output_type": "stream",
     "text": [
      "{'ade': 0.561322, 'fde': 1.2183762}\n",
      "\t last loss:0.000371497, eval on validation:['ade: 0.561322', 'fde: 1.2183762'], (best ade:0.55309594 at step 14400) \n"
     ]
    },
    {
     "name": "stderr",
     "output_type": "stream",
     "text": [
      " 84%|████████▍ | 526/628 [00:22<00:04, 24.37it/s]\n",
      "  0%|          | 0/55 [00:00<?, ?it/s]\u001b[A"
     ]
    },
    {
     "name": "stdout",
     "output_type": "stream",
     "text": [
      "\tsaving model 15600...\n",
      "\tdone\n",
      "Evaluating\n"
     ]
    },
    {
     "name": "stderr",
     "output_type": "stream",
     "text": [
      "\n",
      " 16%|#6        | 9/55 [00:00<00:00, 82.44it/s]\u001b[A\n",
      " 33%|###2      | 18/55 [00:00<00:00, 82.44it/s]\u001b[A\n",
      " 49%|####9     | 27/55 [00:00<00:00, 83.05it/s]\u001b[A\n",
      " 62%|######1   | 34/55 [00:00<00:00, 77.76it/s]\u001b[A\n",
      " 76%|#######6  | 42/55 [00:00<00:00, 78.01it/s]\u001b[A\n",
      " 93%|#########2| 51/55 [00:00<00:00, 79.34it/s]\u001b[A\n",
      " 84%|████████▍ | 529/628 [00:23<00:13,  7.61it/s]A"
     ]
    },
    {
     "name": "stdout",
     "output_type": "stream",
     "text": [
      "{'ade': 0.56483006, 'fde': 1.2290682}\n",
      "\t last loss:0.000403740, eval on validation:['ade: 0.56483006', 'fde: 1.2290682'], (best ade:0.55309594 at step 14400) \n"
     ]
    },
    {
     "name": "stderr",
     "output_type": "stream",
     "text": [
      "100%|██████████| 628/628 [00:27<00:00, 24.01it/s]\n",
      "  0%|          | 1/628 [00:00<01:09,  9.03it/s]"
     ]
    },
    {
     "name": "stdout",
     "output_type": "stream",
     "text": [
      "('Epoca 26.', 'lr:', 0.00028448363)\n"
     ]
    },
    {
     "name": "stderr",
     "output_type": "stream",
     "text": [
      " 32%|███▏      | 198/628 [00:09<00:18, 23.73it/s]\n",
      "  0%|          | 0/55 [00:00<?, ?it/s]\u001b[A"
     ]
    },
    {
     "name": "stdout",
     "output_type": "stream",
     "text": [
      "\tsaving model 15900...\n",
      "\tdone\n",
      "Evaluating\n"
     ]
    },
    {
     "name": "stderr",
     "output_type": "stream",
     "text": [
      "\n",
      " 16%|#6        | 9/55 [00:00<00:00, 81.86it/s]\u001b[A\n",
      " 31%|###       | 17/55 [00:00<00:00, 78.93it/s]\u001b[A\n",
      " 47%|####7     | 26/55 [00:00<00:00, 80.18it/s]\u001b[A\n",
      " 64%|######3   | 35/55 [00:00<00:00, 81.02it/s]\u001b[A\n",
      " 80%|########  | 44/55 [00:00<00:00, 81.87it/s]\u001b[A\n",
      " 96%|#########6| 53/55 [00:00<00:00, 82.63it/s]\u001b[A\n",
      " 32%|███▏      | 201/628 [00:10<00:55,  7.68it/s]A"
     ]
    },
    {
     "name": "stdout",
     "output_type": "stream",
     "text": [
      "{'ade': 0.5592953, 'fde': 1.2096446}\n",
      "\t last loss:0.000586830, eval on validation:['ade: 0.5592953', 'fde: 1.2096446'], (best ade:0.55309594 at step 14400) \n"
     ]
    },
    {
     "name": "stderr",
     "output_type": "stream",
     "text": [
      " 79%|███████▉  | 498/628 [00:22<00:05, 24.67it/s]\n",
      "  0%|          | 0/55 [00:00<?, ?it/s]\u001b[A"
     ]
    },
    {
     "name": "stdout",
     "output_type": "stream",
     "text": [
      "\tsaving model 16200...\n",
      "\tdone\n",
      "Evaluating\n"
     ]
    },
    {
     "name": "stderr",
     "output_type": "stream",
     "text": [
      "\n",
      " 16%|#6        | 9/55 [00:00<00:00, 82.11it/s]\u001b[A\n",
      " 33%|###2      | 18/55 [00:00<00:00, 82.65it/s]\u001b[A\n",
      " 45%|####5     | 25/55 [00:00<00:00, 76.89it/s]\u001b[A\n",
      " 62%|######1   | 34/55 [00:00<00:00, 78.32it/s]\u001b[A\n",
      " 76%|#######6  | 42/55 [00:00<00:00, 78.06it/s]\u001b[A\n",
      " 91%|######### | 50/55 [00:00<00:00, 78.60it/s]\u001b[A\n",
      " 80%|███████▉  | 501/628 [00:23<00:16,  7.67it/s]A"
     ]
    },
    {
     "name": "stdout",
     "output_type": "stream",
     "text": [
      "{'ade': 0.5703256, 'fde': 1.2378994}\n",
      "\t last loss:0.000437764, eval on validation:['ade: 0.5703256', 'fde: 1.2378994'], (best ade:0.55309594 at step 14400) \n"
     ]
    },
    {
     "name": "stderr",
     "output_type": "stream",
     "text": [
      "100%|██████████| 628/628 [00:28<00:00, 22.19it/s]\n",
      "  0%|          | 1/628 [00:00<01:13,  8.51it/s]"
     ]
    },
    {
     "name": "stdout",
     "output_type": "stream",
     "text": [
      "('Epoca 27.', 'lr:', 0.0002418111)\n"
     ]
    },
    {
     "name": "stderr",
     "output_type": "stream",
     "text": [
      " 27%|██▋       | 170/628 [00:07<00:19, 23.09it/s]"
     ]
    },
    {
     "name": "stdout",
     "output_type": "stream",
     "text": [
      "\tsaving model 16500...\n"
     ]
    },
    {
     "name": "stderr",
     "output_type": "stream",
     "text": [
      "\n",
      "  0%|          | 0/55 [00:00<?, ?it/s]\u001b[A\n",
      " 15%|#4        | 8/55 [00:00<00:00, 73.98it/s]\u001b[A"
     ]
    },
    {
     "name": "stdout",
     "output_type": "stream",
     "text": [
      "\tdone\n",
      "Evaluating\n"
     ]
    },
    {
     "name": "stderr",
     "output_type": "stream",
     "text": [
      "\n",
      " 29%|##9       | 16/55 [00:00<00:00, 73.69it/s]\u001b[A\n",
      " 42%|####1     | 23/55 [00:00<00:00, 72.33it/s]\u001b[A\n",
      " 58%|#####8    | 32/55 [00:00<00:00, 74.82it/s]\u001b[A\n",
      " 75%|#######4  | 41/55 [00:00<00:00, 77.88it/s]\u001b[A\n",
      " 91%|######### | 50/55 [00:00<00:00, 79.30it/s]\u001b[A\n",
      "100%|##########| 55/55 [00:00<00:00, 77.28it/s]\u001b[A"
     ]
    },
    {
     "name": "stdout",
     "output_type": "stream",
     "text": [
      "{'ade': 0.5504562, 'fde': 1.1826818}\n",
      "\t last loss:0.000609716, eval on validation:['ade: 0.5504562', 'fde: 1.1826818'], (best ade:0.55309594 at step 14400) \n",
      "\t saving best model...\n",
      "\t done.\n"
     ]
    },
    {
     "name": "stderr",
     "output_type": "stream",
     "text": [
      " 75%|███████▍  | 470/628 [00:21<00:06, 24.55it/s]\n",
      "  0%|          | 0/55 [00:00<?, ?it/s]\u001b[A"
     ]
    },
    {
     "name": "stdout",
     "output_type": "stream",
     "text": [
      "\tsaving model 16800...\n",
      "\tdone\n",
      "Evaluating\n"
     ]
    },
    {
     "name": "stderr",
     "output_type": "stream",
     "text": [
      "\n",
      " 16%|#6        | 9/55 [00:00<00:00, 83.86it/s]\u001b[A\n",
      " 31%|###       | 17/55 [00:00<00:00, 81.75it/s]\u001b[A\n",
      " 47%|####7     | 26/55 [00:00<00:00, 81.83it/s]\u001b[A\n",
      " 64%|######3   | 35/55 [00:00<00:00, 81.94it/s]\u001b[A\n",
      " 80%|########  | 44/55 [00:00<00:00, 82.04it/s]\u001b[A\n",
      " 96%|#########6| 53/55 [00:00<00:00, 82.64it/s]\u001b[A\n",
      " 75%|███████▌  | 473/628 [00:22<00:20,  7.66it/s]A"
     ]
    },
    {
     "name": "stdout",
     "output_type": "stream",
     "text": [
      "{'ade': 0.56202054, 'fde': 1.2180276}\n",
      "\t last loss:0.000647632, eval on validation:['ade: 0.56202054', 'fde: 1.2180276'], (best ade:0.5504562 at step 16500) \n"
     ]
    },
    {
     "name": "stderr",
     "output_type": "stream",
     "text": [
      "100%|██████████| 628/628 [00:29<00:00, 21.39it/s]\n",
      "  0%|          | 1/628 [00:00<01:08,  9.16it/s]"
     ]
    },
    {
     "name": "stdout",
     "output_type": "stream",
     "text": [
      "('Epoca 28.', 'lr:', 0.0002418111)\n"
     ]
    },
    {
     "name": "stderr",
     "output_type": "stream",
     "text": [
      " 23%|██▎       | 142/628 [00:06<00:20, 24.22it/s]\n",
      "  0%|          | 0/55 [00:00<?, ?it/s]\u001b[A"
     ]
    },
    {
     "name": "stdout",
     "output_type": "stream",
     "text": [
      "\tsaving model 17100...\n",
      "\tdone\n",
      "Evaluating\n"
     ]
    },
    {
     "name": "stderr",
     "output_type": "stream",
     "text": [
      "\n",
      " 16%|#6        | 9/55 [00:00<00:00, 82.01it/s]\u001b[A\n",
      " 33%|###2      | 18/55 [00:00<00:00, 82.83it/s]\u001b[A\n",
      " 49%|####9     | 27/55 [00:00<00:00, 83.41it/s]\u001b[A\n",
      " 65%|######5   | 36/55 [00:00<00:00, 83.39it/s]\u001b[A\n",
      " 80%|########  | 44/55 [00:00<00:00, 81.74it/s]\u001b[A\n",
      " 95%|#########4| 52/55 [00:00<00:00, 79.11it/s]\u001b[A\n",
      " 23%|██▎       | 145/628 [00:07<01:02,  7.73it/s]A"
     ]
    },
    {
     "name": "stdout",
     "output_type": "stream",
     "text": [
      "{'ade': 0.554389, 'fde': 1.1946223}\n",
      "\t last loss:0.000499965, eval on validation:['ade: 0.554389', 'fde: 1.1946223'], (best ade:0.5504562 at step 16500) \n"
     ]
    },
    {
     "name": "stderr",
     "output_type": "stream",
     "text": [
      " 70%|███████   | 442/628 [00:19<00:07, 24.10it/s]\n",
      "  0%|          | 0/55 [00:00<?, ?it/s]\u001b[A"
     ]
    },
    {
     "name": "stdout",
     "output_type": "stream",
     "text": [
      "\tsaving model 17400...\n",
      "\tdone\n",
      "Evaluating\n"
     ]
    },
    {
     "name": "stderr",
     "output_type": "stream",
     "text": [
      "\n",
      " 16%|#6        | 9/55 [00:00<00:00, 85.50it/s]\u001b[A\n",
      " 35%|###4      | 19/55 [00:00<00:00, 87.25it/s]\u001b[A\n",
      " 53%|#####2    | 29/55 [00:00<00:00, 88.83it/s]\u001b[A\n",
      " 69%|######9   | 38/55 [00:00<00:00, 88.90it/s]\u001b[A\n",
      " 87%|########7 | 48/55 [00:00<00:00, 89.90it/s]\u001b[A\n",
      " 71%|███████   | 445/628 [00:19<00:22,  8.16it/s]A"
     ]
    },
    {
     "name": "stdout",
     "output_type": "stream",
     "text": [
      "{'ade': 0.5685471, 'fde': 1.2295581}\n",
      "\t last loss:0.000541608, eval on validation:['ade: 0.5685471', 'fde: 1.2295581'], (best ade:0.5504562 at step 16500) \n"
     ]
    },
    {
     "name": "stderr",
     "output_type": "stream",
     "text": [
      "100%|██████████| 628/628 [00:27<00:00, 24.35it/s]\n",
      "  0%|          | 3/628 [00:00<00:27, 23.09it/s]"
     ]
    },
    {
     "name": "stdout",
     "output_type": "stream",
     "text": [
      "('Epoca 29.', 'lr:', 0.00020553943)\n"
     ]
    },
    {
     "name": "stderr",
     "output_type": "stream",
     "text": [
      " 18%|█▊        | 114/628 [00:04<00:24, 20.75it/s]"
     ]
    },
    {
     "name": "stdout",
     "output_type": "stream",
     "text": [
      "\tsaving model 17700...\n"
     ]
    },
    {
     "name": "stderr",
     "output_type": "stream",
     "text": [
      "\n",
      "  0%|          | 0/55 [00:00<?, ?it/s]\u001b[A\n",
      " 13%|#2        | 7/55 [00:00<00:00, 65.78it/s]\u001b[A\n",
      " 25%|##5       | 14/55 [00:00<00:00, 65.90it/s]\u001b[A\n",
      " 38%|###8      | 21/55 [00:00<00:00, 65.13it/s]\u001b[A\n",
      " 51%|#####     | 28/55 [00:00<00:00, 64.45it/s]\u001b[A\n",
      " 62%|######1   | 34/55 [00:00<00:00, 62.39it/s]\u001b[A\n",
      " 73%|#######2  | 40/55 [00:00<00:00, 61.23it/s]\u001b[A\n",
      " 85%|########5 | 47/55 [00:00<00:00, 61.83it/s]\u001b[A\n",
      " 98%|#########8| 54/55 [00:00<00:00, 62.88it/s]\u001b[A\n",
      " 19%|█▊        | 117/628 [00:06<01:21,  6.23it/s]A"
     ]
    },
    {
     "name": "stdout",
     "output_type": "stream",
     "text": [
      "\tdone\n",
      "Evaluating\n",
      "{'ade': 0.55885226, 'fde': 1.2070075}\n",
      "\t last loss:0.000510633, eval on validation:['ade: 0.55885226', 'fde: 1.2070075'], (best ade:0.5504562 at step 16500) \n"
     ]
    },
    {
     "name": "stderr",
     "output_type": "stream",
     "text": [
      " 66%|██████▌   | 415/628 [00:18<00:08, 25.71it/s]\n",
      "  0%|          | 0/55 [00:00<?, ?it/s]\u001b[A"
     ]
    },
    {
     "name": "stdout",
     "output_type": "stream",
     "text": [
      "\tsaving model 18000...\n",
      "\tdone\n",
      "Evaluating\n"
     ]
    },
    {
     "name": "stderr",
     "output_type": "stream",
     "text": [
      "\n",
      " 16%|#6        | 9/55 [00:00<00:00, 86.48it/s]\u001b[A\n",
      " 35%|###4      | 19/55 [00:00<00:00, 88.06it/s]\u001b[A\n",
      " 53%|#####2    | 29/55 [00:00<00:00, 89.24it/s]\u001b[A\n",
      " 71%|#######   | 39/55 [00:00<00:00, 90.81it/s]\u001b[A\n",
      " 89%|########9 | 49/55 [00:00<00:00, 90.79it/s]\u001b[A\n",
      " 67%|██████▋   | 418/628 [00:19<00:24,  8.47it/s]A"
     ]
    },
    {
     "name": "stdout",
     "output_type": "stream",
     "text": [
      "{'ade': 0.566727, 'fde': 1.2229931}\n",
      "\t last loss:0.000497511, eval on validation:['ade: 0.566727', 'fde: 1.2229931'], (best ade:0.5504562 at step 16500) \n"
     ]
    },
    {
     "name": "stderr",
     "output_type": "stream",
     "text": [
      "100%|██████████| 628/628 [00:28<00:00, 22.38it/s]\n",
      "  0%|          | 1/628 [00:00<01:16,  8.23it/s]"
     ]
    },
    {
     "name": "stdout",
     "output_type": "stream",
     "text": [
      "('Epoca 30.', 'lr:', 0.00020553943)\n"
     ]
    },
    {
     "name": "stderr",
     "output_type": "stream",
     "text": [
      " 14%|█▎        | 86/628 [00:05<00:33, 16.19it/s]"
     ]
    },
    {
     "name": "stdout",
     "output_type": "stream",
     "text": [
      "\tsaving model 18300...\n"
     ]
    },
    {
     "name": "stderr",
     "output_type": "stream",
     "text": [
      "\n",
      "  0%|          | 0/55 [00:00<?, ?it/s]\u001b[A\n",
      " 11%|#         | 6/55 [00:00<00:00, 55.33it/s]\u001b[A"
     ]
    },
    {
     "name": "stdout",
     "output_type": "stream",
     "text": [
      "\tdone\n",
      "Evaluating\n"
     ]
    },
    {
     "name": "stderr",
     "output_type": "stream",
     "text": [
      "\n",
      " 20%|##        | 11/55 [00:00<00:00, 53.38it/s]\u001b[A\n",
      " 31%|###       | 17/55 [00:00<00:00, 52.80it/s]\u001b[A\n",
      " 42%|####1     | 23/55 [00:00<00:00, 52.70it/s]\u001b[A\n",
      " 53%|#####2    | 29/55 [00:00<00:00, 52.81it/s]\u001b[A\n",
      " 64%|######3   | 35/55 [00:00<00:00, 53.89it/s]\u001b[A\n",
      " 75%|#######4  | 41/55 [00:00<00:00, 53.20it/s]\u001b[A\n",
      " 84%|########3 | 46/55 [00:00<00:00, 49.79it/s]\u001b[A\n",
      " 93%|#########2| 51/55 [00:00<00:00, 49.55it/s]\u001b[A\n",
      " 14%|█▍        | 90/628 [00:06<01:49,  4.93it/s][A"
     ]
    },
    {
     "name": "stdout",
     "output_type": "stream",
     "text": [
      "{'ade': 0.55835354, 'fde': 1.2056661}\n",
      "\t last loss:0.000506863, eval on validation:['ade: 0.55835354', 'fde: 1.2056661'], (best ade:0.5504562 at step 16500) \n"
     ]
    },
    {
     "name": "stderr",
     "output_type": "stream",
     "text": [
      " 61%|██████▏   | 385/628 [00:20<00:09, 24.73it/s]\n",
      "  0%|          | 0/55 [00:00<?, ?it/s]\u001b[A"
     ]
    },
    {
     "name": "stdout",
     "output_type": "stream",
     "text": [
      "\tsaving model 18600...\n",
      "\tdone\n",
      "Evaluating\n"
     ]
    },
    {
     "name": "stderr",
     "output_type": "stream",
     "text": [
      "\n",
      " 16%|#6        | 9/55 [00:00<00:00, 82.38it/s]\u001b[A\n",
      " 31%|###       | 17/55 [00:00<00:00, 79.77it/s]\u001b[A\n",
      " 45%|####5     | 25/55 [00:00<00:00, 79.80it/s]\u001b[A\n",
      " 62%|######1   | 34/55 [00:00<00:00, 81.47it/s]\u001b[A\n",
      " 78%|#######8  | 43/55 [00:00<00:00, 82.84it/s]\u001b[A\n",
      " 95%|#########4| 52/55 [00:00<00:00, 83.05it/s]\u001b[A\n",
      " 62%|██████▏   | 391/628 [00:21<00:23,  9.89it/s]A"
     ]
    },
    {
     "name": "stdout",
     "output_type": "stream",
     "text": [
      "{'ade': 0.56794447, 'fde': 1.2305971}\n",
      "\t last loss:0.000353220, eval on validation:['ade: 0.56794447', 'fde: 1.2305971'], (best ade:0.5504562 at step 16500) \n"
     ]
    },
    {
     "name": "stderr",
     "output_type": "stream",
     "text": [
      "100%|██████████| 628/628 [00:32<00:00, 24.21it/s]\n",
      "  0%|          | 1/628 [00:00<01:12,  8.65it/s]"
     ]
    },
    {
     "name": "stdout",
     "output_type": "stream",
     "text": [
      "('Epoca 31.', 'lr:', 0.00017470852)\n"
     ]
    },
    {
     "name": "stderr",
     "output_type": "stream",
     "text": [
      "  9%|▉         | 58/628 [00:02<00:22, 25.18it/s]\n",
      "  0%|          | 0/55 [00:00<?, ?it/s]\u001b[A"
     ]
    },
    {
     "name": "stdout",
     "output_type": "stream",
     "text": [
      "\tsaving model 18900...\n",
      "\tdone\n",
      "Evaluating\n"
     ]
    },
    {
     "name": "stderr",
     "output_type": "stream",
     "text": [
      "\n",
      " 15%|#4        | 8/55 [00:00<00:00, 78.04it/s]\u001b[A\n",
      " 25%|##5       | 14/55 [00:00<00:00, 70.82it/s]\u001b[A\n",
      " 40%|####      | 22/55 [00:00<00:00, 73.18it/s]\u001b[A\n",
      " 56%|#####6    | 31/55 [00:00<00:00, 76.53it/s]\u001b[A\n",
      " 73%|#######2  | 40/55 [00:00<00:00, 78.53it/s]\u001b[A\n",
      " 89%|########9 | 49/55 [00:00<00:00, 80.53it/s]\u001b[A\n",
      " 10%|▉         | 61/628 [00:03<01:13,  7.72it/s][A"
     ]
    },
    {
     "name": "stdout",
     "output_type": "stream",
     "text": [
      "{'ade': 0.5555568, 'fde': 1.1979043}\n",
      "\t last loss:0.000298637, eval on validation:['ade: 0.5555568', 'fde: 1.1979043'], (best ade:0.5504562 at step 16500) \n"
     ]
    },
    {
     "name": "stderr",
     "output_type": "stream",
     "text": [
      " 57%|█████▋    | 358/628 [00:16<00:10, 25.09it/s]\n",
      "  0%|          | 0/55 [00:00<?, ?it/s]\u001b[A"
     ]
    },
    {
     "name": "stdout",
     "output_type": "stream",
     "text": [
      "\tsaving model 19200...\n",
      "\tdone\n",
      "Evaluating\n"
     ]
    },
    {
     "name": "stderr",
     "output_type": "stream",
     "text": [
      "\n",
      " 16%|#6        | 9/55 [00:00<00:00, 82.52it/s]\u001b[A\n",
      " 29%|##9       | 16/55 [00:00<00:00, 76.44it/s]\u001b[A\n",
      " 45%|####5     | 25/55 [00:00<00:00, 78.87it/s]\u001b[A\n",
      " 62%|######1   | 34/55 [00:00<00:00, 80.72it/s]\u001b[A\n",
      " 78%|#######8  | 43/55 [00:00<00:00, 81.58it/s]\u001b[A\n",
      " 95%|#########4| 52/55 [00:00<00:00, 83.13it/s]\u001b[A\n",
      " 57%|█████▋    | 361/628 [00:17<00:34,  7.81it/s]A"
     ]
    },
    {
     "name": "stdout",
     "output_type": "stream",
     "text": [
      "{'ade': 0.5579602, 'fde': 1.2058619}\n",
      "\t last loss:0.000431118, eval on validation:['ade: 0.5579602', 'fde: 1.2058619'], (best ade:0.5504562 at step 16500) \n"
     ]
    },
    {
     "name": "stderr",
     "output_type": "stream",
     "text": [
      "100%|██████████| 628/628 [00:27<00:00, 25.97it/s]\n",
      "  0%|          | 2/628 [00:00<00:42, 14.61it/s]"
     ]
    },
    {
     "name": "stdout",
     "output_type": "stream",
     "text": [
      "('Epoca 32.', 'lr:', 0.00017470852)\n"
     ]
    },
    {
     "name": "stderr",
     "output_type": "stream",
     "text": [
      "  5%|▍         | 29/628 [00:01<00:23, 25.45it/s]\n",
      "  0%|          | 0/55 [00:00<?, ?it/s]\u001b[A"
     ]
    },
    {
     "name": "stdout",
     "output_type": "stream",
     "text": [
      "\tsaving model 19500...\n",
      "\tdone\n",
      "Evaluating\n"
     ]
    },
    {
     "name": "stderr",
     "output_type": "stream",
     "text": [
      "\n",
      " 18%|#8        | 10/55 [00:00<00:00, 91.86it/s]\u001b[A\n",
      " 35%|###4      | 19/55 [00:00<00:00, 89.48it/s]\u001b[A\n",
      " 53%|#####2    | 29/55 [00:00<00:00, 90.73it/s]\u001b[A\n",
      " 69%|######9   | 38/55 [00:00<00:00, 89.47it/s]\u001b[A\n",
      " 85%|########5 | 47/55 [00:00<00:00, 88.21it/s]\u001b[A\n",
      "  6%|▌         | 35/628 [00:02<00:55, 10.62it/s][A"
     ]
    },
    {
     "name": "stdout",
     "output_type": "stream",
     "text": [
      "{'ade': 0.5552329, 'fde': 1.1984698}\n",
      "\t last loss:0.000406725, eval on validation:['ade: 0.5552329', 'fde: 1.1984698'], (best ade:0.5504562 at step 16500) \n"
     ]
    },
    {
     "name": "stderr",
     "output_type": "stream",
     "text": [
      " 52%|█████▏    | 329/628 [00:14<00:14, 20.17it/s]"
     ]
    },
    {
     "name": "stdout",
     "output_type": "stream",
     "text": [
      "\tsaving model 19800...\n"
     ]
    },
    {
     "name": "stderr",
     "output_type": "stream",
     "text": [
      "\n",
      "  0%|          | 0/55 [00:00<?, ?it/s]\u001b[A\n",
      " 13%|#2        | 7/55 [00:00<00:00, 65.30it/s]\u001b[A\n",
      " 25%|##5       | 14/55 [00:00<00:00, 66.11it/s]\u001b[A\n",
      " 38%|###8      | 21/55 [00:00<00:00, 66.42it/s]\u001b[A\n",
      " 53%|#####2    | 29/55 [00:00<00:00, 69.30it/s]\u001b[A\n",
      " 67%|######7   | 37/55 [00:00<00:00, 71.58it/s]\u001b[A\n",
      " 80%|########  | 44/55 [00:00<00:00, 69.84it/s]\u001b[A\n",
      " 93%|#########2| 51/55 [00:00<00:00, 69.64it/s]\u001b[A\n",
      " 53%|█████▎    | 335/628 [00:16<00:34,  8.49it/s]A"
     ]
    },
    {
     "name": "stdout",
     "output_type": "stream",
     "text": [
      "\tdone\n",
      "Evaluating\n",
      "{'ade': 0.5570428, 'fde': 1.2006019}\n",
      "\t last loss:0.000550054, eval on validation:['ade: 0.5570428', 'fde: 1.2006019'], (best ade:0.5504562 at step 16500) \n"
     ]
    },
    {
     "name": "stderr",
     "output_type": "stream",
     "text": [
      "100%|██████████| 628/628 [00:28<00:00, 22.32it/s]\n",
      "  0%|          | 1/628 [00:00<01:16,  8.25it/s]"
     ]
    },
    {
     "name": "stdout",
     "output_type": "stream",
     "text": [
      "('Epoca 33.', 'lr:', 0.00014850224)\n"
     ]
    },
    {
     "name": "stderr",
     "output_type": "stream",
     "text": [
      "\n",
      "  0%|          | 0/55 [00:00<?, ?it/s]\u001b[A"
     ]
    },
    {
     "name": "stdout",
     "output_type": "stream",
     "text": [
      "\tsaving model 20100...\n",
      "\tdone\n",
      "Evaluating\n"
     ]
    },
    {
     "name": "stderr",
     "output_type": "stream",
     "text": [
      "\n",
      " 15%|#4        | 8/55 [00:00<00:00, 78.62it/s]\u001b[A\n",
      " 31%|###       | 17/55 [00:00<00:00, 80.40it/s]\u001b[A\n",
      " 47%|####7     | 26/55 [00:00<00:00, 81.00it/s]\u001b[A\n",
      " 62%|######1   | 34/55 [00:00<00:00, 78.74it/s]\u001b[A\n",
      " 78%|#######8  | 43/55 [00:00<00:00, 80.60it/s]\u001b[A\n",
      " 95%|#########4| 52/55 [00:00<00:00, 81.85it/s]\u001b[A\n",
      "  1%|          | 7/628 [00:01<01:28,  7.04it/s]\u001b[A"
     ]
    },
    {
     "name": "stdout",
     "output_type": "stream",
     "text": [
      "{'ade': 0.55775124, 'fde': 1.2035975}\n",
      "\t last loss:0.000614522, eval on validation:['ade: 0.55775124', 'fde: 1.2035975'], (best ade:0.5504562 at step 16500) \n"
     ]
    },
    {
     "name": "stderr",
     "output_type": "stream",
     "text": [
      " 48%|████▊     | 301/628 [00:14<00:14, 21.82it/s]\n",
      "  0%|          | 0/55 [00:00<?, ?it/s]\u001b[A"
     ]
    },
    {
     "name": "stdout",
     "output_type": "stream",
     "text": [
      "\tsaving model 20400...\n",
      "\tdone\n",
      "Evaluating\n"
     ]
    },
    {
     "name": "stderr",
     "output_type": "stream",
     "text": [
      "\n",
      " 13%|#2        | 7/55 [00:00<00:00, 69.33it/s]\u001b[A\n",
      " 27%|##7       | 15/55 [00:00<00:00, 71.63it/s]\u001b[A\n",
      " 42%|####1     | 23/55 [00:00<00:00, 73.55it/s]\u001b[A\n",
      " 55%|#####4    | 30/55 [00:00<00:00, 71.04it/s]\u001b[A\n",
      " 69%|######9   | 38/55 [00:00<00:00, 71.34it/s]\u001b[A\n",
      " 84%|########3 | 46/55 [00:00<00:00, 72.62it/s]\u001b[A\n",
      " 98%|#########8| 54/55 [00:00<00:00, 73.25it/s]\u001b[A\n",
      " 49%|████▉     | 307/628 [00:15<00:35,  8.92it/s]A"
     ]
    },
    {
     "name": "stdout",
     "output_type": "stream",
     "text": [
      "{'ade': 0.5525236, 'fde': 1.1897811}\n",
      "\t last loss:0.000323428, eval on validation:['ade: 0.5525236', 'fde: 1.1897811'], (best ade:0.5504562 at step 16500) \n"
     ]
    },
    {
     "name": "stderr",
     "output_type": "stream",
     "text": [
      " 96%|█████████▌| 601/628 [00:27<00:01, 21.92it/s]\n",
      "  0%|          | 0/55 [00:00<?, ?it/s]\u001b[A"
     ]
    },
    {
     "name": "stdout",
     "output_type": "stream",
     "text": [
      "\tsaving model 20700...\n",
      "\tdone\n",
      "Evaluating\n"
     ]
    },
    {
     "name": "stderr",
     "output_type": "stream",
     "text": [
      "\n",
      " 15%|#4        | 8/55 [00:00<00:00, 75.22it/s]\u001b[A\n",
      " 27%|##7       | 15/55 [00:00<00:00, 73.11it/s]\u001b[A\n",
      " 42%|####1     | 23/55 [00:00<00:00, 74.45it/s]\u001b[A\n",
      " 56%|#####6    | 31/55 [00:00<00:00, 74.90it/s]\u001b[A\n",
      " 69%|######9   | 38/55 [00:00<00:00, 70.80it/s]\u001b[A\n",
      " 84%|########3 | 46/55 [00:00<00:00, 71.98it/s]\u001b[A\n",
      " 98%|#########8| 54/55 [00:00<00:00, 73.37it/s]\u001b[A\n",
      " 97%|█████████▋| 607/628 [00:29<00:02,  8.92it/s]A"
     ]
    },
    {
     "name": "stdout",
     "output_type": "stream",
     "text": [
      "{'ade': 0.55354816, 'fde': 1.1925367}\n",
      "\t last loss:0.000313910, eval on validation:['ade: 0.55354816', 'fde: 1.1925367'], (best ade:0.5504562 at step 16500) \n"
     ]
    },
    {
     "name": "stderr",
     "output_type": "stream",
     "text": [
      "100%|██████████| 628/628 [00:30<00:00, 17.13it/s]\n",
      "  0%|          | 2/628 [00:00<00:35, 17.82it/s]"
     ]
    },
    {
     "name": "stdout",
     "output_type": "stream",
     "text": [
      "('Epoca 34.', 'lr:', 0.00014850224)\n"
     ]
    },
    {
     "name": "stderr",
     "output_type": "stream",
     "text": [
      " 43%|████▎     | 273/628 [00:10<00:14, 25.03it/s]\n",
      "  0%|          | 0/55 [00:00<?, ?it/s]\u001b[A"
     ]
    },
    {
     "name": "stdout",
     "output_type": "stream",
     "text": [
      "\tsaving model 21000...\n",
      "\tdone\n",
      "Evaluating\n"
     ]
    },
    {
     "name": "stderr",
     "output_type": "stream",
     "text": [
      "\n",
      " 15%|#4        | 8/55 [00:00<00:00, 78.73it/s]\u001b[A\n",
      " 31%|###       | 17/55 [00:00<00:00, 80.43it/s]\u001b[A\n",
      " 45%|####5     | 25/55 [00:00<00:00, 77.93it/s]\u001b[A\n",
      " 62%|######1   | 34/55 [00:00<00:00, 79.82it/s]\u001b[A\n",
      " 78%|#######8  | 43/55 [00:00<00:00, 81.59it/s]\u001b[A\n",
      " 95%|#########4| 52/55 [00:00<00:00, 82.95it/s]\u001b[A\n",
      " 44%|████▍     | 279/628 [00:12<00:35,  9.94it/s]A"
     ]
    },
    {
     "name": "stdout",
     "output_type": "stream",
     "text": [
      "{'ade': 0.55841345, 'fde': 1.2076337}\n",
      "\t last loss:0.000600285, eval on validation:['ade: 0.55841345', 'fde: 1.2076337'], (best ade:0.5504562 at step 16500) \n"
     ]
    },
    {
     "name": "stderr",
     "output_type": "stream",
     "text": [
      " 91%|█████████ | 573/628 [00:24<00:02, 23.03it/s]\n",
      "  0%|          | 0/55 [00:00<?, ?it/s]\u001b[A"
     ]
    },
    {
     "name": "stdout",
     "output_type": "stream",
     "text": [
      "\tsaving model 21300...\n",
      "\tdone\n",
      "Evaluating\n"
     ]
    },
    {
     "name": "stderr",
     "output_type": "stream",
     "text": [
      "\n",
      " 16%|#6        | 9/55 [00:00<00:00, 83.05it/s]\u001b[A\n",
      " 33%|###2      | 18/55 [00:00<00:00, 82.66it/s]\u001b[A\n",
      " 45%|####5     | 25/55 [00:00<00:00, 77.68it/s]\u001b[A\n",
      " 62%|######1   | 34/55 [00:00<00:00, 79.26it/s]\u001b[A\n",
      " 78%|#######8  | 43/55 [00:00<00:00, 80.92it/s]\u001b[A\n",
      " 95%|#########4| 52/55 [00:00<00:00, 82.76it/s]\u001b[A\n",
      " 92%|█████████▏| 579/628 [00:26<00:05,  9.63it/s]A"
     ]
    },
    {
     "name": "stdout",
     "output_type": "stream",
     "text": [
      "{'ade': 0.55894834, 'fde': 1.212055}\n",
      "\t last loss:0.000523176, eval on validation:['ade: 0.55894834', 'fde: 1.212055'], (best ade:0.5504562 at step 16500) \n"
     ]
    },
    {
     "name": "stderr",
     "output_type": "stream",
     "text": [
      "100%|██████████| 628/628 [00:28<00:00, 22.37it/s]\n",
      "  0%|          | 2/628 [00:00<00:35, 17.88it/s]"
     ]
    },
    {
     "name": "stdout",
     "output_type": "stream",
     "text": [
      "('Epoca 35.', 'lr:', 0.0001262269)\n"
     ]
    },
    {
     "name": "stderr",
     "output_type": "stream",
     "text": [
      " 39%|███▉      | 245/628 [00:09<00:15, 24.44it/s]\n",
      "  0%|          | 0/55 [00:00<?, ?it/s]\u001b[A"
     ]
    },
    {
     "name": "stdout",
     "output_type": "stream",
     "text": [
      "\tsaving model 21600...\n",
      "\tdone\n",
      "Evaluating\n"
     ]
    },
    {
     "name": "stderr",
     "output_type": "stream",
     "text": [
      "\n",
      " 15%|#4        | 8/55 [00:00<00:00, 74.49it/s]\u001b[A\n",
      " 31%|###       | 17/55 [00:00<00:00, 77.66it/s]\u001b[A\n",
      " 47%|####7     | 26/55 [00:00<00:00, 79.48it/s]\u001b[A\n",
      " 64%|######3   | 35/55 [00:00<00:00, 80.44it/s]\u001b[A\n",
      " 78%|#######8  | 43/55 [00:00<00:00, 78.54it/s]\u001b[A\n",
      " 95%|#########4| 52/55 [00:00<00:00, 80.64it/s]\u001b[A\n",
      " 40%|███▉      | 251/628 [00:10<00:38,  9.88it/s]A"
     ]
    },
    {
     "name": "stdout",
     "output_type": "stream",
     "text": [
      "{'ade': 0.551193, 'fde': 1.1861333}\n",
      "\t last loss:0.000528605, eval on validation:['ade: 0.551193', 'fde: 1.1861333'], (best ade:0.5504562 at step 16500) \n"
     ]
    },
    {
     "name": "stderr",
     "output_type": "stream",
     "text": [
      " 87%|████████▋ | 545/628 [00:23<00:03, 24.55it/s]\n",
      "  0%|          | 0/55 [00:00<?, ?it/s]\u001b[A"
     ]
    },
    {
     "name": "stdout",
     "output_type": "stream",
     "text": [
      "\tsaving model 21900...\n",
      "\tdone\n",
      "Evaluating\n"
     ]
    },
    {
     "name": "stderr",
     "output_type": "stream",
     "text": [
      "\n",
      " 15%|#4        | 8/55 [00:00<00:00, 77.48it/s]\u001b[A\n",
      " 31%|###       | 17/55 [00:00<00:00, 79.50it/s]\u001b[A\n",
      " 47%|####7     | 26/55 [00:00<00:00, 81.07it/s]\u001b[A\n",
      " 64%|######3   | 35/55 [00:00<00:00, 80.95it/s]\u001b[A\n",
      " 76%|#######6  | 42/55 [00:00<00:00, 76.84it/s]\u001b[A\n",
      " 93%|#########2| 51/55 [00:00<00:00, 79.03it/s]\u001b[A\n",
      " 88%|████████▊ | 551/628 [00:24<00:07,  9.91it/s]A"
     ]
    },
    {
     "name": "stdout",
     "output_type": "stream",
     "text": [
      "{'ade': 0.55842644, 'fde': 1.2097541}\n",
      "\t last loss:0.000287288, eval on validation:['ade: 0.55842644', 'fde: 1.2097541'], (best ade:0.5504562 at step 16500) \n"
     ]
    },
    {
     "name": "stderr",
     "output_type": "stream",
     "text": [
      "100%|██████████| 628/628 [00:27<00:00, 22.58it/s]\n",
      "  0%|          | 1/628 [00:00<01:24,  7.40it/s]"
     ]
    },
    {
     "name": "stdout",
     "output_type": "stream",
     "text": [
      "('Epoca 36.', 'lr:', 0.0001262269)\n"
     ]
    },
    {
     "name": "stderr",
     "output_type": "stream",
     "text": [
      " 35%|███▍      | 219/628 [00:08<00:16, 24.73it/s]\n",
      "  0%|          | 0/55 [00:00<?, ?it/s]\u001b[A"
     ]
    },
    {
     "name": "stdout",
     "output_type": "stream",
     "text": [
      "\tsaving model 22200...\n",
      "\tdone\n",
      "Evaluating\n"
     ]
    },
    {
     "name": "stderr",
     "output_type": "stream",
     "text": [
      "\n",
      " 15%|#4        | 8/55 [00:00<00:00, 78.00it/s]\u001b[A\n",
      " 29%|##9       | 16/55 [00:00<00:00, 77.97it/s]\u001b[A\n",
      " 42%|####1     | 23/55 [00:00<00:00, 74.39it/s]\u001b[A\n",
      " 55%|#####4    | 30/55 [00:00<00:00, 71.07it/s]\u001b[A\n",
      " 67%|######7   | 37/55 [00:00<00:00, 69.05it/s]\u001b[A\n",
      " 78%|#######8  | 43/55 [00:00<00:00, 60.63it/s]\u001b[A\n",
      " 89%|########9 | 49/55 [00:00<00:00, 53.43it/s]\u001b[A\n",
      " 35%|███▌      | 222/628 [00:10<01:04,  6.32it/s]A"
     ]
    },
    {
     "name": "stdout",
     "output_type": "stream",
     "text": [
      "{'ade': 0.562343, 'fde': 1.2207503}\n",
      "\t last loss:0.000683101, eval on validation:['ade: 0.562343', 'fde: 1.2207503'], (best ade:0.5504562 at step 16500) \n"
     ]
    },
    {
     "name": "stderr",
     "output_type": "stream",
     "text": [
      " 82%|████████▏ | 517/628 [00:22<00:04, 26.57it/s]\n",
      "  0%|          | 0/55 [00:00<?, ?it/s]\u001b[A"
     ]
    },
    {
     "name": "stdout",
     "output_type": "stream",
     "text": [
      "\tsaving model 22500...\n",
      "\tdone\n",
      "Evaluating\n"
     ]
    },
    {
     "name": "stderr",
     "output_type": "stream",
     "text": [
      "\n",
      " 16%|#6        | 9/55 [00:00<00:00, 83.17it/s]\u001b[A\n",
      " 35%|###4      | 19/55 [00:00<00:00, 86.28it/s]\u001b[A\n",
      " 53%|#####2    | 29/55 [00:00<00:00, 87.92it/s]\u001b[A\n",
      " 71%|#######   | 39/55 [00:00<00:00, 89.42it/s]\u001b[A\n",
      " 85%|########5 | 47/55 [00:00<00:00, 85.14it/s]\u001b[A\n",
      " 83%|████████▎ | 523/628 [00:23<00:09, 10.76it/s]A"
     ]
    },
    {
     "name": "stdout",
     "output_type": "stream",
     "text": [
      "{'ade': 0.5575612, 'fde': 1.2025088}\n",
      "\t last loss:0.000366825, eval on validation:['ade: 0.5575612', 'fde: 1.2025088'], (best ade:0.5504562 at step 16500) \n"
     ]
    },
    {
     "name": "stderr",
     "output_type": "stream",
     "text": [
      "100%|██████████| 628/628 [00:28<00:00, 24.71it/s]\n",
      "  0%|          | 1/628 [00:00<01:20,  7.79it/s]"
     ]
    },
    {
     "name": "stdout",
     "output_type": "stream",
     "text": [
      "('Epoca 37.', 'lr:', 0.00010729288)\n"
     ]
    },
    {
     "name": "stderr",
     "output_type": "stream",
     "text": [
      " 30%|███       | 190/628 [00:08<00:21, 20.69it/s]"
     ]
    },
    {
     "name": "stdout",
     "output_type": "stream",
     "text": [
      "\tsaving model 22800...\n"
     ]
    },
    {
     "name": "stderr",
     "output_type": "stream",
     "text": [
      "\n",
      "  0%|          | 0/55 [00:00<?, ?it/s]\u001b[A\n",
      " 13%|#2        | 7/55 [00:00<00:00, 66.52it/s]\u001b[A"
     ]
    },
    {
     "name": "stdout",
     "output_type": "stream",
     "text": [
      "\tdone\n",
      "Evaluating\n"
     ]
    },
    {
     "name": "stderr",
     "output_type": "stream",
     "text": [
      "\n",
      " 25%|##5       | 14/55 [00:00<00:00, 65.82it/s]\u001b[A\n",
      " 38%|###8      | 21/55 [00:00<00:00, 65.56it/s]\u001b[A\n",
      " 51%|#####     | 28/55 [00:00<00:00, 66.25it/s]\u001b[A\n",
      " 62%|######1   | 34/55 [00:00<00:00, 64.16it/s]\u001b[A\n",
      " 75%|#######4  | 41/55 [00:00<00:00, 65.11it/s]\u001b[A\n",
      " 89%|########9 | 49/55 [00:00<00:00, 68.03it/s]\u001b[A\n",
      " 31%|███       | 193/628 [00:09<01:07,  6.43it/s]A"
     ]
    },
    {
     "name": "stdout",
     "output_type": "stream",
     "text": [
      "{'ade': 0.5551302, 'fde': 1.1984394}\n",
      "\t last loss:0.000233905, eval on validation:['ade: 0.5551302', 'fde: 1.1984394'], (best ade:0.5504562 at step 16500) \n"
     ]
    },
    {
     "name": "stderr",
     "output_type": "stream",
     "text": [
      " 78%|███████▊  | 490/628 [00:21<00:05, 24.81it/s]\n",
      "  0%|          | 0/55 [00:00<?, ?it/s]\u001b[A"
     ]
    },
    {
     "name": "stdout",
     "output_type": "stream",
     "text": [
      "\tsaving model 23100...\n",
      "\tdone\n",
      "Evaluating\n"
     ]
    },
    {
     "name": "stderr",
     "output_type": "stream",
     "text": [
      "\n",
      " 16%|#6        | 9/55 [00:00<00:00, 82.48it/s]\u001b[A\n",
      " 33%|###2      | 18/55 [00:00<00:00, 82.72it/s]\u001b[A\n",
      " 47%|####7     | 26/55 [00:00<00:00, 80.85it/s]\u001b[A\n",
      " 64%|######3   | 35/55 [00:00<00:00, 82.01it/s]\u001b[A\n",
      " 80%|########  | 44/55 [00:00<00:00, 81.96it/s]\u001b[A\n",
      " 96%|#########6| 53/55 [00:00<00:00, 82.91it/s]\u001b[A\n",
      "100%|##########| 55/55 [00:00<00:00, 81.53it/s]\u001b[A"
     ]
    },
    {
     "name": "stdout",
     "output_type": "stream",
     "text": [
      "{'ade': 0.5464883, 'fde': 1.1726425}\n",
      "\t last loss:0.000446896, eval on validation:['ade: 0.5464883', 'fde: 1.1726425'], (best ade:0.5504562 at step 16500) \n",
      "\t saving best model...\n",
      "\t done.\n"
     ]
    },
    {
     "name": "stderr",
     "output_type": "stream",
     "text": [
      "100%|██████████| 628/628 [00:28<00:00, 24.76it/s]\n",
      "  0%|          | 2/628 [00:00<00:31, 19.85it/s]"
     ]
    },
    {
     "name": "stdout",
     "output_type": "stream",
     "text": [
      "('Epoca 38.', 'lr:', 0.00010729288)\n"
     ]
    },
    {
     "name": "stderr",
     "output_type": "stream",
     "text": [
      " 26%|██▌       | 163/628 [00:07<00:24, 18.93it/s]"
     ]
    },
    {
     "name": "stdout",
     "output_type": "stream",
     "text": [
      "\tsaving model 23400...\n"
     ]
    },
    {
     "name": "stderr",
     "output_type": "stream",
     "text": [
      "\n",
      "  0%|          | 0/55 [00:00<?, ?it/s]\u001b[A\n",
      " 15%|#4        | 8/55 [00:00<00:00, 76.24it/s]\u001b[A"
     ]
    },
    {
     "name": "stdout",
     "output_type": "stream",
     "text": [
      "\tdone\n",
      "Evaluating\n"
     ]
    },
    {
     "name": "stderr",
     "output_type": "stream",
     "text": [
      "\n",
      " 29%|##9       | 16/55 [00:00<00:00, 75.25it/s]\u001b[A\n",
      " 44%|####3     | 24/55 [00:00<00:00, 75.74it/s]\u001b[A\n",
      " 55%|#####4    | 30/55 [00:00<00:00, 69.84it/s]\u001b[A\n",
      " 69%|######9   | 38/55 [00:00<00:00, 70.70it/s]\u001b[A\n",
      " 84%|########3 | 46/55 [00:00<00:00, 71.75it/s]\u001b[A\n",
      " 98%|#########8| 54/55 [00:00<00:00, 72.85it/s]\u001b[A\n",
      " 26%|██▋       | 165/628 [00:08<01:33,  4.97it/s]A"
     ]
    },
    {
     "name": "stdout",
     "output_type": "stream",
     "text": [
      "{'ade': 0.55300707, 'fde': 1.1907002}\n",
      "\t last loss:0.000732241, eval on validation:['ade: 0.55300707', 'fde: 1.1907002'], (best ade:0.5464883 at step 23100) \n"
     ]
    },
    {
     "name": "stderr",
     "output_type": "stream",
     "text": [
      " 74%|███████▎  | 462/628 [00:20<00:06, 24.46it/s]\n",
      "  0%|          | 0/55 [00:00<?, ?it/s]\u001b[A"
     ]
    },
    {
     "name": "stdout",
     "output_type": "stream",
     "text": [
      "\tsaving model 23700...\n",
      "\tdone\n",
      "Evaluating\n"
     ]
    },
    {
     "name": "stderr",
     "output_type": "stream",
     "text": [
      "\n",
      " 16%|#6        | 9/55 [00:00<00:00, 82.91it/s]\u001b[A\n",
      " 33%|###2      | 18/55 [00:00<00:00, 83.14it/s]\u001b[A\n",
      " 51%|#####     | 28/55 [00:00<00:00, 86.29it/s]\u001b[A\n",
      " 67%|######7   | 37/55 [00:00<00:00, 86.26it/s]\u001b[A\n",
      " 82%|########1 | 45/55 [00:00<00:00, 83.82it/s]\u001b[A\n",
      " 75%|███████▍  | 468/628 [00:21<00:15, 10.29it/s]A"
     ]
    },
    {
     "name": "stdout",
     "output_type": "stream",
     "text": [
      "{'ade': 0.55347073, 'fde': 1.1944077}\n",
      "\t last loss:0.000465174, eval on validation:['ade: 0.55347073', 'fde: 1.1944077'], (best ade:0.5464883 at step 23100) \n"
     ]
    },
    {
     "name": "stderr",
     "output_type": "stream",
     "text": [
      "100%|██████████| 628/628 [00:27<00:00, 22.49it/s]\n",
      "  0%|          | 3/628 [00:00<00:25, 24.33it/s]"
     ]
    },
    {
     "name": "stdout",
     "output_type": "stream",
     "text": [
      "('Epoca 39.', 'lr:', 9.119895e-05)\n"
     ]
    },
    {
     "name": "stderr",
     "output_type": "stream",
     "text": [
      " 21%|██▏       | 135/628 [00:05<00:22, 21.85it/s]"
     ]
    },
    {
     "name": "stdout",
     "output_type": "stream",
     "text": [
      "\tsaving model 24000...\n"
     ]
    },
    {
     "name": "stderr",
     "output_type": "stream",
     "text": [
      "\n",
      "  0%|          | 0/55 [00:00<?, ?it/s]\u001b[A\n",
      " 13%|#2        | 7/55 [00:00<00:00, 63.68it/s]\u001b[A\n",
      " 25%|##5       | 14/55 [00:00<00:00, 64.66it/s]\u001b[A\n",
      " 38%|###8      | 21/55 [00:00<00:00, 64.88it/s]\u001b[A\n",
      " 51%|#####     | 28/55 [00:00<00:00, 65.46it/s]\u001b[A\n",
      " 64%|######3   | 35/55 [00:00<00:00, 65.41it/s]\u001b[A\n",
      " 75%|#######4  | 41/55 [00:00<00:00, 60.67it/s]\u001b[A\n",
      " 87%|########7 | 48/55 [00:00<00:00, 62.13it/s]\u001b[A\n",
      " 22%|██▏       | 138/628 [00:06<01:16,  6.44it/s]A"
     ]
    },
    {
     "name": "stdout",
     "output_type": "stream",
     "text": [
      "\tdone\n",
      "Evaluating\n",
      "{'ade': 0.5593012, 'fde': 1.2089515}\n",
      "\t last loss:0.000233562, eval on validation:['ade: 0.5593012', 'fde: 1.2089515'], (best ade:0.5464883 at step 23100) \n"
     ]
    },
    {
     "name": "stderr",
     "output_type": "stream",
     "text": [
      " 69%|██████▉   | 435/628 [00:19<00:07, 26.76it/s]\n",
      "  0%|          | 0/55 [00:00<?, ?it/s]\u001b[A"
     ]
    },
    {
     "name": "stdout",
     "output_type": "stream",
     "text": [
      "\tsaving model 24300...\n",
      "\tdone\n",
      "Evaluating\n"
     ]
    },
    {
     "name": "stderr",
     "output_type": "stream",
     "text": [
      "\n",
      " 18%|#8        | 10/55 [00:00<00:00, 92.07it/s]\u001b[A\n",
      " 36%|###6      | 20/55 [00:00<00:00, 92.10it/s]\u001b[A\n",
      " 55%|#####4    | 30/55 [00:00<00:00, 93.31it/s]\u001b[A\n",
      " 71%|#######   | 39/55 [00:00<00:00, 90.25it/s]\u001b[A\n",
      " 89%|########9 | 49/55 [00:00<00:00, 90.87it/s]\u001b[A\n",
      " 70%|██████▉   | 438/628 [00:20<00:21,  8.65it/s]A"
     ]
    },
    {
     "name": "stdout",
     "output_type": "stream",
     "text": [
      "{'ade': 0.5486983, 'fde': 1.1825434}\n",
      "\t last loss:0.000446224, eval on validation:['ade: 0.5486983', 'fde: 1.1825434'], (best ade:0.5464883 at step 23100) \n"
     ]
    },
    {
     "name": "stderr",
     "output_type": "stream",
     "text": [
      "100%|██████████| 628/628 [00:27<00:00, 22.44it/s]\n",
      "  0%|          | 1/628 [00:00<01:11,  8.78it/s]"
     ]
    },
    {
     "name": "stdout",
     "output_type": "stream",
     "text": [
      "('Epoca 40.', 'lr:', 9.119895e-05)\n"
     ]
    },
    {
     "name": "stderr",
     "output_type": "stream",
     "text": [
      " 17%|█▋        | 105/628 [00:04<00:25, 20.76it/s]"
     ]
    },
    {
     "name": "stdout",
     "output_type": "stream",
     "text": [
      "\tsaving model 24600...\n"
     ]
    },
    {
     "name": "stderr",
     "output_type": "stream",
     "text": [
      "\n",
      "  0%|          | 0/55 [00:00<?, ?it/s]\u001b[A\n",
      " 15%|#4        | 8/55 [00:00<00:00, 75.22it/s]\u001b[A"
     ]
    },
    {
     "name": "stdout",
     "output_type": "stream",
     "text": [
      "\tdone\n",
      "Evaluating\n"
     ]
    },
    {
     "name": "stderr",
     "output_type": "stream",
     "text": [
      "\n",
      " 25%|##5       | 14/55 [00:00<00:00, 69.40it/s]\u001b[A\n",
      " 40%|####      | 22/55 [00:00<00:00, 70.70it/s]\u001b[A\n",
      " 55%|#####4    | 30/55 [00:00<00:00, 72.50it/s]\u001b[A\n",
      " 69%|######9   | 38/55 [00:00<00:00, 73.85it/s]\u001b[A\n",
      " 82%|########1 | 45/55 [00:00<00:00, 72.18it/s]\u001b[A\n",
      " 96%|#########6| 53/55 [00:00<00:00, 73.16it/s]\u001b[A\n",
      " 18%|█▊        | 111/628 [00:06<01:00,  8.60it/s]A"
     ]
    },
    {
     "name": "stdout",
     "output_type": "stream",
     "text": [
      "{'ade': 0.5498116, 'fde': 1.1848044}\n",
      "\t last loss:0.000402830, eval on validation:['ade: 0.5498116', 'fde: 1.1848044'], (best ade:0.5464883 at step 23100) \n"
     ]
    },
    {
     "name": "stderr",
     "output_type": "stream",
     "text": [
      " 65%|██████▍   | 407/628 [00:18<00:08, 24.80it/s]\n",
      "  0%|          | 0/55 [00:00<?, ?it/s]\u001b[A"
     ]
    },
    {
     "name": "stdout",
     "output_type": "stream",
     "text": [
      "\tsaving model 24900...\n",
      "\tdone\n",
      "Evaluating\n"
     ]
    },
    {
     "name": "stderr",
     "output_type": "stream",
     "text": [
      "\n",
      " 16%|#6        | 9/55 [00:00<00:00, 84.04it/s]\u001b[A\n",
      " 33%|###2      | 18/55 [00:00<00:00, 85.14it/s]\u001b[A\n",
      " 49%|####9     | 27/55 [00:00<00:00, 84.68it/s]\u001b[A\n",
      " 65%|######5   | 36/55 [00:00<00:00, 83.78it/s]\u001b[A\n",
      " 82%|########1 | 45/55 [00:00<00:00, 84.23it/s]\u001b[A\n",
      " 98%|#########8| 54/55 [00:00<00:00, 83.48it/s]\u001b[A\n",
      " 65%|██████▌   | 410/628 [00:19<00:27,  7.96it/s]A"
     ]
    },
    {
     "name": "stdout",
     "output_type": "stream",
     "text": [
      "{'ade': 0.55273515, 'fde': 1.1928656}\n",
      "\t last loss:0.000351067, eval on validation:['ade: 0.55273515', 'fde: 1.1928656'], (best ade:0.5464883 at step 23100) \n"
     ]
    },
    {
     "name": "stderr",
     "output_type": "stream",
     "text": [
      "100%|██████████| 628/628 [00:28<00:00, 21.82it/s]\n",
      "  0%|          | 1/628 [00:00<01:09,  8.99it/s]"
     ]
    },
    {
     "name": "stdout",
     "output_type": "stream",
     "text": [
      "('Epoca 41.', 'lr:', 7.751911e-05)\n"
     ]
    },
    {
     "name": "stderr",
     "output_type": "stream",
     "text": [
      " 13%|█▎        | 79/628 [00:03<00:23, 23.44it/s]"
     ]
    },
    {
     "name": "stdout",
     "output_type": "stream",
     "text": [
      "\tsaving model 25200...\n"
     ]
    },
    {
     "name": "stderr",
     "output_type": "stream",
     "text": [
      "\n",
      "  0%|          | 0/55 [00:00<?, ?it/s]\u001b[A\n",
      " 16%|#6        | 9/55 [00:00<00:00, 81.21it/s]\u001b[A"
     ]
    },
    {
     "name": "stdout",
     "output_type": "stream",
     "text": [
      "\tdone\n",
      "Evaluating\n"
     ]
    },
    {
     "name": "stderr",
     "output_type": "stream",
     "text": [
      "\n",
      " 31%|###       | 17/55 [00:00<00:00, 78.06it/s]\u001b[A\n",
      " 44%|####3     | 24/55 [00:00<00:00, 75.45it/s]\u001b[A\n",
      " 58%|#####8    | 32/55 [00:00<00:00, 75.52it/s]\u001b[A\n",
      " 73%|#######2  | 40/55 [00:00<00:00, 75.40it/s]\u001b[A\n",
      " 87%|########7 | 48/55 [00:00<00:00, 75.77it/s]\u001b[A\n",
      " 13%|█▎        | 82/628 [00:04<01:15,  7.26it/s][A"
     ]
    },
    {
     "name": "stdout",
     "output_type": "stream",
     "text": [
      "{'ade': 0.5502972, 'fde': 1.1869205}\n",
      "\t last loss:0.000349996, eval on validation:['ade: 0.5502972', 'fde: 1.1869205'], (best ade:0.5464883 at step 23100) \n"
     ]
    },
    {
     "name": "stderr",
     "output_type": "stream",
     "text": [
      " 60%|██████    | 379/628 [00:16<00:09, 25.10it/s]\n",
      "  0%|          | 0/55 [00:00<?, ?it/s]\u001b[A"
     ]
    },
    {
     "name": "stdout",
     "output_type": "stream",
     "text": [
      "\tsaving model 25500...\n",
      "\tdone\n",
      "Evaluating\n"
     ]
    },
    {
     "name": "stderr",
     "output_type": "stream",
     "text": [
      "\n",
      " 15%|#4        | 8/55 [00:00<00:00, 72.52it/s]\u001b[A\n",
      " 31%|###       | 17/55 [00:00<00:00, 75.61it/s]\u001b[A\n",
      " 47%|####7     | 26/55 [00:00<00:00, 78.01it/s]\u001b[A\n",
      " 64%|######3   | 35/55 [00:00<00:00, 80.13it/s]\u001b[A\n",
      " 78%|#######8  | 43/55 [00:00<00:00, 78.78it/s]\u001b[A\n",
      " 95%|#########4| 52/55 [00:00<00:00, 80.67it/s]\u001b[A\n",
      "100%|##########| 55/55 [00:00<00:00, 79.99it/s]\u001b[A"
     ]
    },
    {
     "name": "stdout",
     "output_type": "stream",
     "text": [
      "{'ade': 0.54479885, 'fde': 1.1720196}\n",
      "\t last loss:0.000280331, eval on validation:['ade: 0.54479885', 'fde: 1.1720196'], (best ade:0.5464883 at step 23100) \n",
      "\t saving best model...\n",
      "\t done.\n"
     ]
    },
    {
     "name": "stderr",
     "output_type": "stream",
     "text": [
      "100%|██████████| 628/628 [00:28<00:00, 22.97it/s]\n",
      "  0%|          | 3/628 [00:00<00:27, 22.93it/s]"
     ]
    },
    {
     "name": "stdout",
     "output_type": "stream",
     "text": [
      "('Epoca 42.', 'lr:', 7.751911e-05)\n"
     ]
    },
    {
     "name": "stderr",
     "output_type": "stream",
     "text": [
      "  8%|▊         | 50/628 [00:02<00:23, 25.00it/s]\n",
      "  0%|          | 0/55 [00:00<?, ?it/s]\u001b[A"
     ]
    },
    {
     "name": "stdout",
     "output_type": "stream",
     "text": [
      "\tsaving model 25800...\n",
      "\tdone\n",
      "Evaluating\n"
     ]
    },
    {
     "name": "stderr",
     "output_type": "stream",
     "text": [
      "\n",
      " 16%|#6        | 9/55 [00:00<00:00, 83.97it/s]\u001b[A\n",
      " 33%|###2      | 18/55 [00:00<00:00, 84.47it/s]\u001b[A\n",
      " 49%|####9     | 27/55 [00:00<00:00, 83.71it/s]\u001b[A\n",
      " 65%|######5   | 36/55 [00:00<00:00, 84.55it/s]\u001b[A\n",
      " 82%|########1 | 45/55 [00:00<00:00, 85.30it/s]\u001b[A\n",
      " 98%|#########8| 54/55 [00:00<00:00, 84.93it/s]\u001b[A\n",
      "  8%|▊         | 53/628 [00:03<01:11,  7.99it/s][A"
     ]
    },
    {
     "name": "stdout",
     "output_type": "stream",
     "text": [
      "{'ade': 0.5494677, 'fde': 1.1858677}\n",
      "\t last loss:0.000391584, eval on validation:['ade: 0.5494677', 'fde: 1.1858677'], (best ade:0.54479885 at step 25500) \n"
     ]
    },
    {
     "name": "stderr",
     "output_type": "stream",
     "text": [
      " 56%|█████▌    | 350/628 [00:14<00:12, 23.05it/s]\n",
      "  0%|          | 0/55 [00:00<?, ?it/s]\u001b[A"
     ]
    },
    {
     "name": "stdout",
     "output_type": "stream",
     "text": [
      "\tsaving model 26100...\n",
      "\tdone\n",
      "Evaluating\n"
     ]
    },
    {
     "name": "stderr",
     "output_type": "stream",
     "text": [
      "\n",
      " 16%|#6        | 9/55 [00:00<00:00, 81.93it/s]\u001b[A\n",
      " 33%|###2      | 18/55 [00:00<00:00, 83.21it/s]\u001b[A\n",
      " 49%|####9     | 27/55 [00:00<00:00, 84.24it/s]\u001b[A\n",
      " 64%|######3   | 35/55 [00:00<00:00, 81.89it/s]\u001b[A\n",
      " 80%|########  | 44/55 [00:00<00:00, 82.28it/s]\u001b[A\n",
      " 96%|#########6| 53/55 [00:00<00:00, 82.89it/s]\u001b[A\n",
      " 56%|█████▌    | 353/628 [00:15<00:35,  7.77it/s]A"
     ]
    },
    {
     "name": "stdout",
     "output_type": "stream",
     "text": [
      "{'ade': 0.5522152, 'fde': 1.1906488}\n",
      "\t last loss:0.000323029, eval on validation:['ade: 0.5522152', 'fde: 1.1906488'], (best ade:0.54479885 at step 25500) \n"
     ]
    },
    {
     "name": "stderr",
     "output_type": "stream",
     "text": [
      "100%|██████████| 628/628 [00:28<00:00, 23.42it/s]\n",
      "  0%|          | 2/628 [00:00<00:32, 19.40it/s]"
     ]
    },
    {
     "name": "stdout",
     "output_type": "stream",
     "text": [
      "('Epoca 43.', 'lr:', 6.589125e-05)\n"
     ]
    },
    {
     "name": "stderr",
     "output_type": "stream",
     "text": [
      "  4%|▎         | 23/628 [00:00<00:24, 24.42it/s]\n",
      "  0%|          | 0/55 [00:00<?, ?it/s]\u001b[A"
     ]
    },
    {
     "name": "stdout",
     "output_type": "stream",
     "text": [
      "\tsaving model 26400...\n",
      "\tdone\n",
      "Evaluating\n"
     ]
    },
    {
     "name": "stderr",
     "output_type": "stream",
     "text": [
      "\n",
      " 16%|#6        | 9/55 [00:00<00:00, 82.56it/s]\u001b[A\n",
      " 33%|###2      | 18/55 [00:00<00:00, 83.73it/s]\u001b[A\n",
      " 49%|####9     | 27/55 [00:00<00:00, 83.69it/s]\u001b[A\n",
      " 65%|######5   | 36/55 [00:00<00:00, 83.95it/s]\u001b[A\n",
      " 82%|########1 | 45/55 [00:00<00:00, 84.48it/s]\u001b[A\n",
      " 98%|#########8| 54/55 [00:00<00:00, 84.23it/s]\u001b[A\n",
      "  4%|▍         | 26/628 [00:01<01:15,  7.99it/s][A"
     ]
    },
    {
     "name": "stdout",
     "output_type": "stream",
     "text": [
      "{'ade': 0.5462842, 'fde': 1.1764742}\n",
      "\t last loss:0.000446099, eval on validation:['ade: 0.5462842', 'fde: 1.1764742'], (best ade:0.54479885 at step 25500) \n"
     ]
    },
    {
     "name": "stderr",
     "output_type": "stream",
     "text": [
      " 51%|█████▏    | 322/628 [00:14<00:13, 23.21it/s]\n",
      "  0%|          | 0/55 [00:00<?, ?it/s]\u001b[A"
     ]
    },
    {
     "name": "stdout",
     "output_type": "stream",
     "text": [
      "\tsaving model 26700...\n",
      "\tdone\n",
      "Evaluating\n"
     ]
    },
    {
     "name": "stderr",
     "output_type": "stream",
     "text": [
      "\n",
      " 11%|#         | 6/55 [00:00<00:00, 59.44it/s]\u001b[A\n",
      " 25%|##5       | 14/55 [00:00<00:00, 63.87it/s]\u001b[A\n",
      " 40%|####      | 22/55 [00:00<00:00, 67.10it/s]\u001b[A\n",
      " 55%|#####4    | 30/55 [00:00<00:00, 68.17it/s]\u001b[A\n",
      " 69%|######9   | 38/55 [00:00<00:00, 70.85it/s]\u001b[A\n",
      " 84%|########3 | 46/55 [00:00<00:00, 72.71it/s]\u001b[A\n",
      " 98%|#########8| 54/55 [00:00<00:00, 72.97it/s]\u001b[A\n",
      " 52%|█████▏    | 325/628 [00:15<00:42,  7.14it/s]A"
     ]
    },
    {
     "name": "stdout",
     "output_type": "stream",
     "text": [
      "{'ade': 0.54933816, 'fde': 1.18561}\n",
      "\t last loss:0.000478077, eval on validation:['ade: 0.54933816', 'fde: 1.18561'], (best ade:0.54479885 at step 25500) \n"
     ]
    },
    {
     "name": "stderr",
     "output_type": "stream",
     "text": [
      " 99%|█████████▉| 621/628 [00:27<00:00, 24.86it/s]\n",
      "  0%|          | 0/55 [00:00<?, ?it/s]\u001b[A"
     ]
    },
    {
     "name": "stdout",
     "output_type": "stream",
     "text": [
      "\tsaving model 27000...\n",
      "\tdone\n",
      "Evaluating\n"
     ]
    },
    {
     "name": "stderr",
     "output_type": "stream",
     "text": [
      "\n",
      " 16%|#6        | 9/55 [00:00<00:00, 82.13it/s]\u001b[A\n",
      " 33%|###2      | 18/55 [00:00<00:00, 82.63it/s]\u001b[A\n",
      " 44%|####3     | 24/55 [00:00<00:00, 73.82it/s]\u001b[A\n",
      " 62%|######1   | 34/55 [00:00<00:00, 78.58it/s]\u001b[A\n",
      " 80%|########  | 44/55 [00:00<00:00, 82.20it/s]\u001b[A\n",
      " 96%|#########6| 53/55 [00:00<00:00, 83.35it/s]\u001b[A\n",
      "100%|█████████▉| 627/628 [00:28<00:00, 10.12it/s]A"
     ]
    },
    {
     "name": "stdout",
     "output_type": "stream",
     "text": [
      "{'ade': 0.5486378, 'fde': 1.1842602}\n",
      "\t last loss:0.000440794, eval on validation:['ade: 0.5486378', 'fde: 1.1842602'], (best ade:0.54479885 at step 25500) \n"
     ]
    },
    {
     "name": "stderr",
     "output_type": "stream",
     "text": [
      "100%|██████████| 628/628 [00:28<00:00, 21.82it/s]\n",
      "  0%|          | 1/628 [00:00<01:07,  9.28it/s]"
     ]
    },
    {
     "name": "stdout",
     "output_type": "stream",
     "text": [
      "('Epoca 44.', 'lr:', 6.589125e-05)\n"
     ]
    },
    {
     "name": "stderr",
     "output_type": "stream",
     "text": [
      " 47%|████▋     | 295/628 [00:11<00:15, 21.42it/s]"
     ]
    },
    {
     "name": "stdout",
     "output_type": "stream",
     "text": [
      "\tsaving model 27300...\n"
     ]
    },
    {
     "name": "stderr",
     "output_type": "stream",
     "text": [
      "\n",
      "  0%|          | 0/55 [00:00<?, ?it/s]\u001b[A\n",
      " 13%|#2        | 7/55 [00:00<00:00, 63.59it/s]\u001b[A"
     ]
    },
    {
     "name": "stdout",
     "output_type": "stream",
     "text": [
      "\tdone\n",
      "Evaluating\n"
     ]
    },
    {
     "name": "stderr",
     "output_type": "stream",
     "text": [
      "\n",
      " 24%|##3       | 13/55 [00:00<00:00, 61.64it/s]\u001b[A\n",
      " 36%|###6      | 20/55 [00:00<00:00, 62.74it/s]\u001b[A\n",
      " 49%|####9     | 27/55 [00:00<00:00, 64.30it/s]\u001b[A\n",
      " 60%|######    | 33/55 [00:00<00:00, 62.67it/s]\u001b[A\n",
      " 73%|#######2  | 40/55 [00:00<00:00, 62.73it/s]\u001b[A\n",
      " 85%|########5 | 47/55 [00:00<00:00, 63.98it/s]\u001b[A\n",
      " 98%|#########8| 54/55 [00:00<00:00, 64.56it/s]\u001b[A\n",
      " 47%|████▋     | 298/628 [00:13<00:52,  6.32it/s]A"
     ]
    },
    {
     "name": "stdout",
     "output_type": "stream",
     "text": [
      "{'ade': 0.55602884, 'fde': 1.2033126}\n",
      "\t last loss:0.000274854, eval on validation:['ade: 0.55602884', 'fde: 1.2033126'], (best ade:0.54479885 at step 25500) \n"
     ]
    },
    {
     "name": "stderr",
     "output_type": "stream",
     "text": [
      " 95%|█████████▍| 595/628 [00:26<00:01, 24.97it/s]\n",
      "  0%|          | 0/55 [00:00<?, ?it/s]\u001b[A"
     ]
    },
    {
     "name": "stdout",
     "output_type": "stream",
     "text": [
      "\tsaving model 27600...\n",
      "\tdone\n",
      "Evaluating\n"
     ]
    },
    {
     "name": "stderr",
     "output_type": "stream",
     "text": [
      "\n",
      " 15%|#4        | 8/55 [00:00<00:00, 75.62it/s]\u001b[A\n",
      " 29%|##9       | 16/55 [00:00<00:00, 76.62it/s]\u001b[A\n",
      " 45%|####5     | 25/55 [00:00<00:00, 78.97it/s]\u001b[A\n",
      " 62%|######1   | 34/55 [00:00<00:00, 79.39it/s]\u001b[A\n",
      " 78%|#######8  | 43/55 [00:00<00:00, 80.65it/s]\u001b[A\n",
      " 95%|#########4| 52/55 [00:00<00:00, 81.77it/s]\u001b[A\n",
      " 95%|█████████▌| 598/628 [00:27<00:03,  7.91it/s]A"
     ]
    },
    {
     "name": "stdout",
     "output_type": "stream",
     "text": [
      "{'ade': 0.54997957, 'fde': 1.187812}\n",
      "\t last loss:0.000526291, eval on validation:['ade: 0.54997957', 'fde: 1.187812'], (best ade:0.54479885 at step 25500) \n"
     ]
    },
    {
     "name": "stderr",
     "output_type": "stream",
     "text": [
      "100%|██████████| 628/628 [00:28<00:00, 19.38it/s]\n",
      "  0%|          | 2/628 [00:00<00:32, 19.56it/s]"
     ]
    },
    {
     "name": "stdout",
     "output_type": "stream",
     "text": [
      "('Epoca 45.', 'lr:', 5.600756e-05)\n"
     ]
    },
    {
     "name": "stderr",
     "output_type": "stream",
     "text": [
      " 43%|████▎     | 267/628 [00:11<00:13, 26.34it/s]\n",
      "  0%|          | 0/55 [00:00<?, ?it/s]\u001b[A"
     ]
    },
    {
     "name": "stdout",
     "output_type": "stream",
     "text": [
      "\tsaving model 27900...\n",
      "\tdone\n",
      "Evaluating\n"
     ]
    },
    {
     "name": "stderr",
     "output_type": "stream",
     "text": [
      "\n",
      " 18%|#8        | 10/55 [00:00<00:00, 91.78it/s]\u001b[A\n",
      " 33%|###2      | 18/55 [00:00<00:00, 86.61it/s]\u001b[A\n",
      " 51%|#####     | 28/55 [00:00<00:00, 88.01it/s]\u001b[A\n",
      " 69%|######9   | 38/55 [00:00<00:00, 89.90it/s]\u001b[A\n",
      " 85%|########5 | 47/55 [00:00<00:00, 88.33it/s]\u001b[A\n",
      " 43%|████▎     | 270/628 [00:12<00:41,  8.58it/s]A"
     ]
    },
    {
     "name": "stdout",
     "output_type": "stream",
     "text": [
      "{'ade': 0.5525533, 'fde': 1.1964853}\n",
      "\t last loss:0.000450201, eval on validation:['ade: 0.5525533', 'fde: 1.1964853'], (best ade:0.54479885 at step 25500) \n"
     ]
    },
    {
     "name": "stderr",
     "output_type": "stream",
     "text": [
      " 90%|█████████ | 567/628 [00:24<00:02, 20.99it/s]"
     ]
    },
    {
     "name": "stdout",
     "output_type": "stream",
     "text": [
      "\tsaving model 28200...\n"
     ]
    },
    {
     "name": "stderr",
     "output_type": "stream",
     "text": [
      "\n",
      "  0%|          | 0/55 [00:00<?, ?it/s]\u001b[A\n",
      " 13%|#2        | 7/55 [00:00<00:00, 69.43it/s]\u001b[A"
     ]
    },
    {
     "name": "stdout",
     "output_type": "stream",
     "text": [
      "\tdone\n",
      "Evaluating\n"
     ]
    },
    {
     "name": "stderr",
     "output_type": "stream",
     "text": [
      "\n",
      " 25%|##5       | 14/55 [00:00<00:00, 67.91it/s]\u001b[A\n",
      " 36%|###6      | 20/55 [00:00<00:00, 65.27it/s]\u001b[A\n",
      " 49%|####9     | 27/55 [00:00<00:00, 65.37it/s]\u001b[A\n",
      " 62%|######1   | 34/55 [00:00<00:00, 66.16it/s]\u001b[A\n",
      " 75%|#######4  | 41/55 [00:00<00:00, 66.29it/s]\u001b[A\n",
      " 87%|########7 | 48/55 [00:00<00:00, 66.27it/s]\u001b[A\n",
      " 91%|█████████ | 570/628 [00:25<00:09,  6.32it/s]A"
     ]
    },
    {
     "name": "stdout",
     "output_type": "stream",
     "text": [
      "{'ade': 0.54642415, 'fde': 1.1740378}\n",
      "\t last loss:0.000458449, eval on validation:['ade: 0.54642415', 'fde: 1.1740378'], (best ade:0.54479885 at step 25500) \n"
     ]
    },
    {
     "name": "stderr",
     "output_type": "stream",
     "text": [
      "100%|██████████| 628/628 [00:28<00:00, 21.95it/s]\n",
      "  0%|          | 1/628 [00:00<01:09,  9.01it/s]"
     ]
    },
    {
     "name": "stdout",
     "output_type": "stream",
     "text": [
      "('Epoca 46.', 'lr:', 5.600756e-05)\n"
     ]
    },
    {
     "name": "stderr",
     "output_type": "stream",
     "text": [
      " 38%|███▊      | 237/628 [00:09<00:15, 24.94it/s]\n",
      "  0%|          | 0/55 [00:00<?, ?it/s]\u001b[A"
     ]
    },
    {
     "name": "stdout",
     "output_type": "stream",
     "text": [
      "\tsaving model 28500...\n",
      "\tdone\n",
      "Evaluating\n"
     ]
    },
    {
     "name": "stderr",
     "output_type": "stream",
     "text": [
      "\n",
      " 16%|#6        | 9/55 [00:00<00:00, 79.62it/s]\u001b[A\n",
      " 27%|##7       | 15/55 [00:00<00:00, 71.40it/s]\u001b[A\n",
      " 40%|####      | 22/55 [00:00<00:00, 69.94it/s]\u001b[A\n",
      " 53%|#####2    | 29/55 [00:00<00:00, 67.96it/s]\u001b[A\n",
      " 65%|######5   | 36/55 [00:00<00:00, 67.75it/s]\u001b[A\n",
      " 78%|#######8  | 43/55 [00:00<00:00, 67.75it/s]\u001b[A\n",
      " 91%|######### | 50/55 [00:00<00:00, 66.43it/s]\u001b[A\n",
      " 39%|███▊      | 243/628 [00:11<00:44,  8.74it/s]A"
     ]
    },
    {
     "name": "stdout",
     "output_type": "stream",
     "text": [
      "{'ade': 0.5564616, 'fde': 1.2074876}\n",
      "\t last loss:0.000492319, eval on validation:['ade: 0.5564616', 'fde: 1.2074876'], (best ade:0.54479885 at step 25500) \n"
     ]
    },
    {
     "name": "stderr",
     "output_type": "stream",
     "text": [
      " 86%|████████▌ | 537/628 [00:23<00:03, 26.52it/s]\n",
      "  0%|          | 0/55 [00:00<?, ?it/s]\u001b[A"
     ]
    },
    {
     "name": "stdout",
     "output_type": "stream",
     "text": [
      "\tsaving model 28800...\n",
      "\tdone\n",
      "Evaluating\n"
     ]
    },
    {
     "name": "stderr",
     "output_type": "stream",
     "text": [
      "\n",
      " 13%|#2        | 7/55 [00:00<00:00, 69.88it/s]\u001b[A\n",
      " 27%|##7       | 15/55 [00:00<00:00, 71.60it/s]\u001b[A\n",
      " 45%|####5     | 25/55 [00:00<00:00, 75.72it/s]\u001b[A\n",
      " 64%|######3   | 35/55 [00:00<00:00, 80.38it/s]\u001b[A\n",
      " 82%|########1 | 45/55 [00:00<00:00, 83.91it/s]\u001b[A\n",
      "100%|##########| 55/55 [00:00<00:00, 87.03it/s]\u001b[A"
     ]
    },
    {
     "name": "stdout",
     "output_type": "stream",
     "text": [
      "{'ade': 0.54351544, 'fde': 1.166709}\n",
      "\t last loss:0.000560382, eval on validation:['ade: 0.54351544', 'fde: 1.166709'], (best ade:0.54479885 at step 25500) \n",
      "\t saving best model...\n",
      "\t done.\n"
     ]
    },
    {
     "name": "stderr",
     "output_type": "stream",
     "text": [
      "100%|██████████| 628/628 [00:28<00:00, 21.95it/s]\n",
      "  0%|          | 3/628 [00:00<00:26, 24.00it/s]"
     ]
    },
    {
     "name": "stdout",
     "output_type": "stream",
     "text": [
      "('Epoca 47.', 'lr:', 4.7606427e-05)\n"
     ]
    },
    {
     "name": "stderr",
     "output_type": "stream",
     "text": [
      " 33%|███▎      | 210/628 [00:09<00:20, 20.45it/s]"
     ]
    },
    {
     "name": "stdout",
     "output_type": "stream",
     "text": [
      "\tsaving model 29100...\n"
     ]
    },
    {
     "name": "stderr",
     "output_type": "stream",
     "text": [
      "\n",
      "  0%|          | 0/55 [00:00<?, ?it/s]\u001b[A\n",
      " 13%|#2        | 7/55 [00:00<00:00, 68.05it/s]\u001b[A\n",
      " 25%|##5       | 14/55 [00:00<00:00, 68.27it/s]\u001b[A\n",
      " 38%|###8      | 21/55 [00:00<00:00, 66.80it/s]\u001b[A\n",
      " 51%|#####     | 28/55 [00:00<00:00, 66.28it/s]\u001b[A\n",
      " 65%|######5   | 36/55 [00:00<00:00, 68.34it/s]\u001b[A\n",
      " 80%|########  | 44/55 [00:00<00:00, 69.82it/s]\u001b[A\n",
      " 95%|#########4| 52/55 [00:00<00:00, 72.25it/s]\u001b[A\n",
      " 34%|███▍      | 213/628 [00:10<01:02,  6.64it/s]A"
     ]
    },
    {
     "name": "stdout",
     "output_type": "stream",
     "text": [
      "\tdone\n",
      "Evaluating\n",
      "{'ade': 0.54675645, 'fde': 1.1766603}\n",
      "\t last loss:0.000308889, eval on validation:['ade: 0.54675645', 'fde: 1.1766603'], (best ade:0.54351544 at step 28800) \n"
     ]
    },
    {
     "name": "stderr",
     "output_type": "stream",
     "text": [
      " 81%|████████  | 510/628 [00:22<00:04, 25.24it/s]\n",
      "  0%|          | 0/55 [00:00<?, ?it/s]\u001b[A"
     ]
    },
    {
     "name": "stdout",
     "output_type": "stream",
     "text": [
      "\tsaving model 29400...\n",
      "\tdone\n",
      "Evaluating\n"
     ]
    },
    {
     "name": "stderr",
     "output_type": "stream",
     "text": [
      "\n",
      " 16%|#6        | 9/55 [00:00<00:00, 84.08it/s]\u001b[A\n",
      " 31%|###       | 17/55 [00:00<00:00, 81.29it/s]\u001b[A\n",
      " 47%|####7     | 26/55 [00:00<00:00, 82.63it/s]\u001b[A\n",
      " 62%|######1   | 34/55 [00:00<00:00, 81.01it/s]\u001b[A\n",
      " 78%|#######8  | 43/55 [00:00<00:00, 81.10it/s]\u001b[A\n",
      " 95%|#########4| 52/55 [00:00<00:00, 82.54it/s]\u001b[A\n",
      " 82%|████████▏ | 513/628 [00:23<00:14,  7.87it/s]A"
     ]
    },
    {
     "name": "stdout",
     "output_type": "stream",
     "text": [
      "{'ade': 0.55113935, 'fde': 1.1909802}\n",
      "\t last loss:0.000481643, eval on validation:['ade: 0.55113935', 'fde: 1.1909802'], (best ade:0.54351544 at step 28800) \n"
     ]
    },
    {
     "name": "stderr",
     "output_type": "stream",
     "text": [
      "100%|██████████| 628/628 [00:28<00:00, 22.43it/s]\n",
      "  0%|          | 3/628 [00:00<00:25, 24.12it/s]"
     ]
    },
    {
     "name": "stdout",
     "output_type": "stream",
     "text": [
      "('Epoca 48.', 'lr:', 4.7606427e-05)\n"
     ]
    },
    {
     "name": "stderr",
     "output_type": "stream",
     "text": [
      " 29%|██▉       | 183/628 [00:08<00:19, 22.82it/s]\n",
      "  0%|          | 0/55 [00:00<?, ?it/s]\u001b[A"
     ]
    },
    {
     "name": "stdout",
     "output_type": "stream",
     "text": [
      "\tsaving model 29700...\n",
      "\tdone\n",
      "Evaluating\n"
     ]
    },
    {
     "name": "stderr",
     "output_type": "stream",
     "text": [
      "\n",
      " 15%|#4        | 8/55 [00:00<00:00, 74.22it/s]\u001b[A\n",
      " 29%|##9       | 16/55 [00:00<00:00, 73.66it/s]\u001b[A\n",
      " 42%|####1     | 23/55 [00:00<00:00, 71.85it/s]\u001b[A\n",
      " 56%|#####6    | 31/55 [00:00<00:00, 72.89it/s]\u001b[A\n",
      " 71%|#######   | 39/55 [00:00<00:00, 72.90it/s]\u001b[A\n",
      " 85%|########5 | 47/55 [00:00<00:00, 73.55it/s]\u001b[A\n",
      " 30%|██▉       | 186/628 [00:09<01:01,  7.17it/s]A"
     ]
    },
    {
     "name": "stdout",
     "output_type": "stream",
     "text": [
      "{'ade': 0.54984605, 'fde': 1.1859249}\n",
      "\t last loss:0.000585824, eval on validation:['ade: 0.54984605', 'fde: 1.1859249'], (best ade:0.54351544 at step 28800) \n"
     ]
    },
    {
     "name": "stderr",
     "output_type": "stream",
     "text": [
      " 77%|███████▋  | 482/628 [00:22<00:06, 21.58it/s]\n",
      "  0%|          | 0/55 [00:00<?, ?it/s]\u001b[A"
     ]
    },
    {
     "name": "stdout",
     "output_type": "stream",
     "text": [
      "\tsaving model 30000...\n",
      "\tdone\n",
      "Evaluating\n"
     ]
    },
    {
     "name": "stderr",
     "output_type": "stream",
     "text": [
      "\n",
      " 15%|#4        | 8/55 [00:00<00:00, 76.69it/s]\u001b[A\n",
      " 29%|##9       | 16/55 [00:00<00:00, 76.45it/s]\u001b[A\n",
      " 44%|####3     | 24/55 [00:00<00:00, 75.26it/s]\u001b[A\n",
      " 55%|#####4    | 30/55 [00:00<00:00, 68.88it/s]\u001b[A\n",
      " 69%|######9   | 38/55 [00:00<00:00, 70.46it/s]\u001b[A\n",
      " 82%|########1 | 45/55 [00:00<00:00, 70.07it/s]\u001b[A\n",
      " 96%|#########6| 53/55 [00:00<00:00, 72.38it/s]\u001b[A\n",
      " 77%|███████▋  | 485/628 [00:23<00:20,  6.98it/s]A"
     ]
    },
    {
     "name": "stdout",
     "output_type": "stream",
     "text": [
      "{'ade': 0.5498118, 'fde': 1.1863242}\n",
      "\t last loss:0.000305414, eval on validation:['ade: 0.5498118', 'fde: 1.1863242'], (best ade:0.54351544 at step 28800) \n"
     ]
    },
    {
     "name": "stderr",
     "output_type": "stream",
     "text": [
      "100%|██████████| 628/628 [00:29<00:00, 21.31it/s]\n",
      "  0%|          | 1/628 [00:00<01:13,  8.51it/s]"
     ]
    },
    {
     "name": "stdout",
     "output_type": "stream",
     "text": [
      "('Epoca 49.', 'lr:', 4.0465464e-05)\n"
     ]
    },
    {
     "name": "stderr",
     "output_type": "stream",
     "text": [
      " 25%|██▍       | 154/628 [00:06<00:18, 25.23it/s]\n",
      "  0%|          | 0/55 [00:00<?, ?it/s]\u001b[A"
     ]
    },
    {
     "name": "stdout",
     "output_type": "stream",
     "text": [
      "\tsaving model 30300...\n",
      "\tdone\n",
      "Evaluating\n"
     ]
    },
    {
     "name": "stderr",
     "output_type": "stream",
     "text": [
      "\n",
      " 16%|#6        | 9/55 [00:00<00:00, 84.83it/s]\u001b[A\n",
      " 31%|###       | 17/55 [00:00<00:00, 82.20it/s]\u001b[A\n",
      " 47%|####7     | 26/55 [00:00<00:00, 83.03it/s]\u001b[A\n",
      " 64%|######3   | 35/55 [00:00<00:00, 83.77it/s]\u001b[A\n",
      " 80%|########  | 44/55 [00:00<00:00, 84.40it/s]\u001b[A\n",
      " 96%|#########6| 53/55 [00:00<00:00, 84.42it/s]\u001b[A\n",
      " 25%|██▌       | 157/628 [00:07<00:59,  7.87it/s]A"
     ]
    },
    {
     "name": "stdout",
     "output_type": "stream",
     "text": [
      "{'ade': 0.54693097, 'fde': 1.1795211}\n",
      "\t last loss:0.000378837, eval on validation:['ade: 0.54693097', 'fde: 1.1795211'], (best ade:0.54351544 at step 28800) \n"
     ]
    },
    {
     "name": "stderr",
     "output_type": "stream",
     "text": [
      " 72%|███████▏  | 454/628 [00:20<00:07, 23.12it/s]\n",
      "  0%|          | 0/55 [00:00<?, ?it/s]"
     ]
    },
    {
     "name": "stdout",
     "output_type": "stream",
     "text": [
      "\tsaving model 30600...\n",
      "\tdone\n",
      "Evaluating\n"
     ]
    },
    {
     "name": "stderr",
     "output_type": "stream",
     "text": [
      "\u001b[A\n",
      " 11%|#         | 6/55 [00:00<00:00, 59.35it/s]\u001b[A\n",
      " 25%|##5       | 14/55 [00:00<00:00, 64.29it/s]\u001b[A\n",
      " 42%|####1     | 23/55 [00:00<00:00, 69.57it/s]\u001b[A\n",
      " 58%|#####8    | 32/55 [00:00<00:00, 73.24it/s]\u001b[A\n",
      " 75%|#######4  | 41/55 [00:00<00:00, 76.78it/s]\u001b[A\n",
      " 91%|######### | 50/55 [00:00<00:00, 79.45it/s]\u001b[A\n",
      " 73%|███████▎  | 460/628 [00:21<00:17,  9.56it/s]A"
     ]
    },
    {
     "name": "stdout",
     "output_type": "stream",
     "text": [
      "{'ade': 0.5495688, 'fde': 1.1844951}\n",
      "\t last loss:0.000339385, eval on validation:['ade: 0.5495688', 'fde: 1.1844951'], (best ade:0.54351544 at step 28800) \n"
     ]
    },
    {
     "name": "stderr",
     "output_type": "stream",
     "text": [
      "100%|██████████| 628/628 [00:27<00:00, 26.39it/s]\n",
      "  0%|          | 1/628 [00:00<01:14,  8.42it/s]"
     ]
    },
    {
     "name": "stdout",
     "output_type": "stream",
     "text": [
      "('Epoca 50.', 'lr:', 4.0465464e-05)\n"
     ]
    },
    {
     "name": "stderr",
     "output_type": "stream",
     "text": [
      " 20%|██        | 127/628 [00:05<00:19, 25.14it/s]\n",
      "  0%|          | 0/55 [00:00<?, ?it/s]\u001b[A"
     ]
    },
    {
     "name": "stdout",
     "output_type": "stream",
     "text": [
      "\tsaving model 30900...\n",
      "\tdone\n",
      "Evaluating\n"
     ]
    },
    {
     "name": "stderr",
     "output_type": "stream",
     "text": [
      "\n",
      " 13%|#2        | 7/55 [00:00<00:00, 68.26it/s]\u001b[A\n",
      " 29%|##9       | 16/55 [00:00<00:00, 72.48it/s]\u001b[A\n",
      " 44%|####3     | 24/55 [00:00<00:00, 74.18it/s]\u001b[A\n",
      " 60%|######    | 33/55 [00:00<00:00, 76.46it/s]\u001b[A\n",
      " 76%|#######6  | 42/55 [00:00<00:00, 79.20it/s]\u001b[A\n",
      " 93%|#########2| 51/55 [00:00<00:00, 81.16it/s]\u001b[A\n",
      " 21%|██        | 130/628 [00:06<01:03,  7.89it/s]A"
     ]
    },
    {
     "name": "stdout",
     "output_type": "stream",
     "text": [
      "{'ade': 0.5497391, 'fde': 1.1875079}\n",
      "\t last loss:0.000373549, eval on validation:['ade: 0.5497391', 'fde: 1.1875079'], (best ade:0.54351544 at step 28800) \n"
     ]
    },
    {
     "name": "stderr",
     "output_type": "stream",
     "text": [
      " 68%|██████▊   | 426/628 [00:19<00:08, 24.96it/s]\n",
      "  0%|          | 0/55 [00:00<?, ?it/s]\u001b[A"
     ]
    },
    {
     "name": "stdout",
     "output_type": "stream",
     "text": [
      "\tsaving model 31200...\n",
      "\tdone\n",
      "Evaluating\n"
     ]
    },
    {
     "name": "stderr",
     "output_type": "stream",
     "text": [
      "\n",
      " 13%|#2        | 7/55 [00:00<00:00, 68.92it/s]\u001b[A\n",
      " 27%|##7       | 15/55 [00:00<00:00, 71.17it/s]\u001b[A\n",
      " 42%|####1     | 23/55 [00:00<00:00, 73.45it/s]\u001b[A\n",
      " 58%|#####8    | 32/55 [00:00<00:00, 76.24it/s]\u001b[A\n",
      " 75%|#######4  | 41/55 [00:00<00:00, 79.03it/s]\u001b[A\n",
      " 91%|######### | 50/55 [00:00<00:00, 80.99it/s]\u001b[A\n",
      " 69%|██████▉   | 432/628 [00:20<00:19,  9.84it/s]A"
     ]
    },
    {
     "name": "stdout",
     "output_type": "stream",
     "text": [
      "{'ade': 0.54633945, 'fde': 1.1769491}\n",
      "\t last loss:0.000311642, eval on validation:['ade: 0.54633945', 'fde: 1.1769491'], (best ade:0.54351544 at step 28800) \n"
     ]
    },
    {
     "name": "stderr",
     "output_type": "stream",
     "text": [
      "100%|██████████| 628/628 [00:28<00:00, 25.03it/s]\n",
      "  0%|          | 1/628 [00:00<01:14,  8.38it/s]"
     ]
    },
    {
     "name": "stdout",
     "output_type": "stream",
     "text": [
      "('Epoca 51.', 'lr:', 3.4395645e-05)\n"
     ]
    },
    {
     "name": "stderr",
     "output_type": "stream",
     "text": [
      " 16%|█▌        | 99/628 [00:03<00:19, 26.81it/s]\n",
      "  0%|          | 0/55 [00:00<?, ?it/s]\u001b[A"
     ]
    },
    {
     "name": "stdout",
     "output_type": "stream",
     "text": [
      "\tsaving model 31500...\n",
      "\tdone\n",
      "Evaluating\n"
     ]
    },
    {
     "name": "stderr",
     "output_type": "stream",
     "text": [
      "\n",
      " 18%|#8        | 10/55 [00:00<00:00, 88.25it/s]\u001b[A\n",
      " 33%|###2      | 18/55 [00:00<00:00, 84.20it/s]\u001b[A\n",
      " 49%|####9     | 27/55 [00:00<00:00, 84.05it/s]\u001b[A\n",
      " 65%|######5   | 36/55 [00:00<00:00, 84.50it/s]\u001b[A\n",
      " 82%|########1 | 45/55 [00:00<00:00, 84.29it/s]\u001b[A\n",
      " 98%|#########8| 54/55 [00:00<00:00, 84.87it/s]\u001b[A\n",
      " 16%|█▌        | 102/628 [00:04<01:03,  8.23it/s]A"
     ]
    },
    {
     "name": "stdout",
     "output_type": "stream",
     "text": [
      "{'ade': 0.55005205, 'fde': 1.1867864}\n",
      "\t last loss:0.000796230, eval on validation:['ade: 0.55005205', 'fde: 1.1867864'], (best ade:0.54351544 at step 28800) \n"
     ]
    },
    {
     "name": "stderr",
     "output_type": "stream",
     "text": [
      " 64%|██████▎   | 399/628 [00:17<00:10, 22.73it/s]\n",
      "  0%|          | 0/55 [00:00<?, ?it/s]\u001b[A"
     ]
    },
    {
     "name": "stdout",
     "output_type": "stream",
     "text": [
      "\tsaving model 31800...\n",
      "\tdone\n",
      "Evaluating\n"
     ]
    },
    {
     "name": "stderr",
     "output_type": "stream",
     "text": [
      "\n",
      " 15%|#4        | 8/55 [00:00<00:00, 76.17it/s]\u001b[A\n",
      " 29%|##9       | 16/55 [00:00<00:00, 76.70it/s]\u001b[A\n",
      " 44%|####3     | 24/55 [00:00<00:00, 76.81it/s]\u001b[A\n",
      " 55%|#####4    | 30/55 [00:00<00:00, 69.61it/s]\u001b[A\n",
      " 67%|######7   | 37/55 [00:00<00:00, 68.96it/s]\u001b[A\n",
      " 82%|########1 | 45/55 [00:00<00:00, 71.14it/s]\u001b[A\n",
      " 96%|#########6| 53/55 [00:00<00:00, 72.89it/s]\u001b[A\n",
      " 64%|██████▍   | 402/628 [00:18<00:31,  7.11it/s]A"
     ]
    },
    {
     "name": "stdout",
     "output_type": "stream",
     "text": [
      "{'ade': 0.54918003, 'fde': 1.1872412}\n",
      "\t last loss:0.000537264, eval on validation:['ade: 0.54918003', 'fde: 1.1872412'], (best ade:0.54351544 at step 28800) \n"
     ]
    },
    {
     "name": "stderr",
     "output_type": "stream",
     "text": [
      "100%|██████████| 628/628 [00:28<00:00, 22.40it/s]\n",
      "  0%|          | 1/628 [00:00<01:05,  9.53it/s]"
     ]
    },
    {
     "name": "stdout",
     "output_type": "stream",
     "text": [
      "('Epoca 52.', 'lr:', 3.4395645e-05)\n"
     ]
    },
    {
     "name": "stderr",
     "output_type": "stream",
     "text": [
      " 11%|█         | 70/628 [00:03<00:27, 20.48it/s]"
     ]
    },
    {
     "name": "stdout",
     "output_type": "stream",
     "text": [
      "\tsaving model 32100...\n"
     ]
    },
    {
     "name": "stderr",
     "output_type": "stream",
     "text": [
      "\n",
      "  0%|          | 0/55 [00:00<?, ?it/s]\u001b[A\n",
      " 13%|#2        | 7/55 [00:00<00:00, 66.96it/s]\u001b[A"
     ]
    },
    {
     "name": "stdout",
     "output_type": "stream",
     "text": [
      "\tdone\n",
      "Evaluating\n"
     ]
    },
    {
     "name": "stderr",
     "output_type": "stream",
     "text": [
      "\n",
      " 25%|##5       | 14/55 [00:00<00:00, 66.22it/s]\u001b[A\n",
      " 38%|###8      | 21/55 [00:00<00:00, 65.45it/s]\u001b[A\n",
      " 49%|####9     | 27/55 [00:00<00:00, 61.40it/s]\u001b[A\n",
      " 62%|######1   | 34/55 [00:00<00:00, 61.65it/s]\u001b[A\n",
      " 76%|#######6  | 42/55 [00:00<00:00, 64.38it/s]\u001b[A\n",
      " 91%|######### | 50/55 [00:00<00:00, 67.37it/s]\u001b[A\n",
      " 12%|█▏        | 73/628 [00:04<01:25,  6.46it/s][A"
     ]
    },
    {
     "name": "stdout",
     "output_type": "stream",
     "text": [
      "{'ade': 0.5470688, 'fde': 1.1790528}\n",
      "\t last loss:0.000369220, eval on validation:['ade: 0.5470688', 'fde: 1.1790528'], (best ade:0.54351544 at step 28800) \n"
     ]
    },
    {
     "name": "stderr",
     "output_type": "stream",
     "text": [
      " 59%|█████▉    | 370/628 [00:16<00:10, 25.36it/s]\n",
      "  0%|          | 0/55 [00:00<?, ?it/s]\u001b[A"
     ]
    },
    {
     "name": "stdout",
     "output_type": "stream",
     "text": [
      "\tsaving model 32400...\n",
      "\tdone\n",
      "Evaluating\n"
     ]
    },
    {
     "name": "stderr",
     "output_type": "stream",
     "text": [
      "\n",
      " 16%|#6        | 9/55 [00:00<00:00, 85.06it/s]\u001b[A\n",
      " 31%|###       | 17/55 [00:00<00:00, 81.80it/s]\u001b[A\n",
      " 42%|####1     | 23/55 [00:00<00:00, 71.79it/s]\u001b[A\n",
      " 58%|#####8    | 32/55 [00:00<00:00, 74.70it/s]\u001b[A\n",
      " 75%|#######4  | 41/55 [00:00<00:00, 77.82it/s]\u001b[A\n",
      " 91%|######### | 50/55 [00:00<00:00, 80.07it/s]\u001b[A\n",
      " 60%|█████▉    | 376/628 [00:17<00:25,  9.78it/s]A"
     ]
    },
    {
     "name": "stdout",
     "output_type": "stream",
     "text": [
      "{'ade': 0.54587513, 'fde': 1.1751523}\n",
      "\t last loss:0.000202297, eval on validation:['ade: 0.54587513', 'fde: 1.1751523'], (best ade:0.54351544 at step 28800) \n"
     ]
    },
    {
     "name": "stderr",
     "output_type": "stream",
     "text": [
      "100%|██████████| 628/628 [00:28<00:00, 22.34it/s]\n",
      "  0%|          | 1/628 [00:00<01:17,  8.07it/s]"
     ]
    },
    {
     "name": "stdout",
     "output_type": "stream",
     "text": [
      "('Epoca 53.', 'lr:', 2.92363e-05)\n"
     ]
    },
    {
     "name": "stderr",
     "output_type": "stream",
     "text": [
      "  7%|▋         | 43/628 [00:01<00:25, 22.79it/s]\n",
      "  0%|          | 0/55 [00:00<?, ?it/s]\u001b[A"
     ]
    },
    {
     "name": "stdout",
     "output_type": "stream",
     "text": [
      "\tsaving model 32700...\n",
      "\tdone\n",
      "Evaluating\n"
     ]
    },
    {
     "name": "stderr",
     "output_type": "stream",
     "text": [
      "\n",
      " 15%|#4        | 8/55 [00:00<00:00, 78.38it/s]\u001b[A\n",
      " 27%|##7       | 15/55 [00:00<00:00, 74.41it/s]\u001b[A\n",
      " 40%|####      | 22/55 [00:00<00:00, 72.66it/s]\u001b[A\n",
      " 55%|#####4    | 30/55 [00:00<00:00, 73.60it/s]\u001b[A\n",
      " 69%|######9   | 38/55 [00:00<00:00, 74.41it/s]\u001b[A\n",
      " 84%|########3 | 46/55 [00:00<00:00, 74.65it/s]\u001b[A\n",
      " 98%|#########8| 54/55 [00:00<00:00, 75.25it/s]\u001b[A\n",
      "  7%|▋         | 46/628 [00:03<01:21,  7.15it/s][A"
     ]
    },
    {
     "name": "stdout",
     "output_type": "stream",
     "text": [
      "{'ade': 0.54743904, 'fde': 1.1804618}\n",
      "\t last loss:0.000656022, eval on validation:['ade: 0.54743904', 'fde: 1.1804618'], (best ade:0.54351544 at step 28800) \n"
     ]
    },
    {
     "name": "stderr",
     "output_type": "stream",
     "text": [
      " 54%|█████▍    | 342/628 [00:15<00:11, 25.00it/s]\n",
      "  0%|          | 0/55 [00:00<?, ?it/s]\u001b[A"
     ]
    },
    {
     "name": "stdout",
     "output_type": "stream",
     "text": [
      "\tsaving model 33000...\n",
      "\tdone\n",
      "Evaluating\n"
     ]
    },
    {
     "name": "stderr",
     "output_type": "stream",
     "text": [
      "\n",
      " 16%|#6        | 9/55 [00:00<00:00, 86.83it/s]\u001b[A\n",
      " 31%|###       | 17/55 [00:00<00:00, 82.83it/s]\u001b[A\n",
      " 45%|####5     | 25/55 [00:00<00:00, 80.34it/s]\u001b[A\n",
      " 62%|######1   | 34/55 [00:00<00:00, 81.16it/s]\u001b[A\n",
      " 78%|#######8  | 43/55 [00:00<00:00, 82.39it/s]\u001b[A\n",
      " 95%|#########4| 52/55 [00:00<00:00, 82.51it/s]\u001b[A\n",
      " 55%|█████▌    | 348/628 [00:16<00:28,  9.91it/s]A"
     ]
    },
    {
     "name": "stdout",
     "output_type": "stream",
     "text": [
      "{'ade': 0.5468209, 'fde': 1.1781782}\n",
      "\t last loss:0.000297390, eval on validation:['ade: 0.5468209', 'fde: 1.1781782'], (best ade:0.54351544 at step 28800) \n"
     ]
    },
    {
     "name": "stderr",
     "output_type": "stream",
     "text": [
      "100%|██████████| 628/628 [00:30<00:00, 20.75it/s]\n",
      "  0%|          | 2/628 [00:00<00:43, 14.49it/s]"
     ]
    },
    {
     "name": "stdout",
     "output_type": "stream",
     "text": [
      "('Epoca 54.', 'lr:', 2.92363e-05)\n"
     ]
    },
    {
     "name": "stderr",
     "output_type": "stream",
     "text": [
      "  2%|▏         | 14/628 [00:01<00:47, 12.96it/s]"
     ]
    },
    {
     "name": "stdout",
     "output_type": "stream",
     "text": [
      "\tsaving model 33300...\n"
     ]
    },
    {
     "name": "stderr",
     "output_type": "stream",
     "text": [
      "\n",
      "  0%|          | 0/55 [00:00<?, ?it/s]\u001b[A\n",
      "  9%|9         | 5/55 [00:00<00:01, 41.42it/s]\u001b[A"
     ]
    },
    {
     "name": "stdout",
     "output_type": "stream",
     "text": [
      "\tdone\n",
      "Evaluating\n"
     ]
    },
    {
     "name": "stderr",
     "output_type": "stream",
     "text": [
      "\n",
      " 18%|#8        | 10/55 [00:00<00:01, 41.96it/s]\u001b[A\n",
      " 25%|##5       | 14/55 [00:00<00:01, 40.79it/s]\u001b[A\n",
      " 33%|###2      | 18/55 [00:00<00:00, 38.62it/s]\u001b[A\n",
      " 42%|####1     | 23/55 [00:00<00:00, 39.86it/s]\u001b[A\n",
      " 49%|####9     | 27/55 [00:00<00:00, 34.84it/s]\u001b[A\n",
      " 58%|#####8    | 32/55 [00:00<00:00, 36.58it/s]\u001b[A\n",
      " 67%|######7   | 37/55 [00:00<00:00, 38.34it/s]\u001b[A\n",
      " 75%|#######4  | 41/55 [00:01<00:00, 37.96it/s]\u001b[A\n",
      " 82%|########1 | 45/55 [00:01<00:00, 37.46it/s]\u001b[A\n",
      " 89%|########9 | 49/55 [00:01<00:00, 37.48it/s]\u001b[A\n",
      " 98%|#########8| 54/55 [00:01<00:00, 38.68it/s]\u001b[A\n",
      "  3%|▎         | 16/628 [00:03<03:32,  2.87it/s][A"
     ]
    },
    {
     "name": "stdout",
     "output_type": "stream",
     "text": [
      "{'ade': 0.5479544, 'fde': 1.1814722}\n",
      "\t last loss:0.000186748, eval on validation:['ade: 0.5479544', 'fde: 1.1814722'], (best ade:0.54351544 at step 28800) \n"
     ]
    },
    {
     "name": "stderr",
     "output_type": "stream",
     "text": [
      " 50%|████▉     | 313/628 [00:16<00:13, 24.06it/s]\n",
      "  0%|          | 0/55 [00:00<?, ?it/s]\u001b[A"
     ]
    },
    {
     "name": "stdout",
     "output_type": "stream",
     "text": [
      "\tsaving model 33600...\n",
      "\tdone\n",
      "Evaluating\n"
     ]
    },
    {
     "name": "stderr",
     "output_type": "stream",
     "text": [
      "\n",
      " 13%|#2        | 7/55 [00:00<00:00, 68.77it/s]\u001b[A\n",
      " 27%|##7       | 15/55 [00:00<00:00, 71.70it/s]\u001b[A\n",
      " 42%|####1     | 23/55 [00:00<00:00, 72.07it/s]\u001b[A\n",
      " 55%|#####4    | 30/55 [00:00<00:00, 69.84it/s]\u001b[A\n",
      " 67%|######7   | 37/55 [00:00<00:00, 68.29it/s]\u001b[A\n",
      " 80%|########  | 44/55 [00:00<00:00, 66.45it/s]\u001b[A\n",
      " 93%|#########2| 51/55 [00:00<00:00, 65.71it/s]\u001b[A\n",
      " 51%|█████     | 318/628 [00:18<00:36,  8.56it/s]A"
     ]
    },
    {
     "name": "stdout",
     "output_type": "stream",
     "text": [
      "{'ade': 0.54576236, 'fde': 1.1750844}\n",
      "\t last loss:0.000408665, eval on validation:['ade: 0.54576236', 'fde: 1.1750844'], (best ade:0.54351544 at step 28800) \n"
     ]
    },
    {
     "name": "stderr",
     "output_type": "stream",
     "text": [
      " 98%|█████████▊| 615/628 [00:33<00:00, 26.14it/s]\n",
      "  0%|          | 0/55 [00:00<?, ?it/s]\u001b[A"
     ]
    },
    {
     "name": "stdout",
     "output_type": "stream",
     "text": [
      "\tsaving model 33900...\n",
      "\tdone\n",
      "Evaluating\n"
     ]
    },
    {
     "name": "stderr",
     "output_type": "stream",
     "text": [
      "\n",
      " 15%|#4        | 8/55 [00:00<00:00, 78.62it/s]\u001b[A\n",
      " 27%|##7       | 15/55 [00:00<00:00, 75.67it/s]\u001b[A\n",
      " 42%|####1     | 23/55 [00:00<00:00, 76.22it/s]\u001b[A\n",
      " 58%|#####8    | 32/55 [00:00<00:00, 78.20it/s]\u001b[A\n",
      " 73%|#######2  | 40/55 [00:00<00:00, 78.69it/s]\u001b[A\n",
      " 87%|########7 | 48/55 [00:00<00:00, 78.66it/s]\u001b[A\n",
      " 98%|█████████▊| 618/628 [00:34<00:01,  7.81it/s]A"
     ]
    },
    {
     "name": "stdout",
     "output_type": "stream",
     "text": [
      "{'ade': 0.548282, 'fde': 1.1828703}\n",
      "\t last loss:0.000345274, eval on validation:['ade: 0.548282', 'fde: 1.1828703'], (best ade:0.54351544 at step 28800) \n"
     ]
    },
    {
     "name": "stderr",
     "output_type": "stream",
     "text": [
      "100%|██████████| 628/628 [00:34<00:00, 13.75it/s]\n",
      "  0%|          | 2/628 [00:00<00:42, 14.87it/s]"
     ]
    },
    {
     "name": "stdout",
     "output_type": "stream",
     "text": [
      "('Epoca 55.', 'lr:', 2.4850853e-05)\n"
     ]
    },
    {
     "name": "stderr",
     "output_type": "stream",
     "text": [
      " 45%|████▌     | 285/628 [00:13<00:17, 20.15it/s]\n",
      "  0%|          | 0/55 [00:00<?, ?it/s]"
     ]
    },
    {
     "name": "stdout",
     "output_type": "stream",
     "text": [
      "\tsaving model 34200...\n",
      "\tdone\n",
      "Evaluating\n"
     ]
    },
    {
     "name": "stderr",
     "output_type": "stream",
     "text": [
      "\u001b[A\n",
      " 13%|#2        | 7/55 [00:00<00:00, 66.10it/s]\u001b[A\n",
      " 25%|##5       | 14/55 [00:00<00:00, 65.76it/s]\u001b[A\n",
      " 38%|###8      | 21/55 [00:00<00:00, 65.89it/s]\u001b[A\n",
      " 53%|#####2    | 29/55 [00:00<00:00, 67.89it/s]\u001b[A\n",
      " 65%|######5   | 36/55 [00:00<00:00, 66.26it/s]\u001b[A\n",
      " 78%|#######8  | 43/55 [00:00<00:00, 66.73it/s]\u001b[A\n",
      " 91%|######### | 50/55 [00:00<00:00, 67.48it/s]\u001b[A\n",
      " 46%|████▋     | 291/628 [00:14<00:40,  8.37it/s]A"
     ]
    },
    {
     "name": "stdout",
     "output_type": "stream",
     "text": [
      "{'ade': 0.5471338, 'fde': 1.1795863}\n",
      "\t last loss:0.000404999, eval on validation:['ade: 0.5471338', 'fde: 1.1795863'], (best ade:0.54351544 at step 28800) \n"
     ]
    },
    {
     "name": "stderr",
     "output_type": "stream",
     "text": [
      " 93%|█████████▎| 585/628 [00:28<00:01, 22.91it/s]"
     ]
    },
    {
     "name": "stdout",
     "output_type": "stream",
     "text": [
      "\tsaving model 34500...\n"
     ]
    },
    {
     "name": "stderr",
     "output_type": "stream",
     "text": [
      "\n",
      "  0%|          | 0/55 [00:00<?, ?it/s]\u001b[A\n",
      " 13%|#2        | 7/55 [00:00<00:00, 67.40it/s]\u001b[A"
     ]
    },
    {
     "name": "stdout",
     "output_type": "stream",
     "text": [
      "\tdone\n",
      "Evaluating\n"
     ]
    },
    {
     "name": "stderr",
     "output_type": "stream",
     "text": [
      "\n",
      " 25%|##5       | 14/55 [00:00<00:00, 67.78it/s]\u001b[A\n",
      " 36%|###6      | 20/55 [00:00<00:00, 64.13it/s]\u001b[A\n",
      " 51%|#####     | 28/55 [00:00<00:00, 66.56it/s]\u001b[A\n",
      " 65%|######5   | 36/55 [00:00<00:00, 68.84it/s]\u001b[A\n",
      " 80%|########  | 44/55 [00:00<00:00, 70.30it/s]\u001b[A\n",
      " 95%|#########4| 52/55 [00:00<00:00, 71.16it/s]\u001b[A\n",
      " 94%|█████████▎| 588/628 [00:29<00:05,  6.84it/s]A"
     ]
    },
    {
     "name": "stdout",
     "output_type": "stream",
     "text": [
      "{'ade': 0.5474217, 'fde': 1.1780518}\n",
      "\t last loss:0.000607656, eval on validation:['ade: 0.5474217', 'fde: 1.1780518'], (best ade:0.54351544 at step 28800) \n"
     ]
    },
    {
     "name": "stderr",
     "output_type": "stream",
     "text": [
      "100%|██████████| 628/628 [00:31<00:00, 20.12it/s]\n",
      "  0%|          | 2/628 [00:00<00:36, 17.02it/s]"
     ]
    },
    {
     "name": "stdout",
     "output_type": "stream",
     "text": [
      "('Epoca 56.', 'lr:', 2.4850853e-05)\n"
     ]
    },
    {
     "name": "stderr",
     "output_type": "stream",
     "text": [
      " 41%|████      | 259/628 [00:10<00:15, 23.90it/s]\n",
      "  0%|          | 0/55 [00:00<?, ?it/s]\u001b[A"
     ]
    },
    {
     "name": "stdout",
     "output_type": "stream",
     "text": [
      "\tsaving model 34800...\n",
      "\tdone\n",
      "Evaluating\n"
     ]
    },
    {
     "name": "stderr",
     "output_type": "stream",
     "text": [
      "\n",
      " 15%|#4        | 8/55 [00:00<00:00, 79.34it/s]\u001b[A\n",
      " 29%|##9       | 16/55 [00:00<00:00, 78.68it/s]\u001b[A\n",
      " 45%|####5     | 25/55 [00:00<00:00, 79.78it/s]\u001b[A\n",
      " 62%|######1   | 34/55 [00:00<00:00, 80.64it/s]\u001b[A\n",
      " 78%|#######8  | 43/55 [00:00<00:00, 81.55it/s]\u001b[A\n",
      " 93%|#########2| 51/55 [00:00<00:00, 79.05it/s]\u001b[A\n",
      " 42%|████▏     | 262/628 [00:11<00:47,  7.67it/s]A"
     ]
    },
    {
     "name": "stdout",
     "output_type": "stream",
     "text": [
      "{'ade': 0.5478519, 'fde': 1.1793969}\n",
      "\t last loss:0.000422939, eval on validation:['ade: 0.5478519', 'fde: 1.1793969'], (best ade:0.54351544 at step 28800) \n"
     ]
    },
    {
     "name": "stderr",
     "output_type": "stream",
     "text": [
      " 89%|████████▊ | 557/628 [00:24<00:03, 22.96it/s]\n",
      "  0%|          | 0/55 [00:00<?, ?it/s]\u001b[A"
     ]
    },
    {
     "name": "stdout",
     "output_type": "stream",
     "text": [
      "\tsaving model 35100...\n",
      "\tdone\n",
      "Evaluating\n"
     ]
    },
    {
     "name": "stderr",
     "output_type": "stream",
     "text": [
      "\n",
      " 15%|#4        | 8/55 [00:00<00:00, 76.75it/s]\u001b[A\n",
      " 31%|###       | 17/55 [00:00<00:00, 78.59it/s]\u001b[A\n",
      " 47%|####7     | 26/55 [00:00<00:00, 80.23it/s]\u001b[A\n",
      " 64%|######3   | 35/55 [00:00<00:00, 81.47it/s]\u001b[A\n",
      " 76%|#######6  | 42/55 [00:00<00:00, 77.61it/s]\u001b[A\n",
      " 91%|######### | 50/55 [00:00<00:00, 76.86it/s]\u001b[A\n",
      " 90%|████████▉ | 563/628 [00:25<00:06,  9.61it/s]A"
     ]
    },
    {
     "name": "stdout",
     "output_type": "stream",
     "text": [
      "{'ade': 0.54885393, 'fde': 1.1839584}\n",
      "\t last loss:0.000528529, eval on validation:['ade: 0.54885393', 'fde: 1.1839584'], (best ade:0.54351544 at step 28800) \n"
     ]
    },
    {
     "name": "stderr",
     "output_type": "stream",
     "text": [
      "100%|██████████| 628/628 [00:28<00:00, 22.07it/s]\n",
      "  0%|          | 1/628 [00:00<01:18,  7.99it/s]"
     ]
    },
    {
     "name": "stdout",
     "output_type": "stream",
     "text": [
      "('Epoca 57.', 'lr:', 2.1123227e-05)\n"
     ]
    },
    {
     "name": "stderr",
     "output_type": "stream",
     "text": [
      " 36%|███▋      | 229/628 [00:10<00:17, 22.65it/s]\n",
      "  0%|          | 0/55 [00:00<?, ?it/s]\u001b[A"
     ]
    },
    {
     "name": "stdout",
     "output_type": "stream",
     "text": [
      "\tsaving model 35400...\n",
      "\tdone\n",
      "Evaluating\n"
     ]
    },
    {
     "name": "stderr",
     "output_type": "stream",
     "text": [
      "\n",
      " 13%|#2        | 7/55 [00:00<00:00, 63.35it/s]\u001b[A\n",
      " 27%|##7       | 15/55 [00:00<00:00, 66.24it/s]\u001b[A\n",
      " 42%|####1     | 23/55 [00:00<00:00, 68.79it/s]\u001b[A\n",
      " 55%|#####4    | 30/55 [00:00<00:00, 69.14it/s]\u001b[A\n",
      " 69%|######9   | 38/55 [00:00<00:00, 71.47it/s]\u001b[A\n",
      " 85%|########5 | 47/55 [00:00<00:00, 75.08it/s]\u001b[A\n",
      " 37%|███▋      | 235/628 [00:11<00:42,  9.19it/s]A"
     ]
    },
    {
     "name": "stdout",
     "output_type": "stream",
     "text": [
      "{'ade': 0.54739165, 'fde': 1.1799994}\n",
      "\t last loss:0.000396068, eval on validation:['ade: 0.54739165', 'fde: 1.1799994'], (best ade:0.54351544 at step 28800) \n"
     ]
    },
    {
     "name": "stderr",
     "output_type": "stream",
     "text": [
      " 84%|████████▍ | 529/628 [00:24<00:04, 22.62it/s]\n",
      "  0%|          | 0/55 [00:00<?, ?it/s]\u001b[A"
     ]
    },
    {
     "name": "stdout",
     "output_type": "stream",
     "text": [
      "\tsaving model 35700...\n",
      "\tdone\n",
      "Evaluating\n"
     ]
    },
    {
     "name": "stderr",
     "output_type": "stream",
     "text": [
      "\n",
      " 11%|#         | 6/55 [00:00<00:00, 58.24it/s]\u001b[A\n",
      " 25%|##5       | 14/55 [00:00<00:00, 62.10it/s]\u001b[A\n",
      " 40%|####      | 22/55 [00:00<00:00, 64.85it/s]\u001b[A\n",
      " 55%|#####4    | 30/55 [00:00<00:00, 67.68it/s]\u001b[A\n",
      " 69%|######9   | 38/55 [00:00<00:00, 69.18it/s]\u001b[A\n",
      " 84%|########3 | 46/55 [00:00<00:00, 70.38it/s]\u001b[A\n",
      " 98%|#########8| 54/55 [00:00<00:00, 72.14it/s]\u001b[A\n",
      " 85%|████████▌ | 535/628 [00:25<00:10,  8.90it/s]A"
     ]
    },
    {
     "name": "stdout",
     "output_type": "stream",
     "text": [
      "{'ade': 0.5462543, 'fde': 1.1766088}\n",
      "\t last loss:0.000559830, eval on validation:['ade: 0.5462543', 'fde: 1.1766088'], (best ade:0.54351544 at step 28800) \n"
     ]
    },
    {
     "name": "stderr",
     "output_type": "stream",
     "text": [
      "100%|██████████| 628/628 [00:29<00:00, 21.11it/s]\n",
      "  0%|          | 1/628 [00:00<01:09,  9.07it/s]"
     ]
    },
    {
     "name": "stdout",
     "output_type": "stream",
     "text": [
      "('Epoca 58.', 'lr:', 2.1123227e-05)\n"
     ]
    },
    {
     "name": "stderr",
     "output_type": "stream",
     "text": [
      " 32%|███▏      | 201/628 [00:08<00:17, 24.72it/s]\n",
      "  0%|          | 0/55 [00:00<?, ?it/s]\u001b[A"
     ]
    },
    {
     "name": "stdout",
     "output_type": "stream",
     "text": [
      "\tsaving model 36000...\n",
      "\tdone\n",
      "Evaluating\n"
     ]
    },
    {
     "name": "stderr",
     "output_type": "stream",
     "text": [
      "\n",
      " 15%|#4        | 8/55 [00:00<00:00, 75.09it/s]\u001b[A\n",
      " 29%|##9       | 16/55 [00:00<00:00, 75.83it/s]\u001b[A\n",
      " 45%|####5     | 25/55 [00:00<00:00, 78.40it/s]\u001b[A\n",
      " 62%|######1   | 34/55 [00:00<00:00, 79.65it/s]\u001b[A\n",
      " 78%|#######8  | 43/55 [00:00<00:00, 80.88it/s]\u001b[A\n",
      " 95%|#########4| 52/55 [00:00<00:00, 81.63it/s]\u001b[A\n",
      " 33%|███▎      | 207/628 [00:09<00:44,  9.55it/s]A"
     ]
    },
    {
     "name": "stdout",
     "output_type": "stream",
     "text": [
      "{'ade': 0.54367614, 'fde': 1.1693583}\n",
      "\t last loss:0.000665898, eval on validation:['ade: 0.54367614', 'fde: 1.1693583'], (best ade:0.54351544 at step 28800) \n"
     ]
    },
    {
     "name": "stderr",
     "output_type": "stream",
     "text": [
      " 80%|███████▉  | 502/628 [00:23<00:05, 21.16it/s]\n",
      "  0%|          | 0/55 [00:00<?, ?it/s]\u001b[A"
     ]
    },
    {
     "name": "stdout",
     "output_type": "stream",
     "text": [
      "\tsaving model 36300...\n",
      "\tdone\n",
      "Evaluating\n"
     ]
    },
    {
     "name": "stderr",
     "output_type": "stream",
     "text": [
      "\n",
      " 13%|#2        | 7/55 [00:00<00:00, 65.93it/s]\u001b[A\n",
      " 22%|##1       | 12/55 [00:00<00:00, 59.37it/s]\u001b[A\n",
      " 33%|###2      | 18/55 [00:00<00:00, 59.02it/s]\u001b[A\n",
      " 45%|####5     | 25/55 [00:00<00:00, 59.74it/s]\u001b[A\n",
      " 56%|#####6    | 31/55 [00:00<00:00, 57.25it/s]\u001b[A\n",
      " 69%|######9   | 38/55 [00:00<00:00, 59.30it/s]\u001b[A\n",
      " 84%|########3 | 46/55 [00:00<00:00, 64.26it/s]\u001b[A\n",
      " 98%|#########8| 54/55 [00:00<00:00, 66.53it/s]\u001b[A\n",
      " 80%|████████  | 505/628 [00:25<00:19,  6.34it/s]A"
     ]
    },
    {
     "name": "stdout",
     "output_type": "stream",
     "text": [
      "{'ade': 0.5467234, 'fde': 1.178608}\n",
      "\t last loss:0.000358603, eval on validation:['ade: 0.5467234', 'fde: 1.178608'], (best ade:0.54351544 at step 28800) \n"
     ]
    },
    {
     "name": "stderr",
     "output_type": "stream",
     "text": [
      "100%|██████████| 628/628 [00:30<00:00, 20.55it/s]\n",
      "  0%|          | 1/628 [00:00<01:09,  9.02it/s]"
     ]
    },
    {
     "name": "stdout",
     "output_type": "stream",
     "text": [
      "('Epoca 59.', 'lr:', 1.7954744e-05)\n"
     ]
    },
    {
     "name": "stderr",
     "output_type": "stream",
     "text": [
      " 28%|██▊       | 175/628 [00:07<00:20, 22.04it/s]"
     ]
    },
    {
     "name": "stdout",
     "output_type": "stream",
     "text": [
      "\tsaving model 36600...\n"
     ]
    },
    {
     "name": "stderr",
     "output_type": "stream",
     "text": [
      "\n",
      "  0%|          | 0/55 [00:00<?, ?it/s]\u001b[A\n",
      "  9%|9         | 5/55 [00:00<00:01, 46.31it/s]\u001b[A"
     ]
    },
    {
     "name": "stdout",
     "output_type": "stream",
     "text": [
      "\tdone\n",
      "Evaluating\n"
     ]
    },
    {
     "name": "stderr",
     "output_type": "stream",
     "text": [
      "\n",
      " 22%|##1       | 12/55 [00:00<00:00, 50.00it/s]\u001b[A\n",
      " 35%|###4      | 19/55 [00:00<00:00, 53.20it/s]\u001b[A\n",
      " 47%|####7     | 26/55 [00:00<00:00, 56.23it/s]\u001b[A\n",
      " 60%|######    | 33/55 [00:00<00:00, 58.48it/s]\u001b[A\n",
      " 73%|#######2  | 40/55 [00:00<00:00, 60.63it/s]\u001b[A\n",
      " 85%|########5 | 47/55 [00:00<00:00, 62.19it/s]\u001b[A\n",
      " 98%|#########8| 54/55 [00:00<00:00, 62.91it/s]\u001b[A\n",
      " 28%|██▊       | 178/628 [00:08<01:13,  6.16it/s]A"
     ]
    },
    {
     "name": "stdout",
     "output_type": "stream",
     "text": [
      "{'ade': 0.5464353, 'fde': 1.1786817}\n",
      "\t last loss:0.000406593, eval on validation:['ade: 0.5464353', 'fde: 1.1786817'], (best ade:0.54351544 at step 28800) \n"
     ]
    },
    {
     "name": "stderr",
     "output_type": "stream",
     "text": [
      " 76%|███████▌  | 475/628 [00:21<00:06, 24.87it/s]\n",
      "  0%|          | 0/55 [00:00<?, ?it/s]\u001b[A"
     ]
    },
    {
     "name": "stdout",
     "output_type": "stream",
     "text": [
      "\tsaving model 36900...\n",
      "\tdone\n",
      "Evaluating\n"
     ]
    },
    {
     "name": "stderr",
     "output_type": "stream",
     "text": [
      "\n",
      " 16%|#6        | 9/55 [00:00<00:00, 82.17it/s]\u001b[A\n",
      " 33%|###2      | 18/55 [00:00<00:00, 82.86it/s]\u001b[A\n",
      " 49%|####9     | 27/55 [00:00<00:00, 83.08it/s]\u001b[A\n",
      " 65%|######5   | 36/55 [00:00<00:00, 83.40it/s]\u001b[A\n",
      " 80%|########  | 44/55 [00:00<00:00, 82.23it/s]\u001b[A\n",
      " 96%|#########6| 53/55 [00:00<00:00, 82.17it/s]\u001b[A\n",
      " 76%|███████▌  | 478/628 [00:22<00:19,  7.80it/s]A"
     ]
    },
    {
     "name": "stdout",
     "output_type": "stream",
     "text": [
      "{'ade': 0.5478914, 'fde': 1.1834843}\n",
      "\t last loss:0.000629769, eval on validation:['ade: 0.5478914', 'fde: 1.1834843'], (best ade:0.54351544 at step 28800) \n"
     ]
    },
    {
     "name": "stderr",
     "output_type": "stream",
     "text": [
      "100%|██████████| 628/628 [00:29<00:00, 22.93it/s]\n",
      "  0%|          | 2/628 [00:00<00:39, 16.01it/s]"
     ]
    },
    {
     "name": "stdout",
     "output_type": "stream",
     "text": [
      "('Epoca 60.', 'lr:', 1.7954744e-05)\n"
     ]
    },
    {
     "name": "stderr",
     "output_type": "stream",
     "text": [
      " 23%|██▎       | 146/628 [00:06<00:19, 24.78it/s]\n",
      "  0%|          | 0/55 [00:00<?, ?it/s]\u001b[A"
     ]
    },
    {
     "name": "stdout",
     "output_type": "stream",
     "text": [
      "\tsaving model 37200...\n",
      "\tdone\n",
      "Evaluating\n"
     ]
    },
    {
     "name": "stderr",
     "output_type": "stream",
     "text": [
      "\n",
      " 16%|#6        | 9/55 [00:00<00:00, 84.13it/s]\u001b[A\n",
      " 35%|###4      | 19/55 [00:00<00:00, 86.76it/s]\u001b[A\n",
      " 53%|#####2    | 29/55 [00:00<00:00, 88.95it/s]\u001b[A\n",
      " 71%|#######   | 39/55 [00:00<00:00, 90.42it/s]\u001b[A\n",
      " 89%|########9 | 49/55 [00:00<00:00, 90.76it/s]\u001b[A\n",
      " 24%|██▎       | 149/628 [00:07<00:57,  8.36it/s]A"
     ]
    },
    {
     "name": "stdout",
     "output_type": "stream",
     "text": [
      "{'ade': 0.5465035, 'fde': 1.178488}\n",
      "\t last loss:0.000286854, eval on validation:['ade: 0.5465035', 'fde: 1.178488'], (best ade:0.54351544 at step 28800) \n"
     ]
    },
    {
     "name": "stderr",
     "output_type": "stream",
     "text": [
      " 71%|███████   | 446/628 [00:19<00:08, 20.43it/s]"
     ]
    },
    {
     "name": "stdout",
     "output_type": "stream",
     "text": [
      "\tsaving model 37500...\n"
     ]
    },
    {
     "name": "stderr",
     "output_type": "stream",
     "text": [
      "\n",
      "  0%|          | 0/55 [00:00<?, ?it/s]\u001b[A\n",
      " 13%|#2        | 7/55 [00:00<00:00, 65.87it/s]\u001b[A"
     ]
    },
    {
     "name": "stdout",
     "output_type": "stream",
     "text": [
      "\tdone\n",
      "Evaluating\n"
     ]
    },
    {
     "name": "stderr",
     "output_type": "stream",
     "text": [
      "\n",
      " 24%|##3       | 13/55 [00:00<00:00, 63.66it/s]\u001b[A\n",
      " 36%|###6      | 20/55 [00:00<00:00, 63.13it/s]\u001b[A\n",
      " 47%|####7     | 26/55 [00:00<00:00, 60.86it/s]\u001b[A\n",
      " 60%|######    | 33/55 [00:00<00:00, 61.40it/s]\u001b[A\n",
      " 73%|#######2  | 40/55 [00:00<00:00, 61.83it/s]\u001b[A\n",
      " 85%|########5 | 47/55 [00:00<00:00, 62.81it/s]\u001b[A\n",
      " 98%|#########8| 54/55 [00:00<00:00, 62.97it/s]\u001b[A\n",
      " 71%|███████▏  | 449/628 [00:20<00:29,  6.15it/s]A"
     ]
    },
    {
     "name": "stdout",
     "output_type": "stream",
     "text": [
      "{'ade': 0.5465086, 'fde': 1.1793557}\n",
      "\t last loss:0.000396357, eval on validation:['ade: 0.5465086', 'fde: 1.1793557'], (best ade:0.54351544 at step 28800) \n"
     ]
    },
    {
     "name": "stderr",
     "output_type": "stream",
     "text": [
      "100%|██████████| 628/628 [00:28<00:00, 22.01it/s]\n",
      "  0%|          | 1/628 [00:00<01:11,  8.78it/s]"
     ]
    },
    {
     "name": "stdout",
     "output_type": "stream",
     "text": [
      "('Epoca 61.', 'lr:', 1.5261532e-05)\n"
     ]
    },
    {
     "name": "stderr",
     "output_type": "stream",
     "text": [
      " 19%|█▊        | 117/628 [00:04<00:19, 25.74it/s]\n",
      "  0%|          | 0/55 [00:00<?, ?it/s]\u001b[A"
     ]
    },
    {
     "name": "stdout",
     "output_type": "stream",
     "text": [
      "\tsaving model 37800...\n",
      "\tdone\n",
      "Evaluating\n"
     ]
    },
    {
     "name": "stderr",
     "output_type": "stream",
     "text": [
      "\n",
      " 15%|#4        | 8/55 [00:00<00:00, 79.17it/s]\u001b[A\n",
      " 31%|###       | 17/55 [00:00<00:00, 80.69it/s]\u001b[A\n",
      " 47%|####7     | 26/55 [00:00<00:00, 81.43it/s]\u001b[A\n",
      " 64%|######3   | 35/55 [00:00<00:00, 82.26it/s]\u001b[A\n",
      " 78%|#######8  | 43/55 [00:00<00:00, 81.08it/s]\u001b[A\n",
      " 91%|######### | 50/55 [00:00<00:00, 76.37it/s]\u001b[A\n",
      " 20%|█▉        | 123/628 [00:05<00:50,  9.96it/s]A"
     ]
    },
    {
     "name": "stdout",
     "output_type": "stream",
     "text": [
      "{'ade': 0.54765826, 'fde': 1.1811574}\n",
      "\t last loss:0.000339034, eval on validation:['ade: 0.54765826', 'fde: 1.1811574'], (best ade:0.54351544 at step 28800) \n"
     ]
    },
    {
     "name": "stderr",
     "output_type": "stream",
     "text": [
      " 66%|██████▋   | 417/628 [00:18<00:09, 22.13it/s]\n",
      "  0%|          | 0/55 [00:00<?, ?it/s]\u001b[A"
     ]
    },
    {
     "name": "stdout",
     "output_type": "stream",
     "text": [
      "\tsaving model 38100...\n",
      "\tdone\n",
      "Evaluating\n"
     ]
    },
    {
     "name": "stderr",
     "output_type": "stream",
     "text": [
      "\n",
      " 15%|#4        | 8/55 [00:00<00:00, 71.70it/s]\u001b[A\n",
      " 29%|##9       | 16/55 [00:00<00:00, 71.85it/s]\u001b[A\n",
      " 44%|####3     | 24/55 [00:00<00:00, 73.17it/s]\u001b[A\n",
      " 58%|#####8    | 32/55 [00:00<00:00, 74.09it/s]\u001b[A\n",
      " 73%|#######2  | 40/55 [00:00<00:00, 74.18it/s]\u001b[A\n",
      " 85%|########5 | 47/55 [00:00<00:00, 70.79it/s]\u001b[A\n",
      " 67%|██████▋   | 423/628 [00:19<00:22,  8.93it/s]A"
     ]
    },
    {
     "name": "stdout",
     "output_type": "stream",
     "text": [
      "{'ade': 0.54621255, 'fde': 1.176542}\n",
      "\t last loss:0.000341970, eval on validation:['ade: 0.54621255', 'fde: 1.176542'], (best ade:0.54351544 at step 28800) \n"
     ]
    },
    {
     "name": "stderr",
     "output_type": "stream",
     "text": [
      "100%|██████████| 628/628 [00:28<00:00, 22.05it/s]\n",
      "  0%|          | 1/628 [00:00<01:23,  7.53it/s]"
     ]
    },
    {
     "name": "stdout",
     "output_type": "stream",
     "text": [
      "('Epoca 62.', 'lr:', 1.5261532e-05)\n"
     ]
    },
    {
     "name": "stderr",
     "output_type": "stream",
     "text": [
      " 14%|█▍        | 91/628 [00:03<00:20, 26.06it/s]\n",
      "  0%|          | 0/55 [00:00<?, ?it/s]\u001b[A"
     ]
    },
    {
     "name": "stdout",
     "output_type": "stream",
     "text": [
      "\tsaving model 38400...\n",
      "\tdone\n",
      "Evaluating\n"
     ]
    },
    {
     "name": "stderr",
     "output_type": "stream",
     "text": [
      "\n",
      " 16%|#6        | 9/55 [00:00<00:00, 88.62it/s]\u001b[A\n",
      " 35%|###4      | 19/55 [00:00<00:00, 89.23it/s]\u001b[A\n",
      " 49%|####9     | 27/55 [00:00<00:00, 84.95it/s]\u001b[A\n",
      " 67%|######7   | 37/55 [00:00<00:00, 86.68it/s]\u001b[A\n",
      " 85%|########5 | 47/55 [00:00<00:00, 88.25it/s]\u001b[A\n",
      " 15%|█▍        | 94/628 [00:04<01:03,  8.45it/s][A"
     ]
    },
    {
     "name": "stdout",
     "output_type": "stream",
     "text": [
      "{'ade': 0.5479984, 'fde': 1.1834439}\n",
      "\t last loss:0.000546747, eval on validation:['ade: 0.5479984', 'fde: 1.1834439'], (best ade:0.54351544 at step 28800) \n"
     ]
    },
    {
     "name": "stderr",
     "output_type": "stream",
     "text": [
      " 62%|██████▏   | 391/628 [00:17<00:10, 22.43it/s]\n"
     ]
    },
    {
     "name": "stdout",
     "output_type": "stream",
     "text": [
      "\tsaving model 38700...\n",
      "\tdone\n",
      "Evaluating\n"
     ]
    },
    {
     "name": "stderr",
     "output_type": "stream",
     "text": [
      "  0%|          | 0/55 [00:00<?, ?it/s]\u001b[A\n",
      " 15%|#4        | 8/55 [00:00<00:00, 74.91it/s]\u001b[A\n",
      " 29%|##9       | 16/55 [00:00<00:00, 75.57it/s]\u001b[A\n",
      " 44%|####3     | 24/55 [00:00<00:00, 75.30it/s]\u001b[A\n",
      " 56%|#####6    | 31/55 [00:00<00:00, 71.17it/s]\u001b[A\n",
      " 71%|#######   | 39/55 [00:00<00:00, 72.03it/s]\u001b[A\n",
      " 85%|########5 | 47/55 [00:00<00:00, 72.87it/s]\u001b[A\n",
      " 63%|██████▎   | 394/628 [00:18<00:33,  7.07it/s]A"
     ]
    },
    {
     "name": "stdout",
     "output_type": "stream",
     "text": [
      "{'ade': 0.5482919, 'fde': 1.1835052}\n",
      "\t last loss:0.000327145, eval on validation:['ade: 0.5482919', 'fde: 1.1835052'], (best ade:0.54351544 at step 28800) \n"
     ]
    },
    {
     "name": "stderr",
     "output_type": "stream",
     "text": [
      "100%|██████████| 628/628 [00:28<00:00, 24.17it/s]\n",
      "  0%|          | 2/628 [00:00<00:42, 14.76it/s]"
     ]
    },
    {
     "name": "stdout",
     "output_type": "stream",
     "text": [
      "('Epoca 63.', 'lr:', 1.2972303e-05)\n"
     ]
    },
    {
     "name": "stderr",
     "output_type": "stream",
     "text": [
      " 10%|▉         | 62/628 [00:02<00:22, 25.69it/s]\n",
      "  0%|          | 0/55 [00:00<?, ?it/s]\u001b[A"
     ]
    },
    {
     "name": "stdout",
     "output_type": "stream",
     "text": [
      "\tsaving model 39000...\n",
      "\tdone\n",
      "Evaluating\n"
     ]
    },
    {
     "name": "stderr",
     "output_type": "stream",
     "text": [
      "\n",
      " 16%|#6        | 9/55 [00:00<00:00, 85.11it/s]\u001b[A\n",
      " 35%|###4      | 19/55 [00:00<00:00, 87.14it/s]\u001b[A\n",
      " 51%|#####     | 28/55 [00:00<00:00, 86.89it/s]\u001b[A\n",
      " 69%|######9   | 38/55 [00:00<00:00, 88.52it/s]\u001b[A\n",
      " 85%|########5 | 47/55 [00:00<00:00, 87.97it/s]\u001b[A\n",
      " 11%|█         | 67/628 [00:03<00:56,  9.95it/s][A"
     ]
    },
    {
     "name": "stdout",
     "output_type": "stream",
     "text": [
      "{'ade': 0.546183, 'fde': 1.1773477}\n",
      "\t last loss:0.000331627, eval on validation:['ade: 0.546183', 'fde: 1.1773477'], (best ade:0.54351544 at step 28800) \n"
     ]
    },
    {
     "name": "stderr",
     "output_type": "stream",
     "text": [
      " 57%|█████▋    | 361/628 [00:16<00:12, 21.35it/s]\n",
      "  0%|          | 0/55 [00:00<?, ?it/s]\u001b[A"
     ]
    },
    {
     "name": "stdout",
     "output_type": "stream",
     "text": [
      "\tsaving model 39300...\n",
      "\tdone\n",
      "Evaluating\n"
     ]
    },
    {
     "name": "stderr",
     "output_type": "stream",
     "text": [
      "\n",
      " 13%|#2        | 7/55 [00:00<00:00, 65.49it/s]\u001b[A\n",
      " 27%|##7       | 15/55 [00:00<00:00, 68.26it/s]\u001b[A\n",
      " 42%|####1     | 23/55 [00:00<00:00, 69.72it/s]\u001b[A\n",
      " 56%|#####6    | 31/55 [00:00<00:00, 71.27it/s]\u001b[A\n",
      " 71%|#######   | 39/55 [00:00<00:00, 71.56it/s]\u001b[A\n",
      " 85%|########5 | 47/55 [00:00<00:00, 72.35it/s]\u001b[A\n",
      " 58%|█████▊    | 367/628 [00:17<00:29,  8.84it/s]A"
     ]
    },
    {
     "name": "stdout",
     "output_type": "stream",
     "text": [
      "{'ade': 0.54460955, 'fde': 1.1739193}\n",
      "\t last loss:0.000373637, eval on validation:['ade: 0.54460955', 'fde: 1.1739193'], (best ade:0.54351544 at step 28800) \n"
     ]
    },
    {
     "name": "stderr",
     "output_type": "stream",
     "text": [
      "100%|██████████| 628/628 [00:28<00:00, 21.86it/s]\n",
      "  0%|          | 1/628 [00:00<01:08,  9.10it/s]"
     ]
    },
    {
     "name": "stdout",
     "output_type": "stream",
     "text": [
      "('Epoca 64.', 'lr:', 1.2972303e-05)\n"
     ]
    },
    {
     "name": "stderr",
     "output_type": "stream",
     "text": [
      "  6%|▌         | 35/628 [00:01<00:29, 20.30it/s]"
     ]
    },
    {
     "name": "stdout",
     "output_type": "stream",
     "text": [
      "\tsaving model 39600...\n"
     ]
    },
    {
     "name": "stderr",
     "output_type": "stream",
     "text": [
      "\n",
      "  0%|          | 0/55 [00:00<?, ?it/s]\u001b[A\n",
      " 11%|#         | 6/55 [00:00<00:00, 57.90it/s]\u001b[A"
     ]
    },
    {
     "name": "stdout",
     "output_type": "stream",
     "text": [
      "\tdone\n",
      "Evaluating\n"
     ]
    },
    {
     "name": "stderr",
     "output_type": "stream",
     "text": [
      "\n",
      " 24%|##3       | 13/55 [00:00<00:00, 59.90it/s]\u001b[A\n",
      " 36%|###6      | 20/55 [00:00<00:00, 60.82it/s]\u001b[A\n",
      " 49%|####9     | 27/55 [00:00<00:00, 62.35it/s]\u001b[A\n",
      " 62%|######1   | 34/55 [00:00<00:00, 63.17it/s]\u001b[A\n",
      " 75%|#######4  | 41/55 [00:00<00:00, 63.80it/s]\u001b[A\n",
      " 87%|########7 | 48/55 [00:00<00:00, 63.71it/s]\u001b[A\n",
      "  6%|▌         | 38/628 [00:03<01:35,  6.17it/s][A"
     ]
    },
    {
     "name": "stdout",
     "output_type": "stream",
     "text": [
      "{'ade': 0.5480418, 'fde': 1.1816578}\n",
      "\t last loss:0.000277845, eval on validation:['ade: 0.5480418', 'fde: 1.1816578'], (best ade:0.54351544 at step 28800) \n"
     ]
    },
    {
     "name": "stderr",
     "output_type": "stream",
     "text": [
      " 53%|█████▎    | 333/628 [00:15<00:11, 25.87it/s]\n",
      "  0%|          | 0/55 [00:00<?, ?it/s]\u001b[A"
     ]
    },
    {
     "name": "stdout",
     "output_type": "stream",
     "text": [
      "\tsaving model 39900...\n",
      "\tdone\n",
      "Evaluating\n"
     ]
    },
    {
     "name": "stderr",
     "output_type": "stream",
     "text": [
      "\n",
      " 16%|#6        | 9/55 [00:00<00:00, 81.82it/s]\u001b[A\n",
      " 31%|###       | 17/55 [00:00<00:00, 81.06it/s]\u001b[A\n",
      " 45%|####5     | 25/55 [00:00<00:00, 80.65it/s]\u001b[A\n",
      " 60%|######    | 33/55 [00:00<00:00, 80.34it/s]\u001b[A\n",
      " 73%|#######2  | 40/55 [00:00<00:00, 74.72it/s]\u001b[A\n",
      " 89%|########9 | 49/55 [00:00<00:00, 77.53it/s]\u001b[A\n",
      " 54%|█████▍    | 339/628 [00:16<00:29,  9.91it/s]A"
     ]
    },
    {
     "name": "stdout",
     "output_type": "stream",
     "text": [
      "{'ade': 0.54477084, 'fde': 1.1743582}\n",
      "\t last loss:0.000416850, eval on validation:['ade: 0.54477084', 'fde: 1.1743582'], (best ade:0.54351544 at step 28800) \n"
     ]
    },
    {
     "name": "stderr",
     "output_type": "stream",
     "text": [
      "100%|██████████| 628/628 [00:29<00:00, 21.55it/s]\n",
      "  0%|          | 1/628 [00:00<01:04,  9.78it/s]"
     ]
    },
    {
     "name": "stdout",
     "output_type": "stream",
     "text": [
      "('Epoca 65.', 'lr:', 1.1026457e-05)\n"
     ]
    },
    {
     "name": "stderr",
     "output_type": "stream",
     "text": [
      "  1%|          | 7/628 [00:00<00:45, 13.72it/s]\n",
      "  0%|          | 0/55 [00:00<?, ?it/s]\u001b[A"
     ]
    },
    {
     "name": "stdout",
     "output_type": "stream",
     "text": [
      "\tsaving model 40200...\n",
      "\tdone\n",
      "Evaluating\n"
     ]
    },
    {
     "name": "stderr",
     "output_type": "stream",
     "text": [
      "\n",
      " 15%|#4        | 8/55 [00:00<00:00, 73.69it/s]\u001b[A\n",
      " 29%|##9       | 16/55 [00:00<00:00, 74.37it/s]\u001b[A\n",
      " 42%|####1     | 23/55 [00:00<00:00, 71.37it/s]\u001b[A\n",
      " 55%|#####4    | 30/55 [00:00<00:00, 68.51it/s]\u001b[A\n",
      " 67%|######7   | 37/55 [00:00<00:00, 68.41it/s]\u001b[A\n",
      " 80%|########  | 44/55 [00:00<00:00, 68.66it/s]\u001b[A\n",
      " 93%|#########2| 51/55 [00:00<00:00, 67.56it/s]\u001b[A\n",
      "  1%|▏         | 9/628 [00:01<02:14,  4.59it/s]\u001b[A"
     ]
    },
    {
     "name": "stdout",
     "output_type": "stream",
     "text": [
      "{'ade': 0.5455582, 'fde': 1.1752373}\n",
      "\t last loss:0.000280065, eval on validation:['ade: 0.5455582', 'fde: 1.1752373'], (best ade:0.54351544 at step 28800) \n"
     ]
    },
    {
     "name": "stderr",
     "output_type": "stream",
     "text": [
      " 49%|████▊     | 305/628 [00:14<00:15, 20.75it/s]\n",
      "  0%|          | 0/55 [00:00<?, ?it/s]\u001b[A"
     ]
    },
    {
     "name": "stdout",
     "output_type": "stream",
     "text": [
      "\tsaving model 40500...\n",
      "\tdone\n",
      "Evaluating\n"
     ]
    },
    {
     "name": "stderr",
     "output_type": "stream",
     "text": [
      "\n",
      " 13%|#2        | 7/55 [00:00<00:00, 64.51it/s]\u001b[A\n",
      " 25%|##5       | 14/55 [00:00<00:00, 65.57it/s]\u001b[A\n",
      " 40%|####      | 22/55 [00:00<00:00, 67.27it/s]\u001b[A\n",
      " 55%|#####4    | 30/55 [00:00<00:00, 69.51it/s]\u001b[A\n",
      " 69%|######9   | 38/55 [00:00<00:00, 71.01it/s]\u001b[A\n",
      " 84%|########3 | 46/55 [00:00<00:00, 71.74it/s]\u001b[A\n",
      " 98%|#########8| 54/55 [00:00<00:00, 72.44it/s]\u001b[A\n",
      " 50%|████▉     | 311/628 [00:15<00:36,  8.73it/s]A"
     ]
    },
    {
     "name": "stdout",
     "output_type": "stream",
     "text": [
      "{'ade': 0.54540914, 'fde': 1.1751783}\n",
      "\t last loss:0.000410541, eval on validation:['ade: 0.54540914', 'fde: 1.1751783'], (best ade:0.54351544 at step 28800) \n"
     ]
    },
    {
     "name": "stderr",
     "output_type": "stream",
     "text": [
      " 96%|█████████▋| 606/628 [00:28<00:00, 25.72it/s]\n",
      "  0%|          | 0/55 [00:00<?, ?it/s]\u001b[A"
     ]
    },
    {
     "name": "stdout",
     "output_type": "stream",
     "text": [
      "\tsaving model 40800...\n",
      "\tdone\n",
      "Evaluating\n"
     ]
    },
    {
     "name": "stderr",
     "output_type": "stream",
     "text": [
      "\n",
      " 16%|#6        | 9/55 [00:00<00:00, 87.06it/s]\u001b[A\n",
      " 35%|###4      | 19/55 [00:00<00:00, 88.51it/s]\u001b[A\n",
      " 51%|#####     | 28/55 [00:00<00:00, 88.37it/s]\u001b[A\n",
      " 69%|######9   | 38/55 [00:00<00:00, 89.97it/s]\u001b[A\n",
      " 85%|########5 | 47/55 [00:00<00:00, 89.91it/s]\u001b[A\n",
      " 97%|█████████▋| 609/628 [00:28<00:02,  8.44it/s]A"
     ]
    },
    {
     "name": "stdout",
     "output_type": "stream",
     "text": [
      "{'ade': 0.54655564, 'fde': 1.1787887}\n",
      "\t last loss:0.000280175, eval on validation:['ade: 0.54655564', 'fde: 1.1787887'], (best ade:0.54351544 at step 28800) \n"
     ]
    },
    {
     "name": "stderr",
     "output_type": "stream",
     "text": [
      "100%|██████████| 628/628 [00:29<00:00, 21.14it/s]\n",
      "  0%|          | 3/628 [00:00<00:25, 24.43it/s]"
     ]
    },
    {
     "name": "stdout",
     "output_type": "stream",
     "text": [
      "('Epoca 66.', 'lr:', 1.1026457e-05)\n"
     ]
    },
    {
     "name": "stderr",
     "output_type": "stream",
     "text": [
      " 44%|████▍     | 279/628 [00:11<00:17, 20.21it/s]"
     ]
    },
    {
     "name": "stdout",
     "output_type": "stream",
     "text": [
      "\tsaving model 41100...\n"
     ]
    },
    {
     "name": "stderr",
     "output_type": "stream",
     "text": [
      "\n",
      "  0%|          | 0/55 [00:00<?, ?it/s]\u001b[A\n",
      " 11%|#         | 6/55 [00:00<00:00, 55.29it/s]\u001b[A"
     ]
    },
    {
     "name": "stdout",
     "output_type": "stream",
     "text": [
      "\tdone\n",
      "Evaluating\n"
     ]
    },
    {
     "name": "stderr",
     "output_type": "stream",
     "text": [
      "\n",
      " 24%|##3       | 13/55 [00:00<00:00, 57.95it/s]\u001b[A\n",
      " 36%|###6      | 20/55 [00:00<00:00, 60.01it/s]\u001b[A\n",
      " 49%|####9     | 27/55 [00:00<00:00, 61.87it/s]\u001b[A\n",
      " 62%|######1   | 34/55 [00:00<00:00, 63.21it/s]\u001b[A\n",
      " 75%|#######4  | 41/55 [00:00<00:00, 63.91it/s]\u001b[A\n",
      " 89%|########9 | 49/55 [00:00<00:00, 66.10it/s]\u001b[A\n",
      " 45%|████▍     | 282/628 [00:13<00:53,  6.45it/s]A"
     ]
    },
    {
     "name": "stdout",
     "output_type": "stream",
     "text": [
      "{'ade': 0.5446121, 'fde': 1.1728911}\n",
      "\t last loss:0.000609134, eval on validation:['ade: 0.5446121', 'fde: 1.1728911'], (best ade:0.54351544 at step 28800) \n"
     ]
    },
    {
     "name": "stderr",
     "output_type": "stream",
     "text": [
      " 92%|█████████▏| 578/628 [00:25<00:02, 20.98it/s]"
     ]
    },
    {
     "name": "stdout",
     "output_type": "stream",
     "text": [
      "\tsaving model 41400...\n"
     ]
    },
    {
     "name": "stderr",
     "output_type": "stream",
     "text": [
      "\n",
      "  0%|          | 0/55 [00:00<?, ?it/s]\u001b[A\n",
      " 11%|#         | 6/55 [00:00<00:00, 59.81it/s]\u001b[A"
     ]
    },
    {
     "name": "stdout",
     "output_type": "stream",
     "text": [
      "\tdone\n",
      "Evaluating\n"
     ]
    },
    {
     "name": "stderr",
     "output_type": "stream",
     "text": [
      "\n",
      " 22%|##1       | 12/55 [00:00<00:00, 57.93it/s]\u001b[A\n",
      " 33%|###2      | 18/55 [00:00<00:00, 57.81it/s]\u001b[A\n",
      " 45%|####5     | 25/55 [00:00<00:00, 60.03it/s]\u001b[A\n",
      " 58%|#####8    | 32/55 [00:00<00:00, 61.58it/s]\u001b[A\n",
      " 71%|#######   | 39/55 [00:00<00:00, 63.23it/s]\u001b[A\n",
      " 84%|########3 | 46/55 [00:00<00:00, 64.62it/s]\u001b[A\n",
      " 96%|#########6| 53/55 [00:00<00:00, 64.55it/s]\u001b[A\n",
      " 93%|█████████▎| 581/628 [00:27<00:07,  6.22it/s]A"
     ]
    },
    {
     "name": "stdout",
     "output_type": "stream",
     "text": [
      "{'ade': 0.54846835, 'fde': 1.184734}\n",
      "\t last loss:0.000393363, eval on validation:['ade: 0.54846835', 'fde: 1.184734'], (best ade:0.54351544 at step 28800) \n"
     ]
    },
    {
     "name": "stderr",
     "output_type": "stream",
     "text": [
      "100%|██████████| 628/628 [00:29<00:00, 21.38it/s]\n",
      "  0%|          | 2/628 [00:00<00:32, 19.42it/s]"
     ]
    },
    {
     "name": "stdout",
     "output_type": "stream",
     "text": [
      "('Epoca 67.', 'lr:', 9.37249e-06)\n"
     ]
    },
    {
     "name": "stderr",
     "output_type": "stream",
     "text": [
      " 40%|███▉      | 249/628 [00:10<00:14, 26.23it/s]\n",
      "  0%|          | 0/55 [00:00<?, ?it/s]\u001b[A"
     ]
    },
    {
     "name": "stdout",
     "output_type": "stream",
     "text": [
      "\tsaving model 41700...\n",
      "\tdone\n",
      "Evaluating\n"
     ]
    },
    {
     "name": "stderr",
     "output_type": "stream",
     "text": [
      "\n",
      " 13%|#2        | 7/55 [00:00<00:00, 69.13it/s]\u001b[A\n",
      " 29%|##9       | 16/55 [00:00<00:00, 74.25it/s]\u001b[A\n",
      " 45%|####5     | 25/55 [00:00<00:00, 78.35it/s]\u001b[A\n",
      " 64%|######3   | 35/55 [00:00<00:00, 81.91it/s]\u001b[A\n",
      " 80%|########  | 44/55 [00:00<00:00, 83.77it/s]\u001b[A\n",
      " 96%|#########6| 53/55 [00:00<00:00, 85.01it/s]\u001b[A\n",
      " 41%|████      | 255/628 [00:11<00:36, 10.36it/s]A"
     ]
    },
    {
     "name": "stdout",
     "output_type": "stream",
     "text": [
      "{'ade': 0.54472905, 'fde': 1.1734637}\n",
      "\t last loss:0.000448106, eval on validation:['ade: 0.54472905', 'fde: 1.1734637'], (best ade:0.54351544 at step 28800) \n"
     ]
    },
    {
     "name": "stderr",
     "output_type": "stream",
     "text": [
      " 87%|████████▋ | 549/628 [00:24<00:03, 22.49it/s]\n",
      "  0%|          | 0/55 [00:00<?, ?it/s]\u001b[A"
     ]
    },
    {
     "name": "stdout",
     "output_type": "stream",
     "text": [
      "\tsaving model 42000...\n",
      "\tdone\n",
      "Evaluating\n"
     ]
    },
    {
     "name": "stderr",
     "output_type": "stream",
     "text": [
      "\n",
      " 13%|#2        | 7/55 [00:00<00:00, 61.93it/s]\u001b[A\n",
      " 25%|##5       | 14/55 [00:00<00:00, 63.88it/s]\u001b[A\n",
      " 40%|####      | 22/55 [00:00<00:00, 66.93it/s]\u001b[A\n",
      " 53%|#####2    | 29/55 [00:00<00:00, 67.81it/s]\u001b[A\n",
      " 67%|######7   | 37/55 [00:00<00:00, 70.08it/s]\u001b[A\n",
      " 82%|########1 | 45/55 [00:00<00:00, 70.67it/s]\u001b[A\n",
      " 96%|#########6| 53/55 [00:00<00:00, 71.80it/s]\u001b[A\n",
      " 88%|████████▊ | 555/628 [00:25<00:08,  8.80it/s]A"
     ]
    },
    {
     "name": "stdout",
     "output_type": "stream",
     "text": [
      "{'ade': 0.5447264, 'fde': 1.1735393}\n",
      "\t last loss:0.000299512, eval on validation:['ade: 0.5447264', 'fde: 1.1735393'], (best ade:0.54351544 at step 28800) \n"
     ]
    },
    {
     "name": "stderr",
     "output_type": "stream",
     "text": [
      "100%|██████████| 628/628 [00:28<00:00, 21.71it/s]\n",
      "  0%|          | 2/628 [00:00<00:42, 14.78it/s]"
     ]
    },
    {
     "name": "stdout",
     "output_type": "stream",
     "text": [
      "('Epoca 68.', 'lr:', 9.37249e-06)\n"
     ]
    },
    {
     "name": "stderr",
     "output_type": "stream",
     "text": [
      " 35%|███▌      | 221/628 [00:09<00:19, 20.55it/s]"
     ]
    },
    {
     "name": "stdout",
     "output_type": "stream",
     "text": [
      "\tsaving model 42300...\n"
     ]
    },
    {
     "name": "stderr",
     "output_type": "stream",
     "text": [
      "\n",
      "  0%|          | 0/55 [00:00<?, ?it/s]\u001b[A\n",
      " 11%|#         | 6/55 [00:00<00:00, 56.47it/s]\u001b[A"
     ]
    },
    {
     "name": "stdout",
     "output_type": "stream",
     "text": [
      "\tdone\n",
      "Evaluating\n"
     ]
    },
    {
     "name": "stderr",
     "output_type": "stream",
     "text": [
      "\n",
      " 24%|##3       | 13/55 [00:00<00:00, 58.15it/s]\u001b[A\n",
      " 36%|###6      | 20/55 [00:00<00:00, 60.16it/s]\u001b[A\n",
      " 49%|####9     | 27/55 [00:00<00:00, 61.54it/s]\u001b[A\n",
      " 62%|######1   | 34/55 [00:00<00:00, 63.25it/s]\u001b[A\n",
      " 75%|#######4  | 41/55 [00:00<00:00, 63.81it/s]\u001b[A\n",
      " 87%|########7 | 48/55 [00:00<00:00, 64.52it/s]\u001b[A\n",
      " 36%|███▌      | 226/628 [00:10<00:50,  7.95it/s]A"
     ]
    },
    {
     "name": "stdout",
     "output_type": "stream",
     "text": [
      "{'ade': 0.5461789, 'fde': 1.1772444}\n",
      "\t last loss:0.000347001, eval on validation:['ade: 0.5461789', 'fde: 1.1772444'], (best ade:0.54351544 at step 28800) \n"
     ]
    },
    {
     "name": "stderr",
     "output_type": "stream",
     "text": [
      " 83%|████████▎ | 522/628 [00:23<00:04, 24.38it/s]\n",
      "  0%|          | 0/55 [00:00<?, ?it/s]\u001b[A"
     ]
    },
    {
     "name": "stdout",
     "output_type": "stream",
     "text": [
      "\tsaving model 42600...\n",
      "\tdone\n",
      "Evaluating\n"
     ]
    },
    {
     "name": "stderr",
     "output_type": "stream",
     "text": [
      "\n",
      " 16%|#6        | 9/55 [00:00<00:00, 82.11it/s]\u001b[A\n",
      " 33%|###2      | 18/55 [00:00<00:00, 82.83it/s]\u001b[A\n",
      " 49%|####9     | 27/55 [00:00<00:00, 83.53it/s]\u001b[A\n",
      " 64%|######3   | 35/55 [00:00<00:00, 81.99it/s]\u001b[A\n",
      " 80%|########  | 44/55 [00:00<00:00, 82.76it/s]\u001b[A\n",
      " 93%|#########2| 51/55 [00:00<00:00, 77.75it/s]\u001b[A\n",
      " 84%|████████▎ | 525/628 [00:24<00:13,  7.73it/s]A"
     ]
    },
    {
     "name": "stdout",
     "output_type": "stream",
     "text": [
      "{'ade': 0.5443859, 'fde': 1.1730226}\n",
      "\t last loss:0.000321027, eval on validation:['ade: 0.5443859', 'fde: 1.1730226'], (best ade:0.54351544 at step 28800) \n"
     ]
    },
    {
     "name": "stderr",
     "output_type": "stream",
     "text": [
      "100%|██████████| 628/628 [00:28<00:00, 22.06it/s]\n",
      "  0%|          | 1/628 [00:00<01:12,  8.66it/s]"
     ]
    },
    {
     "name": "stdout",
     "output_type": "stream",
     "text": [
      "('Epoca 69.', 'lr:', 7.966617e-06)\n"
     ]
    },
    {
     "name": "stderr",
     "output_type": "stream",
     "text": [
      " 31%|███       | 194/628 [00:09<00:26, 16.31it/s]"
     ]
    },
    {
     "name": "stdout",
     "output_type": "stream",
     "text": [
      "\tsaving model 42900...\n"
     ]
    },
    {
     "name": "stderr",
     "output_type": "stream",
     "text": [
      "\n",
      "  0%|          | 0/55 [00:00<?, ?it/s]\u001b[A\n",
      " 11%|#         | 6/55 [00:00<00:00, 59.32it/s]\u001b[A"
     ]
    },
    {
     "name": "stdout",
     "output_type": "stream",
     "text": [
      "\tdone\n",
      "Evaluating\n"
     ]
    },
    {
     "name": "stderr",
     "output_type": "stream",
     "text": [
      "\n",
      " 22%|##1       | 12/55 [00:00<00:00, 58.27it/s]\u001b[A\n",
      " 33%|###2      | 18/55 [00:00<00:00, 56.78it/s]\u001b[A\n",
      " 44%|####3     | 24/55 [00:00<00:00, 55.31it/s]\u001b[A\n",
      " 55%|#####4    | 30/55 [00:00<00:00, 55.48it/s]\u001b[A\n",
      " 67%|######7   | 37/55 [00:00<00:00, 57.75it/s]\u001b[A\n",
      " 78%|#######8  | 43/55 [00:00<00:00, 55.95it/s]\u001b[A\n",
      " 89%|########9 | 49/55 [00:00<00:00, 56.44it/s]\u001b[A\n",
      " 32%|███▏      | 198/628 [00:10<01:22,  5.21it/s]A"
     ]
    },
    {
     "name": "stdout",
     "output_type": "stream",
     "text": [
      "{'ade': 0.54559463, 'fde': 1.1761135}\n",
      "\t last loss:0.000410228, eval on validation:['ade: 0.54559463', 'fde: 1.1761135'], (best ade:0.54351544 at step 28800) \n"
     ]
    },
    {
     "name": "stderr",
     "output_type": "stream",
     "text": [
      " 79%|███████▊  | 493/628 [00:25<00:05, 24.22it/s]\n",
      "  0%|          | 0/55 [00:00<?, ?it/s]\u001b[A"
     ]
    },
    {
     "name": "stdout",
     "output_type": "stream",
     "text": [
      "\tsaving model 43200...\n",
      "\tdone\n",
      "Evaluating\n"
     ]
    },
    {
     "name": "stderr",
     "output_type": "stream",
     "text": [
      "\n",
      " 16%|#6        | 9/55 [00:00<00:00, 82.68it/s]\u001b[A\n",
      " 33%|###2      | 18/55 [00:00<00:00, 80.81it/s]\u001b[A\n",
      " 49%|####9     | 27/55 [00:00<00:00, 80.65it/s]\u001b[A\n",
      " 64%|######3   | 35/55 [00:00<00:00, 78.97it/s]\u001b[A\n",
      " 76%|#######6  | 42/55 [00:00<00:00, 74.78it/s]\u001b[A\n",
      " 89%|########9 | 49/55 [00:00<00:00, 69.53it/s]\u001b[A\n",
      " 79%|███████▉  | 498/628 [00:26<00:14,  8.91it/s]A"
     ]
    },
    {
     "name": "stdout",
     "output_type": "stream",
     "text": [
      "{'ade': 0.5460751, 'fde': 1.1758511}\n",
      "\t last loss:0.000594631, eval on validation:['ade: 0.5460751', 'fde: 1.1758511'], (best ade:0.54351544 at step 28800) \n"
     ]
    },
    {
     "name": "stderr",
     "output_type": "stream",
     "text": [
      "100%|██████████| 628/628 [00:32<00:00, 22.79it/s]\n",
      "  0%|          | 3/628 [00:00<00:28, 21.75it/s]"
     ]
    },
    {
     "name": "stdout",
     "output_type": "stream",
     "text": [
      "('Epoca 70.', 'lr:', 7.966617e-06)\n"
     ]
    },
    {
     "name": "stderr",
     "output_type": "stream",
     "text": [
      " 27%|██▋       | 167/628 [00:06<00:19, 24.16it/s]\n",
      "  0%|          | 0/55 [00:00<?, ?it/s]\u001b[A"
     ]
    },
    {
     "name": "stdout",
     "output_type": "stream",
     "text": [
      "\tsaving model 43500...\n",
      "\tdone\n",
      "Evaluating\n"
     ]
    },
    {
     "name": "stderr",
     "output_type": "stream",
     "text": [
      "\n",
      " 15%|#4        | 8/55 [00:00<00:00, 76.29it/s]\u001b[A\n",
      " 31%|###       | 17/55 [00:00<00:00, 78.96it/s]\u001b[A\n",
      " 47%|####7     | 26/55 [00:00<00:00, 81.17it/s]\u001b[A\n",
      " 64%|######3   | 35/55 [00:00<00:00, 82.47it/s]\u001b[A\n",
      " 76%|#######6  | 42/55 [00:00<00:00, 78.18it/s]\u001b[A\n",
      " 93%|#########2| 51/55 [00:00<00:00, 79.69it/s]\u001b[A\n",
      " 27%|██▋       | 170/628 [00:07<00:58,  7.80it/s]A"
     ]
    },
    {
     "name": "stdout",
     "output_type": "stream",
     "text": [
      "{'ade': 0.5451274, 'fde': 1.174547}\n",
      "\t last loss:0.000414925, eval on validation:['ade: 0.5451274', 'fde: 1.174547'], (best ade:0.54351544 at step 28800) \n"
     ]
    },
    {
     "name": "stderr",
     "output_type": "stream",
     "text": [
      " 74%|███████▍  | 467/628 [00:21<00:06, 24.62it/s]\n",
      "  0%|          | 0/55 [00:00<?, ?it/s]\u001b[A"
     ]
    },
    {
     "name": "stdout",
     "output_type": "stream",
     "text": [
      "\tsaving model 43800...\n",
      "\tdone\n",
      "Evaluating\n"
     ]
    },
    {
     "name": "stderr",
     "output_type": "stream",
     "text": [
      "\n",
      " 16%|#6        | 9/55 [00:00<00:00, 81.91it/s]\u001b[A\n",
      " 33%|###2      | 18/55 [00:00<00:00, 82.47it/s]\u001b[A\n",
      " 49%|####9     | 27/55 [00:00<00:00, 83.35it/s]\u001b[A\n",
      " 65%|######5   | 36/55 [00:00<00:00, 85.03it/s]\u001b[A\n",
      " 78%|#######8  | 43/55 [00:00<00:00, 75.11it/s]\u001b[A\n",
      " 95%|#########4| 52/55 [00:00<00:00, 78.40it/s]\u001b[A\n",
      " 75%|███████▍  | 470/628 [00:21<00:20,  7.88it/s]A"
     ]
    },
    {
     "name": "stdout",
     "output_type": "stream",
     "text": [
      "{'ade': 0.5467946, 'fde': 1.1793368}\n",
      "\t last loss:0.000623600, eval on validation:['ade: 0.5467946', 'fde: 1.1793368'], (best ade:0.54351544 at step 28800) \n"
     ]
    },
    {
     "name": "stderr",
     "output_type": "stream",
     "text": [
      "100%|██████████| 628/628 [00:28<00:00, 22.27it/s]\n",
      "  0%|          | 1/628 [00:00<01:16,  8.22it/s]"
     ]
    },
    {
     "name": "stdout",
     "output_type": "stream",
     "text": [
      "('Epoca 71.', 'lr:', 6.7716246e-06)\n"
     ]
    },
    {
     "name": "stderr",
     "output_type": "stream",
     "text": [
      " 22%|██▏       | 139/628 [00:06<00:28, 16.93it/s]"
     ]
    },
    {
     "name": "stdout",
     "output_type": "stream",
     "text": [
      "\tsaving model 44100...\n"
     ]
    },
    {
     "name": "stderr",
     "output_type": "stream",
     "text": [
      "\n",
      "  0%|          | 0/55 [00:00<?, ?it/s]\u001b[A\n",
      " 11%|#         | 6/55 [00:00<00:00, 59.73it/s]\u001b[A"
     ]
    },
    {
     "name": "stdout",
     "output_type": "stream",
     "text": [
      "\tdone\n",
      "Evaluating\n"
     ]
    },
    {
     "name": "stderr",
     "output_type": "stream",
     "text": [
      "\n",
      " 18%|#8        | 10/55 [00:00<00:00, 49.52it/s]\u001b[A\n",
      " 27%|##7       | 15/55 [00:00<00:00, 49.30it/s]\u001b[A\n",
      " 40%|####      | 22/55 [00:00<00:00, 53.15it/s]\u001b[A\n",
      " 53%|#####2    | 29/55 [00:00<00:00, 56.09it/s]\u001b[A\n",
      " 65%|######5   | 36/55 [00:00<00:00, 58.92it/s]\u001b[A\n",
      " 78%|#######8  | 43/55 [00:00<00:00, 60.04it/s]\u001b[A\n",
      " 91%|######### | 50/55 [00:00<00:00, 61.74it/s]\u001b[A\n",
      " 23%|██▎       | 143/628 [00:07<01:26,  5.63it/s]A"
     ]
    },
    {
     "name": "stdout",
     "output_type": "stream",
     "text": [
      "{'ade': 0.54662585, 'fde': 1.1792374}\n",
      "\t last loss:0.000494577, eval on validation:['ade: 0.54662585', 'fde: 1.1792374'], (best ade:0.54351544 at step 28800) \n"
     ]
    },
    {
     "name": "stderr",
     "output_type": "stream",
     "text": [
      " 70%|██████▉   | 438/628 [00:20<00:07, 24.69it/s]\n",
      "  0%|          | 0/55 [00:00<?, ?it/s]\u001b[A"
     ]
    },
    {
     "name": "stdout",
     "output_type": "stream",
     "text": [
      "\tsaving model 44400...\n",
      "\tdone\n",
      "Evaluating\n"
     ]
    },
    {
     "name": "stderr",
     "output_type": "stream",
     "text": [
      "\n",
      " 13%|#2        | 7/55 [00:00<00:00, 67.33it/s]\u001b[A\n",
      " 25%|##5       | 14/55 [00:00<00:00, 68.09it/s]\u001b[A\n",
      " 40%|####      | 22/55 [00:00<00:00, 70.93it/s]\u001b[A\n",
      " 56%|#####6    | 31/55 [00:00<00:00, 74.41it/s]\u001b[A\n",
      " 73%|#######2  | 40/55 [00:00<00:00, 76.87it/s]\u001b[A\n",
      " 87%|########7 | 48/55 [00:00<00:00, 76.74it/s]\u001b[A\n",
      " 70%|███████   | 441/628 [00:21<00:24,  7.59it/s]A"
     ]
    },
    {
     "name": "stdout",
     "output_type": "stream",
     "text": [
      "{'ade': 0.5467736, 'fde': 1.1802632}\n",
      "\t last loss:0.000313092, eval on validation:['ade: 0.5467736', 'fde: 1.1802632'], (best ade:0.54351544 at step 28800) \n"
     ]
    },
    {
     "name": "stderr",
     "output_type": "stream",
     "text": [
      "100%|██████████| 628/628 [00:29<00:00, 24.11it/s]\n",
      "  0%|          | 2/628 [00:00<00:42, 14.77it/s]"
     ]
    },
    {
     "name": "stdout",
     "output_type": "stream",
     "text": [
      "('Epoca 72.', 'lr:', 6.7716246e-06)\n"
     ]
    },
    {
     "name": "stderr",
     "output_type": "stream",
     "text": [
      " 18%|█▊        | 110/628 [00:04<00:20, 24.93it/s]\n",
      "  0%|          | 0/55 [00:00<?, ?it/s]\u001b[A"
     ]
    },
    {
     "name": "stdout",
     "output_type": "stream",
     "text": [
      "\tsaving model 44700...\n",
      "\tdone\n",
      "Evaluating\n"
     ]
    },
    {
     "name": "stderr",
     "output_type": "stream",
     "text": [
      "\n",
      " 16%|#6        | 9/55 [00:00<00:00, 81.94it/s]\u001b[A\n",
      " 33%|###2      | 18/55 [00:00<00:00, 83.06it/s]\u001b[A\n",
      " 49%|####9     | 27/55 [00:00<00:00, 83.89it/s]\u001b[A\n",
      " 64%|######3   | 35/55 [00:00<00:00, 81.60it/s]\u001b[A\n",
      " 80%|########  | 44/55 [00:00<00:00, 82.22it/s]\u001b[A\n",
      " 96%|#########6| 53/55 [00:00<00:00, 83.05it/s]\u001b[A\n",
      " 18%|█▊        | 113/628 [00:05<01:05,  7.82it/s]A"
     ]
    },
    {
     "name": "stdout",
     "output_type": "stream",
     "text": [
      "{'ade': 0.5453334, 'fde': 1.1751066}\n",
      "\t last loss:0.000398119, eval on validation:['ade: 0.5453334', 'fde: 1.1751066'], (best ade:0.54351544 at step 28800) \n"
     ]
    },
    {
     "name": "stderr",
     "output_type": "stream",
     "text": [
      " 65%|██████▌   | 410/628 [00:18<00:09, 24.09it/s]\n",
      "  0%|          | 0/55 [00:00<?, ?it/s]\u001b[A"
     ]
    },
    {
     "name": "stdout",
     "output_type": "stream",
     "text": [
      "\tsaving model 45000...\n",
      "\tdone\n",
      "Evaluating\n"
     ]
    },
    {
     "name": "stderr",
     "output_type": "stream",
     "text": [
      "\n",
      " 15%|#4        | 8/55 [00:00<00:00, 79.18it/s]\u001b[A\n",
      " 31%|###       | 17/55 [00:00<00:00, 81.18it/s]\u001b[A\n",
      " 45%|####5     | 25/55 [00:00<00:00, 80.56it/s]\u001b[A\n",
      " 62%|######1   | 34/55 [00:00<00:00, 81.86it/s]\u001b[A\n",
      " 78%|#######8  | 43/55 [00:00<00:00, 82.06it/s]\u001b[A\n",
      " 95%|#########4| 52/55 [00:00<00:00, 82.34it/s]\u001b[A\n",
      " 66%|██████▌   | 416/628 [00:19<00:21,  9.86it/s]A"
     ]
    },
    {
     "name": "stdout",
     "output_type": "stream",
     "text": [
      "{'ade': 0.5449518, 'fde': 1.1742022}\n",
      "\t last loss:0.000295267, eval on validation:['ade: 0.5449518', 'fde: 1.1742022'], (best ade:0.54351544 at step 28800) \n"
     ]
    },
    {
     "name": "stderr",
     "output_type": "stream",
     "text": [
      "100%|██████████| 628/628 [00:28<00:00, 22.28it/s]\n",
      "  0%|          | 3/628 [00:00<00:26, 23.48it/s]"
     ]
    },
    {
     "name": "stdout",
     "output_type": "stream",
     "text": [
      "('Epoca 73.', 'lr:', 5.7558805e-06)\n"
     ]
    },
    {
     "name": "stderr",
     "output_type": "stream",
     "text": [
      " 13%|█▎        | 81/628 [00:03<00:22, 24.62it/s]"
     ]
    },
    {
     "name": "stdout",
     "output_type": "stream",
     "text": [
      "\tsaving model 45300...\n"
     ]
    },
    {
     "name": "stderr",
     "output_type": "stream",
     "text": [
      "\n",
      "  0%|          | 0/55 [00:00<?, ?it/s]\u001b[A\n",
      " 13%|#2        | 7/55 [00:00<00:00, 68.98it/s]\u001b[A"
     ]
    },
    {
     "name": "stdout",
     "output_type": "stream",
     "text": [
      "\tdone\n",
      "Evaluating\n"
     ]
    },
    {
     "name": "stderr",
     "output_type": "stream",
     "text": [
      "\n",
      " 25%|##5       | 14/55 [00:00<00:00, 67.20it/s]\u001b[A\n",
      " 36%|###6      | 20/55 [00:00<00:00, 64.65it/s]\u001b[A\n",
      " 49%|####9     | 27/55 [00:00<00:00, 64.44it/s]\u001b[A\n",
      " 62%|######1   | 34/55 [00:00<00:00, 65.22it/s]\u001b[A\n",
      " 75%|#######4  | 41/55 [00:00<00:00, 65.13it/s]\u001b[A\n",
      " 87%|########7 | 48/55 [00:00<00:00, 66.03it/s]\u001b[A\n",
      " 14%|█▍        | 87/628 [00:04<01:06,  8.17it/s][A"
     ]
    },
    {
     "name": "stdout",
     "output_type": "stream",
     "text": [
      "{'ade': 0.54532564, 'fde': 1.17482}\n",
      "\t last loss:0.000237867, eval on validation:['ade: 0.54532564', 'fde: 1.17482'], (best ade:0.54351544 at step 28800) \n"
     ]
    },
    {
     "name": "stderr",
     "output_type": "stream",
     "text": [
      " 61%|██████    | 383/628 [00:17<00:10, 24.23it/s]\n",
      "  0%|          | 0/55 [00:00<?, ?it/s]\u001b[A"
     ]
    },
    {
     "name": "stdout",
     "output_type": "stream",
     "text": [
      "\tsaving model 45600...\n",
      "\tdone\n",
      "Evaluating\n"
     ]
    },
    {
     "name": "stderr",
     "output_type": "stream",
     "text": [
      "\n",
      " 15%|#4        | 8/55 [00:00<00:00, 78.81it/s]\u001b[A\n",
      " 29%|##9       | 16/55 [00:00<00:00, 79.09it/s]\u001b[A\n",
      " 45%|####5     | 25/55 [00:00<00:00, 81.06it/s]\u001b[A\n",
      " 62%|######1   | 34/55 [00:00<00:00, 81.46it/s]\u001b[A\n",
      " 78%|#######8  | 43/55 [00:00<00:00, 82.16it/s]\u001b[A\n",
      " 95%|#########4| 52/55 [00:00<00:00, 81.85it/s]\u001b[A\n",
      " 61%|██████▏   | 386/628 [00:18<00:31,  7.78it/s]A"
     ]
    },
    {
     "name": "stdout",
     "output_type": "stream",
     "text": [
      "{'ade': 0.54416925, 'fde': 1.1713883}\n",
      "\t last loss:0.000304911, eval on validation:['ade: 0.54416925', 'fde: 1.1713883'], (best ade:0.54351544 at step 28800) \n"
     ]
    },
    {
     "name": "stderr",
     "output_type": "stream",
     "text": [
      "100%|██████████| 628/628 [00:29<00:00, 21.33it/s]\n",
      "  0%|          | 1/628 [00:00<01:15,  8.36it/s]"
     ]
    },
    {
     "name": "stdout",
     "output_type": "stream",
     "text": [
      "('Epoca 74.', 'lr:', 5.7558805e-06)\n"
     ]
    },
    {
     "name": "stderr",
     "output_type": "stream",
     "text": [
      "  9%|▉         | 55/628 [00:02<00:22, 25.47it/s]\n",
      "  0%|          | 0/55 [00:00<?, ?it/s]\u001b[A"
     ]
    },
    {
     "name": "stdout",
     "output_type": "stream",
     "text": [
      "\tsaving model 45900...\n",
      "\tdone\n",
      "Evaluating\n"
     ]
    },
    {
     "name": "stderr",
     "output_type": "stream",
     "text": [
      "\n",
      " 16%|#6        | 9/55 [00:00<00:00, 83.61it/s]\u001b[A\n",
      " 35%|###4      | 19/55 [00:00<00:00, 86.82it/s]\u001b[A\n",
      " 53%|#####2    | 29/55 [00:00<00:00, 88.30it/s]\u001b[A\n",
      " 71%|#######   | 39/55 [00:00<00:00, 89.56it/s]\u001b[A\n",
      " 89%|########9 | 49/55 [00:00<00:00, 90.49it/s]\u001b[A\n",
      "  9%|▉         | 58/628 [00:03<01:07,  8.43it/s][A"
     ]
    },
    {
     "name": "stdout",
     "output_type": "stream",
     "text": [
      "{'ade': 0.5462424, 'fde': 1.1777791}\n",
      "\t last loss:0.000224743, eval on validation:['ade: 0.5462424', 'fde: 1.1777791'], (best ade:0.54351544 at step 28800) \n"
     ]
    },
    {
     "name": "stderr",
     "output_type": "stream",
     "text": [
      " 57%|█████▋    | 355/628 [00:15<00:13, 20.78it/s]"
     ]
    },
    {
     "name": "stdout",
     "output_type": "stream",
     "text": [
      "\tsaving model 46200...\n"
     ]
    },
    {
     "name": "stderr",
     "output_type": "stream",
     "text": [
      "\n",
      "  0%|          | 0/55 [00:00<?, ?it/s]\u001b[A\n",
      " 13%|#2        | 7/55 [00:00<00:00, 65.60it/s]\u001b[A\n",
      " 25%|##5       | 14/55 [00:00<00:00, 65.56it/s]\u001b[A\n",
      " 38%|###8      | 21/55 [00:00<00:00, 65.99it/s]\u001b[A\n",
      " 49%|####9     | 27/55 [00:00<00:00, 61.24it/s]\u001b[A\n",
      " 62%|######1   | 34/55 [00:00<00:00, 62.94it/s]\u001b[A\n",
      " 75%|#######4  | 41/55 [00:00<00:00, 64.38it/s]\u001b[A\n",
      " 87%|########7 | 48/55 [00:00<00:00, 65.23it/s]\u001b[A\n",
      " 57%|█████▋    | 358/628 [00:16<00:42,  6.37it/s]A"
     ]
    },
    {
     "name": "stdout",
     "output_type": "stream",
     "text": [
      "\tdone\n",
      "Evaluating\n",
      "{'ade': 0.54485774, 'fde': 1.1739733}\n",
      "\t last loss:0.000386923, eval on validation:['ade: 0.54485774', 'fde: 1.1739733'], (best ade:0.54351544 at step 28800) \n"
     ]
    },
    {
     "name": "stderr",
     "output_type": "stream",
     "text": [
      "100%|██████████| 628/628 [00:28<00:00, 22.20it/s]\n",
      "  0%|          | 3/628 [00:00<00:26, 23.99it/s]"
     ]
    },
    {
     "name": "stdout",
     "output_type": "stream",
     "text": [
      "('Epoca 75.', 'lr:', 4.8924985e-06)\n"
     ]
    },
    {
     "name": "stderr",
     "output_type": "stream",
     "text": [
      "  4%|▍         | 27/628 [00:01<00:24, 24.53it/s]\n",
      "  0%|          | 0/55 [00:00<?, ?it/s]\u001b[A"
     ]
    },
    {
     "name": "stdout",
     "output_type": "stream",
     "text": [
      "\tsaving model 46500...\n",
      "\tdone\n",
      "Evaluating\n"
     ]
    },
    {
     "name": "stderr",
     "output_type": "stream",
     "text": [
      "\n",
      " 16%|#6        | 9/55 [00:00<00:00, 81.89it/s]\u001b[A\n",
      " 33%|###2      | 18/55 [00:00<00:00, 82.16it/s]\u001b[A\n",
      " 49%|####9     | 27/55 [00:00<00:00, 82.93it/s]\u001b[A\n",
      " 64%|######3   | 35/55 [00:00<00:00, 80.86it/s]\u001b[A\n",
      " 76%|#######6  | 42/55 [00:00<00:00, 71.09it/s]\u001b[A\n",
      " 89%|########9 | 49/55 [00:00<00:00, 69.72it/s]\u001b[A\n",
      "  5%|▍         | 30/628 [00:02<01:22,  7.22it/s][A"
     ]
    },
    {
     "name": "stdout",
     "output_type": "stream",
     "text": [
      "{'ade': 0.5457411, 'fde': 1.176532}\n",
      "\t last loss:0.000448985, eval on validation:['ade: 0.5457411', 'fde: 1.176532'], (best ade:0.54351544 at step 28800) \n"
     ]
    },
    {
     "name": "stderr",
     "output_type": "stream",
     "text": [
      " 52%|█████▏    | 326/628 [00:15<00:12, 24.68it/s]\n",
      "  0%|          | 0/55 [00:00<?, ?it/s]\u001b[A"
     ]
    },
    {
     "name": "stdout",
     "output_type": "stream",
     "text": [
      "\tsaving model 46800...\n",
      "\tdone\n",
      "Evaluating\n"
     ]
    },
    {
     "name": "stderr",
     "output_type": "stream",
     "text": [
      "\n",
      " 15%|#4        | 8/55 [00:00<00:00, 79.76it/s]\u001b[A\n",
      " 29%|##9       | 16/55 [00:00<00:00, 78.04it/s]\u001b[A\n",
      " 45%|####5     | 25/55 [00:00<00:00, 79.57it/s]\u001b[A\n",
      " 62%|######1   | 34/55 [00:00<00:00, 80.11it/s]\u001b[A\n",
      " 76%|#######6  | 42/55 [00:00<00:00, 79.93it/s]\u001b[A\n",
      " 93%|#########2| 51/55 [00:00<00:00, 81.30it/s]\u001b[A\n",
      " 53%|█████▎    | 332/628 [00:16<00:30,  9.80it/s]A"
     ]
    },
    {
     "name": "stdout",
     "output_type": "stream",
     "text": [
      "{'ade': 0.5457266, 'fde': 1.176349}\n",
      "\t last loss:0.000419935, eval on validation:['ade: 0.5457266', 'fde: 1.176349'], (best ade:0.54351544 at step 28800) \n"
     ]
    },
    {
     "name": "stderr",
     "output_type": "stream",
     "text": [
      "100%|█████████▉| 626/628 [00:29<00:00, 24.97it/s]\n",
      "  0%|          | 0/55 [00:00<?, ?it/s]\u001b[A"
     ]
    },
    {
     "name": "stdout",
     "output_type": "stream",
     "text": [
      "\tsaving model 47100...\n",
      "\tdone\n",
      "Evaluating\n"
     ]
    },
    {
     "name": "stderr",
     "output_type": "stream",
     "text": [
      "\n",
      " 15%|#4        | 8/55 [00:00<00:00, 79.62it/s]\u001b[A\n",
      " 31%|###       | 17/55 [00:00<00:00, 82.11it/s]\u001b[A\n",
      " 49%|####9     | 27/55 [00:00<00:00, 84.70it/s]\u001b[A\n",
      " 65%|######5   | 36/55 [00:00<00:00, 85.44it/s]\u001b[A\n",
      " 84%|########3 | 46/55 [00:00<00:00, 87.21it/s]\u001b[A\n",
      "100%|██████████| 628/628 [00:30<00:00, 20.61it/s]A\n",
      "  0%|          | 2/628 [00:00<00:37, 16.60it/s]"
     ]
    },
    {
     "name": "stdout",
     "output_type": "stream",
     "text": [
      "{'ade': 0.546063, 'fde': 1.1770462}\n",
      "\t last loss:0.000240099, eval on validation:['ade: 0.546063', 'fde: 1.1770462'], (best ade:0.54351544 at step 28800) \n",
      "('Epoca 76.', 'lr:', 4.8924985e-06)\n"
     ]
    },
    {
     "name": "stderr",
     "output_type": "stream",
     "text": [
      " 48%|████▊     | 299/628 [00:12<00:15, 20.89it/s]"
     ]
    },
    {
     "name": "stdout",
     "output_type": "stream",
     "text": [
      "\tsaving model 47400...\n"
     ]
    },
    {
     "name": "stderr",
     "output_type": "stream",
     "text": [
      "\n",
      "  0%|          | 0/55 [00:00<?, ?it/s]\u001b[A\n",
      " 13%|#2        | 7/55 [00:00<00:00, 63.88it/s]\u001b[A"
     ]
    },
    {
     "name": "stdout",
     "output_type": "stream",
     "text": [
      "\tdone\n",
      "Evaluating\n"
     ]
    },
    {
     "name": "stderr",
     "output_type": "stream",
     "text": [
      "\n",
      " 25%|##5       | 14/55 [00:00<00:00, 63.02it/s]\u001b[A\n",
      " 36%|###6      | 20/55 [00:00<00:00, 61.81it/s]\u001b[A\n",
      " 49%|####9     | 27/55 [00:00<00:00, 63.02it/s]\u001b[A\n",
      " 62%|######1   | 34/55 [00:00<00:00, 64.32it/s]\u001b[A\n",
      " 75%|#######4  | 41/55 [00:00<00:00, 64.75it/s]\u001b[A\n",
      " 87%|########7 | 48/55 [00:00<00:00, 64.42it/s]\u001b[A\n",
      " 48%|████▊     | 302/628 [00:13<00:52,  6.19it/s]A"
     ]
    },
    {
     "name": "stdout",
     "output_type": "stream",
     "text": [
      "{'ade': 0.5456256, 'fde': 1.175682}\n",
      "\t last loss:0.000391011, eval on validation:['ade: 0.5456256', 'fde: 1.175682'], (best ade:0.54351544 at step 28800) \n"
     ]
    },
    {
     "name": "stderr",
     "output_type": "stream",
     "text": [
      " 95%|█████████▌| 599/628 [00:26<00:01, 24.86it/s]\n",
      "  0%|          | 0/55 [00:00<?, ?it/s]\u001b[A"
     ]
    },
    {
     "name": "stdout",
     "output_type": "stream",
     "text": [
      "\tsaving model 47700...\n",
      "\tdone\n",
      "Evaluating\n"
     ]
    },
    {
     "name": "stderr",
     "output_type": "stream",
     "text": [
      "\n",
      " 15%|#4        | 8/55 [00:00<00:00, 78.39it/s]\u001b[A\n",
      " 31%|###       | 17/55 [00:00<00:00, 80.26it/s]\u001b[A\n",
      " 47%|####7     | 26/55 [00:00<00:00, 80.75it/s]\u001b[A\n",
      " 62%|######1   | 34/55 [00:00<00:00, 79.74it/s]\u001b[A\n",
      " 78%|#######8  | 43/55 [00:00<00:00, 81.03it/s]\u001b[A\n",
      " 95%|#########4| 52/55 [00:00<00:00, 82.27it/s]\u001b[A\n",
      " 96%|█████████▌| 602/628 [00:27<00:03,  7.89it/s]A"
     ]
    },
    {
     "name": "stdout",
     "output_type": "stream",
     "text": [
      "{'ade': 0.5460404, 'fde': 1.1772506}\n",
      "\t last loss:0.000362494, eval on validation:['ade: 0.5460404', 'fde: 1.1772506'], (best ade:0.54351544 at step 28800) \n"
     ]
    },
    {
     "name": "stderr",
     "output_type": "stream",
     "text": [
      "100%|██████████| 628/628 [00:28<00:00, 22.23it/s]\n",
      "  0%|          | 1/628 [00:00<01:31,  6.88it/s]"
     ]
    },
    {
     "name": "stdout",
     "output_type": "stream",
     "text": [
      "('Epoca 77.', 'lr:', 4.158624e-06)\n"
     ]
    },
    {
     "name": "stderr",
     "output_type": "stream",
     "text": [
      " 43%|████▎     | 271/628 [00:10<00:14, 24.71it/s]\n",
      "  0%|          | 0/55 [00:00<?, ?it/s]"
     ]
    },
    {
     "name": "stdout",
     "output_type": "stream",
     "text": [
      "\tsaving model 48000...\n",
      "\tdone\n",
      "Evaluating\n"
     ]
    },
    {
     "name": "stderr",
     "output_type": "stream",
     "text": [
      "\u001b[A\n",
      " 13%|#2        | 7/55 [00:00<00:00, 63.76it/s]\u001b[A\n",
      " 25%|##5       | 14/55 [00:00<00:00, 64.27it/s]\u001b[A\n",
      " 38%|###8      | 21/55 [00:00<00:00, 64.33it/s]\u001b[A\n",
      " 51%|#####     | 28/55 [00:00<00:00, 64.84it/s]\u001b[A\n",
      " 64%|######3   | 35/55 [00:00<00:00, 65.53it/s]\u001b[A\n",
      " 76%|#######6  | 42/55 [00:00<00:00, 66.04it/s]\u001b[A\n",
      " 89%|########9 | 49/55 [00:00<00:00, 66.68it/s]\u001b[A\n",
      " 44%|████▎     | 274/628 [00:12<00:52,  6.69it/s]A"
     ]
    },
    {
     "name": "stdout",
     "output_type": "stream",
     "text": [
      "{'ade': 0.5476682, 'fde': 1.1814325}\n",
      "\t last loss:0.000435359, eval on validation:['ade: 0.5476682', 'fde: 1.1814325'], (best ade:0.54351544 at step 28800) \n"
     ]
    },
    {
     "name": "stderr",
     "output_type": "stream",
     "text": [
      " 91%|█████████ | 570/628 [00:25<00:02, 24.20it/s]\n",
      "  0%|          | 0/55 [00:00<?, ?it/s]\u001b[A"
     ]
    },
    {
     "name": "stdout",
     "output_type": "stream",
     "text": [
      "\tsaving model 48300...\n",
      "\tdone\n",
      "Evaluating\n"
     ]
    },
    {
     "name": "stderr",
     "output_type": "stream",
     "text": [
      "\n",
      " 15%|#4        | 8/55 [00:00<00:00, 76.03it/s]\u001b[A\n",
      " 31%|###       | 17/55 [00:00<00:00, 77.65it/s]\u001b[A\n",
      " 47%|####7     | 26/55 [00:00<00:00, 79.15it/s]\u001b[A\n",
      " 64%|######3   | 35/55 [00:00<00:00, 80.52it/s]\u001b[A\n",
      " 80%|########  | 44/55 [00:00<00:00, 81.65it/s]\u001b[A\n",
      " 96%|#########6| 53/55 [00:00<00:00, 82.34it/s]\u001b[A\n",
      " 91%|█████████ | 573/628 [00:26<00:07,  7.75it/s]A"
     ]
    },
    {
     "name": "stdout",
     "output_type": "stream",
     "text": [
      "{'ade': 0.5457296, 'fde': 1.1764499}\n",
      "\t last loss:0.000245838, eval on validation:['ade: 0.5457296', 'fde: 1.1764499'], (best ade:0.54351544 at step 28800) \n"
     ]
    },
    {
     "name": "stderr",
     "output_type": "stream",
     "text": [
      "100%|██████████| 628/628 [00:28<00:00, 21.94it/s]\n",
      "  0%|          | 2/628 [00:00<00:32, 19.21it/s]"
     ]
    },
    {
     "name": "stdout",
     "output_type": "stream",
     "text": [
      "('Epoca 78.', 'lr:', 4.158624e-06)\n"
     ]
    },
    {
     "name": "stderr",
     "output_type": "stream",
     "text": [
      " 39%|███▊      | 243/628 [00:10<00:15, 24.26it/s]\n",
      "  0%|          | 0/55 [00:00<?, ?it/s]\u001b[A"
     ]
    },
    {
     "name": "stdout",
     "output_type": "stream",
     "text": [
      "\tsaving model 48600...\n",
      "\tdone\n",
      "Evaluating\n"
     ]
    },
    {
     "name": "stderr",
     "output_type": "stream",
     "text": [
      "\n",
      " 16%|#6        | 9/55 [00:00<00:00, 84.29it/s]\u001b[A\n",
      " 33%|###2      | 18/55 [00:00<00:00, 83.82it/s]\u001b[A\n",
      " 49%|####9     | 27/55 [00:00<00:00, 84.61it/s]\u001b[A\n",
      " 65%|######5   | 36/55 [00:00<00:00, 84.78it/s]\u001b[A\n",
      " 82%|########1 | 45/55 [00:00<00:00, 84.73it/s]\u001b[A\n",
      " 98%|#########8| 54/55 [00:00<00:00, 84.12it/s]\u001b[A\n",
      " 39%|███▉      | 246/628 [00:11<00:48,  7.84it/s]A"
     ]
    },
    {
     "name": "stdout",
     "output_type": "stream",
     "text": [
      "{'ade': 0.54598105, 'fde': 1.1767871}\n",
      "\t last loss:0.000206607, eval on validation:['ade: 0.54598105', 'fde: 1.1767871'], (best ade:0.54351544 at step 28800) \n"
     ]
    },
    {
     "name": "stderr",
     "output_type": "stream",
     "text": [
      " 86%|████████▋ | 543/628 [00:24<00:03, 24.57it/s]\n",
      "  0%|          | 0/55 [00:00<?, ?it/s]\u001b[A"
     ]
    },
    {
     "name": "stdout",
     "output_type": "stream",
     "text": [
      "\tsaving model 48900...\n",
      "\tdone\n",
      "Evaluating\n"
     ]
    },
    {
     "name": "stderr",
     "output_type": "stream",
     "text": [
      "\n",
      " 16%|#6        | 9/55 [00:00<00:00, 85.06it/s]\u001b[A\n",
      " 33%|###2      | 18/55 [00:00<00:00, 84.36it/s]\u001b[A\n",
      " 49%|####9     | 27/55 [00:00<00:00, 85.05it/s]\u001b[A\n",
      " 65%|######5   | 36/55 [00:00<00:00, 84.60it/s]\u001b[A\n",
      " 82%|########1 | 45/55 [00:00<00:00, 84.56it/s]\u001b[A\n",
      " 98%|#########8| 54/55 [00:00<00:00, 84.78it/s]\u001b[A\n",
      " 87%|████████▋ | 546/628 [00:25<00:10,  7.83it/s]A"
     ]
    },
    {
     "name": "stdout",
     "output_type": "stream",
     "text": [
      "{'ade': 0.5450046, 'fde': 1.1741823}\n",
      "\t last loss:0.000535760, eval on validation:['ade: 0.5450046', 'fde: 1.1741823'], (best ade:0.54351544 at step 28800) \n"
     ]
    },
    {
     "name": "stderr",
     "output_type": "stream",
     "text": [
      "100%|██████████| 628/628 [00:28<00:00, 21.73it/s]\n",
      "  0%|          | 1/628 [00:00<01:24,  7.44it/s]"
     ]
    },
    {
     "name": "stdout",
     "output_type": "stream",
     "text": [
      "('Epoca 79.', 'lr:', 3.5348305e-06)\n"
     ]
    },
    {
     "name": "stderr",
     "output_type": "stream",
     "text": [
      " 34%|███▍      | 214/628 [00:08<00:17, 23.99it/s]\n",
      "  0%|          | 0/55 [00:00<?, ?it/s]\u001b[A"
     ]
    },
    {
     "name": "stdout",
     "output_type": "stream",
     "text": [
      "\tsaving model 49200...\n",
      "\tdone\n",
      "Evaluating\n"
     ]
    },
    {
     "name": "stderr",
     "output_type": "stream",
     "text": [
      "\n",
      " 16%|#6        | 9/55 [00:00<00:00, 82.29it/s]\u001b[A\n",
      " 33%|###2      | 18/55 [00:00<00:00, 82.46it/s]\u001b[A\n",
      " 49%|####9     | 27/55 [00:00<00:00, 83.14it/s]\u001b[A\n",
      " 64%|######3   | 35/55 [00:00<00:00, 82.09it/s]\u001b[A\n",
      " 80%|########  | 44/55 [00:00<00:00, 82.45it/s]\u001b[A\n",
      " 96%|#########6| 53/55 [00:00<00:00, 83.10it/s]\u001b[A\n",
      " 35%|███▍      | 217/628 [00:09<00:53,  7.70it/s]A"
     ]
    },
    {
     "name": "stdout",
     "output_type": "stream",
     "text": [
      "{'ade': 0.54520804, 'fde': 1.1747549}\n",
      "\t last loss:0.000392506, eval on validation:['ade: 0.54520804', 'fde: 1.1747549'], (best ade:0.54351544 at step 28800) \n"
     ]
    },
    {
     "name": "stderr",
     "output_type": "stream",
     "text": [
      " 82%|████████▏ | 514/628 [00:23<00:04, 24.49it/s]\n",
      "  0%|          | 0/55 [00:00<?, ?it/s]\u001b[A"
     ]
    },
    {
     "name": "stdout",
     "output_type": "stream",
     "text": [
      "\tsaving model 49500...\n",
      "\tdone\n",
      "Evaluating\n"
     ]
    },
    {
     "name": "stderr",
     "output_type": "stream",
     "text": [
      "\n",
      " 16%|#6        | 9/55 [00:00<00:00, 83.05it/s]\u001b[A\n",
      " 33%|###2      | 18/55 [00:00<00:00, 83.75it/s]\u001b[A\n",
      " 47%|####7     | 26/55 [00:00<00:00, 80.33it/s]\u001b[A\n",
      " 58%|#####8    | 32/55 [00:00<00:00, 71.87it/s]\u001b[A\n",
      " 75%|#######4  | 41/55 [00:00<00:00, 75.30it/s]\u001b[A\n",
      " 89%|########9 | 49/55 [00:00<00:00, 76.16it/s]\u001b[A\n",
      " 82%|████████▏ | 517/628 [00:24<00:14,  7.67it/s]A"
     ]
    },
    {
     "name": "stdout",
     "output_type": "stream",
     "text": [
      "{'ade': 0.5446096, 'fde': 1.1726117}\n",
      "\t last loss:0.000521193, eval on validation:['ade: 0.5446096', 'fde: 1.1726117'], (best ade:0.54351544 at step 28800) \n"
     ]
    },
    {
     "name": "stderr",
     "output_type": "stream",
     "text": [
      "100%|██████████| 628/628 [00:29<00:00, 20.77it/s]\n",
      "  0%|          | 2/628 [00:00<00:35, 17.73it/s]"
     ]
    },
    {
     "name": "stdout",
     "output_type": "stream",
     "text": [
      "('Epoca 80.', 'lr:', 3.5348305e-06)\n"
     ]
    },
    {
     "name": "stderr",
     "output_type": "stream",
     "text": [
      " 30%|██▉       | 186/628 [00:07<00:17, 24.75it/s]\n",
      "  0%|          | 0/55 [00:00<?, ?it/s]\u001b[A"
     ]
    },
    {
     "name": "stdout",
     "output_type": "stream",
     "text": [
      "\tsaving model 49800...\n",
      "\tdone\n",
      "Evaluating\n"
     ]
    },
    {
     "name": "stderr",
     "output_type": "stream",
     "text": [
      "\n",
      " 16%|#6        | 9/55 [00:00<00:00, 84.06it/s]\u001b[A\n",
      " 33%|###2      | 18/55 [00:00<00:00, 83.82it/s]\u001b[A\n",
      " 45%|####5     | 25/55 [00:00<00:00, 78.65it/s]\u001b[A\n",
      " 62%|######1   | 34/55 [00:00<00:00, 81.67it/s]\u001b[A\n",
      " 78%|#######8  | 43/55 [00:00<00:00, 83.00it/s]\u001b[A\n",
      " 96%|#########6| 53/55 [00:00<00:00, 86.35it/s]\u001b[A\n",
      " 31%|███       | 192/628 [00:09<00:42, 10.17it/s]A"
     ]
    },
    {
     "name": "stdout",
     "output_type": "stream",
     "text": [
      "{'ade': 0.5448983, 'fde': 1.1737262}\n",
      "\t last loss:0.000351661, eval on validation:['ade: 0.5448983', 'fde: 1.1737262'], (best ade:0.54351544 at step 28800) \n"
     ]
    },
    {
     "name": "stderr",
     "output_type": "stream",
     "text": [
      " 77%|███████▋  | 486/628 [00:20<00:06, 22.30it/s]"
     ]
    },
    {
     "name": "stdout",
     "output_type": "stream",
     "text": [
      "\tsaving model 50100...\n"
     ]
    },
    {
     "name": "stderr",
     "output_type": "stream",
     "text": [
      "\n",
      "  0%|          | 0/55 [00:00<?, ?it/s]\u001b[A\n",
      " 13%|#2        | 7/55 [00:00<00:00, 67.01it/s]\u001b[A\n",
      " 25%|##5       | 14/55 [00:00<00:00, 67.37it/s]\u001b[A\n",
      " 38%|###8      | 21/55 [00:00<00:00, 67.28it/s]\u001b[A\n",
      " 47%|####7     | 26/55 [00:00<00:00, 60.28it/s]\u001b[A\n",
      " 60%|######    | 33/55 [00:00<00:00, 61.71it/s]\u001b[A\n",
      " 73%|#######2  | 40/55 [00:00<00:00, 62.15it/s]\u001b[A\n",
      " 85%|########5 | 47/55 [00:00<00:00, 63.61it/s]\u001b[A\n",
      " 98%|#########8| 54/55 [00:00<00:00, 64.76it/s]\u001b[A\n",
      " 78%|███████▊  | 489/628 [00:22<00:21,  6.43it/s]A"
     ]
    },
    {
     "name": "stdout",
     "output_type": "stream",
     "text": [
      "\tdone\n",
      "Evaluating\n",
      "{'ade': 0.5461936, 'fde': 1.1773615}\n",
      "\t last loss:0.000615029, eval on validation:['ade: 0.5461936', 'fde: 1.1773615'], (best ade:0.54351544 at step 28800) \n"
     ]
    },
    {
     "name": "stderr",
     "output_type": "stream",
     "text": [
      "100%|██████████| 628/628 [00:28<00:00, 22.33it/s]\n",
      "  0%|          | 2/628 [00:00<00:32, 19.31it/s]"
     ]
    },
    {
     "name": "stdout",
     "output_type": "stream",
     "text": [
      "('Epoca 81.', 'lr:', 3.004606e-06)\n"
     ]
    },
    {
     "name": "stderr",
     "output_type": "stream",
     "text": [
      " 25%|██▌       | 158/628 [00:06<00:18, 26.05it/s]\n",
      "  0%|          | 0/55 [00:00<?, ?it/s]\u001b[A"
     ]
    },
    {
     "name": "stdout",
     "output_type": "stream",
     "text": [
      "\tsaving model 50400...\n",
      "\tdone\n",
      "Evaluating\n"
     ]
    },
    {
     "name": "stderr",
     "output_type": "stream",
     "text": [
      "\n",
      " 18%|#8        | 10/55 [00:00<00:00, 93.97it/s]\u001b[A\n",
      " 35%|###4      | 19/55 [00:00<00:00, 92.32it/s]\u001b[A\n",
      " 53%|#####2    | 29/55 [00:00<00:00, 92.04it/s]\u001b[A\n",
      " 69%|######9   | 38/55 [00:00<00:00, 88.51it/s]\u001b[A\n",
      " 87%|########7 | 48/55 [00:00<00:00, 89.25it/s]\u001b[A\n",
      " 26%|██▌       | 164/628 [00:07<00:43, 10.67it/s]A"
     ]
    },
    {
     "name": "stdout",
     "output_type": "stream",
     "text": [
      "{'ade': 0.5447046, 'fde': 1.1730907}\n",
      "\t last loss:0.000314122, eval on validation:['ade: 0.5447046', 'fde: 1.1730907'], (best ade:0.54351544 at step 28800) \n"
     ]
    },
    {
     "name": "stderr",
     "output_type": "stream",
     "text": [
      " 73%|███████▎  | 458/628 [00:19<00:08, 21.12it/s]"
     ]
    },
    {
     "name": "stdout",
     "output_type": "stream",
     "text": [
      "\tsaving model 50700...\n"
     ]
    },
    {
     "name": "stderr",
     "output_type": "stream",
     "text": [
      "\n",
      "  0%|          | 0/55 [00:00<?, ?it/s]\u001b[A\n",
      " 15%|#4        | 8/55 [00:00<00:00, 75.96it/s]\u001b[A\n",
      " 29%|##9       | 16/55 [00:00<00:00, 75.37it/s]\u001b[A\n",
      " 44%|####3     | 24/55 [00:00<00:00, 75.80it/s]\u001b[A\n",
      " 58%|#####8    | 32/55 [00:00<00:00, 75.58it/s]\u001b[A\n",
      " 73%|#######2  | 40/55 [00:00<00:00, 75.35it/s]\u001b[A\n",
      " 87%|########7 | 48/55 [00:00<00:00, 75.01it/s]\u001b[A\n",
      " 73%|███████▎  | 461/628 [00:21<00:26,  6.41it/s]A"
     ]
    },
    {
     "name": "stdout",
     "output_type": "stream",
     "text": [
      "\tdone\n",
      "Evaluating\n",
      "{'ade': 0.54413426, 'fde': 1.1716166}\n",
      "\t last loss:0.000322244, eval on validation:['ade: 0.54413426', 'fde: 1.1716166'], (best ade:0.54351544 at step 28800) \n"
     ]
    },
    {
     "name": "stderr",
     "output_type": "stream",
     "text": [
      "100%|██████████| 628/628 [00:28<00:00, 22.23it/s]\n",
      "  0%|          | 1/628 [00:00<01:10,  8.87it/s]"
     ]
    },
    {
     "name": "stdout",
     "output_type": "stream",
     "text": [
      "('Epoca 82.', 'lr:', 3.004606e-06)\n"
     ]
    },
    {
     "name": "stderr",
     "output_type": "stream",
     "text": [
      " 21%|██        | 130/628 [00:05<00:23, 21.07it/s]"
     ]
    },
    {
     "name": "stdout",
     "output_type": "stream",
     "text": [
      "\tsaving model 51000...\n"
     ]
    },
    {
     "name": "stderr",
     "output_type": "stream",
     "text": [
      "\n",
      "  0%|          | 0/55 [00:00<?, ?it/s]\u001b[A\n",
      " 13%|#2        | 7/55 [00:00<00:00, 66.82it/s]\u001b[A\n",
      " 25%|##5       | 14/55 [00:00<00:00, 66.61it/s]\u001b[A\n",
      " 38%|###8      | 21/55 [00:00<00:00, 65.64it/s]\u001b[A\n",
      " 51%|#####     | 28/55 [00:00<00:00, 66.07it/s]\u001b[A\n",
      " 64%|######3   | 35/55 [00:00<00:00, 66.30it/s]\u001b[A\n",
      " 76%|#######6  | 42/55 [00:00<00:00, 67.11it/s]\u001b[A\n",
      " 89%|########9 | 49/55 [00:00<00:00, 66.51it/s]\u001b[A\n",
      " 21%|██        | 133/628 [00:06<01:18,  6.32it/s]A"
     ]
    },
    {
     "name": "stdout",
     "output_type": "stream",
     "text": [
      "\tdone\n",
      "Evaluating\n",
      "{'ade': 0.5462713, 'fde': 1.1777502}\n",
      "\t last loss:0.000336316, eval on validation:['ade: 0.5462713', 'fde: 1.1777502'], (best ade:0.54351544 at step 28800) \n"
     ]
    },
    {
     "name": "stderr",
     "output_type": "stream",
     "text": [
      " 68%|██████▊   | 430/628 [00:19<00:08, 24.72it/s]\n",
      "  0%|          | 0/55 [00:00<?, ?it/s]\u001b[A"
     ]
    },
    {
     "name": "stdout",
     "output_type": "stream",
     "text": [
      "\tsaving model 51300...\n",
      "\tdone\n",
      "Evaluating\n"
     ]
    },
    {
     "name": "stderr",
     "output_type": "stream",
     "text": [
      "\n",
      " 15%|#4        | 8/55 [00:00<00:00, 75.79it/s]\u001b[A\n",
      " 29%|##9       | 16/55 [00:00<00:00, 76.68it/s]\u001b[A\n",
      " 47%|####7     | 26/55 [00:00<00:00, 80.70it/s]\u001b[A\n",
      " 65%|######5   | 36/55 [00:00<00:00, 84.27it/s]\u001b[A\n",
      " 84%|########3 | 46/55 [00:00<00:00, 86.51it/s]\u001b[A\n",
      " 69%|██████▉   | 436/628 [00:20<00:18, 10.32it/s]A"
     ]
    },
    {
     "name": "stdout",
     "output_type": "stream",
     "text": [
      "{'ade': 0.5457843, 'fde': 1.1765499}\n",
      "\t last loss:0.000345881, eval on validation:['ade: 0.5457843', 'fde: 1.1765499'], (best ade:0.54351544 at step 28800) \n"
     ]
    },
    {
     "name": "stderr",
     "output_type": "stream",
     "text": [
      "100%|██████████| 628/628 [00:28<00:00, 24.63it/s]\n",
      "  0%|          | 1/628 [00:00<01:15,  8.29it/s]"
     ]
    },
    {
     "name": "stdout",
     "output_type": "stream",
     "text": [
      "('Epoca 83.', 'lr:', 2.5539152e-06)\n"
     ]
    },
    {
     "name": "stderr",
     "output_type": "stream",
     "text": [
      " 16%|█▋        | 103/628 [00:04<00:24, 21.79it/s]"
     ]
    },
    {
     "name": "stdout",
     "output_type": "stream",
     "text": [
      "\tsaving model 51600...\n"
     ]
    },
    {
     "name": "stderr",
     "output_type": "stream",
     "text": [
      "\n",
      "  0%|          | 0/55 [00:00<?, ?it/s]\u001b[A\n",
      " 13%|#2        | 7/55 [00:00<00:00, 60.37it/s]\u001b[A"
     ]
    },
    {
     "name": "stdout",
     "output_type": "stream",
     "text": [
      "\tdone\n",
      "Evaluating\n"
     ]
    },
    {
     "name": "stderr",
     "output_type": "stream",
     "text": [
      "\n",
      " 25%|##5       | 14/55 [00:00<00:00, 61.65it/s]\u001b[A\n",
      " 38%|###8      | 21/55 [00:00<00:00, 62.76it/s]\u001b[A\n",
      " 51%|#####     | 28/55 [00:00<00:00, 63.62it/s]\u001b[A\n",
      " 64%|######3   | 35/55 [00:00<00:00, 64.12it/s]\u001b[A\n",
      " 76%|#######6  | 42/55 [00:00<00:00, 64.10it/s]\u001b[A\n",
      " 89%|########9 | 49/55 [00:00<00:00, 64.93it/s]\u001b[A\n",
      " 17%|█▋        | 106/628 [00:05<01:22,  6.36it/s]A"
     ]
    },
    {
     "name": "stdout",
     "output_type": "stream",
     "text": [
      "{'ade': 0.5452869, 'fde': 1.1755593}\n",
      "\t last loss:0.000623082, eval on validation:['ade: 0.5452869', 'fde: 1.1755593'], (best ade:0.54351544 at step 28800) \n"
     ]
    },
    {
     "name": "stderr",
     "output_type": "stream",
     "text": [
      " 64%|██████▍   | 401/628 [00:18<00:09, 25.11it/s]\n",
      "  0%|          | 0/55 [00:00<?, ?it/s]\u001b[A"
     ]
    },
    {
     "name": "stdout",
     "output_type": "stream",
     "text": [
      "\tsaving model 51900...\n",
      "\tdone\n",
      "Evaluating\n"
     ]
    },
    {
     "name": "stderr",
     "output_type": "stream",
     "text": [
      "\n",
      " 13%|#2        | 7/55 [00:00<00:00, 69.66it/s]\u001b[A\n",
      " 27%|##7       | 15/55 [00:00<00:00, 71.84it/s]\u001b[A\n",
      " 44%|####3     | 24/55 [00:00<00:00, 74.46it/s]\u001b[A\n",
      " 60%|######    | 33/55 [00:00<00:00, 77.34it/s]\u001b[A\n",
      " 73%|#######2  | 40/55 [00:00<00:00, 73.51it/s]\u001b[A\n",
      " 85%|########5 | 47/55 [00:00<00:00, 71.94it/s]\u001b[A\n",
      " 98%|#########8| 54/55 [00:00<00:00, 70.65it/s]\u001b[A\n",
      " 65%|██████▍   | 407/628 [00:19<00:24,  9.15it/s]A"
     ]
    },
    {
     "name": "stdout",
     "output_type": "stream",
     "text": [
      "{'ade': 0.54538685, 'fde': 1.1758235}\n",
      "\t last loss:0.000756283, eval on validation:['ade: 0.54538685', 'fde: 1.1758235'], (best ade:0.54351544 at step 28800) \n"
     ]
    },
    {
     "name": "stderr",
     "output_type": "stream",
     "text": [
      "100%|██████████| 628/628 [00:29<00:00, 21.09it/s]\n",
      "  0%|          | 1/628 [00:00<01:17,  8.09it/s]"
     ]
    },
    {
     "name": "stdout",
     "output_type": "stream",
     "text": [
      "('Epoca 84.', 'lr:', 2.5539152e-06)\n"
     ]
    },
    {
     "name": "stderr",
     "output_type": "stream",
     "text": [
      " 12%|█▏        | 73/628 [00:03<00:21, 25.39it/s]\n",
      "  0%|          | 0/55 [00:00<?, ?it/s]\u001b[A"
     ]
    },
    {
     "name": "stdout",
     "output_type": "stream",
     "text": [
      "\tsaving model 52200...\n",
      "\tdone\n",
      "Evaluating\n"
     ]
    },
    {
     "name": "stderr",
     "output_type": "stream",
     "text": [
      "\n",
      " 18%|#8        | 10/55 [00:00<00:00, 92.04it/s]\u001b[A\n",
      " 36%|###6      | 20/55 [00:00<00:00, 92.73it/s]\u001b[A\n",
      " 55%|#####4    | 30/55 [00:00<00:00, 93.58it/s]\u001b[A\n",
      " 73%|#######2  | 40/55 [00:00<00:00, 93.31it/s]\u001b[A\n",
      " 87%|########7 | 48/55 [00:00<00:00, 88.45it/s]\u001b[A\n",
      " 13%|█▎        | 79/628 [00:04<00:51, 10.56it/s][A"
     ]
    },
    {
     "name": "stdout",
     "output_type": "stream",
     "text": [
      "{'ade': 0.54492164, 'fde': 1.1742604}\n",
      "\t last loss:0.000339327, eval on validation:['ade: 0.54492164', 'fde: 1.1742604'], (best ade:0.54351544 at step 28800) \n"
     ]
    },
    {
     "name": "stderr",
     "output_type": "stream",
     "text": [
      " 59%|█████▉    | 373/628 [00:16<00:12, 20.89it/s]"
     ]
    },
    {
     "name": "stdout",
     "output_type": "stream",
     "text": [
      "\tsaving model 52500...\n"
     ]
    },
    {
     "name": "stderr",
     "output_type": "stream",
     "text": [
      "\n",
      "  0%|          | 0/55 [00:00<?, ?it/s]\u001b[A\n",
      " 13%|#2        | 7/55 [00:00<00:00, 67.45it/s]\u001b[A"
     ]
    },
    {
     "name": "stdout",
     "output_type": "stream",
     "text": [
      "\tdone\n",
      "Evaluating\n"
     ]
    },
    {
     "name": "stderr",
     "output_type": "stream",
     "text": [
      "\n",
      " 25%|##5       | 14/55 [00:00<00:00, 65.08it/s]\u001b[A\n",
      " 36%|###6      | 20/55 [00:00<00:00, 61.82it/s]\u001b[A\n",
      " 47%|####7     | 26/55 [00:00<00:00, 59.62it/s]\u001b[A\n",
      " 60%|######    | 33/55 [00:00<00:00, 61.85it/s]\u001b[A\n",
      " 73%|#######2  | 40/55 [00:00<00:00, 62.86it/s]\u001b[A\n",
      " 85%|########5 | 47/55 [00:00<00:00, 63.81it/s]\u001b[A\n",
      " 98%|#########8| 54/55 [00:00<00:00, 64.23it/s]\u001b[A\n",
      " 60%|██████    | 379/628 [00:17<00:31,  7.86it/s]A"
     ]
    },
    {
     "name": "stdout",
     "output_type": "stream",
     "text": [
      "{'ade': 0.54562396, 'fde': 1.1764159}\n",
      "\t last loss:0.000432616, eval on validation:['ade: 0.54562396', 'fde: 1.1764159'], (best ade:0.54351544 at step 28800) \n"
     ]
    },
    {
     "name": "stderr",
     "output_type": "stream",
     "text": [
      "100%|██████████| 628/628 [00:28<00:00, 25.71it/s]\n",
      "  0%|          | 3/628 [00:00<00:25, 24.15it/s]"
     ]
    },
    {
     "name": "stdout",
     "output_type": "stream",
     "text": [
      "('Epoca 85.', 'lr:', 2.170828e-06)\n"
     ]
    },
    {
     "name": "stderr",
     "output_type": "stream",
     "text": [
      "  7%|▋         | 47/628 [00:02<00:23, 24.26it/s]\n",
      "  0%|          | 0/55 [00:00<?, ?it/s]\u001b[A"
     ]
    },
    {
     "name": "stdout",
     "output_type": "stream",
     "text": [
      "\tsaving model 52800...\n",
      "\tdone\n",
      "Evaluating\n"
     ]
    },
    {
     "name": "stderr",
     "output_type": "stream",
     "text": [
      "\n",
      " 15%|#4        | 8/55 [00:00<00:00, 79.49it/s]\u001b[A\n",
      " 31%|###       | 17/55 [00:00<00:00, 81.25it/s]\u001b[A\n",
      " 47%|####7     | 26/55 [00:00<00:00, 82.40it/s]\u001b[A\n",
      " 64%|######3   | 35/55 [00:00<00:00, 82.81it/s]\u001b[A\n",
      " 78%|#######8  | 43/55 [00:00<00:00, 80.38it/s]\u001b[A\n",
      " 93%|#########2| 51/55 [00:00<00:00, 79.58it/s]\u001b[A\n",
      "  8%|▊         | 50/628 [00:03<01:13,  7.82it/s][A"
     ]
    },
    {
     "name": "stdout",
     "output_type": "stream",
     "text": [
      "{'ade': 0.5460755, 'fde': 1.1774839}\n",
      "\t last loss:0.000311253, eval on validation:['ade: 0.5460755', 'fde: 1.1774839'], (best ade:0.54351544 at step 28800) \n"
     ]
    },
    {
     "name": "stderr",
     "output_type": "stream",
     "text": [
      " 55%|█████▌    | 347/628 [00:15<00:12, 21.86it/s]\n",
      "  0%|          | 0/55 [00:00<?, ?it/s]\u001b[A"
     ]
    },
    {
     "name": "stdout",
     "output_type": "stream",
     "text": [
      "\tsaving model 53100...\n",
      "\tdone\n",
      "Evaluating\n"
     ]
    },
    {
     "name": "stderr",
     "output_type": "stream",
     "text": [
      "\n",
      " 15%|#4        | 8/55 [00:00<00:00, 72.69it/s]\u001b[A\n",
      " 29%|##9       | 16/55 [00:00<00:00, 73.91it/s]\u001b[A\n",
      " 44%|####3     | 24/55 [00:00<00:00, 74.62it/s]\u001b[A\n",
      " 58%|#####8    | 32/55 [00:00<00:00, 75.41it/s]\u001b[A\n",
      " 73%|#######2  | 40/55 [00:00<00:00, 75.29it/s]\u001b[A\n",
      " 85%|########5 | 47/55 [00:00<00:00, 70.83it/s]\u001b[A\n",
      " 98%|#########8| 54/55 [00:00<00:00, 70.17it/s]\u001b[A\n",
      " 56%|█████▌    | 350/628 [00:17<00:39,  7.01it/s]A"
     ]
    },
    {
     "name": "stdout",
     "output_type": "stream",
     "text": [
      "{'ade': 0.54411507, 'fde': 1.1715841}\n",
      "\t last loss:0.000488435, eval on validation:['ade: 0.54411507', 'fde: 1.1715841'], (best ade:0.54351544 at step 28800) \n"
     ]
    },
    {
     "name": "stderr",
     "output_type": "stream",
     "text": [
      "100%|██████████| 628/628 [00:29<00:00, 19.52it/s]\n",
      "  0%|          | 1/628 [00:00<01:10,  8.88it/s]"
     ]
    },
    {
     "name": "stdout",
     "output_type": "stream",
     "text": [
      "('Epoca 86.', 'lr:', 2.170828e-06)\n"
     ]
    },
    {
     "name": "stderr",
     "output_type": "stream",
     "text": [
      "  3%|▎         | 17/628 [00:00<00:35, 17.31it/s]\n",
      "  0%|          | 0/55 [00:00<?, ?it/s]\u001b[A"
     ]
    },
    {
     "name": "stdout",
     "output_type": "stream",
     "text": [
      "\tsaving model 53400...\n",
      "\tdone\n",
      "Evaluating\n"
     ]
    },
    {
     "name": "stderr",
     "output_type": "stream",
     "text": [
      "\n",
      " 15%|#4        | 8/55 [00:00<00:00, 73.74it/s]\u001b[A\n",
      " 29%|##9       | 16/55 [00:00<00:00, 74.03it/s]\u001b[A\n",
      " 44%|####3     | 24/55 [00:00<00:00, 74.69it/s]\u001b[A\n",
      " 56%|#####6    | 31/55 [00:00<00:00, 71.88it/s]\u001b[A\n",
      " 69%|######9   | 38/55 [00:00<00:00, 69.13it/s]\u001b[A\n",
      " 84%|########3 | 46/55 [00:00<00:00, 70.51it/s]\u001b[A\n",
      " 98%|#########8| 54/55 [00:00<00:00, 71.36it/s]\u001b[A\n",
      "  4%|▎         | 23/628 [00:02<01:12,  8.40it/s][A"
     ]
    },
    {
     "name": "stdout",
     "output_type": "stream",
     "text": [
      "{'ade': 0.54471046, 'fde': 1.1736776}\n",
      "\t last loss:0.000249460, eval on validation:['ade: 0.54471046', 'fde: 1.1736776'], (best ade:0.54351544 at step 28800) \n"
     ]
    },
    {
     "name": "stderr",
     "output_type": "stream",
     "text": [
      " 50%|█████     | 317/628 [00:14<00:11, 26.62it/s]\n",
      "  0%|          | 0/55 [00:00<?, ?it/s]\u001b[A"
     ]
    },
    {
     "name": "stdout",
     "output_type": "stream",
     "text": [
      "\tsaving model 53700...\n",
      "\tdone\n",
      "Evaluating\n"
     ]
    },
    {
     "name": "stderr",
     "output_type": "stream",
     "text": [
      "\n",
      " 18%|#8        | 10/55 [00:00<00:00, 89.18it/s]\u001b[A\n",
      " 33%|###2      | 18/55 [00:00<00:00, 85.64it/s]\u001b[A\n",
      " 51%|#####     | 28/55 [00:00<00:00, 88.24it/s]\u001b[A\n",
      " 69%|######9   | 38/55 [00:00<00:00, 89.47it/s]\u001b[A\n",
      " 87%|########7 | 48/55 [00:00<00:00, 91.00it/s]\u001b[A\n",
      " 51%|█████▏    | 323/628 [00:15<00:28, 10.78it/s]A"
     ]
    },
    {
     "name": "stdout",
     "output_type": "stream",
     "text": [
      "{'ade': 0.5449406, 'fde': 1.1739563}\n",
      "\t last loss:0.000420181, eval on validation:['ade: 0.5449406', 'fde: 1.1739563'], (best ade:0.54351544 at step 28800) \n"
     ]
    },
    {
     "name": "stderr",
     "output_type": "stream",
     "text": [
      " 98%|█████████▊| 617/628 [00:27<00:00, 21.15it/s]"
     ]
    },
    {
     "name": "stdout",
     "output_type": "stream",
     "text": [
      "\tsaving model 54000...\n"
     ]
    },
    {
     "name": "stderr",
     "output_type": "stream",
     "text": [
      "\n",
      "  0%|          | 0/55 [00:00<?, ?it/s]\u001b[A\n",
      " 13%|#2        | 7/55 [00:00<00:00, 64.11it/s]\u001b[A\n",
      " 25%|##5       | 14/55 [00:00<00:00, 64.02it/s]\u001b[A\n",
      " 38%|###8      | 21/55 [00:00<00:00, 64.94it/s]\u001b[A\n",
      " 51%|#####     | 28/55 [00:00<00:00, 65.28it/s]\u001b[A\n",
      " 64%|######3   | 35/55 [00:00<00:00, 64.99it/s]\u001b[A\n",
      " 76%|#######6  | 42/55 [00:00<00:00, 65.48it/s]\u001b[A\n",
      " 87%|########7 | 48/55 [00:00<00:00, 61.44it/s]\u001b[A\n",
      " 98%|#########8| 54/55 [00:00<00:00, 60.97it/s]\u001b[A\n",
      " 99%|█████████▉| 623/628 [00:28<00:00,  7.85it/s]A"
     ]
    },
    {
     "name": "stdout",
     "output_type": "stream",
     "text": [
      "\tdone\n",
      "Evaluating\n",
      "{'ade': 0.54542345, 'fde': 1.1758459}\n",
      "\t last loss:0.000276374, eval on validation:['ade: 0.54542345', 'fde: 1.1758459'], (best ade:0.54351544 at step 28800) \n"
     ]
    },
    {
     "name": "stderr",
     "output_type": "stream",
     "text": [
      "100%|██████████| 628/628 [00:29<00:00, 21.48it/s]\n",
      "  0%|          | 2/628 [00:00<00:43, 14.33it/s]"
     ]
    },
    {
     "name": "stdout",
     "output_type": "stream",
     "text": [
      "('Epoca 87.', 'lr:', 1.8452038e-06)\n"
     ]
    },
    {
     "name": "stderr",
     "output_type": "stream",
     "text": [
      " 46%|████▌     | 289/628 [00:11<00:13, 25.91it/s]\n",
      "  0%|          | 0/55 [00:00<?, ?it/s]\u001b[A"
     ]
    },
    {
     "name": "stdout",
     "output_type": "stream",
     "text": [
      "\tsaving model 54300...\n",
      "\tdone\n",
      "Evaluating\n"
     ]
    },
    {
     "name": "stderr",
     "output_type": "stream",
     "text": [
      "\n",
      " 16%|#6        | 9/55 [00:00<00:00, 82.49it/s]\u001b[A\n",
      " 33%|###2      | 18/55 [00:00<00:00, 83.47it/s]\u001b[A\n",
      " 47%|####7     | 26/55 [00:00<00:00, 80.46it/s]\u001b[A\n",
      " 62%|######1   | 34/55 [00:00<00:00, 78.93it/s]\u001b[A\n",
      " 78%|#######8  | 43/55 [00:00<00:00, 79.75it/s]\u001b[A\n",
      " 95%|#########4| 52/55 [00:00<00:00, 81.38it/s]\u001b[A\n",
      " 47%|████▋     | 295/628 [00:12<00:33,  9.89it/s]A"
     ]
    },
    {
     "name": "stdout",
     "output_type": "stream",
     "text": [
      "{'ade': 0.5456335, 'fde': 1.1764367}\n",
      "\t last loss:0.000392286, eval on validation:['ade: 0.5456335', 'fde: 1.1764367'], (best ade:0.54351544 at step 28800) \n"
     ]
    },
    {
     "name": "stderr",
     "output_type": "stream",
     "text": [
      " 94%|█████████▍| 591/628 [00:26<00:01, 23.02it/s]"
     ]
    },
    {
     "name": "stdout",
     "output_type": "stream",
     "text": [
      "\tsaving model 54600...\n"
     ]
    },
    {
     "name": "stderr",
     "output_type": "stream",
     "text": [
      "\n",
      "  0%|          | 0/55 [00:00<?, ?it/s]\u001b[A\n",
      " 13%|#2        | 7/55 [00:00<00:00, 67.83it/s]\u001b[A"
     ]
    },
    {
     "name": "stdout",
     "output_type": "stream",
     "text": [
      "\tdone\n",
      "Evaluating\n"
     ]
    },
    {
     "name": "stderr",
     "output_type": "stream",
     "text": [
      "\n",
      " 27%|##7       | 15/55 [00:00<00:00, 69.36it/s]\u001b[A\n",
      " 42%|####1     | 23/55 [00:00<00:00, 70.90it/s]\u001b[A\n",
      " 56%|#####6    | 31/55 [00:00<00:00, 72.74it/s]\u001b[A\n",
      " 71%|#######   | 39/55 [00:00<00:00, 74.27it/s]\u001b[A\n",
      " 85%|########5 | 47/55 [00:00<00:00, 74.57it/s]\u001b[A\n",
      " 95%|█████████▍| 594/628 [00:27<00:04,  7.16it/s]A"
     ]
    },
    {
     "name": "stdout",
     "output_type": "stream",
     "text": [
      "{'ade': 0.5452971, 'fde': 1.1749322}\n",
      "\t last loss:0.000619736, eval on validation:['ade: 0.5452971', 'fde: 1.1749322'], (best ade:0.54351544 at step 28800) \n"
     ]
    },
    {
     "name": "stderr",
     "output_type": "stream",
     "text": [
      "100%|██████████| 628/628 [00:28<00:00, 23.48it/s]\n",
      "  0%|          | 2/628 [00:00<00:42, 14.76it/s]"
     ]
    },
    {
     "name": "stdout",
     "output_type": "stream",
     "text": [
      "('Epoca 88.', 'lr:', 1.8452038e-06)\n"
     ]
    },
    {
     "name": "stderr",
     "output_type": "stream",
     "text": [
      " 42%|████▏     | 263/628 [00:11<00:16, 22.59it/s]"
     ]
    },
    {
     "name": "stdout",
     "output_type": "stream",
     "text": [
      "\tsaving model 54900...\n"
     ]
    },
    {
     "name": "stderr",
     "output_type": "stream",
     "text": [
      "\n",
      "  0%|          | 0/55 [00:00<?, ?it/s]\u001b[A\n",
      " 15%|#4        | 8/55 [00:00<00:00, 78.14it/s]\u001b[A"
     ]
    },
    {
     "name": "stdout",
     "output_type": "stream",
     "text": [
      "\tdone\n",
      "Evaluating\n"
     ]
    },
    {
     "name": "stderr",
     "output_type": "stream",
     "text": [
      "\n",
      " 29%|##9       | 16/55 [00:00<00:00, 76.95it/s]\u001b[A\n",
      " 42%|####1     | 23/55 [00:00<00:00, 74.12it/s]\u001b[A\n",
      " 56%|#####6    | 31/55 [00:00<00:00, 74.79it/s]\u001b[A\n",
      " 71%|#######   | 39/55 [00:00<00:00, 75.40it/s]\u001b[A\n",
      " 85%|########5 | 47/55 [00:00<00:00, 74.57it/s]\u001b[A\n",
      " 42%|████▏     | 266/628 [00:12<00:50,  7.18it/s]A"
     ]
    },
    {
     "name": "stdout",
     "output_type": "stream",
     "text": [
      "{'ade': 0.54525983, 'fde': 1.1748092}\n",
      "\t last loss:0.000298531, eval on validation:['ade: 0.54525983', 'fde: 1.1748092'], (best ade:0.54351544 at step 28800) \n"
     ]
    },
    {
     "name": "stderr",
     "output_type": "stream",
     "text": [
      " 89%|████████▉ | 562/628 [00:24<00:02, 25.08it/s]\n",
      "  0%|          | 0/55 [00:00<?, ?it/s]\u001b[A"
     ]
    },
    {
     "name": "stdout",
     "output_type": "stream",
     "text": [
      "\tsaving model 55200...\n",
      "\tdone\n",
      "Evaluating\n"
     ]
    },
    {
     "name": "stderr",
     "output_type": "stream",
     "text": [
      "\n",
      " 15%|#4        | 8/55 [00:00<00:00, 79.42it/s]\u001b[A\n",
      " 31%|###       | 17/55 [00:00<00:00, 80.40it/s]\u001b[A\n",
      " 47%|####7     | 26/55 [00:00<00:00, 81.05it/s]\u001b[A\n",
      " 64%|######3   | 35/55 [00:00<00:00, 82.17it/s]\u001b[A\n",
      " 80%|########  | 44/55 [00:00<00:00, 82.01it/s]\u001b[A\n",
      " 96%|#########6| 53/55 [00:00<00:00, 83.30it/s]\u001b[A\n",
      " 90%|████████▉ | 565/628 [00:25<00:08,  7.84it/s]A"
     ]
    },
    {
     "name": "stdout",
     "output_type": "stream",
     "text": [
      "{'ade': 0.5453416, 'fde': 1.1754444}\n",
      "\t last loss:0.000463541, eval on validation:['ade: 0.5453416', 'fde: 1.1754444'], (best ade:0.54351544 at step 28800) \n"
     ]
    },
    {
     "name": "stderr",
     "output_type": "stream",
     "text": [
      "100%|██████████| 628/628 [00:28<00:00, 22.31it/s]\n",
      "  0%|          | 1/628 [00:00<01:04,  9.76it/s]"
     ]
    },
    {
     "name": "stdout",
     "output_type": "stream",
     "text": [
      "('Epoca 89.', 'lr:', 1.5684233e-06)\n"
     ]
    },
    {
     "name": "stderr",
     "output_type": "stream",
     "text": [
      " 37%|███▋      | 234/628 [00:10<00:18, 21.73it/s]\n",
      "  0%|          | 0/55 [00:00<?, ?it/s]\u001b[A"
     ]
    },
    {
     "name": "stdout",
     "output_type": "stream",
     "text": [
      "\tsaving model 55500...\n",
      "\tdone\n",
      "Evaluating\n"
     ]
    },
    {
     "name": "stderr",
     "output_type": "stream",
     "text": [
      "\n",
      " 15%|#4        | 8/55 [00:00<00:00, 77.86it/s]\u001b[A\n",
      " 31%|###       | 17/55 [00:00<00:00, 79.77it/s]\u001b[A\n",
      " 47%|####7     | 26/55 [00:00<00:00, 81.27it/s]\u001b[A\n",
      " 64%|######3   | 35/55 [00:00<00:00, 81.82it/s]\u001b[A\n",
      " 80%|########  | 44/55 [00:00<00:00, 83.07it/s]\u001b[A\n",
      " 96%|#########6| 53/55 [00:00<00:00, 82.13it/s]\u001b[A\n",
      " 38%|███▊      | 237/628 [00:11<00:52,  7.43it/s]A"
     ]
    },
    {
     "name": "stdout",
     "output_type": "stream",
     "text": [
      "{'ade': 0.54582256, 'fde': 1.176974}\n",
      "\t last loss:0.000356023, eval on validation:['ade: 0.54582256', 'fde: 1.176974'], (best ade:0.54351544 at step 28800) \n"
     ]
    },
    {
     "name": "stderr",
     "output_type": "stream",
     "text": [
      " 85%|████████▌ | 534/628 [00:24<00:04, 22.61it/s]\n",
      "  0%|          | 0/55 [00:00<?, ?it/s]\u001b[A"
     ]
    },
    {
     "name": "stdout",
     "output_type": "stream",
     "text": [
      "\tsaving model 55800...\n",
      "\tdone\n",
      "Evaluating\n"
     ]
    },
    {
     "name": "stderr",
     "output_type": "stream",
     "text": [
      "\n",
      " 15%|#4        | 8/55 [00:00<00:00, 73.60it/s]\u001b[A\n",
      " 29%|##9       | 16/55 [00:00<00:00, 73.59it/s]\u001b[A\n",
      " 44%|####3     | 24/55 [00:00<00:00, 74.19it/s]\u001b[A\n",
      " 58%|#####8    | 32/55 [00:00<00:00, 74.96it/s]\u001b[A\n",
      " 73%|#######2  | 40/55 [00:00<00:00, 74.96it/s]\u001b[A\n",
      " 87%|########7 | 48/55 [00:00<00:00, 75.42it/s]\u001b[A\n",
      " 86%|████████▌ | 537/628 [00:25<00:12,  7.03it/s]A"
     ]
    },
    {
     "name": "stdout",
     "output_type": "stream",
     "text": [
      "{'ade': 0.54546887, 'fde': 1.1758753}\n",
      "\t last loss:0.000408029, eval on validation:['ade: 0.54546887', 'fde: 1.1758753'], (best ade:0.54351544 at step 28800) \n"
     ]
    },
    {
     "name": "stderr",
     "output_type": "stream",
     "text": [
      "100%|██████████| 628/628 [00:29<00:00, 21.34it/s]\n",
      "  0%|          | 1/628 [00:00<01:05,  9.62it/s]"
     ]
    },
    {
     "name": "stdout",
     "output_type": "stream",
     "text": [
      "('Epoca 90.', 'lr:', 1.5684233e-06)\n"
     ]
    },
    {
     "name": "stderr",
     "output_type": "stream",
     "text": [
      " 33%|███▎      | 207/628 [00:08<00:17, 24.23it/s]\n",
      "  0%|          | 0/55 [00:00<?, ?it/s]\u001b[A"
     ]
    },
    {
     "name": "stdout",
     "output_type": "stream",
     "text": [
      "\tsaving model 56100...\n",
      "\tdone\n",
      "Evaluating\n"
     ]
    },
    {
     "name": "stderr",
     "output_type": "stream",
     "text": [
      "\n",
      " 16%|#6        | 9/55 [00:00<00:00, 82.77it/s]\u001b[A\n",
      " 33%|###2      | 18/55 [00:00<00:00, 82.79it/s]\u001b[A\n",
      " 49%|####9     | 27/55 [00:00<00:00, 83.54it/s]\u001b[A\n",
      " 64%|######3   | 35/55 [00:00<00:00, 82.38it/s]\u001b[A\n",
      " 76%|#######6  | 42/55 [00:00<00:00, 74.99it/s]\u001b[A\n",
      " 93%|#########2| 51/55 [00:00<00:00, 77.27it/s]\u001b[A\n",
      " 33%|███▎      | 210/628 [00:09<00:54,  7.72it/s]A"
     ]
    },
    {
     "name": "stdout",
     "output_type": "stream",
     "text": [
      "{'ade': 0.54545355, 'fde': 1.1757184}\n",
      "\t last loss:0.000359622, eval on validation:['ade: 0.54545355', 'fde: 1.1757184'], (best ade:0.54351544 at step 28800) \n"
     ]
    },
    {
     "name": "stderr",
     "output_type": "stream",
     "text": [
      " 80%|████████  | 505/628 [00:22<00:05, 24.28it/s]\n",
      "  0%|          | 0/55 [00:00<?, ?it/s]\u001b[A"
     ]
    },
    {
     "name": "stdout",
     "output_type": "stream",
     "text": [
      "\tsaving model 56400...\n",
      "\tdone\n",
      "Evaluating\n"
     ]
    },
    {
     "name": "stderr",
     "output_type": "stream",
     "text": [
      "\n",
      " 15%|#4        | 8/55 [00:00<00:00, 79.61it/s]\u001b[A\n",
      " 31%|###       | 17/55 [00:00<00:00, 81.42it/s]\u001b[A\n",
      " 47%|####7     | 26/55 [00:00<00:00, 82.63it/s]\u001b[A\n",
      " 60%|######    | 33/55 [00:00<00:00, 75.86it/s]\u001b[A\n",
      " 76%|#######6  | 42/55 [00:00<00:00, 77.52it/s]\u001b[A\n",
      " 93%|#########2| 51/55 [00:00<00:00, 79.72it/s]\u001b[A\n",
      " 81%|████████▏ | 511/628 [00:23<00:12,  9.74it/s]A"
     ]
    },
    {
     "name": "stdout",
     "output_type": "stream",
     "text": [
      "{'ade': 0.5450761, 'fde': 1.1748935}\n",
      "\t last loss:0.000581645, eval on validation:['ade: 0.5450761', 'fde: 1.1748935'], (best ade:0.54351544 at step 28800) \n"
     ]
    },
    {
     "name": "stderr",
     "output_type": "stream",
     "text": [
      "100%|██████████| 628/628 [00:28<00:00, 24.07it/s]\n",
      "  0%|          | 3/628 [00:00<00:25, 24.45it/s]"
     ]
    },
    {
     "name": "stdout",
     "output_type": "stream",
     "text": [
      "('Epoca 91.', 'lr:', 1.3331598e-06)\n"
     ]
    },
    {
     "name": "stderr",
     "output_type": "stream",
     "text": [
      " 28%|██▊       | 178/628 [00:08<00:19, 22.60it/s]\n",
      "  0%|          | 0/55 [00:00<?, ?it/s]\u001b[A"
     ]
    },
    {
     "name": "stdout",
     "output_type": "stream",
     "text": [
      "\tsaving model 56700...\n",
      "\tdone\n",
      "Evaluating\n"
     ]
    },
    {
     "name": "stderr",
     "output_type": "stream",
     "text": [
      "\n",
      " 15%|#4        | 8/55 [00:00<00:00, 73.47it/s]\u001b[A\n",
      " 29%|##9       | 16/55 [00:00<00:00, 73.62it/s]\u001b[A\n",
      " 42%|####1     | 23/55 [00:00<00:00, 71.82it/s]\u001b[A\n",
      " 55%|#####4    | 30/55 [00:00<00:00, 69.68it/s]\u001b[A\n",
      " 69%|######9   | 38/55 [00:00<00:00, 70.75it/s]\u001b[A\n",
      " 84%|########3 | 46/55 [00:00<00:00, 72.50it/s]\u001b[A\n",
      " 98%|#########8| 54/55 [00:00<00:00, 73.54it/s]\u001b[A\n",
      " 29%|██▉       | 181/628 [00:09<01:03,  7.07it/s]A"
     ]
    },
    {
     "name": "stdout",
     "output_type": "stream",
     "text": [
      "{'ade': 0.5449116, 'fde': 1.1741831}\n",
      "\t last loss:0.000324870, eval on validation:['ade: 0.5449116', 'fde: 1.1741831'], (best ade:0.54351544 at step 28800) \n"
     ]
    },
    {
     "name": "stderr",
     "output_type": "stream",
     "text": [
      " 76%|███████▌  | 478/628 [00:21<00:05, 25.91it/s]\n",
      "  0%|          | 0/55 [00:00<?, ?it/s]\u001b[A"
     ]
    },
    {
     "name": "stdout",
     "output_type": "stream",
     "text": [
      "\tsaving model 57000...\n",
      "\tdone\n",
      "Evaluating\n"
     ]
    },
    {
     "name": "stderr",
     "output_type": "stream",
     "text": [
      "\n",
      " 16%|#6        | 9/55 [00:00<00:00, 84.11it/s]\u001b[A\n",
      " 33%|###2      | 18/55 [00:00<00:00, 84.71it/s]\u001b[A\n",
      " 47%|####7     | 26/55 [00:00<00:00, 81.77it/s]\u001b[A\n",
      " 60%|######    | 33/55 [00:00<00:00, 77.71it/s]\u001b[A\n",
      " 76%|#######6  | 42/55 [00:00<00:00, 78.97it/s]\u001b[A\n",
      " 93%|#########2| 51/55 [00:00<00:00, 80.55it/s]\u001b[A\n",
      " 77%|███████▋  | 481/628 [00:22<00:18,  7.93it/s]A"
     ]
    },
    {
     "name": "stdout",
     "output_type": "stream",
     "text": [
      "{'ade': 0.5453723, 'fde': 1.175578}\n",
      "\t last loss:0.000277412, eval on validation:['ade: 0.5453723', 'fde: 1.175578'], (best ade:0.54351544 at step 28800) \n"
     ]
    },
    {
     "name": "stderr",
     "output_type": "stream",
     "text": [
      "100%|██████████| 628/628 [00:28<00:00, 21.74it/s]\n",
      "  0%|          | 2/628 [00:00<00:32, 19.25it/s]"
     ]
    },
    {
     "name": "stdout",
     "output_type": "stream",
     "text": [
      "('Epoca 92.', 'lr:', 1.3331598e-06)\n"
     ]
    },
    {
     "name": "stderr",
     "output_type": "stream",
     "text": [
      " 24%|██▍       | 151/628 [00:07<00:23, 20.53it/s]"
     ]
    },
    {
     "name": "stdout",
     "output_type": "stream",
     "text": [
      "\tsaving model 57300...\n"
     ]
    },
    {
     "name": "stderr",
     "output_type": "stream",
     "text": [
      "\n",
      "  0%|          | 0/55 [00:00<?, ?it/s]\u001b[A\n",
      " 13%|#2        | 7/55 [00:00<00:00, 67.30it/s]\u001b[A"
     ]
    },
    {
     "name": "stdout",
     "output_type": "stream",
     "text": [
      "\tdone\n",
      "Evaluating\n"
     ]
    },
    {
     "name": "stderr",
     "output_type": "stream",
     "text": [
      "\n",
      " 25%|##5       | 14/55 [00:00<00:00, 66.86it/s]\u001b[A\n",
      " 38%|###8      | 21/55 [00:00<00:00, 66.07it/s]\u001b[A\n",
      " 51%|#####     | 28/55 [00:00<00:00, 66.06it/s]\u001b[A\n",
      " 64%|######3   | 35/55 [00:00<00:00, 65.68it/s]\u001b[A\n",
      " 76%|#######6  | 42/55 [00:00<00:00, 65.89it/s]\u001b[A\n",
      " 89%|########9 | 49/55 [00:00<00:00, 65.30it/s]\u001b[A\n",
      " 25%|██▍       | 154/628 [00:08<01:16,  6.23it/s]A"
     ]
    },
    {
     "name": "stdout",
     "output_type": "stream",
     "text": [
      "{'ade': 0.5447379, 'fde': 1.1735057}\n",
      "\t last loss:0.000430441, eval on validation:['ade: 0.5447379', 'fde: 1.1735057'], (best ade:0.54351544 at step 28800) \n"
     ]
    },
    {
     "name": "stderr",
     "output_type": "stream",
     "text": [
      " 72%|███████▏  | 450/628 [00:23<00:08, 21.00it/s]"
     ]
    },
    {
     "name": "stdout",
     "output_type": "stream",
     "text": [
      "\tsaving model 57600...\n"
     ]
    },
    {
     "name": "stderr",
     "output_type": "stream",
     "text": [
      "\n",
      "  0%|          | 0/55 [00:00<?, ?it/s]\u001b[A\n",
      " 11%|#         | 6/55 [00:00<00:00, 55.32it/s]\u001b[A"
     ]
    },
    {
     "name": "stdout",
     "output_type": "stream",
     "text": [
      "\tdone\n",
      "Evaluating\n"
     ]
    },
    {
     "name": "stderr",
     "output_type": "stream",
     "text": [
      "\n",
      " 22%|##1       | 12/55 [00:00<00:00, 56.52it/s]\u001b[A\n",
      " 35%|###4      | 19/55 [00:00<00:00, 59.72it/s]\u001b[A\n",
      " 47%|####7     | 26/55 [00:00<00:00, 61.87it/s]\u001b[A\n",
      " 60%|######    | 33/55 [00:00<00:00, 63.07it/s]\u001b[A\n",
      " 73%|#######2  | 40/55 [00:00<00:00, 63.97it/s]\u001b[A\n",
      " 85%|########5 | 47/55 [00:00<00:00, 64.55it/s]\u001b[A\n",
      " 98%|#########8| 54/55 [00:00<00:00, 65.43it/s]\u001b[A\n",
      " 72%|███████▏  | 453/628 [00:24<00:27,  6.34it/s]A"
     ]
    },
    {
     "name": "stdout",
     "output_type": "stream",
     "text": [
      "{'ade': 0.54533225, 'fde': 1.1755216}\n",
      "\t last loss:0.000313647, eval on validation:['ade: 0.54533225', 'fde: 1.1755216'], (best ade:0.54351544 at step 28800) \n"
     ]
    },
    {
     "name": "stderr",
     "output_type": "stream",
     "text": [
      "100%|██████████| 628/628 [00:33<00:00, 19.02it/s]\n",
      "  0%|          | 1/628 [00:00<01:07,  9.30it/s]"
     ]
    },
    {
     "name": "stdout",
     "output_type": "stream",
     "text": [
      "('Epoca 93.', 'lr:', 1.1331858e-06)\n"
     ]
    },
    {
     "name": "stderr",
     "output_type": "stream",
     "text": [
      " 19%|█▉        | 121/628 [00:04<00:19, 25.67it/s]\n",
      "  0%|          | 0/55 [00:00<?, ?it/s]\u001b[A"
     ]
    },
    {
     "name": "stdout",
     "output_type": "stream",
     "text": [
      "\tsaving model 57900...\n",
      "\tdone\n",
      "Evaluating\n"
     ]
    },
    {
     "name": "stderr",
     "output_type": "stream",
     "text": [
      "\n",
      " 16%|#6        | 9/55 [00:00<00:00, 88.37it/s]\u001b[A\n",
      " 35%|###4      | 19/55 [00:00<00:00, 89.95it/s]\u001b[A\n",
      " 53%|#####2    | 29/55 [00:00<00:00, 91.41it/s]\u001b[A\n",
      " 71%|#######   | 39/55 [00:00<00:00, 92.11it/s]\u001b[A\n",
      " 87%|########7 | 48/55 [00:00<00:00, 90.71it/s]\u001b[A\n",
      " 20%|██        | 127/628 [00:05<00:46, 10.69it/s]A"
     ]
    },
    {
     "name": "stdout",
     "output_type": "stream",
     "text": [
      "{'ade': 0.54553825, 'fde': 1.1761025}\n",
      "\t last loss:0.000434280, eval on validation:['ade: 0.54553825', 'fde: 1.1761025'], (best ade:0.54351544 at step 28800) \n"
     ]
    },
    {
     "name": "stderr",
     "output_type": "stream",
     "text": [
      " 67%|██████▋   | 421/628 [00:17<00:08, 24.75it/s]\n",
      "  0%|          | 0/55 [00:00<?, ?it/s]\u001b[A"
     ]
    },
    {
     "name": "stdout",
     "output_type": "stream",
     "text": [
      "\tsaving model 58200...\n",
      "\tdone\n",
      "Evaluating\n"
     ]
    },
    {
     "name": "stderr",
     "output_type": "stream",
     "text": [
      "\n",
      " 16%|#6        | 9/55 [00:00<00:00, 82.33it/s]\u001b[A\n",
      " 31%|###       | 17/55 [00:00<00:00, 80.19it/s]\u001b[A\n",
      " 44%|####3     | 24/55 [00:00<00:00, 76.79it/s]\u001b[A\n",
      " 60%|######    | 33/55 [00:00<00:00, 78.77it/s]\u001b[A\n",
      " 76%|#######6  | 42/55 [00:00<00:00, 79.92it/s]\u001b[A\n",
      " 93%|#########2| 51/55 [00:00<00:00, 81.21it/s]\u001b[A\n",
      " 68%|██████▊   | 427/628 [00:18<00:20,  9.83it/s]A"
     ]
    },
    {
     "name": "stdout",
     "output_type": "stream",
     "text": [
      "{'ade': 0.54528755, 'fde': 1.175556}\n",
      "\t last loss:0.000415019, eval on validation:['ade: 0.54528755', 'fde: 1.175556'], (best ade:0.54351544 at step 28800) \n"
     ]
    },
    {
     "name": "stderr",
     "output_type": "stream",
     "text": [
      "100%|██████████| 628/628 [00:26<00:00, 24.51it/s]\n",
      "  0%|          | 3/628 [00:00<00:25, 24.21it/s]"
     ]
    },
    {
     "name": "stdout",
     "output_type": "stream",
     "text": [
      "('Epoca 94.', 'lr:', 1.1331858e-06)\n"
     ]
    },
    {
     "name": "stderr",
     "output_type": "stream",
     "text": [
      " 15%|█▍        | 93/628 [00:03<00:20, 26.00it/s]\n",
      "  0%|          | 0/55 [00:00<?, ?it/s]\u001b[A"
     ]
    },
    {
     "name": "stdout",
     "output_type": "stream",
     "text": [
      "\tsaving model 58500...\n",
      "\tdone\n",
      "Evaluating\n"
     ]
    },
    {
     "name": "stderr",
     "output_type": "stream",
     "text": [
      "\n",
      " 16%|#6        | 9/55 [00:00<00:00, 86.59it/s]\u001b[A\n",
      " 35%|###4      | 19/55 [00:00<00:00, 88.51it/s]\u001b[A\n",
      " 51%|#####     | 28/55 [00:00<00:00, 88.64it/s]\u001b[A\n",
      " 67%|######7   | 37/55 [00:00<00:00, 88.72it/s]\u001b[A\n",
      " 84%|########3 | 46/55 [00:00<00:00, 86.84it/s]\u001b[A\n",
      " 16%|█▌        | 99/628 [00:04<00:49, 10.66it/s][A"
     ]
    },
    {
     "name": "stdout",
     "output_type": "stream",
     "text": [
      "{'ade': 0.54532236, 'fde': 1.1753297}\n",
      "\t last loss:0.000335456, eval on validation:['ade: 0.54532236', 'fde: 1.1753297'], (best ade:0.54351544 at step 28800) \n"
     ]
    },
    {
     "name": "stderr",
     "output_type": "stream",
     "text": [
      " 63%|██████▎   | 393/628 [00:17<00:10, 22.37it/s]\n",
      "  0%|          | 0/55 [00:00<?, ?it/s]\u001b[A"
     ]
    },
    {
     "name": "stdout",
     "output_type": "stream",
     "text": [
      "\tsaving model 58800...\n",
      "\tdone\n",
      "Evaluating\n"
     ]
    },
    {
     "name": "stderr",
     "output_type": "stream",
     "text": [
      "\n",
      " 15%|#4        | 8/55 [00:00<00:00, 75.05it/s]\u001b[A\n",
      " 31%|###       | 17/55 [00:00<00:00, 77.81it/s]\u001b[A\n",
      " 45%|####5     | 25/55 [00:00<00:00, 77.28it/s]\u001b[A\n",
      " 62%|######1   | 34/55 [00:00<00:00, 78.84it/s]\u001b[A\n",
      " 75%|#######4  | 41/55 [00:00<00:00, 75.02it/s]\u001b[A\n",
      " 91%|######### | 50/55 [00:00<00:00, 77.37it/s]\u001b[A\n",
      " 64%|██████▎   | 399/628 [00:18<00:24,  9.43it/s]A"
     ]
    },
    {
     "name": "stdout",
     "output_type": "stream",
     "text": [
      "{'ade': 0.5449948, 'fde': 1.174118}\n",
      "\t last loss:0.000396401, eval on validation:['ade: 0.5449948', 'fde: 1.174118'], (best ade:0.54351544 at step 28800) \n"
     ]
    },
    {
     "name": "stderr",
     "output_type": "stream",
     "text": [
      "100%|██████████| 628/628 [00:27<00:00, 22.45it/s]\n",
      "  0%|          | 2/628 [00:00<00:40, 15.54it/s]"
     ]
    },
    {
     "name": "stdout",
     "output_type": "stream",
     "text": [
      "('Epoca 95.', 'lr:', 9.63208e-07)\n"
     ]
    },
    {
     "name": "stderr",
     "output_type": "stream",
     "text": [
      " 10%|█         | 65/628 [00:02<00:22, 25.45it/s]\n",
      "  0%|          | 0/55 [00:00<?, ?it/s]\u001b[A"
     ]
    },
    {
     "name": "stdout",
     "output_type": "stream",
     "text": [
      "\tsaving model 59100...\n",
      "\tdone\n",
      "Evaluating\n"
     ]
    },
    {
     "name": "stderr",
     "output_type": "stream",
     "text": [
      "\n",
      " 16%|#6        | 9/55 [00:00<00:00, 86.19it/s]\u001b[A\n",
      " 35%|###4      | 19/55 [00:00<00:00, 88.95it/s]\u001b[A\n",
      " 53%|#####2    | 29/55 [00:00<00:00, 90.56it/s]\u001b[A\n",
      " 69%|######9   | 38/55 [00:00<00:00, 89.27it/s]\u001b[A\n",
      " 87%|########7 | 48/55 [00:00<00:00, 90.13it/s]\u001b[A\n",
      " 11%|█▏        | 71/628 [00:03<00:53, 10.45it/s][A"
     ]
    },
    {
     "name": "stdout",
     "output_type": "stream",
     "text": [
      "{'ade': 0.5449118, 'fde': 1.174199}\n",
      "\t last loss:0.000532586, eval on validation:['ade: 0.5449118', 'fde: 1.174199'], (best ade:0.54351544 at step 28800) \n"
     ]
    },
    {
     "name": "stderr",
     "output_type": "stream",
     "text": [
      " 58%|█████▊    | 365/628 [00:15<00:10, 25.23it/s]\n",
      "  0%|          | 0/55 [00:00<?, ?it/s]\u001b[A"
     ]
    },
    {
     "name": "stdout",
     "output_type": "stream",
     "text": [
      "\tsaving model 59400...\n",
      "\tdone\n",
      "Evaluating\n"
     ]
    },
    {
     "name": "stderr",
     "output_type": "stream",
     "text": [
      "\n",
      " 16%|#6        | 9/55 [00:00<00:00, 83.40it/s]\u001b[A\n",
      " 33%|###2      | 18/55 [00:00<00:00, 83.42it/s]\u001b[A\n",
      " 49%|####9     | 27/55 [00:00<00:00, 83.84it/s]\u001b[A\n",
      " 65%|######5   | 36/55 [00:00<00:00, 84.56it/s]\u001b[A\n",
      " 82%|########1 | 45/55 [00:00<00:00, 83.89it/s]\u001b[A\n",
      " 98%|#########8| 54/55 [00:00<00:00, 84.49it/s]\u001b[A\n",
      " 59%|█████▉    | 371/628 [00:16<00:26,  9.84it/s]A"
     ]
    },
    {
     "name": "stdout",
     "output_type": "stream",
     "text": [
      "{'ade': 0.5452819, 'fde': 1.175417}\n",
      "\t last loss:0.000302454, eval on validation:['ade: 0.5452819', 'fde: 1.175417'], (best ade:0.54351544 at step 28800) \n"
     ]
    },
    {
     "name": "stderr",
     "output_type": "stream",
     "text": [
      "100%|██████████| 628/628 [00:27<00:00, 24.51it/s]\n",
      "  0%|          | 2/628 [00:00<00:41, 15.24it/s]"
     ]
    },
    {
     "name": "stdout",
     "output_type": "stream",
     "text": [
      "('Epoca 96.', 'lr:', 9.63208e-07)\n"
     ]
    },
    {
     "name": "stderr",
     "output_type": "stream",
     "text": [
      "  6%|▌         | 38/628 [00:01<00:24, 24.26it/s]\n",
      "  0%|          | 0/55 [00:00<?, ?it/s]\u001b[A"
     ]
    },
    {
     "name": "stdout",
     "output_type": "stream",
     "text": [
      "\tsaving model 59700...\n",
      "\tdone\n",
      "Evaluating\n"
     ]
    },
    {
     "name": "stderr",
     "output_type": "stream",
     "text": [
      "\n",
      " 16%|#6        | 9/55 [00:00<00:00, 83.28it/s]\u001b[A\n",
      " 33%|###2      | 18/55 [00:00<00:00, 84.14it/s]\u001b[A\n",
      " 49%|####9     | 27/55 [00:00<00:00, 83.60it/s]\u001b[A\n",
      " 65%|######5   | 36/55 [00:00<00:00, 84.17it/s]\u001b[A\n",
      " 82%|########1 | 45/55 [00:00<00:00, 85.78it/s]\u001b[A\n",
      " 98%|#########8| 54/55 [00:00<00:00, 86.15it/s]\u001b[A\n",
      "  7%|▋         | 41/628 [00:02<01:13,  7.98it/s][A"
     ]
    },
    {
     "name": "stdout",
     "output_type": "stream",
     "text": [
      "{'ade': 0.5456073, 'fde': 1.1764554}\n",
      "\t last loss:0.000255445, eval on validation:['ade: 0.5456073', 'fde: 1.1764554'], (best ade:0.54351544 at step 28800) \n"
     ]
    },
    {
     "name": "stderr",
     "output_type": "stream",
     "text": [
      " 54%|█████▍    | 338/628 [00:15<00:12, 22.80it/s]\n",
      "  0%|          | 0/55 [00:00<?, ?it/s]"
     ]
    },
    {
     "name": "stdout",
     "output_type": "stream",
     "text": [
      "\tsaving model 60000...\n",
      "\tdone\n",
      "Evaluating\n"
     ]
    },
    {
     "name": "stderr",
     "output_type": "stream",
     "text": [
      "\u001b[A\n",
      " 15%|#4        | 8/55 [00:00<00:00, 76.34it/s]\u001b[A\n",
      " 29%|##9       | 16/55 [00:00<00:00, 77.00it/s]\u001b[A\n",
      " 44%|####3     | 24/55 [00:00<00:00, 76.84it/s]\u001b[A\n",
      " 56%|#####6    | 31/55 [00:00<00:00, 74.47it/s]\u001b[A\n",
      " 71%|#######   | 39/55 [00:00<00:00, 75.05it/s]\u001b[A\n",
      " 85%|########5 | 47/55 [00:00<00:00, 74.09it/s]\u001b[A\n",
      " 54%|█████▍    | 341/628 [00:16<00:40,  7.09it/s]A"
     ]
    },
    {
     "name": "stdout",
     "output_type": "stream",
     "text": [
      "{'ade': 0.54544073, 'fde': 1.1759644}\n",
      "\t last loss:0.000502010, eval on validation:['ade: 0.54544073', 'fde: 1.1759644'], (best ade:0.54351544 at step 28800) \n"
     ]
    },
    {
     "name": "stderr",
     "output_type": "stream",
     "text": [
      "100%|██████████| 628/628 [00:28<00:00, 22.20it/s]\n",
      "  0%|          | 1/628 [00:00<01:28,  7.07it/s]"
     ]
    },
    {
     "name": "stdout",
     "output_type": "stream",
     "text": [
      "('Epoca 97.', 'lr:', 8.187269e-07)\n"
     ]
    },
    {
     "name": "stderr",
     "output_type": "stream",
     "text": [
      "  2%|▏         | 10/628 [00:00<00:47, 13.11it/s]\n",
      "  0%|          | 0/55 [00:00<?, ?it/s]\u001b[A"
     ]
    },
    {
     "name": "stdout",
     "output_type": "stream",
     "text": [
      "\tsaving model 60300...\n",
      "\tdone\n",
      "Evaluating\n"
     ]
    },
    {
     "name": "stderr",
     "output_type": "stream",
     "text": [
      "\n",
      " 16%|#6        | 9/55 [00:00<00:00, 81.38it/s]\u001b[A\n",
      " 33%|###2      | 18/55 [00:00<00:00, 81.72it/s]\u001b[A\n",
      " 49%|####9     | 27/55 [00:00<00:00, 82.85it/s]\u001b[A\n",
      " 64%|######3   | 35/55 [00:00<00:00, 80.92it/s]\u001b[A\n",
      " 80%|########  | 44/55 [00:00<00:00, 81.83it/s]\u001b[A\n",
      " 95%|#########4| 52/55 [00:00<00:00, 78.98it/s]\u001b[A\n",
      "  2%|▏         | 15/628 [00:01<01:32,  6.60it/s][A"
     ]
    },
    {
     "name": "stdout",
     "output_type": "stream",
     "text": [
      "{'ade': 0.54524016, 'fde': 1.1751578}\n",
      "\t last loss:0.000275526, eval on validation:['ade: 0.54524016', 'fde: 1.1751578'], (best ade:0.54351544 at step 28800) \n"
     ]
    },
    {
     "name": "stderr",
     "output_type": "stream",
     "text": [
      " 49%|████▉     | 309/628 [00:13<00:15, 21.13it/s]\n"
     ]
    },
    {
     "name": "stdout",
     "output_type": "stream",
     "text": [
      "\tsaving model 60600...\n",
      "\tdone\n",
      "Evaluating\n"
     ]
    },
    {
     "name": "stderr",
     "output_type": "stream",
     "text": [
      "  0%|          | 0/55 [00:00<?, ?it/s]\u001b[A\n",
      " 15%|#4        | 8/55 [00:00<00:00, 68.44it/s]\u001b[A\n",
      " 25%|##5       | 14/55 [00:00<00:00, 62.96it/s]\u001b[A\n",
      " 40%|####      | 22/55 [00:00<00:00, 65.92it/s]\u001b[A\n",
      " 55%|#####4    | 30/55 [00:00<00:00, 68.64it/s]\u001b[A\n",
      " 69%|######9   | 38/55 [00:00<00:00, 69.67it/s]\u001b[A\n",
      " 84%|########3 | 46/55 [00:00<00:00, 71.51it/s]\u001b[A\n",
      " 98%|#########8| 54/55 [00:00<00:00, 72.02it/s]\u001b[A\n",
      " 50%|█████     | 315/628 [00:15<00:36,  8.55it/s]A"
     ]
    },
    {
     "name": "stdout",
     "output_type": "stream",
     "text": [
      "{'ade': 0.5450139, 'fde': 1.1742345}\n",
      "\t last loss:0.000502501, eval on validation:['ade: 0.5450139', 'fde: 1.1742345'], (best ade:0.54351544 at step 28800) \n"
     ]
    },
    {
     "name": "stderr",
     "output_type": "stream",
     "text": [
      " 97%|█████████▋| 609/628 [00:27<00:00, 24.58it/s]\n",
      "  0%|          | 0/55 [00:00<?, ?it/s]\u001b[A"
     ]
    },
    {
     "name": "stdout",
     "output_type": "stream",
     "text": [
      "\tsaving model 60900...\n",
      "\tdone\n",
      "Evaluating\n"
     ]
    },
    {
     "name": "stderr",
     "output_type": "stream",
     "text": [
      "\n",
      " 15%|#4        | 8/55 [00:00<00:00, 77.81it/s]\u001b[A\n",
      " 31%|###       | 17/55 [00:00<00:00, 79.40it/s]\u001b[A\n",
      " 47%|####7     | 26/55 [00:00<00:00, 81.26it/s]\u001b[A\n",
      " 64%|######3   | 35/55 [00:00<00:00, 82.24it/s]\u001b[A\n",
      " 80%|########  | 44/55 [00:00<00:00, 82.98it/s]\u001b[A\n",
      " 96%|#########6| 53/55 [00:00<00:00, 83.60it/s]\u001b[A\n",
      " 98%|█████████▊| 615/628 [00:28<00:01,  9.84it/s]A"
     ]
    },
    {
     "name": "stdout",
     "output_type": "stream",
     "text": [
      "{'ade': 0.54490703, 'fde': 1.1741077}\n",
      "\t last loss:0.000330092, eval on validation:['ade: 0.54490703', 'fde: 1.1741077'], (best ade:0.54351544 at step 28800) \n"
     ]
    },
    {
     "name": "stderr",
     "output_type": "stream",
     "text": [
      "100%|██████████| 628/628 [00:28<00:00, 21.75it/s]\n",
      "  0%|          | 1/628 [00:00<01:21,  7.70it/s]"
     ]
    },
    {
     "name": "stdout",
     "output_type": "stream",
     "text": [
      "('Epoca 98.', 'lr:', 8.187269e-07)\n"
     ]
    },
    {
     "name": "stderr",
     "output_type": "stream",
     "text": [
      " 45%|████▍     | 282/628 [00:11<00:16, 20.43it/s]"
     ]
    },
    {
     "name": "stdout",
     "output_type": "stream",
     "text": [
      "\tsaving model 61200...\n"
     ]
    },
    {
     "name": "stderr",
     "output_type": "stream",
     "text": [
      "\n",
      "  0%|          | 0/55 [00:00<?, ?it/s]\u001b[A\n",
      " 11%|#         | 6/55 [00:00<00:00, 59.90it/s]\u001b[A"
     ]
    },
    {
     "name": "stdout",
     "output_type": "stream",
     "text": [
      "\tdone\n",
      "Evaluating\n"
     ]
    },
    {
     "name": "stderr",
     "output_type": "stream",
     "text": [
      "\n",
      " 24%|##3       | 13/55 [00:00<00:00, 60.31it/s]\u001b[A\n",
      " 36%|###6      | 20/55 [00:00<00:00, 61.31it/s]\u001b[A\n",
      " 49%|####9     | 27/55 [00:00<00:00, 61.95it/s]\u001b[A\n",
      " 58%|#####8    | 32/55 [00:00<00:00, 57.59it/s]\u001b[A\n",
      " 71%|#######   | 39/55 [00:00<00:00, 60.20it/s]\u001b[A\n",
      " 84%|########3 | 46/55 [00:00<00:00, 61.61it/s]\u001b[A\n",
      " 96%|#########6| 53/55 [00:00<00:00, 63.45it/s]\u001b[A\n",
      " 45%|████▌     | 285/628 [00:13<00:55,  6.21it/s]A"
     ]
    },
    {
     "name": "stdout",
     "output_type": "stream",
     "text": [
      "{'ade': 0.54484475, 'fde': 1.1740971}\n",
      "\t last loss:0.000475884, eval on validation:['ade: 0.54484475', 'fde: 1.1740971'], (best ade:0.54351544 at step 28800) \n"
     ]
    },
    {
     "name": "stderr",
     "output_type": "stream",
     "text": [
      " 93%|█████████▎| 583/628 [00:25<00:01, 25.86it/s]\n",
      "  0%|          | 0/55 [00:00<?, ?it/s]\u001b[A"
     ]
    },
    {
     "name": "stdout",
     "output_type": "stream",
     "text": [
      "\tsaving model 61500...\n",
      "\tdone\n",
      "Evaluating\n"
     ]
    },
    {
     "name": "stderr",
     "output_type": "stream",
     "text": [
      "\n",
      " 16%|#6        | 9/55 [00:00<00:00, 82.06it/s]\u001b[A\n",
      " 33%|###2      | 18/55 [00:00<00:00, 83.07it/s]\u001b[A\n",
      " 49%|####9     | 27/55 [00:00<00:00, 83.45it/s]\u001b[A\n",
      " 65%|######5   | 36/55 [00:00<00:00, 83.49it/s]\u001b[A\n",
      " 82%|########1 | 45/55 [00:00<00:00, 83.73it/s]\u001b[A\n",
      " 96%|#########6| 53/55 [00:00<00:00, 80.95it/s]\u001b[A\n",
      " 93%|█████████▎| 586/628 [00:26<00:05,  7.93it/s]A"
     ]
    },
    {
     "name": "stdout",
     "output_type": "stream",
     "text": [
      "{'ade': 0.5451629, 'fde': 1.1749734}\n",
      "\t last loss:0.000373443, eval on validation:['ade: 0.5451629', 'fde: 1.1749734'], (best ade:0.54351544 at step 28800) \n"
     ]
    },
    {
     "name": "stderr",
     "output_type": "stream",
     "text": [
      "100%|██████████| 628/628 [00:28<00:00, 24.66it/s]\n",
      "  0%|          | 3/628 [00:00<00:28, 22.03it/s]"
     ]
    },
    {
     "name": "stdout",
     "output_type": "stream",
     "text": [
      "('Epoca 99.', 'lr:', 6.9591783e-07)\n"
     ]
    },
    {
     "name": "stderr",
     "output_type": "stream",
     "text": [
      " 41%|████      | 255/628 [00:10<00:17, 20.90it/s]"
     ]
    },
    {
     "name": "stdout",
     "output_type": "stream",
     "text": [
      "\tsaving model 61800...\n"
     ]
    },
    {
     "name": "stderr",
     "output_type": "stream",
     "text": [
      "\n",
      "  0%|          | 0/55 [00:00<?, ?it/s]\u001b[A\n",
      " 13%|#2        | 7/55 [00:00<00:00, 68.74it/s]\u001b[A"
     ]
    },
    {
     "name": "stdout",
     "output_type": "stream",
     "text": [
      "\tdone\n",
      "Evaluating\n"
     ]
    },
    {
     "name": "stderr",
     "output_type": "stream",
     "text": [
      "\n",
      " 25%|##5       | 14/55 [00:00<00:00, 67.48it/s]\u001b[A\n",
      " 38%|###8      | 21/55 [00:00<00:00, 66.39it/s]\u001b[A\n",
      " 51%|#####     | 28/55 [00:00<00:00, 67.05it/s]\u001b[A\n",
      " 64%|######3   | 35/55 [00:00<00:00, 65.70it/s]\u001b[A\n",
      " 76%|#######6  | 42/55 [00:00<00:00, 65.91it/s]\u001b[A\n",
      " 89%|########9 | 49/55 [00:00<00:00, 65.95it/s]\u001b[A\n",
      " 41%|████      | 258/628 [00:11<00:58,  6.28it/s]A"
     ]
    },
    {
     "name": "stdout",
     "output_type": "stream",
     "text": [
      "{'ade': 0.54499507, 'fde': 1.1744683}\n",
      "\t last loss:0.000445654, eval on validation:['ade: 0.54499507', 'fde: 1.1744683'], (best ade:0.54351544 at step 28800) \n"
     ]
    },
    {
     "name": "stderr",
     "output_type": "stream",
     "text": [
      " 88%|████████▊ | 553/628 [00:24<00:02, 26.84it/s]\n",
      "  0%|          | 0/55 [00:00<?, ?it/s]\u001b[A"
     ]
    },
    {
     "name": "stdout",
     "output_type": "stream",
     "text": [
      "\tsaving model 62100...\n",
      "\tdone\n",
      "Evaluating\n"
     ]
    },
    {
     "name": "stderr",
     "output_type": "stream",
     "text": [
      "\n",
      " 16%|#6        | 9/55 [00:00<00:00, 81.00it/s]\u001b[A\n",
      " 33%|###2      | 18/55 [00:00<00:00, 82.66it/s]\u001b[A\n",
      " 51%|#####     | 28/55 [00:00<00:00, 85.29it/s]\u001b[A\n",
      " 69%|######9   | 38/55 [00:00<00:00, 87.58it/s]\u001b[A\n",
      " 87%|########7 | 48/55 [00:00<00:00, 88.97it/s]\u001b[A\n",
      " 89%|████████▉ | 559/628 [00:25<00:06, 10.74it/s]A"
     ]
    },
    {
     "name": "stdout",
     "output_type": "stream",
     "text": [
      "{'ade': 0.54520243, 'fde': 1.1751102}\n",
      "\t last loss:0.000343996, eval on validation:['ade: 0.54520243', 'fde: 1.1751102'], (best ade:0.54351544 at step 28800) \n"
     ]
    },
    {
     "name": "stderr",
     "output_type": "stream",
     "text": [
      "100%|██████████| 628/628 [00:27<00:00, 24.70it/s]\n",
      "  0%|          | 1/628 [00:00<01:08,  9.21it/s]"
     ]
    },
    {
     "name": "stdout",
     "output_type": "stream",
     "text": [
      "('Epoca 100.', 'lr:', 6.9591783e-07)\n"
     ]
    },
    {
     "name": "stderr",
     "output_type": "stream",
     "text": [
      " 36%|███▌      | 226/628 [00:09<00:16, 24.96it/s]\n",
      "  0%|          | 0/55 [00:00<?, ?it/s]\u001b[A"
     ]
    },
    {
     "name": "stdout",
     "output_type": "stream",
     "text": [
      "\tsaving model 62400...\n",
      "\tdone\n",
      "Evaluating\n"
     ]
    },
    {
     "name": "stderr",
     "output_type": "stream",
     "text": [
      "\n",
      " 15%|#4        | 8/55 [00:00<00:00, 72.66it/s]\u001b[A\n",
      " 27%|##7       | 15/55 [00:00<00:00, 69.74it/s]\u001b[A\n",
      " 36%|###6      | 20/55 [00:00<00:00, 62.19it/s]\u001b[A\n",
      " 49%|####9     | 27/55 [00:00<00:00, 63.47it/s]\u001b[A\n",
      " 62%|######1   | 34/55 [00:00<00:00, 64.00it/s]\u001b[A\n",
      " 75%|#######4  | 41/55 [00:00<00:00, 64.65it/s]\u001b[A\n",
      " 87%|########7 | 48/55 [00:00<00:00, 65.41it/s]\u001b[A\n",
      " 36%|███▋      | 229/628 [00:10<00:58,  6.80it/s]A"
     ]
    },
    {
     "name": "stdout",
     "output_type": "stream",
     "text": [
      "{'ade': 0.5451118, 'fde': 1.1748146}\n",
      "\t last loss:0.000460265, eval on validation:['ade: 0.5451118', 'fde: 1.1748146'], (best ade:0.54351544 at step 28800) \n"
     ]
    },
    {
     "name": "stderr",
     "output_type": "stream",
     "text": [
      " 84%|████████▍ | 527/628 [00:23<00:03, 26.51it/s]\n",
      "  0%|          | 0/55 [00:00<?, ?it/s]\u001b[A"
     ]
    },
    {
     "name": "stdout",
     "output_type": "stream",
     "text": [
      "\tsaving model 62700...\n",
      "\tdone\n",
      "Evaluating\n"
     ]
    },
    {
     "name": "stderr",
     "output_type": "stream",
     "text": [
      "\n",
      " 18%|#8        | 10/55 [00:00<00:00, 91.47it/s]\u001b[A\n",
      " 36%|###6      | 20/55 [00:00<00:00, 92.11it/s]\u001b[A\n",
      " 55%|#####4    | 30/55 [00:00<00:00, 92.72it/s]\u001b[A\n",
      " 73%|#######2  | 40/55 [00:00<00:00, 93.12it/s]\u001b[A\n",
      " 91%|######### | 50/55 [00:00<00:00, 92.04it/s]\u001b[A\n",
      " 84%|████████▍ | 530/628 [00:24<00:11,  8.55it/s]A"
     ]
    },
    {
     "name": "stdout",
     "output_type": "stream",
     "text": [
      "{'ade': 0.5453909, 'fde': 1.1756763}\n",
      "\t last loss:0.000620871, eval on validation:['ade: 0.5453909', 'fde: 1.1756763'], (best ade:0.54351544 at step 28800) \n"
     ]
    },
    {
     "name": "stderr",
     "output_type": "stream",
     "text": [
      "100%|██████████| 628/628 [00:28<00:00, 22.16it/s]\n"
     ]
    },
    {
     "name": "stdout",
     "output_type": "stream",
     "text": [
      "best eval on val ade: 0.54351544 at 28800 step y fde es 1.166709 \n"
     ]
    }
   ],
   "source": [
    "import os \n",
    "from tqdm import tqdm\n",
    "import tensorflow as tf\n",
    "import math\n",
    "\n",
    "tf.reset_default_graph()\n",
    "\n",
    "arguments = parameters1(add_kp = False, add_social = True, train_num_examples=len(data1['obs_traj']))\n",
    "model = model.Model(arguments)\n",
    "\n",
    "train_data = batches_data.Dataset(data1,arguments)\n",
    "val_data = batches_data.Dataset(data3,arguments)\n",
    "\n",
    "saver = tf.train.Saver(max_to_keep = 2)\n",
    "bestsaver = tf.train.Saver(max_to_keep = 2)\n",
    "\n",
    "\n",
    "trainer = entrenamientoevaluacion.Trainer(model,arguments)\n",
    "tester = entrenamientoevaluacion.Tester(model, arguments)\n",
    "\n",
    "#inicializamos las variables globales\n",
    "init = tf.global_variables_initializer()\n",
    "sess = tf.Session()\n",
    "sess.run(init)\n",
    "\n",
    "increment_global_step_op = tf.assign(model.global_step, model.global_step+1)\n",
    "\n",
    "val_perf = []\n",
    "loss = -1\n",
    "\n",
    "metric = 'ade'\n",
    "best = {metric:999999, 'fde':0, 'step':-1}\n",
    "is_start = True\n",
    "\n",
    "num_steps = int(math.ceil(train_data.num_examples/float(arguments.batch_size)))\n",
    "loss_list = []\n",
    "loss_epochs = []\n",
    "print(num_steps)\n",
    "\n",
    "for i in range(arguments.num_epochs):\n",
    "    print('Epoca {0}.' .format(i+1), 'lr:', sess.run(trainer.get_lr()))\n",
    "    \n",
    "    #For de batches\n",
    "    for idx, batch in tqdm(train_data.get_batches(arguments.batch_size,num_steps = num_steps),total=num_steps):\n",
    "        \n",
    "        sess.run(increment_global_step_op)\n",
    "        global_step = sess.run(model.global_step)\n",
    "\n",
    "        #Evaluamos el entrenamiento\n",
    "        if((global_step%arguments.validate==0) or (arguments.load_best and is_start)):\n",
    "            #guardamos el modelo\n",
    "            tqdm.write(\"\\tsaving model %s...\" % global_step)\n",
    "            checkpoint_path_model = os.path.join('FO_UCY-ZARA02_NON_12', 'model.ckpt')\n",
    "            saver.save(sess,checkpoint_path_model , global_step = global_step)\n",
    "            tqdm.write(\"\\tdone\")\n",
    "            \n",
    "            print('Evaluating')\n",
    "            results = evaluate(val_data, tester,sess,arguments)\n",
    "            print(results)\n",
    "           \n",
    "            tqdm.write((\"\\t last loss:%.9f, eval on validation:%s,\"\n",
    "                    \" (best %s:%s at step %s) \") % (loss,[\"%s: %s\" % (k, results[k]) for k in sorted(results.keys())], metric,best[metric], best[\"step\"]))\n",
    "            if results[\"ade\"]< best[metric]:\n",
    "                best[metric] = results[\"ade\"]\n",
    "                best[\"fde\"]  = results[\"fde\"]\n",
    "                best[\"step\"] = global_step\n",
    "                \n",
    "                tqdm.write(\"\\t saving best model...\")\n",
    "                checkpoint_path_model_best = os.path.join('FO_UCY-ZARA02_NON-BEST_12', 'model_best.ckpt')\n",
    "                bestsaver.save(sess,checkpoint_path_model_best,global_step = global_step)\n",
    "                tqdm.write(\"\\t done.\")\n",
    "                finalperf = results\n",
    "                val_perf.append((loss, results))\n",
    "            is_start = False\n",
    "        loss, train_op = trainer.step(sess, batch)\n",
    "        loss_list.append(loss)\n",
    "    loss_epochs.append(loss)\n",
    "if((global_step % arguments.validate)!=0):\n",
    "  checkpoint_path_model = os.path.join('FO_UCY-ZARA02_NON_12', 'model.ckpt')\n",
    "  saver.save(sess,checkpoint_path_model , global_step = global_step)\n",
    "\n",
    "print(\"best eval on val %s: %s at %s step y fde es %s \" % (metric, best[metric], best[\"step\"],best[\"fde\"]))\n"
   ]
  },
  {
   "cell_type": "code",
   "execution_count": 15,
   "metadata": {},
   "outputs": [
    {
     "data": {
      "image/png": "[encoded data removed]",
      "text/plain": [
       "<Figure size 432x288 with 1 Axes>"
      ]
     },
     "metadata": {
      "needs_background": "light"
     },
     "output_type": "display_data"
    }
   ],
   "source": [
    "from matplotlib import pyplot as plt\n",
    "learning =[]\n",
    "for i in range(arguments.num_epochs):\n",
    "    a = (len(loss_list)/arguments.num_epochs)*(i-1)\n",
    "    b = (len(loss_list)/arguments.num_epochs)*(i)\n",
    "    learning.append(np.mean(loss_list[a:b]))\n",
    "\n",
    "plt.plot(learning)\n",
    "plt.xlabel(\"Epochs\")\n",
    "plt.ylabel(\"Loss\")\n",
    "plt.show()\n"
   ]
  },
  {
   "cell_type": "markdown",
   "metadata": {},
   "source": [
    "# Load models"
   ]
  },
  {
   "cell_type": "code",
   "execution_count": 20,
   "metadata": {},
   "outputs": [
    {
     "name": "stderr",
     "output_type": "stream",
     "text": [
      "  2%|1         | 5/296 [00:00<00:05, 49.35it/s]"
     ]
    },
    {
     "name": "stdout",
     "output_type": "stream",
     "text": [
      "Evaluating\n"
     ]
    },
    {
     "name": "stderr",
     "output_type": "stream",
     "text": [
      "100%|##########| 296/296 [00:03<00:00, 90.25it/s]\n"
     ]
    },
    {
     "name": "stdout",
     "output_type": "stream",
     "text": [
      "{'ade': 0.31921768, 'fde': 0.7026318}\n"
     ]
    }
   ],
   "source": [
    "#Modelo12\n",
    "path_model = 'FO_UCY-ZARA02_NON_12/model.ckpt-62800'\n",
    "saver.restore(sess=sess, save_path=path_model)\n",
    "\n",
    "\n",
    "test_data = batches_data.Dataset(data_test, arguments)\n",
    "print('Evaluating')\n",
    "results = evaluate(test_data, tester,sess,arguments)\n",
    "print(results)"
   ]
  },
  {
   "cell_type": "code",
   "execution_count": 21,
   "metadata": {},
   "outputs": [
    {
     "name": "stderr",
     "output_type": "stream",
     "text": [
      "  2%|2         | 7/296 [00:00<00:04, 62.76it/s]"
     ]
    },
    {
     "name": "stdout",
     "output_type": "stream",
     "text": [
      "Evaluating\n"
     ]
    },
    {
     "name": "stderr",
     "output_type": "stream",
     "text": [
      "100%|##########| 296/296 [00:03<00:00, 90.49it/s]\n"
     ]
    },
    {
     "name": "stdout",
     "output_type": "stream",
     "text": [
      "{'ade': 0.3232773, 'fde': 0.71064925}\n"
     ]
    }
   ],
   "source": [
    "# Mejor Modelo\n",
    "path_model = 'FO_UCY-ZARA02_NON-BEST_12/model_best.ckpt-28800'\n",
    "saver.restore(sess=sess, save_path=path_model)\n",
    "\n",
    "test_data = batches_data.Dataset(data_test, arguments)\n",
    "print('Evaluating')\n",
    "results = evaluate(test_data, tester,sess,arguments)\n",
    "print(results)"
   ]
  },
  {
   "cell_type": "code",
   "execution_count": null,
   "metadata": {},
   "outputs": [],
   "source": []
  }
 ],
 "metadata": {
  "kernelspec": {
   "display_name": "Python 2",
   "language": "python",
   "name": "python2"
  },
  "language_info": {
   "codemirror_mode": {
    "name": "ipython",
    "version": 2
   },
   "file_extension": ".py",
   "mimetype": "text/x-python",
   "name": "python",
   "nbconvert_exporter": "python",
   "pygments_lexer": "ipython2",
   "version": "2.7.16"
  }
 },
 "nbformat": 4,
 "nbformat_minor": 2
}
