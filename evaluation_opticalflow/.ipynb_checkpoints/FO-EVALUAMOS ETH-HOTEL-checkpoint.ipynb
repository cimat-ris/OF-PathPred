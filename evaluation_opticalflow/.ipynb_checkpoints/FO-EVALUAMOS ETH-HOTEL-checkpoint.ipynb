{
 "cells": [
  {
   "cell_type": "code",
   "execution_count": 1,
   "metadata": {},
   "outputs": [],
   "source": [
    "import sys\n",
    "sys.path.append('/home/andrea/Documentos/OF-PathPred/evaluation_opticalflow/lib')\n",
    "import numpy as np\n",
    "#from process_file import process_file_modif\n",
    "#from process_file import process_file_modif_varios\n",
    "#from process_file import datos_subprocesados_varios\n",
    "from interseccion_process_file import process_file_modif_varios_inter\n",
    "from interseccion_process_file import process_file_modif_inter\n",
    "from interaction_optical_flow import OpticalFlowSimulator\n",
    "\n",
    "import batches_data\n",
    "import model\n",
    "\n",
    "import tensorflow as tf \n",
    "tf.reset_default_graph()\n",
    "\n",
    "import entrenamientoevaluacion\n",
    "from entrenamientoevaluacion import evaluate"
   ]
  },
  {
   "cell_type": "code",
   "execution_count": 2,
   "metadata": {},
   "outputs": [],
   "source": [
    "# parametros para preprocesar los datos\n",
    "# en marco mundo\n",
    "class parameters:\n",
    "    def __init__(self):\n",
    "        #el numero de personas maximasdel conjunto de test\n",
    "        self.person_max = 8\n",
    "        #el indice del conjunto de test\n",
    "        self.ind_test = 1\n",
    "        self.obs_len = 8\n",
    "        self.pred_len = 12\n",
    "        self.add_social = True\n",
    "        self.kp_num = 18\n",
    "        self.add_kp = False\n",
    "        #self.directory_flujo='../evaluation_opticalflow/flujos'\n",
    "arguments = parameters()"
   ]
  },
  {
   "cell_type": "code",
   "execution_count": 3,
   "metadata": {},
   "outputs": [
    {
     "name": "stdout",
     "output_type": "stream",
     "text": [
      "../data1/eth-univ/mundo/mun_pos.csv\n",
      "('The numbers of examples is: ', 339)\n",
      "../data1/ucy-zara01/mundo/mun_pos.csv\n",
      "('The numbers of examples is: ', 2356)\n",
      "../data1/ucy-zara02/mundo/mun_pos.csv\n",
      "('The numbers of examples is: ', 5910)\n",
      "../data1/ucy-univ/mundo/mun_pos.csv\n",
      "('The numbers of examples is: ', 10039)\n",
      "\n",
      "\n",
      "\n",
      "('[INF] Sequence length: ', 20)\n",
      "../data1/eth-hotel/mundo/mun_pos.csv\n",
      "('El numero total de ejemplos es: ', 913)\n"
     ]
    }
   ],
   "source": [
    "# Cargamos los argumentos\n",
    "data_dirs = ['../data1/eth-univ', '../data1/eth-hotel',\n",
    "             '../data1/ucy-zara01', '../data1/ucy-zara02',\n",
    "             '../data1/ucy-univ']\n",
    "\n",
    "#list_max_person = [42,28,22,26,68]\n",
    "list_max_person_inter = [5,8,14,14,40]\n",
    "data_train_and_val = process_file_modif_varios_inter(data_dirs, list_max_person_inter, arguments, ',')\n",
    "print(\"\\n\\n\")\n",
    "dir_test = data_dirs[arguments.ind_test]\n",
    "data_test = process_file_modif_inter(dir_test, arguments,',')\n",
    "\n",
    "fo = OpticalFlowSimulator()\n",
    "flujo_test, vis_neigh_test = fo.compute_opticalflow_batch(data_test['obs_person'], data_test['key_idx'], data_test['obs_traj'],arguments.obs_len)\n",
    "data_test.update({\n",
    "    \"obs_flujo\": flujo_test,\n",
    "})"
   ]
  },
  {
   "cell_type": "markdown",
   "metadata": {},
   "source": [
    "# We divide the data"
   ]
  },
  {
   "cell_type": "code",
   "execution_count": 4,
   "metadata": {},
   "outputs": [
    {
     "name": "stdout",
     "output_type": "stream",
     "text": [
      "data_train: 17152\n",
      "data_test: 913\n",
      "data_val: 1492\n"
     ]
    }
   ],
   "source": [
    "#se fija la semilaa\n",
    "import random\n",
    "random.seed(0)\n",
    "\n",
    "# Muestreamos aleatoriamente para separar datos de entrenamiento, validacion y prueba\n",
    "\n",
    "\n",
    "# porcentaje para el conjunto de train\n",
    "prob      = 0.92\n",
    "# La cantidad total de listas de tam 8 del conjunto train and test\n",
    "ndata     = len(data_train_and_val[list(data_train_and_val.keys())[2]])\n",
    "idx       = random.sample(range(ndata), ndata)\n",
    "long1     = int(ndata*prob)\n",
    "long2     = int(ndata-long1)\n",
    "\n",
    "idx_train = idx[0:long1]\n",
    "idx_val   = idx[long1:]\n",
    "\n",
    "\n",
    "# conjunto de entrenamiento\n",
    "data1 = {\n",
    "     \"obs_traj\": data_train_and_val[\"obs_traj\"][idx_train],\n",
    "     \"obs_traj_rel\": data_train_and_val[\"obs_traj_rel\"][idx_train],\n",
    "    \n",
    "     \"pred_traj\": data_train_and_val[\"pred_traj\"][idx_train],\n",
    "     \"pred_traj_rel\": data_train_and_val[\"pred_traj_rel\"][idx_train],\n",
    "    \n",
    "     #\"key_idx\": data_entrena_vali[\"key_idx\"][[idx_train]],\n",
    "     \"obs_flujo\" : data_train_and_val[\"obs_flujo\"][idx_train],\n",
    "     #\"pred_kp\": data_pets[\"pred_kp\"][idx_train],\n",
    "     #\"obs_person\": data_pets[\"obs_person\"][idx_train],\n",
    "}\n",
    "\n",
    "\n",
    "# conjunto de validacion\n",
    "data3 ={\n",
    "     \"obs_traj\": data_train_and_val[\"obs_traj\"][idx_val],\n",
    "     \"obs_traj_rel\": data_train_and_val[\"obs_traj_rel\"][idx_val],\n",
    "     \"pred_traj\": data_train_and_val[\"pred_traj\"][idx_val],\n",
    "     \"pred_traj_rel\": data_train_and_val[\"pred_traj_rel\"][idx_val],\n",
    "     #\"key_idx\": data_entrena_vali[\"key_idx\"][[idx_val]],\n",
    "     \"obs_flujo\" : data_train_and_val[\"obs_flujo\"][idx_val],\n",
    "}\n",
    "\n",
    "\n",
    "#if arguments.add_kp:\n",
    "#  print(data3['obs_person_rel'])\n",
    "\n",
    "print(\"data_train: \"+ str(len(data1[list(data1.keys())[0]])))\n",
    "print(\"data_test: \"+ str(len(data_test[list(data_test.keys())[0]])))\n",
    "print(\"data_val: \"+ str(len(data3[list(data3.keys())[0]])))\n"
   ]
  },
  {
   "cell_type": "markdown",
   "metadata": {},
   "source": [
    "# We keep the division of the data"
   ]
  },
  {
   "cell_type": "code",
   "execution_count": 5,
   "metadata": {},
   "outputs": [],
   "source": [
    "import pickle\n",
    "\n",
    "#conjunto de entrenamiento\n",
    "pickle_out = open(\"data1_FO_ETH-HOTEL_12.pickle\",\"wb\")\n",
    "pickle.dump(data1, pickle_out, protocol=2)\n",
    "pickle_out.close()\n",
    "\n",
    "#conjunto de prueba\n",
    "pickle_out = open(\"data2_FO_ETH-HOTEL_12.pickle\",\"wb\")\n",
    "pickle.dump(data_test, pickle_out, protocol=2)\n",
    "pickle_out.close()\n",
    "\n",
    "#conjunto de validacion\n",
    "pickle_out = open(\"data3_FO_ETH-HOTEL_12.pickle\",\"wb\")\n",
    "pickle.dump(data3, pickle_out, protocol=2)\n",
    "pickle_out.close()"
   ]
  },
  {
   "cell_type": "markdown",
   "metadata": {},
   "source": [
    "# Model parameters"
   ]
  },
  {
   "cell_type": "code",
   "execution_count": 6,
   "metadata": {},
   "outputs": [],
   "source": [
    "class parameters1:\n",
    "    def __init__(self, add_kp = None, add_social=None, train_num_examples=None):\n",
    "        # -----------------\n",
    "        # Similar a como se procesaron los datos\n",
    "        self.obs_len = 8\n",
    "        self.pred_len = 12\n",
    "        if add_kp is None:\n",
    "            print('Parameter add kpp missing')\n",
    "            return\n",
    "        if train_num_examples is None:\n",
    "            print('El parametro train_examples fue olvidado')\n",
    "            return\n",
    "        if add_social is None:\n",
    "            print('Parameter add social missing')\n",
    "            return\n",
    "        \n",
    "        self.add_kp = add_kp\n",
    "        self.train_num_examples = train_num_examples\n",
    "        self.add_social = add_social\n",
    "        \n",
    "        self.kp_num = 18\n",
    "        self.kp_size = 18\n",
    "        \n",
    "        self.num_epochs = 100\n",
    "        self.batch_size = 20 # batch size\n",
    "        self.validate = 300\n",
    "        self.P = 2 # dimensión\n",
    "        self.enc_hidden_size = 128 # el nombre lo dice\n",
    "        self.dec_hidden_size = 128\n",
    "        self.emb_size = 64\n",
    "        self.keep_prob = 0.7 # dropout\n",
    "        \n",
    "        self.min_ped = 1\n",
    "        self.seq_len = self.obs_len + self.pred_len\n",
    "        self.reverse_xy = False\n",
    "        \n",
    "        self.activation_func = tf.nn.tanh\n",
    "        self.activation_func1 = tf.nn.relu\n",
    "        self.is_train = True\n",
    "        self.is_test = False\n",
    "        self.multi_decoder = False\n",
    "        self.modelname = 'gphuctl'\n",
    "        \n",
    "        self.init_lr = 0.002 # 0.01\n",
    "        self.learning_rate_decay = 0.85\n",
    "        self.num_epoch_per_decay = 2.0\n",
    "        self.optimizer = 'adam'\n",
    "        self.emb_lr = 1.0\n",
    "        #self.clip_gradient_norm = 10.0\n",
    "        #Para cuando entreno y quiero guardar el mejor modelo\n",
    "        self.load_best = True"
   ]
  },
  {
   "cell_type": "markdown",
   "metadata": {},
   "source": [
    "# Model training"
   ]
  },
  {
   "cell_type": "code",
   "execution_count": 7,
   "metadata": {},
   "outputs": [
    {
     "name": "stderr",
     "output_type": "stream",
     "text": [
      "WARNING: Logging before flag parsing goes to stderr.\n",
      "W0523 17:40:56.567028 140089525819136 deprecation.py:323] From /home/andrea/Documentos/OF-PathPred/evaluation_opticalflow/lib/model.py:60: __init__ (from tensorflow.python.ops.rnn_cell_impl) is deprecated and will be removed in a future version.\n",
      "Instructions for updating:\n",
      "This class is equivalent as tf.keras.layers.LSTMCell, and will be replaced by that in Tensorflow 2.0.\n",
      "W0523 17:40:56.608419 140089525819136 deprecation.py:323] From /home/andrea/Documentos/OF-PathPred/evaluation_opticalflow/lib/model.py:102: dynamic_rnn (from tensorflow.python.ops.rnn) is deprecated and will be removed in a future version.\n",
      "Instructions for updating:\n",
      "Please use `keras.layers.RNN(cell)`, which is equivalent to this API\n",
      "W0523 17:40:56.705990 140089525819136 deprecation.py:506] From /home/andrea/anaconda2/lib/python2.7/site-packages/tensorflow/python/ops/init_ops.py:1251: calling __init__ (from tensorflow.python.ops.init_ops) with dtype is deprecated and will be removed in a future version.\n",
      "Instructions for updating:\n",
      "Call initializer instance with the dtype argument instead of passing it to the constructor\n",
      "W0523 17:40:56.717744 140089525819136 deprecation.py:506] From /home/andrea/anaconda2/lib/python2.7/site-packages/tensorflow/python/ops/rnn_cell_impl.py:961: calling __init__ (from tensorflow.python.ops.init_ops) with dtype is deprecated and will be removed in a future version.\n",
      "Instructions for updating:\n",
      "Call initializer instance with the dtype argument instead of passing it to the constructor\n",
      "W0523 17:40:57.423650 140089525819136 deprecation.py:323] From /home/andrea/anaconda2/lib/python2.7/site-packages/tensorflow/python/ops/rnn.py:244: where (from tensorflow.python.ops.array_ops) is deprecated and will be removed in a future version.\n",
      "Instructions for updating:\n",
      "Use tf.where in 2.0, which has the same broadcast rule as np.where\n",
      "  0%|          | 0/858 [00:00<?, ?it/s]"
     ]
    },
    {
     "name": "stdout",
     "output_type": "stream",
     "text": [
      "858\n",
      "('Epoca 1.', 'lr:', 0.002)\n",
      "\tsaving model 1...\n"
     ]
    },
    {
     "name": "stderr",
     "output_type": "stream",
     "text": [
      "\n",
      "  0%|          | 0/75 [00:00<?, ?it/s]\u001b[A"
     ]
    },
    {
     "name": "stdout",
     "output_type": "stream",
     "text": [
      "\tdone\n",
      "Evaluating\n"
     ]
    },
    {
     "name": "stderr",
     "output_type": "stream",
     "text": [
      "\n",
      "  1%|1         | 1/75 [00:00<00:29,  2.47it/s]\u001b[A\n",
      "  5%|5         | 4/75 [00:00<00:20,  3.40it/s]\u001b[A\n",
      " 12%|#2        | 9/75 [00:00<00:14,  4.70it/s]\u001b[A\n",
      " 20%|##        | 15/75 [00:00<00:09,  6.47it/s]\u001b[A\n",
      " 24%|##4       | 18/75 [00:00<00:06,  8.39it/s]\u001b[A\n",
      " 28%|##8       | 21/75 [00:00<00:05, 10.42it/s]\u001b[A\n",
      " 32%|###2      | 24/75 [00:01<00:04, 12.61it/s]\u001b[A\n",
      " 36%|###6      | 27/75 [00:01<00:03, 14.52it/s]\u001b[A\n",
      " 40%|####      | 30/75 [00:01<00:02, 16.25it/s]\u001b[A\n",
      " 44%|####4     | 33/75 [00:01<00:02, 17.88it/s]\u001b[A\n",
      " 48%|####8     | 36/75 [00:01<00:02, 19.18it/s]\u001b[A\n",
      " 52%|#####2    | 39/75 [00:01<00:01, 19.77it/s]\u001b[A\n",
      " 56%|#####6    | 42/75 [00:01<00:01, 20.50it/s]\u001b[A\n",
      " 60%|######    | 45/75 [00:02<00:01, 21.89it/s]\u001b[A\n",
      " 67%|######6   | 50/75 [00:02<00:00, 26.14it/s]\u001b[A\n",
      " 75%|#######4  | 56/75 [00:02<00:00, 31.28it/s]\u001b[A\n",
      " 84%|########4 | 63/75 [00:02<00:00, 37.20it/s]\u001b[A\n",
      " 91%|######### | 68/75 [00:02<00:00, 39.88it/s]\u001b[A\n",
      " 97%|#########7| 73/75 [00:02<00:00, 36.25it/s]\u001b[A\n",
      "100%|##########| 75/75 [00:02<00:00, 28.00it/s]\u001b[A"
     ]
    },
    {
     "name": "stdout",
     "output_type": "stream",
     "text": [
      "{'ade': 1.6496253, 'fde': 2.9850152}\n",
      "\t last loss:-1.000000000, eval on validation:['ade: 1.6496253', 'fde: 2.9850152'], (best ade:999999 at step -1) \n",
      "\t saving best model...\n",
      "\t done.\n"
     ]
    },
    {
     "name": "stderr",
     "output_type": "stream",
     "text": [
      " 35%|███▍      | 299/858 [00:19<00:21, 26.20it/s]\n",
      "  0%|          | 0/75 [00:00<?, ?it/s]\u001b[A"
     ]
    },
    {
     "name": "stdout",
     "output_type": "stream",
     "text": [
      "\tsaving model 300...\n",
      "\tdone\n",
      "Evaluating\n"
     ]
    },
    {
     "name": "stderr",
     "output_type": "stream",
     "text": [
      "\n",
      "  8%|8         | 6/75 [00:00<00:01, 57.90it/s]\u001b[A\n",
      " 17%|#7        | 13/75 [00:00<00:01, 60.39it/s]\u001b[A\n",
      " 28%|##8       | 21/75 [00:00<00:00, 64.94it/s]\u001b[A\n",
      " 39%|###8      | 29/75 [00:00<00:00, 68.58it/s]\u001b[A\n",
      " 49%|####9     | 37/75 [00:00<00:00, 70.19it/s]\u001b[A\n",
      " 60%|######    | 45/75 [00:00<00:00, 72.37it/s]\u001b[A\n",
      " 71%|#######   | 53/75 [00:00<00:00, 74.23it/s]\u001b[A\n",
      " 83%|########2 | 62/75 [00:00<00:00, 76.26it/s]\u001b[A\n",
      " 93%|#########3| 70/75 [00:00<00:00, 76.56it/s]\u001b[A\n",
      "100%|##########| 75/75 [00:01<00:00, 74.41it/s]\u001b[A"
     ]
    },
    {
     "name": "stdout",
     "output_type": "stream",
     "text": [
      "{'ade': 0.47249225, 'fde': 1.0403843}\n",
      "\t last loss:0.000772251, eval on validation:['ade: 0.47249225', 'fde: 1.0403843'], (best ade:1.6496253 at step 1) \n",
      "\t saving best model...\n",
      "\t done.\n"
     ]
    },
    {
     "name": "stderr",
     "output_type": "stream",
     "text": [
      " 70%|██████▉   | 599/858 [00:32<00:09, 26.39it/s]W0523 17:41:32.314949 140089525819136 deprecation.py:323] From /home/andrea/anaconda2/lib/python2.7/site-packages/tensorflow/python/training/saver.py:960: remove_checkpoint (from tensorflow.python.training.checkpoint_management) is deprecated and will be removed in a future version.\n",
      "Instructions for updating:\n",
      "Use standard file APIs to delete files with this prefix.\n",
      "\n",
      "  0%|          | 0/75 [00:00<?, ?it/s]\u001b[A"
     ]
    },
    {
     "name": "stdout",
     "output_type": "stream",
     "text": [
      "\tsaving model 600...\n",
      "\tdone\n",
      "Evaluating\n"
     ]
    },
    {
     "name": "stderr",
     "output_type": "stream",
     "text": [
      "\n",
      "  7%|6         | 5/75 [00:00<00:01, 48.24it/s]\u001b[A\n",
      " 17%|#7        | 13/75 [00:00<00:01, 54.14it/s]\u001b[A\n",
      " 27%|##6       | 20/75 [00:00<00:00, 56.91it/s]\u001b[A\n",
      " 37%|###7      | 28/75 [00:00<00:00, 61.89it/s]\u001b[A\n",
      " 48%|####8     | 36/75 [00:00<00:00, 65.55it/s]\u001b[A\n",
      " 60%|######    | 45/75 [00:00<00:00, 71.24it/s]\u001b[A\n",
      " 72%|#######2  | 54/75 [00:00<00:00, 75.93it/s]\u001b[A\n",
      " 85%|########5 | 64/75 [00:00<00:00, 80.51it/s]\u001b[A\n",
      " 99%|#########8| 74/75 [00:00<00:00, 83.63it/s]\u001b[A\n",
      " 70%|███████   | 602/858 [00:33<00:39,  6.54it/s]A"
     ]
    },
    {
     "name": "stdout",
     "output_type": "stream",
     "text": [
      "{'ade': 0.51708776, 'fde': 1.1524218}\n",
      "\t last loss:0.000875585, eval on validation:['ade: 0.51708776', 'fde: 1.1524218'], (best ade:0.47249225 at step 300) \n"
     ]
    },
    {
     "name": "stderr",
     "output_type": "stream",
     "text": [
      "100%|██████████| 858/858 [00:43<00:00, 19.60it/s]\n",
      "  0%|          | 1/858 [00:00<01:52,  7.64it/s]"
     ]
    },
    {
     "name": "stdout",
     "output_type": "stream",
     "text": [
      "('Epoca 2.', 'lr:', 0.002)\n"
     ]
    },
    {
     "name": "stderr",
     "output_type": "stream",
     "text": [
      "  5%|▍         | 40/858 [00:01<00:32, 25.30it/s]\n",
      "  0%|          | 0/75 [00:00<?, ?it/s]\u001b[A"
     ]
    },
    {
     "name": "stdout",
     "output_type": "stream",
     "text": [
      "\tsaving model 900...\n",
      "\tdone\n",
      "Evaluating\n"
     ]
    },
    {
     "name": "stderr",
     "output_type": "stream",
     "text": [
      "\n",
      " 11%|#         | 8/75 [00:00<00:00, 79.98it/s]\u001b[A\n",
      " 23%|##2       | 17/75 [00:00<00:00, 81.55it/s]\u001b[A\n",
      " 35%|###4      | 26/75 [00:00<00:00, 82.31it/s]\u001b[A\n",
      " 44%|####4     | 33/75 [00:00<00:00, 77.54it/s]\u001b[A\n",
      " 55%|#####4    | 41/75 [00:00<00:00, 78.11it/s]\u001b[A\n",
      " 67%|######6   | 50/75 [00:00<00:00, 79.12it/s]\u001b[A\n",
      " 79%|#######8  | 59/75 [00:00<00:00, 80.04it/s]\u001b[A\n",
      " 91%|######### | 68/75 [00:00<00:00, 80.92it/s]\u001b[A\n",
      "  5%|▌         | 43/858 [00:02<02:02,  6.64it/s][A"
     ]
    },
    {
     "name": "stdout",
     "output_type": "stream",
     "text": [
      "{'ade': 0.5057985, 'fde': 1.1432745}\n",
      "\t last loss:0.000524007, eval on validation:['ade: 0.5057985', 'fde: 1.1432745'], (best ade:0.47249225 at step 300) \n"
     ]
    },
    {
     "name": "stderr",
     "output_type": "stream",
     "text": [
      " 40%|███▉      | 341/858 [00:15<00:25, 20.56it/s]\n",
      "  0%|          | 0/75 [00:00<?, ?it/s]\u001b[A"
     ]
    },
    {
     "name": "stdout",
     "output_type": "stream",
     "text": [
      "\tsaving model 1200...\n",
      "\tdone\n",
      "Evaluating\n"
     ]
    },
    {
     "name": "stderr",
     "output_type": "stream",
     "text": [
      "\n",
      " 12%|#2        | 9/75 [00:00<00:00, 83.51it/s]\u001b[A\n",
      " 25%|##5       | 19/75 [00:00<00:00, 86.25it/s]\u001b[A\n",
      " 37%|###7      | 28/75 [00:00<00:00, 86.94it/s]\u001b[A\n",
      " 49%|####9     | 37/75 [00:00<00:00, 87.56it/s]\u001b[A\n",
      " 61%|######1   | 46/75 [00:00<00:00, 87.79it/s]\u001b[A\n",
      " 72%|#######2  | 54/75 [00:00<00:00, 85.00it/s]\u001b[A\n",
      " 85%|########5 | 64/75 [00:00<00:00, 86.84it/s]\u001b[A\n",
      " 97%|#########7| 73/75 [00:00<00:00, 86.07it/s]\u001b[A\n",
      " 40%|████      | 344/858 [00:16<01:17,  6.66it/s]A"
     ]
    },
    {
     "name": "stdout",
     "output_type": "stream",
     "text": [
      "{'ade': 0.5124069, 'fde': 1.1499757}\n",
      "\t last loss:0.000517310, eval on validation:['ade: 0.5124069', 'fde: 1.1499757'], (best ade:0.47249225 at step 300) \n"
     ]
    },
    {
     "name": "stderr",
     "output_type": "stream",
     "text": [
      " 75%|███████▍  | 640/858 [00:31<00:08, 25.53it/s]\n",
      "  0%|          | 0/75 [00:00<?, ?it/s]\u001b[A"
     ]
    },
    {
     "name": "stdout",
     "output_type": "stream",
     "text": [
      "\tsaving model 1500...\n",
      "\tdone\n",
      "Evaluating\n"
     ]
    },
    {
     "name": "stderr",
     "output_type": "stream",
     "text": [
      "\n",
      " 12%|#2        | 9/75 [00:00<00:00, 87.06it/s]\u001b[A\n",
      " 25%|##5       | 19/75 [00:00<00:00, 88.97it/s]\u001b[A\n",
      " 39%|###8      | 29/75 [00:00<00:00, 90.25it/s]\u001b[A\n",
      " 52%|#####2    | 39/75 [00:00<00:00, 91.21it/s]\u001b[A\n",
      " 65%|######5   | 49/75 [00:00<00:00, 91.67it/s]\u001b[A\n",
      " 79%|#######8  | 59/75 [00:00<00:00, 92.37it/s]\u001b[A\n",
      " 91%|######### | 68/75 [00:00<00:00, 88.08it/s]\u001b[A\n",
      " 75%|███████▌  | 646/858 [00:32<00:23,  9.15it/s]A"
     ]
    },
    {
     "name": "stdout",
     "output_type": "stream",
     "text": [
      "{'ade': 0.502273, 'fde': 1.1365713}\n",
      "\t last loss:0.000363328, eval on validation:['ade: 0.502273', 'fde: 1.1365713'], (best ade:0.47249225 at step 300) \n"
     ]
    },
    {
     "name": "stderr",
     "output_type": "stream",
     "text": [
      "100%|██████████| 858/858 [00:41<00:00, 20.89it/s]\n",
      "  0%|          | 1/858 [00:00<01:42,  8.33it/s]"
     ]
    },
    {
     "name": "stdout",
     "output_type": "stream",
     "text": [
      "('Epoca 3.', 'lr:', 0.0017000001)\n"
     ]
    },
    {
     "name": "stderr",
     "output_type": "stream",
     "text": [
      " 10%|▉         | 82/858 [00:03<00:32, 23.84it/s]\n",
      "  0%|          | 0/75 [00:00<?, ?it/s]\u001b[A"
     ]
    },
    {
     "name": "stdout",
     "output_type": "stream",
     "text": [
      "\tsaving model 1800...\n",
      "\tdone\n",
      "Evaluating\n"
     ]
    },
    {
     "name": "stderr",
     "output_type": "stream",
     "text": [
      "\n",
      " 12%|#2        | 9/75 [00:00<00:00, 82.03it/s]\u001b[A\n",
      " 24%|##4       | 18/75 [00:00<00:00, 82.74it/s]\u001b[A\n",
      " 36%|###6      | 27/75 [00:00<00:00, 83.03it/s]\u001b[A\n",
      " 48%|####8     | 36/75 [00:00<00:00, 83.54it/s]\u001b[A\n",
      " 59%|#####8    | 44/75 [00:00<00:00, 82.44it/s]\u001b[A\n",
      " 69%|######9   | 52/75 [00:00<00:00, 80.56it/s]\u001b[A\n",
      " 81%|########1 | 61/75 [00:00<00:00, 80.96it/s]\u001b[A\n",
      " 93%|#########3| 70/75 [00:00<00:00, 82.20it/s]\u001b[A\n",
      " 10%|▉         | 85/858 [00:04<01:57,  6.57it/s][A"
     ]
    },
    {
     "name": "stdout",
     "output_type": "stream",
     "text": [
      "{'ade': 0.47897422, 'fde': 1.0640547}\n",
      "\t last loss:0.000991101, eval on validation:['ade: 0.47897422', 'fde: 1.0640547'], (best ade:0.47249225 at step 300) \n"
     ]
    },
    {
     "name": "stderr",
     "output_type": "stream",
     "text": [
      " 45%|████▍     | 382/858 [00:16<00:19, 24.80it/s]\n",
      "  0%|          | 0/75 [00:00<?, ?it/s]\u001b[A"
     ]
    },
    {
     "name": "stdout",
     "output_type": "stream",
     "text": [
      "\tsaving model 2100...\n",
      "\tdone\n",
      "Evaluating\n"
     ]
    },
    {
     "name": "stderr",
     "output_type": "stream",
     "text": [
      "\n",
      " 12%|#2        | 9/75 [00:00<00:00, 86.55it/s]\u001b[A\n",
      " 24%|##4       | 18/75 [00:00<00:00, 86.36it/s]\u001b[A\n",
      " 36%|###6      | 27/75 [00:00<00:00, 85.57it/s]\u001b[A\n",
      " 48%|####8     | 36/75 [00:00<00:00, 83.99it/s]\u001b[A\n",
      " 59%|#####8    | 44/75 [00:00<00:00, 80.57it/s]\u001b[A\n",
      " 71%|#######   | 53/75 [00:00<00:00, 81.66it/s]\u001b[A\n",
      " 83%|########2 | 62/75 [00:00<00:00, 82.86it/s]\u001b[A\n",
      " 95%|#########4| 71/75 [00:00<00:00, 82.64it/s]\u001b[A\n",
      " 45%|████▍     | 385/858 [00:17<01:10,  6.68it/s]A"
     ]
    },
    {
     "name": "stdout",
     "output_type": "stream",
     "text": [
      "{'ade': 0.5118409, 'fde': 1.1655234}\n",
      "\t last loss:0.000378897, eval on validation:['ade: 0.5118409', 'fde: 1.1655234'], (best ade:0.47249225 at step 300) \n"
     ]
    },
    {
     "name": "stderr",
     "output_type": "stream",
     "text": [
      " 79%|███████▉  | 682/858 [00:29<00:06, 25.93it/s]\n",
      "  0%|          | 0/75 [00:00<?, ?it/s]\u001b[A"
     ]
    },
    {
     "name": "stdout",
     "output_type": "stream",
     "text": [
      "\tsaving model 2400...\n",
      "\tdone\n",
      "Evaluating\n"
     ]
    },
    {
     "name": "stderr",
     "output_type": "stream",
     "text": [
      "\n",
      " 12%|#2        | 9/75 [00:00<00:00, 87.43it/s]\u001b[A\n",
      " 25%|##5       | 19/75 [00:00<00:00, 88.45it/s]\u001b[A\n",
      " 39%|###8      | 29/75 [00:00<00:00, 89.70it/s]\u001b[A\n",
      " 49%|####9     | 37/75 [00:00<00:00, 86.35it/s]\u001b[A\n",
      " 63%|######2   | 47/75 [00:00<00:00, 87.62it/s]\u001b[A\n",
      " 76%|#######6  | 57/75 [00:00<00:00, 89.22it/s]\u001b[A\n",
      " 89%|########9 | 67/75 [00:00<00:00, 90.38it/s]\u001b[A\n",
      " 80%|████████  | 688/858 [00:30<00:18,  9.18it/s]A"
     ]
    },
    {
     "name": "stdout",
     "output_type": "stream",
     "text": [
      "{'ade': 0.48233274, 'fde': 1.074505}\n",
      "\t last loss:0.000530513, eval on validation:['ade: 0.48233274', 'fde: 1.074505'], (best ade:0.47249225 at step 300) \n"
     ]
    },
    {
     "name": "stderr",
     "output_type": "stream",
     "text": [
      "100%|██████████| 858/858 [00:37<00:00, 22.74it/s]\n",
      "  0%|          | 1/858 [00:00<01:43,  8.32it/s]"
     ]
    },
    {
     "name": "stdout",
     "output_type": "stream",
     "text": [
      "('Epoca 4.', 'lr:', 0.0017000001)\n"
     ]
    },
    {
     "name": "stderr",
     "output_type": "stream",
     "text": [
      " 14%|█▍        | 124/858 [00:05<00:29, 24.70it/s]\n",
      "  0%|          | 0/75 [00:00<?, ?it/s]\u001b[A"
     ]
    },
    {
     "name": "stdout",
     "output_type": "stream",
     "text": [
      "\tsaving model 2700...\n",
      "\tdone\n",
      "Evaluating\n"
     ]
    },
    {
     "name": "stderr",
     "output_type": "stream",
     "text": [
      "\n",
      " 12%|#2        | 9/75 [00:00<00:00, 83.60it/s]\u001b[A\n",
      " 24%|##4       | 18/75 [00:00<00:00, 82.97it/s]\u001b[A\n",
      " 35%|###4      | 26/75 [00:00<00:00, 79.58it/s]\u001b[A\n",
      " 47%|####6     | 35/75 [00:00<00:00, 80.98it/s]\u001b[A\n",
      " 59%|#####8    | 44/75 [00:00<00:00, 82.04it/s]\u001b[A\n",
      " 71%|#######   | 53/75 [00:00<00:00, 81.92it/s]\u001b[A\n",
      " 83%|########2 | 62/75 [00:00<00:00, 83.30it/s]\u001b[A\n",
      " 95%|#########4| 71/75 [00:00<00:00, 83.54it/s]\u001b[A\n",
      " 15%|█▍        | 127/858 [00:06<01:50,  6.61it/s]A"
     ]
    },
    {
     "name": "stdout",
     "output_type": "stream",
     "text": [
      "{'ade': 0.5315642, 'fde': 1.2060723}\n",
      "\t last loss:0.000321797, eval on validation:['ade: 0.5315642', 'fde: 1.2060723'], (best ade:0.47249225 at step 300) \n"
     ]
    },
    {
     "name": "stderr",
     "output_type": "stream",
     "text": [
      " 49%|████▉     | 424/858 [00:18<00:16, 26.27it/s]\n",
      "  0%|          | 0/75 [00:00<?, ?it/s]\u001b[A"
     ]
    },
    {
     "name": "stdout",
     "output_type": "stream",
     "text": [
      "\tsaving model 3000...\n",
      "\tdone\n",
      "Evaluating\n"
     ]
    },
    {
     "name": "stderr",
     "output_type": "stream",
     "text": [
      "\n",
      " 12%|#2        | 9/75 [00:00<00:00, 89.52it/s]\u001b[A\n",
      " 25%|##5       | 19/75 [00:00<00:00, 90.05it/s]\u001b[A\n",
      " 37%|###7      | 28/75 [00:00<00:00, 87.72it/s]\u001b[A\n",
      " 49%|####9     | 37/75 [00:00<00:00, 88.14it/s]\u001b[A\n",
      " 63%|######2   | 47/75 [00:00<00:00, 89.52it/s]\u001b[A\n",
      " 76%|#######6  | 57/75 [00:00<00:00, 90.82it/s]\u001b[A\n",
      " 88%|########8 | 66/75 [00:00<00:00, 90.01it/s]\u001b[A\n",
      " 50%|█████     | 430/858 [00:19<00:46,  9.17it/s]A"
     ]
    },
    {
     "name": "stdout",
     "output_type": "stream",
     "text": [
      "{'ade': 0.4880707, 'fde': 1.0860184}\n",
      "\t last loss:0.000412626, eval on validation:['ade: 0.4880707', 'fde: 1.0860184'], (best ade:0.47249225 at step 300) \n"
     ]
    },
    {
     "name": "stderr",
     "output_type": "stream",
     "text": [
      " 84%|████████▍ | 724/858 [00:31<00:05, 24.44it/s]\n",
      "  0%|          | 0/75 [00:00<?, ?it/s]\u001b[A"
     ]
    },
    {
     "name": "stdout",
     "output_type": "stream",
     "text": [
      "\tsaving model 3300...\n",
      "\tdone\n",
      "Evaluating\n"
     ]
    },
    {
     "name": "stderr",
     "output_type": "stream",
     "text": [
      "\n",
      " 13%|#3        | 10/75 [00:00<00:00, 91.88it/s]\u001b[A\n",
      " 27%|##6       | 20/75 [00:00<00:00, 91.27it/s]\u001b[A\n",
      " 37%|###7      | 28/75 [00:00<00:00, 87.14it/s]\u001b[A\n",
      " 49%|####9     | 37/75 [00:00<00:00, 87.53it/s]\u001b[A\n",
      " 63%|######2   | 47/75 [00:00<00:00, 89.42it/s]\u001b[A\n",
      " 76%|#######6  | 57/75 [00:00<00:00, 90.44it/s]\u001b[A\n",
      " 89%|########9 | 67/75 [00:00<00:00, 91.42it/s]\u001b[A\n",
      "100%|##########| 75/75 [00:00<00:00, 90.04it/s]\u001b[A"
     ]
    },
    {
     "name": "stdout",
     "output_type": "stream",
     "text": [
      "{'ade': 0.46869802, 'fde': 1.035552}\n",
      "\t last loss:0.000488215, eval on validation:['ade: 0.46869802', 'fde: 1.035552'], (best ade:0.47249225 at step 300) \n",
      "\t saving best model...\n",
      "\t done.\n"
     ]
    },
    {
     "name": "stderr",
     "output_type": "stream",
     "text": [
      "100%|██████████| 858/858 [00:37<00:00, 22.63it/s]\n",
      "  0%|          | 1/858 [00:00<01:31,  9.42it/s]"
     ]
    },
    {
     "name": "stdout",
     "output_type": "stream",
     "text": [
      "('Epoca 5.', 'lr:', 0.0014450002)\n"
     ]
    },
    {
     "name": "stderr",
     "output_type": "stream",
     "text": [
      " 19%|█▉        | 166/858 [00:06<00:27, 24.94it/s]\n",
      "  0%|          | 0/75 [00:00<?, ?it/s]\u001b[A"
     ]
    },
    {
     "name": "stdout",
     "output_type": "stream",
     "text": [
      "\tsaving model 3600...\n",
      "\tdone\n",
      "Evaluating\n"
     ]
    },
    {
     "name": "stderr",
     "output_type": "stream",
     "text": [
      "\n",
      "  8%|8         | 6/75 [00:00<00:01, 56.09it/s]\u001b[A\n",
      " 19%|#8        | 14/75 [00:00<00:00, 61.55it/s]\u001b[A\n",
      " 31%|###       | 23/75 [00:00<00:00, 67.15it/s]\u001b[A\n",
      " 43%|####2     | 32/75 [00:00<00:00, 71.15it/s]\u001b[A\n",
      " 55%|#####4    | 41/75 [00:00<00:00, 74.79it/s]\u001b[A\n",
      " 67%|######6   | 50/75 [00:00<00:00, 76.68it/s]\u001b[A\n",
      " 79%|#######8  | 59/75 [00:00<00:00, 78.19it/s]\u001b[A\n",
      " 91%|######### | 68/75 [00:00<00:00, 80.37it/s]\u001b[A\n",
      "100%|##########| 75/75 [00:00<00:00, 79.87it/s]\u001b[A"
     ]
    },
    {
     "name": "stdout",
     "output_type": "stream",
     "text": [
      "{'ade': 0.46847367, 'fde': 1.0328412}\n",
      "\t last loss:0.000526703, eval on validation:['ade: 0.46847367', 'fde: 1.0328412'], (best ade:0.46869802 at step 3300) \n",
      "\t saving best model...\n",
      "\t done.\n"
     ]
    },
    {
     "name": "stderr",
     "output_type": "stream",
     "text": [
      " 54%|█████▍    | 465/858 [00:20<00:20, 19.50it/s]\n",
      "  0%|          | 0/75 [00:00<?, ?it/s]\u001b[A"
     ]
    },
    {
     "name": "stdout",
     "output_type": "stream",
     "text": [
      "\tsaving model 3900...\n",
      "\tdone\n",
      "Evaluating\n"
     ]
    },
    {
     "name": "stderr",
     "output_type": "stream",
     "text": [
      "\n",
      "  8%|8         | 6/75 [00:00<00:01, 58.55it/s]\u001b[A\n",
      " 19%|#8        | 14/75 [00:00<00:00, 63.22it/s]\u001b[A\n",
      " 29%|##9       | 22/75 [00:00<00:00, 67.32it/s]\u001b[A\n",
      " 40%|####      | 30/75 [00:00<00:00, 69.02it/s]\u001b[A\n",
      " 51%|#####     | 38/75 [00:00<00:00, 71.54it/s]\u001b[A\n",
      " 63%|######2   | 47/75 [00:00<00:00, 75.23it/s]\u001b[A\n",
      " 75%|#######4  | 56/75 [00:00<00:00, 77.91it/s]\u001b[A\n",
      " 85%|########5 | 64/75 [00:00<00:00, 77.29it/s]\u001b[A\n",
      " 97%|#########7| 73/75 [00:00<00:00, 79.45it/s]\u001b[A\n",
      " 55%|█████▍    | 471/858 [00:21<00:49,  7.81it/s]A"
     ]
    },
    {
     "name": "stdout",
     "output_type": "stream",
     "text": [
      "{'ade': 0.51814365, 'fde': 1.1809973}\n",
      "\t last loss:0.000461727, eval on validation:['ade: 0.51814365', 'fde: 1.1809973'], (best ade:0.46847367 at step 3600) \n"
     ]
    },
    {
     "name": "stderr",
     "output_type": "stream",
     "text": [
      " 89%|████████▉ | 766/858 [00:37<00:06, 13.48it/s]"
     ]
    },
    {
     "name": "stdout",
     "output_type": "stream",
     "text": [
      "\tsaving model 4200...\n"
     ]
    },
    {
     "name": "stderr",
     "output_type": "stream",
     "text": [
      "\n",
      "  0%|          | 0/75 [00:00<?, ?it/s]\u001b[A\n",
      "  7%|6         | 5/75 [00:00<00:01, 42.06it/s]\u001b[A"
     ]
    },
    {
     "name": "stdout",
     "output_type": "stream",
     "text": [
      "\tdone\n",
      "Evaluating\n"
     ]
    },
    {
     "name": "stderr",
     "output_type": "stream",
     "text": [
      "\n",
      " 16%|#6        | 12/75 [00:00<00:01, 46.92it/s]\u001b[A\n",
      " 23%|##2       | 17/75 [00:00<00:01, 47.14it/s]\u001b[A\n",
      " 33%|###3      | 25/75 [00:00<00:00, 51.82it/s]\u001b[A\n",
      " 40%|####      | 30/75 [00:00<00:00, 48.85it/s]\u001b[A\n",
      " 52%|#####2    | 39/75 [00:00<00:00, 55.57it/s]\u001b[A\n",
      " 64%|######4   | 48/75 [00:00<00:00, 62.05it/s]\u001b[A\n",
      " 76%|#######6  | 57/75 [00:00<00:00, 67.29it/s]\u001b[A\n",
      " 88%|########8 | 66/75 [00:00<00:00, 72.33it/s]\u001b[A\n",
      " 90%|████████▉ | 771/858 [00:39<00:17,  5.11it/s]A"
     ]
    },
    {
     "name": "stdout",
     "output_type": "stream",
     "text": [
      "{'ade': 0.5014277, 'fde': 1.1306012}\n",
      "\t last loss:0.000473666, eval on validation:['ade: 0.5014277', 'fde: 1.1306012'], (best ade:0.46847367 at step 3600) \n"
     ]
    },
    {
     "name": "stderr",
     "output_type": "stream",
     "text": [
      "100%|██████████| 858/858 [00:42<00:00, 25.96it/s]\n",
      "  0%|          | 1/858 [00:00<01:40,  8.49it/s]"
     ]
    },
    {
     "name": "stdout",
     "output_type": "stream",
     "text": [
      "('Epoca 6.', 'lr:', 0.0014450002)\n"
     ]
    },
    {
     "name": "stderr",
     "output_type": "stream",
     "text": [
      " 24%|██▍       | 208/858 [00:08<00:25, 25.65it/s]\n",
      "  0%|          | 0/75 [00:00<?, ?it/s]\u001b[A"
     ]
    },
    {
     "name": "stdout",
     "output_type": "stream",
     "text": [
      "\tsaving model 4500...\n",
      "\tdone\n",
      "Evaluating\n"
     ]
    },
    {
     "name": "stderr",
     "output_type": "stream",
     "text": [
      "\n",
      " 12%|#2        | 9/75 [00:00<00:00, 88.19it/s]\u001b[A\n",
      " 25%|##5       | 19/75 [00:00<00:00, 89.45it/s]\u001b[A\n",
      " 37%|###7      | 28/75 [00:00<00:00, 89.11it/s]\u001b[A\n",
      " 49%|####9     | 37/75 [00:00<00:00, 88.73it/s]\u001b[A\n",
      " 63%|######2   | 47/75 [00:00<00:00, 89.50it/s]\u001b[A\n",
      " 73%|#######3  | 55/75 [00:00<00:00, 84.09it/s]\u001b[A\n",
      " 87%|########6 | 65/75 [00:00<00:00, 86.43it/s]\u001b[A\n",
      " 25%|██▍       | 214/858 [00:09<01:11,  9.05it/s]A"
     ]
    },
    {
     "name": "stdout",
     "output_type": "stream",
     "text": [
      "{'ade': 0.5211927, 'fde': 1.1873916}\n",
      "\t last loss:0.000385301, eval on validation:['ade: 0.5211927', 'fde: 1.1873916'], (best ade:0.46847367 at step 3600) \n"
     ]
    },
    {
     "name": "stderr",
     "output_type": "stream",
     "text": [
      " 59%|█████▉    | 509/858 [00:22<00:15, 22.68it/s]\n",
      "  0%|          | 0/75 [00:00<?, ?it/s]\u001b[A"
     ]
    },
    {
     "name": "stdout",
     "output_type": "stream",
     "text": [
      "\tsaving model 4800...\n",
      "\tdone\n",
      "Evaluating\n"
     ]
    },
    {
     "name": "stderr",
     "output_type": "stream",
     "text": [
      "\n",
      " 12%|#2        | 9/75 [00:00<00:00, 81.95it/s]\u001b[A\n",
      " 21%|##1       | 16/75 [00:00<00:00, 77.34it/s]\u001b[A\n",
      " 33%|###3      | 25/75 [00:00<00:00, 78.96it/s]\u001b[A\n",
      " 45%|####5     | 34/75 [00:00<00:00, 80.61it/s]\u001b[A\n",
      " 57%|#####7    | 43/75 [00:00<00:00, 81.10it/s]\u001b[A\n",
      " 69%|######9   | 52/75 [00:00<00:00, 82.16it/s]\u001b[A\n",
      " 81%|########1 | 61/75 [00:00<00:00, 81.99it/s]\u001b[A\n",
      " 93%|#########3| 70/75 [00:00<00:00, 82.89it/s]\u001b[A\n",
      " 60%|█████▉    | 512/858 [00:23<00:53,  6.43it/s]A"
     ]
    },
    {
     "name": "stdout",
     "output_type": "stream",
     "text": [
      "{'ade': 0.51863325, 'fde': 1.1684953}\n",
      "\t last loss:0.000444496, eval on validation:['ade: 0.51863325', 'fde: 1.1684953'], (best ade:0.46847367 at step 3600) \n"
     ]
    },
    {
     "name": "stderr",
     "output_type": "stream",
     "text": [
      " 94%|█████████▍| 809/858 [00:35<00:01, 26.35it/s]\n",
      "  0%|          | 0/75 [00:00<?, ?it/s]\u001b[A"
     ]
    },
    {
     "name": "stdout",
     "output_type": "stream",
     "text": [
      "\tsaving model 5100...\n",
      "\tdone\n",
      "Evaluating\n"
     ]
    },
    {
     "name": "stderr",
     "output_type": "stream",
     "text": [
      "\n",
      " 12%|#2        | 9/75 [00:00<00:00, 81.77it/s]\u001b[A\n",
      " 24%|##4       | 18/75 [00:00<00:00, 83.43it/s]\u001b[A\n",
      " 36%|###6      | 27/75 [00:00<00:00, 85.23it/s]\u001b[A\n",
      " 48%|####8     | 36/75 [00:00<00:00, 85.64it/s]\u001b[A\n",
      " 60%|######    | 45/75 [00:00<00:00, 86.63it/s]\u001b[A\n",
      " 73%|#######3  | 55/75 [00:00<00:00, 88.65it/s]\u001b[A\n",
      " 87%|########6 | 65/75 [00:00<00:00, 90.21it/s]\u001b[A\n",
      " 99%|#########8| 74/75 [00:00<00:00, 89.82it/s]\u001b[A\n",
      " 95%|█████████▍| 812/858 [00:36<00:06,  7.10it/s]A"
     ]
    },
    {
     "name": "stdout",
     "output_type": "stream",
     "text": [
      "{'ade': 0.47798714, 'fde': 1.0695555}\n",
      "\t last loss:0.000717717, eval on validation:['ade: 0.47798714', 'fde: 1.0695555'], (best ade:0.46847367 at step 3600) \n"
     ]
    },
    {
     "name": "stderr",
     "output_type": "stream",
     "text": [
      "100%|██████████| 858/858 [00:38<00:00, 22.11it/s]\n",
      "  0%|          | 1/858 [00:00<01:48,  7.88it/s]"
     ]
    },
    {
     "name": "stdout",
     "output_type": "stream",
     "text": [
      "('Epoca 7.', 'lr:', 0.0012282502)\n"
     ]
    },
    {
     "name": "stderr",
     "output_type": "stream",
     "text": [
      " 29%|██▉       | 250/858 [00:09<00:24, 24.53it/s]\n",
      "  0%|          | 0/75 [00:00<?, ?it/s]\u001b[A"
     ]
    },
    {
     "name": "stdout",
     "output_type": "stream",
     "text": [
      "\tsaving model 5400...\n",
      "\tdone\n",
      "Evaluating\n"
     ]
    },
    {
     "name": "stderr",
     "output_type": "stream",
     "text": [
      "\n",
      " 12%|#2        | 9/75 [00:00<00:00, 81.51it/s]\u001b[A\n",
      " 23%|##2       | 17/75 [00:00<00:00, 78.95it/s]\u001b[A\n",
      " 35%|###4      | 26/75 [00:00<00:00, 80.17it/s]\u001b[A\n",
      " 47%|####6     | 35/75 [00:00<00:00, 81.19it/s]\u001b[A\n",
      " 57%|#####7    | 43/75 [00:00<00:00, 80.06it/s]\u001b[A\n",
      " 68%|######8   | 51/75 [00:00<00:00, 79.91it/s]\u001b[A\n",
      " 80%|########  | 60/75 [00:00<00:00, 80.95it/s]\u001b[A\n",
      " 92%|#########2| 69/75 [00:00<00:00, 81.86it/s]\u001b[A\n",
      " 29%|██▉       | 253/858 [00:11<01:32,  6.54it/s]A"
     ]
    },
    {
     "name": "stdout",
     "output_type": "stream",
     "text": [
      "{'ade': 0.4737939, 'fde': 1.0545369}\n",
      "\t last loss:0.000328116, eval on validation:['ade: 0.4737939', 'fde: 1.0545369'], (best ade:0.46847367 at step 3600) \n"
     ]
    },
    {
     "name": "stderr",
     "output_type": "stream",
     "text": [
      " 64%|██████▍   | 549/858 [00:23<00:12, 25.71it/s]\n",
      "  0%|          | 0/75 [00:00<?, ?it/s]\u001b[A"
     ]
    },
    {
     "name": "stdout",
     "output_type": "stream",
     "text": [
      "\tsaving model 5700...\n",
      "\tdone\n",
      "Evaluating\n"
     ]
    },
    {
     "name": "stderr",
     "output_type": "stream",
     "text": [
      "\n",
      " 12%|#2        | 9/75 [00:00<00:00, 82.99it/s]\u001b[A\n",
      " 24%|##4       | 18/75 [00:00<00:00, 82.98it/s]\u001b[A\n",
      " 36%|###6      | 27/75 [00:00<00:00, 81.99it/s]\u001b[A\n",
      " 45%|####5     | 34/75 [00:00<00:00, 74.52it/s]\u001b[A\n",
      " 57%|#####7    | 43/75 [00:00<00:00, 76.43it/s]\u001b[A\n",
      " 69%|######9   | 52/75 [00:00<00:00, 78.92it/s]\u001b[A\n",
      " 81%|########1 | 61/75 [00:00<00:00, 79.75it/s]\u001b[A\n",
      " 93%|#########3| 70/75 [00:00<00:00, 81.44it/s]\u001b[A\n",
      " 65%|██████▍   | 555/858 [00:25<00:35,  8.53it/s]A"
     ]
    },
    {
     "name": "stdout",
     "output_type": "stream",
     "text": [
      "{'ade': 0.53565544, 'fde': 1.2265265}\n",
      "\t last loss:0.000324116, eval on validation:['ade: 0.53565544', 'fde: 1.2265265'], (best ade:0.46847367 at step 3600) \n"
     ]
    },
    {
     "name": "stderr",
     "output_type": "stream",
     "text": [
      " 99%|█████████▉| 849/858 [00:37<00:00, 26.48it/s]\n",
      "  0%|          | 0/75 [00:00<?, ?it/s]\u001b[A"
     ]
    },
    {
     "name": "stdout",
     "output_type": "stream",
     "text": [
      "\tsaving model 6000...\n",
      "\tdone\n",
      "Evaluating\n"
     ]
    },
    {
     "name": "stderr",
     "output_type": "stream",
     "text": [
      "\n",
      " 11%|#         | 8/75 [00:00<00:00, 75.14it/s]\u001b[A\n",
      " 24%|##4       | 18/75 [00:00<00:00, 79.56it/s]\u001b[A\n",
      " 37%|###7      | 28/75 [00:00<00:00, 83.03it/s]\u001b[A\n",
      " 49%|####9     | 37/75 [00:00<00:00, 84.37it/s]\u001b[A\n",
      " 61%|######1   | 46/75 [00:00<00:00, 85.24it/s]\u001b[A\n",
      " 73%|#######3  | 55/75 [00:00<00:00, 85.08it/s]\u001b[A\n",
      " 85%|########5 | 64/75 [00:00<00:00, 85.73it/s]\u001b[A\n",
      " 97%|#########7| 73/75 [00:00<00:00, 86.25it/s]\u001b[A\n",
      "100%|█████████▉| 855/858 [00:38<00:00,  8.82it/s]A"
     ]
    },
    {
     "name": "stdout",
     "output_type": "stream",
     "text": [
      "{'ade': 0.48125136, 'fde': 1.0767411}\n",
      "\t last loss:0.000271484, eval on validation:['ade: 0.48125136', 'fde: 1.0767411'], (best ade:0.46847367 at step 3600) \n"
     ]
    },
    {
     "name": "stderr",
     "output_type": "stream",
     "text": [
      "100%|██████████| 858/858 [00:38<00:00, 10.80it/s]\n",
      "  0%|          | 3/858 [00:00<00:38, 22.27it/s]"
     ]
    },
    {
     "name": "stdout",
     "output_type": "stream",
     "text": [
      "('Epoca 8.', 'lr:', 0.0012282502)\n"
     ]
    },
    {
     "name": "stderr",
     "output_type": "stream",
     "text": [
      " 34%|███▍      | 291/858 [00:11<00:22, 24.81it/s]\n",
      "  0%|          | 0/75 [00:00<?, ?it/s]\u001b[A"
     ]
    },
    {
     "name": "stdout",
     "output_type": "stream",
     "text": [
      "\tsaving model 6300...\n",
      "\tdone\n",
      "Evaluating\n"
     ]
    },
    {
     "name": "stderr",
     "output_type": "stream",
     "text": [
      "\n",
      " 11%|#         | 8/75 [00:00<00:00, 77.13it/s]\u001b[A\n",
      " 23%|##2       | 17/75 [00:00<00:00, 78.93it/s]\u001b[A\n",
      " 33%|###3      | 25/75 [00:00<00:00, 79.14it/s]\u001b[A\n",
      " 45%|####5     | 34/75 [00:00<00:00, 80.36it/s]\u001b[A\n",
      " 57%|#####7    | 43/75 [00:00<00:00, 81.79it/s]\u001b[A\n",
      " 69%|######9   | 52/75 [00:00<00:00, 82.17it/s]\u001b[A\n",
      " 81%|########1 | 61/75 [00:00<00:00, 82.68it/s]\u001b[A\n",
      " 92%|#########2| 69/75 [00:00<00:00, 79.43it/s]\u001b[A\n",
      " 35%|███▍      | 297/858 [00:13<01:07,  8.35it/s]A"
     ]
    },
    {
     "name": "stdout",
     "output_type": "stream",
     "text": [
      "{'ade': 0.51085687, 'fde': 1.1472219}\n",
      "\t last loss:0.000306111, eval on validation:['ade: 0.51085687', 'fde: 1.1472219'], (best ade:0.46847367 at step 3600) \n"
     ]
    },
    {
     "name": "stderr",
     "output_type": "stream",
     "text": [
      " 69%|██████▉   | 591/858 [00:25<00:12, 21.60it/s]\n",
      "  0%|          | 0/75 [00:00<?, ?it/s]\u001b[A"
     ]
    },
    {
     "name": "stdout",
     "output_type": "stream",
     "text": [
      "\tsaving model 6600...\n",
      "\tdone\n",
      "Evaluating\n"
     ]
    },
    {
     "name": "stderr",
     "output_type": "stream",
     "text": [
      "\n",
      " 12%|#2        | 9/75 [00:00<00:00, 86.26it/s]\u001b[A\n",
      " 25%|##5       | 19/75 [00:00<00:00, 88.07it/s]\u001b[A\n",
      " 39%|###8      | 29/75 [00:00<00:00, 89.09it/s]\u001b[A\n",
      " 51%|#####     | 38/75 [00:00<00:00, 87.69it/s]\u001b[A\n",
      " 61%|######1   | 46/75 [00:00<00:00, 82.43it/s]\u001b[A\n",
      " 72%|#######2  | 54/75 [00:00<00:00, 80.79it/s]\u001b[A\n",
      " 83%|########2 | 62/75 [00:00<00:00, 79.93it/s]\u001b[A\n",
      " 93%|#########3| 70/75 [00:00<00:00, 79.44it/s]\u001b[A\n",
      " 70%|██████▉   | 597/858 [00:26<00:31,  8.23it/s]A"
     ]
    },
    {
     "name": "stdout",
     "output_type": "stream",
     "text": [
      "{'ade': 0.49099675, 'fde': 1.1004766}\n",
      "\t last loss:0.000380360, eval on validation:['ade: 0.49099675', 'fde: 1.1004766'], (best ade:0.46847367 at step 3600) \n"
     ]
    },
    {
     "name": "stderr",
     "output_type": "stream",
     "text": [
      "100%|██████████| 858/858 [00:37<00:00, 24.44it/s]\n",
      "  0%|          | 1/858 [00:00<01:28,  9.73it/s]"
     ]
    },
    {
     "name": "stdout",
     "output_type": "stream",
     "text": [
      "('Epoca 9.', 'lr:', 0.0010440127)\n"
     ]
    },
    {
     "name": "stderr",
     "output_type": "stream",
     "text": [
      "  4%|▍         | 34/858 [00:01<00:32, 25.44it/s]\n",
      "  0%|          | 0/75 [00:00<?, ?it/s]\u001b[A"
     ]
    },
    {
     "name": "stdout",
     "output_type": "stream",
     "text": [
      "\tsaving model 6900...\n",
      "\tdone\n",
      "Evaluating\n"
     ]
    },
    {
     "name": "stderr",
     "output_type": "stream",
     "text": [
      "\n",
      " 12%|#2        | 9/75 [00:00<00:00, 85.59it/s]\u001b[A\n",
      " 25%|##5       | 19/75 [00:00<00:00, 87.62it/s]\u001b[A\n",
      " 37%|###7      | 28/75 [00:00<00:00, 87.99it/s]\u001b[A\n",
      " 51%|#####     | 38/75 [00:00<00:00, 89.30it/s]\u001b[A\n",
      " 64%|######4   | 48/75 [00:00<00:00, 90.11it/s]\u001b[A\n",
      " 76%|#######6  | 57/75 [00:00<00:00, 89.63it/s]\u001b[A\n",
      " 89%|########9 | 67/75 [00:00<00:00, 90.40it/s]\u001b[A\n",
      "  4%|▍         | 37/858 [00:02<01:57,  7.01it/s][A"
     ]
    },
    {
     "name": "stdout",
     "output_type": "stream",
     "text": [
      "{'ade': 0.4914853, 'fde': 1.1066226}\n",
      "\t last loss:0.000309511, eval on validation:['ade: 0.4914853', 'fde: 1.1066226'], (best ade:0.46847367 at step 3600) \n"
     ]
    },
    {
     "name": "stderr",
     "output_type": "stream",
     "text": [
      " 39%|███▉      | 333/858 [00:14<00:25, 20.50it/s]\n",
      "  0%|          | 0/75 [00:00<?, ?it/s]\u001b[A"
     ]
    },
    {
     "name": "stdout",
     "output_type": "stream",
     "text": [
      "\tsaving model 7200...\n",
      "\tdone\n",
      "Evaluating\n"
     ]
    },
    {
     "name": "stderr",
     "output_type": "stream",
     "text": [
      "\n",
      " 11%|#         | 8/75 [00:00<00:00, 75.36it/s]\u001b[A\n",
      " 21%|##1       | 16/75 [00:00<00:00, 75.84it/s]\u001b[A\n",
      " 32%|###2      | 24/75 [00:00<00:00, 75.27it/s]\u001b[A\n",
      " 43%|####2     | 32/75 [00:00<00:00, 76.45it/s]\u001b[A\n",
      " 53%|#####3    | 40/75 [00:00<00:00, 76.41it/s]\u001b[A\n",
      " 63%|######2   | 47/75 [00:00<00:00, 72.71it/s]\u001b[A\n",
      " 73%|#######3  | 55/75 [00:00<00:00, 74.14it/s]\u001b[A\n",
      " 84%|########4 | 63/75 [00:00<00:00, 75.73it/s]\u001b[A\n",
      " 96%|#########6| 72/75 [00:00<00:00, 77.37it/s]\u001b[A\n",
      " 40%|███▉      | 339/858 [00:16<01:07,  7.68it/s]A"
     ]
    },
    {
     "name": "stdout",
     "output_type": "stream",
     "text": [
      "{'ade': 0.4937957, 'fde': 1.1091992}\n",
      "\t last loss:0.000245469, eval on validation:['ade: 0.4937957', 'fde: 1.1091992'], (best ade:0.46847367 at step 3600) \n"
     ]
    },
    {
     "name": "stderr",
     "output_type": "stream",
     "text": [
      " 74%|███████▍  | 633/858 [00:30<00:15, 14.49it/s]"
     ]
    },
    {
     "name": "stdout",
     "output_type": "stream",
     "text": [
      "\tsaving model 7500...\n"
     ]
    },
    {
     "name": "stderr",
     "output_type": "stream",
     "text": [
      "\n",
      "  0%|          | 0/75 [00:00<?, ?it/s]\u001b[A\n",
      " 11%|#         | 8/75 [00:00<00:00, 74.98it/s]\u001b[A\n",
      " 21%|##1       | 16/75 [00:00<00:00, 73.78it/s]\u001b[A\n",
      " 32%|###2      | 24/75 [00:00<00:00, 74.14it/s]\u001b[A\n",
      " 41%|####1     | 31/75 [00:00<00:00, 71.71it/s]\u001b[A\n",
      " 51%|#####     | 38/75 [00:00<00:00, 70.46it/s]\u001b[A\n",
      " 61%|######1   | 46/75 [00:00<00:00, 71.21it/s]\u001b[A\n",
      " 72%|#######2  | 54/75 [00:00<00:00, 72.18it/s]\u001b[A\n",
      " 83%|########2 | 62/75 [00:00<00:00, 72.71it/s]\u001b[A\n",
      " 93%|#########3| 70/75 [00:00<00:00, 73.36it/s]\u001b[A\n",
      " 74%|███████▍  | 639/858 [00:32<00:32,  6.84it/s]A"
     ]
    },
    {
     "name": "stdout",
     "output_type": "stream",
     "text": [
      "\tdone\n",
      "Evaluating\n",
      "{'ade': 0.4741274, 'fde': 1.0587666}\n",
      "\t last loss:0.000468031, eval on validation:['ade: 0.4741274', 'fde: 1.0587666'], (best ade:0.46847367 at step 3600) \n"
     ]
    },
    {
     "name": "stderr",
     "output_type": "stream",
     "text": [
      "100%|██████████| 858/858 [00:42<00:00, 20.42it/s]\n",
      "  0%|          | 1/858 [00:00<01:42,  8.39it/s]"
     ]
    },
    {
     "name": "stdout",
     "output_type": "stream",
     "text": [
      "('Epoca 10.', 'lr:', 0.0010440127)\n"
     ]
    },
    {
     "name": "stderr",
     "output_type": "stream",
     "text": [
      "  9%|▉         | 77/858 [00:03<00:34, 22.76it/s]\n",
      "  0%|          | 0/75 [00:00<?, ?it/s]\u001b[A"
     ]
    },
    {
     "name": "stdout",
     "output_type": "stream",
     "text": [
      "\tsaving model 7800...\n",
      "\tdone\n",
      "Evaluating\n"
     ]
    },
    {
     "name": "stderr",
     "output_type": "stream",
     "text": [
      "\n",
      " 11%|#         | 8/75 [00:00<00:00, 75.14it/s]\u001b[A\n",
      " 21%|##1       | 16/75 [00:00<00:00, 75.54it/s]\u001b[A\n",
      " 32%|###2      | 24/75 [00:00<00:00, 75.10it/s]\u001b[A\n",
      " 41%|####1     | 31/75 [00:00<00:00, 73.42it/s]\u001b[A\n",
      " 52%|#####2    | 39/75 [00:00<00:00, 74.45it/s]\u001b[A\n",
      " 64%|######4   | 48/75 [00:00<00:00, 77.91it/s]\u001b[A\n",
      " 75%|#######4  | 56/75 [00:00<00:00, 77.85it/s]\u001b[A\n",
      " 88%|########8 | 66/75 [00:00<00:00, 81.91it/s]\u001b[A\n",
      "  9%|▉         | 80/858 [00:04<02:00,  6.48it/s][A"
     ]
    },
    {
     "name": "stdout",
     "output_type": "stream",
     "text": [
      "{'ade': 0.5490739, 'fde': 1.2638973}\n",
      "\t last loss:0.000486598, eval on validation:['ade: 0.5490739', 'fde: 1.2638973'], (best ade:0.46847367 at step 3600) \n"
     ]
    },
    {
     "name": "stderr",
     "output_type": "stream",
     "text": [
      " 44%|████▍     | 377/858 [00:19<00:30, 15.62it/s]"
     ]
    },
    {
     "name": "stdout",
     "output_type": "stream",
     "text": [
      "\tsaving model 8100...\n"
     ]
    },
    {
     "name": "stderr",
     "output_type": "stream",
     "text": [
      "\n",
      "  0%|          | 0/75 [00:00<?, ?it/s]\u001b[A\n",
      " 13%|#3        | 10/75 [00:00<00:00, 91.71it/s]\u001b[A\n",
      " 23%|##2       | 17/75 [00:00<00:00, 79.04it/s]\u001b[A\n",
      " 31%|###       | 23/75 [00:00<00:00, 69.91it/s]\u001b[A\n",
      " 37%|###7      | 28/75 [00:00<00:00, 58.60it/s]\u001b[A\n",
      " 44%|####4     | 33/75 [00:00<00:00, 50.67it/s]\u001b[A\n",
      " 51%|#####     | 38/75 [00:00<00:00, 48.73it/s]\u001b[A\n",
      " 61%|######1   | 46/75 [00:00<00:00, 54.48it/s]\u001b[A\n",
      " 73%|#######3  | 55/75 [00:00<00:00, 61.45it/s]\u001b[A\n",
      " 87%|########6 | 65/75 [00:01<00:00, 68.48it/s]\u001b[A\n",
      " 99%|#########8| 74/75 [00:01<00:00, 73.40it/s]\u001b[A\n",
      " 45%|████▍     | 382/858 [00:21<01:32,  5.15it/s]A"
     ]
    },
    {
     "name": "stdout",
     "output_type": "stream",
     "text": [
      "\tdone\n",
      "Evaluating\n",
      "{'ade': 0.4902713, 'fde': 1.0897218}\n",
      "\t last loss:0.000315400, eval on validation:['ade: 0.4902713', 'fde: 1.0897218'], (best ade:0.46847367 at step 3600) \n"
     ]
    },
    {
     "name": "stderr",
     "output_type": "stream",
     "text": [
      " 79%|███████▉  | 676/858 [00:36<00:09, 18.93it/s]\n",
      "  0%|          | 0/75 [00:00<?, ?it/s]\u001b[A"
     ]
    },
    {
     "name": "stdout",
     "output_type": "stream",
     "text": [
      "\tsaving model 8400...\n",
      "\tdone\n",
      "Evaluating\n"
     ]
    },
    {
     "name": "stderr",
     "output_type": "stream",
     "text": [
      "\n",
      " 12%|#2        | 9/75 [00:00<00:00, 83.49it/s]\u001b[A\n",
      " 23%|##2       | 17/75 [00:00<00:00, 81.52it/s]\u001b[A\n",
      " 36%|###6      | 27/75 [00:00<00:00, 84.41it/s]\u001b[A\n",
      " 48%|####8     | 36/75 [00:00<00:00, 85.56it/s]\u001b[A\n",
      " 60%|######    | 45/75 [00:00<00:00, 85.76it/s]\u001b[A\n",
      " 73%|#######3  | 55/75 [00:00<00:00, 87.96it/s]\u001b[A\n",
      " 87%|########6 | 65/75 [00:00<00:00, 89.02it/s]\u001b[A\n",
      " 79%|███████▉  | 679/858 [00:37<00:27,  6.55it/s]A"
     ]
    },
    {
     "name": "stdout",
     "output_type": "stream",
     "text": [
      "{'ade': 0.47713095, 'fde': 1.0734109}\n",
      "\t last loss:0.000388926, eval on validation:['ade: 0.47713095', 'fde: 1.0734109'], (best ade:0.46847367 at step 3600) \n"
     ]
    },
    {
     "name": "stderr",
     "output_type": "stream",
     "text": [
      "100%|██████████| 858/858 [00:48<00:00, 15.35it/s]\n",
      "  0%|          | 2/858 [00:00<00:49, 17.35it/s]"
     ]
    },
    {
     "name": "stdout",
     "output_type": "stream",
     "text": [
      "('Epoca 11.', 'lr:', 0.0008874108)\n"
     ]
    },
    {
     "name": "stderr",
     "output_type": "stream",
     "text": [
      " 14%|█▍        | 119/858 [00:05<00:29, 25.36it/s]\n",
      "  0%|          | 0/75 [00:00<?, ?it/s]\u001b[A"
     ]
    },
    {
     "name": "stdout",
     "output_type": "stream",
     "text": [
      "\tsaving model 8700...\n",
      "\tdone\n",
      "Evaluating\n"
     ]
    },
    {
     "name": "stderr",
     "output_type": "stream",
     "text": [
      "\n",
      " 13%|#3        | 10/75 [00:00<00:00, 90.90it/s]\u001b[A\n",
      " 27%|##6       | 20/75 [00:00<00:00, 90.71it/s]\u001b[A\n",
      " 40%|####      | 30/75 [00:00<00:00, 91.20it/s]\u001b[A\n",
      " 52%|#####2    | 39/75 [00:00<00:00, 89.70it/s]\u001b[A\n",
      " 65%|######5   | 49/75 [00:00<00:00, 90.88it/s]\u001b[A\n",
      " 79%|#######8  | 59/75 [00:00<00:00, 91.62it/s]\u001b[A\n",
      " 91%|######### | 68/75 [00:00<00:00, 90.52it/s]\u001b[A\n",
      " 14%|█▍        | 122/858 [00:06<01:45,  7.00it/s]A"
     ]
    },
    {
     "name": "stdout",
     "output_type": "stream",
     "text": [
      "{'ade': 0.4761267, 'fde': 1.0607916}\n",
      "\t last loss:0.000291056, eval on validation:['ade: 0.4761267', 'fde: 1.0607916'], (best ade:0.46847367 at step 3600) \n"
     ]
    },
    {
     "name": "stderr",
     "output_type": "stream",
     "text": [
      " 49%|████▊     | 417/858 [00:19<00:19, 22.75it/s]\n",
      "  0%|          | 0/75 [00:00<?, ?it/s]\u001b[A"
     ]
    },
    {
     "name": "stdout",
     "output_type": "stream",
     "text": [
      "\tsaving model 9000...\n",
      "\tdone\n",
      "Evaluating\n"
     ]
    },
    {
     "name": "stderr",
     "output_type": "stream",
     "text": [
      "\n",
      "  9%|9         | 7/75 [00:00<00:01, 65.98it/s]\u001b[A\n",
      " 17%|#7        | 13/75 [00:00<00:00, 62.07it/s]\u001b[A\n",
      " 24%|##4       | 18/75 [00:00<00:01, 54.75it/s]\u001b[A\n",
      " 32%|###2      | 24/75 [00:00<00:00, 55.25it/s]\u001b[A\n",
      " 41%|####1     | 31/75 [00:00<00:00, 58.10it/s]\u001b[A\n",
      " 49%|####9     | 37/75 [00:00<00:00, 57.80it/s]\u001b[A\n",
      " 57%|#####7    | 43/75 [00:00<00:00, 57.08it/s]\u001b[A\n",
      " 65%|######5   | 49/75 [00:00<00:00, 56.71it/s]\u001b[A\n",
      " 76%|#######6  | 57/75 [00:00<00:00, 61.97it/s]\u001b[A\n",
      " 88%|########8 | 66/75 [00:01<00:00, 67.81it/s]\u001b[A\n",
      " 49%|████▉     | 423/858 [00:20<01:00,  7.18it/s]A"
     ]
    },
    {
     "name": "stdout",
     "output_type": "stream",
     "text": [
      "{'ade': 0.47843632, 'fde': 1.0593774}\n",
      "\t last loss:0.000476792, eval on validation:['ade: 0.47843632', 'fde: 1.0593774'], (best ade:0.46847367 at step 3600) \n"
     ]
    },
    {
     "name": "stderr",
     "output_type": "stream",
     "text": [
      " 84%|████████▎ | 718/858 [00:33<00:05, 26.09it/s]\n",
      "  0%|          | 0/75 [00:00<?, ?it/s]\u001b[A"
     ]
    },
    {
     "name": "stdout",
     "output_type": "stream",
     "text": [
      "\tsaving model 9300...\n",
      "\tdone\n",
      "Evaluating\n"
     ]
    },
    {
     "name": "stderr",
     "output_type": "stream",
     "text": [
      "\n",
      " 13%|#3        | 10/75 [00:00<00:00, 97.63it/s]\u001b[A\n",
      " 27%|##6       | 20/75 [00:00<00:00, 97.36it/s]\u001b[A\n",
      " 40%|####      | 30/75 [00:00<00:00, 97.31it/s]\u001b[A\n",
      " 53%|#####3    | 40/75 [00:00<00:00, 95.95it/s]\u001b[A\n",
      " 67%|######6   | 50/75 [00:00<00:00, 96.48it/s]\u001b[A\n",
      " 80%|########  | 60/75 [00:00<00:00, 93.68it/s]\u001b[A\n",
      " 92%|#########2| 69/75 [00:00<00:00, 88.61it/s]\u001b[A\n",
      " 84%|████████▍ | 724/858 [00:34<00:14,  9.27it/s]A"
     ]
    },
    {
     "name": "stdout",
     "output_type": "stream",
     "text": [
      "{'ade': 0.52543974, 'fde': 1.1922048}\n",
      "\t last loss:0.000496013, eval on validation:['ade: 0.52543974', 'fde: 1.1922048'], (best ade:0.46847367 at step 3600) \n"
     ]
    },
    {
     "name": "stderr",
     "output_type": "stream",
     "text": [
      "100%|██████████| 858/858 [00:39<00:00, 21.60it/s]\n",
      "  0%|          | 2/858 [00:00<00:48, 17.70it/s]"
     ]
    },
    {
     "name": "stdout",
     "output_type": "stream",
     "text": [
      "('Epoca 12.', 'lr:', 0.0008874108)\n"
     ]
    },
    {
     "name": "stderr",
     "output_type": "stream",
     "text": [
      " 19%|█▉        | 161/858 [00:07<00:39, 17.51it/s]"
     ]
    },
    {
     "name": "stdout",
     "output_type": "stream",
     "text": [
      "\tsaving model 9600...\n"
     ]
    },
    {
     "name": "stderr",
     "output_type": "stream",
     "text": [
      "\n",
      "  0%|          | 0/75 [00:00<?, ?it/s]\u001b[A\n",
      "  9%|9         | 7/75 [00:00<00:01, 64.29it/s]\u001b[A"
     ]
    },
    {
     "name": "stdout",
     "output_type": "stream",
     "text": [
      "\tdone\n",
      "Evaluating\n"
     ]
    },
    {
     "name": "stderr",
     "output_type": "stream",
     "text": [
      "\n",
      " 19%|#8        | 14/75 [00:00<00:00, 64.31it/s]\u001b[A\n",
      " 25%|##5       | 19/75 [00:00<00:00, 58.11it/s]\u001b[A\n",
      " 35%|###4      | 26/75 [00:00<00:00, 59.22it/s]\u001b[A\n",
      " 44%|####4     | 33/75 [00:00<00:00, 61.52it/s]\u001b[A\n",
      " 53%|#####3    | 40/75 [00:00<00:00, 61.76it/s]\u001b[A\n",
      " 61%|######1   | 46/75 [00:00<00:00, 49.78it/s]\u001b[A\n",
      " 71%|#######   | 53/75 [00:00<00:00, 53.56it/s]\u001b[A\n",
      " 81%|########1 | 61/75 [00:01<00:00, 57.83it/s]\u001b[A\n",
      " 92%|#########2| 69/75 [00:01<00:00, 61.32it/s]\u001b[A\n",
      " 19%|█▉        | 163/858 [00:09<03:19,  3.48it/s]A"
     ]
    },
    {
     "name": "stdout",
     "output_type": "stream",
     "text": [
      "{'ade': 0.5110853, 'fde': 1.1440573}\n",
      "\t last loss:0.000895437, eval on validation:['ade: 0.5110853', 'fde: 1.1440573'], (best ade:0.46847367 at step 3600) \n"
     ]
    },
    {
     "name": "stderr",
     "output_type": "stream",
     "text": [
      " 54%|█████▎    | 461/858 [00:23<00:17, 23.17it/s]\n",
      "  0%|          | 0/75 [00:00<?, ?it/s]\u001b[A"
     ]
    },
    {
     "name": "stdout",
     "output_type": "stream",
     "text": [
      "\tsaving model 9900...\n",
      "\tdone\n",
      "Evaluating\n"
     ]
    },
    {
     "name": "stderr",
     "output_type": "stream",
     "text": [
      "\n",
      " 12%|#2        | 9/75 [00:00<00:00, 89.23it/s]\u001b[A\n",
      " 24%|##4       | 18/75 [00:00<00:00, 89.20it/s]\u001b[A\n",
      " 36%|###6      | 27/75 [00:00<00:00, 89.07it/s]\u001b[A\n",
      " 48%|####8     | 36/75 [00:00<00:00, 89.09it/s]\u001b[A\n",
      " 60%|######    | 45/75 [00:00<00:00, 89.28it/s]\u001b[A\n",
      " 71%|#######   | 53/75 [00:00<00:00, 84.25it/s]\u001b[A\n",
      " 83%|########2 | 62/75 [00:00<00:00, 85.37it/s]\u001b[A\n",
      " 95%|#########4| 71/75 [00:00<00:00, 86.06it/s]\u001b[A\n",
      " 54%|█████▍    | 464/858 [00:24<00:57,  6.82it/s]A"
     ]
    },
    {
     "name": "stdout",
     "output_type": "stream",
     "text": [
      "{'ade': 0.48611447, 'fde': 1.0836794}\n",
      "\t last loss:0.000479896, eval on validation:['ade: 0.48611447', 'fde: 1.0836794'], (best ade:0.46847367 at step 3600) \n"
     ]
    },
    {
     "name": "stderr",
     "output_type": "stream",
     "text": [
      " 89%|████████▊ | 761/858 [00:35<00:03, 27.55it/s]\n",
      "  0%|          | 0/75 [00:00<?, ?it/s]\u001b[A"
     ]
    },
    {
     "name": "stdout",
     "output_type": "stream",
     "text": [
      "\tsaving model 10200...\n",
      "\tdone\n",
      "Evaluating\n"
     ]
    },
    {
     "name": "stderr",
     "output_type": "stream",
     "text": [
      "\n",
      " 13%|#3        | 10/75 [00:00<00:00, 89.50it/s]\u001b[A\n",
      " 27%|##6       | 20/75 [00:00<00:00, 90.91it/s]\u001b[A\n",
      " 40%|####      | 30/75 [00:00<00:00, 92.39it/s]\u001b[A\n",
      " 53%|#####3    | 40/75 [00:00<00:00, 93.65it/s]\u001b[A\n",
      " 67%|######6   | 50/75 [00:00<00:00, 94.90it/s]\u001b[A\n",
      " 80%|########  | 60/75 [00:00<00:00, 95.89it/s]\u001b[A\n",
      " 93%|#########3| 70/75 [00:00<00:00, 96.02it/s]\u001b[A\n",
      " 89%|████████▉ | 764/858 [00:37<00:12,  7.59it/s]A"
     ]
    },
    {
     "name": "stdout",
     "output_type": "stream",
     "text": [
      "{'ade': 0.48269275, 'fde': 1.0799907}\n",
      "\t last loss:0.000266697, eval on validation:['ade: 0.48269275', 'fde: 1.0799907'], (best ade:0.46847367 at step 3600) \n"
     ]
    },
    {
     "name": "stderr",
     "output_type": "stream",
     "text": [
      "100%|██████████| 858/858 [00:40<00:00, 21.10it/s]\n",
      "  0%|          | 1/858 [00:00<01:32,  9.31it/s]"
     ]
    },
    {
     "name": "stdout",
     "output_type": "stream",
     "text": [
      "('Epoca 13.', 'lr:', 0.0007542992)\n"
     ]
    },
    {
     "name": "stderr",
     "output_type": "stream",
     "text": [
      " 24%|██▎       | 203/858 [00:09<00:28, 22.90it/s]\n",
      "  0%|          | 0/75 [00:00<?, ?it/s]\u001b[A"
     ]
    },
    {
     "name": "stdout",
     "output_type": "stream",
     "text": [
      "\tsaving model 10500...\n",
      "\tdone\n",
      "Evaluating\n"
     ]
    },
    {
     "name": "stderr",
     "output_type": "stream",
     "text": [
      "\n",
      " 12%|#2        | 9/75 [00:00<00:00, 85.20it/s]\u001b[A\n",
      " 24%|##4       | 18/75 [00:00<00:00, 85.51it/s]\u001b[A\n",
      " 35%|###4      | 26/75 [00:00<00:00, 82.53it/s]\u001b[A\n",
      " 43%|####2     | 32/75 [00:00<00:00, 63.96it/s]\u001b[A\n",
      " 51%|#####     | 38/75 [00:00<00:00, 62.04it/s]\u001b[A\n",
      " 63%|######2   | 47/75 [00:00<00:00, 68.07it/s]\u001b[A\n",
      " 75%|#######4  | 56/75 [00:00<00:00, 72.93it/s]\u001b[A\n",
      " 85%|########5 | 64/75 [00:00<00:00, 66.36it/s]\u001b[A\n",
      " 95%|#########4| 71/75 [00:01<00:00, 66.88it/s]\u001b[A\n",
      "100%|##########| 75/75 [00:01<00:00, 70.34it/s]\u001b[A"
     ]
    },
    {
     "name": "stdout",
     "output_type": "stream",
     "text": [
      "{'ade': 0.46768463, 'fde': 1.0356592}\n",
      "\t last loss:0.000597762, eval on validation:['ade: 0.46768463', 'fde: 1.0356592'], (best ade:0.46847367 at step 3600) \n",
      "\t saving best model...\n",
      "\t done.\n"
     ]
    },
    {
     "name": "stderr",
     "output_type": "stream",
     "text": [
      " 59%|█████▊    | 502/858 [00:24<00:12, 27.44it/s]\n",
      "  0%|          | 0/75 [00:00<?, ?it/s]\u001b[A"
     ]
    },
    {
     "name": "stdout",
     "output_type": "stream",
     "text": [
      "\tsaving model 10800...\n",
      "\tdone\n",
      "Evaluating\n"
     ]
    },
    {
     "name": "stderr",
     "output_type": "stream",
     "text": [
      "\n",
      " 11%|#         | 8/75 [00:00<00:00, 73.76it/s]\u001b[A\n",
      " 23%|##2       | 17/75 [00:00<00:00, 76.75it/s]\u001b[A\n",
      " 35%|###4      | 26/75 [00:00<00:00, 78.68it/s]\u001b[A\n",
      " 47%|####6     | 35/75 [00:00<00:00, 80.45it/s]\u001b[A\n",
      " 59%|#####8    | 44/75 [00:00<00:00, 81.39it/s]\u001b[A\n",
      " 71%|#######   | 53/75 [00:00<00:00, 82.21it/s]\u001b[A\n",
      " 83%|########2 | 62/75 [00:00<00:00, 83.10it/s]\u001b[A\n",
      " 95%|#########4| 71/75 [00:00<00:00, 83.28it/s]\u001b[A\n",
      "100%|##########| 75/75 [00:00<00:00, 83.25it/s]\u001b[A"
     ]
    },
    {
     "name": "stdout",
     "output_type": "stream",
     "text": [
      "{'ade': 0.45879406, 'fde': 1.0160232}\n",
      "\t last loss:0.000245601, eval on validation:['ade: 0.45879406', 'fde: 1.0160232'], (best ade:0.46768463 at step 10500) \n",
      "\t saving best model...\n",
      "\t done.\n"
     ]
    },
    {
     "name": "stderr",
     "output_type": "stream",
     "text": [
      " 94%|█████████▎| 803/858 [00:41<00:03, 17.18it/s]\n",
      "  0%|          | 0/75 [00:00<?, ?it/s]\u001b[A"
     ]
    },
    {
     "name": "stdout",
     "output_type": "stream",
     "text": [
      "\tsaving model 11100...\n",
      "\tdone\n",
      "Evaluating\n"
     ]
    },
    {
     "name": "stderr",
     "output_type": "stream",
     "text": [
      "\n",
      " 12%|#2        | 9/75 [00:00<00:00, 87.14it/s]\u001b[A\n",
      " 23%|##2       | 17/75 [00:00<00:00, 81.22it/s]\u001b[A\n",
      " 33%|###3      | 25/75 [00:00<00:00, 77.88it/s]\u001b[A\n",
      " 45%|####5     | 34/75 [00:00<00:00, 79.72it/s]\u001b[A\n",
      " 57%|#####7    | 43/75 [00:00<00:00, 80.94it/s]\u001b[A\n",
      " 69%|######9   | 52/75 [00:00<00:00, 82.88it/s]\u001b[A\n",
      " 81%|########1 | 61/75 [00:00<00:00, 84.15it/s]\u001b[A\n",
      " 95%|#########4| 71/75 [00:00<00:00, 87.25it/s]\u001b[A\n",
      " 94%|█████████▍| 808/858 [00:42<00:08,  6.06it/s]A"
     ]
    },
    {
     "name": "stdout",
     "output_type": "stream",
     "text": [
      "{'ade': 0.4955723, 'fde': 1.1110085}\n",
      "\t last loss:0.000378854, eval on validation:['ade: 0.4955723', 'fde: 1.1110085'], (best ade:0.45879406 at step 10800) \n"
     ]
    },
    {
     "name": "stderr",
     "output_type": "stream",
     "text": [
      "100%|██████████| 858/858 [00:44<00:00, 19.14it/s]\n",
      "  0%|          | 3/858 [00:00<00:35, 24.21it/s]"
     ]
    },
    {
     "name": "stdout",
     "output_type": "stream",
     "text": [
      "('Epoca 14.', 'lr:', 0.0007542992)\n"
     ]
    },
    {
     "name": "stderr",
     "output_type": "stream",
     "text": [
      " 28%|██▊       | 243/858 [00:09<00:23, 26.09it/s]\n",
      "  0%|          | 0/75 [00:00<?, ?it/s]\u001b[A"
     ]
    },
    {
     "name": "stdout",
     "output_type": "stream",
     "text": [
      "\tsaving model 11400...\n",
      "\tdone\n",
      "Evaluating\n"
     ]
    },
    {
     "name": "stderr",
     "output_type": "stream",
     "text": [
      "\n",
      " 12%|#2        | 9/75 [00:00<00:00, 89.17it/s]\u001b[A\n",
      " 24%|##4       | 18/75 [00:00<00:00, 88.40it/s]\u001b[A\n",
      " 37%|###7      | 28/75 [00:00<00:00, 89.04it/s]\u001b[A\n",
      " 49%|####9     | 37/75 [00:00<00:00, 88.56it/s]\u001b[A\n",
      " 61%|######1   | 46/75 [00:00<00:00, 88.28it/s]\u001b[A\n",
      " 73%|#######3  | 55/75 [00:00<00:00, 87.59it/s]\u001b[A\n",
      " 85%|########5 | 64/75 [00:00<00:00, 88.11it/s]\u001b[A\n",
      " 97%|#########7| 73/75 [00:00<00:00, 88.39it/s]\u001b[A\n",
      " 29%|██▉       | 249/858 [00:10<01:09,  8.77it/s]A"
     ]
    },
    {
     "name": "stdout",
     "output_type": "stream",
     "text": [
      "{'ade': 0.47664747, 'fde': 1.0698177}\n",
      "\t last loss:0.000271622, eval on validation:['ade: 0.47664747', 'fde: 1.0698177'], (best ade:0.45879406 at step 10800) \n"
     ]
    },
    {
     "name": "stderr",
     "output_type": "stream",
     "text": [
      " 64%|██████▎   | 545/858 [00:24<00:16, 18.47it/s]"
     ]
    },
    {
     "name": "stdout",
     "output_type": "stream",
     "text": [
      "\tsaving model 11700...\n"
     ]
    },
    {
     "name": "stderr",
     "output_type": "stream",
     "text": [
      "\n",
      "  0%|          | 0/75 [00:00<?, ?it/s]\u001b[A\n",
      "  7%|6         | 5/75 [00:00<00:01, 42.71it/s]\u001b[A"
     ]
    },
    {
     "name": "stdout",
     "output_type": "stream",
     "text": [
      "\tdone\n",
      "Evaluating\n"
     ]
    },
    {
     "name": "stderr",
     "output_type": "stream",
     "text": [
      "\n",
      " 13%|#3        | 10/75 [00:00<00:01, 42.96it/s]\u001b[A\n",
      " 19%|#8        | 14/75 [00:00<00:01, 42.00it/s]\u001b[A\n",
      " 25%|##5       | 19/75 [00:00<00:01, 42.19it/s]\u001b[A\n",
      " 33%|###3      | 25/75 [00:00<00:01, 43.79it/s]\u001b[A\n",
      " 39%|###8      | 29/75 [00:00<00:01, 35.67it/s]\u001b[A\n",
      " 47%|####6     | 35/75 [00:00<00:01, 39.64it/s]\u001b[A\n",
      " 56%|#####6    | 42/75 [00:00<00:00, 45.28it/s]\u001b[A\n",
      " 65%|######5   | 49/75 [00:01<00:00, 48.91it/s]\u001b[A\n",
      " 73%|#######3  | 55/75 [00:01<00:00, 44.04it/s]\u001b[A\n",
      " 83%|########2 | 62/75 [00:01<00:00, 48.43it/s]\u001b[A\n",
      " 92%|#########2| 69/75 [00:01<00:00, 53.34it/s]\u001b[A\n",
      " 64%|██████▍   | 547/858 [00:26<01:43,  2.99it/s]A"
     ]
    },
    {
     "name": "stdout",
     "output_type": "stream",
     "text": [
      "{'ade': 0.49569973, 'fde': 1.1207483}\n",
      "\t last loss:0.000458272, eval on validation:['ade: 0.49569973', 'fde: 1.1207483'], (best ade:0.45879406 at step 10800) \n"
     ]
    },
    {
     "name": "stderr",
     "output_type": "stream",
     "text": [
      " 98%|█████████▊| 843/858 [00:41<00:00, 25.33it/s]\n",
      "  0%|          | 0/75 [00:00<?, ?it/s]\u001b[A"
     ]
    },
    {
     "name": "stdout",
     "output_type": "stream",
     "text": [
      "\tsaving model 12000...\n",
      "\tdone\n",
      "Evaluating\n"
     ]
    },
    {
     "name": "stderr",
     "output_type": "stream",
     "text": [
      "\n",
      " 13%|#3        | 10/75 [00:00<00:00, 97.79it/s]\u001b[A\n",
      " 27%|##6       | 20/75 [00:00<00:00, 97.34it/s]\u001b[A\n",
      " 40%|####      | 30/75 [00:00<00:00, 97.50it/s]\u001b[A\n",
      " 53%|#####3    | 40/75 [00:00<00:00, 97.57it/s]\u001b[A\n",
      " 67%|######6   | 50/75 [00:00<00:00, 97.60it/s]\u001b[A\n",
      " 80%|########  | 60/75 [00:00<00:00, 97.77it/s]\u001b[A\n",
      " 93%|#########3| 70/75 [00:00<00:00, 97.47it/s]\u001b[A\n",
      " 99%|█████████▉| 849/858 [00:42<00:00,  9.47it/s]A"
     ]
    },
    {
     "name": "stdout",
     "output_type": "stream",
     "text": [
      "{'ade': 0.47801945, 'fde': 1.0599165}\n",
      "\t last loss:0.000801059, eval on validation:['ade: 0.47801945', 'fde: 1.0599165'], (best ade:0.45879406 at step 10800) \n"
     ]
    },
    {
     "name": "stderr",
     "output_type": "stream",
     "text": [
      "100%|██████████| 858/858 [00:43<00:00, 16.61it/s]\n",
      "  0%|          | 3/858 [00:00<00:32, 26.58it/s]"
     ]
    },
    {
     "name": "stdout",
     "output_type": "stream",
     "text": [
      "('Epoca 15.', 'lr:', 0.0006411543)\n"
     ]
    },
    {
     "name": "stderr",
     "output_type": "stream",
     "text": [
      " 33%|███▎      | 287/858 [00:12<00:40, 13.97it/s]"
     ]
    },
    {
     "name": "stdout",
     "output_type": "stream",
     "text": [
      "\tsaving model 12300...\n"
     ]
    },
    {
     "name": "stderr",
     "output_type": "stream",
     "text": [
      "\n",
      "  0%|          | 0/75 [00:00<?, ?it/s]\u001b[A\n",
      "  9%|9         | 7/75 [00:00<00:01, 67.25it/s]\u001b[A"
     ]
    },
    {
     "name": "stdout",
     "output_type": "stream",
     "text": [
      "\tdone\n",
      "Evaluating\n"
     ]
    },
    {
     "name": "stderr",
     "output_type": "stream",
     "text": [
      "\n",
      " 19%|#8        | 14/75 [00:00<00:00, 66.44it/s]\u001b[A\n",
      " 29%|##9       | 22/75 [00:00<00:00, 68.10it/s]\u001b[A\n",
      " 39%|###8      | 29/75 [00:00<00:00, 67.07it/s]\u001b[A\n",
      " 49%|####9     | 37/75 [00:00<00:00, 69.93it/s]\u001b[A\n",
      " 60%|######    | 45/75 [00:00<00:00, 72.48it/s]\u001b[A\n",
      " 69%|######9   | 52/75 [00:00<00:00, 69.85it/s]\u001b[A\n",
      " 79%|#######8  | 59/75 [00:00<00:00, 66.80it/s]\u001b[A\n",
      " 89%|########9 | 67/75 [00:00<00:00, 69.52it/s]\u001b[A\n",
      " 34%|███▎      | 289/858 [00:14<02:27,  3.86it/s]A"
     ]
    },
    {
     "name": "stdout",
     "output_type": "stream",
     "text": [
      "{'ade': 0.47392622, 'fde': 1.0573318}\n",
      "\t last loss:0.000407581, eval on validation:['ade: 0.47392622', 'fde: 1.0573318'], (best ade:0.45879406 at step 10800) \n"
     ]
    },
    {
     "name": "stderr",
     "output_type": "stream",
     "text": [
      " 68%|██████▊   | 587/858 [00:30<00:10, 24.93it/s]\n",
      "  0%|          | 0/75 [00:00<?, ?it/s]\u001b[A"
     ]
    },
    {
     "name": "stdout",
     "output_type": "stream",
     "text": [
      "\tsaving model 12600...\n",
      "\tdone\n",
      "Evaluating\n"
     ]
    },
    {
     "name": "stderr",
     "output_type": "stream",
     "text": [
      "\n",
      " 11%|#         | 8/75 [00:00<00:00, 79.93it/s]\u001b[A\n",
      " 23%|##2       | 17/75 [00:00<00:00, 82.00it/s]\u001b[A\n",
      " 35%|###4      | 26/75 [00:00<00:00, 84.16it/s]\u001b[A\n",
      " 47%|####6     | 35/75 [00:00<00:00, 85.40it/s]\u001b[A\n",
      " 59%|#####8    | 44/75 [00:00<00:00, 86.34it/s]\u001b[A\n",
      " 71%|#######   | 53/75 [00:00<00:00, 86.70it/s]\u001b[A\n",
      " 81%|########1 | 61/75 [00:00<00:00, 83.40it/s]\u001b[A\n",
      " 92%|#########2| 69/75 [00:00<00:00, 82.05it/s]\u001b[A\n",
      " 69%|██████▉   | 590/858 [00:31<00:40,  6.65it/s]A"
     ]
    },
    {
     "name": "stdout",
     "output_type": "stream",
     "text": [
      "{'ade': 0.47139835, 'fde': 1.045387}\n",
      "\t last loss:0.000447687, eval on validation:['ade: 0.47139835', 'fde: 1.045387'], (best ade:0.45879406 at step 10800) \n"
     ]
    },
    {
     "name": "stderr",
     "output_type": "stream",
     "text": [
      "100%|██████████| 858/858 [00:43<00:00, 19.58it/s]\n",
      "  0%|          | 2/858 [00:00<00:57, 14.81it/s]"
     ]
    },
    {
     "name": "stdout",
     "output_type": "stream",
     "text": [
      "('Epoca 16.', 'lr:', 0.0006411543)\n"
     ]
    },
    {
     "name": "stderr",
     "output_type": "stream",
     "text": [
      "  3%|▎         | 29/858 [00:01<00:39, 21.18it/s]"
     ]
    },
    {
     "name": "stdout",
     "output_type": "stream",
     "text": [
      "\tsaving model 12900...\n"
     ]
    },
    {
     "name": "stderr",
     "output_type": "stream",
     "text": [
      "\n",
      "  0%|          | 0/75 [00:00<?, ?it/s]\u001b[A\n",
      "  9%|9         | 7/75 [00:00<00:01, 60.25it/s]\u001b[A"
     ]
    },
    {
     "name": "stdout",
     "output_type": "stream",
     "text": [
      "\tdone\n",
      "Evaluating\n"
     ]
    },
    {
     "name": "stderr",
     "output_type": "stream",
     "text": [
      "\n",
      " 17%|#7        | 13/75 [00:00<00:01, 58.39it/s]\u001b[A\n",
      " 27%|##6       | 20/75 [00:00<00:00, 61.24it/s]\u001b[A\n",
      " 37%|###7      | 28/75 [00:00<00:00, 63.68it/s]\u001b[A\n",
      " 47%|####6     | 35/75 [00:00<00:00, 65.32it/s]\u001b[A\n",
      " 57%|#####7    | 43/75 [00:00<00:00, 67.11it/s]\u001b[A\n",
      " 68%|######8   | 51/75 [00:00<00:00, 68.21it/s]\u001b[A\n",
      " 79%|#######8  | 59/75 [00:00<00:00, 69.06it/s]\u001b[A\n",
      " 89%|########9 | 67/75 [00:00<00:00, 69.73it/s]\u001b[A\n",
      " 99%|#########8| 74/75 [00:01<00:00, 67.09it/s]\u001b[A\n",
      "  4%|▎         | 32/858 [00:02<02:31,  5.46it/s][A"
     ]
    },
    {
     "name": "stdout",
     "output_type": "stream",
     "text": [
      "{'ade': 0.48219323, 'fde': 1.0880545}\n",
      "\t last loss:0.000423672, eval on validation:['ade: 0.48219323', 'fde: 1.0880545'], (best ade:0.45879406 at step 10800) \n"
     ]
    },
    {
     "name": "stderr",
     "output_type": "stream",
     "text": [
      " 38%|███▊      | 329/858 [00:16<00:25, 20.90it/s]"
     ]
    },
    {
     "name": "stdout",
     "output_type": "stream",
     "text": [
      "\tsaving model 13200...\n"
     ]
    },
    {
     "name": "stderr",
     "output_type": "stream",
     "text": [
      "\n",
      "  0%|          | 0/75 [00:00<?, ?it/s]\u001b[A\n",
      " 11%|#         | 8/75 [00:00<00:00, 72.96it/s]\u001b[A"
     ]
    },
    {
     "name": "stdout",
     "output_type": "stream",
     "text": [
      "\tdone\n",
      "Evaluating\n"
     ]
    },
    {
     "name": "stderr",
     "output_type": "stream",
     "text": [
      "\n",
      " 20%|##        | 15/75 [00:00<00:00, 71.28it/s]\u001b[A\n",
      " 31%|###       | 23/75 [00:00<00:00, 71.16it/s]\u001b[A\n",
      " 41%|####1     | 31/75 [00:00<00:00, 71.41it/s]\u001b[A\n",
      " 51%|#####     | 38/75 [00:00<00:00, 68.17it/s]\u001b[A\n",
      " 60%|######    | 45/75 [00:00<00:00, 66.88it/s]\u001b[A\n",
      " 72%|#######2  | 54/75 [00:00<00:00, 70.99it/s]\u001b[A\n",
      " 85%|########5 | 64/75 [00:00<00:00, 77.24it/s]\u001b[A\n",
      " 99%|#########8| 74/75 [00:00<00:00, 81.99it/s]\u001b[A\n",
      " 39%|███▊      | 332/858 [00:18<01:27,  6.01it/s]A"
     ]
    },
    {
     "name": "stdout",
     "output_type": "stream",
     "text": [
      "{'ade': 0.46843016, 'fde': 1.0443283}\n",
      "\t last loss:0.000363802, eval on validation:['ade: 0.46843016', 'fde: 1.0443283'], (best ade:0.45879406 at step 10800) \n"
     ]
    },
    {
     "name": "stderr",
     "output_type": "stream",
     "text": [
      " 73%|███████▎  | 629/858 [00:29<00:08, 27.29it/s]\n",
      "  0%|          | 0/75 [00:00<?, ?it/s]\u001b[A"
     ]
    },
    {
     "name": "stdout",
     "output_type": "stream",
     "text": [
      "\tsaving model 13500...\n",
      "\tdone\n",
      "Evaluating\n"
     ]
    },
    {
     "name": "stderr",
     "output_type": "stream",
     "text": [
      "\n",
      " 15%|#4        | 11/75 [00:00<00:00, 100.12it/s]\u001b[A\n",
      " 28%|##8       | 21/75 [00:00<00:00, 99.09it/s] \u001b[A\n",
      " 41%|####1     | 31/75 [00:00<00:00, 97.78it/s]\u001b[A\n",
      " 53%|#####3    | 40/75 [00:00<00:00, 93.69it/s]\u001b[A\n",
      " 67%|######6   | 50/75 [00:00<00:00, 94.58it/s]\u001b[A\n",
      " 80%|########  | 60/75 [00:00<00:00, 95.45it/s]\u001b[A\n",
      " 93%|#########3| 70/75 [00:00<00:00, 95.83it/s]\u001b[A\n",
      " 74%|███████▎  | 632/858 [00:30<00:29,  7.54it/s]A"
     ]
    },
    {
     "name": "stdout",
     "output_type": "stream",
     "text": [
      "{'ade': 0.49327424, 'fde': 1.1128372}\n",
      "\t last loss:0.000926143, eval on validation:['ade: 0.49327424', 'fde: 1.1128372'], (best ade:0.45879406 at step 10800) \n"
     ]
    },
    {
     "name": "stderr",
     "output_type": "stream",
     "text": [
      "100%|██████████| 858/858 [00:38<00:00, 22.13it/s]\n",
      "  0%|          | 2/858 [00:00<00:56, 15.03it/s]"
     ]
    },
    {
     "name": "stdout",
     "output_type": "stream",
     "text": [
      "('Epoca 17.', 'lr:', 0.0005449812)\n"
     ]
    },
    {
     "name": "stderr",
     "output_type": "stream",
     "text": [
      "  8%|▊         | 71/858 [00:02<00:30, 25.88it/s]\n",
      "  0%|          | 0/75 [00:00<?, ?it/s]\u001b[A"
     ]
    },
    {
     "name": "stdout",
     "output_type": "stream",
     "text": [
      "\tsaving model 13800...\n",
      "\tdone\n",
      "Evaluating\n"
     ]
    },
    {
     "name": "stderr",
     "output_type": "stream",
     "text": [
      "\n",
      " 12%|#2        | 9/75 [00:00<00:00, 86.72it/s]\u001b[A\n",
      " 24%|##4       | 18/75 [00:00<00:00, 87.22it/s]\u001b[A\n",
      " 36%|###6      | 27/75 [00:00<00:00, 87.31it/s]\u001b[A\n",
      " 48%|####8     | 36/75 [00:00<00:00, 87.33it/s]\u001b[A\n",
      " 60%|######    | 45/75 [00:00<00:00, 88.10it/s]\u001b[A\n",
      " 72%|#######2  | 54/75 [00:00<00:00, 88.36it/s]\u001b[A\n",
      " 84%|########4 | 63/75 [00:00<00:00, 88.55it/s]\u001b[A\n",
      " 96%|#########6| 72/75 [00:00<00:00, 88.78it/s]\u001b[A\n",
      "  9%|▊         | 74/858 [00:04<01:53,  6.89it/s][A"
     ]
    },
    {
     "name": "stdout",
     "output_type": "stream",
     "text": [
      "{'ade': 0.4835113, 'fde': 1.0882849}\n",
      "\t last loss:0.000525543, eval on validation:['ade: 0.4835113', 'fde: 1.0882849'], (best ade:0.45879406 at step 10800) \n"
     ]
    },
    {
     "name": "stderr",
     "output_type": "stream",
     "text": [
      " 43%|████▎     | 371/858 [00:16<00:23, 21.08it/s]"
     ]
    },
    {
     "name": "stdout",
     "output_type": "stream",
     "text": [
      "\tsaving model 14100...\n"
     ]
    },
    {
     "name": "stderr",
     "output_type": "stream",
     "text": [
      "\n",
      "  0%|          | 0/75 [00:00<?, ?it/s]\u001b[A\n",
      " 11%|#         | 8/75 [00:00<00:00, 71.76it/s]\u001b[A\n",
      " 21%|##1       | 16/75 [00:00<00:00, 71.52it/s]\u001b[A\n",
      " 32%|###2      | 24/75 [00:00<00:00, 71.49it/s]\u001b[A\n",
      " 43%|####2     | 32/75 [00:00<00:00, 71.30it/s]\u001b[A\n",
      " 53%|#####3    | 40/75 [00:00<00:00, 71.50it/s]\u001b[A\n",
      " 63%|######2   | 47/75 [00:00<00:00, 67.79it/s]\u001b[A\n",
      " 72%|#######2  | 54/75 [00:00<00:00, 67.86it/s]\u001b[A\n",
      " 81%|########1 | 61/75 [00:00<00:00, 68.46it/s]\u001b[A\n",
      " 92%|#########2| 69/75 [00:00<00:00, 69.34it/s]\u001b[A\n",
      " 44%|████▎     | 374/858 [00:17<01:26,  5.61it/s]A"
     ]
    },
    {
     "name": "stdout",
     "output_type": "stream",
     "text": [
      "\tdone\n",
      "Evaluating\n",
      "{'ade': 0.49307215, 'fde': 1.1057335}\n",
      "\t last loss:0.000469506, eval on validation:['ade: 0.49307215', 'fde: 1.1057335'], (best ade:0.45879406 at step 10800) \n"
     ]
    },
    {
     "name": "stderr",
     "output_type": "stream",
     "text": [
      " 78%|███████▊  | 671/858 [00:32<00:08, 21.16it/s]"
     ]
    },
    {
     "name": "stdout",
     "output_type": "stream",
     "text": [
      "\tsaving model 14400...\n"
     ]
    },
    {
     "name": "stderr",
     "output_type": "stream",
     "text": [
      "\n",
      "  0%|          | 0/75 [00:00<?, ?it/s]\u001b[A\n",
      " 11%|#         | 8/75 [00:00<00:00, 72.47it/s]\u001b[A"
     ]
    },
    {
     "name": "stdout",
     "output_type": "stream",
     "text": [
      "\tdone\n",
      "Evaluating\n"
     ]
    },
    {
     "name": "stderr",
     "output_type": "stream",
     "text": [
      "\n",
      " 20%|##        | 15/75 [00:00<00:00, 71.62it/s]\u001b[A\n",
      " 31%|###       | 23/75 [00:00<00:00, 71.39it/s]\u001b[A\n",
      " 40%|####      | 30/75 [00:00<00:00, 68.40it/s]\u001b[A\n",
      " 49%|####9     | 37/75 [00:00<00:00, 68.75it/s]\u001b[A\n",
      " 60%|######    | 45/75 [00:00<00:00, 69.51it/s]\u001b[A\n",
      " 71%|#######   | 53/75 [00:00<00:00, 69.83it/s]\u001b[A\n",
      " 81%|########1 | 61/75 [00:00<00:00, 70.24it/s]\u001b[A\n",
      " 92%|#########2| 69/75 [00:00<00:00, 70.61it/s]\u001b[A\n",
      " 79%|███████▊  | 674/858 [00:33<00:32,  5.64it/s]A"
     ]
    },
    {
     "name": "stdout",
     "output_type": "stream",
     "text": [
      "{'ade': 0.48396397, 'fde': 1.088388}\n",
      "\t last loss:0.000519316, eval on validation:['ade: 0.48396397', 'fde: 1.088388'], (best ade:0.45879406 at step 10800) \n"
     ]
    },
    {
     "name": "stderr",
     "output_type": "stream",
     "text": [
      "100%|██████████| 858/858 [00:44<00:00, 19.29it/s]\n",
      "  0%|          | 1/858 [00:00<01:39,  8.65it/s]"
     ]
    },
    {
     "name": "stdout",
     "output_type": "stream",
     "text": [
      "('Epoca 18.', 'lr:', 0.0005449812)\n"
     ]
    },
    {
     "name": "stderr",
     "output_type": "stream",
     "text": [
      " 13%|█▎        | 111/858 [00:05<00:35, 20.99it/s]\n",
      "  0%|          | 0/75 [00:00<?, ?it/s]\u001b[A"
     ]
    },
    {
     "name": "stdout",
     "output_type": "stream",
     "text": [
      "\tsaving model 14700...\n",
      "\tdone\n",
      "Evaluating\n"
     ]
    },
    {
     "name": "stderr",
     "output_type": "stream",
     "text": [
      "\n",
      " 13%|#3        | 10/75 [00:00<00:00, 95.10it/s]\u001b[A\n",
      " 24%|##4       | 18/75 [00:00<00:00, 83.75it/s]\u001b[A\n",
      " 32%|###2      | 24/75 [00:00<00:00, 73.71it/s]\u001b[A\n",
      " 45%|####5     | 34/75 [00:00<00:00, 78.70it/s]\u001b[A\n",
      " 56%|#####6    | 42/75 [00:00<00:00, 78.67it/s]\u001b[A\n",
      " 69%|######9   | 52/75 [00:00<00:00, 82.70it/s]\u001b[A\n",
      " 83%|########2 | 62/75 [00:00<00:00, 85.94it/s]\u001b[A\n",
      " 95%|#########4| 71/75 [00:00<00:00, 84.16it/s]\u001b[A\n",
      " 14%|█▎        | 116/858 [00:07<01:36,  7.73it/s]A"
     ]
    },
    {
     "name": "stdout",
     "output_type": "stream",
     "text": [
      "{'ade': 0.4890142, 'fde': 1.0917107}\n",
      "\t last loss:0.000466344, eval on validation:['ade: 0.4890142', 'fde: 1.0917107'], (best ade:0.45879406 at step 10800) \n"
     ]
    },
    {
     "name": "stderr",
     "output_type": "stream",
     "text": [
      " 48%|████▊     | 411/858 [00:19<00:18, 24.27it/s]\n",
      "  0%|          | 0/75 [00:00<?, ?it/s]\u001b[A"
     ]
    },
    {
     "name": "stdout",
     "output_type": "stream",
     "text": [
      "\tsaving model 15000...\n",
      "\tdone\n",
      "Evaluating\n"
     ]
    },
    {
     "name": "stderr",
     "output_type": "stream",
     "text": [
      "\n",
      " 12%|#2        | 9/75 [00:00<00:00, 88.89it/s]\u001b[A\n",
      " 24%|##4       | 18/75 [00:00<00:00, 87.63it/s]\u001b[A\n",
      " 37%|###7      | 28/75 [00:00<00:00, 89.79it/s]\u001b[A\n",
      " 51%|#####     | 38/75 [00:00<00:00, 92.10it/s]\u001b[A\n",
      " 64%|######4   | 48/75 [00:00<00:00, 93.78it/s]\u001b[A\n",
      " 77%|#######7  | 58/75 [00:00<00:00, 94.10it/s]\u001b[A\n",
      " 89%|########9 | 67/75 [00:00<00:00, 89.61it/s]\u001b[A\n",
      " 49%|████▊     | 417/858 [00:20<00:49,  8.91it/s]A"
     ]
    },
    {
     "name": "stdout",
     "output_type": "stream",
     "text": [
      "{'ade': 0.46692795, 'fde': 1.0362065}\n",
      "\t last loss:0.000508997, eval on validation:['ade: 0.46692795', 'fde: 1.0362065'], (best ade:0.45879406 at step 10800) \n"
     ]
    },
    {
     "name": "stderr",
     "output_type": "stream",
     "text": [
      " 83%|████████▎ | 713/858 [00:34<00:07, 19.09it/s]"
     ]
    },
    {
     "name": "stdout",
     "output_type": "stream",
     "text": [
      "\tsaving model 15300...\n"
     ]
    },
    {
     "name": "stderr",
     "output_type": "stream",
     "text": [
      "\n",
      "  0%|          | 0/75 [00:00<?, ?it/s]\u001b[A\n",
      "  9%|9         | 7/75 [00:00<00:00, 68.74it/s]\u001b[A"
     ]
    },
    {
     "name": "stdout",
     "output_type": "stream",
     "text": [
      "\tdone\n",
      "Evaluating\n"
     ]
    },
    {
     "name": "stderr",
     "output_type": "stream",
     "text": [
      "\n",
      " 17%|#7        | 13/75 [00:00<00:00, 65.17it/s]\u001b[A\n",
      " 25%|##5       | 19/75 [00:00<00:00, 61.65it/s]\u001b[A\n",
      " 33%|###3      | 25/75 [00:00<00:00, 61.03it/s]\u001b[A\n",
      " 43%|####2     | 32/75 [00:00<00:00, 60.87it/s]\u001b[A\n",
      " 51%|#####     | 38/75 [00:00<00:00, 60.56it/s]\u001b[A\n",
      " 60%|######    | 45/75 [00:00<00:00, 60.80it/s]\u001b[A\n",
      " 68%|######8   | 51/75 [00:00<00:00, 60.55it/s]\u001b[A\n",
      " 77%|#######7  | 58/75 [00:00<00:00, 60.35it/s]\u001b[A\n",
      " 85%|########5 | 64/75 [00:01<00:00, 57.39it/s]\u001b[A\n",
      " 93%|#########3| 70/75 [00:01<00:00, 46.94it/s]\u001b[A\n",
      " 83%|████████▎ | 715/858 [00:35<00:43,  3.31it/s]A"
     ]
    },
    {
     "name": "stdout",
     "output_type": "stream",
     "text": [
      "{'ade': 0.47751582, 'fde': 1.0624185}\n",
      "\t last loss:0.000501328, eval on validation:['ade: 0.47751582', 'fde: 1.0624185'], (best ade:0.45879406 at step 10800) \n"
     ]
    },
    {
     "name": "stderr",
     "output_type": "stream",
     "text": [
      "100%|██████████| 858/858 [00:43<00:00, 16.82it/s]\n",
      "  0%|          | 2/858 [00:00<00:50, 16.80it/s]"
     ]
    },
    {
     "name": "stdout",
     "output_type": "stream",
     "text": [
      "('Epoca 19.', 'lr:', 0.00046323403)\n"
     ]
    },
    {
     "name": "stderr",
     "output_type": "stream",
     "text": [
      " 18%|█▊        | 155/858 [00:08<00:34, 20.13it/s]"
     ]
    },
    {
     "name": "stdout",
     "output_type": "stream",
     "text": [
      "\tsaving model 15600...\n"
     ]
    },
    {
     "name": "stderr",
     "output_type": "stream",
     "text": [
      "\n",
      "  0%|          | 0/75 [00:00<?, ?it/s]\u001b[A\n",
      "  7%|6         | 5/75 [00:00<00:01, 49.49it/s]\u001b[A"
     ]
    },
    {
     "name": "stdout",
     "output_type": "stream",
     "text": [
      "\tdone\n",
      "Evaluating\n"
     ]
    },
    {
     "name": "stderr",
     "output_type": "stream",
     "text": [
      "\n",
      " 13%|#3        | 10/75 [00:00<00:01, 48.23it/s]\u001b[A\n",
      " 21%|##1       | 16/75 [00:00<00:01, 50.43it/s]\u001b[A\n",
      " 29%|##9       | 22/75 [00:00<00:01, 50.47it/s]\u001b[A\n",
      " 36%|###6      | 27/75 [00:00<00:00, 50.33it/s]\u001b[A\n",
      " 44%|####4     | 33/75 [00:00<00:00, 52.84it/s]\u001b[A\n",
      " 52%|#####2    | 39/75 [00:00<00:00, 53.96it/s]\u001b[A\n",
      " 60%|######    | 45/75 [00:00<00:00, 55.42it/s]\u001b[A\n",
      " 69%|######9   | 52/75 [00:00<00:00, 58.97it/s]\u001b[A\n",
      " 80%|########  | 60/75 [00:01<00:00, 62.06it/s]\u001b[A\n",
      " 89%|########9 | 67/75 [00:01<00:00, 60.36it/s]\u001b[A\n",
      " 99%|#########8| 74/75 [00:01<00:00, 60.92it/s]\u001b[A\n",
      " 18%|█▊        | 158/858 [00:09<02:23,  4.89it/s]A"
     ]
    },
    {
     "name": "stdout",
     "output_type": "stream",
     "text": [
      "{'ade': 0.48882434, 'fde': 1.0963727}\n",
      "\t last loss:0.000252099, eval on validation:['ade: 0.48882434', 'fde: 1.0963727'], (best ade:0.45879406 at step 10800) \n"
     ]
    },
    {
     "name": "stderr",
     "output_type": "stream",
     "text": [
      " 53%|█████▎    | 454/858 [00:23<00:15, 25.66it/s]\n",
      "  0%|          | 0/75 [00:00<?, ?it/s]\u001b[A"
     ]
    },
    {
     "name": "stdout",
     "output_type": "stream",
     "text": [
      "\tsaving model 15900...\n",
      "\tdone\n",
      "Evaluating\n"
     ]
    },
    {
     "name": "stderr",
     "output_type": "stream",
     "text": [
      "\n",
      " 12%|#2        | 9/75 [00:00<00:00, 85.77it/s]\u001b[A\n",
      " 25%|##5       | 19/75 [00:00<00:00, 88.77it/s]\u001b[A\n",
      " 39%|###8      | 29/75 [00:00<00:00, 90.86it/s]\u001b[A\n",
      " 52%|#####2    | 39/75 [00:00<00:00, 92.37it/s]\u001b[A\n",
      " 65%|######5   | 49/75 [00:00<00:00, 92.62it/s]\u001b[A\n",
      " 79%|#######8  | 59/75 [00:00<00:00, 93.02it/s]\u001b[A\n",
      " 92%|#########2| 69/75 [00:00<00:00, 94.17it/s]\u001b[A\n",
      " 54%|█████▎    | 460/858 [00:24<00:42,  9.47it/s]A"
     ]
    },
    {
     "name": "stdout",
     "output_type": "stream",
     "text": [
      "{'ade': 0.50061136, 'fde': 1.11962}\n",
      "\t last loss:0.001398976, eval on validation:['ade: 0.50061136', 'fde: 1.11962'], (best ade:0.45879406 at step 10800) \n"
     ]
    },
    {
     "name": "stderr",
     "output_type": "stream",
     "text": [
      " 88%|████████▊ | 754/858 [00:36<00:04, 22.08it/s]\n",
      "  0%|          | 0/75 [00:00<?, ?it/s]\u001b[A"
     ]
    },
    {
     "name": "stdout",
     "output_type": "stream",
     "text": [
      "\tsaving model 16200...\n",
      "\tdone\n",
      "Evaluating\n"
     ]
    },
    {
     "name": "stderr",
     "output_type": "stream",
     "text": [
      "\n",
      " 12%|#2        | 9/75 [00:00<00:00, 89.11it/s]\u001b[A\n",
      " 24%|##4       | 18/75 [00:00<00:00, 89.36it/s]\u001b[A\n",
      " 36%|###6      | 27/75 [00:00<00:00, 89.04it/s]\u001b[A\n",
      " 48%|####8     | 36/75 [00:00<00:00, 88.66it/s]\u001b[A\n",
      " 60%|######    | 45/75 [00:00<00:00, 88.78it/s]\u001b[A\n",
      " 72%|#######2  | 54/75 [00:00<00:00, 88.44it/s]\u001b[A\n",
      " 84%|########4 | 63/75 [00:00<00:00, 87.92it/s]\u001b[A\n",
      " 96%|#########6| 72/75 [00:00<00:00, 81.73it/s]\u001b[A\n",
      " 89%|████████▊ | 760/858 [00:37<00:11,  8.46it/s]A"
     ]
    },
    {
     "name": "stdout",
     "output_type": "stream",
     "text": [
      "{'ade': 0.47844842, 'fde': 1.0724843}\n",
      "\t last loss:0.000274266, eval on validation:['ade: 0.47844842', 'fde: 1.0724843'], (best ade:0.45879406 at step 10800) \n"
     ]
    },
    {
     "name": "stderr",
     "output_type": "stream",
     "text": [
      "100%|██████████| 858/858 [00:42<00:00, 20.27it/s]\n",
      "  0%|          | 1/858 [00:00<01:30,  9.45it/s]"
     ]
    },
    {
     "name": "stdout",
     "output_type": "stream",
     "text": [
      "('Epoca 20.', 'lr:', 0.00046323403)\n"
     ]
    },
    {
     "name": "stderr",
     "output_type": "stream",
     "text": [
      " 23%|██▎       | 196/858 [00:09<00:31, 20.84it/s]"
     ]
    },
    {
     "name": "stdout",
     "output_type": "stream",
     "text": [
      "\tsaving model 16500...\n"
     ]
    },
    {
     "name": "stderr",
     "output_type": "stream",
     "text": [
      "\n",
      "  0%|          | 0/75 [00:00<?, ?it/s]\u001b[A\n",
      " 11%|#         | 8/75 [00:00<00:00, 72.61it/s]\u001b[A\n",
      " 21%|##1       | 16/75 [00:00<00:00, 72.15it/s]\u001b[A\n",
      " 31%|###       | 23/75 [00:00<00:00, 70.86it/s]\u001b[A\n",
      " 40%|####      | 30/75 [00:00<00:00, 70.49it/s]\u001b[A\n",
      " 51%|#####     | 38/75 [00:00<00:00, 70.87it/s]\u001b[A\n",
      " 60%|######    | 45/75 [00:00<00:00, 70.35it/s]\u001b[A\n",
      " 69%|######9   | 52/75 [00:00<00:00, 66.86it/s]\u001b[A\n",
      " 80%|########  | 60/75 [00:00<00:00, 68.08it/s]\u001b[A\n",
      " 89%|########9 | 67/75 [00:00<00:00, 68.01it/s]\u001b[A\n",
      " 23%|██▎       | 199/858 [00:10<01:58,  5.58it/s]A"
     ]
    },
    {
     "name": "stdout",
     "output_type": "stream",
     "text": [
      "\tdone\n",
      "Evaluating\n",
      "{'ade': 0.4802453, 'fde': 1.0758193}\n",
      "\t last loss:0.000531367, eval on validation:['ade: 0.4802453', 'fde: 1.0758193'], (best ade:0.45879406 at step 10800) \n"
     ]
    },
    {
     "name": "stderr",
     "output_type": "stream",
     "text": [
      " 58%|█████▊    | 495/858 [00:24<00:16, 21.42it/s]"
     ]
    },
    {
     "name": "stdout",
     "output_type": "stream",
     "text": [
      "\tsaving model 16800...\n"
     ]
    },
    {
     "name": "stderr",
     "output_type": "stream",
     "text": [
      "\n",
      "  0%|          | 0/75 [00:00<?, ?it/s]\u001b[A\n",
      " 11%|#         | 8/75 [00:00<00:00, 71.31it/s]\u001b[A\n",
      " 20%|##        | 15/75 [00:00<00:00, 68.05it/s]\u001b[A\n",
      " 29%|##9       | 22/75 [00:00<00:00, 68.61it/s]\u001b[A\n",
      " 40%|####      | 30/75 [00:00<00:00, 69.21it/s]\u001b[A\n",
      " 51%|#####     | 38/75 [00:00<00:00, 69.77it/s]\u001b[A\n",
      " 61%|######1   | 46/75 [00:00<00:00, 70.11it/s]\u001b[A\n",
      " 72%|#######2  | 54/75 [00:00<00:00, 70.34it/s]\u001b[A\n",
      " 81%|########1 | 61/75 [00:00<00:00, 70.18it/s]\u001b[A\n",
      " 92%|#########2| 69/75 [00:00<00:00, 70.31it/s]\u001b[A\n",
      " 58%|█████▊    | 500/858 [00:26<00:50,  7.09it/s]A"
     ]
    },
    {
     "name": "stdout",
     "output_type": "stream",
     "text": [
      "\tdone\n",
      "Evaluating\n",
      "{'ade': 0.47610182, 'fde': 1.069334}\n",
      "\t last loss:0.000455665, eval on validation:['ade: 0.47610182', 'fde: 1.069334'], (best ade:0.45879406 at step 10800) \n"
     ]
    },
    {
     "name": "stderr",
     "output_type": "stream",
     "text": [
      " 93%|█████████▎| 797/858 [00:38<00:02, 27.13it/s]\n",
      "  0%|          | 0/75 [00:00<?, ?it/s]\u001b[A"
     ]
    },
    {
     "name": "stdout",
     "output_type": "stream",
     "text": [
      "\tsaving model 17100...\n",
      "\tdone\n",
      "Evaluating\n"
     ]
    },
    {
     "name": "stderr",
     "output_type": "stream",
     "text": [
      "\n",
      " 13%|#3        | 10/75 [00:00<00:00, 96.88it/s]\u001b[A\n",
      " 27%|##6       | 20/75 [00:00<00:00, 95.80it/s]\u001b[A\n",
      " 37%|###7      | 28/75 [00:00<00:00, 88.91it/s]\u001b[A\n",
      " 51%|#####     | 38/75 [00:00<00:00, 90.73it/s]\u001b[A\n",
      " 64%|######4   | 48/75 [00:00<00:00, 92.46it/s]\u001b[A\n",
      " 77%|#######7  | 58/75 [00:00<00:00, 93.92it/s]\u001b[A\n",
      " 91%|######### | 68/75 [00:00<00:00, 94.72it/s]\u001b[A\n",
      " 93%|█████████▎| 800/858 [00:39<00:07,  7.41it/s]A"
     ]
    },
    {
     "name": "stdout",
     "output_type": "stream",
     "text": [
      "{'ade': 0.49053732, 'fde': 1.1055236}\n",
      "\t last loss:0.000432148, eval on validation:['ade: 0.49053732', 'fde: 1.1055236'], (best ade:0.45879406 at step 10800) \n"
     ]
    },
    {
     "name": "stderr",
     "output_type": "stream",
     "text": [
      "100%|██████████| 858/858 [00:42<00:00, 20.37it/s]\n",
      "  0%|          | 1/858 [00:00<01:31,  9.40it/s]"
     ]
    },
    {
     "name": "stdout",
     "output_type": "stream",
     "text": [
      "('Epoca 21.', 'lr:', 0.00039374892)\n"
     ]
    },
    {
     "name": "stderr",
     "output_type": "stream",
     "text": [
      " 28%|██▊       | 238/858 [00:08<00:22, 27.33it/s]\n",
      "  0%|          | 0/75 [00:00<?, ?it/s]\u001b[A"
     ]
    },
    {
     "name": "stdout",
     "output_type": "stream",
     "text": [
      "\tsaving model 17400...\n",
      "\tdone\n",
      "Evaluating\n"
     ]
    },
    {
     "name": "stderr",
     "output_type": "stream",
     "text": [
      "\n",
      " 12%|#2        | 9/75 [00:00<00:00, 83.56it/s]\u001b[A\n",
      " 25%|##5       | 19/75 [00:00<00:00, 86.88it/s]\u001b[A\n",
      " 39%|###8      | 29/75 [00:00<00:00, 89.62it/s]\u001b[A\n",
      " 52%|#####2    | 39/75 [00:00<00:00, 91.76it/s]\u001b[A\n",
      " 65%|######5   | 49/75 [00:00<00:00, 93.55it/s]\u001b[A\n",
      " 79%|#######8  | 59/75 [00:00<00:00, 94.61it/s]\u001b[A\n",
      " 92%|#########2| 69/75 [00:00<00:00, 95.40it/s]\u001b[A\n",
      " 28%|██▊       | 244/858 [00:10<01:03,  9.65it/s]A"
     ]
    },
    {
     "name": "stdout",
     "output_type": "stream",
     "text": [
      "{'ade': 0.47068742, 'fde': 1.0548903}\n",
      "\t last loss:0.000422375, eval on validation:['ade: 0.47068742', 'fde: 1.0548903'], (best ade:0.45879406 at step 10800) \n"
     ]
    },
    {
     "name": "stderr",
     "output_type": "stream",
     "text": [
      " 63%|██████▎   | 538/858 [00:22<00:12, 25.76it/s]\n",
      "  0%|          | 0/75 [00:00<?, ?it/s]\u001b[A"
     ]
    },
    {
     "name": "stdout",
     "output_type": "stream",
     "text": [
      "\tsaving model 17700...\n",
      "\tdone\n",
      "Evaluating\n"
     ]
    },
    {
     "name": "stderr",
     "output_type": "stream",
     "text": [
      "\n",
      " 13%|#3        | 10/75 [00:00<00:00, 89.41it/s]\u001b[A\n",
      " 25%|##5       | 19/75 [00:00<00:00, 89.27it/s]\u001b[A\n",
      " 37%|###7      | 28/75 [00:00<00:00, 89.18it/s]\u001b[A\n",
      " 49%|####9     | 37/75 [00:00<00:00, 88.83it/s]\u001b[A\n",
      " 61%|######1   | 46/75 [00:00<00:00, 89.13it/s]\u001b[A\n",
      " 73%|#######3  | 55/75 [00:00<00:00, 89.03it/s]\u001b[A\n",
      " 85%|########5 | 64/75 [00:00<00:00, 88.37it/s]\u001b[A\n",
      " 97%|#########7| 73/75 [00:00<00:00, 88.36it/s]\u001b[A\n",
      " 63%|██████▎   | 541/858 [00:23<00:45,  6.91it/s]A"
     ]
    },
    {
     "name": "stdout",
     "output_type": "stream",
     "text": [
      "{'ade': 0.46656922, 'fde': 1.0308799}\n",
      "\t last loss:0.000343868, eval on validation:['ade: 0.46656922', 'fde: 1.0308799'], (best ade:0.45879406 at step 10800) \n"
     ]
    },
    {
     "name": "stderr",
     "output_type": "stream",
     "text": [
      " 98%|█████████▊| 838/858 [00:34<00:00, 25.13it/s]\n",
      "  0%|          | 0/75 [00:00<?, ?it/s]\u001b[A"
     ]
    },
    {
     "name": "stdout",
     "output_type": "stream",
     "text": [
      "\tsaving model 18000...\n",
      "\tdone\n",
      "Evaluating\n"
     ]
    },
    {
     "name": "stderr",
     "output_type": "stream",
     "text": [
      "\n",
      "  9%|9         | 7/75 [00:00<00:01, 67.08it/s]\u001b[A\n",
      " 20%|##        | 15/75 [00:00<00:00, 68.57it/s]\u001b[A\n",
      " 32%|###2      | 24/75 [00:00<00:00, 72.54it/s]\u001b[A\n",
      " 44%|####4     | 33/75 [00:00<00:00, 75.74it/s]\u001b[A\n",
      " 56%|#####6    | 42/75 [00:00<00:00, 78.64it/s]\u001b[A\n",
      " 68%|######8   | 51/75 [00:00<00:00, 80.70it/s]\u001b[A\n",
      " 80%|########  | 60/75 [00:00<00:00, 82.19it/s]\u001b[A\n",
      " 92%|#########2| 69/75 [00:00<00:00, 83.47it/s]\u001b[A\n",
      " 98%|█████████▊| 841/858 [00:36<00:02,  6.61it/s]A"
     ]
    },
    {
     "name": "stdout",
     "output_type": "stream",
     "text": [
      "{'ade': 0.46783552, 'fde': 1.0456358}\n",
      "\t last loss:0.000502231, eval on validation:['ade: 0.46783552', 'fde: 1.0456358'], (best ade:0.45879406 at step 10800) \n"
     ]
    },
    {
     "name": "stderr",
     "output_type": "stream",
     "text": [
      "100%|██████████| 858/858 [00:36<00:00, 23.26it/s]\n",
      "  0%|          | 1/858 [00:00<01:40,  8.57it/s]"
     ]
    },
    {
     "name": "stdout",
     "output_type": "stream",
     "text": [
      "('Epoca 22.', 'lr:', 0.00039374892)\n"
     ]
    },
    {
     "name": "stderr",
     "output_type": "stream",
     "text": [
      " 33%|███▎      | 279/858 [00:12<00:23, 24.32it/s]"
     ]
    },
    {
     "name": "stdout",
     "output_type": "stream",
     "text": [
      "\tsaving model 18300...\n"
     ]
    },
    {
     "name": "stderr",
     "output_type": "stream",
     "text": [
      "\n",
      "  0%|          | 0/75 [00:00<?, ?it/s]\u001b[A\n",
      " 12%|#2        | 9/75 [00:00<00:00, 88.41it/s]\u001b[A"
     ]
    },
    {
     "name": "stdout",
     "output_type": "stream",
     "text": [
      "\tdone\n",
      "Evaluating\n"
     ]
    },
    {
     "name": "stderr",
     "output_type": "stream",
     "text": [
      "\n",
      " 24%|##4       | 18/75 [00:00<00:00, 87.92it/s]\u001b[A\n",
      " 36%|###6      | 27/75 [00:00<00:00, 87.36it/s]\u001b[A\n",
      " 48%|####8     | 36/75 [00:00<00:00, 86.63it/s]\u001b[A\n",
      " 60%|######    | 45/75 [00:00<00:00, 85.32it/s]\u001b[A\n",
      " 72%|#######2  | 54/75 [00:00<00:00, 84.77it/s]\u001b[A\n",
      " 83%|########2 | 62/75 [00:00<00:00, 81.67it/s]\u001b[A\n",
      " 93%|#########3| 70/75 [00:00<00:00, 76.05it/s]\u001b[A\n",
      " 33%|███▎      | 285/858 [00:13<01:11,  7.98it/s]A"
     ]
    },
    {
     "name": "stdout",
     "output_type": "stream",
     "text": [
      "{'ade': 0.46156165, 'fde': 1.0194842}\n",
      "\t last loss:0.000240259, eval on validation:['ade: 0.46156165', 'fde: 1.0194842'], (best ade:0.45879406 at step 10800) \n"
     ]
    },
    {
     "name": "stderr",
     "output_type": "stream",
     "text": [
      " 67%|██████▋   | 579/858 [00:26<00:12, 21.97it/s]\n",
      "  0%|          | 0/75 [00:00<?, ?it/s]\u001b[A"
     ]
    },
    {
     "name": "stdout",
     "output_type": "stream",
     "text": [
      "\tsaving model 18600...\n",
      "\tdone\n",
      "Evaluating\n"
     ]
    },
    {
     "name": "stderr",
     "output_type": "stream",
     "text": [
      "\n",
      " 12%|#2        | 9/75 [00:00<00:00, 86.55it/s]\u001b[A\n",
      " 24%|##4       | 18/75 [00:00<00:00, 85.87it/s]\u001b[A\n",
      " 36%|###6      | 27/75 [00:00<00:00, 84.84it/s]\u001b[A\n",
      " 48%|####8     | 36/75 [00:00<00:00, 84.58it/s]\u001b[A\n",
      " 60%|######    | 45/75 [00:00<00:00, 84.81it/s]\u001b[A\n",
      " 71%|#######   | 53/75 [00:00<00:00, 82.40it/s]\u001b[A\n",
      " 81%|########1 | 61/75 [00:00<00:00, 81.45it/s]\u001b[A\n",
      " 93%|#########3| 70/75 [00:00<00:00, 81.91it/s]\u001b[A\n",
      " 68%|██████▊   | 585/858 [00:27<00:33,  8.27it/s]A"
     ]
    },
    {
     "name": "stdout",
     "output_type": "stream",
     "text": [
      "{'ade': 0.4755861, 'fde': 1.058078}\n",
      "\t last loss:0.000456057, eval on validation:['ade: 0.4755861', 'fde: 1.058078'], (best ade:0.45879406 at step 10800) \n"
     ]
    },
    {
     "name": "stderr",
     "output_type": "stream",
     "text": [
      "100%|██████████| 858/858 [00:40<00:00, 24.32it/s]\n",
      "  0%|          | 2/858 [00:00<00:56, 15.02it/s]"
     ]
    },
    {
     "name": "stdout",
     "output_type": "stream",
     "text": [
      "('Epoca 23.', 'lr:', 0.0003346866)\n"
     ]
    },
    {
     "name": "stderr",
     "output_type": "stream",
     "text": [
      "  3%|▎         | 23/858 [00:00<00:34, 24.29it/s]\n",
      "  0%|          | 0/75 [00:00<?, ?it/s]\u001b[A"
     ]
    },
    {
     "name": "stdout",
     "output_type": "stream",
     "text": [
      "\tsaving model 18900...\n",
      "\tdone\n",
      "Evaluating\n"
     ]
    },
    {
     "name": "stderr",
     "output_type": "stream",
     "text": [
      "\n",
      " 11%|#         | 8/75 [00:00<00:00, 76.32it/s]\u001b[A\n",
      " 21%|##1       | 16/75 [00:00<00:00, 76.06it/s]\u001b[A\n",
      " 31%|###       | 23/75 [00:00<00:00, 73.48it/s]\u001b[A\n",
      " 40%|####      | 30/75 [00:00<00:00, 72.29it/s]\u001b[A\n",
      " 51%|#####     | 38/75 [00:00<00:00, 73.88it/s]\u001b[A\n",
      " 61%|######1   | 46/75 [00:00<00:00, 75.50it/s]\u001b[A\n",
      " 73%|#######3  | 55/75 [00:00<00:00, 77.89it/s]\u001b[A\n",
      " 85%|########5 | 64/75 [00:00<00:00, 80.95it/s]\u001b[A\n",
      " 97%|#########7| 73/75 [00:00<00:00, 80.54it/s]\u001b[A\n",
      "  3%|▎         | 26/858 [00:02<02:12,  6.29it/s][A"
     ]
    },
    {
     "name": "stdout",
     "output_type": "stream",
     "text": [
      "{'ade': 0.46039245, 'fde': 1.0186427}\n",
      "\t last loss:0.000231320, eval on validation:['ade: 0.46039245', 'fde: 1.0186427'], (best ade:0.45879406 at step 10800) \n"
     ]
    },
    {
     "name": "stderr",
     "output_type": "stream",
     "text": [
      " 38%|███▊      | 323/858 [00:14<00:20, 25.83it/s]\n",
      "  0%|          | 0/75 [00:00<?, ?it/s]\u001b[A"
     ]
    },
    {
     "name": "stdout",
     "output_type": "stream",
     "text": [
      "\tsaving model 19200...\n",
      "\tdone\n",
      "Evaluating\n"
     ]
    },
    {
     "name": "stderr",
     "output_type": "stream",
     "text": [
      "\n",
      " 12%|#2        | 9/75 [00:00<00:00, 89.30it/s]\u001b[A\n",
      " 23%|##2       | 17/75 [00:00<00:00, 85.31it/s]\u001b[A\n",
      " 35%|###4      | 26/75 [00:00<00:00, 86.24it/s]\u001b[A\n",
      " 47%|####6     | 35/75 [00:00<00:00, 86.94it/s]\u001b[A\n",
      " 59%|#####8    | 44/75 [00:00<00:00, 87.69it/s]\u001b[A\n",
      " 71%|#######   | 53/75 [00:00<00:00, 88.18it/s]\u001b[A\n",
      " 83%|########2 | 62/75 [00:00<00:00, 88.39it/s]\u001b[A\n",
      " 95%|#########4| 71/75 [00:00<00:00, 88.19it/s]\u001b[A\n",
      " 38%|███▊      | 326/858 [00:15<01:16,  6.95it/s]A"
     ]
    },
    {
     "name": "stdout",
     "output_type": "stream",
     "text": [
      "{'ade': 0.47599998, 'fde': 1.072707}\n",
      "\t last loss:0.000385564, eval on validation:['ade: 0.47599998', 'fde: 1.072707'], (best ade:0.45879406 at step 10800) \n"
     ]
    },
    {
     "name": "stderr",
     "output_type": "stream",
     "text": [
      " 73%|███████▎  | 623/858 [00:27<00:09, 25.93it/s]\n",
      "  0%|          | 0/75 [00:00<?, ?it/s]\u001b[A"
     ]
    },
    {
     "name": "stdout",
     "output_type": "stream",
     "text": [
      "\tsaving model 19500...\n",
      "\tdone\n",
      "Evaluating\n"
     ]
    },
    {
     "name": "stderr",
     "output_type": "stream",
     "text": [
      "\n",
      " 12%|#2        | 9/75 [00:00<00:00, 89.59it/s]\u001b[A\n",
      " 24%|##4       | 18/75 [00:00<00:00, 88.00it/s]\u001b[A\n",
      " 36%|###6      | 27/75 [00:00<00:00, 85.92it/s]\u001b[A\n",
      " 48%|####8     | 36/75 [00:00<00:00, 86.82it/s]\u001b[A\n",
      " 61%|######1   | 46/75 [00:00<00:00, 87.69it/s]\u001b[A\n",
      " 73%|#######3  | 55/75 [00:00<00:00, 87.94it/s]\u001b[A\n",
      " 87%|########6 | 65/75 [00:00<00:00, 88.66it/s]\u001b[A\n",
      " 99%|#########8| 74/75 [00:00<00:00, 88.75it/s]\u001b[A\n",
      " 73%|███████▎  | 626/858 [00:28<00:33,  6.97it/s]A"
     ]
    },
    {
     "name": "stdout",
     "output_type": "stream",
     "text": [
      "{'ade': 0.46398813, 'fde': 1.0274228}\n",
      "\t last loss:0.000635722, eval on validation:['ade: 0.46398813', 'fde: 1.0274228'], (best ade:0.45879406 at step 10800) \n"
     ]
    },
    {
     "name": "stderr",
     "output_type": "stream",
     "text": [
      "100%|██████████| 858/858 [00:38<00:00, 18.56it/s]\n",
      "  0%|          | 3/858 [00:00<00:40, 21.15it/s]"
     ]
    },
    {
     "name": "stdout",
     "output_type": "stream",
     "text": [
      "('Epoca 24.', 'lr:', 0.0003346866)\n"
     ]
    },
    {
     "name": "stderr",
     "output_type": "stream",
     "text": [
      "  7%|▋         | 64/858 [00:03<00:39, 19.99it/s]\n",
      "  0%|          | 0/75 [00:00<?, ?it/s]\u001b[A"
     ]
    },
    {
     "name": "stdout",
     "output_type": "stream",
     "text": [
      "\tsaving model 19800...\n",
      "\tdone\n",
      "Evaluating\n"
     ]
    },
    {
     "name": "stderr",
     "output_type": "stream",
     "text": [
      "\n",
      " 12%|#2        | 9/75 [00:00<00:00, 88.63it/s]\u001b[A\n",
      " 21%|##1       | 16/75 [00:00<00:00, 79.62it/s]\u001b[A\n",
      " 29%|##9       | 22/75 [00:00<00:00, 70.12it/s]\u001b[A\n",
      " 40%|####      | 30/75 [00:00<00:00, 72.39it/s]\u001b[A\n",
      " 51%|#####     | 38/75 [00:00<00:00, 73.92it/s]\u001b[A\n",
      " 61%|######1   | 46/75 [00:00<00:00, 75.27it/s]\u001b[A\n",
      " 73%|#######3  | 55/75 [00:00<00:00, 78.50it/s]\u001b[A\n",
      " 85%|########5 | 64/75 [00:00<00:00, 81.10it/s]\u001b[A\n",
      " 97%|#########7| 73/75 [00:00<00:00, 83.32it/s]\u001b[A\n",
      "  8%|▊         | 67/858 [00:04<02:07,  6.20it/s][A"
     ]
    },
    {
     "name": "stdout",
     "output_type": "stream",
     "text": [
      "{'ade': 0.4695564, 'fde': 1.0478928}\n",
      "\t last loss:0.000264376, eval on validation:['ade: 0.4695564', 'fde: 1.0478928'], (best ade:0.45879406 at step 10800) \n"
     ]
    },
    {
     "name": "stderr",
     "output_type": "stream",
     "text": [
      " 42%|████▏     | 364/858 [00:16<00:19, 25.68it/s]\n",
      "  0%|          | 0/75 [00:00<?, ?it/s]\u001b[A"
     ]
    },
    {
     "name": "stdout",
     "output_type": "stream",
     "text": [
      "\tsaving model 20100...\n",
      "\tdone\n",
      "Evaluating\n"
     ]
    },
    {
     "name": "stderr",
     "output_type": "stream",
     "text": [
      "\n",
      " 11%|#         | 8/75 [00:00<00:00, 79.44it/s]\u001b[A\n",
      " 23%|##2       | 17/75 [00:00<00:00, 81.56it/s]\u001b[A\n",
      " 35%|###4      | 26/75 [00:00<00:00, 83.73it/s]\u001b[A\n",
      " 47%|####6     | 35/75 [00:00<00:00, 85.40it/s]\u001b[A\n",
      " 59%|#####8    | 44/75 [00:00<00:00, 86.64it/s]\u001b[A\n",
      " 71%|#######   | 53/75 [00:00<00:00, 87.57it/s]\u001b[A\n",
      " 84%|########4 | 63/75 [00:00<00:00, 88.34it/s]\u001b[A\n",
      " 96%|#########6| 72/75 [00:00<00:00, 88.42it/s]\u001b[A\n",
      " 43%|████▎     | 367/858 [00:17<01:10,  6.94it/s]A"
     ]
    },
    {
     "name": "stdout",
     "output_type": "stream",
     "text": [
      "{'ade': 0.46407703, 'fde': 1.0361395}\n",
      "\t last loss:0.000446642, eval on validation:['ade: 0.46407703', 'fde: 1.0361395'], (best ade:0.45879406 at step 10800) \n"
     ]
    },
    {
     "name": "stderr",
     "output_type": "stream",
     "text": [
      " 77%|███████▋  | 664/858 [00:29<00:09, 20.75it/s]"
     ]
    },
    {
     "name": "stdout",
     "output_type": "stream",
     "text": [
      "\tsaving model 20400...\n"
     ]
    },
    {
     "name": "stderr",
     "output_type": "stream",
     "text": [
      "\n",
      "  0%|          | 0/75 [00:00<?, ?it/s]\u001b[A\n",
      "  5%|5         | 4/75 [00:00<00:01, 37.02it/s]\u001b[A"
     ]
    },
    {
     "name": "stdout",
     "output_type": "stream",
     "text": [
      "\tdone\n",
      "Evaluating\n"
     ]
    },
    {
     "name": "stderr",
     "output_type": "stream",
     "text": [
      "\n",
      " 12%|#2        | 9/75 [00:00<00:01, 39.93it/s]\u001b[A\n",
      " 20%|##        | 15/75 [00:00<00:01, 42.99it/s]\u001b[A\n",
      " 28%|##8       | 21/75 [00:00<00:01, 45.69it/s]\u001b[A\n",
      " 33%|###3      | 25/75 [00:00<00:01, 39.57it/s]\u001b[A\n",
      " 39%|###8      | 29/75 [00:00<00:01, 35.73it/s]\u001b[A\n",
      " 45%|####5     | 34/75 [00:00<00:01, 38.83it/s]\u001b[A\n",
      " 53%|#####3    | 40/75 [00:00<00:00, 42.44it/s]\u001b[A\n",
      " 60%|######    | 45/75 [00:01<00:00, 44.17it/s]\u001b[A\n",
      " 67%|######6   | 50/75 [00:01<00:00, 39.80it/s]\u001b[A\n",
      " 73%|#######3  | 55/75 [00:01<00:00, 37.89it/s]\u001b[A\n",
      " 79%|#######8  | 59/75 [00:01<00:00, 36.38it/s]\u001b[A\n",
      " 84%|########4 | 63/75 [00:01<00:00, 33.18it/s]\u001b[A\n",
      " 89%|########9 | 67/75 [00:01<00:00, 32.75it/s]\u001b[A\n",
      " 96%|#########6| 72/75 [00:01<00:00, 36.01it/s]\u001b[A\n",
      " 78%|███████▊  | 667/858 [00:32<00:52,  3.61it/s]A"
     ]
    },
    {
     "name": "stdout",
     "output_type": "stream",
     "text": [
      "{'ade': 0.46733665, 'fde': 1.0396008}\n",
      "\t last loss:0.000463462, eval on validation:['ade: 0.46733665', 'fde: 1.0396008'], (best ade:0.45879406 at step 10800) \n"
     ]
    },
    {
     "name": "stderr",
     "output_type": "stream",
     "text": [
      "100%|██████████| 858/858 [00:43<00:00, 19.83it/s]\n",
      "  0%|          | 2/858 [00:00<00:44, 19.26it/s]"
     ]
    },
    {
     "name": "stdout",
     "output_type": "stream",
     "text": [
      "('Epoca 25.', 'lr:', 0.00028448363)\n"
     ]
    },
    {
     "name": "stderr",
     "output_type": "stream",
     "text": [
      " 12%|█▏        | 105/858 [00:05<00:37, 20.03it/s]"
     ]
    },
    {
     "name": "stdout",
     "output_type": "stream",
     "text": [
      "\tsaving model 20700...\n"
     ]
    },
    {
     "name": "stderr",
     "output_type": "stream",
     "text": [
      "\n",
      "  0%|          | 0/75 [00:00<?, ?it/s]\u001b[A\n",
      "  9%|9         | 7/75 [00:00<00:01, 64.00it/s]\u001b[A"
     ]
    },
    {
     "name": "stdout",
     "output_type": "stream",
     "text": [
      "\tdone\n",
      "Evaluating\n"
     ]
    },
    {
     "name": "stderr",
     "output_type": "stream",
     "text": [
      "\n",
      " 16%|#6        | 12/75 [00:00<00:01, 58.98it/s]\u001b[A\n",
      " 24%|##4       | 18/75 [00:00<00:00, 58.71it/s]\u001b[A\n",
      " 33%|###3      | 25/75 [00:00<00:00, 59.64it/s]\u001b[A\n",
      " 43%|####2     | 32/75 [00:00<00:00, 60.76it/s]\u001b[A\n",
      " 51%|#####     | 38/75 [00:00<00:00, 59.81it/s]\u001b[A\n",
      " 59%|#####8    | 44/75 [00:00<00:00, 59.39it/s]\u001b[A\n",
      " 67%|######6   | 50/75 [00:00<00:00, 49.12it/s]\u001b[A\n",
      " 75%|#######4  | 56/75 [00:01<00:00, 51.43it/s]\u001b[A\n",
      " 83%|########2 | 62/75 [00:01<00:00, 53.49it/s]\u001b[A\n",
      " 92%|#########2| 69/75 [00:01<00:00, 57.12it/s]\u001b[A\n",
      " 13%|█▎        | 111/858 [00:07<01:57,  6.34it/s]A"
     ]
    },
    {
     "name": "stdout",
     "output_type": "stream",
     "text": [
      "{'ade': 0.46807066, 'fde': 1.048943}\n",
      "\t last loss:0.000558722, eval on validation:['ade: 0.46807066', 'fde: 1.048943'], (best ade:0.45879406 at step 10800) \n"
     ]
    },
    {
     "name": "stderr",
     "output_type": "stream",
     "text": [
      " 47%|████▋     | 407/858 [00:19<00:16, 27.54it/s]\n",
      "  0%|          | 0/75 [00:00<?, ?it/s]\u001b[A"
     ]
    },
    {
     "name": "stdout",
     "output_type": "stream",
     "text": [
      "\tsaving model 21000...\n",
      "\tdone\n",
      "Evaluating\n"
     ]
    },
    {
     "name": "stderr",
     "output_type": "stream",
     "text": [
      "\n",
      " 13%|#3        | 10/75 [00:00<00:00, 88.67it/s]\u001b[A\n",
      " 27%|##6       | 20/75 [00:00<00:00, 89.55it/s]\u001b[A\n",
      " 40%|####      | 30/75 [00:00<00:00, 91.36it/s]\u001b[A\n",
      " 53%|#####3    | 40/75 [00:00<00:00, 92.96it/s]\u001b[A\n",
      " 67%|######6   | 50/75 [00:00<00:00, 94.56it/s]\u001b[A\n",
      " 80%|########  | 60/75 [00:00<00:00, 95.16it/s]\u001b[A\n",
      " 93%|#########3| 70/75 [00:00<00:00, 95.61it/s]\u001b[A\n",
      " 48%|████▊     | 410/858 [00:20<00:59,  7.55it/s]A"
     ]
    },
    {
     "name": "stdout",
     "output_type": "stream",
     "text": [
      "{'ade': 0.45907137, 'fde': 1.0197266}\n",
      "\t last loss:0.000304869, eval on validation:['ade: 0.45907137', 'fde: 1.0197266'], (best ade:0.45879406 at step 10800) \n"
     ]
    },
    {
     "name": "stderr",
     "output_type": "stream",
     "text": [
      " 82%|████████▏ | 707/858 [00:31<00:05, 26.71it/s]\n",
      "  0%|          | 0/75 [00:00<?, ?it/s]\u001b[A"
     ]
    },
    {
     "name": "stdout",
     "output_type": "stream",
     "text": [
      "\tsaving model 21300...\n",
      "\tdone\n",
      "Evaluating\n"
     ]
    },
    {
     "name": "stderr",
     "output_type": "stream",
     "text": [
      "\n",
      " 13%|#3        | 10/75 [00:00<00:00, 90.81it/s]\u001b[A\n",
      " 24%|##4       | 18/75 [00:00<00:00, 83.66it/s]\u001b[A\n",
      " 31%|###       | 23/75 [00:00<00:00, 64.74it/s]\u001b[A\n",
      " 37%|###7      | 28/75 [00:00<00:00, 57.70it/s]\u001b[A\n",
      " 47%|####6     | 35/75 [00:00<00:00, 60.53it/s]\u001b[A\n",
      " 57%|#####7    | 43/75 [00:00<00:00, 64.50it/s]\u001b[A\n",
      " 68%|######8   | 51/75 [00:00<00:00, 67.70it/s]\u001b[A\n",
      " 77%|#######7  | 58/75 [00:00<00:00, 66.24it/s]\u001b[A\n",
      " 87%|########6 | 65/75 [00:00<00:00, 66.07it/s]\u001b[A\n",
      " 97%|#########7| 73/75 [00:01<00:00, 68.65it/s]\u001b[A\n",
      " 83%|████████▎ | 710/858 [00:33<00:25,  5.85it/s]A"
     ]
    },
    {
     "name": "stdout",
     "output_type": "stream",
     "text": [
      "{'ade': 0.45920038, 'fde': 1.0225074}\n",
      "\t last loss:0.000235296, eval on validation:['ade: 0.45920038', 'fde: 1.0225074'], (best ade:0.45879406 at step 10800) \n"
     ]
    },
    {
     "name": "stderr",
     "output_type": "stream",
     "text": [
      "100%|██████████| 858/858 [00:41<00:00, 20.69it/s]\n",
      "  0%|          | 2/858 [00:00<00:57, 14.91it/s]"
     ]
    },
    {
     "name": "stdout",
     "output_type": "stream",
     "text": [
      "('Epoca 26.', 'lr:', 0.00028448363)\n"
     ]
    },
    {
     "name": "stderr",
     "output_type": "stream",
     "text": [
      " 17%|█▋        | 148/858 [00:07<00:33, 21.34it/s]"
     ]
    },
    {
     "name": "stdout",
     "output_type": "stream",
     "text": [
      "\tsaving model 21600...\n"
     ]
    },
    {
     "name": "stderr",
     "output_type": "stream",
     "text": [
      "\n",
      "  0%|          | 0/75 [00:00<?, ?it/s]\u001b[A\n",
      " 11%|#         | 8/75 [00:00<00:00, 71.90it/s]\u001b[A\n",
      " 21%|##1       | 16/75 [00:00<00:00, 71.75it/s]\u001b[A\n",
      " 32%|###2      | 24/75 [00:00<00:00, 71.89it/s]\u001b[A\n",
      " 43%|####2     | 32/75 [00:00<00:00, 71.61it/s]\u001b[A\n",
      " 53%|#####3    | 40/75 [00:00<00:00, 71.39it/s]\u001b[A\n",
      " 64%|######4   | 48/75 [00:00<00:00, 71.46it/s]\u001b[A\n",
      " 75%|#######4  | 56/75 [00:00<00:00, 71.35it/s]\u001b[A\n",
      " 84%|########4 | 63/75 [00:00<00:00, 70.77it/s]\u001b[A\n",
      " 93%|#########3| 70/75 [00:01<00:00, 67.49it/s]\u001b[A\n",
      "100%|##########| 75/75 [00:01<00:00, 69.77it/s]\u001b[A"
     ]
    },
    {
     "name": "stdout",
     "output_type": "stream",
     "text": [
      "\tdone\n",
      "Evaluating\n",
      "{'ade': 0.45174575, 'fde': 0.9997719}\n",
      "\t last loss:0.000476811, eval on validation:['ade: 0.45174575', 'fde: 0.9997719'], (best ade:0.45879406 at step 10800) \n",
      "\t saving best model...\n"
     ]
    },
    {
     "name": "stderr",
     "output_type": "stream",
     "text": [
      "\r",
      " 18%|█▊        | 151/858 [00:09<02:20,  5.02it/s]"
     ]
    },
    {
     "name": "stdout",
     "output_type": "stream",
     "text": [
      "\t done.\n"
     ]
    },
    {
     "name": "stderr",
     "output_type": "stream",
     "text": [
      " 52%|█████▏    | 447/858 [00:23<00:19, 21.41it/s]"
     ]
    },
    {
     "name": "stdout",
     "output_type": "stream",
     "text": [
      "\tsaving model 21900...\n"
     ]
    },
    {
     "name": "stderr",
     "output_type": "stream",
     "text": [
      "\n",
      "  0%|          | 0/75 [00:00<?, ?it/s]\u001b[A\n",
      " 11%|#         | 8/75 [00:00<00:00, 72.14it/s]\u001b[A"
     ]
    },
    {
     "name": "stdout",
     "output_type": "stream",
     "text": [
      "\tdone\n",
      "Evaluating\n"
     ]
    },
    {
     "name": "stderr",
     "output_type": "stream",
     "text": [
      "\n",
      " 20%|##        | 15/75 [00:00<00:00, 69.39it/s]\u001b[A\n",
      " 29%|##9       | 22/75 [00:00<00:00, 67.66it/s]\u001b[A\n",
      " 40%|####      | 30/75 [00:00<00:00, 68.77it/s]\u001b[A\n",
      " 51%|#####     | 38/75 [00:00<00:00, 69.57it/s]\u001b[A\n",
      " 61%|######1   | 46/75 [00:00<00:00, 70.13it/s]\u001b[A\n",
      " 72%|#######2  | 54/75 [00:00<00:00, 70.54it/s]\u001b[A\n",
      " 83%|########2 | 62/75 [00:00<00:00, 70.99it/s]\u001b[A\n",
      " 93%|#########3| 70/75 [00:01<00:00, 71.32it/s]\u001b[A\n",
      " 53%|█████▎    | 452/858 [00:25<00:57,  7.11it/s]A"
     ]
    },
    {
     "name": "stdout",
     "output_type": "stream",
     "text": [
      "{'ade': 0.45398468, 'fde': 1.0034037}\n",
      "\t last loss:0.000332848, eval on validation:['ade: 0.45398468', 'fde: 1.0034037'], (best ade:0.45174575 at step 21600) \n"
     ]
    },
    {
     "name": "stderr",
     "output_type": "stream",
     "text": [
      " 87%|████████▋ | 747/858 [00:37<00:04, 25.93it/s]\n",
      "  0%|          | 0/75 [00:00<?, ?it/s]\u001b[A"
     ]
    },
    {
     "name": "stdout",
     "output_type": "stream",
     "text": [
      "\tsaving model 22200...\n",
      "\tdone\n",
      "Evaluating\n"
     ]
    },
    {
     "name": "stderr",
     "output_type": "stream",
     "text": [
      "\n",
      " 13%|#3        | 10/75 [00:00<00:00, 99.61it/s]\u001b[A\n",
      " 27%|##6       | 20/75 [00:00<00:00, 98.90it/s]\u001b[A\n",
      " 40%|####      | 30/75 [00:00<00:00, 98.62it/s]\u001b[A\n",
      " 53%|#####3    | 40/75 [00:00<00:00, 98.38it/s]\u001b[A\n",
      " 67%|######6   | 50/75 [00:00<00:00, 98.07it/s]\u001b[A\n",
      " 80%|########  | 60/75 [00:00<00:00, 97.23it/s]\u001b[A\n",
      " 92%|#########2| 69/75 [00:00<00:00, 92.17it/s]\u001b[A\n",
      " 87%|████████▋ | 750/858 [00:38<00:16,  6.60it/s]A"
     ]
    },
    {
     "name": "stdout",
     "output_type": "stream",
     "text": [
      "{'ade': 0.44795987, 'fde': 0.9900246}\n",
      "\t last loss:0.000584863, eval on validation:['ade: 0.44795987', 'fde: 0.9900246'], (best ade:0.45174575 at step 21600) \n",
      "\t saving best model...\n",
      "\t done.\n"
     ]
    },
    {
     "name": "stderr",
     "output_type": "stream",
     "text": [
      "100%|██████████| 858/858 [00:42<00:00, 26.95it/s]\n",
      "  0%|          | 1/858 [00:00<01:34,  9.08it/s]"
     ]
    },
    {
     "name": "stdout",
     "output_type": "stream",
     "text": [
      "('Epoca 27.', 'lr:', 0.0002418111)\n"
     ]
    },
    {
     "name": "stderr",
     "output_type": "stream",
     "text": [
      " 22%|██▏       | 190/858 [00:07<00:24, 27.34it/s]\n",
      "  0%|          | 0/75 [00:00<?, ?it/s]\u001b[A"
     ]
    },
    {
     "name": "stdout",
     "output_type": "stream",
     "text": [
      "\tsaving model 22500...\n",
      "\tdone\n",
      "Evaluating\n"
     ]
    },
    {
     "name": "stderr",
     "output_type": "stream",
     "text": [
      "\n",
      " 15%|#4        | 11/75 [00:00<00:00, 101.02it/s]\u001b[A\n",
      " 27%|##6       | 20/75 [00:00<00:00, 97.28it/s] \u001b[A\n",
      " 39%|###8      | 29/75 [00:00<00:00, 94.88it/s]\u001b[A\n",
      " 49%|####9     | 37/75 [00:00<00:00, 87.39it/s]\u001b[A\n",
      " 61%|######1   | 46/75 [00:00<00:00, 86.87it/s]\u001b[A\n",
      " 73%|#######3  | 55/75 [00:00<00:00, 87.39it/s]\u001b[A\n",
      " 85%|########5 | 64/75 [00:00<00:00, 87.82it/s]\u001b[A\n",
      " 97%|#########7| 73/75 [00:00<00:00, 88.36it/s]\u001b[A\n",
      " 23%|██▎       | 196/858 [00:08<01:12,  9.13it/s]A"
     ]
    },
    {
     "name": "stdout",
     "output_type": "stream",
     "text": [
      "{'ade': 0.46602076, 'fde': 1.0448756}\n",
      "\t last loss:0.000359068, eval on validation:['ade: 0.46602076', 'fde: 1.0448756'], (best ade:0.44795987 at step 22200) \n"
     ]
    },
    {
     "name": "stderr",
     "output_type": "stream",
     "text": [
      " 57%|█████▋    | 489/858 [00:21<00:16, 21.77it/s]"
     ]
    },
    {
     "name": "stdout",
     "output_type": "stream",
     "text": [
      "\tsaving model 22800...\n"
     ]
    },
    {
     "name": "stderr",
     "output_type": "stream",
     "text": [
      "\n",
      "  0%|          | 0/75 [00:00<?, ?it/s]\u001b[A\n",
      " 11%|#         | 8/75 [00:00<00:00, 71.51it/s]\u001b[A\n",
      " 20%|##        | 15/75 [00:00<00:00, 70.75it/s]\u001b[A\n",
      " 31%|###       | 23/75 [00:00<00:00, 71.00it/s]\u001b[A\n",
      " 40%|####      | 30/75 [00:00<00:00, 70.39it/s]\u001b[A\n",
      " 51%|#####     | 38/75 [00:00<00:00, 70.31it/s]\u001b[A\n",
      " 61%|######1   | 46/75 [00:00<00:00, 70.84it/s]\u001b[A\n",
      " 72%|#######2  | 54/75 [00:00<00:00, 71.24it/s]\u001b[A\n",
      " 83%|########2 | 62/75 [00:00<00:00, 71.23it/s]\u001b[A\n",
      " 93%|#########3| 70/75 [00:00<00:00, 71.16it/s]\u001b[A\n",
      " 58%|█████▊    | 495/858 [00:22<00:49,  7.35it/s]A"
     ]
    },
    {
     "name": "stdout",
     "output_type": "stream",
     "text": [
      "\tdone\n",
      "Evaluating\n",
      "{'ade': 0.45539403, 'fde': 1.0066453}\n",
      "\t last loss:0.000305060, eval on validation:['ade: 0.45539403', 'fde: 1.0066453'], (best ade:0.44795987 at step 22200) \n"
     ]
    },
    {
     "name": "stderr",
     "output_type": "stream",
     "text": [
      " 92%|█████████▏| 789/858 [00:36<00:03, 21.68it/s]"
     ]
    },
    {
     "name": "stdout",
     "output_type": "stream",
     "text": [
      "\tsaving model 23100...\n"
     ]
    },
    {
     "name": "stderr",
     "output_type": "stream",
     "text": [
      "\n",
      "  0%|          | 0/75 [00:00<?, ?it/s]\u001b[A\n",
      " 11%|#         | 8/75 [00:00<00:00, 72.04it/s]\u001b[A\n",
      " 21%|##1       | 16/75 [00:00<00:00, 72.13it/s]\u001b[A\n",
      " 31%|###       | 23/75 [00:00<00:00, 71.24it/s]\u001b[A\n",
      " 41%|####1     | 31/75 [00:00<00:00, 71.00it/s]\u001b[A\n",
      " 51%|#####     | 38/75 [00:00<00:00, 70.20it/s]\u001b[A\n",
      " 61%|######1   | 46/75 [00:00<00:00, 70.58it/s]\u001b[A\n",
      " 72%|#######2  | 54/75 [00:00<00:00, 70.77it/s]\u001b[A\n",
      " 83%|########2 | 62/75 [00:00<00:00, 70.88it/s]\u001b[A\n",
      " 93%|#########3| 70/75 [00:00<00:00, 71.02it/s]\u001b[A\n",
      " 93%|█████████▎| 795/858 [00:37<00:08,  7.29it/s]A"
     ]
    },
    {
     "name": "stdout",
     "output_type": "stream",
     "text": [
      "\tdone\n",
      "Evaluating\n",
      "{'ade': 0.45593044, 'fde': 1.0092324}\n",
      "\t last loss:0.000388864, eval on validation:['ade: 0.45593044', 'fde: 1.0092324'], (best ade:0.44795987 at step 22200) \n"
     ]
    },
    {
     "name": "stderr",
     "output_type": "stream",
     "text": [
      "100%|██████████| 858/858 [00:40<00:00, 21.05it/s]\n",
      "  0%|          | 1/858 [00:00<01:35,  8.99it/s]"
     ]
    },
    {
     "name": "stdout",
     "output_type": "stream",
     "text": [
      "('Epoca 28.', 'lr:', 0.0002418111)\n"
     ]
    },
    {
     "name": "stderr",
     "output_type": "stream",
     "text": [
      " 27%|██▋       | 231/858 [00:10<00:23, 26.59it/s]\n",
      "  0%|          | 0/75 [00:00<?, ?it/s]\u001b[A"
     ]
    },
    {
     "name": "stdout",
     "output_type": "stream",
     "text": [
      "\tsaving model 23400...\n",
      "\tdone\n",
      "Evaluating\n"
     ]
    },
    {
     "name": "stderr",
     "output_type": "stream",
     "text": [
      "\n",
      " 13%|#3        | 10/75 [00:00<00:00, 99.64it/s]\u001b[A\n",
      " 27%|##6       | 20/75 [00:00<00:00, 98.96it/s]\u001b[A\n",
      " 40%|####      | 30/75 [00:00<00:00, 98.55it/s]\u001b[A\n",
      " 53%|#####3    | 40/75 [00:00<00:00, 98.37it/s]\u001b[A\n",
      " 67%|######6   | 50/75 [00:00<00:00, 97.62it/s]\u001b[A\n",
      " 80%|########  | 60/75 [00:00<00:00, 97.64it/s]\u001b[A\n",
      " 92%|#########2| 69/75 [00:00<00:00, 93.43it/s]\u001b[A\n",
      " 28%|██▊       | 237/858 [00:11<01:04,  9.62it/s]A"
     ]
    },
    {
     "name": "stdout",
     "output_type": "stream",
     "text": [
      "{'ade': 0.45805287, 'fde': 1.0153307}\n",
      "\t last loss:0.000313573, eval on validation:['ade: 0.45805287', 'fde: 1.0153307'], (best ade:0.44795987 at step 22200) \n"
     ]
    },
    {
     "name": "stderr",
     "output_type": "stream",
     "text": [
      " 62%|██████▏   | 531/858 [00:22<00:12, 25.73it/s]\n",
      "  0%|          | 0/75 [00:00<?, ?it/s]\u001b[A"
     ]
    },
    {
     "name": "stdout",
     "output_type": "stream",
     "text": [
      "\tsaving model 23700...\n",
      "\tdone\n",
      "Evaluating\n"
     ]
    },
    {
     "name": "stderr",
     "output_type": "stream",
     "text": [
      "\n",
      " 15%|#4        | 11/75 [00:00<00:00, 100.64it/s]\u001b[A\n",
      " 28%|##8       | 21/75 [00:00<00:00, 99.72it/s] \u001b[A\n",
      " 41%|####1     | 31/75 [00:00<00:00, 99.37it/s]\u001b[A\n",
      " 55%|#####4    | 41/75 [00:00<00:00, 98.71it/s]\u001b[A\n",
      " 68%|######8   | 51/75 [00:00<00:00, 98.33it/s]\u001b[A\n",
      " 80%|########  | 60/75 [00:00<00:00, 94.22it/s]\u001b[A\n",
      " 93%|#########3| 70/75 [00:00<00:00, 93.62it/s]\u001b[A\n",
      " 63%|██████▎   | 537/858 [00:23<00:33,  9.58it/s]A"
     ]
    },
    {
     "name": "stdout",
     "output_type": "stream",
     "text": [
      "{'ade': 0.45425627, 'fde': 1.0087973}\n",
      "\t last loss:0.000310292, eval on validation:['ade: 0.45425627', 'fde: 1.0087973'], (best ade:0.44795987 at step 22200) \n"
     ]
    },
    {
     "name": "stderr",
     "output_type": "stream",
     "text": [
      " 97%|█████████▋| 831/858 [00:35<00:01, 21.39it/s]"
     ]
    },
    {
     "name": "stdout",
     "output_type": "stream",
     "text": [
      "\tsaving model 24000...\n"
     ]
    },
    {
     "name": "stderr",
     "output_type": "stream",
     "text": [
      "\n",
      "  0%|          | 0/75 [00:00<?, ?it/s]\u001b[A\n",
      " 11%|#         | 8/75 [00:00<00:00, 72.87it/s]\u001b[A"
     ]
    },
    {
     "name": "stdout",
     "output_type": "stream",
     "text": [
      "\tdone\n",
      "Evaluating\n"
     ]
    },
    {
     "name": "stderr",
     "output_type": "stream",
     "text": [
      "\n",
      " 20%|##        | 15/75 [00:00<00:00, 71.82it/s]\u001b[A\n",
      " 29%|##9       | 22/75 [00:00<00:00, 69.88it/s]\u001b[A\n",
      " 39%|###8      | 29/75 [00:00<00:00, 67.93it/s]\u001b[A\n",
      " 48%|####8     | 36/75 [00:00<00:00, 68.46it/s]\u001b[A\n",
      " 59%|#####8    | 44/75 [00:00<00:00, 69.37it/s]\u001b[A\n",
      " 68%|######8   | 51/75 [00:00<00:00, 69.37it/s]\u001b[A\n",
      " 79%|#######8  | 59/75 [00:00<00:00, 70.35it/s]\u001b[A\n",
      " 89%|########9 | 67/75 [00:00<00:00, 70.71it/s]\u001b[A\n",
      " 98%|█████████▊| 837/858 [00:36<00:02,  7.30it/s]A"
     ]
    },
    {
     "name": "stdout",
     "output_type": "stream",
     "text": [
      "{'ade': 0.47988778, 'fde': 1.068877}\n",
      "\t last loss:0.000294951, eval on validation:['ade: 0.47988778', 'fde: 1.068877'], (best ade:0.44795987 at step 22200) \n"
     ]
    },
    {
     "name": "stderr",
     "output_type": "stream",
     "text": [
      "100%|██████████| 858/858 [00:37<00:00, 22.62it/s]\n",
      "  0%|          | 1/858 [00:00<01:31,  9.35it/s]"
     ]
    },
    {
     "name": "stdout",
     "output_type": "stream",
     "text": [
      "('Epoca 29.', 'lr:', 0.00020553943)\n"
     ]
    },
    {
     "name": "stderr",
     "output_type": "stream",
     "text": [
      " 32%|███▏      | 275/858 [00:12<00:27, 21.58it/s]"
     ]
    },
    {
     "name": "stdout",
     "output_type": "stream",
     "text": [
      "\tsaving model 24300...\n"
     ]
    },
    {
     "name": "stderr",
     "output_type": "stream",
     "text": [
      "\n",
      "  0%|          | 0/75 [00:00<?, ?it/s]\u001b[A\n",
      " 11%|#         | 8/75 [00:00<00:00, 73.91it/s]\u001b[A"
     ]
    },
    {
     "name": "stdout",
     "output_type": "stream",
     "text": [
      "\tdone\n",
      "Evaluating\n"
     ]
    },
    {
     "name": "stderr",
     "output_type": "stream",
     "text": [
      "\n",
      " 20%|##        | 15/75 [00:00<00:00, 72.30it/s]\u001b[A\n",
      " 29%|##9       | 22/75 [00:00<00:00, 71.52it/s]\u001b[A\n",
      " 40%|####      | 30/75 [00:00<00:00, 71.21it/s]\u001b[A\n",
      " 51%|#####     | 38/75 [00:00<00:00, 71.17it/s]\u001b[A\n",
      " 60%|######    | 45/75 [00:00<00:00, 70.49it/s]\u001b[A\n",
      " 71%|#######   | 53/75 [00:00<00:00, 70.90it/s]\u001b[A\n",
      " 80%|########  | 60/75 [00:00<00:00, 66.46it/s]\u001b[A\n",
      " 89%|########9 | 67/75 [00:00<00:00, 67.08it/s]\u001b[A\n",
      " 32%|███▏      | 278/858 [00:14<01:44,  5.53it/s]A"
     ]
    },
    {
     "name": "stdout",
     "output_type": "stream",
     "text": [
      "{'ade': 0.4487874, 'fde': 0.9902205}\n",
      "\t last loss:0.000305545, eval on validation:['ade: 0.4487874', 'fde: 0.9902205'], (best ade:0.44795987 at step 22200) \n"
     ]
    },
    {
     "name": "stderr",
     "output_type": "stream",
     "text": [
      " 67%|██████▋   | 575/858 [00:28<00:13, 21.44it/s]"
     ]
    },
    {
     "name": "stdout",
     "output_type": "stream",
     "text": [
      "\tsaving model 24600...\n"
     ]
    },
    {
     "name": "stderr",
     "output_type": "stream",
     "text": [
      "\n",
      "  0%|          | 0/75 [00:00<?, ?it/s]\u001b[A\n",
      " 11%|#         | 8/75 [00:00<00:00, 73.16it/s]\u001b[A\n",
      " 23%|##2       | 17/75 [00:00<00:00, 77.02it/s]\u001b[A\n",
      " 36%|###6      | 27/75 [00:00<00:00, 80.93it/s]\u001b[A\n",
      " 49%|####9     | 37/75 [00:00<00:00, 85.21it/s]\u001b[A\n",
      " 63%|######2   | 47/75 [00:00<00:00, 88.46it/s]\u001b[A\n",
      " 76%|#######6  | 57/75 [00:00<00:00, 91.03it/s]\u001b[A\n",
      " 89%|########9 | 67/75 [00:00<00:00, 92.86it/s]\u001b[A\n",
      " 67%|██████▋   | 578/858 [00:29<00:41,  6.71it/s]A"
     ]
    },
    {
     "name": "stdout",
     "output_type": "stream",
     "text": [
      "\tdone\n",
      "Evaluating\n",
      "{'ade': 0.4571571, 'fde': 1.0095304}\n",
      "\t last loss:0.000348925, eval on validation:['ade: 0.4571571', 'fde: 1.0095304'], (best ade:0.44795987 at step 22200) \n"
     ]
    },
    {
     "name": "stderr",
     "output_type": "stream",
     "text": [
      "100%|██████████| 858/858 [00:40<00:00, 21.39it/s]\n",
      "  0%|          | 2/858 [00:00<00:42, 19.96it/s]"
     ]
    },
    {
     "name": "stdout",
     "output_type": "stream",
     "text": [
      "('Epoca 30.', 'lr:', 0.00020553943)\n"
     ]
    },
    {
     "name": "stderr",
     "output_type": "stream",
     "text": [
      "  2%|▏         | 17/858 [00:00<00:32, 26.03it/s]\n",
      "  0%|          | 0/75 [00:00<?, ?it/s]\u001b[A"
     ]
    },
    {
     "name": "stdout",
     "output_type": "stream",
     "text": [
      "\tsaving model 24900...\n",
      "\tdone\n",
      "Evaluating\n"
     ]
    },
    {
     "name": "stderr",
     "output_type": "stream",
     "text": [
      "\n",
      " 13%|#3        | 10/75 [00:00<00:00, 98.09it/s]\u001b[A\n",
      " 25%|##5       | 19/75 [00:00<00:00, 93.52it/s]\u001b[A\n",
      " 39%|###8      | 29/75 [00:00<00:00, 93.57it/s]\u001b[A\n",
      " 52%|#####2    | 39/75 [00:00<00:00, 94.66it/s]\u001b[A\n",
      " 65%|######5   | 49/75 [00:00<00:00, 95.17it/s]\u001b[A\n",
      " 79%|#######8  | 59/75 [00:00<00:00, 96.02it/s]\u001b[A\n",
      " 92%|#########2| 69/75 [00:00<00:00, 96.52it/s]\u001b[A\n",
      "  2%|▏         | 20/858 [00:01<01:52,  7.47it/s][A"
     ]
    },
    {
     "name": "stdout",
     "output_type": "stream",
     "text": [
      "{'ade': 0.4535096, 'fde': 1.0071439}\n",
      "\t last loss:0.000238262, eval on validation:['ade: 0.4535096', 'fde: 1.0071439'], (best ade:0.44795987 at step 22200) \n"
     ]
    },
    {
     "name": "stderr",
     "output_type": "stream",
     "text": [
      " 37%|███▋      | 315/858 [00:14<00:26, 20.81it/s]\n",
      "  0%|          | 0/75 [00:00<?, ?it/s]\u001b[A"
     ]
    },
    {
     "name": "stdout",
     "output_type": "stream",
     "text": [
      "\tsaving model 25200...\n",
      "\tdone\n",
      "Evaluating\n"
     ]
    },
    {
     "name": "stderr",
     "output_type": "stream",
     "text": [
      "\n",
      " 11%|#         | 8/75 [00:00<00:00, 73.60it/s]\u001b[A\n",
      " 21%|##1       | 16/75 [00:00<00:00, 74.65it/s]\u001b[A\n",
      " 31%|###       | 23/75 [00:00<00:00, 72.82it/s]\u001b[A\n",
      " 41%|####1     | 31/75 [00:00<00:00, 74.41it/s]\u001b[A\n",
      " 51%|#####     | 38/75 [00:00<00:00, 72.29it/s]\u001b[A\n",
      " 60%|######    | 45/75 [00:00<00:00, 70.59it/s]\u001b[A\n",
      " 72%|#######2  | 54/75 [00:00<00:00, 74.58it/s]\u001b[A\n",
      " 83%|########2 | 62/75 [00:00<00:00, 75.62it/s]\u001b[A\n",
      " 95%|#########4| 71/75 [00:00<00:00, 78.75it/s]\u001b[A\n",
      " 37%|███▋      | 321/858 [00:15<01:08,  7.79it/s]A"
     ]
    },
    {
     "name": "stdout",
     "output_type": "stream",
     "text": [
      "{'ade': 0.4627432, 'fde': 1.0379455}\n",
      "\t last loss:0.000448465, eval on validation:['ade: 0.4627432', 'fde: 1.0379455'], (best ade:0.44795987 at step 22200) \n"
     ]
    },
    {
     "name": "stderr",
     "output_type": "stream",
     "text": [
      " 72%|███████▏  | 617/858 [00:31<00:11, 20.47it/s]"
     ]
    },
    {
     "name": "stdout",
     "output_type": "stream",
     "text": [
      "\tsaving model 25500...\n"
     ]
    },
    {
     "name": "stderr",
     "output_type": "stream",
     "text": [
      "\n",
      "  0%|          | 0/75 [00:00<?, ?it/s]\u001b[A\n",
      " 11%|#         | 8/75 [00:00<00:00, 73.45it/s]\u001b[A"
     ]
    },
    {
     "name": "stdout",
     "output_type": "stream",
     "text": [
      "\tdone\n",
      "Evaluating\n"
     ]
    },
    {
     "name": "stderr",
     "output_type": "stream",
     "text": [
      "\n",
      " 20%|##        | 15/75 [00:00<00:00, 71.94it/s]\u001b[A\n",
      " 31%|###       | 23/75 [00:00<00:00, 71.62it/s]\u001b[A\n",
      " 40%|####      | 30/75 [00:00<00:00, 70.98it/s]\u001b[A\n",
      " 48%|####8     | 36/75 [00:00<00:00, 63.53it/s]\u001b[A\n",
      " 56%|#####6    | 42/75 [00:00<00:00, 61.81it/s]\u001b[A\n",
      " 64%|######4   | 48/75 [00:00<00:00, 61.21it/s]\u001b[A\n",
      " 73%|#######3  | 55/75 [00:00<00:00, 61.28it/s]\u001b[A\n",
      " 81%|########1 | 61/75 [00:00<00:00, 60.82it/s]\u001b[A\n",
      " 91%|######### | 68/75 [00:01<00:00, 61.20it/s]\u001b[A\n",
      " 99%|#########8| 74/75 [00:01<00:00, 60.78it/s]\u001b[A\n",
      " 72%|███████▏  | 620/858 [00:32<00:45,  5.19it/s]A"
     ]
    },
    {
     "name": "stdout",
     "output_type": "stream",
     "text": [
      "{'ade': 0.45798823, 'fde': 1.0116644}\n",
      "\t last loss:0.000388283, eval on validation:['ade: 0.45798823', 'fde: 1.0116644'], (best ade:0.44795987 at step 22200) \n"
     ]
    },
    {
     "name": "stderr",
     "output_type": "stream",
     "text": [
      "100%|██████████| 858/858 [00:46<00:00, 18.54it/s]\n",
      "  0%|          | 3/858 [00:00<00:37, 23.01it/s]"
     ]
    },
    {
     "name": "stdout",
     "output_type": "stream",
     "text": [
      "('Epoca 31.', 'lr:', 0.00017470852)\n"
     ]
    },
    {
     "name": "stderr",
     "output_type": "stream",
     "text": [
      "  7%|▋         | 58/858 [00:03<00:58, 13.71it/s]"
     ]
    },
    {
     "name": "stdout",
     "output_type": "stream",
     "text": [
      "\tsaving model 25800...\n"
     ]
    },
    {
     "name": "stderr",
     "output_type": "stream",
     "text": [
      "\n",
      "  0%|          | 0/75 [00:00<?, ?it/s]\u001b[A\n",
      "  7%|6         | 5/75 [00:00<00:01, 44.96it/s]\u001b[A"
     ]
    },
    {
     "name": "stdout",
     "output_type": "stream",
     "text": [
      "\tdone\n",
      "Evaluating\n"
     ]
    },
    {
     "name": "stderr",
     "output_type": "stream",
     "text": [
      "\n",
      " 13%|#3        | 10/75 [00:00<00:01, 45.45it/s]\u001b[A\n",
      " 23%|##2       | 17/75 [00:00<00:01, 50.40it/s]\u001b[A\n",
      " 32%|###2      | 24/75 [00:00<00:00, 54.96it/s]\u001b[A\n",
      " 40%|####      | 30/75 [00:00<00:00, 55.74it/s]\u001b[A\n",
      " 48%|####8     | 36/75 [00:00<00:00, 55.69it/s]\u001b[A\n",
      " 56%|#####6    | 42/75 [00:00<00:00, 56.10it/s]\u001b[A\n",
      " 65%|######5   | 49/75 [00:00<00:00, 58.20it/s]\u001b[A\n",
      " 73%|#######3  | 55/75 [00:00<00:00, 58.31it/s]\u001b[A\n",
      " 81%|########1 | 61/75 [00:01<00:00, 53.94it/s]\u001b[A\n",
      " 91%|######### | 68/75 [00:01<00:00, 55.40it/s]\u001b[A\n",
      " 99%|#########8| 74/75 [00:01<00:00, 55.78it/s]\u001b[A\n",
      "  7%|▋         | 60/858 [00:04<04:11,  3.18it/s][A"
     ]
    },
    {
     "name": "stdout",
     "output_type": "stream",
     "text": [
      "{'ade': 0.45332742, 'fde': 1.0082387}\n",
      "\t last loss:0.000295978, eval on validation:['ade: 0.45332742', 'fde: 1.0082387'], (best ade:0.44795987 at step 22200) \n"
     ]
    },
    {
     "name": "stderr",
     "output_type": "stream",
     "text": [
      " 42%|████▏     | 358/858 [00:18<00:22, 22.24it/s]"
     ]
    },
    {
     "name": "stdout",
     "output_type": "stream",
     "text": [
      "\tsaving model 26100...\n"
     ]
    },
    {
     "name": "stderr",
     "output_type": "stream",
     "text": [
      "\n",
      "  0%|          | 0/75 [00:00<?, ?it/s]\u001b[A\n",
      " 11%|#         | 8/75 [00:00<00:00, 72.72it/s]\u001b[A"
     ]
    },
    {
     "name": "stdout",
     "output_type": "stream",
     "text": [
      "\tdone\n",
      "Evaluating\n"
     ]
    },
    {
     "name": "stderr",
     "output_type": "stream",
     "text": [
      "\n",
      " 20%|##        | 15/75 [00:00<00:00, 71.78it/s]\u001b[A\n",
      " 27%|##6       | 20/75 [00:00<00:00, 60.16it/s]\u001b[A\n",
      " 32%|###2      | 24/75 [00:00<00:00, 51.22it/s]\u001b[A\n",
      " 39%|###8      | 29/75 [00:00<00:00, 50.24it/s]\u001b[A\n",
      " 49%|####9     | 37/75 [00:00<00:00, 55.10it/s]\u001b[A\n",
      " 59%|#####8    | 44/75 [00:00<00:00, 58.51it/s]\u001b[A\n",
      " 68%|######8   | 51/75 [00:00<00:00, 60.37it/s]\u001b[A\n",
      " 76%|#######6  | 57/75 [00:00<00:00, 58.79it/s]\u001b[A\n",
      " 84%|########4 | 63/75 [00:01<00:00, 55.86it/s]\u001b[A\n",
      " 92%|#########2| 69/75 [00:01<00:00, 52.47it/s]\u001b[A\n",
      " 42%|████▏     | 361/858 [00:20<01:47,  4.62it/s]A"
     ]
    },
    {
     "name": "stdout",
     "output_type": "stream",
     "text": [
      "{'ade': 0.46432164, 'fde': 1.0346422}\n",
      "\t last loss:0.000353226, eval on validation:['ade: 0.46432164', 'fde: 1.0346422'], (best ade:0.44795987 at step 22200) \n"
     ]
    },
    {
     "name": "stderr",
     "output_type": "stream",
     "text": [
      " 77%|███████▋  | 659/858 [00:41<00:10, 18.84it/s]"
     ]
    },
    {
     "name": "stdout",
     "output_type": "stream",
     "text": [
      "\tsaving model 26400...\n"
     ]
    },
    {
     "name": "stderr",
     "output_type": "stream",
     "text": [
      "\n",
      "  0%|          | 0/75 [00:00<?, ?it/s]\u001b[A\n",
      "  5%|5         | 4/75 [00:00<00:02, 33.78it/s]\u001b[A"
     ]
    },
    {
     "name": "stdout",
     "output_type": "stream",
     "text": [
      "\tdone\n",
      "Evaluating\n"
     ]
    },
    {
     "name": "stderr",
     "output_type": "stream",
     "text": [
      "\n",
      "  8%|8         | 6/75 [00:00<00:02, 27.02it/s]\u001b[A\n",
      " 17%|#7        | 13/75 [00:00<00:01, 32.96it/s]\u001b[A\n",
      " 27%|##6       | 20/75 [00:00<00:01, 38.92it/s]\u001b[A\n",
      " 33%|###3      | 25/75 [00:00<00:01, 40.80it/s]\u001b[A\n",
      " 40%|####      | 30/75 [00:00<00:01, 38.78it/s]\u001b[A\n",
      " 49%|####9     | 37/75 [00:00<00:00, 44.02it/s]\u001b[A\n",
      " 59%|#####8    | 44/75 [00:00<00:00, 49.07it/s]\u001b[A\n",
      " 67%|######6   | 50/75 [00:01<00:00, 49.00it/s]\u001b[A\n",
      " 75%|#######4  | 56/75 [00:01<00:00, 46.07it/s]\u001b[A\n",
      " 84%|########4 | 63/75 [00:01<00:00, 50.25it/s]\u001b[A\n",
      " 93%|#########3| 70/75 [00:01<00:00, 54.47it/s]\u001b[A\n",
      " 77%|███████▋  | 661/858 [00:43<01:04,  3.05it/s]A"
     ]
    },
    {
     "name": "stdout",
     "output_type": "stream",
     "text": [
      "{'ade': 0.44895047, 'fde': 0.99681383}\n",
      "\t last loss:0.000457899, eval on validation:['ade: 0.44895047', 'fde: 0.99681383'], (best ade:0.44795987 at step 22200) \n"
     ]
    },
    {
     "name": "stderr",
     "output_type": "stream",
     "text": [
      "100%|██████████| 858/858 [00:56<00:00, 15.28it/s]\n",
      "  0%|          | 1/858 [00:00<01:46,  8.02it/s]"
     ]
    },
    {
     "name": "stdout",
     "output_type": "stream",
     "text": [
      "('Epoca 32.', 'lr:', 0.00017470852)\n"
     ]
    },
    {
     "name": "stderr",
     "output_type": "stream",
     "text": [
      " 12%|█▏        | 101/858 [00:05<00:37, 20.15it/s]"
     ]
    },
    {
     "name": "stdout",
     "output_type": "stream",
     "text": [
      "\tsaving model 26700...\n"
     ]
    },
    {
     "name": "stderr",
     "output_type": "stream",
     "text": [
      "\n",
      "  0%|          | 0/75 [00:00<?, ?it/s]\u001b[A\n",
      "  9%|9         | 7/75 [00:00<00:01, 61.89it/s]\u001b[A"
     ]
    },
    {
     "name": "stdout",
     "output_type": "stream",
     "text": [
      "\tdone\n",
      "Evaluating\n"
     ]
    },
    {
     "name": "stderr",
     "output_type": "stream",
     "text": [
      "\n",
      " 19%|#8        | 14/75 [00:00<00:00, 64.03it/s]\u001b[A\n",
      " 29%|##9       | 22/75 [00:00<00:00, 66.04it/s]\u001b[A\n",
      " 39%|###8      | 29/75 [00:00<00:00, 67.17it/s]\u001b[A\n",
      " 49%|####9     | 37/75 [00:00<00:00, 68.36it/s]\u001b[A\n",
      " 59%|#####8    | 44/75 [00:00<00:00, 67.38it/s]\u001b[A\n",
      " 68%|######8   | 51/75 [00:00<00:00, 68.14it/s]\u001b[A\n",
      " 79%|#######8  | 59/75 [00:00<00:00, 68.83it/s]\u001b[A\n",
      " 89%|########9 | 67/75 [00:00<00:00, 69.41it/s]\u001b[A\n",
      " 99%|#########8| 74/75 [00:01<00:00, 63.85it/s]\u001b[A\n",
      " 12%|█▏        | 104/858 [00:06<02:17,  5.50it/s]A"
     ]
    },
    {
     "name": "stdout",
     "output_type": "stream",
     "text": [
      "{'ade': 0.45652372, 'fde': 1.0179334}\n",
      "\t last loss:0.000658823, eval on validation:['ade: 0.45652372', 'fde: 1.0179334'], (best ade:0.44795987 at step 22200) \n"
     ]
    },
    {
     "name": "stderr",
     "output_type": "stream",
     "text": [
      " 47%|████▋     | 399/858 [00:19<00:17, 26.28it/s]\n",
      "  0%|          | 0/75 [00:00<?, ?it/s]\u001b[A"
     ]
    },
    {
     "name": "stdout",
     "output_type": "stream",
     "text": [
      "\tsaving model 27000...\n",
      "\tdone\n",
      "Evaluating\n"
     ]
    },
    {
     "name": "stderr",
     "output_type": "stream",
     "text": [
      "\n",
      " 13%|#3        | 10/75 [00:00<00:00, 96.23it/s]\u001b[A\n",
      " 27%|##6       | 20/75 [00:00<00:00, 95.34it/s]\u001b[A\n",
      " 40%|####      | 30/75 [00:00<00:00, 94.34it/s]\u001b[A\n",
      " 53%|#####3    | 40/75 [00:00<00:00, 94.06it/s]\u001b[A\n",
      " 65%|######5   | 49/75 [00:00<00:00, 91.67it/s]\u001b[A\n",
      " 79%|#######8  | 59/75 [00:00<00:00, 91.91it/s]\u001b[A\n",
      " 92%|#########2| 69/75 [00:00<00:00, 92.37it/s]\u001b[A\n",
      " 47%|████▋     | 405/858 [00:21<00:48,  9.26it/s]A"
     ]
    },
    {
     "name": "stdout",
     "output_type": "stream",
     "text": [
      "{'ade': 0.4528893, 'fde': 1.0056894}\n",
      "\t last loss:0.000559509, eval on validation:['ade: 0.4528893', 'fde: 1.0056894'], (best ade:0.44795987 at step 22200) \n"
     ]
    },
    {
     "name": "stderr",
     "output_type": "stream",
     "text": [
      " 82%|████████▏ | 700/858 [00:34<00:06, 25.36it/s]\n",
      "  0%|          | 0/75 [00:00<?, ?it/s]\u001b[A"
     ]
    },
    {
     "name": "stdout",
     "output_type": "stream",
     "text": [
      "\tsaving model 27300...\n",
      "\tdone\n",
      "Evaluating\n"
     ]
    },
    {
     "name": "stderr",
     "output_type": "stream",
     "text": [
      "\n",
      " 13%|#3        | 10/75 [00:00<00:00, 91.00it/s]\u001b[A\n",
      " 25%|##5       | 19/75 [00:00<00:00, 90.42it/s]\u001b[A\n",
      " 37%|###7      | 28/75 [00:00<00:00, 90.07it/s]\u001b[A\n",
      " 48%|####8     | 36/75 [00:00<00:00, 85.11it/s]\u001b[A\n",
      " 60%|######    | 45/75 [00:00<00:00, 85.45it/s]\u001b[A\n",
      " 71%|#######   | 53/75 [00:00<00:00, 80.57it/s]\u001b[A\n",
      " 81%|########1 | 61/75 [00:00<00:00, 77.34it/s]\u001b[A\n",
      " 92%|#########2| 69/75 [00:00<00:00, 75.33it/s]\u001b[A\n",
      " 82%|████████▏ | 703/858 [00:35<00:23,  6.47it/s]A"
     ]
    },
    {
     "name": "stdout",
     "output_type": "stream",
     "text": [
      "{'ade': 0.45087788, 'fde': 1.0011584}\n",
      "\t last loss:0.000322975, eval on validation:['ade: 0.45087788', 'fde: 1.0011584'], (best ade:0.44795987 at step 22200) \n"
     ]
    },
    {
     "name": "stderr",
     "output_type": "stream",
     "text": [
      "100%|██████████| 858/858 [00:43<00:00, 19.90it/s]\n",
      "  0%|          | 2/858 [00:00<00:44, 19.30it/s]"
     ]
    },
    {
     "name": "stdout",
     "output_type": "stream",
     "text": [
      "('Epoca 33.', 'lr:', 0.00014850224)\n"
     ]
    },
    {
     "name": "stderr",
     "output_type": "stream",
     "text": [
      " 17%|█▋        | 143/858 [00:07<00:36, 19.51it/s]"
     ]
    },
    {
     "name": "stdout",
     "output_type": "stream",
     "text": [
      "\tsaving model 27600...\n"
     ]
    },
    {
     "name": "stderr",
     "output_type": "stream",
     "text": [
      "\n",
      "  0%|          | 0/75 [00:00<?, ?it/s]\u001b[A\n",
      "  8%|8         | 6/75 [00:00<00:01, 57.20it/s]\u001b[A"
     ]
    },
    {
     "name": "stdout",
     "output_type": "stream",
     "text": [
      "\tdone\n",
      "Evaluating\n"
     ]
    },
    {
     "name": "stderr",
     "output_type": "stream",
     "text": [
      "\n",
      " 16%|#6        | 12/75 [00:00<00:01, 57.15it/s]\u001b[A\n",
      " 25%|##5       | 19/75 [00:00<00:00, 58.57it/s]\u001b[A\n",
      " 35%|###4      | 26/75 [00:00<00:00, 60.50it/s]\u001b[A\n",
      " 44%|####4     | 33/75 [00:00<00:00, 62.06it/s]\u001b[A\n",
      " 52%|#####2    | 39/75 [00:00<00:00, 60.81it/s]\u001b[A\n",
      " 60%|######    | 45/75 [00:00<00:00, 53.88it/s]\u001b[A\n",
      " 68%|######8   | 51/75 [00:00<00:00, 49.62it/s]\u001b[A\n",
      " 77%|#######7  | 58/75 [00:01<00:00, 53.03it/s]\u001b[A\n",
      " 87%|########6 | 65/75 [00:01<00:00, 56.59it/s]\u001b[A\n",
      " 96%|#########6| 72/75 [00:01<00:00, 59.56it/s]\u001b[A\n",
      " 17%|█▋        | 145/858 [00:09<03:20,  3.55it/s]A"
     ]
    },
    {
     "name": "stdout",
     "output_type": "stream",
     "text": [
      "{'ade': 0.45014232, 'fde': 1.0005312}\n",
      "\t last loss:0.000442732, eval on validation:['ade: 0.45014232', 'fde: 1.0005312'], (best ade:0.44795987 at step 22200) \n"
     ]
    },
    {
     "name": "stderr",
     "output_type": "stream",
     "text": [
      " 52%|█████▏    | 443/858 [00:30<00:15, 26.40it/s]\n",
      "  0%|          | 0/75 [00:00<?, ?it/s]\u001b[A"
     ]
    },
    {
     "name": "stdout",
     "output_type": "stream",
     "text": [
      "\tsaving model 27900...\n",
      "\tdone\n",
      "Evaluating\n"
     ]
    },
    {
     "name": "stderr",
     "output_type": "stream",
     "text": [
      "\n",
      " 13%|#3        | 10/75 [00:00<00:00, 91.46it/s]\u001b[A\n",
      " 27%|##6       | 20/75 [00:00<00:00, 92.05it/s]\u001b[A\n",
      " 40%|####      | 30/75 [00:00<00:00, 92.29it/s]\u001b[A\n",
      " 52%|#####2    | 39/75 [00:00<00:00, 90.81it/s]\u001b[A\n",
      " 65%|######5   | 49/75 [00:00<00:00, 91.25it/s]\u001b[A\n",
      " 77%|#######7  | 58/75 [00:00<00:00, 90.59it/s]\u001b[A\n",
      " 91%|######### | 68/75 [00:00<00:00, 91.05it/s]\u001b[A\n",
      " 52%|█████▏    | 446/858 [00:31<00:57,  7.14it/s]A"
     ]
    },
    {
     "name": "stdout",
     "output_type": "stream",
     "text": [
      "{'ade': 0.45090476, 'fde': 1.0012091}\n",
      "\t last loss:0.000280064, eval on validation:['ade: 0.45090476', 'fde: 1.0012091'], (best ade:0.44795987 at step 22200) \n"
     ]
    },
    {
     "name": "stderr",
     "output_type": "stream",
     "text": [
      " 87%|████████▋ | 743/858 [00:43<00:04, 26.25it/s]\n",
      "  0%|          | 0/75 [00:00<?, ?it/s]\u001b[A"
     ]
    },
    {
     "name": "stdout",
     "output_type": "stream",
     "text": [
      "\tsaving model 28200...\n",
      "\tdone\n",
      "Evaluating\n"
     ]
    },
    {
     "name": "stderr",
     "output_type": "stream",
     "text": [
      "\n",
      " 12%|#2        | 9/75 [00:00<00:00, 84.29it/s]\u001b[A\n",
      " 24%|##4       | 18/75 [00:00<00:00, 84.43it/s]\u001b[A\n",
      " 36%|###6      | 27/75 [00:00<00:00, 85.85it/s]\u001b[A\n",
      " 49%|####9     | 37/75 [00:00<00:00, 87.94it/s]\u001b[A\n",
      " 63%|######2   | 47/75 [00:00<00:00, 89.03it/s]\u001b[A\n",
      " 76%|#######6  | 57/75 [00:00<00:00, 90.32it/s]\u001b[A\n",
      " 89%|########9 | 67/75 [00:00<00:00, 91.51it/s]\u001b[A\n",
      "100%|##########| 75/75 [00:00<00:00, 90.02it/s]\u001b[A"
     ]
    },
    {
     "name": "stdout",
     "output_type": "stream",
     "text": [
      "{'ade': 0.44792292, 'fde': 0.9939328}\n",
      "\t last loss:0.000386515, eval on validation:['ade: 0.44792292', 'fde: 0.9939328'], (best ade:0.44795987 at step 22200) \n",
      "\t saving best model...\n",
      "\t done.\n"
     ]
    },
    {
     "name": "stderr",
     "output_type": "stream",
     "text": [
      "100%|██████████| 858/858 [00:49<00:00, 17.50it/s]\n",
      "  0%|          | 1/858 [00:00<01:34,  9.09it/s]"
     ]
    },
    {
     "name": "stdout",
     "output_type": "stream",
     "text": [
      "('Epoca 34.', 'lr:', 0.00014850224)\n"
     ]
    },
    {
     "name": "stderr",
     "output_type": "stream",
     "text": [
      " 21%|██▏       | 183/858 [00:08<00:29, 22.90it/s]\n",
      "  0%|          | 0/75 [00:00<?, ?it/s]\u001b[A"
     ]
    },
    {
     "name": "stdout",
     "output_type": "stream",
     "text": [
      "\tsaving model 28500...\n",
      "\tdone\n",
      "Evaluating\n"
     ]
    },
    {
     "name": "stderr",
     "output_type": "stream",
     "text": [
      "\n",
      " 11%|#         | 8/75 [00:00<00:00, 75.34it/s]\u001b[A\n",
      " 23%|##2       | 17/75 [00:00<00:00, 77.37it/s]\u001b[A\n",
      " 35%|###4      | 26/75 [00:00<00:00, 78.95it/s]\u001b[A\n",
      " 47%|####6     | 35/75 [00:00<00:00, 80.02it/s]\u001b[A\n",
      " 59%|#####8    | 44/75 [00:00<00:00, 80.63it/s]\u001b[A\n",
      " 69%|######9   | 52/75 [00:00<00:00, 79.48it/s]\u001b[A\n",
      " 81%|########1 | 61/75 [00:00<00:00, 80.35it/s]\u001b[A\n",
      " 93%|#########3| 70/75 [00:00<00:00, 81.53it/s]\u001b[A\n",
      "100%|##########| 75/75 [00:00<00:00, 79.10it/s]\u001b[A"
     ]
    },
    {
     "name": "stdout",
     "output_type": "stream",
     "text": [
      "{'ade': 0.4457236, 'fde': 0.9852434}\n",
      "\t last loss:0.000306452, eval on validation:['ade: 0.4457236', 'fde: 0.9852434'], (best ade:0.44792292 at step 28200) \n",
      "\t saving best model...\n",
      "\t done.\n"
     ]
    },
    {
     "name": "stderr",
     "output_type": "stream",
     "text": [
      " 56%|█████▋    | 483/858 [00:22<00:15, 24.58it/s]\n",
      "  0%|          | 0/75 [00:00<?, ?it/s]\u001b[A"
     ]
    },
    {
     "name": "stdout",
     "output_type": "stream",
     "text": [
      "\tsaving model 28800...\n",
      "\tdone\n",
      "Evaluating\n"
     ]
    },
    {
     "name": "stderr",
     "output_type": "stream",
     "text": [
      "\n",
      " 12%|#2        | 9/75 [00:00<00:00, 82.00it/s]\u001b[A\n",
      " 24%|##4       | 18/75 [00:00<00:00, 82.19it/s]\u001b[A\n",
      " 36%|###6      | 27/75 [00:00<00:00, 82.11it/s]\u001b[A\n",
      " 47%|####6     | 35/75 [00:00<00:00, 80.98it/s]\u001b[A\n",
      " 57%|#####7    | 43/75 [00:00<00:00, 80.53it/s]\u001b[A\n",
      " 69%|######9   | 52/75 [00:00<00:00, 81.18it/s]\u001b[A\n",
      " 81%|########1 | 61/75 [00:00<00:00, 82.40it/s]\u001b[A\n",
      " 92%|#########2| 69/75 [00:00<00:00, 80.13it/s]\u001b[A\n",
      " 57%|█████▋    | 489/858 [00:23<00:44,  8.31it/s]A"
     ]
    },
    {
     "name": "stdout",
     "output_type": "stream",
     "text": [
      "{'ade': 0.44985038, 'fde': 0.9935774}\n",
      "\t last loss:0.000445156, eval on validation:['ade: 0.44985038', 'fde: 0.9935774'], (best ade:0.4457236 at step 28500) \n"
     ]
    },
    {
     "name": "stderr",
     "output_type": "stream",
     "text": [
      " 91%|█████████▏| 783/858 [00:36<00:03, 23.93it/s]\n",
      "  0%|          | 0/75 [00:00<?, ?it/s]\u001b[A"
     ]
    },
    {
     "name": "stdout",
     "output_type": "stream",
     "text": [
      "\tsaving model 29100...\n",
      "\tdone\n",
      "Evaluating\n"
     ]
    },
    {
     "name": "stderr",
     "output_type": "stream",
     "text": [
      "\n",
      " 11%|#         | 8/75 [00:00<00:00, 79.73it/s]\u001b[A\n",
      " 21%|##1       | 16/75 [00:00<00:00, 78.33it/s]\u001b[A\n",
      " 33%|###3      | 25/75 [00:00<00:00, 80.11it/s]\u001b[A\n",
      " 45%|####5     | 34/75 [00:00<00:00, 81.80it/s]\u001b[A\n",
      " 57%|#####7    | 43/75 [00:00<00:00, 82.37it/s]\u001b[A\n",
      " 68%|######8   | 51/75 [00:00<00:00, 81.49it/s]\u001b[A\n",
      " 80%|########  | 60/75 [00:00<00:00, 81.47it/s]\u001b[A\n",
      " 92%|#########2| 69/75 [00:00<00:00, 82.36it/s]\u001b[A\n",
      " 92%|█████████▏| 789/858 [00:37<00:08,  8.37it/s]A"
     ]
    },
    {
     "name": "stdout",
     "output_type": "stream",
     "text": [
      "{'ade': 0.44921428, 'fde': 0.9947938}\n",
      "\t last loss:0.000286572, eval on validation:['ade: 0.44921428', 'fde: 0.9947938'], (best ade:0.4457236 at step 28500) \n"
     ]
    },
    {
     "name": "stderr",
     "output_type": "stream",
     "text": [
      "100%|██████████| 858/858 [00:43<00:00, 19.57it/s]\n",
      "  0%|          | 2/858 [00:00<01:06, 12.78it/s]"
     ]
    },
    {
     "name": "stdout",
     "output_type": "stream",
     "text": [
      "('Epoca 35.', 'lr:', 0.0001262269)\n"
     ]
    },
    {
     "name": "stderr",
     "output_type": "stream",
     "text": [
      " 26%|██▌       | 225/858 [00:13<00:30, 20.92it/s]"
     ]
    },
    {
     "name": "stdout",
     "output_type": "stream",
     "text": [
      "\tsaving model 29400...\n"
     ]
    },
    {
     "name": "stderr",
     "output_type": "stream",
     "text": [
      "\n",
      "  0%|          | 0/75 [00:00<?, ?it/s]\u001b[A\n",
      "  9%|9         | 7/75 [00:00<00:01, 63.96it/s]\u001b[A\n",
      " 19%|#8        | 14/75 [00:00<00:00, 64.35it/s]\u001b[A\n",
      " 28%|##8       | 21/75 [00:00<00:00, 64.82it/s]\u001b[A\n",
      " 37%|###7      | 28/75 [00:00<00:00, 65.55it/s]\u001b[A\n",
      " 47%|####6     | 35/75 [00:00<00:00, 64.77it/s]\u001b[A\n",
      " 56%|#####6    | 42/75 [00:00<00:00, 65.49it/s]\u001b[A\n",
      " 65%|######5   | 49/75 [00:00<00:00, 65.86it/s]\u001b[A\n",
      " 75%|#######4  | 56/75 [00:00<00:00, 63.01it/s]\u001b[A\n",
      " 84%|########4 | 63/75 [00:00<00:00, 63.57it/s]\u001b[A\n",
      " 93%|#########3| 70/75 [00:01<00:00, 64.05it/s]\u001b[A\n",
      " 27%|██▋       | 230/858 [00:15<01:32,  6.81it/s]A"
     ]
    },
    {
     "name": "stdout",
     "output_type": "stream",
     "text": [
      "\tdone\n",
      "Evaluating\n",
      "{'ade': 0.4592456, 'fde': 1.0259815}\n",
      "\t last loss:0.000236400, eval on validation:['ade: 0.4592456', 'fde: 1.0259815'], (best ade:0.4457236 at step 28500) \n"
     ]
    },
    {
     "name": "stderr",
     "output_type": "stream",
     "text": [
      " 61%|██████    | 525/858 [00:29<00:15, 20.89it/s]"
     ]
    },
    {
     "name": "stdout",
     "output_type": "stream",
     "text": [
      "\tsaving model 29700...\n"
     ]
    },
    {
     "name": "stderr",
     "output_type": "stream",
     "text": [
      "\n",
      "  0%|          | 0/75 [00:00<?, ?it/s]\u001b[A\n",
      "  9%|9         | 7/75 [00:00<00:01, 65.78it/s]\u001b[A\n",
      " 19%|#8        | 14/75 [00:00<00:00, 65.54it/s]\u001b[A\n",
      " 28%|##8       | 21/75 [00:00<00:00, 65.41it/s]\u001b[A\n",
      " 37%|###7      | 28/75 [00:00<00:00, 65.47it/s]\u001b[A\n",
      " 47%|####6     | 35/75 [00:00<00:00, 65.16it/s]\u001b[A\n",
      " 56%|#####6    | 42/75 [00:00<00:00, 66.13it/s]\u001b[A\n",
      " 64%|######4   | 48/75 [00:00<00:00, 63.58it/s]\u001b[A\n",
      " 72%|#######2  | 54/75 [00:00<00:00, 62.03it/s]\u001b[A\n",
      " 81%|########1 | 61/75 [00:00<00:00, 63.08it/s]\u001b[A\n",
      " 92%|#########2| 69/75 [00:01<00:00, 66.10it/s]\u001b[A\n",
      " 62%|██████▏   | 531/858 [00:31<00:46,  7.08it/s]A"
     ]
    },
    {
     "name": "stdout",
     "output_type": "stream",
     "text": [
      "\tdone\n",
      "Evaluating\n",
      "{'ade': 0.4607665, 'fde': 1.0280408}\n",
      "\t last loss:0.000343407, eval on validation:['ade: 0.4607665', 'fde: 1.0280408'], (best ade:0.4457236 at step 28500) \n"
     ]
    },
    {
     "name": "stderr",
     "output_type": "stream",
     "text": [
      " 96%|█████████▌| 825/858 [00:42<00:01, 26.13it/s]\n",
      "  0%|          | 0/75 [00:00<?, ?it/s]\u001b[A"
     ]
    },
    {
     "name": "stdout",
     "output_type": "stream",
     "text": [
      "\tsaving model 30000...\n",
      "\tdone\n",
      "Evaluating\n"
     ]
    },
    {
     "name": "stderr",
     "output_type": "stream",
     "text": [
      "\n",
      " 12%|#2        | 9/75 [00:00<00:00, 85.90it/s]\u001b[A\n",
      " 25%|##5       | 19/75 [00:00<00:00, 87.63it/s]\u001b[A\n",
      " 39%|###8      | 29/75 [00:00<00:00, 89.28it/s]\u001b[A\n",
      " 52%|#####2    | 39/75 [00:00<00:00, 89.92it/s]\u001b[A\n",
      " 64%|######4   | 48/75 [00:00<00:00, 89.75it/s]\u001b[A\n",
      " 77%|#######7  | 58/75 [00:00<00:00, 90.43it/s]\u001b[A\n",
      " 91%|######### | 68/75 [00:00<00:00, 91.55it/s]\u001b[A\n",
      " 97%|█████████▋| 831/858 [00:43<00:02,  9.09it/s]A"
     ]
    },
    {
     "name": "stdout",
     "output_type": "stream",
     "text": [
      "{'ade': 0.449073, 'fde': 0.995145}\n",
      "\t last loss:0.000510907, eval on validation:['ade: 0.449073', 'fde: 0.995145'], (best ade:0.4457236 at step 28500) \n"
     ]
    },
    {
     "name": "stderr",
     "output_type": "stream",
     "text": [
      "100%|██████████| 858/858 [00:45<00:00, 24.05it/s]\n",
      "  0%|          | 1/858 [00:00<01:32,  9.31it/s]"
     ]
    },
    {
     "name": "stdout",
     "output_type": "stream",
     "text": [
      "('Epoca 36.', 'lr:', 0.0001262269)\n"
     ]
    },
    {
     "name": "stderr",
     "output_type": "stream",
     "text": [
      " 31%|███▏      | 269/858 [00:10<00:33, 17.79it/s]"
     ]
    },
    {
     "name": "stdout",
     "output_type": "stream",
     "text": [
      "\tsaving model 30300...\n"
     ]
    },
    {
     "name": "stderr",
     "output_type": "stream",
     "text": [
      "\n",
      "  0%|          | 0/75 [00:00<?, ?it/s]\u001b[A\n",
      "  8%|8         | 6/75 [00:00<00:01, 58.36it/s]\u001b[A"
     ]
    },
    {
     "name": "stdout",
     "output_type": "stream",
     "text": [
      "\tdone\n",
      "Evaluating\n"
     ]
    },
    {
     "name": "stderr",
     "output_type": "stream",
     "text": [
      "\n",
      " 16%|#6        | 12/75 [00:00<00:01, 56.15it/s]\u001b[A\n",
      " 24%|##4       | 18/75 [00:00<00:01, 56.93it/s]\u001b[A\n",
      " 32%|###2      | 24/75 [00:00<00:00, 57.15it/s]\u001b[A\n",
      " 41%|####1     | 31/75 [00:00<00:00, 58.37it/s]\u001b[A\n",
      " 48%|####8     | 36/75 [00:00<00:00, 53.77it/s]\u001b[A\n",
      " 56%|#####6    | 42/75 [00:00<00:00, 54.50it/s]\u001b[A\n",
      " 64%|######4   | 48/75 [00:00<00:00, 55.84it/s]\u001b[A\n",
      " 73%|#######3  | 55/75 [00:00<00:00, 58.04it/s]\u001b[A\n",
      " 83%|########2 | 62/75 [00:01<00:00, 58.96it/s]\u001b[A\n",
      " 91%|######### | 68/75 [00:01<00:00, 58.06it/s]\u001b[A\n",
      " 99%|#########8| 74/75 [00:01<00:00, 54.53it/s]\u001b[A\n",
      " 32%|███▏      | 271/858 [00:12<02:56,  3.32it/s]A"
     ]
    },
    {
     "name": "stdout",
     "output_type": "stream",
     "text": [
      "{'ade': 0.4486395, 'fde': 0.99558306}\n",
      "\t last loss:0.000268715, eval on validation:['ade: 0.4486395', 'fde: 0.99558306'], (best ade:0.4457236 at step 28500) \n"
     ]
    },
    {
     "name": "stderr",
     "output_type": "stream",
     "text": [
      " 66%|██████▋   | 569/858 [00:29<00:14, 20.42it/s]"
     ]
    },
    {
     "name": "stdout",
     "output_type": "stream",
     "text": [
      "\tsaving model 30600...\n"
     ]
    },
    {
     "name": "stderr",
     "output_type": "stream",
     "text": [
      "\n",
      "  0%|          | 0/75 [00:00<?, ?it/s]\u001b[A\n",
      "  8%|8         | 6/75 [00:00<00:01, 54.79it/s]\u001b[A\n",
      " 17%|#7        | 13/75 [00:00<00:01, 57.59it/s]\u001b[A\n",
      " 27%|##6       | 20/75 [00:00<00:00, 59.46it/s]\u001b[A\n",
      " 36%|###6      | 27/75 [00:00<00:00, 61.44it/s]\u001b[A\n",
      " 45%|####5     | 34/75 [00:00<00:00, 63.43it/s]\u001b[A\n",
      " 55%|#####4    | 41/75 [00:00<00:00, 62.99it/s]\u001b[A\n",
      " 64%|######4   | 48/75 [00:00<00:00, 64.35it/s]\u001b[A\n",
      " 73%|#######3  | 55/75 [00:00<00:00, 64.76it/s]\u001b[A\n",
      " 83%|########2 | 62/75 [00:00<00:00, 64.69it/s]\u001b[A\n",
      " 92%|#########2| 69/75 [00:01<00:00, 62.33it/s]\u001b[A\n",
      " 67%|██████▋   | 572/858 [00:31<00:54,  5.28it/s]A"
     ]
    },
    {
     "name": "stdout",
     "output_type": "stream",
     "text": [
      "\tdone\n",
      "Evaluating\n",
      "{'ade': 0.457841, 'fde': 1.0204506}\n",
      "\t last loss:0.000309292, eval on validation:['ade: 0.457841', 'fde: 1.0204506'], (best ade:0.4457236 at step 28500) \n"
     ]
    },
    {
     "name": "stderr",
     "output_type": "stream",
     "text": [
      "100%|██████████| 858/858 [00:45<00:00, 20.35it/s]\n",
      "  0%|          | 2/858 [00:00<00:53, 15.92it/s]"
     ]
    },
    {
     "name": "stdout",
     "output_type": "stream",
     "text": [
      "('Epoca 37.', 'lr:', 0.00010729288)\n"
     ]
    },
    {
     "name": "stderr",
     "output_type": "stream",
     "text": [
      "  1%|          | 9/858 [00:00<00:46, 18.40it/s]"
     ]
    },
    {
     "name": "stdout",
     "output_type": "stream",
     "text": [
      "\tsaving model 30900...\n"
     ]
    },
    {
     "name": "stderr",
     "output_type": "stream",
     "text": [
      "\n",
      "  0%|          | 0/75 [00:00<?, ?it/s]\u001b[A\n",
      "  9%|9         | 7/75 [00:00<00:01, 66.29it/s]\u001b[A"
     ]
    },
    {
     "name": "stdout",
     "output_type": "stream",
     "text": [
      "\tdone\n",
      "Evaluating\n"
     ]
    },
    {
     "name": "stderr",
     "output_type": "stream",
     "text": [
      "\n",
      " 19%|#8        | 14/75 [00:00<00:00, 64.85it/s]\u001b[A\n",
      " 31%|###       | 23/75 [00:00<00:00, 70.50it/s]\u001b[A\n",
      " 44%|####4     | 33/75 [00:00<00:00, 76.07it/s]\u001b[A\n",
      " 57%|#####7    | 43/75 [00:00<00:00, 80.58it/s]\u001b[A\n",
      " 71%|#######   | 53/75 [00:00<00:00, 83.62it/s]\u001b[A\n",
      " 83%|########2 | 62/75 [00:00<00:00, 84.64it/s]\u001b[A\n",
      " 95%|#########4| 71/75 [00:00<00:00, 84.15it/s]\u001b[A\n",
      "  2%|▏         | 15/858 [00:01<01:49,  7.71it/s][A"
     ]
    },
    {
     "name": "stdout",
     "output_type": "stream",
     "text": [
      "{'ade': 0.44940555, 'fde': 0.99902165}\n",
      "\t last loss:0.000315027, eval on validation:['ade: 0.44940555', 'fde: 0.99902165'], (best ade:0.4457236 at step 28500) \n"
     ]
    },
    {
     "name": "stderr",
     "output_type": "stream",
     "text": [
      " 36%|███▌      | 309/858 [00:13<00:20, 26.21it/s]\n",
      "  0%|          | 0/75 [00:00<?, ?it/s]\u001b[A"
     ]
    },
    {
     "name": "stdout",
     "output_type": "stream",
     "text": [
      "\tsaving model 31200...\n",
      "\tdone\n",
      "Evaluating\n"
     ]
    },
    {
     "name": "stderr",
     "output_type": "stream",
     "text": [
      "\n",
      " 12%|#2        | 9/75 [00:00<00:00, 85.29it/s]\u001b[A\n",
      " 23%|##2       | 17/75 [00:00<00:00, 82.91it/s]\u001b[A\n",
      " 35%|###4      | 26/75 [00:00<00:00, 84.45it/s]\u001b[A\n",
      " 47%|####6     | 35/75 [00:00<00:00, 85.23it/s]\u001b[A\n",
      " 60%|######    | 45/75 [00:00<00:00, 87.39it/s]\u001b[A\n",
      " 73%|#######3  | 55/75 [00:00<00:00, 89.06it/s]\u001b[A\n",
      " 85%|########5 | 64/75 [00:00<00:00, 89.05it/s]\u001b[A\n",
      " 99%|#########8| 74/75 [00:00<00:00, 89.77it/s]\u001b[A\n",
      " 37%|███▋      | 315/858 [00:14<00:59,  9.06it/s]A"
     ]
    },
    {
     "name": "stdout",
     "output_type": "stream",
     "text": [
      "{'ade': 0.44697678, 'fde': 0.98995006}\n",
      "\t last loss:0.000342549, eval on validation:['ade: 0.44697678', 'fde: 0.98995006'], (best ade:0.4457236 at step 28500) \n"
     ]
    },
    {
     "name": "stderr",
     "output_type": "stream",
     "text": [
      " 71%|███████   | 609/858 [00:26<00:10, 23.94it/s]\n",
      "  0%|          | 0/75 [00:00<?, ?it/s]\u001b[A"
     ]
    },
    {
     "name": "stdout",
     "output_type": "stream",
     "text": [
      "\tsaving model 31500...\n",
      "\tdone\n",
      "Evaluating\n"
     ]
    },
    {
     "name": "stderr",
     "output_type": "stream",
     "text": [
      "\n",
      " 12%|#2        | 9/75 [00:00<00:00, 82.10it/s]\u001b[A\n",
      " 24%|##4       | 18/75 [00:00<00:00, 82.83it/s]\u001b[A\n",
      " 36%|###6      | 27/75 [00:00<00:00, 83.30it/s]\u001b[A\n",
      " 48%|####8     | 36/75 [00:00<00:00, 84.18it/s]\u001b[A\n",
      " 60%|######    | 45/75 [00:00<00:00, 83.39it/s]\u001b[A\n",
      " 69%|######9   | 52/75 [00:00<00:00, 78.68it/s]\u001b[A\n",
      " 81%|########1 | 61/75 [00:00<00:00, 80.44it/s]\u001b[A\n",
      " 92%|#########2| 69/75 [00:00<00:00, 79.66it/s]\u001b[A\n",
      "100%|##########| 75/75 [00:00<00:00, 81.35it/s]\u001b[A"
     ]
    },
    {
     "name": "stdout",
     "output_type": "stream",
     "text": [
      "{'ade': 0.44334945, 'fde': 0.9813446}\n",
      "\t last loss:0.000390086, eval on validation:['ade: 0.44334945', 'fde: 0.9813446'], (best ade:0.4457236 at step 28500) \n",
      "\t saving best model...\n",
      "\t done.\n"
     ]
    },
    {
     "name": "stderr",
     "output_type": "stream",
     "text": [
      "100%|██████████| 858/858 [00:38<00:00, 24.61it/s]\n",
      "  0%|          | 3/858 [00:00<00:37, 22.58it/s]"
     ]
    },
    {
     "name": "stdout",
     "output_type": "stream",
     "text": [
      "('Epoca 38.', 'lr:', 0.00010729288)\n"
     ]
    },
    {
     "name": "stderr",
     "output_type": "stream",
     "text": [
      "  6%|▌         | 51/858 [00:02<00:32, 24.69it/s]\n",
      "  0%|          | 0/75 [00:00<?, ?it/s]\u001b[A"
     ]
    },
    {
     "name": "stdout",
     "output_type": "stream",
     "text": [
      "\tsaving model 31800...\n",
      "\tdone\n",
      "Evaluating\n"
     ]
    },
    {
     "name": "stderr",
     "output_type": "stream",
     "text": [
      "\n",
      " 12%|#2        | 9/75 [00:00<00:00, 82.35it/s]\u001b[A\n",
      " 24%|##4       | 18/75 [00:00<00:00, 83.24it/s]\u001b[A\n",
      " 36%|###6      | 27/75 [00:00<00:00, 83.36it/s]\u001b[A\n",
      " 48%|####8     | 36/75 [00:00<00:00, 83.70it/s]\u001b[A\n",
      " 60%|######    | 45/75 [00:00<00:00, 83.54it/s]\u001b[A\n",
      " 72%|#######2  | 54/75 [00:00<00:00, 84.13it/s]\u001b[A\n",
      " 84%|########4 | 63/75 [00:00<00:00, 84.22it/s]\u001b[A\n",
      " 95%|#########4| 71/75 [00:00<00:00, 80.83it/s]\u001b[A\n",
      "  7%|▋         | 57/858 [00:03<01:35,  8.38it/s][A"
     ]
    },
    {
     "name": "stdout",
     "output_type": "stream",
     "text": [
      "{'ade': 0.4533211, 'fde': 1.0073769}\n",
      "\t last loss:0.000307694, eval on validation:['ade: 0.4533211', 'fde: 1.0073769'], (best ade:0.44334945 at step 31500) \n"
     ]
    },
    {
     "name": "stderr",
     "output_type": "stream",
     "text": [
      " 41%|████      | 351/858 [00:15<00:21, 24.08it/s]\n",
      "  0%|          | 0/75 [00:00<?, ?it/s]\u001b[A"
     ]
    },
    {
     "name": "stdout",
     "output_type": "stream",
     "text": [
      "\tsaving model 32100...\n",
      "\tdone\n",
      "Evaluating\n"
     ]
    },
    {
     "name": "stderr",
     "output_type": "stream",
     "text": [
      "\n",
      " 11%|#         | 8/75 [00:00<00:00, 79.07it/s]\u001b[A\n",
      " 23%|##2       | 17/75 [00:00<00:00, 80.35it/s]\u001b[A\n",
      " 35%|###4      | 26/75 [00:00<00:00, 81.05it/s]\u001b[A\n",
      " 45%|####5     | 34/75 [00:00<00:00, 79.82it/s]\u001b[A\n",
      " 55%|#####4    | 41/75 [00:00<00:00, 74.77it/s]\u001b[A\n",
      " 65%|######5   | 49/75 [00:00<00:00, 75.56it/s]\u001b[A\n",
      " 77%|#######7  | 58/75 [00:00<00:00, 77.07it/s]\u001b[A\n",
      " 88%|########8 | 66/75 [00:00<00:00, 76.57it/s]\u001b[A\n",
      " 42%|████▏     | 357/858 [00:16<01:01,  8.20it/s]A"
     ]
    },
    {
     "name": "stdout",
     "output_type": "stream",
     "text": [
      "{'ade': 0.45433155, 'fde': 1.0148615}\n",
      "\t last loss:0.000460823, eval on validation:['ade: 0.45433155', 'fde: 1.0148615'], (best ade:0.44334945 at step 31500) \n"
     ]
    },
    {
     "name": "stderr",
     "output_type": "stream",
     "text": [
      " 76%|███████▌  | 651/858 [00:29<00:08, 23.21it/s]\n",
      "  0%|          | 0/75 [00:00<?, ?it/s]\u001b[A"
     ]
    },
    {
     "name": "stdout",
     "output_type": "stream",
     "text": [
      "\tsaving model 32400...\n",
      "\tdone\n",
      "Evaluating\n"
     ]
    },
    {
     "name": "stderr",
     "output_type": "stream",
     "text": [
      "\n",
      "  9%|9         | 7/75 [00:00<00:00, 69.19it/s]\u001b[A\n",
      " 20%|##        | 15/75 [00:00<00:00, 70.71it/s]\u001b[A\n",
      " 31%|###       | 23/75 [00:00<00:00, 71.35it/s]\u001b[A\n",
      " 39%|###8      | 29/75 [00:00<00:00, 66.98it/s]\u001b[A\n",
      " 48%|####8     | 36/75 [00:00<00:00, 67.27it/s]\u001b[A\n",
      " 59%|#####8    | 44/75 [00:00<00:00, 68.47it/s]\u001b[A\n",
      " 69%|######9   | 52/75 [00:00<00:00, 70.12it/s]\u001b[A\n",
      " 80%|########  | 60/75 [00:00<00:00, 70.72it/s]\u001b[A\n",
      " 91%|######### | 68/75 [00:00<00:00, 71.19it/s]\u001b[A\n",
      "100%|##########| 75/75 [00:01<00:00, 70.94it/s]\u001b[A"
     ]
    },
    {
     "name": "stdout",
     "output_type": "stream",
     "text": [
      "{'ade': 0.44256094, 'fde': 0.97571343}\n",
      "\t last loss:0.000236740, eval on validation:['ade: 0.44256094', 'fde: 0.97571343'], (best ade:0.44334945 at step 31500) \n",
      "\t saving best model...\n",
      "\t done.\n"
     ]
    },
    {
     "name": "stderr",
     "output_type": "stream",
     "text": [
      "100%|██████████| 858/858 [00:39<00:00, 24.08it/s]\n",
      "  0%|          | 1/858 [00:00<01:31,  9.36it/s]"
     ]
    },
    {
     "name": "stdout",
     "output_type": "stream",
     "text": [
      "('Epoca 39.', 'lr:', 9.119895e-05)\n"
     ]
    },
    {
     "name": "stderr",
     "output_type": "stream",
     "text": [
      " 11%|█         | 93/858 [00:03<00:31, 24.27it/s]\n",
      "  0%|          | 0/75 [00:00<?, ?it/s]\u001b[A"
     ]
    },
    {
     "name": "stdout",
     "output_type": "stream",
     "text": [
      "\tsaving model 32700...\n",
      "\tdone\n",
      "Evaluating\n"
     ]
    },
    {
     "name": "stderr",
     "output_type": "stream",
     "text": [
      "\n",
      " 11%|#         | 8/75 [00:00<00:00, 78.62it/s]\u001b[A\n",
      " 23%|##2       | 17/75 [00:00<00:00, 80.36it/s]\u001b[A\n",
      " 35%|###4      | 26/75 [00:00<00:00, 81.60it/s]\u001b[A\n",
      " 47%|####6     | 35/75 [00:00<00:00, 82.03it/s]\u001b[A\n",
      " 57%|#####7    | 43/75 [00:00<00:00, 79.64it/s]\u001b[A\n",
      " 69%|######9   | 52/75 [00:00<00:00, 80.98it/s]\u001b[A\n",
      " 81%|########1 | 61/75 [00:00<00:00, 82.21it/s]\u001b[A\n",
      " 93%|#########3| 70/75 [00:00<00:00, 83.18it/s]\u001b[A\n",
      " 12%|█▏        | 99/858 [00:05<01:29,  8.50it/s][A"
     ]
    },
    {
     "name": "stdout",
     "output_type": "stream",
     "text": [
      "{'ade': 0.4541936, 'fde': 1.0109205}\n",
      "\t last loss:0.000289936, eval on validation:['ade: 0.4541936', 'fde: 1.0109205'], (best ade:0.44256094 at step 32400) \n"
     ]
    },
    {
     "name": "stderr",
     "output_type": "stream",
     "text": [
      " 46%|████▌     | 394/858 [00:19<00:34, 13.49it/s]\n",
      "  0%|          | 0/75 [00:00<?, ?it/s]\u001b[A"
     ]
    },
    {
     "name": "stdout",
     "output_type": "stream",
     "text": [
      "\tsaving model 33000...\n",
      "\tdone\n",
      "Evaluating\n"
     ]
    },
    {
     "name": "stderr",
     "output_type": "stream",
     "text": [
      "\n",
      "  8%|8         | 6/75 [00:00<00:01, 57.23it/s]\u001b[A\n",
      " 19%|#8        | 14/75 [00:00<00:00, 61.82it/s]\u001b[A\n",
      " 28%|##8       | 21/75 [00:00<00:00, 63.00it/s]\u001b[A\n",
      " 39%|###8      | 29/75 [00:00<00:00, 60.81it/s]\u001b[A\n",
      " 45%|####5     | 34/75 [00:00<00:00, 47.09it/s]\u001b[A\n",
      " 52%|#####2    | 39/75 [00:00<00:00, 38.19it/s]\u001b[A\n",
      " 63%|######2   | 47/75 [00:00<00:00, 44.54it/s]\u001b[A\n",
      " 73%|#######3  | 55/75 [00:01<00:00, 50.14it/s]\u001b[A\n",
      " 83%|########2 | 62/75 [00:01<00:00, 53.83it/s]\u001b[A\n",
      " 92%|#########2| 69/75 [00:01<00:00, 56.50it/s]\u001b[A\n",
      " 46%|████▌     | 396/858 [00:21<02:22,  3.25it/s]A"
     ]
    },
    {
     "name": "stdout",
     "output_type": "stream",
     "text": [
      "{'ade': 0.45165822, 'fde': 1.0026143}\n",
      "\t last loss:0.000356580, eval on validation:['ade: 0.45165822', 'fde: 1.0026143'], (best ade:0.44256094 at step 32400) \n"
     ]
    },
    {
     "name": "stderr",
     "output_type": "stream",
     "text": [
      " 81%|████████  | 693/858 [00:36<00:07, 23.16it/s]\n",
      "  0%|          | 0/75 [00:00<?, ?it/s]\u001b[A"
     ]
    },
    {
     "name": "stdout",
     "output_type": "stream",
     "text": [
      "\tsaving model 33300...\n",
      "\tdone\n",
      "Evaluating\n"
     ]
    },
    {
     "name": "stderr",
     "output_type": "stream",
     "text": [
      "\n",
      " 11%|#         | 8/75 [00:00<00:00, 77.01it/s]\u001b[A\n",
      " 21%|##1       | 16/75 [00:00<00:00, 77.86it/s]\u001b[A\n",
      " 32%|###2      | 24/75 [00:00<00:00, 76.09it/s]\u001b[A\n",
      " 43%|####2     | 32/75 [00:00<00:00, 74.68it/s]\u001b[A\n",
      " 52%|#####2    | 39/75 [00:00<00:00, 72.83it/s]\u001b[A\n",
      " 61%|######1   | 46/75 [00:00<00:00, 71.08it/s]\u001b[A\n",
      " 71%|#######   | 53/75 [00:00<00:00, 70.49it/s]\u001b[A\n",
      " 80%|########  | 60/75 [00:00<00:00, 66.53it/s]\u001b[A\n",
      " 89%|########9 | 67/75 [00:00<00:00, 66.56it/s]\u001b[A\n",
      " 99%|#########8| 74/75 [00:01<00:00, 67.50it/s]\u001b[A\n",
      " 81%|████████▏ | 698/858 [00:38<00:22,  7.24it/s]A"
     ]
    },
    {
     "name": "stdout",
     "output_type": "stream",
     "text": [
      "{'ade': 0.44637308, 'fde': 0.9892472}\n",
      "\t last loss:0.000292018, eval on validation:['ade: 0.44637308', 'fde: 0.9892472'], (best ade:0.44256094 at step 32400) \n"
     ]
    },
    {
     "name": "stderr",
     "output_type": "stream",
     "text": [
      "100%|██████████| 858/858 [00:45<00:00, 18.76it/s]\n",
      "  0%|          | 3/858 [00:00<00:39, 21.75it/s]"
     ]
    },
    {
     "name": "stdout",
     "output_type": "stream",
     "text": [
      "('Epoca 40.', 'lr:', 9.119895e-05)\n"
     ]
    },
    {
     "name": "stderr",
     "output_type": "stream",
     "text": [
      " 16%|█▌        | 137/858 [00:05<00:34, 20.82it/s]"
     ]
    },
    {
     "name": "stdout",
     "output_type": "stream",
     "text": [
      "\tsaving model 33600...\n"
     ]
    },
    {
     "name": "stderr",
     "output_type": "stream",
     "text": [
      "\n",
      "  0%|          | 0/75 [00:00<?, ?it/s]\u001b[A\n",
      "  9%|9         | 7/75 [00:00<00:01, 64.85it/s]\u001b[A"
     ]
    },
    {
     "name": "stdout",
     "output_type": "stream",
     "text": [
      "\tdone\n",
      "Evaluating\n"
     ]
    },
    {
     "name": "stderr",
     "output_type": "stream",
     "text": [
      "\n",
      " 19%|#8        | 14/75 [00:00<00:00, 62.94it/s]\u001b[A\n",
      " 27%|##6       | 20/75 [00:00<00:00, 61.44it/s]\u001b[A\n",
      " 36%|###6      | 27/75 [00:00<00:00, 62.70it/s]\u001b[A\n",
      " 44%|####4     | 33/75 [00:00<00:00, 61.77it/s]\u001b[A\n",
      " 53%|#####3    | 40/75 [00:00<00:00, 61.64it/s]\u001b[A\n",
      " 61%|######1   | 46/75 [00:00<00:00, 57.29it/s]\u001b[A\n",
      " 69%|######9   | 52/75 [00:00<00:00, 55.42it/s]\u001b[A\n",
      " 77%|#######7  | 58/75 [00:00<00:00, 55.41it/s]\u001b[A\n",
      " 87%|########6 | 65/75 [00:01<00:00, 57.20it/s]\u001b[A\n",
      " 95%|#########4| 71/75 [00:01<00:00, 57.56it/s]\u001b[A\n",
      " 16%|█▋        | 140/858 [00:07<02:27,  4.88it/s]A"
     ]
    },
    {
     "name": "stdout",
     "output_type": "stream",
     "text": [
      "{'ade': 0.44867605, 'fde': 0.9952553}\n",
      "\t last loss:0.000334957, eval on validation:['ade: 0.44867605', 'fde: 0.9952553'], (best ade:0.44256094 at step 32400) \n"
     ]
    },
    {
     "name": "stderr",
     "output_type": "stream",
     "text": [
      " 51%|█████     | 436/858 [00:23<00:20, 20.11it/s]"
     ]
    },
    {
     "name": "stdout",
     "output_type": "stream",
     "text": [
      "\tsaving model 33900...\n"
     ]
    },
    {
     "name": "stderr",
     "output_type": "stream",
     "text": [
      "\n",
      "  0%|          | 0/75 [00:00<?, ?it/s]\u001b[A\n",
      "  8%|8         | 6/75 [00:00<00:01, 59.09it/s]\u001b[A\n",
      " 17%|#7        | 13/75 [00:00<00:01, 61.13it/s]\u001b[A\n",
      " 27%|##6       | 20/75 [00:00<00:00, 62.10it/s]\u001b[A\n",
      " 36%|###6      | 27/75 [00:00<00:00, 63.68it/s]\u001b[A\n",
      " 45%|####5     | 34/75 [00:00<00:00, 63.05it/s]\u001b[A\n",
      " 55%|#####4    | 41/75 [00:00<00:00, 64.44it/s]\u001b[A\n",
      " 63%|######2   | 47/75 [00:00<00:00, 60.24it/s]\u001b[A\n",
      " 72%|#######2  | 54/75 [00:00<00:00, 61.96it/s]\u001b[A\n",
      " 81%|########1 | 61/75 [00:00<00:00, 63.57it/s]\u001b[A\n",
      " 91%|######### | 68/75 [00:01<00:00, 64.07it/s]\u001b[A\n",
      " 51%|█████▏    | 441/858 [00:24<01:01,  6.74it/s]A"
     ]
    },
    {
     "name": "stdout",
     "output_type": "stream",
     "text": [
      "\tdone\n",
      "Evaluating\n",
      "{'ade': 0.45197952, 'fde': 1.003932}\n",
      "\t last loss:0.000993537, eval on validation:['ade: 0.45197952', 'fde: 1.003932'], (best ade:0.44256094 at step 32400) \n"
     ]
    },
    {
     "name": "stderr",
     "output_type": "stream",
     "text": [
      " 86%|████████▌ | 737/858 [00:39<00:04, 24.74it/s]\n",
      "  0%|          | 0/75 [00:00<?, ?it/s]\u001b[A"
     ]
    },
    {
     "name": "stdout",
     "output_type": "stream",
     "text": [
      "\tsaving model 34200...\n",
      "\tdone\n",
      "Evaluating\n"
     ]
    },
    {
     "name": "stderr",
     "output_type": "stream",
     "text": [
      "\n",
      " 12%|#2        | 9/75 [00:00<00:00, 87.33it/s]\u001b[A\n",
      " 24%|##4       | 18/75 [00:00<00:00, 85.85it/s]\u001b[A\n",
      " 36%|###6      | 27/75 [00:00<00:00, 85.98it/s]\u001b[A\n",
      " 48%|####8     | 36/75 [00:00<00:00, 85.00it/s]\u001b[A\n",
      " 60%|######    | 45/75 [00:00<00:00, 84.23it/s]\u001b[A\n",
      " 72%|#######2  | 54/75 [00:00<00:00, 85.63it/s]\u001b[A\n",
      " 84%|########4 | 63/75 [00:00<00:00, 86.27it/s]\u001b[A\n",
      " 96%|#########6| 72/75 [00:00<00:00, 86.67it/s]\u001b[A\n",
      " 86%|████████▌ | 740/858 [00:40<00:17,  6.84it/s]A"
     ]
    },
    {
     "name": "stdout",
     "output_type": "stream",
     "text": [
      "{'ade': 0.44529447, 'fde': 0.9872417}\n",
      "\t last loss:0.000449128, eval on validation:['ade: 0.44529447', 'fde: 0.9872417'], (best ade:0.44256094 at step 32400) \n"
     ]
    },
    {
     "name": "stderr",
     "output_type": "stream",
     "text": [
      "100%|██████████| 858/858 [00:45<00:00, 18.80it/s]\n",
      "  0%|          | 1/858 [00:00<01:56,  7.34it/s]"
     ]
    },
    {
     "name": "stdout",
     "output_type": "stream",
     "text": [
      "('Epoca 41.', 'lr:', 7.751911e-05)\n"
     ]
    },
    {
     "name": "stderr",
     "output_type": "stream",
     "text": [
      " 21%|██        | 177/858 [00:07<00:30, 22.61it/s]\n",
      "  0%|          | 0/75 [00:00<?, ?it/s]\u001b[A"
     ]
    },
    {
     "name": "stdout",
     "output_type": "stream",
     "text": [
      "\tsaving model 34500...\n",
      "\tdone\n",
      "Evaluating\n"
     ]
    },
    {
     "name": "stderr",
     "output_type": "stream",
     "text": [
      "\n",
      " 11%|#         | 8/75 [00:00<00:00, 76.57it/s]\u001b[A\n",
      " 23%|##2       | 17/75 [00:00<00:00, 77.93it/s]\u001b[A\n",
      " 33%|###3      | 25/75 [00:00<00:00, 78.53it/s]\u001b[A\n",
      " 44%|####4     | 33/75 [00:00<00:00, 78.93it/s]\u001b[A\n",
      " 56%|#####6    | 42/75 [00:00<00:00, 79.69it/s]\u001b[A\n",
      " 67%|######6   | 50/75 [00:00<00:00, 78.72it/s]\u001b[A\n",
      " 76%|#######6  | 57/75 [00:00<00:00, 75.36it/s]\u001b[A\n",
      " 88%|########8 | 66/75 [00:00<00:00, 77.24it/s]\u001b[A\n",
      " 21%|██▏       | 183/858 [00:08<01:22,  8.18it/s]A"
     ]
    },
    {
     "name": "stdout",
     "output_type": "stream",
     "text": [
      "{'ade': 0.4467194, 'fde': 0.99193156}\n",
      "\t last loss:0.000351265, eval on validation:['ade: 0.4467194', 'fde: 0.99193156'], (best ade:0.44256094 at step 32400) \n"
     ]
    },
    {
     "name": "stderr",
     "output_type": "stream",
     "text": [
      " 56%|█████▌    | 478/858 [00:23<00:21, 17.87it/s]"
     ]
    },
    {
     "name": "stdout",
     "output_type": "stream",
     "text": [
      "\tsaving model 34800...\n"
     ]
    },
    {
     "name": "stderr",
     "output_type": "stream",
     "text": [
      "\n",
      "  0%|          | 0/75 [00:00<?, ?it/s]\u001b[A\n",
      "  4%|4         | 3/75 [00:00<00:02, 27.60it/s]\u001b[A"
     ]
    },
    {
     "name": "stdout",
     "output_type": "stream",
     "text": [
      "\tdone\n",
      "Evaluating\n"
     ]
    },
    {
     "name": "stderr",
     "output_type": "stream",
     "text": [
      "\n",
      "  8%|8         | 6/75 [00:00<00:02, 27.01it/s]\u001b[A\n",
      " 11%|#         | 8/75 [00:00<00:02, 23.87it/s]\u001b[A\n",
      " 15%|#4        | 11/75 [00:00<00:02, 23.55it/s]\u001b[A\n",
      " 19%|#8        | 14/75 [00:00<00:02, 24.79it/s]\u001b[A\n",
      " 23%|##2       | 17/75 [00:00<00:02, 25.53it/s]\u001b[A\n",
      " 28%|##8       | 21/75 [00:00<00:01, 28.39it/s]\u001b[A\n",
      " 35%|###4      | 26/75 [00:00<00:01, 31.25it/s]\u001b[A\n",
      " 43%|####2     | 32/75 [00:01<00:01, 36.02it/s]\u001b[A\n",
      " 51%|#####     | 38/75 [00:01<00:00, 40.50it/s]\u001b[A\n",
      " 59%|#####8    | 44/75 [00:01<00:00, 44.74it/s]\u001b[A\n",
      " 68%|######8   | 51/75 [00:01<00:00, 49.06it/s]\u001b[A\n",
      " 76%|#######6  | 57/75 [00:01<00:00, 42.69it/s]\u001b[A\n",
      " 83%|########2 | 62/75 [00:01<00:00, 37.15it/s]\u001b[A\n",
      " 89%|########9 | 67/75 [00:01<00:00, 34.53it/s]\u001b[A\n",
      " 95%|#########4| 71/75 [00:01<00:00, 33.41it/s]\u001b[A\n",
      " 56%|█████▌    | 480/858 [00:25<02:42,  2.33it/s]A"
     ]
    },
    {
     "name": "stdout",
     "output_type": "stream",
     "text": [
      "{'ade': 0.4480186, 'fde': 0.9939161}\n",
      "\t last loss:0.000340915, eval on validation:['ade: 0.4480186', 'fde: 0.9939161'], (best ade:0.44256094 at step 32400) \n"
     ]
    },
    {
     "name": "stderr",
     "output_type": "stream",
     "text": [
      " 91%|█████████ | 778/858 [00:45<00:05, 15.21it/s]"
     ]
    },
    {
     "name": "stdout",
     "output_type": "stream",
     "text": [
      "\tsaving model 35100...\n"
     ]
    },
    {
     "name": "stderr",
     "output_type": "stream",
     "text": [
      "\n",
      "  0%|          | 0/75 [00:00<?, ?it/s]\u001b[A\n",
      "  8%|8         | 6/75 [00:00<00:01, 59.44it/s]\u001b[A"
     ]
    },
    {
     "name": "stdout",
     "output_type": "stream",
     "text": [
      "\tdone\n",
      "Evaluating\n"
     ]
    },
    {
     "name": "stderr",
     "output_type": "stream",
     "text": [
      "\n",
      " 16%|#6        | 12/75 [00:00<00:01, 58.95it/s]\u001b[A\n",
      " 24%|##4       | 18/75 [00:00<00:00, 58.66it/s]\u001b[A\n",
      " 32%|###2      | 24/75 [00:00<00:00, 57.05it/s]\u001b[A\n",
      " 39%|###8      | 29/75 [00:00<00:00, 51.15it/s]\u001b[A\n",
      " 45%|####5     | 34/75 [00:00<00:00, 50.33it/s]\u001b[A\n",
      " 53%|#####3    | 40/75 [00:00<00:00, 51.51it/s]\u001b[A\n",
      " 61%|######1   | 46/75 [00:00<00:00, 52.41it/s]\u001b[A\n",
      " 69%|######9   | 52/75 [00:00<00:00, 52.72it/s]\u001b[A\n",
      " 77%|#######7  | 58/75 [00:01<00:00, 52.76it/s]\u001b[A\n",
      " 85%|########5 | 64/75 [00:01<00:00, 53.50it/s]\u001b[A\n",
      " 93%|#########3| 70/75 [00:01<00:00, 54.74it/s]\u001b[A\n",
      " 91%|█████████ | 782/858 [00:47<00:17,  4.30it/s]A"
     ]
    },
    {
     "name": "stdout",
     "output_type": "stream",
     "text": [
      "{'ade': 0.44761133, 'fde': 0.99147266}\n",
      "\t last loss:0.000449771, eval on validation:['ade: 0.44761133', 'fde: 0.99147266'], (best ade:0.44256094 at step 32400) \n"
     ]
    },
    {
     "name": "stderr",
     "output_type": "stream",
     "text": [
      "100%|██████████| 858/858 [00:51<00:00, 17.53it/s]\n",
      "  0%|          | 1/858 [00:00<01:46,  8.05it/s]"
     ]
    },
    {
     "name": "stdout",
     "output_type": "stream",
     "text": [
      "('Epoca 42.', 'lr:', 7.751911e-05)\n"
     ]
    },
    {
     "name": "stderr",
     "output_type": "stream",
     "text": [
      " 26%|██▌       | 220/858 [00:11<00:32, 19.75it/s]"
     ]
    },
    {
     "name": "stdout",
     "output_type": "stream",
     "text": [
      "\tsaving model 35400...\n"
     ]
    },
    {
     "name": "stderr",
     "output_type": "stream",
     "text": [
      "\n",
      "  0%|          | 0/75 [00:00<?, ?it/s]\u001b[A\n",
      "  8%|8         | 6/75 [00:00<00:01, 59.42it/s]\u001b[A"
     ]
    },
    {
     "name": "stdout",
     "output_type": "stream",
     "text": [
      "\tdone\n",
      "Evaluating\n"
     ]
    },
    {
     "name": "stderr",
     "output_type": "stream",
     "text": [
      "\n",
      " 17%|#7        | 13/75 [00:00<00:01, 60.80it/s]\u001b[A\n",
      " 24%|##4       | 18/75 [00:00<00:01, 55.26it/s]\u001b[A\n",
      " 33%|###3      | 25/75 [00:00<00:00, 57.60it/s]\u001b[A\n",
      " 43%|####2     | 32/75 [00:00<00:00, 58.88it/s]\u001b[A\n",
      " 52%|#####2    | 39/75 [00:00<00:00, 60.12it/s]\u001b[A\n",
      " 61%|######1   | 46/75 [00:00<00:00, 61.64it/s]\u001b[A\n",
      " 69%|######9   | 52/75 [00:00<00:00, 61.00it/s]\u001b[A\n",
      " 77%|#######7  | 58/75 [00:00<00:00, 60.67it/s]\u001b[A\n",
      " 87%|########6 | 65/75 [00:01<00:00, 61.12it/s]\u001b[A\n",
      " 95%|#########4| 71/75 [00:01<00:00, 60.37it/s]\u001b[A\n",
      " 26%|██▌       | 224/858 [00:12<02:14,  4.70it/s]A"
     ]
    },
    {
     "name": "stdout",
     "output_type": "stream",
     "text": [
      "{'ade': 0.45114163, 'fde': 1.00013}\n",
      "\t last loss:0.000274576, eval on validation:['ade: 0.45114163', 'fde: 1.00013'], (best ade:0.44256094 at step 32400) \n"
     ]
    },
    {
     "name": "stderr",
     "output_type": "stream",
     "text": [
      " 61%|██████    | 520/858 [00:27<00:13, 25.66it/s]\n",
      "  0%|          | 0/75 [00:00<?, ?it/s]\u001b[A"
     ]
    },
    {
     "name": "stdout",
     "output_type": "stream",
     "text": [
      "\tsaving model 35700...\n",
      "\tdone\n",
      "Evaluating\n"
     ]
    },
    {
     "name": "stderr",
     "output_type": "stream",
     "text": [
      "\n",
      " 12%|#2        | 9/75 [00:00<00:00, 88.30it/s]\u001b[A\n",
      " 23%|##2       | 17/75 [00:00<00:00, 85.54it/s]\u001b[A\n",
      " 35%|###4      | 26/75 [00:00<00:00, 86.82it/s]\u001b[A\n",
      " 48%|####8     | 36/75 [00:00<00:00, 88.25it/s]\u001b[A\n",
      " 61%|######1   | 46/75 [00:00<00:00, 89.19it/s]\u001b[A\n",
      " 73%|#######3  | 55/75 [00:00<00:00, 88.03it/s]\u001b[A\n",
      " 85%|########5 | 64/75 [00:00<00:00, 88.31it/s]\u001b[A\n",
      " 97%|#########7| 73/75 [00:00<00:00, 88.76it/s]\u001b[A\n",
      " 61%|██████▏   | 526/858 [00:28<00:36,  9.04it/s]A"
     ]
    },
    {
     "name": "stdout",
     "output_type": "stream",
     "text": [
      "{'ade': 0.44431713, 'fde': 0.9831898}\n",
      "\t last loss:0.000438077, eval on validation:['ade: 0.44431713', 'fde: 0.9831898'], (best ade:0.44256094 at step 32400) \n"
     ]
    },
    {
     "name": "stderr",
     "output_type": "stream",
     "text": [
      " 96%|█████████▌| 820/858 [00:40<00:01, 25.75it/s]\n",
      "  0%|          | 0/75 [00:00<?, ?it/s]\u001b[A"
     ]
    },
    {
     "name": "stdout",
     "output_type": "stream",
     "text": [
      "\tsaving model 36000...\n",
      "\tdone\n",
      "Evaluating\n"
     ]
    },
    {
     "name": "stderr",
     "output_type": "stream",
     "text": [
      "\n",
      " 12%|#2        | 9/75 [00:00<00:00, 87.13it/s]\u001b[A\n",
      " 24%|##4       | 18/75 [00:00<00:00, 87.40it/s]\u001b[A\n",
      " 36%|###6      | 27/75 [00:00<00:00, 86.95it/s]\u001b[A\n",
      " 47%|####6     | 35/75 [00:00<00:00, 84.51it/s]\u001b[A\n",
      " 60%|######    | 45/75 [00:00<00:00, 86.75it/s]\u001b[A\n",
      " 72%|#######2  | 54/75 [00:00<00:00, 87.17it/s]\u001b[A\n",
      " 84%|########4 | 63/75 [00:00<00:00, 87.31it/s]\u001b[A\n",
      " 97%|#########7| 73/75 [00:00<00:00, 89.21it/s]\u001b[A\n",
      " 96%|█████████▋| 826/858 [00:41<00:03,  9.03it/s]A"
     ]
    },
    {
     "name": "stdout",
     "output_type": "stream",
     "text": [
      "{'ade': 0.44562706, 'fde': 0.9864603}\n",
      "\t last loss:0.000397011, eval on validation:['ade: 0.44562706', 'fde: 0.9864603'], (best ade:0.44256094 at step 32400) \n"
     ]
    },
    {
     "name": "stderr",
     "output_type": "stream",
     "text": [
      "100%|██████████| 858/858 [00:42<00:00, 20.15it/s]\n",
      "  0%|          | 2/858 [00:00<00:58, 14.59it/s]"
     ]
    },
    {
     "name": "stdout",
     "output_type": "stream",
     "text": [
      "('Epoca 43.', 'lr:', 6.589125e-05)\n"
     ]
    },
    {
     "name": "stderr",
     "output_type": "stream",
     "text": [
      " 31%|███       | 263/858 [00:10<00:28, 20.92it/s]"
     ]
    },
    {
     "name": "stdout",
     "output_type": "stream",
     "text": [
      "\tsaving model 36300...\n"
     ]
    },
    {
     "name": "stderr",
     "output_type": "stream",
     "text": [
      "\n",
      "  0%|          | 0/75 [00:00<?, ?it/s]\u001b[A\n",
      "  9%|9         | 7/75 [00:00<00:01, 67.97it/s]\u001b[A"
     ]
    },
    {
     "name": "stdout",
     "output_type": "stream",
     "text": [
      "\tdone\n",
      "Evaluating\n"
     ]
    },
    {
     "name": "stderr",
     "output_type": "stream",
     "text": [
      "\n",
      " 19%|#8        | 14/75 [00:00<00:00, 67.43it/s]\u001b[A\n",
      " 28%|##8       | 21/75 [00:00<00:00, 66.88it/s]\u001b[A\n",
      " 37%|###7      | 28/75 [00:00<00:00, 67.01it/s]\u001b[A\n",
      " 47%|####6     | 35/75 [00:00<00:00, 67.20it/s]\u001b[A\n",
      " 56%|#####6    | 42/75 [00:00<00:00, 67.03it/s]\u001b[A\n",
      " 65%|######5   | 49/75 [00:00<00:00, 66.73it/s]\u001b[A\n",
      " 75%|#######4  | 56/75 [00:00<00:00, 66.37it/s]\u001b[A\n",
      " 84%|########4 | 63/75 [00:00<00:00, 62.61it/s]\u001b[A\n",
      " 93%|#########3| 70/75 [00:01<00:00, 63.65it/s]\u001b[A\n",
      " 31%|███       | 266/858 [00:12<01:51,  5.29it/s]A"
     ]
    },
    {
     "name": "stdout",
     "output_type": "stream",
     "text": [
      "{'ade': 0.44744155, 'fde': 0.9932705}\n",
      "\t last loss:0.000332026, eval on validation:['ade: 0.44744155', 'fde: 0.9932705'], (best ade:0.44256094 at step 32400) \n"
     ]
    },
    {
     "name": "stderr",
     "output_type": "stream",
     "text": [
      " 66%|██████▌   | 562/858 [00:27<00:14, 20.79it/s]"
     ]
    },
    {
     "name": "stdout",
     "output_type": "stream",
     "text": [
      "\tsaving model 36600...\n"
     ]
    },
    {
     "name": "stderr",
     "output_type": "stream",
     "text": [
      "\n",
      "  0%|          | 0/75 [00:00<?, ?it/s]\u001b[A\n",
      "  9%|9         | 7/75 [00:00<00:01, 64.83it/s]\u001b[A"
     ]
    },
    {
     "name": "stdout",
     "output_type": "stream",
     "text": [
      "\tdone\n",
      "Evaluating\n"
     ]
    },
    {
     "name": "stderr",
     "output_type": "stream",
     "text": [
      "\n",
      " 19%|#8        | 14/75 [00:00<00:00, 65.10it/s]\u001b[A\n",
      " 28%|##8       | 21/75 [00:00<00:00, 65.02it/s]\u001b[A\n",
      " 37%|###7      | 28/75 [00:00<00:00, 65.40it/s]\u001b[A\n",
      " 47%|####6     | 35/75 [00:00<00:00, 65.23it/s]\u001b[A\n",
      " 56%|#####6    | 42/75 [00:00<00:00, 65.18it/s]\u001b[A\n",
      " 65%|######5   | 49/75 [00:00<00:00, 63.31it/s]\u001b[A\n",
      " 73%|#######3  | 55/75 [00:00<00:00, 59.72it/s]\u001b[A\n",
      " 83%|########2 | 62/75 [00:00<00:00, 60.76it/s]\u001b[A\n",
      " 92%|#########2| 69/75 [00:01<00:00, 62.09it/s]\u001b[A\n",
      " 66%|██████▌   | 565/858 [00:28<00:56,  5.21it/s]A"
     ]
    },
    {
     "name": "stdout",
     "output_type": "stream",
     "text": [
      "{'ade': 0.44648233, 'fde': 0.99024427}\n",
      "\t last loss:0.000278152, eval on validation:['ade: 0.44648233', 'fde: 0.99024427'], (best ade:0.44256094 at step 32400) \n"
     ]
    },
    {
     "name": "stderr",
     "output_type": "stream",
     "text": [
      "100%|██████████| 858/858 [00:44<00:00, 19.04it/s]\n",
      "  0%|          | 2/858 [00:00<00:58, 14.66it/s]"
     ]
    },
    {
     "name": "stdout",
     "output_type": "stream",
     "text": [
      "('Epoca 44.', 'lr:', 6.589125e-05)\n"
     ]
    },
    {
     "name": "stderr",
     "output_type": "stream",
     "text": [
      "  1%|          | 5/858 [00:00<00:51, 16.63it/s]\n",
      "  0%|          | 0/75 [00:00<?, ?it/s]\u001b[A"
     ]
    },
    {
     "name": "stdout",
     "output_type": "stream",
     "text": [
      "\tsaving model 36900...\n",
      "\tdone\n",
      "Evaluating\n"
     ]
    },
    {
     "name": "stderr",
     "output_type": "stream",
     "text": [
      "\n",
      " 13%|#3        | 10/75 [00:00<00:00, 91.26it/s]\u001b[A\n",
      " 25%|##5       | 19/75 [00:00<00:00, 89.83it/s]\u001b[A\n",
      " 37%|###7      | 28/75 [00:00<00:00, 87.57it/s]\u001b[A\n",
      " 48%|####8     | 36/75 [00:00<00:00, 84.26it/s]\u001b[A\n",
      " 60%|######    | 45/75 [00:00<00:00, 83.69it/s]\u001b[A\n",
      " 71%|#######   | 53/75 [00:00<00:00, 81.20it/s]\u001b[A\n",
      " 83%|########2 | 62/75 [00:00<00:00, 81.97it/s]\u001b[A\n",
      " 95%|#########4| 71/75 [00:00<00:00, 83.75it/s]\u001b[A\n",
      "  1%|          | 7/858 [00:01<03:10,  4.47it/s]\u001b[A"
     ]
    },
    {
     "name": "stdout",
     "output_type": "stream",
     "text": [
      "{'ade': 0.44680315, 'fde': 0.99373597}\n",
      "\t last loss:0.000293784, eval on validation:['ade: 0.44680315', 'fde: 0.99373597'], (best ade:0.44256094 at step 32400) \n"
     ]
    },
    {
     "name": "stderr",
     "output_type": "stream",
     "text": [
      " 36%|███▌      | 305/858 [00:16<00:21, 25.76it/s]\n",
      "  0%|          | 0/75 [00:00<?, ?it/s]\u001b[A"
     ]
    },
    {
     "name": "stdout",
     "output_type": "stream",
     "text": [
      "\tsaving model 37200...\n",
      "\tdone\n",
      "Evaluating\n"
     ]
    },
    {
     "name": "stderr",
     "output_type": "stream",
     "text": [
      "\n",
      " 13%|#3        | 10/75 [00:00<00:00, 95.96it/s]\u001b[A\n",
      " 27%|##6       | 20/75 [00:00<00:00, 96.15it/s]\u001b[A\n",
      " 40%|####      | 30/75 [00:00<00:00, 96.54it/s]\u001b[A\n",
      " 53%|#####3    | 40/75 [00:00<00:00, 96.44it/s]\u001b[A\n",
      " 65%|######5   | 49/75 [00:00<00:00, 92.60it/s]\u001b[A\n",
      " 79%|#######8  | 59/75 [00:00<00:00, 93.75it/s]\u001b[A\n",
      " 92%|#########2| 69/75 [00:00<00:00, 94.16it/s]\u001b[A\n",
      " 36%|███▌      | 308/858 [00:17<01:13,  7.45it/s]A"
     ]
    },
    {
     "name": "stdout",
     "output_type": "stream",
     "text": [
      "{'ade': 0.450253, 'fde': 1.0010523}\n",
      "\t last loss:0.000244359, eval on validation:['ade: 0.450253', 'fde: 1.0010523'], (best ade:0.44256094 at step 32400) \n"
     ]
    },
    {
     "name": "stderr",
     "output_type": "stream",
     "text": [
      " 70%|███████   | 603/858 [00:29<00:11, 21.54it/s]"
     ]
    },
    {
     "name": "stdout",
     "output_type": "stream",
     "text": [
      "\tsaving model 37500...\n"
     ]
    },
    {
     "name": "stderr",
     "output_type": "stream",
     "text": [
      "\n",
      "  0%|          | 0/75 [00:00<?, ?it/s]\u001b[A\n",
      "  8%|8         | 6/75 [00:00<00:01, 59.83it/s]\u001b[A\n",
      " 17%|#7        | 13/75 [00:00<00:01, 61.66it/s]\u001b[A\n",
      " 27%|##6       | 20/75 [00:00<00:00, 63.87it/s]\u001b[A\n",
      " 37%|###7      | 28/75 [00:00<00:00, 66.07it/s]\u001b[A\n",
      " 47%|####6     | 35/75 [00:00<00:00, 66.94it/s]\u001b[A\n",
      " 57%|#####7    | 43/75 [00:00<00:00, 68.33it/s]\u001b[A\n",
      " 68%|######8   | 51/75 [00:00<00:00, 69.27it/s]\u001b[A\n",
      " 79%|#######8  | 59/75 [00:00<00:00, 69.87it/s]\u001b[A\n",
      " 89%|########9 | 67/75 [00:00<00:00, 70.29it/s]\u001b[A\n",
      " 99%|#########8| 74/75 [00:01<00:00, 68.46it/s]\u001b[A\n",
      " 71%|███████   | 609/858 [00:31<00:34,  7.12it/s]A"
     ]
    },
    {
     "name": "stdout",
     "output_type": "stream",
     "text": [
      "\tdone\n",
      "Evaluating\n",
      "{'ade': 0.4451292, 'fde': 0.9880371}\n",
      "\t last loss:0.000269349, eval on validation:['ade: 0.4451292', 'fde: 0.9880371'], (best ade:0.44256094 at step 32400) \n"
     ]
    },
    {
     "name": "stderr",
     "output_type": "stream",
     "text": [
      "100%|██████████| 858/858 [00:43<00:00, 19.88it/s]\n",
      "  0%|          | 2/858 [00:00<00:43, 19.79it/s]"
     ]
    },
    {
     "name": "stdout",
     "output_type": "stream",
     "text": [
      "('Epoca 45.', 'lr:', 5.600756e-05)\n"
     ]
    },
    {
     "name": "stderr",
     "output_type": "stream",
     "text": [
      "  5%|▌         | 46/858 [00:02<00:38, 20.99it/s]"
     ]
    },
    {
     "name": "stdout",
     "output_type": "stream",
     "text": [
      "\tsaving model 37800...\n"
     ]
    },
    {
     "name": "stderr",
     "output_type": "stream",
     "text": [
      "\n",
      "  0%|          | 0/75 [00:00<?, ?it/s]\u001b[A\n",
      " 11%|#         | 8/75 [00:00<00:00, 72.22it/s]\u001b[A"
     ]
    },
    {
     "name": "stdout",
     "output_type": "stream",
     "text": [
      "\tdone\n",
      "Evaluating\n"
     ]
    },
    {
     "name": "stderr",
     "output_type": "stream",
     "text": [
      "\n",
      " 20%|##        | 15/75 [00:00<00:00, 70.86it/s]\u001b[A\n",
      " 29%|##9       | 22/75 [00:00<00:00, 70.41it/s]\u001b[A\n",
      " 39%|###8      | 29/75 [00:00<00:00, 67.07it/s]\u001b[A\n",
      " 48%|####8     | 36/75 [00:00<00:00, 67.50it/s]\u001b[A\n",
      " 59%|#####8    | 44/75 [00:00<00:00, 68.57it/s]\u001b[A\n",
      " 68%|######8   | 51/75 [00:00<00:00, 68.77it/s]\u001b[A\n",
      " 79%|#######8  | 59/75 [00:00<00:00, 69.74it/s]\u001b[A\n",
      " 89%|########9 | 67/75 [00:00<00:00, 70.12it/s]\u001b[A\n",
      "100%|##########| 75/75 [00:01<00:00, 70.56it/s]\u001b[A"
     ]
    },
    {
     "name": "stdout",
     "output_type": "stream",
     "text": [
      "{'ade': 0.44241276, 'fde': 0.9786539}\n",
      "\t last loss:0.000394255, eval on validation:['ade: 0.44241276', 'fde: 0.9786539'], (best ade:0.44256094 at step 32400) \n",
      "\t saving best model...\n"
     ]
    },
    {
     "name": "stderr",
     "output_type": "stream",
     "text": [
      "\r",
      "  6%|▌         | 49/858 [00:03<02:43,  4.96it/s]"
     ]
    },
    {
     "name": "stdout",
     "output_type": "stream",
     "text": [
      "\t done.\n"
     ]
    },
    {
     "name": "stderr",
     "output_type": "stream",
     "text": [
      " 40%|████      | 345/858 [00:19<00:24, 20.72it/s]"
     ]
    },
    {
     "name": "stdout",
     "output_type": "stream",
     "text": [
      "\tsaving model 38100...\n"
     ]
    },
    {
     "name": "stderr",
     "output_type": "stream",
     "text": [
      "\n",
      "  0%|          | 0/75 [00:00<?, ?it/s]\u001b[A\n",
      "  9%|9         | 7/75 [00:00<00:01, 64.33it/s]\u001b[A"
     ]
    },
    {
     "name": "stdout",
     "output_type": "stream",
     "text": [
      "\tdone\n",
      "Evaluating\n"
     ]
    },
    {
     "name": "stderr",
     "output_type": "stream",
     "text": [
      "\n",
      " 19%|#8        | 14/75 [00:00<00:00, 65.34it/s]\u001b[A\n",
      " 28%|##8       | 21/75 [00:00<00:00, 66.06it/s]\u001b[A\n",
      " 37%|###7      | 28/75 [00:00<00:00, 66.75it/s]\u001b[A\n",
      " 47%|####6     | 35/75 [00:00<00:00, 66.02it/s]\u001b[A\n",
      " 55%|#####4    | 41/75 [00:00<00:00, 57.99it/s]\u001b[A\n",
      " 63%|######2   | 47/75 [00:00<00:00, 42.22it/s]\u001b[A\n",
      " 69%|######9   | 52/75 [00:01<00:00, 39.38it/s]\u001b[A\n",
      " 77%|#######7  | 58/75 [00:01<00:00, 43.47it/s]\u001b[A\n",
      " 84%|########4 | 63/75 [00:01<00:00, 44.37it/s]\u001b[A\n",
      " 92%|#########2| 69/75 [00:01<00:00, 47.80it/s]\u001b[A\n",
      " 41%|████      | 350/858 [00:21<01:25,  5.91it/s]A"
     ]
    },
    {
     "name": "stdout",
     "output_type": "stream",
     "text": [
      "{'ade': 0.44604093, 'fde': 0.9883953}\n",
      "\t last loss:0.000400109, eval on validation:['ade: 0.44604093', 'fde: 0.9883953'], (best ade:0.44241276 at step 37800) \n"
     ]
    },
    {
     "name": "stderr",
     "output_type": "stream",
     "text": [
      " 75%|███████▌  | 646/858 [00:34<00:07, 27.59it/s]\n",
      "  0%|          | 0/75 [00:00<?, ?it/s]\u001b[A"
     ]
    },
    {
     "name": "stdout",
     "output_type": "stream",
     "text": [
      "\tsaving model 38400...\n",
      "\tdone\n",
      "Evaluating\n"
     ]
    },
    {
     "name": "stderr",
     "output_type": "stream",
     "text": [
      "\n",
      " 13%|#3        | 10/75 [00:00<00:00, 98.77it/s]\u001b[A\n",
      " 27%|##6       | 20/75 [00:00<00:00, 98.13it/s]\u001b[A\n",
      " 40%|####      | 30/75 [00:00<00:00, 97.78it/s]\u001b[A\n",
      " 53%|#####3    | 40/75 [00:00<00:00, 97.55it/s]\u001b[A\n",
      " 67%|######6   | 50/75 [00:00<00:00, 97.55it/s]\u001b[A\n",
      " 80%|########  | 60/75 [00:00<00:00, 97.71it/s]\u001b[A\n",
      " 93%|#########3| 70/75 [00:00<00:00, 97.33it/s]\u001b[A\n",
      " 76%|███████▌  | 652/858 [00:35<00:21,  9.57it/s]A"
     ]
    },
    {
     "name": "stdout",
     "output_type": "stream",
     "text": [
      "{'ade': 0.4470108, 'fde': 0.99110997}\n",
      "\t last loss:0.000274113, eval on validation:['ade: 0.4470108', 'fde: 0.99110997'], (best ade:0.44241276 at step 37800) \n"
     ]
    },
    {
     "name": "stderr",
     "output_type": "stream",
     "text": [
      "100%|██████████| 858/858 [00:43<00:00, 19.56it/s]\n",
      "  0%|          | 1/858 [00:00<01:36,  8.88it/s]"
     ]
    },
    {
     "name": "stdout",
     "output_type": "stream",
     "text": [
      "('Epoca 46.', 'lr:', 5.600756e-05)\n"
     ]
    },
    {
     "name": "stderr",
     "output_type": "stream",
     "text": [
      " 10%|█         | 88/858 [00:03<00:33, 23.28it/s]\n",
      "  0%|          | 0/75 [00:00<?, ?it/s]\u001b[A"
     ]
    },
    {
     "name": "stdout",
     "output_type": "stream",
     "text": [
      "\tsaving model 38700...\n",
      "\tdone\n",
      "Evaluating\n"
     ]
    },
    {
     "name": "stderr",
     "output_type": "stream",
     "text": [
      "\n",
      " 12%|#2        | 9/75 [00:00<00:00, 89.65it/s]\u001b[A\n",
      " 24%|##4       | 18/75 [00:00<00:00, 87.06it/s]\u001b[A\n",
      " 33%|###3      | 25/75 [00:00<00:00, 78.97it/s]\u001b[A\n",
      " 43%|####2     | 32/75 [00:00<00:00, 74.12it/s]\u001b[A\n",
      " 52%|#####2    | 39/75 [00:00<00:00, 71.84it/s]\u001b[A\n",
      " 63%|######2   | 47/75 [00:00<00:00, 73.79it/s]\u001b[A\n",
      " 75%|#######4  | 56/75 [00:00<00:00, 77.88it/s]\u001b[A\n",
      " 88%|########8 | 66/75 [00:00<00:00, 82.24it/s]\u001b[A\n",
      " 11%|█         | 94/858 [00:05<01:32,  8.23it/s][A"
     ]
    },
    {
     "name": "stdout",
     "output_type": "stream",
     "text": [
      "{'ade': 0.44597402, 'fde': 0.98811305}\n",
      "\t last loss:0.000233892, eval on validation:['ade: 0.44597402', 'fde: 0.98811305'], (best ade:0.44241276 at step 37800) \n"
     ]
    },
    {
     "name": "stderr",
     "output_type": "stream",
     "text": [
      " 45%|████▌     | 388/858 [00:16<00:18, 25.57it/s]\n",
      "  0%|          | 0/75 [00:00<?, ?it/s]\u001b[A"
     ]
    },
    {
     "name": "stdout",
     "output_type": "stream",
     "text": [
      "\tsaving model 39000...\n",
      "\tdone\n",
      "Evaluating\n"
     ]
    },
    {
     "name": "stderr",
     "output_type": "stream",
     "text": [
      "\n",
      " 12%|#2        | 9/75 [00:00<00:00, 89.89it/s]\u001b[A\n",
      " 24%|##4       | 18/75 [00:00<00:00, 89.49it/s]\u001b[A\n",
      " 36%|###6      | 27/75 [00:00<00:00, 89.03it/s]\u001b[A\n",
      " 48%|####8     | 36/75 [00:00<00:00, 87.38it/s]\u001b[A\n",
      " 59%|#####8    | 44/75 [00:00<00:00, 84.36it/s]\u001b[A\n",
      " 71%|#######   | 53/75 [00:00<00:00, 83.86it/s]\u001b[A\n",
      " 83%|########2 | 62/75 [00:00<00:00, 85.41it/s]\u001b[A\n",
      " 95%|#########4| 71/75 [00:00<00:00, 86.41it/s]\u001b[A\n",
      " 46%|████▌     | 394/858 [00:17<00:52,  8.84it/s]A"
     ]
    },
    {
     "name": "stdout",
     "output_type": "stream",
     "text": [
      "{'ade': 0.44349915, 'fde': 0.98029506}\n",
      "\t last loss:0.000300925, eval on validation:['ade: 0.44349915', 'fde: 0.98029506'], (best ade:0.44241276 at step 37800) \n"
     ]
    },
    {
     "name": "stderr",
     "output_type": "stream",
     "text": [
      " 80%|████████  | 688/858 [00:29<00:08, 19.55it/s]"
     ]
    },
    {
     "name": "stdout",
     "output_type": "stream",
     "text": [
      "\tsaving model 39300...\n"
     ]
    },
    {
     "name": "stderr",
     "output_type": "stream",
     "text": [
      "\n",
      "  0%|          | 0/75 [00:00<?, ?it/s]\u001b[A\n",
      "  9%|9         | 7/75 [00:00<00:00, 69.59it/s]\u001b[A"
     ]
    },
    {
     "name": "stdout",
     "output_type": "stream",
     "text": [
      "\tdone\n",
      "Evaluating\n"
     ]
    },
    {
     "name": "stderr",
     "output_type": "stream",
     "text": [
      "\n",
      " 17%|#7        | 13/75 [00:00<00:00, 64.47it/s]\u001b[A\n",
      " 28%|##8       | 21/75 [00:00<00:00, 66.39it/s]\u001b[A\n",
      " 37%|###7      | 28/75 [00:00<00:00, 67.30it/s]\u001b[A\n",
      " 48%|####8     | 36/75 [00:00<00:00, 68.49it/s]\u001b[A\n",
      " 59%|#####8    | 44/75 [00:00<00:00, 69.28it/s]\u001b[A\n",
      " 69%|######9   | 52/75 [00:00<00:00, 69.62it/s]\u001b[A\n",
      " 79%|#######8  | 59/75 [00:00<00:00, 68.30it/s]\u001b[A\n",
      " 88%|########8 | 66/75 [00:00<00:00, 64.70it/s]\u001b[A\n",
      " 97%|#########7| 73/75 [00:01<00:00, 61.28it/s]\u001b[A\n",
      "100%|##########| 75/75 [00:01<00:00, 65.04it/s]\u001b[A"
     ]
    },
    {
     "name": "stdout",
     "output_type": "stream",
     "text": [
      "{'ade': 0.44131562, 'fde': 0.9757754}\n",
      "\t last loss:0.000488271, eval on validation:['ade: 0.44131562', 'fde: 0.9757754'], (best ade:0.44241276 at step 37800) \n",
      "\t saving best model...\n"
     ]
    },
    {
     "name": "stderr",
     "output_type": "stream",
     "text": [
      "100%|██████████| 858/858 [00:38<00:00, 25.64it/s]\n",
      "  0%|          | 1/858 [00:00<01:30,  9.44it/s]"
     ]
    },
    {
     "name": "stdout",
     "output_type": "stream",
     "text": [
      "\t done.\n",
      "('Epoca 47.', 'lr:', 4.7606427e-05)\n"
     ]
    },
    {
     "name": "stderr",
     "output_type": "stream",
     "text": [
      " 15%|█▌        | 130/858 [00:05<00:27, 26.02it/s]\n",
      "  0%|          | 0/75 [00:00<?, ?it/s]\u001b[A"
     ]
    },
    {
     "name": "stdout",
     "output_type": "stream",
     "text": [
      "\tsaving model 39600...\n",
      "\tdone\n",
      "Evaluating\n"
     ]
    },
    {
     "name": "stderr",
     "output_type": "stream",
     "text": [
      "\n",
      " 11%|#         | 8/75 [00:00<00:00, 77.61it/s]\u001b[A\n",
      " 23%|##2       | 17/75 [00:00<00:00, 79.64it/s]\u001b[A\n",
      " 35%|###4      | 26/75 [00:00<00:00, 81.49it/s]\u001b[A\n",
      " 47%|####6     | 35/75 [00:00<00:00, 83.47it/s]\u001b[A\n",
      " 59%|#####8    | 44/75 [00:00<00:00, 85.29it/s]\u001b[A\n",
      " 71%|#######   | 53/75 [00:00<00:00, 85.86it/s]\u001b[A\n",
      " 83%|########2 | 62/75 [00:00<00:00, 86.89it/s]\u001b[A\n",
      " 95%|#########4| 71/75 [00:00<00:00, 87.61it/s]\u001b[A\n",
      " 16%|█▌        | 133/858 [00:06<01:44,  6.96it/s]A"
     ]
    },
    {
     "name": "stdout",
     "output_type": "stream",
     "text": [
      "{'ade': 0.4434951, 'fde': 0.9811436}\n",
      "\t last loss:0.000243722, eval on validation:['ade: 0.4434951', 'fde: 0.9811436'], (best ade:0.44131562 at step 39300) \n"
     ]
    },
    {
     "name": "stderr",
     "output_type": "stream",
     "text": [
      " 50%|█████     | 431/858 [00:19<00:20, 20.67it/s]"
     ]
    },
    {
     "name": "stdout",
     "output_type": "stream",
     "text": [
      "\tsaving model 39900...\n"
     ]
    },
    {
     "name": "stderr",
     "output_type": "stream",
     "text": [
      "\n",
      "  0%|          | 0/75 [00:00<?, ?it/s]\u001b[A\n",
      "  8%|8         | 6/75 [00:00<00:01, 59.45it/s]\u001b[A"
     ]
    },
    {
     "name": "stdout",
     "output_type": "stream",
     "text": [
      "\tdone\n",
      "Evaluating\n"
     ]
    },
    {
     "name": "stderr",
     "output_type": "stream",
     "text": [
      "\n",
      " 16%|#6        | 12/75 [00:00<00:01, 57.30it/s]\u001b[A\n",
      " 24%|##4       | 18/75 [00:00<00:01, 56.79it/s]\u001b[A\n",
      " 32%|###2      | 24/75 [00:00<00:00, 56.20it/s]\u001b[A\n",
      " 40%|####      | 30/75 [00:00<00:00, 56.52it/s]\u001b[A\n",
      " 51%|#####     | 38/75 [00:00<00:00, 61.31it/s]\u001b[A\n",
      " 61%|######1   | 46/75 [00:00<00:00, 65.85it/s]\u001b[A\n",
      " 73%|#######3  | 55/75 [00:00<00:00, 69.75it/s]\u001b[A\n",
      " 84%|########4 | 63/75 [00:00<00:00, 72.44it/s]\u001b[A\n",
      " 95%|#########4| 71/75 [00:01<00:00, 73.76it/s]\u001b[A\n",
      " 51%|█████     | 434/858 [00:21<01:19,  5.36it/s]A"
     ]
    },
    {
     "name": "stdout",
     "output_type": "stream",
     "text": [
      "{'ade': 0.4446716, 'fde': 0.9859167}\n",
      "\t last loss:0.000365313, eval on validation:['ade: 0.4446716', 'fde: 0.9859167'], (best ade:0.44131562 at step 39300) \n"
     ]
    },
    {
     "name": "stderr",
     "output_type": "stream",
     "text": [
      " 85%|████████▌ | 731/858 [00:33<00:05, 24.05it/s]\n",
      "  0%|          | 0/75 [00:00<?, ?it/s]\u001b[A"
     ]
    },
    {
     "name": "stdout",
     "output_type": "stream",
     "text": [
      "\tsaving model 40200...\n",
      "\tdone\n",
      "Evaluating\n"
     ]
    },
    {
     "name": "stderr",
     "output_type": "stream",
     "text": [
      "\n",
      " 11%|#         | 8/75 [00:00<00:00, 76.50it/s]\u001b[A\n",
      " 23%|##2       | 17/75 [00:00<00:00, 78.68it/s]\u001b[A\n",
      " 35%|###4      | 26/75 [00:00<00:00, 80.52it/s]\u001b[A\n",
      " 45%|####5     | 34/75 [00:00<00:00, 79.84it/s]\u001b[A\n",
      " 56%|#####6    | 42/75 [00:00<00:00, 79.41it/s]\u001b[A\n",
      " 65%|######5   | 49/75 [00:00<00:00, 75.38it/s]\u001b[A\n",
      " 77%|#######7  | 58/75 [00:00<00:00, 77.52it/s]\u001b[A\n",
      " 89%|########9 | 67/75 [00:00<00:00, 79.45it/s]\u001b[A\n",
      " 86%|████████▌ | 734/858 [00:34<00:19,  6.49it/s]A"
     ]
    },
    {
     "name": "stdout",
     "output_type": "stream",
     "text": [
      "{'ade': 0.4514568, 'fde': 1.0073546}\n",
      "\t last loss:0.000323509, eval on validation:['ade: 0.4514568', 'fde: 1.0073546'], (best ade:0.44131562 at step 39300) \n"
     ]
    },
    {
     "name": "stderr",
     "output_type": "stream",
     "text": [
      "100%|██████████| 858/858 [00:39<00:00, 21.51it/s]\n",
      "  0%|          | 2/858 [00:00<00:50, 16.89it/s]"
     ]
    },
    {
     "name": "stdout",
     "output_type": "stream",
     "text": [
      "('Epoca 48.', 'lr:', 4.7606427e-05)\n"
     ]
    },
    {
     "name": "stderr",
     "output_type": "stream",
     "text": [
      " 20%|█▉        | 171/858 [00:07<00:33, 20.33it/s]"
     ]
    },
    {
     "name": "stdout",
     "output_type": "stream",
     "text": [
      "\tsaving model 40500...\n"
     ]
    },
    {
     "name": "stderr",
     "output_type": "stream",
     "text": [
      "\n",
      "  0%|          | 0/75 [00:00<?, ?it/s]\u001b[A\n",
      "  9%|9         | 7/75 [00:00<00:01, 62.72it/s]\u001b[A"
     ]
    },
    {
     "name": "stdout",
     "output_type": "stream",
     "text": [
      "\tdone\n",
      "Evaluating\n"
     ]
    },
    {
     "name": "stderr",
     "output_type": "stream",
     "text": [
      "\n",
      " 19%|#8        | 14/75 [00:00<00:00, 62.48it/s]\u001b[A\n",
      " 27%|##6       | 20/75 [00:00<00:00, 61.04it/s]\u001b[A\n",
      " 36%|###6      | 27/75 [00:00<00:00, 61.79it/s]\u001b[A\n",
      " 45%|####5     | 34/75 [00:00<00:00, 62.89it/s]\u001b[A\n",
      " 55%|#####4    | 41/75 [00:00<00:00, 64.01it/s]\u001b[A\n",
      " 64%|######4   | 48/75 [00:00<00:00, 64.08it/s]\u001b[A\n",
      " 75%|#######4  | 56/75 [00:00<00:00, 67.25it/s]\u001b[A\n",
      " 85%|########5 | 64/75 [00:00<00:00, 68.88it/s]\u001b[A\n",
      " 96%|#########6| 72/75 [00:01<00:00, 70.54it/s]\u001b[A\n",
      " 21%|██        | 177/858 [00:09<01:37,  6.95it/s]A"
     ]
    },
    {
     "name": "stdout",
     "output_type": "stream",
     "text": [
      "{'ade': 0.44304106, 'fde': 0.9789716}\n",
      "\t last loss:0.000371400, eval on validation:['ade: 0.44304106', 'fde: 0.9789716'], (best ade:0.44131562 at step 39300) \n"
     ]
    },
    {
     "name": "stderr",
     "output_type": "stream",
     "text": [
      " 55%|█████▌    | 473/858 [00:21<00:15, 24.69it/s]\n",
      "  0%|          | 0/75 [00:00<?, ?it/s]\u001b[A"
     ]
    },
    {
     "name": "stdout",
     "output_type": "stream",
     "text": [
      "\tsaving model 40800...\n",
      "\tdone\n",
      "Evaluating\n"
     ]
    },
    {
     "name": "stderr",
     "output_type": "stream",
     "text": [
      "\n",
      "  9%|9         | 7/75 [00:00<00:01, 63.41it/s]\u001b[A\n",
      " 20%|##        | 15/75 [00:00<00:00, 67.38it/s]\u001b[A\n",
      " 32%|###2      | 24/75 [00:00<00:00, 71.05it/s]\u001b[A\n",
      " 44%|####4     | 33/75 [00:00<00:00, 73.92it/s]\u001b[A\n",
      " 56%|#####6    | 42/75 [00:00<00:00, 76.75it/s]\u001b[A\n",
      " 68%|######8   | 51/75 [00:00<00:00, 79.09it/s]\u001b[A\n",
      " 79%|#######8  | 59/75 [00:00<00:00, 79.14it/s]\u001b[A\n",
      " 91%|######### | 68/75 [00:00<00:00, 80.89it/s]\u001b[A\n",
      " 55%|█████▌    | 476/858 [00:22<00:59,  6.44it/s]A"
     ]
    },
    {
     "name": "stdout",
     "output_type": "stream",
     "text": [
      "{'ade': 0.44611982, 'fde': 0.99005085}\n",
      "\t last loss:0.000357315, eval on validation:['ade: 0.44611982', 'fde: 0.99005085'], (best ade:0.44131562 at step 39300) \n"
     ]
    },
    {
     "name": "stderr",
     "output_type": "stream",
     "text": [
      " 90%|████████▉ | 772/858 [00:35<00:04, 20.73it/s]"
     ]
    },
    {
     "name": "stdout",
     "output_type": "stream",
     "text": [
      "\tsaving model 41100...\n"
     ]
    },
    {
     "name": "stderr",
     "output_type": "stream",
     "text": [
      "\n",
      "  0%|          | 0/75 [00:00<?, ?it/s]\u001b[A\n",
      "  8%|8         | 6/75 [00:00<00:01, 54.50it/s]\u001b[A"
     ]
    },
    {
     "name": "stdout",
     "output_type": "stream",
     "text": [
      "\tdone\n",
      "Evaluating\n"
     ]
    },
    {
     "name": "stderr",
     "output_type": "stream",
     "text": [
      "\n",
      " 17%|#7        | 13/75 [00:00<00:01, 56.99it/s]\u001b[A\n",
      " 25%|##5       | 19/75 [00:00<00:00, 57.53it/s]\u001b[A\n",
      " 33%|###3      | 25/75 [00:00<00:00, 58.19it/s]\u001b[A\n",
      " 43%|####2     | 32/75 [00:00<00:00, 59.90it/s]\u001b[A\n",
      " 52%|#####2    | 39/75 [00:00<00:00, 61.79it/s]\u001b[A\n",
      " 61%|######1   | 46/75 [00:00<00:00, 63.05it/s]\u001b[A\n",
      " 71%|#######   | 53/75 [00:00<00:00, 64.18it/s]\u001b[A\n",
      " 80%|########  | 60/75 [00:00<00:00, 64.57it/s]\u001b[A\n",
      " 89%|########9 | 67/75 [00:01<00:00, 63.14it/s]\u001b[A\n",
      " 90%|█████████ | 775/858 [00:36<00:15,  5.29it/s]A"
     ]
    },
    {
     "name": "stdout",
     "output_type": "stream",
     "text": [
      "{'ade': 0.44993085, 'fde': 1.00009}\n",
      "\t last loss:0.000599786, eval on validation:['ade: 0.44993085', 'fde: 1.00009'], (best ade:0.44131562 at step 39300) \n"
     ]
    },
    {
     "name": "stderr",
     "output_type": "stream",
     "text": [
      "100%|██████████| 858/858 [00:40<00:00, 21.10it/s]\n",
      "  0%|          | 3/858 [00:00<00:37, 22.52it/s]"
     ]
    },
    {
     "name": "stdout",
     "output_type": "stream",
     "text": [
      "('Epoca 49.', 'lr:', 4.0465464e-05)\n"
     ]
    },
    {
     "name": "stderr",
     "output_type": "stream",
     "text": [
      " 25%|██▍       | 213/858 [00:08<00:26, 24.64it/s]\n",
      "  0%|          | 0/75 [00:00<?, ?it/s]\u001b[A"
     ]
    },
    {
     "name": "stdout",
     "output_type": "stream",
     "text": [
      "\tsaving model 41400...\n",
      "\tdone\n",
      "Evaluating\n"
     ]
    },
    {
     "name": "stderr",
     "output_type": "stream",
     "text": [
      "\n",
      " 11%|#         | 8/75 [00:00<00:00, 78.29it/s]\u001b[A\n",
      " 21%|##1       | 16/75 [00:00<00:00, 77.39it/s]\u001b[A\n",
      " 32%|###2      | 24/75 [00:00<00:00, 76.13it/s]\u001b[A\n",
      " 44%|####4     | 33/75 [00:00<00:00, 78.06it/s]\u001b[A\n",
      " 55%|#####4    | 41/75 [00:00<00:00, 78.42it/s]\u001b[A\n",
      " 65%|######5   | 49/75 [00:00<00:00, 78.23it/s]\u001b[A\n",
      " 77%|#######7  | 58/75 [00:00<00:00, 79.64it/s]\u001b[A\n",
      " 89%|########9 | 67/75 [00:00<00:00, 80.79it/s]\u001b[A\n",
      " 26%|██▌       | 219/858 [00:09<01:16,  8.31it/s]A"
     ]
    },
    {
     "name": "stdout",
     "output_type": "stream",
     "text": [
      "{'ade': 0.44250217, 'fde': 0.97965205}\n",
      "\t last loss:0.000445606, eval on validation:['ade: 0.44250217', 'fde: 0.97965205'], (best ade:0.44131562 at step 39300) \n"
     ]
    },
    {
     "name": "stderr",
     "output_type": "stream",
     "text": [
      " 60%|█████▉    | 513/858 [00:22<00:14, 24.45it/s]\n",
      "  0%|          | 0/75 [00:00<?, ?it/s]\u001b[A"
     ]
    },
    {
     "name": "stdout",
     "output_type": "stream",
     "text": [
      "\tsaving model 41700...\n",
      "\tdone\n",
      "Evaluating\n"
     ]
    },
    {
     "name": "stderr",
     "output_type": "stream",
     "text": [
      "\n",
      " 11%|#         | 8/75 [00:00<00:00, 76.50it/s]\u001b[A\n",
      " 23%|##2       | 17/75 [00:00<00:00, 79.00it/s]\u001b[A\n",
      " 33%|###3      | 25/75 [00:00<00:00, 78.55it/s]\u001b[A\n",
      " 45%|####5     | 34/75 [00:00<00:00, 80.11it/s]\u001b[A\n",
      " 57%|#####7    | 43/75 [00:00<00:00, 81.28it/s]\u001b[A\n",
      " 68%|######8   | 51/75 [00:00<00:00, 80.24it/s]\u001b[A\n",
      " 79%|#######8  | 59/75 [00:00<00:00, 79.57it/s]\u001b[A\n",
      " 89%|########9 | 67/75 [00:00<00:00, 79.45it/s]\u001b[A\n",
      " 60%|██████    | 519/858 [00:24<00:40,  8.43it/s]A"
     ]
    },
    {
     "name": "stdout",
     "output_type": "stream",
     "text": [
      "{'ade': 0.44671777, 'fde': 0.9903275}\n",
      "\t last loss:0.000341073, eval on validation:['ade: 0.44671777', 'fde: 0.9903275'], (best ade:0.44131562 at step 39300) \n"
     ]
    },
    {
     "name": "stderr",
     "output_type": "stream",
     "text": [
      " 95%|█████████▍| 813/858 [00:35<00:01, 26.20it/s]\n",
      "  0%|          | 0/75 [00:00<?, ?it/s]\u001b[A"
     ]
    },
    {
     "name": "stdout",
     "output_type": "stream",
     "text": [
      "\tsaving model 42000...\n",
      "\tdone\n",
      "Evaluating\n"
     ]
    },
    {
     "name": "stderr",
     "output_type": "stream",
     "text": [
      "\n",
      " 11%|#         | 8/75 [00:00<00:00, 73.38it/s]\u001b[A\n",
      " 23%|##2       | 17/75 [00:00<00:00, 76.30it/s]\u001b[A\n",
      " 35%|###4      | 26/75 [00:00<00:00, 78.38it/s]\u001b[A\n",
      " 47%|####6     | 35/75 [00:00<00:00, 79.32it/s]\u001b[A\n",
      " 59%|#####8    | 44/75 [00:00<00:00, 80.82it/s]\u001b[A\n",
      " 71%|#######   | 53/75 [00:00<00:00, 81.16it/s]\u001b[A\n",
      " 83%|########2 | 62/75 [00:00<00:00, 81.66it/s]\u001b[A\n",
      " 93%|#########3| 70/75 [00:00<00:00, 77.47it/s]\u001b[A\n",
      "100%|##########| 75/75 [00:00<00:00, 79.74it/s]\u001b[A"
     ]
    },
    {
     "name": "stdout",
     "output_type": "stream",
     "text": [
      "{'ade': 0.4412082, 'fde': 0.97459847}\n",
      "\t last loss:0.000397321, eval on validation:['ade: 0.4412082', 'fde: 0.97459847'], (best ade:0.44131562 at step 39300) \n",
      "\t saving best model...\n",
      "\t done.\n"
     ]
    },
    {
     "name": "stderr",
     "output_type": "stream",
     "text": [
      "100%|██████████| 858/858 [00:39<00:00, 23.15it/s]\n",
      "  0%|          | 2/858 [00:00<00:49, 17.27it/s]"
     ]
    },
    {
     "name": "stdout",
     "output_type": "stream",
     "text": [
      "('Epoca 50.', 'lr:', 4.0465464e-05)\n"
     ]
    },
    {
     "name": "stderr",
     "output_type": "stream",
     "text": [
      " 30%|██▉       | 257/858 [00:11<00:24, 24.82it/s]\n",
      "  0%|          | 0/75 [00:00<?, ?it/s]\u001b[A"
     ]
    },
    {
     "name": "stdout",
     "output_type": "stream",
     "text": [
      "\tsaving model 42300...\n",
      "\tdone\n",
      "Evaluating\n"
     ]
    },
    {
     "name": "stderr",
     "output_type": "stream",
     "text": [
      "\n",
      "  9%|9         | 7/75 [00:00<00:01, 67.19it/s]\u001b[A\n",
      " 21%|##1       | 16/75 [00:00<00:00, 71.36it/s]\u001b[A\n",
      " 33%|###3      | 25/75 [00:00<00:00, 74.78it/s]\u001b[A\n",
      " 44%|####4     | 33/75 [00:00<00:00, 75.12it/s]\u001b[A\n",
      " 56%|#####6    | 42/75 [00:00<00:00, 77.42it/s]\u001b[A\n",
      " 67%|######6   | 50/75 [00:00<00:00, 77.91it/s]\u001b[A\n",
      " 79%|#######8  | 59/75 [00:00<00:00, 79.68it/s]\u001b[A\n",
      " 91%|######### | 68/75 [00:00<00:00, 80.65it/s]\u001b[A\n",
      " 30%|███       | 260/858 [00:12<01:31,  6.51it/s]A"
     ]
    },
    {
     "name": "stdout",
     "output_type": "stream",
     "text": [
      "{'ade': 0.4497907, 'fde': 1.0008438}\n",
      "\t last loss:0.000366777, eval on validation:['ade: 0.4497907', 'fde: 1.0008438'], (best ade:0.4412082 at step 42000) \n"
     ]
    },
    {
     "name": "stderr",
     "output_type": "stream",
     "text": [
      " 65%|██████▍   | 557/858 [00:25<00:13, 22.51it/s]"
     ]
    },
    {
     "name": "stdout",
     "output_type": "stream",
     "text": [
      "\tsaving model 42600...\n"
     ]
    },
    {
     "name": "stderr",
     "output_type": "stream",
     "text": [
      "\n",
      "  0%|          | 0/75 [00:00<?, ?it/s]\u001b[A\n",
      "  9%|9         | 7/75 [00:00<00:00, 69.70it/s]\u001b[A"
     ]
    },
    {
     "name": "stdout",
     "output_type": "stream",
     "text": [
      "\tdone\n",
      "Evaluating\n"
     ]
    },
    {
     "name": "stderr",
     "output_type": "stream",
     "text": [
      "\n",
      " 19%|#8        | 14/75 [00:00<00:00, 69.56it/s]\u001b[A\n",
      " 29%|##9       | 22/75 [00:00<00:00, 70.34it/s]\u001b[A\n",
      " 40%|####      | 30/75 [00:00<00:00, 71.24it/s]\u001b[A\n",
      " 51%|#####     | 38/75 [00:00<00:00, 72.18it/s]\u001b[A\n",
      " 61%|######1   | 46/75 [00:00<00:00, 73.39it/s]\u001b[A\n",
      " 72%|#######2  | 54/75 [00:00<00:00, 73.31it/s]\u001b[A\n",
      " 83%|########2 | 62/75 [00:00<00:00, 74.01it/s]\u001b[A\n",
      " 93%|#########3| 70/75 [00:00<00:00, 71.08it/s]\u001b[A\n",
      " 65%|██████▌   | 560/858 [00:27<00:51,  5.79it/s]A"
     ]
    },
    {
     "name": "stdout",
     "output_type": "stream",
     "text": [
      "{'ade': 0.44496244, 'fde': 0.98780346}\n",
      "\t last loss:0.000297631, eval on validation:['ade: 0.44496244', 'fde: 0.98780346'], (best ade:0.4412082 at step 42000) \n"
     ]
    },
    {
     "name": "stderr",
     "output_type": "stream",
     "text": [
      "100%|█████████▉| 856/858 [00:40<00:00, 15.40it/s]\n",
      "  0%|          | 0/75 [00:00<?, ?it/s]\u001b[A"
     ]
    },
    {
     "name": "stdout",
     "output_type": "stream",
     "text": [
      "\tsaving model 42900...\n",
      "\tdone\n",
      "Evaluating\n"
     ]
    },
    {
     "name": "stderr",
     "output_type": "stream",
     "text": [
      "\n",
      "  9%|9         | 7/75 [00:00<00:00, 69.19it/s]\u001b[A\n",
      " 17%|#7        | 13/75 [00:00<00:00, 65.67it/s]\u001b[A\n",
      " 25%|##5       | 19/75 [00:00<00:00, 63.81it/s]\u001b[A\n",
      " 35%|###4      | 26/75 [00:00<00:00, 63.17it/s]\u001b[A\n",
      " 44%|####4     | 33/75 [00:00<00:00, 63.80it/s]\u001b[A\n",
      " 52%|#####2    | 39/75 [00:00<00:00, 61.08it/s]\u001b[A\n",
      " 60%|######    | 45/75 [00:00<00:00, 58.59it/s]\u001b[A\n",
      " 69%|######9   | 52/75 [00:00<00:00, 60.79it/s]\u001b[A\n",
      " 77%|#######7  | 58/75 [00:00<00:00, 60.38it/s]\u001b[A\n",
      " 85%|########5 | 64/75 [00:01<00:00, 58.68it/s]\u001b[A\n",
      " 93%|#########3| 70/75 [00:01<00:00, 58.73it/s]\u001b[A\n",
      "100%|██████████| 858/858 [00:41<00:00,  3.60it/s]A\n",
      "  0%|          | 0/858 [00:00<?, ?it/s]"
     ]
    },
    {
     "name": "stdout",
     "output_type": "stream",
     "text": [
      "{'ade': 0.4448076, 'fde': 0.9858954}\n",
      "\t last loss:0.000328865, eval on validation:['ade: 0.4448076', 'fde: 0.9858954'], (best ade:0.4412082 at step 42000) \n",
      "('Epoca 51.', 'lr:', 3.4395645e-05)\n"
     ]
    },
    {
     "name": "stderr",
     "output_type": "stream",
     "text": [
      " 35%|███▍      | 297/858 [00:13<00:24, 22.45it/s]\n",
      "  0%|          | 0/75 [00:00<?, ?it/s]\u001b[A"
     ]
    },
    {
     "name": "stdout",
     "output_type": "stream",
     "text": [
      "\tsaving model 43200...\n",
      "\tdone\n",
      "Evaluating\n"
     ]
    },
    {
     "name": "stderr",
     "output_type": "stream",
     "text": [
      "\n",
      " 11%|#         | 8/75 [00:00<00:00, 72.54it/s]\u001b[A\n",
      " 20%|##        | 15/75 [00:00<00:00, 70.85it/s]\u001b[A\n",
      " 31%|###       | 23/75 [00:00<00:00, 71.90it/s]\u001b[A\n",
      " 41%|####1     | 31/75 [00:00<00:00, 73.10it/s]\u001b[A\n",
      " 51%|#####     | 38/75 [00:00<00:00, 71.78it/s]\u001b[A\n",
      " 61%|######1   | 46/75 [00:00<00:00, 72.70it/s]\u001b[A\n",
      " 72%|#######2  | 54/75 [00:00<00:00, 73.15it/s]\u001b[A\n",
      " 81%|########1 | 61/75 [00:00<00:00, 66.76it/s]\u001b[A\n",
      " 91%|######### | 68/75 [00:00<00:00, 66.26it/s]\u001b[A\n",
      " 35%|███▌      | 303/858 [00:14<01:16,  7.29it/s]A"
     ]
    },
    {
     "name": "stdout",
     "output_type": "stream",
     "text": [
      "{'ade': 0.44495478, 'fde': 0.9855786}\n",
      "\t last loss:0.000247726, eval on validation:['ade: 0.44495478', 'fde: 0.9855786'], (best ade:0.4412082 at step 42000) \n"
     ]
    },
    {
     "name": "stderr",
     "output_type": "stream",
     "text": [
      " 70%|██████▉   | 599/858 [00:27<00:10, 24.21it/s]\n",
      "  0%|          | 0/75 [00:00<?, ?it/s]\u001b[A"
     ]
    },
    {
     "name": "stdout",
     "output_type": "stream",
     "text": [
      "\tsaving model 43500...\n",
      "\tdone\n",
      "Evaluating\n"
     ]
    },
    {
     "name": "stderr",
     "output_type": "stream",
     "text": [
      "\n",
      " 12%|#2        | 9/75 [00:00<00:00, 85.39it/s]\u001b[A\n",
      " 24%|##4       | 18/75 [00:00<00:00, 86.64it/s]\u001b[A\n",
      " 37%|###7      | 28/75 [00:00<00:00, 88.36it/s]\u001b[A\n",
      " 49%|####9     | 37/75 [00:00<00:00, 86.86it/s]\u001b[A\n",
      " 61%|######1   | 46/75 [00:00<00:00, 87.55it/s]\u001b[A\n",
      " 73%|#######3  | 55/75 [00:00<00:00, 88.23it/s]\u001b[A\n",
      " 87%|########6 | 65/75 [00:00<00:00, 89.25it/s]\u001b[A\n",
      " 99%|#########8| 74/75 [00:00<00:00, 87.35it/s]\u001b[A\n",
      " 70%|███████   | 602/858 [00:28<00:37,  6.76it/s]A"
     ]
    },
    {
     "name": "stdout",
     "output_type": "stream",
     "text": [
      "{'ade': 0.44775617, 'fde': 0.9946379}\n",
      "\t last loss:0.000441980, eval on validation:['ade: 0.44775617', 'fde: 0.9946379'], (best ade:0.4412082 at step 42000) \n"
     ]
    },
    {
     "name": "stderr",
     "output_type": "stream",
     "text": [
      "100%|██████████| 858/858 [00:39<00:00, 21.78it/s]\n",
      "  0%|          | 1/858 [00:00<01:41,  8.43it/s]"
     ]
    },
    {
     "name": "stdout",
     "output_type": "stream",
     "text": [
      "('Epoca 52.', 'lr:', 3.4395645e-05)\n"
     ]
    },
    {
     "name": "stderr",
     "output_type": "stream",
     "text": [
      "  5%|▍         | 40/858 [00:01<00:36, 22.61it/s]\n",
      "  0%|          | 0/75 [00:00<?, ?it/s]\u001b[A"
     ]
    },
    {
     "name": "stdout",
     "output_type": "stream",
     "text": [
      "\tsaving model 43800...\n",
      "\tdone\n",
      "Evaluating\n"
     ]
    },
    {
     "name": "stderr",
     "output_type": "stream",
     "text": [
      "\n",
      "  9%|9         | 7/75 [00:00<00:01, 67.13it/s]\u001b[A\n",
      " 20%|##        | 15/75 [00:00<00:00, 69.38it/s]\u001b[A\n",
      " 31%|###       | 23/75 [00:00<00:00, 70.07it/s]\u001b[A\n",
      " 41%|####1     | 31/75 [00:00<00:00, 71.52it/s]\u001b[A\n",
      " 52%|#####2    | 39/75 [00:00<00:00, 72.65it/s]\u001b[A\n",
      " 63%|######2   | 47/75 [00:00<00:00, 73.44it/s]\u001b[A\n",
      " 73%|#######3  | 55/75 [00:00<00:00, 72.75it/s]\u001b[A\n",
      " 83%|########2 | 62/75 [00:00<00:00, 70.41it/s]\u001b[A\n",
      " 93%|#########3| 70/75 [00:00<00:00, 71.77it/s]\u001b[A\n",
      "  5%|▌         | 43/858 [00:03<02:19,  5.84it/s][A"
     ]
    },
    {
     "name": "stdout",
     "output_type": "stream",
     "text": [
      "{'ade': 0.44448325, 'fde': 0.98629767}\n",
      "\t last loss:0.000316643, eval on validation:['ade: 0.44448325', 'fde: 0.98629767'], (best ade:0.4412082 at step 42000) \n"
     ]
    },
    {
     "name": "stderr",
     "output_type": "stream",
     "text": [
      " 40%|███▉      | 340/858 [00:15<00:21, 24.12it/s]\n",
      "  0%|          | 0/75 [00:00<?, ?it/s]\u001b[A"
     ]
    },
    {
     "name": "stdout",
     "output_type": "stream",
     "text": [
      "\tsaving model 44100...\n",
      "\tdone\n",
      "Evaluating\n"
     ]
    },
    {
     "name": "stderr",
     "output_type": "stream",
     "text": [
      "\n",
      " 11%|#         | 8/75 [00:00<00:00, 76.55it/s]\u001b[A\n",
      " 23%|##2       | 17/75 [00:00<00:00, 78.20it/s]\u001b[A\n",
      " 33%|###3      | 25/75 [00:00<00:00, 78.65it/s]\u001b[A\n",
      " 43%|####2     | 32/75 [00:00<00:00, 73.59it/s]\u001b[A\n",
      " 55%|#####4    | 41/75 [00:00<00:00, 76.93it/s]\u001b[A\n",
      " 68%|######8   | 51/75 [00:00<00:00, 81.29it/s]\u001b[A\n",
      " 81%|########1 | 61/75 [00:00<00:00, 84.29it/s]\u001b[A\n",
      " 93%|#########3| 70/75 [00:00<00:00, 85.90it/s]\u001b[A\n",
      " 40%|████      | 346/858 [00:16<00:59,  8.56it/s]A"
     ]
    },
    {
     "name": "stdout",
     "output_type": "stream",
     "text": [
      "{'ade': 0.44698006, 'fde': 0.9917868}\n",
      "\t last loss:0.000344139, eval on validation:['ade: 0.44698006', 'fde: 0.9917868'], (best ade:0.4412082 at step 42000) \n"
     ]
    },
    {
     "name": "stderr",
     "output_type": "stream",
     "text": [
      " 75%|███████▍  | 640/858 [00:29<00:09, 22.38it/s]\n",
      "  0%|          | 0/75 [00:00<?, ?it/s]\u001b[A"
     ]
    },
    {
     "name": "stdout",
     "output_type": "stream",
     "text": [
      "\tsaving model 44400...\n",
      "\tdone\n",
      "Evaluating\n"
     ]
    },
    {
     "name": "stderr",
     "output_type": "stream",
     "text": [
      "\n",
      "  9%|9         | 7/75 [00:00<00:00, 69.03it/s]\u001b[A\n",
      " 20%|##        | 15/75 [00:00<00:00, 70.10it/s]\u001b[A\n",
      " 31%|###       | 23/75 [00:00<00:00, 69.83it/s]\u001b[A\n",
      " 39%|###8      | 29/75 [00:00<00:00, 66.24it/s]\u001b[A\n",
      " 48%|####8     | 36/75 [00:00<00:00, 66.79it/s]\u001b[A\n",
      " 59%|#####8    | 44/75 [00:00<00:00, 69.26it/s]\u001b[A\n",
      " 69%|######9   | 52/75 [00:00<00:00, 71.15it/s]\u001b[A\n",
      " 79%|#######8  | 59/75 [00:00<00:00, 70.71it/s]\u001b[A\n",
      " 88%|########8 | 66/75 [00:00<00:00, 70.05it/s]\u001b[A\n",
      " 99%|#########8| 74/75 [00:01<00:00, 70.77it/s]\u001b[A\n",
      " 75%|███████▍  | 643/858 [00:30<00:37,  5.78it/s]A"
     ]
    },
    {
     "name": "stdout",
     "output_type": "stream",
     "text": [
      "{'ade': 0.44735983, 'fde': 0.9946125}\n",
      "\t last loss:0.000346862, eval on validation:['ade: 0.44735983', 'fde: 0.9946125'], (best ade:0.4412082 at step 42000) \n"
     ]
    },
    {
     "name": "stderr",
     "output_type": "stream",
     "text": [
      "100%|██████████| 858/858 [00:39<00:00, 25.58it/s]\n",
      "  0%|          | 3/858 [00:00<00:34, 24.43it/s]"
     ]
    },
    {
     "name": "stdout",
     "output_type": "stream",
     "text": [
      "('Epoca 53.', 'lr:', 2.92363e-05)\n"
     ]
    },
    {
     "name": "stderr",
     "output_type": "stream",
     "text": [
      "  9%|▉         | 81/858 [00:03<00:31, 24.38it/s]\n",
      "  0%|          | 0/75 [00:00<?, ?it/s]\u001b[A"
     ]
    },
    {
     "name": "stdout",
     "output_type": "stream",
     "text": [
      "\tsaving model 44700...\n",
      "\tdone\n",
      "Evaluating\n"
     ]
    },
    {
     "name": "stderr",
     "output_type": "stream",
     "text": [
      "\n",
      " 11%|#         | 8/75 [00:00<00:00, 75.51it/s]\u001b[A\n",
      " 23%|##2       | 17/75 [00:00<00:00, 78.02it/s]\u001b[A\n",
      " 33%|###3      | 25/75 [00:00<00:00, 77.57it/s]\u001b[A\n",
      " 45%|####5     | 34/75 [00:00<00:00, 79.46it/s]\u001b[A\n",
      " 57%|#####7    | 43/75 [00:00<00:00, 80.51it/s]\u001b[A\n",
      " 69%|######9   | 52/75 [00:00<00:00, 81.95it/s]\u001b[A\n",
      " 81%|########1 | 61/75 [00:00<00:00, 82.40it/s]\u001b[A\n",
      " 92%|#########2| 69/75 [00:00<00:00, 78.24it/s]\u001b[A\n",
      " 10%|█         | 86/858 [00:04<01:36,  7.96it/s][A"
     ]
    },
    {
     "name": "stdout",
     "output_type": "stream",
     "text": [
      "{'ade': 0.44436076, 'fde': 0.98414344}\n",
      "\t last loss:0.000416054, eval on validation:['ade: 0.44436076', 'fde: 0.98414344'], (best ade:0.4412082 at step 42000) \n"
     ]
    },
    {
     "name": "stderr",
     "output_type": "stream",
     "text": [
      " 45%|████▍     | 383/858 [00:17<00:18, 25.07it/s]\n",
      "  0%|          | 0/75 [00:00<?, ?it/s]\u001b[A"
     ]
    },
    {
     "name": "stdout",
     "output_type": "stream",
     "text": [
      "\tsaving model 45000...\n",
      "\tdone\n",
      "Evaluating\n"
     ]
    },
    {
     "name": "stderr",
     "output_type": "stream",
     "text": [
      "\n",
      " 12%|#2        | 9/75 [00:00<00:00, 82.67it/s]\u001b[A\n",
      " 24%|##4       | 18/75 [00:00<00:00, 84.69it/s]\u001b[A\n",
      " 36%|###6      | 27/75 [00:00<00:00, 85.57it/s]\u001b[A\n",
      " 45%|####5     | 34/75 [00:00<00:00, 79.88it/s]\u001b[A\n",
      " 57%|#####7    | 43/75 [00:00<00:00, 81.16it/s]\u001b[A\n",
      " 69%|######9   | 52/75 [00:00<00:00, 83.37it/s]\u001b[A\n",
      " 81%|########1 | 61/75 [00:00<00:00, 85.03it/s]\u001b[A\n",
      " 95%|#########4| 71/75 [00:00<00:00, 87.13it/s]\u001b[A\n",
      " 45%|████▍     | 386/858 [00:19<01:08,  6.87it/s]A"
     ]
    },
    {
     "name": "stdout",
     "output_type": "stream",
     "text": [
      "{'ade': 0.4424575, 'fde': 0.97858924}\n",
      "\t last loss:0.000300688, eval on validation:['ade: 0.4424575', 'fde: 0.97858924'], (best ade:0.4412082 at step 42000) \n"
     ]
    },
    {
     "name": "stderr",
     "output_type": "stream",
     "text": [
      " 79%|███████▉  | 682/858 [00:32<00:07, 22.77it/s]\n",
      "  0%|          | 0/75 [00:00<?, ?it/s]\u001b[A"
     ]
    },
    {
     "name": "stdout",
     "output_type": "stream",
     "text": [
      "\tsaving model 45300...\n",
      "\tdone\n",
      "Evaluating\n"
     ]
    },
    {
     "name": "stderr",
     "output_type": "stream",
     "text": [
      "\n",
      "  9%|9         | 7/75 [00:00<00:00, 68.92it/s]\u001b[A\n",
      " 20%|##        | 15/75 [00:00<00:00, 71.72it/s]\u001b[A\n",
      " 32%|###2      | 24/75 [00:00<00:00, 75.11it/s]\u001b[A\n",
      " 43%|####2     | 32/75 [00:00<00:00, 76.13it/s]\u001b[A\n",
      " 53%|#####3    | 40/75 [00:00<00:00, 76.19it/s]\u001b[A\n",
      " 65%|######5   | 49/75 [00:00<00:00, 78.34it/s]\u001b[A\n",
      " 77%|#######7  | 58/75 [00:00<00:00, 80.45it/s]\u001b[A\n",
      " 89%|########9 | 67/75 [00:00<00:00, 80.84it/s]\u001b[A\n",
      " 80%|███████▉  | 685/858 [00:33<00:27,  6.26it/s]A"
     ]
    },
    {
     "name": "stdout",
     "output_type": "stream",
     "text": [
      "{'ade': 0.44702137, 'fde': 0.9927766}\n",
      "\t last loss:0.000324178, eval on validation:['ade: 0.44702137', 'fde: 0.9927766'], (best ade:0.4412082 at step 42000) \n"
     ]
    },
    {
     "name": "stderr",
     "output_type": "stream",
     "text": [
      "100%|██████████| 858/858 [00:40<00:00, 15.48it/s]\n",
      "  0%|          | 1/858 [00:00<01:43,  8.26it/s]"
     ]
    },
    {
     "name": "stdout",
     "output_type": "stream",
     "text": [
      "('Epoca 54.', 'lr:', 2.92363e-05)\n"
     ]
    },
    {
     "name": "stderr",
     "output_type": "stream",
     "text": [
      " 15%|█▍        | 125/858 [00:06<00:32, 22.80it/s]\n",
      "  0%|          | 0/75 [00:00<?, ?it/s]\u001b[A"
     ]
    },
    {
     "name": "stdout",
     "output_type": "stream",
     "text": [
      "\tsaving model 45600...\n",
      "\tdone\n",
      "Evaluating\n"
     ]
    },
    {
     "name": "stderr",
     "output_type": "stream",
     "text": [
      "\n",
      "  8%|8         | 6/75 [00:00<00:01, 51.87it/s]\u001b[A\n",
      " 17%|#7        | 13/75 [00:00<00:01, 55.53it/s]\u001b[A\n",
      " 29%|##9       | 22/75 [00:00<00:00, 61.93it/s]\u001b[A\n",
      " 41%|####1     | 31/75 [00:00<00:00, 68.20it/s]\u001b[A\n",
      " 53%|#####3    | 40/75 [00:00<00:00, 72.67it/s]\u001b[A\n",
      " 64%|######4   | 48/75 [00:00<00:00, 74.64it/s]\u001b[A\n",
      " 75%|#######4  | 56/75 [00:00<00:00, 75.85it/s]\u001b[A\n",
      " 85%|########5 | 64/75 [00:00<00:00, 73.57it/s]\u001b[A\n",
      " 96%|#########6| 72/75 [00:00<00:00, 74.50it/s]\u001b[A\n",
      " 15%|█▍        | 128/858 [00:07<02:00,  6.08it/s]A"
     ]
    },
    {
     "name": "stdout",
     "output_type": "stream",
     "text": [
      "{'ade': 0.44566217, 'fde': 0.9888323}\n",
      "\t last loss:0.000360973, eval on validation:['ade: 0.44566217', 'fde: 0.9888323'], (best ade:0.4412082 at step 42000) \n"
     ]
    },
    {
     "name": "stderr",
     "output_type": "stream",
     "text": [
      " 50%|████▉     | 425/858 [00:24<00:18, 23.36it/s]\n",
      "  0%|          | 0/75 [00:00<?, ?it/s]\u001b[A"
     ]
    },
    {
     "name": "stdout",
     "output_type": "stream",
     "text": [
      "\tsaving model 45900...\n",
      "\tdone\n",
      "Evaluating\n"
     ]
    },
    {
     "name": "stderr",
     "output_type": "stream",
     "text": [
      "\n",
      " 12%|#2        | 9/75 [00:00<00:00, 87.50it/s]\u001b[A\n",
      " 24%|##4       | 18/75 [00:00<00:00, 87.92it/s]\u001b[A\n",
      " 36%|###6      | 27/75 [00:00<00:00, 86.76it/s]\u001b[A\n",
      " 45%|####5     | 34/75 [00:00<00:00, 79.55it/s]\u001b[A\n",
      " 56%|#####6    | 42/75 [00:00<00:00, 79.43it/s]\u001b[A\n",
      " 68%|######8   | 51/75 [00:00<00:00, 82.04it/s]\u001b[A\n",
      " 80%|########  | 60/75 [00:00<00:00, 82.92it/s]\u001b[A\n",
      " 92%|#########2| 69/75 [00:00<00:00, 83.99it/s]\u001b[A\n",
      " 50%|████▉     | 428/858 [00:25<01:04,  6.67it/s]A"
     ]
    },
    {
     "name": "stdout",
     "output_type": "stream",
     "text": [
      "{'ade': 0.44508755, 'fde': 0.98761135}\n",
      "\t last loss:0.000317130, eval on validation:['ade: 0.44508755', 'fde: 0.98761135'], (best ade:0.4412082 at step 42000) \n"
     ]
    },
    {
     "name": "stderr",
     "output_type": "stream",
     "text": [
      " 84%|████████▍ | 724/858 [00:41<00:09, 13.58it/s]\n",
      "  0%|          | 0/75 [00:00<?, ?it/s]\u001b[A"
     ]
    },
    {
     "name": "stdout",
     "output_type": "stream",
     "text": [
      "\tsaving model 46200...\n",
      "\tdone\n",
      "Evaluating\n"
     ]
    },
    {
     "name": "stderr",
     "output_type": "stream",
     "text": [
      "\n",
      "  5%|5         | 4/75 [00:00<00:01, 37.06it/s]\u001b[A\n",
      " 15%|#4        | 11/75 [00:00<00:01, 42.34it/s]\u001b[A\n",
      " 27%|##6       | 20/75 [00:00<00:01, 50.05it/s]\u001b[A\n",
      " 40%|####      | 30/75 [00:00<00:00, 57.91it/s]\u001b[A\n",
      " 53%|#####3    | 40/75 [00:00<00:00, 65.11it/s]\u001b[A\n",
      " 67%|######6   | 50/75 [00:00<00:00, 71.36it/s]\u001b[A\n",
      " 80%|########  | 60/75 [00:00<00:00, 76.55it/s]\u001b[A\n",
      " 92%|#########2| 69/75 [00:00<00:00, 79.22it/s]\u001b[A\n",
      " 85%|████████▍ | 729/858 [00:42<00:23,  5.55it/s]A"
     ]
    },
    {
     "name": "stdout",
     "output_type": "stream",
     "text": [
      "{'ade': 0.44217652, 'fde': 0.97793573}\n",
      "\t last loss:0.000227639, eval on validation:['ade: 0.44217652', 'fde: 0.97793573'], (best ade:0.4412082 at step 42000) \n"
     ]
    },
    {
     "name": "stderr",
     "output_type": "stream",
     "text": [
      "100%|██████████| 858/858 [00:48<00:00, 20.70it/s]\n",
      "  0%|          | 1/858 [00:00<01:47,  8.00it/s]"
     ]
    },
    {
     "name": "stdout",
     "output_type": "stream",
     "text": [
      "('Epoca 55.', 'lr:', 2.4850853e-05)\n"
     ]
    },
    {
     "name": "stderr",
     "output_type": "stream",
     "text": [
      " 19%|█▉        | 165/858 [00:08<00:30, 22.37it/s]\n",
      "  0%|          | 0/75 [00:00<?, ?it/s]\u001b[A"
     ]
    },
    {
     "name": "stdout",
     "output_type": "stream",
     "text": [
      "\tsaving model 46500...\n",
      "\tdone\n",
      "Evaluating\n"
     ]
    },
    {
     "name": "stderr",
     "output_type": "stream",
     "text": [
      "\n",
      "  9%|9         | 7/75 [00:00<00:00, 69.18it/s]\u001b[A\n",
      " 20%|##        | 15/75 [00:00<00:00, 70.39it/s]\u001b[A\n",
      " 29%|##9       | 22/75 [00:00<00:00, 70.27it/s]\u001b[A\n",
      " 39%|###8      | 29/75 [00:00<00:00, 70.19it/s]\u001b[A\n",
      " 49%|####9     | 37/75 [00:00<00:00, 70.76it/s]\u001b[A\n",
      " 61%|######1   | 46/75 [00:00<00:00, 73.95it/s]\u001b[A\n",
      " 71%|#######   | 53/75 [00:00<00:00, 72.04it/s]\u001b[A\n",
      " 80%|########  | 60/75 [00:00<00:00, 70.08it/s]\u001b[A\n",
      " 92%|#########2| 69/75 [00:00<00:00, 73.81it/s]\u001b[A\n",
      " 20%|█▉        | 171/858 [00:09<01:28,  7.74it/s]A"
     ]
    },
    {
     "name": "stdout",
     "output_type": "stream",
     "text": [
      "{'ade': 0.44311535, 'fde': 0.9831073}\n",
      "\t last loss:0.000368490, eval on validation:['ade: 0.44311535', 'fde: 0.9831073'], (best ade:0.4412082 at step 42000) \n"
     ]
    },
    {
     "name": "stderr",
     "output_type": "stream",
     "text": [
      " 54%|█████▍    | 467/858 [00:23<00:21, 18.06it/s]"
     ]
    },
    {
     "name": "stdout",
     "output_type": "stream",
     "text": [
      "\tsaving model 46800...\n"
     ]
    },
    {
     "name": "stderr",
     "output_type": "stream",
     "text": [
      "\n",
      "  0%|          | 0/75 [00:00<?, ?it/s]\u001b[A\n",
      "  9%|9         | 7/75 [00:00<00:01, 67.39it/s]\u001b[A"
     ]
    },
    {
     "name": "stdout",
     "output_type": "stream",
     "text": [
      "\tdone\n",
      "Evaluating\n"
     ]
    },
    {
     "name": "stderr",
     "output_type": "stream",
     "text": [
      "\n",
      " 19%|#8        | 14/75 [00:00<00:00, 66.01it/s]\u001b[A\n",
      " 28%|##8       | 21/75 [00:00<00:00, 67.02it/s]\u001b[A\n",
      " 39%|###8      | 29/75 [00:00<00:00, 69.61it/s]\u001b[A\n",
      " 48%|####8     | 36/75 [00:00<00:00, 69.70it/s]\u001b[A\n",
      " 59%|#####8    | 44/75 [00:00<00:00, 70.32it/s]\u001b[A\n",
      " 69%|######9   | 52/75 [00:00<00:00, 71.65it/s]\u001b[A\n",
      " 80%|########  | 60/75 [00:00<00:00, 72.26it/s]\u001b[A\n",
      " 89%|########9 | 67/75 [00:00<00:00, 71.50it/s]\u001b[A\n",
      " 99%|#########8| 74/75 [00:01<00:00, 70.63it/s]\u001b[A\n",
      " 55%|█████▍    | 469/858 [00:24<01:37,  3.99it/s]A"
     ]
    },
    {
     "name": "stdout",
     "output_type": "stream",
     "text": [
      "{'ade': 0.4440723, 'fde': 0.98563725}\n",
      "\t last loss:0.000219469, eval on validation:['ade: 0.4440723', 'fde: 0.98563725'], (best ade:0.4412082 at step 42000) \n"
     ]
    },
    {
     "name": "stderr",
     "output_type": "stream",
     "text": [
      " 89%|████████▉ | 766/858 [00:37<00:03, 23.85it/s]\n",
      "  0%|          | 0/75 [00:00<?, ?it/s]\u001b[A"
     ]
    },
    {
     "name": "stdout",
     "output_type": "stream",
     "text": [
      "\tsaving model 47100...\n",
      "\tdone\n",
      "Evaluating\n"
     ]
    },
    {
     "name": "stderr",
     "output_type": "stream",
     "text": [
      "\n",
      "  8%|8         | 6/75 [00:00<00:01, 59.46it/s]\u001b[A\n",
      " 19%|#8        | 14/75 [00:00<00:00, 64.20it/s]\u001b[A\n",
      " 29%|##9       | 22/75 [00:00<00:00, 68.11it/s]\u001b[A\n",
      " 41%|####1     | 31/75 [00:00<00:00, 71.64it/s]\u001b[A\n",
      " 52%|#####2    | 39/75 [00:00<00:00, 73.53it/s]\u001b[A\n",
      " 63%|######2   | 47/75 [00:00<00:00, 74.03it/s]\u001b[A\n",
      " 73%|#######3  | 55/75 [00:00<00:00, 75.49it/s]\u001b[A\n",
      " 85%|########5 | 64/75 [00:00<00:00, 77.18it/s]\u001b[A\n",
      " 97%|#########7| 73/75 [00:00<00:00, 78.70it/s]\u001b[A\n",
      " 90%|████████▉ | 769/858 [00:38<00:14,  6.23it/s]A"
     ]
    },
    {
     "name": "stdout",
     "output_type": "stream",
     "text": [
      "{'ade': 0.44390687, 'fde': 0.9859463}\n",
      "\t last loss:0.000291449, eval on validation:['ade: 0.44390687', 'fde: 0.9859463'], (best ade:0.4412082 at step 42000) \n"
     ]
    },
    {
     "name": "stderr",
     "output_type": "stream",
     "text": [
      "100%|██████████| 858/858 [00:43<00:00, 19.22it/s]\n",
      "  0%|          | 2/858 [00:00<01:00, 14.17it/s]"
     ]
    },
    {
     "name": "stdout",
     "output_type": "stream",
     "text": [
      "('Epoca 56.', 'lr:', 2.4850853e-05)\n"
     ]
    },
    {
     "name": "stderr",
     "output_type": "stream",
     "text": [
      " 24%|██▍       | 208/858 [00:09<00:29, 21.77it/s]\n",
      "  0%|          | 0/75 [00:00<?, ?it/s]\u001b[A"
     ]
    },
    {
     "name": "stdout",
     "output_type": "stream",
     "text": [
      "\tsaving model 47400...\n",
      "\tdone\n",
      "Evaluating\n"
     ]
    },
    {
     "name": "stderr",
     "output_type": "stream",
     "text": [
      "\n",
      " 11%|#         | 8/75 [00:00<00:00, 72.71it/s]\u001b[A\n",
      " 23%|##2       | 17/75 [00:00<00:00, 76.95it/s]\u001b[A\n",
      " 35%|###4      | 26/75 [00:00<00:00, 80.41it/s]\u001b[A\n",
      " 47%|####6     | 35/75 [00:00<00:00, 82.85it/s]\u001b[A\n",
      " 59%|#####8    | 44/75 [00:00<00:00, 83.40it/s]\u001b[A\n",
      " 71%|#######   | 53/75 [00:00<00:00, 84.68it/s]\u001b[A\n",
      " 83%|########2 | 62/75 [00:00<00:00, 86.10it/s]\u001b[A\n",
      " 95%|#########4| 71/75 [00:00<00:00, 86.45it/s]\u001b[A\n",
      " 25%|██▍       | 211/858 [00:11<01:37,  6.62it/s]A"
     ]
    },
    {
     "name": "stdout",
     "output_type": "stream",
     "text": [
      "{'ade': 0.4422704, 'fde': 0.9791844}\n",
      "\t last loss:0.000306029, eval on validation:['ade: 0.4422704', 'fde: 0.9791844'], (best ade:0.4412082 at step 42000) \n"
     ]
    },
    {
     "name": "stderr",
     "output_type": "stream",
     "text": [
      " 59%|█████▉    | 508/858 [00:23<00:15, 23.30it/s]\n",
      "  0%|          | 0/75 [00:00<?, ?it/s]\u001b[A"
     ]
    },
    {
     "name": "stdout",
     "output_type": "stream",
     "text": [
      "\tsaving model 47700...\n",
      "\tdone\n",
      "Evaluating\n"
     ]
    },
    {
     "name": "stderr",
     "output_type": "stream",
     "text": [
      "\n",
      " 11%|#         | 8/75 [00:00<00:00, 74.70it/s]\u001b[A\n",
      " 21%|##1       | 16/75 [00:00<00:00, 76.18it/s]\u001b[A\n",
      " 33%|###3      | 25/75 [00:00<00:00, 78.03it/s]\u001b[A\n",
      " 43%|####2     | 32/75 [00:00<00:00, 74.80it/s]\u001b[A\n",
      " 53%|#####3    | 40/75 [00:00<00:00, 76.17it/s]\u001b[A\n",
      " 65%|######5   | 49/75 [00:00<00:00, 77.97it/s]\u001b[A\n",
      " 77%|#######7  | 58/75 [00:00<00:00, 80.29it/s]\u001b[A\n",
      " 89%|########9 | 67/75 [00:00<00:00, 82.61it/s]\u001b[A\n",
      " 60%|█████▉    | 514/858 [00:25<00:41,  8.37it/s]A"
     ]
    },
    {
     "name": "stdout",
     "output_type": "stream",
     "text": [
      "{'ade': 0.4433271, 'fde': 0.98265433}\n",
      "\t last loss:0.000623422, eval on validation:['ade: 0.4433271', 'fde: 0.98265433'], (best ade:0.4412082 at step 42000) \n"
     ]
    },
    {
     "name": "stderr",
     "output_type": "stream",
     "text": [
      " 94%|█████████▍| 807/858 [00:38<00:02, 21.49it/s]"
     ]
    },
    {
     "name": "stdout",
     "output_type": "stream",
     "text": [
      "\tsaving model 48000...\n"
     ]
    },
    {
     "name": "stderr",
     "output_type": "stream",
     "text": [
      "\n",
      "  0%|          | 0/75 [00:00<?, ?it/s]\u001b[A\n",
      "  9%|9         | 7/75 [00:00<00:00, 68.21it/s]\u001b[A"
     ]
    },
    {
     "name": "stdout",
     "output_type": "stream",
     "text": [
      "\tdone\n",
      "Evaluating\n"
     ]
    },
    {
     "name": "stderr",
     "output_type": "stream",
     "text": [
      "\n",
      " 20%|##        | 15/75 [00:00<00:00, 70.17it/s]\u001b[A\n",
      " 31%|###       | 23/75 [00:00<00:00, 70.77it/s]\u001b[A\n",
      " 41%|####1     | 31/75 [00:00<00:00, 71.63it/s]\u001b[A\n",
      " 52%|#####2    | 39/75 [00:00<00:00, 72.74it/s]\u001b[A\n",
      " 63%|######2   | 47/75 [00:00<00:00, 72.77it/s]\u001b[A\n",
      " 73%|#######3  | 55/75 [00:00<00:00, 72.81it/s]\u001b[A\n",
      " 84%|########4 | 63/75 [00:00<00:00, 73.86it/s]\u001b[A\n",
      " 95%|#########4| 71/75 [00:00<00:00, 70.96it/s]\u001b[A\n",
      " 95%|█████████▍| 813/858 [00:39<00:06,  7.35it/s]A"
     ]
    },
    {
     "name": "stdout",
     "output_type": "stream",
     "text": [
      "{'ade': 0.44403845, 'fde': 0.98527426}\n",
      "\t last loss:0.000285612, eval on validation:['ade: 0.44403845', 'fde: 0.98527426'], (best ade:0.4412082 at step 42000) \n"
     ]
    },
    {
     "name": "stderr",
     "output_type": "stream",
     "text": [
      "100%|██████████| 858/858 [00:41<00:00, 20.49it/s]\n",
      "  0%|          | 1/858 [00:00<01:43,  8.26it/s]"
     ]
    },
    {
     "name": "stdout",
     "output_type": "stream",
     "text": [
      "('Epoca 57.', 'lr:', 2.1123227e-05)\n"
     ]
    },
    {
     "name": "stderr",
     "output_type": "stream",
     "text": [
      " 29%|██▉       | 250/858 [00:10<00:28, 21.70it/s]\n",
      "  0%|          | 0/75 [00:00<?, ?it/s]\u001b[A"
     ]
    },
    {
     "name": "stdout",
     "output_type": "stream",
     "text": [
      "\tsaving model 48300...\n",
      "\tdone\n",
      "Evaluating\n"
     ]
    },
    {
     "name": "stderr",
     "output_type": "stream",
     "text": [
      "\n",
      "  9%|9         | 7/75 [00:00<00:01, 63.76it/s]\u001b[A\n",
      " 19%|#8        | 14/75 [00:00<00:00, 63.87it/s]\u001b[A\n",
      " 28%|##8       | 21/75 [00:00<00:00, 63.69it/s]\u001b[A\n",
      " 37%|###7      | 28/75 [00:00<00:00, 63.76it/s]\u001b[A\n",
      " 47%|####6     | 35/75 [00:00<00:00, 64.35it/s]\u001b[A\n",
      " 55%|#####4    | 41/75 [00:00<00:00, 59.88it/s]\u001b[A\n",
      " 64%|######4   | 48/75 [00:00<00:00, 60.71it/s]\u001b[A\n",
      " 73%|#######3  | 55/75 [00:00<00:00, 61.77it/s]\u001b[A\n",
      " 83%|########2 | 62/75 [00:00<00:00, 63.07it/s]\u001b[A\n",
      " 92%|#########2| 69/75 [00:01<00:00, 64.13it/s]\u001b[A\n",
      " 29%|██▉       | 253/858 [00:12<01:52,  5.36it/s]A"
     ]
    },
    {
     "name": "stdout",
     "output_type": "stream",
     "text": [
      "{'ade': 0.44424936, 'fde': 0.98526675}\n",
      "\t last loss:0.000264901, eval on validation:['ade: 0.44424936', 'fde: 0.98526675'], (best ade:0.4412082 at step 42000) \n"
     ]
    },
    {
     "name": "stderr",
     "output_type": "stream",
     "text": [
      " 64%|██████▍   | 551/858 [00:25<00:11, 26.17it/s]\n",
      "  0%|          | 0/75 [00:00<?, ?it/s]\u001b[A"
     ]
    },
    {
     "name": "stdout",
     "output_type": "stream",
     "text": [
      "\tsaving model 48600...\n",
      "\tdone\n",
      "Evaluating\n"
     ]
    },
    {
     "name": "stderr",
     "output_type": "stream",
     "text": [
      "\n",
      " 12%|#2        | 9/75 [00:00<00:00, 82.19it/s]\u001b[A\n",
      " 21%|##1       | 16/75 [00:00<00:00, 75.23it/s]\u001b[A\n",
      " 33%|###3      | 25/75 [00:00<00:00, 77.88it/s]\u001b[A\n",
      " 45%|####5     | 34/75 [00:00<00:00, 80.31it/s]\u001b[A\n",
      " 59%|#####8    | 44/75 [00:00<00:00, 83.49it/s]\u001b[A\n",
      " 72%|#######2  | 54/75 [00:00<00:00, 86.03it/s]\u001b[A\n",
      " 85%|########5 | 64/75 [00:00<00:00, 87.53it/s]\u001b[A\n",
      " 97%|#########7| 73/75 [00:00<00:00, 88.01it/s]\u001b[A\n",
      " 65%|██████▍   | 554/858 [00:26<00:44,  6.91it/s]A"
     ]
    },
    {
     "name": "stdout",
     "output_type": "stream",
     "text": [
      "{'ade': 0.44273418, 'fde': 0.97891206}\n",
      "\t last loss:0.000276881, eval on validation:['ade: 0.44273418', 'fde: 0.97891206'], (best ade:0.4412082 at step 42000) \n"
     ]
    },
    {
     "name": "stderr",
     "output_type": "stream",
     "text": [
      " 99%|█████████▉| 850/858 [00:39<00:00, 23.57it/s]\n",
      "  0%|          | 0/75 [00:00<?, ?it/s]\u001b[A"
     ]
    },
    {
     "name": "stdout",
     "output_type": "stream",
     "text": [
      "\tsaving model 48900...\n",
      "\tdone\n",
      "Evaluating\n"
     ]
    },
    {
     "name": "stderr",
     "output_type": "stream",
     "text": [
      "\n",
      " 11%|#         | 8/75 [00:00<00:00, 78.60it/s]\u001b[A\n",
      " 23%|##2       | 17/75 [00:00<00:00, 80.29it/s]\u001b[A\n",
      " 35%|###4      | 26/75 [00:00<00:00, 80.94it/s]\u001b[A\n",
      " 47%|####6     | 35/75 [00:00<00:00, 81.34it/s]\u001b[A\n",
      " 59%|#####8    | 44/75 [00:00<00:00, 81.58it/s]\u001b[A\n",
      " 69%|######9   | 52/75 [00:00<00:00, 78.54it/s]\u001b[A\n",
      " 80%|########  | 60/75 [00:00<00:00, 78.12it/s]\u001b[A\n",
      " 92%|#########2| 69/75 [00:00<00:00, 79.32it/s]\u001b[A\n",
      " 99%|█████████▉| 853/858 [00:40<00:00,  6.46it/s]A"
     ]
    },
    {
     "name": "stdout",
     "output_type": "stream",
     "text": [
      "{'ade': 0.4447838, 'fde': 0.9860904}\n",
      "\t last loss:0.000418582, eval on validation:['ade: 0.4447838', 'fde: 0.9860904'], (best ade:0.4412082 at step 42000) \n"
     ]
    },
    {
     "name": "stderr",
     "output_type": "stream",
     "text": [
      "100%|██████████| 858/858 [00:41<00:00, 20.87it/s]\n",
      "  0%|          | 1/858 [00:00<01:44,  8.23it/s]"
     ]
    },
    {
     "name": "stdout",
     "output_type": "stream",
     "text": [
      "('Epoca 58.', 'lr:', 2.1123227e-05)\n"
     ]
    },
    {
     "name": "stderr",
     "output_type": "stream",
     "text": [
      " 34%|███▍      | 291/858 [00:12<00:27, 20.75it/s]"
     ]
    },
    {
     "name": "stdout",
     "output_type": "stream",
     "text": [
      "\tsaving model 49200...\n"
     ]
    },
    {
     "name": "stderr",
     "output_type": "stream",
     "text": [
      "\n",
      "  0%|          | 0/75 [00:00<?, ?it/s]\u001b[A\n",
      "  9%|9         | 7/75 [00:00<00:01, 62.96it/s]\u001b[A\n",
      " 19%|#8        | 14/75 [00:00<00:00, 63.09it/s]\u001b[A\n",
      " 28%|##8       | 21/75 [00:00<00:00, 63.90it/s]\u001b[A\n",
      " 37%|###7      | 28/75 [00:00<00:00, 64.81it/s]\u001b[A\n",
      " 47%|####6     | 35/75 [00:00<00:00, 65.35it/s]\u001b[A\n",
      " 56%|#####6    | 42/75 [00:00<00:00, 65.70it/s]\u001b[A\n",
      " 65%|######5   | 49/75 [00:00<00:00, 66.01it/s]\u001b[A\n",
      " 75%|#######4  | 56/75 [00:00<00:00, 62.04it/s]\u001b[A\n",
      " 84%|########4 | 63/75 [00:00<00:00, 63.56it/s]\u001b[A\n",
      " 93%|#########3| 70/75 [00:01<00:00, 64.16it/s]\u001b[A\n",
      " 35%|███▍      | 297/858 [00:13<01:21,  6.85it/s]A"
     ]
    },
    {
     "name": "stdout",
     "output_type": "stream",
     "text": [
      "\tdone\n",
      "Evaluating\n",
      "{'ade': 0.443343, 'fde': 0.9825286}\n",
      "\t last loss:0.000377144, eval on validation:['ade: 0.443343', 'fde: 0.9825286'], (best ade:0.4412082 at step 42000) \n"
     ]
    },
    {
     "name": "stderr",
     "output_type": "stream",
     "text": [
      " 69%|██████▉   | 591/858 [00:26<00:11, 23.93it/s]\n",
      "  0%|          | 0/75 [00:00<?, ?it/s]\u001b[A"
     ]
    },
    {
     "name": "stdout",
     "output_type": "stream",
     "text": [
      "\tsaving model 49500...\n",
      "\tdone\n",
      "Evaluating\n"
     ]
    },
    {
     "name": "stderr",
     "output_type": "stream",
     "text": [
      "\n",
      "  9%|9         | 7/75 [00:00<00:01, 64.58it/s]\u001b[A\n",
      " 17%|#7        | 13/75 [00:00<00:01, 60.42it/s]\u001b[A\n",
      " 28%|##8       | 21/75 [00:00<00:00, 64.43it/s]\u001b[A\n",
      " 37%|###7      | 28/75 [00:00<00:00, 65.75it/s]\u001b[A\n",
      " 48%|####8     | 36/75 [00:00<00:00, 68.61it/s]\u001b[A\n",
      " 57%|#####7    | 43/75 [00:00<00:00, 68.71it/s]\u001b[A\n",
      " 69%|######9   | 52/75 [00:00<00:00, 72.14it/s]\u001b[A\n",
      " 80%|########  | 60/75 [00:00<00:00, 73.98it/s]\u001b[A\n",
      " 92%|#########2| 69/75 [00:00<00:00, 76.34it/s]\u001b[A\n",
      " 70%|██████▉   | 597/858 [00:27<00:33,  7.87it/s]A"
     ]
    },
    {
     "name": "stdout",
     "output_type": "stream",
     "text": [
      "{'ade': 0.44430333, 'fde': 0.9855242}\n",
      "\t last loss:0.000781635, eval on validation:['ade: 0.44430333', 'fde: 0.9855242'], (best ade:0.4412082 at step 42000) \n"
     ]
    },
    {
     "name": "stderr",
     "output_type": "stream",
     "text": [
      "100%|██████████| 858/858 [00:41<00:00, 20.59it/s]\n",
      "  0%|          | 1/858 [00:00<02:00,  7.12it/s]"
     ]
    },
    {
     "name": "stdout",
     "output_type": "stream",
     "text": [
      "('Epoca 59.', 'lr:', 1.7954744e-05)\n"
     ]
    },
    {
     "name": "stderr",
     "output_type": "stream",
     "text": [
      "  4%|▍         | 35/858 [00:02<00:50, 16.41it/s]\n",
      "  0%|          | 0/75 [00:00<?, ?it/s]\u001b[A"
     ]
    },
    {
     "name": "stdout",
     "output_type": "stream",
     "text": [
      "\tsaving model 49800...\n",
      "\tdone\n",
      "Evaluating\n"
     ]
    },
    {
     "name": "stderr",
     "output_type": "stream",
     "text": [
      "\n",
      " 11%|#         | 8/75 [00:00<00:00, 70.95it/s]\u001b[A\n",
      " 17%|#7        | 13/75 [00:00<00:01, 60.90it/s]\u001b[A\n",
      " 27%|##6       | 20/75 [00:00<00:00, 62.74it/s]\u001b[A\n",
      " 36%|###6      | 27/75 [00:00<00:00, 64.35it/s]\u001b[A\n",
      " 47%|####6     | 35/75 [00:00<00:00, 66.82it/s]\u001b[A\n",
      " 60%|######    | 45/75 [00:00<00:00, 72.88it/s]\u001b[A\n",
      " 72%|#######2  | 54/75 [00:00<00:00, 77.27it/s]\u001b[A\n",
      " 85%|########5 | 64/75 [00:00<00:00, 81.00it/s]\u001b[A\n",
      " 99%|#########8| 74/75 [00:00<00:00, 83.92it/s]\u001b[A\n",
      "  4%|▍         | 37/858 [00:03<03:12,  4.28it/s][A"
     ]
    },
    {
     "name": "stdout",
     "output_type": "stream",
     "text": [
      "{'ade': 0.4419208, 'fde': 0.9782144}\n",
      "\t last loss:0.000350992, eval on validation:['ade: 0.4419208', 'fde: 0.9782144'], (best ade:0.4412082 at step 42000) \n"
     ]
    },
    {
     "name": "stderr",
     "output_type": "stream",
     "text": [
      " 39%|███▉      | 335/858 [00:19<00:25, 20.70it/s]"
     ]
    },
    {
     "name": "stdout",
     "output_type": "stream",
     "text": [
      "\tsaving model 50100...\n"
     ]
    },
    {
     "name": "stderr",
     "output_type": "stream",
     "text": [
      "\n",
      "  0%|          | 0/75 [00:00<?, ?it/s]\u001b[A\n",
      "  9%|9         | 7/75 [00:00<00:01, 66.16it/s]\u001b[A"
     ]
    },
    {
     "name": "stdout",
     "output_type": "stream",
     "text": [
      "\tdone\n",
      "Evaluating\n"
     ]
    },
    {
     "name": "stderr",
     "output_type": "stream",
     "text": [
      "\n",
      " 19%|#8        | 14/75 [00:00<00:00, 64.94it/s]\u001b[A\n",
      " 28%|##8       | 21/75 [00:00<00:00, 65.90it/s]\u001b[A\n",
      " 39%|###8      | 29/75 [00:00<00:00, 68.36it/s]\u001b[A\n",
      " 49%|####9     | 37/75 [00:00<00:00, 70.28it/s]\u001b[A\n",
      " 60%|######    | 45/75 [00:00<00:00, 70.92it/s]\u001b[A\n",
      " 69%|######9   | 52/75 [00:00<00:00, 70.25it/s]\u001b[A\n",
      " 79%|#######8  | 59/75 [00:00<00:00, 68.61it/s]\u001b[A\n",
      " 89%|########9 | 67/75 [00:00<00:00, 69.61it/s]\u001b[A\n",
      " 39%|███▉      | 338/858 [00:21<01:33,  5.54it/s]A"
     ]
    },
    {
     "name": "stdout",
     "output_type": "stream",
     "text": [
      "{'ade': 0.4446649, 'fde': 0.98830277}\n",
      "\t last loss:0.000437194, eval on validation:['ade: 0.4446649', 'fde: 0.98830277'], (best ade:0.4412082 at step 42000) \n"
     ]
    },
    {
     "name": "stderr",
     "output_type": "stream",
     "text": [
      " 74%|███████▍  | 635/858 [00:33<00:09, 24.38it/s]\n",
      "  0%|          | 0/75 [00:00<?, ?it/s]\u001b[A"
     ]
    },
    {
     "name": "stdout",
     "output_type": "stream",
     "text": [
      "\tsaving model 50400...\n",
      "\tdone\n",
      "Evaluating\n"
     ]
    },
    {
     "name": "stderr",
     "output_type": "stream",
     "text": [
      "\n",
      " 12%|#2        | 9/75 [00:00<00:00, 81.29it/s]\u001b[A\n",
      " 23%|##2       | 17/75 [00:00<00:00, 78.96it/s]\u001b[A\n",
      " 35%|###4      | 26/75 [00:00<00:00, 79.74it/s]\u001b[A\n",
      " 47%|####6     | 35/75 [00:00<00:00, 80.54it/s]\u001b[A\n",
      " 59%|#####8    | 44/75 [00:00<00:00, 81.70it/s]\u001b[A\n",
      " 71%|#######   | 53/75 [00:00<00:00, 82.08it/s]\u001b[A\n",
      " 83%|########2 | 62/75 [00:00<00:00, 82.09it/s]\u001b[A\n",
      " 95%|#########4| 71/75 [00:00<00:00, 83.11it/s]\u001b[A\n",
      " 74%|███████▍  | 638/858 [00:34<00:33,  6.57it/s]A"
     ]
    },
    {
     "name": "stdout",
     "output_type": "stream",
     "text": [
      "{'ade': 0.4412375, 'fde': 0.97735316}\n",
      "\t last loss:0.000776766, eval on validation:['ade: 0.4412375', 'fde: 0.97735316'], (best ade:0.4412082 at step 42000) \n"
     ]
    },
    {
     "name": "stderr",
     "output_type": "stream",
     "text": [
      "100%|██████████| 858/858 [00:44<00:00, 23.85it/s]\n",
      "  0%|          | 1/858 [00:00<01:33,  9.13it/s]"
     ]
    },
    {
     "name": "stdout",
     "output_type": "stream",
     "text": [
      "('Epoca 60.', 'lr:', 1.7954744e-05)\n"
     ]
    },
    {
     "name": "stderr",
     "output_type": "stream",
     "text": [
      "  9%|▉         | 77/858 [00:03<00:30, 25.21it/s]\n",
      "  0%|          | 0/75 [00:00<?, ?it/s]\u001b[A"
     ]
    },
    {
     "name": "stdout",
     "output_type": "stream",
     "text": [
      "\tsaving model 50700...\n",
      "\tdone\n",
      "Evaluating\n"
     ]
    },
    {
     "name": "stderr",
     "output_type": "stream",
     "text": [
      "\n",
      " 12%|#2        | 9/75 [00:00<00:00, 82.93it/s]\u001b[A\n",
      " 24%|##4       | 18/75 [00:00<00:00, 84.58it/s]\u001b[A\n",
      " 36%|###6      | 27/75 [00:00<00:00, 86.03it/s]\u001b[A\n",
      " 49%|####9     | 37/75 [00:00<00:00, 87.87it/s]\u001b[A\n",
      " 63%|######2   | 47/75 [00:00<00:00, 89.53it/s]\u001b[A\n",
      " 73%|#######3  | 55/75 [00:00<00:00, 84.93it/s]\u001b[A\n",
      " 84%|########4 | 63/75 [00:00<00:00, 81.83it/s]\u001b[A\n",
      " 96%|#########6| 72/75 [00:00<00:00, 83.88it/s]\u001b[A\n",
      "  9%|▉         | 80/858 [00:04<01:54,  6.79it/s][A"
     ]
    },
    {
     "name": "stdout",
     "output_type": "stream",
     "text": [
      "{'ade': 0.44511193, 'fde': 0.98709065}\n",
      "\t last loss:0.000431598, eval on validation:['ade: 0.44511193', 'fde: 0.98709065'], (best ade:0.4412082 at step 42000) \n"
     ]
    },
    {
     "name": "stderr",
     "output_type": "stream",
     "text": [
      " 44%|████▍     | 376/858 [00:19<00:36, 13.08it/s]"
     ]
    },
    {
     "name": "stdout",
     "output_type": "stream",
     "text": [
      "\tsaving model 51000...\n"
     ]
    },
    {
     "name": "stderr",
     "output_type": "stream",
     "text": [
      "\n",
      "  0%|          | 0/75 [00:00<?, ?it/s]\u001b[A\n",
      "  4%|4         | 3/75 [00:00<00:02, 25.26it/s]\u001b[A\n",
      "  8%|8         | 6/75 [00:00<00:02, 26.31it/s]\u001b[A\n",
      " 20%|##        | 15/75 [00:00<00:01, 33.32it/s]\u001b[A\n",
      " 32%|###2      | 24/75 [00:00<00:01, 41.02it/s]\u001b[A\n",
      " 40%|####      | 30/75 [00:00<00:01, 37.73it/s]\u001b[A\n",
      " 48%|####8     | 36/75 [00:00<00:00, 42.44it/s]\u001b[A\n",
      " 60%|######    | 45/75 [00:00<00:00, 50.34it/s]\u001b[A\n",
      " 69%|######9   | 52/75 [00:01<00:00, 41.80it/s]\u001b[A\n",
      " 81%|########1 | 61/75 [00:01<00:00, 49.07it/s]\u001b[A\n",
      " 92%|#########2| 69/75 [00:01<00:00, 52.85it/s]\u001b[A\n",
      "100%|##########| 75/75 [00:01<00:00, 49.15it/s]\u001b[A"
     ]
    },
    {
     "name": "stdout",
     "output_type": "stream",
     "text": [
      "\tdone\n",
      "Evaluating\n",
      "{'ade': 0.4404117, 'fde': 0.97578645}\n",
      "\t last loss:0.000572685, eval on validation:['ade: 0.4404117', 'fde: 0.97578645'], (best ade:0.4412082 at step 42000) \n",
      "\t saving best model...\n"
     ]
    },
    {
     "name": "stderr",
     "output_type": "stream",
     "text": [
      "\r",
      " 44%|████▍     | 378/858 [00:21<02:57,  2.71it/s]"
     ]
    },
    {
     "name": "stdout",
     "output_type": "stream",
     "text": [
      "\t done.\n"
     ]
    },
    {
     "name": "stderr",
     "output_type": "stream",
     "text": [
      " 79%|███████▉  | 677/858 [00:40<00:10, 16.90it/s]"
     ]
    },
    {
     "name": "stdout",
     "output_type": "stream",
     "text": [
      "\tsaving model 51300...\n"
     ]
    },
    {
     "name": "stderr",
     "output_type": "stream",
     "text": [
      "\n",
      "  0%|          | 0/75 [00:00<?, ?it/s]\u001b[A\n",
      " 11%|#         | 8/75 [00:00<00:00, 75.64it/s]\u001b[A"
     ]
    },
    {
     "name": "stdout",
     "output_type": "stream",
     "text": [
      "\tdone\n",
      "Evaluating\n"
     ]
    },
    {
     "name": "stderr",
     "output_type": "stream",
     "text": [
      "\n",
      " 23%|##2       | 17/75 [00:00<00:00, 77.27it/s]\u001b[A\n",
      " 33%|###3      | 25/75 [00:00<00:00, 76.84it/s]\u001b[A\n",
      " 44%|####4     | 33/75 [00:00<00:00, 75.52it/s]\u001b[A\n",
      " 56%|#####6    | 42/75 [00:00<00:00, 77.32it/s]\u001b[A\n",
      " 67%|######6   | 50/75 [00:00<00:00, 76.48it/s]\u001b[A\n",
      " 79%|#######8  | 59/75 [00:00<00:00, 78.46it/s]\u001b[A\n",
      " 91%|######### | 68/75 [00:00<00:00, 80.37it/s]\u001b[A\n",
      " 79%|███████▉  | 679/858 [00:41<00:41,  4.32it/s]A"
     ]
    },
    {
     "name": "stdout",
     "output_type": "stream",
     "text": [
      "{'ade': 0.4432543, 'fde': 0.9841523}\n",
      "\t last loss:0.000480521, eval on validation:['ade: 0.4432543', 'fde: 0.9841523'], (best ade:0.4404117 at step 51000) \n"
     ]
    },
    {
     "name": "stderr",
     "output_type": "stream",
     "text": [
      "100%|██████████| 858/858 [00:50<00:00, 15.86it/s]\n",
      "  0%|          | 2/858 [00:00<00:55, 15.35it/s]"
     ]
    },
    {
     "name": "stdout",
     "output_type": "stream",
     "text": [
      "('Epoca 61.', 'lr:', 1.5261532e-05)\n"
     ]
    },
    {
     "name": "stderr",
     "output_type": "stream",
     "text": [
      " 14%|█▍        | 118/858 [00:07<00:53, 13.77it/s]"
     ]
    },
    {
     "name": "stdout",
     "output_type": "stream",
     "text": [
      "\tsaving model 51600...\n"
     ]
    },
    {
     "name": "stderr",
     "output_type": "stream",
     "text": [
      "\n",
      "  0%|          | 0/75 [00:00<?, ?it/s]\u001b[A\n",
      "  9%|9         | 7/75 [00:00<00:01, 62.41it/s]\u001b[A"
     ]
    },
    {
     "name": "stdout",
     "output_type": "stream",
     "text": [
      "\tdone\n",
      "Evaluating\n"
     ]
    },
    {
     "name": "stderr",
     "output_type": "stream",
     "text": [
      "\n",
      " 19%|#8        | 14/75 [00:00<00:00, 62.72it/s]\u001b[A\n",
      " 24%|##4       | 18/75 [00:00<00:01, 48.96it/s]\u001b[A\n",
      " 33%|###3      | 25/75 [00:00<00:00, 52.20it/s]\u001b[A\n",
      " 40%|####      | 30/75 [00:00<00:00, 51.17it/s]\u001b[A\n",
      " 47%|####6     | 35/75 [00:00<00:00, 50.17it/s]\u001b[A\n",
      " 53%|#####3    | 40/75 [00:00<00:00, 48.39it/s]\u001b[A\n",
      " 61%|######1   | 46/75 [00:00<00:00, 50.55it/s]\u001b[A\n",
      " 71%|#######   | 53/75 [00:00<00:00, 53.70it/s]\u001b[A\n",
      " 80%|########  | 60/75 [00:01<00:00, 55.72it/s]\u001b[A\n",
      " 89%|########9 | 67/75 [00:01<00:00, 58.74it/s]\u001b[A\n",
      " 99%|#########8| 74/75 [00:01<00:00, 61.37it/s]\u001b[A\n",
      " 14%|█▍        | 120/858 [00:08<03:47,  3.25it/s]A"
     ]
    },
    {
     "name": "stdout",
     "output_type": "stream",
     "text": [
      "{'ade': 0.44362015, 'fde': 0.9836184}\n",
      "\t last loss:0.000491253, eval on validation:['ade: 0.44362015', 'fde: 0.9836184'], (best ade:0.4404117 at step 51000) \n"
     ]
    },
    {
     "name": "stderr",
     "output_type": "stream",
     "text": [
      " 49%|████▊     | 417/858 [00:23<00:21, 20.59it/s]"
     ]
    },
    {
     "name": "stdout",
     "output_type": "stream",
     "text": [
      "\tsaving model 51900...\n"
     ]
    },
    {
     "name": "stderr",
     "output_type": "stream",
     "text": [
      "\n",
      "  0%|          | 0/75 [00:00<?, ?it/s]\u001b[A\n",
      "  9%|9         | 7/75 [00:00<00:01, 62.17it/s]\u001b[A"
     ]
    },
    {
     "name": "stdout",
     "output_type": "stream",
     "text": [
      "\tdone\n",
      "Evaluating\n"
     ]
    },
    {
     "name": "stderr",
     "output_type": "stream",
     "text": [
      "\n",
      " 19%|#8        | 14/75 [00:00<00:00, 63.83it/s]\u001b[A\n",
      " 29%|##9       | 22/75 [00:00<00:00, 65.74it/s]\u001b[A\n",
      " 39%|###8      | 29/75 [00:00<00:00, 66.63it/s]\u001b[A\n",
      " 49%|####9     | 37/75 [00:00<00:00, 68.12it/s]\u001b[A\n",
      " 59%|#####8    | 44/75 [00:00<00:00, 68.61it/s]\u001b[A\n",
      " 68%|######8   | 51/75 [00:00<00:00, 68.89it/s]\u001b[A\n",
      " 77%|#######7  | 58/75 [00:00<00:00, 61.82it/s]\u001b[A\n",
      " 85%|########5 | 64/75 [00:00<00:00, 60.43it/s]\u001b[A\n",
      " 95%|#########4| 71/75 [00:01<00:00, 60.86it/s]\u001b[A\n",
      " 49%|████▉     | 422/858 [00:25<01:05,  6.67it/s]A"
     ]
    },
    {
     "name": "stdout",
     "output_type": "stream",
     "text": [
      "{'ade': 0.4428962, 'fde': 0.9816582}\n",
      "\t last loss:0.000307098, eval on validation:['ade: 0.4428962', 'fde: 0.9816582'], (best ade:0.4404117 at step 51000) \n"
     ]
    },
    {
     "name": "stderr",
     "output_type": "stream",
     "text": [
      " 84%|████████▍ | 719/858 [00:40<00:06, 20.28it/s]"
     ]
    },
    {
     "name": "stdout",
     "output_type": "stream",
     "text": [
      "\tsaving model 52200...\n"
     ]
    },
    {
     "name": "stderr",
     "output_type": "stream",
     "text": [
      "\n",
      "  0%|          | 0/75 [00:00<?, ?it/s]\u001b[A\n",
      "  8%|8         | 6/75 [00:00<00:01, 50.19it/s]\u001b[A"
     ]
    },
    {
     "name": "stdout",
     "output_type": "stream",
     "text": [
      "\tdone\n",
      "Evaluating\n"
     ]
    },
    {
     "name": "stderr",
     "output_type": "stream",
     "text": [
      "\n",
      " 13%|#3        | 10/75 [00:00<00:01, 43.87it/s]\u001b[A\n",
      " 21%|##1       | 16/75 [00:00<00:01, 46.49it/s]\u001b[A\n",
      " 31%|###       | 23/75 [00:00<00:01, 50.32it/s]\u001b[A\n",
      " 40%|####      | 30/75 [00:00<00:00, 53.18it/s]\u001b[A\n",
      " 48%|####8     | 36/75 [00:00<00:00, 54.64it/s]\u001b[A\n",
      " 56%|#####6    | 42/75 [00:00<00:00, 55.28it/s]\u001b[A\n",
      " 64%|######4   | 48/75 [00:00<00:00, 55.71it/s]\u001b[A\n",
      " 73%|#######3  | 55/75 [00:01<00:00, 57.42it/s]\u001b[A\n",
      " 81%|########1 | 61/75 [00:01<00:00, 56.54it/s]\u001b[A\n",
      " 91%|######### | 68/75 [00:01<00:00, 58.85it/s]\u001b[A\n",
      " 84%|████████▍ | 722/858 [00:42<00:27,  4.89it/s]A"
     ]
    },
    {
     "name": "stdout",
     "output_type": "stream",
     "text": [
      "{'ade': 0.4425999, 'fde': 0.98186713}\n",
      "\t last loss:0.000459639, eval on validation:['ade: 0.4425999', 'fde: 0.98186713'], (best ade:0.4404117 at step 51000) \n"
     ]
    },
    {
     "name": "stderr",
     "output_type": "stream",
     "text": [
      "100%|██████████| 858/858 [00:48<00:00, 17.55it/s]\n",
      "  0%|          | 3/858 [00:00<00:33, 25.88it/s]"
     ]
    },
    {
     "name": "stdout",
     "output_type": "stream",
     "text": [
      "('Epoca 62.', 'lr:', 1.5261532e-05)\n"
     ]
    },
    {
     "name": "stderr",
     "output_type": "stream",
     "text": [
      " 19%|█▉        | 161/858 [00:08<00:28, 24.30it/s]\n",
      "  0%|          | 0/75 [00:00<?, ?it/s]\u001b[A"
     ]
    },
    {
     "name": "stdout",
     "output_type": "stream",
     "text": [
      "\tsaving model 52500...\n",
      "\tdone\n",
      "Evaluating\n"
     ]
    },
    {
     "name": "stderr",
     "output_type": "stream",
     "text": [
      "\n",
      " 12%|#2        | 9/75 [00:00<00:00, 84.07it/s]\u001b[A\n",
      " 24%|##4       | 18/75 [00:00<00:00, 84.61it/s]\u001b[A\n",
      " 37%|###7      | 28/75 [00:00<00:00, 87.15it/s]\u001b[A\n",
      " 51%|#####     | 38/75 [00:00<00:00, 89.89it/s]\u001b[A\n",
      " 64%|######4   | 48/75 [00:00<00:00, 91.00it/s]\u001b[A\n",
      " 77%|#######7  | 58/75 [00:00<00:00, 92.24it/s]\u001b[A\n",
      " 91%|######### | 68/75 [00:00<00:00, 93.47it/s]\u001b[A\n",
      " 19%|█▉        | 164/858 [00:09<01:38,  7.05it/s]A"
     ]
    },
    {
     "name": "stdout",
     "output_type": "stream",
     "text": [
      "{'ade': 0.44403455, 'fde': 0.9849443}\n",
      "\t last loss:0.000326676, eval on validation:['ade: 0.44403455', 'fde: 0.9849443'], (best ade:0.4404117 at step 51000) \n"
     ]
    },
    {
     "name": "stderr",
     "output_type": "stream",
     "text": [
      " 54%|█████▎    | 460/858 [00:20<00:15, 25.46it/s]\n",
      "  0%|          | 0/75 [00:00<?, ?it/s]\u001b[A"
     ]
    },
    {
     "name": "stdout",
     "output_type": "stream",
     "text": [
      "\tsaving model 52800...\n",
      "\tdone\n",
      "Evaluating\n"
     ]
    },
    {
     "name": "stderr",
     "output_type": "stream",
     "text": [
      "\n",
      " 13%|#3        | 10/75 [00:00<00:00, 91.13it/s]\u001b[A\n",
      " 25%|##5       | 19/75 [00:00<00:00, 90.53it/s]\u001b[A\n",
      " 37%|###7      | 28/75 [00:00<00:00, 90.00it/s]\u001b[A\n",
      " 49%|####9     | 37/75 [00:00<00:00, 89.57it/s]\u001b[A\n",
      " 61%|######1   | 46/75 [00:00<00:00, 89.25it/s]\u001b[A\n",
      " 73%|#######3  | 55/75 [00:00<00:00, 88.80it/s]\u001b[A\n",
      " 85%|########5 | 64/75 [00:00<00:00, 88.48it/s]\u001b[A\n",
      " 97%|#########7| 73/75 [00:00<00:00, 84.73it/s]\u001b[A\n",
      " 54%|█████▍    | 466/858 [00:21<00:44,  8.81it/s]A"
     ]
    },
    {
     "name": "stdout",
     "output_type": "stream",
     "text": [
      "{'ade': 0.44493502, 'fde': 0.9867115}\n",
      "\t last loss:0.000224306, eval on validation:['ade: 0.44493502', 'fde: 0.9867115'], (best ade:0.4404117 at step 51000) \n"
     ]
    },
    {
     "name": "stderr",
     "output_type": "stream",
     "text": [
      " 89%|████████▊ | 760/858 [00:35<00:04, 20.68it/s]"
     ]
    },
    {
     "name": "stdout",
     "output_type": "stream",
     "text": [
      "\tsaving model 53100...\n"
     ]
    },
    {
     "name": "stderr",
     "output_type": "stream",
     "text": [
      "\n",
      "  0%|          | 0/75 [00:00<?, ?it/s]\u001b[A\n",
      " 11%|#         | 8/75 [00:00<00:00, 72.84it/s]\u001b[A"
     ]
    },
    {
     "name": "stdout",
     "output_type": "stream",
     "text": [
      "\tdone\n",
      "Evaluating\n"
     ]
    },
    {
     "name": "stderr",
     "output_type": "stream",
     "text": [
      "\n",
      " 20%|##        | 15/75 [00:00<00:00, 71.62it/s]\u001b[A\n",
      " 31%|###       | 23/75 [00:00<00:00, 71.44it/s]\u001b[A\n",
      " 41%|####1     | 31/75 [00:00<00:00, 71.24it/s]\u001b[A\n",
      " 51%|#####     | 38/75 [00:00<00:00, 70.84it/s]\u001b[A\n",
      " 59%|#####8    | 44/75 [00:00<00:00, 66.88it/s]\u001b[A\n",
      " 68%|######8   | 51/75 [00:00<00:00, 67.24it/s]\u001b[A\n",
      " 77%|#######7  | 58/75 [00:00<00:00, 67.89it/s]\u001b[A\n",
      " 88%|########8 | 66/75 [00:00<00:00, 68.70it/s]\u001b[A\n",
      " 99%|#########8| 74/75 [00:01<00:00, 69.37it/s]\u001b[A\n",
      " 89%|████████▉ | 763/858 [00:36<00:17,  5.55it/s]A"
     ]
    },
    {
     "name": "stdout",
     "output_type": "stream",
     "text": [
      "{'ade': 0.4421411, 'fde': 0.9802499}\n",
      "\t last loss:0.000362492, eval on validation:['ade: 0.4421411', 'fde: 0.9802499'], (best ade:0.4404117 at step 51000) \n"
     ]
    },
    {
     "name": "stderr",
     "output_type": "stream",
     "text": [
      "100%|██████████| 858/858 [00:41<00:00, 20.62it/s]\n",
      "  0%|          | 1/858 [00:00<01:47,  7.98it/s]"
     ]
    },
    {
     "name": "stdout",
     "output_type": "stream",
     "text": [
      "('Epoca 63.', 'lr:', 1.2972303e-05)\n"
     ]
    },
    {
     "name": "stderr",
     "output_type": "stream",
     "text": [
      " 24%|██▎       | 202/858 [00:13<00:30, 21.24it/s]"
     ]
    },
    {
     "name": "stdout",
     "output_type": "stream",
     "text": [
      "\tsaving model 53400...\n"
     ]
    },
    {
     "name": "stderr",
     "output_type": "stream",
     "text": [
      "\n",
      "  0%|          | 0/75 [00:00<?, ?it/s]\u001b[A\n",
      "  7%|6         | 5/75 [00:00<00:01, 49.75it/s]\u001b[A"
     ]
    },
    {
     "name": "stdout",
     "output_type": "stream",
     "text": [
      "\tdone\n",
      "Evaluating\n"
     ]
    },
    {
     "name": "stderr",
     "output_type": "stream",
     "text": [
      "\n",
      " 15%|#4        | 11/75 [00:00<00:01, 52.07it/s]\u001b[A\n",
      " 24%|##4       | 18/75 [00:00<00:01, 54.91it/s]\u001b[A\n",
      " 33%|###3      | 25/75 [00:00<00:00, 57.50it/s]\u001b[A\n",
      " 43%|####2     | 32/75 [00:00<00:00, 58.71it/s]\u001b[A\n",
      " 52%|#####2    | 39/75 [00:00<00:00, 59.87it/s]\u001b[A\n",
      " 61%|######1   | 46/75 [00:00<00:00, 60.65it/s]\u001b[A\n",
      " 71%|#######   | 53/75 [00:00<00:00, 61.10it/s]\u001b[A\n",
      " 80%|########  | 60/75 [00:00<00:00, 61.00it/s]\u001b[A\n",
      " 88%|########8 | 66/75 [00:01<00:00, 59.68it/s]\u001b[A\n",
      " 97%|#########7| 73/75 [00:01<00:00, 61.61it/s]\u001b[A\n",
      " 24%|██▍       | 205/858 [00:15<02:06,  5.18it/s]A"
     ]
    },
    {
     "name": "stdout",
     "output_type": "stream",
     "text": [
      "{'ade': 0.44165617, 'fde': 0.97789896}\n",
      "\t last loss:0.000307306, eval on validation:['ade: 0.44165617', 'fde: 0.97789896'], (best ade:0.4404117 at step 51000) \n"
     ]
    },
    {
     "name": "stderr",
     "output_type": "stream",
     "text": [
      " 59%|█████▊    | 502/858 [00:28<00:12, 27.41it/s]\n",
      "  0%|          | 0/75 [00:00<?, ?it/s]\u001b[A"
     ]
    },
    {
     "name": "stdout",
     "output_type": "stream",
     "text": [
      "\tsaving model 53700...\n",
      "\tdone\n",
      "Evaluating\n"
     ]
    },
    {
     "name": "stderr",
     "output_type": "stream",
     "text": [
      "\n",
      " 12%|#2        | 9/75 [00:00<00:00, 84.69it/s]\u001b[A\n",
      " 25%|##5       | 19/75 [00:00<00:00, 87.31it/s]\u001b[A\n",
      " 39%|###8      | 29/75 [00:00<00:00, 89.74it/s]\u001b[A\n",
      " 52%|#####2    | 39/75 [00:00<00:00, 91.51it/s]\u001b[A\n",
      " 65%|######5   | 49/75 [00:00<00:00, 93.03it/s]\u001b[A\n",
      " 79%|#######8  | 59/75 [00:00<00:00, 93.95it/s]\u001b[A\n",
      " 92%|#########2| 69/75 [00:00<00:00, 94.50it/s]\u001b[A\n",
      " 59%|█████▉    | 508/858 [00:29<00:36,  9.59it/s]A"
     ]
    },
    {
     "name": "stdout",
     "output_type": "stream",
     "text": [
      "{'ade': 0.44486022, 'fde': 0.9879447}\n",
      "\t last loss:0.000537609, eval on validation:['ade: 0.44486022', 'fde: 0.9879447'], (best ade:0.4404117 at step 51000) \n"
     ]
    },
    {
     "name": "stderr",
     "output_type": "stream",
     "text": [
      " 93%|█████████▎| 802/858 [00:40<00:02, 27.41it/s]\n",
      "  0%|          | 0/75 [00:00<?, ?it/s]\u001b[A"
     ]
    },
    {
     "name": "stdout",
     "output_type": "stream",
     "text": [
      "\tsaving model 54000...\n",
      "\tdone\n",
      "Evaluating\n"
     ]
    },
    {
     "name": "stderr",
     "output_type": "stream",
     "text": [
      "\n",
      " 13%|#3        | 10/75 [00:00<00:00, 96.09it/s]\u001b[A\n",
      " 27%|##6       | 20/75 [00:00<00:00, 95.05it/s]\u001b[A\n",
      " 40%|####      | 30/75 [00:00<00:00, 95.13it/s]\u001b[A\n",
      " 53%|#####3    | 40/75 [00:00<00:00, 95.36it/s]\u001b[A\n",
      " 67%|######6   | 50/75 [00:00<00:00, 95.39it/s]\u001b[A\n",
      " 80%|########  | 60/75 [00:00<00:00, 95.48it/s]\u001b[A\n",
      " 93%|#########3| 70/75 [00:00<00:00, 95.62it/s]\u001b[A\n",
      " 94%|█████████▍| 808/858 [00:41<00:05,  9.38it/s]A"
     ]
    },
    {
     "name": "stdout",
     "output_type": "stream",
     "text": [
      "{'ade': 0.44197288, 'fde': 0.98025703}\n",
      "\t last loss:0.000369866, eval on validation:['ade: 0.44197288', 'fde: 0.98025703'], (best ade:0.4404117 at step 51000) \n"
     ]
    },
    {
     "name": "stderr",
     "output_type": "stream",
     "text": [
      "100%|██████████| 858/858 [00:43<00:00, 19.57it/s]\n",
      "  0%|          | 3/858 [00:00<00:37, 22.53it/s]"
     ]
    },
    {
     "name": "stdout",
     "output_type": "stream",
     "text": [
      "('Epoca 64.', 'lr:', 1.2972303e-05)\n"
     ]
    },
    {
     "name": "stderr",
     "output_type": "stream",
     "text": [
      " 28%|██▊       | 243/858 [00:09<00:24, 24.65it/s]\n",
      "  0%|          | 0/75 [00:00<?, ?it/s]\u001b[A"
     ]
    },
    {
     "name": "stdout",
     "output_type": "stream",
     "text": [
      "\tsaving model 54300...\n",
      "\tdone\n",
      "Evaluating\n"
     ]
    },
    {
     "name": "stderr",
     "output_type": "stream",
     "text": [
      "\n",
      " 13%|#3        | 10/75 [00:00<00:00, 92.44it/s]\u001b[A\n",
      " 25%|##5       | 19/75 [00:00<00:00, 91.20it/s]\u001b[A\n",
      " 37%|###7      | 28/75 [00:00<00:00, 90.62it/s]\u001b[A\n",
      " 49%|####9     | 37/75 [00:00<00:00, 89.66it/s]\u001b[A\n",
      " 61%|######1   | 46/75 [00:00<00:00, 89.65it/s]\u001b[A\n",
      " 73%|#######3  | 55/75 [00:00<00:00, 87.03it/s]\u001b[A\n",
      " 85%|########5 | 64/75 [00:00<00:00, 86.63it/s]\u001b[A\n",
      " 97%|#########7| 73/75 [00:00<00:00, 85.94it/s]\u001b[A\n",
      " 29%|██▉       | 249/858 [00:10<01:09,  8.80it/s]A"
     ]
    },
    {
     "name": "stdout",
     "output_type": "stream",
     "text": [
      "{'ade': 0.44230556, 'fde': 0.981105}\n",
      "\t last loss:0.000339567, eval on validation:['ade: 0.44230556', 'fde: 0.981105'], (best ade:0.4404117 at step 51000) \n"
     ]
    },
    {
     "name": "stderr",
     "output_type": "stream",
     "text": [
      " 63%|██████▎   | 544/858 [00:25<00:15, 19.63it/s]"
     ]
    },
    {
     "name": "stdout",
     "output_type": "stream",
     "text": [
      "\tsaving model 54600...\n"
     ]
    },
    {
     "name": "stderr",
     "output_type": "stream",
     "text": [
      "\n",
      "  0%|          | 0/75 [00:00<?, ?it/s]\u001b[A\n",
      "  9%|9         | 7/75 [00:00<00:01, 63.22it/s]\u001b[A"
     ]
    },
    {
     "name": "stdout",
     "output_type": "stream",
     "text": [
      "\tdone\n",
      "Evaluating\n"
     ]
    },
    {
     "name": "stderr",
     "output_type": "stream",
     "text": [
      "\n",
      " 19%|#8        | 14/75 [00:00<00:00, 62.68it/s]\u001b[A\n",
      " 28%|##8       | 21/75 [00:00<00:00, 62.29it/s]\u001b[A\n",
      " 37%|###7      | 28/75 [00:00<00:00, 62.07it/s]\u001b[A\n",
      " 45%|####5     | 34/75 [00:00<00:00, 61.19it/s]\u001b[A\n",
      " 53%|#####3    | 40/75 [00:00<00:00, 59.69it/s]\u001b[A\n",
      " 63%|######2   | 47/75 [00:00<00:00, 61.74it/s]\u001b[A\n",
      " 72%|#######2  | 54/75 [00:00<00:00, 63.70it/s]\u001b[A\n",
      " 83%|########2 | 62/75 [00:00<00:00, 65.64it/s]\u001b[A\n",
      " 93%|#########3| 70/75 [00:01<00:00, 67.34it/s]\u001b[A\n",
      " 64%|██████▍   | 549/858 [00:26<01:01,  5.06it/s]A"
     ]
    },
    {
     "name": "stdout",
     "output_type": "stream",
     "text": [
      "{'ade': 0.4428522, 'fde': 0.98101854}\n",
      "\t last loss:0.000226368, eval on validation:['ade: 0.4428522', 'fde: 0.98101854'], (best ade:0.4404117 at step 51000) \n"
     ]
    },
    {
     "name": "stderr",
     "output_type": "stream",
     "text": [
      " 98%|█████████▊| 843/858 [00:40<00:00, 21.09it/s]"
     ]
    },
    {
     "name": "stdout",
     "output_type": "stream",
     "text": [
      "\tsaving model 54900...\n"
     ]
    },
    {
     "name": "stderr",
     "output_type": "stream",
     "text": [
      "\n",
      "  0%|          | 0/75 [00:00<?, ?it/s]\u001b[A\n",
      "  9%|9         | 7/75 [00:00<00:01, 61.71it/s]\u001b[A"
     ]
    },
    {
     "name": "stdout",
     "output_type": "stream",
     "text": [
      "\tdone\n",
      "Evaluating\n"
     ]
    },
    {
     "name": "stderr",
     "output_type": "stream",
     "text": [
      "\n",
      " 19%|#8        | 14/75 [00:00<00:00, 63.15it/s]\u001b[A\n",
      " 28%|##8       | 21/75 [00:00<00:00, 64.57it/s]\u001b[A\n",
      " 37%|###7      | 28/75 [00:00<00:00, 65.74it/s]\u001b[A\n",
      " 48%|####8     | 36/75 [00:00<00:00, 67.28it/s]\u001b[A\n",
      " 59%|#####8    | 44/75 [00:00<00:00, 68.41it/s]\u001b[A\n",
      " 69%|######9   | 52/75 [00:00<00:00, 69.14it/s]\u001b[A\n",
      " 80%|########  | 60/75 [00:00<00:00, 69.67it/s]\u001b[A\n",
      " 91%|######### | 68/75 [00:00<00:00, 70.18it/s]\u001b[A\n",
      " 99%|█████████▉| 849/858 [00:42<00:01,  7.13it/s]A"
     ]
    },
    {
     "name": "stdout",
     "output_type": "stream",
     "text": [
      "{'ade': 0.44100258, 'fde': 0.9767326}\n",
      "\t last loss:0.000335487, eval on validation:['ade: 0.44100258', 'fde: 0.9767326'], (best ade:0.4404117 at step 51000) \n"
     ]
    },
    {
     "name": "stderr",
     "output_type": "stream",
     "text": [
      "100%|██████████| 858/858 [00:42<00:00, 12.79it/s]\n",
      "  0%|          | 2/858 [00:00<00:44, 19.24it/s]"
     ]
    },
    {
     "name": "stdout",
     "output_type": "stream",
     "text": [
      "('Epoca 65.', 'lr:', 1.1026457e-05)\n"
     ]
    },
    {
     "name": "stderr",
     "output_type": "stream",
     "text": [
      " 33%|███▎      | 287/858 [00:16<00:37, 15.03it/s]"
     ]
    },
    {
     "name": "stdout",
     "output_type": "stream",
     "text": [
      "\tsaving model 55200...\n"
     ]
    },
    {
     "name": "stderr",
     "output_type": "stream",
     "text": [
      "\n",
      "  0%|          | 0/75 [00:00<?, ?it/s]\u001b[A\n",
      " 11%|#         | 8/75 [00:00<00:00, 71.20it/s]\u001b[A"
     ]
    },
    {
     "name": "stdout",
     "output_type": "stream",
     "text": [
      "\tdone\n",
      "Evaluating\n"
     ]
    },
    {
     "name": "stderr",
     "output_type": "stream",
     "text": [
      "\n",
      " 20%|##        | 15/75 [00:00<00:00, 69.90it/s]\u001b[A\n",
      " 29%|##9       | 22/75 [00:00<00:00, 66.56it/s]\u001b[A\n",
      " 37%|###7      | 28/75 [00:00<00:00, 64.18it/s]\u001b[A\n",
      " 47%|####6     | 35/75 [00:00<00:00, 63.74it/s]\u001b[A\n",
      " 56%|#####6    | 42/75 [00:00<00:00, 64.87it/s]\u001b[A\n",
      " 65%|######5   | 49/75 [00:00<00:00, 64.43it/s]\u001b[A\n",
      " 73%|#######3  | 55/75 [00:00<00:00, 48.74it/s]\u001b[A\n",
      " 81%|########1 | 61/75 [00:01<00:00, 39.34it/s]\u001b[A\n",
      " 88%|########8 | 66/75 [00:01<00:00, 34.11it/s]\u001b[A\n",
      " 93%|#########3| 70/75 [00:01<00:00, 31.96it/s]\u001b[A\n",
      " 99%|#########8| 74/75 [00:01<00:00, 33.57it/s]\u001b[A\n",
      " 34%|███▎      | 289/858 [00:18<03:17,  2.89it/s]A"
     ]
    },
    {
     "name": "stdout",
     "output_type": "stream",
     "text": [
      "{'ade': 0.44278407, 'fde': 0.98187613}\n",
      "\t last loss:0.000242265, eval on validation:['ade: 0.44278407', 'fde: 0.98187613'], (best ade:0.4404117 at step 51000) \n"
     ]
    },
    {
     "name": "stderr",
     "output_type": "stream",
     "text": [
      " 68%|██████▊   | 586/858 [00:30<00:10, 26.40it/s]\n",
      "  0%|          | 0/75 [00:00<?, ?it/s]\u001b[A"
     ]
    },
    {
     "name": "stdout",
     "output_type": "stream",
     "text": [
      "\tsaving model 55500...\n",
      "\tdone\n",
      "Evaluating\n"
     ]
    },
    {
     "name": "stderr",
     "output_type": "stream",
     "text": [
      "\n",
      " 13%|#3        | 10/75 [00:00<00:00, 96.24it/s]\u001b[A\n",
      " 27%|##6       | 20/75 [00:00<00:00, 96.03it/s]\u001b[A\n",
      " 40%|####      | 30/75 [00:00<00:00, 96.11it/s]\u001b[A\n",
      " 53%|#####3    | 40/75 [00:00<00:00, 95.93it/s]\u001b[A\n",
      " 67%|######6   | 50/75 [00:00<00:00, 96.12it/s]\u001b[A\n",
      " 80%|########  | 60/75 [00:00<00:00, 95.72it/s]\u001b[A\n",
      " 93%|#########3| 70/75 [00:00<00:00, 93.32it/s]\u001b[A\n",
      " 69%|██████▉   | 592/858 [00:31<00:28,  9.48it/s]A"
     ]
    },
    {
     "name": "stdout",
     "output_type": "stream",
     "text": [
      "{'ade': 0.44153184, 'fde': 0.9790067}\n",
      "\t last loss:0.000283175, eval on validation:['ade: 0.44153184', 'fde: 0.9790067'], (best ade:0.4404117 at step 51000) \n"
     ]
    },
    {
     "name": "stderr",
     "output_type": "stream",
     "text": [
      "100%|██████████| 858/858 [00:41<00:00, 20.44it/s]\n",
      "  0%|          | 2/858 [00:00<00:49, 17.23it/s]"
     ]
    },
    {
     "name": "stdout",
     "output_type": "stream",
     "text": [
      "('Epoca 66.', 'lr:', 1.1026457e-05)\n"
     ]
    },
    {
     "name": "stderr",
     "output_type": "stream",
     "text": [
      "  3%|▎         | 29/858 [00:01<00:30, 26.86it/s]\n",
      "  0%|          | 0/75 [00:00<?, ?it/s]\u001b[A"
     ]
    },
    {
     "name": "stdout",
     "output_type": "stream",
     "text": [
      "\tsaving model 55800...\n",
      "\tdone\n",
      "Evaluating\n"
     ]
    },
    {
     "name": "stderr",
     "output_type": "stream",
     "text": [
      "\n",
      " 13%|#3        | 10/75 [00:00<00:00, 98.26it/s]\u001b[A\n",
      " 25%|##5       | 19/75 [00:00<00:00, 93.94it/s]\u001b[A\n",
      " 39%|###8      | 29/75 [00:00<00:00, 93.84it/s]\u001b[A\n",
      " 52%|#####2    | 39/75 [00:00<00:00, 94.40it/s]\u001b[A\n",
      " 65%|######5   | 49/75 [00:00<00:00, 95.15it/s]\u001b[A\n",
      " 79%|#######8  | 59/75 [00:00<00:00, 95.72it/s]\u001b[A\n",
      " 92%|#########2| 69/75 [00:00<00:00, 96.00it/s]\u001b[A\n",
      "  4%|▎         | 32/858 [00:02<01:49,  7.53it/s][A"
     ]
    },
    {
     "name": "stdout",
     "output_type": "stream",
     "text": [
      "{'ade': 0.44597536, 'fde': 0.9899197}\n",
      "\t last loss:0.000325848, eval on validation:['ade: 0.44597536', 'fde: 0.9899197'], (best ade:0.4404117 at step 51000) \n"
     ]
    },
    {
     "name": "stderr",
     "output_type": "stream",
     "text": [
      " 38%|███▊      | 329/858 [00:13<00:20, 25.90it/s]\n",
      "  0%|          | 0/75 [00:00<?, ?it/s]\u001b[A"
     ]
    },
    {
     "name": "stdout",
     "output_type": "stream",
     "text": [
      "\tsaving model 56100...\n",
      "\tdone\n",
      "Evaluating\n"
     ]
    },
    {
     "name": "stderr",
     "output_type": "stream",
     "text": [
      "\n",
      " 12%|#2        | 9/75 [00:00<00:00, 89.03it/s]\u001b[A\n",
      " 24%|##4       | 18/75 [00:00<00:00, 88.70it/s]\u001b[A\n",
      " 36%|###6      | 27/75 [00:00<00:00, 88.58it/s]\u001b[A\n",
      " 48%|####8     | 36/75 [00:00<00:00, 88.35it/s]\u001b[A\n",
      " 59%|#####8    | 44/75 [00:00<00:00, 84.39it/s]\u001b[A\n",
      " 68%|######8   | 51/75 [00:00<00:00, 79.31it/s]\u001b[A\n",
      " 79%|#######8  | 59/75 [00:00<00:00, 76.54it/s]\u001b[A\n",
      " 89%|########9 | 67/75 [00:00<00:00, 73.88it/s]\u001b[A\n",
      " 99%|#########8| 74/75 [00:00<00:00, 69.41it/s]\u001b[A\n",
      " 39%|███▊      | 332/858 [00:14<01:24,  6.25it/s]A"
     ]
    },
    {
     "name": "stdout",
     "output_type": "stream",
     "text": [
      "{'ade': 0.4416023, 'fde': 0.9775503}\n",
      "\t last loss:0.000224325, eval on validation:['ade: 0.4416023', 'fde: 0.9775503'], (best ade:0.4404117 at step 51000) \n"
     ]
    },
    {
     "name": "stderr",
     "output_type": "stream",
     "text": [
      " 73%|███████▎  | 629/858 [00:28<00:10, 21.06it/s]"
     ]
    },
    {
     "name": "stdout",
     "output_type": "stream",
     "text": [
      "\tsaving model 56400...\n"
     ]
    },
    {
     "name": "stderr",
     "output_type": "stream",
     "text": [
      "\n",
      "  0%|          | 0/75 [00:00<?, ?it/s]\u001b[A\n",
      "  9%|9         | 7/75 [00:00<00:00, 69.97it/s]\u001b[A\n",
      " 20%|##        | 15/75 [00:00<00:00, 70.43it/s]\u001b[A\n",
      " 31%|###       | 23/75 [00:00<00:00, 70.62it/s]\u001b[A\n",
      " 40%|####      | 30/75 [00:00<00:00, 70.30it/s]\u001b[A\n",
      " 49%|####9     | 37/75 [00:00<00:00, 68.78it/s]\u001b[A\n",
      " 59%|#####8    | 44/75 [00:00<00:00, 67.10it/s]\u001b[A\n",
      " 68%|######8   | 51/75 [00:00<00:00, 67.70it/s]\u001b[A\n",
      " 79%|#######8  | 59/75 [00:00<00:00, 68.45it/s]\u001b[A\n",
      " 89%|########9 | 67/75 [00:00<00:00, 69.14it/s]\u001b[A\n",
      " 99%|#########8| 74/75 [00:01<00:00, 69.05it/s]\u001b[A\n",
      " 74%|███████▎  | 632/858 [00:30<00:40,  5.57it/s]A"
     ]
    },
    {
     "name": "stdout",
     "output_type": "stream",
     "text": [
      "\tdone\n",
      "Evaluating\n",
      "{'ade': 0.44175032, 'fde': 0.9786881}\n",
      "\t last loss:0.000311866, eval on validation:['ade: 0.44175032', 'fde: 0.9786881'], (best ade:0.4404117 at step 51000) \n"
     ]
    },
    {
     "name": "stderr",
     "output_type": "stream",
     "text": [
      "100%|██████████| 858/858 [00:40<00:00, 20.99it/s]\n",
      "  0%|          | 1/858 [00:00<01:32,  9.22it/s]"
     ]
    },
    {
     "name": "stdout",
     "output_type": "stream",
     "text": [
      "('Epoca 67.', 'lr:', 9.37249e-06)\n"
     ]
    },
    {
     "name": "stderr",
     "output_type": "stream",
     "text": [
      "  8%|▊         | 69/858 [00:03<00:36, 21.38it/s]"
     ]
    },
    {
     "name": "stdout",
     "output_type": "stream",
     "text": [
      "\tsaving model 56700...\n"
     ]
    },
    {
     "name": "stderr",
     "output_type": "stream",
     "text": [
      "\n",
      "  0%|          | 0/75 [00:00<?, ?it/s]\u001b[A\n",
      " 11%|#         | 8/75 [00:00<00:00, 71.78it/s]\u001b[A"
     ]
    },
    {
     "name": "stdout",
     "output_type": "stream",
     "text": [
      "\tdone\n",
      "Evaluating\n"
     ]
    },
    {
     "name": "stderr",
     "output_type": "stream",
     "text": [
      "\n",
      " 20%|##        | 15/75 [00:00<00:00, 70.79it/s]\u001b[A\n",
      " 31%|###       | 23/75 [00:00<00:00, 70.82it/s]\u001b[A\n",
      " 41%|####1     | 31/75 [00:00<00:00, 70.85it/s]\u001b[A\n",
      " 52%|#####2    | 39/75 [00:00<00:00, 71.01it/s]\u001b[A\n",
      " 63%|######2   | 47/75 [00:00<00:00, 71.06it/s]\u001b[A\n",
      " 73%|#######3  | 55/75 [00:00<00:00, 71.12it/s]\u001b[A\n",
      " 83%|########2 | 62/75 [00:00<00:00, 70.63it/s]\u001b[A\n",
      " 92%|#########2| 69/75 [00:00<00:00, 66.14it/s]\u001b[A\n",
      "  9%|▊         | 75/858 [00:04<01:49,  7.16it/s][A"
     ]
    },
    {
     "name": "stdout",
     "output_type": "stream",
     "text": [
      "{'ade': 0.44316977, 'fde': 0.9829571}\n",
      "\t last loss:0.000638379, eval on validation:['ade: 0.44316977', 'fde: 0.9829571'], (best ade:0.4404117 at step 51000) \n"
     ]
    },
    {
     "name": "stderr",
     "output_type": "stream",
     "text": [
      " 43%|████▎     | 369/858 [00:15<00:17, 27.21it/s]\n",
      "  0%|          | 0/75 [00:00<?, ?it/s]\u001b[A"
     ]
    },
    {
     "name": "stdout",
     "output_type": "stream",
     "text": [
      "\tsaving model 57000...\n",
      "\tdone\n",
      "Evaluating\n"
     ]
    },
    {
     "name": "stderr",
     "output_type": "stream",
     "text": [
      "\n",
      " 13%|#3        | 10/75 [00:00<00:00, 97.90it/s]\u001b[A\n",
      " 27%|##6       | 20/75 [00:00<00:00, 97.74it/s]\u001b[A\n",
      " 40%|####      | 30/75 [00:00<00:00, 97.09it/s]\u001b[A\n",
      " 53%|#####3    | 40/75 [00:00<00:00, 96.28it/s]\u001b[A\n",
      " 65%|######5   | 49/75 [00:00<00:00, 93.22it/s]\u001b[A\n",
      " 79%|#######8  | 59/75 [00:00<00:00, 94.41it/s]\u001b[A\n",
      " 92%|#########2| 69/75 [00:00<00:00, 94.70it/s]\u001b[A\n",
      " 44%|████▎     | 375/858 [00:17<00:50,  9.61it/s]A"
     ]
    },
    {
     "name": "stdout",
     "output_type": "stream",
     "text": [
      "{'ade': 0.4423787, 'fde': 0.9801857}\n",
      "\t last loss:0.000259976, eval on validation:['ade: 0.4423787', 'fde: 0.9801857'], (best ade:0.4404117 at step 51000) \n"
     ]
    },
    {
     "name": "stderr",
     "output_type": "stream",
     "text": [
      " 78%|███████▊  | 669/858 [00:28<00:07, 24.88it/s]\n",
      "  0%|          | 0/75 [00:00<?, ?it/s]\u001b[A"
     ]
    },
    {
     "name": "stdout",
     "output_type": "stream",
     "text": [
      "\tsaving model 57300...\n",
      "\tdone\n",
      "Evaluating\n"
     ]
    },
    {
     "name": "stderr",
     "output_type": "stream",
     "text": [
      "\n",
      " 13%|#3        | 10/75 [00:00<00:00, 90.81it/s]\u001b[A\n",
      " 24%|##4       | 18/75 [00:00<00:00, 85.78it/s]\u001b[A\n",
      " 36%|###6      | 27/75 [00:00<00:00, 85.95it/s]\u001b[A\n",
      " 48%|####8     | 36/75 [00:00<00:00, 86.64it/s]\u001b[A\n",
      " 60%|######    | 45/75 [00:00<00:00, 87.15it/s]\u001b[A\n",
      " 72%|#######2  | 54/75 [00:00<00:00, 87.24it/s]\u001b[A\n",
      " 84%|########4 | 63/75 [00:00<00:00, 87.78it/s]\u001b[A\n",
      " 96%|#########6| 72/75 [00:00<00:00, 87.65it/s]\u001b[A\n",
      " 79%|███████▊  | 675/858 [00:29<00:20,  8.87it/s]A"
     ]
    },
    {
     "name": "stdout",
     "output_type": "stream",
     "text": [
      "{'ade': 0.4413094, 'fde': 0.9776049}\n",
      "\t last loss:0.000341918, eval on validation:['ade: 0.4413094', 'fde: 0.9776049'], (best ade:0.4404117 at step 51000) \n"
     ]
    },
    {
     "name": "stderr",
     "output_type": "stream",
     "text": [
      "100%|██████████| 858/858 [00:36<00:00, 25.94it/s]\n",
      "  0%|          | 1/858 [00:00<01:30,  9.47it/s]"
     ]
    },
    {
     "name": "stdout",
     "output_type": "stream",
     "text": [
      "('Epoca 68.', 'lr:', 9.37249e-06)\n"
     ]
    },
    {
     "name": "stderr",
     "output_type": "stream",
     "text": [
      " 13%|█▎        | 112/858 [00:04<00:28, 26.54it/s]\n",
      "  0%|          | 0/75 [00:00<?, ?it/s]\u001b[A"
     ]
    },
    {
     "name": "stdout",
     "output_type": "stream",
     "text": [
      "\tsaving model 57600...\n",
      "\tdone\n",
      "Evaluating\n"
     ]
    },
    {
     "name": "stderr",
     "output_type": "stream",
     "text": [
      "\n",
      " 13%|#3        | 10/75 [00:00<00:00, 98.11it/s]\u001b[A\n",
      " 27%|##6       | 20/75 [00:00<00:00, 98.19it/s]\u001b[A\n",
      " 40%|####      | 30/75 [00:00<00:00, 98.05it/s]\u001b[A\n",
      " 53%|#####3    | 40/75 [00:00<00:00, 96.97it/s]\u001b[A\n",
      " 65%|######5   | 49/75 [00:00<00:00, 94.47it/s]\u001b[A\n",
      " 77%|#######7  | 58/75 [00:00<00:00, 92.50it/s]\u001b[A\n",
      " 89%|########9 | 67/75 [00:00<00:00, 90.62it/s]\u001b[A\n",
      " 14%|█▍        | 118/858 [00:05<01:19,  9.28it/s]A"
     ]
    },
    {
     "name": "stdout",
     "output_type": "stream",
     "text": [
      "{'ade': 0.44297338, 'fde': 0.9806116}\n",
      "\t last loss:0.000396947, eval on validation:['ade: 0.44297338', 'fde: 0.9806116'], (best ade:0.4404117 at step 51000) \n"
     ]
    },
    {
     "name": "stderr",
     "output_type": "stream",
     "text": [
      " 48%|████▊     | 412/858 [00:18<00:19, 23.07it/s]\n",
      "  0%|          | 0/75 [00:00<?, ?it/s]\u001b[A"
     ]
    },
    {
     "name": "stdout",
     "output_type": "stream",
     "text": [
      "\tsaving model 57900...\n",
      "\tdone\n",
      "Evaluating\n"
     ]
    },
    {
     "name": "stderr",
     "output_type": "stream",
     "text": [
      "\n",
      " 12%|#2        | 9/75 [00:00<00:00, 89.74it/s]\u001b[A\n",
      " 24%|##4       | 18/75 [00:00<00:00, 89.40it/s]\u001b[A\n",
      " 36%|###6      | 27/75 [00:00<00:00, 89.13it/s]\u001b[A\n",
      " 48%|####8     | 36/75 [00:00<00:00, 89.09it/s]\u001b[A\n",
      " 60%|######    | 45/75 [00:00<00:00, 89.13it/s]\u001b[A\n",
      " 72%|#######2  | 54/75 [00:00<00:00, 88.04it/s]\u001b[A\n",
      " 83%|########2 | 62/75 [00:00<00:00, 84.17it/s]\u001b[A\n",
      " 93%|#########3| 70/75 [00:00<00:00, 81.06it/s]\u001b[A\n",
      " 48%|████▊     | 415/858 [00:19<01:07,  6.54it/s]A"
     ]
    },
    {
     "name": "stdout",
     "output_type": "stream",
     "text": [
      "{'ade': 0.44228387, 'fde': 0.9809573}\n",
      "\t last loss:0.000335074, eval on validation:['ade: 0.44228387', 'fde: 0.9809573'], (best ade:0.4404117 at step 51000) \n"
     ]
    },
    {
     "name": "stderr",
     "output_type": "stream",
     "text": [
      " 83%|████████▎ | 712/858 [00:30<00:05, 27.43it/s]\n",
      "  0%|          | 0/75 [00:00<?, ?it/s]\u001b[A"
     ]
    },
    {
     "name": "stdout",
     "output_type": "stream",
     "text": [
      "\tsaving model 58200...\n",
      "\tdone\n",
      "Evaluating\n"
     ]
    },
    {
     "name": "stderr",
     "output_type": "stream",
     "text": [
      "\n",
      " 12%|#2        | 9/75 [00:00<00:00, 84.53it/s]\u001b[A\n",
      " 25%|##5       | 19/75 [00:00<00:00, 86.74it/s]\u001b[A\n",
      " 39%|###8      | 29/75 [00:00<00:00, 89.15it/s]\u001b[A\n",
      " 51%|#####     | 38/75 [00:00<00:00, 87.02it/s]\u001b[A\n",
      " 64%|######4   | 48/75 [00:00<00:00, 88.71it/s]\u001b[A\n",
      " 77%|#######7  | 58/75 [00:00<00:00, 90.48it/s]\u001b[A\n",
      " 91%|######### | 68/75 [00:00<00:00, 92.19it/s]\u001b[A\n",
      " 84%|████████▎ | 718/858 [00:32<00:14,  9.42it/s]A"
     ]
    },
    {
     "name": "stdout",
     "output_type": "stream",
     "text": [
      "{'ade': 0.44510004, 'fde': 0.9891471}\n",
      "\t last loss:0.000415998, eval on validation:['ade: 0.44510004', 'fde: 0.9891471'], (best ade:0.4404117 at step 51000) \n"
     ]
    },
    {
     "name": "stderr",
     "output_type": "stream",
     "text": [
      "100%|██████████| 858/858 [00:37<00:00, 22.82it/s]\n",
      "  0%|          | 3/858 [00:00<00:34, 24.58it/s]"
     ]
    },
    {
     "name": "stdout",
     "output_type": "stream",
     "text": [
      "('Epoca 69.', 'lr:', 7.966617e-06)\n"
     ]
    },
    {
     "name": "stderr",
     "output_type": "stream",
     "text": [
      " 18%|█▊        | 153/858 [00:05<00:31, 22.25it/s]\n",
      "  0%|          | 0/75 [00:00<?, ?it/s]\u001b[A"
     ]
    },
    {
     "name": "stdout",
     "output_type": "stream",
     "text": [
      "\tsaving model 58500...\n",
      "\tdone\n",
      "Evaluating\n"
     ]
    },
    {
     "name": "stderr",
     "output_type": "stream",
     "text": [
      "\n",
      "  9%|9         | 7/75 [00:00<00:00, 69.38it/s]\u001b[A\n",
      " 19%|#8        | 14/75 [00:00<00:00, 69.41it/s]\u001b[A\n",
      " 28%|##8       | 21/75 [00:00<00:00, 68.91it/s]\u001b[A\n",
      " 37%|###7      | 28/75 [00:00<00:00, 68.88it/s]\u001b[A\n",
      " 45%|####5     | 34/75 [00:00<00:00, 65.06it/s]\u001b[A\n",
      " 57%|#####7    | 43/75 [00:00<00:00, 69.33it/s]\u001b[A\n",
      " 69%|######9   | 52/75 [00:00<00:00, 74.06it/s]\u001b[A\n",
      " 81%|########1 | 61/75 [00:00<00:00, 78.03it/s]\u001b[A\n",
      " 93%|#########3| 70/75 [00:00<00:00, 80.58it/s]\u001b[A\n",
      " 19%|█▊        | 159/858 [00:07<01:27,  7.96it/s]A"
     ]
    },
    {
     "name": "stdout",
     "output_type": "stream",
     "text": [
      "{'ade': 0.44398052, 'fde': 0.9840218}\n",
      "\t last loss:0.000507088, eval on validation:['ade: 0.44398052', 'fde: 0.9840218'], (best ade:0.4404117 at step 51000) \n"
     ]
    },
    {
     "name": "stderr",
     "output_type": "stream",
     "text": [
      " 53%|█████▎    | 453/858 [00:18<00:14, 27.47it/s]\n",
      "  0%|          | 0/75 [00:00<?, ?it/s]\u001b[A"
     ]
    },
    {
     "name": "stdout",
     "output_type": "stream",
     "text": [
      "\tsaving model 58800...\n",
      "\tdone\n",
      "Evaluating\n"
     ]
    },
    {
     "name": "stderr",
     "output_type": "stream",
     "text": [
      "\n",
      " 13%|#3        | 10/75 [00:00<00:00, 98.20it/s]\u001b[A\n",
      " 27%|##6       | 20/75 [00:00<00:00, 97.23it/s]\u001b[A\n",
      " 40%|####      | 30/75 [00:00<00:00, 97.27it/s]\u001b[A\n",
      " 53%|#####3    | 40/75 [00:00<00:00, 97.32it/s]\u001b[A\n",
      " 67%|######6   | 50/75 [00:00<00:00, 96.75it/s]\u001b[A\n",
      " 80%|########  | 60/75 [00:00<00:00, 96.19it/s]\u001b[A\n",
      " 93%|#########3| 70/75 [00:00<00:00, 96.40it/s]\u001b[A\n",
      " 53%|█████▎    | 459/858 [00:19<00:41,  9.63it/s]A"
     ]
    },
    {
     "name": "stdout",
     "output_type": "stream",
     "text": [
      "{'ade': 0.4434284, 'fde': 0.98282456}\n",
      "\t last loss:0.000351574, eval on validation:['ade: 0.4434284', 'fde: 0.98282456'], (best ade:0.4404117 at step 51000) \n"
     ]
    },
    {
     "name": "stderr",
     "output_type": "stream",
     "text": [
      " 88%|████████▊ | 753/858 [00:30<00:04, 25.83it/s]\n",
      "  0%|          | 0/75 [00:00<?, ?it/s]\u001b[A"
     ]
    },
    {
     "name": "stdout",
     "output_type": "stream",
     "text": [
      "\tsaving model 59100...\n",
      "\tdone\n",
      "Evaluating\n"
     ]
    },
    {
     "name": "stderr",
     "output_type": "stream",
     "text": [
      "\n",
      " 12%|#2        | 9/75 [00:00<00:00, 89.56it/s]\u001b[A\n",
      " 24%|##4       | 18/75 [00:00<00:00, 88.69it/s]\u001b[A\n",
      " 36%|###6      | 27/75 [00:00<00:00, 88.45it/s]\u001b[A\n",
      " 47%|####6     | 35/75 [00:00<00:00, 84.82it/s]\u001b[A\n",
      " 59%|#####8    | 44/75 [00:00<00:00, 85.11it/s]\u001b[A\n",
      " 69%|######9   | 52/75 [00:00<00:00, 79.60it/s]\u001b[A\n",
      " 79%|#######8  | 59/75 [00:00<00:00, 75.99it/s]\u001b[A\n",
      " 88%|########8 | 66/75 [00:00<00:00, 70.11it/s]\u001b[A\n",
      " 97%|#########7| 73/75 [00:00<00:00, 68.89it/s]\u001b[A\n",
      " 88%|████████▊ | 759/858 [00:32<00:12,  8.00it/s]A"
     ]
    },
    {
     "name": "stdout",
     "output_type": "stream",
     "text": [
      "{'ade': 0.44228125, 'fde': 0.97974205}\n",
      "\t last loss:0.000362480, eval on validation:['ade: 0.44228125', 'fde: 0.97974205'], (best ade:0.4404117 at step 51000) \n"
     ]
    },
    {
     "name": "stderr",
     "output_type": "stream",
     "text": [
      "100%|██████████| 858/858 [00:36<00:00, 23.59it/s]\n",
      "  0%|          | 1/858 [00:00<01:40,  8.53it/s]"
     ]
    },
    {
     "name": "stdout",
     "output_type": "stream",
     "text": [
      "('Epoca 70.', 'lr:', 7.966617e-06)\n"
     ]
    },
    {
     "name": "stderr",
     "output_type": "stream",
     "text": [
      " 23%|██▎       | 195/858 [00:07<00:24, 27.50it/s]\n",
      "  0%|          | 0/75 [00:00<?, ?it/s]\u001b[A"
     ]
    },
    {
     "name": "stdout",
     "output_type": "stream",
     "text": [
      "\tsaving model 59400...\n",
      "\tdone\n",
      "Evaluating\n"
     ]
    },
    {
     "name": "stderr",
     "output_type": "stream",
     "text": [
      "\n",
      " 13%|#3        | 10/75 [00:00<00:00, 99.31it/s]\u001b[A\n",
      " 27%|##6       | 20/75 [00:00<00:00, 98.48it/s]\u001b[A\n",
      " 40%|####      | 30/75 [00:00<00:00, 97.77it/s]\u001b[A\n",
      " 53%|#####3    | 40/75 [00:00<00:00, 97.34it/s]\u001b[A\n",
      " 67%|######6   | 50/75 [00:00<00:00, 96.95it/s]\u001b[A\n",
      " 80%|########  | 60/75 [00:00<00:00, 96.75it/s]\u001b[A\n",
      " 93%|#########3| 70/75 [00:00<00:00, 96.78it/s]\u001b[A\n",
      " 23%|██▎       | 201/858 [00:09<01:09,  9.49it/s]A"
     ]
    },
    {
     "name": "stdout",
     "output_type": "stream",
     "text": [
      "{'ade': 0.44254106, 'fde': 0.98125273}\n",
      "\t last loss:0.000259696, eval on validation:['ade: 0.44254106', 'fde: 0.98125273'], (best ade:0.4404117 at step 51000) \n"
     ]
    },
    {
     "name": "stderr",
     "output_type": "stream",
     "text": [
      " 58%|█████▊    | 495/858 [00:20<00:14, 25.35it/s]\n",
      "  0%|          | 0/75 [00:00<?, ?it/s]\u001b[A"
     ]
    },
    {
     "name": "stdout",
     "output_type": "stream",
     "text": [
      "\tsaving model 59700...\n",
      "\tdone\n",
      "Evaluating\n"
     ]
    },
    {
     "name": "stderr",
     "output_type": "stream",
     "text": [
      "\n",
      " 13%|#3        | 10/75 [00:00<00:00, 91.24it/s]\u001b[A\n",
      " 25%|##5       | 19/75 [00:00<00:00, 89.49it/s]\u001b[A\n",
      " 36%|###6      | 27/75 [00:00<00:00, 86.37it/s]\u001b[A\n",
      " 48%|####8     | 36/75 [00:00<00:00, 87.20it/s]\u001b[A\n",
      " 60%|######    | 45/75 [00:00<00:00, 87.47it/s]\u001b[A\n",
      " 72%|#######2  | 54/75 [00:00<00:00, 87.95it/s]\u001b[A\n",
      " 84%|########4 | 63/75 [00:00<00:00, 87.89it/s]\u001b[A\n",
      " 96%|#########6| 72/75 [00:00<00:00, 88.00it/s]\u001b[A\n",
      "100%|##########| 75/75 [00:00<00:00, 87.03it/s]\u001b[A"
     ]
    },
    {
     "name": "stdout",
     "output_type": "stream",
     "text": [
      "{'ade': 0.44027826, 'fde': 0.97385895}\n",
      "\t last loss:0.000564668, eval on validation:['ade: 0.44027826', 'fde: 0.97385895'], (best ade:0.4404117 at step 51000) \n",
      "\t saving best model...\n",
      "\t done.\n"
     ]
    },
    {
     "name": "stderr",
     "output_type": "stream",
     "text": [
      " 93%|█████████▎| 795/858 [00:33<00:02, 26.71it/s]\n",
      "  0%|          | 0/75 [00:00<?, ?it/s]\u001b[A"
     ]
    },
    {
     "name": "stdout",
     "output_type": "stream",
     "text": [
      "\tsaving model 60000...\n",
      "\tdone\n",
      "Evaluating\n"
     ]
    },
    {
     "name": "stderr",
     "output_type": "stream",
     "text": [
      "\n",
      " 15%|#4        | 11/75 [00:00<00:00, 99.95it/s]\u001b[A\n",
      " 28%|##8       | 21/75 [00:00<00:00, 98.93it/s]\u001b[A\n",
      " 41%|####1     | 31/75 [00:00<00:00, 98.53it/s]\u001b[A\n",
      " 55%|#####4    | 41/75 [00:00<00:00, 97.65it/s]\u001b[A\n",
      " 68%|######8   | 51/75 [00:00<00:00, 97.34it/s]\u001b[A\n",
      " 81%|########1 | 61/75 [00:00<00:00, 95.23it/s]\u001b[A\n",
      " 93%|#########3| 70/75 [00:00<00:00, 93.52it/s]\u001b[A\n",
      " 93%|█████████▎| 801/858 [00:34<00:05,  9.60it/s]A"
     ]
    },
    {
     "name": "stdout",
     "output_type": "stream",
     "text": [
      "{'ade': 0.44269854, 'fde': 0.98173475}\n",
      "\t last loss:0.000276674, eval on validation:['ade: 0.44269854', 'fde: 0.98173475'], (best ade:0.44027826 at step 59700) \n"
     ]
    },
    {
     "name": "stderr",
     "output_type": "stream",
     "text": [
      "100%|██████████| 858/858 [00:36<00:00, 25.50it/s]\n",
      "  0%|          | 1/858 [00:00<01:33,  9.15it/s]"
     ]
    },
    {
     "name": "stdout",
     "output_type": "stream",
     "text": [
      "('Epoca 71.', 'lr:', 6.7716246e-06)\n"
     ]
    },
    {
     "name": "stderr",
     "output_type": "stream",
     "text": [
      " 28%|██▊       | 238/858 [00:10<00:25, 24.48it/s]\n",
      "  0%|          | 0/75 [00:00<?, ?it/s]\u001b[A"
     ]
    },
    {
     "name": "stdout",
     "output_type": "stream",
     "text": [
      "\tsaving model 60300...\n",
      "\tdone\n",
      "Evaluating\n"
     ]
    },
    {
     "name": "stderr",
     "output_type": "stream",
     "text": [
      "\n",
      " 13%|#3        | 10/75 [00:00<00:00, 91.43it/s]\u001b[A\n",
      " 25%|##5       | 19/75 [00:00<00:00, 90.83it/s]\u001b[A\n",
      " 37%|###7      | 28/75 [00:00<00:00, 90.31it/s]\u001b[A\n",
      " 49%|####9     | 37/75 [00:00<00:00, 89.80it/s]\u001b[A\n",
      " 61%|######1   | 46/75 [00:00<00:00, 89.53it/s]\u001b[A\n",
      " 73%|#######3  | 55/75 [00:00<00:00, 89.07it/s]\u001b[A\n",
      " 85%|########5 | 64/75 [00:00<00:00, 88.79it/s]\u001b[A\n",
      " 97%|#########7| 73/75 [00:00<00:00, 87.02it/s]\u001b[A\n",
      " 28%|██▊       | 241/858 [00:11<01:32,  6.68it/s]A"
     ]
    },
    {
     "name": "stdout",
     "output_type": "stream",
     "text": [
      "{'ade': 0.44266886, 'fde': 0.9813195}\n",
      "\t last loss:0.000257787, eval on validation:['ade: 0.44266886', 'fde: 0.9813195'], (best ade:0.44027826 at step 59700) \n"
     ]
    },
    {
     "name": "stderr",
     "output_type": "stream",
     "text": [
      " 63%|██████▎   | 538/858 [00:22<00:11, 26.89it/s]\n",
      "  0%|          | 0/75 [00:00<?, ?it/s]\u001b[A"
     ]
    },
    {
     "name": "stdout",
     "output_type": "stream",
     "text": [
      "\tsaving model 60600...\n",
      "\tdone\n",
      "Evaluating\n"
     ]
    },
    {
     "name": "stderr",
     "output_type": "stream",
     "text": [
      "\n",
      " 13%|#3        | 10/75 [00:00<00:00, 98.00it/s]\u001b[A\n",
      " 27%|##6       | 20/75 [00:00<00:00, 97.80it/s]\u001b[A\n",
      " 39%|###8      | 29/75 [00:00<00:00, 93.38it/s]\u001b[A\n",
      " 52%|#####2    | 39/75 [00:00<00:00, 93.58it/s]\u001b[A\n",
      " 65%|######5   | 49/75 [00:00<00:00, 94.52it/s]\u001b[A\n",
      " 79%|#######8  | 59/75 [00:00<00:00, 94.94it/s]\u001b[A\n",
      " 92%|#########2| 69/75 [00:00<00:00, 95.69it/s]\u001b[A\n",
      " 63%|██████▎   | 544/858 [00:24<00:32,  9.58it/s]A"
     ]
    },
    {
     "name": "stdout",
     "output_type": "stream",
     "text": [
      "{'ade': 0.44276276, 'fde': 0.98235184}\n",
      "\t last loss:0.000378240, eval on validation:['ade: 0.44276276', 'fde: 0.98235184'], (best ade:0.44027826 at step 59700) \n"
     ]
    },
    {
     "name": "stderr",
     "output_type": "stream",
     "text": [
      " 98%|█████████▊| 839/858 [00:35<00:00, 25.33it/s]\n",
      "  0%|          | 0/75 [00:00<?, ?it/s]\u001b[A"
     ]
    },
    {
     "name": "stdout",
     "output_type": "stream",
     "text": [
      "\tsaving model 60900...\n",
      "\tdone\n",
      "Evaluating\n"
     ]
    },
    {
     "name": "stderr",
     "output_type": "stream",
     "text": [
      "\n",
      " 12%|#2        | 9/75 [00:00<00:00, 88.66it/s]\u001b[A\n",
      " 24%|##4       | 18/75 [00:00<00:00, 88.23it/s]\u001b[A\n",
      " 36%|###6      | 27/75 [00:00<00:00, 87.61it/s]\u001b[A\n",
      " 48%|####8     | 36/75 [00:00<00:00, 87.54it/s]\u001b[A\n",
      " 60%|######    | 45/75 [00:00<00:00, 87.81it/s]\u001b[A\n",
      " 71%|#######   | 53/75 [00:00<00:00, 84.72it/s]\u001b[A\n",
      " 83%|########2 | 62/75 [00:00<00:00, 85.52it/s]\u001b[A\n",
      " 95%|#########4| 71/75 [00:00<00:00, 86.52it/s]\u001b[A\n",
      " 98%|█████████▊| 842/858 [00:36<00:02,  6.90it/s]A"
     ]
    },
    {
     "name": "stdout",
     "output_type": "stream",
     "text": [
      "{'ade': 0.4428931, 'fde': 0.98173463}\n",
      "\t last loss:0.000285413, eval on validation:['ade: 0.4428931', 'fde: 0.98173463'], (best ade:0.44027826 at step 59700) \n"
     ]
    },
    {
     "name": "stderr",
     "output_type": "stream",
     "text": [
      "100%|██████████| 858/858 [00:37<00:00, 22.84it/s]\n",
      "  0%|          | 2/858 [00:00<00:52, 16.33it/s]"
     ]
    },
    {
     "name": "stdout",
     "output_type": "stream",
     "text": [
      "('Epoca 72.', 'lr:', 6.7716246e-06)\n"
     ]
    },
    {
     "name": "stderr",
     "output_type": "stream",
     "text": [
      " 33%|███▎      | 281/858 [00:10<00:20, 27.53it/s]\n",
      "  0%|          | 0/75 [00:00<?, ?it/s]\u001b[A"
     ]
    },
    {
     "name": "stdout",
     "output_type": "stream",
     "text": [
      "\tsaving model 61200...\n",
      "\tdone\n",
      "Evaluating\n"
     ]
    },
    {
     "name": "stderr",
     "output_type": "stream",
     "text": [
      "\n",
      " 12%|#2        | 9/75 [00:00<00:00, 88.45it/s]\u001b[A\n",
      " 25%|##5       | 19/75 [00:00<00:00, 89.50it/s]\u001b[A\n",
      " 39%|###8      | 29/75 [00:00<00:00, 91.25it/s]\u001b[A\n",
      " 52%|#####2    | 39/75 [00:00<00:00, 93.06it/s]\u001b[A\n",
      " 65%|######5   | 49/75 [00:00<00:00, 93.99it/s]\u001b[A\n",
      " 79%|#######8  | 59/75 [00:00<00:00, 93.76it/s]\u001b[A\n",
      " 92%|#########2| 69/75 [00:00<00:00, 94.75it/s]\u001b[A\n",
      " 33%|███▎      | 284/858 [00:11<01:16,  7.54it/s]A"
     ]
    },
    {
     "name": "stdout",
     "output_type": "stream",
     "text": [
      "{'ade': 0.4427829, 'fde': 0.98137575}\n",
      "\t last loss:0.000245520, eval on validation:['ade: 0.4427829', 'fde: 0.98137575'], (best ade:0.44027826 at step 59700) \n"
     ]
    },
    {
     "name": "stderr",
     "output_type": "stream",
     "text": [
      " 68%|██████▊   | 581/858 [00:23<00:11, 23.37it/s]\n",
      "  0%|          | 0/75 [00:00<?, ?it/s]\u001b[A"
     ]
    },
    {
     "name": "stdout",
     "output_type": "stream",
     "text": [
      "\tsaving model 61500...\n",
      "\tdone\n",
      "Evaluating\n"
     ]
    },
    {
     "name": "stderr",
     "output_type": "stream",
     "text": [
      "\n",
      " 13%|#3        | 10/75 [00:00<00:00, 90.93it/s]\u001b[A\n",
      " 25%|##5       | 19/75 [00:00<00:00, 89.80it/s]\u001b[A\n",
      " 37%|###7      | 28/75 [00:00<00:00, 89.66it/s]\u001b[A\n",
      " 49%|####9     | 37/75 [00:00<00:00, 89.27it/s]\u001b[A\n",
      " 61%|######1   | 46/75 [00:00<00:00, 88.91it/s]\u001b[A\n",
      " 73%|#######3  | 55/75 [00:00<00:00, 86.47it/s]\u001b[A\n",
      " 85%|########5 | 64/75 [00:00<00:00, 85.58it/s]\u001b[A\n",
      " 97%|#########7| 73/75 [00:00<00:00, 86.44it/s]\u001b[A\n",
      " 68%|██████▊   | 584/858 [00:24<00:40,  6.81it/s]A"
     ]
    },
    {
     "name": "stdout",
     "output_type": "stream",
     "text": [
      "{'ade': 0.44204152, 'fde': 0.97869563}\n",
      "\t last loss:0.000312205, eval on validation:['ade: 0.44204152', 'fde: 0.97869563'], (best ade:0.44027826 at step 59700) \n"
     ]
    },
    {
     "name": "stderr",
     "output_type": "stream",
     "text": [
      "100%|██████████| 858/858 [00:35<00:00, 24.36it/s]\n",
      "  0%|          | 2/858 [00:00<01:01, 14.01it/s]"
     ]
    },
    {
     "name": "stdout",
     "output_type": "stream",
     "text": [
      "('Epoca 73.', 'lr:', 5.7558805e-06)\n"
     ]
    },
    {
     "name": "stderr",
     "output_type": "stream",
     "text": [
      "  3%|▎         | 22/858 [00:01<00:41, 20.16it/s]"
     ]
    },
    {
     "name": "stdout",
     "output_type": "stream",
     "text": [
      "\tsaving model 61800...\n"
     ]
    },
    {
     "name": "stderr",
     "output_type": "stream",
     "text": [
      "\n",
      "  0%|          | 0/75 [00:00<?, ?it/s]\u001b[A\n",
      " 11%|#         | 8/75 [00:00<00:00, 71.22it/s]\u001b[A\n",
      " 21%|##1       | 16/75 [00:00<00:00, 71.57it/s]\u001b[A\n",
      " 33%|###3      | 25/75 [00:00<00:00, 74.07it/s]\u001b[A\n",
      " 43%|####2     | 32/75 [00:00<00:00, 71.72it/s]\u001b[A\n",
      " 53%|#####3    | 40/75 [00:00<00:00, 72.62it/s]\u001b[A\n",
      " 64%|######4   | 48/75 [00:00<00:00, 74.37it/s]\u001b[A\n",
      " 75%|#######4  | 56/75 [00:00<00:00, 75.97it/s]\u001b[A\n",
      " 85%|########5 | 64/75 [00:00<00:00, 76.93it/s]\u001b[A\n",
      " 97%|#########7| 73/75 [00:00<00:00, 78.05it/s]\u001b[A\n",
      "  3%|▎         | 27/858 [00:02<02:24,  5.75it/s][A"
     ]
    },
    {
     "name": "stdout",
     "output_type": "stream",
     "text": [
      "\tdone\n",
      "Evaluating\n",
      "{'ade': 0.4414697, 'fde': 0.97753495}\n",
      "\t last loss:0.000341515, eval on validation:['ade: 0.4414697', 'fde: 0.97753495'], (best ade:0.44027826 at step 59700) \n"
     ]
    },
    {
     "name": "stderr",
     "output_type": "stream",
     "text": [
      " 37%|███▋      | 321/858 [00:14<00:20, 25.75it/s]\n",
      "  0%|          | 0/75 [00:00<?, ?it/s]\u001b[A"
     ]
    },
    {
     "name": "stdout",
     "output_type": "stream",
     "text": [
      "\tsaving model 62100...\n",
      "\tdone\n",
      "Evaluating\n"
     ]
    },
    {
     "name": "stderr",
     "output_type": "stream",
     "text": [
      "\n",
      " 13%|#3        | 10/75 [00:00<00:00, 90.59it/s]\u001b[A\n",
      " 25%|##5       | 19/75 [00:00<00:00, 89.97it/s]\u001b[A\n",
      " 37%|###7      | 28/75 [00:00<00:00, 89.46it/s]\u001b[A\n",
      " 48%|####8     | 36/75 [00:00<00:00, 85.18it/s]\u001b[A\n",
      " 60%|######    | 45/75 [00:00<00:00, 85.27it/s]\u001b[A\n",
      " 72%|#######2  | 54/75 [00:00<00:00, 86.30it/s]\u001b[A\n",
      " 84%|########4 | 63/75 [00:00<00:00, 86.73it/s]\u001b[A\n",
      " 96%|#########6| 72/75 [00:00<00:00, 87.30it/s]\u001b[A\n",
      " 38%|███▊      | 327/858 [00:15<00:59,  8.90it/s]A"
     ]
    },
    {
     "name": "stdout",
     "output_type": "stream",
     "text": [
      "{'ade': 0.44254234, 'fde': 0.9809371}\n",
      "\t last loss:0.000189316, eval on validation:['ade: 0.44254234', 'fde: 0.9809371'], (best ade:0.44027826 at step 59700) \n"
     ]
    },
    {
     "name": "stderr",
     "output_type": "stream",
     "text": [
      " 72%|███████▏  | 622/858 [00:30<00:09, 25.64it/s]\n",
      "  0%|          | 0/75 [00:00<?, ?it/s]\u001b[A"
     ]
    },
    {
     "name": "stdout",
     "output_type": "stream",
     "text": [
      "\tsaving model 62400...\n",
      "\tdone\n",
      "Evaluating\n"
     ]
    },
    {
     "name": "stderr",
     "output_type": "stream",
     "text": [
      "\n",
      " 13%|#3        | 10/75 [00:00<00:00, 91.11it/s]\u001b[A\n",
      " 25%|##5       | 19/75 [00:00<00:00, 90.20it/s]\u001b[A\n",
      " 37%|###7      | 28/75 [00:00<00:00, 89.71it/s]\u001b[A\n",
      " 49%|####9     | 37/75 [00:00<00:00, 89.42it/s]\u001b[A\n",
      " 59%|#####8    | 44/75 [00:00<00:00, 72.61it/s]\u001b[A\n",
      " 71%|#######   | 53/75 [00:00<00:00, 76.08it/s]\u001b[A\n",
      " 83%|########2 | 62/75 [00:00<00:00, 79.51it/s]\u001b[A\n",
      " 95%|#########4| 71/75 [00:00<00:00, 81.93it/s]\u001b[A\n",
      " 73%|███████▎  | 628/858 [00:31<00:26,  8.65it/s]A"
     ]
    },
    {
     "name": "stdout",
     "output_type": "stream",
     "text": [
      "{'ade': 0.4426557, 'fde': 0.9816014}\n",
      "\t last loss:0.000322951, eval on validation:['ade: 0.4426557', 'fde: 0.9816014'], (best ade:0.44027826 at step 59700) \n"
     ]
    },
    {
     "name": "stderr",
     "output_type": "stream",
     "text": [
      "100%|██████████| 858/858 [00:40<00:00, 21.28it/s]\n",
      "  0%|          | 1/858 [00:00<01:50,  7.75it/s]"
     ]
    },
    {
     "name": "stdout",
     "output_type": "stream",
     "text": [
      "('Epoca 74.', 'lr:', 5.7558805e-06)\n"
     ]
    },
    {
     "name": "stderr",
     "output_type": "stream",
     "text": [
      "  7%|▋         | 64/858 [00:02<00:30, 26.31it/s]\n",
      "  0%|          | 0/75 [00:00<?, ?it/s]\u001b[A"
     ]
    },
    {
     "name": "stdout",
     "output_type": "stream",
     "text": [
      "\tsaving model 62700...\n",
      "\tdone\n",
      "Evaluating\n"
     ]
    },
    {
     "name": "stderr",
     "output_type": "stream",
     "text": [
      "\n",
      " 13%|#3        | 10/75 [00:00<00:00, 98.39it/s]\u001b[A\n",
      " 27%|##6       | 20/75 [00:00<00:00, 98.26it/s]\u001b[A\n",
      " 40%|####      | 30/75 [00:00<00:00, 97.45it/s]\u001b[A\n",
      " 53%|#####3    | 40/75 [00:00<00:00, 97.23it/s]\u001b[A\n",
      " 67%|######6   | 50/75 [00:00<00:00, 96.92it/s]\u001b[A\n",
      " 79%|#######8  | 59/75 [00:00<00:00, 94.41it/s]\u001b[A\n",
      " 91%|######### | 68/75 [00:00<00:00, 91.24it/s]\u001b[A\n",
      "  8%|▊         | 70/858 [00:03<01:22,  9.53it/s][A"
     ]
    },
    {
     "name": "stdout",
     "output_type": "stream",
     "text": [
      "{'ade': 0.44274813, 'fde': 0.98164797}\n",
      "\t last loss:0.000351162, eval on validation:['ade: 0.44274813', 'fde: 0.98164797'], (best ade:0.44027826 at step 59700) \n"
     ]
    },
    {
     "name": "stderr",
     "output_type": "stream",
     "text": [
      " 42%|████▏     | 364/858 [00:15<00:21, 22.55it/s]"
     ]
    },
    {
     "name": "stdout",
     "output_type": "stream",
     "text": [
      "\tsaving model 63000...\n"
     ]
    },
    {
     "name": "stderr",
     "output_type": "stream",
     "text": [
      "\n",
      "  0%|          | 0/75 [00:00<?, ?it/s]\u001b[A\n",
      " 13%|#3        | 10/75 [00:00<00:00, 90.71it/s]\u001b[A\n",
      " 25%|##5       | 19/75 [00:00<00:00, 90.38it/s]\u001b[A\n",
      " 37%|###7      | 28/75 [00:00<00:00, 89.69it/s]\u001b[A\n",
      " 45%|####5     | 34/75 [00:00<00:00, 64.25it/s]\u001b[A\n",
      " 53%|#####3    | 40/75 [00:00<00:00, 55.41it/s]\u001b[A\n",
      " 60%|######    | 45/75 [00:00<00:00, 49.48it/s]\u001b[A\n",
      " 67%|######6   | 50/75 [00:00<00:00, 45.42it/s]\u001b[A\n",
      " 73%|#######3  | 55/75 [00:00<00:00, 43.27it/s]\u001b[A\n",
      " 80%|########  | 60/75 [00:01<00:00, 43.42it/s]\u001b[A\n",
      " 87%|########6 | 65/75 [00:01<00:00, 43.40it/s]\u001b[A\n",
      " 93%|#########3| 70/75 [00:01<00:00, 42.43it/s]\u001b[A\n",
      " 43%|████▎     | 367/858 [00:17<01:49,  4.50it/s]A"
     ]
    },
    {
     "name": "stdout",
     "output_type": "stream",
     "text": [
      "\tdone\n",
      "Evaluating\n",
      "{'ade': 0.44314596, 'fde': 0.98263687}\n",
      "\t last loss:0.000222844, eval on validation:['ade: 0.44314596', 'fde: 0.98263687'], (best ade:0.44027826 at step 59700) \n"
     ]
    },
    {
     "name": "stderr",
     "output_type": "stream",
     "text": [
      " 78%|███████▊  | 665/858 [00:33<00:08, 22.12it/s]"
     ]
    },
    {
     "name": "stdout",
     "output_type": "stream",
     "text": [
      "\tsaving model 63300...\n"
     ]
    },
    {
     "name": "stderr",
     "output_type": "stream",
     "text": [
      "\n",
      "  0%|          | 0/75 [00:00<?, ?it/s]\u001b[A\n",
      "  5%|5         | 4/75 [00:00<00:02, 33.71it/s]\u001b[A"
     ]
    },
    {
     "name": "stdout",
     "output_type": "stream",
     "text": [
      "\tdone\n",
      "Evaluating\n"
     ]
    },
    {
     "name": "stderr",
     "output_type": "stream",
     "text": [
      "\n",
      " 11%|#         | 8/75 [00:00<00:01, 34.50it/s]\u001b[A\n",
      " 17%|#7        | 13/75 [00:00<00:01, 36.88it/s]\u001b[A\n",
      " 25%|##5       | 19/75 [00:00<00:01, 40.53it/s]\u001b[A\n",
      " 32%|###2      | 24/75 [00:00<00:01, 40.45it/s]\u001b[A\n",
      " 37%|###7      | 28/75 [00:00<00:01, 39.94it/s]\u001b[A\n",
      " 44%|####4     | 33/75 [00:00<00:01, 41.46it/s]\u001b[A\n",
      " 51%|#####     | 38/75 [00:00<00:00, 42.19it/s]\u001b[A\n",
      " 57%|#####7    | 43/75 [00:01<00:00, 44.09it/s]\u001b[A\n",
      " 65%|######5   | 49/75 [00:01<00:00, 47.19it/s]\u001b[A\n",
      " 72%|#######2  | 54/75 [00:01<00:00, 37.68it/s]\u001b[A\n",
      " 79%|#######8  | 59/75 [00:01<00:00, 36.24it/s]\u001b[A\n",
      " 85%|########5 | 64/75 [00:01<00:00, 39.19it/s]\u001b[A\n",
      " 92%|#########2| 69/75 [00:01<00:00, 40.16it/s]\u001b[A\n",
      " 99%|#########8| 74/75 [00:01<00:00, 38.52it/s]\u001b[A\n",
      " 78%|███████▊  | 668/858 [00:35<00:50,  3.79it/s]A"
     ]
    },
    {
     "name": "stdout",
     "output_type": "stream",
     "text": [
      "{'ade': 0.44385275, 'fde': 0.9846396}\n",
      "\t last loss:0.000280490, eval on validation:['ade: 0.44385275', 'fde: 0.9846396'], (best ade:0.44027826 at step 59700) \n"
     ]
    },
    {
     "name": "stderr",
     "output_type": "stream",
     "text": [
      "100%|██████████| 858/858 [00:45<00:00, 19.01it/s]\n",
      "  0%|          | 1/858 [00:00<01:33,  9.15it/s]"
     ]
    },
    {
     "name": "stdout",
     "output_type": "stream",
     "text": [
      "('Epoca 75.', 'lr:', 4.8924985e-06)\n"
     ]
    },
    {
     "name": "stderr",
     "output_type": "stream",
     "text": [
      " 12%|█▏        | 106/858 [00:04<00:29, 25.21it/s]\n",
      "  0%|          | 0/75 [00:00<?, ?it/s]\u001b[A"
     ]
    },
    {
     "name": "stdout",
     "output_type": "stream",
     "text": [
      "\tsaving model 63600...\n",
      "\tdone\n",
      "Evaluating\n"
     ]
    },
    {
     "name": "stderr",
     "output_type": "stream",
     "text": [
      "\n",
      " 11%|#         | 8/75 [00:00<00:00, 74.10it/s]\u001b[A\n",
      " 23%|##2       | 17/75 [00:00<00:00, 77.19it/s]\u001b[A\n",
      " 35%|###4      | 26/75 [00:00<00:00, 79.39it/s]\u001b[A\n",
      " 45%|####5     | 34/75 [00:00<00:00, 79.22it/s]\u001b[A\n",
      " 57%|#####7    | 43/75 [00:00<00:00, 80.70it/s]\u001b[A\n",
      " 69%|######9   | 52/75 [00:00<00:00, 82.27it/s]\u001b[A\n",
      " 81%|########1 | 61/75 [00:00<00:00, 81.70it/s]\u001b[A\n",
      " 92%|#########2| 69/75 [00:00<00:00, 80.89it/s]\u001b[A\n",
      " 13%|█▎        | 109/858 [00:05<01:54,  6.57it/s]A"
     ]
    },
    {
     "name": "stdout",
     "output_type": "stream",
     "text": [
      "{'ade': 0.44190893, 'fde': 0.9799556}\n",
      "\t last loss:0.000433677, eval on validation:['ade: 0.44190893', 'fde: 0.9799556'], (best ade:0.44027826 at step 59700) \n"
     ]
    },
    {
     "name": "stderr",
     "output_type": "stream",
     "text": [
      " 47%|████▋     | 406/858 [00:19<00:17, 25.60it/s]\n",
      "  0%|          | 0/75 [00:00<?, ?it/s]\u001b[A"
     ]
    },
    {
     "name": "stdout",
     "output_type": "stream",
     "text": [
      "\tsaving model 63900...\n",
      "\tdone\n",
      "Evaluating\n"
     ]
    },
    {
     "name": "stderr",
     "output_type": "stream",
     "text": [
      "\n",
      "  9%|9         | 7/75 [00:00<00:01, 64.62it/s]\u001b[A\n",
      " 19%|#8        | 14/75 [00:00<00:00, 64.85it/s]\u001b[A\n",
      " 29%|##9       | 22/75 [00:00<00:00, 67.90it/s]\u001b[A\n",
      " 40%|####      | 30/75 [00:00<00:00, 69.26it/s]\u001b[A\n",
      " 48%|####8     | 36/75 [00:00<00:00, 60.85it/s]\u001b[A\n",
      " 56%|#####6    | 42/75 [00:00<00:00, 59.03it/s]\u001b[A\n",
      " 65%|######5   | 49/75 [00:00<00:00, 60.49it/s]\u001b[A\n",
      " 77%|#######7  | 58/75 [00:00<00:00, 66.42it/s]\u001b[A\n",
      " 89%|########9 | 67/75 [00:00<00:00, 70.57it/s]\u001b[A\n",
      " 48%|████▊     | 412/858 [00:21<00:57,  7.69it/s]A"
     ]
    },
    {
     "name": "stdout",
     "output_type": "stream",
     "text": [
      "{'ade': 0.44225743, 'fde': 0.9800283}\n",
      "\t last loss:0.000285296, eval on validation:['ade: 0.44225743', 'fde: 0.9800283'], (best ade:0.44027826 at step 59700) \n"
     ]
    },
    {
     "name": "stderr",
     "output_type": "stream",
     "text": [
      " 82%|████████▏ | 705/858 [00:35<00:06, 22.15it/s]\n",
      "  0%|          | 0/75 [00:00<?, ?it/s]"
     ]
    },
    {
     "name": "stdout",
     "output_type": "stream",
     "text": [
      "\tsaving model 64200...\n",
      "\tdone\n",
      "Evaluating\n"
     ]
    },
    {
     "name": "stderr",
     "output_type": "stream",
     "text": [
      "\u001b[A\n",
      " 11%|#         | 8/75 [00:00<00:00, 77.88it/s]\u001b[A\n",
      " 21%|##1       | 16/75 [00:00<00:00, 77.95it/s]\u001b[A\n",
      " 32%|###2      | 24/75 [00:00<00:00, 78.07it/s]\u001b[A\n",
      " 44%|####4     | 33/75 [00:00<00:00, 78.79it/s]\u001b[A\n",
      " 56%|#####6    | 42/75 [00:00<00:00, 80.23it/s]\u001b[A\n",
      " 68%|######8   | 51/75 [00:00<00:00, 82.58it/s]\u001b[A\n",
      " 80%|########  | 60/75 [00:00<00:00, 82.94it/s]\u001b[A\n",
      " 92%|#########2| 69/75 [00:00<00:00, 83.42it/s]\u001b[A\n",
      " 83%|████████▎ | 711/858 [00:36<00:18,  8.16it/s]A"
     ]
    },
    {
     "name": "stdout",
     "output_type": "stream",
     "text": [
      "{'ade': 0.44124493, 'fde': 0.9769721}\n",
      "\t last loss:0.000322728, eval on validation:['ade: 0.44124493', 'fde: 0.9769721'], (best ade:0.44027826 at step 59700) \n"
     ]
    },
    {
     "name": "stderr",
     "output_type": "stream",
     "text": [
      "100%|██████████| 858/858 [00:42<00:00, 19.21it/s]\n",
      "  0%|          | 3/858 [00:00<00:38, 22.06it/s]"
     ]
    },
    {
     "name": "stdout",
     "output_type": "stream",
     "text": [
      "('Epoca 76.', 'lr:', 4.8924985e-06)\n"
     ]
    },
    {
     "name": "stderr",
     "output_type": "stream",
     "text": [
      " 17%|█▋        | 147/858 [00:06<00:30, 23.26it/s]\n",
      "  0%|          | 0/75 [00:00<?, ?it/s]\u001b[A"
     ]
    },
    {
     "name": "stdout",
     "output_type": "stream",
     "text": [
      "\tsaving model 64500...\n",
      "\tdone\n",
      "Evaluating\n"
     ]
    },
    {
     "name": "stderr",
     "output_type": "stream",
     "text": [
      "\n",
      " 12%|#2        | 9/75 [00:00<00:00, 86.07it/s]\u001b[A\n",
      " 24%|##4       | 18/75 [00:00<00:00, 85.64it/s]\u001b[A\n",
      " 36%|###6      | 27/75 [00:00<00:00, 85.62it/s]\u001b[A\n",
      " 48%|####8     | 36/75 [00:00<00:00, 85.99it/s]\u001b[A\n",
      " 59%|#####8    | 44/75 [00:00<00:00, 82.24it/s]\u001b[A\n",
      " 71%|#######   | 53/75 [00:00<00:00, 82.70it/s]\u001b[A\n",
      " 81%|########1 | 61/75 [00:00<00:00, 81.54it/s]\u001b[A\n",
      " 92%|#########2| 69/75 [00:00<00:00, 79.00it/s]\u001b[A\n",
      " 18%|█▊        | 153/858 [00:07<01:26,  8.12it/s]A"
     ]
    },
    {
     "name": "stdout",
     "output_type": "stream",
     "text": [
      "{'ade': 0.44264242, 'fde': 0.9806253}\n",
      "\t last loss:0.000333747, eval on validation:['ade: 0.44264242', 'fde: 0.9806253'], (best ade:0.44027826 at step 59700) \n"
     ]
    },
    {
     "name": "stderr",
     "output_type": "stream",
     "text": [
      " 52%|█████▏    | 449/858 [00:19<00:16, 25.02it/s]\n",
      "  0%|          | 0/75 [00:00<?, ?it/s]\u001b[A"
     ]
    },
    {
     "name": "stdout",
     "output_type": "stream",
     "text": [
      "\tsaving model 64800...\n",
      "\tdone\n",
      "Evaluating\n"
     ]
    },
    {
     "name": "stderr",
     "output_type": "stream",
     "text": [
      "\n",
      " 13%|#3        | 10/75 [00:00<00:00, 97.74it/s]\u001b[A\n",
      " 27%|##6       | 20/75 [00:00<00:00, 97.30it/s]\u001b[A\n",
      " 40%|####      | 30/75 [00:00<00:00, 96.24it/s]\u001b[A\n",
      " 52%|#####2    | 39/75 [00:00<00:00, 92.00it/s]\u001b[A\n",
      " 65%|######5   | 49/75 [00:00<00:00, 93.37it/s]\u001b[A\n",
      " 79%|#######8  | 59/75 [00:00<00:00, 94.39it/s]\u001b[A\n",
      " 92%|#########2| 69/75 [00:00<00:00, 95.18it/s]\u001b[A\n",
      " 53%|█████▎    | 452/858 [00:20<00:56,  7.18it/s]A"
     ]
    },
    {
     "name": "stdout",
     "output_type": "stream",
     "text": [
      "{'ade': 0.44208232, 'fde': 0.9799075}\n",
      "\t last loss:0.000255515, eval on validation:['ade: 0.44208232', 'fde: 0.9799075'], (best ade:0.44027826 at step 59700) \n"
     ]
    },
    {
     "name": "stderr",
     "output_type": "stream",
     "text": [
      " 87%|████████▋ | 749/858 [00:32<00:04, 23.11it/s]\n",
      "  0%|          | 0/75 [00:00<?, ?it/s]\u001b[A"
     ]
    },
    {
     "name": "stdout",
     "output_type": "stream",
     "text": [
      "\tsaving model 65100...\n",
      "\tdone\n",
      "Evaluating\n"
     ]
    },
    {
     "name": "stderr",
     "output_type": "stream",
     "text": [
      "\n",
      " 12%|#2        | 9/75 [00:00<00:00, 82.79it/s]\u001b[A\n",
      " 23%|##2       | 17/75 [00:00<00:00, 81.74it/s]\u001b[A\n",
      " 35%|###4      | 26/75 [00:00<00:00, 81.44it/s]\u001b[A\n",
      " 45%|####5     | 34/75 [00:00<00:00, 80.65it/s]\u001b[A\n",
      " 56%|#####6    | 42/75 [00:00<00:00, 79.77it/s]\u001b[A\n",
      " 68%|######8   | 51/75 [00:00<00:00, 80.07it/s]\u001b[A\n",
      " 79%|#######8  | 59/75 [00:00<00:00, 77.54it/s]\u001b[A\n",
      " 89%|########9 | 67/75 [00:00<00:00, 77.45it/s]\u001b[A\n",
      " 88%|████████▊ | 752/858 [00:34<00:16,  6.37it/s]A"
     ]
    },
    {
     "name": "stdout",
     "output_type": "stream",
     "text": [
      "{'ade': 0.44133285, 'fde': 0.9776886}\n",
      "\t last loss:0.000272516, eval on validation:['ade: 0.44133285', 'fde: 0.9776886'], (best ade:0.44027826 at step 59700) \n"
     ]
    },
    {
     "name": "stderr",
     "output_type": "stream",
     "text": [
      "100%|██████████| 858/858 [00:38<00:00, 22.38it/s]\n",
      "  0%|          | 2/858 [00:00<00:57, 14.80it/s]"
     ]
    },
    {
     "name": "stdout",
     "output_type": "stream",
     "text": [
      "('Epoca 77.', 'lr:', 4.158624e-06)\n"
     ]
    },
    {
     "name": "stderr",
     "output_type": "stream",
     "text": [
      " 22%|██▏       | 191/858 [00:07<00:26, 25.00it/s]\n",
      "  0%|          | 0/75 [00:00<?, ?it/s]\u001b[A"
     ]
    },
    {
     "name": "stdout",
     "output_type": "stream",
     "text": [
      "\tsaving model 65400...\n",
      "\tdone\n",
      "Evaluating\n"
     ]
    },
    {
     "name": "stderr",
     "output_type": "stream",
     "text": [
      "\n",
      " 13%|#3        | 10/75 [00:00<00:00, 94.57it/s]\u001b[A\n",
      " 27%|##6       | 20/75 [00:00<00:00, 93.82it/s]\u001b[A\n",
      " 40%|####      | 30/75 [00:00<00:00, 93.54it/s]\u001b[A\n",
      " 53%|#####3    | 40/75 [00:00<00:00, 94.48it/s]\u001b[A\n",
      " 67%|######6   | 50/75 [00:00<00:00, 94.82it/s]\u001b[A\n",
      " 80%|########  | 60/75 [00:00<00:00, 94.04it/s]\u001b[A\n",
      " 93%|#########3| 70/75 [00:00<00:00, 93.06it/s]\u001b[A\n",
      " 23%|██▎       | 194/858 [00:08<01:32,  7.15it/s]A"
     ]
    },
    {
     "name": "stdout",
     "output_type": "stream",
     "text": [
      "{'ade': 0.44178712, 'fde': 0.9784729}\n",
      "\t last loss:0.000260864, eval on validation:['ade: 0.44178712', 'fde: 0.9784729'], (best ade:0.44027826 at step 59700) \n"
     ]
    },
    {
     "name": "stderr",
     "output_type": "stream",
     "text": [
      " 57%|█████▋    | 490/858 [00:20<00:18, 19.37it/s]\n",
      "  0%|          | 0/75 [00:00<?, ?it/s]\u001b[A"
     ]
    },
    {
     "name": "stdout",
     "output_type": "stream",
     "text": [
      "\tsaving model 65700...\n",
      "\tdone\n",
      "Evaluating\n"
     ]
    },
    {
     "name": "stderr",
     "output_type": "stream",
     "text": [
      "\n",
      " 12%|#2        | 9/75 [00:00<00:00, 87.82it/s]\u001b[A\n",
      " 23%|##2       | 17/75 [00:00<00:00, 84.13it/s]\u001b[A\n",
      " 35%|###4      | 26/75 [00:00<00:00, 83.74it/s]\u001b[A\n",
      " 45%|####5     | 34/75 [00:00<00:00, 80.85it/s]\u001b[A\n",
      " 57%|#####7    | 43/75 [00:00<00:00, 82.18it/s]\u001b[A\n",
      " 69%|######9   | 52/75 [00:00<00:00, 83.76it/s]\u001b[A\n",
      " 81%|########1 | 61/75 [00:00<00:00, 84.59it/s]\u001b[A\n",
      " 93%|#########3| 70/75 [00:00<00:00, 84.97it/s]\u001b[A\n",
      " 58%|█████▊    | 496/858 [00:22<00:44,  8.11it/s]A"
     ]
    },
    {
     "name": "stdout",
     "output_type": "stream",
     "text": [
      "{'ade': 0.4415741, 'fde': 0.9788704}\n",
      "\t last loss:0.000575792, eval on validation:['ade: 0.4415741', 'fde: 0.9788704'], (best ade:0.44027826 at step 59700) \n"
     ]
    },
    {
     "name": "stderr",
     "output_type": "stream",
     "text": [
      " 92%|█████████▏| 791/858 [00:35<00:02, 25.63it/s]\n",
      "  0%|          | 0/75 [00:00<?, ?it/s]\u001b[A"
     ]
    },
    {
     "name": "stdout",
     "output_type": "stream",
     "text": [
      "\tsaving model 66000...\n",
      "\tdone\n",
      "Evaluating\n"
     ]
    },
    {
     "name": "stderr",
     "output_type": "stream",
     "text": [
      "\n",
      " 11%|#         | 8/75 [00:00<00:00, 79.15it/s]\u001b[A\n",
      " 21%|##1       | 16/75 [00:00<00:00, 77.33it/s]\u001b[A\n",
      " 32%|###2      | 24/75 [00:00<00:00, 75.68it/s]\u001b[A\n",
      " 43%|####2     | 32/75 [00:00<00:00, 74.70it/s]\u001b[A\n",
      " 52%|#####2    | 39/75 [00:00<00:00, 72.65it/s]\u001b[A\n",
      " 63%|######2   | 47/75 [00:00<00:00, 72.84it/s]\u001b[A\n",
      " 73%|#######3  | 55/75 [00:00<00:00, 72.99it/s]\u001b[A\n",
      " 84%|########4 | 63/75 [00:00<00:00, 73.92it/s]\u001b[A\n",
      " 95%|#########4| 71/75 [00:00<00:00, 73.07it/s]\u001b[A\n",
      " 93%|█████████▎| 794/858 [00:36<00:10,  6.14it/s]A"
     ]
    },
    {
     "name": "stdout",
     "output_type": "stream",
     "text": [
      "{'ade': 0.44048032, 'fde': 0.97540563}\n",
      "\t last loss:0.000260341, eval on validation:['ade: 0.44048032', 'fde: 0.97540563'], (best ade:0.44027826 at step 59700) \n"
     ]
    },
    {
     "name": "stderr",
     "output_type": "stream",
     "text": [
      "100%|██████████| 858/858 [00:39<00:00, 21.78it/s]\n",
      "  0%|          | 1/858 [00:00<01:42,  8.35it/s]"
     ]
    },
    {
     "name": "stdout",
     "output_type": "stream",
     "text": [
      "('Epoca 78.', 'lr:', 4.158624e-06)\n"
     ]
    },
    {
     "name": "stderr",
     "output_type": "stream",
     "text": [
      " 27%|██▋       | 231/858 [00:09<00:32, 19.35it/s]"
     ]
    },
    {
     "name": "stdout",
     "output_type": "stream",
     "text": [
      "\tsaving model 66300...\n"
     ]
    },
    {
     "name": "stderr",
     "output_type": "stream",
     "text": [
      "\n",
      "  0%|          | 0/75 [00:00<?, ?it/s]\u001b[A\n",
      "  9%|9         | 7/75 [00:00<00:01, 63.71it/s]\u001b[A"
     ]
    },
    {
     "name": "stdout",
     "output_type": "stream",
     "text": [
      "\tdone\n",
      "Evaluating\n"
     ]
    },
    {
     "name": "stderr",
     "output_type": "stream",
     "text": [
      "\n",
      " 17%|#7        | 13/75 [00:00<00:01, 61.68it/s]\u001b[A\n",
      " 24%|##4       | 18/75 [00:00<00:01, 56.92it/s]\u001b[A\n",
      " 32%|###2      | 24/75 [00:00<00:00, 56.81it/s]\u001b[A\n",
      " 39%|###8      | 29/75 [00:00<00:00, 54.19it/s]\u001b[A\n",
      " 47%|####6     | 35/75 [00:00<00:00, 55.62it/s]\u001b[A\n",
      " 55%|#####4    | 41/75 [00:00<00:00, 56.25it/s]\u001b[A\n",
      " 63%|######2   | 47/75 [00:00<00:00, 56.38it/s]\u001b[A\n",
      " 71%|#######   | 53/75 [00:00<00:00, 56.25it/s]\u001b[A\n",
      " 79%|#######8  | 59/75 [00:01<00:00, 56.98it/s]\u001b[A\n",
      " 87%|########6 | 65/75 [00:01<00:00, 56.36it/s]\u001b[A\n",
      " 95%|#########4| 71/75 [00:01<00:00, 57.23it/s]\u001b[A\n",
      " 28%|██▊       | 236/858 [00:11<01:41,  6.13it/s]A"
     ]
    },
    {
     "name": "stdout",
     "output_type": "stream",
     "text": [
      "{'ade': 0.44221777, 'fde': 0.9798582}\n",
      "\t last loss:0.000403151, eval on validation:['ade: 0.44221777', 'fde: 0.9798582'], (best ade:0.44027826 at step 59700) \n"
     ]
    },
    {
     "name": "stderr",
     "output_type": "stream",
     "text": [
      " 62%|██████▏   | 532/858 [00:23<00:12, 27.15it/s]\n",
      "  0%|          | 0/75 [00:00<?, ?it/s]\u001b[A"
     ]
    },
    {
     "name": "stdout",
     "output_type": "stream",
     "text": [
      "\tsaving model 66600...\n",
      "\tdone\n",
      "Evaluating\n"
     ]
    },
    {
     "name": "stderr",
     "output_type": "stream",
     "text": [
      "\n",
      " 13%|#3        | 10/75 [00:00<00:00, 98.43it/s]\u001b[A\n",
      " 27%|##6       | 20/75 [00:00<00:00, 97.78it/s]\u001b[A\n",
      " 39%|###8      | 29/75 [00:00<00:00, 93.39it/s]\u001b[A\n",
      " 52%|#####2    | 39/75 [00:00<00:00, 93.07it/s]\u001b[A\n",
      " 64%|######4   | 48/75 [00:00<00:00, 91.59it/s]\u001b[A\n",
      " 76%|#######6  | 57/75 [00:00<00:00, 90.63it/s]\u001b[A\n",
      " 88%|########8 | 66/75 [00:00<00:00, 90.00it/s]\u001b[A\n",
      " 63%|██████▎   | 538/858 [00:24<00:34,  9.31it/s]A"
     ]
    },
    {
     "name": "stdout",
     "output_type": "stream",
     "text": [
      "{'ade': 0.4430584, 'fde': 0.98306125}\n",
      "\t last loss:0.000408587, eval on validation:['ade: 0.4430584', 'fde: 0.98306125'], (best ade:0.44027826 at step 59700) \n"
     ]
    },
    {
     "name": "stderr",
     "output_type": "stream",
     "text": [
      " 97%|█████████▋| 832/858 [00:36<00:01, 23.78it/s]"
     ]
    },
    {
     "name": "stdout",
     "output_type": "stream",
     "text": [
      "\tsaving model 66900...\n"
     ]
    },
    {
     "name": "stderr",
     "output_type": "stream",
     "text": [
      "\n",
      "  0%|          | 0/75 [00:00<?, ?it/s]\u001b[A\n",
      "  9%|9         | 7/75 [00:00<00:01, 67.90it/s]\u001b[A"
     ]
    },
    {
     "name": "stdout",
     "output_type": "stream",
     "text": [
      "\tdone\n",
      "Evaluating\n"
     ]
    },
    {
     "name": "stderr",
     "output_type": "stream",
     "text": [
      "\n",
      " 19%|#8        | 14/75 [00:00<00:00, 67.10it/s]\u001b[A\n",
      " 28%|##8       | 21/75 [00:00<00:00, 67.79it/s]\u001b[A\n",
      " 37%|###7      | 28/75 [00:00<00:00, 67.67it/s]\u001b[A\n",
      " 47%|####6     | 35/75 [00:00<00:00, 66.97it/s]\u001b[A\n",
      " 55%|#####4    | 41/75 [00:00<00:00, 63.39it/s]\u001b[A\n",
      " 64%|######4   | 48/75 [00:00<00:00, 63.89it/s]\u001b[A\n",
      " 73%|#######3  | 55/75 [00:00<00:00, 64.77it/s]\u001b[A\n",
      " 83%|########2 | 62/75 [00:00<00:00, 65.82it/s]\u001b[A\n",
      " 92%|#########2| 69/75 [00:01<00:00, 66.79it/s]\u001b[A\n",
      " 97%|█████████▋| 835/858 [00:37<00:04,  5.54it/s]A"
     ]
    },
    {
     "name": "stdout",
     "output_type": "stream",
     "text": [
      "{'ade': 0.4424101, 'fde': 0.98072696}\n",
      "\t last loss:0.000217385, eval on validation:['ade: 0.4424101', 'fde: 0.98072696'], (best ade:0.44027826 at step 59700) \n"
     ]
    },
    {
     "name": "stderr",
     "output_type": "stream",
     "text": [
      "100%|██████████| 858/858 [00:38<00:00, 16.93it/s]\n",
      "  0%|          | 2/858 [00:00<00:52, 16.30it/s]"
     ]
    },
    {
     "name": "stdout",
     "output_type": "stream",
     "text": [
      "('Epoca 79.', 'lr:', 3.5348305e-06)\n"
     ]
    },
    {
     "name": "stderr",
     "output_type": "stream",
     "text": [
      " 32%|███▏      | 275/858 [00:12<00:22, 25.85it/s]\n",
      "  0%|          | 0/75 [00:00<?, ?it/s]\u001b[A"
     ]
    },
    {
     "name": "stdout",
     "output_type": "stream",
     "text": [
      "\tsaving model 67200...\n",
      "\tdone\n",
      "Evaluating\n"
     ]
    },
    {
     "name": "stderr",
     "output_type": "stream",
     "text": [
      "\n",
      " 13%|#3        | 10/75 [00:00<00:00, 94.70it/s]\u001b[A\n",
      " 27%|##6       | 20/75 [00:00<00:00, 94.73it/s]\u001b[A\n",
      " 40%|####      | 30/75 [00:00<00:00, 94.81it/s]\u001b[A\n",
      " 53%|#####3    | 40/75 [00:00<00:00, 94.85it/s]\u001b[A\n",
      " 67%|######6   | 50/75 [00:00<00:00, 94.85it/s]\u001b[A\n",
      " 80%|########  | 60/75 [00:00<00:00, 94.70it/s]\u001b[A\n",
      " 92%|#########2| 69/75 [00:00<00:00, 91.09it/s]\u001b[A\n",
      " 32%|███▏      | 278/858 [00:13<01:19,  7.27it/s]A"
     ]
    },
    {
     "name": "stdout",
     "output_type": "stream",
     "text": [
      "{'ade': 0.44186652, 'fde': 0.9791369}\n",
      "\t last loss:0.000363183, eval on validation:['ade: 0.44186652', 'fde: 0.9791369'], (best ade:0.44027826 at step 59700) \n"
     ]
    },
    {
     "name": "stderr",
     "output_type": "stream",
     "text": [
      " 67%|██████▋   | 575/858 [00:25<00:10, 26.35it/s]\n",
      "  0%|          | 0/75 [00:00<?, ?it/s]\u001b[A"
     ]
    },
    {
     "name": "stdout",
     "output_type": "stream",
     "text": [
      "\tsaving model 67500...\n",
      "\tdone\n",
      "Evaluating\n"
     ]
    },
    {
     "name": "stderr",
     "output_type": "stream",
     "text": [
      "\n",
      " 13%|#3        | 10/75 [00:00<00:00, 97.19it/s]\u001b[A\n",
      " 25%|##5       | 19/75 [00:00<00:00, 93.08it/s]\u001b[A\n",
      " 37%|###7      | 28/75 [00:00<00:00, 91.80it/s]\u001b[A\n",
      " 51%|#####     | 38/75 [00:00<00:00, 93.24it/s]\u001b[A\n",
      " 64%|######4   | 48/75 [00:00<00:00, 93.89it/s]\u001b[A\n",
      " 77%|#######7  | 58/75 [00:00<00:00, 93.81it/s]\u001b[A\n",
      " 91%|######### | 68/75 [00:00<00:00, 94.73it/s]\u001b[A\n",
      " 67%|██████▋   | 578/858 [00:26<00:37,  7.38it/s]A"
     ]
    },
    {
     "name": "stdout",
     "output_type": "stream",
     "text": [
      "{'ade': 0.44191983, 'fde': 0.9792369}\n",
      "\t last loss:0.000319704, eval on validation:['ade: 0.44191983', 'fde: 0.9792369'], (best ade:0.44027826 at step 59700) \n"
     ]
    },
    {
     "name": "stderr",
     "output_type": "stream",
     "text": [
      "100%|██████████| 858/858 [00:37<00:00, 22.74it/s]\n",
      "  0%|          | 3/858 [00:00<00:37, 23.01it/s]"
     ]
    },
    {
     "name": "stdout",
     "output_type": "stream",
     "text": [
      "('Epoca 80.', 'lr:', 3.5348305e-06)\n"
     ]
    },
    {
     "name": "stderr",
     "output_type": "stream",
     "text": [
      "  2%|▏         | 15/858 [00:00<00:35, 23.53it/s]\n",
      "  0%|          | 0/75 [00:00<?, ?it/s]\u001b[A"
     ]
    },
    {
     "name": "stdout",
     "output_type": "stream",
     "text": [
      "\tsaving model 67800...\n",
      "\tdone\n",
      "Evaluating\n"
     ]
    },
    {
     "name": "stderr",
     "output_type": "stream",
     "text": [
      "\n",
      " 12%|#2        | 9/75 [00:00<00:00, 89.93it/s]\u001b[A\n",
      " 24%|##4       | 18/75 [00:00<00:00, 89.33it/s]\u001b[A\n",
      " 36%|###6      | 27/75 [00:00<00:00, 89.28it/s]\u001b[A\n",
      " 48%|####8     | 36/75 [00:00<00:00, 88.18it/s]\u001b[A\n",
      " 60%|######    | 45/75 [00:00<00:00, 87.85it/s]\u001b[A\n",
      " 71%|#######   | 53/75 [00:00<00:00, 84.32it/s]\u001b[A\n",
      " 83%|########2 | 62/75 [00:00<00:00, 84.51it/s]\u001b[A\n",
      " 95%|#########4| 71/75 [00:00<00:00, 85.56it/s]\u001b[A\n",
      "  2%|▏         | 21/858 [00:01<01:36,  8.66it/s][A"
     ]
    },
    {
     "name": "stdout",
     "output_type": "stream",
     "text": [
      "{'ade': 0.44199833, 'fde': 0.97995067}\n",
      "\t last loss:0.000358623, eval on validation:['ade: 0.44199833', 'fde: 0.97995067'], (best ade:0.44027826 at step 59700) \n"
     ]
    },
    {
     "name": "stderr",
     "output_type": "stream",
     "text": [
      " 37%|███▋      | 315/858 [00:14<00:22, 23.86it/s]\n",
      "  0%|          | 0/75 [00:00<?, ?it/s]\u001b[A"
     ]
    },
    {
     "name": "stdout",
     "output_type": "stream",
     "text": [
      "\tsaving model 68100...\n",
      "\tdone\n",
      "Evaluating\n"
     ]
    },
    {
     "name": "stderr",
     "output_type": "stream",
     "text": [
      "\n",
      " 11%|#         | 8/75 [00:00<00:00, 79.39it/s]\u001b[A\n",
      " 23%|##2       | 17/75 [00:00<00:00, 80.44it/s]\u001b[A\n",
      " 35%|###4      | 26/75 [00:00<00:00, 81.68it/s]\u001b[A\n",
      " 47%|####6     | 35/75 [00:00<00:00, 81.67it/s]\u001b[A\n",
      " 56%|#####6    | 42/75 [00:00<00:00, 76.86it/s]\u001b[A\n",
      " 67%|######6   | 50/75 [00:00<00:00, 76.66it/s]\u001b[A\n",
      " 80%|########  | 60/75 [00:00<00:00, 81.07it/s]\u001b[A\n",
      " 93%|#########3| 70/75 [00:00<00:00, 84.34it/s]\u001b[A\n",
      " 37%|███▋      | 321/858 [00:16<01:04,  8.38it/s]A"
     ]
    },
    {
     "name": "stdout",
     "output_type": "stream",
     "text": [
      "{'ade': 0.44180045, 'fde': 0.97926843}\n",
      "\t last loss:0.001071950, eval on validation:['ade: 0.44180045', 'fde: 0.97926843'], (best ade:0.44027826 at step 59700) \n"
     ]
    },
    {
     "name": "stderr",
     "output_type": "stream",
     "text": [
      " 72%|███████▏  | 615/858 [00:28<00:10, 22.97it/s]"
     ]
    },
    {
     "name": "stdout",
     "output_type": "stream",
     "text": [
      "\tsaving model 68400...\n"
     ]
    },
    {
     "name": "stderr",
     "output_type": "stream",
     "text": [
      "\n",
      "  0%|          | 0/75 [00:00<?, ?it/s]\u001b[A\n",
      " 11%|#         | 8/75 [00:00<00:00, 79.84it/s]\u001b[A"
     ]
    },
    {
     "name": "stdout",
     "output_type": "stream",
     "text": [
      "\tdone\n",
      "Evaluating\n"
     ]
    },
    {
     "name": "stderr",
     "output_type": "stream",
     "text": [
      "\n",
      " 20%|##        | 15/75 [00:00<00:00, 74.45it/s]\u001b[A\n",
      " 31%|###       | 23/75 [00:00<00:00, 75.00it/s]\u001b[A\n",
      " 41%|####1     | 31/75 [00:00<00:00, 76.05it/s]\u001b[A\n",
      " 51%|#####     | 38/75 [00:00<00:00, 73.39it/s]\u001b[A\n",
      " 61%|######1   | 46/75 [00:00<00:00, 73.54it/s]\u001b[A\n",
      " 72%|#######2  | 54/75 [00:00<00:00, 74.49it/s]\u001b[A\n",
      " 84%|########4 | 63/75 [00:00<00:00, 75.74it/s]\u001b[A\n",
      " 95%|#########4| 71/75 [00:00<00:00, 70.01it/s]\u001b[A\n",
      " 72%|███████▏  | 621/858 [00:29<00:31,  7.59it/s]A"
     ]
    },
    {
     "name": "stdout",
     "output_type": "stream",
     "text": [
      "{'ade': 0.44079092, 'fde': 0.97614706}\n",
      "\t last loss:0.000379901, eval on validation:['ade: 0.44079092', 'fde: 0.97614706'], (best ade:0.44027826 at step 59700) \n"
     ]
    },
    {
     "name": "stderr",
     "output_type": "stream",
     "text": [
      "100%|██████████| 858/858 [00:41<00:00, 22.66it/s]\n",
      "  0%|          | 3/858 [00:00<00:47, 17.94it/s]"
     ]
    },
    {
     "name": "stdout",
     "output_type": "stream",
     "text": [
      "('Epoca 81.', 'lr:', 3.004606e-06)\n"
     ]
    },
    {
     "name": "stderr",
     "output_type": "stream",
     "text": [
      "  7%|▋         | 57/858 [00:03<00:54, 14.60it/s]\n",
      "  0%|          | 0/75 [00:00<?, ?it/s]\u001b[A"
     ]
    },
    {
     "name": "stdout",
     "output_type": "stream",
     "text": [
      "\tsaving model 68700...\n",
      "\tdone\n",
      "Evaluating\n"
     ]
    },
    {
     "name": "stderr",
     "output_type": "stream",
     "text": [
      "\n",
      "  9%|9         | 7/75 [00:00<00:00, 69.73it/s]\u001b[A\n",
      " 17%|#7        | 13/75 [00:00<00:00, 64.65it/s]\u001b[A\n",
      " 25%|##5       | 19/75 [00:00<00:00, 62.90it/s]\u001b[A\n",
      " 35%|###4      | 26/75 [00:00<00:00, 63.13it/s]\u001b[A\n",
      " 44%|####4     | 33/75 [00:00<00:00, 64.61it/s]\u001b[A\n",
      " 56%|#####6    | 42/75 [00:00<00:00, 70.09it/s]\u001b[A\n",
      " 69%|######9   | 52/75 [00:00<00:00, 75.41it/s]\u001b[A\n",
      " 81%|########1 | 61/75 [00:00<00:00, 78.95it/s]\u001b[A\n",
      " 93%|#########3| 70/75 [00:00<00:00, 81.00it/s]\u001b[A\n",
      "  7%|▋         | 62/858 [00:04<01:52,  7.10it/s][A"
     ]
    },
    {
     "name": "stdout",
     "output_type": "stream",
     "text": [
      "{'ade': 0.44200933, 'fde': 0.9792932}\n",
      "\t last loss:0.000295266, eval on validation:['ade: 0.44200933', 'fde: 0.9792932'], (best ade:0.44027826 at step 59700) \n"
     ]
    },
    {
     "name": "stderr",
     "output_type": "stream",
     "text": [
      " 42%|████▏     | 358/858 [00:17<00:19, 25.68it/s]\n",
      "  0%|          | 0/75 [00:00<?, ?it/s]\u001b[A"
     ]
    },
    {
     "name": "stdout",
     "output_type": "stream",
     "text": [
      "\tsaving model 69000...\n",
      "\tdone\n",
      "Evaluating\n"
     ]
    },
    {
     "name": "stderr",
     "output_type": "stream",
     "text": [
      "\n",
      " 11%|#         | 8/75 [00:00<00:00, 79.21it/s]\u001b[A\n",
      " 21%|##1       | 16/75 [00:00<00:00, 78.54it/s]\u001b[A\n",
      " 32%|###2      | 24/75 [00:00<00:00, 78.78it/s]\u001b[A\n",
      " 44%|####4     | 33/75 [00:00<00:00, 80.63it/s]\u001b[A\n",
      " 56%|#####6    | 42/75 [00:00<00:00, 81.98it/s]\u001b[A\n",
      " 68%|######8   | 51/75 [00:00<00:00, 82.79it/s]\u001b[A\n",
      " 80%|########  | 60/75 [00:00<00:00, 83.63it/s]\u001b[A\n",
      " 92%|#########2| 69/75 [00:00<00:00, 83.85it/s]\u001b[A\n",
      " 42%|████▏     | 364/858 [00:18<00:57,  8.58it/s]A"
     ]
    },
    {
     "name": "stdout",
     "output_type": "stream",
     "text": [
      "{'ade': 0.44239682, 'fde': 0.9808925}\n",
      "\t last loss:0.000275035, eval on validation:['ade: 0.44239682', 'fde: 0.9808925'], (best ade:0.44027826 at step 59700) \n"
     ]
    },
    {
     "name": "stderr",
     "output_type": "stream",
     "text": [
      " 77%|███████▋  | 658/858 [00:32<00:09, 21.19it/s]\n",
      "  0%|          | 0/75 [00:00<?, ?it/s]\u001b[A"
     ]
    },
    {
     "name": "stdout",
     "output_type": "stream",
     "text": [
      "\tsaving model 69300...\n",
      "\tdone\n",
      "Evaluating\n"
     ]
    },
    {
     "name": "stderr",
     "output_type": "stream",
     "text": [
      "\n",
      " 13%|#3        | 10/75 [00:00<00:00, 91.57it/s]\u001b[A\n",
      " 25%|##5       | 19/75 [00:00<00:00, 90.23it/s]\u001b[A\n",
      " 37%|###7      | 28/75 [00:00<00:00, 89.56it/s]\u001b[A\n",
      " 49%|####9     | 37/75 [00:00<00:00, 89.22it/s]\u001b[A\n",
      " 60%|######    | 45/75 [00:00<00:00, 86.22it/s]\u001b[A\n",
      " 72%|#######2  | 54/75 [00:00<00:00, 85.39it/s]\u001b[A\n",
      " 84%|########4 | 63/75 [00:00<00:00, 86.38it/s]\u001b[A\n",
      " 96%|#########6| 72/75 [00:00<00:00, 86.94it/s]\u001b[A\n",
      " 77%|███████▋  | 664/858 [00:33<00:22,  8.53it/s]A"
     ]
    },
    {
     "name": "stdout",
     "output_type": "stream",
     "text": [
      "{'ade': 0.4415095, 'fde': 0.9780766}\n",
      "\t last loss:0.000330330, eval on validation:['ade: 0.4415095', 'fde: 0.9780766'], (best ade:0.44027826 at step 59700) \n"
     ]
    },
    {
     "name": "stderr",
     "output_type": "stream",
     "text": [
      "100%|██████████| 858/858 [00:40<00:00, 20.97it/s]\n",
      "  0%|          | 1/858 [00:00<01:31,  9.35it/s]"
     ]
    },
    {
     "name": "stdout",
     "output_type": "stream",
     "text": [
      "('Epoca 82.', 'lr:', 3.004606e-06)\n"
     ]
    },
    {
     "name": "stderr",
     "output_type": "stream",
     "text": [
      " 12%|█▏        | 100/858 [00:04<00:35, 21.46it/s]"
     ]
    },
    {
     "name": "stdout",
     "output_type": "stream",
     "text": [
      "\tsaving model 69600...\n"
     ]
    },
    {
     "name": "stderr",
     "output_type": "stream",
     "text": [
      "\n",
      "  0%|          | 0/75 [00:00<?, ?it/s]\u001b[A\n",
      "  8%|8         | 6/75 [00:00<00:01, 57.63it/s]\u001b[A"
     ]
    },
    {
     "name": "stdout",
     "output_type": "stream",
     "text": [
      "\tdone\n",
      "Evaluating\n"
     ]
    },
    {
     "name": "stderr",
     "output_type": "stream",
     "text": [
      "\n",
      " 17%|#7        | 13/75 [00:00<00:01, 59.83it/s]\u001b[A\n",
      " 28%|##8       | 21/75 [00:00<00:00, 62.86it/s]\u001b[A\n",
      " 39%|###8      | 29/75 [00:00<00:00, 65.99it/s]\u001b[A\n",
      " 49%|####9     | 37/75 [00:00<00:00, 69.63it/s]\u001b[A\n",
      " 60%|######    | 45/75 [00:00<00:00, 72.00it/s]\u001b[A\n",
      " 72%|#######2  | 54/75 [00:00<00:00, 74.24it/s]\u001b[A\n",
      " 84%|########4 | 63/75 [00:00<00:00, 76.13it/s]\u001b[A\n",
      " 96%|#########6| 72/75 [00:00<00:00, 77.58it/s]\u001b[A\n",
      " 12%|█▏        | 103/858 [00:05<02:08,  5.86it/s]A"
     ]
    },
    {
     "name": "stdout",
     "output_type": "stream",
     "text": [
      "{'ade': 0.44225863, 'fde': 0.980503}\n",
      "\t last loss:0.000234382, eval on validation:['ade: 0.44225863', 'fde: 0.980503'], (best ade:0.44027826 at step 59700) \n"
     ]
    },
    {
     "name": "stderr",
     "output_type": "stream",
     "text": [
      " 47%|████▋     | 401/858 [00:18<00:29, 15.39it/s]"
     ]
    },
    {
     "name": "stdout",
     "output_type": "stream",
     "text": [
      "\tsaving model 69900...\n"
     ]
    },
    {
     "name": "stderr",
     "output_type": "stream",
     "text": [
      "\n",
      "  0%|          | 0/75 [00:00<?, ?it/s]\u001b[A\n",
      "  5%|5         | 4/75 [00:00<00:01, 35.54it/s]\u001b[A"
     ]
    },
    {
     "name": "stdout",
     "output_type": "stream",
     "text": [
      "\tdone\n",
      "Evaluating\n"
     ]
    },
    {
     "name": "stderr",
     "output_type": "stream",
     "text": [
      "\n",
      " 12%|#2        | 9/75 [00:00<00:01, 38.41it/s]\u001b[A\n",
      " 23%|##2       | 17/75 [00:00<00:01, 45.18it/s]\u001b[A\n",
      " 35%|###4      | 26/75 [00:00<00:00, 51.87it/s]\u001b[A\n",
      " 47%|####6     | 35/75 [00:00<00:00, 58.86it/s]\u001b[A\n",
      " 56%|#####6    | 42/75 [00:00<00:00, 61.37it/s]\u001b[A\n",
      " 65%|######5   | 49/75 [00:00<00:00, 57.71it/s]\u001b[A\n",
      " 77%|#######7  | 58/75 [00:00<00:00, 63.80it/s]\u001b[A\n",
      " 88%|########8 | 66/75 [00:00<00:00, 66.66it/s]\u001b[A\n",
      " 97%|#########7| 73/75 [00:01<00:00, 52.99it/s]\u001b[A\n",
      " 47%|████▋     | 403/858 [00:20<02:10,  3.49it/s]A"
     ]
    },
    {
     "name": "stdout",
     "output_type": "stream",
     "text": [
      "{'ade': 0.440974, 'fde': 0.97639257}\n",
      "\t last loss:0.000594915, eval on validation:['ade: 0.440974', 'fde: 0.97639257'], (best ade:0.44027826 at step 59700) \n"
     ]
    },
    {
     "name": "stderr",
     "output_type": "stream",
     "text": [
      " 82%|████████▏ | 700/858 [00:32<00:06, 25.58it/s]\n",
      "  0%|          | 0/75 [00:00<?, ?it/s]\u001b[A"
     ]
    },
    {
     "name": "stdout",
     "output_type": "stream",
     "text": [
      "\tsaving model 70200...\n",
      "\tdone\n",
      "Evaluating\n"
     ]
    },
    {
     "name": "stderr",
     "output_type": "stream",
     "text": [
      "\n",
      " 13%|#3        | 10/75 [00:00<00:00, 96.24it/s]\u001b[A\n",
      " 25%|##5       | 19/75 [00:00<00:00, 93.20it/s]\u001b[A\n",
      " 37%|###7      | 28/75 [00:00<00:00, 91.12it/s]\u001b[A\n",
      " 49%|####9     | 37/75 [00:00<00:00, 90.29it/s]\u001b[A\n",
      " 61%|######1   | 46/75 [00:00<00:00, 89.66it/s]\u001b[A\n",
      " 73%|#######3  | 55/75 [00:00<00:00, 89.46it/s]\u001b[A\n",
      " 85%|########5 | 64/75 [00:00<00:00, 88.91it/s]\u001b[A\n",
      " 97%|#########7| 73/75 [00:00<00:00, 85.81it/s]\u001b[A\n",
      " 82%|████████▏ | 706/858 [00:34<00:17,  8.91it/s]A"
     ]
    },
    {
     "name": "stdout",
     "output_type": "stream",
     "text": [
      "{'ade': 0.4417754, 'fde': 0.9790171}\n",
      "\t last loss:0.000365890, eval on validation:['ade: 0.4417754', 'fde: 0.9790171'], (best ade:0.44027826 at step 59700) \n"
     ]
    },
    {
     "name": "stderr",
     "output_type": "stream",
     "text": [
      "100%|██████████| 858/858 [00:41<00:00, 10.51it/s]\n",
      "  0%|          | 1/858 [00:00<01:40,  8.51it/s]"
     ]
    },
    {
     "name": "stdout",
     "output_type": "stream",
     "text": [
      "('Epoca 83.', 'lr:', 2.5539152e-06)\n"
     ]
    },
    {
     "name": "stderr",
     "output_type": "stream",
     "text": [
      " 16%|█▋        | 141/858 [00:05<00:29, 23.96it/s]\n",
      "  0%|          | 0/75 [00:00<?, ?it/s]\u001b[A"
     ]
    },
    {
     "name": "stdout",
     "output_type": "stream",
     "text": [
      "\tsaving model 70500...\n",
      "\tdone\n",
      "Evaluating\n"
     ]
    },
    {
     "name": "stderr",
     "output_type": "stream",
     "text": [
      "\n",
      " 13%|#3        | 10/75 [00:00<00:00, 93.86it/s]\u001b[A\n",
      " 27%|##6       | 20/75 [00:00<00:00, 93.90it/s]\u001b[A\n",
      " 40%|####      | 30/75 [00:00<00:00, 93.87it/s]\u001b[A\n",
      " 53%|#####3    | 40/75 [00:00<00:00, 94.00it/s]\u001b[A\n",
      " 67%|######6   | 50/75 [00:00<00:00, 93.86it/s]\u001b[A\n",
      " 80%|########  | 60/75 [00:00<00:00, 94.20it/s]\u001b[A\n",
      " 93%|#########3| 70/75 [00:00<00:00, 94.17it/s]\u001b[A\n",
      " 17%|█▋        | 147/858 [00:07<01:17,  9.14it/s]A"
     ]
    },
    {
     "name": "stdout",
     "output_type": "stream",
     "text": [
      "{'ade': 0.44122118, 'fde': 0.9772437}\n",
      "\t last loss:0.000434740, eval on validation:['ade: 0.44122118', 'fde: 0.9772437'], (best ade:0.44027826 at step 59700) \n"
     ]
    },
    {
     "name": "stderr",
     "output_type": "stream",
     "text": [
      " 52%|█████▏    | 443/858 [00:20<00:19, 21.36it/s]\n",
      "  0%|          | 0/75 [00:00<?, ?it/s]\u001b[A"
     ]
    },
    {
     "name": "stdout",
     "output_type": "stream",
     "text": [
      "\tsaving model 70800...\n",
      "\tdone\n",
      "Evaluating\n"
     ]
    },
    {
     "name": "stderr",
     "output_type": "stream",
     "text": [
      "\n",
      " 12%|#2        | 9/75 [00:00<00:00, 80.51it/s]\u001b[A\n",
      " 24%|##4       | 18/75 [00:00<00:00, 80.52it/s]\u001b[A\n",
      " 36%|###6      | 27/75 [00:00<00:00, 82.75it/s]\u001b[A\n",
      " 48%|####8     | 36/75 [00:00<00:00, 83.86it/s]\u001b[A\n",
      " 59%|#####8    | 44/75 [00:00<00:00, 82.53it/s]\u001b[A\n",
      " 71%|#######   | 53/75 [00:00<00:00, 82.55it/s]\u001b[A\n",
      " 81%|########1 | 61/75 [00:00<00:00, 80.00it/s]\u001b[A\n",
      " 92%|#########2| 69/75 [00:00<00:00, 78.64it/s]\u001b[A\n",
      " 52%|█████▏    | 446/858 [00:21<01:06,  6.23it/s]A"
     ]
    },
    {
     "name": "stdout",
     "output_type": "stream",
     "text": [
      "{'ade': 0.440859, 'fde': 0.9764774}\n",
      "\t last loss:0.000323221, eval on validation:['ade: 0.440859', 'fde: 0.9764774'], (best ade:0.44027826 at step 59700) \n"
     ]
    },
    {
     "name": "stderr",
     "output_type": "stream",
     "text": [
      " 86%|████████▋ | 742/858 [00:34<00:04, 26.87it/s]\n",
      "  0%|          | 0/75 [00:00<?, ?it/s]\u001b[A"
     ]
    },
    {
     "name": "stdout",
     "output_type": "stream",
     "text": [
      "\tsaving model 71100...\n",
      "\tdone\n",
      "Evaluating\n"
     ]
    },
    {
     "name": "stderr",
     "output_type": "stream",
     "text": [
      "\n",
      " 13%|#3        | 10/75 [00:00<00:00, 92.63it/s]\u001b[A\n",
      " 27%|##6       | 20/75 [00:00<00:00, 93.24it/s]\u001b[A\n",
      " 37%|###7      | 28/75 [00:00<00:00, 87.60it/s]\u001b[A\n",
      " 51%|#####     | 38/75 [00:00<00:00, 89.19it/s]\u001b[A\n",
      " 60%|######    | 45/75 [00:00<00:00, 81.25it/s]\u001b[A\n",
      " 69%|######9   | 52/75 [00:00<00:00, 62.28it/s]\u001b[A\n",
      " 79%|#######8  | 59/75 [00:00<00:00, 62.61it/s]\u001b[A\n",
      " 88%|########8 | 66/75 [00:00<00:00, 62.94it/s]\u001b[A\n",
      " 97%|#########7| 73/75 [00:01<00:00, 61.58it/s]\u001b[A\n",
      " 87%|████████▋ | 745/858 [00:35<00:18,  6.02it/s]A"
     ]
    },
    {
     "name": "stdout",
     "output_type": "stream",
     "text": [
      "{'ade': 0.4415282, 'fde': 0.9782761}\n",
      "\t last loss:0.000537110, eval on validation:['ade: 0.4415282', 'fde: 0.9782761'], (best ade:0.44027826 at step 59700) \n"
     ]
    },
    {
     "name": "stderr",
     "output_type": "stream",
     "text": [
      "100%|██████████| 858/858 [00:42<00:00, 20.20it/s]\n",
      "  0%|          | 1/858 [00:00<01:44,  8.24it/s]"
     ]
    },
    {
     "name": "stdout",
     "output_type": "stream",
     "text": [
      "('Epoca 84.', 'lr:', 2.5539152e-06)\n"
     ]
    },
    {
     "name": "stderr",
     "output_type": "stream",
     "text": [
      " 21%|██▏       | 183/858 [00:08<00:39, 17.24it/s]"
     ]
    },
    {
     "name": "stdout",
     "output_type": "stream",
     "text": [
      "\tsaving model 71400...\n"
     ]
    },
    {
     "name": "stderr",
     "output_type": "stream",
     "text": [
      "\n",
      "  0%|          | 0/75 [00:00<?, ?it/s]\u001b[A\n",
      " 11%|#         | 8/75 [00:00<00:00, 72.87it/s]\u001b[A"
     ]
    },
    {
     "name": "stdout",
     "output_type": "stream",
     "text": [
      "\tdone\n",
      "Evaluating\n"
     ]
    },
    {
     "name": "stderr",
     "output_type": "stream",
     "text": [
      "\n",
      " 21%|##1       | 16/75 [00:00<00:00, 73.92it/s]\u001b[A\n",
      " 32%|###2      | 24/75 [00:00<00:00, 74.84it/s]\u001b[A\n",
      " 43%|####2     | 32/75 [00:00<00:00, 74.97it/s]\u001b[A\n",
      " 53%|#####3    | 40/75 [00:00<00:00, 75.69it/s]\u001b[A\n",
      " 64%|######4   | 48/75 [00:00<00:00, 73.88it/s]\u001b[A\n",
      " 73%|#######3  | 55/75 [00:00<00:00, 72.55it/s]\u001b[A\n",
      " 84%|########4 | 63/75 [00:00<00:00, 73.25it/s]\u001b[A\n",
      " 95%|#########4| 71/75 [00:00<00:00, 74.40it/s]\u001b[A\n",
      " 22%|██▏       | 189/858 [00:10<01:32,  7.22it/s]A"
     ]
    },
    {
     "name": "stdout",
     "output_type": "stream",
     "text": [
      "{'ade': 0.44161707, 'fde': 0.9784204}\n",
      "\t last loss:0.000286185, eval on validation:['ade: 0.44161707', 'fde: 0.9784204'], (best ade:0.44027826 at step 59700) \n"
     ]
    },
    {
     "name": "stderr",
     "output_type": "stream",
     "text": [
      " 56%|█████▋    | 484/858 [00:24<00:25, 14.56it/s]"
     ]
    },
    {
     "name": "stdout",
     "output_type": "stream",
     "text": [
      "\tsaving model 71700...\n"
     ]
    },
    {
     "name": "stderr",
     "output_type": "stream",
     "text": [
      "\n",
      "  0%|          | 0/75 [00:00<?, ?it/s]\u001b[A\n",
      "  5%|5         | 4/75 [00:00<00:01, 38.22it/s]\u001b[A"
     ]
    },
    {
     "name": "stdout",
     "output_type": "stream",
     "text": [
      "\tdone\n",
      "Evaluating\n"
     ]
    },
    {
     "name": "stderr",
     "output_type": "stream",
     "text": [
      "\n",
      " 11%|#         | 8/75 [00:00<00:01, 37.08it/s]\u001b[A\n",
      " 16%|#6        | 12/75 [00:00<00:01, 36.48it/s]\u001b[A\n",
      " 21%|##1       | 16/75 [00:00<00:01, 36.57it/s]\u001b[A\n",
      " 32%|###2      | 24/75 [00:00<00:01, 43.59it/s]\u001b[A\n",
      " 45%|####5     | 34/75 [00:00<00:00, 52.16it/s]\u001b[A\n",
      " 59%|#####8    | 44/75 [00:00<00:00, 60.60it/s]\u001b[A\n",
      " 72%|#######2  | 54/75 [00:00<00:00, 67.96it/s]\u001b[A\n",
      " 84%|########4 | 63/75 [00:00<00:00, 71.74it/s]\u001b[A\n",
      " 97%|#########7| 73/75 [00:01<00:00, 76.99it/s]\u001b[A\n",
      " 57%|█████▋    | 489/858 [00:26<01:17,  4.75it/s]A"
     ]
    },
    {
     "name": "stdout",
     "output_type": "stream",
     "text": [
      "{'ade': 0.44185054, 'fde': 0.9794116}\n",
      "\t last loss:0.000349853, eval on validation:['ade: 0.44185054', 'fde: 0.9794116'], (best ade:0.44027826 at step 59700) \n"
     ]
    },
    {
     "name": "stderr",
     "output_type": "stream",
     "text": [
      " 91%|█████████▏| 785/858 [00:43<00:03, 23.75it/s]\n",
      "  0%|          | 0/75 [00:00<?, ?it/s]\u001b[A"
     ]
    },
    {
     "name": "stdout",
     "output_type": "stream",
     "text": [
      "\tsaving model 72000...\n",
      "\tdone\n",
      "Evaluating\n"
     ]
    },
    {
     "name": "stderr",
     "output_type": "stream",
     "text": [
      "\n",
      " 12%|#2        | 9/75 [00:00<00:00, 84.27it/s]\u001b[A\n",
      " 24%|##4       | 18/75 [00:00<00:00, 82.83it/s]\u001b[A\n",
      " 31%|###       | 23/75 [00:00<00:00, 61.69it/s]\u001b[A\n",
      " 40%|####      | 30/75 [00:00<00:00, 60.51it/s]\u001b[A\n",
      " 49%|####9     | 37/75 [00:00<00:00, 59.16it/s]\u001b[A\n",
      " 56%|#####6    | 42/75 [00:00<00:00, 53.97it/s]\u001b[A\n",
      " 67%|######6   | 50/75 [00:00<00:00, 58.80it/s]\u001b[A\n",
      " 76%|#######6  | 57/75 [00:00<00:00, 60.69it/s]\u001b[A\n",
      " 87%|########6 | 65/75 [00:01<00:00, 62.86it/s]\u001b[A\n",
      " 96%|#########6| 72/75 [00:01<00:00, 60.54it/s]\u001b[A\n",
      " 92%|█████████▏| 788/858 [00:44<00:13,  5.38it/s]A"
     ]
    },
    {
     "name": "stdout",
     "output_type": "stream",
     "text": [
      "{'ade': 0.44217023, 'fde': 0.9805118}\n",
      "\t last loss:0.000433394, eval on validation:['ade: 0.44217023', 'fde: 0.9805118'], (best ade:0.44027826 at step 59700) \n"
     ]
    },
    {
     "name": "stderr",
     "output_type": "stream",
     "text": [
      "100%|██████████| 858/858 [00:48<00:00, 17.81it/s]\n",
      "  0%|          | 2/858 [00:00<00:43, 19.47it/s]"
     ]
    },
    {
     "name": "stdout",
     "output_type": "stream",
     "text": [
      "('Epoca 85.', 'lr:', 2.170828e-06)\n"
     ]
    },
    {
     "name": "stderr",
     "output_type": "stream",
     "text": [
      " 26%|██▋       | 226/858 [00:13<00:26, 24.24it/s]\n",
      "  0%|          | 0/75 [00:00<?, ?it/s]\u001b[A"
     ]
    },
    {
     "name": "stdout",
     "output_type": "stream",
     "text": [
      "\tsaving model 72300...\n",
      "\tdone\n",
      "Evaluating\n"
     ]
    },
    {
     "name": "stderr",
     "output_type": "stream",
     "text": [
      "\n",
      " 11%|#         | 8/75 [00:00<00:00, 77.11it/s]\u001b[A\n",
      " 23%|##2       | 17/75 [00:00<00:00, 79.71it/s]\u001b[A\n",
      " 35%|###4      | 26/75 [00:00<00:00, 82.13it/s]\u001b[A\n",
      " 47%|####6     | 35/75 [00:00<00:00, 83.94it/s]\u001b[A\n",
      " 59%|#####8    | 44/75 [00:00<00:00, 84.99it/s]\u001b[A\n",
      " 71%|#######   | 53/75 [00:00<00:00, 86.15it/s]\u001b[A\n",
      " 83%|########2 | 62/75 [00:00<00:00, 86.99it/s]\u001b[A\n",
      " 95%|#########4| 71/75 [00:00<00:00, 87.29it/s]\u001b[A\n",
      " 27%|██▋       | 229/858 [00:14<01:33,  6.76it/s]A"
     ]
    },
    {
     "name": "stdout",
     "output_type": "stream",
     "text": [
      "{'ade': 0.44129834, 'fde': 0.9774662}\n",
      "\t last loss:0.000373778, eval on validation:['ade: 0.44129834', 'fde: 0.9774662'], (best ade:0.44027826 at step 59700) \n"
     ]
    },
    {
     "name": "stderr",
     "output_type": "stream",
     "text": [
      " 61%|██████▏   | 527/858 [00:29<00:14, 22.50it/s]\n",
      "  0%|          | 0/75 [00:00<?, ?it/s]\u001b[A"
     ]
    },
    {
     "name": "stdout",
     "output_type": "stream",
     "text": [
      "\tsaving model 72600...\n",
      "\tdone\n",
      "Evaluating\n"
     ]
    },
    {
     "name": "stderr",
     "output_type": "stream",
     "text": [
      "\n",
      " 12%|#2        | 9/75 [00:00<00:00, 85.75it/s]\u001b[A\n",
      " 24%|##4       | 18/75 [00:00<00:00, 85.29it/s]\u001b[A\n",
      " 36%|###6      | 27/75 [00:00<00:00, 84.86it/s]\u001b[A\n",
      " 48%|####8     | 36/75 [00:00<00:00, 84.34it/s]\u001b[A\n",
      " 60%|######    | 45/75 [00:00<00:00, 84.40it/s]\u001b[A\n",
      " 73%|#######3  | 55/75 [00:00<00:00, 86.41it/s]\u001b[A\n",
      " 85%|########5 | 64/75 [00:00<00:00, 85.87it/s]\u001b[A\n",
      " 99%|#########8| 74/75 [00:00<00:00, 87.46it/s]\u001b[A\n",
      " 62%|██████▏   | 530/858 [00:30<00:48,  6.71it/s]A"
     ]
    },
    {
     "name": "stdout",
     "output_type": "stream",
     "text": [
      "{'ade': 0.4415895, 'fde': 0.9784295}\n",
      "\t last loss:0.000351010, eval on validation:['ade: 0.4415895', 'fde: 0.9784295'], (best ade:0.44027826 at step 59700) \n"
     ]
    },
    {
     "name": "stderr",
     "output_type": "stream",
     "text": [
      " 96%|█████████▋| 826/858 [00:45<00:01, 23.85it/s]\n",
      "  0%|          | 0/75 [00:00<?, ?it/s]\u001b[A"
     ]
    },
    {
     "name": "stdout",
     "output_type": "stream",
     "text": [
      "\tsaving model 72900...\n",
      "\tdone\n",
      "Evaluating\n"
     ]
    },
    {
     "name": "stderr",
     "output_type": "stream",
     "text": [
      "\n",
      " 12%|#2        | 9/75 [00:00<00:00, 86.86it/s]\u001b[A\n",
      " 24%|##4       | 18/75 [00:00<00:00, 86.81it/s]\u001b[A\n",
      " 36%|###6      | 27/75 [00:00<00:00, 86.28it/s]\u001b[A\n",
      " 48%|####8     | 36/75 [00:00<00:00, 85.85it/s]\u001b[A\n",
      " 60%|######    | 45/75 [00:00<00:00, 85.76it/s]\u001b[A\n",
      " 71%|#######   | 53/75 [00:00<00:00, 81.27it/s]\u001b[A\n",
      " 81%|########1 | 61/75 [00:00<00:00, 79.59it/s]\u001b[A\n",
      " 92%|#########2| 69/75 [00:00<00:00, 72.81it/s]\u001b[A\n",
      " 97%|█████████▋| 829/858 [00:46<00:05,  5.79it/s]A"
     ]
    },
    {
     "name": "stdout",
     "output_type": "stream",
     "text": [
      "{'ade': 0.44204485, 'fde': 0.9796303}\n",
      "\t last loss:0.000278067, eval on validation:['ade: 0.44204485', 'fde: 0.9796303'], (best ade:0.44027826 at step 59700) \n"
     ]
    },
    {
     "name": "stderr",
     "output_type": "stream",
     "text": [
      "100%|██████████| 858/858 [00:48<00:00, 17.76it/s]\n",
      "  0%|          | 1/858 [00:00<01:32,  9.28it/s]"
     ]
    },
    {
     "name": "stdout",
     "output_type": "stream",
     "text": [
      "('Epoca 86.', 'lr:', 2.170828e-06)\n"
     ]
    },
    {
     "name": "stderr",
     "output_type": "stream",
     "text": [
      " 31%|███       | 267/858 [00:12<00:32, 18.31it/s]\n",
      "  0%|          | 0/75 [00:00<?, ?it/s]\u001b[A"
     ]
    },
    {
     "name": "stdout",
     "output_type": "stream",
     "text": [
      "\tsaving model 73200...\n",
      "\tdone\n",
      "Evaluating\n"
     ]
    },
    {
     "name": "stderr",
     "output_type": "stream",
     "text": [
      "\n",
      " 12%|#2        | 9/75 [00:00<00:00, 86.04it/s]\u001b[A\n",
      " 24%|##4       | 18/75 [00:00<00:00, 85.24it/s]\u001b[A\n",
      " 36%|###6      | 27/75 [00:00<00:00, 83.95it/s]\u001b[A\n",
      " 47%|####6     | 35/75 [00:00<00:00, 82.13it/s]\u001b[A\n",
      " 59%|#####8    | 44/75 [00:00<00:00, 83.28it/s]\u001b[A\n",
      " 71%|#######   | 53/75 [00:00<00:00, 82.70it/s]\u001b[A\n",
      " 81%|########1 | 61/75 [00:00<00:00, 77.09it/s]\u001b[A\n",
      " 92%|#########2| 69/75 [00:00<00:00, 74.66it/s]\u001b[A\n",
      " 32%|███▏      | 272/858 [00:13<01:17,  7.58it/s]A"
     ]
    },
    {
     "name": "stdout",
     "output_type": "stream",
     "text": [
      "{'ade': 0.44128373, 'fde': 0.9774067}\n",
      "\t last loss:0.000265667, eval on validation:['ade: 0.44128373', 'fde: 0.9774067'], (best ade:0.44027826 at step 59700) \n"
     ]
    },
    {
     "name": "stderr",
     "output_type": "stream",
     "text": [
      " 66%|██████▋   | 569/858 [00:29<00:16, 17.67it/s]\n",
      "  0%|          | 0/75 [00:00<?, ?it/s]"
     ]
    },
    {
     "name": "stdout",
     "output_type": "stream",
     "text": [
      "\tsaving model 73500...\n",
      "\tdone\n",
      "Evaluating\n"
     ]
    },
    {
     "name": "stderr",
     "output_type": "stream",
     "text": [
      "\u001b[A\n",
      " 12%|#2        | 9/75 [00:00<00:00, 80.84it/s]\u001b[A\n",
      " 21%|##1       | 16/75 [00:00<00:00, 76.93it/s]\u001b[A\n",
      " 32%|###2      | 24/75 [00:00<00:00, 76.47it/s]\u001b[A\n",
      " 44%|####4     | 33/75 [00:00<00:00, 77.78it/s]\u001b[A\n",
      " 55%|#####4    | 41/75 [00:00<00:00, 77.62it/s]\u001b[A\n",
      " 67%|######6   | 50/75 [00:00<00:00, 78.60it/s]\u001b[A\n",
      " 79%|#######8  | 59/75 [00:00<00:00, 79.19it/s]\u001b[A\n",
      " 89%|########9 | 67/75 [00:00<00:00, 79.15it/s]\u001b[A\n",
      " 67%|██████▋   | 573/858 [00:30<00:49,  5.72it/s]A"
     ]
    },
    {
     "name": "stdout",
     "output_type": "stream",
     "text": [
      "{'ade': 0.44135848, 'fde': 0.9773046}\n",
      "\t last loss:0.000326832, eval on validation:['ade: 0.44135848', 'fde: 0.9773046'], (best ade:0.44027826 at step 59700) \n"
     ]
    },
    {
     "name": "stderr",
     "output_type": "stream",
     "text": [
      "100%|██████████| 858/858 [00:42<00:00, 23.56it/s]\n",
      "  0%|          | 2/858 [00:00<00:56, 15.19it/s]"
     ]
    },
    {
     "name": "stdout",
     "output_type": "stream",
     "text": [
      "('Epoca 87.', 'lr:', 1.8452038e-06)\n"
     ]
    },
    {
     "name": "stderr",
     "output_type": "stream",
     "text": [
      "  1%|▏         | 11/858 [00:00<00:41, 20.61it/s]\n",
      "  0%|          | 0/75 [00:00<?, ?it/s]\u001b[A"
     ]
    },
    {
     "name": "stdout",
     "output_type": "stream",
     "text": [
      "\tsaving model 73800...\n",
      "\tdone\n",
      "Evaluating\n"
     ]
    },
    {
     "name": "stderr",
     "output_type": "stream",
     "text": [
      "\n",
      " 11%|#         | 8/75 [00:00<00:00, 76.53it/s]\u001b[A\n",
      " 23%|##2       | 17/75 [00:00<00:00, 78.72it/s]\u001b[A\n",
      " 35%|###4      | 26/75 [00:00<00:00, 80.68it/s]\u001b[A\n",
      " 47%|####6     | 35/75 [00:00<00:00, 81.95it/s]\u001b[A\n",
      " 57%|#####7    | 43/75 [00:00<00:00, 81.05it/s]\u001b[A\n",
      " 68%|######8   | 51/75 [00:00<00:00, 79.78it/s]\u001b[A\n",
      " 79%|#######8  | 59/75 [00:00<00:00, 78.30it/s]\u001b[A\n",
      " 89%|########9 | 67/75 [00:00<00:00, 78.00it/s]\u001b[A\n",
      "  2%|▏         | 15/858 [00:01<02:22,  5.94it/s][A"
     ]
    },
    {
     "name": "stdout",
     "output_type": "stream",
     "text": [
      "{'ade': 0.44160777, 'fde': 0.97858065}\n",
      "\t last loss:0.000378601, eval on validation:['ade: 0.44160777', 'fde: 0.97858065'], (best ade:0.44027826 at step 59700) \n"
     ]
    },
    {
     "name": "stderr",
     "output_type": "stream",
     "text": [
      " 36%|███▌      | 310/858 [00:15<00:24, 22.16it/s]"
     ]
    },
    {
     "name": "stdout",
     "output_type": "stream",
     "text": [
      "\tsaving model 74100...\n"
     ]
    },
    {
     "name": "stderr",
     "output_type": "stream",
     "text": [
      "\n",
      "  0%|          | 0/75 [00:00<?, ?it/s]\u001b[A\n",
      "  9%|9         | 7/75 [00:00<00:00, 68.45it/s]\u001b[A"
     ]
    },
    {
     "name": "stdout",
     "output_type": "stream",
     "text": [
      "\tdone\n",
      "Evaluating\n"
     ]
    },
    {
     "name": "stderr",
     "output_type": "stream",
     "text": [
      "\n",
      " 19%|#8        | 14/75 [00:00<00:00, 67.56it/s]\u001b[A\n",
      " 29%|##9       | 22/75 [00:00<00:00, 69.36it/s]\u001b[A\n",
      " 39%|###8      | 29/75 [00:00<00:00, 69.49it/s]\u001b[A\n",
      " 49%|####9     | 37/75 [00:00<00:00, 71.66it/s]\u001b[A\n",
      " 60%|######    | 45/75 [00:00<00:00, 73.46it/s]\u001b[A\n",
      " 72%|#######2  | 54/75 [00:00<00:00, 75.68it/s]\u001b[A\n",
      " 83%|########2 | 62/75 [00:00<00:00, 67.92it/s]\u001b[A\n",
      " 92%|#########2| 69/75 [00:01<00:00, 64.55it/s]\u001b[A\n",
      " 36%|███▋      | 313/858 [00:16<01:35,  5.68it/s]A"
     ]
    },
    {
     "name": "stdout",
     "output_type": "stream",
     "text": [
      "{'ade': 0.44096977, 'fde': 0.9768486}\n",
      "\t last loss:0.000310232, eval on validation:['ade: 0.44096977', 'fde: 0.9768486'], (best ade:0.44027826 at step 59700) \n"
     ]
    },
    {
     "name": "stderr",
     "output_type": "stream",
     "text": [
      " 71%|███████   | 610/858 [00:30<00:10, 24.19it/s]\n",
      "  0%|          | 0/75 [00:00<?, ?it/s]\u001b[A"
     ]
    },
    {
     "name": "stdout",
     "output_type": "stream",
     "text": [
      "\tsaving model 74400...\n",
      "\tdone\n",
      "Evaluating\n"
     ]
    },
    {
     "name": "stderr",
     "output_type": "stream",
     "text": [
      "\n",
      " 12%|#2        | 9/75 [00:00<00:00, 86.47it/s]\u001b[A\n",
      " 25%|##5       | 19/75 [00:00<00:00, 87.83it/s]\u001b[A\n",
      " 39%|###8      | 29/75 [00:00<00:00, 88.83it/s]\u001b[A\n",
      " 52%|#####2    | 39/75 [00:00<00:00, 89.83it/s]\u001b[A\n",
      " 64%|######4   | 48/75 [00:00<00:00, 88.11it/s]\u001b[A\n",
      " 76%|#######6  | 57/75 [00:00<00:00, 87.82it/s]\u001b[A\n",
      " 89%|########9 | 67/75 [00:00<00:00, 89.11it/s]\u001b[A\n",
      " 72%|███████▏  | 616/858 [00:31<00:27,  8.96it/s]A"
     ]
    },
    {
     "name": "stdout",
     "output_type": "stream",
     "text": [
      "{'ade': 0.44169295, 'fde': 0.9790628}\n",
      "\t last loss:0.000569730, eval on validation:['ade: 0.44169295', 'fde: 0.9790628'], (best ade:0.44027826 at step 59700) \n"
     ]
    },
    {
     "name": "stderr",
     "output_type": "stream",
     "text": [
      "100%|██████████| 858/858 [00:41<00:00, 25.17it/s]\n",
      "  0%|          | 3/858 [00:00<00:32, 25.93it/s]"
     ]
    },
    {
     "name": "stdout",
     "output_type": "stream",
     "text": [
      "('Epoca 88.', 'lr:', 1.8452038e-06)\n"
     ]
    },
    {
     "name": "stderr",
     "output_type": "stream",
     "text": [
      "  6%|▌         | 51/858 [00:02<00:33, 24.05it/s]\n",
      "  0%|          | 0/75 [00:00<?, ?it/s]\u001b[A"
     ]
    },
    {
     "name": "stdout",
     "output_type": "stream",
     "text": [
      "\tsaving model 74700...\n",
      "\tdone\n",
      "Evaluating\n"
     ]
    },
    {
     "name": "stderr",
     "output_type": "stream",
     "text": [
      "\n",
      " 13%|#3        | 10/75 [00:00<00:00, 91.70it/s]\u001b[A\n",
      " 25%|##5       | 19/75 [00:00<00:00, 90.34it/s]\u001b[A\n",
      " 37%|###7      | 28/75 [00:00<00:00, 89.80it/s]\u001b[A\n",
      " 49%|####9     | 37/75 [00:00<00:00, 89.36it/s]\u001b[A\n",
      " 61%|######1   | 46/75 [00:00<00:00, 88.21it/s]\u001b[A\n",
      " 72%|#######2  | 54/75 [00:00<00:00, 83.94it/s]\u001b[A\n",
      " 84%|########4 | 63/75 [00:00<00:00, 83.93it/s]\u001b[A\n",
      " 96%|#########6| 72/75 [00:00<00:00, 84.14it/s]\u001b[A\n",
      "  7%|▋         | 57/858 [00:03<01:31,  8.73it/s][A"
     ]
    },
    {
     "name": "stdout",
     "output_type": "stream",
     "text": [
      "{'ade': 0.44159374, 'fde': 0.97864443}\n",
      "\t last loss:0.000543229, eval on validation:['ade: 0.44159374', 'fde: 0.97864443'], (best ade:0.44027826 at step 59700) \n"
     ]
    },
    {
     "name": "stderr",
     "output_type": "stream",
     "text": [
      " 41%|████      | 351/858 [00:16<00:20, 24.54it/s]\n",
      "  0%|          | 0/75 [00:00<?, ?it/s]\u001b[A"
     ]
    },
    {
     "name": "stdout",
     "output_type": "stream",
     "text": [
      "\tsaving model 75000...\n",
      "\tdone\n",
      "Evaluating\n"
     ]
    },
    {
     "name": "stderr",
     "output_type": "stream",
     "text": [
      "\n",
      " 12%|#2        | 9/75 [00:00<00:00, 88.02it/s]\u001b[A\n",
      " 24%|##4       | 18/75 [00:00<00:00, 87.77it/s]\u001b[A\n",
      " 37%|###7      | 28/75 [00:00<00:00, 89.43it/s]\u001b[A\n",
      " 51%|#####     | 38/75 [00:00<00:00, 91.78it/s]\u001b[A\n",
      " 64%|######4   | 48/75 [00:00<00:00, 93.00it/s]\u001b[A\n",
      " 76%|#######6  | 57/75 [00:00<00:00, 90.60it/s]\u001b[A\n",
      " 89%|########9 | 67/75 [00:00<00:00, 91.44it/s]\u001b[A\n",
      " 42%|████▏     | 357/858 [00:17<00:54,  9.20it/s]A"
     ]
    },
    {
     "name": "stdout",
     "output_type": "stream",
     "text": [
      "{'ade': 0.44205403, 'fde': 0.97965795}\n",
      "\t last loss:0.000257960, eval on validation:['ade: 0.44205403', 'fde: 0.97965795'], (best ade:0.44027826 at step 59700) \n"
     ]
    },
    {
     "name": "stderr",
     "output_type": "stream",
     "text": [
      " 76%|███████▌  | 651/858 [00:28<00:07, 26.39it/s]\n",
      "  0%|          | 0/75 [00:00<?, ?it/s]\u001b[A"
     ]
    },
    {
     "name": "stdout",
     "output_type": "stream",
     "text": [
      "\tsaving model 75300...\n",
      "\tdone\n",
      "Evaluating\n"
     ]
    },
    {
     "name": "stderr",
     "output_type": "stream",
     "text": [
      "\n",
      " 13%|#3        | 10/75 [00:00<00:00, 91.37it/s]\u001b[A\n",
      " 25%|##5       | 19/75 [00:00<00:00, 89.62it/s]\u001b[A\n",
      " 37%|###7      | 28/75 [00:00<00:00, 88.85it/s]\u001b[A\n",
      " 49%|####9     | 37/75 [00:00<00:00, 88.71it/s]\u001b[A\n",
      " 61%|######1   | 46/75 [00:00<00:00, 87.59it/s]\u001b[A\n",
      " 73%|#######3  | 55/75 [00:00<00:00, 87.58it/s]\u001b[A\n",
      " 85%|########5 | 64/75 [00:00<00:00, 87.74it/s]\u001b[A\n",
      " 97%|#########7| 73/75 [00:00<00:00, 84.60it/s]\u001b[A\n",
      " 77%|███████▋  | 657/858 [00:30<00:23,  8.68it/s]A"
     ]
    },
    {
     "name": "stdout",
     "output_type": "stream",
     "text": [
      "{'ade': 0.4419984, 'fde': 0.9801379}\n",
      "\t last loss:0.000248797, eval on validation:['ade: 0.4419984', 'fde: 0.9801379'], (best ade:0.44027826 at step 59700) \n"
     ]
    },
    {
     "name": "stderr",
     "output_type": "stream",
     "text": [
      "100%|██████████| 858/858 [00:40<00:00, 23.29it/s]\n",
      "  0%|          | 1/858 [00:00<01:26,  9.90it/s]"
     ]
    },
    {
     "name": "stdout",
     "output_type": "stream",
     "text": [
      "('Epoca 89.', 'lr:', 1.5684233e-06)\n"
     ]
    },
    {
     "name": "stderr",
     "output_type": "stream",
     "text": [
      " 11%|█         | 93/858 [00:04<00:39, 19.19it/s]\n",
      "  0%|          | 0/75 [00:00<?, ?it/s]\u001b[A"
     ]
    },
    {
     "name": "stdout",
     "output_type": "stream",
     "text": [
      "\tsaving model 75600...\n",
      "\tdone\n",
      "Evaluating\n"
     ]
    },
    {
     "name": "stderr",
     "output_type": "stream",
     "text": [
      "\n",
      " 13%|#3        | 10/75 [00:00<00:00, 96.77it/s]\u001b[A\n",
      " 27%|##6       | 20/75 [00:00<00:00, 96.30it/s]\u001b[A\n",
      " 40%|####      | 30/75 [00:00<00:00, 95.29it/s]\u001b[A\n",
      " 51%|#####     | 38/75 [00:00<00:00, 90.03it/s]\u001b[A\n",
      " 64%|######4   | 48/75 [00:00<00:00, 90.65it/s]\u001b[A\n",
      " 77%|#######7  | 58/75 [00:00<00:00, 91.63it/s]\u001b[A\n",
      " 91%|######### | 68/75 [00:00<00:00, 92.15it/s]\u001b[A\n",
      " 12%|█▏        | 99/858 [00:05<01:30,  8.37it/s][A"
     ]
    },
    {
     "name": "stdout",
     "output_type": "stream",
     "text": [
      "{'ade': 0.44116044, 'fde': 0.97712386}\n",
      "\t last loss:0.000435371, eval on validation:['ade: 0.44116044', 'fde: 0.97712386'], (best ade:0.44027826 at step 59700) \n"
     ]
    },
    {
     "name": "stderr",
     "output_type": "stream",
     "text": [
      " 46%|████▌     | 393/858 [00:18<00:18, 24.86it/s]\n",
      "  0%|          | 0/75 [00:00<?, ?it/s]\u001b[A"
     ]
    },
    {
     "name": "stdout",
     "output_type": "stream",
     "text": [
      "\tsaving model 75900...\n",
      "\tdone\n",
      "Evaluating\n"
     ]
    },
    {
     "name": "stderr",
     "output_type": "stream",
     "text": [
      "\n",
      " 11%|#         | 8/75 [00:00<00:00, 79.30it/s]\u001b[A\n",
      " 23%|##2       | 17/75 [00:00<00:00, 80.54it/s]\u001b[A\n",
      " 35%|###4      | 26/75 [00:00<00:00, 81.73it/s]\u001b[A\n",
      " 47%|####6     | 35/75 [00:00<00:00, 82.55it/s]\u001b[A\n",
      " 59%|#####8    | 44/75 [00:00<00:00, 83.30it/s]\u001b[A\n",
      " 69%|######9   | 52/75 [00:00<00:00, 80.57it/s]\u001b[A\n",
      " 81%|########1 | 61/75 [00:00<00:00, 80.92it/s]\u001b[A\n",
      " 93%|#########3| 70/75 [00:00<00:00, 82.37it/s]\u001b[A\n",
      " 47%|████▋     | 399/858 [00:19<00:53,  8.53it/s]A"
     ]
    },
    {
     "name": "stdout",
     "output_type": "stream",
     "text": [
      "{'ade': 0.4412517, 'fde': 0.9775785}\n",
      "\t last loss:0.000409679, eval on validation:['ade: 0.4412517', 'fde: 0.9775785'], (best ade:0.44027826 at step 59700) \n"
     ]
    },
    {
     "name": "stderr",
     "output_type": "stream",
     "text": [
      " 81%|████████  | 694/858 [00:33<00:08, 20.14it/s]"
     ]
    },
    {
     "name": "stdout",
     "output_type": "stream",
     "text": [
      "\tsaving model 76200...\n"
     ]
    },
    {
     "name": "stderr",
     "output_type": "stream",
     "text": [
      "\n",
      "  0%|          | 0/75 [00:00<?, ?it/s]\u001b[A\n",
      " 11%|#         | 8/75 [00:00<00:00, 79.59it/s]\u001b[A"
     ]
    },
    {
     "name": "stdout",
     "output_type": "stream",
     "text": [
      "\tdone\n",
      "Evaluating\n"
     ]
    },
    {
     "name": "stderr",
     "output_type": "stream",
     "text": [
      "\n",
      " 15%|#4        | 11/75 [00:00<00:01, 47.52it/s]\u001b[A\n",
      " 19%|#8        | 14/75 [00:00<00:01, 38.14it/s]\u001b[A\n",
      " 27%|##6       | 20/75 [00:00<00:01, 41.70it/s]\u001b[A\n",
      " 32%|###2      | 24/75 [00:00<00:01, 31.81it/s]\u001b[A\n",
      " 39%|###8      | 29/75 [00:00<00:01, 35.68it/s]\u001b[A\n",
      " 48%|####8     | 36/75 [00:00<00:00, 40.91it/s]\u001b[A\n",
      " 55%|#####4    | 41/75 [00:01<00:00, 37.28it/s]\u001b[A\n",
      " 61%|######1   | 46/75 [00:01<00:00, 37.97it/s]\u001b[A\n",
      " 73%|#######3  | 55/75 [00:01<00:00, 45.50it/s]\u001b[A\n",
      " 85%|########5 | 64/75 [00:01<00:00, 53.05it/s]\u001b[A\n",
      " 97%|#########7| 73/75 [00:01<00:00, 57.08it/s]\u001b[A\n",
      " 81%|████████  | 697/858 [00:35<00:36,  4.37it/s]A"
     ]
    },
    {
     "name": "stdout",
     "output_type": "stream",
     "text": [
      "{'ade': 0.44160435, 'fde': 0.97836673}\n",
      "\t last loss:0.000224155, eval on validation:['ade: 0.44160435', 'fde: 0.97836673'], (best ade:0.44027826 at step 59700) \n"
     ]
    },
    {
     "name": "stderr",
     "output_type": "stream",
     "text": [
      "100%|██████████| 858/858 [00:42<00:00, 20.16it/s]\n",
      "  0%|          | 1/858 [00:00<01:35,  9.01it/s]"
     ]
    },
    {
     "name": "stdout",
     "output_type": "stream",
     "text": [
      "('Epoca 90.', 'lr:', 1.5684233e-06)\n"
     ]
    },
    {
     "name": "stderr",
     "output_type": "stream",
     "text": [
      " 16%|█▌        | 136/858 [00:05<00:27, 25.80it/s]\n",
      "  0%|          | 0/75 [00:00<?, ?it/s]\u001b[A"
     ]
    },
    {
     "name": "stdout",
     "output_type": "stream",
     "text": [
      "\tsaving model 76500...\n",
      "\tdone\n",
      "Evaluating\n"
     ]
    },
    {
     "name": "stderr",
     "output_type": "stream",
     "text": [
      "\n",
      " 13%|#3        | 10/75 [00:00<00:00, 98.84it/s]\u001b[A\n",
      " 27%|##6       | 20/75 [00:00<00:00, 98.35it/s]\u001b[A\n",
      " 40%|####      | 30/75 [00:00<00:00, 97.29it/s]\u001b[A\n",
      " 53%|#####3    | 40/75 [00:00<00:00, 97.32it/s]\u001b[A\n",
      " 67%|######6   | 50/75 [00:00<00:00, 97.19it/s]\u001b[A\n",
      " 80%|########  | 60/75 [00:00<00:00, 97.10it/s]\u001b[A\n",
      " 93%|#########3| 70/75 [00:00<00:00, 96.22it/s]\u001b[A\n",
      " 17%|█▋        | 142/858 [00:06<01:15,  9.50it/s]A"
     ]
    },
    {
     "name": "stdout",
     "output_type": "stream",
     "text": [
      "{'ade': 0.44176123, 'fde': 0.97846574}\n",
      "\t last loss:0.000271892, eval on validation:['ade: 0.44176123', 'fde: 0.97846574'], (best ade:0.44027826 at step 59700) \n"
     ]
    },
    {
     "name": "stderr",
     "output_type": "stream",
     "text": [
      " 51%|█████     | 435/858 [00:19<00:18, 23.13it/s]\n",
      "  0%|          | 0/75 [00:00<?, ?it/s]\u001b[A"
     ]
    },
    {
     "name": "stdout",
     "output_type": "stream",
     "text": [
      "\tsaving model 76800...\n",
      "\tdone\n",
      "Evaluating\n"
     ]
    },
    {
     "name": "stderr",
     "output_type": "stream",
     "text": [
      "\n",
      " 11%|#         | 8/75 [00:00<00:00, 74.05it/s]\u001b[A\n",
      " 23%|##2       | 17/75 [00:00<00:00, 75.89it/s]\u001b[A\n",
      " 33%|###3      | 25/75 [00:00<00:00, 76.75it/s]\u001b[A\n",
      " 45%|####5     | 34/75 [00:00<00:00, 77.92it/s]\u001b[A\n",
      " 56%|#####6    | 42/75 [00:00<00:00, 78.37it/s]\u001b[A\n",
      " 67%|######6   | 50/75 [00:00<00:00, 78.24it/s]\u001b[A\n",
      " 77%|#######7  | 58/75 [00:00<00:00, 78.42it/s]\u001b[A\n",
      " 88%|########8 | 66/75 [00:00<00:00, 78.60it/s]\u001b[A\n",
      " 99%|#########8| 74/75 [00:00<00:00, 78.89it/s]\u001b[A\n",
      " 51%|█████▏    | 441/858 [00:20<00:52,  7.93it/s]A"
     ]
    },
    {
     "name": "stdout",
     "output_type": "stream",
     "text": [
      "{'ade': 0.4413133, 'fde': 0.9777051}\n",
      "\t last loss:0.000358937, eval on validation:['ade: 0.4413133', 'fde: 0.9777051'], (best ade:0.44027826 at step 59700) \n"
     ]
    },
    {
     "name": "stderr",
     "output_type": "stream",
     "text": [
      " 86%|████████▌ | 737/858 [00:34<00:06, 18.18it/s]\n",
      "  0%|          | 0/75 [00:00<?, ?it/s]\u001b[A"
     ]
    },
    {
     "name": "stdout",
     "output_type": "stream",
     "text": [
      "\tsaving model 77100...\n",
      "\tdone\n",
      "Evaluating\n"
     ]
    },
    {
     "name": "stderr",
     "output_type": "stream",
     "text": [
      "\n",
      " 12%|#2        | 9/75 [00:00<00:00, 88.44it/s]\u001b[A\n",
      " 24%|##4       | 18/75 [00:00<00:00, 86.95it/s]\u001b[A\n",
      " 36%|###6      | 27/75 [00:00<00:00, 87.36it/s]\u001b[A\n",
      " 49%|####9     | 37/75 [00:00<00:00, 88.79it/s]\u001b[A\n",
      " 63%|######2   | 47/75 [00:00<00:00, 90.27it/s]\u001b[A\n",
      " 76%|#######6  | 57/75 [00:00<00:00, 91.20it/s]\u001b[A\n",
      " 89%|########9 | 67/75 [00:00<00:00, 91.68it/s]\u001b[A\n",
      " 86%|████████▋ | 742/858 [00:35<00:17,  6.57it/s]A"
     ]
    },
    {
     "name": "stdout",
     "output_type": "stream",
     "text": [
      "{'ade': 0.44149894, 'fde': 0.97826344}\n",
      "\t last loss:0.000232249, eval on validation:['ade: 0.44149894', 'fde: 0.97826344'], (best ade:0.44027826 at step 59700) \n"
     ]
    },
    {
     "name": "stderr",
     "output_type": "stream",
     "text": [
      "100%|██████████| 858/858 [00:41<00:00, 20.62it/s]\n",
      "  0%|          | 2/858 [00:00<00:58, 14.68it/s]"
     ]
    },
    {
     "name": "stdout",
     "output_type": "stream",
     "text": [
      "('Epoca 91.', 'lr:', 1.3331598e-06)\n"
     ]
    },
    {
     "name": "stderr",
     "output_type": "stream",
     "text": [
      " 21%|██        | 178/858 [00:09<00:33, 20.17it/s]"
     ]
    },
    {
     "name": "stdout",
     "output_type": "stream",
     "text": [
      "\tsaving model 77400...\n"
     ]
    },
    {
     "name": "stderr",
     "output_type": "stream",
     "text": [
      "\n",
      "  0%|          | 0/75 [00:00<?, ?it/s]\u001b[A\n",
      " 11%|#         | 8/75 [00:00<00:00, 70.80it/s]\u001b[A"
     ]
    },
    {
     "name": "stdout",
     "output_type": "stream",
     "text": [
      "\tdone\n",
      "Evaluating\n"
     ]
    },
    {
     "name": "stderr",
     "output_type": "stream",
     "text": [
      "\n",
      " 20%|##        | 15/75 [00:00<00:00, 69.46it/s]\u001b[A\n",
      " 29%|##9       | 22/75 [00:00<00:00, 69.01it/s]\u001b[A\n",
      " 39%|###8      | 29/75 [00:00<00:00, 68.45it/s]\u001b[A\n",
      " 48%|####8     | 36/75 [00:00<00:00, 68.63it/s]\u001b[A\n",
      " 57%|#####7    | 43/75 [00:00<00:00, 68.56it/s]\u001b[A\n",
      " 67%|######6   | 50/75 [00:00<00:00, 68.30it/s]\u001b[A\n",
      " 76%|#######6  | 57/75 [00:00<00:00, 65.21it/s]\u001b[A\n",
      " 85%|########5 | 64/75 [00:00<00:00, 65.55it/s]\u001b[A\n",
      " 95%|#########4| 71/75 [00:01<00:00, 66.46it/s]\u001b[A\n",
      " 21%|██        | 181/858 [00:11<02:06,  5.35it/s]A"
     ]
    },
    {
     "name": "stdout",
     "output_type": "stream",
     "text": [
      "{'ade': 0.44174555, 'fde': 0.9788487}\n",
      "\t last loss:0.000281115, eval on validation:['ade: 0.44174555', 'fde: 0.9788487'], (best ade:0.44027826 at step 59700) \n"
     ]
    },
    {
     "name": "stderr",
     "output_type": "stream",
     "text": [
      " 56%|█████▌    | 479/858 [00:27<00:25, 15.12it/s]"
     ]
    },
    {
     "name": "stdout",
     "output_type": "stream",
     "text": [
      "\tsaving model 77700...\n"
     ]
    },
    {
     "name": "stderr",
     "output_type": "stream",
     "text": [
      "\n",
      "  0%|          | 0/75 [00:00<?, ?it/s]\u001b[A\n",
      " 11%|#         | 8/75 [00:00<00:00, 78.36it/s]\u001b[A\n",
      " 21%|##1       | 16/75 [00:00<00:00, 76.41it/s]\u001b[A\n",
      " 29%|##9       | 22/75 [00:00<00:00, 65.78it/s]\u001b[A\n",
      " 40%|####      | 30/75 [00:00<00:00, 68.38it/s]\u001b[A\n",
      " 53%|#####3    | 40/75 [00:00<00:00, 74.63it/s]\u001b[A\n",
      " 67%|######6   | 50/75 [00:00<00:00, 80.13it/s]\u001b[A\n",
      " 80%|########  | 60/75 [00:00<00:00, 83.93it/s]\u001b[A\n",
      " 93%|#########3| 70/75 [00:00<00:00, 86.17it/s]\u001b[A\n",
      " 56%|█████▋    | 484/858 [00:28<01:04,  5.78it/s]A"
     ]
    },
    {
     "name": "stdout",
     "output_type": "stream",
     "text": [
      "\tdone\n",
      "Evaluating\n",
      "{'ade': 0.4416345, 'fde': 0.97834945}\n",
      "\t last loss:0.000442477, eval on validation:['ade: 0.4416345', 'fde: 0.97834945'], (best ade:0.44027826 at step 59700) \n"
     ]
    },
    {
     "name": "stderr",
     "output_type": "stream",
     "text": [
      " 91%|█████████ | 778/858 [00:41<00:03, 23.33it/s]\n",
      "  0%|          | 0/75 [00:00<?, ?it/s]\u001b[A"
     ]
    },
    {
     "name": "stdout",
     "output_type": "stream",
     "text": [
      "\tsaving model 78000...\n",
      "\tdone\n",
      "Evaluating\n"
     ]
    },
    {
     "name": "stderr",
     "output_type": "stream",
     "text": [
      "\n",
      " 12%|#2        | 9/75 [00:00<00:00, 81.76it/s]\u001b[A\n",
      " 23%|##2       | 17/75 [00:00<00:00, 81.13it/s]\u001b[A\n",
      " 32%|###2      | 24/75 [00:00<00:00, 73.82it/s]\u001b[A\n",
      " 41%|####1     | 31/75 [00:00<00:00, 69.63it/s]\u001b[A\n",
      " 49%|####9     | 37/75 [00:00<00:00, 62.99it/s]\u001b[A\n",
      " 57%|#####7    | 43/75 [00:00<00:00, 61.77it/s]\u001b[A\n",
      " 67%|######6   | 50/75 [00:00<00:00, 61.80it/s]\u001b[A\n",
      " 76%|#######6  | 57/75 [00:00<00:00, 62.06it/s]\u001b[A\n",
      " 85%|########5 | 64/75 [00:00<00:00, 61.90it/s]\u001b[A\n",
      " 95%|#########4| 71/75 [00:01<00:00, 61.85it/s]\u001b[A\n",
      " 91%|█████████ | 781/858 [00:42<00:14,  5.43it/s]A"
     ]
    },
    {
     "name": "stdout",
     "output_type": "stream",
     "text": [
      "{'ade': 0.44207662, 'fde': 0.9799047}\n",
      "\t last loss:0.000512134, eval on validation:['ade: 0.44207662', 'fde: 0.9799047'], (best ade:0.44027826 at step 59700) \n"
     ]
    },
    {
     "name": "stderr",
     "output_type": "stream",
     "text": [
      "100%|██████████| 858/858 [00:46<00:00, 18.59it/s]\n",
      "  0%|          | 3/858 [00:00<00:37, 22.53it/s]"
     ]
    },
    {
     "name": "stdout",
     "output_type": "stream",
     "text": [
      "('Epoca 92.', 'lr:', 1.3331598e-06)\n"
     ]
    },
    {
     "name": "stderr",
     "output_type": "stream",
     "text": [
      " 26%|██▌       | 219/858 [00:08<00:24, 25.62it/s]\n",
      "  0%|          | 0/75 [00:00<?, ?it/s]\u001b[A"
     ]
    },
    {
     "name": "stdout",
     "output_type": "stream",
     "text": [
      "\tsaving model 78300...\n",
      "\tdone\n",
      "Evaluating\n"
     ]
    },
    {
     "name": "stderr",
     "output_type": "stream",
     "text": [
      "\n",
      " 11%|#         | 8/75 [00:00<00:00, 77.52it/s]\u001b[A\n",
      " 23%|##2       | 17/75 [00:00<00:00, 79.86it/s]\u001b[A\n",
      " 35%|###4      | 26/75 [00:00<00:00, 81.20it/s]\u001b[A\n",
      " 47%|####6     | 35/75 [00:00<00:00, 83.43it/s]\u001b[A\n",
      " 59%|#####8    | 44/75 [00:00<00:00, 85.01it/s]\u001b[A\n",
      " 71%|#######   | 53/75 [00:00<00:00, 85.54it/s]\u001b[A\n",
      " 83%|########2 | 62/75 [00:00<00:00, 86.04it/s]\u001b[A\n",
      " 95%|#########4| 71/75 [00:00<00:00, 86.59it/s]\u001b[A\n",
      " 26%|██▌       | 225/858 [00:09<01:11,  8.84it/s]A"
     ]
    },
    {
     "name": "stdout",
     "output_type": "stream",
     "text": [
      "{'ade': 0.4417546, 'fde': 0.97873783}\n",
      "\t last loss:0.000447433, eval on validation:['ade: 0.4417546', 'fde: 0.97873783'], (best ade:0.44027826 at step 59700) \n"
     ]
    },
    {
     "name": "stderr",
     "output_type": "stream",
     "text": [
      " 60%|██████    | 519/858 [00:21<00:15, 21.45it/s]\n",
      "  0%|          | 0/75 [00:00<?, ?it/s]\u001b[A"
     ]
    },
    {
     "name": "stdout",
     "output_type": "stream",
     "text": [
      "\tsaving model 78600...\n",
      "\tdone\n",
      "Evaluating\n"
     ]
    },
    {
     "name": "stderr",
     "output_type": "stream",
     "text": [
      "\n",
      " 12%|#2        | 9/75 [00:00<00:00, 82.30it/s]\u001b[A\n",
      " 23%|##2       | 17/75 [00:00<00:00, 81.33it/s]\u001b[A\n",
      " 33%|###3      | 25/75 [00:00<00:00, 80.86it/s]\u001b[A\n",
      " 44%|####4     | 33/75 [00:00<00:00, 80.22it/s]\u001b[A\n",
      " 55%|#####4    | 41/75 [00:00<00:00, 80.03it/s]\u001b[A\n",
      " 67%|######6   | 50/75 [00:00<00:00, 80.39it/s]\u001b[A\n",
      " 77%|#######7  | 58/75 [00:00<00:00, 76.40it/s]\u001b[A\n",
      " 88%|########8 | 66/75 [00:00<00:00, 76.43it/s]\u001b[A\n",
      " 99%|#########8| 74/75 [00:00<00:00, 77.29it/s]\u001b[A\n",
      " 61%|██████    | 525/858 [00:23<00:42,  7.88it/s]A"
     ]
    },
    {
     "name": "stdout",
     "output_type": "stream",
     "text": [
      "{'ade': 0.4415248, 'fde': 0.9780318}\n",
      "\t last loss:0.000275587, eval on validation:['ade: 0.4415248', 'fde: 0.9780318'], (best ade:0.44027826 at step 59700) \n"
     ]
    },
    {
     "name": "stderr",
     "output_type": "stream",
     "text": [
      " 95%|█████████▌| 819/858 [00:35<00:01, 25.24it/s]\n",
      "  0%|          | 0/75 [00:00<?, ?it/s]\u001b[A"
     ]
    },
    {
     "name": "stdout",
     "output_type": "stream",
     "text": [
      "\tsaving model 78900...\n",
      "\tdone\n",
      "Evaluating\n"
     ]
    },
    {
     "name": "stderr",
     "output_type": "stream",
     "text": [
      "\n",
      " 12%|#2        | 9/75 [00:00<00:00, 88.23it/s]\u001b[A\n",
      " 24%|##4       | 18/75 [00:00<00:00, 88.30it/s]\u001b[A\n",
      " 36%|###6      | 27/75 [00:00<00:00, 88.58it/s]\u001b[A\n",
      " 47%|####6     | 35/75 [00:00<00:00, 85.61it/s]\u001b[A\n",
      " 56%|#####6    | 42/75 [00:00<00:00, 77.38it/s]\u001b[A\n",
      " 68%|######8   | 51/75 [00:00<00:00, 79.92it/s]\u001b[A\n",
      " 80%|########  | 60/75 [00:00<00:00, 81.76it/s]\u001b[A\n",
      " 92%|#########2| 69/75 [00:00<00:00, 83.81it/s]\u001b[A\n",
      " 96%|█████████▌| 825/858 [00:36<00:03,  8.67it/s]A"
     ]
    },
    {
     "name": "stdout",
     "output_type": "stream",
     "text": [
      "{'ade': 0.4415681, 'fde': 0.97822213}\n",
      "\t last loss:0.000533228, eval on validation:['ade: 0.4415681', 'fde: 0.97822213'], (best ade:0.44027826 at step 59700) \n"
     ]
    },
    {
     "name": "stderr",
     "output_type": "stream",
     "text": [
      "100%|██████████| 858/858 [00:37<00:00, 23.79it/s]\n",
      "  0%|          | 3/858 [00:00<00:34, 25.10it/s]"
     ]
    },
    {
     "name": "stdout",
     "output_type": "stream",
     "text": [
      "('Epoca 93.', 'lr:', 1.1331858e-06)\n"
     ]
    },
    {
     "name": "stderr",
     "output_type": "stream",
     "text": [
      " 30%|███       | 261/858 [00:10<00:27, 21.48it/s]"
     ]
    },
    {
     "name": "stdout",
     "output_type": "stream",
     "text": [
      "\tsaving model 79200...\n"
     ]
    },
    {
     "name": "stderr",
     "output_type": "stream",
     "text": [
      "\n",
      "  0%|          | 0/75 [00:00<?, ?it/s]\u001b[A\n",
      "  9%|9         | 7/75 [00:00<00:01, 61.35it/s]\u001b[A\n",
      " 19%|#8        | 14/75 [00:00<00:00, 62.81it/s]\u001b[A\n",
      " 28%|##8       | 21/75 [00:00<00:00, 64.68it/s]\u001b[A\n",
      " 39%|###8      | 29/75 [00:00<00:00, 66.54it/s]\u001b[A\n",
      " 49%|####9     | 37/75 [00:00<00:00, 67.81it/s]\u001b[A\n",
      " 60%|######    | 45/75 [00:00<00:00, 68.92it/s]\u001b[A\n",
      " 69%|######9   | 52/75 [00:00<00:00, 68.72it/s]\u001b[A\n",
      " 79%|#######8  | 59/75 [00:00<00:00, 68.73it/s]\u001b[A\n",
      " 89%|########9 | 67/75 [00:00<00:00, 69.23it/s]\u001b[A\n",
      " 99%|#########8| 74/75 [00:01<00:00, 68.05it/s]\u001b[A\n",
      " 31%|███       | 267/858 [00:12<01:21,  7.24it/s]A"
     ]
    },
    {
     "name": "stdout",
     "output_type": "stream",
     "text": [
      "\tdone\n",
      "Evaluating\n",
      "{'ade': 0.4414461, 'fde': 0.97810096}\n",
      "\t last loss:0.000322547, eval on validation:['ade: 0.4414461', 'fde: 0.97810096'], (best ade:0.44027826 at step 59700) \n"
     ]
    },
    {
     "name": "stderr",
     "output_type": "stream",
     "text": [
      " 65%|██████▌   | 561/858 [00:24<00:11, 25.63it/s]\n",
      "  0%|          | 0/75 [00:00<?, ?it/s]\u001b[A"
     ]
    },
    {
     "name": "stdout",
     "output_type": "stream",
     "text": [
      "\tsaving model 79500...\n",
      "\tdone\n",
      "Evaluating\n"
     ]
    },
    {
     "name": "stderr",
     "output_type": "stream",
     "text": [
      "\n",
      " 13%|#3        | 10/75 [00:00<00:00, 90.71it/s]\u001b[A\n",
      " 25%|##5       | 19/75 [00:00<00:00, 90.17it/s]\u001b[A\n",
      " 37%|###7      | 28/75 [00:00<00:00, 89.06it/s]\u001b[A\n",
      " 49%|####9     | 37/75 [00:00<00:00, 88.87it/s]\u001b[A\n",
      " 61%|######1   | 46/75 [00:00<00:00, 87.75it/s]\u001b[A\n",
      " 72%|#######2  | 54/75 [00:00<00:00, 84.97it/s]\u001b[A\n",
      " 84%|########4 | 63/75 [00:00<00:00, 85.05it/s]\u001b[A\n",
      " 96%|#########6| 72/75 [00:00<00:00, 85.97it/s]\u001b[A\n",
      " 66%|██████▌   | 567/858 [00:25<00:32,  8.87it/s]A"
     ]
    },
    {
     "name": "stdout",
     "output_type": "stream",
     "text": [
      "{'ade': 0.44194457, 'fde': 0.9793934}\n",
      "\t last loss:0.000504916, eval on validation:['ade: 0.44194457', 'fde: 0.9793934'], (best ade:0.44027826 at step 59700) \n"
     ]
    },
    {
     "name": "stderr",
     "output_type": "stream",
     "text": [
      "100%|██████████| 858/858 [00:39<00:00, 23.58it/s]\n",
      "  0%|          | 1/858 [00:00<01:40,  8.54it/s]"
     ]
    },
    {
     "name": "stdout",
     "output_type": "stream",
     "text": [
      "('Epoca 94.', 'lr:', 1.1331858e-06)\n"
     ]
    },
    {
     "name": "stderr",
     "output_type": "stream",
     "text": [
      "  0%|          | 4/858 [00:00<01:21, 10.42it/s]\n",
      "  0%|          | 0/75 [00:00<?, ?it/s]\u001b[A"
     ]
    },
    {
     "name": "stdout",
     "output_type": "stream",
     "text": [
      "\tsaving model 79800...\n",
      "\tdone\n",
      "Evaluating\n"
     ]
    },
    {
     "name": "stderr",
     "output_type": "stream",
     "text": [
      "\n",
      " 13%|#3        | 10/75 [00:00<00:00, 96.44it/s]\u001b[A\n",
      " 27%|##6       | 20/75 [00:00<00:00, 95.73it/s]\u001b[A\n",
      " 40%|####      | 30/75 [00:00<00:00, 95.34it/s]\u001b[A\n",
      " 53%|#####3    | 40/75 [00:00<00:00, 95.06it/s]\u001b[A\n",
      " 65%|######5   | 49/75 [00:00<00:00, 89.95it/s]\u001b[A\n",
      " 76%|#######6  | 57/75 [00:00<00:00, 70.70it/s]\u001b[A\n",
      " 85%|########5 | 64/75 [00:00<00:00, 64.87it/s]\u001b[A\n",
      " 99%|#########8| 74/75 [00:00<00:00, 71.06it/s]\u001b[A\n",
      "  1%|          | 9/858 [00:01<02:38,  5.36it/s]\u001b[A"
     ]
    },
    {
     "name": "stdout",
     "output_type": "stream",
     "text": [
      "{'ade': 0.4415806, 'fde': 0.9785644}\n",
      "\t last loss:0.000492889, eval on validation:['ade: 0.4415806', 'fde: 0.9785644'], (best ade:0.44027826 at step 59700) \n"
     ]
    },
    {
     "name": "stderr",
     "output_type": "stream",
     "text": [
      " 36%|███▌      | 305/858 [00:14<00:24, 22.83it/s]\n",
      "  0%|          | 0/75 [00:00<?, ?it/s]\u001b[A"
     ]
    },
    {
     "name": "stdout",
     "output_type": "stream",
     "text": [
      "\tsaving model 80100...\n",
      "\tdone\n",
      "Evaluating\n"
     ]
    },
    {
     "name": "stderr",
     "output_type": "stream",
     "text": [
      "\n",
      " 12%|#2        | 9/75 [00:00<00:00, 84.96it/s]\u001b[A\n",
      " 24%|##4       | 18/75 [00:00<00:00, 85.60it/s]\u001b[A\n",
      " 36%|###6      | 27/75 [00:00<00:00, 86.21it/s]\u001b[A\n",
      " 48%|####8     | 36/75 [00:00<00:00, 86.86it/s]\u001b[A\n",
      " 60%|######    | 45/75 [00:00<00:00, 87.09it/s]\u001b[A\n",
      " 72%|#######2  | 54/75 [00:00<00:00, 87.45it/s]\u001b[A\n",
      " 84%|########4 | 63/75 [00:00<00:00, 87.80it/s]\u001b[A\n",
      " 96%|#########6| 72/75 [00:00<00:00, 87.78it/s]\u001b[A\n",
      " 36%|███▌      | 308/858 [00:15<01:21,  6.73it/s]A"
     ]
    },
    {
     "name": "stdout",
     "output_type": "stream",
     "text": [
      "{'ade': 0.4409918, 'fde': 0.9768946}\n",
      "\t last loss:0.000280628, eval on validation:['ade: 0.4409918', 'fde: 0.9768946'], (best ade:0.44027826 at step 59700) \n"
     ]
    },
    {
     "name": "stderr",
     "output_type": "stream",
     "text": [
      " 70%|███████   | 603/858 [00:28<00:15, 16.22it/s]"
     ]
    },
    {
     "name": "stdout",
     "output_type": "stream",
     "text": [
      "\tsaving model 80400...\n"
     ]
    },
    {
     "name": "stderr",
     "output_type": "stream",
     "text": [
      "\n",
      "  0%|          | 0/75 [00:00<?, ?it/s]\u001b[A\n",
      "  9%|9         | 7/75 [00:00<00:01, 62.81it/s]\u001b[A\n",
      " 19%|#8        | 14/75 [00:00<00:00, 63.13it/s]\u001b[A\n",
      " 29%|##9       | 22/75 [00:00<00:00, 64.98it/s]\u001b[A\n",
      " 36%|###6      | 27/75 [00:00<00:00, 56.85it/s]\u001b[A\n",
      " 44%|####4     | 33/75 [00:00<00:00, 53.90it/s]\u001b[A\n",
      " 51%|#####     | 38/75 [00:00<00:00, 49.72it/s]\u001b[A\n",
      " 61%|######1   | 46/75 [00:00<00:00, 55.73it/s]\u001b[A\n",
      " 72%|#######2  | 54/75 [00:00<00:00, 60.88it/s]\u001b[A\n",
      " 83%|########2 | 62/75 [00:01<00:00, 65.22it/s]\u001b[A\n",
      " 93%|#########3| 70/75 [00:01<00:00, 68.45it/s]\u001b[A\n",
      " 71%|███████   | 609/858 [00:30<00:37,  6.60it/s]A"
     ]
    },
    {
     "name": "stdout",
     "output_type": "stream",
     "text": [
      "\tdone\n",
      "Evaluating\n",
      "{'ade': 0.4412077, 'fde': 0.97724223}\n",
      "\t last loss:0.000248199, eval on validation:['ade: 0.4412077', 'fde: 0.97724223'], (best ade:0.44027826 at step 59700) \n"
     ]
    },
    {
     "name": "stderr",
     "output_type": "stream",
     "text": [
      "100%|██████████| 858/858 [00:41<00:00, 20.92it/s]\n",
      "  0%|          | 2/858 [00:00<00:43, 19.56it/s]"
     ]
    },
    {
     "name": "stdout",
     "output_type": "stream",
     "text": [
      "('Epoca 95.', 'lr:', 9.63208e-07)\n"
     ]
    },
    {
     "name": "stderr",
     "output_type": "stream",
     "text": [
      "  5%|▌         | 46/858 [00:02<00:35, 23.05it/s]\n",
      "  0%|          | 0/75 [00:00<?, ?it/s]\u001b[A"
     ]
    },
    {
     "name": "stdout",
     "output_type": "stream",
     "text": [
      "\tsaving model 80700...\n",
      "\tdone\n",
      "Evaluating\n"
     ]
    },
    {
     "name": "stderr",
     "output_type": "stream",
     "text": [
      "\n",
      " 12%|#2        | 9/75 [00:00<00:00, 81.21it/s]\u001b[A\n",
      " 24%|##4       | 18/75 [00:00<00:00, 82.29it/s]\u001b[A\n",
      " 36%|###6      | 27/75 [00:00<00:00, 82.89it/s]\u001b[A\n",
      " 48%|####8     | 36/75 [00:00<00:00, 83.27it/s]\u001b[A\n",
      " 60%|######    | 45/75 [00:00<00:00, 83.75it/s]\u001b[A\n",
      " 72%|#######2  | 54/75 [00:00<00:00, 84.28it/s]\u001b[A\n",
      " 84%|########4 | 63/75 [00:00<00:00, 83.96it/s]\u001b[A\n",
      " 96%|#########6| 72/75 [00:00<00:00, 84.31it/s]\u001b[A\n",
      "  6%|▌         | 49/858 [00:03<02:04,  6.51it/s][A"
     ]
    },
    {
     "name": "stdout",
     "output_type": "stream",
     "text": [
      "{'ade': 0.44091997, 'fde': 0.97649884}\n",
      "\t last loss:0.000400635, eval on validation:['ade: 0.44091997', 'fde: 0.97649884'], (best ade:0.44027826 at step 59700) \n"
     ]
    },
    {
     "name": "stderr",
     "output_type": "stream",
     "text": [
      " 40%|████      | 347/858 [00:16<00:18, 27.38it/s]\n",
      "  0%|          | 0/75 [00:00<?, ?it/s]\u001b[A"
     ]
    },
    {
     "name": "stdout",
     "output_type": "stream",
     "text": [
      "\tsaving model 81000...\n",
      "\tdone\n",
      "Evaluating\n"
     ]
    },
    {
     "name": "stderr",
     "output_type": "stream",
     "text": [
      "\n",
      " 13%|#3        | 10/75 [00:00<00:00, 97.70it/s]\u001b[A\n",
      " 25%|##5       | 19/75 [00:00<00:00, 93.42it/s]\u001b[A\n",
      " 39%|###8      | 29/75 [00:00<00:00, 92.43it/s]\u001b[A\n",
      " 52%|#####2    | 39/75 [00:00<00:00, 93.08it/s]\u001b[A\n",
      " 65%|######5   | 49/75 [00:00<00:00, 94.12it/s]\u001b[A\n",
      " 79%|#######8  | 59/75 [00:00<00:00, 94.69it/s]\u001b[A\n",
      " 92%|#########2| 69/75 [00:00<00:00, 95.25it/s]\u001b[A\n",
      " 41%|████      | 350/858 [00:18<01:07,  7.48it/s]A"
     ]
    },
    {
     "name": "stdout",
     "output_type": "stream",
     "text": [
      "{'ade': 0.4413762, 'fde': 0.9778824}\n",
      "\t last loss:0.000404855, eval on validation:['ade: 0.4413762', 'fde: 0.9778824'], (best ade:0.44027826 at step 59700) \n"
     ]
    },
    {
     "name": "stderr",
     "output_type": "stream",
     "text": [
      " 75%|███████▌  | 645/858 [00:31<00:08, 25.09it/s]\n",
      "  0%|          | 0/75 [00:00<?, ?it/s]\u001b[A"
     ]
    },
    {
     "name": "stdout",
     "output_type": "stream",
     "text": [
      "\tsaving model 81300...\n",
      "\tdone\n",
      "Evaluating\n"
     ]
    },
    {
     "name": "stderr",
     "output_type": "stream",
     "text": [
      "\n",
      " 12%|#2        | 9/75 [00:00<00:00, 87.41it/s]\u001b[A\n",
      " 24%|##4       | 18/75 [00:00<00:00, 85.40it/s]\u001b[A\n",
      " 36%|###6      | 27/75 [00:00<00:00, 85.41it/s]\u001b[A\n",
      " 48%|####8     | 36/75 [00:00<00:00, 84.33it/s]\u001b[A\n",
      " 59%|#####8    | 44/75 [00:00<00:00, 82.62it/s]\u001b[A\n",
      " 71%|#######   | 53/75 [00:00<00:00, 83.81it/s]\u001b[A\n",
      " 83%|########2 | 62/75 [00:00<00:00, 83.76it/s]\u001b[A\n",
      " 93%|#########3| 70/75 [00:00<00:00, 78.84it/s]\u001b[A\n",
      " 76%|███████▌  | 651/858 [00:32<00:24,  8.38it/s]A"
     ]
    },
    {
     "name": "stdout",
     "output_type": "stream",
     "text": [
      "{'ade': 0.44176772, 'fde': 0.97868526}\n",
      "\t last loss:0.000434816, eval on validation:['ade: 0.44176772', 'fde: 0.97868526'], (best ade:0.44027826 at step 59700) \n"
     ]
    },
    {
     "name": "stderr",
     "output_type": "stream",
     "text": [
      "100%|██████████| 858/858 [00:42<00:00, 20.01it/s]\n",
      "  0%|          | 1/858 [00:00<01:26,  9.87it/s]"
     ]
    },
    {
     "name": "stdout",
     "output_type": "stream",
     "text": [
      "('Epoca 96.', 'lr:', 9.63208e-07)\n"
     ]
    },
    {
     "name": "stderr",
     "output_type": "stream",
     "text": [
      " 10%|█         | 89/858 [00:04<00:33, 22.77it/s]\n",
      "  0%|          | 0/75 [00:00<?, ?it/s]"
     ]
    },
    {
     "name": "stdout",
     "output_type": "stream",
     "text": [
      "\tsaving model 81600...\n",
      "\tdone\n",
      "Evaluating\n"
     ]
    },
    {
     "name": "stderr",
     "output_type": "stream",
     "text": [
      "\u001b[A\n",
      " 12%|#2        | 9/75 [00:00<00:00, 88.36it/s]\u001b[A\n",
      " 24%|##4       | 18/75 [00:00<00:00, 87.55it/s]\u001b[A\n",
      " 35%|###4      | 26/75 [00:00<00:00, 83.79it/s]\u001b[A\n",
      " 47%|####6     | 35/75 [00:00<00:00, 84.29it/s]\u001b[A\n",
      " 59%|#####8    | 44/75 [00:00<00:00, 85.14it/s]\u001b[A\n",
      " 71%|#######   | 53/75 [00:00<00:00, 85.94it/s]\u001b[A\n",
      " 83%|########2 | 62/75 [00:00<00:00, 85.51it/s]\u001b[A\n",
      " 95%|#########4| 71/75 [00:00<00:00, 85.61it/s]\u001b[A\n",
      " 11%|█         | 92/858 [00:05<02:03,  6.21it/s][A"
     ]
    },
    {
     "name": "stdout",
     "output_type": "stream",
     "text": [
      "{'ade': 0.4415321, 'fde': 0.97799546}\n",
      "\t last loss:0.000500343, eval on validation:['ade: 0.4415321', 'fde: 0.97799546'], (best ade:0.44027826 at step 59700) \n"
     ]
    },
    {
     "name": "stderr",
     "output_type": "stream",
     "text": [
      " 45%|████▌     | 389/858 [00:18<00:22, 20.41it/s]"
     ]
    },
    {
     "name": "stdout",
     "output_type": "stream",
     "text": [
      "\tsaving model 81900...\n"
     ]
    },
    {
     "name": "stderr",
     "output_type": "stream",
     "text": [
      "\n",
      "  0%|          | 0/75 [00:00<?, ?it/s]\u001b[A\n",
      " 11%|#         | 8/75 [00:00<00:00, 72.09it/s]\u001b[A\n",
      " 21%|##1       | 16/75 [00:00<00:00, 71.69it/s]\u001b[A\n",
      " 31%|###       | 23/75 [00:00<00:00, 70.55it/s]\u001b[A\n",
      " 40%|####      | 30/75 [00:00<00:00, 69.20it/s]\u001b[A\n",
      " 48%|####8     | 36/75 [00:00<00:00, 64.43it/s]\u001b[A\n",
      " 57%|#####7    | 43/75 [00:00<00:00, 64.95it/s]\u001b[A\n",
      " 67%|######6   | 50/75 [00:00<00:00, 65.81it/s]\u001b[A\n",
      " 76%|#######6  | 57/75 [00:00<00:00, 57.38it/s]\u001b[A\n",
      " 84%|########4 | 63/75 [00:01<00:00, 54.93it/s]\u001b[A\n",
      " 92%|#########2| 69/75 [00:01<00:00, 54.99it/s]\u001b[A\n",
      " 46%|████▌     | 392/858 [00:20<01:33,  4.96it/s]A"
     ]
    },
    {
     "name": "stdout",
     "output_type": "stream",
     "text": [
      "\tdone\n",
      "Evaluating\n",
      "{'ade': 0.44153747, 'fde': 0.9780264}\n",
      "\t last loss:0.000285683, eval on validation:['ade: 0.44153747', 'fde: 0.9780264'], (best ade:0.44027826 at step 59700) \n"
     ]
    },
    {
     "name": "stderr",
     "output_type": "stream",
     "text": [
      " 80%|████████  | 687/858 [00:33<00:07, 21.89it/s]\n",
      "  0%|          | 0/75 [00:00<?, ?it/s]\u001b[A"
     ]
    },
    {
     "name": "stdout",
     "output_type": "stream",
     "text": [
      "\tsaving model 82200...\n",
      "\tdone\n",
      "Evaluating\n"
     ]
    },
    {
     "name": "stderr",
     "output_type": "stream",
     "text": [
      "\n",
      " 12%|#2        | 9/75 [00:00<00:00, 84.94it/s]\u001b[A\n",
      " 24%|##4       | 18/75 [00:00<00:00, 85.67it/s]\u001b[A\n",
      " 36%|###6      | 27/75 [00:00<00:00, 86.35it/s]\u001b[A\n",
      " 45%|####5     | 34/75 [00:00<00:00, 79.62it/s]\u001b[A\n",
      " 55%|#####4    | 41/75 [00:00<00:00, 66.66it/s]\u001b[A\n",
      " 64%|######4   | 48/75 [00:00<00:00, 66.49it/s]\u001b[A\n",
      " 75%|#######4  | 56/75 [00:00<00:00, 68.22it/s]\u001b[A\n",
      " 85%|########5 | 64/75 [00:00<00:00, 70.13it/s]\u001b[A\n",
      " 96%|#########6| 72/75 [00:00<00:00, 72.19it/s]\u001b[A\n",
      " 81%|████████  | 693/858 [00:35<00:21,  7.63it/s]A"
     ]
    },
    {
     "name": "stdout",
     "output_type": "stream",
     "text": [
      "{'ade': 0.44166055, 'fde': 0.9784685}\n",
      "\t last loss:0.000301542, eval on validation:['ade: 0.44166055', 'fde: 0.9784685'], (best ade:0.44027826 at step 59700) \n"
     ]
    },
    {
     "name": "stderr",
     "output_type": "stream",
     "text": [
      "100%|██████████| 858/858 [00:42<00:00, 20.15it/s]\n",
      "  0%|          | 2/858 [00:00<00:44, 19.18it/s]"
     ]
    },
    {
     "name": "stdout",
     "output_type": "stream",
     "text": [
      "('Epoca 97.', 'lr:', 8.187269e-07)\n"
     ]
    },
    {
     "name": "stderr",
     "output_type": "stream",
     "text": [
      " 15%|█▌        | 129/858 [00:06<00:38, 18.87it/s]"
     ]
    },
    {
     "name": "stdout",
     "output_type": "stream",
     "text": [
      "\tsaving model 82500...\n"
     ]
    },
    {
     "name": "stderr",
     "output_type": "stream",
     "text": [
      "\n",
      "  0%|          | 0/75 [00:00<?, ?it/s]\u001b[A\n",
      " 11%|#         | 8/75 [00:00<00:00, 73.06it/s]\u001b[A"
     ]
    },
    {
     "name": "stdout",
     "output_type": "stream",
     "text": [
      "\tdone\n",
      "Evaluating\n"
     ]
    },
    {
     "name": "stderr",
     "output_type": "stream",
     "text": [
      "\n",
      " 21%|##1       | 16/75 [00:00<00:00, 73.85it/s]\u001b[A\n",
      " 29%|##9       | 22/75 [00:00<00:00, 66.78it/s]\u001b[A\n",
      " 36%|###6      | 27/75 [00:00<00:00, 58.58it/s]\u001b[A\n",
      " 45%|####5     | 34/75 [00:00<00:00, 61.00it/s]\u001b[A\n",
      " 55%|#####4    | 41/75 [00:00<00:00, 63.20it/s]\u001b[A\n",
      " 64%|######4   | 48/75 [00:00<00:00, 63.16it/s]\u001b[A\n",
      " 75%|#######4  | 56/75 [00:00<00:00, 67.04it/s]\u001b[A\n",
      " 85%|########5 | 64/75 [00:00<00:00, 70.42it/s]\u001b[A\n",
      " 96%|#########6| 72/75 [00:01<00:00, 72.98it/s]\u001b[A\n",
      " 16%|█▌        | 135/858 [00:07<01:43,  7.00it/s]A"
     ]
    },
    {
     "name": "stdout",
     "output_type": "stream",
     "text": [
      "{'ade': 0.44209048, 'fde': 0.9797796}\n",
      "\t last loss:0.000493622, eval on validation:['ade: 0.44209048', 'fde: 0.9797796'], (best ade:0.44027826 at step 59700) \n"
     ]
    },
    {
     "name": "stderr",
     "output_type": "stream",
     "text": [
      " 50%|█████     | 429/858 [00:20<00:17, 24.40it/s]\n",
      "  0%|          | 0/75 [00:00<?, ?it/s]\u001b[A"
     ]
    },
    {
     "name": "stdout",
     "output_type": "stream",
     "text": [
      "\tsaving model 82800...\n",
      "\tdone\n",
      "Evaluating\n"
     ]
    },
    {
     "name": "stderr",
     "output_type": "stream",
     "text": [
      "\n",
      " 12%|#2        | 9/75 [00:00<00:00, 88.73it/s]\u001b[A\n",
      " 24%|##4       | 18/75 [00:00<00:00, 88.08it/s]\u001b[A\n",
      " 36%|###6      | 27/75 [00:00<00:00, 87.63it/s]\u001b[A\n",
      " 48%|####8     | 36/75 [00:00<00:00, 86.61it/s]\u001b[A\n",
      " 59%|#####8    | 44/75 [00:00<00:00, 83.30it/s]\u001b[A\n",
      " 71%|#######   | 53/75 [00:00<00:00, 83.64it/s]\u001b[A\n",
      " 83%|########2 | 62/75 [00:00<00:00, 84.50it/s]\u001b[A\n",
      " 95%|#########4| 71/75 [00:00<00:00, 84.97it/s]\u001b[A\n",
      " 51%|█████     | 435/858 [00:21<00:49,  8.62it/s]A"
     ]
    },
    {
     "name": "stdout",
     "output_type": "stream",
     "text": [
      "{'ade': 0.4419919, 'fde': 0.9798085}\n",
      "\t last loss:0.000513710, eval on validation:['ade: 0.4419919', 'fde: 0.9798085'], (best ade:0.44027826 at step 59700) \n"
     ]
    },
    {
     "name": "stderr",
     "output_type": "stream",
     "text": [
      " 85%|████████▌ | 731/858 [00:34<00:05, 23.42it/s]\n",
      "  0%|          | 0/75 [00:00<?, ?it/s]\u001b[A"
     ]
    },
    {
     "name": "stdout",
     "output_type": "stream",
     "text": [
      "\tsaving model 83100...\n",
      "\tdone\n",
      "Evaluating\n"
     ]
    },
    {
     "name": "stderr",
     "output_type": "stream",
     "text": [
      "\n",
      "  9%|9         | 7/75 [00:00<00:01, 57.87it/s]\u001b[A\n",
      " 17%|#7        | 13/75 [00:00<00:01, 58.48it/s]\u001b[A\n",
      " 27%|##6       | 20/75 [00:00<00:00, 61.36it/s]\u001b[A\n",
      " 36%|###6      | 27/75 [00:00<00:00, 61.76it/s]\u001b[A\n",
      " 47%|####6     | 35/75 [00:00<00:00, 64.86it/s]\u001b[A\n",
      " 57%|#####7    | 43/75 [00:00<00:00, 66.77it/s]\u001b[A\n",
      " 68%|######8   | 51/75 [00:00<00:00, 68.47it/s]\u001b[A\n",
      " 79%|#######8  | 59/75 [00:00<00:00, 70.70it/s]\u001b[A\n",
      " 89%|########9 | 67/75 [00:00<00:00, 71.38it/s]\u001b[A\n",
      " 86%|████████▌ | 734/858 [00:35<00:21,  5.83it/s]A"
     ]
    },
    {
     "name": "stdout",
     "output_type": "stream",
     "text": [
      "{'ade': 0.4418743, 'fde': 0.979241}\n",
      "\t last loss:0.000320522, eval on validation:['ade: 0.4418743', 'fde: 0.979241'], (best ade:0.44027826 at step 59700) \n"
     ]
    },
    {
     "name": "stderr",
     "output_type": "stream",
     "text": [
      "100%|██████████| 858/858 [00:41<00:00, 18.51it/s]\n",
      "  0%|          | 1/858 [00:00<01:49,  7.81it/s]"
     ]
    },
    {
     "name": "stdout",
     "output_type": "stream",
     "text": [
      "('Epoca 98.', 'lr:', 8.187269e-07)\n"
     ]
    },
    {
     "name": "stderr",
     "output_type": "stream",
     "text": [
      " 20%|█▉        | 171/858 [00:07<00:30, 22.81it/s]\n",
      "  0%|          | 0/75 [00:00<?, ?it/s]\u001b[A"
     ]
    },
    {
     "name": "stdout",
     "output_type": "stream",
     "text": [
      "\tsaving model 83400...\n",
      "\tdone\n",
      "Evaluating\n"
     ]
    },
    {
     "name": "stderr",
     "output_type": "stream",
     "text": [
      "\n",
      "  9%|9         | 7/75 [00:00<00:01, 67.87it/s]\u001b[A\n",
      " 19%|#8        | 14/75 [00:00<00:00, 67.15it/s]\u001b[A\n",
      " 29%|##9       | 22/75 [00:00<00:00, 68.94it/s]\u001b[A\n",
      " 41%|####1     | 31/75 [00:00<00:00, 73.04it/s]\u001b[A\n",
      " 53%|#####3    | 40/75 [00:00<00:00, 76.14it/s]\u001b[A\n",
      " 65%|######5   | 49/75 [00:00<00:00, 78.14it/s]\u001b[A\n",
      " 77%|#######7  | 58/75 [00:00<00:00, 80.76it/s]\u001b[A\n",
      " 91%|######### | 68/75 [00:00<00:00, 83.98it/s]\u001b[A\n",
      " 21%|██        | 177/858 [00:09<01:22,  8.23it/s]A"
     ]
    },
    {
     "name": "stdout",
     "output_type": "stream",
     "text": [
      "{'ade': 0.44186944, 'fde': 0.979282}\n",
      "\t last loss:0.000266586, eval on validation:['ade: 0.44186944', 'fde: 0.979282'], (best ade:0.44027826 at step 59700) \n"
     ]
    },
    {
     "name": "stderr",
     "output_type": "stream",
     "text": [
      " 55%|█████▍    | 471/858 [00:20<00:14, 26.06it/s]\n",
      "  0%|          | 0/75 [00:00<?, ?it/s]\u001b[A"
     ]
    },
    {
     "name": "stdout",
     "output_type": "stream",
     "text": [
      "\tsaving model 83700...\n",
      "\tdone\n",
      "Evaluating\n"
     ]
    },
    {
     "name": "stderr",
     "output_type": "stream",
     "text": [
      "\n",
      " 13%|#3        | 10/75 [00:00<00:00, 90.81it/s]\u001b[A\n",
      " 25%|##5       | 19/75 [00:00<00:00, 90.01it/s]\u001b[A\n",
      " 36%|###6      | 27/75 [00:00<00:00, 85.56it/s]\u001b[A\n",
      " 48%|####8     | 36/75 [00:00<00:00, 85.03it/s]\u001b[A\n",
      " 60%|######    | 45/75 [00:00<00:00, 85.81it/s]\u001b[A\n",
      " 72%|#######2  | 54/75 [00:00<00:00, 86.38it/s]\u001b[A\n",
      " 84%|########4 | 63/75 [00:00<00:00, 87.01it/s]\u001b[A\n",
      " 96%|#########6| 72/75 [00:00<00:00, 87.33it/s]\u001b[A\n",
      " 56%|█████▌    | 477/858 [00:22<00:43,  8.86it/s]A"
     ]
    },
    {
     "name": "stdout",
     "output_type": "stream",
     "text": [
      "{'ade': 0.4421805, 'fde': 0.9800931}\n",
      "\t last loss:0.000357550, eval on validation:['ade: 0.4421805', 'fde: 0.9800931'], (best ade:0.44027826 at step 59700) \n"
     ]
    },
    {
     "name": "stderr",
     "output_type": "stream",
     "text": [
      " 90%|████████▉ | 771/858 [00:34<00:03, 25.21it/s]\n",
      "  0%|          | 0/75 [00:00<?, ?it/s]\u001b[A"
     ]
    },
    {
     "name": "stdout",
     "output_type": "stream",
     "text": [
      "\tsaving model 84000...\n",
      "\tdone\n",
      "Evaluating\n"
     ]
    },
    {
     "name": "stderr",
     "output_type": "stream",
     "text": [
      "\n",
      " 12%|#2        | 9/75 [00:00<00:00, 89.73it/s]\u001b[A\n",
      " 24%|##4       | 18/75 [00:00<00:00, 88.55it/s]\u001b[A\n",
      " 36%|###6      | 27/75 [00:00<00:00, 88.42it/s]\u001b[A\n",
      " 48%|####8     | 36/75 [00:00<00:00, 88.18it/s]\u001b[A\n",
      " 59%|#####8    | 44/75 [00:00<00:00, 83.50it/s]\u001b[A\n",
      " 71%|#######   | 53/75 [00:00<00:00, 84.07it/s]\u001b[A\n",
      " 83%|########2 | 62/75 [00:00<00:00, 84.78it/s]\u001b[A\n",
      " 95%|#########4| 71/75 [00:00<00:00, 85.42it/s]\u001b[A\n",
      " 91%|█████████ | 777/858 [00:35<00:09,  8.78it/s]A"
     ]
    },
    {
     "name": "stdout",
     "output_type": "stream",
     "text": [
      "{'ade': 0.44172376, 'fde': 0.97879714}\n",
      "\t last loss:0.000489298, eval on validation:['ade: 0.44172376', 'fde: 0.97879714'], (best ade:0.44027826 at step 59700) \n"
     ]
    },
    {
     "name": "stderr",
     "output_type": "stream",
     "text": [
      "100%|██████████| 858/858 [00:38<00:00, 27.37it/s]\n",
      "  0%|          | 1/858 [00:00<01:29,  9.56it/s]"
     ]
    },
    {
     "name": "stdout",
     "output_type": "stream",
     "text": [
      "('Epoca 99.', 'lr:', 6.9591783e-07)\n"
     ]
    },
    {
     "name": "stderr",
     "output_type": "stream",
     "text": [
      " 25%|██▍       | 214/858 [00:08<00:25, 24.90it/s]\n",
      "  0%|          | 0/75 [00:00<?, ?it/s]\u001b[A"
     ]
    },
    {
     "name": "stdout",
     "output_type": "stream",
     "text": [
      "\tsaving model 84300...\n",
      "\tdone\n",
      "Evaluating\n"
     ]
    },
    {
     "name": "stderr",
     "output_type": "stream",
     "text": [
      "\n",
      " 11%|#         | 8/75 [00:00<00:00, 78.83it/s]\u001b[A\n",
      " 23%|##2       | 17/75 [00:00<00:00, 80.20it/s]\u001b[A\n",
      " 35%|###4      | 26/75 [00:00<00:00, 81.26it/s]\u001b[A\n",
      " 47%|####6     | 35/75 [00:00<00:00, 83.13it/s]\u001b[A\n",
      " 57%|#####7    | 43/75 [00:00<00:00, 81.18it/s]\u001b[A\n",
      " 69%|######9   | 52/75 [00:00<00:00, 81.73it/s]\u001b[A\n",
      " 80%|########  | 60/75 [00:00<00:00, 80.77it/s]\u001b[A\n",
      " 92%|#########2| 69/75 [00:00<00:00, 81.75it/s]\u001b[A\n",
      " 25%|██▌       | 217/858 [00:10<01:35,  6.68it/s]A"
     ]
    },
    {
     "name": "stdout",
     "output_type": "stream",
     "text": [
      "{'ade': 0.44153017, 'fde': 0.9782765}\n",
      "\t last loss:0.000274614, eval on validation:['ade: 0.44153017', 'fde: 0.9782765'], (best ade:0.44027826 at step 59700) \n"
     ]
    },
    {
     "name": "stderr",
     "output_type": "stream",
     "text": [
      " 60%|██████    | 515/858 [00:23<00:13, 24.53it/s]\n",
      "  0%|          | 0/75 [00:00<?, ?it/s]\u001b[A"
     ]
    },
    {
     "name": "stdout",
     "output_type": "stream",
     "text": [
      "\tsaving model 84600...\n",
      "\tdone\n",
      "Evaluating\n"
     ]
    },
    {
     "name": "stderr",
     "output_type": "stream",
     "text": [
      "\n",
      " 12%|#2        | 9/75 [00:00<00:00, 83.01it/s]\u001b[A\n",
      " 21%|##1       | 16/75 [00:00<00:00, 77.69it/s]\u001b[A\n",
      " 32%|###2      | 24/75 [00:00<00:00, 78.33it/s]\u001b[A\n",
      " 44%|####4     | 33/75 [00:00<00:00, 79.78it/s]\u001b[A\n",
      " 56%|#####6    | 42/75 [00:00<00:00, 81.94it/s]\u001b[A\n",
      " 68%|######8   | 51/75 [00:00<00:00, 82.62it/s]\u001b[A\n",
      " 80%|########  | 60/75 [00:00<00:00, 83.28it/s]\u001b[A\n",
      " 92%|#########2| 69/75 [00:00<00:00, 84.48it/s]\u001b[A\n",
      " 60%|██████    | 518/858 [00:25<00:51,  6.66it/s]A"
     ]
    },
    {
     "name": "stdout",
     "output_type": "stream",
     "text": [
      "{'ade': 0.4417948, 'fde': 0.9790515}\n",
      "\t last loss:0.000253895, eval on validation:['ade: 0.4417948', 'fde: 0.9790515'], (best ade:0.44027826 at step 59700) \n"
     ]
    },
    {
     "name": "stderr",
     "output_type": "stream",
     "text": [
      " 95%|█████████▍| 814/858 [00:38<00:01, 23.77it/s]\n",
      "  0%|          | 0/75 [00:00<?, ?it/s]\u001b[A"
     ]
    },
    {
     "name": "stdout",
     "output_type": "stream",
     "text": [
      "\tsaving model 84900...\n",
      "\tdone\n",
      "Evaluating\n"
     ]
    },
    {
     "name": "stderr",
     "output_type": "stream",
     "text": [
      "\n",
      " 12%|#2        | 9/75 [00:00<00:00, 88.12it/s]\u001b[A\n",
      " 24%|##4       | 18/75 [00:00<00:00, 87.33it/s]\u001b[A\n",
      " 36%|###6      | 27/75 [00:00<00:00, 87.29it/s]\u001b[A\n",
      " 47%|####6     | 35/75 [00:00<00:00, 84.88it/s]\u001b[A\n",
      " 59%|#####8    | 44/75 [00:00<00:00, 84.78it/s]\u001b[A\n",
      " 71%|#######   | 53/75 [00:00<00:00, 85.79it/s]\u001b[A\n",
      " 83%|########2 | 62/75 [00:00<00:00, 86.49it/s]\u001b[A\n",
      " 95%|#########4| 71/75 [00:00<00:00, 86.55it/s]\u001b[A\n",
      " 96%|█████████▌| 820/858 [00:40<00:04,  8.69it/s]A"
     ]
    },
    {
     "name": "stdout",
     "output_type": "stream",
     "text": [
      "{'ade': 0.4413895, 'fde': 0.9779745}\n",
      "\t last loss:0.000480890, eval on validation:['ade: 0.4413895', 'fde: 0.9779745'], (best ade:0.44027826 at step 59700) \n"
     ]
    },
    {
     "name": "stderr",
     "output_type": "stream",
     "text": [
      "100%|██████████| 858/858 [00:41<00:00, 20.59it/s]\n",
      "  0%|          | 2/858 [00:00<00:48, 17.48it/s]"
     ]
    },
    {
     "name": "stdout",
     "output_type": "stream",
     "text": [
      "('Epoca 100.', 'lr:', 6.9591783e-07)\n"
     ]
    },
    {
     "name": "stderr",
     "output_type": "stream",
     "text": [
      " 30%|██▉       | 256/858 [00:11<00:33, 17.85it/s]"
     ]
    },
    {
     "name": "stdout",
     "output_type": "stream",
     "text": [
      "\tsaving model 85200...\n"
     ]
    },
    {
     "name": "stderr",
     "output_type": "stream",
     "text": [
      "\n",
      "  0%|          | 0/75 [00:00<?, ?it/s]\u001b[A\n",
      "  7%|6         | 5/75 [00:00<00:01, 45.23it/s]\u001b[A"
     ]
    },
    {
     "name": "stdout",
     "output_type": "stream",
     "text": [
      "\tdone\n",
      "Evaluating\n"
     ]
    },
    {
     "name": "stderr",
     "output_type": "stream",
     "text": [
      "\n",
      " 12%|#2        | 9/75 [00:00<00:01, 42.39it/s]\u001b[A\n",
      " 23%|##2       | 17/75 [00:00<00:01, 48.85it/s]\u001b[A\n",
      " 28%|##8       | 21/75 [00:00<00:01, 45.50it/s]\u001b[A\n",
      " 33%|###3      | 25/75 [00:00<00:01, 43.12it/s]\u001b[A\n",
      " 43%|####2     | 32/75 [00:00<00:00, 48.24it/s]\u001b[A\n",
      " 55%|#####4    | 41/75 [00:00<00:00, 55.30it/s]\u001b[A\n",
      " 67%|######6   | 50/75 [00:00<00:00, 59.87it/s]\u001b[A\n",
      " 76%|#######6  | 57/75 [00:01<00:00, 49.79it/s]\u001b[A\n",
      " 84%|########4 | 63/75 [00:01<00:00, 48.72it/s]\u001b[A\n",
      " 93%|#########3| 70/75 [00:01<00:00, 51.88it/s]\u001b[A\n",
      " 30%|███       | 261/858 [00:13<02:14,  4.45it/s]A"
     ]
    },
    {
     "name": "stdout",
     "output_type": "stream",
     "text": [
      "{'ade': 0.4415644, 'fde': 0.97826517}\n",
      "\t last loss:0.000343689, eval on validation:['ade: 0.4415644', 'fde: 0.97826517'], (best ade:0.44027826 at step 59700) \n"
     ]
    },
    {
     "name": "stderr",
     "output_type": "stream",
     "text": [
      " 65%|██████▍   | 557/858 [00:27<00:14, 20.20it/s]\n",
      "  0%|          | 0/75 [00:00<?, ?it/s]\u001b[A"
     ]
    },
    {
     "name": "stdout",
     "output_type": "stream",
     "text": [
      "\tsaving model 85500...\n",
      "\tdone\n",
      "Evaluating\n"
     ]
    },
    {
     "name": "stderr",
     "output_type": "stream",
     "text": [
      "\n",
      " 12%|#2        | 9/75 [00:00<00:00, 88.81it/s]\u001b[A\n",
      " 23%|##2       | 17/75 [00:00<00:00, 84.97it/s]\u001b[A\n",
      " 35%|###4      | 26/75 [00:00<00:00, 85.07it/s]\u001b[A\n",
      " 47%|####6     | 35/75 [00:00<00:00, 85.25it/s]\u001b[A\n",
      " 57%|#####7    | 43/75 [00:00<00:00, 81.11it/s]\u001b[A\n",
      " 68%|######8   | 51/75 [00:00<00:00, 80.15it/s]\u001b[A\n",
      " 79%|#######8  | 59/75 [00:00<00:00, 66.91it/s]\u001b[A\n",
      " 89%|########9 | 67/75 [00:00<00:00, 67.28it/s]\u001b[A\n",
      " 65%|██████▌   | 560/858 [00:28<00:49,  6.02it/s]A"
     ]
    },
    {
     "name": "stdout",
     "output_type": "stream",
     "text": [
      "{'ade': 0.44130442, 'fde': 0.9778954}\n",
      "\t last loss:0.000479880, eval on validation:['ade: 0.44130442', 'fde: 0.9778954'], (best ade:0.44027826 at step 59700) \n"
     ]
    },
    {
     "name": "stderr",
     "output_type": "stream",
     "text": [
      "100%|█████████▉| 856/858 [00:43<00:00, 14.35it/s]"
     ]
    },
    {
     "name": "stdout",
     "output_type": "stream",
     "text": [
      "\tsaving model 85800...\n"
     ]
    },
    {
     "name": "stderr",
     "output_type": "stream",
     "text": [
      "\n",
      "  0%|          | 0/75 [00:00<?, ?it/s]\u001b[A\n",
      "  8%|8         | 6/75 [00:00<00:01, 55.19it/s]\u001b[A"
     ]
    },
    {
     "name": "stdout",
     "output_type": "stream",
     "text": [
      "\tdone\n",
      "Evaluating\n"
     ]
    },
    {
     "name": "stderr",
     "output_type": "stream",
     "text": [
      "\n",
      " 15%|#4        | 11/75 [00:00<00:01, 51.69it/s]\u001b[A\n",
      " 21%|##1       | 16/75 [00:00<00:01, 50.40it/s]\u001b[A\n",
      " 28%|##8       | 21/75 [00:00<00:01, 47.54it/s]\u001b[A\n",
      " 37%|###7      | 28/75 [00:00<00:00, 51.66it/s]\u001b[A\n",
      " 48%|####8     | 36/75 [00:00<00:00, 56.62it/s]\u001b[A\n",
      " 59%|#####8    | 44/75 [00:00<00:00, 61.40it/s]\u001b[A\n",
      " 69%|######9   | 52/75 [00:00<00:00, 65.75it/s]\u001b[A\n",
      " 81%|########1 | 61/75 [00:00<00:00, 70.01it/s]\u001b[A\n",
      " 92%|#########2| 69/75 [00:01<00:00, 69.35it/s]\u001b[A\n",
      "100%|██████████| 858/858 [00:44<00:00,  3.55it/s]A"
     ]
    },
    {
     "name": "stdout",
     "output_type": "stream",
     "text": [
      "{'ade': 0.44140145, 'fde': 0.9779905}\n",
      "\t last loss:0.000358157, eval on validation:['ade: 0.44140145', 'fde: 0.9779905'], (best ade:0.44027826 at step 59700) \n",
      "best eval on val ade: 0.44027826 at 59700 step y fde es 0.97385895 \n"
     ]
    },
    {
     "name": "stderr",
     "output_type": "stream",
     "text": [
      "\n"
     ]
    }
   ],
   "source": [
    "import os \n",
    "from tqdm import tqdm\n",
    "import tensorflow as tf\n",
    "import math\n",
    "\n",
    "tf.reset_default_graph()\n",
    "\n",
    "arguments = parameters1(add_kp = False, add_social = True, train_num_examples=len(data1['obs_traj']))\n",
    "model = model.Model(arguments)\n",
    "\n",
    "train_data = batches_data.Dataset(data1,arguments)\n",
    "val_data = batches_data.Dataset(data3,arguments)\n",
    "\n",
    "saver = tf.train.Saver(max_to_keep = 2)\n",
    "bestsaver = tf.train.Saver(max_to_keep = 2)\n",
    "\n",
    "\n",
    "trainer = entrenamientoevaluacion.Trainer(model,arguments)\n",
    "tester = entrenamientoevaluacion.Tester(model, arguments)\n",
    "\n",
    "#inicializamos las variables globales\n",
    "init = tf.global_variables_initializer()\n",
    "sess = tf.Session()\n",
    "sess.run(init)\n",
    "\n",
    "increment_global_step_op = tf.assign(model.global_step, model.global_step+1)\n",
    "\n",
    "val_perf = []\n",
    "loss = -1\n",
    "\n",
    "metric = 'ade'\n",
    "best = {metric:999999, 'fde':0, 'step':-1}\n",
    "is_start = True\n",
    "\n",
    "num_steps = int(math.ceil(train_data.num_examples/float(arguments.batch_size)))\n",
    "loss_list = []\n",
    "loss_epochs = []\n",
    "print(num_steps)\n",
    "\n",
    "for i in range(arguments.num_epochs):\n",
    "    print('Epoca {0}.' .format(i+1), 'lr:', sess.run(trainer.get_lr()))\n",
    "    \n",
    "    #For de batches\n",
    "    for idx, batch in tqdm(train_data.get_batches(arguments.batch_size,num_steps = num_steps),total=num_steps):\n",
    "        \n",
    "        sess.run(increment_global_step_op)\n",
    "        global_step = sess.run(model.global_step)\n",
    "\n",
    "        #Evaluamos el entrenamiento\n",
    "        if((global_step%arguments.validate==0) or (arguments.load_best and is_start)):\n",
    "            #guardamos el modelo\n",
    "            tqdm.write(\"\\tsaving model %s...\" % global_step)\n",
    "            checkpoint_path_model = os.path.join('FO_ETH-HOTEL_NON_12', 'model.ckpt')\n",
    "            saver.save(sess,checkpoint_path_model , global_step = global_step)\n",
    "            tqdm.write(\"\\tdone\")\n",
    "            \n",
    "            print('Evaluating')\n",
    "            results = evaluate(val_data, tester,sess,arguments)\n",
    "            print(results)\n",
    "           \n",
    "            tqdm.write((\"\\t last loss:%.9f, eval on validation:%s,\"\n",
    "                    \" (best %s:%s at step %s) \") % (loss,[\"%s: %s\" % (k, results[k]) for k in sorted(results.keys())], metric,best[metric], best[\"step\"]))\n",
    "            if results[\"ade\"]< best[metric]:\n",
    "                best[metric] = results[\"ade\"]\n",
    "                best[\"fde\"]  = results[\"fde\"]\n",
    "                best[\"step\"] = global_step\n",
    "                \n",
    "                tqdm.write(\"\\t saving best model...\")\n",
    "                checkpoint_path_model_best = os.path.join('FO_ETH-HOTEL_NON-BEST_12', 'model_best.ckpt')\n",
    "                bestsaver.save(sess,checkpoint_path_model_best,global_step = global_step)\n",
    "                tqdm.write(\"\\t done.\")\n",
    "                finalperf = results\n",
    "                val_perf.append((loss, results))\n",
    "            is_start = False\n",
    "        loss, train_op = trainer.step(sess, batch)\n",
    "        loss_list.append(loss)\n",
    "    loss_epochs.append(loss)\n",
    "if((global_step % arguments.validate)!=0):\n",
    "  checkpoint_path_model = os.path.join('FO_ETH-HOTEL_NON_12', 'model.ckpt')\n",
    "  saver.save(sess,checkpoint_path_model , global_step = global_step)\n",
    "\n",
    "print(\"best eval on val %s: %s at %s step y fde es %s \" % (metric, best[metric], best[\"step\"],best[\"fde\"]))\n"
   ]
  },
  {
   "cell_type": "code",
   "execution_count": 9,
   "metadata": {},
   "outputs": [
    {
     "data": {
      "image/png": "[encoded data removed]",
      "text/plain": [
       "<Figure size 432x288 with 1 Axes>"
      ]
     },
     "metadata": {
      "needs_background": "light"
     },
     "output_type": "display_data"
    }
   ],
   "source": [
    "from matplotlib import pyplot as plt\n",
    "learning =[]\n",
    "for i in range(arguments.num_epochs):\n",
    "    a = (len(loss_list)/arguments.num_epochs)*(i-1)\n",
    "    b = (len(loss_list)/arguments.num_epochs)*(i)\n",
    "    learning.append(np.mean(loss_list[a:b]))\n",
    "\n",
    "plt.plot(learning)\n",
    "plt.xlabel(\"Epochs\")\n",
    "plt.ylabel(\"Loss\")\n",
    "plt.show()\n"
   ]
  },
  {
   "cell_type": "markdown",
   "metadata": {},
   "source": [
    "# Load model"
   ]
  },
  {
   "cell_type": "code",
   "execution_count": 10,
   "metadata": {},
   "outputs": [
    {
     "name": "stderr",
     "output_type": "stream",
     "text": [
      "W0523 18:54:04.601540 140089525819136 deprecation.py:323] From /home/andrea/anaconda2/lib/python2.7/site-packages/tensorflow/python/training/saver.py:1276: checkpoint_exists (from tensorflow.python.training.checkpoint_management) is deprecated and will be removed in a future version.\n",
      "Instructions for updating:\n",
      "Use standard file APIs to check for files with this prefix.\n",
      " 20%|#9        | 9/46 [00:00<00:00, 87.00it/s]"
     ]
    },
    {
     "name": "stdout",
     "output_type": "stream",
     "text": [
      "Evaluating\n"
     ]
    },
    {
     "name": "stderr",
     "output_type": "stream",
     "text": [
      "100%|##########| 46/46 [00:00<00:00, 86.76it/s]"
     ]
    },
    {
     "name": "stdout",
     "output_type": "stream",
     "text": [
      "{'ade': 0.5205492, 'fde': 0.9995375}\n"
     ]
    },
    {
     "name": "stderr",
     "output_type": "stream",
     "text": [
      "\n"
     ]
    }
   ],
   "source": [
    "#Modelo12\n",
    "path_model = 'FO_ETH-HOTEL_NON_12/model.ckpt-85800'\n",
    "saver.restore(sess=sess, save_path=path_model)\n",
    "\n",
    "\n",
    "test_data = batches_data.Dataset(data_test, arguments)\n",
    "print('Evaluating')\n",
    "results = evaluate(test_data, tester,sess,arguments)\n",
    "print(results)"
   ]
  },
  {
   "cell_type": "code",
   "execution_count": null,
   "metadata": {},
   "outputs": [],
   "source": [
    "# Mejor Modelo\n",
    "path_model = 'FO_ETH-HOTEL_NON-BEST_12/model_best.ckpt-28800'\n",
    "saver.restore(sess=sess, save_path=path_model)\n",
    "\n",
    "test_data = batches_data.Dataset(data_test, arguments)\n",
    "print('Evaluating')\n",
    "results = evaluate(test_data, tester,sess,arguments)\n",
    "print(results)"
   ]
  }
 ],
 "metadata": {
  "kernelspec": {
   "display_name": "Python 2",
   "language": "python",
   "name": "python2"
  },
  "language_info": {
   "codemirror_mode": {
    "name": "ipython",
    "version": 2
   },
   "file_extension": ".py",
   "mimetype": "text/x-python",
   "name": "python",
   "nbconvert_exporter": "python",
   "pygments_lexer": "ipython2",
   "version": "2.7.16"
  }
 },
 "nbformat": 4,
 "nbformat_minor": 2
}
