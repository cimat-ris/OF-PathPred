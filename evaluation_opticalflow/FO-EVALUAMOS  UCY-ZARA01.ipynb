{
 "cells": [
  {
   "cell_type": "code",
   "execution_count": 1,
   "metadata": {},
   "outputs": [],
   "source": [
    "import sys\n",
    "sys.path.append('/home/andrea/Documentos/OF-PathPred/evaluation_opticalflow/lib')\n",
    "import numpy as np\n",
    "#from process_file import process_file_modif\n",
    "#from process_file import process_file_modif_varios\n",
    "#from process_file import datos_subprocesados_varios\n",
    "from interseccion_process_file import process_file_modif_varios_inter\n",
    "from interseccion_process_file import process_file_modif_inter\n",
    "from interaction_optical_flow import OpticalFlowSimulator\n",
    "\n",
    "import batches_data\n",
    "import model\n",
    "\n",
    "import tensorflow as tf \n",
    "tf.reset_default_graph()\n",
    "\n",
    "import entrenamientoevaluacion\n",
    "from entrenamientoevaluacion import evaluate"
   ]
  },
  {
   "cell_type": "code",
   "execution_count": 2,
   "metadata": {},
   "outputs": [],
   "source": [
    "# parametros para preprocesar los datos\n",
    "# en marco mundo\n",
    "class parameters:\n",
    "    def __init__(self):\n",
    "        #el numero de personas maximasdel conjunto de test\n",
    "        self.person_max = 14\n",
    "        #el indice del conjunto de test\n",
    "        self.ind_test = 2\n",
    "        self.obs_len = 8\n",
    "        self.pred_len = 12\n",
    "        self.add_social = True\n",
    "        self.kp_num = 18\n",
    "        self.add_kp = False\n",
    "        #self.directory_flujo='../evaluation_opticalflow/flujos'\n",
    "arguments = parameters()"
   ]
  },
  {
   "cell_type": "code",
   "execution_count": 3,
   "metadata": {},
   "outputs": [
    {
     "name": "stdout",
     "output_type": "stream",
     "text": [
      "../data1/eth-univ/mundo/mun_pos.csv\n",
      "('The numbers of examples is: ', 339)\n",
      "../data1/eth-hotel/mundo/mun_pos.csv\n",
      "('The numbers of examples is: ', 913)\n",
      "../data1/ucy-zara02/mundo/mun_pos.csv\n",
      "('The numbers of examples is: ', 5910)\n",
      "../data1/ucy-univ/mundo/mun_pos.csv\n",
      "('The numbers of examples is: ', 10039)\n",
      "\n",
      "\n",
      "\n",
      "('[INF] Sequence length: ', 20)\n",
      "../data1/ucy-zara01/mundo/mun_pos.csv\n",
      "('El numero total de ejemplos es: ', 2356)\n"
     ]
    }
   ],
   "source": [
    "# Cargamos los argumentos\n",
    "data_dirs = ['../data1/eth-univ', '../data1/eth-hotel',\n",
    "             '../data1/ucy-zara01', '../data1/ucy-zara02',\n",
    "             '../data1/ucy-univ']\n",
    "\n",
    "#list_max_person = [42,28,22,26,68]\n",
    "list_max_person_inter = [5,8,14,14,40]\n",
    "data_train_and_val = process_file_modif_varios_inter(data_dirs, list_max_person_inter, arguments, ',')\n",
    "print(\"\\n\\n\")\n",
    "dir_test = data_dirs[arguments.ind_test]\n",
    "data_test = process_file_modif_inter(dir_test, arguments,',')\n",
    "\n",
    "fo = OpticalFlowSimulator()\n",
    "flujo_test, vis_neigh_test = fo.compute_opticalflow_batch(data_test['obs_person'], data_test['key_idx'], data_test['obs_traj'],arguments.obs_len)\n",
    "data_test.update({\n",
    "    \"obs_flujo\": flujo_test,\n",
    "})\n",
    "\n"
   ]
  },
  {
   "cell_type": "markdown",
   "metadata": {},
   "source": [
    "# We divide the data"
   ]
  },
  {
   "cell_type": "code",
   "execution_count": 4,
   "metadata": {},
   "outputs": [
    {
     "name": "stdout",
     "output_type": "stream",
     "text": [
      "data_train: 15824\n",
      "data_test: 2356\n",
      "data_val: 1377\n"
     ]
    }
   ],
   "source": [
    "#se fija la semilaa\n",
    "import random\n",
    "random.seed(0)\n",
    "\n",
    "# Muestreamos aleatoriamente para separar datos de entrenamiento, validacion y prueba\n",
    "\n",
    "\n",
    "# porcentaje para el conjunto de train\n",
    "prob      = 0.92\n",
    "# La cantidad total de listas de tam 8 del conjunto train and test\n",
    "ndata     = len(data_train_and_val[list(data_train_and_val.keys())[2]])\n",
    "idx       = random.sample(range(ndata), ndata)\n",
    "long1     = int(ndata*prob)\n",
    "long2     = int(ndata-long1)\n",
    "\n",
    "idx_train = idx[0:long1]\n",
    "idx_val   = idx[long1:]\n",
    "\n",
    "\n",
    "# conjunto de entrenamiento\n",
    "data1 = {\n",
    "     \"obs_traj\": data_train_and_val[\"obs_traj\"][idx_train],\n",
    "     \"obs_traj_rel\": data_train_and_val[\"obs_traj_rel\"][idx_train],\n",
    "    \n",
    "     \"pred_traj\": data_train_and_val[\"pred_traj\"][idx_train],\n",
    "     \"pred_traj_rel\": data_train_and_val[\"pred_traj_rel\"][idx_train],\n",
    "    \n",
    "     #\"key_idx\": data_entrena_vali[\"key_idx\"][[idx_train]],\n",
    "     \"obs_flujo\" : data_train_and_val[\"obs_flujo\"][idx_train],\n",
    "     #\"pred_kp\": data_pets[\"pred_kp\"][idx_train],\n",
    "     #\"obs_person\": data_pets[\"obs_person\"][idx_train],\n",
    "}\n",
    "\n",
    "\n",
    "# conjunto de validacion\n",
    "data3 ={\n",
    "     \"obs_traj\": data_train_and_val[\"obs_traj\"][idx_val],\n",
    "     \"obs_traj_rel\": data_train_and_val[\"obs_traj_rel\"][idx_val],\n",
    "     \"pred_traj\": data_train_and_val[\"pred_traj\"][idx_val],\n",
    "     \"pred_traj_rel\": data_train_and_val[\"pred_traj_rel\"][idx_val],\n",
    "     #\"key_idx\": data_entrena_vali[\"key_idx\"][[idx_val]],\n",
    "     \"obs_flujo\" : data_train_and_val[\"obs_flujo\"][idx_val],\n",
    "}\n",
    "\n",
    "\n",
    "#if arguments.add_kp:\n",
    "#  print(data3['obs_person_rel'])\n",
    "\n",
    "print(\"data_train: \"+ str(len(data1[list(data1.keys())[0]])))\n",
    "print(\"data_test: \"+ str(len(data_test[list(data_test.keys())[0]])))\n",
    "print(\"data_val: \"+ str(len(data3[list(data3.keys())[0]])))\n"
   ]
  },
  {
   "cell_type": "markdown",
   "metadata": {},
   "source": [
    "# We keep the division of the data"
   ]
  },
  {
   "cell_type": "code",
   "execution_count": 5,
   "metadata": {},
   "outputs": [],
   "source": [
    "import pickle\n",
    "\n",
    "#conjunto de entrenamiento\n",
    "pickle_out = open(\"data1_FO_UCY-ZARA01_12.pickle\",\"wb\")\n",
    "pickle.dump(data1, pickle_out, protocol=2)\n",
    "pickle_out.close()\n",
    "\n",
    "#conjunto de prueba\n",
    "pickle_out = open(\"data2_FO_UCY-ZARA01_12.pickle\",\"wb\")\n",
    "pickle.dump(data_test, pickle_out, protocol=2)\n",
    "pickle_out.close()\n",
    "\n",
    "#conjunto de validacion\n",
    "pickle_out = open(\"data3_FO_UCY-ZARA01_12.pickle\",\"wb\")\n",
    "pickle.dump(data3, pickle_out, protocol=2)\n",
    "pickle_out.close()"
   ]
  },
  {
   "cell_type": "markdown",
   "metadata": {},
   "source": [
    "# Model parameters"
   ]
  },
  {
   "cell_type": "code",
   "execution_count": 6,
   "metadata": {},
   "outputs": [],
   "source": [
    "class parameters1:\n",
    "    def __init__(self, add_kp = None, add_social=None, train_num_examples=None):\n",
    "        # -----------------\n",
    "        # Similar a como se procesaron los datos\n",
    "        self.obs_len = 8\n",
    "        self.pred_len = 12\n",
    "        if add_kp is None:\n",
    "            print('Parameter add kpp missing')\n",
    "            return\n",
    "        if train_num_examples is None:\n",
    "            print('El parametro train_examples fue olvidado')\n",
    "            return\n",
    "        if add_social is None:\n",
    "            print('Parameter add social missing')\n",
    "            return\n",
    "        \n",
    "        self.add_kp = add_kp\n",
    "        self.train_num_examples = train_num_examples\n",
    "        self.add_social = add_social\n",
    "        \n",
    "        self.kp_num = 18\n",
    "        self.kp_size = 18\n",
    "        \n",
    "        self.num_epochs = 100\n",
    "        self.batch_size = 20 # batch size\n",
    "        self.validate = 300\n",
    "        self.P = 2 # dimensión\n",
    "        self.enc_hidden_size = 128 # el nombre lo dice\n",
    "        self.dec_hidden_size = 128\n",
    "        self.emb_size = 64\n",
    "        self.keep_prob = 0.7 # dropout\n",
    "        \n",
    "        self.min_ped = 1\n",
    "        self.seq_len = self.obs_len + self.pred_len\n",
    "        self.reverse_xy = False\n",
    "        \n",
    "        self.activation_func = tf.nn.tanh\n",
    "        self.activation_func1 = tf.nn.relu\n",
    "        self.is_train = True\n",
    "        self.is_test = False\n",
    "        self.multi_decoder = False\n",
    "        self.modelname = 'gphuctl'\n",
    "        \n",
    "        self.init_lr = 0.002 # 0.01\n",
    "        self.learning_rate_decay = 0.85\n",
    "        self.num_epoch_per_decay = 2.0\n",
    "        self.optimizer = 'adam'\n",
    "        self.emb_lr = 1.0\n",
    "        #self.clip_gradient_norm = 10.0\n",
    "        #Para cuando entreno y quiero guardar el mejor modelo\n",
    "        self.load_best = True"
   ]
  },
  {
   "cell_type": "markdown",
   "metadata": {},
   "source": [
    "# Model training"
   ]
  },
  {
   "cell_type": "code",
   "execution_count": 7,
   "metadata": {},
   "outputs": [
    {
     "name": "stderr",
     "output_type": "stream",
     "text": [
      "WARNING: Logging before flag parsing goes to stderr.\n",
      "W0523 11:32:25.376718 140131420743424 deprecation.py:323] From /home/andrea/Documentos/OF-PathPred/evaluation_opticalflow/lib/model.py:60: __init__ (from tensorflow.python.ops.rnn_cell_impl) is deprecated and will be removed in a future version.\n",
      "Instructions for updating:\n",
      "This class is equivalent as tf.keras.layers.LSTMCell, and will be replaced by that in Tensorflow 2.0.\n",
      "W0523 11:32:25.418247 140131420743424 deprecation.py:323] From /home/andrea/Documentos/OF-PathPred/evaluation_opticalflow/lib/model.py:102: dynamic_rnn (from tensorflow.python.ops.rnn) is deprecated and will be removed in a future version.\n",
      "Instructions for updating:\n",
      "Please use `keras.layers.RNN(cell)`, which is equivalent to this API\n",
      "W0523 11:32:25.504301 140131420743424 deprecation.py:506] From /home/andrea/anaconda2/lib/python2.7/site-packages/tensorflow/python/ops/init_ops.py:1251: calling __init__ (from tensorflow.python.ops.init_ops) with dtype is deprecated and will be removed in a future version.\n",
      "Instructions for updating:\n",
      "Call initializer instance with the dtype argument instead of passing it to the constructor\n",
      "W0523 11:32:25.518740 140131420743424 deprecation.py:506] From /home/andrea/anaconda2/lib/python2.7/site-packages/tensorflow/python/ops/rnn_cell_impl.py:961: calling __init__ (from tensorflow.python.ops.init_ops) with dtype is deprecated and will be removed in a future version.\n",
      "Instructions for updating:\n",
      "Call initializer instance with the dtype argument instead of passing it to the constructor\n",
      "W0523 11:32:26.182271 140131420743424 deprecation.py:323] From /home/andrea/anaconda2/lib/python2.7/site-packages/tensorflow/python/ops/rnn.py:244: where (from tensorflow.python.ops.array_ops) is deprecated and will be removed in a future version.\n",
      "Instructions for updating:\n",
      "Use tf.where in 2.0, which has the same broadcast rule as np.where\n",
      "  0%|          | 0/792 [00:00<?, ?it/s]"
     ]
    },
    {
     "name": "stdout",
     "output_type": "stream",
     "text": [
      "792\n",
      "('Epoca 1.', 'lr:', 0.002)\n",
      "\tsaving model 1...\n"
     ]
    },
    {
     "name": "stderr",
     "output_type": "stream",
     "text": [
      "\n",
      "  0%|          | 0/69 [00:00<?, ?it/s]\u001b[A"
     ]
    },
    {
     "name": "stdout",
     "output_type": "stream",
     "text": [
      "\tdone\n",
      "Evaluating\n"
     ]
    },
    {
     "name": "stderr",
     "output_type": "stream",
     "text": [
      "\n",
      "  1%|1         | 1/69 [00:00<00:28,  2.41it/s]\u001b[A\n",
      "  9%|8         | 6/69 [00:00<00:18,  3.37it/s]\u001b[A\n",
      " 17%|#7        | 12/69 [00:00<00:12,  4.70it/s]\u001b[A\n",
      " 30%|###       | 21/69 [00:00<00:07,  6.56it/s]\u001b[A\n",
      " 43%|####3     | 30/69 [00:00<00:04,  9.06it/s]\u001b[A\n",
      " 55%|#####5    | 38/69 [00:00<00:02, 12.30it/s]\u001b[A\n",
      " 68%|######8   | 47/69 [00:01<00:01, 16.59it/s]\u001b[A\n",
      " 81%|########1 | 56/69 [00:01<00:00, 21.95it/s]\u001b[A\n",
      " 96%|#########5| 66/69 [00:01<00:00, 28.42it/s]\u001b[A\n",
      "100%|##########| 69/69 [00:01<00:00, 53.06it/s]\u001b[A"
     ]
    },
    {
     "name": "stdout",
     "output_type": "stream",
     "text": [
      "{'ade': 1.5518346, 'fde': 2.8107023}\n",
      "\t last loss:-1.000000000, eval on validation:['ade: 1.5518346', 'fde: 2.8107023'], (best ade:999999 at step -1) \n",
      "\t saving best model...\n",
      "\t done.\n"
     ]
    },
    {
     "name": "stderr",
     "output_type": "stream",
     "text": [
      " 38%|███▊      | 298/792 [00:15<00:19, 25.41it/s]\n",
      "  0%|          | 0/69 [00:00<?, ?it/s]\u001b[A"
     ]
    },
    {
     "name": "stdout",
     "output_type": "stream",
     "text": [
      "\tsaving model 300...\n",
      "\tdone\n",
      "Evaluating\n"
     ]
    },
    {
     "name": "stderr",
     "output_type": "stream",
     "text": [
      "\n",
      "  9%|8         | 6/69 [00:00<00:01, 54.15it/s]\u001b[A\n",
      " 17%|#7        | 12/69 [00:00<00:01, 55.00it/s]\u001b[A\n",
      " 28%|##7       | 19/69 [00:00<00:00, 56.71it/s]\u001b[A\n",
      " 39%|###9      | 27/69 [00:00<00:00, 60.59it/s]\u001b[A\n",
      " 51%|#####     | 35/69 [00:00<00:00, 64.42it/s]\u001b[A\n",
      " 64%|######3   | 44/69 [00:00<00:00, 69.32it/s]\u001b[A\n",
      " 75%|#######5  | 52/69 [00:00<00:00, 71.75it/s]\u001b[A\n",
      " 88%|########8 | 61/69 [00:00<00:00, 75.82it/s]\u001b[A\n",
      "100%|##########| 69/69 [00:00<00:00, 76.60it/s]\u001b[A"
     ]
    },
    {
     "name": "stdout",
     "output_type": "stream",
     "text": [
      "{'ade': 0.5384065, 'fde': 1.1728702}\n",
      "\t last loss:0.000557835, eval on validation:['ade: 0.5384065', 'fde: 1.1728702'], (best ade:1.5518346 at step 1) \n",
      "\t saving best model...\n",
      "\t done.\n"
     ]
    },
    {
     "name": "stderr",
     "output_type": "stream",
     "text": [
      " 76%|███████▌  | 598/792 [00:28<00:07, 26.57it/s]W0523 11:32:57.254751 140131420743424 deprecation.py:323] From /home/andrea/anaconda2/lib/python2.7/site-packages/tensorflow/python/training/saver.py:960: remove_checkpoint (from tensorflow.python.training.checkpoint_management) is deprecated and will be removed in a future version.\n",
      "Instructions for updating:\n",
      "Use standard file APIs to delete files with this prefix.\n",
      "\n",
      "  0%|          | 0/69 [00:00<?, ?it/s]\u001b[A"
     ]
    },
    {
     "name": "stdout",
     "output_type": "stream",
     "text": [
      "\tsaving model 600...\n",
      "\tdone\n",
      "Evaluating\n"
     ]
    },
    {
     "name": "stderr",
     "output_type": "stream",
     "text": [
      "\n",
      " 13%|#3        | 9/69 [00:00<00:00, 86.08it/s]\u001b[A\n",
      " 26%|##6       | 18/69 [00:00<00:00, 85.72it/s]\u001b[A\n",
      " 39%|###9      | 27/69 [00:00<00:00, 86.55it/s]\u001b[A\n",
      " 52%|#####2    | 36/69 [00:00<00:00, 87.07it/s]\u001b[A\n",
      " 65%|######5   | 45/69 [00:00<00:00, 86.04it/s]\u001b[A\n",
      " 78%|#######8  | 54/69 [00:00<00:00, 86.38it/s]\u001b[A\n",
      " 91%|#########1| 63/69 [00:00<00:00, 87.10it/s]\u001b[A\n",
      " 76%|███████▌  | 601/792 [00:29<00:26,  7.19it/s]A"
     ]
    },
    {
     "name": "stdout",
     "output_type": "stream",
     "text": [
      "{'ade': 0.54108125, 'fde': 1.1886005}\n",
      "\t last loss:0.000507890, eval on validation:['ade: 0.54108125', 'fde: 1.1886005'], (best ade:0.5384065 at step 300) \n"
     ]
    },
    {
     "name": "stderr",
     "output_type": "stream",
     "text": [
      "100%|██████████| 792/792 [00:38<00:00, 16.19it/s]\n",
      "  0%|          | 2/792 [00:00<00:44, 17.67it/s]"
     ]
    },
    {
     "name": "stdout",
     "output_type": "stream",
     "text": [
      "('Epoca 2.', 'lr:', 0.002)\n"
     ]
    },
    {
     "name": "stderr",
     "output_type": "stream",
     "text": [
      " 13%|█▎        | 105/792 [00:05<00:26, 25.54it/s]\n",
      "  0%|          | 0/69 [00:00<?, ?it/s]\u001b[A"
     ]
    },
    {
     "name": "stdout",
     "output_type": "stream",
     "text": [
      "\tsaving model 900...\n",
      "\tdone\n",
      "Evaluating\n"
     ]
    },
    {
     "name": "stderr",
     "output_type": "stream",
     "text": [
      "\n",
      " 13%|#3        | 9/69 [00:00<00:00, 88.66it/s]\u001b[A\n",
      " 25%|##4       | 17/69 [00:00<00:00, 83.99it/s]\u001b[A\n",
      " 39%|###9      | 27/69 [00:00<00:00, 86.22it/s]\u001b[A\n",
      " 52%|#####2    | 36/69 [00:00<00:00, 86.81it/s]\u001b[A\n",
      " 65%|######5   | 45/69 [00:00<00:00, 87.07it/s]\u001b[A\n",
      " 78%|#######8  | 54/69 [00:00<00:00, 87.93it/s]\u001b[A\n",
      " 91%|#########1| 63/69 [00:00<00:00, 88.10it/s]\u001b[A\n",
      "100%|##########| 69/69 [00:00<00:00, 86.90it/s]\u001b[A"
     ]
    },
    {
     "name": "stdout",
     "output_type": "stream",
     "text": [
      "{'ade': 0.52453023, 'fde': 1.1513307}\n",
      "\t last loss:0.000562502, eval on validation:['ade: 0.52453023', 'fde: 1.1513307'], (best ade:0.5384065 at step 300) \n",
      "\t saving best model...\n",
      "\t done.\n"
     ]
    },
    {
     "name": "stderr",
     "output_type": "stream",
     "text": [
      " 51%|█████     | 405/792 [00:17<00:14, 26.02it/s]\n",
      "  0%|          | 0/69 [00:00<?, ?it/s]\u001b[A"
     ]
    },
    {
     "name": "stdout",
     "output_type": "stream",
     "text": [
      "\tsaving model 1200...\n",
      "\tdone\n",
      "Evaluating\n"
     ]
    },
    {
     "name": "stderr",
     "output_type": "stream",
     "text": [
      "\n",
      " 13%|#3        | 9/69 [00:00<00:00, 87.86it/s]\u001b[A\n",
      " 26%|##6       | 18/69 [00:00<00:00, 87.72it/s]\u001b[A\n",
      " 39%|###9      | 27/69 [00:00<00:00, 88.26it/s]\u001b[A\n",
      " 52%|#####2    | 36/69 [00:00<00:00, 88.32it/s]\u001b[A\n",
      " 64%|######3   | 44/69 [00:00<00:00, 83.36it/s]\u001b[A\n",
      " 77%|#######6  | 53/69 [00:00<00:00, 85.24it/s]\u001b[A\n",
      " 90%|########9 | 62/69 [00:00<00:00, 86.38it/s]\u001b[A\n",
      " 52%|█████▏    | 411/792 [00:19<00:40,  9.38it/s]A"
     ]
    },
    {
     "name": "stdout",
     "output_type": "stream",
     "text": [
      "{'ade': 0.5272688, 'fde': 1.151444}\n",
      "\t last loss:0.000537005, eval on validation:['ade: 0.5272688', 'fde: 1.151444'], (best ade:0.52453023 at step 900) \n"
     ]
    },
    {
     "name": "stderr",
     "output_type": "stream",
     "text": [
      " 89%|████████▉ | 705/792 [00:30<00:03, 24.53it/s]\n",
      "  0%|          | 0/69 [00:00<?, ?it/s]\u001b[A"
     ]
    },
    {
     "name": "stdout",
     "output_type": "stream",
     "text": [
      "\tsaving model 1500...\n",
      "\tdone\n",
      "Evaluating\n"
     ]
    },
    {
     "name": "stderr",
     "output_type": "stream",
     "text": [
      "\n",
      " 12%|#1        | 8/69 [00:00<00:00, 74.92it/s]\u001b[A\n",
      " 25%|##4       | 17/69 [00:00<00:00, 77.89it/s]\u001b[A\n",
      " 38%|###7      | 26/69 [00:00<00:00, 79.13it/s]\u001b[A\n",
      " 51%|#####     | 35/69 [00:00<00:00, 80.72it/s]\u001b[A\n",
      " 64%|######3   | 44/69 [00:00<00:00, 81.08it/s]\u001b[A\n",
      " 77%|#######6  | 53/69 [00:00<00:00, 82.34it/s]\u001b[A\n",
      " 88%|########8 | 61/69 [00:00<00:00, 79.18it/s]\u001b[A\n",
      " 90%|████████▉ | 711/792 [00:31<00:09,  8.82it/s]A"
     ]
    },
    {
     "name": "stdout",
     "output_type": "stream",
     "text": [
      "{'ade': 0.5279603, 'fde': 1.150927}\n",
      "\t last loss:0.000529065, eval on validation:['ade: 0.5279603', 'fde: 1.150927'], (best ade:0.52453023 at step 900) \n"
     ]
    },
    {
     "name": "stderr",
     "output_type": "stream",
     "text": [
      "100%|██████████| 792/792 [00:35<00:00, 26.20it/s]\n",
      "  0%|          | 1/792 [00:00<01:35,  8.24it/s]"
     ]
    },
    {
     "name": "stdout",
     "output_type": "stream",
     "text": [
      "('Epoca 3.', 'lr:', 0.0017000001)\n"
     ]
    },
    {
     "name": "stderr",
     "output_type": "stream",
     "text": [
      " 27%|██▋       | 214/792 [00:08<00:22, 25.84it/s]\n",
      "  0%|          | 0/69 [00:00<?, ?it/s]\u001b[A"
     ]
    },
    {
     "name": "stdout",
     "output_type": "stream",
     "text": [
      "\tsaving model 1800...\n",
      "\tdone\n",
      "Evaluating\n"
     ]
    },
    {
     "name": "stderr",
     "output_type": "stream",
     "text": [
      "\n",
      " 13%|#3        | 9/69 [00:00<00:00, 85.06it/s]\u001b[A\n",
      " 28%|##7       | 19/69 [00:00<00:00, 87.42it/s]\u001b[A\n",
      " 41%|####      | 28/69 [00:00<00:00, 87.98it/s]\u001b[A\n",
      " 54%|#####3    | 37/69 [00:00<00:00, 88.52it/s]\u001b[A\n",
      " 67%|######6   | 46/69 [00:00<00:00, 88.41it/s]\u001b[A\n",
      " 81%|########1 | 56/69 [00:00<00:00, 90.21it/s]\u001b[A\n",
      " 94%|#########4| 65/69 [00:00<00:00, 86.43it/s]\u001b[A\n",
      " 28%|██▊       | 220/792 [00:09<01:00,  9.48it/s]A"
     ]
    },
    {
     "name": "stdout",
     "output_type": "stream",
     "text": [
      "{'ade': 0.59222317, 'fde': 1.3380568}\n",
      "\t last loss:0.000356835, eval on validation:['ade: 0.59222317', 'fde: 1.3380568'], (best ade:0.52453023 at step 900) \n"
     ]
    },
    {
     "name": "stderr",
     "output_type": "stream",
     "text": [
      " 65%|██████▍   | 514/792 [00:21<00:11, 24.46it/s]\n",
      "  0%|          | 0/69 [00:00<?, ?it/s]\u001b[A"
     ]
    },
    {
     "name": "stdout",
     "output_type": "stream",
     "text": [
      "\tsaving model 2100...\n",
      "\tdone\n",
      "Evaluating\n"
     ]
    },
    {
     "name": "stderr",
     "output_type": "stream",
     "text": [
      "\n",
      " 12%|#1        | 8/69 [00:00<00:00, 76.84it/s]\u001b[A\n",
      " 25%|##4       | 17/69 [00:00<00:00, 78.89it/s]\u001b[A\n",
      " 36%|###6      | 25/69 [00:00<00:00, 79.06it/s]\u001b[A\n",
      " 49%|####9     | 34/69 [00:00<00:00, 79.88it/s]\u001b[A\n",
      " 62%|######2   | 43/69 [00:00<00:00, 81.40it/s]\u001b[A\n",
      " 74%|#######3  | 51/69 [00:00<00:00, 80.13it/s]\u001b[A\n",
      " 87%|########6 | 60/69 [00:00<00:00, 80.67it/s]\u001b[A\n",
      " 99%|#########8| 68/69 [00:00<00:00, 77.06it/s]\u001b[A\n",
      " 65%|██████▌   | 517/792 [00:22<00:40,  6.73it/s]A"
     ]
    },
    {
     "name": "stdout",
     "output_type": "stream",
     "text": [
      "{'ade': 0.5965461, 'fde': 1.3679894}\n",
      "\t last loss:0.000605979, eval on validation:['ade: 0.5965461', 'fde: 1.3679894'], (best ade:0.52453023 at step 900) \n"
     ]
    },
    {
     "name": "stderr",
     "output_type": "stream",
     "text": [
      "100%|██████████| 792/792 [00:33<00:00, 23.62it/s]\n",
      "  0%|          | 1/792 [00:00<01:29,  8.84it/s]"
     ]
    },
    {
     "name": "stdout",
     "output_type": "stream",
     "text": [
      "('Epoca 4.', 'lr:', 0.0017000001)\n"
     ]
    },
    {
     "name": "stderr",
     "output_type": "stream",
     "text": [
      "  3%|▎         | 22/792 [00:00<00:34, 22.19it/s]\n",
      "  0%|          | 0/69 [00:00<?, ?it/s]\u001b[A"
     ]
    },
    {
     "name": "stdout",
     "output_type": "stream",
     "text": [
      "\tsaving model 2400...\n",
      "\tdone\n",
      "Evaluating\n"
     ]
    },
    {
     "name": "stderr",
     "output_type": "stream",
     "text": [
      "\n",
      " 13%|#3        | 9/69 [00:00<00:00, 87.78it/s]\u001b[A\n",
      " 26%|##6       | 18/69 [00:00<00:00, 87.76it/s]\u001b[A\n",
      " 41%|####      | 28/69 [00:00<00:00, 89.02it/s]\u001b[A\n",
      " 54%|#####3    | 37/69 [00:00<00:00, 88.10it/s]\u001b[A\n",
      " 65%|######5   | 45/69 [00:00<00:00, 84.91it/s]\u001b[A\n",
      " 78%|#######8  | 54/69 [00:00<00:00, 83.87it/s]\u001b[A\n",
      " 91%|#########1| 63/69 [00:00<00:00, 84.11it/s]\u001b[A\n",
      "  3%|▎         | 25/792 [00:02<01:52,  6.79it/s][A"
     ]
    },
    {
     "name": "stdout",
     "output_type": "stream",
     "text": [
      "{'ade': 0.562415, 'fde': 1.2475789}\n",
      "\t last loss:0.000544285, eval on validation:['ade: 0.562415', 'fde: 1.2475789'], (best ade:0.52453023 at step 900) \n"
     ]
    },
    {
     "name": "stderr",
     "output_type": "stream",
     "text": [
      " 41%|████      | 322/792 [00:13<00:18, 25.90it/s]\n",
      "  0%|          | 0/69 [00:00<?, ?it/s]\u001b[A"
     ]
    },
    {
     "name": "stdout",
     "output_type": "stream",
     "text": [
      "\tsaving model 2700...\n",
      "\tdone\n",
      "Evaluating\n"
     ]
    },
    {
     "name": "stderr",
     "output_type": "stream",
     "text": [
      "\n",
      " 14%|#4        | 10/69 [00:00<00:00, 92.11it/s]\u001b[A\n",
      " 29%|##8       | 20/69 [00:00<00:00, 92.34it/s]\u001b[A\n",
      " 43%|####3     | 30/69 [00:00<00:00, 92.50it/s]\u001b[A\n",
      " 58%|#####7    | 40/69 [00:00<00:00, 92.51it/s]\u001b[A\n",
      " 71%|#######1  | 49/69 [00:00<00:00, 90.49it/s]\u001b[A\n",
      " 86%|########5 | 59/69 [00:00<00:00, 91.34it/s]\u001b[A\n",
      " 41%|████      | 325/792 [00:14<01:01,  7.54it/s]A"
     ]
    },
    {
     "name": "stdout",
     "output_type": "stream",
     "text": [
      "{'ade': 0.533169, 'fde': 1.1629361}\n",
      "\t last loss:0.000610940, eval on validation:['ade: 0.533169', 'fde: 1.1629361'], (best ade:0.52453023 at step 900) \n"
     ]
    },
    {
     "name": "stderr",
     "output_type": "stream",
     "text": [
      " 79%|███████▊  | 622/792 [00:26<00:06, 24.89it/s]\n",
      "  0%|          | 0/69 [00:00<?, ?it/s]\u001b[A"
     ]
    },
    {
     "name": "stdout",
     "output_type": "stream",
     "text": [
      "\tsaving model 3000...\n",
      "\tdone\n",
      "Evaluating\n"
     ]
    },
    {
     "name": "stderr",
     "output_type": "stream",
     "text": [
      "\n",
      " 12%|#1        | 8/69 [00:00<00:00, 75.67it/s]\u001b[A\n",
      " 23%|##3       | 16/69 [00:00<00:00, 75.25it/s]\u001b[A\n",
      " 36%|###6      | 25/69 [00:00<00:00, 77.92it/s]\u001b[A\n",
      " 49%|####9     | 34/69 [00:00<00:00, 79.32it/s]\u001b[A\n",
      " 62%|######2   | 43/69 [00:00<00:00, 80.74it/s]\u001b[A\n",
      " 75%|#######5  | 52/69 [00:00<00:00, 82.24it/s]\u001b[A\n",
      " 88%|########8 | 61/69 [00:00<00:00, 82.06it/s]\u001b[A\n",
      " 79%|███████▉  | 625/792 [00:27<00:24,  6.88it/s]A"
     ]
    },
    {
     "name": "stdout",
     "output_type": "stream",
     "text": [
      "{'ade': 0.5964286, 'fde': 1.3228697}\n",
      "\t last loss:0.000481504, eval on validation:['ade: 0.5964286', 'fde: 1.3228697'], (best ade:0.52453023 at step 900) \n"
     ]
    },
    {
     "name": "stderr",
     "output_type": "stream",
     "text": [
      "100%|██████████| 792/792 [00:34<00:00, 23.08it/s]\n",
      "  0%|          | 2/792 [00:00<00:51, 15.36it/s]"
     ]
    },
    {
     "name": "stdout",
     "output_type": "stream",
     "text": [
      "('Epoca 5.', 'lr:', 0.0014450002)\n"
     ]
    },
    {
     "name": "stderr",
     "output_type": "stream",
     "text": [
      " 16%|█▋        | 130/792 [00:05<00:24, 26.49it/s]\n",
      "  0%|          | 0/69 [00:00<?, ?it/s]\u001b[A"
     ]
    },
    {
     "name": "stdout",
     "output_type": "stream",
     "text": [
      "\tsaving model 3300...\n",
      "\tdone\n",
      "Evaluating\n"
     ]
    },
    {
     "name": "stderr",
     "output_type": "stream",
     "text": [
      "\n",
      " 13%|#3        | 9/69 [00:00<00:00, 82.51it/s]\u001b[A\n",
      " 25%|##4       | 17/69 [00:00<00:00, 81.45it/s]\u001b[A\n",
      " 38%|###7      | 26/69 [00:00<00:00, 81.89it/s]\u001b[A\n",
      " 52%|#####2    | 36/69 [00:00<00:00, 84.64it/s]\u001b[A\n",
      " 67%|######6   | 46/69 [00:00<00:00, 87.13it/s]\u001b[A\n",
      " 81%|########1 | 56/69 [00:00<00:00, 88.48it/s]\u001b[A\n",
      " 96%|#########5| 66/69 [00:00<00:00, 90.44it/s]\u001b[A\n",
      " 17%|█▋        | 136/792 [00:06<01:08,  9.52it/s]A"
     ]
    },
    {
     "name": "stdout",
     "output_type": "stream",
     "text": [
      "{'ade': 0.56765205, 'fde': 1.2730355}\n",
      "\t last loss:0.000407706, eval on validation:['ade: 0.56765205', 'fde: 1.2730355'], (best ade:0.52453023 at step 900) \n"
     ]
    },
    {
     "name": "stderr",
     "output_type": "stream",
     "text": [
      " 54%|█████▍    | 430/792 [00:18<00:14, 24.41it/s]\n",
      "  0%|          | 0/69 [00:00<?, ?it/s]\u001b[A"
     ]
    },
    {
     "name": "stdout",
     "output_type": "stream",
     "text": [
      "\tsaving model 3600...\n",
      "\tdone\n",
      "Evaluating\n"
     ]
    },
    {
     "name": "stderr",
     "output_type": "stream",
     "text": [
      "\n",
      " 13%|#3        | 9/69 [00:00<00:00, 83.00it/s]\u001b[A\n",
      " 26%|##6       | 18/69 [00:00<00:00, 82.92it/s]\u001b[A\n",
      " 36%|###6      | 25/69 [00:00<00:00, 74.49it/s]\u001b[A\n",
      " 46%|####6     | 32/69 [00:00<00:00, 70.63it/s]\u001b[A\n",
      " 57%|#####6    | 39/69 [00:00<00:00, 68.22it/s]\u001b[A\n",
      " 70%|######9   | 48/69 [00:00<00:00, 72.26it/s]\u001b[A\n",
      " 83%|########2 | 57/69 [00:00<00:00, 75.01it/s]\u001b[A\n",
      " 96%|#########5| 66/69 [00:00<00:00, 77.92it/s]\u001b[A\n",
      " 55%|█████▌    | 436/792 [00:19<00:41,  8.53it/s]A"
     ]
    },
    {
     "name": "stdout",
     "output_type": "stream",
     "text": [
      "{'ade': 0.52677727, 'fde': 1.1509824}\n",
      "\t last loss:0.000440021, eval on validation:['ade: 0.52677727', 'fde: 1.1509824'], (best ade:0.52453023 at step 900) \n"
     ]
    },
    {
     "name": "stderr",
     "output_type": "stream",
     "text": [
      " 92%|█████████▏| 730/792 [00:30<00:02, 26.15it/s]\n",
      "  0%|          | 0/69 [00:00<?, ?it/s]\u001b[A"
     ]
    },
    {
     "name": "stdout",
     "output_type": "stream",
     "text": [
      "\tsaving model 3900...\n",
      "\tdone\n",
      "Evaluating\n"
     ]
    },
    {
     "name": "stderr",
     "output_type": "stream",
     "text": [
      "\n",
      " 13%|#3        | 9/69 [00:00<00:00, 87.52it/s]\u001b[A\n",
      " 26%|##6       | 18/69 [00:00<00:00, 86.11it/s]\u001b[A\n",
      " 38%|###7      | 26/69 [00:00<00:00, 84.08it/s]\u001b[A\n",
      " 51%|#####     | 35/69 [00:00<00:00, 83.83it/s]\u001b[A\n",
      " 61%|######    | 42/69 [00:00<00:00, 78.84it/s]\u001b[A\n",
      " 74%|#######3  | 51/69 [00:00<00:00, 80.62it/s]\u001b[A\n",
      " 87%|########6 | 60/69 [00:00<00:00, 81.80it/s]\u001b[A\n",
      " 93%|█████████▎| 733/792 [00:32<00:08,  7.12it/s]A"
     ]
    },
    {
     "name": "stdout",
     "output_type": "stream",
     "text": [
      "{'ade': 0.5394108, 'fde': 1.2037257}\n",
      "\t last loss:0.000473261, eval on validation:['ade: 0.5394108', 'fde: 1.2037257'], (best ade:0.52453023 at step 900) \n"
     ]
    },
    {
     "name": "stderr",
     "output_type": "stream",
     "text": [
      "100%|██████████| 792/792 [00:34<00:00, 22.91it/s]\n",
      "  0%|          | 1/792 [00:00<01:33,  8.49it/s]"
     ]
    },
    {
     "name": "stdout",
     "output_type": "stream",
     "text": [
      "('Epoca 6.', 'lr:', 0.0014450002)\n"
     ]
    },
    {
     "name": "stderr",
     "output_type": "stream",
     "text": [
      " 30%|███       | 238/792 [00:09<00:21, 26.22it/s]\n",
      "  0%|          | 0/69 [00:00<?, ?it/s]\u001b[A"
     ]
    },
    {
     "name": "stdout",
     "output_type": "stream",
     "text": [
      "\tsaving model 4200...\n",
      "\tdone\n",
      "Evaluating\n"
     ]
    },
    {
     "name": "stderr",
     "output_type": "stream",
     "text": [
      "\n",
      " 13%|#3        | 9/69 [00:00<00:00, 89.73it/s]\u001b[A\n",
      " 28%|##7       | 19/69 [00:00<00:00, 91.23it/s]\u001b[A\n",
      " 41%|####      | 28/69 [00:00<00:00, 90.75it/s]\u001b[A\n",
      " 54%|#####3    | 37/69 [00:00<00:00, 87.34it/s]\u001b[A\n",
      " 67%|######6   | 46/69 [00:00<00:00, 87.46it/s]\u001b[A\n",
      " 81%|########1 | 56/69 [00:00<00:00, 88.53it/s]\u001b[A\n",
      " 96%|#########5| 66/69 [00:00<00:00, 89.58it/s]\u001b[A\n",
      " 31%|███       | 244/792 [00:10<00:57,  9.53it/s]A"
     ]
    },
    {
     "name": "stdout",
     "output_type": "stream",
     "text": [
      "{'ade': 0.6214568, 'fde': 1.3975755}\n",
      "\t last loss:0.000664475, eval on validation:['ade: 0.6214568', 'fde: 1.3975755'], (best ade:0.52453023 at step 900) \n"
     ]
    },
    {
     "name": "stderr",
     "output_type": "stream",
     "text": [
      " 68%|██████▊   | 538/792 [00:22<00:10, 24.23it/s]\n",
      "  0%|          | 0/69 [00:00<?, ?it/s]\u001b[A"
     ]
    },
    {
     "name": "stdout",
     "output_type": "stream",
     "text": [
      "\tsaving model 4500...\n",
      "\tdone\n",
      "Evaluating\n"
     ]
    },
    {
     "name": "stderr",
     "output_type": "stream",
     "text": [
      "\n",
      " 12%|#1        | 8/69 [00:00<00:00, 79.71it/s]\u001b[A\n",
      " 25%|##4       | 17/69 [00:00<00:00, 81.12it/s]\u001b[A\n",
      " 36%|###6      | 25/69 [00:00<00:00, 80.71it/s]\u001b[A\n",
      " 49%|####9     | 34/69 [00:00<00:00, 82.02it/s]\u001b[A\n",
      " 62%|######2   | 43/69 [00:00<00:00, 82.30it/s]\u001b[A\n",
      " 74%|#######3  | 51/69 [00:00<00:00, 79.69it/s]\u001b[A\n",
      " 87%|########6 | 60/69 [00:00<00:00, 80.68it/s]\u001b[A\n",
      " 68%|██████▊   | 541/792 [00:23<00:36,  6.92it/s]A"
     ]
    },
    {
     "name": "stdout",
     "output_type": "stream",
     "text": [
      "{'ade': 0.53569067, 'fde': 1.1851037}\n",
      "\t last loss:0.000647740, eval on validation:['ade: 0.53569067', 'fde: 1.1851037'], (best ade:0.52453023 at step 900) \n"
     ]
    },
    {
     "name": "stderr",
     "output_type": "stream",
     "text": [
      "100%|██████████| 792/792 [00:33<00:00, 23.73it/s]\n",
      "  0%|          | 2/792 [00:00<00:52, 15.13it/s]"
     ]
    },
    {
     "name": "stdout",
     "output_type": "stream",
     "text": [
      "('Epoca 7.', 'lr:', 0.0012282502)\n"
     ]
    },
    {
     "name": "stderr",
     "output_type": "stream",
     "text": [
      "  6%|▌         | 47/792 [00:01<00:28, 25.85it/s]\n",
      "  0%|          | 0/69 [00:00<?, ?it/s]\u001b[A"
     ]
    },
    {
     "name": "stdout",
     "output_type": "stream",
     "text": [
      "\tsaving model 4800...\n",
      "\tdone\n",
      "Evaluating\n"
     ]
    },
    {
     "name": "stderr",
     "output_type": "stream",
     "text": [
      "\n",
      " 13%|#3        | 9/69 [00:00<00:00, 89.32it/s]\u001b[A\n",
      " 26%|##6       | 18/69 [00:00<00:00, 89.42it/s]\u001b[A\n",
      " 41%|####      | 28/69 [00:00<00:00, 91.04it/s]\u001b[A\n",
      " 54%|#####3    | 37/69 [00:00<00:00, 90.67it/s]\u001b[A\n",
      " 68%|######8   | 47/69 [00:00<00:00, 91.30it/s]\u001b[A\n",
      " 83%|########2 | 57/69 [00:00<00:00, 91.41it/s]\u001b[A\n",
      " 96%|#########5| 66/69 [00:00<00:00, 88.93it/s]\u001b[A\n",
      "  6%|▋         | 50/792 [00:02<01:39,  7.48it/s][A"
     ]
    },
    {
     "name": "stdout",
     "output_type": "stream",
     "text": [
      "{'ade': 0.60872984, 'fde': 1.3706248}\n",
      "\t last loss:0.000490684, eval on validation:['ade: 0.60872984', 'fde: 1.3706248'], (best ade:0.52453023 at step 900) \n"
     ]
    },
    {
     "name": "stderr",
     "output_type": "stream",
     "text": [
      " 44%|████▍     | 347/792 [00:14<00:18, 23.79it/s]\n",
      "  0%|          | 0/69 [00:00<?, ?it/s]\u001b[A"
     ]
    },
    {
     "name": "stdout",
     "output_type": "stream",
     "text": [
      "\tsaving model 5100...\n",
      "\tdone\n",
      "Evaluating\n"
     ]
    },
    {
     "name": "stderr",
     "output_type": "stream",
     "text": [
      "\n",
      " 13%|#3        | 9/69 [00:00<00:00, 84.02it/s]\u001b[A\n",
      " 26%|##6       | 18/69 [00:00<00:00, 84.55it/s]\u001b[A\n",
      " 39%|###9      | 27/69 [00:00<00:00, 84.22it/s]\u001b[A\n",
      " 52%|#####2    | 36/69 [00:00<00:00, 84.02it/s]\u001b[A\n",
      " 65%|######5   | 45/69 [00:00<00:00, 85.63it/s]\u001b[A\n",
      " 78%|#######8  | 54/69 [00:00<00:00, 86.85it/s]\u001b[A\n",
      " 91%|#########1| 63/69 [00:00<00:00, 85.43it/s]\u001b[A\n",
      " 44%|████▍     | 350/792 [00:16<01:03,  6.98it/s]A"
     ]
    },
    {
     "name": "stdout",
     "output_type": "stream",
     "text": [
      "{'ade': 0.5617185, 'fde': 1.2508782}\n",
      "\t last loss:0.000563634, eval on validation:['ade: 0.5617185', 'fde: 1.2508782'], (best ade:0.52453023 at step 900) \n"
     ]
    },
    {
     "name": "stderr",
     "output_type": "stream",
     "text": [
      " 82%|████████▏ | 647/792 [00:27<00:05, 26.03it/s]\n",
      "  0%|          | 0/69 [00:00<?, ?it/s]\u001b[A"
     ]
    },
    {
     "name": "stdout",
     "output_type": "stream",
     "text": [
      "\tsaving model 5400...\n",
      "\tdone\n",
      "Evaluating\n"
     ]
    },
    {
     "name": "stderr",
     "output_type": "stream",
     "text": [
      "\n",
      " 10%|#         | 7/69 [00:00<00:00, 69.25it/s]\u001b[A\n",
      " 23%|##3       | 16/69 [00:00<00:00, 72.75it/s]\u001b[A\n",
      " 36%|###6      | 25/69 [00:00<00:00, 75.67it/s]\u001b[A\n",
      " 49%|####9     | 34/69 [00:00<00:00, 78.14it/s]\u001b[A\n",
      " 62%|######2   | 43/69 [00:00<00:00, 79.66it/s]\u001b[A\n",
      " 74%|#######3  | 51/69 [00:00<00:00, 79.43it/s]\u001b[A\n",
      " 87%|########6 | 60/69 [00:00<00:00, 80.90it/s]\u001b[A\n",
      "100%|##########| 69/69 [00:00<00:00, 82.06it/s]\u001b[A"
     ]
    },
    {
     "name": "stdout",
     "output_type": "stream",
     "text": [
      "{'ade': 0.5059166, 'fde': 1.0944911}\n",
      "\t last loss:0.000362165, eval on validation:['ade: 0.5059166', 'fde: 1.0944911'], (best ade:0.52453023 at step 900) \n",
      "\t saving best model...\n",
      "\t done.\n"
     ]
    },
    {
     "name": "stderr",
     "output_type": "stream",
     "text": [
      "100%|██████████| 792/792 [00:34<00:00, 22.91it/s]\n",
      "  0%|          | 1/792 [00:00<01:36,  8.23it/s]"
     ]
    },
    {
     "name": "stdout",
     "output_type": "stream",
     "text": [
      "('Epoca 8.', 'lr:', 0.0012282502)\n"
     ]
    },
    {
     "name": "stderr",
     "output_type": "stream",
     "text": [
      " 19%|█▉        | 153/792 [00:06<00:24, 26.59it/s]\n",
      "  0%|          | 0/69 [00:00<?, ?it/s]\u001b[A"
     ]
    },
    {
     "name": "stdout",
     "output_type": "stream",
     "text": [
      "\tsaving model 5700...\n",
      "\tdone\n",
      "Evaluating\n"
     ]
    },
    {
     "name": "stderr",
     "output_type": "stream",
     "text": [
      "\n",
      " 13%|#3        | 9/69 [00:00<00:00, 89.59it/s]\u001b[A\n",
      " 28%|##7       | 19/69 [00:00<00:00, 90.29it/s]\u001b[A\n",
      " 41%|####      | 28/69 [00:00<00:00, 88.20it/s]\u001b[A\n",
      " 55%|#####5    | 38/69 [00:00<00:00, 89.75it/s]\u001b[A\n",
      " 70%|######9   | 48/69 [00:00<00:00, 91.05it/s]\u001b[A\n",
      " 84%|########4 | 58/69 [00:00<00:00, 91.80it/s]\u001b[A\n",
      " 99%|#########8| 68/69 [00:00<00:00, 91.90it/s]\u001b[A\n",
      " 20%|██        | 159/792 [00:07<01:06,  9.50it/s]A"
     ]
    },
    {
     "name": "stdout",
     "output_type": "stream",
     "text": [
      "{'ade': 0.5234224, 'fde': 1.1431475}\n",
      "\t last loss:0.000458826, eval on validation:['ade: 0.5234224', 'fde: 1.1431475'], (best ade:0.5059166 at step 5400) \n"
     ]
    },
    {
     "name": "stderr",
     "output_type": "stream",
     "text": [
      " 57%|█████▋    | 453/792 [00:18<00:13, 24.88it/s]\n",
      "  0%|          | 0/69 [00:00<?, ?it/s]\u001b[A"
     ]
    },
    {
     "name": "stdout",
     "output_type": "stream",
     "text": [
      "\tsaving model 6000...\n",
      "\tdone\n",
      "Evaluating\n"
     ]
    },
    {
     "name": "stderr",
     "output_type": "stream",
     "text": [
      "\n",
      " 13%|#3        | 9/69 [00:00<00:00, 82.68it/s]\u001b[A\n",
      " 26%|##6       | 18/69 [00:00<00:00, 82.93it/s]\u001b[A\n",
      " 39%|###9      | 27/69 [00:00<00:00, 83.36it/s]\u001b[A\n",
      " 52%|#####2    | 36/69 [00:00<00:00, 83.88it/s]\u001b[A\n",
      " 64%|######3   | 44/69 [00:00<00:00, 82.29it/s]\u001b[A\n",
      " 77%|#######6  | 53/69 [00:00<00:00, 83.12it/s]\u001b[A\n",
      " 90%|########9 | 62/69 [00:00<00:00, 83.43it/s]\u001b[A\n",
      " 58%|█████▊    | 458/792 [00:20<00:38,  8.61it/s]A"
     ]
    },
    {
     "name": "stdout",
     "output_type": "stream",
     "text": [
      "{'ade': 0.5103602, 'fde': 1.1022254}\n",
      "\t last loss:0.000402002, eval on validation:['ade: 0.5103602', 'fde: 1.1022254'], (best ade:0.5059166 at step 5400) \n"
     ]
    },
    {
     "name": "stderr",
     "output_type": "stream",
     "text": [
      " 95%|█████████▌| 755/792 [00:31<00:01, 26.46it/s]\n",
      "  0%|          | 0/69 [00:00<?, ?it/s]\u001b[A"
     ]
    },
    {
     "name": "stdout",
     "output_type": "stream",
     "text": [
      "\tsaving model 6300...\n",
      "\tdone\n",
      "Evaluating\n"
     ]
    },
    {
     "name": "stderr",
     "output_type": "stream",
     "text": [
      "\n",
      " 13%|#3        | 9/69 [00:00<00:00, 88.70it/s]\u001b[A\n",
      " 25%|##4       | 17/69 [00:00<00:00, 85.62it/s]\u001b[A\n",
      " 39%|###9      | 27/69 [00:00<00:00, 87.99it/s]\u001b[A\n",
      " 54%|#####3    | 37/69 [00:00<00:00, 89.41it/s]\u001b[A\n",
      " 67%|######6   | 46/69 [00:00<00:00, 89.51it/s]\u001b[A\n",
      " 80%|#######9  | 55/69 [00:00<00:00, 88.76it/s]\u001b[A\n",
      " 94%|#########4| 65/69 [00:00<00:00, 89.70it/s]\u001b[A\n",
      " 96%|█████████▌| 758/792 [00:33<00:04,  7.49it/s]A"
     ]
    },
    {
     "name": "stdout",
     "output_type": "stream",
     "text": [
      "{'ade': 0.5191596, 'fde': 1.1384333}\n",
      "\t last loss:0.000306637, eval on validation:['ade: 0.5191596', 'fde: 1.1384333'], (best ade:0.5059166 at step 5400) \n"
     ]
    },
    {
     "name": "stderr",
     "output_type": "stream",
     "text": [
      "100%|██████████| 792/792 [00:34<00:00, 22.99it/s]\n",
      "  0%|          | 1/792 [00:00<01:33,  8.48it/s]"
     ]
    },
    {
     "name": "stdout",
     "output_type": "stream",
     "text": [
      "('Epoca 9.', 'lr:', 0.0010440127)\n"
     ]
    },
    {
     "name": "stderr",
     "output_type": "stream",
     "text": [
      " 33%|███▎      | 262/792 [00:10<00:21, 25.13it/s]\n",
      "  0%|          | 0/69 [00:00<?, ?it/s]\u001b[A"
     ]
    },
    {
     "name": "stdout",
     "output_type": "stream",
     "text": [
      "\tsaving model 6600...\n",
      "\tdone\n",
      "Evaluating\n"
     ]
    },
    {
     "name": "stderr",
     "output_type": "stream",
     "text": [
      "\n",
      " 10%|#         | 7/69 [00:00<00:00, 69.03it/s]\u001b[A\n",
      " 23%|##3       | 16/69 [00:00<00:00, 74.05it/s]\u001b[A\n",
      " 38%|###7      | 26/69 [00:00<00:00, 78.71it/s]\u001b[A\n",
      " 52%|#####2    | 36/69 [00:00<00:00, 82.86it/s]\u001b[A\n",
      " 67%|######6   | 46/69 [00:00<00:00, 85.44it/s]\u001b[A\n",
      " 81%|########1 | 56/69 [00:00<00:00, 87.62it/s]\u001b[A\n",
      " 96%|#########5| 66/69 [00:00<00:00, 89.10it/s]\u001b[A\n",
      " 33%|███▎      | 265/792 [00:11<01:12,  7.31it/s]A"
     ]
    },
    {
     "name": "stdout",
     "output_type": "stream",
     "text": [
      "{'ade': 0.51581794, 'fde': 1.1321297}\n",
      "\t last loss:0.000262609, eval on validation:['ade: 0.51581794', 'fde: 1.1321297'], (best ade:0.5059166 at step 5400) \n"
     ]
    },
    {
     "name": "stderr",
     "output_type": "stream",
     "text": [
      " 71%|███████   | 562/792 [00:23<00:09, 24.96it/s]\n",
      "  0%|          | 0/69 [00:00<?, ?it/s]\u001b[A"
     ]
    },
    {
     "name": "stdout",
     "output_type": "stream",
     "text": [
      "\tsaving model 6900...\n",
      "\tdone\n",
      "Evaluating\n"
     ]
    },
    {
     "name": "stderr",
     "output_type": "stream",
     "text": [
      "\n",
      " 12%|#1        | 8/69 [00:00<00:00, 77.93it/s]\u001b[A\n",
      " 25%|##4       | 17/69 [00:00<00:00, 79.63it/s]\u001b[A\n",
      " 35%|###4      | 24/69 [00:00<00:00, 75.12it/s]\u001b[A\n",
      " 48%|####7     | 33/69 [00:00<00:00, 77.57it/s]\u001b[A\n",
      " 61%|######    | 42/69 [00:00<00:00, 78.92it/s]\u001b[A\n",
      " 74%|#######3  | 51/69 [00:00<00:00, 80.82it/s]\u001b[A\n",
      " 87%|########6 | 60/69 [00:00<00:00, 81.70it/s]\u001b[A\n",
      " 99%|#########8| 68/69 [00:00<00:00, 81.08it/s]\u001b[A\n",
      " 71%|███████▏  | 565/792 [00:24<00:33,  6.84it/s]A"
     ]
    },
    {
     "name": "stdout",
     "output_type": "stream",
     "text": [
      "{'ade': 0.5613178, 'fde': 1.2450535}\n",
      "\t last loss:0.000795114, eval on validation:['ade: 0.5613178', 'fde: 1.2450535'], (best ade:0.5059166 at step 5400) \n"
     ]
    },
    {
     "name": "stderr",
     "output_type": "stream",
     "text": [
      "100%|██████████| 792/792 [00:33<00:00, 23.63it/s]\n",
      "  0%|          | 2/792 [00:00<00:45, 17.23it/s]"
     ]
    },
    {
     "name": "stdout",
     "output_type": "stream",
     "text": [
      "('Epoca 10.', 'lr:', 0.0010440127)\n"
     ]
    },
    {
     "name": "stderr",
     "output_type": "stream",
     "text": [
      "  9%|▉         | 70/792 [00:02<00:27, 26.36it/s]\n",
      "  0%|          | 0/69 [00:00<?, ?it/s]\u001b[A"
     ]
    },
    {
     "name": "stdout",
     "output_type": "stream",
     "text": [
      "\tsaving model 7200...\n",
      "\tdone\n",
      "Evaluating\n"
     ]
    },
    {
     "name": "stderr",
     "output_type": "stream",
     "text": [
      "\n",
      " 13%|#3        | 9/69 [00:00<00:00, 88.13it/s]\u001b[A\n",
      " 28%|##7       | 19/69 [00:00<00:00, 89.71it/s]\u001b[A\n",
      " 39%|###9      | 27/69 [00:00<00:00, 85.36it/s]\u001b[A\n",
      " 54%|#####3    | 37/69 [00:00<00:00, 87.61it/s]\u001b[A\n",
      " 67%|######6   | 46/69 [00:00<00:00, 88.21it/s]\u001b[A\n",
      " 80%|#######9  | 55/69 [00:00<00:00, 88.67it/s]\u001b[A\n",
      " 93%|#########2| 64/69 [00:00<00:00, 88.53it/s]\u001b[A\n",
      " 10%|▉         | 76/792 [00:04<01:15,  9.44it/s][A"
     ]
    },
    {
     "name": "stdout",
     "output_type": "stream",
     "text": [
      "{'ade': 0.53385365, 'fde': 1.1841767}\n",
      "\t last loss:0.000683213, eval on validation:['ade: 0.53385365', 'fde: 1.1841767'], (best ade:0.5059166 at step 5400) \n"
     ]
    },
    {
     "name": "stderr",
     "output_type": "stream",
     "text": [
      " 47%|████▋     | 370/792 [00:16<00:18, 22.81it/s]\n",
      "  0%|          | 0/69 [00:00<?, ?it/s]\u001b[A"
     ]
    },
    {
     "name": "stdout",
     "output_type": "stream",
     "text": [
      "\tsaving model 7500...\n",
      "\tdone\n",
      "Evaluating\n"
     ]
    },
    {
     "name": "stderr",
     "output_type": "stream",
     "text": [
      "\n",
      " 13%|#3        | 9/69 [00:00<00:00, 83.09it/s]\u001b[A\n",
      " 23%|##3       | 16/69 [00:00<00:00, 77.37it/s]\u001b[A\n",
      " 36%|###6      | 25/69 [00:00<00:00, 79.57it/s]\u001b[A\n",
      " 49%|####9     | 34/69 [00:00<00:00, 80.31it/s]\u001b[A\n",
      " 62%|######2   | 43/69 [00:00<00:00, 80.82it/s]\u001b[A\n",
      " 75%|#######5  | 52/69 [00:00<00:00, 82.33it/s]\u001b[A\n",
      " 87%|########6 | 60/69 [00:00<00:00, 81.40it/s]\u001b[A\n",
      " 47%|████▋     | 376/792 [00:18<00:48,  8.61it/s]A"
     ]
    },
    {
     "name": "stdout",
     "output_type": "stream",
     "text": [
      "{'ade': 0.5763691, 'fde': 1.2877362}\n",
      "\t last loss:0.000592171, eval on validation:['ade: 0.5763691', 'fde: 1.2877362'], (best ade:0.5059166 at step 5400) \n"
     ]
    },
    {
     "name": "stderr",
     "output_type": "stream",
     "text": [
      " 85%|████████▍ | 670/792 [00:30<00:04, 26.31it/s]\n",
      "  0%|          | 0/69 [00:00<?, ?it/s]\u001b[A"
     ]
    },
    {
     "name": "stdout",
     "output_type": "stream",
     "text": [
      "\tsaving model 7800...\n",
      "\tdone\n",
      "Evaluating\n"
     ]
    },
    {
     "name": "stderr",
     "output_type": "stream",
     "text": [
      "\n",
      " 12%|#1        | 8/69 [00:00<00:00, 75.61it/s]\u001b[A\n",
      " 22%|##1       | 15/69 [00:00<00:00, 73.17it/s]\u001b[A\n",
      " 32%|###1      | 22/69 [00:00<00:00, 71.06it/s]\u001b[A\n",
      " 42%|####2     | 29/69 [00:00<00:00, 69.28it/s]\u001b[A\n",
      " 52%|#####2    | 36/69 [00:00<00:00, 68.01it/s]\u001b[A\n",
      " 62%|######2   | 43/69 [00:00<00:00, 67.81it/s]\u001b[A\n",
      " 72%|#######2  | 50/69 [00:00<00:00, 67.72it/s]\u001b[A\n",
      " 83%|########2 | 57/69 [00:00<00:00, 67.69it/s]\u001b[A\n",
      " 93%|#########2| 64/69 [00:00<00:00, 67.67it/s]\u001b[A\n",
      " 85%|████████▍ | 673/792 [00:31<00:19,  6.13it/s]A"
     ]
    },
    {
     "name": "stdout",
     "output_type": "stream",
     "text": [
      "{'ade': 0.57448304, 'fde': 1.2841172}\n",
      "\t last loss:0.000515892, eval on validation:['ade: 0.57448304', 'fde: 1.2841172'], (best ade:0.5059166 at step 5400) \n"
     ]
    },
    {
     "name": "stderr",
     "output_type": "stream",
     "text": [
      "100%|██████████| 792/792 [00:38<00:00, 20.72it/s]\n",
      "  0%|          | 1/792 [00:00<01:57,  6.72it/s]"
     ]
    },
    {
     "name": "stdout",
     "output_type": "stream",
     "text": [
      "('Epoca 11.', 'lr:', 0.0008874108)\n"
     ]
    },
    {
     "name": "stderr",
     "output_type": "stream",
     "text": [
      " 22%|██▏       | 177/792 [00:08<00:23, 26.08it/s]\n",
      "  0%|          | 0/69 [00:00<?, ?it/s]\u001b[A"
     ]
    },
    {
     "name": "stdout",
     "output_type": "stream",
     "text": [
      "\tsaving model 8100...\n",
      "\tdone\n",
      "Evaluating\n"
     ]
    },
    {
     "name": "stderr",
     "output_type": "stream",
     "text": [
      "\n",
      " 13%|#3        | 9/69 [00:00<00:00, 89.28it/s]\u001b[A\n",
      " 26%|##6       | 18/69 [00:00<00:00, 87.10it/s]\u001b[A\n",
      " 38%|###7      | 26/69 [00:00<00:00, 82.03it/s]\u001b[A\n",
      " 49%|####9     | 34/69 [00:00<00:00, 79.06it/s]\u001b[A\n",
      " 64%|######3   | 44/69 [00:00<00:00, 82.44it/s]\u001b[A\n",
      " 78%|#######8  | 54/69 [00:00<00:00, 85.37it/s]\u001b[A\n",
      " 91%|#########1| 63/69 [00:00<00:00, 85.19it/s]\u001b[A\n",
      " 23%|██▎       | 183/792 [00:09<01:04,  9.38it/s]A"
     ]
    },
    {
     "name": "stdout",
     "output_type": "stream",
     "text": [
      "{'ade': 0.5236847, 'fde': 1.1487737}\n",
      "\t last loss:0.000660734, eval on validation:['ade: 0.5236847', 'fde: 1.1487737'], (best ade:0.5059166 at step 5400) \n"
     ]
    },
    {
     "name": "stderr",
     "output_type": "stream",
     "text": [
      " 60%|██████    | 477/792 [00:20<00:12, 24.89it/s]\n",
      "  0%|          | 0/69 [00:00<?, ?it/s]\u001b[A"
     ]
    },
    {
     "name": "stdout",
     "output_type": "stream",
     "text": [
      "\tsaving model 8400...\n",
      "\tdone\n",
      "Evaluating\n"
     ]
    },
    {
     "name": "stderr",
     "output_type": "stream",
     "text": [
      "\n",
      " 10%|#         | 7/69 [00:00<00:00, 65.57it/s]\u001b[A\n",
      " 23%|##3       | 16/69 [00:00<00:00, 70.47it/s]\u001b[A\n",
      " 36%|###6      | 25/69 [00:00<00:00, 74.23it/s]\u001b[A\n",
      " 49%|####9     | 34/69 [00:00<00:00, 77.47it/s]\u001b[A\n",
      " 61%|######    | 42/69 [00:00<00:00, 77.71it/s]\u001b[A\n",
      " 74%|#######3  | 51/69 [00:00<00:00, 79.39it/s]\u001b[A\n",
      " 87%|########6 | 60/69 [00:00<00:00, 81.62it/s]\u001b[A\n",
      " 61%|██████    | 483/792 [00:22<00:35,  8.78it/s]A"
     ]
    },
    {
     "name": "stdout",
     "output_type": "stream",
     "text": [
      "{'ade': 0.559621, 'fde': 1.2536738}\n",
      "\t last loss:0.000474914, eval on validation:['ade: 0.559621', 'fde: 1.2536738'], (best ade:0.5059166 at step 5400) \n"
     ]
    },
    {
     "name": "stderr",
     "output_type": "stream",
     "text": [
      " 98%|█████████▊| 777/792 [00:33<00:00, 26.72it/s]\n",
      "  0%|          | 0/69 [00:00<?, ?it/s]\u001b[A"
     ]
    },
    {
     "name": "stdout",
     "output_type": "stream",
     "text": [
      "\tsaving model 8700...\n",
      "\tdone\n",
      "Evaluating\n"
     ]
    },
    {
     "name": "stderr",
     "output_type": "stream",
     "text": [
      "\n",
      " 14%|#4        | 10/69 [00:00<00:00, 92.05it/s]\u001b[A\n",
      " 29%|##8       | 20/69 [00:00<00:00, 92.29it/s]\u001b[A\n",
      " 43%|####3     | 30/69 [00:00<00:00, 93.01it/s]\u001b[A\n",
      " 57%|#####6    | 39/69 [00:00<00:00, 89.62it/s]\u001b[A\n",
      " 71%|#######1  | 49/69 [00:00<00:00, 90.19it/s]\u001b[A\n",
      " 86%|########5 | 59/69 [00:00<00:00, 91.79it/s]\u001b[A\n",
      " 98%|█████████▊| 780/792 [00:34<00:01,  6.84it/s]A"
     ]
    },
    {
     "name": "stdout",
     "output_type": "stream",
     "text": [
      "{'ade': 0.50132954, 'fde': 1.0827391}\n",
      "\t last loss:0.000719291, eval on validation:['ade: 0.50132954', 'fde: 1.0827391'], (best ade:0.5059166 at step 5400) \n",
      "\t saving best model...\n",
      "\t done.\n"
     ]
    },
    {
     "name": "stderr",
     "output_type": "stream",
     "text": [
      "100%|██████████| 792/792 [00:35<00:00, 15.21it/s]\n",
      "  0%|          | 2/792 [00:00<00:48, 16.38it/s]"
     ]
    },
    {
     "name": "stdout",
     "output_type": "stream",
     "text": [
      "('Epoca 12.', 'lr:', 0.0008874108)\n"
     ]
    },
    {
     "name": "stderr",
     "output_type": "stream",
     "text": [
      " 36%|███▌      | 287/792 [00:11<00:20, 24.86it/s]\n",
      "  0%|          | 0/69 [00:00<?, ?it/s]\u001b[A"
     ]
    },
    {
     "name": "stdout",
     "output_type": "stream",
     "text": [
      "\tsaving model 9000...\n",
      "\tdone\n",
      "Evaluating\n"
     ]
    },
    {
     "name": "stderr",
     "output_type": "stream",
     "text": [
      "\n",
      " 13%|#3        | 9/69 [00:00<00:00, 81.78it/s]\u001b[A\n",
      " 26%|##6       | 18/69 [00:00<00:00, 83.40it/s]\u001b[A\n",
      " 39%|###9      | 27/69 [00:00<00:00, 84.45it/s]\u001b[A\n",
      " 52%|#####2    | 36/69 [00:00<00:00, 83.68it/s]\u001b[A\n",
      " 67%|######6   | 46/69 [00:00<00:00, 85.81it/s]\u001b[A\n",
      " 81%|########1 | 56/69 [00:00<00:00, 88.27it/s]\u001b[A\n",
      " 96%|#########5| 66/69 [00:00<00:00, 90.16it/s]\u001b[A\n",
      " 37%|███▋      | 290/792 [00:12<01:09,  7.25it/s]A"
     ]
    },
    {
     "name": "stdout",
     "output_type": "stream",
     "text": [
      "{'ade': 0.5420627, 'fde': 1.1885363}\n",
      "\t last loss:0.000613074, eval on validation:['ade: 0.5420627', 'fde: 1.1885363'], (best ade:0.50132954 at step 8700) \n"
     ]
    },
    {
     "name": "stderr",
     "output_type": "stream",
     "text": [
      " 74%|███████▍  | 587/792 [00:25<00:09, 21.75it/s]\n",
      "  0%|          | 0/69 [00:00<?, ?it/s]\u001b[A"
     ]
    },
    {
     "name": "stdout",
     "output_type": "stream",
     "text": [
      "\tsaving model 9300...\n",
      "\tdone\n",
      "Evaluating\n"
     ]
    },
    {
     "name": "stderr",
     "output_type": "stream",
     "text": [
      "\n",
      " 12%|#1        | 8/69 [00:00<00:00, 70.46it/s]\u001b[A\n",
      " 23%|##3       | 16/69 [00:00<00:00, 72.25it/s]\u001b[A\n",
      " 35%|###4      | 24/69 [00:00<00:00, 73.26it/s]\u001b[A\n",
      " 46%|####6     | 32/69 [00:00<00:00, 74.56it/s]\u001b[A\n",
      " 58%|#####7    | 40/69 [00:00<00:00, 74.33it/s]\u001b[A\n",
      " 70%|######9   | 48/69 [00:00<00:00, 73.29it/s]\u001b[A\n",
      " 81%|########1 | 56/69 [00:00<00:00, 74.15it/s]\u001b[A\n",
      " 93%|#########2| 64/69 [00:00<00:00, 75.05it/s]\u001b[A\n",
      " 74%|███████▍  | 590/792 [00:26<00:31,  6.31it/s]A"
     ]
    },
    {
     "name": "stdout",
     "output_type": "stream",
     "text": [
      "{'ade': 0.5167587, 'fde': 1.1362779}\n",
      "\t last loss:0.000721892, eval on validation:['ade: 0.5167587', 'fde: 1.1362779'], (best ade:0.50132954 at step 8700) \n"
     ]
    },
    {
     "name": "stderr",
     "output_type": "stream",
     "text": [
      "100%|██████████| 792/792 [00:34<00:00, 22.94it/s]\n",
      "  0%|          | 1/792 [00:00<01:37,  8.11it/s]"
     ]
    },
    {
     "name": "stdout",
     "output_type": "stream",
     "text": [
      "('Epoca 13.', 'lr:', 0.0007542992)\n"
     ]
    },
    {
     "name": "stderr",
     "output_type": "stream",
     "text": [
      " 12%|█▏        | 94/792 [00:04<00:27, 25.03it/s]\n",
      "  0%|          | 0/69 [00:00<?, ?it/s]\u001b[A"
     ]
    },
    {
     "name": "stdout",
     "output_type": "stream",
     "text": [
      "\tsaving model 9600...\n",
      "\tdone\n",
      "Evaluating\n"
     ]
    },
    {
     "name": "stderr",
     "output_type": "stream",
     "text": [
      "\n",
      " 13%|#3        | 9/69 [00:00<00:00, 82.22it/s]\u001b[A\n",
      " 23%|##3       | 16/69 [00:00<00:00, 75.59it/s]\u001b[A\n",
      " 36%|###6      | 25/69 [00:00<00:00, 78.21it/s]\u001b[A\n",
      " 49%|####9     | 34/69 [00:00<00:00, 80.49it/s]\u001b[A\n",
      " 62%|######2   | 43/69 [00:00<00:00, 81.30it/s]\u001b[A\n",
      " 75%|#######5  | 52/69 [00:00<00:00, 81.75it/s]\u001b[A\n",
      " 88%|########8 | 61/69 [00:00<00:00, 82.31it/s]\u001b[A\n",
      " 13%|█▎        | 100/792 [00:05<01:17,  8.90it/s]A"
     ]
    },
    {
     "name": "stdout",
     "output_type": "stream",
     "text": [
      "{'ade': 0.52635914, 'fde': 1.1483768}\n",
      "\t last loss:0.000776470, eval on validation:['ade: 0.52635914', 'fde: 1.1483768'], (best ade:0.50132954 at step 8700) \n"
     ]
    },
    {
     "name": "stderr",
     "output_type": "stream",
     "text": [
      " 50%|████▉     | 394/792 [00:16<00:15, 26.38it/s]\n",
      "  0%|          | 0/69 [00:00<?, ?it/s]\u001b[A"
     ]
    },
    {
     "name": "stdout",
     "output_type": "stream",
     "text": [
      "\tsaving model 9900...\n",
      "\tdone\n",
      "Evaluating\n"
     ]
    },
    {
     "name": "stderr",
     "output_type": "stream",
     "text": [
      "\n",
      " 13%|#3        | 9/69 [00:00<00:00, 86.90it/s]\u001b[A\n",
      " 28%|##7       | 19/69 [00:00<00:00, 88.85it/s]\u001b[A\n",
      " 42%|####2     | 29/69 [00:00<00:00, 89.65it/s]\u001b[A\n",
      " 57%|#####6    | 39/69 [00:00<00:00, 91.50it/s]\u001b[A\n",
      " 70%|######9   | 48/69 [00:00<00:00, 90.75it/s]\u001b[A\n",
      " 81%|########1 | 56/69 [00:00<00:00, 84.57it/s]\u001b[A\n",
      " 94%|#########4| 65/69 [00:00<00:00, 85.12it/s]\u001b[A\n",
      " 51%|█████     | 400/792 [00:17<00:41,  9.43it/s]A"
     ]
    },
    {
     "name": "stdout",
     "output_type": "stream",
     "text": [
      "{'ade': 0.52008647, 'fde': 1.1367916}\n",
      "\t last loss:0.000505743, eval on validation:['ade: 0.52008647', 'fde: 1.1367916'], (best ade:0.50132954 at step 8700) \n"
     ]
    },
    {
     "name": "stderr",
     "output_type": "stream",
     "text": [
      " 88%|████████▊ | 694/792 [00:29<00:03, 25.21it/s]\n",
      "  0%|          | 0/69 [00:00<?, ?it/s]\u001b[A"
     ]
    },
    {
     "name": "stdout",
     "output_type": "stream",
     "text": [
      "\tsaving model 10200...\n",
      "\tdone\n",
      "Evaluating\n"
     ]
    },
    {
     "name": "stderr",
     "output_type": "stream",
     "text": [
      "\n",
      " 13%|#3        | 9/69 [00:00<00:00, 89.47it/s]\u001b[A\n",
      " 28%|##7       | 19/69 [00:00<00:00, 91.31it/s]\u001b[A\n",
      " 42%|####2     | 29/69 [00:00<00:00, 91.10it/s]\u001b[A\n",
      " 57%|#####6    | 39/69 [00:00<00:00, 91.29it/s]\u001b[A\n",
      " 71%|#######1  | 49/69 [00:00<00:00, 92.31it/s]\u001b[A\n",
      " 86%|########5 | 59/69 [00:00<00:00, 92.12it/s]\u001b[A\n",
      " 88%|████████▊ | 700/792 [00:30<00:09,  9.54it/s]A"
     ]
    },
    {
     "name": "stdout",
     "output_type": "stream",
     "text": [
      "{'ade': 0.50568026, 'fde': 1.0987685}\n",
      "\t last loss:0.000320640, eval on validation:['ade: 0.50568026', 'fde: 1.0987685'], (best ade:0.50132954 at step 8700) \n"
     ]
    },
    {
     "name": "stderr",
     "output_type": "stream",
     "text": [
      "100%|██████████| 792/792 [00:34<00:00, 23.21it/s]\n",
      "  0%|          | 1/792 [00:00<01:48,  7.29it/s]"
     ]
    },
    {
     "name": "stdout",
     "output_type": "stream",
     "text": [
      "('Epoca 14.', 'lr:', 0.0007542992)\n"
     ]
    },
    {
     "name": "stderr",
     "output_type": "stream",
     "text": [
      " 26%|██▌       | 202/792 [00:08<00:23, 25.19it/s]\n",
      "  0%|          | 0/69 [00:00<?, ?it/s]\u001b[A"
     ]
    },
    {
     "name": "stdout",
     "output_type": "stream",
     "text": [
      "\tsaving model 10500...\n",
      "\tdone\n",
      "Evaluating\n"
     ]
    },
    {
     "name": "stderr",
     "output_type": "stream",
     "text": [
      "\n",
      " 10%|#         | 7/69 [00:00<00:00, 68.67it/s]\u001b[A\n",
      " 23%|##3       | 16/69 [00:00<00:00, 73.23it/s]\u001b[A\n",
      " 36%|###6      | 25/69 [00:00<00:00, 76.02it/s]\u001b[A\n",
      " 49%|####9     | 34/69 [00:00<00:00, 78.94it/s]\u001b[A\n",
      " 62%|######2   | 43/69 [00:00<00:00, 79.93it/s]\u001b[A\n",
      " 75%|#######5  | 52/69 [00:00<00:00, 82.03it/s]\u001b[A\n",
      " 88%|########8 | 61/69 [00:00<00:00, 83.10it/s]\u001b[A\n",
      " 26%|██▌       | 205/792 [00:09<01:22,  7.09it/s]A"
     ]
    },
    {
     "name": "stdout",
     "output_type": "stream",
     "text": [
      "{'ade': 0.55658096, 'fde': 1.2252005}\n",
      "\t last loss:0.000530451, eval on validation:['ade: 0.55658096', 'fde: 1.2252005'], (best ade:0.50132954 at step 8700) \n"
     ]
    },
    {
     "name": "stderr",
     "output_type": "stream",
     "text": [
      " 63%|██████▎   | 502/792 [00:22<00:11, 25.24it/s]\n",
      "  0%|          | 0/69 [00:00<?, ?it/s]\u001b[A"
     ]
    },
    {
     "name": "stdout",
     "output_type": "stream",
     "text": [
      "\tsaving model 10800...\n",
      "\tdone\n",
      "Evaluating\n"
     ]
    },
    {
     "name": "stderr",
     "output_type": "stream",
     "text": [
      "\n",
      " 13%|#3        | 9/69 [00:00<00:00, 85.60it/s]\u001b[A\n",
      " 26%|##6       | 18/69 [00:00<00:00, 86.00it/s]\u001b[A\n",
      " 39%|###9      | 27/69 [00:00<00:00, 86.25it/s]\u001b[A\n",
      " 51%|#####     | 35/69 [00:00<00:00, 83.83it/s]\u001b[A\n",
      " 64%|######3   | 44/69 [00:00<00:00, 84.37it/s]\u001b[A\n",
      " 77%|#######6  | 53/69 [00:00<00:00, 85.37it/s]\u001b[A\n",
      " 90%|########9 | 62/69 [00:00<00:00, 86.19it/s]\u001b[A\n",
      "100%|##########| 69/69 [00:00<00:00, 85.46it/s]\u001b[A"
     ]
    },
    {
     "name": "stdout",
     "output_type": "stream",
     "text": [
      "{'ade': 0.4941389, 'fde': 1.0630212}\n",
      "\t last loss:0.000436992, eval on validation:['ade: 0.4941389', 'fde: 1.0630212'], (best ade:0.50132954 at step 8700) \n",
      "\t saving best model...\n",
      "\t done.\n"
     ]
    },
    {
     "name": "stderr",
     "output_type": "stream",
     "text": [
      "100%|██████████| 792/792 [00:34<00:00, 22.91it/s]\n",
      "  0%|          | 2/792 [00:00<00:44, 17.81it/s]"
     ]
    },
    {
     "name": "stdout",
     "output_type": "stream",
     "text": [
      "('Epoca 15.', 'lr:', 0.0006411543)\n"
     ]
    },
    {
     "name": "stderr",
     "output_type": "stream",
     "text": [
      "  1%|▏         | 11/792 [00:00<00:34, 22.71it/s]\n",
      "  0%|          | 0/69 [00:00<?, ?it/s]\u001b[A"
     ]
    },
    {
     "name": "stdout",
     "output_type": "stream",
     "text": [
      "\tsaving model 11100...\n",
      "\tdone\n",
      "Evaluating\n"
     ]
    },
    {
     "name": "stderr",
     "output_type": "stream",
     "text": [
      "\n",
      " 14%|#4        | 10/69 [00:00<00:00, 94.25it/s]\u001b[A\n",
      " 26%|##6       | 18/69 [00:00<00:00, 87.71it/s]\u001b[A\n",
      " 39%|###9      | 27/69 [00:00<00:00, 87.40it/s]\u001b[A\n",
      " 52%|#####2    | 36/69 [00:00<00:00, 87.05it/s]\u001b[A\n",
      " 65%|######5   | 45/69 [00:00<00:00, 87.18it/s]\u001b[A\n",
      " 77%|#######6  | 53/69 [00:00<00:00, 84.57it/s]\u001b[A\n",
      " 90%|########9 | 62/69 [00:00<00:00, 85.24it/s]\u001b[A\n",
      "  2%|▏         | 16/792 [00:01<01:52,  6.90it/s][A"
     ]
    },
    {
     "name": "stdout",
     "output_type": "stream",
     "text": [
      "{'ade': 0.51076406, 'fde': 1.1116829}\n",
      "\t last loss:0.000466783, eval on validation:['ade: 0.51076406', 'fde: 1.1116829'], (best ade:0.4941389 at step 10800) \n"
     ]
    },
    {
     "name": "stderr",
     "output_type": "stream",
     "text": [
      " 39%|███▉      | 310/792 [00:13<00:19, 24.73it/s]\n",
      "  0%|          | 0/69 [00:00<?, ?it/s]\u001b[A"
     ]
    },
    {
     "name": "stdout",
     "output_type": "stream",
     "text": [
      "\tsaving model 11400...\n",
      "\tdone\n",
      "Evaluating\n"
     ]
    },
    {
     "name": "stderr",
     "output_type": "stream",
     "text": [
      "\n",
      " 13%|#3        | 9/69 [00:00<00:00, 89.64it/s]\u001b[A\n",
      " 28%|##7       | 19/69 [00:00<00:00, 90.82it/s]\u001b[A\n",
      " 42%|####2     | 29/69 [00:00<00:00, 92.14it/s]\u001b[A\n",
      " 55%|#####5    | 38/69 [00:00<00:00, 88.53it/s]\u001b[A\n",
      " 68%|######8   | 47/69 [00:00<00:00, 88.72it/s]\u001b[A\n",
      " 83%|########2 | 57/69 [00:00<00:00, 90.05it/s]\u001b[A\n",
      " 97%|#########7| 67/69 [00:00<00:00, 91.73it/s]\u001b[A\n",
      " 40%|███▉      | 316/792 [00:14<00:50,  9.50it/s]A"
     ]
    },
    {
     "name": "stdout",
     "output_type": "stream",
     "text": [
      "{'ade': 0.5020722, 'fde': 1.0879722}\n",
      "\t last loss:0.000388347, eval on validation:['ade: 0.5020722', 'fde: 1.0879722'], (best ade:0.4941389 at step 10800) \n"
     ]
    },
    {
     "name": "stderr",
     "output_type": "stream",
     "text": [
      " 77%|███████▋  | 610/792 [00:26<00:07, 22.93it/s]\n",
      "  0%|          | 0/69 [00:00<?, ?it/s]\u001b[A"
     ]
    },
    {
     "name": "stdout",
     "output_type": "stream",
     "text": [
      "\tsaving model 11700...\n",
      "\tdone\n",
      "Evaluating\n"
     ]
    },
    {
     "name": "stderr",
     "output_type": "stream",
     "text": [
      "\n",
      " 12%|#1        | 8/69 [00:00<00:00, 73.60it/s]\u001b[A\n",
      " 23%|##3       | 16/69 [00:00<00:00, 74.38it/s]\u001b[A\n",
      " 35%|###4      | 24/69 [00:00<00:00, 75.30it/s]\u001b[A\n",
      " 46%|####6     | 32/69 [00:00<00:00, 76.34it/s]\u001b[A\n",
      " 58%|#####7    | 40/69 [00:00<00:00, 76.46it/s]\u001b[A\n",
      " 70%|######9   | 48/69 [00:00<00:00, 76.02it/s]\u001b[A\n",
      " 81%|########1 | 56/69 [00:00<00:00, 74.88it/s]\u001b[A\n",
      " 93%|#########2| 64/69 [00:00<00:00, 74.24it/s]\u001b[A\n",
      " 77%|███████▋  | 613/792 [00:28<00:28,  6.36it/s]A"
     ]
    },
    {
     "name": "stdout",
     "output_type": "stream",
     "text": [
      "{'ade': 0.5257309, 'fde': 1.1511682}\n",
      "\t last loss:0.000880911, eval on validation:['ade: 0.5257309', 'fde: 1.1511682'], (best ade:0.4941389 at step 10800) \n"
     ]
    },
    {
     "name": "stderr",
     "output_type": "stream",
     "text": [
      "100%|██████████| 792/792 [00:35<00:00, 22.38it/s]\n",
      "  0%|          | 1/792 [00:00<01:30,  8.73it/s]"
     ]
    },
    {
     "name": "stdout",
     "output_type": "stream",
     "text": [
      "('Epoca 16.', 'lr:', 0.0006411543)\n"
     ]
    },
    {
     "name": "stderr",
     "output_type": "stream",
     "text": [
      " 15%|█▍        | 118/792 [00:04<00:26, 25.15it/s]\n",
      "  0%|          | 0/69 [00:00<?, ?it/s]\u001b[A"
     ]
    },
    {
     "name": "stdout",
     "output_type": "stream",
     "text": [
      "\tsaving model 12000...\n",
      "\tdone\n",
      "Evaluating\n"
     ]
    },
    {
     "name": "stderr",
     "output_type": "stream",
     "text": [
      "\n",
      " 13%|#3        | 9/69 [00:00<00:00, 83.94it/s]\u001b[A\n",
      " 26%|##6       | 18/69 [00:00<00:00, 84.79it/s]\u001b[A\n",
      " 39%|###9      | 27/69 [00:00<00:00, 85.38it/s]\u001b[A\n",
      " 52%|#####2    | 36/69 [00:00<00:00, 84.53it/s]\u001b[A\n",
      " 64%|######3   | 44/69 [00:00<00:00, 81.71it/s]\u001b[A\n",
      " 78%|#######8  | 54/69 [00:00<00:00, 84.42it/s]\u001b[A\n",
      " 93%|#########2| 64/69 [00:00<00:00, 87.55it/s]\u001b[A\n",
      " 16%|█▌        | 124/792 [00:05<01:12,  9.22it/s]A"
     ]
    },
    {
     "name": "stdout",
     "output_type": "stream",
     "text": [
      "{'ade': 0.49519122, 'fde': 1.0751324}\n",
      "\t last loss:0.000258827, eval on validation:['ade: 0.49519122', 'fde: 1.0751324'], (best ade:0.4941389 at step 10800) \n"
     ]
    },
    {
     "name": "stderr",
     "output_type": "stream",
     "text": [
      " 53%|█████▎    | 418/792 [00:17<00:13, 26.83it/s]\n",
      "  0%|          | 0/69 [00:00<?, ?it/s]\u001b[A"
     ]
    },
    {
     "name": "stdout",
     "output_type": "stream",
     "text": [
      "\tsaving model 12300...\n",
      "\tdone\n",
      "Evaluating\n"
     ]
    },
    {
     "name": "stderr",
     "output_type": "stream",
     "text": [
      "\n",
      " 13%|#3        | 9/69 [00:00<00:00, 85.27it/s]\u001b[A\n",
      " 26%|##6       | 18/69 [00:00<00:00, 84.75it/s]\u001b[A\n",
      " 39%|###9      | 27/69 [00:00<00:00, 84.01it/s]\u001b[A\n",
      " 52%|#####2    | 36/69 [00:00<00:00, 84.28it/s]\u001b[A\n",
      " 65%|######5   | 45/69 [00:00<00:00, 84.13it/s]\u001b[A\n",
      " 78%|#######8  | 54/69 [00:00<00:00, 85.18it/s]\u001b[A\n",
      " 91%|#########1| 63/69 [00:00<00:00, 84.53it/s]\u001b[A\n",
      " 53%|█████▎    | 421/792 [00:18<00:51,  7.20it/s]A"
     ]
    },
    {
     "name": "stdout",
     "output_type": "stream",
     "text": [
      "{'ade': 0.5126224, 'fde': 1.1261936}\n",
      "\t last loss:0.000377308, eval on validation:['ade: 0.5126224', 'fde: 1.1261936'], (best ade:0.4941389 at step 10800) \n"
     ]
    },
    {
     "name": "stderr",
     "output_type": "stream",
     "text": [
      " 91%|█████████ | 718/792 [00:30<00:03, 21.63it/s]"
     ]
    },
    {
     "name": "stdout",
     "output_type": "stream",
     "text": [
      "\tsaving model 12600...\n"
     ]
    },
    {
     "name": "stderr",
     "output_type": "stream",
     "text": [
      "\n",
      "  0%|          | 0/69 [00:00<?, ?it/s]\u001b[A\n",
      " 10%|#         | 7/69 [00:00<00:00, 62.73it/s]\u001b[A"
     ]
    },
    {
     "name": "stdout",
     "output_type": "stream",
     "text": [
      "\tdone\n",
      "Evaluating\n"
     ]
    },
    {
     "name": "stderr",
     "output_type": "stream",
     "text": [
      "\n",
      " 20%|##        | 14/69 [00:00<00:00, 63.28it/s]\u001b[A\n",
      " 30%|###       | 21/69 [00:00<00:00, 64.00it/s]\u001b[A\n",
      " 41%|####      | 28/69 [00:00<00:00, 64.06it/s]\u001b[A\n",
      " 51%|#####     | 35/69 [00:00<00:00, 65.54it/s]\u001b[A\n",
      " 61%|######    | 42/69 [00:00<00:00, 65.75it/s]\u001b[A\n",
      " 71%|#######1  | 49/69 [00:00<00:00, 66.54it/s]\u001b[A\n",
      " 81%|########1 | 56/69 [00:00<00:00, 66.32it/s]\u001b[A\n",
      " 91%|#########1| 63/69 [00:00<00:00, 66.85it/s]\u001b[A\n",
      "100%|##########| 69/69 [00:01<00:00, 65.09it/s]\u001b[A"
     ]
    },
    {
     "name": "stdout",
     "output_type": "stream",
     "text": [
      "{'ade': 0.4902176, 'fde': 1.0584099}\n",
      "\t last loss:0.000262050, eval on validation:['ade: 0.4902176', 'fde: 1.0584099'], (best ade:0.4941389 at step 10800) \n",
      "\t saving best model...\n"
     ]
    },
    {
     "name": "stderr",
     "output_type": "stream",
     "text": [
      "\r",
      " 91%|█████████ | 721/792 [00:31<00:14,  5.02it/s]"
     ]
    },
    {
     "name": "stdout",
     "output_type": "stream",
     "text": [
      "\t done.\n"
     ]
    },
    {
     "name": "stderr",
     "output_type": "stream",
     "text": [
      "100%|██████████| 792/792 [00:35<00:00, 23.25it/s]\n",
      "  0%|          | 3/792 [00:00<00:34, 22.93it/s]"
     ]
    },
    {
     "name": "stdout",
     "output_type": "stream",
     "text": [
      "('Epoca 17.', 'lr:', 0.0005449812)\n"
     ]
    },
    {
     "name": "stderr",
     "output_type": "stream",
     "text": [
      " 29%|██▊       | 227/792 [00:09<00:21, 26.74it/s]\n",
      "  0%|          | 0/69 [00:00<?, ?it/s]\u001b[A"
     ]
    },
    {
     "name": "stdout",
     "output_type": "stream",
     "text": [
      "\tsaving model 12900...\n",
      "\tdone\n",
      "Evaluating\n"
     ]
    },
    {
     "name": "stderr",
     "output_type": "stream",
     "text": [
      "\n",
      " 14%|#4        | 10/69 [00:00<00:00, 92.54it/s]\u001b[A\n",
      " 29%|##8       | 20/69 [00:00<00:00, 93.07it/s]\u001b[A\n",
      " 43%|####3     | 30/69 [00:00<00:00, 92.47it/s]\u001b[A\n",
      " 58%|#####7    | 40/69 [00:00<00:00, 92.51it/s]\u001b[A\n",
      " 72%|#######2  | 50/69 [00:00<00:00, 92.79it/s]\u001b[A\n",
      " 87%|########6 | 60/69 [00:00<00:00, 93.03it/s]\u001b[A\n",
      " 29%|██▉       | 230/792 [00:10<01:13,  7.68it/s]A"
     ]
    },
    {
     "name": "stdout",
     "output_type": "stream",
     "text": [
      "{'ade': 0.513309, 'fde': 1.1207402}\n",
      "\t last loss:0.000302258, eval on validation:['ade: 0.513309', 'fde: 1.1207402'], (best ade:0.4902176 at step 12600) \n"
     ]
    },
    {
     "name": "stderr",
     "output_type": "stream",
     "text": [
      " 67%|██████▋   | 527/792 [00:21<00:10, 25.13it/s]\n",
      "  0%|          | 0/69 [00:00<?, ?it/s]\u001b[A"
     ]
    },
    {
     "name": "stdout",
     "output_type": "stream",
     "text": [
      "\tsaving model 13200...\n",
      "\tdone\n",
      "Evaluating\n"
     ]
    },
    {
     "name": "stderr",
     "output_type": "stream",
     "text": [
      "\n",
      " 13%|#3        | 9/69 [00:00<00:00, 82.22it/s]\u001b[A\n",
      " 25%|##4       | 17/69 [00:00<00:00, 80.09it/s]\u001b[A\n",
      " 38%|###7      | 26/69 [00:00<00:00, 82.49it/s]\u001b[A\n",
      " 52%|#####2    | 36/69 [00:00<00:00, 85.45it/s]\u001b[A\n",
      " 65%|######5   | 45/69 [00:00<00:00, 85.87it/s]\u001b[A\n",
      " 80%|#######9  | 55/69 [00:00<00:00, 88.49it/s]\u001b[A\n",
      " 94%|#########4| 65/69 [00:00<00:00, 89.80it/s]\u001b[A\n",
      " 67%|██████▋   | 530/792 [00:23<00:35,  7.37it/s]A"
     ]
    },
    {
     "name": "stdout",
     "output_type": "stream",
     "text": [
      "{'ade': 0.5108472, 'fde': 1.1260943}\n",
      "\t last loss:0.000508063, eval on validation:['ade: 0.5108472', 'fde: 1.1260943'], (best ade:0.4902176 at step 12600) \n"
     ]
    },
    {
     "name": "stderr",
     "output_type": "stream",
     "text": [
      "100%|██████████| 792/792 [00:33<00:00, 23.84it/s]\n",
      "  0%|          | 1/792 [00:00<01:41,  7.77it/s]"
     ]
    },
    {
     "name": "stdout",
     "output_type": "stream",
     "text": [
      "('Epoca 18.', 'lr:', 0.0005449812)\n"
     ]
    },
    {
     "name": "stderr",
     "output_type": "stream",
     "text": [
      "  4%|▍         | 34/792 [00:01<00:30, 24.77it/s]\n",
      "  0%|          | 0/69 [00:00<?, ?it/s]\u001b[A"
     ]
    },
    {
     "name": "stdout",
     "output_type": "stream",
     "text": [
      "\tsaving model 13500...\n",
      "\tdone\n",
      "Evaluating\n"
     ]
    },
    {
     "name": "stderr",
     "output_type": "stream",
     "text": [
      "\n",
      " 13%|#3        | 9/69 [00:00<00:00, 85.88it/s]\u001b[A\n",
      " 26%|##6       | 18/69 [00:00<00:00, 85.95it/s]\u001b[A\n",
      " 39%|###9      | 27/69 [00:00<00:00, 84.65it/s]\u001b[A\n",
      " 52%|#####2    | 36/69 [00:00<00:00, 84.76it/s]\u001b[A\n",
      " 64%|######3   | 44/69 [00:00<00:00, 80.16it/s]\u001b[A\n",
      " 77%|#######6  | 53/69 [00:00<00:00, 80.86it/s]\u001b[A\n",
      " 90%|########9 | 62/69 [00:00<00:00, 82.65it/s]\u001b[A\n",
      "  5%|▌         | 40/792 [00:02<01:24,  8.86it/s][A"
     ]
    },
    {
     "name": "stdout",
     "output_type": "stream",
     "text": [
      "{'ade': 0.4965091, 'fde': 1.0772681}\n",
      "\t last loss:0.000573344, eval on validation:['ade: 0.4965091', 'fde: 1.0772681'], (best ade:0.4902176 at step 12600) \n"
     ]
    },
    {
     "name": "stderr",
     "output_type": "stream",
     "text": [
      " 42%|████▏     | 334/792 [00:14<00:22, 20.64it/s]"
     ]
    },
    {
     "name": "stdout",
     "output_type": "stream",
     "text": [
      "\tsaving model 13800...\n"
     ]
    },
    {
     "name": "stderr",
     "output_type": "stream",
     "text": [
      "\n",
      "  0%|          | 0/69 [00:00<?, ?it/s]\u001b[A\n",
      " 10%|#         | 7/69 [00:00<00:00, 65.46it/s]\u001b[A\n",
      " 20%|##        | 14/69 [00:00<00:00, 65.64it/s]\u001b[A\n",
      " 30%|###       | 21/69 [00:00<00:00, 65.78it/s]\u001b[A\n",
      " 41%|####      | 28/69 [00:00<00:00, 65.62it/s]\u001b[A\n",
      " 49%|####9     | 34/69 [00:00<00:00, 63.20it/s]\u001b[A\n",
      " 59%|#####9    | 41/69 [00:00<00:00, 64.46it/s]\u001b[A\n",
      " 70%|######9   | 48/69 [00:00<00:00, 64.39it/s]\u001b[A\n",
      " 80%|#######9  | 55/69 [00:00<00:00, 64.90it/s]\u001b[A\n",
      " 90%|########9 | 62/69 [00:00<00:00, 65.95it/s]\u001b[A\n",
      " 43%|████▎     | 337/792 [00:15<01:20,  5.68it/s]A"
     ]
    },
    {
     "name": "stdout",
     "output_type": "stream",
     "text": [
      "\tdone\n",
      "Evaluating\n",
      "{'ade': 0.5097282, 'fde': 1.1090069}\n",
      "\t last loss:0.000239877, eval on validation:['ade: 0.5097282', 'fde: 1.1090069'], (best ade:0.4902176 at step 12600) \n"
     ]
    },
    {
     "name": "stderr",
     "output_type": "stream",
     "text": [
      " 80%|███████▉  | 633/792 [00:28<00:06, 26.24it/s]\n",
      "  0%|          | 0/69 [00:00<?, ?it/s]\u001b[A"
     ]
    },
    {
     "name": "stdout",
     "output_type": "stream",
     "text": [
      "\tsaving model 14100...\n",
      "\tdone\n",
      "Evaluating\n"
     ]
    },
    {
     "name": "stderr",
     "output_type": "stream",
     "text": [
      "\n",
      " 13%|#3        | 9/69 [00:00<00:00, 85.64it/s]\u001b[A\n",
      " 28%|##7       | 19/69 [00:00<00:00, 87.60it/s]\u001b[A\n",
      " 42%|####2     | 29/69 [00:00<00:00, 89.93it/s]\u001b[A\n",
      " 57%|#####6    | 39/69 [00:00<00:00, 90.92it/s]\u001b[A\n",
      " 71%|#######1  | 49/69 [00:00<00:00, 92.35it/s]\u001b[A\n",
      " 86%|########5 | 59/69 [00:00<00:00, 93.29it/s]\u001b[A\n",
      " 81%|████████  | 639/792 [00:29<00:15,  9.67it/s]A"
     ]
    },
    {
     "name": "stdout",
     "output_type": "stream",
     "text": [
      "{'ade': 0.50914645, 'fde': 1.1132568}\n",
      "\t last loss:0.000345823, eval on validation:['ade: 0.50914645', 'fde: 1.1132568'], (best ade:0.4902176 at step 12600) \n"
     ]
    },
    {
     "name": "stderr",
     "output_type": "stream",
     "text": [
      "100%|██████████| 792/792 [00:35<00:00, 26.40it/s]\n",
      "  0%|          | 1/792 [00:00<01:36,  8.22it/s]"
     ]
    },
    {
     "name": "stdout",
     "output_type": "stream",
     "text": [
      "('Epoca 19.', 'lr:', 0.00046323403)\n"
     ]
    },
    {
     "name": "stderr",
     "output_type": "stream",
     "text": [
      " 18%|█▊        | 142/792 [00:05<00:25, 25.30it/s]\n",
      "  0%|          | 0/69 [00:00<?, ?it/s]\u001b[A"
     ]
    },
    {
     "name": "stdout",
     "output_type": "stream",
     "text": [
      "\tsaving model 14400...\n",
      "\tdone\n",
      "Evaluating\n"
     ]
    },
    {
     "name": "stderr",
     "output_type": "stream",
     "text": [
      "\n",
      " 13%|#3        | 9/69 [00:00<00:00, 87.57it/s]\u001b[A\n",
      " 26%|##6       | 18/69 [00:00<00:00, 87.81it/s]\u001b[A\n",
      " 41%|####      | 28/69 [00:00<00:00, 89.19it/s]\u001b[A\n",
      " 55%|#####5    | 38/69 [00:00<00:00, 90.45it/s]\u001b[A\n",
      " 70%|######9   | 48/69 [00:00<00:00, 91.27it/s]\u001b[A\n",
      " 84%|########4 | 58/69 [00:00<00:00, 92.34it/s]\u001b[A\n",
      " 99%|#########8| 68/69 [00:00<00:00, 93.21it/s]\u001b[A\n",
      " 19%|█▊        | 148/792 [00:06<01:08,  9.40it/s]A"
     ]
    },
    {
     "name": "stdout",
     "output_type": "stream",
     "text": [
      "{'ade': 0.49134165, 'fde': 1.0610744}\n",
      "\t last loss:0.000279371, eval on validation:['ade: 0.49134165', 'fde: 1.0610744'], (best ade:0.4902176 at step 12600) \n"
     ]
    },
    {
     "name": "stderr",
     "output_type": "stream",
     "text": [
      " 56%|█████▌    | 442/792 [00:18<00:13, 25.77it/s]\n",
      "  0%|          | 0/69 [00:00<?, ?it/s]\u001b[A"
     ]
    },
    {
     "name": "stdout",
     "output_type": "stream",
     "text": [
      "\tsaving model 14700...\n",
      "\tdone\n",
      "Evaluating\n"
     ]
    },
    {
     "name": "stderr",
     "output_type": "stream",
     "text": [
      "\n",
      " 13%|#3        | 9/69 [00:00<00:00, 83.06it/s]\u001b[A\n",
      " 26%|##6       | 18/69 [00:00<00:00, 83.92it/s]\u001b[A\n",
      " 36%|###6      | 25/69 [00:00<00:00, 79.18it/s]\u001b[A\n",
      " 49%|####9     | 34/69 [00:00<00:00, 81.44it/s]\u001b[A\n",
      " 61%|######    | 42/69 [00:00<00:00, 80.86it/s]\u001b[A\n",
      " 74%|#######3  | 51/69 [00:00<00:00, 81.48it/s]\u001b[A\n",
      " 87%|########6 | 60/69 [00:00<00:00, 82.99it/s]\u001b[A\n",
      " 57%|█████▋    | 448/792 [00:19<00:38,  8.99it/s]A"
     ]
    },
    {
     "name": "stdout",
     "output_type": "stream",
     "text": [
      "{'ade': 0.5202508, 'fde': 1.1460568}\n",
      "\t last loss:0.000309201, eval on validation:['ade: 0.5202508', 'fde: 1.1460568'], (best ade:0.4902176 at step 12600) \n"
     ]
    },
    {
     "name": "stderr",
     "output_type": "stream",
     "text": [
      " 94%|█████████▎| 742/792 [00:32<00:01, 25.13it/s]\n",
      "  0%|          | 0/69 [00:00<?, ?it/s]\u001b[A"
     ]
    },
    {
     "name": "stdout",
     "output_type": "stream",
     "text": [
      "\tsaving model 15000...\n",
      "\tdone\n",
      "Evaluating\n"
     ]
    },
    {
     "name": "stderr",
     "output_type": "stream",
     "text": [
      "\n",
      " 13%|#3        | 9/69 [00:00<00:00, 87.43it/s]\u001b[A\n",
      " 25%|##4       | 17/69 [00:00<00:00, 83.41it/s]\u001b[A\n",
      " 38%|###7      | 26/69 [00:00<00:00, 82.93it/s]\u001b[A\n",
      " 49%|####9     | 34/69 [00:00<00:00, 81.89it/s]\u001b[A\n",
      " 62%|######2   | 43/69 [00:00<00:00, 83.47it/s]\u001b[A\n",
      " 75%|#######5  | 52/69 [00:00<00:00, 84.00it/s]\u001b[A\n",
      " 88%|########8 | 61/69 [00:00<00:00, 84.33it/s]\u001b[A\n",
      " 94%|█████████▍| 748/792 [00:33<00:04,  9.03it/s]A"
     ]
    },
    {
     "name": "stdout",
     "output_type": "stream",
     "text": [
      "{'ade': 0.4933933, 'fde': 1.0662054}\n",
      "\t last loss:0.000415689, eval on validation:['ade: 0.4933933', 'fde: 1.0662054'], (best ade:0.4902176 at step 12600) \n"
     ]
    },
    {
     "name": "stderr",
     "output_type": "stream",
     "text": [
      "100%|██████████| 792/792 [00:35<00:00, 22.39it/s]\n",
      "  0%|          | 3/792 [00:00<00:31, 25.00it/s]"
     ]
    },
    {
     "name": "stdout",
     "output_type": "stream",
     "text": [
      "('Epoca 20.', 'lr:', 0.00046323403)\n"
     ]
    },
    {
     "name": "stderr",
     "output_type": "stream",
     "text": [
      " 31%|███▏      | 249/792 [00:09<00:20, 26.47it/s]\n",
      "  0%|          | 0/69 [00:00<?, ?it/s]\u001b[A"
     ]
    },
    {
     "name": "stdout",
     "output_type": "stream",
     "text": [
      "\tsaving model 15300...\n",
      "\tdone\n",
      "Evaluating\n"
     ]
    },
    {
     "name": "stderr",
     "output_type": "stream",
     "text": [
      "\n",
      " 14%|#4        | 10/69 [00:00<00:00, 93.04it/s]\u001b[A\n",
      " 29%|##8       | 20/69 [00:00<00:00, 93.50it/s]\u001b[A\n",
      " 43%|####3     | 30/69 [00:00<00:00, 93.54it/s]\u001b[A\n",
      " 58%|#####7    | 40/69 [00:00<00:00, 93.96it/s]\u001b[A\n",
      " 72%|#######2  | 50/69 [00:00<00:00, 93.13it/s]\u001b[A\n",
      " 86%|########5 | 59/69 [00:00<00:00, 89.89it/s]\u001b[A\n",
      " 99%|#########8| 68/69 [00:00<00:00, 89.11it/s]\u001b[A\n",
      " 32%|███▏      | 255/792 [00:10<00:56,  9.53it/s]A"
     ]
    },
    {
     "name": "stdout",
     "output_type": "stream",
     "text": [
      "{'ade': 0.50663424, 'fde': 1.1089457}\n",
      "\t last loss:0.000491463, eval on validation:['ade: 0.50663424', 'fde: 1.1089457'], (best ade:0.4902176 at step 12600) \n"
     ]
    },
    {
     "name": "stderr",
     "output_type": "stream",
     "text": [
      " 69%|██████▉   | 549/792 [00:22<00:09, 25.43it/s]\n",
      "  0%|          | 0/69 [00:00<?, ?it/s]\u001b[A"
     ]
    },
    {
     "name": "stdout",
     "output_type": "stream",
     "text": [
      "\tsaving model 15600...\n",
      "\tdone\n",
      "Evaluating\n"
     ]
    },
    {
     "name": "stderr",
     "output_type": "stream",
     "text": [
      "\n",
      " 13%|#3        | 9/69 [00:00<00:00, 87.95it/s]\u001b[A\n",
      " 28%|##7       | 19/69 [00:00<00:00, 90.28it/s]\u001b[A\n",
      " 42%|####2     | 29/69 [00:00<00:00, 91.96it/s]\u001b[A\n",
      " 57%|#####6    | 39/69 [00:00<00:00, 91.87it/s]\u001b[A\n",
      " 71%|#######1  | 49/69 [00:00<00:00, 92.81it/s]\u001b[A\n",
      " 86%|########5 | 59/69 [00:00<00:00, 93.40it/s]\u001b[A\n",
      " 70%|███████   | 555/792 [00:23<00:24,  9.49it/s]A"
     ]
    },
    {
     "name": "stdout",
     "output_type": "stream",
     "text": [
      "{'ade': 0.50786066, 'fde': 1.1051445}\n",
      "\t last loss:0.000536881, eval on validation:['ade: 0.50786066', 'fde: 1.1051445'], (best ade:0.4902176 at step 12600) \n"
     ]
    },
    {
     "name": "stderr",
     "output_type": "stream",
     "text": [
      "100%|██████████| 792/792 [00:33<00:00, 21.33it/s]\n",
      "  0%|          | 1/792 [00:00<02:00,  6.54it/s]"
     ]
    },
    {
     "name": "stdout",
     "output_type": "stream",
     "text": [
      "('Epoca 21.', 'lr:', 0.00039374892)\n"
     ]
    },
    {
     "name": "stderr",
     "output_type": "stream",
     "text": [
      "  7%|▋         | 57/792 [00:02<00:32, 22.44it/s]\n",
      "  0%|          | 0/69 [00:00<?, ?it/s]\u001b[A"
     ]
    },
    {
     "name": "stdout",
     "output_type": "stream",
     "text": [
      "\tsaving model 15900...\n",
      "\tdone\n",
      "Evaluating\n"
     ]
    },
    {
     "name": "stderr",
     "output_type": "stream",
     "text": [
      "\n",
      "  9%|8         | 6/69 [00:00<00:01, 59.16it/s]\u001b[A\n",
      " 20%|##        | 14/69 [00:00<00:00, 63.63it/s]\u001b[A\n",
      " 32%|###1      | 22/69 [00:00<00:00, 66.48it/s]\u001b[A\n",
      " 43%|####3     | 30/69 [00:00<00:00, 68.90it/s]\u001b[A\n",
      " 55%|#####5    | 38/69 [00:00<00:00, 71.40it/s]\u001b[A\n",
      " 67%|######6   | 46/69 [00:00<00:00, 73.41it/s]\u001b[A\n",
      " 78%|#######8  | 54/69 [00:00<00:00, 74.62it/s]\u001b[A\n",
      " 90%|########9 | 62/69 [00:00<00:00, 74.06it/s]\u001b[A\n",
      "  8%|▊         | 63/792 [00:04<01:30,  8.02it/s][A"
     ]
    },
    {
     "name": "stdout",
     "output_type": "stream",
     "text": [
      "{'ade': 0.50813746, 'fde': 1.1073705}\n",
      "\t last loss:0.000615823, eval on validation:['ade: 0.50813746', 'fde: 1.1073705'], (best ade:0.4902176 at step 12600) \n"
     ]
    },
    {
     "name": "stderr",
     "output_type": "stream",
     "text": [
      " 45%|████▌     | 357/792 [00:15<00:17, 25.23it/s]\n",
      "  0%|          | 0/69 [00:00<?, ?it/s]\u001b[A"
     ]
    },
    {
     "name": "stdout",
     "output_type": "stream",
     "text": [
      "\tsaving model 16200...\n",
      "\tdone\n",
      "Evaluating\n"
     ]
    },
    {
     "name": "stderr",
     "output_type": "stream",
     "text": [
      "\n",
      " 12%|#1        | 8/69 [00:00<00:00, 72.90it/s]\u001b[A\n",
      " 23%|##3       | 16/69 [00:00<00:00, 74.85it/s]\u001b[A\n",
      " 35%|###4      | 24/69 [00:00<00:00, 75.50it/s]\u001b[A\n",
      " 48%|####7     | 33/69 [00:00<00:00, 78.03it/s]\u001b[A\n",
      " 61%|######    | 42/69 [00:00<00:00, 80.67it/s]\u001b[A\n",
      " 74%|#######3  | 51/69 [00:00<00:00, 82.13it/s]\u001b[A\n",
      " 87%|########6 | 60/69 [00:00<00:00, 82.36it/s]\u001b[A\n",
      " 46%|████▌     | 363/792 [00:17<00:47,  8.99it/s]A"
     ]
    },
    {
     "name": "stdout",
     "output_type": "stream",
     "text": [
      "{'ade': 0.49794972, 'fde': 1.0827707}\n",
      "\t last loss:0.000547404, eval on validation:['ade: 0.49794972', 'fde: 1.0827707'], (best ade:0.4902176 at step 12600) \n"
     ]
    },
    {
     "name": "stderr",
     "output_type": "stream",
     "text": [
      " 83%|████████▎ | 657/792 [00:28<00:05, 26.23it/s]\n",
      "  0%|          | 0/69 [00:00<?, ?it/s]\u001b[A"
     ]
    },
    {
     "name": "stdout",
     "output_type": "stream",
     "text": [
      "\tsaving model 16500...\n",
      "\tdone\n",
      "Evaluating\n"
     ]
    },
    {
     "name": "stderr",
     "output_type": "stream",
     "text": [
      "\n",
      " 14%|#4        | 10/69 [00:00<00:00, 91.58it/s]\u001b[A\n",
      " 29%|##8       | 20/69 [00:00<00:00, 91.70it/s]\u001b[A\n",
      " 43%|####3     | 30/69 [00:00<00:00, 92.79it/s]\u001b[A\n",
      " 58%|#####7    | 40/69 [00:00<00:00, 92.53it/s]\u001b[A\n",
      " 71%|#######1  | 49/69 [00:00<00:00, 90.03it/s]\u001b[A\n",
      " 84%|########4 | 58/69 [00:00<00:00, 89.61it/s]\u001b[A\n",
      " 97%|#########7| 67/69 [00:00<00:00, 88.98it/s]\u001b[A\n",
      " 84%|████████▎ | 663/792 [00:29<00:13,  9.52it/s]A"
     ]
    },
    {
     "name": "stdout",
     "output_type": "stream",
     "text": [
      "{'ade': 0.5012396, 'fde': 1.095893}\n",
      "\t last loss:0.000321304, eval on validation:['ade: 0.5012396', 'fde: 1.095893'], (best ade:0.4902176 at step 12600) \n"
     ]
    },
    {
     "name": "stderr",
     "output_type": "stream",
     "text": [
      "100%|██████████| 792/792 [00:34<00:00, 25.98it/s]\n",
      "  0%|          | 1/792 [00:00<01:21,  9.65it/s]"
     ]
    },
    {
     "name": "stdout",
     "output_type": "stream",
     "text": [
      "('Epoca 22.', 'lr:', 0.00039374892)\n"
     ]
    },
    {
     "name": "stderr",
     "output_type": "stream",
     "text": [
      " 21%|██        | 166/792 [00:09<00:46, 13.35it/s]"
     ]
    },
    {
     "name": "stdout",
     "output_type": "stream",
     "text": [
      "\tsaving model 16800...\n"
     ]
    },
    {
     "name": "stderr",
     "output_type": "stream",
     "text": [
      "\n",
      "  0%|          | 0/69 [00:00<?, ?it/s]\u001b[A\n",
      "  6%|5         | 4/69 [00:00<00:01, 36.14it/s]\u001b[A"
     ]
    },
    {
     "name": "stdout",
     "output_type": "stream",
     "text": [
      "\tdone\n",
      "Evaluating\n"
     ]
    },
    {
     "name": "stderr",
     "output_type": "stream",
     "text": [
      "\n",
      " 14%|#4        | 10/69 [00:00<00:01, 40.50it/s]\u001b[A\n",
      " 25%|##4       | 17/69 [00:00<00:01, 45.33it/s]\u001b[A\n",
      " 33%|###3      | 23/69 [00:00<00:00, 48.21it/s]\u001b[A\n",
      " 43%|####3     | 30/69 [00:00<00:00, 52.71it/s]\u001b[A\n",
      " 54%|#####3    | 37/69 [00:00<00:00, 55.80it/s]\u001b[A\n",
      " 62%|######2   | 43/69 [00:00<00:00, 55.94it/s]\u001b[A\n",
      " 72%|#######2  | 50/69 [00:00<00:00, 58.83it/s]\u001b[A\n",
      " 84%|########4 | 58/69 [00:00<00:00, 62.66it/s]\u001b[A\n",
      " 94%|#########4| 65/69 [00:01<00:00, 62.94it/s]\u001b[A\n",
      " 22%|██▏       | 171/792 [00:11<02:07,  4.88it/s]A"
     ]
    },
    {
     "name": "stdout",
     "output_type": "stream",
     "text": [
      "{'ade': 0.5014587, 'fde': 1.0956463}\n",
      "\t last loss:0.000521099, eval on validation:['ade: 0.5014587', 'fde: 1.0956463'], (best ade:0.4902176 at step 12600) \n"
     ]
    },
    {
     "name": "stderr",
     "output_type": "stream",
     "text": [
      " 59%|█████▉    | 466/792 [00:23<00:13, 24.22it/s]\n",
      "  0%|          | 0/69 [00:00<?, ?it/s]\u001b[A"
     ]
    },
    {
     "name": "stdout",
     "output_type": "stream",
     "text": [
      "\tsaving model 17100...\n",
      "\tdone\n",
      "Evaluating\n"
     ]
    },
    {
     "name": "stderr",
     "output_type": "stream",
     "text": [
      "\n",
      " 12%|#1        | 8/69 [00:00<00:00, 76.73it/s]\u001b[A\n",
      " 25%|##4       | 17/69 [00:00<00:00, 78.13it/s]\u001b[A\n",
      " 38%|###7      | 26/69 [00:00<00:00, 79.45it/s]\u001b[A\n",
      " 49%|####9     | 34/69 [00:00<00:00, 79.44it/s]\u001b[A\n",
      " 59%|#####9    | 41/69 [00:00<00:00, 74.37it/s]\u001b[A\n",
      " 72%|#######2  | 50/69 [00:00<00:00, 76.41it/s]\u001b[A\n",
      " 86%|########5 | 59/69 [00:00<00:00, 78.14it/s]\u001b[A\n",
      " 99%|#########8| 68/69 [00:00<00:00, 79.94it/s]\u001b[A\n",
      " 59%|█████▉    | 469/792 [00:24<00:47,  6.76it/s]A"
     ]
    },
    {
     "name": "stdout",
     "output_type": "stream",
     "text": [
      "{'ade': 0.4968718, 'fde': 1.076309}\n",
      "\t last loss:0.000367442, eval on validation:['ade: 0.4968718', 'fde: 1.076309'], (best ade:0.4902176 at step 12600) \n"
     ]
    },
    {
     "name": "stderr",
     "output_type": "stream",
     "text": [
      " 97%|█████████▋| 766/792 [00:37<00:01, 20.86it/s]"
     ]
    },
    {
     "name": "stdout",
     "output_type": "stream",
     "text": [
      "\tsaving model 17400...\n"
     ]
    },
    {
     "name": "stderr",
     "output_type": "stream",
     "text": [
      "\n",
      "  0%|          | 0/69 [00:00<?, ?it/s]\u001b[A\n",
      " 10%|#         | 7/69 [00:00<00:00, 62.54it/s]\u001b[A"
     ]
    },
    {
     "name": "stdout",
     "output_type": "stream",
     "text": [
      "\tdone\n",
      "Evaluating\n"
     ]
    },
    {
     "name": "stderr",
     "output_type": "stream",
     "text": [
      "\n",
      " 19%|#8        | 13/69 [00:00<00:00, 59.96it/s]\u001b[A\n",
      " 29%|##8       | 20/69 [00:00<00:00, 61.33it/s]\u001b[A\n",
      " 39%|###9      | 27/69 [00:00<00:00, 62.00it/s]\u001b[A\n",
      " 49%|####9     | 34/69 [00:00<00:00, 63.18it/s]\u001b[A\n",
      " 59%|#####9    | 41/69 [00:00<00:00, 63.20it/s]\u001b[A\n",
      " 70%|######9   | 48/69 [00:00<00:00, 64.41it/s]\u001b[A\n",
      " 78%|#######8  | 54/69 [00:00<00:00, 60.07it/s]\u001b[A\n",
      " 88%|########8 | 61/69 [00:00<00:00, 61.24it/s]\u001b[A\n",
      " 99%|#########8| 68/69 [00:01<00:00, 62.86it/s]\u001b[A\n",
      " 97%|█████████▋| 769/792 [00:38<00:04,  5.48it/s]A"
     ]
    },
    {
     "name": "stdout",
     "output_type": "stream",
     "text": [
      "{'ade': 0.50517, 'fde': 1.1089344}\n",
      "\t last loss:0.000530478, eval on validation:['ade: 0.50517', 'fde: 1.1089344'], (best ade:0.4902176 at step 12600) \n"
     ]
    },
    {
     "name": "stderr",
     "output_type": "stream",
     "text": [
      "100%|██████████| 792/792 [00:39<00:00, 19.90it/s]\n",
      "  0%|          | 1/792 [00:00<01:43,  7.64it/s]"
     ]
    },
    {
     "name": "stdout",
     "output_type": "stream",
     "text": [
      "('Epoca 23.', 'lr:', 0.0003346866)\n"
     ]
    },
    {
     "name": "stderr",
     "output_type": "stream",
     "text": [
      " 34%|███▍      | 273/792 [00:11<00:20, 24.85it/s]\n",
      "  0%|          | 0/69 [00:00<?, ?it/s]\u001b[A"
     ]
    },
    {
     "name": "stdout",
     "output_type": "stream",
     "text": [
      "\tsaving model 17700...\n",
      "\tdone\n",
      "Evaluating\n"
     ]
    },
    {
     "name": "stderr",
     "output_type": "stream",
     "text": [
      "\n",
      " 12%|#1        | 8/69 [00:00<00:00, 74.17it/s]\u001b[A\n",
      " 23%|##3       | 16/69 [00:00<00:00, 75.00it/s]\u001b[A\n",
      " 35%|###4      | 24/69 [00:00<00:00, 76.04it/s]\u001b[A\n",
      " 48%|####7     | 33/69 [00:00<00:00, 78.53it/s]\u001b[A\n",
      " 61%|######    | 42/69 [00:00<00:00, 80.64it/s]\u001b[A\n",
      " 74%|#######3  | 51/69 [00:00<00:00, 81.51it/s]\u001b[A\n",
      " 87%|########6 | 60/69 [00:00<00:00, 82.58it/s]\u001b[A\n",
      " 35%|███▌      | 279/792 [00:12<00:57,  8.90it/s]A"
     ]
    },
    {
     "name": "stdout",
     "output_type": "stream",
     "text": [
      "{'ade': 0.51168454, 'fde': 1.1212872}\n",
      "\t last loss:0.000408147, eval on validation:['ade: 0.51168454', 'fde: 1.1212872'], (best ade:0.4902176 at step 12600) \n"
     ]
    },
    {
     "name": "stderr",
     "output_type": "stream",
     "text": [
      " 72%|███████▏  | 573/792 [00:24<00:08, 26.58it/s]\n",
      "  0%|          | 0/69 [00:00<?, ?it/s]\u001b[A"
     ]
    },
    {
     "name": "stdout",
     "output_type": "stream",
     "text": [
      "\tsaving model 18000...\n",
      "\tdone\n",
      "Evaluating\n"
     ]
    },
    {
     "name": "stderr",
     "output_type": "stream",
     "text": [
      "\n",
      " 14%|#4        | 10/69 [00:00<00:00, 92.70it/s]\u001b[A\n",
      " 29%|##8       | 20/69 [00:00<00:00, 92.77it/s]\u001b[A\n",
      " 41%|####      | 28/69 [00:00<00:00, 87.50it/s]\u001b[A\n",
      " 54%|#####3    | 37/69 [00:00<00:00, 87.99it/s]\u001b[A\n",
      " 67%|######6   | 46/69 [00:00<00:00, 88.45it/s]\u001b[A\n",
      " 81%|########1 | 56/69 [00:00<00:00, 89.44it/s]\u001b[A\n",
      " 96%|#########5| 66/69 [00:00<00:00, 90.69it/s]\u001b[A\n",
      " 73%|███████▎  | 576/792 [00:25<00:32,  6.73it/s]A"
     ]
    },
    {
     "name": "stdout",
     "output_type": "stream",
     "text": [
      "{'ade': 0.48937997, 'fde': 1.0641012}\n",
      "\t last loss:0.000655155, eval on validation:['ade: 0.48937997', 'fde: 1.0641012'], (best ade:0.4902176 at step 12600) \n",
      "\t saving best model...\n",
      "\t done.\n"
     ]
    },
    {
     "name": "stderr",
     "output_type": "stream",
     "text": [
      "100%|██████████| 792/792 [00:33<00:00, 25.93it/s]\n",
      "  0%|          | 1/792 [00:00<01:19,  9.92it/s]"
     ]
    },
    {
     "name": "stdout",
     "output_type": "stream",
     "text": [
      "('Epoca 24.', 'lr:', 0.0003346866)\n"
     ]
    },
    {
     "name": "stderr",
     "output_type": "stream",
     "text": [
      " 10%|█         | 82/792 [00:03<00:28, 24.94it/s]\n",
      "  0%|          | 0/69 [00:00<?, ?it/s]\u001b[A"
     ]
    },
    {
     "name": "stdout",
     "output_type": "stream",
     "text": [
      "\tsaving model 18300...\n",
      "\tdone\n",
      "Evaluating\n"
     ]
    },
    {
     "name": "stderr",
     "output_type": "stream",
     "text": [
      "\n",
      " 12%|#1        | 8/69 [00:00<00:00, 76.91it/s]\u001b[A\n",
      " 22%|##1       | 15/69 [00:00<00:00, 74.60it/s]\u001b[A\n",
      " 35%|###4      | 24/69 [00:00<00:00, 76.87it/s]\u001b[A\n",
      " 48%|####7     | 33/69 [00:00<00:00, 79.19it/s]\u001b[A\n",
      " 61%|######    | 42/69 [00:00<00:00, 80.91it/s]\u001b[A\n",
      " 74%|#######3  | 51/69 [00:00<00:00, 82.51it/s]\u001b[A\n",
      " 87%|########6 | 60/69 [00:00<00:00, 83.52it/s]\u001b[A\n",
      " 11%|█         | 85/792 [00:04<01:41,  7.00it/s][A"
     ]
    },
    {
     "name": "stdout",
     "output_type": "stream",
     "text": [
      "{'ade': 0.5105382, 'fde': 1.118993}\n",
      "\t last loss:0.000495533, eval on validation:['ade: 0.5105382', 'fde: 1.118993'], (best ade:0.48937997 at step 18000) \n"
     ]
    },
    {
     "name": "stderr",
     "output_type": "stream",
     "text": [
      " 48%|████▊     | 381/792 [00:17<00:15, 26.37it/s]\n",
      "  0%|          | 0/69 [00:00<?, ?it/s]\u001b[A"
     ]
    },
    {
     "name": "stdout",
     "output_type": "stream",
     "text": [
      "\tsaving model 18600...\n",
      "\tdone\n",
      "Evaluating\n"
     ]
    },
    {
     "name": "stderr",
     "output_type": "stream",
     "text": [
      "\n",
      " 13%|#3        | 9/69 [00:00<00:00, 84.64it/s]\u001b[A\n",
      " 28%|##7       | 19/69 [00:00<00:00, 87.52it/s]\u001b[A\n",
      " 41%|####      | 28/69 [00:00<00:00, 87.63it/s]\u001b[A\n",
      " 55%|#####5    | 38/69 [00:00<00:00, 89.85it/s]\u001b[A\n",
      " 70%|######9   | 48/69 [00:00<00:00, 90.72it/s]\u001b[A\n",
      " 83%|########2 | 57/69 [00:00<00:00, 89.59it/s]\u001b[A\n",
      " 97%|#########7| 67/69 [00:00<00:00, 90.48it/s]\u001b[A\n",
      " 49%|████▉     | 387/792 [00:18<00:43,  9.40it/s]A"
     ]
    },
    {
     "name": "stdout",
     "output_type": "stream",
     "text": [
      "{'ade': 0.49247417, 'fde': 1.0759029}\n",
      "\t last loss:0.000218487, eval on validation:['ade: 0.49247417', 'fde: 1.0759029'], (best ade:0.48937997 at step 18000) \n"
     ]
    },
    {
     "name": "stderr",
     "output_type": "stream",
     "text": [
      " 86%|████████▌ | 681/792 [00:30<00:04, 24.88it/s]\n",
      "  0%|          | 0/69 [00:00<?, ?it/s]\u001b[A"
     ]
    },
    {
     "name": "stdout",
     "output_type": "stream",
     "text": [
      "\tsaving model 18900...\n",
      "\tdone\n",
      "Evaluating\n"
     ]
    },
    {
     "name": "stderr",
     "output_type": "stream",
     "text": [
      "\n",
      " 12%|#1        | 8/69 [00:00<00:00, 78.03it/s]\u001b[A\n",
      " 22%|##1       | 15/69 [00:00<00:00, 75.20it/s]\u001b[A\n",
      " 35%|###4      | 24/69 [00:00<00:00, 77.95it/s]\u001b[A\n",
      " 48%|####7     | 33/69 [00:00<00:00, 79.55it/s]\u001b[A\n",
      " 61%|######    | 42/69 [00:00<00:00, 81.01it/s]\u001b[A\n",
      " 74%|#######3  | 51/69 [00:00<00:00, 82.22it/s]\u001b[A\n",
      " 87%|########6 | 60/69 [00:00<00:00, 82.93it/s]\u001b[A\n",
      "100%|##########| 69/69 [00:00<00:00, 83.47it/s]\u001b[A"
     ]
    },
    {
     "name": "stdout",
     "output_type": "stream",
     "text": [
      "{'ade': 0.48677692, 'fde': 1.0506254}\n",
      "\t last loss:0.000348382, eval on validation:['ade: 0.48677692', 'fde: 1.0506254'], (best ade:0.48937997 at step 18000) \n",
      "\t saving best model...\n",
      "\t done.\n"
     ]
    },
    {
     "name": "stderr",
     "output_type": "stream",
     "text": [
      "100%|██████████| 792/792 [00:35<00:00, 25.75it/s]\n",
      "  0%|          | 1/792 [00:00<01:25,  9.28it/s]"
     ]
    },
    {
     "name": "stdout",
     "output_type": "stream",
     "text": [
      "('Epoca 25.', 'lr:', 0.00028448363)\n"
     ]
    },
    {
     "name": "stderr",
     "output_type": "stream",
     "text": [
      " 24%|██▍       | 190/792 [00:07<00:22, 26.68it/s]\n",
      "  0%|          | 0/69 [00:00<?, ?it/s]\u001b[A"
     ]
    },
    {
     "name": "stdout",
     "output_type": "stream",
     "text": [
      "\tsaving model 19200...\n",
      "\tdone\n",
      "Evaluating\n"
     ]
    },
    {
     "name": "stderr",
     "output_type": "stream",
     "text": [
      "\n",
      " 12%|#1        | 8/69 [00:00<00:00, 73.19it/s]\u001b[A\n",
      " 26%|##6       | 18/69 [00:00<00:00, 77.77it/s]\u001b[A\n",
      " 41%|####      | 28/69 [00:00<00:00, 81.64it/s]\u001b[A\n",
      " 55%|#####5    | 38/69 [00:00<00:00, 84.79it/s]\u001b[A\n",
      " 70%|######9   | 48/69 [00:00<00:00, 87.31it/s]\u001b[A\n",
      " 84%|########4 | 58/69 [00:00<00:00, 89.09it/s]\u001b[A\n",
      " 99%|#########8| 68/69 [00:00<00:00, 90.26it/s]\u001b[A\n",
      " 25%|██▍       | 196/792 [00:08<01:02,  9.58it/s]A"
     ]
    },
    {
     "name": "stdout",
     "output_type": "stream",
     "text": [
      "{'ade': 0.49252823, 'fde': 1.066277}\n",
      "\t last loss:0.000221753, eval on validation:['ade: 0.49252823', 'fde: 1.066277'], (best ade:0.48677692 at step 18900) \n"
     ]
    },
    {
     "name": "stderr",
     "output_type": "stream",
     "text": [
      " 62%|██████▏   | 490/792 [00:21<00:12, 23.79it/s]\n",
      "  0%|          | 0/69 [00:00<?, ?it/s]\u001b[A"
     ]
    },
    {
     "name": "stdout",
     "output_type": "stream",
     "text": [
      "\tsaving model 19500...\n",
      "\tdone\n",
      "Evaluating\n"
     ]
    },
    {
     "name": "stderr",
     "output_type": "stream",
     "text": [
      "\n",
      " 12%|#1        | 8/69 [00:00<00:00, 75.98it/s]\u001b[A\n",
      " 25%|##4       | 17/69 [00:00<00:00, 78.33it/s]\u001b[A\n",
      " 38%|###7      | 26/69 [00:00<00:00, 79.52it/s]\u001b[A\n",
      " 51%|#####     | 35/69 [00:00<00:00, 81.15it/s]\u001b[A\n",
      " 62%|######2   | 43/69 [00:00<00:00, 80.58it/s]\u001b[A\n",
      " 74%|#######3  | 51/69 [00:00<00:00, 80.33it/s]\u001b[A\n",
      " 86%|########5 | 59/69 [00:00<00:00, 80.18it/s]\u001b[A\n",
      " 99%|#########8| 68/69 [00:00<00:00, 80.81it/s]\u001b[A\n",
      " 62%|██████▏   | 493/792 [00:22<00:44,  6.74it/s]A"
     ]
    },
    {
     "name": "stdout",
     "output_type": "stream",
     "text": [
      "{'ade': 0.4873716, 'fde': 1.055152}\n",
      "\t last loss:0.000368773, eval on validation:['ade: 0.4873716', 'fde: 1.055152'], (best ade:0.48677692 at step 18900) \n"
     ]
    },
    {
     "name": "stderr",
     "output_type": "stream",
     "text": [
      "100%|█████████▉| 790/792 [00:34<00:00, 26.74it/s]\n",
      "  0%|          | 0/69 [00:00<?, ?it/s]\u001b[A"
     ]
    },
    {
     "name": "stdout",
     "output_type": "stream",
     "text": [
      "\tsaving model 19800...\n",
      "\tdone\n",
      "Evaluating\n"
     ]
    },
    {
     "name": "stderr",
     "output_type": "stream",
     "text": [
      "\n",
      " 13%|#3        | 9/69 [00:00<00:00, 79.75it/s]\u001b[A\n",
      " 28%|##7       | 19/69 [00:00<00:00, 82.91it/s]\u001b[A\n",
      " 42%|####2     | 29/69 [00:00<00:00, 85.06it/s]\u001b[A\n",
      " 57%|#####6    | 39/69 [00:00<00:00, 86.90it/s]\u001b[A\n",
      " 70%|######9   | 48/69 [00:00<00:00, 86.83it/s]\u001b[A\n",
      " 84%|########4 | 58/69 [00:00<00:00, 88.96it/s]\u001b[A\n",
      " 99%|#########8| 68/69 [00:00<00:00, 90.43it/s]\u001b[A\n",
      "100%|##########| 69/69 [00:00<00:00, 88.81it/s]\u001b[A"
     ]
    },
    {
     "name": "stdout",
     "output_type": "stream",
     "text": [
      "{'ade': 0.48296022, 'fde': 1.0444499}\n",
      "\t last loss:0.000885124, eval on validation:['ade: 0.48296022', 'fde: 1.0444499'], (best ade:0.48677692 at step 18900) \n",
      "\t saving best model...\n",
      "\t done.\n"
     ]
    },
    {
     "name": "stderr",
     "output_type": "stream",
     "text": [
      "100%|██████████| 792/792 [00:35<00:00, 22.13it/s]\n",
      "  0%|          | 2/792 [00:00<00:43, 18.01it/s]"
     ]
    },
    {
     "name": "stdout",
     "output_type": "stream",
     "text": [
      "('Epoca 26.', 'lr:', 0.00028448363)\n"
     ]
    },
    {
     "name": "stderr",
     "output_type": "stream",
     "text": [
      " 38%|███▊      | 299/792 [00:13<00:22, 22.33it/s]\n"
     ]
    },
    {
     "name": "stdout",
     "output_type": "stream",
     "text": [
      "\tsaving model 20100...\n",
      "\tdone\n",
      "Evaluating\n"
     ]
    },
    {
     "name": "stderr",
     "output_type": "stream",
     "text": [
      "  0%|          | 0/69 [00:00<?, ?it/s]\u001b[A\n",
      " 12%|#1        | 8/69 [00:00<00:00, 78.87it/s]\u001b[A\n",
      " 25%|##4       | 17/69 [00:00<00:00, 79.92it/s]\u001b[A\n",
      " 38%|###7      | 26/69 [00:00<00:00, 81.06it/s]\u001b[A\n",
      " 51%|#####     | 35/69 [00:00<00:00, 82.42it/s]\u001b[A\n",
      " 62%|######2   | 43/69 [00:00<00:00, 81.63it/s]\u001b[A\n",
      " 75%|#######5  | 52/69 [00:00<00:00, 82.94it/s]\u001b[A\n",
      " 87%|########6 | 60/69 [00:00<00:00, 79.89it/s]\u001b[A\n",
      " 38%|███▊      | 302/792 [00:14<01:13,  6.70it/s]A"
     ]
    },
    {
     "name": "stdout",
     "output_type": "stream",
     "text": [
      "{'ade': 0.48802838, 'fde': 1.0564661}\n",
      "\t last loss:0.000558109, eval on validation:['ade: 0.48802838', 'fde: 1.0564661'], (best ade:0.48296022 at step 19800) \n"
     ]
    },
    {
     "name": "stderr",
     "output_type": "stream",
     "text": [
      " 76%|███████▌  | 599/792 [00:26<00:07, 25.43it/s]\n",
      "  0%|          | 0/69 [00:00<?, ?it/s]\u001b[A"
     ]
    },
    {
     "name": "stdout",
     "output_type": "stream",
     "text": [
      "\tsaving model 20400...\n",
      "\tdone\n",
      "Evaluating\n"
     ]
    },
    {
     "name": "stderr",
     "output_type": "stream",
     "text": [
      "\n",
      " 13%|#3        | 9/69 [00:00<00:00, 89.01it/s]\u001b[A\n",
      " 28%|##7       | 19/69 [00:00<00:00, 90.37it/s]\u001b[A\n",
      " 42%|####2     | 29/69 [00:00<00:00, 91.25it/s]\u001b[A\n",
      " 57%|#####6    | 39/69 [00:00<00:00, 91.89it/s]\u001b[A\n",
      " 70%|######9   | 48/69 [00:00<00:00, 91.28it/s]\u001b[A\n",
      " 83%|########2 | 57/69 [00:00<00:00, 90.36it/s]\u001b[A\n",
      " 96%|#########5| 66/69 [00:00<00:00, 89.67it/s]\u001b[A\n",
      " 76%|███████▌  | 602/792 [00:27<00:25,  7.44it/s]A"
     ]
    },
    {
     "name": "stdout",
     "output_type": "stream",
     "text": [
      "{'ade': 0.49757254, 'fde': 1.079689}\n",
      "\t last loss:0.000525122, eval on validation:['ade: 0.49757254', 'fde: 1.079689'], (best ade:0.48296022 at step 19800) \n"
     ]
    },
    {
     "name": "stderr",
     "output_type": "stream",
     "text": [
      "100%|██████████| 792/792 [00:35<00:00, 22.58it/s]\n",
      "  0%|          | 2/792 [00:00<00:55, 14.13it/s]"
     ]
    },
    {
     "name": "stdout",
     "output_type": "stream",
     "text": [
      "('Epoca 27.', 'lr:', 0.0002418111)\n"
     ]
    },
    {
     "name": "stderr",
     "output_type": "stream",
     "text": [
      " 13%|█▎        | 105/792 [00:04<00:29, 23.03it/s]"
     ]
    },
    {
     "name": "stdout",
     "output_type": "stream",
     "text": [
      "\tsaving model 20700...\n"
     ]
    },
    {
     "name": "stderr",
     "output_type": "stream",
     "text": [
      "\n",
      "  0%|          | 0/69 [00:00<?, ?it/s]\u001b[A\n",
      " 12%|#1        | 8/69 [00:00<00:00, 74.08it/s]\u001b[A"
     ]
    },
    {
     "name": "stdout",
     "output_type": "stream",
     "text": [
      "\tdone\n",
      "Evaluating\n"
     ]
    },
    {
     "name": "stderr",
     "output_type": "stream",
     "text": [
      "\n",
      " 23%|##3       | 16/69 [00:00<00:00, 73.92it/s]\u001b[A\n",
      " 35%|###4      | 24/69 [00:00<00:00, 74.19it/s]\u001b[A\n",
      " 46%|####6     | 32/69 [00:00<00:00, 74.77it/s]\u001b[A\n",
      " 58%|#####7    | 40/69 [00:00<00:00, 74.14it/s]\u001b[A\n",
      " 70%|######9   | 48/69 [00:00<00:00, 74.51it/s]\u001b[A\n",
      " 80%|#######9  | 55/69 [00:00<00:00, 72.84it/s]\u001b[A\n",
      " 90%|########9 | 62/69 [00:00<00:00, 69.65it/s]\u001b[A\n",
      " 14%|█▍        | 111/792 [00:06<01:25,  7.94it/s]A"
     ]
    },
    {
     "name": "stdout",
     "output_type": "stream",
     "text": [
      "{'ade': 0.509272, 'fde': 1.1117114}\n",
      "\t last loss:0.000428032, eval on validation:['ade: 0.509272', 'fde: 1.1117114'], (best ade:0.48296022 at step 19800) \n"
     ]
    },
    {
     "name": "stderr",
     "output_type": "stream",
     "text": [
      " 51%|█████     | 405/792 [00:18<00:15, 24.52it/s]\n",
      "  0%|          | 0/69 [00:00<?, ?it/s]\u001b[A"
     ]
    },
    {
     "name": "stdout",
     "output_type": "stream",
     "text": [
      "\tsaving model 21000...\n",
      "\tdone\n",
      "Evaluating\n"
     ]
    },
    {
     "name": "stderr",
     "output_type": "stream",
     "text": [
      "\n",
      " 12%|#1        | 8/69 [00:00<00:00, 77.89it/s]\u001b[A\n",
      " 25%|##4       | 17/69 [00:00<00:00, 80.47it/s]\u001b[A\n",
      " 39%|###9      | 27/69 [00:00<00:00, 84.08it/s]\u001b[A\n",
      " 52%|#####2    | 36/69 [00:00<00:00, 85.31it/s]\u001b[A\n",
      " 67%|######6   | 46/69 [00:00<00:00, 87.25it/s]\u001b[A\n",
      " 81%|########1 | 56/69 [00:00<00:00, 88.49it/s]\u001b[A\n",
      " 94%|#########4| 65/69 [00:00<00:00, 87.24it/s]\u001b[A\n",
      "100%|##########| 69/69 [00:00<00:00, 87.43it/s]\u001b[A"
     ]
    },
    {
     "name": "stdout",
     "output_type": "stream",
     "text": [
      "{'ade': 0.4803727, 'fde': 1.0412782}\n",
      "\t last loss:0.000405665, eval on validation:['ade: 0.4803727', 'fde: 1.0412782'], (best ade:0.48296022 at step 19800) \n",
      "\t saving best model...\n",
      "\t done.\n"
     ]
    },
    {
     "name": "stderr",
     "output_type": "stream",
     "text": [
      " 89%|████████▉ | 705/792 [00:31<00:03, 25.07it/s]\n",
      "  0%|          | 0/69 [00:00<?, ?it/s]\u001b[A"
     ]
    },
    {
     "name": "stdout",
     "output_type": "stream",
     "text": [
      "\tsaving model 21300...\n",
      "\tdone\n",
      "Evaluating\n"
     ]
    },
    {
     "name": "stderr",
     "output_type": "stream",
     "text": [
      "\n",
      " 12%|#1        | 8/69 [00:00<00:00, 77.47it/s]\u001b[A\n",
      " 25%|##4       | 17/69 [00:00<00:00, 79.70it/s]\u001b[A\n",
      " 36%|###6      | 25/69 [00:00<00:00, 79.33it/s]\u001b[A\n",
      " 49%|####9     | 34/69 [00:00<00:00, 80.20it/s]\u001b[A\n",
      " 62%|######2   | 43/69 [00:00<00:00, 81.44it/s]\u001b[A\n",
      " 75%|#######5  | 52/69 [00:00<00:00, 82.70it/s]\u001b[A\n",
      " 87%|########6 | 60/69 [00:00<00:00, 81.49it/s]\u001b[A\n",
      " 99%|#########8| 68/69 [00:00<00:00, 78.87it/s]\u001b[A\n",
      " 90%|████████▉ | 711/792 [00:32<00:09,  8.71it/s]A"
     ]
    },
    {
     "name": "stdout",
     "output_type": "stream",
     "text": [
      "{'ade': 0.4949538, 'fde': 1.0786148}\n",
      "\t last loss:0.000399692, eval on validation:['ade: 0.4949538', 'fde: 1.0786148'], (best ade:0.4803727 at step 21000) \n"
     ]
    },
    {
     "name": "stderr",
     "output_type": "stream",
     "text": [
      "100%|██████████| 792/792 [00:35<00:00, 21.02it/s]\n",
      "  0%|          | 2/792 [00:00<00:52, 15.08it/s]"
     ]
    },
    {
     "name": "stdout",
     "output_type": "stream",
     "text": [
      "('Epoca 28.', 'lr:', 0.0002418111)\n"
     ]
    },
    {
     "name": "stderr",
     "output_type": "stream",
     "text": [
      " 27%|██▋       | 215/792 [00:09<00:23, 24.62it/s]\n",
      "  0%|          | 0/69 [00:00<?, ?it/s]\u001b[A"
     ]
    },
    {
     "name": "stdout",
     "output_type": "stream",
     "text": [
      "\tsaving model 21600...\n",
      "\tdone\n",
      "Evaluating\n"
     ]
    },
    {
     "name": "stderr",
     "output_type": "stream",
     "text": [
      "\n",
      " 12%|#1        | 8/69 [00:00<00:00, 74.05it/s]\u001b[A\n",
      " 25%|##4       | 17/69 [00:00<00:00, 76.76it/s]\u001b[A\n",
      " 38%|###7      | 26/69 [00:00<00:00, 79.36it/s]\u001b[A\n",
      " 51%|#####     | 35/69 [00:00<00:00, 80.93it/s]\u001b[A\n",
      " 61%|######    | 42/69 [00:00<00:00, 75.43it/s]\u001b[A\n",
      " 74%|#######3  | 51/69 [00:00<00:00, 77.80it/s]\u001b[A\n",
      " 87%|########6 | 60/69 [00:00<00:00, 79.07it/s]\u001b[A\n",
      " 28%|██▊       | 218/792 [00:10<01:23,  6.90it/s]A"
     ]
    },
    {
     "name": "stdout",
     "output_type": "stream",
     "text": [
      "{'ade': 0.4878476, 'fde': 1.0579717}\n",
      "\t last loss:0.000926331, eval on validation:['ade: 0.4878476', 'fde: 1.0579717'], (best ade:0.4803727 at step 21000) \n"
     ]
    },
    {
     "name": "stderr",
     "output_type": "stream",
     "text": [
      " 65%|██████▌   | 515/792 [00:22<00:10, 25.81it/s]\n",
      "  0%|          | 0/69 [00:00<?, ?it/s]\u001b[A"
     ]
    },
    {
     "name": "stdout",
     "output_type": "stream",
     "text": [
      "\tsaving model 21900...\n",
      "\tdone\n",
      "Evaluating\n"
     ]
    },
    {
     "name": "stderr",
     "output_type": "stream",
     "text": [
      "\n",
      " 13%|#3        | 9/69 [00:00<00:00, 86.82it/s]\u001b[A\n",
      " 28%|##7       | 19/69 [00:00<00:00, 88.37it/s]\u001b[A\n",
      " 39%|###9      | 27/69 [00:00<00:00, 85.56it/s]\u001b[A\n",
      " 51%|#####     | 35/69 [00:00<00:00, 83.30it/s]\u001b[A\n",
      " 64%|######3   | 44/69 [00:00<00:00, 83.12it/s]\u001b[A\n",
      " 77%|#######6  | 53/69 [00:00<00:00, 82.97it/s]\u001b[A\n",
      " 88%|########8 | 61/69 [00:00<00:00, 80.06it/s]\u001b[A\n",
      " 65%|██████▌   | 518/792 [00:23<00:38,  7.10it/s]A"
     ]
    },
    {
     "name": "stdout",
     "output_type": "stream",
     "text": [
      "{'ade': 0.4873405, 'fde': 1.0561785}\n",
      "\t last loss:0.000484645, eval on validation:['ade: 0.4873405', 'fde: 1.0561785'], (best ade:0.4803727 at step 21000) \n"
     ]
    },
    {
     "name": "stderr",
     "output_type": "stream",
     "text": [
      "100%|██████████| 792/792 [00:34<00:00, 23.04it/s]\n",
      "  0%|          | 1/792 [00:00<01:45,  7.46it/s]"
     ]
    },
    {
     "name": "stdout",
     "output_type": "stream",
     "text": [
      "('Epoca 29.', 'lr:', 0.00020553943)\n"
     ]
    },
    {
     "name": "stderr",
     "output_type": "stream",
     "text": [
      "  3%|▎         | 22/792 [00:00<00:35, 21.42it/s]\n",
      "  0%|          | 0/69 [00:00<?, ?it/s]\u001b[A"
     ]
    },
    {
     "name": "stdout",
     "output_type": "stream",
     "text": [
      "\tsaving model 22200...\n",
      "\tdone\n",
      "Evaluating\n"
     ]
    },
    {
     "name": "stderr",
     "output_type": "stream",
     "text": [
      "\n",
      " 13%|#3        | 9/69 [00:00<00:00, 88.96it/s]\u001b[A\n",
      " 26%|##6       | 18/69 [00:00<00:00, 88.35it/s]\u001b[A\n",
      " 39%|###9      | 27/69 [00:00<00:00, 88.67it/s]\u001b[A\n",
      " 54%|#####3    | 37/69 [00:00<00:00, 90.08it/s]\u001b[A\n",
      " 68%|######8   | 47/69 [00:00<00:00, 90.82it/s]\u001b[A\n",
      " 80%|#######9  | 55/69 [00:00<00:00, 86.77it/s]\u001b[A\n",
      " 93%|#########2| 64/69 [00:00<00:00, 85.91it/s]\u001b[A\n",
      "  4%|▎         | 28/792 [00:02<01:23,  9.10it/s][A"
     ]
    },
    {
     "name": "stdout",
     "output_type": "stream",
     "text": [
      "{'ade': 0.49273795, 'fde': 1.0699395}\n",
      "\t last loss:0.000651887, eval on validation:['ade: 0.49273795', 'fde: 1.0699395'], (best ade:0.4803727 at step 21000) \n"
     ]
    },
    {
     "name": "stderr",
     "output_type": "stream",
     "text": [
      " 41%|████      | 322/792 [00:14<00:21, 22.11it/s]\n",
      "  0%|          | 0/69 [00:00<?, ?it/s]\u001b[A"
     ]
    },
    {
     "name": "stdout",
     "output_type": "stream",
     "text": [
      "\tsaving model 22500...\n",
      "\tdone\n",
      "Evaluating\n"
     ]
    },
    {
     "name": "stderr",
     "output_type": "stream",
     "text": [
      "\n",
      " 12%|#1        | 8/69 [00:00<00:00, 74.41it/s]\u001b[A\n",
      " 23%|##3       | 16/69 [00:00<00:00, 74.04it/s]\u001b[A\n",
      " 35%|###4      | 24/69 [00:00<00:00, 74.71it/s]\u001b[A\n",
      " 46%|####6     | 32/69 [00:00<00:00, 75.18it/s]\u001b[A\n",
      " 58%|#####7    | 40/69 [00:00<00:00, 74.82it/s]\u001b[A\n",
      " 70%|######9   | 48/69 [00:00<00:00, 75.50it/s]\u001b[A\n",
      " 80%|#######9  | 55/69 [00:00<00:00, 71.83it/s]\u001b[A\n",
      " 91%|#########1| 63/69 [00:00<00:00, 73.10it/s]\u001b[A\n",
      " 41%|████      | 325/792 [00:16<01:14,  6.28it/s]A"
     ]
    },
    {
     "name": "stdout",
     "output_type": "stream",
     "text": [
      "{'ade': 0.48496848, 'fde': 1.051112}\n",
      "\t last loss:0.000346011, eval on validation:['ade: 0.48496848', 'fde: 1.051112'], (best ade:0.4803727 at step 21000) \n"
     ]
    },
    {
     "name": "stderr",
     "output_type": "stream",
     "text": [
      " 79%|███████▊  | 622/792 [00:28<00:06, 24.67it/s]\n",
      "  0%|          | 0/69 [00:00<?, ?it/s]\u001b[A"
     ]
    },
    {
     "name": "stdout",
     "output_type": "stream",
     "text": [
      "\tsaving model 22800...\n",
      "\tdone\n",
      "Evaluating\n"
     ]
    },
    {
     "name": "stderr",
     "output_type": "stream",
     "text": [
      "\n",
      " 13%|#3        | 9/69 [00:00<00:00, 87.36it/s]\u001b[A\n",
      " 28%|##7       | 19/69 [00:00<00:00, 89.02it/s]\u001b[A\n",
      " 42%|####2     | 29/69 [00:00<00:00, 90.42it/s]\u001b[A\n",
      " 55%|#####5    | 38/69 [00:00<00:00, 89.29it/s]\u001b[A\n",
      " 68%|######8   | 47/69 [00:00<00:00, 88.00it/s]\u001b[A\n",
      " 81%|########1 | 56/69 [00:00<00:00, 88.03it/s]\u001b[A\n",
      " 96%|#########5| 66/69 [00:00<00:00, 89.26it/s]\u001b[A\n",
      " 79%|███████▉  | 628/792 [00:29<00:17,  9.33it/s]A"
     ]
    },
    {
     "name": "stdout",
     "output_type": "stream",
     "text": [
      "{'ade': 0.49282846, 'fde': 1.0725864}\n",
      "\t last loss:0.000312530, eval on validation:['ade: 0.49282846', 'fde: 1.0725864'], (best ade:0.4803727 at step 21000) \n"
     ]
    },
    {
     "name": "stderr",
     "output_type": "stream",
     "text": [
      "100%|██████████| 792/792 [00:35<00:00, 22.05it/s]\n",
      "  0%|          | 1/792 [00:00<01:34,  8.41it/s]"
     ]
    },
    {
     "name": "stdout",
     "output_type": "stream",
     "text": [
      "('Epoca 30.', 'lr:', 0.00020553943)\n"
     ]
    },
    {
     "name": "stderr",
     "output_type": "stream",
     "text": [
      " 16%|█▋        | 130/792 [00:05<00:27, 24.49it/s]\n",
      "  0%|          | 0/69 [00:00<?, ?it/s]\u001b[A"
     ]
    },
    {
     "name": "stdout",
     "output_type": "stream",
     "text": [
      "\tsaving model 23100...\n",
      "\tdone\n",
      "Evaluating\n"
     ]
    },
    {
     "name": "stderr",
     "output_type": "stream",
     "text": [
      "\n",
      " 13%|#3        | 9/69 [00:00<00:00, 83.46it/s]\u001b[A\n",
      " 25%|##4       | 17/69 [00:00<00:00, 82.10it/s]\u001b[A\n",
      " 38%|###7      | 26/69 [00:00<00:00, 82.09it/s]\u001b[A\n",
      " 51%|#####     | 35/69 [00:00<00:00, 82.74it/s]\u001b[A\n",
      " 62%|######2   | 43/69 [00:00<00:00, 81.71it/s]\u001b[A\n",
      " 72%|#######2  | 50/69 [00:00<00:00, 76.19it/s]\u001b[A\n",
      " 86%|########5 | 59/69 [00:00<00:00, 78.06it/s]\u001b[A\n",
      " 99%|#########8| 68/69 [00:00<00:00, 80.14it/s]\u001b[A\n",
      " 17%|█▋        | 133/792 [00:06<01:36,  6.84it/s]A"
     ]
    },
    {
     "name": "stdout",
     "output_type": "stream",
     "text": [
      "{'ade': 0.48799294, 'fde': 1.0654018}\n",
      "\t last loss:0.000794681, eval on validation:['ade: 0.48799294', 'fde: 1.0654018'], (best ade:0.4803727 at step 21000) \n"
     ]
    },
    {
     "name": "stderr",
     "output_type": "stream",
     "text": [
      " 54%|█████▍    | 431/792 [00:19<00:14, 24.88it/s]\n",
      "  0%|          | 0/69 [00:00<?, ?it/s]\u001b[A"
     ]
    },
    {
     "name": "stdout",
     "output_type": "stream",
     "text": [
      "\tsaving model 23400...\n",
      "\tdone\n",
      "Evaluating\n"
     ]
    },
    {
     "name": "stderr",
     "output_type": "stream",
     "text": [
      "\n",
      " 12%|#1        | 8/69 [00:00<00:00, 76.03it/s]\u001b[A\n",
      " 25%|##4       | 17/69 [00:00<00:00, 78.20it/s]\u001b[A\n",
      " 36%|###6      | 25/69 [00:00<00:00, 76.71it/s]\u001b[A\n",
      " 48%|####7     | 33/69 [00:00<00:00, 76.60it/s]\u001b[A\n",
      " 61%|######    | 42/69 [00:00<00:00, 78.33it/s]\u001b[A\n",
      " 74%|#######3  | 51/69 [00:00<00:00, 80.20it/s]\u001b[A\n",
      " 87%|########6 | 60/69 [00:00<00:00, 81.05it/s]\u001b[A\n",
      " 55%|█████▍    | 434/792 [00:20<00:51,  6.92it/s]A"
     ]
    },
    {
     "name": "stdout",
     "output_type": "stream",
     "text": [
      "{'ade': 0.4822445, 'fde': 1.0441837}\n",
      "\t last loss:0.000487173, eval on validation:['ade: 0.4822445', 'fde: 1.0441837'], (best ade:0.4803727 at step 21000) \n"
     ]
    },
    {
     "name": "stderr",
     "output_type": "stream",
     "text": [
      " 92%|█████████▏| 730/792 [00:33<00:03, 17.18it/s]"
     ]
    },
    {
     "name": "stdout",
     "output_type": "stream",
     "text": [
      "\tsaving model 23700...\n"
     ]
    },
    {
     "name": "stderr",
     "output_type": "stream",
     "text": [
      "\n",
      "  0%|          | 0/69 [00:00<?, ?it/s]\u001b[A\n",
      " 10%|#         | 7/69 [00:00<00:01, 61.04it/s]\u001b[A"
     ]
    },
    {
     "name": "stdout",
     "output_type": "stream",
     "text": [
      "\tdone\n",
      "Evaluating\n"
     ]
    },
    {
     "name": "stderr",
     "output_type": "stream",
     "text": [
      "\n",
      " 20%|##        | 14/69 [00:00<00:00, 61.08it/s]\u001b[A\n",
      " 29%|##8       | 20/69 [00:00<00:00, 60.28it/s]\u001b[A\n",
      " 38%|###7      | 26/69 [00:00<00:00, 57.72it/s]\u001b[A\n",
      " 46%|####6     | 32/69 [00:00<00:00, 58.17it/s]\u001b[A\n",
      " 55%|#####5    | 38/69 [00:00<00:00, 58.52it/s]\u001b[A\n",
      " 65%|######5   | 45/69 [00:00<00:00, 59.41it/s]\u001b[A\n",
      " 74%|#######3  | 51/69 [00:00<00:00, 58.96it/s]\u001b[A\n",
      " 84%|########4 | 58/69 [00:00<00:00, 59.82it/s]\u001b[A\n",
      " 93%|#########2| 64/69 [00:01<00:00, 59.45it/s]\u001b[A\n",
      " 93%|█████████▎| 734/792 [00:34<00:11,  4.87it/s]A"
     ]
    },
    {
     "name": "stdout",
     "output_type": "stream",
     "text": [
      "{'ade': 0.4865654, 'fde': 1.0538807}\n",
      "\t last loss:0.000448060, eval on validation:['ade: 0.4865654', 'fde: 1.0538807'], (best ade:0.4803727 at step 21000) \n"
     ]
    },
    {
     "name": "stderr",
     "output_type": "stream",
     "text": [
      "100%|██████████| 792/792 [00:38<00:00, 18.20it/s]\n",
      "  0%|          | 2/792 [00:00<01:02, 12.73it/s]"
     ]
    },
    {
     "name": "stdout",
     "output_type": "stream",
     "text": [
      "('Epoca 31.', 'lr:', 0.00017470852)\n"
     ]
    },
    {
     "name": "stderr",
     "output_type": "stream",
     "text": [
      " 30%|██▉       | 237/792 [00:11<00:24, 22.94it/s]\n",
      "  0%|          | 0/69 [00:00<?, ?it/s]\u001b[A"
     ]
    },
    {
     "name": "stdout",
     "output_type": "stream",
     "text": [
      "\tsaving model 24000...\n",
      "\tdone\n",
      "Evaluating\n"
     ]
    },
    {
     "name": "stderr",
     "output_type": "stream",
     "text": [
      "\n",
      " 12%|#1        | 8/69 [00:00<00:00, 72.88it/s]\u001b[A\n",
      " 22%|##1       | 15/69 [00:00<00:00, 70.25it/s]\u001b[A\n",
      " 33%|###3      | 23/69 [00:00<00:00, 72.28it/s]\u001b[A\n",
      " 45%|####4     | 31/69 [00:00<00:00, 73.48it/s]\u001b[A\n",
      " 57%|#####6    | 39/69 [00:00<00:00, 73.71it/s]\u001b[A\n",
      " 68%|######8   | 47/69 [00:00<00:00, 74.44it/s]\u001b[A\n",
      " 80%|#######9  | 55/69 [00:00<00:00, 75.20it/s]\u001b[A\n",
      " 91%|#########1| 63/69 [00:00<00:00, 74.70it/s]\u001b[A\n",
      "100%|##########| 69/69 [00:00<00:00, 73.36it/s]\u001b[A"
     ]
    },
    {
     "name": "stdout",
     "output_type": "stream",
     "text": [
      "{'ade': 0.47716126, 'fde': 1.0336897}\n",
      "\t last loss:0.000378373, eval on validation:['ade: 0.47716126', 'fde: 1.0336897'], (best ade:0.4803727 at step 21000) \n",
      "\t saving best model...\n"
     ]
    },
    {
     "name": "stderr",
     "output_type": "stream",
     "text": [
      " 68%|██████▊   | 537/792 [00:24<00:10, 24.90it/s]\n",
      "  0%|          | 0/69 [00:00<?, ?it/s]\u001b[A"
     ]
    },
    {
     "name": "stdout",
     "output_type": "stream",
     "text": [
      "\t done.\n",
      "\tsaving model 24300...\n",
      "\tdone\n",
      "Evaluating\n"
     ]
    },
    {
     "name": "stderr",
     "output_type": "stream",
     "text": [
      "\n",
      " 13%|#3        | 9/69 [00:00<00:00, 84.36it/s]\u001b[A\n",
      " 26%|##6       | 18/69 [00:00<00:00, 84.87it/s]\u001b[A\n",
      " 39%|###9      | 27/69 [00:00<00:00, 84.10it/s]\u001b[A\n",
      " 52%|#####2    | 36/69 [00:00<00:00, 84.71it/s]\u001b[A\n",
      " 65%|######5   | 45/69 [00:00<00:00, 84.08it/s]\u001b[A\n",
      " 78%|#######8  | 54/69 [00:00<00:00, 83.49it/s]\u001b[A\n",
      " 91%|#########1| 63/69 [00:00<00:00, 83.05it/s]\u001b[A\n",
      " 69%|██████▊   | 543/792 [00:25<00:28,  8.87it/s]A"
     ]
    },
    {
     "name": "stdout",
     "output_type": "stream",
     "text": [
      "{'ade': 0.4849695, 'fde': 1.0463376}\n",
      "\t last loss:0.000437805, eval on validation:['ade: 0.4849695', 'fde: 1.0463376'], (best ade:0.47716126 at step 24000) \n"
     ]
    },
    {
     "name": "stderr",
     "output_type": "stream",
     "text": [
      "100%|██████████| 792/792 [00:36<00:00, 20.49it/s]\n",
      "  0%|          | 1/792 [00:00<01:21,  9.75it/s]"
     ]
    },
    {
     "name": "stdout",
     "output_type": "stream",
     "text": [
      "('Epoca 32.', 'lr:', 0.00017470852)\n"
     ]
    },
    {
     "name": "stderr",
     "output_type": "stream",
     "text": [
      "  6%|▌         | 45/792 [00:02<00:36, 20.49it/s]"
     ]
    },
    {
     "name": "stdout",
     "output_type": "stream",
     "text": [
      "\tsaving model 24600...\n",
      "\tdone\n",
      "Evaluating\n"
     ]
    },
    {
     "name": "stderr",
     "output_type": "stream",
     "text": [
      "\n",
      "  0%|          | 0/69 [00:00<?, ?it/s]\u001b[A\n",
      " 12%|#1        | 8/69 [00:00<00:00, 75.09it/s]\u001b[A\n",
      " 23%|##3       | 16/69 [00:00<00:00, 73.32it/s]\u001b[A\n",
      " 32%|###1      | 22/69 [00:00<00:00, 66.52it/s]\u001b[A\n",
      " 43%|####3     | 30/69 [00:00<00:00, 69.08it/s]\u001b[A\n",
      " 55%|#####5    | 38/69 [00:00<00:00, 71.27it/s]\u001b[A\n",
      " 67%|######6   | 46/69 [00:00<00:00, 72.25it/s]\u001b[A\n",
      " 78%|#######8  | 54/69 [00:00<00:00, 73.37it/s]\u001b[A\n",
      " 90%|########9 | 62/69 [00:00<00:00, 74.66it/s]\u001b[A\n",
      "100%|##########| 69/69 [00:00<00:00, 72.31it/s]\u001b[A"
     ]
    },
    {
     "name": "stdout",
     "output_type": "stream",
     "text": [
      "{'ade': 0.47635847, 'fde': 1.0257901}\n",
      "\t last loss:0.000439017, eval on validation:['ade: 0.47635847', 'fde: 1.0257901'], (best ade:0.47716126 at step 24000) \n",
      "\t saving best model...\n",
      "\t done.\n"
     ]
    },
    {
     "name": "stderr",
     "output_type": "stream",
     "text": [
      " 44%|████▎     | 345/792 [00:15<00:17, 25.11it/s]\n",
      "  0%|          | 0/69 [00:00<?, ?it/s]\u001b[A"
     ]
    },
    {
     "name": "stdout",
     "output_type": "stream",
     "text": [
      "\tsaving model 24900...\n",
      "\tdone\n",
      "Evaluating\n"
     ]
    },
    {
     "name": "stderr",
     "output_type": "stream",
     "text": [
      "\n",
      " 13%|#3        | 9/69 [00:00<00:00, 84.59it/s]\u001b[A\n",
      " 26%|##6       | 18/69 [00:00<00:00, 85.37it/s]\u001b[A\n",
      " 39%|###9      | 27/69 [00:00<00:00, 84.97it/s]\u001b[A\n",
      " 52%|#####2    | 36/69 [00:00<00:00, 84.86it/s]\u001b[A\n",
      " 65%|######5   | 45/69 [00:00<00:00, 85.26it/s]\u001b[A\n",
      " 77%|#######6  | 53/69 [00:00<00:00, 82.66it/s]\u001b[A\n",
      " 90%|########9 | 62/69 [00:00<00:00, 83.70it/s]\u001b[A\n",
      " 44%|████▍     | 351/792 [00:16<00:49,  8.83it/s]A"
     ]
    },
    {
     "name": "stdout",
     "output_type": "stream",
     "text": [
      "{'ade': 0.47756138, 'fde': 1.0308359}\n",
      "\t last loss:0.000366803, eval on validation:['ade: 0.47756138', 'fde: 1.0308359'], (best ade:0.47635847 at step 24600) \n"
     ]
    },
    {
     "name": "stderr",
     "output_type": "stream",
     "text": [
      " 81%|████████▏ | 645/792 [00:28<00:06, 23.27it/s]\n",
      "  0%|          | 0/69 [00:00<?, ?it/s]\u001b[A"
     ]
    },
    {
     "name": "stdout",
     "output_type": "stream",
     "text": [
      "\tsaving model 25200...\n",
      "\tdone\n",
      "Evaluating\n"
     ]
    },
    {
     "name": "stderr",
     "output_type": "stream",
     "text": [
      "\n",
      " 13%|#3        | 9/69 [00:00<00:00, 87.36it/s]\u001b[A\n",
      " 28%|##7       | 19/69 [00:00<00:00, 89.50it/s]\u001b[A\n",
      " 42%|####2     | 29/69 [00:00<00:00, 90.79it/s]\u001b[A\n",
      " 57%|#####6    | 39/69 [00:00<00:00, 91.53it/s]\u001b[A\n",
      " 71%|#######1  | 49/69 [00:00<00:00, 91.98it/s]\u001b[A\n",
      " 84%|########4 | 58/69 [00:00<00:00, 89.77it/s]\u001b[A\n",
      " 99%|#########8| 68/69 [00:00<00:00, 90.72it/s]\u001b[A\n",
      " 82%|████████▏ | 651/792 [00:29<00:15,  9.22it/s]A"
     ]
    },
    {
     "name": "stdout",
     "output_type": "stream",
     "text": [
      "{'ade': 0.48374525, 'fde': 1.0490645}\n",
      "\t last loss:0.000347130, eval on validation:['ade: 0.48374525', 'fde: 1.0490645'], (best ade:0.47635847 at step 24600) \n"
     ]
    },
    {
     "name": "stderr",
     "output_type": "stream",
     "text": [
      "100%|██████████| 792/792 [00:35<00:00, 21.30it/s]\n",
      "  0%|          | 2/792 [00:00<00:56, 13.94it/s]"
     ]
    },
    {
     "name": "stdout",
     "output_type": "stream",
     "text": [
      "('Epoca 33.', 'lr:', 0.00014850224)\n"
     ]
    },
    {
     "name": "stderr",
     "output_type": "stream",
     "text": [
      " 19%|█▉        | 154/792 [00:07<00:27, 23.57it/s]\n",
      "  0%|          | 0/69 [00:00<?, ?it/s]\u001b[A"
     ]
    },
    {
     "name": "stdout",
     "output_type": "stream",
     "text": [
      "\tsaving model 25500...\n",
      "\tdone\n",
      "Evaluating\n"
     ]
    },
    {
     "name": "stderr",
     "output_type": "stream",
     "text": [
      "\n",
      " 13%|#3        | 9/69 [00:00<00:00, 82.21it/s]\u001b[A\n",
      " 26%|##6       | 18/69 [00:00<00:00, 82.99it/s]\u001b[A\n",
      " 39%|###9      | 27/69 [00:00<00:00, 83.06it/s]\u001b[A\n",
      " 52%|#####2    | 36/69 [00:00<00:00, 83.91it/s]\u001b[A\n",
      " 64%|######3   | 44/69 [00:00<00:00, 81.08it/s]\u001b[A\n",
      " 77%|#######6  | 53/69 [00:00<00:00, 82.85it/s]\u001b[A\n",
      " 90%|########9 | 62/69 [00:00<00:00, 84.11it/s]\u001b[A\n",
      "100%|##########| 69/69 [00:00<00:00, 81.75it/s]\u001b[A"
     ]
    },
    {
     "name": "stdout",
     "output_type": "stream",
     "text": [
      "{'ade': 0.4739298, 'fde': 1.0219165}\n",
      "\t last loss:0.000474308, eval on validation:['ade: 0.4739298', 'fde: 1.0219165'], (best ade:0.47635847 at step 24600) \n",
      "\t saving best model...\n",
      "\t done.\n"
     ]
    },
    {
     "name": "stderr",
     "output_type": "stream",
     "text": [
      " 57%|█████▋    | 454/792 [00:19<00:12, 26.63it/s]\n",
      "  0%|          | 0/69 [00:00<?, ?it/s]\u001b[A"
     ]
    },
    {
     "name": "stdout",
     "output_type": "stream",
     "text": [
      "\tsaving model 25800...\n",
      "\tdone\n",
      "Evaluating\n"
     ]
    },
    {
     "name": "stderr",
     "output_type": "stream",
     "text": [
      "\n",
      " 14%|#4        | 10/69 [00:00<00:00, 95.66it/s]\u001b[A\n",
      " 29%|##8       | 20/69 [00:00<00:00, 95.58it/s]\u001b[A\n",
      " 43%|####3     | 30/69 [00:00<00:00, 95.77it/s]\u001b[A\n",
      " 58%|#####7    | 40/69 [00:00<00:00, 94.66it/s]\u001b[A\n",
      " 72%|#######2  | 50/69 [00:00<00:00, 94.28it/s]\u001b[A\n",
      " 86%|########5 | 59/69 [00:00<00:00, 92.40it/s]\u001b[A\n",
      " 58%|█████▊    | 457/792 [00:21<00:43,  7.67it/s]A"
     ]
    },
    {
     "name": "stdout",
     "output_type": "stream",
     "text": [
      "{'ade': 0.49187163, 'fde': 1.06688}\n",
      "\t last loss:0.000463001, eval on validation:['ade: 0.49187163', 'fde: 1.06688'], (best ade:0.4739298 at step 25500) \n"
     ]
    },
    {
     "name": "stderr",
     "output_type": "stream",
     "text": [
      " 95%|█████████▌| 754/792 [00:32<00:01, 24.19it/s]\n",
      "  0%|          | 0/69 [00:00<?, ?it/s]\u001b[A"
     ]
    },
    {
     "name": "stdout",
     "output_type": "stream",
     "text": [
      "\tsaving model 26100...\n",
      "\tdone\n",
      "Evaluating\n"
     ]
    },
    {
     "name": "stderr",
     "output_type": "stream",
     "text": [
      "\n",
      " 13%|#3        | 9/69 [00:00<00:00, 83.28it/s]\u001b[A\n",
      " 25%|##4       | 17/69 [00:00<00:00, 81.47it/s]\u001b[A\n",
      " 36%|###6      | 25/69 [00:00<00:00, 80.70it/s]\u001b[A\n",
      " 49%|####9     | 34/69 [00:00<00:00, 82.22it/s]\u001b[A\n",
      " 62%|######2   | 43/69 [00:00<00:00, 83.64it/s]\u001b[A\n",
      " 75%|#######5  | 52/69 [00:00<00:00, 83.79it/s]\u001b[A\n",
      " 88%|########8 | 61/69 [00:00<00:00, 83.33it/s]\u001b[A\n",
      " 96%|█████████▌| 757/792 [00:33<00:05,  6.93it/s]A"
     ]
    },
    {
     "name": "stdout",
     "output_type": "stream",
     "text": [
      "{'ade': 0.4796622, 'fde': 1.0344111}\n",
      "\t last loss:0.000341113, eval on validation:['ade: 0.4796622', 'fde: 1.0344111'], (best ade:0.4739298 at step 25500) \n"
     ]
    },
    {
     "name": "stderr",
     "output_type": "stream",
     "text": [
      "100%|██████████| 792/792 [00:35<00:00, 22.42it/s]\n",
      "  0%|          | 2/792 [00:00<00:53, 14.63it/s]"
     ]
    },
    {
     "name": "stdout",
     "output_type": "stream",
     "text": [
      "('Epoca 34.', 'lr:', 0.00014850224)\n"
     ]
    },
    {
     "name": "stderr",
     "output_type": "stream",
     "text": [
      " 33%|███▎      | 261/792 [00:11<00:21, 25.24it/s]\n",
      "  0%|          | 0/69 [00:00<?, ?it/s]\u001b[A"
     ]
    },
    {
     "name": "stdout",
     "output_type": "stream",
     "text": [
      "\tsaving model 26400...\n",
      "\tdone\n",
      "Evaluating\n"
     ]
    },
    {
     "name": "stderr",
     "output_type": "stream",
     "text": [
      "\n",
      " 12%|#1        | 8/69 [00:00<00:00, 79.16it/s]\u001b[A\n",
      " 26%|##6       | 18/69 [00:00<00:00, 82.98it/s]\u001b[A\n",
      " 41%|####      | 28/69 [00:00<00:00, 85.73it/s]\u001b[A\n",
      " 55%|#####5    | 38/69 [00:00<00:00, 88.11it/s]\u001b[A\n",
      " 68%|######8   | 47/69 [00:00<00:00, 88.62it/s]\u001b[A\n",
      " 83%|########2 | 57/69 [00:00<00:00, 89.62it/s]\u001b[A\n",
      " 97%|#########7| 67/69 [00:00<00:00, 90.82it/s]\u001b[A\n",
      " 34%|███▎      | 267/792 [00:12<00:55,  9.50it/s]A"
     ]
    },
    {
     "name": "stdout",
     "output_type": "stream",
     "text": [
      "{'ade': 0.48603827, 'fde': 1.0544711}\n",
      "\t last loss:0.000352310, eval on validation:['ade: 0.48603827', 'fde: 1.0544711'], (best ade:0.4739298 at step 25500) \n"
     ]
    },
    {
     "name": "stderr",
     "output_type": "stream",
     "text": [
      " 71%|███████   | 561/792 [00:24<00:09, 25.14it/s]\n",
      "  0%|          | 0/69 [00:00<?, ?it/s]\u001b[A"
     ]
    },
    {
     "name": "stdout",
     "output_type": "stream",
     "text": [
      "\tsaving model 26700...\n",
      "\tdone\n",
      "Evaluating\n"
     ]
    },
    {
     "name": "stderr",
     "output_type": "stream",
     "text": [
      "\n",
      " 13%|#3        | 9/69 [00:00<00:00, 83.37it/s]\u001b[A\n",
      " 26%|##6       | 18/69 [00:00<00:00, 84.07it/s]\u001b[A\n",
      " 38%|###7      | 26/69 [00:00<00:00, 80.50it/s]\u001b[A\n",
      " 51%|#####     | 35/69 [00:00<00:00, 81.27it/s]\u001b[A\n",
      " 64%|######3   | 44/69 [00:00<00:00, 82.25it/s]\u001b[A\n",
      " 77%|#######6  | 53/69 [00:00<00:00, 83.70it/s]\u001b[A\n",
      " 90%|########9 | 62/69 [00:00<00:00, 84.17it/s]\u001b[A\n",
      " 72%|███████▏  | 567/792 [00:25<00:25,  8.90it/s]A"
     ]
    },
    {
     "name": "stdout",
     "output_type": "stream",
     "text": [
      "{'ade': 0.47886655, 'fde': 1.0349427}\n",
      "\t last loss:0.000331587, eval on validation:['ade: 0.47886655', 'fde: 1.0349427'], (best ade:0.4739298 at step 25500) \n"
     ]
    },
    {
     "name": "stderr",
     "output_type": "stream",
     "text": [
      "100%|██████████| 792/792 [00:35<00:00, 22.26it/s]\n",
      "  0%|          | 1/792 [00:00<01:23,  9.43it/s]"
     ]
    },
    {
     "name": "stdout",
     "output_type": "stream",
     "text": [
      "('Epoca 35.', 'lr:', 0.0001262269)\n"
     ]
    },
    {
     "name": "stderr",
     "output_type": "stream",
     "text": [
      "  9%|▉         | 70/792 [00:02<00:29, 24.38it/s]\n",
      "  0%|          | 0/69 [00:00<?, ?it/s]\u001b[A"
     ]
    },
    {
     "name": "stdout",
     "output_type": "stream",
     "text": [
      "\tsaving model 27000...\n",
      "\tdone\n",
      "Evaluating\n"
     ]
    },
    {
     "name": "stderr",
     "output_type": "stream",
     "text": [
      "\n",
      " 10%|#         | 7/69 [00:00<00:00, 69.70it/s]\u001b[A\n",
      " 23%|##3       | 16/69 [00:00<00:00, 73.36it/s]\u001b[A\n",
      " 36%|###6      | 25/69 [00:00<00:00, 76.74it/s]\u001b[A\n",
      " 49%|####9     | 34/69 [00:00<00:00, 78.76it/s]\u001b[A\n",
      " 62%|######2   | 43/69 [00:00<00:00, 80.72it/s]\u001b[A\n",
      " 75%|#######5  | 52/69 [00:00<00:00, 82.42it/s]\u001b[A\n",
      " 88%|########8 | 61/69 [00:00<00:00, 81.48it/s]\u001b[A\n",
      " 10%|▉         | 76/792 [00:04<01:19,  9.00it/s][A"
     ]
    },
    {
     "name": "stdout",
     "output_type": "stream",
     "text": [
      "{'ade': 0.49204355, 'fde': 1.0703961}\n",
      "\t last loss:0.000299700, eval on validation:['ade: 0.49204355', 'fde: 1.0703961'], (best ade:0.4739298 at step 25500) \n"
     ]
    },
    {
     "name": "stderr",
     "output_type": "stream",
     "text": [
      " 47%|████▋     | 370/792 [00:16<00:18, 22.30it/s]\n",
      "  0%|          | 0/69 [00:00<?, ?it/s]\u001b[A"
     ]
    },
    {
     "name": "stdout",
     "output_type": "stream",
     "text": [
      "\tsaving model 27300...\n",
      "\tdone\n",
      "Evaluating\n"
     ]
    },
    {
     "name": "stderr",
     "output_type": "stream",
     "text": [
      "\n",
      " 10%|#         | 7/69 [00:00<00:00, 67.28it/s]\u001b[A\n",
      " 22%|##1       | 15/69 [00:00<00:00, 69.88it/s]\u001b[A\n",
      " 33%|###3      | 23/69 [00:00<00:00, 70.81it/s]\u001b[A\n",
      " 45%|####4     | 31/69 [00:00<00:00, 71.36it/s]\u001b[A\n",
      " 55%|#####5    | 38/69 [00:00<00:00, 70.23it/s]\u001b[A\n",
      " 67%|######6   | 46/69 [00:00<00:00, 72.26it/s]\u001b[A\n",
      " 78%|#######8  | 54/69 [00:00<00:00, 73.85it/s]\u001b[A\n",
      " 90%|########9 | 62/69 [00:00<00:00, 74.95it/s]\u001b[A\n",
      "100%|##########| 69/69 [00:00<00:00, 73.85it/s]\u001b[A"
     ]
    },
    {
     "name": "stdout",
     "output_type": "stream",
     "text": [
      "{'ade': 0.47291726, 'fde': 1.0192982}\n",
      "\t last loss:0.000717973, eval on validation:['ade: 0.47291726', 'fde: 1.0192982'], (best ade:0.4739298 at step 25500) \n",
      "\t saving best model...\n"
     ]
    },
    {
     "name": "stderr",
     "output_type": "stream",
     "text": [
      "\r",
      " 47%|████▋     | 373/792 [00:18<01:14,  5.61it/s]"
     ]
    },
    {
     "name": "stdout",
     "output_type": "stream",
     "text": [
      "\t done.\n"
     ]
    },
    {
     "name": "stderr",
     "output_type": "stream",
     "text": [
      " 84%|████████▍ | 669/792 [00:29<00:04, 25.40it/s]\n",
      "  0%|          | 0/69 [00:00<?, ?it/s]\u001b[A"
     ]
    },
    {
     "name": "stdout",
     "output_type": "stream",
     "text": [
      "\tsaving model 27600...\n",
      "\tdone\n",
      "Evaluating\n"
     ]
    },
    {
     "name": "stderr",
     "output_type": "stream",
     "text": [
      "\n",
      " 13%|#3        | 9/69 [00:00<00:00, 84.29it/s]\u001b[A\n",
      " 23%|##3       | 16/69 [00:00<00:00, 78.91it/s]\u001b[A\n",
      " 36%|###6      | 25/69 [00:00<00:00, 81.03it/s]\u001b[A\n",
      " 49%|####9     | 34/69 [00:00<00:00, 82.29it/s]\u001b[A\n",
      " 62%|######2   | 43/69 [00:00<00:00, 83.37it/s]\u001b[A\n",
      " 75%|#######5  | 52/69 [00:00<00:00, 84.60it/s]\u001b[A\n",
      " 88%|########8 | 61/69 [00:00<00:00, 84.86it/s]\u001b[A\n",
      " 85%|████████▌ | 675/792 [00:31<00:13,  8.98it/s]A"
     ]
    },
    {
     "name": "stdout",
     "output_type": "stream",
     "text": [
      "{'ade': 0.48900372, 'fde': 1.061821}\n",
      "\t last loss:0.000232908, eval on validation:['ade: 0.48900372', 'fde: 1.061821'], (best ade:0.47291726 at step 27300) \n"
     ]
    },
    {
     "name": "stderr",
     "output_type": "stream",
     "text": [
      "100%|██████████| 792/792 [00:35<00:00, 26.59it/s]\n",
      "  0%|          | 2/792 [00:00<00:47, 16.78it/s]"
     ]
    },
    {
     "name": "stdout",
     "output_type": "stream",
     "text": [
      "('Epoca 36.', 'lr:', 0.0001262269)\n"
     ]
    },
    {
     "name": "stderr",
     "output_type": "stream",
     "text": [
      " 23%|██▎       | 179/792 [00:07<00:23, 26.37it/s]\n",
      "  0%|          | 0/69 [00:00<?, ?it/s]\u001b[A"
     ]
    },
    {
     "name": "stdout",
     "output_type": "stream",
     "text": [
      "\tsaving model 27900...\n",
      "\tdone\n",
      "Evaluating\n"
     ]
    },
    {
     "name": "stderr",
     "output_type": "stream",
     "text": [
      "\n",
      " 14%|#4        | 10/69 [00:00<00:00, 93.37it/s]\u001b[A\n",
      " 29%|##8       | 20/69 [00:00<00:00, 93.60it/s]\u001b[A\n",
      " 42%|####2     | 29/69 [00:00<00:00, 89.93it/s]\u001b[A\n",
      " 57%|#####6    | 39/69 [00:00<00:00, 90.98it/s]\u001b[A\n",
      " 71%|#######1  | 49/69 [00:00<00:00, 91.67it/s]\u001b[A\n",
      " 86%|########5 | 59/69 [00:00<00:00, 92.76it/s]\u001b[A\n",
      " 99%|#########8| 68/69 [00:00<00:00, 89.73it/s]\u001b[A\n",
      " 23%|██▎       | 182/792 [00:08<01:21,  7.49it/s]A"
     ]
    },
    {
     "name": "stdout",
     "output_type": "stream",
     "text": [
      "{'ade': 0.47727355, 'fde': 1.0331831}\n",
      "\t last loss:0.000391262, eval on validation:['ade: 0.47727355', 'fde: 1.0331831'], (best ade:0.47291726 at step 27300) \n"
     ]
    },
    {
     "name": "stderr",
     "output_type": "stream",
     "text": [
      " 60%|██████    | 479/792 [00:21<00:12, 24.44it/s]\n",
      "  0%|          | 0/69 [00:00<?, ?it/s]\u001b[A"
     ]
    },
    {
     "name": "stdout",
     "output_type": "stream",
     "text": [
      "\tsaving model 28200...\n",
      "\tdone\n",
      "Evaluating\n"
     ]
    },
    {
     "name": "stderr",
     "output_type": "stream",
     "text": [
      "\n",
      " 13%|#3        | 9/69 [00:00<00:00, 82.88it/s]\u001b[A\n",
      " 25%|##4       | 17/69 [00:00<00:00, 79.55it/s]\u001b[A\n",
      " 38%|###7      | 26/69 [00:00<00:00, 80.87it/s]\u001b[A\n",
      " 51%|#####     | 35/69 [00:00<00:00, 82.51it/s]\u001b[A\n",
      " 64%|######3   | 44/69 [00:00<00:00, 82.68it/s]\u001b[A\n",
      " 77%|#######6  | 53/69 [00:00<00:00, 84.09it/s]\u001b[A\n",
      " 90%|########9 | 62/69 [00:00<00:00, 84.95it/s]\u001b[A\n",
      " 61%|██████    | 482/792 [00:22<00:44,  6.97it/s]A"
     ]
    },
    {
     "name": "stdout",
     "output_type": "stream",
     "text": [
      "{'ade': 0.49004838, 'fde': 1.066963}\n",
      "\t last loss:0.000370219, eval on validation:['ade: 0.49004838', 'fde: 1.066963'], (best ade:0.47291726 at step 27300) \n"
     ]
    },
    {
     "name": "stderr",
     "output_type": "stream",
     "text": [
      " 98%|█████████▊| 779/792 [00:34<00:00, 26.83it/s]\n",
      "  0%|          | 0/69 [00:00<?, ?it/s]\u001b[A"
     ]
    },
    {
     "name": "stdout",
     "output_type": "stream",
     "text": [
      "\tsaving model 28500...\n",
      "\tdone\n",
      "Evaluating\n"
     ]
    },
    {
     "name": "stderr",
     "output_type": "stream",
     "text": [
      "\n",
      " 13%|#3        | 9/69 [00:00<00:00, 85.75it/s]\u001b[A\n",
      " 28%|##7       | 19/69 [00:00<00:00, 87.91it/s]\u001b[A\n",
      " 42%|####2     | 29/69 [00:00<00:00, 90.20it/s]\u001b[A\n",
      " 55%|#####5    | 38/69 [00:00<00:00, 87.81it/s]\u001b[A\n",
      " 68%|######8   | 47/69 [00:00<00:00, 88.42it/s]\u001b[A\n",
      " 83%|########2 | 57/69 [00:00<00:00, 90.15it/s]\u001b[A\n",
      " 97%|#########7| 67/69 [00:00<00:00, 91.54it/s]\u001b[A\n",
      " 99%|█████████▊| 782/792 [00:35<00:01,  7.65it/s]A"
     ]
    },
    {
     "name": "stdout",
     "output_type": "stream",
     "text": [
      "{'ade': 0.47812757, 'fde': 1.0344445}\n",
      "\t last loss:0.000551345, eval on validation:['ade: 0.47812757', 'fde: 1.0344445'], (best ade:0.47291726 at step 27300) \n"
     ]
    },
    {
     "name": "stderr",
     "output_type": "stream",
     "text": [
      "100%|██████████| 792/792 [00:35<00:00, 22.29it/s]\n",
      "  0%|          | 1/792 [00:00<01:36,  8.20it/s]"
     ]
    },
    {
     "name": "stdout",
     "output_type": "stream",
     "text": [
      "('Epoca 37.', 'lr:', 0.00010729288)\n"
     ]
    },
    {
     "name": "stderr",
     "output_type": "stream",
     "text": [
      " 36%|███▌      | 286/792 [00:11<00:20, 24.73it/s]\n",
      "  0%|          | 0/69 [00:00<?, ?it/s]\u001b[A"
     ]
    },
    {
     "name": "stdout",
     "output_type": "stream",
     "text": [
      "\tsaving model 28800...\n",
      "\tdone\n",
      "Evaluating\n"
     ]
    },
    {
     "name": "stderr",
     "output_type": "stream",
     "text": [
      "\n",
      " 13%|#3        | 9/69 [00:00<00:00, 85.46it/s]\u001b[A\n",
      " 25%|##4       | 17/69 [00:00<00:00, 82.11it/s]\u001b[A\n",
      " 38%|###7      | 26/69 [00:00<00:00, 83.25it/s]\u001b[A\n",
      " 51%|#####     | 35/69 [00:00<00:00, 84.06it/s]\u001b[A\n",
      " 64%|######3   | 44/69 [00:00<00:00, 83.70it/s]\u001b[A\n",
      " 75%|#######5  | 52/69 [00:00<00:00, 80.95it/s]\u001b[A\n",
      " 87%|########6 | 60/69 [00:00<00:00, 80.56it/s]\u001b[A\n",
      " 99%|#########8| 68/69 [00:00<00:00, 80.24it/s]\u001b[A\n",
      " 36%|███▋      | 289/792 [00:12<01:12,  6.91it/s]A"
     ]
    },
    {
     "name": "stdout",
     "output_type": "stream",
     "text": [
      "{'ade': 0.47888872, 'fde': 1.0371711}\n",
      "\t last loss:0.000336649, eval on validation:['ade: 0.47888872', 'fde: 1.0371711'], (best ade:0.47291726 at step 27300) \n"
     ]
    },
    {
     "name": "stderr",
     "output_type": "stream",
     "text": [
      " 74%|███████▍  | 586/792 [00:25<00:08, 24.67it/s]\n",
      "  0%|          | 0/69 [00:00<?, ?it/s]\u001b[A"
     ]
    },
    {
     "name": "stdout",
     "output_type": "stream",
     "text": [
      "\tsaving model 29100...\n",
      "\tdone\n",
      "Evaluating\n"
     ]
    },
    {
     "name": "stderr",
     "output_type": "stream",
     "text": [
      "\n",
      " 13%|#3        | 9/69 [00:00<00:00, 86.82it/s]\u001b[A\n",
      " 28%|##7       | 19/69 [00:00<00:00, 88.61it/s]\u001b[A\n",
      " 42%|####2     | 29/69 [00:00<00:00, 90.50it/s]\u001b[A\n",
      " 57%|#####6    | 39/69 [00:00<00:00, 91.34it/s]\u001b[A\n",
      " 70%|######9   | 48/69 [00:00<00:00, 88.94it/s]\u001b[A\n",
      " 83%|########2 | 57/69 [00:00<00:00, 89.24it/s]\u001b[A\n",
      " 94%|#########4| 65/69 [00:00<00:00, 81.26it/s]\u001b[A\n",
      " 74%|███████▍  | 589/792 [00:26<00:28,  7.06it/s]A"
     ]
    },
    {
     "name": "stdout",
     "output_type": "stream",
     "text": [
      "{'ade': 0.48295256, 'fde': 1.0452205}\n",
      "\t last loss:0.000406763, eval on validation:['ade: 0.48295256', 'fde: 1.0452205'], (best ade:0.47291726 at step 27300) \n"
     ]
    },
    {
     "name": "stderr",
     "output_type": "stream",
     "text": [
      "100%|██████████| 792/792 [00:34<00:00, 22.94it/s]\n",
      "  0%|          | 2/792 [00:00<00:46, 16.97it/s]"
     ]
    },
    {
     "name": "stdout",
     "output_type": "stream",
     "text": [
      "('Epoca 38.', 'lr:', 0.00010729288)\n"
     ]
    },
    {
     "name": "stderr",
     "output_type": "stream",
     "text": [
      " 12%|█▏        | 95/792 [00:03<00:28, 24.25it/s]\n",
      "  0%|          | 0/69 [00:00<?, ?it/s]\u001b[A"
     ]
    },
    {
     "name": "stdout",
     "output_type": "stream",
     "text": [
      "\tsaving model 29400...\n",
      "\tdone\n",
      "Evaluating\n"
     ]
    },
    {
     "name": "stderr",
     "output_type": "stream",
     "text": [
      "\n",
      " 13%|#3        | 9/69 [00:00<00:00, 85.05it/s]\u001b[A\n",
      " 26%|##6       | 18/69 [00:00<00:00, 85.54it/s]\u001b[A\n",
      " 38%|###7      | 26/69 [00:00<00:00, 82.94it/s]\u001b[A\n",
      " 51%|#####     | 35/69 [00:00<00:00, 83.91it/s]\u001b[A\n",
      " 64%|######3   | 44/69 [00:00<00:00, 83.35it/s]\u001b[A\n",
      " 77%|#######6  | 53/69 [00:00<00:00, 84.32it/s]\u001b[A\n",
      " 90%|########9 | 62/69 [00:00<00:00, 81.95it/s]\u001b[A\n",
      " 12%|█▏        | 98/792 [00:04<01:39,  6.97it/s][A"
     ]
    },
    {
     "name": "stdout",
     "output_type": "stream",
     "text": [
      "{'ade': 0.49142435, 'fde': 1.0741438}\n",
      "\t last loss:0.000456740, eval on validation:['ade: 0.49142435', 'fde: 1.0741438'], (best ade:0.47291726 at step 27300) \n"
     ]
    },
    {
     "name": "stderr",
     "output_type": "stream",
     "text": [
      " 50%|████▉     | 395/792 [00:17<00:18, 20.91it/s]"
     ]
    },
    {
     "name": "stdout",
     "output_type": "stream",
     "text": [
      "\tsaving model 29700...\n"
     ]
    },
    {
     "name": "stderr",
     "output_type": "stream",
     "text": [
      "\n",
      "  0%|          | 0/69 [00:00<?, ?it/s]\u001b[A\n",
      " 10%|#         | 7/69 [00:00<00:00, 63.31it/s]\u001b[A\n",
      " 20%|##        | 14/69 [00:00<00:00, 64.11it/s]\u001b[A\n",
      " 30%|###       | 21/69 [00:00<00:00, 64.78it/s]\u001b[A\n",
      " 39%|###9      | 27/69 [00:00<00:00, 60.45it/s]\u001b[A\n",
      " 49%|####9     | 34/69 [00:00<00:00, 61.71it/s]\u001b[A\n",
      " 59%|#####9    | 41/69 [00:00<00:00, 62.57it/s]\u001b[A\n",
      " 70%|######9   | 48/69 [00:00<00:00, 63.99it/s]\u001b[A\n",
      " 80%|#######9  | 55/69 [00:00<00:00, 64.86it/s]\u001b[A\n",
      " 90%|########9 | 62/69 [00:00<00:00, 64.24it/s]\u001b[A\n",
      " 50%|█████     | 398/792 [00:18<01:10,  5.62it/s]A"
     ]
    },
    {
     "name": "stdout",
     "output_type": "stream",
     "text": [
      "\tdone\n",
      "Evaluating\n",
      "{'ade': 0.48645702, 'fde': 1.0569987}\n",
      "\t last loss:0.000511984, eval on validation:['ade: 0.48645702', 'fde: 1.0569987'], (best ade:0.47291726 at step 27300) \n"
     ]
    },
    {
     "name": "stderr",
     "output_type": "stream",
     "text": [
      " 88%|████████▊ | 693/792 [00:30<00:03, 26.94it/s]\n",
      "  0%|          | 0/69 [00:00<?, ?it/s]\u001b[A"
     ]
    },
    {
     "name": "stdout",
     "output_type": "stream",
     "text": [
      "\tsaving model 30000...\n",
      "\tdone\n",
      "Evaluating\n"
     ]
    },
    {
     "name": "stderr",
     "output_type": "stream",
     "text": [
      "\n",
      " 12%|#1        | 8/69 [00:00<00:00, 79.83it/s]\u001b[A\n",
      " 25%|##4       | 17/69 [00:00<00:00, 81.76it/s]\u001b[A\n",
      " 38%|###7      | 26/69 [00:00<00:00, 83.33it/s]\u001b[A\n",
      " 51%|#####     | 35/69 [00:00<00:00, 83.93it/s]\u001b[A\n",
      " 62%|######2   | 43/69 [00:00<00:00, 82.69it/s]\u001b[A\n",
      " 75%|#######5  | 52/69 [00:00<00:00, 83.27it/s]\u001b[A\n",
      " 88%|########8 | 61/69 [00:00<00:00, 84.09it/s]\u001b[A\n",
      " 88%|████████▊ | 699/792 [00:31<00:10,  9.06it/s]A"
     ]
    },
    {
     "name": "stdout",
     "output_type": "stream",
     "text": [
      "{'ade': 0.47987846, 'fde': 1.0393167}\n",
      "\t last loss:0.000387140, eval on validation:['ade: 0.47987846', 'fde: 1.0393167'], (best ade:0.47291726 at step 27300) \n"
     ]
    },
    {
     "name": "stderr",
     "output_type": "stream",
     "text": [
      "100%|██████████| 792/792 [00:35<00:00, 21.24it/s]\n",
      "  0%|          | 2/792 [00:00<00:44, 17.92it/s]"
     ]
    },
    {
     "name": "stdout",
     "output_type": "stream",
     "text": [
      "('Epoca 39.', 'lr:', 9.119895e-05)\n"
     ]
    },
    {
     "name": "stderr",
     "output_type": "stream",
     "text": [
      " 25%|██▌       | 201/792 [00:08<00:23, 25.13it/s]\n",
      "  0%|          | 0/69 [00:00<?, ?it/s]\u001b[A"
     ]
    },
    {
     "name": "stdout",
     "output_type": "stream",
     "text": [
      "\tsaving model 30300...\n",
      "\tdone\n",
      "Evaluating\n"
     ]
    },
    {
     "name": "stderr",
     "output_type": "stream",
     "text": [
      "\n",
      " 13%|#3        | 9/69 [00:00<00:00, 82.88it/s]\u001b[A\n",
      " 26%|##6       | 18/69 [00:00<00:00, 84.04it/s]\u001b[A\n",
      " 38%|###7      | 26/69 [00:00<00:00, 82.45it/s]\u001b[A\n",
      " 51%|#####     | 35/69 [00:00<00:00, 83.58it/s]\u001b[A\n",
      " 64%|######3   | 44/69 [00:00<00:00, 84.22it/s]\u001b[A\n",
      " 77%|#######6  | 53/69 [00:00<00:00, 85.17it/s]\u001b[A\n",
      " 90%|########9 | 62/69 [00:00<00:00, 84.66it/s]\u001b[A\n",
      " 26%|██▌       | 207/792 [00:10<01:05,  8.92it/s]A"
     ]
    },
    {
     "name": "stdout",
     "output_type": "stream",
     "text": [
      "{'ade': 0.4853981, 'fde': 1.0538718}\n",
      "\t last loss:0.000511530, eval on validation:['ade: 0.4853981', 'fde: 1.0538718'], (best ade:0.47291726 at step 27300) \n"
     ]
    },
    {
     "name": "stderr",
     "output_type": "stream",
     "text": [
      " 63%|██████▎   | 501/792 [00:21<00:10, 26.73it/s]\n",
      "  0%|          | 0/69 [00:00<?, ?it/s]\u001b[A"
     ]
    },
    {
     "name": "stdout",
     "output_type": "stream",
     "text": [
      "\tsaving model 30600...\n",
      "\tdone\n",
      "Evaluating\n"
     ]
    },
    {
     "name": "stderr",
     "output_type": "stream",
     "text": [
      "\n",
      " 14%|#4        | 10/69 [00:00<00:00, 91.37it/s]\u001b[A\n",
      " 29%|##8       | 20/69 [00:00<00:00, 91.90it/s]\u001b[A\n",
      " 43%|####3     | 30/69 [00:00<00:00, 91.92it/s]\u001b[A\n",
      " 58%|#####7    | 40/69 [00:00<00:00, 92.91it/s]\u001b[A\n",
      " 71%|#######1  | 49/69 [00:00<00:00, 90.12it/s]\u001b[A\n",
      " 84%|########4 | 58/69 [00:00<00:00, 88.29it/s]\u001b[A\n",
      " 99%|#########8| 68/69 [00:00<00:00, 90.08it/s]\u001b[A\n",
      " 64%|██████▍   | 507/792 [00:22<00:29,  9.72it/s]A"
     ]
    },
    {
     "name": "stdout",
     "output_type": "stream",
     "text": [
      "{'ade': 0.4792279, 'fde': 1.036604}\n",
      "\t last loss:0.000564767, eval on validation:['ade: 0.4792279', 'fde: 1.036604'], (best ade:0.47291726 at step 27300) \n"
     ]
    },
    {
     "name": "stderr",
     "output_type": "stream",
     "text": [
      "100%|██████████| 792/792 [00:33<00:00, 25.12it/s]\n",
      "  0%|          | 1/792 [00:00<01:31,  8.61it/s]"
     ]
    },
    {
     "name": "stdout",
     "output_type": "stream",
     "text": [
      "('Epoca 40.', 'lr:', 9.119895e-05)\n"
     ]
    },
    {
     "name": "stderr",
     "output_type": "stream",
     "text": [
      "  1%|▏         | 10/792 [00:00<00:52, 14.98it/s]\n",
      "  0%|          | 0/69 [00:00<?, ?it/s]\u001b[A"
     ]
    },
    {
     "name": "stdout",
     "output_type": "stream",
     "text": [
      "\tsaving model 30900...\n",
      "\tdone\n",
      "Evaluating\n"
     ]
    },
    {
     "name": "stderr",
     "output_type": "stream",
     "text": [
      "\n",
      " 13%|#3        | 9/69 [00:00<00:00, 83.50it/s]\u001b[A\n",
      " 26%|##6       | 18/69 [00:00<00:00, 83.77it/s]\u001b[A\n",
      " 39%|###9      | 27/69 [00:00<00:00, 84.16it/s]\u001b[A\n",
      " 52%|#####2    | 36/69 [00:00<00:00, 82.93it/s]\u001b[A\n",
      " 62%|######2   | 43/69 [00:00<00:00, 77.28it/s]\u001b[A\n",
      " 72%|#######2  | 50/69 [00:00<00:00, 74.18it/s]\u001b[A\n",
      " 83%|########2 | 57/69 [00:00<00:00, 72.62it/s]\u001b[A\n",
      " 93%|#########2| 64/69 [00:00<00:00, 70.61it/s]\u001b[A\n",
      "  2%|▏         | 15/792 [00:01<02:15,  5.74it/s][A"
     ]
    },
    {
     "name": "stdout",
     "output_type": "stream",
     "text": [
      "{'ade': 0.47872424, 'fde': 1.035443}\n",
      "\t last loss:0.000273794, eval on validation:['ade: 0.47872424', 'fde: 1.035443'], (best ade:0.47291726 at step 27300) \n"
     ]
    },
    {
     "name": "stderr",
     "output_type": "stream",
     "text": [
      " 39%|███▉      | 309/792 [00:14<00:18, 26.37it/s]\n",
      "  0%|          | 0/69 [00:00<?, ?it/s]\u001b[A"
     ]
    },
    {
     "name": "stdout",
     "output_type": "stream",
     "text": [
      "\tsaving model 31200...\n",
      "\tdone\n",
      "Evaluating\n"
     ]
    },
    {
     "name": "stderr",
     "output_type": "stream",
     "text": [
      "\n",
      " 13%|#3        | 9/69 [00:00<00:00, 81.97it/s]\u001b[A\n",
      " 26%|##6       | 18/69 [00:00<00:00, 83.47it/s]\u001b[A\n",
      " 41%|####      | 28/69 [00:00<00:00, 86.24it/s]\u001b[A\n",
      " 55%|#####5    | 38/69 [00:00<00:00, 88.67it/s]\u001b[A\n",
      " 70%|######9   | 48/69 [00:00<00:00, 90.13it/s]\u001b[A\n",
      " 83%|########2 | 57/69 [00:00<00:00, 89.56it/s]\u001b[A\n",
      " 97%|#########7| 67/69 [00:00<00:00, 90.99it/s]\u001b[A\n",
      " 40%|███▉      | 315/792 [00:15<00:49,  9.68it/s]A"
     ]
    },
    {
     "name": "stdout",
     "output_type": "stream",
     "text": [
      "{'ade': 0.47405082, 'fde': 1.0222418}\n",
      "\t last loss:0.000272494, eval on validation:['ade: 0.47405082', 'fde: 1.0222418'], (best ade:0.47291726 at step 27300) \n"
     ]
    },
    {
     "name": "stderr",
     "output_type": "stream",
     "text": [
      " 77%|███████▋  | 609/792 [00:28<00:07, 22.92it/s]\n",
      "  0%|          | 0/69 [00:00<?, ?it/s]\u001b[A"
     ]
    },
    {
     "name": "stdout",
     "output_type": "stream",
     "text": [
      "\tsaving model 31500...\n",
      "\tdone\n",
      "Evaluating\n"
     ]
    },
    {
     "name": "stderr",
     "output_type": "stream",
     "text": [
      "\n",
      " 12%|#1        | 8/69 [00:00<00:00, 73.74it/s]\u001b[A\n",
      " 22%|##1       | 15/69 [00:00<00:00, 71.31it/s]\u001b[A\n",
      " 35%|###4      | 24/69 [00:00<00:00, 74.52it/s]\u001b[A\n",
      " 48%|####7     | 33/69 [00:00<00:00, 77.53it/s]\u001b[A\n",
      " 61%|######    | 42/69 [00:00<00:00, 79.42it/s]\u001b[A\n",
      " 74%|#######3  | 51/69 [00:00<00:00, 80.10it/s]\u001b[A\n",
      " 86%|########5 | 59/69 [00:00<00:00, 79.88it/s]\u001b[A\n",
      " 99%|#########8| 68/69 [00:00<00:00, 81.27it/s]\u001b[A\n",
      " 78%|███████▊  | 615/792 [00:29<00:20,  8.51it/s]A"
     ]
    },
    {
     "name": "stdout",
     "output_type": "stream",
     "text": [
      "{'ade': 0.4741613, 'fde': 1.0265335}\n",
      "\t last loss:0.000361979, eval on validation:['ade: 0.4741613', 'fde: 1.0265335'], (best ade:0.47291726 at step 27300) \n"
     ]
    },
    {
     "name": "stderr",
     "output_type": "stream",
     "text": [
      "100%|██████████| 792/792 [00:36<00:00, 26.77it/s]\n",
      "  0%|          | 3/792 [00:00<00:31, 25.04it/s]"
     ]
    },
    {
     "name": "stdout",
     "output_type": "stream",
     "text": [
      "('Epoca 41.', 'lr:', 7.751911e-05)\n"
     ]
    },
    {
     "name": "stderr",
     "output_type": "stream",
     "text": [
      " 15%|█▍        | 117/792 [00:04<00:31, 21.56it/s]"
     ]
    },
    {
     "name": "stdout",
     "output_type": "stream",
     "text": [
      "\tsaving model 31800...\n"
     ]
    },
    {
     "name": "stderr",
     "output_type": "stream",
     "text": [
      "\n",
      "  0%|          | 0/69 [00:00<?, ?it/s]\u001b[A\n",
      " 10%|#         | 7/69 [00:00<00:00, 64.89it/s]\u001b[A"
     ]
    },
    {
     "name": "stdout",
     "output_type": "stream",
     "text": [
      "\tdone\n",
      "Evaluating\n"
     ]
    },
    {
     "name": "stderr",
     "output_type": "stream",
     "text": [
      "\n",
      " 19%|#8        | 13/69 [00:00<00:00, 60.53it/s]\u001b[A\n",
      " 29%|##8       | 20/69 [00:00<00:00, 62.25it/s]\u001b[A\n",
      " 39%|###9      | 27/69 [00:00<00:00, 63.16it/s]\u001b[A\n",
      " 49%|####9     | 34/69 [00:00<00:00, 64.73it/s]\u001b[A\n",
      " 59%|#####9    | 41/69 [00:00<00:00, 64.96it/s]\u001b[A\n",
      " 70%|######9   | 48/69 [00:00<00:00, 65.25it/s]\u001b[A\n",
      " 80%|#######9  | 55/69 [00:00<00:00, 66.28it/s]\u001b[A\n",
      " 90%|########9 | 62/69 [00:00<00:00, 66.68it/s]\u001b[A\n",
      " 15%|█▌        | 120/792 [00:06<02:06,  5.33it/s]A"
     ]
    },
    {
     "name": "stdout",
     "output_type": "stream",
     "text": [
      "{'ade': 0.47797918, 'fde': 1.0332162}\n",
      "\t last loss:0.000208072, eval on validation:['ade: 0.47797918', 'fde: 1.0332162'], (best ade:0.47291726 at step 27300) \n"
     ]
    },
    {
     "name": "stderr",
     "output_type": "stream",
     "text": [
      " 53%|█████▎    | 418/792 [00:18<00:14, 26.67it/s]\n",
      "  0%|          | 0/69 [00:00<?, ?it/s]\u001b[A"
     ]
    },
    {
     "name": "stdout",
     "output_type": "stream",
     "text": [
      "\tsaving model 32100...\n",
      "\tdone\n",
      "Evaluating\n"
     ]
    },
    {
     "name": "stderr",
     "output_type": "stream",
     "text": [
      "\n",
      " 14%|#4        | 10/69 [00:00<00:00, 93.17it/s]\u001b[A\n",
      " 28%|##7       | 19/69 [00:00<00:00, 89.82it/s]\u001b[A\n",
      " 41%|####      | 28/69 [00:00<00:00, 89.42it/s]\u001b[A\n",
      " 55%|#####5    | 38/69 [00:00<00:00, 91.16it/s]\u001b[A\n",
      " 70%|######9   | 48/69 [00:00<00:00, 91.43it/s]\u001b[A\n",
      " 83%|########2 | 57/69 [00:00<00:00, 90.43it/s]\u001b[A\n",
      " 97%|#########7| 67/69 [00:00<00:00, 91.68it/s]\u001b[A\n",
      " 54%|█████▎    | 424/792 [00:20<00:38,  9.68it/s]A"
     ]
    },
    {
     "name": "stdout",
     "output_type": "stream",
     "text": [
      "{'ade': 0.47710752, 'fde': 1.030992}\n",
      "\t last loss:0.000489076, eval on validation:['ade: 0.47710752', 'fde: 1.030992'], (best ade:0.47291726 at step 27300) \n"
     ]
    },
    {
     "name": "stderr",
     "output_type": "stream",
     "text": [
      " 91%|█████████ | 718/792 [00:31<00:02, 24.85it/s]\n",
      "  0%|          | 0/69 [00:00<?, ?it/s]\u001b[A"
     ]
    },
    {
     "name": "stdout",
     "output_type": "stream",
     "text": [
      "\tsaving model 32400...\n",
      "\tdone\n",
      "Evaluating\n"
     ]
    },
    {
     "name": "stderr",
     "output_type": "stream",
     "text": [
      "\n",
      " 13%|#3        | 9/69 [00:00<00:00, 85.85it/s]\u001b[A\n",
      " 26%|##6       | 18/69 [00:00<00:00, 85.23it/s]\u001b[A\n",
      " 39%|###9      | 27/69 [00:00<00:00, 85.60it/s]\u001b[A\n",
      " 51%|#####     | 35/69 [00:00<00:00, 81.85it/s]\u001b[A\n",
      " 64%|######3   | 44/69 [00:00<00:00, 83.24it/s]\u001b[A\n",
      " 78%|#######8  | 54/69 [00:00<00:00, 86.66it/s]\u001b[A\n",
      " 93%|#########2| 64/69 [00:00<00:00, 89.04it/s]\u001b[A\n",
      " 91%|█████████▏| 724/792 [00:32<00:07,  9.21it/s]A"
     ]
    },
    {
     "name": "stdout",
     "output_type": "stream",
     "text": [
      "{'ade': 0.47512358, 'fde': 1.0272886}\n",
      "\t last loss:0.000224454, eval on validation:['ade: 0.47512358', 'fde: 1.0272886'], (best ade:0.47291726 at step 27300) \n"
     ]
    },
    {
     "name": "stderr",
     "output_type": "stream",
     "text": [
      "100%|██████████| 792/792 [00:35<00:00, 22.31it/s]\n",
      "  0%|          | 1/792 [00:00<01:28,  8.94it/s]"
     ]
    },
    {
     "name": "stdout",
     "output_type": "stream",
     "text": [
      "('Epoca 42.', 'lr:', 7.751911e-05)\n"
     ]
    },
    {
     "name": "stderr",
     "output_type": "stream",
     "text": [
      " 29%|██▊       | 226/792 [00:09<00:25, 22.31it/s]\n",
      "  0%|          | 0/69 [00:00<?, ?it/s]\u001b[A"
     ]
    },
    {
     "name": "stdout",
     "output_type": "stream",
     "text": [
      "\tsaving model 32700...\n",
      "\tdone\n",
      "Evaluating\n"
     ]
    },
    {
     "name": "stderr",
     "output_type": "stream",
     "text": [
      "\n",
      " 12%|#1        | 8/69 [00:00<00:00, 71.91it/s]\u001b[A\n",
      " 23%|##3       | 16/69 [00:00<00:00, 73.57it/s]\u001b[A\n",
      " 35%|###4      | 24/69 [00:00<00:00, 74.32it/s]\u001b[A\n",
      " 46%|####6     | 32/69 [00:00<00:00, 75.28it/s]\u001b[A\n",
      " 58%|#####7    | 40/69 [00:00<00:00, 75.55it/s]\u001b[A\n",
      " 70%|######9   | 48/69 [00:00<00:00, 75.36it/s]\u001b[A\n",
      " 80%|#######9  | 55/69 [00:00<00:00, 71.13it/s]\u001b[A\n",
      " 91%|#########1| 63/69 [00:00<00:00, 72.24it/s]\u001b[A\n",
      " 29%|██▉       | 229/792 [00:11<01:29,  6.30it/s]A"
     ]
    },
    {
     "name": "stdout",
     "output_type": "stream",
     "text": [
      "{'ade': 0.4804864, 'fde': 1.039378}\n",
      "\t last loss:0.000446382, eval on validation:['ade: 0.4804864', 'fde: 1.039378'], (best ade:0.47291726 at step 27300) \n"
     ]
    },
    {
     "name": "stderr",
     "output_type": "stream",
     "text": [
      " 66%|██████▋   | 526/792 [00:23<00:10, 24.58it/s]\n",
      "  0%|          | 0/69 [00:00<?, ?it/s]\u001b[A"
     ]
    },
    {
     "name": "stdout",
     "output_type": "stream",
     "text": [
      "\tsaving model 33000...\n",
      "\tdone\n",
      "Evaluating\n"
     ]
    },
    {
     "name": "stderr",
     "output_type": "stream",
     "text": [
      "\n",
      " 13%|#3        | 9/69 [00:00<00:00, 81.94it/s]\u001b[A\n",
      " 26%|##6       | 18/69 [00:00<00:00, 83.38it/s]\u001b[A\n",
      " 39%|###9      | 27/69 [00:00<00:00, 83.52it/s]\u001b[A\n",
      " 52%|#####2    | 36/69 [00:00<00:00, 84.32it/s]\u001b[A\n",
      " 64%|######3   | 44/69 [00:00<00:00, 80.72it/s]\u001b[A\n",
      " 77%|#######6  | 53/69 [00:00<00:00, 80.96it/s]\u001b[A\n",
      " 90%|########9 | 62/69 [00:00<00:00, 81.58it/s]\u001b[A\n",
      " 67%|██████▋   | 529/792 [00:24<00:37,  6.94it/s]A"
     ]
    },
    {
     "name": "stdout",
     "output_type": "stream",
     "text": [
      "{'ade': 0.47581983, 'fde': 1.0283661}\n",
      "\t last loss:0.000368985, eval on validation:['ade: 0.47581983', 'fde: 1.0283661'], (best ade:0.47291726 at step 27300) \n"
     ]
    },
    {
     "name": "stderr",
     "output_type": "stream",
     "text": [
      "100%|██████████| 792/792 [00:36<00:00, 21.97it/s]\n",
      "  0%|          | 1/792 [00:00<01:38,  8.00it/s]"
     ]
    },
    {
     "name": "stdout",
     "output_type": "stream",
     "text": [
      "('Epoca 43.', 'lr:', 6.589125e-05)\n"
     ]
    },
    {
     "name": "stderr",
     "output_type": "stream",
     "text": [
      "  4%|▍         | 33/792 [00:01<00:30, 24.71it/s]\n",
      "  0%|          | 0/69 [00:00<?, ?it/s]\u001b[A"
     ]
    },
    {
     "name": "stdout",
     "output_type": "stream",
     "text": [
      "\tsaving model 33300...\n",
      "\tdone\n",
      "Evaluating\n"
     ]
    },
    {
     "name": "stderr",
     "output_type": "stream",
     "text": [
      "\n",
      " 13%|#3        | 9/69 [00:00<00:00, 83.61it/s]\u001b[A\n",
      " 26%|##6       | 18/69 [00:00<00:00, 84.07it/s]\u001b[A\n",
      " 41%|####      | 28/69 [00:00<00:00, 87.03it/s]\u001b[A\n",
      " 55%|#####5    | 38/69 [00:00<00:00, 89.11it/s]\u001b[A\n",
      " 68%|######8   | 47/69 [00:00<00:00, 87.99it/s]\u001b[A\n",
      " 83%|########2 | 57/69 [00:00<00:00, 89.59it/s]\u001b[A\n",
      " 97%|#########7| 67/69 [00:00<00:00, 90.93it/s]\u001b[A\n",
      "  5%|▍         | 39/792 [00:02<01:18,  9.56it/s][A"
     ]
    },
    {
     "name": "stdout",
     "output_type": "stream",
     "text": [
      "{'ade': 0.48330504, 'fde': 1.046841}\n",
      "\t last loss:0.000257423, eval on validation:['ade: 0.48330504', 'fde: 1.046841'], (best ade:0.47291726 at step 27300) \n"
     ]
    },
    {
     "name": "stderr",
     "output_type": "stream",
     "text": [
      " 42%|████▏     | 333/792 [00:15<00:21, 21.62it/s]\n",
      "  0%|          | 0/69 [00:00<?, ?it/s]\u001b[A"
     ]
    },
    {
     "name": "stdout",
     "output_type": "stream",
     "text": [
      "\tsaving model 33600...\n",
      "\tdone\n",
      "Evaluating\n"
     ]
    },
    {
     "name": "stderr",
     "output_type": "stream",
     "text": [
      "\n",
      " 12%|#1        | 8/69 [00:00<00:00, 77.34it/s]\u001b[A\n",
      " 23%|##3       | 16/69 [00:00<00:00, 77.35it/s]\u001b[A\n",
      " 35%|###4      | 24/69 [00:00<00:00, 76.35it/s]\u001b[A\n",
      " 45%|####4     | 31/69 [00:00<00:00, 72.82it/s]\u001b[A\n",
      " 57%|#####6    | 39/69 [00:00<00:00, 73.16it/s]\u001b[A\n",
      " 68%|######8   | 47/69 [00:00<00:00, 74.50it/s]\u001b[A\n",
      " 80%|#######9  | 55/69 [00:00<00:00, 74.02it/s]\u001b[A\n",
      " 91%|#########1| 63/69 [00:00<00:00, 73.76it/s]\u001b[A\n",
      " 43%|████▎     | 339/792 [00:16<00:56,  8.04it/s]A"
     ]
    },
    {
     "name": "stdout",
     "output_type": "stream",
     "text": [
      "{'ade': 0.47964486, 'fde': 1.0375632}\n",
      "\t last loss:0.000538777, eval on validation:['ade: 0.47964486', 'fde: 1.0375632'], (best ade:0.47291726 at step 27300) \n"
     ]
    },
    {
     "name": "stderr",
     "output_type": "stream",
     "text": [
      " 80%|███████▉  | 633/792 [00:28<00:06, 24.33it/s]\n",
      "  0%|          | 0/69 [00:00<?, ?it/s]\u001b[A"
     ]
    },
    {
     "name": "stdout",
     "output_type": "stream",
     "text": [
      "\tsaving model 33900...\n",
      "\tdone\n",
      "Evaluating\n"
     ]
    },
    {
     "name": "stderr",
     "output_type": "stream",
     "text": [
      "\n",
      " 13%|#3        | 9/69 [00:00<00:00, 82.76it/s]\u001b[A\n",
      " 26%|##6       | 18/69 [00:00<00:00, 83.90it/s]\u001b[A\n",
      " 38%|###7      | 26/69 [00:00<00:00, 80.85it/s]\u001b[A\n",
      " 49%|####9     | 34/69 [00:00<00:00, 78.95it/s]\u001b[A\n",
      " 62%|######2   | 43/69 [00:00<00:00, 80.93it/s]\u001b[A\n",
      " 77%|#######6  | 53/69 [00:00<00:00, 84.18it/s]\u001b[A\n",
      " 90%|########9 | 62/69 [00:00<00:00, 84.98it/s]\u001b[A\n",
      " 81%|████████  | 639/792 [00:29<00:16,  9.12it/s]A"
     ]
    },
    {
     "name": "stdout",
     "output_type": "stream",
     "text": [
      "{'ade': 0.47854805, 'fde': 1.0351366}\n",
      "\t last loss:0.000313845, eval on validation:['ade: 0.47854805', 'fde: 1.0351366'], (best ade:0.47291726 at step 27300) \n"
     ]
    },
    {
     "name": "stderr",
     "output_type": "stream",
     "text": [
      "100%|██████████| 792/792 [00:35<00:00, 25.13it/s]\n",
      "  0%|          | 2/792 [00:00<00:50, 15.53it/s]"
     ]
    },
    {
     "name": "stdout",
     "output_type": "stream",
     "text": [
      "('Epoca 44.', 'lr:', 6.589125e-05)\n"
     ]
    },
    {
     "name": "stderr",
     "output_type": "stream",
     "text": [
      " 18%|█▊        | 143/792 [00:06<00:28, 22.62it/s]\n",
      "  0%|          | 0/69 [00:00<?, ?it/s]\u001b[A"
     ]
    },
    {
     "name": "stdout",
     "output_type": "stream",
     "text": [
      "\tsaving model 34200...\n",
      "\tdone\n",
      "Evaluating\n"
     ]
    },
    {
     "name": "stderr",
     "output_type": "stream",
     "text": [
      "\n",
      " 12%|#1        | 8/69 [00:00<00:00, 78.77it/s]\u001b[A\n",
      " 23%|##3       | 16/69 [00:00<00:00, 78.69it/s]\u001b[A\n",
      " 35%|###4      | 24/69 [00:00<00:00, 77.38it/s]\u001b[A\n",
      " 46%|####6     | 32/69 [00:00<00:00, 76.75it/s]\u001b[A\n",
      " 58%|#####7    | 40/69 [00:00<00:00, 75.62it/s]\u001b[A\n",
      " 68%|######8   | 47/69 [00:00<00:00, 71.58it/s]\u001b[A\n",
      " 80%|#######9  | 55/69 [00:00<00:00, 72.62it/s]\u001b[A\n",
      " 91%|#########1| 63/69 [00:00<00:00, 72.94it/s]\u001b[A\n",
      " 18%|█▊        | 146/792 [00:07<01:42,  6.31it/s]A"
     ]
    },
    {
     "name": "stdout",
     "output_type": "stream",
     "text": [
      "{'ade': 0.47687474, 'fde': 1.0317068}\n",
      "\t last loss:0.000484587, eval on validation:['ade: 0.47687474', 'fde: 1.0317068'], (best ade:0.47291726 at step 27300) \n"
     ]
    },
    {
     "name": "stderr",
     "output_type": "stream",
     "text": [
      " 56%|█████▌    | 443/792 [00:19<00:14, 24.63it/s]\n",
      "  0%|          | 0/69 [00:00<?, ?it/s]\u001b[A"
     ]
    },
    {
     "name": "stdout",
     "output_type": "stream",
     "text": [
      "\tsaving model 34500...\n",
      "\tdone\n",
      "Evaluating\n"
     ]
    },
    {
     "name": "stderr",
     "output_type": "stream",
     "text": [
      "\n",
      " 13%|#3        | 9/69 [00:00<00:00, 83.68it/s]\u001b[A\n",
      " 26%|##6       | 18/69 [00:00<00:00, 84.59it/s]\u001b[A\n",
      " 38%|###7      | 26/69 [00:00<00:00, 81.18it/s]\u001b[A\n",
      " 51%|#####     | 35/69 [00:00<00:00, 81.49it/s]\u001b[A\n",
      " 64%|######3   | 44/69 [00:00<00:00, 82.64it/s]\u001b[A\n",
      " 75%|#######5  | 52/69 [00:00<00:00, 80.53it/s]\u001b[A\n",
      " 88%|########8 | 61/69 [00:00<00:00, 82.32it/s]\u001b[A\n",
      " 56%|█████▋    | 446/792 [00:20<00:49,  7.01it/s]A"
     ]
    },
    {
     "name": "stdout",
     "output_type": "stream",
     "text": [
      "{'ade': 0.47508004, 'fde': 1.0266888}\n",
      "\t last loss:0.000297355, eval on validation:['ade: 0.47508004', 'fde: 1.0266888'], (best ade:0.47291726 at step 27300) \n"
     ]
    },
    {
     "name": "stderr",
     "output_type": "stream",
     "text": [
      " 94%|█████████▍| 743/792 [00:33<00:02, 20.85it/s]"
     ]
    },
    {
     "name": "stdout",
     "output_type": "stream",
     "text": [
      "\tsaving model 34800...\n"
     ]
    },
    {
     "name": "stderr",
     "output_type": "stream",
     "text": [
      "\n",
      "  0%|          | 0/69 [00:00<?, ?it/s]\u001b[A\n",
      " 12%|#1        | 8/69 [00:00<00:00, 71.74it/s]\u001b[A\n",
      " 23%|##3       | 16/69 [00:00<00:00, 72.66it/s]\u001b[A\n",
      " 35%|###4      | 24/69 [00:00<00:00, 73.86it/s]\u001b[A\n",
      " 46%|####6     | 32/69 [00:00<00:00, 74.39it/s]\u001b[A\n",
      " 58%|#####7    | 40/69 [00:00<00:00, 75.45it/s]\u001b[A\n",
      " 70%|######9   | 48/69 [00:00<00:00, 76.16it/s]\u001b[A\n",
      " 81%|########1 | 56/69 [00:00<00:00, 76.47it/s]\u001b[A\n",
      " 93%|#########2| 64/69 [00:00<00:00, 73.03it/s]\u001b[A\n",
      " 94%|█████████▍| 746/792 [00:34<00:07,  6.11it/s]A"
     ]
    },
    {
     "name": "stdout",
     "output_type": "stream",
     "text": [
      "\tdone\n",
      "Evaluating\n",
      "{'ade': 0.47537825, 'fde': 1.0268525}\n",
      "\t last loss:0.000575593, eval on validation:['ade: 0.47537825', 'fde: 1.0268525'], (best ade:0.47291726 at step 27300) \n"
     ]
    },
    {
     "name": "stderr",
     "output_type": "stream",
     "text": [
      "100%|██████████| 792/792 [00:36<00:00, 21.57it/s]\n",
      "  0%|          | 1/792 [00:00<01:30,  8.78it/s]"
     ]
    },
    {
     "name": "stdout",
     "output_type": "stream",
     "text": [
      "('Epoca 45.', 'lr:', 5.600756e-05)\n"
     ]
    },
    {
     "name": "stderr",
     "output_type": "stream",
     "text": [
      " 31%|███▏      | 249/792 [00:09<00:22, 24.40it/s]\n",
      "  0%|          | 0/69 [00:00<?, ?it/s]\u001b[A"
     ]
    },
    {
     "name": "stdout",
     "output_type": "stream",
     "text": [
      "\tsaving model 35100...\n",
      "\tdone\n",
      "Evaluating\n"
     ]
    },
    {
     "name": "stderr",
     "output_type": "stream",
     "text": [
      "\n",
      " 13%|#3        | 9/69 [00:00<00:00, 84.32it/s]\u001b[A\n",
      " 26%|##6       | 18/69 [00:00<00:00, 84.33it/s]\u001b[A\n",
      " 39%|###9      | 27/69 [00:00<00:00, 84.67it/s]\u001b[A\n",
      " 51%|#####     | 35/69 [00:00<00:00, 82.41it/s]\u001b[A\n",
      " 62%|######2   | 43/69 [00:00<00:00, 80.46it/s]\u001b[A\n",
      " 75%|#######5  | 52/69 [00:00<00:00, 81.01it/s]\u001b[A\n",
      " 87%|########6 | 60/69 [00:00<00:00, 80.43it/s]\u001b[A\n",
      " 32%|███▏      | 255/792 [00:11<01:00,  8.93it/s]A"
     ]
    },
    {
     "name": "stdout",
     "output_type": "stream",
     "text": [
      "{'ade': 0.47481343, 'fde': 1.0274276}\n",
      "\t last loss:0.000461862, eval on validation:['ade: 0.47481343', 'fde: 1.0274276'], (best ade:0.47291726 at step 27300) \n"
     ]
    },
    {
     "name": "stderr",
     "output_type": "stream",
     "text": [
      " 69%|██████▉   | 549/792 [00:24<00:10, 23.97it/s]\n",
      "  0%|          | 0/69 [00:00<?, ?it/s]\u001b[A"
     ]
    },
    {
     "name": "stdout",
     "output_type": "stream",
     "text": [
      "\tsaving model 35400...\n",
      "\tdone\n",
      "Evaluating\n"
     ]
    },
    {
     "name": "stderr",
     "output_type": "stream",
     "text": [
      "\n",
      " 13%|#3        | 9/69 [00:00<00:00, 83.51it/s]\u001b[A\n",
      " 26%|##6       | 18/69 [00:00<00:00, 84.63it/s]\u001b[A\n",
      " 38%|###7      | 26/69 [00:00<00:00, 80.05it/s]\u001b[A\n",
      " 51%|#####     | 35/69 [00:00<00:00, 81.08it/s]\u001b[A\n",
      " 64%|######3   | 44/69 [00:00<00:00, 82.09it/s]\u001b[A\n",
      " 77%|#######6  | 53/69 [00:00<00:00, 83.50it/s]\u001b[A\n",
      " 91%|#########1| 63/69 [00:00<00:00, 86.37it/s]\u001b[A\n",
      " 70%|███████   | 555/792 [00:25<00:26,  9.07it/s]A"
     ]
    },
    {
     "name": "stdout",
     "output_type": "stream",
     "text": [
      "{'ade': 0.478624, 'fde': 1.0373896}\n",
      "\t last loss:0.000325016, eval on validation:['ade: 0.478624', 'fde: 1.0373896'], (best ade:0.47291726 at step 27300) \n"
     ]
    },
    {
     "name": "stderr",
     "output_type": "stream",
     "text": [
      "100%|██████████| 792/792 [00:34<00:00, 27.04it/s]\n",
      "  0%|          | 2/792 [00:00<00:58, 13.43it/s]"
     ]
    },
    {
     "name": "stdout",
     "output_type": "stream",
     "text": [
      "('Epoca 46.', 'lr:', 5.600756e-05)\n"
     ]
    },
    {
     "name": "stderr",
     "output_type": "stream",
     "text": [
      "  7%|▋         | 59/792 [00:02<00:27, 26.26it/s]\n",
      "  0%|          | 0/69 [00:00<?, ?it/s]\u001b[A"
     ]
    },
    {
     "name": "stdout",
     "output_type": "stream",
     "text": [
      "\tsaving model 35700...\n",
      "\tdone\n",
      "Evaluating\n"
     ]
    },
    {
     "name": "stderr",
     "output_type": "stream",
     "text": [
      "\n",
      " 13%|#3        | 9/69 [00:00<00:00, 84.42it/s]\u001b[A\n",
      " 26%|##6       | 18/69 [00:00<00:00, 85.30it/s]\u001b[A\n",
      " 39%|###9      | 27/69 [00:00<00:00, 85.78it/s]\u001b[A\n",
      " 52%|#####2    | 36/69 [00:00<00:00, 86.09it/s]\u001b[A\n",
      " 65%|######5   | 45/69 [00:00<00:00, 86.12it/s]\u001b[A\n",
      " 77%|#######6  | 53/69 [00:00<00:00, 83.13it/s]\u001b[A\n",
      " 88%|########8 | 61/69 [00:00<00:00, 81.44it/s]\u001b[A\n",
      "  8%|▊         | 62/792 [00:03<01:42,  7.12it/s][A"
     ]
    },
    {
     "name": "stdout",
     "output_type": "stream",
     "text": [
      "{'ade': 0.4753394, 'fde': 1.0273973}\n",
      "\t last loss:0.000370980, eval on validation:['ade: 0.4753394', 'fde: 1.0273973'], (best ade:0.47291726 at step 27300) \n"
     ]
    },
    {
     "name": "stderr",
     "output_type": "stream",
     "text": [
      " 45%|████▌     | 359/792 [00:15<00:20, 20.67it/s]"
     ]
    },
    {
     "name": "stdout",
     "output_type": "stream",
     "text": [
      "\tsaving model 36000...\n"
     ]
    },
    {
     "name": "stderr",
     "output_type": "stream",
     "text": [
      "\n",
      "  0%|          | 0/69 [00:00<?, ?it/s]\u001b[A\n",
      " 10%|#         | 7/69 [00:00<00:00, 67.72it/s]\u001b[A\n",
      " 20%|##        | 14/69 [00:00<00:00, 68.13it/s]\u001b[A\n",
      " 29%|##8       | 20/69 [00:00<00:00, 64.74it/s]\u001b[A\n",
      " 38%|###7      | 26/69 [00:00<00:00, 62.20it/s]\u001b[A\n",
      " 48%|####7     | 33/69 [00:00<00:00, 63.65it/s]\u001b[A\n",
      " 58%|#####7    | 40/69 [00:00<00:00, 63.60it/s]\u001b[A\n",
      " 68%|######8   | 47/69 [00:00<00:00, 64.52it/s]\u001b[A\n",
      " 78%|#######8  | 54/69 [00:00<00:00, 65.40it/s]\u001b[A\n",
      " 88%|########8 | 61/69 [00:00<00:00, 66.14it/s]\u001b[A\n",
      " 99%|#########8| 68/69 [00:01<00:00, 66.79it/s]\u001b[A\n",
      " 46%|████▌     | 362/792 [00:17<01:16,  5.62it/s]A"
     ]
    },
    {
     "name": "stdout",
     "output_type": "stream",
     "text": [
      "\tdone\n",
      "Evaluating\n",
      "{'ade': 0.4750423, 'fde': 1.0247501}\n",
      "\t last loss:0.000386347, eval on validation:['ade: 0.4750423', 'fde: 1.0247501'], (best ade:0.47291726 at step 27300) \n"
     ]
    },
    {
     "name": "stderr",
     "output_type": "stream",
     "text": [
      " 83%|████████▎ | 659/792 [00:29<00:05, 25.97it/s]\n",
      "  0%|          | 0/69 [00:00<?, ?it/s]\u001b[A"
     ]
    },
    {
     "name": "stdout",
     "output_type": "stream",
     "text": [
      "\tsaving model 36300...\n",
      "\tdone\n",
      "Evaluating\n"
     ]
    },
    {
     "name": "stderr",
     "output_type": "stream",
     "text": [
      "\n",
      " 13%|#3        | 9/69 [00:00<00:00, 89.93it/s]\u001b[A\n",
      " 28%|##7       | 19/69 [00:00<00:00, 91.12it/s]\u001b[A\n",
      " 42%|####2     | 29/69 [00:00<00:00, 92.11it/s]\u001b[A\n",
      " 57%|#####6    | 39/69 [00:00<00:00, 92.63it/s]\u001b[A\n",
      " 71%|#######1  | 49/69 [00:00<00:00, 93.28it/s]\u001b[A\n",
      " 84%|########4 | 58/69 [00:00<00:00, 89.24it/s]\u001b[A\n",
      " 99%|#########8| 68/69 [00:00<00:00, 90.58it/s]\u001b[A\n",
      " 84%|████████▎ | 662/792 [00:30<00:17,  7.55it/s]A"
     ]
    },
    {
     "name": "stdout",
     "output_type": "stream",
     "text": [
      "{'ade': 0.48032397, 'fde': 1.04202}\n",
      "\t last loss:0.000308030, eval on validation:['ade: 0.48032397', 'fde: 1.04202'], (best ade:0.47291726 at step 27300) \n"
     ]
    },
    {
     "name": "stderr",
     "output_type": "stream",
     "text": [
      "100%|██████████| 792/792 [00:35<00:00, 22.20it/s]\n",
      "  0%|          | 1/792 [00:00<01:55,  6.82it/s]"
     ]
    },
    {
     "name": "stdout",
     "output_type": "stream",
     "text": [
      "('Epoca 47.', 'lr:', 4.7606427e-05)\n"
     ]
    },
    {
     "name": "stderr",
     "output_type": "stream",
     "text": [
      " 21%|██        | 166/792 [00:06<00:25, 24.11it/s]"
     ]
    },
    {
     "name": "stdout",
     "output_type": "stream",
     "text": [
      "\tsaving model 36600...\n"
     ]
    },
    {
     "name": "stderr",
     "output_type": "stream",
     "text": [
      "\n",
      "  0%|          | 0/69 [00:00<?, ?it/s]\u001b[A\n",
      " 10%|#         | 7/69 [00:00<00:00, 68.72it/s]\u001b[A\n",
      " 20%|##        | 14/69 [00:00<00:00, 68.84it/s]\u001b[A\n",
      " 30%|###       | 21/69 [00:00<00:00, 68.61it/s]\u001b[A\n",
      " 41%|####      | 28/69 [00:00<00:00, 67.97it/s]\u001b[A\n",
      " 51%|#####     | 35/69 [00:00<00:00, 65.80it/s]\u001b[A\n",
      " 59%|#####9    | 41/69 [00:00<00:00, 63.52it/s]\u001b[A\n",
      " 70%|######9   | 48/69 [00:00<00:00, 64.73it/s]\u001b[A\n",
      " 80%|#######9  | 55/69 [00:00<00:00, 64.28it/s]\u001b[A\n",
      " 90%|########9 | 62/69 [00:00<00:00, 64.13it/s]\u001b[A\n",
      " 21%|██▏       | 169/792 [00:08<01:46,  5.84it/s]A"
     ]
    },
    {
     "name": "stdout",
     "output_type": "stream",
     "text": [
      "\tdone\n",
      "Evaluating\n",
      "{'ade': 0.4750924, 'fde': 1.0276043}\n",
      "\t last loss:0.000583536, eval on validation:['ade: 0.4750924', 'fde: 1.0276043'], (best ade:0.47291726 at step 27300) \n"
     ]
    },
    {
     "name": "stderr",
     "output_type": "stream",
     "text": [
      " 59%|█████▉    | 467/792 [00:20<00:12, 26.08it/s]\n",
      "  0%|          | 0/69 [00:00<?, ?it/s]\u001b[A"
     ]
    },
    {
     "name": "stdout",
     "output_type": "stream",
     "text": [
      "\tsaving model 36900...\n",
      "\tdone\n",
      "Evaluating\n"
     ]
    },
    {
     "name": "stderr",
     "output_type": "stream",
     "text": [
      "\n",
      " 14%|#4        | 10/69 [00:00<00:00, 91.54it/s]\u001b[A\n",
      " 29%|##8       | 20/69 [00:00<00:00, 91.83it/s]\u001b[A\n",
      " 43%|####3     | 30/69 [00:00<00:00, 92.94it/s]\u001b[A\n",
      " 58%|#####7    | 40/69 [00:00<00:00, 93.52it/s]\u001b[A\n",
      " 71%|#######1  | 49/69 [00:00<00:00, 90.82it/s]\u001b[A\n",
      " 84%|########4 | 58/69 [00:00<00:00, 90.16it/s]\u001b[A\n",
      " 97%|#########7| 67/69 [00:00<00:00, 89.23it/s]\u001b[A\n",
      " 59%|█████▉    | 470/792 [00:21<00:42,  7.54it/s]A"
     ]
    },
    {
     "name": "stdout",
     "output_type": "stream",
     "text": [
      "{'ade': 0.47380218, 'fde': 1.0204424}\n",
      "\t last loss:0.000373354, eval on validation:['ade: 0.47380218', 'fde: 1.0204424'], (best ade:0.47291726 at step 27300) \n"
     ]
    },
    {
     "name": "stderr",
     "output_type": "stream",
     "text": [
      " 97%|█████████▋| 767/792 [00:33<00:01, 24.51it/s]\n",
      "  0%|          | 0/69 [00:00<?, ?it/s]\u001b[A"
     ]
    },
    {
     "name": "stdout",
     "output_type": "stream",
     "text": [
      "\tsaving model 37200...\n",
      "\tdone\n",
      "Evaluating\n"
     ]
    },
    {
     "name": "stderr",
     "output_type": "stream",
     "text": [
      "\n",
      " 13%|#3        | 9/69 [00:00<00:00, 83.27it/s]\u001b[A\n",
      " 26%|##6       | 18/69 [00:00<00:00, 83.34it/s]\u001b[A\n",
      " 39%|###9      | 27/69 [00:00<00:00, 83.89it/s]\u001b[A\n",
      " 52%|#####2    | 36/69 [00:00<00:00, 83.85it/s]\u001b[A\n",
      " 65%|######5   | 45/69 [00:00<00:00, 84.62it/s]\u001b[A\n",
      " 78%|#######8  | 54/69 [00:00<00:00, 85.23it/s]\u001b[A\n",
      " 91%|#########1| 63/69 [00:00<00:00, 83.57it/s]\u001b[A\n",
      " 97%|█████████▋| 770/792 [00:34<00:03,  6.86it/s]A"
     ]
    },
    {
     "name": "stdout",
     "output_type": "stream",
     "text": [
      "{'ade': 0.4754408, 'fde': 1.0284692}\n",
      "\t last loss:0.000614658, eval on validation:['ade: 0.4754408', 'fde: 1.0284692'], (best ade:0.47291726 at step 27300) \n"
     ]
    },
    {
     "name": "stderr",
     "output_type": "stream",
     "text": [
      "100%|██████████| 792/792 [00:35<00:00, 22.12it/s]\n",
      "  0%|          | 2/792 [00:00<00:55, 14.25it/s]"
     ]
    },
    {
     "name": "stdout",
     "output_type": "stream",
     "text": [
      "('Epoca 48.', 'lr:', 4.7606427e-05)\n"
     ]
    },
    {
     "name": "stderr",
     "output_type": "stream",
     "text": [
      " 35%|███▍      | 274/792 [00:11<00:20, 25.66it/s]\n",
      "  0%|          | 0/69 [00:00<?, ?it/s]\u001b[A"
     ]
    },
    {
     "name": "stdout",
     "output_type": "stream",
     "text": [
      "\tsaving model 37500...\n",
      "\tdone\n",
      "Evaluating\n"
     ]
    },
    {
     "name": "stderr",
     "output_type": "stream",
     "text": [
      "\n",
      " 14%|#4        | 10/69 [00:00<00:00, 93.51it/s]\u001b[A\n",
      " 29%|##8       | 20/69 [00:00<00:00, 93.75it/s]\u001b[A\n",
      " 43%|####3     | 30/69 [00:00<00:00, 94.27it/s]\u001b[A\n",
      " 58%|#####7    | 40/69 [00:00<00:00, 93.78it/s]\u001b[A\n",
      " 72%|#######2  | 50/69 [00:00<00:00, 93.95it/s]\u001b[A\n",
      " 86%|########5 | 59/69 [00:00<00:00, 90.57it/s]\u001b[A\n",
      "100%|##########| 69/69 [00:00<00:00, 90.59it/s]\u001b[A"
     ]
    },
    {
     "name": "stdout",
     "output_type": "stream",
     "text": [
      "{'ade': 0.4718648, 'fde': 1.0181471}\n",
      "\t last loss:0.000482910, eval on validation:['ade: 0.4718648', 'fde: 1.0181471'], (best ade:0.47291726 at step 27300) \n",
      "\t saving best model...\n",
      "\t done.\n"
     ]
    },
    {
     "name": "stderr",
     "output_type": "stream",
     "text": [
      " 72%|███████▏  | 574/792 [00:24<00:08, 24.34it/s]\n",
      "  0%|          | 0/69 [00:00<?, ?it/s]\u001b[A"
     ]
    },
    {
     "name": "stdout",
     "output_type": "stream",
     "text": [
      "\tsaving model 37800...\n",
      "\tdone\n",
      "Evaluating\n"
     ]
    },
    {
     "name": "stderr",
     "output_type": "stream",
     "text": [
      "\n",
      " 13%|#3        | 9/69 [00:00<00:00, 86.17it/s]\u001b[A\n",
      " 26%|##6       | 18/69 [00:00<00:00, 85.70it/s]\u001b[A\n",
      " 39%|###9      | 27/69 [00:00<00:00, 85.92it/s]\u001b[A\n",
      " 52%|#####2    | 36/69 [00:00<00:00, 85.67it/s]\u001b[A\n",
      " 65%|######5   | 45/69 [00:00<00:00, 85.26it/s]\u001b[A\n",
      " 78%|#######8  | 54/69 [00:00<00:00, 85.64it/s]\u001b[A\n",
      " 91%|#########1| 63/69 [00:00<00:00, 84.49it/s]\u001b[A\n",
      " 73%|███████▎  | 577/792 [00:25<00:30,  6.99it/s]A"
     ]
    },
    {
     "name": "stdout",
     "output_type": "stream",
     "text": [
      "{'ade': 0.47408968, 'fde': 1.0250542}\n",
      "\t last loss:0.000585636, eval on validation:['ade: 0.47408968', 'fde: 1.0250542'], (best ade:0.4718648 at step 37500) \n"
     ]
    },
    {
     "name": "stderr",
     "output_type": "stream",
     "text": [
      "100%|██████████| 792/792 [00:35<00:00, 22.26it/s]\n",
      "  0%|          | 3/792 [00:00<00:34, 22.62it/s]"
     ]
    },
    {
     "name": "stdout",
     "output_type": "stream",
     "text": [
      "('Epoca 49.', 'lr:', 4.0465464e-05)\n"
     ]
    },
    {
     "name": "stderr",
     "output_type": "stream",
     "text": [
      " 10%|█         | 81/792 [00:03<00:29, 23.91it/s]\n",
      "  0%|          | 0/69 [00:00<?, ?it/s]\u001b[A"
     ]
    },
    {
     "name": "stdout",
     "output_type": "stream",
     "text": [
      "\tsaving model 38100...\n",
      "\tdone\n",
      "Evaluating\n"
     ]
    },
    {
     "name": "stderr",
     "output_type": "stream",
     "text": [
      "\n",
      " 14%|#4        | 10/69 [00:00<00:00, 92.24it/s]\u001b[A\n",
      " 29%|##8       | 20/69 [00:00<00:00, 93.08it/s]\u001b[A\n",
      " 43%|####3     | 30/69 [00:00<00:00, 93.17it/s]\u001b[A\n",
      " 58%|#####7    | 40/69 [00:00<00:00, 93.79it/s]\u001b[A\n",
      " 72%|#######2  | 50/69 [00:00<00:00, 93.42it/s]\u001b[A\n",
      " 86%|########5 | 59/69 [00:00<00:00, 89.14it/s]\u001b[A\n",
      " 99%|#########8| 68/69 [00:00<00:00, 87.04it/s]\u001b[A\n",
      " 11%|█         | 87/792 [00:04<01:15,  9.34it/s][A"
     ]
    },
    {
     "name": "stdout",
     "output_type": "stream",
     "text": [
      "{'ade': 0.47277486, 'fde': 1.0220617}\n",
      "\t last loss:0.000352016, eval on validation:['ade: 0.47277486', 'fde: 1.0220617'], (best ade:0.4718648 at step 37500) \n"
     ]
    },
    {
     "name": "stderr",
     "output_type": "stream",
     "text": [
      " 48%|████▊     | 381/792 [00:15<00:15, 25.81it/s]\n",
      "  0%|          | 0/69 [00:00<?, ?it/s]\u001b[A"
     ]
    },
    {
     "name": "stdout",
     "output_type": "stream",
     "text": [
      "\tsaving model 38400...\n",
      "\tdone\n",
      "Evaluating\n"
     ]
    },
    {
     "name": "stderr",
     "output_type": "stream",
     "text": [
      "\n",
      " 13%|#3        | 9/69 [00:00<00:00, 81.55it/s]\u001b[A\n",
      " 25%|##4       | 17/69 [00:00<00:00, 80.88it/s]\u001b[A\n",
      " 38%|###7      | 26/69 [00:00<00:00, 82.62it/s]\u001b[A\n",
      " 51%|#####     | 35/69 [00:00<00:00, 83.69it/s]\u001b[A\n",
      " 64%|######3   | 44/69 [00:00<00:00, 84.48it/s]\u001b[A\n",
      " 77%|#######6  | 53/69 [00:00<00:00, 85.00it/s]\u001b[A\n",
      " 90%|########9 | 62/69 [00:00<00:00, 84.77it/s]\u001b[A\n",
      " 49%|████▉     | 387/792 [00:17<00:45,  8.99it/s]A"
     ]
    },
    {
     "name": "stdout",
     "output_type": "stream",
     "text": [
      "{'ade': 0.47803336, 'fde': 1.0338333}\n",
      "\t last loss:0.000421805, eval on validation:['ade: 0.47803336', 'fde: 1.0338333'], (best ade:0.4718648 at step 37500) \n"
     ]
    },
    {
     "name": "stderr",
     "output_type": "stream",
     "text": [
      " 86%|████████▌ | 682/792 [00:30<00:04, 23.86it/s]\n",
      "  0%|          | 0/69 [00:00<?, ?it/s]\u001b[A"
     ]
    },
    {
     "name": "stdout",
     "output_type": "stream",
     "text": [
      "\tsaving model 38700...\n",
      "\tdone\n",
      "Evaluating\n"
     ]
    },
    {
     "name": "stderr",
     "output_type": "stream",
     "text": [
      "\n",
      " 13%|#3        | 9/69 [00:00<00:00, 85.25it/s]\u001b[A\n",
      " 26%|##6       | 18/69 [00:00<00:00, 84.96it/s]\u001b[A\n",
      " 39%|###9      | 27/69 [00:00<00:00, 85.63it/s]\u001b[A\n",
      " 52%|#####2    | 36/69 [00:00<00:00, 85.41it/s]\u001b[A\n",
      " 64%|######3   | 44/69 [00:00<00:00, 83.21it/s]\u001b[A\n",
      " 75%|#######5  | 52/69 [00:00<00:00, 80.37it/s]\u001b[A\n",
      " 87%|########6 | 60/69 [00:00<00:00, 79.82it/s]\u001b[A\n",
      " 99%|#########8| 68/69 [00:00<00:00, 78.90it/s]\u001b[A\n",
      "100%|##########| 69/69 [00:00<00:00, 80.52it/s]\u001b[A"
     ]
    },
    {
     "name": "stdout",
     "output_type": "stream",
     "text": [
      "{'ade': 0.46917227, 'fde': 1.0085499}\n",
      "\t last loss:0.000366439, eval on validation:['ade: 0.46917227', 'fde: 1.0085499'], (best ade:0.4718648 at step 37500) \n",
      "\t saving best model...\n",
      "\t done.\n"
     ]
    },
    {
     "name": "stderr",
     "output_type": "stream",
     "text": [
      "100%|██████████| 792/792 [00:35<00:00, 22.16it/s]\n",
      "  0%|          | 1/792 [00:00<01:33,  8.48it/s]"
     ]
    },
    {
     "name": "stdout",
     "output_type": "stream",
     "text": [
      "('Epoca 50.', 'lr:', 4.0465464e-05)\n"
     ]
    },
    {
     "name": "stderr",
     "output_type": "stream",
     "text": [
      " 24%|██▍       | 190/792 [00:07<00:23, 25.85it/s]\n",
      "  0%|          | 0/69 [00:00<?, ?it/s]\u001b[A"
     ]
    },
    {
     "name": "stdout",
     "output_type": "stream",
     "text": [
      "\tsaving model 39000...\n",
      "\tdone\n",
      "Evaluating\n"
     ]
    },
    {
     "name": "stderr",
     "output_type": "stream",
     "text": [
      "\n",
      " 14%|#4        | 10/69 [00:00<00:00, 92.98it/s]\u001b[A\n",
      " 28%|##7       | 19/69 [00:00<00:00, 91.66it/s]\u001b[A\n",
      " 41%|####      | 28/69 [00:00<00:00, 89.95it/s]\u001b[A\n",
      " 54%|#####3    | 37/69 [00:00<00:00, 89.37it/s]\u001b[A\n",
      " 67%|######6   | 46/69 [00:00<00:00, 87.72it/s]\u001b[A\n",
      " 80%|#######9  | 55/69 [00:00<00:00, 86.28it/s]\u001b[A\n",
      " 91%|#########1| 63/69 [00:00<00:00, 81.72it/s]\u001b[A\n",
      " 24%|██▍       | 193/792 [00:08<01:23,  7.17it/s]A"
     ]
    },
    {
     "name": "stdout",
     "output_type": "stream",
     "text": [
      "{'ade': 0.47192168, 'fde': 1.0186423}\n",
      "\t last loss:0.000423097, eval on validation:['ade: 0.47192168', 'fde: 1.0186423'], (best ade:0.46917227 at step 38700) \n"
     ]
    },
    {
     "name": "stderr",
     "output_type": "stream",
     "text": [
      " 62%|██████▏   | 490/792 [00:21<00:12, 24.04it/s]\n",
      "  0%|          | 0/69 [00:00<?, ?it/s]\u001b[A"
     ]
    },
    {
     "name": "stdout",
     "output_type": "stream",
     "text": [
      "\tsaving model 39300...\n",
      "\tdone\n",
      "Evaluating\n"
     ]
    },
    {
     "name": "stderr",
     "output_type": "stream",
     "text": [
      "\n",
      " 13%|#3        | 9/69 [00:00<00:00, 85.61it/s]\u001b[A\n",
      " 26%|##6       | 18/69 [00:00<00:00, 85.78it/s]\u001b[A\n",
      " 39%|###9      | 27/69 [00:00<00:00, 86.11it/s]\u001b[A\n",
      " 52%|#####2    | 36/69 [00:00<00:00, 86.13it/s]\u001b[A\n",
      " 65%|######5   | 45/69 [00:00<00:00, 85.12it/s]\u001b[A\n",
      " 77%|#######6  | 53/69 [00:00<00:00, 81.03it/s]\u001b[A\n",
      " 88%|########8 | 61/69 [00:00<00:00, 79.65it/s]\u001b[A\n",
      " 63%|██████▎   | 496/792 [00:22<00:33,  8.90it/s]A"
     ]
    },
    {
     "name": "stdout",
     "output_type": "stream",
     "text": [
      "{'ade': 0.4751347, 'fde': 1.0281019}\n",
      "\t last loss:0.000644895, eval on validation:['ade: 0.4751347', 'fde: 1.0281019'], (best ade:0.46917227 at step 38700) \n"
     ]
    },
    {
     "name": "stderr",
     "output_type": "stream",
     "text": [
      "100%|█████████▉| 790/792 [00:35<00:00, 21.03it/s]"
     ]
    },
    {
     "name": "stdout",
     "output_type": "stream",
     "text": [
      "\tsaving model 39600...\n"
     ]
    },
    {
     "name": "stderr",
     "output_type": "stream",
     "text": [
      "\n",
      "  0%|          | 0/69 [00:00<?, ?it/s]\u001b[A\n",
      " 10%|#         | 7/69 [00:00<00:00, 63.61it/s]\u001b[A"
     ]
    },
    {
     "name": "stdout",
     "output_type": "stream",
     "text": [
      "\tdone\n",
      "Evaluating\n"
     ]
    },
    {
     "name": "stderr",
     "output_type": "stream",
     "text": [
      "\n",
      " 17%|#7        | 12/69 [00:00<00:01, 55.86it/s]\u001b[A\n",
      " 28%|##7       | 19/69 [00:00<00:00, 58.89it/s]\u001b[A\n",
      " 38%|###7      | 26/69 [00:00<00:00, 60.96it/s]\u001b[A\n",
      " 48%|####7     | 33/69 [00:00<00:00, 62.61it/s]\u001b[A\n",
      " 58%|#####7    | 40/69 [00:00<00:00, 64.56it/s]\u001b[A\n",
      " 70%|######9   | 48/69 [00:00<00:00, 67.72it/s]\u001b[A\n",
      " 81%|########1 | 56/69 [00:00<00:00, 69.46it/s]\u001b[A\n",
      " 93%|#########2| 64/69 [00:00<00:00, 71.86it/s]\u001b[A\n",
      "100%|██████████| 792/792 [00:36<00:00, 21.73it/s]A\n",
      "  0%|          | 0/792 [00:00<?, ?it/s]"
     ]
    },
    {
     "name": "stdout",
     "output_type": "stream",
     "text": [
      "{'ade': 0.4792183, 'fde': 1.0380514}\n",
      "\t last loss:0.000372672, eval on validation:['ade: 0.4792183', 'fde: 1.0380514'], (best ade:0.46917227 at step 38700) \n",
      "('Epoca 51.', 'lr:', 3.4395645e-05)\n"
     ]
    },
    {
     "name": "stderr",
     "output_type": "stream",
     "text": [
      " 38%|███▊      | 298/792 [00:12<00:20, 24.42it/s]\n",
      "  0%|          | 0/69 [00:00<?, ?it/s]\u001b[A"
     ]
    },
    {
     "name": "stdout",
     "output_type": "stream",
     "text": [
      "\tsaving model 39900...\n",
      "\tdone\n",
      "Evaluating\n"
     ]
    },
    {
     "name": "stderr",
     "output_type": "stream",
     "text": [
      "\n",
      " 13%|#3        | 9/69 [00:00<00:00, 84.54it/s]\u001b[A\n",
      " 26%|##6       | 18/69 [00:00<00:00, 85.27it/s]\u001b[A\n",
      " 39%|###9      | 27/69 [00:00<00:00, 85.76it/s]\u001b[A\n",
      " 52%|#####2    | 36/69 [00:00<00:00, 86.15it/s]\u001b[A\n",
      " 62%|######2   | 43/69 [00:00<00:00, 79.42it/s]\u001b[A\n",
      " 74%|#######3  | 51/69 [00:00<00:00, 79.29it/s]\u001b[A\n",
      " 87%|########6 | 60/69 [00:00<00:00, 81.22it/s]\u001b[A\n",
      " 38%|███▊      | 304/792 [00:13<00:54,  8.94it/s]A"
     ]
    },
    {
     "name": "stdout",
     "output_type": "stream",
     "text": [
      "{'ade': 0.4798569, 'fde': 1.039274}\n",
      "\t last loss:0.000325185, eval on validation:['ade: 0.4798569', 'fde: 1.039274'], (best ade:0.46917227 at step 38700) \n"
     ]
    },
    {
     "name": "stderr",
     "output_type": "stream",
     "text": [
      " 76%|███████▌  | 598/792 [00:26<00:07, 24.59it/s]\n",
      "  0%|          | 0/69 [00:00<?, ?it/s]\u001b[A"
     ]
    },
    {
     "name": "stdout",
     "output_type": "stream",
     "text": [
      "\tsaving model 40200...\n",
      "\tdone\n",
      "Evaluating\n"
     ]
    },
    {
     "name": "stderr",
     "output_type": "stream",
     "text": [
      "\n",
      " 13%|#3        | 9/69 [00:00<00:00, 82.90it/s]\u001b[A\n",
      " 26%|##6       | 18/69 [00:00<00:00, 82.83it/s]\u001b[A\n",
      " 39%|###9      | 27/69 [00:00<00:00, 83.65it/s]\u001b[A\n",
      " 51%|#####     | 35/69 [00:00<00:00, 80.41it/s]\u001b[A\n",
      " 62%|######2   | 43/69 [00:00<00:00, 79.57it/s]\u001b[A\n",
      " 75%|#######5  | 52/69 [00:00<00:00, 81.13it/s]\u001b[A\n",
      " 88%|########8 | 61/69 [00:00<00:00, 82.45it/s]\u001b[A\n",
      "100%|##########| 69/69 [00:00<00:00, 81.80it/s]\u001b[A"
     ]
    },
    {
     "name": "stdout",
     "output_type": "stream",
     "text": [
      "{'ade': 0.4668638, 'fde': 1.0039859}\n",
      "\t last loss:0.000362148, eval on validation:['ade: 0.4668638', 'fde: 1.0039859'], (best ade:0.46917227 at step 38700) \n",
      "\t saving best model...\n",
      "\t done.\n"
     ]
    },
    {
     "name": "stderr",
     "output_type": "stream",
     "text": [
      "100%|██████████| 792/792 [00:35<00:00, 22.48it/s]\n",
      "  0%|          | 1/792 [00:00<01:33,  8.44it/s]"
     ]
    },
    {
     "name": "stdout",
     "output_type": "stream",
     "text": [
      "('Epoca 52.', 'lr:', 3.4395645e-05)\n"
     ]
    },
    {
     "name": "stderr",
     "output_type": "stream",
     "text": [
      " 13%|█▎        | 106/792 [00:04<00:26, 25.94it/s]\n",
      "  0%|          | 0/69 [00:00<?, ?it/s]\u001b[A"
     ]
    },
    {
     "name": "stdout",
     "output_type": "stream",
     "text": [
      "\tsaving model 40500...\n",
      "\tdone\n",
      "Evaluating\n"
     ]
    },
    {
     "name": "stderr",
     "output_type": "stream",
     "text": [
      "\n",
      " 13%|#3        | 9/69 [00:00<00:00, 83.24it/s]\u001b[A\n",
      " 26%|##6       | 18/69 [00:00<00:00, 83.70it/s]\u001b[A\n",
      " 39%|###9      | 27/69 [00:00<00:00, 85.00it/s]\u001b[A\n",
      " 52%|#####2    | 36/69 [00:00<00:00, 84.91it/s]\u001b[A\n",
      " 62%|######2   | 43/69 [00:00<00:00, 76.90it/s]\u001b[A\n",
      " 75%|#######5  | 52/69 [00:00<00:00, 79.50it/s]\u001b[A\n",
      " 87%|########6 | 60/69 [00:00<00:00, 79.43it/s]\u001b[A\n",
      " 14%|█▍        | 112/792 [00:05<01:15,  9.02it/s]A"
     ]
    },
    {
     "name": "stdout",
     "output_type": "stream",
     "text": [
      "{'ade': 0.4736655, 'fde': 1.0239403}\n",
      "\t last loss:0.000332057, eval on validation:['ade: 0.4736655', 'fde: 1.0239403'], (best ade:0.4668638 at step 40200) \n"
     ]
    },
    {
     "name": "stderr",
     "output_type": "stream",
     "text": [
      " 51%|█████▏    | 406/792 [00:17<00:18, 21.06it/s]"
     ]
    },
    {
     "name": "stdout",
     "output_type": "stream",
     "text": [
      "\tsaving model 40800...\n"
     ]
    },
    {
     "name": "stderr",
     "output_type": "stream",
     "text": [
      "\n",
      "  0%|          | 0/69 [00:00<?, ?it/s]\u001b[A\n",
      " 10%|#         | 7/69 [00:00<00:00, 64.01it/s]\u001b[A"
     ]
    },
    {
     "name": "stdout",
     "output_type": "stream",
     "text": [
      "\tdone\n",
      "Evaluating\n"
     ]
    },
    {
     "name": "stderr",
     "output_type": "stream",
     "text": [
      "\n",
      " 19%|#8        | 13/69 [00:00<00:00, 62.17it/s]\u001b[A\n",
      " 29%|##8       | 20/69 [00:00<00:00, 62.76it/s]\u001b[A\n",
      " 36%|###6      | 25/69 [00:00<00:00, 57.76it/s]\u001b[A\n",
      " 46%|####6     | 32/69 [00:00<00:00, 59.53it/s]\u001b[A\n",
      " 57%|#####6    | 39/69 [00:00<00:00, 61.41it/s]\u001b[A\n",
      " 67%|######6   | 46/69 [00:00<00:00, 63.15it/s]\u001b[A\n",
      " 77%|#######6  | 53/69 [00:00<00:00, 63.49it/s]\u001b[A\n",
      " 87%|########6 | 60/69 [00:00<00:00, 64.67it/s]\u001b[A\n",
      " 97%|#########7| 67/69 [00:01<00:00, 65.51it/s]\u001b[A\n",
      " 52%|█████▏    | 409/792 [00:18<01:09,  5.53it/s]A"
     ]
    },
    {
     "name": "stdout",
     "output_type": "stream",
     "text": [
      "{'ade': 0.47863114, 'fde': 1.038346}\n",
      "\t last loss:0.000348863, eval on validation:['ade: 0.47863114', 'fde: 1.038346'], (best ade:0.4668638 at step 40200) \n"
     ]
    },
    {
     "name": "stderr",
     "output_type": "stream",
     "text": [
      " 89%|████████▉ | 707/792 [00:31<00:03, 26.41it/s]\n",
      "  0%|          | 0/69 [00:00<?, ?it/s]\u001b[A"
     ]
    },
    {
     "name": "stdout",
     "output_type": "stream",
     "text": [
      "\tsaving model 41100...\n",
      "\tdone\n",
      "Evaluating\n"
     ]
    },
    {
     "name": "stderr",
     "output_type": "stream",
     "text": [
      "\n",
      " 14%|#4        | 10/69 [00:00<00:00, 94.90it/s]\u001b[A\n",
      " 29%|##8       | 20/69 [00:00<00:00, 95.35it/s]\u001b[A\n",
      " 43%|####3     | 30/69 [00:00<00:00, 95.00it/s]\u001b[A\n",
      " 58%|#####7    | 40/69 [00:00<00:00, 94.60it/s]\u001b[A\n",
      " 70%|######9   | 48/69 [00:00<00:00, 88.61it/s]\u001b[A\n",
      " 84%|########4 | 58/69 [00:00<00:00, 89.49it/s]\u001b[A\n",
      " 97%|#########7| 67/69 [00:00<00:00, 89.31it/s]\u001b[A\n",
      " 90%|████████▉ | 710/792 [00:32<00:10,  7.61it/s]A"
     ]
    },
    {
     "name": "stdout",
     "output_type": "stream",
     "text": [
      "{'ade': 0.47583342, 'fde': 1.0286047}\n",
      "\t last loss:0.000369021, eval on validation:['ade: 0.47583342', 'fde: 1.0286047'], (best ade:0.4668638 at step 40200) \n"
     ]
    },
    {
     "name": "stderr",
     "output_type": "stream",
     "text": [
      "100%|██████████| 792/792 [00:35<00:00, 22.27it/s]\n",
      "  0%|          | 1/792 [00:00<01:38,  8.06it/s]"
     ]
    },
    {
     "name": "stdout",
     "output_type": "stream",
     "text": [
      "('Epoca 53.', 'lr:', 2.92363e-05)\n"
     ]
    },
    {
     "name": "stderr",
     "output_type": "stream",
     "text": [
      " 27%|██▋       | 213/792 [00:09<00:23, 25.10it/s]\n",
      "  0%|          | 0/69 [00:00<?, ?it/s]\u001b[A"
     ]
    },
    {
     "name": "stdout",
     "output_type": "stream",
     "text": [
      "\tsaving model 41400...\n",
      "\tdone\n",
      "Evaluating\n"
     ]
    },
    {
     "name": "stderr",
     "output_type": "stream",
     "text": [
      "\n",
      " 10%|#         | 7/69 [00:00<00:00, 63.47it/s]\u001b[A\n",
      " 23%|##3       | 16/69 [00:00<00:00, 67.94it/s]\u001b[A\n",
      " 36%|###6      | 25/69 [00:00<00:00, 72.57it/s]\u001b[A\n",
      " 49%|####9     | 34/69 [00:00<00:00, 75.89it/s]\u001b[A\n",
      " 62%|######2   | 43/69 [00:00<00:00, 78.28it/s]\u001b[A\n",
      " 75%|#######5  | 52/69 [00:00<00:00, 80.55it/s]\u001b[A\n",
      " 88%|########8 | 61/69 [00:00<00:00, 81.97it/s]\u001b[A\n",
      " 28%|██▊       | 219/792 [00:11<01:04,  8.91it/s]A"
     ]
    },
    {
     "name": "stdout",
     "output_type": "stream",
     "text": [
      "{'ade': 0.47236842, 'fde': 1.0210913}\n",
      "\t last loss:0.000365612, eval on validation:['ade: 0.47236842', 'fde: 1.0210913'], (best ade:0.4668638 at step 40200) \n"
     ]
    },
    {
     "name": "stderr",
     "output_type": "stream",
     "text": [
      " 65%|██████▍   | 513/792 [00:22<00:10, 26.65it/s]\n",
      "  0%|          | 0/69 [00:00<?, ?it/s]\u001b[A"
     ]
    },
    {
     "name": "stdout",
     "output_type": "stream",
     "text": [
      "\tsaving model 41700...\n",
      "\tdone\n",
      "Evaluating\n"
     ]
    },
    {
     "name": "stderr",
     "output_type": "stream",
     "text": [
      "\n",
      " 14%|#4        | 10/69 [00:00<00:00, 92.23it/s]\u001b[A\n",
      " 29%|##8       | 20/69 [00:00<00:00, 93.20it/s]\u001b[A\n",
      " 41%|####      | 28/69 [00:00<00:00, 86.70it/s]\u001b[A\n",
      " 55%|#####5    | 38/69 [00:00<00:00, 88.90it/s]\u001b[A\n",
      " 68%|######8   | 47/69 [00:00<00:00, 88.64it/s]\u001b[A\n",
      " 83%|########2 | 57/69 [00:00<00:00, 89.42it/s]\u001b[A\n",
      " 97%|#########7| 67/69 [00:00<00:00, 91.35it/s]\u001b[A\n",
      " 66%|██████▌   | 519/792 [00:23<00:28,  9.68it/s]A"
     ]
    },
    {
     "name": "stdout",
     "output_type": "stream",
     "text": [
      "{'ade': 0.4755357, 'fde': 1.030274}\n",
      "\t last loss:0.000322684, eval on validation:['ade: 0.4755357', 'fde: 1.030274'], (best ade:0.4668638 at step 40200) \n"
     ]
    },
    {
     "name": "stderr",
     "output_type": "stream",
     "text": [
      "100%|██████████| 792/792 [00:35<00:00, 23.13it/s]\n",
      "  0%|          | 2/792 [00:00<00:41, 19.03it/s]"
     ]
    },
    {
     "name": "stdout",
     "output_type": "stream",
     "text": [
      "('Epoca 54.', 'lr:', 2.92363e-05)\n"
     ]
    },
    {
     "name": "stderr",
     "output_type": "stream",
     "text": [
      "  3%|▎         | 22/792 [00:00<00:34, 22.38it/s]\n",
      "  0%|          | 0/69 [00:00<?, ?it/s]\u001b[A"
     ]
    },
    {
     "name": "stdout",
     "output_type": "stream",
     "text": [
      "\tsaving model 42000...\n",
      "\tdone\n",
      "Evaluating\n"
     ]
    },
    {
     "name": "stderr",
     "output_type": "stream",
     "text": [
      "\n",
      " 13%|#3        | 9/69 [00:00<00:00, 83.13it/s]\u001b[A\n",
      " 25%|##4       | 17/69 [00:00<00:00, 81.75it/s]\u001b[A\n",
      " 35%|###4      | 24/69 [00:00<00:00, 75.75it/s]\u001b[A\n",
      " 48%|####7     | 33/69 [00:00<00:00, 78.35it/s]\u001b[A\n",
      " 61%|######    | 42/69 [00:00<00:00, 80.36it/s]\u001b[A\n",
      " 74%|#######3  | 51/69 [00:00<00:00, 81.15it/s]\u001b[A\n",
      " 87%|########6 | 60/69 [00:00<00:00, 82.44it/s]\u001b[A\n",
      "  4%|▎         | 28/792 [00:02<01:28,  8.68it/s][A"
     ]
    },
    {
     "name": "stdout",
     "output_type": "stream",
     "text": [
      "{'ade': 0.48079777, 'fde': 1.0425028}\n",
      "\t last loss:0.000475752, eval on validation:['ade: 0.48079777', 'fde: 1.0425028'], (best ade:0.4668638 at step 40200) \n"
     ]
    },
    {
     "name": "stderr",
     "output_type": "stream",
     "text": [
      " 41%|████      | 322/792 [00:14<00:22, 20.86it/s]"
     ]
    },
    {
     "name": "stdout",
     "output_type": "stream",
     "text": [
      "\tsaving model 42300...\n"
     ]
    },
    {
     "name": "stderr",
     "output_type": "stream",
     "text": [
      "\n",
      "  0%|          | 0/69 [00:00<?, ?it/s]\u001b[A\n",
      "  9%|8         | 6/69 [00:00<00:01, 58.98it/s]\u001b[A\n",
      " 16%|#5        | 11/69 [00:00<00:01, 55.28it/s]\u001b[A\n",
      " 26%|##6       | 18/69 [00:00<00:00, 58.21it/s]\u001b[A\n",
      " 36%|###6      | 25/69 [00:00<00:00, 60.29it/s]\u001b[A\n",
      " 46%|####6     | 32/69 [00:00<00:00, 61.92it/s]\u001b[A\n",
      " 57%|#####6    | 39/69 [00:00<00:00, 63.23it/s]\u001b[A\n",
      " 67%|######6   | 46/69 [00:00<00:00, 63.92it/s]\u001b[A\n",
      " 77%|#######6  | 53/69 [00:00<00:00, 64.32it/s]\u001b[A\n",
      " 87%|########6 | 60/69 [00:00<00:00, 64.52it/s]\u001b[A\n",
      " 97%|#########7| 67/69 [00:01<00:00, 65.62it/s]\u001b[A\n",
      " 41%|████      | 325/792 [00:15<01:25,  5.48it/s]A"
     ]
    },
    {
     "name": "stdout",
     "output_type": "stream",
     "text": [
      "\tdone\n",
      "Evaluating\n",
      "{'ade': 0.4706816, 'fde': 1.0157957}\n",
      "\t last loss:0.000376721, eval on validation:['ade: 0.4706816', 'fde: 1.0157957'], (best ade:0.4668638 at step 40200) \n"
     ]
    },
    {
     "name": "stderr",
     "output_type": "stream",
     "text": [
      " 78%|███████▊  | 621/792 [00:28<00:06, 26.58it/s]\n",
      "  0%|          | 0/69 [00:00<?, ?it/s]\u001b[A"
     ]
    },
    {
     "name": "stdout",
     "output_type": "stream",
     "text": [
      "\tsaving model 42600...\n",
      "\tdone\n",
      "Evaluating\n"
     ]
    },
    {
     "name": "stderr",
     "output_type": "stream",
     "text": [
      "\n",
      " 13%|#3        | 9/69 [00:00<00:00, 89.69it/s]\u001b[A\n",
      " 26%|##6       | 18/69 [00:00<00:00, 89.10it/s]\u001b[A\n",
      " 39%|###9      | 27/69 [00:00<00:00, 87.11it/s]\u001b[A\n",
      " 54%|#####3    | 37/69 [00:00<00:00, 88.86it/s]\u001b[A\n",
      " 68%|######8   | 47/69 [00:00<00:00, 90.62it/s]\u001b[A\n",
      " 83%|########2 | 57/69 [00:00<00:00, 90.98it/s]\u001b[A\n",
      " 97%|#########7| 67/69 [00:00<00:00, 92.50it/s]\u001b[A\n",
      " 79%|███████▉  | 627/792 [00:29<00:16,  9.71it/s]A"
     ]
    },
    {
     "name": "stdout",
     "output_type": "stream",
     "text": [
      "{'ade': 0.47536787, 'fde': 1.0271614}\n",
      "\t last loss:0.000481980, eval on validation:['ade: 0.47536787', 'fde: 1.0271614'], (best ade:0.4668638 at step 40200) \n"
     ]
    },
    {
     "name": "stderr",
     "output_type": "stream",
     "text": [
      "100%|██████████| 792/792 [00:35<00:00, 25.71it/s]\n",
      "  0%|          | 3/792 [00:00<00:31, 24.77it/s]"
     ]
    },
    {
     "name": "stdout",
     "output_type": "stream",
     "text": [
      "('Epoca 55.', 'lr:', 2.4850853e-05)\n"
     ]
    },
    {
     "name": "stderr",
     "output_type": "stream",
     "text": [
      " 16%|█▋        | 129/792 [00:05<00:27, 24.55it/s]\n",
      "  0%|          | 0/69 [00:00<?, ?it/s]\u001b[A"
     ]
    },
    {
     "name": "stdout",
     "output_type": "stream",
     "text": [
      "\tsaving model 42900...\n",
      "\tdone\n",
      "Evaluating\n"
     ]
    },
    {
     "name": "stderr",
     "output_type": "stream",
     "text": [
      "\n",
      " 10%|#         | 7/69 [00:00<00:00, 68.58it/s]\u001b[A\n",
      " 20%|##        | 14/69 [00:00<00:00, 68.63it/s]\u001b[A\n",
      " 30%|###       | 21/69 [00:00<00:00, 68.04it/s]\u001b[A\n",
      " 39%|###9      | 27/69 [00:00<00:00, 62.71it/s]\u001b[A\n",
      " 49%|####9     | 34/69 [00:00<00:00, 63.58it/s]\u001b[A\n",
      " 59%|#####9    | 41/69 [00:00<00:00, 64.80it/s]\u001b[A\n",
      " 70%|######9   | 48/69 [00:00<00:00, 65.13it/s]\u001b[A\n",
      " 80%|#######9  | 55/69 [00:00<00:00, 65.71it/s]\u001b[A\n",
      " 90%|########9 | 62/69 [00:00<00:00, 65.47it/s]\u001b[A\n",
      " 17%|█▋        | 132/792 [00:06<01:49,  6.01it/s]A"
     ]
    },
    {
     "name": "stdout",
     "output_type": "stream",
     "text": [
      "{'ade': 0.4716433, 'fde': 1.0177312}\n",
      "\t last loss:0.000628620, eval on validation:['ade: 0.4716433', 'fde: 1.0177312'], (best ade:0.4668638 at step 40200) \n"
     ]
    },
    {
     "name": "stderr",
     "output_type": "stream",
     "text": [
      " 54%|█████▍    | 430/792 [00:19<00:13, 26.53it/s]\n",
      "  0%|          | 0/69 [00:00<?, ?it/s]\u001b[A"
     ]
    },
    {
     "name": "stdout",
     "output_type": "stream",
     "text": [
      "\tsaving model 43200...\n",
      "\tdone\n",
      "Evaluating\n"
     ]
    },
    {
     "name": "stderr",
     "output_type": "stream",
     "text": [
      "\n",
      " 14%|#4        | 10/69 [00:00<00:00, 92.04it/s]\u001b[A\n",
      " 28%|##7       | 19/69 [00:00<00:00, 90.57it/s]\u001b[A\n",
      " 39%|###9      | 27/69 [00:00<00:00, 86.48it/s]\u001b[A\n",
      " 52%|#####2    | 36/69 [00:00<00:00, 87.39it/s]\u001b[A\n",
      " 67%|######6   | 46/69 [00:00<00:00, 89.48it/s]\u001b[A\n",
      " 81%|########1 | 56/69 [00:00<00:00, 90.93it/s]\u001b[A\n",
      " 94%|#########4| 65/69 [00:00<00:00, 90.09it/s]\u001b[A\n",
      " 55%|█████▌    | 436/792 [00:20<00:37,  9.59it/s]A"
     ]
    },
    {
     "name": "stdout",
     "output_type": "stream",
     "text": [
      "{'ade': 0.47204673, 'fde': 1.0196204}\n",
      "\t last loss:0.000512749, eval on validation:['ade: 0.47204673', 'fde: 1.0196204'], (best ade:0.4668638 at step 40200) \n"
     ]
    },
    {
     "name": "stderr",
     "output_type": "stream",
     "text": [
      " 92%|█████████▏| 730/792 [00:33<00:02, 22.96it/s]\n",
      "  0%|          | 0/69 [00:00<?, ?it/s]\u001b[A"
     ]
    },
    {
     "name": "stdout",
     "output_type": "stream",
     "text": [
      "\tsaving model 43500...\n",
      "\tdone\n",
      "Evaluating\n"
     ]
    },
    {
     "name": "stderr",
     "output_type": "stream",
     "text": [
      "\n",
      " 13%|#3        | 9/69 [00:00<00:00, 84.89it/s]\u001b[A\n",
      " 26%|##6       | 18/69 [00:00<00:00, 83.93it/s]\u001b[A\n",
      " 38%|###7      | 26/69 [00:00<00:00, 80.53it/s]\u001b[A\n",
      " 51%|#####     | 35/69 [00:00<00:00, 81.14it/s]\u001b[A\n",
      " 64%|######3   | 44/69 [00:00<00:00, 81.89it/s]\u001b[A\n",
      " 77%|#######6  | 53/69 [00:00<00:00, 83.40it/s]\u001b[A\n",
      " 90%|########9 | 62/69 [00:00<00:00, 83.12it/s]\u001b[A\n",
      " 93%|█████████▎| 736/792 [00:34<00:06,  8.73it/s]A"
     ]
    },
    {
     "name": "stdout",
     "output_type": "stream",
     "text": [
      "{'ade': 0.47820234, 'fde': 1.0370201}\n",
      "\t last loss:0.000366002, eval on validation:['ade: 0.47820234', 'fde: 1.0370201'], (best ade:0.4668638 at step 40200) \n"
     ]
    },
    {
     "name": "stderr",
     "output_type": "stream",
     "text": [
      "100%|██████████| 792/792 [00:36<00:00, 21.51it/s]\n",
      "  0%|          | 3/792 [00:00<00:35, 22.06it/s]"
     ]
    },
    {
     "name": "stdout",
     "output_type": "stream",
     "text": [
      "('Epoca 56.', 'lr:', 2.4850853e-05)\n"
     ]
    },
    {
     "name": "stderr",
     "output_type": "stream",
     "text": [
      " 30%|██▉       | 237/792 [00:09<00:26, 21.30it/s]"
     ]
    },
    {
     "name": "stdout",
     "output_type": "stream",
     "text": [
      "\tsaving model 43800...\n"
     ]
    },
    {
     "name": "stderr",
     "output_type": "stream",
     "text": [
      "\n",
      "  0%|          | 0/69 [00:00<?, ?it/s]\u001b[A\n",
      "  9%|8         | 6/69 [00:00<00:01, 57.91it/s]\u001b[A\n",
      " 17%|#7        | 12/69 [00:00<00:00, 58.45it/s]\u001b[A\n",
      " 26%|##6       | 18/69 [00:00<00:00, 58.78it/s]\u001b[A\n",
      " 36%|###6      | 25/69 [00:00<00:00, 61.00it/s]\u001b[A\n",
      " 46%|####6     | 32/69 [00:00<00:00, 62.86it/s]\u001b[A\n",
      " 57%|#####6    | 39/69 [00:00<00:00, 64.39it/s]\u001b[A\n",
      " 67%|######6   | 46/69 [00:00<00:00, 65.21it/s]\u001b[A\n",
      " 77%|#######6  | 53/69 [00:00<00:00, 66.17it/s]\u001b[A\n",
      " 87%|########6 | 60/69 [00:00<00:00, 66.19it/s]\u001b[A\n",
      " 97%|#########7| 67/69 [00:01<00:00, 66.73it/s]\u001b[A\n",
      " 31%|███       | 242/792 [00:11<01:17,  7.05it/s]A"
     ]
    },
    {
     "name": "stdout",
     "output_type": "stream",
     "text": [
      "\tdone\n",
      "Evaluating\n",
      "{'ade': 0.47144064, 'fde': 1.0172712}\n",
      "\t last loss:0.000487263, eval on validation:['ade: 0.47144064', 'fde: 1.0172712'], (best ade:0.4668638 at step 40200) \n"
     ]
    },
    {
     "name": "stderr",
     "output_type": "stream",
     "text": [
      " 68%|██████▊   | 539/792 [00:23<00:09, 26.88it/s]\n",
      "  0%|          | 0/69 [00:00<?, ?it/s]\u001b[A"
     ]
    },
    {
     "name": "stdout",
     "output_type": "stream",
     "text": [
      "\tsaving model 44100...\n",
      "\tdone\n",
      "Evaluating\n"
     ]
    },
    {
     "name": "stderr",
     "output_type": "stream",
     "text": [
      "\n",
      " 12%|#1        | 8/69 [00:00<00:00, 77.60it/s]\u001b[A\n",
      " 26%|##6       | 18/69 [00:00<00:00, 81.58it/s]\u001b[A\n",
      " 41%|####      | 28/69 [00:00<00:00, 85.28it/s]\u001b[A\n",
      " 55%|#####5    | 38/69 [00:00<00:00, 87.08it/s]\u001b[A\n",
      " 70%|######9   | 48/69 [00:00<00:00, 88.99it/s]\u001b[A\n",
      " 84%|########4 | 58/69 [00:00<00:00, 90.08it/s]\u001b[A\n",
      " 99%|#########8| 68/69 [00:00<00:00, 91.30it/s]\u001b[A\n",
      " 68%|██████▊   | 542/792 [00:24<00:33,  7.56it/s]A"
     ]
    },
    {
     "name": "stdout",
     "output_type": "stream",
     "text": [
      "{'ade': 0.47677562, 'fde': 1.0320842}\n",
      "\t last loss:0.000430321, eval on validation:['ade: 0.47677562', 'fde: 1.0320842'], (best ade:0.4668638 at step 40200) \n"
     ]
    },
    {
     "name": "stderr",
     "output_type": "stream",
     "text": [
      "100%|██████████| 792/792 [00:35<00:00, 22.07it/s]\n",
      "  0%|          | 1/792 [00:00<01:47,  7.35it/s]"
     ]
    },
    {
     "name": "stdout",
     "output_type": "stream",
     "text": [
      "('Epoca 57.', 'lr:', 2.1123227e-05)\n"
     ]
    },
    {
     "name": "stderr",
     "output_type": "stream",
     "text": [
      "  6%|▌         | 45/792 [00:02<00:30, 24.19it/s]\n",
      "  0%|          | 0/69 [00:00<?, ?it/s]\u001b[A"
     ]
    },
    {
     "name": "stdout",
     "output_type": "stream",
     "text": [
      "\tsaving model 44400...\n",
      "\tdone\n",
      "Evaluating\n"
     ]
    },
    {
     "name": "stderr",
     "output_type": "stream",
     "text": [
      "\n",
      " 13%|#3        | 9/69 [00:00<00:00, 81.68it/s]\u001b[A\n",
      " 26%|##6       | 18/69 [00:00<00:00, 81.60it/s]\u001b[A\n",
      " 39%|###9      | 27/69 [00:00<00:00, 82.40it/s]\u001b[A\n",
      " 52%|#####2    | 36/69 [00:00<00:00, 83.43it/s]\u001b[A\n",
      " 65%|######5   | 45/69 [00:00<00:00, 83.84it/s]\u001b[A\n",
      " 78%|#######8  | 54/69 [00:00<00:00, 84.80it/s]\u001b[A\n",
      " 90%|########9 | 62/69 [00:00<00:00, 82.92it/s]\u001b[A\n",
      "  6%|▋         | 51/792 [00:03<01:24,  8.79it/s][A"
     ]
    },
    {
     "name": "stdout",
     "output_type": "stream",
     "text": [
      "{'ade': 0.47443354, 'fde': 1.0258192}\n",
      "\t last loss:0.000368117, eval on validation:['ade: 0.47443354', 'fde: 1.0258192'], (best ade:0.4668638 at step 40200) \n"
     ]
    },
    {
     "name": "stderr",
     "output_type": "stream",
     "text": [
      " 44%|████▎     | 345/792 [00:15<00:22, 20.17it/s]"
     ]
    },
    {
     "name": "stdout",
     "output_type": "stream",
     "text": [
      "\tsaving model 44700...\n"
     ]
    },
    {
     "name": "stderr",
     "output_type": "stream",
     "text": [
      "\n",
      "  0%|          | 0/69 [00:00<?, ?it/s]\u001b[A\n",
      " 10%|#         | 7/69 [00:00<00:00, 66.74it/s]\u001b[A\n",
      " 20%|##        | 14/69 [00:00<00:00, 66.61it/s]\u001b[A\n",
      " 30%|###       | 21/69 [00:00<00:00, 66.98it/s]\u001b[A\n",
      " 41%|####      | 28/69 [00:00<00:00, 65.70it/s]\u001b[A\n",
      " 49%|####9     | 34/69 [00:00<00:00, 62.18it/s]\u001b[A\n",
      " 59%|#####9    | 41/69 [00:00<00:00, 62.54it/s]\u001b[A\n",
      " 70%|######9   | 48/69 [00:00<00:00, 64.36it/s]\u001b[A\n",
      " 80%|#######9  | 55/69 [00:00<00:00, 65.30it/s]\u001b[A\n",
      " 90%|########9 | 62/69 [00:00<00:00, 65.76it/s]\u001b[A\n",
      " 44%|████▍     | 351/792 [00:16<01:01,  7.19it/s]A"
     ]
    },
    {
     "name": "stdout",
     "output_type": "stream",
     "text": [
      "\tdone\n",
      "Evaluating\n",
      "{'ade': 0.47609168, 'fde': 1.0302829}\n",
      "\t last loss:0.000253639, eval on validation:['ade: 0.47609168', 'fde: 1.0302829'], (best ade:0.4668638 at step 40200) \n"
     ]
    },
    {
     "name": "stderr",
     "output_type": "stream",
     "text": [
      " 82%|████████▏ | 646/792 [00:28<00:05, 27.05it/s]\n",
      "  0%|          | 0/69 [00:00<?, ?it/s]\u001b[A"
     ]
    },
    {
     "name": "stdout",
     "output_type": "stream",
     "text": [
      "\tsaving model 45000...\n",
      "\tdone\n",
      "Evaluating\n"
     ]
    },
    {
     "name": "stderr",
     "output_type": "stream",
     "text": [
      "\n",
      " 10%|#         | 7/69 [00:00<00:00, 68.65it/s]\u001b[A\n",
      " 23%|##3       | 16/69 [00:00<00:00, 72.87it/s]\u001b[A\n",
      " 36%|###6      | 25/69 [00:00<00:00, 76.49it/s]\u001b[A\n",
      " 49%|####9     | 34/69 [00:00<00:00, 78.18it/s]\u001b[A\n",
      " 62%|######2   | 43/69 [00:00<00:00, 79.83it/s]\u001b[A\n",
      " 75%|#######5  | 52/69 [00:00<00:00, 81.18it/s]\u001b[A\n",
      " 88%|########8 | 61/69 [00:00<00:00, 82.84it/s]\u001b[A\n",
      " 82%|████████▏ | 649/792 [00:30<00:20,  7.10it/s]A"
     ]
    },
    {
     "name": "stdout",
     "output_type": "stream",
     "text": [
      "{'ade': 0.4737706, 'fde': 1.0222417}\n",
      "\t last loss:0.000274176, eval on validation:['ade: 0.4737706', 'fde: 1.0222417'], (best ade:0.4668638 at step 40200) \n"
     ]
    },
    {
     "name": "stderr",
     "output_type": "stream",
     "text": [
      "100%|██████████| 792/792 [00:36<00:00, 20.67it/s]\n",
      "  0%|          | 1/792 [00:00<01:26,  9.14it/s]"
     ]
    },
    {
     "name": "stdout",
     "output_type": "stream",
     "text": [
      "('Epoca 58.', 'lr:', 2.1123227e-05)\n"
     ]
    },
    {
     "name": "stderr",
     "output_type": "stream",
     "text": [
      " 19%|█▉        | 153/792 [00:06<00:26, 24.17it/s]\n",
      "  0%|          | 0/69 [00:00<?, ?it/s]\u001b[A"
     ]
    },
    {
     "name": "stdout",
     "output_type": "stream",
     "text": [
      "\tsaving model 45300...\n",
      "\tdone\n",
      "Evaluating\n"
     ]
    },
    {
     "name": "stderr",
     "output_type": "stream",
     "text": [
      "\n",
      " 12%|#1        | 8/69 [00:00<00:00, 79.80it/s]\u001b[A\n",
      " 25%|##4       | 17/69 [00:00<00:00, 81.54it/s]\u001b[A\n",
      " 38%|###7      | 26/69 [00:00<00:00, 82.68it/s]\u001b[A\n",
      " 49%|####9     | 34/69 [00:00<00:00, 81.13it/s]\u001b[A\n",
      " 61%|######    | 42/69 [00:00<00:00, 80.67it/s]\u001b[A\n",
      " 71%|#######1  | 49/69 [00:00<00:00, 76.11it/s]\u001b[A\n",
      " 84%|########4 | 58/69 [00:00<00:00, 78.13it/s]\u001b[A\n",
      " 96%|#########5| 66/69 [00:00<00:00, 78.37it/s]\u001b[A\n",
      " 20%|██        | 159/792 [00:07<01:12,  8.72it/s]A"
     ]
    },
    {
     "name": "stdout",
     "output_type": "stream",
     "text": [
      "{'ade': 0.4764733, 'fde': 1.0312443}\n",
      "\t last loss:0.000718566, eval on validation:['ade: 0.4764733', 'fde: 1.0312443'], (best ade:0.4668638 at step 40200) \n"
     ]
    },
    {
     "name": "stderr",
     "output_type": "stream",
     "text": [
      " 57%|█████▋    | 453/792 [00:19<00:12, 26.28it/s]\n",
      "  0%|          | 0/69 [00:00<?, ?it/s]\u001b[A"
     ]
    },
    {
     "name": "stdout",
     "output_type": "stream",
     "text": [
      "\tsaving model 45600...\n",
      "\tdone\n",
      "Evaluating\n"
     ]
    },
    {
     "name": "stderr",
     "output_type": "stream",
     "text": [
      "\n",
      " 13%|#3        | 9/69 [00:00<00:00, 89.06it/s]\u001b[A\n",
      " 28%|##7       | 19/69 [00:00<00:00, 90.81it/s]\u001b[A\n",
      " 42%|####2     | 29/69 [00:00<00:00, 91.89it/s]\u001b[A\n",
      " 55%|#####5    | 38/69 [00:00<00:00, 91.17it/s]\u001b[A\n",
      " 70%|######9   | 48/69 [00:00<00:00, 91.81it/s]\u001b[A\n",
      " 83%|########2 | 57/69 [00:00<00:00, 90.13it/s]\u001b[A\n",
      " 96%|#########5| 66/69 [00:00<00:00, 87.58it/s]\u001b[A\n",
      " 58%|█████▊    | 459/792 [00:20<00:35,  9.34it/s]A"
     ]
    },
    {
     "name": "stdout",
     "output_type": "stream",
     "text": [
      "{'ade': 0.47557846, 'fde': 1.028888}\n",
      "\t last loss:0.000513684, eval on validation:['ade: 0.47557846', 'fde: 1.028888'], (best ade:0.4668638 at step 40200) \n"
     ]
    },
    {
     "name": "stderr",
     "output_type": "stream",
     "text": [
      " 95%|█████████▌| 753/792 [00:32<00:01, 24.59it/s]"
     ]
    },
    {
     "name": "stdout",
     "output_type": "stream",
     "text": [
      "\tsaving model 45900...\n"
     ]
    },
    {
     "name": "stderr",
     "output_type": "stream",
     "text": [
      "\n",
      "  0%|          | 0/69 [00:00<?, ?it/s]\u001b[A\n",
      " 10%|#         | 7/69 [00:00<00:00, 67.41it/s]\u001b[A"
     ]
    },
    {
     "name": "stdout",
     "output_type": "stream",
     "text": [
      "\tdone\n",
      "Evaluating\n"
     ]
    },
    {
     "name": "stderr",
     "output_type": "stream",
     "text": [
      "\n",
      " 20%|##        | 14/69 [00:00<00:00, 65.76it/s]\u001b[A\n",
      " 30%|###       | 21/69 [00:00<00:00, 65.92it/s]\u001b[A\n",
      " 41%|####      | 28/69 [00:00<00:00, 66.21it/s]\u001b[A\n",
      " 51%|#####     | 35/69 [00:00<00:00, 66.54it/s]\u001b[A\n",
      " 61%|######    | 42/69 [00:00<00:00, 66.12it/s]\u001b[A\n",
      " 71%|#######1  | 49/69 [00:00<00:00, 65.58it/s]\u001b[A\n",
      " 81%|########1 | 56/69 [00:00<00:00, 65.27it/s]\u001b[A\n",
      " 91%|#########1| 63/69 [00:00<00:00, 62.51it/s]\u001b[A\n",
      " 96%|█████████▌| 759/792 [00:33<00:04,  7.31it/s]A"
     ]
    },
    {
     "name": "stdout",
     "output_type": "stream",
     "text": [
      "{'ade': 0.47369227, 'fde': 1.0239472}\n",
      "\t last loss:0.001141924, eval on validation:['ade: 0.47369227', 'fde: 1.0239472'], (best ade:0.4668638 at step 40200) \n"
     ]
    },
    {
     "name": "stderr",
     "output_type": "stream",
     "text": [
      "100%|██████████| 792/792 [00:35<00:00, 22.32it/s]\n",
      "  0%|          | 2/792 [00:00<00:48, 16.38it/s]"
     ]
    },
    {
     "name": "stdout",
     "output_type": "stream",
     "text": [
      "('Epoca 59.', 'lr:', 1.7954744e-05)\n"
     ]
    },
    {
     "name": "stderr",
     "output_type": "stream",
     "text": [
      " 33%|███▎      | 261/792 [00:10<00:20, 26.42it/s]\n",
      "  0%|          | 0/69 [00:00<?, ?it/s]\u001b[A"
     ]
    },
    {
     "name": "stdout",
     "output_type": "stream",
     "text": [
      "\tsaving model 46200...\n",
      "\tdone\n",
      "Evaluating\n"
     ]
    },
    {
     "name": "stderr",
     "output_type": "stream",
     "text": [
      "\n",
      " 13%|#3        | 9/69 [00:00<00:00, 89.46it/s]\u001b[A\n",
      " 28%|##7       | 19/69 [00:00<00:00, 90.98it/s]\u001b[A\n",
      " 42%|####2     | 29/69 [00:00<00:00, 92.12it/s]\u001b[A\n",
      " 57%|#####6    | 39/69 [00:00<00:00, 92.05it/s]\u001b[A\n",
      " 71%|#######1  | 49/69 [00:00<00:00, 92.18it/s]\u001b[A\n",
      " 86%|########5 | 59/69 [00:00<00:00, 92.37it/s]\u001b[A\n",
      " 99%|#########8| 68/69 [00:00<00:00, 90.81it/s]\u001b[A\n",
      " 34%|███▎      | 267/792 [00:12<00:54,  9.63it/s]A"
     ]
    },
    {
     "name": "stdout",
     "output_type": "stream",
     "text": [
      "{'ade': 0.47336066, 'fde': 1.0226613}\n",
      "\t last loss:0.000328898, eval on validation:['ade: 0.47336066', 'fde: 1.0226613'], (best ade:0.4668638 at step 40200) \n"
     ]
    },
    {
     "name": "stderr",
     "output_type": "stream",
     "text": [
      " 71%|███████   | 562/792 [00:25<00:13, 17.60it/s]\n",
      "  0%|          | 0/69 [00:00<?, ?it/s]\u001b[A"
     ]
    },
    {
     "name": "stdout",
     "output_type": "stream",
     "text": [
      "\tsaving model 46500...\n",
      "\tdone\n",
      "Evaluating\n"
     ]
    },
    {
     "name": "stderr",
     "output_type": "stream",
     "text": [
      "\n",
      " 13%|#3        | 9/69 [00:00<00:00, 86.27it/s]\u001b[A\n",
      " 26%|##6       | 18/69 [00:00<00:00, 86.34it/s]\u001b[A\n",
      " 39%|###9      | 27/69 [00:00<00:00, 85.63it/s]\u001b[A\n",
      " 52%|#####2    | 36/69 [00:00<00:00, 84.05it/s]\u001b[A\n",
      " 65%|######5   | 45/69 [00:00<00:00, 84.50it/s]\u001b[A\n",
      " 78%|#######8  | 54/69 [00:00<00:00, 83.92it/s]\u001b[A\n",
      " 90%|########9 | 62/69 [00:00<00:00, 80.38it/s]\u001b[A\n",
      " 72%|███████▏  | 567/792 [00:26<00:35,  6.35it/s]A"
     ]
    },
    {
     "name": "stdout",
     "output_type": "stream",
     "text": [
      "{'ade': 0.4756912, 'fde': 1.0294302}\n",
      "\t last loss:0.000497787, eval on validation:['ade: 0.4756912', 'fde: 1.0294302'], (best ade:0.4668638 at step 40200) \n"
     ]
    },
    {
     "name": "stderr",
     "output_type": "stream",
     "text": [
      "100%|██████████| 792/792 [00:35<00:00, 24.31it/s]\n",
      "  0%|          | 1/792 [00:00<01:30,  8.78it/s]"
     ]
    },
    {
     "name": "stdout",
     "output_type": "stream",
     "text": [
      "('Epoca 60.', 'lr:', 1.7954744e-05)\n"
     ]
    },
    {
     "name": "stderr",
     "output_type": "stream",
     "text": [
      "  9%|▉         | 70/792 [00:03<00:34, 21.01it/s]"
     ]
    },
    {
     "name": "stdout",
     "output_type": "stream",
     "text": [
      "\tsaving model 46800...\n"
     ]
    },
    {
     "name": "stderr",
     "output_type": "stream",
     "text": [
      "\n",
      "  0%|          | 0/69 [00:00<?, ?it/s]\u001b[A\n",
      " 10%|#         | 7/69 [00:00<00:00, 62.52it/s]\u001b[A"
     ]
    },
    {
     "name": "stdout",
     "output_type": "stream",
     "text": [
      "\tdone\n",
      "Evaluating\n"
     ]
    },
    {
     "name": "stderr",
     "output_type": "stream",
     "text": [
      "\n",
      " 20%|##        | 14/69 [00:00<00:00, 63.52it/s]\u001b[A\n",
      " 29%|##8       | 20/69 [00:00<00:00, 60.79it/s]\u001b[A\n",
      " 39%|###9      | 27/69 [00:00<00:00, 61.27it/s]\u001b[A\n",
      " 49%|####9     | 34/69 [00:00<00:00, 61.82it/s]\u001b[A\n",
      " 59%|#####9    | 41/69 [00:00<00:00, 63.45it/s]\u001b[A\n",
      " 70%|######9   | 48/69 [00:00<00:00, 63.77it/s]\u001b[A\n",
      " 80%|#######9  | 55/69 [00:00<00:00, 65.13it/s]\u001b[A\n",
      " 90%|########9 | 62/69 [00:00<00:00, 65.53it/s]\u001b[A\n",
      "  9%|▉         | 73/792 [00:04<02:08,  5.58it/s][A"
     ]
    },
    {
     "name": "stdout",
     "output_type": "stream",
     "text": [
      "{'ade': 0.47569367, 'fde': 1.0303794}\n",
      "\t last loss:0.000480732, eval on validation:['ade: 0.47569367', 'fde: 1.0303794'], (best ade:0.4668638 at step 40200) \n"
     ]
    },
    {
     "name": "stderr",
     "output_type": "stream",
     "text": [
      " 47%|████▋     | 371/792 [00:16<00:16, 26.08it/s]\n",
      "  0%|          | 0/69 [00:00<?, ?it/s]\u001b[A"
     ]
    },
    {
     "name": "stdout",
     "output_type": "stream",
     "text": [
      "\tsaving model 47100...\n",
      "\tdone\n",
      "Evaluating\n"
     ]
    },
    {
     "name": "stderr",
     "output_type": "stream",
     "text": [
      "\n",
      " 13%|#3        | 9/69 [00:00<00:00, 89.27it/s]\u001b[A\n",
      " 28%|##7       | 19/69 [00:00<00:00, 90.42it/s]\u001b[A\n",
      " 42%|####2     | 29/69 [00:00<00:00, 90.84it/s]\u001b[A\n",
      " 55%|#####5    | 38/69 [00:00<00:00, 90.49it/s]\u001b[A\n",
      " 70%|######9   | 48/69 [00:00<00:00, 90.87it/s]\u001b[A\n",
      " 81%|########1 | 56/69 [00:00<00:00, 84.05it/s]\u001b[A\n",
      " 94%|#########4| 65/69 [00:00<00:00, 84.29it/s]\u001b[A\n",
      " 47%|████▋     | 374/792 [00:18<00:56,  7.36it/s]A"
     ]
    },
    {
     "name": "stdout",
     "output_type": "stream",
     "text": [
      "{'ade': 0.47328073, 'fde': 1.0230714}\n",
      "\t last loss:0.000271703, eval on validation:['ade: 0.47328073', 'fde: 1.0230714'], (best ade:0.4668638 at step 40200) \n"
     ]
    },
    {
     "name": "stderr",
     "output_type": "stream",
     "text": [
      " 85%|████████▍ | 671/792 [00:31<00:04, 24.86it/s]\n",
      "  0%|          | 0/69 [00:00<?, ?it/s]\u001b[A"
     ]
    },
    {
     "name": "stdout",
     "output_type": "stream",
     "text": [
      "\tsaving model 47400...\n",
      "\tdone\n",
      "Evaluating\n"
     ]
    },
    {
     "name": "stderr",
     "output_type": "stream",
     "text": [
      "\n",
      " 13%|#3        | 9/69 [00:00<00:00, 82.94it/s]\u001b[A\n",
      " 25%|##4       | 17/69 [00:00<00:00, 81.66it/s]\u001b[A\n",
      " 38%|###7      | 26/69 [00:00<00:00, 82.36it/s]\u001b[A\n",
      " 51%|#####     | 35/69 [00:00<00:00, 83.42it/s]\u001b[A\n",
      " 61%|######    | 42/69 [00:00<00:00, 78.44it/s]\u001b[A\n",
      " 74%|#######3  | 51/69 [00:00<00:00, 80.14it/s]\u001b[A\n",
      " 87%|########6 | 60/69 [00:00<00:00, 81.97it/s]\u001b[A\n",
      " 85%|████████▌ | 674/792 [00:32<00:16,  6.97it/s]A"
     ]
    },
    {
     "name": "stdout",
     "output_type": "stream",
     "text": [
      "{'ade': 0.4706214, 'fde': 1.0161369}\n",
      "\t last loss:0.000303608, eval on validation:['ade: 0.4706214', 'fde: 1.0161369'], (best ade:0.4668638 at step 40200) \n"
     ]
    },
    {
     "name": "stderr",
     "output_type": "stream",
     "text": [
      "100%|██████████| 792/792 [00:36<00:00, 21.47it/s]\n",
      "  0%|          | 1/792 [00:00<01:37,  8.09it/s]"
     ]
    },
    {
     "name": "stdout",
     "output_type": "stream",
     "text": [
      "('Epoca 61.', 'lr:', 1.5261532e-05)\n"
     ]
    },
    {
     "name": "stderr",
     "output_type": "stream",
     "text": [
      " 22%|██▏       | 178/792 [00:07<00:29, 20.71it/s]"
     ]
    },
    {
     "name": "stdout",
     "output_type": "stream",
     "text": [
      "\tsaving model 47700...\n"
     ]
    },
    {
     "name": "stderr",
     "output_type": "stream",
     "text": [
      "\n",
      "  0%|          | 0/69 [00:00<?, ?it/s]\u001b[A\n",
      " 10%|#         | 7/69 [00:00<00:00, 65.07it/s]\u001b[A\n",
      " 17%|#7        | 12/69 [00:00<00:00, 58.33it/s]\u001b[A\n",
      " 23%|##3       | 16/69 [00:00<00:01, 49.28it/s]\u001b[A\n",
      " 30%|###       | 21/69 [00:00<00:01, 47.63it/s]\u001b[A\n",
      " 38%|###7      | 26/69 [00:00<00:00, 47.08it/s]\u001b[A\n",
      " 45%|####4     | 31/69 [00:00<00:00, 46.97it/s]\u001b[A\n",
      " 54%|#####3    | 37/69 [00:00<00:00, 48.84it/s]\u001b[A\n",
      " 64%|######3   | 44/69 [00:00<00:00, 52.48it/s]\u001b[A\n",
      " 75%|#######5  | 52/69 [00:00<00:00, 57.69it/s]\u001b[A\n",
      " 87%|########6 | 60/69 [00:01<00:00, 62.44it/s]\u001b[A\n",
      " 99%|#########8| 68/69 [00:01<00:00, 65.97it/s]\u001b[A\n",
      " 23%|██▎       | 181/792 [00:09<01:57,  5.21it/s]A"
     ]
    },
    {
     "name": "stdout",
     "output_type": "stream",
     "text": [
      "\tdone\n",
      "Evaluating\n",
      "{'ade': 0.4731907, 'fde': 1.022071}\n",
      "\t last loss:0.000282207, eval on validation:['ade: 0.4731907', 'fde: 1.022071'], (best ade:0.4668638 at step 40200) \n"
     ]
    },
    {
     "name": "stderr",
     "output_type": "stream",
     "text": [
      " 60%|██████    | 478/792 [00:21<00:12, 25.20it/s]\n",
      "  0%|          | 0/69 [00:00<?, ?it/s]\u001b[A"
     ]
    },
    {
     "name": "stdout",
     "output_type": "stream",
     "text": [
      "\tsaving model 48000...\n",
      "\tdone\n",
      "Evaluating\n"
     ]
    },
    {
     "name": "stderr",
     "output_type": "stream",
     "text": [
      "\n",
      " 13%|#3        | 9/69 [00:00<00:00, 81.38it/s]\u001b[A\n",
      " 26%|##6       | 18/69 [00:00<00:00, 82.74it/s]\u001b[A\n",
      " 38%|###7      | 26/69 [00:00<00:00, 81.06it/s]\u001b[A\n",
      " 51%|#####     | 35/69 [00:00<00:00, 81.53it/s]\u001b[A\n",
      " 64%|######3   | 44/69 [00:00<00:00, 82.63it/s]\u001b[A\n",
      " 77%|#######6  | 53/69 [00:00<00:00, 83.68it/s]\u001b[A\n",
      " 90%|########9 | 62/69 [00:00<00:00, 84.06it/s]\u001b[A\n",
      " 61%|██████    | 481/792 [00:22<00:43,  7.08it/s]A"
     ]
    },
    {
     "name": "stdout",
     "output_type": "stream",
     "text": [
      "{'ade': 0.47482046, 'fde': 1.0268387}\n",
      "\t last loss:0.000239873, eval on validation:['ade: 0.47482046', 'fde: 1.0268387'], (best ade:0.4668638 at step 40200) \n"
     ]
    },
    {
     "name": "stderr",
     "output_type": "stream",
     "text": [
      " 98%|█████████▊| 777/792 [00:35<00:00, 25.20it/s]\n",
      "  0%|          | 0/69 [00:00<?, ?it/s]\u001b[A"
     ]
    },
    {
     "name": "stdout",
     "output_type": "stream",
     "text": [
      "\tsaving model 48300...\n",
      "\tdone\n",
      "Evaluating\n"
     ]
    },
    {
     "name": "stderr",
     "output_type": "stream",
     "text": [
      "\n",
      " 12%|#1        | 8/69 [00:00<00:00, 75.32it/s]\u001b[A\n",
      " 25%|##4       | 17/69 [00:00<00:00, 77.25it/s]\u001b[A\n",
      " 38%|###7      | 26/69 [00:00<00:00, 79.63it/s]\u001b[A\n",
      " 51%|#####     | 35/69 [00:00<00:00, 80.76it/s]\u001b[A\n",
      " 64%|######3   | 44/69 [00:00<00:00, 81.43it/s]\u001b[A\n",
      " 77%|#######6  | 53/69 [00:00<00:00, 82.37it/s]\u001b[A\n",
      " 90%|########9 | 62/69 [00:00<00:00, 83.44it/s]\u001b[A\n",
      " 99%|█████████▉| 783/792 [00:36<00:01,  8.91it/s]A"
     ]
    },
    {
     "name": "stdout",
     "output_type": "stream",
     "text": [
      "{'ade': 0.47308016, 'fde': 1.0231737}\n",
      "\t last loss:0.000612865, eval on validation:['ade: 0.47308016', 'fde: 1.0231737'], (best ade:0.4668638 at step 40200) \n"
     ]
    },
    {
     "name": "stderr",
     "output_type": "stream",
     "text": [
      "100%|██████████| 792/792 [00:37<00:00, 15.56it/s]\n",
      "  0%|          | 1/792 [00:00<01:30,  8.76it/s]"
     ]
    },
    {
     "name": "stdout",
     "output_type": "stream",
     "text": [
      "('Epoca 62.', 'lr:', 1.5261532e-05)\n"
     ]
    },
    {
     "name": "stderr",
     "output_type": "stream",
     "text": [
      " 36%|███▌      | 286/792 [00:12<00:22, 22.54it/s]\n",
      "  0%|          | 0/69 [00:00<?, ?it/s]\u001b[A"
     ]
    },
    {
     "name": "stdout",
     "output_type": "stream",
     "text": [
      "\tsaving model 48600...\n",
      "\tdone\n",
      "Evaluating\n"
     ]
    },
    {
     "name": "stderr",
     "output_type": "stream",
     "text": [
      "\n",
      " 12%|#1        | 8/69 [00:00<00:00, 77.09it/s]\u001b[A\n",
      " 23%|##3       | 16/69 [00:00<00:00, 77.15it/s]\u001b[A\n",
      " 35%|###4      | 24/69 [00:00<00:00, 75.09it/s]\u001b[A\n",
      " 46%|####6     | 32/69 [00:00<00:00, 74.81it/s]\u001b[A\n",
      " 58%|#####7    | 40/69 [00:00<00:00, 75.21it/s]\u001b[A\n",
      " 70%|######9   | 48/69 [00:00<00:00, 75.76it/s]\u001b[A\n",
      " 81%|########1 | 56/69 [00:00<00:00, 75.99it/s]\u001b[A\n",
      " 93%|#########2| 64/69 [00:00<00:00, 76.75it/s]\u001b[A\n",
      " 36%|███▋      | 289/792 [00:13<01:19,  6.32it/s]A"
     ]
    },
    {
     "name": "stdout",
     "output_type": "stream",
     "text": [
      "{'ade': 0.47293025, 'fde': 1.0212517}\n",
      "\t last loss:0.000326596, eval on validation:['ade: 0.47293025', 'fde: 1.0212517'], (best ade:0.4668638 at step 40200) \n"
     ]
    },
    {
     "name": "stderr",
     "output_type": "stream",
     "text": [
      " 74%|███████▍  | 585/792 [00:25<00:08, 25.10it/s]\n",
      "  0%|          | 0/69 [00:00<?, ?it/s]\u001b[A"
     ]
    },
    {
     "name": "stdout",
     "output_type": "stream",
     "text": [
      "\tsaving model 48900...\n",
      "\tdone\n",
      "Evaluating\n"
     ]
    },
    {
     "name": "stderr",
     "output_type": "stream",
     "text": [
      "\n",
      " 13%|#3        | 9/69 [00:00<00:00, 80.25it/s]\u001b[A\n",
      " 25%|##4       | 17/69 [00:00<00:00, 80.16it/s]\u001b[A\n",
      " 38%|###7      | 26/69 [00:00<00:00, 81.30it/s]\u001b[A\n",
      " 51%|#####     | 35/69 [00:00<00:00, 82.94it/s]\u001b[A\n",
      " 64%|######3   | 44/69 [00:00<00:00, 83.49it/s]\u001b[A\n",
      " 77%|#######6  | 53/69 [00:00<00:00, 83.41it/s]\u001b[A\n",
      " 90%|########9 | 62/69 [00:00<00:00, 84.14it/s]\u001b[A\n",
      " 75%|███████▍  | 591/792 [00:26<00:22,  8.90it/s]A"
     ]
    },
    {
     "name": "stdout",
     "output_type": "stream",
     "text": [
      "{'ade': 0.47055715, 'fde': 1.015078}\n",
      "\t last loss:0.000185456, eval on validation:['ade: 0.47055715', 'fde: 1.015078'], (best ade:0.4668638 at step 40200) \n"
     ]
    },
    {
     "name": "stderr",
     "output_type": "stream",
     "text": [
      "100%|██████████| 792/792 [00:36<00:00, 19.29it/s]\n",
      "  0%|          | 2/792 [00:00<00:51, 15.25it/s]"
     ]
    },
    {
     "name": "stdout",
     "output_type": "stream",
     "text": [
      "('Epoca 63.', 'lr:', 1.2972303e-05)\n"
     ]
    },
    {
     "name": "stderr",
     "output_type": "stream",
     "text": [
      " 12%|█▏        | 95/792 [00:03<00:27, 25.10it/s]\n",
      "  0%|          | 0/69 [00:00<?, ?it/s]\u001b[A"
     ]
    },
    {
     "name": "stdout",
     "output_type": "stream",
     "text": [
      "\tsaving model 49200...\n",
      "\tdone\n",
      "Evaluating\n"
     ]
    },
    {
     "name": "stderr",
     "output_type": "stream",
     "text": [
      "\n",
      " 13%|#3        | 9/69 [00:00<00:00, 87.16it/s]\u001b[A\n",
      " 28%|##7       | 19/69 [00:00<00:00, 89.39it/s]\u001b[A\n",
      " 41%|####      | 28/69 [00:00<00:00, 88.96it/s]\u001b[A\n",
      " 55%|#####5    | 38/69 [00:00<00:00, 90.60it/s]\u001b[A\n",
      " 68%|######8   | 47/69 [00:00<00:00, 90.09it/s]\u001b[A\n",
      " 81%|########1 | 56/69 [00:00<00:00, 88.34it/s]\u001b[A\n",
      " 96%|#########5| 66/69 [00:00<00:00, 89.38it/s]\u001b[A\n",
      " 12%|█▏        | 98/792 [00:04<01:32,  7.49it/s][A"
     ]
    },
    {
     "name": "stdout",
     "output_type": "stream",
     "text": [
      "{'ade': 0.47340363, 'fde': 1.0236331}\n",
      "\t last loss:0.000265382, eval on validation:['ade: 0.47340363', 'fde: 1.0236331'], (best ade:0.4668638 at step 40200) \n"
     ]
    },
    {
     "name": "stderr",
     "output_type": "stream",
     "text": [
      " 50%|████▉     | 395/792 [00:16<00:15, 24.90it/s]\n",
      "  0%|          | 0/69 [00:00<?, ?it/s]\u001b[A"
     ]
    },
    {
     "name": "stdout",
     "output_type": "stream",
     "text": [
      "\tsaving model 49500...\n",
      "\tdone\n",
      "Evaluating\n"
     ]
    },
    {
     "name": "stderr",
     "output_type": "stream",
     "text": [
      "\n",
      " 13%|#3        | 9/69 [00:00<00:00, 83.89it/s]\u001b[A\n",
      " 26%|##6       | 18/69 [00:00<00:00, 84.28it/s]\u001b[A\n",
      " 39%|###9      | 27/69 [00:00<00:00, 84.36it/s]\u001b[A\n",
      " 52%|#####2    | 36/69 [00:00<00:00, 84.53it/s]\u001b[A\n",
      " 65%|######5   | 45/69 [00:00<00:00, 83.75it/s]\u001b[A\n",
      " 77%|#######6  | 53/69 [00:00<00:00, 82.19it/s]\u001b[A\n",
      " 90%|########9 | 62/69 [00:00<00:00, 83.02it/s]\u001b[A\n",
      " 50%|█████     | 398/792 [00:17<00:57,  6.89it/s]A"
     ]
    },
    {
     "name": "stdout",
     "output_type": "stream",
     "text": [
      "{'ade': 0.4742751, 'fde': 1.0260102}\n",
      "\t last loss:0.000346665, eval on validation:['ade: 0.4742751', 'fde: 1.0260102'], (best ade:0.4668638 at step 40200) \n"
     ]
    },
    {
     "name": "stderr",
     "output_type": "stream",
     "text": [
      " 88%|████████▊ | 695/792 [00:31<00:03, 24.62it/s]\n",
      "  0%|          | 0/69 [00:00<?, ?it/s]\u001b[A"
     ]
    },
    {
     "name": "stdout",
     "output_type": "stream",
     "text": [
      "\tsaving model 49800...\n",
      "\tdone\n",
      "Evaluating\n"
     ]
    },
    {
     "name": "stderr",
     "output_type": "stream",
     "text": [
      "\n",
      " 13%|#3        | 9/69 [00:00<00:00, 85.73it/s]\u001b[A\n",
      " 25%|##4       | 17/69 [00:00<00:00, 83.57it/s]\u001b[A\n",
      " 38%|###7      | 26/69 [00:00<00:00, 83.35it/s]\u001b[A\n",
      " 51%|#####     | 35/69 [00:00<00:00, 84.12it/s]\u001b[A\n",
      " 62%|######2   | 43/69 [00:00<00:00, 80.66it/s]\u001b[A\n",
      " 75%|#######5  | 52/69 [00:00<00:00, 82.39it/s]\u001b[A\n",
      " 90%|########9 | 62/69 [00:00<00:00, 85.55it/s]\u001b[A\n",
      " 88%|████████▊ | 698/792 [00:32<00:13,  7.17it/s]A"
     ]
    },
    {
     "name": "stdout",
     "output_type": "stream",
     "text": [
      "{'ade': 0.47479618, 'fde': 1.027899}\n",
      "\t last loss:0.000435470, eval on validation:['ade: 0.47479618', 'fde: 1.027899'], (best ade:0.4668638 at step 40200) \n"
     ]
    },
    {
     "name": "stderr",
     "output_type": "stream",
     "text": [
      "100%|██████████| 792/792 [00:35<00:00, 22.15it/s]\n",
      "  0%|          | 3/792 [00:00<00:33, 23.51it/s]"
     ]
    },
    {
     "name": "stdout",
     "output_type": "stream",
     "text": [
      "('Epoca 64.', 'lr:', 1.2972303e-05)\n"
     ]
    },
    {
     "name": "stderr",
     "output_type": "stream",
     "text": [
      " 25%|██▌       | 201/792 [00:08<00:26, 22.42it/s]\n"
     ]
    },
    {
     "name": "stdout",
     "output_type": "stream",
     "text": [
      "\tsaving model 50100...\n",
      "\tdone\n",
      "Evaluating\n"
     ]
    },
    {
     "name": "stderr",
     "output_type": "stream",
     "text": [
      "  0%|          | 0/69 [00:00<?, ?it/s]\u001b[A\n",
      " 12%|#1        | 8/69 [00:00<00:00, 76.99it/s]\u001b[A\n",
      " 23%|##3       | 16/69 [00:00<00:00, 76.82it/s]\u001b[A\n",
      " 35%|###4      | 24/69 [00:00<00:00, 77.37it/s]\u001b[A\n",
      " 46%|####6     | 32/69 [00:00<00:00, 76.23it/s]\u001b[A\n",
      " 58%|#####7    | 40/69 [00:00<00:00, 76.44it/s]\u001b[A\n",
      " 70%|######9   | 48/69 [00:00<00:00, 77.04it/s]\u001b[A\n",
      " 81%|########1 | 56/69 [00:00<00:00, 76.56it/s]\u001b[A\n",
      " 93%|#########2| 64/69 [00:00<00:00, 69.90it/s]\u001b[A\n",
      " 26%|██▌       | 207/792 [00:10<01:13,  7.91it/s]A"
     ]
    },
    {
     "name": "stdout",
     "output_type": "stream",
     "text": [
      "{'ade': 0.47402635, 'fde': 1.0263053}\n",
      "\t last loss:0.000259927, eval on validation:['ade: 0.47402635', 'fde: 1.0263053'], (best ade:0.4668638 at step 40200) \n"
     ]
    },
    {
     "name": "stderr",
     "output_type": "stream",
     "text": [
      " 63%|██████▎   | 501/792 [00:22<00:11, 24.50it/s]\n",
      "  0%|          | 0/69 [00:00<?, ?it/s]\u001b[A"
     ]
    },
    {
     "name": "stdout",
     "output_type": "stream",
     "text": [
      "\tsaving model 50400...\n",
      "\tdone\n",
      "Evaluating\n"
     ]
    },
    {
     "name": "stderr",
     "output_type": "stream",
     "text": [
      "\n",
      " 13%|#3        | 9/69 [00:00<00:00, 80.46it/s]\u001b[A\n",
      " 26%|##6       | 18/69 [00:00<00:00, 81.64it/s]\u001b[A\n",
      " 39%|###9      | 27/69 [00:00<00:00, 82.73it/s]\u001b[A\n",
      " 52%|#####2    | 36/69 [00:00<00:00, 83.19it/s]\u001b[A\n",
      " 64%|######3   | 44/69 [00:00<00:00, 81.66it/s]\u001b[A\n",
      " 75%|#######5  | 52/69 [00:00<00:00, 81.12it/s]\u001b[A\n",
      " 88%|########8 | 61/69 [00:00<00:00, 81.82it/s]\u001b[A\n",
      " 64%|██████▍   | 507/792 [00:23<00:31,  8.93it/s]A"
     ]
    },
    {
     "name": "stdout",
     "output_type": "stream",
     "text": [
      "{'ade': 0.46988526, 'fde': 1.0135534}\n",
      "\t last loss:0.000404602, eval on validation:['ade: 0.46988526', 'fde: 1.0135534'], (best ade:0.4668638 at step 40200) \n"
     ]
    },
    {
     "name": "stderr",
     "output_type": "stream",
     "text": [
      "100%|██████████| 792/792 [00:36<00:00, 24.56it/s]\n",
      "  0%|          | 3/792 [00:00<00:35, 22.37it/s]"
     ]
    },
    {
     "name": "stdout",
     "output_type": "stream",
     "text": [
      "('Epoca 65.', 'lr:', 1.1026457e-05)\n"
     ]
    },
    {
     "name": "stderr",
     "output_type": "stream",
     "text": [
      "  1%|          | 9/792 [00:00<00:32, 24.24it/s]\n",
      "  0%|          | 0/69 [00:00<?, ?it/s]\u001b[A"
     ]
    },
    {
     "name": "stdout",
     "output_type": "stream",
     "text": [
      "\tsaving model 50700...\n",
      "\tdone\n",
      "Evaluating\n"
     ]
    },
    {
     "name": "stderr",
     "output_type": "stream",
     "text": [
      "\n",
      " 13%|#3        | 9/69 [00:00<00:00, 90.00it/s]\u001b[A\n",
      " 28%|##7       | 19/69 [00:00<00:00, 91.00it/s]\u001b[A\n",
      " 42%|####2     | 29/69 [00:00<00:00, 91.88it/s]\u001b[A\n",
      " 54%|#####3    | 37/69 [00:00<00:00, 87.72it/s]\u001b[A\n",
      " 68%|######8   | 47/69 [00:00<00:00, 89.43it/s]\u001b[A\n",
      " 83%|########2 | 57/69 [00:00<00:00, 90.21it/s]\u001b[A\n",
      " 97%|#########7| 67/69 [00:00<00:00, 90.98it/s]\u001b[A\n",
      "  2%|▏         | 15/792 [00:01<01:22,  9.44it/s][A"
     ]
    },
    {
     "name": "stdout",
     "output_type": "stream",
     "text": [
      "{'ade': 0.4739186, 'fde': 1.0248194}\n",
      "\t last loss:0.000431977, eval on validation:['ade: 0.4739186', 'fde: 1.0248194'], (best ade:0.4668638 at step 40200) \n"
     ]
    },
    {
     "name": "stderr",
     "output_type": "stream",
     "text": [
      " 39%|███▉      | 309/792 [00:13<00:19, 24.33it/s]\n",
      "  0%|          | 0/69 [00:00<?, ?it/s]\u001b[A"
     ]
    },
    {
     "name": "stdout",
     "output_type": "stream",
     "text": [
      "\tsaving model 51000...\n",
      "\tdone\n",
      "Evaluating\n"
     ]
    },
    {
     "name": "stderr",
     "output_type": "stream",
     "text": [
      "\n",
      " 13%|#3        | 9/69 [00:00<00:00, 87.83it/s]\u001b[A\n",
      " 26%|##6       | 18/69 [00:00<00:00, 86.68it/s]\u001b[A\n",
      " 38%|###7      | 26/69 [00:00<00:00, 84.34it/s]\u001b[A\n",
      " 51%|#####     | 35/69 [00:00<00:00, 84.84it/s]\u001b[A\n",
      " 64%|######3   | 44/69 [00:00<00:00, 84.75it/s]\u001b[A\n",
      " 77%|#######6  | 53/69 [00:00<00:00, 84.83it/s]\u001b[A\n",
      " 88%|########8 | 61/69 [00:00<00:00, 81.01it/s]\u001b[A\n",
      " 40%|███▉      | 315/792 [00:14<00:53,  8.86it/s]A"
     ]
    },
    {
     "name": "stdout",
     "output_type": "stream",
     "text": [
      "{'ade': 0.4734932, 'fde': 1.02384}\n",
      "\t last loss:0.000367133, eval on validation:['ade: 0.4734932', 'fde: 1.02384'], (best ade:0.4668638 at step 40200) \n"
     ]
    },
    {
     "name": "stderr",
     "output_type": "stream",
     "text": [
      " 77%|███████▋  | 609/792 [00:27<00:07, 24.24it/s]\n",
      "  0%|          | 0/69 [00:00<?, ?it/s]\u001b[A"
     ]
    },
    {
     "name": "stdout",
     "output_type": "stream",
     "text": [
      "\tsaving model 51300...\n",
      "\tdone\n",
      "Evaluating\n"
     ]
    },
    {
     "name": "stderr",
     "output_type": "stream",
     "text": [
      "\n",
      " 12%|#1        | 8/69 [00:00<00:00, 79.47it/s]\u001b[A\n",
      " 23%|##3       | 16/69 [00:00<00:00, 78.78it/s]\u001b[A\n",
      " 36%|###6      | 25/69 [00:00<00:00, 80.89it/s]\u001b[A\n",
      " 49%|####9     | 34/69 [00:00<00:00, 81.87it/s]\u001b[A\n",
      " 62%|######2   | 43/69 [00:00<00:00, 82.35it/s]\u001b[A\n",
      " 74%|#######3  | 51/69 [00:00<00:00, 80.29it/s]\u001b[A\n",
      " 86%|########5 | 59/69 [00:00<00:00, 78.83it/s]\u001b[A\n",
      " 78%|███████▊  | 615/792 [00:28<00:19,  9.01it/s]A"
     ]
    },
    {
     "name": "stdout",
     "output_type": "stream",
     "text": [
      "{'ade': 0.47362918, 'fde': 1.0240453}\n",
      "\t last loss:0.000483927, eval on validation:['ade: 0.47362918', 'fde: 1.0240453'], (best ade:0.4668638 at step 40200) \n"
     ]
    },
    {
     "name": "stderr",
     "output_type": "stream",
     "text": [
      "100%|██████████| 792/792 [00:35<00:00, 24.61it/s]\n",
      "  0%|          | 1/792 [00:00<01:21,  9.72it/s]"
     ]
    },
    {
     "name": "stdout",
     "output_type": "stream",
     "text": [
      "('Epoca 66.', 'lr:', 1.1026457e-05)\n"
     ]
    },
    {
     "name": "stderr",
     "output_type": "stream",
     "text": [
      " 15%|█▍        | 118/792 [00:05<00:29, 22.77it/s]"
     ]
    },
    {
     "name": "stdout",
     "output_type": "stream",
     "text": [
      "\tsaving model 51600...\n"
     ]
    },
    {
     "name": "stderr",
     "output_type": "stream",
     "text": [
      "\n",
      "  0%|          | 0/69 [00:00<?, ?it/s]\u001b[A\n",
      " 12%|#1        | 8/69 [00:00<00:00, 79.44it/s]\u001b[A"
     ]
    },
    {
     "name": "stdout",
     "output_type": "stream",
     "text": [
      "\tdone\n",
      "Evaluating\n"
     ]
    },
    {
     "name": "stderr",
     "output_type": "stream",
     "text": [
      "\n",
      " 23%|##3       | 16/69 [00:00<00:00, 78.10it/s]\u001b[A\n",
      " 35%|###4      | 24/69 [00:00<00:00, 75.62it/s]\u001b[A\n",
      " 46%|####6     | 32/69 [00:00<00:00, 75.98it/s]\u001b[A\n",
      " 58%|#####7    | 40/69 [00:00<00:00, 76.59it/s]\u001b[A\n",
      " 70%|######9   | 48/69 [00:00<00:00, 76.36it/s]\u001b[A\n",
      " 81%|########1 | 56/69 [00:00<00:00, 75.70it/s]\u001b[A\n",
      " 91%|#########1| 63/69 [00:00<00:00, 71.07it/s]\u001b[A\n",
      " 15%|█▌        | 121/792 [00:06<01:49,  6.15it/s]A"
     ]
    },
    {
     "name": "stdout",
     "output_type": "stream",
     "text": [
      "{'ade': 0.47345588, 'fde': 1.0231081}\n",
      "\t last loss:0.000371521, eval on validation:['ade: 0.47345588', 'fde: 1.0231081'], (best ade:0.4668638 at step 40200) \n"
     ]
    },
    {
     "name": "stderr",
     "output_type": "stream",
     "text": [
      " 53%|█████▎    | 418/792 [00:19<00:14, 25.05it/s]\n",
      "  0%|          | 0/69 [00:00<?, ?it/s]\u001b[A"
     ]
    },
    {
     "name": "stdout",
     "output_type": "stream",
     "text": [
      "\tsaving model 51900...\n",
      "\tdone\n",
      "Evaluating\n"
     ]
    },
    {
     "name": "stderr",
     "output_type": "stream",
     "text": [
      "\n",
      " 13%|#3        | 9/69 [00:00<00:00, 83.12it/s]\u001b[A\n",
      " 26%|##6       | 18/69 [00:00<00:00, 83.96it/s]\u001b[A\n",
      " 39%|###9      | 27/69 [00:00<00:00, 83.47it/s]\u001b[A\n",
      " 51%|#####     | 35/69 [00:00<00:00, 80.10it/s]\u001b[A\n",
      " 64%|######3   | 44/69 [00:00<00:00, 81.42it/s]\u001b[A\n",
      " 77%|#######6  | 53/69 [00:00<00:00, 83.07it/s]\u001b[A\n",
      " 90%|########9 | 62/69 [00:00<00:00, 84.03it/s]\u001b[A\n",
      " 53%|█████▎    | 421/792 [00:20<00:53,  6.97it/s]A"
     ]
    },
    {
     "name": "stdout",
     "output_type": "stream",
     "text": [
      "{'ade': 0.47372326, 'fde': 1.0245887}\n",
      "\t last loss:0.000219075, eval on validation:['ade: 0.47372326', 'fde: 1.0245887'], (best ade:0.4668638 at step 40200) \n"
     ]
    },
    {
     "name": "stderr",
     "output_type": "stream",
     "text": [
      " 91%|█████████ | 717/792 [00:33<00:02, 25.37it/s]\n",
      "  0%|          | 0/69 [00:00<?, ?it/s]\u001b[A"
     ]
    },
    {
     "name": "stdout",
     "output_type": "stream",
     "text": [
      "\tsaving model 52200...\n",
      "\tdone\n",
      "Evaluating\n"
     ]
    },
    {
     "name": "stderr",
     "output_type": "stream",
     "text": [
      "\n",
      " 13%|#3        | 9/69 [00:00<00:00, 87.72it/s]\u001b[A\n",
      " 28%|##7       | 19/69 [00:00<00:00, 88.38it/s]\u001b[A\n",
      " 41%|####      | 28/69 [00:00<00:00, 88.22it/s]\u001b[A\n",
      " 55%|#####5    | 38/69 [00:00<00:00, 89.30it/s]\u001b[A\n",
      " 70%|######9   | 48/69 [00:00<00:00, 90.77it/s]\u001b[A\n",
      " 84%|########4 | 58/69 [00:00<00:00, 91.44it/s]\u001b[A\n",
      " 97%|#########7| 67/69 [00:00<00:00, 90.04it/s]\u001b[A\n",
      " 91%|█████████▏| 723/792 [00:34<00:07,  9.60it/s]A"
     ]
    },
    {
     "name": "stdout",
     "output_type": "stream",
     "text": [
      "{'ade': 0.47455192, 'fde': 1.0268314}\n",
      "\t last loss:0.000385867, eval on validation:['ade: 0.47455192', 'fde: 1.0268314'], (best ade:0.4668638 at step 40200) \n"
     ]
    },
    {
     "name": "stderr",
     "output_type": "stream",
     "text": [
      "100%|██████████| 792/792 [00:37<00:00, 25.74it/s]\n",
      "  0%|          | 3/792 [00:00<00:33, 23.21it/s]"
     ]
    },
    {
     "name": "stdout",
     "output_type": "stream",
     "text": [
      "('Epoca 67.', 'lr:', 9.37249e-06)\n"
     ]
    },
    {
     "name": "stderr",
     "output_type": "stream",
     "text": [
      " 28%|██▊       | 225/792 [00:08<00:23, 24.57it/s]\n",
      "  0%|          | 0/69 [00:00<?, ?it/s]\u001b[A"
     ]
    },
    {
     "name": "stdout",
     "output_type": "stream",
     "text": [
      "\tsaving model 52500...\n",
      "\tdone\n",
      "Evaluating\n"
     ]
    },
    {
     "name": "stderr",
     "output_type": "stream",
     "text": [
      "\n",
      " 13%|#3        | 9/69 [00:00<00:00, 82.83it/s]\u001b[A\n",
      " 26%|##6       | 18/69 [00:00<00:00, 84.00it/s]\u001b[A\n",
      " 39%|###9      | 27/69 [00:00<00:00, 84.90it/s]\u001b[A\n",
      " 52%|#####2    | 36/69 [00:00<00:00, 84.76it/s]\u001b[A\n",
      " 64%|######3   | 44/69 [00:00<00:00, 82.17it/s]\u001b[A\n",
      " 75%|#######5  | 52/69 [00:00<00:00, 81.38it/s]\u001b[A\n",
      " 88%|########8 | 61/69 [00:00<00:00, 81.44it/s]\u001b[A\n",
      " 29%|██▉       | 231/792 [00:10<01:03,  8.88it/s]A"
     ]
    },
    {
     "name": "stdout",
     "output_type": "stream",
     "text": [
      "{'ade': 0.4739933, 'fde': 1.0255668}\n",
      "\t last loss:0.000277443, eval on validation:['ade: 0.4739933', 'fde: 1.0255668'], (best ade:0.4668638 at step 40200) \n"
     ]
    },
    {
     "name": "stderr",
     "output_type": "stream",
     "text": [
      " 66%|██████▋   | 525/792 [00:23<00:10, 24.85it/s]\n",
      "  0%|          | 0/69 [00:00<?, ?it/s]\u001b[A"
     ]
    },
    {
     "name": "stdout",
     "output_type": "stream",
     "text": [
      "\tsaving model 52800...\n",
      "\tdone\n",
      "Evaluating\n"
     ]
    },
    {
     "name": "stderr",
     "output_type": "stream",
     "text": [
      "\n",
      " 12%|#1        | 8/69 [00:00<00:00, 79.84it/s]\u001b[A\n",
      " 25%|##4       | 17/69 [00:00<00:00, 81.10it/s]\u001b[A\n",
      " 36%|###6      | 25/69 [00:00<00:00, 79.24it/s]\u001b[A\n",
      " 48%|####7     | 33/69 [00:00<00:00, 78.81it/s]\u001b[A\n",
      " 61%|######    | 42/69 [00:00<00:00, 80.24it/s]\u001b[A\n",
      " 75%|#######5  | 52/69 [00:00<00:00, 84.07it/s]\u001b[A\n",
      " 90%|########9 | 62/69 [00:00<00:00, 86.53it/s]\u001b[A\n",
      " 67%|██████▋   | 531/792 [00:24<00:28,  9.04it/s]A"
     ]
    },
    {
     "name": "stdout",
     "output_type": "stream",
     "text": [
      "{'ade': 0.47187018, 'fde': 1.0194653}\n",
      "\t last loss:0.000248308, eval on validation:['ade: 0.47187018', 'fde: 1.0194653'], (best ade:0.4668638 at step 40200) \n"
     ]
    },
    {
     "name": "stderr",
     "output_type": "stream",
     "text": [
      "100%|██████████| 792/792 [00:35<00:00, 22.36it/s]\n",
      "  0%|          | 1/792 [00:00<01:31,  8.68it/s]"
     ]
    },
    {
     "name": "stdout",
     "output_type": "stream",
     "text": [
      "('Epoca 68.', 'lr:', 9.37249e-06)\n"
     ]
    },
    {
     "name": "stderr",
     "output_type": "stream",
     "text": [
      "  4%|▍         | 35/792 [00:01<00:34, 22.25it/s]\n",
      "  0%|          | 0/69 [00:00<?, ?it/s]\u001b[A"
     ]
    },
    {
     "name": "stdout",
     "output_type": "stream",
     "text": [
      "\tsaving model 53100...\n",
      "\tdone\n",
      "Evaluating\n"
     ]
    },
    {
     "name": "stderr",
     "output_type": "stream",
     "text": [
      "\n",
      " 12%|#1        | 8/69 [00:00<00:00, 75.50it/s]\u001b[A\n",
      " 23%|##3       | 16/69 [00:00<00:00, 75.44it/s]\u001b[A\n",
      " 35%|###4      | 24/69 [00:00<00:00, 75.55it/s]\u001b[A\n",
      " 45%|####4     | 31/69 [00:00<00:00, 72.30it/s]\u001b[A\n",
      " 57%|#####6    | 39/69 [00:00<00:00, 72.97it/s]\u001b[A\n",
      " 68%|######8   | 47/69 [00:00<00:00, 73.50it/s]\u001b[A\n",
      " 80%|#######9  | 55/69 [00:00<00:00, 74.41it/s]\u001b[A\n",
      " 91%|#########1| 63/69 [00:00<00:00, 73.77it/s]\u001b[A\n",
      "  5%|▍         | 38/792 [00:02<01:59,  6.30it/s][A"
     ]
    },
    {
     "name": "stdout",
     "output_type": "stream",
     "text": [
      "{'ade': 0.47192496, 'fde': 1.0197679}\n",
      "\t last loss:0.000455498, eval on validation:['ade: 0.47192496', 'fde: 1.0197679'], (best ade:0.4668638 at step 40200) \n"
     ]
    },
    {
     "name": "stderr",
     "output_type": "stream",
     "text": [
      " 42%|████▏     | 334/792 [00:14<00:18, 24.70it/s]\n",
      "  0%|          | 0/69 [00:00<?, ?it/s]\u001b[A"
     ]
    },
    {
     "name": "stdout",
     "output_type": "stream",
     "text": [
      "\tsaving model 53400...\n",
      "\tdone\n",
      "Evaluating\n"
     ]
    },
    {
     "name": "stderr",
     "output_type": "stream",
     "text": [
      "\n",
      " 13%|#3        | 9/69 [00:00<00:00, 82.03it/s]\u001b[A\n",
      " 26%|##6       | 18/69 [00:00<00:00, 82.86it/s]\u001b[A\n",
      " 36%|###6      | 25/69 [00:00<00:00, 75.28it/s]\u001b[A\n",
      " 48%|####7     | 33/69 [00:00<00:00, 75.55it/s]\u001b[A\n",
      " 61%|######    | 42/69 [00:00<00:00, 78.52it/s]\u001b[A\n",
      " 74%|#######3  | 51/69 [00:00<00:00, 80.84it/s]\u001b[A\n",
      " 86%|########5 | 59/69 [00:00<00:00, 79.69it/s]\u001b[A\n",
      " 99%|#########8| 68/69 [00:00<00:00, 81.19it/s]\u001b[A\n",
      " 43%|████▎     | 340/792 [00:16<00:51,  8.75it/s]A"
     ]
    },
    {
     "name": "stdout",
     "output_type": "stream",
     "text": [
      "{'ade': 0.47188032, 'fde': 1.0196197}\n",
      "\t last loss:0.000227274, eval on validation:['ade: 0.47188032', 'fde: 1.0196197'], (best ade:0.4668638 at step 40200) \n"
     ]
    },
    {
     "name": "stderr",
     "output_type": "stream",
     "text": [
      " 80%|████████  | 634/792 [00:28<00:07, 20.25it/s]"
     ]
    },
    {
     "name": "stdout",
     "output_type": "stream",
     "text": [
      "\tsaving model 53700...\n",
      "\tdone\n",
      "Evaluating\n"
     ]
    },
    {
     "name": "stderr",
     "output_type": "stream",
     "text": [
      "\n",
      "  0%|          | 0/69 [00:00<?, ?it/s]\u001b[A\n",
      " 10%|#         | 7/69 [00:00<00:00, 67.97it/s]\u001b[A\n",
      " 22%|##1       | 15/69 [00:00<00:00, 70.22it/s]\u001b[A\n",
      " 33%|###3      | 23/69 [00:00<00:00, 72.35it/s]\u001b[A\n",
      " 45%|####4     | 31/69 [00:00<00:00, 73.17it/s]\u001b[A\n",
      " 57%|#####6    | 39/69 [00:00<00:00, 74.33it/s]\u001b[A\n",
      " 68%|######8   | 47/69 [00:00<00:00, 74.06it/s]\u001b[A\n",
      " 78%|#######8  | 54/69 [00:00<00:00, 69.44it/s]\u001b[A\n",
      " 90%|########9 | 62/69 [00:00<00:00, 71.03it/s]\u001b[A\n",
      " 80%|████████  | 637/792 [00:29<00:25,  6.06it/s]A"
     ]
    },
    {
     "name": "stdout",
     "output_type": "stream",
     "text": [
      "{'ade': 0.4727281, 'fde': 1.0218854}\n",
      "\t last loss:0.000396332, eval on validation:['ade: 0.4727281', 'fde: 1.0218854'], (best ade:0.4668638 at step 40200) \n"
     ]
    },
    {
     "name": "stderr",
     "output_type": "stream",
     "text": [
      "100%|██████████| 792/792 [00:36<00:00, 21.83it/s]\n",
      "  0%|          | 2/792 [00:00<00:54, 14.56it/s]"
     ]
    },
    {
     "name": "stdout",
     "output_type": "stream",
     "text": [
      "('Epoca 69.', 'lr:', 7.966617e-06)\n"
     ]
    },
    {
     "name": "stderr",
     "output_type": "stream",
     "text": [
      " 18%|█▊        | 143/792 [00:05<00:26, 24.68it/s]\n",
      "  0%|          | 0/69 [00:00<?, ?it/s]\u001b[A"
     ]
    },
    {
     "name": "stdout",
     "output_type": "stream",
     "text": [
      "\tsaving model 54000...\n",
      "\tdone\n",
      "Evaluating\n"
     ]
    },
    {
     "name": "stderr",
     "output_type": "stream",
     "text": [
      "\n",
      " 13%|#3        | 9/69 [00:00<00:00, 83.52it/s]\u001b[A\n",
      " 26%|##6       | 18/69 [00:00<00:00, 82.93it/s]\u001b[A\n",
      " 38%|###7      | 26/69 [00:00<00:00, 81.11it/s]\u001b[A\n",
      " 51%|#####     | 35/69 [00:00<00:00, 82.00it/s]\u001b[A\n",
      " 64%|######3   | 44/69 [00:00<00:00, 83.51it/s]\u001b[A\n",
      " 77%|#######6  | 53/69 [00:00<00:00, 84.30it/s]\u001b[A\n",
      " 88%|########8 | 61/69 [00:00<00:00, 82.72it/s]\u001b[A\n",
      " 18%|█▊        | 146/792 [00:06<01:32,  7.01it/s]A"
     ]
    },
    {
     "name": "stdout",
     "output_type": "stream",
     "text": [
      "{'ade': 0.4727051, 'fde': 1.0218358}\n",
      "\t last loss:0.000538443, eval on validation:['ade: 0.4727051', 'fde: 1.0218358'], (best ade:0.4668638 at step 40200) \n"
     ]
    },
    {
     "name": "stderr",
     "output_type": "stream",
     "text": [
      " 56%|█████▌    | 442/792 [00:19<00:14, 24.75it/s]\n",
      "  0%|          | 0/69 [00:00<?, ?it/s]\u001b[A"
     ]
    },
    {
     "name": "stdout",
     "output_type": "stream",
     "text": [
      "\tsaving model 54300...\n",
      "\tdone\n",
      "Evaluating\n"
     ]
    },
    {
     "name": "stderr",
     "output_type": "stream",
     "text": [
      "\n",
      " 10%|#         | 7/69 [00:00<00:00, 68.55it/s]\u001b[A\n",
      " 23%|##3       | 16/69 [00:00<00:00, 72.76it/s]\u001b[A\n",
      " 36%|###6      | 25/69 [00:00<00:00, 76.03it/s]\u001b[A\n",
      " 49%|####9     | 34/69 [00:00<00:00, 79.62it/s]\u001b[A\n",
      " 62%|######2   | 43/69 [00:00<00:00, 81.80it/s]\u001b[A\n",
      " 77%|#######6  | 53/69 [00:00<00:00, 84.67it/s]\u001b[A\n",
      " 91%|#########1| 63/69 [00:00<00:00, 87.34it/s]\u001b[A\n",
      " 57%|█████▋    | 448/792 [00:20<00:37,  9.22it/s]A"
     ]
    },
    {
     "name": "stdout",
     "output_type": "stream",
     "text": [
      "{'ade': 0.47386685, 'fde': 1.0243698}\n",
      "\t last loss:0.000981571, eval on validation:['ade: 0.47386685', 'fde: 1.0243698'], (best ade:0.4668638 at step 40200) \n"
     ]
    },
    {
     "name": "stderr",
     "output_type": "stream",
     "text": [
      " 94%|█████████▎| 742/792 [00:33<00:02, 23.03it/s]\n",
      "  0%|          | 0/69 [00:00<?, ?it/s]\u001b[A"
     ]
    },
    {
     "name": "stdout",
     "output_type": "stream",
     "text": [
      "\tsaving model 54600...\n",
      "\tdone\n",
      "Evaluating\n"
     ]
    },
    {
     "name": "stderr",
     "output_type": "stream",
     "text": [
      "\n",
      "  9%|8         | 6/69 [00:00<00:01, 56.17it/s]\u001b[A\n",
      " 20%|##        | 14/69 [00:00<00:00, 60.57it/s]\u001b[A\n",
      " 32%|###1      | 22/69 [00:00<00:00, 64.71it/s]\u001b[A\n",
      " 43%|####3     | 30/69 [00:00<00:00, 66.79it/s]\u001b[A\n",
      " 55%|#####5    | 38/69 [00:00<00:00, 69.17it/s]\u001b[A\n",
      " 67%|######6   | 46/69 [00:00<00:00, 71.48it/s]\u001b[A\n",
      " 78%|#######8  | 54/69 [00:00<00:00, 72.65it/s]\u001b[A\n",
      " 90%|########9 | 62/69 [00:00<00:00, 73.94it/s]\u001b[A\n",
      " 94%|█████████▍| 745/792 [00:35<00:07,  6.26it/s]A"
     ]
    },
    {
     "name": "stdout",
     "output_type": "stream",
     "text": [
      "{'ade': 0.47287303, 'fde': 1.0227691}\n",
      "\t last loss:0.000320180, eval on validation:['ade: 0.47287303', 'fde: 1.0227691'], (best ade:0.4668638 at step 40200) \n"
     ]
    },
    {
     "name": "stderr",
     "output_type": "stream",
     "text": [
      "100%|██████████| 792/792 [00:37<00:00, 21.37it/s]\n",
      "  0%|          | 2/792 [00:00<00:52, 15.02it/s]"
     ]
    },
    {
     "name": "stdout",
     "output_type": "stream",
     "text": [
      "('Epoca 70.', 'lr:', 7.966617e-06)\n"
     ]
    },
    {
     "name": "stderr",
     "output_type": "stream",
     "text": [
      " 32%|███▏      | 251/792 [00:09<00:21, 24.80it/s]\n",
      "  0%|          | 0/69 [00:00<?, ?it/s]\u001b[A"
     ]
    },
    {
     "name": "stdout",
     "output_type": "stream",
     "text": [
      "\tsaving model 54900...\n",
      "\tdone\n",
      "Evaluating\n"
     ]
    },
    {
     "name": "stderr",
     "output_type": "stream",
     "text": [
      "\n",
      " 13%|#3        | 9/69 [00:00<00:00, 83.24it/s]\u001b[A\n",
      " 25%|##4       | 17/69 [00:00<00:00, 80.97it/s]\u001b[A\n",
      " 38%|###7      | 26/69 [00:00<00:00, 82.42it/s]\u001b[A\n",
      " 51%|#####     | 35/69 [00:00<00:00, 83.37it/s]\u001b[A\n",
      " 64%|######3   | 44/69 [00:00<00:00, 83.58it/s]\u001b[A\n",
      " 77%|#######6  | 53/69 [00:00<00:00, 84.11it/s]\u001b[A\n",
      " 90%|########9 | 62/69 [00:00<00:00, 84.57it/s]\u001b[A\n",
      " 32%|███▏      | 254/792 [00:11<01:17,  6.94it/s]A"
     ]
    },
    {
     "name": "stdout",
     "output_type": "stream",
     "text": [
      "{'ade': 0.47150904, 'fde': 1.0189458}\n",
      "\t last loss:0.000297831, eval on validation:['ade: 0.47150904', 'fde: 1.0189458'], (best ade:0.4668638 at step 40200) \n"
     ]
    },
    {
     "name": "stderr",
     "output_type": "stream",
     "text": [
      " 70%|██████▉   | 551/792 [00:24<00:10, 24.08it/s]\n",
      "  0%|          | 0/69 [00:00<?, ?it/s]\u001b[A"
     ]
    },
    {
     "name": "stdout",
     "output_type": "stream",
     "text": [
      "\tsaving model 55200...\n",
      "\tdone\n",
      "Evaluating\n"
     ]
    },
    {
     "name": "stderr",
     "output_type": "stream",
     "text": [
      "\n",
      " 13%|#3        | 9/69 [00:00<00:00, 84.04it/s]\u001b[A\n",
      " 28%|##7       | 19/69 [00:00<00:00, 86.97it/s]\u001b[A\n",
      " 42%|####2     | 29/69 [00:00<00:00, 89.52it/s]\u001b[A\n",
      " 57%|#####6    | 39/69 [00:00<00:00, 91.14it/s]\u001b[A\n",
      " 71%|#######1  | 49/69 [00:00<00:00, 92.31it/s]\u001b[A\n",
      " 84%|########4 | 58/69 [00:00<00:00, 91.32it/s]\u001b[A\n",
      " 97%|#########7| 67/69 [00:00<00:00, 86.72it/s]\u001b[A\n",
      " 70%|██████▉   | 554/792 [00:25<00:32,  7.39it/s]A"
     ]
    },
    {
     "name": "stdout",
     "output_type": "stream",
     "text": [
      "{'ade': 0.47236988, 'fde': 1.0211495}\n",
      "\t last loss:0.000349037, eval on validation:['ade: 0.47236988', 'fde: 1.0211495'], (best ade:0.4668638 at step 40200) \n"
     ]
    },
    {
     "name": "stderr",
     "output_type": "stream",
     "text": [
      "100%|██████████| 792/792 [00:34<00:00, 22.95it/s]\n",
      "  0%|          | 3/792 [00:00<00:31, 25.11it/s]"
     ]
    },
    {
     "name": "stdout",
     "output_type": "stream",
     "text": [
      "('Epoca 71.', 'lr:', 6.7716246e-06)\n"
     ]
    },
    {
     "name": "stderr",
     "output_type": "stream",
     "text": [
      "  7%|▋         | 57/792 [00:02<00:29, 25.15it/s]\n",
      "  0%|          | 0/69 [00:00<?, ?it/s]\u001b[A"
     ]
    },
    {
     "name": "stdout",
     "output_type": "stream",
     "text": [
      "\tsaving model 55500...\n",
      "\tdone\n",
      "Evaluating\n"
     ]
    },
    {
     "name": "stderr",
     "output_type": "stream",
     "text": [
      "\n",
      " 12%|#1        | 8/69 [00:00<00:00, 77.98it/s]\u001b[A\n",
      " 25%|##4       | 17/69 [00:00<00:00, 80.26it/s]\u001b[A\n",
      " 36%|###6      | 25/69 [00:00<00:00, 79.78it/s]\u001b[A\n",
      " 49%|####9     | 34/69 [00:00<00:00, 80.63it/s]\u001b[A\n",
      " 62%|######2   | 43/69 [00:00<00:00, 82.03it/s]\u001b[A\n",
      " 75%|#######5  | 52/69 [00:00<00:00, 82.83it/s]\u001b[A\n",
      " 88%|########8 | 61/69 [00:00<00:00, 83.84it/s]\u001b[A\n",
      "  8%|▊         | 63/792 [00:03<01:22,  8.87it/s][A"
     ]
    },
    {
     "name": "stdout",
     "output_type": "stream",
     "text": [
      "{'ade': 0.47330356, 'fde': 1.0231974}\n",
      "\t last loss:0.000581807, eval on validation:['ade: 0.47330356', 'fde: 1.0231974'], (best ade:0.4668638 at step 40200) \n"
     ]
    },
    {
     "name": "stderr",
     "output_type": "stream",
     "text": [
      " 45%|████▌     | 359/792 [00:16<00:17, 24.59it/s]\n",
      "  0%|          | 0/69 [00:00<?, ?it/s]\u001b[A"
     ]
    },
    {
     "name": "stdout",
     "output_type": "stream",
     "text": [
      "\tsaving model 55800...\n",
      "\tdone\n",
      "Evaluating\n"
     ]
    },
    {
     "name": "stderr",
     "output_type": "stream",
     "text": [
      "\n",
      " 14%|#4        | 10/69 [00:00<00:00, 93.16it/s]\u001b[A\n",
      " 29%|##8       | 20/69 [00:00<00:00, 92.97it/s]\u001b[A\n",
      " 43%|####3     | 30/69 [00:00<00:00, 93.89it/s]\u001b[A\n",
      " 58%|#####7    | 40/69 [00:00<00:00, 93.63it/s]\u001b[A\n",
      " 72%|#######2  | 50/69 [00:00<00:00, 94.12it/s]\u001b[A\n",
      " 86%|########5 | 59/69 [00:00<00:00, 90.16it/s]\u001b[A\n",
      " 46%|████▌     | 362/792 [00:17<00:57,  7.42it/s]A"
     ]
    },
    {
     "name": "stdout",
     "output_type": "stream",
     "text": [
      "{'ade': 0.47204322, 'fde': 1.0199345}\n",
      "\t last loss:0.000289339, eval on validation:['ade: 0.47204322', 'fde: 1.0199345'], (best ade:0.4668638 at step 40200) \n"
     ]
    },
    {
     "name": "stderr",
     "output_type": "stream",
     "text": [
      " 83%|████████▎ | 659/792 [00:30<00:05, 22.97it/s]\n",
      "  0%|          | 0/69 [00:00<?, ?it/s]"
     ]
    },
    {
     "name": "stdout",
     "output_type": "stream",
     "text": [
      "\tsaving model 56100...\n",
      "\tdone\n",
      "Evaluating\n"
     ]
    },
    {
     "name": "stderr",
     "output_type": "stream",
     "text": [
      "\u001b[A\n",
      " 12%|#1        | 8/69 [00:00<00:00, 74.68it/s]\u001b[A\n",
      " 23%|##3       | 16/69 [00:00<00:00, 74.56it/s]\u001b[A\n",
      " 35%|###4      | 24/69 [00:00<00:00, 73.98it/s]\u001b[A\n",
      " 46%|####6     | 32/69 [00:00<00:00, 75.01it/s]\u001b[A\n",
      " 58%|#####7    | 40/69 [00:00<00:00, 75.03it/s]\u001b[A\n",
      " 70%|######9   | 48/69 [00:00<00:00, 75.68it/s]\u001b[A\n",
      " 81%|########1 | 56/69 [00:00<00:00, 76.24it/s]\u001b[A\n",
      " 93%|#########2| 64/69 [00:00<00:00, 76.57it/s]\u001b[A\n",
      " 84%|████████▎ | 662/792 [00:31<00:20,  6.31it/s]A"
     ]
    },
    {
     "name": "stdout",
     "output_type": "stream",
     "text": [
      "{'ade': 0.47302106, 'fde': 1.0218356}\n",
      "\t last loss:0.000491287, eval on validation:['ade: 0.47302106', 'fde: 1.0218356'], (best ade:0.4668638 at step 40200) \n"
     ]
    },
    {
     "name": "stderr",
     "output_type": "stream",
     "text": [
      "100%|██████████| 792/792 [00:37<00:00, 21.35it/s]\n",
      "  0%|          | 1/792 [00:00<01:32,  8.54it/s]"
     ]
    },
    {
     "name": "stdout",
     "output_type": "stream",
     "text": [
      "('Epoca 72.', 'lr:', 6.7716246e-06)\n"
     ]
    },
    {
     "name": "stderr",
     "output_type": "stream",
     "text": [
      " 21%|██        | 166/792 [00:06<00:25, 24.47it/s]\n",
      "  0%|          | 0/69 [00:00<?, ?it/s]\u001b[A"
     ]
    },
    {
     "name": "stdout",
     "output_type": "stream",
     "text": [
      "\tsaving model 56400...\n",
      "\tdone\n",
      "Evaluating\n"
     ]
    },
    {
     "name": "stderr",
     "output_type": "stream",
     "text": [
      "\n",
      " 13%|#3        | 9/69 [00:00<00:00, 84.32it/s]\u001b[A\n",
      " 26%|##6       | 18/69 [00:00<00:00, 85.00it/s]\u001b[A\n",
      " 39%|###9      | 27/69 [00:00<00:00, 85.18it/s]\u001b[A\n",
      " 52%|#####2    | 36/69 [00:00<00:00, 84.74it/s]\u001b[A\n",
      " 65%|######5   | 45/69 [00:00<00:00, 85.25it/s]\u001b[A\n",
      " 77%|#######6  | 53/69 [00:00<00:00, 81.72it/s]\u001b[A\n",
      " 90%|########9 | 62/69 [00:00<00:00, 81.60it/s]\u001b[A\n",
      " 21%|██▏       | 169/792 [00:07<01:29,  6.96it/s]A"
     ]
    },
    {
     "name": "stdout",
     "output_type": "stream",
     "text": [
      "{'ade': 0.47333416, 'fde': 1.0233623}\n",
      "\t last loss:0.000304744, eval on validation:['ade: 0.47333416', 'fde: 1.0233623'], (best ade:0.4668638 at step 40200) \n"
     ]
    },
    {
     "name": "stderr",
     "output_type": "stream",
     "text": [
      " 59%|█████▊    | 465/792 [00:20<00:12, 26.08it/s]\n",
      "  0%|          | 0/69 [00:00<?, ?it/s]\u001b[A"
     ]
    },
    {
     "name": "stdout",
     "output_type": "stream",
     "text": [
      "\tsaving model 56700...\n",
      "\tdone\n",
      "Evaluating\n"
     ]
    },
    {
     "name": "stderr",
     "output_type": "stream",
     "text": [
      "\n",
      " 14%|#4        | 10/69 [00:00<00:00, 91.98it/s]\u001b[A\n",
      " 29%|##8       | 20/69 [00:00<00:00, 92.59it/s]\u001b[A\n",
      " 43%|####3     | 30/69 [00:00<00:00, 92.47it/s]\u001b[A\n",
      " 58%|#####7    | 40/69 [00:00<00:00, 92.98it/s]\u001b[A\n",
      " 70%|######9   | 48/69 [00:00<00:00, 87.21it/s]\u001b[A\n",
      " 83%|########2 | 57/69 [00:00<00:00, 87.72it/s]\u001b[A\n",
      " 97%|#########7| 67/69 [00:00<00:00, 89.45it/s]\u001b[A\n",
      " 59%|█████▉    | 471/792 [00:21<00:33,  9.50it/s]A"
     ]
    },
    {
     "name": "stdout",
     "output_type": "stream",
     "text": [
      "{'ade': 0.47336283, 'fde': 1.0231054}\n",
      "\t last loss:0.000389787, eval on validation:['ade: 0.47336283', 'fde: 1.0231054'], (best ade:0.4668638 at step 40200) \n"
     ]
    },
    {
     "name": "stderr",
     "output_type": "stream",
     "text": [
      " 97%|█████████▋| 766/792 [00:34<00:01, 17.40it/s]"
     ]
    },
    {
     "name": "stdout",
     "output_type": "stream",
     "text": [
      "\tsaving model 57000...\n"
     ]
    },
    {
     "name": "stderr",
     "output_type": "stream",
     "text": [
      "\n",
      "  0%|          | 0/69 [00:00<?, ?it/s]\u001b[A\n",
      " 10%|#         | 7/69 [00:00<00:01, 55.94it/s]\u001b[A"
     ]
    },
    {
     "name": "stdout",
     "output_type": "stream",
     "text": [
      "\tdone\n",
      "Evaluating\n"
     ]
    },
    {
     "name": "stderr",
     "output_type": "stream",
     "text": [
      "\n",
      " 20%|##        | 14/69 [00:00<00:00, 58.11it/s]\u001b[A\n",
      " 32%|###1      | 22/69 [00:00<00:00, 61.40it/s]\u001b[A\n",
      " 42%|####2     | 29/69 [00:00<00:00, 62.38it/s]\u001b[A\n",
      " 54%|#####3    | 37/69 [00:00<00:00, 65.56it/s]\u001b[A\n",
      " 65%|######5   | 45/69 [00:00<00:00, 67.47it/s]\u001b[A\n",
      " 77%|#######6  | 53/69 [00:00<00:00, 69.87it/s]\u001b[A\n",
      " 90%|########9 | 62/69 [00:00<00:00, 72.99it/s]\u001b[A\n",
      " 97%|█████████▋| 771/792 [00:36<00:03,  5.57it/s]A"
     ]
    },
    {
     "name": "stdout",
     "output_type": "stream",
     "text": [
      "{'ade': 0.47215524, 'fde': 1.0205929}\n",
      "\t last loss:0.000231132, eval on validation:['ade: 0.47215524', 'fde: 1.0205929'], (best ade:0.4668638 at step 40200) \n"
     ]
    },
    {
     "name": "stderr",
     "output_type": "stream",
     "text": [
      "100%|██████████| 792/792 [00:37<00:00, 19.46it/s]\n",
      "  0%|          | 1/792 [00:00<01:32,  8.52it/s]"
     ]
    },
    {
     "name": "stdout",
     "output_type": "stream",
     "text": [
      "('Epoca 73.', 'lr:', 5.7558805e-06)\n"
     ]
    },
    {
     "name": "stderr",
     "output_type": "stream",
     "text": [
      " 35%|███▍      | 274/792 [00:10<00:22, 23.33it/s]"
     ]
    },
    {
     "name": "stdout",
     "output_type": "stream",
     "text": [
      "\tsaving model 57300...\n"
     ]
    },
    {
     "name": "stderr",
     "output_type": "stream",
     "text": [
      "\n",
      "  0%|          | 0/69 [00:00<?, ?it/s]\u001b[A\n",
      "  9%|8         | 6/69 [00:00<00:01, 58.58it/s]\u001b[A\n",
      " 19%|#8        | 13/69 [00:00<00:00, 59.79it/s]\u001b[A\n",
      " 29%|##8       | 20/69 [00:00<00:00, 61.30it/s]\u001b[A\n",
      " 39%|###9      | 27/69 [00:00<00:00, 61.74it/s]\u001b[A\n",
      " 49%|####9     | 34/69 [00:00<00:00, 63.16it/s]\u001b[A\n",
      " 59%|#####9    | 41/69 [00:00<00:00, 64.49it/s]\u001b[A\n",
      " 70%|######9   | 48/69 [00:00<00:00, 64.78it/s]\u001b[A\n",
      " 80%|#######9  | 55/69 [00:00<00:00, 65.45it/s]\u001b[A\n",
      " 90%|########9 | 62/69 [00:00<00:00, 65.76it/s]\u001b[A\n",
      " 35%|███▍      | 277/792 [00:12<01:31,  5.65it/s]A"
     ]
    },
    {
     "name": "stdout",
     "output_type": "stream",
     "text": [
      "\tdone\n",
      "Evaluating\n",
      "{'ade': 0.4723716, 'fde': 1.0207742}\n",
      "\t last loss:0.000183359, eval on validation:['ade: 0.4723716', 'fde: 1.0207742'], (best ade:0.4668638 at step 40200) \n"
     ]
    },
    {
     "name": "stderr",
     "output_type": "stream",
     "text": [
      " 72%|███████▏  | 573/792 [00:25<00:08, 26.72it/s]\n",
      "  0%|          | 0/69 [00:00<?, ?it/s]\u001b[A"
     ]
    },
    {
     "name": "stdout",
     "output_type": "stream",
     "text": [
      "\tsaving model 57600...\n",
      "\tdone\n",
      "Evaluating\n"
     ]
    },
    {
     "name": "stderr",
     "output_type": "stream",
     "text": [
      "\n",
      " 12%|#1        | 8/69 [00:00<00:00, 76.66it/s]\u001b[A\n",
      " 25%|##4       | 17/69 [00:00<00:00, 79.68it/s]\u001b[A\n",
      " 38%|###7      | 26/69 [00:00<00:00, 81.53it/s]\u001b[A\n",
      " 52%|#####2    | 36/69 [00:00<00:00, 85.18it/s]\u001b[A\n",
      " 67%|######6   | 46/69 [00:00<00:00, 87.72it/s]\u001b[A\n",
      " 81%|########1 | 56/69 [00:00<00:00, 89.39it/s]\u001b[A\n",
      " 96%|#########5| 66/69 [00:00<00:00, 91.16it/s]\u001b[A\n",
      " 73%|███████▎  | 579/792 [00:26<00:22,  9.65it/s]A"
     ]
    },
    {
     "name": "stdout",
     "output_type": "stream",
     "text": [
      "{'ade': 0.4724784, 'fde': 1.0216278}\n",
      "\t last loss:0.000284261, eval on validation:['ade: 0.4724784', 'fde: 1.0216278'], (best ade:0.4668638 at step 40200) \n"
     ]
    },
    {
     "name": "stderr",
     "output_type": "stream",
     "text": [
      "100%|██████████| 792/792 [00:35<00:00, 22.01it/s]\n",
      "  0%|          | 1/792 [00:00<01:32,  8.57it/s]"
     ]
    },
    {
     "name": "stdout",
     "output_type": "stream",
     "text": [
      "('Epoca 74.', 'lr:', 5.7558805e-06)\n"
     ]
    },
    {
     "name": "stderr",
     "output_type": "stream",
     "text": [
      " 10%|█         | 81/792 [00:03<00:29, 24.34it/s]\n",
      "  0%|          | 0/69 [00:00<?, ?it/s]\u001b[A"
     ]
    },
    {
     "name": "stdout",
     "output_type": "stream",
     "text": [
      "\tsaving model 57900...\n",
      "\tdone\n",
      "Evaluating\n"
     ]
    },
    {
     "name": "stderr",
     "output_type": "stream",
     "text": [
      "\n",
      " 13%|#3        | 9/69 [00:00<00:00, 81.60it/s]\u001b[A\n",
      " 25%|##4       | 17/69 [00:00<00:00, 79.81it/s]\u001b[A\n",
      " 38%|###7      | 26/69 [00:00<00:00, 81.08it/s]\u001b[A\n",
      " 51%|#####     | 35/69 [00:00<00:00, 82.84it/s]\u001b[A\n",
      " 64%|######3   | 44/69 [00:00<00:00, 83.01it/s]\u001b[A\n",
      " 77%|#######6  | 53/69 [00:00<00:00, 84.08it/s]\u001b[A\n",
      " 90%|########9 | 62/69 [00:00<00:00, 84.55it/s]\u001b[A\n",
      " 11%|█         | 87/792 [00:04<01:20,  8.75it/s][A"
     ]
    },
    {
     "name": "stdout",
     "output_type": "stream",
     "text": [
      "{'ade': 0.47217867, 'fde': 1.0201443}\n",
      "\t last loss:0.000255475, eval on validation:['ade: 0.47217867', 'fde: 1.0201443'], (best ade:0.4668638 at step 40200) \n"
     ]
    },
    {
     "name": "stderr",
     "output_type": "stream",
     "text": [
      " 48%|████▊     | 381/792 [00:16<00:19, 21.13it/s]"
     ]
    },
    {
     "name": "stdout",
     "output_type": "stream",
     "text": [
      "\tsaving model 58200...\n"
     ]
    },
    {
     "name": "stderr",
     "output_type": "stream",
     "text": [
      "\n",
      "  0%|          | 0/69 [00:00<?, ?it/s]\u001b[A\n",
      " 10%|#         | 7/69 [00:00<00:00, 66.41it/s]\u001b[A\n",
      " 20%|##        | 14/69 [00:00<00:00, 66.76it/s]\u001b[A\n",
      " 30%|###       | 21/69 [00:00<00:00, 67.03it/s]\u001b[A\n",
      " 41%|####      | 28/69 [00:00<00:00, 66.39it/s]\u001b[A\n",
      " 51%|#####     | 35/69 [00:00<00:00, 66.09it/s]\u001b[A\n",
      " 61%|######    | 42/69 [00:00<00:00, 65.71it/s]\u001b[A\n",
      " 70%|######9   | 48/69 [00:00<00:00, 62.25it/s]\u001b[A\n",
      " 80%|#######9  | 55/69 [00:00<00:00, 62.77it/s]\u001b[A\n",
      " 90%|########9 | 62/69 [00:00<00:00, 63.03it/s]\u001b[A\n",
      " 48%|████▊     | 384/792 [00:18<01:13,  5.59it/s]A"
     ]
    },
    {
     "name": "stdout",
     "output_type": "stream",
     "text": [
      "\tdone\n",
      "Evaluating\n",
      "{'ade': 0.47340676, 'fde': 1.0239779}\n",
      "\t last loss:0.000352279, eval on validation:['ade: 0.47340676', 'fde: 1.0239779'], (best ade:0.4668638 at step 40200) \n"
     ]
    },
    {
     "name": "stderr",
     "output_type": "stream",
     "text": [
      " 86%|████████▌ | 681/792 [00:30<00:04, 26.62it/s]\n",
      "  0%|          | 0/69 [00:00<?, ?it/s]\u001b[A"
     ]
    },
    {
     "name": "stdout",
     "output_type": "stream",
     "text": [
      "\tsaving model 58500...\n",
      "\tdone\n",
      "Evaluating\n"
     ]
    },
    {
     "name": "stderr",
     "output_type": "stream",
     "text": [
      "\n",
      " 13%|#3        | 9/69 [00:00<00:00, 87.65it/s]\u001b[A\n",
      " 26%|##6       | 18/69 [00:00<00:00, 86.91it/s]\u001b[A\n",
      " 41%|####      | 28/69 [00:00<00:00, 89.00it/s]\u001b[A\n",
      " 55%|#####5    | 38/69 [00:00<00:00, 90.57it/s]\u001b[A\n",
      " 68%|######8   | 47/69 [00:00<00:00, 89.34it/s]\u001b[A\n",
      " 81%|########1 | 56/69 [00:00<00:00, 88.60it/s]\u001b[A\n",
      " 94%|#########4| 65/69 [00:00<00:00, 87.46it/s]\u001b[A\n",
      " 87%|████████▋ | 687/792 [00:31<00:11,  9.35it/s]A"
     ]
    },
    {
     "name": "stdout",
     "output_type": "stream",
     "text": [
      "{'ade': 0.47252363, 'fde': 1.0214983}\n",
      "\t last loss:0.000423755, eval on validation:['ade: 0.47252363', 'fde: 1.0214983'], (best ade:0.4668638 at step 40200) \n"
     ]
    },
    {
     "name": "stderr",
     "output_type": "stream",
     "text": [
      "100%|██████████| 792/792 [00:36<00:00, 25.61it/s]\n",
      "  0%|          | 1/792 [00:00<01:36,  8.16it/s]"
     ]
    },
    {
     "name": "stdout",
     "output_type": "stream",
     "text": [
      "('Epoca 75.', 'lr:', 4.8924985e-06)\n"
     ]
    },
    {
     "name": "stderr",
     "output_type": "stream",
     "text": [
      " 24%|██▍       | 190/792 [00:07<00:27, 21.52it/s]"
     ]
    },
    {
     "name": "stdout",
     "output_type": "stream",
     "text": [
      "\tsaving model 58800...\n"
     ]
    },
    {
     "name": "stderr",
     "output_type": "stream",
     "text": [
      "\n",
      "  0%|          | 0/69 [00:00<?, ?it/s]\u001b[A\n",
      " 10%|#         | 7/69 [00:00<00:00, 65.23it/s]\u001b[A"
     ]
    },
    {
     "name": "stdout",
     "output_type": "stream",
     "text": [
      "\tdone\n",
      "Evaluating\n"
     ]
    },
    {
     "name": "stderr",
     "output_type": "stream",
     "text": [
      "\n",
      " 20%|##        | 14/69 [00:00<00:00, 65.55it/s]\u001b[A\n",
      " 30%|###       | 21/69 [00:00<00:00, 64.63it/s]\u001b[A\n",
      " 41%|####      | 28/69 [00:00<00:00, 64.17it/s]\u001b[A\n",
      " 51%|#####     | 35/69 [00:00<00:00, 64.90it/s]\u001b[A\n",
      " 61%|######    | 42/69 [00:00<00:00, 65.28it/s]\u001b[A\n",
      " 70%|######9   | 48/69 [00:00<00:00, 62.18it/s]\u001b[A\n",
      " 80%|#######9  | 55/69 [00:00<00:00, 62.89it/s]\u001b[A\n",
      " 88%|########8 | 61/69 [00:00<00:00, 61.36it/s]\u001b[A\n",
      " 99%|#########8| 68/69 [00:01<00:00, 63.18it/s]\u001b[A\n",
      " 24%|██▍       | 193/792 [00:09<01:48,  5.53it/s]A"
     ]
    },
    {
     "name": "stdout",
     "output_type": "stream",
     "text": [
      "{'ade': 0.47260037, 'fde': 1.0216764}\n",
      "\t last loss:0.000481447, eval on validation:['ade: 0.47260037', 'fde: 1.0216764'], (best ade:0.4668638 at step 40200) \n"
     ]
    },
    {
     "name": "stderr",
     "output_type": "stream",
     "text": [
      " 62%|██████▏   | 491/792 [00:21<00:11, 25.94it/s]\n",
      "  0%|          | 0/69 [00:00<?, ?it/s]\u001b[A"
     ]
    },
    {
     "name": "stdout",
     "output_type": "stream",
     "text": [
      "\tsaving model 59100...\n",
      "\tdone\n",
      "Evaluating\n"
     ]
    },
    {
     "name": "stderr",
     "output_type": "stream",
     "text": [
      "\n",
      " 14%|#4        | 10/69 [00:00<00:00, 91.94it/s]\u001b[A\n",
      " 28%|##7       | 19/69 [00:00<00:00, 91.28it/s]\u001b[A\n",
      " 42%|####2     | 29/69 [00:00<00:00, 91.81it/s]\u001b[A\n",
      " 57%|#####6    | 39/69 [00:00<00:00, 92.61it/s]\u001b[A\n",
      " 71%|#######1  | 49/69 [00:00<00:00, 92.87it/s]\u001b[A\n",
      " 86%|########5 | 59/69 [00:00<00:00, 92.94it/s]\u001b[A\n",
      " 99%|#########8| 68/69 [00:00<00:00, 90.32it/s]\u001b[A\n",
      " 62%|██████▏   | 494/792 [00:22<00:39,  7.48it/s]A"
     ]
    },
    {
     "name": "stdout",
     "output_type": "stream",
     "text": [
      "{'ade': 0.47217214, 'fde': 1.0206487}\n",
      "\t last loss:0.000327267, eval on validation:['ade: 0.47217214', 'fde: 1.0206487'], (best ade:0.4668638 at step 40200) \n"
     ]
    },
    {
     "name": "stderr",
     "output_type": "stream",
     "text": [
      "100%|█████████▉| 791/792 [00:35<00:00, 23.44it/s]\n",
      "  0%|          | 0/69 [00:00<?, ?it/s]\u001b[A"
     ]
    },
    {
     "name": "stdout",
     "output_type": "stream",
     "text": [
      "\tsaving model 59400...\n",
      "\tdone\n",
      "Evaluating\n"
     ]
    },
    {
     "name": "stderr",
     "output_type": "stream",
     "text": [
      "\n",
      " 13%|#3        | 9/69 [00:00<00:00, 85.20it/s]\u001b[A\n",
      " 26%|##6       | 18/69 [00:00<00:00, 85.34it/s]\u001b[A\n",
      " 39%|###9      | 27/69 [00:00<00:00, 85.94it/s]\u001b[A\n",
      " 52%|#####2    | 36/69 [00:00<00:00, 85.45it/s]\u001b[A\n",
      " 65%|######5   | 45/69 [00:00<00:00, 85.50it/s]\u001b[A\n",
      " 77%|#######6  | 53/69 [00:00<00:00, 83.15it/s]\u001b[A\n",
      " 88%|########8 | 61/69 [00:00<00:00, 80.86it/s]\u001b[A\n",
      "100%|██████████| 792/792 [00:37<00:00, 21.40it/s]A\n",
      "  0%|          | 0/792 [00:00<?, ?it/s]"
     ]
    },
    {
     "name": "stdout",
     "output_type": "stream",
     "text": [
      "{'ade': 0.47267598, 'fde': 1.0217298}\n",
      "\t last loss:0.000465785, eval on validation:['ade: 0.47267598', 'fde: 1.0217298'], (best ade:0.4668638 at step 40200) \n",
      "('Epoca 76.', 'lr:', 4.8924985e-06)\n"
     ]
    },
    {
     "name": "stderr",
     "output_type": "stream",
     "text": [
      " 38%|███▊      | 299/792 [00:12<00:23, 20.74it/s]"
     ]
    },
    {
     "name": "stdout",
     "output_type": "stream",
     "text": [
      "\tsaving model 59700...\n"
     ]
    },
    {
     "name": "stderr",
     "output_type": "stream",
     "text": [
      "\n",
      "  0%|          | 0/69 [00:00<?, ?it/s]\u001b[A\n",
      " 10%|#         | 7/69 [00:00<00:00, 64.16it/s]\u001b[A"
     ]
    },
    {
     "name": "stdout",
     "output_type": "stream",
     "text": [
      "\tdone\n",
      "Evaluating\n"
     ]
    },
    {
     "name": "stderr",
     "output_type": "stream",
     "text": [
      "\n",
      " 20%|##        | 14/69 [00:00<00:00, 65.00it/s]\u001b[A\n",
      " 30%|###       | 21/69 [00:00<00:00, 65.09it/s]\u001b[A\n",
      " 41%|####      | 28/69 [00:00<00:00, 65.55it/s]\u001b[A\n",
      " 51%|#####     | 35/69 [00:00<00:00, 66.06it/s]\u001b[A\n",
      " 61%|######    | 42/69 [00:00<00:00, 66.46it/s]\u001b[A\n",
      " 71%|#######1  | 49/69 [00:00<00:00, 66.41it/s]\u001b[A\n",
      " 81%|########1 | 56/69 [00:00<00:00, 63.16it/s]\u001b[A\n",
      " 91%|#########1| 63/69 [00:00<00:00, 63.01it/s]\u001b[A\n",
      " 38%|███▊      | 302/792 [00:14<01:28,  5.57it/s]A"
     ]
    },
    {
     "name": "stdout",
     "output_type": "stream",
     "text": [
      "{'ade': 0.47268504, 'fde': 1.0218048}\n",
      "\t last loss:0.000480554, eval on validation:['ade: 0.47268504', 'fde: 1.0218048'], (best ade:0.4668638 at step 40200) \n"
     ]
    },
    {
     "name": "stderr",
     "output_type": "stream",
     "text": [
      " 76%|███████▌  | 598/792 [00:26<00:08, 23.42it/s]\n",
      "  0%|          | 0/69 [00:00<?, ?it/s]\u001b[A"
     ]
    },
    {
     "name": "stdout",
     "output_type": "stream",
     "text": [
      "\tsaving model 60000...\n",
      "\tdone\n",
      "Evaluating\n"
     ]
    },
    {
     "name": "stderr",
     "output_type": "stream",
     "text": [
      "\n",
      " 13%|#3        | 9/69 [00:00<00:00, 85.90it/s]\u001b[A\n",
      " 26%|##6       | 18/69 [00:00<00:00, 86.13it/s]\u001b[A\n",
      " 39%|###9      | 27/69 [00:00<00:00, 85.78it/s]\u001b[A\n",
      " 52%|#####2    | 36/69 [00:00<00:00, 84.42it/s]\u001b[A\n",
      " 65%|######5   | 45/69 [00:00<00:00, 84.91it/s]\u001b[A\n",
      " 78%|#######8  | 54/69 [00:00<00:00, 85.31it/s]\u001b[A\n",
      " 90%|########9 | 62/69 [00:00<00:00, 80.49it/s]\u001b[A\n",
      " 76%|███████▋  | 604/792 [00:28<00:21,  8.74it/s]A"
     ]
    },
    {
     "name": "stdout",
     "output_type": "stream",
     "text": [
      "{'ade': 0.4732409, 'fde': 1.0238624}\n",
      "\t last loss:0.000307453, eval on validation:['ade: 0.4732409', 'fde: 1.0238624'], (best ade:0.4668638 at step 40200) \n"
     ]
    },
    {
     "name": "stderr",
     "output_type": "stream",
     "text": [
      "100%|██████████| 792/792 [00:35<00:00, 22.33it/s]\n",
      "  0%|          | 1/792 [00:00<01:51,  7.08it/s]"
     ]
    },
    {
     "name": "stdout",
     "output_type": "stream",
     "text": [
      "('Epoca 77.', 'lr:', 4.158624e-06)\n"
     ]
    },
    {
     "name": "stderr",
     "output_type": "stream",
     "text": [
      " 13%|█▎        | 106/792 [00:04<00:33, 20.70it/s]"
     ]
    },
    {
     "name": "stdout",
     "output_type": "stream",
     "text": [
      "\tsaving model 60300...\n"
     ]
    },
    {
     "name": "stderr",
     "output_type": "stream",
     "text": [
      "\n",
      "  0%|          | 0/69 [00:00<?, ?it/s]\u001b[A\n",
      " 10%|#         | 7/69 [00:00<00:00, 68.17it/s]\u001b[A"
     ]
    },
    {
     "name": "stdout",
     "output_type": "stream",
     "text": [
      "\tdone\n",
      "Evaluating\n"
     ]
    },
    {
     "name": "stderr",
     "output_type": "stream",
     "text": [
      "\n",
      " 20%|##        | 14/69 [00:00<00:00, 67.32it/s]\u001b[A\n",
      " 28%|##7       | 19/69 [00:00<00:00, 59.89it/s]\u001b[A\n",
      " 36%|###6      | 25/69 [00:00<00:00, 59.85it/s]\u001b[A\n",
      " 46%|####6     | 32/69 [00:00<00:00, 61.84it/s]\u001b[A\n",
      " 57%|#####6    | 39/69 [00:00<00:00, 63.07it/s]\u001b[A\n",
      " 67%|######6   | 46/69 [00:00<00:00, 63.23it/s]\u001b[A\n",
      " 75%|#######5  | 52/69 [00:00<00:00, 58.12it/s]\u001b[A\n",
      " 86%|########5 | 59/69 [00:00<00:00, 60.51it/s]\u001b[A\n",
      " 96%|#########5| 66/69 [00:01<00:00, 62.28it/s]\u001b[A\n",
      " 14%|█▍        | 109/792 [00:06<02:05,  5.45it/s]A"
     ]
    },
    {
     "name": "stdout",
     "output_type": "stream",
     "text": [
      "{'ade': 0.47183263, 'fde': 1.019498}\n",
      "\t last loss:0.000249494, eval on validation:['ade: 0.47183263', 'fde: 1.019498'], (best ade:0.4668638 at step 40200) \n"
     ]
    },
    {
     "name": "stderr",
     "output_type": "stream",
     "text": [
      " 51%|█████     | 405/792 [00:18<00:14, 25.94it/s]\n",
      "  0%|          | 0/69 [00:00<?, ?it/s]\u001b[A"
     ]
    },
    {
     "name": "stdout",
     "output_type": "stream",
     "text": [
      "\tsaving model 60600...\n",
      "\tdone\n",
      "Evaluating\n"
     ]
    },
    {
     "name": "stderr",
     "output_type": "stream",
     "text": [
      "\n",
      " 14%|#4        | 10/69 [00:00<00:00, 91.33it/s]\u001b[A\n",
      " 29%|##8       | 20/69 [00:00<00:00, 91.34it/s]\u001b[A\n",
      " 42%|####2     | 29/69 [00:00<00:00, 89.22it/s]\u001b[A\n",
      " 55%|#####5    | 38/69 [00:00<00:00, 87.35it/s]\u001b[A\n",
      " 68%|######8   | 47/69 [00:00<00:00, 86.92it/s]\u001b[A\n",
      " 80%|#######9  | 55/69 [00:00<00:00, 76.15it/s]\u001b[A\n",
      " 91%|#########1| 63/69 [00:00<00:00, 76.65it/s]\u001b[A\n",
      " 52%|█████▏    | 411/792 [00:19<00:42,  9.06it/s]A"
     ]
    },
    {
     "name": "stdout",
     "output_type": "stream",
     "text": [
      "{'ade': 0.4719103, 'fde': 1.0198724}\n",
      "\t last loss:0.000308020, eval on validation:['ade: 0.4719103', 'fde: 1.0198724'], (best ade:0.4668638 at step 40200) \n"
     ]
    },
    {
     "name": "stderr",
     "output_type": "stream",
     "text": [
      " 89%|████████▉ | 707/792 [00:32<00:03, 24.56it/s]\n",
      "  0%|          | 0/69 [00:00<?, ?it/s]\u001b[A"
     ]
    },
    {
     "name": "stdout",
     "output_type": "stream",
     "text": [
      "\tsaving model 60900...\n",
      "\tdone\n",
      "Evaluating\n"
     ]
    },
    {
     "name": "stderr",
     "output_type": "stream",
     "text": [
      "\n",
      " 13%|#3        | 9/69 [00:00<00:00, 81.66it/s]\u001b[A\n",
      " 26%|##6       | 18/69 [00:00<00:00, 83.06it/s]\u001b[A\n",
      " 38%|###7      | 26/69 [00:00<00:00, 79.76it/s]\u001b[A\n",
      " 49%|####9     | 34/69 [00:00<00:00, 78.76it/s]\u001b[A\n",
      " 61%|######    | 42/69 [00:00<00:00, 78.60it/s]\u001b[A\n",
      " 74%|#######3  | 51/69 [00:00<00:00, 80.13it/s]\u001b[A\n",
      " 87%|########6 | 60/69 [00:00<00:00, 81.54it/s]\u001b[A\n",
      " 90%|████████▉ | 710/792 [00:33<00:11,  6.90it/s]A"
     ]
    },
    {
     "name": "stdout",
     "output_type": "stream",
     "text": [
      "{'ade': 0.4731509, 'fde': 1.0229762}\n",
      "\t last loss:0.000179889, eval on validation:['ade: 0.4731509', 'fde: 1.0229762'], (best ade:0.4668638 at step 40200) \n"
     ]
    },
    {
     "name": "stderr",
     "output_type": "stream",
     "text": [
      "100%|██████████| 792/792 [00:37<00:00, 21.29it/s]\n",
      "  0%|          | 1/792 [00:00<01:19,  9.90it/s]"
     ]
    },
    {
     "name": "stdout",
     "output_type": "stream",
     "text": [
      "('Epoca 78.', 'lr:', 4.158624e-06)\n"
     ]
    },
    {
     "name": "stderr",
     "output_type": "stream",
     "text": [
      " 27%|██▋       | 214/792 [00:09<00:28, 19.96it/s]"
     ]
    },
    {
     "name": "stdout",
     "output_type": "stream",
     "text": [
      "\tsaving model 61200...\n"
     ]
    },
    {
     "name": "stderr",
     "output_type": "stream",
     "text": [
      "\n",
      "  0%|          | 0/69 [00:00<?, ?it/s]\u001b[A\n",
      " 10%|#         | 7/69 [00:00<00:00, 66.78it/s]\u001b[A\n",
      " 20%|##        | 14/69 [00:00<00:00, 66.99it/s]\u001b[A\n",
      " 30%|###       | 21/69 [00:00<00:00, 66.80it/s]\u001b[A\n",
      " 42%|####2     | 29/69 [00:00<00:00, 69.40it/s]\u001b[A\n",
      " 54%|#####3    | 37/69 [00:00<00:00, 71.59it/s]\u001b[A\n",
      " 64%|######3   | 44/69 [00:00<00:00, 68.71it/s]\u001b[A\n",
      " 74%|#######3  | 51/69 [00:00<00:00, 68.47it/s]\u001b[A\n",
      " 86%|########5 | 59/69 [00:00<00:00, 70.88it/s]\u001b[A\n",
      " 97%|#########7| 67/69 [00:00<00:00, 72.37it/s]\u001b[A\n",
      " 27%|██▋       | 217/792 [00:10<01:37,  5.88it/s]A"
     ]
    },
    {
     "name": "stdout",
     "output_type": "stream",
     "text": [
      "\tdone\n",
      "Evaluating\n",
      "{'ade': 0.47294974, 'fde': 1.0219057}\n",
      "\t last loss:0.000455147, eval on validation:['ade: 0.47294974', 'fde: 1.0219057'], (best ade:0.4668638 at step 40200) \n"
     ]
    },
    {
     "name": "stderr",
     "output_type": "stream",
     "text": [
      " 65%|██████▍   | 514/792 [00:22<00:11, 24.84it/s]\n",
      "  0%|          | 0/69 [00:00<?, ?it/s]\u001b[A"
     ]
    },
    {
     "name": "stdout",
     "output_type": "stream",
     "text": [
      "\tsaving model 61500...\n",
      "\tdone\n",
      "Evaluating\n"
     ]
    },
    {
     "name": "stderr",
     "output_type": "stream",
     "text": [
      "\n",
      " 13%|#3        | 9/69 [00:00<00:00, 85.66it/s]\u001b[A\n",
      " 26%|##6       | 18/69 [00:00<00:00, 85.74it/s]\u001b[A\n",
      " 36%|###6      | 25/69 [00:00<00:00, 79.98it/s]\u001b[A\n",
      " 48%|####7     | 33/69 [00:00<00:00, 79.58it/s]\u001b[A\n",
      " 61%|######    | 42/69 [00:00<00:00, 80.99it/s]\u001b[A\n",
      " 74%|#######3  | 51/69 [00:00<00:00, 81.45it/s]\u001b[A\n",
      " 87%|########6 | 60/69 [00:00<00:00, 82.75it/s]\u001b[A\n",
      " 66%|██████▌   | 520/792 [00:23<00:30,  8.90it/s]A"
     ]
    },
    {
     "name": "stdout",
     "output_type": "stream",
     "text": [
      "{'ade': 0.47235012, 'fde': 1.0206661}\n",
      "\t last loss:0.000486726, eval on validation:['ade: 0.47235012', 'fde: 1.0206661'], (best ade:0.4668638 at step 40200) \n"
     ]
    },
    {
     "name": "stderr",
     "output_type": "stream",
     "text": [
      "100%|██████████| 792/792 [00:35<00:00, 22.05it/s]\n",
      "  0%|          | 1/792 [00:00<01:32,  8.52it/s]"
     ]
    },
    {
     "name": "stdout",
     "output_type": "stream",
     "text": [
      "('Epoca 79.', 'lr:', 3.5348305e-06)\n"
     ]
    },
    {
     "name": "stderr",
     "output_type": "stream",
     "text": [
      "  3%|▎         | 21/792 [00:00<00:35, 21.57it/s]\n",
      "  0%|          | 0/69 [00:00<?, ?it/s]\u001b[A"
     ]
    },
    {
     "name": "stdout",
     "output_type": "stream",
     "text": [
      "\tsaving model 61800...\n",
      "\tdone\n",
      "Evaluating\n"
     ]
    },
    {
     "name": "stderr",
     "output_type": "stream",
     "text": [
      "\n",
      " 12%|#1        | 8/69 [00:00<00:00, 76.76it/s]\u001b[A\n",
      " 25%|##4       | 17/69 [00:00<00:00, 79.19it/s]\u001b[A\n",
      " 38%|###7      | 26/69 [00:00<00:00, 80.99it/s]\u001b[A\n",
      " 51%|#####     | 35/69 [00:00<00:00, 81.66it/s]\u001b[A\n",
      " 64%|######3   | 44/69 [00:00<00:00, 81.84it/s]\u001b[A\n",
      " 77%|#######6  | 53/69 [00:00<00:00, 83.00it/s]\u001b[A\n",
      " 90%|########9 | 62/69 [00:00<00:00, 84.10it/s]\u001b[A\n",
      "  3%|▎         | 27/792 [00:02<01:27,  8.75it/s][A"
     ]
    },
    {
     "name": "stdout",
     "output_type": "stream",
     "text": [
      "{'ade': 0.4723049, 'fde': 1.0207932}\n",
      "\t last loss:0.000334129, eval on validation:['ade: 0.4723049', 'fde: 1.0207932'], (best ade:0.4668638 at step 40200) \n"
     ]
    },
    {
     "name": "stderr",
     "output_type": "stream",
     "text": [
      " 41%|████      | 321/792 [00:14<00:21, 21.98it/s]\n",
      "  0%|          | 0/69 [00:00<?, ?it/s]\u001b[A"
     ]
    },
    {
     "name": "stdout",
     "output_type": "stream",
     "text": [
      "\tsaving model 62100...\n",
      "\tdone\n",
      "Evaluating\n"
     ]
    },
    {
     "name": "stderr",
     "output_type": "stream",
     "text": [
      "\n",
      " 12%|#1        | 8/69 [00:00<00:00, 76.35it/s]\u001b[A\n",
      " 23%|##3       | 16/69 [00:00<00:00, 76.44it/s]\u001b[A\n",
      " 33%|###3      | 23/69 [00:00<00:00, 72.41it/s]\u001b[A\n",
      " 43%|####3     | 30/69 [00:00<00:00, 70.23it/s]\u001b[A\n",
      " 54%|#####3    | 37/69 [00:00<00:00, 70.07it/s]\u001b[A\n",
      " 65%|######5   | 45/69 [00:00<00:00, 70.97it/s]\u001b[A\n",
      " 77%|#######6  | 53/69 [00:00<00:00, 72.13it/s]\u001b[A\n",
      " 88%|########8 | 61/69 [00:00<00:00, 72.59it/s]\u001b[A\n",
      " 41%|████▏     | 327/792 [00:16<00:58,  7.95it/s]A"
     ]
    },
    {
     "name": "stdout",
     "output_type": "stream",
     "text": [
      "{'ade': 0.4718832, 'fde': 1.0193554}\n",
      "\t last loss:0.000328688, eval on validation:['ade: 0.4718832', 'fde: 1.0193554'], (best ade:0.4668638 at step 40200) \n"
     ]
    },
    {
     "name": "stderr",
     "output_type": "stream",
     "text": [
      " 79%|███████▊  | 623/792 [00:28<00:07, 23.95it/s]\n",
      "  0%|          | 0/69 [00:00<?, ?it/s]\u001b[A"
     ]
    },
    {
     "name": "stdout",
     "output_type": "stream",
     "text": [
      "\tsaving model 62400...\n",
      "\tdone\n",
      "Evaluating\n"
     ]
    },
    {
     "name": "stderr",
     "output_type": "stream",
     "text": [
      "\n",
      " 13%|#3        | 9/69 [00:00<00:00, 82.45it/s]\u001b[A\n",
      " 26%|##6       | 18/69 [00:00<00:00, 82.90it/s]\u001b[A\n",
      " 39%|###9      | 27/69 [00:00<00:00, 83.81it/s]\u001b[A\n",
      " 52%|#####2    | 36/69 [00:00<00:00, 83.87it/s]\u001b[A\n",
      " 65%|######5   | 45/69 [00:00<00:00, 83.93it/s]\u001b[A\n",
      " 78%|#######8  | 54/69 [00:00<00:00, 84.19it/s]\u001b[A\n",
      " 90%|########9 | 62/69 [00:00<00:00, 80.54it/s]\u001b[A\n",
      " 79%|███████▉  | 626/792 [00:29<00:24,  6.78it/s]A"
     ]
    },
    {
     "name": "stdout",
     "output_type": "stream",
     "text": [
      "{'ade': 0.47212654, 'fde': 1.0199239}\n",
      "\t last loss:0.000199733, eval on validation:['ade: 0.47212654', 'fde: 1.0199239'], (best ade:0.4668638 at step 40200) \n"
     ]
    },
    {
     "name": "stderr",
     "output_type": "stream",
     "text": [
      "100%|██████████| 792/792 [00:37<00:00, 21.33it/s]\n",
      "  0%|          | 1/792 [00:00<01:37,  8.08it/s]"
     ]
    },
    {
     "name": "stdout",
     "output_type": "stream",
     "text": [
      "('Epoca 80.', 'lr:', 3.5348305e-06)\n"
     ]
    },
    {
     "name": "stderr",
     "output_type": "stream",
     "text": [
      " 16%|█▋        | 129/792 [00:05<00:25, 25.69it/s]\n",
      "  0%|          | 0/69 [00:00<?, ?it/s]\u001b[A"
     ]
    },
    {
     "name": "stdout",
     "output_type": "stream",
     "text": [
      "\tsaving model 62700...\n",
      "\tdone\n",
      "Evaluating\n"
     ]
    },
    {
     "name": "stderr",
     "output_type": "stream",
     "text": [
      "\n",
      " 14%|#4        | 10/69 [00:00<00:00, 91.13it/s]\u001b[A\n",
      " 29%|##8       | 20/69 [00:00<00:00, 91.52it/s]\u001b[A\n",
      " 43%|####3     | 30/69 [00:00<00:00, 92.17it/s]\u001b[A\n",
      " 58%|#####7    | 40/69 [00:00<00:00, 92.51it/s]\u001b[A\n",
      " 70%|######9   | 48/69 [00:00<00:00, 86.76it/s]\u001b[A\n",
      " 83%|########2 | 57/69 [00:00<00:00, 87.31it/s]\u001b[A\n",
      " 97%|#########7| 67/69 [00:00<00:00, 88.98it/s]\u001b[A\n",
      " 17%|█▋        | 135/792 [00:06<01:08,  9.60it/s]A"
     ]
    },
    {
     "name": "stdout",
     "output_type": "stream",
     "text": [
      "{'ade': 0.4736048, 'fde': 1.0241237}\n",
      "\t last loss:0.000517179, eval on validation:['ade: 0.4736048', 'fde: 1.0241237'], (best ade:0.4668638 at step 40200) \n"
     ]
    },
    {
     "name": "stderr",
     "output_type": "stream",
     "text": [
      " 54%|█████▍    | 429/792 [00:19<00:16, 22.26it/s]\n",
      "  0%|          | 0/69 [00:00<?, ?it/s]\u001b[A"
     ]
    },
    {
     "name": "stdout",
     "output_type": "stream",
     "text": [
      "\tsaving model 63000...\n",
      "\tdone\n",
      "Evaluating\n"
     ]
    },
    {
     "name": "stderr",
     "output_type": "stream",
     "text": [
      "\n",
      " 12%|#1        | 8/69 [00:00<00:00, 77.01it/s]\u001b[A\n",
      " 23%|##3       | 16/69 [00:00<00:00, 76.46it/s]\u001b[A\n",
      " 35%|###4      | 24/69 [00:00<00:00, 76.19it/s]\u001b[A\n",
      " 46%|####6     | 32/69 [00:00<00:00, 76.32it/s]\u001b[A\n",
      " 58%|#####7    | 40/69 [00:00<00:00, 76.60it/s]\u001b[A\n",
      " 70%|######9   | 48/69 [00:00<00:00, 75.72it/s]\u001b[A\n",
      " 80%|#######9  | 55/69 [00:00<00:00, 71.05it/s]\u001b[A\n",
      " 90%|########9 | 62/69 [00:00<00:00, 70.51it/s]\u001b[A\n",
      " 55%|█████▍    | 435/792 [00:20<00:44,  8.03it/s]A"
     ]
    },
    {
     "name": "stdout",
     "output_type": "stream",
     "text": [
      "{'ade': 0.47330943, 'fde': 1.0234994}\n",
      "\t last loss:0.000453469, eval on validation:['ade: 0.47330943', 'fde: 1.0234994'], (best ade:0.4668638 at step 40200) \n"
     ]
    },
    {
     "name": "stderr",
     "output_type": "stream",
     "text": [
      " 92%|█████████▏| 729/792 [00:32<00:02, 23.96it/s]\n",
      "  0%|          | 0/69 [00:00<?, ?it/s]\u001b[A"
     ]
    },
    {
     "name": "stdout",
     "output_type": "stream",
     "text": [
      "\tsaving model 63300...\n",
      "\tdone\n",
      "Evaluating\n"
     ]
    },
    {
     "name": "stderr",
     "output_type": "stream",
     "text": [
      "\n",
      " 12%|#1        | 8/69 [00:00<00:00, 79.00it/s]\u001b[A\n",
      " 25%|##4       | 17/69 [00:00<00:00, 80.69it/s]\u001b[A\n",
      " 38%|###7      | 26/69 [00:00<00:00, 81.62it/s]\u001b[A\n",
      " 51%|#####     | 35/69 [00:00<00:00, 83.96it/s]\u001b[A\n",
      " 64%|######3   | 44/69 [00:00<00:00, 84.86it/s]\u001b[A\n",
      " 75%|#######5  | 52/69 [00:00<00:00, 81.28it/s]\u001b[A\n",
      " 90%|########9 | 62/69 [00:00<00:00, 84.42it/s]\u001b[A\n",
      " 93%|█████████▎| 735/792 [00:33<00:06,  9.17it/s]A"
     ]
    },
    {
     "name": "stdout",
     "output_type": "stream",
     "text": [
      "{'ade': 0.47240147, 'fde': 1.020706}\n",
      "\t last loss:0.000261867, eval on validation:['ade: 0.47240147', 'fde: 1.020706'], (best ade:0.4668638 at step 40200) \n"
     ]
    },
    {
     "name": "stderr",
     "output_type": "stream",
     "text": [
      "100%|██████████| 792/792 [00:35<00:00, 26.56it/s]\n",
      "  0%|          | 3/792 [00:00<00:31, 25.27it/s]"
     ]
    },
    {
     "name": "stdout",
     "output_type": "stream",
     "text": [
      "('Epoca 81.', 'lr:', 3.004606e-06)\n"
     ]
    },
    {
     "name": "stderr",
     "output_type": "stream",
     "text": [
      " 30%|██▉       | 237/792 [00:10<00:25, 21.98it/s]\n",
      "  0%|          | 0/69 [00:00<?, ?it/s]\u001b[A"
     ]
    },
    {
     "name": "stdout",
     "output_type": "stream",
     "text": [
      "\tsaving model 63600...\n",
      "\tdone\n",
      "Evaluating\n"
     ]
    },
    {
     "name": "stderr",
     "output_type": "stream",
     "text": [
      "\n",
      " 12%|#1        | 8/69 [00:00<00:00, 71.88it/s]\u001b[A\n",
      " 23%|##3       | 16/69 [00:00<00:00, 73.51it/s]\u001b[A\n",
      " 35%|###4      | 24/69 [00:00<00:00, 74.84it/s]\u001b[A\n",
      " 46%|####6     | 32/69 [00:00<00:00, 74.97it/s]\u001b[A\n",
      " 58%|#####7    | 40/69 [00:00<00:00, 75.26it/s]\u001b[A\n",
      " 68%|######8   | 47/69 [00:00<00:00, 69.96it/s]\u001b[A\n",
      " 78%|#######8  | 54/69 [00:00<00:00, 69.63it/s]\u001b[A\n",
      " 90%|########9 | 62/69 [00:00<00:00, 71.70it/s]\u001b[A\n",
      " 31%|███       | 243/792 [00:11<01:08,  8.01it/s]A"
     ]
    },
    {
     "name": "stdout",
     "output_type": "stream",
     "text": [
      "{'ade': 0.47305074, 'fde': 1.0223647}\n",
      "\t last loss:0.000275228, eval on validation:['ade: 0.47305074', 'fde: 1.0223647'], (best ade:0.4668638 at step 40200) \n"
     ]
    },
    {
     "name": "stderr",
     "output_type": "stream",
     "text": [
      " 68%|██████▊   | 537/792 [00:24<00:10, 25.29it/s]\n",
      "  0%|          | 0/69 [00:00<?, ?it/s]\u001b[A"
     ]
    },
    {
     "name": "stdout",
     "output_type": "stream",
     "text": [
      "\tsaving model 63900...\n",
      "\tdone\n",
      "Evaluating\n"
     ]
    },
    {
     "name": "stderr",
     "output_type": "stream",
     "text": [
      "\n",
      " 13%|#3        | 9/69 [00:00<00:00, 83.24it/s]\u001b[A\n",
      " 26%|##6       | 18/69 [00:00<00:00, 84.34it/s]\u001b[A\n",
      " 38%|###7      | 26/69 [00:00<00:00, 82.38it/s]\u001b[A\n",
      " 51%|#####     | 35/69 [00:00<00:00, 82.42it/s]\u001b[A\n",
      " 64%|######3   | 44/69 [00:00<00:00, 83.34it/s]\u001b[A\n",
      " 77%|#######6  | 53/69 [00:00<00:00, 83.21it/s]\u001b[A\n",
      " 90%|########9 | 62/69 [00:00<00:00, 83.94it/s]\u001b[A\n",
      " 69%|██████▊   | 543/792 [00:25<00:28,  8.88it/s]A"
     ]
    },
    {
     "name": "stdout",
     "output_type": "stream",
     "text": [
      "{'ade': 0.4720535, 'fde': 1.0197521}\n",
      "\t last loss:0.000325020, eval on validation:['ade: 0.4720535', 'fde: 1.0197521'], (best ade:0.4668638 at step 40200) \n"
     ]
    },
    {
     "name": "stderr",
     "output_type": "stream",
     "text": [
      "100%|██████████| 792/792 [00:35<00:00, 26.80it/s]\n",
      "  0%|          | 3/792 [00:00<00:35, 22.36it/s]"
     ]
    },
    {
     "name": "stdout",
     "output_type": "stream",
     "text": [
      "('Epoca 82.', 'lr:', 3.004606e-06)\n"
     ]
    },
    {
     "name": "stderr",
     "output_type": "stream",
     "text": [
      "  6%|▌         | 45/792 [00:01<00:28, 26.28it/s]\n",
      "  0%|          | 0/69 [00:00<?, ?it/s]\u001b[A"
     ]
    },
    {
     "name": "stdout",
     "output_type": "stream",
     "text": [
      "\tsaving model 64200...\n",
      "\tdone\n",
      "Evaluating\n"
     ]
    },
    {
     "name": "stderr",
     "output_type": "stream",
     "text": [
      "\n",
      " 12%|#1        | 8/69 [00:00<00:00, 73.59it/s]\u001b[A\n",
      " 23%|##3       | 16/69 [00:00<00:00, 73.32it/s]\u001b[A\n",
      " 36%|###6      | 25/69 [00:00<00:00, 76.30it/s]\u001b[A\n",
      " 49%|####9     | 34/69 [00:00<00:00, 78.99it/s]\u001b[A\n",
      " 62%|######2   | 43/69 [00:00<00:00, 80.83it/s]\u001b[A\n",
      " 74%|#######3  | 51/69 [00:00<00:00, 80.34it/s]\u001b[A\n",
      " 87%|########6 | 60/69 [00:00<00:00, 81.74it/s]\u001b[A\n",
      "  6%|▋         | 51/792 [00:03<01:21,  9.08it/s][A"
     ]
    },
    {
     "name": "stdout",
     "output_type": "stream",
     "text": [
      "{'ade': 0.47295046, 'fde': 1.0219635}\n",
      "\t last loss:0.000306125, eval on validation:['ade: 0.47295046', 'fde: 1.0219635'], (best ade:0.4668638 at step 40200) \n"
     ]
    },
    {
     "name": "stderr",
     "output_type": "stream",
     "text": [
      " 44%|████▎     | 345/792 [00:15<00:17, 25.05it/s]\n",
      "  0%|          | 0/69 [00:00<?, ?it/s]\u001b[A"
     ]
    },
    {
     "name": "stdout",
     "output_type": "stream",
     "text": [
      "\tsaving model 64500...\n",
      "\tdone\n",
      "Evaluating\n"
     ]
    },
    {
     "name": "stderr",
     "output_type": "stream",
     "text": [
      "\n",
      " 12%|#1        | 8/69 [00:00<00:00, 75.47it/s]\u001b[A\n",
      " 25%|##4       | 17/69 [00:00<00:00, 78.14it/s]\u001b[A\n",
      " 38%|###7      | 26/69 [00:00<00:00, 79.98it/s]\u001b[A\n",
      " 51%|#####     | 35/69 [00:00<00:00, 81.92it/s]\u001b[A\n",
      " 64%|######3   | 44/69 [00:00<00:00, 82.80it/s]\u001b[A\n",
      " 77%|#######6  | 53/69 [00:00<00:00, 83.77it/s]\u001b[A\n",
      " 90%|########9 | 62/69 [00:00<00:00, 84.33it/s]\u001b[A\n",
      " 44%|████▍     | 350/792 [00:17<00:50,  8.70it/s]A"
     ]
    },
    {
     "name": "stdout",
     "output_type": "stream",
     "text": [
      "{'ade': 0.4725231, 'fde': 1.0210621}\n",
      "\t last loss:0.000335920, eval on validation:['ade: 0.4725231', 'fde: 1.0210621'], (best ade:0.4668638 at step 40200) \n"
     ]
    },
    {
     "name": "stderr",
     "output_type": "stream",
     "text": [
      " 82%|████████▏ | 647/792 [00:29<00:07, 20.58it/s]"
     ]
    },
    {
     "name": "stdout",
     "output_type": "stream",
     "text": [
      "\tsaving model 64800...\n"
     ]
    },
    {
     "name": "stderr",
     "output_type": "stream",
     "text": [
      "\n",
      "  0%|          | 0/69 [00:00<?, ?it/s]\u001b[A\n",
      " 10%|#         | 7/69 [00:00<00:00, 65.35it/s]\u001b[A"
     ]
    },
    {
     "name": "stdout",
     "output_type": "stream",
     "text": [
      "\tdone\n",
      "Evaluating\n"
     ]
    },
    {
     "name": "stderr",
     "output_type": "stream",
     "text": [
      "\n",
      " 20%|##        | 14/69 [00:00<00:00, 64.80it/s]\u001b[A\n",
      " 30%|###       | 21/69 [00:00<00:00, 65.05it/s]\u001b[A\n",
      " 41%|####      | 28/69 [00:00<00:00, 65.00it/s]\u001b[A\n",
      " 52%|#####2    | 36/69 [00:00<00:00, 67.63it/s]\u001b[A\n",
      " 64%|######3   | 44/69 [00:00<00:00, 70.12it/s]\u001b[A\n",
      " 75%|#######5  | 52/69 [00:00<00:00, 71.57it/s]\u001b[A\n",
      " 87%|########6 | 60/69 [00:00<00:00, 73.12it/s]\u001b[A\n",
      " 99%|#########8| 68/69 [00:00<00:00, 73.96it/s]\u001b[A\n",
      " 82%|████████▏ | 650/792 [00:30<00:23,  5.96it/s]A"
     ]
    },
    {
     "name": "stdout",
     "output_type": "stream",
     "text": [
      "{'ade': 0.47193375, 'fde': 1.0194333}\n",
      "\t last loss:0.000373298, eval on validation:['ade: 0.47193375', 'fde: 1.0194333'], (best ade:0.4668638 at step 40200) \n"
     ]
    },
    {
     "name": "stderr",
     "output_type": "stream",
     "text": [
      "100%|██████████| 792/792 [00:37<00:00, 21.21it/s]\n",
      "  0%|          | 2/792 [00:00<00:40, 19.27it/s]"
     ]
    },
    {
     "name": "stdout",
     "output_type": "stream",
     "text": [
      "('Epoca 83.', 'lr:', 2.5539152e-06)\n"
     ]
    },
    {
     "name": "stderr",
     "output_type": "stream",
     "text": [
      " 20%|█▉        | 155/792 [00:06<00:26, 24.31it/s]\n",
      "  0%|          | 0/69 [00:00<?, ?it/s]\u001b[A"
     ]
    },
    {
     "name": "stdout",
     "output_type": "stream",
     "text": [
      "\tsaving model 65100...\n",
      "\tdone\n",
      "Evaluating\n"
     ]
    },
    {
     "name": "stderr",
     "output_type": "stream",
     "text": [
      "\n",
      " 13%|#3        | 9/69 [00:00<00:00, 83.68it/s]\u001b[A\n",
      " 26%|##6       | 18/69 [00:00<00:00, 84.25it/s]\u001b[A\n",
      " 39%|###9      | 27/69 [00:00<00:00, 83.97it/s]\u001b[A\n",
      " 52%|#####2    | 36/69 [00:00<00:00, 84.30it/s]\u001b[A\n",
      " 64%|######3   | 44/69 [00:00<00:00, 80.85it/s]\u001b[A\n",
      " 74%|#######3  | 51/69 [00:00<00:00, 76.37it/s]\u001b[A\n",
      " 87%|########6 | 60/69 [00:00<00:00, 78.45it/s]\u001b[A\n",
      " 20%|█▉        | 158/792 [00:07<01:31,  6.89it/s]A"
     ]
    },
    {
     "name": "stdout",
     "output_type": "stream",
     "text": [
      "{'ade': 0.47103265, 'fde': 1.017027}\n",
      "\t last loss:0.000304673, eval on validation:['ade: 0.47103265', 'fde: 1.017027'], (best ade:0.4668638 at step 40200) \n"
     ]
    },
    {
     "name": "stderr",
     "output_type": "stream",
     "text": [
      " 57%|█████▋    | 455/792 [00:20<00:13, 24.97it/s]\n",
      "  0%|          | 0/69 [00:00<?, ?it/s]\u001b[A"
     ]
    },
    {
     "name": "stdout",
     "output_type": "stream",
     "text": [
      "\tsaving model 65400...\n",
      "\tdone\n",
      "Evaluating\n"
     ]
    },
    {
     "name": "stderr",
     "output_type": "stream",
     "text": [
      "\n",
      " 13%|#3        | 9/69 [00:00<00:00, 83.29it/s]\u001b[A\n",
      " 26%|##6       | 18/69 [00:00<00:00, 84.24it/s]\u001b[A\n",
      " 38%|###7      | 26/69 [00:00<00:00, 81.64it/s]\u001b[A\n",
      " 51%|#####     | 35/69 [00:00<00:00, 82.04it/s]\u001b[A\n",
      " 64%|######3   | 44/69 [00:00<00:00, 83.87it/s]\u001b[A\n",
      " 78%|#######8  | 54/69 [00:00<00:00, 86.07it/s]\u001b[A\n",
      " 93%|#########2| 64/69 [00:00<00:00, 88.26it/s]\u001b[A\n",
      " 58%|█████▊    | 458/792 [00:21<00:46,  7.23it/s]A"
     ]
    },
    {
     "name": "stdout",
     "output_type": "stream",
     "text": [
      "{'ade': 0.4717499, 'fde': 1.01924}\n",
      "\t last loss:0.000514997, eval on validation:['ade: 0.4717499', 'fde: 1.01924'], (best ade:0.4668638 at step 40200) \n"
     ]
    },
    {
     "name": "stderr",
     "output_type": "stream",
     "text": [
      " 95%|█████████▌| 755/792 [00:33<00:01, 22.24it/s]\n",
      "  0%|          | 0/69 [00:00<?, ?it/s]\u001b[A"
     ]
    },
    {
     "name": "stdout",
     "output_type": "stream",
     "text": [
      "\tsaving model 65700...\n",
      "\tdone\n",
      "Evaluating\n"
     ]
    },
    {
     "name": "stderr",
     "output_type": "stream",
     "text": [
      "\n",
      " 12%|#1        | 8/69 [00:00<00:00, 72.78it/s]\u001b[A\n",
      " 23%|##3       | 16/69 [00:00<00:00, 74.13it/s]\u001b[A\n",
      " 35%|###4      | 24/69 [00:00<00:00, 74.59it/s]\u001b[A\n",
      " 46%|####6     | 32/69 [00:00<00:00, 74.61it/s]\u001b[A\n",
      " 57%|#####6    | 39/69 [00:00<00:00, 72.34it/s]\u001b[A\n",
      " 67%|######6   | 46/69 [00:00<00:00, 71.51it/s]\u001b[A\n",
      " 77%|#######6  | 53/69 [00:00<00:00, 68.26it/s]\u001b[A\n",
      " 88%|########8 | 61/69 [00:00<00:00, 70.46it/s]\u001b[A\n",
      " 96%|█████████▌| 758/792 [00:35<00:05,  6.21it/s]A"
     ]
    },
    {
     "name": "stdout",
     "output_type": "stream",
     "text": [
      "{'ade': 0.4734155, 'fde': 1.023739}\n",
      "\t last loss:0.000358907, eval on validation:['ade: 0.4734155', 'fde: 1.023739'], (best ade:0.4668638 at step 40200) \n"
     ]
    },
    {
     "name": "stderr",
     "output_type": "stream",
     "text": [
      "100%|██████████| 792/792 [00:36<00:00, 21.52it/s]\n",
      "  0%|          | 2/792 [00:00<00:45, 17.25it/s]"
     ]
    },
    {
     "name": "stdout",
     "output_type": "stream",
     "text": [
      "('Epoca 84.', 'lr:', 2.5539152e-06)\n"
     ]
    },
    {
     "name": "stderr",
     "output_type": "stream",
     "text": [
      " 33%|███▎      | 263/792 [00:10<00:22, 23.92it/s]\n",
      "  0%|          | 0/69 [00:00<?, ?it/s]\u001b[A"
     ]
    },
    {
     "name": "stdout",
     "output_type": "stream",
     "text": [
      "\tsaving model 66000...\n",
      "\tdone\n",
      "Evaluating\n"
     ]
    },
    {
     "name": "stderr",
     "output_type": "stream",
     "text": [
      "\n",
      " 13%|#3        | 9/69 [00:00<00:00, 82.99it/s]\u001b[A\n",
      " 26%|##6       | 18/69 [00:00<00:00, 82.36it/s]\u001b[A\n",
      " 39%|###9      | 27/69 [00:00<00:00, 83.17it/s]\u001b[A\n",
      " 51%|#####     | 35/69 [00:00<00:00, 80.64it/s]\u001b[A\n",
      " 64%|######3   | 44/69 [00:00<00:00, 81.48it/s]\u001b[A\n",
      " 77%|#######6  | 53/69 [00:00<00:00, 81.88it/s]\u001b[A\n",
      " 90%|########9 | 62/69 [00:00<00:00, 83.22it/s]\u001b[A\n",
      " 34%|███▎      | 266/792 [00:11<01:15,  6.94it/s]A"
     ]
    },
    {
     "name": "stdout",
     "output_type": "stream",
     "text": [
      "{'ade': 0.4727323, 'fde': 1.0219707}\n",
      "\t last loss:0.000351562, eval on validation:['ade: 0.4727323', 'fde: 1.0219707'], (best ade:0.4668638 at step 40200) \n"
     ]
    },
    {
     "name": "stderr",
     "output_type": "stream",
     "text": [
      " 71%|███████   | 563/792 [00:24<00:08, 26.32it/s]\n",
      "  0%|          | 0/69 [00:00<?, ?it/s]\u001b[A"
     ]
    },
    {
     "name": "stdout",
     "output_type": "stream",
     "text": [
      "\tsaving model 66300...\n",
      "\tdone\n",
      "Evaluating\n"
     ]
    },
    {
     "name": "stderr",
     "output_type": "stream",
     "text": [
      "\n",
      " 13%|#3        | 9/69 [00:00<00:00, 89.55it/s]\u001b[A\n",
      " 26%|##6       | 18/69 [00:00<00:00, 87.50it/s]\u001b[A\n",
      " 41%|####      | 28/69 [00:00<00:00, 89.26it/s]\u001b[A\n",
      " 55%|#####5    | 38/69 [00:00<00:00, 90.52it/s]\u001b[A\n",
      " 70%|######9   | 48/69 [00:00<00:00, 91.38it/s]\u001b[A\n",
      " 84%|########4 | 58/69 [00:00<00:00, 91.59it/s]\u001b[A\n",
      " 99%|#########8| 68/69 [00:00<00:00, 91.80it/s]\u001b[A\n",
      " 71%|███████▏  | 566/792 [00:25<00:29,  7.55it/s]A"
     ]
    },
    {
     "name": "stdout",
     "output_type": "stream",
     "text": [
      "{'ade': 0.47083017, 'fde': 1.0164161}\n",
      "\t last loss:0.000390447, eval on validation:['ade: 0.47083017', 'fde: 1.0164161'], (best ade:0.4668638 at step 40200) \n"
     ]
    },
    {
     "name": "stderr",
     "output_type": "stream",
     "text": [
      "100%|██████████| 792/792 [00:35<00:00, 22.29it/s]\n",
      "  0%|          | 1/792 [00:00<01:38,  8.00it/s]"
     ]
    },
    {
     "name": "stdout",
     "output_type": "stream",
     "text": [
      "('Epoca 85.', 'lr:', 2.170828e-06)\n"
     ]
    },
    {
     "name": "stderr",
     "output_type": "stream",
     "text": [
      "  9%|▊         | 69/792 [00:03<00:31, 23.05it/s]\n",
      "  0%|          | 0/69 [00:00<?, ?it/s]\u001b[A"
     ]
    },
    {
     "name": "stdout",
     "output_type": "stream",
     "text": [
      "\tsaving model 66600...\n",
      "\tdone\n",
      "Evaluating\n"
     ]
    },
    {
     "name": "stderr",
     "output_type": "stream",
     "text": [
      "\n",
      " 10%|#         | 7/69 [00:00<00:01, 61.47it/s]\u001b[A\n",
      " 22%|##1       | 15/69 [00:00<00:00, 64.69it/s]\u001b[A\n",
      " 33%|###3      | 23/69 [00:00<00:00, 68.06it/s]\u001b[A\n",
      " 45%|####4     | 31/69 [00:00<00:00, 69.46it/s]\u001b[A\n",
      " 57%|#####6    | 39/69 [00:00<00:00, 71.18it/s]\u001b[A\n",
      " 68%|######8   | 47/69 [00:00<00:00, 73.00it/s]\u001b[A\n",
      " 78%|#######8  | 54/69 [00:00<00:00, 71.89it/s]\u001b[A\n",
      " 90%|########9 | 62/69 [00:00<00:00, 72.79it/s]\u001b[A\n",
      "  9%|▉         | 75/792 [00:04<01:30,  7.96it/s][A"
     ]
    },
    {
     "name": "stdout",
     "output_type": "stream",
     "text": [
      "{'ade': 0.47236797, 'fde': 1.0207238}\n",
      "\t last loss:0.000355965, eval on validation:['ade: 0.47236797', 'fde: 1.0207238'], (best ade:0.4668638 at step 40200) \n"
     ]
    },
    {
     "name": "stderr",
     "output_type": "stream",
     "text": [
      " 47%|████▋     | 369/792 [00:16<00:16, 25.18it/s]\n",
      "  0%|          | 0/69 [00:00<?, ?it/s]\u001b[A"
     ]
    },
    {
     "name": "stdout",
     "output_type": "stream",
     "text": [
      "\tsaving model 66900...\n",
      "\tdone\n",
      "Evaluating\n"
     ]
    },
    {
     "name": "stderr",
     "output_type": "stream",
     "text": [
      "\n",
      " 10%|#         | 7/69 [00:00<00:00, 63.51it/s]\u001b[A\n",
      " 20%|##        | 14/69 [00:00<00:00, 63.79it/s]\u001b[A\n",
      " 30%|###       | 21/69 [00:00<00:00, 64.92it/s]\u001b[A\n",
      " 41%|####      | 28/69 [00:00<00:00, 65.28it/s]\u001b[A\n",
      " 51%|#####     | 35/69 [00:00<00:00, 65.05it/s]\u001b[A\n",
      " 61%|######    | 42/69 [00:00<00:00, 65.42it/s]\u001b[A\n",
      " 71%|#######1  | 49/69 [00:00<00:00, 65.79it/s]\u001b[A\n",
      " 81%|########1 | 56/69 [00:00<00:00, 63.95it/s]\u001b[A\n",
      " 91%|#########1| 63/69 [00:00<00:00, 61.84it/s]\u001b[A\n",
      " 47%|████▋     | 375/792 [00:17<00:55,  7.50it/s]A"
     ]
    },
    {
     "name": "stdout",
     "output_type": "stream",
     "text": [
      "{'ade': 0.47175947, 'fde': 1.0187693}\n",
      "\t last loss:0.000544808, eval on validation:['ade: 0.47175947', 'fde: 1.0187693'], (best ade:0.4668638 at step 40200) \n"
     ]
    },
    {
     "name": "stderr",
     "output_type": "stream",
     "text": [
      " 85%|████████▍ | 670/792 [00:30<00:04, 26.56it/s]\n",
      "  0%|          | 0/69 [00:00<?, ?it/s]\u001b[A"
     ]
    },
    {
     "name": "stdout",
     "output_type": "stream",
     "text": [
      "\tsaving model 67200...\n",
      "\tdone\n",
      "Evaluating\n"
     ]
    },
    {
     "name": "stderr",
     "output_type": "stream",
     "text": [
      "\n",
      " 13%|#3        | 9/69 [00:00<00:00, 89.89it/s]\u001b[A\n",
      " 28%|##7       | 19/69 [00:00<00:00, 91.16it/s]\u001b[A\n",
      " 42%|####2     | 29/69 [00:00<00:00, 91.99it/s]\u001b[A\n",
      " 57%|#####6    | 39/69 [00:00<00:00, 92.61it/s]\u001b[A\n",
      " 71%|#######1  | 49/69 [00:00<00:00, 92.30it/s]\u001b[A\n",
      " 84%|########4 | 58/69 [00:00<00:00, 90.68it/s]\u001b[A\n",
      " 99%|#########8| 68/69 [00:00<00:00, 91.71it/s]\u001b[A\n",
      " 85%|████████▍ | 673/792 [00:31<00:15,  7.52it/s]A"
     ]
    },
    {
     "name": "stdout",
     "output_type": "stream",
     "text": [
      "{'ade': 0.47210756, 'fde': 1.0199775}\n",
      "\t last loss:0.000255457, eval on validation:['ade: 0.47210756', 'fde: 1.0199775'], (best ade:0.4668638 at step 40200) \n"
     ]
    },
    {
     "name": "stderr",
     "output_type": "stream",
     "text": [
      "100%|██████████| 792/792 [00:36<00:00, 21.75it/s]\n",
      "  0%|          | 1/792 [00:00<01:35,  8.27it/s]"
     ]
    },
    {
     "name": "stdout",
     "output_type": "stream",
     "text": [
      "('Epoca 86.', 'lr:', 2.170828e-06)\n"
     ]
    },
    {
     "name": "stderr",
     "output_type": "stream",
     "text": [
      " 22%|██▏       | 178/792 [00:07<00:26, 23.45it/s]\n",
      "  0%|          | 0/69 [00:00<?, ?it/s]\u001b[A"
     ]
    },
    {
     "name": "stdout",
     "output_type": "stream",
     "text": [
      "\tsaving model 67500...\n",
      "\tdone\n",
      "Evaluating\n"
     ]
    },
    {
     "name": "stderr",
     "output_type": "stream",
     "text": [
      "\n",
      " 13%|#3        | 9/69 [00:00<00:00, 84.44it/s]\u001b[A\n",
      " 26%|##6       | 18/69 [00:00<00:00, 84.81it/s]\u001b[A\n",
      " 38%|###7      | 26/69 [00:00<00:00, 83.03it/s]\u001b[A\n",
      " 49%|####9     | 34/69 [00:00<00:00, 81.79it/s]\u001b[A\n",
      " 62%|######2   | 43/69 [00:00<00:00, 82.30it/s]\u001b[A\n",
      " 72%|#######2  | 50/69 [00:00<00:00, 75.68it/s]\u001b[A\n",
      " 83%|########2 | 57/69 [00:00<00:00, 71.63it/s]\u001b[A\n",
      " 93%|#########2| 64/69 [00:00<00:00, 69.64it/s]\u001b[A\n",
      " 23%|██▎       | 181/792 [00:08<01:35,  6.37it/s]A"
     ]
    },
    {
     "name": "stdout",
     "output_type": "stream",
     "text": [
      "{'ade': 0.47283304, 'fde': 1.0220379}\n",
      "\t last loss:0.001054814, eval on validation:['ade: 0.47283304', 'fde: 1.0220379'], (best ade:0.4668638 at step 40200) \n"
     ]
    },
    {
     "name": "stderr",
     "output_type": "stream",
     "text": [
      " 60%|██████    | 477/792 [00:21<00:12, 25.28it/s]\n",
      "  0%|          | 0/69 [00:00<?, ?it/s]\u001b[A"
     ]
    },
    {
     "name": "stdout",
     "output_type": "stream",
     "text": [
      "\tsaving model 67800...\n",
      "\tdone\n",
      "Evaluating\n"
     ]
    },
    {
     "name": "stderr",
     "output_type": "stream",
     "text": [
      "\n",
      " 13%|#3        | 9/69 [00:00<00:00, 86.71it/s]\u001b[A\n",
      " 26%|##6       | 18/69 [00:00<00:00, 86.30it/s]\u001b[A\n",
      " 41%|####      | 28/69 [00:00<00:00, 88.38it/s]\u001b[A\n",
      " 54%|#####3    | 37/69 [00:00<00:00, 86.45it/s]\u001b[A\n",
      " 67%|######6   | 46/69 [00:00<00:00, 87.48it/s]\u001b[A\n",
      " 81%|########1 | 56/69 [00:00<00:00, 88.81it/s]\u001b[A\n",
      " 96%|#########5| 66/69 [00:00<00:00, 90.58it/s]\u001b[A\n",
      " 61%|██████    | 483/792 [00:22<00:32,  9.50it/s]A"
     ]
    },
    {
     "name": "stdout",
     "output_type": "stream",
     "text": [
      "{'ade': 0.47253445, 'fde': 1.0210522}\n",
      "\t last loss:0.000365115, eval on validation:['ade: 0.47253445', 'fde: 1.0210522'], (best ade:0.4668638 at step 40200) \n"
     ]
    },
    {
     "name": "stderr",
     "output_type": "stream",
     "text": [
      " 98%|█████████▊| 777/792 [00:35<00:00, 22.86it/s]\n",
      "  0%|          | 0/69 [00:00<?, ?it/s]\u001b[A"
     ]
    },
    {
     "name": "stdout",
     "output_type": "stream",
     "text": [
      "\tsaving model 68100...\n",
      "\tdone\n",
      "Evaluating\n"
     ]
    },
    {
     "name": "stderr",
     "output_type": "stream",
     "text": [
      "\n",
      " 12%|#1        | 8/69 [00:00<00:00, 73.78it/s]\u001b[A\n",
      " 23%|##3       | 16/69 [00:00<00:00, 73.18it/s]\u001b[A\n",
      " 35%|###4      | 24/69 [00:00<00:00, 74.13it/s]\u001b[A\n",
      " 45%|####4     | 31/69 [00:00<00:00, 71.71it/s]\u001b[A\n",
      " 54%|#####3    | 37/69 [00:00<00:00, 66.60it/s]\u001b[A\n",
      " 67%|######6   | 46/69 [00:00<00:00, 70.74it/s]\u001b[A\n",
      " 80%|#######9  | 55/69 [00:00<00:00, 73.85it/s]\u001b[A\n",
      " 93%|#########2| 64/69 [00:00<00:00, 77.12it/s]\u001b[A\n",
      " 99%|█████████▉| 783/792 [00:36<00:01,  8.27it/s]A"
     ]
    },
    {
     "name": "stdout",
     "output_type": "stream",
     "text": [
      "{'ade': 0.47247672, 'fde': 1.0210493}\n",
      "\t last loss:0.000395649, eval on validation:['ade: 0.47247672', 'fde: 1.0210493'], (best ade:0.4668638 at step 40200) \n"
     ]
    },
    {
     "name": "stderr",
     "output_type": "stream",
     "text": [
      "100%|██████████| 792/792 [00:37<00:00, 14.46it/s]\n",
      "  0%|          | 3/792 [00:00<00:34, 22.56it/s]"
     ]
    },
    {
     "name": "stdout",
     "output_type": "stream",
     "text": [
      "('Epoca 87.', 'lr:', 1.8452038e-06)\n"
     ]
    },
    {
     "name": "stderr",
     "output_type": "stream",
     "text": [
      " 36%|███▌      | 285/792 [00:11<00:22, 22.27it/s]"
     ]
    },
    {
     "name": "stdout",
     "output_type": "stream",
     "text": [
      "\tsaving model 68400...\n"
     ]
    },
    {
     "name": "stderr",
     "output_type": "stream",
     "text": [
      "\n",
      "  0%|          | 0/69 [00:00<?, ?it/s]\u001b[A\n",
      "  9%|8         | 6/69 [00:00<00:01, 58.21it/s]\u001b[A\n",
      " 19%|#8        | 13/69 [00:00<00:00, 60.51it/s]\u001b[A\n",
      " 28%|##7       | 19/69 [00:00<00:00, 59.66it/s]\u001b[A\n",
      " 36%|###6      | 25/69 [00:00<00:00, 58.72it/s]\u001b[A\n",
      " 46%|####6     | 32/69 [00:00<00:00, 60.53it/s]\u001b[A\n",
      " 57%|#####6    | 39/69 [00:00<00:00, 62.37it/s]\u001b[A\n",
      " 67%|######6   | 46/69 [00:00<00:00, 63.74it/s]\u001b[A\n",
      " 77%|#######6  | 53/69 [00:00<00:00, 65.01it/s]\u001b[A\n",
      " 87%|########6 | 60/69 [00:00<00:00, 65.25it/s]\u001b[A\n",
      " 97%|#########7| 67/69 [00:01<00:00, 63.35it/s]\u001b[A\n",
      " 36%|███▋      | 288/792 [00:12<01:30,  5.59it/s]A"
     ]
    },
    {
     "name": "stdout",
     "output_type": "stream",
     "text": [
      "\tdone\n",
      "Evaluating\n",
      "{'ade': 0.47241393, 'fde': 1.0206598}\n",
      "\t last loss:0.000315152, eval on validation:['ade: 0.47241393', 'fde: 1.0206598'], (best ade:0.4668638 at step 40200) \n"
     ]
    },
    {
     "name": "stderr",
     "output_type": "stream",
     "text": [
      " 74%|███████▍  | 587/792 [00:26<00:09, 22.17it/s]\n"
     ]
    },
    {
     "name": "stdout",
     "output_type": "stream",
     "text": [
      "\tsaving model 68700...\n",
      "\tdone\n",
      "Evaluating\n"
     ]
    },
    {
     "name": "stderr",
     "output_type": "stream",
     "text": [
      "  0%|          | 0/69 [00:00<?, ?it/s]\u001b[A\n",
      " 12%|#1        | 8/69 [00:00<00:00, 75.90it/s]\u001b[A\n",
      " 23%|##3       | 16/69 [00:00<00:00, 76.01it/s]\u001b[A\n",
      " 35%|###4      | 24/69 [00:00<00:00, 75.53it/s]\u001b[A\n",
      " 46%|####6     | 32/69 [00:00<00:00, 75.19it/s]\u001b[A\n",
      " 58%|#####7    | 40/69 [00:00<00:00, 75.68it/s]\u001b[A\n",
      " 70%|######9   | 48/69 [00:00<00:00, 76.37it/s]\u001b[A\n",
      " 80%|#######9  | 55/69 [00:00<00:00, 72.54it/s]\u001b[A\n",
      " 90%|########9 | 62/69 [00:00<00:00, 71.70it/s]\u001b[A\n",
      " 74%|███████▍  | 590/792 [00:27<00:31,  6.34it/s]A"
     ]
    },
    {
     "name": "stdout",
     "output_type": "stream",
     "text": [
      "{'ade': 0.47181028, 'fde': 1.0190518}\n",
      "\t last loss:0.000775624, eval on validation:['ade: 0.47181028', 'fde: 1.0190518'], (best ade:0.4668638 at step 40200) \n"
     ]
    },
    {
     "name": "stderr",
     "output_type": "stream",
     "text": [
      "100%|██████████| 792/792 [00:35<00:00, 22.42it/s]\n",
      "  0%|          | 1/792 [00:00<01:29,  8.84it/s]"
     ]
    },
    {
     "name": "stdout",
     "output_type": "stream",
     "text": [
      "('Epoca 88.', 'lr:', 1.8452038e-06)\n"
     ]
    },
    {
     "name": "stderr",
     "output_type": "stream",
     "text": [
      " 12%|█▏        | 94/792 [00:03<00:30, 23.18it/s]"
     ]
    },
    {
     "name": "stdout",
     "output_type": "stream",
     "text": [
      "\tsaving model 69000...\n"
     ]
    },
    {
     "name": "stderr",
     "output_type": "stream",
     "text": [
      "\n",
      "  0%|          | 0/69 [00:00<?, ?it/s]\u001b[A\n",
      "  9%|8         | 6/69 [00:00<00:01, 59.63it/s]\u001b[A"
     ]
    },
    {
     "name": "stdout",
     "output_type": "stream",
     "text": [
      "\tdone\n",
      "Evaluating\n"
     ]
    },
    {
     "name": "stderr",
     "output_type": "stream",
     "text": [
      "\n",
      " 19%|#8        | 13/69 [00:00<00:00, 60.64it/s]\u001b[A\n",
      " 29%|##8       | 20/69 [00:00<00:00, 61.74it/s]\u001b[A\n",
      " 39%|###9      | 27/69 [00:00<00:00, 63.06it/s]\u001b[A\n",
      " 46%|####6     | 32/69 [00:00<00:00, 58.39it/s]\u001b[A\n",
      " 57%|#####6    | 39/69 [00:00<00:00, 60.20it/s]\u001b[A\n",
      " 67%|######6   | 46/69 [00:00<00:00, 62.23it/s]\u001b[A\n",
      " 77%|#######6  | 53/69 [00:00<00:00, 63.60it/s]\u001b[A\n",
      " 87%|########6 | 60/69 [00:00<00:00, 64.31it/s]\u001b[A\n",
      " 97%|#########7| 67/69 [00:01<00:00, 64.96it/s]\u001b[A\n",
      " 12%|█▏        | 97/792 [00:05<02:03,  5.62it/s][A"
     ]
    },
    {
     "name": "stdout",
     "output_type": "stream",
     "text": [
      "{'ade': 0.47136486, 'fde': 1.0179331}\n",
      "\t last loss:0.000339228, eval on validation:['ade: 0.47136486', 'fde: 1.0179331'], (best ade:0.4668638 at step 40200) \n"
     ]
    },
    {
     "name": "stderr",
     "output_type": "stream",
     "text": [
      " 50%|████▉     | 393/792 [00:18<00:15, 26.15it/s]\n",
      "  0%|          | 0/69 [00:00<?, ?it/s]\u001b[A"
     ]
    },
    {
     "name": "stdout",
     "output_type": "stream",
     "text": [
      "\tsaving model 69300...\n",
      "\tdone\n",
      "Evaluating\n"
     ]
    },
    {
     "name": "stderr",
     "output_type": "stream",
     "text": [
      "\n",
      " 13%|#3        | 9/69 [00:00<00:00, 83.05it/s]\u001b[A\n",
      " 28%|##7       | 19/69 [00:00<00:00, 86.07it/s]\u001b[A\n",
      " 42%|####2     | 29/69 [00:00<00:00, 88.28it/s]\u001b[A\n",
      " 54%|#####3    | 37/69 [00:00<00:00, 85.19it/s]\u001b[A\n",
      " 67%|######6   | 46/69 [00:00<00:00, 86.16it/s]\u001b[A\n",
      " 80%|#######9  | 55/69 [00:00<00:00, 85.97it/s]\u001b[A\n",
      " 94%|#########4| 65/69 [00:00<00:00, 88.52it/s]\u001b[A\n",
      " 50%|█████     | 399/792 [00:19<00:41,  9.56it/s]A"
     ]
    },
    {
     "name": "stdout",
     "output_type": "stream",
     "text": [
      "{'ade': 0.47225663, 'fde': 1.0204247}\n",
      "\t last loss:0.000406594, eval on validation:['ade: 0.47225663', 'fde: 1.0204247'], (best ade:0.4668638 at step 40200) \n"
     ]
    },
    {
     "name": "stderr",
     "output_type": "stream",
     "text": [
      " 88%|████████▊ | 693/792 [00:32<00:04, 24.03it/s]\n",
      "  0%|          | 0/69 [00:00<?, ?it/s]\u001b[A"
     ]
    },
    {
     "name": "stdout",
     "output_type": "stream",
     "text": [
      "\tsaving model 69600...\n",
      "\tdone\n",
      "Evaluating\n"
     ]
    },
    {
     "name": "stderr",
     "output_type": "stream",
     "text": [
      "\n",
      " 13%|#3        | 9/69 [00:00<00:00, 82.09it/s]\u001b[A\n",
      " 26%|##6       | 18/69 [00:00<00:00, 83.37it/s]\u001b[A\n",
      " 38%|###7      | 26/69 [00:00<00:00, 80.09it/s]\u001b[A\n",
      " 51%|#####     | 35/69 [00:00<00:00, 80.82it/s]\u001b[A\n",
      " 64%|######3   | 44/69 [00:00<00:00, 82.04it/s]\u001b[A\n",
      " 77%|#######6  | 53/69 [00:00<00:00, 83.16it/s]\u001b[A\n",
      " 90%|########9 | 62/69 [00:00<00:00, 84.01it/s]\u001b[A\n",
      " 88%|████████▊ | 699/792 [00:33<00:10,  8.85it/s]A"
     ]
    },
    {
     "name": "stdout",
     "output_type": "stream",
     "text": [
      "{'ade': 0.47195086, 'fde': 1.0194991}\n",
      "\t last loss:0.000388557, eval on validation:['ade: 0.47195086', 'fde: 1.0194991'], (best ade:0.4668638 at step 40200) \n"
     ]
    },
    {
     "name": "stderr",
     "output_type": "stream",
     "text": [
      "100%|██████████| 792/792 [00:37<00:00, 26.60it/s]\n",
      "  0%|          | 2/792 [00:00<00:51, 15.28it/s]"
     ]
    },
    {
     "name": "stdout",
     "output_type": "stream",
     "text": [
      "('Epoca 89.', 'lr:', 1.5684233e-06)\n"
     ]
    },
    {
     "name": "stderr",
     "output_type": "stream",
     "text": [
      " 26%|██▌       | 203/792 [00:08<00:28, 20.68it/s]"
     ]
    },
    {
     "name": "stdout",
     "output_type": "stream",
     "text": [
      "\tsaving model 69900...\n"
     ]
    },
    {
     "name": "stderr",
     "output_type": "stream",
     "text": [
      "\n",
      "  0%|          | 0/69 [00:00<?, ?it/s]\u001b[A\n",
      " 10%|#         | 7/69 [00:00<00:00, 62.45it/s]\u001b[A"
     ]
    },
    {
     "name": "stdout",
     "output_type": "stream",
     "text": [
      "\tdone\n",
      "Evaluating\n"
     ]
    },
    {
     "name": "stderr",
     "output_type": "stream",
     "text": [
      "\n",
      " 20%|##        | 14/69 [00:00<00:00, 62.71it/s]\u001b[A\n",
      " 30%|###       | 21/69 [00:00<00:00, 64.20it/s]\u001b[A\n",
      " 41%|####      | 28/69 [00:00<00:00, 65.20it/s]\u001b[A\n",
      " 51%|#####     | 35/69 [00:00<00:00, 65.54it/s]\u001b[A\n",
      " 59%|#####9    | 41/69 [00:00<00:00, 63.45it/s]\u001b[A\n",
      " 70%|######9   | 48/69 [00:00<00:00, 64.16it/s]\u001b[A\n",
      " 80%|#######9  | 55/69 [00:00<00:00, 65.12it/s]\u001b[A\n",
      " 90%|########9 | 62/69 [00:00<00:00, 61.80it/s]\u001b[A\n",
      " 26%|██▌       | 206/792 [00:09<01:46,  5.50it/s]A"
     ]
    },
    {
     "name": "stdout",
     "output_type": "stream",
     "text": [
      "{'ade': 0.47176975, 'fde': 1.01913}\n",
      "\t last loss:0.000361932, eval on validation:['ade: 0.47176975', 'fde: 1.01913'], (best ade:0.4668638 at step 40200) \n"
     ]
    },
    {
     "name": "stderr",
     "output_type": "stream",
     "text": [
      " 63%|██████▎   | 501/792 [00:22<00:10, 26.48it/s]\n",
      "  0%|          | 0/69 [00:00<?, ?it/s]\u001b[A"
     ]
    },
    {
     "name": "stdout",
     "output_type": "stream",
     "text": [
      "\tsaving model 70200...\n",
      "\tdone\n",
      "Evaluating\n"
     ]
    },
    {
     "name": "stderr",
     "output_type": "stream",
     "text": [
      "\n",
      " 13%|#3        | 9/69 [00:00<00:00, 86.60it/s]\u001b[A\n",
      " 26%|##6       | 18/69 [00:00<00:00, 87.05it/s]\u001b[A\n",
      " 39%|###9      | 27/69 [00:00<00:00, 85.79it/s]\u001b[A\n",
      " 52%|#####2    | 36/69 [00:00<00:00, 84.51it/s]\u001b[A\n",
      " 65%|######5   | 45/69 [00:00<00:00, 84.35it/s]\u001b[A\n",
      " 77%|#######6  | 53/69 [00:00<00:00, 82.75it/s]\u001b[A\n",
      " 88%|########8 | 61/69 [00:00<00:00, 81.18it/s]\u001b[A\n",
      " 64%|██████▍   | 507/792 [00:23<00:31,  9.17it/s]A"
     ]
    },
    {
     "name": "stdout",
     "output_type": "stream",
     "text": [
      "{'ade': 0.47137475, 'fde': 1.0180355}\n",
      "\t last loss:0.000336272, eval on validation:['ade: 0.47137475', 'fde: 1.0180355'], (best ade:0.4668638 at step 40200) \n"
     ]
    },
    {
     "name": "stderr",
     "output_type": "stream",
     "text": [
      "100%|██████████| 792/792 [00:36<00:00, 21.83it/s]\n",
      "  0%|          | 1/792 [00:00<01:37,  8.10it/s]"
     ]
    },
    {
     "name": "stdout",
     "output_type": "stream",
     "text": [
      "('Epoca 90.', 'lr:', 1.5684233e-06)\n"
     ]
    },
    {
     "name": "stderr",
     "output_type": "stream",
     "text": [
      "  1%|▏         | 10/792 [00:00<00:55, 14.14it/s]\n",
      "  0%|          | 0/69 [00:00<?, ?it/s]\u001b[A"
     ]
    },
    {
     "name": "stdout",
     "output_type": "stream",
     "text": [
      "\tsaving model 70500...\n",
      "\tdone\n",
      "Evaluating\n"
     ]
    },
    {
     "name": "stderr",
     "output_type": "stream",
     "text": [
      "\n",
      " 13%|#3        | 9/69 [00:00<00:00, 84.54it/s]\u001b[A\n",
      " 26%|##6       | 18/69 [00:00<00:00, 83.76it/s]\u001b[A\n",
      " 39%|###9      | 27/69 [00:00<00:00, 84.41it/s]\u001b[A\n",
      " 52%|#####2    | 36/69 [00:00<00:00, 84.57it/s]\u001b[A\n",
      " 65%|######5   | 45/69 [00:00<00:00, 85.08it/s]\u001b[A\n",
      " 77%|#######6  | 53/69 [00:00<00:00, 80.79it/s]\u001b[A\n",
      " 90%|########9 | 62/69 [00:00<00:00, 81.15it/s]\u001b[A\n",
      "  2%|▏         | 15/792 [00:01<02:06,  6.14it/s][A"
     ]
    },
    {
     "name": "stdout",
     "output_type": "stream",
     "text": [
      "{'ade': 0.47229096, 'fde': 1.0204664}\n",
      "\t last loss:0.000651175, eval on validation:['ade: 0.47229096', 'fde: 1.0204664'], (best ade:0.4668638 at step 40200) \n"
     ]
    },
    {
     "name": "stderr",
     "output_type": "stream",
     "text": [
      " 39%|███▉      | 309/792 [00:14<00:23, 20.49it/s]"
     ]
    },
    {
     "name": "stdout",
     "output_type": "stream",
     "text": [
      "\tsaving model 70800...\n"
     ]
    },
    {
     "name": "stderr",
     "output_type": "stream",
     "text": [
      "\n",
      "  0%|          | 0/69 [00:00<?, ?it/s]\u001b[A\n",
      " 10%|#         | 7/69 [00:00<00:00, 62.76it/s]\u001b[A\n",
      " 20%|##        | 14/69 [00:00<00:00, 63.31it/s]\u001b[A\n",
      " 32%|###1      | 22/69 [00:00<00:00, 66.85it/s]\u001b[A\n",
      " 43%|####3     | 30/69 [00:00<00:00, 69.41it/s]\u001b[A\n",
      " 55%|#####5    | 38/69 [00:00<00:00, 71.14it/s]\u001b[A\n",
      " 67%|######6   | 46/69 [00:00<00:00, 71.66it/s]\u001b[A\n",
      " 78%|#######8  | 54/69 [00:00<00:00, 72.04it/s]\u001b[A\n",
      " 90%|########9 | 62/69 [00:00<00:00, 72.54it/s]\u001b[A\n",
      " 40%|███▉      | 315/792 [00:15<01:02,  7.62it/s]A"
     ]
    },
    {
     "name": "stdout",
     "output_type": "stream",
     "text": [
      "\tdone\n",
      "Evaluating\n",
      "{'ade': 0.4721421, 'fde': 1.02013}\n",
      "\t last loss:0.000339460, eval on validation:['ade: 0.4721421', 'fde: 1.02013'], (best ade:0.4668638 at step 40200) \n"
     ]
    },
    {
     "name": "stderr",
     "output_type": "stream",
     "text": [
      " 77%|███████▋  | 609/792 [00:27<00:07, 24.31it/s]\n",
      "  0%|          | 0/69 [00:00<?, ?it/s]\u001b[A"
     ]
    },
    {
     "name": "stdout",
     "output_type": "stream",
     "text": [
      "\tsaving model 71100...\n",
      "\tdone\n",
      "Evaluating\n"
     ]
    },
    {
     "name": "stderr",
     "output_type": "stream",
     "text": [
      "\n",
      " 13%|#3        | 9/69 [00:00<00:00, 82.15it/s]\u001b[A\n",
      " 25%|##4       | 17/69 [00:00<00:00, 80.70it/s]\u001b[A\n",
      " 38%|###7      | 26/69 [00:00<00:00, 81.97it/s]\u001b[A\n",
      " 51%|#####     | 35/69 [00:00<00:00, 82.93it/s]\u001b[A\n",
      " 62%|######2   | 43/69 [00:00<00:00, 81.93it/s]\u001b[A\n",
      " 72%|#######2  | 50/69 [00:00<00:00, 77.82it/s]\u001b[A\n",
      " 84%|########4 | 58/69 [00:00<00:00, 78.38it/s]\u001b[A\n",
      " 97%|#########7| 67/69 [00:00<00:00, 79.41it/s]\u001b[A\n",
      " 78%|███████▊  | 615/792 [00:28<00:20,  8.77it/s]A"
     ]
    },
    {
     "name": "stdout",
     "output_type": "stream",
     "text": [
      "{'ade': 0.47248113, 'fde': 1.0212259}\n",
      "\t last loss:0.000433871, eval on validation:['ade: 0.47248113', 'fde: 1.0212259'], (best ade:0.4668638 at step 40200) \n"
     ]
    },
    {
     "name": "stderr",
     "output_type": "stream",
     "text": [
      "100%|██████████| 792/792 [00:37<00:00, 19.33it/s]\n",
      "  0%|          | 1/792 [00:00<01:32,  8.52it/s]"
     ]
    },
    {
     "name": "stdout",
     "output_type": "stream",
     "text": [
      "('Epoca 91.', 'lr:', 1.3331598e-06)\n"
     ]
    },
    {
     "name": "stderr",
     "output_type": "stream",
     "text": [
      " 15%|█▍        | 117/792 [00:04<00:27, 24.55it/s]\n",
      "  0%|          | 0/69 [00:00<?, ?it/s]\u001b[A"
     ]
    },
    {
     "name": "stdout",
     "output_type": "stream",
     "text": [
      "\tsaving model 71400...\n",
      "\tdone\n",
      "Evaluating\n"
     ]
    },
    {
     "name": "stderr",
     "output_type": "stream",
     "text": [
      "\n",
      "  9%|8         | 6/69 [00:00<00:01, 59.70it/s]\u001b[A\n",
      " 19%|#8        | 13/69 [00:00<00:00, 61.79it/s]\u001b[A\n",
      " 32%|###1      | 22/69 [00:00<00:00, 67.36it/s]\u001b[A\n",
      " 45%|####4     | 31/69 [00:00<00:00, 72.31it/s]\u001b[A\n",
      " 59%|#####9    | 41/69 [00:00<00:00, 77.31it/s]\u001b[A\n",
      " 74%|#######3  | 51/69 [00:00<00:00, 81.99it/s]\u001b[A\n",
      " 87%|########6 | 60/69 [00:00<00:00, 82.52it/s]\u001b[A\n",
      " 16%|█▌        | 123/792 [00:06<01:14,  9.02it/s]A"
     ]
    },
    {
     "name": "stdout",
     "output_type": "stream",
     "text": [
      "{'ade': 0.47204056, 'fde': 1.0199059}\n",
      "\t last loss:0.000333005, eval on validation:['ade: 0.47204056', 'fde: 1.0199059'], (best ade:0.4668638 at step 40200) \n"
     ]
    },
    {
     "name": "stderr",
     "output_type": "stream",
     "text": [
      " 53%|█████▎    | 417/792 [00:18<00:16, 22.89it/s]\n",
      "  0%|          | 0/69 [00:00<?, ?it/s]\u001b[A"
     ]
    },
    {
     "name": "stdout",
     "output_type": "stream",
     "text": [
      "\tsaving model 71700...\n",
      "\tdone\n",
      "Evaluating\n"
     ]
    },
    {
     "name": "stderr",
     "output_type": "stream",
     "text": [
      "\n",
      " 12%|#1        | 8/69 [00:00<00:00, 75.79it/s]\u001b[A\n",
      " 23%|##3       | 16/69 [00:00<00:00, 74.97it/s]\u001b[A\n",
      " 33%|###3      | 23/69 [00:00<00:00, 72.47it/s]\u001b[A\n",
      " 43%|####3     | 30/69 [00:00<00:00, 71.34it/s]\u001b[A\n",
      " 55%|#####5    | 38/69 [00:00<00:00, 72.40it/s]\u001b[A\n",
      " 67%|######6   | 46/69 [00:00<00:00, 73.13it/s]\u001b[A\n",
      " 78%|#######8  | 54/69 [00:00<00:00, 73.86it/s]\u001b[A\n",
      " 90%|########9 | 62/69 [00:00<00:00, 74.13it/s]\u001b[A\n",
      " 53%|█████▎    | 423/792 [00:20<00:45,  8.07it/s]A"
     ]
    },
    {
     "name": "stdout",
     "output_type": "stream",
     "text": [
      "{'ade': 0.47228792, 'fde': 1.0206559}\n",
      "\t last loss:0.000426809, eval on validation:['ade: 0.47228792', 'fde: 1.0206559'], (best ade:0.4668638 at step 40200) \n"
     ]
    },
    {
     "name": "stderr",
     "output_type": "stream",
     "text": [
      " 91%|█████████ | 719/792 [00:32<00:02, 24.83it/s]\n",
      "  0%|          | 0/69 [00:00<?, ?it/s]\u001b[A"
     ]
    },
    {
     "name": "stdout",
     "output_type": "stream",
     "text": [
      "\tsaving model 72000...\n",
      "\tdone\n",
      "Evaluating\n"
     ]
    },
    {
     "name": "stderr",
     "output_type": "stream",
     "text": [
      "\n",
      " 12%|#1        | 8/69 [00:00<00:00, 73.43it/s]\u001b[A\n",
      " 25%|##4       | 17/69 [00:00<00:00, 76.11it/s]\u001b[A\n",
      " 38%|###7      | 26/69 [00:00<00:00, 78.96it/s]\u001b[A\n",
      " 51%|#####     | 35/69 [00:00<00:00, 80.50it/s]\u001b[A\n",
      " 64%|######3   | 44/69 [00:00<00:00, 82.31it/s]\u001b[A\n",
      " 75%|#######5  | 52/69 [00:00<00:00, 81.43it/s]\u001b[A\n",
      " 88%|########8 | 61/69 [00:00<00:00, 82.16it/s]\u001b[A\n",
      " 91%|█████████ | 722/792 [00:33<00:09,  7.01it/s]A"
     ]
    },
    {
     "name": "stdout",
     "output_type": "stream",
     "text": [
      "{'ade': 0.47185582, 'fde': 1.0194722}\n",
      "\t last loss:0.000409848, eval on validation:['ade: 0.47185582', 'fde: 1.0194722'], (best ade:0.4668638 at step 40200) \n"
     ]
    },
    {
     "name": "stderr",
     "output_type": "stream",
     "text": [
      "100%|██████████| 792/792 [00:36<00:00, 21.65it/s]\n",
      "  0%|          | 1/792 [00:00<01:33,  8.43it/s]"
     ]
    },
    {
     "name": "stdout",
     "output_type": "stream",
     "text": [
      "('Epoca 92.', 'lr:', 1.3331598e-06)\n"
     ]
    },
    {
     "name": "stderr",
     "output_type": "stream",
     "text": [
      " 28%|██▊       | 225/792 [00:09<00:21, 25.84it/s]\n",
      "  0%|          | 0/69 [00:00<?, ?it/s]\u001b[A"
     ]
    },
    {
     "name": "stdout",
     "output_type": "stream",
     "text": [
      "\tsaving model 72300...\n",
      "\tdone\n",
      "Evaluating\n"
     ]
    },
    {
     "name": "stderr",
     "output_type": "stream",
     "text": [
      "\n",
      " 13%|#3        | 9/69 [00:00<00:00, 89.17it/s]\u001b[A\n",
      " 28%|##7       | 19/69 [00:00<00:00, 89.82it/s]\u001b[A\n",
      " 41%|####      | 28/69 [00:00<00:00, 88.84it/s]\u001b[A\n",
      " 54%|#####3    | 37/69 [00:00<00:00, 88.89it/s]\u001b[A\n",
      " 68%|######8   | 47/69 [00:00<00:00, 90.08it/s]\u001b[A\n",
      " 83%|########2 | 57/69 [00:00<00:00, 90.95it/s]\u001b[A\n",
      " 97%|#########7| 67/69 [00:00<00:00, 91.13it/s]\u001b[A\n",
      " 29%|██▉       | 231/792 [00:10<00:59,  9.41it/s]A"
     ]
    },
    {
     "name": "stdout",
     "output_type": "stream",
     "text": [
      "{'ade': 0.4726575, 'fde': 1.0216694}\n",
      "\t last loss:0.000346385, eval on validation:['ade: 0.4726575', 'fde: 1.0216694'], (best ade:0.4668638 at step 40200) \n"
     ]
    },
    {
     "name": "stderr",
     "output_type": "stream",
     "text": [
      " 66%|██████▋   | 525/792 [00:23<00:11, 22.86it/s]"
     ]
    },
    {
     "name": "stdout",
     "output_type": "stream",
     "text": [
      "\tsaving model 72600...\n"
     ]
    },
    {
     "name": "stderr",
     "output_type": "stream",
     "text": [
      "\n",
      "  0%|          | 0/69 [00:00<?, ?it/s]\u001b[A\n",
      " 12%|#1        | 8/69 [00:00<00:00, 73.21it/s]\u001b[A\n",
      " 23%|##3       | 16/69 [00:00<00:00, 73.03it/s]\u001b[A\n",
      " 35%|###4      | 24/69 [00:00<00:00, 74.02it/s]\u001b[A\n",
      " 45%|####4     | 31/69 [00:00<00:00, 71.74it/s]\u001b[A\n",
      " 57%|#####6    | 39/69 [00:00<00:00, 73.35it/s]\u001b[A\n",
      " 68%|######8   | 47/69 [00:00<00:00, 74.66it/s]\u001b[A\n",
      " 80%|#######9  | 55/69 [00:00<00:00, 75.29it/s]\u001b[A\n",
      " 91%|#########1| 63/69 [00:00<00:00, 75.45it/s]\u001b[A\n",
      " 67%|██████▋   | 531/792 [00:24<00:32,  7.94it/s]A"
     ]
    },
    {
     "name": "stdout",
     "output_type": "stream",
     "text": [
      "\tdone\n",
      "Evaluating\n",
      "{'ade': 0.47172794, 'fde': 1.0190276}\n",
      "\t last loss:0.000331686, eval on validation:['ade: 0.47172794', 'fde: 1.0190276'], (best ade:0.4668638 at step 40200) \n"
     ]
    },
    {
     "name": "stderr",
     "output_type": "stream",
     "text": [
      "100%|██████████| 792/792 [00:35<00:00, 22.01it/s]\n",
      "  0%|          | 1/792 [00:00<01:47,  7.39it/s]"
     ]
    },
    {
     "name": "stdout",
     "output_type": "stream",
     "text": [
      "('Epoca 93.', 'lr:', 1.1331858e-06)\n"
     ]
    },
    {
     "name": "stderr",
     "output_type": "stream",
     "text": [
      "  4%|▍         | 34/792 [00:01<00:38, 19.59it/s]"
     ]
    },
    {
     "name": "stdout",
     "output_type": "stream",
     "text": [
      "\tsaving model 72900...\n"
     ]
    },
    {
     "name": "stderr",
     "output_type": "stream",
     "text": [
      "\n",
      "  0%|          | 0/69 [00:00<?, ?it/s]\u001b[A\n",
      " 10%|#         | 7/69 [00:00<00:00, 65.42it/s]\u001b[A"
     ]
    },
    {
     "name": "stdout",
     "output_type": "stream",
     "text": [
      "\tdone\n",
      "Evaluating\n"
     ]
    },
    {
     "name": "stderr",
     "output_type": "stream",
     "text": [
      "\n",
      " 19%|#8        | 13/69 [00:00<00:00, 62.36it/s]\u001b[A\n",
      " 28%|##7       | 19/69 [00:00<00:00, 60.54it/s]\u001b[A\n",
      " 38%|###7      | 26/69 [00:00<00:00, 61.95it/s]\u001b[A\n",
      " 46%|####6     | 32/69 [00:00<00:00, 59.60it/s]\u001b[A\n",
      " 54%|#####3    | 37/69 [00:00<00:00, 45.77it/s]\u001b[A\n",
      " 61%|######    | 42/69 [00:00<00:00, 37.36it/s]\u001b[A\n",
      " 67%|######6   | 46/69 [00:01<00:00, 36.04it/s]\u001b[A\n",
      " 72%|#######2  | 50/69 [00:01<00:00, 34.34it/s]\u001b[A\n",
      " 78%|#######8  | 54/69 [00:01<00:00, 33.92it/s]\u001b[A\n",
      " 84%|########4 | 58/69 [00:01<00:00, 33.07it/s]\u001b[A\n",
      " 90%|########9 | 62/69 [00:01<00:00, 32.14it/s]\u001b[A\n",
      " 96%|#########5| 66/69 [00:01<00:00, 31.74it/s]\u001b[A\n",
      "  5%|▍         | 36/792 [00:03<04:42,  2.68it/s][A"
     ]
    },
    {
     "name": "stdout",
     "output_type": "stream",
     "text": [
      "{'ade': 0.47172254, 'fde': 1.0189991}\n",
      "\t last loss:0.000313413, eval on validation:['ade: 0.47172254', 'fde: 1.0189991'], (best ade:0.4668638 at step 40200) \n"
     ]
    },
    {
     "name": "stderr",
     "output_type": "stream",
     "text": [
      " 42%|████▏     | 333/792 [00:19<00:19, 23.80it/s]\n",
      "  0%|          | 0/69 [00:00<?, ?it/s]\u001b[A"
     ]
    },
    {
     "name": "stdout",
     "output_type": "stream",
     "text": [
      "\tsaving model 73200...\n",
      "\tdone\n",
      "Evaluating\n"
     ]
    },
    {
     "name": "stderr",
     "output_type": "stream",
     "text": [
      "\n",
      " 10%|#         | 7/69 [00:00<00:00, 68.29it/s]\u001b[A\n",
      " 23%|##3       | 16/69 [00:00<00:00, 71.99it/s]\u001b[A\n",
      " 35%|###4      | 24/69 [00:00<00:00, 73.28it/s]\u001b[A\n",
      " 48%|####7     | 33/69 [00:00<00:00, 75.65it/s]\u001b[A\n",
      " 59%|#####9    | 41/69 [00:00<00:00, 75.72it/s]\u001b[A\n",
      " 72%|#######2  | 50/69 [00:00<00:00, 77.43it/s]\u001b[A\n",
      " 84%|########4 | 58/69 [00:00<00:00, 78.18it/s]\u001b[A\n",
      " 96%|#########5| 66/69 [00:00<00:00, 76.17it/s]\u001b[A\n",
      " 43%|████▎     | 338/792 [00:20<00:55,  8.14it/s]A"
     ]
    },
    {
     "name": "stdout",
     "output_type": "stream",
     "text": [
      "{'ade': 0.47206935, 'fde': 1.0201241}\n",
      "\t last loss:0.000324293, eval on validation:['ade: 0.47206935', 'fde: 1.0201241'], (best ade:0.4668638 at step 40200) \n"
     ]
    },
    {
     "name": "stderr",
     "output_type": "stream",
     "text": [
      " 80%|████████  | 634/792 [00:34<00:06, 22.78it/s]\n",
      "  0%|          | 0/69 [00:00<?, ?it/s]\u001b[A"
     ]
    },
    {
     "name": "stdout",
     "output_type": "stream",
     "text": [
      "\tsaving model 73500...\n",
      "\tdone\n",
      "Evaluating\n"
     ]
    },
    {
     "name": "stderr",
     "output_type": "stream",
     "text": [
      "\n",
      " 10%|#         | 7/69 [00:00<00:00, 63.60it/s]\u001b[A\n",
      " 20%|##        | 14/69 [00:00<00:00, 64.87it/s]\u001b[A\n",
      " 32%|###1      | 22/69 [00:00<00:00, 67.05it/s]\u001b[A\n",
      " 43%|####3     | 30/69 [00:00<00:00, 69.42it/s]\u001b[A\n",
      " 55%|#####5    | 38/69 [00:00<00:00, 70.73it/s]\u001b[A\n",
      " 67%|######6   | 46/69 [00:00<00:00, 71.65it/s]\u001b[A\n",
      " 78%|#######8  | 54/69 [00:00<00:00, 71.78it/s]\u001b[A\n",
      " 90%|########9 | 62/69 [00:00<00:00, 72.87it/s]\u001b[A\n",
      " 80%|████████  | 637/792 [00:35<00:25,  6.11it/s]A"
     ]
    },
    {
     "name": "stdout",
     "output_type": "stream",
     "text": [
      "{'ade': 0.47212714, 'fde': 1.0202215}\n",
      "\t last loss:0.000334789, eval on validation:['ade: 0.47212714', 'fde: 1.0202215'], (best ade:0.4668638 at step 40200) \n"
     ]
    },
    {
     "name": "stderr",
     "output_type": "stream",
     "text": [
      "100%|██████████| 792/792 [00:42<00:00, 18.63it/s]\n",
      "  0%|          | 1/792 [00:00<01:45,  7.49it/s]"
     ]
    },
    {
     "name": "stdout",
     "output_type": "stream",
     "text": [
      "('Epoca 94.', 'lr:', 1.1331858e-06)\n"
     ]
    },
    {
     "name": "stderr",
     "output_type": "stream",
     "text": [
      " 18%|█▊        | 141/792 [00:06<00:26, 24.68it/s]\n",
      "  0%|          | 0/69 [00:00<?, ?it/s]\u001b[A"
     ]
    },
    {
     "name": "stdout",
     "output_type": "stream",
     "text": [
      "\tsaving model 73800...\n",
      "\tdone\n",
      "Evaluating\n"
     ]
    },
    {
     "name": "stderr",
     "output_type": "stream",
     "text": [
      "\n",
      " 13%|#3        | 9/69 [00:00<00:00, 82.17it/s]\u001b[A\n",
      " 28%|##7       | 19/69 [00:00<00:00, 84.87it/s]\u001b[A\n",
      " 41%|####      | 28/69 [00:00<00:00, 85.69it/s]\u001b[A\n",
      " 55%|#####5    | 38/69 [00:00<00:00, 87.52it/s]\u001b[A\n",
      " 70%|######9   | 48/69 [00:00<00:00, 88.65it/s]\u001b[A\n",
      " 83%|########2 | 57/69 [00:00<00:00, 88.43it/s]\u001b[A\n",
      " 94%|#########4| 65/69 [00:00<00:00, 85.25it/s]\u001b[A\n",
      " 19%|█▊        | 147/792 [00:07<01:12,  8.89it/s]A"
     ]
    },
    {
     "name": "stdout",
     "output_type": "stream",
     "text": [
      "{'ade': 0.47298783, 'fde': 1.0225477}\n",
      "\t last loss:0.000350481, eval on validation:['ade: 0.47298783', 'fde: 1.0225477'], (best ade:0.4668638 at step 40200) \n"
     ]
    },
    {
     "name": "stderr",
     "output_type": "stream",
     "text": [
      " 56%|█████▌    | 441/792 [00:20<00:15, 22.79it/s]\n",
      "  0%|          | 0/69 [00:00<?, ?it/s]\u001b[A"
     ]
    },
    {
     "name": "stdout",
     "output_type": "stream",
     "text": [
      "\tsaving model 74100...\n",
      "\tdone\n",
      "Evaluating\n"
     ]
    },
    {
     "name": "stderr",
     "output_type": "stream",
     "text": [
      "\n",
      " 10%|#         | 7/69 [00:00<00:00, 68.76it/s]\u001b[A\n",
      " 22%|##1       | 15/69 [00:00<00:00, 70.22it/s]\u001b[A\n",
      " 33%|###3      | 23/69 [00:00<00:00, 70.78it/s]\u001b[A\n",
      " 45%|####4     | 31/69 [00:00<00:00, 71.68it/s]\u001b[A\n",
      " 57%|#####6    | 39/69 [00:00<00:00, 72.80it/s]\u001b[A\n",
      " 68%|######8   | 47/69 [00:00<00:00, 73.47it/s]\u001b[A\n",
      " 80%|#######9  | 55/69 [00:00<00:00, 73.75it/s]\u001b[A\n",
      " 91%|#########1| 63/69 [00:00<00:00, 71.95it/s]\u001b[A\n",
      " 56%|█████▋    | 447/792 [00:21<00:43,  7.93it/s]A"
     ]
    },
    {
     "name": "stdout",
     "output_type": "stream",
     "text": [
      "{'ade': 0.47256213, 'fde': 1.0214659}\n",
      "\t last loss:0.000455541, eval on validation:['ade: 0.47256213', 'fde: 1.0214659'], (best ade:0.4668638 at step 40200) \n"
     ]
    },
    {
     "name": "stderr",
     "output_type": "stream",
     "text": [
      " 94%|█████████▍| 743/792 [00:33<00:02, 24.15it/s]\n",
      "  0%|          | 0/69 [00:00<?, ?it/s]\u001b[A"
     ]
    },
    {
     "name": "stdout",
     "output_type": "stream",
     "text": [
      "\tsaving model 74400...\n",
      "\tdone\n",
      "Evaluating\n"
     ]
    },
    {
     "name": "stderr",
     "output_type": "stream",
     "text": [
      "\n",
      " 12%|#1        | 8/69 [00:00<00:00, 76.12it/s]\u001b[A\n",
      " 25%|##4       | 17/69 [00:00<00:00, 78.42it/s]\u001b[A\n",
      " 38%|###7      | 26/69 [00:00<00:00, 79.33it/s]\u001b[A\n",
      " 51%|#####     | 35/69 [00:00<00:00, 80.63it/s]\u001b[A\n",
      " 62%|######2   | 43/69 [00:00<00:00, 78.23it/s]\u001b[A\n",
      " 74%|#######3  | 51/69 [00:00<00:00, 78.33it/s]\u001b[A\n",
      " 87%|########6 | 60/69 [00:00<00:00, 80.16it/s]\u001b[A\n",
      " 94%|█████████▍| 746/792 [00:34<00:06,  6.80it/s]A"
     ]
    },
    {
     "name": "stdout",
     "output_type": "stream",
     "text": [
      "{'ade': 0.47261477, 'fde': 1.0214821}\n",
      "\t last loss:0.000503948, eval on validation:['ade: 0.47261477', 'fde: 1.0214821'], (best ade:0.4668638 at step 40200) \n"
     ]
    },
    {
     "name": "stderr",
     "output_type": "stream",
     "text": [
      "100%|██████████| 792/792 [00:37<00:00, 21.37it/s]\n",
      "  0%|          | 2/792 [00:00<00:51, 15.48it/s]"
     ]
    },
    {
     "name": "stdout",
     "output_type": "stream",
     "text": [
      "('Epoca 95.', 'lr:', 9.63208e-07)\n"
     ]
    },
    {
     "name": "stderr",
     "output_type": "stream",
     "text": [
      " 31%|███▏      | 249/792 [00:10<00:20, 26.18it/s]\n",
      "  0%|          | 0/69 [00:00<?, ?it/s]\u001b[A"
     ]
    },
    {
     "name": "stdout",
     "output_type": "stream",
     "text": [
      "\tsaving model 74700...\n",
      "\tdone\n",
      "Evaluating\n"
     ]
    },
    {
     "name": "stderr",
     "output_type": "stream",
     "text": [
      "\n",
      " 13%|#3        | 9/69 [00:00<00:00, 85.12it/s]\u001b[A\n",
      " 26%|##6       | 18/69 [00:00<00:00, 85.10it/s]\u001b[A\n",
      " 39%|###9      | 27/69 [00:00<00:00, 84.34it/s]\u001b[A\n",
      " 52%|#####2    | 36/69 [00:00<00:00, 85.01it/s]\u001b[A\n",
      " 67%|######6   | 46/69 [00:00<00:00, 87.06it/s]\u001b[A\n",
      " 81%|########1 | 56/69 [00:00<00:00, 88.53it/s]\u001b[A\n",
      " 94%|#########4| 65/69 [00:00<00:00, 87.61it/s]\u001b[A\n",
      " 32%|███▏      | 255/792 [00:12<00:57,  9.41it/s]A"
     ]
    },
    {
     "name": "stdout",
     "output_type": "stream",
     "text": [
      "{'ade': 0.4724574, 'fde': 1.0209891}\n",
      "\t last loss:0.000483298, eval on validation:['ade: 0.4724574', 'fde: 1.0209891'], (best ade:0.4668638 at step 40200) \n"
     ]
    },
    {
     "name": "stderr",
     "output_type": "stream",
     "text": [
      " 69%|██████▉   | 549/792 [00:24<00:10, 22.74it/s]\n",
      "  0%|          | 0/69 [00:00<?, ?it/s]\u001b[A"
     ]
    },
    {
     "name": "stdout",
     "output_type": "stream",
     "text": [
      "\tsaving model 75000...\n",
      "\tdone\n",
      "Evaluating\n"
     ]
    },
    {
     "name": "stderr",
     "output_type": "stream",
     "text": [
      "\n",
      " 10%|#         | 7/69 [00:00<00:00, 63.29it/s]\u001b[A\n",
      " 19%|#8        | 13/69 [00:00<00:00, 61.07it/s]\u001b[A\n",
      " 30%|###       | 21/69 [00:00<00:00, 64.55it/s]\u001b[A\n",
      " 42%|####2     | 29/69 [00:00<00:00, 67.35it/s]\u001b[A\n",
      " 54%|#####3    | 37/69 [00:00<00:00, 69.19it/s]\u001b[A\n",
      " 65%|######5   | 45/69 [00:00<00:00, 72.06it/s]\u001b[A\n",
      " 78%|#######8  | 54/69 [00:00<00:00, 75.75it/s]\u001b[A\n",
      " 91%|#########1| 63/69 [00:00<00:00, 77.99it/s]\u001b[A\n",
      " 70%|███████   | 555/792 [00:26<00:29,  8.15it/s]A"
     ]
    },
    {
     "name": "stdout",
     "output_type": "stream",
     "text": [
      "{'ade': 0.4724164, 'fde': 1.020796}\n",
      "\t last loss:0.000300397, eval on validation:['ade: 0.4724164', 'fde: 1.020796'], (best ade:0.4668638 at step 40200) \n"
     ]
    },
    {
     "name": "stderr",
     "output_type": "stream",
     "text": [
      "100%|██████████| 792/792 [00:36<00:00, 21.51it/s]\n",
      "  0%|          | 1/792 [00:00<01:37,  8.15it/s]"
     ]
    },
    {
     "name": "stdout",
     "output_type": "stream",
     "text": [
      "('Epoca 96.', 'lr:', 9.63208e-07)\n"
     ]
    },
    {
     "name": "stderr",
     "output_type": "stream",
     "text": [
      "  7%|▋         | 58/792 [00:02<00:28, 26.19it/s]\n",
      "  0%|          | 0/69 [00:00<?, ?it/s]\u001b[A"
     ]
    },
    {
     "name": "stdout",
     "output_type": "stream",
     "text": [
      "\tsaving model 75300...\n",
      "\tdone\n",
      "Evaluating\n"
     ]
    },
    {
     "name": "stderr",
     "output_type": "stream",
     "text": [
      "\n",
      " 13%|#3        | 9/69 [00:00<00:00, 82.76it/s]\u001b[A\n",
      " 28%|##7       | 19/69 [00:00<00:00, 85.84it/s]\u001b[A\n",
      " 41%|####      | 28/69 [00:00<00:00, 86.29it/s]\u001b[A\n",
      " 54%|#####3    | 37/69 [00:00<00:00, 87.06it/s]\u001b[A\n",
      " 68%|######8   | 47/69 [00:00<00:00, 88.33it/s]\u001b[A\n",
      " 83%|########2 | 57/69 [00:00<00:00, 89.75it/s]\u001b[A\n",
      " 96%|#########5| 66/69 [00:00<00:00, 89.75it/s]\u001b[A\n",
      "  8%|▊         | 61/792 [00:03<01:38,  7.41it/s][A"
     ]
    },
    {
     "name": "stdout",
     "output_type": "stream",
     "text": [
      "{'ade': 0.4720732, 'fde': 1.0197678}\n",
      "\t last loss:0.000464460, eval on validation:['ade: 0.4720732', 'fde: 1.0197678'], (best ade:0.4668638 at step 40200) \n"
     ]
    },
    {
     "name": "stderr",
     "output_type": "stream",
     "text": [
      " 45%|████▌     | 358/792 [00:16<00:19, 22.31it/s]\n",
      "  0%|          | 0/69 [00:00<?, ?it/s]\u001b[A"
     ]
    },
    {
     "name": "stdout",
     "output_type": "stream",
     "text": [
      "\tsaving model 75600...\n",
      "\tdone\n",
      "Evaluating\n"
     ]
    },
    {
     "name": "stderr",
     "output_type": "stream",
     "text": [
      "\n",
      " 12%|#1        | 8/69 [00:00<00:00, 72.85it/s]\u001b[A\n",
      " 23%|##3       | 16/69 [00:00<00:00, 73.60it/s]\u001b[A\n",
      " 36%|###6      | 25/69 [00:00<00:00, 75.88it/s]\u001b[A\n",
      " 49%|####9     | 34/69 [00:00<00:00, 77.52it/s]\u001b[A\n",
      " 62%|######2   | 43/69 [00:00<00:00, 79.51it/s]\u001b[A\n",
      " 75%|#######5  | 52/69 [00:00<00:00, 80.06it/s]\u001b[A\n",
      " 87%|########6 | 60/69 [00:00<00:00, 78.48it/s]\u001b[A\n",
      " 99%|#########8| 68/69 [00:00<00:00, 77.86it/s]\u001b[A\n",
      " 46%|████▌     | 361/792 [00:17<01:06,  6.47it/s]A"
     ]
    },
    {
     "name": "stdout",
     "output_type": "stream",
     "text": [
      "{'ade': 0.47271103, 'fde': 1.0216212}\n",
      "\t last loss:0.000442787, eval on validation:['ade: 0.47271103', 'fde: 1.0216212'], (best ade:0.4668638 at step 40200) \n"
     ]
    },
    {
     "name": "stderr",
     "output_type": "stream",
     "text": [
      " 83%|████████▎ | 658/792 [00:29<00:06, 19.85it/s]"
     ]
    },
    {
     "name": "stdout",
     "output_type": "stream",
     "text": [
      "\tsaving model 75900...\n"
     ]
    },
    {
     "name": "stderr",
     "output_type": "stream",
     "text": [
      "\n",
      "  0%|          | 0/69 [00:00<?, ?it/s]\u001b[A\n",
      " 10%|#         | 7/69 [00:00<00:00, 64.19it/s]\u001b[A"
     ]
    },
    {
     "name": "stdout",
     "output_type": "stream",
     "text": [
      "\tdone\n",
      "Evaluating\n"
     ]
    },
    {
     "name": "stderr",
     "output_type": "stream",
     "text": [
      "\n",
      " 20%|##        | 14/69 [00:00<00:00, 63.29it/s]\u001b[A\n",
      " 30%|###       | 21/69 [00:00<00:00, 63.37it/s]\u001b[A\n",
      " 39%|###9      | 27/69 [00:00<00:00, 60.12it/s]\u001b[A\n",
      " 49%|####9     | 34/69 [00:00<00:00, 60.64it/s]\u001b[A\n",
      " 59%|#####9    | 41/69 [00:00<00:00, 61.29it/s]\u001b[A\n",
      " 70%|######9   | 48/69 [00:00<00:00, 62.80it/s]\u001b[A\n",
      " 80%|#######9  | 55/69 [00:00<00:00, 62.98it/s]\u001b[A\n",
      " 90%|########9 | 62/69 [00:00<00:00, 64.10it/s]\u001b[A\n",
      " 83%|████████▎ | 661/792 [00:31<00:24,  5.43it/s]A"
     ]
    },
    {
     "name": "stdout",
     "output_type": "stream",
     "text": [
      "{'ade': 0.47244108, 'fde': 1.02085}\n",
      "\t last loss:0.000385744, eval on validation:['ade: 0.47244108', 'fde: 1.02085'], (best ade:0.4668638 at step 40200) \n"
     ]
    },
    {
     "name": "stderr",
     "output_type": "stream",
     "text": [
      "100%|██████████| 792/792 [00:37<00:00, 23.93it/s]\n",
      "  0%|          | 1/792 [00:00<01:28,  8.97it/s]"
     ]
    },
    {
     "name": "stdout",
     "output_type": "stream",
     "text": [
      "('Epoca 97.', 'lr:', 8.187269e-07)\n"
     ]
    },
    {
     "name": "stderr",
     "output_type": "stream",
     "text": [
      " 21%|██        | 165/792 [00:06<00:24, 25.82it/s]\n",
      "  0%|          | 0/69 [00:00<?, ?it/s]\u001b[A"
     ]
    },
    {
     "name": "stdout",
     "output_type": "stream",
     "text": [
      "\tsaving model 76200...\n",
      "\tdone\n",
      "Evaluating\n"
     ]
    },
    {
     "name": "stderr",
     "output_type": "stream",
     "text": [
      "\n",
      " 13%|#3        | 9/69 [00:00<00:00, 86.53it/s]\u001b[A\n",
      " 26%|##6       | 18/69 [00:00<00:00, 87.29it/s]\u001b[A\n",
      " 38%|###7      | 26/69 [00:00<00:00, 83.84it/s]\u001b[A\n",
      " 51%|#####     | 35/69 [00:00<00:00, 85.29it/s]\u001b[A\n",
      " 65%|######5   | 45/69 [00:00<00:00, 87.35it/s]\u001b[A\n",
      " 80%|#######9  | 55/69 [00:00<00:00, 88.94it/s]\u001b[A\n",
      " 93%|#########2| 64/69 [00:00<00:00, 88.22it/s]\u001b[A\n",
      " 22%|██▏       | 171/792 [00:07<01:06,  9.30it/s]A"
     ]
    },
    {
     "name": "stdout",
     "output_type": "stream",
     "text": [
      "{'ade': 0.47242513, 'fde': 1.0207381}\n",
      "\t last loss:0.000316151, eval on validation:['ade: 0.47242513', 'fde: 1.0207381'], (best ade:0.4668638 at step 40200) \n"
     ]
    },
    {
     "name": "stderr",
     "output_type": "stream",
     "text": [
      " 59%|█████▉    | 466/792 [00:21<00:13, 23.79it/s]\n",
      "  0%|          | 0/69 [00:00<?, ?it/s]\u001b[A"
     ]
    },
    {
     "name": "stdout",
     "output_type": "stream",
     "text": [
      "\tsaving model 76500...\n",
      "\tdone\n",
      "Evaluating\n"
     ]
    },
    {
     "name": "stderr",
     "output_type": "stream",
     "text": [
      "\n",
      " 12%|#1        | 8/69 [00:00<00:00, 78.01it/s]\u001b[A\n",
      " 25%|##4       | 17/69 [00:00<00:00, 79.41it/s]\u001b[A\n",
      " 38%|###7      | 26/69 [00:00<00:00, 80.90it/s]\u001b[A\n",
      " 49%|####9     | 34/69 [00:00<00:00, 80.29it/s]\u001b[A\n",
      " 62%|######2   | 43/69 [00:00<00:00, 81.24it/s]\u001b[A\n",
      " 75%|#######5  | 52/69 [00:00<00:00, 82.10it/s]\u001b[A\n",
      " 87%|########6 | 60/69 [00:00<00:00, 78.68it/s]\u001b[A\n",
      " 99%|#########8| 68/69 [00:00<00:00, 77.13it/s]\u001b[A\n",
      " 59%|█████▉    | 469/792 [00:22<00:48,  6.72it/s]A"
     ]
    },
    {
     "name": "stdout",
     "output_type": "stream",
     "text": [
      "{'ade': 0.472548, 'fde': 1.0210623}\n",
      "\t last loss:0.000388816, eval on validation:['ade: 0.472548', 'fde: 1.0210623'], (best ade:0.4668638 at step 40200) \n"
     ]
    },
    {
     "name": "stderr",
     "output_type": "stream",
     "text": [
      " 97%|█████████▋| 767/792 [00:34<00:01, 20.48it/s]"
     ]
    },
    {
     "name": "stdout",
     "output_type": "stream",
     "text": [
      "\tsaving model 76800...\n"
     ]
    },
    {
     "name": "stderr",
     "output_type": "stream",
     "text": [
      "\n",
      "  0%|          | 0/69 [00:00<?, ?it/s]\u001b[A\n",
      "  9%|8         | 6/69 [00:00<00:01, 56.53it/s]\u001b[A\n",
      " 19%|#8        | 13/69 [00:00<00:00, 58.80it/s]\u001b[A\n",
      " 29%|##8       | 20/69 [00:00<00:00, 60.64it/s]\u001b[A\n",
      " 39%|###9      | 27/69 [00:00<00:00, 61.75it/s]\u001b[A\n",
      " 49%|####9     | 34/69 [00:00<00:00, 62.65it/s]\u001b[A\n",
      " 59%|#####9    | 41/69 [00:00<00:00, 64.49it/s]\u001b[A\n",
      " 71%|#######1  | 49/69 [00:00<00:00, 67.16it/s]\u001b[A\n",
      " 83%|########2 | 57/69 [00:00<00:00, 69.56it/s]\u001b[A\n",
      " 94%|#########4| 65/69 [00:00<00:00, 71.25it/s]\u001b[A\n",
      " 97%|█████████▋| 770/792 [00:36<00:03,  5.72it/s]A"
     ]
    },
    {
     "name": "stdout",
     "output_type": "stream",
     "text": [
      "\tdone\n",
      "Evaluating\n",
      "{'ade': 0.4721953, 'fde': 1.0201839}\n",
      "\t last loss:0.000442275, eval on validation:['ade: 0.4721953', 'fde: 1.0201839'], (best ade:0.4668638 at step 40200) \n"
     ]
    },
    {
     "name": "stderr",
     "output_type": "stream",
     "text": [
      "100%|██████████| 792/792 [00:37<00:00, 21.17it/s]\n",
      "  0%|          | 1/792 [00:00<01:38,  8.05it/s]"
     ]
    },
    {
     "name": "stdout",
     "output_type": "stream",
     "text": [
      "('Epoca 98.', 'lr:', 8.187269e-07)\n"
     ]
    },
    {
     "name": "stderr",
     "output_type": "stream",
     "text": [
      " 35%|███▍      | 274/792 [00:11<00:21, 24.46it/s]\n",
      "  0%|          | 0/69 [00:00<?, ?it/s]\u001b[A"
     ]
    },
    {
     "name": "stdout",
     "output_type": "stream",
     "text": [
      "\tsaving model 77100...\n",
      "\tdone\n",
      "Evaluating\n"
     ]
    },
    {
     "name": "stderr",
     "output_type": "stream",
     "text": [
      "\n",
      " 12%|#1        | 8/69 [00:00<00:00, 76.88it/s]\u001b[A\n",
      " 25%|##4       | 17/69 [00:00<00:00, 78.67it/s]\u001b[A\n",
      " 36%|###6      | 25/69 [00:00<00:00, 76.91it/s]\u001b[A\n",
      " 48%|####7     | 33/69 [00:00<00:00, 77.68it/s]\u001b[A\n",
      " 59%|#####9    | 41/69 [00:00<00:00, 78.04it/s]\u001b[A\n",
      " 72%|#######2  | 50/69 [00:00<00:00, 79.96it/s]\u001b[A\n",
      " 86%|########5 | 59/69 [00:00<00:00, 81.22it/s]\u001b[A\n",
      " 99%|#########8| 68/69 [00:00<00:00, 81.87it/s]\u001b[A\n",
      " 35%|███▍      | 277/792 [00:12<01:15,  6.79it/s]A"
     ]
    },
    {
     "name": "stdout",
     "output_type": "stream",
     "text": [
      "{'ade': 0.47283402, 'fde': 1.021964}\n",
      "\t last loss:0.000582169, eval on validation:['ade: 0.47283402', 'fde: 1.021964'], (best ade:0.4668638 at step 40200) \n"
     ]
    },
    {
     "name": "stderr",
     "output_type": "stream",
     "text": [
      " 72%|███████▏  | 573/792 [00:26<00:09, 22.19it/s]\n",
      "  0%|          | 0/69 [00:00<?, ?it/s]\u001b[A"
     ]
    },
    {
     "name": "stdout",
     "output_type": "stream",
     "text": [
      "\tsaving model 77400...\n",
      "\tdone\n",
      "Evaluating\n"
     ]
    },
    {
     "name": "stderr",
     "output_type": "stream",
     "text": [
      "\n",
      " 10%|#         | 7/69 [00:00<00:00, 64.44it/s]\u001b[A\n",
      " 20%|##        | 14/69 [00:00<00:00, 65.79it/s]\u001b[A\n",
      " 32%|###1      | 22/69 [00:00<00:00, 68.36it/s]\u001b[A\n",
      " 43%|####3     | 30/69 [00:00<00:00, 70.46it/s]\u001b[A\n",
      " 55%|#####5    | 38/69 [00:00<00:00, 72.72it/s]\u001b[A\n",
      " 67%|######6   | 46/69 [00:00<00:00, 73.26it/s]\u001b[A\n",
      " 78%|#######8  | 54/69 [00:00<00:00, 75.08it/s]\u001b[A\n",
      " 91%|#########1| 63/69 [00:00<00:00, 76.72it/s]\u001b[A\n",
      " 73%|███████▎  | 579/792 [00:27<00:26,  8.04it/s]A"
     ]
    },
    {
     "name": "stdout",
     "output_type": "stream",
     "text": [
      "{'ade': 0.4726057, 'fde': 1.0212363}\n",
      "\t last loss:0.000646727, eval on validation:['ade: 0.4726057', 'fde: 1.0212363'], (best ade:0.4668638 at step 40200) \n"
     ]
    },
    {
     "name": "stderr",
     "output_type": "stream",
     "text": [
      "100%|██████████| 792/792 [00:38<00:00, 20.72it/s]\n",
      "  0%|          | 2/792 [00:00<00:58, 13.44it/s]"
     ]
    },
    {
     "name": "stdout",
     "output_type": "stream",
     "text": [
      "('Epoca 99.', 'lr:', 6.9591783e-07)\n"
     ]
    },
    {
     "name": "stderr",
     "output_type": "stream",
     "text": [
      " 10%|█         | 83/792 [00:04<00:37, 18.79it/s]\n",
      "  0%|          | 0/69 [00:00<?, ?it/s]\u001b[A"
     ]
    },
    {
     "name": "stdout",
     "output_type": "stream",
     "text": [
      "\tsaving model 77700...\n",
      "\tdone\n",
      "Evaluating\n"
     ]
    },
    {
     "name": "stderr",
     "output_type": "stream",
     "text": [
      "\n",
      " 12%|#1        | 8/69 [00:00<00:00, 78.18it/s]\u001b[A\n",
      " 23%|##3       | 16/69 [00:00<00:00, 77.98it/s]\u001b[A\n",
      " 35%|###4      | 24/69 [00:00<00:00, 78.48it/s]\u001b[A\n",
      " 48%|####7     | 33/69 [00:00<00:00, 79.36it/s]\u001b[A\n",
      " 58%|#####7    | 40/69 [00:00<00:00, 73.50it/s]\u001b[A\n",
      " 70%|######9   | 48/69 [00:00<00:00, 74.87it/s]\u001b[A\n",
      " 83%|########2 | 57/69 [00:00<00:00, 76.87it/s]\u001b[A\n",
      " 94%|#########4| 65/69 [00:00<00:00, 77.66it/s]\u001b[A\n",
      " 11%|█         | 85/792 [00:06<02:35,  4.55it/s][A"
     ]
    },
    {
     "name": "stdout",
     "output_type": "stream",
     "text": [
      "{'ade': 0.47238624, 'fde': 1.0206114}\n",
      "\t last loss:0.000295372, eval on validation:['ade: 0.47238624', 'fde: 1.0206114'], (best ade:0.4668638 at step 40200) \n"
     ]
    },
    {
     "name": "stderr",
     "output_type": "stream",
     "text": [
      " 48%|████▊     | 381/792 [00:21<00:19, 21.31it/s]\n",
      "  0%|          | 0/69 [00:00<?, ?it/s]\u001b[A"
     ]
    },
    {
     "name": "stdout",
     "output_type": "stream",
     "text": [
      "\tsaving model 78000...\n",
      "\tdone\n",
      "Evaluating\n"
     ]
    },
    {
     "name": "stderr",
     "output_type": "stream",
     "text": [
      "\n",
      "  6%|5         | 4/69 [00:00<00:01, 37.24it/s]\u001b[A\n",
      " 12%|#1        | 8/69 [00:00<00:01, 35.81it/s]\u001b[A\n",
      " 17%|#7        | 12/69 [00:00<00:01, 36.21it/s]\u001b[A\n",
      " 23%|##3       | 16/69 [00:00<00:01, 36.37it/s]\u001b[A\n",
      " 29%|##8       | 20/69 [00:00<00:01, 35.54it/s]\u001b[A\n",
      " 33%|###3      | 23/69 [00:00<00:01, 32.97it/s]\u001b[A\n",
      " 39%|###9      | 27/69 [00:00<00:01, 33.38it/s]\u001b[A\n",
      " 45%|####4     | 31/69 [00:00<00:01, 34.93it/s]\u001b[A\n",
      " 54%|#####3    | 37/69 [00:01<00:00, 38.96it/s]\u001b[A\n",
      " 59%|#####9    | 41/69 [00:01<00:00, 38.68it/s]\u001b[A\n",
      " 67%|######6   | 46/69 [00:01<00:00, 40.09it/s]\u001b[A\n",
      " 74%|#######3  | 51/69 [00:01<00:00, 41.97it/s]\u001b[A\n",
      " 83%|########2 | 57/69 [00:01<00:00, 45.37it/s]\u001b[A\n",
      " 93%|#########2| 64/69 [00:01<00:00, 50.71it/s]\u001b[A\n",
      " 49%|████▉     | 387/792 [00:23<01:11,  5.68it/s]A"
     ]
    },
    {
     "name": "stdout",
     "output_type": "stream",
     "text": [
      "{'ade': 0.47254366, 'fde': 1.0211525}\n",
      "\t last loss:0.000168338, eval on validation:['ade: 0.47254366', 'fde: 1.0211525'], (best ade:0.4668638 at step 40200) \n"
     ]
    },
    {
     "name": "stderr",
     "output_type": "stream",
     "text": [
      " 86%|████████▌ | 681/792 [00:37<00:04, 25.99it/s]\n",
      "  0%|          | 0/69 [00:00<?, ?it/s]\u001b[A"
     ]
    },
    {
     "name": "stdout",
     "output_type": "stream",
     "text": [
      "\tsaving model 78300...\n",
      "\tdone\n",
      "Evaluating\n"
     ]
    },
    {
     "name": "stderr",
     "output_type": "stream",
     "text": [
      "\n",
      " 12%|#1        | 8/69 [00:00<00:00, 76.74it/s]\u001b[A\n",
      " 25%|##4       | 17/69 [00:00<00:00, 79.92it/s]\u001b[A\n",
      " 38%|###7      | 26/69 [00:00<00:00, 82.21it/s]\u001b[A\n",
      " 49%|####9     | 34/69 [00:00<00:00, 81.35it/s]\u001b[A\n",
      " 64%|######3   | 44/69 [00:00<00:00, 84.35it/s]\u001b[A\n",
      " 78%|#######8  | 54/69 [00:00<00:00, 86.44it/s]\u001b[A\n",
      " 91%|#########1| 63/69 [00:00<00:00, 85.96it/s]\u001b[A\n",
      " 87%|████████▋ | 687/792 [00:38<00:11,  9.07it/s]A"
     ]
    },
    {
     "name": "stdout",
     "output_type": "stream",
     "text": [
      "{'ade': 0.4724095, 'fde': 1.020803}\n",
      "\t last loss:0.000313891, eval on validation:['ade: 0.4724095', 'fde: 1.020803'], (best ade:0.4668638 at step 40200) \n"
     ]
    },
    {
     "name": "stderr",
     "output_type": "stream",
     "text": [
      "100%|██████████| 792/792 [00:43<00:00, 23.63it/s]\n",
      "  0%|          | 3/792 [00:00<00:36, 21.43it/s]"
     ]
    },
    {
     "name": "stdout",
     "output_type": "stream",
     "text": [
      "('Epoca 100.', 'lr:', 6.9591783e-07)\n"
     ]
    },
    {
     "name": "stderr",
     "output_type": "stream",
     "text": [
      " 24%|██▍       | 190/792 [00:11<00:26, 22.98it/s]\n",
      "  0%|          | 0/69 [00:00<?, ?it/s]\u001b[A"
     ]
    },
    {
     "name": "stdout",
     "output_type": "stream",
     "text": [
      "\tsaving model 78600...\n",
      "\tdone\n",
      "Evaluating\n"
     ]
    },
    {
     "name": "stderr",
     "output_type": "stream",
     "text": [
      "\n",
      " 10%|#         | 7/69 [00:00<00:00, 63.49it/s]\u001b[A\n",
      " 22%|##1       | 15/69 [00:00<00:00, 65.84it/s]\u001b[A\n",
      " 33%|###3      | 23/69 [00:00<00:00, 67.98it/s]\u001b[A\n",
      " 42%|####2     | 29/69 [00:00<00:00, 63.53it/s]\u001b[A\n",
      " 52%|#####2    | 36/69 [00:00<00:00, 64.92it/s]\u001b[A\n",
      " 62%|######2   | 43/69 [00:00<00:00, 65.84it/s]\u001b[A\n",
      " 72%|#######2  | 50/69 [00:00<00:00, 67.03it/s]\u001b[A\n",
      " 83%|########2 | 57/69 [00:00<00:00, 67.70it/s]\u001b[A\n",
      " 93%|#########2| 64/69 [00:00<00:00, 66.97it/s]\u001b[A\n",
      " 24%|██▍       | 193/792 [00:12<01:39,  6.04it/s]A"
     ]
    },
    {
     "name": "stdout",
     "output_type": "stream",
     "text": [
      "{'ade': 0.47235277, 'fde': 1.0205812}\n",
      "\t last loss:0.000258366, eval on validation:['ade: 0.47235277', 'fde: 1.0205812'], (best ade:0.4668638 at step 40200) \n"
     ]
    },
    {
     "name": "stderr",
     "output_type": "stream",
     "text": [
      " 62%|██████▏   | 491/792 [00:25<00:12, 24.38it/s]\n",
      "  0%|          | 0/69 [00:00<?, ?it/s]\u001b[A"
     ]
    },
    {
     "name": "stdout",
     "output_type": "stream",
     "text": [
      "\tsaving model 78900...\n",
      "\tdone\n",
      "Evaluating\n"
     ]
    },
    {
     "name": "stderr",
     "output_type": "stream",
     "text": [
      "\n",
      " 12%|#1        | 8/69 [00:00<00:00, 79.87it/s]\u001b[A\n",
      " 25%|##4       | 17/69 [00:00<00:00, 81.02it/s]\u001b[A\n",
      " 36%|###6      | 25/69 [00:00<00:00, 80.51it/s]\u001b[A\n",
      " 48%|####7     | 33/69 [00:00<00:00, 80.04it/s]\u001b[A\n",
      " 61%|######    | 42/69 [00:00<00:00, 81.01it/s]\u001b[A\n",
      " 74%|#######3  | 51/69 [00:00<00:00, 81.78it/s]\u001b[A\n",
      " 86%|########5 | 59/69 [00:00<00:00, 77.52it/s]\u001b[A\n",
      " 99%|#########8| 68/69 [00:00<00:00, 79.01it/s]\u001b[A\n",
      " 62%|██████▏   | 494/792 [00:26<00:44,  6.74it/s]A"
     ]
    },
    {
     "name": "stdout",
     "output_type": "stream",
     "text": [
      "{'ade': 0.47237173, 'fde': 1.0206587}\n",
      "\t last loss:0.000338527, eval on validation:['ade: 0.47237173', 'fde: 1.0206587'], (best ade:0.4668638 at step 40200) \n"
     ]
    },
    {
     "name": "stderr",
     "output_type": "stream",
     "text": [
      "100%|█████████▉| 791/792 [00:40<00:00, 24.35it/s]\n",
      "  0%|          | 0/69 [00:00<?, ?it/s]\u001b[A"
     ]
    },
    {
     "name": "stdout",
     "output_type": "stream",
     "text": [
      "\tsaving model 79200...\n",
      "\tdone\n",
      "Evaluating\n"
     ]
    },
    {
     "name": "stderr",
     "output_type": "stream",
     "text": [
      "\n",
      " 13%|#3        | 9/69 [00:00<00:00, 81.57it/s]\u001b[A\n",
      " 26%|##6       | 18/69 [00:00<00:00, 82.24it/s]\u001b[A\n",
      " 38%|###7      | 26/69 [00:00<00:00, 80.67it/s]\u001b[A\n",
      " 49%|####9     | 34/69 [00:00<00:00, 77.92it/s]\u001b[A\n",
      " 58%|#####7    | 40/69 [00:00<00:00, 68.39it/s]\u001b[A\n",
      " 70%|######9   | 48/69 [00:00<00:00, 70.48it/s]\u001b[A\n",
      " 81%|########1 | 56/69 [00:00<00:00, 71.99it/s]\u001b[A\n",
      " 94%|#########4| 65/69 [00:00<00:00, 75.34it/s]\u001b[A\n",
      "100%|██████████| 792/792 [00:41<00:00, 19.21it/s]A"
     ]
    },
    {
     "name": "stdout",
     "output_type": "stream",
     "text": [
      "{'ade': 0.4724529, 'fde': 1.0208533}\n",
      "\t last loss:0.000319203, eval on validation:['ade: 0.4724529', 'fde: 1.0208533'], (best ade:0.4668638 at step 40200) \n",
      "best eval on val ade: 0.4668638 at 40200 step y fde es 1.0039859 \n"
     ]
    },
    {
     "name": "stderr",
     "output_type": "stream",
     "text": [
      "\n"
     ]
    }
   ],
   "source": [
    "import os \n",
    "from tqdm import tqdm\n",
    "import tensorflow as tf\n",
    "import math\n",
    "\n",
    "tf.reset_default_graph()\n",
    "\n",
    "arguments = parameters1(add_kp = False, add_social = True, train_num_examples=len(data1['obs_traj']))\n",
    "model = model.Model(arguments)\n",
    "\n",
    "train_data = batches_data.Dataset(data1,arguments)\n",
    "val_data = batches_data.Dataset(data3,arguments)\n",
    "\n",
    "saver = tf.train.Saver(max_to_keep = 2)\n",
    "bestsaver = tf.train.Saver(max_to_keep = 2)\n",
    "\n",
    "\n",
    "trainer = entrenamientoevaluacion.Trainer(model,arguments)\n",
    "tester = entrenamientoevaluacion.Tester(model, arguments)\n",
    "\n",
    "#inicializamos las variables globales\n",
    "init = tf.global_variables_initializer()\n",
    "sess = tf.Session()\n",
    "sess.run(init)\n",
    "\n",
    "increment_global_step_op = tf.assign(model.global_step, model.global_step+1)\n",
    "\n",
    "val_perf = []\n",
    "loss = -1\n",
    "metric = 'ade'\n",
    "\n",
    "best = {metric:999999, 'fde':0, 'step':-1}\n",
    "is_start = True\n",
    "\n",
    "num_steps = int(math.ceil(train_data.num_examples/float(arguments.batch_size)))\n",
    "loss_list = []\n",
    "print(num_steps)\n",
    "\n",
    "for i in range(arguments.num_epochs):\n",
    "    print('Epoca {0}.' .format(i+1), 'lr:', sess.run(trainer.get_lr()))\n",
    "    \n",
    "    #For de batches\n",
    "    for idx, batch in tqdm(train_data.get_batches(arguments.batch_size,num_steps = num_steps),total=num_steps):\n",
    "        \n",
    "        sess.run(increment_global_step_op)\n",
    "        global_step = sess.run(model.global_step)\n",
    "\n",
    "        #Evaluamos el entrenamiento\n",
    "        if((global_step%arguments.validate==0) or (arguments.load_best and is_start)):\n",
    "            tqdm.write(\"\\tsaving model %s...\" % global_step)\n",
    "            checkpoint_path_model = os.path.join('FO_UCY-ZARA01_NON_12', 'model.ckpt')\n",
    "            saver.save(sess,checkpoint_path_model , global_step = global_step)\n",
    "            tqdm.write(\"\\tdone\")\n",
    "            \n",
    "            print('Evaluating')\n",
    "            results = evaluate(val_data, tester,sess,arguments)\n",
    "            print(results)\n",
    "           \n",
    "            tqdm.write((\"\\t last loss:%.9f, eval on validation:%s,\"\n",
    "                    \" (best %s:%s at step %s) \") % (loss,[\"%s: %s\" % (k, results[k]) for k in sorted(results.keys())], metric,best[metric], best[\"step\"]))\n",
    "            if results[\"ade\"]< best[metric]:\n",
    "                best[metric] = results[\"ade\"]\n",
    "                best[\"fde\"]  = results[\"fde\"]\n",
    "                best[\"step\"] = global_step\n",
    "                \n",
    "                tqdm.write(\"\\t saving best model...\")\n",
    "                checkpoint_path_model_best = os.path.join('FO_UCY-ZARA01_NON-BEST_12', 'model_best.ckpt')\n",
    "                bestsaver.save(sess,checkpoint_path_model_best,global_step = global_step)\n",
    "                tqdm.write(\"\\t done.\")\n",
    "                finalperf = results\n",
    "                val_perf.append((loss, results))\n",
    "            is_start = False\n",
    "        loss, train_op = trainer.step(sess, batch)\n",
    "        loss_list.append(loss)\n",
    "    \n",
    "if((global_step % arguments.validate)!=0):\n",
    "  checkpoint_path_model = os.path.join('FO_UCY-ZARA01_NON_12', 'model.ckpt')\n",
    "  saver.save(sess,checkpoint_path_model , global_step = global_step)\n",
    "\n",
    "print(\"best eval on val %s: %s at %s step y fde es %s \" % (metric, best[metric], best[\"step\"],best[\"fde\"]))\n"
   ]
  },
  {
   "cell_type": "code",
   "execution_count": 15,
   "metadata": {},
   "outputs": [
    {
     "name": "stderr",
     "output_type": "stream",
     "text": [
      "/home/andrea/anaconda2/lib/python2.7/site-packages/numpy/core/fromnumeric.py:3118: RuntimeWarning: Mean of empty slice.\n",
      "  out=out, **kwargs)\n",
      "/home/andrea/anaconda2/lib/python2.7/site-packages/numpy/core/_methods.py:85: RuntimeWarning: invalid value encountered in double_scalars\n",
      "  ret = ret.dtype.type(ret / rcount)\n"
     ]
    },
    {
     "data": {
      "image/png": "[encoded data removed]",
      "text/plain": [
       "<Figure size 432x288 with 1 Axes>"
      ]
     },
     "metadata": {
      "needs_background": "light"
     },
     "output_type": "display_data"
    }
   ],
   "source": [
    "from matplotlib import pyplot as plt\n",
    "learning =[]\n",
    "for i in range(arguments.num_epochs):\n",
    "    a = (len(loss_list)/arguments.num_epochs)*(i-1)\n",
    "    b = (len(loss_list)/arguments.num_epochs)*(i)\n",
    "    learning.append(np.mean(loss_list[a:b]))\n",
    "\n",
    "plt.plot(learning)\n",
    "plt.xlabel(\"Epochs\")\n",
    "plt.ylabel(\"Loss\")\n",
    "plt.show()"
   ]
  },
  {
   "cell_type": "code",
   "execution_count": null,
   "metadata": {},
   "outputs": [],
   "source": []
  },
  {
   "cell_type": "code",
   "execution_count": 13,
   "metadata": {},
   "outputs": [
    {
     "name": "stderr",
     "output_type": "stream",
     "text": [
      "  7%|6         | 8/118 [00:00<00:01, 72.25it/s]"
     ]
    },
    {
     "name": "stdout",
     "output_type": "stream",
     "text": [
      "Evaluating\n"
     ]
    },
    {
     "name": "stderr",
     "output_type": "stream",
     "text": [
      "100%|##########| 118/118 [00:01<00:00, 86.13it/s]"
     ]
    },
    {
     "name": "stdout",
     "output_type": "stream",
     "text": [
      "{'ade': 0.40945446, 'fde': 0.9020383}\n"
     ]
    },
    {
     "name": "stderr",
     "output_type": "stream",
     "text": [
      "\n"
     ]
    }
   ],
   "source": [
    "#Modelo12\n",
    "path_model = 'FO_UCY-ZARA01_NON_12/model.ckpt-79200'\n",
    "saver.restore(sess=sess, save_path=path_model)\n",
    "\n",
    "\n",
    "test_data = batches_data.Dataset(data_test, arguments)\n",
    "print('Evaluating')\n",
    "results = evaluate(test_data, tester,sess,arguments)\n",
    "print(results)"
   ]
  },
  {
   "cell_type": "code",
   "execution_count": 14,
   "metadata": {},
   "outputs": [
    {
     "name": "stderr",
     "output_type": "stream",
     "text": [
      "  6%|5         | 7/118 [00:00<00:01, 68.71it/s]"
     ]
    },
    {
     "name": "stdout",
     "output_type": "stream",
     "text": [
      "Evaluating\n"
     ]
    },
    {
     "name": "stderr",
     "output_type": "stream",
     "text": [
      "100%|##########| 118/118 [00:01<00:00, 86.38it/s]"
     ]
    },
    {
     "name": "stdout",
     "output_type": "stream",
     "text": [
      "{'ade': 0.4067699, 'fde': 0.8927642}\n"
     ]
    },
    {
     "name": "stderr",
     "output_type": "stream",
     "text": [
      "\n"
     ]
    }
   ],
   "source": [
    "# Mejor Modelo\n",
    "path_model = 'FO_UCY-ZARA01_NON-BEST_12/model_best.ckpt-40200'\n",
    "saver.restore(sess=sess, save_path=path_model)\n",
    "\n",
    "test_data = batches_data.Dataset(data_test, arguments)\n",
    "print('Evaluating')\n",
    "results = evaluate(test_data, tester,sess,arguments)\n",
    "print(results)"
   ]
  },
  {
   "cell_type": "code",
   "execution_count": null,
   "metadata": {},
   "outputs": [],
   "source": []
  }
 ],
 "metadata": {
  "kernelspec": {
   "display_name": "Python 2",
   "language": "python",
   "name": "python2"
  },
  "language_info": {
   "codemirror_mode": {
    "name": "ipython",
    "version": 2
   },
   "file_extension": ".py",
   "mimetype": "text/x-python",
   "name": "python",
   "nbconvert_exporter": "python",
   "pygments_lexer": "ipython2",
   "version": "2.7.16"
  }
 },
 "nbformat": 4,
 "nbformat_minor": 2
}
