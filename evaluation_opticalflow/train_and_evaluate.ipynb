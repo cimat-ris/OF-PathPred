{
 "cells": [
  {
   "cell_type": "code",
   "execution_count": 1,
   "metadata": {},
   "outputs": [
    {
     "name": "stdout",
     "output_type": "stream",
     "text": [
      "Tensorflow version:  1.15.2\n",
      "['/usr/lib/python36.zip', '/usr/lib/python3.6', '/usr/lib/python3.6/lib-dynload', '', '/home/jbhayet/opt/repositories/devel/OF-PathPred/.venv/lib/python3.6/site-packages', '/home/jbhayet/opt/repositories/devel/OF-PathPred/.venv/lib/python3.6/site-packages/IPython/extensions', '/home/jbhayet/.ipython', './lib']\n"
     ]
    }
   ],
   "source": [
    "# Imports\n",
    "import sys,os\n",
    "sys.path.append('./lib')\n",
    "import numpy as np\n",
    "import warnings\n",
    "warnings.filterwarnings('ignore')\n",
    "import tensorflow as tf \n",
    "print('Tensorflow version: ',tf.__version__)\n",
    "tf.test.gpu_device_name()\n",
    "print(sys.path)"
   ]
  },
  {
   "cell_type": "code",
   "execution_count": 2,
   "metadata": {},
   "outputs": [
    {
     "data": {
      "text/plain": [
       "[name: \"/device:CPU:0\"\n",
       " device_type: \"CPU\"\n",
       " memory_limit: 268435456\n",
       " locality {\n",
       " }\n",
       " incarnation: 15406555234108387628,\n",
       " name: \"/device:XLA_CPU:0\"\n",
       " device_type: \"XLA_CPU\"\n",
       " memory_limit: 17179869184\n",
       " locality {\n",
       " }\n",
       " incarnation: 5989591888478011419\n",
       " physical_device_desc: \"device: XLA_CPU device\"]"
      ]
     },
     "execution_count": 2,
     "metadata": {},
     "output_type": "execute_result"
    }
   ],
   "source": [
    "from tensorflow.python.client import device_lib\n",
    "device_lib.list_local_devices()"
   ]
  },
  {
   "cell_type": "code",
   "execution_count": 3,
   "metadata": {},
   "outputs": [],
   "source": [
    "# Important imports\n",
    "from process_file import process_file_modif\n",
    "from process_file import process_file_modif_varios\n",
    "import batches_data\n",
    "import model\n",
    "import entrenamientoevaluacion\n",
    "from interaction_optical_flow import OpticalFlowSimulator"
   ]
  },
  {
   "cell_type": "code",
   "execution_count": 4,
   "metadata": {},
   "outputs": [],
   "source": [
    "# Dataset to be tested\n",
    "dataset_paths  = \"../data1/\"\n",
    "# dataset       = 'eth-hotel' \n",
    "#dataset        = 'eth-univ'\n",
    "dataset_name   = 'ucy-zara02'"
   ]
  },
  {
   "cell_type": "code",
   "execution_count": 5,
   "metadata": {},
   "outputs": [
    {
     "data": {
      "image/png": "[encoded data removed]",
      "text/plain": [
       "<Figure size 432x288 with 1 Axes>"
      ]
     },
     "metadata": {
      "needs_background": "light"
     },
     "output_type": "display_data"
    },
    {
     "data": {
      "image/png": "[encoded data removed]",
      "text/plain": [
       "<Figure size 432x288 with 1 Axes>"
      ]
     },
     "metadata": {
      "needs_background": "light"
     },
     "output_type": "display_data"
    }
   ],
   "source": [
    "# To test obstacle-related functions\n",
    "from obstacles import image_to_world_xy,raycast,generate_obstacle_polygons,load_image_obstacle_polygons, load_world_obstacle_polygons\n",
    "import matplotlib.pyplot as plt\n",
    "\n",
    "generate_obstacle_polygons(dataset_paths,dataset_name)\n",
    "obstacles       = load_image_obstacle_polygons(dataset_paths,dataset_name)\n",
    "obstacles_world = load_world_obstacle_polygons(dataset_paths,dataset_name)\n",
    "# Draw the obstacles in the image frame\n",
    "for obs in obstacles:\n",
    "    plt.plot(obs[:,0],obs[:,1],\"g-\")\n",
    "plt.show()\n",
    "\n",
    "# Draw obstacles\n",
    "for obst in obstacles_world:\n",
    "    plt.plot(obst[:,0],obst[:,1],\"g-\")\n",
    "\n",
    "xpos = np.random.normal(5.0,3.0)\n",
    "ypos = np.random.normal(5.0,3.0)\n",
    "\n",
    "for t in range(0,21):\n",
    "    tpos = t*0.3\n",
    "    c = np.cos(tpos)\n",
    "    s = np.sin(tpos)\n",
    "    plt.plot(xpos,ypos,\"ro\")\n",
    "    plt.plot([xpos,xpos+2.0*c],[ypos,ypos+2.0*s],\"r-\")\n",
    "\n",
    "    # Test for ray casting: first check if some polygons do intersect the ray.\n",
    "    # If so, plot in red\n",
    "    omin,imin,dmin,inters = raycast([xpos,ypos,tpos],obstacles_world)\n",
    "    if imin>=0:\n",
    "        plt.plot(obstacles_world[omin][imin:imin+2,0],obstacles_world[omin][imin:imin+2,1],\"b-\")\n",
    "        plt.plot(inters[0],inters[1],\"bo\")\n",
    "\n",
    "plt.xlabel(\"x\")\n",
    "plt.ylabel(\"y\")\n",
    "plt.axis(\"equal\")\n",
    "plt.show()"
   ]
  },
  {
   "cell_type": "code",
   "execution_count": 6,
   "metadata": {},
   "outputs": [],
   "source": [
    "# File of trajectories coordinates. Coordinates are in world frame\n",
    "data_path = '../data1/'+dataset_name+'/mundo/mun_pos.csv'\n",
    "\n",
    "# Parameters\n",
    "class parameters:\n",
    "    def __init__(self):\n",
    "        # Maximum number of persons in a frame\n",
    "        self.person_max = 42 # 8   # Univ: 42  Hotel: 28\n",
    "        # Observation length (trajlet size)\n",
    "        self.obs_len    = 8\n",
    "        # Prediction length\n",
    "        self.pred_len   = 12\n",
    "        # Flag to consider social interactions\n",
    "        self.add_social = True\n",
    "        # Number of key points\n",
    "        self.kp_num     = 18\n",
    "        # Key point flag\n",
    "        self.add_kp     = False\n",
    "     "
   ]
  },
  {
   "cell_type": "code",
   "execution_count": 7,
   "metadata": {},
   "outputs": [
    {
     "name": "stdout",
     "output_type": "stream",
     "text": [
      "[INF] Sequence length:  20\n",
      "[INF] Number of considered subsequences:  1052\n",
      "Total number of examples\n",
      "5910\n"
     ]
    }
   ],
   "source": [
    "# Load the default parameters\n",
    "arguments = parameters()\n",
    "\n",
    "# Process data to get the trajectories\n",
    "data = process_file_modif(data_path, arguments, ',')"
   ]
  },
  {
   "cell_type": "code",
   "execution_count": 8,
   "metadata": {},
   "outputs": [
    {
     "name": "stdout",
     "output_type": "stream",
     "text": [
      "(5910, 8, 42, 3)\n"
     ]
    }
   ],
   "source": [
    "# Should be nSamples x sequenceLength x nPersonsMax x PersonDescriptionSize \n",
    "print(data['obs_person'].shape) "
   ]
  },
  {
   "cell_type": "markdown",
   "metadata": {},
   "source": [
    "# Optical flow"
   ]
  },
  {
   "cell_type": "code",
   "execution_count": 9,
   "metadata": {},
   "outputs": [],
   "source": [
    "optical_flow_file = 'of_'+dataset_name+'.npy'"
   ]
  },
  {
   "cell_type": "code",
   "execution_count": 10,
   "metadata": {},
   "outputs": [],
   "source": [
    "OFSimulator = OpticalFlowSimulator()\n",
    "# Compute the optical flow generated by the neighbors\n",
    "optical_flow, visible_neigbors = OFSimulator.compute_opticalflow_batch(data['obs_person'],data['key_idx'],data['obs_traj'],arguments.obs_len,obstacles_world)\n",
    "# Save it on file\n",
    "np.save(optical_flow_file,optical_flow)"
   ]
  },
  {
   "cell_type": "markdown",
   "metadata": {},
   "source": [
    "# Load the optical flow"
   ]
  },
  {
   "cell_type": "code",
   "execution_count": 11,
   "metadata": {},
   "outputs": [
    {
     "data": {
      "text/plain": [
       "(5910, 8, 64)"
      ]
     },
     "execution_count": 11,
     "metadata": {},
     "output_type": "execute_result"
    }
   ],
   "source": [
    "# Load the optical flow\n",
    "optical_flow = np.load(optical_flow_file)\n",
    "optical_flow.shape"
   ]
  },
  {
   "cell_type": "markdown",
   "metadata": {},
   "source": [
    "# Visualize some examples of optical flow"
   ]
  },
  {
   "cell_type": "code",
   "execution_count": 16,
   "metadata": {
    "scrolled": true
   },
   "outputs": [
    {
     "data": {
      "image/png": "[encoded data removed]",
      "text/plain": [
       "<Figure size 1080x1080 with 12 Axes>"
      ]
     },
     "metadata": {
      "needs_background": "light"
     },
     "output_type": "display_data"
    },
    {
     "name": "stdout",
     "output_type": "stream",
     "text": [
      "Saving...\n"
     ]
    }
   ],
   "source": [
    "import random\n",
    "# Select a random sequence\n",
    "idSample = random.sample(range(1,optical_flow.shape[0]), 1)\n",
    "\n",
    "# Trajectory\n",
    "traj_sample   = data[\"obs_traj\"][idSample][0]\n",
    "traj_neighbors= data['obs_person'][idSample][0]\n",
    "traj_id       = data['key_idx'][idSample]\n",
    "# Optical flow\n",
    "optical_flow_sample,visible_neighbors_sample = OFSimulator.compute_opticalflow_seq(traj_id,traj_sample,traj_neighbors)\n",
    "# Plot\n",
    "OFSimulator.plot_flow(traj_sample,traj_neighbors,optical_flow_sample,visible_neighbors_sample)"
   ]
  },
  {
   "cell_type": "markdown",
   "metadata": {},
   "source": [
    "# Optical flow is added to the data"
   ]
  },
  {
   "cell_type": "code",
   "execution_count": 17,
   "metadata": {},
   "outputs": [],
   "source": [
    "data.update({\"obs_flujo\": optical_flow})"
   ]
  },
  {
   "cell_type": "markdown",
   "metadata": {},
   "source": [
    "# Split the data"
   ]
  },
  {
   "cell_type": "code",
   "execution_count": 18,
   "metadata": {},
   "outputs": [
    {
     "name": "stdout",
     "output_type": "stream",
     "text": [
      "training data: 4137\n",
      "test data: 1182\n",
      "validation data: 591\n"
     ]
    }
   ],
   "source": [
    "# Seed\n",
    "import random\n",
    "random.seed(0)\n",
    "\n",
    "# Muestreamos aleatoriamente para separar datos de entrenamiento, validacion y prueba\n",
    "training_pc  = 0.7 \n",
    "test_pc      = 0.2\n",
    "\n",
    "# Count how many data we have (sub-sequences of length 8, in pred_traj)\n",
    "ndata      = len(data[list(data.keys())[2]])\n",
    "idx        = random.sample(range(ndata), ndata)\n",
    "training   = int(ndata*training_pc)\n",
    "test       = int(ndata*test_pc)\n",
    "validation = int(ndata-training-test)\n",
    "\n",
    "# Indices for training\n",
    "idx_train = idx[0:training]\n",
    "# Indices for testing\n",
    "idx_test  = idx[training:training+test]\n",
    "# Indices for validation\n",
    "idx_val   = idx[training+test:]\n",
    "\n",
    "# Training set\n",
    "training_data = {\n",
    "     \"obs_traj\":      data[\"obs_traj\"][idx_train],\n",
    "     \"obs_traj_rel\":  data[\"obs_traj_rel\"][idx_train],\n",
    "     \"pred_traj\":     data[\"pred_traj\"][idx_train],\n",
    "     \"pred_traj_rel\": data[\"pred_traj_rel\"][idx_train],\n",
    "     \"key_idx\":       data[\"key_idx\"][[idx_train]],\n",
    "     \"obs_flujo\" :    data[\"obs_flujo\"][idx_train],\n",
    "     #\"pred_kp\": data_pets[\"pred_kp\"][idx_train],\n",
    "     #\"obs_person\": data_pets[\"obs_person\"][idx_train],\n",
    "}\n",
    "\n",
    "# Test set\n",
    "test_data = {\n",
    "     \"obs_traj\":     data[\"obs_traj\"][idx_test],\n",
    "     \"obs_traj_rel\": data[\"obs_traj_rel\"][idx_test],\n",
    "     \"pred_traj\":    data[\"pred_traj\"][idx_test],\n",
    "     \"pred_traj_rel\":data[\"pred_traj_rel\"][idx_test],\n",
    "     \"key_idx\":      data[\"key_idx\"][[idx_test]],\n",
    "     \"obs_flujo\":    data[\"obs_flujo\"][idx_test],\n",
    "     #\"pred_kp\": data_pets[\"pred_kp\"][idx_test],\n",
    "     #\"obs_person\": data_pets[\"obs_person\"][idx_test]\n",
    "}\n",
    "\n",
    "# Validation set\n",
    "validation_data ={\n",
    "     \"obs_traj\":     data[\"obs_traj\"][idx_val],\n",
    "     \"obs_traj_rel\": data[\"obs_traj_rel\"][idx_val],\n",
    "     \"pred_traj\":    data[\"pred_traj\"][idx_val],\n",
    "     \"pred_traj_rel\":data[\"pred_traj_rel\"][idx_val],\n",
    "     \"key_idx\":      data[\"key_idx\"][[idx_val]],\n",
    "     \"obs_flujo\":    data[\"obs_flujo\"][idx_val],\n",
    "     #\"pred_kp\": data_pets[\"pred_kp\"][idx_val],\n",
    "     #\"obs_person\": data_pets[\"obs_person\"][idx_val],\n",
    "}\n",
    "\n",
    "\n",
    "print(\"training data: \"+ str(len(training_data[list(training_data.keys())[0]])))\n",
    "print(\"test data: \"+ str(len(test_data[list(test_data.keys())[0]])))\n",
    "print(\"validation data: \"+ str(len(validation_data[list(validation_data.keys())[0]])))\n"
   ]
  },
  {
   "cell_type": "code",
   "execution_count": 19,
   "metadata": {},
   "outputs": [
    {
     "data": {
      "image/png": "[encoded data removed]",
      "text/plain": [
       "<Figure size 720x720 with 1 Axes>"
      ]
     },
     "metadata": {
      "needs_background": "light"
     },
     "output_type": "display_data"
    }
   ],
   "source": [
    "import matplotlib.pyplot as plt\n",
    "\n",
    "# Plot ramdomly a subset of the training data (spatial data only)\n",
    "nSamples = min(20,training)\n",
    "samples  = random.sample(range(1,training), nSamples)\n",
    "plt.subplots(1,1,figsize=(10,10))\n",
    "plt.subplot(1,1,1)\n",
    "plt.axis('equal')\n",
    "# Plot some of the training data\n",
    "for (o,p) in zip(training_data[\"obs_traj\"][samples],training_data[\"pred_traj\"][samples]):\n",
    "    # Observations\n",
    "    plt.plot(o[:,0],o[:,1],color='red')\n",
    "    plt.plot([o[-1,0],p[0,0]],[o[-1,1],p[0,1]],color='blue')\n",
    "    # Prediction targets\n",
    "    plt.plot(p[:,0],p[:,1],color='blue')    "
   ]
  },
  {
   "cell_type": "markdown",
   "metadata": {},
   "source": [
    "# Save the data to be used later"
   ]
  },
  {
   "cell_type": "code",
   "execution_count": 21,
   "metadata": {},
   "outputs": [],
   "source": [
    "import pickle\n",
    "\n",
    "# Training dataset\n",
    "pickle_out = open('training_data_'+dataset_name+'.pickle',\"wb\")\n",
    "pickle.dump(training, pickle_out, protocol=2)\n",
    "pickle_out.close()\n",
    "\n",
    "# Test dataset\n",
    "pickle_out = open('test_data_'+dataset_name+'.pickle',\"wb\")\n",
    "pickle.dump(test, pickle_out, protocol=2)\n",
    "pickle_out.close()\n",
    "\n",
    "# Validation dataset\n",
    "pickle_out = open('validation_data_'+dataset_name+'.pickle',\"wb\")\n",
    "pickle.dump(validation, pickle_out, protocol=2)\n",
    "pickle_out.close()"
   ]
  },
  {
   "cell_type": "markdown",
   "metadata": {},
   "source": [
    "# Model parameters"
   ]
  },
  {
   "cell_type": "code",
   "execution_count": 22,
   "metadata": {},
   "outputs": [],
   "source": [
    "class model_parameters:\n",
    "    def __init__(self, train_num_examples, add_kp = False, add_social = False):\n",
    "        # -----------------\n",
    "        # Observation/prediction lengths \n",
    "        self.obs_len  = 8\n",
    "        self.pred_len = 12\n",
    "        \n",
    "        self.add_kp             = add_kp\n",
    "        self.train_num_examples = train_num_examples\n",
    "        self.add_social         = add_social\n",
    "        # Key points\n",
    "        self.kp_num = 18\n",
    "        self.kp_size = 18\n",
    "        #self.maxNumPed = 8\n",
    "        #self.grid_size = 4\n",
    "        #self.neighborhood_size = 32\n",
    "        #self.dimensions = [768,576]\n",
    "        #self.limites=[-15.88,11.56,-19.09,5.99]\n",
    "        #self.bound=[0.7,0.5]\n",
    "        # ------------------\n",
    "        self.num_epochs = 100\n",
    "        self.batch_size = 20 # batch size\n",
    "        self.validate   = 300\n",
    "        self.P          = 2 # Dimension\n",
    "        self.enc_hidden_size = 64 # el nombre lo dice\n",
    "        self.dec_hidden_size = 64\n",
    "        self.emb_size        = 64\n",
    "        self.keep_prob      = 0.7 # dropout\n",
    "        \n",
    "        self.min_ped = 1\n",
    "        self.seq_len = self.obs_len + self.pred_len\n",
    "        self.reverse_xy = False\n",
    "        \n",
    "        self.activation_func = tf.nn.tanh\n",
    "        self.activation_func1 = tf.nn.relu\n",
    "        self.is_train = True\n",
    "        self.is_test = False\n",
    "        self.multi_decoder = False\n",
    "        self.modelname = 'gphuctl'\n",
    "        \n",
    "        self.init_lr = 0.002 # 0.01\n",
    "        self.learning_rate_decay = 0.85\n",
    "        self.num_epoch_per_decay = 2.0\n",
    "        self.optimizer = 'adam'\n",
    "        self.emb_lr = 1.0\n",
    "        #self.clip_gradient_norm = 10.0\n",
    "        #Para cuando entreno y quiero guardar el mejor modelo\n",
    "        self.load_best = True"
   ]
  },
  {
   "cell_type": "markdown",
   "metadata": {},
   "source": [
    "# Training the model"
   ]
  },
  {
   "cell_type": "code",
   "execution_count": 24,
   "metadata": {},
   "outputs": [
    {
     "name": "stderr",
     "output_type": "stream",
     "text": [
      "  0%|          | 0/207 [00:00<?, ?it/s]\n",
      "  0%|          | 0/30 [00:00<?, ?it/s]\u001b[A\n",
      "  3%|3         | 1/30 [00:00<00:12,  2.28it/s]\u001b[A\n",
      " 43%|####3     | 13/30 [00:00<00:05,  3.22it/s]\u001b[A\n",
      "100%|##########| 30/30 [00:00<00:00, 46.00it/s]\u001b[A\n",
      "100%|██████████| 207/207 [00:04<00:00, 46.05it/s]\n",
      " 41%|████      | 85/207 [00:01<00:01, 71.78it/s]\n",
      "  0%|          | 0/30 [00:00<?, ?it/s]\u001b[A\n",
      "100%|##########| 30/30 [00:00<00:00, 202.46it/s]\u001b[A\n",
      "100%|██████████| 207/207 [00:03<00:00, 65.52it/s]\n",
      " 86%|████████▋ | 179/207 [00:02<00:00, 57.10it/s]"
     ]
    },
    {
     "name": "stdout",
     "output_type": "stream",
     "text": [
      "WARNING:tensorflow:From /home/jbhayet/opt/repositories/devel/OF-PathPred/.venv/lib/python3.6/site-packages/tensorflow_core/python/training/saver.py:963: remove_checkpoint (from tensorflow.python.training.checkpoint_management) is deprecated and will be removed in a future version.\n",
      "Instructions for updating:\n",
      "Use standard file APIs to delete files with this prefix.\n"
     ]
    },
    {
     "name": "stderr",
     "output_type": "stream",
     "text": [
      "\n",
      "  0%|          | 0/30 [00:00<?, ?it/s]\u001b[A\n",
      "100%|##########| 30/30 [00:00<00:00, 156.90it/s]\u001b[A\n",
      "100%|██████████| 207/207 [00:03<00:00, 58.78it/s]\n",
      "100%|██████████| 207/207 [00:02<00:00, 75.32it/s]\n",
      " 31%|███▏      | 65/207 [00:00<00:01, 73.98it/s]\n",
      "  0%|          | 0/30 [00:00<?, ?it/s]\u001b[A\n",
      "100%|##########| 30/30 [00:00<00:00, 219.33it/s]\u001b[A\n",
      "100%|██████████| 207/207 [00:03<00:00, 65.56it/s]\n",
      " 76%|███████▋  | 158/207 [00:02<00:00, 80.44it/s]\n",
      "  0%|          | 0/30 [00:00<?, ?it/s]\u001b[A\n",
      "100%|##########| 30/30 [00:00<00:00, 209.08it/s]\u001b[A\n",
      "100%|██████████| 207/207 [00:03<00:00, 65.62it/s]\n",
      "100%|██████████| 207/207 [00:03<00:00, 67.75it/s]\n",
      " 22%|██▏       | 46/207 [00:00<00:02, 65.55it/s]\n",
      "  0%|          | 0/30 [00:00<?, ?it/s]\u001b[A\n",
      "100%|##########| 30/30 [00:00<00:00, 198.13it/s]\u001b[A\n",
      "100%|██████████| 207/207 [00:03<00:00, 60.37it/s]\n",
      " 67%|██████▋   | 138/207 [00:01<00:00, 70.76it/s]\n",
      "  0%|          | 0/30 [00:00<?, ?it/s]\u001b[A\n",
      "100%|##########| 30/30 [00:00<00:00, 207.03it/s]\u001b[A\n",
      "100%|██████████| 207/207 [00:03<00:00, 65.93it/s]\n",
      "100%|██████████| 207/207 [00:02<00:00, 72.39it/s]\n",
      " 12%|█▏        | 25/207 [00:00<00:02, 79.98it/s]\n",
      "  0%|          | 0/30 [00:00<?, ?it/s]\u001b[A\n",
      "100%|##########| 30/30 [00:00<00:00, 204.61it/s]\u001b[A\n",
      "100%|██████████| 207/207 [00:03<00:00, 63.38it/s]\n",
      " 56%|█████▌    | 116/207 [00:01<00:01, 74.33it/s]\n",
      "  0%|          | 0/30 [00:00<?, ?it/s]\u001b[A\n",
      "100%|##########| 30/30 [00:00<00:00, 217.53it/s]\u001b[A\n",
      "100%|██████████| 207/207 [00:02<00:00, 69.20it/s]\n",
      "100%|██████████| 207/207 [00:03<00:00, 66.37it/s]\n",
      "  3%|▎         | 7/207 [00:00<00:03, 64.96it/s]\n",
      "  0%|          | 0/30 [00:00<?, ?it/s]\u001b[A\n",
      "100%|##########| 30/30 [00:00<00:00, 202.52it/s]\u001b[A\n",
      "100%|██████████| 207/207 [00:03<00:00, 63.24it/s]\n",
      " 49%|████▉     | 101/207 [00:01<00:01, 59.63it/s]\n",
      "  0%|          | 0/30 [00:00<?, ?it/s]\u001b[A\n",
      "100%|##########| 30/30 [00:00<00:00, 211.71it/s]\u001b[A\n",
      "100%|██████████| 207/207 [00:03<00:00, 60.39it/s]\n",
      " 91%|█████████▏| 189/207 [00:02<00:00, 60.45it/s]\n",
      "  0%|          | 0/30 [00:00<?, ?it/s]\u001b[A\n",
      "100%|##########| 30/30 [00:00<00:00, 213.23it/s]\u001b[A\n",
      "100%|██████████| 207/207 [00:03<00:00, 61.95it/s]\n",
      "100%|██████████| 207/207 [00:02<00:00, 70.76it/s]\n",
      " 35%|███▍      | 72/207 [00:00<00:01, 80.39it/s]\n",
      "  0%|          | 0/30 [00:00<?, ?it/s]\u001b[A\n",
      "100%|##########| 30/30 [00:00<00:00, 206.78it/s]\u001b[A\n",
      "100%|██████████| 207/207 [00:03<00:00, 66.98it/s]\n",
      " 80%|████████  | 166/207 [00:02<00:00, 71.26it/s]\n",
      "  0%|          | 0/30 [00:00<?, ?it/s]\u001b[A\n",
      "100%|##########| 30/30 [00:00<00:00, 218.93it/s]\u001b[A\n",
      "100%|██████████| 207/207 [00:02<00:00, 69.78it/s]\n",
      "100%|██████████| 207/207 [00:02<00:00, 71.12it/s]\n",
      " 27%|██▋       | 55/207 [00:00<00:02, 61.13it/s]\n",
      "  0%|          | 0/30 [00:00<?, ?it/s]\u001b[A\n",
      "100%|##########| 30/30 [00:00<00:00, 198.15it/s]\u001b[A\n",
      "100%|██████████| 207/207 [00:03<00:00, 60.46it/s]\n",
      " 71%|███████   | 147/207 [00:01<00:00, 75.06it/s]\n",
      "  0%|          | 0/30 [00:00<?, ?it/s]\u001b[A\n",
      "100%|##########| 30/30 [00:00<00:00, 209.16it/s]\u001b[A\n",
      "100%|██████████| 207/207 [00:03<00:00, 68.14it/s]\n",
      "100%|██████████| 207/207 [00:02<00:00, 71.27it/s]\n",
      " 16%|█▌        | 33/207 [00:00<00:02, 73.02it/s]\n",
      "  0%|          | 0/30 [00:00<?, ?it/s]\u001b[A\n",
      "100%|##########| 30/30 [00:00<00:00, 214.13it/s]\u001b[A\n",
      "100%|██████████| 207/207 [00:03<00:00, 64.62it/s]\n",
      " 62%|██████▏   | 129/207 [00:02<00:01, 60.97it/s]\n",
      "  0%|          | 0/30 [00:00<?, ?it/s]\u001b[A\n",
      "100%|##########| 30/30 [00:00<00:00, 209.97it/s]\u001b[A\n",
      "100%|██████████| 207/207 [00:03<00:00, 62.36it/s]\n",
      "100%|██████████| 207/207 [00:03<00:00, 67.39it/s]\n",
      "  4%|▍         | 9/207 [00:00<00:02, 81.13it/s]\n",
      "  0%|          | 0/30 [00:00<?, ?it/s]\u001b[A\n",
      "100%|##########| 30/30 [00:00<00:00, 203.97it/s]\u001b[A\n",
      "100%|██████████| 207/207 [00:03<00:00, 59.92it/s]\n",
      " 51%|█████     | 106/207 [00:01<00:01, 83.49it/s]\n",
      "  0%|          | 0/30 [00:00<?, ?it/s]\u001b[A\n",
      "100%|##########| 30/30 [00:00<00:00, 199.30it/s]\u001b[A\n",
      "100%|██████████| 207/207 [00:02<00:00, 72.64it/s]\n",
      " 97%|█████████▋| 200/207 [00:02<00:00, 68.03it/s]\n",
      "  0%|          | 0/30 [00:00<?, ?it/s]\u001b[A\n",
      "100%|##########| 30/30 [00:00<00:00, 168.37it/s]\u001b[A\n",
      "100%|██████████| 207/207 [00:03<00:00, 66.04it/s]\n",
      "100%|██████████| 207/207 [00:02<00:00, 70.63it/s]\n",
      " 42%|████▏     | 87/207 [00:01<00:01, 64.47it/s]\n",
      "  0%|          | 0/30 [00:00<?, ?it/s]\u001b[A\n",
      "100%|##########| 30/30 [00:00<00:00, 191.77it/s]\u001b[A\n",
      "100%|██████████| 207/207 [00:03<00:00, 62.18it/s]\n",
      " 86%|████████▌ | 177/207 [00:02<00:00, 63.77it/s]\n",
      "  0%|          | 0/30 [00:00<?, ?it/s]\u001b[A\n",
      "100%|##########| 30/30 [00:00<00:00, 218.20it/s]\u001b[A\n",
      "100%|██████████| 207/207 [00:03<00:00, 66.94it/s]\n",
      "100%|██████████| 207/207 [00:02<00:00, 70.45it/s]\n",
      " 31%|███       | 64/207 [00:00<00:02, 63.41it/s]\n",
      "  0%|          | 0/30 [00:00<?, ?it/s]\u001b[A\n",
      "100%|##########| 30/30 [00:00<00:00, 212.05it/s]\u001b[A\n",
      "100%|██████████| 207/207 [00:03<00:00, 61.89it/s]\n",
      " 76%|███████▋  | 158/207 [00:02<00:00, 62.55it/s]\n",
      "  0%|          | 0/30 [00:00<?, ?it/s]\u001b[A\n",
      "100%|##########| 30/30 [00:00<00:00, 208.02it/s]\u001b[A\n",
      "100%|██████████| 207/207 [00:03<00:00, 62.79it/s]\n",
      "100%|██████████| 207/207 [00:03<00:00, 64.49it/s]\n",
      " 21%|██        | 43/207 [00:00<00:02, 78.97it/s]\n",
      "  0%|          | 0/30 [00:00<?, ?it/s]\u001b[A\n",
      "100%|##########| 30/30 [00:00<00:00, 198.82it/s]\u001b[A\n",
      "100%|██████████| 207/207 [00:02<00:00, 70.48it/s]\n",
      " 65%|██████▌   | 135/207 [00:02<00:01, 59.14it/s]\n",
      "  0%|          | 0/30 [00:00<?, ?it/s]\u001b[A\n",
      "100%|##########| 30/30 [00:00<00:00, 213.27it/s]\u001b[A\n",
      "100%|██████████| 207/207 [00:03<00:00, 62.99it/s]\n",
      "100%|██████████| 207/207 [00:02<00:00, 74.22it/s]\n",
      "  9%|▊         | 18/207 [00:00<00:02, 81.77it/s]\n",
      "  0%|          | 0/30 [00:00<?, ?it/s]\u001b[A\n",
      "100%|##########| 30/30 [00:00<00:00, 216.09it/s]\u001b[A\n",
      "100%|██████████| 207/207 [00:03<00:00, 65.89it/s]\n",
      " 57%|█████▋    | 117/207 [00:01<00:01, 58.51it/s]\n",
      "  0%|          | 0/30 [00:00<?, ?it/s]\u001b[A\n",
      "100%|##########| 30/30 [00:00<00:00, 212.53it/s]\u001b[A\n",
      "100%|██████████| 207/207 [00:03<00:00, 60.04it/s]\n",
      "100%|██████████| 207/207 [00:03<00:00, 67.41it/s]\n",
      "  0%|          | 0/207 [00:00<?, ?it/s]\n",
      "  0%|          | 0/30 [00:00<?, ?it/s]\u001b[A\n",
      "100%|##########| 30/30 [00:00<00:00, 215.17it/s]\u001b[A\n",
      "100%|██████████| 207/207 [00:03<00:00, 61.10it/s]\n",
      " 45%|████▍     | 93/207 [00:01<00:01, 74.27it/s]\n",
      "  0%|          | 0/30 [00:00<?, ?it/s]\u001b[A\n",
      "100%|##########| 30/30 [00:00<00:00, 212.87it/s]\u001b[A\n",
      "100%|██████████| 207/207 [00:03<00:00, 64.62it/s]\n",
      " 92%|█████████▏| 190/207 [00:02<00:00, 64.11it/s]\n",
      "  0%|          | 0/30 [00:00<?, ?it/s]\u001b[A\n",
      "100%|##########| 30/30 [00:00<00:00, 213.18it/s]\u001b[A\n",
      "100%|██████████| 207/207 [00:03<00:00, 64.87it/s]\n",
      "100%|██████████| 207/207 [00:03<00:00, 61.81it/s]\n",
      " 34%|███▍      | 70/207 [00:01<00:02, 66.17it/s]\n",
      "  0%|          | 0/30 [00:00<?, ?it/s]\u001b[A\n",
      "100%|##########| 30/30 [00:00<00:00, 209.71it/s]\u001b[A\n",
      "100%|██████████| 207/207 [00:03<00:00, 60.37it/s]\n",
      " 79%|███████▉  | 164/207 [00:02<00:00, 60.67it/s]\n",
      "  0%|          | 0/30 [00:00<?, ?it/s]\u001b[A\n",
      "100%|##########| 30/30 [00:00<00:00, 207.17it/s]\u001b[A\n",
      "100%|██████████| 207/207 [00:03<00:00, 63.13it/s]\n",
      "100%|██████████| 207/207 [00:03<00:00, 68.62it/s]\n",
      " 24%|██▍       | 50/207 [00:00<00:02, 78.41it/s]\n",
      "  0%|          | 0/30 [00:00<?, ?it/s]\u001b[A\n",
      "100%|##########| 30/30 [00:00<00:00, 213.76it/s]\u001b[A\n",
      "100%|██████████| 207/207 [00:03<00:00, 67.13it/s]\n",
      " 71%|███████▏  | 148/207 [00:02<00:01, 58.54it/s]\n",
      "  0%|          | 0/30 [00:00<?, ?it/s]\u001b[A\n",
      "100%|##########| 30/30 [00:00<00:00, 209.78it/s]\u001b[A\n",
      "100%|██████████| 207/207 [00:03<00:00, 59.89it/s]\n",
      "100%|██████████| 207/207 [00:03<00:00, 62.39it/s]\n",
      " 13%|█▎        | 27/207 [00:00<00:03, 59.50it/s]\n",
      "  0%|          | 0/30 [00:00<?, ?it/s]\u001b[A\n",
      "100%|##########| 30/30 [00:00<00:00, 199.89it/s]\u001b[A\n",
      "100%|██████████| 207/207 [00:03<00:00, 64.40it/s]\n",
      " 62%|██████▏   | 128/207 [00:02<00:01, 66.35it/s]\n",
      "  0%|          | 0/30 [00:00<?, ?it/s]\u001b[A\n",
      "100%|##########| 30/30 [00:00<00:00, 202.21it/s]\u001b[A\n",
      "100%|██████████| 207/207 [00:03<00:00, 62.54it/s]\n",
      "100%|██████████| 207/207 [00:03<00:00, 63.80it/s]\n",
      "  4%|▍         | 9/207 [00:00<00:02, 84.95it/s]\n",
      "  0%|          | 0/30 [00:00<?, ?it/s]\u001b[A\n",
      "100%|##########| 30/30 [00:00<00:00, 207.52it/s]\u001b[A\n",
      "100%|██████████| 207/207 [00:02<00:00, 69.77it/s]\n",
      " 49%|████▉     | 102/207 [00:01<00:01, 65.16it/s]\n",
      "  0%|          | 0/30 [00:00<?, ?it/s]\u001b[A\n",
      "100%|##########| 30/30 [00:00<00:00, 195.47it/s]\u001b[A\n",
      "100%|██████████| 207/207 [00:03<00:00, 64.03it/s]\n",
      " 97%|█████████▋| 200/207 [00:02<00:00, 68.27it/s]\n"
     ]
    },
    {
     "name": "stderr",
     "output_type": "stream",
     "text": [
      "  0%|          | 0/30 [00:00<?, ?it/s]\u001b[A\n",
      "100%|##########| 30/30 [00:00<00:00, 214.56it/s]\u001b[A\n",
      "100%|██████████| 207/207 [00:03<00:00, 65.14it/s]\n",
      "100%|██████████| 207/207 [00:02<00:00, 69.00it/s]\n",
      " 40%|████      | 83/207 [00:01<00:01, 68.89it/s]\n",
      "  0%|          | 0/30 [00:00<?, ?it/s]\u001b[A\n",
      "100%|##########| 30/30 [00:00<00:00, 222.13it/s]\u001b[A\n",
      "100%|██████████| 207/207 [00:03<00:00, 61.71it/s]\n",
      " 85%|████████▌ | 176/207 [00:02<00:00, 70.26it/s]\n",
      "  0%|          | 0/30 [00:00<?, ?it/s]\u001b[A\n",
      "100%|##########| 30/30 [00:00<00:00, 211.06it/s]\u001b[A\n",
      "100%|██████████| 207/207 [00:03<00:00, 62.39it/s]\n",
      "100%|██████████| 207/207 [00:03<00:00, 65.03it/s]\n",
      " 28%|██▊       | 57/207 [00:00<00:02, 72.49it/s]\n",
      "  0%|          | 0/30 [00:00<?, ?it/s]\u001b[A\n",
      "100%|##########| 30/30 [00:00<00:00, 225.10it/s]\u001b[A\n",
      "100%|██████████| 207/207 [00:03<00:00, 61.70it/s]\n",
      " 76%|███████▋  | 158/207 [00:02<00:00, 67.51it/s]\n",
      "  0%|          | 0/30 [00:00<?, ?it/s]\u001b[A\n",
      "100%|##########| 30/30 [00:00<00:00, 212.87it/s]\u001b[A\n",
      "100%|██████████| 207/207 [00:03<00:00, 67.45it/s]\n",
      "100%|██████████| 207/207 [00:02<00:00, 75.51it/s]\n",
      " 19%|█▉        | 39/207 [00:00<00:02, 61.78it/s]\n",
      "  0%|          | 0/30 [00:00<?, ?it/s]\u001b[A\n",
      "100%|##########| 30/30 [00:00<00:00, 221.03it/s]\u001b[A\n",
      "100%|██████████| 207/207 [00:03<00:00, 60.69it/s]\n",
      " 63%|██████▎   | 131/207 [00:02<00:01, 58.85it/s]\n",
      "  0%|          | 0/30 [00:00<?, ?it/s]\u001b[A\n",
      "100%|##########| 30/30 [00:00<00:00, 195.28it/s]\u001b[A\n",
      "100%|██████████| 207/207 [00:03<00:00, 56.78it/s]\n",
      "100%|██████████| 207/207 [00:02<00:00, 77.82it/s]\n",
      "  9%|▉         | 19/207 [00:00<00:03, 60.58it/s]\n",
      "  0%|          | 0/30 [00:00<?, ?it/s]\u001b[A\n",
      "100%|##########| 30/30 [00:00<00:00, 210.48it/s]\u001b[A\n",
      "100%|██████████| 207/207 [00:03<00:00, 60.66it/s]\n",
      " 56%|█████▌    | 116/207 [00:01<00:01, 78.96it/s]\n",
      "  0%|          | 0/30 [00:00<?, ?it/s]\u001b[A\n",
      "100%|##########| 30/30 [00:00<00:00, 206.97it/s]\u001b[A\n",
      "100%|██████████| 207/207 [00:03<00:00, 67.34it/s]\n",
      "100%|██████████| 207/207 [00:03<00:00, 67.76it/s]\n",
      "  0%|          | 0/207 [00:00<?, ?it/s]\n",
      "  0%|          | 0/30 [00:00<?, ?it/s]\u001b[A\n",
      "100%|##########| 30/30 [00:00<00:00, 205.20it/s]\u001b[A\n",
      "100%|██████████| 207/207 [00:03<00:00, 66.39it/s]\n",
      " 45%|████▌     | 94/207 [00:01<00:01, 69.18it/s]\n",
      "  0%|          | 0/30 [00:00<?, ?it/s]\u001b[A\n",
      "100%|##########| 30/30 [00:00<00:00, 217.61it/s]\u001b[A\n",
      "100%|██████████| 207/207 [00:03<00:00, 65.85it/s]\n",
      " 87%|████████▋ | 181/207 [00:02<00:00, 74.27it/s]\n",
      "  0%|          | 0/30 [00:00<?, ?it/s]\u001b[A\n",
      "100%|##########| 30/30 [00:00<00:00, 211.43it/s]\u001b[A\n",
      "100%|██████████| 207/207 [00:03<00:00, 62.93it/s]\n",
      "100%|██████████| 207/207 [00:03<00:00, 64.82it/s]\n",
      " 32%|███▏      | 67/207 [00:00<00:01, 79.13it/s]\n",
      "  0%|          | 0/30 [00:00<?, ?it/s]\u001b[A\n",
      "100%|##########| 30/30 [00:00<00:00, 206.99it/s]\u001b[A\n",
      "100%|██████████| 207/207 [00:02<00:00, 71.03it/s]\n",
      " 81%|████████  | 167/207 [00:02<00:00, 59.68it/s]\n",
      "  0%|          | 0/30 [00:00<?, ?it/s]\u001b[A\n",
      "100%|##########| 30/30 [00:00<00:00, 211.21it/s]\u001b[A\n",
      "100%|██████████| 207/207 [00:03<00:00, 62.77it/s]\n",
      "100%|██████████| 207/207 [00:02<00:00, 69.52it/s]\n",
      " 24%|██▎       | 49/207 [00:00<00:02, 63.54it/s]\n",
      "  0%|          | 0/30 [00:00<?, ?it/s]\u001b[A\n",
      "100%|##########| 30/30 [00:00<00:00, 195.70it/s]\u001b[A\n",
      "100%|██████████| 207/207 [00:03<00:00, 60.54it/s]\n",
      " 68%|██████▊   | 141/207 [00:02<00:01, 63.17it/s]\n",
      "  0%|          | 0/30 [00:00<?, ?it/s]\u001b[A\n",
      "100%|##########| 30/30 [00:00<00:00, 198.15it/s]\u001b[A\n",
      "100%|██████████| 207/207 [00:03<00:00, 65.56it/s]\n",
      "100%|██████████| 207/207 [00:03<00:00, 67.00it/s]\n",
      " 13%|█▎        | 26/207 [00:00<00:02, 81.26it/s]\n",
      "  0%|          | 0/30 [00:00<?, ?it/s]\u001b[A\n",
      "100%|##########| 30/30 [00:00<00:00, 203.19it/s]\u001b[A\n",
      "100%|██████████| 207/207 [00:03<00:00, 65.25it/s]\n",
      " 59%|█████▉    | 123/207 [00:01<00:01, 64.33it/s]\n",
      "  0%|          | 0/30 [00:00<?, ?it/s]\u001b[A\n",
      "100%|##########| 30/30 [00:00<00:00, 194.86it/s]\u001b[A\n",
      "100%|██████████| 207/207 [00:03<00:00, 67.58it/s]\n",
      "100%|██████████| 207/207 [00:02<00:00, 72.31it/s]\n",
      "  3%|▎         | 6/207 [00:00<00:03, 53.71it/s]\n",
      "  0%|          | 0/30 [00:00<?, ?it/s]\u001b[A\n",
      "100%|##########| 30/30 [00:00<00:00, 200.42it/s]\u001b[A\n",
      "100%|██████████| 207/207 [00:03<00:00, 62.27it/s]\n",
      " 48%|████▊     | 99/207 [00:01<00:01, 71.82it/s]\n",
      "  0%|          | 0/30 [00:00<?, ?it/s]\u001b[A\n",
      "100%|##########| 30/30 [00:00<00:00, 222.33it/s]\u001b[A\n",
      "100%|██████████| 207/207 [00:03<00:00, 68.47it/s]\n",
      " 92%|█████████▏| 191/207 [00:02<00:00, 70.56it/s]\n",
      "  0%|          | 0/30 [00:00<?, ?it/s]\u001b[A\n",
      "100%|##########| 30/30 [00:00<00:00, 212.68it/s]\u001b[A\n",
      "100%|██████████| 207/207 [00:03<00:00, 66.77it/s]\n",
      "100%|██████████| 207/207 [00:03<00:00, 63.75it/s]\n",
      " 39%|███▊      | 80/207 [00:01<00:02, 63.47it/s]\n",
      "  0%|          | 0/30 [00:00<?, ?it/s]\u001b[A\n",
      "100%|##########| 30/30 [00:00<00:00, 201.85it/s]\u001b[A\n",
      "100%|██████████| 207/207 [00:03<00:00, 62.56it/s]\n",
      " 84%|████████▎ | 173/207 [00:02<00:00, 63.03it/s]\n",
      "  0%|          | 0/30 [00:00<?, ?it/s]\u001b[A\n",
      "100%|##########| 30/30 [00:00<00:00, 218.37it/s]\u001b[A\n",
      "100%|██████████| 207/207 [00:03<00:00, 63.87it/s]\n",
      "100%|██████████| 207/207 [00:02<00:00, 71.54it/s]\n",
      " 30%|██▉       | 62/207 [00:00<00:01, 75.85it/s]\n",
      "  0%|          | 0/30 [00:00<?, ?it/s]\u001b[A\n",
      "100%|##########| 30/30 [00:00<00:00, 204.90it/s]\u001b[A\n",
      "100%|██████████| 207/207 [00:03<00:00, 62.13it/s]\n",
      " 74%|███████▍  | 153/207 [00:02<00:00, 61.97it/s]\n",
      "  0%|          | 0/30 [00:00<?, ?it/s]\u001b[A\n",
      "100%|##########| 30/30 [00:00<00:00, 210.13it/s]\u001b[A\n",
      "100%|██████████| 207/207 [00:03<00:00, 62.75it/s]\n",
      "100%|██████████| 207/207 [00:02<00:00, 70.45it/s]\n",
      " 20%|█▉        | 41/207 [00:00<00:02, 73.32it/s]\n",
      "  0%|          | 0/30 [00:00<?, ?it/s]\u001b[A\n",
      "100%|##########| 30/30 [00:00<00:00, 207.63it/s]\u001b[A\n",
      "100%|██████████| 207/207 [00:03<00:00, 65.08it/s]\n",
      " 64%|██████▍   | 133/207 [00:02<00:01, 61.92it/s]\n",
      "  0%|          | 0/30 [00:00<?, ?it/s]\u001b[A\n",
      "100%|##########| 30/30 [00:00<00:00, 215.12it/s]\u001b[A\n",
      "100%|██████████| 207/207 [00:03<00:00, 60.95it/s]\n",
      "100%|██████████| 207/207 [00:03<00:00, 67.83it/s]\n",
      "  7%|▋         | 15/207 [00:00<00:02, 70.40it/s]\n",
      "  0%|          | 0/30 [00:00<?, ?it/s]\u001b[A\n",
      "100%|##########| 30/30 [00:00<00:00, 199.49it/s]\u001b[A\n",
      "100%|██████████| 207/207 [00:03<00:00, 64.61it/s]\n",
      " 54%|█████▍    | 112/207 [00:01<00:01, 70.17it/s]\n",
      "  0%|          | 0/30 [00:00<?, ?it/s]\u001b[A\n",
      "100%|##########| 30/30 [00:00<00:00, 221.89it/s]\u001b[A\n",
      "100%|██████████| 207/207 [00:03<00:00, 68.29it/s]\n",
      "100%|█████████▉| 206/207 [00:02<00:00, 61.97it/s]\n",
      "  0%|          | 0/30 [00:00<?, ?it/s]\u001b[A\n",
      "100%|##########| 30/30 [00:00<00:00, 230.54it/s]\u001b[A\n",
      "100%|██████████| 207/207 [00:03<00:00, 65.10it/s]"
     ]
    },
    {
     "name": "stdout",
     "output_type": "stream",
     "text": [
      "best eval on val ade: 0.28122807 at 8700 step y fde es 0.62114704 \n"
     ]
    },
    {
     "name": "stderr",
     "output_type": "stream",
     "text": [
      "\n"
     ]
    }
   ],
   "source": [
    "import os \n",
    "from tqdm import tqdm\n",
    "import tensorflow as tf\n",
    "import math\n",
    "import model\n",
    "tf.reset_default_graph()\n",
    "\n",
    "arguments = model_parameters(train_num_examples=len(training_data['obs_traj']),add_kp = False, add_social = True,)\n",
    "model     = model.Model(arguments)\n",
    "\n",
    "train_data = batches_data.Dataset(training_data,arguments)\n",
    "val_data   = batches_data.Dataset(validation_data,arguments)\n",
    "\n",
    "saver     = tf.train.Saver(max_to_keep = 2)\n",
    "bestsaver = tf.train.Saver(max_to_keep = 2)\n",
    "\n",
    "\n",
    "trainer = entrenamientoevaluacion.Trainer(model,arguments)\n",
    "tester  = entrenamientoevaluacion.Tester(model, arguments)\n",
    "\n",
    "# Global variables are initialized\n",
    "init = tf.global_variables_initializer()\n",
    "sess = tf.Session()\n",
    "sess.run(init)\n",
    "\n",
    "increment_global_step_op = tf.assign(model.global_step, model.global_step+1)\n",
    "\n",
    "val_perf  = []\n",
    "loss      = -1\n",
    "best      = {'ade':999999, 'fde':0, 'step':-1}\n",
    "is_start  = True\n",
    "num_steps = int(math.ceil(train_data.num_examples/float(arguments.batch_size)))\n",
    "loss_list = []\n",
    "\n",
    "# Epochs\n",
    "for i in range(arguments.num_epochs):    \n",
    "    # Cycle over batches\n",
    "    for idx, batch in tqdm(train_data.get_batches(arguments.batch_size,num_steps = num_steps),total=num_steps):\n",
    "        \n",
    "        sess.run(increment_global_step_op)\n",
    "        global_step = sess.run(model.global_step)\n",
    "\n",
    "        # Evaluation on validation data\n",
    "        if((global_step%arguments.validate==0) or (arguments.load_best and is_start)):\n",
    "            checkpoint_path_model = os.path.join('models/'+dataset_name, 'model.ckpt')\n",
    "            saver.save(sess,checkpoint_path_model , global_step = global_step)\n",
    "            # Evaluation on th validation set\n",
    "            results = tester.evaluate(val_data,sess)      \n",
    "            if results[\"ade\"]< best['ade']:\n",
    "                best['ade'] = results[\"ade\"]\n",
    "                best['fde'] = results[\"fde\"]\n",
    "                best[\"step\"]= global_step\n",
    "                # Save the best model\n",
    "                checkpoint_path_model_best = os.path.join('models/'+dataset_name, 'model_best.ckpt')\n",
    "                bestsaver.save(sess,checkpoint_path_model_best,global_step = 0)\n",
    "                finalperf = results\n",
    "                val_perf.append((loss, results))\n",
    "            is_start = False\n",
    "        loss, train_op = trainer.step(sess, batch)\n",
    "        loss_list.append(loss)\n",
    "    \n",
    "if((global_step % arguments.validate)!=0):\n",
    "  checkpoint_path_model = os.path.join('models/'+dataset_name, 'model.ckpt')\n",
    "  saver.save(sess,checkpoint_path_model , global_step = global_step)\n",
    "\n",
    "print(\"best eval on val %s: %s at %s step y fde es %s \" % ('ade', best['ade'], best[\"step\"],best[\"fde\"]))\n",
    "       \n",
    "    "
   ]
  },
  {
   "cell_type": "code",
   "execution_count": 17,
   "metadata": {},
   "outputs": [
    {
     "data": {
      "image/png": "[encoded data removed]",
      "text/plain": [
       "<Figure size 576x576 with 1 Axes>"
      ]
     },
     "metadata": {
      "needs_background": "light"
     },
     "output_type": "display_data"
    }
   ],
   "source": [
    "from matplotlib import pyplot as plt\n",
    "plt.figure(figsize=(8,8))\n",
    "plt.subplot(1,1,1)\n",
    "plt.plot(loss_list)\n",
    "plt.show()"
   ]
  },
  {
   "cell_type": "code",
   "execution_count": 18,
   "metadata": {},
   "outputs": [
    {
     "data": {
      "text/plain": [
       "'models/ucy-zara01/lastmodel.ckpt-0'"
      ]
     },
     "execution_count": 18,
     "metadata": {},
     "output_type": "execute_result"
    }
   ],
   "source": [
    "# Keep the last model\n",
    "checkpoint_path_model = os.path.join('models/'+dataset, 'lastmodel.ckpt')\n",
    "saver.save(sess,checkpoint_path_model , global_step = 0)"
   ]
  },
  {
   "cell_type": "markdown",
   "metadata": {},
   "source": [
    "# Restore the models"
   ]
  },
  {
   "cell_type": "code",
   "execution_count": 19,
   "metadata": {},
   "outputs": [
    {
     "name": "stdout",
     "output_type": "stream",
     "text": [
      "INFO:tensorflow:Restoring parameters from models/ucy-zara01/lastmodel.ckpt-0\n"
     ]
    },
    {
     "name": "stderr",
     "output_type": "stream",
     "text": [
      "100%|##########| 24/24 [00:00<00:00, 226.47it/s]"
     ]
    },
    {
     "name": "stdout",
     "output_type": "stream",
     "text": [
      "{'ade': 0.3962987, 'fde': 0.84450674}\n"
     ]
    },
    {
     "name": "stderr",
     "output_type": "stream",
     "text": [
      "\n"
     ]
    }
   ],
   "source": [
    "# Load the last model that was saved\n",
    "path_model = 'models/'+dataset+'/lastmodel.ckpt-0'\n",
    "saver.restore(sess=sess, save_path=path_model)\n",
    "test_batches_data = batches_data.Dataset(test_data, arguments)\n",
    "results           = tester.evaluate(test_batches_data,sess)\n",
    "print(results)"
   ]
  },
  {
   "cell_type": "code",
   "execution_count": 23,
   "metadata": {},
   "outputs": [
    {
     "name": "stderr",
     "output_type": "stream",
     "text": [
      "100%|##########| 24/24 [00:00<00:00, 27715.67it/s]\n"
     ]
    },
    {
     "data": {
      "image/png": "[encoded data removed]",
      "text/plain": [
       "<Figure size 720x720 with 1 Axes>"
      ]
     },
     "metadata": {
      "needs_background": "light"
     },
     "output_type": "display_data"
    }
   ],
   "source": [
    "batchId = 3\n",
    "traj_obs_set,traj_gt_set,traj_pred_set = tester.apply_on_batch(test_batches_data,batchId,sess)\n",
    "\n",
    "plt.subplots(1,1,figsize=(10,10))\n",
    "plt.subplot(1,1,1)\n",
    "plt.axis('equal')\n",
    "# Plot some of the testing data and the predicted ones\n",
    "for (gt,obs,pred) in zip(traj_gt_set,traj_obs_set,traj_pred_set):\n",
    "    plt.plot(obs[:,0],obs[:,1],color='red')\n",
    "    plt.plot([obs[-1,0],gt[0,0]],[obs[-1,1],gt[0,1]],color='blue')    \n",
    "    plt.plot(gt[:,0],gt[:,1],color='blue')    \n",
    "    plt.plot([obs[-1,0],pred[0,0]],[obs[-1,1],pred[0,1]],color='green')    \n",
    "    plt.plot(pred[:,0],pred[:,1],color='green')    "
   ]
  },
  {
   "cell_type": "code",
   "execution_count": 25,
   "metadata": {},
   "outputs": [
    {
     "name": "stdout",
     "output_type": "stream",
     "text": [
      "INFO:tensorflow:Restoring parameters from models/ucy-zara01/model_best.ckpt-0\n"
     ]
    },
    {
     "name": "stderr",
     "output_type": "stream",
     "text": [
      "100%|##########| 24/24 [00:00<00:00, 229.90it/s]"
     ]
    },
    {
     "name": "stdout",
     "output_type": "stream",
     "text": [
      "{'ade': 0.395516, 'fde': 0.840926}\n"
     ]
    },
    {
     "name": "stderr",
     "output_type": "stream",
     "text": [
      "\n"
     ]
    }
   ],
   "source": [
    "# Best model\n",
    "path_model = 'models/'+dataset+'/model_best.ckpt-0'\n",
    "saver.restore(sess=sess, save_path=path_model)\n",
    "\n",
    "test_batches_data = batches_data.Dataset(test_data, arguments)\n",
    "results  = tester.evaluate(test_batches_data,sess)\n",
    "print(results)"
   ]
  },
  {
   "cell_type": "code",
   "execution_count": 26,
   "metadata": {},
   "outputs": [
    {
     "name": "stderr",
     "output_type": "stream",
     "text": [
      "100%|##########| 24/24 [00:00<00:00, 30916.25it/s]\n"
     ]
    },
    {
     "data": {
      "image/png": "[encoded data removed]",
      "text/plain": [
       "<Figure size 720x720 with 1 Axes>"
      ]
     },
     "metadata": {
      "needs_background": "light"
     },
     "output_type": "display_data"
    }
   ],
   "source": [
    "batchId = 3\n",
    "traj_obs_set,traj_gt_set,traj_pred_set = tester.apply_on_batch(test_batches_data,batchId,sess)\n",
    "\n",
    "plt.subplots(1,1,figsize=(10,10))\n",
    "plt.subplot(1,1,1)\n",
    "plt.axis('equal')\n",
    "# Plot some of the testing data and the predicted ones\n",
    "for (gt,obs,pred) in zip(traj_gt_set,traj_obs_set,traj_pred_set):\n",
    "    plt.plot(obs[:,0],obs[:,1],color='red')\n",
    "    plt.plot([obs[-1,0],gt[0,0]],[obs[-1,1],gt[0,1]],color='blue')    \n",
    "    plt.plot(gt[:,0],gt[:,1],color='blue')    \n",
    "    plt.plot([obs[-1,0],pred[0,0]],[obs[-1,1],pred[0,1]],color='green')    \n",
    "    plt.plot(pred[:,0],pred[:,1],color='green')  "
   ]
  },
  {
   "cell_type": "code",
   "execution_count": 60,
   "metadata": {},
   "outputs": [
    {
     "data": {
      "image/png": "[encoded data removed]",
      "text/plain": [
       "<Figure size 432x288 with 1 Axes>"
      ]
     },
     "metadata": {
      "needs_background": "light"
     },
     "output_type": "display_data"
    },
    {
     "data": {
      "image/png": "[encoded data removed]",
      "text/plain": [
       "<Figure size 432x288 with 1 Axes>"
      ]
     },
     "metadata": {
      "needs_background": "light"
     },
     "output_type": "display_data"
    }
   ],
   "source": []
  },
  {
   "cell_type": "code",
   "execution_count": null,
   "metadata": {},
   "outputs": [],
   "source": []
  }
 ],
 "metadata": {
  "kernelspec": {
   "display_name": "Python 3",
   "language": "python",
   "name": "python3"
  },
  "language_info": {
   "codemirror_mode": {
    "name": "ipython",
    "version": 3
   },
   "file_extension": ".py",
   "mimetype": "text/x-python",
   "name": "python",
   "nbconvert_exporter": "python",
   "pygments_lexer": "ipython3",
   "version": "3.6.9"
  }
 },
 "nbformat": 4,
 "nbformat_minor": 2
}
