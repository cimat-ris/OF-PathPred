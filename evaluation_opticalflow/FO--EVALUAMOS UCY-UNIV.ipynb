{
 "cells": [
  {
   "cell_type": "code",
   "execution_count": 1,
   "metadata": {},
   "outputs": [],
   "source": [
    "import sys\n",
    "sys.path.append('/home/andrea/Documentos/OF-PathPred/evaluation_opticalflow/lib')\n",
    "import numpy as np\n",
    "#from process_file import process_file_modif\n",
    "#from process_file import process_file_modif_varios\n",
    "#from process_file import datos_subprocesados_varios\n",
    "from interseccion_process_file import process_file_modif_varios_inter\n",
    "from interseccion_process_file import process_file_modif_inter\n",
    "from interaction_optical_flow import OpticalFlowSimulator\n",
    "\n",
    "import batches_data\n",
    "import model\n",
    "\n",
    "import tensorflow as tf \n",
    "tf.reset_default_graph()\n",
    "\n",
    "import entrenamientoevaluacion\n",
    "from entrenamientoevaluacion import evaluate"
   ]
  },
  {
   "cell_type": "code",
   "execution_count": 2,
   "metadata": {},
   "outputs": [],
   "source": [
    "#en marco mundo\n",
    "class parameters:\n",
    "    def __init__(self):\n",
    "        #el numero de personas maximasdel conjunto de test\n",
    "        self.person_max = 40\n",
    "        #el indice del conjunto de test\n",
    "        self.ind_test = 4\n",
    "        self.obs_len = 8\n",
    "        self.pred_len = 12\n",
    "        self.add_social = True\n",
    "        self.kp_num = 18\n",
    "        self.add_kp = False\n",
    "        #self.directory_flujo='../evaluation_opticalflow/flujos'\n",
    "arguments = parameters()"
   ]
  },
  {
   "cell_type": "code",
   "execution_count": 3,
   "metadata": {},
   "outputs": [
    {
     "name": "stdout",
     "output_type": "stream",
     "text": [
      "../data1/eth-univ/mundo/mun_pos.csv\n",
      "('The numbers of examples is: ', 339)\n",
      "../data1/eth-hotel/mundo/mun_pos.csv\n",
      "('The numbers of examples is: ', 913)\n",
      "../data1/ucy-zara01/mundo/mun_pos.csv\n",
      "('The numbers of examples is: ', 2356)\n",
      "../data1/ucy-zara02/mundo/mun_pos.csv\n",
      "('The numbers of examples is: ', 5910)\n",
      "\n",
      "\n",
      "\n",
      "('[INF] Sequence length: ', 20)\n",
      "../data1/ucy-univ/mundo/mun_pos.csv\n",
      "('El numero total de ejemplos es: ', 10039)\n"
     ]
    }
   ],
   "source": [
    "# Cargamos los argumentos\n",
    "data_dirs = ['../data1/eth-univ', '../data1/eth-hotel',\n",
    "             '../data1/ucy-zara01', '../data1/ucy-zara02',\n",
    "             '../data1/ucy-univ']\n",
    "\n",
    "#list_max_person = [42,28,22,26,68]\n",
    "list_max_person_inter = [5,8,14,14,40]\n",
    "data_train_and_val = process_file_modif_varios_inter(data_dirs, list_max_person_inter, arguments, ',')\n",
    "print(\"\\n\\n\")\n",
    "dir_test = data_dirs[arguments.ind_test]\n",
    "data_test = process_file_modif_inter(dir_test, arguments,',')\n",
    "\n",
    "fo = OpticalFlowSimulator()\n",
    "flujo_test, vis_neigh_test = fo.compute_opticalflow_batch(data_test['obs_person'], data_test['key_idx'], data_test['obs_traj'],arguments.obs_len)\n",
    "data_test.update({\n",
    "    \"obs_flujo\": flujo_test,\n",
    "})\n",
    "\n"
   ]
  },
  {
   "cell_type": "markdown",
   "metadata": {},
   "source": [
    "# We divide the data"
   ]
  },
  {
   "cell_type": "code",
   "execution_count": 4,
   "metadata": {},
   "outputs": [
    {
     "name": "stdout",
     "output_type": "stream",
     "text": [
      "data_train: 8756\n",
      "data_test: 10039\n",
      "data_val: 762\n"
     ]
    }
   ],
   "source": [
    "#se fija la semilaa\n",
    "import random\n",
    "random.seed(0)\n",
    "\n",
    "# Muestreamos aleatoriamente para separar datos de entrenamiento, validacion y prueba\n",
    "\n",
    "\n",
    "# porcentaje para el conjunto de train\n",
    "prob      = 0.92\n",
    "# La cantidad total de listas de tam 8 del conjunto train and test\n",
    "ndata     = len(data_train_and_val[list(data_train_and_val.keys())[2]])\n",
    "idx       = random.sample(range(ndata), ndata)\n",
    "long1     = int(ndata*prob)\n",
    "long2     = int(ndata-long1)\n",
    "\n",
    "idx_train = idx[0:long1]\n",
    "idx_val   = idx[long1:]\n",
    "\n",
    "\n",
    "# conjunto de entrenamiento\n",
    "data1 = {\n",
    "     \"obs_traj\": data_train_and_val[\"obs_traj\"][idx_train],\n",
    "     \"obs_traj_rel\": data_train_and_val[\"obs_traj_rel\"][idx_train],\n",
    "    \n",
    "     \"pred_traj\": data_train_and_val[\"pred_traj\"][idx_train],\n",
    "     \"pred_traj_rel\": data_train_and_val[\"pred_traj_rel\"][idx_train],\n",
    "    \n",
    "     #\"key_idx\": data_entrena_vali[\"key_idx\"][[idx_train]],\n",
    "     \"obs_flujo\" : data_train_and_val[\"obs_flujo\"][idx_train],\n",
    "     #\"pred_kp\": data_pets[\"pred_kp\"][idx_train],\n",
    "     #\"obs_person\": data_pets[\"obs_person\"][idx_train],\n",
    "}\n",
    "\n",
    "\n",
    "# conjunto de validacion\n",
    "data3 ={\n",
    "     \"obs_traj\": data_train_and_val[\"obs_traj\"][idx_val],\n",
    "     \"obs_traj_rel\": data_train_and_val[\"obs_traj_rel\"][idx_val],\n",
    "     \"pred_traj\": data_train_and_val[\"pred_traj\"][idx_val],\n",
    "     \"pred_traj_rel\": data_train_and_val[\"pred_traj_rel\"][idx_val],\n",
    "     #\"key_idx\": data_entrena_vali[\"key_idx\"][[idx_val]],\n",
    "     \"obs_flujo\" : data_train_and_val[\"obs_flujo\"][idx_val],\n",
    "}\n",
    "\n",
    "\n",
    "#if arguments.add_kp:\n",
    "#  print(data3['obs_person_rel'])\n",
    "\n",
    "print(\"data_train: \"+ str(len(data1[list(data1.keys())[0]])))\n",
    "print(\"data_test: \"+ str(len(data_test[list(data_test.keys())[0]])))\n",
    "print(\"data_val: \"+ str(len(data3[list(data3.keys())[0]])))\n"
   ]
  },
  {
   "cell_type": "markdown",
   "metadata": {},
   "source": [
    "#  We keep the division of the data"
   ]
  },
  {
   "cell_type": "code",
   "execution_count": 5,
   "metadata": {},
   "outputs": [],
   "source": [
    "import pickle\n",
    "\n",
    "#conjunto de entrenamiento\n",
    "pickle_out = open(\"data1_FO_UCY-UNIV_12.pickle\",\"wb\")\n",
    "pickle.dump(data1, pickle_out, protocol=2)\n",
    "pickle_out.close()\n",
    "\n",
    "#conjunto de prueba\n",
    "pickle_out = open(\"data2_FO_UCY-UNIV_12.pickle\",\"wb\")\n",
    "pickle.dump(data_test, pickle_out, protocol=2)\n",
    "pickle_out.close()\n",
    "\n",
    "#conjunto de validacion\n",
    "pickle_out = open(\"data3_FO_UCY-UNIV_12.pickle\",\"wb\")\n",
    "pickle.dump(data3, pickle_out, protocol=2)\n",
    "pickle_out.close()"
   ]
  },
  {
   "cell_type": "markdown",
   "metadata": {},
   "source": [
    "# Model parameters"
   ]
  },
  {
   "cell_type": "code",
   "execution_count": 6,
   "metadata": {},
   "outputs": [],
   "source": [
    "class parameters1:\n",
    "    def __init__(self, add_kp = None, add_social=None, train_num_examples=None):\n",
    "        # -----------------\n",
    "        # Similar a como se procesaron los datos\n",
    "        self.obs_len = 8\n",
    "        self.pred_len = 12\n",
    "        if add_kp is None:\n",
    "            print('Parameter add kpp missing')\n",
    "            return\n",
    "        if train_num_examples is None:\n",
    "            print('El parametro train_examples fue olvidado')\n",
    "            return\n",
    "        if add_social is None:\n",
    "            print('Parameter add social missing')\n",
    "            return\n",
    "        \n",
    "        self.add_kp = add_kp\n",
    "        self.train_num_examples = train_num_examples\n",
    "        self.add_social = add_social\n",
    "        \n",
    "        self.kp_num = 18\n",
    "        self.kp_size = 18\n",
    "        \n",
    "        self.num_epochs = 100\n",
    "        self.batch_size = 20 # batch size\n",
    "        self.validate = 300\n",
    "        self.P = 2 # dimensión\n",
    "        self.enc_hidden_size = 128 # el nombre lo dice\n",
    "        self.dec_hidden_size = 128\n",
    "        self.emb_size = 64\n",
    "        self.keep_prob = 0.7 # dropout\n",
    "        \n",
    "        self.min_ped = 1\n",
    "        self.seq_len = self.obs_len + self.pred_len\n",
    "        self.reverse_xy = False\n",
    "        \n",
    "        self.activation_func = tf.nn.tanh\n",
    "        self.activation_func1 = tf.nn.relu\n",
    "        self.is_train = True\n",
    "        self.is_test = False\n",
    "        self.multi_decoder = False\n",
    "        self.modelname = 'gphuctl'\n",
    "        \n",
    "        self.init_lr = 0.002 # 0.01\n",
    "        self.learning_rate_decay = 0.85\n",
    "        self.num_epoch_per_decay = 2.0\n",
    "        self.optimizer = 'adam'\n",
    "        self.emb_lr = 1.0\n",
    "        #self.clip_gradient_norm = 10.0\n",
    "        #Para cuando entreno y quiero guardar el mejor modelo\n",
    "        self.load_best = True"
   ]
  },
  {
   "cell_type": "markdown",
   "metadata": {},
   "source": [
    "# Model training"
   ]
  },
  {
   "cell_type": "code",
   "execution_count": 7,
   "metadata": {},
   "outputs": [
    {
     "name": "stderr",
     "output_type": "stream",
     "text": [
      "WARNING: Logging before flag parsing goes to stderr.\n",
      "W0522 23:43:41.148148 140205703755520 deprecation.py:323] From /home/andrea/Documentos/OF-PathPred/evaluation_opticalflow/lib/model.py:60: __init__ (from tensorflow.python.ops.rnn_cell_impl) is deprecated and will be removed in a future version.\n",
      "Instructions for updating:\n",
      "This class is equivalent as tf.keras.layers.LSTMCell, and will be replaced by that in Tensorflow 2.0.\n",
      "W0522 23:43:41.183248 140205703755520 deprecation.py:323] From /home/andrea/Documentos/OF-PathPred/evaluation_opticalflow/lib/model.py:102: dynamic_rnn (from tensorflow.python.ops.rnn) is deprecated and will be removed in a future version.\n",
      "Instructions for updating:\n",
      "Please use `keras.layers.RNN(cell)`, which is equivalent to this API\n",
      "W0522 23:43:41.271322 140205703755520 deprecation.py:506] From /home/andrea/anaconda2/lib/python2.7/site-packages/tensorflow/python/ops/init_ops.py:1251: calling __init__ (from tensorflow.python.ops.init_ops) with dtype is deprecated and will be removed in a future version.\n",
      "Instructions for updating:\n",
      "Call initializer instance with the dtype argument instead of passing it to the constructor\n",
      "W0522 23:43:41.281594 140205703755520 deprecation.py:506] From /home/andrea/anaconda2/lib/python2.7/site-packages/tensorflow/python/ops/rnn_cell_impl.py:961: calling __init__ (from tensorflow.python.ops.init_ops) with dtype is deprecated and will be removed in a future version.\n",
      "Instructions for updating:\n",
      "Call initializer instance with the dtype argument instead of passing it to the constructor\n",
      "W0522 23:43:41.971015 140205703755520 deprecation.py:323] From /home/andrea/anaconda2/lib/python2.7/site-packages/tensorflow/python/ops/rnn.py:244: where (from tensorflow.python.ops.array_ops) is deprecated and will be removed in a future version.\n",
      "Instructions for updating:\n",
      "Use tf.where in 2.0, which has the same broadcast rule as np.where\n",
      "  0%|          | 0/438 [00:00<?, ?it/s]"
     ]
    },
    {
     "name": "stdout",
     "output_type": "stream",
     "text": [
      "438\n",
      "('Epoca 1.', 'lr:', 0.002)\n",
      "\tsaving model 1...\n"
     ]
    },
    {
     "name": "stderr",
     "output_type": "stream",
     "text": [
      "\n",
      "  0%|          | 0/39 [00:00<?, ?it/s]\u001b[A"
     ]
    },
    {
     "name": "stdout",
     "output_type": "stream",
     "text": [
      "\tdone\n",
      "Evaluating\n"
     ]
    },
    {
     "name": "stderr",
     "output_type": "stream",
     "text": [
      "\n",
      "  3%|2         | 1/39 [00:00<00:11,  3.34it/s]\u001b[A\n",
      " 18%|#7        | 7/39 [00:00<00:06,  4.64it/s]\u001b[A\n",
      " 28%|##8       | 11/39 [00:00<00:04,  6.31it/s]\u001b[A\n",
      " 38%|###8      | 15/39 [00:00<00:02,  8.43it/s]\u001b[A\n",
      " 49%|####8     | 19/39 [00:00<00:01, 11.05it/s]\u001b[A\n",
      " 59%|#####8    | 23/39 [00:00<00:01, 14.10it/s]\u001b[A\n",
      " 72%|#######1  | 28/39 [00:00<00:00, 17.73it/s]\u001b[A\n",
      " 82%|########2 | 32/39 [00:01<00:00, 21.18it/s]\u001b[A\n",
      " 92%|#########2| 36/39 [00:01<00:00, 24.65it/s]\u001b[A\n",
      "100%|##########| 39/39 [00:01<00:00, 31.96it/s]\u001b[A"
     ]
    },
    {
     "name": "stdout",
     "output_type": "stream",
     "text": [
      "{'ade': 1.7567339, 'fde': 3.2276096}\n",
      "\t last loss:-1.000000000, eval on validation:['ade: 1.7567339', 'fde: 3.2276096'], (best ade:999999 at step -1) \n",
      "\t saving best model...\n",
      "\t done.\n"
     ]
    },
    {
     "name": "stderr",
     "output_type": "stream",
     "text": [
      " 68%|██████▊   | 297/438 [00:15<00:05, 25.79it/s]\n",
      "  0%|          | 0/39 [00:00<?, ?it/s]\u001b[A"
     ]
    },
    {
     "name": "stdout",
     "output_type": "stream",
     "text": [
      "\tsaving model 300...\n",
      "\tdone\n",
      "Evaluating\n"
     ]
    },
    {
     "name": "stderr",
     "output_type": "stream",
     "text": [
      "\n",
      " 15%|#5        | 6/39 [00:00<00:00, 54.51it/s]\u001b[A\n",
      " 36%|###5      | 14/39 [00:00<00:00, 59.97it/s]\u001b[A\n",
      " 56%|#####6    | 22/39 [00:00<00:00, 64.41it/s]\u001b[A\n",
      " 74%|#######4  | 29/39 [00:00<00:00, 65.50it/s]\u001b[A\n",
      " 95%|#########4| 37/39 [00:00<00:00, 68.76it/s]\u001b[A\n",
      "100%|##########| 39/39 [00:00<00:00, 70.41it/s]\u001b[A"
     ]
    },
    {
     "name": "stdout",
     "output_type": "stream",
     "text": [
      "{'ade': 0.44236526, 'fde': 0.9773553}\n",
      "\t last loss:0.000576989, eval on validation:['ade: 0.44236526', 'fde: 0.9773553'], (best ade:1.7567339 at step 1) \n",
      "\t saving best model...\n",
      "\t done.\n"
     ]
    },
    {
     "name": "stderr",
     "output_type": "stream",
     "text": [
      "100%|██████████| 438/438 [00:22<00:00, 19.76it/s]\n",
      "  0%|          | 1/438 [00:00<00:48,  9.06it/s]"
     ]
    },
    {
     "name": "stdout",
     "output_type": "stream",
     "text": [
      "('Epoca 2.', 'lr:', 0.002)\n"
     ]
    },
    {
     "name": "stderr",
     "output_type": "stream",
     "text": [
      " 37%|███▋      | 160/438 [00:06<00:10, 26.33it/s]W0522 23:44:13.172861 140205703755520 deprecation.py:323] From /home/andrea/anaconda2/lib/python2.7/site-packages/tensorflow/python/training/saver.py:960: remove_checkpoint (from tensorflow.python.training.checkpoint_management) is deprecated and will be removed in a future version.\n",
      "Instructions for updating:\n",
      "Use standard file APIs to delete files with this prefix.\n",
      "\n",
      "  0%|          | 0/39 [00:00<?, ?it/s]\u001b[A"
     ]
    },
    {
     "name": "stdout",
     "output_type": "stream",
     "text": [
      "\tsaving model 600...\n",
      "\tdone\n",
      "Evaluating\n"
     ]
    },
    {
     "name": "stderr",
     "output_type": "stream",
     "text": [
      "\n",
      " 13%|#2        | 5/39 [00:00<00:00, 44.32it/s]\u001b[A\n",
      " 28%|##8       | 11/39 [00:00<00:00, 48.06it/s]\u001b[A\n",
      " 51%|#####1    | 20/39 [00:00<00:00, 54.92it/s]\u001b[A\n",
      " 74%|#######4  | 29/39 [00:00<00:00, 61.03it/s]\u001b[A\n",
      " 97%|#########7| 38/39 [00:00<00:00, 66.22it/s]\u001b[A\n",
      " 37%|███▋      | 163/438 [00:07<00:31,  8.64it/s]A"
     ]
    },
    {
     "name": "stdout",
     "output_type": "stream",
     "text": [
      "{'ade': 0.5221263, 'fde': 1.1997651}\n",
      "\t last loss:0.000671476, eval on validation:['ade: 0.5221263', 'fde: 1.1997651'], (best ade:0.44236526 at step 300) \n"
     ]
    },
    {
     "name": "stderr",
     "output_type": "stream",
     "text": [
      "100%|██████████| 438/438 [00:18<00:00, 25.81it/s]\n",
      "  0%|          | 1/438 [00:00<00:50,  8.73it/s]"
     ]
    },
    {
     "name": "stdout",
     "output_type": "stream",
     "text": [
      "('Epoca 3.', 'lr:', 0.0017000001)\n"
     ]
    },
    {
     "name": "stderr",
     "output_type": "stream",
     "text": [
      "  5%|▍         | 21/438 [00:00<00:18, 22.00it/s]\n",
      "  0%|          | 0/39 [00:00<?, ?it/s]\u001b[A"
     ]
    },
    {
     "name": "stdout",
     "output_type": "stream",
     "text": [
      "\tsaving model 900...\n",
      "\tdone\n",
      "Evaluating\n"
     ]
    },
    {
     "name": "stderr",
     "output_type": "stream",
     "text": [
      "\n",
      " 23%|##3       | 9/39 [00:00<00:00, 86.73it/s]\u001b[A\n",
      " 44%|####3     | 17/39 [00:00<00:00, 83.91it/s]\u001b[A\n",
      " 67%|######6   | 26/39 [00:00<00:00, 85.33it/s]\u001b[A\n",
      " 90%|########9 | 35/39 [00:00<00:00, 85.53it/s]\u001b[A\n",
      "  5%|▌         | 24/438 [00:01<00:50,  8.14it/s][A"
     ]
    },
    {
     "name": "stdout",
     "output_type": "stream",
     "text": [
      "{'ade': 0.43385994, 'fde': 0.9490241}\n",
      "\t last loss:0.000658395, eval on validation:['ade: 0.43385994', 'fde: 0.9490241'], (best ade:0.44236526 at step 300) \n",
      "\t saving best model...\n",
      "\t done.\n"
     ]
    },
    {
     "name": "stderr",
     "output_type": "stream",
     "text": [
      " 74%|███████▎  | 322/438 [00:14<00:04, 25.10it/s]\n",
      "  0%|          | 0/39 [00:00<?, ?it/s]\u001b[A"
     ]
    },
    {
     "name": "stdout",
     "output_type": "stream",
     "text": [
      "\tsaving model 1200...\n",
      "\tdone\n",
      "Evaluating\n"
     ]
    },
    {
     "name": "stderr",
     "output_type": "stream",
     "text": [
      "\n",
      " 23%|##3       | 9/39 [00:00<00:00, 82.49it/s]\u001b[A\n",
      " 46%|####6     | 18/39 [00:00<00:00, 84.53it/s]\u001b[A\n",
      " 69%|######9   | 27/39 [00:00<00:00, 85.29it/s]\u001b[A\n",
      " 92%|#########2| 36/39 [00:00<00:00, 85.85it/s]\u001b[A\n",
      " 74%|███████▍  | 325/438 [00:15<00:11,  9.47it/s]A"
     ]
    },
    {
     "name": "stdout",
     "output_type": "stream",
     "text": [
      "{'ade': 0.45861614, 'fde': 1.0379097}\n",
      "\t last loss:0.000362820, eval on validation:['ade: 0.45861614', 'fde: 1.0379097'], (best ade:0.43385994 at step 900) \n"
     ]
    },
    {
     "name": "stderr",
     "output_type": "stream",
     "text": [
      "100%|██████████| 438/438 [00:20<00:00, 24.86it/s]\n",
      "  0%|          | 1/438 [00:00<00:47,  9.11it/s]"
     ]
    },
    {
     "name": "stdout",
     "output_type": "stream",
     "text": [
      "('Epoca 4.', 'lr:', 0.0017000001)\n"
     ]
    },
    {
     "name": "stderr",
     "output_type": "stream",
     "text": [
      " 42%|████▏     | 185/438 [00:07<00:10, 24.83it/s]\n",
      "  0%|          | 0/39 [00:00<?, ?it/s]\u001b[A"
     ]
    },
    {
     "name": "stdout",
     "output_type": "stream",
     "text": [
      "\tsaving model 1500...\n",
      "\tdone\n",
      "Evaluating\n"
     ]
    },
    {
     "name": "stderr",
     "output_type": "stream",
     "text": [
      "\n",
      " 21%|##        | 8/39 [00:00<00:00, 74.03it/s]\u001b[A\n",
      " 44%|####3     | 17/39 [00:00<00:00, 76.50it/s]\u001b[A\n",
      " 67%|######6   | 26/39 [00:00<00:00, 78.65it/s]\u001b[A\n",
      " 90%|########9 | 35/39 [00:00<00:00, 80.09it/s]\u001b[A\n",
      "100%|##########| 39/39 [00:00<00:00, 79.23it/s]\u001b[A"
     ]
    },
    {
     "name": "stdout",
     "output_type": "stream",
     "text": [
      "{'ade': 0.42758986, 'fde': 0.93570065}\n",
      "\t last loss:0.000613294, eval on validation:['ade: 0.42758986', 'fde: 0.93570065'], (best ade:0.43385994 at step 900) \n",
      "\t saving best model...\n",
      "\t done.\n"
     ]
    },
    {
     "name": "stderr",
     "output_type": "stream",
     "text": [
      "100%|██████████| 438/438 [00:19<00:00, 25.07it/s]\n",
      "  1%|          | 3/438 [00:00<00:19, 22.81it/s]"
     ]
    },
    {
     "name": "stdout",
     "output_type": "stream",
     "text": [
      "('Epoca 5.', 'lr:', 0.0014450002)\n"
     ]
    },
    {
     "name": "stderr",
     "output_type": "stream",
     "text": [
      " 10%|█         | 45/438 [00:01<00:15, 24.74it/s]\n",
      "  0%|          | 0/39 [00:00<?, ?it/s]\u001b[A"
     ]
    },
    {
     "name": "stdout",
     "output_type": "stream",
     "text": [
      "\tsaving model 1800...\n",
      "\tdone\n",
      "Evaluating\n"
     ]
    },
    {
     "name": "stderr",
     "output_type": "stream",
     "text": [
      "\n",
      " 21%|##        | 8/39 [00:00<00:00, 74.58it/s]\u001b[A\n",
      " 41%|####1     | 16/39 [00:00<00:00, 75.45it/s]\u001b[A\n",
      " 64%|######4   | 25/39 [00:00<00:00, 77.35it/s]\u001b[A\n",
      " 87%|########7 | 34/39 [00:00<00:00, 79.00it/s]\u001b[A\n",
      " 12%|█▏        | 51/438 [00:02<00:34, 11.12it/s][A"
     ]
    },
    {
     "name": "stdout",
     "output_type": "stream",
     "text": [
      "{'ade': 0.45592365, 'fde': 1.0179207}\n",
      "\t last loss:0.000316918, eval on validation:['ade: 0.45592365', 'fde: 1.0179207'], (best ade:0.42758986 at step 1500) \n"
     ]
    },
    {
     "name": "stderr",
     "output_type": "stream",
     "text": [
      " 79%|███████▉  | 345/438 [00:14<00:03, 26.03it/s]\n",
      "  0%|          | 0/39 [00:00<?, ?it/s]\u001b[A"
     ]
    },
    {
     "name": "stdout",
     "output_type": "stream",
     "text": [
      "\tsaving model 2100...\n",
      "\tdone\n",
      "Evaluating\n"
     ]
    },
    {
     "name": "stderr",
     "output_type": "stream",
     "text": [
      "\n",
      " 21%|##        | 8/39 [00:00<00:00, 78.36it/s]\u001b[A\n",
      " 44%|####3     | 17/39 [00:00<00:00, 80.77it/s]\u001b[A\n",
      " 64%|######4   | 25/39 [00:00<00:00, 79.00it/s]\u001b[A\n",
      " 87%|########7 | 34/39 [00:00<00:00, 80.31it/s]\u001b[A\n",
      " 79%|███████▉  | 348/438 [00:15<00:10,  8.35it/s]A"
     ]
    },
    {
     "name": "stdout",
     "output_type": "stream",
     "text": [
      "{'ade': 0.40091667, 'fde': 0.8783156}\n",
      "\t last loss:0.000586835, eval on validation:['ade: 0.40091667', 'fde: 0.8783156'], (best ade:0.42758986 at step 1500) \n",
      "\t saving best model...\n",
      "\t done.\n"
     ]
    },
    {
     "name": "stderr",
     "output_type": "stream",
     "text": [
      "100%|██████████| 438/438 [00:19<00:00, 23.99it/s]\n",
      "  0%|          | 2/438 [00:00<00:22, 19.21it/s]"
     ]
    },
    {
     "name": "stdout",
     "output_type": "stream",
     "text": [
      "('Epoca 6.', 'lr:', 0.0014450002)\n"
     ]
    },
    {
     "name": "stderr",
     "output_type": "stream",
     "text": [
      " 48%|████▊     | 209/438 [00:08<00:09, 24.22it/s]\n",
      "  0%|          | 0/39 [00:00<?, ?it/s]\u001b[A"
     ]
    },
    {
     "name": "stdout",
     "output_type": "stream",
     "text": [
      "\tsaving model 2400...\n",
      "\tdone\n",
      "Evaluating\n"
     ]
    },
    {
     "name": "stderr",
     "output_type": "stream",
     "text": [
      "\n",
      " 23%|##3       | 9/39 [00:00<00:00, 82.93it/s]\u001b[A\n",
      " 46%|####6     | 18/39 [00:00<00:00, 83.76it/s]\u001b[A\n",
      " 72%|#######1  | 28/39 [00:00<00:00, 86.04it/s]\u001b[A\n",
      " 92%|#########2| 36/39 [00:00<00:00, 83.99it/s]\u001b[A\n",
      " 48%|████▊     | 212/438 [00:09<00:23,  9.44it/s]A"
     ]
    },
    {
     "name": "stdout",
     "output_type": "stream",
     "text": [
      "{'ade': 0.4961952, 'fde': 1.1565163}\n",
      "\t last loss:0.000953057, eval on validation:['ade: 0.4961952', 'fde: 1.1565163'], (best ade:0.40091667 at step 2100) \n"
     ]
    },
    {
     "name": "stderr",
     "output_type": "stream",
     "text": [
      "100%|██████████| 438/438 [00:18<00:00, 24.23it/s]\n",
      "  0%|          | 2/438 [00:00<00:28, 15.30it/s]"
     ]
    },
    {
     "name": "stdout",
     "output_type": "stream",
     "text": [
      "('Epoca 7.', 'lr:', 0.0012282502)\n"
     ]
    },
    {
     "name": "stderr",
     "output_type": "stream",
     "text": [
      " 16%|█▌        | 71/438 [00:02<00:14, 25.36it/s]\n",
      "  0%|          | 0/39 [00:00<?, ?it/s]\u001b[A"
     ]
    },
    {
     "name": "stdout",
     "output_type": "stream",
     "text": [
      "\tsaving model 2700...\n",
      "\tdone\n",
      "Evaluating\n"
     ]
    },
    {
     "name": "stderr",
     "output_type": "stream",
     "text": [
      "\n",
      " 23%|##3       | 9/39 [00:00<00:00, 83.51it/s]\u001b[A\n",
      " 46%|####6     | 18/39 [00:00<00:00, 83.21it/s]\u001b[A\n",
      " 69%|######9   | 27/39 [00:00<00:00, 83.86it/s]\u001b[A\n",
      " 92%|#########2| 36/39 [00:00<00:00, 84.44it/s]\u001b[A\n",
      " 17%|█▋        | 74/438 [00:03<00:39,  9.32it/s][A"
     ]
    },
    {
     "name": "stdout",
     "output_type": "stream",
     "text": [
      "{'ade': 0.4775956, 'fde': 1.0707508}\n",
      "\t last loss:0.000556887, eval on validation:['ade: 0.4775956', 'fde: 1.0707508'], (best ade:0.40091667 at step 2100) \n"
     ]
    },
    {
     "name": "stderr",
     "output_type": "stream",
     "text": [
      " 85%|████████▍ | 371/438 [00:15<00:02, 26.32it/s]\n",
      "  0%|          | 0/39 [00:00<?, ?it/s]\u001b[A"
     ]
    },
    {
     "name": "stdout",
     "output_type": "stream",
     "text": [
      "\tsaving model 3000...\n",
      "\tdone\n",
      "Evaluating\n"
     ]
    },
    {
     "name": "stderr",
     "output_type": "stream",
     "text": [
      "\n",
      " 26%|##5       | 10/39 [00:00<00:00, 91.48it/s]\u001b[A\n",
      " 46%|####6     | 18/39 [00:00<00:00, 86.28it/s]\u001b[A\n",
      " 69%|######9   | 27/39 [00:00<00:00, 87.27it/s]\u001b[A\n",
      " 95%|#########4| 37/39 [00:00<00:00, 89.09it/s]\u001b[A\n",
      " 85%|████████▌ | 374/438 [00:16<00:06,  9.85it/s]A"
     ]
    },
    {
     "name": "stdout",
     "output_type": "stream",
     "text": [
      "{'ade': 0.4814498, 'fde': 1.0638722}\n",
      "\t last loss:0.000539761, eval on validation:['ade: 0.4814498', 'fde: 1.0638722'], (best ade:0.40091667 at step 2100) \n"
     ]
    },
    {
     "name": "stderr",
     "output_type": "stream",
     "text": [
      "100%|██████████| 438/438 [00:18<00:00, 23.40it/s]\n",
      "  0%|          | 1/438 [00:00<00:46,  9.32it/s]"
     ]
    },
    {
     "name": "stdout",
     "output_type": "stream",
     "text": [
      "('Epoca 8.', 'lr:', 0.0012282502)\n"
     ]
    },
    {
     "name": "stderr",
     "output_type": "stream",
     "text": [
      " 53%|█████▎    | 232/438 [00:09<00:08, 24.37it/s]\n",
      "  0%|          | 0/39 [00:00<?, ?it/s]\u001b[A"
     ]
    },
    {
     "name": "stdout",
     "output_type": "stream",
     "text": [
      "\tsaving model 3300...\n",
      "\tdone\n",
      "Evaluating\n"
     ]
    },
    {
     "name": "stderr",
     "output_type": "stream",
     "text": [
      "\n",
      " 21%|##        | 8/39 [00:00<00:00, 79.01it/s]\u001b[A\n",
      " 44%|####3     | 17/39 [00:00<00:00, 80.48it/s]\u001b[A\n",
      " 64%|######4   | 25/39 [00:00<00:00, 80.26it/s]\u001b[A\n",
      " 85%|########4 | 33/39 [00:00<00:00, 79.52it/s]\u001b[A\n",
      " 54%|█████▎    | 235/438 [00:10<00:22,  9.08it/s]A"
     ]
    },
    {
     "name": "stdout",
     "output_type": "stream",
     "text": [
      "{'ade': 0.41237193, 'fde': 0.9061829}\n",
      "\t last loss:0.000485015, eval on validation:['ade: 0.41237193', 'fde: 0.9061829'], (best ade:0.40091667 at step 2100) \n"
     ]
    },
    {
     "name": "stderr",
     "output_type": "stream",
     "text": [
      "100%|██████████| 438/438 [00:18<00:00, 23.90it/s]\n",
      "  1%|          | 3/438 [00:00<00:18, 23.95it/s]"
     ]
    },
    {
     "name": "stdout",
     "output_type": "stream",
     "text": [
      "('Epoca 9.', 'lr:', 0.0010440127)\n"
     ]
    },
    {
     "name": "stderr",
     "output_type": "stream",
     "text": [
      " 21%|██        | 93/438 [00:03<00:12, 26.61it/s]\n",
      "  0%|          | 0/39 [00:00<?, ?it/s]\u001b[A"
     ]
    },
    {
     "name": "stdout",
     "output_type": "stream",
     "text": [
      "\tsaving model 3600...\n",
      "\tdone\n",
      "Evaluating\n"
     ]
    },
    {
     "name": "stderr",
     "output_type": "stream",
     "text": [
      "\n",
      " 23%|##3       | 9/39 [00:00<00:00, 85.84it/s]\u001b[A\n",
      " 49%|####8     | 19/39 [00:00<00:00, 88.09it/s]\u001b[A\n",
      " 72%|#######1  | 28/39 [00:00<00:00, 87.68it/s]\u001b[A\n",
      " 97%|#########7| 38/39 [00:00<00:00, 89.00it/s]\u001b[A\n",
      "100%|##########| 39/39 [00:00<00:00, 87.93it/s]\u001b[A"
     ]
    },
    {
     "name": "stdout",
     "output_type": "stream",
     "text": [
      "{'ade': 0.398357, 'fde': 0.85962117}\n",
      "\t last loss:0.000342017, eval on validation:['ade: 0.398357', 'fde: 0.85962117'], (best ade:0.40091667 at step 2100) \n",
      "\t saving best model...\n",
      "\t done.\n"
     ]
    },
    {
     "name": "stderr",
     "output_type": "stream",
     "text": [
      " 90%|████████▉ | 393/438 [00:16<00:01, 24.76it/s]\n",
      "  0%|          | 0/39 [00:00<?, ?it/s]\u001b[A"
     ]
    },
    {
     "name": "stdout",
     "output_type": "stream",
     "text": [
      "\tsaving model 3900...\n",
      "\tdone\n",
      "Evaluating\n"
     ]
    },
    {
     "name": "stderr",
     "output_type": "stream",
     "text": [
      "\n",
      " 21%|##        | 8/39 [00:00<00:00, 78.21it/s]\u001b[A\n",
      " 41%|####1     | 16/39 [00:00<00:00, 76.56it/s]\u001b[A\n",
      " 64%|######4   | 25/39 [00:00<00:00, 78.80it/s]\u001b[A\n",
      " 87%|########7 | 34/39 [00:00<00:00, 80.28it/s]\u001b[A\n",
      "100%|##########| 39/39 [00:00<00:00, 79.12it/s]\u001b[A"
     ]
    },
    {
     "name": "stdout",
     "output_type": "stream",
     "text": [
      "{'ade': 0.3911205, 'fde': 0.85099787}\n",
      "\t last loss:0.000460456, eval on validation:['ade: 0.3911205', 'fde: 0.85099787'], (best ade:0.398357 at step 3600) \n",
      "\t saving best model...\n",
      "\t done.\n"
     ]
    },
    {
     "name": "stderr",
     "output_type": "stream",
     "text": [
      "100%|██████████| 438/438 [00:19<00:00, 25.46it/s]\n",
      "  0%|          | 1/438 [00:00<00:51,  8.48it/s]"
     ]
    },
    {
     "name": "stdout",
     "output_type": "stream",
     "text": [
      "('Epoca 10.', 'lr:', 0.0010440127)\n"
     ]
    },
    {
     "name": "stderr",
     "output_type": "stream",
     "text": [
      " 58%|█████▊    | 255/438 [00:10<00:06, 26.25it/s]\n",
      "  0%|          | 0/39 [00:00<?, ?it/s]\u001b[A"
     ]
    },
    {
     "name": "stdout",
     "output_type": "stream",
     "text": [
      "\tsaving model 4200...\n",
      "\tdone\n",
      "Evaluating\n"
     ]
    },
    {
     "name": "stderr",
     "output_type": "stream",
     "text": [
      "\n",
      " 23%|##3       | 9/39 [00:00<00:00, 84.96it/s]\u001b[A\n",
      " 49%|####8     | 19/39 [00:00<00:00, 87.33it/s]\u001b[A\n",
      " 72%|#######1  | 28/39 [00:00<00:00, 86.98it/s]\u001b[A\n",
      " 92%|#########2| 36/39 [00:00<00:00, 82.33it/s]\u001b[A\n",
      " 60%|█████▉    | 261/438 [00:11<00:14, 11.83it/s]A"
     ]
    },
    {
     "name": "stdout",
     "output_type": "stream",
     "text": [
      "{'ade': 0.40375257, 'fde': 0.89002055}\n",
      "\t last loss:0.000559232, eval on validation:['ade: 0.40375257', 'fde: 0.89002055'], (best ade:0.3911205 at step 3900) \n"
     ]
    },
    {
     "name": "stderr",
     "output_type": "stream",
     "text": [
      "100%|██████████| 438/438 [00:18<00:00, 26.00it/s]\n",
      "  0%|          | 1/438 [00:00<00:50,  8.70it/s]"
     ]
    },
    {
     "name": "stdout",
     "output_type": "stream",
     "text": [
      "('Epoca 11.', 'lr:', 0.0008874108)\n"
     ]
    },
    {
     "name": "stderr",
     "output_type": "stream",
     "text": [
      " 27%|██▋       | 118/438 [00:04<00:12, 25.71it/s]\n",
      "  0%|          | 0/39 [00:00<?, ?it/s]\u001b[A"
     ]
    },
    {
     "name": "stdout",
     "output_type": "stream",
     "text": [
      "\tsaving model 4500...\n",
      "\tdone\n",
      "Evaluating\n"
     ]
    },
    {
     "name": "stderr",
     "output_type": "stream",
     "text": [
      "\n",
      " 23%|##3       | 9/39 [00:00<00:00, 88.24it/s]\u001b[A\n",
      " 46%|####6     | 18/39 [00:00<00:00, 88.55it/s]\u001b[A\n",
      " 72%|#######1  | 28/39 [00:00<00:00, 90.06it/s]\u001b[A\n",
      " 95%|#########4| 37/39 [00:00<00:00, 87.20it/s]\u001b[A\n",
      " 28%|██▊       | 124/438 [00:05<00:26, 12.02it/s]A"
     ]
    },
    {
     "name": "stdout",
     "output_type": "stream",
     "text": [
      "{'ade': 0.39538124, 'fde': 0.874849}\n",
      "\t last loss:0.000349494, eval on validation:['ade: 0.39538124', 'fde: 0.874849'], (best ade:0.3911205 at step 3900) \n"
     ]
    },
    {
     "name": "stderr",
     "output_type": "stream",
     "text": [
      " 95%|█████████▌| 418/438 [00:17<00:00, 24.94it/s]\n",
      "  0%|          | 0/39 [00:00<?, ?it/s]\u001b[A"
     ]
    },
    {
     "name": "stdout",
     "output_type": "stream",
     "text": [
      "\tsaving model 4800...\n",
      "\tdone\n",
      "Evaluating\n"
     ]
    },
    {
     "name": "stderr",
     "output_type": "stream",
     "text": [
      "\n",
      " 21%|##        | 8/39 [00:00<00:00, 78.09it/s]\u001b[A\n",
      " 44%|####3     | 17/39 [00:00<00:00, 79.88it/s]\u001b[A\n",
      " 64%|######4   | 25/39 [00:00<00:00, 79.65it/s]\u001b[A\n",
      " 87%|########7 | 34/39 [00:00<00:00, 80.17it/s]\u001b[A\n",
      " 96%|█████████▌| 421/438 [00:18<00:01,  9.17it/s]A"
     ]
    },
    {
     "name": "stdout",
     "output_type": "stream",
     "text": [
      "{'ade': 0.39234468, 'fde': 0.85870665}\n",
      "\t last loss:0.000580915, eval on validation:['ade: 0.39234468', 'fde: 0.85870665'], (best ade:0.3911205 at step 3900) \n"
     ]
    },
    {
     "name": "stderr",
     "output_type": "stream",
     "text": [
      "100%|██████████| 438/438 [00:18<00:00, 23.16it/s]\n",
      "  1%|          | 3/438 [00:00<00:19, 21.87it/s]"
     ]
    },
    {
     "name": "stdout",
     "output_type": "stream",
     "text": [
      "('Epoca 12.', 'lr:', 0.0008874108)\n"
     ]
    },
    {
     "name": "stderr",
     "output_type": "stream",
     "text": [
      " 64%|██████▎   | 279/438 [00:11<00:06, 26.09it/s]\n",
      "  0%|          | 0/39 [00:00<?, ?it/s]\u001b[A"
     ]
    },
    {
     "name": "stdout",
     "output_type": "stream",
     "text": [
      "\tsaving model 5100...\n",
      "\tdone\n",
      "Evaluating\n"
     ]
    },
    {
     "name": "stderr",
     "output_type": "stream",
     "text": [
      "\n",
      " 23%|##3       | 9/39 [00:00<00:00, 87.78it/s]\u001b[A\n",
      " 49%|####8     | 19/39 [00:00<00:00, 89.09it/s]\u001b[A\n",
      " 67%|######6   | 26/39 [00:00<00:00, 81.65it/s]\u001b[A\n",
      " 90%|########9 | 35/39 [00:00<00:00, 83.16it/s]\u001b[A\n",
      "100%|##########| 39/39 [00:00<00:00, 83.47it/s]\u001b[A"
     ]
    },
    {
     "name": "stdout",
     "output_type": "stream",
     "text": [
      "{'ade': 0.38742632, 'fde': 0.8265152}\n",
      "\t last loss:0.000356636, eval on validation:['ade: 0.38742632', 'fde: 0.8265152'], (best ade:0.3911205 at step 3900) \n",
      "\t saving best model...\n",
      "\t done.\n"
     ]
    },
    {
     "name": "stderr",
     "output_type": "stream",
     "text": [
      "100%|██████████| 438/438 [00:18<00:00, 26.20it/s]\n",
      "  0%|          | 1/438 [00:00<00:44,  9.88it/s]"
     ]
    },
    {
     "name": "stdout",
     "output_type": "stream",
     "text": [
      "('Epoca 13.', 'lr:', 0.0007542992)\n"
     ]
    },
    {
     "name": "stderr",
     "output_type": "stream",
     "text": [
      " 32%|███▏      | 142/438 [00:05<00:12, 24.34it/s]\n",
      "  0%|          | 0/39 [00:00<?, ?it/s]\u001b[A"
     ]
    },
    {
     "name": "stdout",
     "output_type": "stream",
     "text": [
      "\tsaving model 5400...\n",
      "\tdone\n",
      "Evaluating\n"
     ]
    },
    {
     "name": "stderr",
     "output_type": "stream",
     "text": [
      "\n",
      " 21%|##        | 8/39 [00:00<00:00, 77.01it/s]\u001b[A\n",
      " 44%|####3     | 17/39 [00:00<00:00, 78.98it/s]\u001b[A\n",
      " 67%|######6   | 26/39 [00:00<00:00, 80.59it/s]\u001b[A\n",
      " 90%|########9 | 35/39 [00:00<00:00, 81.63it/s]\u001b[A\n",
      "100%|##########| 39/39 [00:00<00:00, 78.68it/s]\u001b[A"
     ]
    },
    {
     "name": "stdout",
     "output_type": "stream",
     "text": [
      "{'ade': 0.36931637, 'fde': 0.80397224}\n",
      "\t last loss:0.000211188, eval on validation:['ade: 0.36931637', 'fde: 0.80397224'], (best ade:0.38742632 at step 5100) \n",
      "\t saving best model...\n",
      "\t done.\n"
     ]
    },
    {
     "name": "stderr",
     "output_type": "stream",
     "text": [
      "100%|██████████| 438/438 [00:18<00:00, 23.63it/s]\n",
      "  1%|          | 3/438 [00:00<00:19, 22.48it/s]"
     ]
    },
    {
     "name": "stdout",
     "output_type": "stream",
     "text": [
      "('Epoca 14.', 'lr:', 0.0007542992)\n"
     ]
    },
    {
     "name": "stderr",
     "output_type": "stream",
     "text": [
      "\n",
      "  0%|          | 0/39 [00:00<?, ?it/s]\u001b[A"
     ]
    },
    {
     "name": "stdout",
     "output_type": "stream",
     "text": [
      "\tsaving model 5700...\n",
      "\tdone\n",
      "Evaluating\n"
     ]
    },
    {
     "name": "stderr",
     "output_type": "stream",
     "text": [
      "\n",
      " 23%|##3       | 9/39 [00:00<00:00, 83.59it/s]\u001b[A\n",
      " 46%|####6     | 18/39 [00:00<00:00, 83.69it/s]\u001b[A\n",
      " 72%|#######1  | 28/39 [00:00<00:00, 86.03it/s]\u001b[A\n",
      " 95%|#########4| 37/39 [00:00<00:00, 86.04it/s]\u001b[A\n",
      "  2%|▏         | 9/438 [00:01<00:37, 11.38it/s]\u001b[A"
     ]
    },
    {
     "name": "stdout",
     "output_type": "stream",
     "text": [
      "{'ade': 0.41558328, 'fde': 0.928419}\n",
      "\t last loss:0.000353020, eval on validation:['ade: 0.41558328', 'fde: 0.928419'], (best ade:0.36931637 at step 5400) \n"
     ]
    },
    {
     "name": "stderr",
     "output_type": "stream",
     "text": [
      " 70%|██████▉   | 305/438 [00:15<00:07, 18.45it/s]"
     ]
    },
    {
     "name": "stdout",
     "output_type": "stream",
     "text": [
      "\tsaving model 6000...\n"
     ]
    },
    {
     "name": "stderr",
     "output_type": "stream",
     "text": [
      "\n",
      "  0%|          | 0/39 [00:00<?, ?it/s]\u001b[A\n",
      " 18%|#7        | 7/39 [00:00<00:00, 62.28it/s]\u001b[A"
     ]
    },
    {
     "name": "stdout",
     "output_type": "stream",
     "text": [
      "\tdone\n",
      "Evaluating\n"
     ]
    },
    {
     "name": "stderr",
     "output_type": "stream",
     "text": [
      "\n",
      " 28%|##8       | 11/39 [00:00<00:00, 52.98it/s]\u001b[A\n",
      " 38%|###8      | 15/39 [00:00<00:00, 48.00it/s]\u001b[A\n",
      " 54%|#####3    | 21/39 [00:00<00:00, 49.92it/s]\u001b[A\n",
      " 69%|######9   | 27/39 [00:00<00:00, 51.72it/s]\u001b[A\n",
      " 82%|########2 | 32/39 [00:00<00:00, 48.30it/s]\u001b[A\n",
      " 95%|#########4| 37/39 [00:00<00:00, 47.94it/s]\u001b[A\n",
      " 70%|███████   | 307/438 [00:16<00:27,  4.71it/s]A"
     ]
    },
    {
     "name": "stdout",
     "output_type": "stream",
     "text": [
      "{'ade': 0.40190214, 'fde': 0.89870167}\n",
      "\t last loss:0.000484638, eval on validation:['ade: 0.40190214', 'fde: 0.89870167'], (best ade:0.36931637 at step 5400) \n"
     ]
    },
    {
     "name": "stderr",
     "output_type": "stream",
     "text": [
      "100%|██████████| 438/438 [00:22<00:00, 19.19it/s]\n",
      "  0%|          | 1/438 [00:00<00:51,  8.56it/s]"
     ]
    },
    {
     "name": "stdout",
     "output_type": "stream",
     "text": [
      "('Epoca 15.', 'lr:', 0.0006411543)\n"
     ]
    },
    {
     "name": "stderr",
     "output_type": "stream",
     "text": [
      " 38%|███▊      | 166/438 [00:06<00:10, 25.17it/s]\n",
      "  0%|          | 0/39 [00:00<?, ?it/s]\u001b[A"
     ]
    },
    {
     "name": "stdout",
     "output_type": "stream",
     "text": [
      "\tsaving model 6300...\n",
      "\tdone\n",
      "Evaluating\n"
     ]
    },
    {
     "name": "stderr",
     "output_type": "stream",
     "text": [
      "\n",
      " 23%|##3       | 9/39 [00:00<00:00, 87.54it/s]\u001b[A\n",
      " 46%|####6     | 18/39 [00:00<00:00, 85.97it/s]\u001b[A\n",
      " 69%|######9   | 27/39 [00:00<00:00, 85.22it/s]\u001b[A\n",
      " 90%|########9 | 35/39 [00:00<00:00, 82.08it/s]\u001b[A\n",
      " 39%|███▊      | 169/438 [00:07<00:31,  8.58it/s]A"
     ]
    },
    {
     "name": "stdout",
     "output_type": "stream",
     "text": [
      "{'ade': 0.39045808, 'fde': 0.85887885}\n",
      "\t last loss:0.000412599, eval on validation:['ade: 0.39045808', 'fde: 0.85887885'], (best ade:0.36931637 at step 5400) \n"
     ]
    },
    {
     "name": "stderr",
     "output_type": "stream",
     "text": [
      "100%|██████████| 438/438 [00:20<00:00, 21.83it/s]\n",
      "  1%|          | 3/438 [00:00<00:16, 26.17it/s]"
     ]
    },
    {
     "name": "stdout",
     "output_type": "stream",
     "text": [
      "('Epoca 16.', 'lr:', 0.0006411543)\n"
     ]
    },
    {
     "name": "stderr",
     "output_type": "stream",
     "text": [
      "  6%|▌         | 27/438 [00:01<00:15, 25.86it/s]\n",
      "  0%|          | 0/39 [00:00<?, ?it/s]\u001b[A"
     ]
    },
    {
     "name": "stdout",
     "output_type": "stream",
     "text": [
      "\tsaving model 6600...\n",
      "\tdone\n",
      "Evaluating\n"
     ]
    },
    {
     "name": "stderr",
     "output_type": "stream",
     "text": [
      "\n",
      " 26%|##5       | 10/39 [00:00<00:00, 95.02it/s]\u001b[A\n",
      " 51%|#####1    | 20/39 [00:00<00:00, 94.38it/s]\u001b[A\n",
      " 77%|#######6  | 30/39 [00:00<00:00, 94.09it/s]\u001b[A\n",
      "100%|##########| 39/39 [00:00<00:00, 93.72it/s]\u001b[A"
     ]
    },
    {
     "name": "stdout",
     "output_type": "stream",
     "text": [
      "{'ade': 0.3672341, 'fde': 0.7928684}\n",
      "\t last loss:0.000476692, eval on validation:['ade: 0.3672341', 'fde: 0.7928684'], (best ade:0.36931637 at step 5400) \n",
      "\t saving best model...\n",
      "\t done.\n"
     ]
    },
    {
     "name": "stderr",
     "output_type": "stream",
     "text": [
      " 75%|███████▍  | 328/438 [00:14<00:07, 15.49it/s]"
     ]
    },
    {
     "name": "stdout",
     "output_type": "stream",
     "text": [
      "\tsaving model 6900...\n"
     ]
    },
    {
     "name": "stderr",
     "output_type": "stream",
     "text": [
      "\n",
      "  0%|          | 0/39 [00:00<?, ?it/s]\u001b[A\n",
      " 10%|#         | 4/39 [00:00<00:00, 38.83it/s]\u001b[A"
     ]
    },
    {
     "name": "stdout",
     "output_type": "stream",
     "text": [
      "\tdone\n",
      "Evaluating\n"
     ]
    },
    {
     "name": "stderr",
     "output_type": "stream",
     "text": [
      "\n",
      " 23%|##3       | 9/39 [00:00<00:00, 38.90it/s]\u001b[A\n",
      " 33%|###3      | 13/39 [00:00<00:00, 38.63it/s]\u001b[A\n",
      " 44%|####3     | 17/39 [00:00<00:00, 37.73it/s]\u001b[A\n",
      " 56%|#####6    | 22/39 [00:00<00:00, 38.46it/s]\u001b[A\n",
      " 69%|######9   | 27/39 [00:00<00:00, 39.85it/s]\u001b[A\n",
      " 79%|#######9  | 31/39 [00:00<00:00, 37.29it/s]\u001b[A\n",
      " 90%|########9 | 35/39 [00:00<00:00, 36.20it/s]\u001b[A\n",
      " 75%|███████▌  | 330/438 [00:16<00:28,  3.77it/s]A"
     ]
    },
    {
     "name": "stdout",
     "output_type": "stream",
     "text": [
      "{'ade': 0.36812893, 'fde': 0.7872659}\n",
      "\t last loss:0.000324075, eval on validation:['ade: 0.36812893', 'fde: 0.7872659'], (best ade:0.3672341 at step 6600) \n"
     ]
    },
    {
     "name": "stderr",
     "output_type": "stream",
     "text": [
      "100%|██████████| 438/438 [00:23<00:00, 18.38it/s]\n",
      "  0%|          | 1/438 [00:00<00:46,  9.31it/s]"
     ]
    },
    {
     "name": "stdout",
     "output_type": "stream",
     "text": [
      "('Epoca 17.', 'lr:', 0.0005449812)\n"
     ]
    },
    {
     "name": "stderr",
     "output_type": "stream",
     "text": [
      " 43%|████▎     | 189/438 [00:07<00:09, 26.26it/s]\n",
      "  0%|          | 0/39 [00:00<?, ?it/s]\u001b[A"
     ]
    },
    {
     "name": "stdout",
     "output_type": "stream",
     "text": [
      "\tsaving model 7200...\n",
      "\tdone\n",
      "Evaluating\n"
     ]
    },
    {
     "name": "stderr",
     "output_type": "stream",
     "text": [
      "\n",
      " 23%|##3       | 9/39 [00:00<00:00, 89.90it/s]\u001b[A\n",
      " 46%|####6     | 18/39 [00:00<00:00, 87.98it/s]\u001b[A\n",
      " 69%|######9   | 27/39 [00:00<00:00, 86.68it/s]\u001b[A\n",
      " 92%|#########2| 36/39 [00:00<00:00, 86.77it/s]\u001b[A\n",
      "100%|##########| 39/39 [00:00<00:00, 85.18it/s]\u001b[A"
     ]
    },
    {
     "name": "stdout",
     "output_type": "stream",
     "text": [
      "{'ade': 0.36201143, 'fde': 0.7774394}\n",
      "\t last loss:0.000526685, eval on validation:['ade: 0.36201143', 'fde: 0.7774394'], (best ade:0.3672341 at step 6600) \n",
      "\t saving best model...\n",
      "\t done.\n"
     ]
    },
    {
     "name": "stderr",
     "output_type": "stream",
     "text": [
      "100%|██████████| 438/438 [00:19<00:00, 22.19it/s]\n",
      "  0%|          | 1/438 [00:00<00:45,  9.70it/s]"
     ]
    },
    {
     "name": "stdout",
     "output_type": "stream",
     "text": [
      "('Epoca 18.', 'lr:', 0.0005449812)\n"
     ]
    },
    {
     "name": "stderr",
     "output_type": "stream",
     "text": [
      " 12%|█▏        | 51/438 [00:02<00:16, 23.75it/s]\n",
      "  0%|          | 0/39 [00:00<?, ?it/s]\u001b[A"
     ]
    },
    {
     "name": "stdout",
     "output_type": "stream",
     "text": [
      "\tsaving model 7500...\n",
      "\tdone\n",
      "Evaluating\n"
     ]
    },
    {
     "name": "stderr",
     "output_type": "stream",
     "text": [
      "\n",
      " 18%|#7        | 7/39 [00:00<00:00, 62.63it/s]\u001b[A\n",
      " 36%|###5      | 14/39 [00:00<00:00, 62.37it/s]\u001b[A\n",
      " 51%|#####1    | 20/39 [00:00<00:00, 61.25it/s]\u001b[A\n",
      " 67%|######6   | 26/39 [00:00<00:00, 60.77it/s]\u001b[A\n",
      " 85%|########4 | 33/39 [00:00<00:00, 61.27it/s]\u001b[A\n",
      "100%|##########| 39/39 [00:00<00:00, 60.00it/s]\u001b[A"
     ]
    },
    {
     "name": "stdout",
     "output_type": "stream",
     "text": [
      "{'ade': 0.35868323, 'fde': 0.7742848}\n",
      "\t last loss:0.000320175, eval on validation:['ade: 0.35868323', 'fde: 0.7742848'], (best ade:0.36201143 at step 7200) \n",
      "\t saving best model...\n"
     ]
    },
    {
     "name": "stderr",
     "output_type": "stream",
     "text": [
      " 13%|█▎        | 56/438 [00:03<00:46,  8.14it/s]"
     ]
    },
    {
     "name": "stdout",
     "output_type": "stream",
     "text": [
      "\t done.\n"
     ]
    },
    {
     "name": "stderr",
     "output_type": "stream",
     "text": [
      " 80%|████████  | 352/438 [00:17<00:03, 25.90it/s]\n",
      "  0%|          | 0/39 [00:00<?, ?it/s]\u001b[A"
     ]
    },
    {
     "name": "stdout",
     "output_type": "stream",
     "text": [
      "\tsaving model 7800...\n",
      "\tdone\n",
      "Evaluating\n"
     ]
    },
    {
     "name": "stderr",
     "output_type": "stream",
     "text": [
      "\n",
      " 21%|##        | 8/39 [00:00<00:00, 76.70it/s]\u001b[A\n",
      " 46%|####6     | 18/39 [00:00<00:00, 80.57it/s]\u001b[A\n",
      " 69%|######9   | 27/39 [00:00<00:00, 82.49it/s]\u001b[A\n",
      " 95%|#########4| 37/39 [00:00<00:00, 85.24it/s]\u001b[A\n",
      " 82%|████████▏ | 358/438 [00:18<00:06, 11.91it/s]A"
     ]
    },
    {
     "name": "stdout",
     "output_type": "stream",
     "text": [
      "{'ade': 0.37467742, 'fde': 0.79135954}\n",
      "\t last loss:0.000542236, eval on validation:['ade: 0.37467742', 'fde: 0.79135954'], (best ade:0.35868323 at step 7500) \n"
     ]
    },
    {
     "name": "stderr",
     "output_type": "stream",
     "text": [
      "100%|██████████| 438/438 [00:21<00:00, 20.22it/s]\n",
      "  0%|          | 1/438 [00:00<00:46,  9.33it/s]"
     ]
    },
    {
     "name": "stdout",
     "output_type": "stream",
     "text": [
      "('Epoca 19.', 'lr:', 0.00046323403)\n"
     ]
    },
    {
     "name": "stderr",
     "output_type": "stream",
     "text": [
      " 49%|████▊     | 213/438 [00:08<00:09, 23.70it/s]\n",
      "  0%|          | 0/39 [00:00<?, ?it/s]\u001b[A"
     ]
    },
    {
     "name": "stdout",
     "output_type": "stream",
     "text": [
      "\tsaving model 8100...\n",
      "\tdone\n",
      "Evaluating\n"
     ]
    },
    {
     "name": "stderr",
     "output_type": "stream",
     "text": [
      "\n",
      " 21%|##        | 8/39 [00:00<00:00, 75.40it/s]\u001b[A\n",
      " 44%|####3     | 17/39 [00:00<00:00, 77.75it/s]\u001b[A\n",
      " 67%|######6   | 26/39 [00:00<00:00, 79.26it/s]\u001b[A\n",
      " 87%|########7 | 34/39 [00:00<00:00, 79.01it/s]\u001b[A\n",
      " 50%|█████     | 219/438 [00:09<00:19, 11.08it/s]A"
     ]
    },
    {
     "name": "stdout",
     "output_type": "stream",
     "text": [
      "{'ade': 0.3924505, 'fde': 0.8529921}\n",
      "\t last loss:0.000199067, eval on validation:['ade: 0.3924505', 'fde: 0.8529921'], (best ade:0.35868323 at step 7500) \n"
     ]
    },
    {
     "name": "stderr",
     "output_type": "stream",
     "text": [
      "100%|██████████| 438/438 [00:18<00:00, 23.57it/s]\n",
      "  0%|          | 1/438 [00:00<00:52,  8.35it/s]"
     ]
    },
    {
     "name": "stdout",
     "output_type": "stream",
     "text": [
      "('Epoca 20.', 'lr:', 0.00046323403)\n"
     ]
    },
    {
     "name": "stderr",
     "output_type": "stream",
     "text": [
      " 17%|█▋        | 76/438 [00:03<00:13, 26.04it/s]\n",
      "  0%|          | 0/39 [00:00<?, ?it/s]\u001b[A"
     ]
    },
    {
     "name": "stdout",
     "output_type": "stream",
     "text": [
      "\tsaving model 8400...\n",
      "\tdone\n",
      "Evaluating\n"
     ]
    },
    {
     "name": "stderr",
     "output_type": "stream",
     "text": [
      "\n",
      " 23%|##3       | 9/39 [00:00<00:00, 87.39it/s]\u001b[A\n",
      " 46%|####6     | 18/39 [00:00<00:00, 87.84it/s]\u001b[A\n",
      " 69%|######9   | 27/39 [00:00<00:00, 87.22it/s]\u001b[A\n",
      " 92%|#########2| 36/39 [00:00<00:00, 87.91it/s]\u001b[A\n",
      " 19%|█▊        | 82/438 [00:03<00:29, 12.01it/s][A"
     ]
    },
    {
     "name": "stdout",
     "output_type": "stream",
     "text": [
      "{'ade': 0.36170217, 'fde': 0.77991796}\n",
      "\t last loss:0.000248839, eval on validation:['ade: 0.36170217', 'fde: 0.77991796'], (best ade:0.35868323 at step 7500) \n"
     ]
    },
    {
     "name": "stderr",
     "output_type": "stream",
     "text": [
      " 86%|████████▌ | 376/438 [00:15<00:02, 24.63it/s]\n",
      "  0%|          | 0/39 [00:00<?, ?it/s]\u001b[A"
     ]
    },
    {
     "name": "stdout",
     "output_type": "stream",
     "text": [
      "\tsaving model 8700...\n",
      "\tdone\n",
      "Evaluating\n"
     ]
    },
    {
     "name": "stderr",
     "output_type": "stream",
     "text": [
      "\n",
      " 18%|#7        | 7/39 [00:00<00:00, 65.97it/s]\u001b[A\n",
      " 38%|###8      | 15/39 [00:00<00:00, 69.14it/s]\u001b[A\n",
      " 59%|#####8    | 23/39 [00:00<00:00, 71.89it/s]\u001b[A\n",
      " 82%|########2 | 32/39 [00:00<00:00, 75.00it/s]\u001b[A\n",
      " 87%|████████▋ | 379/438 [00:16<00:06,  9.08it/s]A"
     ]
    },
    {
     "name": "stdout",
     "output_type": "stream",
     "text": [
      "{'ade': 0.3739212, 'fde': 0.7922541}\n",
      "\t last loss:0.000708197, eval on validation:['ade: 0.3739212', 'fde: 0.7922541'], (best ade:0.35868323 at step 7500) \n"
     ]
    },
    {
     "name": "stderr",
     "output_type": "stream",
     "text": [
      "100%|██████████| 438/438 [00:19<00:00, 20.54it/s]\n",
      "  0%|          | 2/438 [00:00<00:22, 19.29it/s]"
     ]
    },
    {
     "name": "stdout",
     "output_type": "stream",
     "text": [
      "('Epoca 21.', 'lr:', 0.00039374892)\n"
     ]
    },
    {
     "name": "stderr",
     "output_type": "stream",
     "text": [
      " 54%|█████▍    | 238/438 [00:10<00:08, 23.73it/s]\n",
      "  0%|          | 0/39 [00:00<?, ?it/s]\u001b[A"
     ]
    },
    {
     "name": "stdout",
     "output_type": "stream",
     "text": [
      "\tsaving model 9000...\n",
      "\tdone\n",
      "Evaluating\n"
     ]
    },
    {
     "name": "stderr",
     "output_type": "stream",
     "text": [
      "\n",
      " 21%|##        | 8/39 [00:00<00:00, 72.53it/s]\u001b[A\n",
      " 41%|####1     | 16/39 [00:00<00:00, 73.65it/s]\u001b[A\n",
      " 62%|######1   | 24/39 [00:00<00:00, 74.08it/s]\u001b[A\n",
      " 77%|#######6  | 30/39 [00:00<00:00, 68.50it/s]\u001b[A\n",
      " 92%|#########2| 36/39 [00:00<00:00, 62.80it/s]\u001b[A\n",
      " 55%|█████▌    | 241/438 [00:11<00:25,  7.78it/s]A"
     ]
    },
    {
     "name": "stdout",
     "output_type": "stream",
     "text": [
      "{'ade': 0.35881516, 'fde': 0.7580665}\n",
      "\t last loss:0.000344931, eval on validation:['ade: 0.35881516', 'fde: 0.7580665'], (best ade:0.35868323 at step 7500) \n"
     ]
    },
    {
     "name": "stderr",
     "output_type": "stream",
     "text": [
      "100%|██████████| 438/438 [00:21<00:00, 20.74it/s]\n",
      "  0%|          | 2/438 [00:00<00:31, 13.76it/s]"
     ]
    },
    {
     "name": "stdout",
     "output_type": "stream",
     "text": [
      "('Epoca 22.', 'lr:', 0.00039374892)\n"
     ]
    },
    {
     "name": "stderr",
     "output_type": "stream",
     "text": [
      " 23%|██▎       | 101/438 [00:04<00:13, 24.50it/s]\n",
      "  0%|          | 0/39 [00:00<?, ?it/s]\u001b[A"
     ]
    },
    {
     "name": "stdout",
     "output_type": "stream",
     "text": [
      "\tsaving model 9300...\n",
      "\tdone\n",
      "Evaluating\n"
     ]
    },
    {
     "name": "stderr",
     "output_type": "stream",
     "text": [
      "\n",
      " 18%|#7        | 7/39 [00:00<00:00, 63.62it/s]\u001b[A\n",
      " 38%|###8      | 15/39 [00:00<00:00, 67.16it/s]\u001b[A\n",
      " 59%|#####8    | 23/39 [00:00<00:00, 69.93it/s]\u001b[A\n",
      " 82%|########2 | 32/39 [00:00<00:00, 73.02it/s]\u001b[A\n",
      " 24%|██▎       | 104/438 [00:05<00:37,  8.99it/s]A"
     ]
    },
    {
     "name": "stdout",
     "output_type": "stream",
     "text": [
      "{'ade': 0.36744243, 'fde': 0.7890627}\n",
      "\t last loss:0.000539566, eval on validation:['ade: 0.36744243', 'fde: 0.7890627'], (best ade:0.35868323 at step 7500) \n"
     ]
    },
    {
     "name": "stderr",
     "output_type": "stream",
     "text": [
      " 91%|█████████ | 399/438 [00:18<00:01, 26.39it/s]\n",
      "  0%|          | 0/39 [00:00<?, ?it/s]\u001b[A"
     ]
    },
    {
     "name": "stdout",
     "output_type": "stream",
     "text": [
      "\tsaving model 9600...\n",
      "\tdone\n",
      "Evaluating\n"
     ]
    },
    {
     "name": "stderr",
     "output_type": "stream",
     "text": [
      "\n",
      " 28%|##8       | 11/39 [00:00<00:00, 100.64it/s]\u001b[A\n",
      " 54%|#####3    | 21/39 [00:00<00:00, 99.05it/s] \u001b[A\n",
      " 79%|#######9  | 31/39 [00:00<00:00, 97.87it/s]\u001b[A\n",
      " 92%|█████████▏| 405/438 [00:19<00:02, 12.65it/s]A"
     ]
    },
    {
     "name": "stdout",
     "output_type": "stream",
     "text": [
      "{'ade': 0.368627, 'fde': 0.7995897}\n",
      "\t last loss:0.000382855, eval on validation:['ade: 0.368627', 'fde: 0.7995897'], (best ade:0.35868323 at step 7500) \n"
     ]
    },
    {
     "name": "stderr",
     "output_type": "stream",
     "text": [
      "100%|██████████| 438/438 [00:20<00:00, 24.72it/s]\n",
      "  0%|          | 1/438 [00:00<00:48,  9.03it/s]"
     ]
    },
    {
     "name": "stdout",
     "output_type": "stream",
     "text": [
      "('Epoca 23.', 'lr:', 0.0003346866)\n"
     ]
    },
    {
     "name": "stderr",
     "output_type": "stream",
     "text": [
      " 60%|██████    | 263/438 [00:11<00:08, 20.37it/s]\n",
      "  0%|          | 0/39 [00:00<?, ?it/s]"
     ]
    },
    {
     "name": "stdout",
     "output_type": "stream",
     "text": [
      "\tsaving model 9900...\n",
      "\tdone\n",
      "Evaluating\n"
     ]
    },
    {
     "name": "stderr",
     "output_type": "stream",
     "text": [
      "\u001b[A\n",
      " 18%|#7        | 7/39 [00:00<00:00, 64.39it/s]\u001b[A\n",
      " 36%|###5      | 14/39 [00:00<00:00, 64.61it/s]\u001b[A\n",
      " 56%|#####6    | 22/39 [00:00<00:00, 66.96it/s]\u001b[A\n",
      " 79%|#######9  | 31/39 [00:00<00:00, 72.48it/s]\u001b[A\n",
      " 61%|██████    | 266/438 [00:12<00:20,  8.46it/s]A"
     ]
    },
    {
     "name": "stdout",
     "output_type": "stream",
     "text": [
      "{'ade': 0.3624931, 'fde': 0.7776674}\n",
      "\t last loss:0.000449756, eval on validation:['ade: 0.3624931', 'fde: 0.7776674'], (best ade:0.35868323 at step 7500) \n"
     ]
    },
    {
     "name": "stderr",
     "output_type": "stream",
     "text": [
      "100%|██████████| 438/438 [00:21<00:00, 20.64it/s]\n",
      "  0%|          | 2/438 [00:00<00:30, 14.46it/s]"
     ]
    },
    {
     "name": "stdout",
     "output_type": "stream",
     "text": [
      "('Epoca 24.', 'lr:', 0.0003346866)\n"
     ]
    },
    {
     "name": "stderr",
     "output_type": "stream",
     "text": [
      " 28%|██▊       | 124/438 [00:05<00:15, 20.84it/s]\n",
      "  0%|          | 0/39 [00:00<?, ?it/s]\u001b[A"
     ]
    },
    {
     "name": "stdout",
     "output_type": "stream",
     "text": [
      "\tsaving model 10200...\n",
      "\tdone\n",
      "Evaluating\n"
     ]
    },
    {
     "name": "stderr",
     "output_type": "stream",
     "text": [
      "\n",
      " 23%|##3       | 9/39 [00:00<00:00, 88.18it/s]\u001b[A\n",
      " 49%|####8     | 19/39 [00:00<00:00, 90.33it/s]\u001b[A\n",
      " 74%|#######4  | 29/39 [00:00<00:00, 91.95it/s]\u001b[A\n",
      " 97%|#########7| 38/39 [00:00<00:00, 91.03it/s]\u001b[A\n",
      " 30%|██▉       | 130/438 [00:06<00:26, 11.56it/s]A"
     ]
    },
    {
     "name": "stdout",
     "output_type": "stream",
     "text": [
      "{'ade': 0.37396768, 'fde': 0.8143972}\n",
      "\t last loss:0.000622162, eval on validation:['ade: 0.37396768', 'fde: 0.8143972'], (best ade:0.35868323 at step 7500) \n"
     ]
    },
    {
     "name": "stderr",
     "output_type": "stream",
     "text": [
      " 97%|█████████▋| 424/438 [00:17<00:00, 25.82it/s]\n",
      "  0%|          | 0/39 [00:00<?, ?it/s]\u001b[A"
     ]
    },
    {
     "name": "stdout",
     "output_type": "stream",
     "text": [
      "\tsaving model 10500...\n",
      "\tdone\n",
      "Evaluating\n"
     ]
    },
    {
     "name": "stderr",
     "output_type": "stream",
     "text": [
      "\n",
      " 26%|##5       | 10/39 [00:00<00:00, 90.71it/s]\u001b[A\n",
      " 49%|####8     | 19/39 [00:00<00:00, 90.02it/s]\u001b[A\n",
      " 72%|#######1  | 28/39 [00:00<00:00, 89.21it/s]\u001b[A\n",
      " 95%|#########4| 37/39 [00:00<00:00, 88.86it/s]\u001b[A\n",
      "100%|##########| 39/39 [00:00<00:00, 85.43it/s]\u001b[A"
     ]
    },
    {
     "name": "stdout",
     "output_type": "stream",
     "text": [
      "{'ade': 0.3584699, 'fde': 0.77261984}\n",
      "\t last loss:0.000399701, eval on validation:['ade: 0.3584699', 'fde: 0.77261984'], (best ade:0.35868323 at step 7500) \n",
      "\t saving best model...\n",
      "\t done.\n"
     ]
    },
    {
     "name": "stderr",
     "output_type": "stream",
     "text": [
      "100%|██████████| 438/438 [00:19<00:00, 22.88it/s]\n",
      "  1%|          | 3/438 [00:00<00:17, 24.77it/s]"
     ]
    },
    {
     "name": "stdout",
     "output_type": "stream",
     "text": [
      "('Epoca 25.', 'lr:', 0.00028448363)\n"
     ]
    },
    {
     "name": "stderr",
     "output_type": "stream",
     "text": [
      " 65%|██████▌   | 285/438 [00:10<00:05, 27.16it/s]\n",
      "  0%|          | 0/39 [00:00<?, ?it/s]\u001b[A"
     ]
    },
    {
     "name": "stdout",
     "output_type": "stream",
     "text": [
      "\tsaving model 10800...\n",
      "\tdone\n",
      "Evaluating\n"
     ]
    },
    {
     "name": "stderr",
     "output_type": "stream",
     "text": [
      "\n",
      " 26%|##5       | 10/39 [00:00<00:00, 96.02it/s]\u001b[A\n",
      " 49%|####8     | 19/39 [00:00<00:00, 91.84it/s]\u001b[A\n",
      " 74%|#######4  | 29/39 [00:00<00:00, 92.83it/s]\u001b[A\n",
      " 66%|██████▋   | 291/438 [00:11<00:11, 12.78it/s]A"
     ]
    },
    {
     "name": "stdout",
     "output_type": "stream",
     "text": [
      "{'ade': 0.36170435, 'fde': 0.78521395}\n",
      "\t last loss:0.000178399, eval on validation:['ade: 0.36170435', 'fde: 0.78521395'], (best ade:0.3584699 at step 10500) \n"
     ]
    },
    {
     "name": "stderr",
     "output_type": "stream",
     "text": [
      "100%|██████████| 438/438 [00:17<00:00, 24.41it/s]\n",
      "  0%|          | 1/438 [00:00<00:49,  8.87it/s]"
     ]
    },
    {
     "name": "stdout",
     "output_type": "stream",
     "text": [
      "('Epoca 26.', 'lr:', 0.00028448363)\n"
     ]
    },
    {
     "name": "stderr",
     "output_type": "stream",
     "text": [
      " 34%|███▍      | 148/438 [00:05<00:11, 25.91it/s]\n",
      "  0%|          | 0/39 [00:00<?, ?it/s]\u001b[A"
     ]
    },
    {
     "name": "stdout",
     "output_type": "stream",
     "text": [
      "\tsaving model 11100...\n",
      "\tdone\n",
      "Evaluating\n"
     ]
    },
    {
     "name": "stderr",
     "output_type": "stream",
     "text": [
      "\n",
      " 23%|##3       | 9/39 [00:00<00:00, 85.31it/s]\u001b[A\n",
      " 46%|####6     | 18/39 [00:00<00:00, 85.83it/s]\u001b[A\n",
      " 69%|######9   | 27/39 [00:00<00:00, 86.73it/s]\u001b[A\n",
      " 92%|#########2| 36/39 [00:00<00:00, 87.55it/s]\u001b[A\n",
      " 35%|███▌      | 154/438 [00:06<00:23, 11.93it/s]A"
     ]
    },
    {
     "name": "stdout",
     "output_type": "stream",
     "text": [
      "{'ade': 0.35885307, 'fde': 0.77281505}\n",
      "\t last loss:0.000456187, eval on validation:['ade: 0.35885307', 'fde: 0.77281505'], (best ade:0.3584699 at step 10500) \n"
     ]
    },
    {
     "name": "stderr",
     "output_type": "stream",
     "text": [
      "100%|██████████| 438/438 [00:17<00:00, 24.63it/s]\n",
      "  0%|          | 1/438 [00:00<00:51,  8.57it/s]"
     ]
    },
    {
     "name": "stdout",
     "output_type": "stream",
     "text": [
      "('Epoca 27.', 'lr:', 0.0002418111)\n"
     ]
    },
    {
     "name": "stderr",
     "output_type": "stream",
     "text": [
      "  2%|▏         | 9/438 [00:00<00:30, 13.97it/s]"
     ]
    },
    {
     "name": "stdout",
     "output_type": "stream",
     "text": [
      "\tsaving model 11400...\n"
     ]
    },
    {
     "name": "stderr",
     "output_type": "stream",
     "text": [
      "\n",
      "  0%|          | 0/39 [00:00<?, ?it/s]\u001b[A\n",
      " 21%|##        | 8/39 [00:00<00:00, 71.52it/s]\u001b[A"
     ]
    },
    {
     "name": "stdout",
     "output_type": "stream",
     "text": [
      "\tdone\n",
      "Evaluating\n"
     ]
    },
    {
     "name": "stderr",
     "output_type": "stream",
     "text": [
      "\n",
      " 38%|###8      | 15/39 [00:00<00:00, 70.22it/s]\u001b[A\n",
      " 54%|#####3    | 21/39 [00:00<00:00, 66.54it/s]\u001b[A\n",
      " 72%|#######1  | 28/39 [00:00<00:00, 66.75it/s]\u001b[A\n",
      " 90%|########9 | 35/39 [00:00<00:00, 67.58it/s]\u001b[A\n",
      "100%|##########| 39/39 [00:00<00:00, 67.00it/s]\u001b[A"
     ]
    },
    {
     "name": "stdout",
     "output_type": "stream",
     "text": [
      "{'ade': 0.35255945, 'fde': 0.7506834}\n",
      "\t last loss:0.000472916, eval on validation:['ade: 0.35255945', 'fde: 0.7506834'], (best ade:0.3584699 at step 10500) \n",
      "\t saving best model...\n"
     ]
    },
    {
     "name": "stderr",
     "output_type": "stream",
     "text": [
      "  3%|▎         | 15/438 [00:01<00:54,  7.69it/s]"
     ]
    },
    {
     "name": "stdout",
     "output_type": "stream",
     "text": [
      "\t done.\n"
     ]
    },
    {
     "name": "stderr",
     "output_type": "stream",
     "text": [
      " 71%|███████   | 310/438 [00:14<00:06, 21.25it/s]\n",
      "  0%|          | 0/39 [00:00<?, ?it/s]\u001b[A"
     ]
    },
    {
     "name": "stdout",
     "output_type": "stream",
     "text": [
      "\tsaving model 11700...\n",
      "\tdone\n",
      "Evaluating\n"
     ]
    },
    {
     "name": "stderr",
     "output_type": "stream",
     "text": [
      "\n",
      " 15%|#5        | 6/39 [00:00<00:00, 57.23it/s]\u001b[A\n",
      " 31%|###       | 12/39 [00:00<00:00, 56.87it/s]\u001b[A\n",
      " 44%|####3     | 17/39 [00:00<00:00, 52.39it/s]\u001b[A\n",
      " 59%|#####8    | 23/39 [00:00<00:00, 53.30it/s]\u001b[A\n",
      " 72%|#######1  | 28/39 [00:00<00:00, 51.54it/s]\u001b[A\n",
      " 90%|########9 | 35/39 [00:00<00:00, 55.30it/s]\u001b[A\n",
      " 71%|███████▏  | 313/438 [00:15<00:18,  6.71it/s]A"
     ]
    },
    {
     "name": "stdout",
     "output_type": "stream",
     "text": [
      "{'ade': 0.37453836, 'fde': 0.81850195}\n",
      "\t last loss:0.000840686, eval on validation:['ade: 0.37453836', 'fde: 0.81850195'], (best ade:0.35255945 at step 11400) \n"
     ]
    },
    {
     "name": "stderr",
     "output_type": "stream",
     "text": [
      "100%|██████████| 438/438 [00:20<00:00, 26.09it/s]\n",
      "  0%|          | 2/438 [00:00<00:25, 17.00it/s]"
     ]
    },
    {
     "name": "stdout",
     "output_type": "stream",
     "text": [
      "('Epoca 28.', 'lr:', 0.0002418111)\n"
     ]
    },
    {
     "name": "stderr",
     "output_type": "stream",
     "text": [
      " 39%|███▉      | 173/438 [00:07<00:10, 26.07it/s]\n",
      "  0%|          | 0/39 [00:00<?, ?it/s]\u001b[A"
     ]
    },
    {
     "name": "stdout",
     "output_type": "stream",
     "text": [
      "\tsaving model 12000...\n",
      "\tdone\n",
      "Evaluating\n"
     ]
    },
    {
     "name": "stderr",
     "output_type": "stream",
     "text": [
      "\n",
      " 21%|##        | 8/39 [00:00<00:00, 77.25it/s]\u001b[A\n",
      " 41%|####1     | 16/39 [00:00<00:00, 77.60it/s]\u001b[A\n",
      " 64%|######4   | 25/39 [00:00<00:00, 80.19it/s]\u001b[A\n",
      " 87%|########7 | 34/39 [00:00<00:00, 82.21it/s]\u001b[A\n",
      " 40%|████      | 176/438 [00:07<00:28,  9.33it/s]A"
     ]
    },
    {
     "name": "stdout",
     "output_type": "stream",
     "text": [
      "{'ade': 0.37108895, 'fde': 0.8002901}\n",
      "\t last loss:0.000357004, eval on validation:['ade: 0.37108895', 'fde: 0.8002901'], (best ade:0.35255945 at step 11400) \n"
     ]
    },
    {
     "name": "stderr",
     "output_type": "stream",
     "text": [
      "100%|██████████| 438/438 [00:19<00:00, 21.77it/s]\n",
      "  0%|          | 2/438 [00:00<00:30, 14.51it/s]"
     ]
    },
    {
     "name": "stdout",
     "output_type": "stream",
     "text": [
      "('Epoca 29.', 'lr:', 0.00020553943)\n"
     ]
    },
    {
     "name": "stderr",
     "output_type": "stream",
     "text": [
      "  8%|▊         | 34/438 [00:01<00:19, 20.98it/s]\n",
      "  0%|          | 0/39 [00:00<?, ?it/s]\u001b[A"
     ]
    },
    {
     "name": "stdout",
     "output_type": "stream",
     "text": [
      "\tsaving model 12300...\n",
      "\tdone\n",
      "Evaluating\n"
     ]
    },
    {
     "name": "stderr",
     "output_type": "stream",
     "text": [
      "\n",
      " 18%|#7        | 7/39 [00:00<00:00, 66.47it/s]\u001b[A\n",
      " 38%|###8      | 15/39 [00:00<00:00, 68.18it/s]\u001b[A\n",
      " 56%|#####6    | 22/39 [00:00<00:00, 68.31it/s]\u001b[A\n",
      " 72%|#######1  | 28/39 [00:00<00:00, 64.31it/s]\u001b[A\n",
      " 92%|#########2| 36/39 [00:00<00:00, 67.57it/s]\u001b[A\n",
      "100%|##########| 39/39 [00:00<00:00, 66.60it/s]\u001b[A"
     ]
    },
    {
     "name": "stdout",
     "output_type": "stream",
     "text": [
      "{'ade': 0.35057494, 'fde': 0.738927}\n",
      "\t last loss:0.000387838, eval on validation:['ade: 0.35057494', 'fde: 0.738927'], (best ade:0.35255945 at step 11400) \n",
      "\t saving best model...\n",
      "\t done.\n"
     ]
    },
    {
     "name": "stderr",
     "output_type": "stream",
     "text": [
      " 76%|███████▌  | 333/438 [00:16<00:04, 25.04it/s]\n",
      "  0%|          | 0/39 [00:00<?, ?it/s]\u001b[A"
     ]
    },
    {
     "name": "stdout",
     "output_type": "stream",
     "text": [
      "\tsaving model 12600...\n",
      "\tdone\n",
      "Evaluating\n"
     ]
    },
    {
     "name": "stderr",
     "output_type": "stream",
     "text": [
      "\n",
      " 21%|##        | 8/39 [00:00<00:00, 78.42it/s]\u001b[A\n",
      " 44%|####3     | 17/39 [00:00<00:00, 81.25it/s]\u001b[A\n",
      " 67%|######6   | 26/39 [00:00<00:00, 83.43it/s]\u001b[A\n",
      " 90%|########9 | 35/39 [00:00<00:00, 84.61it/s]\u001b[A\n",
      " 77%|███████▋  | 339/438 [00:17<00:08, 11.66it/s]A"
     ]
    },
    {
     "name": "stdout",
     "output_type": "stream",
     "text": [
      "{'ade': 0.35289422, 'fde': 0.7610014}\n",
      "\t last loss:0.000404425, eval on validation:['ade: 0.35289422', 'fde: 0.7610014'], (best ade:0.35057494 at step 12300) \n"
     ]
    },
    {
     "name": "stderr",
     "output_type": "stream",
     "text": [
      "100%|██████████| 438/438 [00:21<00:00, 20.18it/s]\n",
      "  1%|          | 3/438 [00:00<00:19, 22.74it/s]"
     ]
    },
    {
     "name": "stdout",
     "output_type": "stream",
     "text": [
      "('Epoca 30.', 'lr:', 0.00020553943)\n"
     ]
    },
    {
     "name": "stderr",
     "output_type": "stream",
     "text": [
      " 45%|████▍     | 197/438 [00:08<00:09, 24.41it/s]\n",
      "  0%|          | 0/39 [00:00<?, ?it/s]\u001b[A"
     ]
    },
    {
     "name": "stdout",
     "output_type": "stream",
     "text": [
      "\tsaving model 12900...\n",
      "\tdone\n",
      "Evaluating\n"
     ]
    },
    {
     "name": "stderr",
     "output_type": "stream",
     "text": [
      "\n",
      " 21%|##        | 8/39 [00:00<00:00, 74.56it/s]\u001b[A\n",
      " 41%|####1     | 16/39 [00:00<00:00, 75.76it/s]\u001b[A\n",
      " 59%|#####8    | 23/39 [00:00<00:00, 73.55it/s]\u001b[A\n",
      " 82%|########2 | 32/39 [00:00<00:00, 77.41it/s]\u001b[A\n",
      "100%|##########| 39/39 [00:00<00:00, 78.08it/s]\u001b[A"
     ]
    },
    {
     "name": "stdout",
     "output_type": "stream",
     "text": [
      "{'ade': 0.34834313, 'fde': 0.74325895}\n",
      "\t last loss:0.000189456, eval on validation:['ade: 0.34834313', 'fde: 0.74325895'], (best ade:0.35057494 at step 12300) \n",
      "\t saving best model...\n",
      "\t done.\n"
     ]
    },
    {
     "name": "stderr",
     "output_type": "stream",
     "text": [
      "100%|██████████| 438/438 [00:20<00:00, 21.19it/s]\n",
      "  0%|          | 1/438 [00:00<00:56,  7.68it/s]"
     ]
    },
    {
     "name": "stdout",
     "output_type": "stream",
     "text": [
      "('Epoca 31.', 'lr:', 0.00017470852)\n"
     ]
    },
    {
     "name": "stderr",
     "output_type": "stream",
     "text": [
      " 13%|█▎        | 59/438 [00:02<00:18, 20.16it/s]\n",
      "  0%|          | 0/39 [00:00<?, ?it/s]\u001b[A"
     ]
    },
    {
     "name": "stdout",
     "output_type": "stream",
     "text": [
      "\tsaving model 13200...\n",
      "\tdone\n",
      "Evaluating\n"
     ]
    },
    {
     "name": "stderr",
     "output_type": "stream",
     "text": [
      "\n",
      " 21%|##        | 8/39 [00:00<00:00, 73.89it/s]\u001b[A\n",
      " 44%|####3     | 17/39 [00:00<00:00, 77.03it/s]\u001b[A\n",
      " 67%|######6   | 26/39 [00:00<00:00, 79.96it/s]\u001b[A\n",
      " 90%|########9 | 35/39 [00:00<00:00, 82.37it/s]\u001b[A\n",
      " 14%|█▍        | 62/438 [00:03<00:42,  8.79it/s][A"
     ]
    },
    {
     "name": "stdout",
     "output_type": "stream",
     "text": [
      "{'ade': 0.3545993, 'fde': 0.7560034}\n",
      "\t last loss:0.000359289, eval on validation:['ade: 0.3545993', 'fde: 0.7560034'], (best ade:0.34834313 at step 12900) \n"
     ]
    },
    {
     "name": "stderr",
     "output_type": "stream",
     "text": [
      " 82%|████████▏ | 358/438 [00:15<00:03, 25.81it/s]\n",
      "  0%|          | 0/39 [00:00<?, ?it/s]\u001b[A"
     ]
    },
    {
     "name": "stdout",
     "output_type": "stream",
     "text": [
      "\tsaving model 13500...\n",
      "\tdone\n",
      "Evaluating\n"
     ]
    },
    {
     "name": "stderr",
     "output_type": "stream",
     "text": [
      "\n",
      " 21%|##        | 8/39 [00:00<00:00, 75.62it/s]\u001b[A\n",
      " 41%|####1     | 16/39 [00:00<00:00, 76.01it/s]\u001b[A\n",
      " 59%|#####8    | 23/39 [00:00<00:00, 72.95it/s]\u001b[A\n",
      " 79%|#######9  | 31/39 [00:00<00:00, 74.27it/s]\u001b[A\n",
      " 82%|████████▏ | 361/438 [00:16<00:08,  9.01it/s]A"
     ]
    },
    {
     "name": "stdout",
     "output_type": "stream",
     "text": [
      "{'ade': 0.34944898, 'fde': 0.7454765}\n",
      "\t last loss:0.000333841, eval on validation:['ade: 0.34944898', 'fde: 0.7454765'], (best ade:0.34834313 at step 12900) \n"
     ]
    },
    {
     "name": "stderr",
     "output_type": "stream",
     "text": [
      "100%|██████████| 438/438 [00:20<00:00, 21.83it/s]\n",
      "  1%|          | 3/438 [00:00<00:19, 22.88it/s]"
     ]
    },
    {
     "name": "stdout",
     "output_type": "stream",
     "text": [
      "('Epoca 32.', 'lr:', 0.00017470852)\n"
     ]
    },
    {
     "name": "stderr",
     "output_type": "stream",
     "text": [
      " 50%|█████     | 219/438 [00:08<00:08, 26.17it/s]\n",
      "  0%|          | 0/39 [00:00<?, ?it/s]\u001b[A"
     ]
    },
    {
     "name": "stdout",
     "output_type": "stream",
     "text": [
      "\tsaving model 13800...\n",
      "\tdone\n",
      "Evaluating\n"
     ]
    },
    {
     "name": "stderr",
     "output_type": "stream",
     "text": [
      "\n",
      " 23%|##3       | 9/39 [00:00<00:00, 85.49it/s]\u001b[A\n",
      " 46%|####6     | 18/39 [00:00<00:00, 86.70it/s]\u001b[A\n",
      " 72%|#######1  | 28/39 [00:00<00:00, 88.75it/s]\u001b[A\n",
      " 97%|#########7| 38/39 [00:00<00:00, 90.00it/s]\u001b[A\n",
      " 51%|█████▏    | 225/438 [00:09<00:17, 12.22it/s]A"
     ]
    },
    {
     "name": "stdout",
     "output_type": "stream",
     "text": [
      "{'ade': 0.36530966, 'fde': 0.7936278}\n",
      "\t last loss:0.000320483, eval on validation:['ade: 0.36530966', 'fde: 0.7936278'], (best ade:0.34834313 at step 12900) \n"
     ]
    },
    {
     "name": "stderr",
     "output_type": "stream",
     "text": [
      "100%|██████████| 438/438 [00:18<00:00, 23.07it/s]\n",
      "  0%|          | 2/438 [00:00<00:25, 16.90it/s]"
     ]
    },
    {
     "name": "stdout",
     "output_type": "stream",
     "text": [
      "('Epoca 33.', 'lr:', 0.00014850224)\n"
     ]
    },
    {
     "name": "stderr",
     "output_type": "stream",
     "text": [
      " 19%|█▉        | 83/438 [00:03<00:15, 22.24it/s]\n",
      "  0%|          | 0/39 [00:00<?, ?it/s]\u001b[A"
     ]
    },
    {
     "name": "stdout",
     "output_type": "stream",
     "text": [
      "\tsaving model 14100...\n",
      "\tdone\n",
      "Evaluating\n"
     ]
    },
    {
     "name": "stderr",
     "output_type": "stream",
     "text": [
      "\n",
      " 21%|##        | 8/39 [00:00<00:00, 78.64it/s]\u001b[A\n",
      " 41%|####1     | 16/39 [00:00<00:00, 78.15it/s]\u001b[A\n",
      " 59%|#####8    | 23/39 [00:00<00:00, 74.55it/s]\u001b[A\n",
      " 82%|########2 | 32/39 [00:00<00:00, 76.54it/s]\u001b[A\n",
      "100%|##########| 39/39 [00:00<00:00, 77.11it/s]\u001b[A"
     ]
    },
    {
     "name": "stdout",
     "output_type": "stream",
     "text": [
      "{'ade': 0.34448102, 'fde': 0.73893934}\n",
      "\t last loss:0.000499979, eval on validation:['ade: 0.34448102', 'fde: 0.73893934'], (best ade:0.34834313 at step 12900) \n",
      "\t saving best model...\n",
      "\t done.\n"
     ]
    },
    {
     "name": "stderr",
     "output_type": "stream",
     "text": [
      " 87%|████████▋ | 382/438 [00:17<00:02, 21.67it/s]\n",
      "  0%|          | 0/39 [00:00<?, ?it/s]\u001b[A"
     ]
    },
    {
     "name": "stdout",
     "output_type": "stream",
     "text": [
      "\tsaving model 14400...\n",
      "\tdone\n",
      "Evaluating\n"
     ]
    },
    {
     "name": "stderr",
     "output_type": "stream",
     "text": [
      "\n",
      " 18%|#7        | 7/39 [00:00<00:00, 68.73it/s]\u001b[A\n",
      " 41%|####1     | 16/39 [00:00<00:00, 73.04it/s]\u001b[A\n",
      " 64%|######4   | 25/39 [00:00<00:00, 76.64it/s]\u001b[A\n",
      " 87%|########7 | 34/39 [00:00<00:00, 79.36it/s]\u001b[A\n",
      " 89%|████████▊ | 388/438 [00:18<00:04, 11.09it/s]A"
     ]
    },
    {
     "name": "stdout",
     "output_type": "stream",
     "text": [
      "{'ade': 0.36693963, 'fde': 0.793379}\n",
      "\t last loss:0.000628582, eval on validation:['ade: 0.36693963', 'fde: 0.793379'], (best ade:0.34448102 at step 14100) \n"
     ]
    },
    {
     "name": "stderr",
     "output_type": "stream",
     "text": [
      "100%|██████████| 438/438 [00:20<00:00, 21.15it/s]\n",
      "  0%|          | 2/438 [00:00<00:26, 16.61it/s]"
     ]
    },
    {
     "name": "stdout",
     "output_type": "stream",
     "text": [
      "('Epoca 34.', 'lr:', 0.00014850224)\n"
     ]
    },
    {
     "name": "stderr",
     "output_type": "stream",
     "text": [
      " 55%|█████▌    | 243/438 [00:10<00:07, 25.22it/s]\n",
      "  0%|          | 0/39 [00:00<?, ?it/s]\u001b[A"
     ]
    },
    {
     "name": "stdout",
     "output_type": "stream",
     "text": [
      "\tsaving model 14700...\n",
      "\tdone\n",
      "Evaluating\n"
     ]
    },
    {
     "name": "stderr",
     "output_type": "stream",
     "text": [
      "\n",
      " 21%|##        | 8/39 [00:00<00:00, 66.99it/s]\u001b[A\n",
      " 41%|####1     | 16/39 [00:00<00:00, 69.75it/s]\u001b[A\n",
      " 59%|#####8    | 23/39 [00:00<00:00, 69.75it/s]\u001b[A\n",
      " 79%|#######9  | 31/39 [00:00<00:00, 71.59it/s]\u001b[A\n",
      " 97%|#########7| 38/39 [00:00<00:00, 71.09it/s]\u001b[A\n",
      " 57%|█████▋    | 249/438 [00:11<00:17, 10.98it/s]A"
     ]
    },
    {
     "name": "stdout",
     "output_type": "stream",
     "text": [
      "{'ade': 0.3470914, 'fde': 0.7407518}\n",
      "\t last loss:0.000465812, eval on validation:['ade: 0.3470914', 'fde: 0.7407518'], (best ade:0.34448102 at step 14100) \n"
     ]
    },
    {
     "name": "stderr",
     "output_type": "stream",
     "text": [
      "100%|██████████| 438/438 [00:19<00:00, 26.31it/s]\n",
      "  0%|          | 1/438 [00:00<00:46,  9.42it/s]"
     ]
    },
    {
     "name": "stdout",
     "output_type": "stream",
     "text": [
      "('Epoca 35.', 'lr:', 0.0001262269)\n"
     ]
    },
    {
     "name": "stderr",
     "output_type": "stream",
     "text": [
      " 24%|██▍       | 106/438 [00:04<00:13, 25.19it/s]\n",
      "  0%|          | 0/39 [00:00<?, ?it/s]\u001b[A"
     ]
    },
    {
     "name": "stdout",
     "output_type": "stream",
     "text": [
      "\tsaving model 15000...\n",
      "\tdone\n",
      "Evaluating\n"
     ]
    },
    {
     "name": "stderr",
     "output_type": "stream",
     "text": [
      "\n",
      " 23%|##3       | 9/39 [00:00<00:00, 89.09it/s]\u001b[A\n",
      " 46%|####6     | 18/39 [00:00<00:00, 88.39it/s]\u001b[A\n",
      " 69%|######9   | 27/39 [00:00<00:00, 87.79it/s]\u001b[A\n",
      " 90%|########9 | 35/39 [00:00<00:00, 83.23it/s]\u001b[A\n",
      " 26%|██▌       | 112/438 [00:05<00:27, 11.79it/s]A"
     ]
    },
    {
     "name": "stdout",
     "output_type": "stream",
     "text": [
      "{'ade': 0.3495206, 'fde': 0.7536454}\n",
      "\t last loss:0.000169870, eval on validation:['ade: 0.3495206', 'fde: 0.7536454'], (best ade:0.34448102 at step 14100) \n"
     ]
    },
    {
     "name": "stderr",
     "output_type": "stream",
     "text": [
      " 93%|█████████▎| 407/438 [00:17<00:01, 20.76it/s]"
     ]
    },
    {
     "name": "stdout",
     "output_type": "stream",
     "text": [
      "\tsaving model 15300...\n"
     ]
    },
    {
     "name": "stderr",
     "output_type": "stream",
     "text": [
      "\n",
      "  0%|          | 0/39 [00:00<?, ?it/s]\u001b[A\n",
      " 21%|##        | 8/39 [00:00<00:00, 73.86it/s]\u001b[A"
     ]
    },
    {
     "name": "stdout",
     "output_type": "stream",
     "text": [
      "\tdone\n",
      "Evaluating\n"
     ]
    },
    {
     "name": "stderr",
     "output_type": "stream",
     "text": [
      "\n",
      " 38%|###8      | 15/39 [00:00<00:00, 72.47it/s]\u001b[A\n",
      " 59%|#####8    | 23/39 [00:00<00:00, 73.69it/s]\u001b[A\n",
      " 79%|#######9  | 31/39 [00:00<00:00, 75.47it/s]\u001b[A\n",
      " 94%|█████████▎| 410/438 [00:18<00:03,  8.31it/s]A"
     ]
    },
    {
     "name": "stdout",
     "output_type": "stream",
     "text": [
      "{'ade': 0.35041806, 'fde': 0.75373006}\n",
      "\t last loss:0.000422838, eval on validation:['ade: 0.35041806', 'fde: 0.75373006'], (best ade:0.34448102 at step 14100) \n"
     ]
    },
    {
     "name": "stderr",
     "output_type": "stream",
     "text": [
      "100%|██████████| 438/438 [00:20<00:00, 21.72it/s]\n",
      "  0%|          | 1/438 [00:00<00:48,  9.09it/s]"
     ]
    },
    {
     "name": "stdout",
     "output_type": "stream",
     "text": [
      "('Epoca 36.', 'lr:', 0.0001262269)\n"
     ]
    },
    {
     "name": "stderr",
     "output_type": "stream",
     "text": [
      " 61%|██████    | 268/438 [00:10<00:07, 22.19it/s]\n",
      "  0%|          | 0/39 [00:00<?, ?it/s]\u001b[A"
     ]
    },
    {
     "name": "stdout",
     "output_type": "stream",
     "text": [
      "\tsaving model 15600...\n",
      "\tdone\n",
      "Evaluating\n"
     ]
    },
    {
     "name": "stderr",
     "output_type": "stream",
     "text": [
      "\n",
      " 23%|##3       | 9/39 [00:00<00:00, 88.78it/s]\u001b[A\n",
      " 46%|####6     | 18/39 [00:00<00:00, 87.84it/s]\u001b[A\n",
      " 69%|######9   | 27/39 [00:00<00:00, 87.18it/s]\u001b[A\n",
      " 92%|#########2| 36/39 [00:00<00:00, 87.12it/s]\u001b[A\n",
      " 62%|██████▏   | 271/438 [00:11<00:17,  9.31it/s]A"
     ]
    },
    {
     "name": "stdout",
     "output_type": "stream",
     "text": [
      "{'ade': 0.3547076, 'fde': 0.76007193}\n",
      "\t last loss:0.000584879, eval on validation:['ade: 0.3547076', 'fde: 0.76007193'], (best ade:0.34448102 at step 14100) \n"
     ]
    },
    {
     "name": "stderr",
     "output_type": "stream",
     "text": [
      "100%|██████████| 438/438 [00:18<00:00, 23.89it/s]\n",
      "  0%|          | 1/438 [00:00<00:50,  8.74it/s]"
     ]
    },
    {
     "name": "stdout",
     "output_type": "stream",
     "text": [
      "('Epoca 37.', 'lr:', 0.00010729288)\n"
     ]
    },
    {
     "name": "stderr",
     "output_type": "stream",
     "text": [
      " 30%|██▉       | 130/438 [00:05<00:11, 27.26it/s]\n",
      "  0%|          | 0/39 [00:00<?, ?it/s]\u001b[A"
     ]
    },
    {
     "name": "stdout",
     "output_type": "stream",
     "text": [
      "\tsaving model 15900...\n",
      "\tdone\n",
      "Evaluating\n"
     ]
    },
    {
     "name": "stderr",
     "output_type": "stream",
     "text": [
      "\n",
      " 26%|##5       | 10/39 [00:00<00:00, 95.21it/s]\u001b[A\n",
      " 49%|####8     | 19/39 [00:00<00:00, 90.82it/s]\u001b[A\n",
      " 72%|#######1  | 28/39 [00:00<00:00, 89.84it/s]\u001b[A\n",
      " 97%|#########7| 38/39 [00:00<00:00, 89.79it/s]\u001b[A\n",
      " 30%|███       | 133/438 [00:05<00:31,  9.76it/s]A"
     ]
    },
    {
     "name": "stdout",
     "output_type": "stream",
     "text": [
      "{'ade': 0.34453192, 'fde': 0.73873395}\n",
      "\t last loss:0.000329254, eval on validation:['ade: 0.34453192', 'fde: 0.73873395'], (best ade:0.34448102 at step 14100) \n"
     ]
    },
    {
     "name": "stderr",
     "output_type": "stream",
     "text": [
      " 98%|█████████▊| 429/438 [00:18<00:00, 26.01it/s]\n",
      "  0%|          | 0/39 [00:00<?, ?it/s]\u001b[A"
     ]
    },
    {
     "name": "stdout",
     "output_type": "stream",
     "text": [
      "\tsaving model 16200...\n",
      "\tdone\n",
      "Evaluating\n"
     ]
    },
    {
     "name": "stderr",
     "output_type": "stream",
     "text": [
      "\n",
      " 23%|##3       | 9/39 [00:00<00:00, 86.69it/s]\u001b[A\n",
      " 46%|####6     | 18/39 [00:00<00:00, 85.98it/s]\u001b[A\n",
      " 72%|#######1  | 28/39 [00:00<00:00, 88.98it/s]\u001b[A\n",
      " 97%|#########7| 38/39 [00:00<00:00, 91.01it/s]\u001b[A\n",
      " 99%|█████████▉| 435/438 [00:19<00:00, 12.36it/s]A"
     ]
    },
    {
     "name": "stdout",
     "output_type": "stream",
     "text": [
      "{'ade': 0.34832034, 'fde': 0.74589044}\n",
      "\t last loss:0.000353319, eval on validation:['ade: 0.34832034', 'fde: 0.74589044'], (best ade:0.34448102 at step 14100) \n"
     ]
    },
    {
     "name": "stderr",
     "output_type": "stream",
     "text": [
      "100%|██████████| 438/438 [00:19<00:00, 14.71it/s]\n",
      "  0%|          | 1/438 [00:00<00:44,  9.72it/s]"
     ]
    },
    {
     "name": "stdout",
     "output_type": "stream",
     "text": [
      "('Epoca 38.', 'lr:', 0.00010729288)\n"
     ]
    },
    {
     "name": "stderr",
     "output_type": "stream",
     "text": [
      " 67%|██████▋   | 292/438 [00:13<00:08, 16.83it/s]"
     ]
    },
    {
     "name": "stdout",
     "output_type": "stream",
     "text": [
      "\tsaving model 16500...\n"
     ]
    },
    {
     "name": "stderr",
     "output_type": "stream",
     "text": [
      "\n",
      "  0%|          | 0/39 [00:00<?, ?it/s]\u001b[A\n",
      " 15%|#5        | 6/39 [00:00<00:00, 57.59it/s]\u001b[A"
     ]
    },
    {
     "name": "stdout",
     "output_type": "stream",
     "text": [
      "\tdone\n",
      "Evaluating\n"
     ]
    },
    {
     "name": "stderr",
     "output_type": "stream",
     "text": [
      "\n",
      " 28%|##8       | 11/39 [00:00<00:00, 53.92it/s]\u001b[A\n",
      " 38%|###8      | 15/39 [00:00<00:00, 48.80it/s]\u001b[A\n",
      " 51%|#####1    | 20/39 [00:00<00:00, 48.84it/s]\u001b[A\n",
      " 67%|######6   | 26/39 [00:00<00:00, 50.70it/s]\u001b[A\n",
      " 79%|#######9  | 31/39 [00:00<00:00, 48.36it/s]\u001b[A\n",
      " 97%|#########7| 38/39 [00:00<00:00, 52.57it/s]\u001b[A\n",
      "100%|##########| 39/39 [00:00<00:00, 51.20it/s]\u001b[A"
     ]
    },
    {
     "name": "stdout",
     "output_type": "stream",
     "text": [
      "{'ade': 0.33880028, 'fde': 0.7239075}\n",
      "\t last loss:0.000417249, eval on validation:['ade: 0.33880028', 'fde: 0.7239075'], (best ade:0.34448102 at step 14100) \n",
      "\t saving best model...\n",
      "\t done.\n"
     ]
    },
    {
     "name": "stderr",
     "output_type": "stream",
     "text": [
      "100%|██████████| 438/438 [00:21<00:00, 20.60it/s]\n",
      "  0%|          | 2/438 [00:00<00:22, 19.76it/s]"
     ]
    },
    {
     "name": "stdout",
     "output_type": "stream",
     "text": [
      "('Epoca 39.', 'lr:', 9.119895e-05)\n"
     ]
    },
    {
     "name": "stderr",
     "output_type": "stream",
     "text": [
      " 35%|███▌      | 154/438 [00:06<00:11, 24.36it/s]\n",
      "  0%|          | 0/39 [00:00<?, ?it/s]\u001b[A"
     ]
    },
    {
     "name": "stdout",
     "output_type": "stream",
     "text": [
      "\tsaving model 16800...\n",
      "\tdone\n",
      "Evaluating\n"
     ]
    },
    {
     "name": "stderr",
     "output_type": "stream",
     "text": [
      "\n",
      " 21%|##        | 8/39 [00:00<00:00, 71.10it/s]\u001b[A\n",
      " 41%|####1     | 16/39 [00:00<00:00, 72.33it/s]\u001b[A\n",
      " 62%|######1   | 24/39 [00:00<00:00, 73.33it/s]\u001b[A\n",
      " 85%|########4 | 33/39 [00:00<00:00, 75.60it/s]\u001b[A\n",
      " 36%|███▌      | 157/438 [00:07<00:31,  8.92it/s]A"
     ]
    },
    {
     "name": "stdout",
     "output_type": "stream",
     "text": [
      "{'ade': 0.34224668, 'fde': 0.7295385}\n",
      "\t last loss:0.000531568, eval on validation:['ade: 0.34224668', 'fde: 0.7295385'], (best ade:0.33880028 at step 16500) \n"
     ]
    },
    {
     "name": "stderr",
     "output_type": "stream",
     "text": [
      "100%|██████████| 438/438 [00:18<00:00, 23.26it/s]\n",
      "  0%|          | 1/438 [00:00<00:52,  8.36it/s]"
     ]
    },
    {
     "name": "stdout",
     "output_type": "stream",
     "text": [
      "('Epoca 40.', 'lr:', 9.119895e-05)\n"
     ]
    },
    {
     "name": "stderr",
     "output_type": "stream",
     "text": [
      "  3%|▎         | 15/438 [00:00<00:22, 18.99it/s]\n",
      "  0%|          | 0/39 [00:00<?, ?it/s]\u001b[A"
     ]
    },
    {
     "name": "stdout",
     "output_type": "stream",
     "text": [
      "\tsaving model 17100...\n",
      "\tdone\n",
      "Evaluating\n"
     ]
    },
    {
     "name": "stderr",
     "output_type": "stream",
     "text": [
      "\n",
      " 23%|##3       | 9/39 [00:00<00:00, 85.07it/s]\u001b[A\n",
      " 49%|####8     | 19/39 [00:00<00:00, 87.23it/s]\u001b[A\n",
      " 69%|######9   | 27/39 [00:00<00:00, 84.01it/s]\u001b[A\n",
      " 95%|#########4| 37/39 [00:00<00:00, 86.15it/s]\u001b[A\n",
      "  5%|▍         | 21/438 [00:01<00:37, 11.21it/s][A"
     ]
    },
    {
     "name": "stdout",
     "output_type": "stream",
     "text": [
      "{'ade': 0.34308428, 'fde': 0.7265135}\n",
      "\t last loss:0.000487994, eval on validation:['ade: 0.34308428', 'fde: 0.7265135'], (best ade:0.33880028 at step 16500) \n"
     ]
    },
    {
     "name": "stderr",
     "output_type": "stream",
     "text": [
      " 72%|███████▏  | 316/438 [00:14<00:06, 19.41it/s]\n",
      "  0%|          | 0/39 [00:00<?, ?it/s]\u001b[A"
     ]
    },
    {
     "name": "stdout",
     "output_type": "stream",
     "text": [
      "\tsaving model 17400...\n",
      "\tdone\n",
      "Evaluating\n"
     ]
    },
    {
     "name": "stderr",
     "output_type": "stream",
     "text": [
      "\n",
      " 21%|##        | 8/39 [00:00<00:00, 74.37it/s]\u001b[A\n",
      " 41%|####1     | 16/39 [00:00<00:00, 75.41it/s]\u001b[A\n",
      " 54%|#####3    | 21/39 [00:00<00:00, 65.42it/s]\u001b[A\n",
      " 72%|#######1  | 28/39 [00:00<00:00, 66.17it/s]\u001b[A\n",
      " 92%|#########2| 36/39 [00:00<00:00, 68.66it/s]\u001b[A\n",
      " 73%|███████▎  | 321/438 [00:15<00:14,  7.97it/s]A"
     ]
    },
    {
     "name": "stdout",
     "output_type": "stream",
     "text": [
      "{'ade': 0.34389716, 'fde': 0.73523253}\n",
      "\t last loss:0.000447287, eval on validation:['ade: 0.34389716', 'fde: 0.73523253'], (best ade:0.33880028 at step 16500) \n"
     ]
    },
    {
     "name": "stderr",
     "output_type": "stream",
     "text": [
      "100%|██████████| 438/438 [00:22<00:00, 19.49it/s]\n",
      "  0%|          | 1/438 [00:00<00:50,  8.67it/s]"
     ]
    },
    {
     "name": "stdout",
     "output_type": "stream",
     "text": [
      "('Epoca 41.', 'lr:', 7.751911e-05)\n"
     ]
    },
    {
     "name": "stderr",
     "output_type": "stream",
     "text": [
      " 41%|████      | 178/438 [00:07<00:11, 23.62it/s]\n",
      "  0%|          | 0/39 [00:00<?, ?it/s]\u001b[A"
     ]
    },
    {
     "name": "stdout",
     "output_type": "stream",
     "text": [
      "\tsaving model 17700...\n",
      "\tdone\n",
      "Evaluating\n"
     ]
    },
    {
     "name": "stderr",
     "output_type": "stream",
     "text": [
      "\n",
      " 21%|##        | 8/39 [00:00<00:00, 74.09it/s]\u001b[A\n",
      " 41%|####1     | 16/39 [00:00<00:00, 73.72it/s]\u001b[A\n",
      " 64%|######4   | 25/39 [00:00<00:00, 76.50it/s]\u001b[A\n",
      " 85%|########4 | 33/39 [00:00<00:00, 76.13it/s]\u001b[A\n",
      " 41%|████▏     | 181/438 [00:08<00:28,  8.92it/s]A"
     ]
    },
    {
     "name": "stdout",
     "output_type": "stream",
     "text": [
      "{'ade': 0.35377836, 'fde': 0.76213133}\n",
      "\t last loss:0.000351338, eval on validation:['ade: 0.35377836', 'fde: 0.76213133'], (best ade:0.33880028 at step 16500) \n"
     ]
    },
    {
     "name": "stderr",
     "output_type": "stream",
     "text": [
      "100%|██████████| 438/438 [00:19<00:00, 22.09it/s]\n",
      "  0%|          | 1/438 [00:00<00:48,  9.04it/s]"
     ]
    },
    {
     "name": "stdout",
     "output_type": "stream",
     "text": [
      "('Epoca 42.', 'lr:', 7.751911e-05)\n"
     ]
    },
    {
     "name": "stderr",
     "output_type": "stream",
     "text": [
      "  9%|▉         | 40/438 [00:01<00:17, 22.54it/s]\n",
      "  0%|          | 0/39 [00:00<?, ?it/s]\u001b[A"
     ]
    },
    {
     "name": "stdout",
     "output_type": "stream",
     "text": [
      "\tsaving model 18000...\n",
      "\tdone\n",
      "Evaluating\n"
     ]
    },
    {
     "name": "stderr",
     "output_type": "stream",
     "text": [
      "\n",
      " 21%|##        | 8/39 [00:00<00:00, 74.58it/s]\u001b[A\n",
      " 44%|####3     | 17/39 [00:00<00:00, 76.61it/s]\u001b[A\n",
      " 67%|######6   | 26/39 [00:00<00:00, 79.03it/s]\u001b[A\n",
      " 90%|########9 | 35/39 [00:00<00:00, 80.93it/s]\u001b[A\n",
      " 11%|█         | 46/438 [00:02<00:35, 11.03it/s][A"
     ]
    },
    {
     "name": "stdout",
     "output_type": "stream",
     "text": [
      "{'ade': 0.34654492, 'fde': 0.7387959}\n",
      "\t last loss:0.000182781, eval on validation:['ade: 0.34654492', 'fde: 0.7387959'], (best ade:0.33880028 at step 16500) \n"
     ]
    },
    {
     "name": "stderr",
     "output_type": "stream",
     "text": [
      " 78%|███████▊  | 340/438 [00:15<00:04, 21.72it/s]\n",
      "  0%|          | 0/39 [00:00<?, ?it/s]\u001b[A"
     ]
    },
    {
     "name": "stdout",
     "output_type": "stream",
     "text": [
      "\tsaving model 18300...\n",
      "\tdone\n",
      "Evaluating\n"
     ]
    },
    {
     "name": "stderr",
     "output_type": "stream",
     "text": [
      "\n",
      " 21%|##        | 8/39 [00:00<00:00, 79.15it/s]\u001b[A\n",
      " 41%|####1     | 16/39 [00:00<00:00, 78.86it/s]\u001b[A\n",
      " 64%|######4   | 25/39 [00:00<00:00, 81.87it/s]\u001b[A\n",
      " 87%|########7 | 34/39 [00:00<00:00, 83.60it/s]\u001b[A\n",
      " 78%|███████▊  | 343/438 [00:16<00:11,  8.51it/s]A"
     ]
    },
    {
     "name": "stdout",
     "output_type": "stream",
     "text": [
      "{'ade': 0.3444821, 'fde': 0.7353764}\n",
      "\t last loss:0.000435102, eval on validation:['ade: 0.3444821', 'fde: 0.7353764'], (best ade:0.33880028 at step 16500) \n"
     ]
    },
    {
     "name": "stderr",
     "output_type": "stream",
     "text": [
      "100%|██████████| 438/438 [00:21<00:00, 20.70it/s]\n",
      "  0%|          | 1/438 [00:00<00:49,  8.82it/s]"
     ]
    },
    {
     "name": "stdout",
     "output_type": "stream",
     "text": [
      "('Epoca 43.', 'lr:', 6.589125e-05)\n"
     ]
    },
    {
     "name": "stderr",
     "output_type": "stream",
     "text": [
      " 46%|████▌     | 202/438 [00:09<00:09, 24.32it/s]\n",
      "  0%|          | 0/39 [00:00<?, ?it/s]\u001b[A"
     ]
    },
    {
     "name": "stdout",
     "output_type": "stream",
     "text": [
      "\tsaving model 18600...\n",
      "\tdone\n",
      "Evaluating\n"
     ]
    },
    {
     "name": "stderr",
     "output_type": "stream",
     "text": [
      "\n",
      " 23%|##3       | 9/39 [00:00<00:00, 84.94it/s]\u001b[A\n",
      " 44%|####3     | 17/39 [00:00<00:00, 80.84it/s]\u001b[A\n",
      " 67%|######6   | 26/39 [00:00<00:00, 81.64it/s]\u001b[A\n",
      " 87%|########7 | 34/39 [00:00<00:00, 80.92it/s]\u001b[A\n",
      " 47%|████▋     | 205/438 [00:09<00:25,  9.04it/s]A"
     ]
    },
    {
     "name": "stdout",
     "output_type": "stream",
     "text": [
      "{'ade': 0.3429531, 'fde': 0.73492545}\n",
      "\t last loss:0.000426465, eval on validation:['ade: 0.3429531', 'fde: 0.73492545'], (best ade:0.33880028 at step 16500) \n"
     ]
    },
    {
     "name": "stderr",
     "output_type": "stream",
     "text": [
      "100%|██████████| 438/438 [00:20<00:00, 20.85it/s]\n",
      "  0%|          | 2/438 [00:00<00:34, 12.64it/s]"
     ]
    },
    {
     "name": "stdout",
     "output_type": "stream",
     "text": [
      "('Epoca 44.', 'lr:', 6.589125e-05)\n"
     ]
    },
    {
     "name": "stderr",
     "output_type": "stream",
     "text": [
      " 15%|█▍        | 64/438 [00:03<00:17, 21.96it/s]\n",
      "  0%|          | 0/39 [00:00<?, ?it/s]\u001b[A"
     ]
    },
    {
     "name": "stdout",
     "output_type": "stream",
     "text": [
      "\tsaving model 18900...\n",
      "\tdone\n",
      "Evaluating\n"
     ]
    },
    {
     "name": "stderr",
     "output_type": "stream",
     "text": [
      "\n",
      " 18%|#7        | 7/39 [00:00<00:00, 66.52it/s]\u001b[A\n",
      " 36%|###5      | 14/39 [00:00<00:00, 66.76it/s]\u001b[A\n",
      " 54%|#####3    | 21/39 [00:00<00:00, 65.60it/s]\u001b[A\n",
      " 74%|#######4  | 29/39 [00:00<00:00, 68.09it/s]\u001b[A\n",
      " 95%|#########4| 37/39 [00:00<00:00, 69.78it/s]\u001b[A\n",
      " 15%|█▌        | 67/438 [00:04<00:46,  8.01it/s][A"
     ]
    },
    {
     "name": "stdout",
     "output_type": "stream",
     "text": [
      "{'ade': 0.34337485, 'fde': 0.7355883}\n",
      "\t last loss:0.000345636, eval on validation:['ade: 0.34337485', 'fde: 0.7355883'], (best ade:0.33880028 at step 16500) \n"
     ]
    },
    {
     "name": "stderr",
     "output_type": "stream",
     "text": [
      " 83%|████████▎ | 364/438 [00:17<00:02, 26.19it/s]\n",
      "  0%|          | 0/39 [00:00<?, ?it/s]\u001b[A"
     ]
    },
    {
     "name": "stdout",
     "output_type": "stream",
     "text": [
      "\tsaving model 19200...\n",
      "\tdone\n",
      "Evaluating\n"
     ]
    },
    {
     "name": "stderr",
     "output_type": "stream",
     "text": [
      "\n",
      " 23%|##3       | 9/39 [00:00<00:00, 87.77it/s]\u001b[A\n",
      " 49%|####8     | 19/39 [00:00<00:00, 89.12it/s]\u001b[A\n",
      " 74%|#######4  | 29/39 [00:00<00:00, 89.90it/s]\u001b[A\n",
      " 84%|████████▍ | 370/438 [00:17<00:05, 12.28it/s]A"
     ]
    },
    {
     "name": "stdout",
     "output_type": "stream",
     "text": [
      "{'ade': 0.34961617, 'fde': 0.7485978}\n",
      "\t last loss:0.000327043, eval on validation:['ade: 0.34961617', 'fde: 0.7485978'], (best ade:0.33880028 at step 16500) \n"
     ]
    },
    {
     "name": "stderr",
     "output_type": "stream",
     "text": [
      "100%|██████████| 438/438 [00:20<00:00, 20.99it/s]\n",
      "  0%|          | 2/438 [00:00<00:29, 14.68it/s]"
     ]
    },
    {
     "name": "stdout",
     "output_type": "stream",
     "text": [
      "('Epoca 45.', 'lr:', 5.600756e-05)\n"
     ]
    },
    {
     "name": "stderr",
     "output_type": "stream",
     "text": [
      " 52%|█████▏    | 226/438 [00:10<00:08, 24.53it/s]"
     ]
    },
    {
     "name": "stdout",
     "output_type": "stream",
     "text": [
      "\tsaving model 19500...\n"
     ]
    },
    {
     "name": "stderr",
     "output_type": "stream",
     "text": [
      "\n",
      "  0%|          | 0/39 [00:00<?, ?it/s]\u001b[A\n",
      " 21%|##        | 8/39 [00:00<00:00, 76.57it/s]\u001b[A"
     ]
    },
    {
     "name": "stdout",
     "output_type": "stream",
     "text": [
      "\tdone\n",
      "Evaluating\n"
     ]
    },
    {
     "name": "stderr",
     "output_type": "stream",
     "text": [
      "\n",
      " 44%|####3     | 17/39 [00:00<00:00, 77.77it/s]\u001b[A\n",
      " 64%|######4   | 25/39 [00:00<00:00, 75.88it/s]\u001b[A\n",
      " 85%|########4 | 33/39 [00:00<00:00, 75.99it/s]\u001b[A\n",
      " 53%|█████▎    | 232/438 [00:11<00:19, 10.82it/s]A"
     ]
    },
    {
     "name": "stdout",
     "output_type": "stream",
     "text": [
      "{'ade': 0.34258685, 'fde': 0.73172325}\n",
      "\t last loss:0.000284059, eval on validation:['ade: 0.34258685', 'fde: 0.73172325'], (best ade:0.33880028 at step 16500) \n"
     ]
    },
    {
     "name": "stderr",
     "output_type": "stream",
     "text": [
      "100%|██████████| 438/438 [00:20<00:00, 21.41it/s]\n",
      "  0%|          | 1/438 [00:00<00:53,  8.14it/s]"
     ]
    },
    {
     "name": "stdout",
     "output_type": "stream",
     "text": [
      "('Epoca 46.', 'lr:', 5.600756e-05)\n"
     ]
    },
    {
     "name": "stderr",
     "output_type": "stream",
     "text": [
      " 20%|██        | 89/438 [00:03<00:13, 24.94it/s]\n",
      "  0%|          | 0/39 [00:00<?, ?it/s]\u001b[A"
     ]
    },
    {
     "name": "stdout",
     "output_type": "stream",
     "text": [
      "\tsaving model 19800...\n",
      "\tdone\n",
      "Evaluating\n"
     ]
    },
    {
     "name": "stderr",
     "output_type": "stream",
     "text": [
      "\n",
      " 23%|##3       | 9/39 [00:00<00:00, 85.37it/s]\u001b[A\n",
      " 46%|####6     | 18/39 [00:00<00:00, 83.06it/s]\u001b[A\n",
      " 67%|######6   | 26/39 [00:00<00:00, 79.43it/s]\u001b[A\n",
      " 87%|########7 | 34/39 [00:00<00:00, 78.37it/s]\u001b[A\n",
      " 21%|██        | 92/438 [00:04<00:40,  8.59it/s][A"
     ]
    },
    {
     "name": "stdout",
     "output_type": "stream",
     "text": [
      "{'ade': 0.34305233, 'fde': 0.7325108}\n",
      "\t last loss:0.000336412, eval on validation:['ade: 0.34305233', 'fde: 0.7325108'], (best ade:0.33880028 at step 16500) \n"
     ]
    },
    {
     "name": "stderr",
     "output_type": "stream",
     "text": [
      " 89%|████████▊ | 388/438 [00:18<00:02, 23.39it/s]\n",
      "  0%|          | 0/39 [00:00<?, ?it/s]\u001b[A"
     ]
    },
    {
     "name": "stdout",
     "output_type": "stream",
     "text": [
      "\tsaving model 20100...\n",
      "\tdone\n",
      "Evaluating\n"
     ]
    },
    {
     "name": "stderr",
     "output_type": "stream",
     "text": [
      "\n",
      " 23%|##3       | 9/39 [00:00<00:00, 83.85it/s]\u001b[A\n",
      " 46%|####6     | 18/39 [00:00<00:00, 83.10it/s]\u001b[A\n",
      " 67%|######6   | 26/39 [00:00<00:00, 80.23it/s]\u001b[A\n",
      " 90%|########9 | 35/39 [00:00<00:00, 80.75it/s]\u001b[A\n",
      " 89%|████████▉ | 391/438 [00:18<00:05,  9.19it/s]A"
     ]
    },
    {
     "name": "stdout",
     "output_type": "stream",
     "text": [
      "{'ade': 0.34381145, 'fde': 0.73245573}\n",
      "\t last loss:0.000375167, eval on validation:['ade: 0.34381145', 'fde: 0.73245573'], (best ade:0.33880028 at step 16500) \n"
     ]
    },
    {
     "name": "stderr",
     "output_type": "stream",
     "text": [
      "100%|██████████| 438/438 [00:21<00:00, 20.70it/s]\n",
      "  1%|          | 3/438 [00:00<00:18, 22.95it/s]"
     ]
    },
    {
     "name": "stdout",
     "output_type": "stream",
     "text": [
      "('Epoca 47.', 'lr:', 4.7606427e-05)\n"
     ]
    },
    {
     "name": "stderr",
     "output_type": "stream",
     "text": [
      " 57%|█████▋    | 250/438 [00:10<00:10, 17.74it/s]"
     ]
    },
    {
     "name": "stdout",
     "output_type": "stream",
     "text": [
      "\tsaving model 20400...\n"
     ]
    },
    {
     "name": "stderr",
     "output_type": "stream",
     "text": [
      "\n",
      "  0%|          | 0/39 [00:00<?, ?it/s]\u001b[A\n",
      " 18%|#7        | 7/39 [00:00<00:00, 67.18it/s]\u001b[A"
     ]
    },
    {
     "name": "stdout",
     "output_type": "stream",
     "text": [
      "\tdone\n",
      "Evaluating\n"
     ]
    },
    {
     "name": "stderr",
     "output_type": "stream",
     "text": [
      "\n",
      " 36%|###5      | 14/39 [00:00<00:00, 66.68it/s]\u001b[A\n",
      " 51%|#####1    | 20/39 [00:00<00:00, 61.91it/s]\u001b[A\n",
      " 69%|######9   | 27/39 [00:00<00:00, 62.29it/s]\u001b[A\n",
      " 87%|########7 | 34/39 [00:00<00:00, 63.46it/s]\u001b[A\n",
      " 58%|█████▊    | 252/438 [00:11<00:36,  5.16it/s]A"
     ]
    },
    {
     "name": "stdout",
     "output_type": "stream",
     "text": [
      "{'ade': 0.33895826, 'fde': 0.72091156}\n",
      "\t last loss:0.000181316, eval on validation:['ade: 0.33895826', 'fde: 0.72091156'], (best ade:0.33880028 at step 16500) \n"
     ]
    },
    {
     "name": "stderr",
     "output_type": "stream",
     "text": [
      "100%|██████████| 438/438 [00:20<00:00, 22.15it/s]\n",
      "  0%|          | 2/438 [00:00<00:27, 16.02it/s]"
     ]
    },
    {
     "name": "stdout",
     "output_type": "stream",
     "text": [
      "('Epoca 48.', 'lr:', 4.7606427e-05)\n"
     ]
    },
    {
     "name": "stderr",
     "output_type": "stream",
     "text": [
      " 26%|██▌       | 112/438 [00:04<00:12, 25.15it/s]\n",
      "  0%|          | 0/39 [00:00<?, ?it/s]\u001b[A"
     ]
    },
    {
     "name": "stdout",
     "output_type": "stream",
     "text": [
      "\tsaving model 20700...\n",
      "\tdone\n",
      "Evaluating\n"
     ]
    },
    {
     "name": "stderr",
     "output_type": "stream",
     "text": [
      "\n",
      " 23%|##3       | 9/39 [00:00<00:00, 87.84it/s]\u001b[A\n",
      " 46%|####6     | 18/39 [00:00<00:00, 87.13it/s]\u001b[A\n",
      " 67%|######6   | 26/39 [00:00<00:00, 84.45it/s]\u001b[A\n",
      " 87%|########7 | 34/39 [00:00<00:00, 82.44it/s]\u001b[A\n",
      " 26%|██▋       | 115/438 [00:05<00:33,  9.51it/s]A"
     ]
    },
    {
     "name": "stdout",
     "output_type": "stream",
     "text": [
      "{'ade': 0.34157863, 'fde': 0.72890323}\n",
      "\t last loss:0.000254020, eval on validation:['ade: 0.34157863', 'fde: 0.72890323'], (best ade:0.33880028 at step 16500) \n"
     ]
    },
    {
     "name": "stderr",
     "output_type": "stream",
     "text": [
      " 94%|█████████▍| 412/438 [00:17<00:01, 24.10it/s]\n",
      "  0%|          | 0/39 [00:00<?, ?it/s]\u001b[A"
     ]
    },
    {
     "name": "stdout",
     "output_type": "stream",
     "text": [
      "\tsaving model 21000...\n",
      "\tdone\n",
      "Evaluating\n"
     ]
    },
    {
     "name": "stderr",
     "output_type": "stream",
     "text": [
      "\n",
      " 23%|##3       | 9/39 [00:00<00:00, 86.19it/s]\u001b[A\n",
      " 46%|####6     | 18/39 [00:00<00:00, 86.74it/s]\u001b[A\n",
      " 72%|#######1  | 28/39 [00:00<00:00, 88.68it/s]\u001b[A\n",
      " 95%|#########4| 37/39 [00:00<00:00, 87.66it/s]\u001b[A\n",
      " 95%|█████████▍| 415/438 [00:18<00:02,  9.55it/s]A"
     ]
    },
    {
     "name": "stdout",
     "output_type": "stream",
     "text": [
      "{'ade': 0.33971536, 'fde': 0.72708833}\n",
      "\t last loss:0.000247775, eval on validation:['ade: 0.33971536', 'fde: 0.72708833'], (best ade:0.33880028 at step 16500) \n"
     ]
    },
    {
     "name": "stderr",
     "output_type": "stream",
     "text": [
      "100%|██████████| 438/438 [00:19<00:00, 22.72it/s]\n",
      "  0%|          | 1/438 [00:00<00:43,  9.99it/s]"
     ]
    },
    {
     "name": "stdout",
     "output_type": "stream",
     "text": [
      "('Epoca 49.', 'lr:', 4.0465464e-05)\n"
     ]
    },
    {
     "name": "stderr",
     "output_type": "stream",
     "text": [
      " 63%|██████▎   | 274/438 [00:11<00:07, 23.17it/s]\n",
      "  0%|          | 0/39 [00:00<?, ?it/s]\u001b[A"
     ]
    },
    {
     "name": "stdout",
     "output_type": "stream",
     "text": [
      "\tsaving model 21300...\n",
      "\tdone\n",
      "Evaluating\n"
     ]
    },
    {
     "name": "stderr",
     "output_type": "stream",
     "text": [
      "\n",
      " 18%|#7        | 7/39 [00:00<00:00, 65.90it/s]\u001b[A\n",
      " 41%|####1     | 16/39 [00:00<00:00, 70.41it/s]\u001b[A\n",
      " 62%|######1   | 24/39 [00:00<00:00, 72.95it/s]\u001b[A\n",
      " 85%|########4 | 33/39 [00:00<00:00, 75.33it/s]\u001b[A\n",
      " 63%|██████▎   | 277/438 [00:12<00:18,  8.88it/s]A"
     ]
    },
    {
     "name": "stdout",
     "output_type": "stream",
     "text": [
      "{'ade': 0.33956787, 'fde': 0.72468114}\n",
      "\t last loss:0.000227966, eval on validation:['ade: 0.33956787', 'fde: 0.72468114'], (best ade:0.33880028 at step 16500) \n"
     ]
    },
    {
     "name": "stderr",
     "output_type": "stream",
     "text": [
      "100%|██████████| 438/438 [00:19<00:00, 22.44it/s]\n",
      "  0%|          | 1/438 [00:00<00:50,  8.66it/s]"
     ]
    },
    {
     "name": "stdout",
     "output_type": "stream",
     "text": [
      "('Epoca 50.', 'lr:', 4.0465464e-05)\n"
     ]
    },
    {
     "name": "stderr",
     "output_type": "stream",
     "text": [
      " 31%|███       | 136/438 [00:05<00:12, 24.76it/s]\n",
      "  0%|          | 0/39 [00:00<?, ?it/s]\u001b[A"
     ]
    },
    {
     "name": "stdout",
     "output_type": "stream",
     "text": [
      "\tsaving model 21600...\n",
      "\tdone\n",
      "Evaluating\n"
     ]
    },
    {
     "name": "stderr",
     "output_type": "stream",
     "text": [
      "\n",
      " 23%|##3       | 9/39 [00:00<00:00, 86.17it/s]\u001b[A\n",
      " 44%|####3     | 17/39 [00:00<00:00, 84.21it/s]\u001b[A\n",
      " 67%|######6   | 26/39 [00:00<00:00, 83.34it/s]\u001b[A\n",
      " 90%|########9 | 35/39 [00:00<00:00, 83.29it/s]\u001b[A\n",
      " 32%|███▏      | 139/438 [00:06<00:32,  9.24it/s]A"
     ]
    },
    {
     "name": "stdout",
     "output_type": "stream",
     "text": [
      "{'ade': 0.33899197, 'fde': 0.72096014}\n",
      "\t last loss:0.000313431, eval on validation:['ade: 0.33899197', 'fde: 0.72096014'], (best ade:0.33880028 at step 16500) \n"
     ]
    },
    {
     "name": "stderr",
     "output_type": "stream",
     "text": [
      " 99%|█████████▉| 435/438 [00:20<00:00, 24.23it/s]\n",
      "  0%|          | 0/39 [00:00<?, ?it/s]\u001b[A"
     ]
    },
    {
     "name": "stdout",
     "output_type": "stream",
     "text": [
      "\tsaving model 21900...\n",
      "\tdone\n",
      "Evaluating\n"
     ]
    },
    {
     "name": "stderr",
     "output_type": "stream",
     "text": [
      "\n",
      " 18%|#7        | 7/39 [00:00<00:00, 64.94it/s]\u001b[A\n",
      " 41%|####1     | 16/39 [00:00<00:00, 69.20it/s]\u001b[A\n",
      " 64%|######4   | 25/39 [00:00<00:00, 73.23it/s]\u001b[A\n",
      " 87%|########7 | 34/39 [00:00<00:00, 75.95it/s]\u001b[A\n",
      "100%|██████████| 438/438 [00:21<00:00,  9.12it/s]A\n",
      "  0%|          | 0/438 [00:00<?, ?it/s]"
     ]
    },
    {
     "name": "stdout",
     "output_type": "stream",
     "text": [
      "{'ade': 0.3394928, 'fde': 0.7248079}\n",
      "\t last loss:0.000453083, eval on validation:['ade: 0.3394928', 'fde: 0.7248079'], (best ade:0.33880028 at step 16500) \n",
      "('Epoca 51.', 'lr:', 3.4395645e-05)\n"
     ]
    },
    {
     "name": "stderr",
     "output_type": "stream",
     "text": [
      " 68%|██████▊   | 297/438 [00:12<00:05, 23.90it/s]\n",
      "  0%|          | 0/39 [00:00<?, ?it/s]\u001b[A"
     ]
    },
    {
     "name": "stdout",
     "output_type": "stream",
     "text": [
      "\tsaving model 22200...\n",
      "\tdone\n",
      "Evaluating\n"
     ]
    },
    {
     "name": "stderr",
     "output_type": "stream",
     "text": [
      "\n",
      " 21%|##        | 8/39 [00:00<00:00, 77.78it/s]\u001b[A\n",
      " 44%|####3     | 17/39 [00:00<00:00, 79.46it/s]\u001b[A\n",
      " 64%|######4   | 25/39 [00:00<00:00, 79.58it/s]\u001b[A\n",
      " 85%|########4 | 33/39 [00:00<00:00, 79.68it/s]\u001b[A\n",
      "100%|##########| 39/39 [00:00<00:00, 78.80it/s]\u001b[A"
     ]
    },
    {
     "name": "stdout",
     "output_type": "stream",
     "text": [
      "{'ade': 0.33876625, 'fde': 0.7206765}\n",
      "\t last loss:0.000655027, eval on validation:['ade: 0.33876625', 'fde: 0.7206765'], (best ade:0.33880028 at step 16500) \n",
      "\t saving best model...\n",
      "\t done.\n"
     ]
    },
    {
     "name": "stderr",
     "output_type": "stream",
     "text": [
      "100%|██████████| 438/438 [00:19<00:00, 21.90it/s]\n",
      "  1%|          | 3/438 [00:00<00:20, 21.14it/s]"
     ]
    },
    {
     "name": "stdout",
     "output_type": "stream",
     "text": [
      "('Epoca 52.', 'lr:', 3.4395645e-05)\n"
     ]
    },
    {
     "name": "stderr",
     "output_type": "stream",
     "text": [
      " 36%|███▋      | 159/438 [00:07<00:10, 25.72it/s]\n",
      "  0%|          | 0/39 [00:00<?, ?it/s]\u001b[A"
     ]
    },
    {
     "name": "stdout",
     "output_type": "stream",
     "text": [
      "\tsaving model 22500...\n",
      "\tdone\n",
      "Evaluating\n"
     ]
    },
    {
     "name": "stderr",
     "output_type": "stream",
     "text": [
      "\n",
      " 23%|##3       | 9/39 [00:00<00:00, 81.85it/s]\u001b[A\n",
      " 44%|####3     | 17/39 [00:00<00:00, 80.48it/s]\u001b[A\n",
      " 67%|######6   | 26/39 [00:00<00:00, 82.83it/s]\u001b[A\n",
      " 90%|########9 | 35/39 [00:00<00:00, 83.78it/s]\u001b[A\n",
      " 38%|███▊      | 165/438 [00:07<00:23, 11.57it/s]A"
     ]
    },
    {
     "name": "stdout",
     "output_type": "stream",
     "text": [
      "{'ade': 0.34518337, 'fde': 0.73925626}\n",
      "\t last loss:0.000684364, eval on validation:['ade: 0.34518337', 'fde: 0.73925626'], (best ade:0.33876625 at step 22200) \n"
     ]
    },
    {
     "name": "stderr",
     "output_type": "stream",
     "text": [
      "100%|██████████| 438/438 [00:20<00:00, 21.72it/s]\n",
      "  0%|          | 1/438 [00:00<00:49,  8.86it/s]"
     ]
    },
    {
     "name": "stdout",
     "output_type": "stream",
     "text": [
      "('Epoca 53.', 'lr:', 2.92363e-05)\n"
     ]
    },
    {
     "name": "stderr",
     "output_type": "stream",
     "text": [
      "  5%|▍         | 21/438 [00:01<00:20, 20.27it/s]\n",
      "  0%|          | 0/39 [00:00<?, ?it/s]\u001b[A"
     ]
    },
    {
     "name": "stdout",
     "output_type": "stream",
     "text": [
      "\tsaving model 22800...\n",
      "\tdone\n",
      "Evaluating\n"
     ]
    },
    {
     "name": "stderr",
     "output_type": "stream",
     "text": [
      "\n",
      " 18%|#7        | 7/39 [00:00<00:00, 63.87it/s]\u001b[A\n",
      " 41%|####1     | 16/39 [00:00<00:00, 69.69it/s]\u001b[A\n",
      " 67%|######6   | 26/39 [00:00<00:00, 74.99it/s]\u001b[A\n",
      " 92%|#########2| 36/39 [00:00<00:00, 79.14it/s]\u001b[A\n",
      "  6%|▌         | 27/438 [00:01<00:36, 11.19it/s][A"
     ]
    },
    {
     "name": "stdout",
     "output_type": "stream",
     "text": [
      "{'ade': 0.3412208, 'fde': 0.7296844}\n",
      "\t last loss:0.000390687, eval on validation:['ade: 0.3412208', 'fde: 0.7296844'], (best ade:0.33876625 at step 22200) \n"
     ]
    },
    {
     "name": "stderr",
     "output_type": "stream",
     "text": [
      " 74%|███████▎  | 322/438 [00:15<00:08, 13.31it/s]\n"
     ]
    },
    {
     "name": "stdout",
     "output_type": "stream",
     "text": [
      "\tsaving model 23100...\n",
      "\tdone\n",
      "Evaluating\n"
     ]
    },
    {
     "name": "stderr",
     "output_type": "stream",
     "text": [
      "  0%|          | 0/39 [00:00<?, ?it/s]\u001b[A\n",
      " 21%|##        | 8/39 [00:00<00:00, 74.76it/s]\u001b[A\n",
      " 38%|###8      | 15/39 [00:00<00:00, 71.62it/s]\u001b[A\n",
      " 54%|#####3    | 21/39 [00:00<00:00, 66.59it/s]\u001b[A\n",
      " 69%|######9   | 27/39 [00:00<00:00, 63.85it/s]\u001b[A\n",
      " 87%|########7 | 34/39 [00:00<00:00, 64.43it/s]\u001b[A\n",
      " 75%|███████▍  | 327/438 [00:16<00:16,  6.84it/s]A"
     ]
    },
    {
     "name": "stdout",
     "output_type": "stream",
     "text": [
      "{'ade': 0.33980104, 'fde': 0.7252766}\n",
      "\t last loss:0.000372461, eval on validation:['ade: 0.33980104', 'fde: 0.7252766'], (best ade:0.33876625 at step 22200) \n"
     ]
    },
    {
     "name": "stderr",
     "output_type": "stream",
     "text": [
      "100%|██████████| 438/438 [00:22<00:00, 19.54it/s]\n",
      "  0%|          | 2/438 [00:00<00:23, 18.17it/s]"
     ]
    },
    {
     "name": "stdout",
     "output_type": "stream",
     "text": [
      "('Epoca 54.', 'lr:', 2.92363e-05)\n"
     ]
    },
    {
     "name": "stderr",
     "output_type": "stream",
     "text": [
      " 42%|████▏     | 185/438 [00:08<00:12, 20.98it/s]\n",
      "  0%|          | 0/39 [00:00<?, ?it/s]\u001b[A"
     ]
    },
    {
     "name": "stdout",
     "output_type": "stream",
     "text": [
      "\tsaving model 23400...\n",
      "\tdone\n",
      "Evaluating\n"
     ]
    },
    {
     "name": "stderr",
     "output_type": "stream",
     "text": [
      "\n",
      " 23%|##3       | 9/39 [00:00<00:00, 85.74it/s]\u001b[A\n",
      " 46%|####6     | 18/39 [00:00<00:00, 86.66it/s]\u001b[A\n",
      " 69%|######9   | 27/39 [00:00<00:00, 85.24it/s]\u001b[A\n",
      " 92%|#########2| 36/39 [00:00<00:00, 85.85it/s]\u001b[A\n",
      " 43%|████▎     | 188/438 [00:09<00:27,  9.13it/s]A"
     ]
    },
    {
     "name": "stdout",
     "output_type": "stream",
     "text": [
      "{'ade': 0.34319746, 'fde': 0.73276114}\n",
      "\t last loss:0.000212519, eval on validation:['ade: 0.34319746', 'fde: 0.73276114'], (best ade:0.33876625 at step 22200) \n"
     ]
    },
    {
     "name": "stderr",
     "output_type": "stream",
     "text": [
      "100%|██████████| 438/438 [00:21<00:00, 20.17it/s]\n",
      "  0%|          | 2/438 [00:00<00:32, 13.58it/s]"
     ]
    },
    {
     "name": "stdout",
     "output_type": "stream",
     "text": [
      "('Epoca 55.', 'lr:', 2.4850853e-05)\n"
     ]
    },
    {
     "name": "stderr",
     "output_type": "stream",
     "text": [
      " 11%|█         | 47/438 [00:03<00:28, 13.52it/s]\n",
      "  0%|          | 0/39 [00:00<?, ?it/s]\u001b[A"
     ]
    },
    {
     "name": "stdout",
     "output_type": "stream",
     "text": [
      "\tsaving model 23700...\n",
      "\tdone\n",
      "Evaluating\n"
     ]
    },
    {
     "name": "stderr",
     "output_type": "stream",
     "text": [
      "\n",
      " 23%|##3       | 9/39 [00:00<00:00, 88.67it/s]\u001b[A\n",
      " 46%|####6     | 18/39 [00:00<00:00, 88.56it/s]\u001b[A\n",
      " 69%|######9   | 27/39 [00:00<00:00, 87.88it/s]\u001b[A\n",
      " 95%|#########4| 37/39 [00:00<00:00, 89.75it/s]\u001b[A\n",
      " 12%|█▏        | 52/438 [00:04<00:46,  8.21it/s][A"
     ]
    },
    {
     "name": "stdout",
     "output_type": "stream",
     "text": [
      "{'ade': 0.3425865, 'fde': 0.73189896}\n",
      "\t last loss:0.000406530, eval on validation:['ade: 0.3425865', 'fde: 0.73189896'], (best ade:0.33876625 at step 22200) \n"
     ]
    },
    {
     "name": "stderr",
     "output_type": "stream",
     "text": [
      " 79%|███████▉  | 346/438 [00:16<00:04, 22.42it/s]\n",
      "  0%|          | 0/39 [00:00<?, ?it/s]\u001b[A"
     ]
    },
    {
     "name": "stdout",
     "output_type": "stream",
     "text": [
      "\tsaving model 24000...\n",
      "\tdone\n",
      "Evaluating\n"
     ]
    },
    {
     "name": "stderr",
     "output_type": "stream",
     "text": [
      "\n",
      " 21%|##        | 8/39 [00:00<00:00, 77.88it/s]\u001b[A\n",
      " 41%|####1     | 16/39 [00:00<00:00, 77.37it/s]\u001b[A\n",
      " 62%|######1   | 24/39 [00:00<00:00, 76.36it/s]\u001b[A\n",
      " 85%|########4 | 33/39 [00:00<00:00, 78.04it/s]\u001b[A\n",
      "100%|##########| 39/39 [00:00<00:00, 77.34it/s]\u001b[A"
     ]
    },
    {
     "name": "stdout",
     "output_type": "stream",
     "text": [
      "{'ade': 0.33808413, 'fde': 0.7200694}\n",
      "\t last loss:0.000329340, eval on validation:['ade: 0.33808413', 'fde: 0.7200694'], (best ade:0.33876625 at step 22200) \n",
      "\t saving best model...\n"
     ]
    },
    {
     "name": "stderr",
     "output_type": "stream",
     "text": [
      "100%|██████████| 438/438 [00:21<00:00, 20.64it/s]\n",
      "  0%|          | 1/438 [00:00<00:56,  7.80it/s]"
     ]
    },
    {
     "name": "stdout",
     "output_type": "stream",
     "text": [
      "\t done.\n",
      "('Epoca 56.', 'lr:', 2.4850853e-05)\n"
     ]
    },
    {
     "name": "stderr",
     "output_type": "stream",
     "text": [
      " 47%|████▋     | 208/438 [00:08<00:09, 24.21it/s]\n",
      "  0%|          | 0/39 [00:00<?, ?it/s]\u001b[A"
     ]
    },
    {
     "name": "stdout",
     "output_type": "stream",
     "text": [
      "\tsaving model 24300...\n",
      "\tdone\n",
      "Evaluating\n"
     ]
    },
    {
     "name": "stderr",
     "output_type": "stream",
     "text": [
      "\n",
      " 21%|##        | 8/39 [00:00<00:00, 77.56it/s]\u001b[A\n",
      " 41%|####1     | 16/39 [00:00<00:00, 77.19it/s]\u001b[A\n",
      " 64%|######4   | 25/39 [00:00<00:00, 78.75it/s]\u001b[A\n",
      " 82%|########2 | 32/39 [00:00<00:00, 73.84it/s]\u001b[A\n",
      " 48%|████▊     | 211/438 [00:09<00:25,  8.90it/s]A"
     ]
    },
    {
     "name": "stdout",
     "output_type": "stream",
     "text": [
      "{'ade': 0.34037682, 'fde': 0.72537005}\n",
      "\t last loss:0.000315134, eval on validation:['ade: 0.34037682', 'fde: 0.72537005'], (best ade:0.33808413 at step 24000) \n"
     ]
    },
    {
     "name": "stderr",
     "output_type": "stream",
     "text": [
      "100%|██████████| 438/438 [00:18<00:00, 23.63it/s]\n",
      "  0%|          | 1/438 [00:00<00:51,  8.57it/s]"
     ]
    },
    {
     "name": "stdout",
     "output_type": "stream",
     "text": [
      "('Epoca 57.', 'lr:', 2.1123227e-05)\n"
     ]
    },
    {
     "name": "stderr",
     "output_type": "stream",
     "text": [
      " 16%|█▌        | 70/438 [00:02<00:15, 24.27it/s]\n",
      "  0%|          | 0/39 [00:00<?, ?it/s]\u001b[A"
     ]
    },
    {
     "name": "stdout",
     "output_type": "stream",
     "text": [
      "\tsaving model 24600...\n",
      "\tdone\n",
      "Evaluating\n"
     ]
    },
    {
     "name": "stderr",
     "output_type": "stream",
     "text": [
      "\n",
      " 23%|##3       | 9/39 [00:00<00:00, 85.47it/s]\u001b[A\n",
      " 46%|####6     | 18/39 [00:00<00:00, 85.95it/s]\u001b[A\n",
      " 67%|######6   | 26/39 [00:00<00:00, 83.38it/s]\u001b[A\n",
      " 90%|########9 | 35/39 [00:00<00:00, 84.37it/s]\u001b[A\n",
      "100%|##########| 39/39 [00:00<00:00, 83.91it/s]\u001b[A"
     ]
    },
    {
     "name": "stdout",
     "output_type": "stream",
     "text": [
      "{'ade': 0.33677337, 'fde': 0.71667475}\n",
      "\t last loss:0.000408902, eval on validation:['ade: 0.33677337', 'fde: 0.71667475'], (best ade:0.33808413 at step 24000) \n",
      "\t saving best model...\n",
      "\t done.\n"
     ]
    },
    {
     "name": "stderr",
     "output_type": "stream",
     "text": [
      " 84%|████████▍ | 370/438 [00:15<00:02, 24.22it/s]\n",
      "  0%|          | 0/39 [00:00<?, ?it/s]\u001b[A"
     ]
    },
    {
     "name": "stdout",
     "output_type": "stream",
     "text": [
      "\tsaving model 24900...\n",
      "\tdone\n",
      "Evaluating\n"
     ]
    },
    {
     "name": "stderr",
     "output_type": "stream",
     "text": [
      "\n",
      " 21%|##        | 8/39 [00:00<00:00, 74.47it/s]\u001b[A\n",
      " 44%|####3     | 17/39 [00:00<00:00, 77.04it/s]\u001b[A\n",
      " 64%|######4   | 25/39 [00:00<00:00, 77.74it/s]\u001b[A\n",
      " 87%|########7 | 34/39 [00:00<00:00, 78.78it/s]\u001b[A\n",
      " 85%|████████▌ | 373/438 [00:16<00:07,  9.02it/s]A"
     ]
    },
    {
     "name": "stdout",
     "output_type": "stream",
     "text": [
      "{'ade': 0.3425875, 'fde': 0.7301639}\n",
      "\t last loss:0.000491746, eval on validation:['ade: 0.3425875', 'fde: 0.7301639'], (best ade:0.33677337 at step 24600) \n"
     ]
    },
    {
     "name": "stderr",
     "output_type": "stream",
     "text": [
      "100%|██████████| 438/438 [00:19<00:00, 22.80it/s]\n",
      "  0%|          | 2/438 [00:00<00:27, 15.97it/s]"
     ]
    },
    {
     "name": "stdout",
     "output_type": "stream",
     "text": [
      "('Epoca 58.', 'lr:', 2.1123227e-05)\n"
     ]
    },
    {
     "name": "stderr",
     "output_type": "stream",
     "text": [
      " 53%|█████▎    | 231/438 [00:09<00:10, 20.33it/s]"
     ]
    },
    {
     "name": "stdout",
     "output_type": "stream",
     "text": [
      "\tsaving model 25200...\n"
     ]
    },
    {
     "name": "stderr",
     "output_type": "stream",
     "text": [
      "\n",
      "  0%|          | 0/39 [00:00<?, ?it/s]\u001b[A\n",
      " 15%|#5        | 6/39 [00:00<00:00, 53.82it/s]\u001b[A"
     ]
    },
    {
     "name": "stdout",
     "output_type": "stream",
     "text": [
      "\tdone\n",
      "Evaluating\n"
     ]
    },
    {
     "name": "stderr",
     "output_type": "stream",
     "text": [
      "\n",
      " 31%|###       | 12/39 [00:00<00:00, 54.43it/s]\u001b[A\n",
      " 49%|####8     | 19/39 [00:00<00:00, 57.04it/s]\u001b[A\n",
      " 67%|######6   | 26/39 [00:00<00:00, 58.87it/s]\u001b[A\n",
      " 85%|########4 | 33/39 [00:00<00:00, 61.10it/s]\u001b[A\n",
      " 54%|█████▍    | 237/438 [00:11<00:22,  9.03it/s]A"
     ]
    },
    {
     "name": "stdout",
     "output_type": "stream",
     "text": [
      "{'ade': 0.34254906, 'fde': 0.7341303}\n",
      "\t last loss:0.000274046, eval on validation:['ade: 0.34254906', 'fde: 0.7341303'], (best ade:0.33677337 at step 24600) \n"
     ]
    },
    {
     "name": "stderr",
     "output_type": "stream",
     "text": [
      "100%|██████████| 438/438 [00:19<00:00, 22.16it/s]\n",
      "  1%|          | 3/438 [00:00<00:19, 22.05it/s]"
     ]
    },
    {
     "name": "stdout",
     "output_type": "stream",
     "text": [
      "('Epoca 59.', 'lr:', 1.7954744e-05)\n"
     ]
    },
    {
     "name": "stderr",
     "output_type": "stream",
     "text": [
      " 21%|██        | 93/438 [00:03<00:14, 23.27it/s]\n",
      "  0%|          | 0/39 [00:00<?, ?it/s]\u001b[A"
     ]
    },
    {
     "name": "stdout",
     "output_type": "stream",
     "text": [
      "\tsaving model 25500...\n",
      "\tdone\n",
      "Evaluating\n"
     ]
    },
    {
     "name": "stderr",
     "output_type": "stream",
     "text": [
      "\n",
      " 23%|##3       | 9/39 [00:00<00:00, 83.30it/s]\u001b[A\n",
      " 44%|####3     | 17/39 [00:00<00:00, 82.01it/s]\u001b[A\n",
      " 64%|######4   | 25/39 [00:00<00:00, 81.11it/s]\u001b[A\n",
      " 87%|########7 | 34/39 [00:00<00:00, 81.66it/s]\u001b[A\n",
      " 22%|██▏       | 98/438 [00:04<00:31, 10.81it/s][A"
     ]
    },
    {
     "name": "stdout",
     "output_type": "stream",
     "text": [
      "{'ade': 0.34051064, 'fde': 0.72587997}\n",
      "\t last loss:0.000358704, eval on validation:['ade: 0.34051064', 'fde: 0.72587997'], (best ade:0.33677337 at step 24600) \n"
     ]
    },
    {
     "name": "stderr",
     "output_type": "stream",
     "text": [
      " 90%|█████████ | 395/438 [00:16<00:01, 25.72it/s]\n",
      "  0%|          | 0/39 [00:00<?, ?it/s]\u001b[A"
     ]
    },
    {
     "name": "stdout",
     "output_type": "stream",
     "text": [
      "\tsaving model 25800...\n",
      "\tdone\n",
      "Evaluating\n"
     ]
    },
    {
     "name": "stderr",
     "output_type": "stream",
     "text": [
      "\n",
      " 23%|##3       | 9/39 [00:00<00:00, 88.92it/s]\u001b[A\n",
      " 46%|####6     | 18/39 [00:00<00:00, 88.21it/s]\u001b[A\n",
      " 69%|######9   | 27/39 [00:00<00:00, 87.93it/s]\u001b[A\n",
      " 95%|#########4| 37/39 [00:00<00:00, 89.17it/s]\u001b[A\n",
      " 91%|█████████ | 398/438 [00:17<00:04,  9.92it/s]A"
     ]
    },
    {
     "name": "stdout",
     "output_type": "stream",
     "text": [
      "{'ade': 0.3392177, 'fde': 0.72500765}\n",
      "\t last loss:0.000605663, eval on validation:['ade: 0.3392177', 'fde: 0.72500765'], (best ade:0.33677337 at step 24600) \n"
     ]
    },
    {
     "name": "stderr",
     "output_type": "stream",
     "text": [
      "100%|██████████| 438/438 [00:18<00:00, 23.29it/s]\n",
      "  0%|          | 2/438 [00:00<00:26, 16.50it/s]"
     ]
    },
    {
     "name": "stdout",
     "output_type": "stream",
     "text": [
      "('Epoca 60.', 'lr:', 1.7954744e-05)\n"
     ]
    },
    {
     "name": "stderr",
     "output_type": "stream",
     "text": [
      " 59%|█████▊    | 257/438 [00:10<00:07, 24.53it/s]\n",
      "  0%|          | 0/39 [00:00<?, ?it/s]\u001b[A"
     ]
    },
    {
     "name": "stdout",
     "output_type": "stream",
     "text": [
      "\tsaving model 26100...\n",
      "\tdone\n",
      "Evaluating\n"
     ]
    },
    {
     "name": "stderr",
     "output_type": "stream",
     "text": [
      "\n",
      " 21%|##        | 8/39 [00:00<00:00, 79.89it/s]\u001b[A\n",
      " 44%|####3     | 17/39 [00:00<00:00, 80.96it/s]\u001b[A\n",
      " 62%|######1   | 24/39 [00:00<00:00, 76.94it/s]\u001b[A\n",
      " 85%|########4 | 33/39 [00:00<00:00, 78.32it/s]\u001b[A\n",
      " 59%|█████▉    | 260/438 [00:11<00:19,  9.05it/s]A"
     ]
    },
    {
     "name": "stdout",
     "output_type": "stream",
     "text": [
      "{'ade': 0.3400288, 'fde': 0.72733706}\n",
      "\t last loss:0.000421816, eval on validation:['ade: 0.3400288', 'fde: 0.72733706'], (best ade:0.33677337 at step 24600) \n"
     ]
    },
    {
     "name": "stderr",
     "output_type": "stream",
     "text": [
      "100%|██████████| 438/438 [00:18<00:00, 24.01it/s]\n",
      "  0%|          | 1/438 [00:00<00:48,  8.95it/s]"
     ]
    },
    {
     "name": "stdout",
     "output_type": "stream",
     "text": [
      "('Epoca 61.', 'lr:', 1.5261532e-05)\n"
     ]
    },
    {
     "name": "stderr",
     "output_type": "stream",
     "text": [
      " 27%|██▋       | 118/438 [00:04<00:12, 25.84it/s]\n",
      "  0%|          | 0/39 [00:00<?, ?it/s]\u001b[A"
     ]
    },
    {
     "name": "stdout",
     "output_type": "stream",
     "text": [
      "\tsaving model 26400...\n",
      "\tdone\n",
      "Evaluating\n"
     ]
    },
    {
     "name": "stderr",
     "output_type": "stream",
     "text": [
      "\n",
      " 23%|##3       | 9/39 [00:00<00:00, 88.93it/s]\u001b[A\n",
      " 49%|####8     | 19/39 [00:00<00:00, 90.29it/s]\u001b[A\n",
      " 74%|#######4  | 29/39 [00:00<00:00, 91.06it/s]\u001b[A\n",
      " 28%|██▊       | 121/438 [00:05<00:31, 10.01it/s]A"
     ]
    },
    {
     "name": "stdout",
     "output_type": "stream",
     "text": [
      "{'ade': 0.33822927, 'fde': 0.72193104}\n",
      "\t last loss:0.000990748, eval on validation:['ade: 0.33822927', 'fde: 0.72193104'], (best ade:0.33677337 at step 24600) \n"
     ]
    },
    {
     "name": "stderr",
     "output_type": "stream",
     "text": [
      " 95%|█████████▌| 418/438 [00:18<00:00, 22.12it/s]\n",
      "  0%|          | 0/39 [00:00<?, ?it/s]\u001b[A"
     ]
    },
    {
     "name": "stdout",
     "output_type": "stream",
     "text": [
      "\tsaving model 26700...\n",
      "\tdone\n",
      "Evaluating\n"
     ]
    },
    {
     "name": "stderr",
     "output_type": "stream",
     "text": [
      "\n",
      " 18%|#7        | 7/39 [00:00<00:00, 69.82it/s]\u001b[A\n",
      " 38%|###8      | 15/39 [00:00<00:00, 71.31it/s]\u001b[A\n",
      " 59%|#####8    | 23/39 [00:00<00:00, 73.64it/s]\u001b[A\n",
      " 82%|########2 | 32/39 [00:00<00:00, 76.01it/s]\u001b[A\n",
      " 96%|█████████▌| 421/438 [00:19<00:01,  8.70it/s]A"
     ]
    },
    {
     "name": "stdout",
     "output_type": "stream",
     "text": [
      "{'ade': 0.33827016, 'fde': 0.72203773}\n",
      "\t last loss:0.000560063, eval on validation:['ade: 0.33827016', 'fde: 0.72203773'], (best ade:0.33677337 at step 24600) \n"
     ]
    },
    {
     "name": "stderr",
     "output_type": "stream",
     "text": [
      "100%|██████████| 438/438 [00:20<00:00, 21.67it/s]\n",
      "  0%|          | 1/438 [00:00<00:48,  8.93it/s]"
     ]
    },
    {
     "name": "stdout",
     "output_type": "stream",
     "text": [
      "('Epoca 62.', 'lr:', 1.5261532e-05)\n"
     ]
    },
    {
     "name": "stderr",
     "output_type": "stream",
     "text": [
      " 64%|██████▍   | 280/438 [00:11<00:06, 25.04it/s]\n",
      "  0%|          | 0/39 [00:00<?, ?it/s]\u001b[A"
     ]
    },
    {
     "name": "stdout",
     "output_type": "stream",
     "text": [
      "\tsaving model 27000...\n",
      "\tdone\n",
      "Evaluating\n"
     ]
    },
    {
     "name": "stderr",
     "output_type": "stream",
     "text": [
      "\n",
      " 23%|##3       | 9/39 [00:00<00:00, 82.84it/s]\u001b[A\n",
      " 49%|####8     | 19/39 [00:00<00:00, 85.38it/s]\u001b[A\n",
      " 74%|#######4  | 29/39 [00:00<00:00, 87.34it/s]\u001b[A\n",
      " 65%|██████▌   | 286/438 [00:12<00:12, 12.14it/s]A"
     ]
    },
    {
     "name": "stdout",
     "output_type": "stream",
     "text": [
      "{'ade': 0.33887345, 'fde': 0.7252979}\n",
      "\t last loss:0.000307313, eval on validation:['ade: 0.33887345', 'fde: 0.7252979'], (best ade:0.33677337 at step 24600) \n"
     ]
    },
    {
     "name": "stderr",
     "output_type": "stream",
     "text": [
      "100%|██████████| 438/438 [00:18<00:00, 23.75it/s]\n",
      "  0%|          | 1/438 [00:00<00:48,  9.06it/s]"
     ]
    },
    {
     "name": "stdout",
     "output_type": "stream",
     "text": [
      "('Epoca 63.', 'lr:', 1.2972303e-05)\n"
     ]
    },
    {
     "name": "stderr",
     "output_type": "stream",
     "text": [
      " 32%|███▏      | 142/438 [00:06<00:16, 18.36it/s]\n",
      "  0%|          | 0/39 [00:00<?, ?it/s]"
     ]
    },
    {
     "name": "stdout",
     "output_type": "stream",
     "text": [
      "\tsaving model 27300...\n",
      "\tdone\n",
      "Evaluating\n"
     ]
    },
    {
     "name": "stderr",
     "output_type": "stream",
     "text": [
      "\u001b[A\n",
      " 18%|#7        | 7/39 [00:00<00:00, 69.10it/s]\u001b[A\n",
      " 36%|###5      | 14/39 [00:00<00:00, 68.53it/s]\u001b[A\n",
      " 51%|#####1    | 20/39 [00:00<00:00, 63.61it/s]\u001b[A\n",
      " 67%|######6   | 26/39 [00:00<00:00, 59.98it/s]\u001b[A\n",
      " 79%|#######9  | 31/39 [00:00<00:00, 55.87it/s]\u001b[A\n",
      " 97%|#########7| 38/39 [00:00<00:00, 58.73it/s]\u001b[A\n",
      " 34%|███▎      | 147/438 [00:07<00:41,  7.04it/s]A"
     ]
    },
    {
     "name": "stdout",
     "output_type": "stream",
     "text": [
      "{'ade': 0.3377685, 'fde': 0.7201953}\n",
      "\t last loss:0.000680453, eval on validation:['ade: 0.3377685', 'fde: 0.7201953'], (best ade:0.33677337 at step 24600) \n"
     ]
    },
    {
     "name": "stderr",
     "output_type": "stream",
     "text": [
      "100%|██████████| 438/438 [00:19<00:00, 22.37it/s]\n",
      "  0%|          | 1/438 [00:00<00:48,  9.05it/s]"
     ]
    },
    {
     "name": "stdout",
     "output_type": "stream",
     "text": [
      "('Epoca 64.', 'lr:', 1.2972303e-05)\n"
     ]
    },
    {
     "name": "stderr",
     "output_type": "stream",
     "text": [
      "  1%|          | 4/438 [00:00<00:38, 11.13it/s]\n",
      "  0%|          | 0/39 [00:00<?, ?it/s]\u001b[A"
     ]
    },
    {
     "name": "stdout",
     "output_type": "stream",
     "text": [
      "\tsaving model 27600...\n",
      "\tdone\n",
      "Evaluating\n"
     ]
    },
    {
     "name": "stderr",
     "output_type": "stream",
     "text": [
      "\n",
      " 23%|##3       | 9/39 [00:00<00:00, 83.41it/s]\u001b[A\n",
      " 46%|####6     | 18/39 [00:00<00:00, 83.13it/s]\u001b[A\n",
      " 72%|#######1  | 28/39 [00:00<00:00, 85.57it/s]\u001b[A\n",
      " 95%|#########4| 37/39 [00:00<00:00, 84.80it/s]\u001b[A\n",
      "  2%|▏         | 9/438 [00:01<00:58,  7.37it/s]\u001b[A"
     ]
    },
    {
     "name": "stdout",
     "output_type": "stream",
     "text": [
      "{'ade': 0.3376102, 'fde': 0.7198524}\n",
      "\t last loss:0.000275006, eval on validation:['ade: 0.3376102', 'fde: 0.7198524'], (best ade:0.33677337 at step 24600) \n"
     ]
    },
    {
     "name": "stderr",
     "output_type": "stream",
     "text": [
      " 70%|██████▉   | 305/438 [00:13<00:05, 25.00it/s]\n",
      "  0%|          | 0/39 [00:00<?, ?it/s]\u001b[A"
     ]
    },
    {
     "name": "stdout",
     "output_type": "stream",
     "text": [
      "\tsaving model 27900...\n",
      "\tdone\n",
      "Evaluating\n"
     ]
    },
    {
     "name": "stderr",
     "output_type": "stream",
     "text": [
      "\n",
      " 23%|##3       | 9/39 [00:00<00:00, 84.02it/s]\u001b[A\n",
      " 44%|####3     | 17/39 [00:00<00:00, 79.71it/s]\u001b[A\n",
      " 64%|######4   | 25/39 [00:00<00:00, 79.42it/s]\u001b[A\n",
      " 87%|########7 | 34/39 [00:00<00:00, 82.02it/s]\u001b[A\n",
      " 70%|███████   | 308/438 [00:14<00:13,  9.44it/s]A"
     ]
    },
    {
     "name": "stdout",
     "output_type": "stream",
     "text": [
      "{'ade': 0.337932, 'fde': 0.7205694}\n",
      "\t last loss:0.000332689, eval on validation:['ade: 0.337932', 'fde: 0.7205694'], (best ade:0.33677337 at step 24600) \n"
     ]
    },
    {
     "name": "stderr",
     "output_type": "stream",
     "text": [
      "100%|██████████| 438/438 [00:19<00:00, 22.44it/s]\n",
      "  0%|          | 2/438 [00:00<00:28, 15.18it/s]"
     ]
    },
    {
     "name": "stdout",
     "output_type": "stream",
     "text": [
      "('Epoca 65.', 'lr:', 1.1026457e-05)\n"
     ]
    },
    {
     "name": "stderr",
     "output_type": "stream",
     "text": [
      " 38%|███▊      | 166/438 [00:08<00:12, 21.61it/s]\n",
      "  0%|          | 0/39 [00:00<?, ?it/s]\u001b[A"
     ]
    },
    {
     "name": "stdout",
     "output_type": "stream",
     "text": [
      "\tsaving model 28200...\n",
      "\tdone\n",
      "Evaluating\n"
     ]
    },
    {
     "name": "stderr",
     "output_type": "stream",
     "text": [
      "\n",
      " 18%|#7        | 7/39 [00:00<00:00, 63.74it/s]\u001b[A\n",
      " 38%|###8      | 15/39 [00:00<00:00, 66.16it/s]\u001b[A\n",
      " 56%|#####6    | 22/39 [00:00<00:00, 67.19it/s]\u001b[A\n",
      " 77%|#######6  | 30/39 [00:00<00:00, 68.46it/s]\u001b[A\n",
      " 92%|#########2| 36/39 [00:00<00:00, 65.15it/s]\u001b[A\n",
      " 39%|███▊      | 169/438 [00:08<00:34,  7.91it/s]A"
     ]
    },
    {
     "name": "stdout",
     "output_type": "stream",
     "text": [
      "{'ade': 0.33781362, 'fde': 0.7202418}\n",
      "\t last loss:0.000217736, eval on validation:['ade: 0.33781362', 'fde: 0.7202418'], (best ade:0.33677337 at step 24600) \n"
     ]
    },
    {
     "name": "stderr",
     "output_type": "stream",
     "text": [
      "100%|██████████| 438/438 [00:20<00:00, 23.29it/s]\n",
      "  0%|          | 2/438 [00:00<00:25, 16.77it/s]"
     ]
    },
    {
     "name": "stdout",
     "output_type": "stream",
     "text": [
      "('Epoca 66.', 'lr:', 1.1026457e-05)\n"
     ]
    },
    {
     "name": "stderr",
     "output_type": "stream",
     "text": [
      "  6%|▌         | 27/438 [00:01<00:18, 21.83it/s]\n",
      "  0%|          | 0/39 [00:00<?, ?it/s]\u001b[A"
     ]
    },
    {
     "name": "stdout",
     "output_type": "stream",
     "text": [
      "\tsaving model 28500...\n",
      "\tdone\n",
      "Evaluating\n"
     ]
    },
    {
     "name": "stderr",
     "output_type": "stream",
     "text": [
      "\n",
      " 21%|##        | 8/39 [00:00<00:00, 78.65it/s]\u001b[A\n",
      " 41%|####1     | 16/39 [00:00<00:00, 78.64it/s]\u001b[A\n",
      " 64%|######4   | 25/39 [00:00<00:00, 80.58it/s]\u001b[A\n",
      " 82%|########2 | 32/39 [00:00<00:00, 73.81it/s]\u001b[A\n",
      "  8%|▊         | 33/438 [00:02<00:39, 10.30it/s][A"
     ]
    },
    {
     "name": "stdout",
     "output_type": "stream",
     "text": [
      "{'ade': 0.33850008, 'fde': 0.722154}\n",
      "\t last loss:0.000362645, eval on validation:['ade: 0.33850008', 'fde: 0.722154'], (best ade:0.33677337 at step 24600) \n"
     ]
    },
    {
     "name": "stderr",
     "output_type": "stream",
     "text": [
      " 75%|███████▍  | 327/438 [00:16<00:05, 22.12it/s]\n",
      "  0%|          | 0/39 [00:00<?, ?it/s]\u001b[A"
     ]
    },
    {
     "name": "stdout",
     "output_type": "stream",
     "text": [
      "\tsaving model 28800...\n",
      "\tdone\n",
      "Evaluating\n"
     ]
    },
    {
     "name": "stderr",
     "output_type": "stream",
     "text": [
      "\n",
      " 23%|##3       | 9/39 [00:00<00:00, 86.44it/s]\u001b[A\n",
      " 44%|####3     | 17/39 [00:00<00:00, 81.86it/s]\u001b[A\n",
      " 67%|######6   | 26/39 [00:00<00:00, 82.62it/s]\u001b[A\n",
      " 90%|########9 | 35/39 [00:00<00:00, 83.02it/s]\u001b[A\n",
      " 76%|███████▌  | 333/438 [00:17<00:09, 11.08it/s]A"
     ]
    },
    {
     "name": "stdout",
     "output_type": "stream",
     "text": [
      "{'ade': 0.33922243, 'fde': 0.72482854}\n",
      "\t last loss:0.000254828, eval on validation:['ade: 0.33922243', 'fde: 0.72482854'], (best ade:0.33677337 at step 24600) \n"
     ]
    },
    {
     "name": "stderr",
     "output_type": "stream",
     "text": [
      "100%|██████████| 438/438 [00:22<00:00, 24.55it/s]\n",
      "  0%|          | 1/438 [00:00<00:50,  8.71it/s]"
     ]
    },
    {
     "name": "stdout",
     "output_type": "stream",
     "text": [
      "('Epoca 67.', 'lr:', 9.37249e-06)\n"
     ]
    },
    {
     "name": "stderr",
     "output_type": "stream",
     "text": [
      " 43%|████▎     | 190/438 [00:07<00:09, 25.97it/s]\n",
      "  0%|          | 0/39 [00:00<?, ?it/s]\u001b[A"
     ]
    },
    {
     "name": "stdout",
     "output_type": "stream",
     "text": [
      "\tsaving model 29100...\n",
      "\tdone\n",
      "Evaluating\n"
     ]
    },
    {
     "name": "stderr",
     "output_type": "stream",
     "text": [
      "\n",
      " 18%|#7        | 7/39 [00:00<00:00, 68.34it/s]\u001b[A\n",
      " 41%|####1     | 16/39 [00:00<00:00, 73.01it/s]\u001b[A\n",
      " 67%|######6   | 26/39 [00:00<00:00, 77.86it/s]\u001b[A\n",
      " 90%|########9 | 35/39 [00:00<00:00, 80.27it/s]\u001b[A\n",
      " 45%|████▍     | 196/438 [00:08<00:20, 11.94it/s]A"
     ]
    },
    {
     "name": "stdout",
     "output_type": "stream",
     "text": [
      "{'ade': 0.33918852, 'fde': 0.7252769}\n",
      "\t last loss:0.000436228, eval on validation:['ade: 0.33918852', 'fde: 0.7252769'], (best ade:0.33677337 at step 24600) \n"
     ]
    },
    {
     "name": "stderr",
     "output_type": "stream",
     "text": [
      "100%|██████████| 438/438 [00:18<00:00, 24.09it/s]\n",
      "  0%|          | 2/438 [00:00<00:22, 19.73it/s]"
     ]
    },
    {
     "name": "stdout",
     "output_type": "stream",
     "text": [
      "('Epoca 68.', 'lr:', 9.37249e-06)\n"
     ]
    },
    {
     "name": "stderr",
     "output_type": "stream",
     "text": [
      " 12%|█▏        | 53/438 [00:02<00:15, 24.61it/s]\n",
      "  0%|          | 0/39 [00:00<?, ?it/s]\u001b[A"
     ]
    },
    {
     "name": "stdout",
     "output_type": "stream",
     "text": [
      "\tsaving model 29400...\n",
      "\tdone\n",
      "Evaluating\n"
     ]
    },
    {
     "name": "stderr",
     "output_type": "stream",
     "text": [
      "\n",
      " 23%|##3       | 9/39 [00:00<00:00, 82.02it/s]\u001b[A\n",
      " 38%|###8      | 15/39 [00:00<00:00, 69.14it/s]\u001b[A\n",
      " 54%|#####3    | 21/39 [00:00<00:00, 65.01it/s]\u001b[A\n",
      " 67%|######6   | 26/39 [00:00<00:00, 58.96it/s]\u001b[A\n",
      " 82%|########2 | 32/39 [00:00<00:00, 58.28it/s]\u001b[A\n",
      " 13%|█▎        | 56/438 [00:03<00:46,  8.15it/s][A"
     ]
    },
    {
     "name": "stdout",
     "output_type": "stream",
     "text": [
      "{'ade': 0.33903673, 'fde': 0.72315735}\n",
      "\t last loss:0.000206355, eval on validation:['ade: 0.33903673', 'fde: 0.72315735'], (best ade:0.33677337 at step 24600) \n"
     ]
    },
    {
     "name": "stderr",
     "output_type": "stream",
     "text": [
      " 81%|████████  | 353/438 [00:15<00:03, 25.66it/s]\n",
      "  0%|          | 0/39 [00:00<?, ?it/s]\u001b[A"
     ]
    },
    {
     "name": "stdout",
     "output_type": "stream",
     "text": [
      "\tsaving model 29700...\n",
      "\tdone\n",
      "Evaluating\n"
     ]
    },
    {
     "name": "stderr",
     "output_type": "stream",
     "text": [
      "\n",
      " 23%|##3       | 9/39 [00:00<00:00, 87.48it/s]\u001b[A\n",
      " 49%|####8     | 19/39 [00:00<00:00, 88.59it/s]\u001b[A\n",
      " 74%|#######4  | 29/39 [00:00<00:00, 90.11it/s]\u001b[A\n",
      " 81%|████████▏ | 356/438 [00:15<00:08, 10.08it/s]A"
     ]
    },
    {
     "name": "stdout",
     "output_type": "stream",
     "text": [
      "{'ade': 0.34005845, 'fde': 0.7259824}\n",
      "\t last loss:0.000537054, eval on validation:['ade: 0.34005845', 'fde: 0.7259824'], (best ade:0.33677337 at step 24600) \n"
     ]
    },
    {
     "name": "stderr",
     "output_type": "stream",
     "text": [
      "100%|██████████| 438/438 [00:19<00:00, 22.89it/s]\n",
      "  0%|          | 1/438 [00:00<00:49,  8.86it/s]"
     ]
    },
    {
     "name": "stdout",
     "output_type": "stream",
     "text": [
      "('Epoca 69.', 'lr:', 7.966617e-06)\n"
     ]
    },
    {
     "name": "stderr",
     "output_type": "stream",
     "text": [
      " 49%|████▉     | 214/438 [00:08<00:09, 23.77it/s]\n",
      "  0%|          | 0/39 [00:00<?, ?it/s]\u001b[A"
     ]
    },
    {
     "name": "stdout",
     "output_type": "stream",
     "text": [
      "\tsaving model 30000...\n",
      "\tdone\n",
      "Evaluating\n"
     ]
    },
    {
     "name": "stderr",
     "output_type": "stream",
     "text": [
      "\n",
      " 21%|##        | 8/39 [00:00<00:00, 78.69it/s]\u001b[A\n",
      " 44%|####3     | 17/39 [00:00<00:00, 80.54it/s]\u001b[A\n",
      " 67%|######6   | 26/39 [00:00<00:00, 81.29it/s]\u001b[A\n",
      " 90%|########9 | 35/39 [00:00<00:00, 81.61it/s]\u001b[A\n",
      " 50%|█████     | 220/438 [00:09<00:19, 11.40it/s]A"
     ]
    },
    {
     "name": "stdout",
     "output_type": "stream",
     "text": [
      "{'ade': 0.3377396, 'fde': 0.7196639}\n",
      "\t last loss:0.000671917, eval on validation:['ade: 0.3377396', 'fde: 0.7196639'], (best ade:0.33677337 at step 24600) \n"
     ]
    },
    {
     "name": "stderr",
     "output_type": "stream",
     "text": [
      "100%|██████████| 438/438 [00:18<00:00, 23.95it/s]\n",
      "  0%|          | 1/438 [00:00<00:49,  8.78it/s]"
     ]
    },
    {
     "name": "stdout",
     "output_type": "stream",
     "text": [
      "('Epoca 70.', 'lr:', 7.966617e-06)\n"
     ]
    },
    {
     "name": "stderr",
     "output_type": "stream",
     "text": [
      " 17%|█▋        | 76/438 [00:03<00:13, 26.16it/s]\n",
      "  0%|          | 0/39 [00:00<?, ?it/s]\u001b[A"
     ]
    },
    {
     "name": "stdout",
     "output_type": "stream",
     "text": [
      "\tsaving model 30300...\n",
      "\tdone\n",
      "Evaluating\n"
     ]
    },
    {
     "name": "stderr",
     "output_type": "stream",
     "text": [
      "\n",
      " 18%|#7        | 7/39 [00:00<00:00, 66.08it/s]\u001b[A\n",
      " 38%|###8      | 15/39 [00:00<00:00, 69.67it/s]\u001b[A\n",
      " 62%|######1   | 24/39 [00:00<00:00, 73.52it/s]\u001b[A\n",
      " 85%|########4 | 33/39 [00:00<00:00, 76.27it/s]\u001b[A\n",
      " 18%|█▊        | 79/438 [00:03<00:38,  9.27it/s][A"
     ]
    },
    {
     "name": "stdout",
     "output_type": "stream",
     "text": [
      "{'ade': 0.33792678, 'fde': 0.72145426}\n",
      "\t last loss:0.000323178, eval on validation:['ade: 0.33792678', 'fde: 0.72145426'], (best ade:0.33677337 at step 24600) \n"
     ]
    },
    {
     "name": "stderr",
     "output_type": "stream",
     "text": [
      " 86%|████████▌ | 375/438 [00:15<00:02, 24.44it/s]\n",
      "  0%|          | 0/39 [00:00<?, ?it/s]\u001b[A"
     ]
    },
    {
     "name": "stdout",
     "output_type": "stream",
     "text": [
      "\tsaving model 30600...\n",
      "\tdone\n",
      "Evaluating\n"
     ]
    },
    {
     "name": "stderr",
     "output_type": "stream",
     "text": [
      "\n",
      " 23%|##3       | 9/39 [00:00<00:00, 86.17it/s]\u001b[A\n",
      " 44%|####3     | 17/39 [00:00<00:00, 84.02it/s]\u001b[A\n",
      " 67%|######6   | 26/39 [00:00<00:00, 85.29it/s]\u001b[A\n",
      " 90%|########9 | 35/39 [00:00<00:00, 86.49it/s]\u001b[A\n",
      " 87%|████████▋ | 381/438 [00:16<00:04, 11.75it/s]A"
     ]
    },
    {
     "name": "stdout",
     "output_type": "stream",
     "text": [
      "{'ade': 0.33922738, 'fde': 0.72501934}\n",
      "\t last loss:0.000352332, eval on validation:['ade: 0.33922738', 'fde: 0.72501934'], (best ade:0.33677337 at step 24600) \n"
     ]
    },
    {
     "name": "stderr",
     "output_type": "stream",
     "text": [
      "100%|██████████| 438/438 [00:19<00:00, 26.42it/s]\n",
      "  0%|          | 1/438 [00:00<00:47,  9.10it/s]"
     ]
    },
    {
     "name": "stdout",
     "output_type": "stream",
     "text": [
      "('Epoca 71.', 'lr:', 6.7716246e-06)\n"
     ]
    },
    {
     "name": "stderr",
     "output_type": "stream",
     "text": [
      " 54%|█████▍    | 238/438 [00:09<00:08, 24.07it/s]\n",
      "  0%|          | 0/39 [00:00<?, ?it/s]\u001b[A"
     ]
    },
    {
     "name": "stdout",
     "output_type": "stream",
     "text": [
      "\tsaving model 30900...\n",
      "\tdone\n",
      "Evaluating\n"
     ]
    },
    {
     "name": "stderr",
     "output_type": "stream",
     "text": [
      "\n",
      " 21%|##        | 8/39 [00:00<00:00, 79.64it/s]\u001b[A\n",
      " 44%|####3     | 17/39 [00:00<00:00, 81.11it/s]\u001b[A\n",
      " 64%|######4   | 25/39 [00:00<00:00, 80.43it/s]\u001b[A\n",
      " 87%|########7 | 34/39 [00:00<00:00, 80.62it/s]\u001b[A\n",
      " 55%|█████▌    | 243/438 [00:10<00:17, 10.92it/s]A"
     ]
    },
    {
     "name": "stdout",
     "output_type": "stream",
     "text": [
      "{'ade': 0.33763045, 'fde': 0.7199248}\n",
      "\t last loss:0.000345068, eval on validation:['ade: 0.33763045', 'fde: 0.7199248'], (best ade:0.33677337 at step 24600) \n"
     ]
    },
    {
     "name": "stderr",
     "output_type": "stream",
     "text": [
      "100%|██████████| 438/438 [00:18<00:00, 24.43it/s]\n",
      "  1%|          | 3/438 [00:00<00:18, 23.26it/s]"
     ]
    },
    {
     "name": "stdout",
     "output_type": "stream",
     "text": [
      "('Epoca 72.', 'lr:', 6.7716246e-06)\n"
     ]
    },
    {
     "name": "stderr",
     "output_type": "stream",
     "text": [
      " 23%|██▎       | 100/438 [00:04<00:16, 20.23it/s]"
     ]
    },
    {
     "name": "stdout",
     "output_type": "stream",
     "text": [
      "\tsaving model 31200...\n"
     ]
    },
    {
     "name": "stderr",
     "output_type": "stream",
     "text": [
      "\n",
      "  0%|          | 0/39 [00:00<?, ?it/s]\u001b[A\n",
      " 18%|#7        | 7/39 [00:00<00:00, 61.54it/s]\u001b[A"
     ]
    },
    {
     "name": "stdout",
     "output_type": "stream",
     "text": [
      "\tdone\n",
      "Evaluating\n"
     ]
    },
    {
     "name": "stderr",
     "output_type": "stream",
     "text": [
      "\n",
      " 33%|###3      | 13/39 [00:00<00:00, 58.52it/s]\u001b[A\n",
      " 49%|####8     | 19/39 [00:00<00:00, 58.44it/s]\u001b[A\n",
      " 67%|######6   | 26/39 [00:00<00:00, 60.50it/s]\u001b[A\n",
      " 85%|########4 | 33/39 [00:00<00:00, 61.84it/s]\u001b[A\n",
      " 24%|██▎       | 103/438 [00:05<00:45,  7.29it/s]A"
     ]
    },
    {
     "name": "stdout",
     "output_type": "stream",
     "text": [
      "{'ade': 0.33892244, 'fde': 0.72413343}\n",
      "\t last loss:0.000369384, eval on validation:['ade: 0.33892244', 'fde: 0.72413343'], (best ade:0.33677337 at step 24600) \n"
     ]
    },
    {
     "name": "stderr",
     "output_type": "stream",
     "text": [
      " 91%|█████████▏| 400/438 [00:17<00:01, 25.80it/s]\n",
      "  0%|          | 0/39 [00:00<?, ?it/s]\u001b[A"
     ]
    },
    {
     "name": "stdout",
     "output_type": "stream",
     "text": [
      "\tsaving model 31500...\n",
      "\tdone\n",
      "Evaluating\n"
     ]
    },
    {
     "name": "stderr",
     "output_type": "stream",
     "text": [
      "\n",
      " 21%|##        | 8/39 [00:00<00:00, 76.76it/s]\u001b[A\n",
      " 44%|####3     | 17/39 [00:00<00:00, 78.42it/s]\u001b[A\n",
      " 64%|######4   | 25/39 [00:00<00:00, 78.05it/s]\u001b[A\n",
      " 87%|########7 | 34/39 [00:00<00:00, 79.91it/s]\u001b[A\n",
      " 92%|█████████▏| 403/438 [00:18<00:03,  9.19it/s]A"
     ]
    },
    {
     "name": "stdout",
     "output_type": "stream",
     "text": [
      "{'ade': 0.33703318, 'fde': 0.7188094}\n",
      "\t last loss:0.000518614, eval on validation:['ade: 0.33703318', 'fde: 0.7188094'], (best ade:0.33677337 at step 24600) \n"
     ]
    },
    {
     "name": "stderr",
     "output_type": "stream",
     "text": [
      "100%|██████████| 438/438 [00:20<00:00, 21.62it/s]\n",
      "  0%|          | 1/438 [00:00<00:50,  8.59it/s]"
     ]
    },
    {
     "name": "stdout",
     "output_type": "stream",
     "text": [
      "('Epoca 73.', 'lr:', 5.7558805e-06)\n"
     ]
    },
    {
     "name": "stderr",
     "output_type": "stream",
     "text": [
      " 60%|█████▉    | 262/438 [00:10<00:06, 26.28it/s]\n",
      "  0%|          | 0/39 [00:00<?, ?it/s]\u001b[A"
     ]
    },
    {
     "name": "stdout",
     "output_type": "stream",
     "text": [
      "\tsaving model 31800...\n",
      "\tdone\n",
      "Evaluating\n"
     ]
    },
    {
     "name": "stderr",
     "output_type": "stream",
     "text": [
      "\n",
      " 23%|##3       | 9/39 [00:00<00:00, 87.13it/s]\u001b[A\n",
      " 49%|####8     | 19/39 [00:00<00:00, 88.41it/s]\u001b[A\n",
      " 74%|#######4  | 29/39 [00:00<00:00, 89.27it/s]\u001b[A\n",
      " 61%|██████    | 268/438 [00:11<00:13, 12.26it/s]A"
     ]
    },
    {
     "name": "stdout",
     "output_type": "stream",
     "text": [
      "{'ade': 0.33744544, 'fde': 0.71886563}\n",
      "\t last loss:0.000292478, eval on validation:['ade: 0.33744544', 'fde: 0.71886563'], (best ade:0.33677337 at step 24600) \n"
     ]
    },
    {
     "name": "stderr",
     "output_type": "stream",
     "text": [
      "100%|██████████| 438/438 [00:18<00:00, 24.03it/s]\n",
      "  0%|          | 2/438 [00:00<00:28, 15.36it/s]"
     ]
    },
    {
     "name": "stdout",
     "output_type": "stream",
     "text": [
      "('Epoca 74.', 'lr:', 5.7558805e-06)\n"
     ]
    },
    {
     "name": "stderr",
     "output_type": "stream",
     "text": [
      " 29%|██▊       | 125/438 [00:05<00:13, 23.80it/s]\n",
      "  0%|          | 0/39 [00:00<?, ?it/s]\u001b[A"
     ]
    },
    {
     "name": "stdout",
     "output_type": "stream",
     "text": [
      "\tsaving model 32100...\n",
      "\tdone\n",
      "Evaluating\n"
     ]
    },
    {
     "name": "stderr",
     "output_type": "stream",
     "text": [
      "\n",
      " 21%|##        | 8/39 [00:00<00:00, 76.03it/s]\u001b[A\n",
      " 44%|####3     | 17/39 [00:00<00:00, 78.78it/s]\u001b[A\n",
      " 64%|######4   | 25/39 [00:00<00:00, 78.77it/s]\u001b[A\n",
      " 85%|########4 | 33/39 [00:00<00:00, 77.04it/s]\u001b[A\n",
      " 29%|██▉       | 128/438 [00:05<00:34,  9.03it/s]A"
     ]
    },
    {
     "name": "stdout",
     "output_type": "stream",
     "text": [
      "{'ade': 0.3399826, 'fde': 0.72620565}\n",
      "\t last loss:0.000307839, eval on validation:['ade: 0.3399826', 'fde: 0.72620565'], (best ade:0.33677337 at step 24600) \n"
     ]
    },
    {
     "name": "stderr",
     "output_type": "stream",
     "text": [
      " 97%|█████████▋| 424/438 [00:19<00:00, 24.62it/s]\n",
      "  0%|          | 0/39 [00:00<?, ?it/s]\u001b[A"
     ]
    },
    {
     "name": "stdout",
     "output_type": "stream",
     "text": [
      "\tsaving model 32400...\n",
      "\tdone\n",
      "Evaluating\n"
     ]
    },
    {
     "name": "stderr",
     "output_type": "stream",
     "text": [
      "\n",
      " 23%|##3       | 9/39 [00:00<00:00, 85.83it/s]\u001b[A\n",
      " 46%|####6     | 18/39 [00:00<00:00, 86.27it/s]\u001b[A\n",
      " 67%|######6   | 26/39 [00:00<00:00, 82.84it/s]\u001b[A\n",
      " 90%|########9 | 35/39 [00:00<00:00, 84.68it/s]\u001b[A\n",
      " 98%|█████████▊| 430/438 [00:19<00:00, 11.70it/s]A"
     ]
    },
    {
     "name": "stdout",
     "output_type": "stream",
     "text": [
      "{'ade': 0.33822954, 'fde': 0.7215814}\n",
      "\t last loss:0.000322035, eval on validation:['ade: 0.33822954', 'fde: 0.7215814'], (best ade:0.33677337 at step 24600) \n"
     ]
    },
    {
     "name": "stderr",
     "output_type": "stream",
     "text": [
      "100%|██████████| 438/438 [00:20<00:00, 21.56it/s]\n",
      "  1%|          | 3/438 [00:00<00:18, 23.46it/s]"
     ]
    },
    {
     "name": "stdout",
     "output_type": "stream",
     "text": [
      "('Epoca 75.', 'lr:', 4.8924985e-06)\n"
     ]
    },
    {
     "name": "stderr",
     "output_type": "stream",
     "text": [
      " 65%|██████▌   | 285/438 [00:11<00:06, 24.65it/s]\n",
      "  0%|          | 0/39 [00:00<?, ?it/s]\u001b[A"
     ]
    },
    {
     "name": "stdout",
     "output_type": "stream",
     "text": [
      "\tsaving model 32700...\n",
      "\tdone\n",
      "Evaluating\n"
     ]
    },
    {
     "name": "stderr",
     "output_type": "stream",
     "text": [
      "\n",
      " 21%|##        | 8/39 [00:00<00:00, 79.65it/s]\u001b[A\n",
      " 41%|####1     | 16/39 [00:00<00:00, 79.36it/s]\u001b[A\n",
      " 64%|######4   | 25/39 [00:00<00:00, 80.19it/s]\u001b[A\n",
      " 87%|########7 | 34/39 [00:00<00:00, 81.12it/s]\u001b[A\n",
      " 66%|██████▋   | 291/438 [00:12<00:12, 11.43it/s]A"
     ]
    },
    {
     "name": "stdout",
     "output_type": "stream",
     "text": [
      "{'ade': 0.33735958, 'fde': 0.71982574}\n",
      "\t last loss:0.000246076, eval on validation:['ade: 0.33735958', 'fde: 0.71982574'], (best ade:0.33677337 at step 24600) \n"
     ]
    },
    {
     "name": "stderr",
     "output_type": "stream",
     "text": [
      "100%|██████████| 438/438 [00:18<00:00, 25.81it/s]\n",
      "  0%|          | 1/438 [00:00<00:48,  8.98it/s]"
     ]
    },
    {
     "name": "stdout",
     "output_type": "stream",
     "text": [
      "('Epoca 76.', 'lr:', 4.8924985e-06)\n"
     ]
    },
    {
     "name": "stderr",
     "output_type": "stream",
     "text": [
      " 34%|███▍      | 148/438 [00:06<00:11, 26.13it/s]\n",
      "  0%|          | 0/39 [00:00<?, ?it/s]\u001b[A"
     ]
    },
    {
     "name": "stdout",
     "output_type": "stream",
     "text": [
      "\tsaving model 33000...\n",
      "\tdone\n",
      "Evaluating\n"
     ]
    },
    {
     "name": "stderr",
     "output_type": "stream",
     "text": [
      "\n",
      " 23%|##3       | 9/39 [00:00<00:00, 86.64it/s]\u001b[A\n",
      " 49%|####8     | 19/39 [00:00<00:00, 88.12it/s]\u001b[A\n",
      " 72%|#######1  | 28/39 [00:00<00:00, 87.29it/s]\u001b[A\n",
      " 95%|#########4| 37/39 [00:00<00:00, 87.89it/s]\u001b[A\n",
      " 35%|███▌      | 154/438 [00:06<00:23, 12.05it/s]A"
     ]
    },
    {
     "name": "stdout",
     "output_type": "stream",
     "text": [
      "{'ade': 0.33863217, 'fde': 0.7223835}\n",
      "\t last loss:0.000261138, eval on validation:['ade: 0.33863217', 'fde: 0.7223835'], (best ade:0.33677337 at step 24600) \n"
     ]
    },
    {
     "name": "stderr",
     "output_type": "stream",
     "text": [
      "100%|██████████| 438/438 [00:19<00:00, 22.30it/s]\n",
      "  0%|          | 2/438 [00:00<00:25, 17.33it/s]"
     ]
    },
    {
     "name": "stdout",
     "output_type": "stream",
     "text": [
      "('Epoca 77.', 'lr:', 4.158624e-06)\n"
     ]
    },
    {
     "name": "stderr",
     "output_type": "stream",
     "text": [
      "  2%|▏         | 10/438 [00:00<00:21, 19.95it/s]\n",
      "  0%|          | 0/39 [00:00<?, ?it/s]\u001b[A"
     ]
    },
    {
     "name": "stdout",
     "output_type": "stream",
     "text": [
      "\tsaving model 33300...\n",
      "\tdone\n",
      "Evaluating\n"
     ]
    },
    {
     "name": "stderr",
     "output_type": "stream",
     "text": [
      "\n",
      " 23%|##3       | 9/39 [00:00<00:00, 81.42it/s]\u001b[A\n",
      " 44%|####3     | 17/39 [00:00<00:00, 80.73it/s]\u001b[A\n",
      " 67%|######6   | 26/39 [00:00<00:00, 81.71it/s]\u001b[A\n",
      " 90%|########9 | 35/39 [00:00<00:00, 81.89it/s]\u001b[A\n",
      "  3%|▎         | 15/438 [00:01<00:49,  8.53it/s][A"
     ]
    },
    {
     "name": "stdout",
     "output_type": "stream",
     "text": [
      "{'ade': 0.33752558, 'fde': 0.7199518}\n",
      "\t last loss:0.000358208, eval on validation:['ade: 0.33752558', 'fde: 0.7199518'], (best ade:0.33677337 at step 24600) \n"
     ]
    },
    {
     "name": "stderr",
     "output_type": "stream",
     "text": [
      " 71%|███████   | 311/438 [00:14<00:05, 21.70it/s]\n",
      "  0%|          | 0/39 [00:00<?, ?it/s]\u001b[A"
     ]
    },
    {
     "name": "stdout",
     "output_type": "stream",
     "text": [
      "\tsaving model 33600...\n",
      "\tdone\n",
      "Evaluating\n"
     ]
    },
    {
     "name": "stderr",
     "output_type": "stream",
     "text": [
      "\n",
      " 21%|##        | 8/39 [00:00<00:00, 72.23it/s]\u001b[A\n",
      " 38%|###8      | 15/39 [00:00<00:00, 68.88it/s]\u001b[A\n",
      " 56%|#####6    | 22/39 [00:00<00:00, 69.01it/s]\u001b[A\n",
      " 77%|#######6  | 30/39 [00:00<00:00, 70.43it/s]\u001b[A\n",
      " 97%|#########7| 38/39 [00:00<00:00, 72.07it/s]\u001b[A\n",
      " 72%|███████▏  | 314/438 [00:14<00:15,  8.19it/s]A"
     ]
    },
    {
     "name": "stdout",
     "output_type": "stream",
     "text": [
      "{'ade': 0.33793172, 'fde': 0.72088367}\n",
      "\t last loss:0.000390327, eval on validation:['ade: 0.33793172', 'fde: 0.72088367'], (best ade:0.33677337 at step 24600) \n"
     ]
    },
    {
     "name": "stderr",
     "output_type": "stream",
     "text": [
      "100%|██████████| 438/438 [00:20<00:00, 21.56it/s]\n",
      "  0%|          | 1/438 [00:00<00:48,  9.00it/s]"
     ]
    },
    {
     "name": "stdout",
     "output_type": "stream",
     "text": [
      "('Epoca 78.', 'lr:', 4.158624e-06)\n"
     ]
    },
    {
     "name": "stderr",
     "output_type": "stream",
     "text": [
      " 39%|███▉      | 171/438 [00:06<00:10, 24.67it/s]\n",
      "  0%|          | 0/39 [00:00<?, ?it/s]\u001b[A"
     ]
    },
    {
     "name": "stdout",
     "output_type": "stream",
     "text": [
      "\tsaving model 33900...\n",
      "\tdone\n",
      "Evaluating\n"
     ]
    },
    {
     "name": "stderr",
     "output_type": "stream",
     "text": [
      "\n",
      " 18%|#7        | 7/39 [00:00<00:00, 66.52it/s]\u001b[A\n",
      " 41%|####1     | 16/39 [00:00<00:00, 70.51it/s]\u001b[A\n",
      " 64%|######4   | 25/39 [00:00<00:00, 73.47it/s]\u001b[A\n",
      " 87%|########7 | 34/39 [00:00<00:00, 76.06it/s]\u001b[A\n",
      " 40%|████      | 177/438 [00:07<00:23, 11.22it/s]A"
     ]
    },
    {
     "name": "stdout",
     "output_type": "stream",
     "text": [
      "{'ade': 0.33757377, 'fde': 0.719722}\n",
      "\t last loss:0.000290713, eval on validation:['ade: 0.33757377', 'fde: 0.719722'], (best ade:0.33677337 at step 24600) \n"
     ]
    },
    {
     "name": "stderr",
     "output_type": "stream",
     "text": [
      "100%|██████████| 438/438 [00:18<00:00, 25.17it/s]\n",
      "  0%|          | 1/438 [00:00<00:43,  9.95it/s]"
     ]
    },
    {
     "name": "stdout",
     "output_type": "stream",
     "text": [
      "('Epoca 79.', 'lr:', 3.5348305e-06)\n"
     ]
    },
    {
     "name": "stderr",
     "output_type": "stream",
     "text": [
      "  8%|▊         | 34/438 [00:01<00:16, 25.24it/s]\n",
      "  0%|          | 0/39 [00:00<?, ?it/s]\u001b[A"
     ]
    },
    {
     "name": "stdout",
     "output_type": "stream",
     "text": [
      "\tsaving model 34200...\n",
      "\tdone\n",
      "Evaluating\n"
     ]
    },
    {
     "name": "stderr",
     "output_type": "stream",
     "text": [
      "\n",
      " 23%|##3       | 9/39 [00:00<00:00, 82.96it/s]\u001b[A\n",
      " 49%|####8     | 19/39 [00:00<00:00, 85.28it/s]\u001b[A\n",
      " 69%|######9   | 27/39 [00:00<00:00, 83.25it/s]\u001b[A\n",
      " 92%|#########2| 36/39 [00:00<00:00, 82.88it/s]\u001b[A\n",
      "100%|##########| 39/39 [00:00<00:00, 83.24it/s]\u001b[A"
     ]
    },
    {
     "name": "stdout",
     "output_type": "stream",
     "text": [
      "{'ade': 0.3365121, 'fde': 0.7172745}\n",
      "\t last loss:0.000780048, eval on validation:['ade: 0.3365121', 'fde: 0.7172745'], (best ade:0.33677337 at step 24600) \n",
      "\t saving best model...\n",
      "\t done.\n"
     ]
    },
    {
     "name": "stderr",
     "output_type": "stream",
     "text": [
      " 76%|███████▋  | 334/438 [00:14<00:04, 24.19it/s]\n",
      "  0%|          | 0/39 [00:00<?, ?it/s]\u001b[A"
     ]
    },
    {
     "name": "stdout",
     "output_type": "stream",
     "text": [
      "\tsaving model 34500...\n",
      "\tdone\n",
      "Evaluating\n"
     ]
    },
    {
     "name": "stderr",
     "output_type": "stream",
     "text": [
      "\n",
      " 21%|##        | 8/39 [00:00<00:00, 77.51it/s]\u001b[A\n",
      " 44%|####3     | 17/39 [00:00<00:00, 79.56it/s]\u001b[A\n",
      " 67%|######6   | 26/39 [00:00<00:00, 80.94it/s]\u001b[A\n",
      " 87%|########7 | 34/39 [00:00<00:00, 79.97it/s]\u001b[A\n",
      " 78%|███████▊  | 340/438 [00:15<00:08, 11.45it/s]A"
     ]
    },
    {
     "name": "stdout",
     "output_type": "stream",
     "text": [
      "{'ade': 0.33769357, 'fde': 0.7200169}\n",
      "\t last loss:0.000231816, eval on validation:['ade: 0.33769357', 'fde: 0.7200169'], (best ade:0.3365121 at step 34200) \n"
     ]
    },
    {
     "name": "stderr",
     "output_type": "stream",
     "text": [
      "100%|██████████| 438/438 [00:19<00:00, 23.03it/s]\n",
      "  0%|          | 2/438 [00:00<00:28, 15.29it/s]"
     ]
    },
    {
     "name": "stdout",
     "output_type": "stream",
     "text": [
      "('Epoca 80.', 'lr:', 3.5348305e-06)\n"
     ]
    },
    {
     "name": "stderr",
     "output_type": "stream",
     "text": [
      " 45%|████▍     | 197/438 [00:07<00:09, 25.11it/s]\n",
      "  0%|          | 0/39 [00:00<?, ?it/s]\u001b[A"
     ]
    },
    {
     "name": "stdout",
     "output_type": "stream",
     "text": [
      "\tsaving model 34800...\n",
      "\tdone\n",
      "Evaluating\n"
     ]
    },
    {
     "name": "stderr",
     "output_type": "stream",
     "text": [
      "\n",
      " 21%|##        | 8/39 [00:00<00:00, 77.47it/s]\u001b[A\n",
      " 44%|####3     | 17/39 [00:00<00:00, 79.20it/s]\u001b[A\n",
      " 64%|######4   | 25/39 [00:00<00:00, 78.70it/s]\u001b[A\n",
      " 85%|########4 | 33/39 [00:00<00:00, 78.60it/s]\u001b[A\n",
      " 46%|████▌     | 200/438 [00:08<00:25,  9.25it/s]A"
     ]
    },
    {
     "name": "stdout",
     "output_type": "stream",
     "text": [
      "{'ade': 0.33694544, 'fde': 0.71829224}\n",
      "\t last loss:0.000257965, eval on validation:['ade: 0.33694544', 'fde: 0.71829224'], (best ade:0.3365121 at step 34200) \n"
     ]
    },
    {
     "name": "stderr",
     "output_type": "stream",
     "text": [
      "100%|██████████| 438/438 [00:18<00:00, 23.77it/s]\n",
      "  0%|          | 1/438 [00:00<00:52,  8.35it/s]"
     ]
    },
    {
     "name": "stdout",
     "output_type": "stream",
     "text": [
      "('Epoca 81.', 'lr:', 3.004606e-06)\n"
     ]
    },
    {
     "name": "stderr",
     "output_type": "stream",
     "text": [
      " 13%|█▎        | 58/438 [00:02<00:19, 19.95it/s]"
     ]
    },
    {
     "name": "stdout",
     "output_type": "stream",
     "text": [
      "\tsaving model 35100...\n"
     ]
    },
    {
     "name": "stderr",
     "output_type": "stream",
     "text": [
      "\n",
      "  0%|          | 0/39 [00:00<?, ?it/s]\u001b[A\n",
      " 18%|#7        | 7/39 [00:00<00:00, 64.57it/s]\u001b[A"
     ]
    },
    {
     "name": "stdout",
     "output_type": "stream",
     "text": [
      "\tdone\n",
      "Evaluating\n"
     ]
    },
    {
     "name": "stderr",
     "output_type": "stream",
     "text": [
      "\n",
      " 33%|###3      | 13/39 [00:00<00:00, 63.08it/s]\u001b[A\n",
      " 51%|#####1    | 20/39 [00:00<00:00, 62.52it/s]\u001b[A\n",
      " 69%|######9   | 27/39 [00:00<00:00, 62.45it/s]\u001b[A\n",
      " 82%|########2 | 32/39 [00:00<00:00, 55.88it/s]\u001b[A\n",
      " 97%|#########7| 38/39 [00:00<00:00, 55.57it/s]\u001b[A\n",
      " 14%|█▍        | 61/438 [00:03<00:53,  7.08it/s][A"
     ]
    },
    {
     "name": "stdout",
     "output_type": "stream",
     "text": [
      "{'ade': 0.33727124, 'fde': 0.7192149}\n",
      "\t last loss:0.000346495, eval on validation:['ade: 0.33727124', 'fde: 0.7192149'], (best ade:0.3365121 at step 34200) \n"
     ]
    },
    {
     "name": "stderr",
     "output_type": "stream",
     "text": [
      " 82%|████████▏ | 357/438 [00:16<00:03, 26.15it/s]\n",
      "  0%|          | 0/39 [00:00<?, ?it/s]\u001b[A"
     ]
    },
    {
     "name": "stdout",
     "output_type": "stream",
     "text": [
      "\tsaving model 35400...\n",
      "\tdone\n",
      "Evaluating\n"
     ]
    },
    {
     "name": "stderr",
     "output_type": "stream",
     "text": [
      "\n",
      " 23%|##3       | 9/39 [00:00<00:00, 84.55it/s]\u001b[A\n",
      " 49%|####8     | 19/39 [00:00<00:00, 86.74it/s]\u001b[A\n",
      " 74%|#######4  | 29/39 [00:00<00:00, 88.10it/s]\u001b[A\n",
      " 97%|#########7| 38/39 [00:00<00:00, 87.62it/s]\u001b[A\n",
      " 83%|████████▎ | 363/438 [00:17<00:06, 12.01it/s]A"
     ]
    },
    {
     "name": "stdout",
     "output_type": "stream",
     "text": [
      "{'ade': 0.3374048, 'fde': 0.71925366}\n",
      "\t last loss:0.000291901, eval on validation:['ade: 0.3374048', 'fde: 0.71925366'], (best ade:0.3365121 at step 34200) \n"
     ]
    },
    {
     "name": "stderr",
     "output_type": "stream",
     "text": [
      "100%|██████████| 438/438 [00:20<00:00, 23.80it/s]\n",
      "  1%|          | 3/438 [00:00<00:18, 23.26it/s]"
     ]
    },
    {
     "name": "stdout",
     "output_type": "stream",
     "text": [
      "('Epoca 82.', 'lr:', 3.004606e-06)\n"
     ]
    },
    {
     "name": "stderr",
     "output_type": "stream",
     "text": [
      " 50%|█████     | 219/438 [00:08<00:08, 24.63it/s]\n",
      "  0%|          | 0/39 [00:00<?, ?it/s]\u001b[A"
     ]
    },
    {
     "name": "stdout",
     "output_type": "stream",
     "text": [
      "\tsaving model 35700...\n",
      "\tdone\n",
      "Evaluating\n"
     ]
    },
    {
     "name": "stderr",
     "output_type": "stream",
     "text": [
      "\n",
      " 23%|##3       | 9/39 [00:00<00:00, 84.86it/s]\u001b[A\n",
      " 49%|####8     | 19/39 [00:00<00:00, 87.29it/s]\u001b[A\n",
      " 74%|#######4  | 29/39 [00:00<00:00, 88.55it/s]\u001b[A\n",
      " 51%|█████▏    | 225/438 [00:09<00:17, 12.00it/s]A"
     ]
    },
    {
     "name": "stdout",
     "output_type": "stream",
     "text": [
      "{'ade': 0.33735886, 'fde': 0.7197876}\n",
      "\t last loss:0.000377084, eval on validation:['ade: 0.33735886', 'fde: 0.7197876'], (best ade:0.3365121 at step 34200) \n"
     ]
    },
    {
     "name": "stderr",
     "output_type": "stream",
     "text": [
      "100%|██████████| 438/438 [00:20<00:00, 21.35it/s]\n",
      "  0%|          | 2/438 [00:00<00:25, 17.40it/s]"
     ]
    },
    {
     "name": "stdout",
     "output_type": "stream",
     "text": [
      "('Epoca 83.', 'lr:', 2.5539152e-06)\n"
     ]
    },
    {
     "name": "stderr",
     "output_type": "stream",
     "text": [
      " 19%|█▉        | 83/438 [00:04<00:14, 24.69it/s]\n",
      "  0%|          | 0/39 [00:00<?, ?it/s]\u001b[A"
     ]
    },
    {
     "name": "stdout",
     "output_type": "stream",
     "text": [
      "\tsaving model 36000...\n",
      "\tdone\n",
      "Evaluating\n"
     ]
    },
    {
     "name": "stderr",
     "output_type": "stream",
     "text": [
      "\n",
      " 23%|##3       | 9/39 [00:00<00:00, 85.30it/s]\u001b[A\n",
      " 49%|####8     | 19/39 [00:00<00:00, 87.49it/s]\u001b[A\n",
      " 72%|#######1  | 28/39 [00:00<00:00, 87.59it/s]\u001b[A\n",
      " 95%|#########4| 37/39 [00:00<00:00, 85.90it/s]\u001b[A\n",
      " 20%|█▉        | 86/438 [00:05<00:36,  9.61it/s][A"
     ]
    },
    {
     "name": "stdout",
     "output_type": "stream",
     "text": [
      "{'ade': 0.33761275, 'fde': 0.7203858}\n",
      "\t last loss:0.000277387, eval on validation:['ade: 0.33761275', 'fde: 0.7203858'], (best ade:0.3365121 at step 34200) \n"
     ]
    },
    {
     "name": "stderr",
     "output_type": "stream",
     "text": [
      " 87%|████████▋ | 383/438 [00:18<00:02, 22.93it/s]\n",
      "  0%|          | 0/39 [00:00<?, ?it/s]"
     ]
    },
    {
     "name": "stdout",
     "output_type": "stream",
     "text": [
      "\tsaving model 36300...\n",
      "\tdone\n",
      "Evaluating\n"
     ]
    },
    {
     "name": "stderr",
     "output_type": "stream",
     "text": [
      "\u001b[A\n",
      " 18%|#7        | 7/39 [00:00<00:00, 67.21it/s]\u001b[A\n",
      " 38%|###8      | 15/39 [00:00<00:00, 69.12it/s]\u001b[A\n",
      " 59%|#####8    | 23/39 [00:00<00:00, 70.85it/s]\u001b[A\n",
      " 79%|#######9  | 31/39 [00:00<00:00, 71.37it/s]\u001b[A\n",
      " 88%|████████▊ | 386/438 [00:19<00:06,  8.42it/s]A"
     ]
    },
    {
     "name": "stdout",
     "output_type": "stream",
     "text": [
      "{'ade': 0.33813736, 'fde': 0.7220014}\n",
      "\t last loss:0.000316887, eval on validation:['ade: 0.33813736', 'fde: 0.7220014'], (best ade:0.3365121 at step 34200) \n"
     ]
    },
    {
     "name": "stderr",
     "output_type": "stream",
     "text": [
      "100%|██████████| 438/438 [00:21<00:00, 20.45it/s]\n",
      "  0%|          | 1/438 [00:00<00:54,  7.97it/s]"
     ]
    },
    {
     "name": "stdout",
     "output_type": "stream",
     "text": [
      "('Epoca 84.', 'lr:', 2.5539152e-06)\n"
     ]
    },
    {
     "name": "stderr",
     "output_type": "stream",
     "text": [
      " 56%|█████▌    | 244/438 [00:09<00:07, 24.57it/s]\n",
      "  0%|          | 0/39 [00:00<?, ?it/s]\u001b[A"
     ]
    },
    {
     "name": "stdout",
     "output_type": "stream",
     "text": [
      "\tsaving model 36600...\n",
      "\tdone\n",
      "Evaluating\n"
     ]
    },
    {
     "name": "stderr",
     "output_type": "stream",
     "text": [
      "\n",
      " 21%|##        | 8/39 [00:00<00:00, 76.18it/s]\u001b[A\n",
      " 44%|####3     | 17/39 [00:00<00:00, 78.47it/s]\u001b[A\n",
      " 67%|######6   | 26/39 [00:00<00:00, 80.17it/s]\u001b[A\n",
      " 90%|########9 | 35/39 [00:00<00:00, 80.87it/s]\u001b[A\n",
      " 56%|█████▋    | 247/438 [00:10<00:20,  9.33it/s]A"
     ]
    },
    {
     "name": "stdout",
     "output_type": "stream",
     "text": [
      "{'ade': 0.33829862, 'fde': 0.721925}\n",
      "\t last loss:0.000404547, eval on validation:['ade: 0.33829862', 'fde: 0.721925'], (best ade:0.3365121 at step 34200) \n"
     ]
    },
    {
     "name": "stderr",
     "output_type": "stream",
     "text": [
      "100%|██████████| 438/438 [00:18<00:00, 24.08it/s]\n",
      "  0%|          | 1/438 [00:00<01:00,  7.19it/s]"
     ]
    },
    {
     "name": "stdout",
     "output_type": "stream",
     "text": [
      "('Epoca 85.', 'lr:', 2.170828e-06)\n"
     ]
    },
    {
     "name": "stderr",
     "output_type": "stream",
     "text": [
      " 24%|██▍       | 106/438 [00:04<00:12, 26.42it/s]\n",
      "  0%|          | 0/39 [00:00<?, ?it/s]\u001b[A"
     ]
    },
    {
     "name": "stdout",
     "output_type": "stream",
     "text": [
      "\tsaving model 36900...\n",
      "\tdone\n",
      "Evaluating\n"
     ]
    },
    {
     "name": "stderr",
     "output_type": "stream",
     "text": [
      "\n",
      " 26%|##5       | 10/39 [00:00<00:00, 92.83it/s]\u001b[A\n",
      " 46%|####6     | 18/39 [00:00<00:00, 88.28it/s]\u001b[A\n",
      " 69%|######9   | 27/39 [00:00<00:00, 88.56it/s]\u001b[A\n",
      " 95%|#########4| 37/39 [00:00<00:00, 90.08it/s]\u001b[A\n",
      " 25%|██▍       | 109/438 [00:05<00:34,  9.48it/s]A"
     ]
    },
    {
     "name": "stdout",
     "output_type": "stream",
     "text": [
      "{'ade': 0.33706477, 'fde': 0.71861696}\n",
      "\t last loss:0.000251427, eval on validation:['ade: 0.33706477', 'fde: 0.71861696'], (best ade:0.3365121 at step 34200) \n"
     ]
    },
    {
     "name": "stderr",
     "output_type": "stream",
     "text": [
      " 93%|█████████▎| 406/438 [00:16<00:01, 24.51it/s]\n",
      "  0%|          | 0/39 [00:00<?, ?it/s]\u001b[A"
     ]
    },
    {
     "name": "stdout",
     "output_type": "stream",
     "text": [
      "\tsaving model 37200...\n",
      "\tdone\n",
      "Evaluating\n"
     ]
    },
    {
     "name": "stderr",
     "output_type": "stream",
     "text": [
      "\n",
      " 26%|##5       | 10/39 [00:00<00:00, 92.89it/s]\u001b[A\n",
      " 51%|#####1    | 20/39 [00:00<00:00, 93.03it/s]\u001b[A\n",
      " 77%|#######6  | 30/39 [00:00<00:00, 92.87it/s]\u001b[A\n",
      " 94%|█████████▍| 412/438 [00:17<00:02, 12.05it/s]A"
     ]
    },
    {
     "name": "stdout",
     "output_type": "stream",
     "text": [
      "{'ade': 0.3386453, 'fde': 0.72287667}\n",
      "\t last loss:0.000345704, eval on validation:['ade: 0.3386453', 'fde: 0.72287667'], (best ade:0.3365121 at step 34200) \n"
     ]
    },
    {
     "name": "stderr",
     "output_type": "stream",
     "text": [
      "100%|██████████| 438/438 [00:18<00:00, 23.33it/s]\n",
      "  0%|          | 1/438 [00:00<00:48,  9.02it/s]"
     ]
    },
    {
     "name": "stdout",
     "output_type": "stream",
     "text": [
      "('Epoca 86.', 'lr:', 2.170828e-06)\n"
     ]
    },
    {
     "name": "stderr",
     "output_type": "stream",
     "text": [
      " 61%|██████    | 268/438 [00:10<00:06, 24.81it/s]\n",
      "  0%|          | 0/39 [00:00<?, ?it/s]\u001b[A"
     ]
    },
    {
     "name": "stdout",
     "output_type": "stream",
     "text": [
      "\tsaving model 37500...\n",
      "\tdone\n",
      "Evaluating\n"
     ]
    },
    {
     "name": "stderr",
     "output_type": "stream",
     "text": [
      "\n",
      " 23%|##3       | 9/39 [00:00<00:00, 81.58it/s]\u001b[A\n",
      " 41%|####1     | 16/39 [00:00<00:00, 76.65it/s]\u001b[A\n",
      " 64%|######4   | 25/39 [00:00<00:00, 78.29it/s]\u001b[A\n",
      " 87%|########7 | 34/39 [00:00<00:00, 79.77it/s]\u001b[A\n",
      " 62%|██████▏   | 271/438 [00:11<00:18,  9.10it/s]A"
     ]
    },
    {
     "name": "stdout",
     "output_type": "stream",
     "text": [
      "{'ade': 0.33770767, 'fde': 0.7203978}\n",
      "\t last loss:0.000421896, eval on validation:['ade: 0.33770767', 'fde: 0.7203978'], (best ade:0.3365121 at step 34200) \n"
     ]
    },
    {
     "name": "stderr",
     "output_type": "stream",
     "text": [
      "100%|██████████| 438/438 [00:18<00:00, 24.07it/s]\n",
      "  1%|          | 3/438 [00:00<00:18, 23.74it/s]"
     ]
    },
    {
     "name": "stdout",
     "output_type": "stream",
     "text": [
      "('Epoca 87.', 'lr:', 1.8452038e-06)\n"
     ]
    },
    {
     "name": "stderr",
     "output_type": "stream",
     "text": [
      " 29%|██▉       | 129/438 [00:05<00:11, 25.94it/s]\n",
      "  0%|          | 0/39 [00:00<?, ?it/s]\u001b[A"
     ]
    },
    {
     "name": "stdout",
     "output_type": "stream",
     "text": [
      "\tsaving model 37800...\n",
      "\tdone\n",
      "Evaluating\n"
     ]
    },
    {
     "name": "stderr",
     "output_type": "stream",
     "text": [
      "\n",
      " 23%|##3       | 9/39 [00:00<00:00, 87.60it/s]\u001b[A\n",
      " 46%|####6     | 18/39 [00:00<00:00, 87.02it/s]\u001b[A\n",
      " 72%|#######1  | 28/39 [00:00<00:00, 88.73it/s]\u001b[A\n",
      " 97%|#########7| 38/39 [00:00<00:00, 89.62it/s]\u001b[A\n",
      " 31%|███       | 135/438 [00:06<00:25, 12.09it/s]A"
     ]
    },
    {
     "name": "stdout",
     "output_type": "stream",
     "text": [
      "{'ade': 0.33757022, 'fde': 0.719871}\n",
      "\t last loss:0.000233717, eval on validation:['ade: 0.33757022', 'fde: 0.719871'], (best ade:0.3365121 at step 34200) \n"
     ]
    },
    {
     "name": "stderr",
     "output_type": "stream",
     "text": [
      " 98%|█████████▊| 429/438 [00:17<00:00, 24.30it/s]\n",
      "  0%|          | 0/39 [00:00<?, ?it/s]\u001b[A"
     ]
    },
    {
     "name": "stdout",
     "output_type": "stream",
     "text": [
      "\tsaving model 38100...\n",
      "\tdone\n",
      "Evaluating\n"
     ]
    },
    {
     "name": "stderr",
     "output_type": "stream",
     "text": [
      "\n",
      " 18%|#7        | 7/39 [00:00<00:00, 67.45it/s]\u001b[A\n",
      " 41%|####1     | 16/39 [00:00<00:00, 71.71it/s]\u001b[A\n",
      " 62%|######1   | 24/39 [00:00<00:00, 73.91it/s]\u001b[A\n",
      " 85%|########4 | 33/39 [00:00<00:00, 76.30it/s]\u001b[A\n",
      " 99%|█████████▉| 435/438 [00:18<00:00, 11.11it/s]A"
     ]
    },
    {
     "name": "stdout",
     "output_type": "stream",
     "text": [
      "{'ade': 0.3370735, 'fde': 0.71881247}\n",
      "\t last loss:0.000572403, eval on validation:['ade: 0.3370735', 'fde: 0.71881247'], (best ade:0.3365121 at step 34200) \n"
     ]
    },
    {
     "name": "stderr",
     "output_type": "stream",
     "text": [
      "100%|██████████| 438/438 [00:18<00:00, 13.25it/s]\n",
      "  0%|          | 2/438 [00:00<00:30, 14.33it/s]"
     ]
    },
    {
     "name": "stdout",
     "output_type": "stream",
     "text": [
      "('Epoca 88.', 'lr:', 1.8452038e-06)\n"
     ]
    },
    {
     "name": "stderr",
     "output_type": "stream",
     "text": [
      " 67%|██████▋   | 293/438 [00:12<00:05, 24.69it/s]\n",
      "  0%|          | 0/39 [00:00<?, ?it/s]\u001b[A"
     ]
    },
    {
     "name": "stdout",
     "output_type": "stream",
     "text": [
      "\tsaving model 38400...\n",
      "\tdone\n",
      "Evaluating\n"
     ]
    },
    {
     "name": "stderr",
     "output_type": "stream",
     "text": [
      "\n",
      " 21%|##        | 8/39 [00:00<00:00, 77.62it/s]\u001b[A\n",
      " 46%|####6     | 18/39 [00:00<00:00, 81.34it/s]\u001b[A\n",
      " 72%|#######1  | 28/39 [00:00<00:00, 84.22it/s]\u001b[A\n",
      " 95%|#########4| 37/39 [00:00<00:00, 85.22it/s]\u001b[A\n",
      " 68%|██████▊   | 296/438 [00:13<00:14,  9.63it/s]A"
     ]
    },
    {
     "name": "stdout",
     "output_type": "stream",
     "text": [
      "{'ade': 0.33693174, 'fde': 0.71787405}\n",
      "\t last loss:0.000589452, eval on validation:['ade: 0.33693174', 'fde: 0.71787405'], (best ade:0.3365121 at step 34200) \n"
     ]
    },
    {
     "name": "stderr",
     "output_type": "stream",
     "text": [
      "100%|██████████| 438/438 [00:19<00:00, 22.62it/s]\n",
      "  0%|          | 1/438 [00:00<00:46,  9.37it/s]"
     ]
    },
    {
     "name": "stdout",
     "output_type": "stream",
     "text": [
      "('Epoca 89.', 'lr:', 1.5684233e-06)\n"
     ]
    },
    {
     "name": "stderr",
     "output_type": "stream",
     "text": [
      " 35%|███▌      | 154/438 [00:06<00:11, 25.28it/s]\n",
      "  0%|          | 0/39 [00:00<?, ?it/s]\u001b[A"
     ]
    },
    {
     "name": "stdout",
     "output_type": "stream",
     "text": [
      "\tsaving model 38700...\n",
      "\tdone\n",
      "Evaluating\n"
     ]
    },
    {
     "name": "stderr",
     "output_type": "stream",
     "text": [
      "\n",
      " 23%|##3       | 9/39 [00:00<00:00, 82.22it/s]\u001b[A\n",
      " 44%|####3     | 17/39 [00:00<00:00, 81.40it/s]\u001b[A\n",
      " 67%|######6   | 26/39 [00:00<00:00, 82.81it/s]\u001b[A\n",
      " 90%|########9 | 35/39 [00:00<00:00, 82.72it/s]\u001b[A\n",
      " 36%|███▌      | 157/438 [00:06<00:30,  9.27it/s]A"
     ]
    },
    {
     "name": "stdout",
     "output_type": "stream",
     "text": [
      "{'ade': 0.3377946, 'fde': 0.7204074}\n",
      "\t last loss:0.000301119, eval on validation:['ade: 0.3377946', 'fde: 0.7204074'], (best ade:0.3365121 at step 34200) \n"
     ]
    },
    {
     "name": "stderr",
     "output_type": "stream",
     "text": [
      "100%|██████████| 438/438 [00:18<00:00, 23.83it/s]\n",
      "  0%|          | 1/438 [00:00<00:48,  9.03it/s]"
     ]
    },
    {
     "name": "stdout",
     "output_type": "stream",
     "text": [
      "('Epoca 90.', 'lr:', 1.5684233e-06)\n"
     ]
    },
    {
     "name": "stderr",
     "output_type": "stream",
     "text": [
      "  4%|▎         | 16/438 [00:00<00:21, 19.59it/s]\n",
      "  0%|          | 0/39 [00:00<?, ?it/s]\u001b[A"
     ]
    },
    {
     "name": "stdout",
     "output_type": "stream",
     "text": [
      "\tsaving model 39000...\n",
      "\tdone\n",
      "Evaluating\n"
     ]
    },
    {
     "name": "stderr",
     "output_type": "stream",
     "text": [
      "\n",
      " 23%|##3       | 9/39 [00:00<00:00, 89.30it/s]\u001b[A\n",
      " 46%|####6     | 18/39 [00:00<00:00, 88.11it/s]\u001b[A\n",
      " 72%|#######1  | 28/39 [00:00<00:00, 89.52it/s]\u001b[A\n",
      " 97%|#########7| 38/39 [00:00<00:00, 90.54it/s]\u001b[A\n",
      "  4%|▍         | 19/438 [00:01<00:45,  9.11it/s][A"
     ]
    },
    {
     "name": "stdout",
     "output_type": "stream",
     "text": [
      "{'ade': 0.33752263, 'fde': 0.72011304}\n",
      "\t last loss:0.000278807, eval on validation:['ade: 0.33752263', 'fde: 0.72011304'], (best ade:0.3365121 at step 34200) \n"
     ]
    },
    {
     "name": "stderr",
     "output_type": "stream",
     "text": [
      " 72%|███████▏  | 316/438 [00:13<00:04, 24.79it/s]\n",
      "  0%|          | 0/39 [00:00<?, ?it/s]\u001b[A"
     ]
    },
    {
     "name": "stdout",
     "output_type": "stream",
     "text": [
      "\tsaving model 39300...\n",
      "\tdone\n",
      "Evaluating\n"
     ]
    },
    {
     "name": "stderr",
     "output_type": "stream",
     "text": [
      "\n",
      " 21%|##        | 8/39 [00:00<00:00, 75.43it/s]\u001b[A\n",
      " 44%|####3     | 17/39 [00:00<00:00, 78.21it/s]\u001b[A\n",
      " 67%|######6   | 26/39 [00:00<00:00, 80.08it/s]\u001b[A\n",
      " 90%|########9 | 35/39 [00:00<00:00, 81.30it/s]\u001b[A\n",
      " 73%|███████▎  | 319/438 [00:13<00:12,  9.31it/s]A"
     ]
    },
    {
     "name": "stdout",
     "output_type": "stream",
     "text": [
      "{'ade': 0.3376703, 'fde': 0.72024006}\n",
      "\t last loss:0.000202982, eval on validation:['ade: 0.3376703', 'fde: 0.72024006'], (best ade:0.3365121 at step 34200) \n"
     ]
    },
    {
     "name": "stderr",
     "output_type": "stream",
     "text": [
      "100%|██████████| 438/438 [00:18<00:00, 23.45it/s]\n",
      "  0%|          | 1/438 [00:00<00:48,  9.00it/s]"
     ]
    },
    {
     "name": "stdout",
     "output_type": "stream",
     "text": [
      "('Epoca 91.', 'lr:', 1.3331598e-06)\n"
     ]
    },
    {
     "name": "stderr",
     "output_type": "stream",
     "text": [
      " 41%|████      | 178/438 [00:07<00:09, 26.42it/s]\n",
      "  0%|          | 0/39 [00:00<?, ?it/s]\u001b[A"
     ]
    },
    {
     "name": "stdout",
     "output_type": "stream",
     "text": [
      "\tsaving model 39600...\n",
      "\tdone\n",
      "Evaluating\n"
     ]
    },
    {
     "name": "stderr",
     "output_type": "stream",
     "text": [
      "\n",
      " 23%|##3       | 9/39 [00:00<00:00, 89.67it/s]\u001b[A\n",
      " 46%|####6     | 18/39 [00:00<00:00, 89.66it/s]\u001b[A\n",
      " 72%|#######1  | 28/39 [00:00<00:00, 90.12it/s]\u001b[A\n",
      " 95%|#########4| 37/39 [00:00<00:00, 87.98it/s]\u001b[A\n",
      " 42%|████▏     | 184/438 [00:08<00:20, 12.19it/s]A"
     ]
    },
    {
     "name": "stdout",
     "output_type": "stream",
     "text": [
      "{'ade': 0.33690804, 'fde': 0.7180914}\n",
      "\t last loss:0.000274658, eval on validation:['ade: 0.33690804', 'fde: 0.7180914'], (best ade:0.3365121 at step 34200) \n"
     ]
    },
    {
     "name": "stderr",
     "output_type": "stream",
     "text": [
      "100%|██████████| 438/438 [00:19<00:00, 22.84it/s]\n",
      "  0%|          | 1/438 [00:00<00:47,  9.21it/s]"
     ]
    },
    {
     "name": "stdout",
     "output_type": "stream",
     "text": [
      "('Epoca 92.', 'lr:', 1.3331598e-06)\n"
     ]
    },
    {
     "name": "stderr",
     "output_type": "stream",
     "text": [
      "  9%|▉         | 41/438 [00:01<00:17, 22.74it/s]\n",
      "  0%|          | 0/39 [00:00<?, ?it/s]\u001b[A"
     ]
    },
    {
     "name": "stdout",
     "output_type": "stream",
     "text": [
      "\tsaving model 39900...\n",
      "\tdone\n",
      "Evaluating\n"
     ]
    },
    {
     "name": "stderr",
     "output_type": "stream",
     "text": [
      "\n",
      " 21%|##        | 8/39 [00:00<00:00, 77.34it/s]\u001b[A\n",
      " 44%|####3     | 17/39 [00:00<00:00, 79.57it/s]\u001b[A\n",
      " 67%|######6   | 26/39 [00:00<00:00, 81.13it/s]\u001b[A\n",
      " 90%|########9 | 35/39 [00:00<00:00, 82.13it/s]\u001b[A\n",
      " 10%|█         | 44/438 [00:02<00:44,  8.84it/s][A"
     ]
    },
    {
     "name": "stdout",
     "output_type": "stream",
     "text": [
      "{'ade': 0.33687738, 'fde': 0.7180451}\n",
      "\t last loss:0.000553541, eval on validation:['ade: 0.33687738', 'fde: 0.7180451'], (best ade:0.3365121 at step 34200) \n"
     ]
    },
    {
     "name": "stderr",
     "output_type": "stream",
     "text": [
      " 78%|███████▊  | 341/438 [00:14<00:03, 26.43it/s]\n",
      "  0%|          | 0/39 [00:00<?, ?it/s]\u001b[A"
     ]
    },
    {
     "name": "stdout",
     "output_type": "stream",
     "text": [
      "\tsaving model 40200...\n",
      "\tdone\n",
      "Evaluating\n"
     ]
    },
    {
     "name": "stderr",
     "output_type": "stream",
     "text": [
      "\n",
      " 26%|##5       | 10/39 [00:00<00:00, 92.30it/s]\u001b[A\n",
      " 51%|#####1    | 20/39 [00:00<00:00, 92.11it/s]\u001b[A\n",
      " 77%|#######6  | 30/39 [00:00<00:00, 92.38it/s]\u001b[A\n",
      " 79%|███████▊  | 344/438 [00:15<00:09, 10.14it/s]A"
     ]
    },
    {
     "name": "stdout",
     "output_type": "stream",
     "text": [
      "{'ade': 0.33695942, 'fde': 0.71827984}\n",
      "\t last loss:0.000141382, eval on validation:['ade: 0.33695942', 'fde: 0.71827984'], (best ade:0.3365121 at step 34200) \n"
     ]
    },
    {
     "name": "stderr",
     "output_type": "stream",
     "text": [
      "100%|██████████| 438/438 [00:18<00:00, 23.07it/s]\n",
      "  0%|          | 1/438 [00:00<00:47,  9.12it/s]"
     ]
    },
    {
     "name": "stdout",
     "output_type": "stream",
     "text": [
      "('Epoca 93.', 'lr:', 1.1331858e-06)\n"
     ]
    },
    {
     "name": "stderr",
     "output_type": "stream",
     "text": [
      " 46%|████▋     | 203/438 [00:08<00:09, 24.55it/s]\n",
      "  0%|          | 0/39 [00:00<?, ?it/s]\u001b[A"
     ]
    },
    {
     "name": "stdout",
     "output_type": "stream",
     "text": [
      "\tsaving model 40500...\n",
      "\tdone\n",
      "Evaluating\n"
     ]
    },
    {
     "name": "stderr",
     "output_type": "stream",
     "text": [
      "\n",
      " 23%|##3       | 9/39 [00:00<00:00, 83.28it/s]\u001b[A\n",
      " 44%|####3     | 17/39 [00:00<00:00, 79.78it/s]\u001b[A\n",
      " 67%|######6   | 26/39 [00:00<00:00, 80.90it/s]\u001b[A\n",
      " 90%|########9 | 35/39 [00:00<00:00, 82.32it/s]\u001b[A\n",
      " 47%|████▋     | 206/438 [00:09<00:24,  9.29it/s]A"
     ]
    },
    {
     "name": "stdout",
     "output_type": "stream",
     "text": [
      "{'ade': 0.33785972, 'fde': 0.7210276}\n",
      "\t last loss:0.000288561, eval on validation:['ade: 0.33785972', 'fde: 0.7210276'], (best ade:0.3365121 at step 34200) \n"
     ]
    },
    {
     "name": "stderr",
     "output_type": "stream",
     "text": [
      "100%|██████████| 438/438 [00:18<00:00, 23.82it/s]\n",
      "  0%|          | 1/438 [00:00<00:53,  8.12it/s]"
     ]
    },
    {
     "name": "stdout",
     "output_type": "stream",
     "text": [
      "('Epoca 94.', 'lr:', 1.1331858e-06)\n"
     ]
    },
    {
     "name": "stderr",
     "output_type": "stream",
     "text": [
      " 15%|█▍        | 64/438 [00:02<00:14, 26.29it/s]\n",
      "  0%|          | 0/39 [00:00<?, ?it/s]\u001b[A"
     ]
    },
    {
     "name": "stdout",
     "output_type": "stream",
     "text": [
      "\tsaving model 40800...\n",
      "\tdone\n",
      "Evaluating\n"
     ]
    },
    {
     "name": "stderr",
     "output_type": "stream",
     "text": [
      "\n",
      " 26%|##5       | 10/39 [00:00<00:00, 91.24it/s]\u001b[A\n",
      " 51%|#####1    | 20/39 [00:00<00:00, 92.02it/s]\u001b[A\n",
      " 77%|#######6  | 30/39 [00:00<00:00, 92.59it/s]\u001b[A\n",
      " 16%|█▌        | 70/438 [00:03<00:29, 12.28it/s][A"
     ]
    },
    {
     "name": "stdout",
     "output_type": "stream",
     "text": [
      "{'ade': 0.33786258, 'fde': 0.7210738}\n",
      "\t last loss:0.000489975, eval on validation:['ade: 0.33786258', 'fde: 0.7210738'], (best ade:0.3365121 at step 34200) \n"
     ]
    },
    {
     "name": "stderr",
     "output_type": "stream",
     "text": [
      " 83%|████████▎ | 364/438 [00:15<00:03, 24.57it/s]\n",
      "  0%|          | 0/39 [00:00<?, ?it/s]"
     ]
    },
    {
     "name": "stdout",
     "output_type": "stream",
     "text": [
      "\tsaving model 41100...\n",
      "\tdone\n",
      "Evaluating\n"
     ]
    },
    {
     "name": "stderr",
     "output_type": "stream",
     "text": [
      "\u001b[A\n",
      " 23%|##3       | 9/39 [00:00<00:00, 85.38it/s]\u001b[A\n",
      " 46%|####6     | 18/39 [00:00<00:00, 84.30it/s]\u001b[A\n",
      " 69%|######9   | 27/39 [00:00<00:00, 82.69it/s]\u001b[A\n",
      " 90%|########9 | 35/39 [00:00<00:00, 81.56it/s]\u001b[A\n",
      " 84%|████████▍ | 367/438 [00:16<00:08,  8.70it/s]A"
     ]
    },
    {
     "name": "stdout",
     "output_type": "stream",
     "text": [
      "{'ade': 0.3376271, 'fde': 0.72048897}\n",
      "\t last loss:0.000298216, eval on validation:['ade: 0.3376271', 'fde: 0.72048897'], (best ade:0.3365121 at step 34200) \n"
     ]
    },
    {
     "name": "stderr",
     "output_type": "stream",
     "text": [
      "100%|██████████| 438/438 [00:18<00:00, 25.10it/s]\n",
      "  0%|          | 2/438 [00:00<00:24, 17.61it/s]"
     ]
    },
    {
     "name": "stdout",
     "output_type": "stream",
     "text": [
      "('Epoca 95.', 'lr:', 9.63208e-07)\n"
     ]
    },
    {
     "name": "stderr",
     "output_type": "stream",
     "text": [
      " 52%|█████▏    | 227/438 [00:13<00:14, 14.88it/s]\n",
      "  0%|          | 0/39 [00:00<?, ?it/s]\u001b[A"
     ]
    },
    {
     "name": "stdout",
     "output_type": "stream",
     "text": [
      "\tsaving model 41400...\n",
      "\tdone\n",
      "Evaluating\n"
     ]
    },
    {
     "name": "stderr",
     "output_type": "stream",
     "text": [
      "\n",
      " 21%|##        | 8/39 [00:00<00:00, 73.47it/s]\u001b[A\n",
      " 38%|###8      | 15/39 [00:00<00:00, 71.44it/s]\u001b[A\n",
      " 62%|######1   | 24/39 [00:00<00:00, 74.44it/s]\u001b[A\n",
      " 82%|########2 | 32/39 [00:00<00:00, 74.49it/s]\u001b[A\n",
      " 52%|█████▏    | 229/438 [00:14<00:35,  5.83it/s]A"
     ]
    },
    {
     "name": "stdout",
     "output_type": "stream",
     "text": [
      "{'ade': 0.33717114, 'fde': 0.71904147}\n",
      "\t last loss:0.000416743, eval on validation:['ade: 0.33717114', 'fde: 0.71904147'], (best ade:0.3365121 at step 34200) \n"
     ]
    },
    {
     "name": "stderr",
     "output_type": "stream",
     "text": [
      "100%|██████████| 438/438 [00:25<00:00, 17.50it/s]\n",
      "  0%|          | 2/438 [00:00<00:38, 11.46it/s]"
     ]
    },
    {
     "name": "stdout",
     "output_type": "stream",
     "text": [
      "('Epoca 96.', 'lr:', 9.63208e-07)\n"
     ]
    },
    {
     "name": "stderr",
     "output_type": "stream",
     "text": [
      " 20%|█▉        | 87/438 [00:04<00:13, 25.87it/s]\n",
      "  0%|          | 0/39 [00:00<?, ?it/s]\u001b[A"
     ]
    },
    {
     "name": "stdout",
     "output_type": "stream",
     "text": [
      "\tsaving model 41700...\n",
      "\tdone\n",
      "Evaluating\n"
     ]
    },
    {
     "name": "stderr",
     "output_type": "stream",
     "text": [
      "\n",
      " 13%|#2        | 5/39 [00:00<00:00, 48.91it/s]\u001b[A\n",
      " 36%|###5      | 14/39 [00:00<00:00, 56.29it/s]\u001b[A\n",
      " 59%|#####8    | 23/39 [00:00<00:00, 62.17it/s]\u001b[A\n",
      " 82%|########2 | 32/39 [00:00<00:00, 66.96it/s]\u001b[A\n",
      " 21%|██        | 93/438 [00:05<00:30, 11.38it/s][A"
     ]
    },
    {
     "name": "stdout",
     "output_type": "stream",
     "text": [
      "{'ade': 0.33728322, 'fde': 0.7194381}\n",
      "\t last loss:0.000390742, eval on validation:['ade: 0.33728322', 'fde: 0.7194381'], (best ade:0.3365121 at step 34200) \n"
     ]
    },
    {
     "name": "stderr",
     "output_type": "stream",
     "text": [
      " 88%|████████▊ | 387/438 [00:17<00:01, 25.56it/s]\n",
      "  0%|          | 0/39 [00:00<?, ?it/s]\u001b[A"
     ]
    },
    {
     "name": "stdout",
     "output_type": "stream",
     "text": [
      "\tsaving model 42000...\n",
      "\tdone\n",
      "Evaluating\n"
     ]
    },
    {
     "name": "stderr",
     "output_type": "stream",
     "text": [
      "\n",
      " 21%|##        | 8/39 [00:00<00:00, 78.07it/s]\u001b[A\n",
      " 44%|####3     | 17/39 [00:00<00:00, 81.18it/s]\u001b[A\n",
      " 67%|######6   | 26/39 [00:00<00:00, 83.50it/s]\u001b[A\n",
      " 90%|########9 | 35/39 [00:00<00:00, 85.13it/s]\u001b[A\n",
      " 90%|████████▉ | 393/438 [00:18<00:03, 11.81it/s]A"
     ]
    },
    {
     "name": "stdout",
     "output_type": "stream",
     "text": [
      "{'ade': 0.33753988, 'fde': 0.7199797}\n",
      "\t last loss:0.000381237, eval on validation:['ade: 0.33753988', 'fde: 0.7199797'], (best ade:0.3365121 at step 34200) \n"
     ]
    },
    {
     "name": "stderr",
     "output_type": "stream",
     "text": [
      "100%|██████████| 438/438 [00:19<00:00, 25.77it/s]\n",
      "  0%|          | 2/438 [00:00<00:26, 16.23it/s]"
     ]
    },
    {
     "name": "stdout",
     "output_type": "stream",
     "text": [
      "('Epoca 97.', 'lr:', 8.187269e-07)\n"
     ]
    },
    {
     "name": "stderr",
     "output_type": "stream",
     "text": [
      " 57%|█████▋    | 251/438 [00:10<00:07, 24.11it/s]\n",
      "  0%|          | 0/39 [00:00<?, ?it/s]\u001b[A"
     ]
    },
    {
     "name": "stdout",
     "output_type": "stream",
     "text": [
      "\tsaving model 42300...\n",
      "\tdone\n",
      "Evaluating\n"
     ]
    },
    {
     "name": "stderr",
     "output_type": "stream",
     "text": [
      "\n",
      " 15%|#5        | 6/39 [00:00<00:00, 59.15it/s]\u001b[A\n",
      " 36%|###5      | 14/39 [00:00<00:00, 63.74it/s]\u001b[A\n",
      " 56%|#####6    | 22/39 [00:00<00:00, 67.56it/s]\u001b[A\n",
      " 77%|#######6  | 30/39 [00:00<00:00, 69.52it/s]\u001b[A\n",
      " 58%|█████▊    | 254/438 [00:11<00:20,  8.93it/s]A"
     ]
    },
    {
     "name": "stdout",
     "output_type": "stream",
     "text": [
      "{'ade': 0.33743653, 'fde': 0.7198393}\n",
      "\t last loss:0.000810926, eval on validation:['ade: 0.33743653', 'fde: 0.7198393'], (best ade:0.3365121 at step 34200) \n"
     ]
    },
    {
     "name": "stderr",
     "output_type": "stream",
     "text": [
      "100%|██████████| 438/438 [00:20<00:00, 22.28it/s]\n",
      "  0%|          | 1/438 [00:00<00:44,  9.75it/s]"
     ]
    },
    {
     "name": "stdout",
     "output_type": "stream",
     "text": [
      "('Epoca 98.', 'lr:', 8.187269e-07)\n"
     ]
    },
    {
     "name": "stderr",
     "output_type": "stream",
     "text": [
      " 26%|██▌       | 112/438 [00:04<00:12, 27.05it/s]\n",
      "  0%|          | 0/39 [00:00<?, ?it/s]\u001b[A"
     ]
    },
    {
     "name": "stdout",
     "output_type": "stream",
     "text": [
      "\tsaving model 42600...\n",
      "\tdone\n",
      "Evaluating\n"
     ]
    },
    {
     "name": "stderr",
     "output_type": "stream",
     "text": [
      "\n",
      " 26%|##5       | 10/39 [00:00<00:00, 99.88it/s]\u001b[A\n",
      " 51%|#####1    | 20/39 [00:00<00:00, 99.14it/s]\u001b[A\n",
      " 77%|#######6  | 30/39 [00:00<00:00, 98.85it/s]\u001b[A\n",
      " 27%|██▋       | 118/438 [00:05<00:24, 12.88it/s]A"
     ]
    },
    {
     "name": "stdout",
     "output_type": "stream",
     "text": [
      "{'ade': 0.3371461, 'fde': 0.7189213}\n",
      "\t last loss:0.000351947, eval on validation:['ade: 0.3371461', 'fde: 0.7189213'], (best ade:0.3365121 at step 34200) \n"
     ]
    },
    {
     "name": "stderr",
     "output_type": "stream",
     "text": [
      " 94%|█████████▍| 412/438 [00:17<00:01, 23.73it/s]"
     ]
    },
    {
     "name": "stdout",
     "output_type": "stream",
     "text": [
      "\tsaving model 42900...\n"
     ]
    },
    {
     "name": "stderr",
     "output_type": "stream",
     "text": [
      "\n",
      "  0%|          | 0/39 [00:00<?, ?it/s]\u001b[A\n",
      " 15%|#5        | 6/39 [00:00<00:00, 59.28it/s]\u001b[A"
     ]
    },
    {
     "name": "stdout",
     "output_type": "stream",
     "text": [
      "\tdone\n",
      "Evaluating\n"
     ]
    },
    {
     "name": "stderr",
     "output_type": "stream",
     "text": [
      "\n",
      " 31%|###       | 12/39 [00:00<00:00, 57.34it/s]\u001b[A\n",
      " 46%|####6     | 18/39 [00:00<00:00, 57.20it/s]\u001b[A\n",
      " 67%|######6   | 26/39 [00:00<00:00, 61.52it/s]\u001b[A\n",
      " 87%|########7 | 34/39 [00:00<00:00, 65.14it/s]\u001b[A\n",
      " 95%|█████████▍| 415/438 [00:18<00:02,  7.76it/s]A"
     ]
    },
    {
     "name": "stdout",
     "output_type": "stream",
     "text": [
      "{'ade': 0.33726895, 'fde': 0.71937764}\n",
      "\t last loss:0.000264916, eval on validation:['ade: 0.33726895', 'fde: 0.71937764'], (best ade:0.3365121 at step 34200) \n"
     ]
    },
    {
     "name": "stderr",
     "output_type": "stream",
     "text": [
      "100%|██████████| 438/438 [00:19<00:00, 22.32it/s]\n",
      "  1%|          | 3/438 [00:00<00:18, 23.14it/s]"
     ]
    },
    {
     "name": "stdout",
     "output_type": "stream",
     "text": [
      "('Epoca 99.', 'lr:', 6.9591783e-07)\n"
     ]
    },
    {
     "name": "stderr",
     "output_type": "stream",
     "text": [
      " 63%|██████▎   | 274/438 [00:11<00:06, 27.16it/s]\n",
      "  0%|          | 0/39 [00:00<?, ?it/s]\u001b[A"
     ]
    },
    {
     "name": "stdout",
     "output_type": "stream",
     "text": [
      "\tsaving model 43200...\n",
      "\tdone\n",
      "Evaluating\n"
     ]
    },
    {
     "name": "stderr",
     "output_type": "stream",
     "text": [
      "\n",
      " 26%|##5       | 10/39 [00:00<00:00, 97.70it/s]\u001b[A\n",
      " 51%|#####1    | 20/39 [00:00<00:00, 97.85it/s]\u001b[A\n",
      " 77%|#######6  | 30/39 [00:00<00:00, 97.50it/s]\u001b[A\n",
      " 64%|██████▍   | 280/438 [00:12<00:12, 12.79it/s]A"
     ]
    },
    {
     "name": "stdout",
     "output_type": "stream",
     "text": [
      "{'ade': 0.33717868, 'fde': 0.71902627}\n",
      "\t last loss:0.000426832, eval on validation:['ade: 0.33717868', 'fde: 0.71902627'], (best ade:0.3365121 at step 34200) \n"
     ]
    },
    {
     "name": "stderr",
     "output_type": "stream",
     "text": [
      "100%|██████████| 438/438 [00:19<00:00, 22.76it/s]\n",
      "  0%|          | 1/438 [00:00<00:52,  8.31it/s]"
     ]
    },
    {
     "name": "stdout",
     "output_type": "stream",
     "text": [
      "('Epoca 100.', 'lr:', 6.9591783e-07)\n"
     ]
    },
    {
     "name": "stderr",
     "output_type": "stream",
     "text": [
      " 31%|███       | 136/438 [00:06<00:12, 24.04it/s]\n",
      "  0%|          | 0/39 [00:00<?, ?it/s]\u001b[A"
     ]
    },
    {
     "name": "stdout",
     "output_type": "stream",
     "text": [
      "\tsaving model 43500...\n",
      "\tdone\n",
      "Evaluating\n"
     ]
    },
    {
     "name": "stderr",
     "output_type": "stream",
     "text": [
      "\n",
      " 21%|##        | 8/39 [00:00<00:00, 78.30it/s]\u001b[A\n",
      " 44%|####3     | 17/39 [00:00<00:00, 79.41it/s]\u001b[A\n",
      " 67%|######6   | 26/39 [00:00<00:00, 79.86it/s]\u001b[A\n",
      " 82%|########2 | 32/39 [00:00<00:00, 70.90it/s]\u001b[A\n",
      " 32%|███▏      | 139/438 [00:07<00:34,  8.72it/s]A"
     ]
    },
    {
     "name": "stdout",
     "output_type": "stream",
     "text": [
      "{'ade': 0.33780745, 'fde': 0.7205783}\n",
      "\t last loss:0.000473834, eval on validation:['ade: 0.33780745', 'fde: 0.7205783'], (best ade:0.3365121 at step 34200) \n"
     ]
    },
    {
     "name": "stderr",
     "output_type": "stream",
     "text": [
      "100%|█████████▉| 436/438 [00:19<00:00, 26.66it/s]\n",
      "  0%|          | 0/39 [00:00<?, ?it/s]\u001b[A"
     ]
    },
    {
     "name": "stdout",
     "output_type": "stream",
     "text": [
      "\tsaving model 43800...\n",
      "\tdone\n",
      "Evaluating\n"
     ]
    },
    {
     "name": "stderr",
     "output_type": "stream",
     "text": [
      "\n",
      " 26%|##5       | 10/39 [00:00<00:00, 94.92it/s]\u001b[A\n",
      " 49%|####8     | 19/39 [00:00<00:00, 92.62it/s]\u001b[A\n",
      " 72%|#######1  | 28/39 [00:00<00:00, 90.71it/s]\u001b[A\n",
      " 95%|#########4| 37/39 [00:00<00:00, 89.39it/s]\u001b[A\n",
      "100%|██████████| 438/438 [00:19<00:00, 22.16it/s]A"
     ]
    },
    {
     "name": "stdout",
     "output_type": "stream",
     "text": [
      "{'ade': 0.3372428, 'fde': 0.719174}\n",
      "\t last loss:0.000318625, eval on validation:['ade: 0.3372428', 'fde: 0.719174'], (best ade:0.3365121 at step 34200) \n",
      "best eval on val ade: 0.3365121 at 34200 step y fde es 0.7172745 \n"
     ]
    },
    {
     "name": "stderr",
     "output_type": "stream",
     "text": [
      "\n"
     ]
    }
   ],
   "source": [
    "import os \n",
    "from tqdm import tqdm\n",
    "import tensorflow as tf\n",
    "import math\n",
    "\n",
    "tf.reset_default_graph()\n",
    "\n",
    "arguments = parameters1(add_kp = False, add_social = True, train_num_examples=len(data1['obs_traj']))\n",
    "model = model.Model(arguments)\n",
    "\n",
    "train_data = batches_data.Dataset(data1,arguments)\n",
    "val_data = batches_data.Dataset(data3,arguments)\n",
    "\n",
    "saver = tf.train.Saver(max_to_keep = 2)\n",
    "bestsaver = tf.train.Saver(max_to_keep = 2)\n",
    "\n",
    "\n",
    "trainer = entrenamientoevaluacion.Trainer(model,arguments)\n",
    "tester = entrenamientoevaluacion.Tester(model, arguments)\n",
    "\n",
    "#inicializamos las variables globales\n",
    "init = tf.global_variables_initializer()\n",
    "sess = tf.Session()\n",
    "sess.run(init)\n",
    "\n",
    "increment_global_step_op = tf.assign(model.global_step, model.global_step+1)\n",
    "\n",
    "val_perf = []\n",
    "loss = -1\n",
    "metric = 'ade'\n",
    "\n",
    "best = {metric:999999, 'fde':0, 'step':-1}\n",
    "is_start = True\n",
    "\n",
    "num_steps = int(math.ceil(train_data.num_examples/float(arguments.batch_size)))\n",
    "loss_list = []\n",
    "print(num_steps)\n",
    "\n",
    "for i in range(arguments.num_epochs):\n",
    "    print('Epoca {0}.' .format(i+1), 'lr:', sess.run(trainer.get_lr()))\n",
    "    \n",
    "    #For de batches\n",
    "    for idx, batch in tqdm(train_data.get_batches(arguments.batch_size,num_steps = num_steps),total=num_steps):\n",
    "        \n",
    "        sess.run(increment_global_step_op)\n",
    "        global_step = sess.run(model.global_step)\n",
    "\n",
    "        #Evaluamos el entrenamiento\n",
    "        if((global_step%arguments.validate==0) or (arguments.load_best and is_start)):\n",
    "            tqdm.write(\"\\tsaving model %s...\" % global_step)\n",
    "            checkpoint_path_model = os.path.join('FO_UCY-UNIV_NON_12', 'model.ckpt')\n",
    "            saver.save(sess,checkpoint_path_model , global_step = global_step)\n",
    "            tqdm.write(\"\\tdone\")\n",
    "            \n",
    "            print('Evaluating')\n",
    "            results = evaluate(val_data, tester,sess,arguments)\n",
    "            print(results)\n",
    "           \n",
    "            tqdm.write((\"\\t last loss:%.9f, eval on validation:%s,\"\n",
    "                    \" (best %s:%s at step %s) \") % (loss,[\"%s: %s\" % (k, results[k]) for k in sorted(results.keys())], metric,best[metric], best[\"step\"]))\n",
    "            if results[\"ade\"]< best[metric]:\n",
    "                best[metric] = results[\"ade\"]\n",
    "                best[\"fde\"]  = results[\"fde\"]\n",
    "                best[\"step\"] = global_step\n",
    "                \n",
    "                tqdm.write(\"\\t saving best model...\")\n",
    "                checkpoint_path_model_best = os.path.join('FO_UCY-UNIV_NON-BEST_12', 'model_best.ckpt')\n",
    "                bestsaver.save(sess,checkpoint_path_model_best,global_step = global_step)\n",
    "                tqdm.write(\"\\t done.\")\n",
    "                finalperf = results\n",
    "                val_perf.append((loss, results))\n",
    "            is_start = False\n",
    "        loss, train_op = trainer.step(sess, batch)\n",
    "        loss_list.append(loss)\n",
    "    \n",
    "if((global_step % arguments.validate)!=0):\n",
    "  checkpoint_path_model = os.path.join('FO_UCY-UNIV_NON_12', 'model.ckpt')\n",
    "  saver.save(sess,checkpoint_path_model , global_step = global_step)\n",
    "\n",
    "print(\"best eval on val %s: %s at %s step y fde es %s \" % (metric, best[metric], best[\"step\"],best[\"fde\"]))\n"
   ]
  },
  {
   "cell_type": "code",
   "execution_count": 14,
   "metadata": {},
   "outputs": [
    {
     "data": {
      "image/png": "[encoded data removed]",
      "text/plain": [
       "<Figure size 432x288 with 1 Axes>"
      ]
     },
     "metadata": {
      "needs_background": "light"
     },
     "output_type": "display_data"
    }
   ],
   "source": [
    "from matplotlib import pyplot as plt\n",
    "learning =[]\n",
    "for i in range(arguments.num_epochs):\n",
    "    a = (len(loss_list)/arguments.num_epochs)*(i)\n",
    "    b = (len(loss_list)/arguments.num_epochs)*(i+1)\n",
    "    learning.append(np.mean(loss_list[a:b]))\n",
    "\n",
    "plt.plot(learning)\n",
    "plt.xlabel(\"Epochs\")\n",
    "plt.ylabel(\"Loss\")\n",
    "plt.show()"
   ]
  },
  {
   "cell_type": "markdown",
   "metadata": {},
   "source": [
    "# Load models"
   ]
  },
  {
   "cell_type": "code",
   "execution_count": 11,
   "metadata": {},
   "outputs": [
    {
     "name": "stderr",
     "output_type": "stream",
     "text": [
      "  1%|1         | 7/502 [00:00<00:07, 66.27it/s]"
     ]
    },
    {
     "name": "stdout",
     "output_type": "stream",
     "text": [
      "Evaluating\n"
     ]
    },
    {
     "name": "stderr",
     "output_type": "stream",
     "text": [
      "100%|##########| 502/502 [00:05<00:00, 89.20it/s]\n"
     ]
    },
    {
     "name": "stdout",
     "output_type": "stream",
     "text": [
      "{'ade': 0.65242285, 'fde': 1.4202468}\n"
     ]
    }
   ],
   "source": [
    "#Modelo12\n",
    "path_model = 'FO_UCY-UNIV_NON_12/model.ckpt-43800'\n",
    "saver.restore(sess=sess, save_path=path_model)\n",
    "\n",
    "\n",
    "test_data = batches_data.Dataset(data_test, arguments)\n",
    "print('Evaluating')\n",
    "results = evaluate(test_data, tester,sess,arguments)\n",
    "print(results)"
   ]
  },
  {
   "cell_type": "code",
   "execution_count": 12,
   "metadata": {},
   "outputs": [
    {
     "name": "stderr",
     "output_type": "stream",
     "text": [
      "  2%|1         | 8/502 [00:00<00:06, 76.26it/s]"
     ]
    },
    {
     "name": "stdout",
     "output_type": "stream",
     "text": [
      "Evaluating\n"
     ]
    },
    {
     "name": "stderr",
     "output_type": "stream",
     "text": [
      "100%|##########| 502/502 [00:05<00:00, 89.99it/s]\n"
     ]
    },
    {
     "name": "stdout",
     "output_type": "stream",
     "text": [
      "{'ade': 0.64995474, 'fde': 1.4131101}\n"
     ]
    }
   ],
   "source": [
    "# Mejor Modelo\n",
    "path_model = 'FO_UCY-UNIV_NON-BEST_12/model_best.ckpt-34200'\n",
    "saver.restore(sess=sess, save_path=path_model)\n",
    "\n",
    "test_data = batches_data.Dataset(data_test, arguments)\n",
    "print('Evaluating')\n",
    "results = evaluate(test_data, tester,sess,arguments)\n",
    "print(results)"
   ]
  },
  {
   "cell_type": "code",
   "execution_count": null,
   "metadata": {},
   "outputs": [],
   "source": []
  }
 ],
 "metadata": {
  "kernelspec": {
   "display_name": "Python 2",
   "language": "python",
   "name": "python2"
  },
  "language_info": {
   "codemirror_mode": {
    "name": "ipython",
    "version": 2
   },
   "file_extension": ".py",
   "mimetype": "text/x-python",
   "name": "python",
   "nbconvert_exporter": "python",
   "pygments_lexer": "ipython2",
   "version": "2.7.16"
  }
 },
 "nbformat": 4,
 "nbformat_minor": 2
}
