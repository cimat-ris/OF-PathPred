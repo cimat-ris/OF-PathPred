{
 "cells": [
  {
   "cell_type": "code",
   "execution_count": null,
   "metadata": {},
   "outputs": [],
   "source": [
    "# Clone the entire repo.\n",
    "!git clone --branch tf2 --single-branch  -l -s https://github.com/cimat-ris/OF-PathPred.git clonedrep\n",
    "\n",
    "# Change directory into cloned repository\n",
    "%cd clonedrep/evaluation_opticalflow"
   ]
  },
  {
   "cell_type": "code",
   "execution_count": null,
   "metadata": {},
   "outputs": [],
   "source": [
    "# Imports\n",
    "import sys,os\n",
    "''' TF_CPP_MIN_LOG_LEVEL\n",
    "0 = all messages are logged (default behavior)\n",
    "1 = INFO messages are not printed\n",
    "2 = INFO and WARNING messages are not printed\n",
    "3 = INFO, WARNING, and ERROR messages are not printed\n",
    "'''\n",
    "# os.environ['TF_CPP_MIN_LOG_LEVEL'] = '3'\n",
    "sys.path.append('lib/')\n",
    "import math,numpy as np\n",
    "import warnings\n",
    "warnings.filterwarnings('ignore')\n",
    "import tensorflow as tf\n",
    "print('[INF] Tensorflow version: ',tf.__version__)\n",
    "tf.test.gpu_device_name()\n",
    "# Important imports\n",
    "import batches_data\n",
    "from training_and_testing import Experiment_Parameters\n",
    "import matplotlib.pyplot as plt\n",
    "from model import TrajectoryEncoderDecoder, Model_Parameters\n",
    "import tensorflow as tf\n",
    "from tensorflow import keras\n",
    "from tensorflow.keras import layers\n",
    "from tensorflow.keras import models\n",
    "from datasets_utils import setup_loo_experiment, get_testing_batch\n",
    "from plot_utils import plot_training_data,plot_training_results\n",
    "from testing_utils import evaluation_minadefde,plot_comparisons_minadefde"
   ]
  },
  {
   "cell_type": "code",
   "execution_count": null,
   "metadata": {},
   "outputs": [],
   "source": [
    "physical_devices = tf.config.list_physical_devices('GPU')\n",
    "if len(physical_devices)>0:\n",
    "    print('[INF] Using GPU Device: {}'.format(tf.test.gpu_device_name()))\n",
    "else:\n",
    "    print(\"[INF] Using CPU\")"
   ]
  },
  {
   "cell_type": "code",
   "execution_count": null,
   "metadata": {},
   "outputs": [],
   "source": [
    "# Load the default parameters\n",
    "experiment_parameters = Experiment_Parameters(add_social=False,add_kp=False,obstacles=False)\n",
    "\n",
    "dataset_dir   = \"../datasets/\"\n",
    "dataset_names = ['eth-hotel','eth-univ','ucy-zara01','ucy-zara02','ucy-univ']"
   ]
  },
  {
   "cell_type": "code",
   "execution_count": null,
   "metadata": {},
   "outputs": [],
   "source": [
    "# Load the dataset and perform the split\n",
    "idTest = 2\n",
    "training_data,validation_data,test_data,test_homography = setup_loo_experiment('ETH_UCY',dataset_dir,dataset_names,idTest,experiment_parameters,use_pickled_data=False)\n"
   ]
  },
  {
   "cell_type": "code",
   "execution_count": null,
   "metadata": {},
   "outputs": [],
   "source": [
    "#############################################################\n",
    "# Model parameters\n",
    "model_parameters = Model_Parameters(add_attention=True,add_kp=experiment_parameters.add_kp,add_social=experiment_parameters.add_social,output_representation=experiment_parameters.output_representation)\n",
    "if experiment_parameters.output_representation == 'vw':\n",
    "    model_parameters.num_epochs = 100\n",
    "    model_parameters.initial_lr = 0.1\n",
    "model_parameters.num_epochs     = 35\n",
    "model_parameters.output_var_dirs= 4\n",
    "model_parameters.is_mc_dropout  = True\n",
    "model_parameters.initial_lr     = 0.03\n",
    "\n",
    "# Running on CPU\n",
    "if len(physical_devices)==0:\n",
    "    model_parameters.batch_size     = 64\n",
    "    model_parameters.output_var_dirs= 1\n",
    "    model_parameters.stack_rnn_size = 1\n"
   ]
  },
  {
   "cell_type": "code",
   "execution_count": null,
   "metadata": {},
   "outputs": [],
   "source": [
    "# Get the necessary data\n",
    "train_data = tf.data.Dataset.from_tensor_slices(training_data)\n",
    "val_data   = tf.data.Dataset.from_tensor_slices(validation_data)\n",
    "test_data  = tf.data.Dataset.from_tensor_slices(test_data)\n"
   ]
  },
  {
   "cell_type": "code",
   "execution_count": null,
   "metadata": {},
   "outputs": [],
   "source": [
    "# Form batches\n",
    "batched_train_data = train_data.batch(model_parameters.batch_size)\n",
    "batched_val_data   = val_data.batch(model_parameters.batch_size)\n",
    "batched_test_data  = test_data.batch(model_parameters.batch_size)\n"
   ]
  },
  {
   "cell_type": "code",
   "execution_count": null,
   "metadata": {},
   "outputs": [],
   "source": [
    "# Model\n",
    "tj_enc_dec = TrajectoryEncoderDecoder(model_parameters)\n"
   ]
  },
  {
   "cell_type": "code",
   "execution_count": null,
   "metadata": {},
   "outputs": [],
   "source": [
    "# Checkpoints\n",
    "checkpoint_dir   = './training_checkpoints'\n",
    "checkpoint_prefix= os.path.join(checkpoint_dir, \"ckpt\")\n",
    "checkpoint       = tf.train.Checkpoint(optimizer=tj_enc_dec.optimizer,\n",
    "                                        encoder=tj_enc_dec.enc,\n",
    "                                        decoder=tj_enc_dec.dec,\n",
    "                                        enctodec=tj_enc_dec.enctodec,\n",
    "                                        obs_classif=tj_enc_dec.obs_classif)\n"
   ]
  },
  {
   "cell_type": "code",
   "execution_count": null,
   "metadata": {},
   "outputs": [],
   "source": [
    "# Training\n",
    "perform_training = False\n",
    "plot_training    = True\n",
    "if perform_training==True:\n",
    "    print(\"[INF] Training the model\")\n",
    "    train_loss_results,val_loss_results,val_metrics_results,__ = tj_enc_dec.training_loop(batched_train_data,batched_val_data,model_parameters,checkpoint,checkpoint_prefix)\n",
    "    if plot_training==True:\n",
    "        plot_training_results(train_loss_results,val_loss_results,val_metrics_results)\n"
   ]
  },
  {
   "cell_type": "code",
   "execution_count": null,
   "metadata": {},
   "outputs": [],
   "source": [
    "# Testing\n",
    "# Restoring the latest checkpoint in checkpoint_dir\n",
    "print(\"[INF] Restoring last model\")\n",
    "status = checkpoint.restore(tf.train.latest_checkpoint(checkpoint_dir))\n"
   ]
  },
  {
   "cell_type": "code",
   "execution_count": null,
   "metadata": {},
   "outputs": [],
   "source": [
    "# Quantitative testing: ADE/FDE\n",
    "print(\"[INF] Quantitative testing\")\n",
    "results = evaluation_minadefde(tj_enc_dec,batched_test_data,model_parameters)\n",
    "plot_comparisons_minadefde(results,dataset_names[idTest])\n",
    "print(results)\n"
   ]
  },
  {
   "cell_type": "code",
   "execution_count": null,
   "metadata": {},
   "outputs": [],
   "source": [
    "# Qualitative testing\n",
    "qualitative = True\n",
    "if qualitative==True:\n",
    "    print(\"[INF] Qualitative testing\")\n",
    "    for i in range(10):\n",
    "        batch, test_bckgd = get_testing_batch(test_data,dataset_dir+dataset_names[idTest])\n",
    "        tj_enc_dec.qualitative_evaluation(batch,model_parameters,background=test_bckgd,homography=test_homography, flip=False,n_peds_max=1,display_mode=None)\n"
   ]
  },
  {
   "cell_type": "code",
   "execution_count": null,
   "metadata": {},
   "outputs": [],
   "source": []
  }
 ],
 "metadata": {
  "kernelspec": {
   "display_name": "Python 3",
   "language": "python",
   "name": "python3"
  },
  "language_info": {
   "codemirror_mode": {
    "name": "ipython",
    "version": 3
   },
   "file_extension": ".py",
   "mimetype": "text/x-python",
   "name": "python",
   "nbconvert_exporter": "python",
   "pygments_lexer": "ipython3",
   "version": "3.8.5"
  }
 },
 "nbformat": 4,
 "nbformat_minor": 4
}
