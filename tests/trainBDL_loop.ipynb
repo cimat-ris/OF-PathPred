{
  "nbformat": 4,
  "nbformat_minor": 0,
  "metadata": {
    "colab": {
      "name": "trainBDL_loop.ipynb",
      "provenance": [],
      "collapsed_sections": []
    },
    "kernelspec": {
      "display_name": "Python 3",
      "language": "python",
      "name": "python3"
    },
    "language_info": {
      "codemirror_mode": {
        "name": "ipython",
        "version": 3
      },
      "file_extension": ".py",
      "mimetype": "text/x-python",
      "name": "python",
      "nbconvert_exporter": "python",
      "pygments_lexer": "ipython3",
      "version": "3.8.5"
    },
    "accelerator": "GPU"
  },
  "cells": [
    {
      "cell_type": "markdown",
      "metadata": {
        "id": "KqGcrSAmreZQ"
      },
      "source": [
        "# Notebook for Train Cyclical Stochastic Gradient MCMC with Synthetic Dataset \n",
        "\n",
        "Centro de Investigación en Matemáticas, A.C.  (CIMAT)  \n",
        "mario.canche@cimat.mx  \n",
        "23/April/2021"
      ]
    },
    {
      "cell_type": "markdown",
      "metadata": {
        "id": "IXnMg49XrITm"
      },
      "source": [
        "## First Conect with Personal Drive"
      ]
    },
    {
      "cell_type": "code",
      "metadata": {
        "id": "qJhAwN4z7jJ9"
      },
      "source": [
        "# Montamos el Drive al Notebook\n",
        "from google.colab import drive\n",
        "drive.mount('/content/drive', force_remount=True)"
      ],
      "execution_count": null,
      "outputs": []
    },
    {
      "cell_type": "code",
      "metadata": {
        "id": "pnCMtpvc7n1s"
      },
      "source": [
        "# Verificamos el directorio en el que nos encontramos\n",
        "!pwd\n",
        "!ls"
      ],
      "execution_count": null,
      "outputs": []
    },
    {
      "cell_type": "code",
      "metadata": {
        "id": "OoAkWfZL7oCL"
      },
      "source": [
        "# Cambiamos de directorio al Drive\n",
        "import os\n",
        "os.chdir(\"drive/My Drive/PruebasCOLAB2/OF-PathPred/tests\")\n",
        "!ls"
      ],
      "execution_count": null,
      "outputs": []
    },
    {
      "cell_type": "markdown",
      "metadata": {
        "id": "rfAzvlaHq63c"
      },
      "source": [
        "## Later, Train Model Cyclical SG-MCMC"
      ]
    },
    {
      "cell_type": "code",
      "metadata": {
        "id": "2hOKb3HV6YKm"
      },
      "source": [
        "# Imports\n",
        "import sys,os\n",
        "''' TF_CPP_MIN_LOG_LEVEL\n",
        "0 = all messages are logged (default behavior)\n",
        "1 = INFO messages are not printed\n",
        "2 = INFO and WARNING messages are not printeds\n",
        "3 = INFO, WARNING, and ERROR messages are not printed\n",
        "'''\n",
        "# os.environ['TF_CPP_MIN_LOG_LEVEL'] = '3'\n",
        "sys.path.append('../')\n",
        "import math,numpy as np\n",
        "import warnings\n",
        "warnings.filterwarnings('ignore')\n",
        "import tensorflow as tf\n",
        "print('[INF] Tensorflow version: ',tf.__version__)\n",
        "tf.test.gpu_device_name()\n",
        "# Important imports\n",
        "import path_prediction.batches_data\n",
        "import matplotlib.pyplot as plt\n",
        "from path_prediction.model import TrajectoryEncoderDecoder, Model_Parameters\n",
        "import tensorflow as tf\n",
        "from tensorflow import keras\n",
        "from tensorflow.keras import layers\n",
        "from tensorflow.keras import models\n",
        "from path_prediction.datasets_utils import setup_loo_experiment_synthec, get_testing_batch_synthec\n",
        "from path_prediction.plot_utils import plot_training_data,plot_training_results\n",
        "from path_prediction.testing_utils import evaluation_minadefde,evaluation_qualitative,plot_comparisons_minadefde\n",
        "from path_prediction.training_utils import BDL_training_loop\n",
        "from path_prediction.training_utils import Experiment_Parameters"
      ],
      "execution_count": null,
      "outputs": []
    },
    {
      "cell_type": "code",
      "metadata": {
        "id": "XeyRNbj86YKo"
      },
      "source": [
        "physical_devices = tf.config.list_physical_devices('GPU')\n",
        "if len(physical_devices)>0:\n",
        "    print('[INF] Using GPU Device: {}'.format(tf.test.gpu_device_name()))\n",
        "else:\n",
        "    print(\"[INF] Using CPU\")"
      ],
      "execution_count": null,
      "outputs": []
    },
    {
      "cell_type": "code",
      "metadata": {
        "id": "oYyijVou6YKq"
      },
      "source": [
        "# Load the default parameters\n",
        "experiment_parameters = Experiment_Parameters(add_social=False,add_kp=False,obstacles=False)\n",
        "\n",
        "#dataset_dir   = \"../datasets/\"\n",
        "#dataset_names = ['eth-hotel','eth-univ','ucy-zara01','ucy-zara02','ucy-univ']\n",
        "\n",
        "dataset_dir   = \"../datasets_synthetic/\"\n",
        "dataset_names = ['testing_toy.txt','training_toy.txt']"
      ],
      "execution_count": null,
      "outputs": []
    },
    {
      "cell_type": "code",
      "metadata": {
        "id": "F0uq2YvDz5Ov"
      },
      "source": [
        "!ls"
      ],
      "execution_count": null,
      "outputs": []
    },
    {
      "cell_type": "code",
      "metadata": {
        "id": "hH6SI6JjH6aG"
      },
      "source": [
        "# Seed for Random Numpy\n",
        "seed = 0\n",
        "# Load the dataset and perform the split\n",
        "idTest = 0\n",
        "training_data,validation_data,test_data = setup_loo_experiment_synthec('.',dataset_dir,dataset_names,idTest,experiment_parameters,use_pickled_data=False,seed=seed)"
      ],
      "execution_count": null,
      "outputs": []
    },
    {
      "cell_type": "code",
      "metadata": {
        "id": "00GpCrbg6YKt"
      },
      "source": [
        "#############################################################\n",
        "# Model parameters\n",
        "model_parameters = Model_Parameters(add_attention=True,add_kp=experiment_parameters.add_kp,add_social=experiment_parameters.add_social,output_representation=experiment_parameters.output_representation)\n",
        "model_parameters.num_epochs     = 35\n",
        "model_parameters.output_var_dirs= 0\n",
        "model_parameters.is_mc_dropout  = False # poner a False\n",
        "model_parameters.initial_lr     = 0.085\n",
        "model_parameters.batch_size     = 256\n",
        "\n",
        "model_parameters.beta = 0.80 # Thresh\n",
        "model_parameters.datasize = 10800 # datasize of training\n",
        "model_parameters.M = 4 # number of cycles\n",
        "model_parameters.alpha = 1\n",
        "model_parameters.temperature = 1./model_parameters.datasize\n"
      ],
      "execution_count": null,
      "outputs": []
    },
    {
      "cell_type": "code",
      "metadata": {
        "id": "lOraA24T6YKu"
      },
      "source": [
        "# Get the necessary data\n",
        "train_data = tf.data.Dataset.from_tensor_slices(training_data)\n",
        "val_data   = tf.data.Dataset.from_tensor_slices(validation_data)\n",
        "test_data  = tf.data.Dataset.from_tensor_slices(test_data)\n"
      ],
      "execution_count": null,
      "outputs": []
    },
    {
      "cell_type": "code",
      "metadata": {
        "id": "Qd82BQJx6YKv"
      },
      "source": [
        "# Form batches\n",
        "batched_train_data = train_data.batch(model_parameters.batch_size)\n",
        "batched_val_data   = val_data.batch(model_parameters.batch_size)\n",
        "batched_test_data  = test_data.batch(model_parameters.batch_size)\n"
      ],
      "execution_count": null,
      "outputs": []
    },
    {
      "cell_type": "code",
      "metadata": {
        "id": "ahVwdbvW6YKw"
      },
      "source": [
        "# Seed for Random Tensorflow\n",
        "tf.random.set_seed(0)\n",
        "\n",
        "# Model\n",
        "tj_enc_dec = TrajectoryEncoderDecoder(model_parameters)"
      ],
      "execution_count": null,
      "outputs": []
    },
    {
      "cell_type": "code",
      "metadata": {
        "id": "g60ib09lqfUv"
      },
      "source": [
        "# Checkpoints\n",
        "checkpoint_dir   = './training_checkpoints'\n",
        "checkpoint_prefix= os.path.join(checkpoint_dir, \"ckpt\")\n",
        "checkpoint       = tf.train.Checkpoint(optimizer=tj_enc_dec.optimizer,\n",
        "                                        encoder=tj_enc_dec.enc,\n",
        "                                        decoder=tj_enc_dec.dec,\n",
        "                                        enctodec=tj_enc_dec.enctodec,\n",
        "                                        obs_classif=tj_enc_dec.obs_classif)"
      ],
      "execution_count": null,
      "outputs": []
    },
    {
      "cell_type": "code",
      "metadata": {
        "id": "yp_Xnvqn6YKw"
      },
      "source": [
        "# Training\n",
        "perform_training = True\n",
        "plot_training    = True\n",
        "if perform_training==True:\n",
        "    print(\"[INF] Training the model\")\n",
        "    train_loss_results,val_loss_results,val_metrics_results,__ = BDL_training_loop(tj_enc_dec,batched_train_data,batched_val_data,model_parameters,checkpoint,checkpoint_prefix)\n",
        "    if plot_training==True:\n",
        "        plot_training_results(train_loss_results,val_loss_results,val_metrics_results)\n"
      ],
      "execution_count": null,
      "outputs": []
    },
    {
      "cell_type": "code",
      "metadata": {
        "id": "XAl2dP4O6YK0"
      },
      "source": [
        "# Testing\n",
        "# Restoring the latest checkpoint in checkpoint_dir\n",
        "print(\"[INF] Restoring last model\")\n",
        "status = checkpoint.restore(tf.train.latest_checkpoint(checkpoint_dir))"
      ],
      "execution_count": null,
      "outputs": []
    },
    {
      "cell_type": "code",
      "metadata": {
        "id": "K7W6m6LgWcod"
      },
      "source": [
        "from testing_utils import predict_from_batch\n",
        "\n",
        "# Qualitative testing\n",
        "qualitative = True\n",
        "if qualitative==True:\n",
        "    print(\"[INF] Qualitative testing\")\n",
        "    for i in range(10):\n",
        "        batch = get_testing_batch_synthec(test_data,dataset_dir+dataset_names[idTest])\n",
        "        traj_obs,traj_gt,traj_pred,neighbors,__ = predict_from_batch(tj_enc_dec,batch,model_parameters)\n",
        "\n",
        "        # Plots the trajectories\n",
        "        plt.figure(figsize=(10,10))\n",
        "        for j in range(len(traj_obs)):\n",
        "\n",
        "            obs = traj_obs[j] # Trajectories Obs\n",
        "            gt = np.vstack([traj_obs[j][-1], traj_gt[j]]) # Ground Thrue\n",
        "            pred = np.vstack([traj_obs[j][-1], traj_pred[j].numpy()[0]]) # Trajectories Pred\n",
        "\n",
        "            plt.plot(obs[:,0], obs[:,1],'r',label= 'Observations')\n",
        "            plt.plot(gt[:,0], gt[:,1],'b',label= 'Ground truth')\n",
        "            plt.plot(pred[:,0], pred[:,1],'g',label= 'Prediction')\n",
        "\n",
        "            # Axes\n",
        "            plt.xlim(-1.3,1.3)\n",
        "            plt.ylim(-1.15,1.15)\n",
        "        plt.legend(['Observations', 'Ground truth', 'Prediction'])\n",
        "        plt.show()"
      ],
      "execution_count": null,
      "outputs": []
    },
    {
      "cell_type": "markdown",
      "metadata": {
        "id": "EMF3hVwnmHHS"
      },
      "source": [
        "## Finally, Load Weights from Cyclical SG-MCMC"
      ]
    },
    {
      "cell_type": "code",
      "metadata": {
        "id": "PazbvsITp0lq"
      },
      "source": [
        "import pickle\n",
        "pickle_in = open('training_cSGMCMC_weights.pickle',\"rb\")\n",
        "weights = pickle.load(pickle_in)"
      ],
      "execution_count": null,
      "outputs": []
    },
    {
      "cell_type": "code",
      "metadata": {
        "id": "Knwto1F6Ruf9"
      },
      "source": [
        "len(weights)"
      ],
      "execution_count": null,
      "outputs": []
    },
    {
      "cell_type": "code",
      "metadata": {
        "id": "HZrxhkbESd01"
      },
      "source": [
        "for www in weights:\n",
        "    print(www[0], www[1][2][6])"
      ],
      "execution_count": null,
      "outputs": []
    },
    {
      "cell_type": "code",
      "metadata": {
        "id": "vFEykMmKBDsc"
      },
      "source": [
        "from matplotlib.lines import Line2D\n",
        "\n",
        "colores = [\"green\",\n",
        "           \"yellow\",\n",
        "           \"pink\",\n",
        "           \"purple\",\n",
        "           \"cyan\",\n",
        "           \"orange\",\n",
        "           \"olive\",\n",
        "           \"brown\",\n",
        "           \"grey\",\n",
        "           \"black\",\n",
        "           \"magenta\",\n",
        "           \"white\",\n",
        "           \"gold\",\n",
        "           \"lightcoral\",\n",
        "           \"darkred\",\n",
        "           \"hotpink\",\n",
        "           \"chocolate\",\n",
        "           \"lightgray\",\n",
        "           \"palegreen\"\n",
        "          ]\n",
        "\n",
        "custom_lines = [Line2D([0],[0],color=\"purple\",marker=\"s\", markersize=7, linestyle=\"\"),\n",
        "                    Line2D([0],[0],color=\"red\",lw=2),\n",
        "                    Line2D([0],[0],color=\"blue\",lw=2),\n",
        "                    Line2D([0],[0],color=\"green\",lw=2),\n",
        "                    \n",
        "                    Line2D([0],[0],color=\"yellow\",lw=2),\n",
        "                    Line2D([0],[0],color=\"pink\",lw=2),\n",
        "                    Line2D([0],[0],color=\"purple\",lw=2),\n",
        "                    Line2D([0],[0],color=\"cyan\",lw=2),\n",
        "                    Line2D([0],[0],color=\"orange\",lw=2),\n",
        "                    Line2D([0],[0],color=\"olive\",lw=2),\n",
        "                    Line2D([0],[0],color=\"brown\",lw=2)\n",
        "                   ]"
      ],
      "execution_count": null,
      "outputs": []
    },
    {
      "cell_type": "code",
      "metadata": {
        "id": "ffoiAMxY6YK2"
      },
      "source": [
        "from plot_utils import plot_gt_preds, plot_background, plot_neighbors, plot_attention\n",
        "from batches_data import get_batch\n",
        "from traj_utils import relative_to_abs\n",
        "\n",
        "#from testing_utils import compute_kde_nll2\n",
        "\n",
        "# Qualitative testing\n",
        "num_print_test = 30\n",
        "model_parameters.output_var_dirs= 0\n",
        "qualitative = True\n",
        "if qualitative==True:\n",
        "    print(\"[INF] Qualitative testing\")\n",
        "    for it in range(num_print_test):\n",
        "        batch = get_testing_batch_synthec(test_data,dataset_dir+dataset_names[idTest])\n",
        "        print(\"batch: \", batch['obs_traj'].shape)\n",
        "        \n",
        "        # Plot ground truth and predictions\n",
        "        plt.subplots(1,1,figsize=(10,10))\n",
        "        ax = plt.subplot(1,1,1)\n",
        "\n",
        "        #-----------------------------------------------------------------------\n",
        "        batch_inputs, batch_targets = get_batch(batch, model_parameters)\n",
        "\n",
        "        # Iterate the diference weights for the model\n",
        "        cont = 0\n",
        "        for w_ind, weight in weights:\n",
        "          # Perform prediction\n",
        "          pred_traj, _ = tj_enc_dec.predict_cSGMCMC(batch_inputs,batch_targets.shape[1],weight)\n",
        "\n",
        "          traj_obs      = []\n",
        "          traj_gt       = []\n",
        "          traj_pred     = []\n",
        "          neighbors     = []\n",
        "          # Cycle over the trajectories of the bach\n",
        "          for i, (obs_traj_gt, pred_traj_gt, neighbors_gt) in enumerate(zip(batch[\"obs_traj\"], batch[\"pred_traj\"], batch[\"obs_neighbors\"])):\n",
        "              this_pred_out_abs_set = []\n",
        "\n",
        "              if (pred_traj[i,0].shape[0] == model_parameters.pred_len):\n",
        "                  this_pred_out     = pred_traj[i,0,:, :2]\n",
        "                  # Convert it to absolute (starting from the last observed position)\n",
        "                  this_pred_out_abs = relative_to_abs(this_pred_out, obs_traj_gt[-1])\n",
        "                  this_pred_out_abs_set.append(this_pred_out_abs)\n",
        "               #   print(\"this_pred_out_abs: \", this_pred_out_abs.shape)\n",
        "              this_pred_out_abs_set = tf.stack(this_pred_out_abs_set,axis=0)\n",
        "              # TODO: tensors instead of lists?\n",
        "              # Keep all the trajectories\n",
        "              traj_obs.append(obs_traj_gt)\n",
        "              traj_gt.append(pred_traj_gt)\n",
        "              traj_pred.append(this_pred_out_abs_set)\n",
        "              neighbors.append(neighbors_gt)\n",
        "\n",
        "          #-----------------------------------------------------------------------\n",
        "          # Plot ground truth and predictions\n",
        "          if cont == 0:\n",
        "            pred_out = np.array(traj_pred)\n",
        "          else:\n",
        "            pred_out = np.concatenate([pred_out, np.array(traj_pred)],axis=1)\n",
        "          cont += 1\n",
        "          obs = traj_obs[j] # Trajectories Obs\n",
        "          gt = np.vstack([traj_obs[j][-1], traj_gt[j]]) # Ground Thrue\n",
        "          pred = np.vstack([traj_obs[j][-1], traj_pred[j].numpy()[0]]) # Trajectories Pred\n",
        "\n",
        "          plt.plot(obs[:,0], obs[:,1],'r')\n",
        "          plt.plot(gt[:,0], gt[:,1],'b')\n",
        "          plt.plot(pred[:,0], pred[:,1],\"--\", label='Prediction C'+str(w_ind+1) , color=colores[int(w_ind)])\n",
        "\n",
        "          # Axes\n",
        "          plt.xlim(-1.3,1.3)\n",
        "          plt.ylim(-1.15,1.15)\n",
        "\n",
        "        legends = ['Prediction C'+str(ciclo+1) for ciclo in range(int(w_ind)+1)]\n",
        "        plt.legend(custom_lines,['Observations', 'Ground truth']+legends)\n",
        "        plt.savefig('images/temp_'+str(it)+'.pdf')\n",
        "        plt.show()\n",
        "\n",
        "#        kde_nll, timestep_kde_nll = compute_kde_nll2(pred_out, np.array(traj_gt))\n",
        "#        print(\"kde_nll: \", kde_nll)\n",
        "#        print(\"timestep_kde_nll: \", timestep_kde_nll)\n"
      ],
      "execution_count": null,
      "outputs": []
    },
    {
      "cell_type": "code",
      "metadata": {
        "id": "z13MaYiT26bu"
      },
      "source": [
        ""
      ],
      "execution_count": null,
      "outputs": []
    },
    {
      "cell_type": "code",
      "metadata": {
        "id": "n38rE4UKKOhC"
      },
      "source": [
        ""
      ],
      "execution_count": null,
      "outputs": []
    }
  ]
}